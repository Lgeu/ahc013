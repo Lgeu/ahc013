{
 "cells": [
  {
   "cell_type": "code",
   "execution_count": 1,
   "id": "62df670c",
   "metadata": {},
   "outputs": [],
   "source": [
    "import sys\n",
    "from pathlib import Path\n",
    "from threading import Thread\n",
    "from subprocess import Popen, PIPE\n",
    "from collections import defaultdict\n",
    "\n",
    "import numpy as np\n",
    "import pandas as pd"
   ]
  },
  {
   "cell_type": "code",
   "execution_count": 2,
   "id": "4e545584",
   "metadata": {},
   "outputs": [
    {
     "name": "stdout",
     "output_type": "stream",
     "text": [
      "2022-08-14T22:24:50.595949_6397.73_sa_5_0.5\r\n",
      "2022-08-14T22:27:21.957662_6670.33_sa_double_tl\r\n",
      "2022-08-14T22:41:23.433876_7152.92_sa_5x_tl\r\n"
     ]
    }
   ],
   "source": [
    "!ls ../out"
   ]
  },
  {
   "cell_type": "code",
   "execution_count": 3,
   "id": "35ca9a05",
   "metadata": {},
   "outputs": [],
   "source": [
    "scores = {}\n",
    "\n",
    "def read_stream(name, in_file, out_file):\n",
    "    for line in in_file:\n",
    "        #print(f\"[{name}] {line.strip()}\", file=out_file)\n",
    "        try:\n",
    "            scores[name] = int(line.strip().split()[-1])\n",
    "        except:\n",
    "            pass\n",
    "\n",
    "def run(cmd, name):\n",
    "    proc = Popen(cmd, stdout=PIPE, stderr=PIPE, universal_newlines=True, shell=True)\n",
    "    stdout_thread = Thread(target=read_stream, args=(name, proc.stdout, sys.stdout))\n",
    "    stderr_thread = Thread(target=read_stream, args=(name, proc.stderr, sys.stderr))\n",
    "    stdout_thread.start()\n",
    "    stderr_thread.start()\n",
    "    proc.wait()\n",
    "    return proc\n",
    "\n",
    "N = 100\n",
    "for out_dir in Path(\"../out\").iterdir():\n",
    "    for i in range(N):\n",
    "        out_file = out_dir / f\"{i:04d}.txt\"\n",
    "        cmd = f\"../tools/target/release/vis ../tools/in/{i:04d}.txt {out_file}\"\n",
    "        run(cmd, (out_dir, i))"
   ]
  },
  {
   "cell_type": "code",
   "execution_count": 4,
   "id": "e668e548",
   "metadata": {},
   "outputs": [],
   "source": [
    "dict_out_dir_to_scores = defaultdict(lambda: [0] * N)\n",
    "for (out_dir, i), score in scores.items():\n",
    "    dict_out_dir_to_scores[out_dir][i] = score"
   ]
  },
  {
   "cell_type": "code",
   "execution_count": 5,
   "id": "7dbf3231",
   "metadata": {},
   "outputs": [
    {
     "data": {
      "text/html": [
       "<div>\n",
       "<style scoped>\n",
       "    .dataframe tbody tr th:only-of-type {\n",
       "        vertical-align: middle;\n",
       "    }\n",
       "\n",
       "    .dataframe tbody tr th {\n",
       "        vertical-align: top;\n",
       "    }\n",
       "\n",
       "    .dataframe thead th {\n",
       "        text-align: right;\n",
       "    }\n",
       "</style>\n",
       "<table border=\"1\" class=\"dataframe\">\n",
       "  <thead>\n",
       "    <tr style=\"text-align: right;\">\n",
       "      <th></th>\n",
       "      <th>../out/2022-08-14T22:27:21.957662_6670.33_sa_double_tl</th>\n",
       "      <th>../out/2022-08-14T22:41:23.433876_7152.92_sa_5x_tl</th>\n",
       "      <th>../out/2022-08-14T22:24:50.595949_6397.73_sa_5_0.5</th>\n",
       "    </tr>\n",
       "  </thead>\n",
       "  <tbody>\n",
       "    <tr>\n",
       "      <th>../out/2022-08-14T22:27:21.957662_6670.33_sa_double_tl</th>\n",
       "      <td>1.000000</td>\n",
       "      <td>0.874795</td>\n",
       "      <td>0.929135</td>\n",
       "    </tr>\n",
       "    <tr>\n",
       "      <th>../out/2022-08-14T22:41:23.433876_7152.92_sa_5x_tl</th>\n",
       "      <td>0.874795</td>\n",
       "      <td>1.000000</td>\n",
       "      <td>0.873963</td>\n",
       "    </tr>\n",
       "    <tr>\n",
       "      <th>../out/2022-08-14T22:24:50.595949_6397.73_sa_5_0.5</th>\n",
       "      <td>0.929135</td>\n",
       "      <td>0.873963</td>\n",
       "      <td>1.000000</td>\n",
       "    </tr>\n",
       "  </tbody>\n",
       "</table>\n",
       "</div>"
      ],
      "text/plain": [
       "                                                    ../out/2022-08-14T22:27:21.957662_6670.33_sa_double_tl  \\\n",
       "../out/2022-08-14T22:27:21.957662_6670.33_sa_do...                                           1.000000        \n",
       "../out/2022-08-14T22:41:23.433876_7152.92_sa_5x_tl                                           0.874795        \n",
       "../out/2022-08-14T22:24:50.595949_6397.73_sa_5_0.5                                           0.929135        \n",
       "\n",
       "                                                    ../out/2022-08-14T22:41:23.433876_7152.92_sa_5x_tl  \\\n",
       "../out/2022-08-14T22:27:21.957662_6670.33_sa_do...                                           0.874795    \n",
       "../out/2022-08-14T22:41:23.433876_7152.92_sa_5x_tl                                           1.000000    \n",
       "../out/2022-08-14T22:24:50.595949_6397.73_sa_5_0.5                                           0.873963    \n",
       "\n",
       "                                                    ../out/2022-08-14T22:24:50.595949_6397.73_sa_5_0.5  \n",
       "../out/2022-08-14T22:27:21.957662_6670.33_sa_do...                                           0.929135   \n",
       "../out/2022-08-14T22:41:23.433876_7152.92_sa_5x_tl                                           0.873963   \n",
       "../out/2022-08-14T22:24:50.595949_6397.73_sa_5_0.5                                           1.000000   "
      ]
     },
     "execution_count": 5,
     "metadata": {},
     "output_type": "execute_result"
    }
   ],
   "source": [
    "df = pd.DataFrame(dict_out_dir_to_scores)\n",
    "df.corr()"
   ]
  },
  {
   "cell_type": "code",
   "execution_count": 6,
   "id": "37d0d9c4",
   "metadata": {},
   "outputs": [
    {
     "data": {
      "text/plain": [
       "array([1, 1, 1, 0, 1, 1, 1, 1, 0, 2, 1, 1, 1, 1, 1, 1, 1, 1, 1, 2, 1, 0,\n",
       "       1, 1, 1, 2, 1, 0, 0, 0, 1, 1, 1, 1, 1, 1, 2, 1, 0, 1, 0, 1, 1, 1,\n",
       "       1, 0, 1, 1, 1, 1, 1, 1, 1, 1, 1, 1, 1, 0, 0, 1, 0, 0, 1, 1, 0, 1,\n",
       "       0, 0, 1, 1, 1, 1, 1, 1, 0, 1, 1, 1, 1, 0, 1, 0, 1, 1, 1, 0, 1, 1,\n",
       "       1, 1, 0, 0, 0, 1, 0, 1, 1, 1, 0, 1])"
      ]
     },
     "execution_count": 6,
     "metadata": {},
     "output_type": "execute_result"
    }
   ],
   "source": [
    "df.values.argmax(1)"
   ]
  },
  {
   "cell_type": "code",
   "execution_count": 7,
   "id": "1e671a3e",
   "metadata": {},
   "outputs": [
    {
     "data": {
      "text/plain": [
       "array([25, 71,  4])"
      ]
     },
     "execution_count": 7,
     "metadata": {},
     "output_type": "execute_result"
    }
   ],
   "source": [
    "np.bincount(df.values.argmax(1))"
   ]
  },
  {
   "cell_type": "code",
   "execution_count": 8,
   "id": "679ed084",
   "metadata": {},
   "outputs": [
    {
     "data": {
      "text/plain": [
       "Index([../out/2022-08-14T22:27:21.957662_6670.33_sa_double_tl,\n",
       "           ../out/2022-08-14T22:41:23.433876_7152.92_sa_5x_tl,\n",
       "           ../out/2022-08-14T22:24:50.595949_6397.73_sa_5_0.5],\n",
       "      dtype='object')"
      ]
     },
     "execution_count": 8,
     "metadata": {},
     "output_type": "execute_result"
    }
   ],
   "source": [
    "df.columns"
   ]
  },
  {
   "cell_type": "code",
   "execution_count": null,
   "id": "71fce1f0",
   "metadata": {},
   "outputs": [],
   "source": []
  }
 ],
 "metadata": {
  "kernelspec": {
   "display_name": "Python 3",
   "language": "python",
   "name": "python3"
  },
  "language_info": {
   "codemirror_mode": {
    "name": "ipython",
    "version": 3
   },
   "file_extension": ".py",
   "mimetype": "text/x-python",
   "name": "python",
   "nbconvert_exporter": "python",
   "pygments_lexer": "ipython3",
   "version": "3.8.8"
  }
 },
 "nbformat": 4,
 "nbformat_minor": 5
}
