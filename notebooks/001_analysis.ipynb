{
 "cells": [
  {
   "cell_type": "code",
   "execution_count": 1,
   "id": "62df670c",
   "metadata": {},
   "outputs": [],
   "source": [
    "import sys\n",
    "from pathlib import Path\n",
    "from threading import Thread\n",
    "from subprocess import Popen, PIPE\n",
    "from collections import defaultdict\n",
    "\n",
    "import numpy as np\n",
    "import pandas as pd"
   ]
  },
  {
   "cell_type": "code",
   "execution_count": 2,
   "id": "4e545584",
   "metadata": {},
   "outputs": [
    {
     "name": "stdout",
     "output_type": "stream",
     "text": [
      "2022-08-14T22:24:50.595949_6397.73_sa_5_0.5\r\n",
      "2022-08-14T22:27:21.957662_6670.33_sa_double_tl\r\n",
      "2022-08-14T22:41:23.433876_7152.92_sa_5x_tl\r\n",
      "2022-08-15T07:28:46.169766_6590.63_radius3\r\n",
      "2022-08-15T11:57:10.287165_7293.30_5x_tl\r\n",
      "2022-08-15T12:12:25.968346_4774.42_5x_tl_debug\r\n",
      "2022-08-15T20:06:16.422917_6690.59_erase2\r\n",
      "2022-08-15T20:17:02.557507_6757.84_gcc\r\n",
      "2022-08-16T00:24:18.000224_6831.50_attraction\r\n",
      "2022-08-16T02:04:03.826319_6613.95_juggernaut\r\n"
     ]
    }
   ],
   "source": [
    "!ls ../out"
   ]
  },
  {
   "cell_type": "code",
   "execution_count": 3,
   "id": "35ca9a05",
   "metadata": {},
   "outputs": [],
   "source": [
    "scores = {}\n",
    "\n",
    "def read_stream(name, in_file, out_file):\n",
    "    for line in in_file:\n",
    "        #print(f\"[{name}] {line.strip()}\", file=out_file)\n",
    "        try:\n",
    "            scores[name] = int(line.strip().split()[-1])\n",
    "        except:\n",
    "            pass\n",
    "\n",
    "def run(cmd, name):\n",
    "    proc = Popen(cmd, stdout=PIPE, stderr=PIPE, universal_newlines=True, shell=True)\n",
    "    stdout_thread = Thread(target=read_stream, args=(name, proc.stdout, sys.stdout))\n",
    "    stderr_thread = Thread(target=read_stream, args=(name, proc.stderr, sys.stderr))\n",
    "    stdout_thread.start()\n",
    "    stderr_thread.start()\n",
    "    proc.wait()\n",
    "    return proc\n",
    "\n",
    "N = 100\n",
    "for out_dir in sorted(Path(\"../out\").iterdir()):\n",
    "    for i in range(N):\n",
    "        out_file = out_dir / f\"{i:04d}.txt\"\n",
    "        cmd = f\"../tools/target/release/vis ../tools/in/{i:04d}.txt {out_file}\"\n",
    "        name = out_dir.name[out_dir.name.index(\"_\") + 9:]\n",
    "        run(cmd, (name, i))"
   ]
  },
  {
   "cell_type": "code",
   "execution_count": 4,
   "id": "e668e548",
   "metadata": {},
   "outputs": [],
   "source": [
    "dict_out_dir_to_scores = defaultdict(lambda: [0] * N)\n",
    "for (out_dir, i), score in scores.items():\n",
    "    dict_out_dir_to_scores[out_dir][i] = score"
   ]
  },
  {
   "cell_type": "code",
   "execution_count": 5,
   "id": "7dbf3231",
   "metadata": {},
   "outputs": [
    {
     "data": {
      "text/html": [
       "<div>\n",
       "<style scoped>\n",
       "    .dataframe tbody tr th:only-of-type {\n",
       "        vertical-align: middle;\n",
       "    }\n",
       "\n",
       "    .dataframe tbody tr th {\n",
       "        vertical-align: top;\n",
       "    }\n",
       "\n",
       "    .dataframe thead th {\n",
       "        text-align: right;\n",
       "    }\n",
       "</style>\n",
       "<table border=\"1\" class=\"dataframe\">\n",
       "  <thead>\n",
       "    <tr style=\"text-align: right;\">\n",
       "      <th></th>\n",
       "      <th>radius3</th>\n",
       "      <th>erase2</th>\n",
       "      <th>gcc</th>\n",
       "      <th>attraction</th>\n",
       "      <th>juggernaut</th>\n",
       "    </tr>\n",
       "  </thead>\n",
       "  <tbody>\n",
       "    <tr>\n",
       "      <th>radius3</th>\n",
       "      <td>1.000000</td>\n",
       "      <td>0.845305</td>\n",
       "      <td>0.828297</td>\n",
       "      <td>0.826099</td>\n",
       "      <td>0.856895</td>\n",
       "    </tr>\n",
       "    <tr>\n",
       "      <th>erase2</th>\n",
       "      <td>0.845305</td>\n",
       "      <td>1.000000</td>\n",
       "      <td>0.931954</td>\n",
       "      <td>0.872396</td>\n",
       "      <td>0.862885</td>\n",
       "    </tr>\n",
       "    <tr>\n",
       "      <th>gcc</th>\n",
       "      <td>0.828297</td>\n",
       "      <td>0.931954</td>\n",
       "      <td>1.000000</td>\n",
       "      <td>0.873411</td>\n",
       "      <td>0.854806</td>\n",
       "    </tr>\n",
       "    <tr>\n",
       "      <th>attraction</th>\n",
       "      <td>0.826099</td>\n",
       "      <td>0.872396</td>\n",
       "      <td>0.873411</td>\n",
       "      <td>1.000000</td>\n",
       "      <td>0.854852</td>\n",
       "    </tr>\n",
       "    <tr>\n",
       "      <th>juggernaut</th>\n",
       "      <td>0.856895</td>\n",
       "      <td>0.862885</td>\n",
       "      <td>0.854806</td>\n",
       "      <td>0.854852</td>\n",
       "      <td>1.000000</td>\n",
       "    </tr>\n",
       "  </tbody>\n",
       "</table>\n",
       "</div>"
      ],
      "text/plain": [
       "             radius3    erase2       gcc  attraction  juggernaut\n",
       "radius3     1.000000  0.845305  0.828297    0.826099    0.856895\n",
       "erase2      0.845305  1.000000  0.931954    0.872396    0.862885\n",
       "gcc         0.828297  0.931954  1.000000    0.873411    0.854806\n",
       "attraction  0.826099  0.872396  0.873411    1.000000    0.854852\n",
       "juggernaut  0.856895  0.862885  0.854806    0.854852    1.000000"
      ]
     },
     "execution_count": 5,
     "metadata": {},
     "output_type": "execute_result"
    }
   ],
   "source": [
    "columns = [\"radius3\", \"erase2\", \"gcc\", \"attraction\", \"juggernaut\"]\n",
    "df = pd.DataFrame(dict_out_dir_to_scores)[columns]\n",
    "df.corr()"
   ]
  },
  {
   "cell_type": "code",
   "execution_count": 6,
   "id": "37d0d9c4",
   "metadata": {},
   "outputs": [
    {
     "data": {
      "text/plain": [
       "array([3, 1, 3, 4, 2, 2, 2, 2, 4, 2, 4, 2, 3, 2, 3, 3, 3, 3, 4, 4, 0, 0,\n",
       "       1, 3, 2, 3, 0, 3, 0, 0, 0, 3, 3, 2, 1, 3, 3, 0, 2, 1, 0, 4, 1, 3,\n",
       "       3, 3, 0, 2, 3, 0, 4, 3, 2, 2, 0, 3, 2, 2, 3, 0, 1, 0, 4, 4, 3, 4,\n",
       "       1, 0, 1, 4, 3, 4, 1, 4, 4, 2, 2, 1, 4, 0, 2, 1, 1, 2, 3, 0, 1, 2,\n",
       "       2, 4, 2, 2, 3, 2, 0, 0, 2, 3, 3, 3])"
      ]
     },
     "execution_count": 6,
     "metadata": {},
     "output_type": "execute_result"
    }
   ],
   "source": [
    "df.values.argmax(1)"
   ]
  },
  {
   "cell_type": "code",
   "execution_count": 7,
   "id": "1e671a3e",
   "metadata": {},
   "outputs": [
    {
     "data": {
      "text/plain": [
       "array([18, 13, 25, 28, 16])"
      ]
     },
     "execution_count": 7,
     "metadata": {},
     "output_type": "execute_result"
    }
   ],
   "source": [
    "np.bincount(df.values.argmax(1))"
   ]
  },
  {
   "cell_type": "code",
   "execution_count": 8,
   "id": "679ed084",
   "metadata": {},
   "outputs": [],
   "source": [
    "ns = []\n",
    "ks = []\n",
    "for i in range(N):\n",
    "    cmd = f\"head -n 1 ../tools/in/{i:04d}.txt\"\n",
    "    nk = !{cmd}\n",
    "    n, k = map(int, nk[0].split())\n",
    "    ns.append(n)\n",
    "    ks.append(k)\n",
    "df[\"n\"] = ns\n",
    "df[\"k\"] = ks"
   ]
  },
  {
   "cell_type": "code",
   "execution_count": 9,
   "id": "1a5e326e",
   "metadata": {},
   "outputs": [
    {
     "data": {
      "text/plain": [
       "radius3       6590.63\n",
       "erase2        6690.59\n",
       "gcc           6757.84\n",
       "attraction    6831.50\n",
       "juggernaut    6613.95\n",
       "n               30.45\n",
       "k                3.50\n",
       "dtype: float64"
      ]
     },
     "execution_count": 9,
     "metadata": {},
     "output_type": "execute_result"
    }
   ],
   "source": [
    "df.mean()"
   ]
  },
  {
   "cell_type": "code",
   "execution_count": 10,
   "id": "9636e888",
   "metadata": {},
   "outputs": [
    {
     "data": {
      "text/html": [
       "<style  type=\"text/css\" >\n",
       "#T_bc12e_row0_col0{\n",
       "            background-color:  #fff0a8;\n",
       "            color:  #000000;\n",
       "        }#T_bc12e_row0_col1{\n",
       "            background-color:  #ffe590;\n",
       "            color:  #000000;\n",
       "        }#T_bc12e_row0_col2,#T_bc12e_row1_col3,#T_bc12e_row2_col3,#T_bc12e_row3_col3{\n",
       "            background-color:  #800026;\n",
       "            color:  #f1f1f1;\n",
       "        }#T_bc12e_row0_col3{\n",
       "            background-color:  #950026;\n",
       "            color:  #f1f1f1;\n",
       "        }#T_bc12e_row0_col4,#T_bc12e_row1_col0,#T_bc12e_row2_col0,#T_bc12e_row3_col4{\n",
       "            background-color:  #ffffcc;\n",
       "            color:  #000000;\n",
       "        }#T_bc12e_row1_col1{\n",
       "            background-color:  #a60026;\n",
       "            color:  #f1f1f1;\n",
       "        }#T_bc12e_row1_col2{\n",
       "            background-color:  #ae0026;\n",
       "            color:  #f1f1f1;\n",
       "        }#T_bc12e_row1_col4{\n",
       "            background-color:  #feca66;\n",
       "            color:  #000000;\n",
       "        }#T_bc12e_row2_col1{\n",
       "            background-color:  #ed2e21;\n",
       "            color:  #f1f1f1;\n",
       "        }#T_bc12e_row2_col2{\n",
       "            background-color:  #fd913e;\n",
       "            color:  #000000;\n",
       "        }#T_bc12e_row2_col4{\n",
       "            background-color:  #c00225;\n",
       "            color:  #f1f1f1;\n",
       "        }#T_bc12e_row3_col0{\n",
       "            background-color:  #fea647;\n",
       "            color:  #000000;\n",
       "        }#T_bc12e_row3_col1{\n",
       "            background-color:  #febb56;\n",
       "            color:  #000000;\n",
       "        }#T_bc12e_row3_col2{\n",
       "            background-color:  #f84528;\n",
       "            color:  #000000;\n",
       "        }</style><table id=\"T_bc12e_\" ><thead>    <tr>        <th class=\"blank level0\" ></th>        <th class=\"col_heading level0 col0\" >radius3</th>        <th class=\"col_heading level0 col1\" >erase2</th>        <th class=\"col_heading level0 col2\" >gcc</th>        <th class=\"col_heading level0 col3\" >attraction</th>        <th class=\"col_heading level0 col4\" >juggernaut</th>    </tr>    <tr>        <th class=\"index_name level0\" >k</th>        <th class=\"blank\" ></th>        <th class=\"blank\" ></th>        <th class=\"blank\" ></th>        <th class=\"blank\" ></th>        <th class=\"blank\" ></th>    </tr></thead><tbody>\n",
       "                <tr>\n",
       "                        <th id=\"T_bc12e_level0_row0\" class=\"row_heading level0 row0\" >2</th>\n",
       "                        <td id=\"T_bc12e_row0_col0\" class=\"data row0 col0\" >6255.800000</td>\n",
       "                        <td id=\"T_bc12e_row0_col1\" class=\"data row0 col1\" >6273.520000</td>\n",
       "                        <td id=\"T_bc12e_row0_col2\" class=\"data row0 col2\" >6472.840000</td>\n",
       "                        <td id=\"T_bc12e_row0_col3\" class=\"data row0 col3\" >6462.360000</td>\n",
       "                        <td id=\"T_bc12e_row0_col4\" class=\"data row0 col4\" >6231.200000</td>\n",
       "            </tr>\n",
       "            <tr>\n",
       "                        <th id=\"T_bc12e_level0_row1\" class=\"row_heading level0 row1\" >3</th>\n",
       "                        <td id=\"T_bc12e_row1_col0\" class=\"data row1 col0\" >6841.880000</td>\n",
       "                        <td id=\"T_bc12e_row1_col1\" class=\"data row1 col1\" >7076.200000</td>\n",
       "                        <td id=\"T_bc12e_row1_col2\" class=\"data row1 col2\" >7072.080000</td>\n",
       "                        <td id=\"T_bc12e_row1_col3\" class=\"data row1 col3\" >7096.360000</td>\n",
       "                        <td id=\"T_bc12e_row1_col4\" class=\"data row1 col4\" >6918.320000</td>\n",
       "            </tr>\n",
       "            <tr>\n",
       "                        <th id=\"T_bc12e_level0_row2\" class=\"row_heading level0 row2\" >4</th>\n",
       "                        <td id=\"T_bc12e_row2_col0\" class=\"data row2 col0\" >6775.360000</td>\n",
       "                        <td id=\"T_bc12e_row2_col1\" class=\"data row2 col1\" >6952.880000</td>\n",
       "                        <td id=\"T_bc12e_row2_col2\" class=\"data row2 col2\" >6898.600000</td>\n",
       "                        <td id=\"T_bc12e_row2_col3\" class=\"data row2 col3\" >7028.080000</td>\n",
       "                        <td id=\"T_bc12e_row2_col4\" class=\"data row2 col4\" >6994.160000</td>\n",
       "            </tr>\n",
       "            <tr>\n",
       "                        <th id=\"T_bc12e_level0_row3\" class=\"row_heading level0 row3\" >5</th>\n",
       "                        <td id=\"T_bc12e_row3_col0\" class=\"data row3 col0\" >6489.480000</td>\n",
       "                        <td id=\"T_bc12e_row3_col1\" class=\"data row3 col1\" >6459.760000</td>\n",
       "                        <td id=\"T_bc12e_row3_col2\" class=\"data row3 col2\" >6587.840000</td>\n",
       "                        <td id=\"T_bc12e_row3_col3\" class=\"data row3 col3\" >6739.200000</td>\n",
       "                        <td id=\"T_bc12e_row3_col4\" class=\"data row3 col4\" >6312.120000</td>\n",
       "            </tr>\n",
       "    </tbody></table>"
      ],
      "text/plain": [
       "<pandas.io.formats.style.Styler at 0x7f7d161f5f70>"
      ]
     },
     "execution_count": 10,
     "metadata": {},
     "output_type": "execute_result"
    }
   ],
   "source": [
    "df.groupby(\"k\").mean()[columns].style.background_gradient(cmap=\"YlOrRd\", axis=1)"
   ]
  },
  {
   "cell_type": "code",
   "execution_count": 11,
   "id": "e9fede3c",
   "metadata": {},
   "outputs": [
    {
     "data": {
      "text/html": [
       "<style  type=\"text/css\" >\n",
       "#T_eee67_row0_col0,#T_eee67_row1_col0,#T_eee67_row2_col0,#T_eee67_row3_col1,#T_eee67_row4_col4{\n",
       "            background-color:  #ffffcc;\n",
       "            color:  #000000;\n",
       "        }#T_eee67_row0_col1{\n",
       "            background-color:  #ce0c22;\n",
       "            color:  #f1f1f1;\n",
       "        }#T_eee67_row0_col2,#T_eee67_row1_col2,#T_eee67_row2_col3,#T_eee67_row3_col3,#T_eee67_row4_col0,#T_eee67_row4_col3{\n",
       "            background-color:  #800026;\n",
       "            color:  #f1f1f1;\n",
       "        }#T_eee67_row0_col3{\n",
       "            background-color:  #fed470;\n",
       "            color:  #000000;\n",
       "        }#T_eee67_row0_col4{\n",
       "            background-color:  #fd9d43;\n",
       "            color:  #000000;\n",
       "        }#T_eee67_row1_col1{\n",
       "            background-color:  #c30424;\n",
       "            color:  #f1f1f1;\n",
       "        }#T_eee67_row1_col3{\n",
       "            background-color:  #950026;\n",
       "            color:  #f1f1f1;\n",
       "        }#T_eee67_row1_col4{\n",
       "            background-color:  #fed36f;\n",
       "            color:  #000000;\n",
       "        }#T_eee67_row2_col1{\n",
       "            background-color:  #fec965;\n",
       "            color:  #000000;\n",
       "        }#T_eee67_row2_col2{\n",
       "            background-color:  #fd933f;\n",
       "            color:  #000000;\n",
       "        }#T_eee67_row2_col4{\n",
       "            background-color:  #db141e;\n",
       "            color:  #f1f1f1;\n",
       "        }#T_eee67_row3_col0{\n",
       "            background-color:  #fec15d;\n",
       "            color:  #000000;\n",
       "        }#T_eee67_row3_col2{\n",
       "            background-color:  #fecf6b;\n",
       "            color:  #000000;\n",
       "        }#T_eee67_row3_col4{\n",
       "            background-color:  #ffe48d;\n",
       "            color:  #000000;\n",
       "        }#T_eee67_row4_col1{\n",
       "            background-color:  #cb0a22;\n",
       "            color:  #f1f1f1;\n",
       "        }#T_eee67_row4_col2{\n",
       "            background-color:  #8b0026;\n",
       "            color:  #f1f1f1;\n",
       "        }</style><table id=\"T_eee67_\" ><thead>    <tr>        <th class=\"blank level0\" ></th>        <th class=\"col_heading level0 col0\" >radius3</th>        <th class=\"col_heading level0 col1\" >erase2</th>        <th class=\"col_heading level0 col2\" >gcc</th>        <th class=\"col_heading level0 col3\" >attraction</th>        <th class=\"col_heading level0 col4\" >juggernaut</th>    </tr>    <tr>        <th class=\"index_name level0\" >knn_bin</th>        <th class=\"blank\" ></th>        <th class=\"blank\" ></th>        <th class=\"blank\" ></th>        <th class=\"blank\" ></th>        <th class=\"blank\" ></th>    </tr></thead><tbody>\n",
       "                <tr>\n",
       "                        <th id=\"T_eee67_level0_row0\" class=\"row_heading level0 row0\" >(0.13, 0.238]</th>\n",
       "                        <td id=\"T_eee67_row0_col0\" class=\"data row0 col0\" >6924.150000</td>\n",
       "                        <td id=\"T_eee67_row0_col1\" class=\"data row0 col1\" >7050.000000</td>\n",
       "                        <td id=\"T_eee67_row0_col2\" class=\"data row0 col2\" >7077.600000</td>\n",
       "                        <td id=\"T_eee67_row0_col3\" class=\"data row0 col3\" >6965.200000</td>\n",
       "                        <td id=\"T_eee67_row0_col4\" class=\"data row0 col4\" >6992.650000</td>\n",
       "            </tr>\n",
       "            <tr>\n",
       "                        <th id=\"T_eee67_level0_row1\" class=\"row_heading level0 row1\" >(0.238, 0.322]</th>\n",
       "                        <td id=\"T_eee67_row1_col0\" class=\"data row1 col0\" >7162.150000</td>\n",
       "                        <td id=\"T_eee67_row1_col1\" class=\"data row1 col1\" >7546.050000</td>\n",
       "                        <td id=\"T_eee67_row1_col2\" class=\"data row1 col2\" >7611.600000</td>\n",
       "                        <td id=\"T_eee67_row1_col3\" class=\"data row1 col3\" >7592.100000</td>\n",
       "                        <td id=\"T_eee67_row1_col4\" class=\"data row1 col4\" >7283.850000</td>\n",
       "            </tr>\n",
       "            <tr>\n",
       "                        <th id=\"T_eee67_level0_row2\" class=\"row_heading level0 row2\" >(0.322, 0.448]</th>\n",
       "                        <td id=\"T_eee67_row2_col0\" class=\"data row2 col0\" >7024.550000</td>\n",
       "                        <td id=\"T_eee67_row2_col1\" class=\"data row2 col1\" >7187.950000</td>\n",
       "                        <td id=\"T_eee67_row2_col2\" class=\"data row2 col2\" >7281.050000</td>\n",
       "                        <td id=\"T_eee67_row2_col3\" class=\"data row2 col3\" >7561.900000</td>\n",
       "                        <td id=\"T_eee67_row2_col4\" class=\"data row2 col4\" >7440.900000</td>\n",
       "            </tr>\n",
       "            <tr>\n",
       "                        <th id=\"T_eee67_level0_row3\" class=\"row_heading level0 row3\" >(0.448, 0.62]</th>\n",
       "                        <td id=\"T_eee67_row3_col0\" class=\"data row3 col0\" >6900.809524</td>\n",
       "                        <td id=\"T_eee67_row3_col1\" class=\"data row3 col1\" >6810.095238</td>\n",
       "                        <td id=\"T_eee67_row3_col2\" class=\"data row3 col2\" >6889.428571</td>\n",
       "                        <td id=\"T_eee67_row3_col3\" class=\"data row3 col3\" >7088.857143</td>\n",
       "                        <td id=\"T_eee67_row3_col4\" class=\"data row3 col4\" >6860.428571</td>\n",
       "            </tr>\n",
       "            <tr>\n",
       "                        <th id=\"T_eee67_level0_row4\" class=\"row_heading level0 row4\" >(0.62, 0.926]</th>\n",
       "                        <td id=\"T_eee67_row4_col0\" class=\"data row4 col0\" >4838.368421</td>\n",
       "                        <td id=\"T_eee67_row4_col1\" class=\"data row4 col1\" >4756.157895</td>\n",
       "                        <td id=\"T_eee67_row4_col2\" class=\"data row4 col2\" >4826.368421</td>\n",
       "                        <td id=\"T_eee67_row4_col3\" class=\"data row4 col3\" >4836.842105</td>\n",
       "                        <td id=\"T_eee67_row4_col4\" class=\"data row4 col4\" >4367.263158</td>\n",
       "            </tr>\n",
       "    </tbody></table>"
      ],
      "text/plain": [
       "<pandas.io.formats.style.Styler at 0x7f7d2c937a90>"
      ]
     },
     "execution_count": 11,
     "metadata": {},
     "output_type": "execute_result"
    }
   ],
   "source": [
    "df[\"knn\"] = 100 * df[\"k\"] / (df[\"n\"] * df[\"n\"])\n",
    "df[\"knn_bin\"] = pd.qcut(df[\"knn\"], 5)\n",
    "df.groupby(\"knn_bin\").mean()[columns].style.background_gradient(cmap=\"YlOrRd\", axis=1)"
   ]
  },
  {
   "cell_type": "code",
   "execution_count": null,
   "id": "3e8cf51e",
   "metadata": {},
   "outputs": [],
   "source": []
  }
 ],
 "metadata": {
  "kernelspec": {
   "display_name": "Python 3",
   "language": "python",
   "name": "python3"
  },
  "language_info": {
   "codemirror_mode": {
    "name": "ipython",
    "version": 3
   },
   "file_extension": ".py",
   "mimetype": "text/x-python",
   "name": "python",
   "nbconvert_exporter": "python",
   "pygments_lexer": "ipython3",
   "version": "3.8.8"
  }
 },
 "nbformat": 4,
 "nbformat_minor": 5
}
