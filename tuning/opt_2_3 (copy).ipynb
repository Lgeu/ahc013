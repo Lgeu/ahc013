{
 "cells": [
  {
   "cell_type": "code",
   "execution_count": 1,
   "id": "25a1dac8",
   "metadata": {},
   "outputs": [],
   "source": [
    "import re\n",
    "import sys\n",
    "from uuid import uuid1\n",
    "from time import sleep\n",
    "from pprint import pprint\n",
    "from pathlib import Path\n",
    "from tempfile import gettempdir\n",
    "from threading import Thread\n",
    "from functools import partial\n",
    "from subprocess import Popen, PIPE\n",
    "\n",
    "from tqdm.notebook import tqdm\n",
    "import numpy as np\n",
    "import optuna\n",
    "import pandas as pd\n",
    "import matplotlib.pyplot as plt\n",
    "\n",
    "FILENAME = \"main.cpp\""
   ]
  },
  {
   "cell_type": "code",
   "execution_count": 2,
   "id": "3dd4d02e",
   "metadata": {},
   "outputs": [
    {
     "name": "stdout",
     "output_type": "stream",
     "text": [
      "10 variables were found.\n"
     ]
    },
    {
     "data": {
      "text/html": [
       "<div>\n",
       "<style scoped>\n",
       "    .dataframe tbody tr th:only-of-type {\n",
       "        vertical-align: middle;\n",
       "    }\n",
       "\n",
       "    .dataframe tbody tr th {\n",
       "        vertical-align: top;\n",
       "    }\n",
       "\n",
       "    .dataframe thead th {\n",
       "        text-align: right;\n",
       "    }\n",
       "</style>\n",
       "<table border=\"1\" class=\"dataframe\">\n",
       "  <thead>\n",
       "    <tr style=\"text-align: right;\">\n",
       "      <th></th>\n",
       "      <th>name</th>\n",
       "      <th>method</th>\n",
       "      <th>min</th>\n",
       "      <th>max</th>\n",
       "      <th>log</th>\n",
       "      <th>left</th>\n",
       "      <th>right</th>\n",
       "    </tr>\n",
       "  </thead>\n",
       "  <tbody>\n",
       "    <tr>\n",
       "      <th>0</th>\n",
       "      <td>kErase</td>\n",
       "      <td>suggest_int</td>\n",
       "      <td>1.000</td>\n",
       "      <td>5.0</td>\n",
       "      <td>False</td>\n",
       "      <td>static constexpr auto kErase =</td>\n",
       "      <td>;             // OPTIMIZE [1, 5]</td>\n",
       "    </tr>\n",
       "    <tr>\n",
       "      <th>1</th>\n",
       "      <td>kRadius</td>\n",
       "      <td>suggest_int</td>\n",
       "      <td>2.000</td>\n",
       "      <td>6.0</td>\n",
       "      <td>False</td>\n",
       "      <td>static constexpr auto kRadius =</td>\n",
       "      <td>;            // OPTIMIZE [2, 6]</td>\n",
       "    </tr>\n",
       "    <tr>\n",
       "      <th>2</th>\n",
       "      <td>kAnnealingA</td>\n",
       "      <td>suggest_float</td>\n",
       "      <td>-15.000</td>\n",
       "      <td>15.0</td>\n",
       "      <td>False</td>\n",
       "      <td>static constexpr auto kAnnealingA =</td>\n",
       "      <td>;      // OPTIMIZE [-15.0, 15.0]</td>\n",
       "    </tr>\n",
       "    <tr>\n",
       "      <th>3</th>\n",
       "      <td>kAnnealingB</td>\n",
       "      <td>suggest_float</td>\n",
       "      <td>0.000</td>\n",
       "      <td>3.0</td>\n",
       "      <td>False</td>\n",
       "      <td>static constexpr auto kAnnealingB =</td>\n",
       "      <td>;      // OPTIMIZE [0.0, 3.0]</td>\n",
       "    </tr>\n",
       "    <tr>\n",
       "      <th>4</th>\n",
       "      <td>kAnnealingStart</td>\n",
       "      <td>suggest_float</td>\n",
       "      <td>1.000</td>\n",
       "      <td>100.0</td>\n",
       "      <td>True</td>\n",
       "      <td>static constexpr auto kAnnealingStart =</td>\n",
       "      <td>; // OPTIMIZE LOG [1.0, 100.0]</td>\n",
       "    </tr>\n",
       "    <tr>\n",
       "      <th>5</th>\n",
       "      <td>kSkipRatio</td>\n",
       "      <td>suggest_float</td>\n",
       "      <td>0.200</td>\n",
       "      <td>0.8</td>\n",
       "      <td>False</td>\n",
       "      <td>static constexpr auto kSkipRatio =</td>\n",
       "      <td>;       // OPTIMIZE [0.2, 0.8]</td>\n",
       "    </tr>\n",
       "    <tr>\n",
       "      <th>6</th>\n",
       "      <td>kTargetDeterminationTrials</td>\n",
       "      <td>suggest_int</td>\n",
       "      <td>1.000</td>\n",
       "      <td>20.0</td>\n",
       "      <td>True</td>\n",
       "      <td>static constexpr auto kTargetDeterminationTria...</td>\n",
       "      <td>; // OPTIMIZE LOG [1, 20]</td>\n",
       "    </tr>\n",
       "    <tr>\n",
       "      <th>7</th>\n",
       "      <td>kAttractionRatio</td>\n",
       "      <td>suggest_float</td>\n",
       "      <td>0.010</td>\n",
       "      <td>0.9</td>\n",
       "      <td>True</td>\n",
       "      <td>static constexpr auto kAttractionRatio =</td>\n",
       "      <td>;      // OPTIMIZE LOG [0.01, 0.9]</td>\n",
       "    </tr>\n",
       "    <tr>\n",
       "      <th>8</th>\n",
       "      <td>kMaxAttractionDistance</td>\n",
       "      <td>suggest_int</td>\n",
       "      <td>4.000</td>\n",
       "      <td>99.0</td>\n",
       "      <td>True</td>\n",
       "      <td>static constexpr auto kMaxAttractionDistance =</td>\n",
       "      <td>; // OPTIMIZE LOG [4, 99]</td>\n",
       "    </tr>\n",
       "    <tr>\n",
       "      <th>9</th>\n",
       "      <td>kStartAttraction</td>\n",
       "      <td>suggest_float</td>\n",
       "      <td>0.001</td>\n",
       "      <td>0.9</td>\n",
       "      <td>True</td>\n",
       "      <td>static constexpr auto kStartAttraction =</td>\n",
       "      <td>;     // OPTIMIZE LOG [0.001, 0.9]</td>\n",
       "    </tr>\n",
       "  </tbody>\n",
       "</table>\n",
       "</div>"
      ],
      "text/plain": [
       "                         name         method     min    max    log  \\\n",
       "0                      kErase    suggest_int   1.000    5.0  False   \n",
       "1                     kRadius    suggest_int   2.000    6.0  False   \n",
       "2                 kAnnealingA  suggest_float -15.000   15.0  False   \n",
       "3                 kAnnealingB  suggest_float   0.000    3.0  False   \n",
       "4             kAnnealingStart  suggest_float   1.000  100.0   True   \n",
       "5                  kSkipRatio  suggest_float   0.200    0.8  False   \n",
       "6  kTargetDeterminationTrials    suggest_int   1.000   20.0   True   \n",
       "7            kAttractionRatio  suggest_float   0.010    0.9   True   \n",
       "8      kMaxAttractionDistance    suggest_int   4.000   99.0   True   \n",
       "9            kStartAttraction  suggest_float   0.001    0.9   True   \n",
       "\n",
       "                                                left  \\\n",
       "0                    static constexpr auto kErase =    \n",
       "1                   static constexpr auto kRadius =    \n",
       "2               static constexpr auto kAnnealingA =    \n",
       "3               static constexpr auto kAnnealingB =    \n",
       "4           static constexpr auto kAnnealingStart =    \n",
       "5                static constexpr auto kSkipRatio =    \n",
       "6  static constexpr auto kTargetDeterminationTria...   \n",
       "7          static constexpr auto kAttractionRatio =    \n",
       "8    static constexpr auto kMaxAttractionDistance =    \n",
       "9          static constexpr auto kStartAttraction =    \n",
       "\n",
       "                                right  \n",
       "0    ;             // OPTIMIZE [1, 5]  \n",
       "1     ;            // OPTIMIZE [2, 6]  \n",
       "2    ;      // OPTIMIZE [-15.0, 15.0]  \n",
       "3       ;      // OPTIMIZE [0.0, 3.0]  \n",
       "4      ; // OPTIMIZE LOG [1.0, 100.0]  \n",
       "5      ;       // OPTIMIZE [0.2, 0.8]  \n",
       "6           ; // OPTIMIZE LOG [1, 20]  \n",
       "7  ;      // OPTIMIZE LOG [0.01, 0.9]  \n",
       "8           ; // OPTIMIZE LOG [4, 99]  \n",
       "9  ;     // OPTIMIZE LOG [0.001, 0.9]  "
      ]
     },
     "metadata": {},
     "output_type": "display_data"
    }
   ],
   "source": [
    "# ここでエラー出力は何かおかしいかもしれない\n",
    "\n",
    "\n",
    "# パラメータ抽出\n",
    "with open(FILENAME) as f:\n",
    "    answer = f.read()\n",
    "\n",
    "\n",
    "variables_optimize = []\n",
    "\n",
    "for left, value, right, options in re.findall(r\"^([^/\\n]*=\\s*)(.+?)(\\s*;\\s*//(?:.*\\W)?OPTIMIZE(\\W.*))$\", answer, re.MULTILINE):\n",
    "    name = left.replace(\"=\", \"\").strip().split()[-1]\n",
    "    \n",
    "    searched = re.search(r\".*\\[(?P<min>.*),(?P<max>.*)\\].*\", options)\n",
    "    if searched:\n",
    "        min_value = max_value = None\n",
    "        try:\n",
    "            min_value = eval(searched.group(\"min\"))\n",
    "            max_value = eval(searched.group(\"max\"))\n",
    "            assert min_value <= max_value\n",
    "        except Exception as e:\n",
    "            print(f\"searched={searched}\", file=sys.stderr)\n",
    "            print(e, file=sys.stderr)\n",
    "            continue\n",
    "        log = \"LOG\" in options  # 雑、直したほうが良い\n",
    "        if type(min_value) != type(max_value):\n",
    "            print(f\"searched={searched}\", file=sys.stderr)\n",
    "            print(\"types not matched\", file=sys.stderr)\n",
    "            continue\n",
    "        if isinstance(min_value, int):\n",
    "            method = \"suggest_int\"\n",
    "        elif isinstance(min_value, float):\n",
    "            method = \"suggest_float\"\n",
    "        else:\n",
    "            print(f\"searched={searched}\", file=sys.stderr)\n",
    "            print(f\"unknown type ({type(min_value)})\", file=sys.stderr)\n",
    "            continue\n",
    "        variables_optimize.append({\n",
    "            \"name\": name,\n",
    "            \"method\": method,\n",
    "            \"min\": min_value,\n",
    "            \"max\": max_value,\n",
    "            \"log\": log,\n",
    "            \"left\": left,\n",
    "            \"right\": right,\n",
    "        })\n",
    "    elif searched := re.search(r\".*\\{(?P<choices>.*?)\\}.*\", options):\n",
    "        choices = list(map(lambda x: x.strip(), searched.group(\"choices\").split(\",\")))\n",
    "        variables_optimize.append({\n",
    "            \"name\": name,\n",
    "            \"method\": \"suggest_categorical\",\n",
    "            \"choices\": choices,\n",
    "            \"left\": left,\n",
    "            \"right\": right,\n",
    "        })\n",
    "    else:\n",
    "        print(f\"searched={searched}\", file=sys.stderr)\n",
    "        print(f\"pattern was matched but options are incorrect.\", file=sys.stderr)\n",
    "\n",
    "print(len(variables_optimize), \"variables were found.\")\n",
    "if globals().get(\"pd\"):\n",
    "    display(pd.DataFrame(variables_optimize))\n",
    "else:\n",
    "    pprint(variables_optimize)"
   ]
  },
  {
   "cell_type": "code",
   "execution_count": 3,
   "id": "001042b9",
   "metadata": {},
   "outputs": [],
   "source": [
    "def escape(string):  # 正規表現の中でそのまま使いたい文字列をエスケープ\n",
    "    res = !echo '{string}' | sed -e 's/[]\\/$*.^[]/\\\\&/g'\n",
    "    return res[0]\n",
    "\n",
    "def escape_sed(string):  # sed の置換後の文字列用のエスケープ\n",
    "    res = !echo '{string}' | sed -e 's/[\\/&]/\\\\&/g'\n",
    "    return res[0]\n",
    "\n",
    "def read_stream(name, in_file, out_file):\n",
    "    for line in in_file:\n",
    "        print(f\"[{name}] {line.strip()}\", file=out_file)\n",
    "\n",
    "def run(cmd, name):\n",
    "    proc = Popen(cmd, stdout=PIPE, stderr=PIPE, universal_newlines=True, shell=isinstance(cmd, str))\n",
    "    stdout_thread = Thread(target=read_stream, args=(name, proc.stdout, sys.stdout))\n",
    "    stderr_thread = Thread(target=read_stream, args=(name, proc.stderr, sys.stderr))\n",
    "    stdout_thread.start()\n",
    "    stderr_thread.start()\n",
    "    proc.wait()\n",
    "    return proc\n",
    "\n",
    "def objective(trial, in_dir, work_dir):\n",
    "    n_internal_parallel = 3\n",
    "    \n",
    "    index_parallel = f\"{trial.number:04d}\"\n",
    "    print(f\"{index_parallel=}\")\n",
    "    \n",
    "    work_dir = Path(work_dir)\n",
    "    directory_input = Path(in_dir)  # 中のすべてのファイルに対して実行される\n",
    "    #parameters_changed_filename = Path(gettempdir()) / str(uuid1())\n",
    "    parameters_changed_filename = work_dir / f\"{index_parallel}_{FILENAME}\"\n",
    "    \n",
    "    run([\"mkdir\", f\"{work_dir / index_parallel}_out\"], \"mkdir\")\n",
    "    run([\"mkdir\", f\"{work_dir / index_parallel}_score\"], \"mkdir\")\n",
    "    \n",
    "    # ファイル作成\n",
    "    run(f\"cp {FILENAME} {parameters_changed_filename}\", \"cp\")\n",
    "    sed_options = [f\"-i {parameters_changed_filename}\"]\n",
    "    for variable in variables_optimize:\n",
    "        if variable[\"method\"] == \"suggest_categorical\":\n",
    "            val =  trial.suggest_categorical(variable[\"name\"], variable[\"choices\"])\n",
    "        else:\n",
    "            val = getattr(trial, variable[\"method\"])(variable[\"name\"], variable[\"min\"], variable[\"max\"], log=variable[\"log\"])\n",
    "        left = variable[\"left\"]\n",
    "        right = variable[\"right\"]\n",
    "        sed_options.append(f\"\"\"-e 's/^{escape(left)}.*{escape(right)}$/{escape_sed(left)}{val}{escape_sed(right)}/'\"\"\")\n",
    "    command_sed = f\"sed {' '.join(sed_options)}\"\n",
    "    #print(command_sed)\n",
    "    run(command_sed, \"sed\")\n",
    "    \n",
    "    # コンパイル\n",
    "    command_compile = f\"g++ {parameters_changed_filename} -std=gnu++17 -O2 -DONLINE_JUDGE -o {parameters_changed_filename}.out\"\n",
    "    #print(command_compile)\n",
    "    run(command_compile, \"compile\")\n",
    "    # 実行・採点コマンド (@ はファイル名)\n",
    "    command_exec = (\n",
    "        #f\"./a.out < ./tools/in/{i:04d}.txt > {out_file} && ./tools/target/release/vis ./tools/in/{i:04d}.txt {out_file}\"\n",
    "        #f\"../tools/target/release/tester $(pwd)/{parameters_changed_filename}.out < {directory_input}/@ 2>&1 | grep Score\"\n",
    "        #f\"../tools/target/release/tester $(pwd)/{parameters_changed_filename}.out < {directory_input}/@ 2>&1 | grep Score | sed -E s/[^0-9]+// > ./{index_parallel}_score/@;\"\n",
    "        #f\"cargo run --release --manifest-path ../tools/Cargo.toml --bin tester {directory_input}/@ $(pwd)/{parameters_changed_filename}.out 2>&1 | grep Score | sed -E s/[^0-9]+// > ./{index_parallel}_score/@;\"\n",
    "        f\"./{parameters_changed_filename}.out < {directory_input}/@ > {work_dir / index_parallel}_out/@;\"\n",
    "        f\"../tools/target/release/vis {directory_input}/@ {work_dir / index_parallel}_out/@ 2> /dev/null > {work_dir / index_parallel}_score/@;\"\n",
    "    )\n",
    "    # 並列実行 (sed はパスのディレクトリ部分を消してファイル名にしてる)\n",
    "    run(f\"find {directory_input}/* | sed 's!^.*/!!' | xargs -I@ -P {n_internal_parallel} sh -c '{command_exec}'\", \"exec\")\n",
    "    \n",
    "    # 集計\n",
    "    scores = []\n",
    "    for file_path in Path(f\"{work_dir / index_parallel}_score/\").iterdir():  \n",
    "        with open(file_path) as f:\n",
    "            scores.append(int(f.readline().strip().split()[-1]))\n",
    "    mean_score = sum(scores) / len(scores)\n",
    "    \n",
    "    # 後始末\n",
    "    run(f\"rm -rf {work_dir / index_parallel}_out\", \"rm\")\n",
    "    run(f\"rm -rf {work_dir / index_parallel}_score\", \"rm\")\n",
    "    #run(f\"rm {parameters_changed_filename}\", \"rm\")\n",
    "    run(f\"rm {parameters_changed_filename}.out\", \"rm\")\n",
    "    \n",
    "    return mean_score"
   ]
  },
  {
   "cell_type": "code",
   "execution_count": 4,
   "id": "2d2e133c",
   "metadata": {},
   "outputs": [
    {
     "name": "stderr",
     "output_type": "stream",
     "text": [
      "\u001b[32m[I 2022-08-16 04:59:33,959]\u001b[0m Using an existing study with name 'study_2_3' instead of creating a new one.\u001b[0m\n"
     ]
    }
   ],
   "source": [
    "K = 2\n",
    "N_CLASS = 3\n",
    "\n",
    "in_dir = Path(f\"in_{K}_{N_CLASS}\")\n",
    "work_dir = Path(f\"work_{K}_{N_CLASS}\")\n",
    "\n",
    "study_name = f\"study_{K}_{N_CLASS}\"\n",
    "storage_path = work_dir / \"study.db\"\n",
    "storage = f\"sqlite:///{storage_path}\"\n",
    "study = optuna.create_study(storage=storage, load_if_exists=True, study_name=study_name, direction=\"maximize\")\n",
    "\n",
    "def callback(study, trial):\n",
    "    try:\n",
    "        index_parallel = f\"{trial.number:04d}\"\n",
    "        parameters_changed_filename = work_dir / f\"{index_parallel}_{FILENAME}\"\n",
    "        if study.best_value == trial.value:\n",
    "            print(f\"Updated! {study.best_value}\")\n",
    "            !cp {parameters_changed_filename} {work_dir / \"best_parameters.cpp\"}\n",
    "        !rm {parameters_changed_filename}\n",
    "    except:\n",
    "        print(\":(\")\n"
   ]
  },
  {
   "cell_type": "code",
   "execution_count": null,
   "id": "61c2901d",
   "metadata": {},
   "outputs": [
    {
     "name": "stdout",
     "output_type": "stream",
     "text": [
      "index_parallel='0104'\n"
     ]
    },
    {
     "name": "stderr",
     "output_type": "stream",
     "text": [
      "\u001b[32m[I 2022-08-16 05:03:59,994]\u001b[0m Trial 104 finished with value: 6437.703389830508 and parameters: {'kErase': 2, 'kRadius': 2, 'kAnnealingA': -2.219303734502096, 'kAnnealingB': 1.0163106942465483, 'kAnnealingStart': 58.45302455183867, 'kSkipRatio': 0.7690492599401912, 'kTargetDeterminationTrials': 17, 'kAttractionRatio': 0.030755735332547957, 'kMaxAttractionDistance': 23, 'kStartAttraction': 0.5688412067642146}. Best is trial 87 with value: 6445.872881355932.\u001b[0m\n"
     ]
    },
    {
     "name": "stdout",
     "output_type": "stream",
     "text": [
      "index_parallel='0106'\n"
     ]
    },
    {
     "name": "stderr",
     "output_type": "stream",
     "text": [
      "\u001b[32m[I 2022-08-16 05:08:26,866]\u001b[0m Trial 106 finished with value: 6401.847457627118 and parameters: {'kErase': 2, 'kRadius': 6, 'kAnnealingA': -4.382359910518327, 'kAnnealingB': 1.4608457368573984, 'kAnnealingStart': 53.34404371358023, 'kSkipRatio': 0.792015249629813, 'kTargetDeterminationTrials': 13, 'kAttractionRatio': 0.029690729236307944, 'kMaxAttractionDistance': 23, 'kStartAttraction': 0.7540925880348468}. Best is trial 87 with value: 6445.872881355932.\u001b[0m\n"
     ]
    },
    {
     "name": "stdout",
     "output_type": "stream",
     "text": [
      "index_parallel='0108'\n"
     ]
    },
    {
     "name": "stderr",
     "output_type": "stream",
     "text": [
      "\u001b[32m[I 2022-08-16 05:12:53,736]\u001b[0m Trial 108 finished with value: 6322.453389830508 and parameters: {'kErase': 2, 'kRadius': 6, 'kAnnealingA': -5.78222127907296, 'kAnnealingB': 1.3816791423392236, 'kAnnealingStart': 43.435840483137746, 'kSkipRatio': 0.7965431080370582, 'kTargetDeterminationTrials': 19, 'kAttractionRatio': 0.02500047619696657, 'kMaxAttractionDistance': 29, 'kStartAttraction': 0.5707830351035641}. Best is trial 87 with value: 6445.872881355932.\u001b[0m\n"
     ]
    },
    {
     "name": "stdout",
     "output_type": "stream",
     "text": [
      "index_parallel='0110'\n"
     ]
    },
    {
     "name": "stderr",
     "output_type": "stream",
     "text": [
      "\u001b[32m[I 2022-08-16 05:17:20,321]\u001b[0m Trial 110 finished with value: 6393.470338983051 and parameters: {'kErase': 2, 'kRadius': 5, 'kAnnealingA': -3.055861867712915, 'kAnnealingB': 1.2538667186629957, 'kAnnealingStart': 84.47181963758221, 'kSkipRatio': 0.7608737632465609, 'kTargetDeterminationTrials': 17, 'kAttractionRatio': 0.021154155565497965, 'kMaxAttractionDistance': 25, 'kStartAttraction': 0.4552964736395329}. Best is trial 87 with value: 6445.872881355932.\u001b[0m\n"
     ]
    },
    {
     "name": "stdout",
     "output_type": "stream",
     "text": [
      "index_parallel='0112'\n"
     ]
    },
    {
     "name": "stderr",
     "output_type": "stream",
     "text": [
      "\u001b[32m[I 2022-08-16 05:21:46,878]\u001b[0m Trial 112 finished with value: 6409.254237288135 and parameters: {'kErase': 2, 'kRadius': 5, 'kAnnealingA': -2.7536901283367237, 'kAnnealingB': 1.3299580487944547, 'kAnnealingStart': 73.39396495567564, 'kSkipRatio': 0.7770542629246436, 'kTargetDeterminationTrials': 16, 'kAttractionRatio': 0.02562012648253524, 'kMaxAttractionDistance': 19, 'kStartAttraction': 0.42207530820511385}. Best is trial 87 with value: 6445.872881355932.\u001b[0m\n"
     ]
    },
    {
     "name": "stdout",
     "output_type": "stream",
     "text": [
      "index_parallel='0114'\n"
     ]
    },
    {
     "name": "stderr",
     "output_type": "stream",
     "text": [
      "\u001b[32m[I 2022-08-16 05:26:13,554]\u001b[0m Trial 114 finished with value: 6332.169491525424 and parameters: {'kErase': 2, 'kRadius': 5, 'kAnnealingA': -0.1100270365349778, 'kAnnealingB': 1.14405572696711, 'kAnnealingStart': 68.47548111568656, 'kSkipRatio': 0.7593833015943457, 'kTargetDeterminationTrials': 20, 'kAttractionRatio': 0.01881309795674925, 'kMaxAttractionDistance': 30, 'kStartAttraction': 0.30206319820413474}. Best is trial 87 with value: 6445.872881355932.\u001b[0m\n"
     ]
    },
    {
     "name": "stdout",
     "output_type": "stream",
     "text": [
      "index_parallel='0116'\n"
     ]
    },
    {
     "name": "stderr",
     "output_type": "stream",
     "text": [
      "\u001b[32m[I 2022-08-16 05:30:40,895]\u001b[0m Trial 116 finished with value: 6413.669491525424 and parameters: {'kErase': 2, 'kRadius': 2, 'kAnnealingA': -0.7487350478491488, 'kAnnealingB': 0.9448144163435365, 'kAnnealingStart': 49.204816813823285, 'kSkipRatio': 0.7981315746569151, 'kTargetDeterminationTrials': 15, 'kAttractionRatio': 0.03191294154164345, 'kMaxAttractionDistance': 27, 'kStartAttraction': 0.8881001054092855}. Best is trial 87 with value: 6445.872881355932.\u001b[0m\n"
     ]
    },
    {
     "name": "stdout",
     "output_type": "stream",
     "text": [
      "index_parallel='0118'\n"
     ]
    },
    {
     "name": "stderr",
     "output_type": "stream",
     "text": [
      "\u001b[32m[I 2022-08-16 05:35:07,479]\u001b[0m Trial 118 finished with value: 6417.6483050847455 and parameters: {'kErase': 2, 'kRadius': 6, 'kAnnealingA': -3.0025670688726698, 'kAnnealingB': 1.0061358275793935, 'kAnnealingStart': 37.7131002087627, 'kSkipRatio': 0.7175278004162681, 'kTargetDeterminationTrials': 15, 'kAttractionRatio': 0.022832818982444512, 'kMaxAttractionDistance': 10, 'kStartAttraction': 0.7061877286511241}. Best is trial 87 with value: 6445.872881355932.\u001b[0m\n"
     ]
    },
    {
     "name": "stdout",
     "output_type": "stream",
     "text": [
      "index_parallel='0120'\n"
     ]
    },
    {
     "name": "stderr",
     "output_type": "stream",
     "text": [
      "\u001b[32m[I 2022-08-16 05:39:33,647]\u001b[0m Trial 120 finished with value: 6294.432203389831 and parameters: {'kErase': 1, 'kRadius': 2, 'kAnnealingA': -5.203813771473245, 'kAnnealingB': 1.4114159006953968, 'kAnnealingStart': 56.57799920747581, 'kSkipRatio': 0.782687164526448, 'kTargetDeterminationTrials': 19, 'kAttractionRatio': 0.1390675632356045, 'kMaxAttractionDistance': 26, 'kStartAttraction': 0.35104020496973076}. Best is trial 87 with value: 6445.872881355932.\u001b[0m\n"
     ]
    },
    {
     "name": "stdout",
     "output_type": "stream",
     "text": [
      "index_parallel='0122'\n"
     ]
    },
    {
     "name": "stderr",
     "output_type": "stream",
     "text": [
      "\u001b[32m[I 2022-08-16 05:44:00,019]\u001b[0m Trial 122 finished with value: 6439.622881355932 and parameters: {'kErase': 2, 'kRadius': 6, 'kAnnealingA': -3.677414936291855, 'kAnnealingB': 0.9322210842581877, 'kAnnealingStart': 58.95561783731438, 'kSkipRatio': 0.7992868537555397, 'kTargetDeterminationTrials': 17, 'kAttractionRatio': 0.02803195152513959, 'kMaxAttractionDistance': 8, 'kStartAttraction': 0.7725095446395565}. Best is trial 87 with value: 6445.872881355932.\u001b[0m\n"
     ]
    },
    {
     "name": "stdout",
     "output_type": "stream",
     "text": [
      "index_parallel='0124'\n"
     ]
    },
    {
     "name": "stderr",
     "output_type": "stream",
     "text": [
      "\u001b[32m[I 2022-08-16 05:48:26,913]\u001b[0m Trial 124 finished with value: 6424.779661016949 and parameters: {'kErase': 2, 'kRadius': 6, 'kAnnealingA': -3.7492242407599456, 'kAnnealingB': 0.990525189283392, 'kAnnealingStart': 50.08939489510697, 'kSkipRatio': 0.7991935706375138, 'kTargetDeterminationTrials': 17, 'kAttractionRatio': 0.027623083741969746, 'kMaxAttractionDistance': 7, 'kStartAttraction': 0.24042492306781665}. Best is trial 87 with value: 6445.872881355932.\u001b[0m\n"
     ]
    },
    {
     "name": "stdout",
     "output_type": "stream",
     "text": [
      "index_parallel='0126'\n"
     ]
    },
    {
     "name": "stderr",
     "output_type": "stream",
     "text": [
      "\u001b[32m[I 2022-08-16 05:52:53,948]\u001b[0m Trial 126 finished with value: 6382.1016949152545 and parameters: {'kErase': 2, 'kRadius': 6, 'kAnnealingA': -2.4917117335455927, 'kAnnealingB': 1.2131599313318193, 'kAnnealingStart': 98.88130491231209, 'kSkipRatio': 0.7479591887457794, 'kTargetDeterminationTrials': 14, 'kAttractionRatio': 0.03467714133558857, 'kMaxAttractionDistance': 36, 'kStartAttraction': 0.6029791906029538}. Best is trial 87 with value: 6445.872881355932.\u001b[0m\n"
     ]
    },
    {
     "name": "stdout",
     "output_type": "stream",
     "text": [
      "index_parallel='0128'\n"
     ]
    },
    {
     "name": "stderr",
     "output_type": "stream",
     "text": [
      "\u001b[32m[I 2022-08-16 05:57:20,473]\u001b[0m Trial 128 finished with value: 6459.733050847458 and parameters: {'kErase': 2, 'kRadius': 2, 'kAnnealingA': -1.1202750663780265, 'kAnnealingB': 1.1322988741462092, 'kAnnealingStart': 39.61244718607339, 'kSkipRatio': 0.77536128998472, 'kTargetDeterminationTrials': 18, 'kAttractionRatio': 0.037368183590755034, 'kMaxAttractionDistance': 18, 'kStartAttraction': 0.4909748791751535}. Best is trial 128 with value: 6459.733050847458.\u001b[0m\n"
     ]
    },
    {
     "name": "stdout",
     "output_type": "stream",
     "text": [
      "Updated! 6459.733050847458\n",
      "index_parallel='0130'\n"
     ]
    },
    {
     "name": "stderr",
     "output_type": "stream",
     "text": [
      "\u001b[32m[I 2022-08-16 06:01:47,242]\u001b[0m Trial 130 finished with value: 6415.771186440678 and parameters: {'kErase': 2, 'kRadius': 2, 'kAnnealingA': 1.3343241531171548, 'kAnnealingB': 1.2826314220642039, 'kAnnealingStart': 37.6862479721903, 'kSkipRatio': 0.7277802407687852, 'kTargetDeterminationTrials': 18, 'kAttractionRatio': 0.03805760710029559, 'kMaxAttractionDistance': 39, 'kStartAttraction': 0.47886109090039375}. Best is trial 128 with value: 6459.733050847458.\u001b[0m\n"
     ]
    },
    {
     "name": "stdout",
     "output_type": "stream",
     "text": [
      "index_parallel='0132'\n"
     ]
    },
    {
     "name": "stderr",
     "output_type": "stream",
     "text": [
      "\u001b[32m[I 2022-08-16 06:06:13,865]\u001b[0m Trial 132 finished with value: 6430.682203389831 and parameters: {'kErase': 2, 'kRadius': 2, 'kAnnealingA': -1.0769328038361905, 'kAnnealingB': 1.3531420943287753, 'kAnnealingStart': 41.6790769832956, 'kSkipRatio': 0.7749182897933204, 'kTargetDeterminationTrials': 13, 'kAttractionRatio': 0.01889283132439712, 'kMaxAttractionDistance': 42, 'kStartAttraction': 0.3970415871664941}. Best is trial 128 with value: 6459.733050847458.\u001b[0m\n"
     ]
    },
    {
     "name": "stdout",
     "output_type": "stream",
     "text": [
      "index_parallel='0134'\n"
     ]
    },
    {
     "name": "stderr",
     "output_type": "stream",
     "text": [
      "\u001b[32m[I 2022-08-16 06:10:40,274]\u001b[0m Trial 134 finished with value: 6448.39406779661 and parameters: {'kErase': 2, 'kRadius': 2, 'kAnnealingA': -1.24096597760098, 'kAnnealingB': 1.3557722711383113, 'kAnnealingStart': 37.43552498694889, 'kSkipRatio': 0.775689308685915, 'kTargetDeterminationTrials': 12, 'kAttractionRatio': 0.01980346556554709, 'kMaxAttractionDistance': 42, 'kStartAttraction': 0.39044567861703067}. Best is trial 128 with value: 6459.733050847458.\u001b[0m\n"
     ]
    },
    {
     "name": "stdout",
     "output_type": "stream",
     "text": [
      "index_parallel='0136'\n"
     ]
    },
    {
     "name": "stderr",
     "output_type": "stream",
     "text": [
      "\u001b[32m[I 2022-08-16 06:15:06,819]\u001b[0m Trial 136 finished with value: 6421.661016949152 and parameters: {'kErase': 2, 'kRadius': 2, 'kAnnealingA': -0.849925982277518, 'kAnnealingB': 1.3583679171379794, 'kAnnealingStart': 36.423581987699485, 'kSkipRatio': 0.7813161722206721, 'kTargetDeterminationTrials': 12, 'kAttractionRatio': 0.01741548774158397, 'kMaxAttractionDistance': 42, 'kStartAttraction': 0.4033441399960998}. Best is trial 128 with value: 6459.733050847458.\u001b[0m\n"
     ]
    },
    {
     "name": "stdout",
     "output_type": "stream",
     "text": [
      "index_parallel='0138'\n"
     ]
    },
    {
     "name": "stderr",
     "output_type": "stream",
     "text": [
      "\u001b[32m[I 2022-08-16 06:19:33,422]\u001b[0m Trial 138 finished with value: 6418.766949152542 and parameters: {'kErase': 2, 'kRadius': 2, 'kAnnealingA': -0.9892593946916942, 'kAnnealingB': 1.3013542397186875, 'kAnnealingStart': 28.38551678753102, 'kSkipRatio': 0.7739066795515811, 'kTargetDeterminationTrials': 11, 'kAttractionRatio': 0.02084762370645478, 'kMaxAttractionDistance': 46, 'kStartAttraction': 0.3201979634785518}. Best is trial 128 with value: 6459.733050847458.\u001b[0m\n"
     ]
    },
    {
     "name": "stdout",
     "output_type": "stream",
     "text": [
      "index_parallel='0140'\n"
     ]
    },
    {
     "name": "stderr",
     "output_type": "stream",
     "text": [
      "\u001b[32m[I 2022-08-16 06:24:00,194]\u001b[0m Trial 140 finished with value: 6432.110169491525 and parameters: {'kErase': 2, 'kRadius': 2, 'kAnnealingA': 0.4265086258776316, 'kAnnealingB': 0.910074453709596, 'kAnnealingStart': 30.224162551444795, 'kSkipRatio': 0.7519838337118886, 'kTargetDeterminationTrials': 12, 'kAttractionRatio': 0.01675528048236085, 'kMaxAttractionDistance': 50, 'kStartAttraction': 0.3458255272677249}. Best is trial 128 with value: 6459.733050847458.\u001b[0m\n"
     ]
    },
    {
     "name": "stdout",
     "output_type": "stream",
     "text": [
      "index_parallel='0142'\n"
     ]
    },
    {
     "name": "stderr",
     "output_type": "stream",
     "text": [
      "\u001b[32m[I 2022-08-16 06:28:26,952]\u001b[0m Trial 142 finished with value: 6433.847457627118 and parameters: {'kErase': 2, 'kRadius': 2, 'kAnnealingA': 0.4771190878918723, 'kAnnealingB': 1.1991888955991725, 'kAnnealingStart': 38.89761533904301, 'kSkipRatio': 0.7857932920759442, 'kTargetDeterminationTrials': 11, 'kAttractionRatio': 0.01620374047021776, 'kMaxAttractionDistance': 35, 'kStartAttraction': 0.48304681557726464}. Best is trial 128 with value: 6459.733050847458.\u001b[0m\n"
     ]
    },
    {
     "name": "stdout",
     "output_type": "stream",
     "text": [
      "index_parallel='0144'\n"
     ]
    },
    {
     "name": "stderr",
     "output_type": "stream",
     "text": [
      "\u001b[32m[I 2022-08-16 06:32:53,616]\u001b[0m Trial 144 finished with value: 6420.987288135593 and parameters: {'kErase': 2, 'kRadius': 2, 'kAnnealingA': 1.4820680318360167, 'kAnnealingB': 1.5189699340335048, 'kAnnealingStart': 30.904480998048058, 'kSkipRatio': 0.7850808206917052, 'kTargetDeterminationTrials': 11, 'kAttractionRatio': 0.021551404688176946, 'kMaxAttractionDistance': 36, 'kStartAttraction': 0.468854658109183}. Best is trial 128 with value: 6459.733050847458.\u001b[0m\n"
     ]
    },
    {
     "name": "stdout",
     "output_type": "stream",
     "text": [
      "index_parallel='0146'\n"
     ]
    },
    {
     "name": "stderr",
     "output_type": "stream",
     "text": [
      "\u001b[32m[I 2022-08-16 06:37:19,984]\u001b[0m Trial 146 finished with value: 6455.35593220339 and parameters: {'kErase': 2, 'kRadius': 2, 'kAnnealingA': 0.4425948989647779, 'kAnnealingB': 1.6843057915640494, 'kAnnealingStart': 33.83488081448638, 'kSkipRatio': 0.7605875145274085, 'kTargetDeterminationTrials': 10, 'kAttractionRatio': 0.022375395445778115, 'kMaxAttractionDistance': 33, 'kStartAttraction': 0.6446850465981195}. Best is trial 128 with value: 6459.733050847458.\u001b[0m\n"
     ]
    },
    {
     "name": "stdout",
     "output_type": "stream",
     "text": [
      "index_parallel='0148'\n"
     ]
    },
    {
     "name": "stderr",
     "output_type": "stream",
     "text": [
      "\u001b[32m[I 2022-08-16 06:41:46,355]\u001b[0m Trial 148 finished with value: 6479.025423728814 and parameters: {'kErase': 2, 'kRadius': 2, 'kAnnealingA': -0.08947788318058048, 'kAnnealingB': 1.7578982079379455, 'kAnnealingStart': 32.422097860822504, 'kSkipRatio': 0.7584427626177097, 'kTargetDeterminationTrials': 9, 'kAttractionRatio': 0.3902534929716197, 'kMaxAttractionDistance': 39, 'kStartAttraction': 0.6901205614405177}. Best is trial 148 with value: 6479.025423728814.\u001b[0m\n"
     ]
    },
    {
     "name": "stdout",
     "output_type": "stream",
     "text": [
      "Updated! 6479.025423728814\n",
      "index_parallel='0150'\n"
     ]
    },
    {
     "name": "stderr",
     "output_type": "stream",
     "text": [
      "\u001b[32m[I 2022-08-16 06:46:13,195]\u001b[0m Trial 150 finished with value: 6474.1949152542375 and parameters: {'kErase': 2, 'kRadius': 2, 'kAnnealingA': 0.9507730057286512, 'kAnnealingB': 1.8532899032621188, 'kAnnealingStart': 33.89714661475397, 'kSkipRatio': 0.7545538526255247, 'kTargetDeterminationTrials': 9, 'kAttractionRatio': 0.7640305911600821, 'kMaxAttractionDistance': 32, 'kStartAttraction': 0.8906372078407107}. Best is trial 148 with value: 6479.025423728814.\u001b[0m\n"
     ]
    },
    {
     "name": "stdout",
     "output_type": "stream",
     "text": [
      "index_parallel='0152'\n"
     ]
    },
    {
     "name": "stderr",
     "output_type": "stream",
     "text": [
      "\u001b[32m[I 2022-08-16 06:50:39,675]\u001b[0m Trial 152 finished with value: 6468.860169491525 and parameters: {'kErase': 2, 'kRadius': 2, 'kAnnealingA': -0.08282623252690069, 'kAnnealingB': 1.7683077636869002, 'kAnnealingStart': 33.70131687251252, 'kSkipRatio': 0.7491117753138965, 'kTargetDeterminationTrials': 9, 'kAttractionRatio': 0.3732829468683999, 'kMaxAttractionDistance': 32, 'kStartAttraction': 0.877881772150809}. Best is trial 148 with value: 6479.025423728814.\u001b[0m\n"
     ]
    },
    {
     "name": "stdout",
     "output_type": "stream",
     "text": [
      "index_parallel='0154'\n"
     ]
    },
    {
     "name": "stderr",
     "output_type": "stream",
     "text": [
      "\u001b[32m[I 2022-08-16 06:55:06,292]\u001b[0m Trial 154 finished with value: 6416.182203389831 and parameters: {'kErase': 2, 'kRadius': 2, 'kAnnealingA': 0.006494895850674143, 'kAnnealingB': 1.7885645728574269, 'kAnnealingStart': 28.11639172164231, 'kSkipRatio': 0.7549213108909646, 'kTargetDeterminationTrials': 9, 'kAttractionRatio': 0.3247769938395691, 'kMaxAttractionDistance': 32, 'kStartAttraction': 0.8917538016449265}. Best is trial 148 with value: 6479.025423728814.\u001b[0m\n"
     ]
    },
    {
     "name": "stdout",
     "output_type": "stream",
     "text": [
      "index_parallel='0156'\n"
     ]
    },
    {
     "name": "stderr",
     "output_type": "stream",
     "text": [
      "\u001b[32m[I 2022-08-16 06:59:32,941]\u001b[0m Trial 156 finished with value: 6442.525423728814 and parameters: {'kErase': 2, 'kRadius': 2, 'kAnnealingA': 2.0754130129524455, 'kAnnealingB': 1.9059531367710512, 'kAnnealingStart': 33.205692716041554, 'kSkipRatio': 0.7378739119076743, 'kTargetDeterminationTrials': 10, 'kAttractionRatio': 0.2717807689072362, 'kMaxAttractionDistance': 33, 'kStartAttraction': 0.7949535372910016}. Best is trial 148 with value: 6479.025423728814.\u001b[0m\n"
     ]
    },
    {
     "name": "stdout",
     "output_type": "stream",
     "text": [
      "index_parallel='0158'\n"
     ]
    },
    {
     "name": "stderr",
     "output_type": "stream",
     "text": [
      "\u001b[32m[I 2022-08-16 07:03:59,408]\u001b[0m Trial 158 finished with value: 6418.016949152542 and parameters: {'kErase': 2, 'kRadius': 2, 'kAnnealingA': 2.1079360124781923, 'kAnnealingB': 1.886676512390788, 'kAnnealingStart': 32.9181659102145, 'kSkipRatio': 0.7355684951112927, 'kTargetDeterminationTrials': 8, 'kAttractionRatio': 0.444586664338199, 'kMaxAttractionDistance': 34, 'kStartAttraction': 0.6704816197202996}. Best is trial 148 with value: 6479.025423728814.\u001b[0m\n"
     ]
    },
    {
     "name": "stdout",
     "output_type": "stream",
     "text": [
      "index_parallel='0160'\n"
     ]
    },
    {
     "name": "stderr",
     "output_type": "stream",
     "text": [
      "\u001b[32m[I 2022-08-16 07:08:25,729]\u001b[0m Trial 160 finished with value: 6423.4915254237285 and parameters: {'kErase': 2, 'kRadius': 2, 'kAnnealingA': 0.46699025375190845, 'kAnnealingB': 1.9975504085788107, 'kAnnealingStart': 25.856148448723204, 'kSkipRatio': 0.7156109457275693, 'kTargetDeterminationTrials': 9, 'kAttractionRatio': 0.26114853648839226, 'kMaxAttractionDistance': 30, 'kStartAttraction': 0.8370709082814687}. Best is trial 148 with value: 6479.025423728814.\u001b[0m\n"
     ]
    },
    {
     "name": "stdout",
     "output_type": "stream",
     "text": [
      "index_parallel='0162'\n"
     ]
    },
    {
     "name": "stderr",
     "output_type": "stream",
     "text": [
      "\u001b[32m[I 2022-08-16 07:12:52,372]\u001b[0m Trial 162 finished with value: 6428.169491525424 and parameters: {'kErase': 2, 'kRadius': 2, 'kAnnealingA': 2.820113261295597, 'kAnnealingB': 1.670222889678143, 'kAnnealingStart': 31.20140366454977, 'kSkipRatio': 0.7410493173106955, 'kTargetDeterminationTrials': 10, 'kAttractionRatio': 0.43535087036121706, 'kMaxAttractionDistance': 40, 'kStartAttraction': 0.7442579340744696}. Best is trial 148 with value: 6479.025423728814.\u001b[0m\n"
     ]
    },
    {
     "name": "stdout",
     "output_type": "stream",
     "text": [
      "index_parallel='0164'\n"
     ]
    },
    {
     "name": "stderr",
     "output_type": "stream",
     "text": [
      "\u001b[32m[I 2022-08-16 07:17:19,177]\u001b[0m Trial 164 finished with value: 6424.9915254237285 and parameters: {'kErase': 2, 'kRadius': 2, 'kAnnealingA': 1.1161835416218069, 'kAnnealingB': 2.0689165582587012, 'kAnnealingStart': 35.189059168562636, 'kSkipRatio': 0.7082696918290178, 'kTargetDeterminationTrials': 9, 'kAttractionRatio': 0.2690879379972063, 'kMaxAttractionDistance': 46, 'kStartAttraction': 0.7735720941417906}. Best is trial 148 with value: 6479.025423728814.\u001b[0m\n"
     ]
    },
    {
     "name": "stdout",
     "output_type": "stream",
     "text": [
      "index_parallel='0166'\n"
     ]
    },
    {
     "name": "stderr",
     "output_type": "stream",
     "text": [
      "\u001b[32m[I 2022-08-16 07:21:45,758]\u001b[0m Trial 166 finished with value: 6478.614406779661 and parameters: {'kErase': 2, 'kRadius': 2, 'kAnnealingA': -0.24148667078278646, 'kAnnealingB': 1.9453796519726132, 'kAnnealingStart': 34.18477791285753, 'kSkipRatio': 0.7603961384591538, 'kTargetDeterminationTrials': 10, 'kAttractionRatio': 0.21094233274594412, 'kMaxAttractionDistance': 28, 'kStartAttraction': 0.6634235527299002}. Best is trial 148 with value: 6479.025423728814.\u001b[0m\n"
     ]
    },
    {
     "name": "stdout",
     "output_type": "stream",
     "text": [
      "index_parallel='0168'\n"
     ]
    },
    {
     "name": "stderr",
     "output_type": "stream",
     "text": [
      "\u001b[32m[I 2022-08-16 07:26:12,446]\u001b[0m Trial 168 finished with value: 6427.173728813559 and parameters: {'kErase': 2, 'kRadius': 2, 'kAnnealingA': 0.016309206373603002, 'kAnnealingB': 2.0078161238904313, 'kAnnealingStart': 28.11271559721768, 'kSkipRatio': 0.754955399105714, 'kTargetDeterminationTrials': 8, 'kAttractionRatio': 0.17295943443405654, 'kMaxAttractionDistance': 28, 'kStartAttraction': 0.6818958523353572}. Best is trial 148 with value: 6479.025423728814.\u001b[0m\n"
     ]
    },
    {
     "name": "stdout",
     "output_type": "stream",
     "text": [
      "index_parallel='0170'\n"
     ]
    },
    {
     "name": "stderr",
     "output_type": "stream",
     "text": [
      "\u001b[32m[I 2022-08-16 07:30:39,335]\u001b[0m Trial 170 finished with value: 6394.622881355932 and parameters: {'kErase': 2, 'kRadius': 2, 'kAnnealingA': -0.27638091122913044, 'kAnnealingB': 1.849335245784219, 'kAnnealingStart': 21.642665908370663, 'kSkipRatio': 0.7598519477130732, 'kTargetDeterminationTrials': 9, 'kAttractionRatio': 0.19856549084242334, 'kMaxAttractionDistance': 51, 'kStartAttraction': 0.8882729642217689}. Best is trial 148 with value: 6479.025423728814.\u001b[0m\n"
     ]
    },
    {
     "name": "stdout",
     "output_type": "stream",
     "text": [
      "index_parallel='0172'\n"
     ]
    },
    {
     "name": "stderr",
     "output_type": "stream",
     "text": [
      "\u001b[32m[I 2022-08-16 07:35:05,903]\u001b[0m Trial 172 finished with value: 6422.817796610169 and parameters: {'kErase': 2, 'kRadius': 2, 'kAnnealingA': 0.9501141273549193, 'kAnnealingB': 2.1461910859145807, 'kAnnealingStart': 42.50408937891575, 'kSkipRatio': 0.7674958144088169, 'kTargetDeterminationTrials': 8, 'kAttractionRatio': 0.21529842452002934, 'kMaxAttractionDistance': 31, 'kStartAttraction': 0.6131078830296732}. Best is trial 148 with value: 6479.025423728814.\u001b[0m\n"
     ]
    },
    {
     "name": "stdout",
     "output_type": "stream",
     "text": [
      "index_parallel='0174'\n"
     ]
    },
    {
     "name": "stderr",
     "output_type": "stream",
     "text": [
      "\u001b[32m[I 2022-08-16 07:39:32,305]\u001b[0m Trial 174 finished with value: 6458.275423728814 and parameters: {'kErase': 2, 'kRadius': 2, 'kAnnealingA': -1.8614525889432687, 'kAnnealingB': 1.6188282383150345, 'kAnnealingStart': 40.86595647765049, 'kSkipRatio': 0.7292421710962659, 'kTargetDeterminationTrials': 7, 'kAttractionRatio': 0.32393700220234034, 'kMaxAttractionDistance': 39, 'kStartAttraction': 0.641535131709004}. Best is trial 148 with value: 6479.025423728814.\u001b[0m\n"
     ]
    },
    {
     "name": "stdout",
     "output_type": "stream",
     "text": [
      "index_parallel='0176'\n"
     ]
    },
    {
     "name": "stderr",
     "output_type": "stream",
     "text": [
      "\u001b[32m[I 2022-08-16 07:43:59,676]\u001b[0m Trial 176 finished with value: 6456.411016949152 and parameters: {'kErase': 2, 'kRadius': 2, 'kAnnealingA': -1.7649786659286124, 'kAnnealingB': 1.6201470496997499, 'kAnnealingStart': 40.974411776405745, 'kSkipRatio': 0.7475828925613, 'kTargetDeterminationTrials': 7, 'kAttractionRatio': 0.30425941949095686, 'kMaxAttractionDistance': 38, 'kStartAttraction': 0.6537815881384023}. Best is trial 148 with value: 6479.025423728814.\u001b[0m\n"
     ]
    },
    {
     "name": "stdout",
     "output_type": "stream",
     "text": [
      "index_parallel='0178'\n"
     ]
    },
    {
     "name": "stderr",
     "output_type": "stream",
     "text": [
      "\u001b[32m[I 2022-08-16 07:48:26,100]\u001b[0m Trial 178 finished with value: 6474.597457627118 and parameters: {'kErase': 2, 'kRadius': 2, 'kAnnealingA': -1.7152348792588916, 'kAnnealingB': 1.6011941772946219, 'kAnnealingStart': 40.66280476008747, 'kSkipRatio': 0.7485987831853437, 'kTargetDeterminationTrials': 11, 'kAttractionRatio': 0.3657057603901881, 'kMaxAttractionDistance': 38, 'kStartAttraction': 0.6454552892026089}. Best is trial 148 with value: 6479.025423728814.\u001b[0m\n"
     ]
    },
    {
     "name": "stdout",
     "output_type": "stream",
     "text": [
      "index_parallel='0180'\n"
     ]
    },
    {
     "name": "stderr",
     "output_type": "stream",
     "text": [
      "\u001b[32m[I 2022-08-16 07:52:52,447]\u001b[0m Trial 180 finished with value: 6463.89406779661 and parameters: {'kErase': 2, 'kRadius': 2, 'kAnnealingA': -0.34549465940749374, 'kAnnealingB': 1.6201957334260717, 'kAnnealingStart': 41.10530059636097, 'kSkipRatio': 0.7253625221121457, 'kTargetDeterminationTrials': 7, 'kAttractionRatio': 0.3014080275065395, 'kMaxAttractionDistance': 35, 'kStartAttraction': 0.6595074905080109}. Best is trial 148 with value: 6479.025423728814.\u001b[0m\n"
     ]
    },
    {
     "name": "stdout",
     "output_type": "stream",
     "text": [
      "index_parallel='0182'\n"
     ]
    },
    {
     "name": "stderr",
     "output_type": "stream",
     "text": [
      "\u001b[32m[I 2022-08-16 07:57:19,538]\u001b[0m Trial 182 finished with value: 6444.322033898305 and parameters: {'kErase': 2, 'kRadius': 2, 'kAnnealingA': -1.6403869052860571, 'kAnnealingB': 1.7173986922426576, 'kAnnealingStart': 42.32177700689446, 'kSkipRatio': 0.7261803750977426, 'kTargetDeterminationTrials': 7, 'kAttractionRatio': 0.3606728018418218, 'kMaxAttractionDistance': 34, 'kStartAttraction': 0.6549894155947987}. Best is trial 148 with value: 6479.025423728814.\u001b[0m\n"
     ]
    },
    {
     "name": "stdout",
     "output_type": "stream",
     "text": [
      "index_parallel='0184'\n"
     ]
    },
    {
     "name": "stderr",
     "output_type": "stream",
     "text": [
      "\u001b[32m[I 2022-08-16 08:01:46,085]\u001b[0m Trial 184 finished with value: 6440.822033898305 and parameters: {'kErase': 2, 'kRadius': 2, 'kAnnealingA': -1.7540705481416603, 'kAnnealingB': 1.792174819409283, 'kAnnealingStart': 44.48851708359306, 'kSkipRatio': 0.7016492215889247, 'kTargetDeterminationTrials': 8, 'kAttractionRatio': 0.22147366033594895, 'kMaxAttractionDistance': 30, 'kStartAttraction': 0.7754913240287936}. Best is trial 148 with value: 6479.025423728814.\u001b[0m\n"
     ]
    },
    {
     "name": "stdout",
     "output_type": "stream",
     "text": [
      "index_parallel='0186'\n"
     ]
    },
    {
     "name": "stderr",
     "output_type": "stream",
     "text": [
      "\u001b[32m[I 2022-08-16 08:06:12,468]\u001b[0m Trial 186 finished with value: 6048.131355932203 and parameters: {'kErase': 2, 'kRadius': 2, 'kAnnealingA': 13.311437338430665, 'kAnnealingB': 1.9489003865966774, 'kAnnealingStart': 40.85125969063431, 'kSkipRatio': 0.7458720071579825, 'kTargetDeterminationTrials': 7, 'kAttractionRatio': 0.29083505749462985, 'kMaxAttractionDistance': 31, 'kStartAttraction': 0.5364907100789983}. Best is trial 148 with value: 6479.025423728814.\u001b[0m\n"
     ]
    },
    {
     "name": "stdout",
     "output_type": "stream",
     "text": [
      "index_parallel='0188'\n"
     ]
    },
    {
     "name": "stderr",
     "output_type": "stream",
     "text": [
      "\u001b[32m[I 2022-08-16 08:10:38,953]\u001b[0m Trial 188 finished with value: 6419.661016949152 and parameters: {'kErase': 2, 'kRadius': 2, 'kAnnealingA': 1.4218115486055662, 'kAnnealingB': 1.6470836846553465, 'kAnnealingStart': 34.537305765358056, 'kSkipRatio': 0.7135093037949473, 'kTargetDeterminationTrials': 6, 'kAttractionRatio': 0.23608857185879392, 'kMaxAttractionDistance': 34, 'kStartAttraction': 0.6260903194158172}. Best is trial 148 with value: 6479.025423728814.\u001b[0m\n"
     ]
    },
    {
     "name": "stdout",
     "output_type": "stream",
     "text": [
      "index_parallel='0190'\n"
     ]
    },
    {
     "name": "stderr",
     "output_type": "stream",
     "text": [
      "\u001b[32m[I 2022-08-16 08:15:05,686]\u001b[0m Trial 190 finished with value: 6447.567796610169 and parameters: {'kErase': 2, 'kRadius': 2, 'kAnnealingA': -0.5713512127762913, 'kAnnealingB': 1.5771422179395, 'kAnnealingStart': 39.397420572937236, 'kSkipRatio': 0.7303489476363171, 'kTargetDeterminationTrials': 8, 'kAttractionRatio': 0.3338344458610741, 'kMaxAttractionDistance': 28, 'kStartAttraction': 0.714132866607283}. Best is trial 148 with value: 6479.025423728814.\u001b[0m\n"
     ]
    },
    {
     "name": "stdout",
     "output_type": "stream",
     "text": [
      "index_parallel='0192'\n"
     ]
    },
    {
     "name": "stderr",
     "output_type": "stream",
     "text": [
      "\u001b[32m[I 2022-08-16 08:19:32,404]\u001b[0m Trial 192 finished with value: 6463.025423728814 and parameters: {'kErase': 2, 'kRadius': 2, 'kAnnealingA': -0.3553863399388475, 'kAnnealingB': 2.160357601663879, 'kAnnealingStart': 34.17882380644042, 'kSkipRatio': 0.7531351027474218, 'kTargetDeterminationTrials': 8, 'kAttractionRatio': 0.3943514715092498, 'kMaxAttractionDistance': 38, 'kStartAttraction': 0.7407183296543074}. Best is trial 148 with value: 6479.025423728814.\u001b[0m\n"
     ]
    },
    {
     "name": "stdout",
     "output_type": "stream",
     "text": [
      "index_parallel='0194'\n"
     ]
    },
    {
     "name": "stderr",
     "output_type": "stream",
     "text": [
      "\u001b[32m[I 2022-08-16 08:23:58,740]\u001b[0m Trial 194 finished with value: 6405.669491525424 and parameters: {'kErase': 2, 'kRadius': 2, 'kAnnealingA': -1.8066711767471106, 'kAnnealingB': 2.262482311697576, 'kAnnealingStart': 34.82303060615921, 'kSkipRatio': 0.7475494437021928, 'kTargetDeterminationTrials': 8, 'kAttractionRatio': 0.3941611044763629, 'kMaxAttractionDistance': 37, 'kStartAttraction': 0.5367407227333982}. Best is trial 148 with value: 6479.025423728814.\u001b[0m\n"
     ]
    },
    {
     "name": "stdout",
     "output_type": "stream",
     "text": [
      "index_parallel='0196'\n"
     ]
    },
    {
     "name": "stderr",
     "output_type": "stream",
     "text": [
      "\u001b[32m[I 2022-08-16 08:28:25,619]\u001b[0m Trial 196 finished with value: 6430.296610169492 and parameters: {'kErase': 2, 'kRadius': 2, 'kAnnealingA': 0.38390134280241967, 'kAnnealingB': 2.197689520638576, 'kAnnealingStart': 45.27386421658972, 'kSkipRatio': 0.7394280988112597, 'kTargetDeterminationTrials': 10, 'kAttractionRatio': 0.5241574258870277, 'kMaxAttractionDistance': 38, 'kStartAttraction': 0.7751800039745738}. Best is trial 148 with value: 6479.025423728814.\u001b[0m\n"
     ]
    },
    {
     "name": "stdout",
     "output_type": "stream",
     "text": [
      "index_parallel='0198'\n"
     ]
    },
    {
     "name": "stderr",
     "output_type": "stream",
     "text": [
      "\u001b[32m[I 2022-08-16 08:32:52,106]\u001b[0m Trial 198 finished with value: 6437.974576271186 and parameters: {'kErase': 2, 'kRadius': 2, 'kAnnealingA': 0.9302875349950812, 'kAnnealingB': 1.8528424785496418, 'kAnnealingStart': 39.91167272961111, 'kSkipRatio': 0.7545615535286946, 'kTargetDeterminationTrials': 7, 'kAttractionRatio': 0.17330923187514644, 'kMaxAttractionDistance': 44, 'kStartAttraction': 0.7120972454026153}. Best is trial 148 with value: 6479.025423728814.\u001b[0m\n"
     ]
    },
    {
     "name": "stdout",
     "output_type": "stream",
     "text": [
      "index_parallel='0200'\n"
     ]
    },
    {
     "name": "stderr",
     "output_type": "stream",
     "text": [
      "\u001b[32m[I 2022-08-16 08:37:18,679]\u001b[0m Trial 200 finished with value: 6419.14406779661 and parameters: {'kErase': 2, 'kRadius': 2, 'kAnnealingA': -0.5051966791281278, 'kAnnealingB': 2.3831296985124735, 'kAnnealingStart': 31.50362115134868, 'kSkipRatio': 0.7168278001504494, 'kTargetDeterminationTrials': 11, 'kAttractionRatio': 0.35081693340553066, 'kMaxAttractionDistance': 34, 'kStartAttraction': 0.7938884895153486}. Best is trial 148 with value: 6479.025423728814.\u001b[0m\n"
     ]
    },
    {
     "name": "stdout",
     "output_type": "stream",
     "text": [
      "index_parallel='0202'\n"
     ]
    },
    {
     "name": "stderr",
     "output_type": "stream",
     "text": [
      "\u001b[32m[I 2022-08-16 08:41:45,152]\u001b[0m Trial 202 finished with value: 6469.8983050847455 and parameters: {'kErase': 2, 'kRadius': 2, 'kAnnealingA': -0.43668818941669096, 'kAnnealingB': 2.6727427866612516, 'kAnnealingStart': 38.126848151719415, 'kSkipRatio': 0.7624260097435466, 'kTargetDeterminationTrials': 10, 'kAttractionRatio': 0.48088337934644393, 'kMaxAttractionDistance': 31, 'kStartAttraction': 0.613350510175711}. Best is trial 148 with value: 6479.025423728814.\u001b[0m\n"
     ]
    },
    {
     "name": "stdout",
     "output_type": "stream",
     "text": [
      "index_parallel='0204'\n"
     ]
    },
    {
     "name": "stderr",
     "output_type": "stream",
     "text": [
      "\u001b[32m[I 2022-08-16 08:46:11,719]\u001b[0m Trial 204 finished with value: 6098.436440677966 and parameters: {'kErase': 2, 'kRadius': 2, 'kAnnealingA': 0.3152975035576433, 'kAnnealingB': 2.337821208719597, 'kAnnealingStart': 3.4239677338504277, 'kSkipRatio': 0.7472854360466645, 'kTargetDeterminationTrials': 10, 'kAttractionRatio': 0.5092827966484981, 'kMaxAttractionDistance': 31, 'kStartAttraction': 0.6687180975948914}. Best is trial 148 with value: 6479.025423728814.\u001b[0m\n"
     ]
    },
    {
     "name": "stdout",
     "output_type": "stream",
     "text": [
      "index_parallel='0206'\n"
     ]
    },
    {
     "name": "stderr",
     "output_type": "stream",
     "text": [
      "\u001b[32m[I 2022-08-16 08:50:38,116]\u001b[0m Trial 206 finished with value: 6453.940677966101 and parameters: {'kErase': 2, 'kRadius': 2, 'kAnnealingA': 0.19409794022620058, 'kAnnealingB': 2.064037034662847, 'kAnnealingStart': 36.3457700022157, 'kSkipRatio': 0.735649916024577, 'kTargetDeterminationTrials': 9, 'kAttractionRatio': 0.4800505602758291, 'kMaxAttractionDistance': 35, 'kStartAttraction': 0.7247023728872878}. Best is trial 148 with value: 6479.025423728814.\u001b[0m\n"
     ]
    },
    {
     "name": "stdout",
     "output_type": "stream",
     "text": [
      "index_parallel='0208'\n"
     ]
    },
    {
     "name": "stderr",
     "output_type": "stream",
     "text": [
      "\u001b[32m[I 2022-08-16 08:55:04,895]\u001b[0m Trial 208 finished with value: 5739.3516949152545 and parameters: {'kErase': 2, 'kRadius': 2, 'kAnnealingA': -1.0650085302056473, 'kAnnealingB': 2.6822552179589603, 'kAnnealingStart': 32.68135557355327, 'kSkipRatio': 0.3368600869059289, 'kTargetDeterminationTrials': 1, 'kAttractionRatio': 0.6630228204743903, 'kMaxAttractionDistance': 27, 'kStartAttraction': 0.5316876974002231}. Best is trial 148 with value: 6479.025423728814.\u001b[0m\n"
     ]
    },
    {
     "name": "stdout",
     "output_type": "stream",
     "text": [
      "index_parallel='0210'\n"
     ]
    },
    {
     "name": "stderr",
     "output_type": "stream",
     "text": [
      "\u001b[32m[I 2022-08-16 08:59:31,642]\u001b[0m Trial 210 finished with value: 6459.004237288135 and parameters: {'kErase': 2, 'kRadius': 2, 'kAnnealingA': 1.6472085423026819, 'kAnnealingB': 2.41221761171318, 'kAnnealingStart': 28.799010818381934, 'kSkipRatio': 0.7634160433171687, 'kTargetDeterminationTrials': 10, 'kAttractionRatio': 0.06374656570245049, 'kMaxAttractionDistance': 40, 'kStartAttraction': 0.8838492270793702}. Best is trial 209 with value: 6482.385593220339.\u001b[0m\n"
     ]
    },
    {
     "name": "stdout",
     "output_type": "stream",
     "text": [
      "index_parallel='0212'\n"
     ]
    },
    {
     "name": "stderr",
     "output_type": "stream",
     "text": [
      "\u001b[32m[I 2022-08-16 09:03:58,189]\u001b[0m Trial 212 finished with value: 6408.025423728814 and parameters: {'kErase': 2, 'kRadius': 2, 'kAnnealingA': 1.8124826356940886, 'kAnnealingB': 2.525703925626489, 'kAnnealingStart': 24.436972914515255, 'kSkipRatio': 0.7495828547050658, 'kTargetDeterminationTrials': 10, 'kAttractionRatio': 0.06764593296234891, 'kMaxAttractionDistance': 27, 'kStartAttraction': 0.8847677279387091}. Best is trial 209 with value: 6482.385593220339.\u001b[0m\n"
     ]
    },
    {
     "name": "stdout",
     "output_type": "stream",
     "text": [
      "index_parallel='0214'\n"
     ]
    },
    {
     "name": "stderr",
     "output_type": "stream",
     "text": [
      "\u001b[32m[I 2022-08-16 09:08:24,913]\u001b[0m Trial 214 finished with value: 6453.21186440678 and parameters: {'kErase': 2, 'kRadius': 2, 'kAnnealingA': 0.8197797883812847, 'kAnnealingB': 2.6904546023869758, 'kAnnealingStart': 28.086287463775584, 'kSkipRatio': 0.7461277068682828, 'kTargetDeterminationTrials': 8, 'kAttractionRatio': 0.8281700368117904, 'kMaxAttractionDistance': 28, 'kStartAttraction': 0.8994153147414985}. Best is trial 209 with value: 6482.385593220339.\u001b[0m\n"
     ]
    },
    {
     "name": "stdout",
     "output_type": "stream",
     "text": [
      "index_parallel='0216'\n"
     ]
    },
    {
     "name": "stderr",
     "output_type": "stream",
     "text": [
      "\u001b[32m[I 2022-08-16 09:12:51,686]\u001b[0m Trial 216 finished with value: 6443.572033898305 and parameters: {'kErase': 2, 'kRadius': 2, 'kAnnealingA': 1.0352484857843314, 'kAnnealingB': 2.442983562991579, 'kAnnealingStart': 30.12421454419959, 'kSkipRatio': 0.7318987440016546, 'kTargetDeterminationTrials': 9, 'kAttractionRatio': 0.7245828301081552, 'kMaxAttractionDistance': 29, 'kStartAttraction': 0.7582483677549893}. Best is trial 209 with value: 6482.385593220339.\u001b[0m\n"
     ]
    },
    {
     "name": "stdout",
     "output_type": "stream",
     "text": [
      "index_parallel='0218'\n"
     ]
    },
    {
     "name": "stderr",
     "output_type": "stream",
     "text": [
      "\u001b[32m[I 2022-08-16 09:17:18,074]\u001b[0m Trial 218 finished with value: 6473.440677966101 and parameters: {'kErase': 2, 'kRadius': 2, 'kAnnealingA': 2.3044767960576604, 'kAnnealingB': 2.722085643861836, 'kAnnealingStart': 27.020373449946927, 'kSkipRatio': 0.7633907262089196, 'kTargetDeterminationTrials': 10, 'kAttractionRatio': 0.605788666280491, 'kMaxAttractionDistance': 32, 'kStartAttraction': 0.7745864208576969}. Best is trial 209 with value: 6482.385593220339.\u001b[0m\n"
     ]
    },
    {
     "name": "stdout",
     "output_type": "stream",
     "text": [
      "index_parallel='0220'\n"
     ]
    },
    {
     "name": "stderr",
     "output_type": "stream",
     "text": [
      "\u001b[32m[I 2022-08-16 09:21:45,065]\u001b[0m Trial 220 finished with value: 5449.550847457627 and parameters: {'kErase': 5, 'kRadius': 2, 'kAnnealingA': 2.1888365144909714, 'kAnnealingB': 2.8413521611933668, 'kAnnealingStart': 29.704822590732054, 'kSkipRatio': 0.4781629864033436, 'kTargetDeterminationTrials': 9, 'kAttractionRatio': 0.6356338519872445, 'kMaxAttractionDistance': 31, 'kStartAttraction': 0.7504109699162189}. Best is trial 209 with value: 6482.385593220339.\u001b[0m\n"
     ]
    },
    {
     "name": "stdout",
     "output_type": "stream",
     "text": [
      "index_parallel='0222'\n"
     ]
    },
    {
     "name": "stderr",
     "output_type": "stream",
     "text": [
      "\u001b[32m[I 2022-08-16 09:26:11,993]\u001b[0m Trial 222 finished with value: 6457.131355932203 and parameters: {'kErase': 2, 'kRadius': 2, 'kAnnealingA': 1.7062809966231134, 'kAnnealingB': 2.7837141148868794, 'kAnnealingStart': 26.169873772656153, 'kSkipRatio': 0.7625996401757913, 'kTargetDeterminationTrials': 8, 'kAttractionRatio': 0.7265749713182552, 'kMaxAttractionDistance': 33, 'kStartAttraction': 0.7969391741922629}. Best is trial 209 with value: 6482.385593220339.\u001b[0m\n"
     ]
    },
    {
     "name": "stdout",
     "output_type": "stream",
     "text": [
      "index_parallel='0224'\n"
     ]
    },
    {
     "name": "stderr",
     "output_type": "stream",
     "text": [
      "\u001b[32m[I 2022-08-16 09:30:38,386]\u001b[0m Trial 224 finished with value: 6432.25 and parameters: {'kErase': 2, 'kRadius': 2, 'kAnnealingA': 3.175552926490666, 'kAnnealingB': 2.6666245876555363, 'kAnnealingStart': 22.26572647148927, 'kSkipRatio': 0.7653961791098765, 'kTargetDeterminationTrials': 10, 'kAttractionRatio': 0.7869197470930367, 'kMaxAttractionDistance': 25, 'kStartAttraction': 0.722154448352641}. Best is trial 209 with value: 6482.385593220339.\u001b[0m\n"
     ]
    },
    {
     "name": "stdout",
     "output_type": "stream",
     "text": [
      "index_parallel='0226'\n"
     ]
    },
    {
     "name": "stderr",
     "output_type": "stream",
     "text": [
      "\u001b[32m[I 2022-08-16 09:35:04,992]\u001b[0m Trial 226 finished with value: 6421.966101694915 and parameters: {'kErase': 2, 'kRadius': 2, 'kAnnealingA': 0.7187758132397442, 'kAnnealingB': 2.4559407691337674, 'kAnnealingStart': 27.349500518024964, 'kSkipRatio': 0.7526944871100646, 'kTargetDeterminationTrials': 11, 'kAttractionRatio': 0.14224974043113328, 'kMaxAttractionDistance': 28, 'kStartAttraction': 0.8992951695280632}. Best is trial 209 with value: 6482.385593220339.\u001b[0m\n"
     ]
    },
    {
     "name": "stdout",
     "output_type": "stream",
     "text": [
      "index_parallel='0228'\n"
     ]
    },
    {
     "name": "stderr",
     "output_type": "stream",
     "text": [
      "\u001b[32m[I 2022-08-16 09:39:32,068]\u001b[0m Trial 228 finished with value: 6417.754237288135 and parameters: {'kErase': 2, 'kRadius': 2, 'kAnnealingA': -0.6194096209727373, 'kAnnealingB': 2.7293167125100473, 'kAnnealingStart': 32.73176743454832, 'kSkipRatio': 0.7361573264121619, 'kTargetDeterminationTrials': 9, 'kAttractionRatio': 0.8971236326247131, 'kMaxAttractionDistance': 36, 'kStartAttraction': 0.5849559061517207}. Best is trial 209 with value: 6482.385593220339.\u001b[0m\n"
     ]
    },
    {
     "name": "stdout",
     "output_type": "stream",
     "text": [
      "index_parallel='0230'\n"
     ]
    },
    {
     "name": "stderr",
     "output_type": "stream",
     "text": [
      "\u001b[32m[I 2022-08-16 09:43:58,563]\u001b[0m Trial 230 finished with value: 6462.067796610169 and parameters: {'kErase': 2, 'kRadius': 2, 'kAnnealingA': 1.396692919245739, 'kAnnealingB': 2.9012756947142653, 'kAnnealingStart': 29.442663707900905, 'kSkipRatio': 0.7727412367636216, 'kTargetDeterminationTrials': 2, 'kAttractionRatio': 0.5619903392434108, 'kMaxAttractionDistance': 40, 'kStartAttraction': 0.7065004210952028}. Best is trial 209 with value: 6482.385593220339.\u001b[0m\n"
     ]
    },
    {
     "name": "stdout",
     "output_type": "stream",
     "text": [
      "index_parallel='0232'\n"
     ]
    },
    {
     "name": "stderr",
     "output_type": "stream",
     "text": [
      "\u001b[32m[I 2022-08-16 09:48:25,543]\u001b[0m Trial 232 finished with value: 6446.542372881356 and parameters: {'kErase': 2, 'kRadius': 2, 'kAnnealingA': 1.7112691257480437, 'kAnnealingB': 2.945161891440689, 'kAnnealingStart': 28.173202403767913, 'kSkipRatio': 0.7706352613272955, 'kTargetDeterminationTrials': 3, 'kAttractionRatio': 0.5605852751064582, 'kMaxAttractionDistance': 40, 'kStartAttraction': 0.6996316543373357}. Best is trial 209 with value: 6482.385593220339.\u001b[0m\n"
     ]
    },
    {
     "name": "stdout",
     "output_type": "stream",
     "text": [
      "index_parallel='0234'\n"
     ]
    },
    {
     "name": "stderr",
     "output_type": "stream",
     "text": [
      "\u001b[32m[I 2022-08-16 09:52:52,534]\u001b[0m Trial 234 finished with value: 6449.576271186441 and parameters: {'kErase': 2, 'kRadius': 2, 'kAnnealingA': 1.1655735162979879, 'kAnnealingB': 2.9563696499591554, 'kAnnealingStart': 29.570704238734027, 'kSkipRatio': 0.7531813142926583, 'kTargetDeterminationTrials': 10, 'kAttractionRatio': 0.37525585785430615, 'kMaxAttractionDistance': 31, 'kStartAttraction': 0.5941645425891215}. Best is trial 209 with value: 6482.385593220339.\u001b[0m\n"
     ]
    },
    {
     "name": "stdout",
     "output_type": "stream",
     "text": [
      "index_parallel='0236'\n"
     ]
    },
    {
     "name": "stderr",
     "output_type": "stream",
     "text": [
      "\u001b[32m[I 2022-08-16 09:57:19,370]\u001b[0m Trial 236 finished with value: 6402.877118644068 and parameters: {'kErase': 2, 'kRadius': 2, 'kAnnealingA': 2.778708744944924, 'kAnnealingB': 2.336534372253207, 'kAnnealingStart': 36.13574569425155, 'kSkipRatio': 0.7760353995207798, 'kTargetDeterminationTrials': 8, 'kAttractionRatio': 0.47274263586875037, 'kMaxAttractionDistance': 42, 'kStartAttraction': 0.7978337252622479}. Best is trial 209 with value: 6482.385593220339.\u001b[0m\n"
     ]
    },
    {
     "name": "stdout",
     "output_type": "stream",
     "text": [
      "index_parallel='0238'\n"
     ]
    },
    {
     "name": "stderr",
     "output_type": "stream",
     "text": [
      "\u001b[32m[I 2022-08-16 10:01:46,101]\u001b[0m Trial 238 finished with value: 6416.737288135593 and parameters: {'kErase': 2, 'kRadius': 2, 'kAnnealingA': 2.3313839869470216, 'kAnnealingB': 2.8962431045327466, 'kAnnealingStart': 38.65127720700958, 'kSkipRatio': 0.7715354810731163, 'kTargetDeterminationTrials': 10, 'kAttractionRatio': 0.5475990298434963, 'kMaxAttractionDistance': 36, 'kStartAttraction': 0.7044907013343827}. Best is trial 209 with value: 6482.385593220339.\u001b[0m\n"
     ]
    },
    {
     "name": "stdout",
     "output_type": "stream",
     "text": [
      "index_parallel='0240'\n"
     ]
    },
    {
     "name": "stderr",
     "output_type": "stream",
     "text": [
      "\u001b[32m[I 2022-08-16 10:06:12,812]\u001b[0m Trial 240 finished with value: 5812.021186440678 and parameters: {'kErase': 2, 'kRadius': 2, 'kAnnealingA': 0.84891298905083, 'kAnnealingB': 2.615357419945554, 'kAnnealingStart': 32.639626655389456, 'kSkipRatio': 0.41817972317598257, 'kTargetDeterminationTrials': 9, 'kAttractionRatio': 0.6856241280443636, 'kMaxAttractionDistance': 39, 'kStartAttraction': 0.575648807849151}. Best is trial 209 with value: 6482.385593220339.\u001b[0m\n"
     ]
    },
    {
     "name": "stdout",
     "output_type": "stream",
     "text": [
      "index_parallel='0242'\n"
     ]
    },
    {
     "name": "stderr",
     "output_type": "stream",
     "text": [
      "\u001b[32m[I 2022-08-16 10:10:39,825]\u001b[0m Trial 242 finished with value: 6443.9449152542375 and parameters: {'kErase': 2, 'kRadius': 2, 'kAnnealingA': -0.1902707170218847, 'kAnnealingB': 1.7847192514267698, 'kAnnealingStart': 25.478699819400514, 'kSkipRatio': 0.760652050093754, 'kTargetDeterminationTrials': 11, 'kAttractionRatio': 0.2534176267801841, 'kMaxAttractionDistance': 50, 'kStartAttraction': 0.678043180641087}. Best is trial 209 with value: 6482.385593220339.\u001b[0m\n"
     ]
    },
    {
     "name": "stdout",
     "output_type": "stream",
     "text": [
      "index_parallel='0244'\n"
     ]
    },
    {
     "name": "stderr",
     "output_type": "stream",
     "text": [
      "\u001b[32m[I 2022-08-16 10:15:06,910]\u001b[0m Trial 244 finished with value: 6470.169491525424 and parameters: {'kErase': 2, 'kRadius': 2, 'kAnnealingA': 1.4774065116840327, 'kAnnealingB': 1.6766063098881185, 'kAnnealingStart': 29.094429082596868, 'kSkipRatio': 0.7582898770617598, 'kTargetDeterminationTrials': 10, 'kAttractionRatio': 0.2787944379272778, 'kMaxAttractionDistance': 30, 'kStartAttraction': 0.760590187653054}. Best is trial 209 with value: 6482.385593220339.\u001b[0m\n"
     ]
    },
    {
     "name": "stdout",
     "output_type": "stream",
     "text": [
      "index_parallel='0246'\n"
     ]
    },
    {
     "name": "stderr",
     "output_type": "stream",
     "text": [
      "\u001b[32m[I 2022-08-16 10:19:33,443]\u001b[0m Trial 246 finished with value: 6373.381355932203 and parameters: {'kErase': 2, 'kRadius': 2, 'kAnnealingA': 1.5438967928742378, 'kAnnealingB': 1.5138573604169319, 'kAnnealingStart': 28.97246745696073, 'kSkipRatio': 0.6382160781089021, 'kTargetDeterminationTrials': 10, 'kAttractionRatio': 0.369838016151428, 'kMaxAttractionDistance': 26, 'kStartAttraction': 0.8096407679630013}. Best is trial 209 with value: 6482.385593220339.\u001b[0m\n"
     ]
    },
    {
     "name": "stdout",
     "output_type": "stream",
     "text": [
      "index_parallel='0248'\n"
     ]
    },
    {
     "name": "stderr",
     "output_type": "stream",
     "text": [
      "\u001b[32m[I 2022-08-16 10:24:00,444]\u001b[0m Trial 248 finished with value: 6470.949152542373 and parameters: {'kErase': 2, 'kRadius': 2, 'kAnnealingA': 0.4012656638475277, 'kAnnealingB': 1.6799080572311533, 'kAnnealingStart': 38.308975684143434, 'kSkipRatio': 0.7495678346963544, 'kTargetDeterminationTrials': 11, 'kAttractionRatio': 0.2812335764955546, 'kMaxAttractionDistance': 28, 'kStartAttraction': 0.8918775929252837}. Best is trial 209 with value: 6482.385593220339.\u001b[0m\n"
     ]
    },
    {
     "name": "stdout",
     "output_type": "stream",
     "text": [
      "index_parallel='0250'\n"
     ]
    },
    {
     "name": "stderr",
     "output_type": "stream",
     "text": [
      "\u001b[32m[I 2022-08-16 10:28:27,900]\u001b[0m Trial 250 finished with value: 6457.745762711865 and parameters: {'kErase': 2, 'kRadius': 4, 'kAnnealingA': 0.3640203255083043, 'kAnnealingB': 1.8644137640203962, 'kAnnealingStart': 30.787250413154368, 'kSkipRatio': 0.7475078467350247, 'kTargetDeterminationTrials': 11, 'kAttractionRatio': 0.2971928536519702, 'kMaxAttractionDistance': 29, 'kStartAttraction': 0.8966653070433972}. Best is trial 209 with value: 6482.385593220339.\u001b[0m\n"
     ]
    },
    {
     "name": "stdout",
     "output_type": "stream",
     "text": [
      "index_parallel='0252'\n"
     ]
    },
    {
     "name": "stderr",
     "output_type": "stream",
     "text": [
      "\u001b[32m[I 2022-08-16 10:32:54,641]\u001b[0m Trial 252 finished with value: 6441.110169491525 and parameters: {'kErase': 2, 'kRadius': 2, 'kAnnealingA': 1.1688841560854768, 'kAnnealingB': 2.406143957205274, 'kAnnealingStart': 35.23918839423899, 'kSkipRatio': 0.7545429270426633, 'kTargetDeterminationTrials': 12, 'kAttractionRatio': 0.2763129016156596, 'kMaxAttractionDistance': 30, 'kStartAttraction': 0.7568904189452731}. Best is trial 209 with value: 6482.385593220339.\u001b[0m\n"
     ]
    },
    {
     "name": "stdout",
     "output_type": "stream",
     "text": [
      "index_parallel='0254'\n"
     ]
    },
    {
     "name": "stderr",
     "output_type": "stream",
     "text": [
      "\u001b[32m[I 2022-08-16 10:37:21,247]\u001b[0m Trial 254 finished with value: 5381.838983050848 and parameters: {'kErase': 2, 'kRadius': 2, 'kAnnealingA': 0.7465824963745166, 'kAnnealingB': 1.747775688775611, 'kAnnealingStart': 44.1111786369826, 'kSkipRatio': 0.2573799594365361, 'kTargetDeterminationTrials': 11, 'kAttractionRatio': 0.24816074889831213, 'kMaxAttractionDistance': 27, 'kStartAttraction': 0.7365625131521016}. Best is trial 209 with value: 6482.385593220339.\u001b[0m\n"
     ]
    },
    {
     "name": "stdout",
     "output_type": "stream",
     "text": [
      "index_parallel='0256'\n"
     ]
    },
    {
     "name": "stderr",
     "output_type": "stream",
     "text": [
      "\u001b[32m[I 2022-08-16 10:41:47,879]\u001b[0m Trial 256 finished with value: 6439.779661016949 and parameters: {'kErase': 2, 'kRadius': 2, 'kAnnealingA': 0.39241259442815307, 'kAnnealingB': 1.8273218869547818, 'kAnnealingStart': 36.99371914147455, 'kSkipRatio': 0.7746802451684142, 'kTargetDeterminationTrials': 13, 'kAttractionRatio': 0.29481096226867515, 'kMaxAttractionDistance': 24, 'kStartAttraction': 0.6320770473084966}. Best is trial 209 with value: 6482.385593220339.\u001b[0m\n"
     ]
    },
    {
     "name": "stdout",
     "output_type": "stream",
     "text": [
      "index_parallel='0258'\n"
     ]
    },
    {
     "name": "stderr",
     "output_type": "stream",
     "text": [
      "\u001b[32m[I 2022-08-16 10:46:14,376]\u001b[0m Trial 258 finished with value: 6450.838983050848 and parameters: {'kErase': 2, 'kRadius': 2, 'kAnnealingA': 0.8891564689518064, 'kAnnealingB': 1.6875927240414361, 'kAnnealingStart': 35.80524735158012, 'kSkipRatio': 0.739108900393119, 'kTargetDeterminationTrials': 12, 'kAttractionRatio': 0.28230126396541483, 'kMaxAttractionDistance': 26, 'kStartAttraction': 0.8015791981964498}. Best is trial 209 with value: 6482.385593220339.\u001b[0m\n"
     ]
    },
    {
     "name": "stdout",
     "output_type": "stream",
     "text": [
      "index_parallel='0260'\n"
     ]
    },
    {
     "name": "stderr",
     "output_type": "stream",
     "text": [
      "\u001b[32m[I 2022-08-16 10:50:40,943]\u001b[0m Trial 260 finished with value: 6462.4449152542375 and parameters: {'kErase': 2, 'kRadius': 2, 'kAnnealingA': 2.0172106569112844, 'kAnnealingB': 1.6085088835355708, 'kAnnealingStart': 31.93890380333173, 'kSkipRatio': 0.7587318210423867, 'kTargetDeterminationTrials': 12, 'kAttractionRatio': 0.3282561494540861, 'kMaxAttractionDistance': 27, 'kStartAttraction': 0.6993662474381143}. Best is trial 259 with value: 6484.974576271186.\u001b[0m\n"
     ]
    },
    {
     "name": "stdout",
     "output_type": "stream",
     "text": [
      "index_parallel='0262'\n"
     ]
    },
    {
     "name": "stderr",
     "output_type": "stream",
     "text": [
      "\u001b[32m[I 2022-08-16 10:55:07,683]\u001b[0m Trial 262 finished with value: 6419.190677966101 and parameters: {'kErase': 2, 'kRadius': 2, 'kAnnealingA': 2.70168446817313, 'kAnnealingB': 1.6223014613269349, 'kAnnealingStart': 32.18032585815401, 'kSkipRatio': 0.7557064464677302, 'kTargetDeterminationTrials': 1, 'kAttractionRatio': 0.34728758050715564, 'kMaxAttractionDistance': 27, 'kStartAttraction': 0.634244292120791}. Best is trial 259 with value: 6484.974576271186.\u001b[0m\n"
     ]
    },
    {
     "name": "stdout",
     "output_type": "stream",
     "text": [
      "index_parallel='0264'\n"
     ]
    },
    {
     "name": "stderr",
     "output_type": "stream",
     "text": [
      "\u001b[32m[I 2022-08-16 10:59:35,018]\u001b[0m Trial 264 finished with value: 6400.919491525424 and parameters: {'kErase': 2, 'kRadius': 2, 'kAnnealingA': 2.143946325161745, 'kAnnealingB': 1.5619001793953944, 'kAnnealingStart': 26.523736797410915, 'kSkipRatio': 0.720067726782686, 'kTargetDeterminationTrials': 13, 'kAttractionRatio': 0.3122938429756276, 'kMaxAttractionDistance': 28, 'kStartAttraction': 0.5512747152844711}. Best is trial 259 with value: 6484.974576271186.\u001b[0m\n"
     ]
    },
    {
     "name": "stdout",
     "output_type": "stream",
     "text": [
      "index_parallel='0266'\n"
     ]
    },
    {
     "name": "stderr",
     "output_type": "stream",
     "text": [
      "\u001b[32m[I 2022-08-16 11:04:01,516]\u001b[0m Trial 266 finished with value: 6446.525423728814 and parameters: {'kErase': 2, 'kRadius': 2, 'kAnnealingA': 0.9349989173051322, 'kAnnealingB': 1.7735614469742658, 'kAnnealingStart': 34.72244313278249, 'kSkipRatio': 0.7312348108340954, 'kTargetDeterminationTrials': 12, 'kAttractionRatio': 0.41674352000666604, 'kMaxAttractionDistance': 25, 'kStartAttraction': 0.7098151178203812}. Best is trial 259 with value: 6484.974576271186.\u001b[0m\n"
     ]
    },
    {
     "name": "stdout",
     "output_type": "stream",
     "text": [
      "index_parallel='0268'\n"
     ]
    },
    {
     "name": "stderr",
     "output_type": "stream",
     "text": [
      "\u001b[32m[I 2022-08-16 11:08:28,037]\u001b[0m Trial 268 finished with value: 6256.826271186441 and parameters: {'kErase': 2, 'kRadius': 2, 'kAnnealingA': 0.18256227749579124, 'kAnnealingB': 2.1290950204981054, 'kAnnealingStart': 23.36376903075766, 'kSkipRatio': 0.7842823857297418, 'kTargetDeterminationTrials': 11, 'kAttractionRatio': 0.3813430052446803, 'kMaxAttractionDistance': 22, 'kStartAttraction': 0.008233407648533527}. Best is trial 259 with value: 6484.974576271186.\u001b[0m\n"
     ]
    },
    {
     "name": "stdout",
     "output_type": "stream",
     "text": [
      "index_parallel='0270'\n"
     ]
    },
    {
     "name": "stderr",
     "output_type": "stream",
     "text": [
      "\u001b[32m[I 2022-08-16 11:12:54,725]\u001b[0m Trial 270 finished with value: 6463.970338983051 and parameters: {'kErase': 2, 'kRadius': 2, 'kAnnealingA': -0.32246958483075405, 'kAnnealingB': 2.56257992199517, 'kAnnealingStart': 38.98944107208966, 'kSkipRatio': 0.7661388168284707, 'kTargetDeterminationTrials': 11, 'kAttractionRatio': 0.23857750903559322, 'kMaxAttractionDistance': 29, 'kStartAttraction': 0.6260619377360863}. Best is trial 259 with value: 6484.974576271186.\u001b[0m\n"
     ]
    },
    {
     "name": "stdout",
     "output_type": "stream",
     "text": [
      "index_parallel='0272'\n"
     ]
    },
    {
     "name": "stderr",
     "output_type": "stream",
     "text": [
      "\u001b[32m[I 2022-08-16 11:17:21,243]\u001b[0m Trial 272 finished with value: 6472.724576271186 and parameters: {'kErase': 2, 'kRadius': 2, 'kAnnealingA': -0.21681063675658985, 'kAnnealingB': 2.563663348185283, 'kAnnealingStart': 46.87439008735029, 'kSkipRatio': 0.7671226309716638, 'kTargetDeterminationTrials': 13, 'kAttractionRatio': 0.26046401694381416, 'kMaxAttractionDistance': 30, 'kStartAttraction': 0.6065941035165593}. Best is trial 259 with value: 6484.974576271186.\u001b[0m\n"
     ]
    },
    {
     "name": "stdout",
     "output_type": "stream",
     "text": [
      "index_parallel='0274'\n"
     ]
    },
    {
     "name": "stderr",
     "output_type": "stream",
     "text": [
      "\u001b[32m[I 2022-08-16 11:21:47,516]\u001b[0m Trial 274 finished with value: 6422.39406779661 and parameters: {'kErase': 2, 'kRadius': 2, 'kAnnealingA': -0.5690761811196725, 'kAnnealingB': 2.5395679644296343, 'kAnnealingStart': 48.8674554235782, 'kSkipRatio': 0.7663722096035696, 'kTargetDeterminationTrials': 14, 'kAttractionRatio': 0.2508494865496306, 'kMaxAttractionDistance': 30, 'kStartAttraction': 0.5921024821241432}. Best is trial 259 with value: 6484.974576271186.\u001b[0m\n"
     ]
    },
    {
     "name": "stdout",
     "output_type": "stream",
     "text": [
      "index_parallel='0276'\n"
     ]
    },
    {
     "name": "stderr",
     "output_type": "stream",
     "text": [
      "\u001b[32m[I 2022-08-16 11:26:13,827]\u001b[0m Trial 276 finished with value: 6299.139830508475 and parameters: {'kErase': 2, 'kRadius': 2, 'kAnnealingA': 0.17754432294613914, 'kAnnealingB': 2.6778791751056854, 'kAnnealingStart': 47.027873037170544, 'kSkipRatio': 0.7801000778301393, 'kTargetDeterminationTrials': 11, 'kAttractionRatio': 0.2286875192872593, 'kMaxAttractionDistance': 32, 'kStartAttraction': 0.01815517665837984}. Best is trial 259 with value: 6484.974576271186.\u001b[0m\n"
     ]
    },
    {
     "name": "stdout",
     "output_type": "stream",
     "text": [
      "index_parallel='0278'\n"
     ]
    },
    {
     "name": "stderr",
     "output_type": "stream",
     "text": [
      "\u001b[32m[I 2022-08-16 11:30:40,810]\u001b[0m Trial 278 finished with value: 6393.580508474576 and parameters: {'kErase': 2, 'kRadius': 2, 'kAnnealingA': 0.8726578490235596, 'kAnnealingB': 2.754170432042726, 'kAnnealingStart': 40.94936600495219, 'kSkipRatio': 0.7450225631831444, 'kTargetDeterminationTrials': 13, 'kAttractionRatio': 0.2754085088863302, 'kMaxAttractionDistance': 29, 'kStartAttraction': 0.4915464418996382}. Best is trial 259 with value: 6484.974576271186.\u001b[0m\n"
     ]
    },
    {
     "name": "stdout",
     "output_type": "stream",
     "text": [
      "index_parallel='0280'\n"
     ]
    },
    {
     "name": "stderr",
     "output_type": "stream",
     "text": [
      "\u001b[32m[I 2022-08-16 11:35:07,361]\u001b[0m Trial 280 finished with value: 6465.470338983051 and parameters: {'kErase': 2, 'kRadius': 2, 'kAnnealingA': 1.20081758724625, 'kAnnealingB': 2.4816740959669135, 'kAnnealingStart': 37.35216706824646, 'kSkipRatio': 0.7592159981141569, 'kTargetDeterminationTrials': 12, 'kAttractionRatio': 0.6107776168961019, 'kMaxAttractionDistance': 25, 'kStartAttraction': 0.78372691450134}. Best is trial 259 with value: 6484.974576271186.\u001b[0m\n"
     ]
    },
    {
     "name": "stdout",
     "output_type": "stream",
     "text": [
      "index_parallel='0282'\n"
     ]
    },
    {
     "name": "stderr",
     "output_type": "stream",
     "text": [
      "\u001b[32m[I 2022-08-16 11:39:34,081]\u001b[0m Trial 282 finished with value: 6456.432203389831 and parameters: {'kErase': 2, 'kRadius': 2, 'kAnnealingA': 1.3011314005554793, 'kAnnealingB': 2.521001789097923, 'kAnnealingStart': 35.8498810609193, 'kSkipRatio': 0.7653045195832621, 'kTargetDeterminationTrials': 10, 'kAttractionRatio': 0.6269837013906292, 'kMaxAttractionDistance': 25, 'kStartAttraction': 0.8095969976686993}. Best is trial 259 with value: 6484.974576271186.\u001b[0m\n"
     ]
    },
    {
     "name": "stdout",
     "output_type": "stream",
     "text": [
      "index_parallel='0284'\n"
     ]
    }
   ],
   "source": [
    "study.optimize(\n",
    "    partial(objective, in_dir=in_dir, work_dir=work_dir),\n",
    "    n_trials=3000,\n",
    "    timeout=86400,\n",
    "    callbacks=[callback]\n",
    ")"
   ]
  },
  {
   "cell_type": "code",
   "execution_count": null,
   "id": "700269d2",
   "metadata": {},
   "outputs": [],
   "source": []
  }
 ],
 "metadata": {
  "kernelspec": {
   "display_name": "Python 3 (ipykernel)",
   "language": "python",
   "name": "python3"
  },
  "language_info": {
   "codemirror_mode": {
    "name": "ipython",
    "version": 3
   },
   "file_extension": ".py",
   "mimetype": "text/x-python",
   "name": "python",
   "nbconvert_exporter": "python",
   "pygments_lexer": "ipython3",
   "version": "3.9.12"
  }
 },
 "nbformat": 4,
 "nbformat_minor": 5
}
