{
 "cells": [
  {
   "cell_type": "code",
   "execution_count": 1,
   "id": "25a1dac8",
   "metadata": {},
   "outputs": [],
   "source": [
    "import re\n",
    "import sys\n",
    "from uuid import uuid1\n",
    "from time import sleep\n",
    "from pprint import pprint\n",
    "from pathlib import Path\n",
    "from tempfile import gettempdir\n",
    "from threading import Thread\n",
    "from functools import partial\n",
    "from subprocess import Popen, PIPE\n",
    "\n",
    "from tqdm.notebook import tqdm\n",
    "import numpy as np\n",
    "import optuna\n",
    "import pandas as pd\n",
    "import matplotlib.pyplot as plt\n",
    "\n",
    "FILENAME = \"main.cpp\""
   ]
  },
  {
   "cell_type": "code",
   "execution_count": 2,
   "id": "3dd4d02e",
   "metadata": {},
   "outputs": [
    {
     "name": "stdout",
     "output_type": "stream",
     "text": [
      "10 variables were found.\n"
     ]
    },
    {
     "data": {
      "text/html": [
       "<div>\n",
       "<style scoped>\n",
       "    .dataframe tbody tr th:only-of-type {\n",
       "        vertical-align: middle;\n",
       "    }\n",
       "\n",
       "    .dataframe tbody tr th {\n",
       "        vertical-align: top;\n",
       "    }\n",
       "\n",
       "    .dataframe thead th {\n",
       "        text-align: right;\n",
       "    }\n",
       "</style>\n",
       "<table border=\"1\" class=\"dataframe\">\n",
       "  <thead>\n",
       "    <tr style=\"text-align: right;\">\n",
       "      <th></th>\n",
       "      <th>name</th>\n",
       "      <th>method</th>\n",
       "      <th>min</th>\n",
       "      <th>max</th>\n",
       "      <th>log</th>\n",
       "      <th>left</th>\n",
       "      <th>right</th>\n",
       "    </tr>\n",
       "  </thead>\n",
       "  <tbody>\n",
       "    <tr>\n",
       "      <th>0</th>\n",
       "      <td>kErase</td>\n",
       "      <td>suggest_int</td>\n",
       "      <td>1.000</td>\n",
       "      <td>5.0</td>\n",
       "      <td>False</td>\n",
       "      <td>static constexpr auto kErase =</td>\n",
       "      <td>;             // OPTIMIZE [1, 5]</td>\n",
       "    </tr>\n",
       "    <tr>\n",
       "      <th>1</th>\n",
       "      <td>kRadius</td>\n",
       "      <td>suggest_int</td>\n",
       "      <td>2.000</td>\n",
       "      <td>6.0</td>\n",
       "      <td>False</td>\n",
       "      <td>static constexpr auto kRadius =</td>\n",
       "      <td>;            // OPTIMIZE [2, 6]</td>\n",
       "    </tr>\n",
       "    <tr>\n",
       "      <th>2</th>\n",
       "      <td>kAnnealingA</td>\n",
       "      <td>suggest_float</td>\n",
       "      <td>-15.000</td>\n",
       "      <td>15.0</td>\n",
       "      <td>False</td>\n",
       "      <td>static constexpr auto kAnnealingA =</td>\n",
       "      <td>;      // OPTIMIZE [-15.0, 15.0]</td>\n",
       "    </tr>\n",
       "    <tr>\n",
       "      <th>3</th>\n",
       "      <td>kAnnealingB</td>\n",
       "      <td>suggest_float</td>\n",
       "      <td>0.000</td>\n",
       "      <td>3.0</td>\n",
       "      <td>False</td>\n",
       "      <td>static constexpr auto kAnnealingB =</td>\n",
       "      <td>;      // OPTIMIZE [0.0, 3.0]</td>\n",
       "    </tr>\n",
       "    <tr>\n",
       "      <th>4</th>\n",
       "      <td>kAnnealingStart</td>\n",
       "      <td>suggest_float</td>\n",
       "      <td>1.000</td>\n",
       "      <td>100.0</td>\n",
       "      <td>True</td>\n",
       "      <td>static constexpr auto kAnnealingStart =</td>\n",
       "      <td>; // OPTIMIZE LOG [1.0, 100.0]</td>\n",
       "    </tr>\n",
       "    <tr>\n",
       "      <th>5</th>\n",
       "      <td>kSkipRatio</td>\n",
       "      <td>suggest_float</td>\n",
       "      <td>0.200</td>\n",
       "      <td>0.8</td>\n",
       "      <td>False</td>\n",
       "      <td>static constexpr auto kSkipRatio =</td>\n",
       "      <td>;       // OPTIMIZE [0.2, 0.8]</td>\n",
       "    </tr>\n",
       "    <tr>\n",
       "      <th>6</th>\n",
       "      <td>kTargetDeterminationTrials</td>\n",
       "      <td>suggest_int</td>\n",
       "      <td>1.000</td>\n",
       "      <td>20.0</td>\n",
       "      <td>True</td>\n",
       "      <td>static constexpr auto kTargetDeterminationTria...</td>\n",
       "      <td>; // OPTIMIZE LOG [1, 20]</td>\n",
       "    </tr>\n",
       "    <tr>\n",
       "      <th>7</th>\n",
       "      <td>kAttractionRatio</td>\n",
       "      <td>suggest_float</td>\n",
       "      <td>0.010</td>\n",
       "      <td>0.9</td>\n",
       "      <td>True</td>\n",
       "      <td>static constexpr auto kAttractionRatio =</td>\n",
       "      <td>;      // OPTIMIZE LOG [0.01, 0.9]</td>\n",
       "    </tr>\n",
       "    <tr>\n",
       "      <th>8</th>\n",
       "      <td>kMaxAttractionDistance</td>\n",
       "      <td>suggest_int</td>\n",
       "      <td>4.000</td>\n",
       "      <td>99.0</td>\n",
       "      <td>True</td>\n",
       "      <td>static constexpr auto kMaxAttractionDistance =</td>\n",
       "      <td>; // OPTIMIZE LOG [4, 99]</td>\n",
       "    </tr>\n",
       "    <tr>\n",
       "      <th>9</th>\n",
       "      <td>kStartAttraction</td>\n",
       "      <td>suggest_float</td>\n",
       "      <td>0.001</td>\n",
       "      <td>0.9</td>\n",
       "      <td>True</td>\n",
       "      <td>static constexpr auto kStartAttraction =</td>\n",
       "      <td>;     // OPTIMIZE LOG [0.001, 0.9]</td>\n",
       "    </tr>\n",
       "  </tbody>\n",
       "</table>\n",
       "</div>"
      ],
      "text/plain": [
       "                         name         method     min    max    log  \\\n",
       "0                      kErase    suggest_int   1.000    5.0  False   \n",
       "1                     kRadius    suggest_int   2.000    6.0  False   \n",
       "2                 kAnnealingA  suggest_float -15.000   15.0  False   \n",
       "3                 kAnnealingB  suggest_float   0.000    3.0  False   \n",
       "4             kAnnealingStart  suggest_float   1.000  100.0   True   \n",
       "5                  kSkipRatio  suggest_float   0.200    0.8  False   \n",
       "6  kTargetDeterminationTrials    suggest_int   1.000   20.0   True   \n",
       "7            kAttractionRatio  suggest_float   0.010    0.9   True   \n",
       "8      kMaxAttractionDistance    suggest_int   4.000   99.0   True   \n",
       "9            kStartAttraction  suggest_float   0.001    0.9   True   \n",
       "\n",
       "                                                left  \\\n",
       "0                    static constexpr auto kErase =    \n",
       "1                   static constexpr auto kRadius =    \n",
       "2               static constexpr auto kAnnealingA =    \n",
       "3               static constexpr auto kAnnealingB =    \n",
       "4           static constexpr auto kAnnealingStart =    \n",
       "5                static constexpr auto kSkipRatio =    \n",
       "6  static constexpr auto kTargetDeterminationTria...   \n",
       "7          static constexpr auto kAttractionRatio =    \n",
       "8    static constexpr auto kMaxAttractionDistance =    \n",
       "9          static constexpr auto kStartAttraction =    \n",
       "\n",
       "                                right  \n",
       "0    ;             // OPTIMIZE [1, 5]  \n",
       "1     ;            // OPTIMIZE [2, 6]  \n",
       "2    ;      // OPTIMIZE [-15.0, 15.0]  \n",
       "3       ;      // OPTIMIZE [0.0, 3.0]  \n",
       "4      ; // OPTIMIZE LOG [1.0, 100.0]  \n",
       "5      ;       // OPTIMIZE [0.2, 0.8]  \n",
       "6           ; // OPTIMIZE LOG [1, 20]  \n",
       "7  ;      // OPTIMIZE LOG [0.01, 0.9]  \n",
       "8           ; // OPTIMIZE LOG [4, 99]  \n",
       "9  ;     // OPTIMIZE LOG [0.001, 0.9]  "
      ]
     },
     "metadata": {},
     "output_type": "display_data"
    }
   ],
   "source": [
    "# ここでエラー出力は何かおかしいかもしれない\n",
    "\n",
    "\n",
    "# パラメータ抽出\n",
    "with open(FILENAME) as f:\n",
    "    answer = f.read()\n",
    "\n",
    "\n",
    "variables_optimize = []\n",
    "\n",
    "for left, value, right, options in re.findall(r\"^([^/\\n]*=\\s*)(.+?)(\\s*;\\s*//(?:.*\\W)?OPTIMIZE(\\W.*))$\", answer, re.MULTILINE):\n",
    "    name = left.replace(\"=\", \"\").strip().split()[-1]\n",
    "    \n",
    "    searched = re.search(r\".*\\[(?P<min>.*),(?P<max>.*)\\].*\", options)\n",
    "    if searched:\n",
    "        min_value = max_value = None\n",
    "        try:\n",
    "            min_value = eval(searched.group(\"min\"))\n",
    "            max_value = eval(searched.group(\"max\"))\n",
    "            assert min_value <= max_value\n",
    "        except Exception as e:\n",
    "            print(f\"searched={searched}\", file=sys.stderr)\n",
    "            print(e, file=sys.stderr)\n",
    "            continue\n",
    "        log = \"LOG\" in options  # 雑、直したほうが良い\n",
    "        if type(min_value) != type(max_value):\n",
    "            print(f\"searched={searched}\", file=sys.stderr)\n",
    "            print(\"types not matched\", file=sys.stderr)\n",
    "            continue\n",
    "        if isinstance(min_value, int):\n",
    "            method = \"suggest_int\"\n",
    "        elif isinstance(min_value, float):\n",
    "            method = \"suggest_float\"\n",
    "        else:\n",
    "            print(f\"searched={searched}\", file=sys.stderr)\n",
    "            print(f\"unknown type ({type(min_value)})\", file=sys.stderr)\n",
    "            continue\n",
    "        variables_optimize.append({\n",
    "            \"name\": name,\n",
    "            \"method\": method,\n",
    "            \"min\": min_value,\n",
    "            \"max\": max_value,\n",
    "            \"log\": log,\n",
    "            \"left\": left,\n",
    "            \"right\": right,\n",
    "        })\n",
    "    elif searched := re.search(r\".*\\{(?P<choices>.*?)\\}.*\", options):\n",
    "        choices = list(map(lambda x: x.strip(), searched.group(\"choices\").split(\",\")))\n",
    "        variables_optimize.append({\n",
    "            \"name\": name,\n",
    "            \"method\": \"suggest_categorical\",\n",
    "            \"choices\": choices,\n",
    "            \"left\": left,\n",
    "            \"right\": right,\n",
    "        })\n",
    "    else:\n",
    "        print(f\"searched={searched}\", file=sys.stderr)\n",
    "        print(f\"pattern was matched but options are incorrect.\", file=sys.stderr)\n",
    "\n",
    "print(len(variables_optimize), \"variables were found.\")\n",
    "if globals().get(\"pd\"):\n",
    "    display(pd.DataFrame(variables_optimize))\n",
    "else:\n",
    "    pprint(variables_optimize)"
   ]
  },
  {
   "cell_type": "code",
   "execution_count": 3,
   "id": "001042b9",
   "metadata": {},
   "outputs": [],
   "source": [
    "def escape(string):  # 正規表現の中でそのまま使いたい文字列をエスケープ\n",
    "    res = !echo '{string}' | sed -e 's/[]\\/$*.^[]/\\\\&/g'\n",
    "    return res[0]\n",
    "\n",
    "def escape_sed(string):  # sed の置換後の文字列用のエスケープ\n",
    "    res = !echo '{string}' | sed -e 's/[\\/&]/\\\\&/g'\n",
    "    return res[0]\n",
    "\n",
    "def read_stream(name, in_file, out_file):\n",
    "    for line in in_file:\n",
    "        print(f\"[{name}] {line.strip()}\", file=out_file)\n",
    "\n",
    "def run(cmd, name):\n",
    "    proc = Popen(cmd, stdout=PIPE, stderr=PIPE, universal_newlines=True, shell=isinstance(cmd, str))\n",
    "    stdout_thread = Thread(target=read_stream, args=(name, proc.stdout, sys.stdout))\n",
    "    stderr_thread = Thread(target=read_stream, args=(name, proc.stderr, sys.stderr))\n",
    "    stdout_thread.start()\n",
    "    stderr_thread.start()\n",
    "    proc.wait()\n",
    "    return proc\n",
    "\n",
    "def objective(trial, in_dir, work_dir):\n",
    "    n_internal_parallel = 3\n",
    "    \n",
    "    index_parallel = f\"{trial.number:04d}\"\n",
    "    print(f\"{index_parallel=}\")\n",
    "    \n",
    "    work_dir = Path(work_dir)\n",
    "    directory_input = Path(in_dir)  # 中のすべてのファイルに対して実行される\n",
    "    #parameters_changed_filename = Path(gettempdir()) / str(uuid1())\n",
    "    parameters_changed_filename = work_dir / f\"{index_parallel}_{FILENAME}\"\n",
    "    \n",
    "    run([\"mkdir\", f\"{work_dir / index_parallel}_out\"], \"mkdir\")\n",
    "    run([\"mkdir\", f\"{work_dir / index_parallel}_score\"], \"mkdir\")\n",
    "    \n",
    "    # ファイル作成\n",
    "    run(f\"cp {FILENAME} {parameters_changed_filename}\", \"cp\")\n",
    "    sed_options = [f\"-i {parameters_changed_filename}\"]\n",
    "    for variable in variables_optimize:\n",
    "        if variable[\"method\"] == \"suggest_categorical\":\n",
    "            val =  trial.suggest_categorical(variable[\"name\"], variable[\"choices\"])\n",
    "        else:\n",
    "            val = getattr(trial, variable[\"method\"])(variable[\"name\"], variable[\"min\"], variable[\"max\"], log=variable[\"log\"])\n",
    "        left = variable[\"left\"]\n",
    "        right = variable[\"right\"]\n",
    "        sed_options.append(f\"\"\"-e 's/^{escape(left)}.*{escape(right)}$/{escape_sed(left)}{val}{escape_sed(right)}/'\"\"\")\n",
    "    command_sed = f\"sed {' '.join(sed_options)}\"\n",
    "    #print(command_sed)\n",
    "    run(command_sed, \"sed\")\n",
    "    \n",
    "    # コンパイル\n",
    "    command_compile = f\"g++ {parameters_changed_filename} -std=gnu++17 -O2 -DONLINE_JUDGE -o {parameters_changed_filename}.out\"\n",
    "    #print(command_compile)\n",
    "    run(command_compile, \"compile\")\n",
    "    # 実行・採点コマンド (@ はファイル名)\n",
    "    command_exec = (\n",
    "        #f\"./a.out < ./tools/in/{i:04d}.txt > {out_file} && ./tools/target/release/vis ./tools/in/{i:04d}.txt {out_file}\"\n",
    "        #f\"../tools/target/release/tester $(pwd)/{parameters_changed_filename}.out < {directory_input}/@ 2>&1 | grep Score\"\n",
    "        #f\"../tools/target/release/tester $(pwd)/{parameters_changed_filename}.out < {directory_input}/@ 2>&1 | grep Score | sed -E s/[^0-9]+// > ./{index_parallel}_score/@;\"\n",
    "        #f\"cargo run --release --manifest-path ../tools/Cargo.toml --bin tester {directory_input}/@ $(pwd)/{parameters_changed_filename}.out 2>&1 | grep Score | sed -E s/[^0-9]+// > ./{index_parallel}_score/@;\"\n",
    "        f\"./{parameters_changed_filename}.out < {directory_input}/@ > {work_dir / index_parallel}_out/@;\"\n",
    "        f\"../tools/target/release/vis {directory_input}/@ {work_dir / index_parallel}_out/@ 2> /dev/null > {work_dir / index_parallel}_score/@;\"\n",
    "    )\n",
    "    # 並列実行 (sed はパスのディレクトリ部分を消してファイル名にしてる)\n",
    "    run(f\"find {directory_input}/* | sed 's!^.*/!!' | xargs -I@ -P {n_internal_parallel} sh -c '{command_exec}'\", \"exec\")\n",
    "    \n",
    "    # 集計\n",
    "    scores = []\n",
    "    for file_path in Path(f\"{work_dir / index_parallel}_score/\").iterdir():  \n",
    "        with open(file_path) as f:\n",
    "            scores.append(int(f.readline().strip().split()[-1]))\n",
    "    mean_score = sum(scores) / len(scores)\n",
    "    \n",
    "    # 後始末\n",
    "    run(f\"rm -rf {work_dir / index_parallel}_out\", \"rm\")\n",
    "    run(f\"rm -rf {work_dir / index_parallel}_score\", \"rm\")\n",
    "    #run(f\"rm {parameters_changed_filename}\", \"rm\")\n",
    "    run(f\"rm {parameters_changed_filename}.out\", \"rm\")\n",
    "    \n",
    "    return mean_score"
   ]
  },
  {
   "cell_type": "code",
   "execution_count": 4,
   "id": "2d2e133c",
   "metadata": {},
   "outputs": [
    {
     "name": "stderr",
     "output_type": "stream",
     "text": [
      "\u001b[32m[I 2022-08-16 05:02:40,349]\u001b[0m Using an existing study with name 'study_4_0' instead of creating a new one.\u001b[0m\n"
     ]
    }
   ],
   "source": [
    "K = 4\n",
    "N_CLASS = 0\n",
    "\n",
    "in_dir = Path(f\"in_{K}_{N_CLASS}\")\n",
    "work_dir = Path(f\"work_{K}_{N_CLASS}\")\n",
    "\n",
    "study_name = f\"study_{K}_{N_CLASS}\"\n",
    "storage_path = work_dir / \"study.db\"\n",
    "storage = f\"sqlite:///{storage_path}\"\n",
    "study = optuna.create_study(storage=storage, load_if_exists=True, study_name=study_name, direction=\"maximize\")\n",
    "\n",
    "def callback(study, trial):\n",
    "    try:\n",
    "        index_parallel = f\"{trial.number:04d}\"\n",
    "        parameters_changed_filename = work_dir / f\"{index_parallel}_{FILENAME}\"\n",
    "        if study.best_value == trial.value:\n",
    "            print(f\"Updated! {study.best_value}\")\n",
    "            !cp {parameters_changed_filename} {work_dir / \"best_parameters.cpp\"}\n",
    "        !rm {parameters_changed_filename}\n",
    "    except:\n",
    "        print(\":(\")\n"
   ]
  },
  {
   "cell_type": "code",
   "execution_count": null,
   "id": "61c2901d",
   "metadata": {},
   "outputs": [
    {
     "name": "stdout",
     "output_type": "stream",
     "text": [
      "index_parallel='0124'\n"
     ]
    },
    {
     "name": "stderr",
     "output_type": "stream",
     "text": [
      "\u001b[32m[I 2022-08-16 05:06:22,567]\u001b[0m Trial 124 finished with value: 5841.652631578947 and parameters: {'kErase': 1, 'kRadius': 2, 'kAnnealingA': 5.32710120610524, 'kAnnealingB': 2.3457553690026325, 'kAnnealingStart': 17.23695991358344, 'kSkipRatio': 0.5594133279070989, 'kTargetDeterminationTrials': 4, 'kAttractionRatio': 0.24527582637174747, 'kMaxAttractionDistance': 31, 'kStartAttraction': 0.01739180982046651}. Best is trial 121 with value: 5987.973684210527.\u001b[0m\n"
     ]
    },
    {
     "name": "stdout",
     "output_type": "stream",
     "text": [
      "index_parallel='0126'\n"
     ]
    },
    {
     "name": "stderr",
     "output_type": "stream",
     "text": [
      "\u001b[32m[I 2022-08-16 05:10:05,055]\u001b[0m Trial 126 finished with value: 5748.684210526316 and parameters: {'kErase': 1, 'kRadius': 2, 'kAnnealingA': 7.340976570504338, 'kAnnealingB': 1.7276234124888563, 'kAnnealingStart': 19.997793348261123, 'kSkipRatio': 0.5855825065580078, 'kTargetDeterminationTrials': 5, 'kAttractionRatio': 0.334455503116382, 'kMaxAttractionDistance': 22, 'kStartAttraction': 0.0407103627424712}. Best is trial 121 with value: 5987.973684210527.\u001b[0m\n"
     ]
    },
    {
     "name": "stdout",
     "output_type": "stream",
     "text": [
      "index_parallel='0128'\n"
     ]
    },
    {
     "name": "stderr",
     "output_type": "stream",
     "text": [
      "\u001b[32m[I 2022-08-16 05:13:47,179]\u001b[0m Trial 128 finished with value: 5935.042105263158 and parameters: {'kErase': 1, 'kRadius': 2, 'kAnnealingA': 2.848355704900248, 'kAnnealingB': 2.0485498282062986, 'kAnnealingStart': 13.770142872859532, 'kSkipRatio': 0.6242151759147784, 'kTargetDeterminationTrials': 6, 'kAttractionRatio': 0.5273097348096808, 'kMaxAttractionDistance': 19, 'kStartAttraction': 0.03394654328559219}. Best is trial 121 with value: 5987.973684210527.\u001b[0m\n"
     ]
    },
    {
     "name": "stdout",
     "output_type": "stream",
     "text": [
      "index_parallel='0130'\n"
     ]
    },
    {
     "name": "stderr",
     "output_type": "stream",
     "text": [
      "\u001b[32m[I 2022-08-16 05:17:29,909]\u001b[0m Trial 130 finished with value: 5925.8263157894735 and parameters: {'kErase': 1, 'kRadius': 2, 'kAnnealingA': -0.44612159459384354, 'kAnnealingB': 2.1240531124644964, 'kAnnealingStart': 15.9462924470371, 'kSkipRatio': 0.6695282033043134, 'kTargetDeterminationTrials': 4, 'kAttractionRatio': 0.44272766323926915, 'kMaxAttractionDistance': 24, 'kStartAttraction': 0.05403679659296155}. Best is trial 121 with value: 5987.973684210527.\u001b[0m\n"
     ]
    },
    {
     "name": "stdout",
     "output_type": "stream",
     "text": [
      "index_parallel='0132'\n"
     ]
    },
    {
     "name": "stderr",
     "output_type": "stream",
     "text": [
      "\u001b[32m[I 2022-08-16 05:21:12,333]\u001b[0m Trial 132 finished with value: 5959.852631578948 and parameters: {'kErase': 1, 'kRadius': 2, 'kAnnealingA': 1.4735176675982302, 'kAnnealingB': 1.9997412106838324, 'kAnnealingStart': 13.743317198644316, 'kSkipRatio': 0.6462768910237241, 'kTargetDeterminationTrials': 6, 'kAttractionRatio': 0.6196143000504958, 'kMaxAttractionDistance': 28, 'kStartAttraction': 0.03555288027717858}. Best is trial 121 with value: 5987.973684210527.\u001b[0m\n"
     ]
    },
    {
     "name": "stdout",
     "output_type": "stream",
     "text": [
      "index_parallel='0134'\n"
     ]
    },
    {
     "name": "stderr",
     "output_type": "stream",
     "text": [
      "\u001b[32m[I 2022-08-16 05:24:55,111]\u001b[0m Trial 134 finished with value: 5873.721052631579 and parameters: {'kErase': 1, 'kRadius': 2, 'kAnnealingA': 1.5078629646959951, 'kAnnealingB': 1.9230244600200568, 'kAnnealingStart': 10.313401354302211, 'kSkipRatio': 0.6494229299131566, 'kTargetDeterminationTrials': 6, 'kAttractionRatio': 0.7249846804720008, 'kMaxAttractionDistance': 26, 'kStartAttraction': 0.24213792116462896}. Best is trial 121 with value: 5987.973684210527.\u001b[0m\n"
     ]
    },
    {
     "name": "stdout",
     "output_type": "stream",
     "text": [
      "index_parallel='0136'\n"
     ]
    },
    {
     "name": "stderr",
     "output_type": "stream",
     "text": [
      "\u001b[32m[I 2022-08-16 05:28:37,880]\u001b[0m Trial 136 finished with value: 5552.442105263158 and parameters: {'kErase': 1, 'kRadius': 2, 'kAnnealingA': 3.580186434262048, 'kAnnealingB': 1.828737088074214, 'kAnnealingStart': 1.21483143490266, 'kSkipRatio': 0.5708190959636871, 'kTargetDeterminationTrials': 6, 'kAttractionRatio': 0.635618147335678, 'kMaxAttractionDistance': 29, 'kStartAttraction': 0.6159174613538506}. Best is trial 121 with value: 5987.973684210527.\u001b[0m\n"
     ]
    },
    {
     "name": "stdout",
     "output_type": "stream",
     "text": [
      "index_parallel='0138'\n"
     ]
    },
    {
     "name": "stderr",
     "output_type": "stream",
     "text": [
      "\u001b[32m[I 2022-08-16 05:32:20,730]\u001b[0m Trial 138 finished with value: 5889.0368421052635 and parameters: {'kErase': 1, 'kRadius': 2, 'kAnnealingA': 4.595171549076428, 'kAnnealingB': 1.748770101116526, 'kAnnealingStart': 11.973197749312883, 'kSkipRatio': 0.6456193807868708, 'kTargetDeterminationTrials': 7, 'kAttractionRatio': 0.5945345979973388, 'kMaxAttractionDistance': 24, 'kStartAttraction': 0.030961350300947446}. Best is trial 121 with value: 5987.973684210527.\u001b[0m\n"
     ]
    },
    {
     "name": "stdout",
     "output_type": "stream",
     "text": [
      "index_parallel='0140'\n"
     ]
    },
    {
     "name": "stderr",
     "output_type": "stream",
     "text": [
      "\u001b[32m[I 2022-08-16 05:36:03,531]\u001b[0m Trial 140 finished with value: 5823.594736842106 and parameters: {'kErase': 1, 'kRadius': 2, 'kAnnealingA': 1.1193656850379612, 'kAnnealingB': 1.5769954253520928, 'kAnnealingStart': 8.42814225046142, 'kSkipRatio': 0.6207664957281341, 'kTargetDeterminationTrials': 5, 'kAttractionRatio': 0.4816340340815989, 'kMaxAttractionDistance': 14, 'kStartAttraction': 0.06512877289757005}. Best is trial 121 with value: 5987.973684210527.\u001b[0m\n"
     ]
    },
    {
     "name": "stdout",
     "output_type": "stream",
     "text": [
      "index_parallel='0142'\n"
     ]
    },
    {
     "name": "stderr",
     "output_type": "stream",
     "text": [
      "\u001b[32m[I 2022-08-16 05:39:46,478]\u001b[0m Trial 142 finished with value: 5951.4473684210525 and parameters: {'kErase': 1, 'kRadius': 2, 'kAnnealingA': 5.742094784994936, 'kAnnealingB': 2.0044725805971426, 'kAnnealingStart': 15.93023947752897, 'kSkipRatio': 0.5456586217729114, 'kTargetDeterminationTrials': 6, 'kAttractionRatio': 0.7558090136834179, 'kMaxAttractionDistance': 27, 'kStartAttraction': 0.04028219195352094}. Best is trial 121 with value: 5987.973684210527.\u001b[0m\n"
     ]
    },
    {
     "name": "stdout",
     "output_type": "stream",
     "text": [
      "index_parallel='0144'\n"
     ]
    },
    {
     "name": "stderr",
     "output_type": "stream",
     "text": [
      "\u001b[32m[I 2022-08-16 05:43:29,263]\u001b[0m Trial 144 finished with value: 5920.363157894737 and parameters: {'kErase': 1, 'kRadius': 2, 'kAnnealingA': 2.4025008942266175, 'kAnnealingB': 1.9186703138885972, 'kAnnealingStart': 18.281043018256288, 'kSkipRatio': 0.6921766339563561, 'kTargetDeterminationTrials': 6, 'kAttractionRatio': 0.8147422421914564, 'kMaxAttractionDistance': 23, 'kStartAttraction': 0.04256645043262062}. Best is trial 143 with value: 5996.026315789473.\u001b[0m\n"
     ]
    },
    {
     "name": "stdout",
     "output_type": "stream",
     "text": [
      "index_parallel='0146'\n"
     ]
    },
    {
     "name": "stderr",
     "output_type": "stream",
     "text": [
      "\u001b[32m[I 2022-08-16 05:47:11,469]\u001b[0m Trial 146 finished with value: 5914.731578947369 and parameters: {'kErase': 1, 'kRadius': 2, 'kAnnealingA': 3.1550796258389604, 'kAnnealingB': 2.0047975106378315, 'kAnnealingStart': 13.510957264899199, 'kSkipRatio': 0.6661364187904534, 'kTargetDeterminationTrials': 6, 'kAttractionRatio': 0.6695772334623754, 'kMaxAttractionDistance': 22, 'kStartAttraction': 0.048007049723073125}. Best is trial 143 with value: 5996.026315789473.\u001b[0m\n"
     ]
    },
    {
     "name": "stdout",
     "output_type": "stream",
     "text": [
      "index_parallel='0148'\n"
     ]
    },
    {
     "name": "stderr",
     "output_type": "stream",
     "text": [
      "\u001b[32m[I 2022-08-16 05:50:54,025]\u001b[0m Trial 148 finished with value: 5779.642105263158 and parameters: {'kErase': 1, 'kRadius': 2, 'kAnnealingA': 5.1206249303499245, 'kAnnealingB': 1.8382858437149636, 'kAnnealingStart': 24.262136423998896, 'kSkipRatio': 0.6287333995394288, 'kTargetDeterminationTrials': 9, 'kAttractionRatio': 0.7320060562049547, 'kMaxAttractionDistance': 25, 'kStartAttraction': 0.022393156860894717}. Best is trial 143 with value: 5996.026315789473.\u001b[0m\n"
     ]
    },
    {
     "name": "stdout",
     "output_type": "stream",
     "text": [
      "index_parallel='0150'\n"
     ]
    },
    {
     "name": "stderr",
     "output_type": "stream",
     "text": [
      "\u001b[32m[I 2022-08-16 05:54:36,203]\u001b[0m Trial 150 finished with value: 5944.61052631579 and parameters: {'kErase': 1, 'kRadius': 2, 'kAnnealingA': 6.754728126499009, 'kAnnealingB': 1.8620678482209174, 'kAnnealingStart': 15.108007119625253, 'kSkipRatio': 0.6011845462611576, 'kTargetDeterminationTrials': 7, 'kAttractionRatio': 0.8949648271144993, 'kMaxAttractionDistance': 21, 'kStartAttraction': 0.059371337976294965}. Best is trial 143 with value: 5996.026315789473.\u001b[0m\n"
     ]
    },
    {
     "name": "stdout",
     "output_type": "stream",
     "text": [
      "index_parallel='0152'\n"
     ]
    },
    {
     "name": "stderr",
     "output_type": "stream",
     "text": [
      "\u001b[32m[I 2022-08-16 05:58:18,639]\u001b[0m Trial 152 finished with value: 5909.131578947368 and parameters: {'kErase': 1, 'kRadius': 2, 'kAnnealingA': 5.651171173397159, 'kAnnealingB': 1.8867788593486141, 'kAnnealingStart': 16.63033896727537, 'kSkipRatio': 0.5797700261185144, 'kTargetDeterminationTrials': 8, 'kAttractionRatio': 0.7678657989477728, 'kMaxAttractionDistance': 21, 'kStartAttraction': 0.05649542903858172}. Best is trial 143 with value: 5996.026315789473.\u001b[0m\n"
     ]
    },
    {
     "name": "stdout",
     "output_type": "stream",
     "text": [
      "index_parallel='0154'\n"
     ]
    },
    {
     "name": "stderr",
     "output_type": "stream",
     "text": [
      "\u001b[32m[I 2022-08-16 06:02:01,211]\u001b[0m Trial 154 finished with value: 5926.2947368421055 and parameters: {'kErase': 1, 'kRadius': 2, 'kAnnealingA': 1.7375758955726726, 'kAnnealingB': 1.6920425294544958, 'kAnnealingStart': 10.808029899209847, 'kSkipRatio': 0.5992554759295656, 'kTargetDeterminationTrials': 7, 'kAttractionRatio': 0.5690522464751518, 'kMaxAttractionDistance': 27, 'kStartAttraction': 0.0876462359387724}. Best is trial 143 with value: 5996.026315789473.\u001b[0m\n"
     ]
    },
    {
     "name": "stdout",
     "output_type": "stream",
     "text": [
      "index_parallel='0156'\n"
     ]
    },
    {
     "name": "stderr",
     "output_type": "stream",
     "text": [
      "\u001b[32m[I 2022-08-16 06:05:43,493]\u001b[0m Trial 156 finished with value: 5880.873684210526 and parameters: {'kErase': 1, 'kRadius': 2, 'kAnnealingA': 4.224484241964243, 'kAnnealingB': 1.9551956111243647, 'kAnnealingStart': 21.867331192591408, 'kSkipRatio': 0.5719132303362985, 'kTargetDeterminationTrials': 8, 'kAttractionRatio': 0.6465918733543955, 'kMaxAttractionDistance': 27, 'kStartAttraction': 0.14619187889498025}. Best is trial 143 with value: 5996.026315789473.\u001b[0m\n"
     ]
    },
    {
     "name": "stdout",
     "output_type": "stream",
     "text": [
      "index_parallel='0158'\n"
     ]
    },
    {
     "name": "stderr",
     "output_type": "stream",
     "text": [
      "\u001b[32m[I 2022-08-16 06:09:25,809]\u001b[0m Trial 158 finished with value: 5922.2052631578945 and parameters: {'kErase': 1, 'kRadius': 2, 'kAnnealingA': 2.692602695810839, 'kAnnealingB': 2.0515767030890295, 'kAnnealingStart': 16.871251311344583, 'kSkipRatio': 0.5474385251336522, 'kTargetDeterminationTrials': 5, 'kAttractionRatio': 0.5117578084035375, 'kMaxAttractionDistance': 13, 'kStartAttraction': 0.04219238068243204}. Best is trial 143 with value: 5996.026315789473.\u001b[0m\n"
     ]
    },
    {
     "name": "stdout",
     "output_type": "stream",
     "text": [
      "index_parallel='0160'\n"
     ]
    },
    {
     "name": "stderr",
     "output_type": "stream",
     "text": [
      "\u001b[32m[I 2022-08-16 06:13:08,172]\u001b[0m Trial 160 finished with value: 5971.3421052631575 and parameters: {'kErase': 1, 'kRadius': 2, 'kAnnealingA': 1.2687682060113823, 'kAnnealingB': 2.171485588631961, 'kAnnealingStart': 18.856502943295602, 'kSkipRatio': 0.6408232722810991, 'kTargetDeterminationTrials': 5, 'kAttractionRatio': 0.6431569169866658, 'kMaxAttractionDistance': 23, 'kStartAttraction': 0.04656989654389524}. Best is trial 143 with value: 5996.026315789473.\u001b[0m\n"
     ]
    },
    {
     "name": "stdout",
     "output_type": "stream",
     "text": [
      "index_parallel='0162'\n"
     ]
    },
    {
     "name": "stderr",
     "output_type": "stream",
     "text": [
      "\u001b[32m[I 2022-08-16 06:16:50,547]\u001b[0m Trial 162 finished with value: 5923.505263157895 and parameters: {'kErase': 1, 'kRadius': 2, 'kAnnealingA': 1.0703256550650844, 'kAnnealingB': 2.007171746566485, 'kAnnealingStart': 19.424409259740074, 'kSkipRatio': 0.6428377185917249, 'kTargetDeterminationTrials': 5, 'kAttractionRatio': 0.6267970324497186, 'kMaxAttractionDistance': 25, 'kStartAttraction': 0.036041739018823786}. Best is trial 143 with value: 5996.026315789473.\u001b[0m\n"
     ]
    },
    {
     "name": "stdout",
     "output_type": "stream",
     "text": [
      "index_parallel='0164'\n"
     ]
    },
    {
     "name": "stderr",
     "output_type": "stream",
     "text": [
      "\u001b[32m[I 2022-08-16 06:20:33,054]\u001b[0m Trial 164 finished with value: 5882.3 and parameters: {'kErase': 1, 'kRadius': 2, 'kAnnealingA': 3.429152536475634, 'kAnnealingB': 2.1576345146330387, 'kAnnealingStart': 14.914746502867413, 'kSkipRatio': 0.6216461373851757, 'kTargetDeterminationTrials': 5, 'kAttractionRatio': 0.7687483854252319, 'kMaxAttractionDistance': 23, 'kStartAttraction': 0.11923665258057517}. Best is trial 143 with value: 5996.026315789473.\u001b[0m\n"
     ]
    },
    {
     "name": "stdout",
     "output_type": "stream",
     "text": [
      "index_parallel='0166'\n"
     ]
    },
    {
     "name": "stderr",
     "output_type": "stream",
     "text": [
      "\u001b[32m[I 2022-08-16 06:24:15,377]\u001b[0m Trial 166 finished with value: 5963.821052631579 and parameters: {'kErase': 1, 'kRadius': 2, 'kAnnealingA': 4.828270108501564, 'kAnnealingB': 2.0928211550772593, 'kAnnealingStart': 16.598936701870056, 'kSkipRatio': 0.590822008643805, 'kTargetDeterminationTrials': 6, 'kAttractionRatio': 0.6727199500746338, 'kMaxAttractionDistance': 19, 'kStartAttraction': 0.07039359936279393}. Best is trial 143 with value: 5996.026315789473.\u001b[0m\n"
     ]
    },
    {
     "name": "stdout",
     "output_type": "stream",
     "text": [
      "index_parallel='0168'\n"
     ]
    },
    {
     "name": "stderr",
     "output_type": "stream",
     "text": [
      "\u001b[32m[I 2022-08-16 06:27:58,746]\u001b[0m Trial 168 finished with value: 5895.8263157894735 and parameters: {'kErase': 1, 'kRadius': 2, 'kAnnealingA': 0.04443708806831248, 'kAnnealingB': 2.2027374578538135, 'kAnnealingStart': 17.690052817614802, 'kSkipRatio': 0.5648640712112812, 'kTargetDeterminationTrials': 7, 'kAttractionRatio': 0.5017199110490094, 'kMaxAttractionDistance': 19, 'kStartAttraction': 0.07301995411941879}. Best is trial 143 with value: 5996.026315789473.\u001b[0m\n"
     ]
    },
    {
     "name": "stdout",
     "output_type": "stream",
     "text": [
      "index_parallel='0170'\n"
     ]
    },
    {
     "name": "stderr",
     "output_type": "stream",
     "text": [
      "\u001b[32m[I 2022-08-16 06:31:41,302]\u001b[0m Trial 170 finished with value: 5247.363157894737 and parameters: {'kErase': 1, 'kRadius': 2, 'kAnnealingA': 1.9867556009586944, 'kAnnealingB': 2.094488125921942, 'kAnnealingStart': 68.84530517689342, 'kSkipRatio': 0.6047348796884466, 'kTargetDeterminationTrials': 5, 'kAttractionRatio': 0.42465292609422284, 'kMaxAttractionDistance': 18, 'kStartAttraction': 0.05031908475743807}. Best is trial 143 with value: 5996.026315789473.\u001b[0m\n"
     ]
    },
    {
     "name": "stdout",
     "output_type": "stream",
     "text": [
      "index_parallel='0172'\n"
     ]
    },
    {
     "name": "stderr",
     "output_type": "stream",
     "text": [
      "\u001b[32m[I 2022-08-16 06:35:23,762]\u001b[0m Trial 172 finished with value: 5901.357894736842 and parameters: {'kErase': 1, 'kRadius': 2, 'kAnnealingA': 0.3808820012045857, 'kAnnealingB': 2.2745841468946004, 'kAnnealingStart': 27.032176361997298, 'kSkipRatio': 0.5301405612271229, 'kTargetDeterminationTrials': 7, 'kAttractionRatio': 0.5671125530801004, 'kMaxAttractionDistance': 18, 'kStartAttraction': 0.08102512722320968}. Best is trial 143 with value: 5996.026315789473.\u001b[0m\n"
     ]
    },
    {
     "name": "stdout",
     "output_type": "stream",
     "text": [
      "index_parallel='0174'\n"
     ]
    },
    {
     "name": "stderr",
     "output_type": "stream",
     "text": [
      "\u001b[32m[I 2022-08-16 06:39:06,248]\u001b[0m Trial 174 finished with value: 5804.9315789473685 and parameters: {'kErase': 1, 'kRadius': 2, 'kAnnealingA': 5.928499670077697, 'kAnnealingB': 2.0409047673897356, 'kAnnealingStart': 21.399651334675934, 'kSkipRatio': 0.5618760596320604, 'kTargetDeterminationTrials': 5, 'kAttractionRatio': 0.683559164339366, 'kMaxAttractionDistance': 17, 'kStartAttraction': 0.1003317472388026}. Best is trial 143 with value: 5996.026315789473.\u001b[0m\n"
     ]
    },
    {
     "name": "stdout",
     "output_type": "stream",
     "text": [
      "index_parallel='0176'\n"
     ]
    },
    {
     "name": "stderr",
     "output_type": "stream",
     "text": [
      "\u001b[32m[I 2022-08-16 06:42:48,613]\u001b[0m Trial 176 finished with value: 5939.968421052631 and parameters: {'kErase': 1, 'kRadius': 2, 'kAnnealingA': 4.0007973229956075, 'kAnnealingB': 2.158029543933888, 'kAnnealingStart': 16.49919027556355, 'kSkipRatio': 0.5921945644354832, 'kTargetDeterminationTrials': 6, 'kAttractionRatio': 0.44596435753224434, 'kMaxAttractionDistance': 15, 'kStartAttraction': 0.05953055369472816}. Best is trial 143 with value: 5996.026315789473.\u001b[0m\n"
     ]
    },
    {
     "name": "stdout",
     "output_type": "stream",
     "text": [
      "index_parallel='0178'\n"
     ]
    },
    {
     "name": "stderr",
     "output_type": "stream",
     "text": [
      "\u001b[32m[I 2022-08-16 06:46:30,871]\u001b[0m Trial 178 finished with value: 5921.663157894737 and parameters: {'kErase': 1, 'kRadius': 2, 'kAnnealingA': 2.0051294946767544, 'kAnnealingB': 2.5146432039645976, 'kAnnealingStart': 19.9027343756912, 'kSkipRatio': 0.6151314679641424, 'kTargetDeterminationTrials': 8, 'kAttractionRatio': 0.4028917327302603, 'kMaxAttractionDistance': 33, 'kStartAttraction': 0.04674912956740289}. Best is trial 143 with value: 5996.026315789473.\u001b[0m\n"
     ]
    },
    {
     "name": "stdout",
     "output_type": "stream",
     "text": [
      "index_parallel='0180'\n"
     ]
    },
    {
     "name": "stderr",
     "output_type": "stream",
     "text": [
      "\u001b[32m[I 2022-08-16 06:50:13,130]\u001b[0m Trial 180 finished with value: 5864.878947368421 and parameters: {'kErase': 1, 'kRadius': 2, 'kAnnealingA': 1.2918743680987002, 'kAnnealingB': 1.986400966250178, 'kAnnealingStart': 25.039946572644663, 'kSkipRatio': 0.5051942720125049, 'kTargetDeterminationTrials': 5, 'kAttractionRatio': 0.7895967295856573, 'kMaxAttractionDistance': 22, 'kStartAttraction': 0.04019222525978186}. Best is trial 143 with value: 5996.026315789473.\u001b[0m\n"
     ]
    },
    {
     "name": "stdout",
     "output_type": "stream",
     "text": [
      "index_parallel='0182'\n"
     ]
    },
    {
     "name": "stderr",
     "output_type": "stream",
     "text": [
      "\u001b[32m[I 2022-08-16 06:53:55,398]\u001b[0m Trial 182 finished with value: 5928.136842105263 and parameters: {'kErase': 1, 'kRadius': 2, 'kAnnealingA': 4.60270764579783, 'kAnnealingB': 1.930875492626987, 'kAnnealingStart': 12.55006410368247, 'kSkipRatio': 0.605726240578068, 'kTargetDeterminationTrials': 6, 'kAttractionRatio': 0.6082176398205521, 'kMaxAttractionDistance': 26, 'kStartAttraction': 0.030852485656737413}. Best is trial 143 with value: 5996.026315789473.\u001b[0m\n"
     ]
    },
    {
     "name": "stdout",
     "output_type": "stream",
     "text": [
      "index_parallel='0184'\n"
     ]
    },
    {
     "name": "stderr",
     "output_type": "stream",
     "text": [
      "\u001b[32m[I 2022-08-16 06:57:38,034]\u001b[0m Trial 184 finished with value: 5943.131578947368 and parameters: {'kErase': 1, 'kRadius': 2, 'kAnnealingA': 5.0235585852940225, 'kAnnealingB': 1.8900382260121387, 'kAnnealingStart': 17.721563998027527, 'kSkipRatio': 0.6258165843562616, 'kTargetDeterminationTrials': 7, 'kAttractionRatio': 0.6700840805962486, 'kMaxAttractionDistance': 29, 'kStartAttraction': 0.02745270992116424}. Best is trial 143 with value: 5996.026315789473.\u001b[0m\n"
     ]
    },
    {
     "name": "stdout",
     "output_type": "stream",
     "text": [
      "index_parallel='0186'\n"
     ]
    },
    {
     "name": "stderr",
     "output_type": "stream",
     "text": [
      "\u001b[32m[I 2022-08-16 07:01:20,223]\u001b[0m Trial 186 finished with value: 5946.515789473684 and parameters: {'kErase': 1, 'kRadius': 2, 'kAnnealingA': 3.1761989327326803, 'kAnnealingB': 1.762595301160727, 'kAnnealingStart': 15.791444711157732, 'kSkipRatio': 0.5786640793967052, 'kTargetDeterminationTrials': 7, 'kAttractionRatio': 0.33976491861721103, 'kMaxAttractionDistance': 38, 'kStartAttraction': 0.05306332528929306}. Best is trial 143 with value: 5996.026315789473.\u001b[0m\n"
     ]
    },
    {
     "name": "stdout",
     "output_type": "stream",
     "text": [
      "index_parallel='0188'\n"
     ]
    },
    {
     "name": "stderr",
     "output_type": "stream",
     "text": [
      "\u001b[32m[I 2022-08-16 07:05:02,557]\u001b[0m Trial 188 finished with value: 5957.478947368421 and parameters: {'kErase': 1, 'kRadius': 2, 'kAnnealingA': 2.5541296741510124, 'kAnnealingB': 1.7140478486206654, 'kAnnealingStart': 17.798973413944886, 'kSkipRatio': 0.6860232658858569, 'kTargetDeterminationTrials': 6, 'kAttractionRatio': 0.5377926263891739, 'kMaxAttractionDistance': 23, 'kStartAttraction': 0.025637440748110744}. Best is trial 143 with value: 5996.026315789473.\u001b[0m\n"
     ]
    },
    {
     "name": "stdout",
     "output_type": "stream",
     "text": [
      "index_parallel='0190'\n"
     ]
    },
    {
     "name": "stderr",
     "output_type": "stream",
     "text": [
      "\u001b[32m[I 2022-08-16 07:08:44,797]\u001b[0m Trial 190 finished with value: 5945.0842105263155 and parameters: {'kErase': 1, 'kRadius': 2, 'kAnnealingA': 2.5526787982358177, 'kAnnealingB': 2.3928287881468644, 'kAnnealingStart': 20.320509108306826, 'kSkipRatio': 0.6861649781113127, 'kTargetDeterminationTrials': 8, 'kAttractionRatio': 0.49595942425755163, 'kMaxAttractionDistance': 22, 'kStartAttraction': 0.027173175617169427}. Best is trial 143 with value: 5996.026315789473.\u001b[0m\n"
     ]
    },
    {
     "name": "stdout",
     "output_type": "stream",
     "text": [
      "index_parallel='0192'\n"
     ]
    },
    {
     "name": "stderr",
     "output_type": "stream",
     "text": [
      "\u001b[32m[I 2022-08-16 07:12:27,323]\u001b[0m Trial 192 finished with value: 5921.273684210526 and parameters: {'kErase': 1, 'kRadius': 2, 'kAnnealingA': 2.8718972367316624, 'kAnnealingB': 1.6121462916837819, 'kAnnealingStart': 17.46707301688809, 'kSkipRatio': 0.6932443080067722, 'kTargetDeterminationTrials': 9, 'kAttractionRatio': 0.5507899975669008, 'kMaxAttractionDistance': 24, 'kStartAttraction': 0.01899915518197091}. Best is trial 143 with value: 5996.026315789473.\u001b[0m\n"
     ]
    },
    {
     "name": "stdout",
     "output_type": "stream",
     "text": [
      "index_parallel='0194'\n"
     ]
    },
    {
     "name": "stderr",
     "output_type": "stream",
     "text": [
      "\u001b[32m[I 2022-08-16 07:16:10,140]\u001b[0m Trial 194 finished with value: 5910.873684210526 and parameters: {'kErase': 1, 'kRadius': 2, 'kAnnealingA': 3.557290940994086, 'kAnnealingB': 1.69458722966766, 'kAnnealingStart': 17.782221268596185, 'kSkipRatio': 0.6718988721900871, 'kTargetDeterminationTrials': 7, 'kAttractionRatio': 0.5521013959941864, 'kMaxAttractionDistance': 24, 'kStartAttraction': 0.02354260627249229}. Best is trial 143 with value: 5996.026315789473.\u001b[0m\n"
     ]
    },
    {
     "name": "stdout",
     "output_type": "stream",
     "text": [
      "index_parallel='0196'\n"
     ]
    },
    {
     "name": "stderr",
     "output_type": "stream",
     "text": [
      "\u001b[32m[I 2022-08-16 07:19:53,361]\u001b[0m Trial 196 finished with value: 5218.436842105263 and parameters: {'kErase': 4, 'kRadius': 2, 'kAnnealingA': 6.327239366106551, 'kAnnealingB': 1.8115954946888864, 'kAnnealingStart': 19.16060146491057, 'kSkipRatio': 0.7065300420008619, 'kTargetDeterminationTrials': 6, 'kAttractionRatio': 0.7472109137140465, 'kMaxAttractionDistance': 26, 'kStartAttraction': 0.03170918066282075}. Best is trial 143 with value: 5996.026315789473.\u001b[0m\n"
     ]
    },
    {
     "name": "stdout",
     "output_type": "stream",
     "text": [
      "index_parallel='0198'\n"
     ]
    },
    {
     "name": "stderr",
     "output_type": "stream",
     "text": [
      "\u001b[32m[I 2022-08-16 07:23:35,959]\u001b[0m Trial 198 finished with value: 5960.268421052631 and parameters: {'kErase': 1, 'kRadius': 2, 'kAnnealingA': 1.9603819962163018, 'kAnnealingB': 1.5323915216535569, 'kAnnealingStart': 22.645176503586676, 'kSkipRatio': 0.7127160853176637, 'kTargetDeterminationTrials': 6, 'kAttractionRatio': 0.5891118208505424, 'kMaxAttractionDistance': 21, 'kStartAttraction': 0.016041375912184686}. Best is trial 143 with value: 5996.026315789473.\u001b[0m\n"
     ]
    },
    {
     "name": "stdout",
     "output_type": "stream",
     "text": [
      "index_parallel='0200'\n"
     ]
    },
    {
     "name": "stderr",
     "output_type": "stream",
     "text": [
      "\u001b[32m[I 2022-08-16 07:27:18,169]\u001b[0m Trial 200 finished with value: 5925.0842105263155 and parameters: {'kErase': 1, 'kRadius': 2, 'kAnnealingA': -0.0035710266047639383, 'kAnnealingB': 1.7255306983877183, 'kAnnealingStart': 20.85631574486136, 'kSkipRatio': 0.7239833896935827, 'kTargetDeterminationTrials': 7, 'kAttractionRatio': 0.4467816590262483, 'kMaxAttractionDistance': 19, 'kStartAttraction': 0.015500324994998177}. Best is trial 143 with value: 5996.026315789473.\u001b[0m\n"
     ]
    },
    {
     "name": "stdout",
     "output_type": "stream",
     "text": [
      "index_parallel='0202'\n"
     ]
    },
    {
     "name": "stderr",
     "output_type": "stream",
     "text": [
      "\u001b[32m[I 2022-08-16 07:31:00,585]\u001b[0m Trial 202 finished with value: 5872.663157894737 and parameters: {'kErase': 1, 'kRadius': 2, 'kAnnealingA': 0.8657499533433364, 'kAnnealingB': 1.4941841004637462, 'kAnnealingStart': 16.037462598511947, 'kSkipRatio': 0.7158125222050084, 'kTargetDeterminationTrials': 6, 'kAttractionRatio': 0.6212676759313739, 'kMaxAttractionDistance': 20, 'kStartAttraction': 0.0358626314502435}. Best is trial 143 with value: 5996.026315789473.\u001b[0m\n"
     ]
    },
    {
     "name": "stdout",
     "output_type": "stream",
     "text": [
      "index_parallel='0204'\n"
     ]
    },
    {
     "name": "stderr",
     "output_type": "stream",
     "text": [
      "\u001b[32m[I 2022-08-16 07:34:42,756]\u001b[0m Trial 204 finished with value: 5958.573684210526 and parameters: {'kErase': 1, 'kRadius': 2, 'kAnnealingA': 2.362235388831216, 'kAnnealingB': 1.585172917803927, 'kAnnealingStart': 16.842385881367733, 'kSkipRatio': 0.5960093946426013, 'kTargetDeterminationTrials': 6, 'kAttractionRatio': 0.5026534169504735, 'kMaxAttractionDistance': 22, 'kStartAttraction': 0.02155390026039179}. Best is trial 143 with value: 5996.026315789473.\u001b[0m\n"
     ]
    },
    {
     "name": "stdout",
     "output_type": "stream",
     "text": [
      "index_parallel='0206'\n"
     ]
    },
    {
     "name": "stderr",
     "output_type": "stream",
     "text": [
      "\u001b[32m[I 2022-08-16 07:38:25,011]\u001b[0m Trial 206 finished with value: 5884.715789473684 and parameters: {'kErase': 1, 'kRadius': 2, 'kAnnealingA': 1.6657996781170106, 'kAnnealingB': 1.5891173072238003, 'kAnnealingStart': 22.8955422854097, 'kSkipRatio': 0.5936892598194005, 'kTargetDeterminationTrials': 7, 'kAttractionRatio': 0.39616849301468254, 'kMaxAttractionDistance': 21, 'kStartAttraction': 0.0262478011124924}. Best is trial 143 with value: 5996.026315789473.\u001b[0m\n"
     ]
    },
    {
     "name": "stdout",
     "output_type": "stream",
     "text": [
      "index_parallel='0208'\n"
     ]
    },
    {
     "name": "stderr",
     "output_type": "stream",
     "text": [
      "\u001b[32m[I 2022-08-16 07:42:07,107]\u001b[0m Trial 208 finished with value: 5940.621052631579 and parameters: {'kErase': 1, 'kRadius': 2, 'kAnnealingA': 2.8040834103770025, 'kAnnealingB': 1.6609853953136022, 'kAnnealingStart': 17.98283074614341, 'kSkipRatio': 0.7537405934113895, 'kTargetDeterminationTrials': 5, 'kAttractionRatio': 0.5268549510569434, 'kMaxAttractionDistance': 25, 'kStartAttraction': 0.020374271672696544}. Best is trial 143 with value: 5996.026315789473.\u001b[0m\n"
     ]
    },
    {
     "name": "stdout",
     "output_type": "stream",
     "text": [
      "index_parallel='0210'\n"
     ]
    },
    {
     "name": "stderr",
     "output_type": "stream",
     "text": [
      "\u001b[32m[I 2022-08-16 07:45:49,873]\u001b[0m Trial 210 finished with value: 5927.121052631579 and parameters: {'kErase': 1, 'kRadius': 2, 'kAnnealingA': 1.4785252721639295, 'kAnnealingB': 1.5223800769467406, 'kAnnealingStart': 19.31743179034816, 'kSkipRatio': 0.6524100009861092, 'kTargetDeterminationTrials': 17, 'kAttractionRatio': 0.5726878424085285, 'kMaxAttractionDistance': 23, 'kStartAttraction': 0.01107369215938355}. Best is trial 143 with value: 5996.026315789473.\u001b[0m\n"
     ]
    },
    {
     "name": "stdout",
     "output_type": "stream",
     "text": [
      "index_parallel='0212'\n"
     ]
    },
    {
     "name": "stderr",
     "output_type": "stream",
     "text": [
      "\u001b[32m[I 2022-08-16 07:49:32,161]\u001b[0m Trial 212 finished with value: 5959.121052631579 and parameters: {'kErase': 1, 'kRadius': 2, 'kAnnealingA': 2.242808902028002, 'kAnnealingB': 1.6170110296928955, 'kAnnealingStart': 17.32752746242436, 'kSkipRatio': 0.6772888412898344, 'kTargetDeterminationTrials': 8, 'kAttractionRatio': 0.4826880900151646, 'kMaxAttractionDistance': 25, 'kStartAttraction': 0.021049318753422905}. Best is trial 143 with value: 5996.026315789473.\u001b[0m\n"
     ]
    },
    {
     "name": "stdout",
     "output_type": "stream",
     "text": [
      "index_parallel='0214'\n"
     ]
    },
    {
     "name": "stderr",
     "output_type": "stream",
     "text": [
      "\u001b[32m[I 2022-08-16 07:53:15,258]\u001b[0m Trial 214 finished with value: 5056.515789473684 and parameters: {'kErase': 5, 'kRadius': 2, 'kAnnealingA': 2.2670448947829813, 'kAnnealingB': 1.3780049940433459, 'kAnnealingStart': 17.15380517381446, 'kSkipRatio': 0.738353682277443, 'kTargetDeterminationTrials': 8, 'kAttractionRatio': 0.658025797598571, 'kMaxAttractionDistance': 16, 'kStartAttraction': 0.023603948159155837}. Best is trial 143 with value: 5996.026315789473.\u001b[0m\n"
     ]
    },
    {
     "name": "stdout",
     "output_type": "stream",
     "text": [
      "index_parallel='0216'\n"
     ]
    },
    {
     "name": "stderr",
     "output_type": "stream",
     "text": [
      "\u001b[32m[I 2022-08-16 07:56:57,597]\u001b[0m Trial 216 finished with value: 5932.5368421052635 and parameters: {'kErase': 1, 'kRadius': 2, 'kAnnealingA': 3.295295331477579, 'kAnnealingB': 2.0905322574329563, 'kAnnealingStart': 14.956667464519253, 'kSkipRatio': 0.6932396844982369, 'kTargetDeterminationTrials': 7, 'kAttractionRatio': 0.46693455866944666, 'kMaxAttractionDistance': 19, 'kStartAttraction': 0.012284678937633721}. Best is trial 143 with value: 5996.026315789473.\u001b[0m\n"
     ]
    },
    {
     "name": "stdout",
     "output_type": "stream",
     "text": [
      "index_parallel='0218'\n"
     ]
    },
    {
     "name": "stderr",
     "output_type": "stream",
     "text": [
      "\u001b[32m[I 2022-08-16 08:00:39,782]\u001b[0m Trial 218 finished with value: 5899.38947368421 and parameters: {'kErase': 1, 'kRadius': 2, 'kAnnealingA': 0.4989355759663844, 'kAnnealingB': 1.6356325230381288, 'kAnnealingStart': 25.736445474588233, 'kSkipRatio': 0.6796317940446623, 'kTargetDeterminationTrials': 6, 'kAttractionRatio': 0.5769453673305664, 'kMaxAttractionDistance': 17, 'kStartAttraction': 0.032702125886696604}. Best is trial 143 with value: 5996.026315789473.\u001b[0m\n"
     ]
    },
    {
     "name": "stdout",
     "output_type": "stream",
     "text": [
      "index_parallel='0220'\n"
     ]
    },
    {
     "name": "stderr",
     "output_type": "stream",
     "text": [
      "\u001b[32m[I 2022-08-16 08:04:22,155]\u001b[0m Trial 220 finished with value: 5873.168421052632 and parameters: {'kErase': 1, 'kRadius': 4, 'kAnnealingA': 1.3126550623902338, 'kAnnealingB': 0.0019279164906731427, 'kAnnealingStart': 16.272731749854636, 'kSkipRatio': 0.6308150018888978, 'kTargetDeterminationTrials': 9, 'kAttractionRatio': 0.3655147415878561, 'kMaxAttractionDistance': 22, 'kStartAttraction': 0.015429134378151963}. Best is trial 143 with value: 5996.026315789473.\u001b[0m\n"
     ]
    },
    {
     "name": "stdout",
     "output_type": "stream",
     "text": [
      "index_parallel='0222'\n"
     ]
    },
    {
     "name": "stderr",
     "output_type": "stream",
     "text": [
      "\u001b[32m[I 2022-08-16 08:08:04,544]\u001b[0m Trial 222 finished with value: 5992.4157894736845 and parameters: {'kErase': 1, 'kRadius': 2, 'kAnnealingA': 2.250197017177719, 'kAnnealingB': 1.55661583263394, 'kAnnealingStart': 18.58308243441804, 'kSkipRatio': 0.6542647949535151, 'kTargetDeterminationTrials': 8, 'kAttractionRatio': 0.5170605128779695, 'kMaxAttractionDistance': 25, 'kStartAttraction': 0.02304678432351085}. Best is trial 143 with value: 5996.026315789473.\u001b[0m\n"
     ]
    },
    {
     "name": "stdout",
     "output_type": "stream",
     "text": [
      "index_parallel='0224'\n"
     ]
    },
    {
     "name": "stderr",
     "output_type": "stream",
     "text": [
      "\u001b[32m[I 2022-08-16 08:11:46,937]\u001b[0m Trial 224 finished with value: 5949.7 and parameters: {'kErase': 1, 'kRadius': 2, 'kAnnealingA': 2.0241290330220796, 'kAnnealingB': 1.5992114765148477, 'kAnnealingStart': 18.846464037232842, 'kSkipRatio': 0.6444238648395447, 'kTargetDeterminationTrials': 7, 'kAttractionRatio': 0.5210096398519337, 'kMaxAttractionDistance': 26, 'kStartAttraction': 0.027273490225924988}. Best is trial 143 with value: 5996.026315789473.\u001b[0m\n"
     ]
    },
    {
     "name": "stdout",
     "output_type": "stream",
     "text": [
      "index_parallel='0226'\n"
     ]
    },
    {
     "name": "stderr",
     "output_type": "stream",
     "text": [
      "\u001b[32m[I 2022-08-16 08:15:29,403]\u001b[0m Trial 226 finished with value: 5846.921052631579 and parameters: {'kErase': 1, 'kRadius': 2, 'kAnnealingA': 4.5644958731096805, 'kAnnealingB': 2.041506033999213, 'kAnnealingStart': 20.579173813896166, 'kSkipRatio': 0.6630501779176555, 'kTargetDeterminationTrials': 7, 'kAttractionRatio': 0.4315096999854396, 'kMaxAttractionDistance': 24, 'kStartAttraction': 0.024619987895169827}. Best is trial 143 with value: 5996.026315789473.\u001b[0m\n"
     ]
    },
    {
     "name": "stdout",
     "output_type": "stream",
     "text": [
      "index_parallel='0228'\n"
     ]
    },
    {
     "name": "stderr",
     "output_type": "stream",
     "text": [
      "\u001b[32m[I 2022-08-16 08:19:12,073]\u001b[0m Trial 228 finished with value: 5939.6736842105265 and parameters: {'kErase': 1, 'kRadius': 2, 'kAnnealingA': 1.7799802358780352, 'kAnnealingB': 1.4222092597958533, 'kAnnealingStart': 21.931746340114373, 'kSkipRatio': 0.669545202658596, 'kTargetDeterminationTrials': 8, 'kAttractionRatio': 0.5659918372595367, 'kMaxAttractionDistance': 24, 'kStartAttraction': 0.02778823444864903}. Best is trial 143 with value: 5996.026315789473.\u001b[0m\n"
     ]
    },
    {
     "name": "stdout",
     "output_type": "stream",
     "text": [
      "index_parallel='0230'\n"
     ]
    },
    {
     "name": "stderr",
     "output_type": "stream",
     "text": [
      "\u001b[32m[I 2022-08-16 08:22:55,141]\u001b[0m Trial 230 finished with value: 5918.321052631579 and parameters: {'kErase': 1, 'kRadius': 2, 'kAnnealingA': 2.9165219926718633, 'kAnnealingB': 1.5641081091936602, 'kAnnealingStart': 13.648265704246489, 'kSkipRatio': 0.6138885608742414, 'kTargetDeterminationTrials': 7, 'kAttractionRatio': 0.6340741629821192, 'kMaxAttractionDistance': 22, 'kStartAttraction': 0.01897617744382796}. Best is trial 143 with value: 5996.026315789473.\u001b[0m\n"
     ]
    },
    {
     "name": "stdout",
     "output_type": "stream",
     "text": [
      "index_parallel='0232'\n"
     ]
    },
    {
     "name": "stderr",
     "output_type": "stream",
     "text": [
      "\u001b[32m[I 2022-08-16 08:26:37,331]\u001b[0m Trial 232 finished with value: 5888.0842105263155 and parameters: {'kErase': 1, 'kRadius': 2, 'kAnnealingA': 1.074458929333189, 'kAnnealingB': 1.8829171401402793, 'kAnnealingStart': 18.99719391921727, 'kSkipRatio': 0.6355056245392708, 'kTargetDeterminationTrials': 6, 'kAttractionRatio': 0.5328630384092283, 'kMaxAttractionDistance': 28, 'kStartAttraction': 0.02977449630342954}. Best is trial 143 with value: 5996.026315789473.\u001b[0m\n"
     ]
    },
    {
     "name": "stdout",
     "output_type": "stream",
     "text": [
      "index_parallel='0234'\n"
     ]
    },
    {
     "name": "stderr",
     "output_type": "stream",
     "text": [
      "\u001b[32m[I 2022-08-16 08:30:19,737]\u001b[0m Trial 234 finished with value: 5877.9 and parameters: {'kErase': 1, 'kRadius': 2, 'kAnnealingA': 5.113913657974137, 'kAnnealingB': 1.6923043446166857, 'kAnnealingStart': 19.567665314549597, 'kSkipRatio': 0.5989390415649514, 'kTargetDeterminationTrials': 5, 'kAttractionRatio': 0.48552283577244565, 'kMaxAttractionDistance': 18, 'kStartAttraction': 0.022143241959942828}. Best is trial 143 with value: 5996.026315789473.\u001b[0m\n"
     ]
    },
    {
     "name": "stdout",
     "output_type": "stream",
     "text": [
      "index_parallel='0236'\n"
     ]
    },
    {
     "name": "stderr",
     "output_type": "stream",
     "text": [
      "\u001b[32m[I 2022-08-16 08:34:02,189]\u001b[0m Trial 236 finished with value: 5944.042105263158 and parameters: {'kErase': 1, 'kRadius': 2, 'kAnnealingA': -0.40268062960276496, 'kAnnealingB': 1.9698431663336566, 'kAnnealingStart': 16.96175450835084, 'kSkipRatio': 0.6516495183593587, 'kTargetDeterminationTrials': 7, 'kAttractionRatio': 0.4226215296354192, 'kMaxAttractionDistance': 26, 'kStartAttraction': 0.0458763868326889}. Best is trial 143 with value: 5996.026315789473.\u001b[0m\n"
     ]
    },
    {
     "name": "stdout",
     "output_type": "stream",
     "text": [
      "index_parallel='0238'\n"
     ]
    },
    {
     "name": "stderr",
     "output_type": "stream",
     "text": [
      "\u001b[32m[I 2022-08-16 08:37:44,521]\u001b[0m Trial 238 finished with value: 5903.91052631579 and parameters: {'kErase': 1, 'kRadius': 2, 'kAnnealingA': 2.05981370285977, 'kAnnealingB': 1.5127534915787633, 'kAnnealingStart': 24.419436399280073, 'kSkipRatio': 0.5749893018582434, 'kTargetDeterminationTrials': 9, 'kAttractionRatio': 0.7051399693095346, 'kMaxAttractionDistance': 31, 'kStartAttraction': 0.07366590462800397}. Best is trial 143 with value: 5996.026315789473.\u001b[0m\n"
     ]
    },
    {
     "name": "stdout",
     "output_type": "stream",
     "text": [
      "index_parallel='0240'\n"
     ]
    },
    {
     "name": "stderr",
     "output_type": "stream",
     "text": [
      "\u001b[32m[I 2022-08-16 08:41:27,227]\u001b[0m Trial 240 finished with value: 5468.88947368421 and parameters: {'kErase': 3, 'kRadius': 2, 'kAnnealingA': 4.0330214735803285, 'kAnnealingB': 1.751186551479633, 'kAnnealingStart': 22.320082021309112, 'kSkipRatio': 0.5897315222439791, 'kTargetDeterminationTrials': 6, 'kAttractionRatio': 0.38556017600213527, 'kMaxAttractionDistance': 20, 'kStartAttraction': 0.04015138701095639}. Best is trial 143 with value: 5996.026315789473.\u001b[0m\n"
     ]
    },
    {
     "name": "stdout",
     "output_type": "stream",
     "text": [
      "index_parallel='0242'\n"
     ]
    },
    {
     "name": "stderr",
     "output_type": "stream",
     "text": [
      "\u001b[32m[I 2022-08-16 08:45:09,529]\u001b[0m Trial 242 finished with value: 5928.473684210527 and parameters: {'kErase': 1, 'kRadius': 2, 'kAnnealingA': 1.5603215933546966, 'kAnnealingB': 1.670658009939034, 'kAnnealingStart': 18.235081292111698, 'kSkipRatio': 0.654094400414437, 'kTargetDeterminationTrials': 7, 'kAttractionRatio': 0.5409075545634955, 'kMaxAttractionDistance': 25, 'kStartAttraction': 0.02226154077470391}. Best is trial 143 with value: 5996.026315789473.\u001b[0m\n"
     ]
    },
    {
     "name": "stdout",
     "output_type": "stream",
     "text": [
      "index_parallel='0244'\n"
     ]
    },
    {
     "name": "stderr",
     "output_type": "stream",
     "text": [
      "\u001b[32m[I 2022-08-16 08:48:51,820]\u001b[0m Trial 244 finished with value: 5979.378947368421 and parameters: {'kErase': 1, 'kRadius': 2, 'kAnnealingA': 2.8792753671337197, 'kAnnealingB': 1.6508821274949952, 'kAnnealingStart': 18.150034307696824, 'kSkipRatio': 0.6539817483527088, 'kTargetDeterminationTrials': 8, 'kAttractionRatio': 0.566290127186148, 'kMaxAttractionDistance': 25, 'kStartAttraction': 0.020781134672444652}. Best is trial 143 with value: 5996.026315789473.\u001b[0m\n"
     ]
    },
    {
     "name": "stdout",
     "output_type": "stream",
     "text": [
      "index_parallel='0246'\n"
     ]
    },
    {
     "name": "stderr",
     "output_type": "stream",
     "text": [
      "\u001b[32m[I 2022-08-16 08:52:34,366]\u001b[0m Trial 246 finished with value: 5900.857894736842 and parameters: {'kErase': 1, 'kRadius': 2, 'kAnnealingA': 0.9331222064064381, 'kAnnealingB': 1.5697993967173738, 'kAnnealingStart': 15.75862041591485, 'kSkipRatio': 0.6234877471189584, 'kTargetDeterminationTrials': 10, 'kAttractionRatio': 0.6126218922909561, 'kMaxAttractionDistance': 27, 'kStartAttraction': 0.008573839577550545}. Best is trial 143 with value: 5996.026315789473.\u001b[0m\n"
     ]
    },
    {
     "name": "stdout",
     "output_type": "stream",
     "text": [
      "index_parallel='0248'\n"
     ]
    },
    {
     "name": "stderr",
     "output_type": "stream",
     "text": [
      "\u001b[32m[I 2022-08-16 08:56:16,781]\u001b[0m Trial 248 finished with value: 5586.547368421053 and parameters: {'kErase': 1, 'kRadius': 2, 'kAnnealingA': -13.780395836475144, 'kAnnealingB': 2.0263465129087233, 'kAnnealingStart': 20.282295903231486, 'kSkipRatio': 0.6926005893600677, 'kTargetDeterminationTrials': 9, 'kAttractionRatio': 0.4943951382500332, 'kMaxAttractionDistance': 23, 'kStartAttraction': 0.026286289991189846}. Best is trial 143 with value: 5996.026315789473.\u001b[0m\n"
     ]
    },
    {
     "name": "stdout",
     "output_type": "stream",
     "text": [
      "index_parallel='0250'\n"
     ]
    },
    {
     "name": "stderr",
     "output_type": "stream",
     "text": [
      "\u001b[32m[I 2022-08-16 08:59:59,367]\u001b[0m Trial 250 finished with value: 5945.847368421053 and parameters: {'kErase': 1, 'kRadius': 2, 'kAnnealingA': 0.16590012052871606, 'kAnnealingB': 2.1955170755304123, 'kAnnealingStart': 21.565345407749454, 'kSkipRatio': 0.6368362842054942, 'kTargetDeterminationTrials': 7, 'kAttractionRatio': 0.6489698573806928, 'kMaxAttractionDistance': 22, 'kStartAttraction': 0.029235565303841613}. Best is trial 143 with value: 5996.026315789473.\u001b[0m\n"
     ]
    },
    {
     "name": "stdout",
     "output_type": "stream",
     "text": [
      "index_parallel='0252'\n"
     ]
    },
    {
     "name": "stderr",
     "output_type": "stream",
     "text": [
      "\u001b[32m[I 2022-08-16 09:03:41,949]\u001b[0m Trial 252 finished with value: 5834.747368421053 and parameters: {'kErase': 1, 'kRadius': 2, 'kAnnealingA': 0.56956914719624, 'kAnnealingB': 2.278544969888897, 'kAnnealingStart': 20.673050551212295, 'kSkipRatio': 0.6048143037672522, 'kTargetDeterminationTrials': 8, 'kAttractionRatio': 0.5891589604328541, 'kMaxAttractionDistance': 21, 'kStartAttraction': 0.29676353732557836}. Best is trial 143 with value: 5996.026315789473.\u001b[0m\n"
     ]
    },
    {
     "name": "stdout",
     "output_type": "stream",
     "text": [
      "index_parallel='0254'\n"
     ]
    },
    {
     "name": "stderr",
     "output_type": "stream",
     "text": [
      "\u001b[32m[I 2022-08-16 09:07:24,663]\u001b[0m Trial 254 finished with value: 5935.8 and parameters: {'kErase': 1, 'kRadius': 2, 'kAnnealingA': 1.3015260997496336, 'kAnnealingB': 2.216728312101047, 'kAnnealingStart': 18.894515027085937, 'kSkipRatio': 0.6213791678175806, 'kTargetDeterminationTrials': 6, 'kAttractionRatio': 0.828980486072558, 'kMaxAttractionDistance': 13, 'kStartAttraction': 0.024558911870586404}. Best is trial 143 with value: 5996.026315789473.\u001b[0m\n"
     ]
    },
    {
     "name": "stdout",
     "output_type": "stream",
     "text": [
      "index_parallel='0256'\n"
     ]
    },
    {
     "name": "stderr",
     "output_type": "stream",
     "text": [
      "\u001b[32m[I 2022-08-16 09:11:08,274]\u001b[0m Trial 256 finished with value: 5570.226315789474 and parameters: {'kErase': 3, 'kRadius': 2, 'kAnnealingA': 1.7417500227696412, 'kAnnealingB': 2.090680634191672, 'kAnnealingStart': 11.432567422090884, 'kSkipRatio': 0.6101194923589411, 'kTargetDeterminationTrials': 5, 'kAttractionRatio': 0.078467655143778, 'kMaxAttractionDistance': 17, 'kStartAttraction': 0.020501268682153587}. Best is trial 143 with value: 5996.026315789473.\u001b[0m\n"
     ]
    },
    {
     "name": "stdout",
     "output_type": "stream",
     "text": [
      "index_parallel='0258'\n"
     ]
    },
    {
     "name": "stderr",
     "output_type": "stream",
     "text": [
      "\u001b[32m[I 2022-08-16 09:14:51,035]\u001b[0m Trial 258 finished with value: 5912.921052631579 and parameters: {'kErase': 1, 'kRadius': 2, 'kAnnealingA': -0.9833459843951964, 'kAnnealingB': 2.3126495514884158, 'kAnnealingStart': 23.31635971749181, 'kSkipRatio': 0.592632150217767, 'kTargetDeterminationTrials': 7, 'kAttractionRatio': 0.6832276769034826, 'kMaxAttractionDistance': 26, 'kStartAttraction': 0.09826161360026238}. Best is trial 143 with value: 5996.026315789473.\u001b[0m\n"
     ]
    },
    {
     "name": "stdout",
     "output_type": "stream",
     "text": [
      "index_parallel='0260'\n"
     ]
    },
    {
     "name": "stderr",
     "output_type": "stream",
     "text": [
      "\u001b[32m[I 2022-08-16 09:18:33,289]\u001b[0m Trial 260 finished with value: 5859.278947368421 and parameters: {'kErase': 1, 'kRadius': 2, 'kAnnealingA': 3.3023678150724383, 'kAnnealingB': 2.018488014724636, 'kAnnealingStart': 18.003766528241194, 'kSkipRatio': 0.5844273507715605, 'kTargetDeterminationTrials': 5, 'kAttractionRatio': 0.5727358116992304, 'kMaxAttractionDistance': 19, 'kStartAttraction': 0.0648765469565624}. Best is trial 143 with value: 5996.026315789473.\u001b[0m\n"
     ]
    },
    {
     "name": "stdout",
     "output_type": "stream",
     "text": [
      "index_parallel='0262'\n"
     ]
    },
    {
     "name": "stderr",
     "output_type": "stream",
     "text": [
      "\u001b[32m[I 2022-08-16 09:22:16,418]\u001b[0m Trial 262 finished with value: 5749.763157894737 and parameters: {'kErase': 1, 'kRadius': 5, 'kAnnealingA': -0.07736517306241286, 'kAnnealingB': 1.9269106093991635, 'kAnnealingStart': 15.254273240185167, 'kSkipRatio': 0.6298321514548924, 'kTargetDeterminationTrials': 6, 'kAttractionRatio': 0.599295140590552, 'kMaxAttractionDistance': 23, 'kStartAttraction': 0.01401098058860598}. Best is trial 143 with value: 5996.026315789473.\u001b[0m\n"
     ]
    },
    {
     "name": "stdout",
     "output_type": "stream",
     "text": [
      "index_parallel='0263'\n"
     ]
    },
    {
     "name": "stderr",
     "output_type": "stream",
     "text": [
      "\u001b[32m[I 2022-08-16 09:25:58,836]\u001b[0m Trial 263 finished with value: 5924.726315789474 and parameters: {'kErase': 1, 'kRadius': 2, 'kAnnealingA': 2.8867331892615056, 'kAnnealingB': 2.007065043784094, 'kAnnealingStart': 16.388815040228543, 'kSkipRatio': 0.5973091042628611, 'kTargetDeterminationTrials': 6, 'kAttractionRatio': 0.5274234681338394, 'kMaxAttractionDistance': 25, 'kStartAttraction': 0.032647266860377215}. Best is trial 143 with value: 5996.026315789473.\u001b[0m\n"
     ]
    },
    {
     "name": "stdout",
     "output_type": "stream",
     "text": [
      "index_parallel='0264'\n"
     ]
    },
    {
     "name": "stderr",
     "output_type": "stream",
     "text": [
      "\u001b[32m[I 2022-08-16 09:29:41,362]\u001b[0m Trial 264 finished with value: 5933.752631578947 and parameters: {'kErase': 1, 'kRadius': 2, 'kAnnealingA': 2.3444777635476752, 'kAnnealingB': 2.1861109923492656, 'kAnnealingStart': 19.974051103603614, 'kSkipRatio': 0.5669754170599116, 'kTargetDeterminationTrials': 5, 'kAttractionRatio': 0.624035685204654, 'kMaxAttractionDistance': 21, 'kStartAttraction': 0.017354374308318578}. Best is trial 143 with value: 5996.026315789473.\u001b[0m\n"
     ]
    },
    {
     "name": "stdout",
     "output_type": "stream",
     "text": [
      "index_parallel='0265'\n"
     ]
    },
    {
     "name": "stderr",
     "output_type": "stream",
     "text": [
      "\u001b[32m[I 2022-08-16 09:33:23,572]\u001b[0m Trial 265 finished with value: 5902.636842105263 and parameters: {'kErase': 1, 'kRadius': 2, 'kAnnealingA': 0.9765904767229285, 'kAnnealingB': 1.3550149933450484, 'kAnnealingStart': 14.137182606781682, 'kSkipRatio': 0.6430406089590693, 'kTargetDeterminationTrials': 4, 'kAttractionRatio': 0.7705653894509634, 'kMaxAttractionDistance': 23, 'kStartAttraction': 0.04842591456861269}. Best is trial 143 with value: 5996.026315789473.\u001b[0m\n"
     ]
    },
    {
     "name": "stdout",
     "output_type": "stream",
     "text": [
      "index_parallel='0266'\n"
     ]
    },
    {
     "name": "stderr",
     "output_type": "stream",
     "text": [
      "\u001b[32m[I 2022-08-16 09:37:06,230]\u001b[0m Trial 266 finished with value: 5772.984210526316 and parameters: {'kErase': 1, 'kRadius': 2, 'kAnnealingA': 3.563221961992271, 'kAnnealingB': 2.0421264351249513, 'kAnnealingStart': 22.05585188154145, 'kSkipRatio': 0.5871052426083532, 'kTargetDeterminationTrials': 8, 'kAttractionRatio': 0.09745170131903699, 'kMaxAttractionDistance': 27, 'kStartAttraction': 0.08323911219391207}. Best is trial 143 with value: 5996.026315789473.\u001b[0m\n"
     ]
    },
    {
     "name": "stdout",
     "output_type": "stream",
     "text": [
      "index_parallel='0267'\n"
     ]
    },
    {
     "name": "stderr",
     "output_type": "stream",
     "text": [
      "\u001b[32m[I 2022-08-16 09:40:48,643]\u001b[0m Trial 267 finished with value: 5988.489473684211 and parameters: {'kErase': 1, 'kRadius': 2, 'kAnnealingA': 1.642239756072054, 'kAnnealingB': 1.9619887030075989, 'kAnnealingStart': 18.76675967631138, 'kSkipRatio': 0.6700413083495856, 'kTargetDeterminationTrials': 7, 'kAttractionRatio': 0.5013798660713695, 'kMaxAttractionDistance': 22, 'kStartAttraction': 0.022469310840167712}. Best is trial 143 with value: 5996.026315789473.\u001b[0m\n"
     ]
    },
    {
     "name": "stdout",
     "output_type": "stream",
     "text": [
      "index_parallel='0268'\n"
     ]
    },
    {
     "name": "stderr",
     "output_type": "stream",
     "text": [
      "\u001b[32m[I 2022-08-16 09:44:31,610]\u001b[0m Trial 268 finished with value: 5962.2 and parameters: {'kErase': 1, 'kRadius': 2, 'kAnnealingA': 1.9959261544013074, 'kAnnealingB': 1.9369230385161187, 'kAnnealingStart': 16.76683374254596, 'kSkipRatio': 0.6598863711666463, 'kTargetDeterminationTrials': 8, 'kAttractionRatio': 0.49438951472837855, 'kMaxAttractionDistance': 22, 'kStartAttraction': 0.02328407309998153}. Best is trial 143 with value: 5996.026315789473.\u001b[0m\n"
     ]
    },
    {
     "name": "stdout",
     "output_type": "stream",
     "text": [
      "index_parallel='0269'\n"
     ]
    },
    {
     "name": "stderr",
     "output_type": "stream",
     "text": [
      "\u001b[32m[I 2022-08-16 09:48:13,999]\u001b[0m Trial 269 finished with value: 5839.615789473684 and parameters: {'kErase': 1, 'kRadius': 2, 'kAnnealingA': 1.6000194114248552, 'kAnnealingB': 1.9393235526921948, 'kAnnealingStart': 10.227351073807217, 'kSkipRatio': 0.6628218536367619, 'kTargetDeterminationTrials': 9, 'kAttractionRatio': 0.45318329942529645, 'kMaxAttractionDistance': 22, 'kStartAttraction': 0.021453565834481835}. Best is trial 143 with value: 5996.026315789473.\u001b[0m\n"
     ]
    },
    {
     "name": "stdout",
     "output_type": "stream",
     "text": [
      "index_parallel='0271'\n"
     ]
    },
    {
     "name": "stderr",
     "output_type": "stream",
     "text": [
      "\u001b[32m[I 2022-08-16 09:51:56,721]\u001b[0m Trial 271 finished with value: 5976.815789473684 and parameters: {'kErase': 1, 'kRadius': 2, 'kAnnealingA': 1.9551368851217086, 'kAnnealingB': 1.8906691906722797, 'kAnnealingStart': 16.28220328019944, 'kSkipRatio': 0.6539953052973136, 'kTargetDeterminationTrials': 8, 'kAttractionRatio': 0.490211672256646, 'kMaxAttractionDistance': 25, 'kStartAttraction': 0.022535889637573643}. Best is trial 143 with value: 5996.026315789473.\u001b[0m\n"
     ]
    },
    {
     "name": "stdout",
     "output_type": "stream",
     "text": [
      "index_parallel='0273'\n"
     ]
    },
    {
     "name": "stderr",
     "output_type": "stream",
     "text": [
      "\u001b[32m[I 2022-08-16 09:55:39,220]\u001b[0m Trial 273 finished with value: 5894.131578947368 and parameters: {'kErase': 1, 'kRadius': 2, 'kAnnealingA': 0.9016961003878983, 'kAnnealingB': 1.8753437646616957, 'kAnnealingStart': 12.966394748633949, 'kSkipRatio': 0.6744758110816269, 'kTargetDeterminationTrials': 8, 'kAttractionRatio': 0.5005619179237712, 'kMaxAttractionDistance': 26, 'kStartAttraction': 0.023911259327479152}. Best is trial 143 with value: 5996.026315789473.\u001b[0m\n"
     ]
    },
    {
     "name": "stdout",
     "output_type": "stream",
     "text": [
      "index_parallel='0275'\n"
     ]
    },
    {
     "name": "stderr",
     "output_type": "stream",
     "text": [
      "\u001b[32m[I 2022-08-16 09:59:21,879]\u001b[0m Trial 275 finished with value: 5937.921052631579 and parameters: {'kErase': 1, 'kRadius': 2, 'kAnnealingA': 1.4237356190040646, 'kAnnealingB': 1.9053976780475845, 'kAnnealingStart': 19.318466862994082, 'kSkipRatio': 0.6505079862570943, 'kTargetDeterminationTrials': 9, 'kAttractionRatio': 0.733542477607233, 'kMaxAttractionDistance': 29, 'kStartAttraction': 0.02914945287259984}. Best is trial 143 with value: 5996.026315789473.\u001b[0m\n"
     ]
    },
    {
     "name": "stdout",
     "output_type": "stream",
     "text": [
      "index_parallel='0277'\n"
     ]
    },
    {
     "name": "stderr",
     "output_type": "stream",
     "text": [
      "\u001b[32m[I 2022-08-16 10:03:04,351]\u001b[0m Trial 277 finished with value: 5942.878947368421 and parameters: {'kErase': 1, 'kRadius': 2, 'kAnnealingA': 2.9822825671851043, 'kAnnealingB': 1.969912060227508, 'kAnnealingStart': 16.595307677739964, 'kSkipRatio': 0.6746347460163749, 'kTargetDeterminationTrials': 9, 'kAttractionRatio': 0.4244578541845283, 'kMaxAttractionDistance': 28, 'kStartAttraction': 0.01690215264157859}. Best is trial 143 with value: 5996.026315789473.\u001b[0m\n"
     ]
    },
    {
     "name": "stdout",
     "output_type": "stream",
     "text": [
      "index_parallel='0279'\n"
     ]
    },
    {
     "name": "stderr",
     "output_type": "stream",
     "text": [
      "\u001b[32m[I 2022-08-16 10:06:47,122]\u001b[0m Trial 279 finished with value: 5845.9315789473685 and parameters: {'kErase': 1, 'kRadius': 2, 'kAnnealingA': 4.323534422814596, 'kAnnealingB': 2.050504140079603, 'kAnnealingStart': 19.613832431656164, 'kSkipRatio': 0.637468282316605, 'kTargetDeterminationTrials': 9, 'kAttractionRatio': 0.5855174390776118, 'kMaxAttractionDistance': 20, 'kStartAttraction': 0.048425514034470575}. Best is trial 143 with value: 5996.026315789473.\u001b[0m\n"
     ]
    },
    {
     "name": "stdout",
     "output_type": "stream",
     "text": [
      "index_parallel='0281'\n"
     ]
    },
    {
     "name": "stderr",
     "output_type": "stream",
     "text": [
      "\u001b[32m[I 2022-08-16 10:10:29,637]\u001b[0m Trial 281 finished with value: 5813.863157894737 and parameters: {'kErase': 1, 'kRadius': 4, 'kAnnealingA': 0.4947619430764626, 'kAnnealingB': 2.5958980437067436, 'kAnnealingStart': 26.01453377604098, 'kSkipRatio': 0.6277567688581182, 'kTargetDeterminationTrials': 11, 'kAttractionRatio': 0.5367676794219959, 'kMaxAttractionDistance': 27, 'kStartAttraction': 0.04474909139413194}. Best is trial 143 with value: 5996.026315789473.\u001b[0m\n"
     ]
    },
    {
     "name": "stdout",
     "output_type": "stream",
     "text": [
      "index_parallel='0283'\n"
     ]
    },
    {
     "name": "stderr",
     "output_type": "stream",
     "text": [
      "\u001b[32m[I 2022-08-16 10:14:13,063]\u001b[0m Trial 283 finished with value: 5890.0368421052635 and parameters: {'kErase': 1, 'kRadius': 2, 'kAnnealingA': 1.8527709151580434, 'kAnnealingB': 1.9617027236725748, 'kAnnealingStart': 18.13880492012572, 'kSkipRatio': 0.6103422537969481, 'kTargetDeterminationTrials': 8, 'kAttractionRatio': 0.6681706373749547, 'kMaxAttractionDistance': 30, 'kStartAttraction': 0.034285754999695696}. Best is trial 143 with value: 5996.026315789473.\u001b[0m\n"
     ]
    },
    {
     "name": "stdout",
     "output_type": "stream",
     "text": [
      "index_parallel='0285'\n"
     ]
    },
    {
     "name": "stderr",
     "output_type": "stream",
     "text": [
      "\u001b[32m[I 2022-08-16 10:17:55,289]\u001b[0m Trial 285 finished with value: 5893.5368421052635 and parameters: {'kErase': 1, 'kRadius': 2, 'kAnnealingA': 2.5304732241640653, 'kAnnealingB': 2.088444052914908, 'kAnnealingStart': 16.501657809201134, 'kSkipRatio': 0.3069673045869293, 'kTargetDeterminationTrials': 7, 'kAttractionRatio': 0.8770811413371774, 'kMaxAttractionDistance': 24, 'kStartAttraction': 0.05754271894183326}. Best is trial 143 with value: 5996.026315789473.\u001b[0m\n"
     ]
    },
    {
     "name": "stdout",
     "output_type": "stream",
     "text": [
      "index_parallel='0287'\n"
     ]
    },
    {
     "name": "stderr",
     "output_type": "stream",
     "text": [
      "\u001b[32m[I 2022-08-16 10:21:37,689]\u001b[0m Trial 287 finished with value: 5948.615789473684 and parameters: {'kErase': 1, 'kRadius': 3, 'kAnnealingA': 1.9586553352099376, 'kAnnealingB': 1.832144413598165, 'kAnnealingStart': 21.242171304538594, 'kSkipRatio': 0.6594338609354756, 'kTargetDeterminationTrials': 7, 'kAttractionRatio': 0.6624116975775735, 'kMaxAttractionDistance': 15, 'kStartAttraction': 0.024931620023647728}. Best is trial 143 with value: 5996.026315789473.\u001b[0m\n"
     ]
    },
    {
     "name": "stdout",
     "output_type": "stream",
     "text": [
      "index_parallel='0289'\n"
     ]
    },
    {
     "name": "stderr",
     "output_type": "stream",
     "text": [
      "\u001b[32m[I 2022-08-16 10:25:19,871]\u001b[0m Trial 289 finished with value: 5884.668421052632 and parameters: {'kErase': 1, 'kRadius': 2, 'kAnnealingA': 1.0284180177052265, 'kAnnealingB': 1.9226530561275461, 'kAnnealingStart': 29.115083752061, 'kSkipRatio': 0.6230882398243468, 'kTargetDeterminationTrials': 9, 'kAttractionRatio': 0.46333695871358394, 'kMaxAttractionDistance': 26, 'kStartAttraction': 0.01900370941885712}. Best is trial 143 with value: 5996.026315789473.\u001b[0m\n"
     ]
    },
    {
     "name": "stdout",
     "output_type": "stream",
     "text": [
      "index_parallel='0291'\n"
     ]
    },
    {
     "name": "stderr",
     "output_type": "stream",
     "text": [
      "\u001b[32m[I 2022-08-16 10:29:01,960]\u001b[0m Trial 291 finished with value: 5185.8421052631575 and parameters: {'kErase': 1, 'kRadius': 2, 'kAnnealingA': 1.3355469695530862, 'kAnnealingB': 1.8731779873234093, 'kAnnealingStart': 93.20012868654281, 'kSkipRatio': 0.605875721592513, 'kTargetDeterminationTrials': 4, 'kAttractionRatio': 0.5114801851725461, 'kMaxAttractionDistance': 23, 'kStartAttraction': 0.052418026581281196}. Best is trial 143 with value: 5996.026315789473.\u001b[0m\n"
     ]
    },
    {
     "name": "stdout",
     "output_type": "stream",
     "text": [
      "index_parallel='0293'\n"
     ]
    },
    {
     "name": "stderr",
     "output_type": "stream",
     "text": [
      "\u001b[32m[I 2022-08-16 10:32:44,363]\u001b[0m Trial 293 finished with value: 5934.347368421053 and parameters: {'kErase': 1, 'kRadius': 2, 'kAnnealingA': 1.9487790007073422, 'kAnnealingB': 2.147255716231296, 'kAnnealingStart': 17.52980945706174, 'kSkipRatio': 0.6679675844486225, 'kTargetDeterminationTrials': 8, 'kAttractionRatio': 0.7170759917363196, 'kMaxAttractionDistance': 28, 'kStartAttraction': 0.02407316653873262}. Best is trial 143 with value: 5996.026315789473.\u001b[0m\n"
     ]
    },
    {
     "name": "stdout",
     "output_type": "stream",
     "text": [
      "index_parallel='0295'\n"
     ]
    },
    {
     "name": "stderr",
     "output_type": "stream",
     "text": [
      "\u001b[32m[I 2022-08-16 10:36:26,798]\u001b[0m Trial 295 finished with value: 5954.168421052632 and parameters: {'kErase': 1, 'kRadius': 2, 'kAnnealingA': 0.40784652107355623, 'kAnnealingB': 2.026374459192311, 'kAnnealingStart': 23.44921806364657, 'kSkipRatio': 0.5802362961143336, 'kTargetDeterminationTrials': 4, 'kAttractionRatio': 0.4290706917709072, 'kMaxAttractionDistance': 14, 'kStartAttraction': 0.020612807969442808}. Best is trial 143 with value: 5996.026315789473.\u001b[0m\n"
     ]
    },
    {
     "name": "stdout",
     "output_type": "stream",
     "text": [
      "index_parallel='0297'\n"
     ]
    },
    {
     "name": "stderr",
     "output_type": "stream",
     "text": [
      "\u001b[32m[I 2022-08-16 10:40:09,261]\u001b[0m Trial 297 finished with value: 5839.021052631579 and parameters: {'kErase': 1, 'kRadius': 2, 'kAnnealingA': 0.7868333872756039, 'kAnnealingB': 1.804396167097168, 'kAnnealingStart': 20.417070033806752, 'kSkipRatio': 0.20077364001399112, 'kTargetDeterminationTrials': 7, 'kAttractionRatio': 0.7877850678176183, 'kMaxAttractionDistance': 12, 'kStartAttraction': 0.0010774054496076148}. Best is trial 143 with value: 5996.026315789473.\u001b[0m\n"
     ]
    },
    {
     "name": "stdout",
     "output_type": "stream",
     "text": [
      "index_parallel='0299'\n"
     ]
    },
    {
     "name": "stderr",
     "output_type": "stream",
     "text": [
      "\u001b[32m[I 2022-08-16 10:43:52,013]\u001b[0m Trial 299 finished with value: 5912.057894736842 and parameters: {'kErase': 1, 'kRadius': 2, 'kAnnealingA': -0.47278652017990286, 'kAnnealingB': 1.9296357332314729, 'kAnnealingStart': 18.689091690620796, 'kSkipRatio': 0.6131080522460628, 'kTargetDeterminationTrials': 13, 'kAttractionRatio': 0.19001863204434905, 'kMaxAttractionDistance': 19, 'kStartAttraction': 0.043225000243082456}. Best is trial 143 with value: 5996.026315789473.\u001b[0m\n"
     ]
    },
    {
     "name": "stdout",
     "output_type": "stream",
     "text": [
      "index_parallel='0301'\n"
     ]
    },
    {
     "name": "stderr",
     "output_type": "stream",
     "text": [
      "\u001b[32m[I 2022-08-16 10:47:34,766]\u001b[0m Trial 301 finished with value: 5684.252631578947 and parameters: {'kErase': 1, 'kRadius': 2, 'kAnnealingA': 1.4194282627007546, 'kAnnealingB': 2.092846631779211, 'kAnnealingStart': 16.47099451454802, 'kSkipRatio': 0.5991086422083832, 'kTargetDeterminationTrials': 10, 'kAttractionRatio': 0.011602191878800946, 'kMaxAttractionDistance': 95, 'kStartAttraction': 0.06676587849875609}. Best is trial 143 with value: 5996.026315789473.\u001b[0m\n"
     ]
    },
    {
     "name": "stdout",
     "output_type": "stream",
     "text": [
      "index_parallel='0303'\n"
     ]
    },
    {
     "name": "stderr",
     "output_type": "stream",
     "text": [
      "\u001b[32m[I 2022-08-16 10:51:17,364]\u001b[0m Trial 303 finished with value: 5719.378947368421 and parameters: {'kErase': 1, 'kRadius': 2, 'kAnnealingA': 2.139572808979972, 'kAnnealingB': 2.0016948811209923, 'kAnnealingStart': 22.98759245466838, 'kSkipRatio': 0.5727219502338553, 'kTargetDeterminationTrials': 7, 'kAttractionRatio': 0.09081218407934445, 'kMaxAttractionDistance': 20, 'kStartAttraction': 0.02294105176163416}. Best is trial 143 with value: 5996.026315789473.\u001b[0m\n"
     ]
    },
    {
     "name": "stdout",
     "output_type": "stream",
     "text": [
      "index_parallel='0305'\n"
     ]
    },
    {
     "name": "stderr",
     "output_type": "stream",
     "text": [
      "\u001b[32m[I 2022-08-16 10:55:00,176]\u001b[0m Trial 305 finished with value: 5859.526315789473 and parameters: {'kErase': 1, 'kRadius': 2, 'kAnnealingA': 0.19973915324406877, 'kAnnealingB': 2.4452619251243077, 'kAnnealingStart': 14.811570426840667, 'kSkipRatio': 0.5852510101159715, 'kTargetDeterminationTrials': 8, 'kAttractionRatio': 0.44856562946133394, 'kMaxAttractionDistance': 30, 'kStartAttraction': 0.005820119724263303}. Best is trial 143 with value: 5996.026315789473.\u001b[0m\n"
     ]
    },
    {
     "name": "stdout",
     "output_type": "stream",
     "text": [
      "index_parallel='0307'\n"
     ]
    },
    {
     "name": "stderr",
     "output_type": "stream",
     "text": [
      "\u001b[32m[I 2022-08-16 10:58:42,555]\u001b[0m Trial 307 finished with value: 5915.226315789474 and parameters: {'kErase': 1, 'kRadius': 2, 'kAnnealingA': 1.6441768357876354, 'kAnnealingB': 1.8620311797699887, 'kAnnealingStart': 17.388337364523863, 'kSkipRatio': 0.6016254342955412, 'kTargetDeterminationTrials': 4, 'kAttractionRatio': 0.4899883914279526, 'kMaxAttractionDistance': 16, 'kStartAttraction': 0.026613616202123942}. Best is trial 143 with value: 5996.026315789473.\u001b[0m\n"
     ]
    },
    {
     "name": "stdout",
     "output_type": "stream",
     "text": [
      "index_parallel='0309'\n"
     ]
    },
    {
     "name": "stderr",
     "output_type": "stream",
     "text": [
      "\u001b[32m[I 2022-08-16 11:02:25,443]\u001b[0m Trial 309 finished with value: 5877.5526315789475 and parameters: {'kErase': 1, 'kRadius': 2, 'kAnnealingA': 1.1426953548938337, 'kAnnealingB': 1.9229756196731507, 'kAnnealingStart': 21.255950789488278, 'kSkipRatio': 0.5928198651978119, 'kTargetDeterminationTrials': 9, 'kAttractionRatio': 0.34094181543587926, 'kMaxAttractionDistance': 27, 'kStartAttraction': 0.05978789324533098}. Best is trial 143 with value: 5996.026315789473.\u001b[0m\n"
     ]
    },
    {
     "name": "stdout",
     "output_type": "stream",
     "text": [
      "index_parallel='0311'\n"
     ]
    },
    {
     "name": "stderr",
     "output_type": "stream",
     "text": [
      "\u001b[32m[I 2022-08-16 11:06:07,996]\u001b[0m Trial 311 finished with value: 5835.284210526316 and parameters: {'kErase': 1, 'kRadius': 2, 'kAnnealingA': 2.042361786906733, 'kAnnealingB': 2.850542859248494, 'kAnnealingStart': 19.595170097751662, 'kSkipRatio': 0.5565050249866557, 'kTargetDeterminationTrials': 7, 'kAttractionRatio': 0.3801351886702363, 'kMaxAttractionDistance': 18, 'kStartAttraction': 0.02087582981367918}. Best is trial 143 with value: 5996.026315789473.\u001b[0m\n"
     ]
    },
    {
     "name": "stdout",
     "output_type": "stream",
     "text": [
      "index_parallel='0313'\n"
     ]
    },
    {
     "name": "stderr",
     "output_type": "stream",
     "text": [
      "\u001b[32m[I 2022-08-16 11:09:50,410]\u001b[0m Trial 313 finished with value: 5956.278947368421 and parameters: {'kErase': 1, 'kRadius': 2, 'kAnnealingA': 0.6260614554386392, 'kAnnealingB': 1.9713361242997114, 'kAnnealingStart': 24.440193026372057, 'kSkipRatio': 0.701157593159394, 'kTargetDeterminationTrials': 6, 'kAttractionRatio': 0.4115874044086434, 'kMaxAttractionDistance': 20, 'kStartAttraction': 0.014001733678306344}. Best is trial 143 with value: 5996.026315789473.\u001b[0m\n"
     ]
    },
    {
     "name": "stdout",
     "output_type": "stream",
     "text": [
      "index_parallel='0315'\n"
     ]
    },
    {
     "name": "stderr",
     "output_type": "stream",
     "text": [
      "\u001b[32m[I 2022-08-16 11:13:32,998]\u001b[0m Trial 315 finished with value: 5531.352631578948 and parameters: {'kErase': 1, 'kRadius': 2, 'kAnnealingA': -0.25550815191304344, 'kAnnealingB': 2.7166040537888834, 'kAnnealingStart': 50.76909780197794, 'kSkipRatio': 0.7365839703181568, 'kTargetDeterminationTrials': 7, 'kAttractionRatio': 0.12673856742135478, 'kMaxAttractionDistance': 30, 'kStartAttraction': 0.018435887186442824}. Best is trial 143 with value: 5996.026315789473.\u001b[0m\n"
     ]
    },
    {
     "name": "stdout",
     "output_type": "stream",
     "text": [
      "index_parallel='0317'\n"
     ]
    },
    {
     "name": "stderr",
     "output_type": "stream",
     "text": [
      "\u001b[32m[I 2022-08-16 11:17:15,342]\u001b[0m Trial 317 finished with value: 5836.226315789474 and parameters: {'kErase': 1, 'kRadius': 2, 'kAnnealingA': 0.9743101998099004, 'kAnnealingB': 2.2824949819275244, 'kAnnealingStart': 18.05068922916799, 'kSkipRatio': 0.5826355644270432, 'kTargetDeterminationTrials': 7, 'kAttractionRatio': 0.08562818398608957, 'kMaxAttractionDistance': 13, 'kStartAttraction': 0.03077841583118595}. Best is trial 143 with value: 5996.026315789473.\u001b[0m\n"
     ]
    },
    {
     "name": "stdout",
     "output_type": "stream",
     "text": [
      "index_parallel='0319'\n"
     ]
    },
    {
     "name": "stderr",
     "output_type": "stream",
     "text": [
      "\u001b[32m[I 2022-08-16 11:20:57,834]\u001b[0m Trial 319 finished with value: 5880.978947368421 and parameters: {'kErase': 1, 'kRadius': 2, 'kAnnealingA': 1.6918043514049463, 'kAnnealingB': 1.8341659648978936, 'kAnnealingStart': 22.506584516623647, 'kSkipRatio': 0.6012895184750313, 'kTargetDeterminationTrials': 6, 'kAttractionRatio': 0.6967568388018794, 'kMaxAttractionDistance': 19, 'kStartAttraction': 0.02431504363674007}. Best is trial 143 with value: 5996.026315789473.\u001b[0m\n"
     ]
    },
    {
     "name": "stdout",
     "output_type": "stream",
     "text": [
      "index_parallel='0321'\n"
     ]
    },
    {
     "name": "stderr",
     "output_type": "stream",
     "text": [
      "\u001b[32m[I 2022-08-16 11:24:40,094]\u001b[0m Trial 321 finished with value: 6014.615789473684 and parameters: {'kErase': 1, 'kRadius': 2, 'kAnnealingA': -0.9906194957907489, 'kAnnealingB': 1.3994327267644602, 'kAnnealingStart': 18.563574245991056, 'kSkipRatio': 0.7135736924493198, 'kTargetDeterminationTrials': 4, 'kAttractionRatio': 0.4586480458914713, 'kMaxAttractionDistance': 26, 'kStartAttraction': 0.12700591779938056}. Best is trial 321 with value: 6014.615789473684.\u001b[0m\n"
     ]
    },
    {
     "name": "stdout",
     "output_type": "stream",
     "text": [
      "Updated! 6014.615789473684\n",
      "index_parallel='0323'\n"
     ]
    },
    {
     "name": "stderr",
     "output_type": "stream",
     "text": [
      "\u001b[32m[I 2022-08-16 11:28:22,468]\u001b[0m Trial 323 finished with value: 5863.5368421052635 and parameters: {'kErase': 1, 'kRadius': 2, 'kAnnealingA': -1.7086693920552412, 'kAnnealingB': 1.2591578803570205, 'kAnnealingStart': 18.9079234009092, 'kSkipRatio': 0.7173099573300631, 'kTargetDeterminationTrials': 8, 'kAttractionRatio': 0.4480924093265777, 'kMaxAttractionDistance': 32, 'kStartAttraction': 0.05236775665891947}. Best is trial 321 with value: 6014.615789473684.\u001b[0m\n"
     ]
    },
    {
     "name": "stdout",
     "output_type": "stream",
     "text": [
      "index_parallel='0325'\n"
     ]
    },
    {
     "name": "stderr",
     "output_type": "stream",
     "text": [
      "\u001b[32m[I 2022-08-16 11:32:04,638]\u001b[0m Trial 325 finished with value: 5854.857894736842 and parameters: {'kErase': 1, 'kRadius': 2, 'kAnnealingA': -1.9161271275844998, 'kAnnealingB': 1.4183366693678092, 'kAnnealingStart': 21.998170019254356, 'kSkipRatio': 0.705461741104357, 'kTargetDeterminationTrials': 7, 'kAttractionRatio': 0.46754887033220427, 'kMaxAttractionDistance': 27, 'kStartAttraction': 0.14346806187059793}. Best is trial 321 with value: 6014.615789473684.\u001b[0m\n"
     ]
    },
    {
     "name": "stdout",
     "output_type": "stream",
     "text": [
      "index_parallel='0327'\n"
     ]
    },
    {
     "name": "stderr",
     "output_type": "stream",
     "text": [
      "\u001b[32m[I 2022-08-16 11:35:46,758]\u001b[0m Trial 327 finished with value: 5935.921052631579 and parameters: {'kErase': 1, 'kRadius': 2, 'kAnnealingA': -1.1016340887464597, 'kAnnealingB': 1.4249661342715398, 'kAnnealingStart': 18.8773136265495, 'kSkipRatio': 0.7328407957275938, 'kTargetDeterminationTrials': 9, 'kAttractionRatio': 0.5131359957575122, 'kMaxAttractionDistance': 29, 'kStartAttraction': 0.15969347689333954}. Best is trial 321 with value: 6014.615789473684.\u001b[0m\n"
     ]
    },
    {
     "name": "stdout",
     "output_type": "stream",
     "text": [
      "index_parallel='0329'\n"
     ]
    },
    {
     "name": "stderr",
     "output_type": "stream",
     "text": [
      "\u001b[32m[I 2022-08-16 11:39:28,951]\u001b[0m Trial 329 finished with value: 5909.38947368421 and parameters: {'kErase': 1, 'kRadius': 2, 'kAnnealingA': -0.8790635090488211, 'kAnnealingB': 1.4871622550802968, 'kAnnealingStart': 24.98222816515951, 'kSkipRatio': 0.6900195948290584, 'kTargetDeterminationTrials': 7, 'kAttractionRatio': 0.5520626605673715, 'kMaxAttractionDistance': 26, 'kStartAttraction': 0.20591433505760667}. Best is trial 321 with value: 6014.615789473684.\u001b[0m\n"
     ]
    },
    {
     "name": "stdout",
     "output_type": "stream",
     "text": [
      "index_parallel='0331'\n"
     ]
    }
   ],
   "source": [
    "study.optimize(\n",
    "    partial(objective, in_dir=in_dir, work_dir=work_dir),\n",
    "    n_trials=3000,\n",
    "    timeout=86400,\n",
    "    callbacks=[callback]\n",
    ")"
   ]
  },
  {
   "cell_type": "code",
   "execution_count": null,
   "id": "700269d2",
   "metadata": {},
   "outputs": [],
   "source": []
  }
 ],
 "metadata": {
  "kernelspec": {
   "display_name": "Python 3 (ipykernel)",
   "language": "python",
   "name": "python3"
  },
  "language_info": {
   "codemirror_mode": {
    "name": "ipython",
    "version": 3
   },
   "file_extension": ".py",
   "mimetype": "text/x-python",
   "name": "python",
   "nbconvert_exporter": "python",
   "pygments_lexer": "ipython3",
   "version": "3.9.12"
  }
 },
 "nbformat": 4,
 "nbformat_minor": 5
}
