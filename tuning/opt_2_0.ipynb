{
 "cells": [
  {
   "cell_type": "code",
   "execution_count": 1,
   "id": "25a1dac8",
   "metadata": {},
   "outputs": [],
   "source": [
    "import re\n",
    "import sys\n",
    "from uuid import uuid1\n",
    "from time import sleep\n",
    "from pprint import pprint\n",
    "from pathlib import Path\n",
    "from tempfile import gettempdir\n",
    "from threading import Thread\n",
    "from functools import partial\n",
    "from subprocess import Popen, PIPE\n",
    "\n",
    "from tqdm.notebook import tqdm\n",
    "import numpy as np\n",
    "import optuna\n",
    "import pandas as pd\n",
    "import matplotlib.pyplot as plt\n",
    "\n",
    "FILENAME = \"main.cpp\""
   ]
  },
  {
   "cell_type": "code",
   "execution_count": 2,
   "id": "3dd4d02e",
   "metadata": {},
   "outputs": [
    {
     "name": "stdout",
     "output_type": "stream",
     "text": [
      "10 variables were found.\n"
     ]
    },
    {
     "data": {
      "text/html": [
       "<div>\n",
       "<style scoped>\n",
       "    .dataframe tbody tr th:only-of-type {\n",
       "        vertical-align: middle;\n",
       "    }\n",
       "\n",
       "    .dataframe tbody tr th {\n",
       "        vertical-align: top;\n",
       "    }\n",
       "\n",
       "    .dataframe thead th {\n",
       "        text-align: right;\n",
       "    }\n",
       "</style>\n",
       "<table border=\"1\" class=\"dataframe\">\n",
       "  <thead>\n",
       "    <tr style=\"text-align: right;\">\n",
       "      <th></th>\n",
       "      <th>name</th>\n",
       "      <th>method</th>\n",
       "      <th>min</th>\n",
       "      <th>max</th>\n",
       "      <th>log</th>\n",
       "      <th>left</th>\n",
       "      <th>right</th>\n",
       "    </tr>\n",
       "  </thead>\n",
       "  <tbody>\n",
       "    <tr>\n",
       "      <th>0</th>\n",
       "      <td>kErase</td>\n",
       "      <td>suggest_int</td>\n",
       "      <td>1.000</td>\n",
       "      <td>5.0</td>\n",
       "      <td>False</td>\n",
       "      <td>static constexpr auto kErase =</td>\n",
       "      <td>;             // OPTIMIZE [1, 5]</td>\n",
       "    </tr>\n",
       "    <tr>\n",
       "      <th>1</th>\n",
       "      <td>kRadius</td>\n",
       "      <td>suggest_int</td>\n",
       "      <td>2.000</td>\n",
       "      <td>6.0</td>\n",
       "      <td>False</td>\n",
       "      <td>static constexpr auto kRadius =</td>\n",
       "      <td>;            // OPTIMIZE [2, 6]</td>\n",
       "    </tr>\n",
       "    <tr>\n",
       "      <th>2</th>\n",
       "      <td>kAnnealingA</td>\n",
       "      <td>suggest_float</td>\n",
       "      <td>-15.000</td>\n",
       "      <td>15.0</td>\n",
       "      <td>False</td>\n",
       "      <td>static constexpr auto kAnnealingA =</td>\n",
       "      <td>;      // OPTIMIZE [-15.0, 15.0]</td>\n",
       "    </tr>\n",
       "    <tr>\n",
       "      <th>3</th>\n",
       "      <td>kAnnealingB</td>\n",
       "      <td>suggest_float</td>\n",
       "      <td>0.000</td>\n",
       "      <td>3.0</td>\n",
       "      <td>False</td>\n",
       "      <td>static constexpr auto kAnnealingB =</td>\n",
       "      <td>;      // OPTIMIZE [0.0, 3.0]</td>\n",
       "    </tr>\n",
       "    <tr>\n",
       "      <th>4</th>\n",
       "      <td>kAnnealingStart</td>\n",
       "      <td>suggest_float</td>\n",
       "      <td>1.000</td>\n",
       "      <td>100.0</td>\n",
       "      <td>True</td>\n",
       "      <td>static constexpr auto kAnnealingStart =</td>\n",
       "      <td>; // OPTIMIZE LOG [1.0, 100.0]</td>\n",
       "    </tr>\n",
       "    <tr>\n",
       "      <th>5</th>\n",
       "      <td>kSkipRatio</td>\n",
       "      <td>suggest_float</td>\n",
       "      <td>0.200</td>\n",
       "      <td>0.8</td>\n",
       "      <td>False</td>\n",
       "      <td>static constexpr auto kSkipRatio =</td>\n",
       "      <td>;       // OPTIMIZE [0.2, 0.8]</td>\n",
       "    </tr>\n",
       "    <tr>\n",
       "      <th>6</th>\n",
       "      <td>kTargetDeterminationTrials</td>\n",
       "      <td>suggest_int</td>\n",
       "      <td>1.000</td>\n",
       "      <td>20.0</td>\n",
       "      <td>True</td>\n",
       "      <td>static constexpr auto kTargetDeterminationTria...</td>\n",
       "      <td>; // OPTIMIZE LOG [1, 20]</td>\n",
       "    </tr>\n",
       "    <tr>\n",
       "      <th>7</th>\n",
       "      <td>kAttractionRatio</td>\n",
       "      <td>suggest_float</td>\n",
       "      <td>0.010</td>\n",
       "      <td>0.9</td>\n",
       "      <td>True</td>\n",
       "      <td>static constexpr auto kAttractionRatio =</td>\n",
       "      <td>;      // OPTIMIZE LOG [0.01, 0.9]</td>\n",
       "    </tr>\n",
       "    <tr>\n",
       "      <th>8</th>\n",
       "      <td>kMaxAttractionDistance</td>\n",
       "      <td>suggest_int</td>\n",
       "      <td>4.000</td>\n",
       "      <td>99.0</td>\n",
       "      <td>True</td>\n",
       "      <td>static constexpr auto kMaxAttractionDistance =</td>\n",
       "      <td>; // OPTIMIZE LOG [4, 99]</td>\n",
       "    </tr>\n",
       "    <tr>\n",
       "      <th>9</th>\n",
       "      <td>kStartAttraction</td>\n",
       "      <td>suggest_float</td>\n",
       "      <td>0.001</td>\n",
       "      <td>0.9</td>\n",
       "      <td>True</td>\n",
       "      <td>static constexpr auto kStartAttraction =</td>\n",
       "      <td>;     // OPTIMIZE LOG [0.001, 0.9]</td>\n",
       "    </tr>\n",
       "  </tbody>\n",
       "</table>\n",
       "</div>"
      ],
      "text/plain": [
       "                         name         method     min    max    log  \\\n",
       "0                      kErase    suggest_int   1.000    5.0  False   \n",
       "1                     kRadius    suggest_int   2.000    6.0  False   \n",
       "2                 kAnnealingA  suggest_float -15.000   15.0  False   \n",
       "3                 kAnnealingB  suggest_float   0.000    3.0  False   \n",
       "4             kAnnealingStart  suggest_float   1.000  100.0   True   \n",
       "5                  kSkipRatio  suggest_float   0.200    0.8  False   \n",
       "6  kTargetDeterminationTrials    suggest_int   1.000   20.0   True   \n",
       "7            kAttractionRatio  suggest_float   0.010    0.9   True   \n",
       "8      kMaxAttractionDistance    suggest_int   4.000   99.0   True   \n",
       "9            kStartAttraction  suggest_float   0.001    0.9   True   \n",
       "\n",
       "                                                left  \\\n",
       "0                    static constexpr auto kErase =    \n",
       "1                   static constexpr auto kRadius =    \n",
       "2               static constexpr auto kAnnealingA =    \n",
       "3               static constexpr auto kAnnealingB =    \n",
       "4           static constexpr auto kAnnealingStart =    \n",
       "5                static constexpr auto kSkipRatio =    \n",
       "6  static constexpr auto kTargetDeterminationTria...   \n",
       "7          static constexpr auto kAttractionRatio =    \n",
       "8    static constexpr auto kMaxAttractionDistance =    \n",
       "9          static constexpr auto kStartAttraction =    \n",
       "\n",
       "                                right  \n",
       "0    ;             // OPTIMIZE [1, 5]  \n",
       "1     ;            // OPTIMIZE [2, 6]  \n",
       "2    ;      // OPTIMIZE [-15.0, 15.0]  \n",
       "3       ;      // OPTIMIZE [0.0, 3.0]  \n",
       "4      ; // OPTIMIZE LOG [1.0, 100.0]  \n",
       "5      ;       // OPTIMIZE [0.2, 0.8]  \n",
       "6           ; // OPTIMIZE LOG [1, 20]  \n",
       "7  ;      // OPTIMIZE LOG [0.01, 0.9]  \n",
       "8           ; // OPTIMIZE LOG [4, 99]  \n",
       "9  ;     // OPTIMIZE LOG [0.001, 0.9]  "
      ]
     },
     "metadata": {},
     "output_type": "display_data"
    }
   ],
   "source": [
    "# ここでエラー出力は何かおかしいかもしれない\n",
    "\n",
    "\n",
    "# パラメータ抽出\n",
    "with open(FILENAME) as f:\n",
    "    answer = f.read()\n",
    "\n",
    "\n",
    "variables_optimize = []\n",
    "\n",
    "for left, value, right, options in re.findall(r\"^([^/\\n]*=\\s*)(.+?)(\\s*;\\s*//(?:.*\\W)?OPTIMIZE(\\W.*))$\", answer, re.MULTILINE):\n",
    "    name = left.replace(\"=\", \"\").strip().split()[-1]\n",
    "    \n",
    "    searched = re.search(r\".*\\[(?P<min>.*),(?P<max>.*)\\].*\", options)\n",
    "    if searched:\n",
    "        min_value = max_value = None\n",
    "        try:\n",
    "            min_value = eval(searched.group(\"min\"))\n",
    "            max_value = eval(searched.group(\"max\"))\n",
    "            assert min_value <= max_value\n",
    "        except Exception as e:\n",
    "            print(f\"searched={searched}\", file=sys.stderr)\n",
    "            print(e, file=sys.stderr)\n",
    "            continue\n",
    "        log = \"LOG\" in options  # 雑、直したほうが良い\n",
    "        if type(min_value) != type(max_value):\n",
    "            print(f\"searched={searched}\", file=sys.stderr)\n",
    "            print(\"types not matched\", file=sys.stderr)\n",
    "            continue\n",
    "        if isinstance(min_value, int):\n",
    "            method = \"suggest_int\"\n",
    "        elif isinstance(min_value, float):\n",
    "            method = \"suggest_float\"\n",
    "        else:\n",
    "            print(f\"searched={searched}\", file=sys.stderr)\n",
    "            print(f\"unknown type ({type(min_value)})\", file=sys.stderr)\n",
    "            continue\n",
    "        variables_optimize.append({\n",
    "            \"name\": name,\n",
    "            \"method\": method,\n",
    "            \"min\": min_value,\n",
    "            \"max\": max_value,\n",
    "            \"log\": log,\n",
    "            \"left\": left,\n",
    "            \"right\": right,\n",
    "        })\n",
    "    elif searched := re.search(r\".*\\{(?P<choices>.*?)\\}.*\", options):\n",
    "        choices = list(map(lambda x: x.strip(), searched.group(\"choices\").split(\",\")))\n",
    "        variables_optimize.append({\n",
    "            \"name\": name,\n",
    "            \"method\": \"suggest_categorical\",\n",
    "            \"choices\": choices,\n",
    "            \"left\": left,\n",
    "            \"right\": right,\n",
    "        })\n",
    "    else:\n",
    "        print(f\"searched={searched}\", file=sys.stderr)\n",
    "        print(f\"pattern was matched but options are incorrect.\", file=sys.stderr)\n",
    "\n",
    "print(len(variables_optimize), \"variables were found.\")\n",
    "if globals().get(\"pd\"):\n",
    "    display(pd.DataFrame(variables_optimize))\n",
    "else:\n",
    "    pprint(variables_optimize)"
   ]
  },
  {
   "cell_type": "code",
   "execution_count": 3,
   "id": "001042b9",
   "metadata": {},
   "outputs": [],
   "source": [
    "def escape(string):  # 正規表現の中でそのまま使いたい文字列をエスケープ\n",
    "    res = !echo '{string}' | sed -e 's/[]\\/$*.^[]/\\\\&/g'\n",
    "    return res[0]\n",
    "\n",
    "def escape_sed(string):  # sed の置換後の文字列用のエスケープ\n",
    "    res = !echo '{string}' | sed -e 's/[\\/&]/\\\\&/g'\n",
    "    return res[0]\n",
    "\n",
    "def read_stream(name, in_file, out_file):\n",
    "    for line in in_file:\n",
    "        print(f\"[{name}] {line.strip()}\", file=out_file)\n",
    "\n",
    "def run(cmd, name):\n",
    "    proc = Popen(cmd, stdout=PIPE, stderr=PIPE, universal_newlines=True, shell=isinstance(cmd, str))\n",
    "    stdout_thread = Thread(target=read_stream, args=(name, proc.stdout, sys.stdout))\n",
    "    stderr_thread = Thread(target=read_stream, args=(name, proc.stderr, sys.stderr))\n",
    "    stdout_thread.start()\n",
    "    stderr_thread.start()\n",
    "    proc.wait()\n",
    "    return proc\n",
    "\n",
    "def objective(trial, in_dir, work_dir):\n",
    "    n_internal_parallel = 3\n",
    "    \n",
    "    index_parallel = f\"{trial.number:04d}\"\n",
    "    print(f\"{index_parallel=}\")\n",
    "    \n",
    "    work_dir = Path(work_dir)\n",
    "    directory_input = Path(in_dir)  # 中のすべてのファイルに対して実行される\n",
    "    #parameters_changed_filename = Path(gettempdir()) / str(uuid1())\n",
    "    parameters_changed_filename = work_dir / f\"{index_parallel}_{FILENAME}\"\n",
    "    \n",
    "    run([\"mkdir\", f\"{work_dir / index_parallel}_out\"], \"mkdir\")\n",
    "    run([\"mkdir\", f\"{work_dir / index_parallel}_score\"], \"mkdir\")\n",
    "    \n",
    "    # ファイル作成\n",
    "    run(f\"cp {FILENAME} {parameters_changed_filename}\", \"cp\")\n",
    "    sed_options = [f\"-i {parameters_changed_filename}\"]\n",
    "    for variable in variables_optimize:\n",
    "        if variable[\"method\"] == \"suggest_categorical\":\n",
    "            val =  trial.suggest_categorical(variable[\"name\"], variable[\"choices\"])\n",
    "        else:\n",
    "            val = getattr(trial, variable[\"method\"])(variable[\"name\"], variable[\"min\"], variable[\"max\"], log=variable[\"log\"])\n",
    "        left = variable[\"left\"]\n",
    "        right = variable[\"right\"]\n",
    "        sed_options.append(f\"\"\"-e 's/^{escape(left)}.*{escape(right)}$/{escape_sed(left)}{val}{escape_sed(right)}/'\"\"\")\n",
    "    command_sed = f\"sed {' '.join(sed_options)}\"\n",
    "    #print(command_sed)\n",
    "    run(command_sed, \"sed\")\n",
    "    \n",
    "    # コンパイル\n",
    "    command_compile = f\"g++ {parameters_changed_filename} -std=gnu++17 -O2 -DONLINE_JUDGE -o {parameters_changed_filename}.out\"\n",
    "    #print(command_compile)\n",
    "    run(command_compile, \"compile\")\n",
    "    # 実行・採点コマンド (@ はファイル名)\n",
    "    command_exec = (\n",
    "        #f\"./a.out < ./tools/in/{i:04d}.txt > {out_file} && ./tools/target/release/vis ./tools/in/{i:04d}.txt {out_file}\"\n",
    "        #f\"../tools/target/release/tester $(pwd)/{parameters_changed_filename}.out < {directory_input}/@ 2>&1 | grep Score\"\n",
    "        #f\"../tools/target/release/tester $(pwd)/{parameters_changed_filename}.out < {directory_input}/@ 2>&1 | grep Score | sed -E s/[^0-9]+// > ./{index_parallel}_score/@;\"\n",
    "        #f\"cargo run --release --manifest-path ../tools/Cargo.toml --bin tester {directory_input}/@ $(pwd)/{parameters_changed_filename}.out 2>&1 | grep Score | sed -E s/[^0-9]+// > ./{index_parallel}_score/@;\"\n",
    "        f\"./{parameters_changed_filename}.out < {directory_input}/@ > {work_dir / index_parallel}_out/@;\"\n",
    "        f\"../tools/target/release/vis {directory_input}/@ {work_dir / index_parallel}_out/@ 2> /dev/null > {work_dir / index_parallel}_score/@;\"\n",
    "    )\n",
    "    # 並列実行 (sed はパスのディレクトリ部分を消してファイル名にしてる)\n",
    "    run(f\"find {directory_input}/* | sed 's!^.*/!!' | xargs -I@ -P {n_internal_parallel} sh -c '{command_exec}'\", \"exec\")\n",
    "    \n",
    "    # 集計\n",
    "    scores = []\n",
    "    for file_path in Path(f\"{work_dir / index_parallel}_score/\").iterdir():  \n",
    "        with open(file_path) as f:\n",
    "            scores.append(int(f.readline().strip().split()[-1]))\n",
    "    mean_score = sum(scores) / len(scores)\n",
    "    \n",
    "    # 後始末\n",
    "    run(f\"rm -rf {work_dir / index_parallel}_out\", \"rm\")\n",
    "    run(f\"rm -rf {work_dir / index_parallel}_score\", \"rm\")\n",
    "    #run(f\"rm {parameters_changed_filename}\", \"rm\")\n",
    "    run(f\"rm {parameters_changed_filename}.out\", \"rm\")\n",
    "    \n",
    "    return mean_score"
   ]
  },
  {
   "cell_type": "code",
   "execution_count": 4,
   "id": "2d2e133c",
   "metadata": {},
   "outputs": [
    {
     "name": "stderr",
     "output_type": "stream",
     "text": [
      "\u001b[32m[I 2022-08-15 21:24:34,242]\u001b[0m A new study created in RDB with name: study_2_0\u001b[0m\n"
     ]
    }
   ],
   "source": [
    "K = 2\n",
    "N_CLASS = 0\n",
    "\n",
    "in_dir = Path(f\"in_{K}_{N_CLASS}\")\n",
    "work_dir = Path(f\"work_{K}_{N_CLASS}\")\n",
    "\n",
    "study_name = f\"study_{K}_{N_CLASS}\"\n",
    "storage_path = work_dir / \"study.db\"\n",
    "storage = f\"sqlite:///{storage_path}\"\n",
    "study = optuna.create_study(storage=storage, load_if_exists=True, study_name=study_name, direction=\"maximize\")\n",
    "\n",
    "def callback(study, trial):\n",
    "    try:\n",
    "        index_parallel = f\"{trial.number:04d}\"\n",
    "        parameters_changed_filename = work_dir / f\"{index_parallel}_{FILENAME}\"\n",
    "        if study.best_value == trial.value:\n",
    "            print(f\"Updated! {study.best_value}\")\n",
    "            !cp {parameters_changed_filename} {work_dir / \"best_parameters.cpp\"}\n",
    "        !rm {parameters_changed_filename}\n",
    "    except:\n",
    "        print(\":(\")\n"
   ]
  },
  {
   "cell_type": "code",
   "execution_count": null,
   "id": "61c2901d",
   "metadata": {},
   "outputs": [
    {
     "name": "stdout",
     "output_type": "stream",
     "text": [
      "index_parallel='0000'\n"
     ]
    },
    {
     "name": "stderr",
     "output_type": "stream",
     "text": [
      "\u001b[32m[I 2022-08-15 21:27:54,582]\u001b[0m Trial 0 finished with value: 6733.617647058823 and parameters: {'kErase': 2, 'kRadius': 2, 'kAnnealingA': 7.191353473637292, 'kAnnealingB': 0.35999071304772445, 'kAnnealingStart': 70.49834180828992, 'kSkipRatio': 0.5976119402517612, 'kTargetDeterminationTrials': 20, 'kAttractionRatio': 0.013635528747473384, 'kMaxAttractionDistance': 8, 'kStartAttraction': 0.004456015084927342}. Best is trial 0 with value: 6733.617647058823.\u001b[0m\n"
     ]
    },
    {
     "name": "stdout",
     "output_type": "stream",
     "text": [
      "Updated! 6733.617647058823\n",
      "index_parallel='0001'\n"
     ]
    },
    {
     "name": "stderr",
     "output_type": "stream",
     "text": [
      "\u001b[32m[I 2022-08-15 21:31:14,453]\u001b[0m Trial 1 finished with value: 6692.982352941176 and parameters: {'kErase': 1, 'kRadius': 2, 'kAnnealingA': -4.692460170269669, 'kAnnealingB': 2.655000380995758, 'kAnnealingStart': 70.33388353626947, 'kSkipRatio': 0.253330551672584, 'kTargetDeterminationTrials': 4, 'kAttractionRatio': 0.013761279310484322, 'kMaxAttractionDistance': 64, 'kStartAttraction': 0.005511153568881929}. Best is trial 0 with value: 6733.617647058823.\u001b[0m\n"
     ]
    },
    {
     "name": "stdout",
     "output_type": "stream",
     "text": [
      "index_parallel='0002'\n"
     ]
    },
    {
     "name": "stderr",
     "output_type": "stream",
     "text": [
      "\u001b[32m[I 2022-08-15 21:34:34,591]\u001b[0m Trial 2 finished with value: 6252.176470588235 and parameters: {'kErase': 1, 'kRadius': 5, 'kAnnealingA': 10.29995116847872, 'kAnnealingB': 0.7374885059481651, 'kAnnealingStart': 26.85293077973151, 'kSkipRatio': 0.3099688146865299, 'kTargetDeterminationTrials': 2, 'kAttractionRatio': 0.12382409285706779, 'kMaxAttractionDistance': 9, 'kStartAttraction': 0.003473406740106713}. Best is trial 0 with value: 6733.617647058823.\u001b[0m\n"
     ]
    },
    {
     "name": "stdout",
     "output_type": "stream",
     "text": [
      "index_parallel='0003'\n"
     ]
    },
    {
     "name": "stderr",
     "output_type": "stream",
     "text": [
      "\u001b[32m[I 2022-08-15 21:37:55,754]\u001b[0m Trial 3 finished with value: 6173.358823529412 and parameters: {'kErase': 5, 'kRadius': 2, 'kAnnealingA': -4.924030312579275, 'kAnnealingB': 1.3322159998519238, 'kAnnealingStart': 3.663887491785306, 'kSkipRatio': 0.3717945245362074, 'kTargetDeterminationTrials': 1, 'kAttractionRatio': 0.2185168527177668, 'kMaxAttractionDistance': 33, 'kStartAttraction': 0.0013559976794137185}. Best is trial 0 with value: 6733.617647058823.\u001b[0m\n"
     ]
    },
    {
     "name": "stdout",
     "output_type": "stream",
     "text": [
      "index_parallel='0004'\n"
     ]
    },
    {
     "name": "stderr",
     "output_type": "stream",
     "text": [
      "\u001b[32m[I 2022-08-15 21:41:16,082]\u001b[0m Trial 4 finished with value: 6321.523529411765 and parameters: {'kErase': 2, 'kRadius': 5, 'kAnnealingA': -11.228076004357167, 'kAnnealingB': 1.5164939211620667, 'kAnnealingStart': 7.761617197126939, 'kSkipRatio': 0.7474354126096363, 'kTargetDeterminationTrials': 1, 'kAttractionRatio': 0.033282624908272294, 'kMaxAttractionDistance': 32, 'kStartAttraction': 0.011799124538596582}. Best is trial 0 with value: 6733.617647058823.\u001b[0m\n"
     ]
    },
    {
     "name": "stdout",
     "output_type": "stream",
     "text": [
      "index_parallel='0005'\n"
     ]
    },
    {
     "name": "stderr",
     "output_type": "stream",
     "text": [
      "\u001b[32m[I 2022-08-15 21:44:36,482]\u001b[0m Trial 5 finished with value: 6553.082352941176 and parameters: {'kErase': 3, 'kRadius': 5, 'kAnnealingA': -1.5784713471804164, 'kAnnealingB': 2.199406918904691, 'kAnnealingStart': 5.071210967951039, 'kSkipRatio': 0.37429425439788827, 'kTargetDeterminationTrials': 5, 'kAttractionRatio': 0.7949886506453446, 'kMaxAttractionDistance': 43, 'kStartAttraction': 0.1551058613070466}. Best is trial 0 with value: 6733.617647058823.\u001b[0m\n"
     ]
    },
    {
     "name": "stdout",
     "output_type": "stream",
     "text": [
      "index_parallel='0006'\n"
     ]
    },
    {
     "name": "stderr",
     "output_type": "stream",
     "text": [
      "\u001b[32m[I 2022-08-15 21:47:56,605]\u001b[0m Trial 6 finished with value: 6563.964705882353 and parameters: {'kErase': 2, 'kRadius': 4, 'kAnnealingA': 5.73301616638269, 'kAnnealingB': 2.8141975725003796, 'kAnnealingStart': 2.5401311860808935, 'kSkipRatio': 0.49550476509817515, 'kTargetDeterminationTrials': 2, 'kAttractionRatio': 0.01918123843303638, 'kMaxAttractionDistance': 47, 'kStartAttraction': 0.04636360037135017}. Best is trial 0 with value: 6733.617647058823.\u001b[0m\n"
     ]
    },
    {
     "name": "stdout",
     "output_type": "stream",
     "text": [
      "index_parallel='0007'\n"
     ]
    },
    {
     "name": "stderr",
     "output_type": "stream",
     "text": [
      "\u001b[32m[I 2022-08-15 21:51:17,043]\u001b[0m Trial 7 finished with value: 6395.664705882353 and parameters: {'kErase': 3, 'kRadius': 6, 'kAnnealingA': -11.834993099145631, 'kAnnealingB': 2.932374114707959, 'kAnnealingStart': 1.4739391471910013, 'kSkipRatio': 0.5576727497378049, 'kTargetDeterminationTrials': 3, 'kAttractionRatio': 0.03897682258783996, 'kMaxAttractionDistance': 16, 'kStartAttraction': 0.018254901604081265}. Best is trial 0 with value: 6733.617647058823.\u001b[0m\n"
     ]
    },
    {
     "name": "stdout",
     "output_type": "stream",
     "text": [
      "index_parallel='0008'\n"
     ]
    },
    {
     "name": "stderr",
     "output_type": "stream",
     "text": [
      "\u001b[32m[I 2022-08-15 21:54:37,856]\u001b[0m Trial 8 finished with value: 6538.817647058823 and parameters: {'kErase': 5, 'kRadius': 4, 'kAnnealingA': -3.813068143522628, 'kAnnealingB': 1.688347710624281, 'kAnnealingStart': 32.34916530007401, 'kSkipRatio': 0.5012070788139775, 'kTargetDeterminationTrials': 12, 'kAttractionRatio': 0.7990145260431666, 'kMaxAttractionDistance': 53, 'kStartAttraction': 0.0017319686567642439}. Best is trial 0 with value: 6733.617647058823.\u001b[0m\n"
     ]
    },
    {
     "name": "stdout",
     "output_type": "stream",
     "text": [
      "index_parallel='0009'\n"
     ]
    },
    {
     "name": "stderr",
     "output_type": "stream",
     "text": [
      "\u001b[32m[I 2022-08-15 21:57:58,491]\u001b[0m Trial 9 finished with value: 6198.494117647058 and parameters: {'kErase': 3, 'kRadius': 4, 'kAnnealingA': -0.21321144001583647, 'kAnnealingB': 2.3170494110604807, 'kAnnealingStart': 31.32948159000276, 'kSkipRatio': 0.2315838461984853, 'kTargetDeterminationTrials': 4, 'kAttractionRatio': 0.41513055011939326, 'kMaxAttractionDistance': 37, 'kStartAttraction': 0.005004014553666836}. Best is trial 0 with value: 6733.617647058823.\u001b[0m\n"
     ]
    },
    {
     "name": "stdout",
     "output_type": "stream",
     "text": [
      "index_parallel='0010'\n"
     ]
    },
    {
     "name": "stderr",
     "output_type": "stream",
     "text": [
      "\u001b[32m[I 2022-08-15 22:01:19,192]\u001b[0m Trial 10 finished with value: 6734.594117647059 and parameters: {'kErase': 4, 'kRadius': 3, 'kAnnealingA': 14.228686600150791, 'kAnnealingB': 0.20074398584749753, 'kAnnealingStart': 93.25178007325977, 'kSkipRatio': 0.7459335330600193, 'kTargetDeterminationTrials': 16, 'kAttractionRatio': 0.055879537194945025, 'kMaxAttractionDistance': 4, 'kStartAttraction': 0.8129129427950447}. Best is trial 10 with value: 6734.594117647059.\u001b[0m\n"
     ]
    },
    {
     "name": "stdout",
     "output_type": "stream",
     "text": [
      "Updated! 6734.594117647059\n",
      "index_parallel='0011'\n"
     ]
    },
    {
     "name": "stderr",
     "output_type": "stream",
     "text": [
      "\u001b[32m[I 2022-08-15 22:04:40,371]\u001b[0m Trial 11 finished with value: 6727.417647058824 and parameters: {'kErase': 4, 'kRadius': 3, 'kAnnealingA': 14.72026022725412, 'kAnnealingB': 0.05680199508163819, 'kAnnealingStart': 96.29762772695828, 'kSkipRatio': 0.7872059262380458, 'kTargetDeterminationTrials': 19, 'kAttractionRatio': 0.0465230583749758, 'kMaxAttractionDistance': 4, 'kStartAttraction': 0.8810309610694572}. Best is trial 10 with value: 6734.594117647059.\u001b[0m\n"
     ]
    },
    {
     "name": "stdout",
     "output_type": "stream",
     "text": [
      "index_parallel='0012'\n"
     ]
    },
    {
     "name": "stderr",
     "output_type": "stream",
     "text": [
      "\u001b[32m[I 2022-08-15 22:08:01,382]\u001b[0m Trial 12 finished with value: 6775.488235294118 and parameters: {'kErase': 4, 'kRadius': 3, 'kAnnealingA': 6.489479644587066, 'kAnnealingB': 0.02221489198340615, 'kAnnealingStart': 14.834096834912433, 'kSkipRatio': 0.6582886872511241, 'kTargetDeterminationTrials': 10, 'kAttractionRatio': 0.08474081405308226, 'kMaxAttractionDistance': 4, 'kStartAttraction': 0.8528177295431382}. Best is trial 12 with value: 6775.488235294118.\u001b[0m\n"
     ]
    },
    {
     "name": "stdout",
     "output_type": "stream",
     "text": [
      "Updated! 6775.488235294118\n",
      "index_parallel='0013'\n"
     ]
    },
    {
     "name": "stderr",
     "output_type": "stream",
     "text": [
      "\u001b[32m[I 2022-08-15 22:11:22,445]\u001b[0m Trial 13 finished with value: 6817.2588235294115 and parameters: {'kErase': 4, 'kRadius': 3, 'kAnnealingA': 14.951508398977268, 'kAnnealingB': 0.8091733701693025, 'kAnnealingStart': 19.60014329066853, 'kSkipRatio': 0.675089094420477, 'kTargetDeterminationTrials': 9, 'kAttractionRatio': 0.08933519342899235, 'kMaxAttractionDistance': 4, 'kStartAttraction': 0.768307982954254}. Best is trial 13 with value: 6817.2588235294115.\u001b[0m\n"
     ]
    },
    {
     "name": "stdout",
     "output_type": "stream",
     "text": [
      "Updated! 6817.2588235294115\n",
      "index_parallel='0014'\n"
     ]
    },
    {
     "name": "stderr",
     "output_type": "stream",
     "text": [
      "\u001b[32m[I 2022-08-15 22:14:43,328]\u001b[0m Trial 14 finished with value: 6827.635294117647 and parameters: {'kErase': 4, 'kRadius': 3, 'kAnnealingA': 4.384035000588265, 'kAnnealingB': 0.7886112795756736, 'kAnnealingStart': 14.171548752976824, 'kSkipRatio': 0.6668257396014717, 'kTargetDeterminationTrials': 8, 'kAttractionRatio': 0.13177411786926016, 'kMaxAttractionDistance': 7, 'kStartAttraction': 0.20151882659299955}. Best is trial 14 with value: 6827.635294117647.\u001b[0m\n"
     ]
    },
    {
     "name": "stdout",
     "output_type": "stream",
     "text": [
      "Updated! 6827.635294117647\n",
      "index_parallel='0015'\n"
     ]
    },
    {
     "name": "stderr",
     "output_type": "stream",
     "text": [
      "\u001b[32m[I 2022-08-15 22:18:04,385]\u001b[0m Trial 15 finished with value: 6800.335294117647 and parameters: {'kErase': 4, 'kRadius': 3, 'kAnnealingA': 3.6348661703495107, 'kAnnealingB': 0.922669053976524, 'kAnnealingStart': 14.251284641678422, 'kSkipRatio': 0.6521773694276597, 'kTargetDeterminationTrials': 7, 'kAttractionRatio': 0.1733830313163934, 'kMaxAttractionDistance': 7, 'kStartAttraction': 0.21619544397757182}. Best is trial 14 with value: 6827.635294117647.\u001b[0m\n"
     ]
    },
    {
     "name": "stdout",
     "output_type": "stream",
     "text": [
      "index_parallel='0016'\n"
     ]
    },
    {
     "name": "stderr",
     "output_type": "stream",
     "text": [
      "\u001b[32m[I 2022-08-15 22:21:25,647]\u001b[0m Trial 16 finished with value: 6708.588235294118 and parameters: {'kErase': 5, 'kRadius': 3, 'kAnnealingA': 11.028999298371875, 'kAnnealingB': 0.8954269651418929, 'kAnnealingStart': 8.643277726645891, 'kSkipRatio': 0.6809717504390173, 'kTargetDeterminationTrials': 8, 'kAttractionRatio': 0.23983818735328985, 'kMaxAttractionDistance': 15, 'kStartAttraction': 0.20371445415196024}. Best is trial 14 with value: 6827.635294117647.\u001b[0m\n"
     ]
    },
    {
     "name": "stdout",
     "output_type": "stream",
     "text": [
      "index_parallel='0017'\n"
     ]
    },
    {
     "name": "stderr",
     "output_type": "stream",
     "text": [
      "\u001b[32m[I 2022-08-15 22:24:46,093]\u001b[0m Trial 17 finished with value: 6765.176470588235 and parameters: {'kErase': 4, 'kRadius': 2, 'kAnnealingA': 10.953223190224616, 'kAnnealingB': 0.5720167823899585, 'kAnnealingStart': 14.256829531078449, 'kSkipRatio': 0.567654379522635, 'kTargetDeterminationTrials': 6, 'kAttractionRatio': 0.08998176709063174, 'kMaxAttractionDistance': 6, 'kStartAttraction': 0.07434361511230077}. Best is trial 14 with value: 6827.635294117647.\u001b[0m\n"
     ]
    },
    {
     "name": "stdout",
     "output_type": "stream",
     "text": [
      "index_parallel='0018'\n"
     ]
    },
    {
     "name": "stderr",
     "output_type": "stream",
     "text": [
      "\u001b[32m[I 2022-08-15 22:28:06,835]\u001b[0m Trial 18 finished with value: 6794.594117647059 and parameters: {'kErase': 3, 'kRadius': 3, 'kAnnealingA': 2.7035225576712953, 'kAnnealingB': 1.1685652823663504, 'kAnnealingStart': 21.53599895382436, 'kSkipRatio': 0.46673269714999976, 'kTargetDeterminationTrials': 12, 'kAttractionRatio': 0.39469762564515, 'kMaxAttractionDistance': 98, 'kStartAttraction': 0.3952169752388675}. Best is trial 14 with value: 6827.635294117647.\u001b[0m\n"
     ]
    },
    {
     "name": "stdout",
     "output_type": "stream",
     "text": [
      "index_parallel='0019'\n"
     ]
    },
    {
     "name": "stderr",
     "output_type": "stream",
     "text": [
      "\u001b[32m[I 2022-08-15 22:31:27,915]\u001b[0m Trial 19 finished with value: 6748.370588235294 and parameters: {'kErase': 5, 'kRadius': 4, 'kAnnealingA': -9.011538587749953, 'kAnnealingB': 0.48233302172111425, 'kAnnealingStart': 43.034204149065125, 'kSkipRatio': 0.7019070180589211, 'kTargetDeterminationTrials': 2, 'kAttractionRatio': 0.1296434413491853, 'kMaxAttractionDistance': 11, 'kStartAttraction': 0.08587925796436807}. Best is trial 14 with value: 6827.635294117647.\u001b[0m\n"
     ]
    },
    {
     "name": "stdout",
     "output_type": "stream",
     "text": [
      "index_parallel='0020'\n"
     ]
    },
    {
     "name": "stderr",
     "output_type": "stream",
     "text": [
      "\u001b[32m[I 2022-08-15 22:34:48,780]\u001b[0m Trial 20 finished with value: 6622.747058823529 and parameters: {'kErase': 4, 'kRadius': 6, 'kAnnealingA': 2.52660602475908, 'kAnnealingB': 1.7057992475882036, 'kAnnealingStart': 5.470410437964335, 'kSkipRatio': 0.6140583034920948, 'kTargetDeterminationTrials': 9, 'kAttractionRatio': 0.06873466685616249, 'kMaxAttractionDistance': 6, 'kStartAttraction': 0.39072908739139073}. Best is trial 14 with value: 6827.635294117647.\u001b[0m\n"
     ]
    },
    {
     "name": "stdout",
     "output_type": "stream",
     "text": [
      "index_parallel='0021'\n"
     ]
    },
    {
     "name": "stderr",
     "output_type": "stream",
     "text": [
      "\u001b[32m[I 2022-08-15 22:38:09,554]\u001b[0m Trial 21 finished with value: 6847.8117647058825 and parameters: {'kErase': 4, 'kRadius': 3, 'kAnnealingA': 3.89980306891139, 'kAnnealingB': 0.9912666105589308, 'kAnnealingStart': 14.913068543869791, 'kSkipRatio': 0.6407365877157171, 'kTargetDeterminationTrials': 7, 'kAttractionRatio': 0.16658770934289496, 'kMaxAttractionDistance': 6, 'kStartAttraction': 0.2934874678248033}. Best is trial 21 with value: 6847.8117647058825.\u001b[0m\n"
     ]
    },
    {
     "name": "stdout",
     "output_type": "stream",
     "text": [
      "Updated! 6847.8117647058825\n",
      "index_parallel='0022'\n"
     ]
    },
    {
     "name": "stderr",
     "output_type": "stream",
     "text": [
      "\u001b[32m[I 2022-08-15 22:41:30,747]\u001b[0m Trial 22 finished with value: 6820.947058823529 and parameters: {'kErase': 4, 'kRadius': 3, 'kAnnealingA': 8.751898554869133, 'kAnnealingB': 0.9988080236054911, 'kAnnealingStart': 18.984462759154138, 'kSkipRatio': 0.7254185260406154, 'kTargetDeterminationTrials': 6, 'kAttractionRatio': 0.29642687810114476, 'kMaxAttractionDistance': 5, 'kStartAttraction': 0.32315495288735313}. Best is trial 21 with value: 6847.8117647058825.\u001b[0m\n"
     ]
    },
    {
     "name": "stdout",
     "output_type": "stream",
     "text": [
      "index_parallel='0023'\n"
     ]
    },
    {
     "name": "stderr",
     "output_type": "stream",
     "text": [
      "\u001b[32m[I 2022-08-15 22:44:51,375]\u001b[0m Trial 23 finished with value: 6767.041176470589 and parameters: {'kErase': 3, 'kRadius': 2, 'kAnnealingA': 8.699380512431627, 'kAnnealingB': 1.1842935097152134, 'kAnnealingStart': 10.675278626626456, 'kSkipRatio': 0.7843650121789304, 'kTargetDeterminationTrials': 3, 'kAttractionRatio': 0.3836831256197671, 'kMaxAttractionDistance': 11, 'kStartAttraction': 0.35812278299880507}. Best is trial 21 with value: 6847.8117647058825.\u001b[0m\n"
     ]
    },
    {
     "name": "stdout",
     "output_type": "stream",
     "text": [
      "index_parallel='0024'\n"
     ]
    },
    {
     "name": "stderr",
     "output_type": "stream",
     "text": [
      "\u001b[32m[I 2022-08-15 22:48:12,293]\u001b[0m Trial 24 finished with value: 6842.958823529411 and parameters: {'kErase': 5, 'kRadius': 3, 'kAnnealingA': 4.483684210911967, 'kAnnealingB': 1.0318363576592808, 'kAnnealingStart': 40.2350102748328, 'kSkipRatio': 0.725555930881752, 'kTargetDeterminationTrials': 5, 'kAttractionRatio': 0.26412442150601234, 'kMaxAttractionDistance': 23, 'kStartAttraction': 0.10906484651067651}. Best is trial 21 with value: 6847.8117647058825.\u001b[0m\n"
     ]
    },
    {
     "name": "stdout",
     "output_type": "stream",
     "text": [
      "index_parallel='0025'\n"
     ]
    },
    {
     "name": "stderr",
     "output_type": "stream",
     "text": [
      "\u001b[32m[I 2022-08-15 22:51:33,032]\u001b[0m Trial 25 finished with value: 6632.7411764705885 and parameters: {'kErase': 5, 'kRadius': 4, 'kAnnealingA': 4.192323771851358, 'kAnnealingB': 1.9291644091309756, 'kAnnealingStart': 47.45693460473479, 'kSkipRatio': 0.6246860581149338, 'kTargetDeterminationTrials': 5, 'kAttractionRatio': 0.14193977347626113, 'kMaxAttractionDistance': 23, 'kStartAttraction': 0.10112822074438217}. Best is trial 21 with value: 6847.8117647058825.\u001b[0m\n"
     ]
    },
    {
     "name": "stdout",
     "output_type": "stream",
     "text": [
      "index_parallel='0026'\n"
     ]
    },
    {
     "name": "stderr",
     "output_type": "stream",
     "text": [
      "\u001b[32m[I 2022-08-15 22:54:53,838]\u001b[0m Trial 26 finished with value: 6498.952941176471 and parameters: {'kErase': 5, 'kRadius': 3, 'kAnnealingA': 0.9041028458005185, 'kAnnealingB': 1.3204490506495845, 'kAnnealingStart': 10.094223123896054, 'kSkipRatio': 0.5426793910196577, 'kTargetDeterminationTrials': 13, 'kAttractionRatio': 0.5135535691150046, 'kMaxAttractionDistance': 21, 'kStartAttraction': 0.028856049637065798}. Best is trial 21 with value: 6847.8117647058825.\u001b[0m\n"
     ]
    },
    {
     "name": "stdout",
     "output_type": "stream",
     "text": [
      "index_parallel='0027'\n"
     ]
    },
    {
     "name": "stderr",
     "output_type": "stream",
     "text": [
      "\u001b[32m[I 2022-08-15 22:58:14,809]\u001b[0m Trial 27 finished with value: 6905.829411764706 and parameters: {'kErase': 5, 'kRadius': 2, 'kAnnealingA': -1.1907796455930786, 'kAnnealingB': 0.5994463929057969, 'kAnnealingStart': 48.188769819160626, 'kSkipRatio': 0.7978009145107254, 'kTargetDeterminationTrials': 4, 'kAttractionRatio': 0.19433829658932616, 'kMaxAttractionDistance': 26, 'kStartAttraction': 0.04707880752961959}. Best is trial 27 with value: 6905.829411764706.\u001b[0m\n"
     ]
    },
    {
     "name": "stdout",
     "output_type": "stream",
     "text": [
      "Updated! 6905.829411764706\n",
      "index_parallel='0028'\n"
     ]
    },
    {
     "name": "stderr",
     "output_type": "stream",
     "text": [
      "\u001b[32m[I 2022-08-15 23:01:35,972]\u001b[0m Trial 28 finished with value: 6887.752941176471 and parameters: {'kErase': 5, 'kRadius': 2, 'kAnnealingA': -1.7924557600967255, 'kAnnealingB': 0.6250179759082876, 'kAnnealingStart': 47.447764535001966, 'kSkipRatio': 0.7656898209149351, 'kTargetDeterminationTrials': 4, 'kAttractionRatio': 0.20486471561068467, 'kMaxAttractionDistance': 27, 'kStartAttraction': 0.04973098156453399}. Best is trial 27 with value: 6905.829411764706.\u001b[0m\n"
     ]
    },
    {
     "name": "stdout",
     "output_type": "stream",
     "text": [
      "index_parallel='0029'\n"
     ]
    },
    {
     "name": "stderr",
     "output_type": "stream",
     "text": [
      "\u001b[32m[I 2022-08-15 23:04:56,986]\u001b[0m Trial 29 finished with value: 6863.941176470588 and parameters: {'kErase': 5, 'kRadius': 2, 'kAnnealingA': -7.154471445013665, 'kAnnealingB': 0.3479656708498713, 'kAnnealingStart': 55.027158426959794, 'kSkipRatio': 0.7953480671427479, 'kTargetDeterminationTrials': 3, 'kAttractionRatio': 0.1961147609845278, 'kMaxAttractionDistance': 28, 'kStartAttraction': 0.04279037611708158}. Best is trial 27 with value: 6905.829411764706.\u001b[0m\n"
     ]
    },
    {
     "name": "stdout",
     "output_type": "stream",
     "text": [
      "index_parallel='0030'\n"
     ]
    },
    {
     "name": "stderr",
     "output_type": "stream",
     "text": [
      "\u001b[32m[I 2022-08-15 23:08:17,887]\u001b[0m Trial 30 finished with value: 6781.158823529412 and parameters: {'kErase': 5, 'kRadius': 2, 'kAnnealingA': -14.993004369252358, 'kAnnealingB': 0.31212527530013423, 'kAnnealingStart': 60.74417539344611, 'kSkipRatio': 0.7958392685867477, 'kTargetDeterminationTrials': 3, 'kAttractionRatio': 0.5464831654253711, 'kMaxAttractionDistance': 28, 'kStartAttraction': 0.044857817685205394}. Best is trial 27 with value: 6905.829411764706.\u001b[0m\n"
     ]
    },
    {
     "name": "stdout",
     "output_type": "stream",
     "text": [
      "index_parallel='0031'\n"
     ]
    },
    {
     "name": "stderr",
     "output_type": "stream",
     "text": [
      "\u001b[32m[I 2022-08-15 23:11:38,658]\u001b[0m Trial 31 finished with value: 6851.905882352941 and parameters: {'kErase': 5, 'kRadius': 2, 'kAnnealingA': -7.5594227515260375, 'kAnnealingB': 0.561952009309559, 'kAnnealingStart': 60.021566866985076, 'kSkipRatio': 0.7568629856756036, 'kTargetDeterminationTrials': 4, 'kAttractionRatio': 0.19012753606147523, 'kMaxAttractionDistance': 16, 'kStartAttraction': 0.017433140587973572}. Best is trial 27 with value: 6905.829411764706.\u001b[0m\n"
     ]
    },
    {
     "name": "stdout",
     "output_type": "stream",
     "text": [
      "index_parallel='0032'\n"
     ]
    },
    {
     "name": "stderr",
     "output_type": "stream",
     "text": [
      "\u001b[32m[I 2022-08-15 23:14:59,358]\u001b[0m Trial 32 finished with value: 6856.870588235294 and parameters: {'kErase': 5, 'kRadius': 2, 'kAnnealingA': -6.517438757092199, 'kAnnealingB': 0.5117474148097667, 'kAnnealingStart': 59.53062642258596, 'kSkipRatio': 0.7605915786583163, 'kTargetDeterminationTrials': 4, 'kAttractionRatio': 0.18576028423297505, 'kMaxAttractionDistance': 16, 'kStartAttraction': 0.012367296445435228}. Best is trial 27 with value: 6905.829411764706.\u001b[0m\n"
     ]
    },
    {
     "name": "stdout",
     "output_type": "stream",
     "text": [
      "index_parallel='0033'\n"
     ]
    },
    {
     "name": "stderr",
     "output_type": "stream",
     "text": [
      "\u001b[32m[I 2022-08-15 23:18:20,438]\u001b[0m Trial 33 finished with value: 6878.364705882353 and parameters: {'kErase': 5, 'kRadius': 2, 'kAnnealingA': -3.1946975278986396, 'kAnnealingB': 0.33383585219595546, 'kAnnealingStart': 69.38034969030423, 'kSkipRatio': 0.7111987170613181, 'kTargetDeterminationTrials': 2, 'kAttractionRatio': 0.33126507329380284, 'kMaxAttractionDistance': 26, 'kStartAttraction': 0.00881882754251062}. Best is trial 27 with value: 6905.829411764706.\u001b[0m\n"
     ]
    },
    {
     "name": "stdout",
     "output_type": "stream",
     "text": [
      "index_parallel='0034'\n"
     ]
    },
    {
     "name": "stderr",
     "output_type": "stream",
     "text": [
      "\u001b[32m[I 2022-08-15 23:21:41,550]\u001b[0m Trial 34 finished with value: 6894.611764705883 and parameters: {'kErase': 5, 'kRadius': 2, 'kAnnealingA': -2.299519330455935, 'kAnnealingB': 0.22191317807327202, 'kAnnealingStart': 74.31200128272967, 'kSkipRatio': 0.7092166924584798, 'kTargetDeterminationTrials': 2, 'kAttractionRatio': 0.291870928752236, 'kMaxAttractionDistance': 28, 'kStartAttraction': 0.007490550208588583}. Best is trial 27 with value: 6905.829411764706.\u001b[0m\n"
     ]
    },
    {
     "name": "stdout",
     "output_type": "stream",
     "text": [
      "index_parallel='0035'\n"
     ]
    },
    {
     "name": "stderr",
     "output_type": "stream",
     "text": [
      "\u001b[32m[I 2022-08-15 23:25:01,736]\u001b[0m Trial 35 finished with value: 6859.176470588235 and parameters: {'kErase': 1, 'kRadius': 2, 'kAnnealingA': -2.3206753069898527, 'kAnnealingB': 0.26419910445296124, 'kAnnealingStart': 72.69445540115409, 'kSkipRatio': 0.707284167617298, 'kTargetDeterminationTrials': 2, 'kAttractionRatio': 0.3091461421493064, 'kMaxAttractionDistance': 66, 'kStartAttraction': 0.008540688350416608}. Best is trial 27 with value: 6905.829411764706.\u001b[0m\n"
     ]
    },
    {
     "name": "stdout",
     "output_type": "stream",
     "text": [
      "index_parallel='0036'\n"
     ]
    },
    {
     "name": "stderr",
     "output_type": "stream",
     "text": [
      "\u001b[32m[I 2022-08-15 23:28:22,490]\u001b[0m Trial 36 finished with value: 6909.1 and parameters: {'kErase': 5, 'kRadius': 2, 'kAnnealingA': -3.5298393938246555, 'kAnnealingB': 0.664148532542321, 'kAnnealingStart': 76.47690497365863, 'kSkipRatio': 0.7188433207513049, 'kTargetDeterminationTrials': 1, 'kAttractionRatio': 0.570152231824117, 'kMaxAttractionDistance': 27, 'kStartAttraction': 0.0029030139578087896}. Best is trial 36 with value: 6909.1.\u001b[0m\n"
     ]
    },
    {
     "name": "stdout",
     "output_type": "stream",
     "text": [
      "Updated! 6909.1\n",
      "index_parallel='0037'\n"
     ]
    },
    {
     "name": "stderr",
     "output_type": "stream",
     "text": [
      "\u001b[32m[I 2022-08-15 23:31:43,296]\u001b[0m Trial 37 finished with value: 6776.935294117647 and parameters: {'kErase': 5, 'kRadius': 2, 'kAnnealingA': -0.35807539716301184, 'kAnnealingB': 0.670384747046459, 'kAnnealingStart': 34.346345159238695, 'kSkipRatio': 0.5903170665512316, 'kTargetDeterminationTrials': 1, 'kAttractionRatio': 0.600818640363586, 'kMaxAttractionDistance': 34, 'kStartAttraction': 0.002484886210090659}. Best is trial 36 with value: 6909.1.\u001b[0m\n"
     ]
    },
    {
     "name": "stdout",
     "output_type": "stream",
     "text": [
      "index_parallel='0038'\n"
     ]
    },
    {
     "name": "stderr",
     "output_type": "stream",
     "text": [
      "\u001b[32m[I 2022-08-15 23:35:04,098]\u001b[0m Trial 38 finished with value: 6245.229411764706 and parameters: {'kErase': 5, 'kRadius': 2, 'kAnnealingA': -5.275074293420296, 'kAnnealingB': 0.1110661730565631, 'kAnnealingStart': 80.19336537489126, 'kSkipRatio': 0.34318355584924304, 'kTargetDeterminationTrials': 1, 'kAttractionRatio': 0.6345214326503432, 'kMaxAttractionDistance': 19, 'kStartAttraction': 0.003203115691713303}. Best is trial 36 with value: 6909.1.\u001b[0m\n"
     ]
    },
    {
     "name": "stdout",
     "output_type": "stream",
     "text": [
      "index_parallel='0039'\n"
     ]
    },
    {
     "name": "stderr",
     "output_type": "stream",
     "text": [
      "\u001b[32m[I 2022-08-15 23:38:25,260]\u001b[0m Trial 39 finished with value: 6815.570588235294 and parameters: {'kErase': 5, 'kRadius': 2, 'kAnnealingA': -1.4908769540109454, 'kAnnealingB': 0.6609795175717498, 'kAnnealingStart': 27.78636919697665, 'kSkipRatio': 0.7491820127780386, 'kTargetDeterminationTrials': 2, 'kAttractionRatio': 0.4600428851087072, 'kMaxAttractionDistance': 41, 'kStartAttraction': 0.006853314939158735}. Best is trial 36 with value: 6909.1.\u001b[0m\n"
     ]
    },
    {
     "name": "stdout",
     "output_type": "stream",
     "text": [
      "index_parallel='0040'\n"
     ]
    },
    {
     "name": "stderr",
     "output_type": "stream",
     "text": [
      "\u001b[32m[I 2022-08-15 23:41:45,753]\u001b[0m Trial 40 finished with value: 6955.917647058824 and parameters: {'kErase': 2, 'kRadius': 2, 'kAnnealingA': 1.2886349057025734, 'kAnnealingB': 0.4434539291287757, 'kAnnealingStart': 44.30959279433965, 'kSkipRatio': 0.6926332173835782, 'kTargetDeterminationTrials': 4, 'kAttractionRatio': 0.01254159972895259, 'kMaxAttractionDistance': 56, 'kStartAttraction': 0.0011778370817950416}. Best is trial 40 with value: 6955.917647058824.\u001b[0m\n"
     ]
    },
    {
     "name": "stdout",
     "output_type": "stream",
     "text": [
      "Updated! 6955.917647058824\n",
      "index_parallel='0041'\n"
     ]
    },
    {
     "name": "stderr",
     "output_type": "stream",
     "text": [
      "\u001b[32m[I 2022-08-15 23:45:06,239]\u001b[0m Trial 41 finished with value: 6946.7 and parameters: {'kErase': 2, 'kRadius': 2, 'kAnnealingA': 1.0860110244627652, 'kAnnealingB': 0.45786157263131955, 'kAnnealingStart': 45.30199282218813, 'kSkipRatio': 0.6928371223388163, 'kTargetDeterminationTrials': 4, 'kAttractionRatio': 0.02509579021314415, 'kMaxAttractionDistance': 59, 'kStartAttraction': 0.0012536159006292687}. Best is trial 40 with value: 6955.917647058824.\u001b[0m\n"
     ]
    },
    {
     "name": "stdout",
     "output_type": "stream",
     "text": [
      "index_parallel='0042'\n"
     ]
    },
    {
     "name": "stderr",
     "output_type": "stream",
     "text": [
      "\u001b[32m[I 2022-08-15 23:48:26,737]\u001b[0m Trial 42 finished with value: 6938.382352941177 and parameters: {'kErase': 2, 'kRadius': 2, 'kAnnealingA': 1.2884211514618964, 'kAnnealingB': 0.4670111601568657, 'kAnnealingStart': 37.91077086803526, 'kSkipRatio': 0.6905701371726382, 'kTargetDeterminationTrials': 5, 'kAttractionRatio': 0.010913771517415185, 'kMaxAttractionDistance': 66, 'kStartAttraction': 0.0010886853315172928}. Best is trial 40 with value: 6955.917647058824.\u001b[0m\n"
     ]
    },
    {
     "name": "stdout",
     "output_type": "stream",
     "text": [
      "index_parallel='0043'\n"
     ]
    },
    {
     "name": "stderr",
     "output_type": "stream",
     "text": [
      "\u001b[32m[I 2022-08-15 23:51:47,275]\u001b[0m Trial 43 finished with value: 6921.941176470588 and parameters: {'kErase': 2, 'kRadius': 2, 'kAnnealingA': 1.57788086036767, 'kAnnealingB': 0.4951681200827904, 'kAnnealingStart': 24.361888458448373, 'kSkipRatio': 0.4457988829834666, 'kTargetDeterminationTrials': 5, 'kAttractionRatio': 0.011129485773791643, 'kMaxAttractionDistance': 68, 'kStartAttraction': 0.0010872726934761327}. Best is trial 40 with value: 6955.917647058824.\u001b[0m\n"
     ]
    },
    {
     "name": "stdout",
     "output_type": "stream",
     "text": [
      "index_parallel='0044'\n"
     ]
    },
    {
     "name": "stderr",
     "output_type": "stream",
     "text": [
      "\u001b[32m[I 2022-08-15 23:55:07,612]\u001b[0m Trial 44 finished with value: 6885.405882352941 and parameters: {'kErase': 2, 'kRadius': 2, 'kAnnealingA': 0.4717154239432475, 'kAnnealingB': 0.39940197223099194, 'kAnnealingStart': 24.67292822030312, 'kSkipRatio': 0.4399018619870392, 'kTargetDeterminationTrials': 5, 'kAttractionRatio': 0.010036292669874767, 'kMaxAttractionDistance': 71, 'kStartAttraction': 0.0010481850924503994}. Best is trial 40 with value: 6955.917647058824.\u001b[0m\n"
     ]
    },
    {
     "name": "stdout",
     "output_type": "stream",
     "text": [
      "index_parallel='0045'\n"
     ]
    },
    {
     "name": "stderr",
     "output_type": "stream",
     "text": [
      "\u001b[32m[I 2022-08-15 23:58:27,886]\u001b[0m Trial 45 finished with value: 6702.952941176471 and parameters: {'kErase': 2, 'kRadius': 5, 'kAnnealingA': 2.1073824108110997, 'kAnnealingB': 0.7769353079991201, 'kAnnealingStart': 36.64196689991444, 'kSkipRatio': 0.43264544932678173, 'kTargetDeterminationTrials': 5, 'kAttractionRatio': 0.02145945028916928, 'kMaxAttractionDistance': 54, 'kStartAttraction': 0.0016798542883889283}. Best is trial 40 with value: 6955.917647058824.\u001b[0m\n"
     ]
    },
    {
     "name": "stdout",
     "output_type": "stream",
     "text": [
      "index_parallel='0046'\n"
     ]
    },
    {
     "name": "stderr",
     "output_type": "stream",
     "text": [
      "\u001b[32m[I 2022-08-16 00:01:47,928]\u001b[0m Trial 46 finished with value: 6942.34705882353 and parameters: {'kErase': 1, 'kRadius': 2, 'kAnnealingA': 1.5724658793045192, 'kAnnealingB': 0.1495668841672192, 'kAnnealingStart': 28.110479586697878, 'kSkipRatio': 0.3821393534291484, 'kTargetDeterminationTrials': 6, 'kAttractionRatio': 0.01728736190800309, 'kMaxAttractionDistance': 77, 'kStartAttraction': 0.0010055675389446653}. Best is trial 40 with value: 6955.917647058824.\u001b[0m\n"
     ]
    },
    {
     "name": "stdout",
     "output_type": "stream",
     "text": [
      "index_parallel='0047'\n"
     ]
    },
    {
     "name": "stderr",
     "output_type": "stream",
     "text": [
      "\u001b[32m[I 2022-08-16 00:05:08,385]\u001b[0m Trial 47 finished with value: 6911.423529411764 and parameters: {'kErase': 1, 'kRadius': 2, 'kAnnealingA': 1.6933922719456944, 'kAnnealingB': 0.15196673809259292, 'kAnnealingStart': 27.62481325718576, 'kSkipRatio': 0.3854532462177411, 'kTargetDeterminationTrials': 6, 'kAttractionRatio': 0.018262052635664928, 'kMaxAttractionDistance': 87, 'kStartAttraction': 0.0011682523779579079}. Best is trial 40 with value: 6955.917647058824.\u001b[0m\n"
     ]
    },
    {
     "name": "stdout",
     "output_type": "stream",
     "text": [
      "index_parallel='0048'\n"
     ]
    },
    {
     "name": "stderr",
     "output_type": "stream",
     "text": [
      "\u001b[32m[I 2022-08-16 00:08:28,593]\u001b[0m Trial 48 finished with value: 6295.411764705882 and parameters: {'kErase': 1, 'kRadius': 5, 'kAnnealingA': 0.8399957782439162, 'kAnnealingB': 0.0007112827358992657, 'kAnnealingStart': 1.8515389647052805, 'kSkipRatio': 0.31825028444108683, 'kTargetDeterminationTrials': 7, 'kAttractionRatio': 0.013091737875882676, 'kMaxAttractionDistance': 79, 'kStartAttraction': 0.002023140458329232}. Best is trial 40 with value: 6955.917647058824.\u001b[0m\n"
     ]
    },
    {
     "name": "stdout",
     "output_type": "stream",
     "text": [
      "index_parallel='0049'\n"
     ]
    },
    {
     "name": "stderr",
     "output_type": "stream",
     "text": [
      "\u001b[32m[I 2022-08-16 00:11:49,047]\u001b[0m Trial 49 finished with value: 6284.705882352941 and parameters: {'kErase': 2, 'kRadius': 2, 'kAnnealingA': 5.8441313192379045, 'kAnnealingB': 0.43923911637313606, 'kAnnealingStart': 21.561762550595766, 'kSkipRatio': 0.27355872828768424, 'kTargetDeterminationTrials': 6, 'kAttractionRatio': 0.02864756502591777, 'kMaxAttractionDistance': 57, 'kStartAttraction': 0.004371754263546429}. Best is trial 40 with value: 6955.917647058824.\u001b[0m\n"
     ]
    },
    {
     "name": "stdout",
     "output_type": "stream",
     "text": [
      "index_parallel='0050'\n"
     ]
    },
    {
     "name": "stderr",
     "output_type": "stream",
     "text": [
      "\u001b[32m[I 2022-08-16 00:15:09,498]\u001b[0m Trial 50 finished with value: 6479.34705882353 and parameters: {'kErase': 2, 'kRadius': 3, 'kAnnealingA': 7.370347323295456, 'kAnnealingB': 2.604224821908338, 'kAnnealingStart': 1.0383093123053961, 'kSkipRatio': 0.4005489144411113, 'kTargetDeterminationTrials': 3, 'kAttractionRatio': 0.010359369456107027, 'kMaxAttractionDistance': 50, 'kStartAttraction': 0.00139067030706182}. Best is trial 40 with value: 6955.917647058824.\u001b[0m\n"
     ]
    },
    {
     "name": "stdout",
     "output_type": "stream",
     "text": [
      "index_parallel='0051'\n"
     ]
    },
    {
     "name": "stderr",
     "output_type": "stream",
     "text": [
      "\u001b[32m[I 2022-08-16 00:18:29,532]\u001b[0m Trial 51 finished with value: 6890.15294117647 and parameters: {'kErase': 1, 'kRadius': 2, 'kAnnealingA': 2.0820348257890937, 'kAnnealingB': 0.1732896120904438, 'kAnnealingStart': 30.516851711234466, 'kSkipRatio': 0.3813272176285707, 'kTargetDeterminationTrials': 6, 'kAttractionRatio': 0.016902216161080907, 'kMaxAttractionDistance': 93, 'kStartAttraction': 0.0010549373006895452}. Best is trial 40 with value: 6955.917647058824.\u001b[0m\n"
     ]
    },
    {
     "name": "stdout",
     "output_type": "stream",
     "text": [
      "index_parallel='0052'\n"
     ]
    },
    {
     "name": "stderr",
     "output_type": "stream",
     "text": [
      "\u001b[32m[I 2022-08-16 00:21:49,547]\u001b[0m Trial 52 finished with value: 6879.005882352942 and parameters: {'kErase': 1, 'kRadius': 2, 'kAnnealingA': 1.5318555026565839, 'kAnnealingB': 0.15125981161806135, 'kAnnealingStart': 25.33133057894203, 'kSkipRatio': 0.517687911488395, 'kTargetDeterminationTrials': 5, 'kAttractionRatio': 0.024692414395622052, 'kMaxAttractionDistance': 81, 'kStartAttraction': 0.0014462894227171904}. Best is trial 40 with value: 6955.917647058824.\u001b[0m\n"
     ]
    },
    {
     "name": "stdout",
     "output_type": "stream",
     "text": [
      "index_parallel='0053'\n"
     ]
    },
    {
     "name": "stderr",
     "output_type": "stream",
     "text": [
      "\u001b[32m[I 2022-08-16 00:25:09,868]\u001b[0m Trial 53 finished with value: 6835.005882352942 and parameters: {'kErase': 2, 'kRadius': 2, 'kAnnealingA': -0.7511687761861103, 'kAnnealingB': 0.41898163813596734, 'kAnnealingStart': 17.342050357160545, 'kSkipRatio': 0.41182384364196006, 'kTargetDeterminationTrials': 4, 'kAttractionRatio': 0.014473721533431077, 'kMaxAttractionDistance': 59, 'kStartAttraction': 0.0010112671557742285}. Best is trial 40 with value: 6955.917647058824.\u001b[0m\n"
     ]
    },
    {
     "name": "stdout",
     "output_type": "stream",
     "text": [
      "index_parallel='0054'\n"
     ]
    },
    {
     "name": "stderr",
     "output_type": "stream",
     "text": [
      "\u001b[32m[I 2022-08-16 00:28:29,802]\u001b[0m Trial 54 finished with value: 6739.65294117647 and parameters: {'kErase': 1, 'kRadius': 2, 'kAnnealingA': 3.400811365081641, 'kAnnealingB': 0.22516453720734453, 'kAnnealingStart': 38.24141665279305, 'kSkipRatio': 0.34847443743424494, 'kTargetDeterminationTrials': 10, 'kAttractionRatio': 0.016780513636802892, 'kMaxAttractionDistance': 45, 'kStartAttraction': 0.002159255695012514}. Best is trial 40 with value: 6955.917647058824.\u001b[0m\n"
     ]
    },
    {
     "name": "stdout",
     "output_type": "stream",
     "text": [
      "index_parallel='0055'\n"
     ]
    },
    {
     "name": "stderr",
     "output_type": "stream",
     "text": [
      "\u001b[32m[I 2022-08-16 00:31:50,475]\u001b[0m Trial 55 finished with value: 6879.788235294118 and parameters: {'kErase': 2, 'kRadius': 2, 'kAnnealingA': 4.997752433410332, 'kAnnealingB': 0.10374848952513176, 'kAnnealingStart': 31.00006060093908, 'kSkipRatio': 0.47517036887510344, 'kTargetDeterminationTrials': 7, 'kAttractionRatio': 0.012751253008177664, 'kMaxAttractionDistance': 81, 'kStartAttraction': 0.0042673893288888666}. Best is trial 40 with value: 6955.917647058824.\u001b[0m\n"
     ]
    },
    {
     "name": "stdout",
     "output_type": "stream",
     "text": [
      "index_parallel='0056'\n"
     ]
    },
    {
     "name": "stderr",
     "output_type": "stream",
     "text": [
      "\u001b[32m[I 2022-08-16 00:35:10,939]\u001b[0m Trial 56 finished with value: 6424.323529411765 and parameters: {'kErase': 2, 'kRadius': 3, 'kAnnealingA': 0.13980050788896217, 'kAnnealingB': 0.4777187919440188, 'kAnnealingStart': 24.9753193443991, 'kSkipRatio': 0.2634313097545203, 'kTargetDeterminationTrials': 8, 'kAttractionRatio': 0.03850189774905838, 'kMaxAttractionDistance': 69, 'kStartAttraction': 0.0017292891454030682}. Best is trial 40 with value: 6955.917647058824.\u001b[0m\n"
     ]
    },
    {
     "name": "stdout",
     "output_type": "stream",
     "text": [
      "index_parallel='0057'\n"
     ]
    },
    {
     "name": "stderr",
     "output_type": "stream",
     "text": [
      "\u001b[32m[I 2022-08-16 00:38:31,112]\u001b[0m Trial 57 finished with value: 6889.0 and parameters: {'kErase': 1, 'kRadius': 2, 'kAnnealingA': 2.996283902909312, 'kAnnealingB': 0.003851108425244415, 'kAnnealingStart': 42.595399641156504, 'kSkipRatio': 0.4433189241543372, 'kTargetDeterminationTrials': 6, 'kAttractionRatio': 0.02066567679750668, 'kMaxAttractionDistance': 89, 'kStartAttraction': 0.001256595818644053}. Best is trial 40 with value: 6955.917647058824.\u001b[0m\n"
     ]
    },
    {
     "name": "stdout",
     "output_type": "stream",
     "text": [
      "index_parallel='0058'\n"
     ]
    },
    {
     "name": "stderr",
     "output_type": "stream",
     "text": [
      "\u001b[32m[I 2022-08-16 00:41:51,763]\u001b[0m Trial 58 finished with value: 6823.2764705882355 and parameters: {'kErase': 3, 'kRadius': 3, 'kAnnealingA': 1.2101004906146193, 'kAnnealingB': 0.3027562115783812, 'kAnnealingStart': 17.590669346818384, 'kSkipRatio': 0.6850749134922473, 'kTargetDeterminationTrials': 10, 'kAttractionRatio': 0.015576171712305239, 'kMaxAttractionDistance': 63, 'kStartAttraction': 0.002392529603262373}. Best is trial 40 with value: 6955.917647058824.\u001b[0m\n"
     ]
    },
    {
     "name": "stdout",
     "output_type": "stream",
     "text": [
      "index_parallel='0059'\n"
     ]
    },
    {
     "name": "stderr",
     "output_type": "stream",
     "text": [
      "\u001b[32m[I 2022-08-16 00:45:11,706]\u001b[0m Trial 59 finished with value: 6850.288235294118 and parameters: {'kErase': 1, 'kRadius': 4, 'kAnnealingA': 6.5932998754427725, 'kAnnealingB': 0.8610435782864593, 'kAnnealingStart': 12.333967050004341, 'kSkipRatio': 0.29236003573741043, 'kTargetDeterminationTrials': 7, 'kAttractionRatio': 0.01170963153488229, 'kMaxAttractionDistance': 40, 'kStartAttraction': 0.0016446624092598002}. Best is trial 40 with value: 6955.917647058824.\u001b[0m\n"
     ]
    },
    {
     "name": "stdout",
     "output_type": "stream",
     "text": [
      "index_parallel='0060'\n"
     ]
    },
    {
     "name": "stderr",
     "output_type": "stream",
     "text": [
      "\u001b[32m[I 2022-08-16 00:48:32,303]\u001b[0m Trial 60 finished with value: 6577.34705882353 and parameters: {'kErase': 3, 'kRadius': 2, 'kAnnealingA': 5.3175309146217735, 'kAnnealingB': 0.7549337749921907, 'kAnnealingStart': 5.797322924882172, 'kSkipRatio': 0.3474118160342688, 'kTargetDeterminationTrials': 5, 'kAttractionRatio': 0.024801436332537515, 'kMaxAttractionDistance': 72, 'kStartAttraction': 0.0012363457188848213}. Best is trial 40 with value: 6955.917647058824.\u001b[0m\n"
     ]
    },
    {
     "name": "stdout",
     "output_type": "stream",
     "text": [
      "index_parallel='0061'\n"
     ]
    },
    {
     "name": "stderr",
     "output_type": "stream",
     "text": [
      "\u001b[32m[I 2022-08-16 00:51:52,783]\u001b[0m Trial 61 finished with value: 6937.017647058824 and parameters: {'kErase': 2, 'kRadius': 2, 'kAnnealingA': -3.4682397798656037, 'kAnnealingB': 0.6868360315880836, 'kAnnealingStart': 98.57398786109248, 'kSkipRatio': 0.6438921858503492, 'kTargetDeterminationTrials': 8, 'kAttractionRatio': 0.018383760022464866, 'kMaxAttractionDistance': 51, 'kStartAttraction': 0.0030122922056250484}. Best is trial 40 with value: 6955.917647058824.\u001b[0m\n"
     ]
    },
    {
     "name": "stdout",
     "output_type": "stream",
     "text": [
      "index_parallel='0062'\n"
     ]
    },
    {
     "name": "stderr",
     "output_type": "stream",
     "text": [
      "\u001b[32m[I 2022-08-16 00:55:13,083]\u001b[0m Trial 62 finished with value: 6939.935294117647 and parameters: {'kErase': 2, 'kRadius': 2, 'kAnnealingA': -5.06600174697052, 'kAnnealingB': 0.5096727718740611, 'kAnnealingStart': 86.07295573093269, 'kSkipRatio': 0.6266656296521222, 'kTargetDeterminationTrials': 9, 'kAttractionRatio': 0.017432450520730315, 'kMaxAttractionDistance': 48, 'kStartAttraction': 0.0018965905404984523}. Best is trial 40 with value: 6955.917647058824.\u001b[0m\n"
     ]
    },
    {
     "name": "stdout",
     "output_type": "stream",
     "text": [
      "index_parallel='0063'\n"
     ]
    },
    {
     "name": "stderr",
     "output_type": "stream",
     "text": [
      "\u001b[32m[I 2022-08-16 00:58:33,443]\u001b[0m Trial 63 finished with value: 6941.864705882353 and parameters: {'kErase': 2, 'kRadius': 2, 'kAnnealingA': -4.9538080769193815, 'kAnnealingB': 0.530180588330875, 'kAnnealingStart': 85.65241111981102, 'kSkipRatio': 0.6398953060697194, 'kTargetDeterminationTrials': 14, 'kAttractionRatio': 0.011631065384123288, 'kMaxAttractionDistance': 52, 'kStartAttraction': 0.003567168272280412}. Best is trial 40 with value: 6955.917647058824.\u001b[0m\n"
     ]
    },
    {
     "name": "stdout",
     "output_type": "stream",
     "text": [
      "index_parallel='0064'\n"
     ]
    },
    {
     "name": "stderr",
     "output_type": "stream",
     "text": [
      "\u001b[32m[I 2022-08-16 01:01:54,494]\u001b[0m Trial 64 finished with value: 6879.294117647059 and parameters: {'kErase': 2, 'kRadius': 6, 'kAnnealingA': -4.495932211712951, 'kAnnealingB': 1.092499046922876, 'kAnnealingStart': 97.03016412189002, 'kSkipRatio': 0.6403562666310834, 'kTargetDeterminationTrials': 16, 'kAttractionRatio': 0.013976242308390915, 'kMaxAttractionDistance': 48, 'kStartAttraction': 0.0028966137843123674}. Best is trial 40 with value: 6955.917647058824.\u001b[0m\n"
     ]
    },
    {
     "name": "stdout",
     "output_type": "stream",
     "text": [
      "index_parallel='0065'\n"
     ]
    },
    {
     "name": "stderr",
     "output_type": "stream",
     "text": [
      "\u001b[32m[I 2022-08-16 01:05:14,838]\u001b[0m Trial 65 finished with value: 6854.282352941176 and parameters: {'kErase': 2, 'kRadius': 2, 'kAnnealingA': -8.202263666807763, 'kAnnealingB': 1.4717676723265871, 'kAnnealingStart': 93.38234430183549, 'kSkipRatio': 0.6089484212458944, 'kTargetDeterminationTrials': 12, 'kAttractionRatio': 0.02778836275333869, 'kMaxAttractionDistance': 35, 'kStartAttraction': 0.0036118708683001003}. Best is trial 40 with value: 6955.917647058824.\u001b[0m\n"
     ]
    },
    {
     "name": "stdout",
     "output_type": "stream",
     "text": [
      "index_parallel='0066'\n"
     ]
    },
    {
     "name": "stderr",
     "output_type": "stream",
     "text": [
      "\u001b[32m[I 2022-08-16 01:08:35,731]\u001b[0m Trial 66 finished with value: 6815.2764705882355 and parameters: {'kErase': 3, 'kRadius': 3, 'kAnnealingA': -5.851802569173305, 'kAnnealingB': 0.706780433640152, 'kAnnealingStart': 84.34363850825527, 'kSkipRatio': 0.5896708527606122, 'kTargetDeterminationTrials': 14, 'kAttractionRatio': 0.01954461646068457, 'kMaxAttractionDistance': 53, 'kStartAttraction': 0.002031486978656372}. Best is trial 40 with value: 6955.917647058824.\u001b[0m\n"
     ]
    },
    {
     "name": "stdout",
     "output_type": "stream",
     "text": [
      "index_parallel='0067'\n"
     ]
    },
    {
     "name": "stderr",
     "output_type": "stream",
     "text": [
      "\u001b[32m[I 2022-08-16 01:11:56,663]\u001b[0m Trial 67 finished with value: 6780.323529411765 and parameters: {'kErase': 2, 'kRadius': 2, 'kAnnealingA': -9.268643950890517, 'kAnnealingB': 0.546149578378833, 'kAnnealingStart': 50.42425234227618, 'kSkipRatio': 0.6871026681648196, 'kTargetDeterminationTrials': 17, 'kAttractionRatio': 0.012284875654289203, 'kMaxAttractionDistance': 60, 'kStartAttraction': 0.005763087363332803}. Best is trial 40 with value: 6955.917647058824.\u001b[0m\n"
     ]
    },
    {
     "name": "stdout",
     "output_type": "stream",
     "text": [
      "index_parallel='0068'\n"
     ]
    },
    {
     "name": "stderr",
     "output_type": "stream",
     "text": [
      "\u001b[32m[I 2022-08-16 01:15:17,381]\u001b[0m Trial 68 finished with value: 6936.494117647058 and parameters: {'kErase': 2, 'kRadius': 2, 'kAnnealingA': -4.396847761370188, 'kAnnealingB': 0.3401045474880762, 'kAnnealingStart': 62.3518474567895, 'kSkipRatio': 0.6460090865540092, 'kTargetDeterminationTrials': 11, 'kAttractionRatio': 0.034348765522097, 'kMaxAttractionDistance': 48, 'kStartAttraction': 0.001408211765425586}. Best is trial 40 with value: 6955.917647058824.\u001b[0m\n"
     ]
    },
    {
     "name": "stdout",
     "output_type": "stream",
     "text": [
      "index_parallel='0069'\n"
     ]
    },
    {
     "name": "stderr",
     "output_type": "stream",
     "text": [
      "\u001b[32m[I 2022-08-16 01:18:38,017]\u001b[0m Trial 69 finished with value: 6971.2 and parameters: {'kErase': 3, 'kRadius': 2, 'kAnnealingA': -2.970720517922322, 'kAnnealingB': 0.9065789270283657, 'kAnnealingStart': 65.03507492730894, 'kSkipRatio': 0.6642636136915265, 'kTargetDeterminationTrials': 9, 'kAttractionRatio': 0.048002529202689256, 'kMaxAttractionDistance': 43, 'kStartAttraction': 0.003783728434905311}. Best is trial 69 with value: 6971.2.\u001b[0m\n"
     ]
    },
    {
     "name": "stdout",
     "output_type": "stream",
     "text": [
      "Updated! 6971.2\n",
      "index_parallel='0070'\n"
     ]
    },
    {
     "name": "stderr",
     "output_type": "stream",
     "text": [
      "\u001b[32m[I 2022-08-16 01:21:58,930]\u001b[0m Trial 70 finished with value: 6871.052941176471 and parameters: {'kErase': 3, 'kRadius': 3, 'kAnnealingA': -5.660979423925922, 'kAnnealingB': 0.8297958681247385, 'kAnnealingStart': 54.26647177937872, 'kSkipRatio': 0.6600766457640681, 'kTargetDeterminationTrials': 19, 'kAttractionRatio': 0.05162081907663073, 'kMaxAttractionDistance': 37, 'kStartAttraction': 0.0017948807406967051}. Best is trial 69 with value: 6971.2.\u001b[0m\n"
     ]
    },
    {
     "name": "stdout",
     "output_type": "stream",
     "text": [
      "index_parallel='0071'\n"
     ]
    },
    {
     "name": "stderr",
     "output_type": "stream",
     "text": [
      "\u001b[32m[I 2022-08-16 01:25:19,308]\u001b[0m Trial 71 finished with value: 6973.84705882353 and parameters: {'kErase': 2, 'kRadius': 2, 'kAnnealingA': -2.5904459482779183, 'kAnnealingB': 0.9493971658212628, 'kAnnealingStart': 87.01176413795082, 'kSkipRatio': 0.6264787167385788, 'kTargetDeterminationTrials': 11, 'kAttractionRatio': 0.0659284745059587, 'kMaxAttractionDistance': 41, 'kStartAttraction': 0.002602230735231084}. Best is trial 71 with value: 6973.84705882353.\u001b[0m\n"
     ]
    },
    {
     "name": "stdout",
     "output_type": "stream",
     "text": [
      "Updated! 6973.84705882353\n",
      "index_parallel='0072'\n"
     ]
    },
    {
     "name": "stderr",
     "output_type": "stream",
     "text": [
      "\u001b[32m[I 2022-08-16 01:28:39,921]\u001b[0m Trial 72 finished with value: 6929.864705882353 and parameters: {'kErase': 2, 'kRadius': 2, 'kAnnealingA': -2.94750497066479, 'kAnnealingB': 1.115764944004687, 'kAnnealingStart': 65.55945486310303, 'kSkipRatio': 0.5737104637053217, 'kTargetDeterminationTrials': 9, 'kAttractionRatio': 0.07451971504823893, 'kMaxAttractionDistance': 43, 'kStartAttraction': 0.0036304505843404683}. Best is trial 71 with value: 6973.84705882353.\u001b[0m\n"
     ]
    },
    {
     "name": "stdout",
     "output_type": "stream",
     "text": [
      "index_parallel='0073'\n"
     ]
    },
    {
     "name": "stderr",
     "output_type": "stream",
     "text": [
      "\u001b[32m[I 2022-08-16 01:32:00,416]\u001b[0m Trial 73 finished with value: 6853.447058823529 and parameters: {'kErase': 3, 'kRadius': 2, 'kAnnealingA': -0.41997510375372427, 'kAnnealingB': 1.3228063530183751, 'kAnnealingStart': 83.9467502402973, 'kSkipRatio': 0.6272861862933646, 'kTargetDeterminationTrials': 13, 'kAttractionRatio': 0.062356557037362495, 'kMaxAttractionDistance': 31, 'kStartAttraction': 0.0024052061428537384}. Best is trial 71 with value: 6973.84705882353.\u001b[0m\n"
     ]
    },
    {
     "name": "stdout",
     "output_type": "stream",
     "text": [
      "index_parallel='0074'\n"
     ]
    },
    {
     "name": "stderr",
     "output_type": "stream",
     "text": [
      "\u001b[32m[I 2022-08-16 01:35:20,811]\u001b[0m Trial 74 finished with value: 6894.523529411765 and parameters: {'kErase': 2, 'kRadius': 2, 'kAnnealingA': -2.4937174949799643, 'kAnnealingB': 0.9455993409354635, 'kAnnealingStart': 44.491422946508976, 'kSkipRatio': 0.735588336183746, 'kTargetDeterminationTrials': 11, 'kAttractionRatio': 0.10384624585265488, 'kMaxAttractionDistance': 56, 'kStartAttraction': 0.005325476646131949}. Best is trial 71 with value: 6973.84705882353.\u001b[0m\n"
     ]
    },
    {
     "name": "stdout",
     "output_type": "stream",
     "text": [
      "index_parallel='0075'\n"
     ]
    },
    {
     "name": "stderr",
     "output_type": "stream",
     "text": [
      "\u001b[32m[I 2022-08-16 01:38:41,493]\u001b[0m Trial 75 finished with value: 6925.047058823529 and parameters: {'kErase': 2, 'kRadius': 2, 'kAnnealingA': -4.185161102779656, 'kAnnealingB': 0.40352474578774095, 'kAnnealingStart': 53.28775888171944, 'kSkipRatio': 0.693207613300419, 'kTargetDeterminationTrials': 14, 'kAttractionRatio': 0.02379971218490071, 'kMaxAttractionDistance': 76, 'kStartAttraction': 0.0015401551693091037}. Best is trial 71 with value: 6973.84705882353.\u001b[0m\n"
     ]
    },
    {
     "name": "stdout",
     "output_type": "stream",
     "text": [
      "index_parallel='0076'\n"
     ]
    },
    {
     "name": "stderr",
     "output_type": "stream",
     "text": [
      "\u001b[32m[I 2022-08-16 01:42:01,824]\u001b[0m Trial 76 finished with value: 5753.729411764706 and parameters: {'kErase': 3, 'kRadius': 2, 'kAnnealingA': -1.1353894357666925, 'kAnnealingB': 0.6059659194836094, 'kAnnealingStart': 68.84847338284214, 'kSkipRatio': 0.226397361980309, 'kTargetDeterminationTrials': 9, 'kAttractionRatio': 0.043304118428149435, 'kMaxAttractionDistance': 63, 'kStartAttraction': 0.0019980666044740075}. Best is trial 71 with value: 6973.84705882353.\u001b[0m\n"
     ]
    },
    {
     "name": "stdout",
     "output_type": "stream",
     "text": [
      "index_parallel='0077'\n"
     ]
    },
    {
     "name": "stderr",
     "output_type": "stream",
     "text": [
      "\u001b[32m[I 2022-08-16 01:45:22,280]\u001b[0m Trial 77 finished with value: 6786.005882352942 and parameters: {'kErase': 2, 'kRadius': 2, 'kAnnealingA': -10.379877737025243, 'kAnnealingB': 1.256259766012999, 'kAnnealingStart': 81.97041943440657, 'kSkipRatio': 0.6675126900709727, 'kTargetDeterminationTrials': 10, 'kAttractionRatio': 0.015590374828928657, 'kMaxAttractionDistance': 39, 'kStartAttraction': 0.002533965495728125}. Best is trial 71 with value: 6973.84705882353.\u001b[0m\n"
     ]
    },
    {
     "name": "stdout",
     "output_type": "stream",
     "text": [
      "index_parallel='0078'\n"
     ]
    },
    {
     "name": "stderr",
     "output_type": "stream",
     "text": [
      "\u001b[32m[I 2022-08-16 01:48:42,799]\u001b[0m Trial 78 finished with value: 6908.1882352941175 and parameters: {'kErase': 2, 'kRadius': 2, 'kAnnealingA': -6.185943571803356, 'kAnnealingB': 0.24162104850365673, 'kAnnealingStart': 55.74698861184832, 'kSkipRatio': 0.5349238581659563, 'kTargetDeterminationTrials': 15, 'kAttractionRatio': 0.01155033760911993, 'kMaxAttractionDistance': 99, 'kStartAttraction': 0.0013137773356866748}. Best is trial 71 with value: 6973.84705882353.\u001b[0m\n"
     ]
    },
    {
     "name": "stdout",
     "output_type": "stream",
     "text": [
      "index_parallel='0079'\n"
     ]
    },
    {
     "name": "stderr",
     "output_type": "stream",
     "text": [
      "\u001b[32m[I 2022-08-16 01:52:03,373]\u001b[0m Trial 79 finished with value: 6944.6882352941175 and parameters: {'kErase': 2, 'kRadius': 2, 'kAnnealingA': -1.915915946292547, 'kAnnealingB': 1.772660277894414, 'kAnnealingStart': 40.69659968877465, 'kSkipRatio': 0.6228963055453768, 'kTargetDeterminationTrials': 18, 'kAttractionRatio': 0.03065763481701629, 'kMaxAttractionDistance': 45, 'kStartAttraction': 0.0018715028912718423}. Best is trial 71 with value: 6973.84705882353.\u001b[0m\n"
     ]
    },
    {
     "name": "stdout",
     "output_type": "stream",
     "text": [
      "index_parallel='0080'\n"
     ]
    },
    {
     "name": "stderr",
     "output_type": "stream",
     "text": [
      "\u001b[32m[I 2022-08-16 01:55:23,905]\u001b[0m Trial 80 finished with value: 6943.994117647058 and parameters: {'kErase': 3, 'kRadius': 3, 'kAnnealingA': -1.8233183446456669, 'kAnnealingB': 2.0568615464838245, 'kAnnealingStart': 67.35825689050284, 'kSkipRatio': 0.6242286365369067, 'kTargetDeterminationTrials': 20, 'kAttractionRatio': 0.03158685356790962, 'kMaxAttractionDistance': 32, 'kStartAttraction': 0.0036042174047890593}. Best is trial 71 with value: 6973.84705882353.\u001b[0m\n"
     ]
    },
    {
     "name": "stdout",
     "output_type": "stream",
     "text": [
      "index_parallel='0081'\n"
     ]
    },
    {
     "name": "stderr",
     "output_type": "stream",
     "text": [
      "\u001b[32m[I 2022-08-16 01:58:44,804]\u001b[0m Trial 81 finished with value: 6918.917647058824 and parameters: {'kErase': 3, 'kRadius': 3, 'kAnnealingA': -1.8501960021954265, 'kAnnealingB': 2.091041391184238, 'kAnnealingStart': 68.31570545827178, 'kSkipRatio': 0.6265872884041488, 'kTargetDeterminationTrials': 19, 'kAttractionRatio': 0.0479875908431522, 'kMaxAttractionDistance': 44, 'kStartAttraction': 0.004055757417601965}. Best is trial 71 with value: 6973.84705882353.\u001b[0m\n"
     ]
    },
    {
     "name": "stdout",
     "output_type": "stream",
     "text": [
      "index_parallel='0082'\n"
     ]
    },
    {
     "name": "stderr",
     "output_type": "stream",
     "text": [
      "\u001b[32m[I 2022-08-16 02:02:05,564]\u001b[0m Trial 82 finished with value: 6851.070588235294 and parameters: {'kErase': 3, 'kRadius': 2, 'kAnnealingA': -5.091916928742695, 'kAnnealingB': 1.7996094906866533, 'kAnnealingStart': 47.49008539397696, 'kSkipRatio': 0.6051185236780481, 'kTargetDeterminationTrials': 18, 'kAttractionRatio': 0.03231358547005856, 'kMaxAttractionDistance': 31, 'kStartAttraction': 0.002582613022603328}. Best is trial 71 with value: 6973.84705882353.\u001b[0m\n"
     ]
    },
    {
     "name": "stdout",
     "output_type": "stream",
     "text": [
      "index_parallel='0083'\n"
     ]
    },
    {
     "name": "stderr",
     "output_type": "stream",
     "text": [
      "\u001b[32m[I 2022-08-16 02:05:26,427]\u001b[0m Trial 83 finished with value: 6894.370588235294 and parameters: {'kErase': 3, 'kRadius': 2, 'kAnnealingA': -2.827065298212077, 'kAnnealingB': 1.9783707469981464, 'kAnnealingStart': 88.459059009289, 'kSkipRatio': 0.5763131730565979, 'kTargetDeterminationTrials': 20, 'kAttractionRatio': 0.04010831762813962, 'kMaxAttractionDistance': 37, 'kStartAttraction': 0.005939457648702755}. Best is trial 71 with value: 6973.84705882353.\u001b[0m\n"
     ]
    },
    {
     "name": "stdout",
     "output_type": "stream",
     "text": [
      "index_parallel='0084'\n"
     ]
    },
    {
     "name": "stderr",
     "output_type": "stream",
     "text": [
      "\u001b[32m[I 2022-08-16 02:08:47,570]\u001b[0m Trial 84 finished with value: 6484.823529411765 and parameters: {'kErase': 2, 'kRadius': 3, 'kAnnealingA': 0.2501671370119114, 'kAnnealingB': 2.340323128293474, 'kAnnealingStart': 3.6822992351378656, 'kSkipRatio': 0.5572269412659877, 'kTargetDeterminationTrials': 16, 'kAttractionRatio': 0.05670938810155077, 'kMaxAttractionDistance': 44, 'kStartAttraction': 0.003387774025819047}. Best is trial 71 with value: 6973.84705882353.\u001b[0m\n"
     ]
    },
    {
     "name": "stdout",
     "output_type": "stream",
     "text": [
      "index_parallel='0085'\n"
     ]
    },
    {
     "name": "stderr",
     "output_type": "stream",
     "text": [
      "\u001b[32m[I 2022-08-16 02:12:07,329]\u001b[0m Trial 85 finished with value: 6743.2 and parameters: {'kErase': 1, 'kRadius': 2, 'kAnnealingA': -6.809379158904055, 'kAnnealingB': 1.505465353586588, 'kAnnealingStart': 73.35396305251794, 'kSkipRatio': 0.6698742797367508, 'kTargetDeterminationTrials': 12, 'kAttractionRatio': 0.027805484512240783, 'kMaxAttractionDistance': 48, 'kStartAttraction': 0.0045973674061690955}. Best is trial 71 with value: 6973.84705882353.\u001b[0m\n"
     ]
    },
    {
     "name": "stdout",
     "output_type": "stream",
     "text": [
      "index_parallel='0086'\n"
     ]
    },
    {
     "name": "stderr",
     "output_type": "stream",
     "text": [
      "\u001b[32m[I 2022-08-16 02:15:28,069]\u001b[0m Trial 86 finished with value: 6944.111764705883 and parameters: {'kErase': 3, 'kRadius': 2, 'kAnnealingA': -1.7499581549420515, 'kAnnealingB': 1.7403346497531889, 'kAnnealingStart': 60.730380573838936, 'kSkipRatio': 0.6121946790384265, 'kTargetDeterminationTrials': 14, 'kAttractionRatio': 0.03230739595851401, 'kMaxAttractionDistance': 33, 'kStartAttraction': 0.0019017826624519694}. Best is trial 71 with value: 6973.84705882353.\u001b[0m\n"
     ]
    },
    {
     "name": "stdout",
     "output_type": "stream",
     "text": [
      "index_parallel='0087'\n"
     ]
    },
    {
     "name": "stderr",
     "output_type": "stream",
     "text": [
      "\u001b[32m[I 2022-08-16 02:18:48,607]\u001b[0m Trial 87 finished with value: 6907.082352941176 and parameters: {'kErase': 3, 'kRadius': 2, 'kAnnealingA': -1.7109364911429132, 'kAnnealingB': 1.6845504911000049, 'kAnnealingStart': 33.57316637889014, 'kSkipRatio': 0.5940709117530683, 'kTargetDeterminationTrials': 13, 'kAttractionRatio': 0.03331240679112295, 'kMaxAttractionDistance': 31, 'kStartAttraction': 0.001565590158457528}. Best is trial 71 with value: 6973.84705882353.\u001b[0m\n"
     ]
    },
    {
     "name": "stdout",
     "output_type": "stream",
     "text": [
      "index_parallel='0088'\n"
     ]
    },
    {
     "name": "stderr",
     "output_type": "stream",
     "text": [
      "\u001b[32m[I 2022-08-16 02:22:09,572]\u001b[0m Trial 88 finished with value: 6937.494117647058 and parameters: {'kErase': 3, 'kRadius': 3, 'kAnnealingA': -0.908213580090343, 'kAnnealingB': 1.775959781812731, 'kAnnealingStart': 42.18228033759118, 'kSkipRatio': 0.6561152760368805, 'kTargetDeterminationTrials': 15, 'kAttractionRatio': 0.022429124224916164, 'kMaxAttractionDistance': 23, 'kStartAttraction': 0.0027903733931744167}. Best is trial 71 with value: 6973.84705882353.\u001b[0m\n"
     ]
    },
    {
     "name": "stdout",
     "output_type": "stream",
     "text": [
      "index_parallel='0089'\n"
     ]
    },
    {
     "name": "stderr",
     "output_type": "stream",
     "text": [
      "\u001b[32m[I 2022-08-16 02:25:30,248]\u001b[0m Trial 89 finished with value: 6827.317647058823 and parameters: {'kErase': 4, 'kRadius': 4, 'kAnnealingA': -0.020423471047298136, 'kAnnealingB': 1.5905913766105284, 'kAnnealingStart': 60.75420398682706, 'kSkipRatio': 0.6189280322954294, 'kTargetDeterminationTrials': 17, 'kAttractionRatio': 0.03760269778187867, 'kMaxAttractionDistance': 33, 'kStartAttraction': 0.010933789823114602}. Best is trial 71 with value: 6973.84705882353.\u001b[0m\n"
     ]
    },
    {
     "name": "stdout",
     "output_type": "stream",
     "text": [
      "index_parallel='0090'\n"
     ]
    },
    {
     "name": "stderr",
     "output_type": "stream",
     "text": [
      "\u001b[32m[I 2022-08-16 02:28:50,904]\u001b[0m Trial 90 finished with value: 6946.15294117647 and parameters: {'kErase': 3, 'kRadius': 2, 'kAnnealingA': -3.740966103503293, 'kAnnealingB': 2.308102522371474, 'kAnnealingStart': 49.19199129254915, 'kSkipRatio': 0.6992632882465936, 'kTargetDeterminationTrials': 14, 'kAttractionRatio': 0.031031069538928976, 'kMaxAttractionDistance': 55, 'kStartAttraction': 0.022589814227454343}. Best is trial 71 with value: 6973.84705882353.\u001b[0m\n"
     ]
    },
    {
     "name": "stdout",
     "output_type": "stream",
     "text": [
      "index_parallel='0091'\n"
     ]
    },
    {
     "name": "stderr",
     "output_type": "stream",
     "text": [
      "\u001b[32m[I 2022-08-16 02:32:11,497]\u001b[0m Trial 91 finished with value: 6917.15294117647 and parameters: {'kErase': 3, 'kRadius': 2, 'kAnnealingA': -3.4237415959496715, 'kAnnealingB': 2.4387405407198326, 'kAnnealingStart': 49.75621478339779, 'kSkipRatio': 0.7323610577207266, 'kTargetDeterminationTrials': 11, 'kAttractionRatio': 0.07650330105124872, 'kMaxAttractionDistance': 41, 'kStartAttraction': 0.02243957102155692}. Best is trial 71 with value: 6973.84705882353.\u001b[0m\n"
     ]
    },
    {
     "name": "stdout",
     "output_type": "stream",
     "text": [
      "index_parallel='0092'\n"
     ]
    },
    {
     "name": "stderr",
     "output_type": "stream",
     "text": [
      "\u001b[32m[I 2022-08-16 02:35:31,903]\u001b[0m Trial 92 finished with value: 6928.435294117647 and parameters: {'kErase': 3, 'kRadius': 2, 'kAnnealingA': -3.961052624071976, 'kAnnealingB': 2.0706668660241845, 'kAnnealingStart': 58.71890053567032, 'kSkipRatio': 0.7017240480376078, 'kTargetDeterminationTrials': 14, 'kAttractionRatio': 0.02999274226542904, 'kMaxAttractionDistance': 56, 'kStartAttraction': 0.0022497682939977416}. Best is trial 71 with value: 6973.84705882353.\u001b[0m\n"
     ]
    },
    {
     "name": "stdout",
     "output_type": "stream",
     "text": [
      "index_parallel='0093'\n"
     ]
    },
    {
     "name": "stderr",
     "output_type": "stream",
     "text": [
      "\u001b[32m[I 2022-08-16 02:38:52,385]\u001b[0m Trial 93 finished with value: 6936.617647058823 and parameters: {'kErase': 3, 'kRadius': 2, 'kAnnealingA': -2.0374751352352574, 'kAnnealingB': 2.2282800500510698, 'kAnnealingStart': 39.49837073340351, 'kSkipRatio': 0.6795442008040813, 'kTargetDeterminationTrials': 20, 'kAttractionRatio': 0.04329527441562288, 'kMaxAttractionDistance': 61, 'kStartAttraction': 0.0012428068271805866}. Best is trial 71 with value: 6973.84705882353.\u001b[0m\n"
     ]
    },
    {
     "name": "stdout",
     "output_type": "stream",
     "text": [
      "index_parallel='0094'\n"
     ]
    },
    {
     "name": "stderr",
     "output_type": "stream",
     "text": [
      "\u001b[32m[I 2022-08-16 02:42:12,901]\u001b[0m Trial 94 finished with value: 6948.123529411765 and parameters: {'kErase': 3, 'kRadius': 2, 'kAnnealingA': 0.6848128215116536, 'kAnnealingB': 1.8703452386934467, 'kAnnealingStart': 44.9351872753285, 'kSkipRatio': 0.6349943394778754, 'kTargetDeterminationTrials': 17, 'kAttractionRatio': 0.030772482776605353, 'kMaxAttractionDistance': 54, 'kStartAttraction': 0.0036291732302153215}. Best is trial 71 with value: 6973.84705882353.\u001b[0m\n"
     ]
    },
    {
     "name": "stdout",
     "output_type": "stream",
     "text": [
      "index_parallel='0095'\n"
     ]
    },
    {
     "name": "stderr",
     "output_type": "stream",
     "text": [
      "\u001b[32m[I 2022-08-16 02:45:33,528]\u001b[0m Trial 95 finished with value: 5542.247058823529 and parameters: {'kErase': 3, 'kRadius': 2, 'kAnnealingA': 2.573080544959768, 'kAnnealingB': 1.887233412797162, 'kAnnealingStart': 34.62946042674437, 'kSkipRatio': 0.20432713225983384, 'kTargetDeterminationTrials': 17, 'kAttractionRatio': 0.026151629932193027, 'kMaxAttractionDistance': 35, 'kStartAttraction': 0.015061398328427423}. Best is trial 71 with value: 6973.84705882353.\u001b[0m\n"
     ]
    },
    {
     "name": "stdout",
     "output_type": "stream",
     "text": [
      "index_parallel='0096'\n"
     ]
    },
    {
     "name": "stderr",
     "output_type": "stream",
     "text": [
      "\u001b[32m[I 2022-08-16 02:48:54,122]\u001b[0m Trial 96 finished with value: 6978.470588235294 and parameters: {'kErase': 4, 'kRadius': 2, 'kAnnealingA': 0.6270147163253389, 'kAnnealingB': 1.4091583505836272, 'kAnnealingStart': 45.00546369442495, 'kSkipRatio': 0.716593159063193, 'kTargetDeterminationTrials': 18, 'kAttractionRatio': 0.03554896594294363, 'kMaxAttractionDistance': 73, 'kStartAttraction': 0.006773293114613562}. Best is trial 96 with value: 6978.470588235294.\u001b[0m\n"
     ]
    },
    {
     "name": "stdout",
     "output_type": "stream",
     "text": [
      "Updated! 6978.470588235294\n",
      "index_parallel='0097'\n"
     ]
    },
    {
     "name": "stderr",
     "output_type": "stream",
     "text": [
      "\u001b[32m[I 2022-08-16 02:52:14,886]\u001b[0m Trial 97 finished with value: 6688.8117647058825 and parameters: {'kErase': 4, 'kRadius': 2, 'kAnnealingA': 12.855946346754276, 'kAnnealingB': 1.3979065682610612, 'kAnnealingStart': 46.82548972291529, 'kSkipRatio': 0.7164004002577822, 'kTargetDeterminationTrials': 18, 'kAttractionRatio': 0.0354546482942567, 'kMaxAttractionDistance': 45, 'kStartAttraction': 0.0070955027523663845}. Best is trial 96 with value: 6978.470588235294.\u001b[0m\n"
     ]
    },
    {
     "name": "stdout",
     "output_type": "stream",
     "text": [
      "index_parallel='0098'\n"
     ]
    },
    {
     "name": "stderr",
     "output_type": "stream",
     "text": [
      "\u001b[32m[I 2022-08-16 02:55:35,855]\u001b[0m Trial 98 finished with value: 6913.264705882353 and parameters: {'kErase': 4, 'kRadius': 2, 'kAnnealingA': 0.6549076338312919, 'kAnnealingB': 2.0706477667494703, 'kAnnealingStart': 54.14879961732637, 'kSkipRatio': 0.771489001137199, 'kTargetDeterminationTrials': 15, 'kAttractionRatio': 0.03099313693224562, 'kMaxAttractionDistance': 13, 'kStartAttraction': 0.03595058133988036}. Best is trial 96 with value: 6978.470588235294.\u001b[0m\n"
     ]
    },
    {
     "name": "stdout",
     "output_type": "stream",
     "text": [
      "index_parallel='0099'\n"
     ]
    },
    {
     "name": "stderr",
     "output_type": "stream",
     "text": [
      "\u001b[32m[I 2022-08-16 02:58:56,672]\u001b[0m Trial 99 finished with value: 6943.5 and parameters: {'kErase': 3, 'kRadius': 2, 'kAnnealingA': -0.8535411574531184, 'kAnnealingB': 1.5895985362739316, 'kAnnealingStart': 41.552769803100276, 'kSkipRatio': 0.7425377623384537, 'kTargetDeterminationTrials': 16, 'kAttractionRatio': 0.05704804546985368, 'kMaxAttractionDistance': 38, 'kStartAttraction': 0.010832193441610821}. Best is trial 96 with value: 6978.470588235294.\u001b[0m\n"
     ]
    },
    {
     "name": "stdout",
     "output_type": "stream",
     "text": [
      "index_parallel='0100'\n"
     ]
    },
    {
     "name": "stderr",
     "output_type": "stream",
     "text": [
      "\u001b[32m[I 2022-08-16 03:02:17,317]\u001b[0m Trial 100 finished with value: 6955.570588235294 and parameters: {'kErase': 3, 'kRadius': 2, 'kAnnealingA': -1.4109470065680045, 'kAnnealingB': 1.8384784438496615, 'kAnnealingStart': 65.02537429005878, 'kSkipRatio': 0.6751960180028723, 'kTargetDeterminationTrials': 18, 'kAttractionRatio': 0.04825170912167277, 'kMaxAttractionDistance': 52, 'kStartAttraction': 0.0038389718782659964}. Best is trial 96 with value: 6978.470588235294.\u001b[0m\n"
     ]
    },
    {
     "name": "stdout",
     "output_type": "stream",
     "text": [
      "index_parallel='0101'\n"
     ]
    },
    {
     "name": "stderr",
     "output_type": "stream",
     "text": [
      "\u001b[32m[I 2022-08-16 03:05:37,731]\u001b[0m Trial 101 finished with value: 6963.317647058823 and parameters: {'kErase': 3, 'kRadius': 2, 'kAnnealingA': -1.395453348954354, 'kAnnealingB': 1.8549472223163168, 'kAnnealingStart': 65.81467639681111, 'kSkipRatio': 0.6728262361075925, 'kTargetDeterminationTrials': 18, 'kAttractionRatio': 0.04969270399613186, 'kMaxAttractionDistance': 53, 'kStartAttraction': 0.004146711241391592}. Best is trial 96 with value: 6978.470588235294.\u001b[0m\n"
     ]
    },
    {
     "name": "stdout",
     "output_type": "stream",
     "text": [
      "index_parallel='0102'\n"
     ]
    },
    {
     "name": "stderr",
     "output_type": "stream",
     "text": [
      "\u001b[32m[I 2022-08-16 03:08:58,460]\u001b[0m Trial 102 finished with value: 6908.994117647058 and parameters: {'kErase': 3, 'kRadius': 2, 'kAnnealingA': -0.34235728617613237, 'kAnnealingB': 1.8224629109379102, 'kAnnealingStart': 63.13879493625323, 'kSkipRatio': 0.6996541103432032, 'kTargetDeterminationTrials': 15, 'kAttractionRatio': 0.06380141095569336, 'kMaxAttractionDistance': 52, 'kStartAttraction': 0.004732343220385982}. Best is trial 96 with value: 6978.470588235294.\u001b[0m\n"
     ]
    },
    {
     "name": "stdout",
     "output_type": "stream",
     "text": [
      "index_parallel='0103'\n"
     ]
    },
    {
     "name": "stderr",
     "output_type": "stream",
     "text": [
      "\u001b[32m[I 2022-08-16 03:12:19,118]\u001b[0m Trial 103 finished with value: 6980.529411764706 and parameters: {'kErase': 3, 'kRadius': 2, 'kAnnealingA': -2.540196223308282, 'kAnnealingB': 1.6897046250012384, 'kAnnealingStart': 74.93698603822328, 'kSkipRatio': 0.6725967230132582, 'kTargetDeterminationTrials': 13, 'kAttractionRatio': 0.049427542602040596, 'kMaxAttractionDistance': 73, 'kStartAttraction': 0.006268170363163593}. Best is trial 103 with value: 6980.529411764706.\u001b[0m\n"
     ]
    },
    {
     "name": "stdout",
     "output_type": "stream",
     "text": [
      "Updated! 6980.529411764706\n",
      "index_parallel='0104'\n"
     ]
    },
    {
     "name": "stderr",
     "output_type": "stream",
     "text": [
      "\u001b[32m[I 2022-08-16 03:15:39,910]\u001b[0m Trial 104 finished with value: 6917.417647058824 and parameters: {'kErase': 3, 'kRadius': 2, 'kAnnealingA': -2.747815847914592, 'kAnnealingB': 1.6053364601331204, 'kAnnealingStart': 37.094367421713706, 'kSkipRatio': 0.6768846310444523, 'kTargetDeterminationTrials': 18, 'kAttractionRatio': 0.04906756690660403, 'kMaxAttractionDistance': 66, 'kStartAttraction': 0.006458504753358479}. Best is trial 103 with value: 6980.529411764706.\u001b[0m\n"
     ]
    },
    {
     "name": "stdout",
     "output_type": "stream",
     "text": [
      "index_parallel='0105'\n"
     ]
    },
    {
     "name": "stderr",
     "output_type": "stream",
     "text": [
      "\u001b[32m[I 2022-08-16 03:19:00,407]\u001b[0m Trial 105 finished with value: 6889.005882352942 and parameters: {'kErase': 3, 'kRadius': 2, 'kAnnealingA': 0.60065147602791, 'kAnnealingB': 1.8647707519556744, 'kAnnealingStart': 76.89075174064844, 'kSkipRatio': 0.6650766870155156, 'kTargetDeterminationTrials': 13, 'kAttractionRatio': 0.053572584130228404, 'kMaxAttractionDistance': 74, 'kStartAttraction': 0.05848747843997989}. Best is trial 103 with value: 6980.529411764706.\u001b[0m\n"
     ]
    },
    {
     "name": "stdout",
     "output_type": "stream",
     "text": [
      "index_parallel='0106'\n"
     ]
    },
    {
     "name": "stderr",
     "output_type": "stream",
     "text": [
      "\u001b[32m[I 2022-08-16 03:22:21,152]\u001b[0m Trial 106 finished with value: 6937.1882352941175 and parameters: {'kErase': 4, 'kRadius': 2, 'kAnnealingA': 2.028310037951028, 'kAnnealingB': 1.6588820285197903, 'kAnnealingStart': 44.53356418957498, 'kSkipRatio': 0.7241977573396463, 'kTargetDeterminationTrials': 12, 'kAttractionRatio': 0.04242872231535976, 'kMaxAttractionDistance': 57, 'kStartAttraction': 0.007540615148488868}. Best is trial 103 with value: 6980.529411764706.\u001b[0m\n"
     ]
    },
    {
     "name": "stdout",
     "output_type": "stream",
     "text": [
      "index_parallel='0107'\n"
     ]
    },
    {
     "name": "stderr",
     "output_type": "stream",
     "text": [
      "\u001b[32m[I 2022-08-16 03:25:41,844]\u001b[0m Trial 107 finished with value: 6997.429411764706 and parameters: {'kErase': 3, 'kRadius': 2, 'kAnnealingA': -1.0381995459239997, 'kAnnealingB': 1.972628086086071, 'kAnnealingStart': 52.82199373814581, 'kSkipRatio': 0.6575935495193497, 'kTargetDeterminationTrials': 16, 'kAttractionRatio': 0.045705084100247456, 'kMaxAttractionDistance': 88, 'kStartAttraction': 0.005047439825012844}. Best is trial 107 with value: 6997.429411764706.\u001b[0m\n"
     ]
    },
    {
     "name": "stdout",
     "output_type": "stream",
     "text": [
      "Updated! 6997.429411764706\n",
      "index_parallel='0108'\n"
     ]
    },
    {
     "name": "stderr",
     "output_type": "stream",
     "text": [
      "\u001b[32m[I 2022-08-16 03:29:02,968]\u001b[0m Trial 108 finished with value: 6926.505882352942 and parameters: {'kErase': 3, 'kRadius': 2, 'kAnnealingA': -3.803538402403426, 'kAnnealingB': 1.9843449477939805, 'kAnnealingStart': 51.40548803192588, 'kSkipRatio': 0.6521176541807943, 'kTargetDeterminationTrials': 17, 'kAttractionRatio': 0.06380022388302774, 'kMaxAttractionDistance': 88, 'kStartAttraction': 0.005280780147599604}. Best is trial 107 with value: 6997.429411764706.\u001b[0m\n"
     ]
    },
    {
     "name": "stdout",
     "output_type": "stream",
     "text": [
      "index_parallel='0109'\n"
     ]
    },
    {
     "name": "stderr",
     "output_type": "stream",
     "text": [
      "\u001b[32m[I 2022-08-16 03:32:23,716]\u001b[0m Trial 109 finished with value: 6766.017647058824 and parameters: {'kErase': 3, 'kRadius': 2, 'kAnnealingA': 3.299217705877199, 'kAnnealingB': 2.151264432692008, 'kAnnealingStart': 72.66869118875083, 'kSkipRatio': 0.7116947182404227, 'kTargetDeterminationTrials': 13, 'kAttractionRatio': 0.04699424430358119, 'kMaxAttractionDistance': 84, 'kStartAttraction': 0.009816494550778822}. Best is trial 107 with value: 6997.429411764706.\u001b[0m\n"
     ]
    },
    {
     "name": "stdout",
     "output_type": "stream",
     "text": [
      "index_parallel='0110'\n"
     ]
    },
    {
     "name": "stderr",
     "output_type": "stream",
     "text": [
      "\u001b[32m[I 2022-08-16 03:35:44,441]\u001b[0m Trial 110 finished with value: 6972.229411764706 and parameters: {'kErase': 3, 'kRadius': 2, 'kAnnealingA': -1.2400256614419924, 'kAnnealingB': 2.635569733808035, 'kAnnealingStart': 58.11246553758041, 'kSkipRatio': 0.6914099725227614, 'kTargetDeterminationTrials': 16, 'kAttractionRatio': 0.09637795248681935, 'kMaxAttractionDistance': 63, 'kStartAttraction': 0.008529141073541517}. Best is trial 107 with value: 6997.429411764706.\u001b[0m\n"
     ]
    },
    {
     "name": "stdout",
     "output_type": "stream",
     "text": [
      "index_parallel='0111'\n"
     ]
    },
    {
     "name": "stderr",
     "output_type": "stream",
     "text": [
      "\u001b[32m[I 2022-08-16 03:39:05,193]\u001b[0m Trial 111 finished with value: 6975.217647058824 and parameters: {'kErase': 3, 'kRadius': 2, 'kAnnealingA': -1.2166278704874913, 'kAnnealingB': 2.6340121691609766, 'kAnnealingStart': 56.80792064816722, 'kSkipRatio': 0.6993014992547761, 'kTargetDeterminationTrials': 16, 'kAttractionRatio': 0.1067729931658886, 'kMaxAttractionDistance': 68, 'kStartAttraction': 0.004007300346265125}. Best is trial 107 with value: 6997.429411764706.\u001b[0m\n"
     ]
    },
    {
     "name": "stdout",
     "output_type": "stream",
     "text": [
      "index_parallel='0112'\n"
     ]
    },
    {
     "name": "stderr",
     "output_type": "stream",
     "text": [
      "\u001b[32m[I 2022-08-16 03:42:26,075]\u001b[0m Trial 112 finished with value: 6962.547058823529 and parameters: {'kErase': 3, 'kRadius': 2, 'kAnnealingA': -0.4401721192435497, 'kAnnealingB': 2.9525749468446603, 'kAnnealingStart': 57.07158966033884, 'kSkipRatio': 0.6841846416182301, 'kTargetDeterminationTrials': 16, 'kAttractionRatio': 0.1104655339595756, 'kMaxAttractionDistance': 70, 'kStartAttraction': 0.008379335347190037}. Best is trial 107 with value: 6997.429411764706.\u001b[0m\n"
     ]
    },
    {
     "name": "stdout",
     "output_type": "stream",
     "text": [
      "index_parallel='0113'\n"
     ]
    },
    {
     "name": "stderr",
     "output_type": "stream",
     "text": [
      "\u001b[32m[I 2022-08-16 03:45:46,732]\u001b[0m Trial 113 finished with value: 6946.541176470589 and parameters: {'kErase': 3, 'kRadius': 2, 'kAnnealingA': -1.1976940096469348, 'kAnnealingB': 2.5541298693667165, 'kAnnealingStart': 79.20601655465745, 'kSkipRatio': 0.6795316778966725, 'kTargetDeterminationTrials': 15, 'kAttractionRatio': 0.10815042576293163, 'kMaxAttractionDistance': 71, 'kStartAttraction': 0.003980036190491967}. Best is trial 107 with value: 6997.429411764706.\u001b[0m\n"
     ]
    },
    {
     "name": "stdout",
     "output_type": "stream",
     "text": [
      "index_parallel='0114'\n"
     ]
    },
    {
     "name": "stderr",
     "output_type": "stream",
     "text": [
      "\u001b[32m[I 2022-08-16 03:49:07,397]\u001b[0m Trial 114 finished with value: 6962.335294117647 and parameters: {'kErase': 3, 'kRadius': 2, 'kAnnealingA': -0.2452129536684058, 'kAnnealingB': 2.7773448681036204, 'kAnnealingStart': 56.06892003797222, 'kSkipRatio': 0.6607476704033388, 'kTargetDeterminationTrials': 16, 'kAttractionRatio': 0.08469768971890222, 'kMaxAttractionDistance': 94, 'kStartAttraction': 0.008664643574178524}. Best is trial 107 with value: 6997.429411764706.\u001b[0m\n"
     ]
    },
    {
     "name": "stdout",
     "output_type": "stream",
     "text": [
      "index_parallel='0115'\n"
     ]
    },
    {
     "name": "stderr",
     "output_type": "stream",
     "text": [
      "\u001b[32m[I 2022-08-16 03:52:28,128]\u001b[0m Trial 115 finished with value: 6921.470588235294 and parameters: {'kErase': 3, 'kRadius': 2, 'kAnnealingA': -0.4229027640147609, 'kAnnealingB': 2.99204259131674, 'kAnnealingStart': 57.255867355824364, 'kSkipRatio': 0.6572297283054837, 'kTargetDeterminationTrials': 11, 'kAttractionRatio': 0.11728072270404725, 'kMaxAttractionDistance': 79, 'kStartAttraction': 0.008496030281240375}. Best is trial 107 with value: 6997.429411764706.\u001b[0m\n"
     ]
    },
    {
     "name": "stdout",
     "output_type": "stream",
     "text": [
      "index_parallel='0116'\n"
     ]
    },
    {
     "name": "stderr",
     "output_type": "stream",
     "text": [
      "\u001b[32m[I 2022-08-16 03:55:48,610]\u001b[0m Trial 116 finished with value: 6944.017647058824 and parameters: {'kErase': 3, 'kRadius': 2, 'kAnnealingA': -2.4461964233964997, 'kAnnealingB': 2.8351582433679443, 'kAnnealingStart': 65.8525502461445, 'kSkipRatio': 0.6674385111859926, 'kTargetDeterminationTrials': 16, 'kAttractionRatio': 0.08668193869211169, 'kMaxAttractionDistance': 91, 'kStartAttraction': 0.008137833454112562}. Best is trial 107 with value: 6997.429411764706.\u001b[0m\n"
     ]
    },
    {
     "name": "stdout",
     "output_type": "stream",
     "text": [
      "index_parallel='0117'\n"
     ]
    },
    {
     "name": "stderr",
     "output_type": "stream",
     "text": [
      "\u001b[32m[I 2022-08-16 03:59:09,360]\u001b[0m Trial 117 finished with value: 6973.394117647059 and parameters: {'kErase': 3, 'kRadius': 2, 'kAnnealingA': -1.3016488362291645, 'kAnnealingB': 2.783246507060482, 'kAnnealingStart': 74.74019315363924, 'kSkipRatio': 0.6893709882848424, 'kTargetDeterminationTrials': 20, 'kAttractionRatio': 0.14129868992682196, 'kMaxAttractionDistance': 94, 'kStartAttraction': 0.012515920540094002}. Best is trial 107 with value: 6997.429411764706.\u001b[0m\n"
     ]
    },
    {
     "name": "stdout",
     "output_type": "stream",
     "text": [
      "index_parallel='0118'\n"
     ]
    },
    {
     "name": "stderr",
     "output_type": "stream",
     "text": [
      "\u001b[32m[I 2022-08-16 04:02:30,115]\u001b[0m Trial 118 finished with value: 6880.035294117647 and parameters: {'kErase': 3, 'kRadius': 5, 'kAnnealingA': -0.1146584018668817, 'kAnnealingB': 2.7388617389548475, 'kAnnealingStart': 76.18644262592058, 'kSkipRatio': 0.7231037814850412, 'kTargetDeterminationTrials': 19, 'kAttractionRatio': 0.0804259715547569, 'kMaxAttractionDistance': 93, 'kStartAttraction': 0.00633063789637555}. Best is trial 107 with value: 6997.429411764706.\u001b[0m\n"
     ]
    },
    {
     "name": "stdout",
     "output_type": "stream",
     "text": [
      "index_parallel='0119'\n"
     ]
    },
    {
     "name": "stderr",
     "output_type": "stream",
     "text": [
      "\u001b[32m[I 2022-08-16 04:05:50,841]\u001b[0m Trial 119 finished with value: 6922.182352941177 and parameters: {'kErase': 3, 'kRadius': 2, 'kAnnealingA': -3.134792518982994, 'kAnnealingB': 2.85741930277772, 'kAnnealingStart': 90.6050427850584, 'kSkipRatio': 0.7513348217510933, 'kTargetDeterminationTrials': 16, 'kAttractionRatio': 0.15183693927228165, 'kMaxAttractionDistance': 84, 'kStartAttraction': 0.014538597872156738}. Best is trial 107 with value: 6997.429411764706.\u001b[0m\n"
     ]
    },
    {
     "name": "stdout",
     "output_type": "stream",
     "text": [
      "index_parallel='0120'\n"
     ]
    },
    {
     "name": "stderr",
     "output_type": "stream",
     "text": [
      "\u001b[32m[I 2022-08-16 04:09:11,630]\u001b[0m Trial 120 finished with value: 6948.358823529412 and parameters: {'kErase': 4, 'kRadius': 2, 'kAnnealingA': -0.9904963530314453, 'kAnnealingB': 2.741858787105043, 'kAnnealingStart': 55.216310575360716, 'kSkipRatio': 0.6906103761456011, 'kTargetDeterminationTrials': 12, 'kAttractionRatio': 0.1013207913860931, 'kMaxAttractionDistance': 68, 'kStartAttraction': 0.010023637919418729}. Best is trial 107 with value: 6997.429411764706.\u001b[0m\n"
     ]
    },
    {
     "name": "stdout",
     "output_type": "stream",
     "text": [
      "index_parallel='0121'\n"
     ]
    },
    {
     "name": "stderr",
     "output_type": "stream",
     "text": [
      "\u001b[32m[I 2022-08-16 04:12:32,070]\u001b[0m Trial 121 finished with value: 6940.529411764706 and parameters: {'kErase': 3, 'kRadius': 2, 'kAnnealingA': -1.3559444502772657, 'kAnnealingB': 2.661900971230726, 'kAnnealingStart': 99.55175825666366, 'kSkipRatio': 0.7061557300621001, 'kTargetDeterminationTrials': 20, 'kAttractionRatio': 0.09501587938337995, 'kMaxAttractionDistance': 96, 'kStartAttraction': 0.012210167312572216}. Best is trial 107 with value: 6997.429411764706.\u001b[0m\n"
     ]
    },
    {
     "name": "stdout",
     "output_type": "stream",
     "text": [
      "index_parallel='0122'\n"
     ]
    },
    {
     "name": "stderr",
     "output_type": "stream",
     "text": [
      "\u001b[32m[I 2022-08-16 04:15:52,424]\u001b[0m Trial 122 finished with value: 6980.664705882353 and parameters: {'kErase': 3, 'kRadius': 2, 'kAnnealingA': -2.357609413496046, 'kAnnealingB': 2.51473206004958, 'kAnnealingStart': 68.63200278490983, 'kSkipRatio': 0.6849353382403346, 'kTargetDeterminationTrials': 18, 'kAttractionRatio': 0.1348620174365682, 'kMaxAttractionDistance': 75, 'kStartAttraction': 0.0051248978976877425}. Best is trial 107 with value: 6997.429411764706.\u001b[0m\n"
     ]
    },
    {
     "name": "stdout",
     "output_type": "stream",
     "text": [
      "index_parallel='0123'\n"
     ]
    },
    {
     "name": "stderr",
     "output_type": "stream",
     "text": [
      "\u001b[32m[I 2022-08-16 04:19:13,123]\u001b[0m Trial 123 finished with value: 6989.641176470588 and parameters: {'kErase': 3, 'kRadius': 2, 'kAnnealingA': -2.5057800204139884, 'kAnnealingB': 2.527258694293679, 'kAnnealingStart': 71.32644536396, 'kSkipRatio': 0.6850142935050734, 'kTargetDeterminationTrials': 16, 'kAttractionRatio': 0.13454141673284503, 'kMaxAttractionDistance': 75, 'kStartAttraction': 0.005077208373212241}. Best is trial 107 with value: 6997.429411764706.\u001b[0m\n"
     ]
    },
    {
     "name": "stdout",
     "output_type": "stream",
     "text": [
      "index_parallel='0124'\n"
     ]
    },
    {
     "name": "stderr",
     "output_type": "stream",
     "text": [
      "\u001b[32m[I 2022-08-16 04:22:33,754]\u001b[0m Trial 124 finished with value: 6979.2411764705885 and parameters: {'kErase': 3, 'kRadius': 2, 'kAnnealingA': -2.58762108059722, 'kAnnealingB': 2.5374496781272584, 'kAnnealingStart': 71.4538670624557, 'kSkipRatio': 0.7346082559421088, 'kTargetDeterminationTrials': 16, 'kAttractionRatio': 0.14396267346424918, 'kMaxAttractionDistance': 74, 'kStartAttraction': 0.004884224604281807}. Best is trial 107 with value: 6997.429411764706.\u001b[0m\n"
     ]
    },
    {
     "name": "stdout",
     "output_type": "stream",
     "text": [
      "index_parallel='0125'\n"
     ]
    },
    {
     "name": "stderr",
     "output_type": "stream",
     "text": [
      "\u001b[32m[I 2022-08-16 04:25:54,510]\u001b[0m Trial 125 finished with value: 6931.411764705882 and parameters: {'kErase': 3, 'kRadius': 2, 'kAnnealingA': -2.6514462291648266, 'kAnnealingB': 2.587564832843761, 'kAnnealingStart': 72.65559322081798, 'kSkipRatio': 0.7738907231218549, 'kTargetDeterminationTrials': 13, 'kAttractionRatio': 0.1380024435307029, 'kMaxAttractionDistance': 75, 'kStartAttraction': 0.005207851454420442}. Best is trial 107 with value: 6997.429411764706.\u001b[0m\n"
     ]
    },
    {
     "name": "stdout",
     "output_type": "stream",
     "text": [
      "index_parallel='0126'\n"
     ]
    },
    {
     "name": "stderr",
     "output_type": "stream",
     "text": [
      "\u001b[32m[I 2022-08-16 04:29:14,956]\u001b[0m Trial 126 finished with value: 6969.617647058823 and parameters: {'kErase': 3, 'kRadius': 2, 'kAnnealingA': -2.229615972831123, 'kAnnealingB': 2.5316536305382122, 'kAnnealingStart': 79.07846949043989, 'kSkipRatio': 0.7340250291393546, 'kTargetDeterminationTrials': 15, 'kAttractionRatio': 0.1608816127832636, 'kMaxAttractionDistance': 64, 'kStartAttraction': 0.004559528046903659}. Best is trial 107 with value: 6997.429411764706.\u001b[0m\n"
     ]
    },
    {
     "name": "stdout",
     "output_type": "stream",
     "text": [
      "index_parallel='0127'\n"
     ]
    },
    {
     "name": "stderr",
     "output_type": "stream",
     "text": [
      "\u001b[32m[I 2022-08-16 04:32:35,702]\u001b[0m Trial 127 finished with value: 6948.894117647059 and parameters: {'kErase': 3, 'kRadius': 2, 'kAnnealingA': -2.3771067224453613, 'kAnnealingB': 2.498860142230199, 'kAnnealingStart': 81.37565607131438, 'kSkipRatio': 0.7419550514239308, 'kTargetDeterminationTrials': 19, 'kAttractionRatio': 0.16967108351412033, 'kMaxAttractionDistance': 62, 'kStartAttraction': 0.0045935588390963065}. Best is trial 107 with value: 6997.429411764706.\u001b[0m\n"
     ]
    },
    {
     "name": "stdout",
     "output_type": "stream",
     "text": [
      "index_parallel='0128'\n"
     ]
    },
    {
     "name": "stderr",
     "output_type": "stream",
     "text": [
      "\u001b[32m[I 2022-08-16 04:35:56,351]\u001b[0m Trial 128 finished with value: 6939.588235294118 and parameters: {'kErase': 3, 'kRadius': 2, 'kAnnealingA': -2.121700881668642, 'kAnnealingB': 2.669759336496716, 'kAnnealingStart': 89.14507541676011, 'kSkipRatio': 0.7166919999009368, 'kTargetDeterminationTrials': 15, 'kAttractionRatio': 0.12665064389924963, 'kMaxAttractionDistance': 79, 'kStartAttraction': 0.005753830425809782}. Best is trial 107 with value: 6997.429411764706.\u001b[0m\n"
     ]
    },
    {
     "name": "stdout",
     "output_type": "stream",
     "text": [
      "index_parallel='0129'\n"
     ]
    },
    {
     "name": "stderr",
     "output_type": "stream",
     "text": [
      "\u001b[32m[I 2022-08-16 04:39:17,188]\u001b[0m Trial 129 finished with value: 6933.15294117647 and parameters: {'kErase': 3, 'kRadius': 2, 'kAnnealingA': -3.2142604603832026, 'kAnnealingB': 2.492634218444296, 'kAnnealingStart': 68.5354602274807, 'kSkipRatio': 0.7333985582363189, 'kTargetDeterminationTrials': 18, 'kAttractionRatio': 0.1554267048578819, 'kMaxAttractionDistance': 65, 'kStartAttraction': 0.005065859410180068}. Best is trial 107 with value: 6997.429411764706.\u001b[0m\n"
     ]
    },
    {
     "name": "stdout",
     "output_type": "stream",
     "text": [
      "index_parallel='0130'\n"
     ]
    },
    {
     "name": "stderr",
     "output_type": "stream",
     "text": [
      "\u001b[32m[I 2022-08-16 04:42:37,995]\u001b[0m Trial 130 finished with value: 6933.264705882353 and parameters: {'kErase': 3, 'kRadius': 2, 'kAnnealingA': -4.255222808542033, 'kAnnealingB': 2.4757241142939583, 'kAnnealingStart': 77.57871338195314, 'kSkipRatio': 0.7108875786340155, 'kTargetDeterminationTrials': 14, 'kAttractionRatio': 0.11996434327063075, 'kMaxAttractionDistance': 83, 'kStartAttraction': 0.006669087931419588}. Best is trial 107 with value: 6997.429411764706.\u001b[0m\n"
     ]
    },
    {
     "name": "stdout",
     "output_type": "stream",
     "text": [
      "index_parallel='0131'\n"
     ]
    },
    {
     "name": "stderr",
     "output_type": "stream",
     "text": [
      "\u001b[32m[I 2022-08-16 04:45:58,719]\u001b[0m Trial 131 finished with value: 6942.541176470589 and parameters: {'kErase': 3, 'kRadius': 2, 'kAnnealingA': -0.813457590703528, 'kAnnealingB': 2.386404890576183, 'kAnnealingStart': 63.547009097204445, 'kSkipRatio': 0.6855566454600153, 'kTargetDeterminationTrials': 17, 'kAttractionRatio': 0.21032333105605697, 'kMaxAttractionDistance': 70, 'kStartAttraction': 0.004333085535200415}. Best is trial 107 with value: 6997.429411764706.\u001b[0m\n"
     ]
    },
    {
     "name": "stdout",
     "output_type": "stream",
     "text": [
      "index_parallel='0132'\n"
     ]
    },
    {
     "name": "stderr",
     "output_type": "stream",
     "text": [
      "\u001b[32m[I 2022-08-16 04:49:19,702]\u001b[0m Trial 132 finished with value: 6953.341176470588 and parameters: {'kErase': 3, 'kRadius': 2, 'kAnnealingA': -2.769757403858919, 'kAnnealingB': 2.8916079496760947, 'kAnnealingStart': 69.68286164636648, 'kSkipRatio': 0.6966416446502965, 'kTargetDeterminationTrials': 20, 'kAttractionRatio': 0.14649479050336484, 'kMaxAttractionDistance': 74, 'kStartAttraction': 0.0030928014004422506}. Best is trial 107 with value: 6997.429411764706.\u001b[0m\n"
     ]
    },
    {
     "name": "stdout",
     "output_type": "stream",
     "text": [
      "index_parallel='0133'\n"
     ]
    },
    {
     "name": "stderr",
     "output_type": "stream",
     "text": [
      "\u001b[32m[I 2022-08-16 04:52:40,447]\u001b[0m Trial 133 finished with value: 6942.376470588235 and parameters: {'kErase': 3, 'kRadius': 2, 'kAnnealingA': -1.5908138738625082, 'kAnnealingB': 2.70537151170929, 'kAnnealingStart': 60.50846501252682, 'kSkipRatio': 0.7610029126655968, 'kTargetDeterminationTrials': 15, 'kAttractionRatio': 0.11257655273245742, 'kMaxAttractionDistance': 86, 'kStartAttraction': 0.007447067629842562}. Best is trial 107 with value: 6997.429411764706.\u001b[0m\n"
     ]
    },
    {
     "name": "stdout",
     "output_type": "stream",
     "text": [
      "index_parallel='0134'\n"
     ]
    },
    {
     "name": "stderr",
     "output_type": "stream",
     "text": [
      "\u001b[32m[I 2022-08-16 04:56:00,934]\u001b[0m Trial 134 finished with value: 6954.0 and parameters: {'kErase': 3, 'kRadius': 2, 'kAnnealingA': -3.415027520003791, 'kAnnealingB': 2.5701756624827117, 'kAnnealingStart': 89.96253108021018, 'kSkipRatio': 0.730893351435647, 'kTargetDeterminationTrials': 12, 'kAttractionRatio': 0.23713874484626915, 'kMaxAttractionDistance': 66, 'kStartAttraction': 0.00519544055662921}. Best is trial 107 with value: 6997.429411764706.\u001b[0m\n"
     ]
    },
    {
     "name": "stdout",
     "output_type": "stream",
     "text": [
      "index_parallel='0135'\n"
     ]
    },
    {
     "name": "stderr",
     "output_type": "stream",
     "text": [
      "\u001b[32m[I 2022-08-16 04:59:21,848]\u001b[0m Trial 135 finished with value: 6910.211764705882 and parameters: {'kErase': 3, 'kRadius': 2, 'kAnnealingA': 0.21055490359858142, 'kAnnealingB': 2.9346954132124954, 'kAnnealingStart': 79.45457062762218, 'kSkipRatio': 0.6523518656695225, 'kTargetDeterminationTrials': 16, 'kAttractionRatio': 0.1345697527381309, 'kMaxAttractionDistance': 77, 'kStartAttraction': 0.0065055322992304465}. Best is trial 107 with value: 6997.429411764706.\u001b[0m\n"
     ]
    },
    {
     "name": "stdout",
     "output_type": "stream",
     "text": [
      "index_parallel='0137'\n"
     ]
    },
    {
     "name": "stderr",
     "output_type": "stream",
     "text": [
      "\u001b[32m[I 2022-08-16 05:02:42,544]\u001b[0m Trial 137 finished with value: 6567.135294117647 and parameters: {'kErase': 3, 'kRadius': 2, 'kAnnealingA': -2.1655883850285083, 'kAnnealingB': 2.4155124038647378, 'kAnnealingStart': 6.792656585550067, 'kSkipRatio': 0.6756868922183761, 'kTargetDeterminationTrials': 17, 'kAttractionRatio': 0.18484476132697084, 'kMaxAttractionDistance': 71, 'kStartAttraction': 0.00425846292478381}. Best is trial 107 with value: 6997.429411764706.\u001b[0m\n"
     ]
    },
    {
     "name": "stdout",
     "output_type": "stream",
     "text": [
      "index_parallel='0139'\n"
     ]
    },
    {
     "name": "stderr",
     "output_type": "stream",
     "text": [
      "\u001b[32m[I 2022-08-16 05:06:03,269]\u001b[0m Trial 139 finished with value: 6962.064705882353 and parameters: {'kErase': 3, 'kRadius': 2, 'kAnnealingA': -0.6051921262413225, 'kAnnealingB': 2.6181714006402492, 'kAnnealingStart': 72.01301912798573, 'kSkipRatio': 0.6856300675359883, 'kTargetDeterminationTrials': 13, 'kAttractionRatio': 0.07063753959256652, 'kMaxAttractionDistance': 61, 'kStartAttraction': 0.013944775820758985}. Best is trial 107 with value: 6997.429411764706.\u001b[0m\n"
     ]
    },
    {
     "name": "stdout",
     "output_type": "stream",
     "text": [
      "index_parallel='0141'\n"
     ]
    },
    {
     "name": "stderr",
     "output_type": "stream",
     "text": [
      "\u001b[32m[I 2022-08-16 05:09:24,173]\u001b[0m Trial 141 finished with value: 6892.511764705882 and parameters: {'kErase': 3, 'kRadius': 2, 'kAnnealingA': -4.3660053316259795, 'kAnnealingB': 2.2830395899151896, 'kAnnealingStart': 93.43781655463867, 'kSkipRatio': 0.7010969096024215, 'kTargetDeterminationTrials': 14, 'kAttractionRatio': 0.16320445675319167, 'kMaxAttractionDistance': 64, 'kStartAttraction': 0.003266745654964288}. Best is trial 107 with value: 6997.429411764706.\u001b[0m\n"
     ]
    },
    {
     "name": "stdout",
     "output_type": "stream",
     "text": [
      "index_parallel='0143'\n"
     ]
    },
    {
     "name": "stderr",
     "output_type": "stream",
     "text": [
      "\u001b[32m[I 2022-08-16 05:12:45,161]\u001b[0m Trial 143 finished with value: 6961.658823529412 and parameters: {'kErase': 3, 'kRadius': 2, 'kAnnealingA': -1.416161314166555, 'kAnnealingB': 2.522132566106784, 'kAnnealingStart': 84.925441838463, 'kSkipRatio': 0.7144724303852542, 'kTargetDeterminationTrials': 11, 'kAttractionRatio': 0.05737640875445832, 'kMaxAttractionDistance': 59, 'kStartAttraction': 0.0029260400197252167}. Best is trial 107 with value: 6997.429411764706.\u001b[0m\n"
     ]
    },
    {
     "name": "stdout",
     "output_type": "stream",
     "text": [
      "index_parallel='0145'\n"
     ]
    },
    {
     "name": "stderr",
     "output_type": "stream",
     "text": [
      "\u001b[32m[I 2022-08-16 05:16:05,791]\u001b[0m Trial 145 finished with value: 6962.376470588235 and parameters: {'kErase': 3, 'kRadius': 2, 'kAnnealingA': -2.8915545486275134, 'kAnnealingB': 2.6064466611524586, 'kAnnealingStart': 65.09628762758464, 'kSkipRatio': 0.6663046762371012, 'kTargetDeterminationTrials': 13, 'kAttractionRatio': 0.0965946221669565, 'kMaxAttractionDistance': 80, 'kStartAttraction': 0.004648957047823578}. Best is trial 107 with value: 6997.429411764706.\u001b[0m\n"
     ]
    },
    {
     "name": "stdout",
     "output_type": "stream",
     "text": [
      "index_parallel='0147'\n"
     ]
    },
    {
     "name": "stderr",
     "output_type": "stream",
     "text": [
      "\u001b[32m[I 2022-08-16 05:19:26,385]\u001b[0m Trial 147 finished with value: 6983.752941176471 and parameters: {'kErase': 3, 'kRadius': 2, 'kAnnealingA': -1.8217261866859609, 'kAnnealingB': 2.419015004431852, 'kAnnealingStart': 71.98303493100023, 'kSkipRatio': 0.7289841509608415, 'kTargetDeterminationTrials': 19, 'kAttractionRatio': 0.07407038308062316, 'kMaxAttractionDistance': 86, 'kStartAttraction': 0.003843685158757262}. Best is trial 107 with value: 6997.429411764706.\u001b[0m\n"
     ]
    },
    {
     "name": "stdout",
     "output_type": "stream",
     "text": [
      "index_parallel='0149'\n"
     ]
    },
    {
     "name": "stderr",
     "output_type": "stream",
     "text": [
      "\u001b[32m[I 2022-08-16 05:22:46,846]\u001b[0m Trial 149 finished with value: 6923.15294117647 and parameters: {'kErase': 3, 'kRadius': 2, 'kAnnealingA': -3.738471472785039, 'kAnnealingB': 2.6475561514332924, 'kAnnealingStart': 74.30686507288165, 'kSkipRatio': 0.7793088540926976, 'kTargetDeterminationTrials': 19, 'kAttractionRatio': 0.06941089894344916, 'kMaxAttractionDistance': 89, 'kStartAttraction': 0.005640737368835358}. Best is trial 107 with value: 6997.429411764706.\u001b[0m\n"
     ]
    },
    {
     "name": "stdout",
     "output_type": "stream",
     "text": [
      "index_parallel='0151'\n"
     ]
    },
    {
     "name": "stderr",
     "output_type": "stream",
     "text": [
      "\u001b[32m[I 2022-08-16 05:26:07,666]\u001b[0m Trial 151 finished with value: 6879.323529411765 and parameters: {'kErase': 3, 'kRadius': 2, 'kAnnealingA': -4.730465228241501, 'kAnnealingB': 2.551409687361581, 'kAnnealingStart': 80.56590710088236, 'kSkipRatio': 0.7437046674821124, 'kTargetDeterminationTrials': 14, 'kAttractionRatio': 0.07951867452244853, 'kMaxAttractionDistance': 97, 'kStartAttraction': 0.6245232638520205}. Best is trial 107 with value: 6997.429411764706.\u001b[0m\n"
     ]
    },
    {
     "name": "stdout",
     "output_type": "stream",
     "text": [
      "index_parallel='0153'\n"
     ]
    },
    {
     "name": "stderr",
     "output_type": "stream",
     "text": [
      "\u001b[32m[I 2022-08-16 05:29:28,314]\u001b[0m Trial 153 finished with value: 6968.382352941177 and parameters: {'kErase': 3, 'kRadius': 2, 'kAnnealingA': -1.9596765085583443, 'kAnnealingB': 2.3472324927570782, 'kAnnealingStart': 59.76136937121356, 'kSkipRatio': 0.6725311674768044, 'kTargetDeterminationTrials': 17, 'kAttractionRatio': 0.17683465167607684, 'kMaxAttractionDistance': 75, 'kStartAttraction': 0.0041507728789761415}. Best is trial 107 with value: 6997.429411764706.\u001b[0m\n"
     ]
    },
    {
     "name": "stdout",
     "output_type": "stream",
     "text": [
      "index_parallel='0155'\n"
     ]
    },
    {
     "name": "stderr",
     "output_type": "stream",
     "text": [
      "\u001b[32m[I 2022-08-16 05:32:48,899]\u001b[0m Trial 155 finished with value: 6976.229411764706 and parameters: {'kErase': 3, 'kRadius': 2, 'kAnnealingA': -2.008542844301247, 'kAnnealingB': 2.3355727803718027, 'kAnnealingStart': 55.19808783892396, 'kSkipRatio': 0.7229348056408791, 'kTargetDeterminationTrials': 12, 'kAttractionRatio': 0.18500569923275678, 'kMaxAttractionDistance': 75, 'kStartAttraction': 0.0032385966599944743}. Best is trial 107 with value: 6997.429411764706.\u001b[0m\n"
     ]
    },
    {
     "name": "stdout",
     "output_type": "stream",
     "text": [
      "index_parallel='0157'\n"
     ]
    },
    {
     "name": "stderr",
     "output_type": "stream",
     "text": [
      "\u001b[32m[I 2022-08-16 05:36:09,365]\u001b[0m Trial 157 finished with value: 6966.217647058824 and parameters: {'kErase': 3, 'kRadius': 2, 'kAnnealingA': -0.878971697661685, 'kAnnealingB': 2.425892166922527, 'kAnnealingStart': 51.34605868533437, 'kSkipRatio': 0.7165039225039389, 'kTargetDeterminationTrials': 12, 'kAttractionRatio': 0.040116691106100756, 'kMaxAttractionDistance': 79, 'kStartAttraction': 0.003447760298747751}. Best is trial 107 with value: 6997.429411764706.\u001b[0m\n"
     ]
    },
    {
     "name": "stdout",
     "output_type": "stream",
     "text": [
      "index_parallel='0159'\n"
     ]
    },
    {
     "name": "stderr",
     "output_type": "stream",
     "text": [
      "\u001b[32m[I 2022-08-16 05:39:29,885]\u001b[0m Trial 159 finished with value: 6933.205882352941 and parameters: {'kErase': 3, 'kRadius': 2, 'kAnnealingA': 1.0030555153288774, 'kAnnealingB': 0.9157490091484445, 'kAnnealingStart': 55.520452848053914, 'kSkipRatio': 0.700406275021777, 'kTargetDeterminationTrials': 12, 'kAttractionRatio': 0.08680590439401108, 'kMaxAttractionDistance': 69, 'kStartAttraction': 0.002406517650390402}. Best is trial 107 with value: 6997.429411764706.\u001b[0m\n"
     ]
    },
    {
     "name": "stdout",
     "output_type": "stream",
     "text": [
      "index_parallel='0161'\n"
     ]
    },
    {
     "name": "stderr",
     "output_type": "stream",
     "text": [
      "\u001b[32m[I 2022-08-16 05:42:50,501]\u001b[0m Trial 161 finished with value: 6916.035294117647 and parameters: {'kErase': 3, 'kRadius': 2, 'kAnnealingA': -2.8619379395090045, 'kAnnealingB': 2.7829782436326598, 'kAnnealingStart': 69.48863129575031, 'kSkipRatio': 0.688804049402515, 'kTargetDeterminationTrials': 14, 'kAttractionRatio': 0.052583764659529755, 'kMaxAttractionDistance': 87, 'kStartAttraction': 0.0030761371827971304}. Best is trial 107 with value: 6997.429411764706.\u001b[0m\n"
     ]
    },
    {
     "name": "stdout",
     "output_type": "stream",
     "text": [
      "index_parallel='0163'\n"
     ]
    },
    {
     "name": "stderr",
     "output_type": "stream",
     "text": [
      "\u001b[32m[I 2022-08-16 05:46:10,982]\u001b[0m Trial 163 finished with value: 6957.229411764706 and parameters: {'kErase': 3, 'kRadius': 2, 'kAnnealingA': -1.7891603497309372, 'kAnnealingB': 2.476651157799647, 'kAnnealingStart': 77.28496873594207, 'kSkipRatio': 0.7610202531553829, 'kTargetDeterminationTrials': 15, 'kAttractionRatio': 0.15125190159581106, 'kMaxAttractionDistance': 73, 'kStartAttraction': 0.004806294191231314}. Best is trial 107 with value: 6997.429411764706.\u001b[0m\n"
     ]
    },
    {
     "name": "stdout",
     "output_type": "stream",
     "text": [
      "index_parallel='0165'\n"
     ]
    },
    {
     "name": "stderr",
     "output_type": "stream",
     "text": [
      "\u001b[32m[I 2022-08-16 05:49:31,656]\u001b[0m Trial 165 finished with value: 6913.717647058824 and parameters: {'kErase': 3, 'kRadius': 2, 'kAnnealingA': -3.0991012717288244, 'kAnnealingB': 1.3829596175488024, 'kAnnealingStart': 59.0764018267628, 'kSkipRatio': 0.7244170544990371, 'kTargetDeterminationTrials': 17, 'kAttractionRatio': 0.1065498209190038, 'kMaxAttractionDistance': 65, 'kStartAttraction': 0.006722797346249369}. Best is trial 107 with value: 6997.429411764706.\u001b[0m\n"
     ]
    },
    {
     "name": "stdout",
     "output_type": "stream",
     "text": [
      "index_parallel='0167'\n"
     ]
    },
    {
     "name": "stderr",
     "output_type": "stream",
     "text": [
      "\u001b[32m[I 2022-08-16 05:52:52,345]\u001b[0m Trial 167 finished with value: 6948.605882352941 and parameters: {'kErase': 3, 'kRadius': 2, 'kAnnealingA': 0.018045184761355637, 'kAnnealingB': 2.68824016649743, 'kAnnealingStart': 62.49672323254883, 'kSkipRatio': 0.7109879619450716, 'kTargetDeterminationTrials': 19, 'kAttractionRatio': 0.11888402648906436, 'kMaxAttractionDistance': 91, 'kStartAttraction': 0.007801784098961078}. Best is trial 107 with value: 6997.429411764706.\u001b[0m\n"
     ]
    },
    {
     "name": "stdout",
     "output_type": "stream",
     "text": [
      "index_parallel='0169'\n"
     ]
    },
    {
     "name": "stderr",
     "output_type": "stream",
     "text": [
      "\u001b[32m[I 2022-08-16 05:56:12,775]\u001b[0m Trial 169 finished with value: 6965.747058823529 and parameters: {'kErase': 3, 'kRadius': 2, 'kAnnealingA': -2.6017136636494644, 'kAnnealingB': 1.2167522809780782, 'kAnnealingStart': 50.15907842807298, 'kSkipRatio': 0.6381528426527435, 'kTargetDeterminationTrials': 20, 'kAttractionRatio': 0.13642511938314053, 'kMaxAttractionDistance': 18, 'kStartAttraction': 0.009344496728868633}. Best is trial 107 with value: 6997.429411764706.\u001b[0m\n"
     ]
    },
    {
     "name": "stdout",
     "output_type": "stream",
     "text": [
      "index_parallel='0171'\n"
     ]
    },
    {
     "name": "stderr",
     "output_type": "stream",
     "text": [
      "\u001b[32m[I 2022-08-16 05:59:33,607]\u001b[0m Trial 171 finished with value: 6938.711764705882 and parameters: {'kErase': 3, 'kRadius': 2, 'kAnnealingA': -1.3867329327573907, 'kAnnealingB': 2.6199315036470323, 'kAnnealingStart': 88.2083371333299, 'kSkipRatio': 0.657103714858248, 'kTargetDeterminationTrials': 16, 'kAttractionRatio': 0.22475488655553613, 'kMaxAttractionDistance': 68, 'kStartAttraction': 0.0037819089058180664}. Best is trial 107 with value: 6997.429411764706.\u001b[0m\n"
     ]
    },
    {
     "name": "stdout",
     "output_type": "stream",
     "text": [
      "index_parallel='0173'\n"
     ]
    },
    {
     "name": "stderr",
     "output_type": "stream",
     "text": [
      "\u001b[32m[I 2022-08-16 06:02:54,453]\u001b[0m Trial 173 finished with value: 6962.164705882353 and parameters: {'kErase': 3, 'kRadius': 2, 'kAnnealingA': -2.1426194295124543, 'kAnnealingB': 2.5128445093557663, 'kAnnealingStart': 66.39830674870913, 'kSkipRatio': 0.7448795882253918, 'kTargetDeterminationTrials': 14, 'kAttractionRatio': 0.1985013567567013, 'kMaxAttractionDistance': 62, 'kStartAttraction': 0.005250333833373667}. Best is trial 107 with value: 6997.429411764706.\u001b[0m\n"
     ]
    },
    {
     "name": "stdout",
     "output_type": "stream",
     "text": [
      "index_parallel='0175'\n"
     ]
    },
    {
     "name": "stderr",
     "output_type": "stream",
     "text": [
      "\u001b[32m[I 2022-08-16 06:06:14,978]\u001b[0m Trial 175 finished with value: 6969.982352941176 and parameters: {'kErase': 3, 'kRadius': 2, 'kAnnealingA': -0.7894647439773698, 'kAnnealingB': 2.3770264039558766, 'kAnnealingStart': 82.18126930814215, 'kSkipRatio': 0.7320250049760988, 'kTargetDeterminationTrials': 15, 'kAttractionRatio': 0.164361678870911, 'kMaxAttractionDistance': 78, 'kStartAttraction': 0.005872784296734437}. Best is trial 107 with value: 6997.429411764706.\u001b[0m\n"
     ]
    },
    {
     "name": "stdout",
     "output_type": "stream",
     "text": [
      "index_parallel='0177'\n"
     ]
    },
    {
     "name": "stderr",
     "output_type": "stream",
     "text": [
      "\u001b[32m[I 2022-08-16 06:09:35,486]\u001b[0m Trial 177 finished with value: 6886.529411764706 and parameters: {'kErase': 3, 'kRadius': 2, 'kAnnealingA': -0.6147034251392732, 'kAnnealingB': 2.382802503884117, 'kAnnealingStart': 84.65173700771449, 'kSkipRatio': 0.6810669006019269, 'kTargetDeterminationTrials': 13, 'kAttractionRatio': 0.06427421090546909, 'kMaxAttractionDistance': 78, 'kStartAttraction': 0.005768362948263008}. Best is trial 107 with value: 6997.429411764706.\u001b[0m\n"
     ]
    },
    {
     "name": "stdout",
     "output_type": "stream",
     "text": [
      "index_parallel='0179'\n"
     ]
    },
    {
     "name": "stderr",
     "output_type": "stream",
     "text": [
      "\u001b[32m[I 2022-08-16 06:12:55,940]\u001b[0m Trial 179 finished with value: 6974.670588235294 and parameters: {'kErase': 3, 'kRadius': 2, 'kAnnealingA': -1.030772285915711, 'kAnnealingB': 2.182071187362595, 'kAnnealingStart': 56.48047884174835, 'kSkipRatio': 0.7031744303655729, 'kTargetDeterminationTrials': 16, 'kAttractionRatio': 0.0924410260903323, 'kMaxAttractionDistance': 84, 'kStartAttraction': 0.0033113948945805265}. Best is trial 107 with value: 6997.429411764706.\u001b[0m\n"
     ]
    },
    {
     "name": "stdout",
     "output_type": "stream",
     "text": [
      "index_parallel='0181'\n"
     ]
    },
    {
     "name": "stderr",
     "output_type": "stream",
     "text": [
      "\u001b[32m[I 2022-08-16 06:16:16,818]\u001b[0m Trial 181 finished with value: 6953.894117647059 and parameters: {'kErase': 4, 'kRadius': 2, 'kAnnealingA': -1.1675002212255219, 'kAnnealingB': 2.139695817281766, 'kAnnealingStart': 57.67190009268052, 'kSkipRatio': 0.6977672211653833, 'kTargetDeterminationTrials': 17, 'kAttractionRatio': 0.08868580474460429, 'kMaxAttractionDistance': 86, 'kStartAttraction': 0.0028036936218671068}. Best is trial 107 with value: 6997.429411764706.\u001b[0m\n"
     ]
    },
    {
     "name": "stdout",
     "output_type": "stream",
     "text": [
      "index_parallel='0183'\n"
     ]
    },
    {
     "name": "stderr",
     "output_type": "stream",
     "text": [
      "\u001b[32m[I 2022-08-16 06:19:37,413]\u001b[0m Trial 183 finished with value: 6948.0 and parameters: {'kErase': 3, 'kRadius': 2, 'kAnnealingA': 0.3742052298239482, 'kAnnealingB': 1.9968147069174587, 'kAnnealingStart': 64.30879984101135, 'kSkipRatio': 0.716655558639009, 'kTargetDeterminationTrials': 11, 'kAttractionRatio': 0.11158672403543213, 'kMaxAttractionDistance': 74, 'kStartAttraction': 0.004403049380258397}. Best is trial 107 with value: 6997.429411764706.\u001b[0m\n"
     ]
    },
    {
     "name": "stdout",
     "output_type": "stream",
     "text": [
      "index_parallel='0185'\n"
     ]
    },
    {
     "name": "stderr",
     "output_type": "stream",
     "text": [
      "\u001b[32m[I 2022-08-16 06:22:58,236]\u001b[0m Trial 185 finished with value: 6972.994117647058 and parameters: {'kErase': 3, 'kRadius': 2, 'kAnnealingA': -1.835432572780703, 'kAnnealingB': 2.253633484870364, 'kAnnealingStart': 71.59277997905076, 'kSkipRatio': 0.6896556384499399, 'kTargetDeterminationTrials': 18, 'kAttractionRatio': 0.1045519892660874, 'kMaxAttractionDistance': 94, 'kStartAttraction': 0.006484202631099536}. Best is trial 107 with value: 6997.429411764706.\u001b[0m\n"
     ]
    },
    {
     "name": "stdout",
     "output_type": "stream",
     "text": [
      "index_parallel='0187'\n"
     ]
    },
    {
     "name": "stderr",
     "output_type": "stream",
     "text": [
      "\u001b[32m[I 2022-08-16 06:26:18,693]\u001b[0m Trial 187 finished with value: 6951.2588235294115 and parameters: {'kErase': 3, 'kRadius': 2, 'kAnnealingA': -1.7715918522436753, 'kAnnealingB': 2.210043815414744, 'kAnnealingStart': 73.83897045110933, 'kSkipRatio': 0.6669049563830959, 'kTargetDeterminationTrials': 20, 'kAttractionRatio': 0.10131487310783793, 'kMaxAttractionDistance': 93, 'kStartAttraction': 0.00333572381251691}. Best is trial 107 with value: 6997.429411764706.\u001b[0m\n"
     ]
    },
    {
     "name": "stdout",
     "output_type": "stream",
     "text": [
      "index_parallel='0189'\n"
     ]
    },
    {
     "name": "stderr",
     "output_type": "stream",
     "text": [
      "\u001b[32m[I 2022-08-16 06:29:39,374]\u001b[0m Trial 189 finished with value: 6911.382352941177 and parameters: {'kErase': 3, 'kRadius': 2, 'kAnnealingA': -2.354086285919055, 'kAnnealingB': 2.2878999656094625, 'kAnnealingStart': 52.92077617268865, 'kSkipRatio': 0.6814411744147454, 'kTargetDeterminationTrials': 19, 'kAttractionRatio': 0.2648563058974618, 'kMaxAttractionDistance': 99, 'kStartAttraction': 0.010968746459498243}. Best is trial 107 with value: 6997.429411764706.\u001b[0m\n"
     ]
    },
    {
     "name": "stdout",
     "output_type": "stream",
     "text": [
      "index_parallel='0191'\n"
     ]
    },
    {
     "name": "stderr",
     "output_type": "stream",
     "text": [
      "\u001b[32m[I 2022-08-16 06:33:00,060]\u001b[0m Trial 191 finished with value: 6943.952941176471 and parameters: {'kErase': 3, 'kRadius': 2, 'kAnnealingA': -2.5321432135889794, 'kAnnealingB': 2.323000085563802, 'kAnnealingStart': 49.80108876826161, 'kSkipRatio': 0.6924149155663586, 'kTargetDeterminationTrials': 20, 'kAttractionRatio': 0.12868320282424217, 'kMaxAttractionDistance': 93, 'kStartAttraction': 0.003208825278672396}. Best is trial 107 with value: 6997.429411764706.\u001b[0m\n"
     ]
    },
    {
     "name": "stdout",
     "output_type": "stream",
     "text": [
      "index_parallel='0193'\n"
     ]
    },
    {
     "name": "stderr",
     "output_type": "stream",
     "text": [
      "\u001b[32m[I 2022-08-16 06:36:20,857]\u001b[0m Trial 193 finished with value: 6953.011764705882 and parameters: {'kErase': 3, 'kRadius': 2, 'kAnnealingA': -1.662752407609231, 'kAnnealingB': 2.456577384582916, 'kAnnealingStart': 53.54390815539456, 'kSkipRatio': 0.6929830134221315, 'kTargetDeterminationTrials': 18, 'kAttractionRatio': 0.09951023248058276, 'kMaxAttractionDistance': 87, 'kStartAttraction': 0.002138151452210221}. Best is trial 107 with value: 6997.429411764706.\u001b[0m\n"
     ]
    },
    {
     "name": "stdout",
     "output_type": "stream",
     "text": [
      "index_parallel='0195'\n"
     ]
    },
    {
     "name": "stderr",
     "output_type": "stream",
     "text": [
      "\u001b[32m[I 2022-08-16 06:39:41,572]\u001b[0m Trial 195 finished with value: 6763.535294117647 and parameters: {'kErase': 3, 'kRadius': 2, 'kAnnealingA': -1.7587774467595019, 'kAnnealingB': 2.2137731856933778, 'kAnnealingStart': 61.81888366111887, 'kSkipRatio': 0.5002712681708832, 'kTargetDeterminationTrials': 20, 'kAttractionRatio': 0.1425834673212728, 'kMaxAttractionDistance': 91, 'kStartAttraction': 0.0037520551832009555}. Best is trial 107 with value: 6997.429411764706.\u001b[0m\n"
     ]
    },
    {
     "name": "stdout",
     "output_type": "stream",
     "text": [
      "index_parallel='0197'\n"
     ]
    },
    {
     "name": "stderr",
     "output_type": "stream",
     "text": [
      "\u001b[32m[I 2022-08-16 06:43:03,735]\u001b[0m Trial 197 finished with value: 6896.005882352942 and parameters: {'kErase': 3, 'kRadius': 2, 'kAnnealingA': -3.222808964493052, 'kAnnealingB': 2.348465631660373, 'kAnnealingStart': 56.3820274635142, 'kSkipRatio': 0.6487312840571483, 'kTargetDeterminationTrials': 18, 'kAttractionRatio': 0.10916380789110008, 'kMaxAttractionDistance': 84, 'kStartAttraction': 0.0038527746090422942}. Best is trial 196 with value: 6997.6882352941175.\u001b[0m\n"
     ]
    },
    {
     "name": "stdout",
     "output_type": "stream",
     "text": [
      "index_parallel='0199'\n"
     ]
    },
    {
     "name": "stderr",
     "output_type": "stream",
     "text": [
      "\u001b[32m[I 2022-08-16 06:46:24,321]\u001b[0m Trial 199 finished with value: 6871.817647058823 and parameters: {'kErase': 3, 'kRadius': 4, 'kAnnealingA': -3.649487934271553, 'kAnnealingB': 2.088284178934373, 'kAnnealingStart': 46.90669308345885, 'kSkipRatio': 0.6530152960062366, 'kTargetDeterminationTrials': 20, 'kAttractionRatio': 0.12724771051054462, 'kMaxAttractionDistance': 83, 'kStartAttraction': 0.0028106447709485816}. Best is trial 196 with value: 6997.6882352941175.\u001b[0m\n"
     ]
    },
    {
     "name": "stdout",
     "output_type": "stream",
     "text": [
      "index_parallel='0201'\n"
     ]
    },
    {
     "name": "stderr",
     "output_type": "stream",
     "text": [
      "\u001b[32m[I 2022-08-16 06:49:44,779]\u001b[0m Trial 201 finished with value: 6919.458823529411 and parameters: {'kErase': 3, 'kRadius': 2, 'kAnnealingA': -2.331484547846874, 'kAnnealingB': 2.4807841063325604, 'kAnnealingStart': 41.73919582859236, 'kSkipRatio': 0.6387299861686935, 'kTargetDeterminationTrials': 17, 'kAttractionRatio': 0.12213821111830421, 'kMaxAttractionDistance': 89, 'kStartAttraction': 0.004625025335956304}. Best is trial 196 with value: 6997.6882352941175.\u001b[0m\n"
     ]
    },
    {
     "name": "stdout",
     "output_type": "stream",
     "text": [
      "index_parallel='0203'\n"
     ]
    },
    {
     "name": "stderr",
     "output_type": "stream",
     "text": [
      "\u001b[32m[I 2022-08-16 06:53:05,648]\u001b[0m Trial 203 finished with value: 6980.617647058823 and parameters: {'kErase': 3, 'kRadius': 2, 'kAnnealingA': -1.8857256165378828, 'kAnnealingB': 2.2649231515117485, 'kAnnealingStart': 66.91022751273002, 'kSkipRatio': 0.6641801884653507, 'kTargetDeterminationTrials': 18, 'kAttractionRatio': 0.10650000564647233, 'kMaxAttractionDistance': 99, 'kStartAttraction': 0.0034285056150131976}. Best is trial 202 with value: 7004.805882352941.\u001b[0m\n"
     ]
    },
    {
     "name": "stdout",
     "output_type": "stream",
     "text": [
      "index_parallel='0205'\n"
     ]
    },
    {
     "name": "stderr",
     "output_type": "stream",
     "text": [
      "\u001b[32m[I 2022-08-16 06:56:26,542]\u001b[0m Trial 205 finished with value: 6923.970588235294 and parameters: {'kErase': 3, 'kRadius': 2, 'kAnnealingA': -2.8601005329495717, 'kAnnealingB': 2.175542774779152, 'kAnnealingStart': 52.05441982599105, 'kSkipRatio': 0.6724860188778337, 'kTargetDeterminationTrials': 18, 'kAttractionRatio': 0.11234908959112724, 'kMaxAttractionDistance': 98, 'kStartAttraction': 0.00356441770994663}. Best is trial 202 with value: 7004.805882352941.\u001b[0m\n"
     ]
    },
    {
     "name": "stdout",
     "output_type": "stream",
     "text": [
      "index_parallel='0207'\n"
     ]
    },
    {
     "name": "stderr",
     "output_type": "stream",
     "text": [
      "\u001b[32m[I 2022-08-16 06:59:47,102]\u001b[0m Trial 207 finished with value: 6962.488235294118 and parameters: {'kErase': 3, 'kRadius': 2, 'kAnnealingA': -1.911447452007697, 'kAnnealingB': 2.2672018759545973, 'kAnnealingStart': 62.82608347161092, 'kSkipRatio': 0.6619362020823436, 'kTargetDeterminationTrials': 16, 'kAttractionRatio': 0.1268689473868096, 'kMaxAttractionDistance': 99, 'kStartAttraction': 0.12468242615581741}. Best is trial 202 with value: 7004.805882352941.\u001b[0m\n"
     ]
    },
    {
     "name": "stdout",
     "output_type": "stream",
     "text": [
      "index_parallel='0209'\n"
     ]
    },
    {
     "name": "stderr",
     "output_type": "stream",
     "text": [
      "\u001b[32m[I 2022-08-16 07:03:07,617]\u001b[0m Trial 209 finished with value: 6948.005882352942 and parameters: {'kErase': 3, 'kRadius': 2, 'kAnnealingA': -0.1932221771497613, 'kAnnealingB': 2.4081114619379664, 'kAnnealingStart': 57.95270441566219, 'kSkipRatio': 0.7044861628122455, 'kTargetDeterminationTrials': 18, 'kAttractionRatio': 0.08571521915031967, 'kMaxAttractionDistance': 81, 'kStartAttraction': 0.004875955314436078}. Best is trial 202 with value: 7004.805882352941.\u001b[0m\n"
     ]
    },
    {
     "name": "stdout",
     "output_type": "stream",
     "text": [
      "index_parallel='0211'\n"
     ]
    },
    {
     "name": "stderr",
     "output_type": "stream",
     "text": [
      "\u001b[32m[I 2022-08-16 07:06:28,137]\u001b[0m Trial 211 finished with value: 6870.029411764706 and parameters: {'kErase': 3, 'kRadius': 2, 'kAnnealingA': -4.422107001731659, 'kAnnealingB': 1.4587105514383045, 'kAnnealingStart': 65.43995799522642, 'kSkipRatio': 0.7212812446264462, 'kTargetDeterminationTrials': 18, 'kAttractionRatio': 0.10097231550925494, 'kMaxAttractionDistance': 90, 'kStartAttraction': 0.0022459471708210516}. Best is trial 202 with value: 7004.805882352941.\u001b[0m\n"
     ]
    },
    {
     "name": "stdout",
     "output_type": "stream",
     "text": [
      "index_parallel='0213'\n"
     ]
    },
    {
     "name": "stderr",
     "output_type": "stream",
     "text": [
      "\u001b[32m[I 2022-08-16 07:09:49,002]\u001b[0m Trial 213 finished with value: 6681.594117647059 and parameters: {'kErase': 3, 'kRadius': 2, 'kAnnealingA': -0.8689147348471689, 'kAnnealingB': 2.3196099412793436, 'kAnnealingStart': 11.109896953093124, 'kSkipRatio': 0.7492996839361807, 'kTargetDeterminationTrials': 19, 'kAttractionRatio': 0.11240748885816905, 'kMaxAttractionDistance': 88, 'kStartAttraction': 0.0030651792197646495}. Best is trial 202 with value: 7004.805882352941.\u001b[0m\n"
     ]
    },
    {
     "name": "stdout",
     "output_type": "stream",
     "text": [
      "index_parallel='0215'\n"
     ]
    },
    {
     "name": "stderr",
     "output_type": "stream",
     "text": [
      "\u001b[32m[I 2022-08-16 07:13:09,641]\u001b[0m Trial 215 finished with value: 6932.994117647058 and parameters: {'kErase': 3, 'kRadius': 2, 'kAnnealingA': -2.1760393000767664, 'kAnnealingB': 2.4222984641179637, 'kAnnealingStart': 49.51261017717533, 'kSkipRatio': 0.7342621703717931, 'kTargetDeterminationTrials': 17, 'kAttractionRatio': 0.12502507258228301, 'kMaxAttractionDistance': 77, 'kStartAttraction': 0.0039903354301620945}. Best is trial 202 with value: 7004.805882352941.\u001b[0m\n"
     ]
    },
    {
     "name": "stdout",
     "output_type": "stream",
     "text": [
      "index_parallel='0217'\n"
     ]
    },
    {
     "name": "stderr",
     "output_type": "stream",
     "text": [
      "\u001b[32m[I 2022-08-16 07:16:30,485]\u001b[0m Trial 217 finished with value: 6961.15294117647 and parameters: {'kErase': 3, 'kRadius': 2, 'kAnnealingA': -1.3941621986997212, 'kAnnealingB': 2.556671843352646, 'kAnnealingStart': 58.83198347818468, 'kSkipRatio': 0.7065780659095698, 'kTargetDeterminationTrials': 16, 'kAttractionRatio': 0.07819316458147875, 'kMaxAttractionDistance': 71, 'kStartAttraction': 0.002573455739678162}. Best is trial 216 with value: 7023.15294117647.\u001b[0m\n"
     ]
    },
    {
     "name": "stdout",
     "output_type": "stream",
     "text": [
      "index_parallel='0219'\n"
     ]
    },
    {
     "name": "stderr",
     "output_type": "stream",
     "text": [
      "\u001b[32m[I 2022-08-16 07:19:51,159]\u001b[0m Trial 219 finished with value: 6980.7 and parameters: {'kErase': 3, 'kRadius': 2, 'kAnnealingA': -0.3259600362374446, 'kAnnealingB': 2.466102297489751, 'kAnnealingStart': 44.74948859284399, 'kSkipRatio': 0.7063851114130305, 'kTargetDeterminationTrials': 15, 'kAttractionRatio': 0.03721733660688473, 'kMaxAttractionDistance': 80, 'kStartAttraction': 0.0035840536127562214}. Best is trial 216 with value: 7023.15294117647.\u001b[0m\n"
     ]
    },
    {
     "name": "stdout",
     "output_type": "stream",
     "text": [
      "index_parallel='0221'\n"
     ]
    },
    {
     "name": "stderr",
     "output_type": "stream",
     "text": [
      "\u001b[32m[I 2022-08-16 07:23:11,997]\u001b[0m Trial 221 finished with value: 6998.423529411764 and parameters: {'kErase': 3, 'kRadius': 2, 'kAnnealingA': 0.3931908825856101, 'kAnnealingB': 2.4793188495777065, 'kAnnealingStart': 46.597809752372136, 'kSkipRatio': 0.7082810863848091, 'kTargetDeterminationTrials': 15, 'kAttractionRatio': 0.03579933000585523, 'kMaxAttractionDistance': 79, 'kStartAttraction': 0.0035763012149201243}. Best is trial 216 with value: 7023.15294117647.\u001b[0m\n"
     ]
    },
    {
     "name": "stdout",
     "output_type": "stream",
     "text": [
      "index_parallel='0223'\n"
     ]
    },
    {
     "name": "stderr",
     "output_type": "stream",
     "text": [
      "\u001b[32m[I 2022-08-16 07:26:32,744]\u001b[0m Trial 223 finished with value: 6986.958823529411 and parameters: {'kErase': 3, 'kRadius': 2, 'kAnnealingA': 0.3790883111535468, 'kAnnealingB': 2.3841042086357787, 'kAnnealingStart': 38.485833548756396, 'kSkipRatio': 0.7118401012861812, 'kTargetDeterminationTrials': 15, 'kAttractionRatio': 0.03668248051121625, 'kMaxAttractionDistance': 73, 'kStartAttraction': 0.0029788877210023953}. Best is trial 216 with value: 7023.15294117647.\u001b[0m\n"
     ]
    },
    {
     "name": "stdout",
     "output_type": "stream",
     "text": [
      "index_parallel='0225'\n"
     ]
    },
    {
     "name": "stderr",
     "output_type": "stream",
     "text": [
      "\u001b[32m[I 2022-08-16 07:29:53,423]\u001b[0m Trial 225 finished with value: 6952.470588235294 and parameters: {'kErase': 3, 'kRadius': 2, 'kAnnealingA': 1.3193639892038158, 'kAnnealingB': 2.463445969881587, 'kAnnealingStart': 39.208085551675, 'kSkipRatio': 0.7173165719911739, 'kTargetDeterminationTrials': 14, 'kAttractionRatio': 0.037623393354214114, 'kMaxAttractionDistance': 73, 'kStartAttraction': 0.00408719205044702}. Best is trial 216 with value: 7023.15294117647.\u001b[0m\n"
     ]
    },
    {
     "name": "stdout",
     "output_type": "stream",
     "text": [
      "index_parallel='0227'\n"
     ]
    },
    {
     "name": "stderr",
     "output_type": "stream",
     "text": [
      "\u001b[32m[I 2022-08-16 07:33:14,162]\u001b[0m Trial 227 finished with value: 6978.211764705882 and parameters: {'kErase': 3, 'kRadius': 2, 'kAnnealingA': 0.43378263944152873, 'kAnnealingB': 2.5466005403681584, 'kAnnealingStart': 41.91217485765285, 'kSkipRatio': 0.6953374930818379, 'kTargetDeterminationTrials': 15, 'kAttractionRatio': 0.033775139477979804, 'kMaxAttractionDistance': 69, 'kStartAttraction': 0.0027917934805815154}. Best is trial 216 with value: 7023.15294117647.\u001b[0m\n"
     ]
    },
    {
     "name": "stdout",
     "output_type": "stream",
     "text": [
      "index_parallel='0229'\n"
     ]
    },
    {
     "name": "stderr",
     "output_type": "stream",
     "text": [
      "\u001b[32m[I 2022-08-16 07:36:34,837]\u001b[0m Trial 229 finished with value: 6964.411764705882 and parameters: {'kErase': 3, 'kRadius': 2, 'kAnnealingA': 0.41536445183590104, 'kAnnealingB': 2.382728209156338, 'kAnnealingStart': 40.18835696841111, 'kSkipRatio': 0.6935801319556743, 'kTargetDeterminationTrials': 16, 'kAttractionRatio': 0.036989708351270224, 'kMaxAttractionDistance': 77, 'kStartAttraction': 0.0023785437815895087}. Best is trial 216 with value: 7023.15294117647.\u001b[0m\n"
     ]
    },
    {
     "name": "stdout",
     "output_type": "stream",
     "text": [
      "index_parallel='0231'\n"
     ]
    },
    {
     "name": "stderr",
     "output_type": "stream",
     "text": [
      "\u001b[32m[I 2022-08-16 07:39:55,609]\u001b[0m Trial 231 finished with value: 7009.34705882353 and parameters: {'kErase': 3, 'kRadius': 2, 'kAnnealingA': 0.6757685686387468, 'kAnnealingB': 2.565820087626879, 'kAnnealingStart': 49.29175504541925, 'kSkipRatio': 0.6863605923357978, 'kTargetDeterminationTrials': 14, 'kAttractionRatio': 0.03377635410815001, 'kMaxAttractionDistance': 69, 'kStartAttraction': 0.0027374660352013176}. Best is trial 216 with value: 7023.15294117647.\u001b[0m\n"
     ]
    },
    {
     "name": "stdout",
     "output_type": "stream",
     "text": [
      "index_parallel='0233'\n"
     ]
    },
    {
     "name": "stderr",
     "output_type": "stream",
     "text": [
      "\u001b[32m[I 2022-08-16 07:43:16,413]\u001b[0m Trial 233 finished with value: 6951.452941176471 and parameters: {'kErase': 3, 'kRadius': 2, 'kAnnealingA': 0.8373889995730421, 'kAnnealingB': 2.529844678480044, 'kAnnealingStart': 49.38504239545723, 'kSkipRatio': 0.6799885977776273, 'kTargetDeterminationTrials': 18, 'kAttractionRatio': 0.033670152819910204, 'kMaxAttractionDistance': 82, 'kStartAttraction': 0.0028937366255816386}. Best is trial 216 with value: 7023.15294117647.\u001b[0m\n"
     ]
    },
    {
     "name": "stdout",
     "output_type": "stream",
     "text": [
      "index_parallel='0235'\n"
     ]
    },
    {
     "name": "stderr",
     "output_type": "stream",
     "text": [
      "\u001b[32m[I 2022-08-16 07:46:37,227]\u001b[0m Trial 235 finished with value: 6906.082352941176 and parameters: {'kErase': 3, 'kRadius': 2, 'kAnnealingA': 0.05064460505731938, 'kAnnealingB': 2.4445880097956163, 'kAnnealingStart': 44.06317253093253, 'kSkipRatio': 0.724514047790808, 'kTargetDeterminationTrials': 14, 'kAttractionRatio': 0.03352855305118413, 'kMaxAttractionDistance': 86, 'kStartAttraction': 0.003404858515317191}. Best is trial 216 with value: 7023.15294117647.\u001b[0m\n"
     ]
    },
    {
     "name": "stdout",
     "output_type": "stream",
     "text": [
      "index_parallel='0237'\n"
     ]
    },
    {
     "name": "stderr",
     "output_type": "stream",
     "text": [
      "\u001b[32m[I 2022-08-16 07:49:58,075]\u001b[0m Trial 237 finished with value: 6945.588235294118 and parameters: {'kErase': 3, 'kRadius': 2, 'kAnnealingA': 2.190268481262855, 'kAnnealingB': 2.5798739918945826, 'kAnnealingStart': 47.71991227785531, 'kSkipRatio': 0.6644150245315646, 'kTargetDeterminationTrials': 15, 'kAttractionRatio': 0.029296084944607025, 'kMaxAttractionDistance': 74, 'kStartAttraction': 0.0019637216723808865}. Best is trial 216 with value: 7023.15294117647.\u001b[0m\n"
     ]
    },
    {
     "name": "stdout",
     "output_type": "stream",
     "text": [
      "index_parallel='0239'\n"
     ]
    },
    {
     "name": "stderr",
     "output_type": "stream",
     "text": [
      "\u001b[32m[I 2022-08-16 07:53:19,287]\u001b[0m Trial 239 finished with value: 6909.123529411765 and parameters: {'kErase': 3, 'kRadius': 2, 'kAnnealingA': -0.3506587522129797, 'kAnnealingB': 2.4933354296669394, 'kAnnealingStart': 29.7120812913559, 'kSkipRatio': 0.7407814729461676, 'kTargetDeterminationTrials': 17, 'kAttractionRatio': 0.04365407060614147, 'kMaxAttractionDistance': 91, 'kStartAttraction': 0.0024664844396646074}. Best is trial 216 with value: 7023.15294117647.\u001b[0m\n"
     ]
    },
    {
     "name": "stdout",
     "output_type": "stream",
     "text": [
      "index_parallel='0241'\n"
     ]
    },
    {
     "name": "stderr",
     "output_type": "stream",
     "text": [
      "\u001b[32m[I 2022-08-16 07:56:41,672]\u001b[0m Trial 241 finished with value: 6974.964705882353 and parameters: {'kErase': 3, 'kRadius': 2, 'kAnnealingA': 1.627050674983437, 'kAnnealingB': 2.3932041127907686, 'kAnnealingStart': 38.46817110281257, 'kSkipRatio': 0.6987847901113375, 'kTargetDeterminationTrials': 19, 'kAttractionRatio': 0.03905943516545669, 'kMaxAttractionDistance': 68, 'kStartAttraction': 0.005051252474407085}. Best is trial 216 with value: 7023.15294117647.\u001b[0m\n"
     ]
    },
    {
     "name": "stdout",
     "output_type": "stream",
     "text": [
      "index_parallel='0243'\n"
     ]
    },
    {
     "name": "stderr",
     "output_type": "stream",
     "text": [
      "\u001b[32m[I 2022-08-16 08:00:02,479]\u001b[0m Trial 243 finished with value: 6922.717647058824 and parameters: {'kErase': 3, 'kRadius': 2, 'kAnnealingA': 1.1109665755371703, 'kAnnealingB': 2.360160199151738, 'kAnnealingStart': 52.028336624779904, 'kSkipRatio': 0.7262217953384088, 'kTargetDeterminationTrials': 16, 'kAttractionRatio': 0.03591098937905454, 'kMaxAttractionDistance': 77, 'kStartAttraction': 0.003319988704064431}. Best is trial 216 with value: 7023.15294117647.\u001b[0m\n"
     ]
    },
    {
     "name": "stdout",
     "output_type": "stream",
     "text": [
      "index_parallel='0245'\n"
     ]
    },
    {
     "name": "stderr",
     "output_type": "stream",
     "text": [
      "\u001b[32m[I 2022-08-16 08:03:23,257]\u001b[0m Trial 245 finished with value: 6992.335294117647 and parameters: {'kErase': 3, 'kRadius': 2, 'kAnnealingA': 0.5178299514484637, 'kAnnealingB': 2.422693128577647, 'kAnnealingStart': 42.89585823494791, 'kSkipRatio': 0.7144723591753144, 'kTargetDeterminationTrials': 14, 'kAttractionRatio': 0.03111824382726859, 'kMaxAttractionDistance': 7, 'kStartAttraction': 0.002628805795116572}. Best is trial 216 with value: 7023.15294117647.\u001b[0m\n"
     ]
    },
    {
     "name": "stdout",
     "output_type": "stream",
     "text": [
      "index_parallel='0247'\n"
     ]
    },
    {
     "name": "stderr",
     "output_type": "stream",
     "text": [
      "\u001b[32m[I 2022-08-16 08:06:44,164]\u001b[0m Trial 247 finished with value: 6969.058823529412 and parameters: {'kErase': 3, 'kRadius': 2, 'kAnnealingA': 0.4047193782813435, 'kAnnealingB': 1.3627102615295514, 'kAnnealingStart': 42.328435176060815, 'kSkipRatio': 0.687306098778787, 'kTargetDeterminationTrials': 16, 'kAttractionRatio': 0.03103872579663369, 'kMaxAttractionDistance': 14, 'kStartAttraction': 0.002591738381542193}. Best is trial 216 with value: 7023.15294117647.\u001b[0m\n"
     ]
    },
    {
     "name": "stdout",
     "output_type": "stream",
     "text": [
      "index_parallel='0249'\n"
     ]
    },
    {
     "name": "stderr",
     "output_type": "stream",
     "text": [
      "\u001b[32m[I 2022-08-16 08:10:05,179]\u001b[0m Trial 249 finished with value: 6921.676470588235 and parameters: {'kErase': 3, 'kRadius': 2, 'kAnnealingA': 1.3437699658905173, 'kAnnealingB': 2.51935843532626, 'kAnnealingStart': 47.19087991348135, 'kSkipRatio': 0.7088837178875613, 'kTargetDeterminationTrials': 18, 'kAttractionRatio': 0.04667173631823619, 'kMaxAttractionDistance': 5, 'kStartAttraction': 0.0020485281016789265}. Best is trial 216 with value: 7023.15294117647.\u001b[0m\n"
     ]
    },
    {
     "name": "stdout",
     "output_type": "stream",
     "text": [
      "index_parallel='0251'\n"
     ]
    },
    {
     "name": "stderr",
     "output_type": "stream",
     "text": [
      "\u001b[32m[I 2022-08-16 08:13:26,037]\u001b[0m Trial 251 finished with value: 6759.494117647058 and parameters: {'kErase': 3, 'kRadius': 2, 'kAnnealingA': -0.3030886443443441, 'kAnnealingB': 2.427788571315795, 'kAnnealingStart': 37.97710315727515, 'kSkipRatio': 0.47359064386022315, 'kTargetDeterminationTrials': 13, 'kAttractionRatio': 0.026631624791981983, 'kMaxAttractionDistance': 12, 'kStartAttraction': 0.004583503435535978}. Best is trial 216 with value: 7023.15294117647.\u001b[0m\n"
     ]
    },
    {
     "name": "stdout",
     "output_type": "stream",
     "text": [
      "index_parallel='0253'\n"
     ]
    },
    {
     "name": "stderr",
     "output_type": "stream",
     "text": [
      "\u001b[32m[I 2022-08-16 08:16:46,678]\u001b[0m Trial 253 finished with value: 6439.670588235294 and parameters: {'kErase': 3, 'kRadius': 2, 'kAnnealingA': -1.4696914180976102, 'kAnnealingB': 2.6187838685551093, 'kAnnealingStart': 1.016892324322121, 'kSkipRatio': 0.7008985693774272, 'kTargetDeterminationTrials': 14, 'kAttractionRatio': 0.040833851816817895, 'kMaxAttractionDistance': 93, 'kStartAttraction': 0.003832726495040113}. Best is trial 216 with value: 7023.15294117647.\u001b[0m\n"
     ]
    },
    {
     "name": "stdout",
     "output_type": "stream",
     "text": [
      "index_parallel='0255'\n"
     ]
    },
    {
     "name": "stderr",
     "output_type": "stream",
     "text": [
      "\u001b[32m[I 2022-08-16 08:20:07,885]\u001b[0m Trial 255 finished with value: 6680.952941176471 and parameters: {'kErase': 3, 'kRadius': 2, 'kAnnealingA': 0.7137841605437854, 'kAnnealingB': 2.474507019554763, 'kAnnealingStart': 8.815305039829068, 'kSkipRatio': 0.6897592608182962, 'kTargetDeterminationTrials': 13, 'kAttractionRatio': 0.034496564686419866, 'kMaxAttractionDistance': 86, 'kStartAttraction': 0.005396894874337506}. Best is trial 216 with value: 7023.15294117647.\u001b[0m\n"
     ]
    },
    {
     "name": "stdout",
     "output_type": "stream",
     "text": [
      "index_parallel='0257'\n"
     ]
    },
    {
     "name": "stderr",
     "output_type": "stream",
     "text": [
      "\u001b[32m[I 2022-08-16 08:23:28,527]\u001b[0m Trial 257 finished with value: 6926.817647058823 and parameters: {'kErase': 3, 'kRadius': 2, 'kAnnealingA': -0.6468026071622783, 'kAnnealingB': 1.4790477030465896, 'kAnnealingStart': 31.713096943103, 'kSkipRatio': 0.6591895232087356, 'kTargetDeterminationTrials': 14, 'kAttractionRatio': 0.050843849909834114, 'kMaxAttractionDistance': 93, 'kStartAttraction': 0.005545295159256299}. Best is trial 216 with value: 7023.15294117647.\u001b[0m\n"
     ]
    },
    {
     "name": "stdout",
     "output_type": "stream",
     "text": [
      "index_parallel='0258'\n"
     ]
    },
    {
     "name": "stderr",
     "output_type": "stream",
     "text": [
      "\u001b[32m[I 2022-08-16 08:26:49,606]\u001b[0m Trial 258 finished with value: 6952.358823529412 and parameters: {'kErase': 3, 'kRadius': 2, 'kAnnealingA': 2.488201897377153, 'kAnnealingB': 2.410455953613475, 'kAnnealingStart': 37.125984245178955, 'kSkipRatio': 0.6754203847093404, 'kTargetDeterminationTrials': 20, 'kAttractionRatio': 0.04266628444125738, 'kMaxAttractionDistance': 81, 'kStartAttraction': 0.004680082644893266}. Best is trial 216 with value: 7023.15294117647.\u001b[0m\n"
     ]
    },
    {
     "name": "stdout",
     "output_type": "stream",
     "text": [
      "index_parallel='0259'\n"
     ]
    },
    {
     "name": "stderr",
     "output_type": "stream",
     "text": [
      "\u001b[32m[I 2022-08-16 08:30:10,298]\u001b[0m Trial 259 finished with value: 6976.170588235294 and parameters: {'kErase': 3, 'kRadius': 2, 'kAnnealingA': -0.07870394974787659, 'kAnnealingB': 2.2565960514533834, 'kAnnealingStart': 36.50544430930475, 'kSkipRatio': 0.6861522576586931, 'kTargetDeterminationTrials': 13, 'kAttractionRatio': 0.044119774357504096, 'kMaxAttractionDistance': 94, 'kStartAttraction': 0.004351573484945017}. Best is trial 216 with value: 7023.15294117647.\u001b[0m\n"
     ]
    },
    {
     "name": "stdout",
     "output_type": "stream",
     "text": [
      "index_parallel='0260'\n"
     ]
    },
    {
     "name": "stderr",
     "output_type": "stream",
     "text": [
      "\u001b[32m[I 2022-08-16 08:33:31,002]\u001b[0m Trial 260 finished with value: 6989.935294117647 and parameters: {'kErase': 3, 'kRadius': 2, 'kAnnealingA': -1.0662741421756627, 'kAnnealingB': 2.4286502579914133, 'kAnnealingStart': 50.00911835889925, 'kSkipRatio': 0.705654182586173, 'kTargetDeterminationTrials': 14, 'kAttractionRatio': 0.03823263876436816, 'kMaxAttractionDistance': 87, 'kStartAttraction': 0.006012944411272808}. Best is trial 216 with value: 7023.15294117647.\u001b[0m\n"
     ]
    },
    {
     "name": "stdout",
     "output_type": "stream",
     "text": [
      "index_parallel='0261'\n"
     ]
    },
    {
     "name": "stderr",
     "output_type": "stream",
     "text": [
      "\u001b[32m[I 2022-08-16 08:36:51,699]\u001b[0m Trial 261 finished with value: 6989.476470588235 and parameters: {'kErase': 3, 'kRadius': 2, 'kAnnealingA': -1.1984104341861535, 'kAnnealingB': 2.6143200808101836, 'kAnnealingStart': 52.449670812821516, 'kSkipRatio': 0.671693160010217, 'kTargetDeterminationTrials': 14, 'kAttractionRatio': 0.038971698515933156, 'kMaxAttractionDistance': 88, 'kStartAttraction': 0.005959496876047479}. Best is trial 216 with value: 7023.15294117647.\u001b[0m\n"
     ]
    },
    {
     "name": "stdout",
     "output_type": "stream",
     "text": [
      "index_parallel='0262'\n"
     ]
    },
    {
     "name": "stderr",
     "output_type": "stream",
     "text": [
      "\u001b[32m[I 2022-08-16 08:40:12,745]\u001b[0m Trial 262 finished with value: 7013.488235294118 and parameters: {'kErase': 3, 'kRadius': 2, 'kAnnealingA': -1.2522827288996297, 'kAnnealingB': 2.417188414438016, 'kAnnealingStart': 51.31319066727545, 'kSkipRatio': 0.6741771455302163, 'kTargetDeterminationTrials': 12, 'kAttractionRatio': 0.038429997297560414, 'kMaxAttractionDistance': 88, 'kStartAttraction': 0.005839940352472492}. Best is trial 216 with value: 7023.15294117647.\u001b[0m\n"
     ]
    },
    {
     "name": "stdout",
     "output_type": "stream",
     "text": [
      "index_parallel='0263'\n"
     ]
    },
    {
     "name": "stderr",
     "output_type": "stream",
     "text": [
      "\u001b[32m[I 2022-08-16 08:43:33,517]\u001b[0m Trial 263 finished with value: 6959.170588235294 and parameters: {'kErase': 3, 'kRadius': 2, 'kAnnealingA': -0.9638636412350121, 'kAnnealingB': 2.668017314702978, 'kAnnealingStart': 48.72595508247361, 'kSkipRatio': 0.646164122373578, 'kTargetDeterminationTrials': 12, 'kAttractionRatio': 0.05287009403278154, 'kMaxAttractionDistance': 7, 'kStartAttraction': 0.006329599897004786}. Best is trial 216 with value: 7023.15294117647.\u001b[0m\n"
     ]
    },
    {
     "name": "stdout",
     "output_type": "stream",
     "text": [
      "index_parallel='0264'\n"
     ]
    },
    {
     "name": "stderr",
     "output_type": "stream",
     "text": [
      "\u001b[32m[I 2022-08-16 08:46:54,392]\u001b[0m Trial 264 finished with value: 6973.947058823529 and parameters: {'kErase': 3, 'kRadius': 2, 'kAnnealingA': -1.1043722250841872, 'kAnnealingB': 2.587940675806197, 'kAnnealingStart': 51.919976081374124, 'kSkipRatio': 0.6705567444992627, 'kTargetDeterminationTrials': 12, 'kAttractionRatio': 0.038412725236934085, 'kMaxAttractionDistance': 87, 'kStartAttraction': 0.005327667949792965}. Best is trial 216 with value: 7023.15294117647.\u001b[0m\n"
     ]
    },
    {
     "name": "stdout",
     "output_type": "stream",
     "text": [
      "index_parallel='0265'\n"
     ]
    },
    {
     "name": "stderr",
     "output_type": "stream",
     "text": [
      "\u001b[32m[I 2022-08-16 08:50:14,868]\u001b[0m Trial 265 finished with value: 6993.588235294118 and parameters: {'kErase': 3, 'kRadius': 2, 'kAnnealingA': -0.4391438702893947, 'kAnnealingB': 2.4359626931271596, 'kAnnealingStart': 51.20976167505021, 'kSkipRatio': 0.6686311796363683, 'kTargetDeterminationTrials': 13, 'kAttractionRatio': 0.04496389231450746, 'kMaxAttractionDistance': 82, 'kStartAttraction': 0.006486368268356215}. Best is trial 216 with value: 7023.15294117647.\u001b[0m\n"
     ]
    },
    {
     "name": "stdout",
     "output_type": "stream",
     "text": [
      "index_parallel='0267'\n"
     ]
    },
    {
     "name": "stderr",
     "output_type": "stream",
     "text": [
      "\u001b[32m[I 2022-08-16 08:53:35,858]\u001b[0m Trial 267 finished with value: 6992.6 and parameters: {'kErase': 3, 'kRadius': 2, 'kAnnealingA': -0.4498540076979404, 'kAnnealingB': 2.419312915890008, 'kAnnealingStart': 50.040347652512224, 'kSkipRatio': 0.6533827921359351, 'kTargetDeterminationTrials': 13, 'kAttractionRatio': 0.038201275003998524, 'kMaxAttractionDistance': 90, 'kStartAttraction': 0.004509378606189663}. Best is trial 216 with value: 7023.15294117647.\u001b[0m\n"
     ]
    },
    {
     "name": "stdout",
     "output_type": "stream",
     "text": [
      "index_parallel='0269'\n"
     ]
    },
    {
     "name": "stderr",
     "output_type": "stream",
     "text": [
      "\u001b[32m[I 2022-08-16 08:56:56,466]\u001b[0m Trial 269 finished with value: 6968.441176470588 and parameters: {'kErase': 3, 'kRadius': 2, 'kAnnealingA': 0.13663452468648907, 'kAnnealingB': 2.4717691147061585, 'kAnnealingStart': 44.48470360651033, 'kSkipRatio': 0.6404877063479164, 'kTargetDeterminationTrials': 14, 'kAttractionRatio': 0.03848563772873488, 'kMaxAttractionDistance': 82, 'kStartAttraction': 0.00593206723452787}. Best is trial 216 with value: 7023.15294117647.\u001b[0m\n"
     ]
    },
    {
     "name": "stdout",
     "output_type": "stream",
     "text": [
      "index_parallel='0271'\n"
     ]
    },
    {
     "name": "stderr",
     "output_type": "stream",
     "text": [
      "\u001b[32m[I 2022-08-16 09:00:17,509]\u001b[0m Trial 271 finished with value: 6969.252941176471 and parameters: {'kErase': 3, 'kRadius': 2, 'kAnnealingA': -0.0915136819051885, 'kAnnealingB': 2.395066744410871, 'kAnnealingStart': 50.91251228891878, 'kSkipRatio': 0.6805005467008995, 'kTargetDeterminationTrials': 12, 'kAttractionRatio': 0.031754335503760334, 'kMaxAttractionDistance': 83, 'kStartAttraction': 0.004303073919746186}. Best is trial 216 with value: 7023.15294117647.\u001b[0m\n"
     ]
    },
    {
     "name": "stdout",
     "output_type": "stream",
     "text": [
      "index_parallel='0273'\n"
     ]
    },
    {
     "name": "stderr",
     "output_type": "stream",
     "text": [
      "\u001b[32m[I 2022-08-16 09:03:38,301]\u001b[0m Trial 273 finished with value: 6980.770588235294 and parameters: {'kErase': 3, 'kRadius': 2, 'kAnnealingA': 0.9788556534921835, 'kAnnealingB': 2.6183443591712723, 'kAnnealingStart': 33.81740281615389, 'kSkipRatio': 0.6977234567813745, 'kTargetDeterminationTrials': 13, 'kAttractionRatio': 0.045937039069994655, 'kMaxAttractionDistance': 92, 'kStartAttraction': 0.003958138690692778}. Best is trial 216 with value: 7023.15294117647.\u001b[0m\n"
     ]
    },
    {
     "name": "stdout",
     "output_type": "stream",
     "text": [
      "index_parallel='0275'\n"
     ]
    },
    {
     "name": "stderr",
     "output_type": "stream",
     "text": [
      "\u001b[32m[I 2022-08-16 09:06:59,624]\u001b[0m Trial 275 finished with value: 6863.570588235294 and parameters: {'kErase': 3, 'kRadius': 5, 'kAnnealingA': 0.5274133665610365, 'kAnnealingB': 2.6190333377602144, 'kAnnealingStart': 34.77866084918534, 'kSkipRatio': 0.7059831044761841, 'kTargetDeterminationTrials': 13, 'kAttractionRatio': 0.045559542873411976, 'kMaxAttractionDistance': 92, 'kStartAttraction': 0.0036479377261231754}. Best is trial 216 with value: 7023.15294117647.\u001b[0m\n"
     ]
    },
    {
     "name": "stdout",
     "output_type": "stream",
     "text": [
      "index_parallel='0277'\n"
     ]
    },
    {
     "name": "stderr",
     "output_type": "stream",
     "text": [
      "\u001b[32m[I 2022-08-16 09:10:20,672]\u001b[0m Trial 277 finished with value: 6528.35294117647 and parameters: {'kErase': 3, 'kRadius': 2, 'kAnnealingA': 1.8486232743356745, 'kAnnealingB': 2.729213650794272, 'kAnnealingStart': 1.3445245396908725, 'kSkipRatio': 0.5321577605587977, 'kTargetDeterminationTrials': 14, 'kAttractionRatio': 0.041948792463043054, 'kMaxAttractionDistance': 88, 'kStartAttraction': 0.003999052143381443}. Best is trial 216 with value: 7023.15294117647.\u001b[0m\n"
     ]
    },
    {
     "name": "stdout",
     "output_type": "stream",
     "text": [
      "index_parallel='0279'\n"
     ]
    },
    {
     "name": "stderr",
     "output_type": "stream",
     "text": [
      "\u001b[32m[I 2022-08-16 09:13:41,628]\u001b[0m Trial 279 finished with value: 6872.476470588235 and parameters: {'kErase': 3, 'kRadius': 2, 'kAnnealingA': 1.1640671642771, 'kAnnealingB': 2.5514871724947823, 'kAnnealingStart': 31.33849446272018, 'kSkipRatio': 0.6510867281519338, 'kTargetDeterminationTrials': 15, 'kAttractionRatio': 0.7097736449698463, 'kMaxAttractionDistance': 79, 'kStartAttraction': 0.004841995694382838}. Best is trial 216 with value: 7023.15294117647.\u001b[0m\n"
     ]
    },
    {
     "name": "stdout",
     "output_type": "stream",
     "text": [
      "index_parallel='0281'\n"
     ]
    },
    {
     "name": "stderr",
     "output_type": "stream",
     "text": [
      "\u001b[32m[I 2022-08-16 09:17:02,594]\u001b[0m Trial 281 finished with value: 6968.552941176471 and parameters: {'kErase': 3, 'kRadius': 2, 'kAnnealingA': -0.6059996196643087, 'kAnnealingB': 2.3447815831751253, 'kAnnealingStart': 39.780744123306306, 'kSkipRatio': 0.6235223525990115, 'kTargetDeterminationTrials': 14, 'kAttractionRatio': 0.03631532405151701, 'kMaxAttractionDistance': 20, 'kStartAttraction': 0.0037212356779483652}. Best is trial 216 with value: 7023.15294117647.\u001b[0m\n"
     ]
    },
    {
     "name": "stdout",
     "output_type": "stream",
     "text": [
      "index_parallel='0283'\n"
     ]
    },
    {
     "name": "stderr",
     "output_type": "stream",
     "text": [
      "\u001b[32m[I 2022-08-16 09:20:23,595]\u001b[0m Trial 283 finished with value: 6861.8117647058825 and parameters: {'kErase': 3, 'kRadius': 4, 'kAnnealingA': 0.35406615960529986, 'kAnnealingB': 2.438039434611653, 'kAnnealingStart': 23.42930925980698, 'kSkipRatio': 0.7168075681253067, 'kTargetDeterminationTrials': 12, 'kAttractionRatio': 0.03846391199280642, 'kMaxAttractionDistance': 84, 'kStartAttraction': 0.002571650671412867}. Best is trial 216 with value: 7023.15294117647.\u001b[0m\n"
     ]
    },
    {
     "name": "stdout",
     "output_type": "stream",
     "text": [
      "index_parallel='0285'\n"
     ]
    },
    {
     "name": "stderr",
     "output_type": "stream",
     "text": [
      "\u001b[32m[I 2022-08-16 09:23:44,205]\u001b[0m Trial 285 finished with value: 6982.835294117647 and parameters: {'kErase': 3, 'kRadius': 2, 'kAnnealingA': -1.2503450041902178, 'kAnnealingB': 2.4428944785279665, 'kAnnealingStart': 46.89186922733851, 'kSkipRatio': 0.695485104768069, 'kTargetDeterminationTrials': 13, 'kAttractionRatio': 0.03200205037122832, 'kMaxAttractionDistance': 87, 'kStartAttraction': 0.24768557426393267}. Best is trial 216 with value: 7023.15294117647.\u001b[0m\n"
     ]
    },
    {
     "name": "stdout",
     "output_type": "stream",
     "text": [
      "index_parallel='0287'\n"
     ]
    },
    {
     "name": "stderr",
     "output_type": "stream",
     "text": [
      "\u001b[32m[I 2022-08-16 09:27:05,033]\u001b[0m Trial 287 finished with value: 6970.252941176471 and parameters: {'kErase': 3, 'kRadius': 2, 'kAnnealingA': -1.44802103932708, 'kAnnealingB': 2.3833136396310612, 'kAnnealingStart': 54.39085994141381, 'kSkipRatio': 0.6726730215604226, 'kTargetDeterminationTrials': 11, 'kAttractionRatio': 0.023819682694232708, 'kMaxAttractionDistance': 93, 'kStartAttraction': 0.26139332811076743}. Best is trial 216 with value: 7023.15294117647.\u001b[0m\n"
     ]
    },
    {
     "name": "stdout",
     "output_type": "stream",
     "text": [
      "index_parallel='0289'\n"
     ]
    },
    {
     "name": "stderr",
     "output_type": "stream",
     "text": [
      "\u001b[32m[I 2022-08-16 09:30:25,820]\u001b[0m Trial 289 finished with value: 6887.605882352941 and parameters: {'kErase': 3, 'kRadius': 2, 'kAnnealingA': 8.704526728371265, 'kAnnealingB': 2.416998366928422, 'kAnnealingStart': 26.484572813003535, 'kSkipRatio': 0.6924170789310135, 'kTargetDeterminationTrials': 12, 'kAttractionRatio': 0.03249784375430821, 'kMaxAttractionDistance': 88, 'kStartAttraction': 0.005642270699704562}. Best is trial 216 with value: 7023.15294117647.\u001b[0m\n"
     ]
    },
    {
     "name": "stdout",
     "output_type": "stream",
     "text": [
      "index_parallel='0291'\n"
     ]
    },
    {
     "name": "stderr",
     "output_type": "stream",
     "text": [
      "\u001b[32m[I 2022-08-16 09:33:46,574]\u001b[0m Trial 291 finished with value: 6978.705882352941 and parameters: {'kErase': 3, 'kRadius': 2, 'kAnnealingA': -0.16785831097019988, 'kAnnealingB': 2.624233394743604, 'kAnnealingStart': 48.62815669528814, 'kSkipRatio': 0.684092432972594, 'kTargetDeterminationTrials': 10, 'kAttractionRatio': 0.02860218930143148, 'kMaxAttractionDistance': 99, 'kStartAttraction': 0.007539756702275944}. Best is trial 216 with value: 7023.15294117647.\u001b[0m\n"
     ]
    },
    {
     "name": "stdout",
     "output_type": "stream",
     "text": [
      "index_parallel='0293'\n"
     ]
    },
    {
     "name": "stderr",
     "output_type": "stream",
     "text": [
      "\u001b[32m[I 2022-08-16 09:37:07,715]\u001b[0m Trial 293 finished with value: 6938.905882352941 and parameters: {'kErase': 3, 'kRadius': 2, 'kAnnealingA': 0.8463456244113045, 'kAnnealingB': 2.3259977647211714, 'kAnnealingStart': 58.59004001792168, 'kSkipRatio': 0.7135518750401835, 'kTargetDeterminationTrials': 14, 'kAttractionRatio': 0.05118317566888017, 'kMaxAttractionDistance': 84, 'kStartAttraction': 0.0021363654274750947}. Best is trial 216 with value: 7023.15294117647.\u001b[0m\n"
     ]
    },
    {
     "name": "stdout",
     "output_type": "stream",
     "text": [
      "index_parallel='0295'\n"
     ]
    },
    {
     "name": "stderr",
     "output_type": "stream",
     "text": [
      "\u001b[32m[I 2022-08-16 09:40:28,432]\u001b[0m Trial 295 finished with value: 6977.670588235294 and parameters: {'kErase': 3, 'kRadius': 2, 'kAnnealingA': -0.7867969787899841, 'kAnnealingB': 2.520931689484584, 'kAnnealingStart': 36.22741159906196, 'kSkipRatio': 0.6571518468529668, 'kTargetDeterminationTrials': 13, 'kAttractionRatio': 0.04429372795493823, 'kMaxAttractionDistance': 80, 'kStartAttraction': 0.02646962843914583}. Best is trial 216 with value: 7023.15294117647.\u001b[0m\n"
     ]
    },
    {
     "name": "stdout",
     "output_type": "stream",
     "text": [
      "index_parallel='0297'\n"
     ]
    },
    {
     "name": "stderr",
     "output_type": "stream",
     "text": [
      "\u001b[32m[I 2022-08-16 09:43:49,085]\u001b[0m Trial 297 finished with value: 6933.894117647059 and parameters: {'kErase': 3, 'kRadius': 2, 'kAnnealingA': -1.642934774829548, 'kAnnealingB': 2.4524367743624804, 'kAnnealingStart': 42.50708659017231, 'kSkipRatio': 0.7328205039913993, 'kTargetDeterminationTrials': 12, 'kAttractionRatio': 0.03393777491839643, 'kMaxAttractionDistance': 77, 'kStartAttraction': 0.04009208657696528}. Best is trial 216 with value: 7023.15294117647.\u001b[0m\n"
     ]
    },
    {
     "name": "stdout",
     "output_type": "stream",
     "text": [
      "index_parallel='0299'\n"
     ]
    },
    {
     "name": "stderr",
     "output_type": "stream",
     "text": [
      "\u001b[32m[I 2022-08-16 09:47:09,980]\u001b[0m Trial 299 finished with value: 6914.729411764706 and parameters: {'kErase': 3, 'kRadius': 6, 'kAnnealingA': -0.4665750397373642, 'kAnnealingB': 2.5745844654694623, 'kAnnealingStart': 51.91093526603753, 'kSkipRatio': 0.6690540157979284, 'kTargetDeterminationTrials': 15, 'kAttractionRatio': 0.030478409602540932, 'kMaxAttractionDistance': 91, 'kStartAttraction': 0.003061027856984315}. Best is trial 216 with value: 7023.15294117647.\u001b[0m\n"
     ]
    },
    {
     "name": "stdout",
     "output_type": "stream",
     "text": [
      "index_parallel='0301'\n"
     ]
    },
    {
     "name": "stderr",
     "output_type": "stream",
     "text": [
      "\u001b[32m[I 2022-08-16 09:50:30,906]\u001b[0m Trial 301 finished with value: 6943.782352941176 and parameters: {'kErase': 3, 'kRadius': 2, 'kAnnealingA': 0.2910656948331517, 'kAnnealingB': 2.364440960433598, 'kAnnealingStart': 45.68280106484094, 'kSkipRatio': 0.6932225967111288, 'kTargetDeterminationTrials': 16, 'kAttractionRatio': 0.041406044432133325, 'kMaxAttractionDistance': 85, 'kStartAttraction': 0.09565965855563205}. Best is trial 216 with value: 7023.15294117647.\u001b[0m\n"
     ]
    },
    {
     "name": "stdout",
     "output_type": "stream",
     "text": [
      "index_parallel='0303'\n"
     ]
    },
    {
     "name": "stderr",
     "output_type": "stream",
     "text": [
      "\u001b[32m[I 2022-08-16 09:53:51,730]\u001b[0m Trial 303 finished with value: 6963.964705882353 and parameters: {'kErase': 3, 'kRadius': 2, 'kAnnealingA': -1.598451051186216, 'kAnnealingB': 2.4439475153160166, 'kAnnealingStart': 58.96585169833364, 'kSkipRatio': 0.7539317099467943, 'kTargetDeterminationTrials': 13, 'kAttractionRatio': 0.036172430977788605, 'kMaxAttractionDistance': 24, 'kStartAttraction': 0.0054955040140928025}. Best is trial 216 with value: 7023.15294117647.\u001b[0m\n"
     ]
    },
    {
     "name": "stdout",
     "output_type": "stream",
     "text": [
      "index_parallel='0305'\n"
     ]
    },
    {
     "name": "stderr",
     "output_type": "stream",
     "text": [
      "\u001b[32m[I 2022-08-16 09:57:12,524]\u001b[0m Trial 305 finished with value: 6655.558823529412 and parameters: {'kErase': 3, 'kRadius': 2, 'kAnnealingA': 12.884811847076168, 'kAnnealingB': 2.3034602753033635, 'kAnnealingStart': 38.867365881880374, 'kSkipRatio': 0.6122890654663403, 'kTargetDeterminationTrials': 14, 'kAttractionRatio': 0.0483811048954181, 'kMaxAttractionDistance': 82, 'kStartAttraction': 0.0025057982950177954}. Best is trial 216 with value: 7023.15294117647.\u001b[0m\n"
     ]
    },
    {
     "name": "stdout",
     "output_type": "stream",
     "text": [
      "index_parallel='0307'\n"
     ]
    },
    {
     "name": "stderr",
     "output_type": "stream",
     "text": [
      "\u001b[32m[I 2022-08-16 10:00:33,520]\u001b[0m Trial 307 finished with value: 5976.376470588235 and parameters: {'kErase': 3, 'kRadius': 2, 'kAnnealingA': 1.2579415574217694, 'kAnnealingB': 2.6735621589298697, 'kAnnealingStart': 53.068356554343374, 'kSkipRatio': 0.3192692956514218, 'kTargetDeterminationTrials': 17, 'kAttractionRatio': 0.028562490686940712, 'kMaxAttractionDistance': 76, 'kStartAttraction': 0.004327774820714566}. Best is trial 216 with value: 7023.15294117647.\u001b[0m\n"
     ]
    },
    {
     "name": "stdout",
     "output_type": "stream",
     "text": [
      "index_parallel='0309'\n"
     ]
    },
    {
     "name": "stderr",
     "output_type": "stream",
     "text": [
      "\u001b[32m[I 2022-08-16 10:03:54,126]\u001b[0m Trial 309 finished with value: 6955.594117647059 and parameters: {'kErase': 3, 'kRadius': 2, 'kAnnealingA': 0.7072905986481158, 'kAnnealingB': 2.5020810339927655, 'kAnnealingStart': 47.213798731625445, 'kSkipRatio': 0.679245821883133, 'kTargetDeterminationTrials': 12, 'kAttractionRatio': 0.040713691747096305, 'kMaxAttractionDistance': 17, 'kStartAttraction': 0.0029807736645670146}. Best is trial 216 with value: 7023.15294117647.\u001b[0m\n"
     ]
    },
    {
     "name": "stdout",
     "output_type": "stream",
     "text": [
      "index_parallel='0311'\n"
     ]
    },
    {
     "name": "stderr",
     "output_type": "stream",
     "text": [
      "\u001b[32m[I 2022-08-16 10:07:16,490]\u001b[0m Trial 311 finished with value: 6972.229411764706 and parameters: {'kErase': 3, 'kRadius': 2, 'kAnnealingA': 0.10688246088990228, 'kAnnealingB': 2.5762536132456932, 'kAnnealingStart': 40.85451010345073, 'kSkipRatio': 0.704064966520216, 'kTargetDeterminationTrials': 16, 'kAttractionRatio': 0.034287610080787505, 'kMaxAttractionDistance': 8, 'kStartAttraction': 0.0034597110337006355}. Best is trial 216 with value: 7023.15294117647.\u001b[0m\n"
     ]
    },
    {
     "name": "stdout",
     "output_type": "stream",
     "text": [
      "index_parallel='0313'\n"
     ]
    },
    {
     "name": "stderr",
     "output_type": "stream",
     "text": [
      "\u001b[32m[I 2022-08-16 10:10:37,341]\u001b[0m Trial 313 finished with value: 6682.952941176471 and parameters: {'kErase': 3, 'kRadius': 3, 'kAnnealingA': 10.054262415904718, 'kAnnealingB': 2.416502919188681, 'kAnnealingStart': 43.61685831067652, 'kSkipRatio': 0.649283361751875, 'kTargetDeterminationTrials': 14, 'kAttractionRatio': 0.04554109301526282, 'kMaxAttractionDistance': 71, 'kStartAttraction': 0.006272472600918996}. Best is trial 216 with value: 7023.15294117647.\u001b[0m\n"
     ]
    },
    {
     "name": "stdout",
     "output_type": "stream",
     "text": [
      "index_parallel='0315'\n"
     ]
    },
    {
     "name": "stderr",
     "output_type": "stream",
     "text": [
      "\u001b[32m[I 2022-08-16 10:13:58,467]\u001b[0m Trial 315 finished with value: 6997.670588235294 and parameters: {'kErase': 3, 'kRadius': 2, 'kAnnealingA': -2.0194766441616316, 'kAnnealingB': 2.372680123175138, 'kAnnealingStart': 63.509823392653814, 'kSkipRatio': 0.7265282470231424, 'kTargetDeterminationTrials': 14, 'kAttractionRatio': 0.05523090758937069, 'kMaxAttractionDistance': 88, 'kStartAttraction': 0.1743551718712008}. Best is trial 216 with value: 7023.15294117647.\u001b[0m\n"
     ]
    },
    {
     "name": "stdout",
     "output_type": "stream",
     "text": [
      "index_parallel='0317'\n"
     ]
    },
    {
     "name": "stderr",
     "output_type": "stream",
     "text": [
      "\u001b[32m[I 2022-08-16 10:17:19,304]\u001b[0m Trial 317 finished with value: 6929.017647058824 and parameters: {'kErase': 3, 'kRadius': 2, 'kAnnealingA': -2.045343658548142, 'kAnnealingB': 2.353096916880619, 'kAnnealingStart': 55.84680652264889, 'kSkipRatio': 0.7427149960009684, 'kTargetDeterminationTrials': 15, 'kAttractionRatio': 0.030914920750114407, 'kMaxAttractionDistance': 84, 'kStartAttraction': 0.18391934180607686}. Best is trial 216 with value: 7023.15294117647.\u001b[0m\n"
     ]
    },
    {
     "name": "stdout",
     "output_type": "stream",
     "text": [
      "index_parallel='0319'\n"
     ]
    },
    {
     "name": "stderr",
     "output_type": "stream",
     "text": [
      "\u001b[32m[I 2022-08-16 10:20:40,583]\u001b[0m Trial 319 finished with value: 6940.629411764706 and parameters: {'kErase': 3, 'kRadius': 2, 'kAnnealingA': -1.5122315367148988, 'kAnnealingB': 2.2503342459847615, 'kAnnealingStart': 66.18377968764392, 'kSkipRatio': 0.7310769822807792, 'kTargetDeterminationTrials': 15, 'kAttractionRatio': 0.06029274651274674, 'kMaxAttractionDistance': 6, 'kStartAttraction': 0.6003915792723685}. Best is trial 216 with value: 7023.15294117647.\u001b[0m\n"
     ]
    },
    {
     "name": "stdout",
     "output_type": "stream",
     "text": [
      "index_parallel='0321'\n"
     ]
    },
    {
     "name": "stderr",
     "output_type": "stream",
     "text": [
      "\u001b[32m[I 2022-08-16 10:24:01,006]\u001b[0m Trial 321 finished with value: 6964.888235294117 and parameters: {'kErase': 3, 'kRadius': 2, 'kAnnealingA': -1.2772352134258889, 'kAnnealingB': 2.359332574882104, 'kAnnealingStart': 49.37158797227036, 'kSkipRatio': 0.7239697250349816, 'kTargetDeterminationTrials': 17, 'kAttractionRatio': 0.05467293736089644, 'kMaxAttractionDistance': 80, 'kStartAttraction': 0.21472630342055596}. Best is trial 216 with value: 7023.15294117647.\u001b[0m\n"
     ]
    },
    {
     "name": "stdout",
     "output_type": "stream",
     "text": [
      "index_parallel='0323'\n"
     ]
    },
    {
     "name": "stderr",
     "output_type": "stream",
     "text": [
      "\u001b[32m[I 2022-08-16 10:27:21,703]\u001b[0m Trial 323 finished with value: 6918.7 and parameters: {'kErase': 3, 'kRadius': 2, 'kAnnealingA': -2.6975855866595166, 'kAnnealingB': 2.2975401222416827, 'kAnnealingStart': 62.822830643115665, 'kSkipRatio': 0.7674316041078939, 'kTargetDeterminationTrials': 19, 'kAttractionRatio': 0.0678471413710901, 'kMaxAttractionDistance': 86, 'kStartAttraction': 0.2781448159671953}. Best is trial 216 with value: 7023.15294117647.\u001b[0m\n"
     ]
    },
    {
     "name": "stdout",
     "output_type": "stream",
     "text": [
      "index_parallel='0325'\n"
     ]
    },
    {
     "name": "stderr",
     "output_type": "stream",
     "text": [
      "\u001b[32m[I 2022-08-16 10:30:42,340]\u001b[0m Trial 325 finished with value: 6973.464705882353 and parameters: {'kErase': 3, 'kRadius': 2, 'kAnnealingA': -2.066646612540789, 'kAnnealingB': 2.29302674911225, 'kAnnealingStart': 66.27074432595545, 'kSkipRatio': 0.6666906752636917, 'kTargetDeterminationTrials': 16, 'kAttractionRatio': 0.05530059898507512, 'kMaxAttractionDistance': 71, 'kStartAttraction': 0.39945090722733345}. Best is trial 216 with value: 7023.15294117647.\u001b[0m\n"
     ]
    },
    {
     "name": "stdout",
     "output_type": "stream",
     "text": [
      "index_parallel='0327'\n"
     ]
    },
    {
     "name": "stderr",
     "output_type": "stream",
     "text": [
      "\u001b[32m[I 2022-08-16 10:34:03,067]\u001b[0m Trial 327 finished with value: 6874.764705882353 and parameters: {'kErase': 3, 'kRadius': 5, 'kAnnealingA': -0.8645486163034056, 'kAnnealingB': 2.374675401396462, 'kAnnealingStart': 54.30427208883713, 'kSkipRatio': 0.6343595960624056, 'kTargetDeterminationTrials': 19, 'kAttractionRatio': 0.048075800831999506, 'kMaxAttractionDistance': 92, 'kStartAttraction': 0.3443372074725981}. Best is trial 216 with value: 7023.15294117647.\u001b[0m\n"
     ]
    },
    {
     "name": "stdout",
     "output_type": "stream",
     "text": [
      "index_parallel='0329'\n"
     ]
    },
    {
     "name": "stderr",
     "output_type": "stream",
     "text": [
      "\u001b[32m[I 2022-08-16 10:37:23,811]\u001b[0m Trial 329 finished with value: 6947.629411764706 and parameters: {'kErase': 3, 'kRadius': 2, 'kAnnealingA': -1.7093625960635637, 'kAnnealingB': 2.453966188264392, 'kAnnealingStart': 48.98886263079367, 'kSkipRatio': 0.682658917483298, 'kTargetDeterminationTrials': 20, 'kAttractionRatio': 0.04336275595937206, 'kMaxAttractionDistance': 81, 'kStartAttraction': 0.3724169443701058}. Best is trial 216 with value: 7023.15294117647.\u001b[0m\n"
     ]
    },
    {
     "name": "stdout",
     "output_type": "stream",
     "text": [
      "index_parallel='0331'\n"
     ]
    },
    {
     "name": "stderr",
     "output_type": "stream",
     "text": [
      "\u001b[32m[I 2022-08-16 10:40:44,294]\u001b[0m Trial 331 finished with value: 6973.929411764706 and parameters: {'kErase': 3, 'kRadius': 2, 'kAnnealingA': -1.1000327461692125, 'kAnnealingB': 2.3167398458170383, 'kAnnealingStart': 59.35229319487292, 'kSkipRatio': 0.7457739295582365, 'kTargetDeterminationTrials': 18, 'kAttractionRatio': 0.05180184673497139, 'kMaxAttractionDistance': 77, 'kStartAttraction': 0.4035936147356643}. Best is trial 216 with value: 7023.15294117647.\u001b[0m\n"
     ]
    },
    {
     "name": "stdout",
     "output_type": "stream",
     "text": [
      "index_parallel='0333'\n"
     ]
    },
    {
     "name": "stderr",
     "output_type": "stream",
     "text": [
      "\u001b[32m[I 2022-08-16 10:44:05,024]\u001b[0m Trial 333 finished with value: 6664.141176470588 and parameters: {'kErase': 3, 'kRadius': 2, 'kAnnealingA': -2.2050344471526326, 'kAnnealingB': 2.129271828884736, 'kAnnealingStart': 52.068948220397814, 'kSkipRatio': 0.42721209956540096, 'kTargetDeterminationTrials': 19, 'kAttractionRatio': 0.05731463332269647, 'kMaxAttractionDistance': 13, 'kStartAttraction': 0.8762885188119355}. Best is trial 216 with value: 7023.15294117647.\u001b[0m\n"
     ]
    },
    {
     "name": "stdout",
     "output_type": "stream",
     "text": [
      "index_parallel='0335'\n"
     ]
    },
    {
     "name": "stderr",
     "output_type": "stream",
     "text": [
      "\u001b[32m[I 2022-08-16 10:47:25,876]\u001b[0m Trial 335 finished with value: 6977.3117647058825 and parameters: {'kErase': 3, 'kRadius': 2, 'kAnnealingA': -3.0906431743286946, 'kAnnealingB': 2.3278609171667632, 'kAnnealingStart': 68.18253545789004, 'kSkipRatio': 0.7146974857767466, 'kTargetDeterminationTrials': 18, 'kAttractionRatio': 0.06375601562282525, 'kMaxAttractionDistance': 7, 'kStartAttraction': 0.5334842118276057}. Best is trial 216 with value: 7023.15294117647.\u001b[0m\n"
     ]
    },
    {
     "name": "stdout",
     "output_type": "stream",
     "text": [
      "index_parallel='0337'\n"
     ]
    },
    {
     "name": "stderr",
     "output_type": "stream",
     "text": [
      "\u001b[32m[I 2022-08-16 10:50:46,765]\u001b[0m Trial 337 finished with value: 6976.835294117647 and parameters: {'kErase': 3, 'kRadius': 2, 'kAnnealingA': -1.709798490805054, 'kAnnealingB': 2.3977810251363536, 'kAnnealingStart': 70.87578593619723, 'kSkipRatio': 0.6741226849026771, 'kTargetDeterminationTrials': 20, 'kAttractionRatio': 0.048507918576393055, 'kMaxAttractionDistance': 72, 'kStartAttraction': 0.4285747751122341}. Best is trial 216 with value: 7023.15294117647.\u001b[0m\n"
     ]
    },
    {
     "name": "stdout",
     "output_type": "stream",
     "text": [
      "index_parallel='0339'\n"
     ]
    },
    {
     "name": "stderr",
     "output_type": "stream",
     "text": [
      "\u001b[32m[I 2022-08-16 10:54:07,649]\u001b[0m Trial 339 finished with value: 6921.14705882353 and parameters: {'kErase': 3, 'kRadius': 2, 'kAnnealingA': -0.42318616347485205, 'kAnnealingB': 2.404064080023776, 'kAnnealingStart': 77.8623154082819, 'kSkipRatio': 0.6853321754821096, 'kTargetDeterminationTrials': 18, 'kAttractionRatio': 0.04491996811181502, 'kMaxAttractionDistance': 9, 'kStartAttraction': 0.6802945945057619}. Best is trial 216 with value: 7023.15294117647.\u001b[0m\n"
     ]
    },
    {
     "name": "stdout",
     "output_type": "stream",
     "text": [
      "index_parallel='0341'\n"
     ]
    },
    {
     "name": "stderr",
     "output_type": "stream",
     "text": [
      "\u001b[32m[I 2022-08-16 10:57:29,703]\u001b[0m Trial 341 finished with value: 6962.029411764706 and parameters: {'kErase': 3, 'kRadius': 2, 'kAnnealingA': -0.810170266484842, 'kAnnealingB': 2.424379718032157, 'kAnnealingStart': 57.62667766088094, 'kSkipRatio': 0.6523258213878881, 'kTargetDeterminationTrials': 20, 'kAttractionRatio': 0.05503199354312991, 'kMaxAttractionDistance': 6, 'kStartAttraction': 0.49797558375840206}. Best is trial 216 with value: 7023.15294117647.\u001b[0m\n"
     ]
    },
    {
     "name": "stdout",
     "output_type": "stream",
     "text": [
      "index_parallel='0343'\n"
     ]
    },
    {
     "name": "stderr",
     "output_type": "stream",
     "text": [
      "\u001b[32m[I 2022-08-16 11:00:50,513]\u001b[0m Trial 343 finished with value: 6480.111764705883 and parameters: {'kErase': 3, 'kRadius': 2, 'kAnnealingA': -1.3877438630557464, 'kAnnealingB': 2.5279819274775064, 'kAnnealingStart': 47.082371583061686, 'kSkipRatio': 0.36094482162087493, 'kTargetDeterminationTrials': 17, 'kAttractionRatio': 0.11956820115685475, 'kMaxAttractionDistance': 5, 'kStartAttraction': 0.856368603694085}. Best is trial 216 with value: 7023.15294117647.\u001b[0m\n"
     ]
    },
    {
     "name": "stdout",
     "output_type": "stream",
     "text": [
      "index_parallel='0345'\n"
     ]
    },
    {
     "name": "stderr",
     "output_type": "stream",
     "text": [
      "\u001b[32m[I 2022-08-16 11:04:11,177]\u001b[0m Trial 345 finished with value: 6997.494117647058 and parameters: {'kErase': 3, 'kRadius': 2, 'kAnnealingA': 0.13173795585546366, 'kAnnealingB': 2.5160222568087383, 'kAnnealingStart': 51.50139021212549, 'kSkipRatio': 0.6389117857245893, 'kTargetDeterminationTrials': 20, 'kAttractionRatio': 0.13404553318768395, 'kMaxAttractionDistance': 99, 'kStartAttraction': 0.7199022713711416}. Best is trial 216 with value: 7023.15294117647.\u001b[0m\n"
     ]
    },
    {
     "name": "stdout",
     "output_type": "stream",
     "text": [
      "index_parallel='0347'\n"
     ]
    },
    {
     "name": "stderr",
     "output_type": "stream",
     "text": [
      "\u001b[32m[I 2022-08-16 11:07:32,095]\u001b[0m Trial 347 finished with value: 6952.235294117647 and parameters: {'kErase': 3, 'kRadius': 2, 'kAnnealingA': -0.020946211883425103, 'kAnnealingB': 2.5249353074595033, 'kAnnealingStart': 43.97590328607523, 'kSkipRatio': 0.6317907055925157, 'kTargetDeterminationTrials': 17, 'kAttractionRatio': 0.1283825757212305, 'kMaxAttractionDistance': 11, 'kStartAttraction': 0.5051741417456899}. Best is trial 216 with value: 7023.15294117647.\u001b[0m\n"
     ]
    },
    {
     "name": "stdout",
     "output_type": "stream",
     "text": [
      "index_parallel='0349'\n"
     ]
    },
    {
     "name": "stderr",
     "output_type": "stream",
     "text": [
      "\u001b[32m[I 2022-08-16 11:10:53,135]\u001b[0m Trial 349 finished with value: 6987.676470588235 and parameters: {'kErase': 3, 'kRadius': 2, 'kAnnealingA': 0.40403653632892483, 'kAnnealingB': 2.558049545682187, 'kAnnealingStart': 48.9428673530826, 'kSkipRatio': 0.6418538472093153, 'kTargetDeterminationTrials': 16, 'kAttractionRatio': 0.16031488573222513, 'kMaxAttractionDistance': 13, 'kStartAttraction': 0.5719108473055118}. Best is trial 216 with value: 7023.15294117647.\u001b[0m\n"
     ]
    },
    {
     "name": "stdout",
     "output_type": "stream",
     "text": [
      "index_parallel='0351'\n"
     ]
    },
    {
     "name": "stderr",
     "output_type": "stream",
     "text": [
      "\u001b[32m[I 2022-08-16 11:14:14,194]\u001b[0m Trial 351 finished with value: 6976.747058823529 and parameters: {'kErase': 3, 'kRadius': 2, 'kAnnealingA': -0.9806309981027999, 'kAnnealingB': 2.6676755318225287, 'kAnnealingStart': 51.02593200221986, 'kSkipRatio': 0.6047887578539612, 'kTargetDeterminationTrials': 18, 'kAttractionRatio': 0.14678312279370134, 'kMaxAttractionDistance': 15, 'kStartAttraction': 0.7826044922066626}. Best is trial 216 with value: 7023.15294117647.\u001b[0m\n"
     ]
    },
    {
     "name": "stdout",
     "output_type": "stream",
     "text": [
      "index_parallel='0353'\n"
     ]
    },
    {
     "name": "stderr",
     "output_type": "stream",
     "text": [
      "\u001b[32m[I 2022-08-16 11:17:35,216]\u001b[0m Trial 353 finished with value: 6898.705882352941 and parameters: {'kErase': 3, 'kRadius': 2, 'kAnnealingA': -0.9619431958352409, 'kAnnealingB': 2.5076750659247935, 'kAnnealingStart': 20.064753838957515, 'kSkipRatio': 0.6490680570186845, 'kTargetDeterminationTrials': 19, 'kAttractionRatio': 0.1207766385336487, 'kMaxAttractionDistance': 10, 'kStartAttraction': 0.4737526259954501}. Best is trial 216 with value: 7023.15294117647.\u001b[0m\n"
     ]
    },
    {
     "name": "stdout",
     "output_type": "stream",
     "text": [
      "index_parallel='0355'\n"
     ]
    },
    {
     "name": "stderr",
     "output_type": "stream",
     "text": [
      "\u001b[32m[I 2022-08-16 11:20:56,024]\u001b[0m Trial 355 finished with value: 6976.641176470588 and parameters: {'kErase': 3, 'kRadius': 2, 'kAnnealingA': -0.24854075083956553, 'kAnnealingB': 2.4918510129473166, 'kAnnealingStart': 46.008944750386036, 'kSkipRatio': 0.6131660219571664, 'kTargetDeterminationTrials': 18, 'kAttractionRatio': 0.1127679786982142, 'kMaxAttractionDistance': 11, 'kStartAttraction': 0.7064930555729051}. Best is trial 216 with value: 7023.15294117647.\u001b[0m\n"
     ]
    },
    {
     "name": "stdout",
     "output_type": "stream",
     "text": [
      "index_parallel='0357'\n"
     ]
    },
    {
     "name": "stderr",
     "output_type": "stream",
     "text": [
      "\u001b[32m[I 2022-08-16 11:24:16,945]\u001b[0m Trial 357 finished with value: 7005.305882352941 and parameters: {'kErase': 3, 'kRadius': 2, 'kAnnealingA': -2.390156816420347, 'kAnnealingB': 2.6116867619013604, 'kAnnealingStart': 52.7794196095218, 'kSkipRatio': 0.6246548387735875, 'kTargetDeterminationTrials': 3, 'kAttractionRatio': 0.13456552854695264, 'kMaxAttractionDistance': 11, 'kStartAttraction': 0.7321516348339604}. Best is trial 216 with value: 7023.15294117647.\u001b[0m\n"
     ]
    },
    {
     "name": "stdout",
     "output_type": "stream",
     "text": [
      "index_parallel='0359'\n"
     ]
    },
    {
     "name": "stderr",
     "output_type": "stream",
     "text": [
      "\u001b[32m[I 2022-08-16 11:27:37,701]\u001b[0m Trial 359 finished with value: 6975.941176470588 and parameters: {'kErase': 3, 'kRadius': 2, 'kAnnealingA': -2.6703759472745343, 'kAnnealingB': 2.691544611532081, 'kAnnealingStart': 53.901193104647355, 'kSkipRatio': 0.6563401459758184, 'kTargetDeterminationTrials': 3, 'kAttractionRatio': 0.13422274562790135, 'kMaxAttractionDistance': 11, 'kStartAttraction': 0.8981984318294671}. Best is trial 216 with value: 7023.15294117647.\u001b[0m\n"
     ]
    },
    {
     "name": "stdout",
     "output_type": "stream",
     "text": [
      "index_parallel='0361'\n"
     ]
    },
    {
     "name": "stderr",
     "output_type": "stream",
     "text": [
      "\u001b[32m[I 2022-08-16 11:30:58,584]\u001b[0m Trial 361 finished with value: 6508.711764705882 and parameters: {'kErase': 3, 'kRadius': 2, 'kAnnealingA': -1.975223219276017, 'kAnnealingB': 2.615682898631755, 'kAnnealingStart': 2.1958907675962465, 'kSkipRatio': 0.6390551274750288, 'kTargetDeterminationTrials': 3, 'kAttractionRatio': 0.11530571001110168, 'kMaxAttractionDistance': 96, 'kStartAttraction': 0.5986427283637403}. Best is trial 216 with value: 7023.15294117647.\u001b[0m\n"
     ]
    },
    {
     "name": "stdout",
     "output_type": "stream",
     "text": [
      "index_parallel='0363'\n"
     ]
    },
    {
     "name": "stderr",
     "output_type": "stream",
     "text": [
      "\u001b[32m[I 2022-08-16 11:34:19,194]\u001b[0m Trial 363 finished with value: 6890.382352941177 and parameters: {'kErase': 3, 'kRadius': 3, 'kAnnealingA': -3.432031118208643, 'kAnnealingB': 2.174592878572313, 'kAnnealingStart': 60.22453268493391, 'kSkipRatio': 0.5840875504044688, 'kTargetDeterminationTrials': 20, 'kAttractionRatio': 0.1519267094466782, 'kMaxAttractionDistance': 11, 'kStartAttraction': 0.6969082804759743}. Best is trial 216 with value: 7023.15294117647.\u001b[0m\n"
     ]
    },
    {
     "name": "stdout",
     "output_type": "stream",
     "text": [
      "index_parallel='0365'\n"
     ]
    },
    {
     "name": "stderr",
     "output_type": "stream",
     "text": [
      "\u001b[32m[I 2022-08-16 11:37:40,123]\u001b[0m Trial 365 finished with value: 6975.264705882353 and parameters: {'kErase': 3, 'kRadius': 2, 'kAnnealingA': 0.4410627890739197, 'kAnnealingB': 2.338563682025179, 'kAnnealingStart': 49.3263251850009, 'kSkipRatio': 0.6590025398586374, 'kTargetDeterminationTrials': 15, 'kAttractionRatio': 0.10698253918319563, 'kMaxAttractionDistance': 90, 'kStartAttraction': 0.8071365680216596}. Best is trial 216 with value: 7023.15294117647.\u001b[0m\n"
     ]
    },
    {
     "name": "stdout",
     "output_type": "stream",
     "text": [
      "index_parallel='0367'\n"
     ]
    },
    {
     "name": "stderr",
     "output_type": "stream",
     "text": [
      "\u001b[32m[I 2022-08-16 11:41:00,862]\u001b[0m Trial 367 finished with value: 6975.529411764706 and parameters: {'kErase': 3, 'kRadius': 2, 'kAnnealingA': -2.389301197892512, 'kAnnealingB': 2.247859474448808, 'kAnnealingStart': 43.340469552911564, 'kSkipRatio': 0.6476303199810662, 'kTargetDeterminationTrials': 20, 'kAttractionRatio': 0.4048283101512143, 'kMaxAttractionDistance': 9, 'kStartAttraction': 0.5651117574026179}. Best is trial 216 with value: 7023.15294117647.\u001b[0m\n"
     ]
    },
    {
     "name": "stdout",
     "output_type": "stream",
     "text": [
      "index_parallel='0369'\n"
     ]
    }
   ],
   "source": [
    "study.optimize(\n",
    "    partial(objective, in_dir=in_dir, work_dir=work_dir),\n",
    "    n_trials=3000,\n",
    "    timeout=86400,\n",
    "    callbacks=[callback]\n",
    ")"
   ]
  },
  {
   "cell_type": "code",
   "execution_count": null,
   "id": "700269d2",
   "metadata": {},
   "outputs": [],
   "source": []
  }
 ],
 "metadata": {
  "kernelspec": {
   "display_name": "Python 3 (ipykernel)",
   "language": "python",
   "name": "python3"
  },
  "language_info": {
   "codemirror_mode": {
    "name": "ipython",
    "version": 3
   },
   "file_extension": ".py",
   "mimetype": "text/x-python",
   "name": "python",
   "nbconvert_exporter": "python",
   "pygments_lexer": "ipython3",
   "version": "3.9.12"
  }
 },
 "nbformat": 4,
 "nbformat_minor": 5
}
