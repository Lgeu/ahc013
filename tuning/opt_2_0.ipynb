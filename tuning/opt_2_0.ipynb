{
 "cells": [
  {
   "cell_type": "code",
   "execution_count": 1,
   "id": "25a1dac8",
   "metadata": {},
   "outputs": [],
   "source": [
    "import re\n",
    "import sys\n",
    "from uuid import uuid1\n",
    "from time import sleep\n",
    "from pprint import pprint\n",
    "from pathlib import Path\n",
    "from tempfile import gettempdir\n",
    "from threading import Thread\n",
    "from functools import partial\n",
    "from subprocess import Popen, PIPE\n",
    "\n",
    "from tqdm.notebook import tqdm\n",
    "import numpy as np\n",
    "import optuna\n",
    "import pandas as pd\n",
    "import matplotlib.pyplot as plt\n",
    "\n",
    "FILENAME = \"main.cpp\""
   ]
  },
  {
   "cell_type": "code",
   "execution_count": 2,
   "id": "3dd4d02e",
   "metadata": {},
   "outputs": [
    {
     "name": "stdout",
     "output_type": "stream",
     "text": [
      "10 variables were found.\n"
     ]
    },
    {
     "data": {
      "text/html": [
       "<div>\n",
       "<style scoped>\n",
       "    .dataframe tbody tr th:only-of-type {\n",
       "        vertical-align: middle;\n",
       "    }\n",
       "\n",
       "    .dataframe tbody tr th {\n",
       "        vertical-align: top;\n",
       "    }\n",
       "\n",
       "    .dataframe thead th {\n",
       "        text-align: right;\n",
       "    }\n",
       "</style>\n",
       "<table border=\"1\" class=\"dataframe\">\n",
       "  <thead>\n",
       "    <tr style=\"text-align: right;\">\n",
       "      <th></th>\n",
       "      <th>name</th>\n",
       "      <th>method</th>\n",
       "      <th>min</th>\n",
       "      <th>max</th>\n",
       "      <th>log</th>\n",
       "      <th>left</th>\n",
       "      <th>right</th>\n",
       "    </tr>\n",
       "  </thead>\n",
       "  <tbody>\n",
       "    <tr>\n",
       "      <th>0</th>\n",
       "      <td>kErase</td>\n",
       "      <td>suggest_int</td>\n",
       "      <td>1.000</td>\n",
       "      <td>5.0</td>\n",
       "      <td>False</td>\n",
       "      <td>static constexpr auto kErase =</td>\n",
       "      <td>;             // OPTIMIZE [1, 5]</td>\n",
       "    </tr>\n",
       "    <tr>\n",
       "      <th>1</th>\n",
       "      <td>kRadius</td>\n",
       "      <td>suggest_int</td>\n",
       "      <td>2.000</td>\n",
       "      <td>6.0</td>\n",
       "      <td>False</td>\n",
       "      <td>static constexpr auto kRadius =</td>\n",
       "      <td>;            // OPTIMIZE [2, 6]</td>\n",
       "    </tr>\n",
       "    <tr>\n",
       "      <th>2</th>\n",
       "      <td>kAnnealingA</td>\n",
       "      <td>suggest_float</td>\n",
       "      <td>-15.000</td>\n",
       "      <td>15.0</td>\n",
       "      <td>False</td>\n",
       "      <td>static constexpr auto kAnnealingA =</td>\n",
       "      <td>;      // OPTIMIZE [-15.0, 15.0]</td>\n",
       "    </tr>\n",
       "    <tr>\n",
       "      <th>3</th>\n",
       "      <td>kAnnealingB</td>\n",
       "      <td>suggest_float</td>\n",
       "      <td>0.000</td>\n",
       "      <td>3.0</td>\n",
       "      <td>False</td>\n",
       "      <td>static constexpr auto kAnnealingB =</td>\n",
       "      <td>;      // OPTIMIZE [0.0, 3.0]</td>\n",
       "    </tr>\n",
       "    <tr>\n",
       "      <th>4</th>\n",
       "      <td>kAnnealingStart</td>\n",
       "      <td>suggest_float</td>\n",
       "      <td>1.000</td>\n",
       "      <td>100.0</td>\n",
       "      <td>True</td>\n",
       "      <td>static constexpr auto kAnnealingStart =</td>\n",
       "      <td>; // OPTIMIZE LOG [1.0, 100.0]</td>\n",
       "    </tr>\n",
       "    <tr>\n",
       "      <th>5</th>\n",
       "      <td>kSkipRatio</td>\n",
       "      <td>suggest_float</td>\n",
       "      <td>0.200</td>\n",
       "      <td>0.8</td>\n",
       "      <td>False</td>\n",
       "      <td>static constexpr auto kSkipRatio =</td>\n",
       "      <td>;       // OPTIMIZE [0.2, 0.8]</td>\n",
       "    </tr>\n",
       "    <tr>\n",
       "      <th>6</th>\n",
       "      <td>kTargetDeterminationTrials</td>\n",
       "      <td>suggest_int</td>\n",
       "      <td>1.000</td>\n",
       "      <td>20.0</td>\n",
       "      <td>True</td>\n",
       "      <td>static constexpr auto kTargetDeterminationTria...</td>\n",
       "      <td>; // OPTIMIZE LOG [1, 20]</td>\n",
       "    </tr>\n",
       "    <tr>\n",
       "      <th>7</th>\n",
       "      <td>kAttractionRatio</td>\n",
       "      <td>suggest_float</td>\n",
       "      <td>0.010</td>\n",
       "      <td>0.9</td>\n",
       "      <td>True</td>\n",
       "      <td>static constexpr auto kAttractionRatio =</td>\n",
       "      <td>;      // OPTIMIZE LOG [0.01, 0.9]</td>\n",
       "    </tr>\n",
       "    <tr>\n",
       "      <th>8</th>\n",
       "      <td>kMaxAttractionDistance</td>\n",
       "      <td>suggest_int</td>\n",
       "      <td>4.000</td>\n",
       "      <td>99.0</td>\n",
       "      <td>True</td>\n",
       "      <td>static constexpr auto kMaxAttractionDistance =</td>\n",
       "      <td>; // OPTIMIZE LOG [4, 99]</td>\n",
       "    </tr>\n",
       "    <tr>\n",
       "      <th>9</th>\n",
       "      <td>kStartAttraction</td>\n",
       "      <td>suggest_float</td>\n",
       "      <td>0.001</td>\n",
       "      <td>0.9</td>\n",
       "      <td>True</td>\n",
       "      <td>static constexpr auto kStartAttraction =</td>\n",
       "      <td>;     // OPTIMIZE LOG [0.001, 0.9]</td>\n",
       "    </tr>\n",
       "  </tbody>\n",
       "</table>\n",
       "</div>"
      ],
      "text/plain": [
       "                         name         method     min    max    log  \\\n",
       "0                      kErase    suggest_int   1.000    5.0  False   \n",
       "1                     kRadius    suggest_int   2.000    6.0  False   \n",
       "2                 kAnnealingA  suggest_float -15.000   15.0  False   \n",
       "3                 kAnnealingB  suggest_float   0.000    3.0  False   \n",
       "4             kAnnealingStart  suggest_float   1.000  100.0   True   \n",
       "5                  kSkipRatio  suggest_float   0.200    0.8  False   \n",
       "6  kTargetDeterminationTrials    suggest_int   1.000   20.0   True   \n",
       "7            kAttractionRatio  suggest_float   0.010    0.9   True   \n",
       "8      kMaxAttractionDistance    suggest_int   4.000   99.0   True   \n",
       "9            kStartAttraction  suggest_float   0.001    0.9   True   \n",
       "\n",
       "                                                left  \\\n",
       "0                    static constexpr auto kErase =    \n",
       "1                   static constexpr auto kRadius =    \n",
       "2               static constexpr auto kAnnealingA =    \n",
       "3               static constexpr auto kAnnealingB =    \n",
       "4           static constexpr auto kAnnealingStart =    \n",
       "5                static constexpr auto kSkipRatio =    \n",
       "6  static constexpr auto kTargetDeterminationTria...   \n",
       "7          static constexpr auto kAttractionRatio =    \n",
       "8    static constexpr auto kMaxAttractionDistance =    \n",
       "9          static constexpr auto kStartAttraction =    \n",
       "\n",
       "                                right  \n",
       "0    ;             // OPTIMIZE [1, 5]  \n",
       "1     ;            // OPTIMIZE [2, 6]  \n",
       "2    ;      // OPTIMIZE [-15.0, 15.0]  \n",
       "3       ;      // OPTIMIZE [0.0, 3.0]  \n",
       "4      ; // OPTIMIZE LOG [1.0, 100.0]  \n",
       "5      ;       // OPTIMIZE [0.2, 0.8]  \n",
       "6           ; // OPTIMIZE LOG [1, 20]  \n",
       "7  ;      // OPTIMIZE LOG [0.01, 0.9]  \n",
       "8           ; // OPTIMIZE LOG [4, 99]  \n",
       "9  ;     // OPTIMIZE LOG [0.001, 0.9]  "
      ]
     },
     "metadata": {},
     "output_type": "display_data"
    }
   ],
   "source": [
    "# ここでエラー出力は何かおかしいかもしれない\n",
    "\n",
    "\n",
    "# パラメータ抽出\n",
    "with open(FILENAME) as f:\n",
    "    answer = f.read()\n",
    "\n",
    "\n",
    "variables_optimize = []\n",
    "\n",
    "for left, value, right, options in re.findall(r\"^([^/\\n]*=\\s*)(.+?)(\\s*;\\s*//(?:.*\\W)?OPTIMIZE(\\W.*))$\", answer, re.MULTILINE):\n",
    "    name = left.replace(\"=\", \"\").strip().split()[-1]\n",
    "    \n",
    "    searched = re.search(r\".*\\[(?P<min>.*),(?P<max>.*)\\].*\", options)\n",
    "    if searched:\n",
    "        min_value = max_value = None\n",
    "        try:\n",
    "            min_value = eval(searched.group(\"min\"))\n",
    "            max_value = eval(searched.group(\"max\"))\n",
    "            assert min_value <= max_value\n",
    "        except Exception as e:\n",
    "            print(f\"searched={searched}\", file=sys.stderr)\n",
    "            print(e, file=sys.stderr)\n",
    "            continue\n",
    "        log = \"LOG\" in options  # 雑、直したほうが良い\n",
    "        if type(min_value) != type(max_value):\n",
    "            print(f\"searched={searched}\", file=sys.stderr)\n",
    "            print(\"types not matched\", file=sys.stderr)\n",
    "            continue\n",
    "        if isinstance(min_value, int):\n",
    "            method = \"suggest_int\"\n",
    "        elif isinstance(min_value, float):\n",
    "            method = \"suggest_float\"\n",
    "        else:\n",
    "            print(f\"searched={searched}\", file=sys.stderr)\n",
    "            print(f\"unknown type ({type(min_value)})\", file=sys.stderr)\n",
    "            continue\n",
    "        variables_optimize.append({\n",
    "            \"name\": name,\n",
    "            \"method\": method,\n",
    "            \"min\": min_value,\n",
    "            \"max\": max_value,\n",
    "            \"log\": log,\n",
    "            \"left\": left,\n",
    "            \"right\": right,\n",
    "        })\n",
    "    elif searched := re.search(r\".*\\{(?P<choices>.*?)\\}.*\", options):\n",
    "        choices = list(map(lambda x: x.strip(), searched.group(\"choices\").split(\",\")))\n",
    "        variables_optimize.append({\n",
    "            \"name\": name,\n",
    "            \"method\": \"suggest_categorical\",\n",
    "            \"choices\": choices,\n",
    "            \"left\": left,\n",
    "            \"right\": right,\n",
    "        })\n",
    "    else:\n",
    "        print(f\"searched={searched}\", file=sys.stderr)\n",
    "        print(f\"pattern was matched but options are incorrect.\", file=sys.stderr)\n",
    "\n",
    "print(len(variables_optimize), \"variables were found.\")\n",
    "if globals().get(\"pd\"):\n",
    "    display(pd.DataFrame(variables_optimize))\n",
    "else:\n",
    "    pprint(variables_optimize)"
   ]
  },
  {
   "cell_type": "code",
   "execution_count": 3,
   "id": "001042b9",
   "metadata": {},
   "outputs": [],
   "source": [
    "def escape(string):  # 正規表現の中でそのまま使いたい文字列をエスケープ\n",
    "    res = !echo '{string}' | sed -e 's/[]\\/$*.^[]/\\\\&/g'\n",
    "    return res[0]\n",
    "\n",
    "def escape_sed(string):  # sed の置換後の文字列用のエスケープ\n",
    "    res = !echo '{string}' | sed -e 's/[\\/&]/\\\\&/g'\n",
    "    return res[0]\n",
    "\n",
    "def read_stream(name, in_file, out_file):\n",
    "    for line in in_file:\n",
    "        print(f\"[{name}] {line.strip()}\", file=out_file)\n",
    "\n",
    "def run(cmd, name):\n",
    "    proc = Popen(cmd, stdout=PIPE, stderr=PIPE, universal_newlines=True, shell=isinstance(cmd, str))\n",
    "    stdout_thread = Thread(target=read_stream, args=(name, proc.stdout, sys.stdout))\n",
    "    stderr_thread = Thread(target=read_stream, args=(name, proc.stderr, sys.stderr))\n",
    "    stdout_thread.start()\n",
    "    stderr_thread.start()\n",
    "    proc.wait()\n",
    "    return proc\n",
    "\n",
    "def objective(trial, in_dir, work_dir):\n",
    "    n_internal_parallel = 3\n",
    "    \n",
    "    index_parallel = f\"{trial.number:04d}\"\n",
    "    print(f\"{index_parallel=}\")\n",
    "    \n",
    "    work_dir = Path(work_dir)\n",
    "    directory_input = Path(in_dir)  # 中のすべてのファイルに対して実行される\n",
    "    #parameters_changed_filename = Path(gettempdir()) / str(uuid1())\n",
    "    parameters_changed_filename = work_dir / f\"{index_parallel}_{FILENAME}\"\n",
    "    \n",
    "    run([\"mkdir\", f\"{work_dir / index_parallel}_out\"], \"mkdir\")\n",
    "    run([\"mkdir\", f\"{work_dir / index_parallel}_score\"], \"mkdir\")\n",
    "    \n",
    "    # ファイル作成\n",
    "    run(f\"cp {FILENAME} {parameters_changed_filename}\", \"cp\")\n",
    "    sed_options = [f\"-i {parameters_changed_filename}\"]\n",
    "    for variable in variables_optimize:\n",
    "        if variable[\"method\"] == \"suggest_categorical\":\n",
    "            val =  trial.suggest_categorical(variable[\"name\"], variable[\"choices\"])\n",
    "        else:\n",
    "            val = getattr(trial, variable[\"method\"])(variable[\"name\"], variable[\"min\"], variable[\"max\"], log=variable[\"log\"])\n",
    "        left = variable[\"left\"]\n",
    "        right = variable[\"right\"]\n",
    "        sed_options.append(f\"\"\"-e 's/^{escape(left)}.*{escape(right)}$/{escape_sed(left)}{val}{escape_sed(right)}/'\"\"\")\n",
    "    command_sed = f\"sed {' '.join(sed_options)}\"\n",
    "    #print(command_sed)\n",
    "    run(command_sed, \"sed\")\n",
    "    \n",
    "    # コンパイル\n",
    "    command_compile = f\"g++ {parameters_changed_filename} -std=gnu++17 -O2 -DONLINE_JUDGE -o {parameters_changed_filename}.out\"\n",
    "    #print(command_compile)\n",
    "    run(command_compile, \"compile\")\n",
    "    # 実行・採点コマンド (@ はファイル名)\n",
    "    command_exec = (\n",
    "        #f\"./a.out < ./tools/in/{i:04d}.txt > {out_file} && ./tools/target/release/vis ./tools/in/{i:04d}.txt {out_file}\"\n",
    "        #f\"../tools/target/release/tester $(pwd)/{parameters_changed_filename}.out < {directory_input}/@ 2>&1 | grep Score\"\n",
    "        #f\"../tools/target/release/tester $(pwd)/{parameters_changed_filename}.out < {directory_input}/@ 2>&1 | grep Score | sed -E s/[^0-9]+// > ./{index_parallel}_score/@;\"\n",
    "        #f\"cargo run --release --manifest-path ../tools/Cargo.toml --bin tester {directory_input}/@ $(pwd)/{parameters_changed_filename}.out 2>&1 | grep Score | sed -E s/[^0-9]+// > ./{index_parallel}_score/@;\"\n",
    "        f\"./{parameters_changed_filename}.out < {directory_input}/@ > {work_dir / index_parallel}_out/@;\"\n",
    "        f\"../tools/target/release/vis {directory_input}/@ {work_dir / index_parallel}_out/@ 2> /dev/null > {work_dir / index_parallel}_score/@;\"\n",
    "    )\n",
    "    # 並列実行 (sed はパスのディレクトリ部分を消してファイル名にしてる)\n",
    "    run(f\"find {directory_input}/* | sed 's!^.*/!!' | xargs -I@ -P {n_internal_parallel} sh -c '{command_exec}'\", \"exec\")\n",
    "    \n",
    "    # 集計\n",
    "    scores = []\n",
    "    for file_path in Path(f\"{work_dir / index_parallel}_score/\").iterdir():  \n",
    "        with open(file_path) as f:\n",
    "            scores.append(int(f.readline().strip().split()[-1]))\n",
    "    mean_score = sum(scores) / len(scores)\n",
    "    \n",
    "    # 後始末\n",
    "    run(f\"rm -rf {work_dir / index_parallel}_out\", \"rm\")\n",
    "    run(f\"rm -rf {work_dir / index_parallel}_score\", \"rm\")\n",
    "    #run(f\"rm {parameters_changed_filename}\", \"rm\")\n",
    "    run(f\"rm {parameters_changed_filename}.out\", \"rm\")\n",
    "    \n",
    "    return mean_score"
   ]
  },
  {
   "cell_type": "code",
   "execution_count": 4,
   "id": "2d2e133c",
   "metadata": {},
   "outputs": [
    {
     "name": "stderr",
     "output_type": "stream",
     "text": [
      "\u001b[32m[I 2022-08-15 21:24:34,242]\u001b[0m A new study created in RDB with name: study_2_0\u001b[0m\n"
     ]
    }
   ],
   "source": [
    "K = 2\n",
    "N_CLASS = 0\n",
    "\n",
    "in_dir = Path(f\"in_{K}_{N_CLASS}\")\n",
    "work_dir = Path(f\"work_{K}_{N_CLASS}\")\n",
    "\n",
    "study_name = f\"study_{K}_{N_CLASS}\"\n",
    "storage_path = work_dir / \"study.db\"\n",
    "storage = f\"sqlite:///{storage_path}\"\n",
    "study = optuna.create_study(storage=storage, load_if_exists=True, study_name=study_name, direction=\"maximize\")\n",
    "\n",
    "def callback(study, trial):\n",
    "    try:\n",
    "        index_parallel = f\"{trial.number:04d}\"\n",
    "        parameters_changed_filename = work_dir / f\"{index_parallel}_{FILENAME}\"\n",
    "        if study.best_value == trial.value:\n",
    "            print(f\"Updated! {study.best_value}\")\n",
    "            !cp {parameters_changed_filename} {work_dir / \"best_parameters.cpp\"}\n",
    "        !rm {parameters_changed_filename}\n",
    "    except:\n",
    "        print(\":(\")\n"
   ]
  },
  {
   "cell_type": "code",
   "execution_count": null,
   "id": "61c2901d",
   "metadata": {},
   "outputs": [
    {
     "name": "stdout",
     "output_type": "stream",
     "text": [
      "index_parallel='0000'\n"
     ]
    },
    {
     "name": "stderr",
     "output_type": "stream",
     "text": [
      "\u001b[32m[I 2022-08-15 21:27:54,582]\u001b[0m Trial 0 finished with value: 6733.617647058823 and parameters: {'kErase': 2, 'kRadius': 2, 'kAnnealingA': 7.191353473637292, 'kAnnealingB': 0.35999071304772445, 'kAnnealingStart': 70.49834180828992, 'kSkipRatio': 0.5976119402517612, 'kTargetDeterminationTrials': 20, 'kAttractionRatio': 0.013635528747473384, 'kMaxAttractionDistance': 8, 'kStartAttraction': 0.004456015084927342}. Best is trial 0 with value: 6733.617647058823.\u001b[0m\n"
     ]
    },
    {
     "name": "stdout",
     "output_type": "stream",
     "text": [
      "Updated! 6733.617647058823\n",
      "index_parallel='0001'\n"
     ]
    },
    {
     "name": "stderr",
     "output_type": "stream",
     "text": [
      "\u001b[32m[I 2022-08-15 21:31:14,453]\u001b[0m Trial 1 finished with value: 6692.982352941176 and parameters: {'kErase': 1, 'kRadius': 2, 'kAnnealingA': -4.692460170269669, 'kAnnealingB': 2.655000380995758, 'kAnnealingStart': 70.33388353626947, 'kSkipRatio': 0.253330551672584, 'kTargetDeterminationTrials': 4, 'kAttractionRatio': 0.013761279310484322, 'kMaxAttractionDistance': 64, 'kStartAttraction': 0.005511153568881929}. Best is trial 0 with value: 6733.617647058823.\u001b[0m\n"
     ]
    },
    {
     "name": "stdout",
     "output_type": "stream",
     "text": [
      "index_parallel='0002'\n"
     ]
    },
    {
     "name": "stderr",
     "output_type": "stream",
     "text": [
      "\u001b[32m[I 2022-08-15 21:34:34,591]\u001b[0m Trial 2 finished with value: 6252.176470588235 and parameters: {'kErase': 1, 'kRadius': 5, 'kAnnealingA': 10.29995116847872, 'kAnnealingB': 0.7374885059481651, 'kAnnealingStart': 26.85293077973151, 'kSkipRatio': 0.3099688146865299, 'kTargetDeterminationTrials': 2, 'kAttractionRatio': 0.12382409285706779, 'kMaxAttractionDistance': 9, 'kStartAttraction': 0.003473406740106713}. Best is trial 0 with value: 6733.617647058823.\u001b[0m\n"
     ]
    },
    {
     "name": "stdout",
     "output_type": "stream",
     "text": [
      "index_parallel='0003'\n"
     ]
    },
    {
     "name": "stderr",
     "output_type": "stream",
     "text": [
      "\u001b[32m[I 2022-08-15 21:37:55,754]\u001b[0m Trial 3 finished with value: 6173.358823529412 and parameters: {'kErase': 5, 'kRadius': 2, 'kAnnealingA': -4.924030312579275, 'kAnnealingB': 1.3322159998519238, 'kAnnealingStart': 3.663887491785306, 'kSkipRatio': 0.3717945245362074, 'kTargetDeterminationTrials': 1, 'kAttractionRatio': 0.2185168527177668, 'kMaxAttractionDistance': 33, 'kStartAttraction': 0.0013559976794137185}. Best is trial 0 with value: 6733.617647058823.\u001b[0m\n"
     ]
    },
    {
     "name": "stdout",
     "output_type": "stream",
     "text": [
      "index_parallel='0004'\n"
     ]
    },
    {
     "name": "stderr",
     "output_type": "stream",
     "text": [
      "\u001b[32m[I 2022-08-15 21:41:16,082]\u001b[0m Trial 4 finished with value: 6321.523529411765 and parameters: {'kErase': 2, 'kRadius': 5, 'kAnnealingA': -11.228076004357167, 'kAnnealingB': 1.5164939211620667, 'kAnnealingStart': 7.761617197126939, 'kSkipRatio': 0.7474354126096363, 'kTargetDeterminationTrials': 1, 'kAttractionRatio': 0.033282624908272294, 'kMaxAttractionDistance': 32, 'kStartAttraction': 0.011799124538596582}. Best is trial 0 with value: 6733.617647058823.\u001b[0m\n"
     ]
    },
    {
     "name": "stdout",
     "output_type": "stream",
     "text": [
      "index_parallel='0005'\n"
     ]
    },
    {
     "name": "stderr",
     "output_type": "stream",
     "text": [
      "\u001b[32m[I 2022-08-15 21:44:36,482]\u001b[0m Trial 5 finished with value: 6553.082352941176 and parameters: {'kErase': 3, 'kRadius': 5, 'kAnnealingA': -1.5784713471804164, 'kAnnealingB': 2.199406918904691, 'kAnnealingStart': 5.071210967951039, 'kSkipRatio': 0.37429425439788827, 'kTargetDeterminationTrials': 5, 'kAttractionRatio': 0.7949886506453446, 'kMaxAttractionDistance': 43, 'kStartAttraction': 0.1551058613070466}. Best is trial 0 with value: 6733.617647058823.\u001b[0m\n"
     ]
    },
    {
     "name": "stdout",
     "output_type": "stream",
     "text": [
      "index_parallel='0006'\n"
     ]
    },
    {
     "name": "stderr",
     "output_type": "stream",
     "text": [
      "\u001b[32m[I 2022-08-15 21:47:56,605]\u001b[0m Trial 6 finished with value: 6563.964705882353 and parameters: {'kErase': 2, 'kRadius': 4, 'kAnnealingA': 5.73301616638269, 'kAnnealingB': 2.8141975725003796, 'kAnnealingStart': 2.5401311860808935, 'kSkipRatio': 0.49550476509817515, 'kTargetDeterminationTrials': 2, 'kAttractionRatio': 0.01918123843303638, 'kMaxAttractionDistance': 47, 'kStartAttraction': 0.04636360037135017}. Best is trial 0 with value: 6733.617647058823.\u001b[0m\n"
     ]
    },
    {
     "name": "stdout",
     "output_type": "stream",
     "text": [
      "index_parallel='0007'\n"
     ]
    },
    {
     "name": "stderr",
     "output_type": "stream",
     "text": [
      "\u001b[32m[I 2022-08-15 21:51:17,043]\u001b[0m Trial 7 finished with value: 6395.664705882353 and parameters: {'kErase': 3, 'kRadius': 6, 'kAnnealingA': -11.834993099145631, 'kAnnealingB': 2.932374114707959, 'kAnnealingStart': 1.4739391471910013, 'kSkipRatio': 0.5576727497378049, 'kTargetDeterminationTrials': 3, 'kAttractionRatio': 0.03897682258783996, 'kMaxAttractionDistance': 16, 'kStartAttraction': 0.018254901604081265}. Best is trial 0 with value: 6733.617647058823.\u001b[0m\n"
     ]
    },
    {
     "name": "stdout",
     "output_type": "stream",
     "text": [
      "index_parallel='0008'\n"
     ]
    },
    {
     "name": "stderr",
     "output_type": "stream",
     "text": [
      "\u001b[32m[I 2022-08-15 21:54:37,856]\u001b[0m Trial 8 finished with value: 6538.817647058823 and parameters: {'kErase': 5, 'kRadius': 4, 'kAnnealingA': -3.813068143522628, 'kAnnealingB': 1.688347710624281, 'kAnnealingStart': 32.34916530007401, 'kSkipRatio': 0.5012070788139775, 'kTargetDeterminationTrials': 12, 'kAttractionRatio': 0.7990145260431666, 'kMaxAttractionDistance': 53, 'kStartAttraction': 0.0017319686567642439}. Best is trial 0 with value: 6733.617647058823.\u001b[0m\n"
     ]
    },
    {
     "name": "stdout",
     "output_type": "stream",
     "text": [
      "index_parallel='0009'\n"
     ]
    },
    {
     "name": "stderr",
     "output_type": "stream",
     "text": [
      "\u001b[32m[I 2022-08-15 21:57:58,491]\u001b[0m Trial 9 finished with value: 6198.494117647058 and parameters: {'kErase': 3, 'kRadius': 4, 'kAnnealingA': -0.21321144001583647, 'kAnnealingB': 2.3170494110604807, 'kAnnealingStart': 31.32948159000276, 'kSkipRatio': 0.2315838461984853, 'kTargetDeterminationTrials': 4, 'kAttractionRatio': 0.41513055011939326, 'kMaxAttractionDistance': 37, 'kStartAttraction': 0.005004014553666836}. Best is trial 0 with value: 6733.617647058823.\u001b[0m\n"
     ]
    },
    {
     "name": "stdout",
     "output_type": "stream",
     "text": [
      "index_parallel='0010'\n"
     ]
    },
    {
     "name": "stderr",
     "output_type": "stream",
     "text": [
      "\u001b[32m[I 2022-08-15 22:01:19,192]\u001b[0m Trial 10 finished with value: 6734.594117647059 and parameters: {'kErase': 4, 'kRadius': 3, 'kAnnealingA': 14.228686600150791, 'kAnnealingB': 0.20074398584749753, 'kAnnealingStart': 93.25178007325977, 'kSkipRatio': 0.7459335330600193, 'kTargetDeterminationTrials': 16, 'kAttractionRatio': 0.055879537194945025, 'kMaxAttractionDistance': 4, 'kStartAttraction': 0.8129129427950447}. Best is trial 10 with value: 6734.594117647059.\u001b[0m\n"
     ]
    },
    {
     "name": "stdout",
     "output_type": "stream",
     "text": [
      "Updated! 6734.594117647059\n",
      "index_parallel='0011'\n"
     ]
    },
    {
     "name": "stderr",
     "output_type": "stream",
     "text": [
      "\u001b[32m[I 2022-08-15 22:04:40,371]\u001b[0m Trial 11 finished with value: 6727.417647058824 and parameters: {'kErase': 4, 'kRadius': 3, 'kAnnealingA': 14.72026022725412, 'kAnnealingB': 0.05680199508163819, 'kAnnealingStart': 96.29762772695828, 'kSkipRatio': 0.7872059262380458, 'kTargetDeterminationTrials': 19, 'kAttractionRatio': 0.0465230583749758, 'kMaxAttractionDistance': 4, 'kStartAttraction': 0.8810309610694572}. Best is trial 10 with value: 6734.594117647059.\u001b[0m\n"
     ]
    },
    {
     "name": "stdout",
     "output_type": "stream",
     "text": [
      "index_parallel='0012'\n"
     ]
    },
    {
     "name": "stderr",
     "output_type": "stream",
     "text": [
      "\u001b[32m[I 2022-08-15 22:08:01,382]\u001b[0m Trial 12 finished with value: 6775.488235294118 and parameters: {'kErase': 4, 'kRadius': 3, 'kAnnealingA': 6.489479644587066, 'kAnnealingB': 0.02221489198340615, 'kAnnealingStart': 14.834096834912433, 'kSkipRatio': 0.6582886872511241, 'kTargetDeterminationTrials': 10, 'kAttractionRatio': 0.08474081405308226, 'kMaxAttractionDistance': 4, 'kStartAttraction': 0.8528177295431382}. Best is trial 12 with value: 6775.488235294118.\u001b[0m\n"
     ]
    },
    {
     "name": "stdout",
     "output_type": "stream",
     "text": [
      "Updated! 6775.488235294118\n",
      "index_parallel='0013'\n"
     ]
    },
    {
     "name": "stderr",
     "output_type": "stream",
     "text": [
      "\u001b[32m[I 2022-08-15 22:11:22,445]\u001b[0m Trial 13 finished with value: 6817.2588235294115 and parameters: {'kErase': 4, 'kRadius': 3, 'kAnnealingA': 14.951508398977268, 'kAnnealingB': 0.8091733701693025, 'kAnnealingStart': 19.60014329066853, 'kSkipRatio': 0.675089094420477, 'kTargetDeterminationTrials': 9, 'kAttractionRatio': 0.08933519342899235, 'kMaxAttractionDistance': 4, 'kStartAttraction': 0.768307982954254}. Best is trial 13 with value: 6817.2588235294115.\u001b[0m\n"
     ]
    },
    {
     "name": "stdout",
     "output_type": "stream",
     "text": [
      "Updated! 6817.2588235294115\n",
      "index_parallel='0014'\n"
     ]
    },
    {
     "name": "stderr",
     "output_type": "stream",
     "text": [
      "\u001b[32m[I 2022-08-15 22:14:43,328]\u001b[0m Trial 14 finished with value: 6827.635294117647 and parameters: {'kErase': 4, 'kRadius': 3, 'kAnnealingA': 4.384035000588265, 'kAnnealingB': 0.7886112795756736, 'kAnnealingStart': 14.171548752976824, 'kSkipRatio': 0.6668257396014717, 'kTargetDeterminationTrials': 8, 'kAttractionRatio': 0.13177411786926016, 'kMaxAttractionDistance': 7, 'kStartAttraction': 0.20151882659299955}. Best is trial 14 with value: 6827.635294117647.\u001b[0m\n"
     ]
    },
    {
     "name": "stdout",
     "output_type": "stream",
     "text": [
      "Updated! 6827.635294117647\n",
      "index_parallel='0015'\n"
     ]
    },
    {
     "name": "stderr",
     "output_type": "stream",
     "text": [
      "\u001b[32m[I 2022-08-15 22:18:04,385]\u001b[0m Trial 15 finished with value: 6800.335294117647 and parameters: {'kErase': 4, 'kRadius': 3, 'kAnnealingA': 3.6348661703495107, 'kAnnealingB': 0.922669053976524, 'kAnnealingStart': 14.251284641678422, 'kSkipRatio': 0.6521773694276597, 'kTargetDeterminationTrials': 7, 'kAttractionRatio': 0.1733830313163934, 'kMaxAttractionDistance': 7, 'kStartAttraction': 0.21619544397757182}. Best is trial 14 with value: 6827.635294117647.\u001b[0m\n"
     ]
    },
    {
     "name": "stdout",
     "output_type": "stream",
     "text": [
      "index_parallel='0016'\n"
     ]
    },
    {
     "name": "stderr",
     "output_type": "stream",
     "text": [
      "\u001b[32m[I 2022-08-15 22:21:25,647]\u001b[0m Trial 16 finished with value: 6708.588235294118 and parameters: {'kErase': 5, 'kRadius': 3, 'kAnnealingA': 11.028999298371875, 'kAnnealingB': 0.8954269651418929, 'kAnnealingStart': 8.643277726645891, 'kSkipRatio': 0.6809717504390173, 'kTargetDeterminationTrials': 8, 'kAttractionRatio': 0.23983818735328985, 'kMaxAttractionDistance': 15, 'kStartAttraction': 0.20371445415196024}. Best is trial 14 with value: 6827.635294117647.\u001b[0m\n"
     ]
    },
    {
     "name": "stdout",
     "output_type": "stream",
     "text": [
      "index_parallel='0017'\n"
     ]
    },
    {
     "name": "stderr",
     "output_type": "stream",
     "text": [
      "\u001b[32m[I 2022-08-15 22:24:46,093]\u001b[0m Trial 17 finished with value: 6765.176470588235 and parameters: {'kErase': 4, 'kRadius': 2, 'kAnnealingA': 10.953223190224616, 'kAnnealingB': 0.5720167823899585, 'kAnnealingStart': 14.256829531078449, 'kSkipRatio': 0.567654379522635, 'kTargetDeterminationTrials': 6, 'kAttractionRatio': 0.08998176709063174, 'kMaxAttractionDistance': 6, 'kStartAttraction': 0.07434361511230077}. Best is trial 14 with value: 6827.635294117647.\u001b[0m\n"
     ]
    },
    {
     "name": "stdout",
     "output_type": "stream",
     "text": [
      "index_parallel='0018'\n"
     ]
    },
    {
     "name": "stderr",
     "output_type": "stream",
     "text": [
      "\u001b[32m[I 2022-08-15 22:28:06,835]\u001b[0m Trial 18 finished with value: 6794.594117647059 and parameters: {'kErase': 3, 'kRadius': 3, 'kAnnealingA': 2.7035225576712953, 'kAnnealingB': 1.1685652823663504, 'kAnnealingStart': 21.53599895382436, 'kSkipRatio': 0.46673269714999976, 'kTargetDeterminationTrials': 12, 'kAttractionRatio': 0.39469762564515, 'kMaxAttractionDistance': 98, 'kStartAttraction': 0.3952169752388675}. Best is trial 14 with value: 6827.635294117647.\u001b[0m\n"
     ]
    },
    {
     "name": "stdout",
     "output_type": "stream",
     "text": [
      "index_parallel='0019'\n"
     ]
    },
    {
     "name": "stderr",
     "output_type": "stream",
     "text": [
      "\u001b[32m[I 2022-08-15 22:31:27,915]\u001b[0m Trial 19 finished with value: 6748.370588235294 and parameters: {'kErase': 5, 'kRadius': 4, 'kAnnealingA': -9.011538587749953, 'kAnnealingB': 0.48233302172111425, 'kAnnealingStart': 43.034204149065125, 'kSkipRatio': 0.7019070180589211, 'kTargetDeterminationTrials': 2, 'kAttractionRatio': 0.1296434413491853, 'kMaxAttractionDistance': 11, 'kStartAttraction': 0.08587925796436807}. Best is trial 14 with value: 6827.635294117647.\u001b[0m\n"
     ]
    },
    {
     "name": "stdout",
     "output_type": "stream",
     "text": [
      "index_parallel='0020'\n"
     ]
    },
    {
     "name": "stderr",
     "output_type": "stream",
     "text": [
      "\u001b[32m[I 2022-08-15 22:34:48,780]\u001b[0m Trial 20 finished with value: 6622.747058823529 and parameters: {'kErase': 4, 'kRadius': 6, 'kAnnealingA': 2.52660602475908, 'kAnnealingB': 1.7057992475882036, 'kAnnealingStart': 5.470410437964335, 'kSkipRatio': 0.6140583034920948, 'kTargetDeterminationTrials': 9, 'kAttractionRatio': 0.06873466685616249, 'kMaxAttractionDistance': 6, 'kStartAttraction': 0.39072908739139073}. Best is trial 14 with value: 6827.635294117647.\u001b[0m\n"
     ]
    },
    {
     "name": "stdout",
     "output_type": "stream",
     "text": [
      "index_parallel='0021'\n"
     ]
    },
    {
     "name": "stderr",
     "output_type": "stream",
     "text": [
      "\u001b[32m[I 2022-08-15 22:38:09,554]\u001b[0m Trial 21 finished with value: 6847.8117647058825 and parameters: {'kErase': 4, 'kRadius': 3, 'kAnnealingA': 3.89980306891139, 'kAnnealingB': 0.9912666105589308, 'kAnnealingStart': 14.913068543869791, 'kSkipRatio': 0.6407365877157171, 'kTargetDeterminationTrials': 7, 'kAttractionRatio': 0.16658770934289496, 'kMaxAttractionDistance': 6, 'kStartAttraction': 0.2934874678248033}. Best is trial 21 with value: 6847.8117647058825.\u001b[0m\n"
     ]
    },
    {
     "name": "stdout",
     "output_type": "stream",
     "text": [
      "Updated! 6847.8117647058825\n",
      "index_parallel='0022'\n"
     ]
    },
    {
     "name": "stderr",
     "output_type": "stream",
     "text": [
      "\u001b[32m[I 2022-08-15 22:41:30,747]\u001b[0m Trial 22 finished with value: 6820.947058823529 and parameters: {'kErase': 4, 'kRadius': 3, 'kAnnealingA': 8.751898554869133, 'kAnnealingB': 0.9988080236054911, 'kAnnealingStart': 18.984462759154138, 'kSkipRatio': 0.7254185260406154, 'kTargetDeterminationTrials': 6, 'kAttractionRatio': 0.29642687810114476, 'kMaxAttractionDistance': 5, 'kStartAttraction': 0.32315495288735313}. Best is trial 21 with value: 6847.8117647058825.\u001b[0m\n"
     ]
    },
    {
     "name": "stdout",
     "output_type": "stream",
     "text": [
      "index_parallel='0023'\n"
     ]
    },
    {
     "name": "stderr",
     "output_type": "stream",
     "text": [
      "\u001b[32m[I 2022-08-15 22:44:51,375]\u001b[0m Trial 23 finished with value: 6767.041176470589 and parameters: {'kErase': 3, 'kRadius': 2, 'kAnnealingA': 8.699380512431627, 'kAnnealingB': 1.1842935097152134, 'kAnnealingStart': 10.675278626626456, 'kSkipRatio': 0.7843650121789304, 'kTargetDeterminationTrials': 3, 'kAttractionRatio': 0.3836831256197671, 'kMaxAttractionDistance': 11, 'kStartAttraction': 0.35812278299880507}. Best is trial 21 with value: 6847.8117647058825.\u001b[0m\n"
     ]
    },
    {
     "name": "stdout",
     "output_type": "stream",
     "text": [
      "index_parallel='0024'\n"
     ]
    },
    {
     "name": "stderr",
     "output_type": "stream",
     "text": [
      "\u001b[32m[I 2022-08-15 22:48:12,293]\u001b[0m Trial 24 finished with value: 6842.958823529411 and parameters: {'kErase': 5, 'kRadius': 3, 'kAnnealingA': 4.483684210911967, 'kAnnealingB': 1.0318363576592808, 'kAnnealingStart': 40.2350102748328, 'kSkipRatio': 0.725555930881752, 'kTargetDeterminationTrials': 5, 'kAttractionRatio': 0.26412442150601234, 'kMaxAttractionDistance': 23, 'kStartAttraction': 0.10906484651067651}. Best is trial 21 with value: 6847.8117647058825.\u001b[0m\n"
     ]
    },
    {
     "name": "stdout",
     "output_type": "stream",
     "text": [
      "index_parallel='0025'\n"
     ]
    },
    {
     "name": "stderr",
     "output_type": "stream",
     "text": [
      "\u001b[32m[I 2022-08-15 22:51:33,032]\u001b[0m Trial 25 finished with value: 6632.7411764705885 and parameters: {'kErase': 5, 'kRadius': 4, 'kAnnealingA': 4.192323771851358, 'kAnnealingB': 1.9291644091309756, 'kAnnealingStart': 47.45693460473479, 'kSkipRatio': 0.6246860581149338, 'kTargetDeterminationTrials': 5, 'kAttractionRatio': 0.14193977347626113, 'kMaxAttractionDistance': 23, 'kStartAttraction': 0.10112822074438217}. Best is trial 21 with value: 6847.8117647058825.\u001b[0m\n"
     ]
    },
    {
     "name": "stdout",
     "output_type": "stream",
     "text": [
      "index_parallel='0026'\n"
     ]
    },
    {
     "name": "stderr",
     "output_type": "stream",
     "text": [
      "\u001b[32m[I 2022-08-15 22:54:53,838]\u001b[0m Trial 26 finished with value: 6498.952941176471 and parameters: {'kErase': 5, 'kRadius': 3, 'kAnnealingA': 0.9041028458005185, 'kAnnealingB': 1.3204490506495845, 'kAnnealingStart': 10.094223123896054, 'kSkipRatio': 0.5426793910196577, 'kTargetDeterminationTrials': 13, 'kAttractionRatio': 0.5135535691150046, 'kMaxAttractionDistance': 21, 'kStartAttraction': 0.028856049637065798}. Best is trial 21 with value: 6847.8117647058825.\u001b[0m\n"
     ]
    },
    {
     "name": "stdout",
     "output_type": "stream",
     "text": [
      "index_parallel='0027'\n"
     ]
    },
    {
     "name": "stderr",
     "output_type": "stream",
     "text": [
      "\u001b[32m[I 2022-08-15 22:58:14,809]\u001b[0m Trial 27 finished with value: 6905.829411764706 and parameters: {'kErase': 5, 'kRadius': 2, 'kAnnealingA': -1.1907796455930786, 'kAnnealingB': 0.5994463929057969, 'kAnnealingStart': 48.188769819160626, 'kSkipRatio': 0.7978009145107254, 'kTargetDeterminationTrials': 4, 'kAttractionRatio': 0.19433829658932616, 'kMaxAttractionDistance': 26, 'kStartAttraction': 0.04707880752961959}. Best is trial 27 with value: 6905.829411764706.\u001b[0m\n"
     ]
    },
    {
     "name": "stdout",
     "output_type": "stream",
     "text": [
      "Updated! 6905.829411764706\n",
      "index_parallel='0028'\n"
     ]
    },
    {
     "name": "stderr",
     "output_type": "stream",
     "text": [
      "\u001b[32m[I 2022-08-15 23:01:35,972]\u001b[0m Trial 28 finished with value: 6887.752941176471 and parameters: {'kErase': 5, 'kRadius': 2, 'kAnnealingA': -1.7924557600967255, 'kAnnealingB': 0.6250179759082876, 'kAnnealingStart': 47.447764535001966, 'kSkipRatio': 0.7656898209149351, 'kTargetDeterminationTrials': 4, 'kAttractionRatio': 0.20486471561068467, 'kMaxAttractionDistance': 27, 'kStartAttraction': 0.04973098156453399}. Best is trial 27 with value: 6905.829411764706.\u001b[0m\n"
     ]
    },
    {
     "name": "stdout",
     "output_type": "stream",
     "text": [
      "index_parallel='0029'\n"
     ]
    },
    {
     "name": "stderr",
     "output_type": "stream",
     "text": [
      "\u001b[32m[I 2022-08-15 23:04:56,986]\u001b[0m Trial 29 finished with value: 6863.941176470588 and parameters: {'kErase': 5, 'kRadius': 2, 'kAnnealingA': -7.154471445013665, 'kAnnealingB': 0.3479656708498713, 'kAnnealingStart': 55.027158426959794, 'kSkipRatio': 0.7953480671427479, 'kTargetDeterminationTrials': 3, 'kAttractionRatio': 0.1961147609845278, 'kMaxAttractionDistance': 28, 'kStartAttraction': 0.04279037611708158}. Best is trial 27 with value: 6905.829411764706.\u001b[0m\n"
     ]
    },
    {
     "name": "stdout",
     "output_type": "stream",
     "text": [
      "index_parallel='0030'\n"
     ]
    },
    {
     "name": "stderr",
     "output_type": "stream",
     "text": [
      "\u001b[32m[I 2022-08-15 23:08:17,887]\u001b[0m Trial 30 finished with value: 6781.158823529412 and parameters: {'kErase': 5, 'kRadius': 2, 'kAnnealingA': -14.993004369252358, 'kAnnealingB': 0.31212527530013423, 'kAnnealingStart': 60.74417539344611, 'kSkipRatio': 0.7958392685867477, 'kTargetDeterminationTrials': 3, 'kAttractionRatio': 0.5464831654253711, 'kMaxAttractionDistance': 28, 'kStartAttraction': 0.044857817685205394}. Best is trial 27 with value: 6905.829411764706.\u001b[0m\n"
     ]
    },
    {
     "name": "stdout",
     "output_type": "stream",
     "text": [
      "index_parallel='0031'\n"
     ]
    },
    {
     "name": "stderr",
     "output_type": "stream",
     "text": [
      "\u001b[32m[I 2022-08-15 23:11:38,658]\u001b[0m Trial 31 finished with value: 6851.905882352941 and parameters: {'kErase': 5, 'kRadius': 2, 'kAnnealingA': -7.5594227515260375, 'kAnnealingB': 0.561952009309559, 'kAnnealingStart': 60.021566866985076, 'kSkipRatio': 0.7568629856756036, 'kTargetDeterminationTrials': 4, 'kAttractionRatio': 0.19012753606147523, 'kMaxAttractionDistance': 16, 'kStartAttraction': 0.017433140587973572}. Best is trial 27 with value: 6905.829411764706.\u001b[0m\n"
     ]
    },
    {
     "name": "stdout",
     "output_type": "stream",
     "text": [
      "index_parallel='0032'\n"
     ]
    },
    {
     "name": "stderr",
     "output_type": "stream",
     "text": [
      "\u001b[32m[I 2022-08-15 23:14:59,358]\u001b[0m Trial 32 finished with value: 6856.870588235294 and parameters: {'kErase': 5, 'kRadius': 2, 'kAnnealingA': -6.517438757092199, 'kAnnealingB': 0.5117474148097667, 'kAnnealingStart': 59.53062642258596, 'kSkipRatio': 0.7605915786583163, 'kTargetDeterminationTrials': 4, 'kAttractionRatio': 0.18576028423297505, 'kMaxAttractionDistance': 16, 'kStartAttraction': 0.012367296445435228}. Best is trial 27 with value: 6905.829411764706.\u001b[0m\n"
     ]
    },
    {
     "name": "stdout",
     "output_type": "stream",
     "text": [
      "index_parallel='0033'\n"
     ]
    },
    {
     "name": "stderr",
     "output_type": "stream",
     "text": [
      "\u001b[32m[I 2022-08-15 23:18:20,438]\u001b[0m Trial 33 finished with value: 6878.364705882353 and parameters: {'kErase': 5, 'kRadius': 2, 'kAnnealingA': -3.1946975278986396, 'kAnnealingB': 0.33383585219595546, 'kAnnealingStart': 69.38034969030423, 'kSkipRatio': 0.7111987170613181, 'kTargetDeterminationTrials': 2, 'kAttractionRatio': 0.33126507329380284, 'kMaxAttractionDistance': 26, 'kStartAttraction': 0.00881882754251062}. Best is trial 27 with value: 6905.829411764706.\u001b[0m\n"
     ]
    },
    {
     "name": "stdout",
     "output_type": "stream",
     "text": [
      "index_parallel='0034'\n"
     ]
    },
    {
     "name": "stderr",
     "output_type": "stream",
     "text": [
      "\u001b[32m[I 2022-08-15 23:21:41,550]\u001b[0m Trial 34 finished with value: 6894.611764705883 and parameters: {'kErase': 5, 'kRadius': 2, 'kAnnealingA': -2.299519330455935, 'kAnnealingB': 0.22191317807327202, 'kAnnealingStart': 74.31200128272967, 'kSkipRatio': 0.7092166924584798, 'kTargetDeterminationTrials': 2, 'kAttractionRatio': 0.291870928752236, 'kMaxAttractionDistance': 28, 'kStartAttraction': 0.007490550208588583}. Best is trial 27 with value: 6905.829411764706.\u001b[0m\n"
     ]
    },
    {
     "name": "stdout",
     "output_type": "stream",
     "text": [
      "index_parallel='0035'\n"
     ]
    },
    {
     "name": "stderr",
     "output_type": "stream",
     "text": [
      "\u001b[32m[I 2022-08-15 23:25:01,736]\u001b[0m Trial 35 finished with value: 6859.176470588235 and parameters: {'kErase': 1, 'kRadius': 2, 'kAnnealingA': -2.3206753069898527, 'kAnnealingB': 0.26419910445296124, 'kAnnealingStart': 72.69445540115409, 'kSkipRatio': 0.707284167617298, 'kTargetDeterminationTrials': 2, 'kAttractionRatio': 0.3091461421493064, 'kMaxAttractionDistance': 66, 'kStartAttraction': 0.008540688350416608}. Best is trial 27 with value: 6905.829411764706.\u001b[0m\n"
     ]
    },
    {
     "name": "stdout",
     "output_type": "stream",
     "text": [
      "index_parallel='0036'\n"
     ]
    },
    {
     "name": "stderr",
     "output_type": "stream",
     "text": [
      "\u001b[32m[I 2022-08-15 23:28:22,490]\u001b[0m Trial 36 finished with value: 6909.1 and parameters: {'kErase': 5, 'kRadius': 2, 'kAnnealingA': -3.5298393938246555, 'kAnnealingB': 0.664148532542321, 'kAnnealingStart': 76.47690497365863, 'kSkipRatio': 0.7188433207513049, 'kTargetDeterminationTrials': 1, 'kAttractionRatio': 0.570152231824117, 'kMaxAttractionDistance': 27, 'kStartAttraction': 0.0029030139578087896}. Best is trial 36 with value: 6909.1.\u001b[0m\n"
     ]
    },
    {
     "name": "stdout",
     "output_type": "stream",
     "text": [
      "Updated! 6909.1\n",
      "index_parallel='0037'\n"
     ]
    },
    {
     "name": "stderr",
     "output_type": "stream",
     "text": [
      "\u001b[32m[I 2022-08-15 23:31:43,296]\u001b[0m Trial 37 finished with value: 6776.935294117647 and parameters: {'kErase': 5, 'kRadius': 2, 'kAnnealingA': -0.35807539716301184, 'kAnnealingB': 0.670384747046459, 'kAnnealingStart': 34.346345159238695, 'kSkipRatio': 0.5903170665512316, 'kTargetDeterminationTrials': 1, 'kAttractionRatio': 0.600818640363586, 'kMaxAttractionDistance': 34, 'kStartAttraction': 0.002484886210090659}. Best is trial 36 with value: 6909.1.\u001b[0m\n"
     ]
    },
    {
     "name": "stdout",
     "output_type": "stream",
     "text": [
      "index_parallel='0038'\n"
     ]
    },
    {
     "name": "stderr",
     "output_type": "stream",
     "text": [
      "\u001b[32m[I 2022-08-15 23:35:04,098]\u001b[0m Trial 38 finished with value: 6245.229411764706 and parameters: {'kErase': 5, 'kRadius': 2, 'kAnnealingA': -5.275074293420296, 'kAnnealingB': 0.1110661730565631, 'kAnnealingStart': 80.19336537489126, 'kSkipRatio': 0.34318355584924304, 'kTargetDeterminationTrials': 1, 'kAttractionRatio': 0.6345214326503432, 'kMaxAttractionDistance': 19, 'kStartAttraction': 0.003203115691713303}. Best is trial 36 with value: 6909.1.\u001b[0m\n"
     ]
    },
    {
     "name": "stdout",
     "output_type": "stream",
     "text": [
      "index_parallel='0039'\n"
     ]
    },
    {
     "name": "stderr",
     "output_type": "stream",
     "text": [
      "\u001b[32m[I 2022-08-15 23:38:25,260]\u001b[0m Trial 39 finished with value: 6815.570588235294 and parameters: {'kErase': 5, 'kRadius': 2, 'kAnnealingA': -1.4908769540109454, 'kAnnealingB': 0.6609795175717498, 'kAnnealingStart': 27.78636919697665, 'kSkipRatio': 0.7491820127780386, 'kTargetDeterminationTrials': 2, 'kAttractionRatio': 0.4600428851087072, 'kMaxAttractionDistance': 41, 'kStartAttraction': 0.006853314939158735}. Best is trial 36 with value: 6909.1.\u001b[0m\n"
     ]
    },
    {
     "name": "stdout",
     "output_type": "stream",
     "text": [
      "index_parallel='0040'\n"
     ]
    },
    {
     "name": "stderr",
     "output_type": "stream",
     "text": [
      "\u001b[32m[I 2022-08-15 23:41:45,753]\u001b[0m Trial 40 finished with value: 6955.917647058824 and parameters: {'kErase': 2, 'kRadius': 2, 'kAnnealingA': 1.2886349057025734, 'kAnnealingB': 0.4434539291287757, 'kAnnealingStart': 44.30959279433965, 'kSkipRatio': 0.6926332173835782, 'kTargetDeterminationTrials': 4, 'kAttractionRatio': 0.01254159972895259, 'kMaxAttractionDistance': 56, 'kStartAttraction': 0.0011778370817950416}. Best is trial 40 with value: 6955.917647058824.\u001b[0m\n"
     ]
    },
    {
     "name": "stdout",
     "output_type": "stream",
     "text": [
      "Updated! 6955.917647058824\n",
      "index_parallel='0041'\n"
     ]
    },
    {
     "name": "stderr",
     "output_type": "stream",
     "text": [
      "\u001b[32m[I 2022-08-15 23:45:06,239]\u001b[0m Trial 41 finished with value: 6946.7 and parameters: {'kErase': 2, 'kRadius': 2, 'kAnnealingA': 1.0860110244627652, 'kAnnealingB': 0.45786157263131955, 'kAnnealingStart': 45.30199282218813, 'kSkipRatio': 0.6928371223388163, 'kTargetDeterminationTrials': 4, 'kAttractionRatio': 0.02509579021314415, 'kMaxAttractionDistance': 59, 'kStartAttraction': 0.0012536159006292687}. Best is trial 40 with value: 6955.917647058824.\u001b[0m\n"
     ]
    },
    {
     "name": "stdout",
     "output_type": "stream",
     "text": [
      "index_parallel='0042'\n"
     ]
    },
    {
     "name": "stderr",
     "output_type": "stream",
     "text": [
      "\u001b[32m[I 2022-08-15 23:48:26,737]\u001b[0m Trial 42 finished with value: 6938.382352941177 and parameters: {'kErase': 2, 'kRadius': 2, 'kAnnealingA': 1.2884211514618964, 'kAnnealingB': 0.4670111601568657, 'kAnnealingStart': 37.91077086803526, 'kSkipRatio': 0.6905701371726382, 'kTargetDeterminationTrials': 5, 'kAttractionRatio': 0.010913771517415185, 'kMaxAttractionDistance': 66, 'kStartAttraction': 0.0010886853315172928}. Best is trial 40 with value: 6955.917647058824.\u001b[0m\n"
     ]
    },
    {
     "name": "stdout",
     "output_type": "stream",
     "text": [
      "index_parallel='0043'\n"
     ]
    },
    {
     "name": "stderr",
     "output_type": "stream",
     "text": [
      "\u001b[32m[I 2022-08-15 23:51:47,275]\u001b[0m Trial 43 finished with value: 6921.941176470588 and parameters: {'kErase': 2, 'kRadius': 2, 'kAnnealingA': 1.57788086036767, 'kAnnealingB': 0.4951681200827904, 'kAnnealingStart': 24.361888458448373, 'kSkipRatio': 0.4457988829834666, 'kTargetDeterminationTrials': 5, 'kAttractionRatio': 0.011129485773791643, 'kMaxAttractionDistance': 68, 'kStartAttraction': 0.0010872726934761327}. Best is trial 40 with value: 6955.917647058824.\u001b[0m\n"
     ]
    },
    {
     "name": "stdout",
     "output_type": "stream",
     "text": [
      "index_parallel='0044'\n"
     ]
    },
    {
     "name": "stderr",
     "output_type": "stream",
     "text": [
      "\u001b[32m[I 2022-08-15 23:55:07,612]\u001b[0m Trial 44 finished with value: 6885.405882352941 and parameters: {'kErase': 2, 'kRadius': 2, 'kAnnealingA': 0.4717154239432475, 'kAnnealingB': 0.39940197223099194, 'kAnnealingStart': 24.67292822030312, 'kSkipRatio': 0.4399018619870392, 'kTargetDeterminationTrials': 5, 'kAttractionRatio': 0.010036292669874767, 'kMaxAttractionDistance': 71, 'kStartAttraction': 0.0010481850924503994}. Best is trial 40 with value: 6955.917647058824.\u001b[0m\n"
     ]
    },
    {
     "name": "stdout",
     "output_type": "stream",
     "text": [
      "index_parallel='0045'\n"
     ]
    },
    {
     "name": "stderr",
     "output_type": "stream",
     "text": [
      "\u001b[32m[I 2022-08-15 23:58:27,886]\u001b[0m Trial 45 finished with value: 6702.952941176471 and parameters: {'kErase': 2, 'kRadius': 5, 'kAnnealingA': 2.1073824108110997, 'kAnnealingB': 0.7769353079991201, 'kAnnealingStart': 36.64196689991444, 'kSkipRatio': 0.43264544932678173, 'kTargetDeterminationTrials': 5, 'kAttractionRatio': 0.02145945028916928, 'kMaxAttractionDistance': 54, 'kStartAttraction': 0.0016798542883889283}. Best is trial 40 with value: 6955.917647058824.\u001b[0m\n"
     ]
    },
    {
     "name": "stdout",
     "output_type": "stream",
     "text": [
      "index_parallel='0046'\n"
     ]
    },
    {
     "name": "stderr",
     "output_type": "stream",
     "text": [
      "\u001b[32m[I 2022-08-16 00:01:47,928]\u001b[0m Trial 46 finished with value: 6942.34705882353 and parameters: {'kErase': 1, 'kRadius': 2, 'kAnnealingA': 1.5724658793045192, 'kAnnealingB': 0.1495668841672192, 'kAnnealingStart': 28.110479586697878, 'kSkipRatio': 0.3821393534291484, 'kTargetDeterminationTrials': 6, 'kAttractionRatio': 0.01728736190800309, 'kMaxAttractionDistance': 77, 'kStartAttraction': 0.0010055675389446653}. Best is trial 40 with value: 6955.917647058824.\u001b[0m\n"
     ]
    },
    {
     "name": "stdout",
     "output_type": "stream",
     "text": [
      "index_parallel='0047'\n"
     ]
    },
    {
     "name": "stderr",
     "output_type": "stream",
     "text": [
      "\u001b[32m[I 2022-08-16 00:05:08,385]\u001b[0m Trial 47 finished with value: 6911.423529411764 and parameters: {'kErase': 1, 'kRadius': 2, 'kAnnealingA': 1.6933922719456944, 'kAnnealingB': 0.15196673809259292, 'kAnnealingStart': 27.62481325718576, 'kSkipRatio': 0.3854532462177411, 'kTargetDeterminationTrials': 6, 'kAttractionRatio': 0.018262052635664928, 'kMaxAttractionDistance': 87, 'kStartAttraction': 0.0011682523779579079}. Best is trial 40 with value: 6955.917647058824.\u001b[0m\n"
     ]
    },
    {
     "name": "stdout",
     "output_type": "stream",
     "text": [
      "index_parallel='0048'\n"
     ]
    },
    {
     "name": "stderr",
     "output_type": "stream",
     "text": [
      "\u001b[32m[I 2022-08-16 00:08:28,593]\u001b[0m Trial 48 finished with value: 6295.411764705882 and parameters: {'kErase': 1, 'kRadius': 5, 'kAnnealingA': 0.8399957782439162, 'kAnnealingB': 0.0007112827358992657, 'kAnnealingStart': 1.8515389647052805, 'kSkipRatio': 0.31825028444108683, 'kTargetDeterminationTrials': 7, 'kAttractionRatio': 0.013091737875882676, 'kMaxAttractionDistance': 79, 'kStartAttraction': 0.002023140458329232}. Best is trial 40 with value: 6955.917647058824.\u001b[0m\n"
     ]
    },
    {
     "name": "stdout",
     "output_type": "stream",
     "text": [
      "index_parallel='0049'\n"
     ]
    },
    {
     "name": "stderr",
     "output_type": "stream",
     "text": [
      "\u001b[32m[I 2022-08-16 00:11:49,047]\u001b[0m Trial 49 finished with value: 6284.705882352941 and parameters: {'kErase': 2, 'kRadius': 2, 'kAnnealingA': 5.8441313192379045, 'kAnnealingB': 0.43923911637313606, 'kAnnealingStart': 21.561762550595766, 'kSkipRatio': 0.27355872828768424, 'kTargetDeterminationTrials': 6, 'kAttractionRatio': 0.02864756502591777, 'kMaxAttractionDistance': 57, 'kStartAttraction': 0.004371754263546429}. Best is trial 40 with value: 6955.917647058824.\u001b[0m\n"
     ]
    },
    {
     "name": "stdout",
     "output_type": "stream",
     "text": [
      "index_parallel='0050'\n"
     ]
    },
    {
     "name": "stderr",
     "output_type": "stream",
     "text": [
      "\u001b[32m[I 2022-08-16 00:15:09,498]\u001b[0m Trial 50 finished with value: 6479.34705882353 and parameters: {'kErase': 2, 'kRadius': 3, 'kAnnealingA': 7.370347323295456, 'kAnnealingB': 2.604224821908338, 'kAnnealingStart': 1.0383093123053961, 'kSkipRatio': 0.4005489144411113, 'kTargetDeterminationTrials': 3, 'kAttractionRatio': 0.010359369456107027, 'kMaxAttractionDistance': 50, 'kStartAttraction': 0.00139067030706182}. Best is trial 40 with value: 6955.917647058824.\u001b[0m\n"
     ]
    },
    {
     "name": "stdout",
     "output_type": "stream",
     "text": [
      "index_parallel='0051'\n"
     ]
    },
    {
     "name": "stderr",
     "output_type": "stream",
     "text": [
      "\u001b[32m[I 2022-08-16 00:18:29,532]\u001b[0m Trial 51 finished with value: 6890.15294117647 and parameters: {'kErase': 1, 'kRadius': 2, 'kAnnealingA': 2.0820348257890937, 'kAnnealingB': 0.1732896120904438, 'kAnnealingStart': 30.516851711234466, 'kSkipRatio': 0.3813272176285707, 'kTargetDeterminationTrials': 6, 'kAttractionRatio': 0.016902216161080907, 'kMaxAttractionDistance': 93, 'kStartAttraction': 0.0010549373006895452}. Best is trial 40 with value: 6955.917647058824.\u001b[0m\n"
     ]
    },
    {
     "name": "stdout",
     "output_type": "stream",
     "text": [
      "index_parallel='0052'\n"
     ]
    },
    {
     "name": "stderr",
     "output_type": "stream",
     "text": [
      "\u001b[32m[I 2022-08-16 00:21:49,547]\u001b[0m Trial 52 finished with value: 6879.005882352942 and parameters: {'kErase': 1, 'kRadius': 2, 'kAnnealingA': 1.5318555026565839, 'kAnnealingB': 0.15125981161806135, 'kAnnealingStart': 25.33133057894203, 'kSkipRatio': 0.517687911488395, 'kTargetDeterminationTrials': 5, 'kAttractionRatio': 0.024692414395622052, 'kMaxAttractionDistance': 81, 'kStartAttraction': 0.0014462894227171904}. Best is trial 40 with value: 6955.917647058824.\u001b[0m\n"
     ]
    },
    {
     "name": "stdout",
     "output_type": "stream",
     "text": [
      "index_parallel='0053'\n"
     ]
    },
    {
     "name": "stderr",
     "output_type": "stream",
     "text": [
      "\u001b[32m[I 2022-08-16 00:25:09,868]\u001b[0m Trial 53 finished with value: 6835.005882352942 and parameters: {'kErase': 2, 'kRadius': 2, 'kAnnealingA': -0.7511687761861103, 'kAnnealingB': 0.41898163813596734, 'kAnnealingStart': 17.342050357160545, 'kSkipRatio': 0.41182384364196006, 'kTargetDeterminationTrials': 4, 'kAttractionRatio': 0.014473721533431077, 'kMaxAttractionDistance': 59, 'kStartAttraction': 0.0010112671557742285}. Best is trial 40 with value: 6955.917647058824.\u001b[0m\n"
     ]
    },
    {
     "name": "stdout",
     "output_type": "stream",
     "text": [
      "index_parallel='0054'\n"
     ]
    },
    {
     "name": "stderr",
     "output_type": "stream",
     "text": [
      "\u001b[32m[I 2022-08-16 00:28:29,802]\u001b[0m Trial 54 finished with value: 6739.65294117647 and parameters: {'kErase': 1, 'kRadius': 2, 'kAnnealingA': 3.400811365081641, 'kAnnealingB': 0.22516453720734453, 'kAnnealingStart': 38.24141665279305, 'kSkipRatio': 0.34847443743424494, 'kTargetDeterminationTrials': 10, 'kAttractionRatio': 0.016780513636802892, 'kMaxAttractionDistance': 45, 'kStartAttraction': 0.002159255695012514}. Best is trial 40 with value: 6955.917647058824.\u001b[0m\n"
     ]
    },
    {
     "name": "stdout",
     "output_type": "stream",
     "text": [
      "index_parallel='0055'\n"
     ]
    },
    {
     "name": "stderr",
     "output_type": "stream",
     "text": [
      "\u001b[32m[I 2022-08-16 00:31:50,475]\u001b[0m Trial 55 finished with value: 6879.788235294118 and parameters: {'kErase': 2, 'kRadius': 2, 'kAnnealingA': 4.997752433410332, 'kAnnealingB': 0.10374848952513176, 'kAnnealingStart': 31.00006060093908, 'kSkipRatio': 0.47517036887510344, 'kTargetDeterminationTrials': 7, 'kAttractionRatio': 0.012751253008177664, 'kMaxAttractionDistance': 81, 'kStartAttraction': 0.0042673893288888666}. Best is trial 40 with value: 6955.917647058824.\u001b[0m\n"
     ]
    },
    {
     "name": "stdout",
     "output_type": "stream",
     "text": [
      "index_parallel='0056'\n"
     ]
    },
    {
     "name": "stderr",
     "output_type": "stream",
     "text": [
      "\u001b[32m[I 2022-08-16 00:35:10,939]\u001b[0m Trial 56 finished with value: 6424.323529411765 and parameters: {'kErase': 2, 'kRadius': 3, 'kAnnealingA': 0.13980050788896217, 'kAnnealingB': 0.4777187919440188, 'kAnnealingStart': 24.9753193443991, 'kSkipRatio': 0.2634313097545203, 'kTargetDeterminationTrials': 8, 'kAttractionRatio': 0.03850189774905838, 'kMaxAttractionDistance': 69, 'kStartAttraction': 0.0017292891454030682}. Best is trial 40 with value: 6955.917647058824.\u001b[0m\n"
     ]
    },
    {
     "name": "stdout",
     "output_type": "stream",
     "text": [
      "index_parallel='0057'\n"
     ]
    },
    {
     "name": "stderr",
     "output_type": "stream",
     "text": [
      "\u001b[32m[I 2022-08-16 00:38:31,112]\u001b[0m Trial 57 finished with value: 6889.0 and parameters: {'kErase': 1, 'kRadius': 2, 'kAnnealingA': 2.996283902909312, 'kAnnealingB': 0.003851108425244415, 'kAnnealingStart': 42.595399641156504, 'kSkipRatio': 0.4433189241543372, 'kTargetDeterminationTrials': 6, 'kAttractionRatio': 0.02066567679750668, 'kMaxAttractionDistance': 89, 'kStartAttraction': 0.001256595818644053}. Best is trial 40 with value: 6955.917647058824.\u001b[0m\n"
     ]
    },
    {
     "name": "stdout",
     "output_type": "stream",
     "text": [
      "index_parallel='0058'\n"
     ]
    },
    {
     "name": "stderr",
     "output_type": "stream",
     "text": [
      "\u001b[32m[I 2022-08-16 00:41:51,763]\u001b[0m Trial 58 finished with value: 6823.2764705882355 and parameters: {'kErase': 3, 'kRadius': 3, 'kAnnealingA': 1.2101004906146193, 'kAnnealingB': 0.3027562115783812, 'kAnnealingStart': 17.590669346818384, 'kSkipRatio': 0.6850749134922473, 'kTargetDeterminationTrials': 10, 'kAttractionRatio': 0.015576171712305239, 'kMaxAttractionDistance': 63, 'kStartAttraction': 0.002392529603262373}. Best is trial 40 with value: 6955.917647058824.\u001b[0m\n"
     ]
    },
    {
     "name": "stdout",
     "output_type": "stream",
     "text": [
      "index_parallel='0059'\n"
     ]
    },
    {
     "name": "stderr",
     "output_type": "stream",
     "text": [
      "\u001b[32m[I 2022-08-16 00:45:11,706]\u001b[0m Trial 59 finished with value: 6850.288235294118 and parameters: {'kErase': 1, 'kRadius': 4, 'kAnnealingA': 6.5932998754427725, 'kAnnealingB': 0.8610435782864593, 'kAnnealingStart': 12.333967050004341, 'kSkipRatio': 0.29236003573741043, 'kTargetDeterminationTrials': 7, 'kAttractionRatio': 0.01170963153488229, 'kMaxAttractionDistance': 40, 'kStartAttraction': 0.0016446624092598002}. Best is trial 40 with value: 6955.917647058824.\u001b[0m\n"
     ]
    },
    {
     "name": "stdout",
     "output_type": "stream",
     "text": [
      "index_parallel='0060'\n"
     ]
    },
    {
     "name": "stderr",
     "output_type": "stream",
     "text": [
      "\u001b[32m[I 2022-08-16 00:48:32,303]\u001b[0m Trial 60 finished with value: 6577.34705882353 and parameters: {'kErase': 3, 'kRadius': 2, 'kAnnealingA': 5.3175309146217735, 'kAnnealingB': 0.7549337749921907, 'kAnnealingStart': 5.797322924882172, 'kSkipRatio': 0.3474118160342688, 'kTargetDeterminationTrials': 5, 'kAttractionRatio': 0.024801436332537515, 'kMaxAttractionDistance': 72, 'kStartAttraction': 0.0012363457188848213}. Best is trial 40 with value: 6955.917647058824.\u001b[0m\n"
     ]
    },
    {
     "name": "stdout",
     "output_type": "stream",
     "text": [
      "index_parallel='0061'\n"
     ]
    },
    {
     "name": "stderr",
     "output_type": "stream",
     "text": [
      "\u001b[32m[I 2022-08-16 00:51:52,783]\u001b[0m Trial 61 finished with value: 6937.017647058824 and parameters: {'kErase': 2, 'kRadius': 2, 'kAnnealingA': -3.4682397798656037, 'kAnnealingB': 0.6868360315880836, 'kAnnealingStart': 98.57398786109248, 'kSkipRatio': 0.6438921858503492, 'kTargetDeterminationTrials': 8, 'kAttractionRatio': 0.018383760022464866, 'kMaxAttractionDistance': 51, 'kStartAttraction': 0.0030122922056250484}. Best is trial 40 with value: 6955.917647058824.\u001b[0m\n"
     ]
    },
    {
     "name": "stdout",
     "output_type": "stream",
     "text": [
      "index_parallel='0062'\n"
     ]
    },
    {
     "name": "stderr",
     "output_type": "stream",
     "text": [
      "\u001b[32m[I 2022-08-16 00:55:13,083]\u001b[0m Trial 62 finished with value: 6939.935294117647 and parameters: {'kErase': 2, 'kRadius': 2, 'kAnnealingA': -5.06600174697052, 'kAnnealingB': 0.5096727718740611, 'kAnnealingStart': 86.07295573093269, 'kSkipRatio': 0.6266656296521222, 'kTargetDeterminationTrials': 9, 'kAttractionRatio': 0.017432450520730315, 'kMaxAttractionDistance': 48, 'kStartAttraction': 0.0018965905404984523}. Best is trial 40 with value: 6955.917647058824.\u001b[0m\n"
     ]
    },
    {
     "name": "stdout",
     "output_type": "stream",
     "text": [
      "index_parallel='0063'\n"
     ]
    },
    {
     "name": "stderr",
     "output_type": "stream",
     "text": [
      "\u001b[32m[I 2022-08-16 00:58:33,443]\u001b[0m Trial 63 finished with value: 6941.864705882353 and parameters: {'kErase': 2, 'kRadius': 2, 'kAnnealingA': -4.9538080769193815, 'kAnnealingB': 0.530180588330875, 'kAnnealingStart': 85.65241111981102, 'kSkipRatio': 0.6398953060697194, 'kTargetDeterminationTrials': 14, 'kAttractionRatio': 0.011631065384123288, 'kMaxAttractionDistance': 52, 'kStartAttraction': 0.003567168272280412}. Best is trial 40 with value: 6955.917647058824.\u001b[0m\n"
     ]
    },
    {
     "name": "stdout",
     "output_type": "stream",
     "text": [
      "index_parallel='0064'\n"
     ]
    },
    {
     "name": "stderr",
     "output_type": "stream",
     "text": [
      "\u001b[32m[I 2022-08-16 01:01:54,494]\u001b[0m Trial 64 finished with value: 6879.294117647059 and parameters: {'kErase': 2, 'kRadius': 6, 'kAnnealingA': -4.495932211712951, 'kAnnealingB': 1.092499046922876, 'kAnnealingStart': 97.03016412189002, 'kSkipRatio': 0.6403562666310834, 'kTargetDeterminationTrials': 16, 'kAttractionRatio': 0.013976242308390915, 'kMaxAttractionDistance': 48, 'kStartAttraction': 0.0028966137843123674}. Best is trial 40 with value: 6955.917647058824.\u001b[0m\n"
     ]
    },
    {
     "name": "stdout",
     "output_type": "stream",
     "text": [
      "index_parallel='0065'\n"
     ]
    },
    {
     "name": "stderr",
     "output_type": "stream",
     "text": [
      "\u001b[32m[I 2022-08-16 01:05:14,838]\u001b[0m Trial 65 finished with value: 6854.282352941176 and parameters: {'kErase': 2, 'kRadius': 2, 'kAnnealingA': -8.202263666807763, 'kAnnealingB': 1.4717676723265871, 'kAnnealingStart': 93.38234430183549, 'kSkipRatio': 0.6089484212458944, 'kTargetDeterminationTrials': 12, 'kAttractionRatio': 0.02778836275333869, 'kMaxAttractionDistance': 35, 'kStartAttraction': 0.0036118708683001003}. Best is trial 40 with value: 6955.917647058824.\u001b[0m\n"
     ]
    },
    {
     "name": "stdout",
     "output_type": "stream",
     "text": [
      "index_parallel='0066'\n"
     ]
    },
    {
     "name": "stderr",
     "output_type": "stream",
     "text": [
      "\u001b[32m[I 2022-08-16 01:08:35,731]\u001b[0m Trial 66 finished with value: 6815.2764705882355 and parameters: {'kErase': 3, 'kRadius': 3, 'kAnnealingA': -5.851802569173305, 'kAnnealingB': 0.706780433640152, 'kAnnealingStart': 84.34363850825527, 'kSkipRatio': 0.5896708527606122, 'kTargetDeterminationTrials': 14, 'kAttractionRatio': 0.01954461646068457, 'kMaxAttractionDistance': 53, 'kStartAttraction': 0.002031486978656372}. Best is trial 40 with value: 6955.917647058824.\u001b[0m\n"
     ]
    },
    {
     "name": "stdout",
     "output_type": "stream",
     "text": [
      "index_parallel='0067'\n"
     ]
    },
    {
     "name": "stderr",
     "output_type": "stream",
     "text": [
      "\u001b[32m[I 2022-08-16 01:11:56,663]\u001b[0m Trial 67 finished with value: 6780.323529411765 and parameters: {'kErase': 2, 'kRadius': 2, 'kAnnealingA': -9.268643950890517, 'kAnnealingB': 0.546149578378833, 'kAnnealingStart': 50.42425234227618, 'kSkipRatio': 0.6871026681648196, 'kTargetDeterminationTrials': 17, 'kAttractionRatio': 0.012284875654289203, 'kMaxAttractionDistance': 60, 'kStartAttraction': 0.005763087363332803}. Best is trial 40 with value: 6955.917647058824.\u001b[0m\n"
     ]
    },
    {
     "name": "stdout",
     "output_type": "stream",
     "text": [
      "index_parallel='0068'\n"
     ]
    },
    {
     "name": "stderr",
     "output_type": "stream",
     "text": [
      "\u001b[32m[I 2022-08-16 01:15:17,381]\u001b[0m Trial 68 finished with value: 6936.494117647058 and parameters: {'kErase': 2, 'kRadius': 2, 'kAnnealingA': -4.396847761370188, 'kAnnealingB': 0.3401045474880762, 'kAnnealingStart': 62.3518474567895, 'kSkipRatio': 0.6460090865540092, 'kTargetDeterminationTrials': 11, 'kAttractionRatio': 0.034348765522097, 'kMaxAttractionDistance': 48, 'kStartAttraction': 0.001408211765425586}. Best is trial 40 with value: 6955.917647058824.\u001b[0m\n"
     ]
    },
    {
     "name": "stdout",
     "output_type": "stream",
     "text": [
      "index_parallel='0069'\n"
     ]
    },
    {
     "name": "stderr",
     "output_type": "stream",
     "text": [
      "\u001b[32m[I 2022-08-16 01:18:38,017]\u001b[0m Trial 69 finished with value: 6971.2 and parameters: {'kErase': 3, 'kRadius': 2, 'kAnnealingA': -2.970720517922322, 'kAnnealingB': 0.9065789270283657, 'kAnnealingStart': 65.03507492730894, 'kSkipRatio': 0.6642636136915265, 'kTargetDeterminationTrials': 9, 'kAttractionRatio': 0.048002529202689256, 'kMaxAttractionDistance': 43, 'kStartAttraction': 0.003783728434905311}. Best is trial 69 with value: 6971.2.\u001b[0m\n"
     ]
    },
    {
     "name": "stdout",
     "output_type": "stream",
     "text": [
      "Updated! 6971.2\n",
      "index_parallel='0070'\n"
     ]
    },
    {
     "name": "stderr",
     "output_type": "stream",
     "text": [
      "\u001b[32m[I 2022-08-16 01:21:58,930]\u001b[0m Trial 70 finished with value: 6871.052941176471 and parameters: {'kErase': 3, 'kRadius': 3, 'kAnnealingA': -5.660979423925922, 'kAnnealingB': 0.8297958681247385, 'kAnnealingStart': 54.26647177937872, 'kSkipRatio': 0.6600766457640681, 'kTargetDeterminationTrials': 19, 'kAttractionRatio': 0.05162081907663073, 'kMaxAttractionDistance': 37, 'kStartAttraction': 0.0017948807406967051}. Best is trial 69 with value: 6971.2.\u001b[0m\n"
     ]
    },
    {
     "name": "stdout",
     "output_type": "stream",
     "text": [
      "index_parallel='0071'\n"
     ]
    },
    {
     "name": "stderr",
     "output_type": "stream",
     "text": [
      "\u001b[32m[I 2022-08-16 01:25:19,308]\u001b[0m Trial 71 finished with value: 6973.84705882353 and parameters: {'kErase': 2, 'kRadius': 2, 'kAnnealingA': -2.5904459482779183, 'kAnnealingB': 0.9493971658212628, 'kAnnealingStart': 87.01176413795082, 'kSkipRatio': 0.6264787167385788, 'kTargetDeterminationTrials': 11, 'kAttractionRatio': 0.0659284745059587, 'kMaxAttractionDistance': 41, 'kStartAttraction': 0.002602230735231084}. Best is trial 71 with value: 6973.84705882353.\u001b[0m\n"
     ]
    },
    {
     "name": "stdout",
     "output_type": "stream",
     "text": [
      "Updated! 6973.84705882353\n",
      "index_parallel='0072'\n"
     ]
    },
    {
     "name": "stderr",
     "output_type": "stream",
     "text": [
      "\u001b[32m[I 2022-08-16 01:28:39,921]\u001b[0m Trial 72 finished with value: 6929.864705882353 and parameters: {'kErase': 2, 'kRadius': 2, 'kAnnealingA': -2.94750497066479, 'kAnnealingB': 1.115764944004687, 'kAnnealingStart': 65.55945486310303, 'kSkipRatio': 0.5737104637053217, 'kTargetDeterminationTrials': 9, 'kAttractionRatio': 0.07451971504823893, 'kMaxAttractionDistance': 43, 'kStartAttraction': 0.0036304505843404683}. Best is trial 71 with value: 6973.84705882353.\u001b[0m\n"
     ]
    },
    {
     "name": "stdout",
     "output_type": "stream",
     "text": [
      "index_parallel='0073'\n"
     ]
    },
    {
     "name": "stderr",
     "output_type": "stream",
     "text": [
      "\u001b[32m[I 2022-08-16 01:32:00,416]\u001b[0m Trial 73 finished with value: 6853.447058823529 and parameters: {'kErase': 3, 'kRadius': 2, 'kAnnealingA': -0.41997510375372427, 'kAnnealingB': 1.3228063530183751, 'kAnnealingStart': 83.9467502402973, 'kSkipRatio': 0.6272861862933646, 'kTargetDeterminationTrials': 13, 'kAttractionRatio': 0.062356557037362495, 'kMaxAttractionDistance': 31, 'kStartAttraction': 0.0024052061428537384}. Best is trial 71 with value: 6973.84705882353.\u001b[0m\n"
     ]
    },
    {
     "name": "stdout",
     "output_type": "stream",
     "text": [
      "index_parallel='0074'\n"
     ]
    },
    {
     "name": "stderr",
     "output_type": "stream",
     "text": [
      "\u001b[32m[I 2022-08-16 01:35:20,811]\u001b[0m Trial 74 finished with value: 6894.523529411765 and parameters: {'kErase': 2, 'kRadius': 2, 'kAnnealingA': -2.4937174949799643, 'kAnnealingB': 0.9455993409354635, 'kAnnealingStart': 44.491422946508976, 'kSkipRatio': 0.735588336183746, 'kTargetDeterminationTrials': 11, 'kAttractionRatio': 0.10384624585265488, 'kMaxAttractionDistance': 56, 'kStartAttraction': 0.005325476646131949}. Best is trial 71 with value: 6973.84705882353.\u001b[0m\n"
     ]
    },
    {
     "name": "stdout",
     "output_type": "stream",
     "text": [
      "index_parallel='0075'\n"
     ]
    },
    {
     "name": "stderr",
     "output_type": "stream",
     "text": [
      "\u001b[32m[I 2022-08-16 01:38:41,493]\u001b[0m Trial 75 finished with value: 6925.047058823529 and parameters: {'kErase': 2, 'kRadius': 2, 'kAnnealingA': -4.185161102779656, 'kAnnealingB': 0.40352474578774095, 'kAnnealingStart': 53.28775888171944, 'kSkipRatio': 0.693207613300419, 'kTargetDeterminationTrials': 14, 'kAttractionRatio': 0.02379971218490071, 'kMaxAttractionDistance': 76, 'kStartAttraction': 0.0015401551693091037}. Best is trial 71 with value: 6973.84705882353.\u001b[0m\n"
     ]
    },
    {
     "name": "stdout",
     "output_type": "stream",
     "text": [
      "index_parallel='0076'\n"
     ]
    },
    {
     "name": "stderr",
     "output_type": "stream",
     "text": [
      "\u001b[32m[I 2022-08-16 01:42:01,824]\u001b[0m Trial 76 finished with value: 5753.729411764706 and parameters: {'kErase': 3, 'kRadius': 2, 'kAnnealingA': -1.1353894357666925, 'kAnnealingB': 0.6059659194836094, 'kAnnealingStart': 68.84847338284214, 'kSkipRatio': 0.226397361980309, 'kTargetDeterminationTrials': 9, 'kAttractionRatio': 0.043304118428149435, 'kMaxAttractionDistance': 63, 'kStartAttraction': 0.0019980666044740075}. Best is trial 71 with value: 6973.84705882353.\u001b[0m\n"
     ]
    },
    {
     "name": "stdout",
     "output_type": "stream",
     "text": [
      "index_parallel='0077'\n"
     ]
    },
    {
     "name": "stderr",
     "output_type": "stream",
     "text": [
      "\u001b[32m[I 2022-08-16 01:45:22,280]\u001b[0m Trial 77 finished with value: 6786.005882352942 and parameters: {'kErase': 2, 'kRadius': 2, 'kAnnealingA': -10.379877737025243, 'kAnnealingB': 1.256259766012999, 'kAnnealingStart': 81.97041943440657, 'kSkipRatio': 0.6675126900709727, 'kTargetDeterminationTrials': 10, 'kAttractionRatio': 0.015590374828928657, 'kMaxAttractionDistance': 39, 'kStartAttraction': 0.002533965495728125}. Best is trial 71 with value: 6973.84705882353.\u001b[0m\n"
     ]
    },
    {
     "name": "stdout",
     "output_type": "stream",
     "text": [
      "index_parallel='0078'\n"
     ]
    },
    {
     "name": "stderr",
     "output_type": "stream",
     "text": [
      "\u001b[32m[I 2022-08-16 01:48:42,799]\u001b[0m Trial 78 finished with value: 6908.1882352941175 and parameters: {'kErase': 2, 'kRadius': 2, 'kAnnealingA': -6.185943571803356, 'kAnnealingB': 0.24162104850365673, 'kAnnealingStart': 55.74698861184832, 'kSkipRatio': 0.5349238581659563, 'kTargetDeterminationTrials': 15, 'kAttractionRatio': 0.01155033760911993, 'kMaxAttractionDistance': 99, 'kStartAttraction': 0.0013137773356866748}. Best is trial 71 with value: 6973.84705882353.\u001b[0m\n"
     ]
    },
    {
     "name": "stdout",
     "output_type": "stream",
     "text": [
      "index_parallel='0079'\n"
     ]
    },
    {
     "name": "stderr",
     "output_type": "stream",
     "text": [
      "\u001b[32m[I 2022-08-16 01:52:03,373]\u001b[0m Trial 79 finished with value: 6944.6882352941175 and parameters: {'kErase': 2, 'kRadius': 2, 'kAnnealingA': -1.915915946292547, 'kAnnealingB': 1.772660277894414, 'kAnnealingStart': 40.69659968877465, 'kSkipRatio': 0.6228963055453768, 'kTargetDeterminationTrials': 18, 'kAttractionRatio': 0.03065763481701629, 'kMaxAttractionDistance': 45, 'kStartAttraction': 0.0018715028912718423}. Best is trial 71 with value: 6973.84705882353.\u001b[0m\n"
     ]
    },
    {
     "name": "stdout",
     "output_type": "stream",
     "text": [
      "index_parallel='0080'\n"
     ]
    },
    {
     "name": "stderr",
     "output_type": "stream",
     "text": [
      "\u001b[32m[I 2022-08-16 01:55:23,905]\u001b[0m Trial 80 finished with value: 6943.994117647058 and parameters: {'kErase': 3, 'kRadius': 3, 'kAnnealingA': -1.8233183446456669, 'kAnnealingB': 2.0568615464838245, 'kAnnealingStart': 67.35825689050284, 'kSkipRatio': 0.6242286365369067, 'kTargetDeterminationTrials': 20, 'kAttractionRatio': 0.03158685356790962, 'kMaxAttractionDistance': 32, 'kStartAttraction': 0.0036042174047890593}. Best is trial 71 with value: 6973.84705882353.\u001b[0m\n"
     ]
    },
    {
     "name": "stdout",
     "output_type": "stream",
     "text": [
      "index_parallel='0081'\n"
     ]
    },
    {
     "name": "stderr",
     "output_type": "stream",
     "text": [
      "\u001b[32m[I 2022-08-16 01:58:44,804]\u001b[0m Trial 81 finished with value: 6918.917647058824 and parameters: {'kErase': 3, 'kRadius': 3, 'kAnnealingA': -1.8501960021954265, 'kAnnealingB': 2.091041391184238, 'kAnnealingStart': 68.31570545827178, 'kSkipRatio': 0.6265872884041488, 'kTargetDeterminationTrials': 19, 'kAttractionRatio': 0.0479875908431522, 'kMaxAttractionDistance': 44, 'kStartAttraction': 0.004055757417601965}. Best is trial 71 with value: 6973.84705882353.\u001b[0m\n"
     ]
    },
    {
     "name": "stdout",
     "output_type": "stream",
     "text": [
      "index_parallel='0082'\n"
     ]
    },
    {
     "name": "stderr",
     "output_type": "stream",
     "text": [
      "\u001b[32m[I 2022-08-16 02:02:05,564]\u001b[0m Trial 82 finished with value: 6851.070588235294 and parameters: {'kErase': 3, 'kRadius': 2, 'kAnnealingA': -5.091916928742695, 'kAnnealingB': 1.7996094906866533, 'kAnnealingStart': 47.49008539397696, 'kSkipRatio': 0.6051185236780481, 'kTargetDeterminationTrials': 18, 'kAttractionRatio': 0.03231358547005856, 'kMaxAttractionDistance': 31, 'kStartAttraction': 0.002582613022603328}. Best is trial 71 with value: 6973.84705882353.\u001b[0m\n"
     ]
    },
    {
     "name": "stdout",
     "output_type": "stream",
     "text": [
      "index_parallel='0083'\n"
     ]
    },
    {
     "name": "stderr",
     "output_type": "stream",
     "text": [
      "\u001b[32m[I 2022-08-16 02:05:26,427]\u001b[0m Trial 83 finished with value: 6894.370588235294 and parameters: {'kErase': 3, 'kRadius': 2, 'kAnnealingA': -2.827065298212077, 'kAnnealingB': 1.9783707469981464, 'kAnnealingStart': 88.459059009289, 'kSkipRatio': 0.5763131730565979, 'kTargetDeterminationTrials': 20, 'kAttractionRatio': 0.04010831762813962, 'kMaxAttractionDistance': 37, 'kStartAttraction': 0.005939457648702755}. Best is trial 71 with value: 6973.84705882353.\u001b[0m\n"
     ]
    },
    {
     "name": "stdout",
     "output_type": "stream",
     "text": [
      "index_parallel='0084'\n"
     ]
    },
    {
     "name": "stderr",
     "output_type": "stream",
     "text": [
      "\u001b[32m[I 2022-08-16 02:08:47,570]\u001b[0m Trial 84 finished with value: 6484.823529411765 and parameters: {'kErase': 2, 'kRadius': 3, 'kAnnealingA': 0.2501671370119114, 'kAnnealingB': 2.340323128293474, 'kAnnealingStart': 3.6822992351378656, 'kSkipRatio': 0.5572269412659877, 'kTargetDeterminationTrials': 16, 'kAttractionRatio': 0.05670938810155077, 'kMaxAttractionDistance': 44, 'kStartAttraction': 0.003387774025819047}. Best is trial 71 with value: 6973.84705882353.\u001b[0m\n"
     ]
    },
    {
     "name": "stdout",
     "output_type": "stream",
     "text": [
      "index_parallel='0085'\n"
     ]
    },
    {
     "name": "stderr",
     "output_type": "stream",
     "text": [
      "\u001b[32m[I 2022-08-16 02:12:07,329]\u001b[0m Trial 85 finished with value: 6743.2 and parameters: {'kErase': 1, 'kRadius': 2, 'kAnnealingA': -6.809379158904055, 'kAnnealingB': 1.505465353586588, 'kAnnealingStart': 73.35396305251794, 'kSkipRatio': 0.6698742797367508, 'kTargetDeterminationTrials': 12, 'kAttractionRatio': 0.027805484512240783, 'kMaxAttractionDistance': 48, 'kStartAttraction': 0.0045973674061690955}. Best is trial 71 with value: 6973.84705882353.\u001b[0m\n"
     ]
    },
    {
     "name": "stdout",
     "output_type": "stream",
     "text": [
      "index_parallel='0086'\n"
     ]
    },
    {
     "name": "stderr",
     "output_type": "stream",
     "text": [
      "\u001b[32m[I 2022-08-16 02:15:28,069]\u001b[0m Trial 86 finished with value: 6944.111764705883 and parameters: {'kErase': 3, 'kRadius': 2, 'kAnnealingA': -1.7499581549420515, 'kAnnealingB': 1.7403346497531889, 'kAnnealingStart': 60.730380573838936, 'kSkipRatio': 0.6121946790384265, 'kTargetDeterminationTrials': 14, 'kAttractionRatio': 0.03230739595851401, 'kMaxAttractionDistance': 33, 'kStartAttraction': 0.0019017826624519694}. Best is trial 71 with value: 6973.84705882353.\u001b[0m\n"
     ]
    },
    {
     "name": "stdout",
     "output_type": "stream",
     "text": [
      "index_parallel='0087'\n"
     ]
    },
    {
     "name": "stderr",
     "output_type": "stream",
     "text": [
      "\u001b[32m[I 2022-08-16 02:18:48,607]\u001b[0m Trial 87 finished with value: 6907.082352941176 and parameters: {'kErase': 3, 'kRadius': 2, 'kAnnealingA': -1.7109364911429132, 'kAnnealingB': 1.6845504911000049, 'kAnnealingStart': 33.57316637889014, 'kSkipRatio': 0.5940709117530683, 'kTargetDeterminationTrials': 13, 'kAttractionRatio': 0.03331240679112295, 'kMaxAttractionDistance': 31, 'kStartAttraction': 0.001565590158457528}. Best is trial 71 with value: 6973.84705882353.\u001b[0m\n"
     ]
    },
    {
     "name": "stdout",
     "output_type": "stream",
     "text": [
      "index_parallel='0088'\n"
     ]
    },
    {
     "name": "stderr",
     "output_type": "stream",
     "text": [
      "\u001b[32m[I 2022-08-16 02:22:09,572]\u001b[0m Trial 88 finished with value: 6937.494117647058 and parameters: {'kErase': 3, 'kRadius': 3, 'kAnnealingA': -0.908213580090343, 'kAnnealingB': 1.775959781812731, 'kAnnealingStart': 42.18228033759118, 'kSkipRatio': 0.6561152760368805, 'kTargetDeterminationTrials': 15, 'kAttractionRatio': 0.022429124224916164, 'kMaxAttractionDistance': 23, 'kStartAttraction': 0.0027903733931744167}. Best is trial 71 with value: 6973.84705882353.\u001b[0m\n"
     ]
    },
    {
     "name": "stdout",
     "output_type": "stream",
     "text": [
      "index_parallel='0089'\n"
     ]
    },
    {
     "name": "stderr",
     "output_type": "stream",
     "text": [
      "\u001b[32m[I 2022-08-16 02:25:30,248]\u001b[0m Trial 89 finished with value: 6827.317647058823 and parameters: {'kErase': 4, 'kRadius': 4, 'kAnnealingA': -0.020423471047298136, 'kAnnealingB': 1.5905913766105284, 'kAnnealingStart': 60.75420398682706, 'kSkipRatio': 0.6189280322954294, 'kTargetDeterminationTrials': 17, 'kAttractionRatio': 0.03760269778187867, 'kMaxAttractionDistance': 33, 'kStartAttraction': 0.010933789823114602}. Best is trial 71 with value: 6973.84705882353.\u001b[0m\n"
     ]
    },
    {
     "name": "stdout",
     "output_type": "stream",
     "text": [
      "index_parallel='0090'\n"
     ]
    },
    {
     "name": "stderr",
     "output_type": "stream",
     "text": [
      "\u001b[32m[I 2022-08-16 02:28:50,904]\u001b[0m Trial 90 finished with value: 6946.15294117647 and parameters: {'kErase': 3, 'kRadius': 2, 'kAnnealingA': -3.740966103503293, 'kAnnealingB': 2.308102522371474, 'kAnnealingStart': 49.19199129254915, 'kSkipRatio': 0.6992632882465936, 'kTargetDeterminationTrials': 14, 'kAttractionRatio': 0.031031069538928976, 'kMaxAttractionDistance': 55, 'kStartAttraction': 0.022589814227454343}. Best is trial 71 with value: 6973.84705882353.\u001b[0m\n"
     ]
    },
    {
     "name": "stdout",
     "output_type": "stream",
     "text": [
      "index_parallel='0091'\n"
     ]
    },
    {
     "name": "stderr",
     "output_type": "stream",
     "text": [
      "\u001b[32m[I 2022-08-16 02:32:11,497]\u001b[0m Trial 91 finished with value: 6917.15294117647 and parameters: {'kErase': 3, 'kRadius': 2, 'kAnnealingA': -3.4237415959496715, 'kAnnealingB': 2.4387405407198326, 'kAnnealingStart': 49.75621478339779, 'kSkipRatio': 0.7323610577207266, 'kTargetDeterminationTrials': 11, 'kAttractionRatio': 0.07650330105124872, 'kMaxAttractionDistance': 41, 'kStartAttraction': 0.02243957102155692}. Best is trial 71 with value: 6973.84705882353.\u001b[0m\n"
     ]
    },
    {
     "name": "stdout",
     "output_type": "stream",
     "text": [
      "index_parallel='0092'\n"
     ]
    },
    {
     "name": "stderr",
     "output_type": "stream",
     "text": [
      "\u001b[32m[I 2022-08-16 02:35:31,903]\u001b[0m Trial 92 finished with value: 6928.435294117647 and parameters: {'kErase': 3, 'kRadius': 2, 'kAnnealingA': -3.961052624071976, 'kAnnealingB': 2.0706668660241845, 'kAnnealingStart': 58.71890053567032, 'kSkipRatio': 0.7017240480376078, 'kTargetDeterminationTrials': 14, 'kAttractionRatio': 0.02999274226542904, 'kMaxAttractionDistance': 56, 'kStartAttraction': 0.0022497682939977416}. Best is trial 71 with value: 6973.84705882353.\u001b[0m\n"
     ]
    },
    {
     "name": "stdout",
     "output_type": "stream",
     "text": [
      "index_parallel='0093'\n"
     ]
    }
   ],
   "source": [
    "study.optimize(\n",
    "    partial(objective, in_dir=in_dir, work_dir=work_dir),\n",
    "    n_trials=3000,\n",
    "    timeout=86400,\n",
    "    callbacks=[callback]\n",
    ")"
   ]
  },
  {
   "cell_type": "code",
   "execution_count": null,
   "id": "700269d2",
   "metadata": {},
   "outputs": [],
   "source": []
  }
 ],
 "metadata": {
  "kernelspec": {
   "display_name": "Python 3 (ipykernel)",
   "language": "python",
   "name": "python3"
  },
  "language_info": {
   "codemirror_mode": {
    "name": "ipython",
    "version": 3
   },
   "file_extension": ".py",
   "mimetype": "text/x-python",
   "name": "python",
   "nbconvert_exporter": "python",
   "pygments_lexer": "ipython3",
   "version": "3.9.12"
  }
 },
 "nbformat": 4,
 "nbformat_minor": 5
}
