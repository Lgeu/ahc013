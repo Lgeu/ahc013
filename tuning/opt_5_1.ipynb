{
 "cells": [
  {
   "cell_type": "code",
   "execution_count": 1,
   "id": "25a1dac8",
   "metadata": {},
   "outputs": [],
   "source": [
    "import re\n",
    "import sys\n",
    "from uuid import uuid1\n",
    "from time import sleep\n",
    "from pprint import pprint\n",
    "from pathlib import Path\n",
    "from tempfile import gettempdir\n",
    "from threading import Thread\n",
    "from functools import partial\n",
    "from subprocess import Popen, PIPE\n",
    "\n",
    "from tqdm.notebook import tqdm\n",
    "import numpy as np\n",
    "import optuna\n",
    "import pandas as pd\n",
    "import matplotlib.pyplot as plt\n",
    "\n",
    "FILENAME = \"main.cpp\""
   ]
  },
  {
   "cell_type": "code",
   "execution_count": 2,
   "id": "3dd4d02e",
   "metadata": {},
   "outputs": [
    {
     "name": "stdout",
     "output_type": "stream",
     "text": [
      "10 variables were found.\n"
     ]
    },
    {
     "data": {
      "text/html": [
       "<div>\n",
       "<style scoped>\n",
       "    .dataframe tbody tr th:only-of-type {\n",
       "        vertical-align: middle;\n",
       "    }\n",
       "\n",
       "    .dataframe tbody tr th {\n",
       "        vertical-align: top;\n",
       "    }\n",
       "\n",
       "    .dataframe thead th {\n",
       "        text-align: right;\n",
       "    }\n",
       "</style>\n",
       "<table border=\"1\" class=\"dataframe\">\n",
       "  <thead>\n",
       "    <tr style=\"text-align: right;\">\n",
       "      <th></th>\n",
       "      <th>name</th>\n",
       "      <th>method</th>\n",
       "      <th>min</th>\n",
       "      <th>max</th>\n",
       "      <th>log</th>\n",
       "      <th>left</th>\n",
       "      <th>right</th>\n",
       "    </tr>\n",
       "  </thead>\n",
       "  <tbody>\n",
       "    <tr>\n",
       "      <th>0</th>\n",
       "      <td>kErase</td>\n",
       "      <td>suggest_int</td>\n",
       "      <td>1.000</td>\n",
       "      <td>5.0</td>\n",
       "      <td>False</td>\n",
       "      <td>static constexpr auto kErase =</td>\n",
       "      <td>;             // OPTIMIZE [1, 5]</td>\n",
       "    </tr>\n",
       "    <tr>\n",
       "      <th>1</th>\n",
       "      <td>kRadius</td>\n",
       "      <td>suggest_int</td>\n",
       "      <td>2.000</td>\n",
       "      <td>6.0</td>\n",
       "      <td>False</td>\n",
       "      <td>static constexpr auto kRadius =</td>\n",
       "      <td>;            // OPTIMIZE [2, 6]</td>\n",
       "    </tr>\n",
       "    <tr>\n",
       "      <th>2</th>\n",
       "      <td>kAnnealingA</td>\n",
       "      <td>suggest_float</td>\n",
       "      <td>-15.000</td>\n",
       "      <td>15.0</td>\n",
       "      <td>False</td>\n",
       "      <td>static constexpr auto kAnnealingA =</td>\n",
       "      <td>;      // OPTIMIZE [-15.0, 15.0]</td>\n",
       "    </tr>\n",
       "    <tr>\n",
       "      <th>3</th>\n",
       "      <td>kAnnealingB</td>\n",
       "      <td>suggest_float</td>\n",
       "      <td>0.000</td>\n",
       "      <td>3.0</td>\n",
       "      <td>False</td>\n",
       "      <td>static constexpr auto kAnnealingB =</td>\n",
       "      <td>;      // OPTIMIZE [0.0, 3.0]</td>\n",
       "    </tr>\n",
       "    <tr>\n",
       "      <th>4</th>\n",
       "      <td>kAnnealingStart</td>\n",
       "      <td>suggest_float</td>\n",
       "      <td>1.000</td>\n",
       "      <td>100.0</td>\n",
       "      <td>True</td>\n",
       "      <td>static constexpr auto kAnnealingStart =</td>\n",
       "      <td>; // OPTIMIZE LOG [1.0, 100.0]</td>\n",
       "    </tr>\n",
       "    <tr>\n",
       "      <th>5</th>\n",
       "      <td>kSkipRatio</td>\n",
       "      <td>suggest_float</td>\n",
       "      <td>0.200</td>\n",
       "      <td>0.8</td>\n",
       "      <td>False</td>\n",
       "      <td>static constexpr auto kSkipRatio =</td>\n",
       "      <td>;       // OPTIMIZE [0.2, 0.8]</td>\n",
       "    </tr>\n",
       "    <tr>\n",
       "      <th>6</th>\n",
       "      <td>kTargetDeterminationTrials</td>\n",
       "      <td>suggest_int</td>\n",
       "      <td>1.000</td>\n",
       "      <td>20.0</td>\n",
       "      <td>True</td>\n",
       "      <td>static constexpr auto kTargetDeterminationTria...</td>\n",
       "      <td>; // OPTIMIZE LOG [1, 20]</td>\n",
       "    </tr>\n",
       "    <tr>\n",
       "      <th>7</th>\n",
       "      <td>kAttractionRatio</td>\n",
       "      <td>suggest_float</td>\n",
       "      <td>0.010</td>\n",
       "      <td>0.9</td>\n",
       "      <td>True</td>\n",
       "      <td>static constexpr auto kAttractionRatio =</td>\n",
       "      <td>;      // OPTIMIZE LOG [0.01, 0.9]</td>\n",
       "    </tr>\n",
       "    <tr>\n",
       "      <th>8</th>\n",
       "      <td>kMaxAttractionDistance</td>\n",
       "      <td>suggest_int</td>\n",
       "      <td>4.000</td>\n",
       "      <td>99.0</td>\n",
       "      <td>True</td>\n",
       "      <td>static constexpr auto kMaxAttractionDistance =</td>\n",
       "      <td>; // OPTIMIZE LOG [4, 99]</td>\n",
       "    </tr>\n",
       "    <tr>\n",
       "      <th>9</th>\n",
       "      <td>kStartAttraction</td>\n",
       "      <td>suggest_float</td>\n",
       "      <td>0.001</td>\n",
       "      <td>0.9</td>\n",
       "      <td>True</td>\n",
       "      <td>static constexpr auto kStartAttraction =</td>\n",
       "      <td>;     // OPTIMIZE LOG [0.001, 0.9]</td>\n",
       "    </tr>\n",
       "  </tbody>\n",
       "</table>\n",
       "</div>"
      ],
      "text/plain": [
       "                         name         method     min    max    log  \\\n",
       "0                      kErase    suggest_int   1.000    5.0  False   \n",
       "1                     kRadius    suggest_int   2.000    6.0  False   \n",
       "2                 kAnnealingA  suggest_float -15.000   15.0  False   \n",
       "3                 kAnnealingB  suggest_float   0.000    3.0  False   \n",
       "4             kAnnealingStart  suggest_float   1.000  100.0   True   \n",
       "5                  kSkipRatio  suggest_float   0.200    0.8  False   \n",
       "6  kTargetDeterminationTrials    suggest_int   1.000   20.0   True   \n",
       "7            kAttractionRatio  suggest_float   0.010    0.9   True   \n",
       "8      kMaxAttractionDistance    suggest_int   4.000   99.0   True   \n",
       "9            kStartAttraction  suggest_float   0.001    0.9   True   \n",
       "\n",
       "                                                left  \\\n",
       "0                    static constexpr auto kErase =    \n",
       "1                   static constexpr auto kRadius =    \n",
       "2               static constexpr auto kAnnealingA =    \n",
       "3               static constexpr auto kAnnealingB =    \n",
       "4           static constexpr auto kAnnealingStart =    \n",
       "5                static constexpr auto kSkipRatio =    \n",
       "6  static constexpr auto kTargetDeterminationTria...   \n",
       "7          static constexpr auto kAttractionRatio =    \n",
       "8    static constexpr auto kMaxAttractionDistance =    \n",
       "9          static constexpr auto kStartAttraction =    \n",
       "\n",
       "                                right  \n",
       "0    ;             // OPTIMIZE [1, 5]  \n",
       "1     ;            // OPTIMIZE [2, 6]  \n",
       "2    ;      // OPTIMIZE [-15.0, 15.0]  \n",
       "3       ;      // OPTIMIZE [0.0, 3.0]  \n",
       "4      ; // OPTIMIZE LOG [1.0, 100.0]  \n",
       "5      ;       // OPTIMIZE [0.2, 0.8]  \n",
       "6           ; // OPTIMIZE LOG [1, 20]  \n",
       "7  ;      // OPTIMIZE LOG [0.01, 0.9]  \n",
       "8           ; // OPTIMIZE LOG [4, 99]  \n",
       "9  ;     // OPTIMIZE LOG [0.001, 0.9]  "
      ]
     },
     "metadata": {},
     "output_type": "display_data"
    }
   ],
   "source": [
    "# ここでエラー出力は何かおかしいかもしれない\n",
    "\n",
    "\n",
    "# パラメータ抽出\n",
    "with open(FILENAME) as f:\n",
    "    answer = f.read()\n",
    "\n",
    "\n",
    "variables_optimize = []\n",
    "\n",
    "for left, value, right, options in re.findall(r\"^([^/\\n]*=\\s*)(.+?)(\\s*;\\s*//(?:.*\\W)?OPTIMIZE(\\W.*))$\", answer, re.MULTILINE):\n",
    "    name = left.replace(\"=\", \"\").strip().split()[-1]\n",
    "    \n",
    "    searched = re.search(r\".*\\[(?P<min>.*),(?P<max>.*)\\].*\", options)\n",
    "    if searched:\n",
    "        min_value = max_value = None\n",
    "        try:\n",
    "            min_value = eval(searched.group(\"min\"))\n",
    "            max_value = eval(searched.group(\"max\"))\n",
    "            assert min_value <= max_value\n",
    "        except Exception as e:\n",
    "            print(f\"searched={searched}\", file=sys.stderr)\n",
    "            print(e, file=sys.stderr)\n",
    "            continue\n",
    "        log = \"LOG\" in options  # 雑、直したほうが良い\n",
    "        if type(min_value) != type(max_value):\n",
    "            print(f\"searched={searched}\", file=sys.stderr)\n",
    "            print(\"types not matched\", file=sys.stderr)\n",
    "            continue\n",
    "        if isinstance(min_value, int):\n",
    "            method = \"suggest_int\"\n",
    "        elif isinstance(min_value, float):\n",
    "            method = \"suggest_float\"\n",
    "        else:\n",
    "            print(f\"searched={searched}\", file=sys.stderr)\n",
    "            print(f\"unknown type ({type(min_value)})\", file=sys.stderr)\n",
    "            continue\n",
    "        variables_optimize.append({\n",
    "            \"name\": name,\n",
    "            \"method\": method,\n",
    "            \"min\": min_value,\n",
    "            \"max\": max_value,\n",
    "            \"log\": log,\n",
    "            \"left\": left,\n",
    "            \"right\": right,\n",
    "        })\n",
    "    elif searched := re.search(r\".*\\{(?P<choices>.*?)\\}.*\", options):\n",
    "        choices = list(map(lambda x: x.strip(), searched.group(\"choices\").split(\",\")))\n",
    "        variables_optimize.append({\n",
    "            \"name\": name,\n",
    "            \"method\": \"suggest_categorical\",\n",
    "            \"choices\": choices,\n",
    "            \"left\": left,\n",
    "            \"right\": right,\n",
    "        })\n",
    "    else:\n",
    "        print(f\"searched={searched}\", file=sys.stderr)\n",
    "        print(f\"pattern was matched but options are incorrect.\", file=sys.stderr)\n",
    "\n",
    "print(len(variables_optimize), \"variables were found.\")\n",
    "if globals().get(\"pd\"):\n",
    "    display(pd.DataFrame(variables_optimize))\n",
    "else:\n",
    "    pprint(variables_optimize)"
   ]
  },
  {
   "cell_type": "code",
   "execution_count": 3,
   "id": "001042b9",
   "metadata": {},
   "outputs": [],
   "source": [
    "def escape(string):  # 正規表現の中でそのまま使いたい文字列をエスケープ\n",
    "    res = !echo '{string}' | sed -e 's/[]\\/$*.^[]/\\\\&/g'\n",
    "    return res[0]\n",
    "\n",
    "def escape_sed(string):  # sed の置換後の文字列用のエスケープ\n",
    "    res = !echo '{string}' | sed -e 's/[\\/&]/\\\\&/g'\n",
    "    return res[0]\n",
    "\n",
    "def read_stream(name, in_file, out_file):\n",
    "    for line in in_file:\n",
    "        print(f\"[{name}] {line.strip()}\", file=out_file)\n",
    "\n",
    "def run(cmd, name):\n",
    "    proc = Popen(cmd, stdout=PIPE, stderr=PIPE, universal_newlines=True, shell=isinstance(cmd, str))\n",
    "    stdout_thread = Thread(target=read_stream, args=(name, proc.stdout, sys.stdout))\n",
    "    stderr_thread = Thread(target=read_stream, args=(name, proc.stderr, sys.stderr))\n",
    "    stdout_thread.start()\n",
    "    stderr_thread.start()\n",
    "    proc.wait()\n",
    "    return proc\n",
    "\n",
    "def objective(trial, in_dir, work_dir):\n",
    "    n_internal_parallel = 3\n",
    "    \n",
    "    index_parallel = f\"{trial.number:04d}\"\n",
    "    print(f\"{index_parallel=}\")\n",
    "    \n",
    "    work_dir = Path(work_dir)\n",
    "    directory_input = Path(in_dir)  # 中のすべてのファイルに対して実行される\n",
    "    #parameters_changed_filename = Path(gettempdir()) / str(uuid1())\n",
    "    parameters_changed_filename = work_dir / f\"{index_parallel}_{FILENAME}\"\n",
    "    \n",
    "    run([\"mkdir\", f\"{work_dir / index_parallel}_out\"], \"mkdir\")\n",
    "    run([\"mkdir\", f\"{work_dir / index_parallel}_score\"], \"mkdir\")\n",
    "    \n",
    "    # ファイル作成\n",
    "    run(f\"cp {FILENAME} {parameters_changed_filename}\", \"cp\")\n",
    "    sed_options = [f\"-i {parameters_changed_filename}\"]\n",
    "    for variable in variables_optimize:\n",
    "        if variable[\"method\"] == \"suggest_categorical\":\n",
    "            val =  trial.suggest_categorical(variable[\"name\"], variable[\"choices\"])\n",
    "        else:\n",
    "            val = getattr(trial, variable[\"method\"])(variable[\"name\"], variable[\"min\"], variable[\"max\"], log=variable[\"log\"])\n",
    "        left = variable[\"left\"]\n",
    "        right = variable[\"right\"]\n",
    "        sed_options.append(f\"\"\"-e 's/^{escape(left)}.*{escape(right)}$/{escape_sed(left)}{val}{escape_sed(right)}/'\"\"\")\n",
    "    command_sed = f\"sed {' '.join(sed_options)}\"\n",
    "    #print(command_sed)\n",
    "    run(command_sed, \"sed\")\n",
    "    \n",
    "    # コンパイル\n",
    "    command_compile = f\"g++ {parameters_changed_filename} -std=gnu++17 -O2 -DONLINE_JUDGE -o {parameters_changed_filename}.out\"\n",
    "    #print(command_compile)\n",
    "    run(command_compile, \"compile\")\n",
    "    # 実行・採点コマンド (@ はファイル名)\n",
    "    command_exec = (\n",
    "        #f\"./a.out < ./tools/in/{i:04d}.txt > {out_file} && ./tools/target/release/vis ./tools/in/{i:04d}.txt {out_file}\"\n",
    "        #f\"../tools/target/release/tester $(pwd)/{parameters_changed_filename}.out < {directory_input}/@ 2>&1 | grep Score\"\n",
    "        #f\"../tools/target/release/tester $(pwd)/{parameters_changed_filename}.out < {directory_input}/@ 2>&1 | grep Score | sed -E s/[^0-9]+// > ./{index_parallel}_score/@;\"\n",
    "        #f\"cargo run --release --manifest-path ../tools/Cargo.toml --bin tester {directory_input}/@ $(pwd)/{parameters_changed_filename}.out 2>&1 | grep Score | sed -E s/[^0-9]+// > ./{index_parallel}_score/@;\"\n",
    "        f\"./{parameters_changed_filename}.out < {directory_input}/@ > {work_dir / index_parallel}_out/@;\"\n",
    "        f\"../tools/target/release/vis {directory_input}/@ {work_dir / index_parallel}_out/@ 2> /dev/null > {work_dir / index_parallel}_score/@;\"\n",
    "    )\n",
    "    # 並列実行 (sed はパスのディレクトリ部分を消してファイル名にしてる)\n",
    "    run(f\"find {directory_input}/* | sed 's!^.*/!!' | xargs -I@ -P {n_internal_parallel} sh -c '{command_exec}'\", \"exec\")\n",
    "    \n",
    "    # 集計\n",
    "    scores = []\n",
    "    for file_path in Path(f\"{work_dir / index_parallel}_score/\").iterdir():  \n",
    "        with open(file_path) as f:\n",
    "            scores.append(int(f.readline().strip().split()[-1]))\n",
    "    mean_score = sum(scores) / len(scores)\n",
    "    \n",
    "    # 後始末\n",
    "    run(f\"rm -rf {work_dir / index_parallel}_out\", \"rm\")\n",
    "    run(f\"rm -rf {work_dir / index_parallel}_score\", \"rm\")\n",
    "    #run(f\"rm {parameters_changed_filename}\", \"rm\")\n",
    "    run(f\"rm {parameters_changed_filename}.out\", \"rm\")\n",
    "    \n",
    "    return mean_score"
   ]
  },
  {
   "cell_type": "code",
   "execution_count": 4,
   "id": "2d2e133c",
   "metadata": {},
   "outputs": [
    {
     "name": "stderr",
     "output_type": "stream",
     "text": [
      "\u001b[32m[I 2022-08-15 21:31:01,234]\u001b[0m A new study created in RDB with name: study_5_1\u001b[0m\n"
     ]
    }
   ],
   "source": [
    "K = 5\n",
    "N_CLASS = 1\n",
    "\n",
    "in_dir = Path(f\"in_{K}_{N_CLASS}\")\n",
    "work_dir = Path(f\"work_{K}_{N_CLASS}\")\n",
    "\n",
    "study_name = f\"study_{K}_{N_CLASS}\"\n",
    "storage_path = work_dir / \"study.db\"\n",
    "storage = f\"sqlite:///{storage_path}\"\n",
    "study = optuna.create_study(storage=storage, load_if_exists=True, study_name=study_name, direction=\"maximize\")\n",
    "\n",
    "def callback(study, trial):\n",
    "    try:\n",
    "        index_parallel = f\"{trial.number:04d}\"\n",
    "        parameters_changed_filename = work_dir / f\"{index_parallel}_{FILENAME}\"\n",
    "        if study.best_value == trial.value:\n",
    "            print(f\"Updated! {study.best_value}\")\n",
    "            !cp {parameters_changed_filename} {work_dir / \"best_parameters.cpp\"}\n",
    "        !rm {parameters_changed_filename}\n",
    "    except:\n",
    "        print(\":(\")\n"
   ]
  },
  {
   "cell_type": "code",
   "execution_count": null,
   "id": "61c2901d",
   "metadata": {},
   "outputs": [
    {
     "name": "stdout",
     "output_type": "stream",
     "text": [
      "index_parallel='0000'\n"
     ]
    },
    {
     "name": "stderr",
     "output_type": "stream",
     "text": [
      "\u001b[32m[I 2022-08-15 21:34:45,497]\u001b[0m Trial 0 finished with value: 6361.0615384615385 and parameters: {'kErase': 4, 'kRadius': 5, 'kAnnealingA': 0.39430901514753103, 'kAnnealingB': 2.6910896445529615, 'kAnnealingStart': 33.07836293275504, 'kSkipRatio': 0.7031981592841403, 'kTargetDeterminationTrials': 1, 'kAttractionRatio': 0.09973058249006489, 'kMaxAttractionDistance': 11, 'kStartAttraction': 0.006992045910884608}. Best is trial 0 with value: 6361.0615384615385.\u001b[0m\n"
     ]
    },
    {
     "name": "stdout",
     "output_type": "stream",
     "text": [
      "Updated! 6361.0615384615385\n",
      "index_parallel='0001'\n"
     ]
    },
    {
     "name": "stderr",
     "output_type": "stream",
     "text": [
      "\u001b[32m[I 2022-08-15 21:38:30,231]\u001b[0m Trial 1 finished with value: 5909.0615384615385 and parameters: {'kErase': 5, 'kRadius': 4, 'kAnnealingA': 6.245660113110318, 'kAnnealingB': 2.801810538754001, 'kAnnealingStart': 8.207319736016366, 'kSkipRatio': 0.39573458933497074, 'kTargetDeterminationTrials': 6, 'kAttractionRatio': 0.032585679901857595, 'kMaxAttractionDistance': 56, 'kStartAttraction': 0.17338667332450217}. Best is trial 0 with value: 6361.0615384615385.\u001b[0m\n"
     ]
    },
    {
     "name": "stdout",
     "output_type": "stream",
     "text": [
      "index_parallel='0002'\n"
     ]
    },
    {
     "name": "stderr",
     "output_type": "stream",
     "text": [
      "\u001b[32m[I 2022-08-15 21:42:14,485]\u001b[0m Trial 2 finished with value: 6705.51282051282 and parameters: {'kErase': 3, 'kRadius': 2, 'kAnnealingA': -2.715809614887938, 'kAnnealingB': 2.421484014589578, 'kAnnealingStart': 7.926594041954246, 'kSkipRatio': 0.454173214035433, 'kTargetDeterminationTrials': 14, 'kAttractionRatio': 0.030581798320638547, 'kMaxAttractionDistance': 6, 'kStartAttraction': 0.0037119758555346476}. Best is trial 2 with value: 6705.51282051282.\u001b[0m\n"
     ]
    },
    {
     "name": "stdout",
     "output_type": "stream",
     "text": [
      "Updated! 6705.51282051282\n",
      "index_parallel='0003'\n"
     ]
    },
    {
     "name": "stderr",
     "output_type": "stream",
     "text": [
      "\u001b[32m[I 2022-08-15 21:45:58,726]\u001b[0m Trial 3 finished with value: 6485.220512820513 and parameters: {'kErase': 3, 'kRadius': 4, 'kAnnealingA': -3.8597745507605143, 'kAnnealingB': 2.6952182150733237, 'kAnnealingStart': 80.09813783464399, 'kSkipRatio': 0.6314906568139066, 'kTargetDeterminationTrials': 1, 'kAttractionRatio': 0.03500511104346126, 'kMaxAttractionDistance': 10, 'kStartAttraction': 0.011008169125369326}. Best is trial 2 with value: 6705.51282051282.\u001b[0m\n"
     ]
    },
    {
     "name": "stdout",
     "output_type": "stream",
     "text": [
      "index_parallel='0004'\n"
     ]
    },
    {
     "name": "stderr",
     "output_type": "stream",
     "text": [
      "\u001b[32m[I 2022-08-15 21:49:43,288]\u001b[0m Trial 4 finished with value: 5635.6461538461535 and parameters: {'kErase': 5, 'kRadius': 5, 'kAnnealingA': 14.333506620416163, 'kAnnealingB': 0.9497116864506555, 'kAnnealingStart': 4.0110487405526944, 'kSkipRatio': 0.3319150400583044, 'kTargetDeterminationTrials': 18, 'kAttractionRatio': 0.11878962670287191, 'kMaxAttractionDistance': 4, 'kStartAttraction': 0.05874912545977023}. Best is trial 2 with value: 6705.51282051282.\u001b[0m\n"
     ]
    },
    {
     "name": "stdout",
     "output_type": "stream",
     "text": [
      "index_parallel='0005'\n"
     ]
    },
    {
     "name": "stderr",
     "output_type": "stream",
     "text": [
      "\u001b[32m[I 2022-08-15 21:53:27,916]\u001b[0m Trial 5 finished with value: 6580.0 and parameters: {'kErase': 4, 'kRadius': 2, 'kAnnealingA': 10.416132530766781, 'kAnnealingB': 0.40352853547955647, 'kAnnealingStart': 5.048029036512637, 'kSkipRatio': 0.43682914766719694, 'kTargetDeterminationTrials': 7, 'kAttractionRatio': 0.1040834265354137, 'kMaxAttractionDistance': 12, 'kStartAttraction': 0.14197081692921545}. Best is trial 2 with value: 6705.51282051282.\u001b[0m\n"
     ]
    },
    {
     "name": "stdout",
     "output_type": "stream",
     "text": [
      "index_parallel='0006'\n"
     ]
    },
    {
     "name": "stderr",
     "output_type": "stream",
     "text": [
      "\u001b[32m[I 2022-08-15 21:57:12,325]\u001b[0m Trial 6 finished with value: 6145.682051282051 and parameters: {'kErase': 4, 'kRadius': 5, 'kAnnealingA': -7.141345316685845, 'kAnnealingB': 2.30093703044992, 'kAnnealingStart': 35.236710764045625, 'kSkipRatio': 0.3840859490867986, 'kTargetDeterminationTrials': 3, 'kAttractionRatio': 0.03583243108219395, 'kMaxAttractionDistance': 19, 'kStartAttraction': 0.05092255208685679}. Best is trial 2 with value: 6705.51282051282.\u001b[0m\n"
     ]
    },
    {
     "name": "stdout",
     "output_type": "stream",
     "text": [
      "index_parallel='0007'\n"
     ]
    },
    {
     "name": "stderr",
     "output_type": "stream",
     "text": [
      "\u001b[32m[I 2022-08-15 22:00:56,580]\u001b[0m Trial 7 finished with value: 6961.010256410256 and parameters: {'kErase': 3, 'kRadius': 5, 'kAnnealingA': 2.7528071710346182, 'kAnnealingB': 1.6975432534925146, 'kAnnealingStart': 1.3854709786822412, 'kSkipRatio': 0.6636349672074825, 'kTargetDeterminationTrials': 5, 'kAttractionRatio': 0.014713361657432896, 'kMaxAttractionDistance': 70, 'kStartAttraction': 0.033079425519861795}. Best is trial 7 with value: 6961.010256410256.\u001b[0m\n"
     ]
    },
    {
     "name": "stdout",
     "output_type": "stream",
     "text": [
      "Updated! 6961.010256410256\n",
      "index_parallel='0008'\n"
     ]
    },
    {
     "name": "stderr",
     "output_type": "stream",
     "text": [
      "\u001b[32m[I 2022-08-15 22:04:40,518]\u001b[0m Trial 8 finished with value: 7299.779487179487 and parameters: {'kErase': 1, 'kRadius': 2, 'kAnnealingA': 12.10094766661108, 'kAnnealingB': 2.7310084459652146, 'kAnnealingStart': 8.399430755521237, 'kSkipRatio': 0.20836356176823123, 'kTargetDeterminationTrials': 6, 'kAttractionRatio': 0.06992196215517614, 'kMaxAttractionDistance': 46, 'kStartAttraction': 0.010718454725148742}. Best is trial 8 with value: 7299.779487179487.\u001b[0m\n"
     ]
    },
    {
     "name": "stdout",
     "output_type": "stream",
     "text": [
      "Updated! 7299.779487179487\n",
      "index_parallel='0009'\n"
     ]
    },
    {
     "name": "stderr",
     "output_type": "stream",
     "text": [
      "\u001b[32m[I 2022-08-15 22:08:24,990]\u001b[0m Trial 9 finished with value: 6547.0615384615385 and parameters: {'kErase': 2, 'kRadius': 6, 'kAnnealingA': -4.518663125175475, 'kAnnealingB': 1.5382142034392385, 'kAnnealingStart': 74.20714895619973, 'kSkipRatio': 0.30022851850890875, 'kTargetDeterminationTrials': 7, 'kAttractionRatio': 0.04727203442316675, 'kMaxAttractionDistance': 13, 'kStartAttraction': 0.5743911928739035}. Best is trial 8 with value: 7299.779487179487.\u001b[0m\n"
     ]
    },
    {
     "name": "stdout",
     "output_type": "stream",
     "text": [
      "index_parallel='0010'\n"
     ]
    },
    {
     "name": "stderr",
     "output_type": "stream",
     "text": [
      "\u001b[32m[I 2022-08-15 22:12:08,843]\u001b[0m Trial 10 finished with value: 7067.112820512821 and parameters: {'kErase': 1, 'kRadius': 3, 'kAnnealingA': -14.452149628062635, 'kAnnealingB': 1.9831076049060115, 'kAnnealingStart': 1.5582663157567718, 'kSkipRatio': 0.2282088110206184, 'kTargetDeterminationTrials': 2, 'kAttractionRatio': 0.44553729315002594, 'kMaxAttractionDistance': 35, 'kStartAttraction': 0.0015479591647132368}. Best is trial 8 with value: 7299.779487179487.\u001b[0m\n"
     ]
    },
    {
     "name": "stdout",
     "output_type": "stream",
     "text": [
      "index_parallel='0011'\n"
     ]
    },
    {
     "name": "stderr",
     "output_type": "stream",
     "text": [
      "\u001b[32m[I 2022-08-15 22:15:52,790]\u001b[0m Trial 11 finished with value: 6869.323076923077 and parameters: {'kErase': 1, 'kRadius': 3, 'kAnnealingA': -14.714979869513488, 'kAnnealingB': 2.1085446163676846, 'kAnnealingStart': 1.2136120537841675, 'kSkipRatio': 0.2099645330036246, 'kTargetDeterminationTrials': 2, 'kAttractionRatio': 0.5312133845456928, 'kMaxAttractionDistance': 37, 'kStartAttraction': 0.00100003317320288}. Best is trial 8 with value: 7299.779487179487.\u001b[0m\n"
     ]
    },
    {
     "name": "stdout",
     "output_type": "stream",
     "text": [
      "index_parallel='0012'\n"
     ]
    },
    {
     "name": "stderr",
     "output_type": "stream",
     "text": [
      "\u001b[32m[I 2022-08-15 22:19:36,598]\u001b[0m Trial 12 finished with value: 6949.851282051282 and parameters: {'kErase': 1, 'kRadius': 3, 'kAnnealingA': -14.222231176289613, 'kAnnealingB': 1.8964423308381793, 'kAnnealingStart': 2.3207657484327946, 'kSkipRatio': 0.20538522396206138, 'kTargetDeterminationTrials': 2, 'kAttractionRatio': 0.4001441302180942, 'kMaxAttractionDistance': 30, 'kStartAttraction': 0.0010081912097612395}. Best is trial 8 with value: 7299.779487179487.\u001b[0m\n"
     ]
    },
    {
     "name": "stdout",
     "output_type": "stream",
     "text": [
      "index_parallel='0013'\n"
     ]
    },
    {
     "name": "stderr",
     "output_type": "stream",
     "text": [
      "\u001b[32m[I 2022-08-15 22:23:20,837]\u001b[0m Trial 13 finished with value: 7078.430769230769 and parameters: {'kErase': 2, 'kRadius': 3, 'kAnnealingA': -9.044867445197285, 'kAnnealingB': 1.297252308071265, 'kAnnealingStart': 22.76029993874651, 'kSkipRatio': 0.5426534879640317, 'kTargetDeterminationTrials': 2, 'kAttractionRatio': 0.21766915990887403, 'kMaxAttractionDistance': 91, 'kStartAttraction': 0.0046309181055875824}. Best is trial 8 with value: 7299.779487179487.\u001b[0m\n"
     ]
    },
    {
     "name": "stdout",
     "output_type": "stream",
     "text": [
      "index_parallel='0014'\n"
     ]
    },
    {
     "name": "stderr",
     "output_type": "stream",
     "text": [
      "\u001b[32m[I 2022-08-15 22:27:04,939]\u001b[0m Trial 14 finished with value: 7062.794871794872 and parameters: {'kErase': 2, 'kRadius': 2, 'kAnnealingA': -9.515806830764099, 'kAnnealingB': 0.9177477942634091, 'kAnnealingStart': 18.324960455766373, 'kSkipRatio': 0.5590961000298273, 'kTargetDeterminationTrials': 11, 'kAttractionRatio': 0.18922939107572173, 'kMaxAttractionDistance': 79, 'kStartAttraction': 0.012840183768331804}. Best is trial 8 with value: 7299.779487179487.\u001b[0m\n"
     ]
    },
    {
     "name": "stdout",
     "output_type": "stream",
     "text": [
      "index_parallel='0015'\n"
     ]
    },
    {
     "name": "stderr",
     "output_type": "stream",
     "text": [
      "\u001b[32m[I 2022-08-15 22:30:48,997]\u001b[0m Trial 15 finished with value: 7466.528205128205 and parameters: {'kErase': 2, 'kRadius': 3, 'kAnnealingA': 5.672188038122205, 'kAnnealingB': 1.166008342638789, 'kAnnealingStart': 16.227007699777626, 'kSkipRatio': 0.7945604442104974, 'kTargetDeterminationTrials': 4, 'kAttractionRatio': 0.21942034196159113, 'kMaxAttractionDistance': 53, 'kStartAttraction': 0.003868238908847508}. Best is trial 15 with value: 7466.528205128205.\u001b[0m\n"
     ]
    },
    {
     "name": "stdout",
     "output_type": "stream",
     "text": [
      "Updated! 7466.528205128205\n",
      "index_parallel='0016'\n"
     ]
    },
    {
     "name": "stderr",
     "output_type": "stream",
     "text": [
      "\u001b[32m[I 2022-08-15 22:34:33,079]\u001b[0m Trial 16 finished with value: 7368.51282051282 and parameters: {'kErase': 2, 'kRadius': 2, 'kAnnealingA': 7.860918773618284, 'kAnnealingB': 0.0628274462629772, 'kAnnealingStart': 13.392178257914114, 'kSkipRatio': 0.7502398477892341, 'kTargetDeterminationTrials': 4, 'kAttractionRatio': 0.2563236700537206, 'kMaxAttractionDistance': 53, 'kStartAttraction': 0.002670354445688697}. Best is trial 15 with value: 7466.528205128205.\u001b[0m\n"
     ]
    },
    {
     "name": "stdout",
     "output_type": "stream",
     "text": [
      "index_parallel='0017'\n"
     ]
    },
    {
     "name": "stderr",
     "output_type": "stream",
     "text": [
      "\u001b[32m[I 2022-08-15 22:38:17,250]\u001b[0m Trial 17 finished with value: 7549.682051282051 and parameters: {'kErase': 2, 'kRadius': 3, 'kAnnealingA': 6.507149751228616, 'kAnnealingB': 0.1482683743401355, 'kAnnealingStart': 16.573060029165514, 'kSkipRatio': 0.7901559105636299, 'kTargetDeterminationTrials': 4, 'kAttractionRatio': 0.24394161194680394, 'kMaxAttractionDistance': 23, 'kStartAttraction': 0.002639294969306308}. Best is trial 17 with value: 7549.682051282051.\u001b[0m\n"
     ]
    },
    {
     "name": "stdout",
     "output_type": "stream",
     "text": [
      "Updated! 7549.682051282051\n",
      "index_parallel='0018'\n"
     ]
    },
    {
     "name": "stderr",
     "output_type": "stream",
     "text": [
      "\u001b[32m[I 2022-08-15 22:42:01,696]\u001b[0m Trial 18 finished with value: 6968.574358974359 and parameters: {'kErase': 2, 'kRadius': 4, 'kAnnealingA': 3.5166730765060046, 'kAnnealingB': 0.576804571015885, 'kAnnealingStart': 45.7083118496911, 'kSkipRatio': 0.7967403821062807, 'kTargetDeterminationTrials': 3, 'kAttractionRatio': 0.2752506173517369, 'kMaxAttractionDistance': 23, 'kStartAttraction': 0.002457808296732586}. Best is trial 17 with value: 7549.682051282051.\u001b[0m\n"
     ]
    },
    {
     "name": "stdout",
     "output_type": "stream",
     "text": [
      "index_parallel='0019'\n"
     ]
    },
    {
     "name": "stderr",
     "output_type": "stream",
     "text": [
      "\u001b[32m[I 2022-08-15 22:45:46,004]\u001b[0m Trial 19 finished with value: 7024.158974358975 and parameters: {'kErase': 2, 'kRadius': 3, 'kAnnealingA': 6.8423655713897675, 'kAnnealingB': 0.004526186904526358, 'kAnnealingStart': 14.574808972244776, 'kSkipRatio': 0.7924965047723156, 'kTargetDeterminationTrials': 10, 'kAttractionRatio': 0.8541090291523502, 'kMaxAttractionDistance': 26, 'kStartAttraction': 0.016117178889326133}. Best is trial 17 with value: 7549.682051282051.\u001b[0m\n"
     ]
    },
    {
     "name": "stdout",
     "output_type": "stream",
     "text": [
      "index_parallel='0020'\n"
     ]
    },
    {
     "name": "stderr",
     "output_type": "stream",
     "text": [
      "\u001b[32m[I 2022-08-15 22:49:30,515]\u001b[0m Trial 20 finished with value: 7036.066666666667 and parameters: {'kErase': 3, 'kRadius': 3, 'kAnnealingA': 3.7748920086088673, 'kAnnealingB': 1.1841601542126445, 'kAnnealingStart': 4.216069674123301, 'kSkipRatio': 0.6080932470485172, 'kTargetDeterminationTrials': 4, 'kAttractionRatio': 0.14857399278863748, 'kMaxAttractionDistance': 17, 'kStartAttraction': 0.006058452568403136}. Best is trial 17 with value: 7549.682051282051.\u001b[0m\n"
     ]
    },
    {
     "name": "stdout",
     "output_type": "stream",
     "text": [
      "index_parallel='0021'\n"
     ]
    },
    {
     "name": "stderr",
     "output_type": "stream",
     "text": [
      "\u001b[32m[I 2022-08-15 22:53:14,811]\u001b[0m Trial 21 finished with value: 7299.558974358974 and parameters: {'kErase': 2, 'kRadius': 2, 'kAnnealingA': 9.148458929562636, 'kAnnealingB': 0.03946304158889957, 'kAnnealingStart': 13.063348964780122, 'kSkipRatio': 0.7390214796694125, 'kTargetDeterminationTrials': 4, 'kAttractionRatio': 0.339762958418964, 'kMaxAttractionDistance': 48, 'kStartAttraction': 0.0022489492990592063}. Best is trial 17 with value: 7549.682051282051.\u001b[0m\n"
     ]
    },
    {
     "name": "stdout",
     "output_type": "stream",
     "text": [
      "index_parallel='0022'\n"
     ]
    },
    {
     "name": "stderr",
     "output_type": "stream",
     "text": [
      "\u001b[32m[I 2022-08-15 22:56:58,885]\u001b[0m Trial 22 finished with value: 7413.882051282051 and parameters: {'kErase': 2, 'kRadius': 3, 'kAnnealingA': 7.157176976284377, 'kAnnealingB': 0.3658637172097043, 'kAnnealingStart': 25.282958922584676, 'kSkipRatio': 0.7372503831744376, 'kTargetDeterminationTrials': 3, 'kAttractionRatio': 0.691285917085533, 'kMaxAttractionDistance': 61, 'kStartAttraction': 0.0032157013489292653}. Best is trial 17 with value: 7549.682051282051.\u001b[0m\n"
     ]
    },
    {
     "name": "stdout",
     "output_type": "stream",
     "text": [
      "index_parallel='0023'\n"
     ]
    },
    {
     "name": "stderr",
     "output_type": "stream",
     "text": [
      "\u001b[32m[I 2022-08-15 23:00:43,123]\u001b[0m Trial 23 finished with value: 6573.153846153846 and parameters: {'kErase': 3, 'kRadius': 4, 'kAnnealingA': 5.2464792566520275, 'kAnnealingB': 0.4064686250644814, 'kAnnealingStart': 25.346324714646045, 'kSkipRatio': 0.7073870054482468, 'kTargetDeterminationTrials': 3, 'kAttractionRatio': 0.8992330429369688, 'kMaxAttractionDistance': 64, 'kStartAttraction': 0.021029796231402036}. Best is trial 17 with value: 7549.682051282051.\u001b[0m\n"
     ]
    },
    {
     "name": "stdout",
     "output_type": "stream",
     "text": [
      "index_parallel='0024'\n"
     ]
    },
    {
     "name": "stderr",
     "output_type": "stream",
     "text": [
      "\u001b[32m[I 2022-08-15 23:04:26,650]\u001b[0m Trial 24 finished with value: 7656.05641025641 and parameters: {'kErase': 1, 'kRadius': 3, 'kAnnealingA': -0.24135111188415845, 'kAnnealingB': 0.7579071444551195, 'kAnnealingStart': 47.555851758583024, 'kSkipRatio': 0.748122148021922, 'kTargetDeterminationTrials': 9, 'kAttractionRatio': 0.6074203201162334, 'kMaxAttractionDistance': 42, 'kStartAttraction': 0.0053553386682170575}. Best is trial 24 with value: 7656.05641025641.\u001b[0m\n"
     ]
    },
    {
     "name": "stdout",
     "output_type": "stream",
     "text": [
      "Updated! 7656.05641025641\n",
      "index_parallel='0025'\n"
     ]
    },
    {
     "name": "stderr",
     "output_type": "stream",
     "text": [
      "\u001b[32m[I 2022-08-15 23:08:10,496]\u001b[0m Trial 25 finished with value: 7484.2307692307695 and parameters: {'kErase': 1, 'kRadius': 4, 'kAnnealingA': 1.0499656560044055, 'kAnnealingB': 0.7620209901870307, 'kAnnealingStart': 53.77167831429785, 'kSkipRatio': 0.6733308022109221, 'kTargetDeterminationTrials': 10, 'kAttractionRatio': 0.5762257165307838, 'kMaxAttractionDistance': 38, 'kStartAttraction': 0.006959202740310143}. Best is trial 24 with value: 7656.05641025641.\u001b[0m\n"
     ]
    },
    {
     "name": "stdout",
     "output_type": "stream",
     "text": [
      "index_parallel='0026'\n"
     ]
    },
    {
     "name": "stderr",
     "output_type": "stream",
     "text": [
      "\u001b[32m[I 2022-08-15 23:11:54,410]\u001b[0m Trial 26 finished with value: 7531.4820512820515 and parameters: {'kErase': 1, 'kRadius': 4, 'kAnnealingA': -0.8803694969301065, 'kAnnealingB': 0.756022929823514, 'kAnnealingStart': 55.33866744846834, 'kSkipRatio': 0.6489570515240436, 'kTargetDeterminationTrials': 9, 'kAttractionRatio': 0.6106665620457142, 'kMaxAttractionDistance': 37, 'kStartAttraction': 0.007318553262019287}. Best is trial 24 with value: 7656.05641025641.\u001b[0m\n"
     ]
    },
    {
     "name": "stdout",
     "output_type": "stream",
     "text": [
      "index_parallel='0027'\n"
     ]
    },
    {
     "name": "stderr",
     "output_type": "stream",
     "text": [
      "\u001b[32m[I 2022-08-15 23:15:38,050]\u001b[0m Trial 27 finished with value: 7115.1435897435895 and parameters: {'kErase': 1, 'kRadius': 4, 'kAnnealingA': -1.5488744636258585, 'kAnnealingB': 0.720689247865477, 'kAnnealingStart': 97.22500624838094, 'kSkipRatio': 0.599292721514372, 'kTargetDeterminationTrials': 20, 'kAttractionRatio': 0.3739208029019875, 'kMaxAttractionDistance': 20, 'kStartAttraction': 0.0017093634470917508}. Best is trial 24 with value: 7656.05641025641.\u001b[0m\n"
     ]
    },
    {
     "name": "stdout",
     "output_type": "stream",
     "text": [
      "index_parallel='0028'\n"
     ]
    },
    {
     "name": "stderr",
     "output_type": "stream",
     "text": [
      "\u001b[32m[I 2022-08-15 23:19:21,935]\u001b[0m Trial 28 finished with value: 7674.774358974359 and parameters: {'kErase': 1, 'kRadius': 4, 'kAnnealingA': -1.4734507102610837, 'kAnnealingB': 0.2803953795665102, 'kAnnealingStart': 51.9828826242722, 'kSkipRatio': 0.673594544183235, 'kTargetDeterminationTrials': 14, 'kAttractionRatio': 0.6224569254125387, 'kMaxAttractionDistance': 28, 'kStartAttraction': 0.02870948094227657}. Best is trial 28 with value: 7674.774358974359.\u001b[0m\n"
     ]
    },
    {
     "name": "stdout",
     "output_type": "stream",
     "text": [
      "Updated! 7674.774358974359\n",
      "index_parallel='0029'\n"
     ]
    },
    {
     "name": "stderr",
     "output_type": "stream",
     "text": [
      "\u001b[32m[I 2022-08-15 23:23:05,737]\u001b[0m Trial 29 finished with value: 7369.830769230769 and parameters: {'kErase': 1, 'kRadius': 6, 'kAnnealingA': 0.9584023855846888, 'kAnnealingB': 0.18265370393779448, 'kAnnealingStart': 38.03690056376412, 'kSkipRatio': 0.7011198028426845, 'kTargetDeterminationTrials': 13, 'kAttractionRatio': 0.3176121072851263, 'kMaxAttractionDistance': 8, 'kStartAttraction': 0.11143496360840893}. Best is trial 28 with value: 7674.774358974359.\u001b[0m\n"
     ]
    },
    {
     "name": "stdout",
     "output_type": "stream",
     "text": [
      "index_parallel='0030'\n"
     ]
    },
    {
     "name": "stderr",
     "output_type": "stream",
     "text": [
      "\u001b[32m[I 2022-08-15 23:26:49,306]\u001b[0m Trial 30 finished with value: 7329.225641025641 and parameters: {'kErase': 1, 'kRadius': 4, 'kAnnealingA': -5.319621146924065, 'kAnnealingB': 0.24654883810692813, 'kAnnealingStart': 63.939581565356015, 'kSkipRatio': 0.7565280905519084, 'kTargetDeterminationTrials': 1, 'kAttractionRatio': 0.17222546531057883, 'kMaxAttractionDistance': 15, 'kStartAttraction': 0.025167556033935064}. Best is trial 28 with value: 7674.774358974359.\u001b[0m\n"
     ]
    },
    {
     "name": "stdout",
     "output_type": "stream",
     "text": [
      "index_parallel='0031'\n"
     ]
    },
    {
     "name": "stderr",
     "output_type": "stream",
     "text": [
      "\u001b[32m[I 2022-08-15 23:30:33,083]\u001b[0m Trial 31 finished with value: 7663.410256410257 and parameters: {'kErase': 1, 'kRadius': 4, 'kAnnealingA': -0.5581536511400049, 'kAnnealingB': 0.5536621431189293, 'kAnnealingStart': 49.71248219822004, 'kSkipRatio': 0.6545002412843975, 'kTargetDeterminationTrials': 8, 'kAttractionRatio': 0.5935502234514474, 'kMaxAttractionDistance': 27, 'kStartAttraction': 0.0081001258530192}. Best is trial 28 with value: 7674.774358974359.\u001b[0m\n"
     ]
    },
    {
     "name": "stdout",
     "output_type": "stream",
     "text": [
      "index_parallel='0032'\n"
     ]
    },
    {
     "name": "stderr",
     "output_type": "stream",
     "text": [
      "\u001b[32m[I 2022-08-15 23:34:16,597]\u001b[0m Trial 32 finished with value: 7704.430769230769 and parameters: {'kErase': 1, 'kRadius': 5, 'kAnnealingA': 0.2301494474808079, 'kAnnealingB': 0.5504679243392532, 'kAnnealingStart': 31.749615243616333, 'kSkipRatio': 0.6967966055230996, 'kTargetDeterminationTrials': 8, 'kAttractionRatio': 0.4858948525622744, 'kMaxAttractionDistance': 31, 'kStartAttraction': 0.008586418488519947}. Best is trial 32 with value: 7704.430769230769.\u001b[0m\n"
     ]
    },
    {
     "name": "stdout",
     "output_type": "stream",
     "text": [
      "Updated! 7704.430769230769\n",
      "index_parallel='0033'\n"
     ]
    },
    {
     "name": "stderr",
     "output_type": "stream",
     "text": [
      "\u001b[32m[I 2022-08-15 23:38:00,659]\u001b[0m Trial 33 finished with value: 7648.507692307692 and parameters: {'kErase': 1, 'kRadius': 5, 'kAnnealingA': 0.9016819973693568, 'kAnnealingB': 0.5437818313647532, 'kAnnealingStart': 42.02814095144149, 'kSkipRatio': 0.7025710899299776, 'kTargetDeterminationTrials': 15, 'kAttractionRatio': 0.46208516789268217, 'kMaxAttractionDistance': 27, 'kStartAttraction': 0.04401705444624321}. Best is trial 32 with value: 7704.430769230769.\u001b[0m\n"
     ]
    },
    {
     "name": "stdout",
     "output_type": "stream",
     "text": [
      "index_parallel='0034'\n"
     ]
    },
    {
     "name": "stderr",
     "output_type": "stream",
     "text": [
      "\u001b[32m[I 2022-08-15 23:41:44,325]\u001b[0m Trial 34 finished with value: 7252.625641025641 and parameters: {'kErase': 1, 'kRadius': 6, 'kAnnealingA': -2.5805482149267913, 'kAnnealingB': 0.9840621297504657, 'kAnnealingStart': 28.37136782158314, 'kSkipRatio': 0.5487170865032667, 'kTargetDeterminationTrials': 8, 'kAttractionRatio': 0.692136190890964, 'kMaxAttractionDistance': 31, 'kStartAttraction': 0.07776572495192406}. Best is trial 32 with value: 7704.430769230769.\u001b[0m\n"
     ]
    },
    {
     "name": "stdout",
     "output_type": "stream",
     "text": [
      "index_parallel='0035'\n"
     ]
    },
    {
     "name": "stderr",
     "output_type": "stream",
     "text": [
      "\u001b[32m[I 2022-08-15 23:45:28,074]\u001b[0m Trial 35 finished with value: 7100.8564102564105 and parameters: {'kErase': 1, 'kRadius': 5, 'kAnnealingA': -0.9116602563780625, 'kAnnealingB': 0.5559104779600085, 'kAnnealingStart': 98.09820956406126, 'kSkipRatio': 0.4988885141174302, 'kTargetDeterminationTrials': 12, 'kAttractionRatio': 0.767456176677495, 'kMaxAttractionDistance': 41, 'kStartAttraction': 0.01680636279289282}. Best is trial 32 with value: 7704.430769230769.\u001b[0m\n"
     ]
    },
    {
     "name": "stdout",
     "output_type": "stream",
     "text": [
      "index_parallel='0036'\n"
     ]
    },
    {
     "name": "stderr",
     "output_type": "stream",
     "text": [
      "\u001b[32m[I 2022-08-15 23:49:12,734]\u001b[0m Trial 36 finished with value: 5754.984615384616 and parameters: {'kErase': 5, 'kRadius': 4, 'kAnnealingA': -5.935735589714252, 'kAnnealingB': 0.3435039560155613, 'kAnnealingStart': 50.074410780895455, 'kSkipRatio': 0.612492170568062, 'kTargetDeterminationTrials': 15, 'kAttractionRatio': 0.49935446495793784, 'kMaxAttractionDistance': 22, 'kStartAttraction': 0.009316381955748281}. Best is trial 32 with value: 7704.430769230769.\u001b[0m\n"
     ]
    },
    {
     "name": "stdout",
     "output_type": "stream",
     "text": [
      "index_parallel='0037'\n"
     ]
    },
    {
     "name": "stderr",
     "output_type": "stream",
     "text": [
      "\u001b[32m[I 2022-08-15 23:52:56,478]\u001b[0m Trial 37 finished with value: 6350.369230769231 and parameters: {'kErase': 1, 'kRadius': 5, 'kAnnealingA': -3.0033532087462325, 'kAnnealingB': 0.6376705234068116, 'kAnnealingStart': 67.83469040744559, 'kSkipRatio': 0.5798498434480849, 'kTargetDeterminationTrials': 8, 'kAttractionRatio': 0.016766334571818354, 'kMaxAttractionDistance': 31, 'kStartAttraction': 0.24385249824317476}. Best is trial 32 with value: 7704.430769230769.\u001b[0m\n"
     ]
    },
    {
     "name": "stdout",
     "output_type": "stream",
     "text": [
      "index_parallel='0038'\n"
     ]
    },
    {
     "name": "stderr",
     "output_type": "stream",
     "text": [
      "\u001b[32m[I 2022-08-15 23:56:41,102]\u001b[0m Trial 38 finished with value: 6545.476923076923 and parameters: {'kErase': 4, 'kRadius': 4, 'kAnnealingA': 2.358600030144627, 'kAnnealingB': 0.9151881537945614, 'kAnnealingStart': 31.851339361969586, 'kSkipRatio': 0.6768600127967189, 'kTargetDeterminationTrials': 16, 'kAttractionRatio': 0.6110814942161186, 'kMaxAttractionDistance': 9, 'kStartAttraction': 0.004961491755577275}. Best is trial 32 with value: 7704.430769230769.\u001b[0m\n"
     ]
    },
    {
     "name": "stdout",
     "output_type": "stream",
     "text": [
      "index_parallel='0039'\n"
     ]
    },
    {
     "name": "stderr",
     "output_type": "stream",
     "text": [
      "\u001b[32m[I 2022-08-16 00:00:24,673]\u001b[0m Trial 39 finished with value: 7245.046153846154 and parameters: {'kErase': 1, 'kRadius': 5, 'kAnnealingA': -8.14442972362793, 'kAnnealingB': 0.4587944419754453, 'kAnnealingStart': 20.851633882896888, 'kSkipRatio': 0.6468539262093765, 'kTargetDeterminationTrials': 5, 'kAttractionRatio': 0.32453414168422096, 'kMaxAttractionDistance': 17, 'kStartAttraction': 0.03932832733355377}. Best is trial 32 with value: 7704.430769230769.\u001b[0m\n"
     ]
    },
    {
     "name": "stdout",
     "output_type": "stream",
     "text": [
      "index_parallel='0040'\n"
     ]
    },
    {
     "name": "stderr",
     "output_type": "stream",
     "text": [
      "\u001b[32m[I 2022-08-16 00:04:08,375]\u001b[0m Trial 40 finished with value: 6703.461538461538 and parameters: {'kErase': 1, 'kRadius': 6, 'kAnnealingA': -2.3884209698261567, 'kAnnealingB': 1.085612233601066, 'kAnnealingStart': 34.685785323252254, 'kSkipRatio': 0.5024268799906549, 'kTargetDeterminationTrials': 6, 'kAttractionRatio': 0.020481826150611542, 'kMaxAttractionDistance': 43, 'kStartAttraction': 0.008746792916105065}. Best is trial 32 with value: 7704.430769230769.\u001b[0m\n"
     ]
    },
    {
     "name": "stdout",
     "output_type": "stream",
     "text": [
      "index_parallel='0041'\n"
     ]
    },
    {
     "name": "stderr",
     "output_type": "stream",
     "text": [
      "\u001b[32m[I 2022-08-16 00:07:52,083]\u001b[0m Trial 41 finished with value: 7651.676923076923 and parameters: {'kErase': 1, 'kRadius': 5, 'kAnnealingA': 1.2863560626684556, 'kAnnealingB': 0.5421208367452487, 'kAnnealingStart': 43.71646286298887, 'kSkipRatio': 0.7063443231625713, 'kTargetDeterminationTrials': 17, 'kAttractionRatio': 0.4533191609360649, 'kMaxAttractionDistance': 27, 'kStartAttraction': 0.057714402308400824}. Best is trial 32 with value: 7704.430769230769.\u001b[0m\n"
     ]
    },
    {
     "name": "stdout",
     "output_type": "stream",
     "text": [
      "index_parallel='0042'\n"
     ]
    },
    {
     "name": "stderr",
     "output_type": "stream",
     "text": [
      "\u001b[32m[I 2022-08-16 00:11:35,610]\u001b[0m Trial 42 finished with value: 5857.533333333334 and parameters: {'kErase': 1, 'kRadius': 5, 'kAnnealingA': 0.40670835730244037, 'kAnnealingB': 0.24338125992809326, 'kAnnealingStart': 79.4289029283876, 'kSkipRatio': 0.7056846895992315, 'kTargetDeterminationTrials': 20, 'kAttractionRatio': 0.07990537789167575, 'kMaxAttractionDistance': 4, 'kStartAttraction': 0.029398879602690508}. Best is trial 32 with value: 7704.430769230769.\u001b[0m\n"
     ]
    },
    {
     "name": "stdout",
     "output_type": "stream",
     "text": [
      "index_parallel='0043'\n"
     ]
    },
    {
     "name": "stderr",
     "output_type": "stream",
     "text": [
      "\u001b[32m[I 2022-08-16 00:15:19,504]\u001b[0m Trial 43 finished with value: 6972.25641025641 and parameters: {'kErase': 1, 'kRadius': 5, 'kAnnealingA': 2.3803741744953326, 'kAnnealingB': 1.39076742838866, 'kAnnealingStart': 60.500111299239926, 'kSkipRatio': 0.6296614093828257, 'kTargetDeterminationTrials': 13, 'kAttractionRatio': 0.4175756429451418, 'kMaxAttractionDistance': 26, 'kStartAttraction': 0.26679203051234357}. Best is trial 32 with value: 7704.430769230769.\u001b[0m\n"
     ]
    },
    {
     "name": "stdout",
     "output_type": "stream",
     "text": [
      "index_parallel='0044'\n"
     ]
    },
    {
     "name": "stderr",
     "output_type": "stream",
     "text": [
      "\u001b[32m[I 2022-08-16 00:19:03,303]\u001b[0m Trial 44 finished with value: 7376.851282051282 and parameters: {'kErase': 1, 'kRadius': 5, 'kAnnealingA': -3.999996853547979, 'kAnnealingB': 2.9721793934564165, 'kAnnealingStart': 42.726534475124424, 'kSkipRatio': 0.7615547339102232, 'kTargetDeterminationTrials': 7, 'kAttractionRatio': 0.5593366656220443, 'kMaxAttractionDistance': 34, 'kStartAttraction': 0.08114767348079978}. Best is trial 32 with value: 7704.430769230769.\u001b[0m\n"
     ]
    },
    {
     "name": "stdout",
     "output_type": "stream",
     "text": [
      "index_parallel='0045'\n"
     ]
    },
    {
     "name": "stderr",
     "output_type": "stream",
     "text": [
      "\u001b[32m[I 2022-08-16 00:22:46,963]\u001b[0m Trial 45 finished with value: 7914.523076923077 and parameters: {'kErase': 1, 'kRadius': 4, 'kAnnealingA': 4.191053692304283, 'kAnnealingB': 2.483976056853254, 'kAnnealingStart': 31.352544114426127, 'kSkipRatio': 0.7260112488407435, 'kTargetDeterminationTrials': 17, 'kAttractionRatio': 0.7516674208635511, 'kMaxAttractionDistance': 14, 'kStartAttraction': 0.012207064273955482}. Best is trial 45 with value: 7914.523076923077.\u001b[0m\n"
     ]
    },
    {
     "name": "stdout",
     "output_type": "stream",
     "text": [
      "Updated! 7914.523076923077\n",
      "index_parallel='0046'\n"
     ]
    },
    {
     "name": "stderr",
     "output_type": "stream",
     "text": [
      "\u001b[32m[I 2022-08-16 00:26:31,562]\u001b[0m Trial 46 finished with value: 7107.071794871795 and parameters: {'kErase': 3, 'kRadius': 4, 'kAnnealingA': 5.046950582910446, 'kAnnealingB': 2.608241697013002, 'kAnnealingStart': 27.49860926390473, 'kSkipRatio': 0.7291120282569259, 'kTargetDeterminationTrials': 11, 'kAttractionRatio': 0.750383170534066, 'kMaxAttractionDistance': 14, 'kStartAttraction': 0.014037797991541463}. Best is trial 45 with value: 7914.523076923077.\u001b[0m\n"
     ]
    },
    {
     "name": "stdout",
     "output_type": "stream",
     "text": [
      "index_parallel='0047'\n"
     ]
    },
    {
     "name": "stderr",
     "output_type": "stream",
     "text": [
      "\u001b[32m[I 2022-08-16 00:30:15,686]\u001b[0m Trial 47 finished with value: 7003.158974358975 and parameters: {'kErase': 2, 'kRadius': 4, 'kAnnealingA': -0.4542873983893596, 'kAnnealingB': 1.7867942462069921, 'kAnnealingStart': 32.945523340428934, 'kSkipRatio': 0.6784089223009182, 'kTargetDeterminationTrials': 8, 'kAttractionRatio': 0.05789126155547701, 'kMaxAttractionDistance': 11, 'kStartAttraction': 0.019603699436288813}. Best is trial 45 with value: 7914.523076923077.\u001b[0m\n"
     ]
    },
    {
     "name": "stdout",
     "output_type": "stream",
     "text": [
      "index_parallel='0048'\n"
     ]
    },
    {
     "name": "stderr",
     "output_type": "stream",
     "text": [
      "\u001b[32m[I 2022-08-16 00:33:59,455]\u001b[0m Trial 48 finished with value: 7388.789743589744 and parameters: {'kErase': 1, 'kRadius': 4, 'kAnnealingA': 4.178430256677445, 'kAnnealingB': 2.289554169457363, 'kAnnealingStart': 6.896811564319558, 'kSkipRatio': 0.7703035086228416, 'kTargetDeterminationTrials': 6, 'kAttractionRatio': 0.625320497528425, 'kMaxAttractionDistance': 19, 'kStartAttraction': 0.011823390062406113}. Best is trial 45 with value: 7914.523076923077.\u001b[0m\n"
     ]
    },
    {
     "name": "stdout",
     "output_type": "stream",
     "text": [
      "index_parallel='0049'\n"
     ]
    },
    {
     "name": "stderr",
     "output_type": "stream",
     "text": [
      "\u001b[32m[I 2022-08-16 00:37:43,438]\u001b[0m Trial 49 finished with value: 6559.348717948718 and parameters: {'kErase': 2, 'kRadius': 4, 'kAnnealingA': 14.245406443928132, 'kAnnealingB': 2.453837702877947, 'kAnnealingStart': 10.756322562509983, 'kSkipRatio': 0.4124625826508149, 'kTargetDeterminationTrials': 9, 'kAttractionRatio': 0.8918269393624065, 'kMaxAttractionDistance': 48, 'kStartAttraction': 0.004297067392857345}. Best is trial 45 with value: 7914.523076923077.\u001b[0m\n"
     ]
    },
    {
     "name": "stdout",
     "output_type": "stream",
     "text": [
      "index_parallel='0050'\n"
     ]
    },
    {
     "name": "stderr",
     "output_type": "stream",
     "text": [
      "\u001b[32m[I 2022-08-16 00:41:28,005]\u001b[0m Trial 50 finished with value: 6351.671794871795 and parameters: {'kErase': 4, 'kRadius': 3, 'kAnnealingA': -6.700786708389881, 'kAnnealingB': 1.5546424904329907, 'kAnnealingStart': 81.7427931449967, 'kSkipRatio': 0.6393130744871358, 'kTargetDeterminationTrials': 5, 'kAttractionRatio': 0.116362829293791, 'kMaxAttractionDistance': 16, 'kStartAttraction': 0.006317526381428967}. Best is trial 45 with value: 7914.523076923077.\u001b[0m\n"
     ]
    },
    {
     "name": "stdout",
     "output_type": "stream",
     "text": [
      "index_parallel='0051'\n"
     ]
    },
    {
     "name": "stderr",
     "output_type": "stream",
     "text": [
      "\u001b[32m[I 2022-08-16 00:45:11,961]\u001b[0m Trial 51 finished with value: 7550.6461538461535 and parameters: {'kErase': 1, 'kRadius': 5, 'kAnnealingA': 2.1774722993526945, 'kAnnealingB': 0.8246106197470366, 'kAnnealingStart': 44.80775838958972, 'kSkipRatio': 0.7218323790462244, 'kTargetDeterminationTrials': 18, 'kAttractionRatio': 0.4865979109678545, 'kMaxAttractionDistance': 28, 'kStartAttraction': 0.06434876739035408}. Best is trial 45 with value: 7914.523076923077.\u001b[0m\n"
     ]
    },
    {
     "name": "stdout",
     "output_type": "stream",
     "text": [
      "index_parallel='0052'\n"
     ]
    },
    {
     "name": "stderr",
     "output_type": "stream",
     "text": [
      "\u001b[32m[I 2022-08-16 00:48:55,786]\u001b[0m Trial 52 finished with value: 7730.117948717949 and parameters: {'kErase': 1, 'kRadius': 5, 'kAnnealingA': -1.9224906115518012, 'kAnnealingB': 0.6543615950724728, 'kAnnealingStart': 38.34912298062266, 'kSkipRatio': 0.6858803000061664, 'kTargetDeterminationTrials': 16, 'kAttractionRatio': 0.42077555678674244, 'kMaxAttractionDistance': 22, 'kStartAttraction': 0.032434038091436336}. Best is trial 45 with value: 7914.523076923077.\u001b[0m\n"
     ]
    },
    {
     "name": "stdout",
     "output_type": "stream",
     "text": [
      "index_parallel='0053'\n"
     ]
    },
    {
     "name": "stderr",
     "output_type": "stream",
     "text": [
      "\u001b[32m[I 2022-08-16 00:52:39,323]\u001b[0m Trial 53 finished with value: 7617.820512820513 and parameters: {'kErase': 1, 'kRadius': 4, 'kAnnealingA': -1.699212130514404, 'kAnnealingB': 0.6468476983304265, 'kAnnealingStart': 20.261792180354398, 'kSkipRatio': 0.6831491242582115, 'kTargetDeterminationTrials': 14, 'kAttractionRatio': 0.3871923757041449, 'kMaxAttractionDistance': 22, 'kStartAttraction': 0.03101440997206316}. Best is trial 45 with value: 7914.523076923077.\u001b[0m\n"
     ]
    },
    {
     "name": "stdout",
     "output_type": "stream",
     "text": [
      "index_parallel='0054'\n"
     ]
    },
    {
     "name": "stderr",
     "output_type": "stream",
     "text": [
      "\u001b[32m[I 2022-08-16 00:56:23,134]\u001b[0m Trial 54 finished with value: 7531.348717948718 and parameters: {'kErase': 1, 'kRadius': 6, 'kAnnealingA': -4.707427631803688, 'kAnnealingB': 0.32344448002479187, 'kAnnealingStart': 37.37726054661659, 'kSkipRatio': 0.6628840029919245, 'kTargetDeterminationTrials': 12, 'kAttractionRatio': 0.28385062857158, 'kMaxAttractionDistance': 24, 'kStartAttraction': 0.009626165082176119}. Best is trial 45 with value: 7914.523076923077.\u001b[0m\n"
     ]
    },
    {
     "name": "stdout",
     "output_type": "stream",
     "text": [
      "index_parallel='0055'\n"
     ]
    },
    {
     "name": "stderr",
     "output_type": "stream",
     "text": [
      "\u001b[32m[I 2022-08-16 01:00:07,821]\u001b[0m Trial 55 finished with value: 5933.430769230769 and parameters: {'kErase': 5, 'kRadius': 5, 'kAnnealingA': -3.2521071246397124, 'kAnnealingB': 1.0495739203795313, 'kAnnealingStart': 29.53289150204209, 'kSkipRatio': 0.7751113680818588, 'kTargetDeterminationTrials': 10, 'kAttractionRatio': 0.7522667755862035, 'kMaxAttractionDistance': 12, 'kStartAttraction': 0.02190645048701604}. Best is trial 45 with value: 7914.523076923077.\u001b[0m\n"
     ]
    },
    {
     "name": "stdout",
     "output_type": "stream",
     "text": [
      "index_parallel='0056'\n"
     ]
    },
    {
     "name": "stderr",
     "output_type": "stream",
     "text": [
      "\u001b[32m[I 2022-08-16 01:03:51,809]\u001b[0m Trial 56 finished with value: 7295.723076923077 and parameters: {'kErase': 2, 'kRadius': 4, 'kAnnealingA': -0.2859081100412848, 'kAnnealingB': 0.45641266075602804, 'kAnnealingStart': 54.27701300493514, 'kSkipRatio': 0.5769749715583956, 'kTargetDeterminationTrials': 18, 'kAttractionRatio': 0.490822007986015, 'kMaxAttractionDistance': 33, 'kStartAttraction': 0.013084947929373657}. Best is trial 45 with value: 7914.523076923077.\u001b[0m\n"
     ]
    },
    {
     "name": "stdout",
     "output_type": "stream",
     "text": [
      "index_parallel='0057'\n"
     ]
    },
    {
     "name": "stderr",
     "output_type": "stream",
     "text": [
      "\u001b[32m[I 2022-08-16 01:07:35,513]\u001b[0m Trial 57 finished with value: 7172.841025641025 and parameters: {'kErase': 1, 'kRadius': 3, 'kAnnealingA': 3.344736704568123, 'kAnnealingB': 0.8725318701686718, 'kAnnealingStart': 69.8423285557446, 'kSkipRatio': 0.7364453572420535, 'kTargetDeterminationTrials': 7, 'kAttractionRatio': 0.6600411786001467, 'kMaxAttractionDistance': 19, 'kStartAttraction': 0.005279277799465925}. Best is trial 45 with value: 7914.523076923077.\u001b[0m\n"
     ]
    },
    {
     "name": "stdout",
     "output_type": "stream",
     "text": [
      "index_parallel='0058'\n"
     ]
    },
    {
     "name": "stderr",
     "output_type": "stream",
     "text": [
      "\u001b[32m[I 2022-08-16 01:11:19,388]\u001b[0m Trial 58 finished with value: 7155.215384615384 and parameters: {'kErase': 2, 'kRadius': 2, 'kAnnealingA': -2.047863921888942, 'kAnnealingB': 2.061404376918888, 'kAnnealingStart': 2.566419701485911, 'kSkipRatio': 0.6908365053841129, 'kTargetDeterminationTrials': 12, 'kAttractionRatio': 0.3643120144740063, 'kMaxAttractionDistance': 7, 'kStartAttraction': 0.8141905467492093}. Best is trial 45 with value: 7914.523076923077.\u001b[0m\n"
     ]
    },
    {
     "name": "stdout",
     "output_type": "stream",
     "text": [
      "index_parallel='0059'\n"
     ]
    },
    {
     "name": "stderr",
     "output_type": "stream",
     "text": [
      "\u001b[32m[I 2022-08-16 01:15:03,184]\u001b[0m Trial 59 finished with value: 7465.215384615384 and parameters: {'kErase': 1, 'kRadius': 4, 'kAnnealingA': -10.924486782852888, 'kAnnealingB': 0.1357433314097905, 'kAnnealingStart': 22.954965681533853, 'kSkipRatio': 0.2834915301442933, 'kTargetDeterminationTrials': 14, 'kAttractionRatio': 0.5493766755361985, 'kMaxAttractionDistance': 41, 'kStartAttraction': 0.003557540227954296}. Best is trial 45 with value: 7914.523076923077.\u001b[0m\n"
     ]
    },
    {
     "name": "stdout",
     "output_type": "stream",
     "text": [
      "index_parallel='0060'\n"
     ]
    },
    {
     "name": "stderr",
     "output_type": "stream",
     "text": [
      "\u001b[32m[I 2022-08-16 01:18:46,975]\u001b[0m Trial 60 finished with value: 7637.594871794872 and parameters: {'kErase': 1, 'kRadius': 3, 'kAnnealingA': -4.135643519308933, 'kAnnealingB': 0.6836032597744894, 'kAnnealingStart': 50.11994807606582, 'kSkipRatio': 0.6253737203041044, 'kTargetDeterminationTrials': 10, 'kAttractionRatio': 0.82009642224717, 'kMaxAttractionDistance': 13, 'kStartAttraction': 0.008396531821890733}. Best is trial 45 with value: 7914.523076923077.\u001b[0m\n"
     ]
    },
    {
     "name": "stdout",
     "output_type": "stream",
     "text": [
      "index_parallel='0061'\n"
     ]
    },
    {
     "name": "stderr",
     "output_type": "stream",
     "text": [
      "\u001b[32m[I 2022-08-16 01:22:30,914]\u001b[0m Trial 61 finished with value: 7685.271794871795 and parameters: {'kErase': 1, 'kRadius': 5, 'kAnnealingA': 1.2574441298985726, 'kAnnealingB': 0.48798478153079633, 'kAnnealingStart': 42.3332273381811, 'kSkipRatio': 0.7244289483641447, 'kTargetDeterminationTrials': 16, 'kAttractionRatio': 0.421284894401138, 'kMaxAttractionDistance': 25, 'kStartAttraction': 0.05765981777369848}. Best is trial 45 with value: 7914.523076923077.\u001b[0m\n"
     ]
    },
    {
     "name": "stdout",
     "output_type": "stream",
     "text": [
      "index_parallel='0062'\n"
     ]
    },
    {
     "name": "stderr",
     "output_type": "stream",
     "text": [
      "\u001b[32m[I 2022-08-16 01:26:14,828]\u001b[0m Trial 62 finished with value: 7721.492307692308 and parameters: {'kErase': 1, 'kRadius': 5, 'kAnnealingA': 1.702763035792313, 'kAnnealingB': 0.26071616457959634, 'kAnnealingStart': 39.34557056688635, 'kSkipRatio': 0.7187710058601079, 'kTargetDeterminationTrials': 20, 'kAttractionRatio': 0.44130500400593475, 'kMaxAttractionDistance': 24, 'kStartAttraction': 0.04278881529680133}. Best is trial 45 with value: 7914.523076923077.\u001b[0m\n"
     ]
    },
    {
     "name": "stdout",
     "output_type": "stream",
     "text": [
      "index_parallel='0063'\n"
     ]
    },
    {
     "name": "stderr",
     "output_type": "stream",
     "text": [
      "\u001b[32m[I 2022-08-16 01:29:58,551]\u001b[0m Trial 63 finished with value: 7577.282051282052 and parameters: {'kErase': 1, 'kRadius': 5, 'kAnnealingA': 1.5911936450829907, 'kAnnealingB': 0.26894757961141025, 'kAnnealingStart': 34.87100784298021, 'kSkipRatio': 0.6637689727464547, 'kTargetDeterminationTrials': 20, 'kAttractionRatio': 0.29501392834549084, 'kMaxAttractionDistance': 21, 'kStartAttraction': 0.045840420908785484}. Best is trial 45 with value: 7914.523076923077.\u001b[0m\n"
     ]
    },
    {
     "name": "stdout",
     "output_type": "stream",
     "text": [
      "index_parallel='0064'\n"
     ]
    },
    {
     "name": "stderr",
     "output_type": "stream",
     "text": [
      "\u001b[32m[I 2022-08-16 01:33:42,325]\u001b[0m Trial 64 finished with value: 7005.94358974359 and parameters: {'kErase': 1, 'kRadius': 5, 'kAnnealingA': 3.983761673752676, 'kAnnealingB': 0.4402252255711128, 'kAnnealingStart': 39.707857729691625, 'kSkipRatio': 0.7207068319837937, 'kTargetDeterminationTrials': 17, 'kAttractionRatio': 0.23569781220618455, 'kMaxAttractionDistance': 24, 'kStartAttraction': 0.09883526891463548}. Best is trial 45 with value: 7914.523076923077.\u001b[0m\n"
     ]
    },
    {
     "name": "stdout",
     "output_type": "stream",
     "text": [
      "index_parallel='0065'\n"
     ]
    },
    {
     "name": "stderr",
     "output_type": "stream",
     "text": [
      "\u001b[32m[I 2022-08-16 01:37:26,250]\u001b[0m Trial 65 finished with value: 7327.276923076923 and parameters: {'kErase': 2, 'kRadius': 5, 'kAnnealingA': 0.06278334956221557, 'kAnnealingB': 0.1380344008787978, 'kAnnealingStart': 58.46237304292983, 'kSkipRatio': 0.6605951754087928, 'kTargetDeterminationTrials': 16, 'kAttractionRatio': 0.4146328465137225, 'kMaxAttractionDistance': 17, 'kStartAttraction': 0.03597079895608278}. Best is trial 45 with value: 7914.523076923077.\u001b[0m\n"
     ]
    },
    {
     "name": "stdout",
     "output_type": "stream",
     "text": [
      "index_parallel='0066'\n"
     ]
    },
    {
     "name": "stderr",
     "output_type": "stream",
     "text": [
      "\u001b[32m[I 2022-08-16 01:41:09,841]\u001b[0m Trial 66 finished with value: 7601.476923076923 and parameters: {'kErase': 1, 'kRadius': 5, 'kAnnealingA': 4.665383157328595, 'kAnnealingB': 0.49728959317893906, 'kAnnealingStart': 26.10364843765758, 'kSkipRatio': 0.7227664043156151, 'kTargetDeterminationTrials': 13, 'kAttractionRatio': 0.3440884090982191, 'kMaxAttractionDistance': 29, 'kStartAttraction': 0.02695609934518211}. Best is trial 45 with value: 7914.523076923077.\u001b[0m\n"
     ]
    },
    {
     "name": "stdout",
     "output_type": "stream",
     "text": [
      "index_parallel='0067'\n"
     ]
    },
    {
     "name": "stderr",
     "output_type": "stream",
     "text": [
      "\u001b[32m[I 2022-08-16 01:44:53,496]\u001b[0m Trial 67 finished with value: 7239.651282051282 and parameters: {'kErase': 1, 'kRadius': 6, 'kAnnealingA': 3.0130046014797633, 'kAnnealingB': 0.3015517917197796, 'kAnnealingStart': 31.784530734086875, 'kSkipRatio': 0.7767594046750691, 'kTargetDeterminationTrials': 14, 'kAttractionRatio': 0.18275081662372664, 'kMaxAttractionDistance': 25, 'kStartAttraction': 0.15452507334064905}. Best is trial 45 with value: 7914.523076923077.\u001b[0m\n"
     ]
    },
    {
     "name": "stdout",
     "output_type": "stream",
     "text": [
      "index_parallel='0068'\n"
     ]
    },
    {
     "name": "stderr",
     "output_type": "stream",
     "text": [
      "\u001b[32m[I 2022-08-16 01:48:37,508]\u001b[0m Trial 68 finished with value: 5904.184615384615 and parameters: {'kErase': 2, 'kRadius': 4, 'kAnnealingA': 5.8683496423023165, 'kAnnealingB': 0.06253390874384845, 'kAnnealingStart': 85.2159399990342, 'kSkipRatio': 0.6909287060054664, 'kTargetDeterminationTrials': 20, 'kAttractionRatio': 0.011587105266889556, 'kMaxAttractionDistance': 15, 'kStartAttraction': 0.019472155529500067}. Best is trial 45 with value: 7914.523076923077.\u001b[0m\n"
     ]
    },
    {
     "name": "stdout",
     "output_type": "stream",
     "text": [
      "index_parallel='0069'\n"
     ]
    },
    {
     "name": "stderr",
     "output_type": "stream",
     "text": [
      "\u001b[32m[I 2022-08-16 01:52:21,538]\u001b[0m Trial 69 finished with value: 7589.594871794872 and parameters: {'kErase': 1, 'kRadius': 5, 'kAnnealingA': 8.622117958412055, 'kAnnealingB': 0.18963646214766852, 'kAnnealingStart': 17.923543765693996, 'kSkipRatio': 0.749606673377366, 'kTargetDeterminationTrials': 18, 'kAttractionRatio': 0.14623904885812328, 'kMaxAttractionDistance': 20, 'kStartAttraction': 0.05379344569911237}. Best is trial 45 with value: 7914.523076923077.\u001b[0m\n"
     ]
    },
    {
     "name": "stdout",
     "output_type": "stream",
     "text": [
      "index_parallel='0070'\n"
     ]
    },
    {
     "name": "stderr",
     "output_type": "stream",
     "text": [
      "\u001b[32m[I 2022-08-16 01:56:05,141]\u001b[0m Trial 70 finished with value: 7359.082051282051 and parameters: {'kErase': 1, 'kRadius': 4, 'kAnnealingA': -1.3835312997906977, 'kAnnealingB': 0.3930127122118865, 'kAnnealingStart': 65.27731605940197, 'kSkipRatio': 0.5933720603164562, 'kTargetDeterminationTrials': 11, 'kAttractionRatio': 0.5120255465284312, 'kMaxAttractionDistance': 34, 'kStartAttraction': 0.06972700669606774}. Best is trial 45 with value: 7914.523076923077.\u001b[0m\n"
     ]
    },
    {
     "name": "stdout",
     "output_type": "stream",
     "text": [
      "index_parallel='0071'\n"
     ]
    },
    {
     "name": "stderr",
     "output_type": "stream",
     "text": [
      "\u001b[32m[I 2022-08-16 01:59:48,846]\u001b[0m Trial 71 finished with value: 7574.738461538462 and parameters: {'kErase': 1, 'kRadius': 5, 'kAnnealingA': 1.8032539428096737, 'kAnnealingB': 0.7849824889744645, 'kAnnealingStart': 46.962618597344616, 'kSkipRatio': 0.7520022535698081, 'kTargetDeterminationTrials': 9, 'kAttractionRatio': 0.6589096310025351, 'kMaxAttractionDistance': 38, 'kStartAttraction': 0.017059601369434862}. Best is trial 45 with value: 7914.523076923077.\u001b[0m\n"
     ]
    },
    {
     "name": "stdout",
     "output_type": "stream",
     "text": [
      "index_parallel='0072'\n"
     ]
    },
    {
     "name": "stderr",
     "output_type": "stream",
     "text": [
      "\u001b[32m[I 2022-08-16 02:03:32,396]\u001b[0m Trial 72 finished with value: 7638.138461538461 and parameters: {'kErase': 1, 'kRadius': 6, 'kAnnealingA': 0.37310563200198366, 'kAnnealingB': 0.6148255457285039, 'kAnnealingStart': 38.91990058988869, 'kSkipRatio': 0.7213164309628999, 'kTargetDeterminationTrials': 15, 'kAttractionRatio': 0.5832625128171123, 'kMaxAttractionDistance': 31, 'kStartAttraction': 0.03689443277129822}. Best is trial 45 with value: 7914.523076923077.\u001b[0m\n"
     ]
    },
    {
     "name": "stdout",
     "output_type": "stream",
     "text": [
      "index_parallel='0073'\n"
     ]
    },
    {
     "name": "stderr",
     "output_type": "stream",
     "text": [
      "\u001b[32m[I 2022-08-16 02:07:16,183]\u001b[0m Trial 73 finished with value: 7649.892307692307 and parameters: {'kErase': 1, 'kRadius': 5, 'kAnnealingA': -0.771005199813078, 'kAnnealingB': 0.7065685642347078, 'kAnnealingStart': 48.94170115980929, 'kSkipRatio': 0.7410967841475681, 'kTargetDeterminationTrials': 16, 'kAttractionRatio': 0.7128528846383553, 'kMaxAttractionDistance': 29, 'kStartAttraction': 0.007370264143002035}. Best is trial 45 with value: 7914.523076923077.\u001b[0m\n"
     ]
    },
    {
     "name": "stdout",
     "output_type": "stream",
     "text": [
      "index_parallel='0074'\n"
     ]
    },
    {
     "name": "stderr",
     "output_type": "stream",
     "text": [
      "\u001b[32m[I 2022-08-16 02:11:00,104]\u001b[0m Trial 74 finished with value: 7466.882051282051 and parameters: {'kErase': 1, 'kRadius': 4, 'kAnnealingA': -3.1392925134983756, 'kAnnealingB': 1.2072560286680563, 'kAnnealingStart': 54.30500315259238, 'kSkipRatio': 0.6975010881197555, 'kTargetDeterminationTrials': 11, 'kAttractionRatio': 0.4275718002519517, 'kMaxAttractionDistance': 52, 'kStartAttraction': 0.010557166474802857}. Best is trial 45 with value: 7914.523076923077.\u001b[0m\n"
     ]
    },
    {
     "name": "stdout",
     "output_type": "stream",
     "text": [
      "index_parallel='0075'\n"
     ]
    },
    {
     "name": "stderr",
     "output_type": "stream",
     "text": [
      "\u001b[32m[I 2022-08-16 02:14:43,824]\u001b[0m Trial 75 finished with value: 7645.523076923077 and parameters: {'kErase': 1, 'kRadius': 5, 'kAnnealingA': 0.7107666734168152, 'kAnnealingB': 0.5369294555056979, 'kAnnealingStart': 24.224124111567864, 'kSkipRatio': 0.655048568320128, 'kTargetDeterminationTrials': 7, 'kAttractionRatio': 0.5309716978094302, 'kMaxAttractionDistance': 23, 'kStartAttraction': 0.025186857331532923}. Best is trial 45 with value: 7914.523076923077.\u001b[0m\n"
     ]
    },
    {
     "name": "stdout",
     "output_type": "stream",
     "text": [
      "index_parallel='0076'\n"
     ]
    },
    {
     "name": "stderr",
     "output_type": "stream",
     "text": [
      "\u001b[32m[I 2022-08-16 02:18:27,420]\u001b[0m Trial 76 finished with value: 7638.471794871795 and parameters: {'kErase': 1, 'kRadius': 4, 'kAnnealingA': -1.5833922132009315, 'kAnnealingB': 1.00821798558233, 'kAnnealingStart': 30.275793422927297, 'kSkipRatio': 0.7756531826703402, 'kTargetDeterminationTrials': 13, 'kAttractionRatio': 0.37933182625194767, 'kMaxAttractionDistance': 74, 'kStartAttraction': 0.014352496223960306}. Best is trial 45 with value: 7914.523076923077.\u001b[0m\n"
     ]
    },
    {
     "name": "stdout",
     "output_type": "stream",
     "text": [
      "index_parallel='0077'\n"
     ]
    },
    {
     "name": "stderr",
     "output_type": "stream",
     "text": [
      "\u001b[32m[I 2022-08-16 02:22:11,010]\u001b[0m Trial 77 finished with value: 7093.523076923077 and parameters: {'kErase': 1, 'kRadius': 5, 'kAnnealingA': -0.26797017264674516, 'kAnnealingB': 0.37228284036430215, 'kAnnealingStart': 60.73139993432791, 'kSkipRatio': 0.7123706704691597, 'kTargetDeterminationTrials': 8, 'kAttractionRatio': 0.30642296539804886, 'kMaxAttractionDistance': 26, 'kStartAttraction': 0.0060254113635869145}. Best is trial 45 with value: 7914.523076923077.\u001b[0m\n"
     ]
    },
    {
     "name": "stdout",
     "output_type": "stream",
     "text": [
      "index_parallel='0078'\n"
     ]
    },
    {
     "name": "stderr",
     "output_type": "stream",
     "text": [
      "\u001b[32m[I 2022-08-16 02:25:54,509]\u001b[0m Trial 78 finished with value: 7717.94358974359 and parameters: {'kErase': 1, 'kRadius': 3, 'kAnnealingA': 2.912575019916245, 'kAnnealingB': 0.830112238663996, 'kAnnealingStart': 36.12479309049148, 'kSkipRatio': 0.3546575651381567, 'kTargetDeterminationTrials': 18, 'kAttractionRatio': 0.8002754893726364, 'kMaxAttractionDistance': 37, 'kStartAttraction': 0.1013119197521578}. Best is trial 45 with value: 7914.523076923077.\u001b[0m\n"
     ]
    },
    {
     "name": "stdout",
     "output_type": "stream",
     "text": [
      "index_parallel='0079'\n"
     ]
    },
    {
     "name": "stderr",
     "output_type": "stream",
     "text": [
      "\u001b[32m[I 2022-08-16 02:29:38,670]\u001b[0m Trial 79 finished with value: 7304.810256410256 and parameters: {'kErase': 2, 'kRadius': 3, 'kAnnealingA': 2.8627827117404663, 'kAnnealingB': 0.5798535244148562, 'kAnnealingStart': 35.2174769830765, 'kSkipRatio': 0.34606012644272427, 'kTargetDeterminationTrials': 17, 'kAttractionRatio': 0.8090746695037218, 'kMaxAttractionDistance': 18, 'kStartAttraction': 0.10162083034320742}. Best is trial 45 with value: 7914.523076923077.\u001b[0m\n"
     ]
    },
    {
     "name": "stdout",
     "output_type": "stream",
     "text": [
      "index_parallel='0080'\n"
     ]
    },
    {
     "name": "stderr",
     "output_type": "stream",
     "text": [
      "\u001b[32m[I 2022-08-16 02:33:22,510]\u001b[0m Trial 80 finished with value: 6623.774358974359 and parameters: {'kErase': 1, 'kRadius': 5, 'kAnnealingA': 1.3970217485743142, 'kAnnealingB': 0.856672169855843, 'kAnnealingStart': 21.196020794809986, 'kSkipRatio': 0.2537566007527098, 'kTargetDeterminationTrials': 19, 'kAttractionRatio': 0.0392127880636711, 'kMaxAttractionDistance': 21, 'kStartAttraction': 0.12502510757238594}. Best is trial 45 with value: 7914.523076923077.\u001b[0m\n"
     ]
    },
    {
     "name": "stdout",
     "output_type": "stream",
     "text": [
      "index_parallel='0081'\n"
     ]
    }
   ],
   "source": [
    "study.optimize(\n",
    "    partial(objective, in_dir=in_dir, work_dir=work_dir),\n",
    "    n_trials=3000,\n",
    "    timeout=86400,\n",
    "    callbacks=[callback]\n",
    ")"
   ]
  },
  {
   "cell_type": "code",
   "execution_count": null,
   "id": "700269d2",
   "metadata": {},
   "outputs": [],
   "source": []
  }
 ],
 "metadata": {
  "kernelspec": {
   "display_name": "Python 3 (ipykernel)",
   "language": "python",
   "name": "python3"
  },
  "language_info": {
   "codemirror_mode": {
    "name": "ipython",
    "version": 3
   },
   "file_extension": ".py",
   "mimetype": "text/x-python",
   "name": "python",
   "nbconvert_exporter": "python",
   "pygments_lexer": "ipython3",
   "version": "3.9.12"
  }
 },
 "nbformat": 4,
 "nbformat_minor": 5
}
