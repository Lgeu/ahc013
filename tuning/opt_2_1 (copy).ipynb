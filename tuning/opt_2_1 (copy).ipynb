{
 "cells": [
  {
   "cell_type": "code",
   "execution_count": 1,
   "id": "99269f68",
   "metadata": {},
   "outputs": [],
   "source": [
    "import re\n",
    "import sys\n",
    "from uuid import uuid1\n",
    "from time import sleep\n",
    "from pprint import pprint\n",
    "from pathlib import Path\n",
    "from tempfile import gettempdir\n",
    "from threading import Thread\n",
    "from functools import partial\n",
    "from subprocess import Popen, PIPE\n",
    "\n",
    "from tqdm.notebook import tqdm\n",
    "import numpy as np\n",
    "import optuna\n",
    "import pandas as pd\n",
    "import matplotlib.pyplot as plt\n",
    "\n",
    "FILENAME = \"main.cpp\""
   ]
  },
  {
   "cell_type": "code",
   "execution_count": 2,
   "id": "43e9fc30",
   "metadata": {},
   "outputs": [
    {
     "name": "stdout",
     "output_type": "stream",
     "text": [
      "10 variables were found.\n"
     ]
    },
    {
     "data": {
      "text/html": [
       "<div>\n",
       "<style scoped>\n",
       "    .dataframe tbody tr th:only-of-type {\n",
       "        vertical-align: middle;\n",
       "    }\n",
       "\n",
       "    .dataframe tbody tr th {\n",
       "        vertical-align: top;\n",
       "    }\n",
       "\n",
       "    .dataframe thead th {\n",
       "        text-align: right;\n",
       "    }\n",
       "</style>\n",
       "<table border=\"1\" class=\"dataframe\">\n",
       "  <thead>\n",
       "    <tr style=\"text-align: right;\">\n",
       "      <th></th>\n",
       "      <th>name</th>\n",
       "      <th>method</th>\n",
       "      <th>min</th>\n",
       "      <th>max</th>\n",
       "      <th>log</th>\n",
       "      <th>left</th>\n",
       "      <th>right</th>\n",
       "    </tr>\n",
       "  </thead>\n",
       "  <tbody>\n",
       "    <tr>\n",
       "      <th>0</th>\n",
       "      <td>kErase</td>\n",
       "      <td>suggest_int</td>\n",
       "      <td>1.000</td>\n",
       "      <td>5.0</td>\n",
       "      <td>False</td>\n",
       "      <td>static constexpr auto kErase =</td>\n",
       "      <td>;             // OPTIMIZE [1, 5]</td>\n",
       "    </tr>\n",
       "    <tr>\n",
       "      <th>1</th>\n",
       "      <td>kRadius</td>\n",
       "      <td>suggest_int</td>\n",
       "      <td>2.000</td>\n",
       "      <td>6.0</td>\n",
       "      <td>False</td>\n",
       "      <td>static constexpr auto kRadius =</td>\n",
       "      <td>;            // OPTIMIZE [2, 6]</td>\n",
       "    </tr>\n",
       "    <tr>\n",
       "      <th>2</th>\n",
       "      <td>kAnnealingA</td>\n",
       "      <td>suggest_float</td>\n",
       "      <td>-15.000</td>\n",
       "      <td>15.0</td>\n",
       "      <td>False</td>\n",
       "      <td>static constexpr auto kAnnealingA =</td>\n",
       "      <td>;      // OPTIMIZE [-15.0, 15.0]</td>\n",
       "    </tr>\n",
       "    <tr>\n",
       "      <th>3</th>\n",
       "      <td>kAnnealingB</td>\n",
       "      <td>suggest_float</td>\n",
       "      <td>0.000</td>\n",
       "      <td>3.0</td>\n",
       "      <td>False</td>\n",
       "      <td>static constexpr auto kAnnealingB =</td>\n",
       "      <td>;      // OPTIMIZE [0.0, 3.0]</td>\n",
       "    </tr>\n",
       "    <tr>\n",
       "      <th>4</th>\n",
       "      <td>kAnnealingStart</td>\n",
       "      <td>suggest_float</td>\n",
       "      <td>1.000</td>\n",
       "      <td>100.0</td>\n",
       "      <td>True</td>\n",
       "      <td>static constexpr auto kAnnealingStart =</td>\n",
       "      <td>; // OPTIMIZE LOG [1.0, 100.0]</td>\n",
       "    </tr>\n",
       "    <tr>\n",
       "      <th>5</th>\n",
       "      <td>kSkipRatio</td>\n",
       "      <td>suggest_float</td>\n",
       "      <td>0.200</td>\n",
       "      <td>0.8</td>\n",
       "      <td>False</td>\n",
       "      <td>static constexpr auto kSkipRatio =</td>\n",
       "      <td>;       // OPTIMIZE [0.2, 0.8]</td>\n",
       "    </tr>\n",
       "    <tr>\n",
       "      <th>6</th>\n",
       "      <td>kTargetDeterminationTrials</td>\n",
       "      <td>suggest_int</td>\n",
       "      <td>1.000</td>\n",
       "      <td>20.0</td>\n",
       "      <td>True</td>\n",
       "      <td>static constexpr auto kTargetDeterminationTria...</td>\n",
       "      <td>; // OPTIMIZE LOG [1, 20]</td>\n",
       "    </tr>\n",
       "    <tr>\n",
       "      <th>7</th>\n",
       "      <td>kAttractionRatio</td>\n",
       "      <td>suggest_float</td>\n",
       "      <td>0.010</td>\n",
       "      <td>0.9</td>\n",
       "      <td>True</td>\n",
       "      <td>static constexpr auto kAttractionRatio =</td>\n",
       "      <td>;      // OPTIMIZE LOG [0.01, 0.9]</td>\n",
       "    </tr>\n",
       "    <tr>\n",
       "      <th>8</th>\n",
       "      <td>kMaxAttractionDistance</td>\n",
       "      <td>suggest_int</td>\n",
       "      <td>4.000</td>\n",
       "      <td>99.0</td>\n",
       "      <td>True</td>\n",
       "      <td>static constexpr auto kMaxAttractionDistance =</td>\n",
       "      <td>; // OPTIMIZE LOG [4, 99]</td>\n",
       "    </tr>\n",
       "    <tr>\n",
       "      <th>9</th>\n",
       "      <td>kStartAttraction</td>\n",
       "      <td>suggest_float</td>\n",
       "      <td>0.001</td>\n",
       "      <td>0.9</td>\n",
       "      <td>True</td>\n",
       "      <td>static constexpr auto kStartAttraction =</td>\n",
       "      <td>;     // OPTIMIZE LOG [0.001, 0.9]</td>\n",
       "    </tr>\n",
       "  </tbody>\n",
       "</table>\n",
       "</div>"
      ],
      "text/plain": [
       "                         name         method     min    max    log  \\\n",
       "0                      kErase    suggest_int   1.000    5.0  False   \n",
       "1                     kRadius    suggest_int   2.000    6.0  False   \n",
       "2                 kAnnealingA  suggest_float -15.000   15.0  False   \n",
       "3                 kAnnealingB  suggest_float   0.000    3.0  False   \n",
       "4             kAnnealingStart  suggest_float   1.000  100.0   True   \n",
       "5                  kSkipRatio  suggest_float   0.200    0.8  False   \n",
       "6  kTargetDeterminationTrials    suggest_int   1.000   20.0   True   \n",
       "7            kAttractionRatio  suggest_float   0.010    0.9   True   \n",
       "8      kMaxAttractionDistance    suggest_int   4.000   99.0   True   \n",
       "9            kStartAttraction  suggest_float   0.001    0.9   True   \n",
       "\n",
       "                                                left  \\\n",
       "0                    static constexpr auto kErase =    \n",
       "1                   static constexpr auto kRadius =    \n",
       "2               static constexpr auto kAnnealingA =    \n",
       "3               static constexpr auto kAnnealingB =    \n",
       "4           static constexpr auto kAnnealingStart =    \n",
       "5                static constexpr auto kSkipRatio =    \n",
       "6  static constexpr auto kTargetDeterminationTria...   \n",
       "7          static constexpr auto kAttractionRatio =    \n",
       "8    static constexpr auto kMaxAttractionDistance =    \n",
       "9          static constexpr auto kStartAttraction =    \n",
       "\n",
       "                                right  \n",
       "0    ;             // OPTIMIZE [1, 5]  \n",
       "1     ;            // OPTIMIZE [2, 6]  \n",
       "2    ;      // OPTIMIZE [-15.0, 15.0]  \n",
       "3       ;      // OPTIMIZE [0.0, 3.0]  \n",
       "4      ; // OPTIMIZE LOG [1.0, 100.0]  \n",
       "5      ;       // OPTIMIZE [0.2, 0.8]  \n",
       "6           ; // OPTIMIZE LOG [1, 20]  \n",
       "7  ;      // OPTIMIZE LOG [0.01, 0.9]  \n",
       "8           ; // OPTIMIZE LOG [4, 99]  \n",
       "9  ;     // OPTIMIZE LOG [0.001, 0.9]  "
      ]
     },
     "metadata": {},
     "output_type": "display_data"
    }
   ],
   "source": [
    "# ここでエラー出力は何かおかしいかもしれない\n",
    "\n",
    "\n",
    "# パラメータ抽出\n",
    "with open(FILENAME) as f:\n",
    "    answer = f.read()\n",
    "\n",
    "\n",
    "variables_optimize = []\n",
    "\n",
    "for left, value, right, options in re.findall(r\"^([^/\\n]*=\\s*)(.+?)(\\s*;\\s*//(?:.*\\W)?OPTIMIZE(\\W.*))$\", answer, re.MULTILINE):\n",
    "    name = left.replace(\"=\", \"\").strip().split()[-1]\n",
    "    \n",
    "    searched = re.search(r\".*\\[(?P<min>.*),(?P<max>.*)\\].*\", options)\n",
    "    if searched:\n",
    "        min_value = max_value = None\n",
    "        try:\n",
    "            min_value = eval(searched.group(\"min\"))\n",
    "            max_value = eval(searched.group(\"max\"))\n",
    "            assert min_value <= max_value\n",
    "        except Exception as e:\n",
    "            print(f\"searched={searched}\", file=sys.stderr)\n",
    "            print(e, file=sys.stderr)\n",
    "            continue\n",
    "        log = \"LOG\" in options  # 雑、直したほうが良い\n",
    "        if type(min_value) != type(max_value):\n",
    "            print(f\"searched={searched}\", file=sys.stderr)\n",
    "            print(\"types not matched\", file=sys.stderr)\n",
    "            continue\n",
    "        if isinstance(min_value, int):\n",
    "            method = \"suggest_int\"\n",
    "        elif isinstance(min_value, float):\n",
    "            method = \"suggest_float\"\n",
    "        else:\n",
    "            print(f\"searched={searched}\", file=sys.stderr)\n",
    "            print(f\"unknown type ({type(min_value)})\", file=sys.stderr)\n",
    "            continue\n",
    "        variables_optimize.append({\n",
    "            \"name\": name,\n",
    "            \"method\": method,\n",
    "            \"min\": min_value,\n",
    "            \"max\": max_value,\n",
    "            \"log\": log,\n",
    "            \"left\": left,\n",
    "            \"right\": right,\n",
    "        })\n",
    "    elif searched := re.search(r\".*\\{(?P<choices>.*?)\\}.*\", options):\n",
    "        choices = list(map(lambda x: x.strip(), searched.group(\"choices\").split(\",\")))\n",
    "        variables_optimize.append({\n",
    "            \"name\": name,\n",
    "            \"method\": \"suggest_categorical\",\n",
    "            \"choices\": choices,\n",
    "            \"left\": left,\n",
    "            \"right\": right,\n",
    "        })\n",
    "    else:\n",
    "        print(f\"searched={searched}\", file=sys.stderr)\n",
    "        print(f\"pattern was matched but options are incorrect.\", file=sys.stderr)\n",
    "\n",
    "print(len(variables_optimize), \"variables were found.\")\n",
    "if globals().get(\"pd\"):\n",
    "    display(pd.DataFrame(variables_optimize))\n",
    "else:\n",
    "    pprint(variables_optimize)"
   ]
  },
  {
   "cell_type": "code",
   "execution_count": 3,
   "id": "5162f70e",
   "metadata": {},
   "outputs": [],
   "source": [
    "def escape(string):  # 正規表現の中でそのまま使いたい文字列をエスケープ\n",
    "    res = !echo '{string}' | sed -e 's/[]\\/$*.^[]/\\\\&/g'\n",
    "    return res[0]\n",
    "\n",
    "def escape_sed(string):  # sed の置換後の文字列用のエスケープ\n",
    "    res = !echo '{string}' | sed -e 's/[\\/&]/\\\\&/g'\n",
    "    return res[0]\n",
    "\n",
    "def read_stream(name, in_file, out_file):\n",
    "    for line in in_file:\n",
    "        print(f\"[{name}] {line.strip()}\", file=out_file)\n",
    "\n",
    "def run(cmd, name):\n",
    "    proc = Popen(cmd, stdout=PIPE, stderr=PIPE, universal_newlines=True, shell=isinstance(cmd, str))\n",
    "    stdout_thread = Thread(target=read_stream, args=(name, proc.stdout, sys.stdout))\n",
    "    stderr_thread = Thread(target=read_stream, args=(name, proc.stderr, sys.stderr))\n",
    "    stdout_thread.start()\n",
    "    stderr_thread.start()\n",
    "    proc.wait()\n",
    "    return proc\n",
    "\n",
    "def objective(trial, in_dir, work_dir):\n",
    "    n_internal_parallel = 3\n",
    "    \n",
    "    index_parallel = f\"{trial.number:04d}\"\n",
    "    print(f\"{index_parallel=}\")\n",
    "    \n",
    "    work_dir = Path(work_dir)\n",
    "    directory_input = Path(in_dir)  # 中のすべてのファイルに対して実行される\n",
    "    #parameters_changed_filename = Path(gettempdir()) / str(uuid1())\n",
    "    parameters_changed_filename = work_dir / f\"{index_parallel}_{FILENAME}\"\n",
    "    \n",
    "    run([\"mkdir\", f\"{work_dir / index_parallel}_out\"], \"mkdir\")\n",
    "    run([\"mkdir\", f\"{work_dir / index_parallel}_score\"], \"mkdir\")\n",
    "    \n",
    "    # ファイル作成\n",
    "    run(f\"cp {FILENAME} {parameters_changed_filename}\", \"cp\")\n",
    "    sed_options = [f\"-i {parameters_changed_filename}\"]\n",
    "    for variable in variables_optimize:\n",
    "        if variable[\"method\"] == \"suggest_categorical\":\n",
    "            val =  trial.suggest_categorical(variable[\"name\"], variable[\"choices\"])\n",
    "        else:\n",
    "            val = getattr(trial, variable[\"method\"])(variable[\"name\"], variable[\"min\"], variable[\"max\"], log=variable[\"log\"])\n",
    "        left = variable[\"left\"]\n",
    "        right = variable[\"right\"]\n",
    "        sed_options.append(f\"\"\"-e 's/^{escape(left)}.*{escape(right)}$/{escape_sed(left)}{val}{escape_sed(right)}/'\"\"\")\n",
    "    command_sed = f\"sed {' '.join(sed_options)}\"\n",
    "    #print(command_sed)\n",
    "    run(command_sed, \"sed\")\n",
    "    \n",
    "    # コンパイル\n",
    "    command_compile = f\"g++ {parameters_changed_filename} -std=gnu++17 -O2 -DONLINE_JUDGE -o {parameters_changed_filename}.out\"\n",
    "    #print(command_compile)\n",
    "    run(command_compile, \"compile\")\n",
    "    # 実行・採点コマンド (@ はファイル名)\n",
    "    command_exec = (\n",
    "        #f\"./a.out < ./tools/in/{i:04d}.txt > {out_file} && ./tools/target/release/vis ./tools/in/{i:04d}.txt {out_file}\"\n",
    "        #f\"../tools/target/release/tester $(pwd)/{parameters_changed_filename}.out < {directory_input}/@ 2>&1 | grep Score\"\n",
    "        #f\"../tools/target/release/tester $(pwd)/{parameters_changed_filename}.out < {directory_input}/@ 2>&1 | grep Score | sed -E s/[^0-9]+// > ./{index_parallel}_score/@;\"\n",
    "        #f\"cargo run --release --manifest-path ../tools/Cargo.toml --bin tester {directory_input}/@ $(pwd)/{parameters_changed_filename}.out 2>&1 | grep Score | sed -E s/[^0-9]+// > ./{index_parallel}_score/@;\"\n",
    "        f\"./{parameters_changed_filename}.out < {directory_input}/@ > {work_dir / index_parallel}_out/@;\"\n",
    "        f\"../tools/target/release/vis {directory_input}/@ {work_dir / index_parallel}_out/@ 2> /dev/null > {work_dir / index_parallel}_score/@;\"\n",
    "    )\n",
    "    # 並列実行 (sed はパスのディレクトリ部分を消してファイル名にしてる)\n",
    "    run(f\"find {directory_input}/* | sed 's!^.*/!!' | xargs -I@ -P {n_internal_parallel} sh -c '{command_exec}'\", \"exec\")\n",
    "    \n",
    "    # 集計\n",
    "    scores = []\n",
    "    for file_path in Path(f\"{work_dir / index_parallel}_score/\").iterdir():  \n",
    "        with open(file_path) as f:\n",
    "            scores.append(int(f.readline().strip().split()[-1]))\n",
    "    mean_score = sum(scores) / len(scores)\n",
    "    \n",
    "    # 後始末\n",
    "    run(f\"rm -rf {work_dir / index_parallel}_out\", \"rm\")\n",
    "    run(f\"rm -rf {work_dir / index_parallel}_score\", \"rm\")\n",
    "    #run(f\"rm {parameters_changed_filename}\", \"rm\")\n",
    "    run(f\"rm {parameters_changed_filename}.out\", \"rm\")\n",
    "    \n",
    "    return mean_score"
   ]
  },
  {
   "cell_type": "code",
   "execution_count": 4,
   "id": "ec259432",
   "metadata": {},
   "outputs": [
    {
     "name": "stderr",
     "output_type": "stream",
     "text": [
      "\u001b[32m[I 2022-08-16 04:59:20,612]\u001b[0m Using an existing study with name 'study_2_1' instead of creating a new one.\u001b[0m\n"
     ]
    }
   ],
   "source": [
    "K = 2\n",
    "N_CLASS = 1\n",
    "\n",
    "in_dir = Path(f\"in_{K}_{N_CLASS}\")\n",
    "work_dir = Path(f\"work_{K}_{N_CLASS}\")\n",
    "\n",
    "study_name = f\"study_{K}_{N_CLASS}\"\n",
    "storage_path = work_dir / \"study.db\"\n",
    "storage = f\"sqlite:///{storage_path}\"\n",
    "study = optuna.create_study(storage=storage, load_if_exists=True, study_name=study_name, direction=\"maximize\")\n",
    "\n",
    "def callback(study, trial):\n",
    "    try:\n",
    "        index_parallel = f\"{trial.number:04d}\"\n",
    "        parameters_changed_filename = work_dir / f\"{index_parallel}_{FILENAME}\"\n",
    "        if study.best_value == trial.value:\n",
    "            print(f\"Updated! {study.best_value}\")\n",
    "            !cp {parameters_changed_filename} {work_dir / \"best_parameters.cpp\"}\n",
    "        !rm {parameters_changed_filename}\n",
    "    except:\n",
    "        print(\":(\")\n"
   ]
  },
  {
   "cell_type": "code",
   "execution_count": null,
   "id": "7384fcf8",
   "metadata": {},
   "outputs": [
    {
     "name": "stdout",
     "output_type": "stream",
     "text": [
      "index_parallel='0187'\n"
     ]
    },
    {
     "name": "stderr",
     "output_type": "stream",
     "text": [
      "\u001b[32m[I 2022-08-16 08:11:38,079]\u001b[0m Trial 187 finished with value: 7226.59793814433 and parameters: {'kErase': 2, 'kRadius': 3, 'kAnnealingA': -3.622021290989408, 'kAnnealingB': 0.9548036980859143, 'kAnnealingStart': 75.56328412401152, 'kSkipRatio': 0.6791003574669715, 'kTargetDeterminationTrials': 17, 'kAttractionRatio': 0.019470463216191787, 'kMaxAttractionDistance': 22, 'kStartAttraction': 0.0017051078332241912}. Best is trial 179 with value: 7275.865979381443.\u001b[0m\n"
     ]
    },
    {
     "name": "stdout",
     "output_type": "stream",
     "text": [
      "index_parallel='0189'\n"
     ]
    },
    {
     "name": "stderr",
     "output_type": "stream",
     "text": [
      "\u001b[32m[I 2022-08-16 08:15:23,604]\u001b[0m Trial 189 finished with value: 7225.943298969072 and parameters: {'kErase': 2, 'kRadius': 3, 'kAnnealingA': -2.526216443441232, 'kAnnealingB': 1.2059554765155418, 'kAnnealingStart': 65.4759693426072, 'kSkipRatio': 0.6626050340627954, 'kTargetDeterminationTrials': 16, 'kAttractionRatio': 0.013229737201795572, 'kMaxAttractionDistance': 21, 'kStartAttraction': 0.0021784360820464883}. Best is trial 179 with value: 7275.865979381443.\u001b[0m\n"
     ]
    },
    {
     "name": "stdout",
     "output_type": "stream",
     "text": [
      "index_parallel='0191'\n"
     ]
    },
    {
     "name": "stderr",
     "output_type": "stream",
     "text": [
      "\u001b[32m[I 2022-08-16 08:19:09,694]\u001b[0m Trial 191 finished with value: 7231.958762886598 and parameters: {'kErase': 2, 'kRadius': 3, 'kAnnealingA': -2.018578052859154, 'kAnnealingB': 0.8684934459369866, 'kAnnealingStart': 62.2931971350383, 'kSkipRatio': 0.6884258174804663, 'kTargetDeterminationTrials': 17, 'kAttractionRatio': 0.017267468752645343, 'kMaxAttractionDistance': 20, 'kStartAttraction': 0.0016349344442242468}. Best is trial 179 with value: 7275.865979381443.\u001b[0m\n"
     ]
    },
    {
     "name": "stdout",
     "output_type": "stream",
     "text": [
      "index_parallel='0193'\n"
     ]
    },
    {
     "name": "stderr",
     "output_type": "stream",
     "text": [
      "\u001b[32m[I 2022-08-16 08:22:55,316]\u001b[0m Trial 193 finished with value: 7264.845360824742 and parameters: {'kErase': 2, 'kRadius': 3, 'kAnnealingA': -1.4196686136973975, 'kAnnealingB': 0.868426026758014, 'kAnnealingStart': 55.6626666700989, 'kSkipRatio': 0.6712303028759172, 'kTargetDeterminationTrials': 14, 'kAttractionRatio': 0.015047825724982217, 'kMaxAttractionDistance': 23, 'kStartAttraction': 0.0017707425982259122}. Best is trial 179 with value: 7275.865979381443.\u001b[0m\n"
     ]
    },
    {
     "name": "stdout",
     "output_type": "stream",
     "text": [
      "index_parallel='0195'\n"
     ]
    },
    {
     "name": "stderr",
     "output_type": "stream",
     "text": [
      "\u001b[32m[I 2022-08-16 08:26:40,874]\u001b[0m Trial 195 finished with value: 7253.412371134021 and parameters: {'kErase': 2, 'kRadius': 3, 'kAnnealingA': -3.114672775854171, 'kAnnealingB': 0.9231399183573296, 'kAnnealingStart': 71.21404244257141, 'kSkipRatio': 0.6738562285145618, 'kTargetDeterminationTrials': 15, 'kAttractionRatio': 0.01369582813158003, 'kMaxAttractionDistance': 24, 'kStartAttraction': 0.0018710910468085265}. Best is trial 179 with value: 7275.865979381443.\u001b[0m\n"
     ]
    },
    {
     "name": "stdout",
     "output_type": "stream",
     "text": [
      "index_parallel='0197'\n"
     ]
    },
    {
     "name": "stderr",
     "output_type": "stream",
     "text": [
      "\u001b[32m[I 2022-08-16 08:30:26,220]\u001b[0m Trial 197 finished with value: 7202.81443298969 and parameters: {'kErase': 2, 'kRadius': 3, 'kAnnealingA': -3.9748892008365333, 'kAnnealingB': 0.6656287941228052, 'kAnnealingStart': 48.73208863041342, 'kSkipRatio': 0.6289059568184276, 'kTargetDeterminationTrials': 18, 'kAttractionRatio': 0.01059176336014655, 'kMaxAttractionDistance': 22, 'kStartAttraction': 0.0012791223869096512}. Best is trial 179 with value: 7275.865979381443.\u001b[0m\n"
     ]
    },
    {
     "name": "stdout",
     "output_type": "stream",
     "text": [
      "index_parallel='0199'\n"
     ]
    },
    {
     "name": "stderr",
     "output_type": "stream",
     "text": [
      "\u001b[32m[I 2022-08-16 08:34:12,196]\u001b[0m Trial 199 finished with value: 7237.3917525773195 and parameters: {'kErase': 2, 'kRadius': 3, 'kAnnealingA': -1.543268356641529, 'kAnnealingB': 0.7775727232113594, 'kAnnealingStart': 53.208298044609556, 'kSkipRatio': 0.6660105699550419, 'kTargetDeterminationTrials': 14, 'kAttractionRatio': 0.016853808658782544, 'kMaxAttractionDistance': 22, 'kStartAttraction': 0.0023682424056487997}. Best is trial 179 with value: 7275.865979381443.\u001b[0m\n"
     ]
    },
    {
     "name": "stdout",
     "output_type": "stream",
     "text": [
      "index_parallel='0201'\n"
     ]
    },
    {
     "name": "stderr",
     "output_type": "stream",
     "text": [
      "\u001b[32m[I 2022-08-16 08:37:57,540]\u001b[0m Trial 201 finished with value: 7048.716494845361 and parameters: {'kErase': 2, 'kRadius': 3, 'kAnnealingA': -2.959110733382939, 'kAnnealingB': 1.0067323264634367, 'kAnnealingStart': 63.79394833631371, 'kSkipRatio': 0.5222468088204233, 'kTargetDeterminationTrials': 15, 'kAttractionRatio': 0.02352454384903994, 'kMaxAttractionDistance': 18, 'kStartAttraction': 0.001494155512899176}. Best is trial 179 with value: 7275.865979381443.\u001b[0m\n"
     ]
    },
    {
     "name": "stdout",
     "output_type": "stream",
     "text": [
      "index_parallel='0203'\n"
     ]
    },
    {
     "name": "stderr",
     "output_type": "stream",
     "text": [
      "\u001b[32m[I 2022-08-16 08:41:42,580]\u001b[0m Trial 203 finished with value: 7253.7525773195875 and parameters: {'kErase': 2, 'kRadius': 3, 'kAnnealingA': -0.906435305150681, 'kAnnealingB': 0.9543446388368135, 'kAnnealingStart': 46.86244346049098, 'kSkipRatio': 0.6958130742839924, 'kTargetDeterminationTrials': 17, 'kAttractionRatio': 0.012133861429136248, 'kMaxAttractionDistance': 23, 'kStartAttraction': 0.0017569081980932286}. Best is trial 179 with value: 7275.865979381443.\u001b[0m\n"
     ]
    },
    {
     "name": "stdout",
     "output_type": "stream",
     "text": [
      "index_parallel='0205'\n"
     ]
    },
    {
     "name": "stderr",
     "output_type": "stream",
     "text": [
      "\u001b[32m[I 2022-08-16 08:45:27,941]\u001b[0m Trial 205 finished with value: 7221.603092783505 and parameters: {'kErase': 2, 'kRadius': 3, 'kAnnealingA': -0.25317291710495127, 'kAnnealingB': 1.0372340222619953, 'kAnnealingStart': 53.34383219383051, 'kSkipRatio': 0.6558480798774038, 'kTargetDeterminationTrials': 19, 'kAttractionRatio': 0.03073509836342918, 'kMaxAttractionDistance': 18, 'kStartAttraction': 0.0020835697442469995}. Best is trial 179 with value: 7275.865979381443.\u001b[0m\n"
     ]
    },
    {
     "name": "stdout",
     "output_type": "stream",
     "text": [
      "index_parallel='0207'\n"
     ]
    },
    {
     "name": "stderr",
     "output_type": "stream",
     "text": [
      "\u001b[32m[I 2022-08-16 08:49:13,519]\u001b[0m Trial 207 finished with value: 7256.479381443299 and parameters: {'kErase': 2, 'kRadius': 3, 'kAnnealingA': 0.03805281824289258, 'kAnnealingB': 1.2219239766650047, 'kAnnealingStart': 46.43753913083763, 'kSkipRatio': 0.6732497024144356, 'kTargetDeterminationTrials': 19, 'kAttractionRatio': 0.033739522627247366, 'kMaxAttractionDistance': 25, 'kStartAttraction': 0.00253477240587869}. Best is trial 179 with value: 7275.865979381443.\u001b[0m\n"
     ]
    },
    {
     "name": "stdout",
     "output_type": "stream",
     "text": [
      "index_parallel='0209'\n"
     ]
    },
    {
     "name": "stderr",
     "output_type": "stream",
     "text": [
      "\u001b[32m[I 2022-08-16 08:52:59,068]\u001b[0m Trial 209 finished with value: 7238.5360824742265 and parameters: {'kErase': 2, 'kRadius': 3, 'kAnnealingA': 0.17550595884730685, 'kAnnealingB': 1.152972627406152, 'kAnnealingStart': 41.635971903733726, 'kSkipRatio': 0.6869653400069309, 'kTargetDeterminationTrials': 20, 'kAttractionRatio': 0.027552374846370017, 'kMaxAttractionDistance': 24, 'kStartAttraction': 0.002496078271702915}. Best is trial 179 with value: 7275.865979381443.\u001b[0m\n"
     ]
    },
    {
     "name": "stdout",
     "output_type": "stream",
     "text": [
      "index_parallel='0211'\n"
     ]
    },
    {
     "name": "stderr",
     "output_type": "stream",
     "text": [
      "\u001b[32m[I 2022-08-16 08:56:44,507]\u001b[0m Trial 211 finished with value: 7257.015463917526 and parameters: {'kErase': 2, 'kRadius': 3, 'kAnnealingA': -1.3158034884635175, 'kAnnealingB': 1.1919519245269088, 'kAnnealingStart': 50.44153053229205, 'kSkipRatio': 0.6791506025134258, 'kTargetDeterminationTrials': 14, 'kAttractionRatio': 0.03364021694404489, 'kMaxAttractionDistance': 28, 'kStartAttraction': 0.0015334537740206901}. Best is trial 179 with value: 7275.865979381443.\u001b[0m\n"
     ]
    },
    {
     "name": "stdout",
     "output_type": "stream",
     "text": [
      "index_parallel='0213'\n"
     ]
    },
    {
     "name": "stderr",
     "output_type": "stream",
     "text": [
      "\u001b[32m[I 2022-08-16 09:00:29,661]\u001b[0m Trial 213 finished with value: 7262.664948453608 and parameters: {'kErase': 2, 'kRadius': 3, 'kAnnealingA': -1.361740632372694, 'kAnnealingB': 1.2546245623684351, 'kAnnealingStart': 49.976009499492, 'kSkipRatio': 0.6770878830185374, 'kTargetDeterminationTrials': 14, 'kAttractionRatio': 0.033995368998592235, 'kMaxAttractionDistance': 28, 'kStartAttraction': 0.001393557090899433}. Best is trial 179 with value: 7275.865979381443.\u001b[0m\n"
     ]
    },
    {
     "name": "stdout",
     "output_type": "stream",
     "text": [
      "index_parallel='0215'\n"
     ]
    },
    {
     "name": "stderr",
     "output_type": "stream",
     "text": [
      "\u001b[32m[I 2022-08-16 09:04:15,210]\u001b[0m Trial 215 finished with value: 7260.865979381443 and parameters: {'kErase': 2, 'kRadius': 3, 'kAnnealingA': -1.6229767017565084, 'kAnnealingB': 1.1336417794883809, 'kAnnealingStart': 46.42694781351886, 'kSkipRatio': 0.6792290299736577, 'kTargetDeterminationTrials': 13, 'kAttractionRatio': 0.014102010572373707, 'kMaxAttractionDistance': 29, 'kStartAttraction': 0.0013368404759121848}. Best is trial 179 with value: 7275.865979381443.\u001b[0m\n"
     ]
    },
    {
     "name": "stdout",
     "output_type": "stream",
     "text": [
      "index_parallel='0217'\n"
     ]
    },
    {
     "name": "stderr",
     "output_type": "stream",
     "text": [
      "\u001b[32m[I 2022-08-16 09:08:01,025]\u001b[0m Trial 217 finished with value: 7258.443298969072 and parameters: {'kErase': 2, 'kRadius': 3, 'kAnnealingA': -1.3306456363578405, 'kAnnealingB': 1.1440260703726874, 'kAnnealingStart': 50.09276726823575, 'kSkipRatio': 0.6949723398998294, 'kTargetDeterminationTrials': 12, 'kAttractionRatio': 0.01451543208422907, 'kMaxAttractionDistance': 26, 'kStartAttraction': 0.0014766641338587656}. Best is trial 179 with value: 7275.865979381443.\u001b[0m\n"
     ]
    },
    {
     "name": "stdout",
     "output_type": "stream",
     "text": [
      "index_parallel='0219'\n"
     ]
    },
    {
     "name": "stderr",
     "output_type": "stream",
     "text": [
      "\u001b[32m[I 2022-08-16 09:11:46,534]\u001b[0m Trial 219 finished with value: 7259.09793814433 and parameters: {'kErase': 2, 'kRadius': 3, 'kAnnealingA': -1.6217441298604953, 'kAnnealingB': 1.2273834841151123, 'kAnnealingStart': 50.354725783414594, 'kSkipRatio': 0.6962251471935352, 'kTargetDeterminationTrials': 13, 'kAttractionRatio': 0.014845714404798023, 'kMaxAttractionDistance': 31, 'kStartAttraction': 0.0016132013836553944}. Best is trial 179 with value: 7275.865979381443.\u001b[0m\n"
     ]
    },
    {
     "name": "stdout",
     "output_type": "stream",
     "text": [
      "index_parallel='0221'\n"
     ]
    },
    {
     "name": "stderr",
     "output_type": "stream",
     "text": [
      "\u001b[32m[I 2022-08-16 09:15:31,701]\u001b[0m Trial 221 finished with value: 7268.19587628866 and parameters: {'kErase': 2, 'kRadius': 3, 'kAnnealingA': -1.6264583907863663, 'kAnnealingB': 1.1394265495176605, 'kAnnealingStart': 53.653629352616164, 'kSkipRatio': 0.7145811224748396, 'kTargetDeterminationTrials': 12, 'kAttractionRatio': 0.013376393266262896, 'kMaxAttractionDistance': 38, 'kStartAttraction': 0.02216681036465796}. Best is trial 179 with value: 7275.865979381443.\u001b[0m\n"
     ]
    },
    {
     "name": "stdout",
     "output_type": "stream",
     "text": [
      "index_parallel='0223'\n"
     ]
    },
    {
     "name": "stderr",
     "output_type": "stream",
     "text": [
      "\u001b[32m[I 2022-08-16 09:19:16,767]\u001b[0m Trial 223 finished with value: 7249.520618556701 and parameters: {'kErase': 2, 'kRadius': 3, 'kAnnealingA': -1.7514537519079307, 'kAnnealingB': 1.2965526821484217, 'kAnnealingStart': 54.323849117556755, 'kSkipRatio': 0.712063291890921, 'kTargetDeterminationTrials': 13, 'kAttractionRatio': 0.011733190164804664, 'kMaxAttractionDistance': 34, 'kStartAttraction': 0.057690188058901366}. Best is trial 179 with value: 7275.865979381443.\u001b[0m\n"
     ]
    },
    {
     "name": "stdout",
     "output_type": "stream",
     "text": [
      "index_parallel='0225'\n"
     ]
    },
    {
     "name": "stderr",
     "output_type": "stream",
     "text": [
      "\u001b[32m[I 2022-08-16 09:23:02,094]\u001b[0m Trial 225 finished with value: 7238.618556701031 and parameters: {'kErase': 2, 'kRadius': 3, 'kAnnealingA': -0.9436052046042074, 'kAnnealingB': 1.1488507488485513, 'kAnnealingStart': 53.61913203556078, 'kSkipRatio': 0.7225864225457366, 'kTargetDeterminationTrials': 12, 'kAttractionRatio': 0.013158783061436015, 'kMaxAttractionDistance': 36, 'kStartAttraction': 0.0017759774253326619}. Best is trial 179 with value: 7275.865979381443.\u001b[0m\n"
     ]
    },
    {
     "name": "stdout",
     "output_type": "stream",
     "text": [
      "index_parallel='0227'\n"
     ]
    },
    {
     "name": "stderr",
     "output_type": "stream",
     "text": [
      "\u001b[32m[I 2022-08-16 09:26:47,744]\u001b[0m Trial 227 finished with value: 7202.443298969072 and parameters: {'kErase': 2, 'kRadius': 3, 'kAnnealingA': -0.5826753073161295, 'kAnnealingB': 1.1494227541717077, 'kAnnealingStart': 63.19708958813684, 'kSkipRatio': 0.7064996449863288, 'kTargetDeterminationTrials': 11, 'kAttractionRatio': 0.015540238279805987, 'kMaxAttractionDistance': 42, 'kStartAttraction': 0.0017320314939965242}. Best is trial 179 with value: 7275.865979381443.\u001b[0m\n"
     ]
    },
    {
     "name": "stdout",
     "output_type": "stream",
     "text": [
      "index_parallel='0229'\n"
     ]
    },
    {
     "name": "stderr",
     "output_type": "stream",
     "text": [
      "\u001b[32m[I 2022-08-16 09:30:33,235]\u001b[0m Trial 229 finished with value: 7260.819587628866 and parameters: {'kErase': 2, 'kRadius': 3, 'kAnnealingA': -1.484778194951606, 'kAnnealingB': 1.0936815485758178, 'kAnnealingStart': 48.32770355369064, 'kSkipRatio': 0.6988025795662417, 'kTargetDeterminationTrials': 13, 'kAttractionRatio': 0.014681236238962248, 'kMaxAttractionDistance': 40, 'kStartAttraction': 0.0014037392853313798}. Best is trial 179 with value: 7275.865979381443.\u001b[0m\n"
     ]
    },
    {
     "name": "stdout",
     "output_type": "stream",
     "text": [
      "index_parallel='0231'\n"
     ]
    },
    {
     "name": "stderr",
     "output_type": "stream",
     "text": [
      "\u001b[32m[I 2022-08-16 09:34:18,583]\u001b[0m Trial 231 finished with value: 7208.51030927835 and parameters: {'kErase': 2, 'kRadius': 3, 'kAnnealingA': -2.732419307039808, 'kAnnealingB': 1.0770810190209235, 'kAnnealingStart': 90.86831408726997, 'kSkipRatio': 0.71672877148393, 'kTargetDeterminationTrials': 13, 'kAttractionRatio': 0.015675539506256744, 'kMaxAttractionDistance': 41, 'kStartAttraction': 0.04649161354783343}. Best is trial 179 with value: 7275.865979381443.\u001b[0m\n"
     ]
    },
    {
     "name": "stdout",
     "output_type": "stream",
     "text": [
      "index_parallel='0233'\n"
     ]
    },
    {
     "name": "stderr",
     "output_type": "stream",
     "text": [
      "\u001b[32m[I 2022-08-16 09:38:03,918]\u001b[0m Trial 233 finished with value: 7267.48969072165 and parameters: {'kErase': 2, 'kRadius': 3, 'kAnnealingA': -1.4605789836448857, 'kAnnealingB': 1.1270896717192407, 'kAnnealingStart': 44.65919614706606, 'kSkipRatio': 0.6983419043351847, 'kTargetDeterminationTrials': 13, 'kAttractionRatio': 0.013955243028442952, 'kMaxAttractionDistance': 27, 'kStartAttraction': 0.04313091489141269}. Best is trial 179 with value: 7275.865979381443.\u001b[0m\n"
     ]
    },
    {
     "name": "stdout",
     "output_type": "stream",
     "text": [
      "index_parallel='0235'\n"
     ]
    },
    {
     "name": "stderr",
     "output_type": "stream",
     "text": [
      "\u001b[32m[I 2022-08-16 09:41:49,298]\u001b[0m Trial 235 finished with value: 7254.577319587629 and parameters: {'kErase': 2, 'kRadius': 3, 'kAnnealingA': -1.9427314471599453, 'kAnnealingB': 1.1184133408148738, 'kAnnealingStart': 44.32651138250459, 'kSkipRatio': 0.7260520282934854, 'kTargetDeterminationTrials': 13, 'kAttractionRatio': 0.013469822920684828, 'kMaxAttractionDistance': 48, 'kStartAttraction': 0.08611583760134037}. Best is trial 179 with value: 7275.865979381443.\u001b[0m\n"
     ]
    },
    {
     "name": "stdout",
     "output_type": "stream",
     "text": [
      "index_parallel='0237'\n"
     ]
    },
    {
     "name": "stderr",
     "output_type": "stream",
     "text": [
      "\u001b[32m[I 2022-08-16 09:45:34,899]\u001b[0m Trial 237 finished with value: 7240.427835051546 and parameters: {'kErase': 2, 'kRadius': 3, 'kAnnealingA': -0.594238711937416, 'kAnnealingB': 1.2399457658080464, 'kAnnealingStart': 43.28794784892695, 'kSkipRatio': 0.7012628193698697, 'kTargetDeterminationTrials': 14, 'kAttractionRatio': 0.016574121929579685, 'kMaxAttractionDistance': 40, 'kStartAttraction': 0.0016505894394329835}. Best is trial 179 with value: 7275.865979381443.\u001b[0m\n"
     ]
    },
    {
     "name": "stdout",
     "output_type": "stream",
     "text": [
      "index_parallel='0239'\n"
     ]
    },
    {
     "name": "stderr",
     "output_type": "stream",
     "text": [
      "\u001b[32m[I 2022-08-16 09:49:20,346]\u001b[0m Trial 239 finished with value: 7266.237113402062 and parameters: {'kErase': 2, 'kRadius': 3, 'kAnnealingA': -1.2014644382355593, 'kAnnealingB': 1.3025076187997429, 'kAnnealingStart': 54.682059480950436, 'kSkipRatio': 0.6870728845058587, 'kTargetDeterminationTrials': 11, 'kAttractionRatio': 0.014738918091993602, 'kMaxAttractionDistance': 38, 'kStartAttraction': 0.033264466607758975}. Best is trial 179 with value: 7275.865979381443.\u001b[0m\n"
     ]
    },
    {
     "name": "stdout",
     "output_type": "stream",
     "text": [
      "index_parallel='0241'\n"
     ]
    },
    {
     "name": "stderr",
     "output_type": "stream",
     "text": [
      "\u001b[32m[I 2022-08-16 09:53:05,720]\u001b[0m Trial 241 finished with value: 7239.18556701031 and parameters: {'kErase': 2, 'kRadius': 3, 'kAnnealingA': -1.2944889170424374, 'kAnnealingB': 1.0832533870510574, 'kAnnealingStart': 55.17560913382974, 'kSkipRatio': 0.6901395609618419, 'kTargetDeterminationTrials': 11, 'kAttractionRatio': 0.01127652878749368, 'kMaxAttractionDistance': 38, 'kStartAttraction': 0.038411421149382424}. Best is trial 179 with value: 7275.865979381443.\u001b[0m\n"
     ]
    },
    {
     "name": "stdout",
     "output_type": "stream",
     "text": [
      "index_parallel='0243'\n"
     ]
    },
    {
     "name": "stderr",
     "output_type": "stream",
     "text": [
      "\u001b[32m[I 2022-08-16 09:56:51,061]\u001b[0m Trial 243 finished with value: 7242.1752577319585 and parameters: {'kErase': 2, 'kRadius': 3, 'kAnnealingA': -1.5929339180367679, 'kAnnealingB': 1.2846366145785517, 'kAnnealingStart': 48.70723701997274, 'kSkipRatio': 0.708618672496391, 'kTargetDeterminationTrials': 12, 'kAttractionRatio': 0.016823998270872696, 'kMaxAttractionDistance': 38, 'kStartAttraction': 0.0013722124986835082}. Best is trial 179 with value: 7275.865979381443.\u001b[0m\n"
     ]
    },
    {
     "name": "stdout",
     "output_type": "stream",
     "text": [
      "index_parallel='0245'\n"
     ]
    },
    {
     "name": "stderr",
     "output_type": "stream",
     "text": [
      "\u001b[32m[I 2022-08-16 10:00:36,509]\u001b[0m Trial 245 finished with value: 7269.051546391753 and parameters: {'kErase': 2, 'kRadius': 3, 'kAnnealingA': -0.7600129287615579, 'kAnnealingB': 1.1988556631670184, 'kAnnealingStart': 50.922907269593104, 'kSkipRatio': 0.688298339620568, 'kTargetDeterminationTrials': 13, 'kAttractionRatio': 0.013103527476233494, 'kMaxAttractionDistance': 27, 'kStartAttraction': 0.03522501039093901}. Best is trial 179 with value: 7275.865979381443.\u001b[0m\n"
     ]
    },
    {
     "name": "stdout",
     "output_type": "stream",
     "text": [
      "index_parallel='0247'\n"
     ]
    },
    {
     "name": "stderr",
     "output_type": "stream",
     "text": [
      "\u001b[32m[I 2022-08-16 10:04:21,808]\u001b[0m Trial 247 finished with value: 6717.273195876289 and parameters: {'kErase': 2, 'kRadius': 3, 'kAnnealingA': -3.280653737447871, 'kAnnealingB': 1.1965726267183616, 'kAnnealingStart': 5.231726643376505, 'kSkipRatio': 0.6961152793891279, 'kTargetDeterminationTrials': 13, 'kAttractionRatio': 0.012807894832205766, 'kMaxAttractionDistance': 26, 'kStartAttraction': 0.0324149347917676}. Best is trial 179 with value: 7275.865979381443.\u001b[0m\n"
     ]
    },
    {
     "name": "stdout",
     "output_type": "stream",
     "text": [
      "index_parallel='0249'\n"
     ]
    },
    {
     "name": "stderr",
     "output_type": "stream",
     "text": [
      "\u001b[32m[I 2022-08-16 10:08:07,095]\u001b[0m Trial 249 finished with value: 7245.530927835051 and parameters: {'kErase': 2, 'kRadius': 3, 'kAnnealingA': -2.4658733160265593, 'kAnnealingB': 1.3509161357213324, 'kAnnealingStart': 65.80059982361554, 'kSkipRatio': 0.7279922673171175, 'kTargetDeterminationTrials': 12, 'kAttractionRatio': 0.013908064109046324, 'kMaxAttractionDistance': 29, 'kStartAttraction': 0.0270919405345881}. Best is trial 179 with value: 7275.865979381443.\u001b[0m\n"
     ]
    },
    {
     "name": "stdout",
     "output_type": "stream",
     "text": [
      "index_parallel='0251'\n"
     ]
    },
    {
     "name": "stderr",
     "output_type": "stream",
     "text": [
      "\u001b[32m[I 2022-08-16 10:11:52,578]\u001b[0m Trial 251 finished with value: 7245.046391752578 and parameters: {'kErase': 2, 'kRadius': 3, 'kAnnealingA': -1.5949789043072526, 'kAnnealingB': 1.3102900220160965, 'kAnnealingStart': 53.55158636674959, 'kSkipRatio': 0.7068733737643387, 'kTargetDeterminationTrials': 12, 'kAttractionRatio': 0.011485240107216257, 'kMaxAttractionDistance': 46, 'kStartAttraction': 0.021725446133113852}. Best is trial 179 with value: 7275.865979381443.\u001b[0m\n"
     ]
    },
    {
     "name": "stdout",
     "output_type": "stream",
     "text": [
      "index_parallel='0253'\n"
     ]
    },
    {
     "name": "stderr",
     "output_type": "stream",
     "text": [
      "\u001b[32m[I 2022-08-16 10:15:38,172]\u001b[0m Trial 253 finished with value: 7240.3247422680415 and parameters: {'kErase': 2, 'kRadius': 3, 'kAnnealingA': -3.2441296303614724, 'kAnnealingB': 1.4618426431561642, 'kAnnealingStart': 72.5757697751615, 'kSkipRatio': 0.7344861374464249, 'kTargetDeterminationTrials': 15, 'kAttractionRatio': 0.013711855924827501, 'kMaxAttractionDistance': 26, 'kStartAttraction': 0.03538627937964436}. Best is trial 179 with value: 7275.865979381443.\u001b[0m\n"
     ]
    },
    {
     "name": "stdout",
     "output_type": "stream",
     "text": [
      "index_parallel='0255'\n"
     ]
    },
    {
     "name": "stderr",
     "output_type": "stream",
     "text": [
      "\u001b[32m[I 2022-08-16 10:19:23,700]\u001b[0m Trial 255 finished with value: 7229.932989690722 and parameters: {'kErase': 2, 'kRadius': 3, 'kAnnealingA': -0.7976653166335166, 'kAnnealingB': 1.338281584089278, 'kAnnealingStart': 65.58475740104163, 'kSkipRatio': 0.7145894872654472, 'kTargetDeterminationTrials': 10, 'kAttractionRatio': 0.015272307365669136, 'kMaxAttractionDistance': 27, 'kStartAttraction': 0.018946610144325107}. Best is trial 179 with value: 7275.865979381443.\u001b[0m\n"
     ]
    },
    {
     "name": "stdout",
     "output_type": "stream",
     "text": [
      "index_parallel='0257'\n"
     ]
    },
    {
     "name": "stderr",
     "output_type": "stream",
     "text": [
      "\u001b[32m[I 2022-08-16 10:23:09,671]\u001b[0m Trial 257 finished with value: 7233.134020618557 and parameters: {'kErase': 2, 'kRadius': 3, 'kAnnealingA': -1.0580662585033325, 'kAnnealingB': 1.2602933371482379, 'kAnnealingStart': 60.54864932427401, 'kSkipRatio': 0.6860657178147282, 'kTargetDeterminationTrials': 12, 'kAttractionRatio': 0.012701106976178786, 'kMaxAttractionDistance': 24, 'kStartAttraction': 0.025722265484508643}. Best is trial 179 with value: 7275.865979381443.\u001b[0m\n"
     ]
    },
    {
     "name": "stdout",
     "output_type": "stream",
     "text": [
      "index_parallel='0259'\n"
     ]
    },
    {
     "name": "stderr",
     "output_type": "stream",
     "text": [
      "\u001b[32m[I 2022-08-16 10:26:55,780]\u001b[0m Trial 259 finished with value: 7243.365979381443 and parameters: {'kErase': 2, 'kRadius': 3, 'kAnnealingA': -2.154077489104974, 'kAnnealingB': 1.060278263266527, 'kAnnealingStart': 54.37439913684461, 'kSkipRatio': 0.7042729030218151, 'kTargetDeterminationTrials': 14, 'kAttractionRatio': 0.018739707822218638, 'kMaxAttractionDistance': 94, 'kStartAttraction': 0.026686652506879363}. Best is trial 179 with value: 7275.865979381443.\u001b[0m\n"
     ]
    },
    {
     "name": "stdout",
     "output_type": "stream",
     "text": [
      "index_parallel='0261'\n"
     ]
    },
    {
     "name": "stderr",
     "output_type": "stream",
     "text": [
      "\u001b[32m[I 2022-08-16 10:30:41,234]\u001b[0m Trial 261 finished with value: 7257.30412371134 and parameters: {'kErase': 2, 'kRadius': 3, 'kAnnealingA': -0.40818077693555943, 'kAnnealingB': 0.8338741798165812, 'kAnnealingStart': 50.158832154765335, 'kSkipRatio': 0.7029829252606893, 'kTargetDeterminationTrials': 13, 'kAttractionRatio': 0.014449608802626003, 'kMaxAttractionDistance': 28, 'kStartAttraction': 0.051526798542959586}. Best is trial 260 with value: 7279.613402061856.\u001b[0m\n"
     ]
    },
    {
     "name": "stdout",
     "output_type": "stream",
     "text": [
      "index_parallel='0263'\n"
     ]
    },
    {
     "name": "stderr",
     "output_type": "stream",
     "text": [
      "\u001b[32m[I 2022-08-16 10:34:26,919]\u001b[0m Trial 263 finished with value: 7221.634020618557 and parameters: {'kErase': 2, 'kRadius': 3, 'kAnnealingA': -3.756997425908252, 'kAnnealingB': 0.862884547635571, 'kAnnealingStart': 72.7876448065209, 'kSkipRatio': 0.723874776006578, 'kTargetDeterminationTrials': 12, 'kAttractionRatio': 0.016848936142458325, 'kMaxAttractionDistance': 29, 'kStartAttraction': 0.03329746638871613}. Best is trial 260 with value: 7279.613402061856.\u001b[0m\n"
     ]
    },
    {
     "name": "stdout",
     "output_type": "stream",
     "text": [
      "index_parallel='0265'\n"
     ]
    },
    {
     "name": "stderr",
     "output_type": "stream",
     "text": [
      "\u001b[32m[I 2022-08-16 10:38:12,194]\u001b[0m Trial 265 finished with value: 6014.1752577319585 and parameters: {'kErase': 2, 'kRadius': 3, 'kAnnealingA': -1.23517349882639, 'kAnnealingB': 0.7065375818886929, 'kAnnealingStart': 52.5866713243059, 'kSkipRatio': 0.2365390119212149, 'kTargetDeterminationTrials': 15, 'kAttractionRatio': 0.012166259424630416, 'kMaxAttractionDistance': 33, 'kStartAttraction': 0.04244820735367208}. Best is trial 260 with value: 7279.613402061856.\u001b[0m\n"
     ]
    },
    {
     "name": "stdout",
     "output_type": "stream",
     "text": [
      "index_parallel='0267'\n"
     ]
    },
    {
     "name": "stderr",
     "output_type": "stream",
     "text": [
      "\u001b[32m[I 2022-08-16 10:41:57,511]\u001b[0m Trial 267 finished with value: 7228.644329896907 and parameters: {'kErase': 2, 'kRadius': 3, 'kAnnealingA': -2.877346936663049, 'kAnnealingB': 0.9951330993705374, 'kAnnealingStart': 47.95170419109182, 'kSkipRatio': 0.7041519891240592, 'kTargetDeterminationTrials': 11, 'kAttractionRatio': 0.01510369186758923, 'kMaxAttractionDistance': 26, 'kStartAttraction': 0.0209951844125404}. Best is trial 260 with value: 7279.613402061856.\u001b[0m\n"
     ]
    },
    {
     "name": "stdout",
     "output_type": "stream",
     "text": [
      "index_parallel='0269'\n"
     ]
    },
    {
     "name": "stderr",
     "output_type": "stream",
     "text": [
      "\u001b[32m[I 2022-08-16 10:45:42,938]\u001b[0m Trial 269 finished with value: 7236.056701030928 and parameters: {'kErase': 2, 'kRadius': 3, 'kAnnealingA': -1.8532960452090521, 'kAnnealingB': 1.0931335951810939, 'kAnnealingStart': 63.82208293962176, 'kSkipRatio': 0.6879735192693172, 'kTargetDeterminationTrials': 14, 'kAttractionRatio': 0.010556444790026811, 'kMaxAttractionDistance': 24, 'kStartAttraction': 0.023277735479560913}. Best is trial 260 with value: 7279.613402061856.\u001b[0m\n"
     ]
    },
    {
     "name": "stdout",
     "output_type": "stream",
     "text": [
      "index_parallel='0271'\n"
     ]
    },
    {
     "name": "stderr",
     "output_type": "stream",
     "text": [
      "\u001b[32m[I 2022-08-16 10:49:28,341]\u001b[0m Trial 271 finished with value: 7261.958762886598 and parameters: {'kErase': 2, 'kRadius': 3, 'kAnnealingA': -1.0017485742871008, 'kAnnealingB': 1.1760358745898665, 'kAnnealingStart': 47.037243874659694, 'kSkipRatio': 0.7174159568338656, 'kTargetDeterminationTrials': 13, 'kAttractionRatio': 0.013816084910482676, 'kMaxAttractionDistance': 28, 'kStartAttraction': 0.02768468299661327}. Best is trial 260 with value: 7279.613402061856.\u001b[0m\n"
     ]
    },
    {
     "name": "stdout",
     "output_type": "stream",
     "text": [
      "index_parallel='0273'\n"
     ]
    },
    {
     "name": "stderr",
     "output_type": "stream",
     "text": [
      "\u001b[32m[I 2022-08-16 10:53:13,863]\u001b[0m Trial 273 finished with value: 7253.690721649485 and parameters: {'kErase': 2, 'kRadius': 3, 'kAnnealingA': -0.889228069476326, 'kAnnealingB': 1.1733634323166864, 'kAnnealingStart': 46.98649026703846, 'kSkipRatio': 0.6702281769376325, 'kTargetDeterminationTrials': 13, 'kAttractionRatio': 0.022655577788640736, 'kMaxAttractionDistance': 31, 'kStartAttraction': 0.05007603480053583}. Best is trial 260 with value: 7279.613402061856.\u001b[0m\n"
     ]
    },
    {
     "name": "stdout",
     "output_type": "stream",
     "text": [
      "index_parallel='0275'\n"
     ]
    },
    {
     "name": "stderr",
     "output_type": "stream",
     "text": [
      "\u001b[32m[I 2022-08-16 10:56:59,769]\u001b[0m Trial 275 finished with value: 7233.118556701031 and parameters: {'kErase': 2, 'kRadius': 3, 'kAnnealingA': -0.400759534936295, 'kAnnealingB': 1.2392878635993334, 'kAnnealingStart': 51.463586023247494, 'kSkipRatio': 0.6998316745065851, 'kTargetDeterminationTrials': 14, 'kAttractionRatio': 0.017686121876902754, 'kMaxAttractionDistance': 22, 'kStartAttraction': 0.0572095092165231}. Best is trial 260 with value: 7279.613402061856.\u001b[0m\n"
     ]
    },
    {
     "name": "stdout",
     "output_type": "stream",
     "text": [
      "index_parallel='0277'\n"
     ]
    },
    {
     "name": "stderr",
     "output_type": "stream",
     "text": [
      "\u001b[32m[I 2022-08-16 11:00:45,074]\u001b[0m Trial 277 finished with value: 7233.757731958763 and parameters: {'kErase': 2, 'kRadius': 3, 'kAnnealingA': -0.39416951018699875, 'kAnnealingB': 1.1115465517718015, 'kAnnealingStart': 42.46453010328761, 'kSkipRatio': 0.6669439324136642, 'kTargetDeterminationTrials': 15, 'kAttractionRatio': 0.016076529508498846, 'kMaxAttractionDistance': 34, 'kStartAttraction': 0.062794576863587}. Best is trial 260 with value: 7279.613402061856.\u001b[0m\n"
     ]
    },
    {
     "name": "stdout",
     "output_type": "stream",
     "text": [
      "index_parallel='0279'\n"
     ]
    },
    {
     "name": "stderr",
     "output_type": "stream",
     "text": [
      "\u001b[32m[I 2022-08-16 11:04:30,618]\u001b[0m Trial 279 finished with value: 7237.551546391753 and parameters: {'kErase': 2, 'kRadius': 3, 'kAnnealingA': -1.088740683230643, 'kAnnealingB': 1.0342609228055932, 'kAnnealingStart': 54.61530069485101, 'kSkipRatio': 0.6774136224990864, 'kTargetDeterminationTrials': 14, 'kAttractionRatio': 0.01934115200583678, 'kMaxAttractionDistance': 39, 'kStartAttraction': 0.09479043582340689}. Best is trial 260 with value: 7279.613402061856.\u001b[0m\n"
     ]
    },
    {
     "name": "stdout",
     "output_type": "stream",
     "text": [
      "index_parallel='0281'\n"
     ]
    },
    {
     "name": "stderr",
     "output_type": "stream",
     "text": [
      "\u001b[32m[I 2022-08-16 11:08:16,489]\u001b[0m Trial 281 finished with value: 7197.680412371134 and parameters: {'kErase': 2, 'kRadius': 3, 'kAnnealingA': -2.9055437502639387, 'kAnnealingB': 1.205931087839345, 'kAnnealingStart': 53.88425616164317, 'kSkipRatio': 0.7387712169847113, 'kTargetDeterminationTrials': 13, 'kAttractionRatio': 0.013571890730383892, 'kMaxAttractionDistance': 30, 'kStartAttraction': 0.0465522267804513}. Best is trial 260 with value: 7279.613402061856.\u001b[0m\n"
     ]
    },
    {
     "name": "stdout",
     "output_type": "stream",
     "text": [
      "index_parallel='0283'\n"
     ]
    },
    {
     "name": "stderr",
     "output_type": "stream",
     "text": [
      "\u001b[32m[I 2022-08-16 11:12:02,458]\u001b[0m Trial 283 finished with value: 7252.69587628866 and parameters: {'kErase': 2, 'kRadius': 3, 'kAnnealingA': -1.4955031585589054, 'kAnnealingB': 0.921320502665143, 'kAnnealingStart': 49.615334049358886, 'kSkipRatio': 0.699666466384111, 'kTargetDeterminationTrials': 13, 'kAttractionRatio': 0.025486941322749316, 'kMaxAttractionDistance': 25, 'kStartAttraction': 0.029705912920561087}. Best is trial 260 with value: 7279.613402061856.\u001b[0m\n"
     ]
    },
    {
     "name": "stdout",
     "output_type": "stream",
     "text": [
      "index_parallel='0285'\n"
     ]
    },
    {
     "name": "stderr",
     "output_type": "stream",
     "text": [
      "\u001b[32m[I 2022-08-16 11:15:47,764]\u001b[0m Trial 285 finished with value: 7258.164948453608 and parameters: {'kErase': 2, 'kRadius': 3, 'kAnnealingA': -3.6796207812887314, 'kAnnealingB': 0.8028135306530735, 'kAnnealingStart': 59.619594456038485, 'kSkipRatio': 0.6824759639406638, 'kTargetDeterminationTrials': 16, 'kAttractionRatio': 0.6314103800614805, 'kMaxAttractionDistance': 27, 'kStartAttraction': 0.4345971050056062}. Best is trial 260 with value: 7279.613402061856.\u001b[0m\n"
     ]
    },
    {
     "name": "stdout",
     "output_type": "stream",
     "text": [
      "index_parallel='0287'\n"
     ]
    },
    {
     "name": "stderr",
     "output_type": "stream",
     "text": [
      "\u001b[32m[I 2022-08-16 11:19:32,589]\u001b[0m Trial 287 finished with value: 7243.2525773195875 and parameters: {'kErase': 2, 'kRadius': 3, 'kAnnealingA': -0.2639927888094098, 'kAnnealingB': 1.2927981249567146, 'kAnnealingStart': 44.99814927297856, 'kSkipRatio': 0.7147625060217915, 'kTargetDeterminationTrials': 1, 'kAttractionRatio': 0.01813680318544524, 'kMaxAttractionDistance': 32, 'kStartAttraction': 0.0013939420070687256}. Best is trial 260 with value: 7279.613402061856.\u001b[0m\n"
     ]
    },
    {
     "name": "stdout",
     "output_type": "stream",
     "text": [
      "index_parallel='0289'\n"
     ]
    },
    {
     "name": "stderr",
     "output_type": "stream",
     "text": [
      "\u001b[32m[I 2022-08-16 11:23:17,928]\u001b[0m Trial 289 finished with value: 7261.0 and parameters: {'kErase': 2, 'kRadius': 3, 'kAnnealingA': 0.15033124627992414, 'kAnnealingB': 1.316166706605841, 'kAnnealingStart': 41.698882929785384, 'kSkipRatio': 0.6648226439295061, 'kTargetDeterminationTrials': 15, 'kAttractionRatio': 0.02179830849801947, 'kMaxAttractionDistance': 32, 'kStartAttraction': 0.015419574352454852}. Best is trial 260 with value: 7279.613402061856.\u001b[0m\n"
     ]
    },
    {
     "name": "stdout",
     "output_type": "stream",
     "text": [
      "index_parallel='0291'\n"
     ]
    },
    {
     "name": "stderr",
     "output_type": "stream",
     "text": [
      "\u001b[32m[I 2022-08-16 11:27:03,393]\u001b[0m Trial 291 finished with value: 7164.082474226804 and parameters: {'kErase': 4, 'kRadius': 3, 'kAnnealingA': 0.6979808379038842, 'kAnnealingB': 1.3160493146648524, 'kAnnealingStart': 42.69611091789461, 'kSkipRatio': 0.6617938314137721, 'kTargetDeterminationTrials': 15, 'kAttractionRatio': 0.023401318971845022, 'kMaxAttractionDistance': 31, 'kStartAttraction': 0.03334124761139203}. Best is trial 260 with value: 7279.613402061856.\u001b[0m\n"
     ]
    },
    {
     "name": "stdout",
     "output_type": "stream",
     "text": [
      "index_parallel='0293'\n"
     ]
    },
    {
     "name": "stderr",
     "output_type": "stream",
     "text": [
      "\u001b[32m[I 2022-08-16 11:30:48,596]\u001b[0m Trial 293 finished with value: 7235.273195876289 and parameters: {'kErase': 2, 'kRadius': 3, 'kAnnealingA': 0.21009664732949052, 'kAnnealingB': 1.3438591863878866, 'kAnnealingStart': 52.656532846478136, 'kSkipRatio': 0.6479943395630221, 'kTargetDeterminationTrials': 17, 'kAttractionRatio': 0.02037116651322336, 'kMaxAttractionDistance': 34, 'kStartAttraction': 0.040041127970622294}. Best is trial 260 with value: 7279.613402061856.\u001b[0m\n"
     ]
    },
    {
     "name": "stdout",
     "output_type": "stream",
     "text": [
      "index_parallel='0295'\n"
     ]
    },
    {
     "name": "stderr",
     "output_type": "stream",
     "text": [
      "\u001b[32m[I 2022-08-16 11:34:33,714]\u001b[0m Trial 295 finished with value: 6708.190721649485 and parameters: {'kErase': 2, 'kRadius': 3, 'kAnnealingA': -0.5735534806426948, 'kAnnealingB': 1.2386749661071692, 'kAnnealingStart': 2.7684696291521163, 'kSkipRatio': 0.7288590488959009, 'kTargetDeterminationTrials': 10, 'kAttractionRatio': 0.022295523247734664, 'kMaxAttractionDistance': 19, 'kStartAttraction': 0.015456473543710573}. Best is trial 260 with value: 7279.613402061856.\u001b[0m\n"
     ]
    },
    {
     "name": "stdout",
     "output_type": "stream",
     "text": [
      "index_parallel='0297'\n"
     ]
    },
    {
     "name": "stderr",
     "output_type": "stream",
     "text": [
      "\u001b[32m[I 2022-08-16 11:38:19,385]\u001b[0m Trial 297 finished with value: 7138.015463917526 and parameters: {'kErase': 2, 'kRadius': 6, 'kAnnealingA': -0.47233767533836146, 'kAnnealingB': 1.4625756671608958, 'kAnnealingStart': 40.82238361596389, 'kSkipRatio': 0.5635195301043788, 'kTargetDeterminationTrials': 15, 'kAttractionRatio': 0.01774019952881219, 'kMaxAttractionDistance': 22, 'kStartAttraction': 0.0017373305180393354}. Best is trial 260 with value: 7279.613402061856.\u001b[0m\n"
     ]
    },
    {
     "name": "stdout",
     "output_type": "stream",
     "text": [
      "index_parallel='0299'\n"
     ]
    },
    {
     "name": "stderr",
     "output_type": "stream",
     "text": [
      "\u001b[32m[I 2022-08-16 11:42:04,458]\u001b[0m Trial 299 finished with value: 7250.072164948454 and parameters: {'kErase': 2, 'kRadius': 3, 'kAnnealingA': -0.9756393806657129, 'kAnnealingB': 1.1833537887606584, 'kAnnealingStart': 64.50088833628881, 'kSkipRatio': 0.6896873040928362, 'kTargetDeterminationTrials': 14, 'kAttractionRatio': 0.026646153898597456, 'kMaxAttractionDistance': 29, 'kStartAttraction': 0.013353143734699573}. Best is trial 260 with value: 7279.613402061856.\u001b[0m\n"
     ]
    },
    {
     "name": "stdout",
     "output_type": "stream",
     "text": [
      "index_parallel='0301'\n"
     ]
    }
   ],
   "source": [
    "study.optimize(\n",
    "    partial(objective, in_dir=in_dir, work_dir=work_dir),\n",
    "    n_trials=3000,\n",
    "    timeout=86400,\n",
    "    callbacks=[callback]\n",
    ")"
   ]
  },
  {
   "cell_type": "code",
   "execution_count": null,
   "id": "e2e55c90",
   "metadata": {},
   "outputs": [],
   "source": []
  }
 ],
 "metadata": {
  "kernelspec": {
   "display_name": "Python 3 (ipykernel)",
   "language": "python",
   "name": "python3"
  },
  "language_info": {
   "codemirror_mode": {
    "name": "ipython",
    "version": 3
   },
   "file_extension": ".py",
   "mimetype": "text/x-python",
   "name": "python",
   "nbconvert_exporter": "python",
   "pygments_lexer": "ipython3",
   "version": "3.9.12"
  }
 },
 "nbformat": 4,
 "nbformat_minor": 5
}
