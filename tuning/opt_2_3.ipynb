{
 "cells": [
  {
   "cell_type": "code",
   "execution_count": 1,
   "id": "25a1dac8",
   "metadata": {},
   "outputs": [],
   "source": [
    "import re\n",
    "import sys\n",
    "from uuid import uuid1\n",
    "from time import sleep\n",
    "from pprint import pprint\n",
    "from pathlib import Path\n",
    "from tempfile import gettempdir\n",
    "from threading import Thread\n",
    "from functools import partial\n",
    "from subprocess import Popen, PIPE\n",
    "\n",
    "from tqdm.notebook import tqdm\n",
    "import numpy as np\n",
    "import optuna\n",
    "import pandas as pd\n",
    "import matplotlib.pyplot as plt\n",
    "\n",
    "FILENAME = \"main.cpp\""
   ]
  },
  {
   "cell_type": "code",
   "execution_count": 2,
   "id": "3dd4d02e",
   "metadata": {},
   "outputs": [
    {
     "name": "stdout",
     "output_type": "stream",
     "text": [
      "10 variables were found.\n"
     ]
    },
    {
     "data": {
      "text/html": [
       "<div>\n",
       "<style scoped>\n",
       "    .dataframe tbody tr th:only-of-type {\n",
       "        vertical-align: middle;\n",
       "    }\n",
       "\n",
       "    .dataframe tbody tr th {\n",
       "        vertical-align: top;\n",
       "    }\n",
       "\n",
       "    .dataframe thead th {\n",
       "        text-align: right;\n",
       "    }\n",
       "</style>\n",
       "<table border=\"1\" class=\"dataframe\">\n",
       "  <thead>\n",
       "    <tr style=\"text-align: right;\">\n",
       "      <th></th>\n",
       "      <th>name</th>\n",
       "      <th>method</th>\n",
       "      <th>min</th>\n",
       "      <th>max</th>\n",
       "      <th>log</th>\n",
       "      <th>left</th>\n",
       "      <th>right</th>\n",
       "    </tr>\n",
       "  </thead>\n",
       "  <tbody>\n",
       "    <tr>\n",
       "      <th>0</th>\n",
       "      <td>kErase</td>\n",
       "      <td>suggest_int</td>\n",
       "      <td>1.000</td>\n",
       "      <td>5.0</td>\n",
       "      <td>False</td>\n",
       "      <td>static constexpr auto kErase =</td>\n",
       "      <td>;             // OPTIMIZE [1, 5]</td>\n",
       "    </tr>\n",
       "    <tr>\n",
       "      <th>1</th>\n",
       "      <td>kRadius</td>\n",
       "      <td>suggest_int</td>\n",
       "      <td>2.000</td>\n",
       "      <td>6.0</td>\n",
       "      <td>False</td>\n",
       "      <td>static constexpr auto kRadius =</td>\n",
       "      <td>;            // OPTIMIZE [2, 6]</td>\n",
       "    </tr>\n",
       "    <tr>\n",
       "      <th>2</th>\n",
       "      <td>kAnnealingA</td>\n",
       "      <td>suggest_float</td>\n",
       "      <td>-15.000</td>\n",
       "      <td>15.0</td>\n",
       "      <td>False</td>\n",
       "      <td>static constexpr auto kAnnealingA =</td>\n",
       "      <td>;      // OPTIMIZE [-15.0, 15.0]</td>\n",
       "    </tr>\n",
       "    <tr>\n",
       "      <th>3</th>\n",
       "      <td>kAnnealingB</td>\n",
       "      <td>suggest_float</td>\n",
       "      <td>0.000</td>\n",
       "      <td>3.0</td>\n",
       "      <td>False</td>\n",
       "      <td>static constexpr auto kAnnealingB =</td>\n",
       "      <td>;      // OPTIMIZE [0.0, 3.0]</td>\n",
       "    </tr>\n",
       "    <tr>\n",
       "      <th>4</th>\n",
       "      <td>kAnnealingStart</td>\n",
       "      <td>suggest_float</td>\n",
       "      <td>1.000</td>\n",
       "      <td>100.0</td>\n",
       "      <td>True</td>\n",
       "      <td>static constexpr auto kAnnealingStart =</td>\n",
       "      <td>; // OPTIMIZE LOG [1.0, 100.0]</td>\n",
       "    </tr>\n",
       "    <tr>\n",
       "      <th>5</th>\n",
       "      <td>kSkipRatio</td>\n",
       "      <td>suggest_float</td>\n",
       "      <td>0.200</td>\n",
       "      <td>0.8</td>\n",
       "      <td>False</td>\n",
       "      <td>static constexpr auto kSkipRatio =</td>\n",
       "      <td>;       // OPTIMIZE [0.2, 0.8]</td>\n",
       "    </tr>\n",
       "    <tr>\n",
       "      <th>6</th>\n",
       "      <td>kTargetDeterminationTrials</td>\n",
       "      <td>suggest_int</td>\n",
       "      <td>1.000</td>\n",
       "      <td>20.0</td>\n",
       "      <td>True</td>\n",
       "      <td>static constexpr auto kTargetDeterminationTria...</td>\n",
       "      <td>; // OPTIMIZE LOG [1, 20]</td>\n",
       "    </tr>\n",
       "    <tr>\n",
       "      <th>7</th>\n",
       "      <td>kAttractionRatio</td>\n",
       "      <td>suggest_float</td>\n",
       "      <td>0.010</td>\n",
       "      <td>0.9</td>\n",
       "      <td>True</td>\n",
       "      <td>static constexpr auto kAttractionRatio =</td>\n",
       "      <td>;      // OPTIMIZE LOG [0.01, 0.9]</td>\n",
       "    </tr>\n",
       "    <tr>\n",
       "      <th>8</th>\n",
       "      <td>kMaxAttractionDistance</td>\n",
       "      <td>suggest_int</td>\n",
       "      <td>4.000</td>\n",
       "      <td>99.0</td>\n",
       "      <td>True</td>\n",
       "      <td>static constexpr auto kMaxAttractionDistance =</td>\n",
       "      <td>; // OPTIMIZE LOG [4, 99]</td>\n",
       "    </tr>\n",
       "    <tr>\n",
       "      <th>9</th>\n",
       "      <td>kStartAttraction</td>\n",
       "      <td>suggest_float</td>\n",
       "      <td>0.001</td>\n",
       "      <td>0.9</td>\n",
       "      <td>True</td>\n",
       "      <td>static constexpr auto kStartAttraction =</td>\n",
       "      <td>;     // OPTIMIZE LOG [0.001, 0.9]</td>\n",
       "    </tr>\n",
       "  </tbody>\n",
       "</table>\n",
       "</div>"
      ],
      "text/plain": [
       "                         name         method     min    max    log  \\\n",
       "0                      kErase    suggest_int   1.000    5.0  False   \n",
       "1                     kRadius    suggest_int   2.000    6.0  False   \n",
       "2                 kAnnealingA  suggest_float -15.000   15.0  False   \n",
       "3                 kAnnealingB  suggest_float   0.000    3.0  False   \n",
       "4             kAnnealingStart  suggest_float   1.000  100.0   True   \n",
       "5                  kSkipRatio  suggest_float   0.200    0.8  False   \n",
       "6  kTargetDeterminationTrials    suggest_int   1.000   20.0   True   \n",
       "7            kAttractionRatio  suggest_float   0.010    0.9   True   \n",
       "8      kMaxAttractionDistance    suggest_int   4.000   99.0   True   \n",
       "9            kStartAttraction  suggest_float   0.001    0.9   True   \n",
       "\n",
       "                                                left  \\\n",
       "0                    static constexpr auto kErase =    \n",
       "1                   static constexpr auto kRadius =    \n",
       "2               static constexpr auto kAnnealingA =    \n",
       "3               static constexpr auto kAnnealingB =    \n",
       "4           static constexpr auto kAnnealingStart =    \n",
       "5                static constexpr auto kSkipRatio =    \n",
       "6  static constexpr auto kTargetDeterminationTria...   \n",
       "7          static constexpr auto kAttractionRatio =    \n",
       "8    static constexpr auto kMaxAttractionDistance =    \n",
       "9          static constexpr auto kStartAttraction =    \n",
       "\n",
       "                                right  \n",
       "0    ;             // OPTIMIZE [1, 5]  \n",
       "1     ;            // OPTIMIZE [2, 6]  \n",
       "2    ;      // OPTIMIZE [-15.0, 15.0]  \n",
       "3       ;      // OPTIMIZE [0.0, 3.0]  \n",
       "4      ; // OPTIMIZE LOG [1.0, 100.0]  \n",
       "5      ;       // OPTIMIZE [0.2, 0.8]  \n",
       "6           ; // OPTIMIZE LOG [1, 20]  \n",
       "7  ;      // OPTIMIZE LOG [0.01, 0.9]  \n",
       "8           ; // OPTIMIZE LOG [4, 99]  \n",
       "9  ;     // OPTIMIZE LOG [0.001, 0.9]  "
      ]
     },
     "metadata": {},
     "output_type": "display_data"
    }
   ],
   "source": [
    "# ここでエラー出力は何かおかしいかもしれない\n",
    "\n",
    "\n",
    "# パラメータ抽出\n",
    "with open(FILENAME) as f:\n",
    "    answer = f.read()\n",
    "\n",
    "\n",
    "variables_optimize = []\n",
    "\n",
    "for left, value, right, options in re.findall(r\"^([^/\\n]*=\\s*)(.+?)(\\s*;\\s*//(?:.*\\W)?OPTIMIZE(\\W.*))$\", answer, re.MULTILINE):\n",
    "    name = left.replace(\"=\", \"\").strip().split()[-1]\n",
    "    \n",
    "    searched = re.search(r\".*\\[(?P<min>.*),(?P<max>.*)\\].*\", options)\n",
    "    if searched:\n",
    "        min_value = max_value = None\n",
    "        try:\n",
    "            min_value = eval(searched.group(\"min\"))\n",
    "            max_value = eval(searched.group(\"max\"))\n",
    "            assert min_value <= max_value\n",
    "        except Exception as e:\n",
    "            print(f\"searched={searched}\", file=sys.stderr)\n",
    "            print(e, file=sys.stderr)\n",
    "            continue\n",
    "        log = \"LOG\" in options  # 雑、直したほうが良い\n",
    "        if type(min_value) != type(max_value):\n",
    "            print(f\"searched={searched}\", file=sys.stderr)\n",
    "            print(\"types not matched\", file=sys.stderr)\n",
    "            continue\n",
    "        if isinstance(min_value, int):\n",
    "            method = \"suggest_int\"\n",
    "        elif isinstance(min_value, float):\n",
    "            method = \"suggest_float\"\n",
    "        else:\n",
    "            print(f\"searched={searched}\", file=sys.stderr)\n",
    "            print(f\"unknown type ({type(min_value)})\", file=sys.stderr)\n",
    "            continue\n",
    "        variables_optimize.append({\n",
    "            \"name\": name,\n",
    "            \"method\": method,\n",
    "            \"min\": min_value,\n",
    "            \"max\": max_value,\n",
    "            \"log\": log,\n",
    "            \"left\": left,\n",
    "            \"right\": right,\n",
    "        })\n",
    "    elif searched := re.search(r\".*\\{(?P<choices>.*?)\\}.*\", options):\n",
    "        choices = list(map(lambda x: x.strip(), searched.group(\"choices\").split(\",\")))\n",
    "        variables_optimize.append({\n",
    "            \"name\": name,\n",
    "            \"method\": \"suggest_categorical\",\n",
    "            \"choices\": choices,\n",
    "            \"left\": left,\n",
    "            \"right\": right,\n",
    "        })\n",
    "    else:\n",
    "        print(f\"searched={searched}\", file=sys.stderr)\n",
    "        print(f\"pattern was matched but options are incorrect.\", file=sys.stderr)\n",
    "\n",
    "print(len(variables_optimize), \"variables were found.\")\n",
    "if globals().get(\"pd\"):\n",
    "    display(pd.DataFrame(variables_optimize))\n",
    "else:\n",
    "    pprint(variables_optimize)"
   ]
  },
  {
   "cell_type": "code",
   "execution_count": 3,
   "id": "001042b9",
   "metadata": {},
   "outputs": [],
   "source": [
    "def escape(string):  # 正規表現の中でそのまま使いたい文字列をエスケープ\n",
    "    res = !echo '{string}' | sed -e 's/[]\\/$*.^[]/\\\\&/g'\n",
    "    return res[0]\n",
    "\n",
    "def escape_sed(string):  # sed の置換後の文字列用のエスケープ\n",
    "    res = !echo '{string}' | sed -e 's/[\\/&]/\\\\&/g'\n",
    "    return res[0]\n",
    "\n",
    "def read_stream(name, in_file, out_file):\n",
    "    for line in in_file:\n",
    "        print(f\"[{name}] {line.strip()}\", file=out_file)\n",
    "\n",
    "def run(cmd, name):\n",
    "    proc = Popen(cmd, stdout=PIPE, stderr=PIPE, universal_newlines=True, shell=isinstance(cmd, str))\n",
    "    stdout_thread = Thread(target=read_stream, args=(name, proc.stdout, sys.stdout))\n",
    "    stderr_thread = Thread(target=read_stream, args=(name, proc.stderr, sys.stderr))\n",
    "    stdout_thread.start()\n",
    "    stderr_thread.start()\n",
    "    proc.wait()\n",
    "    return proc\n",
    "\n",
    "def objective(trial, in_dir, work_dir):\n",
    "    n_internal_parallel = 3\n",
    "    \n",
    "    index_parallel = f\"{trial.number:04d}\"\n",
    "    print(f\"{index_parallel=}\")\n",
    "    \n",
    "    work_dir = Path(work_dir)\n",
    "    directory_input = Path(in_dir)  # 中のすべてのファイルに対して実行される\n",
    "    #parameters_changed_filename = Path(gettempdir()) / str(uuid1())\n",
    "    parameters_changed_filename = work_dir / f\"{index_parallel}_{FILENAME}\"\n",
    "    \n",
    "    run([\"mkdir\", f\"{work_dir / index_parallel}_out\"], \"mkdir\")\n",
    "    run([\"mkdir\", f\"{work_dir / index_parallel}_score\"], \"mkdir\")\n",
    "    \n",
    "    # ファイル作成\n",
    "    run(f\"cp {FILENAME} {parameters_changed_filename}\", \"cp\")\n",
    "    sed_options = [f\"-i {parameters_changed_filename}\"]\n",
    "    for variable in variables_optimize:\n",
    "        if variable[\"method\"] == \"suggest_categorical\":\n",
    "            val =  trial.suggest_categorical(variable[\"name\"], variable[\"choices\"])\n",
    "        else:\n",
    "            val = getattr(trial, variable[\"method\"])(variable[\"name\"], variable[\"min\"], variable[\"max\"], log=variable[\"log\"])\n",
    "        left = variable[\"left\"]\n",
    "        right = variable[\"right\"]\n",
    "        sed_options.append(f\"\"\"-e 's/^{escape(left)}.*{escape(right)}$/{escape_sed(left)}{val}{escape_sed(right)}/'\"\"\")\n",
    "    command_sed = f\"sed {' '.join(sed_options)}\"\n",
    "    #print(command_sed)\n",
    "    run(command_sed, \"sed\")\n",
    "    \n",
    "    # コンパイル\n",
    "    command_compile = f\"g++ {parameters_changed_filename} -std=gnu++17 -O2 -DONLINE_JUDGE -o {parameters_changed_filename}.out\"\n",
    "    #print(command_compile)\n",
    "    run(command_compile, \"compile\")\n",
    "    # 実行・採点コマンド (@ はファイル名)\n",
    "    command_exec = (\n",
    "        #f\"./a.out < ./tools/in/{i:04d}.txt > {out_file} && ./tools/target/release/vis ./tools/in/{i:04d}.txt {out_file}\"\n",
    "        #f\"../tools/target/release/tester $(pwd)/{parameters_changed_filename}.out < {directory_input}/@ 2>&1 | grep Score\"\n",
    "        #f\"../tools/target/release/tester $(pwd)/{parameters_changed_filename}.out < {directory_input}/@ 2>&1 | grep Score | sed -E s/[^0-9]+// > ./{index_parallel}_score/@;\"\n",
    "        #f\"cargo run --release --manifest-path ../tools/Cargo.toml --bin tester {directory_input}/@ $(pwd)/{parameters_changed_filename}.out 2>&1 | grep Score | sed -E s/[^0-9]+// > ./{index_parallel}_score/@;\"\n",
    "        f\"./{parameters_changed_filename}.out < {directory_input}/@ > {work_dir / index_parallel}_out/@;\"\n",
    "        f\"../tools/target/release/vis {directory_input}/@ {work_dir / index_parallel}_out/@ 2> /dev/null > {work_dir / index_parallel}_score/@;\"\n",
    "    )\n",
    "    # 並列実行 (sed はパスのディレクトリ部分を消してファイル名にしてる)\n",
    "    run(f\"find {directory_input}/* | sed 's!^.*/!!' | xargs -I@ -P {n_internal_parallel} sh -c '{command_exec}'\", \"exec\")\n",
    "    \n",
    "    # 集計\n",
    "    scores = []\n",
    "    for file_path in Path(f\"{work_dir / index_parallel}_score/\").iterdir():  \n",
    "        with open(file_path) as f:\n",
    "            scores.append(int(f.readline().strip().split()[-1]))\n",
    "    mean_score = sum(scores) / len(scores)\n",
    "    \n",
    "    # 後始末\n",
    "    run(f\"rm -rf {work_dir / index_parallel}_out\", \"rm\")\n",
    "    run(f\"rm -rf {work_dir / index_parallel}_score\", \"rm\")\n",
    "    #run(f\"rm {parameters_changed_filename}\", \"rm\")\n",
    "    run(f\"rm {parameters_changed_filename}.out\", \"rm\")\n",
    "    \n",
    "    return mean_score"
   ]
  },
  {
   "cell_type": "code",
   "execution_count": 4,
   "id": "2d2e133c",
   "metadata": {},
   "outputs": [
    {
     "name": "stderr",
     "output_type": "stream",
     "text": [
      "\u001b[32m[I 2022-08-15 21:23:57,580]\u001b[0m A new study created in RDB with name: study_2_3\u001b[0m\n"
     ]
    }
   ],
   "source": [
    "K = 2\n",
    "N_CLASS = 3\n",
    "\n",
    "in_dir = Path(f\"in_{K}_{N_CLASS}\")\n",
    "work_dir = Path(f\"work_{K}_{N_CLASS}\")\n",
    "\n",
    "study_name = f\"study_{K}_{N_CLASS}\"\n",
    "storage_path = work_dir / \"study.db\"\n",
    "storage = f\"sqlite:///{storage_path}\"\n",
    "study = optuna.create_study(storage=storage, load_if_exists=True, study_name=study_name, direction=\"maximize\")\n",
    "\n",
    "def callback(study, trial):\n",
    "    try:\n",
    "        index_parallel = f\"{trial.number:04d}\"\n",
    "        parameters_changed_filename = work_dir / f\"{index_parallel}_{FILENAME}\"\n",
    "        if study.best_value == trial.value:\n",
    "            print(f\"Updated! {study.best_value}\")\n",
    "            !cp {parameters_changed_filename} {work_dir / \"best_parameters.cpp\"}\n",
    "        !rm {parameters_changed_filename}\n",
    "    except:\n",
    "        print(\":(\")\n"
   ]
  },
  {
   "cell_type": "code",
   "execution_count": null,
   "id": "61c2901d",
   "metadata": {},
   "outputs": [
    {
     "name": "stdout",
     "output_type": "stream",
     "text": [
      "index_parallel='0000'\n"
     ]
    },
    {
     "name": "stderr",
     "output_type": "stream",
     "text": [
      "\u001b[32m[I 2022-08-15 21:28:22,784]\u001b[0m Trial 0 finished with value: 5918.021186440678 and parameters: {'kErase': 4, 'kRadius': 5, 'kAnnealingA': -5.53158913538457, 'kAnnealingB': 1.4795444611648616, 'kAnnealingStart': 3.3328835598934776, 'kSkipRatio': 0.6112164502259758, 'kTargetDeterminationTrials': 6, 'kAttractionRatio': 0.01947757959116958, 'kMaxAttractionDistance': 26, 'kStartAttraction': 0.02679252590892547}. Best is trial 0 with value: 5918.021186440678.\u001b[0m\n"
     ]
    },
    {
     "name": "stdout",
     "output_type": "stream",
     "text": [
      "Updated! 5918.021186440678\n",
      "index_parallel='0001'\n"
     ]
    },
    {
     "name": "stderr",
     "output_type": "stream",
     "text": [
      "\u001b[32m[I 2022-08-15 21:32:47,071]\u001b[0m Trial 1 finished with value: 6032.161016949152 and parameters: {'kErase': 1, 'kRadius': 5, 'kAnnealingA': 1.7731636510216973, 'kAnnealingB': 1.150749865020388, 'kAnnealingStart': 5.579784216220708, 'kSkipRatio': 0.7093818257072759, 'kTargetDeterminationTrials': 2, 'kAttractionRatio': 0.022621242675732657, 'kMaxAttractionDistance': 32, 'kStartAttraction': 0.0019895338795650357}. Best is trial 1 with value: 6032.161016949152.\u001b[0m\n"
     ]
    },
    {
     "name": "stdout",
     "output_type": "stream",
     "text": [
      "Updated! 6032.161016949152\n",
      "index_parallel='0002'\n"
     ]
    },
    {
     "name": "stderr",
     "output_type": "stream",
     "text": [
      "\u001b[32m[I 2022-08-15 21:37:11,641]\u001b[0m Trial 2 finished with value: 6052.076271186441 and parameters: {'kErase': 2, 'kRadius': 3, 'kAnnealingA': 2.3789007279272454, 'kAnnealingB': 2.512388435540855, 'kAnnealingStart': 1.8570185406952033, 'kSkipRatio': 0.29483204954647313, 'kTargetDeterminationTrials': 18, 'kAttractionRatio': 0.015090329738646019, 'kMaxAttractionDistance': 6, 'kStartAttraction': 0.1868223252571029}. Best is trial 2 with value: 6052.076271186441.\u001b[0m\n"
     ]
    },
    {
     "name": "stdout",
     "output_type": "stream",
     "text": [
      "Updated! 6052.076271186441\n",
      "index_parallel='0003'\n"
     ]
    },
    {
     "name": "stderr",
     "output_type": "stream",
     "text": [
      "\u001b[32m[I 2022-08-15 21:41:36,734]\u001b[0m Trial 3 finished with value: 5772.516949152542 and parameters: {'kErase': 4, 'kRadius': 3, 'kAnnealingA': -9.15557849034234, 'kAnnealingB': 0.9675400949754605, 'kAnnealingStart': 3.032332083704067, 'kSkipRatio': 0.5058566744320387, 'kTargetDeterminationTrials': 17, 'kAttractionRatio': 0.37823011978803195, 'kMaxAttractionDistance': 94, 'kStartAttraction': 0.0011704717927657378}. Best is trial 2 with value: 6052.076271186441.\u001b[0m\n"
     ]
    },
    {
     "name": "stdout",
     "output_type": "stream",
     "text": [
      "index_parallel='0004'\n"
     ]
    },
    {
     "name": "stderr",
     "output_type": "stream",
     "text": [
      "\u001b[32m[I 2022-08-15 21:46:01,715]\u001b[0m Trial 4 finished with value: 4979.60593220339 and parameters: {'kErase': 4, 'kRadius': 2, 'kAnnealingA': 8.73149174528012, 'kAnnealingB': 2.2822525418726833, 'kAnnealingStart': 45.998856245983724, 'kSkipRatio': 0.23932943790101432, 'kTargetDeterminationTrials': 1, 'kAttractionRatio': 0.013623275819413085, 'kMaxAttractionDistance': 32, 'kStartAttraction': 0.03592303470585375}. Best is trial 2 with value: 6052.076271186441.\u001b[0m\n"
     ]
    },
    {
     "name": "stdout",
     "output_type": "stream",
     "text": [
      "index_parallel='0005'\n"
     ]
    },
    {
     "name": "stderr",
     "output_type": "stream",
     "text": [
      "\u001b[32m[I 2022-08-15 21:50:26,786]\u001b[0m Trial 5 finished with value: 5545.860169491525 and parameters: {'kErase': 4, 'kRadius': 2, 'kAnnealingA': 2.19356063392744, 'kAnnealingB': 2.504683818172497, 'kAnnealingStart': 5.595459499445428, 'kSkipRatio': 0.28807254698268786, 'kTargetDeterminationTrials': 1, 'kAttractionRatio': 0.07657152748926728, 'kMaxAttractionDistance': 11, 'kStartAttraction': 0.0825929518925413}. Best is trial 2 with value: 6052.076271186441.\u001b[0m\n"
     ]
    },
    {
     "name": "stdout",
     "output_type": "stream",
     "text": [
      "index_parallel='0006'\n"
     ]
    },
    {
     "name": "stderr",
     "output_type": "stream",
     "text": [
      "\u001b[32m[I 2022-08-15 21:54:51,687]\u001b[0m Trial 6 finished with value: 5753.466101694915 and parameters: {'kErase': 3, 'kRadius': 5, 'kAnnealingA': -14.8033637502941, 'kAnnealingB': 1.7835355417060885, 'kAnnealingStart': 77.12265074017715, 'kSkipRatio': 0.3072139037432332, 'kTargetDeterminationTrials': 9, 'kAttractionRatio': 0.07207509576082351, 'kMaxAttractionDistance': 4, 'kStartAttraction': 0.0015434909675055746}. Best is trial 2 with value: 6052.076271186441.\u001b[0m\n"
     ]
    },
    {
     "name": "stdout",
     "output_type": "stream",
     "text": [
      "index_parallel='0007'\n"
     ]
    },
    {
     "name": "stderr",
     "output_type": "stream",
     "text": [
      "\u001b[32m[I 2022-08-15 21:59:16,524]\u001b[0m Trial 7 finished with value: 6001.614406779661 and parameters: {'kErase': 2, 'kRadius': 3, 'kAnnealingA': -3.2027274583150334, 'kAnnealingB': 0.7457743442155362, 'kAnnealingStart': 2.817308817759076, 'kSkipRatio': 0.5680307913847271, 'kTargetDeterminationTrials': 4, 'kAttractionRatio': 0.040319072108764814, 'kMaxAttractionDistance': 12, 'kStartAttraction': 0.0021453994775948193}. Best is trial 2 with value: 6052.076271186441.\u001b[0m\n"
     ]
    },
    {
     "name": "stdout",
     "output_type": "stream",
     "text": [
      "index_parallel='0008'\n"
     ]
    },
    {
     "name": "stderr",
     "output_type": "stream",
     "text": [
      "\u001b[32m[I 2022-08-15 22:03:41,905]\u001b[0m Trial 8 finished with value: 5881.3050847457625 and parameters: {'kErase': 4, 'kRadius': 5, 'kAnnealingA': 7.110560401756281, 'kAnnealingB': 2.1392795844697856, 'kAnnealingStart': 35.18327068041988, 'kSkipRatio': 0.7363642794622594, 'kTargetDeterminationTrials': 5, 'kAttractionRatio': 0.5795811800707112, 'kMaxAttractionDistance': 31, 'kStartAttraction': 0.034112309629404994}. Best is trial 2 with value: 6052.076271186441.\u001b[0m\n"
     ]
    },
    {
     "name": "stdout",
     "output_type": "stream",
     "text": [
      "index_parallel='0009'\n"
     ]
    },
    {
     "name": "stderr",
     "output_type": "stream",
     "text": [
      "\u001b[32m[I 2022-08-15 22:08:06,603]\u001b[0m Trial 9 finished with value: 5848.330508474576 and parameters: {'kErase': 3, 'kRadius': 3, 'kAnnealingA': 10.327490646839454, 'kAnnealingB': 0.16455024059005408, 'kAnnealingStart': 1.212607772355721, 'kSkipRatio': 0.2992503265140122, 'kTargetDeterminationTrials': 1, 'kAttractionRatio': 0.016518097192931045, 'kMaxAttractionDistance': 8, 'kStartAttraction': 0.006175275012199115}. Best is trial 2 with value: 6052.076271186441.\u001b[0m\n"
     ]
    },
    {
     "name": "stdout",
     "output_type": "stream",
     "text": [
      "index_parallel='0010'\n"
     ]
    },
    {
     "name": "stderr",
     "output_type": "stream",
     "text": [
      "\u001b[32m[I 2022-08-15 22:12:31,012]\u001b[0m Trial 10 finished with value: 6128.245762711865 and parameters: {'kErase': 1, 'kRadius': 6, 'kAnnealingA': 3.3485348385975913, 'kAnnealingB': 2.747215315622788, 'kAnnealingStart': 14.843829788477228, 'kSkipRatio': 0.38322773911669805, 'kTargetDeterminationTrials': 15, 'kAttractionRatio': 0.18562679706889537, 'kMaxAttractionDistance': 4, 'kStartAttraction': 0.7464008611829007}. Best is trial 10 with value: 6128.245762711865.\u001b[0m\n"
     ]
    },
    {
     "name": "stdout",
     "output_type": "stream",
     "text": [
      "Updated! 6128.245762711865\n",
      "index_parallel='0011'\n"
     ]
    },
    {
     "name": "stderr",
     "output_type": "stream",
     "text": [
      "\u001b[32m[I 2022-08-15 22:16:55,153]\u001b[0m Trial 11 finished with value: 5813.343220338983 and parameters: {'kErase': 1, 'kRadius': 6, 'kAnnealingA': 14.582047212982157, 'kAnnealingB': 2.9467613762970304, 'kAnnealingStart': 17.193170116079624, 'kSkipRatio': 0.4063731589434887, 'kTargetDeterminationTrials': 20, 'kAttractionRatio': 0.1967805031355468, 'kMaxAttractionDistance': 4, 'kStartAttraction': 0.6254116234662984}. Best is trial 10 with value: 6128.245762711865.\u001b[0m\n"
     ]
    },
    {
     "name": "stdout",
     "output_type": "stream",
     "text": [
      "index_parallel='0012'\n"
     ]
    },
    {
     "name": "stderr",
     "output_type": "stream",
     "text": [
      "\u001b[32m[I 2022-08-15 22:21:20,015]\u001b[0m Trial 12 finished with value: 6041.449152542373 and parameters: {'kErase': 2, 'kRadius': 4, 'kAnnealingA': 3.727312804466721, 'kAnnealingB': 2.9703020192383187, 'kAnnealingStart': 14.218533853140668, 'kSkipRatio': 0.41371731317779176, 'kTargetDeterminationTrials': 11, 'kAttractionRatio': 0.16165052714844277, 'kMaxAttractionDistance': 6, 'kStartAttraction': 0.8469973315800864}. Best is trial 10 with value: 6128.245762711865.\u001b[0m\n"
     ]
    },
    {
     "name": "stdout",
     "output_type": "stream",
     "text": [
      "index_parallel='0013'\n"
     ]
    },
    {
     "name": "stderr",
     "output_type": "stream",
     "text": [
      "\u001b[32m[I 2022-08-15 22:25:44,565]\u001b[0m Trial 13 finished with value: 6028.377118644068 and parameters: {'kErase': 2, 'kRadius': 6, 'kAnnealingA': -2.1018659894167113, 'kAnnealingB': 2.5787742994946434, 'kAnnealingStart': 1.3901968506280296, 'kSkipRatio': 0.39695388327529196, 'kTargetDeterminationTrials': 11, 'kAttractionRatio': 0.20208936111742534, 'kMaxAttractionDistance': 6, 'kStartAttraction': 0.22031280500872907}. Best is trial 10 with value: 6128.245762711865.\u001b[0m\n"
     ]
    },
    {
     "name": "stdout",
     "output_type": "stream",
     "text": [
      "index_parallel='0014'\n"
     ]
    },
    {
     "name": "stderr",
     "output_type": "stream",
     "text": [
      "\u001b[32m[I 2022-08-15 22:30:08,785]\u001b[0m Trial 14 finished with value: 6248.3050847457625 and parameters: {'kErase': 1, 'kRadius': 4, 'kAnnealingA': 5.436705930125312, 'kAnnealingB': 2.000695760060357, 'kAnnealingStart': 9.133512816911974, 'kSkipRatio': 0.36713107612271983, 'kTargetDeterminationTrials': 2, 'kAttractionRatio': 0.0419481787135801, 'kMaxAttractionDistance': 15, 'kStartAttraction': 0.2515792620348577}. Best is trial 14 with value: 6248.3050847457625.\u001b[0m\n"
     ]
    },
    {
     "name": "stdout",
     "output_type": "stream",
     "text": [
      "Updated! 6248.3050847457625\n",
      "index_parallel='0015'\n"
     ]
    },
    {
     "name": "stderr",
     "output_type": "stream",
     "text": [
      "\u001b[32m[I 2022-08-15 22:34:33,565]\u001b[0m Trial 15 finished with value: 6017.6949152542375 and parameters: {'kErase': 1, 'kRadius': 4, 'kAnnealingA': 5.637642804196314, 'kAnnealingB': 1.8375529805996875, 'kAnnealingStart': 22.672090673397125, 'kSkipRatio': 0.469224187990225, 'kTargetDeterminationTrials': 2, 'kAttractionRatio': 0.0428114665723714, 'kMaxAttractionDistance': 56, 'kStartAttraction': 0.3331035574209765}. Best is trial 14 with value: 6248.3050847457625.\u001b[0m\n"
     ]
    },
    {
     "name": "stdout",
     "output_type": "stream",
     "text": [
      "index_parallel='0016'\n"
     ]
    },
    {
     "name": "stderr",
     "output_type": "stream",
     "text": [
      "\u001b[32m[I 2022-08-15 22:38:58,876]\u001b[0m Trial 16 finished with value: 5635.021186440678 and parameters: {'kErase': 5, 'kRadius': 6, 'kAnnealingA': 14.085025200124303, 'kAnnealingB': 1.8830240401479288, 'kAnnealingStart': 10.229901886511517, 'kSkipRatio': 0.3679393133934506, 'kTargetDeterminationTrials': 2, 'kAttractionRatio': 0.8702139137689487, 'kMaxAttractionDistance': 15, 'kStartAttraction': 0.08755692798001566}. Best is trial 14 with value: 6248.3050847457625.\u001b[0m\n"
     ]
    },
    {
     "name": "stdout",
     "output_type": "stream",
     "text": [
      "index_parallel='0017'\n"
     ]
    },
    {
     "name": "stderr",
     "output_type": "stream",
     "text": [
      "\u001b[32m[I 2022-08-15 22:43:23,034]\u001b[0m Trial 17 finished with value: 6253.614406779661 and parameters: {'kErase': 1, 'kRadius': 4, 'kAnnealingA': 9.94523185934872, 'kAnnealingB': 1.4306422216825831, 'kAnnealingStart': 6.717467213443354, 'kSkipRatio': 0.4663300457754705, 'kTargetDeterminationTrials': 3, 'kAttractionRatio': 0.11237037475965513, 'kMaxAttractionDistance': 20, 'kStartAttraction': 0.4187528889086594}. Best is trial 17 with value: 6253.614406779661.\u001b[0m\n"
     ]
    },
    {
     "name": "stdout",
     "output_type": "stream",
     "text": [
      "Updated! 6253.614406779661\n",
      "index_parallel='0018'\n"
     ]
    },
    {
     "name": "stderr",
     "output_type": "stream",
     "text": [
      "\u001b[32m[I 2022-08-15 22:47:47,505]\u001b[0m Trial 18 finished with value: 5822.372881355932 and parameters: {'kErase': 1, 'kRadius': 4, 'kAnnealingA': 11.740683297791577, 'kAnnealingB': 1.397011856220096, 'kAnnealingStart': 6.91946396949441, 'kSkipRatio': 0.20276732995787655, 'kTargetDeterminationTrials': 3, 'kAttractionRatio': 0.0381067315957209, 'kMaxAttractionDistance': 18, 'kStartAttraction': 0.011337468974025612}. Best is trial 17 with value: 6253.614406779661.\u001b[0m\n"
     ]
    },
    {
     "name": "stdout",
     "output_type": "stream",
     "text": [
      "index_parallel='0019'\n"
     ]
    },
    {
     "name": "stderr",
     "output_type": "stream",
     "text": [
      "\u001b[32m[I 2022-08-15 22:52:12,216]\u001b[0m Trial 19 finished with value: 6213.4152542372885 and parameters: {'kErase': 2, 'kRadius': 4, 'kAnnealingA': 6.952775149720005, 'kAnnealingB': 0.5049862558595195, 'kAnnealingStart': 8.848414734950994, 'kSkipRatio': 0.5031893574448524, 'kTargetDeterminationTrials': 3, 'kAttractionRatio': 0.11528755325039383, 'kMaxAttractionDistance': 56, 'kStartAttraction': 0.1019167515100001}. Best is trial 17 with value: 6253.614406779661.\u001b[0m\n"
     ]
    },
    {
     "name": "stdout",
     "output_type": "stream",
     "text": [
      "index_parallel='0020'\n"
     ]
    },
    {
     "name": "stderr",
     "output_type": "stream",
     "text": [
      "\u001b[32m[I 2022-08-15 22:56:36,858]\u001b[0m Trial 20 finished with value: 6158.029661016949 and parameters: {'kErase': 3, 'kRadius': 4, 'kAnnealingA': 11.597531195502278, 'kAnnealingB': 1.2075918895028996, 'kAnnealingStart': 4.200111108919273, 'kSkipRatio': 0.616181391855489, 'kTargetDeterminationTrials': 2, 'kAttractionRatio': 0.04999616125666819, 'kMaxAttractionDistance': 21, 'kStartAttraction': 0.34328465701120925}. Best is trial 17 with value: 6253.614406779661.\u001b[0m\n"
     ]
    },
    {
     "name": "stdout",
     "output_type": "stream",
     "text": [
      "index_parallel='0021'\n"
     ]
    },
    {
     "name": "stderr",
     "output_type": "stream",
     "text": [
      "\u001b[32m[I 2022-08-15 23:01:02,062]\u001b[0m Trial 21 finished with value: 6231.389830508475 and parameters: {'kErase': 2, 'kRadius': 4, 'kAnnealingA': 7.176940963235495, 'kAnnealingB': 0.43846104913588246, 'kAnnealingStart': 8.955807053499212, 'kSkipRatio': 0.4882836956955284, 'kTargetDeterminationTrials': 3, 'kAttractionRatio': 0.11882237713838979, 'kMaxAttractionDistance': 50, 'kStartAttraction': 0.0880507439039385}. Best is trial 17 with value: 6253.614406779661.\u001b[0m\n"
     ]
    },
    {
     "name": "stdout",
     "output_type": "stream",
     "text": [
      "index_parallel='0022'\n"
     ]
    },
    {
     "name": "stderr",
     "output_type": "stream",
     "text": [
      "\u001b[32m[I 2022-08-15 23:05:26,411]\u001b[0m Trial 22 finished with value: 5981.885593220339 and parameters: {'kErase': 1, 'kRadius': 4, 'kAnnealingA': 9.171585264858082, 'kAnnealingB': 0.13686781447262786, 'kAnnealingStart': 28.951841583631364, 'kSkipRatio': 0.45458412154585254, 'kTargetDeterminationTrials': 3, 'kAttractionRatio': 0.10999840450485157, 'kMaxAttractionDistance': 47, 'kStartAttraction': 0.1531696808702262}. Best is trial 17 with value: 6253.614406779661.\u001b[0m\n"
     ]
    },
    {
     "name": "stdout",
     "output_type": "stream",
     "text": [
      "index_parallel='0023'\n"
     ]
    },
    {
     "name": "stderr",
     "output_type": "stream",
     "text": [
      "\u001b[32m[I 2022-08-15 23:09:50,813]\u001b[0m Trial 23 finished with value: 6266.877118644068 and parameters: {'kErase': 2, 'kRadius': 3, 'kAnnealingA': -0.8019535443017425, 'kAnnealingB': 0.6247736433003233, 'kAnnealingStart': 11.386349858225994, 'kSkipRatio': 0.5546546768394601, 'kTargetDeterminationTrials': 7, 'kAttractionRatio': 0.028937980688652762, 'kMaxAttractionDistance': 99, 'kStartAttraction': 0.37954028997872863}. Best is trial 23 with value: 6266.877118644068.\u001b[0m\n"
     ]
    },
    {
     "name": "stdout",
     "output_type": "stream",
     "text": [
      "Updated! 6266.877118644068\n",
      "index_parallel='0024'\n"
     ]
    },
    {
     "name": "stderr",
     "output_type": "stream",
     "text": [
      "\u001b[32m[I 2022-08-15 23:14:15,565]\u001b[0m Trial 24 finished with value: 6260.088983050848 and parameters: {'kErase': 1, 'kRadius': 3, 'kAnnealingA': 0.1545536176546724, 'kAnnealingB': 1.6480685760817837, 'kAnnealingStart': 12.129325142005271, 'kSkipRatio': 0.561747516172928, 'kTargetDeterminationTrials': 8, 'kAttractionRatio': 0.03306858086673276, 'kMaxAttractionDistance': 88, 'kStartAttraction': 0.455843349354782}. Best is trial 23 with value: 6266.877118644068.\u001b[0m\n"
     ]
    },
    {
     "name": "stdout",
     "output_type": "stream",
     "text": [
      "index_parallel='0025'\n"
     ]
    },
    {
     "name": "stderr",
     "output_type": "stream",
     "text": [
      "\u001b[32m[I 2022-08-15 23:18:40,625]\u001b[0m Trial 25 finished with value: 6300.012711864407 and parameters: {'kErase': 2, 'kRadius': 3, 'kAnnealingA': -0.9940395939776593, 'kAnnealingB': 1.6826684060697847, 'kAnnealingStart': 20.47517298249365, 'kSkipRatio': 0.5666965649660051, 'kTargetDeterminationTrials': 7, 'kAttractionRatio': 0.026929011368498273, 'kMaxAttractionDistance': 87, 'kStartAttraction': 0.4763550048052562}. Best is trial 25 with value: 6300.012711864407.\u001b[0m\n"
     ]
    },
    {
     "name": "stdout",
     "output_type": "stream",
     "text": [
      "Updated! 6300.012711864407\n",
      "index_parallel='0026'\n"
     ]
    },
    {
     "name": "stderr",
     "output_type": "stream",
     "text": [
      "\u001b[32m[I 2022-08-15 23:23:05,831]\u001b[0m Trial 26 finished with value: 6298.75 and parameters: {'kErase': 3, 'kRadius': 2, 'kAnnealingA': -0.8495073738918631, 'kAnnealingB': 1.6518057379313142, 'kAnnealingStart': 56.53536316378857, 'kSkipRatio': 0.6794971095127954, 'kTargetDeterminationTrials': 7, 'kAttractionRatio': 0.027286826386125288, 'kMaxAttractionDistance': 95, 'kStartAttraction': 0.4796408825247014}. Best is trial 25 with value: 6300.012711864407.\u001b[0m\n"
     ]
    },
    {
     "name": "stdout",
     "output_type": "stream",
     "text": [
      "index_parallel='0027'\n"
     ]
    },
    {
     "name": "stderr",
     "output_type": "stream",
     "text": [
      "\u001b[32m[I 2022-08-15 23:27:30,624]\u001b[0m Trial 27 finished with value: 6229.207627118644 and parameters: {'kErase': 3, 'kRadius': 2, 'kAnnealingA': -6.855490136836127, 'kAnnealingB': 0.8809977078737399, 'kAnnealingStart': 97.67688866786547, 'kSkipRatio': 0.6702061846970816, 'kTargetDeterminationTrials': 6, 'kAttractionRatio': 0.025819941729026376, 'kMaxAttractionDistance': 73, 'kStartAttraction': 0.14060613036097358}. Best is trial 25 with value: 6300.012711864407.\u001b[0m\n"
     ]
    },
    {
     "name": "stdout",
     "output_type": "stream",
     "text": [
      "index_parallel='0028'\n"
     ]
    },
    {
     "name": "stderr",
     "output_type": "stream",
     "text": [
      "\u001b[32m[I 2022-08-15 23:31:55,538]\u001b[0m Trial 28 finished with value: 6430.453389830508 and parameters: {'kErase': 3, 'kRadius': 2, 'kAnnealingA': -2.1300239771852327, 'kAnnealingB': 1.1882521215813304, 'kAnnealingStart': 54.59628288805305, 'kSkipRatio': 0.780697900228358, 'kTargetDeterminationTrials': 6, 'kAttractionRatio': 0.011841665949740107, 'kMaxAttractionDistance': 69, 'kStartAttraction': 0.45677035999187005}. Best is trial 28 with value: 6430.453389830508.\u001b[0m\n"
     ]
    },
    {
     "name": "stdout",
     "output_type": "stream",
     "text": [
      "Updated! 6430.453389830508\n",
      "index_parallel='0029'\n"
     ]
    },
    {
     "name": "stderr",
     "output_type": "stream",
     "text": [
      "\u001b[32m[I 2022-08-15 23:36:20,774]\u001b[0m Trial 29 finished with value: 6391.029661016949 and parameters: {'kErase': 3, 'kRadius': 2, 'kAnnealingA': -4.511538943826383, 'kAnnealingB': 1.583897120171732, 'kAnnealingStart': 57.13992151667959, 'kSkipRatio': 0.7939867242309492, 'kTargetDeterminationTrials': 5, 'kAttractionRatio': 0.012175338846820821, 'kMaxAttractionDistance': 72, 'kStartAttraction': 0.045525013452122204}. Best is trial 28 with value: 6430.453389830508.\u001b[0m\n"
     ]
    },
    {
     "name": "stdout",
     "output_type": "stream",
     "text": [
      "index_parallel='0030'\n"
     ]
    },
    {
     "name": "stderr",
     "output_type": "stream",
     "text": [
      "\u001b[32m[I 2022-08-15 23:40:45,843]\u001b[0m Trial 30 finished with value: 6187.317796610169 and parameters: {'kErase': 5, 'kRadius': 2, 'kAnnealingA': -7.978723883256814, 'kAnnealingB': 1.2686411466431409, 'kAnnealingStart': 55.056674612959064, 'kSkipRatio': 0.7940843168458163, 'kTargetDeterminationTrials': 5, 'kAttractionRatio': 0.010631365310575147, 'kMaxAttractionDistance': 67, 'kStartAttraction': 0.017562895805098844}. Best is trial 28 with value: 6430.453389830508.\u001b[0m\n"
     ]
    },
    {
     "name": "stdout",
     "output_type": "stream",
     "text": [
      "index_parallel='0031'\n"
     ]
    },
    {
     "name": "stderr",
     "output_type": "stream",
     "text": [
      "\u001b[32m[I 2022-08-15 23:45:10,702]\u001b[0m Trial 31 finished with value: 6371.28813559322 and parameters: {'kErase': 3, 'kRadius': 2, 'kAnnealingA': -4.624742848359832, 'kAnnealingB': 1.6318762024156699, 'kAnnealingStart': 59.8308496309981, 'kSkipRatio': 0.7949724080748122, 'kTargetDeterminationTrials': 5, 'kAttractionRatio': 0.010581590020916186, 'kMaxAttractionDistance': 40, 'kStartAttraction': 0.004372539785478018}. Best is trial 28 with value: 6430.453389830508.\u001b[0m\n"
     ]
    },
    {
     "name": "stdout",
     "output_type": "stream",
     "text": [
      "index_parallel='0032'\n"
     ]
    },
    {
     "name": "stderr",
     "output_type": "stream",
     "text": [
      "\u001b[32m[I 2022-08-15 23:49:35,505]\u001b[0m Trial 32 finished with value: 6355.0 and parameters: {'kErase': 3, 'kRadius': 2, 'kAnnealingA': -3.9824050258139727, 'kAnnealingB': 1.616229070536843, 'kAnnealingStart': 36.60520178920262, 'kSkipRatio': 0.7965851657813181, 'kTargetDeterminationTrials': 4, 'kAttractionRatio': 0.010455806657854139, 'kMaxAttractionDistance': 42, 'kStartAttraction': 0.004840148659745995}. Best is trial 28 with value: 6430.453389830508.\u001b[0m\n"
     ]
    },
    {
     "name": "stdout",
     "output_type": "stream",
     "text": [
      "index_parallel='0033'\n"
     ]
    },
    {
     "name": "stderr",
     "output_type": "stream",
     "text": [
      "\u001b[32m[I 2022-08-15 23:54:00,568]\u001b[0m Trial 33 finished with value: 6362.762711864407 and parameters: {'kErase': 3, 'kRadius': 2, 'kAnnealingA': -3.9700316089970262, 'kAnnealingB': 1.1043420605510068, 'kAnnealingStart': 37.52478403789702, 'kSkipRatio': 0.7960775152167148, 'kTargetDeterminationTrials': 4, 'kAttractionRatio': 0.010777396498403063, 'kMaxAttractionDistance': 43, 'kStartAttraction': 0.004307224581142862}. Best is trial 28 with value: 6430.453389830508.\u001b[0m\n"
     ]
    },
    {
     "name": "stdout",
     "output_type": "stream",
     "text": [
      "index_parallel='0034'\n"
     ]
    },
    {
     "name": "stderr",
     "output_type": "stream",
     "text": [
      "\u001b[32m[I 2022-08-15 23:58:25,363]\u001b[0m Trial 34 finished with value: 6211.173728813559 and parameters: {'kErase': 3, 'kRadius': 2, 'kAnnealingA': -10.891932040445733, 'kAnnealingB': 1.0562919204317418, 'kAnnealingStart': 72.45161888093575, 'kSkipRatio': 0.7430628942405624, 'kTargetDeterminationTrials': 4, 'kAttractionRatio': 0.018804526422602073, 'kMaxAttractionDistance': 38, 'kStartAttraction': 0.003159376378856696}. Best is trial 28 with value: 6430.453389830508.\u001b[0m\n"
     ]
    },
    {
     "name": "stdout",
     "output_type": "stream",
     "text": [
      "index_parallel='0035'\n"
     ]
    },
    {
     "name": "stderr",
     "output_type": "stream",
     "text": [
      "\u001b[32m[I 2022-08-16 00:02:50,373]\u001b[0m Trial 35 finished with value: 6337.25 and parameters: {'kErase': 3, 'kRadius': 2, 'kAnnealingA': -5.127447540177575, 'kAnnealingB': 1.4146058113159135, 'kAnnealingStart': 45.273672371512, 'kSkipRatio': 0.7588834769315128, 'kTargetDeterminationTrials': 5, 'kAttractionRatio': 0.013449316002732317, 'kMaxAttractionDistance': 68, 'kStartAttraction': 0.008074527639590509}. Best is trial 28 with value: 6430.453389830508.\u001b[0m\n"
     ]
    },
    {
     "name": "stdout",
     "output_type": "stream",
     "text": [
      "index_parallel='0036'\n"
     ]
    },
    {
     "name": "stderr",
     "output_type": "stream",
     "text": [
      "\u001b[32m[I 2022-08-16 00:07:15,302]\u001b[0m Trial 36 finished with value: 6111.8983050847455 and parameters: {'kErase': 4, 'kRadius': 2, 'kAnnealingA': -10.360597991099453, 'kAnnealingB': 1.1045980234114732, 'kAnnealingStart': 92.73804273479206, 'kSkipRatio': 0.6925043550002588, 'kTargetDeterminationTrials': 10, 'kAttractionRatio': 0.012852270925143008, 'kMaxAttractionDistance': 27, 'kStartAttraction': 0.05054282567413825}. Best is trial 28 with value: 6430.453389830508.\u001b[0m\n"
     ]
    },
    {
     "name": "stdout",
     "output_type": "stream",
     "text": [
      "index_parallel='0037'\n"
     ]
    },
    {
     "name": "stderr",
     "output_type": "stream",
     "text": [
      "\u001b[32m[I 2022-08-16 00:11:40,610]\u001b[0m Trial 37 finished with value: 6091.703389830508 and parameters: {'kErase': 4, 'kRadius': 2, 'kAnnealingA': -5.944821047311314, 'kAnnealingB': 0.9271248379257926, 'kAnnealingStart': 63.543030259918226, 'kSkipRatio': 0.6373176080274335, 'kTargetDeterminationTrials': 4, 'kAttractionRatio': 0.019837972562951396, 'kMaxAttractionDistance': 39, 'kStartAttraction': 0.020121507765356154}. Best is trial 28 with value: 6430.453389830508.\u001b[0m\n"
     ]
    },
    {
     "name": "stdout",
     "output_type": "stream",
     "text": [
      "index_parallel='0038'\n"
     ]
    },
    {
     "name": "stderr",
     "output_type": "stream",
     "text": [
      "\u001b[32m[I 2022-08-16 00:16:05,621]\u001b[0m Trial 38 finished with value: 6392.377118644068 and parameters: {'kErase': 3, 'kRadius': 3, 'kAnnealingA': 1.0659227595053573, 'kAnnealingB': 1.2774460804670695, 'kAnnealingStart': 26.928783202674826, 'kSkipRatio': 0.7212993834164387, 'kTargetDeterminationTrials': 6, 'kAttractionRatio': 0.010036793490664846, 'kMaxAttractionDistance': 73, 'kStartAttraction': 0.003060042076268194}. Best is trial 28 with value: 6430.453389830508.\u001b[0m\n"
     ]
    },
    {
     "name": "stdout",
     "output_type": "stream",
     "text": [
      "index_parallel='0039'\n"
     ]
    },
    {
     "name": "stderr",
     "output_type": "stream",
     "text": [
      "\u001b[32m[I 2022-08-16 00:20:30,609]\u001b[0m Trial 39 finished with value: 6301.411016949152 and parameters: {'kErase': 4, 'kRadius': 3, 'kAnnealingA': 1.2063325824462243, 'kAnnealingB': 2.0399811672938535, 'kAnnealingStart': 26.147850769482528, 'kSkipRatio': 0.7211540990946796, 'kTargetDeterminationTrials': 6, 'kAttractionRatio': 0.01612015392778858, 'kMaxAttractionDistance': 75, 'kStartAttraction': 0.002361947822911025}. Best is trial 28 with value: 6430.453389830508.\u001b[0m\n"
     ]
    },
    {
     "name": "stdout",
     "output_type": "stream",
     "text": [
      "index_parallel='0040'\n"
     ]
    },
    {
     "name": "stderr",
     "output_type": "stream",
     "text": [
      "\u001b[32m[I 2022-08-16 00:24:55,528]\u001b[0m Trial 40 finished with value: 6138.042372881356 and parameters: {'kErase': 3, 'kRadius': 3, 'kAnnealingA': -13.052575026164195, 'kAnnealingB': 1.3157883654255567, 'kAnnealingStart': 46.08663904608836, 'kSkipRatio': 0.7670108531340123, 'kTargetDeterminationTrials': 14, 'kAttractionRatio': 0.02110666073744086, 'kMaxAttractionDistance': 62, 'kStartAttraction': 0.0013006715250177404}. Best is trial 28 with value: 6430.453389830508.\u001b[0m\n"
     ]
    },
    {
     "name": "stdout",
     "output_type": "stream",
     "text": [
      "index_parallel='0041'\n"
     ]
    },
    {
     "name": "stderr",
     "output_type": "stream",
     "text": [
      "\u001b[32m[I 2022-08-16 00:29:20,406]\u001b[0m Trial 41 finished with value: 6392.576271186441 and parameters: {'kErase': 3, 'kRadius': 2, 'kAnnealingA': -3.540127316613686, 'kAnnealingB': 0.8341638270690209, 'kAnnealingStart': 37.24945810664857, 'kSkipRatio': 0.7760273054621443, 'kTargetDeterminationTrials': 5, 'kAttractionRatio': 0.010013515269517218, 'kMaxAttractionDistance': 48, 'kStartAttraction': 0.003948033490544122}. Best is trial 28 with value: 6430.453389830508.\u001b[0m\n"
     ]
    },
    {
     "name": "stdout",
     "output_type": "stream",
     "text": [
      "index_parallel='0042'\n"
     ]
    },
    {
     "name": "stderr",
     "output_type": "stream",
     "text": [
      "\u001b[32m[I 2022-08-16 00:33:45,251]\u001b[0m Trial 42 finished with value: 6340.406779661017 and parameters: {'kErase': 3, 'kRadius': 2, 'kAnnealingA': -2.629620675900714, 'kAnnealingB': 0.7994722957684449, 'kAnnealingStart': 31.66977103411784, 'kSkipRatio': 0.7152748140986628, 'kTargetDeterminationTrials': 5, 'kAttractionRatio': 0.013341783634351253, 'kMaxAttractionDistance': 57, 'kStartAttraction': 0.010132582418310493}. Best is trial 28 with value: 6430.453389830508.\u001b[0m\n"
     ]
    },
    {
     "name": "stdout",
     "output_type": "stream",
     "text": [
      "index_parallel='0043'\n"
     ]
    },
    {
     "name": "stderr",
     "output_type": "stream",
     "text": [
      "\u001b[32m[I 2022-08-16 00:38:10,094]\u001b[0m Trial 43 finished with value: 6371.733050847458 and parameters: {'kErase': 3, 'kRadius': 3, 'kAnnealingA': -5.03620419451059, 'kAnnealingB': 1.4947980953995927, 'kAnnealingStart': 44.88396639080601, 'kSkipRatio': 0.7662336614561434, 'kTargetDeterminationTrials': 8, 'kAttractionRatio': 0.010168924284083598, 'kMaxAttractionDistance': 34, 'kStartAttraction': 0.0032256736345653175}. Best is trial 28 with value: 6430.453389830508.\u001b[0m\n"
     ]
    },
    {
     "name": "stdout",
     "output_type": "stream",
     "text": [
      "index_parallel='0044'\n"
     ]
    },
    {
     "name": "stderr",
     "output_type": "stream",
     "text": [
      "\u001b[32m[I 2022-08-16 00:42:34,947]\u001b[0m Trial 44 finished with value: 6319.131355932203 and parameters: {'kErase': 3, 'kRadius': 3, 'kAnnealingA': -6.998037927389686, 'kAnnealingB': 1.529527983475567, 'kAnnealingStart': 44.7754899761373, 'kSkipRatio': 0.7620112384164129, 'kTargetDeterminationTrials': 9, 'kAttractionRatio': 0.016676385162883466, 'kMaxAttractionDistance': 33, 'kStartAttraction': 0.0010473115442807426}. Best is trial 28 with value: 6430.453389830508.\u001b[0m\n"
     ]
    },
    {
     "name": "stdout",
     "output_type": "stream",
     "text": [
      "index_parallel='0045'\n"
     ]
    },
    {
     "name": "stderr",
     "output_type": "stream",
     "text": [
      "\u001b[32m[I 2022-08-16 00:47:00,199]\u001b[0m Trial 45 finished with value: 6098.411016949152 and parameters: {'kErase': 4, 'kRadius': 3, 'kAnnealingA': -2.2283038955374765, 'kAnnealingB': 0.6467547082939743, 'kAnnealingStart': 84.50534824830514, 'kSkipRatio': 0.6516195823040889, 'kTargetDeterminationTrials': 12, 'kAttractionRatio': 0.01424931756867819, 'kMaxAttractionDistance': 50, 'kStartAttraction': 0.0017796175072233413}. Best is trial 28 with value: 6430.453389830508.\u001b[0m\n"
     ]
    },
    {
     "name": "stdout",
     "output_type": "stream",
     "text": [
      "index_parallel='0046'\n"
     ]
    },
    {
     "name": "stderr",
     "output_type": "stream",
     "text": [
      "\u001b[32m[I 2022-08-16 00:51:25,078]\u001b[0m Trial 46 finished with value: 6345.936440677966 and parameters: {'kErase': 3, 'kRadius': 3, 'kAnnealingA': 1.0619765807139556, 'kAnnealingB': 1.0292395826775582, 'kAnnealingStart': 23.236848770357717, 'kSkipRatio': 0.7075165868019283, 'kTargetDeterminationTrials': 8, 'kAttractionRatio': 0.012251219121024467, 'kMaxAttractionDistance': 74, 'kStartAttraction': 0.05074095183679808}. Best is trial 28 with value: 6430.453389830508.\u001b[0m\n"
     ]
    },
    {
     "name": "stdout",
     "output_type": "stream",
     "text": [
      "index_parallel='0047'\n"
     ]
    },
    {
     "name": "stderr",
     "output_type": "stream",
     "text": [
      "\u001b[32m[I 2022-08-16 00:55:49,777]\u001b[0m Trial 47 finished with value: 6190.436440677966 and parameters: {'kErase': 3, 'kRadius': 2, 'kAnnealingA': 3.0522267803183105, 'kAnnealingB': 2.2813122587061994, 'kAnnealingStart': 18.39907862791396, 'kSkipRatio': 0.7370472968603986, 'kTargetDeterminationTrials': 6, 'kAttractionRatio': 0.30525241171493606, 'kMaxAttractionDistance': 25, 'kStartAttraction': 0.0030707610315059033}. Best is trial 28 with value: 6430.453389830508.\u001b[0m\n"
     ]
    },
    {
     "name": "stdout",
     "output_type": "stream",
     "text": [
      "index_parallel='0048'\n"
     ]
    },
    {
     "name": "stderr",
     "output_type": "stream",
     "text": [
      "\u001b[32m[I 2022-08-16 01:00:14,811]\u001b[0m Trial 48 finished with value: 6289.4152542372885 and parameters: {'kErase': 2, 'kRadius': 3, 'kAnnealingA': -8.812074165255366, 'kAnnealingB': 1.2256097318641017, 'kAnnealingStart': 68.58268826699896, 'kSkipRatio': 0.7734989878617675, 'kTargetDeterminationTrials': 9, 'kAttractionRatio': 0.017583896813633166, 'kMaxAttractionDistance': 34, 'kStartAttraction': 0.006595879575872489}. Best is trial 28 with value: 6430.453389830508.\u001b[0m\n"
     ]
    },
    {
     "name": "stdout",
     "output_type": "stream",
     "text": [
      "index_parallel='0049'\n"
     ]
    },
    {
     "name": "stderr",
     "output_type": "stream",
     "text": [
      "\u001b[32m[I 2022-08-16 01:04:39,809]\u001b[0m Trial 49 finished with value: 6191.85593220339 and parameters: {'kErase': 4, 'kRadius': 2, 'kAnnealingA': -6.414282684331975, 'kAnnealingB': 1.5034291042798231, 'kAnnealingStart': 40.32507762236367, 'kSkipRatio': 0.7399835248248154, 'kTargetDeterminationTrials': 7, 'kAttractionRatio': 0.059460451172170546, 'kMaxAttractionDistance': 82, 'kStartAttraction': 0.002909707422269916}. Best is trial 28 with value: 6430.453389830508.\u001b[0m\n"
     ]
    },
    {
     "name": "stdout",
     "output_type": "stream",
     "text": [
      "index_parallel='0050'\n"
     ]
    },
    {
     "name": "stderr",
     "output_type": "stream",
     "text": [
      "\u001b[32m[I 2022-08-16 01:09:04,954]\u001b[0m Trial 50 finished with value: 6354.707627118644 and parameters: {'kErase': 3, 'kRadius': 5, 'kAnnealingA': -3.645535122841448, 'kAnnealingB': 0.37323300451453123, 'kAnnealingStart': 30.57100878205155, 'kSkipRatio': 0.6945009713885728, 'kTargetDeterminationTrials': 15, 'kAttractionRatio': 0.012263735794888701, 'kMaxAttractionDistance': 61, 'kStartAttraction': 0.025713017362608604}. Best is trial 28 with value: 6430.453389830508.\u001b[0m\n"
     ]
    },
    {
     "name": "stdout",
     "output_type": "stream",
     "text": [
      "index_parallel='0051'\n"
     ]
    },
    {
     "name": "stderr",
     "output_type": "stream",
     "text": [
      "\u001b[32m[I 2022-08-16 01:13:29,902]\u001b[0m Trial 51 finished with value: 6368.097457627118 and parameters: {'kErase': 3, 'kRadius': 2, 'kAnnealingA': -4.489981685163413, 'kAnnealingB': 1.7553641495098997, 'kAnnealingStart': 53.94762676847529, 'kSkipRatio': 0.7679694193068297, 'kTargetDeterminationTrials': 5, 'kAttractionRatio': 0.010353236764149171, 'kMaxAttractionDistance': 28, 'kStartAttraction': 0.005484062931832616}. Best is trial 28 with value: 6430.453389830508.\u001b[0m\n"
     ]
    },
    {
     "name": "stdout",
     "output_type": "stream",
     "text": [
      "index_parallel='0052'\n"
     ]
    },
    {
     "name": "stderr",
     "output_type": "stream",
     "text": [
      "\u001b[32m[I 2022-08-16 01:17:55,224]\u001b[0m Trial 52 finished with value: 6364.275423728814 and parameters: {'kErase': 3, 'kRadius': 2, 'kAnnealingA': -5.200331984364968, 'kAnnealingB': 1.3336497020264122, 'kAnnealingStart': 62.80189894820406, 'kSkipRatio': 0.7992969973149437, 'kTargetDeterminationTrials': 5, 'kAttractionRatio': 0.014962321738342997, 'kMaxAttractionDistance': 49, 'kStartAttraction': 0.0040913985433508136}. Best is trial 28 with value: 6430.453389830508.\u001b[0m\n"
     ]
    },
    {
     "name": "stdout",
     "output_type": "stream",
     "text": [
      "index_parallel='0053'\n"
     ]
    },
    {
     "name": "stderr",
     "output_type": "stream",
     "text": [
      "\u001b[32m[I 2022-08-16 01:22:19,999]\u001b[0m Trial 53 finished with value: 6326.567796610169 and parameters: {'kErase': 3, 'kRadius': 2, 'kAnnealingA': -2.036060377530277, 'kAnnealingB': 1.9049609022777938, 'kAnnealingStart': 79.27523571221444, 'kSkipRatio': 0.7250917652767561, 'kTargetDeterminationTrials': 6, 'kAttractionRatio': 0.02274698154637607, 'kMaxAttractionDistance': 36, 'kStartAttraction': 0.0023104573829848237}. Best is trial 28 with value: 6430.453389830508.\u001b[0m\n"
     ]
    },
    {
     "name": "stdout",
     "output_type": "stream",
     "text": [
      "index_parallel='0054'\n"
     ]
    },
    {
     "name": "stderr",
     "output_type": "stream",
     "text": [
      "\u001b[32m[I 2022-08-16 01:26:45,316]\u001b[0m Trial 54 finished with value: 6271.4449152542375 and parameters: {'kErase': 4, 'kRadius': 3, 'kAnnealingA': -7.75983361978952, 'kAnnealingB': 1.5473099411781093, 'kAnnealingStart': 51.21353227467729, 'kSkipRatio': 0.7779357263223954, 'kTargetDeterminationTrials': 6, 'kAttractionRatio': 0.011590535309619017, 'kMaxAttractionDistance': 44, 'kStartAttraction': 0.012281818871569173}. Best is trial 28 with value: 6430.453389830508.\u001b[0m\n"
     ]
    },
    {
     "name": "stdout",
     "output_type": "stream",
     "text": [
      "index_parallel='0055'\n"
     ]
    },
    {
     "name": "stderr",
     "output_type": "stream",
     "text": [
      "\u001b[32m[I 2022-08-16 01:31:10,187]\u001b[0m Trial 55 finished with value: 6398.254237288135 and parameters: {'kErase': 2, 'kRadius': 2, 'kAnnealingA': -3.2248890864068973, 'kAnnealingB': 0.8068604234547937, 'kAnnealingStart': 33.681394604049835, 'kSkipRatio': 0.7502329164299056, 'kTargetDeterminationTrials': 8, 'kAttractionRatio': 0.010034734948573227, 'kMaxAttractionDistance': 54, 'kStartAttraction': 0.00145852070276928}. Best is trial 28 with value: 6430.453389830508.\u001b[0m\n"
     ]
    },
    {
     "name": "stdout",
     "output_type": "stream",
     "text": [
      "index_parallel='0056'\n"
     ]
    },
    {
     "name": "stderr",
     "output_type": "stream",
     "text": [
      "\u001b[32m[I 2022-08-16 01:35:35,142]\u001b[0m Trial 56 finished with value: 6334.161016949152 and parameters: {'kErase': 2, 'kRadius': 2, 'kAnnealingA': 0.4176710992327224, 'kAnnealingB': 0.2785064679726039, 'kAnnealingStart': 25.50779174853707, 'kSkipRatio': 0.5984281065830896, 'kTargetDeterminationTrials': 8, 'kAttractionRatio': 0.015047176025315401, 'kMaxAttractionDistance': 53, 'kStartAttraction': 0.0014592305360827092}. Best is trial 28 with value: 6430.453389830508.\u001b[0m\n"
     ]
    },
    {
     "name": "stdout",
     "output_type": "stream",
     "text": [
      "index_parallel='0057'\n"
     ]
    },
    {
     "name": "stderr",
     "output_type": "stream",
     "text": [
      "\u001b[32m[I 2022-08-16 01:39:59,931]\u001b[0m Trial 57 finished with value: 6407.0550847457625 and parameters: {'kErase': 2, 'kRadius': 3, 'kAnnealingA': 2.2476420527442174, 'kAnnealingB': 0.7471026155512368, 'kAnnealingStart': 33.51939941918461, 'kSkipRatio': 0.7473038994233925, 'kTargetDeterminationTrials': 12, 'kAttractionRatio': 0.022634480760548817, 'kMaxAttractionDistance': 80, 'kStartAttraction': 0.0018619807488188254}. Best is trial 28 with value: 6430.453389830508.\u001b[0m\n"
     ]
    },
    {
     "name": "stdout",
     "output_type": "stream",
     "text": [
      "index_parallel='0058'\n"
     ]
    },
    {
     "name": "stderr",
     "output_type": "stream",
     "text": [
      "\u001b[32m[I 2022-08-16 01:44:24,669]\u001b[0m Trial 58 finished with value: 6313.28813559322 and parameters: {'kErase': 2, 'kRadius': 2, 'kAnnealingA': 2.612568214816095, 'kAnnealingB': 0.7163062677549149, 'kAnnealingStart': 14.784004513588032, 'kSkipRatio': 0.6606065644578598, 'kTargetDeterminationTrials': 13, 'kAttractionRatio': 0.020644877073971613, 'kMaxAttractionDistance': 77, 'kStartAttraction': 0.002111335358110946}. Best is trial 28 with value: 6430.453389830508.\u001b[0m\n"
     ]
    },
    {
     "name": "stdout",
     "output_type": "stream",
     "text": [
      "index_parallel='0059'\n"
     ]
    },
    {
     "name": "stderr",
     "output_type": "stream",
     "text": [
      "\u001b[32m[I 2022-08-16 01:48:49,181]\u001b[0m Trial 59 finished with value: 6338.919491525424 and parameters: {'kErase': 2, 'kRadius': 5, 'kAnnealingA': 4.97668035774961, 'kAnnealingB': 0.8947733691444355, 'kAnnealingStart': 33.40536196269996, 'kSkipRatio': 0.7419504771668944, 'kTargetDeterminationTrials': 17, 'kAttractionRatio': 0.017402210866479383, 'kMaxAttractionDistance': 65, 'kStartAttraction': 0.0017747243453237523}. Best is trial 28 with value: 6430.453389830508.\u001b[0m\n"
     ]
    },
    {
     "name": "stdout",
     "output_type": "stream",
     "text": [
      "index_parallel='0060'\n"
     ]
    },
    {
     "name": "stderr",
     "output_type": "stream",
     "text": [
      "\u001b[32m[I 2022-08-16 01:53:13,810]\u001b[0m Trial 60 finished with value: 6388.139830508475 and parameters: {'kErase': 2, 'kRadius': 2, 'kAnnealingA': 4.580117335012439, 'kAnnealingB': 0.5487492784866941, 'kAnnealingStart': 17.655480453422523, 'kSkipRatio': 0.6973890105757891, 'kTargetDeterminationTrials': 10, 'kAttractionRatio': 0.01474043429589395, 'kMaxAttractionDistance': 83, 'kStartAttraction': 0.056417343770390746}. Best is trial 28 with value: 6430.453389830508.\u001b[0m\n"
     ]
    },
    {
     "name": "stdout",
     "output_type": "stream",
     "text": [
      "index_parallel='0061'\n"
     ]
    },
    {
     "name": "stderr",
     "output_type": "stream",
     "text": [
      "\u001b[32m[I 2022-08-16 01:57:38,629]\u001b[0m Trial 61 finished with value: 6367.220338983051 and parameters: {'kErase': 2, 'kRadius': 2, 'kAnnealingA': 4.630150877609573, 'kAnnealingB': 0.6056437257103414, 'kAnnealingStart': 18.763726722988885, 'kSkipRatio': 0.7013951168222756, 'kTargetDeterminationTrials': 11, 'kAttractionRatio': 0.012439615505186626, 'kMaxAttractionDistance': 86, 'kStartAttraction': 0.053895879733991736}. Best is trial 28 with value: 6430.453389830508.\u001b[0m\n"
     ]
    },
    {
     "name": "stdout",
     "output_type": "stream",
     "text": [
      "index_parallel='0062'\n"
     ]
    },
    {
     "name": "stderr",
     "output_type": "stream",
     "text": [
      "\u001b[32m[I 2022-08-16 02:02:03,216]\u001b[0m Trial 62 finished with value: 6386.46186440678 and parameters: {'kErase': 2, 'kRadius': 2, 'kAnnealingA': 1.9398922978879911, 'kAnnealingB': 0.8115406301093201, 'kAnnealingStart': 25.352185111852897, 'kSkipRatio': 0.7501228653783301, 'kTargetDeterminationTrials': 10, 'kAttractionRatio': 0.01450056825211242, 'kMaxAttractionDistance': 81, 'kStartAttraction': 0.11786954664820333}. Best is trial 28 with value: 6430.453389830508.\u001b[0m\n"
     ]
    },
    {
     "name": "stdout",
     "output_type": "stream",
     "text": [
      "index_parallel='0063'\n"
     ]
    },
    {
     "name": "stderr",
     "output_type": "stream",
     "text": [
      "\u001b[32m[I 2022-08-16 02:06:27,939]\u001b[0m Trial 63 finished with value: 6354.220338983051 and parameters: {'kErase': 2, 'kRadius': 2, 'kAnnealingA': -0.6173128317429626, 'kAnnealingB': 0.47393806721988674, 'kAnnealingStart': 21.173356643048905, 'kSkipRatio': 0.7228875375497037, 'kTargetDeterminationTrials': 10, 'kAttractionRatio': 0.021885696878234735, 'kMaxAttractionDistance': 94, 'kStartAttraction': 0.06645381311971844}. Best is trial 28 with value: 6430.453389830508.\u001b[0m\n"
     ]
    },
    {
     "name": "stdout",
     "output_type": "stream",
     "text": [
      "index_parallel='0064'\n"
     ]
    },
    {
     "name": "stderr",
     "output_type": "stream",
     "text": [
      "\u001b[32m[I 2022-08-16 02:10:52,661]\u001b[0m Trial 64 finished with value: 6335.2415254237285 and parameters: {'kErase': 2, 'kRadius': 3, 'kAnnealingA': 4.132951478574474, 'kAnnealingB': 0.9902774955509217, 'kAnnealingStart': 29.606231867827454, 'kSkipRatio': 0.6780286385932515, 'kTargetDeterminationTrials': 12, 'kAttractionRatio': 0.015714348343297362, 'kMaxAttractionDistance': 59, 'kStartAttraction': 0.03543712511544822}. Best is trial 28 with value: 6430.453389830508.\u001b[0m\n"
     ]
    },
    {
     "name": "stdout",
     "output_type": "stream",
     "text": [
      "index_parallel='0065'\n"
     ]
    },
    {
     "name": "stderr",
     "output_type": "stream",
     "text": [
      "\u001b[32m[I 2022-08-16 02:15:17,443]\u001b[0m Trial 65 finished with value: 6218.050847457627 and parameters: {'kErase': 2, 'kRadius': 2, 'kAnnealingA': 6.193313818274028, 'kAnnealingB': 0.30143650853540505, 'kAnnealingStart': 16.45465960210731, 'kSkipRatio': 0.5352134695939402, 'kTargetDeterminationTrials': 7, 'kAttractionRatio': 0.033194332235996424, 'kMaxAttractionDistance': 68, 'kStartAttraction': 0.2230461782000126}. Best is trial 28 with value: 6430.453389830508.\u001b[0m\n"
     ]
    },
    {
     "name": "stdout",
     "output_type": "stream",
     "text": [
      "index_parallel='0066'\n"
     ]
    },
    {
     "name": "stderr",
     "output_type": "stream",
     "text": [
      "\u001b[32m[I 2022-08-16 02:19:42,203]\u001b[0m Trial 66 finished with value: 6362.978813559322 and parameters: {'kErase': 2, 'kRadius': 2, 'kAnnealingA': -1.9036843742696057, 'kAnnealingB': 0.04894827284992109, 'kAnnealingStart': 35.78511058469552, 'kSkipRatio': 0.6227533328044379, 'kTargetDeterminationTrials': 15, 'kAttractionRatio': 0.02465851226881748, 'kMaxAttractionDistance': 9, 'kStartAttraction': 0.02481771173936941}. Best is trial 28 with value: 6430.453389830508.\u001b[0m\n"
     ]
    },
    {
     "name": "stdout",
     "output_type": "stream",
     "text": [
      "index_parallel='0067'\n"
     ]
    },
    {
     "name": "stderr",
     "output_type": "stream",
     "text": [
      "\u001b[32m[I 2022-08-16 02:24:06,932]\u001b[0m Trial 67 finished with value: 6293.466101694915 and parameters: {'kErase': 2, 'kRadius': 3, 'kAnnealingA': -2.9122464938646773, 'kAnnealingB': 1.1740536820739025, 'kAnnealingStart': 40.14438369815475, 'kSkipRatio': 0.5914360285345795, 'kTargetDeterminationTrials': 9, 'kAttractionRatio': 0.011683064748640606, 'kMaxAttractionDistance': 98, 'kStartAttraction': 0.0012354873298122428}. Best is trial 28 with value: 6430.453389830508.\u001b[0m\n"
     ]
    },
    {
     "name": "stdout",
     "output_type": "stream",
     "text": [
      "index_parallel='0068'\n"
     ]
    },
    {
     "name": "stderr",
     "output_type": "stream",
     "text": [
      "\u001b[32m[I 2022-08-16 02:28:31,181]\u001b[0m Trial 68 finished with value: 6348.864406779661 and parameters: {'kErase': 1, 'kRadius': 2, 'kAnnealingA': 0.8600404636898962, 'kAnnealingB': 0.7491567582369949, 'kAnnealingStart': 27.092189252838104, 'kSkipRatio': 0.6842370651110349, 'kTargetDeterminationTrials': 7, 'kAttractionRatio': 0.018672386532863447, 'kMaxAttractionDistance': 54, 'kStartAttraction': 0.01412704196965188}. Best is trial 28 with value: 6430.453389830508.\u001b[0m\n"
     ]
    },
    {
     "name": "stdout",
     "output_type": "stream",
     "text": [
      "index_parallel='0069'\n"
     ]
    },
    {
     "name": "stderr",
     "output_type": "stream",
     "text": [
      "\u001b[32m[I 2022-08-16 02:32:56,007]\u001b[0m Trial 69 finished with value: 5999.983050847458 and parameters: {'kErase': 2, 'kRadius': 2, 'kAnnealingA': -0.2884283686472737, 'kAnnealingB': 0.5983870885946949, 'kAnnealingStart': 2.3356176281864953, 'kSkipRatio': 0.7870760964675261, 'kTargetDeterminationTrials': 8, 'kAttractionRatio': 0.010049495684561842, 'kMaxAttractionDistance': 70, 'kStartAttraction': 0.0010254943268285567}. Best is trial 28 with value: 6430.453389830508.\u001b[0m\n"
     ]
    },
    {
     "name": "stdout",
     "output_type": "stream",
     "text": [
      "index_parallel='0070'\n"
     ]
    }
   ],
   "source": [
    "study.optimize(\n",
    "    partial(objective, in_dir=in_dir, work_dir=work_dir),\n",
    "    n_trials=3000,\n",
    "    timeout=86400,\n",
    "    callbacks=[callback]\n",
    ")"
   ]
  },
  {
   "cell_type": "code",
   "execution_count": null,
   "id": "700269d2",
   "metadata": {},
   "outputs": [],
   "source": []
  }
 ],
 "metadata": {
  "kernelspec": {
   "display_name": "Python 3 (ipykernel)",
   "language": "python",
   "name": "python3"
  },
  "language_info": {
   "codemirror_mode": {
    "name": "ipython",
    "version": 3
   },
   "file_extension": ".py",
   "mimetype": "text/x-python",
   "name": "python",
   "nbconvert_exporter": "python",
   "pygments_lexer": "ipython3",
   "version": "3.9.12"
  }
 },
 "nbformat": 4,
 "nbformat_minor": 5
}
