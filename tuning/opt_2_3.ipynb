{
 "cells": [
  {
   "cell_type": "code",
   "execution_count": 1,
   "id": "25a1dac8",
   "metadata": {},
   "outputs": [],
   "source": [
    "import re\n",
    "import sys\n",
    "from uuid import uuid1\n",
    "from time import sleep\n",
    "from pprint import pprint\n",
    "from pathlib import Path\n",
    "from tempfile import gettempdir\n",
    "from threading import Thread\n",
    "from functools import partial\n",
    "from subprocess import Popen, PIPE\n",
    "\n",
    "from tqdm.notebook import tqdm\n",
    "import numpy as np\n",
    "import optuna\n",
    "import pandas as pd\n",
    "import matplotlib.pyplot as plt\n",
    "\n",
    "FILENAME = \"main.cpp\""
   ]
  },
  {
   "cell_type": "code",
   "execution_count": 2,
   "id": "3dd4d02e",
   "metadata": {},
   "outputs": [
    {
     "name": "stdout",
     "output_type": "stream",
     "text": [
      "10 variables were found.\n"
     ]
    },
    {
     "data": {
      "text/html": [
       "<div>\n",
       "<style scoped>\n",
       "    .dataframe tbody tr th:only-of-type {\n",
       "        vertical-align: middle;\n",
       "    }\n",
       "\n",
       "    .dataframe tbody tr th {\n",
       "        vertical-align: top;\n",
       "    }\n",
       "\n",
       "    .dataframe thead th {\n",
       "        text-align: right;\n",
       "    }\n",
       "</style>\n",
       "<table border=\"1\" class=\"dataframe\">\n",
       "  <thead>\n",
       "    <tr style=\"text-align: right;\">\n",
       "      <th></th>\n",
       "      <th>name</th>\n",
       "      <th>method</th>\n",
       "      <th>min</th>\n",
       "      <th>max</th>\n",
       "      <th>log</th>\n",
       "      <th>left</th>\n",
       "      <th>right</th>\n",
       "    </tr>\n",
       "  </thead>\n",
       "  <tbody>\n",
       "    <tr>\n",
       "      <th>0</th>\n",
       "      <td>kErase</td>\n",
       "      <td>suggest_int</td>\n",
       "      <td>1.000</td>\n",
       "      <td>5.0</td>\n",
       "      <td>False</td>\n",
       "      <td>static constexpr auto kErase =</td>\n",
       "      <td>;             // OPTIMIZE [1, 5]</td>\n",
       "    </tr>\n",
       "    <tr>\n",
       "      <th>1</th>\n",
       "      <td>kRadius</td>\n",
       "      <td>suggest_int</td>\n",
       "      <td>2.000</td>\n",
       "      <td>6.0</td>\n",
       "      <td>False</td>\n",
       "      <td>static constexpr auto kRadius =</td>\n",
       "      <td>;            // OPTIMIZE [2, 6]</td>\n",
       "    </tr>\n",
       "    <tr>\n",
       "      <th>2</th>\n",
       "      <td>kAnnealingA</td>\n",
       "      <td>suggest_float</td>\n",
       "      <td>-15.000</td>\n",
       "      <td>15.0</td>\n",
       "      <td>False</td>\n",
       "      <td>static constexpr auto kAnnealingA =</td>\n",
       "      <td>;      // OPTIMIZE [-15.0, 15.0]</td>\n",
       "    </tr>\n",
       "    <tr>\n",
       "      <th>3</th>\n",
       "      <td>kAnnealingB</td>\n",
       "      <td>suggest_float</td>\n",
       "      <td>0.000</td>\n",
       "      <td>3.0</td>\n",
       "      <td>False</td>\n",
       "      <td>static constexpr auto kAnnealingB =</td>\n",
       "      <td>;      // OPTIMIZE [0.0, 3.0]</td>\n",
       "    </tr>\n",
       "    <tr>\n",
       "      <th>4</th>\n",
       "      <td>kAnnealingStart</td>\n",
       "      <td>suggest_float</td>\n",
       "      <td>1.000</td>\n",
       "      <td>100.0</td>\n",
       "      <td>True</td>\n",
       "      <td>static constexpr auto kAnnealingStart =</td>\n",
       "      <td>; // OPTIMIZE LOG [1.0, 100.0]</td>\n",
       "    </tr>\n",
       "    <tr>\n",
       "      <th>5</th>\n",
       "      <td>kSkipRatio</td>\n",
       "      <td>suggest_float</td>\n",
       "      <td>0.200</td>\n",
       "      <td>0.8</td>\n",
       "      <td>False</td>\n",
       "      <td>static constexpr auto kSkipRatio =</td>\n",
       "      <td>;       // OPTIMIZE [0.2, 0.8]</td>\n",
       "    </tr>\n",
       "    <tr>\n",
       "      <th>6</th>\n",
       "      <td>kTargetDeterminationTrials</td>\n",
       "      <td>suggest_int</td>\n",
       "      <td>1.000</td>\n",
       "      <td>20.0</td>\n",
       "      <td>True</td>\n",
       "      <td>static constexpr auto kTargetDeterminationTria...</td>\n",
       "      <td>; // OPTIMIZE LOG [1, 20]</td>\n",
       "    </tr>\n",
       "    <tr>\n",
       "      <th>7</th>\n",
       "      <td>kAttractionRatio</td>\n",
       "      <td>suggest_float</td>\n",
       "      <td>0.010</td>\n",
       "      <td>0.9</td>\n",
       "      <td>True</td>\n",
       "      <td>static constexpr auto kAttractionRatio =</td>\n",
       "      <td>;      // OPTIMIZE LOG [0.01, 0.9]</td>\n",
       "    </tr>\n",
       "    <tr>\n",
       "      <th>8</th>\n",
       "      <td>kMaxAttractionDistance</td>\n",
       "      <td>suggest_int</td>\n",
       "      <td>4.000</td>\n",
       "      <td>99.0</td>\n",
       "      <td>True</td>\n",
       "      <td>static constexpr auto kMaxAttractionDistance =</td>\n",
       "      <td>; // OPTIMIZE LOG [4, 99]</td>\n",
       "    </tr>\n",
       "    <tr>\n",
       "      <th>9</th>\n",
       "      <td>kStartAttraction</td>\n",
       "      <td>suggest_float</td>\n",
       "      <td>0.001</td>\n",
       "      <td>0.9</td>\n",
       "      <td>True</td>\n",
       "      <td>static constexpr auto kStartAttraction =</td>\n",
       "      <td>;     // OPTIMIZE LOG [0.001, 0.9]</td>\n",
       "    </tr>\n",
       "  </tbody>\n",
       "</table>\n",
       "</div>"
      ],
      "text/plain": [
       "                         name         method     min    max    log  \\\n",
       "0                      kErase    suggest_int   1.000    5.0  False   \n",
       "1                     kRadius    suggest_int   2.000    6.0  False   \n",
       "2                 kAnnealingA  suggest_float -15.000   15.0  False   \n",
       "3                 kAnnealingB  suggest_float   0.000    3.0  False   \n",
       "4             kAnnealingStart  suggest_float   1.000  100.0   True   \n",
       "5                  kSkipRatio  suggest_float   0.200    0.8  False   \n",
       "6  kTargetDeterminationTrials    suggest_int   1.000   20.0   True   \n",
       "7            kAttractionRatio  suggest_float   0.010    0.9   True   \n",
       "8      kMaxAttractionDistance    suggest_int   4.000   99.0   True   \n",
       "9            kStartAttraction  suggest_float   0.001    0.9   True   \n",
       "\n",
       "                                                left  \\\n",
       "0                    static constexpr auto kErase =    \n",
       "1                   static constexpr auto kRadius =    \n",
       "2               static constexpr auto kAnnealingA =    \n",
       "3               static constexpr auto kAnnealingB =    \n",
       "4           static constexpr auto kAnnealingStart =    \n",
       "5                static constexpr auto kSkipRatio =    \n",
       "6  static constexpr auto kTargetDeterminationTria...   \n",
       "7          static constexpr auto kAttractionRatio =    \n",
       "8    static constexpr auto kMaxAttractionDistance =    \n",
       "9          static constexpr auto kStartAttraction =    \n",
       "\n",
       "                                right  \n",
       "0    ;             // OPTIMIZE [1, 5]  \n",
       "1     ;            // OPTIMIZE [2, 6]  \n",
       "2    ;      // OPTIMIZE [-15.0, 15.0]  \n",
       "3       ;      // OPTIMIZE [0.0, 3.0]  \n",
       "4      ; // OPTIMIZE LOG [1.0, 100.0]  \n",
       "5      ;       // OPTIMIZE [0.2, 0.8]  \n",
       "6           ; // OPTIMIZE LOG [1, 20]  \n",
       "7  ;      // OPTIMIZE LOG [0.01, 0.9]  \n",
       "8           ; // OPTIMIZE LOG [4, 99]  \n",
       "9  ;     // OPTIMIZE LOG [0.001, 0.9]  "
      ]
     },
     "metadata": {},
     "output_type": "display_data"
    }
   ],
   "source": [
    "# ここでエラー出力は何かおかしいかもしれない\n",
    "\n",
    "\n",
    "# パラメータ抽出\n",
    "with open(FILENAME) as f:\n",
    "    answer = f.read()\n",
    "\n",
    "\n",
    "variables_optimize = []\n",
    "\n",
    "for left, value, right, options in re.findall(r\"^([^/\\n]*=\\s*)(.+?)(\\s*;\\s*//(?:.*\\W)?OPTIMIZE(\\W.*))$\", answer, re.MULTILINE):\n",
    "    name = left.replace(\"=\", \"\").strip().split()[-1]\n",
    "    \n",
    "    searched = re.search(r\".*\\[(?P<min>.*),(?P<max>.*)\\].*\", options)\n",
    "    if searched:\n",
    "        min_value = max_value = None\n",
    "        try:\n",
    "            min_value = eval(searched.group(\"min\"))\n",
    "            max_value = eval(searched.group(\"max\"))\n",
    "            assert min_value <= max_value\n",
    "        except Exception as e:\n",
    "            print(f\"searched={searched}\", file=sys.stderr)\n",
    "            print(e, file=sys.stderr)\n",
    "            continue\n",
    "        log = \"LOG\" in options  # 雑、直したほうが良い\n",
    "        if type(min_value) != type(max_value):\n",
    "            print(f\"searched={searched}\", file=sys.stderr)\n",
    "            print(\"types not matched\", file=sys.stderr)\n",
    "            continue\n",
    "        if isinstance(min_value, int):\n",
    "            method = \"suggest_int\"\n",
    "        elif isinstance(min_value, float):\n",
    "            method = \"suggest_float\"\n",
    "        else:\n",
    "            print(f\"searched={searched}\", file=sys.stderr)\n",
    "            print(f\"unknown type ({type(min_value)})\", file=sys.stderr)\n",
    "            continue\n",
    "        variables_optimize.append({\n",
    "            \"name\": name,\n",
    "            \"method\": method,\n",
    "            \"min\": min_value,\n",
    "            \"max\": max_value,\n",
    "            \"log\": log,\n",
    "            \"left\": left,\n",
    "            \"right\": right,\n",
    "        })\n",
    "    elif searched := re.search(r\".*\\{(?P<choices>.*?)\\}.*\", options):\n",
    "        choices = list(map(lambda x: x.strip(), searched.group(\"choices\").split(\",\")))\n",
    "        variables_optimize.append({\n",
    "            \"name\": name,\n",
    "            \"method\": \"suggest_categorical\",\n",
    "            \"choices\": choices,\n",
    "            \"left\": left,\n",
    "            \"right\": right,\n",
    "        })\n",
    "    else:\n",
    "        print(f\"searched={searched}\", file=sys.stderr)\n",
    "        print(f\"pattern was matched but options are incorrect.\", file=sys.stderr)\n",
    "\n",
    "print(len(variables_optimize), \"variables were found.\")\n",
    "if globals().get(\"pd\"):\n",
    "    display(pd.DataFrame(variables_optimize))\n",
    "else:\n",
    "    pprint(variables_optimize)"
   ]
  },
  {
   "cell_type": "code",
   "execution_count": 3,
   "id": "001042b9",
   "metadata": {},
   "outputs": [],
   "source": [
    "def escape(string):  # 正規表現の中でそのまま使いたい文字列をエスケープ\n",
    "    res = !echo '{string}' | sed -e 's/[]\\/$*.^[]/\\\\&/g'\n",
    "    return res[0]\n",
    "\n",
    "def escape_sed(string):  # sed の置換後の文字列用のエスケープ\n",
    "    res = !echo '{string}' | sed -e 's/[\\/&]/\\\\&/g'\n",
    "    return res[0]\n",
    "\n",
    "def read_stream(name, in_file, out_file):\n",
    "    for line in in_file:\n",
    "        print(f\"[{name}] {line.strip()}\", file=out_file)\n",
    "\n",
    "def run(cmd, name):\n",
    "    proc = Popen(cmd, stdout=PIPE, stderr=PIPE, universal_newlines=True, shell=isinstance(cmd, str))\n",
    "    stdout_thread = Thread(target=read_stream, args=(name, proc.stdout, sys.stdout))\n",
    "    stderr_thread = Thread(target=read_stream, args=(name, proc.stderr, sys.stderr))\n",
    "    stdout_thread.start()\n",
    "    stderr_thread.start()\n",
    "    proc.wait()\n",
    "    return proc\n",
    "\n",
    "def objective(trial, in_dir, work_dir):\n",
    "    n_internal_parallel = 3\n",
    "    \n",
    "    index_parallel = f\"{trial.number:04d}\"\n",
    "    print(f\"{index_parallel=}\")\n",
    "    \n",
    "    work_dir = Path(work_dir)\n",
    "    directory_input = Path(in_dir)  # 中のすべてのファイルに対して実行される\n",
    "    #parameters_changed_filename = Path(gettempdir()) / str(uuid1())\n",
    "    parameters_changed_filename = work_dir / f\"{index_parallel}_{FILENAME}\"\n",
    "    \n",
    "    run([\"mkdir\", f\"{work_dir / index_parallel}_out\"], \"mkdir\")\n",
    "    run([\"mkdir\", f\"{work_dir / index_parallel}_score\"], \"mkdir\")\n",
    "    \n",
    "    # ファイル作成\n",
    "    run(f\"cp {FILENAME} {parameters_changed_filename}\", \"cp\")\n",
    "    sed_options = [f\"-i {parameters_changed_filename}\"]\n",
    "    for variable in variables_optimize:\n",
    "        if variable[\"method\"] == \"suggest_categorical\":\n",
    "            val =  trial.suggest_categorical(variable[\"name\"], variable[\"choices\"])\n",
    "        else:\n",
    "            val = getattr(trial, variable[\"method\"])(variable[\"name\"], variable[\"min\"], variable[\"max\"], log=variable[\"log\"])\n",
    "        left = variable[\"left\"]\n",
    "        right = variable[\"right\"]\n",
    "        sed_options.append(f\"\"\"-e 's/^{escape(left)}.*{escape(right)}$/{escape_sed(left)}{val}{escape_sed(right)}/'\"\"\")\n",
    "    command_sed = f\"sed {' '.join(sed_options)}\"\n",
    "    #print(command_sed)\n",
    "    run(command_sed, \"sed\")\n",
    "    \n",
    "    # コンパイル\n",
    "    command_compile = f\"g++ {parameters_changed_filename} -std=gnu++17 -O2 -DONLINE_JUDGE -o {parameters_changed_filename}.out\"\n",
    "    #print(command_compile)\n",
    "    run(command_compile, \"compile\")\n",
    "    # 実行・採点コマンド (@ はファイル名)\n",
    "    command_exec = (\n",
    "        #f\"./a.out < ./tools/in/{i:04d}.txt > {out_file} && ./tools/target/release/vis ./tools/in/{i:04d}.txt {out_file}\"\n",
    "        #f\"../tools/target/release/tester $(pwd)/{parameters_changed_filename}.out < {directory_input}/@ 2>&1 | grep Score\"\n",
    "        #f\"../tools/target/release/tester $(pwd)/{parameters_changed_filename}.out < {directory_input}/@ 2>&1 | grep Score | sed -E s/[^0-9]+// > ./{index_parallel}_score/@;\"\n",
    "        #f\"cargo run --release --manifest-path ../tools/Cargo.toml --bin tester {directory_input}/@ $(pwd)/{parameters_changed_filename}.out 2>&1 | grep Score | sed -E s/[^0-9]+// > ./{index_parallel}_score/@;\"\n",
    "        f\"./{parameters_changed_filename}.out < {directory_input}/@ > {work_dir / index_parallel}_out/@;\"\n",
    "        f\"../tools/target/release/vis {directory_input}/@ {work_dir / index_parallel}_out/@ 2> /dev/null > {work_dir / index_parallel}_score/@;\"\n",
    "    )\n",
    "    # 並列実行 (sed はパスのディレクトリ部分を消してファイル名にしてる)\n",
    "    run(f\"find {directory_input}/* | sed 's!^.*/!!' | xargs -I@ -P {n_internal_parallel} sh -c '{command_exec}'\", \"exec\")\n",
    "    \n",
    "    # 集計\n",
    "    scores = []\n",
    "    for file_path in Path(f\"{work_dir / index_parallel}_score/\").iterdir():  \n",
    "        with open(file_path) as f:\n",
    "            scores.append(int(f.readline().strip().split()[-1]))\n",
    "    mean_score = sum(scores) / len(scores)\n",
    "    \n",
    "    # 後始末\n",
    "    run(f\"rm -rf {work_dir / index_parallel}_out\", \"rm\")\n",
    "    run(f\"rm -rf {work_dir / index_parallel}_score\", \"rm\")\n",
    "    #run(f\"rm {parameters_changed_filename}\", \"rm\")\n",
    "    run(f\"rm {parameters_changed_filename}.out\", \"rm\")\n",
    "    \n",
    "    return mean_score"
   ]
  },
  {
   "cell_type": "code",
   "execution_count": 4,
   "id": "2d2e133c",
   "metadata": {},
   "outputs": [
    {
     "name": "stderr",
     "output_type": "stream",
     "text": [
      "\u001b[32m[I 2022-08-15 21:23:57,580]\u001b[0m A new study created in RDB with name: study_2_3\u001b[0m\n"
     ]
    }
   ],
   "source": [
    "K = 2\n",
    "N_CLASS = 3\n",
    "\n",
    "in_dir = Path(f\"in_{K}_{N_CLASS}\")\n",
    "work_dir = Path(f\"work_{K}_{N_CLASS}\")\n",
    "\n",
    "study_name = f\"study_{K}_{N_CLASS}\"\n",
    "storage_path = work_dir / \"study.db\"\n",
    "storage = f\"sqlite:///{storage_path}\"\n",
    "study = optuna.create_study(storage=storage, load_if_exists=True, study_name=study_name, direction=\"maximize\")\n",
    "\n",
    "def callback(study, trial):\n",
    "    try:\n",
    "        index_parallel = f\"{trial.number:04d}\"\n",
    "        parameters_changed_filename = work_dir / f\"{index_parallel}_{FILENAME}\"\n",
    "        if study.best_value == trial.value:\n",
    "            print(f\"Updated! {study.best_value}\")\n",
    "            !cp {parameters_changed_filename} {work_dir / \"best_parameters.cpp\"}\n",
    "        !rm {parameters_changed_filename}\n",
    "    except:\n",
    "        print(\":(\")\n"
   ]
  },
  {
   "cell_type": "code",
   "execution_count": null,
   "id": "61c2901d",
   "metadata": {},
   "outputs": [
    {
     "name": "stdout",
     "output_type": "stream",
     "text": [
      "index_parallel='0000'\n"
     ]
    },
    {
     "name": "stderr",
     "output_type": "stream",
     "text": [
      "\u001b[32m[I 2022-08-15 21:28:22,784]\u001b[0m Trial 0 finished with value: 5918.021186440678 and parameters: {'kErase': 4, 'kRadius': 5, 'kAnnealingA': -5.53158913538457, 'kAnnealingB': 1.4795444611648616, 'kAnnealingStart': 3.3328835598934776, 'kSkipRatio': 0.6112164502259758, 'kTargetDeterminationTrials': 6, 'kAttractionRatio': 0.01947757959116958, 'kMaxAttractionDistance': 26, 'kStartAttraction': 0.02679252590892547}. Best is trial 0 with value: 5918.021186440678.\u001b[0m\n"
     ]
    },
    {
     "name": "stdout",
     "output_type": "stream",
     "text": [
      "Updated! 5918.021186440678\n",
      "index_parallel='0001'\n"
     ]
    },
    {
     "name": "stderr",
     "output_type": "stream",
     "text": [
      "\u001b[32m[I 2022-08-15 21:32:47,071]\u001b[0m Trial 1 finished with value: 6032.161016949152 and parameters: {'kErase': 1, 'kRadius': 5, 'kAnnealingA': 1.7731636510216973, 'kAnnealingB': 1.150749865020388, 'kAnnealingStart': 5.579784216220708, 'kSkipRatio': 0.7093818257072759, 'kTargetDeterminationTrials': 2, 'kAttractionRatio': 0.022621242675732657, 'kMaxAttractionDistance': 32, 'kStartAttraction': 0.0019895338795650357}. Best is trial 1 with value: 6032.161016949152.\u001b[0m\n"
     ]
    },
    {
     "name": "stdout",
     "output_type": "stream",
     "text": [
      "Updated! 6032.161016949152\n",
      "index_parallel='0002'\n"
     ]
    },
    {
     "name": "stderr",
     "output_type": "stream",
     "text": [
      "\u001b[32m[I 2022-08-15 21:37:11,641]\u001b[0m Trial 2 finished with value: 6052.076271186441 and parameters: {'kErase': 2, 'kRadius': 3, 'kAnnealingA': 2.3789007279272454, 'kAnnealingB': 2.512388435540855, 'kAnnealingStart': 1.8570185406952033, 'kSkipRatio': 0.29483204954647313, 'kTargetDeterminationTrials': 18, 'kAttractionRatio': 0.015090329738646019, 'kMaxAttractionDistance': 6, 'kStartAttraction': 0.1868223252571029}. Best is trial 2 with value: 6052.076271186441.\u001b[0m\n"
     ]
    },
    {
     "name": "stdout",
     "output_type": "stream",
     "text": [
      "Updated! 6052.076271186441\n",
      "index_parallel='0003'\n"
     ]
    },
    {
     "name": "stderr",
     "output_type": "stream",
     "text": [
      "\u001b[32m[I 2022-08-15 21:41:36,734]\u001b[0m Trial 3 finished with value: 5772.516949152542 and parameters: {'kErase': 4, 'kRadius': 3, 'kAnnealingA': -9.15557849034234, 'kAnnealingB': 0.9675400949754605, 'kAnnealingStart': 3.032332083704067, 'kSkipRatio': 0.5058566744320387, 'kTargetDeterminationTrials': 17, 'kAttractionRatio': 0.37823011978803195, 'kMaxAttractionDistance': 94, 'kStartAttraction': 0.0011704717927657378}. Best is trial 2 with value: 6052.076271186441.\u001b[0m\n"
     ]
    },
    {
     "name": "stdout",
     "output_type": "stream",
     "text": [
      "index_parallel='0004'\n"
     ]
    },
    {
     "name": "stderr",
     "output_type": "stream",
     "text": [
      "\u001b[32m[I 2022-08-15 21:46:01,715]\u001b[0m Trial 4 finished with value: 4979.60593220339 and parameters: {'kErase': 4, 'kRadius': 2, 'kAnnealingA': 8.73149174528012, 'kAnnealingB': 2.2822525418726833, 'kAnnealingStart': 45.998856245983724, 'kSkipRatio': 0.23932943790101432, 'kTargetDeterminationTrials': 1, 'kAttractionRatio': 0.013623275819413085, 'kMaxAttractionDistance': 32, 'kStartAttraction': 0.03592303470585375}. Best is trial 2 with value: 6052.076271186441.\u001b[0m\n"
     ]
    },
    {
     "name": "stdout",
     "output_type": "stream",
     "text": [
      "index_parallel='0005'\n"
     ]
    },
    {
     "name": "stderr",
     "output_type": "stream",
     "text": [
      "\u001b[32m[I 2022-08-15 21:50:26,786]\u001b[0m Trial 5 finished with value: 5545.860169491525 and parameters: {'kErase': 4, 'kRadius': 2, 'kAnnealingA': 2.19356063392744, 'kAnnealingB': 2.504683818172497, 'kAnnealingStart': 5.595459499445428, 'kSkipRatio': 0.28807254698268786, 'kTargetDeterminationTrials': 1, 'kAttractionRatio': 0.07657152748926728, 'kMaxAttractionDistance': 11, 'kStartAttraction': 0.0825929518925413}. Best is trial 2 with value: 6052.076271186441.\u001b[0m\n"
     ]
    },
    {
     "name": "stdout",
     "output_type": "stream",
     "text": [
      "index_parallel='0006'\n"
     ]
    },
    {
     "name": "stderr",
     "output_type": "stream",
     "text": [
      "\u001b[32m[I 2022-08-15 21:54:51,687]\u001b[0m Trial 6 finished with value: 5753.466101694915 and parameters: {'kErase': 3, 'kRadius': 5, 'kAnnealingA': -14.8033637502941, 'kAnnealingB': 1.7835355417060885, 'kAnnealingStart': 77.12265074017715, 'kSkipRatio': 0.3072139037432332, 'kTargetDeterminationTrials': 9, 'kAttractionRatio': 0.07207509576082351, 'kMaxAttractionDistance': 4, 'kStartAttraction': 0.0015434909675055746}. Best is trial 2 with value: 6052.076271186441.\u001b[0m\n"
     ]
    },
    {
     "name": "stdout",
     "output_type": "stream",
     "text": [
      "index_parallel='0007'\n"
     ]
    },
    {
     "name": "stderr",
     "output_type": "stream",
     "text": [
      "\u001b[32m[I 2022-08-15 21:59:16,524]\u001b[0m Trial 7 finished with value: 6001.614406779661 and parameters: {'kErase': 2, 'kRadius': 3, 'kAnnealingA': -3.2027274583150334, 'kAnnealingB': 0.7457743442155362, 'kAnnealingStart': 2.817308817759076, 'kSkipRatio': 0.5680307913847271, 'kTargetDeterminationTrials': 4, 'kAttractionRatio': 0.040319072108764814, 'kMaxAttractionDistance': 12, 'kStartAttraction': 0.0021453994775948193}. Best is trial 2 with value: 6052.076271186441.\u001b[0m\n"
     ]
    },
    {
     "name": "stdout",
     "output_type": "stream",
     "text": [
      "index_parallel='0008'\n"
     ]
    },
    {
     "name": "stderr",
     "output_type": "stream",
     "text": [
      "\u001b[32m[I 2022-08-15 22:03:41,905]\u001b[0m Trial 8 finished with value: 5881.3050847457625 and parameters: {'kErase': 4, 'kRadius': 5, 'kAnnealingA': 7.110560401756281, 'kAnnealingB': 2.1392795844697856, 'kAnnealingStart': 35.18327068041988, 'kSkipRatio': 0.7363642794622594, 'kTargetDeterminationTrials': 5, 'kAttractionRatio': 0.5795811800707112, 'kMaxAttractionDistance': 31, 'kStartAttraction': 0.034112309629404994}. Best is trial 2 with value: 6052.076271186441.\u001b[0m\n"
     ]
    },
    {
     "name": "stdout",
     "output_type": "stream",
     "text": [
      "index_parallel='0009'\n"
     ]
    },
    {
     "name": "stderr",
     "output_type": "stream",
     "text": [
      "\u001b[32m[I 2022-08-15 22:08:06,603]\u001b[0m Trial 9 finished with value: 5848.330508474576 and parameters: {'kErase': 3, 'kRadius': 3, 'kAnnealingA': 10.327490646839454, 'kAnnealingB': 0.16455024059005408, 'kAnnealingStart': 1.212607772355721, 'kSkipRatio': 0.2992503265140122, 'kTargetDeterminationTrials': 1, 'kAttractionRatio': 0.016518097192931045, 'kMaxAttractionDistance': 8, 'kStartAttraction': 0.006175275012199115}. Best is trial 2 with value: 6052.076271186441.\u001b[0m\n"
     ]
    },
    {
     "name": "stdout",
     "output_type": "stream",
     "text": [
      "index_parallel='0010'\n"
     ]
    },
    {
     "name": "stderr",
     "output_type": "stream",
     "text": [
      "\u001b[32m[I 2022-08-15 22:12:31,012]\u001b[0m Trial 10 finished with value: 6128.245762711865 and parameters: {'kErase': 1, 'kRadius': 6, 'kAnnealingA': 3.3485348385975913, 'kAnnealingB': 2.747215315622788, 'kAnnealingStart': 14.843829788477228, 'kSkipRatio': 0.38322773911669805, 'kTargetDeterminationTrials': 15, 'kAttractionRatio': 0.18562679706889537, 'kMaxAttractionDistance': 4, 'kStartAttraction': 0.7464008611829007}. Best is trial 10 with value: 6128.245762711865.\u001b[0m\n"
     ]
    },
    {
     "name": "stdout",
     "output_type": "stream",
     "text": [
      "Updated! 6128.245762711865\n",
      "index_parallel='0011'\n"
     ]
    },
    {
     "name": "stderr",
     "output_type": "stream",
     "text": [
      "\u001b[32m[I 2022-08-15 22:16:55,153]\u001b[0m Trial 11 finished with value: 5813.343220338983 and parameters: {'kErase': 1, 'kRadius': 6, 'kAnnealingA': 14.582047212982157, 'kAnnealingB': 2.9467613762970304, 'kAnnealingStart': 17.193170116079624, 'kSkipRatio': 0.4063731589434887, 'kTargetDeterminationTrials': 20, 'kAttractionRatio': 0.1967805031355468, 'kMaxAttractionDistance': 4, 'kStartAttraction': 0.6254116234662984}. Best is trial 10 with value: 6128.245762711865.\u001b[0m\n"
     ]
    },
    {
     "name": "stdout",
     "output_type": "stream",
     "text": [
      "index_parallel='0012'\n"
     ]
    },
    {
     "name": "stderr",
     "output_type": "stream",
     "text": [
      "\u001b[32m[I 2022-08-15 22:21:20,015]\u001b[0m Trial 12 finished with value: 6041.449152542373 and parameters: {'kErase': 2, 'kRadius': 4, 'kAnnealingA': 3.727312804466721, 'kAnnealingB': 2.9703020192383187, 'kAnnealingStart': 14.218533853140668, 'kSkipRatio': 0.41371731317779176, 'kTargetDeterminationTrials': 11, 'kAttractionRatio': 0.16165052714844277, 'kMaxAttractionDistance': 6, 'kStartAttraction': 0.8469973315800864}. Best is trial 10 with value: 6128.245762711865.\u001b[0m\n"
     ]
    },
    {
     "name": "stdout",
     "output_type": "stream",
     "text": [
      "index_parallel='0013'\n"
     ]
    },
    {
     "name": "stderr",
     "output_type": "stream",
     "text": [
      "\u001b[32m[I 2022-08-15 22:25:44,565]\u001b[0m Trial 13 finished with value: 6028.377118644068 and parameters: {'kErase': 2, 'kRadius': 6, 'kAnnealingA': -2.1018659894167113, 'kAnnealingB': 2.5787742994946434, 'kAnnealingStart': 1.3901968506280296, 'kSkipRatio': 0.39695388327529196, 'kTargetDeterminationTrials': 11, 'kAttractionRatio': 0.20208936111742534, 'kMaxAttractionDistance': 6, 'kStartAttraction': 0.22031280500872907}. Best is trial 10 with value: 6128.245762711865.\u001b[0m\n"
     ]
    },
    {
     "name": "stdout",
     "output_type": "stream",
     "text": [
      "index_parallel='0014'\n"
     ]
    },
    {
     "name": "stderr",
     "output_type": "stream",
     "text": [
      "\u001b[32m[I 2022-08-15 22:30:08,785]\u001b[0m Trial 14 finished with value: 6248.3050847457625 and parameters: {'kErase': 1, 'kRadius': 4, 'kAnnealingA': 5.436705930125312, 'kAnnealingB': 2.000695760060357, 'kAnnealingStart': 9.133512816911974, 'kSkipRatio': 0.36713107612271983, 'kTargetDeterminationTrials': 2, 'kAttractionRatio': 0.0419481787135801, 'kMaxAttractionDistance': 15, 'kStartAttraction': 0.2515792620348577}. Best is trial 14 with value: 6248.3050847457625.\u001b[0m\n"
     ]
    },
    {
     "name": "stdout",
     "output_type": "stream",
     "text": [
      "Updated! 6248.3050847457625\n",
      "index_parallel='0015'\n"
     ]
    },
    {
     "name": "stderr",
     "output_type": "stream",
     "text": [
      "\u001b[32m[I 2022-08-15 22:34:33,565]\u001b[0m Trial 15 finished with value: 6017.6949152542375 and parameters: {'kErase': 1, 'kRadius': 4, 'kAnnealingA': 5.637642804196314, 'kAnnealingB': 1.8375529805996875, 'kAnnealingStart': 22.672090673397125, 'kSkipRatio': 0.469224187990225, 'kTargetDeterminationTrials': 2, 'kAttractionRatio': 0.0428114665723714, 'kMaxAttractionDistance': 56, 'kStartAttraction': 0.3331035574209765}. Best is trial 14 with value: 6248.3050847457625.\u001b[0m\n"
     ]
    },
    {
     "name": "stdout",
     "output_type": "stream",
     "text": [
      "index_parallel='0016'\n"
     ]
    },
    {
     "name": "stderr",
     "output_type": "stream",
     "text": [
      "\u001b[32m[I 2022-08-15 22:38:58,876]\u001b[0m Trial 16 finished with value: 5635.021186440678 and parameters: {'kErase': 5, 'kRadius': 6, 'kAnnealingA': 14.085025200124303, 'kAnnealingB': 1.8830240401479288, 'kAnnealingStart': 10.229901886511517, 'kSkipRatio': 0.3679393133934506, 'kTargetDeterminationTrials': 2, 'kAttractionRatio': 0.8702139137689487, 'kMaxAttractionDistance': 15, 'kStartAttraction': 0.08755692798001566}. Best is trial 14 with value: 6248.3050847457625.\u001b[0m\n"
     ]
    },
    {
     "name": "stdout",
     "output_type": "stream",
     "text": [
      "index_parallel='0017'\n"
     ]
    },
    {
     "name": "stderr",
     "output_type": "stream",
     "text": [
      "\u001b[32m[I 2022-08-15 22:43:23,034]\u001b[0m Trial 17 finished with value: 6253.614406779661 and parameters: {'kErase': 1, 'kRadius': 4, 'kAnnealingA': 9.94523185934872, 'kAnnealingB': 1.4306422216825831, 'kAnnealingStart': 6.717467213443354, 'kSkipRatio': 0.4663300457754705, 'kTargetDeterminationTrials': 3, 'kAttractionRatio': 0.11237037475965513, 'kMaxAttractionDistance': 20, 'kStartAttraction': 0.4187528889086594}. Best is trial 17 with value: 6253.614406779661.\u001b[0m\n"
     ]
    },
    {
     "name": "stdout",
     "output_type": "stream",
     "text": [
      "Updated! 6253.614406779661\n",
      "index_parallel='0018'\n"
     ]
    },
    {
     "name": "stderr",
     "output_type": "stream",
     "text": [
      "\u001b[32m[I 2022-08-15 22:47:47,505]\u001b[0m Trial 18 finished with value: 5822.372881355932 and parameters: {'kErase': 1, 'kRadius': 4, 'kAnnealingA': 11.740683297791577, 'kAnnealingB': 1.397011856220096, 'kAnnealingStart': 6.91946396949441, 'kSkipRatio': 0.20276732995787655, 'kTargetDeterminationTrials': 3, 'kAttractionRatio': 0.0381067315957209, 'kMaxAttractionDistance': 18, 'kStartAttraction': 0.011337468974025612}. Best is trial 17 with value: 6253.614406779661.\u001b[0m\n"
     ]
    },
    {
     "name": "stdout",
     "output_type": "stream",
     "text": [
      "index_parallel='0019'\n"
     ]
    },
    {
     "name": "stderr",
     "output_type": "stream",
     "text": [
      "\u001b[32m[I 2022-08-15 22:52:12,216]\u001b[0m Trial 19 finished with value: 6213.4152542372885 and parameters: {'kErase': 2, 'kRadius': 4, 'kAnnealingA': 6.952775149720005, 'kAnnealingB': 0.5049862558595195, 'kAnnealingStart': 8.848414734950994, 'kSkipRatio': 0.5031893574448524, 'kTargetDeterminationTrials': 3, 'kAttractionRatio': 0.11528755325039383, 'kMaxAttractionDistance': 56, 'kStartAttraction': 0.1019167515100001}. Best is trial 17 with value: 6253.614406779661.\u001b[0m\n"
     ]
    },
    {
     "name": "stdout",
     "output_type": "stream",
     "text": [
      "index_parallel='0020'\n"
     ]
    },
    {
     "name": "stderr",
     "output_type": "stream",
     "text": [
      "\u001b[32m[I 2022-08-15 22:56:36,858]\u001b[0m Trial 20 finished with value: 6158.029661016949 and parameters: {'kErase': 3, 'kRadius': 4, 'kAnnealingA': 11.597531195502278, 'kAnnealingB': 1.2075918895028996, 'kAnnealingStart': 4.200111108919273, 'kSkipRatio': 0.616181391855489, 'kTargetDeterminationTrials': 2, 'kAttractionRatio': 0.04999616125666819, 'kMaxAttractionDistance': 21, 'kStartAttraction': 0.34328465701120925}. Best is trial 17 with value: 6253.614406779661.\u001b[0m\n"
     ]
    },
    {
     "name": "stdout",
     "output_type": "stream",
     "text": [
      "index_parallel='0021'\n"
     ]
    },
    {
     "name": "stderr",
     "output_type": "stream",
     "text": [
      "\u001b[32m[I 2022-08-15 23:01:02,062]\u001b[0m Trial 21 finished with value: 6231.389830508475 and parameters: {'kErase': 2, 'kRadius': 4, 'kAnnealingA': 7.176940963235495, 'kAnnealingB': 0.43846104913588246, 'kAnnealingStart': 8.955807053499212, 'kSkipRatio': 0.4882836956955284, 'kTargetDeterminationTrials': 3, 'kAttractionRatio': 0.11882237713838979, 'kMaxAttractionDistance': 50, 'kStartAttraction': 0.0880507439039385}. Best is trial 17 with value: 6253.614406779661.\u001b[0m\n"
     ]
    },
    {
     "name": "stdout",
     "output_type": "stream",
     "text": [
      "index_parallel='0022'\n"
     ]
    },
    {
     "name": "stderr",
     "output_type": "stream",
     "text": [
      "\u001b[32m[I 2022-08-15 23:05:26,411]\u001b[0m Trial 22 finished with value: 5981.885593220339 and parameters: {'kErase': 1, 'kRadius': 4, 'kAnnealingA': 9.171585264858082, 'kAnnealingB': 0.13686781447262786, 'kAnnealingStart': 28.951841583631364, 'kSkipRatio': 0.45458412154585254, 'kTargetDeterminationTrials': 3, 'kAttractionRatio': 0.10999840450485157, 'kMaxAttractionDistance': 47, 'kStartAttraction': 0.1531696808702262}. Best is trial 17 with value: 6253.614406779661.\u001b[0m\n"
     ]
    },
    {
     "name": "stdout",
     "output_type": "stream",
     "text": [
      "index_parallel='0023'\n"
     ]
    },
    {
     "name": "stderr",
     "output_type": "stream",
     "text": [
      "\u001b[32m[I 2022-08-15 23:09:50,813]\u001b[0m Trial 23 finished with value: 6266.877118644068 and parameters: {'kErase': 2, 'kRadius': 3, 'kAnnealingA': -0.8019535443017425, 'kAnnealingB': 0.6247736433003233, 'kAnnealingStart': 11.386349858225994, 'kSkipRatio': 0.5546546768394601, 'kTargetDeterminationTrials': 7, 'kAttractionRatio': 0.028937980688652762, 'kMaxAttractionDistance': 99, 'kStartAttraction': 0.37954028997872863}. Best is trial 23 with value: 6266.877118644068.\u001b[0m\n"
     ]
    },
    {
     "name": "stdout",
     "output_type": "stream",
     "text": [
      "Updated! 6266.877118644068\n",
      "index_parallel='0024'\n"
     ]
    },
    {
     "name": "stderr",
     "output_type": "stream",
     "text": [
      "\u001b[32m[I 2022-08-15 23:14:15,565]\u001b[0m Trial 24 finished with value: 6260.088983050848 and parameters: {'kErase': 1, 'kRadius': 3, 'kAnnealingA': 0.1545536176546724, 'kAnnealingB': 1.6480685760817837, 'kAnnealingStart': 12.129325142005271, 'kSkipRatio': 0.561747516172928, 'kTargetDeterminationTrials': 8, 'kAttractionRatio': 0.03306858086673276, 'kMaxAttractionDistance': 88, 'kStartAttraction': 0.455843349354782}. Best is trial 23 with value: 6266.877118644068.\u001b[0m\n"
     ]
    },
    {
     "name": "stdout",
     "output_type": "stream",
     "text": [
      "index_parallel='0025'\n"
     ]
    },
    {
     "name": "stderr",
     "output_type": "stream",
     "text": [
      "\u001b[32m[I 2022-08-15 23:18:40,625]\u001b[0m Trial 25 finished with value: 6300.012711864407 and parameters: {'kErase': 2, 'kRadius': 3, 'kAnnealingA': -0.9940395939776593, 'kAnnealingB': 1.6826684060697847, 'kAnnealingStart': 20.47517298249365, 'kSkipRatio': 0.5666965649660051, 'kTargetDeterminationTrials': 7, 'kAttractionRatio': 0.026929011368498273, 'kMaxAttractionDistance': 87, 'kStartAttraction': 0.4763550048052562}. Best is trial 25 with value: 6300.012711864407.\u001b[0m\n"
     ]
    },
    {
     "name": "stdout",
     "output_type": "stream",
     "text": [
      "Updated! 6300.012711864407\n",
      "index_parallel='0026'\n"
     ]
    },
    {
     "name": "stderr",
     "output_type": "stream",
     "text": [
      "\u001b[32m[I 2022-08-15 23:23:05,831]\u001b[0m Trial 26 finished with value: 6298.75 and parameters: {'kErase': 3, 'kRadius': 2, 'kAnnealingA': -0.8495073738918631, 'kAnnealingB': 1.6518057379313142, 'kAnnealingStart': 56.53536316378857, 'kSkipRatio': 0.6794971095127954, 'kTargetDeterminationTrials': 7, 'kAttractionRatio': 0.027286826386125288, 'kMaxAttractionDistance': 95, 'kStartAttraction': 0.4796408825247014}. Best is trial 25 with value: 6300.012711864407.\u001b[0m\n"
     ]
    },
    {
     "name": "stdout",
     "output_type": "stream",
     "text": [
      "index_parallel='0027'\n"
     ]
    },
    {
     "name": "stderr",
     "output_type": "stream",
     "text": [
      "\u001b[32m[I 2022-08-15 23:27:30,624]\u001b[0m Trial 27 finished with value: 6229.207627118644 and parameters: {'kErase': 3, 'kRadius': 2, 'kAnnealingA': -6.855490136836127, 'kAnnealingB': 0.8809977078737399, 'kAnnealingStart': 97.67688866786547, 'kSkipRatio': 0.6702061846970816, 'kTargetDeterminationTrials': 6, 'kAttractionRatio': 0.025819941729026376, 'kMaxAttractionDistance': 73, 'kStartAttraction': 0.14060613036097358}. Best is trial 25 with value: 6300.012711864407.\u001b[0m\n"
     ]
    },
    {
     "name": "stdout",
     "output_type": "stream",
     "text": [
      "index_parallel='0028'\n"
     ]
    },
    {
     "name": "stderr",
     "output_type": "stream",
     "text": [
      "\u001b[32m[I 2022-08-15 23:31:55,538]\u001b[0m Trial 28 finished with value: 6430.453389830508 and parameters: {'kErase': 3, 'kRadius': 2, 'kAnnealingA': -2.1300239771852327, 'kAnnealingB': 1.1882521215813304, 'kAnnealingStart': 54.59628288805305, 'kSkipRatio': 0.780697900228358, 'kTargetDeterminationTrials': 6, 'kAttractionRatio': 0.011841665949740107, 'kMaxAttractionDistance': 69, 'kStartAttraction': 0.45677035999187005}. Best is trial 28 with value: 6430.453389830508.\u001b[0m\n"
     ]
    },
    {
     "name": "stdout",
     "output_type": "stream",
     "text": [
      "Updated! 6430.453389830508\n",
      "index_parallel='0029'\n"
     ]
    },
    {
     "name": "stderr",
     "output_type": "stream",
     "text": [
      "\u001b[32m[I 2022-08-15 23:36:20,774]\u001b[0m Trial 29 finished with value: 6391.029661016949 and parameters: {'kErase': 3, 'kRadius': 2, 'kAnnealingA': -4.511538943826383, 'kAnnealingB': 1.583897120171732, 'kAnnealingStart': 57.13992151667959, 'kSkipRatio': 0.7939867242309492, 'kTargetDeterminationTrials': 5, 'kAttractionRatio': 0.012175338846820821, 'kMaxAttractionDistance': 72, 'kStartAttraction': 0.045525013452122204}. Best is trial 28 with value: 6430.453389830508.\u001b[0m\n"
     ]
    },
    {
     "name": "stdout",
     "output_type": "stream",
     "text": [
      "index_parallel='0030'\n"
     ]
    },
    {
     "name": "stderr",
     "output_type": "stream",
     "text": [
      "\u001b[32m[I 2022-08-15 23:40:45,843]\u001b[0m Trial 30 finished with value: 6187.317796610169 and parameters: {'kErase': 5, 'kRadius': 2, 'kAnnealingA': -7.978723883256814, 'kAnnealingB': 1.2686411466431409, 'kAnnealingStart': 55.056674612959064, 'kSkipRatio': 0.7940843168458163, 'kTargetDeterminationTrials': 5, 'kAttractionRatio': 0.010631365310575147, 'kMaxAttractionDistance': 67, 'kStartAttraction': 0.017562895805098844}. Best is trial 28 with value: 6430.453389830508.\u001b[0m\n"
     ]
    },
    {
     "name": "stdout",
     "output_type": "stream",
     "text": [
      "index_parallel='0031'\n"
     ]
    },
    {
     "name": "stderr",
     "output_type": "stream",
     "text": [
      "\u001b[32m[I 2022-08-15 23:45:10,702]\u001b[0m Trial 31 finished with value: 6371.28813559322 and parameters: {'kErase': 3, 'kRadius': 2, 'kAnnealingA': -4.624742848359832, 'kAnnealingB': 1.6318762024156699, 'kAnnealingStart': 59.8308496309981, 'kSkipRatio': 0.7949724080748122, 'kTargetDeterminationTrials': 5, 'kAttractionRatio': 0.010581590020916186, 'kMaxAttractionDistance': 40, 'kStartAttraction': 0.004372539785478018}. Best is trial 28 with value: 6430.453389830508.\u001b[0m\n"
     ]
    },
    {
     "name": "stdout",
     "output_type": "stream",
     "text": [
      "index_parallel='0032'\n"
     ]
    },
    {
     "name": "stderr",
     "output_type": "stream",
     "text": [
      "\u001b[32m[I 2022-08-15 23:49:35,505]\u001b[0m Trial 32 finished with value: 6355.0 and parameters: {'kErase': 3, 'kRadius': 2, 'kAnnealingA': -3.9824050258139727, 'kAnnealingB': 1.616229070536843, 'kAnnealingStart': 36.60520178920262, 'kSkipRatio': 0.7965851657813181, 'kTargetDeterminationTrials': 4, 'kAttractionRatio': 0.010455806657854139, 'kMaxAttractionDistance': 42, 'kStartAttraction': 0.004840148659745995}. Best is trial 28 with value: 6430.453389830508.\u001b[0m\n"
     ]
    },
    {
     "name": "stdout",
     "output_type": "stream",
     "text": [
      "index_parallel='0033'\n"
     ]
    },
    {
     "name": "stderr",
     "output_type": "stream",
     "text": [
      "\u001b[32m[I 2022-08-15 23:54:00,568]\u001b[0m Trial 33 finished with value: 6362.762711864407 and parameters: {'kErase': 3, 'kRadius': 2, 'kAnnealingA': -3.9700316089970262, 'kAnnealingB': 1.1043420605510068, 'kAnnealingStart': 37.52478403789702, 'kSkipRatio': 0.7960775152167148, 'kTargetDeterminationTrials': 4, 'kAttractionRatio': 0.010777396498403063, 'kMaxAttractionDistance': 43, 'kStartAttraction': 0.004307224581142862}. Best is trial 28 with value: 6430.453389830508.\u001b[0m\n"
     ]
    },
    {
     "name": "stdout",
     "output_type": "stream",
     "text": [
      "index_parallel='0034'\n"
     ]
    },
    {
     "name": "stderr",
     "output_type": "stream",
     "text": [
      "\u001b[32m[I 2022-08-15 23:58:25,363]\u001b[0m Trial 34 finished with value: 6211.173728813559 and parameters: {'kErase': 3, 'kRadius': 2, 'kAnnealingA': -10.891932040445733, 'kAnnealingB': 1.0562919204317418, 'kAnnealingStart': 72.45161888093575, 'kSkipRatio': 0.7430628942405624, 'kTargetDeterminationTrials': 4, 'kAttractionRatio': 0.018804526422602073, 'kMaxAttractionDistance': 38, 'kStartAttraction': 0.003159376378856696}. Best is trial 28 with value: 6430.453389830508.\u001b[0m\n"
     ]
    },
    {
     "name": "stdout",
     "output_type": "stream",
     "text": [
      "index_parallel='0035'\n"
     ]
    },
    {
     "name": "stderr",
     "output_type": "stream",
     "text": [
      "\u001b[32m[I 2022-08-16 00:02:50,373]\u001b[0m Trial 35 finished with value: 6337.25 and parameters: {'kErase': 3, 'kRadius': 2, 'kAnnealingA': -5.127447540177575, 'kAnnealingB': 1.4146058113159135, 'kAnnealingStart': 45.273672371512, 'kSkipRatio': 0.7588834769315128, 'kTargetDeterminationTrials': 5, 'kAttractionRatio': 0.013449316002732317, 'kMaxAttractionDistance': 68, 'kStartAttraction': 0.008074527639590509}. Best is trial 28 with value: 6430.453389830508.\u001b[0m\n"
     ]
    },
    {
     "name": "stdout",
     "output_type": "stream",
     "text": [
      "index_parallel='0036'\n"
     ]
    },
    {
     "name": "stderr",
     "output_type": "stream",
     "text": [
      "\u001b[32m[I 2022-08-16 00:07:15,302]\u001b[0m Trial 36 finished with value: 6111.8983050847455 and parameters: {'kErase': 4, 'kRadius': 2, 'kAnnealingA': -10.360597991099453, 'kAnnealingB': 1.1045980234114732, 'kAnnealingStart': 92.73804273479206, 'kSkipRatio': 0.6925043550002588, 'kTargetDeterminationTrials': 10, 'kAttractionRatio': 0.012852270925143008, 'kMaxAttractionDistance': 27, 'kStartAttraction': 0.05054282567413825}. Best is trial 28 with value: 6430.453389830508.\u001b[0m\n"
     ]
    },
    {
     "name": "stdout",
     "output_type": "stream",
     "text": [
      "index_parallel='0037'\n"
     ]
    },
    {
     "name": "stderr",
     "output_type": "stream",
     "text": [
      "\u001b[32m[I 2022-08-16 00:11:40,610]\u001b[0m Trial 37 finished with value: 6091.703389830508 and parameters: {'kErase': 4, 'kRadius': 2, 'kAnnealingA': -5.944821047311314, 'kAnnealingB': 0.9271248379257926, 'kAnnealingStart': 63.543030259918226, 'kSkipRatio': 0.6373176080274335, 'kTargetDeterminationTrials': 4, 'kAttractionRatio': 0.019837972562951396, 'kMaxAttractionDistance': 39, 'kStartAttraction': 0.020121507765356154}. Best is trial 28 with value: 6430.453389830508.\u001b[0m\n"
     ]
    },
    {
     "name": "stdout",
     "output_type": "stream",
     "text": [
      "index_parallel='0038'\n"
     ]
    },
    {
     "name": "stderr",
     "output_type": "stream",
     "text": [
      "\u001b[32m[I 2022-08-16 00:16:05,621]\u001b[0m Trial 38 finished with value: 6392.377118644068 and parameters: {'kErase': 3, 'kRadius': 3, 'kAnnealingA': 1.0659227595053573, 'kAnnealingB': 1.2774460804670695, 'kAnnealingStart': 26.928783202674826, 'kSkipRatio': 0.7212993834164387, 'kTargetDeterminationTrials': 6, 'kAttractionRatio': 0.010036793490664846, 'kMaxAttractionDistance': 73, 'kStartAttraction': 0.003060042076268194}. Best is trial 28 with value: 6430.453389830508.\u001b[0m\n"
     ]
    },
    {
     "name": "stdout",
     "output_type": "stream",
     "text": [
      "index_parallel='0039'\n"
     ]
    },
    {
     "name": "stderr",
     "output_type": "stream",
     "text": [
      "\u001b[32m[I 2022-08-16 00:20:30,609]\u001b[0m Trial 39 finished with value: 6301.411016949152 and parameters: {'kErase': 4, 'kRadius': 3, 'kAnnealingA': 1.2063325824462243, 'kAnnealingB': 2.0399811672938535, 'kAnnealingStart': 26.147850769482528, 'kSkipRatio': 0.7211540990946796, 'kTargetDeterminationTrials': 6, 'kAttractionRatio': 0.01612015392778858, 'kMaxAttractionDistance': 75, 'kStartAttraction': 0.002361947822911025}. Best is trial 28 with value: 6430.453389830508.\u001b[0m\n"
     ]
    },
    {
     "name": "stdout",
     "output_type": "stream",
     "text": [
      "index_parallel='0040'\n"
     ]
    },
    {
     "name": "stderr",
     "output_type": "stream",
     "text": [
      "\u001b[32m[I 2022-08-16 00:24:55,528]\u001b[0m Trial 40 finished with value: 6138.042372881356 and parameters: {'kErase': 3, 'kRadius': 3, 'kAnnealingA': -13.052575026164195, 'kAnnealingB': 1.3157883654255567, 'kAnnealingStart': 46.08663904608836, 'kSkipRatio': 0.7670108531340123, 'kTargetDeterminationTrials': 14, 'kAttractionRatio': 0.02110666073744086, 'kMaxAttractionDistance': 62, 'kStartAttraction': 0.0013006715250177404}. Best is trial 28 with value: 6430.453389830508.\u001b[0m\n"
     ]
    },
    {
     "name": "stdout",
     "output_type": "stream",
     "text": [
      "index_parallel='0041'\n"
     ]
    },
    {
     "name": "stderr",
     "output_type": "stream",
     "text": [
      "\u001b[32m[I 2022-08-16 00:29:20,406]\u001b[0m Trial 41 finished with value: 6392.576271186441 and parameters: {'kErase': 3, 'kRadius': 2, 'kAnnealingA': -3.540127316613686, 'kAnnealingB': 0.8341638270690209, 'kAnnealingStart': 37.24945810664857, 'kSkipRatio': 0.7760273054621443, 'kTargetDeterminationTrials': 5, 'kAttractionRatio': 0.010013515269517218, 'kMaxAttractionDistance': 48, 'kStartAttraction': 0.003948033490544122}. Best is trial 28 with value: 6430.453389830508.\u001b[0m\n"
     ]
    },
    {
     "name": "stdout",
     "output_type": "stream",
     "text": [
      "index_parallel='0042'\n"
     ]
    },
    {
     "name": "stderr",
     "output_type": "stream",
     "text": [
      "\u001b[32m[I 2022-08-16 00:33:45,251]\u001b[0m Trial 42 finished with value: 6340.406779661017 and parameters: {'kErase': 3, 'kRadius': 2, 'kAnnealingA': -2.629620675900714, 'kAnnealingB': 0.7994722957684449, 'kAnnealingStart': 31.66977103411784, 'kSkipRatio': 0.7152748140986628, 'kTargetDeterminationTrials': 5, 'kAttractionRatio': 0.013341783634351253, 'kMaxAttractionDistance': 57, 'kStartAttraction': 0.010132582418310493}. Best is trial 28 with value: 6430.453389830508.\u001b[0m\n"
     ]
    },
    {
     "name": "stdout",
     "output_type": "stream",
     "text": [
      "index_parallel='0043'\n"
     ]
    },
    {
     "name": "stderr",
     "output_type": "stream",
     "text": [
      "\u001b[32m[I 2022-08-16 00:38:10,094]\u001b[0m Trial 43 finished with value: 6371.733050847458 and parameters: {'kErase': 3, 'kRadius': 3, 'kAnnealingA': -5.03620419451059, 'kAnnealingB': 1.4947980953995927, 'kAnnealingStart': 44.88396639080601, 'kSkipRatio': 0.7662336614561434, 'kTargetDeterminationTrials': 8, 'kAttractionRatio': 0.010168924284083598, 'kMaxAttractionDistance': 34, 'kStartAttraction': 0.0032256736345653175}. Best is trial 28 with value: 6430.453389830508.\u001b[0m\n"
     ]
    },
    {
     "name": "stdout",
     "output_type": "stream",
     "text": [
      "index_parallel='0044'\n"
     ]
    },
    {
     "name": "stderr",
     "output_type": "stream",
     "text": [
      "\u001b[32m[I 2022-08-16 00:42:34,947]\u001b[0m Trial 44 finished with value: 6319.131355932203 and parameters: {'kErase': 3, 'kRadius': 3, 'kAnnealingA': -6.998037927389686, 'kAnnealingB': 1.529527983475567, 'kAnnealingStart': 44.7754899761373, 'kSkipRatio': 0.7620112384164129, 'kTargetDeterminationTrials': 9, 'kAttractionRatio': 0.016676385162883466, 'kMaxAttractionDistance': 33, 'kStartAttraction': 0.0010473115442807426}. Best is trial 28 with value: 6430.453389830508.\u001b[0m\n"
     ]
    },
    {
     "name": "stdout",
     "output_type": "stream",
     "text": [
      "index_parallel='0045'\n"
     ]
    },
    {
     "name": "stderr",
     "output_type": "stream",
     "text": [
      "\u001b[32m[I 2022-08-16 00:47:00,199]\u001b[0m Trial 45 finished with value: 6098.411016949152 and parameters: {'kErase': 4, 'kRadius': 3, 'kAnnealingA': -2.2283038955374765, 'kAnnealingB': 0.6467547082939743, 'kAnnealingStart': 84.50534824830514, 'kSkipRatio': 0.6516195823040889, 'kTargetDeterminationTrials': 12, 'kAttractionRatio': 0.01424931756867819, 'kMaxAttractionDistance': 50, 'kStartAttraction': 0.0017796175072233413}. Best is trial 28 with value: 6430.453389830508.\u001b[0m\n"
     ]
    },
    {
     "name": "stdout",
     "output_type": "stream",
     "text": [
      "index_parallel='0046'\n"
     ]
    },
    {
     "name": "stderr",
     "output_type": "stream",
     "text": [
      "\u001b[32m[I 2022-08-16 00:51:25,078]\u001b[0m Trial 46 finished with value: 6345.936440677966 and parameters: {'kErase': 3, 'kRadius': 3, 'kAnnealingA': 1.0619765807139556, 'kAnnealingB': 1.0292395826775582, 'kAnnealingStart': 23.236848770357717, 'kSkipRatio': 0.7075165868019283, 'kTargetDeterminationTrials': 8, 'kAttractionRatio': 0.012251219121024467, 'kMaxAttractionDistance': 74, 'kStartAttraction': 0.05074095183679808}. Best is trial 28 with value: 6430.453389830508.\u001b[0m\n"
     ]
    },
    {
     "name": "stdout",
     "output_type": "stream",
     "text": [
      "index_parallel='0047'\n"
     ]
    },
    {
     "name": "stderr",
     "output_type": "stream",
     "text": [
      "\u001b[32m[I 2022-08-16 00:55:49,777]\u001b[0m Trial 47 finished with value: 6190.436440677966 and parameters: {'kErase': 3, 'kRadius': 2, 'kAnnealingA': 3.0522267803183105, 'kAnnealingB': 2.2813122587061994, 'kAnnealingStart': 18.39907862791396, 'kSkipRatio': 0.7370472968603986, 'kTargetDeterminationTrials': 6, 'kAttractionRatio': 0.30525241171493606, 'kMaxAttractionDistance': 25, 'kStartAttraction': 0.0030707610315059033}. Best is trial 28 with value: 6430.453389830508.\u001b[0m\n"
     ]
    },
    {
     "name": "stdout",
     "output_type": "stream",
     "text": [
      "index_parallel='0048'\n"
     ]
    },
    {
     "name": "stderr",
     "output_type": "stream",
     "text": [
      "\u001b[32m[I 2022-08-16 01:00:14,811]\u001b[0m Trial 48 finished with value: 6289.4152542372885 and parameters: {'kErase': 2, 'kRadius': 3, 'kAnnealingA': -8.812074165255366, 'kAnnealingB': 1.2256097318641017, 'kAnnealingStart': 68.58268826699896, 'kSkipRatio': 0.7734989878617675, 'kTargetDeterminationTrials': 9, 'kAttractionRatio': 0.017583896813633166, 'kMaxAttractionDistance': 34, 'kStartAttraction': 0.006595879575872489}. Best is trial 28 with value: 6430.453389830508.\u001b[0m\n"
     ]
    },
    {
     "name": "stdout",
     "output_type": "stream",
     "text": [
      "index_parallel='0049'\n"
     ]
    },
    {
     "name": "stderr",
     "output_type": "stream",
     "text": [
      "\u001b[32m[I 2022-08-16 01:04:39,809]\u001b[0m Trial 49 finished with value: 6191.85593220339 and parameters: {'kErase': 4, 'kRadius': 2, 'kAnnealingA': -6.414282684331975, 'kAnnealingB': 1.5034291042798231, 'kAnnealingStart': 40.32507762236367, 'kSkipRatio': 0.7399835248248154, 'kTargetDeterminationTrials': 7, 'kAttractionRatio': 0.059460451172170546, 'kMaxAttractionDistance': 82, 'kStartAttraction': 0.002909707422269916}. Best is trial 28 with value: 6430.453389830508.\u001b[0m\n"
     ]
    },
    {
     "name": "stdout",
     "output_type": "stream",
     "text": [
      "index_parallel='0050'\n"
     ]
    },
    {
     "name": "stderr",
     "output_type": "stream",
     "text": [
      "\u001b[32m[I 2022-08-16 01:09:04,954]\u001b[0m Trial 50 finished with value: 6354.707627118644 and parameters: {'kErase': 3, 'kRadius': 5, 'kAnnealingA': -3.645535122841448, 'kAnnealingB': 0.37323300451453123, 'kAnnealingStart': 30.57100878205155, 'kSkipRatio': 0.6945009713885728, 'kTargetDeterminationTrials': 15, 'kAttractionRatio': 0.012263735794888701, 'kMaxAttractionDistance': 61, 'kStartAttraction': 0.025713017362608604}. Best is trial 28 with value: 6430.453389830508.\u001b[0m\n"
     ]
    },
    {
     "name": "stdout",
     "output_type": "stream",
     "text": [
      "index_parallel='0051'\n"
     ]
    },
    {
     "name": "stderr",
     "output_type": "stream",
     "text": [
      "\u001b[32m[I 2022-08-16 01:13:29,902]\u001b[0m Trial 51 finished with value: 6368.097457627118 and parameters: {'kErase': 3, 'kRadius': 2, 'kAnnealingA': -4.489981685163413, 'kAnnealingB': 1.7553641495098997, 'kAnnealingStart': 53.94762676847529, 'kSkipRatio': 0.7679694193068297, 'kTargetDeterminationTrials': 5, 'kAttractionRatio': 0.010353236764149171, 'kMaxAttractionDistance': 28, 'kStartAttraction': 0.005484062931832616}. Best is trial 28 with value: 6430.453389830508.\u001b[0m\n"
     ]
    },
    {
     "name": "stdout",
     "output_type": "stream",
     "text": [
      "index_parallel='0052'\n"
     ]
    },
    {
     "name": "stderr",
     "output_type": "stream",
     "text": [
      "\u001b[32m[I 2022-08-16 01:17:55,224]\u001b[0m Trial 52 finished with value: 6364.275423728814 and parameters: {'kErase': 3, 'kRadius': 2, 'kAnnealingA': -5.200331984364968, 'kAnnealingB': 1.3336497020264122, 'kAnnealingStart': 62.80189894820406, 'kSkipRatio': 0.7992969973149437, 'kTargetDeterminationTrials': 5, 'kAttractionRatio': 0.014962321738342997, 'kMaxAttractionDistance': 49, 'kStartAttraction': 0.0040913985433508136}. Best is trial 28 with value: 6430.453389830508.\u001b[0m\n"
     ]
    },
    {
     "name": "stdout",
     "output_type": "stream",
     "text": [
      "index_parallel='0053'\n"
     ]
    },
    {
     "name": "stderr",
     "output_type": "stream",
     "text": [
      "\u001b[32m[I 2022-08-16 01:22:19,999]\u001b[0m Trial 53 finished with value: 6326.567796610169 and parameters: {'kErase': 3, 'kRadius': 2, 'kAnnealingA': -2.036060377530277, 'kAnnealingB': 1.9049609022777938, 'kAnnealingStart': 79.27523571221444, 'kSkipRatio': 0.7250917652767561, 'kTargetDeterminationTrials': 6, 'kAttractionRatio': 0.02274698154637607, 'kMaxAttractionDistance': 36, 'kStartAttraction': 0.0023104573829848237}. Best is trial 28 with value: 6430.453389830508.\u001b[0m\n"
     ]
    },
    {
     "name": "stdout",
     "output_type": "stream",
     "text": [
      "index_parallel='0054'\n"
     ]
    },
    {
     "name": "stderr",
     "output_type": "stream",
     "text": [
      "\u001b[32m[I 2022-08-16 01:26:45,316]\u001b[0m Trial 54 finished with value: 6271.4449152542375 and parameters: {'kErase': 4, 'kRadius': 3, 'kAnnealingA': -7.75983361978952, 'kAnnealingB': 1.5473099411781093, 'kAnnealingStart': 51.21353227467729, 'kSkipRatio': 0.7779357263223954, 'kTargetDeterminationTrials': 6, 'kAttractionRatio': 0.011590535309619017, 'kMaxAttractionDistance': 44, 'kStartAttraction': 0.012281818871569173}. Best is trial 28 with value: 6430.453389830508.\u001b[0m\n"
     ]
    },
    {
     "name": "stdout",
     "output_type": "stream",
     "text": [
      "index_parallel='0055'\n"
     ]
    },
    {
     "name": "stderr",
     "output_type": "stream",
     "text": [
      "\u001b[32m[I 2022-08-16 01:31:10,187]\u001b[0m Trial 55 finished with value: 6398.254237288135 and parameters: {'kErase': 2, 'kRadius': 2, 'kAnnealingA': -3.2248890864068973, 'kAnnealingB': 0.8068604234547937, 'kAnnealingStart': 33.681394604049835, 'kSkipRatio': 0.7502329164299056, 'kTargetDeterminationTrials': 8, 'kAttractionRatio': 0.010034734948573227, 'kMaxAttractionDistance': 54, 'kStartAttraction': 0.00145852070276928}. Best is trial 28 with value: 6430.453389830508.\u001b[0m\n"
     ]
    },
    {
     "name": "stdout",
     "output_type": "stream",
     "text": [
      "index_parallel='0056'\n"
     ]
    },
    {
     "name": "stderr",
     "output_type": "stream",
     "text": [
      "\u001b[32m[I 2022-08-16 01:35:35,142]\u001b[0m Trial 56 finished with value: 6334.161016949152 and parameters: {'kErase': 2, 'kRadius': 2, 'kAnnealingA': 0.4176710992327224, 'kAnnealingB': 0.2785064679726039, 'kAnnealingStart': 25.50779174853707, 'kSkipRatio': 0.5984281065830896, 'kTargetDeterminationTrials': 8, 'kAttractionRatio': 0.015047176025315401, 'kMaxAttractionDistance': 53, 'kStartAttraction': 0.0014592305360827092}. Best is trial 28 with value: 6430.453389830508.\u001b[0m\n"
     ]
    },
    {
     "name": "stdout",
     "output_type": "stream",
     "text": [
      "index_parallel='0057'\n"
     ]
    },
    {
     "name": "stderr",
     "output_type": "stream",
     "text": [
      "\u001b[32m[I 2022-08-16 01:39:59,931]\u001b[0m Trial 57 finished with value: 6407.0550847457625 and parameters: {'kErase': 2, 'kRadius': 3, 'kAnnealingA': 2.2476420527442174, 'kAnnealingB': 0.7471026155512368, 'kAnnealingStart': 33.51939941918461, 'kSkipRatio': 0.7473038994233925, 'kTargetDeterminationTrials': 12, 'kAttractionRatio': 0.022634480760548817, 'kMaxAttractionDistance': 80, 'kStartAttraction': 0.0018619807488188254}. Best is trial 28 with value: 6430.453389830508.\u001b[0m\n"
     ]
    },
    {
     "name": "stdout",
     "output_type": "stream",
     "text": [
      "index_parallel='0058'\n"
     ]
    },
    {
     "name": "stderr",
     "output_type": "stream",
     "text": [
      "\u001b[32m[I 2022-08-16 01:44:24,669]\u001b[0m Trial 58 finished with value: 6313.28813559322 and parameters: {'kErase': 2, 'kRadius': 2, 'kAnnealingA': 2.612568214816095, 'kAnnealingB': 0.7163062677549149, 'kAnnealingStart': 14.784004513588032, 'kSkipRatio': 0.6606065644578598, 'kTargetDeterminationTrials': 13, 'kAttractionRatio': 0.020644877073971613, 'kMaxAttractionDistance': 77, 'kStartAttraction': 0.002111335358110946}. Best is trial 28 with value: 6430.453389830508.\u001b[0m\n"
     ]
    },
    {
     "name": "stdout",
     "output_type": "stream",
     "text": [
      "index_parallel='0059'\n"
     ]
    },
    {
     "name": "stderr",
     "output_type": "stream",
     "text": [
      "\u001b[32m[I 2022-08-16 01:48:49,181]\u001b[0m Trial 59 finished with value: 6338.919491525424 and parameters: {'kErase': 2, 'kRadius': 5, 'kAnnealingA': 4.97668035774961, 'kAnnealingB': 0.8947733691444355, 'kAnnealingStart': 33.40536196269996, 'kSkipRatio': 0.7419504771668944, 'kTargetDeterminationTrials': 17, 'kAttractionRatio': 0.017402210866479383, 'kMaxAttractionDistance': 65, 'kStartAttraction': 0.0017747243453237523}. Best is trial 28 with value: 6430.453389830508.\u001b[0m\n"
     ]
    },
    {
     "name": "stdout",
     "output_type": "stream",
     "text": [
      "index_parallel='0060'\n"
     ]
    },
    {
     "name": "stderr",
     "output_type": "stream",
     "text": [
      "\u001b[32m[I 2022-08-16 01:53:13,810]\u001b[0m Trial 60 finished with value: 6388.139830508475 and parameters: {'kErase': 2, 'kRadius': 2, 'kAnnealingA': 4.580117335012439, 'kAnnealingB': 0.5487492784866941, 'kAnnealingStart': 17.655480453422523, 'kSkipRatio': 0.6973890105757891, 'kTargetDeterminationTrials': 10, 'kAttractionRatio': 0.01474043429589395, 'kMaxAttractionDistance': 83, 'kStartAttraction': 0.056417343770390746}. Best is trial 28 with value: 6430.453389830508.\u001b[0m\n"
     ]
    },
    {
     "name": "stdout",
     "output_type": "stream",
     "text": [
      "index_parallel='0061'\n"
     ]
    },
    {
     "name": "stderr",
     "output_type": "stream",
     "text": [
      "\u001b[32m[I 2022-08-16 01:57:38,629]\u001b[0m Trial 61 finished with value: 6367.220338983051 and parameters: {'kErase': 2, 'kRadius': 2, 'kAnnealingA': 4.630150877609573, 'kAnnealingB': 0.6056437257103414, 'kAnnealingStart': 18.763726722988885, 'kSkipRatio': 0.7013951168222756, 'kTargetDeterminationTrials': 11, 'kAttractionRatio': 0.012439615505186626, 'kMaxAttractionDistance': 86, 'kStartAttraction': 0.053895879733991736}. Best is trial 28 with value: 6430.453389830508.\u001b[0m\n"
     ]
    },
    {
     "name": "stdout",
     "output_type": "stream",
     "text": [
      "index_parallel='0062'\n"
     ]
    },
    {
     "name": "stderr",
     "output_type": "stream",
     "text": [
      "\u001b[32m[I 2022-08-16 02:02:03,216]\u001b[0m Trial 62 finished with value: 6386.46186440678 and parameters: {'kErase': 2, 'kRadius': 2, 'kAnnealingA': 1.9398922978879911, 'kAnnealingB': 0.8115406301093201, 'kAnnealingStart': 25.352185111852897, 'kSkipRatio': 0.7501228653783301, 'kTargetDeterminationTrials': 10, 'kAttractionRatio': 0.01450056825211242, 'kMaxAttractionDistance': 81, 'kStartAttraction': 0.11786954664820333}. Best is trial 28 with value: 6430.453389830508.\u001b[0m\n"
     ]
    },
    {
     "name": "stdout",
     "output_type": "stream",
     "text": [
      "index_parallel='0063'\n"
     ]
    },
    {
     "name": "stderr",
     "output_type": "stream",
     "text": [
      "\u001b[32m[I 2022-08-16 02:06:27,939]\u001b[0m Trial 63 finished with value: 6354.220338983051 and parameters: {'kErase': 2, 'kRadius': 2, 'kAnnealingA': -0.6173128317429626, 'kAnnealingB': 0.47393806721988674, 'kAnnealingStart': 21.173356643048905, 'kSkipRatio': 0.7228875375497037, 'kTargetDeterminationTrials': 10, 'kAttractionRatio': 0.021885696878234735, 'kMaxAttractionDistance': 94, 'kStartAttraction': 0.06645381311971844}. Best is trial 28 with value: 6430.453389830508.\u001b[0m\n"
     ]
    },
    {
     "name": "stdout",
     "output_type": "stream",
     "text": [
      "index_parallel='0064'\n"
     ]
    },
    {
     "name": "stderr",
     "output_type": "stream",
     "text": [
      "\u001b[32m[I 2022-08-16 02:10:52,661]\u001b[0m Trial 64 finished with value: 6335.2415254237285 and parameters: {'kErase': 2, 'kRadius': 3, 'kAnnealingA': 4.132951478574474, 'kAnnealingB': 0.9902774955509217, 'kAnnealingStart': 29.606231867827454, 'kSkipRatio': 0.6780286385932515, 'kTargetDeterminationTrials': 12, 'kAttractionRatio': 0.015714348343297362, 'kMaxAttractionDistance': 59, 'kStartAttraction': 0.03543712511544822}. Best is trial 28 with value: 6430.453389830508.\u001b[0m\n"
     ]
    },
    {
     "name": "stdout",
     "output_type": "stream",
     "text": [
      "index_parallel='0065'\n"
     ]
    },
    {
     "name": "stderr",
     "output_type": "stream",
     "text": [
      "\u001b[32m[I 2022-08-16 02:15:17,443]\u001b[0m Trial 65 finished with value: 6218.050847457627 and parameters: {'kErase': 2, 'kRadius': 2, 'kAnnealingA': 6.193313818274028, 'kAnnealingB': 0.30143650853540505, 'kAnnealingStart': 16.45465960210731, 'kSkipRatio': 0.5352134695939402, 'kTargetDeterminationTrials': 7, 'kAttractionRatio': 0.033194332235996424, 'kMaxAttractionDistance': 68, 'kStartAttraction': 0.2230461782000126}. Best is trial 28 with value: 6430.453389830508.\u001b[0m\n"
     ]
    },
    {
     "name": "stdout",
     "output_type": "stream",
     "text": [
      "index_parallel='0066'\n"
     ]
    },
    {
     "name": "stderr",
     "output_type": "stream",
     "text": [
      "\u001b[32m[I 2022-08-16 02:19:42,203]\u001b[0m Trial 66 finished with value: 6362.978813559322 and parameters: {'kErase': 2, 'kRadius': 2, 'kAnnealingA': -1.9036843742696057, 'kAnnealingB': 0.04894827284992109, 'kAnnealingStart': 35.78511058469552, 'kSkipRatio': 0.6227533328044379, 'kTargetDeterminationTrials': 15, 'kAttractionRatio': 0.02465851226881748, 'kMaxAttractionDistance': 9, 'kStartAttraction': 0.02481771173936941}. Best is trial 28 with value: 6430.453389830508.\u001b[0m\n"
     ]
    },
    {
     "name": "stdout",
     "output_type": "stream",
     "text": [
      "index_parallel='0067'\n"
     ]
    },
    {
     "name": "stderr",
     "output_type": "stream",
     "text": [
      "\u001b[32m[I 2022-08-16 02:24:06,932]\u001b[0m Trial 67 finished with value: 6293.466101694915 and parameters: {'kErase': 2, 'kRadius': 3, 'kAnnealingA': -2.9122464938646773, 'kAnnealingB': 1.1740536820739025, 'kAnnealingStart': 40.14438369815475, 'kSkipRatio': 0.5914360285345795, 'kTargetDeterminationTrials': 9, 'kAttractionRatio': 0.011683064748640606, 'kMaxAttractionDistance': 98, 'kStartAttraction': 0.0012354873298122428}. Best is trial 28 with value: 6430.453389830508.\u001b[0m\n"
     ]
    },
    {
     "name": "stdout",
     "output_type": "stream",
     "text": [
      "index_parallel='0068'\n"
     ]
    },
    {
     "name": "stderr",
     "output_type": "stream",
     "text": [
      "\u001b[32m[I 2022-08-16 02:28:31,181]\u001b[0m Trial 68 finished with value: 6348.864406779661 and parameters: {'kErase': 1, 'kRadius': 2, 'kAnnealingA': 0.8600404636898962, 'kAnnealingB': 0.7491567582369949, 'kAnnealingStart': 27.092189252838104, 'kSkipRatio': 0.6842370651110349, 'kTargetDeterminationTrials': 7, 'kAttractionRatio': 0.018672386532863447, 'kMaxAttractionDistance': 54, 'kStartAttraction': 0.01412704196965188}. Best is trial 28 with value: 6430.453389830508.\u001b[0m\n"
     ]
    },
    {
     "name": "stdout",
     "output_type": "stream",
     "text": [
      "index_parallel='0069'\n"
     ]
    },
    {
     "name": "stderr",
     "output_type": "stream",
     "text": [
      "\u001b[32m[I 2022-08-16 02:32:56,007]\u001b[0m Trial 69 finished with value: 5999.983050847458 and parameters: {'kErase': 2, 'kRadius': 2, 'kAnnealingA': -0.2884283686472737, 'kAnnealingB': 0.5983870885946949, 'kAnnealingStart': 2.3356176281864953, 'kSkipRatio': 0.7870760964675261, 'kTargetDeterminationTrials': 8, 'kAttractionRatio': 0.010049495684561842, 'kMaxAttractionDistance': 70, 'kStartAttraction': 0.0010254943268285567}. Best is trial 28 with value: 6430.453389830508.\u001b[0m\n"
     ]
    },
    {
     "name": "stdout",
     "output_type": "stream",
     "text": [
      "index_parallel='0070'\n"
     ]
    },
    {
     "name": "stderr",
     "output_type": "stream",
     "text": [
      "\u001b[32m[I 2022-08-16 02:37:20,976]\u001b[0m Trial 70 finished with value: 6227.4915254237285 and parameters: {'kErase': 3, 'kRadius': 2, 'kAnnealingA': -1.285771659128013, 'kAnnealingB': 0.8771713960576057, 'kAnnealingStart': 12.996336854259692, 'kSkipRatio': 0.7515076979416647, 'kTargetDeterminationTrials': 13, 'kAttractionRatio': 0.013623188918816254, 'kMaxAttractionDistance': 88, 'kStartAttraction': 0.04234594362082466}. Best is trial 28 with value: 6430.453389830508.\u001b[0m\n"
     ]
    },
    {
     "name": "stdout",
     "output_type": "stream",
     "text": [
      "index_parallel='0071'\n"
     ]
    },
    {
     "name": "stderr",
     "output_type": "stream",
     "text": [
      "\u001b[32m[I 2022-08-16 02:41:45,604]\u001b[0m Trial 71 finished with value: 5733.427966101695 and parameters: {'kErase': 2, 'kRadius': 2, 'kAnnealingA': 1.4683151268571348, 'kAnnealingB': 0.5342232118335658, 'kAnnealingStart': 20.97176213966097, 'kSkipRatio': 0.33150126396164903, 'kTargetDeterminationTrials': 10, 'kAttractionRatio': 0.014635687060210406, 'kMaxAttractionDistance': 81, 'kStartAttraction': 0.10569277143271981}. Best is trial 28 with value: 6430.453389830508.\u001b[0m\n"
     ]
    },
    {
     "name": "stdout",
     "output_type": "stream",
     "text": [
      "index_parallel='0072'\n"
     ]
    },
    {
     "name": "stderr",
     "output_type": "stream",
     "text": [
      "\u001b[32m[I 2022-08-16 02:46:10,410]\u001b[0m Trial 72 finished with value: 6365.190677966101 and parameters: {'kErase': 2, 'kRadius': 2, 'kAnnealingA': 2.3581237007758498, 'kAnnealingB': 0.6742401101747688, 'kAnnealingStart': 49.97161021883542, 'kSkipRatio': 0.7503215525195013, 'kTargetDeterminationTrials': 19, 'kAttractionRatio': 0.011812685910132353, 'kMaxAttractionDistance': 81, 'kStartAttraction': 0.06584423792862094}. Best is trial 28 with value: 6430.453389830508.\u001b[0m\n"
     ]
    },
    {
     "name": "stdout",
     "output_type": "stream",
     "text": [
      "index_parallel='0073'\n"
     ]
    },
    {
     "name": "stderr",
     "output_type": "stream",
     "text": [
      "\u001b[32m[I 2022-08-16 02:50:34,919]\u001b[0m Trial 73 finished with value: 6397.978813559322 and parameters: {'kErase': 2, 'kRadius': 2, 'kAnnealingA': 3.50092464164308, 'kAnnealingB': 0.7947050047282207, 'kAnnealingStart': 23.844065776355166, 'kSkipRatio': 0.782366874885377, 'kTargetDeterminationTrials': 11, 'kAttractionRatio': 0.01675269821200792, 'kMaxAttractionDistance': 63, 'kStartAttraction': 0.659025433906012}. Best is trial 28 with value: 6430.453389830508.\u001b[0m\n"
     ]
    },
    {
     "name": "stdout",
     "output_type": "stream",
     "text": [
      "index_parallel='0074'\n"
     ]
    },
    {
     "name": "stderr",
     "output_type": "stream",
     "text": [
      "\u001b[32m[I 2022-08-16 02:55:00,089]\u001b[0m Trial 74 finished with value: 6249.889830508475 and parameters: {'kErase': 5, 'kRadius': 2, 'kAnnealingA': 6.44037064841333, 'kAnnealingB': 1.001319623233782, 'kAnnealingStart': 33.88146130858117, 'kSkipRatio': 0.7794281374422458, 'kTargetDeterminationTrials': 11, 'kAttractionRatio': 0.01754034828775239, 'kMaxAttractionDistance': 63, 'kStartAttraction': 0.8594648956524226}. Best is trial 28 with value: 6430.453389830508.\u001b[0m\n"
     ]
    },
    {
     "name": "stdout",
     "output_type": "stream",
     "text": [
      "index_parallel='0075'\n"
     ]
    },
    {
     "name": "stderr",
     "output_type": "stream",
     "text": [
      "\u001b[32m[I 2022-08-16 02:59:24,655]\u001b[0m Trial 75 finished with value: 6204.529661016949 and parameters: {'kErase': 1, 'kRadius': 2, 'kAnnealingA': 8.177445212242311, 'kAnnealingB': 0.7981846626288184, 'kAnnealingStart': 40.01695806539301, 'kSkipRatio': 0.7256828267155194, 'kTargetDeterminationTrials': 16, 'kAttractionRatio': 0.07499057790072507, 'kMaxAttractionDistance': 5, 'kStartAttraction': 0.6185966530591437}. Best is trial 28 with value: 6430.453389830508.\u001b[0m\n"
     ]
    },
    {
     "name": "stdout",
     "output_type": "stream",
     "text": [
      "index_parallel='0076'\n"
     ]
    },
    {
     "name": "stderr",
     "output_type": "stream",
     "text": [
      "\u001b[32m[I 2022-08-16 03:03:49,750]\u001b[0m Trial 76 finished with value: 6366.3050847457625 and parameters: {'kErase': 3, 'kRadius': 3, 'kAnnealingA': 3.507431814135405, 'kAnnealingB': 1.0967174284232457, 'kAnnealingStart': 23.282724821457595, 'kSkipRatio': 0.7071170497736394, 'kTargetDeterminationTrials': 9, 'kAttractionRatio': 0.030601666664329456, 'kMaxAttractionDistance': 74, 'kStartAttraction': 0.6746094720342504}. Best is trial 28 with value: 6430.453389830508.\u001b[0m\n"
     ]
    },
    {
     "name": "stdout",
     "output_type": "stream",
     "text": [
      "index_parallel='0077'\n"
     ]
    },
    {
     "name": "stderr",
     "output_type": "stream",
     "text": [
      "\u001b[32m[I 2022-08-16 03:08:14,397]\u001b[0m Trial 77 finished with value: 6367.533898305085 and parameters: {'kErase': 2, 'kRadius': 2, 'kAnnealingA': 4.000659977673629, 'kAnnealingB': 0.5341067037095406, 'kAnnealingStart': 29.021619113093358, 'kSkipRatio': 0.7791966600502959, 'kTargetDeterminationTrials': 6, 'kAttractionRatio': 0.08853216149335133, 'kMaxAttractionDistance': 57, 'kStartAttraction': 0.0016671697578096096}. Best is trial 28 with value: 6430.453389830508.\u001b[0m\n"
     ]
    },
    {
     "name": "stdout",
     "output_type": "stream",
     "text": [
      "index_parallel='0078'\n"
     ]
    },
    {
     "name": "stderr",
     "output_type": "stream",
     "text": [
      "\u001b[32m[I 2022-08-16 03:12:39,422]\u001b[0m Trial 78 finished with value: 6257.796610169492 and parameters: {'kErase': 3, 'kRadius': 3, 'kAnnealingA': -3.3108305291684457, 'kAnnealingB': 0.9415515799238081, 'kAnnealingStart': 16.8246061549724, 'kSkipRatio': 0.759711301309473, 'kTargetDeterminationTrials': 8, 'kAttractionRatio': 0.013203841838361253, 'kMaxAttractionDistance': 45, 'kStartAttraction': 0.323323435003837}. Best is trial 28 with value: 6430.453389830508.\u001b[0m\n"
     ]
    },
    {
     "name": "stdout",
     "output_type": "stream",
     "text": [
      "index_parallel='0079'\n"
     ]
    },
    {
     "name": "stderr",
     "output_type": "stream",
     "text": [
      "\u001b[32m[I 2022-08-16 03:17:04,168]\u001b[0m Trial 79 finished with value: 6231.504237288135 and parameters: {'kErase': 3, 'kRadius': 4, 'kAnnealingA': 1.9474773283041515, 'kAnnealingB': 0.41147368378850496, 'kAnnealingStart': 69.08958462488029, 'kSkipRatio': 0.7318667294509814, 'kTargetDeterminationTrials': 12, 'kAttractionRatio': 0.023673054409864076, 'kMaxAttractionDistance': 52, 'kStartAttraction': 0.002610281111662052}. Best is trial 28 with value: 6430.453389830508.\u001b[0m\n"
     ]
    },
    {
     "name": "stdout",
     "output_type": "stream",
     "text": [
      "index_parallel='0080'\n"
     ]
    },
    {
     "name": "stderr",
     "output_type": "stream",
     "text": [
      "\u001b[32m[I 2022-08-16 03:21:28,829]\u001b[0m Trial 80 finished with value: 5893.809322033899 and parameters: {'kErase': 2, 'kRadius': 2, 'kAnnealingA': 0.1962296296143451, 'kAnnealingB': 1.2940154065237328, 'kAnnealingStart': 1.0508722180383179, 'kSkipRatio': 0.7833124018929651, 'kTargetDeterminationTrials': 7, 'kAttractionRatio': 0.011822007509164428, 'kMaxAttractionDistance': 66, 'kStartAttraction': 0.0037185099640744666}. Best is trial 28 with value: 6430.453389830508.\u001b[0m\n"
     ]
    },
    {
     "name": "stdout",
     "output_type": "stream",
     "text": [
      "index_parallel='0081'\n"
     ]
    },
    {
     "name": "stderr",
     "output_type": "stream",
     "text": [
      "\u001b[32m[I 2022-08-16 03:25:53,695]\u001b[0m Trial 81 finished with value: 6360.860169491525 and parameters: {'kErase': 2, 'kRadius': 2, 'kAnnealingA': 2.8965155046055533, 'kAnnealingB': 0.7764139522009089, 'kAnnealingStart': 23.281507966049208, 'kSkipRatio': 0.756695225940007, 'kTargetDeterminationTrials': 10, 'kAttractionRatio': 0.015547810301461351, 'kMaxAttractionDistance': 89, 'kStartAttraction': 0.16775307600682104}. Best is trial 28 with value: 6430.453389830508.\u001b[0m\n"
     ]
    },
    {
     "name": "stdout",
     "output_type": "stream",
     "text": [
      "index_parallel='0082'\n"
     ]
    },
    {
     "name": "stderr",
     "output_type": "stream",
     "text": [
      "\u001b[32m[I 2022-08-16 03:30:18,364]\u001b[0m Trial 82 finished with value: 6405.237288135593 and parameters: {'kErase': 2, 'kRadius': 2, 'kAnnealingA': -1.2491269090946475, 'kAnnealingB': 0.8668370897455795, 'kAnnealingStart': 25.445065227968104, 'kSkipRatio': 0.7504280214486516, 'kTargetDeterminationTrials': 14, 'kAttractionRatio': 0.014119403463321105, 'kMaxAttractionDistance': 79, 'kStartAttraction': 0.2660025048614962}. Best is trial 28 with value: 6430.453389830508.\u001b[0m\n"
     ]
    },
    {
     "name": "stdout",
     "output_type": "stream",
     "text": [
      "index_parallel='0083'\n"
     ]
    },
    {
     "name": "stderr",
     "output_type": "stream",
     "text": [
      "\u001b[32m[I 2022-08-16 03:34:43,171]\u001b[0m Trial 83 finished with value: 6402.966101694915 and parameters: {'kErase': 2, 'kRadius': 2, 'kAnnealingA': -1.5930656412948894, 'kAnnealingB': 0.8515023603798942, 'kAnnealingStart': 32.4412171104881, 'kSkipRatio': 0.7385701977008423, 'kTargetDeterminationTrials': 20, 'kAttractionRatio': 0.011214684342431268, 'kMaxAttractionDistance': 71, 'kStartAttraction': 0.264288950859589}. Best is trial 28 with value: 6430.453389830508.\u001b[0m\n"
     ]
    },
    {
     "name": "stdout",
     "output_type": "stream",
     "text": [
      "index_parallel='0084'\n"
     ]
    },
    {
     "name": "stderr",
     "output_type": "stream",
     "text": [
      "\u001b[32m[I 2022-08-16 03:39:07,975]\u001b[0m Trial 84 finished with value: 6437.783898305085 and parameters: {'kErase': 2, 'kRadius': 2, 'kAnnealingA': -1.1453326663998964, 'kAnnealingB': 0.8340394518494305, 'kAnnealingStart': 41.73400454185021, 'kSkipRatio': 0.7994101850959553, 'kTargetDeterminationTrials': 20, 'kAttractionRatio': 0.010036391483274681, 'kMaxAttractionDistance': 72, 'kStartAttraction': 0.5365803115818987}. Best is trial 84 with value: 6437.783898305085.\u001b[0m\n"
     ]
    },
    {
     "name": "stdout",
     "output_type": "stream",
     "text": [
      "Updated! 6437.783898305085\n",
      "index_parallel='0085'\n"
     ]
    },
    {
     "name": "stderr",
     "output_type": "stream",
     "text": [
      "\u001b[32m[I 2022-08-16 03:43:32,947]\u001b[0m Trial 85 finished with value: 5525.669491525424 and parameters: {'kErase': 2, 'kRadius': 4, 'kAnnealingA': -1.4681888390673659, 'kAnnealingB': 0.8565125798978058, 'kAnnealingStart': 41.03564164383141, 'kSkipRatio': 0.25457112307201757, 'kTargetDeterminationTrials': 20, 'kAttractionRatio': 0.011060944952549251, 'kMaxAttractionDistance': 59, 'kStartAttraction': 0.29609469639888975}. Best is trial 84 with value: 6437.783898305085.\u001b[0m\n"
     ]
    },
    {
     "name": "stdout",
     "output_type": "stream",
     "text": [
      "index_parallel='0086'\n"
     ]
    },
    {
     "name": "stderr",
     "output_type": "stream",
     "text": [
      "\u001b[32m[I 2022-08-16 03:47:57,351]\u001b[0m Trial 86 finished with value: 6335.364406779661 and parameters: {'kErase': 1, 'kRadius': 2, 'kAnnealingA': -2.643850999040949, 'kAnnealingB': 0.6894938269358699, 'kAnnealingStart': 32.69881449152957, 'kSkipRatio': 0.7130984833320153, 'kTargetDeterminationTrials': 18, 'kAttractionRatio': 0.010195184779129285, 'kMaxAttractionDistance': 72, 'kStartAttraction': 0.5140396771430976}. Best is trial 84 with value: 6437.783898305085.\u001b[0m\n"
     ]
    },
    {
     "name": "stdout",
     "output_type": "stream",
     "text": [
      "index_parallel='0087'\n"
     ]
    },
    {
     "name": "stderr",
     "output_type": "stream",
     "text": [
      "\u001b[32m[I 2022-08-16 03:52:22,278]\u001b[0m Trial 87 finished with value: 6445.872881355932 and parameters: {'kErase': 2, 'kRadius': 2, 'kAnnealingA': -1.4105435356895155, 'kAnnealingB': 1.154547989025399, 'kAnnealingStart': 36.603161949524136, 'kSkipRatio': 0.773333357102839, 'kTargetDeterminationTrials': 17, 'kAttractionRatio': 0.019706149040953774, 'kMaxAttractionDistance': 47, 'kStartAttraction': 0.39052490201175394}. Best is trial 87 with value: 6445.872881355932.\u001b[0m\n"
     ]
    },
    {
     "name": "stdout",
     "output_type": "stream",
     "text": [
      "Updated! 6445.872881355932\n",
      "index_parallel='0088'\n"
     ]
    },
    {
     "name": "stderr",
     "output_type": "stream",
     "text": [
      "\u001b[32m[I 2022-08-16 03:56:47,302]\u001b[0m Trial 88 finished with value: 6433.46186440678 and parameters: {'kErase': 2, 'kRadius': 2, 'kAnnealingA': -1.3983001223307454, 'kAnnealingB': 1.1095147001315184, 'kAnnealingStart': 47.25928410439395, 'kSkipRatio': 0.7693318589744147, 'kTargetDeterminationTrials': 18, 'kAttractionRatio': 0.0193053565364783, 'kMaxAttractionDistance': 47, 'kStartAttraction': 0.2791918359146604}. Best is trial 87 with value: 6445.872881355932.\u001b[0m\n"
     ]
    },
    {
     "name": "stdout",
     "output_type": "stream",
     "text": [
      "index_parallel='0089'\n"
     ]
    },
    {
     "name": "stderr",
     "output_type": "stream",
     "text": [
      "\u001b[32m[I 2022-08-16 04:01:12,072]\u001b[0m Trial 89 finished with value: 6426.9449152542375 and parameters: {'kErase': 2, 'kRadius': 2, 'kAnnealingA': -0.15038123718473528, 'kAnnealingB': 1.121727007010002, 'kAnnealingStart': 50.07155060773225, 'kSkipRatio': 0.7443695627181403, 'kTargetDeterminationTrials': 14, 'kAttractionRatio': 0.019108166976211843, 'kMaxAttractionDistance': 16, 'kStartAttraction': 0.26028799124891855}. Best is trial 87 with value: 6445.872881355932.\u001b[0m\n"
     ]
    },
    {
     "name": "stdout",
     "output_type": "stream",
     "text": [
      "index_parallel='0090'\n"
     ]
    },
    {
     "name": "stderr",
     "output_type": "stream",
     "text": [
      "\u001b[32m[I 2022-08-16 04:05:36,777]\u001b[0m Trial 90 finished with value: 5795.78813559322 and parameters: {'kErase': 2, 'kRadius': 2, 'kAnnealingA': -0.16580213099891394, 'kAnnealingB': 1.1497063698723244, 'kAnnealingStart': 49.90730158156293, 'kSkipRatio': 0.4390874894537821, 'kTargetDeterminationTrials': 17, 'kAttractionRatio': 0.019888525843490597, 'kMaxAttractionDistance': 12, 'kStartAttraction': 0.2626258464833256}. Best is trial 87 with value: 6445.872881355932.\u001b[0m\n"
     ]
    },
    {
     "name": "stdout",
     "output_type": "stream",
     "text": [
      "index_parallel='0091'\n"
     ]
    },
    {
     "name": "stderr",
     "output_type": "stream",
     "text": [
      "\u001b[32m[I 2022-08-16 04:10:01,601]\u001b[0m Trial 91 finished with value: 6429.237288135593 and parameters: {'kErase': 2, 'kRadius': 2, 'kAnnealingA': -1.2995995611543854, 'kAnnealingB': 1.059731146468063, 'kAnnealingStart': 44.84981279763903, 'kSkipRatio': 0.7370024565794503, 'kTargetDeterminationTrials': 14, 'kAttractionRatio': 0.01834925026420476, 'kMaxAttractionDistance': 18, 'kStartAttraction': 0.37419119621566915}. Best is trial 87 with value: 6445.872881355932.\u001b[0m\n"
     ]
    },
    {
     "name": "stdout",
     "output_type": "stream",
     "text": [
      "index_parallel='0092'\n"
     ]
    },
    {
     "name": "stderr",
     "output_type": "stream",
     "text": [
      "\u001b[32m[I 2022-08-16 04:14:26,034]\u001b[0m Trial 92 finished with value: 6408.559322033899 and parameters: {'kErase': 2, 'kRadius': 2, 'kAnnealingA': -1.5597598876850183, 'kAnnealingB': 1.06946485491514, 'kAnnealingStart': 45.10321083429573, 'kSkipRatio': 0.737635991174938, 'kTargetDeterminationTrials': 14, 'kAttractionRatio': 0.027095656956555015, 'kMaxAttractionDistance': 17, 'kStartAttraction': 0.3795720146269921}. Best is trial 87 with value: 6445.872881355932.\u001b[0m\n"
     ]
    },
    {
     "name": "stdout",
     "output_type": "stream",
     "text": [
      "index_parallel='0093'\n"
     ]
    },
    {
     "name": "stderr",
     "output_type": "stream",
     "text": [
      "\u001b[32m[I 2022-08-16 04:18:50,614]\u001b[0m Trial 93 finished with value: 6408.826271186441 and parameters: {'kErase': 2, 'kRadius': 2, 'kAnnealingA': -1.4340079077570496, 'kAnnealingB': 1.062349437492475, 'kAnnealingStart': 59.67905119747235, 'kSkipRatio': 0.7369331945827986, 'kTargetDeterminationTrials': 14, 'kAttractionRatio': 0.036178973547327464, 'kMaxAttractionDistance': 16, 'kStartAttraction': 0.1973918307872056}. Best is trial 87 with value: 6445.872881355932.\u001b[0m\n"
     ]
    },
    {
     "name": "stdout",
     "output_type": "stream",
     "text": [
      "index_parallel='0094'\n"
     ]
    },
    {
     "name": "stderr",
     "output_type": "stream",
     "text": [
      "\u001b[32m[I 2022-08-16 04:23:15,376]\u001b[0m Trial 94 finished with value: 6395.724576271186 and parameters: {'kErase': 2, 'kRadius': 2, 'kAnnealingA': -0.5454959414756815, 'kAnnealingB': 1.3738364209977787, 'kAnnealingStart': 57.698352127627054, 'kSkipRatio': 0.7621839076675506, 'kTargetDeterminationTrials': 14, 'kAttractionRatio': 0.03409601374912622, 'kMaxAttractionDistance': 17, 'kStartAttraction': 0.38650407427581934}. Best is trial 87 with value: 6445.872881355932.\u001b[0m\n"
     ]
    },
    {
     "name": "stdout",
     "output_type": "stream",
     "text": [
      "index_parallel='0095'\n"
     ]
    },
    {
     "name": "stderr",
     "output_type": "stream",
     "text": [
      "\u001b[32m[I 2022-08-16 04:27:40,076]\u001b[0m Trial 95 finished with value: 6426.292372881356 and parameters: {'kErase': 2, 'kRadius': 2, 'kAnnealingA': -2.3435748957949745, 'kAnnealingB': 1.0571948346821827, 'kAnnealingStart': 47.027518101701666, 'kSkipRatio': 0.7984664088224316, 'kTargetDeterminationTrials': 16, 'kAttractionRatio': 0.030007113198274007, 'kMaxAttractionDistance': 15, 'kStartAttraction': 0.21321737750067865}. Best is trial 87 with value: 6445.872881355932.\u001b[0m\n"
     ]
    },
    {
     "name": "stdout",
     "output_type": "stream",
     "text": [
      "index_parallel='0096'\n"
     ]
    },
    {
     "name": "stderr",
     "output_type": "stream",
     "text": [
      "\u001b[32m[I 2022-08-16 04:32:05,127]\u001b[0m Trial 96 finished with value: 6310.364406779661 and parameters: {'kErase': 2, 'kRadius': 2, 'kAnnealingA': 0.5738473303265803, 'kAnnealingB': 1.1887413740275103, 'kAnnealingStart': 84.84278330764958, 'kSkipRatio': 0.7964677390143994, 'kTargetDeterminationTrials': 16, 'kAttractionRatio': 0.03965582085844292, 'kMaxAttractionDistance': 15, 'kStartAttraction': 0.21006268925399632}. Best is trial 87 with value: 6445.872881355932.\u001b[0m\n"
     ]
    },
    {
     "name": "stdout",
     "output_type": "stream",
     "text": [
      "index_parallel='0097'\n"
     ]
    },
    {
     "name": "stderr",
     "output_type": "stream",
     "text": [
      "\u001b[32m[I 2022-08-16 04:36:29,899]\u001b[0m Trial 97 finished with value: 6414.131355932203 and parameters: {'kErase': 2, 'kRadius': 2, 'kAnnealingA': -2.27128735930882, 'kAnnealingB': 1.0710596102119838, 'kAnnealingStart': 62.75818224569328, 'kSkipRatio': 0.7709618225345044, 'kTargetDeterminationTrials': 18, 'kAttractionRatio': 0.0468686460331255, 'kMaxAttractionDistance': 22, 'kStartAttraction': 0.5369335842818105}. Best is trial 87 with value: 6445.872881355932.\u001b[0m\n"
     ]
    },
    {
     "name": "stdout",
     "output_type": "stream",
     "text": [
      "index_parallel='0098'\n"
     ]
    },
    {
     "name": "stderr",
     "output_type": "stream",
     "text": [
      "\u001b[32m[I 2022-08-16 04:40:54,360]\u001b[0m Trial 98 finished with value: 6405.296610169492 and parameters: {'kErase': 2, 'kRadius': 2, 'kAnnealingA': -3.9413432326087996, 'kAnnealingB': 1.0886865284398815, 'kAnnealingStart': 64.71857893787308, 'kSkipRatio': 0.7701298385660845, 'kTargetDeterminationTrials': 18, 'kAttractionRatio': 0.045707429098141066, 'kMaxAttractionDistance': 20, 'kStartAttraction': 0.529859272855919}. Best is trial 87 with value: 6445.872881355932.\u001b[0m\n"
     ]
    },
    {
     "name": "stdout",
     "output_type": "stream",
     "text": [
      "index_parallel='0099'\n"
     ]
    },
    {
     "name": "stderr",
     "output_type": "stream",
     "text": [
      "\u001b[32m[I 2022-08-16 04:45:18,689]\u001b[0m Trial 99 finished with value: 6386.0 and parameters: {'kErase': 1, 'kRadius': 2, 'kAnnealingA': -2.3893666216650566, 'kAnnealingB': 1.2342066877707218, 'kAnnealingStart': 47.78977248933231, 'kSkipRatio': 0.7347913347172657, 'kTargetDeterminationTrials': 16, 'kAttractionRatio': 0.056131397690833154, 'kMaxAttractionDistance': 16, 'kStartAttraction': 0.4281352941865303}. Best is trial 87 with value: 6445.872881355932.\u001b[0m\n"
     ]
    },
    {
     "name": "stdout",
     "output_type": "stream",
     "text": [
      "index_parallel='0100'\n"
     ]
    },
    {
     "name": "stderr",
     "output_type": "stream",
     "text": [
      "\u001b[32m[I 2022-08-16 04:49:43,113]\u001b[0m Trial 100 finished with value: 6342.669491525424 and parameters: {'kErase': 2, 'kRadius': 2, 'kAnnealingA': -0.9898845758346146, 'kAnnealingB': 0.9678503056982766, 'kAnnealingStart': 75.86843023082281, 'kSkipRatio': 0.7877250777194829, 'kTargetDeterminationTrials': 15, 'kAttractionRatio': 0.03592048483836177, 'kMaxAttractionDistance': 13, 'kStartAttraction': 0.18669217733615057}. Best is trial 87 with value: 6445.872881355932.\u001b[0m\n"
     ]
    },
    {
     "name": "stdout",
     "output_type": "stream",
     "text": [
      "index_parallel='0101'\n"
     ]
    },
    {
     "name": "stderr",
     "output_type": "stream",
     "text": [
      "\u001b[32m[I 2022-08-16 04:54:07,893]\u001b[0m Trial 101 finished with value: 6423.449152542373 and parameters: {'kErase': 2, 'kRadius': 2, 'kAnnealingA': -2.0240861492889817, 'kAnnealingB': 1.1608226955757373, 'kAnnealingStart': 44.422978507419664, 'kSkipRatio': 0.7665710849559054, 'kTargetDeterminationTrials': 13, 'kAttractionRatio': 0.030302865523467403, 'kMaxAttractionDistance': 14, 'kStartAttraction': 0.5608235982216021}. Best is trial 87 with value: 6445.872881355932.\u001b[0m\n"
     ]
    },
    {
     "name": "stdout",
     "output_type": "stream",
     "text": [
      "index_parallel='0102'\n"
     ]
    },
    {
     "name": "stderr",
     "output_type": "stream",
     "text": [
      "\u001b[32m[I 2022-08-16 04:58:32,307]\u001b[0m Trial 102 finished with value: 6416.927966101695 and parameters: {'kErase': 2, 'kRadius': 2, 'kAnnealingA': -1.9948189839193586, 'kAnnealingB': 1.0538131915609583, 'kAnnealingStart': 54.105387323619695, 'kSkipRatio': 0.7685767100966069, 'kTargetDeterminationTrials': 13, 'kAttractionRatio': 0.03061386405659609, 'kMaxAttractionDistance': 22, 'kStartAttraction': 0.3613489522776967}. Best is trial 87 with value: 6445.872881355932.\u001b[0m\n"
     ]
    },
    {
     "name": "stdout",
     "output_type": "stream",
     "text": [
      "index_parallel='0103'\n"
     ]
    },
    {
     "name": "stderr",
     "output_type": "stream",
     "text": [
      "\u001b[32m[I 2022-08-16 05:02:56,813]\u001b[0m Trial 103 finished with value: 6428.686440677966 and parameters: {'kErase': 2, 'kRadius': 2, 'kAnnealingA': -2.269497449499255, 'kAnnealingB': 1.4382702933969171, 'kAnnealingStart': 54.880767711966406, 'kSkipRatio': 0.7700291166280279, 'kTargetDeterminationTrials': 17, 'kAttractionRatio': 0.02938515746109535, 'kMaxAttractionDistance': 24, 'kStartAttraction': 0.5571821111001445}. Best is trial 87 with value: 6445.872881355932.\u001b[0m\n"
     ]
    },
    {
     "name": "stdout",
     "output_type": "stream",
     "text": [
      "index_parallel='0105'\n"
     ]
    },
    {
     "name": "stderr",
     "output_type": "stream",
     "text": [
      "\u001b[32m[I 2022-08-16 05:07:21,503]\u001b[0m Trial 105 finished with value: 6425.228813559322 and parameters: {'kErase': 2, 'kRadius': 6, 'kAnnealingA': -2.61546552785716, 'kAnnealingB': 1.153822689407449, 'kAnnealingStart': 55.11619152088796, 'kSkipRatio': 0.7997637228526282, 'kTargetDeterminationTrials': 19, 'kAttractionRatio': 0.02982560871668786, 'kMaxAttractionDistance': 23, 'kStartAttraction': 0.5770663809518572}. Best is trial 87 with value: 6445.872881355932.\u001b[0m\n"
     ]
    },
    {
     "name": "stdout",
     "output_type": "stream",
     "text": [
      "index_parallel='0107'\n"
     ]
    },
    {
     "name": "stderr",
     "output_type": "stream",
     "text": [
      "\u001b[32m[I 2022-08-16 05:11:46,330]\u001b[0m Trial 107 finished with value: 6393.847457627118 and parameters: {'kErase': 2, 'kRadius': 6, 'kAnnealingA': -4.540894975457958, 'kAnnealingB': 1.1468681319921596, 'kAnnealingStart': 41.735885062840914, 'kSkipRatio': 0.7892080150999963, 'kTargetDeterminationTrials': 19, 'kAttractionRatio': 0.028342416208874413, 'kMaxAttractionDistance': 14, 'kStartAttraction': 0.7618766453952113}. Best is trial 87 with value: 6445.872881355932.\u001b[0m\n"
     ]
    },
    {
     "name": "stdout",
     "output_type": "stream",
     "text": [
      "index_parallel='0109'\n"
     ]
    },
    {
     "name": "stderr",
     "output_type": "stream",
     "text": [
      "\u001b[32m[I 2022-08-16 05:16:11,460]\u001b[0m Trial 109 finished with value: 6426.85593220339 and parameters: {'kErase': 2, 'kRadius': 5, 'kAnnealingA': -3.3889237942473613, 'kAnnealingB': 1.2353278517540434, 'kAnnealingStart': 70.8348188586631, 'kSkipRatio': 0.7604980519752033, 'kTargetDeterminationTrials': 17, 'kAttractionRatio': 0.025797865933689212, 'kMaxAttractionDistance': 29, 'kStartAttraction': 0.5629704647236237}. Best is trial 87 with value: 6445.872881355932.\u001b[0m\n"
     ]
    },
    {
     "name": "stdout",
     "output_type": "stream",
     "text": [
      "index_parallel='0111'\n"
     ]
    },
    {
     "name": "stderr",
     "output_type": "stream",
     "text": [
      "\u001b[32m[I 2022-08-16 05:20:36,203]\u001b[0m Trial 111 finished with value: 6405.050847457627 and parameters: {'kErase': 2, 'kRadius': 6, 'kAnnealingA': -3.637702716460815, 'kAnnealingB': 1.2309084042949703, 'kAnnealingStart': 91.90269157110137, 'kSkipRatio': 0.7783487221938306, 'kTargetDeterminationTrials': 16, 'kAttractionRatio': 0.021410774948361348, 'kMaxAttractionDistance': 24, 'kStartAttraction': 0.4419226953379182}. Best is trial 87 with value: 6445.872881355932.\u001b[0m\n"
     ]
    },
    {
     "name": "stdout",
     "output_type": "stream",
     "text": [
      "index_parallel='0113'\n"
     ]
    },
    {
     "name": "stderr",
     "output_type": "stream",
     "text": [
      "\u001b[32m[I 2022-08-16 05:25:01,029]\u001b[0m Trial 113 finished with value: 6347.932203389831 and parameters: {'kErase': 2, 'kRadius': 5, 'kAnnealingA': -0.48332985862700695, 'kAnnealingB': 1.3151973105489592, 'kAnnealingStart': 75.1806183768327, 'kSkipRatio': 0.7704920008783082, 'kTargetDeterminationTrials': 17, 'kAttractionRatio': 0.02603859860927219, 'kMaxAttractionDistance': 19, 'kStartAttraction': 0.30719421008720055}. Best is trial 87 with value: 6445.872881355932.\u001b[0m\n"
     ]
    },
    {
     "name": "stdout",
     "output_type": "stream",
     "text": [
      "index_parallel='0115'\n"
     ]
    },
    {
     "name": "stderr",
     "output_type": "stream",
     "text": [
      "\u001b[32m[I 2022-08-16 05:29:25,688]\u001b[0m Trial 115 finished with value: 6348.877118644068 and parameters: {'kErase': 2, 'kRadius': 5, 'kAnnealingA': 0.09946856950381644, 'kAnnealingB': 1.158585472810689, 'kAnnealingStart': 66.39237826206127, 'kSkipRatio': 0.7584095140138183, 'kTargetDeterminationTrials': 18, 'kAttractionRatio': 0.04063441607415682, 'kMaxAttractionDistance': 31, 'kStartAttraction': 0.5981877756139985}. Best is trial 87 with value: 6445.872881355932.\u001b[0m\n"
     ]
    },
    {
     "name": "stdout",
     "output_type": "stream",
     "text": [
      "index_parallel='0117'\n"
     ]
    },
    {
     "name": "stderr",
     "output_type": "stream",
     "text": [
      "\u001b[32m[I 2022-08-16 05:33:50,679]\u001b[0m Trial 117 finished with value: 6440.3050847457625 and parameters: {'kErase': 2, 'kRadius': 2, 'kAnnealingA': -0.7983383244180241, 'kAnnealingB': 0.9967492169527186, 'kAnnealingStart': 49.13288058280629, 'kSkipRatio': 0.7999879040137363, 'kTargetDeterminationTrials': 15, 'kAttractionRatio': 0.03181012030322266, 'kMaxAttractionDistance': 26, 'kStartAttraction': 0.7101322482603186}. Best is trial 87 with value: 6445.872881355932.\u001b[0m\n"
     ]
    },
    {
     "name": "stdout",
     "output_type": "stream",
     "text": [
      "index_parallel='0119'\n"
     ]
    },
    {
     "name": "stderr",
     "output_type": "stream",
     "text": [
      "\u001b[32m[I 2022-08-16 05:38:15,366]\u001b[0m Trial 119 finished with value: 6423.864406779661 and parameters: {'kErase': 2, 'kRadius': 6, 'kAnnealingA': -3.0039916042776595, 'kAnnealingB': 0.9463073417777367, 'kAnnealingStart': 60.34344803338417, 'kSkipRatio': 0.7991911995807244, 'kTargetDeterminationTrials': 15, 'kAttractionRatio': 0.023874920955895728, 'kMaxAttractionDistance': 10, 'kStartAttraction': 0.6972636756881676}. Best is trial 87 with value: 6445.872881355932.\u001b[0m\n"
     ]
    },
    {
     "name": "stdout",
     "output_type": "stream",
     "text": [
      "index_parallel='0121'\n"
     ]
    },
    {
     "name": "stderr",
     "output_type": "stream",
     "text": [
      "\u001b[32m[I 2022-08-16 05:42:40,224]\u001b[0m Trial 121 finished with value: 6252.957627118644 and parameters: {'kErase': 1, 'kRadius': 2, 'kAnnealingA': 0.811932415680026, 'kAnnealingB': 1.4301952043202717, 'kAnnealingStart': 55.624925572215226, 'kSkipRatio': 0.784706446395909, 'kTargetDeterminationTrials': 20, 'kAttractionRatio': 0.5735019132462829, 'kMaxAttractionDistance': 21, 'kStartAttraction': 0.4842960675580129}. Best is trial 87 with value: 6445.872881355932.\u001b[0m\n"
     ]
    },
    {
     "name": "stdout",
     "output_type": "stream",
     "text": [
      "index_parallel='0123'\n"
     ]
    },
    {
     "name": "stderr",
     "output_type": "stream",
     "text": [
      "\u001b[32m[I 2022-08-16 05:47:05,048]\u001b[0m Trial 123 finished with value: 6410.525423728814 and parameters: {'kErase': 2, 'kRadius': 6, 'kAnnealingA': -3.74258965189066, 'kAnnealingB': 0.9246200955646052, 'kAnnealingStart': 48.628799943870376, 'kSkipRatio': 0.7959801387244805, 'kTargetDeterminationTrials': 16, 'kAttractionRatio': 0.02387966074018573, 'kMaxAttractionDistance': 24, 'kStartAttraction': 0.728761860910153}. Best is trial 87 with value: 6445.872881355932.\u001b[0m\n"
     ]
    },
    {
     "name": "stdout",
     "output_type": "stream",
     "text": [
      "index_parallel='0125'\n"
     ]
    },
    {
     "name": "stderr",
     "output_type": "stream",
     "text": [
      "\u001b[32m[I 2022-08-16 05:51:30,091]\u001b[0m Trial 125 finished with value: 6063.521186440678 and parameters: {'kErase': 2, 'kRadius': 6, 'kAnnealingA': -2.4770223761965, 'kAnnealingB': 1.0186026181706906, 'kAnnealingStart': 5.247328711837859, 'kSkipRatio': 0.7483478033337005, 'kTargetDeterminationTrials': 17, 'kAttractionRatio': 0.02802837761406094, 'kMaxAttractionDistance': 8, 'kStartAttraction': 0.815833977824307}. Best is trial 87 with value: 6445.872881355932.\u001b[0m\n"
     ]
    },
    {
     "name": "stdout",
     "output_type": "stream",
     "text": [
      "index_parallel='0127'\n"
     ]
    },
    {
     "name": "stderr",
     "output_type": "stream",
     "text": [
      "\u001b[32m[I 2022-08-16 05:55:55,394]\u001b[0m Trial 127 finished with value: 6438.088983050848 and parameters: {'kErase': 2, 'kRadius': 2, 'kAnnealingA': -1.0171373361591727, 'kAnnealingB': 1.2295725475816106, 'kAnnealingStart': 38.36010730639923, 'kSkipRatio': 0.7774854121657412, 'kTargetDeterminationTrials': 12, 'kAttractionRatio': 0.034667721221955584, 'kMaxAttractionDistance': 36, 'kStartAttraction': 0.5906487167306519}. Best is trial 87 with value: 6445.872881355932.\u001b[0m\n"
     ]
    },
    {
     "name": "stdout",
     "output_type": "stream",
     "text": [
      "index_parallel='0129'\n"
     ]
    },
    {
     "name": "stderr",
     "output_type": "stream",
     "text": [
      "\u001b[32m[I 2022-08-16 06:00:20,341]\u001b[0m Trial 129 finished with value: 6450.330508474576 and parameters: {'kErase': 2, 'kRadius': 2, 'kAnnealingA': -1.0141600721161024, 'kAnnealingB': 1.2698839741785997, 'kAnnealingStart': 37.85522388617747, 'kSkipRatio': 0.777411347676616, 'kTargetDeterminationTrials': 12, 'kAttractionRatio': 0.01976806138071237, 'kMaxAttractionDistance': 40, 'kStartAttraction': 0.41264984903147844}. Best is trial 128 with value: 6459.733050847458.\u001b[0m\n"
     ]
    },
    {
     "name": "stdout",
     "output_type": "stream",
     "text": [
      "index_parallel='0131'\n"
     ]
    },
    {
     "name": "stderr",
     "output_type": "stream",
     "text": [
      "\u001b[32m[I 2022-08-16 06:04:44,983]\u001b[0m Trial 131 finished with value: 6436.809322033899 and parameters: {'kErase': 2, 'kRadius': 2, 'kAnnealingA': -0.8613581986899479, 'kAnnealingB': 1.0988014361147276, 'kAnnealingStart': 37.211221636575154, 'kSkipRatio': 0.7254890200247204, 'kTargetDeterminationTrials': 12, 'kAttractionRatio': 0.018707232577684082, 'kMaxAttractionDistance': 42, 'kStartAttraction': 0.39849416528158144}. Best is trial 128 with value: 6459.733050847458.\u001b[0m\n"
     ]
    },
    {
     "name": "stdout",
     "output_type": "stream",
     "text": [
      "index_parallel='0133'\n"
     ]
    },
    {
     "name": "stderr",
     "output_type": "stream",
     "text": [
      "\u001b[32m[I 2022-08-16 06:09:09,895]\u001b[0m Trial 133 finished with value: 6449.800847457627 and parameters: {'kErase': 2, 'kRadius': 2, 'kAnnealingA': -0.9067665603602033, 'kAnnealingB': 1.105325177347506, 'kAnnealingStart': 37.61802526255443, 'kSkipRatio': 0.77293706840288, 'kTargetDeterminationTrials': 12, 'kAttractionRatio': 0.019875432253776953, 'kMaxAttractionDistance': 42, 'kStartAttraction': 0.40125615749101495}. Best is trial 128 with value: 6459.733050847458.\u001b[0m\n"
     ]
    },
    {
     "name": "stdout",
     "output_type": "stream",
     "text": [
      "index_parallel='0135'\n"
     ]
    },
    {
     "name": "stderr",
     "output_type": "stream",
     "text": [
      "\u001b[32m[I 2022-08-16 06:13:34,589]\u001b[0m Trial 135 finished with value: 6433.572033898305 and parameters: {'kErase': 2, 'kRadius': 2, 'kAnnealingA': -0.9081730638134906, 'kAnnealingB': 1.113711938140389, 'kAnnealingStart': 36.567864344259995, 'kSkipRatio': 0.7819928997669197, 'kTargetDeterminationTrials': 12, 'kAttractionRatio': 0.016338360890606137, 'kMaxAttractionDistance': 42, 'kStartAttraction': 0.39682377084716164}. Best is trial 128 with value: 6459.733050847458.\u001b[0m\n"
     ]
    },
    {
     "name": "stdout",
     "output_type": "stream",
     "text": [
      "index_parallel='0137'\n"
     ]
    },
    {
     "name": "stderr",
     "output_type": "stream",
     "text": [
      "\u001b[32m[I 2022-08-16 06:17:59,231]\u001b[0m Trial 137 finished with value: 6444.097457627118 and parameters: {'kErase': 2, 'kRadius': 2, 'kAnnealingA': -0.6923123998147487, 'kAnnealingB': 1.2930292041806768, 'kAnnealingStart': 35.697991929765124, 'kSkipRatio': 0.7814275826802268, 'kTargetDeterminationTrials': 11, 'kAttractionRatio': 0.017142559903885125, 'kMaxAttractionDistance': 46, 'kStartAttraction': 0.40196229214081486}. Best is trial 128 with value: 6459.733050847458.\u001b[0m\n"
     ]
    },
    {
     "name": "stdout",
     "output_type": "stream",
     "text": [
      "index_parallel='0139'\n"
     ]
    },
    {
     "name": "stderr",
     "output_type": "stream",
     "text": [
      "\u001b[32m[I 2022-08-16 06:22:24,173]\u001b[0m Trial 139 finished with value: 6450.656779661017 and parameters: {'kErase': 2, 'kRadius': 2, 'kAnnealingA': 0.034920479585658804, 'kAnnealingB': 1.27090736958511, 'kAnnealingStart': 30.154567904539814, 'kSkipRatio': 0.7809333809530868, 'kTargetDeterminationTrials': 11, 'kAttractionRatio': 0.020677932504988877, 'kMaxAttractionDistance': 47, 'kStartAttraction': 0.29946554491043864}. Best is trial 128 with value: 6459.733050847458.\u001b[0m\n"
     ]
    },
    {
     "name": "stdout",
     "output_type": "stream",
     "text": [
      "index_parallel='0141'\n"
     ]
    },
    {
     "name": "stderr",
     "output_type": "stream",
     "text": [
      "\u001b[32m[I 2022-08-16 06:26:48,684]\u001b[0m Trial 141 finished with value: 6438.063559322034 and parameters: {'kErase': 2, 'kRadius': 2, 'kAnnealingA': 0.7214125000799227, 'kAnnealingB': 1.5795298162602331, 'kAnnealingStart': 30.326289246327068, 'kSkipRatio': 0.7864065443782008, 'kTargetDeterminationTrials': 10, 'kAttractionRatio': 0.016330536992222706, 'kMaxAttractionDistance': 36, 'kStartAttraction': 0.4730687662678762}. Best is trial 128 with value: 6459.733050847458.\u001b[0m\n"
     ]
    },
    {
     "name": "stdout",
     "output_type": "stream",
     "text": [
      "index_parallel='0143'\n"
     ]
    },
    {
     "name": "stderr",
     "output_type": "stream",
     "text": [
      "\u001b[32m[I 2022-08-16 06:31:13,295]\u001b[0m Trial 143 finished with value: 6392.292372881356 and parameters: {'kErase': 2, 'kRadius': 2, 'kAnnealingA': 1.5604081520579456, 'kAnnealingB': 1.5461966030547094, 'kAnnealingStart': 38.53389105564546, 'kSkipRatio': 0.7829454305384299, 'kTargetDeterminationTrials': 11, 'kAttractionRatio': 0.016301258619139992, 'kMaxAttractionDistance': 37, 'kStartAttraction': 0.48719818459190395}. Best is trial 128 with value: 6459.733050847458.\u001b[0m\n"
     ]
    },
    {
     "name": "stdout",
     "output_type": "stream",
     "text": [
      "index_parallel='0145'\n"
     ]
    },
    {
     "name": "stderr",
     "output_type": "stream",
     "text": [
      "\u001b[32m[I 2022-08-16 06:35:37,873]\u001b[0m Trial 145 finished with value: 6444.881355932203 and parameters: {'kErase': 2, 'kRadius': 2, 'kAnnealingA': 0.5863373957731086, 'kAnnealingB': 1.4979156714765278, 'kAnnealingStart': 32.492284739317036, 'kSkipRatio': 0.7873162202166419, 'kTargetDeterminationTrials': 10, 'kAttractionRatio': 0.23698761649274702, 'kMaxAttractionDistance': 33, 'kStartAttraction': 0.4958128588638272}. Best is trial 128 with value: 6459.733050847458.\u001b[0m\n"
     ]
    },
    {
     "name": "stdout",
     "output_type": "stream",
     "text": [
      "index_parallel='0147'\n"
     ]
    },
    {
     "name": "stderr",
     "output_type": "stream",
     "text": [
      "\u001b[32m[I 2022-08-16 06:40:03,761]\u001b[0m Trial 147 finished with value: 6457.957627118644 and parameters: {'kErase': 2, 'kRadius': 2, 'kAnnealingA': -0.16562466207459092, 'kAnnealingB': 1.6530669866602485, 'kAnnealingStart': 33.86942546311786, 'kSkipRatio': 0.7612664329664944, 'kTargetDeterminationTrials': 9, 'kAttractionRatio': 0.09521598181357861, 'kMaxAttractionDistance': 32, 'kStartAttraction': 0.6502367226486129}. Best is trial 128 with value: 6459.733050847458.\u001b[0m\n"
     ]
    },
    {
     "name": "stdout",
     "output_type": "stream",
     "text": [
      "index_parallel='0149'\n"
     ]
    },
    {
     "name": "stderr",
     "output_type": "stream",
     "text": [
      "\u001b[32m[I 2022-08-16 06:44:28,685]\u001b[0m Trial 149 finished with value: 6439.978813559322 and parameters: {'kErase': 2, 'kRadius': 2, 'kAnnealingA': 1.0729398949821043, 'kAnnealingB': 1.7161959794682677, 'kAnnealingStart': 34.036447260559434, 'kSkipRatio': 0.7618186019565574, 'kTargetDeterminationTrials': 9, 'kAttractionRatio': 0.35669075535121636, 'kMaxAttractionDistance': 32, 'kStartAttraction': 0.6437367969471112}. Best is trial 148 with value: 6479.025423728814.\u001b[0m\n"
     ]
    },
    {
     "name": "stdout",
     "output_type": "stream",
     "text": [
      "index_parallel='0151'\n"
     ]
    },
    {
     "name": "stderr",
     "output_type": "stream",
     "text": [
      "\u001b[32m[I 2022-08-16 06:48:53,507]\u001b[0m Trial 151 finished with value: 6453.716101694915 and parameters: {'kErase': 2, 'kRadius': 2, 'kAnnealingA': -0.027118588216003214, 'kAnnealingB': 1.7105667950664105, 'kAnnealingStart': 34.50871383699069, 'kSkipRatio': 0.7541931030998914, 'kTargetDeterminationTrials': 9, 'kAttractionRatio': 0.3193937535170672, 'kMaxAttractionDistance': 32, 'kStartAttraction': 0.6467634856499792}. Best is trial 148 with value: 6479.025423728814.\u001b[0m\n"
     ]
    },
    {
     "name": "stdout",
     "output_type": "stream",
     "text": [
      "index_parallel='0153'\n"
     ]
    },
    {
     "name": "stderr",
     "output_type": "stream",
     "text": [
      "\u001b[32m[I 2022-08-16 06:53:18,265]\u001b[0m Trial 153 finished with value: 6461.89406779661 and parameters: {'kErase': 2, 'kRadius': 2, 'kAnnealingA': -0.022116843653073093, 'kAnnealingB': 1.7161262233104433, 'kAnnealingStart': 33.52539665929822, 'kSkipRatio': 0.7568222970045219, 'kTargetDeterminationTrials': 9, 'kAttractionRatio': 0.33172339202821327, 'kMaxAttractionDistance': 32, 'kStartAttraction': 0.8737166081697035}. Best is trial 148 with value: 6479.025423728814.\u001b[0m\n"
     ]
    },
    {
     "name": "stdout",
     "output_type": "stream",
     "text": [
      "index_parallel='0155'\n"
     ]
    },
    {
     "name": "stderr",
     "output_type": "stream",
     "text": [
      "\u001b[32m[I 2022-08-16 06:57:42,861]\u001b[0m Trial 155 finished with value: 6207.661016949152 and parameters: {'kErase': 2, 'kRadius': 2, 'kAnnealingA': -0.23480422596282957, 'kAnnealingB': 1.7647645107310006, 'kAnnealingStart': 27.820438791182653, 'kSkipRatio': 0.5319834566403115, 'kTargetDeterminationTrials': 10, 'kAttractionRatio': 0.25347663737381565, 'kMaxAttractionDistance': 33, 'kStartAttraction': 0.8379777485569624}. Best is trial 148 with value: 6479.025423728814.\u001b[0m\n"
     ]
    },
    {
     "name": "stdout",
     "output_type": "stream",
     "text": [
      "index_parallel='0157'\n"
     ]
    },
    {
     "name": "stderr",
     "output_type": "stream",
     "text": [
      "\u001b[32m[I 2022-08-16 07:02:07,938]\u001b[0m Trial 157 finished with value: 6419.245762711865 and parameters: {'kErase': 2, 'kRadius': 2, 'kAnnealingA': 1.977304572983193, 'kAnnealingB': 1.90256572652823, 'kAnnealingStart': 33.781282122820585, 'kSkipRatio': 0.7500179512089455, 'kTargetDeterminationTrials': 8, 'kAttractionRatio': 0.6777798491344702, 'kMaxAttractionDistance': 39, 'kStartAttraction': 0.6830372655743452}. Best is trial 148 with value: 6479.025423728814.\u001b[0m\n"
     ]
    },
    {
     "name": "stdout",
     "output_type": "stream",
     "text": [
      "index_parallel='0159'\n"
     ]
    },
    {
     "name": "stderr",
     "output_type": "stream",
     "text": [
      "\u001b[32m[I 2022-08-16 07:06:32,829]\u001b[0m Trial 159 finished with value: 6445.487288135593 and parameters: {'kErase': 2, 'kRadius': 2, 'kAnnealingA': 0.3891289223493004, 'kAnnealingB': 1.8412637269761156, 'kAnnealingStart': 31.6757333441449, 'kSkipRatio': 0.7380756695242984, 'kTargetDeterminationTrials': 9, 'kAttractionRatio': 0.44395055633399294, 'kMaxAttractionDistance': 40, 'kStartAttraction': 0.8883192697534985}. Best is trial 148 with value: 6479.025423728814.\u001b[0m\n"
     ]
    },
    {
     "name": "stdout",
     "output_type": "stream",
     "text": [
      "index_parallel='0161'\n"
     ]
    },
    {
     "name": "stderr",
     "output_type": "stream",
     "text": [
      "\u001b[32m[I 2022-08-16 07:10:57,635]\u001b[0m Trial 161 finished with value: 6436.906779661017 and parameters: {'kErase': 2, 'kRadius': 2, 'kAnnealingA': 0.3144703803912636, 'kAnnealingB': 1.6808066860865982, 'kAnnealingStart': 25.522421852692496, 'kSkipRatio': 0.7239050856260375, 'kTargetDeterminationTrials': 9, 'kAttractionRatio': 0.4469705122817186, 'kMaxAttractionDistance': 40, 'kStartAttraction': 0.8677071676540806}. Best is trial 148 with value: 6479.025423728814.\u001b[0m\n"
     ]
    },
    {
     "name": "stdout",
     "output_type": "stream",
     "text": [
      "index_parallel='0163'\n"
     ]
    },
    {
     "name": "stderr",
     "output_type": "stream",
     "text": [
      "\u001b[32m[I 2022-08-16 07:15:22,261]\u001b[0m Trial 163 finished with value: 6427.449152542373 and parameters: {'kErase': 2, 'kRadius': 2, 'kAnnealingA': 2.678216931502716, 'kAnnealingB': 1.817473408593543, 'kAnnealingStart': 30.672076280385706, 'kSkipRatio': 0.743658986693154, 'kTargetDeterminationTrials': 10, 'kAttractionRatio': 0.4115068481430339, 'kMaxAttractionDistance': 45, 'kStartAttraction': 0.7564881987314273}. Best is trial 148 with value: 6479.025423728814.\u001b[0m\n"
     ]
    },
    {
     "name": "stdout",
     "output_type": "stream",
     "text": [
      "index_parallel='0165'\n"
     ]
    },
    {
     "name": "stderr",
     "output_type": "stream",
     "text": [
      "\u001b[32m[I 2022-08-16 07:19:46,720]\u001b[0m Trial 165 finished with value: 6463.639830508475 and parameters: {'kErase': 2, 'kRadius': 2, 'kAnnealingA': 0.963669258158725, 'kAnnealingB': 1.9519976230217067, 'kAnnealingStart': 34.50867309900222, 'kSkipRatio': 0.7564544473685987, 'kTargetDeterminationTrials': 9, 'kAttractionRatio': 0.237733546689275, 'kMaxAttractionDistance': 48, 'kStartAttraction': 0.8948116244756281}. Best is trial 148 with value: 6479.025423728814.\u001b[0m\n"
     ]
    },
    {
     "name": "stdout",
     "output_type": "stream",
     "text": [
      "index_parallel='0167'\n"
     ]
    },
    {
     "name": "stderr",
     "output_type": "stream",
     "text": [
      "\u001b[32m[I 2022-08-16 07:24:11,422]\u001b[0m Trial 167 finished with value: 6457.5550847457625 and parameters: {'kErase': 2, 'kRadius': 2, 'kAnnealingA': -0.2649232334000553, 'kAnnealingB': 1.7276337812059672, 'kAnnealingStart': 27.5790301237009, 'kSkipRatio': 0.7623314467819332, 'kTargetDeterminationTrials': 11, 'kAttractionRatio': 0.2161092421780217, 'kMaxAttractionDistance': 52, 'kStartAttraction': 0.6531400434471735}. Best is trial 148 with value: 6479.025423728814.\u001b[0m\n"
     ]
    },
    {
     "name": "stdout",
     "output_type": "stream",
     "text": [
      "index_parallel='0169'\n"
     ]
    },
    {
     "name": "stderr",
     "output_type": "stream",
     "text": [
      "\u001b[32m[I 2022-08-16 07:28:36,421]\u001b[0m Trial 169 finished with value: 6433.0847457627115 and parameters: {'kErase': 2, 'kRadius': 2, 'kAnnealingA': -0.20487057041340617, 'kAnnealingB': 1.7307759679660557, 'kAnnealingStart': 27.8344534890686, 'kSkipRatio': 0.7582521436905864, 'kTargetDeterminationTrials': 9, 'kAttractionRatio': 0.1596753922200267, 'kMaxAttractionDistance': 53, 'kStartAttraction': 0.899564674099767}. Best is trial 148 with value: 6479.025423728814.\u001b[0m\n"
     ]
    },
    {
     "name": "stdout",
     "output_type": "stream",
     "text": [
      "index_parallel='0171'\n"
     ]
    },
    {
     "name": "stderr",
     "output_type": "stream",
     "text": [
      "\u001b[32m[I 2022-08-16 07:33:01,319]\u001b[0m Trial 171 finished with value: 6454.012711864407 and parameters: {'kErase': 2, 'kRadius': 2, 'kAnnealingA': -1.7028136526632993, 'kAnnealingB': 1.8205834311955773, 'kAnnealingStart': 42.16974492696207, 'kSkipRatio': 0.7644330345042321, 'kTargetDeterminationTrials': 7, 'kAttractionRatio': 0.2234917137638953, 'kMaxAttractionDistance': 43, 'kStartAttraction': 0.6193036441740161}. Best is trial 148 with value: 6479.025423728814.\u001b[0m\n"
     ]
    },
    {
     "name": "stdout",
     "output_type": "stream",
     "text": [
      "index_parallel='0173'\n"
     ]
    },
    {
     "name": "stderr",
     "output_type": "stream",
     "text": [
      "\u001b[32m[I 2022-08-16 07:37:26,689]\u001b[0m Trial 173 finished with value: 6447.377118644068 and parameters: {'kErase': 2, 'kRadius': 2, 'kAnnealingA': -1.6546636017634373, 'kAnnealingB': 1.9779470460838735, 'kAnnealingStart': 42.27171093354898, 'kSkipRatio': 0.7675272085507752, 'kTargetDeterminationTrials': 7, 'kAttractionRatio': 0.3233512472696166, 'kMaxAttractionDistance': 38, 'kStartAttraction': 0.6078385152802895}. Best is trial 148 with value: 6479.025423728814.\u001b[0m\n"
     ]
    },
    {
     "name": "stdout",
     "output_type": "stream",
     "text": [
      "index_parallel='0175'\n"
     ]
    },
    {
     "name": "stderr",
     "output_type": "stream",
     "text": [
      "\u001b[32m[I 2022-08-16 07:41:51,436]\u001b[0m Trial 175 finished with value: 6454.419491525424 and parameters: {'kErase': 2, 'kRadius': 2, 'kAnnealingA': -1.857124951686853, 'kAnnealingB': 1.9730240922541782, 'kAnnealingStart': 40.005410967695795, 'kSkipRatio': 0.766728280290198, 'kTargetDeterminationTrials': 11, 'kAttractionRatio': 0.32279042278730113, 'kMaxAttractionDistance': 38, 'kStartAttraction': 0.6381394830867372}. Best is trial 148 with value: 6479.025423728814.\u001b[0m\n"
     ]
    },
    {
     "name": "stdout",
     "output_type": "stream",
     "text": [
      "index_parallel='0177'\n"
     ]
    },
    {
     "name": "stderr",
     "output_type": "stream",
     "text": [
      "\u001b[32m[I 2022-08-16 07:46:16,095]\u001b[0m Trial 177 finished with value: 6463.542372881356 and parameters: {'kErase': 2, 'kRadius': 2, 'kAnnealingA': -1.6533511296067418, 'kAnnealingB': 1.6188717815589437, 'kAnnealingStart': 40.54754249884544, 'kSkipRatio': 0.7434466862125793, 'kTargetDeterminationTrials': 11, 'kAttractionRatio': 0.2177514264769737, 'kMaxAttractionDistance': 38, 'kStartAttraction': 0.660714855697102}. Best is trial 148 with value: 6479.025423728814.\u001b[0m\n"
     ]
    },
    {
     "name": "stdout",
     "output_type": "stream",
     "text": [
      "index_parallel='0179'\n"
     ]
    },
    {
     "name": "stderr",
     "output_type": "stream",
     "text": [
      "\u001b[32m[I 2022-08-16 07:50:41,176]\u001b[0m Trial 179 finished with value: 6448.14406779661 and parameters: {'kErase': 2, 'kRadius': 2, 'kAnnealingA': -2.0211073353997504, 'kAnnealingB': 1.6170902578455768, 'kAnnealingStart': 40.46762305731774, 'kSkipRatio': 0.7291118316623034, 'kTargetDeterminationTrials': 7, 'kAttractionRatio': 0.2924105044804827, 'kMaxAttractionDistance': 38, 'kStartAttraction': 0.659481090838642}. Best is trial 148 with value: 6479.025423728814.\u001b[0m\n"
     ]
    },
    {
     "name": "stdout",
     "output_type": "stream",
     "text": [
      "index_parallel='0181'\n"
     ]
    },
    {
     "name": "stderr",
     "output_type": "stream",
     "text": [
      "\u001b[32m[I 2022-08-16 07:55:05,978]\u001b[0m Trial 181 finished with value: 6208.173728813559 and parameters: {'kErase': 2, 'kRadius': 2, 'kAnnealingA': -0.30771649852052385, 'kAnnealingB': 1.6233547339562828, 'kAnnealingStart': 7.5847863488362846, 'kSkipRatio': 0.688594047288959, 'kTargetDeterminationTrials': 10, 'kAttractionRatio': 0.36603691545386, 'kMaxAttractionDistance': 35, 'kStartAttraction': 0.6573160917034548}. Best is trial 148 with value: 6479.025423728814.\u001b[0m\n"
     ]
    },
    {
     "name": "stdout",
     "output_type": "stream",
     "text": [
      "index_parallel='0183'\n"
     ]
    },
    {
     "name": "stderr",
     "output_type": "stream",
     "text": [
      "\u001b[32m[I 2022-08-16 07:59:30,816]\u001b[0m Trial 183 finished with value: 6459.072033898305 and parameters: {'kErase': 2, 'kRadius': 2, 'kAnnealingA': -1.7909112820687922, 'kAnnealingB': 1.7184829881061634, 'kAnnealingStart': 43.1584347246759, 'kSkipRatio': 0.7464181238567493, 'kTargetDeterminationTrials': 7, 'kAttractionRatio': 0.21396592726900018, 'kMaxAttractionDistance': 30, 'kStartAttraction': 0.7355559905274898}. Best is trial 148 with value: 6479.025423728814.\u001b[0m\n"
     ]
    },
    {
     "name": "stdout",
     "output_type": "stream",
     "text": [
      "index_parallel='0185'\n"
     ]
    },
    {
     "name": "stderr",
     "output_type": "stream",
     "text": [
      "\u001b[32m[I 2022-08-16 08:03:55,697]\u001b[0m Trial 185 finished with value: 6442.3983050847455 and parameters: {'kErase': 2, 'kRadius': 2, 'kAnnealingA': -1.6183086993956568, 'kAnnealingB': 1.7769039306697598, 'kAnnealingStart': 45.04492887723109, 'kSkipRatio': 0.7000875918705913, 'kTargetDeterminationTrials': 7, 'kAttractionRatio': 0.30095903240558913, 'kMaxAttractionDistance': 29, 'kStartAttraction': 0.7504800754468841}. Best is trial 148 with value: 6479.025423728814.\u001b[0m\n"
     ]
    },
    {
     "name": "stdout",
     "output_type": "stream",
     "text": [
      "index_parallel='0187'\n"
     ]
    },
    {
     "name": "stderr",
     "output_type": "stream",
     "text": [
      "\u001b[32m[I 2022-08-16 08:08:20,344]\u001b[0m Trial 187 finished with value: 6415.343220338983 and parameters: {'kErase': 2, 'kRadius': 2, 'kAnnealingA': 1.4354846381294601, 'kAnnealingB': 1.643829139422577, 'kAnnealingStart': 34.89345552909732, 'kSkipRatio': 0.7427700181986595, 'kTargetDeterminationTrials': 6, 'kAttractionRatio': 0.2366263537882596, 'kMaxAttractionDistance': 32, 'kStartAttraction': 0.5727683843297073}. Best is trial 148 with value: 6479.025423728814.\u001b[0m\n"
     ]
    },
    {
     "name": "stdout",
     "output_type": "stream",
     "text": [
      "index_parallel='0189'\n"
     ]
    },
    {
     "name": "stderr",
     "output_type": "stream",
     "text": [
      "\u001b[32m[I 2022-08-16 08:12:45,299]\u001b[0m Trial 189 finished with value: 6468.4915254237285 and parameters: {'kErase': 2, 'kRadius': 2, 'kAnnealingA': -0.35802841503735144, 'kAnnealingB': 2.098932302617313, 'kAnnealingStart': 34.76744691329177, 'kSkipRatio': 0.7217686683028629, 'kTargetDeterminationTrials': 8, 'kAttractionRatio': 0.3361199561525225, 'kMaxAttractionDistance': 28, 'kStartAttraction': 0.6850246877942051}. Best is trial 148 with value: 6479.025423728814.\u001b[0m\n"
     ]
    },
    {
     "name": "stdout",
     "output_type": "stream",
     "text": [
      "index_parallel='0191'\n"
     ]
    },
    {
     "name": "stderr",
     "output_type": "stream",
     "text": [
      "\u001b[32m[I 2022-08-16 08:17:10,039]\u001b[0m Trial 191 finished with value: 6425.550847457627 and parameters: {'kErase': 2, 'kRadius': 2, 'kAnnealingA': -0.37819263653777435, 'kAnnealingB': 2.1169850885927493, 'kAnnealingStart': 41.61762198698632, 'kSkipRatio': 0.7276374153551007, 'kTargetDeterminationTrials': 8, 'kAttractionRatio': 0.8716488277130525, 'kMaxAttractionDistance': 27, 'kStartAttraction': 0.7561363267007027}. Best is trial 148 with value: 6479.025423728814.\u001b[0m\n"
     ]
    },
    {
     "name": "stdout",
     "output_type": "stream",
     "text": [
      "index_parallel='0193'\n"
     ]
    },
    {
     "name": "stderr",
     "output_type": "stream",
     "text": [
      "\u001b[32m[I 2022-08-16 08:21:34,540]\u001b[0m Trial 193 finished with value: 6423.2584745762715 and parameters: {'kErase': 2, 'kRadius': 2, 'kAnnealingA': -1.8896337030093113, 'kAnnealingB': 1.713997080029331, 'kAnnealingStart': 34.1705455200583, 'kSkipRatio': 0.7536080157490235, 'kTargetDeterminationTrials': 9, 'kAttractionRatio': 0.39429968764597767, 'kMaxAttractionDistance': 37, 'kStartAttraction': 0.6339574879101673}. Best is trial 148 with value: 6479.025423728814.\u001b[0m\n"
     ]
    },
    {
     "name": "stdout",
     "output_type": "stream",
     "text": [
      "index_parallel='0195'\n"
     ]
    },
    {
     "name": "stderr",
     "output_type": "stream",
     "text": [
      "\u001b[32m[I 2022-08-16 08:25:59,189]\u001b[0m Trial 195 finished with value: 6415.716101694915 and parameters: {'kErase': 2, 'kRadius': 2, 'kAnnealingA': -1.5307384684791379, 'kAnnealingB': 2.1917345393658576, 'kAnnealingStart': 46.40065735697716, 'kSkipRatio': 0.7174150263168799, 'kTargetDeterminationTrials': 8, 'kAttractionRatio': 0.5424296680799503, 'kMaxAttractionDistance': 37, 'kStartAttraction': 0.5328348073695008}. Best is trial 148 with value: 6479.025423728814.\u001b[0m\n"
     ]
    },
    {
     "name": "stdout",
     "output_type": "stream",
     "text": [
      "index_parallel='0197'\n"
     ]
    },
    {
     "name": "stderr",
     "output_type": "stream",
     "text": [
      "\u001b[32m[I 2022-08-16 08:30:23,744]\u001b[0m Trial 197 finished with value: 6473.800847457627 and parameters: {'kErase': 2, 'kRadius': 2, 'kAnnealingA': 0.6828027639678186, 'kAnnealingB': 2.3956505726015855, 'kAnnealingStart': 39.115986653779345, 'kSkipRatio': 0.7409251170789711, 'kTargetDeterminationTrials': 10, 'kAttractionRatio': 0.5111337240919757, 'kMaxAttractionDistance': 34, 'kStartAttraction': 0.7738541213520672}. Best is trial 148 with value: 6479.025423728814.\u001b[0m\n"
     ]
    },
    {
     "name": "stdout",
     "output_type": "stream",
     "text": [
      "index_parallel='0199'\n"
     ]
    },
    {
     "name": "stderr",
     "output_type": "stream",
     "text": [
      "\u001b[32m[I 2022-08-16 08:34:48,467]\u001b[0m Trial 199 finished with value: 6448.542372881356 and parameters: {'kErase': 2, 'kRadius': 2, 'kAnnealingA': 0.891746572130683, 'kAnnealingB': 1.9321240820854586, 'kAnnealingStart': 30.64225184715968, 'kSkipRatio': 0.7298806202054231, 'kTargetDeterminationTrials': 11, 'kAttractionRatio': 0.6494646744679043, 'kMaxAttractionDistance': 34, 'kStartAttraction': 0.8001808855446245}. Best is trial 148 with value: 6479.025423728814.\u001b[0m\n"
     ]
    },
    {
     "name": "stdout",
     "output_type": "stream",
     "text": [
      "index_parallel='0201'\n"
     ]
    },
    {
     "name": "stderr",
     "output_type": "stream",
     "text": [
      "\u001b[32m[I 2022-08-16 08:39:13,116]\u001b[0m Trial 201 finished with value: 6167.610169491525 and parameters: {'kErase': 2, 'kRadius': 2, 'kAnnealingA': -14.999993871161934, 'kAnnealingB': 2.8403491976198714, 'kAnnealingStart': 36.77309419890484, 'kSkipRatio': 0.7125849985588462, 'kTargetDeterminationTrials': 10, 'kAttractionRatio': 0.350130232868886, 'kMaxAttractionDistance': 29, 'kStartAttraction': 0.888182074037101}. Best is trial 148 with value: 6479.025423728814.\u001b[0m\n"
     ]
    },
    {
     "name": "stdout",
     "output_type": "stream",
     "text": [
      "index_parallel='0203'\n"
     ]
    },
    {
     "name": "stderr",
     "output_type": "stream",
     "text": [
      "\u001b[32m[I 2022-08-16 08:43:37,781]\u001b[0m Trial 203 finished with value: 6442.682203389831 and parameters: {'kErase': 2, 'kRadius': 2, 'kAnnealingA': -0.5567579052039928, 'kAnnealingB': 1.590636798576311, 'kAnnealingStart': 39.458243018775725, 'kSkipRatio': 0.7588364326494152, 'kTargetDeterminationTrials': 9, 'kAttractionRatio': 0.21282375534827308, 'kMaxAttractionDistance': 31, 'kStartAttraction': 0.6044024216101939}. Best is trial 148 with value: 6479.025423728814.\u001b[0m\n"
     ]
    },
    {
     "name": "stdout",
     "output_type": "stream",
     "text": [
      "index_parallel='0205'\n"
     ]
    },
    {
     "name": "stderr",
     "output_type": "stream",
     "text": [
      "\u001b[32m[I 2022-08-16 08:48:02,718]\u001b[0m Trial 205 finished with value: 6245.838983050848 and parameters: {'kErase': 2, 'kRadius': 2, 'kAnnealingA': 0.24852277618509044, 'kAnnealingB': 2.5821996863422068, 'kAnnealingStart': 10.59439954768911, 'kSkipRatio': 0.7395161354822244, 'kTargetDeterminationTrials': 9, 'kAttractionRatio': 0.09692902405902593, 'kMaxAttractionDistance': 30, 'kStartAttraction': 0.6784471607468355}. Best is trial 148 with value: 6479.025423728814.\u001b[0m\n"
     ]
    },
    {
     "name": "stdout",
     "output_type": "stream",
     "text": [
      "index_parallel='0207'\n"
     ]
    },
    {
     "name": "stderr",
     "output_type": "stream",
     "text": [
      "\u001b[32m[I 2022-08-16 08:52:27,431]\u001b[0m Trial 207 finished with value: 5701.580508474576 and parameters: {'kErase': 2, 'kRadius': 2, 'kAnnealingA': -0.4864864627984552, 'kAnnealingB': 2.06264686061677, 'kAnnealingStart': 36.52025444812718, 'kSkipRatio': 0.35973300842390543, 'kTargetDeterminationTrials': 11, 'kAttractionRatio': 0.4892466745579218, 'kMaxAttractionDistance': 35, 'kStartAttraction': 0.5336971775977617}. Best is trial 148 with value: 6479.025423728814.\u001b[0m\n"
     ]
    },
    {
     "name": "stdout",
     "output_type": "stream",
     "text": [
      "index_parallel='0209'\n"
     ]
    },
    {
     "name": "stderr",
     "output_type": "stream",
     "text": [
      "\u001b[32m[I 2022-08-16 08:56:51,998]\u001b[0m Trial 209 finished with value: 6482.385593220339 and parameters: {'kErase': 2, 'kRadius': 2, 'kAnnealingA': -0.970878447624744, 'kAnnealingB': 2.6933971227722817, 'kAnnealingStart': 32.02546068971461, 'kSkipRatio': 0.7618535037800346, 'kTargetDeterminationTrials': 1, 'kAttractionRatio': 0.6790213567180794, 'kMaxAttractionDistance': 28, 'kStartAttraction': 0.8101099148122572}. Best is trial 209 with value: 6482.385593220339.\u001b[0m\n"
     ]
    },
    {
     "name": "stdout",
     "output_type": "stream",
     "text": [
      "Updated! 6482.385593220339\n",
      "index_parallel='0211'\n"
     ]
    },
    {
     "name": "stderr",
     "output_type": "stream",
     "text": [
      "\u001b[32m[I 2022-08-16 09:01:17,088]\u001b[0m Trial 211 finished with value: 6474.5 and parameters: {'kErase': 2, 'kRadius': 2, 'kAnnealingA': 0.8803938810636822, 'kAnnealingB': 2.5550145051536335, 'kAnnealingStart': 29.130951892557672, 'kSkipRatio': 0.7517601111839287, 'kTargetDeterminationTrials': 8, 'kAttractionRatio': 0.8183828829969396, 'kMaxAttractionDistance': 28, 'kStartAttraction': 0.803045993273406}. Best is trial 209 with value: 6482.385593220339.\u001b[0m\n"
     ]
    },
    {
     "name": "stdout",
     "output_type": "stream",
     "text": [
      "index_parallel='0213'\n"
     ]
    },
    {
     "name": "stderr",
     "output_type": "stream",
     "text": [
      "\u001b[32m[I 2022-08-16 09:05:41,775]\u001b[0m Trial 213 finished with value: 6447.766949152542 and parameters: {'kErase': 2, 'kRadius': 2, 'kAnnealingA': 1.7102011111285924, 'kAnnealingB': 2.5089916475576555, 'kAnnealingStart': 24.692735425933186, 'kSkipRatio': 0.7471938322723262, 'kTargetDeterminationTrials': 8, 'kAttractionRatio': 0.769502427435354, 'kMaxAttractionDistance': 25, 'kStartAttraction': 0.8936078818560065}. Best is trial 209 with value: 6482.385593220339.\u001b[0m\n"
     ]
    },
    {
     "name": "stdout",
     "output_type": "stream",
     "text": [
      "index_parallel='0215'\n"
     ]
    },
    {
     "name": "stderr",
     "output_type": "stream",
     "text": [
      "\u001b[32m[I 2022-08-16 09:10:06,609]\u001b[0m Trial 215 finished with value: 6471.85593220339 and parameters: {'kErase': 2, 'kRadius': 2, 'kAnnealingA': 0.9921002436252351, 'kAnnealingB': 2.757082068782982, 'kAnnealingStart': 27.557041241802462, 'kSkipRatio': 0.7335495820259431, 'kTargetDeterminationTrials': 9, 'kAttractionRatio': 0.7020280089817911, 'kMaxAttractionDistance': 29, 'kStartAttraction': 0.7819381202217698}. Best is trial 209 with value: 6482.385593220339.\u001b[0m\n"
     ]
    },
    {
     "name": "stdout",
     "output_type": "stream",
     "text": [
      "index_parallel='0217'\n"
     ]
    },
    {
     "name": "stderr",
     "output_type": "stream",
     "text": [
      "\u001b[32m[I 2022-08-16 09:14:31,500]\u001b[0m Trial 217 finished with value: 6455.237288135593 and parameters: {'kErase': 2, 'kRadius': 2, 'kAnnealingA': 1.153336346468447, 'kAnnealingB': 2.627166491779216, 'kAnnealingStart': 31.17113126041651, 'kSkipRatio': 0.7317651489190536, 'kTargetDeterminationTrials': 9, 'kAttractionRatio': 0.76127570828149, 'kMaxAttractionDistance': 26, 'kStartAttraction': 0.7714592344191213}. Best is trial 209 with value: 6482.385593220339.\u001b[0m\n"
     ]
    },
    {
     "name": "stdout",
     "output_type": "stream",
     "text": [
      "index_parallel='0219'\n"
     ]
    },
    {
     "name": "stderr",
     "output_type": "stream",
     "text": [
      "\u001b[32m[I 2022-08-16 09:18:56,940]\u001b[0m Trial 219 finished with value: 6367.067796610169 and parameters: {'kErase': 5, 'kRadius': 2, 'kAnnealingA': -0.23994434222456462, 'kAnnealingB': 2.7542613287824924, 'kAnnealingStart': 28.37441722352406, 'kSkipRatio': 0.7616247152306713, 'kTargetDeterminationTrials': 10, 'kAttractionRatio': 0.6101805135283789, 'kMaxAttractionDistance': 31, 'kStartAttraction': 0.7893100210439401}. Best is trial 209 with value: 6482.385593220339.\u001b[0m\n"
     ]
    },
    {
     "name": "stdout",
     "output_type": "stream",
     "text": [
      "index_parallel='0221'\n"
     ]
    },
    {
     "name": "stderr",
     "output_type": "stream",
     "text": [
      "\u001b[32m[I 2022-08-16 09:23:22,358]\u001b[0m Trial 221 finished with value: 6041.10593220339 and parameters: {'kErase': 2, 'kRadius': 2, 'kAnnealingA': 2.354709306462817, 'kAnnealingB': 2.7964130174921857, 'kAnnealingStart': 1.782576553698175, 'kSkipRatio': 0.7227068958070977, 'kTargetDeterminationTrials': 9, 'kAttractionRatio': 0.6039048111286242, 'kMaxAttractionDistance': 29, 'kStartAttraction': 0.759201324852186}. Best is trial 209 with value: 6482.385593220339.\u001b[0m\n"
     ]
    },
    {
     "name": "stdout",
     "output_type": "stream",
     "text": [
      "index_parallel='0223'\n"
     ]
    },
    {
     "name": "stderr",
     "output_type": "stream",
     "text": [
      "\u001b[32m[I 2022-08-16 09:27:47,185]\u001b[0m Trial 223 finished with value: 6450.322033898305 and parameters: {'kErase': 2, 'kRadius': 2, 'kAnnealingA': 3.3844851262254307, 'kAnnealingB': 2.6924183677529157, 'kAnnealingStart': 22.56169906350621, 'kSkipRatio': 0.7624496945077529, 'kTargetDeterminationTrials': 8, 'kAttractionRatio': 0.7295037277252105, 'kMaxAttractionDistance': 33, 'kStartAttraction': 0.8173789328273113}. Best is trial 209 with value: 6482.385593220339.\u001b[0m\n"
     ]
    },
    {
     "name": "stdout",
     "output_type": "stream",
     "text": [
      "index_parallel='0225'\n"
     ]
    },
    {
     "name": "stderr",
     "output_type": "stream",
     "text": [
      "\u001b[32m[I 2022-08-16 09:32:11,953]\u001b[0m Trial 225 finished with value: 6440.4152542372885 and parameters: {'kErase': 2, 'kRadius': 2, 'kAnnealingA': 0.6741484094175203, 'kAnnealingB': 2.609241382061027, 'kAnnealingStart': 27.036353263413027, 'kSkipRatio': 0.7557199822087572, 'kTargetDeterminationTrials': 10, 'kAttractionRatio': 0.18602534753158234, 'kMaxAttractionDistance': 28, 'kStartAttraction': 0.8998103164040927}. Best is trial 209 with value: 6482.385593220339.\u001b[0m\n"
     ]
    },
    {
     "name": "stdout",
     "output_type": "stream",
     "text": [
      "index_parallel='0227'\n"
     ]
    },
    {
     "name": "stderr",
     "output_type": "stream",
     "text": [
      "\u001b[32m[I 2022-08-16 09:36:36,700]\u001b[0m Trial 227 finished with value: 6454.372881355932 and parameters: {'kErase': 2, 'kRadius': 2, 'kAnnealingA': 0.002114179557712037, 'kAnnealingB': 2.53948753125381, 'kAnnealingStart': 33.84029765279765, 'kSkipRatio': 0.7438019061037205, 'kTargetDeterminationTrials': 11, 'kAttractionRatio': 0.4020079729016969, 'kMaxAttractionDistance': 35, 'kStartAttraction': 0.5890717758216605}. Best is trial 209 with value: 6482.385593220339.\u001b[0m\n"
     ]
    },
    {
     "name": "stdout",
     "output_type": "stream",
     "text": [
      "index_parallel='0229'\n"
     ]
    },
    {
     "name": "stderr",
     "output_type": "stream",
     "text": [
      "\u001b[32m[I 2022-08-16 09:41:01,550]\u001b[0m Trial 229 finished with value: 6454.529661016949 and parameters: {'kErase': 2, 'kRadius': 2, 'kAnnealingA': -0.8072718303895334, 'kAnnealingB': 2.724033785937461, 'kAnnealingStart': 32.09173420266795, 'kSkipRatio': 0.7368013065785506, 'kTargetDeterminationTrials': 2, 'kAttractionRatio': 0.05572553058343798, 'kMaxAttractionDistance': 40, 'kStartAttraction': 0.6982497261105949}. Best is trial 209 with value: 6482.385593220339.\u001b[0m\n"
     ]
    },
    {
     "name": "stdout",
     "output_type": "stream",
     "text": [
      "index_parallel='0231'\n"
     ]
    },
    {
     "name": "stderr",
     "output_type": "stream",
     "text": [
      "\u001b[32m[I 2022-08-16 09:45:26,479]\u001b[0m Trial 231 finished with value: 6443.39406779661 and parameters: {'kErase': 2, 'kRadius': 2, 'kAnnealingA': -0.018506229986349654, 'kAnnealingB': 1.7666779775069736, 'kAnnealingStart': 36.298930453686665, 'kSkipRatio': 0.7694430153379288, 'kTargetDeterminationTrials': 9, 'kAttractionRatio': 0.08259141269466845, 'kMaxAttractionDistance': 32, 'kStartAttraction': 0.6877663987322374}. Best is trial 209 with value: 6482.385593220339.\u001b[0m\n"
     ]
    },
    {
     "name": "stdout",
     "output_type": "stream",
     "text": [
      "index_parallel='0233'\n"
     ]
    },
    {
     "name": "stderr",
     "output_type": "stream",
     "text": [
      "\u001b[32m[I 2022-08-16 09:49:51,249]\u001b[0m Trial 233 finished with value: 6477.2415254237285 and parameters: {'kErase': 2, 'kRadius': 2, 'kAnnealingA': 1.427769788004777, 'kAnnealingB': 2.4034222149583417, 'kAnnealingStart': 29.101847229086623, 'kSkipRatio': 0.7724253874181944, 'kTargetDeterminationTrials': 10, 'kAttractionRatio': 0.5488462457204988, 'kMaxAttractionDistance': 40, 'kStartAttraction': 0.6931366714631173}. Best is trial 209 with value: 6482.385593220339.\u001b[0m\n"
     ]
    },
    {
     "name": "stdout",
     "output_type": "stream",
     "text": [
      "index_parallel='0235'\n"
     ]
    },
    {
     "name": "stderr",
     "output_type": "stream",
     "text": [
      "\u001b[32m[I 2022-08-16 09:54:15,960]\u001b[0m Trial 235 finished with value: 6448.877118644068 and parameters: {'kErase': 2, 'kRadius': 2, 'kAnnealingA': 1.3068220669458415, 'kAnnealingB': 2.3884749219664894, 'kAnnealingStart': 30.32436874164263, 'kSkipRatio': 0.7535155157885033, 'kTargetDeterminationTrials': 8, 'kAttractionRatio': 0.465958141805347, 'kMaxAttractionDistance': 43, 'kStartAttraction': 0.796389643364056}. Best is trial 209 with value: 6482.385593220339.\u001b[0m\n"
     ]
    },
    {
     "name": "stdout",
     "output_type": "stream",
     "text": [
      "index_parallel='0237'\n"
     ]
    },
    {
     "name": "stderr",
     "output_type": "stream",
     "text": [
      "\u001b[32m[I 2022-08-16 09:58:40,842]\u001b[0m Trial 237 finished with value: 6414.5847457627115 and parameters: {'kErase': 2, 'kRadius': 2, 'kAnnealingA': 2.26029012065447, 'kAnnealingB': 2.470350823108316, 'kAnnealingStart': 19.658916829946776, 'kSkipRatio': 0.7726951836779931, 'kTargetDeterminationTrials': 9, 'kAttractionRatio': 0.5755808188107085, 'kMaxAttractionDistance': 36, 'kStartAttraction': 0.7145319454164502}. Best is trial 209 with value: 6482.385593220339.\u001b[0m\n"
     ]
    },
    {
     "name": "stdout",
     "output_type": "stream",
     "text": [
      "index_parallel='0239'\n"
     ]
    },
    {
     "name": "stderr",
     "output_type": "stream",
     "text": [
      "\u001b[32m[I 2022-08-16 10:03:05,483]\u001b[0m Trial 239 finished with value: 6432.347457627118 and parameters: {'kErase': 2, 'kRadius': 2, 'kAnnealingA': 0.6291545948917463, 'kAnnealingB': 2.83491049536505, 'kAnnealingStart': 33.96357592458477, 'kSkipRatio': 0.7410214448161668, 'kTargetDeterminationTrials': 10, 'kAttractionRatio': 0.41340612673232113, 'kMaxAttractionDistance': 39, 'kStartAttraction': 0.5924185901157727}. Best is trial 209 with value: 6482.385593220339.\u001b[0m\n"
     ]
    },
    {
     "name": "stdout",
     "output_type": "stream",
     "text": [
      "index_parallel='0241'\n"
     ]
    },
    {
     "name": "stderr",
     "output_type": "stream",
     "text": [
      "\u001b[32m[I 2022-08-16 10:07:30,221]\u001b[0m Trial 241 finished with value: 6306.567796610169 and parameters: {'kErase': 2, 'kRadius': 2, 'kAnnealingA': -1.102270980487209, 'kAnnealingB': 2.246788531613278, 'kAnnealingStart': 25.425169491314456, 'kSkipRatio': 0.5796919265273186, 'kTargetDeterminationTrials': 9, 'kAttractionRatio': 0.6602104580263856, 'kMaxAttractionDistance': 33, 'kStartAttraction': 0.5182583923660709}. Best is trial 209 with value: 6482.385593220339.\u001b[0m\n"
     ]
    },
    {
     "name": "stdout",
     "output_type": "stream",
     "text": [
      "index_parallel='0243'\n"
     ]
    },
    {
     "name": "stderr",
     "output_type": "stream",
     "text": [
      "\u001b[32m[I 2022-08-16 10:11:54,861]\u001b[0m Trial 243 finished with value: 6465.4915254237285 and parameters: {'kErase': 2, 'kRadius': 2, 'kAnnealingA': -0.0698103721978976, 'kAnnealingB': 1.6695051791370243, 'kAnnealingStart': 28.997595104460228, 'kSkipRatio': 0.7569742087122756, 'kTargetDeterminationTrials': 11, 'kAttractionRatio': 0.20186364855791453, 'kMaxAttractionDistance': 29, 'kStartAttraction': 0.6631741523732667}. Best is trial 209 with value: 6482.385593220339.\u001b[0m\n"
     ]
    },
    {
     "name": "stdout",
     "output_type": "stream",
     "text": [
      "index_parallel='0245'\n"
     ]
    },
    {
     "name": "stderr",
     "output_type": "stream",
     "text": [
      "\u001b[32m[I 2022-08-16 10:16:19,568]\u001b[0m Trial 245 finished with value: 6442.233050847458 and parameters: {'kErase': 2, 'kRadius': 2, 'kAnnealingA': 1.5084888209775709, 'kAnnealingB': 1.54357362922516, 'kAnnealingStart': 29.958190521923296, 'kSkipRatio': 0.7244800838375399, 'kTargetDeterminationTrials': 12, 'kAttractionRatio': 0.10203135407048473, 'kMaxAttractionDistance': 30, 'kStartAttraction': 0.8241759139684437}. Best is trial 209 with value: 6482.385593220339.\u001b[0m\n"
     ]
    },
    {
     "name": "stdout",
     "output_type": "stream",
     "text": [
      "index_parallel='0247'\n"
     ]
    },
    {
     "name": "stderr",
     "output_type": "stream",
     "text": [
      "\u001b[32m[I 2022-08-16 10:20:44,667]\u001b[0m Trial 247 finished with value: 6335.182203389831 and parameters: {'kErase': 2, 'kRadius': 2, 'kAnnealingA': 1.476294978099031, 'kAnnealingB': 1.6787257872948684, 'kAnnealingStart': 38.038264614444, 'kSkipRatio': 0.6313370357652317, 'kTargetDeterminationTrials': 10, 'kAttractionRatio': 0.2679377010641142, 'kMaxAttractionDistance': 26, 'kStartAttraction': 0.8878931831825504}. Best is trial 209 with value: 6482.385593220339.\u001b[0m\n"
     ]
    },
    {
     "name": "stdout",
     "output_type": "stream",
     "text": [
      "index_parallel='0249'\n"
     ]
    },
    {
     "name": "stderr",
     "output_type": "stream",
     "text": [
      "\u001b[32m[I 2022-08-16 10:25:09,763]\u001b[0m Trial 249 finished with value: 6326.309322033899 and parameters: {'kErase': 2, 'kRadius': 2, 'kAnnealingA': 0.27351078307927923, 'kAnnealingB': 1.881266211098904, 'kAnnealingStart': 32.356263166794115, 'kSkipRatio': 0.7458480921728985, 'kTargetDeterminationTrials': 13, 'kAttractionRatio': 0.19701430688702223, 'kMaxAttractionDistance': 29, 'kStartAttraction': 0.03042965854937572}. Best is trial 209 with value: 6482.385593220339.\u001b[0m\n"
     ]
    },
    {
     "name": "stdout",
     "output_type": "stream",
     "text": [
      "index_parallel='0251'\n"
     ]
    },
    {
     "name": "stderr",
     "output_type": "stream",
     "text": [
      "\u001b[32m[I 2022-08-16 10:29:34,888]\u001b[0m Trial 251 finished with value: 6473.550847457627 and parameters: {'kErase': 2, 'kRadius': 2, 'kAnnealingA': 0.6456482040536096, 'kAnnealingB': 1.7007482139322188, 'kAnnealingStart': 35.94979076663321, 'kSkipRatio': 0.7532882446979301, 'kTargetDeterminationTrials': 11, 'kAttractionRatio': 0.29568851252710976, 'kMaxAttractionDistance': 28, 'kStartAttraction': 0.7826603382750049}. Best is trial 209 with value: 6482.385593220339.\u001b[0m\n"
     ]
    },
    {
     "name": "stdout",
     "output_type": "stream",
     "text": [
      "index_parallel='0253'\n"
     ]
    },
    {
     "name": "stderr",
     "output_type": "stream",
     "text": [
      "\u001b[32m[I 2022-08-16 10:33:59,816]\u001b[0m Trial 253 finished with value: 6480.703389830508 and parameters: {'kErase': 2, 'kRadius': 2, 'kAnnealingA': 0.8052571096358832, 'kAnnealingB': 1.7492084332027518, 'kAnnealingStart': 36.428944077231534, 'kSkipRatio': 0.7536432239566656, 'kTargetDeterminationTrials': 12, 'kAttractionRatio': 0.2760655050483741, 'kMaxAttractionDistance': 27, 'kStartAttraction': 0.7548823235043826}. Best is trial 209 with value: 6482.385593220339.\u001b[0m\n"
     ]
    },
    {
     "name": "stdout",
     "output_type": "stream",
     "text": [
      "index_parallel='0255'\n"
     ]
    },
    {
     "name": "stderr",
     "output_type": "stream",
     "text": [
      "\u001b[32m[I 2022-08-16 10:38:24,488]\u001b[0m Trial 255 finished with value: 6465.1016949152545 and parameters: {'kErase': 2, 'kRadius': 2, 'kAnnealingA': 0.7284292628779717, 'kAnnealingB': 1.740689447349945, 'kAnnealingStart': 36.993200642062654, 'kSkipRatio': 0.7759489521177815, 'kTargetDeterminationTrials': 12, 'kAttractionRatio': 0.2465243366357592, 'kMaxAttractionDistance': 27, 'kStartAttraction': 0.7339830634187352}. Best is trial 209 with value: 6482.385593220339.\u001b[0m\n"
     ]
    },
    {
     "name": "stdout",
     "output_type": "stream",
     "text": [
      "index_parallel='0257'\n"
     ]
    },
    {
     "name": "stderr",
     "output_type": "stream",
     "text": [
      "\u001b[32m[I 2022-08-16 10:42:49,063]\u001b[0m Trial 257 finished with value: 6442.3050847457625 and parameters: {'kErase': 2, 'kRadius': 2, 'kAnnealingA': 0.5287227617878395, 'kAnnealingB': 1.7982627273300908, 'kAnnealingStart': 35.98038784570034, 'kSkipRatio': 0.7383309899238323, 'kTargetDeterminationTrials': 13, 'kAttractionRatio': 0.27186615264421815, 'kMaxAttractionDistance': 24, 'kStartAttraction': 0.7963728733259174}. Best is trial 209 with value: 6482.385593220339.\u001b[0m\n"
     ]
    },
    {
     "name": "stdout",
     "output_type": "stream",
     "text": [
      "index_parallel='0259'\n"
     ]
    },
    {
     "name": "stderr",
     "output_type": "stream",
     "text": [
      "\u001b[32m[I 2022-08-16 10:47:13,649]\u001b[0m Trial 259 finished with value: 6484.974576271186 and parameters: {'kErase': 2, 'kRadius': 2, 'kAnnealingA': 1.0216275683640035, 'kAnnealingB': 1.6589228593332568, 'kAnnealingStart': 32.22277523281214, 'kSkipRatio': 0.7572275213669666, 'kTargetDeterminationTrials': 12, 'kAttractionRatio': 0.3387849907268061, 'kMaxAttractionDistance': 27, 'kStartAttraction': 0.6912284040206147}. Best is trial 259 with value: 6484.974576271186.\u001b[0m\n"
     ]
    },
    {
     "name": "stdout",
     "output_type": "stream",
     "text": [
      "Updated! 6484.974576271186\n",
      "index_parallel='0261'\n"
     ]
    },
    {
     "name": "stderr",
     "output_type": "stream",
     "text": [
      "\u001b[32m[I 2022-08-16 10:51:39,025]\u001b[0m Trial 261 finished with value: 6455.050847457627 and parameters: {'kErase': 2, 'kRadius': 2, 'kAnnealingA': 1.7872876883179516, 'kAnnealingB': 1.5937792692431683, 'kAnnealingStart': 32.18534096266241, 'kSkipRatio': 0.7620699842806179, 'kTargetDeterminationTrials': 12, 'kAttractionRatio': 0.24924162516938125, 'kMaxAttractionDistance': 27, 'kStartAttraction': 0.6948131483840578}. Best is trial 259 with value: 6484.974576271186.\u001b[0m\n"
     ]
    },
    {
     "name": "stdout",
     "output_type": "stream",
     "text": [
      "index_parallel='0263'\n"
     ]
    },
    {
     "name": "stderr",
     "output_type": "stream",
     "text": [
      "\u001b[32m[I 2022-08-16 10:56:03,859]\u001b[0m Trial 263 finished with value: 6378.822033898305 and parameters: {'kErase': 2, 'kRadius': 2, 'kAnnealingA': 2.0426097623649593, 'kAnnealingB': 1.6606653233219473, 'kAnnealingStart': 38.83972408472875, 'kSkipRatio': 0.7522086539605193, 'kTargetDeterminationTrials': 1, 'kAttractionRatio': 0.34076502320354224, 'kMaxAttractionDistance': 25, 'kStartAttraction': 0.58426994041161}. Best is trial 259 with value: 6484.974576271186.\u001b[0m\n"
     ]
    },
    {
     "name": "stdout",
     "output_type": "stream",
     "text": [
      "index_parallel='0265'\n"
     ]
    },
    {
     "name": "stderr",
     "output_type": "stream",
     "text": [
      "\u001b[32m[I 2022-08-16 11:00:28,554]\u001b[0m Trial 265 finished with value: 6447.588983050848 and parameters: {'kErase': 2, 'kRadius': 2, 'kAnnealingA': 1.0626528397905972, 'kAnnealingB': 1.7467971254958685, 'kAnnealingStart': 26.72920067178202, 'kSkipRatio': 0.730753469627535, 'kTargetDeterminationTrials': 12, 'kAttractionRatio': 0.30849256128272257, 'kMaxAttractionDistance': 28, 'kStartAttraction': 0.5211053809417686}. Best is trial 259 with value: 6484.974576271186.\u001b[0m\n"
     ]
    },
    {
     "name": "stdout",
     "output_type": "stream",
     "text": [
      "index_parallel='0267'\n"
     ]
    },
    {
     "name": "stderr",
     "output_type": "stream",
     "text": [
      "\u001b[32m[I 2022-08-16 11:04:53,215]\u001b[0m Trial 267 finished with value: 6456.597457627118 and parameters: {'kErase': 2, 'kRadius': 2, 'kAnnealingA': 0.3116468618724689, 'kAnnealingB': 2.136342983375434, 'kAnnealingStart': 24.030884679743757, 'kSkipRatio': 0.7433666300725241, 'kTargetDeterminationTrials': 11, 'kAttractionRatio': 0.3948252470713221, 'kMaxAttractionDistance': 23, 'kStartAttraction': 0.7618017572683227}. Best is trial 259 with value: 6484.974576271186.\u001b[0m\n"
     ]
    },
    {
     "name": "stdout",
     "output_type": "stream",
     "text": [
      "index_parallel='0269'\n"
     ]
    },
    {
     "name": "stderr",
     "output_type": "stream",
     "text": [
      "\u001b[32m[I 2022-08-16 11:09:17,871]\u001b[0m Trial 269 finished with value: 6457.042372881356 and parameters: {'kErase': 2, 'kRadius': 2, 'kAnnealingA': -0.6173801072135044, 'kAnnealingB': 1.6619499024197455, 'kAnnealingStart': 38.926195650588795, 'kSkipRatio': 0.7851355210770341, 'kTargetDeterminationTrials': 11, 'kAttractionRatio': 0.2335445850373211, 'kMaxAttractionDistance': 29, 'kStartAttraction': 0.8987700210627448}. Best is trial 259 with value: 6484.974576271186.\u001b[0m\n"
     ]
    },
    {
     "name": "stdout",
     "output_type": "stream",
     "text": [
      "index_parallel='0271'\n"
     ]
    },
    {
     "name": "stderr",
     "output_type": "stream",
     "text": [
      "\u001b[32m[I 2022-08-16 11:13:42,367]\u001b[0m Trial 271 finished with value: 5804.822033898305 and parameters: {'kErase': 2, 'kRadius': 2, 'kAnnealingA': 3.8836716295202525, 'kAnnealingB': 1.9380810119179939, 'kAnnealingStart': 30.677127186444974, 'kSkipRatio': 0.5105871459097955, 'kTargetDeterminationTrials': 13, 'kAttractionRatio': 0.8012884383222909, 'kMaxAttractionDistance': 27, 'kStartAttraction': 0.6648601857109779}. Best is trial 259 with value: 6484.974576271186.\u001b[0m\n"
     ]
    },
    {
     "name": "stdout",
     "output_type": "stream",
     "text": [
      "index_parallel='0273'\n"
     ]
    },
    {
     "name": "stderr",
     "output_type": "stream",
     "text": [
      "\u001b[32m[I 2022-08-16 11:18:07,157]\u001b[0m Trial 273 finished with value: 6460.14406779661 and parameters: {'kErase': 2, 'kRadius': 2, 'kAnnealingA': -0.6549876009155386, 'kAnnealingB': 2.616759837207199, 'kAnnealingStart': 43.824945268945996, 'kSkipRatio': 0.7679612282113418, 'kTargetDeterminationTrials': 10, 'kAttractionRatio': 0.2600493682456889, 'kMaxAttractionDistance': 30, 'kStartAttraction': 0.6027901928842132}. Best is trial 259 with value: 6484.974576271186.\u001b[0m\n"
     ]
    },
    {
     "name": "stdout",
     "output_type": "stream",
     "text": [
      "index_parallel='0275'\n"
     ]
    },
    {
     "name": "stderr",
     "output_type": "stream",
     "text": [
      "\u001b[32m[I 2022-08-16 11:22:31,833]\u001b[0m Trial 275 finished with value: 6315.576271186441 and parameters: {'kErase': 2, 'kRadius': 2, 'kAnnealingA': 0.09738423778993643, 'kAnnealingB': 2.5662404127999547, 'kAnnealingStart': 48.861656656272565, 'kSkipRatio': 0.7724236982456633, 'kTargetDeterminationTrials': 11, 'kAttractionRatio': 0.2427080122192661, 'kMaxAttractionDistance': 31, 'kStartAttraction': 0.1322345474367488}. Best is trial 259 with value: 6484.974576271186.\u001b[0m\n"
     ]
    },
    {
     "name": "stdout",
     "output_type": "stream",
     "text": [
      "index_parallel='0277'\n"
     ]
    },
    {
     "name": "stderr",
     "output_type": "stream",
     "text": [
      "\u001b[32m[I 2022-08-16 11:26:56,771]\u001b[0m Trial 277 finished with value: 6174.406779661017 and parameters: {'kErase': 2, 'kRadius': 2, 'kAnnealingA': -13.471627373899485, 'kAnnealingB': 2.625321189779809, 'kAnnealingStart': 41.47969508761465, 'kSkipRatio': 0.7430632991672288, 'kTargetDeterminationTrials': 13, 'kAttractionRatio': 0.20054281077750177, 'kMaxAttractionDistance': 33, 'kStartAttraction': 0.5190828283929507}. Best is trial 259 with value: 6484.974576271186.\u001b[0m\n"
     ]
    },
    {
     "name": "stdout",
     "output_type": "stream",
     "text": [
      "index_parallel='0279'\n"
     ]
    },
    {
     "name": "stderr",
     "output_type": "stream",
     "text": [
      "\u001b[32m[I 2022-08-16 11:31:21,327]\u001b[0m Trial 279 finished with value: 6410.703389830508 and parameters: {'kErase': 2, 'kRadius': 2, 'kAnnealingA': 0.8210862435872175, 'kAnnealingB': 2.5590505409867483, 'kAnnealingStart': 39.061063439670896, 'kSkipRatio': 0.7080301627058687, 'kTargetDeterminationTrials': 12, 'kAttractionRatio': 0.27932571081319246, 'kMaxAttractionDistance': 29, 'kStartAttraction': 0.4764391275363086}. Best is trial 259 with value: 6484.974576271186.\u001b[0m\n"
     ]
    },
    {
     "name": "stdout",
     "output_type": "stream",
     "text": [
      "index_parallel='0281'\n"
     ]
    },
    {
     "name": "stderr",
     "output_type": "stream",
     "text": [
      "\u001b[32m[I 2022-08-16 11:35:45,889]\u001b[0m Trial 281 finished with value: 6443.881355932203 and parameters: {'kErase': 2, 'kRadius': 2, 'kAnnealingA': -0.992949797185594, 'kAnnealingB': 2.4803412715646953, 'kAnnealingStart': 37.42822757224491, 'kSkipRatio': 0.7632253489221942, 'kTargetDeterminationTrials': 10, 'kAttractionRatio': 0.6303661232318197, 'kMaxAttractionDistance': 25, 'kStartAttraction': 0.780479776899178}. Best is trial 259 with value: 6484.974576271186.\u001b[0m\n"
     ]
    },
    {
     "name": "stdout",
     "output_type": "stream",
     "text": [
      "index_parallel='0283'\n"
     ]
    },
    {
     "name": "stderr",
     "output_type": "stream",
     "text": [
      "\u001b[32m[I 2022-08-16 11:40:10,573]\u001b[0m Trial 283 finished with value: 6470.800847457627 and parameters: {'kErase': 2, 'kRadius': 2, 'kAnnealingA': 1.0902860295680457, 'kAnnealingB': 2.517468961500726, 'kAnnealingStart': 35.75840741516696, 'kSkipRatio': 0.7880428712838002, 'kTargetDeterminationTrials': 12, 'kAttractionRatio': 0.6878626166558764, 'kMaxAttractionDistance': 26, 'kStartAttraction': 0.8398355365398171}. Best is trial 259 with value: 6484.974576271186.\u001b[0m\n"
     ]
    },
    {
     "name": "stdout",
     "output_type": "stream",
     "text": [
      "index_parallel='0285'\n"
     ]
    }
   ],
   "source": [
    "study.optimize(\n",
    "    partial(objective, in_dir=in_dir, work_dir=work_dir),\n",
    "    n_trials=3000,\n",
    "    timeout=86400,\n",
    "    callbacks=[callback]\n",
    ")"
   ]
  },
  {
   "cell_type": "code",
   "execution_count": null,
   "id": "700269d2",
   "metadata": {},
   "outputs": [],
   "source": []
  }
 ],
 "metadata": {
  "kernelspec": {
   "display_name": "Python 3 (ipykernel)",
   "language": "python",
   "name": "python3"
  },
  "language_info": {
   "codemirror_mode": {
    "name": "ipython",
    "version": 3
   },
   "file_extension": ".py",
   "mimetype": "text/x-python",
   "name": "python",
   "nbconvert_exporter": "python",
   "pygments_lexer": "ipython3",
   "version": "3.9.12"
  }
 },
 "nbformat": 4,
 "nbformat_minor": 5
}
