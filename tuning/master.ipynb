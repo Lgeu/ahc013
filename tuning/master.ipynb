{
 "cells": [
  {
   "cell_type": "code",
   "execution_count": 48,
   "id": "6cc2a52e",
   "metadata": {},
   "outputs": [],
   "source": [
    "import re\n",
    "import sys\n",
    "from uuid import uuid1\n",
    "from time import sleep\n",
    "from pprint import pprint\n",
    "from pathlib import Path\n",
    "from tempfile import gettempdir\n",
    "from threading import Thread\n",
    "from functools import partial\n",
    "from subprocess import Popen, PIPE\n",
    "\n",
    "from tqdm.notebook import tqdm\n",
    "import numpy as np\n",
    "import optuna\n",
    "import pandas as pd\n",
    "import matplotlib.pyplot as plt\n",
    "\n",
    "FILENAME = \"main.cpp\"\n"
   ]
  },
  {
   "cell_type": "code",
   "execution_count": 24,
   "id": "da63f4ea",
   "metadata": {},
   "outputs": [],
   "source": [
    "!cp ../{FILENAME} ./{FILENAME}"
   ]
  },
  {
   "cell_type": "code",
   "execution_count": 25,
   "id": "513b80d6",
   "metadata": {},
   "outputs": [],
   "source": [
    "!g++ {FILENAME} -std=gnu++17 -Wall -Wextra -O2 -o {FILENAME}.out"
   ]
  },
  {
   "cell_type": "code",
   "execution_count": 5,
   "id": "455fa516",
   "metadata": {},
   "outputs": [
    {
     "name": "stdout",
     "output_type": "stream",
     "text": [
      "/home/user/ahc013\n"
     ]
    }
   ],
   "source": [
    "%cd ../"
   ]
  },
  {
   "cell_type": "code",
   "execution_count": 8,
   "id": "2adfe514",
   "metadata": {},
   "outputs": [
    {
     "name": "stdout",
     "output_type": "stream",
     "text": [
      "--2022-08-15 19:23:35--  https://img.atcoder.jp/ahc013/a42302b3af.zip\n",
      "Resolving img.atcoder.jp (img.atcoder.jp)... 18.160.200.96, 18.160.200.25, 18.160.200.128, ...\n",
      "Connecting to img.atcoder.jp (img.atcoder.jp)|18.160.200.96|:443... connected.\n",
      "HTTP request sent, awaiting response... 200 OK\n",
      "Length: 60162 (59K) [application/zip]\n",
      "Saving to: ‘a42302b3af.zip’\n",
      "\n",
      "a42302b3af.zip      100%[===================>]  58.75K  --.-KB/s    in 0.01s   \n",
      "\n",
      "2022-08-15 19:23:36 (4.54 MB/s) - ‘a42302b3af.zip’ saved [60162/60162]\n",
      "\n",
      "Archive:  a42302b3af.zip\n",
      "   creating: tools/\n",
      "  inflating: tools/Cargo.toml        \n",
      "   creating: tools/in/\n",
      "  inflating: tools/in/0007.txt       \n",
      "  inflating: tools/in/0013.txt       \n",
      "  inflating: tools/in/0012.txt       \n",
      "  inflating: tools/in/0006.txt       \n",
      "  inflating: tools/in/0038.txt       \n",
      "  inflating: tools/in/0010.txt       \n",
      "  inflating: tools/in/0004.txt       \n",
      "  inflating: tools/in/0005.txt       \n",
      "  inflating: tools/in/0011.txt       \n",
      "  inflating: tools/in/0039.txt       \n",
      "  inflating: tools/in/0015.txt       \n",
      "  inflating: tools/in/0001.txt       \n",
      "  inflating: tools/in/0029.txt       \n",
      "  inflating: tools/in/0028.txt       \n",
      "  inflating: tools/in/0000.txt       \n",
      "  inflating: tools/in/0014.txt       \n",
      "  inflating: tools/in/0002.txt       \n",
      "  inflating: tools/in/0016.txt       \n",
      "  inflating: tools/in/0017.txt       \n",
      "  inflating: tools/in/0003.txt       \n",
      "  inflating: tools/in/0058.txt       \n",
      "  inflating: tools/in/0064.txt       \n",
      "  inflating: tools/in/0070.txt       \n",
      "  inflating: tools/in/0071.txt       \n",
      "  inflating: tools/in/0065.txt       \n",
      "  inflating: tools/in/0059.txt       \n",
      "  inflating: tools/in/0073.txt       \n",
      "  inflating: tools/in/0067.txt       \n",
      "  inflating: tools/in/0098.txt       \n",
      "  inflating: tools/in/0099.txt       \n",
      "  inflating: tools/in/0066.txt       \n",
      "  inflating: tools/in/0072.txt       \n",
      "  inflating: tools/in/0076.txt       \n",
      "  inflating: tools/in/0062.txt       \n",
      "  inflating: tools/in/0089.txt       \n",
      "  inflating: tools/in/0088.txt       \n",
      "  inflating: tools/in/0063.txt       \n",
      "  inflating: tools/in/0077.txt       \n",
      "  inflating: tools/in/0061.txt       \n",
      "  inflating: tools/in/0075.txt       \n",
      "  inflating: tools/in/0049.txt       \n",
      "  inflating: tools/in/0048.txt       \n",
      "  inflating: tools/in/0074.txt       \n",
      "  inflating: tools/in/0060.txt       \n",
      "  inflating: tools/in/0079.txt       \n",
      "  inflating: tools/in/0045.txt       \n",
      "  inflating: tools/in/0051.txt       \n",
      "  inflating: tools/in/0086.txt       \n",
      "  inflating: tools/in/0092.txt       \n",
      "  inflating: tools/in/0093.txt       \n",
      "  inflating: tools/in/0087.txt       \n",
      "  inflating: tools/in/0050.txt       \n",
      "  inflating: tools/in/0044.txt       \n",
      "  inflating: tools/in/0078.txt       \n",
      "  inflating: tools/in/0052.txt       \n",
      "  inflating: tools/in/0046.txt       \n",
      "  inflating: tools/in/0091.txt       \n",
      "  inflating: tools/in/0085.txt       \n",
      "  inflating: tools/in/0084.txt       \n",
      "  inflating: tools/in/0090.txt       \n",
      "  inflating: tools/in/0047.txt       \n",
      "  inflating: tools/in/0053.txt       \n",
      "  inflating: tools/in/0057.txt       \n",
      "  inflating: tools/in/0043.txt       \n",
      "  inflating: tools/in/0094.txt       \n",
      "  inflating: tools/in/0080.txt       \n",
      "  inflating: tools/in/0081.txt       \n",
      "  inflating: tools/in/0095.txt       \n",
      "  inflating: tools/in/0042.txt       \n",
      "  inflating: tools/in/0056.txt       \n",
      "  inflating: tools/in/0040.txt       \n",
      "  inflating: tools/in/0054.txt       \n",
      "  inflating: tools/in/0068.txt       \n",
      "  inflating: tools/in/0083.txt       \n",
      "  inflating: tools/in/0097.txt       \n",
      "  inflating: tools/in/0096.txt       \n",
      "  inflating: tools/in/0082.txt       \n",
      "  inflating: tools/in/0069.txt       \n",
      "  inflating: tools/in/0055.txt       \n",
      "  inflating: tools/in/0041.txt       \n",
      "  inflating: tools/in/0026.txt       \n",
      "  inflating: tools/in/0032.txt       \n",
      "  inflating: tools/in/0033.txt       \n",
      "  inflating: tools/in/0027.txt       \n",
      "  inflating: tools/in/0019.txt       \n",
      "  inflating: tools/in/0031.txt       \n",
      "  inflating: tools/in/0025.txt       \n",
      "  inflating: tools/in/0024.txt       \n",
      "  inflating: tools/in/0030.txt       \n",
      "  inflating: tools/in/0018.txt       \n",
      "  inflating: tools/in/0034.txt       \n",
      "  inflating: tools/in/0020.txt       \n",
      "  inflating: tools/in/0008.txt       \n",
      "  inflating: tools/in/0009.txt       \n",
      "  inflating: tools/in/0021.txt       \n",
      "  inflating: tools/in/0035.txt       \n",
      "  inflating: tools/in/0023.txt       \n",
      "  inflating: tools/in/0037.txt       \n",
      "  inflating: tools/in/0036.txt       \n",
      "  inflating: tools/in/0022.txt       \n",
      "  inflating: tools/Cargo.lock        \n",
      "  inflating: tools/README_en.html    \n",
      "  inflating: tools/seeds.txt         \n",
      "  inflating: tools/README_ja.html    \n",
      "   creating: tools/src/\n",
      "   creating: tools/src/bin/\n",
      "  inflating: tools/src/bin/vis.rs    \n",
      "  inflating: tools/src/bin/gen.rs    \n",
      "  inflating: tools/src/lib.rs        \n"
     ]
    }
   ],
   "source": [
    "!wget https://img.atcoder.jp/ahc013/a42302b3af.zip\n",
    "!unzip a42302b3af.zip"
   ]
  },
  {
   "cell_type": "code",
   "execution_count": 12,
   "id": "800c8671",
   "metadata": {},
   "outputs": [
    {
     "name": "stdout",
     "output_type": "stream",
     "text": [
      "/home/user/ahc013/tuning\n"
     ]
    }
   ],
   "source": [
    "%cd -"
   ]
  },
  {
   "cell_type": "code",
   "execution_count": 14,
   "id": "1978f8f1",
   "metadata": {},
   "outputs": [],
   "source": [
    "SEED = 10000\n",
    "N_TESTCASES_ALL = 3200"
   ]
  },
  {
   "cell_type": "code",
   "execution_count": 17,
   "id": "b037892a",
   "metadata": {},
   "outputs": [
    {
     "name": "stdout",
     "output_type": "stream",
     "text": [
      "\u001b[0m\u001b[0m\u001b[1m\u001b[32m    Finished\u001b[0m release [optimized] target(s) in 0.01s\n",
      "\u001b[0m\u001b[0m\u001b[1m\u001b[32m     Running\u001b[0m `/home/user/ahc013/tools/target/release/gen seeds.txt`\n",
      "0000.txt  0400.txt  0800.txt  1200.txt\t1600.txt  2000.txt  2400.txt  2800.txt\n",
      "0001.txt  0401.txt  0801.txt  1201.txt\t1601.txt  2001.txt  2401.txt  2801.txt\n",
      "0002.txt  0402.txt  0802.txt  1202.txt\t1602.txt  2002.txt  2402.txt  2802.txt\n",
      "0003.txt  0403.txt  0803.txt  1203.txt\t1603.txt  2003.txt  2403.txt  2803.txt\n",
      "0004.txt  0404.txt  0804.txt  1204.txt\t1604.txt  2004.txt  2404.txt  2804.txt\n",
      "0005.txt  0405.txt  0805.txt  1205.txt\t1605.txt  2005.txt  2405.txt  2805.txt\n",
      "0006.txt  0406.txt  0806.txt  1206.txt\t1606.txt  2006.txt  2406.txt  2806.txt\n",
      "0007.txt  0407.txt  0807.txt  1207.txt\t1607.txt  2007.txt  2407.txt  2807.txt\n",
      "0008.txt  0408.txt  0808.txt  1208.txt\t1608.txt  2008.txt  2408.txt  2808.txt\n",
      "0009.txt  0409.txt  0809.txt  1209.txt\t1609.txt  2009.txt  2409.txt  2809.txt\n",
      "0010.txt  0410.txt  0810.txt  1210.txt\t1610.txt  2010.txt  2410.txt  2810.txt\n",
      "0011.txt  0411.txt  0811.txt  1211.txt\t1611.txt  2011.txt  2411.txt  2811.txt\n",
      "0012.txt  0412.txt  0812.txt  1212.txt\t1612.txt  2012.txt  2412.txt  2812.txt\n",
      "0013.txt  0413.txt  0813.txt  1213.txt\t1613.txt  2013.txt  2413.txt  2813.txt\n",
      "0014.txt  0414.txt  0814.txt  1214.txt\t1614.txt  2014.txt  2414.txt  2814.txt\n",
      "0015.txt  0415.txt  0815.txt  1215.txt\t1615.txt  2015.txt  2415.txt  2815.txt\n",
      "0016.txt  0416.txt  0816.txt  1216.txt\t1616.txt  2016.txt  2416.txt  2816.txt\n",
      "0017.txt  0417.txt  0817.txt  1217.txt\t1617.txt  2017.txt  2417.txt  2817.txt\n",
      "0018.txt  0418.txt  0818.txt  1218.txt\t1618.txt  2018.txt  2418.txt  2818.txt\n",
      "0019.txt  0419.txt  0819.txt  1219.txt\t1619.txt  2019.txt  2419.txt  2819.txt\n",
      "0020.txt  0420.txt  0820.txt  1220.txt\t1620.txt  2020.txt  2420.txt  2820.txt\n",
      "0021.txt  0421.txt  0821.txt  1221.txt\t1621.txt  2021.txt  2421.txt  2821.txt\n",
      "0022.txt  0422.txt  0822.txt  1222.txt\t1622.txt  2022.txt  2422.txt  2822.txt\n",
      "0023.txt  0423.txt  0823.txt  1223.txt\t1623.txt  2023.txt  2423.txt  2823.txt\n",
      "0024.txt  0424.txt  0824.txt  1224.txt\t1624.txt  2024.txt  2424.txt  2824.txt\n",
      "0025.txt  0425.txt  0825.txt  1225.txt\t1625.txt  2025.txt  2425.txt  2825.txt\n",
      "0026.txt  0426.txt  0826.txt  1226.txt\t1626.txt  2026.txt  2426.txt  2826.txt\n",
      "0027.txt  0427.txt  0827.txt  1227.txt\t1627.txt  2027.txt  2427.txt  2827.txt\n",
      "0028.txt  0428.txt  0828.txt  1228.txt\t1628.txt  2028.txt  2428.txt  2828.txt\n",
      "0029.txt  0429.txt  0829.txt  1229.txt\t1629.txt  2029.txt  2429.txt  2829.txt\n",
      "0030.txt  0430.txt  0830.txt  1230.txt\t1630.txt  2030.txt  2430.txt  2830.txt\n",
      "0031.txt  0431.txt  0831.txt  1231.txt\t1631.txt  2031.txt  2431.txt  2831.txt\n",
      "0032.txt  0432.txt  0832.txt  1232.txt\t1632.txt  2032.txt  2432.txt  2832.txt\n",
      "0033.txt  0433.txt  0833.txt  1233.txt\t1633.txt  2033.txt  2433.txt  2833.txt\n",
      "0034.txt  0434.txt  0834.txt  1234.txt\t1634.txt  2034.txt  2434.txt  2834.txt\n",
      "0035.txt  0435.txt  0835.txt  1235.txt\t1635.txt  2035.txt  2435.txt  2835.txt\n",
      "0036.txt  0436.txt  0836.txt  1236.txt\t1636.txt  2036.txt  2436.txt  2836.txt\n",
      "0037.txt  0437.txt  0837.txt  1237.txt\t1637.txt  2037.txt  2437.txt  2837.txt\n",
      "0038.txt  0438.txt  0838.txt  1238.txt\t1638.txt  2038.txt  2438.txt  2838.txt\n",
      "0039.txt  0439.txt  0839.txt  1239.txt\t1639.txt  2039.txt  2439.txt  2839.txt\n",
      "0040.txt  0440.txt  0840.txt  1240.txt\t1640.txt  2040.txt  2440.txt  2840.txt\n",
      "0041.txt  0441.txt  0841.txt  1241.txt\t1641.txt  2041.txt  2441.txt  2841.txt\n",
      "0042.txt  0442.txt  0842.txt  1242.txt\t1642.txt  2042.txt  2442.txt  2842.txt\n",
      "0043.txt  0443.txt  0843.txt  1243.txt\t1643.txt  2043.txt  2443.txt  2843.txt\n",
      "0044.txt  0444.txt  0844.txt  1244.txt\t1644.txt  2044.txt  2444.txt  2844.txt\n",
      "0045.txt  0445.txt  0845.txt  1245.txt\t1645.txt  2045.txt  2445.txt  2845.txt\n",
      "0046.txt  0446.txt  0846.txt  1246.txt\t1646.txt  2046.txt  2446.txt  2846.txt\n",
      "0047.txt  0447.txt  0847.txt  1247.txt\t1647.txt  2047.txt  2447.txt  2847.txt\n",
      "0048.txt  0448.txt  0848.txt  1248.txt\t1648.txt  2048.txt  2448.txt  2848.txt\n",
      "0049.txt  0449.txt  0849.txt  1249.txt\t1649.txt  2049.txt  2449.txt  2849.txt\n",
      "0050.txt  0450.txt  0850.txt  1250.txt\t1650.txt  2050.txt  2450.txt  2850.txt\n",
      "0051.txt  0451.txt  0851.txt  1251.txt\t1651.txt  2051.txt  2451.txt  2851.txt\n",
      "0052.txt  0452.txt  0852.txt  1252.txt\t1652.txt  2052.txt  2452.txt  2852.txt\n",
      "0053.txt  0453.txt  0853.txt  1253.txt\t1653.txt  2053.txt  2453.txt  2853.txt\n",
      "0054.txt  0454.txt  0854.txt  1254.txt\t1654.txt  2054.txt  2454.txt  2854.txt\n",
      "0055.txt  0455.txt  0855.txt  1255.txt\t1655.txt  2055.txt  2455.txt  2855.txt\n",
      "0056.txt  0456.txt  0856.txt  1256.txt\t1656.txt  2056.txt  2456.txt  2856.txt\n",
      "0057.txt  0457.txt  0857.txt  1257.txt\t1657.txt  2057.txt  2457.txt  2857.txt\n",
      "0058.txt  0458.txt  0858.txt  1258.txt\t1658.txt  2058.txt  2458.txt  2858.txt\n",
      "0059.txt  0459.txt  0859.txt  1259.txt\t1659.txt  2059.txt  2459.txt  2859.txt\n",
      "0060.txt  0460.txt  0860.txt  1260.txt\t1660.txt  2060.txt  2460.txt  2860.txt\n",
      "0061.txt  0461.txt  0861.txt  1261.txt\t1661.txt  2061.txt  2461.txt  2861.txt\n",
      "0062.txt  0462.txt  0862.txt  1262.txt\t1662.txt  2062.txt  2462.txt  2862.txt\n",
      "0063.txt  0463.txt  0863.txt  1263.txt\t1663.txt  2063.txt  2463.txt  2863.txt\n",
      "0064.txt  0464.txt  0864.txt  1264.txt\t1664.txt  2064.txt  2464.txt  2864.txt\n",
      "0065.txt  0465.txt  0865.txt  1265.txt\t1665.txt  2065.txt  2465.txt  2865.txt\n",
      "0066.txt  0466.txt  0866.txt  1266.txt\t1666.txt  2066.txt  2466.txt  2866.txt\n",
      "0067.txt  0467.txt  0867.txt  1267.txt\t1667.txt  2067.txt  2467.txt  2867.txt\n",
      "0068.txt  0468.txt  0868.txt  1268.txt\t1668.txt  2068.txt  2468.txt  2868.txt\n",
      "0069.txt  0469.txt  0869.txt  1269.txt\t1669.txt  2069.txt  2469.txt  2869.txt\n",
      "0070.txt  0470.txt  0870.txt  1270.txt\t1670.txt  2070.txt  2470.txt  2870.txt\n",
      "0071.txt  0471.txt  0871.txt  1271.txt\t1671.txt  2071.txt  2471.txt  2871.txt\n",
      "0072.txt  0472.txt  0872.txt  1272.txt\t1672.txt  2072.txt  2472.txt  2872.txt\n",
      "0073.txt  0473.txt  0873.txt  1273.txt\t1673.txt  2073.txt  2473.txt  2873.txt\n",
      "0074.txt  0474.txt  0874.txt  1274.txt\t1674.txt  2074.txt  2474.txt  2874.txt\n",
      "0075.txt  0475.txt  0875.txt  1275.txt\t1675.txt  2075.txt  2475.txt  2875.txt\n",
      "0076.txt  0476.txt  0876.txt  1276.txt\t1676.txt  2076.txt  2476.txt  2876.txt\n",
      "0077.txt  0477.txt  0877.txt  1277.txt\t1677.txt  2077.txt  2477.txt  2877.txt\n",
      "0078.txt  0478.txt  0878.txt  1278.txt\t1678.txt  2078.txt  2478.txt  2878.txt\n",
      "0079.txt  0479.txt  0879.txt  1279.txt\t1679.txt  2079.txt  2479.txt  2879.txt\n",
      "0080.txt  0480.txt  0880.txt  1280.txt\t1680.txt  2080.txt  2480.txt  2880.txt\n",
      "0081.txt  0481.txt  0881.txt  1281.txt\t1681.txt  2081.txt  2481.txt  2881.txt\n",
      "0082.txt  0482.txt  0882.txt  1282.txt\t1682.txt  2082.txt  2482.txt  2882.txt\n",
      "0083.txt  0483.txt  0883.txt  1283.txt\t1683.txt  2083.txt  2483.txt  2883.txt\n",
      "0084.txt  0484.txt  0884.txt  1284.txt\t1684.txt  2084.txt  2484.txt  2884.txt\n",
      "0085.txt  0485.txt  0885.txt  1285.txt\t1685.txt  2085.txt  2485.txt  2885.txt\n",
      "0086.txt  0486.txt  0886.txt  1286.txt\t1686.txt  2086.txt  2486.txt  2886.txt\n",
      "0087.txt  0487.txt  0887.txt  1287.txt\t1687.txt  2087.txt  2487.txt  2887.txt\n",
      "0088.txt  0488.txt  0888.txt  1288.txt\t1688.txt  2088.txt  2488.txt  2888.txt\n",
      "0089.txt  0489.txt  0889.txt  1289.txt\t1689.txt  2089.txt  2489.txt  2889.txt\n",
      "0090.txt  0490.txt  0890.txt  1290.txt\t1690.txt  2090.txt  2490.txt  2890.txt\n",
      "0091.txt  0491.txt  0891.txt  1291.txt\t1691.txt  2091.txt  2491.txt  2891.txt\n",
      "0092.txt  0492.txt  0892.txt  1292.txt\t1692.txt  2092.txt  2492.txt  2892.txt\n",
      "0093.txt  0493.txt  0893.txt  1293.txt\t1693.txt  2093.txt  2493.txt  2893.txt\n",
      "0094.txt  0494.txt  0894.txt  1294.txt\t1694.txt  2094.txt  2494.txt  2894.txt\n",
      "0095.txt  0495.txt  0895.txt  1295.txt\t1695.txt  2095.txt  2495.txt  2895.txt\n",
      "0096.txt  0496.txt  0896.txt  1296.txt\t1696.txt  2096.txt  2496.txt  2896.txt\n",
      "0097.txt  0497.txt  0897.txt  1297.txt\t1697.txt  2097.txt  2497.txt  2897.txt\n",
      "0098.txt  0498.txt  0898.txt  1298.txt\t1698.txt  2098.txt  2498.txt  2898.txt\n",
      "0099.txt  0499.txt  0899.txt  1299.txt\t1699.txt  2099.txt  2499.txt  2899.txt\n",
      "0100.txt  0500.txt  0900.txt  1300.txt\t1700.txt  2100.txt  2500.txt  2900.txt\n",
      "0101.txt  0501.txt  0901.txt  1301.txt\t1701.txt  2101.txt  2501.txt  2901.txt\n",
      "0102.txt  0502.txt  0902.txt  1302.txt\t1702.txt  2102.txt  2502.txt  2902.txt\n",
      "0103.txt  0503.txt  0903.txt  1303.txt\t1703.txt  2103.txt  2503.txt  2903.txt\n",
      "0104.txt  0504.txt  0904.txt  1304.txt\t1704.txt  2104.txt  2504.txt  2904.txt\n",
      "0105.txt  0505.txt  0905.txt  1305.txt\t1705.txt  2105.txt  2505.txt  2905.txt\n",
      "0106.txt  0506.txt  0906.txt  1306.txt\t1706.txt  2106.txt  2506.txt  2906.txt\n",
      "0107.txt  0507.txt  0907.txt  1307.txt\t1707.txt  2107.txt  2507.txt  2907.txt\n",
      "0108.txt  0508.txt  0908.txt  1308.txt\t1708.txt  2108.txt  2508.txt  2908.txt\n",
      "0109.txt  0509.txt  0909.txt  1309.txt\t1709.txt  2109.txt  2509.txt  2909.txt\n",
      "0110.txt  0510.txt  0910.txt  1310.txt\t1710.txt  2110.txt  2510.txt  2910.txt\n",
      "0111.txt  0511.txt  0911.txt  1311.txt\t1711.txt  2111.txt  2511.txt  2911.txt\n",
      "0112.txt  0512.txt  0912.txt  1312.txt\t1712.txt  2112.txt  2512.txt  2912.txt\n",
      "0113.txt  0513.txt  0913.txt  1313.txt\t1713.txt  2113.txt  2513.txt  2913.txt\n",
      "0114.txt  0514.txt  0914.txt  1314.txt\t1714.txt  2114.txt  2514.txt  2914.txt\n",
      "0115.txt  0515.txt  0915.txt  1315.txt\t1715.txt  2115.txt  2515.txt  2915.txt\n",
      "0116.txt  0516.txt  0916.txt  1316.txt\t1716.txt  2116.txt  2516.txt  2916.txt\n",
      "0117.txt  0517.txt  0917.txt  1317.txt\t1717.txt  2117.txt  2517.txt  2917.txt\n",
      "0118.txt  0518.txt  0918.txt  1318.txt\t1718.txt  2118.txt  2518.txt  2918.txt\n",
      "0119.txt  0519.txt  0919.txt  1319.txt\t1719.txt  2119.txt  2519.txt  2919.txt\n",
      "0120.txt  0520.txt  0920.txt  1320.txt\t1720.txt  2120.txt  2520.txt  2920.txt\n",
      "0121.txt  0521.txt  0921.txt  1321.txt\t1721.txt  2121.txt  2521.txt  2921.txt\n",
      "0122.txt  0522.txt  0922.txt  1322.txt\t1722.txt  2122.txt  2522.txt  2922.txt\n",
      "0123.txt  0523.txt  0923.txt  1323.txt\t1723.txt  2123.txt  2523.txt  2923.txt\n",
      "0124.txt  0524.txt  0924.txt  1324.txt\t1724.txt  2124.txt  2524.txt  2924.txt\n",
      "0125.txt  0525.txt  0925.txt  1325.txt\t1725.txt  2125.txt  2525.txt  2925.txt\n",
      "0126.txt  0526.txt  0926.txt  1326.txt\t1726.txt  2126.txt  2526.txt  2926.txt\n",
      "0127.txt  0527.txt  0927.txt  1327.txt\t1727.txt  2127.txt  2527.txt  2927.txt\n",
      "0128.txt  0528.txt  0928.txt  1328.txt\t1728.txt  2128.txt  2528.txt  2928.txt\n",
      "0129.txt  0529.txt  0929.txt  1329.txt\t1729.txt  2129.txt  2529.txt  2929.txt\n",
      "0130.txt  0530.txt  0930.txt  1330.txt\t1730.txt  2130.txt  2530.txt  2930.txt\n",
      "0131.txt  0531.txt  0931.txt  1331.txt\t1731.txt  2131.txt  2531.txt  2931.txt\n",
      "0132.txt  0532.txt  0932.txt  1332.txt\t1732.txt  2132.txt  2532.txt  2932.txt\n",
      "0133.txt  0533.txt  0933.txt  1333.txt\t1733.txt  2133.txt  2533.txt  2933.txt\n",
      "0134.txt  0534.txt  0934.txt  1334.txt\t1734.txt  2134.txt  2534.txt  2934.txt\n",
      "0135.txt  0535.txt  0935.txt  1335.txt\t1735.txt  2135.txt  2535.txt  2935.txt\n",
      "0136.txt  0536.txt  0936.txt  1336.txt\t1736.txt  2136.txt  2536.txt  2936.txt\n",
      "0137.txt  0537.txt  0937.txt  1337.txt\t1737.txt  2137.txt  2537.txt  2937.txt\n",
      "0138.txt  0538.txt  0938.txt  1338.txt\t1738.txt  2138.txt  2538.txt  2938.txt\n",
      "0139.txt  0539.txt  0939.txt  1339.txt\t1739.txt  2139.txt  2539.txt  2939.txt\n",
      "0140.txt  0540.txt  0940.txt  1340.txt\t1740.txt  2140.txt  2540.txt  2940.txt\n",
      "0141.txt  0541.txt  0941.txt  1341.txt\t1741.txt  2141.txt  2541.txt  2941.txt\n",
      "0142.txt  0542.txt  0942.txt  1342.txt\t1742.txt  2142.txt  2542.txt  2942.txt\n",
      "0143.txt  0543.txt  0943.txt  1343.txt\t1743.txt  2143.txt  2543.txt  2943.txt\n",
      "0144.txt  0544.txt  0944.txt  1344.txt\t1744.txt  2144.txt  2544.txt  2944.txt\n",
      "0145.txt  0545.txt  0945.txt  1345.txt\t1745.txt  2145.txt  2545.txt  2945.txt\n",
      "0146.txt  0546.txt  0946.txt  1346.txt\t1746.txt  2146.txt  2546.txt  2946.txt\n",
      "0147.txt  0547.txt  0947.txt  1347.txt\t1747.txt  2147.txt  2547.txt  2947.txt\n",
      "0148.txt  0548.txt  0948.txt  1348.txt\t1748.txt  2148.txt  2548.txt  2948.txt\n",
      "0149.txt  0549.txt  0949.txt  1349.txt\t1749.txt  2149.txt  2549.txt  2949.txt\n",
      "0150.txt  0550.txt  0950.txt  1350.txt\t1750.txt  2150.txt  2550.txt  2950.txt\n",
      "0151.txt  0551.txt  0951.txt  1351.txt\t1751.txt  2151.txt  2551.txt  2951.txt\n",
      "0152.txt  0552.txt  0952.txt  1352.txt\t1752.txt  2152.txt  2552.txt  2952.txt\n",
      "0153.txt  0553.txt  0953.txt  1353.txt\t1753.txt  2153.txt  2553.txt  2953.txt\n",
      "0154.txt  0554.txt  0954.txt  1354.txt\t1754.txt  2154.txt  2554.txt  2954.txt\n",
      "0155.txt  0555.txt  0955.txt  1355.txt\t1755.txt  2155.txt  2555.txt  2955.txt\n",
      "0156.txt  0556.txt  0956.txt  1356.txt\t1756.txt  2156.txt  2556.txt  2956.txt\n",
      "0157.txt  0557.txt  0957.txt  1357.txt\t1757.txt  2157.txt  2557.txt  2957.txt\n",
      "0158.txt  0558.txt  0958.txt  1358.txt\t1758.txt  2158.txt  2558.txt  2958.txt\n",
      "0159.txt  0559.txt  0959.txt  1359.txt\t1759.txt  2159.txt  2559.txt  2959.txt\n",
      "0160.txt  0560.txt  0960.txt  1360.txt\t1760.txt  2160.txt  2560.txt  2960.txt\n",
      "0161.txt  0561.txt  0961.txt  1361.txt\t1761.txt  2161.txt  2561.txt  2961.txt\n",
      "0162.txt  0562.txt  0962.txt  1362.txt\t1762.txt  2162.txt  2562.txt  2962.txt\n",
      "0163.txt  0563.txt  0963.txt  1363.txt\t1763.txt  2163.txt  2563.txt  2963.txt\n",
      "0164.txt  0564.txt  0964.txt  1364.txt\t1764.txt  2164.txt  2564.txt  2964.txt\n",
      "0165.txt  0565.txt  0965.txt  1365.txt\t1765.txt  2165.txt  2565.txt  2965.txt\n",
      "0166.txt  0566.txt  0966.txt  1366.txt\t1766.txt  2166.txt  2566.txt  2966.txt\n",
      "0167.txt  0567.txt  0967.txt  1367.txt\t1767.txt  2167.txt  2567.txt  2967.txt\n",
      "0168.txt  0568.txt  0968.txt  1368.txt\t1768.txt  2168.txt  2568.txt  2968.txt\n",
      "0169.txt  0569.txt  0969.txt  1369.txt\t1769.txt  2169.txt  2569.txt  2969.txt\n",
      "0170.txt  0570.txt  0970.txt  1370.txt\t1770.txt  2170.txt  2570.txt  2970.txt\n",
      "0171.txt  0571.txt  0971.txt  1371.txt\t1771.txt  2171.txt  2571.txt  2971.txt\n",
      "0172.txt  0572.txt  0972.txt  1372.txt\t1772.txt  2172.txt  2572.txt  2972.txt\n",
      "0173.txt  0573.txt  0973.txt  1373.txt\t1773.txt  2173.txt  2573.txt  2973.txt\n",
      "0174.txt  0574.txt  0974.txt  1374.txt\t1774.txt  2174.txt  2574.txt  2974.txt\n",
      "0175.txt  0575.txt  0975.txt  1375.txt\t1775.txt  2175.txt  2575.txt  2975.txt\n",
      "0176.txt  0576.txt  0976.txt  1376.txt\t1776.txt  2176.txt  2576.txt  2976.txt\n",
      "0177.txt  0577.txt  0977.txt  1377.txt\t1777.txt  2177.txt  2577.txt  2977.txt\n",
      "0178.txt  0578.txt  0978.txt  1378.txt\t1778.txt  2178.txt  2578.txt  2978.txt\n",
      "0179.txt  0579.txt  0979.txt  1379.txt\t1779.txt  2179.txt  2579.txt  2979.txt\n",
      "0180.txt  0580.txt  0980.txt  1380.txt\t1780.txt  2180.txt  2580.txt  2980.txt\n",
      "0181.txt  0581.txt  0981.txt  1381.txt\t1781.txt  2181.txt  2581.txt  2981.txt\n",
      "0182.txt  0582.txt  0982.txt  1382.txt\t1782.txt  2182.txt  2582.txt  2982.txt\n",
      "0183.txt  0583.txt  0983.txt  1383.txt\t1783.txt  2183.txt  2583.txt  2983.txt\n",
      "0184.txt  0584.txt  0984.txt  1384.txt\t1784.txt  2184.txt  2584.txt  2984.txt\n",
      "0185.txt  0585.txt  0985.txt  1385.txt\t1785.txt  2185.txt  2585.txt  2985.txt\n",
      "0186.txt  0586.txt  0986.txt  1386.txt\t1786.txt  2186.txt  2586.txt  2986.txt\n",
      "0187.txt  0587.txt  0987.txt  1387.txt\t1787.txt  2187.txt  2587.txt  2987.txt\n",
      "0188.txt  0588.txt  0988.txt  1388.txt\t1788.txt  2188.txt  2588.txt  2988.txt\n",
      "0189.txt  0589.txt  0989.txt  1389.txt\t1789.txt  2189.txt  2589.txt  2989.txt\n",
      "0190.txt  0590.txt  0990.txt  1390.txt\t1790.txt  2190.txt  2590.txt  2990.txt\n",
      "0191.txt  0591.txt  0991.txt  1391.txt\t1791.txt  2191.txt  2591.txt  2991.txt\n",
      "0192.txt  0592.txt  0992.txt  1392.txt\t1792.txt  2192.txt  2592.txt  2992.txt\n",
      "0193.txt  0593.txt  0993.txt  1393.txt\t1793.txt  2193.txt  2593.txt  2993.txt\n",
      "0194.txt  0594.txt  0994.txt  1394.txt\t1794.txt  2194.txt  2594.txt  2994.txt\n",
      "0195.txt  0595.txt  0995.txt  1395.txt\t1795.txt  2195.txt  2595.txt  2995.txt\n",
      "0196.txt  0596.txt  0996.txt  1396.txt\t1796.txt  2196.txt  2596.txt  2996.txt\n",
      "0197.txt  0597.txt  0997.txt  1397.txt\t1797.txt  2197.txt  2597.txt  2997.txt\n",
      "0198.txt  0598.txt  0998.txt  1398.txt\t1798.txt  2198.txt  2598.txt  2998.txt\n",
      "0199.txt  0599.txt  0999.txt  1399.txt\t1799.txt  2199.txt  2599.txt  2999.txt\n",
      "0200.txt  0600.txt  1000.txt  1400.txt\t1800.txt  2200.txt  2600.txt  3000.txt\n",
      "0201.txt  0601.txt  1001.txt  1401.txt\t1801.txt  2201.txt  2601.txt  3001.txt\n",
      "0202.txt  0602.txt  1002.txt  1402.txt\t1802.txt  2202.txt  2602.txt  3002.txt\n",
      "0203.txt  0603.txt  1003.txt  1403.txt\t1803.txt  2203.txt  2603.txt  3003.txt\n",
      "0204.txt  0604.txt  1004.txt  1404.txt\t1804.txt  2204.txt  2604.txt  3004.txt\n",
      "0205.txt  0605.txt  1005.txt  1405.txt\t1805.txt  2205.txt  2605.txt  3005.txt\n",
      "0206.txt  0606.txt  1006.txt  1406.txt\t1806.txt  2206.txt  2606.txt  3006.txt\n",
      "0207.txt  0607.txt  1007.txt  1407.txt\t1807.txt  2207.txt  2607.txt  3007.txt\n",
      "0208.txt  0608.txt  1008.txt  1408.txt\t1808.txt  2208.txt  2608.txt  3008.txt\n",
      "0209.txt  0609.txt  1009.txt  1409.txt\t1809.txt  2209.txt  2609.txt  3009.txt\n",
      "0210.txt  0610.txt  1010.txt  1410.txt\t1810.txt  2210.txt  2610.txt  3010.txt\n",
      "0211.txt  0611.txt  1011.txt  1411.txt\t1811.txt  2211.txt  2611.txt  3011.txt\n",
      "0212.txt  0612.txt  1012.txt  1412.txt\t1812.txt  2212.txt  2612.txt  3012.txt\n",
      "0213.txt  0613.txt  1013.txt  1413.txt\t1813.txt  2213.txt  2613.txt  3013.txt\n",
      "0214.txt  0614.txt  1014.txt  1414.txt\t1814.txt  2214.txt  2614.txt  3014.txt\n",
      "0215.txt  0615.txt  1015.txt  1415.txt\t1815.txt  2215.txt  2615.txt  3015.txt\n",
      "0216.txt  0616.txt  1016.txt  1416.txt\t1816.txt  2216.txt  2616.txt  3016.txt\n",
      "0217.txt  0617.txt  1017.txt  1417.txt\t1817.txt  2217.txt  2617.txt  3017.txt\n",
      "0218.txt  0618.txt  1018.txt  1418.txt\t1818.txt  2218.txt  2618.txt  3018.txt\n",
      "0219.txt  0619.txt  1019.txt  1419.txt\t1819.txt  2219.txt  2619.txt  3019.txt\n",
      "0220.txt  0620.txt  1020.txt  1420.txt\t1820.txt  2220.txt  2620.txt  3020.txt\n",
      "0221.txt  0621.txt  1021.txt  1421.txt\t1821.txt  2221.txt  2621.txt  3021.txt\n",
      "0222.txt  0622.txt  1022.txt  1422.txt\t1822.txt  2222.txt  2622.txt  3022.txt\n",
      "0223.txt  0623.txt  1023.txt  1423.txt\t1823.txt  2223.txt  2623.txt  3023.txt\n",
      "0224.txt  0624.txt  1024.txt  1424.txt\t1824.txt  2224.txt  2624.txt  3024.txt\n",
      "0225.txt  0625.txt  1025.txt  1425.txt\t1825.txt  2225.txt  2625.txt  3025.txt\n",
      "0226.txt  0626.txt  1026.txt  1426.txt\t1826.txt  2226.txt  2626.txt  3026.txt\n",
      "0227.txt  0627.txt  1027.txt  1427.txt\t1827.txt  2227.txt  2627.txt  3027.txt\n",
      "0228.txt  0628.txt  1028.txt  1428.txt\t1828.txt  2228.txt  2628.txt  3028.txt\n",
      "0229.txt  0629.txt  1029.txt  1429.txt\t1829.txt  2229.txt  2629.txt  3029.txt\n",
      "0230.txt  0630.txt  1030.txt  1430.txt\t1830.txt  2230.txt  2630.txt  3030.txt\n",
      "0231.txt  0631.txt  1031.txt  1431.txt\t1831.txt  2231.txt  2631.txt  3031.txt\n",
      "0232.txt  0632.txt  1032.txt  1432.txt\t1832.txt  2232.txt  2632.txt  3032.txt\n",
      "0233.txt  0633.txt  1033.txt  1433.txt\t1833.txt  2233.txt  2633.txt  3033.txt\n",
      "0234.txt  0634.txt  1034.txt  1434.txt\t1834.txt  2234.txt  2634.txt  3034.txt\n",
      "0235.txt  0635.txt  1035.txt  1435.txt\t1835.txt  2235.txt  2635.txt  3035.txt\n",
      "0236.txt  0636.txt  1036.txt  1436.txt\t1836.txt  2236.txt  2636.txt  3036.txt\n",
      "0237.txt  0637.txt  1037.txt  1437.txt\t1837.txt  2237.txt  2637.txt  3037.txt\n",
      "0238.txt  0638.txt  1038.txt  1438.txt\t1838.txt  2238.txt  2638.txt  3038.txt\n",
      "0239.txt  0639.txt  1039.txt  1439.txt\t1839.txt  2239.txt  2639.txt  3039.txt\n",
      "0240.txt  0640.txt  1040.txt  1440.txt\t1840.txt  2240.txt  2640.txt  3040.txt\n",
      "0241.txt  0641.txt  1041.txt  1441.txt\t1841.txt  2241.txt  2641.txt  3041.txt\n",
      "0242.txt  0642.txt  1042.txt  1442.txt\t1842.txt  2242.txt  2642.txt  3042.txt\n",
      "0243.txt  0643.txt  1043.txt  1443.txt\t1843.txt  2243.txt  2643.txt  3043.txt\n",
      "0244.txt  0644.txt  1044.txt  1444.txt\t1844.txt  2244.txt  2644.txt  3044.txt\n",
      "0245.txt  0645.txt  1045.txt  1445.txt\t1845.txt  2245.txt  2645.txt  3045.txt\n",
      "0246.txt  0646.txt  1046.txt  1446.txt\t1846.txt  2246.txt  2646.txt  3046.txt\n",
      "0247.txt  0647.txt  1047.txt  1447.txt\t1847.txt  2247.txt  2647.txt  3047.txt\n",
      "0248.txt  0648.txt  1048.txt  1448.txt\t1848.txt  2248.txt  2648.txt  3048.txt\n",
      "0249.txt  0649.txt  1049.txt  1449.txt\t1849.txt  2249.txt  2649.txt  3049.txt\n",
      "0250.txt  0650.txt  1050.txt  1450.txt\t1850.txt  2250.txt  2650.txt  3050.txt\n",
      "0251.txt  0651.txt  1051.txt  1451.txt\t1851.txt  2251.txt  2651.txt  3051.txt\n",
      "0252.txt  0652.txt  1052.txt  1452.txt\t1852.txt  2252.txt  2652.txt  3052.txt\n",
      "0253.txt  0653.txt  1053.txt  1453.txt\t1853.txt  2253.txt  2653.txt  3053.txt\n",
      "0254.txt  0654.txt  1054.txt  1454.txt\t1854.txt  2254.txt  2654.txt  3054.txt\n",
      "0255.txt  0655.txt  1055.txt  1455.txt\t1855.txt  2255.txt  2655.txt  3055.txt\n",
      "0256.txt  0656.txt  1056.txt  1456.txt\t1856.txt  2256.txt  2656.txt  3056.txt\n",
      "0257.txt  0657.txt  1057.txt  1457.txt\t1857.txt  2257.txt  2657.txt  3057.txt\n",
      "0258.txt  0658.txt  1058.txt  1458.txt\t1858.txt  2258.txt  2658.txt  3058.txt\n",
      "0259.txt  0659.txt  1059.txt  1459.txt\t1859.txt  2259.txt  2659.txt  3059.txt\n",
      "0260.txt  0660.txt  1060.txt  1460.txt\t1860.txt  2260.txt  2660.txt  3060.txt\n",
      "0261.txt  0661.txt  1061.txt  1461.txt\t1861.txt  2261.txt  2661.txt  3061.txt\n",
      "0262.txt  0662.txt  1062.txt  1462.txt\t1862.txt  2262.txt  2662.txt  3062.txt\n",
      "0263.txt  0663.txt  1063.txt  1463.txt\t1863.txt  2263.txt  2663.txt  3063.txt\n",
      "0264.txt  0664.txt  1064.txt  1464.txt\t1864.txt  2264.txt  2664.txt  3064.txt\n",
      "0265.txt  0665.txt  1065.txt  1465.txt\t1865.txt  2265.txt  2665.txt  3065.txt\n",
      "0266.txt  0666.txt  1066.txt  1466.txt\t1866.txt  2266.txt  2666.txt  3066.txt\n",
      "0267.txt  0667.txt  1067.txt  1467.txt\t1867.txt  2267.txt  2667.txt  3067.txt\n",
      "0268.txt  0668.txt  1068.txt  1468.txt\t1868.txt  2268.txt  2668.txt  3068.txt\n",
      "0269.txt  0669.txt  1069.txt  1469.txt\t1869.txt  2269.txt  2669.txt  3069.txt\n",
      "0270.txt  0670.txt  1070.txt  1470.txt\t1870.txt  2270.txt  2670.txt  3070.txt\n",
      "0271.txt  0671.txt  1071.txt  1471.txt\t1871.txt  2271.txt  2671.txt  3071.txt\n",
      "0272.txt  0672.txt  1072.txt  1472.txt\t1872.txt  2272.txt  2672.txt  3072.txt\n",
      "0273.txt  0673.txt  1073.txt  1473.txt\t1873.txt  2273.txt  2673.txt  3073.txt\n",
      "0274.txt  0674.txt  1074.txt  1474.txt\t1874.txt  2274.txt  2674.txt  3074.txt\n",
      "0275.txt  0675.txt  1075.txt  1475.txt\t1875.txt  2275.txt  2675.txt  3075.txt\n",
      "0276.txt  0676.txt  1076.txt  1476.txt\t1876.txt  2276.txt  2676.txt  3076.txt\n",
      "0277.txt  0677.txt  1077.txt  1477.txt\t1877.txt  2277.txt  2677.txt  3077.txt\n",
      "0278.txt  0678.txt  1078.txt  1478.txt\t1878.txt  2278.txt  2678.txt  3078.txt\n",
      "0279.txt  0679.txt  1079.txt  1479.txt\t1879.txt  2279.txt  2679.txt  3079.txt\n",
      "0280.txt  0680.txt  1080.txt  1480.txt\t1880.txt  2280.txt  2680.txt  3080.txt\n",
      "0281.txt  0681.txt  1081.txt  1481.txt\t1881.txt  2281.txt  2681.txt  3081.txt\n",
      "0282.txt  0682.txt  1082.txt  1482.txt\t1882.txt  2282.txt  2682.txt  3082.txt\n",
      "0283.txt  0683.txt  1083.txt  1483.txt\t1883.txt  2283.txt  2683.txt  3083.txt\n",
      "0284.txt  0684.txt  1084.txt  1484.txt\t1884.txt  2284.txt  2684.txt  3084.txt\n",
      "0285.txt  0685.txt  1085.txt  1485.txt\t1885.txt  2285.txt  2685.txt  3085.txt\n",
      "0286.txt  0686.txt  1086.txt  1486.txt\t1886.txt  2286.txt  2686.txt  3086.txt\n",
      "0287.txt  0687.txt  1087.txt  1487.txt\t1887.txt  2287.txt  2687.txt  3087.txt\n",
      "0288.txt  0688.txt  1088.txt  1488.txt\t1888.txt  2288.txt  2688.txt  3088.txt\n",
      "0289.txt  0689.txt  1089.txt  1489.txt\t1889.txt  2289.txt  2689.txt  3089.txt\n",
      "0290.txt  0690.txt  1090.txt  1490.txt\t1890.txt  2290.txt  2690.txt  3090.txt\n",
      "0291.txt  0691.txt  1091.txt  1491.txt\t1891.txt  2291.txt  2691.txt  3091.txt\n",
      "0292.txt  0692.txt  1092.txt  1492.txt\t1892.txt  2292.txt  2692.txt  3092.txt\n",
      "0293.txt  0693.txt  1093.txt  1493.txt\t1893.txt  2293.txt  2693.txt  3093.txt\n",
      "0294.txt  0694.txt  1094.txt  1494.txt\t1894.txt  2294.txt  2694.txt  3094.txt\n",
      "0295.txt  0695.txt  1095.txt  1495.txt\t1895.txt  2295.txt  2695.txt  3095.txt\n",
      "0296.txt  0696.txt  1096.txt  1496.txt\t1896.txt  2296.txt  2696.txt  3096.txt\n",
      "0297.txt  0697.txt  1097.txt  1497.txt\t1897.txt  2297.txt  2697.txt  3097.txt\n",
      "0298.txt  0698.txt  1098.txt  1498.txt\t1898.txt  2298.txt  2698.txt  3098.txt\n",
      "0299.txt  0699.txt  1099.txt  1499.txt\t1899.txt  2299.txt  2699.txt  3099.txt\n",
      "0300.txt  0700.txt  1100.txt  1500.txt\t1900.txt  2300.txt  2700.txt  3100.txt\n",
      "0301.txt  0701.txt  1101.txt  1501.txt\t1901.txt  2301.txt  2701.txt  3101.txt\n",
      "0302.txt  0702.txt  1102.txt  1502.txt\t1902.txt  2302.txt  2702.txt  3102.txt\n",
      "0303.txt  0703.txt  1103.txt  1503.txt\t1903.txt  2303.txt  2703.txt  3103.txt\n",
      "0304.txt  0704.txt  1104.txt  1504.txt\t1904.txt  2304.txt  2704.txt  3104.txt\n",
      "0305.txt  0705.txt  1105.txt  1505.txt\t1905.txt  2305.txt  2705.txt  3105.txt\n",
      "0306.txt  0706.txt  1106.txt  1506.txt\t1906.txt  2306.txt  2706.txt  3106.txt\n",
      "0307.txt  0707.txt  1107.txt  1507.txt\t1907.txt  2307.txt  2707.txt  3107.txt\n",
      "0308.txt  0708.txt  1108.txt  1508.txt\t1908.txt  2308.txt  2708.txt  3108.txt\n",
      "0309.txt  0709.txt  1109.txt  1509.txt\t1909.txt  2309.txt  2709.txt  3109.txt\n",
      "0310.txt  0710.txt  1110.txt  1510.txt\t1910.txt  2310.txt  2710.txt  3110.txt\n",
      "0311.txt  0711.txt  1111.txt  1511.txt\t1911.txt  2311.txt  2711.txt  3111.txt\n",
      "0312.txt  0712.txt  1112.txt  1512.txt\t1912.txt  2312.txt  2712.txt  3112.txt\n",
      "0313.txt  0713.txt  1113.txt  1513.txt\t1913.txt  2313.txt  2713.txt  3113.txt\n",
      "0314.txt  0714.txt  1114.txt  1514.txt\t1914.txt  2314.txt  2714.txt  3114.txt\n",
      "0315.txt  0715.txt  1115.txt  1515.txt\t1915.txt  2315.txt  2715.txt  3115.txt\n",
      "0316.txt  0716.txt  1116.txt  1516.txt\t1916.txt  2316.txt  2716.txt  3116.txt\n",
      "0317.txt  0717.txt  1117.txt  1517.txt\t1917.txt  2317.txt  2717.txt  3117.txt\n",
      "0318.txt  0718.txt  1118.txt  1518.txt\t1918.txt  2318.txt  2718.txt  3118.txt\n",
      "0319.txt  0719.txt  1119.txt  1519.txt\t1919.txt  2319.txt  2719.txt  3119.txt\n",
      "0320.txt  0720.txt  1120.txt  1520.txt\t1920.txt  2320.txt  2720.txt  3120.txt\n",
      "0321.txt  0721.txt  1121.txt  1521.txt\t1921.txt  2321.txt  2721.txt  3121.txt\n",
      "0322.txt  0722.txt  1122.txt  1522.txt\t1922.txt  2322.txt  2722.txt  3122.txt\n",
      "0323.txt  0723.txt  1123.txt  1523.txt\t1923.txt  2323.txt  2723.txt  3123.txt\n",
      "0324.txt  0724.txt  1124.txt  1524.txt\t1924.txt  2324.txt  2724.txt  3124.txt\n",
      "0325.txt  0725.txt  1125.txt  1525.txt\t1925.txt  2325.txt  2725.txt  3125.txt\n",
      "0326.txt  0726.txt  1126.txt  1526.txt\t1926.txt  2326.txt  2726.txt  3126.txt\n",
      "0327.txt  0727.txt  1127.txt  1527.txt\t1927.txt  2327.txt  2727.txt  3127.txt\n",
      "0328.txt  0728.txt  1128.txt  1528.txt\t1928.txt  2328.txt  2728.txt  3128.txt\n",
      "0329.txt  0729.txt  1129.txt  1529.txt\t1929.txt  2329.txt  2729.txt  3129.txt\n",
      "0330.txt  0730.txt  1130.txt  1530.txt\t1930.txt  2330.txt  2730.txt  3130.txt\n",
      "0331.txt  0731.txt  1131.txt  1531.txt\t1931.txt  2331.txt  2731.txt  3131.txt\n",
      "0332.txt  0732.txt  1132.txt  1532.txt\t1932.txt  2332.txt  2732.txt  3132.txt\n",
      "0333.txt  0733.txt  1133.txt  1533.txt\t1933.txt  2333.txt  2733.txt  3133.txt\n",
      "0334.txt  0734.txt  1134.txt  1534.txt\t1934.txt  2334.txt  2734.txt  3134.txt\n",
      "0335.txt  0735.txt  1135.txt  1535.txt\t1935.txt  2335.txt  2735.txt  3135.txt\n",
      "0336.txt  0736.txt  1136.txt  1536.txt\t1936.txt  2336.txt  2736.txt  3136.txt\n",
      "0337.txt  0737.txt  1137.txt  1537.txt\t1937.txt  2337.txt  2737.txt  3137.txt\n",
      "0338.txt  0738.txt  1138.txt  1538.txt\t1938.txt  2338.txt  2738.txt  3138.txt\n",
      "0339.txt  0739.txt  1139.txt  1539.txt\t1939.txt  2339.txt  2739.txt  3139.txt\n",
      "0340.txt  0740.txt  1140.txt  1540.txt\t1940.txt  2340.txt  2740.txt  3140.txt\n",
      "0341.txt  0741.txt  1141.txt  1541.txt\t1941.txt  2341.txt  2741.txt  3141.txt\n",
      "0342.txt  0742.txt  1142.txt  1542.txt\t1942.txt  2342.txt  2742.txt  3142.txt\n",
      "0343.txt  0743.txt  1143.txt  1543.txt\t1943.txt  2343.txt  2743.txt  3143.txt\n",
      "0344.txt  0744.txt  1144.txt  1544.txt\t1944.txt  2344.txt  2744.txt  3144.txt\n",
      "0345.txt  0745.txt  1145.txt  1545.txt\t1945.txt  2345.txt  2745.txt  3145.txt\n",
      "0346.txt  0746.txt  1146.txt  1546.txt\t1946.txt  2346.txt  2746.txt  3146.txt\n",
      "0347.txt  0747.txt  1147.txt  1547.txt\t1947.txt  2347.txt  2747.txt  3147.txt\n",
      "0348.txt  0748.txt  1148.txt  1548.txt\t1948.txt  2348.txt  2748.txt  3148.txt\n",
      "0349.txt  0749.txt  1149.txt  1549.txt\t1949.txt  2349.txt  2749.txt  3149.txt\n",
      "0350.txt  0750.txt  1150.txt  1550.txt\t1950.txt  2350.txt  2750.txt  3150.txt\n",
      "0351.txt  0751.txt  1151.txt  1551.txt\t1951.txt  2351.txt  2751.txt  3151.txt\n",
      "0352.txt  0752.txt  1152.txt  1552.txt\t1952.txt  2352.txt  2752.txt  3152.txt\n",
      "0353.txt  0753.txt  1153.txt  1553.txt\t1953.txt  2353.txt  2753.txt  3153.txt\n",
      "0354.txt  0754.txt  1154.txt  1554.txt\t1954.txt  2354.txt  2754.txt  3154.txt\n",
      "0355.txt  0755.txt  1155.txt  1555.txt\t1955.txt  2355.txt  2755.txt  3155.txt\n",
      "0356.txt  0756.txt  1156.txt  1556.txt\t1956.txt  2356.txt  2756.txt  3156.txt\n",
      "0357.txt  0757.txt  1157.txt  1557.txt\t1957.txt  2357.txt  2757.txt  3157.txt\n",
      "0358.txt  0758.txt  1158.txt  1558.txt\t1958.txt  2358.txt  2758.txt  3158.txt\n",
      "0359.txt  0759.txt  1159.txt  1559.txt\t1959.txt  2359.txt  2759.txt  3159.txt\n",
      "0360.txt  0760.txt  1160.txt  1560.txt\t1960.txt  2360.txt  2760.txt  3160.txt\n",
      "0361.txt  0761.txt  1161.txt  1561.txt\t1961.txt  2361.txt  2761.txt  3161.txt\n",
      "0362.txt  0762.txt  1162.txt  1562.txt\t1962.txt  2362.txt  2762.txt  3162.txt\n",
      "0363.txt  0763.txt  1163.txt  1563.txt\t1963.txt  2363.txt  2763.txt  3163.txt\n",
      "0364.txt  0764.txt  1164.txt  1564.txt\t1964.txt  2364.txt  2764.txt  3164.txt\n",
      "0365.txt  0765.txt  1165.txt  1565.txt\t1965.txt  2365.txt  2765.txt  3165.txt\n",
      "0366.txt  0766.txt  1166.txt  1566.txt\t1966.txt  2366.txt  2766.txt  3166.txt\n",
      "0367.txt  0767.txt  1167.txt  1567.txt\t1967.txt  2367.txt  2767.txt  3167.txt\n",
      "0368.txt  0768.txt  1168.txt  1568.txt\t1968.txt  2368.txt  2768.txt  3168.txt\n",
      "0369.txt  0769.txt  1169.txt  1569.txt\t1969.txt  2369.txt  2769.txt  3169.txt\n",
      "0370.txt  0770.txt  1170.txt  1570.txt\t1970.txt  2370.txt  2770.txt  3170.txt\n",
      "0371.txt  0771.txt  1171.txt  1571.txt\t1971.txt  2371.txt  2771.txt  3171.txt\n",
      "0372.txt  0772.txt  1172.txt  1572.txt\t1972.txt  2372.txt  2772.txt  3172.txt\n",
      "0373.txt  0773.txt  1173.txt  1573.txt\t1973.txt  2373.txt  2773.txt  3173.txt\n",
      "0374.txt  0774.txt  1174.txt  1574.txt\t1974.txt  2374.txt  2774.txt  3174.txt\n",
      "0375.txt  0775.txt  1175.txt  1575.txt\t1975.txt  2375.txt  2775.txt  3175.txt\n",
      "0376.txt  0776.txt  1176.txt  1576.txt\t1976.txt  2376.txt  2776.txt  3176.txt\n",
      "0377.txt  0777.txt  1177.txt  1577.txt\t1977.txt  2377.txt  2777.txt  3177.txt\n",
      "0378.txt  0778.txt  1178.txt  1578.txt\t1978.txt  2378.txt  2778.txt  3178.txt\n",
      "0379.txt  0779.txt  1179.txt  1579.txt\t1979.txt  2379.txt  2779.txt  3179.txt\n",
      "0380.txt  0780.txt  1180.txt  1580.txt\t1980.txt  2380.txt  2780.txt  3180.txt\n",
      "0381.txt  0781.txt  1181.txt  1581.txt\t1981.txt  2381.txt  2781.txt  3181.txt\n",
      "0382.txt  0782.txt  1182.txt  1582.txt\t1982.txt  2382.txt  2782.txt  3182.txt\n",
      "0383.txt  0783.txt  1183.txt  1583.txt\t1983.txt  2383.txt  2783.txt  3183.txt\n",
      "0384.txt  0784.txt  1184.txt  1584.txt\t1984.txt  2384.txt  2784.txt  3184.txt\n",
      "0385.txt  0785.txt  1185.txt  1585.txt\t1985.txt  2385.txt  2785.txt  3185.txt\n",
      "0386.txt  0786.txt  1186.txt  1586.txt\t1986.txt  2386.txt  2786.txt  3186.txt\n",
      "0387.txt  0787.txt  1187.txt  1587.txt\t1987.txt  2387.txt  2787.txt  3187.txt\n",
      "0388.txt  0788.txt  1188.txt  1588.txt\t1988.txt  2388.txt  2788.txt  3188.txt\n",
      "0389.txt  0789.txt  1189.txt  1589.txt\t1989.txt  2389.txt  2789.txt  3189.txt\n",
      "0390.txt  0790.txt  1190.txt  1590.txt\t1990.txt  2390.txt  2790.txt  3190.txt\n",
      "0391.txt  0791.txt  1191.txt  1591.txt\t1991.txt  2391.txt  2791.txt  3191.txt\n",
      "0392.txt  0792.txt  1192.txt  1592.txt\t1992.txt  2392.txt  2792.txt  3192.txt\n",
      "0393.txt  0793.txt  1193.txt  1593.txt\t1993.txt  2393.txt  2793.txt  3193.txt\n",
      "0394.txt  0794.txt  1194.txt  1594.txt\t1994.txt  2394.txt  2794.txt  3194.txt\n",
      "0395.txt  0795.txt  1195.txt  1595.txt\t1995.txt  2395.txt  2795.txt  3195.txt\n",
      "0396.txt  0796.txt  1196.txt  1596.txt\t1996.txt  2396.txt  2796.txt  3196.txt\n",
      "0397.txt  0797.txt  1197.txt  1597.txt\t1997.txt  2397.txt  2797.txt  3197.txt\n",
      "0398.txt  0798.txt  1198.txt  1598.txt\t1998.txt  2398.txt  2798.txt  3198.txt\n",
      "0399.txt  0799.txt  1199.txt  1599.txt\t1999.txt  2399.txt  2799.txt  3199.txt\n"
     ]
    }
   ],
   "source": [
    "!seq {SEED} {SEED + N_TESTCASES_ALL - 1} > seeds.txt && cargo run --release --manifest-path ../tools/Cargo.toml --bin gen seeds.txt\n",
    "!ls in"
   ]
  },
  {
   "cell_type": "code",
   "execution_count": 21,
   "id": "4304fdaf",
   "metadata": {},
   "outputs": [],
   "source": [
    "from bisect import bisect_right"
   ]
  },
  {
   "cell_type": "code",
   "execution_count": 23,
   "id": "ca419222",
   "metadata": {},
   "outputs": [
    {
     "data": {
      "text/plain": [
       "(0, 1)"
      ]
     },
     "execution_count": 23,
     "metadata": {},
     "output_type": "execute_result"
    }
   ],
   "source": [
    "thresholds = [\n",
    "    None,\n",
    "    None,\n",
    "    [21, 27, 33],\n",
    "    [24, 30, 36],\n",
    "    [27, 33, 39],\n",
    "    [30, 36, 42],\n",
    "]\n",
    "bisect_right(thresholds[2], 20), bisect_right(thresholds[2], 21)"
   ]
  },
  {
   "cell_type": "code",
   "execution_count": 27,
   "id": "f5cfdc4d",
   "metadata": {},
   "outputs": [
    {
     "name": "stdout",
     "output_type": "stream",
     "text": [
      "Untitled.ipynb\tin  main.cpp  main.cpp.out  seeds.txt\r\n"
     ]
    }
   ],
   "source": [
    "!ls"
   ]
  },
  {
   "cell_type": "code",
   "execution_count": 30,
   "id": "c9789d85",
   "metadata": {},
   "outputs": [],
   "source": [
    "def get_n_k_nclass(file):\n",
    "    # k: [2, 5]\n",
    "    # n_class: [0, 3]\n",
    "    with open(file) as f:\n",
    "        n, k = map(int, f.readline().split())\n",
    "    n_class = bisect_right(thresholds[k], n)\n",
    "    return n, k, n_class"
   ]
  },
  {
   "cell_type": "code",
   "execution_count": 31,
   "id": "607524c4",
   "metadata": {},
   "outputs": [
    {
     "data": {
      "text/plain": [
       "(24, 2, 1)"
      ]
     },
     "execution_count": 31,
     "metadata": {},
     "output_type": "execute_result"
    }
   ],
   "source": [
    "file = Path(\"in\") / \"0000.txt\"\n",
    "get_n_k_nclass(file)"
   ]
  },
  {
   "cell_type": "code",
   "execution_count": 32,
   "id": "1fe6466d",
   "metadata": {},
   "outputs": [],
   "source": [
    "for k in range(2, 6):\n",
    "    for n_class in range(4):\n",
    "        !mkdir in_{k}_{n_class}"
   ]
  },
  {
   "cell_type": "code",
   "execution_count": 55,
   "id": "357a87c0",
   "metadata": {},
   "outputs": [],
   "source": [
    "for k in range(2, 6):\n",
    "    for n_class in range(4):\n",
    "        !mkdir work_{k}_{n_class}"
   ]
  },
  {
   "cell_type": "code",
   "execution_count": 34,
   "id": "d556936e",
   "metadata": {},
   "outputs": [
    {
     "data": {
      "application/vnd.jupyter.widget-view+json": {
       "model_id": "a054d4a559734f28afd8a21f3070e1e2",
       "version_major": 2,
       "version_minor": 0
      },
      "text/plain": [
       "  0%|          | 0/3200 [00:00<?, ?it/s]"
      ]
     },
     "metadata": {},
     "output_type": "display_data"
    }
   ],
   "source": [
    "for file in tqdm(sorted(Path(\"in\").iterdir())):\n",
    "    assert file.suffix == \".txt\"\n",
    "    n, k, n_class = get_n_k_nclass(file)\n",
    "    !cp {file} ./in_{k}_{n_class}/"
   ]
  },
  {
   "cell_type": "code",
   "execution_count": null,
   "id": "86afdc03",
   "metadata": {},
   "outputs": [],
   "source": []
  },
  {
   "cell_type": "code",
   "execution_count": null,
   "id": "9475cd80",
   "metadata": {},
   "outputs": [],
   "source": []
  },
  {
   "cell_type": "code",
   "execution_count": null,
   "id": "00652934",
   "metadata": {},
   "outputs": [],
   "source": []
  },
  {
   "cell_type": "code",
   "execution_count": 26,
   "id": "6c8c6c98",
   "metadata": {},
   "outputs": [
    {
     "name": "stdout",
     "output_type": "stream",
     "text": [
      "10 variables were found.\n"
     ]
    },
    {
     "data": {
      "text/html": [
       "<div>\n",
       "<style scoped>\n",
       "    .dataframe tbody tr th:only-of-type {\n",
       "        vertical-align: middle;\n",
       "    }\n",
       "\n",
       "    .dataframe tbody tr th {\n",
       "        vertical-align: top;\n",
       "    }\n",
       "\n",
       "    .dataframe thead th {\n",
       "        text-align: right;\n",
       "    }\n",
       "</style>\n",
       "<table border=\"1\" class=\"dataframe\">\n",
       "  <thead>\n",
       "    <tr style=\"text-align: right;\">\n",
       "      <th></th>\n",
       "      <th>name</th>\n",
       "      <th>method</th>\n",
       "      <th>min</th>\n",
       "      <th>max</th>\n",
       "      <th>log</th>\n",
       "      <th>left</th>\n",
       "      <th>right</th>\n",
       "    </tr>\n",
       "  </thead>\n",
       "  <tbody>\n",
       "    <tr>\n",
       "      <th>0</th>\n",
       "      <td>kErase</td>\n",
       "      <td>suggest_int</td>\n",
       "      <td>1.000</td>\n",
       "      <td>5.0</td>\n",
       "      <td>False</td>\n",
       "      <td>static constexpr auto kErase =</td>\n",
       "      <td>;             // OPTIMIZE [1, 5]</td>\n",
       "    </tr>\n",
       "    <tr>\n",
       "      <th>1</th>\n",
       "      <td>kRadius</td>\n",
       "      <td>suggest_int</td>\n",
       "      <td>2.000</td>\n",
       "      <td>6.0</td>\n",
       "      <td>False</td>\n",
       "      <td>static constexpr auto kRadius =</td>\n",
       "      <td>;            // OPTIMIZE [2, 6]</td>\n",
       "    </tr>\n",
       "    <tr>\n",
       "      <th>2</th>\n",
       "      <td>kAnnealingA</td>\n",
       "      <td>suggest_float</td>\n",
       "      <td>-15.000</td>\n",
       "      <td>15.0</td>\n",
       "      <td>False</td>\n",
       "      <td>static constexpr auto kAnnealingA =</td>\n",
       "      <td>;      // OPTIMIZE [-15.0, 15.0]</td>\n",
       "    </tr>\n",
       "    <tr>\n",
       "      <th>3</th>\n",
       "      <td>kAnnealingB</td>\n",
       "      <td>suggest_float</td>\n",
       "      <td>0.000</td>\n",
       "      <td>3.0</td>\n",
       "      <td>False</td>\n",
       "      <td>static constexpr auto kAnnealingB =</td>\n",
       "      <td>;      // OPTIMIZE [0.0, 3.0]</td>\n",
       "    </tr>\n",
       "    <tr>\n",
       "      <th>4</th>\n",
       "      <td>kAnnealingStart</td>\n",
       "      <td>suggest_float</td>\n",
       "      <td>1.000</td>\n",
       "      <td>100.0</td>\n",
       "      <td>True</td>\n",
       "      <td>static constexpr auto kAnnealingStart =</td>\n",
       "      <td>; // OPTIMIZE LOG [1.0, 100.0]</td>\n",
       "    </tr>\n",
       "    <tr>\n",
       "      <th>5</th>\n",
       "      <td>kSkipRatio</td>\n",
       "      <td>suggest_float</td>\n",
       "      <td>0.200</td>\n",
       "      <td>0.8</td>\n",
       "      <td>False</td>\n",
       "      <td>static constexpr auto kSkipRatio =</td>\n",
       "      <td>;       // OPTIMIZE [0.2, 0.8]</td>\n",
       "    </tr>\n",
       "    <tr>\n",
       "      <th>6</th>\n",
       "      <td>kTargetDeterminationTrials</td>\n",
       "      <td>suggest_int</td>\n",
       "      <td>1.000</td>\n",
       "      <td>20.0</td>\n",
       "      <td>True</td>\n",
       "      <td>static constexpr auto kTargetDeterminationTria...</td>\n",
       "      <td>; // OPTIMIZE LOG [1, 20]</td>\n",
       "    </tr>\n",
       "    <tr>\n",
       "      <th>7</th>\n",
       "      <td>kAttractionRatio</td>\n",
       "      <td>suggest_float</td>\n",
       "      <td>0.010</td>\n",
       "      <td>0.9</td>\n",
       "      <td>True</td>\n",
       "      <td>static constexpr auto kAttractionRatio =</td>\n",
       "      <td>;      // OPTIMIZE LOG [0.01, 0.9]</td>\n",
       "    </tr>\n",
       "    <tr>\n",
       "      <th>8</th>\n",
       "      <td>kMaxAttractionDistance</td>\n",
       "      <td>suggest_int</td>\n",
       "      <td>4.000</td>\n",
       "      <td>99.0</td>\n",
       "      <td>True</td>\n",
       "      <td>static constexpr auto kMaxAttractionDistance =</td>\n",
       "      <td>; // OPTIMIZE LOG [4, 99]</td>\n",
       "    </tr>\n",
       "    <tr>\n",
       "      <th>9</th>\n",
       "      <td>kStartAttraction</td>\n",
       "      <td>suggest_float</td>\n",
       "      <td>0.001</td>\n",
       "      <td>0.9</td>\n",
       "      <td>True</td>\n",
       "      <td>static constexpr auto kStartAttraction =</td>\n",
       "      <td>;     // OPTIMIZE LOG [0.001, 0.9]</td>\n",
       "    </tr>\n",
       "  </tbody>\n",
       "</table>\n",
       "</div>"
      ],
      "text/plain": [
       "                         name         method     min    max    log  \\\n",
       "0                      kErase    suggest_int   1.000    5.0  False   \n",
       "1                     kRadius    suggest_int   2.000    6.0  False   \n",
       "2                 kAnnealingA  suggest_float -15.000   15.0  False   \n",
       "3                 kAnnealingB  suggest_float   0.000    3.0  False   \n",
       "4             kAnnealingStart  suggest_float   1.000  100.0   True   \n",
       "5                  kSkipRatio  suggest_float   0.200    0.8  False   \n",
       "6  kTargetDeterminationTrials    suggest_int   1.000   20.0   True   \n",
       "7            kAttractionRatio  suggest_float   0.010    0.9   True   \n",
       "8      kMaxAttractionDistance    suggest_int   4.000   99.0   True   \n",
       "9            kStartAttraction  suggest_float   0.001    0.9   True   \n",
       "\n",
       "                                                left  \\\n",
       "0                    static constexpr auto kErase =    \n",
       "1                   static constexpr auto kRadius =    \n",
       "2               static constexpr auto kAnnealingA =    \n",
       "3               static constexpr auto kAnnealingB =    \n",
       "4           static constexpr auto kAnnealingStart =    \n",
       "5                static constexpr auto kSkipRatio =    \n",
       "6  static constexpr auto kTargetDeterminationTria...   \n",
       "7          static constexpr auto kAttractionRatio =    \n",
       "8    static constexpr auto kMaxAttractionDistance =    \n",
       "9          static constexpr auto kStartAttraction =    \n",
       "\n",
       "                                right  \n",
       "0    ;             // OPTIMIZE [1, 5]  \n",
       "1     ;            // OPTIMIZE [2, 6]  \n",
       "2    ;      // OPTIMIZE [-15.0, 15.0]  \n",
       "3       ;      // OPTIMIZE [0.0, 3.0]  \n",
       "4      ; // OPTIMIZE LOG [1.0, 100.0]  \n",
       "5      ;       // OPTIMIZE [0.2, 0.8]  \n",
       "6           ; // OPTIMIZE LOG [1, 20]  \n",
       "7  ;      // OPTIMIZE LOG [0.01, 0.9]  \n",
       "8           ; // OPTIMIZE LOG [4, 99]  \n",
       "9  ;     // OPTIMIZE LOG [0.001, 0.9]  "
      ]
     },
     "metadata": {},
     "output_type": "display_data"
    }
   ],
   "source": [
    "# ここでエラー出力は何かおかしいかもしれない\n",
    "\n",
    "\n",
    "# パラメータ抽出\n",
    "with open(FILENAME) as f:\n",
    "    answer = f.read()\n",
    "\n",
    "\n",
    "variables_optimize = []\n",
    "\n",
    "for left, value, right, options in re.findall(r\"^([^/\\n]*=\\s*)(.+?)(\\s*;\\s*//(?:.*\\W)?OPTIMIZE(\\W.*))$\", answer, re.MULTILINE):\n",
    "    name = left.replace(\"=\", \"\").strip().split()[-1]\n",
    "    \n",
    "    searched = re.search(r\".*\\[(?P<min>.*),(?P<max>.*)\\].*\", options)\n",
    "    if searched:\n",
    "        min_value = max_value = None\n",
    "        try:\n",
    "            min_value = eval(searched.group(\"min\"))\n",
    "            max_value = eval(searched.group(\"max\"))\n",
    "            assert min_value <= max_value\n",
    "        except Exception as e:\n",
    "            print(f\"searched={searched}\", file=sys.stderr)\n",
    "            print(e, file=sys.stderr)\n",
    "            continue\n",
    "        log = \"LOG\" in options  # 雑、直したほうが良い\n",
    "        if type(min_value) != type(max_value):\n",
    "            print(f\"searched={searched}\", file=sys.stderr)\n",
    "            print(\"types not matched\", file=sys.stderr)\n",
    "            continue\n",
    "        if isinstance(min_value, int):\n",
    "            method = \"suggest_int\"\n",
    "        elif isinstance(min_value, float):\n",
    "            method = \"suggest_float\"\n",
    "        else:\n",
    "            print(f\"searched={searched}\", file=sys.stderr)\n",
    "            print(f\"unknown type ({type(min_value)})\", file=sys.stderr)\n",
    "            continue\n",
    "        variables_optimize.append({\n",
    "            \"name\": name,\n",
    "            \"method\": method,\n",
    "            \"min\": min_value,\n",
    "            \"max\": max_value,\n",
    "            \"log\": log,\n",
    "            \"left\": left,\n",
    "            \"right\": right,\n",
    "        })\n",
    "    elif searched := re.search(r\".*\\{(?P<choices>.*?)\\}.*\", options):\n",
    "        choices = list(map(lambda x: x.strip(), searched.group(\"choices\").split(\",\")))\n",
    "        variables_optimize.append({\n",
    "            \"name\": name,\n",
    "            \"method\": \"suggest_categorical\",\n",
    "            \"choices\": choices,\n",
    "            \"left\": left,\n",
    "            \"right\": right,\n",
    "        })\n",
    "    else:\n",
    "        print(f\"searched={searched}\", file=sys.stderr)\n",
    "        print(f\"pattern was matched but options are incorrect.\", file=sys.stderr)\n",
    "\n",
    "print(len(variables_optimize), \"variables were found.\")\n",
    "if globals().get(\"pd\"):\n",
    "    display(pd.DataFrame(variables_optimize))\n",
    "else:\n",
    "    pprint(variables_optimize)"
   ]
  },
  {
   "cell_type": "code",
   "execution_count": 56,
   "id": "c59ba853",
   "metadata": {},
   "outputs": [],
   "source": [
    "def escape(string):  # 正規表現の中でそのまま使いたい文字列をエスケープ\n",
    "    res = !echo '{string}' | sed -e 's/[]\\/$*.^[]/\\\\&/g'\n",
    "    return res[0]\n",
    "\n",
    "def escape_sed(string):  # sed の置換後の文字列用のエスケープ\n",
    "    res = !echo '{string}' | sed -e 's/[\\/&]/\\\\&/g'\n",
    "    return res[0]\n",
    "\n",
    "def read_stream(name, in_file, out_file):\n",
    "    for line in in_file:\n",
    "        print(f\"[{name}] {line.strip()}\", file=out_file)\n",
    "\n",
    "def run(cmd, name):\n",
    "    proc = Popen(cmd, stdout=PIPE, stderr=PIPE, universal_newlines=True, shell=isinstance(cmd, str))\n",
    "    stdout_thread = Thread(target=read_stream, args=(name, proc.stdout, sys.stdout))\n",
    "    stderr_thread = Thread(target=read_stream, args=(name, proc.stderr, sys.stderr))\n",
    "    stdout_thread.start()\n",
    "    stderr_thread.start()\n",
    "    proc.wait()\n",
    "    return proc\n",
    "\n",
    "def objective(trial, in_dir, work_dir):\n",
    "    n_internal_parallel = 3\n",
    "    \n",
    "    index_parallel = f\"{trial.number:04d}\"\n",
    "    print(f\"{index_parallel=}\")\n",
    "    \n",
    "    work_dir = Path(work_dir)\n",
    "    directory_input = Path(in_dir)  # 中のすべてのファイルに対して実行される\n",
    "    #parameters_changed_filename = Path(gettempdir()) / str(uuid1())\n",
    "    parameters_changed_filename = work_dir / f\"{index_parallel}_{FILENAME}\"\n",
    "    \n",
    "    run([\"mkdir\", f\"{work_dir / index_parallel}_out\"], \"mkdir\")\n",
    "    run([\"mkdir\", f\"{work_dir / index_parallel}_score\"], \"mkdir\")\n",
    "    \n",
    "    # ファイル作成\n",
    "    run(f\"cp {FILENAME} {parameters_changed_filename}\", \"cp\")\n",
    "    sed_options = [f\"-i {parameters_changed_filename}\"]\n",
    "    for variable in variables_optimize:\n",
    "        if variable[\"method\"] == \"suggest_categorical\":\n",
    "            val =  trial.suggest_categorical(variable[\"name\"], variable[\"choices\"])\n",
    "        else:\n",
    "            val = getattr(trial, variable[\"method\"])(variable[\"name\"], variable[\"min\"], variable[\"max\"], log=variable[\"log\"])\n",
    "        left = variable[\"left\"]\n",
    "        right = variable[\"right\"]\n",
    "        sed_options.append(f\"\"\"-e 's/^{escape(left)}.*{escape(right)}$/{escape_sed(left)}{val}{escape_sed(right)}/'\"\"\")\n",
    "    command_sed = f\"sed {' '.join(sed_options)}\"\n",
    "    #print(command_sed)\n",
    "    run(command_sed, \"sed\")\n",
    "    \n",
    "    # コンパイル\n",
    "    command_compile = f\"g++ {parameters_changed_filename} -std=gnu++17 -O2 -DONLINE_JUDGE -o {parameters_changed_filename}.out\"\n",
    "    #print(command_compile)\n",
    "    run(command_compile, \"compile\")\n",
    "    # 実行・採点コマンド (@ はファイル名)\n",
    "    command_exec = (\n",
    "        #f\"./a.out < ./tools/in/{i:04d}.txt > {out_file} && ./tools/target/release/vis ./tools/in/{i:04d}.txt {out_file}\"\n",
    "        #f\"../tools/target/release/tester $(pwd)/{parameters_changed_filename}.out < {directory_input}/@ 2>&1 | grep Score\"\n",
    "        #f\"../tools/target/release/tester $(pwd)/{parameters_changed_filename}.out < {directory_input}/@ 2>&1 | grep Score | sed -E s/[^0-9]+// > ./{index_parallel}_score/@;\"\n",
    "        #f\"cargo run --release --manifest-path ../tools/Cargo.toml --bin tester {directory_input}/@ $(pwd)/{parameters_changed_filename}.out 2>&1 | grep Score | sed -E s/[^0-9]+// > ./{index_parallel}_score/@;\"\n",
    "        f\"./{parameters_changed_filename}.out < {directory_input}/@ > {work_dir / index_parallel}_out/@;\"\n",
    "        f\"../tools/target/release/vis {directory_input}/@ {work_dir / index_parallel}_out/@ 2> /dev/null > {work_dir / index_parallel}_score/@;\"\n",
    "    )\n",
    "    # 並列実行 (sed はパスのディレクトリ部分を消してファイル名にしてる)\n",
    "    run(f\"find {directory_input}/* | sed 's!^.*/!!' | xargs -I@ -P {n_internal_parallel} sh -c '{command_exec}'\", \"exec\")\n",
    "    \n",
    "    # 集計\n",
    "    scores = []\n",
    "    for file_path in Path(f\"{work_dir / index_parallel}_score/\").iterdir():  \n",
    "        with open(file_path) as f:\n",
    "            scores.append(int(f.readline().strip().split()[-1]))\n",
    "    mean_score = sum(scores) / len(scores)\n",
    "    \n",
    "    # 後始末\n",
    "    run(f\"rm -rf {work_dir / index_parallel}_out\", \"rm\")\n",
    "    run(f\"rm -rf {work_dir / index_parallel}_score\", \"rm\")\n",
    "    #run(f\"rm {parameters_changed_filename}\", \"rm\")\n",
    "    run(f\"rm {parameters_changed_filename}.out\", \"rm\")\n",
    "    \n",
    "    return mean_score"
   ]
  },
  {
   "cell_type": "code",
   "execution_count": 57,
   "id": "0e3d5d47",
   "metadata": {},
   "outputs": [
    {
     "name": "stderr",
     "output_type": "stream",
     "text": [
      "\u001b[32m[I 2022-08-15 21:07:33,339]\u001b[0m Using an existing study with name 'study' instead of creating a new one.\u001b[0m\n"
     ]
    }
   ],
   "source": [
    "K = 2\n",
    "N_CLASS = 0\n",
    "\n",
    "storage_path = f\"test_study.db\"\n",
    "storage = f\"sqlite:///{storage_path}\"\n",
    "study_name = \"study\"\n",
    "study = optuna.create_study(storage=storage, load_if_exists=True, study_name=study_name, direction=\"maximize\")\n",
    "\n",
    "in_dir = Path(f\"in_{K}_{N_CLASS}\")\n",
    "work_dir = Path(f\"work_{K}_{N_CLASS}\")\n",
    "\n",
    "def callback(study, trial):\n",
    "    try:\n",
    "        index_parallel = f\"{trial.number:04d}\"\n",
    "        parameters_changed_filename = work_dir / f\"{index_parallel}_{FILENAME}\"\n",
    "        if study.best_value == trial.value:\n",
    "            print(f\"Updated! {study.best_value}\")\n",
    "            !cp {parameters_changed_filename} {work_dir / \"best_parameters.cpp\"}\n",
    "        !rm {parameters_changed_filename}\n",
    "    except:\n",
    "        print(\":(\")\n"
   ]
  },
  {
   "cell_type": "code",
   "execution_count": 58,
   "id": "7f0e6508",
   "metadata": {
    "scrolled": true
   },
   "outputs": [
    {
     "name": "stderr",
     "output_type": "stream",
     "text": [
      "[exec] 413188 iterations\n",
      "[exec] 373641 iterations\n",
      "[exec] 384472 iterations\n",
      "[exec] 396267 iterations\n",
      "[exec] 380289 iterations\n",
      "[exec] 371339 iterations\n",
      "[exec] 366048 iterations\n",
      "[exec] 369709 iterations\n",
      "[exec] 377723 iterations\n",
      "[exec] 341808 iterations\n",
      "[exec] 366764 iterations\n",
      "[exec] 366732 iterations\n",
      "[exec] 382926 iterations\n",
      "[exec] 372054 iterations\n",
      "[exec] 412923 iterations\n",
      "[exec] 388410 iterations\n",
      "[exec] 381991 iterations\n",
      "[exec] 390625 iterations\n",
      "[exec] 422019 iterations\n",
      "[exec] 382104 iterations\n",
      "[exec] 376644 iterations\n",
      "[exec] 347639 iterations\n",
      "[exec] 382319 iterations\n",
      "[exec] 386241 iterations\n",
      "[exec] 383269 iterations\n",
      "[exec] 387693 iterations\n",
      "[exec] 367692 iterations\n",
      "[exec] 359295 iterations\n",
      "[exec] 368299 iterations\n",
      "[exec] 340603 iterations\n",
      "[exec] 361103 iterations\n",
      "[exec] 367963 iterations\n",
      "[exec] 383600 iterations\n",
      "[exec] 374134 iterations\n",
      "[exec] 381757 iterations\n",
      "[exec] 379396 iterations\n",
      "[exec] 387163 iterations\n",
      "[exec] 382898 iterations\n",
      "[exec] 340465 iterations\n",
      "[exec] 381330 iterations\n",
      "[exec] 369850 iterations\n",
      "[exec] 393855 iterations\n",
      "[exec] 383374 iterations\n",
      "[exec] 388028 iterations\n",
      "[exec] 386279 iterations\n",
      "[exec] 365357 iterations\n",
      "[exec] 364935 iterations\n",
      "[exec] 385023 iterations\n",
      "[exec] 387543 iterations\n",
      "[exec] 383665 iterations\n",
      "[exec] 370254 iterations\n",
      "[exec] 358123 iterations\n",
      "[exec] 495729 iterations\n",
      "[exec] 356959 iterations\n",
      "[exec] 380196 iterations\n",
      "[exec] 384352 iterations\n",
      "[exec] 377158 iterations\n",
      "[exec] 384172 iterations\n",
      "[exec] 354311 iterations\n",
      "[exec] 399745 iterations\n",
      "[exec] 374204 iterations\n",
      "[exec] 349310 iterations\n",
      "[exec] 353694 iterations\n",
      "[exec] 384733 iterations\n",
      "[exec] 365196 iterations\n",
      "[exec] 359071 iterations\n",
      "[exec] 419150 iterations\n",
      "[exec] 372034 iterations\n",
      "[exec] 388412 iterations\n",
      "[exec] 407578 iterations\n",
      "[exec] 360730 iterations\n",
      "[exec] 396486 iterations\n",
      "[exec] 382083 iterations\n",
      "[exec] 352031 iterations\n",
      "[exec] 351807 iterations\n",
      "[exec] 386906 iterations\n",
      "[exec] 367966 iterations\n",
      "[exec] 498106 iterations\n",
      "[exec] 376233 iterations\n",
      "[exec] 441429 iterations\n",
      "[exec] 381825 iterations\n",
      "[exec] 379653 iterations\n",
      "[exec] 380178 iterations\n",
      "[exec] 362216 iterations\n",
      "[exec] 380658 iterations\n",
      "[exec] 344741 iterations\n",
      "[exec] 374570 iterations\n",
      "[exec] 376779 iterations\n",
      "[exec] 481288 iterations\n",
      "[exec] 380926 iterations\n",
      "[exec] 366094 iterations\n",
      "[exec] 404291 iterations\n",
      "[exec] 361424 iterations\n",
      "[exec] 398003 iterations\n",
      "[exec] 356337 iterations\n",
      "[exec] 308528 iterations\n",
      "[exec] 394077 iterations\n",
      "[exec] 376344 iterations\n",
      "[exec] 373532 iterations\n",
      "[exec] 381472 iterations\n",
      "[exec] 392126 iterations\n",
      "[exec] 395805 iterations\n",
      "[exec] 433463 iterations\n",
      "[exec] 399819 iterations\n",
      "[exec] 420358 iterations\n",
      "[exec] 394170 iterations\n",
      "[exec] 365354 iterations\n",
      "[exec] 371043 iterations\n",
      "[exec] 422374 iterations\n",
      "[exec] 389892 iterations\n",
      "[exec] 400774 iterations\n",
      "[exec] 387645 iterations\n",
      "[exec] 394590 iterations\n",
      "[exec] 387879 iterations\n",
      "[exec] 421962 iterations\n",
      "[exec] 360881 iterations\n",
      "[exec] 374887 iterations\n",
      "[exec] 438760 iterations\n",
      "[exec] 363655 iterations\n",
      "[exec] 373453 iterations\n",
      "[exec] 376717 iterations\n",
      "[exec] 366602 iterations\n",
      "[exec] 339995 iterations\n",
      "[exec] 381829 iterations\n",
      "[exec] 385952 iterations\n",
      "[exec] 384778 iterations\n",
      "[exec] 373751 iterations\n",
      "[exec] 356337 iterations\n",
      "[exec] 362536 iterations\n",
      "[exec] 394226 iterations\n",
      "[exec] 376050 iterations\n",
      "[exec] 368009 iterations\n",
      "[exec] 366609 iterations\n",
      "[exec] 389490 iterations\n",
      "[exec] 376446 iterations\n",
      "[exec] 384929 iterations\n",
      "[exec] 477619 iterations\n",
      "[exec] 347748 iterations\n",
      "[exec] 367558 iterations\n",
      "[exec] 397699 iterations\n",
      "[exec] 403327 iterations\n",
      "[exec] 383835 iterations\n",
      "[exec] 377011 iterations\n",
      "[exec] 357548 iterations\n",
      "[exec] 380710 iterations\n",
      "[exec] 437517 iterations\n",
      "[exec] 364412 iterations\n",
      "[exec] 393806 iterations\n",
      "[exec] 388912 iterations\n",
      "[exec] 402737 iterations\n",
      "[exec] 374635 iterations\n",
      "[exec] 384963 iterations\n",
      "[exec] 390873 iterations\n",
      "[exec] 348162 iterations\n",
      "[exec] 383172 iterations\n",
      "[exec] 472117 iterations\n",
      "[exec] 391486 iterations\n",
      "[exec] 375144 iterations\n",
      "[exec] 439279 iterations\n",
      "[exec] 375639 iterations\n",
      "[exec] 381365 iterations\n",
      "[exec] 383193 iterations\n",
      "[exec] 383854 iterations\n",
      "[exec] 378196 iterations\n",
      "[exec] 360316 iterations\n",
      "[exec] 364137 iterations\n",
      "[exec] 372657 iterations\n",
      "[exec] 394716 iterations\n",
      "[exec] 387592 iterations\n",
      "[exec] 395147 iterations\n",
      "\u001b[32m[I 2022-08-15 21:10:53,926]\u001b[0m Trial 6 finished with value: 6094.264705882353 and parameters: {'kErase': 1, 'kRadius': 6, 'kAnnealingA': 12.22172813123916, 'kAnnealingB': 0.11652509845133707, 'kAnnealingStart': 1.648378085537883, 'kSkipRatio': 0.674725141706304, 'kTargetDeterminationTrials': 1, 'kAttractionRatio': 0.1657922656737983, 'kMaxAttractionDistance': 12, 'kStartAttraction': 0.0946761104557599}. Best is trial 6 with value: 6094.264705882353.\u001b[0m\n"
     ]
    },
    {
     "name": "stdout",
     "output_type": "stream",
     "text": [
      "Updated! 6094.264705882353\n",
      "cp: cannot stat '0006_main.cpp': No such file or directory\n",
      "rm: cannot remove '0006_main.cpp': No such file or directory\n"
     ]
    },
    {
     "name": "stderr",
     "output_type": "stream",
     "text": [
      "\u001b[32m[I 2022-08-15 21:14:14,645]\u001b[0m Trial 7 finished with value: 5890.229411764706 and parameters: {'kErase': 5, 'kRadius': 5, 'kAnnealingA': -6.701858967453656, 'kAnnealingB': 1.6480678037035361, 'kAnnealingStart': 34.278158160040135, 'kSkipRatio': 0.2386839669757565, 'kTargetDeterminationTrials': 5, 'kAttractionRatio': 0.8878020038213953, 'kMaxAttractionDistance': 5, 'kStartAttraction': 0.30268360646865367}. Best is trial 6 with value: 6094.264705882353.\u001b[0m\n"
     ]
    },
    {
     "name": "stdout",
     "output_type": "stream",
     "text": [
      "rm: cannot remove '0007_main.cpp': No such file or directory\r\n"
     ]
    },
    {
     "ename": "KeyboardInterrupt",
     "evalue": "",
     "output_type": "error",
     "traceback": [
      "\u001b[0;31m---------------------------------------------------------------------------\u001b[0m",
      "\u001b[0;31mKeyboardInterrupt\u001b[0m                         Traceback (most recent call last)",
      "Input \u001b[0;32mIn [58]\u001b[0m, in \u001b[0;36m<cell line: 1>\u001b[0;34m()\u001b[0m\n\u001b[0;32m----> 1\u001b[0m \u001b[43mstudy\u001b[49m\u001b[38;5;241;43m.\u001b[39;49m\u001b[43moptimize\u001b[49m\u001b[43m(\u001b[49m\n\u001b[1;32m      2\u001b[0m \u001b[43m    \u001b[49m\u001b[43mpartial\u001b[49m\u001b[43m(\u001b[49m\u001b[43mobjective\u001b[49m\u001b[43m,\u001b[49m\u001b[43m \u001b[49m\u001b[43min_dir\u001b[49m\u001b[38;5;241;43m=\u001b[39;49m\u001b[43mPath\u001b[49m\u001b[43m(\u001b[49m\u001b[38;5;124;43mf\u001b[39;49m\u001b[38;5;124;43m\"\u001b[39;49m\u001b[38;5;124;43min_2_0\u001b[39;49m\u001b[38;5;124;43m\"\u001b[39;49m\u001b[43m)\u001b[49m\u001b[43m,\u001b[49m\u001b[43m \u001b[49m\u001b[43mwork_dir\u001b[49m\u001b[38;5;241;43m=\u001b[39;49m\u001b[43mPath\u001b[49m\u001b[43m(\u001b[49m\u001b[38;5;124;43m\"\u001b[39;49m\u001b[38;5;124;43mwork_2_0\u001b[39;49m\u001b[38;5;124;43m\"\u001b[39;49m\u001b[43m)\u001b[49m\u001b[43m)\u001b[49m\u001b[43m,\u001b[49m\n\u001b[1;32m      3\u001b[0m \u001b[43m    \u001b[49m\u001b[43mn_trials\u001b[49m\u001b[38;5;241;43m=\u001b[39;49m\u001b[38;5;241;43m3000\u001b[39;49m\u001b[43m,\u001b[49m\n\u001b[1;32m      4\u001b[0m \u001b[43m    \u001b[49m\u001b[43mtimeout\u001b[49m\u001b[38;5;241;43m=\u001b[39;49m\u001b[38;5;241;43m86400\u001b[39;49m\u001b[43m,\u001b[49m\n\u001b[1;32m      5\u001b[0m \u001b[43m    \u001b[49m\u001b[43mcallbacks\u001b[49m\u001b[38;5;241;43m=\u001b[39;49m\u001b[43m[\u001b[49m\u001b[43mcallback\u001b[49m\u001b[43m]\u001b[49m\n\u001b[1;32m      6\u001b[0m \u001b[43m)\u001b[49m\n",
      "File \u001b[0;32m~/anaconda3/lib/python3.9/site-packages/optuna/study/study.py:400\u001b[0m, in \u001b[0;36mStudy.optimize\u001b[0;34m(self, func, n_trials, timeout, n_jobs, catch, callbacks, gc_after_trial, show_progress_bar)\u001b[0m\n\u001b[1;32m    392\u001b[0m \u001b[38;5;28;01mif\u001b[39;00m n_jobs \u001b[38;5;241m!=\u001b[39m \u001b[38;5;241m1\u001b[39m:\n\u001b[1;32m    393\u001b[0m     warnings\u001b[38;5;241m.\u001b[39mwarn(\n\u001b[1;32m    394\u001b[0m         \u001b[38;5;124m\"\u001b[39m\u001b[38;5;124m`n_jobs` argument has been deprecated in v2.7.0. \u001b[39m\u001b[38;5;124m\"\u001b[39m\n\u001b[1;32m    395\u001b[0m         \u001b[38;5;124m\"\u001b[39m\u001b[38;5;124mThis feature will be removed in v4.0.0. \u001b[39m\u001b[38;5;124m\"\u001b[39m\n\u001b[1;32m    396\u001b[0m         \u001b[38;5;124m\"\u001b[39m\u001b[38;5;124mSee https://github.com/optuna/optuna/releases/tag/v2.7.0.\u001b[39m\u001b[38;5;124m\"\u001b[39m,\n\u001b[1;32m    397\u001b[0m         \u001b[38;5;167;01mFutureWarning\u001b[39;00m,\n\u001b[1;32m    398\u001b[0m     )\n\u001b[0;32m--> 400\u001b[0m \u001b[43m_optimize\u001b[49m\u001b[43m(\u001b[49m\n\u001b[1;32m    401\u001b[0m \u001b[43m    \u001b[49m\u001b[43mstudy\u001b[49m\u001b[38;5;241;43m=\u001b[39;49m\u001b[38;5;28;43mself\u001b[39;49m\u001b[43m,\u001b[49m\n\u001b[1;32m    402\u001b[0m \u001b[43m    \u001b[49m\u001b[43mfunc\u001b[49m\u001b[38;5;241;43m=\u001b[39;49m\u001b[43mfunc\u001b[49m\u001b[43m,\u001b[49m\n\u001b[1;32m    403\u001b[0m \u001b[43m    \u001b[49m\u001b[43mn_trials\u001b[49m\u001b[38;5;241;43m=\u001b[39;49m\u001b[43mn_trials\u001b[49m\u001b[43m,\u001b[49m\n\u001b[1;32m    404\u001b[0m \u001b[43m    \u001b[49m\u001b[43mtimeout\u001b[49m\u001b[38;5;241;43m=\u001b[39;49m\u001b[43mtimeout\u001b[49m\u001b[43m,\u001b[49m\n\u001b[1;32m    405\u001b[0m \u001b[43m    \u001b[49m\u001b[43mn_jobs\u001b[49m\u001b[38;5;241;43m=\u001b[39;49m\u001b[43mn_jobs\u001b[49m\u001b[43m,\u001b[49m\n\u001b[1;32m    406\u001b[0m \u001b[43m    \u001b[49m\u001b[43mcatch\u001b[49m\u001b[38;5;241;43m=\u001b[39;49m\u001b[43mcatch\u001b[49m\u001b[43m,\u001b[49m\n\u001b[1;32m    407\u001b[0m \u001b[43m    \u001b[49m\u001b[43mcallbacks\u001b[49m\u001b[38;5;241;43m=\u001b[39;49m\u001b[43mcallbacks\u001b[49m\u001b[43m,\u001b[49m\n\u001b[1;32m    408\u001b[0m \u001b[43m    \u001b[49m\u001b[43mgc_after_trial\u001b[49m\u001b[38;5;241;43m=\u001b[39;49m\u001b[43mgc_after_trial\u001b[49m\u001b[43m,\u001b[49m\n\u001b[1;32m    409\u001b[0m \u001b[43m    \u001b[49m\u001b[43mshow_progress_bar\u001b[49m\u001b[38;5;241;43m=\u001b[39;49m\u001b[43mshow_progress_bar\u001b[49m\u001b[43m,\u001b[49m\n\u001b[1;32m    410\u001b[0m \u001b[43m\u001b[49m\u001b[43m)\u001b[49m\n",
      "File \u001b[0;32m~/anaconda3/lib/python3.9/site-packages/optuna/study/_optimize.py:66\u001b[0m, in \u001b[0;36m_optimize\u001b[0;34m(study, func, n_trials, timeout, n_jobs, catch, callbacks, gc_after_trial, show_progress_bar)\u001b[0m\n\u001b[1;32m     64\u001b[0m \u001b[38;5;28;01mtry\u001b[39;00m:\n\u001b[1;32m     65\u001b[0m     \u001b[38;5;28;01mif\u001b[39;00m n_jobs \u001b[38;5;241m==\u001b[39m \u001b[38;5;241m1\u001b[39m:\n\u001b[0;32m---> 66\u001b[0m         \u001b[43m_optimize_sequential\u001b[49m\u001b[43m(\u001b[49m\n\u001b[1;32m     67\u001b[0m \u001b[43m            \u001b[49m\u001b[43mstudy\u001b[49m\u001b[43m,\u001b[49m\n\u001b[1;32m     68\u001b[0m \u001b[43m            \u001b[49m\u001b[43mfunc\u001b[49m\u001b[43m,\u001b[49m\n\u001b[1;32m     69\u001b[0m \u001b[43m            \u001b[49m\u001b[43mn_trials\u001b[49m\u001b[43m,\u001b[49m\n\u001b[1;32m     70\u001b[0m \u001b[43m            \u001b[49m\u001b[43mtimeout\u001b[49m\u001b[43m,\u001b[49m\n\u001b[1;32m     71\u001b[0m \u001b[43m            \u001b[49m\u001b[43mcatch\u001b[49m\u001b[43m,\u001b[49m\n\u001b[1;32m     72\u001b[0m \u001b[43m            \u001b[49m\u001b[43mcallbacks\u001b[49m\u001b[43m,\u001b[49m\n\u001b[1;32m     73\u001b[0m \u001b[43m            \u001b[49m\u001b[43mgc_after_trial\u001b[49m\u001b[43m,\u001b[49m\n\u001b[1;32m     74\u001b[0m \u001b[43m            \u001b[49m\u001b[43mreseed_sampler_rng\u001b[49m\u001b[38;5;241;43m=\u001b[39;49m\u001b[38;5;28;43;01mFalse\u001b[39;49;00m\u001b[43m,\u001b[49m\n\u001b[1;32m     75\u001b[0m \u001b[43m            \u001b[49m\u001b[43mtime_start\u001b[49m\u001b[38;5;241;43m=\u001b[39;49m\u001b[38;5;28;43;01mNone\u001b[39;49;00m\u001b[43m,\u001b[49m\n\u001b[1;32m     76\u001b[0m \u001b[43m            \u001b[49m\u001b[43mprogress_bar\u001b[49m\u001b[38;5;241;43m=\u001b[39;49m\u001b[43mprogress_bar\u001b[49m\u001b[43m,\u001b[49m\n\u001b[1;32m     77\u001b[0m \u001b[43m        \u001b[49m\u001b[43m)\u001b[49m\n\u001b[1;32m     78\u001b[0m     \u001b[38;5;28;01melse\u001b[39;00m:\n\u001b[1;32m     79\u001b[0m         \u001b[38;5;28;01mif\u001b[39;00m show_progress_bar:\n",
      "File \u001b[0;32m~/anaconda3/lib/python3.9/site-packages/optuna/study/_optimize.py:163\u001b[0m, in \u001b[0;36m_optimize_sequential\u001b[0;34m(study, func, n_trials, timeout, catch, callbacks, gc_after_trial, reseed_sampler_rng, time_start, progress_bar)\u001b[0m\n\u001b[1;32m    160\u001b[0m         \u001b[38;5;28;01mbreak\u001b[39;00m\n\u001b[1;32m    162\u001b[0m \u001b[38;5;28;01mtry\u001b[39;00m:\n\u001b[0;32m--> 163\u001b[0m     trial \u001b[38;5;241m=\u001b[39m \u001b[43m_run_trial\u001b[49m\u001b[43m(\u001b[49m\u001b[43mstudy\u001b[49m\u001b[43m,\u001b[49m\u001b[43m \u001b[49m\u001b[43mfunc\u001b[49m\u001b[43m,\u001b[49m\u001b[43m \u001b[49m\u001b[43mcatch\u001b[49m\u001b[43m)\u001b[49m\n\u001b[1;32m    164\u001b[0m \u001b[38;5;28;01mexcept\u001b[39;00m \u001b[38;5;167;01mException\u001b[39;00m:\n\u001b[1;32m    165\u001b[0m     \u001b[38;5;28;01mraise\u001b[39;00m\n",
      "File \u001b[0;32m~/anaconda3/lib/python3.9/site-packages/optuna/study/_optimize.py:213\u001b[0m, in \u001b[0;36m_run_trial\u001b[0;34m(study, func, catch)\u001b[0m\n\u001b[1;32m    210\u001b[0m     thread\u001b[38;5;241m.\u001b[39mstart()\n\u001b[1;32m    212\u001b[0m \u001b[38;5;28;01mtry\u001b[39;00m:\n\u001b[0;32m--> 213\u001b[0m     value_or_values \u001b[38;5;241m=\u001b[39m \u001b[43mfunc\u001b[49m\u001b[43m(\u001b[49m\u001b[43mtrial\u001b[49m\u001b[43m)\u001b[49m\n\u001b[1;32m    214\u001b[0m \u001b[38;5;28;01mexcept\u001b[39;00m exceptions\u001b[38;5;241m.\u001b[39mTrialPruned \u001b[38;5;28;01mas\u001b[39;00m e:\n\u001b[1;32m    215\u001b[0m     \u001b[38;5;66;03m# TODO(mamu): Handle multi-objective cases.\u001b[39;00m\n\u001b[1;32m    216\u001b[0m     state \u001b[38;5;241m=\u001b[39m TrialState\u001b[38;5;241m.\u001b[39mPRUNED\n",
      "Input \u001b[0;32mIn [56]\u001b[0m, in \u001b[0;36mobjective\u001b[0;34m(trial, in_dir, work_dir)\u001b[0m\n\u001b[1;32m     56\u001b[0m command_exec \u001b[38;5;241m=\u001b[39m (\n\u001b[1;32m     57\u001b[0m     \u001b[38;5;66;03m#f\"./a.out < ./tools/in/{i:04d}.txt > {out_file} && ./tools/target/release/vis ./tools/in/{i:04d}.txt {out_file}\"\u001b[39;00m\n\u001b[1;32m     58\u001b[0m     \u001b[38;5;66;03m#f\"../tools/target/release/tester $(pwd)/{parameters_changed_filename}.out < {directory_input}/@ 2>&1 | grep Score\"\u001b[39;00m\n\u001b[0;32m   (...)\u001b[0m\n\u001b[1;32m     62\u001b[0m     \u001b[38;5;124mf\u001b[39m\u001b[38;5;124m\"\u001b[39m\u001b[38;5;124m../tools/target/release/vis \u001b[39m\u001b[38;5;132;01m{\u001b[39;00mdirectory_input\u001b[38;5;132;01m}\u001b[39;00m\u001b[38;5;124m/@ \u001b[39m\u001b[38;5;132;01m{\u001b[39;00mwork_dir \u001b[38;5;241m/\u001b[39m index_parallel\u001b[38;5;132;01m}\u001b[39;00m\u001b[38;5;124m_out/@ 2> /dev/null > \u001b[39m\u001b[38;5;132;01m{\u001b[39;00mwork_dir \u001b[38;5;241m/\u001b[39m index_parallel\u001b[38;5;132;01m}\u001b[39;00m\u001b[38;5;124m_score/@;\u001b[39m\u001b[38;5;124m\"\u001b[39m\n\u001b[1;32m     63\u001b[0m )\n\u001b[1;32m     64\u001b[0m \u001b[38;5;66;03m# 並列実行 (sed はパスのディレクトリ部分を消してファイル名にしてる)\u001b[39;00m\n\u001b[0;32m---> 65\u001b[0m \u001b[43mrun\u001b[49m\u001b[43m(\u001b[49m\u001b[38;5;124;43mf\u001b[39;49m\u001b[38;5;124;43m\"\u001b[39;49m\u001b[38;5;124;43mfind \u001b[39;49m\u001b[38;5;132;43;01m{\u001b[39;49;00m\u001b[43mdirectory_input\u001b[49m\u001b[38;5;132;43;01m}\u001b[39;49;00m\u001b[38;5;124;43m/* | sed \u001b[39;49m\u001b[38;5;124;43m'\u001b[39;49m\u001b[38;5;124;43ms!^.*/!!\u001b[39;49m\u001b[38;5;124;43m'\u001b[39;49m\u001b[38;5;124;43m | xargs -I@ -P \u001b[39;49m\u001b[38;5;132;43;01m{\u001b[39;49;00m\u001b[43mn_internal_parallel\u001b[49m\u001b[38;5;132;43;01m}\u001b[39;49;00m\u001b[38;5;124;43m sh -c \u001b[39;49m\u001b[38;5;124;43m'\u001b[39;49m\u001b[38;5;132;43;01m{\u001b[39;49;00m\u001b[43mcommand_exec\u001b[49m\u001b[38;5;132;43;01m}\u001b[39;49;00m\u001b[38;5;124;43m'\u001b[39;49m\u001b[38;5;124;43m\"\u001b[39;49m\u001b[43m,\u001b[49m\u001b[43m \u001b[49m\u001b[38;5;124;43m\"\u001b[39;49m\u001b[38;5;124;43mexec\u001b[39;49m\u001b[38;5;124;43m\"\u001b[39;49m\u001b[43m)\u001b[49m\n\u001b[1;32m     67\u001b[0m \u001b[38;5;66;03m# 集計\u001b[39;00m\n\u001b[1;32m     68\u001b[0m scores \u001b[38;5;241m=\u001b[39m []\n",
      "Input \u001b[0;32mIn [56]\u001b[0m, in \u001b[0;36mrun\u001b[0;34m(cmd, name)\u001b[0m\n\u001b[1;32m     17\u001b[0m stdout_thread\u001b[38;5;241m.\u001b[39mstart()\n\u001b[1;32m     18\u001b[0m stderr_thread\u001b[38;5;241m.\u001b[39mstart()\n\u001b[0;32m---> 19\u001b[0m \u001b[43mproc\u001b[49m\u001b[38;5;241;43m.\u001b[39;49m\u001b[43mwait\u001b[49m\u001b[43m(\u001b[49m\u001b[43m)\u001b[49m\n\u001b[1;32m     20\u001b[0m \u001b[38;5;28;01mreturn\u001b[39;00m proc\n",
      "File \u001b[0;32m~/anaconda3/lib/python3.9/subprocess.py:1189\u001b[0m, in \u001b[0;36mPopen.wait\u001b[0;34m(self, timeout)\u001b[0m\n\u001b[1;32m   1187\u001b[0m     endtime \u001b[38;5;241m=\u001b[39m _time() \u001b[38;5;241m+\u001b[39m timeout\n\u001b[1;32m   1188\u001b[0m \u001b[38;5;28;01mtry\u001b[39;00m:\n\u001b[0;32m-> 1189\u001b[0m     \u001b[38;5;28;01mreturn\u001b[39;00m \u001b[38;5;28;43mself\u001b[39;49m\u001b[38;5;241;43m.\u001b[39;49m\u001b[43m_wait\u001b[49m\u001b[43m(\u001b[49m\u001b[43mtimeout\u001b[49m\u001b[38;5;241;43m=\u001b[39;49m\u001b[43mtimeout\u001b[49m\u001b[43m)\u001b[49m\n\u001b[1;32m   1190\u001b[0m \u001b[38;5;28;01mexcept\u001b[39;00m \u001b[38;5;167;01mKeyboardInterrupt\u001b[39;00m:\n\u001b[1;32m   1191\u001b[0m     \u001b[38;5;66;03m# https://bugs.python.org/issue25942\u001b[39;00m\n\u001b[1;32m   1192\u001b[0m     \u001b[38;5;66;03m# The first keyboard interrupt waits briefly for the child to\u001b[39;00m\n\u001b[1;32m   1193\u001b[0m     \u001b[38;5;66;03m# exit under the common assumption that it also received the ^C\u001b[39;00m\n\u001b[1;32m   1194\u001b[0m     \u001b[38;5;66;03m# generated SIGINT and will exit rapidly.\u001b[39;00m\n\u001b[1;32m   1195\u001b[0m     \u001b[38;5;28;01mif\u001b[39;00m timeout \u001b[38;5;129;01mis\u001b[39;00m \u001b[38;5;129;01mnot\u001b[39;00m \u001b[38;5;28;01mNone\u001b[39;00m:\n",
      "File \u001b[0;32m~/anaconda3/lib/python3.9/subprocess.py:1917\u001b[0m, in \u001b[0;36mPopen._wait\u001b[0;34m(self, timeout)\u001b[0m\n\u001b[1;32m   1915\u001b[0m \u001b[38;5;28;01mif\u001b[39;00m \u001b[38;5;28mself\u001b[39m\u001b[38;5;241m.\u001b[39mreturncode \u001b[38;5;129;01mis\u001b[39;00m \u001b[38;5;129;01mnot\u001b[39;00m \u001b[38;5;28;01mNone\u001b[39;00m:\n\u001b[1;32m   1916\u001b[0m     \u001b[38;5;28;01mbreak\u001b[39;00m  \u001b[38;5;66;03m# Another thread waited.\u001b[39;00m\n\u001b[0;32m-> 1917\u001b[0m (pid, sts) \u001b[38;5;241m=\u001b[39m \u001b[38;5;28;43mself\u001b[39;49m\u001b[38;5;241;43m.\u001b[39;49m\u001b[43m_try_wait\u001b[49m\u001b[43m(\u001b[49m\u001b[38;5;241;43m0\u001b[39;49m\u001b[43m)\u001b[49m\n\u001b[1;32m   1918\u001b[0m \u001b[38;5;66;03m# Check the pid and loop as waitpid has been known to\u001b[39;00m\n\u001b[1;32m   1919\u001b[0m \u001b[38;5;66;03m# return 0 even without WNOHANG in odd situations.\u001b[39;00m\n\u001b[1;32m   1920\u001b[0m \u001b[38;5;66;03m# http://bugs.python.org/issue14396.\u001b[39;00m\n\u001b[1;32m   1921\u001b[0m \u001b[38;5;28;01mif\u001b[39;00m pid \u001b[38;5;241m==\u001b[39m \u001b[38;5;28mself\u001b[39m\u001b[38;5;241m.\u001b[39mpid:\n",
      "File \u001b[0;32m~/anaconda3/lib/python3.9/subprocess.py:1875\u001b[0m, in \u001b[0;36mPopen._try_wait\u001b[0;34m(self, wait_flags)\u001b[0m\n\u001b[1;32m   1873\u001b[0m \u001b[38;5;124;03m\"\"\"All callers to this function MUST hold self._waitpid_lock.\"\"\"\u001b[39;00m\n\u001b[1;32m   1874\u001b[0m \u001b[38;5;28;01mtry\u001b[39;00m:\n\u001b[0;32m-> 1875\u001b[0m     (pid, sts) \u001b[38;5;241m=\u001b[39m \u001b[43mos\u001b[49m\u001b[38;5;241;43m.\u001b[39;49m\u001b[43mwaitpid\u001b[49m\u001b[43m(\u001b[49m\u001b[38;5;28;43mself\u001b[39;49m\u001b[38;5;241;43m.\u001b[39;49m\u001b[43mpid\u001b[49m\u001b[43m,\u001b[49m\u001b[43m \u001b[49m\u001b[43mwait_flags\u001b[49m\u001b[43m)\u001b[49m\n\u001b[1;32m   1876\u001b[0m \u001b[38;5;28;01mexcept\u001b[39;00m \u001b[38;5;167;01mChildProcessError\u001b[39;00m:\n\u001b[1;32m   1877\u001b[0m     \u001b[38;5;66;03m# This happens if SIGCLD is set to be ignored or waiting\u001b[39;00m\n\u001b[1;32m   1878\u001b[0m     \u001b[38;5;66;03m# for child processes has otherwise been disabled for our\u001b[39;00m\n\u001b[1;32m   1879\u001b[0m     \u001b[38;5;66;03m# process.  This child is dead, we can't get the status.\u001b[39;00m\n\u001b[1;32m   1880\u001b[0m     pid \u001b[38;5;241m=\u001b[39m \u001b[38;5;28mself\u001b[39m\u001b[38;5;241m.\u001b[39mpid\n",
      "\u001b[0;31mKeyboardInterrupt\u001b[0m: "
     ]
    }
   ],
   "source": [
    "study.optimize(\n",
    "    partial(objective, in_dir=in_dir, work_dir=work_dir),\n",
    "    n_trials=3000,\n",
    "    timeout=86400,\n",
    "    callbacks=[callback]\n",
    ")"
   ]
  },
  {
   "cell_type": "code",
   "execution_count": null,
   "id": "93d17a60",
   "metadata": {},
   "outputs": [],
   "source": []
  },
  {
   "cell_type": "code",
   "execution_count": null,
   "id": "d05e50b9",
   "metadata": {},
   "outputs": [],
   "source": []
  },
  {
   "cell_type": "code",
   "execution_count": null,
   "id": "75940b06",
   "metadata": {},
   "outputs": [],
   "source": []
  },
  {
   "cell_type": "code",
   "execution_count": null,
   "id": "ae8a305f",
   "metadata": {},
   "outputs": [],
   "source": []
  },
  {
   "cell_type": "markdown",
   "id": "de6c3a7e",
   "metadata": {},
   "source": [
    "# 結果を取得"
   ]
  },
  {
   "cell_type": "code",
   "execution_count": 2,
   "id": "2914d423",
   "metadata": {},
   "outputs": [],
   "source": [
    "import re\n",
    "import sys\n",
    "from uuid import uuid1\n",
    "from time import sleep\n",
    "from pprint import pprint\n",
    "from pathlib import Path\n",
    "from tempfile import gettempdir\n",
    "from threading import Thread\n",
    "from functools import partial\n",
    "from subprocess import Popen, PIPE\n",
    "\n",
    "from tqdm.notebook import tqdm\n",
    "import numpy as np\n",
    "import optuna\n",
    "import pandas as pd\n",
    "import matplotlib.pyplot as plt\n",
    "\n",
    "loaded_study = optuna.load_study(study_name=\"study\", storage=\"sqlite:///test_study.db\")"
   ]
  },
  {
   "cell_type": "code",
   "execution_count": 71,
   "id": "a4816bd3",
   "metadata": {},
   "outputs": [],
   "source": [
    "studies = [[None] * 4 for _ in range(6)]\n",
    "for k in range(2, 6):\n",
    "    for n_class in range(4):\n",
    "        in_dir = Path(f\"in_{k}_{n_class}\")\n",
    "        work_dir = Path(f\"work_{k}_{n_class}\")\n",
    "\n",
    "        study_name = f\"study_{k}_{n_class}\"\n",
    "        storage_path = work_dir / \"study.db\"\n",
    "        storage = f\"sqlite:///{storage_path}\"\n",
    "\n",
    "        studies[k][n_class] = optuna.load_study(study_name=study_name, storage=storage)"
   ]
  },
  {
   "cell_type": "code",
   "execution_count": 72,
   "id": "d426b503",
   "metadata": {},
   "outputs": [
    {
     "data": {
      "text/plain": [
       "7659.633913180649"
      ]
     },
     "execution_count": 72,
     "metadata": {},
     "output_type": "execute_result"
    }
   ],
   "source": [
    "best_values = []\n",
    "for k in range(2, 6):\n",
    "    for n_class in range(4):\n",
    "        best_values.append(studies[k][n_class].best_value)\n",
    "sum(best_values) / len(best_values)"
   ]
  },
  {
   "cell_type": "code",
   "execution_count": 70,
   "id": "fd5867de",
   "metadata": {},
   "outputs": [
    {
     "name": "stdout",
     "output_type": "stream",
     "text": [
      "array<array<Parameters, 4>, 6>{array<Parameters, 4>{}, {},\n",
      "    {\n",
      "        Parameters{3,2,-1.5473559790003477,2.394679104775665,49.113776624126906,0.7036113146961994,16,0.036126246564059016,77,0.002536726332503413},\n",
      "        Parameters{2,3,-2.360743455920828,0.8410800563870859,51.14954978170781,0.7076718990460277,13,0.01745078050787936,29,0.03209401045907427},\n",
      "        Parameters{3,3,-0.8599083914393143,2.925181215107081,34.252726962443575,0.7658343930163709,14,0.011372323886580011,80,0.1773136876531248},\n",
      "        Parameters{2,2,1.0216275683640035,1.6589228593332568,32.22277523281214,0.7572275213669666,12,0.3387849907268061,27,0.6912284040206147},\n",
      "    },\n",
      "    {\n",
      "        Parameters{1,2,-0.6935734187927314,2.3319332246782767,44.31452703280603,0.5039548990326592,10,0.5782158264971925,86,0.0014289958779786388},\n",
      "        Parameters{2,4,6.746480615222879,1.5901862644204725,22.664344989910102,0.7302122360707419,5,0.3794791595976484,55,0.5733449839402591},\n",
      "        Parameters{2,4,12.801970168802779,0.32280037269233675,23.366044094213727,0.7592970781871156,15,0.048344719005193965,8,0.05989574639148155},\n",
      "        Parameters{3,6,10.66367141216971,0.8659339931190402,15.68688064813811,0.7993706157693532,7,0.4289688096539172,11,0.8696570733295481},\n",
      "    },\n",
      "    {\n",
      "        Parameters{1,2,2.2508155287190688,1.9323641154182187,18.288492418318103,0.6868440567993311,6,0.7622903560583656,18,0.043004863796253026},\n",
      "        Parameters{1,5,8.29331147231568,2.5594476546034066,8.846928181417638,0.796282953547888,10,0.2921342987874078,13,0.4420363438653956},\n",
      "        Parameters{2,3,6.557866022361303,1.227625211914838,7.370471273129505,0.7173015971354177,9,0.6954617370929896,14,0.6672982285667602},\n",
      "        Parameters{2,3,14.054303211666149,0.7659256567848483,7.420603349570531,0.727622502173684,15,0.7211644558916375,12,0.5283546335212416},\n",
      "    },\n",
      "    {\n",
      "        Parameters{1,2,0.6087452845947905,2.7075576102742063,20.025154808113335,0.7665642617122794,9,0.41254517020977965,66,0.00964040221592311},\n",
      "        Parameters{1,4,4.191053692304283,2.483976056853254,31.352544114426127,0.7260112488407435,17,0.7516674208635511,14,0.012207064273955482},\n",
      "        Parameters{1,5,14.07477043744966,1.8318773087288842,5.267173380839939,0.6302421897262339,14,0.7780352074079888,21,0.6925302469974286},\n",
      "        Parameters{2,3,9.869878450186258,1.271201664578565,36.4455977801112,0.6232497726465488,13,0.46728161720753925,15,0.005453160502932086},\n",
      "    },\n",
      "};\n"
     ]
    }
   ],
   "source": [
    "param_names = [\n",
    "    \"kErase\",\n",
    "    \"kRadius\",\n",
    "    \"kAnnealingA\",\n",
    "    \"kAnnealingB\",\n",
    "    \"kAnnealingStart\",\n",
    "    \"kSkipRatio\",\n",
    "    \"kTargetDeterminationTrials\",\n",
    "    \"kAttractionRatio\",\n",
    "    \"kMaxAttractionDistance\",\n",
    "    \"kStartAttraction\",\n",
    "]\n",
    "\n",
    "print(\"array<array<Parameters, 4>, 6>{array<Parameters, 4>{}, {},\")\n",
    "for k in range(2, 6):\n",
    "    print(\"    {\")\n",
    "    for n_class in range(4):\n",
    "        p = studies[k][n_class].best_params\n",
    "        print(\"        Parameters{\" + \",\".join(str(p[name]) for name in param_names) + \"},\")\n",
    "    print(\"    },\")\n",
    "print(\"};\")"
   ]
  },
  {
   "cell_type": "code",
   "execution_count": 63,
   "id": "36369719",
   "metadata": {},
   "outputs": [
    {
     "data": {
      "application/vnd.plotly.v1+json": {
       "config": {
        "plotlyServerURL": "https://plot.ly"
       },
       "data": [
        {
         "mode": "markers",
         "name": "Objective Value",
         "type": "scatter",
         "x": [
          0,
          1,
          2,
          3,
          4,
          5,
          6,
          7,
          8,
          9,
          10,
          11,
          12,
          13,
          14,
          15,
          16,
          17,
          18,
          19,
          20,
          21,
          22,
          23,
          24,
          25,
          26,
          27,
          28,
          29,
          30,
          31,
          32,
          33,
          34,
          35,
          36,
          37,
          38,
          39,
          40,
          41,
          42,
          43,
          44,
          45,
          46,
          47,
          48,
          49,
          50,
          51,
          52,
          53,
          54,
          55,
          56,
          57,
          58,
          59,
          60,
          61,
          62,
          63,
          64,
          65,
          66,
          67,
          68,
          69,
          70,
          71,
          72,
          73,
          74,
          75,
          76,
          77,
          78,
          79,
          80,
          81,
          82,
          83,
          84,
          85,
          86,
          87,
          88,
          89,
          90,
          91,
          92,
          93,
          94,
          95,
          96,
          97,
          98,
          99,
          100,
          101,
          102,
          103,
          104,
          105,
          106,
          107,
          108,
          109,
          110,
          111,
          112,
          113,
          114,
          115,
          116,
          117,
          118,
          119,
          120,
          121,
          122,
          123,
          124,
          125,
          126,
          127,
          128,
          129,
          130,
          131,
          132,
          133,
          134,
          135,
          136,
          137,
          138,
          139,
          140,
          141,
          142,
          143,
          144,
          145,
          146,
          147,
          148,
          149,
          150,
          151,
          152,
          153,
          154,
          155,
          156,
          157,
          158,
          159,
          160,
          161,
          162,
          163,
          164,
          165,
          166,
          167,
          168,
          169,
          170,
          171,
          172,
          173,
          174,
          175,
          176,
          177,
          178,
          179,
          180,
          181,
          182,
          183,
          184,
          185,
          186,
          187,
          188,
          189,
          190,
          191,
          192,
          193,
          194,
          195,
          196,
          197,
          198,
          199,
          200,
          201,
          202,
          203,
          204,
          205,
          206,
          207,
          208,
          209,
          210,
          211,
          212,
          213,
          214,
          215,
          216,
          217,
          218,
          219,
          220,
          221,
          222,
          223,
          224,
          225,
          226,
          227,
          228,
          229,
          230,
          231,
          232,
          233,
          234,
          235,
          236,
          237,
          238,
          239,
          240,
          241,
          242,
          243,
          244,
          245,
          246,
          247,
          248,
          249,
          250,
          251,
          252,
          253,
          254,
          255,
          256,
          257,
          258,
          259,
          260,
          261,
          262,
          263,
          264,
          265,
          266,
          267,
          268,
          269,
          270,
          271,
          272,
          273,
          274,
          275,
          276,
          277,
          278,
          279,
          280,
          281,
          282,
          283,
          284,
          285,
          286,
          287,
          288,
          289,
          290,
          291
         ],
         "y": [
          6371.515,
          6404.74,
          6490.365,
          6538.23,
          6384.26,
          5328.375,
          6736.275,
          6425.23,
          6375.78,
          6631.885,
          6180.65,
          6670.875,
          6768.085,
          5413.39,
          6568.76,
          6741.5,
          6527.92,
          6523.695,
          6357.41,
          5455.465,
          6528.175,
          6695.025,
          6743.52,
          6416.79,
          6481.485,
          6497.795,
          6625.38,
          6724.11,
          6619.44,
          6414.825,
          6307.27,
          6762.905,
          6757.78,
          6773.03,
          6260.61,
          6163.23,
          6772.42,
          6340.84,
          6633.84,
          6743.655,
          5845.62,
          6741.055,
          6737.285,
          5620.025,
          6774.61,
          6743.58,
          6228.67,
          6609.69,
          6015.055,
          6840.88,
          6706.695,
          6673.83,
          6703.045,
          6809.875,
          6654.475,
          6799.895,
          6780.565,
          6770.26,
          6238.975,
          6530.865,
          6785.22,
          6801.83,
          6749.34,
          6752.525,
          6632.46,
          6505.735,
          6756.93,
          6778.93,
          6783.57,
          6748.28,
          6589.595,
          6755.085,
          6793.04,
          6739.015,
          6706.26,
          6702.105,
          6711.2,
          6740.69,
          6665.835,
          6783.7,
          6765.785,
          6806.415,
          6725.705,
          6801.765,
          6688.915,
          5976.495,
          6775.18,
          6642.32,
          6736.405,
          6752.8,
          6749.7,
          6760.27,
          6736.425,
          6821.955,
          6809.95,
          6840,
          6555.815,
          6729.545,
          6815.65,
          6812.15,
          6810.19,
          6763.775,
          6767.695,
          6789.82,
          6789.095,
          6788.125,
          6669.395,
          6375.385,
          6707.385,
          6764.6,
          6750.325,
          6812.83,
          6789.3,
          6721.29,
          6858.58,
          6141.24,
          6838.87,
          6791.86,
          5504.02,
          6771.535,
          6775.24,
          6723.28,
          6821.27,
          6877.61,
          6845.34,
          6811.495,
          6571.175,
          6691.5,
          6801.845,
          6615.42,
          6824.53,
          6819.065,
          6812.285,
          6841.68,
          6900.82,
          6877.37,
          6864.285,
          6881.525,
          6820.125,
          6835.395,
          6852.925,
          6808.07,
          6843.96,
          6856.205,
          6984.345,
          6946.59,
          6959.385,
          6956.725,
          6914.95,
          6933.43,
          6949.725,
          6910.8,
          6952.085,
          6925.67,
          6935.34,
          6928.765,
          6931.92,
          6946.475,
          6909.21,
          6913.685,
          6928.6,
          6925.975,
          6945.39,
          6942.535,
          6910.995,
          6923.235,
          6958.885,
          6915.445,
          6864.375,
          6931.795,
          6940.65,
          6941.955,
          6916.015,
          6894.78,
          6936.77,
          6939.21,
          6935.38,
          6916.375,
          6928.595,
          6915.15,
          6911.865,
          6931.42,
          6942.015,
          6928.24,
          6916.975,
          6871.505,
          6937.98,
          6917.36,
          6929.93,
          6926.685,
          6918.32,
          6930.955,
          6866.31,
          6920.555,
          6919.83,
          6935.135,
          6842.665,
          6856.255,
          6913.66,
          6943.545,
          6925.325,
          6920.755,
          6940.595,
          6948.88,
          6928.545,
          6942.055,
          6867.97,
          6944.065,
          6947.165,
          6948.015,
          6942.31,
          6960.62,
          6898.05,
          6934.845,
          6900.77,
          6885.1,
          6952.795,
          6949.765,
          6932.72,
          6919.655,
          6932.585,
          6892.38,
          6928.355,
          6948.25,
          6820.97,
          6954.625,
          6957.34,
          6935.645,
          6952.985,
          6957.215,
          5518.115,
          6965.045,
          6945.215,
          6943.86,
          6942.705,
          6928.96,
          6923.8,
          6938.175,
          6945.815,
          6362.115,
          6970.455,
          6448.44,
          6962.375,
          6932.875,
          6919.85,
          6915.915,
          6923.705,
          6950.125,
          6915.865,
          6814.505,
          6931.615,
          6956.825,
          6941.15,
          6944.455,
          6928.455,
          6935.38,
          6968.02,
          6943.435,
          6927.395,
          6908.76,
          6944.475,
          6950.815,
          6878.51,
          6914.075,
          6939.775,
          6920.695,
          6910.6,
          6948.775,
          6943.89,
          6937.465,
          6924.535,
          6935.42,
          6954.05,
          6958.215,
          6908.885,
          6849,
          6924.325,
          6938.565,
          6932.245,
          6959.275,
          6949.37,
          6873.705,
          6905.515,
          6929.05,
          6958.905,
          6484.35,
          6902.285,
          6938.58,
          6901.69,
          6944.85,
          6894.77,
          6945.355
         ]
        },
        {
         "name": "Best Value",
         "type": "scatter",
         "x": [
          0,
          1,
          2,
          3,
          4,
          5,
          6,
          7,
          8,
          9,
          10,
          11,
          12,
          13,
          14,
          15,
          16,
          17,
          18,
          19,
          20,
          21,
          22,
          23,
          24,
          25,
          26,
          27,
          28,
          29,
          30,
          31,
          32,
          33,
          34,
          35,
          36,
          37,
          38,
          39,
          40,
          41,
          42,
          43,
          44,
          45,
          46,
          47,
          48,
          49,
          50,
          51,
          52,
          53,
          54,
          55,
          56,
          57,
          58,
          59,
          60,
          61,
          62,
          63,
          64,
          65,
          66,
          67,
          68,
          69,
          70,
          71,
          72,
          73,
          74,
          75,
          76,
          77,
          78,
          79,
          80,
          81,
          82,
          83,
          84,
          85,
          86,
          87,
          88,
          89,
          90,
          91,
          92,
          93,
          94,
          95,
          96,
          97,
          98,
          99,
          100,
          101,
          102,
          103,
          104,
          105,
          106,
          107,
          108,
          109,
          110,
          111,
          112,
          113,
          114,
          115,
          116,
          117,
          118,
          119,
          120,
          121,
          122,
          123,
          124,
          125,
          126,
          127,
          128,
          129,
          130,
          131,
          132,
          133,
          134,
          135,
          136,
          137,
          138,
          139,
          140,
          141,
          142,
          143,
          144,
          145,
          146,
          147,
          148,
          149,
          150,
          151,
          152,
          153,
          154,
          155,
          156,
          157,
          158,
          159,
          160,
          161,
          162,
          163,
          164,
          165,
          166,
          167,
          168,
          169,
          170,
          171,
          172,
          173,
          174,
          175,
          176,
          177,
          178,
          179,
          180,
          181,
          182,
          183,
          184,
          185,
          186,
          187,
          188,
          189,
          190,
          191,
          192,
          193,
          194,
          195,
          196,
          197,
          198,
          199,
          200,
          201,
          202,
          203,
          204,
          205,
          206,
          207,
          208,
          209,
          210,
          211,
          212,
          213,
          214,
          215,
          216,
          217,
          218,
          219,
          220,
          221,
          222,
          223,
          224,
          225,
          226,
          227,
          228,
          229,
          230,
          231,
          232,
          233,
          234,
          235,
          236,
          237,
          238,
          239,
          240,
          241,
          242,
          243,
          244,
          245,
          246,
          247,
          248,
          249,
          250,
          251,
          252,
          253,
          254,
          255,
          256,
          257,
          258,
          259,
          260,
          261,
          262,
          263,
          264,
          265,
          266,
          267,
          268,
          269,
          270,
          271,
          272,
          273,
          274,
          275,
          276,
          277,
          278,
          279,
          280,
          281,
          282,
          283,
          284,
          285,
          286,
          287,
          288,
          289,
          290,
          291
         ],
         "y": [
          6371.515,
          6404.74,
          6490.365,
          6538.23,
          6538.23,
          6538.23,
          6736.275,
          6736.275,
          6736.275,
          6736.275,
          6736.275,
          6736.275,
          6768.085,
          6768.085,
          6768.085,
          6768.085,
          6768.085,
          6768.085,
          6768.085,
          6768.085,
          6768.085,
          6768.085,
          6768.085,
          6768.085,
          6768.085,
          6768.085,
          6768.085,
          6768.085,
          6768.085,
          6768.085,
          6768.085,
          6768.085,
          6768.085,
          6773.03,
          6773.03,
          6773.03,
          6773.03,
          6773.03,
          6773.03,
          6773.03,
          6773.03,
          6773.03,
          6773.03,
          6773.03,
          6774.61,
          6774.61,
          6774.61,
          6774.61,
          6774.61,
          6840.88,
          6840.88,
          6840.88,
          6840.88,
          6840.88,
          6840.88,
          6840.88,
          6840.88,
          6840.88,
          6840.88,
          6840.88,
          6840.88,
          6840.88,
          6840.88,
          6840.88,
          6840.88,
          6840.88,
          6840.88,
          6840.88,
          6840.88,
          6840.88,
          6840.88,
          6840.88,
          6840.88,
          6840.88,
          6840.88,
          6840.88,
          6840.88,
          6840.88,
          6840.88,
          6840.88,
          6840.88,
          6840.88,
          6840.88,
          6840.88,
          6840.88,
          6840.88,
          6840.88,
          6840.88,
          6840.88,
          6840.88,
          6840.88,
          6840.88,
          6840.88,
          6840.88,
          6840.88,
          6840.88,
          6840.88,
          6840.88,
          6840.88,
          6840.88,
          6840.88,
          6840.88,
          6840.88,
          6840.88,
          6840.88,
          6840.88,
          6840.88,
          6840.88,
          6840.88,
          6840.88,
          6840.88,
          6840.88,
          6840.88,
          6840.88,
          6858.58,
          6858.58,
          6858.58,
          6858.58,
          6858.58,
          6858.58,
          6858.58,
          6858.58,
          6858.58,
          6877.61,
          6877.61,
          6877.61,
          6877.61,
          6877.61,
          6877.61,
          6877.61,
          6877.61,
          6877.61,
          6877.61,
          6877.61,
          6900.82,
          6900.82,
          6900.82,
          6900.82,
          6900.82,
          6900.82,
          6900.82,
          6900.82,
          6900.82,
          6900.82,
          6984.345,
          6984.345,
          6984.345,
          6984.345,
          6984.345,
          6984.345,
          6984.345,
          6984.345,
          6984.345,
          6984.345,
          6984.345,
          6984.345,
          6984.345,
          6984.345,
          6984.345,
          6984.345,
          6984.345,
          6984.345,
          6984.345,
          6984.345,
          6984.345,
          6984.345,
          6984.345,
          6984.345,
          6984.345,
          6984.345,
          6984.345,
          6984.345,
          6984.345,
          6984.345,
          6984.345,
          6984.345,
          6984.345,
          6984.345,
          6984.345,
          6984.345,
          6984.345,
          6984.345,
          6984.345,
          6984.345,
          6984.345,
          6984.345,
          6984.345,
          6984.345,
          6984.345,
          6984.345,
          6984.345,
          6984.345,
          6984.345,
          6984.345,
          6984.345,
          6984.345,
          6984.345,
          6984.345,
          6984.345,
          6984.345,
          6984.345,
          6984.345,
          6984.345,
          6984.345,
          6984.345,
          6984.345,
          6984.345,
          6984.345,
          6984.345,
          6984.345,
          6984.345,
          6984.345,
          6984.345,
          6984.345,
          6984.345,
          6984.345,
          6984.345,
          6984.345,
          6984.345,
          6984.345,
          6984.345,
          6984.345,
          6984.345,
          6984.345,
          6984.345,
          6984.345,
          6984.345,
          6984.345,
          6984.345,
          6984.345,
          6984.345,
          6984.345,
          6984.345,
          6984.345,
          6984.345,
          6984.345,
          6984.345,
          6984.345,
          6984.345,
          6984.345,
          6984.345,
          6984.345,
          6984.345,
          6984.345,
          6984.345,
          6984.345,
          6984.345,
          6984.345,
          6984.345,
          6984.345,
          6984.345,
          6984.345,
          6984.345,
          6984.345,
          6984.345,
          6984.345,
          6984.345,
          6984.345,
          6984.345,
          6984.345,
          6984.345,
          6984.345,
          6984.345,
          6984.345,
          6984.345,
          6984.345,
          6984.345,
          6984.345,
          6984.345,
          6984.345,
          6984.345,
          6984.345,
          6984.345,
          6984.345,
          6984.345,
          6984.345,
          6984.345,
          6984.345,
          6984.345,
          6984.345,
          6984.345,
          6984.345,
          6984.345,
          6984.345,
          6984.345,
          6984.345,
          6984.345,
          6984.345,
          6984.345,
          6984.345,
          6984.345,
          6984.345
         ]
        }
       ],
       "layout": {
        "template": {
         "data": {
          "bar": [
           {
            "error_x": {
             "color": "#2a3f5f"
            },
            "error_y": {
             "color": "#2a3f5f"
            },
            "marker": {
             "line": {
              "color": "#E5ECF6",
              "width": 0.5
             },
             "pattern": {
              "fillmode": "overlay",
              "size": 10,
              "solidity": 0.2
             }
            },
            "type": "bar"
           }
          ],
          "barpolar": [
           {
            "marker": {
             "line": {
              "color": "#E5ECF6",
              "width": 0.5
             },
             "pattern": {
              "fillmode": "overlay",
              "size": 10,
              "solidity": 0.2
             }
            },
            "type": "barpolar"
           }
          ],
          "carpet": [
           {
            "aaxis": {
             "endlinecolor": "#2a3f5f",
             "gridcolor": "white",
             "linecolor": "white",
             "minorgridcolor": "white",
             "startlinecolor": "#2a3f5f"
            },
            "baxis": {
             "endlinecolor": "#2a3f5f",
             "gridcolor": "white",
             "linecolor": "white",
             "minorgridcolor": "white",
             "startlinecolor": "#2a3f5f"
            },
            "type": "carpet"
           }
          ],
          "choropleth": [
           {
            "colorbar": {
             "outlinewidth": 0,
             "ticks": ""
            },
            "type": "choropleth"
           }
          ],
          "contour": [
           {
            "colorbar": {
             "outlinewidth": 0,
             "ticks": ""
            },
            "colorscale": [
             [
              0,
              "#0d0887"
             ],
             [
              0.1111111111111111,
              "#46039f"
             ],
             [
              0.2222222222222222,
              "#7201a8"
             ],
             [
              0.3333333333333333,
              "#9c179e"
             ],
             [
              0.4444444444444444,
              "#bd3786"
             ],
             [
              0.5555555555555556,
              "#d8576b"
             ],
             [
              0.6666666666666666,
              "#ed7953"
             ],
             [
              0.7777777777777778,
              "#fb9f3a"
             ],
             [
              0.8888888888888888,
              "#fdca26"
             ],
             [
              1,
              "#f0f921"
             ]
            ],
            "type": "contour"
           }
          ],
          "contourcarpet": [
           {
            "colorbar": {
             "outlinewidth": 0,
             "ticks": ""
            },
            "type": "contourcarpet"
           }
          ],
          "heatmap": [
           {
            "colorbar": {
             "outlinewidth": 0,
             "ticks": ""
            },
            "colorscale": [
             [
              0,
              "#0d0887"
             ],
             [
              0.1111111111111111,
              "#46039f"
             ],
             [
              0.2222222222222222,
              "#7201a8"
             ],
             [
              0.3333333333333333,
              "#9c179e"
             ],
             [
              0.4444444444444444,
              "#bd3786"
             ],
             [
              0.5555555555555556,
              "#d8576b"
             ],
             [
              0.6666666666666666,
              "#ed7953"
             ],
             [
              0.7777777777777778,
              "#fb9f3a"
             ],
             [
              0.8888888888888888,
              "#fdca26"
             ],
             [
              1,
              "#f0f921"
             ]
            ],
            "type": "heatmap"
           }
          ],
          "heatmapgl": [
           {
            "colorbar": {
             "outlinewidth": 0,
             "ticks": ""
            },
            "colorscale": [
             [
              0,
              "#0d0887"
             ],
             [
              0.1111111111111111,
              "#46039f"
             ],
             [
              0.2222222222222222,
              "#7201a8"
             ],
             [
              0.3333333333333333,
              "#9c179e"
             ],
             [
              0.4444444444444444,
              "#bd3786"
             ],
             [
              0.5555555555555556,
              "#d8576b"
             ],
             [
              0.6666666666666666,
              "#ed7953"
             ],
             [
              0.7777777777777778,
              "#fb9f3a"
             ],
             [
              0.8888888888888888,
              "#fdca26"
             ],
             [
              1,
              "#f0f921"
             ]
            ],
            "type": "heatmapgl"
           }
          ],
          "histogram": [
           {
            "marker": {
             "pattern": {
              "fillmode": "overlay",
              "size": 10,
              "solidity": 0.2
             }
            },
            "type": "histogram"
           }
          ],
          "histogram2d": [
           {
            "colorbar": {
             "outlinewidth": 0,
             "ticks": ""
            },
            "colorscale": [
             [
              0,
              "#0d0887"
             ],
             [
              0.1111111111111111,
              "#46039f"
             ],
             [
              0.2222222222222222,
              "#7201a8"
             ],
             [
              0.3333333333333333,
              "#9c179e"
             ],
             [
              0.4444444444444444,
              "#bd3786"
             ],
             [
              0.5555555555555556,
              "#d8576b"
             ],
             [
              0.6666666666666666,
              "#ed7953"
             ],
             [
              0.7777777777777778,
              "#fb9f3a"
             ],
             [
              0.8888888888888888,
              "#fdca26"
             ],
             [
              1,
              "#f0f921"
             ]
            ],
            "type": "histogram2d"
           }
          ],
          "histogram2dcontour": [
           {
            "colorbar": {
             "outlinewidth": 0,
             "ticks": ""
            },
            "colorscale": [
             [
              0,
              "#0d0887"
             ],
             [
              0.1111111111111111,
              "#46039f"
             ],
             [
              0.2222222222222222,
              "#7201a8"
             ],
             [
              0.3333333333333333,
              "#9c179e"
             ],
             [
              0.4444444444444444,
              "#bd3786"
             ],
             [
              0.5555555555555556,
              "#d8576b"
             ],
             [
              0.6666666666666666,
              "#ed7953"
             ],
             [
              0.7777777777777778,
              "#fb9f3a"
             ],
             [
              0.8888888888888888,
              "#fdca26"
             ],
             [
              1,
              "#f0f921"
             ]
            ],
            "type": "histogram2dcontour"
           }
          ],
          "mesh3d": [
           {
            "colorbar": {
             "outlinewidth": 0,
             "ticks": ""
            },
            "type": "mesh3d"
           }
          ],
          "parcoords": [
           {
            "line": {
             "colorbar": {
              "outlinewidth": 0,
              "ticks": ""
             }
            },
            "type": "parcoords"
           }
          ],
          "pie": [
           {
            "automargin": true,
            "type": "pie"
           }
          ],
          "scatter": [
           {
            "marker": {
             "colorbar": {
              "outlinewidth": 0,
              "ticks": ""
             }
            },
            "type": "scatter"
           }
          ],
          "scatter3d": [
           {
            "line": {
             "colorbar": {
              "outlinewidth": 0,
              "ticks": ""
             }
            },
            "marker": {
             "colorbar": {
              "outlinewidth": 0,
              "ticks": ""
             }
            },
            "type": "scatter3d"
           }
          ],
          "scattercarpet": [
           {
            "marker": {
             "colorbar": {
              "outlinewidth": 0,
              "ticks": ""
             }
            },
            "type": "scattercarpet"
           }
          ],
          "scattergeo": [
           {
            "marker": {
             "colorbar": {
              "outlinewidth": 0,
              "ticks": ""
             }
            },
            "type": "scattergeo"
           }
          ],
          "scattergl": [
           {
            "marker": {
             "colorbar": {
              "outlinewidth": 0,
              "ticks": ""
             }
            },
            "type": "scattergl"
           }
          ],
          "scattermapbox": [
           {
            "marker": {
             "colorbar": {
              "outlinewidth": 0,
              "ticks": ""
             }
            },
            "type": "scattermapbox"
           }
          ],
          "scatterpolar": [
           {
            "marker": {
             "colorbar": {
              "outlinewidth": 0,
              "ticks": ""
             }
            },
            "type": "scatterpolar"
           }
          ],
          "scatterpolargl": [
           {
            "marker": {
             "colorbar": {
              "outlinewidth": 0,
              "ticks": ""
             }
            },
            "type": "scatterpolargl"
           }
          ],
          "scatterternary": [
           {
            "marker": {
             "colorbar": {
              "outlinewidth": 0,
              "ticks": ""
             }
            },
            "type": "scatterternary"
           }
          ],
          "surface": [
           {
            "colorbar": {
             "outlinewidth": 0,
             "ticks": ""
            },
            "colorscale": [
             [
              0,
              "#0d0887"
             ],
             [
              0.1111111111111111,
              "#46039f"
             ],
             [
              0.2222222222222222,
              "#7201a8"
             ],
             [
              0.3333333333333333,
              "#9c179e"
             ],
             [
              0.4444444444444444,
              "#bd3786"
             ],
             [
              0.5555555555555556,
              "#d8576b"
             ],
             [
              0.6666666666666666,
              "#ed7953"
             ],
             [
              0.7777777777777778,
              "#fb9f3a"
             ],
             [
              0.8888888888888888,
              "#fdca26"
             ],
             [
              1,
              "#f0f921"
             ]
            ],
            "type": "surface"
           }
          ],
          "table": [
           {
            "cells": {
             "fill": {
              "color": "#EBF0F8"
             },
             "line": {
              "color": "white"
             }
            },
            "header": {
             "fill": {
              "color": "#C8D4E3"
             },
             "line": {
              "color": "white"
             }
            },
            "type": "table"
           }
          ]
         },
         "layout": {
          "annotationdefaults": {
           "arrowcolor": "#2a3f5f",
           "arrowhead": 0,
           "arrowwidth": 1
          },
          "autotypenumbers": "strict",
          "coloraxis": {
           "colorbar": {
            "outlinewidth": 0,
            "ticks": ""
           }
          },
          "colorscale": {
           "diverging": [
            [
             0,
             "#8e0152"
            ],
            [
             0.1,
             "#c51b7d"
            ],
            [
             0.2,
             "#de77ae"
            ],
            [
             0.3,
             "#f1b6da"
            ],
            [
             0.4,
             "#fde0ef"
            ],
            [
             0.5,
             "#f7f7f7"
            ],
            [
             0.6,
             "#e6f5d0"
            ],
            [
             0.7,
             "#b8e186"
            ],
            [
             0.8,
             "#7fbc41"
            ],
            [
             0.9,
             "#4d9221"
            ],
            [
             1,
             "#276419"
            ]
           ],
           "sequential": [
            [
             0,
             "#0d0887"
            ],
            [
             0.1111111111111111,
             "#46039f"
            ],
            [
             0.2222222222222222,
             "#7201a8"
            ],
            [
             0.3333333333333333,
             "#9c179e"
            ],
            [
             0.4444444444444444,
             "#bd3786"
            ],
            [
             0.5555555555555556,
             "#d8576b"
            ],
            [
             0.6666666666666666,
             "#ed7953"
            ],
            [
             0.7777777777777778,
             "#fb9f3a"
            ],
            [
             0.8888888888888888,
             "#fdca26"
            ],
            [
             1,
             "#f0f921"
            ]
           ],
           "sequentialminus": [
            [
             0,
             "#0d0887"
            ],
            [
             0.1111111111111111,
             "#46039f"
            ],
            [
             0.2222222222222222,
             "#7201a8"
            ],
            [
             0.3333333333333333,
             "#9c179e"
            ],
            [
             0.4444444444444444,
             "#bd3786"
            ],
            [
             0.5555555555555556,
             "#d8576b"
            ],
            [
             0.6666666666666666,
             "#ed7953"
            ],
            [
             0.7777777777777778,
             "#fb9f3a"
            ],
            [
             0.8888888888888888,
             "#fdca26"
            ],
            [
             1,
             "#f0f921"
            ]
           ]
          },
          "colorway": [
           "#636efa",
           "#EF553B",
           "#00cc96",
           "#ab63fa",
           "#FFA15A",
           "#19d3f3",
           "#FF6692",
           "#B6E880",
           "#FF97FF",
           "#FECB52"
          ],
          "font": {
           "color": "#2a3f5f"
          },
          "geo": {
           "bgcolor": "white",
           "lakecolor": "white",
           "landcolor": "#E5ECF6",
           "showlakes": true,
           "showland": true,
           "subunitcolor": "white"
          },
          "hoverlabel": {
           "align": "left"
          },
          "hovermode": "closest",
          "mapbox": {
           "style": "light"
          },
          "paper_bgcolor": "white",
          "plot_bgcolor": "#E5ECF6",
          "polar": {
           "angularaxis": {
            "gridcolor": "white",
            "linecolor": "white",
            "ticks": ""
           },
           "bgcolor": "#E5ECF6",
           "radialaxis": {
            "gridcolor": "white",
            "linecolor": "white",
            "ticks": ""
           }
          },
          "scene": {
           "xaxis": {
            "backgroundcolor": "#E5ECF6",
            "gridcolor": "white",
            "gridwidth": 2,
            "linecolor": "white",
            "showbackground": true,
            "ticks": "",
            "zerolinecolor": "white"
           },
           "yaxis": {
            "backgroundcolor": "#E5ECF6",
            "gridcolor": "white",
            "gridwidth": 2,
            "linecolor": "white",
            "showbackground": true,
            "ticks": "",
            "zerolinecolor": "white"
           },
           "zaxis": {
            "backgroundcolor": "#E5ECF6",
            "gridcolor": "white",
            "gridwidth": 2,
            "linecolor": "white",
            "showbackground": true,
            "ticks": "",
            "zerolinecolor": "white"
           }
          },
          "shapedefaults": {
           "line": {
            "color": "#2a3f5f"
           }
          },
          "ternary": {
           "aaxis": {
            "gridcolor": "white",
            "linecolor": "white",
            "ticks": ""
           },
           "baxis": {
            "gridcolor": "white",
            "linecolor": "white",
            "ticks": ""
           },
           "bgcolor": "#E5ECF6",
           "caxis": {
            "gridcolor": "white",
            "linecolor": "white",
            "ticks": ""
           }
          },
          "title": {
           "x": 0.05
          },
          "xaxis": {
           "automargin": true,
           "gridcolor": "white",
           "linecolor": "white",
           "ticks": "",
           "title": {
            "standoff": 15
           },
           "zerolinecolor": "white",
           "zerolinewidth": 2
          },
          "yaxis": {
           "automargin": true,
           "gridcolor": "white",
           "linecolor": "white",
           "ticks": "",
           "title": {
            "standoff": 15
           },
           "zerolinecolor": "white",
           "zerolinewidth": 2
          }
         }
        },
        "title": {
         "text": "Optimization History Plot"
        },
        "xaxis": {
         "title": {
          "text": "#Trials"
         }
        },
        "yaxis": {
         "title": {
          "text": "Objective Value"
         }
        }
       }
      },
      "text/html": [
       "<div>                            <div id=\"17b65d5a-8fbe-40b7-bb47-97f5d1abcfdd\" class=\"plotly-graph-div\" style=\"height:525px; width:100%;\"></div>            <script type=\"text/javascript\">                require([\"plotly\"], function(Plotly) {                    window.PLOTLYENV=window.PLOTLYENV || {};                                    if (document.getElementById(\"17b65d5a-8fbe-40b7-bb47-97f5d1abcfdd\")) {                    Plotly.newPlot(                        \"17b65d5a-8fbe-40b7-bb47-97f5d1abcfdd\",                        [{\"mode\":\"markers\",\"name\":\"Objective Value\",\"x\":[0,1,2,3,4,5,6,7,8,9,10,11,12,13,14,15,16,17,18,19,20,21,22,23,24,25,26,27,28,29,30,31,32,33,34,35,36,37,38,39,40,41,42,43,44,45,46,47,48,49,50,51,52,53,54,55,56,57,58,59,60,61,62,63,64,65,66,67,68,69,70,71,72,73,74,75,76,77,78,79,80,81,82,83,84,85,86,87,88,89,90,91,92,93,94,95,96,97,98,99,100,101,102,103,104,105,106,107,108,109,110,111,112,113,114,115,116,117,118,119,120,121,122,123,124,125,126,127,128,129,130,131,132,133,134,135,136,137,138,139,140,141,142,143,144,145,146,147,148,149,150,151,152,153,154,155,156,157,158,159,160,161,162,163,164,165,166,167,168,169,170,171,172,173,174,175,176,177,178,179,180,181,182,183,184,185,186,187,188,189,190,191,192,193,194,195,196,197,198,199,200,201,202,203,204,205,206,207,208,209,210,211,212,213,214,215,216,217,218,219,220,221,222,223,224,225,226,227,228,229,230,231,232,233,234,235,236,237,238,239,240,241,242,243,244,245,246,247,248,249,250,251,252,253,254,255,256,257,258,259,260,261,262,263,264,265,266,267,268,269,270,271,272,273,274,275,276,277,278,279,280,281,282,283,284,285,286,287,288,289,290,291],\"y\":[6371.515,6404.74,6490.365,6538.23,6384.26,5328.375,6736.275,6425.23,6375.78,6631.885,6180.65,6670.875,6768.085,5413.39,6568.76,6741.5,6527.92,6523.695,6357.41,5455.465,6528.175,6695.025,6743.52,6416.79,6481.485,6497.795,6625.38,6724.11,6619.44,6414.825,6307.27,6762.905,6757.78,6773.03,6260.61,6163.23,6772.42,6340.84,6633.84,6743.655,5845.62,6741.055,6737.285,5620.025,6774.61,6743.58,6228.67,6609.69,6015.055,6840.88,6706.695,6673.83,6703.045,6809.875,6654.475,6799.895,6780.565,6770.26,6238.975,6530.865,6785.22,6801.83,6749.34,6752.525,6632.46,6505.735,6756.93,6778.93,6783.57,6748.28,6589.595,6755.085,6793.04,6739.015,6706.26,6702.105,6711.2,6740.69,6665.835,6783.7,6765.785,6806.415,6725.705,6801.765,6688.915,5976.495,6775.18,6642.32,6736.405,6752.8,6749.7,6760.27,6736.425,6821.955,6809.95,6840.0,6555.815,6729.545,6815.65,6812.15,6810.19,6763.775,6767.695,6789.82,6789.095,6788.125,6669.395,6375.385,6707.385,6764.6,6750.325,6812.83,6789.3,6721.29,6858.58,6141.24,6838.87,6791.86,5504.02,6771.535,6775.24,6723.28,6821.27,6877.61,6845.34,6811.495,6571.175,6691.5,6801.845,6615.42,6824.53,6819.065,6812.285,6841.68,6900.82,6877.37,6864.285,6881.525,6820.125,6835.395,6852.925,6808.07,6843.96,6856.205,6984.345,6946.59,6959.385,6956.725,6914.95,6933.43,6949.725,6910.8,6952.085,6925.67,6935.34,6928.765,6931.92,6946.475,6909.21,6913.685,6928.6,6925.975,6945.39,6942.535,6910.995,6923.235,6958.885,6915.445,6864.375,6931.795,6940.65,6941.955,6916.015,6894.78,6936.77,6939.21,6935.38,6916.375,6928.595,6915.15,6911.865,6931.42,6942.015,6928.24,6916.975,6871.505,6937.98,6917.36,6929.93,6926.685,6918.32,6930.955,6866.31,6920.555,6919.83,6935.135,6842.665,6856.255,6913.66,6943.545,6925.325,6920.755,6940.595,6948.88,6928.545,6942.055,6867.97,6944.065,6947.165,6948.015,6942.31,6960.62,6898.05,6934.845,6900.77,6885.1,6952.795,6949.765,6932.72,6919.655,6932.585,6892.38,6928.355,6948.25,6820.97,6954.625,6957.34,6935.645,6952.985,6957.215,5518.115,6965.045,6945.215,6943.86,6942.705,6928.96,6923.8,6938.175,6945.815,6362.115,6970.455,6448.44,6962.375,6932.875,6919.85,6915.915,6923.705,6950.125,6915.865,6814.505,6931.615,6956.825,6941.15,6944.455,6928.455,6935.38,6968.02,6943.435,6927.395,6908.76,6944.475,6950.815,6878.51,6914.075,6939.775,6920.695,6910.6,6948.775,6943.89,6937.465,6924.535,6935.42,6954.05,6958.215,6908.885,6849.0,6924.325,6938.565,6932.245,6959.275,6949.37,6873.705,6905.515,6929.05,6958.905,6484.35,6902.285,6938.58,6901.69,6944.85,6894.77,6945.355],\"type\":\"scatter\"},{\"name\":\"Best Value\",\"x\":[0,1,2,3,4,5,6,7,8,9,10,11,12,13,14,15,16,17,18,19,20,21,22,23,24,25,26,27,28,29,30,31,32,33,34,35,36,37,38,39,40,41,42,43,44,45,46,47,48,49,50,51,52,53,54,55,56,57,58,59,60,61,62,63,64,65,66,67,68,69,70,71,72,73,74,75,76,77,78,79,80,81,82,83,84,85,86,87,88,89,90,91,92,93,94,95,96,97,98,99,100,101,102,103,104,105,106,107,108,109,110,111,112,113,114,115,116,117,118,119,120,121,122,123,124,125,126,127,128,129,130,131,132,133,134,135,136,137,138,139,140,141,142,143,144,145,146,147,148,149,150,151,152,153,154,155,156,157,158,159,160,161,162,163,164,165,166,167,168,169,170,171,172,173,174,175,176,177,178,179,180,181,182,183,184,185,186,187,188,189,190,191,192,193,194,195,196,197,198,199,200,201,202,203,204,205,206,207,208,209,210,211,212,213,214,215,216,217,218,219,220,221,222,223,224,225,226,227,228,229,230,231,232,233,234,235,236,237,238,239,240,241,242,243,244,245,246,247,248,249,250,251,252,253,254,255,256,257,258,259,260,261,262,263,264,265,266,267,268,269,270,271,272,273,274,275,276,277,278,279,280,281,282,283,284,285,286,287,288,289,290,291],\"y\":[6371.515,6404.74,6490.365,6538.23,6538.23,6538.23,6736.275,6736.275,6736.275,6736.275,6736.275,6736.275,6768.085,6768.085,6768.085,6768.085,6768.085,6768.085,6768.085,6768.085,6768.085,6768.085,6768.085,6768.085,6768.085,6768.085,6768.085,6768.085,6768.085,6768.085,6768.085,6768.085,6768.085,6773.03,6773.03,6773.03,6773.03,6773.03,6773.03,6773.03,6773.03,6773.03,6773.03,6773.03,6774.61,6774.61,6774.61,6774.61,6774.61,6840.88,6840.88,6840.88,6840.88,6840.88,6840.88,6840.88,6840.88,6840.88,6840.88,6840.88,6840.88,6840.88,6840.88,6840.88,6840.88,6840.88,6840.88,6840.88,6840.88,6840.88,6840.88,6840.88,6840.88,6840.88,6840.88,6840.88,6840.88,6840.88,6840.88,6840.88,6840.88,6840.88,6840.88,6840.88,6840.88,6840.88,6840.88,6840.88,6840.88,6840.88,6840.88,6840.88,6840.88,6840.88,6840.88,6840.88,6840.88,6840.88,6840.88,6840.88,6840.88,6840.88,6840.88,6840.88,6840.88,6840.88,6840.88,6840.88,6840.88,6840.88,6840.88,6840.88,6840.88,6840.88,6858.58,6858.58,6858.58,6858.58,6858.58,6858.58,6858.58,6858.58,6858.58,6877.61,6877.61,6877.61,6877.61,6877.61,6877.61,6877.61,6877.61,6877.61,6877.61,6877.61,6900.82,6900.82,6900.82,6900.82,6900.82,6900.82,6900.82,6900.82,6900.82,6900.82,6984.345,6984.345,6984.345,6984.345,6984.345,6984.345,6984.345,6984.345,6984.345,6984.345,6984.345,6984.345,6984.345,6984.345,6984.345,6984.345,6984.345,6984.345,6984.345,6984.345,6984.345,6984.345,6984.345,6984.345,6984.345,6984.345,6984.345,6984.345,6984.345,6984.345,6984.345,6984.345,6984.345,6984.345,6984.345,6984.345,6984.345,6984.345,6984.345,6984.345,6984.345,6984.345,6984.345,6984.345,6984.345,6984.345,6984.345,6984.345,6984.345,6984.345,6984.345,6984.345,6984.345,6984.345,6984.345,6984.345,6984.345,6984.345,6984.345,6984.345,6984.345,6984.345,6984.345,6984.345,6984.345,6984.345,6984.345,6984.345,6984.345,6984.345,6984.345,6984.345,6984.345,6984.345,6984.345,6984.345,6984.345,6984.345,6984.345,6984.345,6984.345,6984.345,6984.345,6984.345,6984.345,6984.345,6984.345,6984.345,6984.345,6984.345,6984.345,6984.345,6984.345,6984.345,6984.345,6984.345,6984.345,6984.345,6984.345,6984.345,6984.345,6984.345,6984.345,6984.345,6984.345,6984.345,6984.345,6984.345,6984.345,6984.345,6984.345,6984.345,6984.345,6984.345,6984.345,6984.345,6984.345,6984.345,6984.345,6984.345,6984.345,6984.345,6984.345,6984.345,6984.345,6984.345,6984.345,6984.345,6984.345,6984.345,6984.345,6984.345,6984.345,6984.345,6984.345,6984.345,6984.345,6984.345,6984.345,6984.345,6984.345,6984.345,6984.345,6984.345,6984.345,6984.345,6984.345,6984.345],\"type\":\"scatter\"}],                        {\"title\":{\"text\":\"Optimization History Plot\"},\"xaxis\":{\"title\":{\"text\":\"#Trials\"}},\"yaxis\":{\"title\":{\"text\":\"Objective Value\"}},\"template\":{\"data\":{\"bar\":[{\"error_x\":{\"color\":\"#2a3f5f\"},\"error_y\":{\"color\":\"#2a3f5f\"},\"marker\":{\"line\":{\"color\":\"#E5ECF6\",\"width\":0.5},\"pattern\":{\"fillmode\":\"overlay\",\"size\":10,\"solidity\":0.2}},\"type\":\"bar\"}],\"barpolar\":[{\"marker\":{\"line\":{\"color\":\"#E5ECF6\",\"width\":0.5},\"pattern\":{\"fillmode\":\"overlay\",\"size\":10,\"solidity\":0.2}},\"type\":\"barpolar\"}],\"carpet\":[{\"aaxis\":{\"endlinecolor\":\"#2a3f5f\",\"gridcolor\":\"white\",\"linecolor\":\"white\",\"minorgridcolor\":\"white\",\"startlinecolor\":\"#2a3f5f\"},\"baxis\":{\"endlinecolor\":\"#2a3f5f\",\"gridcolor\":\"white\",\"linecolor\":\"white\",\"minorgridcolor\":\"white\",\"startlinecolor\":\"#2a3f5f\"},\"type\":\"carpet\"}],\"choropleth\":[{\"colorbar\":{\"outlinewidth\":0,\"ticks\":\"\"},\"type\":\"choropleth\"}],\"contour\":[{\"colorbar\":{\"outlinewidth\":0,\"ticks\":\"\"},\"colorscale\":[[0.0,\"#0d0887\"],[0.1111111111111111,\"#46039f\"],[0.2222222222222222,\"#7201a8\"],[0.3333333333333333,\"#9c179e\"],[0.4444444444444444,\"#bd3786\"],[0.5555555555555556,\"#d8576b\"],[0.6666666666666666,\"#ed7953\"],[0.7777777777777778,\"#fb9f3a\"],[0.8888888888888888,\"#fdca26\"],[1.0,\"#f0f921\"]],\"type\":\"contour\"}],\"contourcarpet\":[{\"colorbar\":{\"outlinewidth\":0,\"ticks\":\"\"},\"type\":\"contourcarpet\"}],\"heatmap\":[{\"colorbar\":{\"outlinewidth\":0,\"ticks\":\"\"},\"colorscale\":[[0.0,\"#0d0887\"],[0.1111111111111111,\"#46039f\"],[0.2222222222222222,\"#7201a8\"],[0.3333333333333333,\"#9c179e\"],[0.4444444444444444,\"#bd3786\"],[0.5555555555555556,\"#d8576b\"],[0.6666666666666666,\"#ed7953\"],[0.7777777777777778,\"#fb9f3a\"],[0.8888888888888888,\"#fdca26\"],[1.0,\"#f0f921\"]],\"type\":\"heatmap\"}],\"heatmapgl\":[{\"colorbar\":{\"outlinewidth\":0,\"ticks\":\"\"},\"colorscale\":[[0.0,\"#0d0887\"],[0.1111111111111111,\"#46039f\"],[0.2222222222222222,\"#7201a8\"],[0.3333333333333333,\"#9c179e\"],[0.4444444444444444,\"#bd3786\"],[0.5555555555555556,\"#d8576b\"],[0.6666666666666666,\"#ed7953\"],[0.7777777777777778,\"#fb9f3a\"],[0.8888888888888888,\"#fdca26\"],[1.0,\"#f0f921\"]],\"type\":\"heatmapgl\"}],\"histogram\":[{\"marker\":{\"pattern\":{\"fillmode\":\"overlay\",\"size\":10,\"solidity\":0.2}},\"type\":\"histogram\"}],\"histogram2d\":[{\"colorbar\":{\"outlinewidth\":0,\"ticks\":\"\"},\"colorscale\":[[0.0,\"#0d0887\"],[0.1111111111111111,\"#46039f\"],[0.2222222222222222,\"#7201a8\"],[0.3333333333333333,\"#9c179e\"],[0.4444444444444444,\"#bd3786\"],[0.5555555555555556,\"#d8576b\"],[0.6666666666666666,\"#ed7953\"],[0.7777777777777778,\"#fb9f3a\"],[0.8888888888888888,\"#fdca26\"],[1.0,\"#f0f921\"]],\"type\":\"histogram2d\"}],\"histogram2dcontour\":[{\"colorbar\":{\"outlinewidth\":0,\"ticks\":\"\"},\"colorscale\":[[0.0,\"#0d0887\"],[0.1111111111111111,\"#46039f\"],[0.2222222222222222,\"#7201a8\"],[0.3333333333333333,\"#9c179e\"],[0.4444444444444444,\"#bd3786\"],[0.5555555555555556,\"#d8576b\"],[0.6666666666666666,\"#ed7953\"],[0.7777777777777778,\"#fb9f3a\"],[0.8888888888888888,\"#fdca26\"],[1.0,\"#f0f921\"]],\"type\":\"histogram2dcontour\"}],\"mesh3d\":[{\"colorbar\":{\"outlinewidth\":0,\"ticks\":\"\"},\"type\":\"mesh3d\"}],\"parcoords\":[{\"line\":{\"colorbar\":{\"outlinewidth\":0,\"ticks\":\"\"}},\"type\":\"parcoords\"}],\"pie\":[{\"automargin\":true,\"type\":\"pie\"}],\"scatter\":[{\"marker\":{\"colorbar\":{\"outlinewidth\":0,\"ticks\":\"\"}},\"type\":\"scatter\"}],\"scatter3d\":[{\"line\":{\"colorbar\":{\"outlinewidth\":0,\"ticks\":\"\"}},\"marker\":{\"colorbar\":{\"outlinewidth\":0,\"ticks\":\"\"}},\"type\":\"scatter3d\"}],\"scattercarpet\":[{\"marker\":{\"colorbar\":{\"outlinewidth\":0,\"ticks\":\"\"}},\"type\":\"scattercarpet\"}],\"scattergeo\":[{\"marker\":{\"colorbar\":{\"outlinewidth\":0,\"ticks\":\"\"}},\"type\":\"scattergeo\"}],\"scattergl\":[{\"marker\":{\"colorbar\":{\"outlinewidth\":0,\"ticks\":\"\"}},\"type\":\"scattergl\"}],\"scattermapbox\":[{\"marker\":{\"colorbar\":{\"outlinewidth\":0,\"ticks\":\"\"}},\"type\":\"scattermapbox\"}],\"scatterpolar\":[{\"marker\":{\"colorbar\":{\"outlinewidth\":0,\"ticks\":\"\"}},\"type\":\"scatterpolar\"}],\"scatterpolargl\":[{\"marker\":{\"colorbar\":{\"outlinewidth\":0,\"ticks\":\"\"}},\"type\":\"scatterpolargl\"}],\"scatterternary\":[{\"marker\":{\"colorbar\":{\"outlinewidth\":0,\"ticks\":\"\"}},\"type\":\"scatterternary\"}],\"surface\":[{\"colorbar\":{\"outlinewidth\":0,\"ticks\":\"\"},\"colorscale\":[[0.0,\"#0d0887\"],[0.1111111111111111,\"#46039f\"],[0.2222222222222222,\"#7201a8\"],[0.3333333333333333,\"#9c179e\"],[0.4444444444444444,\"#bd3786\"],[0.5555555555555556,\"#d8576b\"],[0.6666666666666666,\"#ed7953\"],[0.7777777777777778,\"#fb9f3a\"],[0.8888888888888888,\"#fdca26\"],[1.0,\"#f0f921\"]],\"type\":\"surface\"}],\"table\":[{\"cells\":{\"fill\":{\"color\":\"#EBF0F8\"},\"line\":{\"color\":\"white\"}},\"header\":{\"fill\":{\"color\":\"#C8D4E3\"},\"line\":{\"color\":\"white\"}},\"type\":\"table\"}]},\"layout\":{\"annotationdefaults\":{\"arrowcolor\":\"#2a3f5f\",\"arrowhead\":0,\"arrowwidth\":1},\"autotypenumbers\":\"strict\",\"coloraxis\":{\"colorbar\":{\"outlinewidth\":0,\"ticks\":\"\"}},\"colorscale\":{\"diverging\":[[0,\"#8e0152\"],[0.1,\"#c51b7d\"],[0.2,\"#de77ae\"],[0.3,\"#f1b6da\"],[0.4,\"#fde0ef\"],[0.5,\"#f7f7f7\"],[0.6,\"#e6f5d0\"],[0.7,\"#b8e186\"],[0.8,\"#7fbc41\"],[0.9,\"#4d9221\"],[1,\"#276419\"]],\"sequential\":[[0.0,\"#0d0887\"],[0.1111111111111111,\"#46039f\"],[0.2222222222222222,\"#7201a8\"],[0.3333333333333333,\"#9c179e\"],[0.4444444444444444,\"#bd3786\"],[0.5555555555555556,\"#d8576b\"],[0.6666666666666666,\"#ed7953\"],[0.7777777777777778,\"#fb9f3a\"],[0.8888888888888888,\"#fdca26\"],[1.0,\"#f0f921\"]],\"sequentialminus\":[[0.0,\"#0d0887\"],[0.1111111111111111,\"#46039f\"],[0.2222222222222222,\"#7201a8\"],[0.3333333333333333,\"#9c179e\"],[0.4444444444444444,\"#bd3786\"],[0.5555555555555556,\"#d8576b\"],[0.6666666666666666,\"#ed7953\"],[0.7777777777777778,\"#fb9f3a\"],[0.8888888888888888,\"#fdca26\"],[1.0,\"#f0f921\"]]},\"colorway\":[\"#636efa\",\"#EF553B\",\"#00cc96\",\"#ab63fa\",\"#FFA15A\",\"#19d3f3\",\"#FF6692\",\"#B6E880\",\"#FF97FF\",\"#FECB52\"],\"font\":{\"color\":\"#2a3f5f\"},\"geo\":{\"bgcolor\":\"white\",\"lakecolor\":\"white\",\"landcolor\":\"#E5ECF6\",\"showlakes\":true,\"showland\":true,\"subunitcolor\":\"white\"},\"hoverlabel\":{\"align\":\"left\"},\"hovermode\":\"closest\",\"mapbox\":{\"style\":\"light\"},\"paper_bgcolor\":\"white\",\"plot_bgcolor\":\"#E5ECF6\",\"polar\":{\"angularaxis\":{\"gridcolor\":\"white\",\"linecolor\":\"white\",\"ticks\":\"\"},\"bgcolor\":\"#E5ECF6\",\"radialaxis\":{\"gridcolor\":\"white\",\"linecolor\":\"white\",\"ticks\":\"\"}},\"scene\":{\"xaxis\":{\"backgroundcolor\":\"#E5ECF6\",\"gridcolor\":\"white\",\"gridwidth\":2,\"linecolor\":\"white\",\"showbackground\":true,\"ticks\":\"\",\"zerolinecolor\":\"white\"},\"yaxis\":{\"backgroundcolor\":\"#E5ECF6\",\"gridcolor\":\"white\",\"gridwidth\":2,\"linecolor\":\"white\",\"showbackground\":true,\"ticks\":\"\",\"zerolinecolor\":\"white\"},\"zaxis\":{\"backgroundcolor\":\"#E5ECF6\",\"gridcolor\":\"white\",\"gridwidth\":2,\"linecolor\":\"white\",\"showbackground\":true,\"ticks\":\"\",\"zerolinecolor\":\"white\"}},\"shapedefaults\":{\"line\":{\"color\":\"#2a3f5f\"}},\"ternary\":{\"aaxis\":{\"gridcolor\":\"white\",\"linecolor\":\"white\",\"ticks\":\"\"},\"baxis\":{\"gridcolor\":\"white\",\"linecolor\":\"white\",\"ticks\":\"\"},\"bgcolor\":\"#E5ECF6\",\"caxis\":{\"gridcolor\":\"white\",\"linecolor\":\"white\",\"ticks\":\"\"}},\"title\":{\"x\":0.05},\"xaxis\":{\"automargin\":true,\"gridcolor\":\"white\",\"linecolor\":\"white\",\"ticks\":\"\",\"title\":{\"standoff\":15},\"zerolinecolor\":\"white\",\"zerolinewidth\":2},\"yaxis\":{\"automargin\":true,\"gridcolor\":\"white\",\"linecolor\":\"white\",\"ticks\":\"\",\"title\":{\"standoff\":15},\"zerolinecolor\":\"white\",\"zerolinewidth\":2}}}},                        {\"responsive\": true}                    ).then(function(){\n",
       "                            \n",
       "var gd = document.getElementById('17b65d5a-8fbe-40b7-bb47-97f5d1abcfdd');\n",
       "var x = new MutationObserver(function (mutations, observer) {{\n",
       "        var display = window.getComputedStyle(gd).display;\n",
       "        if (!display || display === 'none') {{\n",
       "            console.log([gd, 'removed!']);\n",
       "            Plotly.purge(gd);\n",
       "            observer.disconnect();\n",
       "        }}\n",
       "}});\n",
       "\n",
       "// Listen for the removal of the full notebook cells\n",
       "var notebookContainer = gd.closest('#notebook-container');\n",
       "if (notebookContainer) {{\n",
       "    x.observe(notebookContainer, {childList: true});\n",
       "}}\n",
       "\n",
       "// Listen for the clearing of the current output cell\n",
       "var outputEl = gd.closest('.output');\n",
       "if (outputEl) {{\n",
       "    x.observe(outputEl, {childList: true});\n",
       "}}\n",
       "\n",
       "                        })                };                });            </script>        </div>"
      ]
     },
     "metadata": {},
     "output_type": "display_data"
    }
   ],
   "source": [
    "optuna.visualization.plot_optimization_history(studies[2][2])"
   ]
  },
  {
   "cell_type": "code",
   "execution_count": 64,
   "id": "b3703d95",
   "metadata": {},
   "outputs": [
    {
     "data": {
      "application/vnd.plotly.v1+json": {
       "config": {
        "plotlyServerURL": "https://plot.ly"
       },
       "data": [
        {
         "cliponaxis": false,
         "hovertemplate": [
          "kAttractionRatio (LogUniformDistribution): 0.001760448495307416<extra></extra>",
          "kRadius (IntUniformDistribution): 0.0029509968870390885<extra></extra>",
          "kStartAttraction (LogUniformDistribution): 0.005270207634021996<extra></extra>",
          "kTargetDeterminationTrials (IntLogUniformDistribution): 0.009985563274767632<extra></extra>",
          "kAnnealingB (UniformDistribution): 0.011964824736451971<extra></extra>",
          "kErase (IntUniformDistribution): 0.013396181831632888<extra></extra>",
          "kAnnealingA (UniformDistribution): 0.013892810698662057<extra></extra>",
          "kMaxAttractionDistance (IntLogUniformDistribution): 0.01854247408837084<extra></extra>",
          "kAnnealingStart (LogUniformDistribution): 0.04981964503527089<extra></extra>",
          "kSkipRatio (UniformDistribution): 0.8724168473184752<extra></extra>"
         ],
         "marker": {
          "color": "rgb(66,146,198)"
         },
         "orientation": "h",
         "text": [
          "0.001760448495307416",
          "0.0029509968870390885",
          "0.005270207634021996",
          "0.009985563274767632",
          "0.011964824736451971",
          "0.013396181831632888",
          "0.013892810698662057",
          "0.01854247408837084",
          "0.04981964503527089",
          "0.8724168473184752"
         ],
         "textposition": "outside",
         "texttemplate": "%{text:.2f}",
         "type": "bar",
         "x": [
          0.001760448495307416,
          0.0029509968870390885,
          0.005270207634021996,
          0.009985563274767632,
          0.011964824736451971,
          0.013396181831632888,
          0.013892810698662057,
          0.01854247408837084,
          0.04981964503527089,
          0.8724168473184752
         ],
         "y": [
          "kAttractionRatio",
          "kRadius",
          "kStartAttraction",
          "kTargetDeterminationTrials",
          "kAnnealingB",
          "kErase",
          "kAnnealingA",
          "kMaxAttractionDistance",
          "kAnnealingStart",
          "kSkipRatio"
         ]
        }
       ],
       "layout": {
        "showlegend": false,
        "template": {
         "data": {
          "bar": [
           {
            "error_x": {
             "color": "#2a3f5f"
            },
            "error_y": {
             "color": "#2a3f5f"
            },
            "marker": {
             "line": {
              "color": "#E5ECF6",
              "width": 0.5
             },
             "pattern": {
              "fillmode": "overlay",
              "size": 10,
              "solidity": 0.2
             }
            },
            "type": "bar"
           }
          ],
          "barpolar": [
           {
            "marker": {
             "line": {
              "color": "#E5ECF6",
              "width": 0.5
             },
             "pattern": {
              "fillmode": "overlay",
              "size": 10,
              "solidity": 0.2
             }
            },
            "type": "barpolar"
           }
          ],
          "carpet": [
           {
            "aaxis": {
             "endlinecolor": "#2a3f5f",
             "gridcolor": "white",
             "linecolor": "white",
             "minorgridcolor": "white",
             "startlinecolor": "#2a3f5f"
            },
            "baxis": {
             "endlinecolor": "#2a3f5f",
             "gridcolor": "white",
             "linecolor": "white",
             "minorgridcolor": "white",
             "startlinecolor": "#2a3f5f"
            },
            "type": "carpet"
           }
          ],
          "choropleth": [
           {
            "colorbar": {
             "outlinewidth": 0,
             "ticks": ""
            },
            "type": "choropleth"
           }
          ],
          "contour": [
           {
            "colorbar": {
             "outlinewidth": 0,
             "ticks": ""
            },
            "colorscale": [
             [
              0,
              "#0d0887"
             ],
             [
              0.1111111111111111,
              "#46039f"
             ],
             [
              0.2222222222222222,
              "#7201a8"
             ],
             [
              0.3333333333333333,
              "#9c179e"
             ],
             [
              0.4444444444444444,
              "#bd3786"
             ],
             [
              0.5555555555555556,
              "#d8576b"
             ],
             [
              0.6666666666666666,
              "#ed7953"
             ],
             [
              0.7777777777777778,
              "#fb9f3a"
             ],
             [
              0.8888888888888888,
              "#fdca26"
             ],
             [
              1,
              "#f0f921"
             ]
            ],
            "type": "contour"
           }
          ],
          "contourcarpet": [
           {
            "colorbar": {
             "outlinewidth": 0,
             "ticks": ""
            },
            "type": "contourcarpet"
           }
          ],
          "heatmap": [
           {
            "colorbar": {
             "outlinewidth": 0,
             "ticks": ""
            },
            "colorscale": [
             [
              0,
              "#0d0887"
             ],
             [
              0.1111111111111111,
              "#46039f"
             ],
             [
              0.2222222222222222,
              "#7201a8"
             ],
             [
              0.3333333333333333,
              "#9c179e"
             ],
             [
              0.4444444444444444,
              "#bd3786"
             ],
             [
              0.5555555555555556,
              "#d8576b"
             ],
             [
              0.6666666666666666,
              "#ed7953"
             ],
             [
              0.7777777777777778,
              "#fb9f3a"
             ],
             [
              0.8888888888888888,
              "#fdca26"
             ],
             [
              1,
              "#f0f921"
             ]
            ],
            "type": "heatmap"
           }
          ],
          "heatmapgl": [
           {
            "colorbar": {
             "outlinewidth": 0,
             "ticks": ""
            },
            "colorscale": [
             [
              0,
              "#0d0887"
             ],
             [
              0.1111111111111111,
              "#46039f"
             ],
             [
              0.2222222222222222,
              "#7201a8"
             ],
             [
              0.3333333333333333,
              "#9c179e"
             ],
             [
              0.4444444444444444,
              "#bd3786"
             ],
             [
              0.5555555555555556,
              "#d8576b"
             ],
             [
              0.6666666666666666,
              "#ed7953"
             ],
             [
              0.7777777777777778,
              "#fb9f3a"
             ],
             [
              0.8888888888888888,
              "#fdca26"
             ],
             [
              1,
              "#f0f921"
             ]
            ],
            "type": "heatmapgl"
           }
          ],
          "histogram": [
           {
            "marker": {
             "pattern": {
              "fillmode": "overlay",
              "size": 10,
              "solidity": 0.2
             }
            },
            "type": "histogram"
           }
          ],
          "histogram2d": [
           {
            "colorbar": {
             "outlinewidth": 0,
             "ticks": ""
            },
            "colorscale": [
             [
              0,
              "#0d0887"
             ],
             [
              0.1111111111111111,
              "#46039f"
             ],
             [
              0.2222222222222222,
              "#7201a8"
             ],
             [
              0.3333333333333333,
              "#9c179e"
             ],
             [
              0.4444444444444444,
              "#bd3786"
             ],
             [
              0.5555555555555556,
              "#d8576b"
             ],
             [
              0.6666666666666666,
              "#ed7953"
             ],
             [
              0.7777777777777778,
              "#fb9f3a"
             ],
             [
              0.8888888888888888,
              "#fdca26"
             ],
             [
              1,
              "#f0f921"
             ]
            ],
            "type": "histogram2d"
           }
          ],
          "histogram2dcontour": [
           {
            "colorbar": {
             "outlinewidth": 0,
             "ticks": ""
            },
            "colorscale": [
             [
              0,
              "#0d0887"
             ],
             [
              0.1111111111111111,
              "#46039f"
             ],
             [
              0.2222222222222222,
              "#7201a8"
             ],
             [
              0.3333333333333333,
              "#9c179e"
             ],
             [
              0.4444444444444444,
              "#bd3786"
             ],
             [
              0.5555555555555556,
              "#d8576b"
             ],
             [
              0.6666666666666666,
              "#ed7953"
             ],
             [
              0.7777777777777778,
              "#fb9f3a"
             ],
             [
              0.8888888888888888,
              "#fdca26"
             ],
             [
              1,
              "#f0f921"
             ]
            ],
            "type": "histogram2dcontour"
           }
          ],
          "mesh3d": [
           {
            "colorbar": {
             "outlinewidth": 0,
             "ticks": ""
            },
            "type": "mesh3d"
           }
          ],
          "parcoords": [
           {
            "line": {
             "colorbar": {
              "outlinewidth": 0,
              "ticks": ""
             }
            },
            "type": "parcoords"
           }
          ],
          "pie": [
           {
            "automargin": true,
            "type": "pie"
           }
          ],
          "scatter": [
           {
            "marker": {
             "colorbar": {
              "outlinewidth": 0,
              "ticks": ""
             }
            },
            "type": "scatter"
           }
          ],
          "scatter3d": [
           {
            "line": {
             "colorbar": {
              "outlinewidth": 0,
              "ticks": ""
             }
            },
            "marker": {
             "colorbar": {
              "outlinewidth": 0,
              "ticks": ""
             }
            },
            "type": "scatter3d"
           }
          ],
          "scattercarpet": [
           {
            "marker": {
             "colorbar": {
              "outlinewidth": 0,
              "ticks": ""
             }
            },
            "type": "scattercarpet"
           }
          ],
          "scattergeo": [
           {
            "marker": {
             "colorbar": {
              "outlinewidth": 0,
              "ticks": ""
             }
            },
            "type": "scattergeo"
           }
          ],
          "scattergl": [
           {
            "marker": {
             "colorbar": {
              "outlinewidth": 0,
              "ticks": ""
             }
            },
            "type": "scattergl"
           }
          ],
          "scattermapbox": [
           {
            "marker": {
             "colorbar": {
              "outlinewidth": 0,
              "ticks": ""
             }
            },
            "type": "scattermapbox"
           }
          ],
          "scatterpolar": [
           {
            "marker": {
             "colorbar": {
              "outlinewidth": 0,
              "ticks": ""
             }
            },
            "type": "scatterpolar"
           }
          ],
          "scatterpolargl": [
           {
            "marker": {
             "colorbar": {
              "outlinewidth": 0,
              "ticks": ""
             }
            },
            "type": "scatterpolargl"
           }
          ],
          "scatterternary": [
           {
            "marker": {
             "colorbar": {
              "outlinewidth": 0,
              "ticks": ""
             }
            },
            "type": "scatterternary"
           }
          ],
          "surface": [
           {
            "colorbar": {
             "outlinewidth": 0,
             "ticks": ""
            },
            "colorscale": [
             [
              0,
              "#0d0887"
             ],
             [
              0.1111111111111111,
              "#46039f"
             ],
             [
              0.2222222222222222,
              "#7201a8"
             ],
             [
              0.3333333333333333,
              "#9c179e"
             ],
             [
              0.4444444444444444,
              "#bd3786"
             ],
             [
              0.5555555555555556,
              "#d8576b"
             ],
             [
              0.6666666666666666,
              "#ed7953"
             ],
             [
              0.7777777777777778,
              "#fb9f3a"
             ],
             [
              0.8888888888888888,
              "#fdca26"
             ],
             [
              1,
              "#f0f921"
             ]
            ],
            "type": "surface"
           }
          ],
          "table": [
           {
            "cells": {
             "fill": {
              "color": "#EBF0F8"
             },
             "line": {
              "color": "white"
             }
            },
            "header": {
             "fill": {
              "color": "#C8D4E3"
             },
             "line": {
              "color": "white"
             }
            },
            "type": "table"
           }
          ]
         },
         "layout": {
          "annotationdefaults": {
           "arrowcolor": "#2a3f5f",
           "arrowhead": 0,
           "arrowwidth": 1
          },
          "autotypenumbers": "strict",
          "coloraxis": {
           "colorbar": {
            "outlinewidth": 0,
            "ticks": ""
           }
          },
          "colorscale": {
           "diverging": [
            [
             0,
             "#8e0152"
            ],
            [
             0.1,
             "#c51b7d"
            ],
            [
             0.2,
             "#de77ae"
            ],
            [
             0.3,
             "#f1b6da"
            ],
            [
             0.4,
             "#fde0ef"
            ],
            [
             0.5,
             "#f7f7f7"
            ],
            [
             0.6,
             "#e6f5d0"
            ],
            [
             0.7,
             "#b8e186"
            ],
            [
             0.8,
             "#7fbc41"
            ],
            [
             0.9,
             "#4d9221"
            ],
            [
             1,
             "#276419"
            ]
           ],
           "sequential": [
            [
             0,
             "#0d0887"
            ],
            [
             0.1111111111111111,
             "#46039f"
            ],
            [
             0.2222222222222222,
             "#7201a8"
            ],
            [
             0.3333333333333333,
             "#9c179e"
            ],
            [
             0.4444444444444444,
             "#bd3786"
            ],
            [
             0.5555555555555556,
             "#d8576b"
            ],
            [
             0.6666666666666666,
             "#ed7953"
            ],
            [
             0.7777777777777778,
             "#fb9f3a"
            ],
            [
             0.8888888888888888,
             "#fdca26"
            ],
            [
             1,
             "#f0f921"
            ]
           ],
           "sequentialminus": [
            [
             0,
             "#0d0887"
            ],
            [
             0.1111111111111111,
             "#46039f"
            ],
            [
             0.2222222222222222,
             "#7201a8"
            ],
            [
             0.3333333333333333,
             "#9c179e"
            ],
            [
             0.4444444444444444,
             "#bd3786"
            ],
            [
             0.5555555555555556,
             "#d8576b"
            ],
            [
             0.6666666666666666,
             "#ed7953"
            ],
            [
             0.7777777777777778,
             "#fb9f3a"
            ],
            [
             0.8888888888888888,
             "#fdca26"
            ],
            [
             1,
             "#f0f921"
            ]
           ]
          },
          "colorway": [
           "#636efa",
           "#EF553B",
           "#00cc96",
           "#ab63fa",
           "#FFA15A",
           "#19d3f3",
           "#FF6692",
           "#B6E880",
           "#FF97FF",
           "#FECB52"
          ],
          "font": {
           "color": "#2a3f5f"
          },
          "geo": {
           "bgcolor": "white",
           "lakecolor": "white",
           "landcolor": "#E5ECF6",
           "showlakes": true,
           "showland": true,
           "subunitcolor": "white"
          },
          "hoverlabel": {
           "align": "left"
          },
          "hovermode": "closest",
          "mapbox": {
           "style": "light"
          },
          "paper_bgcolor": "white",
          "plot_bgcolor": "#E5ECF6",
          "polar": {
           "angularaxis": {
            "gridcolor": "white",
            "linecolor": "white",
            "ticks": ""
           },
           "bgcolor": "#E5ECF6",
           "radialaxis": {
            "gridcolor": "white",
            "linecolor": "white",
            "ticks": ""
           }
          },
          "scene": {
           "xaxis": {
            "backgroundcolor": "#E5ECF6",
            "gridcolor": "white",
            "gridwidth": 2,
            "linecolor": "white",
            "showbackground": true,
            "ticks": "",
            "zerolinecolor": "white"
           },
           "yaxis": {
            "backgroundcolor": "#E5ECF6",
            "gridcolor": "white",
            "gridwidth": 2,
            "linecolor": "white",
            "showbackground": true,
            "ticks": "",
            "zerolinecolor": "white"
           },
           "zaxis": {
            "backgroundcolor": "#E5ECF6",
            "gridcolor": "white",
            "gridwidth": 2,
            "linecolor": "white",
            "showbackground": true,
            "ticks": "",
            "zerolinecolor": "white"
           }
          },
          "shapedefaults": {
           "line": {
            "color": "#2a3f5f"
           }
          },
          "ternary": {
           "aaxis": {
            "gridcolor": "white",
            "linecolor": "white",
            "ticks": ""
           },
           "baxis": {
            "gridcolor": "white",
            "linecolor": "white",
            "ticks": ""
           },
           "bgcolor": "#E5ECF6",
           "caxis": {
            "gridcolor": "white",
            "linecolor": "white",
            "ticks": ""
           }
          },
          "title": {
           "x": 0.05
          },
          "xaxis": {
           "automargin": true,
           "gridcolor": "white",
           "linecolor": "white",
           "ticks": "",
           "title": {
            "standoff": 15
           },
           "zerolinecolor": "white",
           "zerolinewidth": 2
          },
          "yaxis": {
           "automargin": true,
           "gridcolor": "white",
           "linecolor": "white",
           "ticks": "",
           "title": {
            "standoff": 15
           },
           "zerolinecolor": "white",
           "zerolinewidth": 2
          }
         }
        },
        "title": {
         "text": "Hyperparameter Importances"
        },
        "xaxis": {
         "title": {
          "text": "Importance for Objective Value"
         }
        },
        "yaxis": {
         "title": {
          "text": "Hyperparameter"
         }
        }
       }
      },
      "text/html": [
       "<div>                            <div id=\"5ff76121-b8f5-4250-aa62-1605a591f5f5\" class=\"plotly-graph-div\" style=\"height:525px; width:100%;\"></div>            <script type=\"text/javascript\">                require([\"plotly\"], function(Plotly) {                    window.PLOTLYENV=window.PLOTLYENV || {};                                    if (document.getElementById(\"5ff76121-b8f5-4250-aa62-1605a591f5f5\")) {                    Plotly.newPlot(                        \"5ff76121-b8f5-4250-aa62-1605a591f5f5\",                        [{\"cliponaxis\":false,\"hovertemplate\":[\"kAttractionRatio (LogUniformDistribution): 0.001760448495307416<extra></extra>\",\"kRadius (IntUniformDistribution): 0.0029509968870390885<extra></extra>\",\"kStartAttraction (LogUniformDistribution): 0.005270207634021996<extra></extra>\",\"kTargetDeterminationTrials (IntLogUniformDistribution): 0.009985563274767632<extra></extra>\",\"kAnnealingB (UniformDistribution): 0.011964824736451971<extra></extra>\",\"kErase (IntUniformDistribution): 0.013396181831632888<extra></extra>\",\"kAnnealingA (UniformDistribution): 0.013892810698662057<extra></extra>\",\"kMaxAttractionDistance (IntLogUniformDistribution): 0.01854247408837084<extra></extra>\",\"kAnnealingStart (LogUniformDistribution): 0.04981964503527089<extra></extra>\",\"kSkipRatio (UniformDistribution): 0.8724168473184752<extra></extra>\"],\"marker\":{\"color\":\"rgb(66,146,198)\"},\"orientation\":\"h\",\"text\":[\"0.001760448495307416\",\"0.0029509968870390885\",\"0.005270207634021996\",\"0.009985563274767632\",\"0.011964824736451971\",\"0.013396181831632888\",\"0.013892810698662057\",\"0.01854247408837084\",\"0.04981964503527089\",\"0.8724168473184752\"],\"textposition\":\"outside\",\"texttemplate\":\"%{text:.2f}\",\"x\":[0.001760448495307416,0.0029509968870390885,0.005270207634021996,0.009985563274767632,0.011964824736451971,0.013396181831632888,0.013892810698662057,0.01854247408837084,0.04981964503527089,0.8724168473184752],\"y\":[\"kAttractionRatio\",\"kRadius\",\"kStartAttraction\",\"kTargetDeterminationTrials\",\"kAnnealingB\",\"kErase\",\"kAnnealingA\",\"kMaxAttractionDistance\",\"kAnnealingStart\",\"kSkipRatio\"],\"type\":\"bar\"}],                        {\"showlegend\":false,\"title\":{\"text\":\"Hyperparameter Importances\"},\"xaxis\":{\"title\":{\"text\":\"Importance for Objective Value\"}},\"yaxis\":{\"title\":{\"text\":\"Hyperparameter\"}},\"template\":{\"data\":{\"bar\":[{\"error_x\":{\"color\":\"#2a3f5f\"},\"error_y\":{\"color\":\"#2a3f5f\"},\"marker\":{\"line\":{\"color\":\"#E5ECF6\",\"width\":0.5},\"pattern\":{\"fillmode\":\"overlay\",\"size\":10,\"solidity\":0.2}},\"type\":\"bar\"}],\"barpolar\":[{\"marker\":{\"line\":{\"color\":\"#E5ECF6\",\"width\":0.5},\"pattern\":{\"fillmode\":\"overlay\",\"size\":10,\"solidity\":0.2}},\"type\":\"barpolar\"}],\"carpet\":[{\"aaxis\":{\"endlinecolor\":\"#2a3f5f\",\"gridcolor\":\"white\",\"linecolor\":\"white\",\"minorgridcolor\":\"white\",\"startlinecolor\":\"#2a3f5f\"},\"baxis\":{\"endlinecolor\":\"#2a3f5f\",\"gridcolor\":\"white\",\"linecolor\":\"white\",\"minorgridcolor\":\"white\",\"startlinecolor\":\"#2a3f5f\"},\"type\":\"carpet\"}],\"choropleth\":[{\"colorbar\":{\"outlinewidth\":0,\"ticks\":\"\"},\"type\":\"choropleth\"}],\"contour\":[{\"colorbar\":{\"outlinewidth\":0,\"ticks\":\"\"},\"colorscale\":[[0.0,\"#0d0887\"],[0.1111111111111111,\"#46039f\"],[0.2222222222222222,\"#7201a8\"],[0.3333333333333333,\"#9c179e\"],[0.4444444444444444,\"#bd3786\"],[0.5555555555555556,\"#d8576b\"],[0.6666666666666666,\"#ed7953\"],[0.7777777777777778,\"#fb9f3a\"],[0.8888888888888888,\"#fdca26\"],[1.0,\"#f0f921\"]],\"type\":\"contour\"}],\"contourcarpet\":[{\"colorbar\":{\"outlinewidth\":0,\"ticks\":\"\"},\"type\":\"contourcarpet\"}],\"heatmap\":[{\"colorbar\":{\"outlinewidth\":0,\"ticks\":\"\"},\"colorscale\":[[0.0,\"#0d0887\"],[0.1111111111111111,\"#46039f\"],[0.2222222222222222,\"#7201a8\"],[0.3333333333333333,\"#9c179e\"],[0.4444444444444444,\"#bd3786\"],[0.5555555555555556,\"#d8576b\"],[0.6666666666666666,\"#ed7953\"],[0.7777777777777778,\"#fb9f3a\"],[0.8888888888888888,\"#fdca26\"],[1.0,\"#f0f921\"]],\"type\":\"heatmap\"}],\"heatmapgl\":[{\"colorbar\":{\"outlinewidth\":0,\"ticks\":\"\"},\"colorscale\":[[0.0,\"#0d0887\"],[0.1111111111111111,\"#46039f\"],[0.2222222222222222,\"#7201a8\"],[0.3333333333333333,\"#9c179e\"],[0.4444444444444444,\"#bd3786\"],[0.5555555555555556,\"#d8576b\"],[0.6666666666666666,\"#ed7953\"],[0.7777777777777778,\"#fb9f3a\"],[0.8888888888888888,\"#fdca26\"],[1.0,\"#f0f921\"]],\"type\":\"heatmapgl\"}],\"histogram\":[{\"marker\":{\"pattern\":{\"fillmode\":\"overlay\",\"size\":10,\"solidity\":0.2}},\"type\":\"histogram\"}],\"histogram2d\":[{\"colorbar\":{\"outlinewidth\":0,\"ticks\":\"\"},\"colorscale\":[[0.0,\"#0d0887\"],[0.1111111111111111,\"#46039f\"],[0.2222222222222222,\"#7201a8\"],[0.3333333333333333,\"#9c179e\"],[0.4444444444444444,\"#bd3786\"],[0.5555555555555556,\"#d8576b\"],[0.6666666666666666,\"#ed7953\"],[0.7777777777777778,\"#fb9f3a\"],[0.8888888888888888,\"#fdca26\"],[1.0,\"#f0f921\"]],\"type\":\"histogram2d\"}],\"histogram2dcontour\":[{\"colorbar\":{\"outlinewidth\":0,\"ticks\":\"\"},\"colorscale\":[[0.0,\"#0d0887\"],[0.1111111111111111,\"#46039f\"],[0.2222222222222222,\"#7201a8\"],[0.3333333333333333,\"#9c179e\"],[0.4444444444444444,\"#bd3786\"],[0.5555555555555556,\"#d8576b\"],[0.6666666666666666,\"#ed7953\"],[0.7777777777777778,\"#fb9f3a\"],[0.8888888888888888,\"#fdca26\"],[1.0,\"#f0f921\"]],\"type\":\"histogram2dcontour\"}],\"mesh3d\":[{\"colorbar\":{\"outlinewidth\":0,\"ticks\":\"\"},\"type\":\"mesh3d\"}],\"parcoords\":[{\"line\":{\"colorbar\":{\"outlinewidth\":0,\"ticks\":\"\"}},\"type\":\"parcoords\"}],\"pie\":[{\"automargin\":true,\"type\":\"pie\"}],\"scatter\":[{\"marker\":{\"colorbar\":{\"outlinewidth\":0,\"ticks\":\"\"}},\"type\":\"scatter\"}],\"scatter3d\":[{\"line\":{\"colorbar\":{\"outlinewidth\":0,\"ticks\":\"\"}},\"marker\":{\"colorbar\":{\"outlinewidth\":0,\"ticks\":\"\"}},\"type\":\"scatter3d\"}],\"scattercarpet\":[{\"marker\":{\"colorbar\":{\"outlinewidth\":0,\"ticks\":\"\"}},\"type\":\"scattercarpet\"}],\"scattergeo\":[{\"marker\":{\"colorbar\":{\"outlinewidth\":0,\"ticks\":\"\"}},\"type\":\"scattergeo\"}],\"scattergl\":[{\"marker\":{\"colorbar\":{\"outlinewidth\":0,\"ticks\":\"\"}},\"type\":\"scattergl\"}],\"scattermapbox\":[{\"marker\":{\"colorbar\":{\"outlinewidth\":0,\"ticks\":\"\"}},\"type\":\"scattermapbox\"}],\"scatterpolar\":[{\"marker\":{\"colorbar\":{\"outlinewidth\":0,\"ticks\":\"\"}},\"type\":\"scatterpolar\"}],\"scatterpolargl\":[{\"marker\":{\"colorbar\":{\"outlinewidth\":0,\"ticks\":\"\"}},\"type\":\"scatterpolargl\"}],\"scatterternary\":[{\"marker\":{\"colorbar\":{\"outlinewidth\":0,\"ticks\":\"\"}},\"type\":\"scatterternary\"}],\"surface\":[{\"colorbar\":{\"outlinewidth\":0,\"ticks\":\"\"},\"colorscale\":[[0.0,\"#0d0887\"],[0.1111111111111111,\"#46039f\"],[0.2222222222222222,\"#7201a8\"],[0.3333333333333333,\"#9c179e\"],[0.4444444444444444,\"#bd3786\"],[0.5555555555555556,\"#d8576b\"],[0.6666666666666666,\"#ed7953\"],[0.7777777777777778,\"#fb9f3a\"],[0.8888888888888888,\"#fdca26\"],[1.0,\"#f0f921\"]],\"type\":\"surface\"}],\"table\":[{\"cells\":{\"fill\":{\"color\":\"#EBF0F8\"},\"line\":{\"color\":\"white\"}},\"header\":{\"fill\":{\"color\":\"#C8D4E3\"},\"line\":{\"color\":\"white\"}},\"type\":\"table\"}]},\"layout\":{\"annotationdefaults\":{\"arrowcolor\":\"#2a3f5f\",\"arrowhead\":0,\"arrowwidth\":1},\"autotypenumbers\":\"strict\",\"coloraxis\":{\"colorbar\":{\"outlinewidth\":0,\"ticks\":\"\"}},\"colorscale\":{\"diverging\":[[0,\"#8e0152\"],[0.1,\"#c51b7d\"],[0.2,\"#de77ae\"],[0.3,\"#f1b6da\"],[0.4,\"#fde0ef\"],[0.5,\"#f7f7f7\"],[0.6,\"#e6f5d0\"],[0.7,\"#b8e186\"],[0.8,\"#7fbc41\"],[0.9,\"#4d9221\"],[1,\"#276419\"]],\"sequential\":[[0.0,\"#0d0887\"],[0.1111111111111111,\"#46039f\"],[0.2222222222222222,\"#7201a8\"],[0.3333333333333333,\"#9c179e\"],[0.4444444444444444,\"#bd3786\"],[0.5555555555555556,\"#d8576b\"],[0.6666666666666666,\"#ed7953\"],[0.7777777777777778,\"#fb9f3a\"],[0.8888888888888888,\"#fdca26\"],[1.0,\"#f0f921\"]],\"sequentialminus\":[[0.0,\"#0d0887\"],[0.1111111111111111,\"#46039f\"],[0.2222222222222222,\"#7201a8\"],[0.3333333333333333,\"#9c179e\"],[0.4444444444444444,\"#bd3786\"],[0.5555555555555556,\"#d8576b\"],[0.6666666666666666,\"#ed7953\"],[0.7777777777777778,\"#fb9f3a\"],[0.8888888888888888,\"#fdca26\"],[1.0,\"#f0f921\"]]},\"colorway\":[\"#636efa\",\"#EF553B\",\"#00cc96\",\"#ab63fa\",\"#FFA15A\",\"#19d3f3\",\"#FF6692\",\"#B6E880\",\"#FF97FF\",\"#FECB52\"],\"font\":{\"color\":\"#2a3f5f\"},\"geo\":{\"bgcolor\":\"white\",\"lakecolor\":\"white\",\"landcolor\":\"#E5ECF6\",\"showlakes\":true,\"showland\":true,\"subunitcolor\":\"white\"},\"hoverlabel\":{\"align\":\"left\"},\"hovermode\":\"closest\",\"mapbox\":{\"style\":\"light\"},\"paper_bgcolor\":\"white\",\"plot_bgcolor\":\"#E5ECF6\",\"polar\":{\"angularaxis\":{\"gridcolor\":\"white\",\"linecolor\":\"white\",\"ticks\":\"\"},\"bgcolor\":\"#E5ECF6\",\"radialaxis\":{\"gridcolor\":\"white\",\"linecolor\":\"white\",\"ticks\":\"\"}},\"scene\":{\"xaxis\":{\"backgroundcolor\":\"#E5ECF6\",\"gridcolor\":\"white\",\"gridwidth\":2,\"linecolor\":\"white\",\"showbackground\":true,\"ticks\":\"\",\"zerolinecolor\":\"white\"},\"yaxis\":{\"backgroundcolor\":\"#E5ECF6\",\"gridcolor\":\"white\",\"gridwidth\":2,\"linecolor\":\"white\",\"showbackground\":true,\"ticks\":\"\",\"zerolinecolor\":\"white\"},\"zaxis\":{\"backgroundcolor\":\"#E5ECF6\",\"gridcolor\":\"white\",\"gridwidth\":2,\"linecolor\":\"white\",\"showbackground\":true,\"ticks\":\"\",\"zerolinecolor\":\"white\"}},\"shapedefaults\":{\"line\":{\"color\":\"#2a3f5f\"}},\"ternary\":{\"aaxis\":{\"gridcolor\":\"white\",\"linecolor\":\"white\",\"ticks\":\"\"},\"baxis\":{\"gridcolor\":\"white\",\"linecolor\":\"white\",\"ticks\":\"\"},\"bgcolor\":\"#E5ECF6\",\"caxis\":{\"gridcolor\":\"white\",\"linecolor\":\"white\",\"ticks\":\"\"}},\"title\":{\"x\":0.05},\"xaxis\":{\"automargin\":true,\"gridcolor\":\"white\",\"linecolor\":\"white\",\"ticks\":\"\",\"title\":{\"standoff\":15},\"zerolinecolor\":\"white\",\"zerolinewidth\":2},\"yaxis\":{\"automargin\":true,\"gridcolor\":\"white\",\"linecolor\":\"white\",\"ticks\":\"\",\"title\":{\"standoff\":15},\"zerolinecolor\":\"white\",\"zerolinewidth\":2}}}},                        {\"responsive\": true}                    ).then(function(){\n",
       "                            \n",
       "var gd = document.getElementById('5ff76121-b8f5-4250-aa62-1605a591f5f5');\n",
       "var x = new MutationObserver(function (mutations, observer) {{\n",
       "        var display = window.getComputedStyle(gd).display;\n",
       "        if (!display || display === 'none') {{\n",
       "            console.log([gd, 'removed!']);\n",
       "            Plotly.purge(gd);\n",
       "            observer.disconnect();\n",
       "        }}\n",
       "}});\n",
       "\n",
       "// Listen for the removal of the full notebook cells\n",
       "var notebookContainer = gd.closest('#notebook-container');\n",
       "if (notebookContainer) {{\n",
       "    x.observe(notebookContainer, {childList: true});\n",
       "}}\n",
       "\n",
       "// Listen for the clearing of the current output cell\n",
       "var outputEl = gd.closest('.output');\n",
       "if (outputEl) {{\n",
       "    x.observe(outputEl, {childList: true});\n",
       "}}\n",
       "\n",
       "                        })                };                });            </script>        </div>"
      ]
     },
     "metadata": {},
     "output_type": "display_data"
    }
   ],
   "source": [
    "optuna.visualization.plot_param_importances(studies[2][2])"
   ]
  },
  {
   "cell_type": "code",
   "execution_count": null,
   "id": "50a97f80",
   "metadata": {},
   "outputs": [],
   "source": []
  }
 ],
 "metadata": {
  "kernelspec": {
   "display_name": "Python 3 (ipykernel)",
   "language": "python",
   "name": "python3"
  },
  "language_info": {
   "codemirror_mode": {
    "name": "ipython",
    "version": 3
   },
   "file_extension": ".py",
   "mimetype": "text/x-python",
   "name": "python",
   "nbconvert_exporter": "python",
   "pygments_lexer": "ipython3",
   "version": "3.9.12"
  }
 },
 "nbformat": 4,
 "nbformat_minor": 5
}
