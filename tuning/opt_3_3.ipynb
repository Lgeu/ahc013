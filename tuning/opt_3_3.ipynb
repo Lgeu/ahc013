{
 "cells": [
  {
   "cell_type": "code",
   "execution_count": 1,
   "id": "25a1dac8",
   "metadata": {},
   "outputs": [],
   "source": [
    "import re\n",
    "import sys\n",
    "from uuid import uuid1\n",
    "from time import sleep\n",
    "from pprint import pprint\n",
    "from pathlib import Path\n",
    "from tempfile import gettempdir\n",
    "from threading import Thread\n",
    "from functools import partial\n",
    "from subprocess import Popen, PIPE\n",
    "\n",
    "from tqdm.notebook import tqdm\n",
    "import numpy as np\n",
    "import optuna\n",
    "import pandas as pd\n",
    "import matplotlib.pyplot as plt\n",
    "\n",
    "FILENAME = \"main.cpp\""
   ]
  },
  {
   "cell_type": "code",
   "execution_count": 2,
   "id": "3dd4d02e",
   "metadata": {},
   "outputs": [
    {
     "name": "stdout",
     "output_type": "stream",
     "text": [
      "10 variables were found.\n"
     ]
    },
    {
     "data": {
      "text/html": [
       "<div>\n",
       "<style scoped>\n",
       "    .dataframe tbody tr th:only-of-type {\n",
       "        vertical-align: middle;\n",
       "    }\n",
       "\n",
       "    .dataframe tbody tr th {\n",
       "        vertical-align: top;\n",
       "    }\n",
       "\n",
       "    .dataframe thead th {\n",
       "        text-align: right;\n",
       "    }\n",
       "</style>\n",
       "<table border=\"1\" class=\"dataframe\">\n",
       "  <thead>\n",
       "    <tr style=\"text-align: right;\">\n",
       "      <th></th>\n",
       "      <th>name</th>\n",
       "      <th>method</th>\n",
       "      <th>min</th>\n",
       "      <th>max</th>\n",
       "      <th>log</th>\n",
       "      <th>left</th>\n",
       "      <th>right</th>\n",
       "    </tr>\n",
       "  </thead>\n",
       "  <tbody>\n",
       "    <tr>\n",
       "      <th>0</th>\n",
       "      <td>kErase</td>\n",
       "      <td>suggest_int</td>\n",
       "      <td>1.000</td>\n",
       "      <td>5.0</td>\n",
       "      <td>False</td>\n",
       "      <td>static constexpr auto kErase =</td>\n",
       "      <td>;             // OPTIMIZE [1, 5]</td>\n",
       "    </tr>\n",
       "    <tr>\n",
       "      <th>1</th>\n",
       "      <td>kRadius</td>\n",
       "      <td>suggest_int</td>\n",
       "      <td>2.000</td>\n",
       "      <td>6.0</td>\n",
       "      <td>False</td>\n",
       "      <td>static constexpr auto kRadius =</td>\n",
       "      <td>;            // OPTIMIZE [2, 6]</td>\n",
       "    </tr>\n",
       "    <tr>\n",
       "      <th>2</th>\n",
       "      <td>kAnnealingA</td>\n",
       "      <td>suggest_float</td>\n",
       "      <td>-15.000</td>\n",
       "      <td>15.0</td>\n",
       "      <td>False</td>\n",
       "      <td>static constexpr auto kAnnealingA =</td>\n",
       "      <td>;      // OPTIMIZE [-15.0, 15.0]</td>\n",
       "    </tr>\n",
       "    <tr>\n",
       "      <th>3</th>\n",
       "      <td>kAnnealingB</td>\n",
       "      <td>suggest_float</td>\n",
       "      <td>0.000</td>\n",
       "      <td>3.0</td>\n",
       "      <td>False</td>\n",
       "      <td>static constexpr auto kAnnealingB =</td>\n",
       "      <td>;      // OPTIMIZE [0.0, 3.0]</td>\n",
       "    </tr>\n",
       "    <tr>\n",
       "      <th>4</th>\n",
       "      <td>kAnnealingStart</td>\n",
       "      <td>suggest_float</td>\n",
       "      <td>1.000</td>\n",
       "      <td>100.0</td>\n",
       "      <td>True</td>\n",
       "      <td>static constexpr auto kAnnealingStart =</td>\n",
       "      <td>; // OPTIMIZE LOG [1.0, 100.0]</td>\n",
       "    </tr>\n",
       "    <tr>\n",
       "      <th>5</th>\n",
       "      <td>kSkipRatio</td>\n",
       "      <td>suggest_float</td>\n",
       "      <td>0.200</td>\n",
       "      <td>0.8</td>\n",
       "      <td>False</td>\n",
       "      <td>static constexpr auto kSkipRatio =</td>\n",
       "      <td>;       // OPTIMIZE [0.2, 0.8]</td>\n",
       "    </tr>\n",
       "    <tr>\n",
       "      <th>6</th>\n",
       "      <td>kTargetDeterminationTrials</td>\n",
       "      <td>suggest_int</td>\n",
       "      <td>1.000</td>\n",
       "      <td>20.0</td>\n",
       "      <td>True</td>\n",
       "      <td>static constexpr auto kTargetDeterminationTria...</td>\n",
       "      <td>; // OPTIMIZE LOG [1, 20]</td>\n",
       "    </tr>\n",
       "    <tr>\n",
       "      <th>7</th>\n",
       "      <td>kAttractionRatio</td>\n",
       "      <td>suggest_float</td>\n",
       "      <td>0.010</td>\n",
       "      <td>0.9</td>\n",
       "      <td>True</td>\n",
       "      <td>static constexpr auto kAttractionRatio =</td>\n",
       "      <td>;      // OPTIMIZE LOG [0.01, 0.9]</td>\n",
       "    </tr>\n",
       "    <tr>\n",
       "      <th>8</th>\n",
       "      <td>kMaxAttractionDistance</td>\n",
       "      <td>suggest_int</td>\n",
       "      <td>4.000</td>\n",
       "      <td>99.0</td>\n",
       "      <td>True</td>\n",
       "      <td>static constexpr auto kMaxAttractionDistance =</td>\n",
       "      <td>; // OPTIMIZE LOG [4, 99]</td>\n",
       "    </tr>\n",
       "    <tr>\n",
       "      <th>9</th>\n",
       "      <td>kStartAttraction</td>\n",
       "      <td>suggest_float</td>\n",
       "      <td>0.001</td>\n",
       "      <td>0.9</td>\n",
       "      <td>True</td>\n",
       "      <td>static constexpr auto kStartAttraction =</td>\n",
       "      <td>;     // OPTIMIZE LOG [0.001, 0.9]</td>\n",
       "    </tr>\n",
       "  </tbody>\n",
       "</table>\n",
       "</div>"
      ],
      "text/plain": [
       "                         name         method     min    max    log  \\\n",
       "0                      kErase    suggest_int   1.000    5.0  False   \n",
       "1                     kRadius    suggest_int   2.000    6.0  False   \n",
       "2                 kAnnealingA  suggest_float -15.000   15.0  False   \n",
       "3                 kAnnealingB  suggest_float   0.000    3.0  False   \n",
       "4             kAnnealingStart  suggest_float   1.000  100.0   True   \n",
       "5                  kSkipRatio  suggest_float   0.200    0.8  False   \n",
       "6  kTargetDeterminationTrials    suggest_int   1.000   20.0   True   \n",
       "7            kAttractionRatio  suggest_float   0.010    0.9   True   \n",
       "8      kMaxAttractionDistance    suggest_int   4.000   99.0   True   \n",
       "9            kStartAttraction  suggest_float   0.001    0.9   True   \n",
       "\n",
       "                                                left  \\\n",
       "0                    static constexpr auto kErase =    \n",
       "1                   static constexpr auto kRadius =    \n",
       "2               static constexpr auto kAnnealingA =    \n",
       "3               static constexpr auto kAnnealingB =    \n",
       "4           static constexpr auto kAnnealingStart =    \n",
       "5                static constexpr auto kSkipRatio =    \n",
       "6  static constexpr auto kTargetDeterminationTria...   \n",
       "7          static constexpr auto kAttractionRatio =    \n",
       "8    static constexpr auto kMaxAttractionDistance =    \n",
       "9          static constexpr auto kStartAttraction =    \n",
       "\n",
       "                                right  \n",
       "0    ;             // OPTIMIZE [1, 5]  \n",
       "1     ;            // OPTIMIZE [2, 6]  \n",
       "2    ;      // OPTIMIZE [-15.0, 15.0]  \n",
       "3       ;      // OPTIMIZE [0.0, 3.0]  \n",
       "4      ; // OPTIMIZE LOG [1.0, 100.0]  \n",
       "5      ;       // OPTIMIZE [0.2, 0.8]  \n",
       "6           ; // OPTIMIZE LOG [1, 20]  \n",
       "7  ;      // OPTIMIZE LOG [0.01, 0.9]  \n",
       "8           ; // OPTIMIZE LOG [4, 99]  \n",
       "9  ;     // OPTIMIZE LOG [0.001, 0.9]  "
      ]
     },
     "metadata": {},
     "output_type": "display_data"
    }
   ],
   "source": [
    "# ここでエラー出力は何かおかしいかもしれない\n",
    "\n",
    "\n",
    "# パラメータ抽出\n",
    "with open(FILENAME) as f:\n",
    "    answer = f.read()\n",
    "\n",
    "\n",
    "variables_optimize = []\n",
    "\n",
    "for left, value, right, options in re.findall(r\"^([^/\\n]*=\\s*)(.+?)(\\s*;\\s*//(?:.*\\W)?OPTIMIZE(\\W.*))$\", answer, re.MULTILINE):\n",
    "    name = left.replace(\"=\", \"\").strip().split()[-1]\n",
    "    \n",
    "    searched = re.search(r\".*\\[(?P<min>.*),(?P<max>.*)\\].*\", options)\n",
    "    if searched:\n",
    "        min_value = max_value = None\n",
    "        try:\n",
    "            min_value = eval(searched.group(\"min\"))\n",
    "            max_value = eval(searched.group(\"max\"))\n",
    "            assert min_value <= max_value\n",
    "        except Exception as e:\n",
    "            print(f\"searched={searched}\", file=sys.stderr)\n",
    "            print(e, file=sys.stderr)\n",
    "            continue\n",
    "        log = \"LOG\" in options  # 雑、直したほうが良い\n",
    "        if type(min_value) != type(max_value):\n",
    "            print(f\"searched={searched}\", file=sys.stderr)\n",
    "            print(\"types not matched\", file=sys.stderr)\n",
    "            continue\n",
    "        if isinstance(min_value, int):\n",
    "            method = \"suggest_int\"\n",
    "        elif isinstance(min_value, float):\n",
    "            method = \"suggest_float\"\n",
    "        else:\n",
    "            print(f\"searched={searched}\", file=sys.stderr)\n",
    "            print(f\"unknown type ({type(min_value)})\", file=sys.stderr)\n",
    "            continue\n",
    "        variables_optimize.append({\n",
    "            \"name\": name,\n",
    "            \"method\": method,\n",
    "            \"min\": min_value,\n",
    "            \"max\": max_value,\n",
    "            \"log\": log,\n",
    "            \"left\": left,\n",
    "            \"right\": right,\n",
    "        })\n",
    "    elif searched := re.search(r\".*\\{(?P<choices>.*?)\\}.*\", options):\n",
    "        choices = list(map(lambda x: x.strip(), searched.group(\"choices\").split(\",\")))\n",
    "        variables_optimize.append({\n",
    "            \"name\": name,\n",
    "            \"method\": \"suggest_categorical\",\n",
    "            \"choices\": choices,\n",
    "            \"left\": left,\n",
    "            \"right\": right,\n",
    "        })\n",
    "    else:\n",
    "        print(f\"searched={searched}\", file=sys.stderr)\n",
    "        print(f\"pattern was matched but options are incorrect.\", file=sys.stderr)\n",
    "\n",
    "print(len(variables_optimize), \"variables were found.\")\n",
    "if globals().get(\"pd\"):\n",
    "    display(pd.DataFrame(variables_optimize))\n",
    "else:\n",
    "    pprint(variables_optimize)"
   ]
  },
  {
   "cell_type": "code",
   "execution_count": 3,
   "id": "001042b9",
   "metadata": {},
   "outputs": [],
   "source": [
    "def escape(string):  # 正規表現の中でそのまま使いたい文字列をエスケープ\n",
    "    res = !echo '{string}' | sed -e 's/[]\\/$*.^[]/\\\\&/g'\n",
    "    return res[0]\n",
    "\n",
    "def escape_sed(string):  # sed の置換後の文字列用のエスケープ\n",
    "    res = !echo '{string}' | sed -e 's/[\\/&]/\\\\&/g'\n",
    "    return res[0]\n",
    "\n",
    "def read_stream(name, in_file, out_file):\n",
    "    for line in in_file:\n",
    "        print(f\"[{name}] {line.strip()}\", file=out_file)\n",
    "\n",
    "def run(cmd, name):\n",
    "    proc = Popen(cmd, stdout=PIPE, stderr=PIPE, universal_newlines=True, shell=isinstance(cmd, str))\n",
    "    stdout_thread = Thread(target=read_stream, args=(name, proc.stdout, sys.stdout))\n",
    "    stderr_thread = Thread(target=read_stream, args=(name, proc.stderr, sys.stderr))\n",
    "    stdout_thread.start()\n",
    "    stderr_thread.start()\n",
    "    proc.wait()\n",
    "    return proc\n",
    "\n",
    "def objective(trial, in_dir, work_dir):\n",
    "    n_internal_parallel = 3\n",
    "    \n",
    "    index_parallel = f\"{trial.number:04d}\"\n",
    "    print(f\"{index_parallel=}\")\n",
    "    \n",
    "    work_dir = Path(work_dir)\n",
    "    directory_input = Path(in_dir)  # 中のすべてのファイルに対して実行される\n",
    "    #parameters_changed_filename = Path(gettempdir()) / str(uuid1())\n",
    "    parameters_changed_filename = work_dir / f\"{index_parallel}_{FILENAME}\"\n",
    "    \n",
    "    run([\"mkdir\", f\"{work_dir / index_parallel}_out\"], \"mkdir\")\n",
    "    run([\"mkdir\", f\"{work_dir / index_parallel}_score\"], \"mkdir\")\n",
    "    \n",
    "    # ファイル作成\n",
    "    run(f\"cp {FILENAME} {parameters_changed_filename}\", \"cp\")\n",
    "    sed_options = [f\"-i {parameters_changed_filename}\"]\n",
    "    for variable in variables_optimize:\n",
    "        if variable[\"method\"] == \"suggest_categorical\":\n",
    "            val =  trial.suggest_categorical(variable[\"name\"], variable[\"choices\"])\n",
    "        else:\n",
    "            val = getattr(trial, variable[\"method\"])(variable[\"name\"], variable[\"min\"], variable[\"max\"], log=variable[\"log\"])\n",
    "        left = variable[\"left\"]\n",
    "        right = variable[\"right\"]\n",
    "        sed_options.append(f\"\"\"-e 's/^{escape(left)}.*{escape(right)}$/{escape_sed(left)}{val}{escape_sed(right)}/'\"\"\")\n",
    "    command_sed = f\"sed {' '.join(sed_options)}\"\n",
    "    #print(command_sed)\n",
    "    run(command_sed, \"sed\")\n",
    "    \n",
    "    # コンパイル\n",
    "    command_compile = f\"g++ {parameters_changed_filename} -std=gnu++17 -O2 -DONLINE_JUDGE -o {parameters_changed_filename}.out\"\n",
    "    #print(command_compile)\n",
    "    run(command_compile, \"compile\")\n",
    "    # 実行・採点コマンド (@ はファイル名)\n",
    "    command_exec = (\n",
    "        #f\"./a.out < ./tools/in/{i:04d}.txt > {out_file} && ./tools/target/release/vis ./tools/in/{i:04d}.txt {out_file}\"\n",
    "        #f\"../tools/target/release/tester $(pwd)/{parameters_changed_filename}.out < {directory_input}/@ 2>&1 | grep Score\"\n",
    "        #f\"../tools/target/release/tester $(pwd)/{parameters_changed_filename}.out < {directory_input}/@ 2>&1 | grep Score | sed -E s/[^0-9]+// > ./{index_parallel}_score/@;\"\n",
    "        #f\"cargo run --release --manifest-path ../tools/Cargo.toml --bin tester {directory_input}/@ $(pwd)/{parameters_changed_filename}.out 2>&1 | grep Score | sed -E s/[^0-9]+// > ./{index_parallel}_score/@;\"\n",
    "        f\"./{parameters_changed_filename}.out < {directory_input}/@ > {work_dir / index_parallel}_out/@;\"\n",
    "        f\"../tools/target/release/vis {directory_input}/@ {work_dir / index_parallel}_out/@ 2> /dev/null > {work_dir / index_parallel}_score/@;\"\n",
    "    )\n",
    "    # 並列実行 (sed はパスのディレクトリ部分を消してファイル名にしてる)\n",
    "    run(f\"find {directory_input}/* | sed 's!^.*/!!' | xargs -I@ -P {n_internal_parallel} sh -c '{command_exec}'\", \"exec\")\n",
    "    \n",
    "    # 集計\n",
    "    scores = []\n",
    "    for file_path in Path(f\"{work_dir / index_parallel}_score/\").iterdir():  \n",
    "        with open(file_path) as f:\n",
    "            scores.append(int(f.readline().strip().split()[-1]))\n",
    "    mean_score = sum(scores) / len(scores)\n",
    "    \n",
    "    # 後始末\n",
    "    run(f\"rm -rf {work_dir / index_parallel}_out\", \"rm\")\n",
    "    run(f\"rm -rf {work_dir / index_parallel}_score\", \"rm\")\n",
    "    #run(f\"rm {parameters_changed_filename}\", \"rm\")\n",
    "    run(f\"rm {parameters_changed_filename}.out\", \"rm\")\n",
    "    \n",
    "    return mean_score"
   ]
  },
  {
   "cell_type": "code",
   "execution_count": 4,
   "id": "2d2e133c",
   "metadata": {},
   "outputs": [
    {
     "name": "stderr",
     "output_type": "stream",
     "text": [
      "\u001b[32m[I 2022-08-15 21:27:18,595]\u001b[0m A new study created in RDB with name: study_3_3\u001b[0m\n"
     ]
    }
   ],
   "source": [
    "K = 3\n",
    "N_CLASS = 3\n",
    "\n",
    "in_dir = Path(f\"in_{K}_{N_CLASS}\")\n",
    "work_dir = Path(f\"work_{K}_{N_CLASS}\")\n",
    "\n",
    "study_name = f\"study_{K}_{N_CLASS}\"\n",
    "storage_path = work_dir / \"study.db\"\n",
    "storage = f\"sqlite:///{storage_path}\"\n",
    "study = optuna.create_study(storage=storage, load_if_exists=True, study_name=study_name, direction=\"maximize\")\n",
    "\n",
    "def callback(study, trial):\n",
    "    try:\n",
    "        index_parallel = f\"{trial.number:04d}\"\n",
    "        parameters_changed_filename = work_dir / f\"{index_parallel}_{FILENAME}\"\n",
    "        if study.best_value == trial.value:\n",
    "            print(f\"Updated! {study.best_value}\")\n",
    "            !cp {parameters_changed_filename} {work_dir / \"best_parameters.cpp\"}\n",
    "        !rm {parameters_changed_filename}\n",
    "    except:\n",
    "        print(\":(\")\n"
   ]
  },
  {
   "cell_type": "code",
   "execution_count": null,
   "id": "61c2901d",
   "metadata": {},
   "outputs": [
    {
     "name": "stdout",
     "output_type": "stream",
     "text": [
      "index_parallel='0000'\n"
     ]
    },
    {
     "name": "stderr",
     "output_type": "stream",
     "text": [
      "\u001b[32m[I 2022-08-15 21:31:37,289]\u001b[0m Trial 0 finished with value: 7559.034632034632 and parameters: {'kErase': 2, 'kRadius': 5, 'kAnnealingA': 3.8410393496295896, 'kAnnealingB': 0.8632326474556148, 'kAnnealingStart': 2.051828555257513, 'kSkipRatio': 0.5118299863056434, 'kTargetDeterminationTrials': 2, 'kAttractionRatio': 0.6517108783830671, 'kMaxAttractionDistance': 12, 'kStartAttraction': 0.06416344071807051}. Best is trial 0 with value: 7559.034632034632.\u001b[0m\n"
     ]
    },
    {
     "name": "stdout",
     "output_type": "stream",
     "text": [
      "Updated! 7559.034632034632\n",
      "index_parallel='0001'\n"
     ]
    },
    {
     "name": "stderr",
     "output_type": "stream",
     "text": [
      "\u001b[32m[I 2022-08-15 21:35:55,907]\u001b[0m Trial 1 finished with value: 7308.168831168831 and parameters: {'kErase': 1, 'kRadius': 3, 'kAnnealingA': -9.077749381008976, 'kAnnealingB': 1.5604259615973572, 'kAnnealingStart': 42.37744024188977, 'kSkipRatio': 0.4602691205048737, 'kTargetDeterminationTrials': 10, 'kAttractionRatio': 0.5807591679491304, 'kMaxAttractionDistance': 14, 'kStartAttraction': 0.0023350165510619427}. Best is trial 0 with value: 7559.034632034632.\u001b[0m\n"
     ]
    },
    {
     "name": "stdout",
     "output_type": "stream",
     "text": [
      "index_parallel='0002'\n"
     ]
    },
    {
     "name": "stderr",
     "output_type": "stream",
     "text": [
      "\u001b[32m[I 2022-08-15 21:40:15,157]\u001b[0m Trial 2 finished with value: 7451.7835497835495 and parameters: {'kErase': 4, 'kRadius': 5, 'kAnnealingA': -7.296320258753073, 'kAnnealingB': 2.2496913523470887, 'kAnnealingStart': 99.47161594812837, 'kSkipRatio': 0.5436512834558558, 'kTargetDeterminationTrials': 1, 'kAttractionRatio': 0.024219999563600256, 'kMaxAttractionDistance': 10, 'kStartAttraction': 0.009361226539435573}. Best is trial 0 with value: 7559.034632034632.\u001b[0m\n"
     ]
    },
    {
     "name": "stdout",
     "output_type": "stream",
     "text": [
      "index_parallel='0003'\n"
     ]
    },
    {
     "name": "stderr",
     "output_type": "stream",
     "text": [
      "\u001b[32m[I 2022-08-15 21:44:34,201]\u001b[0m Trial 3 finished with value: 7637.614718614718 and parameters: {'kErase': 2, 'kRadius': 5, 'kAnnealingA': 5.707665025016457, 'kAnnealingB': 1.6809939441688666, 'kAnnealingStart': 1.838604146347736, 'kSkipRatio': 0.5678334265196281, 'kTargetDeterminationTrials': 9, 'kAttractionRatio': 0.1079748153175242, 'kMaxAttractionDistance': 18, 'kStartAttraction': 0.006615999432543763}. Best is trial 3 with value: 7637.614718614718.\u001b[0m\n"
     ]
    },
    {
     "name": "stdout",
     "output_type": "stream",
     "text": [
      "Updated! 7637.614718614718\n",
      "index_parallel='0004'\n"
     ]
    },
    {
     "name": "stderr",
     "output_type": "stream",
     "text": [
      "\u001b[32m[I 2022-08-15 21:48:53,398]\u001b[0m Trial 4 finished with value: 7813.419913419913 and parameters: {'kErase': 2, 'kRadius': 2, 'kAnnealingA': -1.339174594295331, 'kAnnealingB': 1.641978471708157, 'kAnnealingStart': 16.814997076620234, 'kSkipRatio': 0.4797387504071869, 'kTargetDeterminationTrials': 5, 'kAttractionRatio': 0.02035353486239241, 'kMaxAttractionDistance': 53, 'kStartAttraction': 0.7376041815810679}. Best is trial 4 with value: 7813.419913419913.\u001b[0m\n"
     ]
    },
    {
     "name": "stdout",
     "output_type": "stream",
     "text": [
      "Updated! 7813.419913419913\n",
      "index_parallel='0005'\n"
     ]
    },
    {
     "name": "stderr",
     "output_type": "stream",
     "text": [
      "\u001b[32m[I 2022-08-15 21:53:12,981]\u001b[0m Trial 5 finished with value: 7274.571428571428 and parameters: {'kErase': 5, 'kRadius': 4, 'kAnnealingA': -14.043809002738366, 'kAnnealingB': 0.7588930659840619, 'kAnnealingStart': 9.612582063090722, 'kSkipRatio': 0.5959837947203709, 'kTargetDeterminationTrials': 15, 'kAttractionRatio': 0.0246096121067708, 'kMaxAttractionDistance': 4, 'kStartAttraction': 0.012868235608065794}. Best is trial 4 with value: 7813.419913419913.\u001b[0m\n"
     ]
    },
    {
     "name": "stdout",
     "output_type": "stream",
     "text": [
      "index_parallel='0006'\n"
     ]
    },
    {
     "name": "stderr",
     "output_type": "stream",
     "text": [
      "\u001b[32m[I 2022-08-15 21:57:32,102]\u001b[0m Trial 6 finished with value: 7532.822510822511 and parameters: {'kErase': 4, 'kRadius': 6, 'kAnnealingA': -8.33510898653904, 'kAnnealingB': 1.3877536629261913, 'kAnnealingStart': 1.2441129303156022, 'kSkipRatio': 0.7226919640406144, 'kTargetDeterminationTrials': 9, 'kAttractionRatio': 0.2721573103910783, 'kMaxAttractionDistance': 10, 'kStartAttraction': 0.08409060997519155}. Best is trial 4 with value: 7813.419913419913.\u001b[0m\n"
     ]
    },
    {
     "name": "stdout",
     "output_type": "stream",
     "text": [
      "index_parallel='0007'\n"
     ]
    },
    {
     "name": "stderr",
     "output_type": "stream",
     "text": [
      "\u001b[32m[I 2022-08-15 22:01:51,450]\u001b[0m Trial 7 finished with value: 7486.255411255412 and parameters: {'kErase': 5, 'kRadius': 2, 'kAnnealingA': -11.152882300816923, 'kAnnealingB': 0.6876342732848977, 'kAnnealingStart': 29.27548217707723, 'kSkipRatio': 0.6444991508044922, 'kTargetDeterminationTrials': 1, 'kAttractionRatio': 0.025140196308791957, 'kMaxAttractionDistance': 12, 'kStartAttraction': 0.47600967748183554}. Best is trial 4 with value: 7813.419913419913.\u001b[0m\n"
     ]
    },
    {
     "name": "stdout",
     "output_type": "stream",
     "text": [
      "index_parallel='0008'\n"
     ]
    },
    {
     "name": "stderr",
     "output_type": "stream",
     "text": [
      "\u001b[32m[I 2022-08-15 22:06:10,210]\u001b[0m Trial 8 finished with value: 7902.961038961039 and parameters: {'kErase': 1, 'kRadius': 5, 'kAnnealingA': 2.9756575888354604, 'kAnnealingB': 0.24166507430972983, 'kAnnealingStart': 6.2760481204479435, 'kSkipRatio': 0.37957245504485, 'kTargetDeterminationTrials': 13, 'kAttractionRatio': 0.029979663785964707, 'kMaxAttractionDistance': 11, 'kStartAttraction': 0.18674458446946474}. Best is trial 8 with value: 7902.961038961039.\u001b[0m\n"
     ]
    },
    {
     "name": "stdout",
     "output_type": "stream",
     "text": [
      "Updated! 7902.961038961039\n",
      "index_parallel='0009'\n"
     ]
    },
    {
     "name": "stderr",
     "output_type": "stream",
     "text": [
      "\u001b[32m[I 2022-08-15 22:10:28,862]\u001b[0m Trial 9 finished with value: 7686.779220779221 and parameters: {'kErase': 1, 'kRadius': 6, 'kAnnealingA': -5.455416483814497, 'kAnnealingB': 1.5698351392785193, 'kAnnealingStart': 7.138446533628211, 'kSkipRatio': 0.28473743271046686, 'kTargetDeterminationTrials': 2, 'kAttractionRatio': 0.44732955032739, 'kMaxAttractionDistance': 23, 'kStartAttraction': 0.16902175586758725}. Best is trial 8 with value: 7902.961038961039.\u001b[0m\n"
     ]
    },
    {
     "name": "stdout",
     "output_type": "stream",
     "text": [
      "index_parallel='0010'\n"
     ]
    },
    {
     "name": "stderr",
     "output_type": "stream",
     "text": [
      "\u001b[32m[I 2022-08-15 22:14:48,092]\u001b[0m Trial 10 finished with value: 6992.471861471861 and parameters: {'kErase': 3, 'kRadius': 4, 'kAnnealingA': 13.880099535379282, 'kAnnealingB': 0.15532279335542487, 'kAnnealingStart': 4.0157193310644415, 'kSkipRatio': 0.20805903772421197, 'kTargetDeterminationTrials': 19, 'kAttractionRatio': 0.01045742887455158, 'kMaxAttractionDistance': 4, 'kStartAttraction': 0.2219198398166645}. Best is trial 8 with value: 7902.961038961039.\u001b[0m\n"
     ]
    },
    {
     "name": "stdout",
     "output_type": "stream",
     "text": [
      "index_parallel='0011'\n"
     ]
    },
    {
     "name": "stderr",
     "output_type": "stream",
     "text": [
      "\u001b[32m[I 2022-08-15 22:19:07,158]\u001b[0m Trial 11 finished with value: 7728.441558441558 and parameters: {'kErase': 2, 'kRadius': 2, 'kAnnealingA': -0.3249773313749733, 'kAnnealingB': 2.820047824596714, 'kAnnealingStart': 20.138232295699872, 'kSkipRatio': 0.3870094772724489, 'kTargetDeterminationTrials': 5, 'kAttractionRatio': 0.07528530638761761, 'kMaxAttractionDistance': 81, 'kStartAttraction': 0.7567064768165224}. Best is trial 8 with value: 7902.961038961039.\u001b[0m\n"
     ]
    },
    {
     "name": "stdout",
     "output_type": "stream",
     "text": [
      "index_parallel='0012'\n"
     ]
    },
    {
     "name": "stderr",
     "output_type": "stream",
     "text": [
      "\u001b[32m[I 2022-08-15 22:23:26,174]\u001b[0m Trial 12 finished with value: 7854.2770562770565 and parameters: {'kErase': 1, 'kRadius': 3, 'kAnnealingA': -0.4269583653015596, 'kAnnealingB': 0.0011982525556298584, 'kAnnealingStart': 15.607894773496325, 'kSkipRatio': 0.38006497412624124, 'kTargetDeterminationTrials': 4, 'kAttractionRatio': 0.05110336528336512, 'kMaxAttractionDistance': 50, 'kStartAttraction': 0.8900975381779028}. Best is trial 8 with value: 7902.961038961039.\u001b[0m\n"
     ]
    },
    {
     "name": "stdout",
     "output_type": "stream",
     "text": [
      "index_parallel='0013'\n"
     ]
    },
    {
     "name": "stderr",
     "output_type": "stream",
     "text": [
      "\u001b[32m[I 2022-08-15 22:27:44,798]\u001b[0m Trial 13 finished with value: 7838.606060606061 and parameters: {'kErase': 1, 'kRadius': 3, 'kAnnealingA': 8.144654959733078, 'kAnnealingB': 0.16519184972771386, 'kAnnealingStart': 4.9892889984852955, 'kSkipRatio': 0.3830591731427424, 'kTargetDeterminationTrials': 4, 'kAttractionRatio': 0.05445700640636008, 'kMaxAttractionDistance': 33, 'kStartAttraction': 0.2387668613433739}. Best is trial 8 with value: 7902.961038961039.\u001b[0m\n"
     ]
    },
    {
     "name": "stdout",
     "output_type": "stream",
     "text": [
      "index_parallel='0014'\n"
     ]
    },
    {
     "name": "stderr",
     "output_type": "stream",
     "text": [
      "\u001b[32m[I 2022-08-15 22:32:03,450]\u001b[0m Trial 14 finished with value: 7791.982683982684 and parameters: {'kErase': 1, 'kRadius': 3, 'kAnnealingA': -3.2739795379093417, 'kAnnealingB': 0.13596255971198243, 'kAnnealingStart': 14.508047229681681, 'kSkipRatio': 0.3521358708169361, 'kTargetDeterminationTrials': 2, 'kAttractionRatio': 0.14616859776571658, 'kMaxAttractionDistance': 38, 'kStartAttraction': 0.04569507030937893}. Best is trial 8 with value: 7902.961038961039.\u001b[0m\n"
     ]
    },
    {
     "name": "stdout",
     "output_type": "stream",
     "text": [
      "index_parallel='0015'\n"
     ]
    },
    {
     "name": "stderr",
     "output_type": "stream",
     "text": [
      "\u001b[32m[I 2022-08-15 22:36:22,431]\u001b[0m Trial 15 finished with value: 7435.948051948052 and parameters: {'kErase': 3, 'kRadius': 4, 'kAnnealingA': 3.0269894444134153, 'kAnnealingB': 0.5424006617074791, 'kAnnealingStart': 4.080435729733569, 'kSkipRatio': 0.28883212879526865, 'kTargetDeterminationTrials': 3, 'kAttractionRatio': 0.04783929236888116, 'kMaxAttractionDistance': 6, 'kStartAttraction': 0.33721444506886117}. Best is trial 8 with value: 7902.961038961039.\u001b[0m\n"
     ]
    },
    {
     "name": "stdout",
     "output_type": "stream",
     "text": [
      "index_parallel='0016'\n"
     ]
    },
    {
     "name": "stderr",
     "output_type": "stream",
     "text": [
      "\u001b[32m[I 2022-08-15 22:40:41,200]\u001b[0m Trial 16 finished with value: 5853.354978354978 and parameters: {'kErase': 1, 'kRadius': 5, 'kAnnealingA': 9.960849814413196, 'kAnnealingB': 1.1063374790101936, 'kAnnealingStart': 53.6290622116567, 'kSkipRatio': 0.42573504729589445, 'kTargetDeterminationTrials': 12, 'kAttractionRatio': 0.010430099165484057, 'kMaxAttractionDistance': 94, 'kStartAttraction': 0.12868929294066006}. Best is trial 8 with value: 7902.961038961039.\u001b[0m\n"
     ]
    },
    {
     "name": "stdout",
     "output_type": "stream",
     "text": [
      "index_parallel='0017'\n"
     ]
    },
    {
     "name": "stderr",
     "output_type": "stream",
     "text": [
      "\u001b[32m[I 2022-08-15 22:45:00,153]\u001b[0m Trial 17 finished with value: 7596.069264069264 and parameters: {'kErase': 2, 'kRadius': 3, 'kAnnealingA': 1.3858366067603036, 'kAnnealingB': 0.36338671093519115, 'kAnnealingStart': 8.859456115340766, 'kSkipRatio': 0.30263565389667124, 'kTargetDeterminationTrials': 6, 'kAttractionRatio': 0.03975476374938027, 'kMaxAttractionDistance': 7, 'kStartAttraction': 0.02453553794309646}. Best is trial 8 with value: 7902.961038961039.\u001b[0m\n"
     ]
    },
    {
     "name": "stdout",
     "output_type": "stream",
     "text": [
      "index_parallel='0018'\n"
     ]
    },
    {
     "name": "stderr",
     "output_type": "stream",
     "text": [
      "\u001b[32m[I 2022-08-15 22:49:19,446]\u001b[0m Trial 18 finished with value: 7328.952380952381 and parameters: {'kErase': 3, 'kRadius': 6, 'kAnnealingA': -3.2857378517924483, 'kAnnealingB': 0.017383573455816346, 'kAnnealingStart': 2.686620737325773, 'kSkipRatio': 0.2045300967278525, 'kTargetDeterminationTrials': 3, 'kAttractionRatio': 0.196602852069688, 'kMaxAttractionDistance': 27, 'kStartAttraction': 0.8378993726560143}. Best is trial 8 with value: 7902.961038961039.\u001b[0m\n"
     ]
    },
    {
     "name": "stdout",
     "output_type": "stream",
     "text": [
      "index_parallel='0019'\n"
     ]
    },
    {
     "name": "stderr",
     "output_type": "stream",
     "text": [
      "\u001b[32m[I 2022-08-15 22:53:37,849]\u001b[0m Trial 19 finished with value: 7803.593073593073 and parameters: {'kErase': 1, 'kRadius': 4, 'kAnnealingA': 6.763503602414481, 'kAnnealingB': 1.0412568987803104, 'kAnnealingStart': 12.479954982239574, 'kSkipRatio': 0.7671262245141315, 'kTargetDeterminationTrials': 8, 'kAttractionRatio': 0.09246060274752146, 'kMaxAttractionDistance': 49, 'kStartAttraction': 0.0011964549618339597}. Best is trial 8 with value: 7902.961038961039.\u001b[0m\n"
     ]
    },
    {
     "name": "stdout",
     "output_type": "stream",
     "text": [
      "index_parallel='0020'\n"
     ]
    },
    {
     "name": "stderr",
     "output_type": "stream",
     "text": [
      "\u001b[32m[I 2022-08-15 22:57:57,497]\u001b[0m Trial 20 finished with value: 5806.316017316018 and parameters: {'kErase': 4, 'kRadius': 4, 'kAnnealingA': 11.029926271228888, 'kAnnealingB': 2.101790102792232, 'kAnnealingStart': 26.96148987609653, 'kSkipRatio': 0.34701520419493903, 'kTargetDeterminationTrials': 18, 'kAttractionRatio': 0.0150522576381906, 'kMaxAttractionDistance': 18, 'kStartAttraction': 0.11736090521043467}. Best is trial 8 with value: 7902.961038961039.\u001b[0m\n"
     ]
    },
    {
     "name": "stdout",
     "output_type": "stream",
     "text": [
      "index_parallel='0021'\n"
     ]
    },
    {
     "name": "stderr",
     "output_type": "stream",
     "text": [
      "\u001b[32m[I 2022-08-15 23:02:16,419]\u001b[0m Trial 21 finished with value: 7913.0 and parameters: {'kErase': 1, 'kRadius': 3, 'kAnnealingA': 7.75403135399723, 'kAnnealingB': 0.3169668403266581, 'kAnnealingStart': 5.627280775786433, 'kSkipRatio': 0.4078898220815493, 'kTargetDeterminationTrials': 4, 'kAttractionRatio': 0.05527253560128869, 'kMaxAttractionDistance': 33, 'kStartAttraction': 0.3314821483864984}. Best is trial 21 with value: 7913.0.\u001b[0m\n"
     ]
    },
    {
     "name": "stdout",
     "output_type": "stream",
     "text": [
      "Updated! 7913.0\n",
      "index_parallel='0022'\n"
     ]
    },
    {
     "name": "stderr",
     "output_type": "stream",
     "text": [
      "\u001b[32m[I 2022-08-15 23:06:35,068]\u001b[0m Trial 22 finished with value: 7891.2770562770565 and parameters: {'kErase': 1, 'kRadius': 3, 'kAnnealingA': 3.77325388284535, 'kAnnealingB': 0.40685365706134335, 'kAnnealingStart': 6.092430522007607, 'kSkipRatio': 0.4434018119461386, 'kTargetDeterminationTrials': 3, 'kAttractionRatio': 0.037079292291561275, 'kMaxAttractionDistance': 49, 'kStartAttraction': 0.29531799545774556}. Best is trial 21 with value: 7913.0.\u001b[0m\n"
     ]
    },
    {
     "name": "stdout",
     "output_type": "stream",
     "text": [
      "index_parallel='0023'\n"
     ]
    },
    {
     "name": "stderr",
     "output_type": "stream",
     "text": [
      "\u001b[32m[I 2022-08-15 23:10:54,203]\u001b[0m Trial 23 finished with value: 7865.476190476191 and parameters: {'kErase': 2, 'kRadius': 3, 'kAnnealingA': 4.356554366199072, 'kAnnealingB': 0.42414944547059374, 'kAnnealingStart': 6.537214073844221, 'kSkipRatio': 0.4455117357070296, 'kTargetDeterminationTrials': 2, 'kAttractionRatio': 0.034449457294956604, 'kMaxAttractionDistance': 37, 'kStartAttraction': 0.3401341486968148}. Best is trial 21 with value: 7913.0.\u001b[0m\n"
     ]
    },
    {
     "name": "stdout",
     "output_type": "stream",
     "text": [
      "index_parallel='0024'\n"
     ]
    },
    {
     "name": "stderr",
     "output_type": "stream",
     "text": [
      "\u001b[32m[I 2022-08-15 23:15:12,935]\u001b[0m Trial 24 finished with value: 7778.995670995671 and parameters: {'kErase': 1, 'kRadius': 2, 'kAnnealingA': 11.734425531419689, 'kAnnealingB': 0.3819566525146527, 'kAnnealingStart': 3.122216261059646, 'kSkipRatio': 0.4191249564837733, 'kTargetDeterminationTrials': 7, 'kAttractionRatio': 0.03488354846090823, 'kMaxAttractionDistance': 58, 'kStartAttraction': 0.03169153722926545}. Best is trial 21 with value: 7913.0.\u001b[0m\n"
     ]
    },
    {
     "name": "stdout",
     "output_type": "stream",
     "text": [
      "index_parallel='0025'\n"
     ]
    },
    {
     "name": "stderr",
     "output_type": "stream",
     "text": [
      "\u001b[32m[I 2022-08-15 23:19:32,077]\u001b[0m Trial 25 finished with value: 7992.025974025974 and parameters: {'kErase': 2, 'kRadius': 4, 'kAnnealingA': 8.175114855047632, 'kAnnealingB': 1.0962019018957214, 'kAnnealingStart': 5.687510069643766, 'kSkipRatio': 0.5169038905248448, 'kTargetDeterminationTrials': 3, 'kAttractionRatio': 0.06918479898662534, 'kMaxAttractionDistance': 25, 'kStartAttraction': 0.3890993538236736}. Best is trial 25 with value: 7992.025974025974.\u001b[0m\n"
     ]
    },
    {
     "name": "stdout",
     "output_type": "stream",
     "text": [
      "Updated! 7992.025974025974\n",
      "index_parallel='0026'\n"
     ]
    },
    {
     "name": "stderr",
     "output_type": "stream",
     "text": [
      "\u001b[32m[I 2022-08-15 23:23:51,234]\u001b[0m Trial 26 finished with value: 7941.151515151515 and parameters: {'kErase': 2, 'kRadius': 5, 'kAnnealingA': 9.14820416000943, 'kAnnealingB': 1.1729627522410306, 'kAnnealingStart': 3.211660648267476, 'kSkipRatio': 0.6217446126333098, 'kTargetDeterminationTrials': 12, 'kAttractionRatio': 0.07048458360191787, 'kMaxAttractionDistance': 22, 'kStartAttraction': 0.410144816990164}. Best is trial 25 with value: 7992.025974025974.\u001b[0m\n"
     ]
    },
    {
     "name": "stdout",
     "output_type": "stream",
     "text": [
      "index_parallel='0027'\n"
     ]
    },
    {
     "name": "stderr",
     "output_type": "stream",
     "text": [
      "\u001b[32m[I 2022-08-15 23:28:10,570]\u001b[0m Trial 27 finished with value: 7831.887445887446 and parameters: {'kErase': 2, 'kRadius': 4, 'kAnnealingA': 14.727806085211661, 'kAnnealingB': 1.3315371048147944, 'kAnnealingStart': 1.024442732319369, 'kSkipRatio': 0.6542728495322647, 'kTargetDeterminationTrials': 4, 'kAttractionRatio': 0.06968406957977162, 'kMaxAttractionDistance': 24, 'kStartAttraction': 0.46466624218526775}. Best is trial 25 with value: 7992.025974025974.\u001b[0m\n"
     ]
    },
    {
     "name": "stdout",
     "output_type": "stream",
     "text": [
      "index_parallel='0028'\n"
     ]
    },
    {
     "name": "stderr",
     "output_type": "stream",
     "text": [
      "\u001b[32m[I 2022-08-15 23:32:29,837]\u001b[0m Trial 28 finished with value: 7652.164502164502 and parameters: {'kErase': 3, 'kRadius': 5, 'kAnnealingA': 8.540970846121734, 'kAnnealingB': 1.9192790364854926, 'kAnnealingStart': 2.8047280993796218, 'kSkipRatio': 0.5182708800766477, 'kTargetDeterminationTrials': 6, 'kAttractionRatio': 0.12236961053161886, 'kMaxAttractionDistance': 30, 'kStartAttraction': 0.08495266962745406}. Best is trial 25 with value: 7992.025974025974.\u001b[0m\n"
     ]
    },
    {
     "name": "stdout",
     "output_type": "stream",
     "text": [
      "index_parallel='0029'\n"
     ]
    },
    {
     "name": "stderr",
     "output_type": "stream",
     "text": [
      "\u001b[32m[I 2022-08-15 23:36:48,899]\u001b[0m Trial 29 finished with value: 8005.549783549784 and parameters: {'kErase': 2, 'kRadius': 4, 'kAnnealingA': 13.001908680178136, 'kAnnealingB': 1.0114849218612483, 'kAnnealingStart': 3.9373099652388857, 'kSkipRatio': 0.6269022486180411, 'kTargetDeterminationTrials': 1, 'kAttractionRatio': 0.19593869582313606, 'kMaxAttractionDistance': 21, 'kStartAttraction': 0.4953531239924316}. Best is trial 29 with value: 8005.549783549784.\u001b[0m\n"
     ]
    },
    {
     "name": "stdout",
     "output_type": "stream",
     "text": [
      "Updated! 8005.549783549784\n",
      "index_parallel='0030'\n"
     ]
    },
    {
     "name": "stderr",
     "output_type": "stream",
     "text": [
      "\u001b[32m[I 2022-08-15 23:41:07,841]\u001b[0m Trial 30 finished with value: 7991.415584415585 and parameters: {'kErase': 2, 'kRadius': 4, 'kAnnealingA': 12.476870591969687, 'kAnnealingB': 1.0997513587814094, 'kAnnealingStart': 1.7997509080054053, 'kSkipRatio': 0.6369852453782975, 'kTargetDeterminationTrials': 1, 'kAttractionRatio': 0.2578043547985953, 'kMaxAttractionDistance': 19, 'kStartAttraction': 0.547570770932206}. Best is trial 29 with value: 8005.549783549784.\u001b[0m\n"
     ]
    },
    {
     "name": "stdout",
     "output_type": "stream",
     "text": [
      "index_parallel='0031'\n"
     ]
    },
    {
     "name": "stderr",
     "output_type": "stream",
     "text": [
      "\u001b[32m[I 2022-08-15 23:45:26,910]\u001b[0m Trial 31 finished with value: 7969.774891774891 and parameters: {'kErase': 2, 'kRadius': 4, 'kAnnealingA': 12.667173256330422, 'kAnnealingB': 0.9958820510567656, 'kAnnealingStart': 1.905082447753722, 'kSkipRatio': 0.644345950708513, 'kTargetDeterminationTrials': 1, 'kAttractionRatio': 0.29539030361066854, 'kMaxAttractionDistance': 15, 'kStartAttraction': 0.5263037226569299}. Best is trial 29 with value: 8005.549783549784.\u001b[0m\n"
     ]
    },
    {
     "name": "stdout",
     "output_type": "stream",
     "text": [
      "index_parallel='0032'\n"
     ]
    },
    {
     "name": "stderr",
     "output_type": "stream",
     "text": [
      "\u001b[32m[I 2022-08-15 23:49:45,616]\u001b[0m Trial 32 finished with value: 8003.805194805195 and parameters: {'kErase': 2, 'kRadius': 4, 'kAnnealingA': 12.59909852575095, 'kAnnealingB': 0.9465173919581656, 'kAnnealingStart': 1.7635242820759978, 'kSkipRatio': 0.6806387212954284, 'kTargetDeterminationTrials': 1, 'kAttractionRatio': 0.31076218532088334, 'kMaxAttractionDistance': 16, 'kStartAttraction': 0.5182832282752985}. Best is trial 29 with value: 8005.549783549784.\u001b[0m\n"
     ]
    },
    {
     "name": "stdout",
     "output_type": "stream",
     "text": [
      "index_parallel='0033'\n"
     ]
    },
    {
     "name": "stderr",
     "output_type": "stream",
     "text": [
      "\u001b[32m[I 2022-08-15 23:54:04,479]\u001b[0m Trial 33 finished with value: 7891.969696969697 and parameters: {'kErase': 2, 'kRadius': 4, 'kAnnealingA': 12.040835057500168, 'kAnnealingB': 0.8651074998301396, 'kAnnealingStart': 1.3701891874852188, 'kSkipRatio': 0.7001024708109231, 'kTargetDeterminationTrials': 1, 'kAttractionRatio': 0.6508174290813027, 'kMaxAttractionDistance': 16, 'kStartAttraction': 0.5937260058208593}. Best is trial 29 with value: 8005.549783549784.\u001b[0m\n"
     ]
    },
    {
     "name": "stdout",
     "output_type": "stream",
     "text": [
      "index_parallel='0034'\n"
     ]
    },
    {
     "name": "stderr",
     "output_type": "stream",
     "text": [
      "\u001b[32m[I 2022-08-15 23:58:23,574]\u001b[0m Trial 34 finished with value: 7718.021645021645 and parameters: {'kErase': 3, 'kRadius': 4, 'kAnnealingA': 14.94671518472961, 'kAnnealingB': 1.2845226863812382, 'kAnnealingStart': 2.187036075983718, 'kSkipRatio': 0.6979404317018331, 'kTargetDeterminationTrials': 1, 'kAttractionRatio': 0.4648493142420469, 'kMaxAttractionDistance': 8, 'kStartAttraction': 0.13090087195651692}. Best is trial 29 with value: 8005.549783549784.\u001b[0m\n"
     ]
    },
    {
     "name": "stdout",
     "output_type": "stream",
     "text": [
      "index_parallel='0035'\n"
     ]
    },
    {
     "name": "stderr",
     "output_type": "stream",
     "text": [
      "\u001b[32m[I 2022-08-16 00:02:42,725]\u001b[0m Trial 35 finished with value: 7638.7229437229435 and parameters: {'kErase': 2, 'kRadius': 4, 'kAnnealingA': 13.384590921543598, 'kAnnealingB': 0.8724615662973394, 'kAnnealingStart': 1.4828433107194756, 'kSkipRatio': 0.5502486064510379, 'kTargetDeterminationTrials': 2, 'kAttractionRatio': 0.18723455359042024, 'kMaxAttractionDistance': 13, 'kStartAttraction': 0.05546990845205387}. Best is trial 29 with value: 8005.549783549784.\u001b[0m\n"
     ]
    },
    {
     "name": "stdout",
     "output_type": "stream",
     "text": [
      "index_parallel='0036'\n"
     ]
    },
    {
     "name": "stderr",
     "output_type": "stream",
     "text": [
      "\u001b[32m[I 2022-08-16 00:07:01,700]\u001b[0m Trial 36 finished with value: 7909.008658008658 and parameters: {'kErase': 2, 'kRadius': 5, 'kAnnealingA': 10.324705260044762, 'kAnnealingB': 0.6709753020950359, 'kAnnealingStart': 2.3923244812973374, 'kSkipRatio': 0.5958043850370269, 'kTargetDeterminationTrials': 1, 'kAttractionRatio': 0.34799465720655615, 'kMaxAttractionDistance': 20, 'kStartAttraction': 0.5756547743674632}. Best is trial 29 with value: 8005.549783549784.\u001b[0m\n"
     ]
    },
    {
     "name": "stdout",
     "output_type": "stream",
     "text": [
      "index_parallel='0037'\n"
     ]
    },
    {
     "name": "stderr",
     "output_type": "stream",
     "text": [
      "\u001b[32m[I 2022-08-16 00:11:21,095]\u001b[0m Trial 37 finished with value: 7526.584415584415 and parameters: {'kErase': 3, 'kRadius': 5, 'kAnnealingA': 5.974424257932199, 'kAnnealingB': 1.7362759027128394, 'kAnnealingStart': 1.7708906952784116, 'kSkipRatio': 0.787145279962914, 'kTargetDeterminationTrials': 1, 'kAttractionRatio': 0.20996833488108346, 'kMaxAttractionDistance': 17, 'kStartAttraction': 0.006885371825440885}. Best is trial 29 with value: 8005.549783549784.\u001b[0m\n"
     ]
    },
    {
     "name": "stdout",
     "output_type": "stream",
     "text": [
      "index_parallel='0038'\n"
     ]
    },
    {
     "name": "stderr",
     "output_type": "stream",
     "text": [
      "\u001b[32m[I 2022-08-16 00:15:40,196]\u001b[0m Trial 38 finished with value: 7974.458874458875 and parameters: {'kErase': 2, 'kRadius': 4, 'kAnnealingA': 12.648987129865395, 'kAnnealingB': 1.1856218737950688, 'kAnnealingStart': 3.8651379828557437, 'kSkipRatio': 0.5251269042149059, 'kTargetDeterminationTrials': 2, 'kAttractionRatio': 0.15330086617203284, 'kMaxAttractionDistance': 26, 'kStartAttraction': 0.2569015781858004}. Best is trial 29 with value: 8005.549783549784.\u001b[0m\n"
     ]
    },
    {
     "name": "stdout",
     "output_type": "stream",
     "text": [
      "index_parallel='0039'\n"
     ]
    },
    {
     "name": "stderr",
     "output_type": "stream",
     "text": [
      "\u001b[32m[I 2022-08-16 00:19:59,107]\u001b[0m Trial 39 finished with value: 7681.8138528138525 and parameters: {'kErase': 3, 'kRadius': 4, 'kAnnealingA': 10.70478795165412, 'kAnnealingB': 0.9917094084455573, 'kAnnealingStart': 1.1826804334966834, 'kSkipRatio': 0.5770643743966866, 'kTargetDeterminationTrials': 1, 'kAttractionRatio': 0.25091740931247936, 'kMaxAttractionDistance': 14, 'kStartAttraction': 0.17222309485912063}. Best is trial 29 with value: 8005.549783549784.\u001b[0m\n"
     ]
    },
    {
     "name": "stdout",
     "output_type": "stream",
     "text": [
      "index_parallel='0040'\n"
     ]
    },
    {
     "name": "stderr",
     "output_type": "stream",
     "text": [
      "\u001b[32m[I 2022-08-16 00:24:18,520]\u001b[0m Trial 40 finished with value: 7054.974025974026 and parameters: {'kErase': 4, 'kRadius': 5, 'kAnnealingA': 7.085004997850955, 'kAnnealingB': 1.4086649379734764, 'kAnnealingStart': 1.6772852225284702, 'kSkipRatio': 0.49674243907889015, 'kTargetDeterminationTrials': 3, 'kAttractionRatio': 0.38015562069970804, 'kMaxAttractionDistance': 9, 'kStartAttraction': 0.01614003902582292}. Best is trial 29 with value: 8005.549783549784.\u001b[0m\n"
     ]
    },
    {
     "name": "stdout",
     "output_type": "stream",
     "text": [
      "index_parallel='0041'\n"
     ]
    },
    {
     "name": "stderr",
     "output_type": "stream",
     "text": [
      "\u001b[32m[I 2022-08-16 00:28:37,916]\u001b[0m Trial 41 finished with value: 7965.450216450216 and parameters: {'kErase': 2, 'kRadius': 4, 'kAnnealingA': 12.513358443326291, 'kAnnealingB': 1.1944927287029332, 'kAnnealingStart': 4.07639369413292, 'kSkipRatio': 0.5253577073529165, 'kTargetDeterminationTrials': 2, 'kAttractionRatio': 0.13296766203995095, 'kMaxAttractionDistance': 25, 'kStartAttraction': 0.2501445077845143}. Best is trial 29 with value: 8005.549783549784.\u001b[0m\n"
     ]
    },
    {
     "name": "stdout",
     "output_type": "stream",
     "text": [
      "index_parallel='0042'\n"
     ]
    },
    {
     "name": "stderr",
     "output_type": "stream",
     "text": [
      "\u001b[32m[I 2022-08-16 00:32:57,044]\u001b[0m Trial 42 finished with value: 7761.428571428572 and parameters: {'kErase': 2, 'kRadius': 4, 'kAnnealingA': 13.50551767283638, 'kAnnealingB': 1.508774123698517, 'kAnnealingStart': 3.5847427621206913, 'kSkipRatio': 0.6675808241113735, 'kTargetDeterminationTrials': 2, 'kAttractionRatio': 0.09695324258555259, 'kMaxAttractionDistance': 20, 'kStartAttraction': 0.0034863627419828235}. Best is trial 29 with value: 8005.549783549784.\u001b[0m\n"
     ]
    },
    {
     "name": "stdout",
     "output_type": "stream",
     "text": [
      "index_parallel='0043'\n"
     ]
    },
    {
     "name": "stderr",
     "output_type": "stream",
     "text": [
      "\u001b[32m[I 2022-08-16 00:37:15,865]\u001b[0m Trial 43 finished with value: 8037.060606060606 and parameters: {'kErase': 2, 'kRadius': 4, 'kAnnealingA': 9.854250870071025, 'kAnnealingB': 0.8152868625587442, 'kAnnealingStart': 8.305066784642367, 'kSkipRatio': 0.6172437296686196, 'kTargetDeterminationTrials': 1, 'kAttractionRatio': 0.8103354344301232, 'kMaxAttractionDistance': 28, 'kStartAttraction': 0.6076911471997425}. Best is trial 43 with value: 8037.060606060606.\u001b[0m\n"
     ]
    },
    {
     "name": "stdout",
     "output_type": "stream",
     "text": [
      "Updated! 8037.060606060606\n",
      "index_parallel='0044'\n"
     ]
    },
    {
     "name": "stderr",
     "output_type": "stream",
     "text": [
      "\u001b[32m[I 2022-08-16 00:41:35,281]\u001b[0m Trial 44 finished with value: 8089.406926406927 and parameters: {'kErase': 2, 'kRadius': 4, 'kAnnealingA': 9.622046491212947, 'kAnnealingB': 0.7582932719399865, 'kAnnealingStart': 8.882538610152094, 'kSkipRatio': 0.7389750201612673, 'kTargetDeterminationTrials': 1, 'kAttractionRatio': 0.730919094530327, 'kMaxAttractionDistance': 41, 'kStartAttraction': 0.6187954443108655}. Best is trial 44 with value: 8089.406926406927.\u001b[0m\n"
     ]
    },
    {
     "name": "stdout",
     "output_type": "stream",
     "text": [
      "Updated! 8089.406926406927\n",
      "index_parallel='0045'\n"
     ]
    },
    {
     "name": "stderr",
     "output_type": "stream",
     "text": [
      "\u001b[32m[I 2022-08-16 00:45:54,614]\u001b[0m Trial 45 finished with value: 8071.7835497835495 and parameters: {'kErase': 3, 'kRadius': 4, 'kAnnealingA': 5.164610056607805, 'kAnnealingB': 0.7294295110466806, 'kAnnealingStart': 7.964645873955459, 'kSkipRatio': 0.7517176444309374, 'kTargetDeterminationTrials': 1, 'kAttractionRatio': 0.8555480930678098, 'kMaxAttractionDistance': 42, 'kStartAttraction': 0.6857777427883963}. Best is trial 44 with value: 8089.406926406927.\u001b[0m\n"
     ]
    },
    {
     "name": "stdout",
     "output_type": "stream",
     "text": [
      "index_parallel='0046'\n"
     ]
    },
    {
     "name": "stderr",
     "output_type": "stream",
     "text": [
      "\u001b[32m[I 2022-08-16 00:50:13,988]\u001b[0m Trial 46 finished with value: 8148.601731601731 and parameters: {'kErase': 3, 'kRadius': 4, 'kAnnealingA': 5.821112662615324, 'kAnnealingB': 0.5997321312698571, 'kAnnealingStart': 10.819394826606043, 'kSkipRatio': 0.7437913552157744, 'kTargetDeterminationTrials': 1, 'kAttractionRatio': 0.8128880694847109, 'kMaxAttractionDistance': 41, 'kStartAttraction': 0.7159039402052949}. Best is trial 46 with value: 8148.601731601731.\u001b[0m\n"
     ]
    },
    {
     "name": "stdout",
     "output_type": "stream",
     "text": [
      "Updated! 8148.601731601731\n",
      "index_parallel='0047'\n"
     ]
    },
    {
     "name": "stderr",
     "output_type": "stream",
     "text": [
      "\u001b[32m[I 2022-08-16 00:54:33,385]\u001b[0m Trial 47 finished with value: 7965.952380952381 and parameters: {'kErase': 4, 'kRadius': 3, 'kAnnealingA': 5.126862048071002, 'kAnnealingB': 0.6217370665769121, 'kAnnealingStart': 11.154972940027722, 'kSkipRatio': 0.7435551474704404, 'kTargetDeterminationTrials': 1, 'kAttractionRatio': 0.8783700313908186, 'kMaxAttractionDistance': 41, 'kStartAttraction': 0.8866226596824712}. Best is trial 46 with value: 8148.601731601731.\u001b[0m\n"
     ]
    },
    {
     "name": "stdout",
     "output_type": "stream",
     "text": [
      "index_parallel='0048'\n"
     ]
    },
    {
     "name": "stderr",
     "output_type": "stream",
     "text": [
      "\u001b[32m[I 2022-08-16 00:58:52,636]\u001b[0m Trial 48 finished with value: 8121.580086580087 and parameters: {'kErase': 3, 'kRadius': 5, 'kAnnealingA': 9.22944904913818, 'kAnnealingB': 0.5303983134703598, 'kAnnealingStart': 8.842089751308091, 'kSkipRatio': 0.7313234850112245, 'kTargetDeterminationTrials': 1, 'kAttractionRatio': 0.8612115172116728, 'kMaxAttractionDistance': 67, 'kStartAttraction': 0.6452158738200536}. Best is trial 46 with value: 8148.601731601731.\u001b[0m\n"
     ]
    },
    {
     "name": "stdout",
     "output_type": "stream",
     "text": [
      "index_parallel='0049'\n"
     ]
    },
    {
     "name": "stderr",
     "output_type": "stream",
     "text": [
      "\u001b[32m[I 2022-08-16 01:03:11,644]\u001b[0m Trial 49 finished with value: 8073.121212121212 and parameters: {'kErase': 3, 'kRadius': 6, 'kAnnealingA': 5.963297617920523, 'kAnnealingB': 0.5470147780722308, 'kAnnealingStart': 8.333362174839946, 'kSkipRatio': 0.7360059655815595, 'kTargetDeterminationTrials': 1, 'kAttractionRatio': 0.8207162572568542, 'kMaxAttractionDistance': 64, 'kStartAttraction': 0.6815754874387159}. Best is trial 46 with value: 8148.601731601731.\u001b[0m\n"
     ]
    },
    {
     "name": "stdout",
     "output_type": "stream",
     "text": [
      "index_parallel='0050'\n"
     ]
    },
    {
     "name": "stderr",
     "output_type": "stream",
     "text": [
      "\u001b[32m[I 2022-08-16 01:07:30,833]\u001b[0m Trial 50 finished with value: 8129.839826839827 and parameters: {'kErase': 3, 'kRadius': 6, 'kAnnealingA': 2.2639541984875127, 'kAnnealingB': 0.7361877888173439, 'kAnnealingStart': 18.50683032177189, 'kSkipRatio': 0.7400776154162302, 'kTargetDeterminationTrials': 1, 'kAttractionRatio': 0.5215101528850579, 'kMaxAttractionDistance': 64, 'kStartAttraction': 0.6827139620653798}. Best is trial 46 with value: 8148.601731601731.\u001b[0m\n"
     ]
    },
    {
     "name": "stdout",
     "output_type": "stream",
     "text": [
      "index_parallel='0051'\n"
     ]
    },
    {
     "name": "stderr",
     "output_type": "stream",
     "text": [
      "\u001b[32m[I 2022-08-16 01:11:49,973]\u001b[0m Trial 51 finished with value: 8169.242424242424 and parameters: {'kErase': 3, 'kRadius': 6, 'kAnnealingA': 1.3010570058150372, 'kAnnealingB': 0.567600312176857, 'kAnnealingStart': 22.29811316452909, 'kSkipRatio': 0.733682118609247, 'kTargetDeterminationTrials': 1, 'kAttractionRatio': 0.5681321627295073, 'kMaxAttractionDistance': 67, 'kStartAttraction': 0.735819748530746}. Best is trial 51 with value: 8169.242424242424.\u001b[0m\n"
     ]
    },
    {
     "name": "stdout",
     "output_type": "stream",
     "text": [
      "Updated! 8169.242424242424\n",
      "index_parallel='0052'\n"
     ]
    },
    {
     "name": "stderr",
     "output_type": "stream",
     "text": [
      "\u001b[32m[I 2022-08-16 01:16:09,204]\u001b[0m Trial 52 finished with value: 8118.666666666667 and parameters: {'kErase': 3, 'kRadius': 6, 'kAnnealingA': 1.8684999816193821, 'kAnnealingB': 0.5280630698819433, 'kAnnealingStart': 22.176211044876435, 'kSkipRatio': 0.7173013371449463, 'kTargetDeterminationTrials': 1, 'kAttractionRatio': 0.5646138322486602, 'kMaxAttractionDistance': 69, 'kStartAttraction': 0.6927047398949467}. Best is trial 51 with value: 8169.242424242424.\u001b[0m\n"
     ]
    },
    {
     "name": "stdout",
     "output_type": "stream",
     "text": [
      "index_parallel='0053'\n"
     ]
    },
    {
     "name": "stderr",
     "output_type": "stream",
     "text": [
      "\u001b[32m[I 2022-08-16 01:20:28,686]\u001b[0m Trial 53 finished with value: 8099.549783549784 and parameters: {'kErase': 3, 'kRadius': 6, 'kAnnealingA': 1.4237953128484182, 'kAnnealingB': 0.530514179503689, 'kAnnealingStart': 19.835296979125417, 'kSkipRatio': 0.7927220708875021, 'kTargetDeterminationTrials': 1, 'kAttractionRatio': 0.5126743210733722, 'kMaxAttractionDistance': 75, 'kStartAttraction': 0.8446714731096707}. Best is trial 51 with value: 8169.242424242424.\u001b[0m\n"
     ]
    },
    {
     "name": "stdout",
     "output_type": "stream",
     "text": [
      "index_parallel='0054'\n"
     ]
    },
    {
     "name": "stderr",
     "output_type": "stream",
     "text": [
      "\u001b[32m[I 2022-08-16 01:24:48,422]\u001b[0m Trial 54 finished with value: 8053.069264069264 and parameters: {'kErase': 4, 'kRadius': 6, 'kAnnealingA': 1.3928773804624404, 'kAnnealingB': 0.5721980793549573, 'kAnnealingStart': 20.31686725348814, 'kSkipRatio': 0.7988855661125356, 'kTargetDeterminationTrials': 2, 'kAttractionRatio': 0.5323021466540678, 'kMaxAttractionDistance': 68, 'kStartAttraction': 0.8982020700444766}. Best is trial 51 with value: 8169.242424242424.\u001b[0m\n"
     ]
    },
    {
     "name": "stdout",
     "output_type": "stream",
     "text": [
      "index_parallel='0055'\n"
     ]
    },
    {
     "name": "stderr",
     "output_type": "stream",
     "text": [
      "\u001b[32m[I 2022-08-16 01:29:07,604]\u001b[0m Trial 55 finished with value: 7680.493506493506 and parameters: {'kErase': 3, 'kRadius': 6, 'kAnnealingA': 1.6269704943829444, 'kAnnealingB': 0.25230225400915385, 'kAnnealingStart': 41.3598201416685, 'kSkipRatio': 0.7729692688529926, 'kTargetDeterminationTrials': 2, 'kAttractionRatio': 0.5903840416344351, 'kMaxAttractionDistance': 80, 'kStartAttraction': 0.3932811481908054}. Best is trial 51 with value: 8169.242424242424.\u001b[0m\n"
     ]
    },
    {
     "name": "stdout",
     "output_type": "stream",
     "text": [
      "index_parallel='0056'\n"
     ]
    },
    {
     "name": "stderr",
     "output_type": "stream",
     "text": [
      "\u001b[32m[I 2022-08-16 01:33:26,628]\u001b[0m Trial 56 finished with value: 7916.316017316018 and parameters: {'kErase': 3, 'kRadius': 6, 'kAnnealingA': -1.7664279844369128, 'kAnnealingB': 0.478323953746692, 'kAnnealingStart': 19.308155554271806, 'kSkipRatio': 0.711486133492421, 'kTargetDeterminationTrials': 1, 'kAttractionRatio': 0.46284219510645214, 'kMaxAttractionDistance': 99, 'kStartAttraction': 0.20597664185414896}. Best is trial 51 with value: 8169.242424242424.\u001b[0m\n"
     ]
    },
    {
     "name": "stdout",
     "output_type": "stream",
     "text": [
      "index_parallel='0057'\n"
     ]
    },
    {
     "name": "stderr",
     "output_type": "stream",
     "text": [
      "\u001b[32m[I 2022-08-16 01:37:45,687]\u001b[0m Trial 57 finished with value: 8099.415584415585 and parameters: {'kErase': 3, 'kRadius': 6, 'kAnnealingA': 2.4529608524720783, 'kAnnealingB': 0.12339362169573542, 'kAnnealingStart': 26.360752937220518, 'kSkipRatio': 0.768994571664466, 'kTargetDeterminationTrials': 1, 'kAttractionRatio': 0.5475403940244953, 'kMaxAttractionDistance': 76, 'kStartAttraction': 0.7114343076049932}. Best is trial 51 with value: 8169.242424242424.\u001b[0m\n"
     ]
    },
    {
     "name": "stdout",
     "output_type": "stream",
     "text": [
      "index_parallel='0058'\n"
     ]
    },
    {
     "name": "stderr",
     "output_type": "stream",
     "text": [
      "\u001b[32m[I 2022-08-16 01:42:05,476]\u001b[0m Trial 58 finished with value: 7656.142857142857 and parameters: {'kErase': 4, 'kRadius': 6, 'kAnnealingA': -2.1429156356953, 'kAnnealingB': 0.2713495109596532, 'kAnnealingStart': 36.41268862820958, 'kSkipRatio': 0.723384806138237, 'kTargetDeterminationTrials': 5, 'kAttractionRatio': 0.6835029974264869, 'kMaxAttractionDistance': 58, 'kStartAttraction': 0.40333697771653526}. Best is trial 51 with value: 8169.242424242424.\u001b[0m\n"
     ]
    },
    {
     "name": "stdout",
     "output_type": "stream",
     "text": [
      "index_parallel='0059'\n"
     ]
    },
    {
     "name": "stderr",
     "output_type": "stream",
     "text": [
      "\u001b[32m[I 2022-08-16 01:46:24,881]\u001b[0m Trial 59 finished with value: 7951.939393939394 and parameters: {'kErase': 3, 'kRadius': 6, 'kAnnealingA': -0.7962337855533219, 'kAnnealingB': 2.6360744383737975, 'kAnnealingStart': 13.684161207355938, 'kSkipRatio': 0.682470979946552, 'kTargetDeterminationTrials': 2, 'kAttractionRatio': 0.42475350972874454, 'kMaxAttractionDistance': 87, 'kStartAttraction': 0.3097785366615411}. Best is trial 51 with value: 8169.242424242424.\u001b[0m\n"
     ]
    },
    {
     "name": "stdout",
     "output_type": "stream",
     "text": [
      "index_parallel='0060'\n"
     ]
    },
    {
     "name": "stderr",
     "output_type": "stream",
     "text": [
      "\u001b[32m[I 2022-08-16 01:50:44,156]\u001b[0m Trial 60 finished with value: 8078.2770562770565 and parameters: {'kErase': 3, 'kRadius': 6, 'kAnnealingA': 0.364691253848174, 'kAnnealingB': 0.5028043571454952, 'kAnnealingStart': 23.3333738159269, 'kSkipRatio': 0.7550344443255554, 'kTargetDeterminationTrials': 9, 'kAttractionRatio': 0.583151539734572, 'kMaxAttractionDistance': 71, 'kStartAttraction': 0.7790209259764131}. Best is trial 51 with value: 8169.242424242424.\u001b[0m\n"
     ]
    },
    {
     "name": "stdout",
     "output_type": "stream",
     "text": [
      "index_parallel='0061'\n"
     ]
    },
    {
     "name": "stderr",
     "output_type": "stream",
     "text": [
      "\u001b[32m[I 2022-08-16 01:55:03,112]\u001b[0m Trial 61 finished with value: 8040.770562770563 and parameters: {'kErase': 3, 'kRadius': 6, 'kAnnealingA': 2.421853981277416, 'kAnnealingB': 0.07790955180678005, 'kAnnealingStart': 31.152721684434287, 'kSkipRatio': 0.778732795936682, 'kTargetDeterminationTrials': 1, 'kAttractionRatio': 0.6213387254496349, 'kMaxAttractionDistance': 76, 'kStartAttraction': 0.7249065005953329}. Best is trial 51 with value: 8169.242424242424.\u001b[0m\n"
     ]
    },
    {
     "name": "stdout",
     "output_type": "stream",
     "text": [
      "index_parallel='0062'\n"
     ]
    },
    {
     "name": "stderr",
     "output_type": "stream",
     "text": [
      "\u001b[32m[I 2022-08-16 01:59:22,629]\u001b[0m Trial 62 finished with value: 7553.670995670996 and parameters: {'kErase': 3, 'kRadius': 6, 'kAnnealingA': 3.556289397186446, 'kAnnealingB': 0.17139450470364848, 'kAnnealingStart': 58.94938516043918, 'kSkipRatio': 0.7964651471085132, 'kTargetDeterminationTrials': 1, 'kAttractionRatio': 0.5187239854880764, 'kMaxAttractionDistance': 60, 'kStartAttraction': 0.8902417250879956}. Best is trial 51 with value: 8169.242424242424.\u001b[0m\n"
     ]
    },
    {
     "name": "stdout",
     "output_type": "stream",
     "text": [
      "index_parallel='0063'\n"
     ]
    },
    {
     "name": "stderr",
     "output_type": "stream",
     "text": [
      "\u001b[32m[I 2022-08-16 02:03:41,912]\u001b[0m Trial 63 finished with value: 8018.878787878788 and parameters: {'kErase': 3, 'kRadius': 6, 'kAnnealingA': 0.6815161341241882, 'kAnnealingB': 0.6323452482951354, 'kAnnealingStart': 17.64253190929325, 'kSkipRatio': 0.723478667455194, 'kTargetDeterminationTrials': 1, 'kAttractionRatio': 0.7132113253481631, 'kMaxAttractionDistance': 88, 'kStartAttraction': 0.4711698537561054}. Best is trial 51 with value: 8169.242424242424.\u001b[0m\n"
     ]
    },
    {
     "name": "stdout",
     "output_type": "stream",
     "text": [
      "index_parallel='0064'\n"
     ]
    },
    {
     "name": "stderr",
     "output_type": "stream",
     "text": [
      "\u001b[32m[I 2022-08-16 02:08:00,844]\u001b[0m Trial 64 finished with value: 8069.865800865801 and parameters: {'kErase': 3, 'kRadius': 5, 'kAnnealingA': 2.139514622096862, 'kAnnealingB': 0.37229783728143684, 'kAnnealingStart': 24.47246647758807, 'kSkipRatio': 0.7642289946848515, 'kTargetDeterminationTrials': 1, 'kAttractionRatio': 0.5112180505724425, 'kMaxAttractionDistance': 52, 'kStartAttraction': 0.687766219818147}. Best is trial 51 with value: 8169.242424242424.\u001b[0m\n"
     ]
    },
    {
     "name": "stdout",
     "output_type": "stream",
     "text": [
      "index_parallel='0065'\n"
     ]
    },
    {
     "name": "stderr",
     "output_type": "stream",
     "text": [
      "\u001b[32m[I 2022-08-16 02:12:20,298]\u001b[0m Trial 65 finished with value: 7828.25974025974 and parameters: {'kErase': 4, 'kRadius': 6, 'kAnnealingA': 4.310107152525109, 'kAnnealingB': 0.43893946223116226, 'kAnnealingStart': 10.75907923906241, 'kSkipRatio': 0.7063628207231647, 'kTargetDeterminationTrials': 7, 'kAttractionRatio': 0.369935761897905, 'kMaxAttractionDistance': 72, 'kStartAttraction': 0.30434699140722354}. Best is trial 51 with value: 8169.242424242424.\u001b[0m\n"
     ]
    },
    {
     "name": "stdout",
     "output_type": "stream",
     "text": [
      "index_parallel='0066'\n"
     ]
    },
    {
     "name": "stderr",
     "output_type": "stream",
     "text": [
      "\u001b[32m[I 2022-08-16 02:16:39,977]\u001b[0m Trial 66 finished with value: 7792.428571428572 and parameters: {'kErase': 5, 'kRadius': 5, 'kAnnealingA': -5.102566377906624, 'kAnnealingB': 0.3100945323641839, 'kAnnealingStart': 16.04962783577513, 'kSkipRatio': 0.7671980277720508, 'kTargetDeterminationTrials': 1, 'kAttractionRatio': 0.42226782929003376, 'kMaxAttractionDistance': 47, 'kStartAttraction': 0.40878806555598496}. Best is trial 51 with value: 8169.242424242424.\u001b[0m\n"
     ]
    },
    {
     "name": "stdout",
     "output_type": "stream",
     "text": [
      "index_parallel='0067'\n"
     ]
    },
    {
     "name": "stderr",
     "output_type": "stream",
     "text": [
      "\u001b[32m[I 2022-08-16 02:20:59,232]\u001b[0m Trial 67 finished with value: 8024.212121212121 and parameters: {'kErase': 3, 'kRadius': 6, 'kAnnealingA': -14.51471606332715, 'kAnnealingB': 0.1822295486838002, 'kAnnealingStart': 12.284265724629847, 'kSkipRatio': 0.7310662977931369, 'kTargetDeterminationTrials': 1, 'kAttractionRatio': 0.7179401034894662, 'kMaxAttractionDistance': 64, 'kStartAttraction': 0.703991861177744}. Best is trial 51 with value: 8169.242424242424.\u001b[0m\n"
     ]
    },
    {
     "name": "stdout",
     "output_type": "stream",
     "text": [
      "index_parallel='0068'\n"
     ]
    },
    {
     "name": "stderr",
     "output_type": "stream",
     "text": [
      "\u001b[32m[I 2022-08-16 02:25:18,666]\u001b[0m Trial 68 finished with value: 7809.584415584415 and parameters: {'kErase': 4, 'kRadius': 6, 'kAnnealingA': -10.734953533357206, 'kAnnealingB': 0.6922637916999432, 'kAnnealingStart': 31.1341584987338, 'kSkipRatio': 0.6874090257756117, 'kTargetDeterminationTrials': 5, 'kAttractionRatio': 0.5610161889632298, 'kMaxAttractionDistance': 82, 'kStartAttraction': 0.455577535915448}. Best is trial 51 with value: 8169.242424242424.\u001b[0m\n"
     ]
    },
    {
     "name": "stdout",
     "output_type": "stream",
     "text": [
      "index_parallel='0069'\n"
     ]
    },
    {
     "name": "stderr",
     "output_type": "stream",
     "text": [
      "\u001b[32m[I 2022-08-16 02:29:37,785]\u001b[0m Trial 69 finished with value: 7951.025974025974 and parameters: {'kErase': 3, 'kRadius': 6, 'kAnnealingA': 3.027436338262734, 'kAnnealingB': 0.07537374438028688, 'kAnnealingStart': 22.633707897644385, 'kSkipRatio': 0.6678515900141465, 'kTargetDeterminationTrials': 1, 'kAttractionRatio': 0.32535637334877565, 'kMaxAttractionDistance': 58, 'kStartAttraction': 0.36799770406605586}. Best is trial 51 with value: 8169.242424242424.\u001b[0m\n"
     ]
    },
    {
     "name": "stdout",
     "output_type": "stream",
     "text": [
      "index_parallel='0070'\n"
     ]
    },
    {
     "name": "stderr",
     "output_type": "stream",
     "text": [
      "\u001b[32m[I 2022-08-16 02:33:56,941]\u001b[0m Trial 70 finished with value: 7694.099567099567 and parameters: {'kErase': 3, 'kRadius': 5, 'kAnnealingA': 0.3376176771985131, 'kAnnealingB': 0.7886305700458304, 'kAnnealingStart': 49.68396019693651, 'kSkipRatio': 0.7445616278038578, 'kTargetDeterminationTrials': 1, 'kAttractionRatio': 0.4152631157298757, 'kMaxAttractionDistance': 46, 'kStartAttraction': 0.14935320316284798}. Best is trial 51 with value: 8169.242424242424.\u001b[0m\n"
     ]
    },
    {
     "name": "stdout",
     "output_type": "stream",
     "text": [
      "index_parallel='0071'\n"
     ]
    },
    {
     "name": "stderr",
     "output_type": "stream",
     "text": [
      "\u001b[32m[I 2022-08-16 02:38:16,019]\u001b[0m Trial 71 finished with value: 8080.398268398269 and parameters: {'kErase': 3, 'kRadius': 6, 'kAnnealingA': 7.422129680884087, 'kAnnealingB': 0.8981208923263151, 'kAnnealingStart': 14.147279429395132, 'kSkipRatio': 0.7807432708024722, 'kTargetDeterminationTrials': 1, 'kAttractionRatio': 0.6915692176094322, 'kMaxAttractionDistance': 54, 'kStartAttraction': 0.602414443017733}. Best is trial 51 with value: 8169.242424242424.\u001b[0m\n"
     ]
    },
    {
     "name": "stdout",
     "output_type": "stream",
     "text": [
      "index_parallel='0072'\n"
     ]
    },
    {
     "name": "stderr",
     "output_type": "stream",
     "text": [
      "\u001b[32m[I 2022-08-16 02:42:35,236]\u001b[0m Trial 72 finished with value: 8047.705627705628 and parameters: {'kErase': 3, 'kRadius': 6, 'kAnnealingA': 8.965689483372238, 'kAnnealingB': 0.7541097071675112, 'kAnnealingStart': 9.403347978115663, 'kSkipRatio': 0.7485241517891007, 'kTargetDeterminationTrials': 1, 'kAttractionRatio': 0.7817992686220485, 'kMaxAttractionDistance': 65, 'kStartAttraction': 0.5761358981686002}. Best is trial 51 with value: 8169.242424242424.\u001b[0m\n"
     ]
    },
    {
     "name": "stdout",
     "output_type": "stream",
     "text": [
      "index_parallel='0073'\n"
     ]
    },
    {
     "name": "stderr",
     "output_type": "stream",
     "text": [
      "\u001b[32m[I 2022-08-16 02:46:54,225]\u001b[0m Trial 73 finished with value: 8071.935064935065 and parameters: {'kErase': 3, 'kRadius': 5, 'kAnnealingA': -2.9304122264629635, 'kAnnealingB': 0.558524100718589, 'kAnnealingStart': 27.273005706321264, 'kSkipRatio': 0.7159792806009078, 'kTargetDeterminationTrials': 1, 'kAttractionRatio': 0.736075347149413, 'kMaxAttractionDistance': 91, 'kStartAttraction': 0.7307353325398989}. Best is trial 51 with value: 8169.242424242424.\u001b[0m\n"
     ]
    },
    {
     "name": "stdout",
     "output_type": "stream",
     "text": [
      "index_parallel='0074'\n"
     ]
    },
    {
     "name": "stderr",
     "output_type": "stream",
     "text": [
      "\u001b[32m[I 2022-08-16 02:51:13,685]\u001b[0m Trial 74 finished with value: 8089.69696969697 and parameters: {'kErase': 3, 'kRadius': 6, 'kAnnealingA': -0.6926087603773603, 'kAnnealingB': 0.49095731196342296, 'kAnnealingStart': 18.115388800592985, 'kSkipRatio': 0.7352630094848086, 'kTargetDeterminationTrials': 1, 'kAttractionRatio': 0.6030317340013337, 'kMaxAttractionDistance': 76, 'kStartAttraction': 0.5098482133516062}. Best is trial 51 with value: 8169.242424242424.\u001b[0m\n"
     ]
    },
    {
     "name": "stdout",
     "output_type": "stream",
     "text": [
      "index_parallel='0075'\n"
     ]
    },
    {
     "name": "stderr",
     "output_type": "stream",
     "text": [
      "\u001b[32m[I 2022-08-16 02:55:33,059]\u001b[0m Trial 75 finished with value: 7987.0952380952385 and parameters: {'kErase': 3, 'kRadius': 6, 'kAnnealingA': -1.1915503560051253, 'kAnnealingB': 0.4821243064790678, 'kAnnealingStart': 16.247602827096756, 'kSkipRatio': 0.7662155011228674, 'kTargetDeterminationTrials': 14, 'kAttractionRatio': 0.6430737530735557, 'kMaxAttractionDistance': 74, 'kStartAttraction': 0.4900335086459401}. Best is trial 51 with value: 8169.242424242424.\u001b[0m\n"
     ]
    },
    {
     "name": "stdout",
     "output_type": "stream",
     "text": [
      "index_parallel='0076'\n"
     ]
    },
    {
     "name": "stderr",
     "output_type": "stream",
     "text": [
      "\u001b[32m[I 2022-08-16 02:59:52,610]\u001b[0m Trial 76 finished with value: 7930.346320346321 and parameters: {'kErase': 3, 'kRadius': 6, 'kAnnealingA': 0.9789399048715997, 'kAnnealingB': 0.34895816702902605, 'kAnnealingStart': 19.802434853273496, 'kSkipRatio': 0.6927615288481579, 'kTargetDeterminationTrials': 4, 'kAttractionRatio': 0.484499643330553, 'kMaxAttractionDistance': 80, 'kStartAttraction': 0.26590525177157376}. Best is trial 51 with value: 8169.242424242424.\u001b[0m\n"
     ]
    },
    {
     "name": "stdout",
     "output_type": "stream",
     "text": [
      "index_parallel='0077'\n"
     ]
    },
    {
     "name": "stderr",
     "output_type": "stream",
     "text": [
      "\u001b[32m[I 2022-08-16 03:04:12,256]\u001b[0m Trial 77 finished with value: 8113.536796536797 and parameters: {'kErase': 3, 'kRadius': 6, 'kAnnealingA': -0.25577850969789906, 'kAnnealingB': 0.586733851933799, 'kAnnealingStart': 33.68959054215805, 'kSkipRatio': 0.7898978561402413, 'kTargetDeterminationTrials': 7, 'kAttractionRatio': 0.6107192138158098, 'kMaxAttractionDistance': 55, 'kStartAttraction': 0.7910578829322655}. Best is trial 51 with value: 8169.242424242424.\u001b[0m\n"
     ]
    },
    {
     "name": "stdout",
     "output_type": "stream",
     "text": [
      "index_parallel='0078'\n"
     ]
    },
    {
     "name": "stderr",
     "output_type": "stream",
     "text": [
      "\u001b[32m[I 2022-08-16 03:08:31,599]\u001b[0m Trial 78 finished with value: 7005.324675324675 and parameters: {'kErase': 3, 'kRadius': 6, 'kAnnealingA': 2.4427848645983232, 'kAnnealingB': 0.62362066477551, 'kAnnealingStart': 70.51677413175716, 'kSkipRatio': 0.7999768058320275, 'kTargetDeterminationTrials': 5, 'kAttractionRatio': 0.884159385585335, 'kMaxAttractionDistance': 53, 'kStartAttraction': 0.797111601757766}. Best is trial 51 with value: 8169.242424242424.\u001b[0m\n"
     ]
    },
    {
     "name": "stdout",
     "output_type": "stream",
     "text": [
      "index_parallel='0079'\n"
     ]
    },
    {
     "name": "stderr",
     "output_type": "stream",
     "text": [
      "\u001b[32m[I 2022-08-16 03:12:50,943]\u001b[0m Trial 79 finished with value: 7689.848484848485 and parameters: {'kErase': 3, 'kRadius': 5, 'kAnnealingA': 4.604764906988416, 'kAnnealingB': 0.21958664387427468, 'kAnnealingStart': 35.92855768289439, 'kSkipRatio': 0.7824961082976306, 'kTargetDeterminationTrials': 10, 'kAttractionRatio': 0.5361712670738269, 'kMaxAttractionDistance': 99, 'kStartAttraction': 0.0013118018140835582}. Best is trial 51 with value: 8169.242424242424.\u001b[0m\n"
     ]
    },
    {
     "name": "stdout",
     "output_type": "stream",
     "text": [
      "index_parallel='0080'\n"
     ]
    },
    {
     "name": "stderr",
     "output_type": "stream",
     "text": [
      "\u001b[32m[I 2022-08-16 03:17:10,354]\u001b[0m Trial 80 finished with value: 8006.541125541125 and parameters: {'kErase': 3, 'kRadius': 6, 'kAnnealingA': -4.967400453412805, 'kAnnealingB': 0.4083137838573341, 'kAnnealingStart': 25.988300850740707, 'kSkipRatio': 0.7602343306463691, 'kTargetDeterminationTrials': 11, 'kAttractionRatio': 0.47074210106997505, 'kMaxAttractionDistance': 36, 'kStartAttraction': 0.887155298508473}. Best is trial 51 with value: 8169.242424242424.\u001b[0m\n"
     ]
    },
    {
     "name": "stdout",
     "output_type": "stream",
     "text": [
      "index_parallel='0081'\n"
     ]
    },
    {
     "name": "stderr",
     "output_type": "stream",
     "text": [
      "\u001b[32m[I 2022-08-16 03:21:29,523]\u001b[0m Trial 81 finished with value: 8068.489177489178 and parameters: {'kErase': 3, 'kRadius': 6, 'kAnnealingA': -0.45980617545559666, 'kAnnealingB': 0.5669877796980174, 'kAnnealingStart': 21.496397082516495, 'kSkipRatio': 0.7280711872944393, 'kTargetDeterminationTrials': 6, 'kAttractionRatio': 0.612390088910633, 'kMaxAttractionDistance': 61, 'kStartAttraction': 0.5848775003758483}. Best is trial 51 with value: 8169.242424242424.\u001b[0m\n"
     ]
    },
    {
     "name": "stdout",
     "output_type": "stream",
     "text": [
      "index_parallel='0082'\n"
     ]
    },
    {
     "name": "stderr",
     "output_type": "stream",
     "text": [
      "\u001b[32m[I 2022-08-16 03:25:48,912]\u001b[0m Trial 82 finished with value: 8028.662337662337 and parameters: {'kErase': 3, 'kRadius': 6, 'kAnnealingA': 3.3026962263024955, 'kAnnealingB': 0.6795085600597403, 'kAnnealingStart': 17.389668884167442, 'kSkipRatio': 0.6616178682481635, 'kTargetDeterminationTrials': 20, 'kAttractionRatio': 0.3782320611203867, 'kMaxAttractionDistance': 76, 'kStartAttraction': 0.45032304761935277}. Best is trial 51 with value: 8169.242424242424.\u001b[0m\n"
     ]
    },
    {
     "name": "stdout",
     "output_type": "stream",
     "text": [
      "index_parallel='0083'\n"
     ]
    },
    {
     "name": "stderr",
     "output_type": "stream",
     "text": [
      "\u001b[32m[I 2022-08-16 03:30:08,378]\u001b[0m Trial 83 finished with value: 7972.411255411255 and parameters: {'kErase': 3, 'kRadius': 6, 'kAnnealingA': -3.8415959362067973, 'kAnnealingB': 0.5051534904316983, 'kAnnealingStart': 12.27182680430088, 'kSkipRatio': 0.7086182912630183, 'kTargetDeterminationTrials': 7, 'kAttractionRatio': 0.5774300819078991, 'kMaxAttractionDistance': 68, 'kStartAttraction': 0.5185505708437933}. Best is trial 51 with value: 8169.242424242424.\u001b[0m\n"
     ]
    },
    {
     "name": "stdout",
     "output_type": "stream",
     "text": [
      "index_parallel='0084'\n"
     ]
    },
    {
     "name": "stderr",
     "output_type": "stream",
     "text": [
      "\u001b[32m[I 2022-08-16 03:34:27,757]\u001b[0m Trial 84 finished with value: 7635.541125541125 and parameters: {'kErase': 3, 'kRadius': 6, 'kAnnealingA': 1.9517448143588965, 'kAnnealingB': 0.8225883189618057, 'kAnnealingStart': 37.113271348358325, 'kSkipRatio': 0.7518313269164338, 'kTargetDeterminationTrials': 18, 'kAttractionRatio': 0.7504179621476244, 'kMaxAttractionDistance': 45, 'kStartAttraction': 0.35775274555409137}. Best is trial 51 with value: 8169.242424242424.\u001b[0m\n"
     ]
    },
    {
     "name": "stdout",
     "output_type": "stream",
     "text": [
      "index_parallel='0085'\n"
     ]
    },
    {
     "name": "stderr",
     "output_type": "stream",
     "text": [
      "\u001b[32m[I 2022-08-16 03:38:47,134]\u001b[0m Trial 85 finished with value: 8010.147186147186 and parameters: {'kErase': 3, 'kRadius': 6, 'kAnnealingA': -0.3113094337841225, 'kAnnealingB': 0.30394956425246356, 'kAnnealingStart': 29.457525816127827, 'kSkipRatio': 0.7858716655787634, 'kTargetDeterminationTrials': 13, 'kAttractionRatio': 0.2845617899427776, 'kMaxAttractionDistance': 55, 'kStartAttraction': 0.6200297239107315}. Best is trial 51 with value: 8169.242424242424.\u001b[0m\n"
     ]
    },
    {
     "name": "stdout",
     "output_type": "stream",
     "text": [
      "index_parallel='0086'\n"
     ]
    },
    {
     "name": "stderr",
     "output_type": "stream",
     "text": [
      "\u001b[32m[I 2022-08-16 03:43:06,407]\u001b[0m Trial 86 finished with value: 7781.896103896104 and parameters: {'kErase': 4, 'kRadius': 6, 'kAnnealingA': -2.281032046160888, 'kAnnealingB': 5.5061849562734744e-05, 'kAnnealingStart': 14.600423482661064, 'kSkipRatio': 0.7371619579788851, 'kTargetDeterminationTrials': 7, 'kAttractionRatio': 0.40679186970351094, 'kMaxAttractionDistance': 5, 'kStartAttraction': 0.09093437895032364}. Best is trial 51 with value: 8169.242424242424.\u001b[0m\n"
     ]
    },
    {
     "name": "stdout",
     "output_type": "stream",
     "text": [
      "index_parallel='0087'\n"
     ]
    },
    {
     "name": "stderr",
     "output_type": "stream",
     "text": [
      "\u001b[32m[I 2022-08-16 03:47:25,840]\u001b[0m Trial 87 finished with value: 6841.909090909091 and parameters: {'kErase': 3, 'kRadius': 6, 'kAnnealingA': 1.3291082537874201, 'kAnnealingB': 0.43897029189549497, 'kAnnealingStart': 18.44750010350538, 'kSkipRatio': 0.25081790851969904, 'kTargetDeterminationTrials': 8, 'kAttractionRatio': 0.016776792533029092, 'kMaxAttractionDistance': 88, 'kStartAttraction': 0.72841607355227}. Best is trial 51 with value: 8169.242424242424.\u001b[0m\n"
     ]
    },
    {
     "name": "stdout",
     "output_type": "stream",
     "text": [
      "index_parallel='0088'\n"
     ]
    },
    {
     "name": "stderr",
     "output_type": "stream",
     "text": [
      "\u001b[32m[I 2022-08-16 03:51:44,956]\u001b[0m Trial 88 finished with value: 8132.398268398269 and parameters: {'kErase': 3, 'kRadius': 5, 'kAnnealingA': 6.637900278291162, 'kAnnealingB': 0.10647633116337296, 'kAnnealingStart': 25.11765364724052, 'kSkipRatio': 0.7198053629457941, 'kTargetDeterminationTrials': 6, 'kAttractionRatio': 0.8938125993196078, 'kMaxAttractionDistance': 67, 'kStartAttraction': 0.7853483907334595}. Best is trial 51 with value: 8169.242424242424.\u001b[0m\n"
     ]
    },
    {
     "name": "stdout",
     "output_type": "stream",
     "text": [
      "index_parallel='0089'\n"
     ]
    },
    {
     "name": "stderr",
     "output_type": "stream",
     "text": [
      "\u001b[32m[I 2022-08-16 03:56:04,309]\u001b[0m Trial 89 finished with value: 6879.402597402597 and parameters: {'kErase': 3, 'kRadius': 5, 'kAnnealingA': 6.206858738477794, 'kAnnealingB': 0.915930972684723, 'kAnnealingStart': 47.20479052366867, 'kSkipRatio': 0.7188403214601308, 'kTargetDeterminationTrials': 8, 'kAttractionRatio': 0.8065190653687542, 'kMaxAttractionDistance': 68, 'kStartAttraction': 0.7775011677131286}. Best is trial 51 with value: 8169.242424242424.\u001b[0m\n"
     ]
    },
    {
     "name": "stdout",
     "output_type": "stream",
     "text": [
      "index_parallel='0090'\n"
     ]
    },
    {
     "name": "stderr",
     "output_type": "stream",
     "text": [
      "\u001b[32m[I 2022-08-16 04:00:23,793]\u001b[0m Trial 90 finished with value: 7739.74025974026 and parameters: {'kErase': 3, 'kRadius': 5, 'kAnnealingA': 6.7725107252168115, 'kAnnealingB': 0.11098106556972365, 'kAnnealingStart': 7.1107464802010005, 'kSkipRatio': 0.697763285327873, 'kTargetDeterminationTrials': 6, 'kAttractionRatio': 0.8930910316225968, 'kMaxAttractionDistance': 50, 'kStartAttraction': 0.21230975711576117}. Best is trial 51 with value: 8169.242424242424.\u001b[0m\n"
     ]
    },
    {
     "name": "stdout",
     "output_type": "stream",
     "text": [
      "index_parallel='0091'\n"
     ]
    },
    {
     "name": "stderr",
     "output_type": "stream",
     "text": [
      "\u001b[32m[I 2022-08-16 04:04:43,115]\u001b[0m Trial 91 finished with value: 7951.588744588745 and parameters: {'kErase': 3, 'kRadius': 6, 'kAnnealingA': 3.9774650501465136, 'kAnnealingB': 0.6369469598988484, 'kAnnealingStart': 25.57751831034356, 'kSkipRatio': 0.7726540492565018, 'kTargetDeterminationTrials': 6, 'kAttractionRatio': 0.6059408336278492, 'kMaxAttractionDistance': 82, 'kStartAttraction': 0.6481191472969395}. Best is trial 51 with value: 8169.242424242424.\u001b[0m\n"
     ]
    },
    {
     "name": "stdout",
     "output_type": "stream",
     "text": [
      "index_parallel='0092'\n"
     ]
    },
    {
     "name": "stderr",
     "output_type": "stream",
     "text": [
      "\u001b[32m[I 2022-08-16 04:09:02,247]\u001b[0m Trial 92 finished with value: 7659.536796536797 and parameters: {'kErase': 3, 'kRadius': 6, 'kAnnealingA': 5.2359239083162725, 'kAnnealingB': 0.21850946118851833, 'kAnnealingStart': 32.80818251022475, 'kSkipRatio': 0.6796419315069103, 'kTargetDeterminationTrials': 7, 'kAttractionRatio': 0.6548268494488672, 'kMaxAttractionDistance': 63, 'kStartAttraction': 0.5283339539222347}. Best is trial 51 with value: 8169.242424242424.\u001b[0m\n"
     ]
    },
    {
     "name": "stdout",
     "output_type": "stream",
     "text": [
      "index_parallel='0093'\n"
     ]
    },
    {
     "name": "stderr",
     "output_type": "stream",
     "text": [
      "\u001b[32m[I 2022-08-16 04:13:21,550]\u001b[0m Trial 93 finished with value: 7716.948051948052 and parameters: {'kErase': 3, 'kRadius': 6, 'kAnnealingA': -1.2153486136766327, 'kAnnealingB': 0.715862142883877, 'kAnnealingStart': 22.286047867477546, 'kSkipRatio': 0.7572784343373778, 'kTargetDeterminationTrials': 10, 'kAttractionRatio': 0.4995928788069009, 'kMaxAttractionDistance': 57, 'kStartAttraction': 0.03864237753890332}. Best is trial 51 with value: 8169.242424242424.\u001b[0m\n"
     ]
    },
    {
     "name": "stdout",
     "output_type": "stream",
     "text": [
      "index_parallel='0094'\n"
     ]
    },
    {
     "name": "stderr",
     "output_type": "stream",
     "text": [
      "\u001b[32m[I 2022-08-16 04:17:40,725]\u001b[0m Trial 94 finished with value: 8149.662337662337 and parameters: {'kErase': 3, 'kRadius': 6, 'kAnnealingA': 0.19434469877553995, 'kAnnealingB': 0.3287505097584099, 'kAnnealingStart': 27.29231774897466, 'kSkipRatio': 0.7352101005175992, 'kTargetDeterminationTrials': 4, 'kAttractionRatio': 0.7989864380567453, 'kMaxAttractionDistance': 70, 'kStartAttraction': 0.7838449724041859}. Best is trial 51 with value: 8169.242424242424.\u001b[0m\n"
     ]
    },
    {
     "name": "stdout",
     "output_type": "stream",
     "text": [
      "index_parallel='0095'\n"
     ]
    },
    {
     "name": "stderr",
     "output_type": "stream",
     "text": [
      "\u001b[32m[I 2022-08-16 04:21:59,781]\u001b[0m Trial 95 finished with value: 7771.4329004329 and parameters: {'kErase': 3, 'kRadius': 6, 'kAnnealingA': 2.554582826272441, 'kAnnealingB': 0.3145283391493242, 'kAnnealingStart': 41.55199664670844, 'kSkipRatio': 0.7942091731930631, 'kTargetDeterminationTrials': 4, 'kAttractionRatio': 0.7852607879168105, 'kMaxAttractionDistance': 69, 'kStartAttraction': 0.82248711038922}. Best is trial 51 with value: 8169.242424242424.\u001b[0m\n"
     ]
    },
    {
     "name": "stdout",
     "output_type": "stream",
     "text": [
      "index_parallel='0096'\n"
     ]
    },
    {
     "name": "stderr",
     "output_type": "stream",
     "text": [
      "\u001b[32m[I 2022-08-16 04:26:18,973]\u001b[0m Trial 96 finished with value: 7903.151515151515 and parameters: {'kErase': 3, 'kRadius': 5, 'kAnnealingA': -0.01578442654771839, 'kAnnealingB': 0.06375775903821945, 'kAnnealingStart': 27.750155167245467, 'kSkipRatio': 0.7756786177553634, 'kTargetDeterminationTrials': 3, 'kAttractionRatio': 0.8999184305985385, 'kMaxAttractionDistance': 83, 'kStartAttraction': 0.4301275458536963}. Best is trial 51 with value: 8169.242424242424.\u001b[0m\n"
     ]
    },
    {
     "name": "stdout",
     "output_type": "stream",
     "text": [
      "index_parallel='0097'\n"
     ]
    },
    {
     "name": "stderr",
     "output_type": "stream",
     "text": [
      "\u001b[32m[I 2022-08-16 04:30:38,651]\u001b[0m Trial 97 finished with value: 7282.311688311688 and parameters: {'kErase': 4, 'kRadius': 6, 'kAnnealingA': 11.372277487839401, 'kAnnealingB': 0.3810492386191403, 'kAnnealingStart': 34.852414633703404, 'kSkipRatio': 0.7142183606818706, 'kTargetDeterminationTrials': 9, 'kAttractionRatio': 0.6580739652115268, 'kMaxAttractionDistance': 61, 'kStartAttraction': 0.8926403474552161}. Best is trial 51 with value: 8169.242424242424.\u001b[0m\n"
     ]
    },
    {
     "name": "stdout",
     "output_type": "stream",
     "text": [
      "index_parallel='0098'\n"
     ]
    },
    {
     "name": "stderr",
     "output_type": "stream",
     "text": [
      "\u001b[32m[I 2022-08-16 04:34:57,942]\u001b[0m Trial 98 finished with value: 8107.350649350649 and parameters: {'kErase': 3, 'kRadius': 6, 'kAnnealingA': 1.0807643221977554, 'kAnnealingB': 0.1265845776736073, 'kAnnealingStart': 20.801486623854682, 'kSkipRatio': 0.7469681902990394, 'kTargetDeterminationTrials': 5, 'kAttractionRatio': 0.23316091798164615, 'kMaxAttractionDistance': 44, 'kStartAttraction': 0.654636381072858}. Best is trial 51 with value: 8169.242424242424.\u001b[0m\n"
     ]
    },
    {
     "name": "stdout",
     "output_type": "stream",
     "text": [
      "index_parallel='0099'\n"
     ]
    },
    {
     "name": "stderr",
     "output_type": "stream",
     "text": [
      "\u001b[32m[I 2022-08-16 04:39:17,079]\u001b[0m Trial 99 finished with value: 8042.316017316018 and parameters: {'kErase': 3, 'kRadius': 6, 'kAnnealingA': 8.133118521321723, 'kAnnealingB': 2.3085643026899163, 'kAnnealingStart': 11.09514994671885, 'kSkipRatio': 0.7459766889202033, 'kTargetDeterminationTrials': 5, 'kAttractionRatio': 0.25331997232275494, 'kMaxAttractionDistance': 42, 'kStartAttraction': 0.32556796776646324}. Best is trial 51 with value: 8169.242424242424.\u001b[0m\n"
     ]
    },
    {
     "name": "stdout",
     "output_type": "stream",
     "text": [
      "index_parallel='0100'\n"
     ]
    },
    {
     "name": "stderr",
     "output_type": "stream",
     "text": [
      "\u001b[32m[I 2022-08-16 04:43:36,191]\u001b[0m Trial 100 finished with value: 7512.909090909091 and parameters: {'kErase': 3, 'kRadius': 5, 'kAnnealingA': 0.8926622071058361, 'kAnnealingB': 0.24803573757603142, 'kAnnealingStart': 5.267465969288377, 'kSkipRatio': 0.6514671097292394, 'kTargetDeterminationTrials': 5, 'kAttractionRatio': 0.2268684749967049, 'kMaxAttractionDistance': 38, 'kStartAttraction': 0.004012101119554349}. Best is trial 51 with value: 8169.242424242424.\u001b[0m\n"
     ]
    },
    {
     "name": "stdout",
     "output_type": "stream",
     "text": [
      "index_parallel='0101'\n"
     ]
    },
    {
     "name": "stderr",
     "output_type": "stream",
     "text": [
      "\u001b[32m[I 2022-08-16 04:47:55,540]\u001b[0m Trial 101 finished with value: 8097.346320346321 and parameters: {'kErase': 3, 'kRadius': 6, 'kAnnealingA': 1.574121785749239, 'kAnnealingB': 0.19799165325529178, 'kAnnealingStart': 23.685108046155314, 'kSkipRatio': 0.7319987966865513, 'kTargetDeterminationTrials': 4, 'kAttractionRatio': 0.5583623062027304, 'kMaxAttractionDistance': 49, 'kStartAttraction': 0.699832158513566}. Best is trial 51 with value: 8169.242424242424.\u001b[0m\n"
     ]
    },
    {
     "name": "stdout",
     "output_type": "stream",
     "text": [
      "index_parallel='0102'\n"
     ]
    },
    {
     "name": "stderr",
     "output_type": "stream",
     "text": [
      "\u001b[32m[I 2022-08-16 04:52:14,700]\u001b[0m Trial 102 finished with value: 8081.168831168831 and parameters: {'kErase': 3, 'kRadius': 6, 'kAnnealingA': 2.8482564908306904, 'kAnnealingB': 0.13417118567966554, 'kAnnealingStart': 20.812637842585737, 'kSkipRatio': 0.7596978678046278, 'kTargetDeterminationTrials': 6, 'kAttractionRatio': 0.4504734896485433, 'kMaxAttractionDistance': 32, 'kStartAttraction': 0.6050752137412874}. Best is trial 51 with value: 8169.242424242424.\u001b[0m\n"
     ]
    },
    {
     "name": "stdout",
     "output_type": "stream",
     "text": [
      "index_parallel='0103'\n"
     ]
    },
    {
     "name": "stderr",
     "output_type": "stream",
     "text": [
      "\u001b[32m[I 2022-08-16 04:56:34,017]\u001b[0m Trial 103 finished with value: 8075.627705627706 and parameters: {'kErase': 3, 'kRadius': 6, 'kAnnealingA': 0.40926081116910373, 'kAnnealingB': 0.5725049669204021, 'kAnnealingStart': 28.31216455896214, 'kSkipRatio': 0.7849442200892223, 'kTargetDeterminationTrials': 6, 'kAttractionRatio': 0.16052477075628982, 'kMaxAttractionDistance': 65, 'kStartAttraction': 0.7883134221519322}. Best is trial 51 with value: 8169.242424242424.\u001b[0m\n"
     ]
    },
    {
     "name": "stdout",
     "output_type": "stream",
     "text": [
      "index_parallel='0104'\n"
     ]
    },
    {
     "name": "stderr",
     "output_type": "stream",
     "text": [
      "\u001b[32m[I 2022-08-16 05:00:53,395]\u001b[0m Trial 104 finished with value: 8020.705627705628 and parameters: {'kErase': 3, 'kRadius': 6, 'kAnnealingA': 4.052901344829874, 'kAnnealingB': 0.4307908569927167, 'kAnnealingStart': 24.55405163604961, 'kSkipRatio': 0.7030236146680876, 'kTargetDeterminationTrials': 5, 'kAttractionRatio': 0.7722413511132572, 'kMaxAttractionDistance': 72, 'kStartAttraction': 0.6732104384230947}. Best is trial 51 with value: 8169.242424242424.\u001b[0m\n"
     ]
    },
    {
     "name": "stdout",
     "output_type": "stream",
     "text": [
      "index_parallel='0105'\n"
     ]
    },
    {
     "name": "stderr",
     "output_type": "stream",
     "text": [
      "\u001b[32m[I 2022-08-16 05:05:12,589]\u001b[0m Trial 105 finished with value: 8038.285714285715 and parameters: {'kErase': 3, 'kRadius': 6, 'kAnnealingA': 3.3670133526703157, 'kAnnealingB': 0.28116059054250975, 'kAnnealingStart': 14.82714377151427, 'kSkipRatio': 0.719533569297682, 'kTargetDeterminationTrials': 5, 'kAttractionRatio': 0.3416637455229279, 'kMaxAttractionDistance': 56, 'kStartAttraction': 0.5166333011623883}. Best is trial 51 with value: 8169.242424242424.\u001b[0m\n"
     ]
    },
    {
     "name": "stdout",
     "output_type": "stream",
     "text": [
      "index_parallel='0107'\n"
     ]
    },
    {
     "name": "stderr",
     "output_type": "stream",
     "text": [
      "\u001b[32m[I 2022-08-16 05:09:31,960]\u001b[0m Trial 107 finished with value: 7832.051948051948 and parameters: {'kErase': 3, 'kRadius': 6, 'kAnnealingA': 1.922390802769835, 'kAnnealingB': 0.04745720859594643, 'kAnnealingStart': 31.852537235280117, 'kSkipRatio': 0.7452988140796026, 'kTargetDeterminationTrials': 4, 'kAttractionRatio': 0.6807390457864477, 'kMaxAttractionDistance': 44, 'kStartAttraction': 0.4136903268619985}. Best is trial 51 with value: 8169.242424242424.\u001b[0m\n"
     ]
    },
    {
     "name": "stdout",
     "output_type": "stream",
     "text": [
      "index_parallel='0109'\n"
     ]
    },
    {
     "name": "stderr",
     "output_type": "stream",
     "text": [
      "\u001b[32m[I 2022-08-16 05:13:51,254]\u001b[0m Trial 109 finished with value: 7766.584415584415 and parameters: {'kErase': 3, 'kRadius': 2, 'kAnnealingA': 1.0092877040933028, 'kAnnealingB': 0.45270372550585936, 'kAnnealingStart': 12.565926881715056, 'kSkipRatio': 0.47539969563860013, 'kTargetDeterminationTrials': 8, 'kAttractionRatio': 0.825290686771127, 'kMaxAttractionDistance': 53, 'kStartAttraction': 0.556075846139224}. Best is trial 51 with value: 8169.242424242424.\u001b[0m\n"
     ]
    },
    {
     "name": "stdout",
     "output_type": "stream",
     "text": [
      "index_parallel='0111'\n"
     ]
    },
    {
     "name": "stderr",
     "output_type": "stream",
     "text": [
      "\u001b[32m[I 2022-08-16 05:18:10,656]\u001b[0m Trial 111 finished with value: 8008.541125541125 and parameters: {'kErase': 3, 'kRadius': 5, 'kAnnealingA': 4.848895836616088, 'kAnnealingB': 0.6031271144629295, 'kAnnealingStart': 16.348945468173966, 'kSkipRatio': 0.6926325390389101, 'kTargetDeterminationTrials': 11, 'kAttractionRatio': 0.5067036212231678, 'kMaxAttractionDistance': 66, 'kStartAttraction': 0.2804480668525309}. Best is trial 51 with value: 8169.242424242424.\u001b[0m\n"
     ]
    },
    {
     "name": "stdout",
     "output_type": "stream",
     "text": [
      "index_parallel='0113'\n"
     ]
    },
    {
     "name": "stderr",
     "output_type": "stream",
     "text": [
      "\u001b[32m[I 2022-08-16 05:22:31,371]\u001b[0m Trial 113 finished with value: 8138.337662337663 and parameters: {'kErase': 3, 'kRadius': 6, 'kAnnealingA': 0.31364772899027565, 'kAnnealingB': 0.17926700418273683, 'kAnnealingStart': 21.668064202356618, 'kSkipRatio': 0.7285527889609964, 'kTargetDeterminationTrials': 7, 'kAttractionRatio': 0.3043495575589877, 'kMaxAttractionDistance': 76, 'kStartAttraction': 0.7367379390493113}. Best is trial 51 with value: 8169.242424242424.\u001b[0m\n"
     ]
    },
    {
     "name": "stdout",
     "output_type": "stream",
     "text": [
      "index_parallel='0115'\n"
     ]
    },
    {
     "name": "stderr",
     "output_type": "stream",
     "text": [
      "\u001b[32m[I 2022-08-16 05:26:50,796]\u001b[0m Trial 115 finished with value: 8104.38961038961 and parameters: {'kErase': 3, 'kRadius': 6, 'kAnnealingA': -3.781602526153307, 'kAnnealingB': 0.1473817518113966, 'kAnnealingStart': 19.24250433312205, 'kSkipRatio': 0.7272692804542369, 'kTargetDeterminationTrials': 8, 'kAttractionRatio': 0.2954827741750117, 'kMaxAttractionDistance': 60, 'kStartAttraction': 0.7791821697134707}. Best is trial 51 with value: 8169.242424242424.\u001b[0m\n"
     ]
    },
    {
     "name": "stdout",
     "output_type": "stream",
     "text": [
      "index_parallel='0117'\n"
     ]
    },
    {
     "name": "stderr",
     "output_type": "stream",
     "text": [
      "\u001b[32m[I 2022-08-16 05:31:10,038]\u001b[0m Trial 117 finished with value: 8040.593073593073 and parameters: {'kErase': 3, 'kRadius': 6, 'kAnnealingA': -1.9756124892391425, 'kAnnealingB': 0.3497528619145449, 'kAnnealingStart': 15.309987393232632, 'kSkipRatio': 0.6702363667344451, 'kTargetDeterminationTrials': 10, 'kAttractionRatio': 0.38640698235430043, 'kMaxAttractionDistance': 71, 'kStartAttraction': 0.4699935896184996}. Best is trial 51 with value: 8169.242424242424.\u001b[0m\n"
     ]
    },
    {
     "name": "stdout",
     "output_type": "stream",
     "text": [
      "index_parallel='0119'\n"
     ]
    },
    {
     "name": "stderr",
     "output_type": "stream",
     "text": [
      "\u001b[32m[I 2022-08-16 05:35:29,426]\u001b[0m Trial 119 finished with value: 8020.839826839827 and parameters: {'kErase': 3, 'kRadius': 6, 'kAnnealingA': 0.1284459813120388, 'kAnnealingB': 0.2834103916732913, 'kAnnealingStart': 22.17254163050321, 'kSkipRatio': 0.7085780649704139, 'kTargetDeterminationTrials': 11, 'kAttractionRatio': 0.3485188386544275, 'kMaxAttractionDistance': 80, 'kStartAttraction': 0.37147334042617564}. Best is trial 51 with value: 8169.242424242424.\u001b[0m\n"
     ]
    },
    {
     "name": "stdout",
     "output_type": "stream",
     "text": [
      "index_parallel='0121'\n"
     ]
    },
    {
     "name": "stderr",
     "output_type": "stream",
     "text": [
      "\u001b[32m[I 2022-08-16 05:39:48,844]\u001b[0m Trial 121 finished with value: 8071.670995670996 and parameters: {'kErase': 3, 'kRadius': 4, 'kAnnealingA': -0.7175213962274678, 'kAnnealingB': 0.531074637322615, 'kAnnealingStart': 11.691312309032009, 'kSkipRatio': 0.7346533528325504, 'kTargetDeterminationTrials': 12, 'kAttractionRatio': 0.43881313456725574, 'kMaxAttractionDistance': 56, 'kStartAttraction': 0.6310488767388156}. Best is trial 51 with value: 8169.242424242424.\u001b[0m\n"
     ]
    },
    {
     "name": "stdout",
     "output_type": "stream",
     "text": [
      "index_parallel='0123'\n"
     ]
    },
    {
     "name": "stderr",
     "output_type": "stream",
     "text": [
      "\u001b[32m[I 2022-08-16 05:44:08,042]\u001b[0m Trial 123 finished with value: 8121.666666666667 and parameters: {'kErase': 3, 'kRadius': 6, 'kAnnealingA': -0.10463904437965743, 'kAnnealingB': 0.10202974188951403, 'kAnnealingStart': 21.26968878307005, 'kSkipRatio': 0.753496441729226, 'kTargetDeterminationTrials': 9, 'kAttractionRatio': 0.22828400709110172, 'kMaxAttractionDistance': 49, 'kStartAttraction': 0.6949251485518102}. Best is trial 51 with value: 8169.242424242424.\u001b[0m\n"
     ]
    },
    {
     "name": "stdout",
     "output_type": "stream",
     "text": [
      "index_parallel='0125'\n"
     ]
    },
    {
     "name": "stderr",
     "output_type": "stream",
     "text": [
      "\u001b[32m[I 2022-08-16 05:48:27,713]\u001b[0m Trial 125 finished with value: 8047.017316017316 and parameters: {'kErase': 3, 'kRadius': 6, 'kAnnealingA': 0.39583245454056415, 'kAnnealingB': 0.22501131607299416, 'kAnnealingStart': 24.23772232577871, 'kSkipRatio': 0.7653004201781594, 'kTargetDeterminationTrials': 8, 'kAttractionRatio': 0.17999927729698936, 'kMaxAttractionDistance': 48, 'kStartAttraction': 0.8971606796533117}. Best is trial 51 with value: 8169.242424242424.\u001b[0m\n"
     ]
    },
    {
     "name": "stdout",
     "output_type": "stream",
     "text": [
      "index_parallel='0127'\n"
     ]
    },
    {
     "name": "stderr",
     "output_type": "stream",
     "text": [
      "\u001b[32m[I 2022-08-16 05:52:47,198]\u001b[0m Trial 127 finished with value: 8144.450216450216 and parameters: {'kErase': 3, 'kRadius': 6, 'kAnnealingA': -1.471359182880554, 'kAnnealingB': 1.7488508473524327, 'kAnnealingStart': 29.768030331115447, 'kSkipRatio': 0.7227483545507828, 'kTargetDeterminationTrials': 7, 'kAttractionRatio': 0.6395324868143943, 'kMaxAttractionDistance': 58, 'kStartAttraction': 0.7449254805240667}. Best is trial 51 with value: 8169.242424242424.\u001b[0m\n"
     ]
    },
    {
     "name": "stdout",
     "output_type": "stream",
     "text": [
      "index_parallel='0129'\n"
     ]
    },
    {
     "name": "stderr",
     "output_type": "stream",
     "text": [
      "\u001b[32m[I 2022-08-16 05:57:07,116]\u001b[0m Trial 129 finished with value: 8109.571428571428 and parameters: {'kErase': 3, 'kRadius': 6, 'kAnnealingA': -1.5024592653860085, 'kAnnealingB': 1.831623396935496, 'kAnnealingStart': 26.557671122754922, 'kSkipRatio': 0.72094357526499, 'kTargetDeterminationTrials': 9, 'kAttractionRatio': 0.7434281870239337, 'kMaxAttractionDistance': 67, 'kStartAttraction': 0.7223438209363638}. Best is trial 51 with value: 8169.242424242424.\u001b[0m\n"
     ]
    },
    {
     "name": "stdout",
     "output_type": "stream",
     "text": [
      "index_parallel='0131'\n"
     ]
    },
    {
     "name": "stderr",
     "output_type": "stream",
     "text": [
      "\u001b[32m[I 2022-08-16 06:01:26,681]\u001b[0m Trial 131 finished with value: 7927.857142857143 and parameters: {'kErase': 3, 'kRadius': 6, 'kAnnealingA': -6.918928896399286, 'kAnnealingB': 1.8171705158645137, 'kAnnealingStart': 30.2117194682522, 'kSkipRatio': 0.7411543527788879, 'kTargetDeterminationTrials': 7, 'kAttractionRatio': 0.6345148992456688, 'kMaxAttractionDistance': 77, 'kStartAttraction': 0.6324478676782481}. Best is trial 51 with value: 8169.242424242424.\u001b[0m\n"
     ]
    },
    {
     "name": "stdout",
     "output_type": "stream",
     "text": [
      "index_parallel='0133'\n"
     ]
    },
    {
     "name": "stderr",
     "output_type": "stream",
     "text": [
      "\u001b[32m[I 2022-08-16 06:05:45,885]\u001b[0m Trial 133 finished with value: 7969.099567099567 and parameters: {'kErase': 3, 'kRadius': 6, 'kAnnealingA': -2.8971278828738023, 'kAnnealingB': 1.6437753486642523, 'kAnnealingStart': 18.936682234954677, 'kSkipRatio': 0.7197228406221754, 'kTargetDeterminationTrials': 8, 'kAttractionRatio': 0.5575252475592688, 'kMaxAttractionDistance': 58, 'kStartAttraction': 0.5225909088109629}. Best is trial 51 with value: 8169.242424242424.\u001b[0m\n"
     ]
    },
    {
     "name": "stdout",
     "output_type": "stream",
     "text": [
      "index_parallel='0135'\n"
     ]
    },
    {
     "name": "stderr",
     "output_type": "stream",
     "text": [
      "\u001b[32m[I 2022-08-16 06:10:05,321]\u001b[0m Trial 135 finished with value: 7986.316017316018 and parameters: {'kErase': 3, 'kRadius': 6, 'kAnnealingA': 7.7969982192526555, 'kAnnealingB': 0.4174999446923279, 'kAnnealingStart': 23.303461250884375, 'kSkipRatio': 0.7266475063087571, 'kTargetDeterminationTrials': 7, 'kAttractionRatio': 0.8093479686184801, 'kMaxAttractionDistance': 52, 'kStartAttraction': 0.7745478317110965}. Best is trial 51 with value: 8169.242424242424.\u001b[0m\n"
     ]
    },
    {
     "name": "stdout",
     "output_type": "stream",
     "text": [
      "index_parallel='0137'\n"
     ]
    },
    {
     "name": "stderr",
     "output_type": "stream",
     "text": [
      "\u001b[32m[I 2022-08-16 06:14:24,803]\u001b[0m Trial 137 finished with value: 8037.688311688312 and parameters: {'kErase': 3, 'kRadius': 4, 'kAnnealingA': -0.7660272100875762, 'kAnnealingB': 1.999386081223248, 'kAnnealingStart': 13.399898082612971, 'kSkipRatio': 0.7554601513664576, 'kTargetDeterminationTrials': 13, 'kAttractionRatio': 0.3969431522977983, 'kMaxAttractionDistance': 62, 'kStartAttraction': 0.8930806487208086}. Best is trial 51 with value: 8169.242424242424.\u001b[0m\n"
     ]
    },
    {
     "name": "stdout",
     "output_type": "stream",
     "text": [
      "index_parallel='0139'\n"
     ]
    },
    {
     "name": "stderr",
     "output_type": "stream",
     "text": [
      "\u001b[32m[I 2022-08-16 06:18:44,363]\u001b[0m Trial 139 finished with value: 7974.7835497835495 and parameters: {'kErase': 3, 'kRadius': 3, 'kAnnealingA': -0.22177010910173145, 'kAnnealingB': 0.2564357499448157, 'kAnnealingStart': 9.324693741451432, 'kSkipRatio': 0.6950072465390194, 'kTargetDeterminationTrials': 16, 'kAttractionRatio': 0.4752158490779127, 'kMaxAttractionDistance': 74, 'kStartAttraction': 0.44925382564123084}. Best is trial 51 with value: 8169.242424242424.\u001b[0m\n"
     ]
    },
    {
     "name": "stdout",
     "output_type": "stream",
     "text": [
      "index_parallel='0141'\n"
     ]
    },
    {
     "name": "stderr",
     "output_type": "stream",
     "text": [
      "\u001b[32m[I 2022-08-16 06:23:03,756]\u001b[0m Trial 141 finished with value: 7193.493506493506 and parameters: {'kErase': 3, 'kRadius': 6, 'kAnnealingA': 0.8510398234712955, 'kAnnealingB': 0.09698180904847564, 'kAnnealingStart': 26.26056914215574, 'kSkipRatio': 0.34031945022217197, 'kTargetDeterminationTrials': 6, 'kAttractionRatio': 0.6254676213780695, 'kMaxAttractionDistance': 71, 'kStartAttraction': 0.6791056667718885}. Best is trial 51 with value: 8169.242424242424.\u001b[0m\n"
     ]
    },
    {
     "name": "stdout",
     "output_type": "stream",
     "text": [
      "index_parallel='0143'\n"
     ]
    },
    {
     "name": "stderr",
     "output_type": "stream",
     "text": [
      "\u001b[32m[I 2022-08-16 06:27:23,095]\u001b[0m Trial 143 finished with value: 7959.2770562770565 and parameters: {'kErase': 3, 'kRadius': 6, 'kAnnealingA': 2.2608785863349046, 'kAnnealingB': 0.4772865062487957, 'kAnnealingStart': 33.85305258568309, 'kSkipRatio': 0.7751228046548778, 'kTargetDeterminationTrials': 8, 'kAttractionRatio': 0.5953284479433802, 'kMaxAttractionDistance': 54, 'kStartAttraction': 0.7704718690291923}. Best is trial 51 with value: 8169.242424242424.\u001b[0m\n"
     ]
    },
    {
     "name": "stdout",
     "output_type": "stream",
     "text": [
      "index_parallel='0145'\n"
     ]
    },
    {
     "name": "stderr",
     "output_type": "stream",
     "text": [
      "\u001b[32m[I 2022-08-16 06:31:42,644]\u001b[0m Trial 145 finished with value: 8106.134199134199 and parameters: {'kErase': 3, 'kRadius': 6, 'kAnnealingA': 2.994329686976884, 'kAnnealingB': 0.3129573886129472, 'kAnnealingStart': 20.17438019238693, 'kSkipRatio': 0.7321762189223934, 'kTargetDeterminationTrials': 9, 'kAttractionRatio': 0.8497004847243331, 'kMaxAttractionDistance': 39, 'kStartAttraction': 0.5832114456693218}. Best is trial 144 with value: 8174.8744588744585.\u001b[0m\n"
     ]
    },
    {
     "name": "stdout",
     "output_type": "stream",
     "text": [
      "index_parallel='0147'\n"
     ]
    },
    {
     "name": "stderr",
     "output_type": "stream",
     "text": [
      "\u001b[32m[I 2022-08-16 06:36:02,377]\u001b[0m Trial 147 finished with value: 7768.774891774891 and parameters: {'kErase': 3, 'kRadius': 6, 'kAnnealingA': 6.638703255119051, 'kAnnealingB': 0.6563396302269007, 'kAnnealingStart': 21.324675254886515, 'kSkipRatio': 0.7785533529414868, 'kTargetDeterminationTrials': 11, 'kAttractionRatio': 0.7012408534978251, 'kMaxAttractionDistance': 46, 'kStartAttraction': 0.06818550560828808}. Best is trial 144 with value: 8174.8744588744585.\u001b[0m\n"
     ]
    },
    {
     "name": "stdout",
     "output_type": "stream",
     "text": [
      "index_parallel='0149'\n"
     ]
    },
    {
     "name": "stderr",
     "output_type": "stream",
     "text": [
      "\u001b[32m[I 2022-08-16 06:40:21,547]\u001b[0m Trial 149 finished with value: 8155.311688311688 and parameters: {'kErase': 3, 'kRadius': 6, 'kAnnealingA': 8.82991531122823, 'kAnnealingB': 0.5044358096965302, 'kAnnealingStart': 17.41952726266291, 'kSkipRatio': 0.747204171363099, 'kTargetDeterminationTrials': 6, 'kAttractionRatio': 0.525955239808623, 'kMaxAttractionDistance': 52, 'kStartAttraction': 0.7881337810456539}. Best is trial 144 with value: 8174.8744588744585.\u001b[0m\n"
     ]
    },
    {
     "name": "stdout",
     "output_type": "stream",
     "text": [
      "index_parallel='0151'\n"
     ]
    },
    {
     "name": "stderr",
     "output_type": "stream",
     "text": [
      "\u001b[32m[I 2022-08-16 06:44:41,292]\u001b[0m Trial 151 finished with value: 7851.060606060606 and parameters: {'kErase': 5, 'kRadius': 6, 'kAnnealingA': 8.84475896135764, 'kAnnealingB': 1.5362428772393715, 'kAnnealingStart': 16.804656802364164, 'kSkipRatio': 0.7630761630970753, 'kTargetDeterminationTrials': 6, 'kAttractionRatio': 0.5381972970544019, 'kMaxAttractionDistance': 51, 'kStartAttraction': 0.8907701342510816}. Best is trial 150 with value: 8209.012987012988.\u001b[0m\n"
     ]
    },
    {
     "name": "stdout",
     "output_type": "stream",
     "text": [
      "index_parallel='0153'\n"
     ]
    },
    {
     "name": "stderr",
     "output_type": "stream",
     "text": [
      "\u001b[32m[I 2022-08-16 06:49:00,613]\u001b[0m Trial 153 finished with value: 8084.506493506494 and parameters: {'kErase': 3, 'kRadius': 6, 'kAnnealingA': 6.524240166755537, 'kAnnealingB': 0.5141668739305684, 'kAnnealingStart': 17.81063858393, 'kSkipRatio': 0.7490919774823688, 'kTargetDeterminationTrials': 6, 'kAttractionRatio': 0.08618254668193936, 'kMaxAttractionDistance': 13, 'kStartAttraction': 0.7635114248507812}. Best is trial 150 with value: 8209.012987012988.\u001b[0m\n"
     ]
    },
    {
     "name": "stdout",
     "output_type": "stream",
     "text": [
      "index_parallel='0155'\n"
     ]
    },
    {
     "name": "stderr",
     "output_type": "stream",
     "text": [
      "\u001b[32m[I 2022-08-16 06:53:19,919]\u001b[0m Trial 155 finished with value: 8180.329004329004 and parameters: {'kErase': 3, 'kRadius': 6, 'kAnnealingA': 5.4704711650877424, 'kAnnealingB': 0.7233818373513244, 'kAnnealingStart': 19.12421754487325, 'kSkipRatio': 0.7735788372256633, 'kTargetDeterminationTrials': 7, 'kAttractionRatio': 0.49190204497561546, 'kMaxAttractionDistance': 11, 'kStartAttraction': 0.896687253889926}. Best is trial 150 with value: 8209.012987012988.\u001b[0m\n"
     ]
    },
    {
     "name": "stdout",
     "output_type": "stream",
     "text": [
      "index_parallel='0157'\n"
     ]
    },
    {
     "name": "stderr",
     "output_type": "stream",
     "text": [
      "\u001b[32m[I 2022-08-16 06:57:39,550]\u001b[0m Trial 157 finished with value: 8147.636363636364 and parameters: {'kErase': 3, 'kRadius': 6, 'kAnnealingA': 10.240345684485192, 'kAnnealingB': 0.8103953848294816, 'kAnnealingStart': 18.41359292104739, 'kSkipRatio': 0.7976441183016246, 'kTargetDeterminationTrials': 7, 'kAttractionRatio': 0.4744820650871496, 'kMaxAttractionDistance': 10, 'kStartAttraction': 0.8984733605582216}. Best is trial 150 with value: 8209.012987012988.\u001b[0m\n"
     ]
    },
    {
     "name": "stdout",
     "output_type": "stream",
     "text": [
      "index_parallel='0159'\n"
     ]
    },
    {
     "name": "stderr",
     "output_type": "stream",
     "text": [
      "\u001b[32m[I 2022-08-16 07:01:59,174]\u001b[0m Trial 159 finished with value: 8195.030303030304 and parameters: {'kErase': 3, 'kRadius': 6, 'kAnnealingA': 10.393241304175746, 'kAnnealingB': 0.8221153632111954, 'kAnnealingStart': 15.957383444927126, 'kSkipRatio': 0.7964147220403459, 'kTargetDeterminationTrials': 7, 'kAttractionRatio': 0.4885785035319263, 'kMaxAttractionDistance': 10, 'kStartAttraction': 0.8844629093044054}. Best is trial 150 with value: 8209.012987012988.\u001b[0m\n"
     ]
    },
    {
     "name": "stdout",
     "output_type": "stream",
     "text": [
      "index_parallel='0161'\n"
     ]
    },
    {
     "name": "stderr",
     "output_type": "stream",
     "text": [
      "\u001b[32m[I 2022-08-16 07:06:18,712]\u001b[0m Trial 161 finished with value: 8176.467532467533 and parameters: {'kErase': 3, 'kRadius': 6, 'kAnnealingA': 10.393877621317666, 'kAnnealingB': 0.7471031739193399, 'kAnnealingStart': 16.22063032005927, 'kSkipRatio': 0.798254309677429, 'kTargetDeterminationTrials': 7, 'kAttractionRatio': 0.49029656600665117, 'kMaxAttractionDistance': 10, 'kStartAttraction': 0.8963089118194476}. Best is trial 150 with value: 8209.012987012988.\u001b[0m\n"
     ]
    },
    {
     "name": "stdout",
     "output_type": "stream",
     "text": [
      "index_parallel='0163'\n"
     ]
    },
    {
     "name": "stderr",
     "output_type": "stream",
     "text": [
      "\u001b[32m[I 2022-08-16 07:10:38,384]\u001b[0m Trial 163 finished with value: 8180.9047619047615 and parameters: {'kErase': 3, 'kRadius': 6, 'kAnnealingA': 10.413055535565254, 'kAnnealingB': 0.7998417456645485, 'kAnnealingStart': 15.347656697007723, 'kSkipRatio': 0.7973785833576031, 'kTargetDeterminationTrials': 7, 'kAttractionRatio': 0.4885606577316462, 'kMaxAttractionDistance': 11, 'kStartAttraction': 0.8937426449247715}. Best is trial 150 with value: 8209.012987012988.\u001b[0m\n"
     ]
    },
    {
     "name": "stdout",
     "output_type": "stream",
     "text": [
      "index_parallel='0165'\n"
     ]
    },
    {
     "name": "stderr",
     "output_type": "stream",
     "text": [
      "\u001b[32m[I 2022-08-16 07:14:57,957]\u001b[0m Trial 165 finished with value: 8230.450216450217 and parameters: {'kErase': 3, 'kRadius': 6, 'kAnnealingA': 10.848954183883583, 'kAnnealingB': 0.7430193912581257, 'kAnnealingStart': 15.634574620662567, 'kSkipRatio': 0.7992678805593906, 'kTargetDeterminationTrials': 7, 'kAttractionRatio': 0.43941897838966065, 'kMaxAttractionDistance': 11, 'kStartAttraction': 0.892864677352973}. Best is trial 165 with value: 8230.450216450217.\u001b[0m\n"
     ]
    },
    {
     "name": "stdout",
     "output_type": "stream",
     "text": [
      "Updated! 8230.450216450217\n",
      "index_parallel='0167'\n"
     ]
    },
    {
     "name": "stderr",
     "output_type": "stream",
     "text": [
      "\u001b[32m[I 2022-08-16 07:19:17,466]\u001b[0m Trial 167 finished with value: 8192.943722943723 and parameters: {'kErase': 3, 'kRadius': 6, 'kAnnealingA': 10.803193072982538, 'kAnnealingB': 0.7403111011407052, 'kAnnealingStart': 15.611361905121052, 'kSkipRatio': 0.798974915078165, 'kTargetDeterminationTrials': 7, 'kAttractionRatio': 0.49812404919451087, 'kMaxAttractionDistance': 11, 'kStartAttraction': 0.8968459993717107}. Best is trial 166 with value: 8252.636363636364.\u001b[0m\n"
     ]
    },
    {
     "name": "stdout",
     "output_type": "stream",
     "text": [
      "index_parallel='0169'\n"
     ]
    },
    {
     "name": "stderr",
     "output_type": "stream",
     "text": [
      "\u001b[32m[I 2022-08-16 07:23:37,069]\u001b[0m Trial 169 finished with value: 8163.528138528139 and parameters: {'kErase': 3, 'kRadius': 6, 'kAnnealingA': 11.047835467381276, 'kAnnealingB': 0.9431123515412222, 'kAnnealingStart': 14.189713394428122, 'kSkipRatio': 0.7993977901757571, 'kTargetDeterminationTrials': 7, 'kAttractionRatio': 0.4371467167340084, 'kMaxAttractionDistance': 11, 'kStartAttraction': 0.6595165988321261}. Best is trial 166 with value: 8252.636363636364.\u001b[0m\n"
     ]
    },
    {
     "name": "stdout",
     "output_type": "stream",
     "text": [
      "index_parallel='0171'\n"
     ]
    },
    {
     "name": "stderr",
     "output_type": "stream",
     "text": [
      "\u001b[32m[I 2022-08-16 07:27:57,467]\u001b[0m Trial 171 finished with value: 8215.502164502164 and parameters: {'kErase': 3, 'kRadius': 6, 'kAnnealingA': 11.778646759444857, 'kAnnealingB': 0.8504106074333437, 'kAnnealingStart': 15.338986725612557, 'kSkipRatio': 0.7879642819607157, 'kTargetDeterminationTrials': 8, 'kAttractionRatio': 0.42207393088280676, 'kMaxAttractionDistance': 9, 'kStartAttraction': 0.8948494012235366}. Best is trial 166 with value: 8252.636363636364.\u001b[0m\n"
     ]
    },
    {
     "name": "stdout",
     "output_type": "stream",
     "text": [
      "index_parallel='0173'\n"
     ]
    },
    {
     "name": "stderr",
     "output_type": "stream",
     "text": [
      "\u001b[32m[I 2022-08-16 07:32:17,059]\u001b[0m Trial 173 finished with value: 8171.134199134199 and parameters: {'kErase': 3, 'kRadius': 6, 'kAnnealingA': 11.93394898132719, 'kAnnealingB': 0.8543937446218999, 'kAnnealingStart': 15.836147336001476, 'kSkipRatio': 0.7867405735186802, 'kTargetDeterminationTrials': 8, 'kAttractionRatio': 0.41353183539372496, 'kMaxAttractionDistance': 9, 'kStartAttraction': 0.8988621705053392}. Best is trial 166 with value: 8252.636363636364.\u001b[0m\n"
     ]
    },
    {
     "name": "stdout",
     "output_type": "stream",
     "text": [
      "index_parallel='0175'\n"
     ]
    },
    {
     "name": "stderr",
     "output_type": "stream",
     "text": [
      "\u001b[32m[I 2022-08-16 07:36:36,538]\u001b[0m Trial 175 finished with value: 8172.406926406927 and parameters: {'kErase': 3, 'kRadius': 6, 'kAnnealingA': 11.88701128698331, 'kAnnealingB': 0.863658598139458, 'kAnnealingStart': 16.128391125193012, 'kSkipRatio': 0.7856149195069136, 'kTargetDeterminationTrials': 7, 'kAttractionRatio': 0.4330341610650498, 'kMaxAttractionDistance': 8, 'kStartAttraction': 0.8609239217240396}. Best is trial 166 with value: 8252.636363636364.\u001b[0m\n"
     ]
    },
    {
     "name": "stdout",
     "output_type": "stream",
     "text": [
      "index_parallel='0177'\n"
     ]
    },
    {
     "name": "stderr",
     "output_type": "stream",
     "text": [
      "\u001b[32m[I 2022-08-16 07:40:55,931]\u001b[0m Trial 177 finished with value: 8188.554112554112 and parameters: {'kErase': 3, 'kRadius': 6, 'kAnnealingA': 9.583919018926437, 'kAnnealingB': 1.0588015285272105, 'kAnnealingStart': 11.895701744607384, 'kSkipRatio': 0.7862397284001533, 'kTargetDeterminationTrials': 8, 'kAttractionRatio': 0.3707723371634628, 'kMaxAttractionDistance': 7, 'kStartAttraction': 0.8960752732422853}. Best is trial 166 with value: 8252.636363636364.\u001b[0m\n"
     ]
    },
    {
     "name": "stdout",
     "output_type": "stream",
     "text": [
      "index_parallel='0179'\n"
     ]
    },
    {
     "name": "stderr",
     "output_type": "stream",
     "text": [
      "\u001b[32m[I 2022-08-16 07:45:15,324]\u001b[0m Trial 179 finished with value: 8196.796536796537 and parameters: {'kErase': 3, 'kRadius': 6, 'kAnnealingA': 9.770191527762025, 'kAnnealingB': 1.0921012803089845, 'kAnnealingStart': 12.102042310769361, 'kSkipRatio': 0.7855582744771129, 'kTargetDeterminationTrials': 8, 'kAttractionRatio': 0.37907779438778455, 'kMaxAttractionDistance': 12, 'kStartAttraction': 0.6517646118204959}. Best is trial 166 with value: 8252.636363636364.\u001b[0m\n"
     ]
    },
    {
     "name": "stdout",
     "output_type": "stream",
     "text": [
      "index_parallel='0181'\n"
     ]
    },
    {
     "name": "stderr",
     "output_type": "stream",
     "text": [
      "\u001b[32m[I 2022-08-16 07:49:34,586]\u001b[0m Trial 181 finished with value: 8153.393939393939 and parameters: {'kErase': 3, 'kRadius': 6, 'kAnnealingA': 9.448286811537631, 'kAnnealingB': 1.0919765925912528, 'kAnnealingStart': 13.714145656629805, 'kSkipRatio': 0.771100823577112, 'kTargetDeterminationTrials': 8, 'kAttractionRatio': 0.3581833658028112, 'kMaxAttractionDistance': 9, 'kStartAttraction': 0.647579851885652}. Best is trial 166 with value: 8252.636363636364.\u001b[0m\n"
     ]
    },
    {
     "name": "stdout",
     "output_type": "stream",
     "text": [
      "index_parallel='0183'\n"
     ]
    },
    {
     "name": "stderr",
     "output_type": "stream",
     "text": [
      "\u001b[32m[I 2022-08-16 07:53:53,950]\u001b[0m Trial 183 finished with value: 8154.112554112554 and parameters: {'kErase': 3, 'kRadius': 6, 'kAnnealingA': 11.23635878007851, 'kAnnealingB': 1.0376397712799554, 'kAnnealingStart': 11.663560215164699, 'kSkipRatio': 0.7872716660537428, 'kTargetDeterminationTrials': 7, 'kAttractionRatio': 0.4034180686042351, 'kMaxAttractionDistance': 7, 'kStartAttraction': 0.7895864246419215}. Best is trial 166 with value: 8252.636363636364.\u001b[0m\n"
     ]
    },
    {
     "name": "stdout",
     "output_type": "stream",
     "text": [
      "index_parallel='0185'\n"
     ]
    },
    {
     "name": "stderr",
     "output_type": "stream",
     "text": [
      "\u001b[32m[I 2022-08-16 07:58:13,590]\u001b[0m Trial 185 finished with value: 8179.272727272727 and parameters: {'kErase': 3, 'kRadius': 6, 'kAnnealingA': 13.026342283824473, 'kAnnealingB': 1.2481058023435312, 'kAnnealingStart': 15.123061206299296, 'kSkipRatio': 0.7766844418217332, 'kTargetDeterminationTrials': 7, 'kAttractionRatio': 0.4770690733668209, 'kMaxAttractionDistance': 13, 'kStartAttraction': 0.6918043304837673}. Best is trial 166 with value: 8252.636363636364.\u001b[0m\n"
     ]
    },
    {
     "name": "stdout",
     "output_type": "stream",
     "text": [
      "index_parallel='0187'\n"
     ]
    },
    {
     "name": "stderr",
     "output_type": "stream",
     "text": [
      "\u001b[32m[I 2022-08-16 08:02:33,122]\u001b[0m Trial 187 finished with value: 8125.506493506494 and parameters: {'kErase': 3, 'kRadius': 6, 'kAnnealingA': 12.857330422771682, 'kAnnealingB': 1.281272647218269, 'kAnnealingStart': 12.554332720538431, 'kSkipRatio': 0.7655934405738855, 'kTargetDeterminationTrials': 6, 'kAttractionRatio': 0.4686575616903644, 'kMaxAttractionDistance': 13, 'kStartAttraction': 0.6961406390907949}. Best is trial 166 with value: 8252.636363636364.\u001b[0m\n"
     ]
    },
    {
     "name": "stdout",
     "output_type": "stream",
     "text": [
      "index_parallel='0189'\n"
     ]
    },
    {
     "name": "stderr",
     "output_type": "stream",
     "text": [
      "\u001b[32m[I 2022-08-16 08:06:53,963]\u001b[0m Trial 189 finished with value: 8066.878787878788 and parameters: {'kErase': 3, 'kRadius': 6, 'kAnnealingA': 11.364877039021241, 'kAnnealingB': 1.1255712360458072, 'kAnnealingStart': 10.665832275665178, 'kSkipRatio': 0.7875131090283394, 'kTargetDeterminationTrials': 6, 'kAttractionRatio': 0.33869264895957324, 'kMaxAttractionDistance': 11, 'kStartAttraction': 0.5828457576414509}. Best is trial 166 with value: 8252.636363636364.\u001b[0m\n"
     ]
    },
    {
     "name": "stdout",
     "output_type": "stream",
     "text": [
      "index_parallel='0191'\n"
     ]
    },
    {
     "name": "stderr",
     "output_type": "stream",
     "text": [
      "\u001b[32m[I 2022-08-16 08:11:13,859]\u001b[0m Trial 191 finished with value: 8098.510822510822 and parameters: {'kErase': 3, 'kRadius': 6, 'kAnnealingA': 11.311081409700584, 'kAnnealingB': 0.9216779403397877, 'kAnnealingStart': 12.342956942750092, 'kSkipRatio': 0.7882115633462644, 'kTargetDeterminationTrials': 7, 'kAttractionRatio': 0.3827474546141931, 'kMaxAttractionDistance': 6, 'kStartAttraction': 0.7895209042237917}. Best is trial 166 with value: 8252.636363636364.\u001b[0m\n"
     ]
    },
    {
     "name": "stdout",
     "output_type": "stream",
     "text": [
      "index_parallel='0193'\n"
     ]
    },
    {
     "name": "stderr",
     "output_type": "stream",
     "text": [
      "\u001b[32m[I 2022-08-16 08:15:33,159]\u001b[0m Trial 193 finished with value: 8160.415584415585 and parameters: {'kErase': 3, 'kRadius': 6, 'kAnnealingA': 13.767286187711015, 'kAnnealingB': 1.3009432381434276, 'kAnnealingStart': 14.939603960151054, 'kSkipRatio': 0.7777506588186508, 'kTargetDeterminationTrials': 7, 'kAttractionRatio': 0.4287194965611837, 'kMaxAttractionDistance': 14, 'kStartAttraction': 0.6899140062267997}. Best is trial 166 with value: 8252.636363636364.\u001b[0m\n"
     ]
    },
    {
     "name": "stdout",
     "output_type": "stream",
     "text": [
      "index_parallel='0195'\n"
     ]
    },
    {
     "name": "stderr",
     "output_type": "stream",
     "text": [
      "\u001b[32m[I 2022-08-16 08:19:52,374]\u001b[0m Trial 195 finished with value: 8153.683982683982 and parameters: {'kErase': 3, 'kRadius': 6, 'kAnnealingA': 13.13521103480792, 'kAnnealingB': 1.3553276395490554, 'kAnnealingStart': 14.573109558864944, 'kSkipRatio': 0.770235726014135, 'kTargetDeterminationTrials': 8, 'kAttractionRatio': 0.5237641179662064, 'kMaxAttractionDistance': 12, 'kStartAttraction': 0.6951768682401062}. Best is trial 166 with value: 8252.636363636364.\u001b[0m\n"
     ]
    },
    {
     "name": "stdout",
     "output_type": "stream",
     "text": [
      "index_parallel='0197'\n"
     ]
    },
    {
     "name": "stderr",
     "output_type": "stream",
     "text": [
      "\u001b[32m[I 2022-08-16 08:24:11,703]\u001b[0m Trial 197 finished with value: 8190.380952380952 and parameters: {'kErase': 3, 'kRadius': 6, 'kAnnealingA': 12.365923590512864, 'kAnnealingB': 1.2361273065192053, 'kAnnealingStart': 16.309754361825195, 'kSkipRatio': 0.7903102371620594, 'kTargetDeterminationTrials': 7, 'kAttractionRatio': 0.46356222832838295, 'kMaxAttractionDistance': 7, 'kStartAttraction': 0.808373608930923}. Best is trial 166 with value: 8252.636363636364.\u001b[0m\n"
     ]
    },
    {
     "name": "stdout",
     "output_type": "stream",
     "text": [
      "index_parallel='0199'\n"
     ]
    },
    {
     "name": "stderr",
     "output_type": "stream",
     "text": [
      "\u001b[32m[I 2022-08-16 08:28:31,194]\u001b[0m Trial 199 finished with value: 8164.333333333333 and parameters: {'kErase': 3, 'kRadius': 6, 'kAnnealingA': 12.409565192425477, 'kAnnealingB': 1.120009335070348, 'kAnnealingStart': 17.320327249833817, 'kSkipRatio': 0.7992774978269308, 'kTargetDeterminationTrials': 6, 'kAttractionRatio': 0.45427996682968524, 'kMaxAttractionDistance': 7, 'kStartAttraction': 0.7986754126243614}. Best is trial 166 with value: 8252.636363636364.\u001b[0m\n"
     ]
    },
    {
     "name": "stdout",
     "output_type": "stream",
     "text": [
      "index_parallel='0201'\n"
     ]
    },
    {
     "name": "stderr",
     "output_type": "stream",
     "text": [
      "\u001b[32m[I 2022-08-16 08:32:50,855]\u001b[0m Trial 201 finished with value: 7706.160173160173 and parameters: {'kErase': 3, 'kRadius': 6, 'kAnnealingA': 9.84791619593829, 'kAnnealingB': 1.0510877037479465, 'kAnnealingStart': 13.542055212097633, 'kSkipRatio': 0.7874461571698442, 'kTargetDeterminationTrials': 6, 'kAttractionRatio': 0.37949747360526065, 'kMaxAttractionDistance': 8, 'kStartAttraction': 0.02253123330359002}. Best is trial 166 with value: 8252.636363636364.\u001b[0m\n"
     ]
    },
    {
     "name": "stdout",
     "output_type": "stream",
     "text": [
      "index_parallel='0203'\n"
     ]
    },
    {
     "name": "stderr",
     "output_type": "stream",
     "text": [
      "\u001b[32m[I 2022-08-16 08:37:10,348]\u001b[0m Trial 203 finished with value: 8188.532467532467 and parameters: {'kErase': 3, 'kRadius': 6, 'kAnnealingA': 10.805505226182442, 'kAnnealingB': 1.2496200207185764, 'kAnnealingStart': 15.699319894635693, 'kSkipRatio': 0.7786011547705548, 'kTargetDeterminationTrials': 7, 'kAttractionRatio': 0.5096542534199254, 'kMaxAttractionDistance': 11, 'kStartAttraction': 0.7066859153922358}. Best is trial 166 with value: 8252.636363636364.\u001b[0m\n"
     ]
    },
    {
     "name": "stdout",
     "output_type": "stream",
     "text": [
      "index_parallel='0205'\n"
     ]
    },
    {
     "name": "stderr",
     "output_type": "stream",
     "text": [
      "\u001b[32m[I 2022-08-16 08:41:29,804]\u001b[0m Trial 205 finished with value: 7983.0 and parameters: {'kErase': 3, 'kRadius': 6, 'kAnnealingA': 10.727491227059657, 'kAnnealingB': 1.244105720131739, 'kAnnealingStart': 11.48150165221256, 'kSkipRatio': 0.7621427415347907, 'kTargetDeterminationTrials': 8, 'kAttractionRatio': 0.026939079313823725, 'kMaxAttractionDistance': 11, 'kStartAttraction': 0.8998384284158274}. Best is trial 166 with value: 8252.636363636364.\u001b[0m\n"
     ]
    },
    {
     "name": "stdout",
     "output_type": "stream",
     "text": [
      "index_parallel='0207'\n"
     ]
    },
    {
     "name": "stderr",
     "output_type": "stream",
     "text": [
      "\u001b[32m[I 2022-08-16 08:45:49,121]\u001b[0m Trial 207 finished with value: 8160.619047619048 and parameters: {'kErase': 3, 'kRadius': 6, 'kAnnealingA': 14.392677524461895, 'kAnnealingB': 1.1834207833579358, 'kAnnealingStart': 16.68829280016239, 'kSkipRatio': 0.7898399852809286, 'kTargetDeterminationTrials': 8, 'kAttractionRatio': 0.4287898774051144, 'kMaxAttractionDistance': 10, 'kStartAttraction': 0.7847307059100123}. Best is trial 166 with value: 8252.636363636364.\u001b[0m\n"
     ]
    },
    {
     "name": "stdout",
     "output_type": "stream",
     "text": [
      "index_parallel='0209'\n"
     ]
    },
    {
     "name": "stderr",
     "output_type": "stream",
     "text": [
      "\u001b[32m[I 2022-08-16 08:50:09,503]\u001b[0m Trial 209 finished with value: 8140.896103896104 and parameters: {'kErase': 3, 'kRadius': 6, 'kAnnealingA': 9.398472524797093, 'kAnnealingB': 0.886838522998378, 'kAnnealingStart': 13.066419712331275, 'kSkipRatio': 0.799710054551815, 'kTargetDeterminationTrials': 7, 'kAttractionRatio': 0.5666846169881686, 'kMaxAttractionDistance': 9, 'kStartAttraction': 0.680582255092388}. Best is trial 166 with value: 8252.636363636364.\u001b[0m\n"
     ]
    },
    {
     "name": "stdout",
     "output_type": "stream",
     "text": [
      "index_parallel='0211'\n"
     ]
    },
    {
     "name": "stderr",
     "output_type": "stream",
     "text": [
      "\u001b[32m[I 2022-08-16 08:54:29,132]\u001b[0m Trial 211 finished with value: 8081.653679653679 and parameters: {'kErase': 3, 'kRadius': 6, 'kAnnealingA': 10.194056384554946, 'kAnnealingB': 0.7036735522246891, 'kAnnealingStart': 18.808744661307095, 'kSkipRatio': 0.7792715965731288, 'kTargetDeterminationTrials': 9, 'kAttractionRatio': 0.5019060356715654, 'kMaxAttractionDistance': 12, 'kStartAttraction': 0.5586264349812605}. Best is trial 166 with value: 8252.636363636364.\u001b[0m\n"
     ]
    },
    {
     "name": "stdout",
     "output_type": "stream",
     "text": [
      "index_parallel='0213'\n"
     ]
    },
    {
     "name": "stderr",
     "output_type": "stream",
     "text": [
      "\u001b[32m[I 2022-08-16 08:58:48,530]\u001b[0m Trial 213 finished with value: 8158.359307359307 and parameters: {'kErase': 3, 'kRadius': 6, 'kAnnealingA': 11.360593302358994, 'kAnnealingB': 1.325244134021803, 'kAnnealingStart': 15.23629093632991, 'kSkipRatio': 0.776870387422323, 'kTargetDeterminationTrials': 7, 'kAttractionRatio': 0.4689168802839659, 'kMaxAttractionDistance': 11, 'kStartAttraction': 0.7942121636483749}. Best is trial 166 with value: 8252.636363636364.\u001b[0m\n"
     ]
    },
    {
     "name": "stdout",
     "output_type": "stream",
     "text": [
      "index_parallel='0215'\n"
     ]
    },
    {
     "name": "stderr",
     "output_type": "stream",
     "text": [
      "\u001b[32m[I 2022-08-16 09:03:07,835]\u001b[0m Trial 215 finished with value: 8115.675324675325 and parameters: {'kErase': 3, 'kRadius': 6, 'kAnnealingA': 13.281454812602686, 'kAnnealingB': 1.0578073854127867, 'kAnnealingStart': 15.475221720860777, 'kSkipRatio': 0.7627163572783497, 'kTargetDeterminationTrials': 6, 'kAttractionRatio': 0.05944689746042993, 'kMaxAttractionDistance': 15, 'kStartAttraction': 0.6861942027870154}. Best is trial 166 with value: 8252.636363636364.\u001b[0m\n"
     ]
    },
    {
     "name": "stdout",
     "output_type": "stream",
     "text": [
      "index_parallel='0217'\n"
     ]
    },
    {
     "name": "stderr",
     "output_type": "stream",
     "text": [
      "\u001b[32m[I 2022-08-16 09:07:27,029]\u001b[0m Trial 217 finished with value: 8229.662337662337 and parameters: {'kErase': 3, 'kRadius': 6, 'kAnnealingA': 12.168172918605997, 'kAnnealingB': 0.8197536746236345, 'kAnnealingStart': 13.882894337028931, 'kSkipRatio': 0.7902661082078659, 'kTargetDeterminationTrials': 8, 'kAttractionRatio': 0.40470384564442924, 'kMaxAttractionDistance': 8, 'kStartAttraction': 0.7900736841887465}. Best is trial 166 with value: 8252.636363636364.\u001b[0m\n"
     ]
    },
    {
     "name": "stdout",
     "output_type": "stream",
     "text": [
      "index_parallel='0219'\n"
     ]
    },
    {
     "name": "stderr",
     "output_type": "stream",
     "text": [
      "\u001b[32m[I 2022-08-16 09:11:46,333]\u001b[0m Trial 219 finished with value: 8112.831168831169 and parameters: {'kErase': 3, 'kRadius': 6, 'kAnnealingA': 10.827415009569815, 'kAnnealingB': 0.8102730878632651, 'kAnnealingStart': 16.74032756708003, 'kSkipRatio': 0.7905787278370947, 'kTargetDeterminationTrials': 8, 'kAttractionRatio': 0.36000698344011833, 'kMaxAttractionDistance': 6, 'kStartAttraction': 0.792403881906315}. Best is trial 166 with value: 8252.636363636364.\u001b[0m\n"
     ]
    },
    {
     "name": "stdout",
     "output_type": "stream",
     "text": [
      "index_parallel='0221'\n"
     ]
    },
    {
     "name": "stderr",
     "output_type": "stream",
     "text": [
      "\u001b[32m[I 2022-08-16 09:16:05,603]\u001b[0m Trial 221 finished with value: 8205.857142857143 and parameters: {'kErase': 3, 'kRadius': 6, 'kAnnealingA': 10.145510768269016, 'kAnnealingB': 0.7555056495613897, 'kAnnealingStart': 13.50262256037584, 'kSkipRatio': 0.7989486859845306, 'kTargetDeterminationTrials': 10, 'kAttractionRatio': 0.40944074139430064, 'kMaxAttractionDistance': 8, 'kStartAttraction': 0.7965598514852743}. Best is trial 166 with value: 8252.636363636364.\u001b[0m\n"
     ]
    },
    {
     "name": "stdout",
     "output_type": "stream",
     "text": [
      "index_parallel='0223'\n"
     ]
    },
    {
     "name": "stderr",
     "output_type": "stream",
     "text": [
      "\u001b[32m[I 2022-08-16 09:20:25,145]\u001b[0m Trial 223 finished with value: 8213.307359307359 and parameters: {'kErase': 3, 'kRadius': 6, 'kAnnealingA': 8.835000698049667, 'kAnnealingB': 0.9501405386765148, 'kAnnealingStart': 14.091814664105229, 'kSkipRatio': 0.7985429977921716, 'kTargetDeterminationTrials': 10, 'kAttractionRatio': 0.43308809692169875, 'kMaxAttractionDistance': 8, 'kStartAttraction': 0.789525473267658}. Best is trial 166 with value: 8252.636363636364.\u001b[0m\n"
     ]
    },
    {
     "name": "stdout",
     "output_type": "stream",
     "text": [
      "index_parallel='0225'\n"
     ]
    },
    {
     "name": "stderr",
     "output_type": "stream",
     "text": [
      "\u001b[32m[I 2022-08-16 09:24:44,580]\u001b[0m Trial 225 finished with value: 8145.073593073593 and parameters: {'kErase': 3, 'kRadius': 6, 'kAnnealingA': 8.684660781921933, 'kAnnealingB': 0.9292322892581487, 'kAnnealingStart': 12.372155151434676, 'kSkipRatio': 0.798654103788132, 'kTargetDeterminationTrials': 10, 'kAttractionRatio': 0.3191385371133383, 'kMaxAttractionDistance': 8, 'kStartAttraction': 0.7859227638385498}. Best is trial 166 with value: 8252.636363636364.\u001b[0m\n"
     ]
    },
    {
     "name": "stdout",
     "output_type": "stream",
     "text": [
      "index_parallel='0227'\n"
     ]
    },
    {
     "name": "stderr",
     "output_type": "stream",
     "text": [
      "\u001b[32m[I 2022-08-16 09:29:04,445]\u001b[0m Trial 227 finished with value: 8168.411255411255 and parameters: {'kErase': 3, 'kRadius': 6, 'kAnnealingA': 10.433719998265184, 'kAnnealingB': 0.9959462616450917, 'kAnnealingStart': 13.91616822768786, 'kSkipRatio': 0.7830644229494645, 'kTargetDeterminationTrials': 10, 'kAttractionRatio': 0.11340924349867747, 'kMaxAttractionDistance': 9, 'kStartAttraction': 0.62215944720984}. Best is trial 166 with value: 8252.636363636364.\u001b[0m\n"
     ]
    },
    {
     "name": "stdout",
     "output_type": "stream",
     "text": [
      "index_parallel='0229'\n"
     ]
    },
    {
     "name": "stderr",
     "output_type": "stream",
     "text": [
      "\u001b[32m[I 2022-08-16 09:33:24,041]\u001b[0m Trial 229 finished with value: 8132.796536796537 and parameters: {'kErase': 3, 'kRadius': 6, 'kAnnealingA': 11.229479595662813, 'kAnnealingB': 0.8323360726830588, 'kAnnealingStart': 10.58629150302478, 'kSkipRatio': 0.7703900052624386, 'kTargetDeterminationTrials': 9, 'kAttractionRatio': 0.4281314026231808, 'kMaxAttractionDistance': 10, 'kStartAttraction': 0.899938639262676}. Best is trial 166 with value: 8252.636363636364.\u001b[0m\n"
     ]
    },
    {
     "name": "stdout",
     "output_type": "stream",
     "text": [
      "index_parallel='0231'\n"
     ]
    },
    {
     "name": "stderr",
     "output_type": "stream",
     "text": [
      "\u001b[32m[I 2022-08-16 09:37:43,552]\u001b[0m Trial 231 finished with value: 8192.731601731602 and parameters: {'kErase': 3, 'kRadius': 6, 'kAnnealingA': 9.61192060035474, 'kAnnealingB': 0.7723956611612182, 'kAnnealingStart': 17.444707550112874, 'kSkipRatio': 0.7883882763929542, 'kTargetDeterminationTrials': 6, 'kAttractionRatio': 0.4051000483123834, 'kMaxAttractionDistance': 11, 'kStartAttraction': 0.7085567167672446}. Best is trial 166 with value: 8252.636363636364.\u001b[0m\n"
     ]
    },
    {
     "name": "stdout",
     "output_type": "stream",
     "text": [
      "index_parallel='0233'\n"
     ]
    },
    {
     "name": "stderr",
     "output_type": "stream",
     "text": [
      "\u001b[32m[I 2022-08-16 09:42:02,857]\u001b[0m Trial 233 finished with value: 8134.558441558442 and parameters: {'kErase': 3, 'kRadius': 6, 'kAnnealingA': 9.646829579743354, 'kAnnealingB': 0.8763353123249924, 'kAnnealingStart': 17.74268228208638, 'kSkipRatio': 0.7852627613976239, 'kTargetDeterminationTrials': 5, 'kAttractionRatio': 0.4095896466062257, 'kMaxAttractionDistance': 9, 'kStartAttraction': 0.7300749880958084}. Best is trial 166 with value: 8252.636363636364.\u001b[0m\n"
     ]
    },
    {
     "name": "stdout",
     "output_type": "stream",
     "text": [
      "index_parallel='0235'\n"
     ]
    },
    {
     "name": "stderr",
     "output_type": "stream",
     "text": [
      "\u001b[32m[I 2022-08-16 09:46:22,247]\u001b[0m Trial 235 finished with value: 8189.25974025974 and parameters: {'kErase': 3, 'kRadius': 6, 'kAnnealingA': 11.644169559257481, 'kAnnealingB': 0.769053634039638, 'kAnnealingStart': 15.582053752587564, 'kSkipRatio': 0.7782424416259017, 'kTargetDeterminationTrials': 6, 'kAttractionRatio': 0.44399702841940025, 'kMaxAttractionDistance': 10, 'kStartAttraction': 0.7917649004313171}. Best is trial 166 with value: 8252.636363636364.\u001b[0m\n"
     ]
    },
    {
     "name": "stdout",
     "output_type": "stream",
     "text": [
      "index_parallel='0237'\n"
     ]
    },
    {
     "name": "stderr",
     "output_type": "stream",
     "text": [
      "\u001b[32m[I 2022-08-16 09:50:41,498]\u001b[0m Trial 237 finished with value: 8202.372294372295 and parameters: {'kErase': 3, 'kRadius': 6, 'kAnnealingA': 9.22625923362025, 'kAnnealingB': 0.7749062516748177, 'kAnnealingStart': 18.684548014427058, 'kSkipRatio': 0.7671142294388054, 'kTargetDeterminationTrials': 6, 'kAttractionRatio': 0.3986936031398912, 'kMaxAttractionDistance': 10, 'kStartAttraction': 0.7962461304875872}. Best is trial 166 with value: 8252.636363636364.\u001b[0m\n"
     ]
    },
    {
     "name": "stdout",
     "output_type": "stream",
     "text": [
      "index_parallel='0239'\n"
     ]
    },
    {
     "name": "stderr",
     "output_type": "stream",
     "text": [
      "\u001b[32m[I 2022-08-16 09:55:00,764]\u001b[0m Trial 239 finished with value: 8097.658008658009 and parameters: {'kErase': 3, 'kRadius': 6, 'kAnnealingA': 11.482586358993787, 'kAnnealingB': 0.7781908089062785, 'kAnnealingStart': 18.923977147605296, 'kSkipRatio': 0.7554126787004244, 'kTargetDeterminationTrials': 6, 'kAttractionRatio': 0.43447058397597343, 'kMaxAttractionDistance': 11, 'kStartAttraction': 0.7999052187129859}. Best is trial 166 with value: 8252.636363636364.\u001b[0m\n"
     ]
    },
    {
     "name": "stdout",
     "output_type": "stream",
     "text": [
      "index_parallel='0241'\n"
     ]
    },
    {
     "name": "stderr",
     "output_type": "stream",
     "text": [
      "\u001b[32m[I 2022-08-16 09:59:20,546]\u001b[0m Trial 241 finished with value: 8134.805194805195 and parameters: {'kErase': 3, 'kRadius': 6, 'kAnnealingA': 9.957605460289022, 'kAnnealingB': 0.6848674668789262, 'kAnnealingStart': 17.477010988541554, 'kSkipRatio': 0.7670317770363688, 'kTargetDeterminationTrials': 5, 'kAttractionRatio': 0.4031642063869647, 'kMaxAttractionDistance': 10, 'kStartAttraction': 0.6323856655182679}. Best is trial 166 with value: 8252.636363636364.\u001b[0m\n"
     ]
    },
    {
     "name": "stdout",
     "output_type": "stream",
     "text": [
      "index_parallel='0243'\n"
     ]
    },
    {
     "name": "stderr",
     "output_type": "stream",
     "text": [
      "\u001b[32m[I 2022-08-16 10:03:39,859]\u001b[0m Trial 243 finished with value: 8160.329004329004 and parameters: {'kErase': 3, 'kRadius': 6, 'kAnnealingA': 9.609790472127287, 'kAnnealingB': 0.8404243277999758, 'kAnnealingStart': 14.530748382260512, 'kSkipRatio': 0.7878296744911014, 'kTargetDeterminationTrials': 6, 'kAttractionRatio': 0.3670099010046492, 'kMaxAttractionDistance': 9, 'kStartAttraction': 0.896967716132292}. Best is trial 166 with value: 8252.636363636364.\u001b[0m\n"
     ]
    },
    {
     "name": "stdout",
     "output_type": "stream",
     "text": [
      "index_parallel='0245'\n"
     ]
    },
    {
     "name": "stderr",
     "output_type": "stream",
     "text": [
      "\u001b[32m[I 2022-08-16 10:07:59,183]\u001b[0m Trial 245 finished with value: 8165.08658008658 and parameters: {'kErase': 3, 'kRadius': 6, 'kAnnealingA': 10.941782199719308, 'kAnnealingB': 0.9307264184474928, 'kAnnealingStart': 14.69847488156152, 'kSkipRatio': 0.7996541394225432, 'kTargetDeterminationTrials': 7, 'kAttractionRatio': 0.37766408418660546, 'kMaxAttractionDistance': 8, 'kStartAttraction': 0.786296535392128}. Best is trial 166 with value: 8252.636363636364.\u001b[0m\n"
     ]
    },
    {
     "name": "stdout",
     "output_type": "stream",
     "text": [
      "index_parallel='0247'\n"
     ]
    },
    {
     "name": "stderr",
     "output_type": "stream",
     "text": [
      "\u001b[32m[I 2022-08-16 10:12:18,295]\u001b[0m Trial 247 finished with value: 8125.320346320346 and parameters: {'kErase': 3, 'kRadius': 6, 'kAnnealingA': 12.114076997719566, 'kAnnealingB': 0.7567079950834062, 'kAnnealingStart': 16.732475823522577, 'kSkipRatio': 0.7793895709843734, 'kTargetDeterminationTrials': 9, 'kAttractionRatio': 0.4546934269977926, 'kMaxAttractionDistance': 7, 'kStartAttraction': 0.7794501098266504}. Best is trial 166 with value: 8252.636363636364.\u001b[0m\n"
     ]
    },
    {
     "name": "stdout",
     "output_type": "stream",
     "text": [
      "index_parallel='0249'\n"
     ]
    },
    {
     "name": "stderr",
     "output_type": "stream",
     "text": [
      "\u001b[32m[I 2022-08-16 10:16:37,918]\u001b[0m Trial 249 finished with value: 8146.177489177489 and parameters: {'kErase': 3, 'kRadius': 6, 'kAnnealingA': 8.417404965274295, 'kAnnealingB': 0.8646532697313924, 'kAnnealingStart': 19.767286360074507, 'kSkipRatio': 0.789527843891533, 'kTargetDeterminationTrials': 6, 'kAttractionRatio': 0.33953348938254196, 'kMaxAttractionDistance': 10, 'kStartAttraction': 0.8974132131103004}. Best is trial 166 with value: 8252.636363636364.\u001b[0m\n"
     ]
    },
    {
     "name": "stdout",
     "output_type": "stream",
     "text": [
      "index_parallel='0251'\n"
     ]
    },
    {
     "name": "stderr",
     "output_type": "stream",
     "text": [
      "\u001b[32m[I 2022-08-16 10:20:57,075]\u001b[0m Trial 251 finished with value: 8166.571428571428 and parameters: {'kErase': 3, 'kRadius': 6, 'kAnnealingA': 10.36745729696869, 'kAnnealingB': 0.5926409120278412, 'kAnnealingStart': 12.90262748904954, 'kSkipRatio': 0.7713586307561575, 'kTargetDeterminationTrials': 8, 'kAttractionRatio': 0.39184223390665524, 'kMaxAttractionDistance': 12, 'kStartAttraction': 0.7220968807225439}. Best is trial 166 with value: 8252.636363636364.\u001b[0m\n"
     ]
    },
    {
     "name": "stdout",
     "output_type": "stream",
     "text": [
      "index_parallel='0253'\n"
     ]
    },
    {
     "name": "stderr",
     "output_type": "stream",
     "text": [
      "\u001b[32m[I 2022-08-16 10:25:16,595]\u001b[0m Trial 253 finished with value: 8196.376623376624 and parameters: {'kErase': 3, 'kRadius': 6, 'kAnnealingA': 9.043582548846983, 'kAnnealingB': 0.813231933898066, 'kAnnealingStart': 13.74953459756896, 'kSkipRatio': 0.7999789001559218, 'kTargetDeterminationTrials': 7, 'kAttractionRatio': 0.5351957030351178, 'kMaxAttractionDistance': 11, 'kStartAttraction': 0.6896746940909413}. Best is trial 166 with value: 8252.636363636364.\u001b[0m\n"
     ]
    },
    {
     "name": "stdout",
     "output_type": "stream",
     "text": [
      "index_parallel='0255'\n"
     ]
    },
    {
     "name": "stderr",
     "output_type": "stream",
     "text": [
      "\u001b[32m[I 2022-08-16 10:29:36,236]\u001b[0m Trial 255 finished with value: 8085.645021645022 and parameters: {'kErase': 3, 'kRadius': 6, 'kAnnealingA': 12.701797939201732, 'kAnnealingB': 0.8191852731746576, 'kAnnealingStart': 15.02190143437977, 'kSkipRatio': 0.7798641324259001, 'kTargetDeterminationTrials': 7, 'kAttractionRatio': 0.5772809938422213, 'kMaxAttractionDistance': 11, 'kStartAttraction': 0.5344140637790054}. Best is trial 166 with value: 8252.636363636364.\u001b[0m\n"
     ]
    },
    {
     "name": "stdout",
     "output_type": "stream",
     "text": [
      "index_parallel='0257'\n"
     ]
    },
    {
     "name": "stderr",
     "output_type": "stream",
     "text": [
      "\u001b[32m[I 2022-08-16 10:33:55,369]\u001b[0m Trial 257 finished with value: 8179.878787878788 and parameters: {'kErase': 3, 'kRadius': 6, 'kAnnealingA': 8.888724289003646, 'kAnnealingB': 0.7115245963320312, 'kAnnealingStart': 16.968438431753736, 'kSkipRatio': 0.798704731980592, 'kTargetDeterminationTrials': 9, 'kAttractionRatio': 0.5426133122930712, 'kMaxAttractionDistance': 11, 'kStartAttraction': 0.6490097030740646}. Best is trial 166 with value: 8252.636363636364.\u001b[0m\n"
     ]
    },
    {
     "name": "stdout",
     "output_type": "stream",
     "text": [
      "index_parallel='0259'\n"
     ]
    },
    {
     "name": "stderr",
     "output_type": "stream",
     "text": [
      "\u001b[32m[I 2022-08-16 10:38:15,117]\u001b[0m Trial 259 finished with value: 6548.017316017316 and parameters: {'kErase': 3, 'kRadius': 6, 'kAnnealingA': 11.028715567311291, 'kAnnealingB': 0.43750137848774745, 'kAnnealingStart': 18.246887130656823, 'kSkipRatio': 0.22815874922055013, 'kTargetDeterminationTrials': 12, 'kAttractionRatio': 0.5105104650866732, 'kMaxAttractionDistance': 9, 'kStartAttraction': 0.6956758960396201}. Best is trial 166 with value: 8252.636363636364.\u001b[0m\n"
     ]
    },
    {
     "name": "stdout",
     "output_type": "stream",
     "text": [
      "index_parallel='0261'\n"
     ]
    },
    {
     "name": "stderr",
     "output_type": "stream",
     "text": [
      "\u001b[32m[I 2022-08-16 10:42:34,608]\u001b[0m Trial 261 finished with value: 8179.632034632034 and parameters: {'kErase': 3, 'kRadius': 6, 'kAnnealingA': 12.304978997165156, 'kAnnealingB': 0.9321217712579439, 'kAnnealingStart': 13.314992161286385, 'kSkipRatio': 0.757931787839065, 'kTargetDeterminationTrials': 8, 'kAttractionRatio': 0.4658892623057179, 'kMaxAttractionDistance': 11, 'kStartAttraction': 0.7842228685511841}. Best is trial 166 with value: 8252.636363636364.\u001b[0m\n"
     ]
    },
    {
     "name": "stdout",
     "output_type": "stream",
     "text": [
      "index_parallel='0263'\n"
     ]
    },
    {
     "name": "stderr",
     "output_type": "stream",
     "text": [
      "\u001b[32m[I 2022-08-16 10:46:53,867]\u001b[0m Trial 263 finished with value: 8118.350649350649 and parameters: {'kErase': 3, 'kRadius': 6, 'kAnnealingA': 9.207122226238761, 'kAnnealingB': 0.7952758595422587, 'kAnnealingStart': 19.986760628408554, 'kSkipRatio': 0.7997780271794187, 'kTargetDeterminationTrials': 11, 'kAttractionRatio': 0.44858857610810743, 'kMaxAttractionDistance': 10, 'kStartAttraction': 0.7959634514785657}. Best is trial 166 with value: 8252.636363636364.\u001b[0m\n"
     ]
    },
    {
     "name": "stdout",
     "output_type": "stream",
     "text": [
      "index_parallel='0265'\n"
     ]
    },
    {
     "name": "stderr",
     "output_type": "stream",
     "text": [
      "\u001b[32m[I 2022-08-16 10:51:13,341]\u001b[0m Trial 265 finished with value: 8073.809523809524 and parameters: {'kErase': 3, 'kRadius': 6, 'kAnnealingA': 7.829298977262205, 'kAnnealingB': 0.9709297153157327, 'kAnnealingStart': 14.162805142337177, 'kSkipRatio': 0.7765789774719474, 'kTargetDeterminationTrials': 10, 'kAttractionRatio': 0.5306185537753374, 'kMaxAttractionDistance': 11, 'kStartAttraction': 0.6010766675107724}. Best is trial 166 with value: 8252.636363636364.\u001b[0m\n"
     ]
    },
    {
     "name": "stdout",
     "output_type": "stream",
     "text": [
      "index_parallel='0267'\n"
     ]
    },
    {
     "name": "stderr",
     "output_type": "stream",
     "text": [
      "\u001b[32m[I 2022-08-16 10:55:33,255]\u001b[0m Trial 267 finished with value: 8216.515151515152 and parameters: {'kErase': 3, 'kRadius': 6, 'kAnnealingA': 9.76150730015285, 'kAnnealingB': 0.6457745742650527, 'kAnnealingStart': 13.161505126768668, 'kSkipRatio': 0.7875234556978297, 'kTargetDeterminationTrials': 9, 'kAttractionRatio': 0.4147969591114341, 'kMaxAttractionDistance': 12, 'kStartAttraction': 0.8961115871421284}. Best is trial 166 with value: 8252.636363636364.\u001b[0m\n"
     ]
    },
    {
     "name": "stdout",
     "output_type": "stream",
     "text": [
      "index_parallel='0269'\n"
     ]
    },
    {
     "name": "stderr",
     "output_type": "stream",
     "text": [
      "\u001b[32m[I 2022-08-16 10:59:52,899]\u001b[0m Trial 269 finished with value: 8141.744588744588 and parameters: {'kErase': 3, 'kRadius': 6, 'kAnnealingA': 9.898658731351658, 'kAnnealingB': 0.668506810068902, 'kAnnealingStart': 12.760243182833214, 'kSkipRatio': 0.7881249572210716, 'kTargetDeterminationTrials': 9, 'kAttractionRatio': 0.42112070471014135, 'kMaxAttractionDistance': 12, 'kStartAttraction': 0.7111049147122718}. Best is trial 166 with value: 8252.636363636364.\u001b[0m\n"
     ]
    },
    {
     "name": "stdout",
     "output_type": "stream",
     "text": [
      "index_parallel='0271'\n"
     ]
    },
    {
     "name": "stderr",
     "output_type": "stream",
     "text": [
      "\u001b[32m[I 2022-08-16 11:04:12,433]\u001b[0m Trial 271 finished with value: 8131.640692640693 and parameters: {'kErase': 3, 'kRadius': 6, 'kAnnealingA': 9.850659028031417, 'kAnnealingB': 0.6383173224824054, 'kAnnealingStart': 11.508142574080505, 'kSkipRatio': 0.7904580327414795, 'kTargetDeterminationTrials': 9, 'kAttractionRatio': 0.40873186406413936, 'kMaxAttractionDistance': 13, 'kStartAttraction': 0.6714471720975406}. Best is trial 166 with value: 8252.636363636364.\u001b[0m\n"
     ]
    },
    {
     "name": "stdout",
     "output_type": "stream",
     "text": [
      "index_parallel='0273'\n"
     ]
    },
    {
     "name": "stderr",
     "output_type": "stream",
     "text": [
      "\u001b[32m[I 2022-08-16 11:08:32,831]\u001b[0m Trial 273 finished with value: 8130.480519480519 and parameters: {'kErase': 3, 'kRadius': 6, 'kAnnealingA': 10.52300397711777, 'kAnnealingB': 0.5880578850856772, 'kAnnealingStart': 10.335271898610733, 'kSkipRatio': 0.7684749804835028, 'kTargetDeterminationTrials': 9, 'kAttractionRatio': 0.45891450756476965, 'kMaxAttractionDistance': 14, 'kStartAttraction': 0.556723648242066}. Best is trial 166 with value: 8252.636363636364.\u001b[0m\n"
     ]
    },
    {
     "name": "stdout",
     "output_type": "stream",
     "text": [
      "index_parallel='0275'\n"
     ]
    },
    {
     "name": "stderr",
     "output_type": "stream",
     "text": [
      "\u001b[32m[I 2022-08-16 11:12:52,150]\u001b[0m Trial 275 finished with value: 8208.722943722943 and parameters: {'kErase': 3, 'kRadius': 6, 'kAnnealingA': 11.305053608692992, 'kAnnealingB': 0.7369438724202897, 'kAnnealingStart': 13.193543974001173, 'kSkipRatio': 0.7518028219763991, 'kTargetDeterminationTrials': 10, 'kAttractionRatio': 0.35379250142926094, 'kMaxAttractionDistance': 10, 'kStartAttraction': 0.7403384626282727}. Best is trial 166 with value: 8252.636363636364.\u001b[0m\n"
     ]
    },
    {
     "name": "stdout",
     "output_type": "stream",
     "text": [
      "index_parallel='0277'\n"
     ]
    },
    {
     "name": "stderr",
     "output_type": "stream",
     "text": [
      "\u001b[32m[I 2022-08-16 11:17:11,816]\u001b[0m Trial 277 finished with value: 8201.411255411256 and parameters: {'kErase': 3, 'kRadius': 6, 'kAnnealingA': 11.387602710435328, 'kAnnealingB': 0.886475059266484, 'kAnnealingStart': 12.317215430376114, 'kSkipRatio': 0.7507208136597647, 'kTargetDeterminationTrials': 11, 'kAttractionRatio': 0.29963337160307246, 'kMaxAttractionDistance': 9, 'kStartAttraction': 0.7699529971212116}. Best is trial 166 with value: 8252.636363636364.\u001b[0m\n"
     ]
    },
    {
     "name": "stdout",
     "output_type": "stream",
     "text": [
      "index_parallel='0279'\n"
     ]
    },
    {
     "name": "stderr",
     "output_type": "stream",
     "text": [
      "\u001b[32m[I 2022-08-16 11:21:31,456]\u001b[0m Trial 279 finished with value: 8132.5670995671 and parameters: {'kErase': 3, 'kRadius': 6, 'kAnnealingA': 11.576741223297041, 'kAnnealingB': 0.8815374796241844, 'kAnnealingStart': 12.237112239118895, 'kSkipRatio': 0.7470118539004602, 'kTargetDeterminationTrials': 11, 'kAttractionRatio': 0.2891589082647837, 'kMaxAttractionDistance': 8, 'kStartAttraction': 0.790561421497211}. Best is trial 166 with value: 8252.636363636364.\u001b[0m\n"
     ]
    },
    {
     "name": "stdout",
     "output_type": "stream",
     "text": [
      "index_parallel='0281'\n"
     ]
    },
    {
     "name": "stderr",
     "output_type": "stream",
     "text": [
      "\u001b[32m[I 2022-08-16 11:25:51,213]\u001b[0m Trial 281 finished with value: 8134.632034632034 and parameters: {'kErase': 3, 'kRadius': 6, 'kAnnealingA': 11.316198106996124, 'kAnnealingB': 1.0188460749444672, 'kAnnealingStart': 10.858608748894843, 'kSkipRatio': 0.7491035061097729, 'kTargetDeterminationTrials': 14, 'kAttractionRatio': 0.3306905660625908, 'kMaxAttractionDistance': 18, 'kStartAttraction': 0.6378040769998052}. Best is trial 166 with value: 8252.636363636364.\u001b[0m\n"
     ]
    },
    {
     "name": "stdout",
     "output_type": "stream",
     "text": [
      "index_parallel='0283'\n"
     ]
    },
    {
     "name": "stderr",
     "output_type": "stream",
     "text": [
      "\u001b[32m[I 2022-08-16 11:30:10,653]\u001b[0m Trial 283 finished with value: 8085.727272727273 and parameters: {'kErase': 3, 'kRadius': 3, 'kAnnealingA': 10.083096410468135, 'kAnnealingB': 0.9419098635022453, 'kAnnealingStart': 13.459320263745614, 'kSkipRatio': 0.765923667038647, 'kTargetDeterminationTrials': 10, 'kAttractionRatio': 0.368688339105285, 'kMaxAttractionDistance': 10, 'kStartAttraction': 0.4819160663294398}. Best is trial 166 with value: 8252.636363636364.\u001b[0m\n"
     ]
    },
    {
     "name": "stdout",
     "output_type": "stream",
     "text": [
      "index_parallel='0285'\n"
     ]
    },
    {
     "name": "stderr",
     "output_type": "stream",
     "text": [
      "\u001b[32m[I 2022-08-16 11:34:30,258]\u001b[0m Trial 285 finished with value: 8159.545454545455 and parameters: {'kErase': 3, 'kRadius': 6, 'kAnnealingA': 11.058753792937372, 'kAnnealingB': 0.8154819900216983, 'kAnnealingStart': 14.205672123062188, 'kSkipRatio': 0.7799525091549857, 'kTargetDeterminationTrials': 12, 'kAttractionRatio': 0.4341324718795198, 'kMaxAttractionDistance': 9, 'kStartAttraction': 0.7231142483986642}. Best is trial 166 with value: 8252.636363636364.\u001b[0m\n"
     ]
    },
    {
     "name": "stdout",
     "output_type": "stream",
     "text": [
      "index_parallel='0287'\n"
     ]
    },
    {
     "name": "stderr",
     "output_type": "stream",
     "text": [
      "\u001b[32m[I 2022-08-16 11:38:49,534]\u001b[0m Trial 287 finished with value: 8188.757575757576 and parameters: {'kErase': 3, 'kRadius': 6, 'kAnnealingA': 9.250777065316719, 'kAnnealingB': 0.67981480025112, 'kAnnealingStart': 15.207687527091489, 'kSkipRatio': 0.7877154840134248, 'kTargetDeterminationTrials': 9, 'kAttractionRatio': 0.4781342966472602, 'kMaxAttractionDistance': 8, 'kStartAttraction': 0.8050995411866602}. Best is trial 166 with value: 8252.636363636364.\u001b[0m\n"
     ]
    },
    {
     "name": "stdout",
     "output_type": "stream",
     "text": [
      "index_parallel='0289'\n"
     ]
    }
   ],
   "source": [
    "study.optimize(\n",
    "    partial(objective, in_dir=in_dir, work_dir=work_dir),\n",
    "    n_trials=3000,\n",
    "    timeout=86400,\n",
    "    callbacks=[callback]\n",
    ")"
   ]
  },
  {
   "cell_type": "code",
   "execution_count": null,
   "id": "700269d2",
   "metadata": {},
   "outputs": [],
   "source": []
  }
 ],
 "metadata": {
  "kernelspec": {
   "display_name": "Python 3 (ipykernel)",
   "language": "python",
   "name": "python3"
  },
  "language_info": {
   "codemirror_mode": {
    "name": "ipython",
    "version": 3
   },
   "file_extension": ".py",
   "mimetype": "text/x-python",
   "name": "python",
   "nbconvert_exporter": "python",
   "pygments_lexer": "ipython3",
   "version": "3.9.12"
  }
 },
 "nbformat": 4,
 "nbformat_minor": 5
}
