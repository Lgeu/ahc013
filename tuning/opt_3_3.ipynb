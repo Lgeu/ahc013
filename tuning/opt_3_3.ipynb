{
 "cells": [
  {
   "cell_type": "code",
   "execution_count": 1,
   "id": "25a1dac8",
   "metadata": {},
   "outputs": [],
   "source": [
    "import re\n",
    "import sys\n",
    "from uuid import uuid1\n",
    "from time import sleep\n",
    "from pprint import pprint\n",
    "from pathlib import Path\n",
    "from tempfile import gettempdir\n",
    "from threading import Thread\n",
    "from functools import partial\n",
    "from subprocess import Popen, PIPE\n",
    "\n",
    "from tqdm.notebook import tqdm\n",
    "import numpy as np\n",
    "import optuna\n",
    "import pandas as pd\n",
    "import matplotlib.pyplot as plt\n",
    "\n",
    "FILENAME = \"main.cpp\""
   ]
  },
  {
   "cell_type": "code",
   "execution_count": 2,
   "id": "3dd4d02e",
   "metadata": {},
   "outputs": [
    {
     "name": "stdout",
     "output_type": "stream",
     "text": [
      "10 variables were found.\n"
     ]
    },
    {
     "data": {
      "text/html": [
       "<div>\n",
       "<style scoped>\n",
       "    .dataframe tbody tr th:only-of-type {\n",
       "        vertical-align: middle;\n",
       "    }\n",
       "\n",
       "    .dataframe tbody tr th {\n",
       "        vertical-align: top;\n",
       "    }\n",
       "\n",
       "    .dataframe thead th {\n",
       "        text-align: right;\n",
       "    }\n",
       "</style>\n",
       "<table border=\"1\" class=\"dataframe\">\n",
       "  <thead>\n",
       "    <tr style=\"text-align: right;\">\n",
       "      <th></th>\n",
       "      <th>name</th>\n",
       "      <th>method</th>\n",
       "      <th>min</th>\n",
       "      <th>max</th>\n",
       "      <th>log</th>\n",
       "      <th>left</th>\n",
       "      <th>right</th>\n",
       "    </tr>\n",
       "  </thead>\n",
       "  <tbody>\n",
       "    <tr>\n",
       "      <th>0</th>\n",
       "      <td>kErase</td>\n",
       "      <td>suggest_int</td>\n",
       "      <td>1.000</td>\n",
       "      <td>5.0</td>\n",
       "      <td>False</td>\n",
       "      <td>static constexpr auto kErase =</td>\n",
       "      <td>;             // OPTIMIZE [1, 5]</td>\n",
       "    </tr>\n",
       "    <tr>\n",
       "      <th>1</th>\n",
       "      <td>kRadius</td>\n",
       "      <td>suggest_int</td>\n",
       "      <td>2.000</td>\n",
       "      <td>6.0</td>\n",
       "      <td>False</td>\n",
       "      <td>static constexpr auto kRadius =</td>\n",
       "      <td>;            // OPTIMIZE [2, 6]</td>\n",
       "    </tr>\n",
       "    <tr>\n",
       "      <th>2</th>\n",
       "      <td>kAnnealingA</td>\n",
       "      <td>suggest_float</td>\n",
       "      <td>-15.000</td>\n",
       "      <td>15.0</td>\n",
       "      <td>False</td>\n",
       "      <td>static constexpr auto kAnnealingA =</td>\n",
       "      <td>;      // OPTIMIZE [-15.0, 15.0]</td>\n",
       "    </tr>\n",
       "    <tr>\n",
       "      <th>3</th>\n",
       "      <td>kAnnealingB</td>\n",
       "      <td>suggest_float</td>\n",
       "      <td>0.000</td>\n",
       "      <td>3.0</td>\n",
       "      <td>False</td>\n",
       "      <td>static constexpr auto kAnnealingB =</td>\n",
       "      <td>;      // OPTIMIZE [0.0, 3.0]</td>\n",
       "    </tr>\n",
       "    <tr>\n",
       "      <th>4</th>\n",
       "      <td>kAnnealingStart</td>\n",
       "      <td>suggest_float</td>\n",
       "      <td>1.000</td>\n",
       "      <td>100.0</td>\n",
       "      <td>True</td>\n",
       "      <td>static constexpr auto kAnnealingStart =</td>\n",
       "      <td>; // OPTIMIZE LOG [1.0, 100.0]</td>\n",
       "    </tr>\n",
       "    <tr>\n",
       "      <th>5</th>\n",
       "      <td>kSkipRatio</td>\n",
       "      <td>suggest_float</td>\n",
       "      <td>0.200</td>\n",
       "      <td>0.8</td>\n",
       "      <td>False</td>\n",
       "      <td>static constexpr auto kSkipRatio =</td>\n",
       "      <td>;       // OPTIMIZE [0.2, 0.8]</td>\n",
       "    </tr>\n",
       "    <tr>\n",
       "      <th>6</th>\n",
       "      <td>kTargetDeterminationTrials</td>\n",
       "      <td>suggest_int</td>\n",
       "      <td>1.000</td>\n",
       "      <td>20.0</td>\n",
       "      <td>True</td>\n",
       "      <td>static constexpr auto kTargetDeterminationTria...</td>\n",
       "      <td>; // OPTIMIZE LOG [1, 20]</td>\n",
       "    </tr>\n",
       "    <tr>\n",
       "      <th>7</th>\n",
       "      <td>kAttractionRatio</td>\n",
       "      <td>suggest_float</td>\n",
       "      <td>0.010</td>\n",
       "      <td>0.9</td>\n",
       "      <td>True</td>\n",
       "      <td>static constexpr auto kAttractionRatio =</td>\n",
       "      <td>;      // OPTIMIZE LOG [0.01, 0.9]</td>\n",
       "    </tr>\n",
       "    <tr>\n",
       "      <th>8</th>\n",
       "      <td>kMaxAttractionDistance</td>\n",
       "      <td>suggest_int</td>\n",
       "      <td>4.000</td>\n",
       "      <td>99.0</td>\n",
       "      <td>True</td>\n",
       "      <td>static constexpr auto kMaxAttractionDistance =</td>\n",
       "      <td>; // OPTIMIZE LOG [4, 99]</td>\n",
       "    </tr>\n",
       "    <tr>\n",
       "      <th>9</th>\n",
       "      <td>kStartAttraction</td>\n",
       "      <td>suggest_float</td>\n",
       "      <td>0.001</td>\n",
       "      <td>0.9</td>\n",
       "      <td>True</td>\n",
       "      <td>static constexpr auto kStartAttraction =</td>\n",
       "      <td>;     // OPTIMIZE LOG [0.001, 0.9]</td>\n",
       "    </tr>\n",
       "  </tbody>\n",
       "</table>\n",
       "</div>"
      ],
      "text/plain": [
       "                         name         method     min    max    log  \\\n",
       "0                      kErase    suggest_int   1.000    5.0  False   \n",
       "1                     kRadius    suggest_int   2.000    6.0  False   \n",
       "2                 kAnnealingA  suggest_float -15.000   15.0  False   \n",
       "3                 kAnnealingB  suggest_float   0.000    3.0  False   \n",
       "4             kAnnealingStart  suggest_float   1.000  100.0   True   \n",
       "5                  kSkipRatio  suggest_float   0.200    0.8  False   \n",
       "6  kTargetDeterminationTrials    suggest_int   1.000   20.0   True   \n",
       "7            kAttractionRatio  suggest_float   0.010    0.9   True   \n",
       "8      kMaxAttractionDistance    suggest_int   4.000   99.0   True   \n",
       "9            kStartAttraction  suggest_float   0.001    0.9   True   \n",
       "\n",
       "                                                left  \\\n",
       "0                    static constexpr auto kErase =    \n",
       "1                   static constexpr auto kRadius =    \n",
       "2               static constexpr auto kAnnealingA =    \n",
       "3               static constexpr auto kAnnealingB =    \n",
       "4           static constexpr auto kAnnealingStart =    \n",
       "5                static constexpr auto kSkipRatio =    \n",
       "6  static constexpr auto kTargetDeterminationTria...   \n",
       "7          static constexpr auto kAttractionRatio =    \n",
       "8    static constexpr auto kMaxAttractionDistance =    \n",
       "9          static constexpr auto kStartAttraction =    \n",
       "\n",
       "                                right  \n",
       "0    ;             // OPTIMIZE [1, 5]  \n",
       "1     ;            // OPTIMIZE [2, 6]  \n",
       "2    ;      // OPTIMIZE [-15.0, 15.0]  \n",
       "3       ;      // OPTIMIZE [0.0, 3.0]  \n",
       "4      ; // OPTIMIZE LOG [1.0, 100.0]  \n",
       "5      ;       // OPTIMIZE [0.2, 0.8]  \n",
       "6           ; // OPTIMIZE LOG [1, 20]  \n",
       "7  ;      // OPTIMIZE LOG [0.01, 0.9]  \n",
       "8           ; // OPTIMIZE LOG [4, 99]  \n",
       "9  ;     // OPTIMIZE LOG [0.001, 0.9]  "
      ]
     },
     "metadata": {},
     "output_type": "display_data"
    }
   ],
   "source": [
    "# ここでエラー出力は何かおかしいかもしれない\n",
    "\n",
    "\n",
    "# パラメータ抽出\n",
    "with open(FILENAME) as f:\n",
    "    answer = f.read()\n",
    "\n",
    "\n",
    "variables_optimize = []\n",
    "\n",
    "for left, value, right, options in re.findall(r\"^([^/\\n]*=\\s*)(.+?)(\\s*;\\s*//(?:.*\\W)?OPTIMIZE(\\W.*))$\", answer, re.MULTILINE):\n",
    "    name = left.replace(\"=\", \"\").strip().split()[-1]\n",
    "    \n",
    "    searched = re.search(r\".*\\[(?P<min>.*),(?P<max>.*)\\].*\", options)\n",
    "    if searched:\n",
    "        min_value = max_value = None\n",
    "        try:\n",
    "            min_value = eval(searched.group(\"min\"))\n",
    "            max_value = eval(searched.group(\"max\"))\n",
    "            assert min_value <= max_value\n",
    "        except Exception as e:\n",
    "            print(f\"searched={searched}\", file=sys.stderr)\n",
    "            print(e, file=sys.stderr)\n",
    "            continue\n",
    "        log = \"LOG\" in options  # 雑、直したほうが良い\n",
    "        if type(min_value) != type(max_value):\n",
    "            print(f\"searched={searched}\", file=sys.stderr)\n",
    "            print(\"types not matched\", file=sys.stderr)\n",
    "            continue\n",
    "        if isinstance(min_value, int):\n",
    "            method = \"suggest_int\"\n",
    "        elif isinstance(min_value, float):\n",
    "            method = \"suggest_float\"\n",
    "        else:\n",
    "            print(f\"searched={searched}\", file=sys.stderr)\n",
    "            print(f\"unknown type ({type(min_value)})\", file=sys.stderr)\n",
    "            continue\n",
    "        variables_optimize.append({\n",
    "            \"name\": name,\n",
    "            \"method\": method,\n",
    "            \"min\": min_value,\n",
    "            \"max\": max_value,\n",
    "            \"log\": log,\n",
    "            \"left\": left,\n",
    "            \"right\": right,\n",
    "        })\n",
    "    elif searched := re.search(r\".*\\{(?P<choices>.*?)\\}.*\", options):\n",
    "        choices = list(map(lambda x: x.strip(), searched.group(\"choices\").split(\",\")))\n",
    "        variables_optimize.append({\n",
    "            \"name\": name,\n",
    "            \"method\": \"suggest_categorical\",\n",
    "            \"choices\": choices,\n",
    "            \"left\": left,\n",
    "            \"right\": right,\n",
    "        })\n",
    "    else:\n",
    "        print(f\"searched={searched}\", file=sys.stderr)\n",
    "        print(f\"pattern was matched but options are incorrect.\", file=sys.stderr)\n",
    "\n",
    "print(len(variables_optimize), \"variables were found.\")\n",
    "if globals().get(\"pd\"):\n",
    "    display(pd.DataFrame(variables_optimize))\n",
    "else:\n",
    "    pprint(variables_optimize)"
   ]
  },
  {
   "cell_type": "code",
   "execution_count": 3,
   "id": "001042b9",
   "metadata": {},
   "outputs": [],
   "source": [
    "def escape(string):  # 正規表現の中でそのまま使いたい文字列をエスケープ\n",
    "    res = !echo '{string}' | sed -e 's/[]\\/$*.^[]/\\\\&/g'\n",
    "    return res[0]\n",
    "\n",
    "def escape_sed(string):  # sed の置換後の文字列用のエスケープ\n",
    "    res = !echo '{string}' | sed -e 's/[\\/&]/\\\\&/g'\n",
    "    return res[0]\n",
    "\n",
    "def read_stream(name, in_file, out_file):\n",
    "    for line in in_file:\n",
    "        print(f\"[{name}] {line.strip()}\", file=out_file)\n",
    "\n",
    "def run(cmd, name):\n",
    "    proc = Popen(cmd, stdout=PIPE, stderr=PIPE, universal_newlines=True, shell=isinstance(cmd, str))\n",
    "    stdout_thread = Thread(target=read_stream, args=(name, proc.stdout, sys.stdout))\n",
    "    stderr_thread = Thread(target=read_stream, args=(name, proc.stderr, sys.stderr))\n",
    "    stdout_thread.start()\n",
    "    stderr_thread.start()\n",
    "    proc.wait()\n",
    "    return proc\n",
    "\n",
    "def objective(trial, in_dir, work_dir):\n",
    "    n_internal_parallel = 3\n",
    "    \n",
    "    index_parallel = f\"{trial.number:04d}\"\n",
    "    print(f\"{index_parallel=}\")\n",
    "    \n",
    "    work_dir = Path(work_dir)\n",
    "    directory_input = Path(in_dir)  # 中のすべてのファイルに対して実行される\n",
    "    #parameters_changed_filename = Path(gettempdir()) / str(uuid1())\n",
    "    parameters_changed_filename = work_dir / f\"{index_parallel}_{FILENAME}\"\n",
    "    \n",
    "    run([\"mkdir\", f\"{work_dir / index_parallel}_out\"], \"mkdir\")\n",
    "    run([\"mkdir\", f\"{work_dir / index_parallel}_score\"], \"mkdir\")\n",
    "    \n",
    "    # ファイル作成\n",
    "    run(f\"cp {FILENAME} {parameters_changed_filename}\", \"cp\")\n",
    "    sed_options = [f\"-i {parameters_changed_filename}\"]\n",
    "    for variable in variables_optimize:\n",
    "        if variable[\"method\"] == \"suggest_categorical\":\n",
    "            val =  trial.suggest_categorical(variable[\"name\"], variable[\"choices\"])\n",
    "        else:\n",
    "            val = getattr(trial, variable[\"method\"])(variable[\"name\"], variable[\"min\"], variable[\"max\"], log=variable[\"log\"])\n",
    "        left = variable[\"left\"]\n",
    "        right = variable[\"right\"]\n",
    "        sed_options.append(f\"\"\"-e 's/^{escape(left)}.*{escape(right)}$/{escape_sed(left)}{val}{escape_sed(right)}/'\"\"\")\n",
    "    command_sed = f\"sed {' '.join(sed_options)}\"\n",
    "    #print(command_sed)\n",
    "    run(command_sed, \"sed\")\n",
    "    \n",
    "    # コンパイル\n",
    "    command_compile = f\"g++ {parameters_changed_filename} -std=gnu++17 -O2 -DONLINE_JUDGE -o {parameters_changed_filename}.out\"\n",
    "    #print(command_compile)\n",
    "    run(command_compile, \"compile\")\n",
    "    # 実行・採点コマンド (@ はファイル名)\n",
    "    command_exec = (\n",
    "        #f\"./a.out < ./tools/in/{i:04d}.txt > {out_file} && ./tools/target/release/vis ./tools/in/{i:04d}.txt {out_file}\"\n",
    "        #f\"../tools/target/release/tester $(pwd)/{parameters_changed_filename}.out < {directory_input}/@ 2>&1 | grep Score\"\n",
    "        #f\"../tools/target/release/tester $(pwd)/{parameters_changed_filename}.out < {directory_input}/@ 2>&1 | grep Score | sed -E s/[^0-9]+// > ./{index_parallel}_score/@;\"\n",
    "        #f\"cargo run --release --manifest-path ../tools/Cargo.toml --bin tester {directory_input}/@ $(pwd)/{parameters_changed_filename}.out 2>&1 | grep Score | sed -E s/[^0-9]+// > ./{index_parallel}_score/@;\"\n",
    "        f\"./{parameters_changed_filename}.out < {directory_input}/@ > {work_dir / index_parallel}_out/@;\"\n",
    "        f\"../tools/target/release/vis {directory_input}/@ {work_dir / index_parallel}_out/@ 2> /dev/null > {work_dir / index_parallel}_score/@;\"\n",
    "    )\n",
    "    # 並列実行 (sed はパスのディレクトリ部分を消してファイル名にしてる)\n",
    "    run(f\"find {directory_input}/* | sed 's!^.*/!!' | xargs -I@ -P {n_internal_parallel} sh -c '{command_exec}'\", \"exec\")\n",
    "    \n",
    "    # 集計\n",
    "    scores = []\n",
    "    for file_path in Path(f\"{work_dir / index_parallel}_score/\").iterdir():  \n",
    "        with open(file_path) as f:\n",
    "            scores.append(int(f.readline().strip().split()[-1]))\n",
    "    mean_score = sum(scores) / len(scores)\n",
    "    \n",
    "    # 後始末\n",
    "    run(f\"rm -rf {work_dir / index_parallel}_out\", \"rm\")\n",
    "    run(f\"rm -rf {work_dir / index_parallel}_score\", \"rm\")\n",
    "    #run(f\"rm {parameters_changed_filename}\", \"rm\")\n",
    "    run(f\"rm {parameters_changed_filename}.out\", \"rm\")\n",
    "    \n",
    "    return mean_score"
   ]
  },
  {
   "cell_type": "code",
   "execution_count": 4,
   "id": "2d2e133c",
   "metadata": {},
   "outputs": [
    {
     "name": "stderr",
     "output_type": "stream",
     "text": [
      "\u001b[32m[I 2022-08-15 21:27:18,595]\u001b[0m A new study created in RDB with name: study_3_3\u001b[0m\n"
     ]
    }
   ],
   "source": [
    "K = 3\n",
    "N_CLASS = 3\n",
    "\n",
    "in_dir = Path(f\"in_{K}_{N_CLASS}\")\n",
    "work_dir = Path(f\"work_{K}_{N_CLASS}\")\n",
    "\n",
    "study_name = f\"study_{K}_{N_CLASS}\"\n",
    "storage_path = work_dir / \"study.db\"\n",
    "storage = f\"sqlite:///{storage_path}\"\n",
    "study = optuna.create_study(storage=storage, load_if_exists=True, study_name=study_name, direction=\"maximize\")\n",
    "\n",
    "def callback(study, trial):\n",
    "    try:\n",
    "        index_parallel = f\"{trial.number:04d}\"\n",
    "        parameters_changed_filename = work_dir / f\"{index_parallel}_{FILENAME}\"\n",
    "        if study.best_value == trial.value:\n",
    "            print(f\"Updated! {study.best_value}\")\n",
    "            !cp {parameters_changed_filename} {work_dir / \"best_parameters.cpp\"}\n",
    "        !rm {parameters_changed_filename}\n",
    "    except:\n",
    "        print(\":(\")\n"
   ]
  },
  {
   "cell_type": "code",
   "execution_count": null,
   "id": "61c2901d",
   "metadata": {},
   "outputs": [
    {
     "name": "stdout",
     "output_type": "stream",
     "text": [
      "index_parallel='0000'\n"
     ]
    },
    {
     "name": "stderr",
     "output_type": "stream",
     "text": [
      "\u001b[32m[I 2022-08-15 21:31:37,289]\u001b[0m Trial 0 finished with value: 7559.034632034632 and parameters: {'kErase': 2, 'kRadius': 5, 'kAnnealingA': 3.8410393496295896, 'kAnnealingB': 0.8632326474556148, 'kAnnealingStart': 2.051828555257513, 'kSkipRatio': 0.5118299863056434, 'kTargetDeterminationTrials': 2, 'kAttractionRatio': 0.6517108783830671, 'kMaxAttractionDistance': 12, 'kStartAttraction': 0.06416344071807051}. Best is trial 0 with value: 7559.034632034632.\u001b[0m\n"
     ]
    },
    {
     "name": "stdout",
     "output_type": "stream",
     "text": [
      "Updated! 7559.034632034632\n",
      "index_parallel='0001'\n"
     ]
    },
    {
     "name": "stderr",
     "output_type": "stream",
     "text": [
      "\u001b[32m[I 2022-08-15 21:35:55,907]\u001b[0m Trial 1 finished with value: 7308.168831168831 and parameters: {'kErase': 1, 'kRadius': 3, 'kAnnealingA': -9.077749381008976, 'kAnnealingB': 1.5604259615973572, 'kAnnealingStart': 42.37744024188977, 'kSkipRatio': 0.4602691205048737, 'kTargetDeterminationTrials': 10, 'kAttractionRatio': 0.5807591679491304, 'kMaxAttractionDistance': 14, 'kStartAttraction': 0.0023350165510619427}. Best is trial 0 with value: 7559.034632034632.\u001b[0m\n"
     ]
    },
    {
     "name": "stdout",
     "output_type": "stream",
     "text": [
      "index_parallel='0002'\n"
     ]
    },
    {
     "name": "stderr",
     "output_type": "stream",
     "text": [
      "\u001b[32m[I 2022-08-15 21:40:15,157]\u001b[0m Trial 2 finished with value: 7451.7835497835495 and parameters: {'kErase': 4, 'kRadius': 5, 'kAnnealingA': -7.296320258753073, 'kAnnealingB': 2.2496913523470887, 'kAnnealingStart': 99.47161594812837, 'kSkipRatio': 0.5436512834558558, 'kTargetDeterminationTrials': 1, 'kAttractionRatio': 0.024219999563600256, 'kMaxAttractionDistance': 10, 'kStartAttraction': 0.009361226539435573}. Best is trial 0 with value: 7559.034632034632.\u001b[0m\n"
     ]
    },
    {
     "name": "stdout",
     "output_type": "stream",
     "text": [
      "index_parallel='0003'\n"
     ]
    },
    {
     "name": "stderr",
     "output_type": "stream",
     "text": [
      "\u001b[32m[I 2022-08-15 21:44:34,201]\u001b[0m Trial 3 finished with value: 7637.614718614718 and parameters: {'kErase': 2, 'kRadius': 5, 'kAnnealingA': 5.707665025016457, 'kAnnealingB': 1.6809939441688666, 'kAnnealingStart': 1.838604146347736, 'kSkipRatio': 0.5678334265196281, 'kTargetDeterminationTrials': 9, 'kAttractionRatio': 0.1079748153175242, 'kMaxAttractionDistance': 18, 'kStartAttraction': 0.006615999432543763}. Best is trial 3 with value: 7637.614718614718.\u001b[0m\n"
     ]
    },
    {
     "name": "stdout",
     "output_type": "stream",
     "text": [
      "Updated! 7637.614718614718\n",
      "index_parallel='0004'\n"
     ]
    },
    {
     "name": "stderr",
     "output_type": "stream",
     "text": [
      "\u001b[32m[I 2022-08-15 21:48:53,398]\u001b[0m Trial 4 finished with value: 7813.419913419913 and parameters: {'kErase': 2, 'kRadius': 2, 'kAnnealingA': -1.339174594295331, 'kAnnealingB': 1.641978471708157, 'kAnnealingStart': 16.814997076620234, 'kSkipRatio': 0.4797387504071869, 'kTargetDeterminationTrials': 5, 'kAttractionRatio': 0.02035353486239241, 'kMaxAttractionDistance': 53, 'kStartAttraction': 0.7376041815810679}. Best is trial 4 with value: 7813.419913419913.\u001b[0m\n"
     ]
    },
    {
     "name": "stdout",
     "output_type": "stream",
     "text": [
      "Updated! 7813.419913419913\n",
      "index_parallel='0005'\n"
     ]
    },
    {
     "name": "stderr",
     "output_type": "stream",
     "text": [
      "\u001b[32m[I 2022-08-15 21:53:12,981]\u001b[0m Trial 5 finished with value: 7274.571428571428 and parameters: {'kErase': 5, 'kRadius': 4, 'kAnnealingA': -14.043809002738366, 'kAnnealingB': 0.7588930659840619, 'kAnnealingStart': 9.612582063090722, 'kSkipRatio': 0.5959837947203709, 'kTargetDeterminationTrials': 15, 'kAttractionRatio': 0.0246096121067708, 'kMaxAttractionDistance': 4, 'kStartAttraction': 0.012868235608065794}. Best is trial 4 with value: 7813.419913419913.\u001b[0m\n"
     ]
    },
    {
     "name": "stdout",
     "output_type": "stream",
     "text": [
      "index_parallel='0006'\n"
     ]
    },
    {
     "name": "stderr",
     "output_type": "stream",
     "text": [
      "\u001b[32m[I 2022-08-15 21:57:32,102]\u001b[0m Trial 6 finished with value: 7532.822510822511 and parameters: {'kErase': 4, 'kRadius': 6, 'kAnnealingA': -8.33510898653904, 'kAnnealingB': 1.3877536629261913, 'kAnnealingStart': 1.2441129303156022, 'kSkipRatio': 0.7226919640406144, 'kTargetDeterminationTrials': 9, 'kAttractionRatio': 0.2721573103910783, 'kMaxAttractionDistance': 10, 'kStartAttraction': 0.08409060997519155}. Best is trial 4 with value: 7813.419913419913.\u001b[0m\n"
     ]
    },
    {
     "name": "stdout",
     "output_type": "stream",
     "text": [
      "index_parallel='0007'\n"
     ]
    },
    {
     "name": "stderr",
     "output_type": "stream",
     "text": [
      "\u001b[32m[I 2022-08-15 22:01:51,450]\u001b[0m Trial 7 finished with value: 7486.255411255412 and parameters: {'kErase': 5, 'kRadius': 2, 'kAnnealingA': -11.152882300816923, 'kAnnealingB': 0.6876342732848977, 'kAnnealingStart': 29.27548217707723, 'kSkipRatio': 0.6444991508044922, 'kTargetDeterminationTrials': 1, 'kAttractionRatio': 0.025140196308791957, 'kMaxAttractionDistance': 12, 'kStartAttraction': 0.47600967748183554}. Best is trial 4 with value: 7813.419913419913.\u001b[0m\n"
     ]
    },
    {
     "name": "stdout",
     "output_type": "stream",
     "text": [
      "index_parallel='0008'\n"
     ]
    },
    {
     "name": "stderr",
     "output_type": "stream",
     "text": [
      "\u001b[32m[I 2022-08-15 22:06:10,210]\u001b[0m Trial 8 finished with value: 7902.961038961039 and parameters: {'kErase': 1, 'kRadius': 5, 'kAnnealingA': 2.9756575888354604, 'kAnnealingB': 0.24166507430972983, 'kAnnealingStart': 6.2760481204479435, 'kSkipRatio': 0.37957245504485, 'kTargetDeterminationTrials': 13, 'kAttractionRatio': 0.029979663785964707, 'kMaxAttractionDistance': 11, 'kStartAttraction': 0.18674458446946474}. Best is trial 8 with value: 7902.961038961039.\u001b[0m\n"
     ]
    },
    {
     "name": "stdout",
     "output_type": "stream",
     "text": [
      "Updated! 7902.961038961039\n",
      "index_parallel='0009'\n"
     ]
    },
    {
     "name": "stderr",
     "output_type": "stream",
     "text": [
      "\u001b[32m[I 2022-08-15 22:10:28,862]\u001b[0m Trial 9 finished with value: 7686.779220779221 and parameters: {'kErase': 1, 'kRadius': 6, 'kAnnealingA': -5.455416483814497, 'kAnnealingB': 1.5698351392785193, 'kAnnealingStart': 7.138446533628211, 'kSkipRatio': 0.28473743271046686, 'kTargetDeterminationTrials': 2, 'kAttractionRatio': 0.44732955032739, 'kMaxAttractionDistance': 23, 'kStartAttraction': 0.16902175586758725}. Best is trial 8 with value: 7902.961038961039.\u001b[0m\n"
     ]
    },
    {
     "name": "stdout",
     "output_type": "stream",
     "text": [
      "index_parallel='0010'\n"
     ]
    },
    {
     "name": "stderr",
     "output_type": "stream",
     "text": [
      "\u001b[32m[I 2022-08-15 22:14:48,092]\u001b[0m Trial 10 finished with value: 6992.471861471861 and parameters: {'kErase': 3, 'kRadius': 4, 'kAnnealingA': 13.880099535379282, 'kAnnealingB': 0.15532279335542487, 'kAnnealingStart': 4.0157193310644415, 'kSkipRatio': 0.20805903772421197, 'kTargetDeterminationTrials': 19, 'kAttractionRatio': 0.01045742887455158, 'kMaxAttractionDistance': 4, 'kStartAttraction': 0.2219198398166645}. Best is trial 8 with value: 7902.961038961039.\u001b[0m\n"
     ]
    },
    {
     "name": "stdout",
     "output_type": "stream",
     "text": [
      "index_parallel='0011'\n"
     ]
    },
    {
     "name": "stderr",
     "output_type": "stream",
     "text": [
      "\u001b[32m[I 2022-08-15 22:19:07,158]\u001b[0m Trial 11 finished with value: 7728.441558441558 and parameters: {'kErase': 2, 'kRadius': 2, 'kAnnealingA': -0.3249773313749733, 'kAnnealingB': 2.820047824596714, 'kAnnealingStart': 20.138232295699872, 'kSkipRatio': 0.3870094772724489, 'kTargetDeterminationTrials': 5, 'kAttractionRatio': 0.07528530638761761, 'kMaxAttractionDistance': 81, 'kStartAttraction': 0.7567064768165224}. Best is trial 8 with value: 7902.961038961039.\u001b[0m\n"
     ]
    },
    {
     "name": "stdout",
     "output_type": "stream",
     "text": [
      "index_parallel='0012'\n"
     ]
    },
    {
     "name": "stderr",
     "output_type": "stream",
     "text": [
      "\u001b[32m[I 2022-08-15 22:23:26,174]\u001b[0m Trial 12 finished with value: 7854.2770562770565 and parameters: {'kErase': 1, 'kRadius': 3, 'kAnnealingA': -0.4269583653015596, 'kAnnealingB': 0.0011982525556298584, 'kAnnealingStart': 15.607894773496325, 'kSkipRatio': 0.38006497412624124, 'kTargetDeterminationTrials': 4, 'kAttractionRatio': 0.05110336528336512, 'kMaxAttractionDistance': 50, 'kStartAttraction': 0.8900975381779028}. Best is trial 8 with value: 7902.961038961039.\u001b[0m\n"
     ]
    },
    {
     "name": "stdout",
     "output_type": "stream",
     "text": [
      "index_parallel='0013'\n"
     ]
    },
    {
     "name": "stderr",
     "output_type": "stream",
     "text": [
      "\u001b[32m[I 2022-08-15 22:27:44,798]\u001b[0m Trial 13 finished with value: 7838.606060606061 and parameters: {'kErase': 1, 'kRadius': 3, 'kAnnealingA': 8.144654959733078, 'kAnnealingB': 0.16519184972771386, 'kAnnealingStart': 4.9892889984852955, 'kSkipRatio': 0.3830591731427424, 'kTargetDeterminationTrials': 4, 'kAttractionRatio': 0.05445700640636008, 'kMaxAttractionDistance': 33, 'kStartAttraction': 0.2387668613433739}. Best is trial 8 with value: 7902.961038961039.\u001b[0m\n"
     ]
    },
    {
     "name": "stdout",
     "output_type": "stream",
     "text": [
      "index_parallel='0014'\n"
     ]
    },
    {
     "name": "stderr",
     "output_type": "stream",
     "text": [
      "\u001b[32m[I 2022-08-15 22:32:03,450]\u001b[0m Trial 14 finished with value: 7791.982683982684 and parameters: {'kErase': 1, 'kRadius': 3, 'kAnnealingA': -3.2739795379093417, 'kAnnealingB': 0.13596255971198243, 'kAnnealingStart': 14.508047229681681, 'kSkipRatio': 0.3521358708169361, 'kTargetDeterminationTrials': 2, 'kAttractionRatio': 0.14616859776571658, 'kMaxAttractionDistance': 38, 'kStartAttraction': 0.04569507030937893}. Best is trial 8 with value: 7902.961038961039.\u001b[0m\n"
     ]
    },
    {
     "name": "stdout",
     "output_type": "stream",
     "text": [
      "index_parallel='0015'\n"
     ]
    },
    {
     "name": "stderr",
     "output_type": "stream",
     "text": [
      "\u001b[32m[I 2022-08-15 22:36:22,431]\u001b[0m Trial 15 finished with value: 7435.948051948052 and parameters: {'kErase': 3, 'kRadius': 4, 'kAnnealingA': 3.0269894444134153, 'kAnnealingB': 0.5424006617074791, 'kAnnealingStart': 4.080435729733569, 'kSkipRatio': 0.28883212879526865, 'kTargetDeterminationTrials': 3, 'kAttractionRatio': 0.04783929236888116, 'kMaxAttractionDistance': 6, 'kStartAttraction': 0.33721444506886117}. Best is trial 8 with value: 7902.961038961039.\u001b[0m\n"
     ]
    },
    {
     "name": "stdout",
     "output_type": "stream",
     "text": [
      "index_parallel='0016'\n"
     ]
    },
    {
     "name": "stderr",
     "output_type": "stream",
     "text": [
      "\u001b[32m[I 2022-08-15 22:40:41,200]\u001b[0m Trial 16 finished with value: 5853.354978354978 and parameters: {'kErase': 1, 'kRadius': 5, 'kAnnealingA': 9.960849814413196, 'kAnnealingB': 1.1063374790101936, 'kAnnealingStart': 53.6290622116567, 'kSkipRatio': 0.42573504729589445, 'kTargetDeterminationTrials': 12, 'kAttractionRatio': 0.010430099165484057, 'kMaxAttractionDistance': 94, 'kStartAttraction': 0.12868929294066006}. Best is trial 8 with value: 7902.961038961039.\u001b[0m\n"
     ]
    },
    {
     "name": "stdout",
     "output_type": "stream",
     "text": [
      "index_parallel='0017'\n"
     ]
    },
    {
     "name": "stderr",
     "output_type": "stream",
     "text": [
      "\u001b[32m[I 2022-08-15 22:45:00,153]\u001b[0m Trial 17 finished with value: 7596.069264069264 and parameters: {'kErase': 2, 'kRadius': 3, 'kAnnealingA': 1.3858366067603036, 'kAnnealingB': 0.36338671093519115, 'kAnnealingStart': 8.859456115340766, 'kSkipRatio': 0.30263565389667124, 'kTargetDeterminationTrials': 6, 'kAttractionRatio': 0.03975476374938027, 'kMaxAttractionDistance': 7, 'kStartAttraction': 0.02453553794309646}. Best is trial 8 with value: 7902.961038961039.\u001b[0m\n"
     ]
    },
    {
     "name": "stdout",
     "output_type": "stream",
     "text": [
      "index_parallel='0018'\n"
     ]
    },
    {
     "name": "stderr",
     "output_type": "stream",
     "text": [
      "\u001b[32m[I 2022-08-15 22:49:19,446]\u001b[0m Trial 18 finished with value: 7328.952380952381 and parameters: {'kErase': 3, 'kRadius': 6, 'kAnnealingA': -3.2857378517924483, 'kAnnealingB': 0.017383573455816346, 'kAnnealingStart': 2.686620737325773, 'kSkipRatio': 0.2045300967278525, 'kTargetDeterminationTrials': 3, 'kAttractionRatio': 0.196602852069688, 'kMaxAttractionDistance': 27, 'kStartAttraction': 0.8378993726560143}. Best is trial 8 with value: 7902.961038961039.\u001b[0m\n"
     ]
    },
    {
     "name": "stdout",
     "output_type": "stream",
     "text": [
      "index_parallel='0019'\n"
     ]
    },
    {
     "name": "stderr",
     "output_type": "stream",
     "text": [
      "\u001b[32m[I 2022-08-15 22:53:37,849]\u001b[0m Trial 19 finished with value: 7803.593073593073 and parameters: {'kErase': 1, 'kRadius': 4, 'kAnnealingA': 6.763503602414481, 'kAnnealingB': 1.0412568987803104, 'kAnnealingStart': 12.479954982239574, 'kSkipRatio': 0.7671262245141315, 'kTargetDeterminationTrials': 8, 'kAttractionRatio': 0.09246060274752146, 'kMaxAttractionDistance': 49, 'kStartAttraction': 0.0011964549618339597}. Best is trial 8 with value: 7902.961038961039.\u001b[0m\n"
     ]
    },
    {
     "name": "stdout",
     "output_type": "stream",
     "text": [
      "index_parallel='0020'\n"
     ]
    },
    {
     "name": "stderr",
     "output_type": "stream",
     "text": [
      "\u001b[32m[I 2022-08-15 22:57:57,497]\u001b[0m Trial 20 finished with value: 5806.316017316018 and parameters: {'kErase': 4, 'kRadius': 4, 'kAnnealingA': 11.029926271228888, 'kAnnealingB': 2.101790102792232, 'kAnnealingStart': 26.96148987609653, 'kSkipRatio': 0.34701520419493903, 'kTargetDeterminationTrials': 18, 'kAttractionRatio': 0.0150522576381906, 'kMaxAttractionDistance': 18, 'kStartAttraction': 0.11736090521043467}. Best is trial 8 with value: 7902.961038961039.\u001b[0m\n"
     ]
    },
    {
     "name": "stdout",
     "output_type": "stream",
     "text": [
      "index_parallel='0021'\n"
     ]
    },
    {
     "name": "stderr",
     "output_type": "stream",
     "text": [
      "\u001b[32m[I 2022-08-15 23:02:16,419]\u001b[0m Trial 21 finished with value: 7913.0 and parameters: {'kErase': 1, 'kRadius': 3, 'kAnnealingA': 7.75403135399723, 'kAnnealingB': 0.3169668403266581, 'kAnnealingStart': 5.627280775786433, 'kSkipRatio': 0.4078898220815493, 'kTargetDeterminationTrials': 4, 'kAttractionRatio': 0.05527253560128869, 'kMaxAttractionDistance': 33, 'kStartAttraction': 0.3314821483864984}. Best is trial 21 with value: 7913.0.\u001b[0m\n"
     ]
    },
    {
     "name": "stdout",
     "output_type": "stream",
     "text": [
      "Updated! 7913.0\n",
      "index_parallel='0022'\n"
     ]
    },
    {
     "name": "stderr",
     "output_type": "stream",
     "text": [
      "\u001b[32m[I 2022-08-15 23:06:35,068]\u001b[0m Trial 22 finished with value: 7891.2770562770565 and parameters: {'kErase': 1, 'kRadius': 3, 'kAnnealingA': 3.77325388284535, 'kAnnealingB': 0.40685365706134335, 'kAnnealingStart': 6.092430522007607, 'kSkipRatio': 0.4434018119461386, 'kTargetDeterminationTrials': 3, 'kAttractionRatio': 0.037079292291561275, 'kMaxAttractionDistance': 49, 'kStartAttraction': 0.29531799545774556}. Best is trial 21 with value: 7913.0.\u001b[0m\n"
     ]
    },
    {
     "name": "stdout",
     "output_type": "stream",
     "text": [
      "index_parallel='0023'\n"
     ]
    },
    {
     "name": "stderr",
     "output_type": "stream",
     "text": [
      "\u001b[32m[I 2022-08-15 23:10:54,203]\u001b[0m Trial 23 finished with value: 7865.476190476191 and parameters: {'kErase': 2, 'kRadius': 3, 'kAnnealingA': 4.356554366199072, 'kAnnealingB': 0.42414944547059374, 'kAnnealingStart': 6.537214073844221, 'kSkipRatio': 0.4455117357070296, 'kTargetDeterminationTrials': 2, 'kAttractionRatio': 0.034449457294956604, 'kMaxAttractionDistance': 37, 'kStartAttraction': 0.3401341486968148}. Best is trial 21 with value: 7913.0.\u001b[0m\n"
     ]
    },
    {
     "name": "stdout",
     "output_type": "stream",
     "text": [
      "index_parallel='0024'\n"
     ]
    },
    {
     "name": "stderr",
     "output_type": "stream",
     "text": [
      "\u001b[32m[I 2022-08-15 23:15:12,935]\u001b[0m Trial 24 finished with value: 7778.995670995671 and parameters: {'kErase': 1, 'kRadius': 2, 'kAnnealingA': 11.734425531419689, 'kAnnealingB': 0.3819566525146527, 'kAnnealingStart': 3.122216261059646, 'kSkipRatio': 0.4191249564837733, 'kTargetDeterminationTrials': 7, 'kAttractionRatio': 0.03488354846090823, 'kMaxAttractionDistance': 58, 'kStartAttraction': 0.03169153722926545}. Best is trial 21 with value: 7913.0.\u001b[0m\n"
     ]
    },
    {
     "name": "stdout",
     "output_type": "stream",
     "text": [
      "index_parallel='0025'\n"
     ]
    },
    {
     "name": "stderr",
     "output_type": "stream",
     "text": [
      "\u001b[32m[I 2022-08-15 23:19:32,077]\u001b[0m Trial 25 finished with value: 7992.025974025974 and parameters: {'kErase': 2, 'kRadius': 4, 'kAnnealingA': 8.175114855047632, 'kAnnealingB': 1.0962019018957214, 'kAnnealingStart': 5.687510069643766, 'kSkipRatio': 0.5169038905248448, 'kTargetDeterminationTrials': 3, 'kAttractionRatio': 0.06918479898662534, 'kMaxAttractionDistance': 25, 'kStartAttraction': 0.3890993538236736}. Best is trial 25 with value: 7992.025974025974.\u001b[0m\n"
     ]
    },
    {
     "name": "stdout",
     "output_type": "stream",
     "text": [
      "Updated! 7992.025974025974\n",
      "index_parallel='0026'\n"
     ]
    },
    {
     "name": "stderr",
     "output_type": "stream",
     "text": [
      "\u001b[32m[I 2022-08-15 23:23:51,234]\u001b[0m Trial 26 finished with value: 7941.151515151515 and parameters: {'kErase': 2, 'kRadius': 5, 'kAnnealingA': 9.14820416000943, 'kAnnealingB': 1.1729627522410306, 'kAnnealingStart': 3.211660648267476, 'kSkipRatio': 0.6217446126333098, 'kTargetDeterminationTrials': 12, 'kAttractionRatio': 0.07048458360191787, 'kMaxAttractionDistance': 22, 'kStartAttraction': 0.410144816990164}. Best is trial 25 with value: 7992.025974025974.\u001b[0m\n"
     ]
    },
    {
     "name": "stdout",
     "output_type": "stream",
     "text": [
      "index_parallel='0027'\n"
     ]
    },
    {
     "name": "stderr",
     "output_type": "stream",
     "text": [
      "\u001b[32m[I 2022-08-15 23:28:10,570]\u001b[0m Trial 27 finished with value: 7831.887445887446 and parameters: {'kErase': 2, 'kRadius': 4, 'kAnnealingA': 14.727806085211661, 'kAnnealingB': 1.3315371048147944, 'kAnnealingStart': 1.024442732319369, 'kSkipRatio': 0.6542728495322647, 'kTargetDeterminationTrials': 4, 'kAttractionRatio': 0.06968406957977162, 'kMaxAttractionDistance': 24, 'kStartAttraction': 0.46466624218526775}. Best is trial 25 with value: 7992.025974025974.\u001b[0m\n"
     ]
    },
    {
     "name": "stdout",
     "output_type": "stream",
     "text": [
      "index_parallel='0028'\n"
     ]
    },
    {
     "name": "stderr",
     "output_type": "stream",
     "text": [
      "\u001b[32m[I 2022-08-15 23:32:29,837]\u001b[0m Trial 28 finished with value: 7652.164502164502 and parameters: {'kErase': 3, 'kRadius': 5, 'kAnnealingA': 8.540970846121734, 'kAnnealingB': 1.9192790364854926, 'kAnnealingStart': 2.8047280993796218, 'kSkipRatio': 0.5182708800766477, 'kTargetDeterminationTrials': 6, 'kAttractionRatio': 0.12236961053161886, 'kMaxAttractionDistance': 30, 'kStartAttraction': 0.08495266962745406}. Best is trial 25 with value: 7992.025974025974.\u001b[0m\n"
     ]
    },
    {
     "name": "stdout",
     "output_type": "stream",
     "text": [
      "index_parallel='0029'\n"
     ]
    },
    {
     "name": "stderr",
     "output_type": "stream",
     "text": [
      "\u001b[32m[I 2022-08-15 23:36:48,899]\u001b[0m Trial 29 finished with value: 8005.549783549784 and parameters: {'kErase': 2, 'kRadius': 4, 'kAnnealingA': 13.001908680178136, 'kAnnealingB': 1.0114849218612483, 'kAnnealingStart': 3.9373099652388857, 'kSkipRatio': 0.6269022486180411, 'kTargetDeterminationTrials': 1, 'kAttractionRatio': 0.19593869582313606, 'kMaxAttractionDistance': 21, 'kStartAttraction': 0.4953531239924316}. Best is trial 29 with value: 8005.549783549784.\u001b[0m\n"
     ]
    },
    {
     "name": "stdout",
     "output_type": "stream",
     "text": [
      "Updated! 8005.549783549784\n",
      "index_parallel='0030'\n"
     ]
    },
    {
     "name": "stderr",
     "output_type": "stream",
     "text": [
      "\u001b[32m[I 2022-08-15 23:41:07,841]\u001b[0m Trial 30 finished with value: 7991.415584415585 and parameters: {'kErase': 2, 'kRadius': 4, 'kAnnealingA': 12.476870591969687, 'kAnnealingB': 1.0997513587814094, 'kAnnealingStart': 1.7997509080054053, 'kSkipRatio': 0.6369852453782975, 'kTargetDeterminationTrials': 1, 'kAttractionRatio': 0.2578043547985953, 'kMaxAttractionDistance': 19, 'kStartAttraction': 0.547570770932206}. Best is trial 29 with value: 8005.549783549784.\u001b[0m\n"
     ]
    },
    {
     "name": "stdout",
     "output_type": "stream",
     "text": [
      "index_parallel='0031'\n"
     ]
    },
    {
     "name": "stderr",
     "output_type": "stream",
     "text": [
      "\u001b[32m[I 2022-08-15 23:45:26,910]\u001b[0m Trial 31 finished with value: 7969.774891774891 and parameters: {'kErase': 2, 'kRadius': 4, 'kAnnealingA': 12.667173256330422, 'kAnnealingB': 0.9958820510567656, 'kAnnealingStart': 1.905082447753722, 'kSkipRatio': 0.644345950708513, 'kTargetDeterminationTrials': 1, 'kAttractionRatio': 0.29539030361066854, 'kMaxAttractionDistance': 15, 'kStartAttraction': 0.5263037226569299}. Best is trial 29 with value: 8005.549783549784.\u001b[0m\n"
     ]
    },
    {
     "name": "stdout",
     "output_type": "stream",
     "text": [
      "index_parallel='0032'\n"
     ]
    },
    {
     "name": "stderr",
     "output_type": "stream",
     "text": [
      "\u001b[32m[I 2022-08-15 23:49:45,616]\u001b[0m Trial 32 finished with value: 8003.805194805195 and parameters: {'kErase': 2, 'kRadius': 4, 'kAnnealingA': 12.59909852575095, 'kAnnealingB': 0.9465173919581656, 'kAnnealingStart': 1.7635242820759978, 'kSkipRatio': 0.6806387212954284, 'kTargetDeterminationTrials': 1, 'kAttractionRatio': 0.31076218532088334, 'kMaxAttractionDistance': 16, 'kStartAttraction': 0.5182832282752985}. Best is trial 29 with value: 8005.549783549784.\u001b[0m\n"
     ]
    },
    {
     "name": "stdout",
     "output_type": "stream",
     "text": [
      "index_parallel='0033'\n"
     ]
    },
    {
     "name": "stderr",
     "output_type": "stream",
     "text": [
      "\u001b[32m[I 2022-08-15 23:54:04,479]\u001b[0m Trial 33 finished with value: 7891.969696969697 and parameters: {'kErase': 2, 'kRadius': 4, 'kAnnealingA': 12.040835057500168, 'kAnnealingB': 0.8651074998301396, 'kAnnealingStart': 1.3701891874852188, 'kSkipRatio': 0.7001024708109231, 'kTargetDeterminationTrials': 1, 'kAttractionRatio': 0.6508174290813027, 'kMaxAttractionDistance': 16, 'kStartAttraction': 0.5937260058208593}. Best is trial 29 with value: 8005.549783549784.\u001b[0m\n"
     ]
    },
    {
     "name": "stdout",
     "output_type": "stream",
     "text": [
      "index_parallel='0034'\n"
     ]
    },
    {
     "name": "stderr",
     "output_type": "stream",
     "text": [
      "\u001b[32m[I 2022-08-15 23:58:23,574]\u001b[0m Trial 34 finished with value: 7718.021645021645 and parameters: {'kErase': 3, 'kRadius': 4, 'kAnnealingA': 14.94671518472961, 'kAnnealingB': 1.2845226863812382, 'kAnnealingStart': 2.187036075983718, 'kSkipRatio': 0.6979404317018331, 'kTargetDeterminationTrials': 1, 'kAttractionRatio': 0.4648493142420469, 'kMaxAttractionDistance': 8, 'kStartAttraction': 0.13090087195651692}. Best is trial 29 with value: 8005.549783549784.\u001b[0m\n"
     ]
    },
    {
     "name": "stdout",
     "output_type": "stream",
     "text": [
      "index_parallel='0035'\n"
     ]
    },
    {
     "name": "stderr",
     "output_type": "stream",
     "text": [
      "\u001b[32m[I 2022-08-16 00:02:42,725]\u001b[0m Trial 35 finished with value: 7638.7229437229435 and parameters: {'kErase': 2, 'kRadius': 4, 'kAnnealingA': 13.384590921543598, 'kAnnealingB': 0.8724615662973394, 'kAnnealingStart': 1.4828433107194756, 'kSkipRatio': 0.5502486064510379, 'kTargetDeterminationTrials': 2, 'kAttractionRatio': 0.18723455359042024, 'kMaxAttractionDistance': 13, 'kStartAttraction': 0.05546990845205387}. Best is trial 29 with value: 8005.549783549784.\u001b[0m\n"
     ]
    },
    {
     "name": "stdout",
     "output_type": "stream",
     "text": [
      "index_parallel='0036'\n"
     ]
    },
    {
     "name": "stderr",
     "output_type": "stream",
     "text": [
      "\u001b[32m[I 2022-08-16 00:07:01,700]\u001b[0m Trial 36 finished with value: 7909.008658008658 and parameters: {'kErase': 2, 'kRadius': 5, 'kAnnealingA': 10.324705260044762, 'kAnnealingB': 0.6709753020950359, 'kAnnealingStart': 2.3923244812973374, 'kSkipRatio': 0.5958043850370269, 'kTargetDeterminationTrials': 1, 'kAttractionRatio': 0.34799465720655615, 'kMaxAttractionDistance': 20, 'kStartAttraction': 0.5756547743674632}. Best is trial 29 with value: 8005.549783549784.\u001b[0m\n"
     ]
    },
    {
     "name": "stdout",
     "output_type": "stream",
     "text": [
      "index_parallel='0037'\n"
     ]
    },
    {
     "name": "stderr",
     "output_type": "stream",
     "text": [
      "\u001b[32m[I 2022-08-16 00:11:21,095]\u001b[0m Trial 37 finished with value: 7526.584415584415 and parameters: {'kErase': 3, 'kRadius': 5, 'kAnnealingA': 5.974424257932199, 'kAnnealingB': 1.7362759027128394, 'kAnnealingStart': 1.7708906952784116, 'kSkipRatio': 0.787145279962914, 'kTargetDeterminationTrials': 1, 'kAttractionRatio': 0.20996833488108346, 'kMaxAttractionDistance': 17, 'kStartAttraction': 0.006885371825440885}. Best is trial 29 with value: 8005.549783549784.\u001b[0m\n"
     ]
    },
    {
     "name": "stdout",
     "output_type": "stream",
     "text": [
      "index_parallel='0038'\n"
     ]
    },
    {
     "name": "stderr",
     "output_type": "stream",
     "text": [
      "\u001b[32m[I 2022-08-16 00:15:40,196]\u001b[0m Trial 38 finished with value: 7974.458874458875 and parameters: {'kErase': 2, 'kRadius': 4, 'kAnnealingA': 12.648987129865395, 'kAnnealingB': 1.1856218737950688, 'kAnnealingStart': 3.8651379828557437, 'kSkipRatio': 0.5251269042149059, 'kTargetDeterminationTrials': 2, 'kAttractionRatio': 0.15330086617203284, 'kMaxAttractionDistance': 26, 'kStartAttraction': 0.2569015781858004}. Best is trial 29 with value: 8005.549783549784.\u001b[0m\n"
     ]
    },
    {
     "name": "stdout",
     "output_type": "stream",
     "text": [
      "index_parallel='0039'\n"
     ]
    },
    {
     "name": "stderr",
     "output_type": "stream",
     "text": [
      "\u001b[32m[I 2022-08-16 00:19:59,107]\u001b[0m Trial 39 finished with value: 7681.8138528138525 and parameters: {'kErase': 3, 'kRadius': 4, 'kAnnealingA': 10.70478795165412, 'kAnnealingB': 0.9917094084455573, 'kAnnealingStart': 1.1826804334966834, 'kSkipRatio': 0.5770643743966866, 'kTargetDeterminationTrials': 1, 'kAttractionRatio': 0.25091740931247936, 'kMaxAttractionDistance': 14, 'kStartAttraction': 0.17222309485912063}. Best is trial 29 with value: 8005.549783549784.\u001b[0m\n"
     ]
    },
    {
     "name": "stdout",
     "output_type": "stream",
     "text": [
      "index_parallel='0040'\n"
     ]
    },
    {
     "name": "stderr",
     "output_type": "stream",
     "text": [
      "\u001b[32m[I 2022-08-16 00:24:18,520]\u001b[0m Trial 40 finished with value: 7054.974025974026 and parameters: {'kErase': 4, 'kRadius': 5, 'kAnnealingA': 7.085004997850955, 'kAnnealingB': 1.4086649379734764, 'kAnnealingStart': 1.6772852225284702, 'kSkipRatio': 0.49674243907889015, 'kTargetDeterminationTrials': 3, 'kAttractionRatio': 0.38015562069970804, 'kMaxAttractionDistance': 9, 'kStartAttraction': 0.01614003902582292}. Best is trial 29 with value: 8005.549783549784.\u001b[0m\n"
     ]
    },
    {
     "name": "stdout",
     "output_type": "stream",
     "text": [
      "index_parallel='0041'\n"
     ]
    },
    {
     "name": "stderr",
     "output_type": "stream",
     "text": [
      "\u001b[32m[I 2022-08-16 00:28:37,916]\u001b[0m Trial 41 finished with value: 7965.450216450216 and parameters: {'kErase': 2, 'kRadius': 4, 'kAnnealingA': 12.513358443326291, 'kAnnealingB': 1.1944927287029332, 'kAnnealingStart': 4.07639369413292, 'kSkipRatio': 0.5253577073529165, 'kTargetDeterminationTrials': 2, 'kAttractionRatio': 0.13296766203995095, 'kMaxAttractionDistance': 25, 'kStartAttraction': 0.2501445077845143}. Best is trial 29 with value: 8005.549783549784.\u001b[0m\n"
     ]
    },
    {
     "name": "stdout",
     "output_type": "stream",
     "text": [
      "index_parallel='0042'\n"
     ]
    },
    {
     "name": "stderr",
     "output_type": "stream",
     "text": [
      "\u001b[32m[I 2022-08-16 00:32:57,044]\u001b[0m Trial 42 finished with value: 7761.428571428572 and parameters: {'kErase': 2, 'kRadius': 4, 'kAnnealingA': 13.50551767283638, 'kAnnealingB': 1.508774123698517, 'kAnnealingStart': 3.5847427621206913, 'kSkipRatio': 0.6675808241113735, 'kTargetDeterminationTrials': 2, 'kAttractionRatio': 0.09695324258555259, 'kMaxAttractionDistance': 20, 'kStartAttraction': 0.0034863627419828235}. Best is trial 29 with value: 8005.549783549784.\u001b[0m\n"
     ]
    },
    {
     "name": "stdout",
     "output_type": "stream",
     "text": [
      "index_parallel='0043'\n"
     ]
    },
    {
     "name": "stderr",
     "output_type": "stream",
     "text": [
      "\u001b[32m[I 2022-08-16 00:37:15,865]\u001b[0m Trial 43 finished with value: 8037.060606060606 and parameters: {'kErase': 2, 'kRadius': 4, 'kAnnealingA': 9.854250870071025, 'kAnnealingB': 0.8152868625587442, 'kAnnealingStart': 8.305066784642367, 'kSkipRatio': 0.6172437296686196, 'kTargetDeterminationTrials': 1, 'kAttractionRatio': 0.8103354344301232, 'kMaxAttractionDistance': 28, 'kStartAttraction': 0.6076911471997425}. Best is trial 43 with value: 8037.060606060606.\u001b[0m\n"
     ]
    },
    {
     "name": "stdout",
     "output_type": "stream",
     "text": [
      "Updated! 8037.060606060606\n",
      "index_parallel='0044'\n"
     ]
    },
    {
     "name": "stderr",
     "output_type": "stream",
     "text": [
      "\u001b[32m[I 2022-08-16 00:41:35,281]\u001b[0m Trial 44 finished with value: 8089.406926406927 and parameters: {'kErase': 2, 'kRadius': 4, 'kAnnealingA': 9.622046491212947, 'kAnnealingB': 0.7582932719399865, 'kAnnealingStart': 8.882538610152094, 'kSkipRatio': 0.7389750201612673, 'kTargetDeterminationTrials': 1, 'kAttractionRatio': 0.730919094530327, 'kMaxAttractionDistance': 41, 'kStartAttraction': 0.6187954443108655}. Best is trial 44 with value: 8089.406926406927.\u001b[0m\n"
     ]
    },
    {
     "name": "stdout",
     "output_type": "stream",
     "text": [
      "Updated! 8089.406926406927\n",
      "index_parallel='0045'\n"
     ]
    },
    {
     "name": "stderr",
     "output_type": "stream",
     "text": [
      "\u001b[32m[I 2022-08-16 00:45:54,614]\u001b[0m Trial 45 finished with value: 8071.7835497835495 and parameters: {'kErase': 3, 'kRadius': 4, 'kAnnealingA': 5.164610056607805, 'kAnnealingB': 0.7294295110466806, 'kAnnealingStart': 7.964645873955459, 'kSkipRatio': 0.7517176444309374, 'kTargetDeterminationTrials': 1, 'kAttractionRatio': 0.8555480930678098, 'kMaxAttractionDistance': 42, 'kStartAttraction': 0.6857777427883963}. Best is trial 44 with value: 8089.406926406927.\u001b[0m\n"
     ]
    },
    {
     "name": "stdout",
     "output_type": "stream",
     "text": [
      "index_parallel='0046'\n"
     ]
    },
    {
     "name": "stderr",
     "output_type": "stream",
     "text": [
      "\u001b[32m[I 2022-08-16 00:50:13,988]\u001b[0m Trial 46 finished with value: 8148.601731601731 and parameters: {'kErase': 3, 'kRadius': 4, 'kAnnealingA': 5.821112662615324, 'kAnnealingB': 0.5997321312698571, 'kAnnealingStart': 10.819394826606043, 'kSkipRatio': 0.7437913552157744, 'kTargetDeterminationTrials': 1, 'kAttractionRatio': 0.8128880694847109, 'kMaxAttractionDistance': 41, 'kStartAttraction': 0.7159039402052949}. Best is trial 46 with value: 8148.601731601731.\u001b[0m\n"
     ]
    },
    {
     "name": "stdout",
     "output_type": "stream",
     "text": [
      "Updated! 8148.601731601731\n",
      "index_parallel='0047'\n"
     ]
    },
    {
     "name": "stderr",
     "output_type": "stream",
     "text": [
      "\u001b[32m[I 2022-08-16 00:54:33,385]\u001b[0m Trial 47 finished with value: 7965.952380952381 and parameters: {'kErase': 4, 'kRadius': 3, 'kAnnealingA': 5.126862048071002, 'kAnnealingB': 0.6217370665769121, 'kAnnealingStart': 11.154972940027722, 'kSkipRatio': 0.7435551474704404, 'kTargetDeterminationTrials': 1, 'kAttractionRatio': 0.8783700313908186, 'kMaxAttractionDistance': 41, 'kStartAttraction': 0.8866226596824712}. Best is trial 46 with value: 8148.601731601731.\u001b[0m\n"
     ]
    },
    {
     "name": "stdout",
     "output_type": "stream",
     "text": [
      "index_parallel='0048'\n"
     ]
    },
    {
     "name": "stderr",
     "output_type": "stream",
     "text": [
      "\u001b[32m[I 2022-08-16 00:58:52,636]\u001b[0m Trial 48 finished with value: 8121.580086580087 and parameters: {'kErase': 3, 'kRadius': 5, 'kAnnealingA': 9.22944904913818, 'kAnnealingB': 0.5303983134703598, 'kAnnealingStart': 8.842089751308091, 'kSkipRatio': 0.7313234850112245, 'kTargetDeterminationTrials': 1, 'kAttractionRatio': 0.8612115172116728, 'kMaxAttractionDistance': 67, 'kStartAttraction': 0.6452158738200536}. Best is trial 46 with value: 8148.601731601731.\u001b[0m\n"
     ]
    },
    {
     "name": "stdout",
     "output_type": "stream",
     "text": [
      "index_parallel='0049'\n"
     ]
    },
    {
     "name": "stderr",
     "output_type": "stream",
     "text": [
      "\u001b[32m[I 2022-08-16 01:03:11,644]\u001b[0m Trial 49 finished with value: 8073.121212121212 and parameters: {'kErase': 3, 'kRadius': 6, 'kAnnealingA': 5.963297617920523, 'kAnnealingB': 0.5470147780722308, 'kAnnealingStart': 8.333362174839946, 'kSkipRatio': 0.7360059655815595, 'kTargetDeterminationTrials': 1, 'kAttractionRatio': 0.8207162572568542, 'kMaxAttractionDistance': 64, 'kStartAttraction': 0.6815754874387159}. Best is trial 46 with value: 8148.601731601731.\u001b[0m\n"
     ]
    },
    {
     "name": "stdout",
     "output_type": "stream",
     "text": [
      "index_parallel='0050'\n"
     ]
    },
    {
     "name": "stderr",
     "output_type": "stream",
     "text": [
      "\u001b[32m[I 2022-08-16 01:07:30,833]\u001b[0m Trial 50 finished with value: 8129.839826839827 and parameters: {'kErase': 3, 'kRadius': 6, 'kAnnealingA': 2.2639541984875127, 'kAnnealingB': 0.7361877888173439, 'kAnnealingStart': 18.50683032177189, 'kSkipRatio': 0.7400776154162302, 'kTargetDeterminationTrials': 1, 'kAttractionRatio': 0.5215101528850579, 'kMaxAttractionDistance': 64, 'kStartAttraction': 0.6827139620653798}. Best is trial 46 with value: 8148.601731601731.\u001b[0m\n"
     ]
    },
    {
     "name": "stdout",
     "output_type": "stream",
     "text": [
      "index_parallel='0051'\n"
     ]
    },
    {
     "name": "stderr",
     "output_type": "stream",
     "text": [
      "\u001b[32m[I 2022-08-16 01:11:49,973]\u001b[0m Trial 51 finished with value: 8169.242424242424 and parameters: {'kErase': 3, 'kRadius': 6, 'kAnnealingA': 1.3010570058150372, 'kAnnealingB': 0.567600312176857, 'kAnnealingStart': 22.29811316452909, 'kSkipRatio': 0.733682118609247, 'kTargetDeterminationTrials': 1, 'kAttractionRatio': 0.5681321627295073, 'kMaxAttractionDistance': 67, 'kStartAttraction': 0.735819748530746}. Best is trial 51 with value: 8169.242424242424.\u001b[0m\n"
     ]
    },
    {
     "name": "stdout",
     "output_type": "stream",
     "text": [
      "Updated! 8169.242424242424\n",
      "index_parallel='0052'\n"
     ]
    },
    {
     "name": "stderr",
     "output_type": "stream",
     "text": [
      "\u001b[32m[I 2022-08-16 01:16:09,204]\u001b[0m Trial 52 finished with value: 8118.666666666667 and parameters: {'kErase': 3, 'kRadius': 6, 'kAnnealingA': 1.8684999816193821, 'kAnnealingB': 0.5280630698819433, 'kAnnealingStart': 22.176211044876435, 'kSkipRatio': 0.7173013371449463, 'kTargetDeterminationTrials': 1, 'kAttractionRatio': 0.5646138322486602, 'kMaxAttractionDistance': 69, 'kStartAttraction': 0.6927047398949467}. Best is trial 51 with value: 8169.242424242424.\u001b[0m\n"
     ]
    },
    {
     "name": "stdout",
     "output_type": "stream",
     "text": [
      "index_parallel='0053'\n"
     ]
    },
    {
     "name": "stderr",
     "output_type": "stream",
     "text": [
      "\u001b[32m[I 2022-08-16 01:20:28,686]\u001b[0m Trial 53 finished with value: 8099.549783549784 and parameters: {'kErase': 3, 'kRadius': 6, 'kAnnealingA': 1.4237953128484182, 'kAnnealingB': 0.530514179503689, 'kAnnealingStart': 19.835296979125417, 'kSkipRatio': 0.7927220708875021, 'kTargetDeterminationTrials': 1, 'kAttractionRatio': 0.5126743210733722, 'kMaxAttractionDistance': 75, 'kStartAttraction': 0.8446714731096707}. Best is trial 51 with value: 8169.242424242424.\u001b[0m\n"
     ]
    },
    {
     "name": "stdout",
     "output_type": "stream",
     "text": [
      "index_parallel='0054'\n"
     ]
    },
    {
     "name": "stderr",
     "output_type": "stream",
     "text": [
      "\u001b[32m[I 2022-08-16 01:24:48,422]\u001b[0m Trial 54 finished with value: 8053.069264069264 and parameters: {'kErase': 4, 'kRadius': 6, 'kAnnealingA': 1.3928773804624404, 'kAnnealingB': 0.5721980793549573, 'kAnnealingStart': 20.31686725348814, 'kSkipRatio': 0.7988855661125356, 'kTargetDeterminationTrials': 2, 'kAttractionRatio': 0.5323021466540678, 'kMaxAttractionDistance': 68, 'kStartAttraction': 0.8982020700444766}. Best is trial 51 with value: 8169.242424242424.\u001b[0m\n"
     ]
    },
    {
     "name": "stdout",
     "output_type": "stream",
     "text": [
      "index_parallel='0055'\n"
     ]
    },
    {
     "name": "stderr",
     "output_type": "stream",
     "text": [
      "\u001b[32m[I 2022-08-16 01:29:07,604]\u001b[0m Trial 55 finished with value: 7680.493506493506 and parameters: {'kErase': 3, 'kRadius': 6, 'kAnnealingA': 1.6269704943829444, 'kAnnealingB': 0.25230225400915385, 'kAnnealingStart': 41.3598201416685, 'kSkipRatio': 0.7729692688529926, 'kTargetDeterminationTrials': 2, 'kAttractionRatio': 0.5903840416344351, 'kMaxAttractionDistance': 80, 'kStartAttraction': 0.3932811481908054}. Best is trial 51 with value: 8169.242424242424.\u001b[0m\n"
     ]
    },
    {
     "name": "stdout",
     "output_type": "stream",
     "text": [
      "index_parallel='0056'\n"
     ]
    },
    {
     "name": "stderr",
     "output_type": "stream",
     "text": [
      "\u001b[32m[I 2022-08-16 01:33:26,628]\u001b[0m Trial 56 finished with value: 7916.316017316018 and parameters: {'kErase': 3, 'kRadius': 6, 'kAnnealingA': -1.7664279844369128, 'kAnnealingB': 0.478323953746692, 'kAnnealingStart': 19.308155554271806, 'kSkipRatio': 0.711486133492421, 'kTargetDeterminationTrials': 1, 'kAttractionRatio': 0.46284219510645214, 'kMaxAttractionDistance': 99, 'kStartAttraction': 0.20597664185414896}. Best is trial 51 with value: 8169.242424242424.\u001b[0m\n"
     ]
    },
    {
     "name": "stdout",
     "output_type": "stream",
     "text": [
      "index_parallel='0057'\n"
     ]
    },
    {
     "name": "stderr",
     "output_type": "stream",
     "text": [
      "\u001b[32m[I 2022-08-16 01:37:45,687]\u001b[0m Trial 57 finished with value: 8099.415584415585 and parameters: {'kErase': 3, 'kRadius': 6, 'kAnnealingA': 2.4529608524720783, 'kAnnealingB': 0.12339362169573542, 'kAnnealingStart': 26.360752937220518, 'kSkipRatio': 0.768994571664466, 'kTargetDeterminationTrials': 1, 'kAttractionRatio': 0.5475403940244953, 'kMaxAttractionDistance': 76, 'kStartAttraction': 0.7114343076049932}. Best is trial 51 with value: 8169.242424242424.\u001b[0m\n"
     ]
    },
    {
     "name": "stdout",
     "output_type": "stream",
     "text": [
      "index_parallel='0058'\n"
     ]
    },
    {
     "name": "stderr",
     "output_type": "stream",
     "text": [
      "\u001b[32m[I 2022-08-16 01:42:05,476]\u001b[0m Trial 58 finished with value: 7656.142857142857 and parameters: {'kErase': 4, 'kRadius': 6, 'kAnnealingA': -2.1429156356953, 'kAnnealingB': 0.2713495109596532, 'kAnnealingStart': 36.41268862820958, 'kSkipRatio': 0.723384806138237, 'kTargetDeterminationTrials': 5, 'kAttractionRatio': 0.6835029974264869, 'kMaxAttractionDistance': 58, 'kStartAttraction': 0.40333697771653526}. Best is trial 51 with value: 8169.242424242424.\u001b[0m\n"
     ]
    },
    {
     "name": "stdout",
     "output_type": "stream",
     "text": [
      "index_parallel='0059'\n"
     ]
    },
    {
     "name": "stderr",
     "output_type": "stream",
     "text": [
      "\u001b[32m[I 2022-08-16 01:46:24,881]\u001b[0m Trial 59 finished with value: 7951.939393939394 and parameters: {'kErase': 3, 'kRadius': 6, 'kAnnealingA': -0.7962337855533219, 'kAnnealingB': 2.6360744383737975, 'kAnnealingStart': 13.684161207355938, 'kSkipRatio': 0.682470979946552, 'kTargetDeterminationTrials': 2, 'kAttractionRatio': 0.42475350972874454, 'kMaxAttractionDistance': 87, 'kStartAttraction': 0.3097785366615411}. Best is trial 51 with value: 8169.242424242424.\u001b[0m\n"
     ]
    },
    {
     "name": "stdout",
     "output_type": "stream",
     "text": [
      "index_parallel='0060'\n"
     ]
    },
    {
     "name": "stderr",
     "output_type": "stream",
     "text": [
      "\u001b[32m[I 2022-08-16 01:50:44,156]\u001b[0m Trial 60 finished with value: 8078.2770562770565 and parameters: {'kErase': 3, 'kRadius': 6, 'kAnnealingA': 0.364691253848174, 'kAnnealingB': 0.5028043571454952, 'kAnnealingStart': 23.3333738159269, 'kSkipRatio': 0.7550344443255554, 'kTargetDeterminationTrials': 9, 'kAttractionRatio': 0.583151539734572, 'kMaxAttractionDistance': 71, 'kStartAttraction': 0.7790209259764131}. Best is trial 51 with value: 8169.242424242424.\u001b[0m\n"
     ]
    },
    {
     "name": "stdout",
     "output_type": "stream",
     "text": [
      "index_parallel='0061'\n"
     ]
    },
    {
     "name": "stderr",
     "output_type": "stream",
     "text": [
      "\u001b[32m[I 2022-08-16 01:55:03,112]\u001b[0m Trial 61 finished with value: 8040.770562770563 and parameters: {'kErase': 3, 'kRadius': 6, 'kAnnealingA': 2.421853981277416, 'kAnnealingB': 0.07790955180678005, 'kAnnealingStart': 31.152721684434287, 'kSkipRatio': 0.778732795936682, 'kTargetDeterminationTrials': 1, 'kAttractionRatio': 0.6213387254496349, 'kMaxAttractionDistance': 76, 'kStartAttraction': 0.7249065005953329}. Best is trial 51 with value: 8169.242424242424.\u001b[0m\n"
     ]
    },
    {
     "name": "stdout",
     "output_type": "stream",
     "text": [
      "index_parallel='0062'\n"
     ]
    },
    {
     "name": "stderr",
     "output_type": "stream",
     "text": [
      "\u001b[32m[I 2022-08-16 01:59:22,629]\u001b[0m Trial 62 finished with value: 7553.670995670996 and parameters: {'kErase': 3, 'kRadius': 6, 'kAnnealingA': 3.556289397186446, 'kAnnealingB': 0.17139450470364848, 'kAnnealingStart': 58.94938516043918, 'kSkipRatio': 0.7964651471085132, 'kTargetDeterminationTrials': 1, 'kAttractionRatio': 0.5187239854880764, 'kMaxAttractionDistance': 60, 'kStartAttraction': 0.8902417250879956}. Best is trial 51 with value: 8169.242424242424.\u001b[0m\n"
     ]
    },
    {
     "name": "stdout",
     "output_type": "stream",
     "text": [
      "index_parallel='0063'\n"
     ]
    },
    {
     "name": "stderr",
     "output_type": "stream",
     "text": [
      "\u001b[32m[I 2022-08-16 02:03:41,912]\u001b[0m Trial 63 finished with value: 8018.878787878788 and parameters: {'kErase': 3, 'kRadius': 6, 'kAnnealingA': 0.6815161341241882, 'kAnnealingB': 0.6323452482951354, 'kAnnealingStart': 17.64253190929325, 'kSkipRatio': 0.723478667455194, 'kTargetDeterminationTrials': 1, 'kAttractionRatio': 0.7132113253481631, 'kMaxAttractionDistance': 88, 'kStartAttraction': 0.4711698537561054}. Best is trial 51 with value: 8169.242424242424.\u001b[0m\n"
     ]
    },
    {
     "name": "stdout",
     "output_type": "stream",
     "text": [
      "index_parallel='0064'\n"
     ]
    },
    {
     "name": "stderr",
     "output_type": "stream",
     "text": [
      "\u001b[32m[I 2022-08-16 02:08:00,844]\u001b[0m Trial 64 finished with value: 8069.865800865801 and parameters: {'kErase': 3, 'kRadius': 5, 'kAnnealingA': 2.139514622096862, 'kAnnealingB': 0.37229783728143684, 'kAnnealingStart': 24.47246647758807, 'kSkipRatio': 0.7642289946848515, 'kTargetDeterminationTrials': 1, 'kAttractionRatio': 0.5112180505724425, 'kMaxAttractionDistance': 52, 'kStartAttraction': 0.687766219818147}. Best is trial 51 with value: 8169.242424242424.\u001b[0m\n"
     ]
    },
    {
     "name": "stdout",
     "output_type": "stream",
     "text": [
      "index_parallel='0065'\n"
     ]
    },
    {
     "name": "stderr",
     "output_type": "stream",
     "text": [
      "\u001b[32m[I 2022-08-16 02:12:20,298]\u001b[0m Trial 65 finished with value: 7828.25974025974 and parameters: {'kErase': 4, 'kRadius': 6, 'kAnnealingA': 4.310107152525109, 'kAnnealingB': 0.43893946223116226, 'kAnnealingStart': 10.75907923906241, 'kSkipRatio': 0.7063628207231647, 'kTargetDeterminationTrials': 7, 'kAttractionRatio': 0.369935761897905, 'kMaxAttractionDistance': 72, 'kStartAttraction': 0.30434699140722354}. Best is trial 51 with value: 8169.242424242424.\u001b[0m\n"
     ]
    },
    {
     "name": "stdout",
     "output_type": "stream",
     "text": [
      "index_parallel='0066'\n"
     ]
    },
    {
     "name": "stderr",
     "output_type": "stream",
     "text": [
      "\u001b[32m[I 2022-08-16 02:16:39,977]\u001b[0m Trial 66 finished with value: 7792.428571428572 and parameters: {'kErase': 5, 'kRadius': 5, 'kAnnealingA': -5.102566377906624, 'kAnnealingB': 0.3100945323641839, 'kAnnealingStart': 16.04962783577513, 'kSkipRatio': 0.7671980277720508, 'kTargetDeterminationTrials': 1, 'kAttractionRatio': 0.42226782929003376, 'kMaxAttractionDistance': 47, 'kStartAttraction': 0.40878806555598496}. Best is trial 51 with value: 8169.242424242424.\u001b[0m\n"
     ]
    },
    {
     "name": "stdout",
     "output_type": "stream",
     "text": [
      "index_parallel='0067'\n"
     ]
    },
    {
     "name": "stderr",
     "output_type": "stream",
     "text": [
      "\u001b[32m[I 2022-08-16 02:20:59,232]\u001b[0m Trial 67 finished with value: 8024.212121212121 and parameters: {'kErase': 3, 'kRadius': 6, 'kAnnealingA': -14.51471606332715, 'kAnnealingB': 0.1822295486838002, 'kAnnealingStart': 12.284265724629847, 'kSkipRatio': 0.7310662977931369, 'kTargetDeterminationTrials': 1, 'kAttractionRatio': 0.7179401034894662, 'kMaxAttractionDistance': 64, 'kStartAttraction': 0.703991861177744}. Best is trial 51 with value: 8169.242424242424.\u001b[0m\n"
     ]
    },
    {
     "name": "stdout",
     "output_type": "stream",
     "text": [
      "index_parallel='0068'\n"
     ]
    },
    {
     "name": "stderr",
     "output_type": "stream",
     "text": [
      "\u001b[32m[I 2022-08-16 02:25:18,666]\u001b[0m Trial 68 finished with value: 7809.584415584415 and parameters: {'kErase': 4, 'kRadius': 6, 'kAnnealingA': -10.734953533357206, 'kAnnealingB': 0.6922637916999432, 'kAnnealingStart': 31.1341584987338, 'kSkipRatio': 0.6874090257756117, 'kTargetDeterminationTrials': 5, 'kAttractionRatio': 0.5610161889632298, 'kMaxAttractionDistance': 82, 'kStartAttraction': 0.455577535915448}. Best is trial 51 with value: 8169.242424242424.\u001b[0m\n"
     ]
    },
    {
     "name": "stdout",
     "output_type": "stream",
     "text": [
      "index_parallel='0069'\n"
     ]
    },
    {
     "name": "stderr",
     "output_type": "stream",
     "text": [
      "\u001b[32m[I 2022-08-16 02:29:37,785]\u001b[0m Trial 69 finished with value: 7951.025974025974 and parameters: {'kErase': 3, 'kRadius': 6, 'kAnnealingA': 3.027436338262734, 'kAnnealingB': 0.07537374438028688, 'kAnnealingStart': 22.633707897644385, 'kSkipRatio': 0.6678515900141465, 'kTargetDeterminationTrials': 1, 'kAttractionRatio': 0.32535637334877565, 'kMaxAttractionDistance': 58, 'kStartAttraction': 0.36799770406605586}. Best is trial 51 with value: 8169.242424242424.\u001b[0m\n"
     ]
    },
    {
     "name": "stdout",
     "output_type": "stream",
     "text": [
      "index_parallel='0070'\n"
     ]
    },
    {
     "name": "stderr",
     "output_type": "stream",
     "text": [
      "\u001b[32m[I 2022-08-16 02:33:56,941]\u001b[0m Trial 70 finished with value: 7694.099567099567 and parameters: {'kErase': 3, 'kRadius': 5, 'kAnnealingA': 0.3376176771985131, 'kAnnealingB': 0.7886305700458304, 'kAnnealingStart': 49.68396019693651, 'kSkipRatio': 0.7445616278038578, 'kTargetDeterminationTrials': 1, 'kAttractionRatio': 0.4152631157298757, 'kMaxAttractionDistance': 46, 'kStartAttraction': 0.14935320316284798}. Best is trial 51 with value: 8169.242424242424.\u001b[0m\n"
     ]
    },
    {
     "name": "stdout",
     "output_type": "stream",
     "text": [
      "index_parallel='0071'\n"
     ]
    }
   ],
   "source": [
    "study.optimize(\n",
    "    partial(objective, in_dir=in_dir, work_dir=work_dir),\n",
    "    n_trials=3000,\n",
    "    timeout=86400,\n",
    "    callbacks=[callback]\n",
    ")"
   ]
  },
  {
   "cell_type": "code",
   "execution_count": null,
   "id": "700269d2",
   "metadata": {},
   "outputs": [],
   "source": []
  }
 ],
 "metadata": {
  "kernelspec": {
   "display_name": "Python 3 (ipykernel)",
   "language": "python",
   "name": "python3"
  },
  "language_info": {
   "codemirror_mode": {
    "name": "ipython",
    "version": 3
   },
   "file_extension": ".py",
   "mimetype": "text/x-python",
   "name": "python",
   "nbconvert_exporter": "python",
   "pygments_lexer": "ipython3",
   "version": "3.9.12"
  }
 },
 "nbformat": 4,
 "nbformat_minor": 5
}
