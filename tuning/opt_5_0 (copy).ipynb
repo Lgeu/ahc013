{
 "cells": [
  {
   "cell_type": "code",
   "execution_count": 1,
   "id": "25a1dac8",
   "metadata": {},
   "outputs": [],
   "source": [
    "import re\n",
    "import sys\n",
    "from uuid import uuid1\n",
    "from time import sleep\n",
    "from pprint import pprint\n",
    "from pathlib import Path\n",
    "from tempfile import gettempdir\n",
    "from threading import Thread\n",
    "from functools import partial\n",
    "from subprocess import Popen, PIPE\n",
    "\n",
    "from tqdm.notebook import tqdm\n",
    "import numpy as np\n",
    "import optuna\n",
    "import pandas as pd\n",
    "import matplotlib.pyplot as plt\n",
    "\n",
    "FILENAME = \"main.cpp\""
   ]
  },
  {
   "cell_type": "code",
   "execution_count": 2,
   "id": "3dd4d02e",
   "metadata": {},
   "outputs": [
    {
     "name": "stdout",
     "output_type": "stream",
     "text": [
      "10 variables were found.\n"
     ]
    },
    {
     "data": {
      "text/html": [
       "<div>\n",
       "<style scoped>\n",
       "    .dataframe tbody tr th:only-of-type {\n",
       "        vertical-align: middle;\n",
       "    }\n",
       "\n",
       "    .dataframe tbody tr th {\n",
       "        vertical-align: top;\n",
       "    }\n",
       "\n",
       "    .dataframe thead th {\n",
       "        text-align: right;\n",
       "    }\n",
       "</style>\n",
       "<table border=\"1\" class=\"dataframe\">\n",
       "  <thead>\n",
       "    <tr style=\"text-align: right;\">\n",
       "      <th></th>\n",
       "      <th>name</th>\n",
       "      <th>method</th>\n",
       "      <th>min</th>\n",
       "      <th>max</th>\n",
       "      <th>log</th>\n",
       "      <th>left</th>\n",
       "      <th>right</th>\n",
       "    </tr>\n",
       "  </thead>\n",
       "  <tbody>\n",
       "    <tr>\n",
       "      <th>0</th>\n",
       "      <td>kErase</td>\n",
       "      <td>suggest_int</td>\n",
       "      <td>1.000</td>\n",
       "      <td>5.0</td>\n",
       "      <td>False</td>\n",
       "      <td>static constexpr auto kErase =</td>\n",
       "      <td>;             // OPTIMIZE [1, 5]</td>\n",
       "    </tr>\n",
       "    <tr>\n",
       "      <th>1</th>\n",
       "      <td>kRadius</td>\n",
       "      <td>suggest_int</td>\n",
       "      <td>2.000</td>\n",
       "      <td>6.0</td>\n",
       "      <td>False</td>\n",
       "      <td>static constexpr auto kRadius =</td>\n",
       "      <td>;            // OPTIMIZE [2, 6]</td>\n",
       "    </tr>\n",
       "    <tr>\n",
       "      <th>2</th>\n",
       "      <td>kAnnealingA</td>\n",
       "      <td>suggest_float</td>\n",
       "      <td>-15.000</td>\n",
       "      <td>15.0</td>\n",
       "      <td>False</td>\n",
       "      <td>static constexpr auto kAnnealingA =</td>\n",
       "      <td>;      // OPTIMIZE [-15.0, 15.0]</td>\n",
       "    </tr>\n",
       "    <tr>\n",
       "      <th>3</th>\n",
       "      <td>kAnnealingB</td>\n",
       "      <td>suggest_float</td>\n",
       "      <td>0.000</td>\n",
       "      <td>3.0</td>\n",
       "      <td>False</td>\n",
       "      <td>static constexpr auto kAnnealingB =</td>\n",
       "      <td>;      // OPTIMIZE [0.0, 3.0]</td>\n",
       "    </tr>\n",
       "    <tr>\n",
       "      <th>4</th>\n",
       "      <td>kAnnealingStart</td>\n",
       "      <td>suggest_float</td>\n",
       "      <td>1.000</td>\n",
       "      <td>100.0</td>\n",
       "      <td>True</td>\n",
       "      <td>static constexpr auto kAnnealingStart =</td>\n",
       "      <td>; // OPTIMIZE LOG [1.0, 100.0]</td>\n",
       "    </tr>\n",
       "    <tr>\n",
       "      <th>5</th>\n",
       "      <td>kSkipRatio</td>\n",
       "      <td>suggest_float</td>\n",
       "      <td>0.200</td>\n",
       "      <td>0.8</td>\n",
       "      <td>False</td>\n",
       "      <td>static constexpr auto kSkipRatio =</td>\n",
       "      <td>;       // OPTIMIZE [0.2, 0.8]</td>\n",
       "    </tr>\n",
       "    <tr>\n",
       "      <th>6</th>\n",
       "      <td>kTargetDeterminationTrials</td>\n",
       "      <td>suggest_int</td>\n",
       "      <td>1.000</td>\n",
       "      <td>20.0</td>\n",
       "      <td>True</td>\n",
       "      <td>static constexpr auto kTargetDeterminationTria...</td>\n",
       "      <td>; // OPTIMIZE LOG [1, 20]</td>\n",
       "    </tr>\n",
       "    <tr>\n",
       "      <th>7</th>\n",
       "      <td>kAttractionRatio</td>\n",
       "      <td>suggest_float</td>\n",
       "      <td>0.010</td>\n",
       "      <td>0.9</td>\n",
       "      <td>True</td>\n",
       "      <td>static constexpr auto kAttractionRatio =</td>\n",
       "      <td>;      // OPTIMIZE LOG [0.01, 0.9]</td>\n",
       "    </tr>\n",
       "    <tr>\n",
       "      <th>8</th>\n",
       "      <td>kMaxAttractionDistance</td>\n",
       "      <td>suggest_int</td>\n",
       "      <td>4.000</td>\n",
       "      <td>99.0</td>\n",
       "      <td>True</td>\n",
       "      <td>static constexpr auto kMaxAttractionDistance =</td>\n",
       "      <td>; // OPTIMIZE LOG [4, 99]</td>\n",
       "    </tr>\n",
       "    <tr>\n",
       "      <th>9</th>\n",
       "      <td>kStartAttraction</td>\n",
       "      <td>suggest_float</td>\n",
       "      <td>0.001</td>\n",
       "      <td>0.9</td>\n",
       "      <td>True</td>\n",
       "      <td>static constexpr auto kStartAttraction =</td>\n",
       "      <td>;     // OPTIMIZE LOG [0.001, 0.9]</td>\n",
       "    </tr>\n",
       "  </tbody>\n",
       "</table>\n",
       "</div>"
      ],
      "text/plain": [
       "                         name         method     min    max    log  \\\n",
       "0                      kErase    suggest_int   1.000    5.0  False   \n",
       "1                     kRadius    suggest_int   2.000    6.0  False   \n",
       "2                 kAnnealingA  suggest_float -15.000   15.0  False   \n",
       "3                 kAnnealingB  suggest_float   0.000    3.0  False   \n",
       "4             kAnnealingStart  suggest_float   1.000  100.0   True   \n",
       "5                  kSkipRatio  suggest_float   0.200    0.8  False   \n",
       "6  kTargetDeterminationTrials    suggest_int   1.000   20.0   True   \n",
       "7            kAttractionRatio  suggest_float   0.010    0.9   True   \n",
       "8      kMaxAttractionDistance    suggest_int   4.000   99.0   True   \n",
       "9            kStartAttraction  suggest_float   0.001    0.9   True   \n",
       "\n",
       "                                                left  \\\n",
       "0                    static constexpr auto kErase =    \n",
       "1                   static constexpr auto kRadius =    \n",
       "2               static constexpr auto kAnnealingA =    \n",
       "3               static constexpr auto kAnnealingB =    \n",
       "4           static constexpr auto kAnnealingStart =    \n",
       "5                static constexpr auto kSkipRatio =    \n",
       "6  static constexpr auto kTargetDeterminationTria...   \n",
       "7          static constexpr auto kAttractionRatio =    \n",
       "8    static constexpr auto kMaxAttractionDistance =    \n",
       "9          static constexpr auto kStartAttraction =    \n",
       "\n",
       "                                right  \n",
       "0    ;             // OPTIMIZE [1, 5]  \n",
       "1     ;            // OPTIMIZE [2, 6]  \n",
       "2    ;      // OPTIMIZE [-15.0, 15.0]  \n",
       "3       ;      // OPTIMIZE [0.0, 3.0]  \n",
       "4      ; // OPTIMIZE LOG [1.0, 100.0]  \n",
       "5      ;       // OPTIMIZE [0.2, 0.8]  \n",
       "6           ; // OPTIMIZE LOG [1, 20]  \n",
       "7  ;      // OPTIMIZE LOG [0.01, 0.9]  \n",
       "8           ; // OPTIMIZE LOG [4, 99]  \n",
       "9  ;     // OPTIMIZE LOG [0.001, 0.9]  "
      ]
     },
     "metadata": {},
     "output_type": "display_data"
    }
   ],
   "source": [
    "# ここでエラー出力は何かおかしいかもしれない\n",
    "\n",
    "\n",
    "# パラメータ抽出\n",
    "with open(FILENAME) as f:\n",
    "    answer = f.read()\n",
    "\n",
    "\n",
    "variables_optimize = []\n",
    "\n",
    "for left, value, right, options in re.findall(r\"^([^/\\n]*=\\s*)(.+?)(\\s*;\\s*//(?:.*\\W)?OPTIMIZE(\\W.*))$\", answer, re.MULTILINE):\n",
    "    name = left.replace(\"=\", \"\").strip().split()[-1]\n",
    "    \n",
    "    searched = re.search(r\".*\\[(?P<min>.*),(?P<max>.*)\\].*\", options)\n",
    "    if searched:\n",
    "        min_value = max_value = None\n",
    "        try:\n",
    "            min_value = eval(searched.group(\"min\"))\n",
    "            max_value = eval(searched.group(\"max\"))\n",
    "            assert min_value <= max_value\n",
    "        except Exception as e:\n",
    "            print(f\"searched={searched}\", file=sys.stderr)\n",
    "            print(e, file=sys.stderr)\n",
    "            continue\n",
    "        log = \"LOG\" in options  # 雑、直したほうが良い\n",
    "        if type(min_value) != type(max_value):\n",
    "            print(f\"searched={searched}\", file=sys.stderr)\n",
    "            print(\"types not matched\", file=sys.stderr)\n",
    "            continue\n",
    "        if isinstance(min_value, int):\n",
    "            method = \"suggest_int\"\n",
    "        elif isinstance(min_value, float):\n",
    "            method = \"suggest_float\"\n",
    "        else:\n",
    "            print(f\"searched={searched}\", file=sys.stderr)\n",
    "            print(f\"unknown type ({type(min_value)})\", file=sys.stderr)\n",
    "            continue\n",
    "        variables_optimize.append({\n",
    "            \"name\": name,\n",
    "            \"method\": method,\n",
    "            \"min\": min_value,\n",
    "            \"max\": max_value,\n",
    "            \"log\": log,\n",
    "            \"left\": left,\n",
    "            \"right\": right,\n",
    "        })\n",
    "    elif searched := re.search(r\".*\\{(?P<choices>.*?)\\}.*\", options):\n",
    "        choices = list(map(lambda x: x.strip(), searched.group(\"choices\").split(\",\")))\n",
    "        variables_optimize.append({\n",
    "            \"name\": name,\n",
    "            \"method\": \"suggest_categorical\",\n",
    "            \"choices\": choices,\n",
    "            \"left\": left,\n",
    "            \"right\": right,\n",
    "        })\n",
    "    else:\n",
    "        print(f\"searched={searched}\", file=sys.stderr)\n",
    "        print(f\"pattern was matched but options are incorrect.\", file=sys.stderr)\n",
    "\n",
    "print(len(variables_optimize), \"variables were found.\")\n",
    "if globals().get(\"pd\"):\n",
    "    display(pd.DataFrame(variables_optimize))\n",
    "else:\n",
    "    pprint(variables_optimize)"
   ]
  },
  {
   "cell_type": "code",
   "execution_count": 3,
   "id": "001042b9",
   "metadata": {},
   "outputs": [],
   "source": [
    "def escape(string):  # 正規表現の中でそのまま使いたい文字列をエスケープ\n",
    "    res = !echo '{string}' | sed -e 's/[]\\/$*.^[]/\\\\&/g'\n",
    "    return res[0]\n",
    "\n",
    "def escape_sed(string):  # sed の置換後の文字列用のエスケープ\n",
    "    res = !echo '{string}' | sed -e 's/[\\/&]/\\\\&/g'\n",
    "    return res[0]\n",
    "\n",
    "def read_stream(name, in_file, out_file):\n",
    "    for line in in_file:\n",
    "        print(f\"[{name}] {line.strip()}\", file=out_file)\n",
    "\n",
    "def run(cmd, name):\n",
    "    proc = Popen(cmd, stdout=PIPE, stderr=PIPE, universal_newlines=True, shell=isinstance(cmd, str))\n",
    "    stdout_thread = Thread(target=read_stream, args=(name, proc.stdout, sys.stdout))\n",
    "    stderr_thread = Thread(target=read_stream, args=(name, proc.stderr, sys.stderr))\n",
    "    stdout_thread.start()\n",
    "    stderr_thread.start()\n",
    "    proc.wait()\n",
    "    return proc\n",
    "\n",
    "def objective(trial, in_dir, work_dir):\n",
    "    n_internal_parallel = 3\n",
    "    \n",
    "    index_parallel = f\"{trial.number:04d}\"\n",
    "    print(f\"{index_parallel=}\")\n",
    "    \n",
    "    work_dir = Path(work_dir)\n",
    "    directory_input = Path(in_dir)  # 中のすべてのファイルに対して実行される\n",
    "    #parameters_changed_filename = Path(gettempdir()) / str(uuid1())\n",
    "    parameters_changed_filename = work_dir / f\"{index_parallel}_{FILENAME}\"\n",
    "    \n",
    "    run([\"mkdir\", f\"{work_dir / index_parallel}_out\"], \"mkdir\")\n",
    "    run([\"mkdir\", f\"{work_dir / index_parallel}_score\"], \"mkdir\")\n",
    "    \n",
    "    # ファイル作成\n",
    "    run(f\"cp {FILENAME} {parameters_changed_filename}\", \"cp\")\n",
    "    sed_options = [f\"-i {parameters_changed_filename}\"]\n",
    "    for variable in variables_optimize:\n",
    "        if variable[\"method\"] == \"suggest_categorical\":\n",
    "            val =  trial.suggest_categorical(variable[\"name\"], variable[\"choices\"])\n",
    "        else:\n",
    "            val = getattr(trial, variable[\"method\"])(variable[\"name\"], variable[\"min\"], variable[\"max\"], log=variable[\"log\"])\n",
    "        left = variable[\"left\"]\n",
    "        right = variable[\"right\"]\n",
    "        sed_options.append(f\"\"\"-e 's/^{escape(left)}.*{escape(right)}$/{escape_sed(left)}{val}{escape_sed(right)}/'\"\"\")\n",
    "    command_sed = f\"sed {' '.join(sed_options)}\"\n",
    "    #print(command_sed)\n",
    "    run(command_sed, \"sed\")\n",
    "    \n",
    "    # コンパイル\n",
    "    command_compile = f\"g++ {parameters_changed_filename} -std=gnu++17 -O2 -DONLINE_JUDGE -o {parameters_changed_filename}.out\"\n",
    "    #print(command_compile)\n",
    "    run(command_compile, \"compile\")\n",
    "    # 実行・採点コマンド (@ はファイル名)\n",
    "    command_exec = (\n",
    "        #f\"./a.out < ./tools/in/{i:04d}.txt > {out_file} && ./tools/target/release/vis ./tools/in/{i:04d}.txt {out_file}\"\n",
    "        #f\"../tools/target/release/tester $(pwd)/{parameters_changed_filename}.out < {directory_input}/@ 2>&1 | grep Score\"\n",
    "        #f\"../tools/target/release/tester $(pwd)/{parameters_changed_filename}.out < {directory_input}/@ 2>&1 | grep Score | sed -E s/[^0-9]+// > ./{index_parallel}_score/@;\"\n",
    "        #f\"cargo run --release --manifest-path ../tools/Cargo.toml --bin tester {directory_input}/@ $(pwd)/{parameters_changed_filename}.out 2>&1 | grep Score | sed -E s/[^0-9]+// > ./{index_parallel}_score/@;\"\n",
    "        f\"./{parameters_changed_filename}.out < {directory_input}/@ > {work_dir / index_parallel}_out/@;\"\n",
    "        f\"../tools/target/release/vis {directory_input}/@ {work_dir / index_parallel}_out/@ 2> /dev/null > {work_dir / index_parallel}_score/@;\"\n",
    "    )\n",
    "    # 並列実行 (sed はパスのディレクトリ部分を消してファイル名にしてる)\n",
    "    run(f\"find {directory_input}/* | sed 's!^.*/!!' | xargs -I@ -P {n_internal_parallel} sh -c '{command_exec}'\", \"exec\")\n",
    "    \n",
    "    # 集計\n",
    "    scores = []\n",
    "    for file_path in Path(f\"{work_dir / index_parallel}_score/\").iterdir():  \n",
    "        with open(file_path) as f:\n",
    "            scores.append(int(f.readline().strip().split()[-1]))\n",
    "    mean_score = sum(scores) / len(scores)\n",
    "    \n",
    "    # 後始末\n",
    "    run(f\"rm -rf {work_dir / index_parallel}_out\", \"rm\")\n",
    "    run(f\"rm -rf {work_dir / index_parallel}_score\", \"rm\")\n",
    "    #run(f\"rm {parameters_changed_filename}\", \"rm\")\n",
    "    run(f\"rm {parameters_changed_filename}.out\", \"rm\")\n",
    "    \n",
    "    return mean_score"
   ]
  },
  {
   "cell_type": "code",
   "execution_count": 4,
   "id": "2d2e133c",
   "metadata": {},
   "outputs": [
    {
     "name": "stderr",
     "output_type": "stream",
     "text": [
      "\u001b[32m[I 2022-08-16 05:00:59,458]\u001b[0m Using an existing study with name 'study_5_0' instead of creating a new one.\u001b[0m\n"
     ]
    }
   ],
   "source": [
    "K = 5\n",
    "N_CLASS = 0\n",
    "\n",
    "in_dir = Path(f\"in_{K}_{N_CLASS}\")\n",
    "work_dir = Path(f\"work_{K}_{N_CLASS}\")\n",
    "\n",
    "study_name = f\"study_{K}_{N_CLASS}\"\n",
    "storage_path = work_dir / \"study.db\"\n",
    "storage = f\"sqlite:///{storage_path}\"\n",
    "study = optuna.create_study(storage=storage, load_if_exists=True, study_name=study_name, direction=\"maximize\")\n",
    "\n",
    "def callback(study, trial):\n",
    "    try:\n",
    "        index_parallel = f\"{trial.number:04d}\"\n",
    "        parameters_changed_filename = work_dir / f\"{index_parallel}_{FILENAME}\"\n",
    "        if study.best_value == trial.value:\n",
    "            print(f\"Updated! {study.best_value}\")\n",
    "            !cp {parameters_changed_filename} {work_dir / \"best_parameters.cpp\"}\n",
    "        !rm {parameters_changed_filename}\n",
    "    except:\n",
    "        print(\":(\")\n"
   ]
  },
  {
   "cell_type": "code",
   "execution_count": null,
   "id": "61c2901d",
   "metadata": {},
   "outputs": [
    {
     "name": "stdout",
     "output_type": "stream",
     "text": [
      "index_parallel='0120'\n"
     ]
    },
    {
     "name": "stderr",
     "output_type": "stream",
     "text": [
      "\u001b[32m[I 2022-08-16 05:04:47,589]\u001b[0m Trial 120 finished with value: 5480.272727272727 and parameters: {'kErase': 1, 'kRadius': 3, 'kAnnealingA': 3.161492804262015, 'kAnnealingB': 2.151153178682881, 'kAnnealingStart': 21.82365980639525, 'kSkipRatio': 0.7008965152663085, 'kTargetDeterminationTrials': 6, 'kAttractionRatio': 0.8399186360266593, 'kMaxAttractionDistance': 73, 'kStartAttraction': 0.0027599314193466006}. Best is trial 107 with value: 5711.050505050505.\u001b[0m\n"
     ]
    },
    {
     "name": "stdout",
     "output_type": "stream",
     "text": [
      "index_parallel='0122'\n"
     ]
    },
    {
     "name": "stderr",
     "output_type": "stream",
     "text": [
      "\u001b[32m[I 2022-08-16 05:08:36,197]\u001b[0m Trial 122 finished with value: 5621.949494949495 and parameters: {'kErase': 1, 'kRadius': 2, 'kAnnealingA': -1.8800617540260083, 'kAnnealingB': 2.072340429162764, 'kAnnealingStart': 18.67882338444629, 'kSkipRatio': 0.7636598748430622, 'kTargetDeterminationTrials': 10, 'kAttractionRatio': 0.8937617121508288, 'kMaxAttractionDistance': 65, 'kStartAttraction': 0.004370134158080395}. Best is trial 107 with value: 5711.050505050505.\u001b[0m\n"
     ]
    },
    {
     "name": "stdout",
     "output_type": "stream",
     "text": [
      "index_parallel='0124'\n"
     ]
    },
    {
     "name": "stderr",
     "output_type": "stream",
     "text": [
      "\u001b[32m[I 2022-08-16 05:12:24,888]\u001b[0m Trial 124 finished with value: 5656.545454545455 and parameters: {'kErase': 1, 'kRadius': 2, 'kAnnealingA': 0.5576083018213159, 'kAnnealingB': 2.3002895622271353, 'kAnnealingStart': 17.60918893311962, 'kSkipRatio': 0.7360222384119033, 'kTargetDeterminationTrials': 12, 'kAttractionRatio': 0.7776077613486265, 'kMaxAttractionDistance': 77, 'kStartAttraction': 0.005185359526083976}. Best is trial 107 with value: 5711.050505050505.\u001b[0m\n"
     ]
    },
    {
     "name": "stdout",
     "output_type": "stream",
     "text": [
      "index_parallel='0126'\n"
     ]
    },
    {
     "name": "stderr",
     "output_type": "stream",
     "text": [
      "\u001b[32m[I 2022-08-16 05:16:13,716]\u001b[0m Trial 126 finished with value: 5625.282828282829 and parameters: {'kErase': 1, 'kRadius': 2, 'kAnnealingA': -1.0247614226021413, 'kAnnealingB': 1.7928541057595837, 'kAnnealingStart': 20.00181677895044, 'kSkipRatio': 0.7318267177212426, 'kTargetDeterminationTrials': 11, 'kAttractionRatio': 0.7012208010541208, 'kMaxAttractionDistance': 80, 'kStartAttraction': 0.0032850046727430763}. Best is trial 107 with value: 5711.050505050505.\u001b[0m\n"
     ]
    },
    {
     "name": "stdout",
     "output_type": "stream",
     "text": [
      "index_parallel='0128'\n"
     ]
    },
    {
     "name": "stderr",
     "output_type": "stream",
     "text": [
      "\u001b[32m[I 2022-08-16 05:20:03,513]\u001b[0m Trial 128 finished with value: 5550.055555555556 and parameters: {'kErase': 1, 'kRadius': 4, 'kAnnealingA': -0.4379158225677462, 'kAnnealingB': 1.919003201445691, 'kAnnealingStart': 17.391433011065295, 'kSkipRatio': 0.753551556707269, 'kTargetDeterminationTrials': 13, 'kAttractionRatio': 0.7581055265515444, 'kMaxAttractionDistance': 70, 'kStartAttraction': 0.006458105981603846}. Best is trial 107 with value: 5711.050505050505.\u001b[0m\n"
     ]
    },
    {
     "name": "stdout",
     "output_type": "stream",
     "text": [
      "index_parallel='0130'\n"
     ]
    },
    {
     "name": "stderr",
     "output_type": "stream",
     "text": [
      "\u001b[32m[I 2022-08-16 05:23:52,157]\u001b[0m Trial 130 finished with value: 5674.323232323232 and parameters: {'kErase': 1, 'kRadius': 2, 'kAnnealingA': 0.741478666096379, 'kAnnealingB': 1.4463551518550923, 'kAnnealingStart': 16.09312353324228, 'kSkipRatio': 0.7219553924103033, 'kTargetDeterminationTrials': 15, 'kAttractionRatio': 0.31314962394301377, 'kMaxAttractionDistance': 93, 'kStartAttraction': 0.005228349079496389}. Best is trial 107 with value: 5711.050505050505.\u001b[0m\n"
     ]
    },
    {
     "name": "stdout",
     "output_type": "stream",
     "text": [
      "index_parallel='0132'\n"
     ]
    },
    {
     "name": "stderr",
     "output_type": "stream",
     "text": [
      "\u001b[32m[I 2022-08-16 05:27:41,059]\u001b[0m Trial 132 finished with value: 5613.39898989899 and parameters: {'kErase': 1, 'kRadius': 2, 'kAnnealingA': 0.5983378597860609, 'kAnnealingB': 1.6115578214521933, 'kAnnealingStart': 15.561119727053127, 'kSkipRatio': 0.7186682589075241, 'kTargetDeterminationTrials': 18, 'kAttractionRatio': 0.8259275228802897, 'kMaxAttractionDistance': 90, 'kStartAttraction': 0.002300793793738678}. Best is trial 107 with value: 5711.050505050505.\u001b[0m\n"
     ]
    },
    {
     "name": "stdout",
     "output_type": "stream",
     "text": [
      "index_parallel='0134'\n"
     ]
    },
    {
     "name": "stderr",
     "output_type": "stream",
     "text": [
      "\u001b[32m[I 2022-08-16 05:31:30,146]\u001b[0m Trial 134 finished with value: 5635.717171717171 and parameters: {'kErase': 1, 'kRadius': 2, 'kAnnealingA': 1.0381963417497815, 'kAnnealingB': 1.5176814570862733, 'kAnnealingStart': 13.208316601269559, 'kSkipRatio': 0.6891064150986643, 'kTargetDeterminationTrials': 12, 'kAttractionRatio': 0.6225587101826298, 'kMaxAttractionDistance': 24, 'kStartAttraction': 0.005072773298694694}. Best is trial 107 with value: 5711.050505050505.\u001b[0m\n"
     ]
    },
    {
     "name": "stdout",
     "output_type": "stream",
     "text": [
      "index_parallel='0136'\n"
     ]
    },
    {
     "name": "stderr",
     "output_type": "stream",
     "text": [
      "\u001b[32m[I 2022-08-16 05:35:18,949]\u001b[0m Trial 136 finished with value: 5665.813131313132 and parameters: {'kErase': 1, 'kRadius': 2, 'kAnnealingA': -0.3583023939932758, 'kAnnealingB': 1.7526054743306616, 'kAnnealingStart': 18.081803705708424, 'kSkipRatio': 0.7749749106683954, 'kTargetDeterminationTrials': 16, 'kAttractionRatio': 0.3171089632937797, 'kMaxAttractionDistance': 19, 'kStartAttraction': 0.006490612021390597}. Best is trial 107 with value: 5711.050505050505.\u001b[0m\n"
     ]
    },
    {
     "name": "stdout",
     "output_type": "stream",
     "text": [
      "index_parallel='0138'\n"
     ]
    },
    {
     "name": "stderr",
     "output_type": "stream",
     "text": [
      "\u001b[32m[I 2022-08-16 05:39:07,640]\u001b[0m Trial 138 finished with value: 5535.49494949495 and parameters: {'kErase': 1, 'kRadius': 2, 'kAnnealingA': -0.29661791289058326, 'kAnnealingB': 1.344390784291741, 'kAnnealingStart': 25.40539567916785, 'kSkipRatio': 0.7709376548712117, 'kTargetDeterminationTrials': 9, 'kAttractionRatio': 0.37528215103510876, 'kMaxAttractionDistance': 18, 'kStartAttraction': 0.00990657051018466}. Best is trial 107 with value: 5711.050505050505.\u001b[0m\n"
     ]
    },
    {
     "name": "stdout",
     "output_type": "stream",
     "text": [
      "index_parallel='0140'\n"
     ]
    },
    {
     "name": "stderr",
     "output_type": "stream",
     "text": [
      "\u001b[32m[I 2022-08-16 05:42:56,329]\u001b[0m Trial 140 finished with value: 5518.212121212121 and parameters: {'kErase': 1, 'kRadius': 2, 'kAnnealingA': 4.015798265374214, 'kAnnealingB': 1.750722485414633, 'kAnnealingStart': 14.66385701645034, 'kSkipRatio': 0.27177810277064957, 'kTargetDeterminationTrials': 10, 'kAttractionRatio': 0.5641960402027899, 'kMaxAttractionDistance': 16, 'kStartAttraction': 0.001025347714844862}. Best is trial 107 with value: 5711.050505050505.\u001b[0m\n"
     ]
    },
    {
     "name": "stdout",
     "output_type": "stream",
     "text": [
      "index_parallel='0142'\n"
     ]
    },
    {
     "name": "stderr",
     "output_type": "stream",
     "text": [
      "\u001b[32m[I 2022-08-16 05:46:44,906]\u001b[0m Trial 142 finished with value: 5591.095959595959 and parameters: {'kErase': 1, 'kRadius': 2, 'kAnnealingA': 2.291933680731708, 'kAnnealingB': 1.2037196500053573, 'kAnnealingStart': 17.215785135492283, 'kSkipRatio': 0.7767838408768475, 'kTargetDeterminationTrials': 17, 'kAttractionRatio': 0.3081957454531354, 'kMaxAttractionDistance': 20, 'kStartAttraction': 0.0056381086128807646}. Best is trial 107 with value: 5711.050505050505.\u001b[0m\n"
     ]
    },
    {
     "name": "stdout",
     "output_type": "stream",
     "text": [
      "index_parallel='0144'\n"
     ]
    },
    {
     "name": "stderr",
     "output_type": "stream",
     "text": [
      "\u001b[32m[I 2022-08-16 05:50:33,290]\u001b[0m Trial 144 finished with value: 5612.838383838384 and parameters: {'kErase': 1, 'kRadius': 2, 'kAnnealingA': 0.025786255005545877, 'kAnnealingB': 1.2258056802739254, 'kAnnealingStart': 15.865514175770599, 'kSkipRatio': 0.760091721684838, 'kTargetDeterminationTrials': 19, 'kAttractionRatio': 0.28910614184663763, 'kMaxAttractionDistance': 17, 'kStartAttraction': 0.006612940064836939}. Best is trial 107 with value: 5711.050505050505.\u001b[0m\n"
     ]
    },
    {
     "name": "stdout",
     "output_type": "stream",
     "text": [
      "index_parallel='0146'\n"
     ]
    },
    {
     "name": "stderr",
     "output_type": "stream",
     "text": [
      "\u001b[32m[I 2022-08-16 05:54:22,183]\u001b[0m Trial 146 finished with value: 5691.222222222223 and parameters: {'kErase': 1, 'kRadius': 2, 'kAnnealingA': 1.3784574398414828, 'kAnnealingB': 1.8835787691312271, 'kAnnealingStart': 11.671505582197096, 'kSkipRatio': 0.7979426028872385, 'kTargetDeterminationTrials': 14, 'kAttractionRatio': 0.24985602629906817, 'kMaxAttractionDistance': 56, 'kStartAttraction': 0.004948652921115539}. Best is trial 107 with value: 5711.050505050505.\u001b[0m\n"
     ]
    },
    {
     "name": "stdout",
     "output_type": "stream",
     "text": [
      "index_parallel='0148'\n"
     ]
    },
    {
     "name": "stderr",
     "output_type": "stream",
     "text": [
      "\u001b[32m[I 2022-08-16 05:58:10,802]\u001b[0m Trial 148 finished with value: 5569.060606060606 and parameters: {'kErase': 1, 'kRadius': 2, 'kAnnealingA': 1.4741255354472895, 'kAnnealingB': 1.929476908092291, 'kAnnealingStart': 20.164566281132586, 'kSkipRatio': 0.7986984469793903, 'kTargetDeterminationTrials': 8, 'kAttractionRatio': 0.23381763172026016, 'kMaxAttractionDistance': 55, 'kStartAttraction': 0.00888986654624153}. Best is trial 107 with value: 5711.050505050505.\u001b[0m\n"
     ]
    },
    {
     "name": "stdout",
     "output_type": "stream",
     "text": [
      "index_parallel='0150'\n"
     ]
    },
    {
     "name": "stderr",
     "output_type": "stream",
     "text": [
      "\u001b[32m[I 2022-08-16 06:02:00,159]\u001b[0m Trial 150 finished with value: 5069.707070707071 and parameters: {'kErase': 3, 'kRadius': 2, 'kAnnealingA': -0.7047141781445232, 'kAnnealingB': 1.8524367513082096, 'kAnnealingStart': 10.489471376601255, 'kSkipRatio': 0.785742068498634, 'kTargetDeterminationTrials': 11, 'kAttractionRatio': 0.709725115221231, 'kMaxAttractionDistance': 52, 'kStartAttraction': 0.022654118546027648}. Best is trial 107 with value: 5711.050505050505.\u001b[0m\n"
     ]
    },
    {
     "name": "stdout",
     "output_type": "stream",
     "text": [
      "index_parallel='0152'\n"
     ]
    },
    {
     "name": "stderr",
     "output_type": "stream",
     "text": [
      "\u001b[32m[I 2022-08-16 06:05:48,815]\u001b[0m Trial 152 finished with value: 5609.752525252526 and parameters: {'kErase': 1, 'kRadius': 2, 'kAnnealingA': 1.9624211144268418, 'kAnnealingB': 1.73007954315032, 'kAnnealingStart': 14.440309001945076, 'kSkipRatio': 0.7794772079669112, 'kTargetDeterminationTrials': 15, 'kAttractionRatio': 0.3072904046978446, 'kMaxAttractionDistance': 68, 'kStartAttraction': 0.0036819034544563335}. Best is trial 107 with value: 5711.050505050505.\u001b[0m\n"
     ]
    },
    {
     "name": "stdout",
     "output_type": "stream",
     "text": [
      "index_parallel='0154'\n"
     ]
    },
    {
     "name": "stderr",
     "output_type": "stream",
     "text": [
      "\u001b[32m[I 2022-08-16 06:09:37,344]\u001b[0m Trial 154 finished with value: 5591.434343434344 and parameters: {'kErase': 1, 'kRadius': 2, 'kAnnealingA': 2.8114447011626433, 'kAnnealingB': 2.78164720668226, 'kAnnealingStart': 15.429878113931037, 'kSkipRatio': 0.761033423585479, 'kTargetDeterminationTrials': 16, 'kAttractionRatio': 0.2611451952637729, 'kMaxAttractionDistance': 31, 'kStartAttraction': 0.005199241854985395}. Best is trial 107 with value: 5711.050505050505.\u001b[0m\n"
     ]
    },
    {
     "name": "stdout",
     "output_type": "stream",
     "text": [
      "index_parallel='0156'\n"
     ]
    },
    {
     "name": "stderr",
     "output_type": "stream",
     "text": [
      "\u001b[32m[I 2022-08-16 06:13:25,882]\u001b[0m Trial 156 finished with value: 5642.873737373738 and parameters: {'kErase': 1, 'kRadius': 2, 'kAnnealingA': 1.0794311826829852, 'kAnnealingB': 0.6817258929634811, 'kAnnealingStart': 18.56950207587613, 'kSkipRatio': 0.7358400997362105, 'kTargetDeterminationTrials': 14, 'kAttractionRatio': 0.23298880005931172, 'kMaxAttractionDistance': 62, 'kStartAttraction': 0.007479724121391618}. Best is trial 107 with value: 5711.050505050505.\u001b[0m\n"
     ]
    },
    {
     "name": "stdout",
     "output_type": "stream",
     "text": [
      "index_parallel='0158'\n"
     ]
    },
    {
     "name": "stderr",
     "output_type": "stream",
     "text": [
      "\u001b[32m[I 2022-08-16 06:17:14,609]\u001b[0m Trial 158 finished with value: 5675.414141414141 and parameters: {'kErase': 1, 'kRadius': 2, 'kAnnealingA': 1.6807463066065607, 'kAnnealingB': 0.4775163382780587, 'kAnnealingStart': 11.674945253519725, 'kSkipRatio': 0.751786017915083, 'kTargetDeterminationTrials': 10, 'kAttractionRatio': 0.1861471142924902, 'kMaxAttractionDistance': 83, 'kStartAttraction': 0.018077017330087354}. Best is trial 107 with value: 5711.050505050505.\u001b[0m\n"
     ]
    },
    {
     "name": "stdout",
     "output_type": "stream",
     "text": [
      "index_parallel='0160'\n"
     ]
    },
    {
     "name": "stderr",
     "output_type": "stream",
     "text": [
      "\u001b[32m[I 2022-08-16 06:21:03,056]\u001b[0m Trial 160 finished with value: 5600.964646464647 and parameters: {'kErase': 1, 'kRadius': 2, 'kAnnealingA': 1.7678266632116697, 'kAnnealingB': 0.47735525253181543, 'kAnnealingStart': 11.51637292734774, 'kSkipRatio': 0.7521830202881594, 'kTargetDeterminationTrials': 11, 'kAttractionRatio': 0.1802648535333018, 'kMaxAttractionDistance': 82, 'kStartAttraction': 0.013210511947736892}. Best is trial 107 with value: 5711.050505050505.\u001b[0m\n"
     ]
    },
    {
     "name": "stdout",
     "output_type": "stream",
     "text": [
      "index_parallel='0162'\n"
     ]
    },
    {
     "name": "stderr",
     "output_type": "stream",
     "text": [
      "\u001b[32m[I 2022-08-16 06:24:51,660]\u001b[0m Trial 162 finished with value: 5664.60101010101 and parameters: {'kErase': 1, 'kRadius': 2, 'kAnnealingA': 1.7118019200598589, 'kAnnealingB': 0.0836384768408267, 'kAnnealingStart': 13.867782385856684, 'kSkipRatio': 0.7708802513658682, 'kTargetDeterminationTrials': 10, 'kAttractionRatio': 0.186865920985103, 'kMaxAttractionDistance': 93, 'kStartAttraction': 0.017526408381628385}. Best is trial 107 with value: 5711.050505050505.\u001b[0m\n"
     ]
    },
    {
     "name": "stdout",
     "output_type": "stream",
     "text": [
      "index_parallel='0164'\n"
     ]
    },
    {
     "name": "stderr",
     "output_type": "stream",
     "text": [
      "\u001b[32m[I 2022-08-16 06:28:40,451]\u001b[0m Trial 164 finished with value: 5549.939393939394 and parameters: {'kErase': 1, 'kRadius': 2, 'kAnnealingA': 1.501782885871454, 'kAnnealingB': 0.11932695689551888, 'kAnnealingStart': 13.755452145110455, 'kSkipRatio': 0.7692458509013818, 'kTargetDeterminationTrials': 10, 'kAttractionRatio': 0.046705605913993586, 'kMaxAttractionDistance': 99, 'kStartAttraction': 0.01759450173849534}. Best is trial 107 with value: 5711.050505050505.\u001b[0m\n"
     ]
    },
    {
     "name": "stdout",
     "output_type": "stream",
     "text": [
      "index_parallel='0166'\n"
     ]
    },
    {
     "name": "stderr",
     "output_type": "stream",
     "text": [
      "\u001b[32m[I 2022-08-16 06:32:29,172]\u001b[0m Trial 166 finished with value: 5571.121212121212 and parameters: {'kErase': 1, 'kRadius': 2, 'kAnnealingA': 3.212090218451766, 'kAnnealingB': 0.000314538766920322, 'kAnnealingStart': 9.536430258713404, 'kSkipRatio': 0.7922392139115572, 'kTargetDeterminationTrials': 12, 'kAttractionRatio': 0.18800923070662387, 'kMaxAttractionDistance': 90, 'kStartAttraction': 0.011913990365332142}. Best is trial 107 with value: 5711.050505050505.\u001b[0m\n"
     ]
    },
    {
     "name": "stdout",
     "output_type": "stream",
     "text": [
      "index_parallel='0168'\n"
     ]
    },
    {
     "name": "stderr",
     "output_type": "stream",
     "text": [
      "\u001b[32m[I 2022-08-16 06:36:17,886]\u001b[0m Trial 168 finished with value: 5183.717171717171 and parameters: {'kErase': 1, 'kRadius': 2, 'kAnnealingA': 0.8684859192433666, 'kAnnealingB': 0.3113650394071785, 'kAnnealingStart': 1.339202655429564, 'kSkipRatio': 0.7547655640398963, 'kTargetDeterminationTrials': 8, 'kAttractionRatio': 0.21724046690870794, 'kMaxAttractionDistance': 77, 'kStartAttraction': 0.00963742239080328}. Best is trial 107 with value: 5711.050505050505.\u001b[0m\n"
     ]
    },
    {
     "name": "stdout",
     "output_type": "stream",
     "text": [
      "index_parallel='0170'\n"
     ]
    },
    {
     "name": "stderr",
     "output_type": "stream",
     "text": [
      "\u001b[32m[I 2022-08-16 06:40:06,532]\u001b[0m Trial 170 finished with value: 5552.404040404041 and parameters: {'kErase': 1, 'kRadius': 2, 'kAnnealingA': 2.0527355173588253, 'kAnnealingB': 0.1707069910470374, 'kAnnealingStart': 17.307135810019695, 'kSkipRatio': 0.7284541079844933, 'kTargetDeterminationTrials': 13, 'kAttractionRatio': 0.14433663559182225, 'kMaxAttractionDistance': 65, 'kStartAttraction': 0.004254859771456582}. Best is trial 107 with value: 5711.050505050505.\u001b[0m\n"
     ]
    },
    {
     "name": "stdout",
     "output_type": "stream",
     "text": [
      "index_parallel='0172'\n"
     ]
    },
    {
     "name": "stderr",
     "output_type": "stream",
     "text": [
      "\u001b[32m[I 2022-08-16 06:43:55,537]\u001b[0m Trial 172 finished with value: 5614.707070707071 and parameters: {'kErase': 1, 'kRadius': 2, 'kAnnealingA': -0.41584055537545594, 'kAnnealingB': 0.862994809299332, 'kAnnealingStart': 15.641389985972259, 'kSkipRatio': 0.7769077274005485, 'kTargetDeterminationTrials': 9, 'kAttractionRatio': 0.16587978063434033, 'kMaxAttractionDistance': 72, 'kStartAttraction': 0.02928492896476037}. Best is trial 107 with value: 5711.050505050505.\u001b[0m\n"
     ]
    },
    {
     "name": "stdout",
     "output_type": "stream",
     "text": [
      "index_parallel='0174'\n"
     ]
    },
    {
     "name": "stderr",
     "output_type": "stream",
     "text": [
      "\u001b[32m[I 2022-08-16 06:47:44,320]\u001b[0m Trial 174 finished with value: 5585.70202020202 and parameters: {'kErase': 1, 'kRadius': 2, 'kAnnealingA': 0.5150805448396573, 'kAnnealingB': 2.2894362205390615, 'kAnnealingStart': 12.264393048220034, 'kSkipRatio': 0.7838312172429053, 'kTargetDeterminationTrials': 9, 'kAttractionRatio': 0.23982884817846375, 'kMaxAttractionDistance': 83, 'kStartAttraction': 0.01642902166799335}. Best is trial 107 with value: 5711.050505050505.\u001b[0m\n"
     ]
    },
    {
     "name": "stdout",
     "output_type": "stream",
     "text": [
      "index_parallel='0176'\n"
     ]
    },
    {
     "name": "stderr",
     "output_type": "stream",
     "text": [
      "\u001b[32m[I 2022-08-16 06:51:33,048]\u001b[0m Trial 176 finished with value: 5615.707070707071 and parameters: {'kErase': 1, 'kRadius': 2, 'kAnnealingA': -1.3351954219054796, 'kAnnealingB': 2.0340607152906642, 'kAnnealingStart': 16.633344376431126, 'kSkipRatio': 0.7008161858299012, 'kTargetDeterminationTrials': 10, 'kAttractionRatio': 0.675456403687488, 'kMaxAttractionDistance': 58, 'kStartAttraction': 0.023242932012268503}. Best is trial 107 with value: 5711.050505050505.\u001b[0m\n"
     ]
    },
    {
     "name": "stdout",
     "output_type": "stream",
     "text": [
      "index_parallel='0178'\n"
     ]
    },
    {
     "name": "stderr",
     "output_type": "stream",
     "text": [
      "\u001b[32m[I 2022-08-16 06:55:21,706]\u001b[0m Trial 178 finished with value: 5593.570707070707 and parameters: {'kErase': 1, 'kRadius': 2, 'kAnnealingA': 1.2321316092997074, 'kAnnealingB': 2.7692325935883413, 'kAnnealingStart': 14.444778853567604, 'kSkipRatio': 0.37522889276883586, 'kTargetDeterminationTrials': 8, 'kAttractionRatio': 0.7984464789821272, 'kMaxAttractionDistance': 81, 'kStartAttraction': 0.006309393830811437}. Best is trial 107 with value: 5711.050505050505.\u001b[0m\n"
     ]
    },
    {
     "name": "stdout",
     "output_type": "stream",
     "text": [
      "index_parallel='0180'\n"
     ]
    },
    {
     "name": "stderr",
     "output_type": "stream",
     "text": [
      "\u001b[32m[I 2022-08-16 06:59:10,232]\u001b[0m Trial 180 finished with value: 5469.0 and parameters: {'kErase': 1, 'kRadius': 2, 'kAnnealingA': 2.643567925894045, 'kAnnealingB': 2.6980276906804117, 'kAnnealingStart': 20.619045627777336, 'kSkipRatio': 0.7422824198400482, 'kTargetDeterminationTrials': 16, 'kAttractionRatio': 0.2748484888195195, 'kMaxAttractionDistance': 67, 'kStartAttraction': 0.008344774638964172}. Best is trial 107 with value: 5711.050505050505.\u001b[0m\n"
     ]
    },
    {
     "name": "stdout",
     "output_type": "stream",
     "text": [
      "index_parallel='0182'\n"
     ]
    },
    {
     "name": "stderr",
     "output_type": "stream",
     "text": [
      "\u001b[32m[I 2022-08-16 07:02:58,613]\u001b[0m Trial 182 finished with value: 5629.611111111111 and parameters: {'kErase': 1, 'kRadius': 2, 'kAnnealingA': 2.3300888031475533, 'kAnnealingB': 1.6004671237926558, 'kAnnealingStart': 13.44895707333581, 'kSkipRatio': 0.7736493897332336, 'kTargetDeterminationTrials': 15, 'kAttractionRatio': 0.2919396744028763, 'kMaxAttractionDistance': 90, 'kStartAttraction': 0.005658337404306635}. Best is trial 107 with value: 5711.050505050505.\u001b[0m\n"
     ]
    },
    {
     "name": "stdout",
     "output_type": "stream",
     "text": [
      "index_parallel='0184'\n"
     ]
    },
    {
     "name": "stderr",
     "output_type": "stream",
     "text": [
      "\u001b[32m[I 2022-08-16 07:06:47,062]\u001b[0m Trial 184 finished with value: 5617.828282828283 and parameters: {'kErase': 1, 'kRadius': 2, 'kAnnealingA': 3.6964962352472908, 'kAnnealingB': 1.4327381347128842, 'kAnnealingStart': 10.631064806796065, 'kSkipRatio': 0.7741856277608103, 'kTargetDeterminationTrials': 17, 'kAttractionRatio': 0.3108317969874802, 'kMaxAttractionDistance': 77, 'kStartAttraction': 0.007161519037956009}. Best is trial 107 with value: 5711.050505050505.\u001b[0m\n"
     ]
    },
    {
     "name": "stdout",
     "output_type": "stream",
     "text": [
      "index_parallel='0186'\n"
     ]
    },
    {
     "name": "stderr",
     "output_type": "stream",
     "text": [
      "\u001b[32m[I 2022-08-16 07:10:35,457]\u001b[0m Trial 186 finished with value: 5602.888888888889 and parameters: {'kErase': 1, 'kRadius': 2, 'kAnnealingA': 0.17535443717633936, 'kAnnealingB': 1.5492530387520227, 'kAnnealingStart': 14.421084739483199, 'kSkipRatio': 0.7588075685198417, 'kTargetDeterminationTrials': 18, 'kAttractionRatio': 0.3602356192824916, 'kMaxAttractionDistance': 71, 'kStartAttraction': 0.0033841501650227384}. Best is trial 107 with value: 5711.050505050505.\u001b[0m\n"
     ]
    },
    {
     "name": "stdout",
     "output_type": "stream",
     "text": [
      "index_parallel='0188'\n"
     ]
    },
    {
     "name": "stderr",
     "output_type": "stream",
     "text": [
      "\u001b[32m[I 2022-08-16 07:14:24,187]\u001b[0m Trial 188 finished with value: 5616.813131313132 and parameters: {'kErase': 1, 'kRadius': 2, 'kAnnealingA': 0.8337705822683075, 'kAnnealingB': 1.3937750689563333, 'kAnnealingStart': 12.580923801312426, 'kSkipRatio': 0.7219677677458431, 'kTargetDeterminationTrials': 15, 'kAttractionRatio': 0.2226285822264599, 'kMaxAttractionDistance': 21, 'kStartAttraction': 0.004711574230119317}. Best is trial 107 with value: 5711.050505050505.\u001b[0m\n"
     ]
    },
    {
     "name": "stdout",
     "output_type": "stream",
     "text": [
      "index_parallel='0190'\n"
     ]
    },
    {
     "name": "stderr",
     "output_type": "stream",
     "text": [
      "\u001b[32m[I 2022-08-16 07:18:12,756]\u001b[0m Trial 190 finished with value: 5632.247474747474 and parameters: {'kErase': 1, 'kRadius': 2, 'kAnnealingA': 1.5502122015834134, 'kAnnealingB': 2.186568151726533, 'kAnnealingStart': 18.764159732631068, 'kSkipRatio': 0.7883862868936788, 'kTargetDeterminationTrials': 12, 'kAttractionRatio': 0.462729942426117, 'kMaxAttractionDistance': 22, 'kStartAttraction': 0.010550595156343247}. Best is trial 107 with value: 5711.050505050505.\u001b[0m\n"
     ]
    },
    {
     "name": "stdout",
     "output_type": "stream",
     "text": [
      "index_parallel='0192'\n"
     ]
    },
    {
     "name": "stderr",
     "output_type": "stream",
     "text": [
      "\u001b[32m[I 2022-08-16 07:22:01,346]\u001b[0m Trial 192 finished with value: 5598.954545454545 and parameters: {'kErase': 1, 'kRadius': 2, 'kAnnealingA': 3.4831997107188832, 'kAnnealingB': 0.0691899729231596, 'kAnnealingStart': 16.097984578379123, 'kSkipRatio': 0.7662320338048252, 'kTargetDeterminationTrials': 10, 'kAttractionRatio': 0.7432084396321311, 'kMaxAttractionDistance': 95, 'kStartAttraction': 0.01625623034665068}. Best is trial 107 with value: 5711.050505050505.\u001b[0m\n"
     ]
    },
    {
     "name": "stdout",
     "output_type": "stream",
     "text": [
      "index_parallel='0194'\n"
     ]
    },
    {
     "name": "stderr",
     "output_type": "stream",
     "text": [
      "\u001b[32m[I 2022-08-16 07:25:50,309]\u001b[0m Trial 194 finished with value: 5622.666666666667 and parameters: {'kErase': 1, 'kRadius': 2, 'kAnnealingA': 4.589927577482017, 'kAnnealingB': 2.6719040505056713, 'kAnnealingStart': 13.999398178996957, 'kSkipRatio': 0.7506803807372123, 'kTargetDeterminationTrials': 10, 'kAttractionRatio': 0.5657507173387826, 'kMaxAttractionDistance': 85, 'kStartAttraction': 0.001888823931298597}. Best is trial 107 with value: 5711.050505050505.\u001b[0m\n"
     ]
    },
    {
     "name": "stdout",
     "output_type": "stream",
     "text": [
      "index_parallel='0196'\n"
     ]
    },
    {
     "name": "stderr",
     "output_type": "stream",
     "text": [
      "\u001b[32m[I 2022-08-16 07:29:38,781]\u001b[0m Trial 196 finished with value: 5642.787878787879 and parameters: {'kErase': 1, 'kRadius': 2, 'kAnnealingA': 2.995770135749141, 'kAnnealingB': 2.8179262924984325, 'kAnnealingStart': 8.691644288436706, 'kSkipRatio': 0.7762567756985492, 'kTargetDeterminationTrials': 11, 'kAttractionRatio': 0.26005301032501876, 'kMaxAttractionDistance': 81, 'kStartAttraction': 0.01839931195294204}. Best is trial 107 with value: 5711.050505050505.\u001b[0m\n"
     ]
    },
    {
     "name": "stdout",
     "output_type": "stream",
     "text": [
      "index_parallel='0198'\n"
     ]
    },
    {
     "name": "stderr",
     "output_type": "stream",
     "text": [
      "\u001b[32m[I 2022-08-16 07:33:27,637]\u001b[0m Trial 198 finished with value: 5657.5 and parameters: {'kErase': 1, 'kRadius': 2, 'kAnnealingA': 2.510013182201539, 'kAnnealingB': 0.2502184210498002, 'kAnnealingStart': 17.05175510404717, 'kSkipRatio': 0.7404011661785735, 'kTargetDeterminationTrials': 9, 'kAttractionRatio': 0.6404277089156954, 'kMaxAttractionDistance': 64, 'kStartAttraction': 0.0015029363283551717}. Best is trial 107 with value: 5711.050505050505.\u001b[0m\n"
     ]
    },
    {
     "name": "stdout",
     "output_type": "stream",
     "text": [
      "index_parallel='0200'\n"
     ]
    },
    {
     "name": "stderr",
     "output_type": "stream",
     "text": [
      "\u001b[32m[I 2022-08-16 07:37:16,294]\u001b[0m Trial 200 finished with value: 5586.237373737374 and parameters: {'kErase': 1, 'kRadius': 2, 'kAnnealingA': 1.0347798876455598, 'kAnnealingB': 0.27999597673498977, 'kAnnealingStart': 17.061413669741896, 'kSkipRatio': 0.7504663298550568, 'kTargetDeterminationTrials': 9, 'kAttractionRatio': 0.5351231047727648, 'kMaxAttractionDistance': 64, 'kStartAttraction': 0.0013676346709282183}. Best is trial 107 with value: 5711.050505050505.\u001b[0m\n"
     ]
    },
    {
     "name": "stdout",
     "output_type": "stream",
     "text": [
      "index_parallel='0202'\n"
     ]
    },
    {
     "name": "stderr",
     "output_type": "stream",
     "text": [
      "\u001b[32m[I 2022-08-16 07:41:05,229]\u001b[0m Trial 202 finished with value: 5575.565656565656 and parameters: {'kErase': 1, 'kRadius': 2, 'kAnnealingA': 2.1931517504406988, 'kAnnealingB': 0.22661094829374845, 'kAnnealingStart': 15.340288763226713, 'kSkipRatio': 0.7125870607878985, 'kTargetDeterminationTrials': 9, 'kAttractionRatio': 0.6089001340117016, 'kMaxAttractionDistance': 55, 'kStartAttraction': 0.0011966309961459868}. Best is trial 107 with value: 5711.050505050505.\u001b[0m\n"
     ]
    },
    {
     "name": "stdout",
     "output_type": "stream",
     "text": [
      "index_parallel='0204'\n"
     ]
    },
    {
     "name": "stderr",
     "output_type": "stream",
     "text": [
      "\u001b[32m[I 2022-08-16 07:44:54,187]\u001b[0m Trial 204 finished with value: 5606.99494949495 and parameters: {'kErase': 1, 'kRadius': 2, 'kAnnealingA': 1.38579398762673, 'kAnnealingB': 0.17134179509378417, 'kAnnealingStart': 18.58398628515721, 'kSkipRatio': 0.7345102028122291, 'kTargetDeterminationTrials': 8, 'kAttractionRatio': 0.6649192449923461, 'kMaxAttractionDistance': 67, 'kStartAttraction': 0.0016336049379422656}. Best is trial 107 with value: 5711.050505050505.\u001b[0m\n"
     ]
    },
    {
     "name": "stdout",
     "output_type": "stream",
     "text": [
      "index_parallel='0206'\n"
     ]
    },
    {
     "name": "stderr",
     "output_type": "stream",
     "text": [
      "\u001b[32m[I 2022-08-16 07:48:42,799]\u001b[0m Trial 206 finished with value: 5554.287878787879 and parameters: {'kErase': 1, 'kRadius': 2, 'kAnnealingA': 0.7135754039906362, 'kAnnealingB': 0.000917843454028372, 'kAnnealingStart': 19.838921228856105, 'kSkipRatio': 0.7550688742216772, 'kTargetDeterminationTrials': 9, 'kAttractionRatio': 0.5808775241186036, 'kMaxAttractionDistance': 60, 'kStartAttraction': 0.012668908160284795}. Best is trial 107 with value: 5711.050505050505.\u001b[0m\n"
     ]
    },
    {
     "name": "stdout",
     "output_type": "stream",
     "text": [
      "index_parallel='0208'\n"
     ]
    },
    {
     "name": "stderr",
     "output_type": "stream",
     "text": [
      "\u001b[32m[I 2022-08-16 07:52:31,211]\u001b[0m Trial 208 finished with value: 5563.181818181818 and parameters: {'kErase': 1, 'kRadius': 2, 'kAnnealingA': 2.803685117899584, 'kAnnealingB': 0.3758012660091497, 'kAnnealingStart': 22.155000216184167, 'kSkipRatio': 0.7458367742017247, 'kTargetDeterminationTrials': 10, 'kAttractionRatio': 0.7114908055388793, 'kMaxAttractionDistance': 76, 'kStartAttraction': 0.005166172660375274}. Best is trial 107 with value: 5711.050505050505.\u001b[0m\n"
     ]
    },
    {
     "name": "stdout",
     "output_type": "stream",
     "text": [
      "index_parallel='0210'\n"
     ]
    },
    {
     "name": "stderr",
     "output_type": "stream",
     "text": [
      "\u001b[32m[I 2022-08-16 07:56:19,854]\u001b[0m Trial 210 finished with value: 5632.19191919192 and parameters: {'kErase': 1, 'kRadius': 2, 'kAnnealingA': 0.045616052661204165, 'kAnnealingB': 1.7807036715663769, 'kAnnealingStart': 16.99921323836155, 'kSkipRatio': 0.723729702626292, 'kTargetDeterminationTrials': 11, 'kAttractionRatio': 0.7854537800614211, 'kMaxAttractionDistance': 63, 'kStartAttraction': 0.008429024030489767}. Best is trial 107 with value: 5711.050505050505.\u001b[0m\n"
     ]
    },
    {
     "name": "stdout",
     "output_type": "stream",
     "text": [
      "index_parallel='0212'\n"
     ]
    },
    {
     "name": "stderr",
     "output_type": "stream",
     "text": [
      "\u001b[32m[I 2022-08-16 08:00:09,076]\u001b[0m Trial 212 finished with value: 5620.166666666667 and parameters: {'kErase': 1, 'kRadius': 2, 'kAnnealingA': -0.7899937749314264, 'kAnnealingB': 0.13370098008129921, 'kAnnealingStart': 11.491672575777283, 'kSkipRatio': 0.7658075814478587, 'kTargetDeterminationTrials': 7, 'kAttractionRatio': 0.6794192313065904, 'kMaxAttractionDistance': 72, 'kStartAttraction': 0.007575064673951652}. Best is trial 107 with value: 5711.050505050505.\u001b[0m\n"
     ]
    },
    {
     "name": "stdout",
     "output_type": "stream",
     "text": [
      "index_parallel='0214'\n"
     ]
    },
    {
     "name": "stderr",
     "output_type": "stream",
     "text": [
      "\u001b[32m[I 2022-08-16 08:03:57,541]\u001b[0m Trial 214 finished with value: 5646.949494949495 and parameters: {'kErase': 1, 'kRadius': 2, 'kAnnealingA': 1.9911738756615054, 'kAnnealingB': 1.976174710962565, 'kAnnealingStart': 14.34595805525139, 'kSkipRatio': 0.7873640343195157, 'kTargetDeterminationTrials': 9, 'kAttractionRatio': 0.6989650180187221, 'kMaxAttractionDistance': 69, 'kStartAttraction': 0.004134960286020417}. Best is trial 107 with value: 5711.050505050505.\u001b[0m\n"
     ]
    },
    {
     "name": "stdout",
     "output_type": "stream",
     "text": [
      "index_parallel='0216'\n"
     ]
    },
    {
     "name": "stderr",
     "output_type": "stream",
     "text": [
      "\u001b[32m[I 2022-08-16 08:07:45,940]\u001b[0m Trial 216 finished with value: 5699.085858585859 and parameters: {'kErase': 1, 'kRadius': 2, 'kAnnealingA': 1.0071904518277144, 'kAnnealingB': 2.585326698198659, 'kAnnealingStart': 16.33565239260193, 'kSkipRatio': 0.7357598254877163, 'kTargetDeterminationTrials': 8, 'kAttractionRatio': 0.5951620052685418, 'kMaxAttractionDistance': 85, 'kStartAttraction': 0.010293062853060125}. Best is trial 107 with value: 5711.050505050505.\u001b[0m\n"
     ]
    },
    {
     "name": "stdout",
     "output_type": "stream",
     "text": [
      "index_parallel='0218'\n"
     ]
    },
    {
     "name": "stderr",
     "output_type": "stream",
     "text": [
      "\u001b[32m[I 2022-08-16 08:11:34,609]\u001b[0m Trial 218 finished with value: 5465.116161616162 and parameters: {'kErase': 1, 'kRadius': 5, 'kAnnealingA': 2.442504751274961, 'kAnnealingB': 2.4099993872595555, 'kAnnealingStart': 13.456910507768626, 'kSkipRatio': 0.7354034732828857, 'kTargetDeterminationTrials': 8, 'kAttractionRatio': 0.6163596034481089, 'kMaxAttractionDistance': 88, 'kStartAttraction': 0.009352374859233696}. Best is trial 107 with value: 5711.050505050505.\u001b[0m\n"
     ]
    },
    {
     "name": "stdout",
     "output_type": "stream",
     "text": [
      "index_parallel='0220'\n"
     ]
    },
    {
     "name": "stderr",
     "output_type": "stream",
     "text": [
      "\u001b[32m[I 2022-08-16 08:15:23,623]\u001b[0m Trial 220 finished with value: 5547.207070707071 and parameters: {'kErase': 1, 'kRadius': 2, 'kAnnealingA': 3.608853908857159, 'kAnnealingB': 2.583036197806177, 'kAnnealingStart': 17.509276645565784, 'kSkipRatio': 0.7996705479602514, 'kTargetDeterminationTrials': 12, 'kAttractionRatio': 0.8980461497891897, 'kMaxAttractionDistance': 83, 'kStartAttraction': 0.012933946240513985}. Best is trial 107 with value: 5711.050505050505.\u001b[0m\n"
     ]
    },
    {
     "name": "stdout",
     "output_type": "stream",
     "text": [
      "index_parallel='0222'\n"
     ]
    },
    {
     "name": "stderr",
     "output_type": "stream",
     "text": [
      "\u001b[32m[I 2022-08-16 08:19:12,580]\u001b[0m Trial 222 finished with value: 5682.69696969697 and parameters: {'kErase': 1, 'kRadius': 2, 'kAnnealingA': 0.9266792830396176, 'kAnnealingB': 1.706239438678326, 'kAnnealingStart': 12.929108142137265, 'kSkipRatio': 0.7597930514184423, 'kTargetDeterminationTrials': 10, 'kAttractionRatio': 0.5225956169507159, 'kMaxAttractionDistance': 75, 'kStartAttraction': 0.011088621760008154}. Best is trial 107 with value: 5711.050505050505.\u001b[0m\n"
     ]
    },
    {
     "name": "stdout",
     "output_type": "stream",
     "text": [
      "index_parallel='0224'\n"
     ]
    },
    {
     "name": "stderr",
     "output_type": "stream",
     "text": [
      "\u001b[32m[I 2022-08-16 08:23:01,157]\u001b[0m Trial 224 finished with value: 5656.424242424242 and parameters: {'kErase': 1, 'kRadius': 2, 'kAnnealingA': 1.2805094089658429, 'kAnnealingB': 1.666681239440062, 'kAnnealingStart': 12.91464956062334, 'kSkipRatio': 0.7553355321619448, 'kTargetDeterminationTrials': 10, 'kAttractionRatio': 0.5015666658243008, 'kMaxAttractionDistance': 75, 'kStartAttraction': 0.010812811124453968}. Best is trial 107 with value: 5711.050505050505.\u001b[0m\n"
     ]
    },
    {
     "name": "stdout",
     "output_type": "stream",
     "text": [
      "index_parallel='0226'\n"
     ]
    },
    {
     "name": "stderr",
     "output_type": "stream",
     "text": [
      "\u001b[32m[I 2022-08-16 08:26:49,745]\u001b[0m Trial 226 finished with value: 5609.095959595959 and parameters: {'kErase': 1, 'kRadius': 2, 'kAnnealingA': 0.08155372100335412, 'kAnnealingB': 1.7099140784835556, 'kAnnealingStart': 15.828126637947486, 'kSkipRatio': 0.7461541562976736, 'kTargetDeterminationTrials': 8, 'kAttractionRatio': 0.4853570391660684, 'kMaxAttractionDistance': 77, 'kStartAttraction': 0.0115020713573927}. Best is trial 107 with value: 5711.050505050505.\u001b[0m\n"
     ]
    },
    {
     "name": "stdout",
     "output_type": "stream",
     "text": [
      "index_parallel='0228'\n"
     ]
    },
    {
     "name": "stderr",
     "output_type": "stream",
     "text": [
      "\u001b[32m[I 2022-08-16 08:30:38,244]\u001b[0m Trial 228 finished with value: 5670.833333333333 and parameters: {'kErase': 1, 'kRadius': 2, 'kAnnealingA': 0.692966214082041, 'kAnnealingB': 2.501947304608237, 'kAnnealingStart': 19.143122852845348, 'kSkipRatio': 0.7231003464570018, 'kTargetDeterminationTrials': 9, 'kAttractionRatio': 0.425493163819551, 'kMaxAttractionDistance': 94, 'kStartAttraction': 0.008934501591795261}. Best is trial 107 with value: 5711.050505050505.\u001b[0m\n"
     ]
    },
    {
     "name": "stdout",
     "output_type": "stream",
     "text": [
      "index_parallel='0230'\n"
     ]
    },
    {
     "name": "stderr",
     "output_type": "stream",
     "text": [
      "\u001b[32m[I 2022-08-16 08:34:26,841]\u001b[0m Trial 230 finished with value: 5352.904040404041 and parameters: {'kErase': 1, 'kRadius': 2, 'kAnnealingA': -10.855256586373747, 'kAnnealingB': 2.533109371705578, 'kAnnealingStart': 21.050056975784653, 'kSkipRatio': 0.7165277594365828, 'kTargetDeterminationTrials': 9, 'kAttractionRatio': 0.4634603362293948, 'kMaxAttractionDistance': 95, 'kStartAttraction': 0.009035134751176744}. Best is trial 229 with value: 5716.464646464647.\u001b[0m\n"
     ]
    },
    {
     "name": "stdout",
     "output_type": "stream",
     "text": [
      "index_parallel='0232'\n"
     ]
    },
    {
     "name": "stderr",
     "output_type": "stream",
     "text": [
      "\u001b[32m[I 2022-08-16 08:38:15,888]\u001b[0m Trial 232 finished with value: 5622.085858585859 and parameters: {'kErase': 1, 'kRadius': 2, 'kAnnealingA': 0.7340212798944312, 'kAnnealingB': 2.460303890489154, 'kAnnealingStart': 19.716459640177582, 'kSkipRatio': 0.7632615420163142, 'kTargetDeterminationTrials': 9, 'kAttractionRatio': 0.4027010279166504, 'kMaxAttractionDistance': 67, 'kStartAttraction': 0.009805497719066426}. Best is trial 229 with value: 5716.464646464647.\u001b[0m\n"
     ]
    },
    {
     "name": "stdout",
     "output_type": "stream",
     "text": [
      "index_parallel='0234'\n"
     ]
    },
    {
     "name": "stderr",
     "output_type": "stream",
     "text": [
      "\u001b[32m[I 2022-08-16 08:42:04,649]\u001b[0m Trial 234 finished with value: 5610.989898989899 and parameters: {'kErase': 1, 'kRadius': 2, 'kAnnealingA': 1.289168276086284, 'kAnnealingB': 2.626319855117747, 'kAnnealingStart': 18.616015066610107, 'kSkipRatio': 0.7831582770662805, 'kTargetDeterminationTrials': 10, 'kAttractionRatio': 0.5241910893876004, 'kMaxAttractionDistance': 87, 'kStartAttraction': 0.013395041240655972}. Best is trial 229 with value: 5716.464646464647.\u001b[0m\n"
     ]
    },
    {
     "name": "stdout",
     "output_type": "stream",
     "text": [
      "index_parallel='0236'\n"
     ]
    },
    {
     "name": "stderr",
     "output_type": "stream",
     "text": [
      "\u001b[32m[I 2022-08-16 08:45:54,065]\u001b[0m Trial 236 finished with value: 5667.656565656565 and parameters: {'kErase': 1, 'kRadius': 2, 'kAnnealingA': -0.5602871581009052, 'kAnnealingB': 2.666791115687048, 'kAnnealingStart': 14.911404056370412, 'kSkipRatio': 0.729789453932174, 'kTargetDeterminationTrials': 8, 'kAttractionRatio': 0.4348268489481668, 'kMaxAttractionDistance': 71, 'kStartAttraction': 0.011475778944932402}. Best is trial 229 with value: 5716.464646464647.\u001b[0m\n"
     ]
    },
    {
     "name": "stdout",
     "output_type": "stream",
     "text": [
      "index_parallel='0238'\n"
     ]
    },
    {
     "name": "stderr",
     "output_type": "stream",
     "text": [
      "\u001b[32m[I 2022-08-16 08:49:42,618]\u001b[0m Trial 238 finished with value: 5665.217171717171 and parameters: {'kErase': 1, 'kRadius': 2, 'kAnnealingA': 0.36976287374525874, 'kAnnealingB': 2.709089951896602, 'kAnnealingStart': 13.56086082964932, 'kSkipRatio': 0.7083419706014729, 'kTargetDeterminationTrials': 9, 'kAttractionRatio': 0.4035550281617158, 'kMaxAttractionDistance': 63, 'kStartAttraction': 0.015275539675215694}. Best is trial 229 with value: 5716.464646464647.\u001b[0m\n"
     ]
    },
    {
     "name": "stdout",
     "output_type": "stream",
     "text": [
      "index_parallel='0240'\n"
     ]
    },
    {
     "name": "stderr",
     "output_type": "stream",
     "text": [
      "\u001b[32m[I 2022-08-16 08:53:31,443]\u001b[0m Trial 240 finished with value: 5628.252525252526 and parameters: {'kErase': 1, 'kRadius': 2, 'kAnnealingA': -0.07958787363088426, 'kAnnealingB': 2.707623240391273, 'kAnnealingStart': 12.606466330409722, 'kSkipRatio': 0.7048859092232415, 'kTargetDeterminationTrials': 10, 'kAttractionRatio': 0.4260896258416541, 'kMaxAttractionDistance': 57, 'kStartAttraction': 0.015498441875556207}. Best is trial 229 with value: 5716.464646464647.\u001b[0m\n"
     ]
    },
    {
     "name": "stdout",
     "output_type": "stream",
     "text": [
      "index_parallel='0242'\n"
     ]
    },
    {
     "name": "stderr",
     "output_type": "stream",
     "text": [
      "\u001b[32m[I 2022-08-16 08:57:20,008]\u001b[0m Trial 242 finished with value: 5644.974747474747 and parameters: {'kErase': 1, 'kRadius': 2, 'kAnnealingA': 1.1402235707096433, 'kAnnealingB': 2.619914096743346, 'kAnnealingStart': 14.489900934870429, 'kSkipRatio': 0.7253583141668352, 'kTargetDeterminationTrials': 9, 'kAttractionRatio': 0.38111165549183973, 'kMaxAttractionDistance': 63, 'kStartAttraction': 0.013963097919872795}. Best is trial 229 with value: 5716.464646464647.\u001b[0m\n"
     ]
    },
    {
     "name": "stdout",
     "output_type": "stream",
     "text": [
      "index_parallel='0244'\n"
     ]
    },
    {
     "name": "stderr",
     "output_type": "stream",
     "text": [
      "\u001b[32m[I 2022-08-16 09:01:08,541]\u001b[0m Trial 244 finished with value: 5621.419191919192 and parameters: {'kErase': 1, 'kRadius': 2, 'kAnnealingA': 0.2039647812572788, 'kAnnealingB': 2.556155418775548, 'kAnnealingStart': 11.062558211580814, 'kSkipRatio': 0.7288854126063817, 'kTargetDeterminationTrials': 10, 'kAttractionRatio': 0.4470981375886077, 'kMaxAttractionDistance': 56, 'kStartAttraction': 0.02169539064168567}. Best is trial 229 with value: 5716.464646464647.\u001b[0m\n"
     ]
    },
    {
     "name": "stdout",
     "output_type": "stream",
     "text": [
      "index_parallel='0246'\n"
     ]
    },
    {
     "name": "stderr",
     "output_type": "stream",
     "text": [
      "\u001b[32m[I 2022-08-16 09:04:57,807]\u001b[0m Trial 246 finished with value: 5610.792929292929 and parameters: {'kErase': 1, 'kRadius': 2, 'kAnnealingA': -1.1773814380210657, 'kAnnealingB': 2.7629309176822137, 'kAnnealingStart': 9.810245962803572, 'kSkipRatio': 0.7717856442159153, 'kTargetDeterminationTrials': 11, 'kAttractionRatio': 0.4894453847275547, 'kMaxAttractionDistance': 71, 'kStartAttraction': 0.018315633114490273}. Best is trial 229 with value: 5716.464646464647.\u001b[0m\n"
     ]
    },
    {
     "name": "stdout",
     "output_type": "stream",
     "text": [
      "index_parallel='0248'\n"
     ]
    },
    {
     "name": "stderr",
     "output_type": "stream",
     "text": [
      "\u001b[32m[I 2022-08-16 09:08:46,310]\u001b[0m Trial 248 finished with value: 5626.242424242424 and parameters: {'kErase': 1, 'kRadius': 2, 'kAnnealingA': 0.7143391691071838, 'kAnnealingB': 2.8568596153753085, 'kAnnealingStart': 11.974820152806398, 'kSkipRatio': 0.756743779911488, 'kTargetDeterminationTrials': 8, 'kAttractionRatio': 0.3317446181446339, 'kMaxAttractionDistance': 62, 'kStartAttraction': 0.011877129090335054}. Best is trial 229 with value: 5716.464646464647.\u001b[0m\n"
     ]
    },
    {
     "name": "stdout",
     "output_type": "stream",
     "text": [
      "index_parallel='0250'\n"
     ]
    },
    {
     "name": "stderr",
     "output_type": "stream",
     "text": [
      "\u001b[32m[I 2022-08-16 09:12:34,823]\u001b[0m Trial 250 finished with value: 5573.141414141414 and parameters: {'kErase': 1, 'kRadius': 2, 'kAnnealingA': -3.083624554967713, 'kAnnealingB': 2.677730149775895, 'kAnnealingStart': 13.311095023621407, 'kSkipRatio': 0.6917831478082618, 'kTargetDeterminationTrials': 8, 'kAttractionRatio': 0.41890044127749304, 'kMaxAttractionDistance': 52, 'kStartAttraction': 0.010250945111292186}. Best is trial 229 with value: 5716.464646464647.\u001b[0m\n"
     ]
    },
    {
     "name": "stdout",
     "output_type": "stream",
     "text": [
      "index_parallel='0252'\n"
     ]
    },
    {
     "name": "stderr",
     "output_type": "stream",
     "text": [
      "\u001b[32m[I 2022-08-16 09:16:23,504]\u001b[0m Trial 252 finished with value: 5646.80808080808 and parameters: {'kErase': 1, 'kRadius': 2, 'kAnnealingA': -0.7181346703132949, 'kAnnealingB': 2.757757473757943, 'kAnnealingStart': 11.136616745233534, 'kSkipRatio': 0.7368772763666736, 'kTargetDeterminationTrials': 9, 'kAttractionRatio': 0.43279840900501076, 'kMaxAttractionDistance': 60, 'kStartAttraction': 0.014257966887802634}. Best is trial 229 with value: 5716.464646464647.\u001b[0m\n"
     ]
    },
    {
     "name": "stdout",
     "output_type": "stream",
     "text": [
      "index_parallel='0254'\n"
     ]
    },
    {
     "name": "stderr",
     "output_type": "stream",
     "text": [
      "\u001b[32m[I 2022-08-16 09:20:12,222]\u001b[0m Trial 254 finished with value: 5595.277777777777 and parameters: {'kErase': 1, 'kRadius': 2, 'kAnnealingA': -1.5022948944838226, 'kAnnealingB': 2.844406725534175, 'kAnnealingStart': 12.154769111838634, 'kSkipRatio': 0.6788269505466878, 'kTargetDeterminationTrials': 9, 'kAttractionRatio': 0.5082458329578675, 'kMaxAttractionDistance': 19, 'kStartAttraction': 0.009461047431496096}. Best is trial 229 with value: 5716.464646464647.\u001b[0m\n"
     ]
    },
    {
     "name": "stdout",
     "output_type": "stream",
     "text": [
      "index_parallel='0256'\n"
     ]
    },
    {
     "name": "stderr",
     "output_type": "stream",
     "text": [
      "\u001b[32m[I 2022-08-16 09:24:01,412]\u001b[0m Trial 256 finished with value: 5622.929292929293 and parameters: {'kErase': 1, 'kRadius': 2, 'kAnnealingA': 1.2210389968325528, 'kAnnealingB': 2.914556647919435, 'kAnnealingStart': 13.731068169655181, 'kSkipRatio': 0.7064862210356161, 'kTargetDeterminationTrials': 8, 'kAttractionRatio': 0.36639411436291974, 'kMaxAttractionDistance': 66, 'kStartAttraction': 0.012450929887882005}. Best is trial 229 with value: 5716.464646464647.\u001b[0m\n"
     ]
    },
    {
     "name": "stdout",
     "output_type": "stream",
     "text": [
      "index_parallel='0258'\n"
     ]
    },
    {
     "name": "stderr",
     "output_type": "stream",
     "text": [
      "\u001b[32m[I 2022-08-16 09:27:50,174]\u001b[0m Trial 258 finished with value: 5585.227272727273 and parameters: {'kErase': 1, 'kRadius': 2, 'kAnnealingA': 0.720739836931064, 'kAnnealingB': 2.7453543408089787, 'kAnnealingStart': 15.256559298629371, 'kSkipRatio': 0.7892441781931511, 'kTargetDeterminationTrials': 10, 'kAttractionRatio': 0.5802775060000497, 'kMaxAttractionDistance': 92, 'kStartAttraction': 0.010427912881130045}. Best is trial 229 with value: 5716.464646464647.\u001b[0m\n"
     ]
    },
    {
     "name": "stdout",
     "output_type": "stream",
     "text": [
      "index_parallel='0260'\n"
     ]
    },
    {
     "name": "stderr",
     "output_type": "stream",
     "text": [
      "\u001b[32m[I 2022-08-16 09:31:38,919]\u001b[0m Trial 260 finished with value: 5705.277777777777 and parameters: {'kErase': 1, 'kRadius': 2, 'kAnnealingA': 1.9203873971218193, 'kAnnealingB': 2.574881847821126, 'kAnnealingStart': 15.207644732225306, 'kSkipRatio': 0.7512967920062895, 'kTargetDeterminationTrials': 7, 'kAttractionRatio': 0.5463648280869507, 'kMaxAttractionDistance': 82, 'kStartAttraction': 0.008612469994311277}. Best is trial 229 with value: 5716.464646464647.\u001b[0m\n"
     ]
    },
    {
     "name": "stdout",
     "output_type": "stream",
     "text": [
      "index_parallel='0262'\n"
     ]
    },
    {
     "name": "stderr",
     "output_type": "stream",
     "text": [
      "\u001b[32m[I 2022-08-16 09:35:27,439]\u001b[0m Trial 262 finished with value: 5634.883838383838 and parameters: {'kErase': 1, 'kRadius': 2, 'kAnnealingA': -0.06588519232510714, 'kAnnealingB': 2.6316522802313718, 'kAnnealingStart': 9.281548642446031, 'kSkipRatio': 0.7508989834174296, 'kTargetDeterminationTrials': 7, 'kAttractionRatio': 0.34950051009551897, 'kMaxAttractionDistance': 82, 'kStartAttraction': 0.01668647198448717}. Best is trial 229 with value: 5716.464646464647.\u001b[0m\n"
     ]
    },
    {
     "name": "stdout",
     "output_type": "stream",
     "text": [
      "index_parallel='0264'\n"
     ]
    },
    {
     "name": "stderr",
     "output_type": "stream",
     "text": [
      "\u001b[32m[I 2022-08-16 09:39:16,106]\u001b[0m Trial 264 finished with value: 5689.762626262626 and parameters: {'kErase': 1, 'kRadius': 2, 'kAnnealingA': 1.5617905312438898, 'kAnnealingB': 2.4929623563013745, 'kAnnealingStart': 12.485928528096363, 'kSkipRatio': 0.7293606376347296, 'kTargetDeterminationTrials': 8, 'kAttractionRatio': 0.4548648663431473, 'kMaxAttractionDistance': 82, 'kStartAttraction': 0.006785961050808273}. Best is trial 229 with value: 5716.464646464647.\u001b[0m\n"
     ]
    },
    {
     "name": "stdout",
     "output_type": "stream",
     "text": [
      "index_parallel='0266'\n"
     ]
    },
    {
     "name": "stderr",
     "output_type": "stream",
     "text": [
      "\u001b[32m[I 2022-08-16 09:43:05,383]\u001b[0m Trial 266 finished with value: 5644.040404040404 and parameters: {'kErase': 1, 'kRadius': 2, 'kAnnealingA': 1.5680495156859258, 'kAnnealingB': 2.5240748885124553, 'kAnnealingStart': 13.131967495326503, 'kSkipRatio': 0.7455807594709157, 'kTargetDeterminationTrials': 7, 'kAttractionRatio': 0.4765572955894946, 'kMaxAttractionDistance': 82, 'kStartAttraction': 0.006362702725461319}. Best is trial 229 with value: 5716.464646464647.\u001b[0m\n"
     ]
    },
    {
     "name": "stdout",
     "output_type": "stream",
     "text": [
      "index_parallel='0268'\n"
     ]
    },
    {
     "name": "stderr",
     "output_type": "stream",
     "text": [
      "\u001b[32m[I 2022-08-16 09:46:55,472]\u001b[0m Trial 268 finished with value: 4736.515151515152 and parameters: {'kErase': 4, 'kRadius': 2, 'kAnnealingA': 2.592659569606849, 'kAnnealingB': 2.4880570563189854, 'kAnnealingStart': 12.701832412848331, 'kSkipRatio': 0.7348412828370077, 'kTargetDeterminationTrials': 8, 'kAttractionRatio': 0.5591957983049868, 'kMaxAttractionDistance': 89, 'kStartAttraction': 0.006954052654802595}. Best is trial 229 with value: 5716.464646464647.\u001b[0m\n"
     ]
    },
    {
     "name": "stdout",
     "output_type": "stream",
     "text": [
      "index_parallel='0270'\n"
     ]
    },
    {
     "name": "stderr",
     "output_type": "stream",
     "text": [
      "\u001b[32m[I 2022-08-16 09:50:44,110]\u001b[0m Trial 270 finished with value: 5584.651515151515 and parameters: {'kErase': 1, 'kRadius': 4, 'kAnnealingA': 0.4057410880914749, 'kAnnealingB': 2.4398530565474386, 'kAnnealingStart': 14.48063332943906, 'kSkipRatio': 0.7189810849290675, 'kTargetDeterminationTrials': 2, 'kAttractionRatio': 0.3964798081556702, 'kMaxAttractionDistance': 96, 'kStartAttraction': 0.007588412717664738}. Best is trial 229 with value: 5716.464646464647.\u001b[0m\n"
     ]
    },
    {
     "name": "stdout",
     "output_type": "stream",
     "text": [
      "index_parallel='0272'\n"
     ]
    },
    {
     "name": "stderr",
     "output_type": "stream",
     "text": [
      "\u001b[32m[I 2022-08-16 09:54:33,170]\u001b[0m Trial 272 finished with value: 5612.762626262626 and parameters: {'kErase': 1, 'kRadius': 2, 'kAnnealingA': 2.027804838278493, 'kAnnealingB': 2.5967409134120936, 'kAnnealingStart': 16.167544646408633, 'kSkipRatio': 0.7563494059793217, 'kTargetDeterminationTrials': 8, 'kAttractionRatio': 0.3228019502481842, 'kMaxAttractionDistance': 84, 'kStartAttraction': 0.00619901213175792}. Best is trial 229 with value: 5716.464646464647.\u001b[0m\n"
     ]
    },
    {
     "name": "stdout",
     "output_type": "stream",
     "text": [
      "index_parallel='0274'\n"
     ]
    },
    {
     "name": "stderr",
     "output_type": "stream",
     "text": [
      "\u001b[32m[I 2022-08-16 09:58:21,776]\u001b[0m Trial 274 finished with value: 5679.964646464647 and parameters: {'kErase': 1, 'kRadius': 2, 'kAnnealingA': 1.1243579783446644, 'kAnnealingB': 2.6284243020301377, 'kAnnealingStart': 16.709750022906583, 'kSkipRatio': 0.7461363431960482, 'kTargetDeterminationTrials': 6, 'kAttractionRatio': 0.38636386377911863, 'kMaxAttractionDistance': 80, 'kStartAttraction': 0.0059808107139594875}. Best is trial 229 with value: 5716.464646464647.\u001b[0m\n"
     ]
    },
    {
     "name": "stdout",
     "output_type": "stream",
     "text": [
      "index_parallel='0276'\n"
     ]
    },
    {
     "name": "stderr",
     "output_type": "stream",
     "text": [
      "\u001b[32m[I 2022-08-16 10:02:10,588]\u001b[0m Trial 276 finished with value: 5617.762626262626 and parameters: {'kErase': 1, 'kRadius': 2, 'kAnnealingA': 1.3218178314150313, 'kAnnealingB': 2.616101553050595, 'kAnnealingStart': 16.523068447587217, 'kSkipRatio': 0.7179204594251718, 'kTargetDeterminationTrials': 6, 'kAttractionRatio': 0.41269787632617705, 'kMaxAttractionDistance': 77, 'kStartAttraction': 0.00627791227465891}. Best is trial 229 with value: 5716.464646464647.\u001b[0m\n"
     ]
    },
    {
     "name": "stdout",
     "output_type": "stream",
     "text": [
      "index_parallel='0278'\n"
     ]
    },
    {
     "name": "stderr",
     "output_type": "stream",
     "text": [
      "\u001b[32m[I 2022-08-16 10:05:59,242]\u001b[0m Trial 278 finished with value: 5607.580808080808 and parameters: {'kErase': 1, 'kRadius': 2, 'kAnnealingA': 2.1103702371255126, 'kAnnealingB': 2.5486738171002994, 'kAnnealingStart': 14.180204616040813, 'kSkipRatio': 0.7275163131207397, 'kTargetDeterminationTrials': 3, 'kAttractionRatio': 0.3782695998851718, 'kMaxAttractionDistance': 85, 'kStartAttraction': 0.005734299171047964}. Best is trial 229 with value: 5716.464646464647.\u001b[0m\n"
     ]
    },
    {
     "name": "stdout",
     "output_type": "stream",
     "text": [
      "index_parallel='0280'\n"
     ]
    },
    {
     "name": "stderr",
     "output_type": "stream",
     "text": [
      "\u001b[32m[I 2022-08-16 10:09:48,388]\u001b[0m Trial 280 finished with value: 4892.742424242424 and parameters: {'kErase': 3, 'kRadius': 2, 'kAnnealingA': 2.9553478343165107, 'kAnnealingB': 2.491841784122755, 'kAnnealingStart': 18.33338232646123, 'kSkipRatio': 0.7412480569874497, 'kTargetDeterminationTrials': 7, 'kAttractionRatio': 0.1271051237490885, 'kMaxAttractionDistance': 99, 'kStartAttraction': 0.008162783172600276}. Best is trial 229 with value: 5716.464646464647.\u001b[0m\n"
     ]
    },
    {
     "name": "stdout",
     "output_type": "stream",
     "text": [
      "index_parallel='0282'\n"
     ]
    },
    {
     "name": "stderr",
     "output_type": "stream",
     "text": [
      "\u001b[32m[I 2022-08-16 10:13:37,068]\u001b[0m Trial 282 finished with value: 5635.121212121212 and parameters: {'kErase': 1, 'kRadius': 2, 'kAnnealingA': 0.4215789941402399, 'kAnnealingB': 2.6586209574505837, 'kAnnealingStart': 15.305092575627626, 'kSkipRatio': 0.747187176681368, 'kTargetDeterminationTrials': 6, 'kAttractionRatio': 0.4508266680017985, 'kMaxAttractionDistance': 80, 'kStartAttraction': 0.005024500355955193}. Best is trial 229 with value: 5716.464646464647.\u001b[0m\n"
     ]
    },
    {
     "name": "stdout",
     "output_type": "stream",
     "text": [
      "index_parallel='0284'\n"
     ]
    },
    {
     "name": "stderr",
     "output_type": "stream",
     "text": [
      "\u001b[32m[I 2022-08-16 10:17:25,757]\u001b[0m Trial 284 finished with value: 5657.348484848485 and parameters: {'kErase': 1, 'kRadius': 2, 'kAnnealingA': -0.3995860031086335, 'kAnnealingB': 2.4364489056995384, 'kAnnealingStart': 20.712112961754045, 'kSkipRatio': 0.7592314339716123, 'kTargetDeterminationTrials': 9, 'kAttractionRatio': 0.6001435822097314, 'kMaxAttractionDistance': 90, 'kStartAttraction': 0.006982302239715827}. Best is trial 229 with value: 5716.464646464647.\u001b[0m\n"
     ]
    },
    {
     "name": "stdout",
     "output_type": "stream",
     "text": [
      "index_parallel='0286'\n"
     ]
    },
    {
     "name": "stderr",
     "output_type": "stream",
     "text": [
      "\u001b[32m[I 2022-08-16 10:21:14,274]\u001b[0m Trial 286 finished with value: 5576.171717171717 and parameters: {'kErase': 1, 'kRadius': 2, 'kAnnealingA': 1.1065620435830517, 'kAnnealingB': 2.5599288819324713, 'kAnnealingStart': 17.219673854840998, 'kSkipRatio': 0.729651176982888, 'kTargetDeterminationTrials': 9, 'kAttractionRatio': 0.31806997310361873, 'kMaxAttractionDistance': 73, 'kStartAttraction': 0.005630383749555158}. Best is trial 229 with value: 5716.464646464647.\u001b[0m\n"
     ]
    },
    {
     "name": "stdout",
     "output_type": "stream",
     "text": [
      "index_parallel='0288'\n"
     ]
    },
    {
     "name": "stderr",
     "output_type": "stream",
     "text": [
      "\u001b[32m[I 2022-08-16 10:25:03,508]\u001b[0m Trial 288 finished with value: 5135.373737373738 and parameters: {'kErase': 3, 'kRadius': 2, 'kAnnealingA': 1.613947298132594, 'kAnnealingB': 0.0710774034772428, 'kAnnealingStart': 13.603146141248887, 'kSkipRatio': 0.7046291611138774, 'kTargetDeterminationTrials': 11, 'kAttractionRatio': 0.4307591297342789, 'kMaxAttractionDistance': 86, 'kStartAttraction': 0.008914876938555957}. Best is trial 229 with value: 5716.464646464647.\u001b[0m\n"
     ]
    },
    {
     "name": "stdout",
     "output_type": "stream",
     "text": [
      "index_parallel='0290'\n"
     ]
    },
    {
     "name": "stderr",
     "output_type": "stream",
     "text": [
      "\u001b[32m[I 2022-08-16 10:28:52,166]\u001b[0m Trial 290 finished with value: 5684.257575757576 and parameters: {'kErase': 1, 'kRadius': 2, 'kAnnealingA': -0.5558161024972654, 'kAnnealingB': 2.681022383832899, 'kAnnealingStart': 13.439423173180867, 'kSkipRatio': 0.7702504480474751, 'kTargetDeterminationTrials': 9, 'kAttractionRatio': 0.36333497890653604, 'kMaxAttractionDistance': 79, 'kStartAttraction': 0.0021015891254644718}. Best is trial 229 with value: 5716.464646464647.\u001b[0m\n"
     ]
    },
    {
     "name": "stdout",
     "output_type": "stream",
     "text": [
      "index_parallel='0292'\n"
     ]
    },
    {
     "name": "stderr",
     "output_type": "stream",
     "text": [
      "\u001b[32m[I 2022-08-16 10:32:40,839]\u001b[0m Trial 292 finished with value: 5633.318181818182 and parameters: {'kErase': 1, 'kRadius': 2, 'kAnnealingA': -0.7950366611985666, 'kAnnealingB': 2.6278503890838874, 'kAnnealingStart': 15.70475530640173, 'kSkipRatio': 0.7423481145571468, 'kTargetDeterminationTrials': 8, 'kAttractionRatio': 0.34755208054076825, 'kMaxAttractionDistance': 78, 'kStartAttraction': 0.0017404387923463077}. Best is trial 229 with value: 5716.464646464647.\u001b[0m\n"
     ]
    },
    {
     "name": "stdout",
     "output_type": "stream",
     "text": [
      "index_parallel='0294'\n"
     ]
    },
    {
     "name": "stderr",
     "output_type": "stream",
     "text": [
      "\u001b[32m[I 2022-08-16 10:36:29,976]\u001b[0m Trial 294 finished with value: 5638.747474747474 and parameters: {'kErase': 1, 'kRadius': 2, 'kAnnealingA': 0.024253830554792466, 'kAnnealingB': 2.7294387442958072, 'kAnnealingStart': 19.131180777978514, 'kSkipRatio': 0.7232196263606269, 'kTargetDeterminationTrials': 7, 'kAttractionRatio': 0.379970249695697, 'kMaxAttractionDistance': 72, 'kStartAttraction': 0.0021719755041616664}. Best is trial 229 with value: 5716.464646464647.\u001b[0m\n"
     ]
    },
    {
     "name": "stdout",
     "output_type": "stream",
     "text": [
      "index_parallel='0296'\n"
     ]
    },
    {
     "name": "stderr",
     "output_type": "stream",
     "text": [
      "\u001b[32m[I 2022-08-16 10:40:18,494]\u001b[0m Trial 296 finished with value: 5634.717171717171 and parameters: {'kErase': 1, 'kRadius': 2, 'kAnnealingA': -1.1492451364563676, 'kAnnealingB': 2.519924390997271, 'kAnnealingStart': 16.791152488865727, 'kSkipRatio': 0.7556819411446332, 'kTargetDeterminationTrials': 5, 'kAttractionRatio': 0.3312318506496001, 'kMaxAttractionDistance': 80, 'kStartAttraction': 0.001867468323229536}. Best is trial 229 with value: 5716.464646464647.\u001b[0m\n"
     ]
    },
    {
     "name": "stdout",
     "output_type": "stream",
     "text": [
      "index_parallel='0298'\n"
     ]
    },
    {
     "name": "stderr",
     "output_type": "stream",
     "text": [
      "\u001b[32m[I 2022-08-16 10:44:08,009]\u001b[0m Trial 298 finished with value: 5298.974747474747 and parameters: {'kErase': 2, 'kRadius': 3, 'kAnnealingA': -0.16728624997193475, 'kAnnealingB': 2.646910309213633, 'kAnnealingStart': 15.410152696133546, 'kSkipRatio': 0.7796119682907606, 'kTargetDeterminationTrials': 8, 'kAttractionRatio': 0.2809570482985767, 'kMaxAttractionDistance': 75, 'kStartAttraction': 0.0019933867218429116}. Best is trial 229 with value: 5716.464646464647.\u001b[0m\n"
     ]
    },
    {
     "name": "stdout",
     "output_type": "stream",
     "text": [
      "index_parallel='0300'\n"
     ]
    },
    {
     "name": "stderr",
     "output_type": "stream",
     "text": [
      "\u001b[32m[I 2022-08-16 10:47:56,506]\u001b[0m Trial 300 finished with value: 5608.717171717171 and parameters: {'kErase': 1, 'kRadius': 2, 'kAnnealingA': 0.6899967897109137, 'kAnnealingB': 1.6937327479555773, 'kAnnealingStart': 18.318675451247415, 'kSkipRatio': 0.748121970430057, 'kTargetDeterminationTrials': 8, 'kAttractionRatio': 0.4821626724282261, 'kMaxAttractionDistance': 87, 'kStartAttraction': 0.0027592259896697417}. Best is trial 229 with value: 5716.464646464647.\u001b[0m\n"
     ]
    },
    {
     "name": "stdout",
     "output_type": "stream",
     "text": [
      "index_parallel='0302'\n"
     ]
    },
    {
     "name": "stderr",
     "output_type": "stream",
     "text": [
      "\u001b[32m[I 2022-08-16 10:51:45,395]\u001b[0m Trial 302 finished with value: 5596.065656565656 and parameters: {'kErase': 1, 'kRadius': 2, 'kAnnealingA': 1.0053635584823806, 'kAnnealingB': 1.628623905195576, 'kAnnealingStart': 19.934828539851356, 'kSkipRatio': 0.7295532084425872, 'kTargetDeterminationTrials': 9, 'kAttractionRatio': 0.5899695592312564, 'kMaxAttractionDistance': 17, 'kStartAttraction': 0.007736541275798265}. Best is trial 229 with value: 5716.464646464647.\u001b[0m\n"
     ]
    },
    {
     "name": "stdout",
     "output_type": "stream",
     "text": [
      "index_parallel='0304'\n"
     ]
    },
    {
     "name": "stderr",
     "output_type": "stream",
     "text": [
      "\u001b[32m[I 2022-08-16 10:55:34,046]\u001b[0m Trial 304 finished with value: 5620.040404040404 and parameters: {'kErase': 1, 'kRadius': 2, 'kAnnealingA': -0.8169280290242202, 'kAnnealingB': 2.6082018910941596, 'kAnnealingStart': 11.198873967645904, 'kSkipRatio': 0.7626999496277511, 'kTargetDeterminationTrials': 8, 'kAttractionRatio': 0.3007260900854657, 'kMaxAttractionDistance': 71, 'kStartAttraction': 0.009813986048666032}. Best is trial 229 with value: 5716.464646464647.\u001b[0m\n"
     ]
    },
    {
     "name": "stdout",
     "output_type": "stream",
     "text": [
      "index_parallel='0306'\n"
     ]
    },
    {
     "name": "stderr",
     "output_type": "stream",
     "text": [
      "\u001b[32m[I 2022-08-16 10:59:22,697]\u001b[0m Trial 306 finished with value: 4892.20202020202 and parameters: {'kErase': 1, 'kRadius': 2, 'kAnnealingA': 0.0942532990968562, 'kAnnealingB': 2.5579677504157776, 'kAnnealingStart': 80.37752494139077, 'kSkipRatio': 0.7650320901895086, 'kTargetDeterminationTrials': 7, 'kAttractionRatio': 0.3603673660491471, 'kMaxAttractionDistance': 80, 'kStartAttraction': 0.003976392774697353}. Best is trial 229 with value: 5716.464646464647.\u001b[0m\n"
     ]
    },
    {
     "name": "stdout",
     "output_type": "stream",
     "text": [
      "index_parallel='0308'\n"
     ]
    },
    {
     "name": "stderr",
     "output_type": "stream",
     "text": [
      "\u001b[32m[I 2022-08-16 11:03:11,364]\u001b[0m Trial 308 finished with value: 5601.828282828283 and parameters: {'kErase': 1, 'kRadius': 2, 'kAnnealingA': -2.482886655078017, 'kAnnealingB': 2.4809277986627327, 'kAnnealingStart': 15.023543680232907, 'kSkipRatio': 0.7897266193797999, 'kTargetDeterminationTrials': 13, 'kAttractionRatio': 0.44406543710154156, 'kMaxAttractionDistance': 93, 'kStartAttraction': 0.0066762931938900375}. Best is trial 229 with value: 5716.464646464647.\u001b[0m\n"
     ]
    },
    {
     "name": "stdout",
     "output_type": "stream",
     "text": [
      "index_parallel='0310'\n"
     ]
    },
    {
     "name": "stderr",
     "output_type": "stream",
     "text": [
      "\u001b[32m[I 2022-08-16 11:07:00,307]\u001b[0m Trial 310 finished with value: 5651.621212121212 and parameters: {'kErase': 1, 'kRadius': 2, 'kAnnealingA': 2.3164011465872685, 'kAnnealingB': 2.3987549990644683, 'kAnnealingStart': 13.271428549109746, 'kSkipRatio': 0.7473727868782752, 'kTargetDeterminationTrials': 14, 'kAttractionRatio': 0.5256779312140766, 'kMaxAttractionDistance': 86, 'kStartAttraction': 0.005764975244983597}. Best is trial 229 with value: 5716.464646464647.\u001b[0m\n"
     ]
    },
    {
     "name": "stdout",
     "output_type": "stream",
     "text": [
      "index_parallel='0312'\n"
     ]
    },
    {
     "name": "stderr",
     "output_type": "stream",
     "text": [
      "\u001b[32m[I 2022-08-16 11:10:49,848]\u001b[0m Trial 312 finished with value: 4198.313131313132 and parameters: {'kErase': 5, 'kRadius': 2, 'kAnnealingA': 3.2886634151898906, 'kAnnealingB': 2.6889807564037573, 'kAnnealingStart': 22.270480170174668, 'kSkipRatio': 0.7341166837778024, 'kTargetDeterminationTrials': 10, 'kAttractionRatio': 0.4979225182796763, 'kMaxAttractionDistance': 76, 'kStartAttraction': 0.008328743979583574}. Best is trial 229 with value: 5716.464646464647.\u001b[0m\n",
      "\u001b[33m[W 2022-08-16 11:10:49,977]\u001b[0m Caught an error from sqlalchemy: (sqlite3.OperationalError) unable to open database file\n",
      "[SQL: SELECT trial_values.trial_id AS trial_values_trial_id, trial_values.trial_value_id AS trial_values_trial_value_id, trial_values.objective AS trial_values_objective, trial_values.value AS trial_values_value \n",
      "FROM trial_values \n",
      "WHERE trial_values.trial_id IN (?, ?, ?)]\n",
      "[parameters: (312, 314, 315)]\n",
      "(Background on this error at: https://sqlalche.me/e/14/e3q8). Falling back to a slower alternative. \u001b[0m\n"
     ]
    },
    {
     "name": "stdout",
     "output_type": "stream",
     "text": [
      "index_parallel='0315'\n"
     ]
    },
    {
     "name": "stderr",
     "output_type": "stream",
     "text": [
      "\u001b[32m[I 2022-08-16 11:14:39,530]\u001b[0m Trial 315 finished with value: 5715.656565656565 and parameters: {'kErase': 1, 'kRadius': 2, 'kAnnealingA': 0.5204939140696381, 'kAnnealingB': 2.5681267791589693, 'kAnnealingStart': 17.615090485089144, 'kSkipRatio': 0.7133953428288586, 'kTargetDeterminationTrials': 8, 'kAttractionRatio': 0.4053463565364266, 'kMaxAttractionDistance': 84, 'kStartAttraction': 0.00481581524438582}. Best is trial 229 with value: 5716.464646464647.\u001b[0m\n"
     ]
    },
    {
     "name": "stdout",
     "output_type": "stream",
     "text": [
      "index_parallel='0317'\n"
     ]
    },
    {
     "name": "stderr",
     "output_type": "stream",
     "text": [
      "\u001b[32m[I 2022-08-16 11:18:28,498]\u001b[0m Trial 317 finished with value: 5694.060606060606 and parameters: {'kErase': 1, 'kRadius': 2, 'kAnnealingA': 1.5249638510379284, 'kAnnealingB': 2.5262722438693537, 'kAnnealingStart': 15.671821724823086, 'kSkipRatio': 0.721430271497514, 'kTargetDeterminationTrials': 7, 'kAttractionRatio': 0.45272622304172083, 'kMaxAttractionDistance': 83, 'kStartAttraction': 0.00315348933436559}. Best is trial 229 with value: 5716.464646464647.\u001b[0m\n"
     ]
    },
    {
     "name": "stdout",
     "output_type": "stream",
     "text": [
      "index_parallel='0319'\n"
     ]
    },
    {
     "name": "stderr",
     "output_type": "stream",
     "text": [
      "\u001b[32m[I 2022-08-16 11:22:16,947]\u001b[0m Trial 319 finished with value: 5593.277777777777 and parameters: {'kErase': 1, 'kRadius': 2, 'kAnnealingA': 1.1873229754364172, 'kAnnealingB': 2.5166102266580426, 'kAnnealingStart': 19.96019789289248, 'kSkipRatio': 0.7142330724081204, 'kTargetDeterminationTrials': 7, 'kAttractionRatio': 0.5603767568859133, 'kMaxAttractionDistance': 83, 'kStartAttraction': 0.0030661756359858586}. Best is trial 229 with value: 5716.464646464647.\u001b[0m\n"
     ]
    },
    {
     "name": "stdout",
     "output_type": "stream",
     "text": [
      "index_parallel='0321'\n"
     ]
    },
    {
     "name": "stderr",
     "output_type": "stream",
     "text": [
      "\u001b[32m[I 2022-08-16 11:26:05,193]\u001b[0m Trial 321 finished with value: 5627.575757575758 and parameters: {'kErase': 1, 'kRadius': 3, 'kAnnealingA': 2.0158558987007487, 'kAnnealingB': 2.4604089600381545, 'kAnnealingStart': 13.5500950322191, 'kSkipRatio': 0.7260926556233841, 'kTargetDeterminationTrials': 6, 'kAttractionRatio': 0.4910025738014904, 'kMaxAttractionDistance': 91, 'kStartAttraction': 0.0036570614952744812}. Best is trial 229 with value: 5716.464646464647.\u001b[0m\n"
     ]
    },
    {
     "name": "stdout",
     "output_type": "stream",
     "text": [
      "index_parallel='0323'\n"
     ]
    },
    {
     "name": "stderr",
     "output_type": "stream",
     "text": [
      "\u001b[32m[I 2022-08-16 11:29:54,099]\u001b[0m Trial 323 finished with value: 5393.555555555556 and parameters: {'kErase': 2, 'kRadius': 2, 'kAnnealingA': 2.6099128273232766, 'kAnnealingB': 2.569214177973141, 'kAnnealingStart': 12.436303646595727, 'kSkipRatio': 0.6988046323654903, 'kTargetDeterminationTrials': 6, 'kAttractionRatio': 0.6393400802516966, 'kMaxAttractionDistance': 99, 'kStartAttraction': 0.005079326114214156}. Best is trial 229 with value: 5716.464646464647.\u001b[0m\n"
     ]
    },
    {
     "name": "stdout",
     "output_type": "stream",
     "text": [
      "index_parallel='0325'\n"
     ]
    },
    {
     "name": "stderr",
     "output_type": "stream",
     "text": [
      "\u001b[32m[I 2022-08-16 11:33:42,320]\u001b[0m Trial 325 finished with value: 5606.686868686868 and parameters: {'kErase': 1, 'kRadius': 2, 'kAnnealingA': 0.4910668817175896, 'kAnnealingB': 2.432970648239039, 'kAnnealingStart': 17.275433908162917, 'kSkipRatio': 0.7399913000991561, 'kTargetDeterminationTrials': 7, 'kAttractionRatio': 0.3978419529301235, 'kMaxAttractionDistance': 82, 'kStartAttraction': 0.0032743024655244985}. Best is trial 229 with value: 5716.464646464647.\u001b[0m\n"
     ]
    },
    {
     "name": "stdout",
     "output_type": "stream",
     "text": [
      "index_parallel='0327'\n"
     ]
    },
    {
     "name": "stderr",
     "output_type": "stream",
     "text": [
      "\u001b[32m[I 2022-08-16 11:37:30,810]\u001b[0m Trial 327 finished with value: 5614.60101010101 and parameters: {'kErase': 1, 'kRadius': 2, 'kAnnealingA': 4.054641727472974, 'kAnnealingB': 0.3573562259984303, 'kAnnealingStart': 15.931566606154966, 'kSkipRatio': 0.7529670736125845, 'kTargetDeterminationTrials': 8, 'kAttractionRatio': 0.705106637321209, 'kMaxAttractionDistance': 78, 'kStartAttraction': 0.002532703254389875}. Best is trial 229 with value: 5716.464646464647.\u001b[0m\n"
     ]
    },
    {
     "name": "stdout",
     "output_type": "stream",
     "text": [
      "index_parallel='0329'\n"
     ]
    },
    {
     "name": "stderr",
     "output_type": "stream",
     "text": [
      "\u001b[32m[I 2022-08-16 11:41:19,473]\u001b[0m Trial 329 finished with value: 5677.520202020202 and parameters: {'kErase': 1, 'kRadius': 2, 'kAnnealingA': 1.8530466743303018, 'kAnnealingB': 0.44572457769978435, 'kAnnealingStart': 14.544731165419666, 'kSkipRatio': 0.7259692095266536, 'kTargetDeterminationTrials': 9, 'kAttractionRatio': 0.5966617540561243, 'kMaxAttractionDistance': 33, 'kStartAttraction': 0.005186497393101794}. Best is trial 229 with value: 5716.464646464647.\u001b[0m\n"
     ]
    },
    {
     "name": "stdout",
     "output_type": "stream",
     "text": [
      "index_parallel='0331'\n"
     ]
    }
   ],
   "source": [
    "study.optimize(\n",
    "    partial(objective, in_dir=in_dir, work_dir=work_dir),\n",
    "    n_trials=3000,\n",
    "    timeout=86400,\n",
    "    callbacks=[callback]\n",
    ")"
   ]
  },
  {
   "cell_type": "code",
   "execution_count": null,
   "id": "700269d2",
   "metadata": {},
   "outputs": [],
   "source": []
  }
 ],
 "metadata": {
  "kernelspec": {
   "display_name": "Python 3 (ipykernel)",
   "language": "python",
   "name": "python3"
  },
  "language_info": {
   "codemirror_mode": {
    "name": "ipython",
    "version": 3
   },
   "file_extension": ".py",
   "mimetype": "text/x-python",
   "name": "python",
   "nbconvert_exporter": "python",
   "pygments_lexer": "ipython3",
   "version": "3.9.12"
  }
 },
 "nbformat": 4,
 "nbformat_minor": 5
}
