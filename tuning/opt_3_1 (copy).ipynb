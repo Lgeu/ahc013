{
 "cells": [
  {
   "cell_type": "code",
   "execution_count": 1,
   "id": "25a1dac8",
   "metadata": {},
   "outputs": [],
   "source": [
    "import re\n",
    "import sys\n",
    "from uuid import uuid1\n",
    "from time import sleep\n",
    "from pprint import pprint\n",
    "from pathlib import Path\n",
    "from tempfile import gettempdir\n",
    "from threading import Thread\n",
    "from functools import partial\n",
    "from subprocess import Popen, PIPE\n",
    "\n",
    "from tqdm.notebook import tqdm\n",
    "import numpy as np\n",
    "import optuna\n",
    "import pandas as pd\n",
    "import matplotlib.pyplot as plt\n",
    "\n",
    "FILENAME = \"main.cpp\""
   ]
  },
  {
   "cell_type": "code",
   "execution_count": 2,
   "id": "3dd4d02e",
   "metadata": {},
   "outputs": [
    {
     "name": "stdout",
     "output_type": "stream",
     "text": [
      "10 variables were found.\n"
     ]
    },
    {
     "data": {
      "text/html": [
       "<div>\n",
       "<style scoped>\n",
       "    .dataframe tbody tr th:only-of-type {\n",
       "        vertical-align: middle;\n",
       "    }\n",
       "\n",
       "    .dataframe tbody tr th {\n",
       "        vertical-align: top;\n",
       "    }\n",
       "\n",
       "    .dataframe thead th {\n",
       "        text-align: right;\n",
       "    }\n",
       "</style>\n",
       "<table border=\"1\" class=\"dataframe\">\n",
       "  <thead>\n",
       "    <tr style=\"text-align: right;\">\n",
       "      <th></th>\n",
       "      <th>name</th>\n",
       "      <th>method</th>\n",
       "      <th>min</th>\n",
       "      <th>max</th>\n",
       "      <th>log</th>\n",
       "      <th>left</th>\n",
       "      <th>right</th>\n",
       "    </tr>\n",
       "  </thead>\n",
       "  <tbody>\n",
       "    <tr>\n",
       "      <th>0</th>\n",
       "      <td>kErase</td>\n",
       "      <td>suggest_int</td>\n",
       "      <td>1.000</td>\n",
       "      <td>5.0</td>\n",
       "      <td>False</td>\n",
       "      <td>static constexpr auto kErase =</td>\n",
       "      <td>;             // OPTIMIZE [1, 5]</td>\n",
       "    </tr>\n",
       "    <tr>\n",
       "      <th>1</th>\n",
       "      <td>kRadius</td>\n",
       "      <td>suggest_int</td>\n",
       "      <td>2.000</td>\n",
       "      <td>6.0</td>\n",
       "      <td>False</td>\n",
       "      <td>static constexpr auto kRadius =</td>\n",
       "      <td>;            // OPTIMIZE [2, 6]</td>\n",
       "    </tr>\n",
       "    <tr>\n",
       "      <th>2</th>\n",
       "      <td>kAnnealingA</td>\n",
       "      <td>suggest_float</td>\n",
       "      <td>-15.000</td>\n",
       "      <td>15.0</td>\n",
       "      <td>False</td>\n",
       "      <td>static constexpr auto kAnnealingA =</td>\n",
       "      <td>;      // OPTIMIZE [-15.0, 15.0]</td>\n",
       "    </tr>\n",
       "    <tr>\n",
       "      <th>3</th>\n",
       "      <td>kAnnealingB</td>\n",
       "      <td>suggest_float</td>\n",
       "      <td>0.000</td>\n",
       "      <td>3.0</td>\n",
       "      <td>False</td>\n",
       "      <td>static constexpr auto kAnnealingB =</td>\n",
       "      <td>;      // OPTIMIZE [0.0, 3.0]</td>\n",
       "    </tr>\n",
       "    <tr>\n",
       "      <th>4</th>\n",
       "      <td>kAnnealingStart</td>\n",
       "      <td>suggest_float</td>\n",
       "      <td>1.000</td>\n",
       "      <td>100.0</td>\n",
       "      <td>True</td>\n",
       "      <td>static constexpr auto kAnnealingStart =</td>\n",
       "      <td>; // OPTIMIZE LOG [1.0, 100.0]</td>\n",
       "    </tr>\n",
       "    <tr>\n",
       "      <th>5</th>\n",
       "      <td>kSkipRatio</td>\n",
       "      <td>suggest_float</td>\n",
       "      <td>0.200</td>\n",
       "      <td>0.8</td>\n",
       "      <td>False</td>\n",
       "      <td>static constexpr auto kSkipRatio =</td>\n",
       "      <td>;       // OPTIMIZE [0.2, 0.8]</td>\n",
       "    </tr>\n",
       "    <tr>\n",
       "      <th>6</th>\n",
       "      <td>kTargetDeterminationTrials</td>\n",
       "      <td>suggest_int</td>\n",
       "      <td>1.000</td>\n",
       "      <td>20.0</td>\n",
       "      <td>True</td>\n",
       "      <td>static constexpr auto kTargetDeterminationTria...</td>\n",
       "      <td>; // OPTIMIZE LOG [1, 20]</td>\n",
       "    </tr>\n",
       "    <tr>\n",
       "      <th>7</th>\n",
       "      <td>kAttractionRatio</td>\n",
       "      <td>suggest_float</td>\n",
       "      <td>0.010</td>\n",
       "      <td>0.9</td>\n",
       "      <td>True</td>\n",
       "      <td>static constexpr auto kAttractionRatio =</td>\n",
       "      <td>;      // OPTIMIZE LOG [0.01, 0.9]</td>\n",
       "    </tr>\n",
       "    <tr>\n",
       "      <th>8</th>\n",
       "      <td>kMaxAttractionDistance</td>\n",
       "      <td>suggest_int</td>\n",
       "      <td>4.000</td>\n",
       "      <td>99.0</td>\n",
       "      <td>True</td>\n",
       "      <td>static constexpr auto kMaxAttractionDistance =</td>\n",
       "      <td>; // OPTIMIZE LOG [4, 99]</td>\n",
       "    </tr>\n",
       "    <tr>\n",
       "      <th>9</th>\n",
       "      <td>kStartAttraction</td>\n",
       "      <td>suggest_float</td>\n",
       "      <td>0.001</td>\n",
       "      <td>0.9</td>\n",
       "      <td>True</td>\n",
       "      <td>static constexpr auto kStartAttraction =</td>\n",
       "      <td>;     // OPTIMIZE LOG [0.001, 0.9]</td>\n",
       "    </tr>\n",
       "  </tbody>\n",
       "</table>\n",
       "</div>"
      ],
      "text/plain": [
       "                         name         method     min    max    log  \\\n",
       "0                      kErase    suggest_int   1.000    5.0  False   \n",
       "1                     kRadius    suggest_int   2.000    6.0  False   \n",
       "2                 kAnnealingA  suggest_float -15.000   15.0  False   \n",
       "3                 kAnnealingB  suggest_float   0.000    3.0  False   \n",
       "4             kAnnealingStart  suggest_float   1.000  100.0   True   \n",
       "5                  kSkipRatio  suggest_float   0.200    0.8  False   \n",
       "6  kTargetDeterminationTrials    suggest_int   1.000   20.0   True   \n",
       "7            kAttractionRatio  suggest_float   0.010    0.9   True   \n",
       "8      kMaxAttractionDistance    suggest_int   4.000   99.0   True   \n",
       "9            kStartAttraction  suggest_float   0.001    0.9   True   \n",
       "\n",
       "                                                left  \\\n",
       "0                    static constexpr auto kErase =    \n",
       "1                   static constexpr auto kRadius =    \n",
       "2               static constexpr auto kAnnealingA =    \n",
       "3               static constexpr auto kAnnealingB =    \n",
       "4           static constexpr auto kAnnealingStart =    \n",
       "5                static constexpr auto kSkipRatio =    \n",
       "6  static constexpr auto kTargetDeterminationTria...   \n",
       "7          static constexpr auto kAttractionRatio =    \n",
       "8    static constexpr auto kMaxAttractionDistance =    \n",
       "9          static constexpr auto kStartAttraction =    \n",
       "\n",
       "                                right  \n",
       "0    ;             // OPTIMIZE [1, 5]  \n",
       "1     ;            // OPTIMIZE [2, 6]  \n",
       "2    ;      // OPTIMIZE [-15.0, 15.0]  \n",
       "3       ;      // OPTIMIZE [0.0, 3.0]  \n",
       "4      ; // OPTIMIZE LOG [1.0, 100.0]  \n",
       "5      ;       // OPTIMIZE [0.2, 0.8]  \n",
       "6           ; // OPTIMIZE LOG [1, 20]  \n",
       "7  ;      // OPTIMIZE LOG [0.01, 0.9]  \n",
       "8           ; // OPTIMIZE LOG [4, 99]  \n",
       "9  ;     // OPTIMIZE LOG [0.001, 0.9]  "
      ]
     },
     "metadata": {},
     "output_type": "display_data"
    }
   ],
   "source": [
    "# ここでエラー出力は何かおかしいかもしれない\n",
    "\n",
    "\n",
    "# パラメータ抽出\n",
    "with open(FILENAME) as f:\n",
    "    answer = f.read()\n",
    "\n",
    "\n",
    "variables_optimize = []\n",
    "\n",
    "for left, value, right, options in re.findall(r\"^([^/\\n]*=\\s*)(.+?)(\\s*;\\s*//(?:.*\\W)?OPTIMIZE(\\W.*))$\", answer, re.MULTILINE):\n",
    "    name = left.replace(\"=\", \"\").strip().split()[-1]\n",
    "    \n",
    "    searched = re.search(r\".*\\[(?P<min>.*),(?P<max>.*)\\].*\", options)\n",
    "    if searched:\n",
    "        min_value = max_value = None\n",
    "        try:\n",
    "            min_value = eval(searched.group(\"min\"))\n",
    "            max_value = eval(searched.group(\"max\"))\n",
    "            assert min_value <= max_value\n",
    "        except Exception as e:\n",
    "            print(f\"searched={searched}\", file=sys.stderr)\n",
    "            print(e, file=sys.stderr)\n",
    "            continue\n",
    "        log = \"LOG\" in options  # 雑、直したほうが良い\n",
    "        if type(min_value) != type(max_value):\n",
    "            print(f\"searched={searched}\", file=sys.stderr)\n",
    "            print(\"types not matched\", file=sys.stderr)\n",
    "            continue\n",
    "        if isinstance(min_value, int):\n",
    "            method = \"suggest_int\"\n",
    "        elif isinstance(min_value, float):\n",
    "            method = \"suggest_float\"\n",
    "        else:\n",
    "            print(f\"searched={searched}\", file=sys.stderr)\n",
    "            print(f\"unknown type ({type(min_value)})\", file=sys.stderr)\n",
    "            continue\n",
    "        variables_optimize.append({\n",
    "            \"name\": name,\n",
    "            \"method\": method,\n",
    "            \"min\": min_value,\n",
    "            \"max\": max_value,\n",
    "            \"log\": log,\n",
    "            \"left\": left,\n",
    "            \"right\": right,\n",
    "        })\n",
    "    elif searched := re.search(r\".*\\{(?P<choices>.*?)\\}.*\", options):\n",
    "        choices = list(map(lambda x: x.strip(), searched.group(\"choices\").split(\",\")))\n",
    "        variables_optimize.append({\n",
    "            \"name\": name,\n",
    "            \"method\": \"suggest_categorical\",\n",
    "            \"choices\": choices,\n",
    "            \"left\": left,\n",
    "            \"right\": right,\n",
    "        })\n",
    "    else:\n",
    "        print(f\"searched={searched}\", file=sys.stderr)\n",
    "        print(f\"pattern was matched but options are incorrect.\", file=sys.stderr)\n",
    "\n",
    "print(len(variables_optimize), \"variables were found.\")\n",
    "if globals().get(\"pd\"):\n",
    "    display(pd.DataFrame(variables_optimize))\n",
    "else:\n",
    "    pprint(variables_optimize)"
   ]
  },
  {
   "cell_type": "code",
   "execution_count": 3,
   "id": "001042b9",
   "metadata": {},
   "outputs": [],
   "source": [
    "def escape(string):  # 正規表現の中でそのまま使いたい文字列をエスケープ\n",
    "    res = !echo '{string}' | sed -e 's/[]\\/$*.^[]/\\\\&/g'\n",
    "    return res[0]\n",
    "\n",
    "def escape_sed(string):  # sed の置換後の文字列用のエスケープ\n",
    "    res = !echo '{string}' | sed -e 's/[\\/&]/\\\\&/g'\n",
    "    return res[0]\n",
    "\n",
    "def read_stream(name, in_file, out_file):\n",
    "    for line in in_file:\n",
    "        print(f\"[{name}] {line.strip()}\", file=out_file)\n",
    "\n",
    "def run(cmd, name):\n",
    "    proc = Popen(cmd, stdout=PIPE, stderr=PIPE, universal_newlines=True, shell=isinstance(cmd, str))\n",
    "    stdout_thread = Thread(target=read_stream, args=(name, proc.stdout, sys.stdout))\n",
    "    stderr_thread = Thread(target=read_stream, args=(name, proc.stderr, sys.stderr))\n",
    "    stdout_thread.start()\n",
    "    stderr_thread.start()\n",
    "    proc.wait()\n",
    "    return proc\n",
    "\n",
    "def objective(trial, in_dir, work_dir):\n",
    "    n_internal_parallel = 3\n",
    "    \n",
    "    index_parallel = f\"{trial.number:04d}\"\n",
    "    print(f\"{index_parallel=}\")\n",
    "    \n",
    "    work_dir = Path(work_dir)\n",
    "    directory_input = Path(in_dir)  # 中のすべてのファイルに対して実行される\n",
    "    #parameters_changed_filename = Path(gettempdir()) / str(uuid1())\n",
    "    parameters_changed_filename = work_dir / f\"{index_parallel}_{FILENAME}\"\n",
    "    \n",
    "    run([\"mkdir\", f\"{work_dir / index_parallel}_out\"], \"mkdir\")\n",
    "    run([\"mkdir\", f\"{work_dir / index_parallel}_score\"], \"mkdir\")\n",
    "    \n",
    "    # ファイル作成\n",
    "    run(f\"cp {FILENAME} {parameters_changed_filename}\", \"cp\")\n",
    "    sed_options = [f\"-i {parameters_changed_filename}\"]\n",
    "    for variable in variables_optimize:\n",
    "        if variable[\"method\"] == \"suggest_categorical\":\n",
    "            val =  trial.suggest_categorical(variable[\"name\"], variable[\"choices\"])\n",
    "        else:\n",
    "            val = getattr(trial, variable[\"method\"])(variable[\"name\"], variable[\"min\"], variable[\"max\"], log=variable[\"log\"])\n",
    "        left = variable[\"left\"]\n",
    "        right = variable[\"right\"]\n",
    "        sed_options.append(f\"\"\"-e 's/^{escape(left)}.*{escape(right)}$/{escape_sed(left)}{val}{escape_sed(right)}/'\"\"\")\n",
    "    command_sed = f\"sed {' '.join(sed_options)}\"\n",
    "    #print(command_sed)\n",
    "    run(command_sed, \"sed\")\n",
    "    \n",
    "    # コンパイル\n",
    "    command_compile = f\"g++ {parameters_changed_filename} -std=gnu++17 -O2 -DONLINE_JUDGE -o {parameters_changed_filename}.out\"\n",
    "    #print(command_compile)\n",
    "    run(command_compile, \"compile\")\n",
    "    # 実行・採点コマンド (@ はファイル名)\n",
    "    command_exec = (\n",
    "        #f\"./a.out < ./tools/in/{i:04d}.txt > {out_file} && ./tools/target/release/vis ./tools/in/{i:04d}.txt {out_file}\"\n",
    "        #f\"../tools/target/release/tester $(pwd)/{parameters_changed_filename}.out < {directory_input}/@ 2>&1 | grep Score\"\n",
    "        #f\"../tools/target/release/tester $(pwd)/{parameters_changed_filename}.out < {directory_input}/@ 2>&1 | grep Score | sed -E s/[^0-9]+// > ./{index_parallel}_score/@;\"\n",
    "        #f\"cargo run --release --manifest-path ../tools/Cargo.toml --bin tester {directory_input}/@ $(pwd)/{parameters_changed_filename}.out 2>&1 | grep Score | sed -E s/[^0-9]+// > ./{index_parallel}_score/@;\"\n",
    "        f\"./{parameters_changed_filename}.out < {directory_input}/@ > {work_dir / index_parallel}_out/@;\"\n",
    "        f\"../tools/target/release/vis {directory_input}/@ {work_dir / index_parallel}_out/@ 2> /dev/null > {work_dir / index_parallel}_score/@;\"\n",
    "    )\n",
    "    # 並列実行 (sed はパスのディレクトリ部分を消してファイル名にしてる)\n",
    "    run(f\"find {directory_input}/* | sed 's!^.*/!!' | xargs -I@ -P {n_internal_parallel} sh -c '{command_exec}'\", \"exec\")\n",
    "    \n",
    "    # 集計\n",
    "    scores = []\n",
    "    for file_path in Path(f\"{work_dir / index_parallel}_score/\").iterdir():  \n",
    "        with open(file_path) as f:\n",
    "            scores.append(int(f.readline().strip().split()[-1]))\n",
    "    mean_score = sum(scores) / len(scores)\n",
    "    \n",
    "    # 後始末\n",
    "    run(f\"rm -rf {work_dir / index_parallel}_out\", \"rm\")\n",
    "    run(f\"rm -rf {work_dir / index_parallel}_score\", \"rm\")\n",
    "    #run(f\"rm {parameters_changed_filename}\", \"rm\")\n",
    "    run(f\"rm {parameters_changed_filename}.out\", \"rm\")\n",
    "    \n",
    "    return mean_score"
   ]
  },
  {
   "cell_type": "code",
   "execution_count": 4,
   "id": "2d2e133c",
   "metadata": {},
   "outputs": [
    {
     "name": "stderr",
     "output_type": "stream",
     "text": [
      "\u001b[32m[I 2022-08-16 05:04:04,020]\u001b[0m Using an existing study with name 'study_3_1' instead of creating a new one.\u001b[0m\n"
     ]
    }
   ],
   "source": [
    "K = 3\n",
    "N_CLASS = 1\n",
    "\n",
    "in_dir = Path(f\"in_{K}_{N_CLASS}\")\n",
    "work_dir = Path(f\"work_{K}_{N_CLASS}\")\n",
    "\n",
    "study_name = f\"study_{K}_{N_CLASS}\"\n",
    "storage_path = work_dir / \"study.db\"\n",
    "storage = f\"sqlite:///{storage_path}\"\n",
    "study = optuna.create_study(storage=storage, load_if_exists=True, study_name=study_name, direction=\"maximize\")\n",
    "\n",
    "def callback(study, trial):\n",
    "    try:\n",
    "        index_parallel = f\"{trial.number:04d}\"\n",
    "        parameters_changed_filename = work_dir / f\"{index_parallel}_{FILENAME}\"\n",
    "        if study.best_value == trial.value:\n",
    "            print(f\"Updated! {study.best_value}\")\n",
    "            !cp {parameters_changed_filename} {work_dir / \"best_parameters.cpp\"}\n",
    "        !rm {parameters_changed_filename}\n",
    "    except:\n",
    "        print(\":(\")\n"
   ]
  },
  {
   "cell_type": "code",
   "execution_count": null,
   "id": "61c2901d",
   "metadata": {},
   "outputs": [
    {
     "name": "stdout",
     "output_type": "stream",
     "text": [
      "index_parallel='0132'\n"
     ]
    },
    {
     "name": "stderr",
     "output_type": "stream",
     "text": [
      "\u001b[32m[I 2022-08-16 05:07:34,876]\u001b[0m Trial 132 finished with value: 8267.477777777778 and parameters: {'kErase': 2, 'kRadius': 4, 'kAnnealingA': 3.8409901732275697, 'kAnnealingB': 1.9436478930594858, 'kAnnealingStart': 17.32638339430763, 'kSkipRatio': 0.6224704211997525, 'kTargetDeterminationTrials': 9, 'kAttractionRatio': 0.3006380952524458, 'kMaxAttractionDistance': 41, 'kStartAttraction': 0.5187350525559836}. Best is trial 100 with value: 8354.877777777778.\u001b[0m\n"
     ]
    },
    {
     "name": "stdout",
     "output_type": "stream",
     "text": [
      "index_parallel='0134'\n"
     ]
    },
    {
     "name": "stderr",
     "output_type": "stream",
     "text": [
      "\u001b[32m[I 2022-08-16 05:11:05,663]\u001b[0m Trial 134 finished with value: 7941.205555555555 and parameters: {'kErase': 2, 'kRadius': 4, 'kAnnealingA': -13.683865694095154, 'kAnnealingB': 1.6685860532648351, 'kAnnealingStart': 20.221166646629133, 'kSkipRatio': 0.6676675253633196, 'kTargetDeterminationTrials': 8, 'kAttractionRatio': 0.3481744533716902, 'kMaxAttractionDistance': 45, 'kStartAttraction': 0.4157032511102351}. Best is trial 100 with value: 8354.877777777778.\u001b[0m\n"
     ]
    },
    {
     "name": "stdout",
     "output_type": "stream",
     "text": [
      "index_parallel='0136'\n"
     ]
    },
    {
     "name": "stderr",
     "output_type": "stream",
     "text": [
      "\u001b[32m[I 2022-08-16 05:14:36,737]\u001b[0m Trial 136 finished with value: 8338.716666666667 and parameters: {'kErase': 2, 'kRadius': 4, 'kAnnealingA': 5.388300258979967, 'kAnnealingB': 1.8508892027306616, 'kAnnealingStart': 24.29121425244415, 'kSkipRatio': 0.6916151493085014, 'kTargetDeterminationTrials': 7, 'kAttractionRatio': 0.23238241371157195, 'kMaxAttractionDistance': 36, 'kStartAttraction': 0.7455998314787492}. Best is trial 100 with value: 8354.877777777778.\u001b[0m\n"
     ]
    },
    {
     "name": "stdout",
     "output_type": "stream",
     "text": [
      "index_parallel='0138'\n"
     ]
    },
    {
     "name": "stderr",
     "output_type": "stream",
     "text": [
      "\u001b[32m[I 2022-08-16 05:18:07,729]\u001b[0m Trial 138 finished with value: 8279.416666666666 and parameters: {'kErase': 2, 'kRadius': 4, 'kAnnealingA': 9.10471725423622, 'kAnnealingB': 2.0203188540409807, 'kAnnealingStart': 25.264657212139817, 'kSkipRatio': 0.6855460583456364, 'kTargetDeterminationTrials': 7, 'kAttractionRatio': 0.16792525022371607, 'kMaxAttractionDistance': 8, 'kStartAttraction': 0.6724411644463678}. Best is trial 100 with value: 8354.877777777778.\u001b[0m\n"
     ]
    },
    {
     "name": "stdout",
     "output_type": "stream",
     "text": [
      "index_parallel='0140'\n"
     ]
    },
    {
     "name": "stderr",
     "output_type": "stream",
     "text": [
      "\u001b[32m[I 2022-08-16 05:21:38,457]\u001b[0m Trial 140 finished with value: 7987.172222222222 and parameters: {'kErase': 2, 'kRadius': 4, 'kAnnealingA': 8.703714784618619, 'kAnnealingB': 1.8325288566610176, 'kAnnealingStart': 34.56854000393673, 'kSkipRatio': 0.7153261986438633, 'kTargetDeterminationTrials': 8, 'kAttractionRatio': 0.24926560593442998, 'kMaxAttractionDistance': 47, 'kStartAttraction': 0.7895103331331099}. Best is trial 100 with value: 8354.877777777778.\u001b[0m\n"
     ]
    },
    {
     "name": "stdout",
     "output_type": "stream",
     "text": [
      "index_parallel='0142'\n"
     ]
    },
    {
     "name": "stderr",
     "output_type": "stream",
     "text": [
      "\u001b[32m[I 2022-08-16 05:25:09,196]\u001b[0m Trial 142 finished with value: 8329.0 and parameters: {'kErase': 2, 'kRadius': 4, 'kAnnealingA': 6.539440445131404, 'kAnnealingB': 2.104744426877524, 'kAnnealingStart': 22.273787063886907, 'kSkipRatio': 0.7331614978516285, 'kTargetDeterminationTrials': 1, 'kAttractionRatio': 0.17103789486386214, 'kMaxAttractionDistance': 35, 'kStartAttraction': 0.6199830808491597}. Best is trial 100 with value: 8354.877777777778.\u001b[0m\n"
     ]
    },
    {
     "name": "stdout",
     "output_type": "stream",
     "text": [
      "index_parallel='0144'\n"
     ]
    },
    {
     "name": "stderr",
     "output_type": "stream",
     "text": [
      "\u001b[32m[I 2022-08-16 05:28:40,713]\u001b[0m Trial 144 finished with value: 8236.93888888889 and parameters: {'kErase': 2, 'kRadius': 4, 'kAnnealingA': 7.850140853171032, 'kAnnealingB': 1.9132576250066737, 'kAnnealingStart': 23.833994836323143, 'kSkipRatio': 0.7258536862216496, 'kTargetDeterminationTrials': 7, 'kAttractionRatio': 0.1806061819049865, 'kMaxAttractionDistance': 34, 'kStartAttraction': 0.6020363578057341}. Best is trial 100 with value: 8354.877777777778.\u001b[0m\n"
     ]
    },
    {
     "name": "stdout",
     "output_type": "stream",
     "text": [
      "index_parallel='0146'\n"
     ]
    },
    {
     "name": "stderr",
     "output_type": "stream",
     "text": [
      "\u001b[32m[I 2022-08-16 05:32:11,497]\u001b[0m Trial 146 finished with value: 8302.388888888889 and parameters: {'kErase': 2, 'kRadius': 4, 'kAnnealingA': 5.074912323017151, 'kAnnealingB': 2.099877147185857, 'kAnnealingStart': 22.406786953316868, 'kSkipRatio': 0.7402091164557729, 'kTargetDeterminationTrials': 2, 'kAttractionRatio': 0.22940623003526073, 'kMaxAttractionDistance': 31, 'kStartAttraction': 0.5700582185727118}. Best is trial 100 with value: 8354.877777777778.\u001b[0m\n"
     ]
    },
    {
     "name": "stdout",
     "output_type": "stream",
     "text": [
      "index_parallel='0148'\n"
     ]
    },
    {
     "name": "stderr",
     "output_type": "stream",
     "text": [
      "\u001b[32m[I 2022-08-16 05:35:42,382]\u001b[0m Trial 148 finished with value: 8223.95 and parameters: {'kErase': 2, 'kRadius': 4, 'kAnnealingA': 4.812169943775414, 'kAnnealingB': 2.1728574972291295, 'kAnnealingStart': 22.0592512388909, 'kSkipRatio': 0.7043712397907952, 'kTargetDeterminationTrials': 2, 'kAttractionRatio': 0.23796081057504367, 'kMaxAttractionDistance': 30, 'kStartAttraction': 0.8371852751566309}. Best is trial 100 with value: 8354.877777777778.\u001b[0m\n"
     ]
    },
    {
     "name": "stdout",
     "output_type": "stream",
     "text": [
      "index_parallel='0150'\n"
     ]
    },
    {
     "name": "stderr",
     "output_type": "stream",
     "text": [
      "\u001b[32m[I 2022-08-16 05:39:13,476]\u001b[0m Trial 150 finished with value: 8129.477777777778 and parameters: {'kErase': 2, 'kRadius': 4, 'kAnnealingA': 6.52876142539502, 'kAnnealingB': 1.8715696150767964, 'kAnnealingStart': 30.42064352374071, 'kSkipRatio': 0.7511374319773896, 'kTargetDeterminationTrials': 3, 'kAttractionRatio': 0.21546952780697926, 'kMaxAttractionDistance': 27, 'kStartAttraction': 0.6883151822129325}. Best is trial 100 with value: 8354.877777777778.\u001b[0m\n"
     ]
    },
    {
     "name": "stdout",
     "output_type": "stream",
     "text": [
      "index_parallel='0152'\n"
     ]
    },
    {
     "name": "stderr",
     "output_type": "stream",
     "text": [
      "\u001b[32m[I 2022-08-16 05:42:44,487]\u001b[0m Trial 152 finished with value: 8204.43888888889 and parameters: {'kErase': 2, 'kRadius': 4, 'kAnnealingA': 6.9916841688606475, 'kAnnealingB': 1.7767403270295914, 'kAnnealingStart': 25.306771307543773, 'kSkipRatio': 0.6752651780268351, 'kTargetDeterminationTrials': 9, 'kAttractionRatio': 0.2615159553631539, 'kMaxAttractionDistance': 38, 'kStartAttraction': 0.4559963301679077}. Best is trial 100 with value: 8354.877777777778.\u001b[0m\n"
     ]
    },
    {
     "name": "stdout",
     "output_type": "stream",
     "text": [
      "index_parallel='0154'\n"
     ]
    },
    {
     "name": "stderr",
     "output_type": "stream",
     "text": [
      "\u001b[32m[I 2022-08-16 05:46:15,469]\u001b[0m Trial 154 finished with value: 8265.655555555555 and parameters: {'kErase': 2, 'kRadius': 4, 'kAnnealingA': 5.555885560429753, 'kAnnealingB': 2.0170802773354004, 'kAnnealingStart': 19.304056567238153, 'kSkipRatio': 0.6907692699088068, 'kTargetDeterminationTrials': 1, 'kAttractionRatio': 0.15518857815720472, 'kMaxAttractionDistance': 57, 'kStartAttraction': 0.5556604146592791}. Best is trial 100 with value: 8354.877777777778.\u001b[0m\n"
     ]
    },
    {
     "name": "stdout",
     "output_type": "stream",
     "text": [
      "index_parallel='0156'\n"
     ]
    },
    {
     "name": "stderr",
     "output_type": "stream",
     "text": [
      "\u001b[32m[I 2022-08-16 05:49:46,318]\u001b[0m Trial 156 finished with value: 8269.294444444444 and parameters: {'kErase': 2, 'kRadius': 4, 'kAnnealingA': 7.261656438275438, 'kAnnealingB': 1.8567761408442554, 'kAnnealingStart': 20.528080628709564, 'kSkipRatio': 0.6584457964722479, 'kTargetDeterminationTrials': 7, 'kAttractionRatio': 0.19848258846608963, 'kMaxAttractionDistance': 32, 'kStartAttraction': 0.5383557482389663}. Best is trial 100 with value: 8354.877777777778.\u001b[0m\n"
     ]
    },
    {
     "name": "stdout",
     "output_type": "stream",
     "text": [
      "index_parallel='0158'\n"
     ]
    },
    {
     "name": "stderr",
     "output_type": "stream",
     "text": [
      "\u001b[32m[I 2022-08-16 05:53:18,078]\u001b[0m Trial 158 finished with value: 8264.577777777778 and parameters: {'kErase': 2, 'kRadius': 4, 'kAnnealingA': 9.485132124174363, 'kAnnealingB': 1.707667564303986, 'kAnnealingStart': 23.409731509478966, 'kSkipRatio': 0.7138227167006772, 'kTargetDeterminationTrials': 8, 'kAttractionRatio': 0.383527824750633, 'kMaxAttractionDistance': 25, 'kStartAttraction': 0.7410202078929514}. Best is trial 100 with value: 8354.877777777778.\u001b[0m\n"
     ]
    },
    {
     "name": "stdout",
     "output_type": "stream",
     "text": [
      "index_parallel='0160'\n"
     ]
    },
    {
     "name": "stderr",
     "output_type": "stream",
     "text": [
      "\u001b[32m[I 2022-08-16 05:56:49,190]\u001b[0m Trial 160 finished with value: 8313.16111111111 and parameters: {'kErase': 2, 'kRadius': 4, 'kAnnealingA': 3.6505168199913474, 'kAnnealingB': 1.9378754192269305, 'kAnnealingStart': 17.436111047825072, 'kSkipRatio': 0.7377899520529207, 'kTargetDeterminationTrials': 9, 'kAttractionRatio': 0.35044045878466323, 'kMaxAttractionDistance': 35, 'kStartAttraction': 0.6369202556439735}. Best is trial 100 with value: 8354.877777777778.\u001b[0m\n"
     ]
    },
    {
     "name": "stdout",
     "output_type": "stream",
     "text": [
      "index_parallel='0162'\n"
     ]
    },
    {
     "name": "stderr",
     "output_type": "stream",
     "text": [
      "\u001b[32m[I 2022-08-16 06:00:19,975]\u001b[0m Trial 162 finished with value: 8262.966666666667 and parameters: {'kErase': 2, 'kRadius': 4, 'kAnnealingA': 3.4522386944595045, 'kAnnealingB': 1.6747215416675938, 'kAnnealingStart': 17.676546040726137, 'kSkipRatio': 0.7334170750299962, 'kTargetDeterminationTrials': 11, 'kAttractionRatio': 0.33194073635720894, 'kMaxAttractionDistance': 7, 'kStartAttraction': 0.6414888059737647}. Best is trial 100 with value: 8354.877777777778.\u001b[0m\n"
     ]
    },
    {
     "name": "stdout",
     "output_type": "stream",
     "text": [
      "index_parallel='0164'\n"
     ]
    },
    {
     "name": "stderr",
     "output_type": "stream",
     "text": [
      "\u001b[32m[I 2022-08-16 06:03:51,468]\u001b[0m Trial 164 finished with value: 8243.244444444445 and parameters: {'kErase': 2, 'kRadius': 4, 'kAnnealingA': 4.37735298841651, 'kAnnealingB': 1.9427796343296477, 'kAnnealingStart': 16.674518473026932, 'kSkipRatio': 0.7750342750548899, 'kTargetDeterminationTrials': 9, 'kAttractionRatio': 0.3149406299015069, 'kMaxAttractionDistance': 36, 'kStartAttraction': 0.8669575018189414}. Best is trial 100 with value: 8354.877777777778.\u001b[0m\n"
     ]
    },
    {
     "name": "stdout",
     "output_type": "stream",
     "text": [
      "index_parallel='0166'\n"
     ]
    },
    {
     "name": "stderr",
     "output_type": "stream",
     "text": [
      "\u001b[32m[I 2022-08-16 06:07:22,239]\u001b[0m Trial 166 finished with value: 8269.483333333334 and parameters: {'kErase': 2, 'kRadius': 4, 'kAnnealingA': 6.6869792184625325, 'kAnnealingB': 1.7739055026549497, 'kAnnealingStart': 23.825916828628078, 'kSkipRatio': 0.7191278401540457, 'kTargetDeterminationTrials': 6, 'kAttractionRatio': 0.3727923707672127, 'kMaxAttractionDistance': 53, 'kStartAttraction': 0.7209824110507943}. Best is trial 100 with value: 8354.877777777778.\u001b[0m\n"
     ]
    },
    {
     "name": "stdout",
     "output_type": "stream",
     "text": [
      "index_parallel='0168'\n"
     ]
    },
    {
     "name": "stderr",
     "output_type": "stream",
     "text": [
      "\u001b[32m[I 2022-08-16 06:10:53,291]\u001b[0m Trial 168 finished with value: 8107.594444444445 and parameters: {'kErase': 2, 'kRadius': 4, 'kAnnealingA': 5.197442204193135, 'kAnnealingB': 1.5732459044763816, 'kAnnealingStart': 32.233747488139976, 'kSkipRatio': 0.7065248827959755, 'kTargetDeterminationTrials': 8, 'kAttractionRatio': 0.4805651111501817, 'kMaxAttractionDistance': 63, 'kStartAttraction': 0.4832390036420961}. Best is trial 100 with value: 8354.877777777778.\u001b[0m\n"
     ]
    },
    {
     "name": "stdout",
     "output_type": "stream",
     "text": [
      "index_parallel='0170'\n"
     ]
    },
    {
     "name": "stderr",
     "output_type": "stream",
     "text": [
      "\u001b[32m[I 2022-08-16 06:14:24,179]\u001b[0m Trial 170 finished with value: 8333.927777777777 and parameters: {'kErase': 2, 'kRadius': 4, 'kAnnealingA': 7.409639677523605, 'kAnnealingB': 1.6319948716769772, 'kAnnealingStart': 21.947155718554068, 'kSkipRatio': 0.7232771324777912, 'kTargetDeterminationTrials': 7, 'kAttractionRatio': 0.42186666436505493, 'kMaxAttractionDistance': 57, 'kStartAttraction': 0.6300206399524692}. Best is trial 100 with value: 8354.877777777778.\u001b[0m\n"
     ]
    },
    {
     "name": "stdout",
     "output_type": "stream",
     "text": [
      "index_parallel='0172'\n"
     ]
    },
    {
     "name": "stderr",
     "output_type": "stream",
     "text": [
      "\u001b[32m[I 2022-08-16 06:17:54,774]\u001b[0m Trial 172 finished with value: 8330.2 and parameters: {'kErase': 2, 'kRadius': 4, 'kAnnealingA': 7.3464719847468265, 'kAnnealingB': 1.6953047700540074, 'kAnnealingStart': 22.289405170900565, 'kSkipRatio': 0.7245830975247473, 'kTargetDeterminationTrials': 4, 'kAttractionRatio': 0.39242394418569027, 'kMaxAttractionDistance': 54, 'kStartAttraction': 0.6475223341172791}. Best is trial 100 with value: 8354.877777777778.\u001b[0m\n"
     ]
    },
    {
     "name": "stdout",
     "output_type": "stream",
     "text": [
      "index_parallel='0174'\n"
     ]
    },
    {
     "name": "stderr",
     "output_type": "stream",
     "text": [
      "\u001b[32m[I 2022-08-16 06:21:25,645]\u001b[0m Trial 174 finished with value: 8289.177777777777 and parameters: {'kErase': 2, 'kRadius': 4, 'kAnnealingA': 7.419755904525431, 'kAnnealingB': 1.6637059190815544, 'kAnnealingStart': 22.116178571770412, 'kSkipRatio': 0.7239526778697273, 'kTargetDeterminationTrials': 6, 'kAttractionRatio': 0.40799081891215755, 'kMaxAttractionDistance': 58, 'kStartAttraction': 0.6445809827420685}. Best is trial 173 with value: 8373.694444444445.\u001b[0m\n"
     ]
    },
    {
     "name": "stdout",
     "output_type": "stream",
     "text": [
      "index_parallel='0176'\n"
     ]
    },
    {
     "name": "stderr",
     "output_type": "stream",
     "text": [
      "\u001b[32m[I 2022-08-16 06:24:56,291]\u001b[0m Trial 176 finished with value: 8250.972222222223 and parameters: {'kErase': 2, 'kRadius': 4, 'kAnnealingA': 8.243430322697346, 'kAnnealingB': 1.6310364530267496, 'kAnnealingStart': 20.95319392451199, 'kSkipRatio': 0.737326479976084, 'kTargetDeterminationTrials': 5, 'kAttractionRatio': 0.3794251354567209, 'kMaxAttractionDistance': 67, 'kStartAttraction': 0.06551152640981632}. Best is trial 173 with value: 8373.694444444445.\u001b[0m\n"
     ]
    },
    {
     "name": "stdout",
     "output_type": "stream",
     "text": [
      "index_parallel='0178'\n"
     ]
    },
    {
     "name": "stderr",
     "output_type": "stream",
     "text": [
      "\u001b[32m[I 2022-08-16 06:28:27,174]\u001b[0m Trial 178 finished with value: 8250.45 and parameters: {'kErase': 2, 'kRadius': 4, 'kAnnealingA': 6.841868723764248, 'kAnnealingB': 1.5372120392228277, 'kAnnealingStart': 18.893038587726153, 'kSkipRatio': 0.7791950770007109, 'kTargetDeterminationTrials': 6, 'kAttractionRatio': 0.34342180087191926, 'kMaxAttractionDistance': 54, 'kStartAttraction': 0.7761282075346291}. Best is trial 173 with value: 8373.694444444445.\u001b[0m\n"
     ]
    },
    {
     "name": "stdout",
     "output_type": "stream",
     "text": [
      "index_parallel='0180'\n"
     ]
    },
    {
     "name": "stderr",
     "output_type": "stream",
     "text": [
      "\u001b[32m[I 2022-08-16 06:31:57,966]\u001b[0m Trial 180 finished with value: 7027.238888888889 and parameters: {'kErase': 2, 'kRadius': 4, 'kAnnealingA': 7.239382646344307, 'kAnnealingB': 1.6910267028090262, 'kAnnealingStart': 89.72673630731633, 'kSkipRatio': 0.7201540645772916, 'kTargetDeterminationTrials': 6, 'kAttractionRatio': 0.4229862031947783, 'kMaxAttractionDistance': 51, 'kStartAttraction': 0.6846537828716962}. Best is trial 173 with value: 8373.694444444445.\u001b[0m\n"
     ]
    },
    {
     "name": "stdout",
     "output_type": "stream",
     "text": [
      "index_parallel='0182'\n"
     ]
    },
    {
     "name": "stderr",
     "output_type": "stream",
     "text": [
      "\u001b[32m[I 2022-08-16 06:35:28,715]\u001b[0m Trial 182 finished with value: 8246.361111111111 and parameters: {'kErase': 2, 'kRadius': 4, 'kAnnealingA': 6.049304966263129, 'kAnnealingB': 1.7972113236568992, 'kAnnealingStart': 25.37293798920142, 'kSkipRatio': 0.7566161915562032, 'kTargetDeterminationTrials': 3, 'kAttractionRatio': 0.3445598485631366, 'kMaxAttractionDistance': 60, 'kStartAttraction': 0.5424593699102128}. Best is trial 173 with value: 8373.694444444445.\u001b[0m\n"
     ]
    },
    {
     "name": "stdout",
     "output_type": "stream",
     "text": [
      "index_parallel='0184'\n"
     ]
    },
    {
     "name": "stderr",
     "output_type": "stream",
     "text": [
      "\u001b[32m[I 2022-08-16 06:38:59,582]\u001b[0m Trial 184 finished with value: 8347.522222222222 and parameters: {'kErase': 2, 'kRadius': 4, 'kAnnealingA': 8.845951626353994, 'kAnnealingB': 1.7221830884313563, 'kAnnealingStart': 22.318754101454264, 'kSkipRatio': 0.7405565111117696, 'kTargetDeterminationTrials': 7, 'kAttractionRatio': 0.46739735478609085, 'kMaxAttractionDistance': 66, 'kStartAttraction': 0.6552249918705162}. Best is trial 183 with value: 8377.244444444445.\u001b[0m\n"
     ]
    },
    {
     "name": "stdout",
     "output_type": "stream",
     "text": [
      "index_parallel='0186'\n"
     ]
    },
    {
     "name": "stderr",
     "output_type": "stream",
     "text": [
      "\u001b[32m[I 2022-08-16 06:42:30,508]\u001b[0m Trial 186 finished with value: 8299.238888888889 and parameters: {'kErase': 2, 'kRadius': 4, 'kAnnealingA': 8.776379652244465, 'kAnnealingB': 1.7298560215552388, 'kAnnealingStart': 19.938664763771314, 'kSkipRatio': 0.7638303813122087, 'kTargetDeterminationTrials': 7, 'kAttractionRatio': 0.5164612558362626, 'kMaxAttractionDistance': 72, 'kStartAttraction': 0.6259741455256559}. Best is trial 183 with value: 8377.244444444445.\u001b[0m\n"
     ]
    },
    {
     "name": "stdout",
     "output_type": "stream",
     "text": [
      "index_parallel='0188'\n"
     ]
    },
    {
     "name": "stderr",
     "output_type": "stream",
     "text": [
      "\u001b[32m[I 2022-08-16 06:46:01,454]\u001b[0m Trial 188 finished with value: 8264.58888888889 and parameters: {'kErase': 2, 'kRadius': 4, 'kAnnealingA': 7.836639658258432, 'kAnnealingB': 1.789124415088605, 'kAnnealingStart': 18.585498111303536, 'kSkipRatio': 0.7494116353984289, 'kTargetDeterminationTrials': 6, 'kAttractionRatio': 0.5373471150981544, 'kMaxAttractionDistance': 80, 'kStartAttraction': 0.42844333939727675}. Best is trial 183 with value: 8377.244444444445.\u001b[0m\n"
     ]
    },
    {
     "name": "stdout",
     "output_type": "stream",
     "text": [
      "index_parallel='0190'\n"
     ]
    },
    {
     "name": "stderr",
     "output_type": "stream",
     "text": [
      "\u001b[32m[I 2022-08-16 06:49:32,355]\u001b[0m Trial 190 finished with value: 8292.855555555556 and parameters: {'kErase': 2, 'kRadius': 4, 'kAnnealingA': 6.77305272334444, 'kAnnealingB': 1.6441858123015258, 'kAnnealingStart': 21.48346000290539, 'kSkipRatio': 0.7369794813055682, 'kTargetDeterminationTrials': 4, 'kAttractionRatio': 0.46208571196035325, 'kMaxAttractionDistance': 65, 'kStartAttraction': 0.5357454447869588}. Best is trial 183 with value: 8377.244444444445.\u001b[0m\n"
     ]
    },
    {
     "name": "stdout",
     "output_type": "stream",
     "text": [
      "index_parallel='0192'\n"
     ]
    },
    {
     "name": "stderr",
     "output_type": "stream",
     "text": [
      "\u001b[32m[I 2022-08-16 06:53:03,229]\u001b[0m Trial 192 finished with value: 8283.666666666666 and parameters: {'kErase': 2, 'kRadius': 4, 'kAnnealingA': 9.799298355060127, 'kAnnealingB': 1.7229446353406717, 'kAnnealingStart': 23.8592417101828, 'kSkipRatio': 0.7260429072061306, 'kTargetDeterminationTrials': 6, 'kAttractionRatio': 0.39786906193955296, 'kMaxAttractionDistance': 69, 'kStartAttraction': 0.6782979150437923}. Best is trial 183 with value: 8377.244444444445.\u001b[0m\n"
     ]
    },
    {
     "name": "stdout",
     "output_type": "stream",
     "text": [
      "index_parallel='0194'\n"
     ]
    },
    {
     "name": "stderr",
     "output_type": "stream",
     "text": [
      "\u001b[32m[I 2022-08-16 06:56:34,068]\u001b[0m Trial 194 finished with value: 8303.761111111111 and parameters: {'kErase': 2, 'kRadius': 4, 'kAnnealingA': 8.846376413946686, 'kAnnealingB': 1.851971260685897, 'kAnnealingStart': 18.313340761211588, 'kSkipRatio': 0.7081615474627057, 'kTargetDeterminationTrials': 8, 'kAttractionRatio': 0.43371602860375924, 'kMaxAttractionDistance': 59, 'kStartAttraction': 0.7391044230278948}. Best is trial 183 with value: 8377.244444444445.\u001b[0m\n"
     ]
    },
    {
     "name": "stdout",
     "output_type": "stream",
     "text": [
      "index_parallel='0196'\n"
     ]
    },
    {
     "name": "stderr",
     "output_type": "stream",
     "text": [
      "\u001b[32m[I 2022-08-16 07:00:04,915]\u001b[0m Trial 196 finished with value: 8309.894444444444 and parameters: {'kErase': 2, 'kRadius': 4, 'kAnnealingA': 9.265480026882877, 'kAnnealingB': 1.6432047904040212, 'kAnnealingStart': 16.403266994480212, 'kSkipRatio': 0.7636420324851105, 'kTargetDeterminationTrials': 7, 'kAttractionRatio': 0.36606239714915023, 'kMaxAttractionDistance': 57, 'kStartAttraction': 0.465682612661794}. Best is trial 183 with value: 8377.244444444445.\u001b[0m\n"
     ]
    },
    {
     "name": "stdout",
     "output_type": "stream",
     "text": [
      "index_parallel='0198'\n"
     ]
    },
    {
     "name": "stderr",
     "output_type": "stream",
     "text": [
      "\u001b[32m[I 2022-08-16 07:03:35,681]\u001b[0m Trial 198 finished with value: 8242.216666666667 and parameters: {'kErase': 2, 'kRadius': 4, 'kAnnealingA': 7.317825100763467, 'kAnnealingB': 1.6482461422895722, 'kAnnealingStart': 16.424581793420604, 'kSkipRatio': 0.7875529960029061, 'kTargetDeterminationTrials': 8, 'kAttractionRatio': 0.48249602273625286, 'kMaxAttractionDistance': 57, 'kStartAttraction': 0.45697102788838107}. Best is trial 183 with value: 8377.244444444445.\u001b[0m\n"
     ]
    },
    {
     "name": "stdout",
     "output_type": "stream",
     "text": [
      "index_parallel='0200'\n"
     ]
    },
    {
     "name": "stderr",
     "output_type": "stream",
     "text": [
      "\u001b[32m[I 2022-08-16 07:07:06,569]\u001b[0m Trial 200 finished with value: 8334.755555555555 and parameters: {'kErase': 2, 'kRadius': 4, 'kAnnealingA': 5.963483716646608, 'kAnnealingB': 1.5689547795752259, 'kAnnealingStart': 20.06751568570081, 'kSkipRatio': 0.7639382487263972, 'kTargetDeterminationTrials': 5, 'kAttractionRatio': 0.3854651228777012, 'kMaxAttractionDistance': 54, 'kStartAttraction': 0.3930504875639233}. Best is trial 183 with value: 8377.244444444445.\u001b[0m\n"
     ]
    },
    {
     "name": "stdout",
     "output_type": "stream",
     "text": [
      "index_parallel='0202'\n"
     ]
    },
    {
     "name": "stderr",
     "output_type": "stream",
     "text": [
      "\u001b[32m[I 2022-08-16 07:10:37,332]\u001b[0m Trial 202 finished with value: 8260.316666666668 and parameters: {'kErase': 2, 'kRadius': 4, 'kAnnealingA': 5.873800098783835, 'kAnnealingB': 1.5690004679603602, 'kAnnealingStart': 15.741328342527419, 'kSkipRatio': 0.7599504206440627, 'kTargetDeterminationTrials': 5, 'kAttractionRatio': 0.36068908905754515, 'kMaxAttractionDistance': 54, 'kStartAttraction': 0.34261091051590153}. Best is trial 183 with value: 8377.244444444445.\u001b[0m\n"
     ]
    },
    {
     "name": "stdout",
     "output_type": "stream",
     "text": [
      "index_parallel='0204'\n"
     ]
    },
    {
     "name": "stderr",
     "output_type": "stream",
     "text": [
      "\u001b[32m[I 2022-08-16 07:14:08,166]\u001b[0m Trial 204 finished with value: 8243.966666666667 and parameters: {'kErase': 2, 'kRadius': 4, 'kAnnealingA': 5.850963242693288, 'kAnnealingB': 1.50619277198421, 'kAnnealingStart': 18.6108407118934, 'kSkipRatio': 0.7449433397736963, 'kTargetDeterminationTrials': 5, 'kAttractionRatio': 0.30600052951477386, 'kMaxAttractionDistance': 48, 'kStartAttraction': 0.3542809307391638}. Best is trial 183 with value: 8377.244444444445.\u001b[0m\n"
     ]
    },
    {
     "name": "stdout",
     "output_type": "stream",
     "text": [
      "index_parallel='0206'\n"
     ]
    },
    {
     "name": "stderr",
     "output_type": "stream",
     "text": [
      "\u001b[32m[I 2022-08-16 07:17:40,012]\u001b[0m Trial 206 finished with value: 8264.68888888889 and parameters: {'kErase': 2, 'kRadius': 4, 'kAnnealingA': 6.542190894858074, 'kAnnealingB': 1.6140270760270037, 'kAnnealingStart': 21.436466312434057, 'kSkipRatio': 0.7742433686680409, 'kTargetDeterminationTrials': 4, 'kAttractionRatio': 0.4137122012018811, 'kMaxAttractionDistance': 51, 'kStartAttraction': 0.38088898117699016}. Best is trial 183 with value: 8377.244444444445.\u001b[0m\n"
     ]
    },
    {
     "name": "stdout",
     "output_type": "stream",
     "text": [
      "index_parallel='0208'\n"
     ]
    },
    {
     "name": "stderr",
     "output_type": "stream",
     "text": [
      "\u001b[32m[I 2022-08-16 07:21:10,895]\u001b[0m Trial 208 finished with value: 8245.244444444445 and parameters: {'kErase': 2, 'kRadius': 4, 'kAnnealingA': 4.965337790984546, 'kAnnealingB': 1.4556949089728735, 'kAnnealingStart': 17.889682081738666, 'kSkipRatio': 0.7766911825593075, 'kTargetDeterminationTrials': 4, 'kAttractionRatio': 0.5483556997266258, 'kMaxAttractionDistance': 45, 'kStartAttraction': 0.28656213932758484}. Best is trial 183 with value: 8377.244444444445.\u001b[0m\n"
     ]
    },
    {
     "name": "stdout",
     "output_type": "stream",
     "text": [
      "index_parallel='0210'\n"
     ]
    },
    {
     "name": "stderr",
     "output_type": "stream",
     "text": [
      "\u001b[32m[I 2022-08-16 07:24:41,974]\u001b[0m Trial 210 finished with value: 8285.522222222222 and parameters: {'kErase': 2, 'kRadius': 4, 'kAnnealingA': 5.587847762982619, 'kAnnealingB': 1.7628485532302642, 'kAnnealingStart': 15.470174875372434, 'kSkipRatio': 0.7965680693681269, 'kTargetDeterminationTrials': 5, 'kAttractionRatio': 0.46490680289549047, 'kMaxAttractionDistance': 63, 'kStartAttraction': 0.514844808817596}. Best is trial 183 with value: 8377.244444444445.\u001b[0m\n"
     ]
    },
    {
     "name": "stdout",
     "output_type": "stream",
     "text": [
      "index_parallel='0212'\n"
     ]
    },
    {
     "name": "stderr",
     "output_type": "stream",
     "text": [
      "\u001b[32m[I 2022-08-16 07:28:12,788]\u001b[0m Trial 212 finished with value: 8401.05 and parameters: {'kErase': 2, 'kRadius': 4, 'kAnnealingA': 6.746480615222879, 'kAnnealingB': 1.5901862644204725, 'kAnnealingStart': 22.664344989910102, 'kSkipRatio': 0.7302122360707419, 'kTargetDeterminationTrials': 5, 'kAttractionRatio': 0.3794791595976484, 'kMaxAttractionDistance': 55, 'kStartAttraction': 0.5733449839402591}. Best is trial 212 with value: 8401.05.\u001b[0m\n"
     ]
    },
    {
     "name": "stdout",
     "output_type": "stream",
     "text": [
      "Updated! 8401.05\n",
      "index_parallel='0214'\n"
     ]
    },
    {
     "name": "stderr",
     "output_type": "stream",
     "text": [
      "\u001b[32m[I 2022-08-16 07:31:43,797]\u001b[0m Trial 214 finished with value: 8352.472222222223 and parameters: {'kErase': 2, 'kRadius': 4, 'kAnnealingA': 6.5885005620095, 'kAnnealingB': 1.6104888643652557, 'kAnnealingStart': 22.516553757041454, 'kSkipRatio': 0.737033572345674, 'kTargetDeterminationTrials': 6, 'kAttractionRatio': 0.3844237954240683, 'kMaxAttractionDistance': 56, 'kStartAttraction': 0.5424803714309604}. Best is trial 212 with value: 8401.05.\u001b[0m\n"
     ]
    },
    {
     "name": "stdout",
     "output_type": "stream",
     "text": [
      "index_parallel='0216'\n"
     ]
    },
    {
     "name": "stderr",
     "output_type": "stream",
     "text": [
      "\u001b[32m[I 2022-08-16 07:35:14,524]\u001b[0m Trial 216 finished with value: 8282.383333333333 and parameters: {'kErase': 2, 'kRadius': 4, 'kAnnealingA': 4.561060447368002, 'kAnnealingB': 1.5367135038160424, 'kAnnealingStart': 26.620280398336725, 'kSkipRatio': 0.7419786949708381, 'kTargetDeterminationTrials': 5, 'kAttractionRatio': 0.34312179542150223, 'kMaxAttractionDistance': 69, 'kStartAttraction': 0.4489997704571847}. Best is trial 212 with value: 8401.05.\u001b[0m\n"
     ]
    },
    {
     "name": "stdout",
     "output_type": "stream",
     "text": [
      "index_parallel='0218'\n"
     ]
    },
    {
     "name": "stderr",
     "output_type": "stream",
     "text": [
      "\u001b[32m[I 2022-08-16 07:38:45,500]\u001b[0m Trial 218 finished with value: 8348.45 and parameters: {'kErase': 2, 'kRadius': 4, 'kAnnealingA': 5.319377945837561, 'kAnnealingB': 1.6266242303657674, 'kAnnealingStart': 19.57880599756344, 'kSkipRatio': 0.7630832224786263, 'kTargetDeterminationTrials': 7, 'kAttractionRatio': 0.29771287722873035, 'kMaxAttractionDistance': 49, 'kStartAttraction': 0.5671824698209977}. Best is trial 212 with value: 8401.05.\u001b[0m\n"
     ]
    },
    {
     "name": "stdout",
     "output_type": "stream",
     "text": [
      "index_parallel='0220'\n"
     ]
    },
    {
     "name": "stderr",
     "output_type": "stream",
     "text": [
      "\u001b[32m[I 2022-08-16 07:42:16,188]\u001b[0m Trial 220 finished with value: 8367.1 and parameters: {'kErase': 2, 'kRadius': 4, 'kAnnealingA': 5.173213947774232, 'kAnnealingB': 1.620338261071818, 'kAnnealingStart': 19.619727532706534, 'kSkipRatio': 0.7700532367798828, 'kTargetDeterminationTrials': 7, 'kAttractionRatio': 0.29132496194703394, 'kMaxAttractionDistance': 49, 'kStartAttraction': 0.5448958946777214}. Best is trial 212 with value: 8401.05.\u001b[0m\n"
     ]
    },
    {
     "name": "stdout",
     "output_type": "stream",
     "text": [
      "index_parallel='0222'\n"
     ]
    },
    {
     "name": "stderr",
     "output_type": "stream",
     "text": [
      "\u001b[32m[I 2022-08-16 07:45:46,926]\u001b[0m Trial 222 finished with value: 8306.894444444444 and parameters: {'kErase': 2, 'kRadius': 4, 'kAnnealingA': 5.091730524801859, 'kAnnealingB': 1.6285631476679363, 'kAnnealingStart': 25.10950968033754, 'kSkipRatio': 0.7643840541311827, 'kTargetDeterminationTrials': 7, 'kAttractionRatio': 0.28492602831562985, 'kMaxAttractionDistance': 86, 'kStartAttraction': 0.5660445501347035}. Best is trial 212 with value: 8401.05.\u001b[0m\n"
     ]
    },
    {
     "name": "stdout",
     "output_type": "stream",
     "text": [
      "index_parallel='0224'\n"
     ]
    },
    {
     "name": "stderr",
     "output_type": "stream",
     "text": [
      "\u001b[32m[I 2022-08-16 07:49:18,073]\u001b[0m Trial 224 finished with value: 8325.761111111111 and parameters: {'kErase': 2, 'kRadius': 4, 'kAnnealingA': 4.284183732346617, 'kAnnealingB': 1.4771016754379498, 'kAnnealingStart': 22.871047046807256, 'kSkipRatio': 0.7627394582454569, 'kTargetDeterminationTrials': 6, 'kAttractionRatio': 0.2746451285600407, 'kMaxAttractionDistance': 78, 'kStartAttraction': 0.5324417117001645}. Best is trial 212 with value: 8401.05.\u001b[0m\n"
     ]
    },
    {
     "name": "stdout",
     "output_type": "stream",
     "text": [
      "index_parallel='0226'\n"
     ]
    },
    {
     "name": "stderr",
     "output_type": "stream",
     "text": [
      "\u001b[32m[I 2022-08-16 07:52:48,956]\u001b[0m Trial 226 finished with value: 8342.627777777778 and parameters: {'kErase': 2, 'kRadius': 4, 'kAnnealingA': 4.0536203582158175, 'kAnnealingB': 1.359500347303577, 'kAnnealingStart': 20.014214027251764, 'kSkipRatio': 0.759530804110246, 'kTargetDeterminationTrials': 6, 'kAttractionRatio': 0.2621981080533585, 'kMaxAttractionDistance': 48, 'kStartAttraction': 0.4057796223741432}. Best is trial 212 with value: 8401.05.\u001b[0m\n"
     ]
    },
    {
     "name": "stdout",
     "output_type": "stream",
     "text": [
      "index_parallel='0228'\n"
     ]
    },
    {
     "name": "stderr",
     "output_type": "stream",
     "text": [
      "\u001b[32m[I 2022-08-16 07:56:20,001]\u001b[0m Trial 228 finished with value: 8298.972222222223 and parameters: {'kErase': 2, 'kRadius': 4, 'kAnnealingA': 4.454360789380301, 'kAnnealingB': 1.3005855957093, 'kAnnealingStart': 19.836897323347596, 'kSkipRatio': 0.7499583724960289, 'kTargetDeterminationTrials': 6, 'kAttractionRatio': 0.312886020885635, 'kMaxAttractionDistance': 48, 'kStartAttraction': 0.32614433215075805}. Best is trial 212 with value: 8401.05.\u001b[0m\n"
     ]
    },
    {
     "name": "stdout",
     "output_type": "stream",
     "text": [
      "index_parallel='0230'\n"
     ]
    },
    {
     "name": "stderr",
     "output_type": "stream",
     "text": [
      "\u001b[32m[I 2022-08-16 07:59:50,833]\u001b[0m Trial 230 finished with value: 8221.738888888889 and parameters: {'kErase': 2, 'kRadius': 4, 'kAnnealingA': 4.012466846397102, 'kAnnealingB': 1.4762011284105117, 'kAnnealingStart': 29.76201015212782, 'kSkipRatio': 0.7823567542365205, 'kTargetDeterminationTrials': 6, 'kAttractionRatio': 0.2661812158441622, 'kMaxAttractionDistance': 50, 'kStartAttraction': 0.38672278133243004}. Best is trial 212 with value: 8401.05.\u001b[0m\n"
     ]
    },
    {
     "name": "stdout",
     "output_type": "stream",
     "text": [
      "index_parallel='0232'\n"
     ]
    },
    {
     "name": "stderr",
     "output_type": "stream",
     "text": [
      "\u001b[32m[I 2022-08-16 08:03:21,651]\u001b[0m Trial 232 finished with value: 8327.644444444444 and parameters: {'kErase': 2, 'kRadius': 4, 'kAnnealingA': 5.742979362829346, 'kAnnealingB': 1.397451968194743, 'kAnnealingStart': 21.860943090862254, 'kSkipRatio': 0.7664377285190656, 'kTargetDeterminationTrials': 7, 'kAttractionRatio': 0.4092914474540637, 'kMaxAttractionDistance': 62, 'kStartAttraction': 0.4956010945641624}. Best is trial 212 with value: 8401.05.\u001b[0m\n"
     ]
    },
    {
     "name": "stdout",
     "output_type": "stream",
     "text": [
      "index_parallel='0234'\n"
     ]
    },
    {
     "name": "stderr",
     "output_type": "stream",
     "text": [
      "\u001b[32m[I 2022-08-16 08:06:52,334]\u001b[0m Trial 234 finished with value: 8305.177777777777 and parameters: {'kErase': 2, 'kRadius': 4, 'kAnnealingA': 5.4832930818765355, 'kAnnealingB': 1.452135304945742, 'kAnnealingStart': 21.16507519748877, 'kSkipRatio': 0.7669115518199788, 'kTargetDeterminationTrials': 7, 'kAttractionRatio': 0.3879597503372796, 'kMaxAttractionDistance': 62, 'kStartAttraction': 0.47267280544850254}. Best is trial 212 with value: 8401.05.\u001b[0m\n"
     ]
    },
    {
     "name": "stdout",
     "output_type": "stream",
     "text": [
      "index_parallel='0236'\n"
     ]
    },
    {
     "name": "stderr",
     "output_type": "stream",
     "text": [
      "\u001b[32m[I 2022-08-16 08:10:23,526]\u001b[0m Trial 236 finished with value: 8348.805555555555 and parameters: {'kErase': 2, 'kRadius': 4, 'kAnnealingA': 6.714193261776501, 'kAnnealingB': 1.4917035688055933, 'kAnnealingStart': 18.48211819972485, 'kSkipRatio': 0.7557117837144786, 'kTargetDeterminationTrials': 7, 'kAttractionRatio': 0.3382905742614487, 'kMaxAttractionDistance': 68, 'kStartAttraction': 0.4401903540587035}. Best is trial 212 with value: 8401.05.\u001b[0m\n"
     ]
    },
    {
     "name": "stdout",
     "output_type": "stream",
     "text": [
      "index_parallel='0238'\n"
     ]
    },
    {
     "name": "stderr",
     "output_type": "stream",
     "text": [
      "\u001b[32m[I 2022-08-16 08:13:54,470]\u001b[0m Trial 238 finished with value: 8261.783333333333 and parameters: {'kErase': 2, 'kRadius': 4, 'kAnnealingA': 6.761204684527187, 'kAnnealingB': 1.3988064480229907, 'kAnnealingStart': 25.423909512209868, 'kSkipRatio': 0.7511961248117177, 'kTargetDeterminationTrials': 8, 'kAttractionRatio': 0.34387426944036664, 'kMaxAttractionDistance': 73, 'kStartAttraction': 0.6217824185727766}. Best is trial 212 with value: 8401.05.\u001b[0m\n"
     ]
    },
    {
     "name": "stdout",
     "output_type": "stream",
     "text": [
      "index_parallel='0240'\n"
     ]
    },
    {
     "name": "stderr",
     "output_type": "stream",
     "text": [
      "\u001b[32m[I 2022-08-16 08:17:25,730]\u001b[0m Trial 240 finished with value: 8260.944444444445 and parameters: {'kErase': 2, 'kRadius': 4, 'kAnnealingA': 7.861044827209508, 'kAnnealingB': 1.3725511965746622, 'kAnnealingStart': 23.081780365749918, 'kSkipRatio': 0.7547303593921477, 'kTargetDeterminationTrials': 8, 'kAttractionRatio': 0.29420867623558883, 'kMaxAttractionDistance': 57, 'kStartAttraction': 0.633919248864326}. Best is trial 212 with value: 8401.05.\u001b[0m\n"
     ]
    },
    {
     "name": "stdout",
     "output_type": "stream",
     "text": [
      "index_parallel='0242'\n"
     ]
    },
    {
     "name": "stderr",
     "output_type": "stream",
     "text": [
      "\u001b[32m[I 2022-08-16 08:20:57,162]\u001b[0m Trial 242 finished with value: 8050.538888888889 and parameters: {'kErase': 5, 'kRadius': 4, 'kAnnealingA': 6.280725798096977, 'kAnnealingB': 1.4878503829061251, 'kAnnealingStart': 19.32475099663244, 'kSkipRatio': 0.735598652918964, 'kTargetDeterminationTrials': 7, 'kAttractionRatio': 0.359661697923977, 'kMaxAttractionDistance': 53, 'kStartAttraction': 0.5319651723942367}. Best is trial 212 with value: 8401.05.\u001b[0m\n"
     ]
    },
    {
     "name": "stdout",
     "output_type": "stream",
     "text": [
      "index_parallel='0244'\n"
     ]
    },
    {
     "name": "stderr",
     "output_type": "stream",
     "text": [
      "\u001b[32m[I 2022-08-16 08:24:27,950]\u001b[0m Trial 244 finished with value: 8318.75 and parameters: {'kErase': 2, 'kRadius': 4, 'kAnnealingA': 6.841301829999486, 'kAnnealingB': 1.5065648400520715, 'kAnnealingStart': 17.768482370620262, 'kSkipRatio': 0.7824101140169468, 'kTargetDeterminationTrials': 7, 'kAttractionRatio': 0.4254596437919192, 'kMaxAttractionDistance': 66, 'kStartAttraction': 0.4941586390986046}. Best is trial 212 with value: 8401.05.\u001b[0m\n"
     ]
    },
    {
     "name": "stdout",
     "output_type": "stream",
     "text": [
      "index_parallel='0246'\n"
     ]
    },
    {
     "name": "stderr",
     "output_type": "stream",
     "text": [
      "\u001b[32m[I 2022-08-16 08:27:59,060]\u001b[0m Trial 246 finished with value: 8299.038888888888 and parameters: {'kErase': 2, 'kRadius': 4, 'kAnnealingA': 7.538660509813084, 'kAnnealingB': 1.5858494393833746, 'kAnnealingStart': 20.85534957581996, 'kSkipRatio': 0.763472565355666, 'kTargetDeterminationTrials': 6, 'kAttractionRatio': 0.4044599872326505, 'kMaxAttractionDistance': 70, 'kStartAttraction': 0.4313787001888555}. Best is trial 212 with value: 8401.05.\u001b[0m\n"
     ]
    },
    {
     "name": "stdout",
     "output_type": "stream",
     "text": [
      "index_parallel='0248'\n"
     ]
    },
    {
     "name": "stderr",
     "output_type": "stream",
     "text": [
      "\u001b[32m[I 2022-08-16 08:31:29,849]\u001b[0m Trial 248 finished with value: 8320.016666666666 and parameters: {'kErase': 2, 'kRadius': 4, 'kAnnealingA': 8.221013481441442, 'kAnnealingB': 1.57757698514153, 'kAnnealingStart': 22.955640531314337, 'kSkipRatio': 0.7298634742348543, 'kTargetDeterminationTrials': 7, 'kAttractionRatio': 0.48783758950006806, 'kMaxAttractionDistance': 62, 'kStartAttraction': 0.5867607342203787}. Best is trial 212 with value: 8401.05.\u001b[0m\n"
     ]
    },
    {
     "name": "stdout",
     "output_type": "stream",
     "text": [
      "index_parallel='0250'\n"
     ]
    },
    {
     "name": "stderr",
     "output_type": "stream",
     "text": [
      "\u001b[32m[I 2022-08-16 08:35:00,592]\u001b[0m Trial 250 finished with value: 8041.677777777778 and parameters: {'kErase': 2, 'kRadius': 4, 'kAnnealingA': 7.131928507194616, 'kAnnealingB': 1.4360948884269207, 'kAnnealingStart': 1.8765335551443711, 'kSkipRatio': 0.7445534232276736, 'kTargetDeterminationTrials': 6, 'kAttractionRatio': 0.32384408367320056, 'kMaxAttractionDistance': 55, 'kStartAttraction': 0.6395936410968639}. Best is trial 212 with value: 8401.05.\u001b[0m\n"
     ]
    },
    {
     "name": "stdout",
     "output_type": "stream",
     "text": [
      "index_parallel='0252'\n"
     ]
    },
    {
     "name": "stderr",
     "output_type": "stream",
     "text": [
      "\u001b[32m[I 2022-08-16 08:38:31,153]\u001b[0m Trial 252 finished with value: 8251.15 and parameters: {'kErase': 2, 'kRadius': 4, 'kAnnealingA': 5.846689039540096, 'kAnnealingB': 1.3290574402693351, 'kAnnealingStart': 26.221049786666715, 'kSkipRatio': 0.7286335633314237, 'kTargetDeterminationTrials': 8, 'kAttractionRatio': 0.5526611028011521, 'kMaxAttractionDistance': 57, 'kStartAttraction': 0.5244725298656931}. Best is trial 212 with value: 8401.05.\u001b[0m\n"
     ]
    },
    {
     "name": "stdout",
     "output_type": "stream",
     "text": [
      "index_parallel='0254'\n"
     ]
    },
    {
     "name": "stderr",
     "output_type": "stream",
     "text": [
      "\u001b[32m[I 2022-08-16 08:42:01,947]\u001b[0m Trial 254 finished with value: 8306.383333333333 and parameters: {'kErase': 2, 'kRadius': 4, 'kAnnealingA': 4.921196948754581, 'kAnnealingB': 1.646626988482661, 'kAnnealingStart': 22.81573115223067, 'kSkipRatio': 0.7571507656785011, 'kTargetDeterminationTrials': 8, 'kAttractionRatio': 0.4371523945596011, 'kMaxAttractionDistance': 68, 'kStartAttraction': 0.5635327321935949}. Best is trial 212 with value: 8401.05.\u001b[0m\n"
     ]
    },
    {
     "name": "stdout",
     "output_type": "stream",
     "text": [
      "index_parallel='0256'\n"
     ]
    },
    {
     "name": "stderr",
     "output_type": "stream",
     "text": [
      "\u001b[32m[I 2022-08-16 08:45:33,189]\u001b[0m Trial 256 finished with value: 8281.566666666668 and parameters: {'kErase': 2, 'kRadius': 4, 'kAnnealingA': 6.624761624741162, 'kAnnealingB': 1.1775285316170248, 'kAnnealingStart': 17.30169642620929, 'kSkipRatio': 0.74545008389287, 'kTargetDeterminationTrials': 7, 'kAttractionRatio': 0.3679811943342789, 'kMaxAttractionDistance': 43, 'kStartAttraction': 0.7124445776425101}. Best is trial 212 with value: 8401.05.\u001b[0m\n"
     ]
    },
    {
     "name": "stdout",
     "output_type": "stream",
     "text": [
      "index_parallel='0258'\n"
     ]
    },
    {
     "name": "stderr",
     "output_type": "stream",
     "text": [
      "\u001b[32m[I 2022-08-16 08:49:03,987]\u001b[0m Trial 258 finished with value: 7984.294444444445 and parameters: {'kErase': 2, 'kRadius': 4, 'kAnnealingA': 5.3312456796440015, 'kAnnealingB': 1.7619693396572078, 'kAnnealingStart': 13.787990475697725, 'kSkipRatio': 0.7379550939553629, 'kTargetDeterminationTrials': 7, 'kAttractionRatio': 0.400646892987487, 'kMaxAttractionDistance': 46, 'kStartAttraction': 0.005710906840257724}. Best is trial 212 with value: 8401.05.\u001b[0m\n"
     ]
    },
    {
     "name": "stdout",
     "output_type": "stream",
     "text": [
      "index_parallel='0260'\n"
     ]
    },
    {
     "name": "stderr",
     "output_type": "stream",
     "text": [
      "\u001b[32m[I 2022-08-16 08:52:34,740]\u001b[0m Trial 260 finished with value: 8287.655555555555 and parameters: {'kErase': 2, 'kRadius': 4, 'kAnnealingA': 7.629820082868078, 'kAnnealingB': 1.6628263935689784, 'kAnnealingStart': 15.311952718059457, 'kSkipRatio': 0.7552327389220559, 'kTargetDeterminationTrials': 8, 'kAttractionRatio': 0.33778253206584635, 'kMaxAttractionDistance': 51, 'kStartAttraction': 0.6699512933982771}. Best is trial 212 with value: 8401.05.\u001b[0m\n"
     ]
    },
    {
     "name": "stdout",
     "output_type": "stream",
     "text": [
      "index_parallel='0262'\n"
     ]
    },
    {
     "name": "stderr",
     "output_type": "stream",
     "text": [
      "\u001b[32m[I 2022-08-16 08:56:05,647]\u001b[0m Trial 262 finished with value: 8295.766666666666 and parameters: {'kErase': 2, 'kRadius': 4, 'kAnnealingA': 6.287444106315325, 'kAnnealingB': 1.5972938196414959, 'kAnnealingStart': 19.444914080980716, 'kSkipRatio': 0.7908002376385331, 'kTargetDeterminationTrials': 9, 'kAttractionRatio': 0.46255482176608315, 'kMaxAttractionDistance': 59, 'kStartAttraction': 0.8902625848126468}. Best is trial 212 with value: 8401.05.\u001b[0m\n"
     ]
    },
    {
     "name": "stdout",
     "output_type": "stream",
     "text": [
      "index_parallel='0264'\n"
     ]
    },
    {
     "name": "stderr",
     "output_type": "stream",
     "text": [
      "\u001b[32m[I 2022-08-16 08:59:36,866]\u001b[0m Trial 264 finished with value: 8101.111111111111 and parameters: {'kErase': 2, 'kRadius': 4, 'kAnnealingA': 6.896286462095559, 'kAnnealingB': 1.2510703370068703, 'kAnnealingStart': 16.66461506220518, 'kSkipRatio': 0.7971932201142247, 'kTargetDeterminationTrials': 9, 'kAttractionRatio': 0.4902515377740781, 'kMaxAttractionDistance': 41, 'kStartAttraction': 0.05340273934310718}. Best is trial 212 with value: 8401.05.\u001b[0m\n"
     ]
    },
    {
     "name": "stdout",
     "output_type": "stream",
     "text": [
      "index_parallel='0266'\n"
     ]
    },
    {
     "name": "stderr",
     "output_type": "stream",
     "text": [
      "\u001b[32m[I 2022-08-16 09:03:08,061]\u001b[0m Trial 266 finished with value: 8288.477777777778 and parameters: {'kErase': 2, 'kRadius': 4, 'kAnnealingA': 6.121193188010254, 'kAnnealingB': 1.7184359749947107, 'kAnnealingStart': 18.490935061397874, 'kSkipRatio': 0.7282629215078834, 'kTargetDeterminationTrials': 8, 'kAttractionRatio': 0.5925301503971053, 'kMaxAttractionDistance': 48, 'kStartAttraction': 0.6027984324923373}. Best is trial 212 with value: 8401.05.\u001b[0m\n"
     ]
    },
    {
     "name": "stdout",
     "output_type": "stream",
     "text": [
      "index_parallel='0268'\n"
     ]
    },
    {
     "name": "stderr",
     "output_type": "stream",
     "text": [
      "\u001b[32m[I 2022-08-16 09:06:39,474]\u001b[0m Trial 268 finished with value: 8332.544444444444 and parameters: {'kErase': 2, 'kRadius': 4, 'kAnnealingA': 4.84951834179787, 'kAnnealingB': 1.2016374108015302, 'kAnnealingStart': 19.893441149158257, 'kSkipRatio': 0.7800040304517138, 'kTargetDeterminationTrials': 6, 'kAttractionRatio': 0.32453965982658445, 'kMaxAttractionDistance': 46, 'kStartAttraction': 0.6372551464250994}. Best is trial 212 with value: 8401.05.\u001b[0m\n"
     ]
    },
    {
     "name": "stdout",
     "output_type": "stream",
     "text": [
      "index_parallel='0270'\n"
     ]
    },
    {
     "name": "stderr",
     "output_type": "stream",
     "text": [
      "\u001b[32m[I 2022-08-16 09:10:10,450]\u001b[0m Trial 270 finished with value: 8283.694444444445 and parameters: {'kErase': 2, 'kRadius': 4, 'kAnnealingA': 5.635970239783087, 'kAnnealingB': 1.1379172887336075, 'kAnnealingStart': 20.20695153374238, 'kSkipRatio': 0.708475460284564, 'kTargetDeterminationTrials': 6, 'kAttractionRatio': 0.44538703788389783, 'kMaxAttractionDistance': 44, 'kStartAttraction': 0.7587290230530904}. Best is trial 212 with value: 8401.05.\u001b[0m\n"
     ]
    },
    {
     "name": "stdout",
     "output_type": "stream",
     "text": [
      "index_parallel='0272'\n"
     ]
    },
    {
     "name": "stderr",
     "output_type": "stream",
     "text": [
      "\u001b[32m[I 2022-08-16 09:13:41,553]\u001b[0m Trial 272 finished with value: 8281.744444444445 and parameters: {'kErase': 2, 'kRadius': 4, 'kAnnealingA': 7.616483768382091, 'kAnnealingB': 1.1882554244561867, 'kAnnealingStart': 16.495861588026834, 'kSkipRatio': 0.7182484994883095, 'kTargetDeterminationTrials': 6, 'kAttractionRatio': 0.38289429726510904, 'kMaxAttractionDistance': 53, 'kStartAttraction': 0.4720945263838092}. Best is trial 212 with value: 8401.05.\u001b[0m\n"
     ]
    },
    {
     "name": "stdout",
     "output_type": "stream",
     "text": [
      "index_parallel='0274'\n"
     ]
    },
    {
     "name": "stderr",
     "output_type": "stream",
     "text": [
      "\u001b[32m[I 2022-08-16 09:17:12,250]\u001b[0m Trial 274 finished with value: 8240.594444444445 and parameters: {'kErase': 2, 'kRadius': 4, 'kAnnealingA': 6.411511570359911, 'kAnnealingB': 1.11842974635699, 'kAnnealingStart': 14.391230124194147, 'kSkipRatio': 0.7807596101860754, 'kTargetDeterminationTrials': 7, 'kAttractionRatio': 0.31316609829674535, 'kMaxAttractionDistance': 51, 'kStartAttraction': 0.6255955553359662}. Best is trial 212 with value: 8401.05.\u001b[0m\n"
     ]
    },
    {
     "name": "stdout",
     "output_type": "stream",
     "text": [
      "index_parallel='0276'\n"
     ]
    },
    {
     "name": "stderr",
     "output_type": "stream",
     "text": [
      "\u001b[32m[I 2022-08-16 09:20:44,350]\u001b[0m Trial 276 finished with value: 8264.488888888889 and parameters: {'kErase': 2, 'kRadius': 4, 'kAnnealingA': 5.070805712131332, 'kAnnealingB': 0.9712529138306564, 'kAnnealingStart': 19.97485623958279, 'kSkipRatio': 0.7433901274318622, 'kTargetDeterminationTrials': 5, 'kAttractionRatio': 0.5152133341407585, 'kMaxAttractionDistance': 47, 'kStartAttraction': 0.8148425602472982}. Best is trial 212 with value: 8401.05.\u001b[0m\n"
     ]
    },
    {
     "name": "stdout",
     "output_type": "stream",
     "text": [
      "index_parallel='0278'\n"
     ]
    },
    {
     "name": "stderr",
     "output_type": "stream",
     "text": [
      "\u001b[32m[I 2022-08-16 09:24:15,864]\u001b[0m Trial 278 finished with value: 8300.83888888889 and parameters: {'kErase': 2, 'kRadius': 4, 'kAnnealingA': 2.3674998244181045, 'kAnnealingB': 0.902497470289009, 'kAnnealingStart': 18.266687286865785, 'kSkipRatio': 0.7550106255223293, 'kTargetDeterminationTrials': 3, 'kAttractionRatio': 0.35226897040433724, 'kMaxAttractionDistance': 48, 'kStartAttraction': 0.7065664346614091}. Best is trial 212 with value: 8401.05.\u001b[0m\n"
     ]
    },
    {
     "name": "stdout",
     "output_type": "stream",
     "text": [
      "index_parallel='0280'\n"
     ]
    },
    {
     "name": "stderr",
     "output_type": "stream",
     "text": [
      "\u001b[32m[I 2022-08-16 09:27:46,809]\u001b[0m Trial 280 finished with value: 8244.638888888889 and parameters: {'kErase': 4, 'kRadius': 4, 'kAnnealingA': 3.315023727844772, 'kAnnealingB': 0.9999792705400993, 'kAnnealingStart': 23.77854291358588, 'kSkipRatio': 0.7606840136661682, 'kTargetDeterminationTrials': 8, 'kAttractionRatio': 0.32783357115622597, 'kMaxAttractionDistance': 51, 'kStartAttraction': 0.4744199707726403}. Best is trial 212 with value: 8401.05.\u001b[0m\n"
     ]
    },
    {
     "name": "stdout",
     "output_type": "stream",
     "text": [
      "index_parallel='0282'\n"
     ]
    },
    {
     "name": "stderr",
     "output_type": "stream",
     "text": [
      "\u001b[32m[I 2022-08-16 09:31:17,630]\u001b[0m Trial 282 finished with value: 8257.744444444445 and parameters: {'kErase': 2, 'kRadius': 4, 'kAnnealingA': 3.530236106142148, 'kAnnealingB': 1.812075244778921, 'kAnnealingStart': 15.767728344186313, 'kSkipRatio': 0.7979643869592175, 'kTargetDeterminationTrials': 7, 'kAttractionRatio': 0.41860994380693733, 'kMaxAttractionDistance': 56, 'kStartAttraction': 0.36007890594450764}. Best is trial 212 with value: 8401.05.\u001b[0m\n"
     ]
    },
    {
     "name": "stdout",
     "output_type": "stream",
     "text": [
      "index_parallel='0284'\n"
     ]
    },
    {
     "name": "stderr",
     "output_type": "stream",
     "text": [
      "\u001b[32m[I 2022-08-16 09:34:48,452]\u001b[0m Trial 284 finished with value: 8308.677777777777 and parameters: {'kErase': 2, 'kRadius': 4, 'kAnnealingA': 3.9398593393348325, 'kAnnealingB': 0.7930226561968324, 'kAnnealingStart': 21.55697201218415, 'kSkipRatio': 0.738026069502278, 'kTargetDeterminationTrials': 9, 'kAttractionRatio': 0.2930931969086259, 'kMaxAttractionDistance': 46, 'kStartAttraction': 0.42097367780961303}. Best is trial 212 with value: 8401.05.\u001b[0m\n"
     ]
    },
    {
     "name": "stdout",
     "output_type": "stream",
     "text": [
      "index_parallel='0286'\n"
     ]
    },
    {
     "name": "stderr",
     "output_type": "stream",
     "text": [
      "\u001b[32m[I 2022-08-16 09:38:19,646]\u001b[0m Trial 286 finished with value: 8213.5 and parameters: {'kErase': 2, 'kRadius': 4, 'kAnnealingA': -2.113490354043641, 'kAnnealingB': 1.2914847825894502, 'kAnnealingStart': 19.4431878590361, 'kSkipRatio': 0.7217235227868128, 'kTargetDeterminationTrials': 7, 'kAttractionRatio': 0.3804389627732331, 'kMaxAttractionDistance': 42, 'kStartAttraction': 0.5608256048558153}. Best is trial 212 with value: 8401.05.\u001b[0m\n"
     ]
    },
    {
     "name": "stdout",
     "output_type": "stream",
     "text": [
      "index_parallel='0288'\n"
     ]
    },
    {
     "name": "stderr",
     "output_type": "stream",
     "text": [
      "\u001b[32m[I 2022-08-16 09:41:51,195]\u001b[0m Trial 288 finished with value: 8307.177777777777 and parameters: {'kErase': 2, 'kRadius': 4, 'kAnnealingA': 4.671028756140815, 'kAnnealingB': 1.5633118730796052, 'kAnnealingStart': 13.478721944899716, 'kSkipRatio': 0.7859153220288363, 'kTargetDeterminationTrials': 8, 'kAttractionRatio': 0.4431250392942975, 'kMaxAttractionDistance': 60, 'kStartAttraction': 0.6630342865138769}. Best is trial 212 with value: 8401.05.\u001b[0m\n"
     ]
    },
    {
     "name": "stdout",
     "output_type": "stream",
     "text": [
      "index_parallel='0290'\n"
     ]
    },
    {
     "name": "stderr",
     "output_type": "stream",
     "text": [
      "\u001b[32m[I 2022-08-16 09:45:22,269]\u001b[0m Trial 290 finished with value: 8314.622222222222 and parameters: {'kErase': 2, 'kRadius': 4, 'kAnnealingA': 8.541159662735087, 'kAnnealingB': 1.6271924326113614, 'kAnnealingStart': 17.076760019595156, 'kSkipRatio': 0.7663891049048784, 'kTargetDeterminationTrials': 4, 'kAttractionRatio': 0.2545728144318496, 'kMaxAttractionDistance': 53, 'kStartAttraction': 0.6182425539526827}. Best is trial 212 with value: 8401.05.\u001b[0m\n"
     ]
    },
    {
     "name": "stdout",
     "output_type": "stream",
     "text": [
      "index_parallel='0292'\n"
     ]
    },
    {
     "name": "stderr",
     "output_type": "stream",
     "text": [
      "\u001b[32m[I 2022-08-16 09:48:53,189]\u001b[0m Trial 292 finished with value: 8341.272222222222 and parameters: {'kErase': 2, 'kRadius': 4, 'kAnnealingA': 5.817197521165156, 'kAnnealingB': 1.7216338339445074, 'kAnnealingStart': 24.053183196906893, 'kSkipRatio': 0.7008282211566239, 'kTargetDeterminationTrials': 5, 'kAttractionRatio': 0.3498488033149795, 'kMaxAttractionDistance': 39, 'kStartAttraction': 0.29391463256660866}. Best is trial 212 with value: 8401.05.\u001b[0m\n"
     ]
    },
    {
     "name": "stdout",
     "output_type": "stream",
     "text": [
      "index_parallel='0294'\n"
     ]
    },
    {
     "name": "stderr",
     "output_type": "stream",
     "text": [
      "\u001b[32m[I 2022-08-16 09:52:24,628]\u001b[0m Trial 294 finished with value: 8249.933333333332 and parameters: {'kErase': 2, 'kRadius': 4, 'kAnnealingA': 7.147224733698777, 'kAnnealingB': 1.7306321715489368, 'kAnnealingStart': 29.251384795242267, 'kSkipRatio': 0.6970544308977257, 'kTargetDeterminationTrials': 5, 'kAttractionRatio': 0.3601346793712547, 'kMaxAttractionDistance': 39, 'kStartAttraction': 0.31596870073877503}. Best is trial 212 with value: 8401.05.\u001b[0m\n"
     ]
    },
    {
     "name": "stdout",
     "output_type": "stream",
     "text": [
      "index_parallel='0296'\n"
     ]
    },
    {
     "name": "stderr",
     "output_type": "stream",
     "text": [
      "\u001b[32m[I 2022-08-16 09:55:55,508]\u001b[0m Trial 296 finished with value: 8234.633333333333 and parameters: {'kErase': 2, 'kRadius': 4, 'kAnnealingA': 6.09866978747957, 'kAnnealingB': 1.7885861095725992, 'kAnnealingStart': 27.08560625142787, 'kSkipRatio': 0.7068760009230954, 'kTargetDeterminationTrials': 5, 'kAttractionRatio': 0.48635797913960865, 'kMaxAttractionDistance': 40, 'kStartAttraction': 0.3511410716802933}. Best is trial 212 with value: 8401.05.\u001b[0m\n"
     ]
    },
    {
     "name": "stdout",
     "output_type": "stream",
     "text": [
      "index_parallel='0298'\n"
     ]
    },
    {
     "name": "stderr",
     "output_type": "stream",
     "text": [
      "\u001b[32m[I 2022-08-16 09:59:26,535]\u001b[0m Trial 298 finished with value: 7951.866666666667 and parameters: {'kErase': 2, 'kRadius': 4, 'kAnnealingA': 5.397614539344761, 'kAnnealingB': 1.677234990755189, 'kAnnealingStart': 23.31197087430935, 'kSkipRatio': 0.6972828395879324, 'kTargetDeterminationTrials': 6, 'kAttractionRatio': 0.40276925565665544, 'kMaxAttractionDistance': 4, 'kStartAttraction': 0.4431001075006772}. Best is trial 212 with value: 8401.05.\u001b[0m\n"
     ]
    },
    {
     "name": "stdout",
     "output_type": "stream",
     "text": [
      "index_parallel='0300'\n"
     ]
    },
    {
     "name": "stderr",
     "output_type": "stream",
     "text": [
      "\u001b[32m[I 2022-08-16 10:02:57,526]\u001b[0m Trial 300 finished with value: 7534.816666666667 and parameters: {'kErase': 2, 'kRadius': 4, 'kAnnealingA': -4.411342855646027, 'kAnnealingB': 1.5337302631445004, 'kAnnealingStart': 14.756285078012567, 'kSkipRatio': 0.7249343127105479, 'kTargetDeterminationTrials': 6, 'kAttractionRatio': 0.5661955557043494, 'kMaxAttractionDistance': 57, 'kStartAttraction': 0.0010103542971296967}. Best is trial 212 with value: 8401.05.\u001b[0m\n"
     ]
    },
    {
     "name": "stdout",
     "output_type": "stream",
     "text": [
      "index_parallel='0302'\n"
     ]
    },
    {
     "name": "stderr",
     "output_type": "stream",
     "text": [
      "\u001b[32m[I 2022-08-16 10:06:28,676]\u001b[0m Trial 302 finished with value: 8288.922222222222 and parameters: {'kErase': 2, 'kRadius': 4, 'kAnnealingA': 6.904454403411378, 'kAnnealingB': 1.6015824358090824, 'kAnnealingStart': 19.68094892834297, 'kSkipRatio': 0.7343128499067596, 'kTargetDeterminationTrials': 8, 'kAttractionRatio': 0.4878040168550292, 'kMaxAttractionDistance': 44, 'kStartAttraction': 0.3824941928038755}. Best is trial 212 with value: 8401.05.\u001b[0m\n"
     ]
    },
    {
     "name": "stdout",
     "output_type": "stream",
     "text": [
      "index_parallel='0304'\n"
     ]
    },
    {
     "name": "stderr",
     "output_type": "stream",
     "text": [
      "\u001b[32m[I 2022-08-16 10:09:59,642]\u001b[0m Trial 304 finished with value: 8142.027777777777 and parameters: {'kErase': 2, 'kRadius': 4, 'kAnnealingA': 5.312662368556406, 'kAnnealingB': 1.8515368241923604, 'kAnnealingStart': 22.264197997860933, 'kSkipRatio': 0.7754702275179787, 'kTargetDeterminationTrials': 7, 'kAttractionRatio': 0.2930177771924261, 'kMaxAttractionDistance': 54, 'kStartAttraction': 0.023866585383044564}. Best is trial 212 with value: 8401.05.\u001b[0m\n"
     ]
    },
    {
     "name": "stdout",
     "output_type": "stream",
     "text": [
      "index_parallel='0306'\n"
     ]
    },
    {
     "name": "stderr",
     "output_type": "stream",
     "text": [
      "\u001b[32m[I 2022-08-16 10:13:30,643]\u001b[0m Trial 306 finished with value: 8205.605555555556 and parameters: {'kErase': 2, 'kRadius': 4, 'kAnnealingA': 7.837661546251575, 'kAnnealingB': 1.4484475850366736, 'kAnnealingStart': 25.776331407264514, 'kSkipRatio': 0.7588296369851589, 'kTargetDeterminationTrials': 5, 'kAttractionRatio': 0.3819849348037557, 'kMaxAttractionDistance': 65, 'kStartAttraction': 0.10935942865340802}. Best is trial 212 with value: 8401.05.\u001b[0m\n"
     ]
    },
    {
     "name": "stdout",
     "output_type": "stream",
     "text": [
      "index_parallel='0308'\n"
     ]
    },
    {
     "name": "stderr",
     "output_type": "stream",
     "text": [
      "\u001b[32m[I 2022-08-16 10:17:01,965]\u001b[0m Trial 308 finished with value: 8331.433333333332 and parameters: {'kErase': 2, 'kRadius': 4, 'kAnnealingA': 4.5461609713205915, 'kAnnealingB': 1.4488877439073826, 'kAnnealingStart': 18.6436948391151, 'kSkipRatio': 0.7558870909467614, 'kTargetDeterminationTrials': 9, 'kAttractionRatio': 0.2721463901676164, 'kMaxAttractionDistance': 50, 'kStartAttraction': 0.5055079841837794}. Best is trial 212 with value: 8401.05.\u001b[0m\n"
     ]
    },
    {
     "name": "stdout",
     "output_type": "stream",
     "text": [
      "index_parallel='0310'\n"
     ]
    },
    {
     "name": "stderr",
     "output_type": "stream",
     "text": [
      "\u001b[32m[I 2022-08-16 10:20:33,159]\u001b[0m Trial 310 finished with value: 8301.56111111111 and parameters: {'kErase': 2, 'kRadius': 4, 'kAnnealingA': 5.671095650104882, 'kAnnealingB': 1.3641654106064076, 'kAnnealingStart': 20.724576981126713, 'kSkipRatio': 0.7815205754855485, 'kTargetDeterminationTrials': 10, 'kAttractionRatio': 0.30070584798424493, 'kMaxAttractionDistance': 18, 'kStartAttraction': 0.3516443218222976}. Best is trial 212 with value: 8401.05.\u001b[0m\n"
     ]
    },
    {
     "name": "stdout",
     "output_type": "stream",
     "text": [
      "index_parallel='0312'\n"
     ]
    },
    {
     "name": "stderr",
     "output_type": "stream",
     "text": [
      "\u001b[32m[I 2022-08-16 10:24:04,030]\u001b[0m Trial 312 finished with value: 8346.583333333334 and parameters: {'kErase': 2, 'kRadius': 4, 'kAnnealingA': 6.263862174903992, 'kAnnealingB': 1.3994648751225367, 'kAnnealingStart': 21.096008428812475, 'kSkipRatio': 0.7399171865912739, 'kTargetDeterminationTrials': 9, 'kAttractionRatio': 0.23834764200838224, 'kMaxAttractionDistance': 14, 'kStartAttraction': 0.44933333382289387}. Best is trial 212 with value: 8401.05.\u001b[0m\n"
     ]
    },
    {
     "name": "stdout",
     "output_type": "stream",
     "text": [
      "index_parallel='0314'\n"
     ]
    },
    {
     "name": "stderr",
     "output_type": "stream",
     "text": [
      "\u001b[32m[I 2022-08-16 10:27:34,828]\u001b[0m Trial 314 finished with value: 8326.761111111111 and parameters: {'kErase': 2, 'kRadius': 4, 'kAnnealingA': 6.327278699704557, 'kAnnealingB': 1.3866457334545979, 'kAnnealingStart': 22.913696401040646, 'kSkipRatio': 0.7391844243365088, 'kTargetDeterminationTrials': 9, 'kAttractionRatio': 0.24189433009448888, 'kMaxAttractionDistance': 60, 'kStartAttraction': 0.42909868081308944}. Best is trial 212 with value: 8401.05.\u001b[0m\n"
     ]
    },
    {
     "name": "stdout",
     "output_type": "stream",
     "text": [
      "index_parallel='0316'\n"
     ]
    },
    {
     "name": "stderr",
     "output_type": "stream",
     "text": [
      "\u001b[32m[I 2022-08-16 10:31:06,341]\u001b[0m Trial 316 finished with value: 8302.111111111111 and parameters: {'kErase': 2, 'kRadius': 4, 'kAnnealingA': 5.345521423112066, 'kAnnealingB': 1.483447011954993, 'kAnnealingStart': 21.726012698472474, 'kSkipRatio': 0.7428130276850946, 'kTargetDeterminationTrials': 9, 'kAttractionRatio': 0.21419122839070043, 'kMaxAttractionDistance': 23, 'kStartAttraction': 0.3744392367725518}. Best is trial 212 with value: 8401.05.\u001b[0m\n"
     ]
    },
    {
     "name": "stdout",
     "output_type": "stream",
     "text": [
      "index_parallel='0318'\n"
     ]
    },
    {
     "name": "stderr",
     "output_type": "stream",
     "text": [
      "\u001b[32m[I 2022-08-16 10:34:37,508]\u001b[0m Trial 318 finished with value: 8286.316666666668 and parameters: {'kErase': 2, 'kRadius': 4, 'kAnnealingA': 6.51510169200246, 'kAnnealingB': 1.5739499605962308, 'kAnnealingStart': 17.198545305455355, 'kSkipRatio': 0.6816351882364344, 'kTargetDeterminationTrials': 9, 'kAttractionRatio': 0.278793060191943, 'kMaxAttractionDistance': 21, 'kStartAttraction': 0.2324487676659113}. Best is trial 212 with value: 8401.05.\u001b[0m\n"
     ]
    },
    {
     "name": "stdout",
     "output_type": "stream",
     "text": [
      "index_parallel='0320'\n"
     ]
    },
    {
     "name": "stderr",
     "output_type": "stream",
     "text": [
      "\u001b[32m[I 2022-08-16 10:38:08,569]\u001b[0m Trial 320 finished with value: 8337.533333333333 and parameters: {'kErase': 2, 'kRadius': 4, 'kAnnealingA': 7.22124650509021, 'kAnnealingB': 1.5455141200230134, 'kAnnealingStart': 27.04596944445002, 'kSkipRatio': 0.7634963668780621, 'kTargetDeterminationTrials': 10, 'kAttractionRatio': 0.2347052960036179, 'kMaxAttractionDistance': 14, 'kStartAttraction': 0.4887810008393679}. Best is trial 212 with value: 8401.05.\u001b[0m\n"
     ]
    },
    {
     "name": "stdout",
     "output_type": "stream",
     "text": [
      "index_parallel='0322'\n"
     ]
    },
    {
     "name": "stderr",
     "output_type": "stream",
     "text": [
      "\u001b[32m[I 2022-08-16 10:41:39,318]\u001b[0m Trial 322 finished with value: 8231.627777777778 and parameters: {'kErase': 2, 'kRadius': 4, 'kAnnealingA': 6.004003304480411, 'kAnnealingB': 1.44983960702654, 'kAnnealingStart': 28.328836711784525, 'kSkipRatio': 0.7677263065841613, 'kTargetDeterminationTrials': 10, 'kAttractionRatio': 0.20878191520969575, 'kMaxAttractionDistance': 15, 'kStartAttraction': 0.30374773188045445}. Best is trial 212 with value: 8401.05.\u001b[0m\n"
     ]
    },
    {
     "name": "stdout",
     "output_type": "stream",
     "text": [
      "index_parallel='0324'\n"
     ]
    },
    {
     "name": "stderr",
     "output_type": "stream",
     "text": [
      "\u001b[32m[I 2022-08-16 10:45:10,111]\u001b[0m Trial 324 finished with value: 8327.094444444445 and parameters: {'kErase': 2, 'kRadius': 4, 'kAnnealingA': 5.91842859406017, 'kAnnealingB': 1.3472786335979194, 'kAnnealingStart': 24.929036862474852, 'kSkipRatio': 0.758045418733879, 'kTargetDeterminationTrials': 10, 'kAttractionRatio': 0.23504799269483234, 'kMaxAttractionDistance': 11, 'kStartAttraction': 0.400081511478515}. Best is trial 212 with value: 8401.05.\u001b[0m\n"
     ]
    },
    {
     "name": "stdout",
     "output_type": "stream",
     "text": [
      "index_parallel='0326'\n"
     ]
    },
    {
     "name": "stderr",
     "output_type": "stream",
     "text": [
      "\u001b[32m[I 2022-08-16 10:48:40,979]\u001b[0m Trial 326 finished with value: 8215.355555555556 and parameters: {'kErase': 2, 'kRadius': 4, 'kAnnealingA': 9.096751303019577, 'kAnnealingB': 1.5250973715304137, 'kAnnealingStart': 29.8667904020739, 'kSkipRatio': 0.7508528946447535, 'kTargetDeterminationTrials': 9, 'kAttractionRatio': 0.25333460491261445, 'kMaxAttractionDistance': 19, 'kStartAttraction': 0.47483704544129973}. Best is trial 212 with value: 8401.05.\u001b[0m\n"
     ]
    },
    {
     "name": "stdout",
     "output_type": "stream",
     "text": [
      "index_parallel='0328'\n"
     ]
    },
    {
     "name": "stderr",
     "output_type": "stream",
     "text": [
      "\u001b[32m[I 2022-08-16 10:52:12,223]\u001b[0m Trial 328 finished with value: 8313.93888888889 and parameters: {'kErase': 3, 'kRadius': 4, 'kAnnealingA': 10.274038981029712, 'kAnnealingB': 1.6200648993704803, 'kAnnealingStart': 14.4132160810294, 'kSkipRatio': 0.7722535710060167, 'kTargetDeterminationTrials': 8, 'kAttractionRatio': 0.19255297697201787, 'kMaxAttractionDistance': 14, 'kStartAttraction': 0.5290719170032689}. Best is trial 212 with value: 8401.05.\u001b[0m\n"
     ]
    },
    {
     "name": "stdout",
     "output_type": "stream",
     "text": [
      "index_parallel='0330'\n"
     ]
    },
    {
     "name": "stderr",
     "output_type": "stream",
     "text": [
      "\u001b[32m[I 2022-08-16 10:55:44,325]\u001b[0m Trial 330 finished with value: 8212.866666666667 and parameters: {'kErase': 2, 'kRadius': 4, 'kAnnealingA': 7.807220438101938, 'kAnnealingB': 1.7203964243923267, 'kAnnealingStart': 19.42349912502009, 'kSkipRatio': 0.7334543174343429, 'kTargetDeterminationTrials': 8, 'kAttractionRatio': 0.3020722502884453, 'kMaxAttractionDistance': 5, 'kStartAttraction': 0.34744440649310304}. Best is trial 212 with value: 8401.05.\u001b[0m\n"
     ]
    },
    {
     "name": "stdout",
     "output_type": "stream",
     "text": [
      "index_parallel='0332'\n"
     ]
    },
    {
     "name": "stderr",
     "output_type": "stream",
     "text": [
      "\u001b[32m[I 2022-08-16 10:59:15,174]\u001b[0m Trial 332 finished with value: 8159.538888888889 and parameters: {'kErase': 2, 'kRadius': 4, 'kAnnealingA': 8.706237030783182, 'kAnnealingB': 1.8058289195479873, 'kAnnealingStart': 3.1009814863871887, 'kSkipRatio': 0.7870226088857234, 'kTargetDeterminationTrials': 8, 'kAttractionRatio': 0.6056009231283676, 'kMaxAttractionDistance': 9, 'kStartAttraction': 0.5350913693994097}. Best is trial 212 with value: 8401.05.\u001b[0m\n"
     ]
    },
    {
     "name": "stdout",
     "output_type": "stream",
     "text": [
      "index_parallel='0334'\n"
     ]
    },
    {
     "name": "stderr",
     "output_type": "stream",
     "text": [
      "\u001b[32m[I 2022-08-16 11:02:46,048]\u001b[0m Trial 334 finished with value: 8329.922222222222 and parameters: {'kErase': 2, 'kRadius': 4, 'kAnnealingA': 8.114045331422236, 'kAnnealingB': 1.688279407510209, 'kAnnealingStart': 15.852834629476217, 'kSkipRatio': 0.7933664767711045, 'kTargetDeterminationTrials': 9, 'kAttractionRatio': 0.6720669236542035, 'kMaxAttractionDistance': 12, 'kStartAttraction': 0.4531082979968317}. Best is trial 212 with value: 8401.05.\u001b[0m\n"
     ]
    },
    {
     "name": "stdout",
     "output_type": "stream",
     "text": [
      "index_parallel='0336'\n"
     ]
    },
    {
     "name": "stderr",
     "output_type": "stream",
     "text": [
      "\u001b[32m[I 2022-08-16 11:06:17,015]\u001b[0m Trial 336 finished with value: 8314.605555555556 and parameters: {'kErase': 2, 'kRadius': 4, 'kAnnealingA': 7.04978828135897, 'kAnnealingB': 1.7304456160566164, 'kAnnealingStart': 18.6474033529363, 'kSkipRatio': 0.7984063667106788, 'kTargetDeterminationTrials': 13, 'kAttractionRatio': 0.6310269139405867, 'kMaxAttractionDistance': 8, 'kStartAttraction': 0.48328012950870414}. Best is trial 212 with value: 8401.05.\u001b[0m\n"
     ]
    },
    {
     "name": "stdout",
     "output_type": "stream",
     "text": [
      "index_parallel='0338'\n"
     ]
    },
    {
     "name": "stderr",
     "output_type": "stream",
     "text": [
      "\u001b[32m[I 2022-08-16 11:09:47,834]\u001b[0m Trial 338 finished with value: 8217.611111111111 and parameters: {'kErase': 2, 'kRadius': 4, 'kAnnealingA': 6.5066815226513866, 'kAnnealingB': 0.1145988228285102, 'kAnnealingStart': 17.114692956031394, 'kSkipRatio': 0.7996600151194917, 'kTargetDeterminationTrials': 12, 'kAttractionRatio': 0.5685076297468672, 'kMaxAttractionDistance': 17, 'kStartAttraction': 0.5419822672110022}. Best is trial 212 with value: 8401.05.\u001b[0m\n"
     ]
    },
    {
     "name": "stdout",
     "output_type": "stream",
     "text": [
      "index_parallel='0340'\n"
     ]
    },
    {
     "name": "stderr",
     "output_type": "stream",
     "text": [
      "\u001b[32m[I 2022-08-16 11:13:18,569]\u001b[0m Trial 340 finished with value: 8019.2 and parameters: {'kErase': 2, 'kRadius': 4, 'kAnnealingA': 9.774703154611771, 'kAnnealingB': 1.886317118275663, 'kAnnealingStart': 20.569458275803733, 'kSkipRatio': 0.3818706315377576, 'kTargetDeterminationTrials': 11, 'kAttractionRatio': 0.2861891641843624, 'kMaxAttractionDistance': 6, 'kStartAttraction': 0.1560108574590923}. Best is trial 212 with value: 8401.05.\u001b[0m\n"
     ]
    },
    {
     "name": "stdout",
     "output_type": "stream",
     "text": [
      "index_parallel='0342'\n"
     ]
    },
    {
     "name": "stderr",
     "output_type": "stream",
     "text": [
      "\u001b[32m[I 2022-08-16 11:16:49,381]\u001b[0m Trial 342 finished with value: 8353.822222222223 and parameters: {'kErase': 2, 'kRadius': 4, 'kAnnealingA': 7.850968248091592, 'kAnnealingB': 1.6209506910879066, 'kAnnealingStart': 18.503811999416605, 'kSkipRatio': 0.7672857769081476, 'kTargetDeterminationTrials': 9, 'kAttractionRatio': 0.32252818731411936, 'kMaxAttractionDistance': 8, 'kStartAttraction': 0.5828327089573994}. Best is trial 212 with value: 8401.05.\u001b[0m\n"
     ]
    },
    {
     "name": "stdout",
     "output_type": "stream",
     "text": [
      "index_parallel='0344'\n"
     ]
    },
    {
     "name": "stderr",
     "output_type": "stream",
     "text": [
      "\u001b[32m[I 2022-08-16 11:20:20,185]\u001b[0m Trial 344 finished with value: 8318.294444444444 and parameters: {'kErase': 2, 'kRadius': 4, 'kAnnealingA': 8.930460463635312, 'kAnnealingB': 1.6475742780696256, 'kAnnealingStart': 15.367239147679792, 'kSkipRatio': 0.7809120149677349, 'kTargetDeterminationTrials': 11, 'kAttractionRatio': 0.3318765835064501, 'kMaxAttractionDistance': 7, 'kStartAttraction': 0.5954926194822046}. Best is trial 212 with value: 8401.05.\u001b[0m\n"
     ]
    },
    {
     "name": "stdout",
     "output_type": "stream",
     "text": [
      "index_parallel='0346'\n"
     ]
    },
    {
     "name": "stderr",
     "output_type": "stream",
     "text": [
      "\u001b[32m[I 2022-08-16 11:23:50,809]\u001b[0m Trial 346 finished with value: 8339.027777777777 and parameters: {'kErase': 2, 'kRadius': 2, 'kAnnealingA': 9.405848722166231, 'kAnnealingB': 1.6182586950942934, 'kAnnealingStart': 16.62024839338721, 'kSkipRatio': 0.7762759455532585, 'kTargetDeterminationTrials': 10, 'kAttractionRatio': 0.8120439421500386, 'kMaxAttractionDistance': 7, 'kStartAttraction': 0.5941331154564783}. Best is trial 212 with value: 8401.05.\u001b[0m\n"
     ]
    },
    {
     "name": "stdout",
     "output_type": "stream",
     "text": [
      "index_parallel='0348'\n"
     ]
    },
    {
     "name": "stderr",
     "output_type": "stream",
     "text": [
      "\u001b[32m[I 2022-08-16 11:27:21,475]\u001b[0m Trial 348 finished with value: 8297.361111111111 and parameters: {'kErase': 2, 'kRadius': 4, 'kAnnealingA': 7.792290878417575, 'kAnnealingB': 1.5939950572492831, 'kAnnealingStart': 18.544542838538078, 'kSkipRatio': 0.7669439621699109, 'kTargetDeterminationTrials': 13, 'kAttractionRatio': 0.3337545912118241, 'kMaxAttractionDistance': 13, 'kStartAttraction': 0.5592008639481081}. Best is trial 212 with value: 8401.05.\u001b[0m\n"
     ]
    },
    {
     "name": "stdout",
     "output_type": "stream",
     "text": [
      "index_parallel='0350'\n"
     ]
    },
    {
     "name": "stderr",
     "output_type": "stream",
     "text": [
      "\u001b[32m[I 2022-08-16 11:30:52,038]\u001b[0m Trial 350 finished with value: 8346.627777777778 and parameters: {'kErase': 2, 'kRadius': 4, 'kAnnealingA': 8.619506613285406, 'kAnnealingB': 1.661604921352535, 'kAnnealingStart': 18.700726878824828, 'kSkipRatio': 0.7839259265517468, 'kTargetDeterminationTrials': 12, 'kAttractionRatio': 0.7595155849601256, 'kMaxAttractionDistance': 8, 'kStartAttraction': 0.5013143588565852}. Best is trial 212 with value: 8401.05.\u001b[0m\n"
     ]
    },
    {
     "name": "stdout",
     "output_type": "stream",
     "text": [
      "index_parallel='0352'\n"
     ]
    },
    {
     "name": "stderr",
     "output_type": "stream",
     "text": [
      "\u001b[32m[I 2022-08-16 11:34:22,865]\u001b[0m Trial 352 finished with value: 8362.377777777778 and parameters: {'kErase': 2, 'kRadius': 4, 'kAnnealingA': 12.187239101991072, 'kAnnealingB': 1.6696196541638941, 'kAnnealingStart': 17.596823013363128, 'kSkipRatio': 0.7771748226163226, 'kTargetDeterminationTrials': 12, 'kAttractionRatio': 0.7505402606816286, 'kMaxAttractionDistance': 9, 'kStartAttraction': 0.4930985987086029}. Best is trial 212 with value: 8401.05.\u001b[0m\n"
     ]
    },
    {
     "name": "stdout",
     "output_type": "stream",
     "text": [
      "index_parallel='0354'\n"
     ]
    },
    {
     "name": "stderr",
     "output_type": "stream",
     "text": [
      "\u001b[32m[I 2022-08-16 11:37:53,756]\u001b[0m Trial 354 finished with value: 8275.844444444445 and parameters: {'kErase': 2, 'kRadius': 4, 'kAnnealingA': 12.097810180738927, 'kAnnealingB': 1.6542398185304592, 'kAnnealingStart': 16.74566567497556, 'kSkipRatio': 0.7829967730849086, 'kTargetDeterminationTrials': 12, 'kAttractionRatio': 0.8392923348917998, 'kMaxAttractionDistance': 9, 'kStartAttraction': 0.49812739072396645}. Best is trial 212 with value: 8401.05.\u001b[0m\n"
     ]
    },
    {
     "name": "stdout",
     "output_type": "stream",
     "text": [
      "index_parallel='0356'\n"
     ]
    },
    {
     "name": "stderr",
     "output_type": "stream",
     "text": [
      "\u001b[32m[I 2022-08-16 11:41:24,801]\u001b[0m Trial 356 finished with value: 8324.255555555555 and parameters: {'kErase': 2, 'kRadius': 4, 'kAnnealingA': 11.034322250160205, 'kAnnealingB': 1.6804066488349407, 'kAnnealingStart': 17.739596873945022, 'kSkipRatio': 0.7764259253222722, 'kTargetDeterminationTrials': 13, 'kAttractionRatio': 0.7536668194002675, 'kMaxAttractionDistance': 9, 'kStartAttraction': 0.5424517043039003}. Best is trial 212 with value: 8401.05.\u001b[0m\n"
     ]
    },
    {
     "name": "stdout",
     "output_type": "stream",
     "text": [
      "index_parallel='0358'\n"
     ]
    }
   ],
   "source": [
    "study.optimize(\n",
    "    partial(objective, in_dir=in_dir, work_dir=work_dir),\n",
    "    n_trials=3000,\n",
    "    timeout=86400,\n",
    "    callbacks=[callback]\n",
    ")"
   ]
  },
  {
   "cell_type": "code",
   "execution_count": null,
   "id": "700269d2",
   "metadata": {},
   "outputs": [],
   "source": []
  }
 ],
 "metadata": {
  "kernelspec": {
   "display_name": "Python 3 (ipykernel)",
   "language": "python",
   "name": "python3"
  },
  "language_info": {
   "codemirror_mode": {
    "name": "ipython",
    "version": 3
   },
   "file_extension": ".py",
   "mimetype": "text/x-python",
   "name": "python",
   "nbconvert_exporter": "python",
   "pygments_lexer": "ipython3",
   "version": "3.9.12"
  }
 },
 "nbformat": 4,
 "nbformat_minor": 5
}
