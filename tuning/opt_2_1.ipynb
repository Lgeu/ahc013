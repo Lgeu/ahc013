{
 "cells": [
  {
   "cell_type": "code",
   "execution_count": 1,
   "id": "3df538ef",
   "metadata": {},
   "outputs": [],
   "source": [
    "import re\n",
    "import sys\n",
    "from uuid import uuid1\n",
    "from time import sleep\n",
    "from pprint import pprint\n",
    "from pathlib import Path\n",
    "from tempfile import gettempdir\n",
    "from threading import Thread\n",
    "from functools import partial\n",
    "from subprocess import Popen, PIPE\n",
    "\n",
    "from tqdm.notebook import tqdm\n",
    "import numpy as np\n",
    "import optuna\n",
    "import pandas as pd\n",
    "import matplotlib.pyplot as plt\n",
    "\n",
    "FILENAME = \"main.cpp\""
   ]
  },
  {
   "cell_type": "code",
   "execution_count": 2,
   "id": "deaf928b",
   "metadata": {},
   "outputs": [
    {
     "name": "stdout",
     "output_type": "stream",
     "text": [
      "10 variables were found.\n"
     ]
    },
    {
     "data": {
      "text/html": [
       "<div>\n",
       "<style scoped>\n",
       "    .dataframe tbody tr th:only-of-type {\n",
       "        vertical-align: middle;\n",
       "    }\n",
       "\n",
       "    .dataframe tbody tr th {\n",
       "        vertical-align: top;\n",
       "    }\n",
       "\n",
       "    .dataframe thead th {\n",
       "        text-align: right;\n",
       "    }\n",
       "</style>\n",
       "<table border=\"1\" class=\"dataframe\">\n",
       "  <thead>\n",
       "    <tr style=\"text-align: right;\">\n",
       "      <th></th>\n",
       "      <th>name</th>\n",
       "      <th>method</th>\n",
       "      <th>min</th>\n",
       "      <th>max</th>\n",
       "      <th>log</th>\n",
       "      <th>left</th>\n",
       "      <th>right</th>\n",
       "    </tr>\n",
       "  </thead>\n",
       "  <tbody>\n",
       "    <tr>\n",
       "      <th>0</th>\n",
       "      <td>kErase</td>\n",
       "      <td>suggest_int</td>\n",
       "      <td>1.000</td>\n",
       "      <td>5.0</td>\n",
       "      <td>False</td>\n",
       "      <td>static constexpr auto kErase =</td>\n",
       "      <td>;             // OPTIMIZE [1, 5]</td>\n",
       "    </tr>\n",
       "    <tr>\n",
       "      <th>1</th>\n",
       "      <td>kRadius</td>\n",
       "      <td>suggest_int</td>\n",
       "      <td>2.000</td>\n",
       "      <td>6.0</td>\n",
       "      <td>False</td>\n",
       "      <td>static constexpr auto kRadius =</td>\n",
       "      <td>;            // OPTIMIZE [2, 6]</td>\n",
       "    </tr>\n",
       "    <tr>\n",
       "      <th>2</th>\n",
       "      <td>kAnnealingA</td>\n",
       "      <td>suggest_float</td>\n",
       "      <td>-15.000</td>\n",
       "      <td>15.0</td>\n",
       "      <td>False</td>\n",
       "      <td>static constexpr auto kAnnealingA =</td>\n",
       "      <td>;      // OPTIMIZE [-15.0, 15.0]</td>\n",
       "    </tr>\n",
       "    <tr>\n",
       "      <th>3</th>\n",
       "      <td>kAnnealingB</td>\n",
       "      <td>suggest_float</td>\n",
       "      <td>0.000</td>\n",
       "      <td>3.0</td>\n",
       "      <td>False</td>\n",
       "      <td>static constexpr auto kAnnealingB =</td>\n",
       "      <td>;      // OPTIMIZE [0.0, 3.0]</td>\n",
       "    </tr>\n",
       "    <tr>\n",
       "      <th>4</th>\n",
       "      <td>kAnnealingStart</td>\n",
       "      <td>suggest_float</td>\n",
       "      <td>1.000</td>\n",
       "      <td>100.0</td>\n",
       "      <td>True</td>\n",
       "      <td>static constexpr auto kAnnealingStart =</td>\n",
       "      <td>; // OPTIMIZE LOG [1.0, 100.0]</td>\n",
       "    </tr>\n",
       "    <tr>\n",
       "      <th>5</th>\n",
       "      <td>kSkipRatio</td>\n",
       "      <td>suggest_float</td>\n",
       "      <td>0.200</td>\n",
       "      <td>0.8</td>\n",
       "      <td>False</td>\n",
       "      <td>static constexpr auto kSkipRatio =</td>\n",
       "      <td>;       // OPTIMIZE [0.2, 0.8]</td>\n",
       "    </tr>\n",
       "    <tr>\n",
       "      <th>6</th>\n",
       "      <td>kTargetDeterminationTrials</td>\n",
       "      <td>suggest_int</td>\n",
       "      <td>1.000</td>\n",
       "      <td>20.0</td>\n",
       "      <td>True</td>\n",
       "      <td>static constexpr auto kTargetDeterminationTria...</td>\n",
       "      <td>; // OPTIMIZE LOG [1, 20]</td>\n",
       "    </tr>\n",
       "    <tr>\n",
       "      <th>7</th>\n",
       "      <td>kAttractionRatio</td>\n",
       "      <td>suggest_float</td>\n",
       "      <td>0.010</td>\n",
       "      <td>0.9</td>\n",
       "      <td>True</td>\n",
       "      <td>static constexpr auto kAttractionRatio =</td>\n",
       "      <td>;      // OPTIMIZE LOG [0.01, 0.9]</td>\n",
       "    </tr>\n",
       "    <tr>\n",
       "      <th>8</th>\n",
       "      <td>kMaxAttractionDistance</td>\n",
       "      <td>suggest_int</td>\n",
       "      <td>4.000</td>\n",
       "      <td>99.0</td>\n",
       "      <td>True</td>\n",
       "      <td>static constexpr auto kMaxAttractionDistance =</td>\n",
       "      <td>; // OPTIMIZE LOG [4, 99]</td>\n",
       "    </tr>\n",
       "    <tr>\n",
       "      <th>9</th>\n",
       "      <td>kStartAttraction</td>\n",
       "      <td>suggest_float</td>\n",
       "      <td>0.001</td>\n",
       "      <td>0.9</td>\n",
       "      <td>True</td>\n",
       "      <td>static constexpr auto kStartAttraction =</td>\n",
       "      <td>;     // OPTIMIZE LOG [0.001, 0.9]</td>\n",
       "    </tr>\n",
       "  </tbody>\n",
       "</table>\n",
       "</div>"
      ],
      "text/plain": [
       "                         name         method     min    max    log  \\\n",
       "0                      kErase    suggest_int   1.000    5.0  False   \n",
       "1                     kRadius    suggest_int   2.000    6.0  False   \n",
       "2                 kAnnealingA  suggest_float -15.000   15.0  False   \n",
       "3                 kAnnealingB  suggest_float   0.000    3.0  False   \n",
       "4             kAnnealingStart  suggest_float   1.000  100.0   True   \n",
       "5                  kSkipRatio  suggest_float   0.200    0.8  False   \n",
       "6  kTargetDeterminationTrials    suggest_int   1.000   20.0   True   \n",
       "7            kAttractionRatio  suggest_float   0.010    0.9   True   \n",
       "8      kMaxAttractionDistance    suggest_int   4.000   99.0   True   \n",
       "9            kStartAttraction  suggest_float   0.001    0.9   True   \n",
       "\n",
       "                                                left  \\\n",
       "0                    static constexpr auto kErase =    \n",
       "1                   static constexpr auto kRadius =    \n",
       "2               static constexpr auto kAnnealingA =    \n",
       "3               static constexpr auto kAnnealingB =    \n",
       "4           static constexpr auto kAnnealingStart =    \n",
       "5                static constexpr auto kSkipRatio =    \n",
       "6  static constexpr auto kTargetDeterminationTria...   \n",
       "7          static constexpr auto kAttractionRatio =    \n",
       "8    static constexpr auto kMaxAttractionDistance =    \n",
       "9          static constexpr auto kStartAttraction =    \n",
       "\n",
       "                                right  \n",
       "0    ;             // OPTIMIZE [1, 5]  \n",
       "1     ;            // OPTIMIZE [2, 6]  \n",
       "2    ;      // OPTIMIZE [-15.0, 15.0]  \n",
       "3       ;      // OPTIMIZE [0.0, 3.0]  \n",
       "4      ; // OPTIMIZE LOG [1.0, 100.0]  \n",
       "5      ;       // OPTIMIZE [0.2, 0.8]  \n",
       "6           ; // OPTIMIZE LOG [1, 20]  \n",
       "7  ;      // OPTIMIZE LOG [0.01, 0.9]  \n",
       "8           ; // OPTIMIZE LOG [4, 99]  \n",
       "9  ;     // OPTIMIZE LOG [0.001, 0.9]  "
      ]
     },
     "metadata": {},
     "output_type": "display_data"
    }
   ],
   "source": [
    "# ここでエラー出力は何かおかしいかもしれない\n",
    "\n",
    "\n",
    "# パラメータ抽出\n",
    "with open(FILENAME) as f:\n",
    "    answer = f.read()\n",
    "\n",
    "\n",
    "variables_optimize = []\n",
    "\n",
    "for left, value, right, options in re.findall(r\"^([^/\\n]*=\\s*)(.+?)(\\s*;\\s*//(?:.*\\W)?OPTIMIZE(\\W.*))$\", answer, re.MULTILINE):\n",
    "    name = left.replace(\"=\", \"\").strip().split()[-1]\n",
    "    \n",
    "    searched = re.search(r\".*\\[(?P<min>.*),(?P<max>.*)\\].*\", options)\n",
    "    if searched:\n",
    "        min_value = max_value = None\n",
    "        try:\n",
    "            min_value = eval(searched.group(\"min\"))\n",
    "            max_value = eval(searched.group(\"max\"))\n",
    "            assert min_value <= max_value\n",
    "        except Exception as e:\n",
    "            print(f\"searched={searched}\", file=sys.stderr)\n",
    "            print(e, file=sys.stderr)\n",
    "            continue\n",
    "        log = \"LOG\" in options  # 雑、直したほうが良い\n",
    "        if type(min_value) != type(max_value):\n",
    "            print(f\"searched={searched}\", file=sys.stderr)\n",
    "            print(\"types not matched\", file=sys.stderr)\n",
    "            continue\n",
    "        if isinstance(min_value, int):\n",
    "            method = \"suggest_int\"\n",
    "        elif isinstance(min_value, float):\n",
    "            method = \"suggest_float\"\n",
    "        else:\n",
    "            print(f\"searched={searched}\", file=sys.stderr)\n",
    "            print(f\"unknown type ({type(min_value)})\", file=sys.stderr)\n",
    "            continue\n",
    "        variables_optimize.append({\n",
    "            \"name\": name,\n",
    "            \"method\": method,\n",
    "            \"min\": min_value,\n",
    "            \"max\": max_value,\n",
    "            \"log\": log,\n",
    "            \"left\": left,\n",
    "            \"right\": right,\n",
    "        })\n",
    "    elif searched := re.search(r\".*\\{(?P<choices>.*?)\\}.*\", options):\n",
    "        choices = list(map(lambda x: x.strip(), searched.group(\"choices\").split(\",\")))\n",
    "        variables_optimize.append({\n",
    "            \"name\": name,\n",
    "            \"method\": \"suggest_categorical\",\n",
    "            \"choices\": choices,\n",
    "            \"left\": left,\n",
    "            \"right\": right,\n",
    "        })\n",
    "    else:\n",
    "        print(f\"searched={searched}\", file=sys.stderr)\n",
    "        print(f\"pattern was matched but options are incorrect.\", file=sys.stderr)\n",
    "\n",
    "print(len(variables_optimize), \"variables were found.\")\n",
    "if globals().get(\"pd\"):\n",
    "    display(pd.DataFrame(variables_optimize))\n",
    "else:\n",
    "    pprint(variables_optimize)"
   ]
  },
  {
   "cell_type": "code",
   "execution_count": 3,
   "id": "ac9a29bb",
   "metadata": {},
   "outputs": [],
   "source": [
    "def escape(string):  # 正規表現の中でそのまま使いたい文字列をエスケープ\n",
    "    res = !echo '{string}' | sed -e 's/[]\\/$*.^[]/\\\\&/g'\n",
    "    return res[0]\n",
    "\n",
    "def escape_sed(string):  # sed の置換後の文字列用のエスケープ\n",
    "    res = !echo '{string}' | sed -e 's/[\\/&]/\\\\&/g'\n",
    "    return res[0]\n",
    "\n",
    "def read_stream(name, in_file, out_file):\n",
    "    for line in in_file:\n",
    "        print(f\"[{name}] {line.strip()}\", file=out_file)\n",
    "\n",
    "def run(cmd, name):\n",
    "    proc = Popen(cmd, stdout=PIPE, stderr=PIPE, universal_newlines=True, shell=isinstance(cmd, str))\n",
    "    stdout_thread = Thread(target=read_stream, args=(name, proc.stdout, sys.stdout))\n",
    "    stderr_thread = Thread(target=read_stream, args=(name, proc.stderr, sys.stderr))\n",
    "    stdout_thread.start()\n",
    "    stderr_thread.start()\n",
    "    proc.wait()\n",
    "    return proc\n",
    "\n",
    "def objective(trial, in_dir, work_dir):\n",
    "    n_internal_parallel = 3\n",
    "    \n",
    "    index_parallel = f\"{trial.number:04d}\"\n",
    "    print(f\"{index_parallel=}\")\n",
    "    \n",
    "    work_dir = Path(work_dir)\n",
    "    directory_input = Path(in_dir)  # 中のすべてのファイルに対して実行される\n",
    "    #parameters_changed_filename = Path(gettempdir()) / str(uuid1())\n",
    "    parameters_changed_filename = work_dir / f\"{index_parallel}_{FILENAME}\"\n",
    "    \n",
    "    run([\"mkdir\", f\"{work_dir / index_parallel}_out\"], \"mkdir\")\n",
    "    run([\"mkdir\", f\"{work_dir / index_parallel}_score\"], \"mkdir\")\n",
    "    \n",
    "    # ファイル作成\n",
    "    run(f\"cp {FILENAME} {parameters_changed_filename}\", \"cp\")\n",
    "    sed_options = [f\"-i {parameters_changed_filename}\"]\n",
    "    for variable in variables_optimize:\n",
    "        if variable[\"method\"] == \"suggest_categorical\":\n",
    "            val =  trial.suggest_categorical(variable[\"name\"], variable[\"choices\"])\n",
    "        else:\n",
    "            val = getattr(trial, variable[\"method\"])(variable[\"name\"], variable[\"min\"], variable[\"max\"], log=variable[\"log\"])\n",
    "        left = variable[\"left\"]\n",
    "        right = variable[\"right\"]\n",
    "        sed_options.append(f\"\"\"-e 's/^{escape(left)}.*{escape(right)}$/{escape_sed(left)}{val}{escape_sed(right)}/'\"\"\")\n",
    "    command_sed = f\"sed {' '.join(sed_options)}\"\n",
    "    #print(command_sed)\n",
    "    run(command_sed, \"sed\")\n",
    "    \n",
    "    # コンパイル\n",
    "    command_compile = f\"g++ {parameters_changed_filename} -std=gnu++17 -O2 -DONLINE_JUDGE -o {parameters_changed_filename}.out\"\n",
    "    #print(command_compile)\n",
    "    run(command_compile, \"compile\")\n",
    "    # 実行・採点コマンド (@ はファイル名)\n",
    "    command_exec = (\n",
    "        #f\"./a.out < ./tools/in/{i:04d}.txt > {out_file} && ./tools/target/release/vis ./tools/in/{i:04d}.txt {out_file}\"\n",
    "        #f\"../tools/target/release/tester $(pwd)/{parameters_changed_filename}.out < {directory_input}/@ 2>&1 | grep Score\"\n",
    "        #f\"../tools/target/release/tester $(pwd)/{parameters_changed_filename}.out < {directory_input}/@ 2>&1 | grep Score | sed -E s/[^0-9]+// > ./{index_parallel}_score/@;\"\n",
    "        #f\"cargo run --release --manifest-path ../tools/Cargo.toml --bin tester {directory_input}/@ $(pwd)/{parameters_changed_filename}.out 2>&1 | grep Score | sed -E s/[^0-9]+// > ./{index_parallel}_score/@;\"\n",
    "        f\"./{parameters_changed_filename}.out < {directory_input}/@ > {work_dir / index_parallel}_out/@;\"\n",
    "        f\"../tools/target/release/vis {directory_input}/@ {work_dir / index_parallel}_out/@ 2> /dev/null > {work_dir / index_parallel}_score/@;\"\n",
    "    )\n",
    "    # 並列実行 (sed はパスのディレクトリ部分を消してファイル名にしてる)\n",
    "    run(f\"find {directory_input}/* | sed 's!^.*/!!' | xargs -I@ -P {n_internal_parallel} sh -c '{command_exec}'\", \"exec\")\n",
    "    \n",
    "    # 集計\n",
    "    scores = []\n",
    "    for file_path in Path(f\"{work_dir / index_parallel}_score/\").iterdir():  \n",
    "        with open(file_path) as f:\n",
    "            scores.append(int(f.readline().strip().split()[-1]))\n",
    "    mean_score = sum(scores) / len(scores)\n",
    "    \n",
    "    # 後始末\n",
    "    run(f\"rm -rf {work_dir / index_parallel}_out\", \"rm\")\n",
    "    run(f\"rm -rf {work_dir / index_parallel}_score\", \"rm\")\n",
    "    #run(f\"rm {parameters_changed_filename}\", \"rm\")\n",
    "    run(f\"rm {parameters_changed_filename}.out\", \"rm\")\n",
    "    \n",
    "    return mean_score"
   ]
  },
  {
   "cell_type": "code",
   "execution_count": 4,
   "id": "fa23f808",
   "metadata": {},
   "outputs": [
    {
     "name": "stderr",
     "output_type": "stream",
     "text": [
      "\u001b[32m[I 2022-08-15 21:20:41,266]\u001b[0m A new study created in RDB with name: study_2_1\u001b[0m\n"
     ]
    }
   ],
   "source": [
    "K = 2\n",
    "N_CLASS = 1\n",
    "\n",
    "in_dir = Path(f\"in_{K}_{N_CLASS}\")\n",
    "work_dir = Path(f\"work_{K}_{N_CLASS}\")\n",
    "\n",
    "study_name = f\"study_{K}_{N_CLASS}\"\n",
    "storage_path = work_dir / \"study.db\"\n",
    "storage = f\"sqlite:///{storage_path}\"\n",
    "study = optuna.create_study(storage=storage, load_if_exists=True, study_name=study_name, direction=\"maximize\")\n",
    "\n",
    "def callback(study, trial):\n",
    "    try:\n",
    "        index_parallel = f\"{trial.number:04d}\"\n",
    "        parameters_changed_filename = work_dir / f\"{index_parallel}_{FILENAME}\"\n",
    "        if study.best_value == trial.value:\n",
    "            print(f\"Updated! {study.best_value}\")\n",
    "            !cp {parameters_changed_filename} {work_dir / \"best_parameters.cpp\"}\n",
    "        !rm {parameters_changed_filename}\n",
    "    except:\n",
    "        print(\":(\")\n"
   ]
  },
  {
   "cell_type": "code",
   "execution_count": null,
   "id": "f63f6ef5",
   "metadata": {},
   "outputs": [
    {
     "name": "stdout",
     "output_type": "stream",
     "text": [
      "index_parallel='0000'\n"
     ]
    },
    {
     "name": "stderr",
     "output_type": "stream",
     "text": [
      "\u001b[32m[I 2022-08-15 21:24:46,050]\u001b[0m Trial 0 finished with value: 6482.757731958763 and parameters: {'kErase': 5, 'kRadius': 5, 'kAnnealingA': 0.7879425858701996, 'kAnnealingB': 1.1299139610620672, 'kAnnealingStart': 28.932789361257395, 'kSkipRatio': 0.44839826068040545, 'kTargetDeterminationTrials': 3, 'kAttractionRatio': 0.6053711070501678, 'kMaxAttractionDistance': 8, 'kStartAttraction': 0.017112528813671347}. Best is trial 0 with value: 6482.757731958763.\u001b[0m\n"
     ]
    },
    {
     "name": "stdout",
     "output_type": "stream",
     "text": [
      "Updated! 6482.757731958763\n",
      "index_parallel='0001'\n"
     ]
    },
    {
     "name": "stderr",
     "output_type": "stream",
     "text": [
      "\u001b[32m[I 2022-08-15 21:28:29,621]\u001b[0m Trial 1 finished with value: 6783.355670103093 and parameters: {'kErase': 1, 'kRadius': 3, 'kAnnealingA': -13.359457129572007, 'kAnnealingB': 0.6343697932711951, 'kAnnealingStart': 57.95547728103036, 'kSkipRatio': 0.4097358919828879, 'kTargetDeterminationTrials': 11, 'kAttractionRatio': 0.20082011811608458, 'kMaxAttractionDistance': 10, 'kStartAttraction': 0.6937598351017904}. Best is trial 1 with value: 6783.355670103093.\u001b[0m\n"
     ]
    },
    {
     "name": "stdout",
     "output_type": "stream",
     "text": [
      "Updated! 6783.355670103093\n",
      "index_parallel='0002'\n"
     ]
    },
    {
     "name": "stderr",
     "output_type": "stream",
     "text": [
      "\u001b[32m[I 2022-08-15 21:32:13,555]\u001b[0m Trial 2 finished with value: 6727.716494845361 and parameters: {'kErase': 3, 'kRadius': 4, 'kAnnealingA': -1.0492166638775196, 'kAnnealingB': 1.5336282728762147, 'kAnnealingStart': 71.41115465235708, 'kSkipRatio': 0.5342061374688196, 'kTargetDeterminationTrials': 2, 'kAttractionRatio': 0.44687342317405876, 'kMaxAttractionDistance': 5, 'kStartAttraction': 0.0018348540065618152}. Best is trial 1 with value: 6783.355670103093.\u001b[0m\n"
     ]
    },
    {
     "name": "stdout",
     "output_type": "stream",
     "text": [
      "index_parallel='0003'\n"
     ]
    },
    {
     "name": "stderr",
     "output_type": "stream",
     "text": [
      "\u001b[32m[I 2022-08-15 21:35:56,603]\u001b[0m Trial 3 finished with value: 6807.932989690722 and parameters: {'kErase': 1, 'kRadius': 5, 'kAnnealingA': 7.182121028549382, 'kAnnealingB': 0.12902808364107576, 'kAnnealingStart': 7.375449543371883, 'kSkipRatio': 0.6710999590558644, 'kTargetDeterminationTrials': 1, 'kAttractionRatio': 0.5221298659921974, 'kMaxAttractionDistance': 4, 'kStartAttraction': 0.11474573759823793}. Best is trial 3 with value: 6807.932989690722.\u001b[0m\n"
     ]
    },
    {
     "name": "stdout",
     "output_type": "stream",
     "text": [
      "Updated! 6807.932989690722\n",
      "index_parallel='0004'\n"
     ]
    },
    {
     "name": "stderr",
     "output_type": "stream",
     "text": [
      "\u001b[32m[I 2022-08-15 21:39:40,832]\u001b[0m Trial 4 finished with value: 5753.896907216495 and parameters: {'kErase': 5, 'kRadius': 2, 'kAnnealingA': 8.570702687857043, 'kAnnealingB': 1.7747013444940258, 'kAnnealingStart': 58.82967640221343, 'kSkipRatio': 0.5431169457151221, 'kTargetDeterminationTrials': 1, 'kAttractionRatio': 0.050248132567938884, 'kMaxAttractionDistance': 7, 'kStartAttraction': 0.40792045491509177}. Best is trial 3 with value: 6807.932989690722.\u001b[0m\n"
     ]
    },
    {
     "name": "stdout",
     "output_type": "stream",
     "text": [
      "index_parallel='0005'\n"
     ]
    },
    {
     "name": "stderr",
     "output_type": "stream",
     "text": [
      "\u001b[32m[I 2022-08-15 21:43:24,241]\u001b[0m Trial 5 finished with value: 6805.541237113402 and parameters: {'kErase': 2, 'kRadius': 5, 'kAnnealingA': -10.413621212726765, 'kAnnealingB': 1.8007707624090645, 'kAnnealingStart': 48.495688650095175, 'kSkipRatio': 0.41806743880334885, 'kTargetDeterminationTrials': 1, 'kAttractionRatio': 0.03359383241634778, 'kMaxAttractionDistance': 21, 'kStartAttraction': 0.6598996569001062}. Best is trial 3 with value: 6807.932989690722.\u001b[0m\n"
     ]
    },
    {
     "name": "stdout",
     "output_type": "stream",
     "text": [
      "index_parallel='0006'\n"
     ]
    },
    {
     "name": "stderr",
     "output_type": "stream",
     "text": [
      "\u001b[32m[I 2022-08-15 21:47:07,260]\u001b[0m Trial 6 finished with value: 6690.458762886598 and parameters: {'kErase': 1, 'kRadius': 3, 'kAnnealingA': -4.8568452401792666, 'kAnnealingB': 2.1186203380575686, 'kAnnealingStart': 3.7438809331911935, 'kSkipRatio': 0.21147588821350313, 'kTargetDeterminationTrials': 1, 'kAttractionRatio': 0.398558079735089, 'kMaxAttractionDistance': 5, 'kStartAttraction': 0.0035330089867506454}. Best is trial 3 with value: 6807.932989690722.\u001b[0m\n"
     ]
    },
    {
     "name": "stdout",
     "output_type": "stream",
     "text": [
      "index_parallel='0007'\n"
     ]
    },
    {
     "name": "stderr",
     "output_type": "stream",
     "text": [
      "\u001b[32m[I 2022-08-15 21:50:50,948]\u001b[0m Trial 7 finished with value: 6748.546391752578 and parameters: {'kErase': 3, 'kRadius': 5, 'kAnnealingA': -14.82564712698921, 'kAnnealingB': 1.8100576146901215, 'kAnnealingStart': 27.72610707272839, 'kSkipRatio': 0.5382943277536052, 'kTargetDeterminationTrials': 1, 'kAttractionRatio': 0.1815460703288914, 'kMaxAttractionDistance': 14, 'kStartAttraction': 0.042212665211309015}. Best is trial 3 with value: 6807.932989690722.\u001b[0m\n"
     ]
    },
    {
     "name": "stdout",
     "output_type": "stream",
     "text": [
      "index_parallel='0008'\n"
     ]
    },
    {
     "name": "stderr",
     "output_type": "stream",
     "text": [
      "\u001b[32m[I 2022-08-15 21:54:34,490]\u001b[0m Trial 8 finished with value: 7002.701030927835 and parameters: {'kErase': 2, 'kRadius': 6, 'kAnnealingA': -3.494706272491916, 'kAnnealingB': 1.4097598021647775, 'kAnnealingStart': 63.83741040051401, 'kSkipRatio': 0.5093048138307206, 'kTargetDeterminationTrials': 13, 'kAttractionRatio': 0.09544501852775211, 'kMaxAttractionDistance': 4, 'kStartAttraction': 0.24800619617131076}. Best is trial 8 with value: 7002.701030927835.\u001b[0m\n"
     ]
    },
    {
     "name": "stdout",
     "output_type": "stream",
     "text": [
      "Updated! 7002.701030927835\n",
      "index_parallel='0009'\n"
     ]
    },
    {
     "name": "stderr",
     "output_type": "stream",
     "text": [
      "\u001b[32m[I 2022-08-15 21:58:18,879]\u001b[0m Trial 9 finished with value: 6587.505154639175 and parameters: {'kErase': 4, 'kRadius': 2, 'kAnnealingA': 6.982639641599945, 'kAnnealingB': 1.408289729291677, 'kAnnealingStart': 2.562772339974795, 'kSkipRatio': 0.45274525253567943, 'kTargetDeterminationTrials': 18, 'kAttractionRatio': 0.09792607631489168, 'kMaxAttractionDistance': 27, 'kStartAttraction': 0.007756863523640369}. Best is trial 8 with value: 7002.701030927835.\u001b[0m\n"
     ]
    },
    {
     "name": "stdout",
     "output_type": "stream",
     "text": [
      "index_parallel='0010'\n"
     ]
    },
    {
     "name": "stderr",
     "output_type": "stream",
     "text": [
      "\u001b[32m[I 2022-08-15 22:02:02,585]\u001b[0m Trial 10 finished with value: 7064.876288659794 and parameters: {'kErase': 2, 'kRadius': 6, 'kAnnealingA': 13.702693918154543, 'kAnnealingB': 2.6801915253508857, 'kAnnealingStart': 13.012224144712313, 'kSkipRatio': 0.7836097064529857, 'kTargetDeterminationTrials': 7, 'kAttractionRatio': 0.01046193571815041, 'kMaxAttractionDistance': 75, 'kStartAttraction': 0.11690733821351021}. Best is trial 10 with value: 7064.876288659794.\u001b[0m\n"
     ]
    },
    {
     "name": "stdout",
     "output_type": "stream",
     "text": [
      "Updated! 7064.876288659794\n",
      "index_parallel='0011'\n"
     ]
    },
    {
     "name": "stderr",
     "output_type": "stream",
     "text": [
      "\u001b[32m[I 2022-08-15 22:05:46,527]\u001b[0m Trial 11 finished with value: 6984.927835051546 and parameters: {'kErase': 2, 'kRadius': 6, 'kAnnealingA': 14.136514771523881, 'kAnnealingB': 2.936893573870602, 'kAnnealingStart': 11.090210722586885, 'kSkipRatio': 0.7986660498186088, 'kTargetDeterminationTrials': 7, 'kAttractionRatio': 0.014349070908606107, 'kMaxAttractionDistance': 81, 'kStartAttraction': 0.12773424580311737}. Best is trial 10 with value: 7064.876288659794.\u001b[0m\n"
     ]
    },
    {
     "name": "stdout",
     "output_type": "stream",
     "text": [
      "index_parallel='0012'\n"
     ]
    },
    {
     "name": "stderr",
     "output_type": "stream",
     "text": [
      "\u001b[32m[I 2022-08-15 22:09:30,161]\u001b[0m Trial 12 finished with value: 6469.134020618557 and parameters: {'kErase': 2, 'kRadius': 6, 'kAnnealingA': -5.57263186157148, 'kAnnealingB': 2.6132864865269623, 'kAnnealingStart': 1.2923958843480123, 'kSkipRatio': 0.7990942362376106, 'kTargetDeterminationTrials': 6, 'kAttractionRatio': 0.010994915078815734, 'kMaxAttractionDistance': 91, 'kStartAttraction': 0.13929907067754219}. Best is trial 10 with value: 7064.876288659794.\u001b[0m\n"
     ]
    },
    {
     "name": "stdout",
     "output_type": "stream",
     "text": [
      "index_parallel='0013'\n"
     ]
    },
    {
     "name": "stderr",
     "output_type": "stream",
     "text": [
      "\u001b[32m[I 2022-08-15 22:13:13,748]\u001b[0m Trial 13 finished with value: 7073.690721649485 and parameters: {'kErase': 2, 'kRadius': 6, 'kAnnealingA': 14.674326050891384, 'kAnnealingB': 2.3825683850267945, 'kAnnealingStart': 14.273632830812822, 'kSkipRatio': 0.6513617425347691, 'kTargetDeterminationTrials': 20, 'kAttractionRatio': 0.029642047540204282, 'kMaxAttractionDistance': 43, 'kStartAttraction': 0.04640119424319664}. Best is trial 13 with value: 7073.690721649485.\u001b[0m\n"
     ]
    },
    {
     "name": "stdout",
     "output_type": "stream",
     "text": [
      "Updated! 7073.690721649485\n",
      "index_parallel='0014'\n"
     ]
    },
    {
     "name": "stderr",
     "output_type": "stream",
     "text": [
      "\u001b[32m[I 2022-08-15 22:16:57,830]\u001b[0m Trial 14 finished with value: 7008.4639175257735 and parameters: {'kErase': 3, 'kRadius': 6, 'kAnnealingA': 13.78138562252471, 'kAnnealingB': 2.4578963576439063, 'kAnnealingStart': 11.434983273250706, 'kSkipRatio': 0.6679525758424139, 'kTargetDeterminationTrials': 7, 'kAttractionRatio': 0.026174223326911248, 'kMaxAttractionDistance': 44, 'kStartAttraction': 0.03860228044453186}. Best is trial 13 with value: 7073.690721649485.\u001b[0m\n"
     ]
    },
    {
     "name": "stdout",
     "output_type": "stream",
     "text": [
      "index_parallel='0015'\n"
     ]
    },
    {
     "name": "stderr",
     "output_type": "stream",
     "text": [
      "\u001b[32m[I 2022-08-15 22:20:42,042]\u001b[0m Trial 15 finished with value: 7082.329896907217 and parameters: {'kErase': 4, 'kRadius': 4, 'kAnnealingA': 10.72783129046534, 'kAnnealingB': 2.8835190481277366, 'kAnnealingStart': 19.88394783426056, 'kSkipRatio': 0.6931779378444627, 'kTargetDeterminationTrials': 18, 'kAttractionRatio': 0.02007608140949948, 'kMaxAttractionDistance': 49, 'kStartAttraction': 0.01658795035606579}. Best is trial 15 with value: 7082.329896907217.\u001b[0m\n"
     ]
    },
    {
     "name": "stdout",
     "output_type": "stream",
     "text": [
      "Updated! 7082.329896907217\n",
      "index_parallel='0016'\n"
     ]
    },
    {
     "name": "stderr",
     "output_type": "stream",
     "text": [
      "\u001b[32m[I 2022-08-15 22:24:26,280]\u001b[0m Trial 16 finished with value: 7004.664948453608 and parameters: {'kErase': 4, 'kRadius': 4, 'kAnnealingA': 9.790268727300106, 'kAnnealingB': 2.987540011961104, 'kAnnealingStart': 19.67947352956132, 'kSkipRatio': 0.6521775883073345, 'kTargetDeterminationTrials': 20, 'kAttractionRatio': 0.023306429388303355, 'kMaxAttractionDistance': 43, 'kStartAttraction': 0.016406189256707136}. Best is trial 15 with value: 7082.329896907217.\u001b[0m\n"
     ]
    },
    {
     "name": "stdout",
     "output_type": "stream",
     "text": [
      "index_parallel='0017'\n"
     ]
    },
    {
     "name": "stderr",
     "output_type": "stream",
     "text": [
      "\u001b[32m[I 2022-08-15 22:28:10,832]\u001b[0m Trial 17 finished with value: 6802.268041237114 and parameters: {'kErase': 4, 'kRadius': 3, 'kAnnealingA': 2.8156263289314802, 'kAnnealingB': 2.269586831263022, 'kAnnealingStart': 5.694311088357091, 'kSkipRatio': 0.6272295183817379, 'kTargetDeterminationTrials': 11, 'kAttractionRatio': 0.05161083505713718, 'kMaxAttractionDistance': 45, 'kStartAttraction': 0.007091091566863928}. Best is trial 15 with value: 7082.329896907217.\u001b[0m\n"
     ]
    },
    {
     "name": "stdout",
     "output_type": "stream",
     "text": [
      "index_parallel='0018'\n"
     ]
    },
    {
     "name": "stderr",
     "output_type": "stream",
     "text": [
      "\u001b[32m[I 2022-08-15 22:31:54,903]\u001b[0m Trial 18 finished with value: 7132.819587628866 and parameters: {'kErase': 3, 'kRadius': 4, 'kAnnealingA': 10.863102858647508, 'kAnnealingB': 2.2353861089849714, 'kAnnealingStart': 20.125471070630045, 'kSkipRatio': 0.719229886068856, 'kTargetDeterminationTrials': 4, 'kAttractionRatio': 0.017316399042393193, 'kMaxAttractionDistance': 28, 'kStartAttraction': 0.053707190745524026}. Best is trial 18 with value: 7132.819587628866.\u001b[0m\n"
     ]
    },
    {
     "name": "stdout",
     "output_type": "stream",
     "text": [
      "Updated! 7132.819587628866\n",
      "index_parallel='0019'\n"
     ]
    },
    {
     "name": "stderr",
     "output_type": "stream",
     "text": [
      "\u001b[32m[I 2022-08-15 22:35:39,209]\u001b[0m Trial 19 finished with value: 7178.056701030928 and parameters: {'kErase': 4, 'kRadius': 4, 'kAnnealingA': 3.8118246581856443, 'kAnnealingB': 2.089751429749489, 'kAnnealingStart': 32.67649228230012, 'kSkipRatio': 0.7160015378083844, 'kTargetDeterminationTrials': 2, 'kAttractionRatio': 0.01695604591118181, 'kMaxAttractionDistance': 30, 'kStartAttraction': 0.016175149503112354}. Best is trial 19 with value: 7178.056701030928.\u001b[0m\n"
     ]
    },
    {
     "name": "stdout",
     "output_type": "stream",
     "text": [
      "Updated! 7178.056701030928\n",
      "index_parallel='0020'\n"
     ]
    },
    {
     "name": "stderr",
     "output_type": "stream",
     "text": [
      "\u001b[32m[I 2022-08-15 22:39:23,584]\u001b[0m Trial 20 finished with value: 7135.979381443299 and parameters: {'kErase': 5, 'kRadius': 4, 'kAnnealingA': 4.253730392406614, 'kAnnealingB': 0.9533279709958045, 'kAnnealingStart': 34.07617531624387, 'kSkipRatio': 0.7360438487236046, 'kTargetDeterminationTrials': 2, 'kAttractionRatio': 0.05053586634238945, 'kMaxAttractionDistance': 28, 'kStartAttraction': 0.006880657372893994}. Best is trial 19 with value: 7178.056701030928.\u001b[0m\n"
     ]
    },
    {
     "name": "stdout",
     "output_type": "stream",
     "text": [
      "index_parallel='0021'\n"
     ]
    },
    {
     "name": "stderr",
     "output_type": "stream",
     "text": [
      "\u001b[32m[I 2022-08-15 22:43:08,046]\u001b[0m Trial 21 finished with value: 7137.19587628866 and parameters: {'kErase': 5, 'kRadius': 4, 'kAnnealingA': 4.3831759291022525, 'kAnnealingB': 0.90744943960023, 'kAnnealingStart': 31.7350476995623, 'kSkipRatio': 0.7228090860126138, 'kTargetDeterminationTrials': 2, 'kAttractionRatio': 0.046304364518132114, 'kMaxAttractionDistance': 24, 'kStartAttraction': 0.0010394441452812458}. Best is trial 19 with value: 7178.056701030928.\u001b[0m\n"
     ]
    },
    {
     "name": "stdout",
     "output_type": "stream",
     "text": [
      "index_parallel='0022'\n"
     ]
    },
    {
     "name": "stderr",
     "output_type": "stream",
     "text": [
      "\u001b[32m[I 2022-08-15 22:46:52,239]\u001b[0m Trial 22 finished with value: 7160.912371134021 and parameters: {'kErase': 5, 'kRadius': 4, 'kAnnealingA': 4.196046514788849, 'kAnnealingB': 0.8393363277169422, 'kAnnealingStart': 34.546378284640745, 'kSkipRatio': 0.7360068300077854, 'kTargetDeterminationTrials': 2, 'kAttractionRatio': 0.04968555274822554, 'kMaxAttractionDistance': 16, 'kStartAttraction': 0.001213721127876512}. Best is trial 19 with value: 7178.056701030928.\u001b[0m\n"
     ]
    },
    {
     "name": "stdout",
     "output_type": "stream",
     "text": [
      "index_parallel='0023'\n"
     ]
    },
    {
     "name": "stderr",
     "output_type": "stream",
     "text": [
      "\u001b[32m[I 2022-08-15 22:50:36,244]\u001b[0m Trial 23 finished with value: 6581.70618556701 and parameters: {'kErase': 5, 'kRadius': 3, 'kAnnealingA': 3.306378056363071, 'kAnnealingB': 0.5435463484585328, 'kAnnealingStart': 39.91522468264083, 'kSkipRatio': 0.5867037091472728, 'kTargetDeterminationTrials': 2, 'kAttractionRatio': 0.07080539698456803, 'kMaxAttractionDistance': 15, 'kStartAttraction': 0.001402763834919353}. Best is trial 19 with value: 7178.056701030928.\u001b[0m\n"
     ]
    },
    {
     "name": "stdout",
     "output_type": "stream",
     "text": [
      "index_parallel='0024'\n"
     ]
    },
    {
     "name": "stderr",
     "output_type": "stream",
     "text": [
      "\u001b[32m[I 2022-08-15 22:54:20,650]\u001b[0m Trial 24 finished with value: 5390.422680412371 and parameters: {'kErase': 5, 'kRadius': 3, 'kAnnealingA': 5.888826942905312, 'kAnnealingB': 0.8297862404071921, 'kAnnealingStart': 25.393869390914414, 'kSkipRatio': 0.31592352678527635, 'kTargetDeterminationTrials': 3, 'kAttractionRatio': 0.1652099163129735, 'kMaxAttractionDistance': 19, 'kStartAttraction': 0.002594181264101359}. Best is trial 19 with value: 7178.056701030928.\u001b[0m\n"
     ]
    },
    {
     "name": "stdout",
     "output_type": "stream",
     "text": [
      "index_parallel='0025'\n"
     ]
    },
    {
     "name": "stderr",
     "output_type": "stream",
     "text": [
      "\u001b[32m[I 2022-08-15 22:58:04,577]\u001b[0m Trial 25 finished with value: 7133.896907216495 and parameters: {'kErase': 4, 'kRadius': 5, 'kAnnealingA': 0.21257610279849265, 'kAnnealingB': 0.2326088413827443, 'kAnnealingStart': 96.84782101507581, 'kSkipRatio': 0.7370603521957804, 'kTargetDeterminationTrials': 2, 'kAttractionRatio': 0.036792717611783876, 'kMaxAttractionDistance': 13, 'kStartAttraction': 0.0010553265235771303}. Best is trial 19 with value: 7178.056701030928.\u001b[0m\n"
     ]
    },
    {
     "name": "stdout",
     "output_type": "stream",
     "text": [
      "index_parallel='0026'\n"
     ]
    },
    {
     "name": "stderr",
     "output_type": "stream",
     "text": [
      "\u001b[32m[I 2022-08-15 23:01:48,916]\u001b[0m Trial 26 finished with value: 6028.180412371134 and parameters: {'kErase': 5, 'kRadius': 4, 'kAnnealingA': 4.9553944592754, 'kAnnealingB': 1.0979843536439586, 'kAnnealingStart': 86.32137812241565, 'kSkipRatio': 0.5896829787977181, 'kTargetDeterminationTrials': 4, 'kAttractionRatio': 0.12725271676649966, 'kMaxAttractionDistance': 31, 'kStartAttraction': 0.003783588728990766}. Best is trial 19 with value: 7178.056701030928.\u001b[0m\n"
     ]
    },
    {
     "name": "stdout",
     "output_type": "stream",
     "text": [
      "index_parallel='0027'\n"
     ]
    },
    {
     "name": "stderr",
     "output_type": "stream",
     "text": [
      "\u001b[32m[I 2022-08-15 23:05:33,307]\u001b[0m Trial 27 finished with value: 7223.943298969072 and parameters: {'kErase': 4, 'kRadius': 4, 'kAnnealingA': -1.8409423080795415, 'kAnnealingB': 0.38989812261559464, 'kAnnealingStart': 39.27513232596215, 'kSkipRatio': 0.7565607081249347, 'kTargetDeterminationTrials': 3, 'kAttractionRatio': 0.07277363835649941, 'kMaxAttractionDistance': 20, 'kStartAttraction': 0.001067011226557713}. Best is trial 27 with value: 7223.943298969072.\u001b[0m\n"
     ]
    },
    {
     "name": "stdout",
     "output_type": "stream",
     "text": [
      "Updated! 7223.943298969072\n",
      "index_parallel='0028'\n"
     ]
    },
    {
     "name": "stderr",
     "output_type": "stream",
     "text": [
      "\u001b[32m[I 2022-08-15 23:09:17,500]\u001b[0m Trial 28 finished with value: 7189.422680412371 and parameters: {'kErase': 4, 'kRadius': 3, 'kAnnealingA': -1.767764144761869, 'kAnnealingB': 0.4151956730651073, 'kAnnealingStart': 44.61561216740677, 'kSkipRatio': 0.7599913913610579, 'kTargetDeterminationTrials': 3, 'kAttractionRatio': 0.27315109576596436, 'kMaxAttractionDistance': 17, 'kStartAttraction': 0.0022162434268945294}. Best is trial 27 with value: 7223.943298969072.\u001b[0m\n"
     ]
    },
    {
     "name": "stdout",
     "output_type": "stream",
     "text": [
      "index_parallel='0029'\n"
     ]
    },
    {
     "name": "stderr",
     "output_type": "stream",
     "text": [
      "\u001b[32m[I 2022-08-15 23:13:01,305]\u001b[0m Trial 29 finished with value: 6828.51030927835 and parameters: {'kErase': 4, 'kRadius': 3, 'kAnnealingA': -1.9052610946955282, 'kAnnealingB': 0.00357673923204771, 'kAnnealingStart': 45.80770390889756, 'kSkipRatio': 0.6082237970446728, 'kTargetDeterminationTrials': 4, 'kAttractionRatio': 0.878445094315843, 'kMaxAttractionDistance': 11, 'kStartAttraction': 0.004691919481993288}. Best is trial 27 with value: 7223.943298969072.\u001b[0m\n"
     ]
    },
    {
     "name": "stdout",
     "output_type": "stream",
     "text": [
      "index_parallel='0030'\n"
     ]
    },
    {
     "name": "stderr",
     "output_type": "stream",
     "text": [
      "\u001b[32m[I 2022-08-15 23:16:45,649]\u001b[0m Trial 30 finished with value: 6878.5 and parameters: {'kErase': 4, 'kRadius': 2, 'kAnnealingA': -7.191291176199191, 'kAnnealingB': 0.39385820276441097, 'kAnnealingStart': 17.353310093994228, 'kSkipRatio': 0.7624342730615811, 'kTargetDeterminationTrials': 3, 'kAttractionRatio': 0.2683459906233625, 'kMaxAttractionDistance': 33, 'kStartAttraction': 0.0021329002604169103}. Best is trial 27 with value: 7223.943298969072.\u001b[0m\n"
     ]
    },
    {
     "name": "stdout",
     "output_type": "stream",
     "text": [
      "index_parallel='0031'\n"
     ]
    },
    {
     "name": "stderr",
     "output_type": "stream",
     "text": [
      "\u001b[32m[I 2022-08-15 23:20:29,776]\u001b[0m Trial 31 finished with value: 7172.123711340206 and parameters: {'kErase': 4, 'kRadius': 5, 'kAnnealingA': 1.6845436853061502, 'kAnnealingB': 0.6338703852843963, 'kAnnealingStart': 39.75748142367743, 'kSkipRatio': 0.6960409194675087, 'kTargetDeterminationTrials': 5, 'kAttractionRatio': 0.07790704798344154, 'kMaxAttractionDistance': 16, 'kStartAttraction': 0.0017126874617204996}. Best is trial 27 with value: 7223.943298969072.\u001b[0m\n"
     ]
    },
    {
     "name": "stdout",
     "output_type": "stream",
     "text": [
      "index_parallel='0032'\n"
     ]
    },
    {
     "name": "stderr",
     "output_type": "stream",
     "text": [
      "\u001b[32m[I 2022-08-15 23:24:13,825]\u001b[0m Trial 32 finished with value: 7109.69587628866 and parameters: {'kErase': 4, 'kRadius': 5, 'kAnnealingA': 1.2506551616048203, 'kAnnealingB': 0.6003505581654622, 'kAnnealingStart': 50.215373819147075, 'kSkipRatio': 0.7029676093598451, 'kTargetDeterminationTrials': 5, 'kAttractionRatio': 0.28767152696145604, 'kMaxAttractionDistance': 8, 'kStartAttraction': 0.002087212869395908}. Best is trial 27 with value: 7223.943298969072.\u001b[0m\n"
     ]
    },
    {
     "name": "stdout",
     "output_type": "stream",
     "text": [
      "index_parallel='0033'\n"
     ]
    },
    {
     "name": "stderr",
     "output_type": "stream",
     "text": [
      "\u001b[32m[I 2022-08-15 23:27:57,692]\u001b[0m Trial 33 finished with value: 7178.59793814433 and parameters: {'kErase': 3, 'kRadius': 5, 'kAnnealingA': 1.2920388849708517, 'kAnnealingB': 0.3641653456191815, 'kAnnealingStart': 76.36704257317716, 'kSkipRatio': 0.7625444725820546, 'kTargetDeterminationTrials': 3, 'kAttractionRatio': 0.0743572253624531, 'kMaxAttractionDistance': 22, 'kStartAttraction': 0.01309325508184525}. Best is trial 27 with value: 7223.943298969072.\u001b[0m\n"
     ]
    },
    {
     "name": "stdout",
     "output_type": "stream",
     "text": [
      "index_parallel='0034'\n"
     ]
    },
    {
     "name": "stderr",
     "output_type": "stream",
     "text": [
      "\u001b[32m[I 2022-08-15 23:31:41,579]\u001b[0m Trial 34 finished with value: 7225.1752577319585 and parameters: {'kErase': 3, 'kRadius': 3, 'kAnnealingA': -1.776307869771234, 'kAnnealingB': 0.3749971140977927, 'kAnnealingStart': 77.3197591621199, 'kSkipRatio': 0.7636859951965735, 'kTargetDeterminationTrials': 3, 'kAttractionRatio': 0.1429092907081734, 'kMaxAttractionDistance': 21, 'kStartAttraction': 0.01123051385481691}. Best is trial 34 with value: 7225.1752577319585.\u001b[0m\n"
     ]
    },
    {
     "name": "stdout",
     "output_type": "stream",
     "text": [
      "Updated! 7225.1752577319585\n",
      "index_parallel='0035'\n"
     ]
    },
    {
     "name": "stderr",
     "output_type": "stream",
     "text": [
      "\u001b[32m[I 2022-08-15 23:35:25,834]\u001b[0m Trial 35 finished with value: 7231.943298969072 and parameters: {'kErase': 3, 'kRadius': 2, 'kAnnealingA': -1.7844015087294547, 'kAnnealingB': 0.3757641692210959, 'kAnnealingStart': 74.92466345894952, 'kSkipRatio': 0.7686924522587089, 'kTargetDeterminationTrials': 3, 'kAttractionRatio': 0.14714000909132938, 'kMaxAttractionDistance': 11, 'kStartAttraction': 0.009913459097859354}. Best is trial 35 with value: 7231.943298969072.\u001b[0m\n"
     ]
    },
    {
     "name": "stdout",
     "output_type": "stream",
     "text": [
      "Updated! 7231.943298969072\n",
      "index_parallel='0036'\n"
     ]
    },
    {
     "name": "stderr",
     "output_type": "stream",
     "text": [
      "\u001b[32m[I 2022-08-15 23:39:09,918]\u001b[0m Trial 36 finished with value: 7246.365979381443 and parameters: {'kErase': 3, 'kRadius': 2, 'kAnnealingA': -1.7206662184152708, 'kAnnealingB': 0.36987770114198854, 'kAnnealingStart': 64.59568282942287, 'kSkipRatio': 0.7647444248620201, 'kTargetDeterminationTrials': 4, 'kAttractionRatio': 0.24492094177546192, 'kMaxAttractionDistance': 10, 'kStartAttraction': 0.010201608331298564}. Best is trial 36 with value: 7246.365979381443.\u001b[0m\n"
     ]
    },
    {
     "name": "stdout",
     "output_type": "stream",
     "text": [
      "Updated! 7246.365979381443\n",
      "index_parallel='0037'\n"
     ]
    },
    {
     "name": "stderr",
     "output_type": "stream",
     "text": [
      "\u001b[32m[I 2022-08-15 23:42:54,001]\u001b[0m Trial 37 finished with value: 6192.953608247422 and parameters: {'kErase': 3, 'kRadius': 2, 'kAnnealingA': -8.01559454856329, 'kAnnealingB': 0.1210351540779368, 'kAnnealingStart': 62.91386762097182, 'kSkipRatio': 0.3026075708893001, 'kTargetDeterminationTrials': 5, 'kAttractionRatio': 0.13168529258305803, 'kMaxAttractionDistance': 9, 'kStartAttraction': 0.02402667696392564}. Best is trial 36 with value: 7246.365979381443.\u001b[0m\n"
     ]
    },
    {
     "name": "stdout",
     "output_type": "stream",
     "text": [
      "index_parallel='0038'\n"
     ]
    },
    {
     "name": "stderr",
     "output_type": "stream",
     "text": [
      "\u001b[32m[I 2022-08-15 23:46:38,139]\u001b[0m Trial 38 finished with value: 7222.623711340206 and parameters: {'kErase': 3, 'kRadius': 2, 'kAnnealingA': -2.4731506201907503, 'kAnnealingB': 0.2946620731628071, 'kAnnealingStart': 72.88157449377483, 'kSkipRatio': 0.7712430660081532, 'kTargetDeterminationTrials': 4, 'kAttractionRatio': 0.21883952902674966, 'kMaxAttractionDistance': 6, 'kStartAttraction': 0.009320540584559002}. Best is trial 36 with value: 7246.365979381443.\u001b[0m\n"
     ]
    },
    {
     "name": "stdout",
     "output_type": "stream",
     "text": [
      "index_parallel='0039'\n"
     ]
    },
    {
     "name": "stderr",
     "output_type": "stream",
     "text": [
      "\u001b[32m[I 2022-08-15 23:50:22,039]\u001b[0m Trial 39 finished with value: 6959.257731958763 and parameters: {'kErase': 3, 'kRadius': 2, 'kAnnealingA': -11.008705642774627, 'kAnnealingB': 1.1815969417394694, 'kAnnealingStart': 94.15340842154893, 'kSkipRatio': 0.6778312507134058, 'kTargetDeterminationTrials': 9, 'kAttractionRatio': 0.37189145561345727, 'kMaxAttractionDistance': 11, 'kStartAttraction': 0.02875821243221132}. Best is trial 36 with value: 7246.365979381443.\u001b[0m\n"
     ]
    },
    {
     "name": "stdout",
     "output_type": "stream",
     "text": [
      "index_parallel='0040'\n"
     ]
    },
    {
     "name": "stderr",
     "output_type": "stream",
     "text": [
      "\u001b[32m[I 2022-08-15 23:54:05,871]\u001b[0m Trial 40 finished with value: 6649.448453608247 and parameters: {'kErase': 3, 'kRadius': 2, 'kAnnealingA': -3.287687304907044, 'kAnnealingB': 0.5214642882081317, 'kAnnealingStart': 72.11210180897982, 'kSkipRatio': 0.4678316240440916, 'kTargetDeterminationTrials': 4, 'kAttractionRatio': 0.13296160563872214, 'kMaxAttractionDistance': 12, 'kStartAttraction': 0.06586238909918248}. Best is trial 36 with value: 7246.365979381443.\u001b[0m\n"
     ]
    },
    {
     "name": "stdout",
     "output_type": "stream",
     "text": [
      "index_parallel='0041'\n"
     ]
    },
    {
     "name": "stderr",
     "output_type": "stream",
     "text": [
      "\u001b[32m[I 2022-08-15 23:57:49,790]\u001b[0m Trial 41 finished with value: 7235.572164948454 and parameters: {'kErase': 3, 'kRadius': 2, 'kAnnealingA': -0.6355982415006054, 'kAnnealingB': 0.2305087097938, 'kAnnealingStart': 60.996456472615414, 'kSkipRatio': 0.7759055543870699, 'kTargetDeterminationTrials': 4, 'kAttractionRatio': 0.19538516688511048, 'kMaxAttractionDistance': 9, 'kStartAttraction': 0.008036514855935576}. Best is trial 36 with value: 7246.365979381443.\u001b[0m\n"
     ]
    },
    {
     "name": "stdout",
     "output_type": "stream",
     "text": [
      "index_parallel='0042'\n"
     ]
    },
    {
     "name": "stderr",
     "output_type": "stream",
     "text": [
      "\u001b[32m[I 2022-08-16 00:01:33,687]\u001b[0m Trial 42 finished with value: 7219.123711340206 and parameters: {'kErase': 3, 'kRadius': 2, 'kAnnealingA': -0.5699599176081801, 'kAnnealingB': 0.015556900619609848, 'kAnnealingStart': 57.48588522766497, 'kSkipRatio': 0.748386925133614, 'kTargetDeterminationTrials': 5, 'kAttractionRatio': 0.20763918194460507, 'kMaxAttractionDistance': 7, 'kStartAttraction': 0.010819713803396837}. Best is trial 36 with value: 7246.365979381443.\u001b[0m\n"
     ]
    },
    {
     "name": "stdout",
     "output_type": "stream",
     "text": [
      "index_parallel='0043'\n"
     ]
    },
    {
     "name": "stderr",
     "output_type": "stream",
     "text": [
      "\u001b[32m[I 2022-08-16 00:05:17,661]\u001b[0m Trial 43 finished with value: 7248.29381443299 and parameters: {'kErase': 3, 'kRadius': 3, 'kAnnealingA': -4.558810908913564, 'kAnnealingB': 0.20464641548028026, 'kAnnealingStart': 55.590759267150204, 'kSkipRatio': 0.7607858820329102, 'kTargetDeterminationTrials': 3, 'kAttractionRatio': 0.16049644613386557, 'kMaxAttractionDistance': 9, 'kStartAttraction': 0.005894635220567074}. Best is trial 43 with value: 7248.29381443299.\u001b[0m\n"
     ]
    },
    {
     "name": "stdout",
     "output_type": "stream",
     "text": [
      "Updated! 7248.29381443299\n",
      "index_parallel='0044'\n"
     ]
    },
    {
     "name": "stderr",
     "output_type": "stream",
     "text": [
      "\u001b[32m[I 2022-08-16 00:09:01,527]\u001b[0m Trial 44 finished with value: 7247.412371134021 and parameters: {'kErase': 3, 'kRadius': 3, 'kAnnealingA': -4.992443743162661, 'kAnnealingB': 0.21549963876251593, 'kAnnealingStart': 51.79889140125119, 'kSkipRatio': 0.7865504763467939, 'kTargetDeterminationTrials': 3, 'kAttractionRatio': 0.16093013703836026, 'kMaxAttractionDistance': 8, 'kStartAttraction': 0.005090000654822902}. Best is trial 43 with value: 7248.29381443299.\u001b[0m\n"
     ]
    },
    {
     "name": "stdout",
     "output_type": "stream",
     "text": [
      "index_parallel='0045'\n"
     ]
    },
    {
     "name": "stderr",
     "output_type": "stream",
     "text": [
      "\u001b[32m[I 2022-08-16 00:12:45,427]\u001b[0m Trial 45 finished with value: 7116.979381443299 and parameters: {'kErase': 2, 'kRadius': 2, 'kAnnealingA': -5.4207245188776465, 'kAnnealingB': 0.21519203888705662, 'kAnnealingStart': 55.30337861625818, 'kSkipRatio': 0.7976837290135145, 'kTargetDeterminationTrials': 4, 'kAttractionRatio': 0.5230775837615639, 'kMaxAttractionDistance': 9, 'kStartAttraction': 0.005184526681847874}. Best is trial 43 with value: 7248.29381443299.\u001b[0m\n"
     ]
    },
    {
     "name": "stdout",
     "output_type": "stream",
     "text": [
      "index_parallel='0046'\n"
     ]
    },
    {
     "name": "stderr",
     "output_type": "stream",
     "text": [
      "\u001b[32m[I 2022-08-16 00:16:29,319]\u001b[0m Trial 46 finished with value: 7121.030927835051 and parameters: {'kErase': 3, 'kRadius': 2, 'kAnnealingA': -4.428065635069096, 'kAnnealingB': 0.735289776537996, 'kAnnealingStart': 59.867139115415085, 'kSkipRatio': 0.7943231963916808, 'kTargetDeterminationTrials': 6, 'kAttractionRatio': 0.32837164702934163, 'kMaxAttractionDistance': 5, 'kStartAttraction': 0.0032657169840510916}. Best is trial 43 with value: 7248.29381443299.\u001b[0m\n"
     ]
    },
    {
     "name": "stdout",
     "output_type": "stream",
     "text": [
      "index_parallel='0047'\n"
     ]
    },
    {
     "name": "stderr",
     "output_type": "stream",
     "text": [
      "\u001b[32m[I 2022-08-16 00:20:13,095]\u001b[0m Trial 47 finished with value: 6532.556701030928 and parameters: {'kErase': 3, 'kRadius': 3, 'kAnnealingA': -7.098725734679622, 'kAnnealingB': 0.15921701096354962, 'kAnnealingStart': 24.815241641614655, 'kSkipRatio': 0.3882648521562773, 'kTargetDeterminationTrials': 6, 'kAttractionRatio': 0.11344254364856296, 'kMaxAttractionDistance': 6, 'kStartAttraction': 0.0055313531250697654}. Best is trial 43 with value: 7248.29381443299.\u001b[0m\n"
     ]
    },
    {
     "name": "stdout",
     "output_type": "stream",
     "text": [
      "index_parallel='0048'\n"
     ]
    },
    {
     "name": "stderr",
     "output_type": "stream",
     "text": [
      "\u001b[32m[I 2022-08-16 00:23:56,857]\u001b[0m Trial 48 finished with value: 6617.417525773196 and parameters: {'kErase': 2, 'kRadius': 2, 'kAnnealingA': -9.403490042733422, 'kAnnealingB': 0.5020442055153564, 'kAnnealingStart': 1.1796920079242974, 'kSkipRatio': 0.6359120556019556, 'kTargetDeterminationTrials': 5, 'kAttractionRatio': 0.17849616470500554, 'kMaxAttractionDistance': 7, 'kStartAttraction': 0.008295055785415685}. Best is trial 43 with value: 7248.29381443299.\u001b[0m\n"
     ]
    },
    {
     "name": "stdout",
     "output_type": "stream",
     "text": [
      "index_parallel='0049'\n"
     ]
    },
    {
     "name": "stderr",
     "output_type": "stream",
     "text": [
      "\u001b[32m[I 2022-08-16 00:27:40,120]\u001b[0m Trial 49 finished with value: 6633.932989690722 and parameters: {'kErase': 1, 'kRadius': 2, 'kAnnealingA': -3.8949132122495596, 'kAnnealingB': 0.7055330538087923, 'kAnnealingStart': 6.796329554393099, 'kSkipRatio': 0.677685629878278, 'kTargetDeterminationTrials': 8, 'kAttractionRatio': 0.23629932144292715, 'kMaxAttractionDistance': 10, 'kStartAttraction': 0.02531296814179833}. Best is trial 43 with value: 7248.29381443299.\u001b[0m\n"
     ]
    },
    {
     "name": "stdout",
     "output_type": "stream",
     "text": [
      "index_parallel='0050'\n"
     ]
    },
    {
     "name": "stderr",
     "output_type": "stream",
     "text": [
      "\u001b[32m[I 2022-08-16 00:31:24,016]\u001b[0m Trial 50 finished with value: 6761.546391752578 and parameters: {'kErase': 2, 'kRadius': 3, 'kAnnealingA': -6.22206898050031, 'kAnnealingB': 0.0637166222227018, 'kAnnealingStart': 3.23116963543323, 'kSkipRatio': 0.5662914082602987, 'kTargetDeterminationTrials': 6, 'kAttractionRatio': 0.10140101013389499, 'kMaxAttractionDistance': 8, 'kStartAttraction': 0.0040030989376299815}. Best is trial 43 with value: 7248.29381443299.\u001b[0m\n"
     ]
    },
    {
     "name": "stdout",
     "output_type": "stream",
     "text": [
      "index_parallel='0051'\n"
     ]
    },
    {
     "name": "stderr",
     "output_type": "stream",
     "text": [
      "\u001b[32m[I 2022-08-16 00:35:08,103]\u001b[0m Trial 51 finished with value: 7215.70618556701 and parameters: {'kErase': 3, 'kRadius': 3, 'kAnnealingA': -0.2668009140759733, 'kAnnealingB': 0.2173758361475083, 'kAnnealingStart': 82.81781983321395, 'kSkipRatio': 0.7864643820911855, 'kTargetDeterminationTrials': 3, 'kAttractionRatio': 0.15503221722015953, 'kMaxAttractionDistance': 6, 'kStartAttraction': 0.01191457046445998}. Best is trial 43 with value: 7248.29381443299.\u001b[0m\n"
     ]
    },
    {
     "name": "stdout",
     "output_type": "stream",
     "text": [
      "index_parallel='0052'\n"
     ]
    },
    {
     "name": "stderr",
     "output_type": "stream",
     "text": [
      "\u001b[32m[I 2022-08-16 00:38:52,200]\u001b[0m Trial 52 finished with value: 7235.201030927835 and parameters: {'kErase': 3, 'kRadius': 3, 'kAnnealingA': -3.138637563461086, 'kAnnealingB': 0.3059611269628977, 'kAnnealingStart': 66.80192074116326, 'kSkipRatio': 0.7733121936756349, 'kTargetDeterminationTrials': 4, 'kAttractionRatio': 0.1542329552764173, 'kMaxAttractionDistance': 13, 'kStartAttraction': 0.0061081599406985106}. Best is trial 43 with value: 7248.29381443299.\u001b[0m\n"
     ]
    },
    {
     "name": "stdout",
     "output_type": "stream",
     "text": [
      "index_parallel='0053'\n"
     ]
    },
    {
     "name": "stderr",
     "output_type": "stream",
     "text": [
      "\u001b[32m[I 2022-08-16 00:42:36,038]\u001b[0m Trial 53 finished with value: 7196.103092783505 and parameters: {'kErase': 3, 'kRadius': 3, 'kAnnealingA': -3.3149623911917123, 'kAnnealingB': 0.2464971518828767, 'kAnnealingStart': 65.59105235850755, 'kSkipRatio': 0.7094127862188413, 'kTargetDeterminationTrials': 4, 'kAttractionRatio': 0.1941201754367396, 'kMaxAttractionDistance': 13, 'kStartAttraction': 0.006332990133421977}. Best is trial 43 with value: 7248.29381443299.\u001b[0m\n"
     ]
    },
    {
     "name": "stdout",
     "output_type": "stream",
     "text": [
      "index_parallel='0054'\n"
     ]
    },
    {
     "name": "stderr",
     "output_type": "stream",
     "text": [
      "\u001b[32m[I 2022-08-16 00:46:20,082]\u001b[0m Trial 54 finished with value: 7199.788659793814 and parameters: {'kErase': 3, 'kRadius': 2, 'kAnnealingA': -4.679485329300417, 'kAnnealingB': 0.3101244431706214, 'kAnnealingStart': 49.45326632342181, 'kSkipRatio': 0.7777519381472592, 'kTargetDeterminationTrials': 5, 'kAttractionRatio': 0.23447103228436084, 'kMaxAttractionDistance': 9, 'kStartAttraction': 0.0028980016695453674}. Best is trial 43 with value: 7248.29381443299.\u001b[0m\n"
     ]
    },
    {
     "name": "stdout",
     "output_type": "stream",
     "text": [
      "index_parallel='0055'\n"
     ]
    },
    {
     "name": "stderr",
     "output_type": "stream",
     "text": [
      "\u001b[32m[I 2022-08-16 00:50:03,867]\u001b[0m Trial 55 finished with value: 7139.278350515464 and parameters: {'kErase': 3, 'kRadius': 2, 'kAnnealingA': 2.2932458483186777, 'kAnnealingB': 0.11338445278819413, 'kAnnealingStart': 96.45985793271046, 'kSkipRatio': 0.7348917864184195, 'kTargetDeterminationTrials': 4, 'kAttractionRatio': 0.11417489826918514, 'kMaxAttractionDistance': 10, 'kStartAttraction': 0.004432139878589676}. Best is trial 43 with value: 7248.29381443299.\u001b[0m\n"
     ]
    },
    {
     "name": "stdout",
     "output_type": "stream",
     "text": [
      "index_parallel='0056'\n"
     ]
    },
    {
     "name": "stderr",
     "output_type": "stream",
     "text": [
      "\u001b[32m[I 2022-08-16 00:53:47,864]\u001b[0m Trial 56 finished with value: 7129.31443298969 and parameters: {'kErase': 3, 'kRadius': 3, 'kAnnealingA': -9.018075875224643, 'kAnnealingB': 0.48764861145064087, 'kAnnealingStart': 53.002126261117425, 'kSkipRatio': 0.7801857902099092, 'kTargetDeterminationTrials': 7, 'kAttractionRatio': 0.17229239382947406, 'kMaxAttractionDistance': 5, 'kStartAttraction': 0.009409513311153622}. Best is trial 43 with value: 7248.29381443299.\u001b[0m\n"
     ]
    },
    {
     "name": "stdout",
     "output_type": "stream",
     "text": [
      "index_parallel='0057'\n"
     ]
    },
    {
     "name": "stderr",
     "output_type": "stream",
     "text": [
      "\u001b[32m[I 2022-08-16 00:57:31,544]\u001b[0m Trial 57 finished with value: 6965.953608247422 and parameters: {'kErase': 3, 'kRadius': 3, 'kAnnealingA': -11.749197475349565, 'kAnnealingB': 1.6562713046726256, 'kAnnealingStart': 68.72645467908461, 'kSkipRatio': 0.7234417968040188, 'kTargetDeterminationTrials': 3, 'kAttractionRatio': 0.3195212512667114, 'kMaxAttractionDistance': 8, 'kStartAttraction': 0.02041956734835863}. Best is trial 43 with value: 7248.29381443299.\u001b[0m\n"
     ]
    },
    {
     "name": "stdout",
     "output_type": "stream",
     "text": [
      "index_parallel='0058'\n"
     ]
    },
    {
     "name": "stderr",
     "output_type": "stream",
     "text": [
      "\u001b[32m[I 2022-08-16 01:01:15,008]\u001b[0m Trial 58 finished with value: 7038.113402061856 and parameters: {'kErase': 2, 'kRadius': 2, 'kAnnealingA': -6.108909311645523, 'kAnnealingB': 0.7305843023862338, 'kAnnealingStart': 42.876277606383326, 'kSkipRatio': 0.6903172481711749, 'kTargetDeterminationTrials': 8, 'kAttractionRatio': 0.44864150746266934, 'kMaxAttractionDistance': 4, 'kStartAttraction': 0.014246212469082725}. Best is trial 43 with value: 7248.29381443299.\u001b[0m\n"
     ]
    },
    {
     "name": "stdout",
     "output_type": "stream",
     "text": [
      "index_parallel='0059'\n"
     ]
    },
    {
     "name": "stderr",
     "output_type": "stream",
     "text": [
      "\u001b[32m[I 2022-08-16 01:04:58,915]\u001b[0m Trial 59 finished with value: 7182.98969072165 and parameters: {'kErase': 2, 'kRadius': 2, 'kAnnealingA': 0.30715416715930655, 'kAnnealingB': 1.0029096570306744, 'kAnnealingStart': 25.037522929716246, 'kSkipRatio': 0.6521887553370913, 'kTargetDeterminationTrials': 14, 'kAttractionRatio': 0.1575479028335858, 'kMaxAttractionDistance': 12, 'kStartAttraction': 0.006749264573255488}. Best is trial 43 with value: 7248.29381443299.\u001b[0m\n"
     ]
    },
    {
     "name": "stdout",
     "output_type": "stream",
     "text": [
      "index_parallel='0060'\n"
     ]
    },
    {
     "name": "stderr",
     "output_type": "stream",
     "text": [
      "\u001b[32m[I 2022-08-16 01:08:43,019]\u001b[0m Trial 60 finished with value: 7203.618556701031 and parameters: {'kErase': 3, 'kRadius': 3, 'kAnnealingA': -3.530934327013113, 'kAnnealingB': 0.14665727415424235, 'kAnnealingStart': 28.833121421217168, 'kSkipRatio': 0.7444941749412426, 'kTargetDeterminationTrials': 2, 'kAttractionRatio': 0.09215335124782907, 'kMaxAttractionDistance': 14, 'kStartAttraction': 0.019533924820119095}. Best is trial 43 with value: 7248.29381443299.\u001b[0m\n"
     ]
    },
    {
     "name": "stdout",
     "output_type": "stream",
     "text": [
      "index_parallel='0061'\n"
     ]
    },
    {
     "name": "stderr",
     "output_type": "stream",
     "text": [
      "\u001b[32m[I 2022-08-16 01:12:27,115]\u001b[0m Trial 61 finished with value: 7237.345360824742 and parameters: {'kErase': 3, 'kRadius': 3, 'kAnnealingA': -1.0024767188755015, 'kAnnealingB': 0.32985675416791865, 'kAnnealingStart': 81.82475411266627, 'kSkipRatio': 0.7995706513612666, 'kTargetDeterminationTrials': 3, 'kAttractionRatio': 0.14206649206024738, 'kMaxAttractionDistance': 7, 'kStartAttraction': 0.010814932645146389}. Best is trial 43 with value: 7248.29381443299.\u001b[0m\n"
     ]
    },
    {
     "name": "stdout",
     "output_type": "stream",
     "text": [
      "index_parallel='0062'\n"
     ]
    },
    {
     "name": "stderr",
     "output_type": "stream",
     "text": [
      "\u001b[32m[I 2022-08-16 01:16:10,906]\u001b[0m Trial 62 finished with value: 7196.731958762886 and parameters: {'kErase': 3, 'kRadius': 3, 'kAnnealingA': -0.9628846923940306, 'kAnnealingB': 0.48863313762391425, 'kAnnealingStart': 82.54917720206078, 'kSkipRatio': 0.7985001318803123, 'kTargetDeterminationTrials': 4, 'kAttractionRatio': 0.19527219628862125, 'kMaxAttractionDistance': 7, 'kStartAttraction': 0.008420900662824974}. Best is trial 43 with value: 7248.29381443299.\u001b[0m\n"
     ]
    },
    {
     "name": "stdout",
     "output_type": "stream",
     "text": [
      "index_parallel='0063'\n"
     ]
    },
    {
     "name": "stderr",
     "output_type": "stream",
     "text": [
      "\u001b[32m[I 2022-08-16 01:19:54,852]\u001b[0m Trial 63 finished with value: 7207.860824742268 and parameters: {'kErase': 3, 'kRadius': 3, 'kAnnealingA': -2.7564366263897786, 'kAnnealingB': 0.29458063157070763, 'kAnnealingStart': 99.51102351648457, 'kSkipRatio': 0.7748581506643014, 'kTargetDeterminationTrials': 3, 'kAttractionRatio': 0.11383227755897651, 'kMaxAttractionDistance': 10, 'kStartAttraction': 0.006629381108017643}. Best is trial 43 with value: 7248.29381443299.\u001b[0m\n"
     ]
    },
    {
     "name": "stdout",
     "output_type": "stream",
     "text": [
      "index_parallel='0064'\n"
     ]
    },
    {
     "name": "stderr",
     "output_type": "stream",
     "text": [
      "\u001b[32m[I 2022-08-16 01:23:38,621]\u001b[0m Trial 64 finished with value: 7213.139175257732 and parameters: {'kErase': 3, 'kRadius': 3, 'kAnnealingA': -5.042764075064993, 'kAnnealingB': 0.6125469002748588, 'kAnnealingStart': 62.871376829380296, 'kSkipRatio': 0.7424021863085479, 'kTargetDeterminationTrials': 6, 'kAttractionRatio': 0.08926256791928877, 'kMaxAttractionDistance': 8, 'kStartAttraction': 0.00603237511934308}. Best is trial 43 with value: 7248.29381443299.\u001b[0m\n"
     ]
    },
    {
     "name": "stdout",
     "output_type": "stream",
     "text": [
      "index_parallel='0065'\n"
     ]
    },
    {
     "name": "stderr",
     "output_type": "stream",
     "text": [
      "\u001b[32m[I 2022-08-16 01:27:22,298]\u001b[0m Trial 65 finished with value: 7217.448453608247 and parameters: {'kErase': 3, 'kRadius': 2, 'kAnnealingA': -1.0666299021732575, 'kAnnealingB': 0.4250326150996195, 'kAnnealingStart': 54.03045770208625, 'kSkipRatio': 0.7244700902338539, 'kTargetDeterminationTrials': 2, 'kAttractionRatio': 0.15636945694538382, 'kMaxAttractionDistance': 11, 'kStartAttraction': 0.034214591305704506}. Best is trial 43 with value: 7248.29381443299.\u001b[0m\n"
     ]
    },
    {
     "name": "stdout",
     "output_type": "stream",
     "text": [
      "index_parallel='0066'\n"
     ]
    },
    {
     "name": "stderr",
     "output_type": "stream",
     "text": [
      "\u001b[32m[I 2022-08-16 01:31:06,363]\u001b[0m Trial 66 finished with value: 7249.907216494846 and parameters: {'kErase': 3, 'kRadius': 3, 'kAnnealingA': 0.5579749848268105, 'kAnnealingB': 1.9867365913631545, 'kAnnealingStart': 39.12832848837155, 'kSkipRatio': 0.7707056655523927, 'kTargetDeterminationTrials': 5, 'kAttractionRatio': 0.06252525578818659, 'kMaxAttractionDistance': 9, 'kStartAttraction': 0.0033091374903671724}. Best is trial 66 with value: 7249.907216494846.\u001b[0m\n"
     ]
    },
    {
     "name": "stdout",
     "output_type": "stream",
     "text": [
      "Updated! 7249.907216494846\n",
      "index_parallel='0067'\n"
     ]
    },
    {
     "name": "stderr",
     "output_type": "stream",
     "text": [
      "\u001b[32m[I 2022-08-16 01:34:50,746]\u001b[0m Trial 67 finished with value: 6776.716494845361 and parameters: {'kErase': 3, 'kRadius': 3, 'kAnnealingA': 0.509636709594719, 'kAnnealingB': 1.9570425582819122, 'kAnnealingStart': 45.1932721232119, 'kSkipRatio': 0.5113075444345339, 'kTargetDeterminationTrials': 5, 'kAttractionRatio': 0.041555196845456666, 'kMaxAttractionDistance': 9, 'kStartAttraction': 0.003289597327830342}. Best is trial 66 with value: 7249.907216494846.\u001b[0m\n"
     ]
    },
    {
     "name": "stdout",
     "output_type": "stream",
     "text": [
      "index_parallel='0068'\n"
     ]
    },
    {
     "name": "stderr",
     "output_type": "stream",
     "text": [
      "\u001b[32m[I 2022-08-16 01:38:34,351]\u001b[0m Trial 68 finished with value: 7251.644329896907 and parameters: {'kErase': 2, 'kRadius': 3, 'kAnnealingA': 2.4377903349469543, 'kAnnealingB': 1.2955464484854393, 'kAnnealingStart': 36.60619627368303, 'kSkipRatio': 0.7482125081256045, 'kTargetDeterminationTrials': 10, 'kAttractionRatio': 0.056860246255511136, 'kMaxAttractionDistance': 6, 'kStartAttraction': 0.004844731702483671}. Best is trial 68 with value: 7251.644329896907.\u001b[0m\n"
     ]
    },
    {
     "name": "stdout",
     "output_type": "stream",
     "text": [
      "Updated! 7251.644329896907\n",
      "index_parallel='0069'\n"
     ]
    },
    {
     "name": "stderr",
     "output_type": "stream",
     "text": [
      "\u001b[32m[I 2022-08-16 01:42:18,043]\u001b[0m Trial 69 finished with value: 7252.396907216495 and parameters: {'kErase': 2, 'kRadius': 4, 'kAnnealingA': 2.2703340194865698, 'kAnnealingB': 1.4904195675845822, 'kAnnealingStart': 36.00064809079544, 'kSkipRatio': 0.7071241780777419, 'kTargetDeterminationTrials': 11, 'kAttractionRatio': 0.054113697418634185, 'kMaxAttractionDistance': 6, 'kStartAttraction': 0.002604536407413457}. Best is trial 69 with value: 7252.396907216495.\u001b[0m\n"
     ]
    },
    {
     "name": "stdout",
     "output_type": "stream",
     "text": [
      "Updated! 7252.396907216495\n",
      "index_parallel='0070'\n"
     ]
    },
    {
     "name": "stderr",
     "output_type": "stream",
     "text": [
      "\u001b[32m[I 2022-08-16 01:46:01,321]\u001b[0m Trial 70 finished with value: 7107.716494845361 and parameters: {'kErase': 1, 'kRadius': 4, 'kAnnealingA': 5.694860200142331, 'kAnnealingB': 1.4366103996527042, 'kAnnealingStart': 36.063543942010874, 'kSkipRatio': 0.7138657915576395, 'kTargetDeterminationTrials': 15, 'kAttractionRatio': 0.06426921038923834, 'kMaxAttractionDistance': 6, 'kStartAttraction': 0.0017341521572870329}. Best is trial 69 with value: 7252.396907216495.\u001b[0m\n"
     ]
    },
    {
     "name": "stdout",
     "output_type": "stream",
     "text": [
      "index_parallel='0071'\n"
     ]
    },
    {
     "name": "stderr",
     "output_type": "stream",
     "text": [
      "\u001b[32m[I 2022-08-16 01:49:45,087]\u001b[0m Trial 71 finished with value: 7217.355670103093 and parameters: {'kErase': 2, 'kRadius': 4, 'kAnnealingA': 2.965779737714751, 'kAnnealingB': 1.2787123790750805, 'kAnnealingStart': 31.418594593786857, 'kSkipRatio': 0.7515863378889075, 'kTargetDeterminationTrials': 12, 'kAttractionRatio': 0.057504278412445, 'kMaxAttractionDistance': 4, 'kStartAttraction': 0.0027423443894263226}. Best is trial 69 with value: 7252.396907216495.\u001b[0m\n"
     ]
    },
    {
     "name": "stdout",
     "output_type": "stream",
     "text": [
      "index_parallel='0072'\n"
     ]
    },
    {
     "name": "stderr",
     "output_type": "stream",
     "text": [
      "\u001b[32m[I 2022-08-16 01:53:28,895]\u001b[0m Trial 72 finished with value: 7197.618556701031 and parameters: {'kErase': 2, 'kRadius': 3, 'kAnnealingA': 2.3211959635971935, 'kAnnealingB': 1.717893723148031, 'kAnnealingStart': 38.62933380484207, 'kSkipRatio': 0.7878506226273497, 'kTargetDeterminationTrials': 10, 'kAttractionRatio': 0.033783689299389894, 'kMaxAttractionDistance': 7, 'kStartAttraction': 0.004298408109646126}. Best is trial 69 with value: 7252.396907216495.\u001b[0m\n"
     ]
    },
    {
     "name": "stdout",
     "output_type": "stream",
     "text": [
      "index_parallel='0073'\n"
     ]
    },
    {
     "name": "stderr",
     "output_type": "stream",
     "text": [
      "\u001b[32m[I 2022-08-16 01:57:12,428]\u001b[0m Trial 73 finished with value: 6922.850515463918 and parameters: {'kErase': 1, 'kRadius': 3, 'kAnnealingA': 0.9038779488888862, 'kAnnealingB': 1.8925277227467499, 'kAnnealingStart': 14.28217522785004, 'kSkipRatio': 0.7530358051748278, 'kTargetDeterminationTrials': 12, 'kAttractionRatio': 0.05813525106100028, 'kMaxAttractionDistance': 5, 'kStartAttraction': 0.004982198951698466}. Best is trial 69 with value: 7252.396907216495.\u001b[0m\n"
     ]
    },
    {
     "name": "stdout",
     "output_type": "stream",
     "text": [
      "index_parallel='0074'\n"
     ]
    },
    {
     "name": "stderr",
     "output_type": "stream",
     "text": [
      "\u001b[32m[I 2022-08-16 02:00:56,041]\u001b[0m Trial 74 finished with value: 6972.40206185567 and parameters: {'kErase': 2, 'kRadius': 4, 'kAnnealingA': 7.285529587443065, 'kAnnealingB': 1.3372533701526803, 'kAnnealingStart': 9.393174369406568, 'kSkipRatio': 0.7325636622630299, 'kTargetDeterminationTrials': 16, 'kAttractionRatio': 0.04111398021180522, 'kMaxAttractionDistance': 6, 'kStartAttraction': 0.0036575683317677005}. Best is trial 69 with value: 7252.396907216495.\u001b[0m\n"
     ]
    },
    {
     "name": "stdout",
     "output_type": "stream",
     "text": [
      "index_parallel='0075'\n"
     ]
    },
    {
     "name": "stderr",
     "output_type": "stream",
     "text": [
      "\u001b[32m[I 2022-08-16 02:04:39,541]\u001b[0m Trial 75 finished with value: 7223.917525773196 and parameters: {'kErase': 2, 'kRadius': 3, 'kAnnealingA': 2.1770413359349137, 'kAnnealingB': 1.6094809744757468, 'kAnnealingStart': 48.15223595886775, 'kSkipRatio': 0.6951528579599546, 'kTargetDeterminationTrials': 9, 'kAttractionRatio': 0.08129357187451006, 'kMaxAttractionDistance': 5, 'kStartAttraction': 0.0026418281111856815}. Best is trial 69 with value: 7252.396907216495.\u001b[0m\n"
     ]
    },
    {
     "name": "stdout",
     "output_type": "stream",
     "text": [
      "index_parallel='0076'\n"
     ]
    },
    {
     "name": "stderr",
     "output_type": "stream",
     "text": [
      "\u001b[32m[I 2022-08-16 02:08:23,223]\u001b[0m Trial 76 finished with value: 7152.113402061856 and parameters: {'kErase': 2, 'kRadius': 4, 'kAnnealingA': -1.0694763947486983, 'kAnnealingB': 2.0676000475263434, 'kAnnealingStart': 21.867982252194572, 'kSkipRatio': 0.6642862434161769, 'kTargetDeterminationTrials': 17, 'kAttractionRatio': 0.0663800316343706, 'kMaxAttractionDistance': 7, 'kStartAttraction': 0.8382180292899752}. Best is trial 69 with value: 7252.396907216495.\u001b[0m\n"
     ]
    },
    {
     "name": "stdout",
     "output_type": "stream",
     "text": [
      "index_parallel='0077'\n"
     ]
    },
    {
     "name": "stderr",
     "output_type": "stream",
     "text": [
      "\u001b[32m[I 2022-08-16 02:12:06,810]\u001b[0m Trial 77 finished with value: 7198.046391752578 and parameters: {'kErase': 2, 'kRadius': 4, 'kAnnealingA': 3.526688861044656, 'kAnnealingB': 1.5245597820717518, 'kAnnealingStart': 35.153414705162255, 'kSkipRatio': 0.7579831854868796, 'kTargetDeterminationTrials': 11, 'kAttractionRatio': 0.05597392204476661, 'kMaxAttractionDistance': 8, 'kStartAttraction': 0.34156126374051793}. Best is trial 69 with value: 7252.396907216495.\u001b[0m\n"
     ]
    },
    {
     "name": "stdout",
     "output_type": "stream",
     "text": [
      "index_parallel='0078'\n"
     ]
    },
    {
     "name": "stderr",
     "output_type": "stream",
     "text": [
      "\u001b[32m[I 2022-08-16 02:15:50,591]\u001b[0m Trial 78 finished with value: 7237.659793814433 and parameters: {'kErase': 3, 'kRadius': 3, 'kAnnealingA': -0.3044436939815284, 'kAnnealingB': 2.30597519051822, 'kAnnealingStart': 41.82425397521184, 'kSkipRatio': 0.785370891306946, 'kTargetDeterminationTrials': 7, 'kAttractionRatio': 0.10326425039275616, 'kMaxAttractionDistance': 9, 'kStartAttraction': 0.00799527056431179}. Best is trial 69 with value: 7252.396907216495.\u001b[0m\n"
     ]
    },
    {
     "name": "stdout",
     "output_type": "stream",
     "text": [
      "index_parallel='0079'\n"
     ]
    },
    {
     "name": "stderr",
     "output_type": "stream",
     "text": [
      "\u001b[32m[I 2022-08-16 02:19:34,744]\u001b[0m Trial 79 finished with value: 7211.448453608247 and parameters: {'kErase': 4, 'kRadius': 3, 'kAnnealingA': 1.3300496084550741, 'kAnnealingB': 2.5949211815084148, 'kAnnealingStart': 27.999018762566266, 'kSkipRatio': 0.799261215972435, 'kTargetDeterminationTrials': 10, 'kAttractionRatio': 0.10433964940712716, 'kMaxAttractionDistance': 8, 'kStartAttraction': 0.0024150458118943306}. Best is trial 69 with value: 7252.396907216495.\u001b[0m\n"
     ]
    },
    {
     "name": "stdout",
     "output_type": "stream",
     "text": [
      "index_parallel='0080'\n"
     ]
    },
    {
     "name": "stderr",
     "output_type": "stream",
     "text": [
      "\u001b[32m[I 2022-08-16 02:23:18,475]\u001b[0m Trial 80 finished with value: 6645.2525773195875 and parameters: {'kErase': 2, 'kRadius': 3, 'kAnnealingA': -2.0672400415053795, 'kAnnealingB': 2.23868400185155, 'kAnnealingStart': 1.5963487723807863, 'kSkipRatio': 0.7063897264209266, 'kTargetDeterminationTrials': 8, 'kAttractionRatio': 0.029555785210033735, 'kMaxAttractionDistance': 7, 'kStartAttraction': 0.0014161484789295918}. Best is trial 69 with value: 7252.396907216495.\u001b[0m\n"
     ]
    },
    {
     "name": "stdout",
     "output_type": "stream",
     "text": [
      "index_parallel='0081'\n"
     ]
    },
    {
     "name": "stderr",
     "output_type": "stream",
     "text": [
      "\u001b[32m[I 2022-08-16 02:27:02,377]\u001b[0m Trial 81 finished with value: 7265.572164948454 and parameters: {'kErase': 3, 'kRadius': 3, 'kAnnealingA': 0.4000735102140268, 'kAnnealingB': 2.328431721834443, 'kAnnealingStart': 43.54428040612446, 'kSkipRatio': 0.7770674344114636, 'kTargetDeterminationTrials': 9, 'kAttractionRatio': 0.12282243537123742, 'kMaxAttractionDistance': 9, 'kStartAttraction': 0.007408872952448912}. Best is trial 81 with value: 7265.572164948454.\u001b[0m\n"
     ]
    },
    {
     "name": "stdout",
     "output_type": "stream",
     "text": [
      "Updated! 7265.572164948454\n",
      "index_parallel='0082'\n"
     ]
    },
    {
     "name": "stderr",
     "output_type": "stream",
     "text": [
      "\u001b[32m[I 2022-08-16 02:30:46,424]\u001b[0m Trial 82 finished with value: 7246.190721649485 and parameters: {'kErase': 3, 'kRadius': 3, 'kAnnealingA': -0.2552293505576461, 'kAnnealingB': 2.379126566174273, 'kAnnealingStart': 41.15578193863908, 'kSkipRatio': 0.7484369765673503, 'kTargetDeterminationTrials': 7, 'kAttractionRatio': 0.08552253635506481, 'kMaxAttractionDistance': 10, 'kStartAttraction': 0.014266860488533827}. Best is trial 81 with value: 7265.572164948454.\u001b[0m\n"
     ]
    },
    {
     "name": "stdout",
     "output_type": "stream",
     "text": [
      "index_parallel='0083'\n"
     ]
    },
    {
     "name": "stderr",
     "output_type": "stream",
     "text": [
      "\u001b[32m[I 2022-08-16 02:34:30,292]\u001b[0m Trial 83 finished with value: 7248.262886597938 and parameters: {'kErase': 3, 'kRadius': 3, 'kAnnealingA': 0.010493847204759543, 'kAnnealingB': 2.3731493059615563, 'kAnnealingStart': 40.43395841626342, 'kSkipRatio': 0.7447610430551176, 'kTargetDeterminationTrials': 9, 'kAttractionRatio': 0.0812150998493873, 'kMaxAttractionDistance': 10, 'kStartAttraction': 0.014142378631251012}. Best is trial 81 with value: 7265.572164948454.\u001b[0m\n"
     ]
    },
    {
     "name": "stdout",
     "output_type": "stream",
     "text": [
      "index_parallel='0084'\n"
     ]
    }
   ],
   "source": [
    "study.optimize(\n",
    "    partial(objective, in_dir=in_dir, work_dir=work_dir),\n",
    "    n_trials=3000,\n",
    "    timeout=86400,\n",
    "    callbacks=[callback]\n",
    ")"
   ]
  },
  {
   "cell_type": "code",
   "execution_count": null,
   "id": "e62edb30",
   "metadata": {},
   "outputs": [],
   "source": []
  }
 ],
 "metadata": {
  "kernelspec": {
   "display_name": "Python 3 (ipykernel)",
   "language": "python",
   "name": "python3"
  },
  "language_info": {
   "codemirror_mode": {
    "name": "ipython",
    "version": 3
   },
   "file_extension": ".py",
   "mimetype": "text/x-python",
   "name": "python",
   "nbconvert_exporter": "python",
   "pygments_lexer": "ipython3",
   "version": "3.9.12"
  }
 },
 "nbformat": 4,
 "nbformat_minor": 5
}
