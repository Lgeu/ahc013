{
 "cells": [
  {
   "cell_type": "code",
   "execution_count": 1,
   "id": "cc7e047d",
   "metadata": {},
   "outputs": [],
   "source": [
    "import re\n",
    "import sys\n",
    "from uuid import uuid1\n",
    "from time import sleep\n",
    "from pprint import pprint\n",
    "from pathlib import Path\n",
    "from tempfile import gettempdir\n",
    "from threading import Thread\n",
    "from functools import partial\n",
    "from subprocess import Popen, PIPE\n",
    "\n",
    "from tqdm.notebook import tqdm\n",
    "import numpy as np\n",
    "import optuna\n",
    "import pandas as pd\n",
    "import matplotlib.pyplot as plt\n",
    "\n",
    "FILENAME = \"main.cpp\""
   ]
  },
  {
   "cell_type": "code",
   "execution_count": 2,
   "id": "cc679ce4",
   "metadata": {},
   "outputs": [
    {
     "name": "stdout",
     "output_type": "stream",
     "text": [
      "10 variables were found.\n"
     ]
    },
    {
     "data": {
      "text/html": [
       "<div>\n",
       "<style scoped>\n",
       "    .dataframe tbody tr th:only-of-type {\n",
       "        vertical-align: middle;\n",
       "    }\n",
       "\n",
       "    .dataframe tbody tr th {\n",
       "        vertical-align: top;\n",
       "    }\n",
       "\n",
       "    .dataframe thead th {\n",
       "        text-align: right;\n",
       "    }\n",
       "</style>\n",
       "<table border=\"1\" class=\"dataframe\">\n",
       "  <thead>\n",
       "    <tr style=\"text-align: right;\">\n",
       "      <th></th>\n",
       "      <th>name</th>\n",
       "      <th>method</th>\n",
       "      <th>min</th>\n",
       "      <th>max</th>\n",
       "      <th>log</th>\n",
       "      <th>left</th>\n",
       "      <th>right</th>\n",
       "    </tr>\n",
       "  </thead>\n",
       "  <tbody>\n",
       "    <tr>\n",
       "      <th>0</th>\n",
       "      <td>kErase</td>\n",
       "      <td>suggest_int</td>\n",
       "      <td>1.000</td>\n",
       "      <td>5.0</td>\n",
       "      <td>False</td>\n",
       "      <td>static constexpr auto kErase =</td>\n",
       "      <td>;             // OPTIMIZE [1, 5]</td>\n",
       "    </tr>\n",
       "    <tr>\n",
       "      <th>1</th>\n",
       "      <td>kRadius</td>\n",
       "      <td>suggest_int</td>\n",
       "      <td>2.000</td>\n",
       "      <td>6.0</td>\n",
       "      <td>False</td>\n",
       "      <td>static constexpr auto kRadius =</td>\n",
       "      <td>;            // OPTIMIZE [2, 6]</td>\n",
       "    </tr>\n",
       "    <tr>\n",
       "      <th>2</th>\n",
       "      <td>kAnnealingA</td>\n",
       "      <td>suggest_float</td>\n",
       "      <td>-15.000</td>\n",
       "      <td>15.0</td>\n",
       "      <td>False</td>\n",
       "      <td>static constexpr auto kAnnealingA =</td>\n",
       "      <td>;      // OPTIMIZE [-15.0, 15.0]</td>\n",
       "    </tr>\n",
       "    <tr>\n",
       "      <th>3</th>\n",
       "      <td>kAnnealingB</td>\n",
       "      <td>suggest_float</td>\n",
       "      <td>0.000</td>\n",
       "      <td>3.0</td>\n",
       "      <td>False</td>\n",
       "      <td>static constexpr auto kAnnealingB =</td>\n",
       "      <td>;      // OPTIMIZE [0.0, 3.0]</td>\n",
       "    </tr>\n",
       "    <tr>\n",
       "      <th>4</th>\n",
       "      <td>kAnnealingStart</td>\n",
       "      <td>suggest_float</td>\n",
       "      <td>1.000</td>\n",
       "      <td>100.0</td>\n",
       "      <td>True</td>\n",
       "      <td>static constexpr auto kAnnealingStart =</td>\n",
       "      <td>; // OPTIMIZE LOG [1.0, 100.0]</td>\n",
       "    </tr>\n",
       "    <tr>\n",
       "      <th>5</th>\n",
       "      <td>kSkipRatio</td>\n",
       "      <td>suggest_float</td>\n",
       "      <td>0.200</td>\n",
       "      <td>0.8</td>\n",
       "      <td>False</td>\n",
       "      <td>static constexpr auto kSkipRatio =</td>\n",
       "      <td>;       // OPTIMIZE [0.2, 0.8]</td>\n",
       "    </tr>\n",
       "    <tr>\n",
       "      <th>6</th>\n",
       "      <td>kTargetDeterminationTrials</td>\n",
       "      <td>suggest_int</td>\n",
       "      <td>1.000</td>\n",
       "      <td>20.0</td>\n",
       "      <td>True</td>\n",
       "      <td>static constexpr auto kTargetDeterminationTria...</td>\n",
       "      <td>; // OPTIMIZE LOG [1, 20]</td>\n",
       "    </tr>\n",
       "    <tr>\n",
       "      <th>7</th>\n",
       "      <td>kAttractionRatio</td>\n",
       "      <td>suggest_float</td>\n",
       "      <td>0.010</td>\n",
       "      <td>0.9</td>\n",
       "      <td>True</td>\n",
       "      <td>static constexpr auto kAttractionRatio =</td>\n",
       "      <td>;      // OPTIMIZE LOG [0.01, 0.9]</td>\n",
       "    </tr>\n",
       "    <tr>\n",
       "      <th>8</th>\n",
       "      <td>kMaxAttractionDistance</td>\n",
       "      <td>suggest_int</td>\n",
       "      <td>4.000</td>\n",
       "      <td>99.0</td>\n",
       "      <td>True</td>\n",
       "      <td>static constexpr auto kMaxAttractionDistance =</td>\n",
       "      <td>; // OPTIMIZE LOG [4, 99]</td>\n",
       "    </tr>\n",
       "    <tr>\n",
       "      <th>9</th>\n",
       "      <td>kStartAttraction</td>\n",
       "      <td>suggest_float</td>\n",
       "      <td>0.001</td>\n",
       "      <td>0.9</td>\n",
       "      <td>True</td>\n",
       "      <td>static constexpr auto kStartAttraction =</td>\n",
       "      <td>;     // OPTIMIZE LOG [0.001, 0.9]</td>\n",
       "    </tr>\n",
       "  </tbody>\n",
       "</table>\n",
       "</div>"
      ],
      "text/plain": [
       "                         name         method     min    max    log  \\\n",
       "0                      kErase    suggest_int   1.000    5.0  False   \n",
       "1                     kRadius    suggest_int   2.000    6.0  False   \n",
       "2                 kAnnealingA  suggest_float -15.000   15.0  False   \n",
       "3                 kAnnealingB  suggest_float   0.000    3.0  False   \n",
       "4             kAnnealingStart  suggest_float   1.000  100.0   True   \n",
       "5                  kSkipRatio  suggest_float   0.200    0.8  False   \n",
       "6  kTargetDeterminationTrials    suggest_int   1.000   20.0   True   \n",
       "7            kAttractionRatio  suggest_float   0.010    0.9   True   \n",
       "8      kMaxAttractionDistance    suggest_int   4.000   99.0   True   \n",
       "9            kStartAttraction  suggest_float   0.001    0.9   True   \n",
       "\n",
       "                                                left  \\\n",
       "0                    static constexpr auto kErase =    \n",
       "1                   static constexpr auto kRadius =    \n",
       "2               static constexpr auto kAnnealingA =    \n",
       "3               static constexpr auto kAnnealingB =    \n",
       "4           static constexpr auto kAnnealingStart =    \n",
       "5                static constexpr auto kSkipRatio =    \n",
       "6  static constexpr auto kTargetDeterminationTria...   \n",
       "7          static constexpr auto kAttractionRatio =    \n",
       "8    static constexpr auto kMaxAttractionDistance =    \n",
       "9          static constexpr auto kStartAttraction =    \n",
       "\n",
       "                                right  \n",
       "0    ;             // OPTIMIZE [1, 5]  \n",
       "1     ;            // OPTIMIZE [2, 6]  \n",
       "2    ;      // OPTIMIZE [-15.0, 15.0]  \n",
       "3       ;      // OPTIMIZE [0.0, 3.0]  \n",
       "4      ; // OPTIMIZE LOG [1.0, 100.0]  \n",
       "5      ;       // OPTIMIZE [0.2, 0.8]  \n",
       "6           ; // OPTIMIZE LOG [1, 20]  \n",
       "7  ;      // OPTIMIZE LOG [0.01, 0.9]  \n",
       "8           ; // OPTIMIZE LOG [4, 99]  \n",
       "9  ;     // OPTIMIZE LOG [0.001, 0.9]  "
      ]
     },
     "metadata": {},
     "output_type": "display_data"
    }
   ],
   "source": [
    "# ここでエラー出力は何かおかしいかもしれない\n",
    "\n",
    "\n",
    "# パラメータ抽出\n",
    "with open(FILENAME) as f:\n",
    "    answer = f.read()\n",
    "\n",
    "\n",
    "variables_optimize = []\n",
    "\n",
    "for left, value, right, options in re.findall(r\"^([^/\\n]*=\\s*)(.+?)(\\s*;\\s*//(?:.*\\W)?OPTIMIZE(\\W.*))$\", answer, re.MULTILINE):\n",
    "    name = left.replace(\"=\", \"\").strip().split()[-1]\n",
    "    \n",
    "    searched = re.search(r\".*\\[(?P<min>.*),(?P<max>.*)\\].*\", options)\n",
    "    if searched:\n",
    "        min_value = max_value = None\n",
    "        try:\n",
    "            min_value = eval(searched.group(\"min\"))\n",
    "            max_value = eval(searched.group(\"max\"))\n",
    "            assert min_value <= max_value\n",
    "        except Exception as e:\n",
    "            print(f\"searched={searched}\", file=sys.stderr)\n",
    "            print(e, file=sys.stderr)\n",
    "            continue\n",
    "        log = \"LOG\" in options  # 雑、直したほうが良い\n",
    "        if type(min_value) != type(max_value):\n",
    "            print(f\"searched={searched}\", file=sys.stderr)\n",
    "            print(\"types not matched\", file=sys.stderr)\n",
    "            continue\n",
    "        if isinstance(min_value, int):\n",
    "            method = \"suggest_int\"\n",
    "        elif isinstance(min_value, float):\n",
    "            method = \"suggest_float\"\n",
    "        else:\n",
    "            print(f\"searched={searched}\", file=sys.stderr)\n",
    "            print(f\"unknown type ({type(min_value)})\", file=sys.stderr)\n",
    "            continue\n",
    "        variables_optimize.append({\n",
    "            \"name\": name,\n",
    "            \"method\": method,\n",
    "            \"min\": min_value,\n",
    "            \"max\": max_value,\n",
    "            \"log\": log,\n",
    "            \"left\": left,\n",
    "            \"right\": right,\n",
    "        })\n",
    "    elif searched := re.search(r\".*\\{(?P<choices>.*?)\\}.*\", options):\n",
    "        choices = list(map(lambda x: x.strip(), searched.group(\"choices\").split(\",\")))\n",
    "        variables_optimize.append({\n",
    "            \"name\": name,\n",
    "            \"method\": \"suggest_categorical\",\n",
    "            \"choices\": choices,\n",
    "            \"left\": left,\n",
    "            \"right\": right,\n",
    "        })\n",
    "    else:\n",
    "        print(f\"searched={searched}\", file=sys.stderr)\n",
    "        print(f\"pattern was matched but options are incorrect.\", file=sys.stderr)\n",
    "\n",
    "print(len(variables_optimize), \"variables were found.\")\n",
    "if globals().get(\"pd\"):\n",
    "    display(pd.DataFrame(variables_optimize))\n",
    "else:\n",
    "    pprint(variables_optimize)"
   ]
  },
  {
   "cell_type": "code",
   "execution_count": 3,
   "id": "8bb8bc8f",
   "metadata": {},
   "outputs": [],
   "source": [
    "def escape(string):  # 正規表現の中でそのまま使いたい文字列をエスケープ\n",
    "    res = !echo '{string}' | sed -e 's/[]\\/$*.^[]/\\\\&/g'\n",
    "    return res[0]\n",
    "\n",
    "def escape_sed(string):  # sed の置換後の文字列用のエスケープ\n",
    "    res = !echo '{string}' | sed -e 's/[\\/&]/\\\\&/g'\n",
    "    return res[0]\n",
    "\n",
    "def read_stream(name, in_file, out_file):\n",
    "    for line in in_file:\n",
    "        print(f\"[{name}] {line.strip()}\", file=out_file)\n",
    "\n",
    "def run(cmd, name):\n",
    "    proc = Popen(cmd, stdout=PIPE, stderr=PIPE, universal_newlines=True, shell=isinstance(cmd, str))\n",
    "    stdout_thread = Thread(target=read_stream, args=(name, proc.stdout, sys.stdout))\n",
    "    stderr_thread = Thread(target=read_stream, args=(name, proc.stderr, sys.stderr))\n",
    "    stdout_thread.start()\n",
    "    stderr_thread.start()\n",
    "    proc.wait()\n",
    "    return proc\n",
    "\n",
    "def objective(trial, in_dir, work_dir):\n",
    "    n_internal_parallel = 3\n",
    "    \n",
    "    index_parallel = f\"{trial.number:04d}\"\n",
    "    print(f\"{index_parallel=}\")\n",
    "    \n",
    "    work_dir = Path(work_dir)\n",
    "    directory_input = Path(in_dir)  # 中のすべてのファイルに対して実行される\n",
    "    #parameters_changed_filename = Path(gettempdir()) / str(uuid1())\n",
    "    parameters_changed_filename = work_dir / f\"{index_parallel}_{FILENAME}\"\n",
    "    \n",
    "    run([\"mkdir\", f\"{work_dir / index_parallel}_out\"], \"mkdir\")\n",
    "    run([\"mkdir\", f\"{work_dir / index_parallel}_score\"], \"mkdir\")\n",
    "    \n",
    "    # ファイル作成\n",
    "    run(f\"cp {FILENAME} {parameters_changed_filename}\", \"cp\")\n",
    "    sed_options = [f\"-i {parameters_changed_filename}\"]\n",
    "    for variable in variables_optimize:\n",
    "        if variable[\"method\"] == \"suggest_categorical\":\n",
    "            val =  trial.suggest_categorical(variable[\"name\"], variable[\"choices\"])\n",
    "        else:\n",
    "            val = getattr(trial, variable[\"method\"])(variable[\"name\"], variable[\"min\"], variable[\"max\"], log=variable[\"log\"])\n",
    "        left = variable[\"left\"]\n",
    "        right = variable[\"right\"]\n",
    "        sed_options.append(f\"\"\"-e 's/^{escape(left)}.*{escape(right)}$/{escape_sed(left)}{val}{escape_sed(right)}/'\"\"\")\n",
    "    command_sed = f\"sed {' '.join(sed_options)}\"\n",
    "    #print(command_sed)\n",
    "    run(command_sed, \"sed\")\n",
    "    \n",
    "    # コンパイル\n",
    "    command_compile = f\"g++ {parameters_changed_filename} -std=gnu++17 -O2 -DONLINE_JUDGE -o {parameters_changed_filename}.out\"\n",
    "    #print(command_compile)\n",
    "    run(command_compile, \"compile\")\n",
    "    # 実行・採点コマンド (@ はファイル名)\n",
    "    command_exec = (\n",
    "        #f\"./a.out < ./tools/in/{i:04d}.txt > {out_file} && ./tools/target/release/vis ./tools/in/{i:04d}.txt {out_file}\"\n",
    "        #f\"../tools/target/release/tester $(pwd)/{parameters_changed_filename}.out < {directory_input}/@ 2>&1 | grep Score\"\n",
    "        #f\"../tools/target/release/tester $(pwd)/{parameters_changed_filename}.out < {directory_input}/@ 2>&1 | grep Score | sed -E s/[^0-9]+// > ./{index_parallel}_score/@;\"\n",
    "        #f\"cargo run --release --manifest-path ../tools/Cargo.toml --bin tester {directory_input}/@ $(pwd)/{parameters_changed_filename}.out 2>&1 | grep Score | sed -E s/[^0-9]+// > ./{index_parallel}_score/@;\"\n",
    "        f\"./{parameters_changed_filename}.out < {directory_input}/@ > {work_dir / index_parallel}_out/@;\"\n",
    "        f\"../tools/target/release/vis {directory_input}/@ {work_dir / index_parallel}_out/@ 2> /dev/null > {work_dir / index_parallel}_score/@;\"\n",
    "    )\n",
    "    # 並列実行 (sed はパスのディレクトリ部分を消してファイル名にしてる)\n",
    "    run(f\"find {directory_input}/* | sed 's!^.*/!!' | xargs -I@ -P {n_internal_parallel} sh -c '{command_exec}'\", \"exec\")\n",
    "    \n",
    "    # 集計\n",
    "    scores = []\n",
    "    for file_path in Path(f\"{work_dir / index_parallel}_score/\").iterdir():  \n",
    "        with open(file_path) as f:\n",
    "            scores.append(int(f.readline().strip().split()[-1]))\n",
    "    mean_score = sum(scores) / len(scores)\n",
    "    \n",
    "    # 後始末\n",
    "    run(f\"rm -rf {work_dir / index_parallel}_out\", \"rm\")\n",
    "    run(f\"rm -rf {work_dir / index_parallel}_score\", \"rm\")\n",
    "    #run(f\"rm {parameters_changed_filename}\", \"rm\")\n",
    "    run(f\"rm {parameters_changed_filename}.out\", \"rm\")\n",
    "    \n",
    "    return mean_score"
   ]
  },
  {
   "cell_type": "code",
   "execution_count": 4,
   "id": "b02c1286",
   "metadata": {},
   "outputs": [
    {
     "name": "stderr",
     "output_type": "stream",
     "text": [
      "\u001b[32m[I 2022-08-15 21:20:41,266]\u001b[0m A new study created in RDB with name: study_2_1\u001b[0m\n"
     ]
    }
   ],
   "source": [
    "K = 2\n",
    "N_CLASS = 1\n",
    "\n",
    "in_dir = Path(f\"in_{K}_{N_CLASS}\")\n",
    "work_dir = Path(f\"work_{K}_{N_CLASS}\")\n",
    "\n",
    "study_name = f\"study_{K}_{N_CLASS}\"\n",
    "storage_path = work_dir / \"study.db\"\n",
    "storage = f\"sqlite:///{storage_path}\"\n",
    "study = optuna.create_study(storage=storage, load_if_exists=True, study_name=study_name, direction=\"maximize\")\n",
    "\n",
    "def callback(study, trial):\n",
    "    try:\n",
    "        index_parallel = f\"{trial.number:04d}\"\n",
    "        parameters_changed_filename = work_dir / f\"{index_parallel}_{FILENAME}\"\n",
    "        if study.best_value == trial.value:\n",
    "            print(f\"Updated! {study.best_value}\")\n",
    "            !cp {parameters_changed_filename} {work_dir / \"best_parameters.cpp\"}\n",
    "        !rm {parameters_changed_filename}\n",
    "    except:\n",
    "        print(\":(\")\n"
   ]
  },
  {
   "cell_type": "code",
   "execution_count": null,
   "id": "1eb22c4f",
   "metadata": {},
   "outputs": [
    {
     "name": "stdout",
     "output_type": "stream",
     "text": [
      "index_parallel='0186'\n"
     ]
    },
    {
     "name": "stderr",
     "output_type": "stream",
     "text": [
      "\u001b[32m[I 2022-08-16 08:10:36,295]\u001b[0m Trial 186 finished with value: 7212.2525773195875 and parameters: {'kErase': 2, 'kRadius': 3, 'kAnnealingA': -3.454152613641432, 'kAnnealingB': 0.800948747746098, 'kAnnealingStart': 78.03585347281947, 'kSkipRatio': 0.6462664317127493, 'kTargetDeterminationTrials': 16, 'kAttractionRatio': 0.018989732663096184, 'kMaxAttractionDistance': 27, 'kStartAttraction': 0.0018999148291496079}. Best is trial 179 with value: 7275.865979381443.\u001b[0m\n"
     ]
    },
    {
     "name": "stdout",
     "output_type": "stream",
     "text": [
      "index_parallel='0188'\n"
     ]
    },
    {
     "name": "stderr",
     "output_type": "stream",
     "text": [
      "\u001b[32m[I 2022-08-16 08:14:20,116]\u001b[0m Trial 188 finished with value: 7257.273195876289 and parameters: {'kErase': 2, 'kRadius': 3, 'kAnnealingA': -2.3478471223656143, 'kAnnealingB': 0.9155604971657192, 'kAnnealingStart': 58.48876171841994, 'kSkipRatio': 0.6755729645303609, 'kTargetDeterminationTrials': 17, 'kAttractionRatio': 0.014465714144308972, 'kMaxAttractionDistance': 21, 'kStartAttraction': 0.0019771186084408866}. Best is trial 179 with value: 7275.865979381443.\u001b[0m\n"
     ]
    },
    {
     "name": "stdout",
     "output_type": "stream",
     "text": [
      "index_parallel='0190'\n"
     ]
    },
    {
     "name": "stderr",
     "output_type": "stream",
     "text": [
      "\u001b[32m[I 2022-08-16 08:18:04,042]\u001b[0m Trial 190 finished with value: 7234.025773195876 and parameters: {'kErase': 2, 'kRadius': 3, 'kAnnealingA': -2.4024011210823457, 'kAnnealingB': 0.9306513376460153, 'kAnnealingStart': 66.30363861926531, 'kSkipRatio': 0.6593275714042329, 'kTargetDeterminationTrials': 16, 'kAttractionRatio': 0.0121403851146621, 'kMaxAttractionDistance': 20, 'kStartAttraction': 0.002076430125924068}. Best is trial 179 with value: 7275.865979381443.\u001b[0m\n"
     ]
    },
    {
     "name": "stdout",
     "output_type": "stream",
     "text": [
      "index_parallel='0192'\n"
     ]
    },
    {
     "name": "stderr",
     "output_type": "stream",
     "text": [
      "\u001b[32m[I 2022-08-16 08:21:47,818]\u001b[0m Trial 192 finished with value: 7232.644329896907 and parameters: {'kErase': 2, 'kRadius': 3, 'kAnnealingA': -2.0077584449996095, 'kAnnealingB': 0.8871111979517294, 'kAnnealingStart': 58.270386550628174, 'kSkipRatio': 0.6859888779545384, 'kTargetDeterminationTrials': 17, 'kAttractionRatio': 0.01822501605161826, 'kMaxAttractionDistance': 20, 'kStartAttraction': 0.001661278938687307}. Best is trial 179 with value: 7275.865979381443.\u001b[0m\n"
     ]
    },
    {
     "name": "stdout",
     "output_type": "stream",
     "text": [
      "index_parallel='0194'\n"
     ]
    },
    {
     "name": "stderr",
     "output_type": "stream",
     "text": [
      "\u001b[32m[I 2022-08-16 08:25:31,660]\u001b[0m Trial 194 finished with value: 7236.850515463918 and parameters: {'kErase': 2, 'kRadius': 3, 'kAnnealingA': -1.3787302149306255, 'kAnnealingB': 1.1059732391380352, 'kAnnealingStart': 54.745291252645984, 'kSkipRatio': 0.6490201912369123, 'kTargetDeterminationTrials': 14, 'kAttractionRatio': 0.015962432558897902, 'kMaxAttractionDistance': 19, 'kStartAttraction': 0.0019528288012683201}. Best is trial 179 with value: 7275.865979381443.\u001b[0m\n"
     ]
    },
    {
     "name": "stdout",
     "output_type": "stream",
     "text": [
      "index_parallel='0196'\n"
     ]
    },
    {
     "name": "stderr",
     "output_type": "stream",
     "text": [
      "\u001b[32m[I 2022-08-16 08:29:15,515]\u001b[0m Trial 196 finished with value: 7215.231958762886 and parameters: {'kErase': 2, 'kRadius': 3, 'kAnnealingA': -3.9887777833253226, 'kAnnealingB': 0.8378657776942668, 'kAnnealingStart': 58.050220861830155, 'kSkipRatio': 0.6769934143319065, 'kTargetDeterminationTrials': 19, 'kAttractionRatio': 0.014902714983797603, 'kMaxAttractionDistance': 26, 'kStartAttraction': 0.0013306661257781768}. Best is trial 179 with value: 7275.865979381443.\u001b[0m\n"
     ]
    },
    {
     "name": "stdout",
     "output_type": "stream",
     "text": [
      "index_parallel='0198'\n"
     ]
    },
    {
     "name": "stderr",
     "output_type": "stream",
     "text": [
      "\u001b[32m[I 2022-08-16 08:32:59,602]\u001b[0m Trial 198 finished with value: 7245.577319587629 and parameters: {'kErase': 2, 'kRadius': 3, 'kAnnealingA': -1.393362443720383, 'kAnnealingB': 0.7558465841236794, 'kAnnealingStart': 52.31653643524438, 'kSkipRatio': 0.6400363358293412, 'kTargetDeterminationTrials': 18, 'kAttractionRatio': 0.021169868454185916, 'kMaxAttractionDistance': 22, 'kStartAttraction': 0.0022824452725239463}. Best is trial 179 with value: 7275.865979381443.\u001b[0m\n"
     ]
    },
    {
     "name": "stdout",
     "output_type": "stream",
     "text": [
      "index_parallel='0200'\n"
     ]
    },
    {
     "name": "stderr",
     "output_type": "stream",
     "text": [
      "\u001b[32m[I 2022-08-16 08:36:43,709]\u001b[0m Trial 200 finished with value: 6818.845360824742 and parameters: {'kErase': 2, 'kRadius': 3, 'kAnnealingA': -2.92719920607494, 'kAnnealingB': 0.8675612643139977, 'kAnnealingStart': 59.71654627638067, 'kSkipRatio': 0.4359017227682017, 'kTargetDeterminationTrials': 15, 'kAttractionRatio': 0.026175213151861085, 'kMaxAttractionDistance': 21, 'kStartAttraction': 0.0014414502552468264}. Best is trial 179 with value: 7275.865979381443.\u001b[0m\n"
     ]
    },
    {
     "name": "stdout",
     "output_type": "stream",
     "text": [
      "index_parallel='0202'\n"
     ]
    },
    {
     "name": "stderr",
     "output_type": "stream",
     "text": [
      "\u001b[32m[I 2022-08-16 08:40:27,943]\u001b[0m Trial 202 finished with value: 6653.876288659794 and parameters: {'kErase': 2, 'kRadius': 3, 'kAnnealingA': -2.4992127445526924, 'kAnnealingB': 1.3648131486875366, 'kAnnealingStart': 68.34007507526272, 'kSkipRatio': 0.3618015711118383, 'kTargetDeterminationTrials': 16, 'kAttractionRatio': 0.023447422540977494, 'kMaxAttractionDistance': 19, 'kStartAttraction': 0.0017526633819733729}. Best is trial 179 with value: 7275.865979381443.\u001b[0m\n"
     ]
    },
    {
     "name": "stdout",
     "output_type": "stream",
     "text": [
      "index_parallel='0204'\n"
     ]
    },
    {
     "name": "stderr",
     "output_type": "stream",
     "text": [
      "\u001b[32m[I 2022-08-16 08:44:12,086]\u001b[0m Trial 204 finished with value: 6671.350515463918 and parameters: {'kErase': 2, 'kRadius': 3, 'kAnnealingA': -0.9517635380781522, 'kAnnealingB': 0.9390837931610382, 'kAnnealingStart': 1.9752688901427273, 'kSkipRatio': 0.6507933584355582, 'kTargetDeterminationTrials': 17, 'kAttractionRatio': 0.031271545479642456, 'kMaxAttractionDistance': 23, 'kStartAttraction': 0.002032578991719462}. Best is trial 179 with value: 7275.865979381443.\u001b[0m\n"
     ]
    },
    {
     "name": "stdout",
     "output_type": "stream",
     "text": [
      "index_parallel='0206'\n"
     ]
    },
    {
     "name": "stderr",
     "output_type": "stream",
     "text": [
      "\u001b[32m[I 2022-08-16 08:47:55,849]\u001b[0m Trial 206 finished with value: 7252.427835051546 and parameters: {'kErase': 2, 'kRadius': 3, 'kAnnealingA': -1.945689660549533, 'kAnnealingB': 1.062749735097305, 'kAnnealingStart': 48.40250345429436, 'kSkipRatio': 0.6690252598044811, 'kTargetDeterminationTrials': 19, 'kAttractionRatio': 0.020389140156273015, 'kMaxAttractionDistance': 21, 'kStartAttraction': 0.0020676790696700868}. Best is trial 179 with value: 7275.865979381443.\u001b[0m\n"
     ]
    },
    {
     "name": "stdout",
     "output_type": "stream",
     "text": [
      "index_parallel='0208'\n"
     ]
    },
    {
     "name": "stderr",
     "output_type": "stream",
     "text": [
      "\u001b[32m[I 2022-08-16 08:51:39,764]\u001b[0m Trial 208 finished with value: 7259.005154639175 and parameters: {'kErase': 2, 'kRadius': 3, 'kAnnealingA': -0.000549965878606562, 'kAnnealingB': 1.1904391452319525, 'kAnnealingStart': 42.31570035197317, 'kSkipRatio': 0.6792904637754253, 'kTargetDeterminationTrials': 14, 'kAttractionRatio': 0.03522116524862338, 'kMaxAttractionDistance': 20, 'kStartAttraction': 0.0011612747835044969}. Best is trial 179 with value: 7275.865979381443.\u001b[0m\n"
     ]
    },
    {
     "name": "stdout",
     "output_type": "stream",
     "text": [
      "index_parallel='0210'\n"
     ]
    },
    {
     "name": "stderr",
     "output_type": "stream",
     "text": [
      "\u001b[32m[I 2022-08-16 08:55:23,868]\u001b[0m Trial 210 finished with value: 7222.360824742268 and parameters: {'kErase': 2, 'kRadius': 3, 'kAnnealingA': 0.15516256293775, 'kAnnealingB': 1.176268846353919, 'kAnnealingStart': 57.372952820903606, 'kSkipRatio': 0.6813406015882914, 'kTargetDeterminationTrials': 16, 'kAttractionRatio': 0.02870262680357884, 'kMaxAttractionDistance': 25, 'kStartAttraction': 0.0024428289403933406}. Best is trial 179 with value: 7275.865979381443.\u001b[0m\n"
     ]
    },
    {
     "name": "stdout",
     "output_type": "stream",
     "text": [
      "index_parallel='0212'\n"
     ]
    },
    {
     "name": "stderr",
     "output_type": "stream",
     "text": [
      "\u001b[32m[I 2022-08-16 08:59:09,042]\u001b[0m Trial 212 finished with value: 7221.8917525773195 and parameters: {'kErase': 2, 'kRadius': 3, 'kAnnealingA': -1.1692031093900526, 'kAnnealingB': 1.2319150770441551, 'kAnnealingStart': 50.856595614570566, 'kSkipRatio': 0.6959959306888228, 'kTargetDeterminationTrials': 14, 'kAttractionRatio': 0.03402164270539651, 'kMaxAttractionDistance': 21, 'kStartAttraction': 0.001566728848679774}. Best is trial 179 with value: 7275.865979381443.\u001b[0m\n"
     ]
    },
    {
     "name": "stdout",
     "output_type": "stream",
     "text": [
      "index_parallel='0214'\n"
     ]
    },
    {
     "name": "stderr",
     "output_type": "stream",
     "text": [
      "\u001b[32m[I 2022-08-16 09:02:53,379]\u001b[0m Trial 214 finished with value: 7245.6752577319585 and parameters: {'kErase': 2, 'kRadius': 3, 'kAnnealingA': -2.045882400529916, 'kAnnealingB': 1.3154799364917549, 'kAnnealingStart': 45.426756288518, 'kSkipRatio': 0.6769192092815567, 'kTargetDeterminationTrials': 13, 'kAttractionRatio': 0.032906195839296985, 'kMaxAttractionDistance': 29, 'kStartAttraction': 0.0013312139526402702}. Best is trial 179 with value: 7275.865979381443.\u001b[0m\n"
     ]
    },
    {
     "name": "stdout",
     "output_type": "stream",
     "text": [
      "index_parallel='0216'\n"
     ]
    },
    {
     "name": "stderr",
     "output_type": "stream",
     "text": [
      "\u001b[32m[I 2022-08-16 09:06:37,404]\u001b[0m Trial 216 finished with value: 7239.231958762886 and parameters: {'kErase': 2, 'kRadius': 3, 'kAnnealingA': -1.4535864399784149, 'kAnnealingB': 1.1198151834242558, 'kAnnealingStart': 57.42728148880385, 'kSkipRatio': 0.6775564574575603, 'kTargetDeterminationTrials': 12, 'kAttractionRatio': 0.017378959277931073, 'kMaxAttractionDistance': 28, 'kStartAttraction': 0.0011498912891863347}. Best is trial 179 with value: 7275.865979381443.\u001b[0m\n"
     ]
    },
    {
     "name": "stdout",
     "output_type": "stream",
     "text": [
      "index_parallel='0218'\n"
     ]
    },
    {
     "name": "stderr",
     "output_type": "stream",
     "text": [
      "\u001b[32m[I 2022-08-16 09:10:21,280]\u001b[0m Trial 218 finished with value: 7252.757731958763 and parameters: {'kErase': 2, 'kRadius': 3, 'kAnnealingA': -2.24077174307651, 'kAnnealingB': 1.2557704823074074, 'kAnnealingStart': 48.75098622688142, 'kSkipRatio': 0.69444380866808, 'kTargetDeterminationTrials': 14, 'kAttractionRatio': 0.01420213255480699, 'kMaxAttractionDistance': 30, 'kStartAttraction': 0.0015279068808115052}. Best is trial 179 with value: 7275.865979381443.\u001b[0m\n"
     ]
    },
    {
     "name": "stdout",
     "output_type": "stream",
     "text": [
      "index_parallel='0220'\n"
     ]
    },
    {
     "name": "stderr",
     "output_type": "stream",
     "text": [
      "\u001b[32m[I 2022-08-16 09:14:05,388]\u001b[0m Trial 220 finished with value: 7260.953608247422 and parameters: {'kErase': 2, 'kRadius': 3, 'kAnnealingA': -1.4096618421703733, 'kAnnealingB': 1.1694899400070764, 'kAnnealingStart': 55.307435216309216, 'kSkipRatio': 0.7152106840218969, 'kTargetDeterminationTrials': 13, 'kAttractionRatio': 0.013014612292502755, 'kMaxAttractionDistance': 27, 'kStartAttraction': 0.0018418508540418176}. Best is trial 179 with value: 7275.865979381443.\u001b[0m\n"
     ]
    },
    {
     "name": "stdout",
     "output_type": "stream",
     "text": [
      "index_parallel='0222'\n"
     ]
    },
    {
     "name": "stderr",
     "output_type": "stream",
     "text": [
      "\u001b[32m[I 2022-08-16 09:17:49,345]\u001b[0m Trial 222 finished with value: 7266.701030927835 and parameters: {'kErase': 2, 'kRadius': 3, 'kAnnealingA': -1.7715456369201985, 'kAnnealingB': 1.3676246719305123, 'kAnnealingStart': 61.108634613903966, 'kSkipRatio': 0.7175858828255631, 'kTargetDeterminationTrials': 13, 'kAttractionRatio': 0.012369837235902598, 'kMaxAttractionDistance': 27, 'kStartAttraction': 0.0018463394519471366}. Best is trial 179 with value: 7275.865979381443.\u001b[0m\n"
     ]
    },
    {
     "name": "stdout",
     "output_type": "stream",
     "text": [
      "index_parallel='0224'\n"
     ]
    },
    {
     "name": "stderr",
     "output_type": "stream",
     "text": [
      "\u001b[32m[I 2022-08-16 09:21:33,184]\u001b[0m Trial 224 finished with value: 7247.603092783505 and parameters: {'kErase': 2, 'kRadius': 3, 'kAnnealingA': -1.8166696805509743, 'kAnnealingB': 1.3425395352860006, 'kAnnealingStart': 53.846671906517116, 'kSkipRatio': 0.7221930423681818, 'kTargetDeterminationTrials': 12, 'kAttractionRatio': 0.012159487386046063, 'kMaxAttractionDistance': 33, 'kStartAttraction': 0.022592069958273536}. Best is trial 179 with value: 7275.865979381443.\u001b[0m\n"
     ]
    },
    {
     "name": "stdout",
     "output_type": "stream",
     "text": [
      "index_parallel='0226'\n"
     ]
    },
    {
     "name": "stderr",
     "output_type": "stream",
     "text": [
      "\u001b[32m[I 2022-08-16 09:25:17,429]\u001b[0m Trial 226 finished with value: 7254.123711340206 and parameters: {'kErase': 2, 'kRadius': 3, 'kAnnealingA': -0.7776390181373909, 'kAnnealingB': 1.3957931899968852, 'kAnnealingStart': 61.3369169975319, 'kSkipRatio': 0.7066091608473464, 'kTargetDeterminationTrials': 12, 'kAttractionRatio': 0.012703197691056115, 'kMaxAttractionDistance': 31, 'kStartAttraction': 0.030103211025526405}. Best is trial 179 with value: 7275.865979381443.\u001b[0m\n"
     ]
    },
    {
     "name": "stdout",
     "output_type": "stream",
     "text": [
      "index_parallel='0228'\n"
     ]
    },
    {
     "name": "stderr",
     "output_type": "stream",
     "text": [
      "\u001b[32m[I 2022-08-16 09:29:01,600]\u001b[0m Trial 228 finished with value: 7267.335051546392 and parameters: {'kErase': 2, 'kRadius': 3, 'kAnnealingA': -2.686456445570427, 'kAnnealingB': 1.1182635184473133, 'kAnnealingStart': 63.42428640900161, 'kSkipRatio': 0.7070870048675701, 'kTargetDeterminationTrials': 11, 'kAttractionRatio': 0.01501190209486894, 'kMaxAttractionDistance': 26, 'kStartAttraction': 0.04369316746029114}. Best is trial 179 with value: 7275.865979381443.\u001b[0m\n"
     ]
    },
    {
     "name": "stdout",
     "output_type": "stream",
     "text": [
      "index_parallel='0230'\n"
     ]
    },
    {
     "name": "stderr",
     "output_type": "stream",
     "text": [
      "\u001b[32m[I 2022-08-16 09:32:45,519]\u001b[0m Trial 230 finished with value: 7236.180412371134 and parameters: {'kErase': 2, 'kRadius': 3, 'kAnnealingA': -2.7284509848954075, 'kAnnealingB': 1.258553886505635, 'kAnnealingStart': 68.47062954097487, 'kSkipRatio': 0.7177595143840341, 'kTargetDeterminationTrials': 11, 'kAttractionRatio': 0.011078308268275886, 'kMaxAttractionDistance': 30, 'kStartAttraction': 0.035670345016170446}. Best is trial 179 with value: 7275.865979381443.\u001b[0m\n"
     ]
    },
    {
     "name": "stdout",
     "output_type": "stream",
     "text": [
      "index_parallel='0232'\n"
     ]
    },
    {
     "name": "stderr",
     "output_type": "stream",
     "text": [
      "\u001b[32m[I 2022-08-16 09:36:29,648]\u001b[0m Trial 232 finished with value: 7215.623711340206 and parameters: {'kErase': 2, 'kRadius': 3, 'kAnnealingA': -3.3542283824938846, 'kAnnealingB': 1.229523378195016, 'kAnnealingStart': 74.6870549189478, 'kSkipRatio': 0.6987977874569842, 'kTargetDeterminationTrials': 13, 'kAttractionRatio': 0.010028709231172356, 'kMaxAttractionDistance': 36, 'kStartAttraction': 0.045949934707813}. Best is trial 179 with value: 7275.865979381443.\u001b[0m\n"
     ]
    },
    {
     "name": "stdout",
     "output_type": "stream",
     "text": [
      "index_parallel='0234'\n"
     ]
    },
    {
     "name": "stderr",
     "output_type": "stream",
     "text": [
      "\u001b[32m[I 2022-08-16 09:40:13,704]\u001b[0m Trial 234 finished with value: 7242.087628865979 and parameters: {'kErase': 2, 'kRadius': 3, 'kAnnealingA': -2.072968054792079, 'kAnnealingB': 1.1471045591363134, 'kAnnealingStart': 57.72153886462091, 'kSkipRatio': 0.6960115287875145, 'kTargetDeterminationTrials': 12, 'kAttractionRatio': 0.01429390790389893, 'kMaxAttractionDistance': 27, 'kStartAttraction': 0.06822418717206867}. Best is trial 179 with value: 7275.865979381443.\u001b[0m\n"
     ]
    },
    {
     "name": "stdout",
     "output_type": "stream",
     "text": [
      "index_parallel='0236'\n"
     ]
    },
    {
     "name": "stderr",
     "output_type": "stream",
     "text": [
      "\u001b[32m[I 2022-08-16 09:43:57,756]\u001b[0m Trial 236 finished with value: 7237.216494845361 and parameters: {'kErase': 2, 'kRadius': 3, 'kAnnealingA': -2.009425168439532, 'kAnnealingB': 1.0964185444498924, 'kAnnealingStart': 46.386442245429, 'kSkipRatio': 0.7131802841967281, 'kTargetDeterminationTrials': 13, 'kAttractionRatio': 0.013241310408339093, 'kMaxAttractionDistance': 49, 'kStartAttraction': 0.02876737864421831}. Best is trial 179 with value: 7275.865979381443.\u001b[0m\n"
     ]
    },
    {
     "name": "stdout",
     "output_type": "stream",
     "text": [
      "index_parallel='0238'\n"
     ]
    },
    {
     "name": "stderr",
     "output_type": "stream",
     "text": [
      "\u001b[32m[I 2022-08-16 09:47:41,773]\u001b[0m Trial 238 finished with value: 7243.309278350515 and parameters: {'kErase': 2, 'kRadius': 3, 'kAnnealingA': -0.5210290667013922, 'kAnnealingB': 1.2131913974004365, 'kAnnealingStart': 63.64987523220451, 'kSkipRatio': 0.7338085090594018, 'kTargetDeterminationTrials': 14, 'kAttractionRatio': 0.017903672645051688, 'kMaxAttractionDistance': 32, 'kStartAttraction': 0.05200407807504765}. Best is trial 179 with value: 7275.865979381443.\u001b[0m\n"
     ]
    },
    {
     "name": "stdout",
     "output_type": "stream",
     "text": [
      "index_parallel='0240'\n"
     ]
    },
    {
     "name": "stderr",
     "output_type": "stream",
     "text": [
      "\u001b[32m[I 2022-08-16 09:51:27,096]\u001b[0m Trial 240 finished with value: 6609.381443298969 and parameters: {'kErase': 2, 'kRadius': 3, 'kAnnealingA': -1.2381535710034048, 'kAnnealingB': 1.312220236881343, 'kAnnealingStart': 1.0029846855353146, 'kSkipRatio': 0.6852229027744392, 'kTargetDeterminationTrials': 11, 'kAttractionRatio': 0.014536464721114242, 'kMaxAttractionDistance': 28, 'kStartAttraction': 0.04014131101392708}. Best is trial 179 with value: 7275.865979381443.\u001b[0m\n"
     ]
    },
    {
     "name": "stdout",
     "output_type": "stream",
     "text": [
      "index_parallel='0242'\n"
     ]
    },
    {
     "name": "stderr",
     "output_type": "stream",
     "text": [
      "\u001b[32m[I 2022-08-16 09:55:11,179]\u001b[0m Trial 242 finished with value: 7226.6082474226805 and parameters: {'kErase': 2, 'kRadius': 3, 'kAnnealingA': -2.6557102077237, 'kAnnealingB': 1.4170705280090403, 'kAnnealingStart': 55.4689736973401, 'kSkipRatio': 0.7081126616283755, 'kTargetDeterminationTrials': 11, 'kAttractionRatio': 0.01599913274150384, 'kMaxAttractionDistance': 37, 'kStartAttraction': 0.04324816779947125}. Best is trial 179 with value: 7275.865979381443.\u001b[0m\n"
     ]
    },
    {
     "name": "stdout",
     "output_type": "stream",
     "text": [
      "index_parallel='0244'\n"
     ]
    },
    {
     "name": "stderr",
     "output_type": "stream",
     "text": [
      "\u001b[32m[I 2022-08-16 09:58:55,368]\u001b[0m Trial 244 finished with value: 7260.567010309278 and parameters: {'kErase': 2, 'kRadius': 3, 'kAnnealingA': -1.5370747878710969, 'kAnnealingB': 1.278715328027224, 'kAnnealingStart': 48.01984814545618, 'kSkipRatio': 0.6879449558786331, 'kTargetDeterminationTrials': 12, 'kAttractionRatio': 0.012690416775768376, 'kMaxAttractionDistance': 26, 'kStartAttraction': 0.025780556279888497}. Best is trial 179 with value: 7275.865979381443.\u001b[0m\n"
     ]
    },
    {
     "name": "stdout",
     "output_type": "stream",
     "text": [
      "index_parallel='0246'\n"
     ]
    },
    {
     "name": "stderr",
     "output_type": "stream",
     "text": [
      "\u001b[32m[I 2022-08-16 10:02:39,747]\u001b[0m Trial 246 finished with value: 7269.984536082474 and parameters: {'kErase': 2, 'kRadius': 3, 'kAnnealingA': -2.39443945935137, 'kAnnealingB': 1.3476656733553296, 'kAnnealingStart': 59.2937435973136, 'kSkipRatio': 0.6905399524550881, 'kTargetDeterminationTrials': 13, 'kAttractionRatio': 0.013070637668535199, 'kMaxAttractionDistance': 26, 'kStartAttraction': 0.03294694533651986}. Best is trial 179 with value: 7275.865979381443.\u001b[0m\n"
     ]
    },
    {
     "name": "stdout",
     "output_type": "stream",
     "text": [
      "index_parallel='0248'\n"
     ]
    },
    {
     "name": "stderr",
     "output_type": "stream",
     "text": [
      "\u001b[32m[I 2022-08-16 10:06:24,436]\u001b[0m Trial 248 finished with value: 7148.144329896907 and parameters: {'kErase': 5, 'kRadius': 3, 'kAnnealingA': -2.5118782926737073, 'kAnnealingB': 1.4003761050992263, 'kAnnealingStart': 60.64495747399749, 'kSkipRatio': 0.6934699989358456, 'kTargetDeterminationTrials': 13, 'kAttractionRatio': 0.012531063233037343, 'kMaxAttractionDistance': 30, 'kStartAttraction': 0.031404345462474566}. Best is trial 179 with value: 7275.865979381443.\u001b[0m\n"
     ]
    },
    {
     "name": "stdout",
     "output_type": "stream",
     "text": [
      "index_parallel='0250'\n"
     ]
    },
    {
     "name": "stderr",
     "output_type": "stream",
     "text": [
      "\u001b[32m[I 2022-08-16 10:10:08,556]\u001b[0m Trial 250 finished with value: 7260.170103092783 and parameters: {'kErase': 2, 'kRadius': 3, 'kAnnealingA': -1.946369179723082, 'kAnnealingB': 1.3621373950777766, 'kAnnealingStart': 67.82153362863365, 'kSkipRatio': 0.7193074125773933, 'kTargetDeterminationTrials': 12, 'kAttractionRatio': 0.014067273593388607, 'kMaxAttractionDistance': 27, 'kStartAttraction': 0.026342843244866805}. Best is trial 179 with value: 7275.865979381443.\u001b[0m\n"
     ]
    },
    {
     "name": "stdout",
     "output_type": "stream",
     "text": [
      "index_parallel='0252'\n"
     ]
    },
    {
     "name": "stderr",
     "output_type": "stream",
     "text": [
      "\u001b[32m[I 2022-08-16 10:13:52,405]\u001b[0m Trial 252 finished with value: 7208.216494845361 and parameters: {'kErase': 2, 'kRadius': 3, 'kAnnealingA': -2.2556010930675168, 'kAnnealingB': 1.4556202352382328, 'kAnnealingStart': 82.74725497942383, 'kSkipRatio': 0.7291781239559103, 'kTargetDeterminationTrials': 11, 'kAttractionRatio': 0.011380731699997041, 'kMaxAttractionDistance': 55, 'kStartAttraction': 0.0246938991242997}. Best is trial 179 with value: 7275.865979381443.\u001b[0m\n"
     ]
    },
    {
     "name": "stdout",
     "output_type": "stream",
     "text": [
      "index_parallel='0254'\n"
     ]
    },
    {
     "name": "stderr",
     "output_type": "stream",
     "text": [
      "\u001b[32m[I 2022-08-16 10:17:36,865]\u001b[0m Trial 254 finished with value: 7241.288659793814 and parameters: {'kErase': 2, 'kRadius': 3, 'kAnnealingA': -3.244600471377067, 'kAnnealingB': 1.376106035214517, 'kAnnealingStart': 67.53389072058631, 'kSkipRatio': 0.718760209534677, 'kTargetDeterminationTrials': 15, 'kAttractionRatio': 0.013543430967527975, 'kMaxAttractionDistance': 25, 'kStartAttraction': 0.037472431322210384}. Best is trial 179 with value: 7275.865979381443.\u001b[0m\n"
     ]
    },
    {
     "name": "stdout",
     "output_type": "stream",
     "text": [
      "index_parallel='0256'\n"
     ]
    },
    {
     "name": "stderr",
     "output_type": "stream",
     "text": [
      "\u001b[32m[I 2022-08-16 10:21:20,957]\u001b[0m Trial 256 finished with value: 7032.654639175258 and parameters: {'kErase': 2, 'kRadius': 3, 'kAnnealingA': -13.679870416144391, 'kAnnealingB': 1.2829674616896776, 'kAnnealingStart': 61.06682529742421, 'kSkipRatio': 0.6869190519113993, 'kTargetDeterminationTrials': 11, 'kAttractionRatio': 0.015581020155529066, 'kMaxAttractionDistance': 27, 'kStartAttraction': 0.018155427593079986}. Best is trial 179 with value: 7275.865979381443.\u001b[0m\n"
     ]
    },
    {
     "name": "stdout",
     "output_type": "stream",
     "text": [
      "index_parallel='0258'\n"
     ]
    },
    {
     "name": "stderr",
     "output_type": "stream",
     "text": [
      "\u001b[32m[I 2022-08-16 10:25:05,287]\u001b[0m Trial 258 finished with value: 7257.221649484536 and parameters: {'kErase': 2, 'kRadius': 3, 'kAnnealingA': -1.9868658304307631, 'kAnnealingB': 0.9928047888271746, 'kAnnealingStart': 57.31723055122258, 'kSkipRatio': 0.6864713675644725, 'kTargetDeterminationTrials': 14, 'kAttractionRatio': 0.01895433552582097, 'kMaxAttractionDistance': 23, 'kStartAttraction': 0.026409359448744268}. Best is trial 179 with value: 7275.865979381443.\u001b[0m\n"
     ]
    },
    {
     "name": "stdout",
     "output_type": "stream",
     "text": [
      "index_parallel='0260'\n"
     ]
    },
    {
     "name": "stderr",
     "output_type": "stream",
     "text": [
      "\u001b[32m[I 2022-08-16 10:28:49,140]\u001b[0m Trial 260 finished with value: 7279.613402061856 and parameters: {'kErase': 2, 'kRadius': 3, 'kAnnealingA': -2.360743455920828, 'kAnnealingB': 0.8410800563870859, 'kAnnealingStart': 51.14954978170781, 'kSkipRatio': 0.7076718990460277, 'kTargetDeterminationTrials': 13, 'kAttractionRatio': 0.01745078050787936, 'kMaxAttractionDistance': 29, 'kStartAttraction': 0.03209401045907427}. Best is trial 260 with value: 7279.613402061856.\u001b[0m\n"
     ]
    },
    {
     "name": "stdout",
     "output_type": "stream",
     "text": [
      "Updated! 7279.613402061856\n",
      "index_parallel='0262'\n"
     ]
    },
    {
     "name": "stderr",
     "output_type": "stream",
     "text": [
      "\u001b[32m[I 2022-08-16 10:32:33,176]\u001b[0m Trial 262 finished with value: 7251.015463917526 and parameters: {'kErase': 2, 'kRadius': 3, 'kAnnealingA': -2.7579820316679573, 'kAnnealingB': 0.8794722271978158, 'kAnnealingStart': 70.904455315654, 'kSkipRatio': 0.7203164845358293, 'kTargetDeterminationTrials': 12, 'kAttractionRatio': 0.020641865286008473, 'kMaxAttractionDistance': 29, 'kStartAttraction': 0.034525769776556164}. Best is trial 260 with value: 7279.613402061856.\u001b[0m\n"
     ]
    },
    {
     "name": "stdout",
     "output_type": "stream",
     "text": [
      "index_parallel='0264'\n"
     ]
    },
    {
     "name": "stderr",
     "output_type": "stream",
     "text": [
      "\u001b[32m[I 2022-08-16 10:36:16,681]\u001b[0m Trial 264 finished with value: 7105.48969072165 and parameters: {'kErase': 1, 'kRadius': 3, 'kAnnealingA': -4.39979043607682, 'kAnnealingB': 1.156405778419474, 'kAnnealingStart': 56.70188284095493, 'kSkipRatio': 0.7381676214211953, 'kTargetDeterminationTrials': 15, 'kAttractionRatio': 0.01658348718072634, 'kMaxAttractionDistance': 32, 'kStartAttraction': 0.04188329522134734}. Best is trial 260 with value: 7279.613402061856.\u001b[0m\n"
     ]
    },
    {
     "name": "stdout",
     "output_type": "stream",
     "text": [
      "index_parallel='0266'\n"
     ]
    },
    {
     "name": "stderr",
     "output_type": "stream",
     "text": [
      "\u001b[32m[I 2022-08-16 10:40:00,897]\u001b[0m Trial 266 finished with value: 7247.201030927835 and parameters: {'kErase': 2, 'kRadius': 3, 'kAnnealingA': -2.451289153331803, 'kAnnealingB': 0.6914878126249948, 'kAnnealingStart': 51.74208062560215, 'kSkipRatio': 0.7070494760309511, 'kTargetDeterminationTrials': 10, 'kAttractionRatio': 0.012109445537666005, 'kMaxAttractionDistance': 26, 'kStartAttraction': 0.032084513260932784}. Best is trial 260 with value: 7279.613402061856.\u001b[0m\n"
     ]
    },
    {
     "name": "stdout",
     "output_type": "stream",
     "text": [
      "index_parallel='0268'\n"
     ]
    },
    {
     "name": "stderr",
     "output_type": "stream",
     "text": [
      "\u001b[32m[I 2022-08-16 10:43:44,944]\u001b[0m Trial 268 finished with value: 7236.154639175258 and parameters: {'kErase': 2, 'kRadius': 3, 'kAnnealingA': -1.619487882861835, 'kAnnealingB': 0.9813225362973745, 'kAnnealingStart': 60.80046961171078, 'kSkipRatio': 0.689445755550622, 'kTargetDeterminationTrials': 11, 'kAttractionRatio': 0.014972689605757315, 'kMaxAttractionDistance': 24, 'kStartAttraction': 0.021266123389577563}. Best is trial 260 with value: 7279.613402061856.\u001b[0m\n"
     ]
    },
    {
     "name": "stdout",
     "output_type": "stream",
     "text": [
      "index_parallel='0270'\n"
     ]
    },
    {
     "name": "stderr",
     "output_type": "stream",
     "text": [
      "\u001b[32m[I 2022-08-16 10:47:29,028]\u001b[0m Trial 270 finished with value: 7248.061855670103 and parameters: {'kErase': 2, 'kRadius': 3, 'kAnnealingA': -2.1193814504018964, 'kAnnealingB': 1.3762455314332998, 'kAnnealingStart': 58.16295534014632, 'kSkipRatio': 0.6911246298293667, 'kTargetDeterminationTrials': 13, 'kAttractionRatio': 0.010634215676513169, 'kMaxAttractionDistance': 23, 'kStartAttraction': 0.02905527687743838}. Best is trial 260 with value: 7279.613402061856.\u001b[0m\n"
     ]
    },
    {
     "name": "stdout",
     "output_type": "stream",
     "text": [
      "index_parallel='0272'\n"
     ]
    },
    {
     "name": "stderr",
     "output_type": "stream",
     "text": [
      "\u001b[32m[I 2022-08-16 10:51:13,554]\u001b[0m Trial 272 finished with value: 7218.778350515464 and parameters: {'kErase': 2, 'kRadius': 3, 'kAnnealingA': -1.0066945957942504, 'kAnnealingB': 1.5229993998497382, 'kAnnealingStart': 47.13480929276026, 'kSkipRatio': 0.7141256779772056, 'kTargetDeterminationTrials': 16, 'kAttractionRatio': 0.02288492402262603, 'kMaxAttractionDistance': 28, 'kStartAttraction': 0.03665891812868787}. Best is trial 260 with value: 7279.613402061856.\u001b[0m\n"
     ]
    },
    {
     "name": "stdout",
     "output_type": "stream",
     "text": [
      "index_parallel='0274'\n"
     ]
    },
    {
     "name": "stderr",
     "output_type": "stream",
     "text": [
      "\u001b[32m[I 2022-08-16 10:54:57,770]\u001b[0m Trial 274 finished with value: 7261.458762886598 and parameters: {'kErase': 2, 'kRadius': 3, 'kAnnealingA': -0.6250565691735375, 'kAnnealingB': 1.2403196173028526, 'kAnnealingStart': 50.21010815584246, 'kSkipRatio': 0.6727944964486445, 'kTargetDeterminationTrials': 14, 'kAttractionRatio': 0.017821254996612548, 'kMaxAttractionDistance': 31, 'kStartAttraction': 0.05858199401232949}. Best is trial 260 with value: 7279.613402061856.\u001b[0m\n"
     ]
    },
    {
     "name": "stdout",
     "output_type": "stream",
     "text": [
      "index_parallel='0276'\n"
     ]
    },
    {
     "name": "stderr",
     "output_type": "stream",
     "text": [
      "\u001b[32m[I 2022-08-16 10:58:41,674]\u001b[0m Trial 276 finished with value: 7029.783505154639 and parameters: {'kErase': 2, 'kRadius': 3, 'kAnnealingA': -0.3751050619381536, 'kAnnealingB': 1.1237596517887596, 'kAnnealingStart': 12.62862423361407, 'kSkipRatio': 0.6625894355402544, 'kTargetDeterminationTrials': 15, 'kAttractionRatio': 0.018460766184168774, 'kMaxAttractionDistance': 35, 'kStartAttraction': 0.04157262823679846}. Best is trial 260 with value: 7279.613402061856.\u001b[0m\n"
     ]
    },
    {
     "name": "stdout",
     "output_type": "stream",
     "text": [
      "index_parallel='0278'\n"
     ]
    },
    {
     "name": "stderr",
     "output_type": "stream",
     "text": [
      "\u001b[32m[I 2022-08-16 11:02:25,773]\u001b[0m Trial 278 finished with value: 7246.376288659794 and parameters: {'kErase': 2, 'kRadius': 3, 'kAnnealingA': -0.9777790368431869, 'kAnnealingB': 1.0539396578085376, 'kAnnealingStart': 43.048295888228616, 'kSkipRatio': 0.6764409471861998, 'kTargetDeterminationTrials': 16, 'kAttractionRatio': 0.01652877875910786, 'kMaxAttractionDistance': 43, 'kStartAttraction': 0.03727920320155685}. Best is trial 260 with value: 7279.613402061856.\u001b[0m\n"
     ]
    },
    {
     "name": "stdout",
     "output_type": "stream",
     "text": [
      "index_parallel='0280'\n"
     ]
    },
    {
     "name": "stderr",
     "output_type": "stream",
     "text": [
      "\u001b[32m[I 2022-08-16 11:06:10,088]\u001b[0m Trial 280 finished with value: 7259.969072164949 and parameters: {'kErase': 2, 'kRadius': 3, 'kAnnealingA': -1.1304162280644952, 'kAnnealingB': 1.2149653026890441, 'kAnnealingStart': 55.18997928514579, 'kSkipRatio': 0.7362002988630985, 'kTargetDeterminationTrials': 14, 'kAttractionRatio': 0.020180130020203663, 'kMaxAttractionDistance': 29, 'kStartAttraction': 0.048529094827514455}. Best is trial 260 with value: 7279.613402061856.\u001b[0m\n"
     ]
    },
    {
     "name": "stdout",
     "output_type": "stream",
     "text": [
      "index_parallel='0282'\n"
     ]
    },
    {
     "name": "stderr",
     "output_type": "stream",
     "text": [
      "\u001b[32m[I 2022-08-16 11:09:54,145]\u001b[0m Trial 282 finished with value: 7250.0 and parameters: {'kErase': 2, 'kRadius': 3, 'kAnnealingA': -2.5622683241113546, 'kAnnealingB': 1.1655927875133063, 'kAnnealingStart': 50.05337746498986, 'kSkipRatio': 0.7024526605206605, 'kTargetDeterminationTrials': 13, 'kAttractionRatio': 0.013774254536925462, 'kMaxAttractionDistance': 30, 'kStartAttraction': 0.030795231402068503}. Best is trial 260 with value: 7279.613402061856.\u001b[0m\n"
     ]
    },
    {
     "name": "stdout",
     "output_type": "stream",
     "text": [
      "index_parallel='0284'\n"
     ]
    },
    {
     "name": "stderr",
     "output_type": "stream",
     "text": [
      "\u001b[32m[I 2022-08-16 11:13:38,399]\u001b[0m Trial 284 finished with value: 7227.649484536082 and parameters: {'kErase': 2, 'kRadius': 3, 'kAnnealingA': -1.6234800575004535, 'kAnnealingB': 0.8022298769493877, 'kAnnealingStart': 59.74269771664919, 'kSkipRatio': 0.653231449709338, 'kTargetDeterminationTrials': 16, 'kAttractionRatio': 0.02509311164093831, 'kMaxAttractionDistance': 25, 'kStartAttraction': 0.07418132182481985}. Best is trial 260 with value: 7279.613402061856.\u001b[0m\n"
     ]
    },
    {
     "name": "stdout",
     "output_type": "stream",
     "text": [
      "index_parallel='0286'\n"
     ]
    },
    {
     "name": "stderr",
     "output_type": "stream",
     "text": [
      "\u001b[32m[I 2022-08-16 11:17:22,663]\u001b[0m Trial 286 finished with value: 7276.984536082474 and parameters: {'kErase': 2, 'kRadius': 3, 'kAnnealingA': -0.06714887617322163, 'kAnnealingB': 1.3018298134680646, 'kAnnealingStart': 44.93595813711851, 'kSkipRatio': 0.681729554089177, 'kTargetDeterminationTrials': 15, 'kAttractionRatio': 0.021613636440543288, 'kMaxAttractionDistance': 32, 'kStartAttraction': 0.0019377225601476386}. Best is trial 260 with value: 7279.613402061856.\u001b[0m\n"
     ]
    },
    {
     "name": "stdout",
     "output_type": "stream",
     "text": [
      "index_parallel='0288'\n"
     ]
    },
    {
     "name": "stderr",
     "output_type": "stream",
     "text": [
      "\u001b[32m[I 2022-08-16 11:21:07,235]\u001b[0m Trial 288 finished with value: 7246.886597938144 and parameters: {'kErase': 2, 'kRadius': 3, 'kAnnealingA': -0.14342361291751815, 'kAnnealingB': 1.2897746423145007, 'kAnnealingStart': 44.24652762646885, 'kSkipRatio': 0.6647987460184476, 'kTargetDeterminationTrials': 15, 'kAttractionRatio': 0.021543200896462635, 'kMaxAttractionDistance': 33, 'kStartAttraction': 0.0019090193780436568}. Best is trial 260 with value: 7279.613402061856.\u001b[0m\n"
     ]
    },
    {
     "name": "stdout",
     "output_type": "stream",
     "text": [
      "index_parallel='0290'\n"
     ]
    },
    {
     "name": "stderr",
     "output_type": "stream",
     "text": [
      "\u001b[32m[I 2022-08-16 11:24:51,373]\u001b[0m Trial 290 finished with value: 7238.912371134021 and parameters: {'kErase': 2, 'kRadius': 3, 'kAnnealingA': 0.24377487405954273, 'kAnnealingB': 1.2462590441959547, 'kAnnealingStart': 41.05246459952561, 'kSkipRatio': 0.6779382373375025, 'kTargetDeterminationTrials': 14, 'kAttractionRatio': 0.02086649988621307, 'kMaxAttractionDistance': 23, 'kStartAttraction': 0.01213486355932396}. Best is trial 260 with value: 7279.613402061856.\u001b[0m\n"
     ]
    },
    {
     "name": "stdout",
     "output_type": "stream",
     "text": [
      "index_parallel='0292'\n"
     ]
    },
    {
     "name": "stderr",
     "output_type": "stream",
     "text": [
      "\u001b[32m[I 2022-08-16 11:28:35,632]\u001b[0m Trial 292 finished with value: 7095.123711340206 and parameters: {'kErase': 4, 'kRadius': 3, 'kAnnealingA': 0.8653283695283114, 'kAnnealingB': 1.324240005801154, 'kAnnealingStart': 55.79825510357713, 'kSkipRatio': 0.6515640745786331, 'kTargetDeterminationTrials': 16, 'kAttractionRatio': 0.018878314007239997, 'kMaxAttractionDistance': 32, 'kStartAttraction': 0.038542839999510047}. Best is trial 260 with value: 7279.613402061856.\u001b[0m\n"
     ]
    },
    {
     "name": "stdout",
     "output_type": "stream",
     "text": [
      "index_parallel='0294'\n"
     ]
    },
    {
     "name": "stderr",
     "output_type": "stream",
     "text": [
      "\u001b[32m[I 2022-08-16 11:32:19,507]\u001b[0m Trial 294 finished with value: 7211.041237113402 and parameters: {'kErase': 2, 'kRadius': 3, 'kAnnealingA': 0.08935037793163869, 'kAnnealingB': 1.405624072524125, 'kAnnealingStart': 61.89406377662545, 'kSkipRatio': 0.6691274118424507, 'kTargetDeterminationTrials': 17, 'kAttractionRatio': 0.021376790087282507, 'kMaxAttractionDistance': 19, 'kStartAttraction': 0.015223631320159178}. Best is trial 260 with value: 7279.613402061856.\u001b[0m\n"
     ]
    },
    {
     "name": "stdout",
     "output_type": "stream",
     "text": [
      "index_parallel='0296'\n"
     ]
    },
    {
     "name": "stderr",
     "output_type": "stream",
     "text": [
      "\u001b[32m[I 2022-08-16 11:36:03,549]\u001b[0m Trial 296 finished with value: 7244.144329896907 and parameters: {'kErase': 2, 'kRadius': 3, 'kAnnealingA': -0.5624389211717702, 'kAnnealingB': 1.2403158035003499, 'kAnnealingStart': 51.33632738638276, 'kSkipRatio': 0.7278639741362273, 'kTargetDeterminationTrials': 15, 'kAttractionRatio': 0.024733608921498153, 'kMaxAttractionDistance': 21, 'kStartAttraction': 0.01684245772351211}. Best is trial 260 with value: 7279.613402061856.\u001b[0m\n"
     ]
    },
    {
     "name": "stdout",
     "output_type": "stream",
     "text": [
      "index_parallel='0298'\n"
     ]
    },
    {
     "name": "stderr",
     "output_type": "stream",
     "text": [
      "\u001b[32m[I 2022-08-16 11:39:47,563]\u001b[0m Trial 298 finished with value: 7139.298969072165 and parameters: {'kErase': 2, 'kRadius': 3, 'kAnnealingA': -2.265871877307345, 'kAnnealingB': 1.4460505993622736, 'kAnnealingStart': 57.02756952101487, 'kSkipRatio': 0.5596042251695819, 'kTargetDeterminationTrials': 16, 'kAttractionRatio': 0.016193492036615416, 'kMaxAttractionDistance': 23, 'kStartAttraction': 0.009017476013574763}. Best is trial 260 with value: 7279.613402061856.\u001b[0m\n"
     ]
    },
    {
     "name": "stdout",
     "output_type": "stream",
     "text": [
      "index_parallel='0300'\n"
     ]
    }
   ],
   "source": [
    "study.optimize(\n",
    "    partial(objective, in_dir=in_dir, work_dir=work_dir),\n",
    "    n_trials=3000,\n",
    "    timeout=86400,\n",
    "    callbacks=[callback]\n",
    ")"
   ]
  },
  {
   "cell_type": "code",
   "execution_count": null,
   "id": "92fe1817",
   "metadata": {},
   "outputs": [],
   "source": []
  }
 ],
 "metadata": {
  "kernelspec": {
   "display_name": "Python 3 (ipykernel)",
   "language": "python",
   "name": "python3"
  },
  "language_info": {
   "codemirror_mode": {
    "name": "ipython",
    "version": 3
   },
   "file_extension": ".py",
   "mimetype": "text/x-python",
   "name": "python",
   "nbconvert_exporter": "python",
   "pygments_lexer": "ipython3",
   "version": "3.9.12"
  }
 },
 "nbformat": 4,
 "nbformat_minor": 5
}
