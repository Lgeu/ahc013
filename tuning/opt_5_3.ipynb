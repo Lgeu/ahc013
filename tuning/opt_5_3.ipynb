{
 "cells": [
  {
   "cell_type": "code",
   "execution_count": 1,
   "id": "25a1dac8",
   "metadata": {},
   "outputs": [],
   "source": [
    "import re\n",
    "import sys\n",
    "from uuid import uuid1\n",
    "from time import sleep\n",
    "from pprint import pprint\n",
    "from pathlib import Path\n",
    "from tempfile import gettempdir\n",
    "from threading import Thread\n",
    "from functools import partial\n",
    "from subprocess import Popen, PIPE\n",
    "\n",
    "from tqdm.notebook import tqdm\n",
    "import numpy as np\n",
    "import optuna\n",
    "import pandas as pd\n",
    "import matplotlib.pyplot as plt\n",
    "\n",
    "FILENAME = \"main.cpp\""
   ]
  },
  {
   "cell_type": "code",
   "execution_count": 2,
   "id": "3dd4d02e",
   "metadata": {},
   "outputs": [
    {
     "name": "stdout",
     "output_type": "stream",
     "text": [
      "10 variables were found.\n"
     ]
    },
    {
     "data": {
      "text/html": [
       "<div>\n",
       "<style scoped>\n",
       "    .dataframe tbody tr th:only-of-type {\n",
       "        vertical-align: middle;\n",
       "    }\n",
       "\n",
       "    .dataframe tbody tr th {\n",
       "        vertical-align: top;\n",
       "    }\n",
       "\n",
       "    .dataframe thead th {\n",
       "        text-align: right;\n",
       "    }\n",
       "</style>\n",
       "<table border=\"1\" class=\"dataframe\">\n",
       "  <thead>\n",
       "    <tr style=\"text-align: right;\">\n",
       "      <th></th>\n",
       "      <th>name</th>\n",
       "      <th>method</th>\n",
       "      <th>min</th>\n",
       "      <th>max</th>\n",
       "      <th>log</th>\n",
       "      <th>left</th>\n",
       "      <th>right</th>\n",
       "    </tr>\n",
       "  </thead>\n",
       "  <tbody>\n",
       "    <tr>\n",
       "      <th>0</th>\n",
       "      <td>kErase</td>\n",
       "      <td>suggest_int</td>\n",
       "      <td>1.000</td>\n",
       "      <td>5.0</td>\n",
       "      <td>False</td>\n",
       "      <td>static constexpr auto kErase =</td>\n",
       "      <td>;             // OPTIMIZE [1, 5]</td>\n",
       "    </tr>\n",
       "    <tr>\n",
       "      <th>1</th>\n",
       "      <td>kRadius</td>\n",
       "      <td>suggest_int</td>\n",
       "      <td>2.000</td>\n",
       "      <td>6.0</td>\n",
       "      <td>False</td>\n",
       "      <td>static constexpr auto kRadius =</td>\n",
       "      <td>;            // OPTIMIZE [2, 6]</td>\n",
       "    </tr>\n",
       "    <tr>\n",
       "      <th>2</th>\n",
       "      <td>kAnnealingA</td>\n",
       "      <td>suggest_float</td>\n",
       "      <td>-15.000</td>\n",
       "      <td>15.0</td>\n",
       "      <td>False</td>\n",
       "      <td>static constexpr auto kAnnealingA =</td>\n",
       "      <td>;      // OPTIMIZE [-15.0, 15.0]</td>\n",
       "    </tr>\n",
       "    <tr>\n",
       "      <th>3</th>\n",
       "      <td>kAnnealingB</td>\n",
       "      <td>suggest_float</td>\n",
       "      <td>0.000</td>\n",
       "      <td>3.0</td>\n",
       "      <td>False</td>\n",
       "      <td>static constexpr auto kAnnealingB =</td>\n",
       "      <td>;      // OPTIMIZE [0.0, 3.0]</td>\n",
       "    </tr>\n",
       "    <tr>\n",
       "      <th>4</th>\n",
       "      <td>kAnnealingStart</td>\n",
       "      <td>suggest_float</td>\n",
       "      <td>1.000</td>\n",
       "      <td>100.0</td>\n",
       "      <td>True</td>\n",
       "      <td>static constexpr auto kAnnealingStart =</td>\n",
       "      <td>; // OPTIMIZE LOG [1.0, 100.0]</td>\n",
       "    </tr>\n",
       "    <tr>\n",
       "      <th>5</th>\n",
       "      <td>kSkipRatio</td>\n",
       "      <td>suggest_float</td>\n",
       "      <td>0.200</td>\n",
       "      <td>0.8</td>\n",
       "      <td>False</td>\n",
       "      <td>static constexpr auto kSkipRatio =</td>\n",
       "      <td>;       // OPTIMIZE [0.2, 0.8]</td>\n",
       "    </tr>\n",
       "    <tr>\n",
       "      <th>6</th>\n",
       "      <td>kTargetDeterminationTrials</td>\n",
       "      <td>suggest_int</td>\n",
       "      <td>1.000</td>\n",
       "      <td>20.0</td>\n",
       "      <td>True</td>\n",
       "      <td>static constexpr auto kTargetDeterminationTria...</td>\n",
       "      <td>; // OPTIMIZE LOG [1, 20]</td>\n",
       "    </tr>\n",
       "    <tr>\n",
       "      <th>7</th>\n",
       "      <td>kAttractionRatio</td>\n",
       "      <td>suggest_float</td>\n",
       "      <td>0.010</td>\n",
       "      <td>0.9</td>\n",
       "      <td>True</td>\n",
       "      <td>static constexpr auto kAttractionRatio =</td>\n",
       "      <td>;      // OPTIMIZE LOG [0.01, 0.9]</td>\n",
       "    </tr>\n",
       "    <tr>\n",
       "      <th>8</th>\n",
       "      <td>kMaxAttractionDistance</td>\n",
       "      <td>suggest_int</td>\n",
       "      <td>4.000</td>\n",
       "      <td>99.0</td>\n",
       "      <td>True</td>\n",
       "      <td>static constexpr auto kMaxAttractionDistance =</td>\n",
       "      <td>; // OPTIMIZE LOG [4, 99]</td>\n",
       "    </tr>\n",
       "    <tr>\n",
       "      <th>9</th>\n",
       "      <td>kStartAttraction</td>\n",
       "      <td>suggest_float</td>\n",
       "      <td>0.001</td>\n",
       "      <td>0.9</td>\n",
       "      <td>True</td>\n",
       "      <td>static constexpr auto kStartAttraction =</td>\n",
       "      <td>;     // OPTIMIZE LOG [0.001, 0.9]</td>\n",
       "    </tr>\n",
       "  </tbody>\n",
       "</table>\n",
       "</div>"
      ],
      "text/plain": [
       "                         name         method     min    max    log  \\\n",
       "0                      kErase    suggest_int   1.000    5.0  False   \n",
       "1                     kRadius    suggest_int   2.000    6.0  False   \n",
       "2                 kAnnealingA  suggest_float -15.000   15.0  False   \n",
       "3                 kAnnealingB  suggest_float   0.000    3.0  False   \n",
       "4             kAnnealingStart  suggest_float   1.000  100.0   True   \n",
       "5                  kSkipRatio  suggest_float   0.200    0.8  False   \n",
       "6  kTargetDeterminationTrials    suggest_int   1.000   20.0   True   \n",
       "7            kAttractionRatio  suggest_float   0.010    0.9   True   \n",
       "8      kMaxAttractionDistance    suggest_int   4.000   99.0   True   \n",
       "9            kStartAttraction  suggest_float   0.001    0.9   True   \n",
       "\n",
       "                                                left  \\\n",
       "0                    static constexpr auto kErase =    \n",
       "1                   static constexpr auto kRadius =    \n",
       "2               static constexpr auto kAnnealingA =    \n",
       "3               static constexpr auto kAnnealingB =    \n",
       "4           static constexpr auto kAnnealingStart =    \n",
       "5                static constexpr auto kSkipRatio =    \n",
       "6  static constexpr auto kTargetDeterminationTria...   \n",
       "7          static constexpr auto kAttractionRatio =    \n",
       "8    static constexpr auto kMaxAttractionDistance =    \n",
       "9          static constexpr auto kStartAttraction =    \n",
       "\n",
       "                                right  \n",
       "0    ;             // OPTIMIZE [1, 5]  \n",
       "1     ;            // OPTIMIZE [2, 6]  \n",
       "2    ;      // OPTIMIZE [-15.0, 15.0]  \n",
       "3       ;      // OPTIMIZE [0.0, 3.0]  \n",
       "4      ; // OPTIMIZE LOG [1.0, 100.0]  \n",
       "5      ;       // OPTIMIZE [0.2, 0.8]  \n",
       "6           ; // OPTIMIZE LOG [1, 20]  \n",
       "7  ;      // OPTIMIZE LOG [0.01, 0.9]  \n",
       "8           ; // OPTIMIZE LOG [4, 99]  \n",
       "9  ;     // OPTIMIZE LOG [0.001, 0.9]  "
      ]
     },
     "metadata": {},
     "output_type": "display_data"
    }
   ],
   "source": [
    "# ここでエラー出力は何かおかしいかもしれない\n",
    "\n",
    "\n",
    "# パラメータ抽出\n",
    "with open(FILENAME) as f:\n",
    "    answer = f.read()\n",
    "\n",
    "\n",
    "variables_optimize = []\n",
    "\n",
    "for left, value, right, options in re.findall(r\"^([^/\\n]*=\\s*)(.+?)(\\s*;\\s*//(?:.*\\W)?OPTIMIZE(\\W.*))$\", answer, re.MULTILINE):\n",
    "    name = left.replace(\"=\", \"\").strip().split()[-1]\n",
    "    \n",
    "    searched = re.search(r\".*\\[(?P<min>.*),(?P<max>.*)\\].*\", options)\n",
    "    if searched:\n",
    "        min_value = max_value = None\n",
    "        try:\n",
    "            min_value = eval(searched.group(\"min\"))\n",
    "            max_value = eval(searched.group(\"max\"))\n",
    "            assert min_value <= max_value\n",
    "        except Exception as e:\n",
    "            print(f\"searched={searched}\", file=sys.stderr)\n",
    "            print(e, file=sys.stderr)\n",
    "            continue\n",
    "        log = \"LOG\" in options  # 雑、直したほうが良い\n",
    "        if type(min_value) != type(max_value):\n",
    "            print(f\"searched={searched}\", file=sys.stderr)\n",
    "            print(\"types not matched\", file=sys.stderr)\n",
    "            continue\n",
    "        if isinstance(min_value, int):\n",
    "            method = \"suggest_int\"\n",
    "        elif isinstance(min_value, float):\n",
    "            method = \"suggest_float\"\n",
    "        else:\n",
    "            print(f\"searched={searched}\", file=sys.stderr)\n",
    "            print(f\"unknown type ({type(min_value)})\", file=sys.stderr)\n",
    "            continue\n",
    "        variables_optimize.append({\n",
    "            \"name\": name,\n",
    "            \"method\": method,\n",
    "            \"min\": min_value,\n",
    "            \"max\": max_value,\n",
    "            \"log\": log,\n",
    "            \"left\": left,\n",
    "            \"right\": right,\n",
    "        })\n",
    "    elif searched := re.search(r\".*\\{(?P<choices>.*?)\\}.*\", options):\n",
    "        choices = list(map(lambda x: x.strip(), searched.group(\"choices\").split(\",\")))\n",
    "        variables_optimize.append({\n",
    "            \"name\": name,\n",
    "            \"method\": \"suggest_categorical\",\n",
    "            \"choices\": choices,\n",
    "            \"left\": left,\n",
    "            \"right\": right,\n",
    "        })\n",
    "    else:\n",
    "        print(f\"searched={searched}\", file=sys.stderr)\n",
    "        print(f\"pattern was matched but options are incorrect.\", file=sys.stderr)\n",
    "\n",
    "print(len(variables_optimize), \"variables were found.\")\n",
    "if globals().get(\"pd\"):\n",
    "    display(pd.DataFrame(variables_optimize))\n",
    "else:\n",
    "    pprint(variables_optimize)"
   ]
  },
  {
   "cell_type": "code",
   "execution_count": 3,
   "id": "001042b9",
   "metadata": {},
   "outputs": [],
   "source": [
    "def escape(string):  # 正規表現の中でそのまま使いたい文字列をエスケープ\n",
    "    res = !echo '{string}' | sed -e 's/[]\\/$*.^[]/\\\\&/g'\n",
    "    return res[0]\n",
    "\n",
    "def escape_sed(string):  # sed の置換後の文字列用のエスケープ\n",
    "    res = !echo '{string}' | sed -e 's/[\\/&]/\\\\&/g'\n",
    "    return res[0]\n",
    "\n",
    "def read_stream(name, in_file, out_file):\n",
    "    for line in in_file:\n",
    "        print(f\"[{name}] {line.strip()}\", file=out_file)\n",
    "\n",
    "def run(cmd, name):\n",
    "    proc = Popen(cmd, stdout=PIPE, stderr=PIPE, universal_newlines=True, shell=isinstance(cmd, str))\n",
    "    stdout_thread = Thread(target=read_stream, args=(name, proc.stdout, sys.stdout))\n",
    "    stderr_thread = Thread(target=read_stream, args=(name, proc.stderr, sys.stderr))\n",
    "    stdout_thread.start()\n",
    "    stderr_thread.start()\n",
    "    proc.wait()\n",
    "    return proc\n",
    "\n",
    "def objective(trial, in_dir, work_dir):\n",
    "    n_internal_parallel = 3\n",
    "    \n",
    "    index_parallel = f\"{trial.number:04d}\"\n",
    "    print(f\"{index_parallel=}\")\n",
    "    \n",
    "    work_dir = Path(work_dir)\n",
    "    directory_input = Path(in_dir)  # 中のすべてのファイルに対して実行される\n",
    "    #parameters_changed_filename = Path(gettempdir()) / str(uuid1())\n",
    "    parameters_changed_filename = work_dir / f\"{index_parallel}_{FILENAME}\"\n",
    "    \n",
    "    run([\"mkdir\", f\"{work_dir / index_parallel}_out\"], \"mkdir\")\n",
    "    run([\"mkdir\", f\"{work_dir / index_parallel}_score\"], \"mkdir\")\n",
    "    \n",
    "    # ファイル作成\n",
    "    run(f\"cp {FILENAME} {parameters_changed_filename}\", \"cp\")\n",
    "    sed_options = [f\"-i {parameters_changed_filename}\"]\n",
    "    for variable in variables_optimize:\n",
    "        if variable[\"method\"] == \"suggest_categorical\":\n",
    "            val =  trial.suggest_categorical(variable[\"name\"], variable[\"choices\"])\n",
    "        else:\n",
    "            val = getattr(trial, variable[\"method\"])(variable[\"name\"], variable[\"min\"], variable[\"max\"], log=variable[\"log\"])\n",
    "        left = variable[\"left\"]\n",
    "        right = variable[\"right\"]\n",
    "        sed_options.append(f\"\"\"-e 's/^{escape(left)}.*{escape(right)}$/{escape_sed(left)}{val}{escape_sed(right)}/'\"\"\")\n",
    "    command_sed = f\"sed {' '.join(sed_options)}\"\n",
    "    #print(command_sed)\n",
    "    run(command_sed, \"sed\")\n",
    "    \n",
    "    # コンパイル\n",
    "    command_compile = f\"g++ {parameters_changed_filename} -std=gnu++17 -O2 -DONLINE_JUDGE -o {parameters_changed_filename}.out\"\n",
    "    #print(command_compile)\n",
    "    run(command_compile, \"compile\")\n",
    "    # 実行・採点コマンド (@ はファイル名)\n",
    "    command_exec = (\n",
    "        #f\"./a.out < ./tools/in/{i:04d}.txt > {out_file} && ./tools/target/release/vis ./tools/in/{i:04d}.txt {out_file}\"\n",
    "        #f\"../tools/target/release/tester $(pwd)/{parameters_changed_filename}.out < {directory_input}/@ 2>&1 | grep Score\"\n",
    "        #f\"../tools/target/release/tester $(pwd)/{parameters_changed_filename}.out < {directory_input}/@ 2>&1 | grep Score | sed -E s/[^0-9]+// > ./{index_parallel}_score/@;\"\n",
    "        #f\"cargo run --release --manifest-path ../tools/Cargo.toml --bin tester {directory_input}/@ $(pwd)/{parameters_changed_filename}.out 2>&1 | grep Score | sed -E s/[^0-9]+// > ./{index_parallel}_score/@;\"\n",
    "        f\"./{parameters_changed_filename}.out < {directory_input}/@ > {work_dir / index_parallel}_out/@;\"\n",
    "        f\"../tools/target/release/vis {directory_input}/@ {work_dir / index_parallel}_out/@ 2> /dev/null > {work_dir / index_parallel}_score/@;\"\n",
    "    )\n",
    "    # 並列実行 (sed はパスのディレクトリ部分を消してファイル名にしてる)\n",
    "    run(f\"find {directory_input}/* | sed 's!^.*/!!' | xargs -I@ -P {n_internal_parallel} sh -c '{command_exec}'\", \"exec\")\n",
    "    \n",
    "    # 集計\n",
    "    scores = []\n",
    "    for file_path in Path(f\"{work_dir / index_parallel}_score/\").iterdir():  \n",
    "        with open(file_path) as f:\n",
    "            scores.append(int(f.readline().strip().split()[-1]))\n",
    "    mean_score = sum(scores) / len(scores)\n",
    "    \n",
    "    # 後始末\n",
    "    run(f\"rm -rf {work_dir / index_parallel}_out\", \"rm\")\n",
    "    run(f\"rm -rf {work_dir / index_parallel}_score\", \"rm\")\n",
    "    #run(f\"rm {parameters_changed_filename}\", \"rm\")\n",
    "    run(f\"rm {parameters_changed_filename}.out\", \"rm\")\n",
    "    \n",
    "    return mean_score"
   ]
  },
  {
   "cell_type": "code",
   "execution_count": 4,
   "id": "2d2e133c",
   "metadata": {},
   "outputs": [
    {
     "name": "stderr",
     "output_type": "stream",
     "text": [
      "\u001b[32m[I 2022-08-15 21:31:56,811]\u001b[0m A new study created in RDB with name: study_5_3\u001b[0m\n"
     ]
    }
   ],
   "source": [
    "K = 5\n",
    "N_CLASS = 3\n",
    "\n",
    "in_dir = Path(f\"in_{K}_{N_CLASS}\")\n",
    "work_dir = Path(f\"work_{K}_{N_CLASS}\")\n",
    "\n",
    "study_name = f\"study_{K}_{N_CLASS}\"\n",
    "storage_path = work_dir / \"study.db\"\n",
    "storage = f\"sqlite:///{storage_path}\"\n",
    "study = optuna.create_study(storage=storage, load_if_exists=True, study_name=study_name, direction=\"maximize\")\n",
    "\n",
    "def callback(study, trial):\n",
    "    try:\n",
    "        index_parallel = f\"{trial.number:04d}\"\n",
    "        parameters_changed_filename = work_dir / f\"{index_parallel}_{FILENAME}\"\n",
    "        if study.best_value == trial.value:\n",
    "            print(f\"Updated! {study.best_value}\")\n",
    "            !cp {parameters_changed_filename} {work_dir / \"best_parameters.cpp\"}\n",
    "        !rm {parameters_changed_filename}\n",
    "    except:\n",
    "        print(\":(\")\n"
   ]
  },
  {
   "cell_type": "code",
   "execution_count": null,
   "id": "61c2901d",
   "metadata": {},
   "outputs": [
    {
     "name": "stdout",
     "output_type": "stream",
     "text": [
      "index_parallel='0000'\n"
     ]
    },
    {
     "name": "stderr",
     "output_type": "stream",
     "text": [
      "\u001b[32m[I 2022-08-15 21:36:19,023]\u001b[0m Trial 0 finished with value: 7579.094420600858 and parameters: {'kErase': 2, 'kRadius': 5, 'kAnnealingA': -9.536895883841439, 'kAnnealingB': 0.24245400197956568, 'kAnnealingStart': 1.1931052975488052, 'kSkipRatio': 0.49685231929885276, 'kTargetDeterminationTrials': 14, 'kAttractionRatio': 0.020361029525395192, 'kMaxAttractionDistance': 4, 'kStartAttraction': 0.004335993212833265}. Best is trial 0 with value: 7579.094420600858.\u001b[0m\n"
     ]
    },
    {
     "name": "stdout",
     "output_type": "stream",
     "text": [
      "Updated! 7579.094420600858\n",
      "index_parallel='0001'\n"
     ]
    },
    {
     "name": "stderr",
     "output_type": "stream",
     "text": [
      "\u001b[32m[I 2022-08-15 21:40:41,619]\u001b[0m Trial 1 finished with value: 5177.0085836909875 and parameters: {'kErase': 4, 'kRadius': 5, 'kAnnealingA': 4.60192309053523, 'kAnnealingB': 1.1223821145394721, 'kAnnealingStart': 64.2851996465741, 'kSkipRatio': 0.29332554899903046, 'kTargetDeterminationTrials': 18, 'kAttractionRatio': 0.04757664916189116, 'kMaxAttractionDistance': 47, 'kStartAttraction': 0.05559280237809573}. Best is trial 0 with value: 7579.094420600858.\u001b[0m\n"
     ]
    },
    {
     "name": "stdout",
     "output_type": "stream",
     "text": [
      "index_parallel='0002'\n"
     ]
    },
    {
     "name": "stderr",
     "output_type": "stream",
     "text": [
      "\u001b[32m[I 2022-08-15 21:45:04,141]\u001b[0m Trial 2 finished with value: 6470.922746781116 and parameters: {'kErase': 4, 'kRadius': 3, 'kAnnealingA': 6.8413926650481365, 'kAnnealingB': 2.3663188563884003, 'kAnnealingStart': 10.383553509571012, 'kSkipRatio': 0.2892744829158381, 'kTargetDeterminationTrials': 1, 'kAttractionRatio': 0.03220138586241283, 'kMaxAttractionDistance': 35, 'kStartAttraction': 0.10539964637479872}. Best is trial 0 with value: 7579.094420600858.\u001b[0m\n"
     ]
    },
    {
     "name": "stdout",
     "output_type": "stream",
     "text": [
      "index_parallel='0003'\n"
     ]
    },
    {
     "name": "stderr",
     "output_type": "stream",
     "text": [
      "\u001b[32m[I 2022-08-15 21:49:26,777]\u001b[0m Trial 3 finished with value: 5832.652360515021 and parameters: {'kErase': 4, 'kRadius': 4, 'kAnnealingA': 8.782026002516147, 'kAnnealingB': 2.9769852591176056, 'kAnnealingStart': 18.075597705448274, 'kSkipRatio': 0.65755294954136, 'kTargetDeterminationTrials': 11, 'kAttractionRatio': 0.01158227049685498, 'kMaxAttractionDistance': 22, 'kStartAttraction': 0.6923703307061142}. Best is trial 0 with value: 7579.094420600858.\u001b[0m\n"
     ]
    },
    {
     "name": "stdout",
     "output_type": "stream",
     "text": [
      "index_parallel='0004'\n"
     ]
    },
    {
     "name": "stderr",
     "output_type": "stream",
     "text": [
      "\u001b[32m[I 2022-08-15 21:53:49,528]\u001b[0m Trial 4 finished with value: 6439.618025751073 and parameters: {'kErase': 5, 'kRadius': 5, 'kAnnealingA': -12.978206185850736, 'kAnnealingB': 1.9961488822882865, 'kAnnealingStart': 31.253039362079807, 'kSkipRatio': 0.49145728605172906, 'kTargetDeterminationTrials': 3, 'kAttractionRatio': 0.05324427399075104, 'kMaxAttractionDistance': 62, 'kStartAttraction': 0.0020040326374035247}. Best is trial 0 with value: 7579.094420600858.\u001b[0m\n"
     ]
    },
    {
     "name": "stdout",
     "output_type": "stream",
     "text": [
      "index_parallel='0005'\n"
     ]
    },
    {
     "name": "stderr",
     "output_type": "stream",
     "text": [
      "\u001b[32m[I 2022-08-15 21:58:12,407]\u001b[0m Trial 5 finished with value: 7818.128755364807 and parameters: {'kErase': 2, 'kRadius': 3, 'kAnnealingA': 14.351985372752587, 'kAnnealingB': 0.6631558080980154, 'kAnnealingStart': 1.473093126000808, 'kSkipRatio': 0.3498003887828962, 'kTargetDeterminationTrials': 14, 'kAttractionRatio': 0.015623734956040173, 'kMaxAttractionDistance': 6, 'kStartAttraction': 0.005765007116032467}. Best is trial 5 with value: 7818.128755364807.\u001b[0m\n"
     ]
    },
    {
     "name": "stdout",
     "output_type": "stream",
     "text": [
      "Updated! 7818.128755364807\n",
      "index_parallel='0006'\n"
     ]
    },
    {
     "name": "stderr",
     "output_type": "stream",
     "text": [
      "\u001b[32m[I 2022-08-15 22:02:34,427]\u001b[0m Trial 6 finished with value: 8096.944206008584 and parameters: {'kErase': 1, 'kRadius': 2, 'kAnnealingA': -0.16693280203219807, 'kAnnealingB': 0.8560658982724288, 'kAnnealingStart': 9.042631579708187, 'kSkipRatio': 0.7906217014573358, 'kTargetDeterminationTrials': 5, 'kAttractionRatio': 0.04828601103025506, 'kMaxAttractionDistance': 30, 'kStartAttraction': 0.05739562871068371}. Best is trial 6 with value: 8096.944206008584.\u001b[0m\n"
     ]
    },
    {
     "name": "stdout",
     "output_type": "stream",
     "text": [
      "Updated! 8096.944206008584\n",
      "index_parallel='0007'\n"
     ]
    },
    {
     "name": "stderr",
     "output_type": "stream",
     "text": [
      "\u001b[32m[I 2022-08-15 22:06:57,334]\u001b[0m Trial 7 finished with value: 6405.124463519313 and parameters: {'kErase': 5, 'kRadius': 6, 'kAnnealingA': -10.65140033636787, 'kAnnealingB': 2.023685111317886, 'kAnnealingStart': 57.53739612120694, 'kSkipRatio': 0.7997741466556438, 'kTargetDeterminationTrials': 4, 'kAttractionRatio': 0.7492395213587087, 'kMaxAttractionDistance': 4, 'kStartAttraction': 0.010144440654282594}. Best is trial 6 with value: 8096.944206008584.\u001b[0m\n"
     ]
    },
    {
     "name": "stdout",
     "output_type": "stream",
     "text": [
      "index_parallel='0008'\n"
     ]
    },
    {
     "name": "stderr",
     "output_type": "stream",
     "text": [
      "\u001b[32m[I 2022-08-15 22:11:20,076]\u001b[0m Trial 8 finished with value: 6190.639484978541 and parameters: {'kErase': 5, 'kRadius': 4, 'kAnnealingA': 13.799554512403596, 'kAnnealingB': 0.4542660729421012, 'kAnnealingStart': 30.955722158136094, 'kSkipRatio': 0.29903715054023944, 'kTargetDeterminationTrials': 3, 'kAttractionRatio': 0.30281996279399603, 'kMaxAttractionDistance': 37, 'kStartAttraction': 0.0016569185104741103}. Best is trial 6 with value: 8096.944206008584.\u001b[0m\n"
     ]
    },
    {
     "name": "stdout",
     "output_type": "stream",
     "text": [
      "index_parallel='0009'\n"
     ]
    },
    {
     "name": "stderr",
     "output_type": "stream",
     "text": [
      "\u001b[32m[I 2022-08-15 22:15:42,881]\u001b[0m Trial 9 finished with value: 6392.248927038627 and parameters: {'kErase': 5, 'kRadius': 6, 'kAnnealingA': 0.9043932513386501, 'kAnnealingB': 0.9080786198704165, 'kAnnealingStart': 32.16826361484167, 'kSkipRatio': 0.6243173636004666, 'kTargetDeterminationTrials': 6, 'kAttractionRatio': 0.037248253603332566, 'kMaxAttractionDistance': 12, 'kStartAttraction': 0.34135851437283027}. Best is trial 6 with value: 8096.944206008584.\u001b[0m\n"
     ]
    },
    {
     "name": "stdout",
     "output_type": "stream",
     "text": [
      "index_parallel='0010'\n"
     ]
    },
    {
     "name": "stderr",
     "output_type": "stream",
     "text": [
      "\u001b[32m[I 2022-08-15 22:20:04,537]\u001b[0m Trial 10 finished with value: 7807.587982832618 and parameters: {'kErase': 1, 'kRadius': 2, 'kAnnealingA': -5.626381538426976, 'kAnnealingB': 1.3807642966377192, 'kAnnealingStart': 3.5376289239796694, 'kSkipRatio': 0.7885944016159872, 'kTargetDeterminationTrials': 1, 'kAttractionRatio': 0.15122848502039768, 'kMaxAttractionDistance': 95, 'kStartAttraction': 0.025195590627791028}. Best is trial 6 with value: 8096.944206008584.\u001b[0m\n"
     ]
    },
    {
     "name": "stdout",
     "output_type": "stream",
     "text": [
      "index_parallel='0011'\n"
     ]
    },
    {
     "name": "stderr",
     "output_type": "stream",
     "text": [
      "\u001b[32m[I 2022-08-15 22:24:26,590]\u001b[0m Trial 11 finished with value: 7967.317596566523 and parameters: {'kErase': 1, 'kRadius': 2, 'kAnnealingA': -2.642565396960997, 'kAnnealingB': 0.6828054971720589, 'kAnnealingStart': 3.136242453506765, 'kSkipRatio': 0.38604789936882766, 'kTargetDeterminationTrials': 9, 'kAttractionRatio': 0.010929032472697641, 'kMaxAttractionDistance': 9, 'kStartAttraction': 0.012722016451509803}. Best is trial 6 with value: 8096.944206008584.\u001b[0m\n"
     ]
    },
    {
     "name": "stdout",
     "output_type": "stream",
     "text": [
      "index_parallel='0012'\n"
     ]
    },
    {
     "name": "stderr",
     "output_type": "stream",
     "text": [
      "\u001b[32m[I 2022-08-15 22:28:48,670]\u001b[0m Trial 12 finished with value: 8210.59227467811 and parameters: {'kErase': 1, 'kRadius': 2, 'kAnnealingA': -3.15569270820722, 'kAnnealingB': 0.016865298372225834, 'kAnnealingStart': 3.6553160838932657, 'kSkipRatio': 0.41562948152549173, 'kTargetDeterminationTrials': 7, 'kAttractionRatio': 0.09817445435642377, 'kMaxAttractionDistance': 11, 'kStartAttraction': 0.021164024389340605}. Best is trial 12 with value: 8210.59227467811.\u001b[0m\n"
     ]
    },
    {
     "name": "stdout",
     "output_type": "stream",
     "text": [
      "Updated! 8210.59227467811\n",
      "index_parallel='0013'\n"
     ]
    },
    {
     "name": "stderr",
     "output_type": "stream",
     "text": [
      "\u001b[32m[I 2022-08-15 22:33:11,211]\u001b[0m Trial 13 finished with value: 8217.56652360515 and parameters: {'kErase': 2, 'kRadius': 2, 'kAnnealingA': 0.6452376747150939, 'kAnnealingB': 0.3213270995358144, 'kAnnealingStart': 6.327720303652581, 'kSkipRatio': 0.6078958834507715, 'kTargetDeterminationTrials': 2, 'kAttractionRatio': 0.13392929862035508, 'kMaxAttractionDistance': 16, 'kStartAttraction': 0.12354495548331346}. Best is trial 13 with value: 8217.56652360515.\u001b[0m\n"
     ]
    },
    {
     "name": "stdout",
     "output_type": "stream",
     "text": [
      "Updated! 8217.56652360515\n",
      "index_parallel='0014'\n"
     ]
    },
    {
     "name": "stderr",
     "output_type": "stream",
     "text": [
      "\u001b[32m[I 2022-08-15 22:37:33,958]\u001b[0m Trial 14 finished with value: 8434.197424892704 and parameters: {'kErase': 2, 'kRadius': 3, 'kAnnealingA': -5.6523389234050825, 'kAnnealingB': 0.16065727093908738, 'kAnnealingStart': 4.338657502232955, 'kSkipRatio': 0.6314302977403335, 'kTargetDeterminationTrials': 2, 'kAttractionRatio': 0.12138032302392865, 'kMaxAttractionDistance': 14, 'kStartAttraction': 0.18767718370165332}. Best is trial 14 with value: 8434.197424892704.\u001b[0m\n"
     ]
    },
    {
     "name": "stdout",
     "output_type": "stream",
     "text": [
      "Updated! 8434.197424892704\n",
      "index_parallel='0015'\n"
     ]
    },
    {
     "name": "stderr",
     "output_type": "stream",
     "text": [
      "\u001b[32m[I 2022-08-15 22:41:56,290]\u001b[0m Trial 15 finished with value: 8407.918454935621 and parameters: {'kErase': 2, 'kRadius': 3, 'kAnnealingA': -7.477035783511667, 'kAnnealingB': 0.20145807344310693, 'kAnnealingStart': 6.106303618422014, 'kSkipRatio': 0.625107852589307, 'kTargetDeterminationTrials': 2, 'kAttractionRatio': 0.22068016414407662, 'kMaxAttractionDistance': 18, 'kStartAttraction': 0.16804934352424825}. Best is trial 14 with value: 8434.197424892704.\u001b[0m\n"
     ]
    },
    {
     "name": "stdout",
     "output_type": "stream",
     "text": [
      "index_parallel='0016'\n"
     ]
    },
    {
     "name": "stderr",
     "output_type": "stream",
     "text": [
      "\u001b[32m[I 2022-08-15 22:46:18,661]\u001b[0m Trial 16 finished with value: 8103.532188841202 and parameters: {'kErase': 3, 'kRadius': 3, 'kAnnealingA': -7.923292517811801, 'kAnnealingB': 1.3912167519516239, 'kAnnealingStart': 2.290893064096258, 'kSkipRatio': 0.6922794651659224, 'kTargetDeterminationTrials': 2, 'kAttractionRatio': 0.28738682741311533, 'kMaxAttractionDistance': 21, 'kStartAttraction': 0.2675441961999966}. Best is trial 14 with value: 8434.197424892704.\u001b[0m\n"
     ]
    },
    {
     "name": "stdout",
     "output_type": "stream",
     "text": [
      "index_parallel='0017'\n"
     ]
    },
    {
     "name": "stderr",
     "output_type": "stream",
     "text": [
      "\u001b[32m[I 2022-08-15 22:50:41,232]\u001b[0m Trial 17 finished with value: 7835.527896995708 and parameters: {'kErase': 3, 'kRadius': 3, 'kAnnealingA': -14.262675085040701, 'kAnnealingB': 0.07987463132485231, 'kAnnealingStart': 6.573462818482976, 'kSkipRatio': 0.5832974270376716, 'kTargetDeterminationTrials': 2, 'kAttractionRatio': 0.32293812622182777, 'kMaxAttractionDistance': 7, 'kStartAttraction': 0.6638662469832883}. Best is trial 14 with value: 8434.197424892704.\u001b[0m\n"
     ]
    },
    {
     "name": "stdout",
     "output_type": "stream",
     "text": [
      "index_parallel='0018'\n"
     ]
    },
    {
     "name": "stderr",
     "output_type": "stream",
     "text": [
      "\u001b[32m[I 2022-08-15 22:55:04,024]\u001b[0m Trial 18 finished with value: 6913.2918454935625 and parameters: {'kErase': 3, 'kRadius': 4, 'kAnnealingA': -5.549621627402982, 'kAnnealingB': 0.480487977569653, 'kAnnealingStart': 14.803861155014731, 'kSkipRatio': 0.20086382780229595, 'kTargetDeterminationTrials': 1, 'kAttractionRatio': 0.723725249809083, 'kMaxAttractionDistance': 15, 'kStartAttraction': 0.2519224036597214}. Best is trial 14 with value: 8434.197424892704.\u001b[0m\n"
     ]
    },
    {
     "name": "stdout",
     "output_type": "stream",
     "text": [
      "index_parallel='0019'\n"
     ]
    },
    {
     "name": "stderr",
     "output_type": "stream",
     "text": [
      "\u001b[32m[I 2022-08-15 22:59:26,283]\u001b[0m Trial 19 finished with value: 8196.141630901287 and parameters: {'kErase': 2, 'kRadius': 4, 'kAnnealingA': -7.554457767033286, 'kAnnealingB': 1.7836906346745742, 'kAnnealingStart': 5.458708274821231, 'kSkipRatio': 0.7092316351922021, 'kTargetDeterminationTrials': 2, 'kAttractionRatio': 0.20141383966423898, 'kMaxAttractionDistance': 23, 'kStartAttraction': 0.10960682158615451}. Best is trial 14 with value: 8434.197424892704.\u001b[0m\n"
     ]
    },
    {
     "name": "stdout",
     "output_type": "stream",
     "text": [
      "index_parallel='0020'\n"
     ]
    },
    {
     "name": "stderr",
     "output_type": "stream",
     "text": [
      "\u001b[32m[I 2022-08-15 23:03:49,233]\u001b[0m Trial 20 finished with value: 7973.201716738197 and parameters: {'kErase': 2, 'kRadius': 3, 'kAnnealingA': -11.230886968266265, 'kAnnealingB': 1.026866295507992, 'kAnnealingStart': 1.7727491610983854, 'kSkipRatio': 0.5424600010438245, 'kTargetDeterminationTrials': 3, 'kAttractionRatio': 0.5030987140655157, 'kMaxAttractionDistance': 7, 'kStartAttraction': 0.1795778714743692}. Best is trial 14 with value: 8434.197424892704.\u001b[0m\n"
     ]
    },
    {
     "name": "stdout",
     "output_type": "stream",
     "text": [
      "index_parallel='0021'\n"
     ]
    },
    {
     "name": "stderr",
     "output_type": "stream",
     "text": [
      "\u001b[32m[I 2022-08-15 23:08:12,004]\u001b[0m Trial 21 finished with value: 8073.965665236052 and parameters: {'kErase': 2, 'kRadius': 2, 'kAnnealingA': 1.1979164006603344, 'kAnnealingB': 0.37782507114887465, 'kAnnealingStart': 5.3117121893283565, 'kSkipRatio': 0.5915379764320814, 'kTargetDeterminationTrials': 2, 'kAttractionRatio': 0.09412787188150672, 'kMaxAttractionDistance': 16, 'kStartAttraction': 0.05918330139800769}. Best is trial 14 with value: 8434.197424892704.\u001b[0m\n"
     ]
    },
    {
     "name": "stdout",
     "output_type": "stream",
     "text": [
      "index_parallel='0022'\n"
     ]
    },
    {
     "name": "stderr",
     "output_type": "stream",
     "text": [
      "\u001b[32m[I 2022-08-15 23:12:34,441]\u001b[0m Trial 22 finished with value: 8244.137339055795 and parameters: {'kErase': 2, 'kRadius': 3, 'kAnnealingA': -3.20767347858312, 'kAnnealingB': 0.2836578989109768, 'kAnnealingStart': 8.307895569949984, 'kSkipRatio': 0.7128996152234087, 'kTargetDeterminationTrials': 2, 'kAttractionRatio': 0.11498763807628079, 'kMaxAttractionDistance': 14, 'kStartAttraction': 0.11528326993648598}. Best is trial 14 with value: 8434.197424892704.\u001b[0m\n"
     ]
    },
    {
     "name": "stdout",
     "output_type": "stream",
     "text": [
      "index_parallel='0023'\n"
     ]
    },
    {
     "name": "stderr",
     "output_type": "stream",
     "text": [
      "\u001b[32m[I 2022-08-15 23:16:56,921]\u001b[0m Trial 23 finished with value: 8048.785407725322 and parameters: {'kErase': 3, 'kRadius': 3, 'kAnnealingA': -2.627257321661016, 'kAnnealingB': 0.08427939281780035, 'kAnnealingStart': 9.972706063266655, 'kSkipRatio': 0.7306102214379592, 'kTargetDeterminationTrials': 1, 'kAttractionRatio': 0.0779952069104208, 'kMaxAttractionDistance': 12, 'kStartAttraction': 0.4308375800921415}. Best is trial 14 with value: 8434.197424892704.\u001b[0m\n"
     ]
    },
    {
     "name": "stdout",
     "output_type": "stream",
     "text": [
      "index_parallel='0024'\n"
     ]
    },
    {
     "name": "stderr",
     "output_type": "stream",
     "text": [
      "\u001b[32m[I 2022-08-15 23:21:19,298]\u001b[0m Trial 24 finished with value: 7848.223175965665 and parameters: {'kErase': 2, 'kRadius': 3, 'kAnnealingA': -5.2064023879450305, 'kAnnealingB': 0.6489499569826214, 'kAnnealingStart': 18.71178296315815, 'kSkipRatio': 0.5431753927167378, 'kTargetDeterminationTrials': 4, 'kAttractionRatio': 0.19481482027816363, 'kMaxAttractionDistance': 27, 'kStartAttraction': 0.17764085111000505}. Best is trial 14 with value: 8434.197424892704.\u001b[0m\n"
     ]
    },
    {
     "name": "stdout",
     "output_type": "stream",
     "text": [
      "index_parallel='0025'\n"
     ]
    },
    {
     "name": "stderr",
     "output_type": "stream",
     "text": [
      "\u001b[32m[I 2022-08-15 23:25:41,405]\u001b[0m Trial 25 finished with value: 8202.124463519312 and parameters: {'kErase': 1, 'kRadius': 4, 'kAnnealingA': -8.153110807763422, 'kAnnealingB': 0.22174831724025584, 'kAnnealingStart': 2.5313135706366157, 'kSkipRatio': 0.6611620672567688, 'kTargetDeterminationTrials': 2, 'kAttractionRatio': 0.14763393894965843, 'kMaxAttractionDistance': 9, 'kStartAttraction': 0.07346463082068155}. Best is trial 14 with value: 8434.197424892704.\u001b[0m\n"
     ]
    },
    {
     "name": "stdout",
     "output_type": "stream",
     "text": [
      "index_parallel='0026'\n"
     ]
    },
    {
     "name": "stderr",
     "output_type": "stream",
     "text": [
      "\u001b[32m[I 2022-08-15 23:30:03,826]\u001b[0m Trial 26 finished with value: 7768.583690987124 and parameters: {'kErase': 2, 'kRadius': 3, 'kAnnealingA': -1.6017663317604711, 'kAnnealingB': 1.1630785448826073, 'kAnnealingStart': 4.5477949721006645, 'kSkipRatio': 0.7263659351564498, 'kTargetDeterminationTrials': 4, 'kAttractionRatio': 0.4557128180892898, 'kMaxAttractionDistance': 18, 'kStartAttraction': 0.02985965511489107}. Best is trial 14 with value: 8434.197424892704.\u001b[0m\n"
     ]
    },
    {
     "name": "stdout",
     "output_type": "stream",
     "text": [
      "index_parallel='0027'\n"
     ]
    },
    {
     "name": "stderr",
     "output_type": "stream",
     "text": [
      "\u001b[32m[I 2022-08-15 23:34:26,218]\u001b[0m Trial 27 finished with value: 8194.360515021459 and parameters: {'kErase': 3, 'kRadius': 4, 'kAnnealingA': 3.4865690866516856, 'kAnnealingB': 0.5415341132943137, 'kAnnealingStart': 7.518110620662943, 'kSkipRatio': 0.6650624423069129, 'kTargetDeterminationTrials': 2, 'kAttractionRatio': 0.07377040724424411, 'kMaxAttractionDistance': 14, 'kStartAttraction': 0.434433142433913}. Best is trial 14 with value: 8434.197424892704.\u001b[0m\n"
     ]
    },
    {
     "name": "stdout",
     "output_type": "stream",
     "text": [
      "index_parallel='0028'\n"
     ]
    },
    {
     "name": "stderr",
     "output_type": "stream",
     "text": [
      "\u001b[32m[I 2022-08-15 23:38:48,578]\u001b[0m Trial 28 finished with value: 8142.167381974249 and parameters: {'kErase': 2, 'kRadius': 3, 'kAnnealingA': -4.486866548016709, 'kAnnealingB': 0.004544249885518659, 'kAnnealingStart': 12.745862004410553, 'kSkipRatio': 0.7439832598313897, 'kTargetDeterminationTrials': 3, 'kAttractionRatio': 0.19620560181191504, 'kMaxAttractionDistance': 8, 'kStartAttraction': 0.17758991932611862}. Best is trial 14 with value: 8434.197424892704.\u001b[0m\n"
     ]
    },
    {
     "name": "stdout",
     "output_type": "stream",
     "text": [
      "index_parallel='0029'\n"
     ]
    },
    {
     "name": "stderr",
     "output_type": "stream",
     "text": [
      "\u001b[32m[I 2022-08-15 23:43:10,706]\u001b[0m Trial 29 finished with value: 7997.07296137339 and parameters: {'kErase': 1, 'kRadius': 4, 'kAnnealingA': -9.19599096111714, 'kAnnealingB': 0.23199084584752241, 'kAnnealingStart': 4.586252543926729, 'kSkipRatio': 0.4582504225507616, 'kTargetDeterminationTrials': 5, 'kAttractionRatio': 0.12657792323440156, 'kMaxAttractionDistance': 5, 'kStartAttraction': 0.03895744620041186}. Best is trial 14 with value: 8434.197424892704.\u001b[0m\n"
     ]
    },
    {
     "name": "stdout",
     "output_type": "stream",
     "text": [
      "index_parallel='0030'\n"
     ]
    },
    {
     "name": "stderr",
     "output_type": "stream",
     "text": [
      "\u001b[32m[I 2022-08-15 23:47:33,245]\u001b[0m Trial 30 finished with value: 7856.248927038627 and parameters: {'kErase': 3, 'kRadius': 3, 'kAnnealingA': -6.31714974718118, 'kAnnealingB': 0.2599542166712113, 'kAnnealingStart': 1.177513603765368, 'kSkipRatio': 0.5252124433138082, 'kTargetDeterminationTrials': 1, 'kAttractionRatio': 0.22914922752732855, 'kMaxAttractionDistance': 11, 'kStartAttraction': 0.08206872303273004}. Best is trial 14 with value: 8434.197424892704.\u001b[0m\n"
     ]
    },
    {
     "name": "stdout",
     "output_type": "stream",
     "text": [
      "index_parallel='0031'\n"
     ]
    },
    {
     "name": "stderr",
     "output_type": "stream",
     "text": [
      "\u001b[32m[I 2022-08-15 23:51:55,679]\u001b[0m Trial 31 finished with value: 8178.278969957081 and parameters: {'kErase': 2, 'kRadius': 2, 'kAnnealingA': -0.831669957059523, 'kAnnealingB': 0.32841481097644915, 'kAnnealingStart': 6.560911347037293, 'kSkipRatio': 0.5900999326393269, 'kTargetDeterminationTrials': 2, 'kAttractionRatio': 0.12156675150080903, 'kMaxAttractionDistance': 18, 'kStartAttraction': 0.12313442405050128}. Best is trial 14 with value: 8434.197424892704.\u001b[0m\n"
     ]
    },
    {
     "name": "stdout",
     "output_type": "stream",
     "text": [
      "index_parallel='0032'\n"
     ]
    },
    {
     "name": "stderr",
     "output_type": "stream",
     "text": [
      "\u001b[32m[I 2022-08-15 23:56:17,849]\u001b[0m Trial 32 finished with value: 8209.87982832618 and parameters: {'kErase': 2, 'kRadius': 2, 'kAnnealingA': 2.316621095422594, 'kAnnealingB': 0.7243502680181098, 'kAnnealingStart': 7.5547009923868425, 'kSkipRatio': 0.6222205032279079, 'kTargetDeterminationTrials': 3, 'kAttractionRatio': 0.07264892104917452, 'kMaxAttractionDistance': 13, 'kStartAttraction': 0.1438618768376956}. Best is trial 14 with value: 8434.197424892704.\u001b[0m\n"
     ]
    },
    {
     "name": "stdout",
     "output_type": "stream",
     "text": [
      "index_parallel='0033'\n"
     ]
    },
    {
     "name": "stderr",
     "output_type": "stream",
     "text": [
      "\u001b[32m[I 2022-08-16 00:00:40,187]\u001b[0m Trial 33 finished with value: 8047.12017167382 and parameters: {'kErase': 2, 'kRadius': 2, 'kAnnealingA': 4.89632199843413, 'kAnnealingB': 0.2338655716582369, 'kAnnealingStart': 2.574788397107402, 'kSkipRatio': 0.6265791547708652, 'kTargetDeterminationTrials': 2, 'kAttractionRatio': 0.1011917365875396, 'kMaxAttractionDistance': 26, 'kStartAttraction': 0.04089627532205207}. Best is trial 14 with value: 8434.197424892704.\u001b[0m\n"
     ]
    },
    {
     "name": "stdout",
     "output_type": "stream",
     "text": [
      "index_parallel='0034'\n"
     ]
    },
    {
     "name": "stderr",
     "output_type": "stream",
     "text": [
      "\u001b[32m[I 2022-08-16 00:05:03,024]\u001b[0m Trial 34 finished with value: 7620.776824034335 and parameters: {'kErase': 4, 'kRadius': 3, 'kAnnealingA': -4.043059119378546, 'kAnnealingB': 2.801674680552421, 'kAnnealingStart': 12.072368285664371, 'kSkipRatio': 0.6835027599693919, 'kTargetDeterminationTrials': 3, 'kAttractionRatio': 0.15388127375448024, 'kMaxAttractionDistance': 18, 'kStartAttraction': 0.8532902998974089}. Best is trial 14 with value: 8434.197424892704.\u001b[0m\n"
     ]
    },
    {
     "name": "stdout",
     "output_type": "stream",
     "text": [
      "index_parallel='0035'\n"
     ]
    },
    {
     "name": "stderr",
     "output_type": "stream",
     "text": [
      "\u001b[32m[I 2022-08-16 00:09:25,071]\u001b[0m Trial 35 finished with value: 6851.300429184549 and parameters: {'kErase': 1, 'kRadius': 5, 'kAnnealingA': 9.153214534246331, 'kAnnealingB': 0.4258398858688909, 'kAnnealingStart': 17.44733953433387, 'kSkipRatio': 0.7597835788003326, 'kTargetDeterminationTrials': 4, 'kAttractionRatio': 0.027093787226243, 'kMaxAttractionDistance': 42, 'kStartAttraction': 0.08983896060967254}. Best is trial 14 with value: 8434.197424892704.\u001b[0m\n"
     ]
    },
    {
     "name": "stdout",
     "output_type": "stream",
     "text": [
      "index_parallel='0036'\n"
     ]
    },
    {
     "name": "stderr",
     "output_type": "stream",
     "text": [
      "\u001b[32m[I 2022-08-16 00:13:47,297]\u001b[0m Trial 36 finished with value: 8481.506437768241 and parameters: {'kErase': 2, 'kRadius': 3, 'kAnnealingA': -1.3928082412222493, 'kAnnealingB': 1.104393103270962, 'kAnnealingStart': 4.481078819860845, 'kSkipRatio': 0.5743070414779992, 'kTargetDeterminationTrials': 1, 'kAttractionRatio': 0.3989728085009321, 'kMaxAttractionDistance': 23, 'kStartAttraction': 0.24591616315453246}. Best is trial 36 with value: 8481.506437768241.\u001b[0m\n"
     ]
    },
    {
     "name": "stdout",
     "output_type": "stream",
     "text": [
      "Updated! 8481.506437768241\n",
      "index_parallel='0037'\n"
     ]
    },
    {
     "name": "stderr",
     "output_type": "stream",
     "text": [
      "\u001b[32m[I 2022-08-16 00:18:09,596]\u001b[0m Trial 37 finished with value: 8243.201716738198 and parameters: {'kErase': 2, 'kRadius': 3, 'kAnnealingA': -12.080090044002318, 'kAnnealingB': 1.6472604211045718, 'kAnnealingStart': 4.484601084881729, 'kSkipRatio': 0.4836092515194388, 'kTargetDeterminationTrials': 1, 'kAttractionRatio': 0.39117631394311714, 'kMaxAttractionDistance': 31, 'kStartAttraction': 0.258777705298854}. Best is trial 36 with value: 8481.506437768241.\u001b[0m\n"
     ]
    },
    {
     "name": "stdout",
     "output_type": "stream",
     "text": [
      "index_parallel='0038'\n"
     ]
    },
    {
     "name": "stderr",
     "output_type": "stream",
     "text": [
      "\u001b[32m[I 2022-08-16 00:22:32,024]\u001b[0m Trial 38 finished with value: 8240.072961373391 and parameters: {'kErase': 3, 'kRadius': 4, 'kAnnealingA': -9.111095889437506, 'kAnnealingB': 1.2118150055697918, 'kAnnealingStart': 1.5504654596246392, 'kSkipRatio': 0.5588786360974844, 'kTargetDeterminationTrials': 12, 'kAttractionRatio': 0.5202311259571084, 'kMaxAttractionDistance': 48, 'kStartAttraction': 0.506907962031433}. Best is trial 36 with value: 8481.506437768241.\u001b[0m\n"
     ]
    },
    {
     "name": "stdout",
     "output_type": "stream",
     "text": [
      "index_parallel='0039'\n"
     ]
    },
    {
     "name": "stderr",
     "output_type": "stream",
     "text": [
      "\u001b[32m[I 2022-08-16 00:26:54,671]\u001b[0m Trial 39 finished with value: 8054.43347639485 and parameters: {'kErase': 3, 'kRadius': 3, 'kAnnealingA': -7.020723271867483, 'kAnnealingB': 0.8513729224528344, 'kAnnealingStart': 8.626039665835279, 'kSkipRatio': 0.6510023417369939, 'kTargetDeterminationTrials': 7, 'kAttractionRatio': 0.23527132507653756, 'kMaxAttractionDistance': 21, 'kStartAttraction': 0.3041762705196355}. Best is trial 36 with value: 8481.506437768241.\u001b[0m\n"
     ]
    },
    {
     "name": "stdout",
     "output_type": "stream",
     "text": [
      "index_parallel='0040'\n"
     ]
    },
    {
     "name": "stderr",
     "output_type": "stream",
     "text": [
      "\u001b[32m[I 2022-08-16 00:31:16,765]\u001b[0m Trial 40 finished with value: 8268.562231759657 and parameters: {'kErase': 1, 'kRadius': 4, 'kAnnealingA': 5.900327707451481, 'kAnnealingB': 2.6488823040279827, 'kAnnealingStart': 22.138485058601937, 'kSkipRatio': 0.5663569340838721, 'kTargetDeterminationTrials': 5, 'kAttractionRatio': 0.6380197801098659, 'kMaxAttractionDistance': 10, 'kStartAttraction': 0.0025089529101830553}. Best is trial 36 with value: 8481.506437768241.\u001b[0m\n"
     ]
    },
    {
     "name": "stdout",
     "output_type": "stream",
     "text": [
      "index_parallel='0041'\n"
     ]
    },
    {
     "name": "stderr",
     "output_type": "stream",
     "text": [
      "\u001b[32m[I 2022-08-16 00:35:38,936]\u001b[0m Trial 41 finished with value: 8302.635193133046 and parameters: {'kErase': 1, 'kRadius': 5, 'kAnnealingA': 9.667971075992652, 'kAnnealingB': 2.4750174176279005, 'kAnnealingStart': 24.750888591182697, 'kSkipRatio': 0.5093560970408371, 'kTargetDeterminationTrials': 20, 'kAttractionRatio': 0.694904501849779, 'kMaxAttractionDistance': 9, 'kStartAttraction': 0.0028454609478105746}. Best is trial 36 with value: 8481.506437768241.\u001b[0m\n"
     ]
    },
    {
     "name": "stdout",
     "output_type": "stream",
     "text": [
      "index_parallel='0042'\n"
     ]
    },
    {
     "name": "stderr",
     "output_type": "stream",
     "text": [
      "\u001b[32m[I 2022-08-16 00:40:01,104]\u001b[0m Trial 42 finished with value: 8222.648068669529 and parameters: {'kErase': 1, 'kRadius': 5, 'kAnnealingA': 11.438788819362168, 'kAnnealingB': 2.4962310601792446, 'kAnnealingStart': 23.717321862379215, 'kSkipRatio': 0.5010299186994035, 'kTargetDeterminationTrials': 20, 'kAttractionRatio': 0.8846807118648125, 'kMaxAttractionDistance': 10, 'kStartAttraction': 0.0037016290414360483}. Best is trial 36 with value: 8481.506437768241.\u001b[0m\n"
     ]
    },
    {
     "name": "stdout",
     "output_type": "stream",
     "text": [
      "index_parallel='0043'\n"
     ]
    },
    {
     "name": "stderr",
     "output_type": "stream",
     "text": [
      "\u001b[32m[I 2022-08-16 00:44:23,271]\u001b[0m Trial 43 finished with value: 6818.467811158798 and parameters: {'kErase': 1, 'kRadius': 5, 'kAnnealingA': 6.867648891911815, 'kAnnealingB': 2.441875279198737, 'kAnnealingStart': 52.79068568024678, 'kSkipRatio': 0.5737652106629479, 'kTargetDeterminationTrials': 15, 'kAttractionRatio': 0.6419834823340169, 'kMaxAttractionDistance': 5, 'kStartAttraction': 0.0010594375646934483}. Best is trial 36 with value: 8481.506437768241.\u001b[0m\n"
     ]
    },
    {
     "name": "stdout",
     "output_type": "stream",
     "text": [
      "index_parallel='0044'\n"
     ]
    },
    {
     "name": "stderr",
     "output_type": "stream",
     "text": [
      "\u001b[32m[I 2022-08-16 00:48:45,090]\u001b[0m Trial 44 finished with value: 6034.532188841202 and parameters: {'kErase': 1, 'kRadius': 6, 'kAnnealingA': 9.129416958530255, 'kAnnealingB': 2.207181532231385, 'kAnnealingStart': 93.42570125862339, 'kSkipRatio': 0.4549843378249518, 'kTargetDeterminationTrials': 15, 'kAttractionRatio': 0.3706267957294166, 'kMaxAttractionDistance': 7, 'kStartAttraction': 0.003624108900736831}. Best is trial 36 with value: 8481.506437768241.\u001b[0m\n"
     ]
    },
    {
     "name": "stdout",
     "output_type": "stream",
     "text": [
      "index_parallel='0045'\n"
     ]
    },
    {
     "name": "stderr",
     "output_type": "stream",
     "text": [
      "\u001b[32m[I 2022-08-16 00:53:07,167]\u001b[0m Trial 45 finished with value: 8369.40772532189 and parameters: {'kErase': 1, 'kRadius': 5, 'kAnnealingA': 11.07578499650341, 'kAnnealingB': 2.644304444728579, 'kAnnealingStart': 35.105252832630136, 'kSkipRatio': 0.5267684630283576, 'kTargetDeterminationTrials': 9, 'kAttractionRatio': 0.5804370365520977, 'kMaxAttractionDistance': 10, 'kStartAttraction': 0.007026428014897521}. Best is trial 36 with value: 8481.506437768241.\u001b[0m\n"
     ]
    },
    {
     "name": "stdout",
     "output_type": "stream",
     "text": [
      "index_parallel='0046'\n"
     ]
    },
    {
     "name": "stderr",
     "output_type": "stream",
     "text": [
      "\u001b[32m[I 2022-08-16 00:57:29,047]\u001b[0m Trial 46 finished with value: 6984.948497854078 and parameters: {'kErase': 1, 'kRadius': 5, 'kAnnealingA': 11.235198867130716, 'kAnnealingB': 2.844220590043143, 'kAnnealingStart': 45.47145725639602, 'kSkipRatio': 0.5101201302010436, 'kTargetDeterminationTrials': 10, 'kAttractionRatio': 0.5407229410521728, 'kMaxAttractionDistance': 25, 'kStartAttraction': 0.013796877094269031}. Best is trial 36 with value: 8481.506437768241.\u001b[0m\n"
     ]
    },
    {
     "name": "stdout",
     "output_type": "stream",
     "text": [
      "index_parallel='0047'\n"
     ]
    },
    {
     "name": "stderr",
     "output_type": "stream",
     "text": [
      "\u001b[32m[I 2022-08-16 01:01:51,770]\u001b[0m Trial 47 finished with value: 7313.283261802575 and parameters: {'kErase': 4, 'kRadius': 6, 'kAnnealingA': 13.053598814373986, 'kAnnealingB': 2.0919617483092945, 'kAnnealingStart': 37.938871415934685, 'kSkipRatio': 0.4629452228908754, 'kTargetDeterminationTrials': 8, 'kAttractionRatio': 0.8680738624477119, 'kMaxAttractionDistance': 8, 'kStartAttraction': 0.006413483733798663}. Best is trial 36 with value: 8481.506437768241.\u001b[0m\n"
     ]
    },
    {
     "name": "stdout",
     "output_type": "stream",
     "text": [
      "index_parallel='0048'\n"
     ]
    },
    {
     "name": "stderr",
     "output_type": "stream",
     "text": [
      "\u001b[32m[I 2022-08-16 01:06:13,940]\u001b[0m Trial 48 finished with value: 5113.31330472103 and parameters: {'kErase': 1, 'kRadius': 5, 'kAnnealingA': 14.721977766370292, 'kAnnealingB': 2.646039458727621, 'kAnnealingStart': 97.96045880981389, 'kSkipRatio': 0.41673204040452805, 'kTargetDeterminationTrials': 12, 'kAttractionRatio': 0.41003893453129, 'kMaxAttractionDistance': 33, 'kStartAttraction': 0.008224093062959861}. Best is trial 36 with value: 8481.506437768241.\u001b[0m\n"
     ]
    },
    {
     "name": "stdout",
     "output_type": "stream",
     "text": [
      "index_parallel='0049'\n"
     ]
    },
    {
     "name": "stderr",
     "output_type": "stream",
     "text": [
      "\u001b[32m[I 2022-08-16 01:10:35,936]\u001b[0m Trial 49 finished with value: 8188.171673819743 and parameters: {'kErase': 1, 'kRadius': 5, 'kAnnealingA': 7.644054837348143, 'kAnnealingB': 1.788758700746913, 'kAnnealingStart': 26.380268426362377, 'kSkipRatio': 0.6372597310044171, 'kTargetDeterminationTrials': 17, 'kAttractionRatio': 0.2785217247934758, 'kMaxAttractionDistance': 20, 'kStartAttraction': 0.0023756848620285734}. Best is trial 36 with value: 8481.506437768241.\u001b[0m\n"
     ]
    },
    {
     "name": "stdout",
     "output_type": "stream",
     "text": [
      "index_parallel='0050'\n"
     ]
    },
    {
     "name": "stderr",
     "output_type": "stream",
     "text": [
      "\u001b[32m[I 2022-08-16 01:14:58,409]\u001b[0m Trial 50 finished with value: 7778.8197424892705 and parameters: {'kErase': 2, 'kRadius': 6, 'kAnnealingA': 10.798129461663887, 'kAnnealingB': 2.1632975220293336, 'kAnnealingStart': 3.299385002303903, 'kSkipRatio': 0.5217109345195272, 'kTargetDeterminationTrials': 10, 'kAttractionRatio': 0.6197833529699536, 'kMaxAttractionDistance': 6, 'kStartAttraction': 0.0017481805404311614}. Best is trial 36 with value: 8481.506437768241.\u001b[0m\n"
     ]
    },
    {
     "name": "stdout",
     "output_type": "stream",
     "text": [
      "index_parallel='0051'\n"
     ]
    },
    {
     "name": "stderr",
     "output_type": "stream",
     "text": [
      "\u001b[32m[I 2022-08-16 01:19:20,556]\u001b[0m Trial 51 finished with value: 8274.489270386266 and parameters: {'kErase': 1, 'kRadius': 4, 'kAnnealingA': 12.372096878325362, 'kAnnealingB': 2.5787012690288273, 'kAnnealingStart': 21.99540864859755, 'kSkipRatio': 0.55869038886207, 'kTargetDeterminationTrials': 5, 'kAttractionRatio': 0.6211995652611766, 'kMaxAttractionDistance': 10, 'kStartAttraction': 0.002894077903447136}. Best is trial 36 with value: 8481.506437768241.\u001b[0m\n"
     ]
    },
    {
     "name": "stdout",
     "output_type": "stream",
     "text": [
      "index_parallel='0052'\n"
     ]
    },
    {
     "name": "stderr",
     "output_type": "stream",
     "text": [
      "\u001b[32m[I 2022-08-16 01:23:42,720]\u001b[0m Trial 52 finished with value: 8510.45922746781 and parameters: {'kErase': 1, 'kRadius': 4, 'kAnnealingA': 12.494506333673725, 'kAnnealingB': 2.9301795555269603, 'kAnnealingStart': 33.481461287029816, 'kSkipRatio': 0.6051705550538061, 'kTargetDeterminationTrials': 6, 'kAttractionRatio': 0.3610760067114354, 'kMaxAttractionDistance': 12, 'kStartAttraction': 0.004928332592680671}. Best is trial 52 with value: 8510.45922746781.\u001b[0m\n"
     ]
    },
    {
     "name": "stdout",
     "output_type": "stream",
     "text": [
      "Updated! 8510.45922746781\n",
      "index_parallel='0053'\n"
     ]
    },
    {
     "name": "stderr",
     "output_type": "stream",
     "text": [
      "\u001b[32m[I 2022-08-16 01:28:05,202]\u001b[0m Trial 53 finished with value: 8230.901287553648 and parameters: {'kErase': 1, 'kRadius': 5, 'kAnnealingA': 9.908104675323633, 'kAnnealingB': 2.9344812941985228, 'kAnnealingStart': 34.3957600525303, 'kSkipRatio': 0.6097348026667199, 'kTargetDeterminationTrials': 13, 'kAttractionRatio': 0.3386430185234881, 'kMaxAttractionDistance': 16, 'kStartAttraction': 0.004963937244619872}. Best is trial 52 with value: 8510.45922746781.\u001b[0m\n"
     ]
    },
    {
     "name": "stdout",
     "output_type": "stream",
     "text": [
      "index_parallel='0054'\n"
     ]
    },
    {
     "name": "stderr",
     "output_type": "stream",
     "text": [
      "\u001b[32m[I 2022-08-16 01:32:27,374]\u001b[0m Trial 54 finished with value: 7101.369098712446 and parameters: {'kErase': 2, 'kRadius': 4, 'kAnnealingA': 13.360008192863559, 'kAnnealingB': 2.363144691259108, 'kAnnealingStart': 48.63069857017636, 'kSkipRatio': 0.5943882976353418, 'kTargetDeterminationTrials': 7, 'kAttractionRatio': 0.2456430812905498, 'kMaxAttractionDistance': 12, 'kStartAttraction': 0.019238919178792006}. Best is trial 52 with value: 8510.45922746781.\u001b[0m\n"
     ]
    },
    {
     "name": "stdout",
     "output_type": "stream",
     "text": [
      "index_parallel='0055'\n"
     ]
    },
    {
     "name": "stderr",
     "output_type": "stream",
     "text": [
      "\u001b[32m[I 2022-08-16 01:36:49,461]\u001b[0m Trial 55 finished with value: 6875.948497854078 and parameters: {'kErase': 1, 'kRadius': 4, 'kAnnealingA': 12.245891944181245, 'kAnnealingB': 2.759721367748509, 'kAnnealingStart': 69.01183907494692, 'kSkipRatio': 0.5416551985206338, 'kTargetDeterminationTrials': 8, 'kAttractionRatio': 0.45098520794186625, 'kMaxAttractionDistance': 13, 'kStartAttraction': 0.0013447517199136423}. Best is trial 52 with value: 8510.45922746781.\u001b[0m\n"
     ]
    },
    {
     "name": "stdout",
     "output_type": "stream",
     "text": [
      "index_parallel='0056'\n"
     ]
    },
    {
     "name": "stderr",
     "output_type": "stream",
     "text": [
      "\u001b[32m[I 2022-08-16 01:41:11,518]\u001b[0m Trial 56 finished with value: 5305.390557939914 and parameters: {'kErase': 2, 'kRadius': 6, 'kAnnealingA': 8.104067348047725, 'kAnnealingB': 2.9688780302409334, 'kAnnealingStart': 69.79662368170435, 'kSkipRatio': 0.48263342905886397, 'kTargetDeterminationTrials': 6, 'kAttractionRatio': 0.29216173947023644, 'kMaxAttractionDistance': 98, 'kStartAttraction': 0.0071482515089670885}. Best is trial 52 with value: 8510.45922746781.\u001b[0m\n"
     ]
    },
    {
     "name": "stdout",
     "output_type": "stream",
     "text": [
      "index_parallel='0057'\n"
     ]
    },
    {
     "name": "stderr",
     "output_type": "stream",
     "text": [
      "\u001b[32m[I 2022-08-16 01:45:33,525]\u001b[0m Trial 57 finished with value: 7326.776824034335 and parameters: {'kErase': 1, 'kRadius': 3, 'kAnnealingA': 10.118973777426216, 'kAnnealingB': 2.3237784270509603, 'kAnnealingStart': 40.65418975848282, 'kSkipRatio': 0.6823842538408464, 'kTargetDeterminationTrials': 9, 'kAttractionRatio': 0.16757588160083914, 'kMaxAttractionDistance': 8, 'kStartAttraction': 0.01096734508377288}. Best is trial 52 with value: 8510.45922746781.\u001b[0m\n"
     ]
    },
    {
     "name": "stdout",
     "output_type": "stream",
     "text": [
      "index_parallel='0058'\n"
     ]
    },
    {
     "name": "stderr",
     "output_type": "stream",
     "text": [
      "\u001b[32m[I 2022-08-16 01:49:55,672]\u001b[0m Trial 58 finished with value: 7538.07296137339 and parameters: {'kErase': 2, 'kRadius': 4, 'kAnnealingA': 2.17655945054387, 'kAnnealingB': 1.3130375021797858, 'kAnnealingStart': 5.547166700849629, 'kSkipRatio': 0.42230844262631334, 'kTargetDeterminationTrials': 4, 'kAttractionRatio': 0.7617087372177473, 'kMaxAttractionDistance': 16, 'kStartAttraction': 0.005443774247928729}. Best is trial 52 with value: 8510.45922746781.\u001b[0m\n"
     ]
    },
    {
     "name": "stdout",
     "output_type": "stream",
     "text": [
      "index_parallel='0059'\n"
     ]
    },
    {
     "name": "stderr",
     "output_type": "stream",
     "text": [
      "\u001b[32m[I 2022-08-16 01:54:17,686]\u001b[0m Trial 59 finished with value: 7914.828326180257 and parameters: {'kErase': 1, 'kRadius': 3, 'kAnnealingA': -1.5537445604546432, 'kAnnealingB': 1.9109397909567538, 'kAnnealingStart': 31.208173785397296, 'kSkipRatio': 0.6458276494955976, 'kTargetDeterminationTrials': 6, 'kAttractionRatio': 0.05956426261783293, 'kMaxAttractionDistance': 9, 'kStartAttraction': 0.20211212415201832}. Best is trial 52 with value: 8510.45922746781.\u001b[0m\n"
     ]
    },
    {
     "name": "stdout",
     "output_type": "stream",
     "text": [
      "index_parallel='0060'\n"
     ]
    },
    {
     "name": "stderr",
     "output_type": "stream",
     "text": [
      "\u001b[32m[I 2022-08-16 01:58:40,054]\u001b[0m Trial 60 finished with value: 7693.1330472103 and parameters: {'kErase': 2, 'kRadius': 5, 'kAnnealingA': -10.536278726751767, 'kAnnealingB': 1.6168945041173388, 'kAnnealingStart': 3.8208748690235232, 'kSkipRatio': 0.6048448789235653, 'kTargetDeterminationTrials': 20, 'kAttractionRatio': 0.33492199400277217, 'kMaxAttractionDistance': 23, 'kStartAttraction': 0.01741916451307756}. Best is trial 52 with value: 8510.45922746781.\u001b[0m\n"
     ]
    },
    {
     "name": "stdout",
     "output_type": "stream",
     "text": [
      "index_parallel='0061'\n"
     ]
    },
    {
     "name": "stderr",
     "output_type": "stream",
     "text": [
      "\u001b[32m[I 2022-08-16 02:03:02,390]\u001b[0m Trial 61 finished with value: 8396.18025751073 and parameters: {'kErase': 1, 'kRadius': 4, 'kAnnealingA': 12.282596187166167, 'kAnnealingB': 2.7394827743541703, 'kAnnealingStart': 26.39897676545219, 'kSkipRatio': 0.55211823711904, 'kTargetDeterminationTrials': 6, 'kAttractionRatio': 0.5979110610231265, 'kMaxAttractionDistance': 11, 'kStartAttraction': 0.002942116039490775}. Best is trial 52 with value: 8510.45922746781.\u001b[0m\n"
     ]
    },
    {
     "name": "stdout",
     "output_type": "stream",
     "text": [
      "index_parallel='0062'\n"
     ]
    },
    {
     "name": "stderr",
     "output_type": "stream",
     "text": [
      "\u001b[32m[I 2022-08-16 02:07:24,869]\u001b[0m Trial 62 finished with value: 8337.772532188841 and parameters: {'kErase': 1, 'kRadius': 4, 'kAnnealingA': 14.15585783934466, 'kAnnealingB': 2.723243453668636, 'kAnnealingStart': 17.410891888798783, 'kSkipRatio': 0.535037760607638, 'kTargetDeterminationTrials': 8, 'kAttractionRatio': 0.40359922164123735, 'kMaxAttractionDistance': 11, 'kStartAttraction': 0.004582440244031775}. Best is trial 52 with value: 8510.45922746781.\u001b[0m\n"
     ]
    },
    {
     "name": "stdout",
     "output_type": "stream",
     "text": [
      "index_parallel='0063'\n"
     ]
    },
    {
     "name": "stderr",
     "output_type": "stream",
     "text": [
      "\u001b[32m[I 2022-08-16 02:11:46,769]\u001b[0m Trial 63 finished with value: 8434.506437768241 and parameters: {'kErase': 1, 'kRadius': 4, 'kAnnealingA': 14.607385325447249, 'kAnnealingB': 2.860602756863499, 'kAnnealingStart': 18.704236761456443, 'kSkipRatio': 0.5339837560700128, 'kTargetDeterminationTrials': 8, 'kAttractionRatio': 0.44772153373029566, 'kMaxAttractionDistance': 11, 'kStartAttraction': 0.004235099889790203}. Best is trial 52 with value: 8510.45922746781.\u001b[0m\n"
     ]
    },
    {
     "name": "stdout",
     "output_type": "stream",
     "text": [
      "index_parallel='0064'\n"
     ]
    },
    {
     "name": "stderr",
     "output_type": "stream",
     "text": [
      "\u001b[32m[I 2022-08-16 02:16:08,828]\u001b[0m Trial 64 finished with value: 8168.128755364807 and parameters: {'kErase': 1, 'kRadius': 4, 'kAnnealingA': 12.173125626768625, 'kAnnealingB': 2.9917947533336564, 'kAnnealingStart': 14.482767815572702, 'kSkipRatio': 0.579418991830242, 'kTargetDeterminationTrials': 7, 'kAttractionRatio': 0.45519063512889935, 'kMaxAttractionDistance': 14, 'kStartAttraction': 0.009108563272969}. Best is trial 52 with value: 8510.45922746781.\u001b[0m\n"
     ]
    },
    {
     "name": "stdout",
     "output_type": "stream",
     "text": [
      "index_parallel='0065'\n"
     ]
    },
    {
     "name": "stderr",
     "output_type": "stream",
     "text": [
      "\u001b[32m[I 2022-08-16 02:20:31,567]\u001b[0m Trial 65 finished with value: 7534.776824034335 and parameters: {'kErase': 4, 'kRadius': 4, 'kAnnealingA': 14.714699527479567, 'kAnnealingB': 0.562060982670978, 'kAnnealingStart': 27.93561427660521, 'kSkipRatio': 0.554836013663189, 'kTargetDeterminationTrials': 10, 'kAttractionRatio': 0.49681946634944174, 'kMaxAttractionDistance': 13, 'kStartAttraction': 0.003505538866208418}. Best is trial 52 with value: 8510.45922746781.\u001b[0m\n"
     ]
    },
    {
     "name": "stdout",
     "output_type": "stream",
     "text": [
      "index_parallel='0066'\n"
     ]
    },
    {
     "name": "stderr",
     "output_type": "stream",
     "text": [
      "\u001b[32m[I 2022-08-16 02:24:53,567]\u001b[0m Trial 66 finished with value: 8104.772532188841 and parameters: {'kErase': 1, 'kRadius': 3, 'kAnnealingA': 13.03942997249276, 'kAnnealingB': 2.8616028759168506, 'kAnnealingStart': 9.999470299419839, 'kSkipRatio': 0.618184566559247, 'kTargetDeterminationTrials': 6, 'kAttractionRatio': 0.5700773766255924, 'kMaxAttractionDistance': 83, 'kStartAttraction': 0.35379020939250894}. Best is trial 52 with value: 8510.45922746781.\u001b[0m\n"
     ]
    },
    {
     "name": "stdout",
     "output_type": "stream",
     "text": [
      "index_parallel='0067'\n"
     ]
    },
    {
     "name": "stderr",
     "output_type": "stream",
     "text": [
      "\u001b[32m[I 2022-08-16 02:29:15,787]\u001b[0m Trial 67 finished with value: 7802.798283261803 and parameters: {'kErase': 2, 'kRadius': 4, 'kAnnealingA': -6.498327064445871, 'kAnnealingB': 0.13307613669533547, 'kAnnealingStart': 4.064590810769772, 'kSkipRatio': 0.5961401176304144, 'kTargetDeterminationTrials': 9, 'kAttractionRatio': 0.26107530856140054, 'kMaxAttractionDistance': 15, 'kStartAttraction': 0.002064166141078944}. Best is trial 52 with value: 8510.45922746781.\u001b[0m\n"
     ]
    },
    {
     "name": "stdout",
     "output_type": "stream",
     "text": [
      "index_parallel='0068'\n"
     ]
    },
    {
     "name": "stderr",
     "output_type": "stream",
     "text": [
      "\u001b[32m[I 2022-08-16 02:33:37,897]\u001b[0m Trial 68 finished with value: 7905.412017167382 and parameters: {'kErase': 1, 'kRadius': 3, 'kAnnealingA': -4.668587719509699, 'kAnnealingB': 1.0092734112030235, 'kAnnealingStart': 19.503786485282827, 'kSkipRatio': 0.6735952406300904, 'kTargetDeterminationTrials': 5, 'kAttractionRatio': 0.18248238191871674, 'kMaxAttractionDistance': 19, 'kStartAttraction': 0.14468305677370707}. Best is trial 52 with value: 8510.45922746781.\u001b[0m\n"
     ]
    },
    {
     "name": "stdout",
     "output_type": "stream",
     "text": [
      "index_parallel='0069'\n"
     ]
    },
    {
     "name": "stderr",
     "output_type": "stream",
     "text": [
      "\u001b[32m[I 2022-08-16 02:38:00,374]\u001b[0m Trial 69 finished with value: 8133.2918454935625 and parameters: {'kErase': 2, 'kRadius': 4, 'kAnnealingA': -8.391978160918194, 'kAnnealingB': 2.681918006929278, 'kAnnealingStart': 11.680701123511117, 'kSkipRatio': 0.23581146806629333, 'kTargetDeterminationTrials': 11, 'kAttractionRatio': 0.34911289445222654, 'kMaxAttractionDistance': 17, 'kStartAttraction': 0.6107527440783699}. Best is trial 52 with value: 8510.45922746781.\u001b[0m\n"
     ]
    },
    {
     "name": "stdout",
     "output_type": "stream",
     "text": [
      "index_parallel='0070'\n"
     ]
    },
    {
     "name": "stderr",
     "output_type": "stream",
     "text": [
      "\u001b[32m[I 2022-08-16 02:42:22,725]\u001b[0m Trial 70 finished with value: 7957.596566523605 and parameters: {'kErase': 2, 'kRadius': 3, 'kAnnealingA': 13.81838121171644, 'kAnnealingB': 2.8864746207755543, 'kAnnealingStart': 2.9051211322625066, 'kSkipRatio': 0.36218642351319813, 'kTargetDeterminationTrials': 6, 'kAttractionRatio': 0.3126748669562459, 'kMaxAttractionDistance': 12, 'kStartAttraction': 0.0077172062260536045}. Best is trial 52 with value: 8510.45922746781.\u001b[0m\n"
     ]
    },
    {
     "name": "stdout",
     "output_type": "stream",
     "text": [
      "index_parallel='0071'\n"
     ]
    },
    {
     "name": "stderr",
     "output_type": "stream",
     "text": [
      "\u001b[32m[I 2022-08-16 02:46:44,669]\u001b[0m Trial 71 finished with value: 8179.609442060086 and parameters: {'kErase': 1, 'kRadius': 4, 'kAnnealingA': 14.481901782044563, 'kAnnealingB': 2.7689878848768354, 'kAnnealingStart': 15.19454397808507, 'kSkipRatio': 0.5342273780422494, 'kTargetDeterminationTrials': 8, 'kAttractionRatio': 0.4136410230674384, 'kMaxAttractionDistance': 10, 'kStartAttraction': 0.004182883838020545}. Best is trial 52 with value: 8510.45922746781.\u001b[0m\n"
     ]
    },
    {
     "name": "stdout",
     "output_type": "stream",
     "text": [
      "index_parallel='0072'\n"
     ]
    },
    {
     "name": "stderr",
     "output_type": "stream",
     "text": [
      "\u001b[32m[I 2022-08-16 02:51:06,888]\u001b[0m Trial 72 finished with value: 8296.995708154507 and parameters: {'kErase': 1, 'kRadius': 4, 'kAnnealingA': 13.643535467058497, 'kAnnealingB': 2.7337157499096483, 'kAnnealingStart': 17.106639487463504, 'kSkipRatio': 0.5256329458379765, 'kTargetDeterminationTrials': 8, 'kAttractionRatio': 0.4652619076356454, 'kMaxAttractionDistance': 11, 'kStartAttraction': 0.004789316141357822}. Best is trial 52 with value: 8510.45922746781.\u001b[0m\n"
     ]
    },
    {
     "name": "stdout",
     "output_type": "stream",
     "text": [
      "index_parallel='0073'\n"
     ]
    },
    {
     "name": "stderr",
     "output_type": "stream",
     "text": [
      "\u001b[32m[I 2022-08-16 02:55:29,103]\u001b[0m Trial 73 finished with value: 5485.317596566523 and parameters: {'kErase': 1, 'kRadius': 4, 'kAnnealingA': 11.771730447171302, 'kAnnealingB': 2.6508576789070637, 'kAnnealingStart': 29.725671037630335, 'kSkipRatio': 0.632977597755256, 'kTargetDeterminationTrials': 9, 'kAttractionRatio': 0.012987637849457266, 'kMaxAttractionDistance': 11, 'kStartAttraction': 0.003307634372719757}. Best is trial 52 with value: 8510.45922746781.\u001b[0m\n"
     ]
    },
    {
     "name": "stdout",
     "output_type": "stream",
     "text": [
      "index_parallel='0074'\n"
     ]
    },
    {
     "name": "stderr",
     "output_type": "stream",
     "text": [
      "\u001b[32m[I 2022-08-16 02:59:51,185]\u001b[0m Trial 74 finished with value: 8191.051502145922 and parameters: {'kErase': 1, 'kRadius': 4, 'kAnnealingA': -0.37893321603791064, 'kAnnealingB': 2.5317815748269448, 'kAnnealingStart': 35.78651116792004, 'kSkipRatio': 0.5789652706984394, 'kTargetDeterminationTrials': 7, 'kAttractionRatio': 0.21391702305536014, 'kMaxAttractionDistance': 14, 'kStartAttraction': 0.19912196913347152}. Best is trial 52 with value: 8510.45922746781.\u001b[0m\n"
     ]
    },
    {
     "name": "stdout",
     "output_type": "stream",
     "text": [
      "index_parallel='0075'\n"
     ]
    },
    {
     "name": "stderr",
     "output_type": "stream",
     "text": [
      "\u001b[32m[I 2022-08-16 03:04:13,288]\u001b[0m Trial 75 finished with value: 8331.248927038627 and parameters: {'kErase': 1, 'kRadius': 3, 'kAnnealingA': 10.968545194771517, 'kAnnealingB': 2.898876156913187, 'kAnnealingStart': 20.863391569552576, 'kSkipRatio': 0.47081037234269035, 'kTargetDeterminationTrials': 11, 'kAttractionRatio': 0.3923042417939545, 'kMaxAttractionDistance': 23, 'kStartAttraction': 0.005711355373507646}. Best is trial 52 with value: 8510.45922746781.\u001b[0m\n"
     ]
    },
    {
     "name": "stdout",
     "output_type": "stream",
     "text": [
      "index_parallel='0076'\n"
     ]
    },
    {
     "name": "stderr",
     "output_type": "stream",
     "text": [
      "\u001b[32m[I 2022-08-16 03:08:35,288]\u001b[0m Trial 76 finished with value: 7940.416309012876 and parameters: {'kErase': 1, 'kRadius': 4, 'kAnnealingA': -3.6794963897902524, 'kAnnealingB': 0.15158922719548001, 'kAnnealingStart': 5.757019439780549, 'kSkipRatio': 0.4360279089148227, 'kTargetDeterminationTrials': 8, 'kAttractionRatio': 0.7535327738879609, 'kMaxAttractionDistance': 8, 'kStartAttraction': 0.004222659440630013}. Best is trial 52 with value: 8510.45922746781.\u001b[0m\n"
     ]
    },
    {
     "name": "stdout",
     "output_type": "stream",
     "text": [
      "index_parallel='0077'\n"
     ]
    },
    {
     "name": "stderr",
     "output_type": "stream",
     "text": [
      "\u001b[32m[I 2022-08-16 03:12:57,732]\u001b[0m Trial 77 finished with value: 7143.875536480687 and parameters: {'kErase': 3, 'kRadius': 3, 'kAnnealingA': -13.523672794406549, 'kAnnealingB': 2.8005023527006228, 'kAnnealingStart': 7.483976742004836, 'kSkipRatio': 0.54565503005891, 'kTargetDeterminationTrials': 5, 'kAttractionRatio': 0.5517021114209635, 'kMaxAttractionDistance': 29, 'kStartAttraction': 0.014964351154931138}. Best is trial 52 with value: 8510.45922746781.\u001b[0m\n"
     ]
    },
    {
     "name": "stdout",
     "output_type": "stream",
     "text": [
      "index_parallel='0078'\n"
     ]
    },
    {
     "name": "stderr",
     "output_type": "stream",
     "text": [
      "\u001b[32m[I 2022-08-16 03:17:19,697]\u001b[0m Trial 78 finished with value: 5368.004291845494 and parameters: {'kErase': 1, 'kRadius': 3, 'kAnnealingA': 13.962671371595027, 'kAnnealingB': 2.6001986069416088, 'kAnnealingStart': 41.929937055982094, 'kSkipRatio': 0.4959043865666235, 'kTargetDeterminationTrials': 7, 'kAttractionRatio': 0.0411510821544993, 'kMaxAttractionDistance': 12, 'kStartAttraction': 0.0065998870319842464}. Best is trial 52 with value: 8510.45922746781.\u001b[0m\n"
     ]
    },
    {
     "name": "stdout",
     "output_type": "stream",
     "text": [
      "index_parallel='0079'\n"
     ]
    },
    {
     "name": "stderr",
     "output_type": "stream",
     "text": [
      "\u001b[32m[I 2022-08-16 03:21:42,049]\u001b[0m Trial 79 finished with value: 8177.287553648069 and parameters: {'kErase': 2, 'kRadius': 4, 'kAnnealingA': 12.597123747597257, 'kAnnealingB': 1.4866095213075228, 'kAnnealingStart': 4.71449379709218, 'kSkipRatio': 0.5670371953891353, 'kTargetDeterminationTrials': 9, 'kAttractionRatio': 0.2749006263553834, 'kMaxAttractionDistance': 15, 'kStartAttraction': 0.06739024097392786}. Best is trial 52 with value: 8510.45922746781.\u001b[0m\n"
     ]
    },
    {
     "name": "stdout",
     "output_type": "stream",
     "text": [
      "index_parallel='0080'\n"
     ]
    },
    {
     "name": "stderr",
     "output_type": "stream",
     "text": [
      "\u001b[32m[I 2022-08-16 03:26:04,000]\u001b[0m Trial 80 finished with value: 7861.201716738197 and parameters: {'kErase': 1, 'kRadius': 2, 'kAnnealingA': -5.80152581181972, 'kAnnealingB': 2.2450678343754653, 'kAnnealingStart': 2.129815542563709, 'kSkipRatio': 0.5143498293716989, 'kTargetDeterminationTrials': 11, 'kAttractionRatio': 0.10985928561713727, 'kMaxAttractionDistance': 7, 'kStartAttraction': 0.04983762952551202}. Best is trial 52 with value: 8510.45922746781.\u001b[0m\n"
     ]
    },
    {
     "name": "stdout",
     "output_type": "stream",
     "text": [
      "index_parallel='0081'\n"
     ]
    },
    {
     "name": "stderr",
     "output_type": "stream",
     "text": [
      "\u001b[32m[I 2022-08-16 03:30:26,065]\u001b[0m Trial 81 finished with value: 8292.67381974249 and parameters: {'kErase': 1, 'kRadius': 3, 'kAnnealingA': 10.609581465248176, 'kAnnealingB': 2.8664672347067413, 'kAnnealingStart': 20.87006508756385, 'kSkipRatio': 0.6086550135857062, 'kTargetDeterminationTrials': 13, 'kAttractionRatio': 0.38297034517317863, 'kMaxAttractionDistance': 22, 'kStartAttraction': 0.011058754925842037}. Best is trial 52 with value: 8510.45922746781.\u001b[0m\n"
     ]
    },
    {
     "name": "stdout",
     "output_type": "stream",
     "text": [
      "index_parallel='0082'\n"
     ]
    },
    {
     "name": "stderr",
     "output_type": "stream",
     "text": [
      "\u001b[32m[I 2022-08-16 03:34:48,139]\u001b[0m Trial 82 finished with value: 8478.034334763948 and parameters: {'kErase': 1, 'kRadius': 3, 'kAnnealingA': 10.930575056381267, 'kAnnealingB': 2.9374024024971184, 'kAnnealingStart': 26.431956110635493, 'kSkipRatio': 0.48895291983704214, 'kTargetDeterminationTrials': 12, 'kAttractionRatio': 0.3961981560155608, 'kMaxAttractionDistance': 20, 'kStartAttraction': 0.004655179840143807}. Best is trial 52 with value: 8510.45922746781.\u001b[0m\n"
     ]
    },
    {
     "name": "stdout",
     "output_type": "stream",
     "text": [
      "index_parallel='0083'\n"
     ]
    },
    {
     "name": "stderr",
     "output_type": "stream",
     "text": [
      "\u001b[32m[I 2022-08-16 03:39:10,370]\u001b[0m Trial 83 finished with value: 7981.884120171674 and parameters: {'kErase': 1, 'kRadius': 3, 'kAnnealingA': -2.0890661150170233, 'kAnnealingB': 2.739852518207143, 'kAnnealingStart': 25.458138575533017, 'kSkipRatio': 0.4840148133000554, 'kTargetDeterminationTrials': 15, 'kAttractionRatio': 0.49982292356497127, 'kMaxAttractionDistance': 19, 'kStartAttraction': 0.0029031342129942194}. Best is trial 52 with value: 8510.45922746781.\u001b[0m\n"
     ]
    },
    {
     "name": "stdout",
     "output_type": "stream",
     "text": [
      "index_parallel='0084'\n"
     ]
    },
    {
     "name": "stderr",
     "output_type": "stream",
     "text": [
      "\u001b[32m[I 2022-08-16 03:43:32,634]\u001b[0m Trial 84 finished with value: 7742.935622317596 and parameters: {'kErase': 1, 'kRadius': 3, 'kAnnealingA': -10.247710174616659, 'kAnnealingB': 2.4241707805689914, 'kAnnealingStart': 16.321905772144653, 'kSkipRatio': 0.554346214604309, 'kTargetDeterminationTrials': 10, 'kAttractionRatio': 0.57757094624338, 'kMaxAttractionDistance': 11, 'kStartAttraction': 0.002333602454159375}. Best is trial 52 with value: 8510.45922746781.\u001b[0m\n"
     ]
    },
    {
     "name": "stdout",
     "output_type": "stream",
     "text": [
      "index_parallel='0085'\n"
     ]
    },
    {
     "name": "stderr",
     "output_type": "stream",
     "text": [
      "\u001b[32m[I 2022-08-16 03:47:55,020]\u001b[0m Trial 85 finished with value: 8289.605150214593 and parameters: {'kErase': 2, 'kRadius': 2, 'kAnnealingA': 8.346410466959496, 'kAnnealingB': 2.979234321646836, 'kAnnealingStart': 32.260169073711, 'kSkipRatio': 0.5393254339962642, 'kTargetDeterminationTrials': 6, 'kAttractionRatio': 0.43970946662341787, 'kMaxAttractionDistance': 9, 'kStartAttraction': 0.0043707935103627716}. Best is trial 52 with value: 8510.45922746781.\u001b[0m\n"
     ]
    },
    {
     "name": "stdout",
     "output_type": "stream",
     "text": [
      "index_parallel='0086'\n"
     ]
    },
    {
     "name": "stderr",
     "output_type": "stream",
     "text": [
      "\u001b[32m[I 2022-08-16 03:52:17,272]\u001b[0m Trial 86 finished with value: 6160.412017167382 and parameters: {'kErase': 1, 'kRadius': 4, 'kAnnealingA': 14.912436615213723, 'kAnnealingB': 0.7520039393346808, 'kAnnealingStart': 27.484288919587165, 'kSkipRatio': 0.658303149464835, 'kTargetDeterminationTrials': 17, 'kAttractionRatio': 0.08662639612816911, 'kMaxAttractionDistance': 17, 'kStartAttraction': 0.0015139371501879109}. Best is trial 52 with value: 8510.45922746781.\u001b[0m\n"
     ]
    },
    {
     "name": "stdout",
     "output_type": "stream",
     "text": [
      "index_parallel='0087'\n"
     ]
    },
    {
     "name": "stderr",
     "output_type": "stream",
     "text": [
      "\u001b[32m[I 2022-08-16 03:56:39,357]\u001b[0m Trial 87 finished with value: 8204.8669527897 and parameters: {'kErase': 1, 'kRadius': 3, 'kAnnealingA': 11.671936507250956, 'kAnnealingB': 2.571028568445608, 'kAnnealingStart': 13.565023569113384, 'kSkipRatio': 0.4449741895969999, 'kTargetDeterminationTrials': 14, 'kAttractionRatio': 0.3166474473842076, 'kMaxAttractionDistance': 13, 'kStartAttraction': 0.21633048249994027}. Best is trial 52 with value: 8510.45922746781.\u001b[0m\n"
     ]
    },
    {
     "name": "stdout",
     "output_type": "stream",
     "text": [
      "index_parallel='0088'\n"
     ]
    },
    {
     "name": "stderr",
     "output_type": "stream",
     "text": [
      "\u001b[32m[I 2022-08-16 04:01:01,540]\u001b[0m Trial 88 finished with value: 7724.44635193133 and parameters: {'kErase': 2, 'kRadius': 4, 'kAnnealingA': 12.930100016460838, 'kAnnealingB': 2.7238553723122507, 'kAnnealingStart': 10.915964616552783, 'kSkipRatio': 0.527295520402018, 'kTargetDeterminationTrials': 4, 'kAttractionRatio': 0.7096092966865151, 'kMaxAttractionDistance': 15, 'kStartAttraction': 0.005758251060240718}. Best is trial 52 with value: 8510.45922746781.\u001b[0m\n"
     ]
    },
    {
     "name": "stdout",
     "output_type": "stream",
     "text": [
      "index_parallel='0089'\n"
     ]
    },
    {
     "name": "stderr",
     "output_type": "stream",
     "text": [
      "\u001b[32m[I 2022-08-16 04:05:23,615]\u001b[0m Trial 89 finished with value: 7200.785407725322 and parameters: {'kErase': 1, 'kRadius': 3, 'kAnnealingA': 5.024714933091293, 'kAnnealingB': 0.38509568535247285, 'kAnnealingStart': 23.724943700494155, 'kSkipRatio': 0.5016873572406059, 'kTargetDeterminationTrials': 12, 'kAttractionRatio': 0.13805762193840454, 'kMaxAttractionDistance': 25, 'kStartAttraction': 0.10025327573422532}. Best is trial 52 with value: 8510.45922746781.\u001b[0m\n"
     ]
    },
    {
     "name": "stdout",
     "output_type": "stream",
     "text": [
      "index_parallel='0090'\n"
     ]
    },
    {
     "name": "stderr",
     "output_type": "stream",
     "text": [
      "\u001b[32m[I 2022-08-16 04:09:45,640]\u001b[0m Trial 90 finished with value: 7979.656652360515 and parameters: {'kErase': 1, 'kRadius': 3, 'kAnnealingA': 13.82674248684243, 'kAnnealingB': 2.8301443286800763, 'kAnnealingStart': 18.849950383413795, 'kSkipRatio': 0.7047214843133907, 'kTargetDeterminationTrials': 8, 'kAttractionRatio': 0.3546974960003929, 'kMaxAttractionDistance': 28, 'kStartAttraction': 0.14612838427217137}. Best is trial 52 with value: 8510.45922746781.\u001b[0m\n"
     ]
    },
    {
     "name": "stdout",
     "output_type": "stream",
     "text": [
      "index_parallel='0091'\n"
     ]
    },
    {
     "name": "stderr",
     "output_type": "stream",
     "text": [
      "\u001b[32m[I 2022-08-16 04:14:07,544]\u001b[0m Trial 91 finished with value: 8422.10729613734 and parameters: {'kErase': 1, 'kRadius': 3, 'kAnnealingA': 10.813184700559747, 'kAnnealingB': 2.90926608598547, 'kAnnealingStart': 21.0085648309592, 'kSkipRatio': 0.47805542401528733, 'kTargetDeterminationTrials': 11, 'kAttractionRatio': 0.41855102613863954, 'kMaxAttractionDistance': 20, 'kStartAttraction': 0.005400505216771938}. Best is trial 52 with value: 8510.45922746781.\u001b[0m\n"
     ]
    },
    {
     "name": "stdout",
     "output_type": "stream",
     "text": [
      "index_parallel='0092'\n"
     ]
    },
    {
     "name": "stderr",
     "output_type": "stream",
     "text": [
      "\u001b[32m[I 2022-08-16 04:18:29,532]\u001b[0m Trial 92 finished with value: 7870.360515021459 and parameters: {'kErase': 1, 'kRadius': 3, 'kAnnealingA': 12.166127453717946, 'kAnnealingB': 2.923431074432568, 'kAnnealingStart': 5.050340978305214, 'kSkipRatio': 0.39770606888852683, 'kTargetDeterminationTrials': 9, 'kAttractionRatio': 0.4944603000526358, 'kMaxAttractionDistance': 17, 'kStartAttraction': 0.00957507937201965}. Best is trial 52 with value: 8510.45922746781.\u001b[0m\n"
     ]
    },
    {
     "name": "stdout",
     "output_type": "stream",
     "text": [
      "index_parallel='0093'\n"
     ]
    },
    {
     "name": "stderr",
     "output_type": "stream",
     "text": [
      "\u001b[32m[I 2022-08-16 04:22:51,747]\u001b[0m Trial 93 finished with value: 7917.004291845494 and parameters: {'kErase': 1, 'kRadius': 3, 'kAnnealingA': 10.258842310488768, 'kAnnealingB': 2.7017555645280775, 'kAnnealingStart': 34.95801507803308, 'kSkipRatio': 0.4704114325484871, 'kTargetDeterminationTrials': 10, 'kAttractionRatio': 0.40941236826474525, 'kMaxAttractionDistance': 20, 'kStartAttraction': 0.027840698476037082}. Best is trial 52 with value: 8510.45922746781.\u001b[0m\n"
     ]
    },
    {
     "name": "stdout",
     "output_type": "stream",
     "text": [
      "index_parallel='0094'\n"
     ]
    },
    {
     "name": "stderr",
     "output_type": "stream",
     "text": [
      "\u001b[32m[I 2022-08-16 04:27:13,929]\u001b[0m Trial 94 finished with value: 8001.394849785408 and parameters: {'kErase': 1, 'kRadius': 4, 'kAnnealingA': 9.443275433876684, 'kAnnealingB': 2.8217021168309566, 'kAnnealingStart': 39.87336433222394, 'kSkipRatio': 0.5851497052287485, 'kTargetDeterminationTrials': 13, 'kAttractionRatio': 0.25392810331494303, 'kMaxAttractionDistance': 10, 'kStartAttraction': 0.00495529895609827}. Best is trial 52 with value: 8510.45922746781.\u001b[0m\n"
     ]
    },
    {
     "name": "stdout",
     "output_type": "stream",
     "text": [
      "index_parallel='0095'\n"
     ]
    },
    {
     "name": "stderr",
     "output_type": "stream",
     "text": [
      "\u001b[32m[I 2022-08-16 04:31:36,635]\u001b[0m Trial 95 finished with value: 6696.283261802575 and parameters: {'kErase': 5, 'kRadius': 4, 'kAnnealingA': -7.16359509806497, 'kAnnealingB': 2.9242428820745974, 'kAnnealingStart': 4.116402564739315, 'kSkipRatio': 0.5129228167673273, 'kTargetDeterminationTrials': 12, 'kAttractionRatio': 0.2147989210991023, 'kMaxAttractionDistance': 12, 'kStartAttraction': 0.0031332331066625074}. Best is trial 52 with value: 8510.45922746781.\u001b[0m\n"
     ]
    },
    {
     "name": "stdout",
     "output_type": "stream",
     "text": [
      "index_parallel='0096'\n"
     ]
    },
    {
     "name": "stderr",
     "output_type": "stream",
     "text": [
      "\u001b[32m[I 2022-08-16 04:35:59,257]\u001b[0m Trial 96 finished with value: 8258.270386266095 and parameters: {'kErase': 3, 'kRadius': 3, 'kAnnealingA': 11.365199131502928, 'kAnnealingB': 1.071921859272158, 'kAnnealingStart': 6.08785432350804, 'kSkipRatio': 0.6407268223172441, 'kTargetDeterminationTrials': 11, 'kAttractionRatio': 0.29580606239807306, 'kMaxAttractionDistance': 21, 'kStartAttraction': 0.3172335979101636}. Best is trial 52 with value: 8510.45922746781.\u001b[0m\n"
     ]
    },
    {
     "name": "stdout",
     "output_type": "stream",
     "text": [
      "index_parallel='0097'\n"
     ]
    },
    {
     "name": "stderr",
     "output_type": "stream",
     "text": [
      "\u001b[32m[I 2022-08-16 04:40:21,378]\u001b[0m Trial 97 finished with value: 7859.712446351931 and parameters: {'kErase': 1, 'kRadius': 3, 'kAnnealingA': 8.617978882928998, 'kAnnealingB': 2.9843425681086764, 'kAnnealingStart': 29.263615716515595, 'kSkipRatio': 0.6186379898185881, 'kTargetDeterminationTrials': 7, 'kAttractionRatio': 0.7947825473218427, 'kMaxAttractionDistance': 36, 'kStartAttraction': 0.003812021147462117}. Best is trial 52 with value: 8510.45922746781.\u001b[0m\n"
     ]
    },
    {
     "name": "stdout",
     "output_type": "stream",
     "text": [
      "index_parallel='0098'\n"
     ]
    },
    {
     "name": "stderr",
     "output_type": "stream",
     "text": [
      "\u001b[32m[I 2022-08-16 04:44:43,798]\u001b[0m Trial 98 finished with value: 8567.484978540773 and parameters: {'kErase': 2, 'kRadius': 3, 'kAnnealingA': 3.4618271578246853, 'kAnnealingB': 0.5758411333390177, 'kAnnealingStart': 45.856754276325375, 'kSkipRatio': 0.5735985471977127, 'kTargetDeterminationTrials': 14, 'kAttractionRatio': 0.5754344434121093, 'kMaxAttractionDistance': 14, 'kStartAttraction': 0.006887694517364393}. Best is trial 98 with value: 8567.484978540773.\u001b[0m\n"
     ]
    },
    {
     "name": "stdout",
     "output_type": "stream",
     "text": [
      "Updated! 8567.484978540773\n",
      "index_parallel='0099'\n"
     ]
    },
    {
     "name": "stderr",
     "output_type": "stream",
     "text": [
      "\u001b[32m[I 2022-08-16 04:49:06,276]\u001b[0m Trial 99 finished with value: 8373.55364806867 and parameters: {'kErase': 2, 'kRadius': 3, 'kAnnealingA': 1.3683302027215056, 'kAnnealingB': 0.025552187794281533, 'kAnnealingStart': 47.408784741010386, 'kSkipRatio': 0.5700422371895291, 'kTargetDeterminationTrials': 16, 'kAttractionRatio': 0.6789542455987841, 'kMaxAttractionDistance': 14, 'kStartAttraction': 0.008289582374547648}. Best is trial 98 with value: 8567.484978540773.\u001b[0m\n"
     ]
    },
    {
     "name": "stdout",
     "output_type": "stream",
     "text": [
      "index_parallel='0100'\n"
     ]
    },
    {
     "name": "stderr",
     "output_type": "stream",
     "text": [
      "\u001b[32m[I 2022-08-16 04:53:28,902]\u001b[0m Trial 100 finished with value: 8472.351931330471 and parameters: {'kErase': 2, 'kRadius': 3, 'kAnnealingA': 3.6952149627151236, 'kAnnealingB': 0.013431115647034616, 'kAnnealingStart': 60.0660526364252, 'kSkipRatio': 0.5987295903867748, 'kTargetDeterminationTrials': 18, 'kAttractionRatio': 0.6738981966705161, 'kMaxAttractionDistance': 14, 'kStartAttraction': 0.0026773875274037707}. Best is trial 98 with value: 8567.484978540773.\u001b[0m\n"
     ]
    },
    {
     "name": "stdout",
     "output_type": "stream",
     "text": [
      "index_parallel='0101'\n"
     ]
    },
    {
     "name": "stderr",
     "output_type": "stream",
     "text": [
      "\u001b[32m[I 2022-08-16 04:57:51,363]\u001b[0m Trial 101 finished with value: 8412.952789699571 and parameters: {'kErase': 2, 'kRadius': 3, 'kAnnealingA': 3.316802014050373, 'kAnnealingB': 0.05387560082142773, 'kAnnealingStart': 51.28263824597444, 'kSkipRatio': 0.5977558919861686, 'kTargetDeterminationTrials': 18, 'kAttractionRatio': 0.6899023814047635, 'kMaxAttractionDistance': 14, 'kStartAttraction': 0.0019199737311093143}. Best is trial 98 with value: 8567.484978540773.\u001b[0m\n"
     ]
    },
    {
     "name": "stdout",
     "output_type": "stream",
     "text": [
      "index_parallel='0102'\n"
     ]
    },
    {
     "name": "stderr",
     "output_type": "stream",
     "text": [
      "\u001b[32m[I 2022-08-16 05:02:13,849]\u001b[0m Trial 102 finished with value: 8289.287553648068 and parameters: {'kErase': 2, 'kRadius': 3, 'kAnnealingA': 3.3482534333823573, 'kAnnealingB': 0.17147442924028808, 'kAnnealingStart': 88.40983308266264, 'kSkipRatio': 0.5972911447463618, 'kTargetDeterminationTrials': 18, 'kAttractionRatio': 0.8175875256899983, 'kMaxAttractionDistance': 16, 'kStartAttraction': 0.002613263377398747}. Best is trial 98 with value: 8567.484978540773.\u001b[0m\n"
     ]
    },
    {
     "name": "stdout",
     "output_type": "stream",
     "text": [
      "index_parallel='0104'\n"
     ]
    },
    {
     "name": "stderr",
     "output_type": "stream",
     "text": [
      "\u001b[32m[I 2022-08-16 05:06:36,672]\u001b[0m Trial 104 finished with value: 8276.862660944205 and parameters: {'kErase': 2, 'kRadius': 3, 'kAnnealingA': 4.250160439642415, 'kAnnealingB': 0.30761460048406875, 'kAnnealingStart': 65.61275760205092, 'kSkipRatio': 0.6284996633471377, 'kTargetDeterminationTrials': 18, 'kAttractionRatio': 0.6252485523444685, 'kMaxAttractionDistance': 18, 'kStartAttraction': 0.0020261732390918492}. Best is trial 98 with value: 8567.484978540773.\u001b[0m\n"
     ]
    },
    {
     "name": "stdout",
     "output_type": "stream",
     "text": [
      "index_parallel='0106'\n"
     ]
    },
    {
     "name": "stderr",
     "output_type": "stream",
     "text": [
      "\u001b[32m[I 2022-08-16 05:10:59,563]\u001b[0m Trial 106 finished with value: 8363.789699570816 and parameters: {'kErase': 2, 'kRadius': 3, 'kAnnealingA': 3.1173361951307146, 'kAnnealingB': 0.0647261191401527, 'kAnnealingStart': 60.029354274984925, 'kSkipRatio': 0.6142317291199227, 'kTargetDeterminationTrials': 14, 'kAttractionRatio': 0.6857752258708772, 'kMaxAttractionDistance': 20, 'kStartAttraction': 0.001533569710731754}. Best is trial 98 with value: 8567.484978540773.\u001b[0m\n"
     ]
    },
    {
     "name": "stdout",
     "output_type": "stream",
     "text": [
      "index_parallel='0108'\n"
     ]
    },
    {
     "name": "stderr",
     "output_type": "stream",
     "text": [
      "\u001b[32m[I 2022-08-16 05:15:22,239]\u001b[0m Trial 108 finished with value: 8209.80686695279 and parameters: {'kErase': 2, 'kRadius': 3, 'kAnnealingA': 6.135921319822468, 'kAnnealingB': 0.51386869630722, 'kAnnealingStart': 52.66774698022051, 'kSkipRatio': 0.648208028152151, 'kTargetDeterminationTrials': 19, 'kAttractionRatio': 0.5174274970044558, 'kMaxAttractionDistance': 14, 'kStartAttraction': 0.23882712139213513}. Best is trial 98 with value: 8567.484978540773.\u001b[0m\n"
     ]
    },
    {
     "name": "stdout",
     "output_type": "stream",
     "text": [
      "index_parallel='0110'\n"
     ]
    },
    {
     "name": "stderr",
     "output_type": "stream",
     "text": [
      "\u001b[32m[I 2022-08-16 05:19:44,743]\u001b[0m Trial 110 finished with value: 5708.50643776824 and parameters: {'kErase': 3, 'kRadius': 3, 'kAnnealingA': 5.341105147189621, 'kAnnealingB': 0.20765955282632292, 'kAnnealingStart': 80.43180027148729, 'kSkipRatio': 0.5499985329487885, 'kTargetDeterminationTrials': 16, 'kAttractionRatio': 0.02272342124640116, 'kMaxAttractionDistance': 25, 'kStartAttraction': 0.0022463226733525983}. Best is trial 98 with value: 8567.484978540773.\u001b[0m\n"
     ]
    },
    {
     "name": "stdout",
     "output_type": "stream",
     "text": [
      "index_parallel='0112'\n"
     ]
    },
    {
     "name": "stderr",
     "output_type": "stream",
     "text": [
      "\u001b[32m[I 2022-08-16 05:24:07,627]\u001b[0m Trial 112 finished with value: 8372.776824034334 and parameters: {'kErase': 2, 'kRadius': 3, 'kAnnealingA': 1.718954100869141, 'kAnnealingB': 0.027952676556904952, 'kAnnealingStart': 46.98289617268915, 'kSkipRatio': 0.5765961380883644, 'kTargetDeterminationTrials': 16, 'kAttractionRatio': 0.5738980532952509, 'kMaxAttractionDistance': 15, 'kStartAttraction': 0.0038612930308352094}. Best is trial 98 with value: 8567.484978540773.\u001b[0m\n"
     ]
    },
    {
     "name": "stdout",
     "output_type": "stream",
     "text": [
      "index_parallel='0114'\n"
     ]
    },
    {
     "name": "stderr",
     "output_type": "stream",
     "text": [
      "\u001b[32m[I 2022-08-16 05:28:29,995]\u001b[0m Trial 114 finished with value: 8270.356223175966 and parameters: {'kErase': 2, 'kRadius': 3, 'kAnnealingA': 4.326422390543148, 'kAnnealingB': 0.412051297534362, 'kAnnealingStart': 44.44157978864709, 'kSkipRatio': 0.5857639495569721, 'kTargetDeterminationTrials': 13, 'kAttractionRatio': 0.42912571941884475, 'kMaxAttractionDistance': 17, 'kStartAttraction': 0.003028377752966258}. Best is trial 98 with value: 8567.484978540773.\u001b[0m\n"
     ]
    },
    {
     "name": "stdout",
     "output_type": "stream",
     "text": [
      "index_parallel='0116'\n"
     ]
    },
    {
     "name": "stderr",
     "output_type": "stream",
     "text": [
      "\u001b[32m[I 2022-08-16 05:32:52,559]\u001b[0m Trial 116 finished with value: 8406.519313304721 and parameters: {'kErase': 2, 'kRadius': 3, 'kAnnealingA': 2.886019082739915, 'kAnnealingB': 0.4713357007284597, 'kAnnealingStart': 37.367282546168006, 'kSkipRatio': 0.6027169718095282, 'kTargetDeterminationTrials': 14, 'kAttractionRatio': 0.34142463485001445, 'kMaxAttractionDistance': 16, 'kStartAttraction': 0.005226798037138561}. Best is trial 98 with value: 8567.484978540773.\u001b[0m\n"
     ]
    },
    {
     "name": "stdout",
     "output_type": "stream",
     "text": [
      "index_parallel='0118'\n"
     ]
    },
    {
     "name": "stderr",
     "output_type": "stream",
     "text": [
      "\u001b[32m[I 2022-08-16 05:37:14,925]\u001b[0m Trial 118 finished with value: 7697.802575107296 and parameters: {'kErase': 2, 'kRadius': 3, 'kAnnealingA': 6.813885107656006, 'kAnnealingB': 0.2612988901465348, 'kAnnealingStart': 53.2424705084941, 'kSkipRatio': 0.5660805904606506, 'kTargetDeterminationTrials': 19, 'kAttractionRatio': 0.46919678129301373, 'kMaxAttractionDistance': 22, 'kStartAttraction': 0.16484622262819207}. Best is trial 98 with value: 8567.484978540773.\u001b[0m\n"
     ]
    },
    {
     "name": "stdout",
     "output_type": "stream",
     "text": [
      "index_parallel='0120'\n"
     ]
    },
    {
     "name": "stderr",
     "output_type": "stream",
     "text": [
      "\u001b[32m[I 2022-08-16 05:41:37,811]\u001b[0m Trial 120 finished with value: 7463.175965665236 and parameters: {'kErase': 2, 'kRadius': 3, 'kAnnealingA': 5.777901053887955, 'kAnnealingB': 0.10520022757833952, 'kAnnealingStart': 32.295073979266995, 'kSkipRatio': 0.6705204063847022, 'kTargetDeterminationTrials': 12, 'kAttractionRatio': 0.06152902962769453, 'kMaxAttractionDistance': 15, 'kStartAttraction': 0.003429202250597527}. Best is trial 98 with value: 8567.484978540773.\u001b[0m\n"
     ]
    },
    {
     "name": "stdout",
     "output_type": "stream",
     "text": [
      "index_parallel='0122'\n"
     ]
    },
    {
     "name": "stderr",
     "output_type": "stream",
     "text": [
      "\u001b[32m[I 2022-08-16 05:46:00,502]\u001b[0m Trial 122 finished with value: 8259.824034334764 and parameters: {'kErase': 2, 'kRadius': 3, 'kAnnealingA': 7.415476399221903, 'kAnnealingB': 0.18566810734022302, 'kAnnealingStart': 42.41510044942562, 'kSkipRatio': 0.6536828003178707, 'kTargetDeterminationTrials': 13, 'kAttractionRatio': 0.8994953866075878, 'kMaxAttractionDistance': 18, 'kStartAttraction': 0.0058938005857598974}. Best is trial 98 with value: 8567.484978540773.\u001b[0m\n"
     ]
    },
    {
     "name": "stdout",
     "output_type": "stream",
     "text": [
      "index_parallel='0124'\n"
     ]
    },
    {
     "name": "stderr",
     "output_type": "stream",
     "text": [
      "\u001b[32m[I 2022-08-16 05:50:23,239]\u001b[0m Trial 124 finished with value: 7820.716738197425 and parameters: {'kErase': 2, 'kRadius': 3, 'kAnnealingA': 3.965924398393094, 'kAnnealingB': 0.34340798542965345, 'kAnnealingStart': 3.499679750275, 'kSkipRatio': 0.6224528953451364, 'kTargetDeterminationTrials': 10, 'kAttractionRatio': 0.3849564407846571, 'kMaxAttractionDistance': 14, 'kStartAttraction': 0.002660798738510753}. Best is trial 98 with value: 8567.484978540773.\u001b[0m\n"
     ]
    },
    {
     "name": "stdout",
     "output_type": "stream",
     "text": [
      "index_parallel='0126'\n"
     ]
    },
    {
     "name": "stderr",
     "output_type": "stream",
     "text": [
      "\u001b[32m[I 2022-08-16 05:54:45,461]\u001b[0m Trial 126 finished with value: 8362.364806866954 and parameters: {'kErase': 2, 'kRadius': 3, 'kAnnealingA': 7.836911598753169, 'kAnnealingB': 0.007741581171851827, 'kAnnealingStart': 38.81567063368131, 'kSkipRatio': 0.6391119092555527, 'kTargetDeterminationTrials': 11, 'kAttractionRatio': 0.3134636699731542, 'kMaxAttractionDistance': 12, 'kStartAttraction': 0.004463117358627888}. Best is trial 98 with value: 8567.484978540773.\u001b[0m\n"
     ]
    },
    {
     "name": "stdout",
     "output_type": "stream",
     "text": [
      "index_parallel='0128'\n"
     ]
    },
    {
     "name": "stderr",
     "output_type": "stream",
     "text": [
      "\u001b[32m[I 2022-08-16 05:59:08,105]\u001b[0m Trial 128 finished with value: 8223.274678111587 and parameters: {'kErase': 3, 'kRadius': 3, 'kAnnealingA': 4.535934485486565, 'kAnnealingB': 0.5858277270661152, 'kAnnealingStart': 37.78879630175171, 'kSkipRatio': 0.6863565046052087, 'kTargetDeterminationTrials': 14, 'kAttractionRatio': 0.3887834078620942, 'kMaxAttractionDistance': 12, 'kStartAttraction': 0.007868428007190323}. Best is trial 98 with value: 8567.484978540773.\u001b[0m\n"
     ]
    },
    {
     "name": "stdout",
     "output_type": "stream",
     "text": [
      "index_parallel='0130'\n"
     ]
    },
    {
     "name": "stderr",
     "output_type": "stream",
     "text": [
      "\u001b[32m[I 2022-08-16 06:03:30,734]\u001b[0m Trial 130 finished with value: 8392.708154506437 and parameters: {'kErase': 2, 'kRadius': 3, 'kAnnealingA': 2.7233654459878376, 'kAnnealingB': 0.866901139973367, 'kAnnealingStart': 28.664417214548564, 'kSkipRatio': 0.6992399364172648, 'kTargetDeterminationTrials': 15, 'kAttractionRatio': 0.27451827800954864, 'kMaxAttractionDistance': 13, 'kStartAttraction': 0.010390189114389789}. Best is trial 98 with value: 8567.484978540773.\u001b[0m\n"
     ]
    },
    {
     "name": "stdout",
     "output_type": "stream",
     "text": [
      "index_parallel='0132'\n"
     ]
    },
    {
     "name": "stderr",
     "output_type": "stream",
     "text": [
      "\u001b[32m[I 2022-08-16 06:07:54,586]\u001b[0m Trial 132 finished with value: 8049.849785407725 and parameters: {'kErase': 2, 'kRadius': 3, 'kAnnealingA': 8.832065682070615, 'kAnnealingB': 0.7172613444670557, 'kAnnealingStart': 40.6170266569227, 'kSkipRatio': 0.6745654591599866, 'kTargetDeterminationTrials': 12, 'kAttractionRatio': 0.32837289165542666, 'kMaxAttractionDistance': 15, 'kStartAttraction': 0.006123459039687882}. Best is trial 98 with value: 8567.484978540773.\u001b[0m\n"
     ]
    },
    {
     "name": "stdout",
     "output_type": "stream",
     "text": [
      "index_parallel='0134'\n"
     ]
    },
    {
     "name": "stderr",
     "output_type": "stream",
     "text": [
      "\u001b[32m[I 2022-08-16 06:12:17,162]\u001b[0m Trial 134 finished with value: 8338.639484978541 and parameters: {'kErase': 2, 'kRadius': 3, 'kAnnealingA': 6.462033482469929, 'kAnnealingB': 0.6472451195747535, 'kAnnealingStart': 24.232231486739508, 'kSkipRatio': 0.5862760780985319, 'kTargetDeterminationTrials': 11, 'kAttractionRatio': 0.41653304109326456, 'kMaxAttractionDistance': 11, 'kStartAttraction': 0.00639005404871666}. Best is trial 98 with value: 8567.484978540773.\u001b[0m\n"
     ]
    },
    {
     "name": "stdout",
     "output_type": "stream",
     "text": [
      "index_parallel='0136'\n"
     ]
    },
    {
     "name": "stderr",
     "output_type": "stream",
     "text": [
      "\u001b[32m[I 2022-08-16 06:16:40,999]\u001b[0m Trial 136 finished with value: 8458.094420600859 and parameters: {'kErase': 2, 'kRadius': 3, 'kAnnealingA': 5.168817578450216, 'kAnnealingB': 0.3837240535354913, 'kAnnealingStart': 34.25351953157078, 'kSkipRatio': 0.491799568944727, 'kTargetDeterminationTrials': 17, 'kAttractionRatio': 0.4948593792225912, 'kMaxAttractionDistance': 16, 'kStartAttraction': 0.0050981911311233745}. Best is trial 98 with value: 8567.484978540773.\u001b[0m\n"
     ]
    },
    {
     "name": "stdout",
     "output_type": "stream",
     "text": [
      "index_parallel='0138'\n"
     ]
    },
    {
     "name": "stderr",
     "output_type": "stream",
     "text": [
      "\u001b[32m[I 2022-08-16 06:21:03,544]\u001b[0m Trial 138 finished with value: 8204.386266094421 and parameters: {'kErase': 2, 'kRadius': 2, 'kAnnealingA': 3.7362459301175144, 'kAnnealingB': 0.29202071912380145, 'kAnnealingStart': 32.872614814027095, 'kSkipRatio': 0.48021403328504675, 'kTargetDeterminationTrials': 20, 'kAttractionRatio': 0.5127878353161451, 'kMaxAttractionDistance': 10, 'kStartAttraction': 0.005245699967279507}. Best is trial 98 with value: 8567.484978540773.\u001b[0m\n"
     ]
    },
    {
     "name": "stdout",
     "output_type": "stream",
     "text": [
      "index_parallel='0140'\n"
     ]
    },
    {
     "name": "stderr",
     "output_type": "stream",
     "text": [
      "\u001b[32m[I 2022-08-16 06:25:25,988]\u001b[0m Trial 140 finished with value: 8334.017167381975 and parameters: {'kErase': 2, 'kRadius': 3, 'kAnnealingA': 4.583334757127581, 'kAnnealingB': 0.3626461549104542, 'kAnnealingStart': 26.026597738713892, 'kSkipRatio': 0.6418053056576665, 'kTargetDeterminationTrials': 17, 'kAttractionRatio': 0.3692665547284079, 'kMaxAttractionDistance': 11, 'kStartAttraction': 0.004931140150413087}. Best is trial 98 with value: 8567.484978540773.\u001b[0m\n"
     ]
    },
    {
     "name": "stdout",
     "output_type": "stream",
     "text": [
      "index_parallel='0142'\n"
     ]
    },
    {
     "name": "stderr",
     "output_type": "stream",
     "text": [
      "\u001b[32m[I 2022-08-16 06:29:48,588]\u001b[0m Trial 142 finished with value: 8440.532188841202 and parameters: {'kErase': 2, 'kRadius': 3, 'kAnnealingA': 7.179655346490904, 'kAnnealingB': 0.17684149610259792, 'kAnnealingStart': 47.02918097321456, 'kSkipRatio': 0.49891080719136, 'kTargetDeterminationTrials': 15, 'kAttractionRatio': 0.5630664920540085, 'kMaxAttractionDistance': 16, 'kStartAttraction': 0.004436870667449383}. Best is trial 98 with value: 8567.484978540773.\u001b[0m\n"
     ]
    },
    {
     "name": "stdout",
     "output_type": "stream",
     "text": [
      "index_parallel='0144'\n"
     ]
    },
    {
     "name": "stderr",
     "output_type": "stream",
     "text": [
      "\u001b[32m[I 2022-08-16 06:34:10,906]\u001b[0m Trial 144 finished with value: 8528.630901287554 and parameters: {'kErase': 2, 'kRadius': 3, 'kAnnealingA': 7.830476171106801, 'kAnnealingB': 0.49992042276820425, 'kAnnealingStart': 35.73293020949333, 'kSkipRatio': 0.4632484966302549, 'kTargetDeterminationTrials': 15, 'kAttractionRatio': 0.45605114175173767, 'kMaxAttractionDistance': 12, 'kStartAttraction': 0.007179794091067825}. Best is trial 98 with value: 8567.484978540773.\u001b[0m\n"
     ]
    },
    {
     "name": "stdout",
     "output_type": "stream",
     "text": [
      "index_parallel='0146'\n"
     ]
    },
    {
     "name": "stderr",
     "output_type": "stream",
     "text": [
      "\u001b[32m[I 2022-08-16 06:38:33,526]\u001b[0m Trial 146 finished with value: 8497.909871244636 and parameters: {'kErase': 2, 'kRadius': 3, 'kAnnealingA': 7.217470890209913, 'kAnnealingB': 0.5395162336101611, 'kAnnealingStart': 34.46586057426306, 'kSkipRatio': 0.46400122567755453, 'kTargetDeterminationTrials': 19, 'kAttractionRatio': 0.46983494013409494, 'kMaxAttractionDistance': 13, 'kStartAttraction': 0.009023748035605524}. Best is trial 98 with value: 8567.484978540773.\u001b[0m\n"
     ]
    },
    {
     "name": "stdout",
     "output_type": "stream",
     "text": [
      "index_parallel='0148'\n"
     ]
    },
    {
     "name": "stderr",
     "output_type": "stream",
     "text": [
      "\u001b[32m[I 2022-08-16 06:42:56,159]\u001b[0m Trial 148 finished with value: 8435.12017167382 and parameters: {'kErase': 2, 'kRadius': 3, 'kAnnealingA': 7.2803328950655635, 'kAnnealingB': 0.9565689919185046, 'kAnnealingStart': 37.60648078098382, 'kSkipRatio': 0.47169788988278016, 'kTargetDeterminationTrials': 19, 'kAttractionRatio': 0.4757800756906902, 'kMaxAttractionDistance': 12, 'kStartAttraction': 0.009132849733571471}. Best is trial 98 with value: 8567.484978540773.\u001b[0m\n"
     ]
    },
    {
     "name": "stdout",
     "output_type": "stream",
     "text": [
      "index_parallel='0150'\n"
     ]
    },
    {
     "name": "stderr",
     "output_type": "stream",
     "text": [
      "\u001b[32m[I 2022-08-16 06:47:18,788]\u001b[0m Trial 150 finished with value: 8452.360515021459 and parameters: {'kErase': 2, 'kRadius': 3, 'kAnnealingA': 8.963036793305871, 'kAnnealingB': 0.5243771531548119, 'kAnnealingStart': 34.33341008649388, 'kSkipRatio': 0.4482788466827369, 'kTargetDeterminationTrials': 20, 'kAttractionRatio': 0.5461615708661576, 'kMaxAttractionDistance': 13, 'kStartAttraction': 0.007675029981762614}. Best is trial 98 with value: 8567.484978540773.\u001b[0m\n"
     ]
    },
    {
     "name": "stdout",
     "output_type": "stream",
     "text": [
      "index_parallel='0152'\n"
     ]
    },
    {
     "name": "stderr",
     "output_type": "stream",
     "text": [
      "\u001b[32m[I 2022-08-16 06:51:41,223]\u001b[0m Trial 152 finished with value: 8527.339055793991 and parameters: {'kErase': 2, 'kRadius': 3, 'kAnnealingA': 8.881685382021063, 'kAnnealingB': 0.5264063039752822, 'kAnnealingStart': 34.272287848466554, 'kSkipRatio': 0.45761628141840677, 'kTargetDeterminationTrials': 20, 'kAttractionRatio': 0.537278586505353, 'kMaxAttractionDistance': 13, 'kStartAttraction': 0.011186308545694806}. Best is trial 98 with value: 8567.484978540773.\u001b[0m\n"
     ]
    },
    {
     "name": "stdout",
     "output_type": "stream",
     "text": [
      "index_parallel='0154'\n"
     ]
    },
    {
     "name": "stderr",
     "output_type": "stream",
     "text": [
      "\u001b[32m[I 2022-08-16 06:56:03,661]\u001b[0m Trial 154 finished with value: 8470.270386266095 and parameters: {'kErase': 2, 'kRadius': 3, 'kAnnealingA': 9.607662064466021, 'kAnnealingB': 0.5026544385508069, 'kAnnealingStart': 39.57135302271122, 'kSkipRatio': 0.41675529050714044, 'kTargetDeterminationTrials': 18, 'kAttractionRatio': 0.6176187578550348, 'kMaxAttractionDistance': 12, 'kStartAttraction': 0.012591981125259178}. Best is trial 98 with value: 8567.484978540773.\u001b[0m\n"
     ]
    },
    {
     "name": "stdout",
     "output_type": "stream",
     "text": [
      "index_parallel='0156'\n"
     ]
    },
    {
     "name": "stderr",
     "output_type": "stream",
     "text": [
      "\u001b[32m[I 2022-08-16 07:00:26,183]\u001b[0m Trial 156 finished with value: 8432.56652360515 and parameters: {'kErase': 2, 'kRadius': 3, 'kAnnealingA': 10.099506082055258, 'kAnnealingB': 0.6743013800056574, 'kAnnealingStart': 38.71230684831733, 'kSkipRatio': 0.46426519984749526, 'kTargetDeterminationTrials': 18, 'kAttractionRatio': 0.6139392934236446, 'kMaxAttractionDistance': 12, 'kStartAttraction': 0.013997556075311566}. Best is trial 98 with value: 8567.484978540773.\u001b[0m\n"
     ]
    },
    {
     "name": "stdout",
     "output_type": "stream",
     "text": [
      "index_parallel='0158'\n"
     ]
    },
    {
     "name": "stderr",
     "output_type": "stream",
     "text": [
      "\u001b[32m[I 2022-08-16 07:04:48,735]\u001b[0m Trial 158 finished with value: 7002.630901287554 and parameters: {'kErase': 2, 'kRadius': 3, 'kAnnealingA': 8.669781910797534, 'kAnnealingB': 0.622688509035041, 'kAnnealingStart': 55.88111694417267, 'kSkipRatio': 0.41652158400057965, 'kTargetDeterminationTrials': 16, 'kAttractionRatio': 0.30896561669396005, 'kMaxAttractionDistance': 14, 'kStartAttraction': 0.010271208831229124}. Best is trial 98 with value: 8567.484978540773.\u001b[0m\n"
     ]
    },
    {
     "name": "stdout",
     "output_type": "stream",
     "text": [
      "index_parallel='0160'\n"
     ]
    },
    {
     "name": "stderr",
     "output_type": "stream",
     "text": [
      "\u001b[32m[I 2022-08-16 07:09:11,421]\u001b[0m Trial 160 finished with value: 8325.875536480688 and parameters: {'kErase': 2, 'kRadius': 3, 'kAnnealingA': 9.313674517428714, 'kAnnealingB': 0.7890161424650611, 'kAnnealingStart': 41.446685856126734, 'kSkipRatio': 0.3731848063410928, 'kTargetDeterminationTrials': 19, 'kAttractionRatio': 0.3990710655031206, 'kMaxAttractionDistance': 13, 'kStartAttraction': 0.016795322185076265}. Best is trial 98 with value: 8567.484978540773.\u001b[0m\n"
     ]
    },
    {
     "name": "stdout",
     "output_type": "stream",
     "text": [
      "index_parallel='0162'\n"
     ]
    },
    {
     "name": "stderr",
     "output_type": "stream",
     "text": [
      "\u001b[32m[I 2022-08-16 07:13:33,846]\u001b[0m Trial 162 finished with value: 8500.081545064379 and parameters: {'kErase': 2, 'kRadius': 3, 'kAnnealingA': 6.8622607253500885, 'kAnnealingB': 0.4420047549602907, 'kAnnealingStart': 36.30569734604442, 'kSkipRatio': 0.4546008879485991, 'kTargetDeterminationTrials': 17, 'kAttractionRatio': 0.4487101126221031, 'kMaxAttractionDistance': 11, 'kStartAttraction': 0.00815474551022325}. Best is trial 98 with value: 8567.484978540773.\u001b[0m\n"
     ]
    },
    {
     "name": "stdout",
     "output_type": "stream",
     "text": [
      "index_parallel='0164'\n"
     ]
    },
    {
     "name": "stderr",
     "output_type": "stream",
     "text": [
      "\u001b[32m[I 2022-08-16 07:17:56,203]\u001b[0m Trial 164 finished with value: 8397.98712446352 and parameters: {'kErase': 2, 'kRadius': 3, 'kAnnealingA': 6.861285113954665, 'kAnnealingB': 0.484094149127748, 'kAnnealingStart': 35.98456683086656, 'kSkipRatio': 0.41062511871955815, 'kTargetDeterminationTrials': 19, 'kAttractionRatio': 0.6664515273303304, 'kMaxAttractionDistance': 11, 'kStartAttraction': 0.012836747031096498}. Best is trial 98 with value: 8567.484978540773.\u001b[0m\n"
     ]
    },
    {
     "name": "stdout",
     "output_type": "stream",
     "text": [
      "index_parallel='0166'\n"
     ]
    },
    {
     "name": "stderr",
     "output_type": "stream",
     "text": [
      "\u001b[32m[I 2022-08-16 07:22:18,693]\u001b[0m Trial 166 finished with value: 8328.493562231759 and parameters: {'kErase': 2, 'kRadius': 3, 'kAnnealingA': 9.651490181271365, 'kAnnealingB': 0.5611508139191569, 'kAnnealingStart': 30.422926399293594, 'kSkipRatio': 0.4346793172589175, 'kTargetDeterminationTrials': 18, 'kAttractionRatio': 0.45363195099643383, 'kMaxAttractionDistance': 10, 'kStartAttraction': 0.010894968033852873}. Best is trial 98 with value: 8567.484978540773.\u001b[0m\n"
     ]
    },
    {
     "name": "stdout",
     "output_type": "stream",
     "text": [
      "index_parallel='0168'\n"
     ]
    },
    {
     "name": "stderr",
     "output_type": "stream",
     "text": [
      "\u001b[32m[I 2022-08-16 07:26:41,342]\u001b[0m Trial 168 finished with value: 8361.510729613734 and parameters: {'kErase': 2, 'kRadius': 3, 'kAnnealingA': 10.637448239630558, 'kAnnealingB': 0.3967547014779006, 'kAnnealingStart': 48.63344147125084, 'kSkipRatio': 0.45610990662672746, 'kTargetDeterminationTrials': 17, 'kAttractionRatio': 0.5443940838027331, 'kMaxAttractionDistance': 9, 'kStartAttraction': 0.009832189018080742}. Best is trial 98 with value: 8567.484978540773.\u001b[0m\n"
     ]
    },
    {
     "name": "stdout",
     "output_type": "stream",
     "text": [
      "index_parallel='0170'\n"
     ]
    },
    {
     "name": "stderr",
     "output_type": "stream",
     "text": [
      "\u001b[32m[I 2022-08-16 07:31:03,903]\u001b[0m Trial 170 finished with value: 8328.094420600859 and parameters: {'kErase': 2, 'kRadius': 3, 'kAnnealingA': 9.213749190305103, 'kAnnealingB': 0.5747266267512471, 'kAnnealingStart': 30.987953412481506, 'kSkipRatio': 0.42301594924934505, 'kTargetDeterminationTrials': 14, 'kAttractionRatio': 0.6392035556476301, 'kMaxAttractionDistance': 14, 'kStartAttraction': 0.007526973383052607}. Best is trial 98 with value: 8567.484978540773.\u001b[0m\n"
     ]
    },
    {
     "name": "stdout",
     "output_type": "stream",
     "text": [
      "index_parallel='0172'\n"
     ]
    },
    {
     "name": "stderr",
     "output_type": "stream",
     "text": [
      "\u001b[32m[I 2022-08-16 07:35:26,472]\u001b[0m Trial 172 finished with value: 8325.716738197425 and parameters: {'kErase': 2, 'kRadius': 3, 'kAnnealingA': 8.504386417634109, 'kAnnealingB': 0.4630736400863629, 'kAnnealingStart': 36.89075541687298, 'kSkipRatio': 0.3166003946613968, 'kTargetDeterminationTrials': 20, 'kAttractionRatio': 0.33006630948513455, 'kMaxAttractionDistance': 12, 'kStartAttraction': 0.00590514655185587}. Best is trial 98 with value: 8567.484978540773.\u001b[0m\n"
     ]
    },
    {
     "name": "stdout",
     "output_type": "stream",
     "text": [
      "index_parallel='0174'\n"
     ]
    },
    {
     "name": "stderr",
     "output_type": "stream",
     "text": [
      "\u001b[32m[I 2022-08-16 07:39:49,092]\u001b[0m Trial 174 finished with value: 8284.751072961373 and parameters: {'kErase': 2, 'kRadius': 3, 'kAnnealingA': 7.432846374156821, 'kAnnealingB': 0.6995909517437311, 'kAnnealingStart': 42.713511713983955, 'kSkipRatio': 0.4707381927498887, 'kTargetDeterminationTrials': 16, 'kAttractionRatio': 0.3589347824960583, 'kMaxAttractionDistance': 11, 'kStartAttraction': 0.006646617136871624}. Best is trial 98 with value: 8567.484978540773.\u001b[0m\n"
     ]
    },
    {
     "name": "stdout",
     "output_type": "stream",
     "text": [
      "index_parallel='0176'\n"
     ]
    },
    {
     "name": "stderr",
     "output_type": "stream",
     "text": [
      "\u001b[32m[I 2022-08-16 07:44:12,043]\u001b[0m Trial 176 finished with value: 8274.652360515021 and parameters: {'kErase': 2, 'kRadius': 3, 'kAnnealingA': 5.5618611775717826, 'kAnnealingB': 0.31358556121060854, 'kAnnealingStart': 26.51825145238729, 'kSkipRatio': 0.4628180592988864, 'kTargetDeterminationTrials': 15, 'kAttractionRatio': 0.5100114494439759, 'kMaxAttractionDistance': 11, 'kStartAttraction': 0.00886108432289818}. Best is trial 98 with value: 8567.484978540773.\u001b[0m\n"
     ]
    },
    {
     "name": "stdout",
     "output_type": "stream",
     "text": [
      "index_parallel='0178'\n"
     ]
    },
    {
     "name": "stderr",
     "output_type": "stream",
     "text": [
      "\u001b[32m[I 2022-08-16 07:48:34,628]\u001b[0m Trial 178 finished with value: 8210.40772532189 and parameters: {'kErase': 2, 'kRadius': 3, 'kAnnealingA': -2.59009814583709, 'kAnnealingB': 1.9353589704982506, 'kAnnealingStart': 64.87854545142324, 'kSkipRatio': 0.48702776915766716, 'kTargetDeterminationTrials': 18, 'kAttractionRatio': 0.4298964536695589, 'kMaxAttractionDistance': 13, 'kStartAttraction': 0.005974630292161254}. Best is trial 98 with value: 8567.484978540773.\u001b[0m\n"
     ]
    },
    {
     "name": "stdout",
     "output_type": "stream",
     "text": [
      "index_parallel='0180'\n"
     ]
    },
    {
     "name": "stderr",
     "output_type": "stream",
     "text": [
      "\u001b[32m[I 2022-08-16 07:52:57,565]\u001b[0m Trial 180 finished with value: 7779.283261802575 and parameters: {'kErase': 4, 'kRadius': 3, 'kAnnealingA': 8.121958882084822, 'kAnnealingB': 1.5321270524367965, 'kAnnealingStart': 33.69964818127419, 'kSkipRatio': 0.6519682847368816, 'kTargetDeterminationTrials': 18, 'kAttractionRatio': 0.5831626711116111, 'kMaxAttractionDistance': 12, 'kStartAttraction': 0.005621483651013158}. Best is trial 179 with value: 8577.708154506437.\u001b[0m\n"
     ]
    },
    {
     "name": "stdout",
     "output_type": "stream",
     "text": [
      "index_parallel='0182'\n"
     ]
    },
    {
     "name": "stderr",
     "output_type": "stream",
     "text": [
      "\u001b[32m[I 2022-08-16 07:57:20,121]\u001b[0m Trial 182 finished with value: 8432.965665236052 and parameters: {'kErase': 2, 'kRadius': 3, 'kAnnealingA': 6.900255245628572, 'kAnnealingB': 1.8254875392058574, 'kAnnealingStart': 32.36886881190683, 'kSkipRatio': 0.6373898613349719, 'kTargetDeterminationTrials': 19, 'kAttractionRatio': 0.37862770768093057, 'kMaxAttractionDistance': 10, 'kStartAttraction': 0.010414557270453113}. Best is trial 179 with value: 8577.708154506437.\u001b[0m\n"
     ]
    },
    {
     "name": "stdout",
     "output_type": "stream",
     "text": [
      "index_parallel='0184'\n"
     ]
    },
    {
     "name": "stderr",
     "output_type": "stream",
     "text": [
      "\u001b[32m[I 2022-08-16 08:01:42,756]\u001b[0m Trial 184 finished with value: 8512.386266094421 and parameters: {'kErase': 2, 'kRadius': 3, 'kAnnealingA': 9.821260594792475, 'kAnnealingB': 1.7018227157063968, 'kAnnealingStart': 39.75016681508459, 'kSkipRatio': 0.6239375557560367, 'kTargetDeterminationTrials': 13, 'kAttractionRatio': 0.4586956170441181, 'kMaxAttractionDistance': 15, 'kStartAttraction': 0.007249581505486007}. Best is trial 179 with value: 8577.708154506437.\u001b[0m\n"
     ]
    },
    {
     "name": "stdout",
     "output_type": "stream",
     "text": [
      "index_parallel='0186'\n"
     ]
    },
    {
     "name": "stderr",
     "output_type": "stream",
     "text": [
      "\u001b[32m[I 2022-08-16 08:06:05,238]\u001b[0m Trial 186 finished with value: 8455.630901287554 and parameters: {'kErase': 2, 'kRadius': 3, 'kAnnealingA': 10.165594884098615, 'kAnnealingB': 1.2802856023105265, 'kAnnealingStart': 34.86253628610668, 'kSkipRatio': 0.6116455130198856, 'kTargetDeterminationTrials': 13, 'kAttractionRatio': 0.4703716456551398, 'kMaxAttractionDistance': 15, 'kStartAttraction': 0.008168014433837953}. Best is trial 185 with value: 8620.489270386266.\u001b[0m\n"
     ]
    },
    {
     "name": "stdout",
     "output_type": "stream",
     "text": [
      "index_parallel='0188'\n"
     ]
    },
    {
     "name": "stderr",
     "output_type": "stream",
     "text": [
      "\u001b[32m[I 2022-08-16 08:10:27,721]\u001b[0m Trial 188 finished with value: 8381.922746781116 and parameters: {'kErase': 2, 'kRadius': 3, 'kAnnealingA': -0.015070664294266622, 'kAnnealingB': 1.6366126624466744, 'kAnnealingStart': 45.20975882349318, 'kSkipRatio': 0.6209808813993174, 'kTargetDeterminationTrials': 13, 'kAttractionRatio': 0.46813836344099474, 'kMaxAttractionDistance': 17, 'kStartAttraction': 0.0045700814664970495}. Best is trial 185 with value: 8620.489270386266.\u001b[0m\n"
     ]
    },
    {
     "name": "stdout",
     "output_type": "stream",
     "text": [
      "index_parallel='0189'\n"
     ]
    },
    {
     "name": "stderr",
     "output_type": "stream",
     "text": [
      "\u001b[32m[I 2022-08-16 08:14:50,281]\u001b[0m Trial 189 finished with value: 8412.14592274678 and parameters: {'kErase': 2, 'kRadius': 3, 'kAnnealingA': 11.638283072508363, 'kAnnealingB': 1.419316501561279, 'kAnnealingStart': 28.67018750003926, 'kSkipRatio': 0.7272239979126045, 'kTargetDeterminationTrials': 14, 'kAttractionRatio': 0.5285352854344633, 'kMaxAttractionDistance': 15, 'kStartAttraction': 0.00525202560304923}. Best is trial 185 with value: 8620.489270386266.\u001b[0m\n"
     ]
    },
    {
     "name": "stdout",
     "output_type": "stream",
     "text": [
      "index_parallel='0191'\n"
     ]
    },
    {
     "name": "stderr",
     "output_type": "stream",
     "text": [
      "\u001b[32m[I 2022-08-16 08:19:13,769]\u001b[0m Trial 191 finished with value: 6824.8197424892705 and parameters: {'kErase': 2, 'kRadius': 3, 'kAnnealingA': 9.348352754154497, 'kAnnealingB': 1.3102232616317282, 'kAnnealingStart': 35.82199647591133, 'kSkipRatio': 0.44896678492849307, 'kTargetDeterminationTrials': 19, 'kAttractionRatio': 0.5933233596711143, 'kMaxAttractionDistance': 16, 'kStartAttraction': 0.8068712992204752}. Best is trial 185 with value: 8620.489270386266.\u001b[0m\n"
     ]
    },
    {
     "name": "stdout",
     "output_type": "stream",
     "text": [
      "index_parallel='0193'\n"
     ]
    },
    {
     "name": "stderr",
     "output_type": "stream",
     "text": [
      "\u001b[32m[I 2022-08-16 08:23:36,458]\u001b[0m Trial 193 finished with value: 8422.330472103004 and parameters: {'kErase': 2, 'kRadius': 3, 'kAnnealingA': 8.56197253966245, 'kAnnealingB': 1.5331580809635044, 'kAnnealingStart': 37.74688725681286, 'kSkipRatio': 0.5941473388132851, 'kTargetDeterminationTrials': 17, 'kAttractionRatio': 0.42478904305116094, 'kMaxAttractionDistance': 13, 'kStartAttraction': 0.0067727229851739686}. Best is trial 185 with value: 8620.489270386266.\u001b[0m\n"
     ]
    },
    {
     "name": "stdout",
     "output_type": "stream",
     "text": [
      "index_parallel='0195'\n"
     ]
    },
    {
     "name": "stderr",
     "output_type": "stream",
     "text": [
      "\u001b[32m[I 2022-08-16 08:27:58,717]\u001b[0m Trial 195 finished with value: 8502.188841201716 and parameters: {'kErase': 2, 'kRadius': 3, 'kAnnealingA': 10.447353729902048, 'kAnnealingB': 1.720882561106605, 'kAnnealingStart': 32.863416533375464, 'kSkipRatio': 0.6229542749001371, 'kTargetDeterminationTrials': 12, 'kAttractionRatio': 0.48212799486129837, 'kMaxAttractionDistance': 14, 'kStartAttraction': 0.009672662234986116}. Best is trial 185 with value: 8620.489270386266.\u001b[0m\n"
     ]
    },
    {
     "name": "stdout",
     "output_type": "stream",
     "text": [
      "index_parallel='0197'\n"
     ]
    },
    {
     "name": "stderr",
     "output_type": "stream",
     "text": [
      "\u001b[32m[I 2022-08-16 08:32:21,589]\u001b[0m Trial 197 finished with value: 7079.545064377682 and parameters: {'kErase': 5, 'kRadius': 3, 'kAnnealingA': 10.433424991166541, 'kAnnealingB': 1.483648222958717, 'kAnnealingStart': 30.94474552262549, 'kSkipRatio': 0.6230125408879386, 'kTargetDeterminationTrials': 12, 'kAttractionRatio': 0.4914342227286156, 'kMaxAttractionDistance': 14, 'kStartAttraction': 0.008492594711417816}. Best is trial 185 with value: 8620.489270386266.\u001b[0m\n"
     ]
    },
    {
     "name": "stdout",
     "output_type": "stream",
     "text": [
      "index_parallel='0199'\n"
     ]
    },
    {
     "name": "stderr",
     "output_type": "stream",
     "text": [
      "\u001b[32m[I 2022-08-16 08:36:43,932]\u001b[0m Trial 199 finished with value: 8562.98712446352 and parameters: {'kErase': 2, 'kRadius': 3, 'kAnnealingA': 9.119384664141915, 'kAnnealingB': 1.6061910779217055, 'kAnnealingStart': 34.48720213302585, 'kSkipRatio': 0.6075113664091353, 'kTargetDeterminationTrials': 10, 'kAttractionRatio': 0.4280378165665763, 'kMaxAttractionDistance': 15, 'kStartAttraction': 0.009915838308089975}. Best is trial 185 with value: 8620.489270386266.\u001b[0m\n"
     ]
    },
    {
     "name": "stdout",
     "output_type": "stream",
     "text": [
      "index_parallel='0201'\n"
     ]
    },
    {
     "name": "stderr",
     "output_type": "stream",
     "text": [
      "\u001b[32m[I 2022-08-16 08:41:06,112]\u001b[0m Trial 201 finished with value: 8390.412017167382 and parameters: {'kErase': 2, 'kRadius': 3, 'kAnnealingA': 8.380736444247923, 'kAnnealingB': 1.6055877251603248, 'kAnnealingStart': 24.511885425035928, 'kSkipRatio': 0.6039864805566915, 'kTargetDeterminationTrials': 10, 'kAttractionRatio': 0.4254018091630735, 'kMaxAttractionDistance': 15, 'kStartAttraction': 0.010292023736798777}. Best is trial 185 with value: 8620.489270386266.\u001b[0m\n"
     ]
    },
    {
     "name": "stdout",
     "output_type": "stream",
     "text": [
      "index_parallel='0203'\n"
     ]
    },
    {
     "name": "stderr",
     "output_type": "stream",
     "text": [
      "\u001b[32m[I 2022-08-16 08:45:28,636]\u001b[0m Trial 203 finished with value: 8444.442060085838 and parameters: {'kErase': 2, 'kRadius': 3, 'kAnnealingA': 9.58444244391668, 'kAnnealingB': 1.7004556504252273, 'kAnnealingStart': 34.46465278659847, 'kSkipRatio': 0.6096541324788096, 'kTargetDeterminationTrials': 12, 'kAttractionRatio': 0.4494591866366785, 'kMaxAttractionDistance': 17, 'kStartAttraction': 0.007992769429023874}. Best is trial 185 with value: 8620.489270386266.\u001b[0m\n"
     ]
    },
    {
     "name": "stdout",
     "output_type": "stream",
     "text": [
      "index_parallel='0205'\n"
     ]
    },
    {
     "name": "stderr",
     "output_type": "stream",
     "text": [
      "\u001b[32m[I 2022-08-16 08:49:51,356]\u001b[0m Trial 205 finished with value: 8517.557939914162 and parameters: {'kErase': 2, 'kRadius': 3, 'kAnnealingA': 8.779205733806569, 'kAnnealingB': 1.7813736405824667, 'kAnnealingStart': 28.8850750518765, 'kSkipRatio': 0.6161007035431074, 'kTargetDeterminationTrials': 10, 'kAttractionRatio': 0.4006942616019785, 'kMaxAttractionDistance': 15, 'kStartAttraction': 0.006975437086987479}. Best is trial 185 with value: 8620.489270386266.\u001b[0m\n"
     ]
    },
    {
     "name": "stdout",
     "output_type": "stream",
     "text": [
      "index_parallel='0207'\n"
     ]
    },
    {
     "name": "stderr",
     "output_type": "stream",
     "text": [
      "\u001b[32m[I 2022-08-16 08:54:14,101]\u001b[0m Trial 207 finished with value: 8573.570815450645 and parameters: {'kErase': 2, 'kRadius': 3, 'kAnnealingA': 8.121580438034897, 'kAnnealingB': 1.5799372509478646, 'kAnnealingStart': 32.102934102825806, 'kSkipRatio': 0.5969794220948572, 'kTargetDeterminationTrials': 10, 'kAttractionRatio': 0.40660525562113264, 'kMaxAttractionDistance': 15, 'kStartAttraction': 0.007162664486090926}. Best is trial 185 with value: 8620.489270386266.\u001b[0m\n"
     ]
    },
    {
     "name": "stdout",
     "output_type": "stream",
     "text": [
      "index_parallel='0209'\n"
     ]
    },
    {
     "name": "stderr",
     "output_type": "stream",
     "text": [
      "\u001b[32m[I 2022-08-16 08:58:36,963]\u001b[0m Trial 209 finished with value: 8501.652360515021 and parameters: {'kErase': 2, 'kRadius': 3, 'kAnnealingA': 8.73608817013568, 'kAnnealingB': 1.575092462960977, 'kAnnealingStart': 31.371462745957693, 'kSkipRatio': 0.5810940367737613, 'kTargetDeterminationTrials': 10, 'kAttractionRatio': 0.5067741116879687, 'kMaxAttractionDistance': 16, 'kStartAttraction': 0.006250406684257593}. Best is trial 185 with value: 8620.489270386266.\u001b[0m\n"
     ]
    },
    {
     "name": "stdout",
     "output_type": "stream",
     "text": [
      "index_parallel='0211'\n"
     ]
    },
    {
     "name": "stderr",
     "output_type": "stream",
     "text": [
      "\u001b[32m[I 2022-08-16 09:02:59,325]\u001b[0m Trial 211 finished with value: 8530.69957081545 and parameters: {'kErase': 2, 'kRadius': 3, 'kAnnealingA': 8.843610398528742, 'kAnnealingB': 1.8601962099098672, 'kAnnealingStart': 30.890737435950644, 'kSkipRatio': 0.59155851119875, 'kTargetDeterminationTrials': 9, 'kAttractionRatio': 0.49912534162516053, 'kMaxAttractionDistance': 16, 'kStartAttraction': 0.006009447174244658}. Best is trial 185 with value: 8620.489270386266.\u001b[0m\n"
     ]
    },
    {
     "name": "stdout",
     "output_type": "stream",
     "text": [
      "index_parallel='0213'\n"
     ]
    },
    {
     "name": "stderr",
     "output_type": "stream",
     "text": [
      "\u001b[32m[I 2022-08-16 09:07:21,858]\u001b[0m Trial 213 finished with value: 8511.87982832618 and parameters: {'kErase': 2, 'kRadius': 3, 'kAnnealingA': 8.43453475527018, 'kAnnealingB': 1.8278052883997375, 'kAnnealingStart': 31.871236928121203, 'kSkipRatio': 0.6238082838880765, 'kTargetDeterminationTrials': 10, 'kAttractionRatio': 0.49740100070062704, 'kMaxAttractionDistance': 16, 'kStartAttraction': 0.006169974109437334}. Best is trial 185 with value: 8620.489270386266.\u001b[0m\n"
     ]
    },
    {
     "name": "stdout",
     "output_type": "stream",
     "text": [
      "index_parallel='0215'\n"
     ]
    },
    {
     "name": "stderr",
     "output_type": "stream",
     "text": [
      "\u001b[32m[I 2022-08-16 09:11:44,441]\u001b[0m Trial 215 finished with value: 8346.978540772532 and parameters: {'kErase': 2, 'kRadius': 3, 'kAnnealingA': 8.162308919431968, 'kAnnealingB': 1.730675534481693, 'kAnnealingStart': 27.948229055244106, 'kSkipRatio': 0.617819646973491, 'kTargetDeterminationTrials': 10, 'kAttractionRatio': 0.5177161694076758, 'kMaxAttractionDistance': 16, 'kStartAttraction': 0.005130110550738178}. Best is trial 185 with value: 8620.489270386266.\u001b[0m\n"
     ]
    },
    {
     "name": "stdout",
     "output_type": "stream",
     "text": [
      "index_parallel='0217'\n"
     ]
    },
    {
     "name": "stderr",
     "output_type": "stream",
     "text": [
      "\u001b[32m[I 2022-08-16 09:16:07,078]\u001b[0m Trial 217 finished with value: 8518.085836909871 and parameters: {'kErase': 2, 'kRadius': 3, 'kAnnealingA': 9.796208795108912, 'kAnnealingB': 1.8260427540367574, 'kAnnealingStart': 30.753711437643098, 'kSkipRatio': 0.5858305778212447, 'kTargetDeterminationTrials': 9, 'kAttractionRatio': 0.4758445623520675, 'kMaxAttractionDistance': 17, 'kStartAttraction': 0.00644274923915032}. Best is trial 185 with value: 8620.489270386266.\u001b[0m\n"
     ]
    },
    {
     "name": "stdout",
     "output_type": "stream",
     "text": [
      "index_parallel='0219'\n"
     ]
    },
    {
     "name": "stderr",
     "output_type": "stream",
     "text": [
      "\u001b[32m[I 2022-08-16 09:20:29,628]\u001b[0m Trial 219 finished with value: 8455.515021459227 and parameters: {'kErase': 2, 'kRadius': 3, 'kAnnealingA': 9.981092111399184, 'kAnnealingB': 1.8870466780218134, 'kAnnealingStart': 31.482334212418106, 'kSkipRatio': 0.5820114670687341, 'kTargetDeterminationTrials': 9, 'kAttractionRatio': 0.5650126847325696, 'kMaxAttractionDistance': 17, 'kStartAttraction': 0.005821127893992624}. Best is trial 185 with value: 8620.489270386266.\u001b[0m\n"
     ]
    },
    {
     "name": "stdout",
     "output_type": "stream",
     "text": [
      "index_parallel='0221'\n"
     ]
    },
    {
     "name": "stderr",
     "output_type": "stream",
     "text": [
      "\u001b[32m[I 2022-08-16 09:24:52,217]\u001b[0m Trial 221 finished with value: 8407.751072961373 and parameters: {'kErase': 2, 'kRadius': 3, 'kAnnealingA': 9.539582933690328, 'kAnnealingB': 2.0479719698197782, 'kAnnealingStart': 26.71492113235742, 'kSkipRatio': 0.6017794168567987, 'kTargetDeterminationTrials': 10, 'kAttractionRatio': 0.47804371899699083, 'kMaxAttractionDistance': 18, 'kStartAttraction': 0.004705049207017113}. Best is trial 185 with value: 8620.489270386266.\u001b[0m\n"
     ]
    },
    {
     "name": "stdout",
     "output_type": "stream",
     "text": [
      "index_parallel='0223'\n"
     ]
    },
    {
     "name": "stderr",
     "output_type": "stream",
     "text": [
      "\u001b[32m[I 2022-08-16 09:29:14,654]\u001b[0m Trial 223 finished with value: 8539.875536480688 and parameters: {'kErase': 2, 'kRadius': 3, 'kAnnealingA': 9.054515096144135, 'kAnnealingB': 1.8339693384095703, 'kAnnealingStart': 31.970409222033332, 'kSkipRatio': 0.5692052791934733, 'kTargetDeterminationTrials': 10, 'kAttractionRatio': 0.4068186700122511, 'kMaxAttractionDistance': 16, 'kStartAttraction': 0.00678068005603933}. Best is trial 185 with value: 8620.489270386266.\u001b[0m\n"
     ]
    },
    {
     "name": "stdout",
     "output_type": "stream",
     "text": [
      "index_parallel='0225'\n"
     ]
    },
    {
     "name": "stderr",
     "output_type": "stream",
     "text": [
      "\u001b[32m[I 2022-08-16 09:33:37,241]\u001b[0m Trial 225 finished with value: 8557.665236051502 and parameters: {'kErase': 2, 'kRadius': 3, 'kAnnealingA': 10.430227689376581, 'kAnnealingB': 1.7864441912214086, 'kAnnealingStart': 33.43851537019413, 'kSkipRatio': 0.628550172238921, 'kTargetDeterminationTrials': 8, 'kAttractionRatio': 0.41134764842949567, 'kMaxAttractionDistance': 17, 'kStartAttraction': 0.006730307797432612}. Best is trial 185 with value: 8620.489270386266.\u001b[0m\n"
     ]
    },
    {
     "name": "stdout",
     "output_type": "stream",
     "text": [
      "index_parallel='0227'\n"
     ]
    },
    {
     "name": "stderr",
     "output_type": "stream",
     "text": [
      "\u001b[32m[I 2022-08-16 09:37:59,880]\u001b[0m Trial 227 finished with value: 8399.090128755364 and parameters: {'kErase': 2, 'kRadius': 3, 'kAnnealingA': 9.891926314476052, 'kAnnealingB': 1.8743673149233353, 'kAnnealingStart': 29.617436441150478, 'kSkipRatio': 0.5627836010864526, 'kTargetDeterminationTrials': 8, 'kAttractionRatio': 0.40705910529043865, 'kMaxAttractionDistance': 19, 'kStartAttraction': 0.005161508176778966}. Best is trial 185 with value: 8620.489270386266.\u001b[0m\n"
     ]
    },
    {
     "name": "stdout",
     "output_type": "stream",
     "text": [
      "index_parallel='0229'\n"
     ]
    },
    {
     "name": "stderr",
     "output_type": "stream",
     "text": [
      "\u001b[32m[I 2022-08-16 09:42:22,471]\u001b[0m Trial 229 finished with value: 8041.210300429185 and parameters: {'kErase': 2, 'kRadius': 3, 'kAnnealingA': 11.144954708878512, 'kAnnealingB': 1.6564543513958137, 'kAnnealingStart': 40.01497278360226, 'kSkipRatio': 0.5892206615644479, 'kTargetDeterminationTrials': 11, 'kAttractionRatio': 0.42534041568849523, 'kMaxAttractionDistance': 19, 'kStartAttraction': 0.005601147139925605}. Best is trial 185 with value: 8620.489270386266.\u001b[0m\n"
     ]
    },
    {
     "name": "stdout",
     "output_type": "stream",
     "text": [
      "index_parallel='0231'\n"
     ]
    },
    {
     "name": "stderr",
     "output_type": "stream",
     "text": [
      "\u001b[32m[I 2022-08-16 09:46:45,110]\u001b[0m Trial 231 finished with value: 8554.227467811159 and parameters: {'kErase': 2, 'kRadius': 3, 'kAnnealingA': 8.263005420893734, 'kAnnealingB': 1.7818788915028403, 'kAnnealingStart': 34.48474881868645, 'kSkipRatio': 0.6078602111538833, 'kTargetDeterminationTrials': 9, 'kAttractionRatio': 0.3885070862071404, 'kMaxAttractionDistance': 15, 'kStartAttraction': 0.007074504394254266}. Best is trial 185 with value: 8620.489270386266.\u001b[0m\n"
     ]
    },
    {
     "name": "stdout",
     "output_type": "stream",
     "text": [
      "index_parallel='0233'\n"
     ]
    },
    {
     "name": "stderr",
     "output_type": "stream",
     "text": [
      "\u001b[32m[I 2022-08-16 09:51:08,134]\u001b[0m Trial 233 finished with value: 8219.214592274679 and parameters: {'kErase': 2, 'kRadius': 3, 'kAnnealingA': 9.17150867555807, 'kAnnealingB': 1.9829332240997606, 'kAnnealingStart': 34.5585798391499, 'kSkipRatio': 0.6071149763191418, 'kTargetDeterminationTrials': 9, 'kAttractionRatio': 0.34196283842235037, 'kMaxAttractionDistance': 17, 'kStartAttraction': 0.007036456995945384}. Best is trial 185 with value: 8620.489270386266.\u001b[0m\n"
     ]
    },
    {
     "name": "stdout",
     "output_type": "stream",
     "text": [
      "index_parallel='0235'\n"
     ]
    },
    {
     "name": "stderr",
     "output_type": "stream",
     "text": [
      "\u001b[32m[I 2022-08-16 09:55:30,636]\u001b[0m Trial 235 finished with value: 8421.064377682404 and parameters: {'kErase': 2, 'kRadius': 3, 'kAnnealingA': 7.765628415961784, 'kAnnealingB': 1.4518380347744122, 'kAnnealingStart': 27.146403787301637, 'kSkipRatio': 0.5722280434308127, 'kTargetDeterminationTrials': 10, 'kAttractionRatio': 0.37958561117108724, 'kMaxAttractionDistance': 15, 'kStartAttraction': 0.004795811665383251}. Best is trial 185 with value: 8620.489270386266.\u001b[0m\n"
     ]
    },
    {
     "name": "stdout",
     "output_type": "stream",
     "text": [
      "index_parallel='0237'\n"
     ]
    },
    {
     "name": "stderr",
     "output_type": "stream",
     "text": [
      "\u001b[32m[I 2022-08-16 09:59:53,454]\u001b[0m Trial 237 finished with value: 8524.991416309012 and parameters: {'kErase': 2, 'kRadius': 3, 'kAnnealingA': 9.89775152525977, 'kAnnealingB': 1.7850383825614082, 'kAnnealingStart': 30.359160483103434, 'kSkipRatio': 0.6136480637981666, 'kTargetDeterminationTrials': 11, 'kAttractionRatio': 0.42609970783368956, 'kMaxAttractionDistance': 16, 'kStartAttraction': 0.006194415392330438}. Best is trial 185 with value: 8620.489270386266.\u001b[0m\n"
     ]
    },
    {
     "name": "stdout",
     "output_type": "stream",
     "text": [
      "index_parallel='0239'\n"
     ]
    },
    {
     "name": "stderr",
     "output_type": "stream",
     "text": [
      "\u001b[32m[I 2022-08-16 10:04:16,413]\u001b[0m Trial 239 finished with value: 8326.103004291845 and parameters: {'kErase': 2, 'kRadius': 3, 'kAnnealingA': 9.629898672561746, 'kAnnealingB': 1.7745166461546782, 'kAnnealingStart': 23.25558297278308, 'kSkipRatio': 0.5969987249893298, 'kTargetDeterminationTrials': 11, 'kAttractionRatio': 0.44217322140269394, 'kMaxAttractionDistance': 16, 'kStartAttraction': 0.006100428008925001}. Best is trial 185 with value: 8620.489270386266.\u001b[0m\n"
     ]
    },
    {
     "name": "stdout",
     "output_type": "stream",
     "text": [
      "index_parallel='0241'\n"
     ]
    },
    {
     "name": "stderr",
     "output_type": "stream",
     "text": [
      "\u001b[32m[I 2022-08-16 10:08:39,014]\u001b[0m Trial 241 finished with value: 8488.965665236052 and parameters: {'kErase': 2, 'kRadius': 3, 'kAnnealingA': 10.175037646460126, 'kAnnealingB': 1.685714964687212, 'kAnnealingStart': 37.88773907104817, 'kSkipRatio': 0.6451993793231795, 'kTargetDeterminationTrials': 11, 'kAttractionRatio': 0.5589894639963348, 'kMaxAttractionDistance': 15, 'kStartAttraction': 0.007529505402201245}. Best is trial 185 with value: 8620.489270386266.\u001b[0m\n"
     ]
    },
    {
     "name": "stdout",
     "output_type": "stream",
     "text": [
      "index_parallel='0243'\n"
     ]
    },
    {
     "name": "stderr",
     "output_type": "stream",
     "text": [
      "\u001b[32m[I 2022-08-16 10:13:01,781]\u001b[0m Trial 243 finished with value: 8306.364806866954 and parameters: {'kErase': 2, 'kRadius': 3, 'kAnnealingA': 9.464793347385331, 'kAnnealingB': 1.8472236794225008, 'kAnnealingStart': 42.428472538963874, 'kSkipRatio': 0.6194112805105875, 'kTargetDeterminationTrials': 9, 'kAttractionRatio': 0.4516157738209068, 'kMaxAttractionDistance': 16, 'kStartAttraction': 0.006427202922054852}. Best is trial 185 with value: 8620.489270386266.\u001b[0m\n"
     ]
    },
    {
     "name": "stdout",
     "output_type": "stream",
     "text": [
      "index_parallel='0245'\n"
     ]
    },
    {
     "name": "stderr",
     "output_type": "stream",
     "text": [
      "\u001b[32m[I 2022-08-16 10:17:24,385]\u001b[0m Trial 245 finished with value: 8440.051502145923 and parameters: {'kErase': 2, 'kRadius': 3, 'kAnnealingA': 10.650567563827348, 'kAnnealingB': 1.6972714209376698, 'kAnnealingStart': 37.10318513767325, 'kSkipRatio': 0.6363863931518396, 'kTargetDeterminationTrials': 9, 'kAttractionRatio': 0.41517871890831004, 'kMaxAttractionDistance': 15, 'kStartAttraction': 0.007194228938608945}. Best is trial 185 with value: 8620.489270386266.\u001b[0m\n"
     ]
    },
    {
     "name": "stdout",
     "output_type": "stream",
     "text": [
      "index_parallel='0247'\n"
     ]
    },
    {
     "name": "stderr",
     "output_type": "stream",
     "text": [
      "\u001b[32m[I 2022-08-16 10:21:46,965]\u001b[0m Trial 247 finished with value: 8402.10729613734 and parameters: {'kErase': 2, 'kRadius': 3, 'kAnnealingA': 9.725450035000497, 'kAnnealingB': 1.7652265216476393, 'kAnnealingStart': 34.258171341791176, 'kSkipRatio': 0.6108128153919665, 'kTargetDeterminationTrials': 11, 'kAttractionRatio': 0.40115273769156845, 'kMaxAttractionDistance': 17, 'kStartAttraction': 0.0054227473596617825}. Best is trial 185 with value: 8620.489270386266.\u001b[0m\n"
     ]
    },
    {
     "name": "stdout",
     "output_type": "stream",
     "text": [
      "index_parallel='0249'\n"
     ]
    },
    {
     "name": "stderr",
     "output_type": "stream",
     "text": [
      "\u001b[32m[I 2022-08-16 10:26:09,228]\u001b[0m Trial 249 finished with value: 8567.721030042918 and parameters: {'kErase': 2, 'kRadius': 3, 'kAnnealingA': 8.942167302154195, 'kAnnealingB': 1.6305345753662848, 'kAnnealingStart': 33.74720004974608, 'kSkipRatio': 0.6492680899175788, 'kTargetDeterminationTrials': 10, 'kAttractionRatio': 0.36687310902261505, 'kMaxAttractionDistance': 14, 'kStartAttraction': 0.005295791195888116}. Best is trial 185 with value: 8620.489270386266.\u001b[0m\n"
     ]
    },
    {
     "name": "stdout",
     "output_type": "stream",
     "text": [
      "index_parallel='0251'\n"
     ]
    },
    {
     "name": "stderr",
     "output_type": "stream",
     "text": [
      "\u001b[32m[I 2022-08-16 10:30:31,759]\u001b[0m Trial 251 finished with value: 8562.150214592275 and parameters: {'kErase': 2, 'kRadius': 3, 'kAnnealingA': 9.318684685117335, 'kAnnealingB': 1.5304999450944197, 'kAnnealingStart': 34.2697824189105, 'kSkipRatio': 0.6548708746542656, 'kTargetDeterminationTrials': 10, 'kAttractionRatio': 0.3645162272256064, 'kMaxAttractionDistance': 14, 'kStartAttraction': 0.004029874235420369}. Best is trial 185 with value: 8620.489270386266.\u001b[0m\n"
     ]
    },
    {
     "name": "stdout",
     "output_type": "stream",
     "text": [
      "index_parallel='0253'\n"
     ]
    },
    {
     "name": "stderr",
     "output_type": "stream",
     "text": [
      "\u001b[32m[I 2022-08-16 10:34:54,365]\u001b[0m Trial 253 finished with value: 8437.815450643777 and parameters: {'kErase': 2, 'kRadius': 3, 'kAnnealingA': 9.515228106044182, 'kAnnealingB': 1.6259442060120244, 'kAnnealingStart': 35.81684665374078, 'kSkipRatio': 0.6647242850146335, 'kTargetDeterminationTrials': 8, 'kAttractionRatio': 0.3428883224415338, 'kMaxAttractionDistance': 14, 'kStartAttraction': 0.0040284961338376835}. Best is trial 185 with value: 8620.489270386266.\u001b[0m\n"
     ]
    },
    {
     "name": "stdout",
     "output_type": "stream",
     "text": [
      "index_parallel='0255'\n"
     ]
    },
    {
     "name": "stderr",
     "output_type": "stream",
     "text": [
      "\u001b[32m[I 2022-08-16 10:39:16,848]\u001b[0m Trial 255 finished with value: 8518.815450643777 and parameters: {'kErase': 2, 'kRadius': 3, 'kAnnealingA': 10.221486190243676, 'kAnnealingB': 1.568886714314465, 'kAnnealingStart': 32.65012318231135, 'kSkipRatio': 0.653233090603661, 'kTargetDeterminationTrials': 10, 'kAttractionRatio': 0.5288395144243454, 'kMaxAttractionDistance': 13, 'kStartAttraction': 0.00502693523106423}. Best is trial 185 with value: 8620.489270386266.\u001b[0m\n"
     ]
    },
    {
     "name": "stdout",
     "output_type": "stream",
     "text": [
      "index_parallel='0257'\n"
     ]
    },
    {
     "name": "stderr",
     "output_type": "stream",
     "text": [
      "\u001b[32m[I 2022-08-16 10:43:39,313]\u001b[0m Trial 257 finished with value: 8471.072961373391 and parameters: {'kErase': 2, 'kRadius': 3, 'kAnnealingA': 8.355497026601515, 'kAnnealingB': 1.5890793383925372, 'kAnnealingStart': 41.278318317241656, 'kSkipRatio': 0.6587848508721819, 'kTargetDeterminationTrials': 12, 'kAttractionRatio': 0.5426412088326438, 'kMaxAttractionDistance': 13, 'kStartAttraction': 0.004540175152909502}. Best is trial 185 with value: 8620.489270386266.\u001b[0m\n"
     ]
    },
    {
     "name": "stdout",
     "output_type": "stream",
     "text": [
      "index_parallel='0259'\n"
     ]
    },
    {
     "name": "stderr",
     "output_type": "stream",
     "text": [
      "\u001b[32m[I 2022-08-16 10:48:01,943]\u001b[0m Trial 259 finished with value: 8478.690987124464 and parameters: {'kErase': 2, 'kRadius': 3, 'kAnnealingA': 10.185561307733707, 'kAnnealingB': 1.3743167636330962, 'kAnnealingStart': 38.75260949225643, 'kSkipRatio': 0.651218816029485, 'kTargetDeterminationTrials': 11, 'kAttractionRatio': 0.3676020506556757, 'kMaxAttractionDistance': 13, 'kStartAttraction': 0.005249113518121187}. Best is trial 185 with value: 8620.489270386266.\u001b[0m\n"
     ]
    },
    {
     "name": "stdout",
     "output_type": "stream",
     "text": [
      "index_parallel='0261'\n"
     ]
    },
    {
     "name": "stderr",
     "output_type": "stream",
     "text": [
      "\u001b[32m[I 2022-08-16 10:52:24,846]\u001b[0m Trial 261 finished with value: 8487.40772532189 and parameters: {'kErase': 2, 'kRadius': 3, 'kAnnealingA': 7.6215721201793265, 'kAnnealingB': 1.5305703235957884, 'kAnnealingStart': 32.693544090278856, 'kSkipRatio': 0.6412828459517322, 'kTargetDeterminationTrials': 11, 'kAttractionRatio': 0.4100009496448929, 'kMaxAttractionDistance': 16, 'kStartAttraction': 0.004071735425321666}. Best is trial 185 with value: 8620.489270386266.\u001b[0m\n"
     ]
    },
    {
     "name": "stdout",
     "output_type": "stream",
     "text": [
      "index_parallel='0263'\n"
     ]
    },
    {
     "name": "stderr",
     "output_type": "stream",
     "text": [
      "\u001b[32m[I 2022-08-16 10:56:47,649]\u001b[0m Trial 263 finished with value: 8244.716738197425 and parameters: {'kErase': 2, 'kRadius': 3, 'kAnnealingA': 9.156702048927604, 'kAnnealingB': 1.67253314999677, 'kAnnealingStart': 25.213309037151806, 'kSkipRatio': 0.6323130665578229, 'kTargetDeterminationTrials': 10, 'kAttractionRatio': 0.5209121638443681, 'kMaxAttractionDistance': 14, 'kStartAttraction': 0.003319246315196835}. Best is trial 185 with value: 8620.489270386266.\u001b[0m\n"
     ]
    },
    {
     "name": "stdout",
     "output_type": "stream",
     "text": [
      "index_parallel='0265'\n"
     ]
    },
    {
     "name": "stderr",
     "output_type": "stream",
     "text": [
      "\u001b[32m[I 2022-08-16 11:01:09,992]\u001b[0m Trial 265 finished with value: 8456.278969957082 and parameters: {'kErase': 2, 'kRadius': 3, 'kAnnealingA': 8.762555780848107, 'kAnnealingB': 1.430385112154977, 'kAnnealingStart': 36.810867507184184, 'kSkipRatio': 0.6299328835513002, 'kTargetDeterminationTrials': 12, 'kAttractionRatio': 0.33910638468305215, 'kMaxAttractionDistance': 14, 'kStartAttraction': 0.005703521027047973}. Best is trial 185 with value: 8620.489270386266.\u001b[0m\n"
     ]
    },
    {
     "name": "stdout",
     "output_type": "stream",
     "text": [
      "index_parallel='0267'\n"
     ]
    },
    {
     "name": "stderr",
     "output_type": "stream",
     "text": [
      "\u001b[32m[I 2022-08-16 11:05:32,501]\u001b[0m Trial 267 finished with value: 8472.210300429184 and parameters: {'kErase': 2, 'kRadius': 3, 'kAnnealingA': 10.346126629522873, 'kAnnealingB': 1.7378948931586926, 'kAnnealingStart': 29.096815772934292, 'kSkipRatio': 0.6770617028088558, 'kTargetDeterminationTrials': 13, 'kAttractionRatio': 0.46869994000163034, 'kMaxAttractionDistance': 15, 'kStartAttraction': 0.004608898635360174}. Best is trial 185 with value: 8620.489270386266.\u001b[0m\n"
     ]
    },
    {
     "name": "stdout",
     "output_type": "stream",
     "text": [
      "index_parallel='0269'\n"
     ]
    },
    {
     "name": "stderr",
     "output_type": "stream",
     "text": [
      "\u001b[32m[I 2022-08-16 11:09:54,650]\u001b[0m Trial 269 finished with value: 8418.150214592275 and parameters: {'kErase': 2, 'kRadius': 3, 'kAnnealingA': 9.51125939614785, 'kAnnealingB': 1.5696444187621326, 'kAnnealingStart': 33.045504390814216, 'kSkipRatio': 0.6146667771140737, 'kTargetDeterminationTrials': 8, 'kAttractionRatio': 0.6017494958223358, 'kMaxAttractionDistance': 16, 'kStartAttraction': 0.008494206682204988}. Best is trial 185 with value: 8620.489270386266.\u001b[0m\n"
     ]
    },
    {
     "name": "stdout",
     "output_type": "stream",
     "text": [
      "index_parallel='0271'\n"
     ]
    },
    {
     "name": "stderr",
     "output_type": "stream",
     "text": [
      "\u001b[32m[I 2022-08-16 11:14:17,349]\u001b[0m Trial 271 finished with value: 7449.37339055794 and parameters: {'kErase': 2, 'kRadius': 3, 'kAnnealingA': 8.264693922311933, 'kAnnealingB': 1.6439932684116956, 'kAnnealingStart': 43.093505022871575, 'kSkipRatio': 0.5942821982417358, 'kTargetDeterminationTrials': 13, 'kAttractionRatio': 0.3620690240818938, 'kMaxAttractionDistance': 19, 'kStartAttraction': 0.006083722722100318}. Best is trial 185 with value: 8620.489270386266.\u001b[0m\n"
     ]
    },
    {
     "name": "stdout",
     "output_type": "stream",
     "text": [
      "index_parallel='0273'\n"
     ]
    },
    {
     "name": "stderr",
     "output_type": "stream",
     "text": [
      "\u001b[32m[I 2022-08-16 11:18:40,388]\u001b[0m Trial 273 finished with value: 8409.1330472103 and parameters: {'kErase': 2, 'kRadius': 3, 'kAnnealingA': 11.163582429889843, 'kAnnealingB': 1.4947901982456047, 'kAnnealingStart': 38.602057043889324, 'kSkipRatio': 0.5985401532561451, 'kTargetDeterminationTrials': 9, 'kAttractionRatio': 0.40048748685189434, 'kMaxAttractionDistance': 16, 'kStartAttraction': 0.005626115772401193}. Best is trial 185 with value: 8620.489270386266.\u001b[0m\n"
     ]
    },
    {
     "name": "stdout",
     "output_type": "stream",
     "text": [
      "index_parallel='0275'\n"
     ]
    },
    {
     "name": "stderr",
     "output_type": "stream",
     "text": [
      "\u001b[32m[I 2022-08-16 11:23:02,598]\u001b[0m Trial 275 finished with value: 5180.523605150214 and parameters: {'kErase': 2, 'kRadius': 3, 'kAnnealingA': 9.37185242123707, 'kAnnealingB': 1.776270137674995, 'kAnnealingStart': 48.283181764863485, 'kSkipRatio': 0.22999203347977137, 'kTargetDeterminationTrials': 12, 'kAttractionRatio': 0.018478902821636084, 'kMaxAttractionDistance': 15, 'kStartAttraction': 0.004122990166077048}. Best is trial 185 with value: 8620.489270386266.\u001b[0m\n"
     ]
    },
    {
     "name": "stdout",
     "output_type": "stream",
     "text": [
      "index_parallel='0277'\n"
     ]
    },
    {
     "name": "stderr",
     "output_type": "stream",
     "text": [
      "\u001b[32m[I 2022-08-16 11:27:25,036]\u001b[0m Trial 277 finished with value: 8585.62660944206 and parameters: {'kErase': 2, 'kRadius': 3, 'kAnnealingA': 8.696803834435176, 'kAnnealingB': 1.708380502574129, 'kAnnealingStart': 34.69024139694611, 'kSkipRatio': 0.6284781069032137, 'kTargetDeterminationTrials': 12, 'kAttractionRatio': 0.37725063723682406, 'kMaxAttractionDistance': 15, 'kStartAttraction': 0.003940778814151739}. Best is trial 185 with value: 8620.489270386266.\u001b[0m\n"
     ]
    },
    {
     "name": "stdout",
     "output_type": "stream",
     "text": [
      "index_parallel='0279'\n"
     ]
    },
    {
     "name": "stderr",
     "output_type": "stream",
     "text": [
      "\u001b[32m[I 2022-08-16 11:31:47,689]\u001b[0m Trial 279 finished with value: 8439.678111587982 and parameters: {'kErase': 2, 'kRadius': 3, 'kAnnealingA': 7.930246156828083, 'kAnnealingB': 1.7046980096313684, 'kAnnealingStart': 35.55663541660834, 'kSkipRatio': 0.6396882523828474, 'kTargetDeterminationTrials': 14, 'kAttractionRatio': 0.3741362242477031, 'kMaxAttractionDistance': 12, 'kStartAttraction': 0.0036226913613866102}. Best is trial 185 with value: 8620.489270386266.\u001b[0m\n"
     ]
    },
    {
     "name": "stdout",
     "output_type": "stream",
     "text": [
      "index_parallel='0281'\n"
     ]
    },
    {
     "name": "stderr",
     "output_type": "stream",
     "text": [
      "\u001b[32m[I 2022-08-16 11:36:10,400]\u001b[0m Trial 281 finished with value: 8471.40772532189 and parameters: {'kErase': 2, 'kRadius': 3, 'kAnnealingA': 7.903515658258215, 'kAnnealingB': 1.9822726425012611, 'kAnnealingStart': 38.094078185014936, 'kSkipRatio': 0.6054304721755234, 'kTargetDeterminationTrials': 13, 'kAttractionRatio': 0.33870650461606117, 'kMaxAttractionDistance': 13, 'kStartAttraction': 0.004854224931614111}. Best is trial 185 with value: 8620.489270386266.\u001b[0m\n"
     ]
    },
    {
     "name": "stdout",
     "output_type": "stream",
     "text": [
      "index_parallel='0283'\n"
     ]
    },
    {
     "name": "stderr",
     "output_type": "stream",
     "text": [
      "\u001b[32m[I 2022-08-16 11:40:32,671]\u001b[0m Trial 283 finished with value: 8370.334763948498 and parameters: {'kErase': 2, 'kRadius': 3, 'kAnnealingA': 7.199218512115378, 'kAnnealingB': 1.8017511691228976, 'kAnnealingStart': 41.101911334151836, 'kSkipRatio': 0.6649581443284722, 'kTargetDeterminationTrials': 14, 'kAttractionRatio': 0.3241483235532202, 'kMaxAttractionDistance': 12, 'kStartAttraction': 0.0048194461790747305}. Best is trial 185 with value: 8620.489270386266.\u001b[0m\n"
     ]
    },
    {
     "name": "stdout",
     "output_type": "stream",
     "text": [
      "index_parallel='0285'\n"
     ]
    }
   ],
   "source": [
    "study.optimize(\n",
    "    partial(objective, in_dir=in_dir, work_dir=work_dir),\n",
    "    n_trials=3000,\n",
    "    timeout=86400,\n",
    "    callbacks=[callback]\n",
    ")"
   ]
  },
  {
   "cell_type": "code",
   "execution_count": null,
   "id": "700269d2",
   "metadata": {},
   "outputs": [],
   "source": []
  }
 ],
 "metadata": {
  "kernelspec": {
   "display_name": "Python 3 (ipykernel)",
   "language": "python",
   "name": "python3"
  },
  "language_info": {
   "codemirror_mode": {
    "name": "ipython",
    "version": 3
   },
   "file_extension": ".py",
   "mimetype": "text/x-python",
   "name": "python",
   "nbconvert_exporter": "python",
   "pygments_lexer": "ipython3",
   "version": "3.9.12"
  }
 },
 "nbformat": 4,
 "nbformat_minor": 5
}
