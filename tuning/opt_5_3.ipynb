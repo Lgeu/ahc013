{
 "cells": [
  {
   "cell_type": "code",
   "execution_count": 1,
   "id": "25a1dac8",
   "metadata": {},
   "outputs": [],
   "source": [
    "import re\n",
    "import sys\n",
    "from uuid import uuid1\n",
    "from time import sleep\n",
    "from pprint import pprint\n",
    "from pathlib import Path\n",
    "from tempfile import gettempdir\n",
    "from threading import Thread\n",
    "from functools import partial\n",
    "from subprocess import Popen, PIPE\n",
    "\n",
    "from tqdm.notebook import tqdm\n",
    "import numpy as np\n",
    "import optuna\n",
    "import pandas as pd\n",
    "import matplotlib.pyplot as plt\n",
    "\n",
    "FILENAME = \"main.cpp\""
   ]
  },
  {
   "cell_type": "code",
   "execution_count": 2,
   "id": "3dd4d02e",
   "metadata": {},
   "outputs": [
    {
     "name": "stdout",
     "output_type": "stream",
     "text": [
      "10 variables were found.\n"
     ]
    },
    {
     "data": {
      "text/html": [
       "<div>\n",
       "<style scoped>\n",
       "    .dataframe tbody tr th:only-of-type {\n",
       "        vertical-align: middle;\n",
       "    }\n",
       "\n",
       "    .dataframe tbody tr th {\n",
       "        vertical-align: top;\n",
       "    }\n",
       "\n",
       "    .dataframe thead th {\n",
       "        text-align: right;\n",
       "    }\n",
       "</style>\n",
       "<table border=\"1\" class=\"dataframe\">\n",
       "  <thead>\n",
       "    <tr style=\"text-align: right;\">\n",
       "      <th></th>\n",
       "      <th>name</th>\n",
       "      <th>method</th>\n",
       "      <th>min</th>\n",
       "      <th>max</th>\n",
       "      <th>log</th>\n",
       "      <th>left</th>\n",
       "      <th>right</th>\n",
       "    </tr>\n",
       "  </thead>\n",
       "  <tbody>\n",
       "    <tr>\n",
       "      <th>0</th>\n",
       "      <td>kErase</td>\n",
       "      <td>suggest_int</td>\n",
       "      <td>1.000</td>\n",
       "      <td>5.0</td>\n",
       "      <td>False</td>\n",
       "      <td>static constexpr auto kErase =</td>\n",
       "      <td>;             // OPTIMIZE [1, 5]</td>\n",
       "    </tr>\n",
       "    <tr>\n",
       "      <th>1</th>\n",
       "      <td>kRadius</td>\n",
       "      <td>suggest_int</td>\n",
       "      <td>2.000</td>\n",
       "      <td>6.0</td>\n",
       "      <td>False</td>\n",
       "      <td>static constexpr auto kRadius =</td>\n",
       "      <td>;            // OPTIMIZE [2, 6]</td>\n",
       "    </tr>\n",
       "    <tr>\n",
       "      <th>2</th>\n",
       "      <td>kAnnealingA</td>\n",
       "      <td>suggest_float</td>\n",
       "      <td>-15.000</td>\n",
       "      <td>15.0</td>\n",
       "      <td>False</td>\n",
       "      <td>static constexpr auto kAnnealingA =</td>\n",
       "      <td>;      // OPTIMIZE [-15.0, 15.0]</td>\n",
       "    </tr>\n",
       "    <tr>\n",
       "      <th>3</th>\n",
       "      <td>kAnnealingB</td>\n",
       "      <td>suggest_float</td>\n",
       "      <td>0.000</td>\n",
       "      <td>3.0</td>\n",
       "      <td>False</td>\n",
       "      <td>static constexpr auto kAnnealingB =</td>\n",
       "      <td>;      // OPTIMIZE [0.0, 3.0]</td>\n",
       "    </tr>\n",
       "    <tr>\n",
       "      <th>4</th>\n",
       "      <td>kAnnealingStart</td>\n",
       "      <td>suggest_float</td>\n",
       "      <td>1.000</td>\n",
       "      <td>100.0</td>\n",
       "      <td>True</td>\n",
       "      <td>static constexpr auto kAnnealingStart =</td>\n",
       "      <td>; // OPTIMIZE LOG [1.0, 100.0]</td>\n",
       "    </tr>\n",
       "    <tr>\n",
       "      <th>5</th>\n",
       "      <td>kSkipRatio</td>\n",
       "      <td>suggest_float</td>\n",
       "      <td>0.200</td>\n",
       "      <td>0.8</td>\n",
       "      <td>False</td>\n",
       "      <td>static constexpr auto kSkipRatio =</td>\n",
       "      <td>;       // OPTIMIZE [0.2, 0.8]</td>\n",
       "    </tr>\n",
       "    <tr>\n",
       "      <th>6</th>\n",
       "      <td>kTargetDeterminationTrials</td>\n",
       "      <td>suggest_int</td>\n",
       "      <td>1.000</td>\n",
       "      <td>20.0</td>\n",
       "      <td>True</td>\n",
       "      <td>static constexpr auto kTargetDeterminationTria...</td>\n",
       "      <td>; // OPTIMIZE LOG [1, 20]</td>\n",
       "    </tr>\n",
       "    <tr>\n",
       "      <th>7</th>\n",
       "      <td>kAttractionRatio</td>\n",
       "      <td>suggest_float</td>\n",
       "      <td>0.010</td>\n",
       "      <td>0.9</td>\n",
       "      <td>True</td>\n",
       "      <td>static constexpr auto kAttractionRatio =</td>\n",
       "      <td>;      // OPTIMIZE LOG [0.01, 0.9]</td>\n",
       "    </tr>\n",
       "    <tr>\n",
       "      <th>8</th>\n",
       "      <td>kMaxAttractionDistance</td>\n",
       "      <td>suggest_int</td>\n",
       "      <td>4.000</td>\n",
       "      <td>99.0</td>\n",
       "      <td>True</td>\n",
       "      <td>static constexpr auto kMaxAttractionDistance =</td>\n",
       "      <td>; // OPTIMIZE LOG [4, 99]</td>\n",
       "    </tr>\n",
       "    <tr>\n",
       "      <th>9</th>\n",
       "      <td>kStartAttraction</td>\n",
       "      <td>suggest_float</td>\n",
       "      <td>0.001</td>\n",
       "      <td>0.9</td>\n",
       "      <td>True</td>\n",
       "      <td>static constexpr auto kStartAttraction =</td>\n",
       "      <td>;     // OPTIMIZE LOG [0.001, 0.9]</td>\n",
       "    </tr>\n",
       "  </tbody>\n",
       "</table>\n",
       "</div>"
      ],
      "text/plain": [
       "                         name         method     min    max    log  \\\n",
       "0                      kErase    suggest_int   1.000    5.0  False   \n",
       "1                     kRadius    suggest_int   2.000    6.0  False   \n",
       "2                 kAnnealingA  suggest_float -15.000   15.0  False   \n",
       "3                 kAnnealingB  suggest_float   0.000    3.0  False   \n",
       "4             kAnnealingStart  suggest_float   1.000  100.0   True   \n",
       "5                  kSkipRatio  suggest_float   0.200    0.8  False   \n",
       "6  kTargetDeterminationTrials    suggest_int   1.000   20.0   True   \n",
       "7            kAttractionRatio  suggest_float   0.010    0.9   True   \n",
       "8      kMaxAttractionDistance    suggest_int   4.000   99.0   True   \n",
       "9            kStartAttraction  suggest_float   0.001    0.9   True   \n",
       "\n",
       "                                                left  \\\n",
       "0                    static constexpr auto kErase =    \n",
       "1                   static constexpr auto kRadius =    \n",
       "2               static constexpr auto kAnnealingA =    \n",
       "3               static constexpr auto kAnnealingB =    \n",
       "4           static constexpr auto kAnnealingStart =    \n",
       "5                static constexpr auto kSkipRatio =    \n",
       "6  static constexpr auto kTargetDeterminationTria...   \n",
       "7          static constexpr auto kAttractionRatio =    \n",
       "8    static constexpr auto kMaxAttractionDistance =    \n",
       "9          static constexpr auto kStartAttraction =    \n",
       "\n",
       "                                right  \n",
       "0    ;             // OPTIMIZE [1, 5]  \n",
       "1     ;            // OPTIMIZE [2, 6]  \n",
       "2    ;      // OPTIMIZE [-15.0, 15.0]  \n",
       "3       ;      // OPTIMIZE [0.0, 3.0]  \n",
       "4      ; // OPTIMIZE LOG [1.0, 100.0]  \n",
       "5      ;       // OPTIMIZE [0.2, 0.8]  \n",
       "6           ; // OPTIMIZE LOG [1, 20]  \n",
       "7  ;      // OPTIMIZE LOG [0.01, 0.9]  \n",
       "8           ; // OPTIMIZE LOG [4, 99]  \n",
       "9  ;     // OPTIMIZE LOG [0.001, 0.9]  "
      ]
     },
     "metadata": {},
     "output_type": "display_data"
    }
   ],
   "source": [
    "# ここでエラー出力は何かおかしいかもしれない\n",
    "\n",
    "\n",
    "# パラメータ抽出\n",
    "with open(FILENAME) as f:\n",
    "    answer = f.read()\n",
    "\n",
    "\n",
    "variables_optimize = []\n",
    "\n",
    "for left, value, right, options in re.findall(r\"^([^/\\n]*=\\s*)(.+?)(\\s*;\\s*//(?:.*\\W)?OPTIMIZE(\\W.*))$\", answer, re.MULTILINE):\n",
    "    name = left.replace(\"=\", \"\").strip().split()[-1]\n",
    "    \n",
    "    searched = re.search(r\".*\\[(?P<min>.*),(?P<max>.*)\\].*\", options)\n",
    "    if searched:\n",
    "        min_value = max_value = None\n",
    "        try:\n",
    "            min_value = eval(searched.group(\"min\"))\n",
    "            max_value = eval(searched.group(\"max\"))\n",
    "            assert min_value <= max_value\n",
    "        except Exception as e:\n",
    "            print(f\"searched={searched}\", file=sys.stderr)\n",
    "            print(e, file=sys.stderr)\n",
    "            continue\n",
    "        log = \"LOG\" in options  # 雑、直したほうが良い\n",
    "        if type(min_value) != type(max_value):\n",
    "            print(f\"searched={searched}\", file=sys.stderr)\n",
    "            print(\"types not matched\", file=sys.stderr)\n",
    "            continue\n",
    "        if isinstance(min_value, int):\n",
    "            method = \"suggest_int\"\n",
    "        elif isinstance(min_value, float):\n",
    "            method = \"suggest_float\"\n",
    "        else:\n",
    "            print(f\"searched={searched}\", file=sys.stderr)\n",
    "            print(f\"unknown type ({type(min_value)})\", file=sys.stderr)\n",
    "            continue\n",
    "        variables_optimize.append({\n",
    "            \"name\": name,\n",
    "            \"method\": method,\n",
    "            \"min\": min_value,\n",
    "            \"max\": max_value,\n",
    "            \"log\": log,\n",
    "            \"left\": left,\n",
    "            \"right\": right,\n",
    "        })\n",
    "    elif searched := re.search(r\".*\\{(?P<choices>.*?)\\}.*\", options):\n",
    "        choices = list(map(lambda x: x.strip(), searched.group(\"choices\").split(\",\")))\n",
    "        variables_optimize.append({\n",
    "            \"name\": name,\n",
    "            \"method\": \"suggest_categorical\",\n",
    "            \"choices\": choices,\n",
    "            \"left\": left,\n",
    "            \"right\": right,\n",
    "        })\n",
    "    else:\n",
    "        print(f\"searched={searched}\", file=sys.stderr)\n",
    "        print(f\"pattern was matched but options are incorrect.\", file=sys.stderr)\n",
    "\n",
    "print(len(variables_optimize), \"variables were found.\")\n",
    "if globals().get(\"pd\"):\n",
    "    display(pd.DataFrame(variables_optimize))\n",
    "else:\n",
    "    pprint(variables_optimize)"
   ]
  },
  {
   "cell_type": "code",
   "execution_count": 3,
   "id": "001042b9",
   "metadata": {},
   "outputs": [],
   "source": [
    "def escape(string):  # 正規表現の中でそのまま使いたい文字列をエスケープ\n",
    "    res = !echo '{string}' | sed -e 's/[]\\/$*.^[]/\\\\&/g'\n",
    "    return res[0]\n",
    "\n",
    "def escape_sed(string):  # sed の置換後の文字列用のエスケープ\n",
    "    res = !echo '{string}' | sed -e 's/[\\/&]/\\\\&/g'\n",
    "    return res[0]\n",
    "\n",
    "def read_stream(name, in_file, out_file):\n",
    "    for line in in_file:\n",
    "        print(f\"[{name}] {line.strip()}\", file=out_file)\n",
    "\n",
    "def run(cmd, name):\n",
    "    proc = Popen(cmd, stdout=PIPE, stderr=PIPE, universal_newlines=True, shell=isinstance(cmd, str))\n",
    "    stdout_thread = Thread(target=read_stream, args=(name, proc.stdout, sys.stdout))\n",
    "    stderr_thread = Thread(target=read_stream, args=(name, proc.stderr, sys.stderr))\n",
    "    stdout_thread.start()\n",
    "    stderr_thread.start()\n",
    "    proc.wait()\n",
    "    return proc\n",
    "\n",
    "def objective(trial, in_dir, work_dir):\n",
    "    n_internal_parallel = 3\n",
    "    \n",
    "    index_parallel = f\"{trial.number:04d}\"\n",
    "    print(f\"{index_parallel=}\")\n",
    "    \n",
    "    work_dir = Path(work_dir)\n",
    "    directory_input = Path(in_dir)  # 中のすべてのファイルに対して実行される\n",
    "    #parameters_changed_filename = Path(gettempdir()) / str(uuid1())\n",
    "    parameters_changed_filename = work_dir / f\"{index_parallel}_{FILENAME}\"\n",
    "    \n",
    "    run([\"mkdir\", f\"{work_dir / index_parallel}_out\"], \"mkdir\")\n",
    "    run([\"mkdir\", f\"{work_dir / index_parallel}_score\"], \"mkdir\")\n",
    "    \n",
    "    # ファイル作成\n",
    "    run(f\"cp {FILENAME} {parameters_changed_filename}\", \"cp\")\n",
    "    sed_options = [f\"-i {parameters_changed_filename}\"]\n",
    "    for variable in variables_optimize:\n",
    "        if variable[\"method\"] == \"suggest_categorical\":\n",
    "            val =  trial.suggest_categorical(variable[\"name\"], variable[\"choices\"])\n",
    "        else:\n",
    "            val = getattr(trial, variable[\"method\"])(variable[\"name\"], variable[\"min\"], variable[\"max\"], log=variable[\"log\"])\n",
    "        left = variable[\"left\"]\n",
    "        right = variable[\"right\"]\n",
    "        sed_options.append(f\"\"\"-e 's/^{escape(left)}.*{escape(right)}$/{escape_sed(left)}{val}{escape_sed(right)}/'\"\"\")\n",
    "    command_sed = f\"sed {' '.join(sed_options)}\"\n",
    "    #print(command_sed)\n",
    "    run(command_sed, \"sed\")\n",
    "    \n",
    "    # コンパイル\n",
    "    command_compile = f\"g++ {parameters_changed_filename} -std=gnu++17 -O2 -DONLINE_JUDGE -o {parameters_changed_filename}.out\"\n",
    "    #print(command_compile)\n",
    "    run(command_compile, \"compile\")\n",
    "    # 実行・採点コマンド (@ はファイル名)\n",
    "    command_exec = (\n",
    "        #f\"./a.out < ./tools/in/{i:04d}.txt > {out_file} && ./tools/target/release/vis ./tools/in/{i:04d}.txt {out_file}\"\n",
    "        #f\"../tools/target/release/tester $(pwd)/{parameters_changed_filename}.out < {directory_input}/@ 2>&1 | grep Score\"\n",
    "        #f\"../tools/target/release/tester $(pwd)/{parameters_changed_filename}.out < {directory_input}/@ 2>&1 | grep Score | sed -E s/[^0-9]+// > ./{index_parallel}_score/@;\"\n",
    "        #f\"cargo run --release --manifest-path ../tools/Cargo.toml --bin tester {directory_input}/@ $(pwd)/{parameters_changed_filename}.out 2>&1 | grep Score | sed -E s/[^0-9]+// > ./{index_parallel}_score/@;\"\n",
    "        f\"./{parameters_changed_filename}.out < {directory_input}/@ > {work_dir / index_parallel}_out/@;\"\n",
    "        f\"../tools/target/release/vis {directory_input}/@ {work_dir / index_parallel}_out/@ 2> /dev/null > {work_dir / index_parallel}_score/@;\"\n",
    "    )\n",
    "    # 並列実行 (sed はパスのディレクトリ部分を消してファイル名にしてる)\n",
    "    run(f\"find {directory_input}/* | sed 's!^.*/!!' | xargs -I@ -P {n_internal_parallel} sh -c '{command_exec}'\", \"exec\")\n",
    "    \n",
    "    # 集計\n",
    "    scores = []\n",
    "    for file_path in Path(f\"{work_dir / index_parallel}_score/\").iterdir():  \n",
    "        with open(file_path) as f:\n",
    "            scores.append(int(f.readline().strip().split()[-1]))\n",
    "    mean_score = sum(scores) / len(scores)\n",
    "    \n",
    "    # 後始末\n",
    "    run(f\"rm -rf {work_dir / index_parallel}_out\", \"rm\")\n",
    "    run(f\"rm -rf {work_dir / index_parallel}_score\", \"rm\")\n",
    "    #run(f\"rm {parameters_changed_filename}\", \"rm\")\n",
    "    run(f\"rm {parameters_changed_filename}.out\", \"rm\")\n",
    "    \n",
    "    return mean_score"
   ]
  },
  {
   "cell_type": "code",
   "execution_count": 4,
   "id": "2d2e133c",
   "metadata": {},
   "outputs": [
    {
     "name": "stderr",
     "output_type": "stream",
     "text": [
      "\u001b[32m[I 2022-08-15 21:31:56,811]\u001b[0m A new study created in RDB with name: study_5_3\u001b[0m\n"
     ]
    }
   ],
   "source": [
    "K = 5\n",
    "N_CLASS = 3\n",
    "\n",
    "in_dir = Path(f\"in_{K}_{N_CLASS}\")\n",
    "work_dir = Path(f\"work_{K}_{N_CLASS}\")\n",
    "\n",
    "study_name = f\"study_{K}_{N_CLASS}\"\n",
    "storage_path = work_dir / \"study.db\"\n",
    "storage = f\"sqlite:///{storage_path}\"\n",
    "study = optuna.create_study(storage=storage, load_if_exists=True, study_name=study_name, direction=\"maximize\")\n",
    "\n",
    "def callback(study, trial):\n",
    "    try:\n",
    "        index_parallel = f\"{trial.number:04d}\"\n",
    "        parameters_changed_filename = work_dir / f\"{index_parallel}_{FILENAME}\"\n",
    "        if study.best_value == trial.value:\n",
    "            print(f\"Updated! {study.best_value}\")\n",
    "            !cp {parameters_changed_filename} {work_dir / \"best_parameters.cpp\"}\n",
    "        !rm {parameters_changed_filename}\n",
    "    except:\n",
    "        print(\":(\")\n"
   ]
  },
  {
   "cell_type": "code",
   "execution_count": null,
   "id": "61c2901d",
   "metadata": {},
   "outputs": [
    {
     "name": "stdout",
     "output_type": "stream",
     "text": [
      "index_parallel='0000'\n"
     ]
    },
    {
     "name": "stderr",
     "output_type": "stream",
     "text": [
      "\u001b[32m[I 2022-08-15 21:36:19,023]\u001b[0m Trial 0 finished with value: 7579.094420600858 and parameters: {'kErase': 2, 'kRadius': 5, 'kAnnealingA': -9.536895883841439, 'kAnnealingB': 0.24245400197956568, 'kAnnealingStart': 1.1931052975488052, 'kSkipRatio': 0.49685231929885276, 'kTargetDeterminationTrials': 14, 'kAttractionRatio': 0.020361029525395192, 'kMaxAttractionDistance': 4, 'kStartAttraction': 0.004335993212833265}. Best is trial 0 with value: 7579.094420600858.\u001b[0m\n"
     ]
    },
    {
     "name": "stdout",
     "output_type": "stream",
     "text": [
      "Updated! 7579.094420600858\n",
      "index_parallel='0001'\n"
     ]
    },
    {
     "name": "stderr",
     "output_type": "stream",
     "text": [
      "\u001b[32m[I 2022-08-15 21:40:41,619]\u001b[0m Trial 1 finished with value: 5177.0085836909875 and parameters: {'kErase': 4, 'kRadius': 5, 'kAnnealingA': 4.60192309053523, 'kAnnealingB': 1.1223821145394721, 'kAnnealingStart': 64.2851996465741, 'kSkipRatio': 0.29332554899903046, 'kTargetDeterminationTrials': 18, 'kAttractionRatio': 0.04757664916189116, 'kMaxAttractionDistance': 47, 'kStartAttraction': 0.05559280237809573}. Best is trial 0 with value: 7579.094420600858.\u001b[0m\n"
     ]
    },
    {
     "name": "stdout",
     "output_type": "stream",
     "text": [
      "index_parallel='0002'\n"
     ]
    },
    {
     "name": "stderr",
     "output_type": "stream",
     "text": [
      "\u001b[32m[I 2022-08-15 21:45:04,141]\u001b[0m Trial 2 finished with value: 6470.922746781116 and parameters: {'kErase': 4, 'kRadius': 3, 'kAnnealingA': 6.8413926650481365, 'kAnnealingB': 2.3663188563884003, 'kAnnealingStart': 10.383553509571012, 'kSkipRatio': 0.2892744829158381, 'kTargetDeterminationTrials': 1, 'kAttractionRatio': 0.03220138586241283, 'kMaxAttractionDistance': 35, 'kStartAttraction': 0.10539964637479872}. Best is trial 0 with value: 7579.094420600858.\u001b[0m\n"
     ]
    },
    {
     "name": "stdout",
     "output_type": "stream",
     "text": [
      "index_parallel='0003'\n"
     ]
    },
    {
     "name": "stderr",
     "output_type": "stream",
     "text": [
      "\u001b[32m[I 2022-08-15 21:49:26,777]\u001b[0m Trial 3 finished with value: 5832.652360515021 and parameters: {'kErase': 4, 'kRadius': 4, 'kAnnealingA': 8.782026002516147, 'kAnnealingB': 2.9769852591176056, 'kAnnealingStart': 18.075597705448274, 'kSkipRatio': 0.65755294954136, 'kTargetDeterminationTrials': 11, 'kAttractionRatio': 0.01158227049685498, 'kMaxAttractionDistance': 22, 'kStartAttraction': 0.6923703307061142}. Best is trial 0 with value: 7579.094420600858.\u001b[0m\n"
     ]
    },
    {
     "name": "stdout",
     "output_type": "stream",
     "text": [
      "index_parallel='0004'\n"
     ]
    },
    {
     "name": "stderr",
     "output_type": "stream",
     "text": [
      "\u001b[32m[I 2022-08-15 21:53:49,528]\u001b[0m Trial 4 finished with value: 6439.618025751073 and parameters: {'kErase': 5, 'kRadius': 5, 'kAnnealingA': -12.978206185850736, 'kAnnealingB': 1.9961488822882865, 'kAnnealingStart': 31.253039362079807, 'kSkipRatio': 0.49145728605172906, 'kTargetDeterminationTrials': 3, 'kAttractionRatio': 0.05324427399075104, 'kMaxAttractionDistance': 62, 'kStartAttraction': 0.0020040326374035247}. Best is trial 0 with value: 7579.094420600858.\u001b[0m\n"
     ]
    },
    {
     "name": "stdout",
     "output_type": "stream",
     "text": [
      "index_parallel='0005'\n"
     ]
    },
    {
     "name": "stderr",
     "output_type": "stream",
     "text": [
      "\u001b[32m[I 2022-08-15 21:58:12,407]\u001b[0m Trial 5 finished with value: 7818.128755364807 and parameters: {'kErase': 2, 'kRadius': 3, 'kAnnealingA': 14.351985372752587, 'kAnnealingB': 0.6631558080980154, 'kAnnealingStart': 1.473093126000808, 'kSkipRatio': 0.3498003887828962, 'kTargetDeterminationTrials': 14, 'kAttractionRatio': 0.015623734956040173, 'kMaxAttractionDistance': 6, 'kStartAttraction': 0.005765007116032467}. Best is trial 5 with value: 7818.128755364807.\u001b[0m\n"
     ]
    },
    {
     "name": "stdout",
     "output_type": "stream",
     "text": [
      "Updated! 7818.128755364807\n",
      "index_parallel='0006'\n"
     ]
    },
    {
     "name": "stderr",
     "output_type": "stream",
     "text": [
      "\u001b[32m[I 2022-08-15 22:02:34,427]\u001b[0m Trial 6 finished with value: 8096.944206008584 and parameters: {'kErase': 1, 'kRadius': 2, 'kAnnealingA': -0.16693280203219807, 'kAnnealingB': 0.8560658982724288, 'kAnnealingStart': 9.042631579708187, 'kSkipRatio': 0.7906217014573358, 'kTargetDeterminationTrials': 5, 'kAttractionRatio': 0.04828601103025506, 'kMaxAttractionDistance': 30, 'kStartAttraction': 0.05739562871068371}. Best is trial 6 with value: 8096.944206008584.\u001b[0m\n"
     ]
    },
    {
     "name": "stdout",
     "output_type": "stream",
     "text": [
      "Updated! 8096.944206008584\n",
      "index_parallel='0007'\n"
     ]
    },
    {
     "name": "stderr",
     "output_type": "stream",
     "text": [
      "\u001b[32m[I 2022-08-15 22:06:57,334]\u001b[0m Trial 7 finished with value: 6405.124463519313 and parameters: {'kErase': 5, 'kRadius': 6, 'kAnnealingA': -10.65140033636787, 'kAnnealingB': 2.023685111317886, 'kAnnealingStart': 57.53739612120694, 'kSkipRatio': 0.7997741466556438, 'kTargetDeterminationTrials': 4, 'kAttractionRatio': 0.7492395213587087, 'kMaxAttractionDistance': 4, 'kStartAttraction': 0.010144440654282594}. Best is trial 6 with value: 8096.944206008584.\u001b[0m\n"
     ]
    },
    {
     "name": "stdout",
     "output_type": "stream",
     "text": [
      "index_parallel='0008'\n"
     ]
    },
    {
     "name": "stderr",
     "output_type": "stream",
     "text": [
      "\u001b[32m[I 2022-08-15 22:11:20,076]\u001b[0m Trial 8 finished with value: 6190.639484978541 and parameters: {'kErase': 5, 'kRadius': 4, 'kAnnealingA': 13.799554512403596, 'kAnnealingB': 0.4542660729421012, 'kAnnealingStart': 30.955722158136094, 'kSkipRatio': 0.29903715054023944, 'kTargetDeterminationTrials': 3, 'kAttractionRatio': 0.30281996279399603, 'kMaxAttractionDistance': 37, 'kStartAttraction': 0.0016569185104741103}. Best is trial 6 with value: 8096.944206008584.\u001b[0m\n"
     ]
    },
    {
     "name": "stdout",
     "output_type": "stream",
     "text": [
      "index_parallel='0009'\n"
     ]
    },
    {
     "name": "stderr",
     "output_type": "stream",
     "text": [
      "\u001b[32m[I 2022-08-15 22:15:42,881]\u001b[0m Trial 9 finished with value: 6392.248927038627 and parameters: {'kErase': 5, 'kRadius': 6, 'kAnnealingA': 0.9043932513386501, 'kAnnealingB': 0.9080786198704165, 'kAnnealingStart': 32.16826361484167, 'kSkipRatio': 0.6243173636004666, 'kTargetDeterminationTrials': 6, 'kAttractionRatio': 0.037248253603332566, 'kMaxAttractionDistance': 12, 'kStartAttraction': 0.34135851437283027}. Best is trial 6 with value: 8096.944206008584.\u001b[0m\n"
     ]
    },
    {
     "name": "stdout",
     "output_type": "stream",
     "text": [
      "index_parallel='0010'\n"
     ]
    },
    {
     "name": "stderr",
     "output_type": "stream",
     "text": [
      "\u001b[32m[I 2022-08-15 22:20:04,537]\u001b[0m Trial 10 finished with value: 7807.587982832618 and parameters: {'kErase': 1, 'kRadius': 2, 'kAnnealingA': -5.626381538426976, 'kAnnealingB': 1.3807642966377192, 'kAnnealingStart': 3.5376289239796694, 'kSkipRatio': 0.7885944016159872, 'kTargetDeterminationTrials': 1, 'kAttractionRatio': 0.15122848502039768, 'kMaxAttractionDistance': 95, 'kStartAttraction': 0.025195590627791028}. Best is trial 6 with value: 8096.944206008584.\u001b[0m\n"
     ]
    },
    {
     "name": "stdout",
     "output_type": "stream",
     "text": [
      "index_parallel='0011'\n"
     ]
    },
    {
     "name": "stderr",
     "output_type": "stream",
     "text": [
      "\u001b[32m[I 2022-08-15 22:24:26,590]\u001b[0m Trial 11 finished with value: 7967.317596566523 and parameters: {'kErase': 1, 'kRadius': 2, 'kAnnealingA': -2.642565396960997, 'kAnnealingB': 0.6828054971720589, 'kAnnealingStart': 3.136242453506765, 'kSkipRatio': 0.38604789936882766, 'kTargetDeterminationTrials': 9, 'kAttractionRatio': 0.010929032472697641, 'kMaxAttractionDistance': 9, 'kStartAttraction': 0.012722016451509803}. Best is trial 6 with value: 8096.944206008584.\u001b[0m\n"
     ]
    },
    {
     "name": "stdout",
     "output_type": "stream",
     "text": [
      "index_parallel='0012'\n"
     ]
    },
    {
     "name": "stderr",
     "output_type": "stream",
     "text": [
      "\u001b[32m[I 2022-08-15 22:28:48,670]\u001b[0m Trial 12 finished with value: 8210.59227467811 and parameters: {'kErase': 1, 'kRadius': 2, 'kAnnealingA': -3.15569270820722, 'kAnnealingB': 0.016865298372225834, 'kAnnealingStart': 3.6553160838932657, 'kSkipRatio': 0.41562948152549173, 'kTargetDeterminationTrials': 7, 'kAttractionRatio': 0.09817445435642377, 'kMaxAttractionDistance': 11, 'kStartAttraction': 0.021164024389340605}. Best is trial 12 with value: 8210.59227467811.\u001b[0m\n"
     ]
    },
    {
     "name": "stdout",
     "output_type": "stream",
     "text": [
      "Updated! 8210.59227467811\n",
      "index_parallel='0013'\n"
     ]
    },
    {
     "name": "stderr",
     "output_type": "stream",
     "text": [
      "\u001b[32m[I 2022-08-15 22:33:11,211]\u001b[0m Trial 13 finished with value: 8217.56652360515 and parameters: {'kErase': 2, 'kRadius': 2, 'kAnnealingA': 0.6452376747150939, 'kAnnealingB': 0.3213270995358144, 'kAnnealingStart': 6.327720303652581, 'kSkipRatio': 0.6078958834507715, 'kTargetDeterminationTrials': 2, 'kAttractionRatio': 0.13392929862035508, 'kMaxAttractionDistance': 16, 'kStartAttraction': 0.12354495548331346}. Best is trial 13 with value: 8217.56652360515.\u001b[0m\n"
     ]
    },
    {
     "name": "stdout",
     "output_type": "stream",
     "text": [
      "Updated! 8217.56652360515\n",
      "index_parallel='0014'\n"
     ]
    },
    {
     "name": "stderr",
     "output_type": "stream",
     "text": [
      "\u001b[32m[I 2022-08-15 22:37:33,958]\u001b[0m Trial 14 finished with value: 8434.197424892704 and parameters: {'kErase': 2, 'kRadius': 3, 'kAnnealingA': -5.6523389234050825, 'kAnnealingB': 0.16065727093908738, 'kAnnealingStart': 4.338657502232955, 'kSkipRatio': 0.6314302977403335, 'kTargetDeterminationTrials': 2, 'kAttractionRatio': 0.12138032302392865, 'kMaxAttractionDistance': 14, 'kStartAttraction': 0.18767718370165332}. Best is trial 14 with value: 8434.197424892704.\u001b[0m\n"
     ]
    },
    {
     "name": "stdout",
     "output_type": "stream",
     "text": [
      "Updated! 8434.197424892704\n",
      "index_parallel='0015'\n"
     ]
    },
    {
     "name": "stderr",
     "output_type": "stream",
     "text": [
      "\u001b[32m[I 2022-08-15 22:41:56,290]\u001b[0m Trial 15 finished with value: 8407.918454935621 and parameters: {'kErase': 2, 'kRadius': 3, 'kAnnealingA': -7.477035783511667, 'kAnnealingB': 0.20145807344310693, 'kAnnealingStart': 6.106303618422014, 'kSkipRatio': 0.625107852589307, 'kTargetDeterminationTrials': 2, 'kAttractionRatio': 0.22068016414407662, 'kMaxAttractionDistance': 18, 'kStartAttraction': 0.16804934352424825}. Best is trial 14 with value: 8434.197424892704.\u001b[0m\n"
     ]
    },
    {
     "name": "stdout",
     "output_type": "stream",
     "text": [
      "index_parallel='0016'\n"
     ]
    },
    {
     "name": "stderr",
     "output_type": "stream",
     "text": [
      "\u001b[32m[I 2022-08-15 22:46:18,661]\u001b[0m Trial 16 finished with value: 8103.532188841202 and parameters: {'kErase': 3, 'kRadius': 3, 'kAnnealingA': -7.923292517811801, 'kAnnealingB': 1.3912167519516239, 'kAnnealingStart': 2.290893064096258, 'kSkipRatio': 0.6922794651659224, 'kTargetDeterminationTrials': 2, 'kAttractionRatio': 0.28738682741311533, 'kMaxAttractionDistance': 21, 'kStartAttraction': 0.2675441961999966}. Best is trial 14 with value: 8434.197424892704.\u001b[0m\n"
     ]
    },
    {
     "name": "stdout",
     "output_type": "stream",
     "text": [
      "index_parallel='0017'\n"
     ]
    },
    {
     "name": "stderr",
     "output_type": "stream",
     "text": [
      "\u001b[32m[I 2022-08-15 22:50:41,232]\u001b[0m Trial 17 finished with value: 7835.527896995708 and parameters: {'kErase': 3, 'kRadius': 3, 'kAnnealingA': -14.262675085040701, 'kAnnealingB': 0.07987463132485231, 'kAnnealingStart': 6.573462818482976, 'kSkipRatio': 0.5832974270376716, 'kTargetDeterminationTrials': 2, 'kAttractionRatio': 0.32293812622182777, 'kMaxAttractionDistance': 7, 'kStartAttraction': 0.6638662469832883}. Best is trial 14 with value: 8434.197424892704.\u001b[0m\n"
     ]
    },
    {
     "name": "stdout",
     "output_type": "stream",
     "text": [
      "index_parallel='0018'\n"
     ]
    },
    {
     "name": "stderr",
     "output_type": "stream",
     "text": [
      "\u001b[32m[I 2022-08-15 22:55:04,024]\u001b[0m Trial 18 finished with value: 6913.2918454935625 and parameters: {'kErase': 3, 'kRadius': 4, 'kAnnealingA': -5.549621627402982, 'kAnnealingB': 0.480487977569653, 'kAnnealingStart': 14.803861155014731, 'kSkipRatio': 0.20086382780229595, 'kTargetDeterminationTrials': 1, 'kAttractionRatio': 0.723725249809083, 'kMaxAttractionDistance': 15, 'kStartAttraction': 0.2519224036597214}. Best is trial 14 with value: 8434.197424892704.\u001b[0m\n"
     ]
    },
    {
     "name": "stdout",
     "output_type": "stream",
     "text": [
      "index_parallel='0019'\n"
     ]
    },
    {
     "name": "stderr",
     "output_type": "stream",
     "text": [
      "\u001b[32m[I 2022-08-15 22:59:26,283]\u001b[0m Trial 19 finished with value: 8196.141630901287 and parameters: {'kErase': 2, 'kRadius': 4, 'kAnnealingA': -7.554457767033286, 'kAnnealingB': 1.7836906346745742, 'kAnnealingStart': 5.458708274821231, 'kSkipRatio': 0.7092316351922021, 'kTargetDeterminationTrials': 2, 'kAttractionRatio': 0.20141383966423898, 'kMaxAttractionDistance': 23, 'kStartAttraction': 0.10960682158615451}. Best is trial 14 with value: 8434.197424892704.\u001b[0m\n"
     ]
    },
    {
     "name": "stdout",
     "output_type": "stream",
     "text": [
      "index_parallel='0020'\n"
     ]
    },
    {
     "name": "stderr",
     "output_type": "stream",
     "text": [
      "\u001b[32m[I 2022-08-15 23:03:49,233]\u001b[0m Trial 20 finished with value: 7973.201716738197 and parameters: {'kErase': 2, 'kRadius': 3, 'kAnnealingA': -11.230886968266265, 'kAnnealingB': 1.026866295507992, 'kAnnealingStart': 1.7727491610983854, 'kSkipRatio': 0.5424600010438245, 'kTargetDeterminationTrials': 3, 'kAttractionRatio': 0.5030987140655157, 'kMaxAttractionDistance': 7, 'kStartAttraction': 0.1795778714743692}. Best is trial 14 with value: 8434.197424892704.\u001b[0m\n"
     ]
    },
    {
     "name": "stdout",
     "output_type": "stream",
     "text": [
      "index_parallel='0021'\n"
     ]
    },
    {
     "name": "stderr",
     "output_type": "stream",
     "text": [
      "\u001b[32m[I 2022-08-15 23:08:12,004]\u001b[0m Trial 21 finished with value: 8073.965665236052 and parameters: {'kErase': 2, 'kRadius': 2, 'kAnnealingA': 1.1979164006603344, 'kAnnealingB': 0.37782507114887465, 'kAnnealingStart': 5.3117121893283565, 'kSkipRatio': 0.5915379764320814, 'kTargetDeterminationTrials': 2, 'kAttractionRatio': 0.09412787188150672, 'kMaxAttractionDistance': 16, 'kStartAttraction': 0.05918330139800769}. Best is trial 14 with value: 8434.197424892704.\u001b[0m\n"
     ]
    },
    {
     "name": "stdout",
     "output_type": "stream",
     "text": [
      "index_parallel='0022'\n"
     ]
    },
    {
     "name": "stderr",
     "output_type": "stream",
     "text": [
      "\u001b[32m[I 2022-08-15 23:12:34,441]\u001b[0m Trial 22 finished with value: 8244.137339055795 and parameters: {'kErase': 2, 'kRadius': 3, 'kAnnealingA': -3.20767347858312, 'kAnnealingB': 0.2836578989109768, 'kAnnealingStart': 8.307895569949984, 'kSkipRatio': 0.7128996152234087, 'kTargetDeterminationTrials': 2, 'kAttractionRatio': 0.11498763807628079, 'kMaxAttractionDistance': 14, 'kStartAttraction': 0.11528326993648598}. Best is trial 14 with value: 8434.197424892704.\u001b[0m\n"
     ]
    },
    {
     "name": "stdout",
     "output_type": "stream",
     "text": [
      "index_parallel='0023'\n"
     ]
    },
    {
     "name": "stderr",
     "output_type": "stream",
     "text": [
      "\u001b[32m[I 2022-08-15 23:16:56,921]\u001b[0m Trial 23 finished with value: 8048.785407725322 and parameters: {'kErase': 3, 'kRadius': 3, 'kAnnealingA': -2.627257321661016, 'kAnnealingB': 0.08427939281780035, 'kAnnealingStart': 9.972706063266655, 'kSkipRatio': 0.7306102214379592, 'kTargetDeterminationTrials': 1, 'kAttractionRatio': 0.0779952069104208, 'kMaxAttractionDistance': 12, 'kStartAttraction': 0.4308375800921415}. Best is trial 14 with value: 8434.197424892704.\u001b[0m\n"
     ]
    },
    {
     "name": "stdout",
     "output_type": "stream",
     "text": [
      "index_parallel='0024'\n"
     ]
    },
    {
     "name": "stderr",
     "output_type": "stream",
     "text": [
      "\u001b[32m[I 2022-08-15 23:21:19,298]\u001b[0m Trial 24 finished with value: 7848.223175965665 and parameters: {'kErase': 2, 'kRadius': 3, 'kAnnealingA': -5.2064023879450305, 'kAnnealingB': 0.6489499569826214, 'kAnnealingStart': 18.71178296315815, 'kSkipRatio': 0.5431753927167378, 'kTargetDeterminationTrials': 4, 'kAttractionRatio': 0.19481482027816363, 'kMaxAttractionDistance': 27, 'kStartAttraction': 0.17764085111000505}. Best is trial 14 with value: 8434.197424892704.\u001b[0m\n"
     ]
    },
    {
     "name": "stdout",
     "output_type": "stream",
     "text": [
      "index_parallel='0025'\n"
     ]
    },
    {
     "name": "stderr",
     "output_type": "stream",
     "text": [
      "\u001b[32m[I 2022-08-15 23:25:41,405]\u001b[0m Trial 25 finished with value: 8202.124463519312 and parameters: {'kErase': 1, 'kRadius': 4, 'kAnnealingA': -8.153110807763422, 'kAnnealingB': 0.22174831724025584, 'kAnnealingStart': 2.5313135706366157, 'kSkipRatio': 0.6611620672567688, 'kTargetDeterminationTrials': 2, 'kAttractionRatio': 0.14763393894965843, 'kMaxAttractionDistance': 9, 'kStartAttraction': 0.07346463082068155}. Best is trial 14 with value: 8434.197424892704.\u001b[0m\n"
     ]
    },
    {
     "name": "stdout",
     "output_type": "stream",
     "text": [
      "index_parallel='0026'\n"
     ]
    },
    {
     "name": "stderr",
     "output_type": "stream",
     "text": [
      "\u001b[32m[I 2022-08-15 23:30:03,826]\u001b[0m Trial 26 finished with value: 7768.583690987124 and parameters: {'kErase': 2, 'kRadius': 3, 'kAnnealingA': -1.6017663317604711, 'kAnnealingB': 1.1630785448826073, 'kAnnealingStart': 4.5477949721006645, 'kSkipRatio': 0.7263659351564498, 'kTargetDeterminationTrials': 4, 'kAttractionRatio': 0.4557128180892898, 'kMaxAttractionDistance': 18, 'kStartAttraction': 0.02985965511489107}. Best is trial 14 with value: 8434.197424892704.\u001b[0m\n"
     ]
    },
    {
     "name": "stdout",
     "output_type": "stream",
     "text": [
      "index_parallel='0027'\n"
     ]
    },
    {
     "name": "stderr",
     "output_type": "stream",
     "text": [
      "\u001b[32m[I 2022-08-15 23:34:26,218]\u001b[0m Trial 27 finished with value: 8194.360515021459 and parameters: {'kErase': 3, 'kRadius': 4, 'kAnnealingA': 3.4865690866516856, 'kAnnealingB': 0.5415341132943137, 'kAnnealingStart': 7.518110620662943, 'kSkipRatio': 0.6650624423069129, 'kTargetDeterminationTrials': 2, 'kAttractionRatio': 0.07377040724424411, 'kMaxAttractionDistance': 14, 'kStartAttraction': 0.434433142433913}. Best is trial 14 with value: 8434.197424892704.\u001b[0m\n"
     ]
    },
    {
     "name": "stdout",
     "output_type": "stream",
     "text": [
      "index_parallel='0028'\n"
     ]
    },
    {
     "name": "stderr",
     "output_type": "stream",
     "text": [
      "\u001b[32m[I 2022-08-15 23:38:48,578]\u001b[0m Trial 28 finished with value: 8142.167381974249 and parameters: {'kErase': 2, 'kRadius': 3, 'kAnnealingA': -4.486866548016709, 'kAnnealingB': 0.004544249885518659, 'kAnnealingStart': 12.745862004410553, 'kSkipRatio': 0.7439832598313897, 'kTargetDeterminationTrials': 3, 'kAttractionRatio': 0.19620560181191504, 'kMaxAttractionDistance': 8, 'kStartAttraction': 0.17758991932611862}. Best is trial 14 with value: 8434.197424892704.\u001b[0m\n"
     ]
    },
    {
     "name": "stdout",
     "output_type": "stream",
     "text": [
      "index_parallel='0029'\n"
     ]
    },
    {
     "name": "stderr",
     "output_type": "stream",
     "text": [
      "\u001b[32m[I 2022-08-15 23:43:10,706]\u001b[0m Trial 29 finished with value: 7997.07296137339 and parameters: {'kErase': 1, 'kRadius': 4, 'kAnnealingA': -9.19599096111714, 'kAnnealingB': 0.23199084584752241, 'kAnnealingStart': 4.586252543926729, 'kSkipRatio': 0.4582504225507616, 'kTargetDeterminationTrials': 5, 'kAttractionRatio': 0.12657792323440156, 'kMaxAttractionDistance': 5, 'kStartAttraction': 0.03895744620041186}. Best is trial 14 with value: 8434.197424892704.\u001b[0m\n"
     ]
    },
    {
     "name": "stdout",
     "output_type": "stream",
     "text": [
      "index_parallel='0030'\n"
     ]
    },
    {
     "name": "stderr",
     "output_type": "stream",
     "text": [
      "\u001b[32m[I 2022-08-15 23:47:33,245]\u001b[0m Trial 30 finished with value: 7856.248927038627 and parameters: {'kErase': 3, 'kRadius': 3, 'kAnnealingA': -6.31714974718118, 'kAnnealingB': 0.2599542166712113, 'kAnnealingStart': 1.177513603765368, 'kSkipRatio': 0.5252124433138082, 'kTargetDeterminationTrials': 1, 'kAttractionRatio': 0.22914922752732855, 'kMaxAttractionDistance': 11, 'kStartAttraction': 0.08206872303273004}. Best is trial 14 with value: 8434.197424892704.\u001b[0m\n"
     ]
    },
    {
     "name": "stdout",
     "output_type": "stream",
     "text": [
      "index_parallel='0031'\n"
     ]
    },
    {
     "name": "stderr",
     "output_type": "stream",
     "text": [
      "\u001b[32m[I 2022-08-15 23:51:55,679]\u001b[0m Trial 31 finished with value: 8178.278969957081 and parameters: {'kErase': 2, 'kRadius': 2, 'kAnnealingA': -0.831669957059523, 'kAnnealingB': 0.32841481097644915, 'kAnnealingStart': 6.560911347037293, 'kSkipRatio': 0.5900999326393269, 'kTargetDeterminationTrials': 2, 'kAttractionRatio': 0.12156675150080903, 'kMaxAttractionDistance': 18, 'kStartAttraction': 0.12313442405050128}. Best is trial 14 with value: 8434.197424892704.\u001b[0m\n"
     ]
    },
    {
     "name": "stdout",
     "output_type": "stream",
     "text": [
      "index_parallel='0032'\n"
     ]
    },
    {
     "name": "stderr",
     "output_type": "stream",
     "text": [
      "\u001b[32m[I 2022-08-15 23:56:17,849]\u001b[0m Trial 32 finished with value: 8209.87982832618 and parameters: {'kErase': 2, 'kRadius': 2, 'kAnnealingA': 2.316621095422594, 'kAnnealingB': 0.7243502680181098, 'kAnnealingStart': 7.5547009923868425, 'kSkipRatio': 0.6222205032279079, 'kTargetDeterminationTrials': 3, 'kAttractionRatio': 0.07264892104917452, 'kMaxAttractionDistance': 13, 'kStartAttraction': 0.1438618768376956}. Best is trial 14 with value: 8434.197424892704.\u001b[0m\n"
     ]
    },
    {
     "name": "stdout",
     "output_type": "stream",
     "text": [
      "index_parallel='0033'\n"
     ]
    },
    {
     "name": "stderr",
     "output_type": "stream",
     "text": [
      "\u001b[32m[I 2022-08-16 00:00:40,187]\u001b[0m Trial 33 finished with value: 8047.12017167382 and parameters: {'kErase': 2, 'kRadius': 2, 'kAnnealingA': 4.89632199843413, 'kAnnealingB': 0.2338655716582369, 'kAnnealingStart': 2.574788397107402, 'kSkipRatio': 0.6265791547708652, 'kTargetDeterminationTrials': 2, 'kAttractionRatio': 0.1011917365875396, 'kMaxAttractionDistance': 26, 'kStartAttraction': 0.04089627532205207}. Best is trial 14 with value: 8434.197424892704.\u001b[0m\n"
     ]
    },
    {
     "name": "stdout",
     "output_type": "stream",
     "text": [
      "index_parallel='0034'\n"
     ]
    },
    {
     "name": "stderr",
     "output_type": "stream",
     "text": [
      "\u001b[32m[I 2022-08-16 00:05:03,024]\u001b[0m Trial 34 finished with value: 7620.776824034335 and parameters: {'kErase': 4, 'kRadius': 3, 'kAnnealingA': -4.043059119378546, 'kAnnealingB': 2.801674680552421, 'kAnnealingStart': 12.072368285664371, 'kSkipRatio': 0.6835027599693919, 'kTargetDeterminationTrials': 3, 'kAttractionRatio': 0.15388127375448024, 'kMaxAttractionDistance': 18, 'kStartAttraction': 0.8532902998974089}. Best is trial 14 with value: 8434.197424892704.\u001b[0m\n"
     ]
    },
    {
     "name": "stdout",
     "output_type": "stream",
     "text": [
      "index_parallel='0035'\n"
     ]
    },
    {
     "name": "stderr",
     "output_type": "stream",
     "text": [
      "\u001b[32m[I 2022-08-16 00:09:25,071]\u001b[0m Trial 35 finished with value: 6851.300429184549 and parameters: {'kErase': 1, 'kRadius': 5, 'kAnnealingA': 9.153214534246331, 'kAnnealingB': 0.4258398858688909, 'kAnnealingStart': 17.44733953433387, 'kSkipRatio': 0.7597835788003326, 'kTargetDeterminationTrials': 4, 'kAttractionRatio': 0.027093787226243, 'kMaxAttractionDistance': 42, 'kStartAttraction': 0.08983896060967254}. Best is trial 14 with value: 8434.197424892704.\u001b[0m\n"
     ]
    },
    {
     "name": "stdout",
     "output_type": "stream",
     "text": [
      "index_parallel='0036'\n"
     ]
    },
    {
     "name": "stderr",
     "output_type": "stream",
     "text": [
      "\u001b[32m[I 2022-08-16 00:13:47,297]\u001b[0m Trial 36 finished with value: 8481.506437768241 and parameters: {'kErase': 2, 'kRadius': 3, 'kAnnealingA': -1.3928082412222493, 'kAnnealingB': 1.104393103270962, 'kAnnealingStart': 4.481078819860845, 'kSkipRatio': 0.5743070414779992, 'kTargetDeterminationTrials': 1, 'kAttractionRatio': 0.3989728085009321, 'kMaxAttractionDistance': 23, 'kStartAttraction': 0.24591616315453246}. Best is trial 36 with value: 8481.506437768241.\u001b[0m\n"
     ]
    },
    {
     "name": "stdout",
     "output_type": "stream",
     "text": [
      "Updated! 8481.506437768241\n",
      "index_parallel='0037'\n"
     ]
    },
    {
     "name": "stderr",
     "output_type": "stream",
     "text": [
      "\u001b[32m[I 2022-08-16 00:18:09,596]\u001b[0m Trial 37 finished with value: 8243.201716738198 and parameters: {'kErase': 2, 'kRadius': 3, 'kAnnealingA': -12.080090044002318, 'kAnnealingB': 1.6472604211045718, 'kAnnealingStart': 4.484601084881729, 'kSkipRatio': 0.4836092515194388, 'kTargetDeterminationTrials': 1, 'kAttractionRatio': 0.39117631394311714, 'kMaxAttractionDistance': 31, 'kStartAttraction': 0.258777705298854}. Best is trial 36 with value: 8481.506437768241.\u001b[0m\n"
     ]
    },
    {
     "name": "stdout",
     "output_type": "stream",
     "text": [
      "index_parallel='0038'\n"
     ]
    },
    {
     "name": "stderr",
     "output_type": "stream",
     "text": [
      "\u001b[32m[I 2022-08-16 00:22:32,024]\u001b[0m Trial 38 finished with value: 8240.072961373391 and parameters: {'kErase': 3, 'kRadius': 4, 'kAnnealingA': -9.111095889437506, 'kAnnealingB': 1.2118150055697918, 'kAnnealingStart': 1.5504654596246392, 'kSkipRatio': 0.5588786360974844, 'kTargetDeterminationTrials': 12, 'kAttractionRatio': 0.5202311259571084, 'kMaxAttractionDistance': 48, 'kStartAttraction': 0.506907962031433}. Best is trial 36 with value: 8481.506437768241.\u001b[0m\n"
     ]
    },
    {
     "name": "stdout",
     "output_type": "stream",
     "text": [
      "index_parallel='0039'\n"
     ]
    },
    {
     "name": "stderr",
     "output_type": "stream",
     "text": [
      "\u001b[32m[I 2022-08-16 00:26:54,671]\u001b[0m Trial 39 finished with value: 8054.43347639485 and parameters: {'kErase': 3, 'kRadius': 3, 'kAnnealingA': -7.020723271867483, 'kAnnealingB': 0.8513729224528344, 'kAnnealingStart': 8.626039665835279, 'kSkipRatio': 0.6510023417369939, 'kTargetDeterminationTrials': 7, 'kAttractionRatio': 0.23527132507653756, 'kMaxAttractionDistance': 21, 'kStartAttraction': 0.3041762705196355}. Best is trial 36 with value: 8481.506437768241.\u001b[0m\n"
     ]
    },
    {
     "name": "stdout",
     "output_type": "stream",
     "text": [
      "index_parallel='0040'\n"
     ]
    },
    {
     "name": "stderr",
     "output_type": "stream",
     "text": [
      "\u001b[32m[I 2022-08-16 00:31:16,765]\u001b[0m Trial 40 finished with value: 8268.562231759657 and parameters: {'kErase': 1, 'kRadius': 4, 'kAnnealingA': 5.900327707451481, 'kAnnealingB': 2.6488823040279827, 'kAnnealingStart': 22.138485058601937, 'kSkipRatio': 0.5663569340838721, 'kTargetDeterminationTrials': 5, 'kAttractionRatio': 0.6380197801098659, 'kMaxAttractionDistance': 10, 'kStartAttraction': 0.0025089529101830553}. Best is trial 36 with value: 8481.506437768241.\u001b[0m\n"
     ]
    },
    {
     "name": "stdout",
     "output_type": "stream",
     "text": [
      "index_parallel='0041'\n"
     ]
    },
    {
     "name": "stderr",
     "output_type": "stream",
     "text": [
      "\u001b[32m[I 2022-08-16 00:35:38,936]\u001b[0m Trial 41 finished with value: 8302.635193133046 and parameters: {'kErase': 1, 'kRadius': 5, 'kAnnealingA': 9.667971075992652, 'kAnnealingB': 2.4750174176279005, 'kAnnealingStart': 24.750888591182697, 'kSkipRatio': 0.5093560970408371, 'kTargetDeterminationTrials': 20, 'kAttractionRatio': 0.694904501849779, 'kMaxAttractionDistance': 9, 'kStartAttraction': 0.0028454609478105746}. Best is trial 36 with value: 8481.506437768241.\u001b[0m\n"
     ]
    },
    {
     "name": "stdout",
     "output_type": "stream",
     "text": [
      "index_parallel='0042'\n"
     ]
    },
    {
     "name": "stderr",
     "output_type": "stream",
     "text": [
      "\u001b[32m[I 2022-08-16 00:40:01,104]\u001b[0m Trial 42 finished with value: 8222.648068669529 and parameters: {'kErase': 1, 'kRadius': 5, 'kAnnealingA': 11.438788819362168, 'kAnnealingB': 2.4962310601792446, 'kAnnealingStart': 23.717321862379215, 'kSkipRatio': 0.5010299186994035, 'kTargetDeterminationTrials': 20, 'kAttractionRatio': 0.8846807118648125, 'kMaxAttractionDistance': 10, 'kStartAttraction': 0.0037016290414360483}. Best is trial 36 with value: 8481.506437768241.\u001b[0m\n"
     ]
    },
    {
     "name": "stdout",
     "output_type": "stream",
     "text": [
      "index_parallel='0043'\n"
     ]
    },
    {
     "name": "stderr",
     "output_type": "stream",
     "text": [
      "\u001b[32m[I 2022-08-16 00:44:23,271]\u001b[0m Trial 43 finished with value: 6818.467811158798 and parameters: {'kErase': 1, 'kRadius': 5, 'kAnnealingA': 6.867648891911815, 'kAnnealingB': 2.441875279198737, 'kAnnealingStart': 52.79068568024678, 'kSkipRatio': 0.5737652106629479, 'kTargetDeterminationTrials': 15, 'kAttractionRatio': 0.6419834823340169, 'kMaxAttractionDistance': 5, 'kStartAttraction': 0.0010594375646934483}. Best is trial 36 with value: 8481.506437768241.\u001b[0m\n"
     ]
    },
    {
     "name": "stdout",
     "output_type": "stream",
     "text": [
      "index_parallel='0044'\n"
     ]
    },
    {
     "name": "stderr",
     "output_type": "stream",
     "text": [
      "\u001b[32m[I 2022-08-16 00:48:45,090]\u001b[0m Trial 44 finished with value: 6034.532188841202 and parameters: {'kErase': 1, 'kRadius': 6, 'kAnnealingA': 9.129416958530255, 'kAnnealingB': 2.207181532231385, 'kAnnealingStart': 93.42570125862339, 'kSkipRatio': 0.4549843378249518, 'kTargetDeterminationTrials': 15, 'kAttractionRatio': 0.3706267957294166, 'kMaxAttractionDistance': 7, 'kStartAttraction': 0.003624108900736831}. Best is trial 36 with value: 8481.506437768241.\u001b[0m\n"
     ]
    },
    {
     "name": "stdout",
     "output_type": "stream",
     "text": [
      "index_parallel='0045'\n"
     ]
    },
    {
     "name": "stderr",
     "output_type": "stream",
     "text": [
      "\u001b[32m[I 2022-08-16 00:53:07,167]\u001b[0m Trial 45 finished with value: 8369.40772532189 and parameters: {'kErase': 1, 'kRadius': 5, 'kAnnealingA': 11.07578499650341, 'kAnnealingB': 2.644304444728579, 'kAnnealingStart': 35.105252832630136, 'kSkipRatio': 0.5267684630283576, 'kTargetDeterminationTrials': 9, 'kAttractionRatio': 0.5804370365520977, 'kMaxAttractionDistance': 10, 'kStartAttraction': 0.007026428014897521}. Best is trial 36 with value: 8481.506437768241.\u001b[0m\n"
     ]
    },
    {
     "name": "stdout",
     "output_type": "stream",
     "text": [
      "index_parallel='0046'\n"
     ]
    },
    {
     "name": "stderr",
     "output_type": "stream",
     "text": [
      "\u001b[32m[I 2022-08-16 00:57:29,047]\u001b[0m Trial 46 finished with value: 6984.948497854078 and parameters: {'kErase': 1, 'kRadius': 5, 'kAnnealingA': 11.235198867130716, 'kAnnealingB': 2.844220590043143, 'kAnnealingStart': 45.47145725639602, 'kSkipRatio': 0.5101201302010436, 'kTargetDeterminationTrials': 10, 'kAttractionRatio': 0.5407229410521728, 'kMaxAttractionDistance': 25, 'kStartAttraction': 0.013796877094269031}. Best is trial 36 with value: 8481.506437768241.\u001b[0m\n"
     ]
    },
    {
     "name": "stdout",
     "output_type": "stream",
     "text": [
      "index_parallel='0047'\n"
     ]
    },
    {
     "name": "stderr",
     "output_type": "stream",
     "text": [
      "\u001b[32m[I 2022-08-16 01:01:51,770]\u001b[0m Trial 47 finished with value: 7313.283261802575 and parameters: {'kErase': 4, 'kRadius': 6, 'kAnnealingA': 13.053598814373986, 'kAnnealingB': 2.0919617483092945, 'kAnnealingStart': 37.938871415934685, 'kSkipRatio': 0.4629452228908754, 'kTargetDeterminationTrials': 8, 'kAttractionRatio': 0.8680738624477119, 'kMaxAttractionDistance': 8, 'kStartAttraction': 0.006413483733798663}. Best is trial 36 with value: 8481.506437768241.\u001b[0m\n"
     ]
    },
    {
     "name": "stdout",
     "output_type": "stream",
     "text": [
      "index_parallel='0048'\n"
     ]
    },
    {
     "name": "stderr",
     "output_type": "stream",
     "text": [
      "\u001b[32m[I 2022-08-16 01:06:13,940]\u001b[0m Trial 48 finished with value: 5113.31330472103 and parameters: {'kErase': 1, 'kRadius': 5, 'kAnnealingA': 14.721977766370292, 'kAnnealingB': 2.646039458727621, 'kAnnealingStart': 97.96045880981389, 'kSkipRatio': 0.41673204040452805, 'kTargetDeterminationTrials': 12, 'kAttractionRatio': 0.41003893453129, 'kMaxAttractionDistance': 33, 'kStartAttraction': 0.008224093062959861}. Best is trial 36 with value: 8481.506437768241.\u001b[0m\n"
     ]
    },
    {
     "name": "stdout",
     "output_type": "stream",
     "text": [
      "index_parallel='0049'\n"
     ]
    },
    {
     "name": "stderr",
     "output_type": "stream",
     "text": [
      "\u001b[32m[I 2022-08-16 01:10:35,936]\u001b[0m Trial 49 finished with value: 8188.171673819743 and parameters: {'kErase': 1, 'kRadius': 5, 'kAnnealingA': 7.644054837348143, 'kAnnealingB': 1.788758700746913, 'kAnnealingStart': 26.380268426362377, 'kSkipRatio': 0.6372597310044171, 'kTargetDeterminationTrials': 17, 'kAttractionRatio': 0.2785217247934758, 'kMaxAttractionDistance': 20, 'kStartAttraction': 0.0023756848620285734}. Best is trial 36 with value: 8481.506437768241.\u001b[0m\n"
     ]
    },
    {
     "name": "stdout",
     "output_type": "stream",
     "text": [
      "index_parallel='0050'\n"
     ]
    },
    {
     "name": "stderr",
     "output_type": "stream",
     "text": [
      "\u001b[32m[I 2022-08-16 01:14:58,409]\u001b[0m Trial 50 finished with value: 7778.8197424892705 and parameters: {'kErase': 2, 'kRadius': 6, 'kAnnealingA': 10.798129461663887, 'kAnnealingB': 2.1632975220293336, 'kAnnealingStart': 3.299385002303903, 'kSkipRatio': 0.5217109345195272, 'kTargetDeterminationTrials': 10, 'kAttractionRatio': 0.6197833529699536, 'kMaxAttractionDistance': 6, 'kStartAttraction': 0.0017481805404311614}. Best is trial 36 with value: 8481.506437768241.\u001b[0m\n"
     ]
    },
    {
     "name": "stdout",
     "output_type": "stream",
     "text": [
      "index_parallel='0051'\n"
     ]
    },
    {
     "name": "stderr",
     "output_type": "stream",
     "text": [
      "\u001b[32m[I 2022-08-16 01:19:20,556]\u001b[0m Trial 51 finished with value: 8274.489270386266 and parameters: {'kErase': 1, 'kRadius': 4, 'kAnnealingA': 12.372096878325362, 'kAnnealingB': 2.5787012690288273, 'kAnnealingStart': 21.99540864859755, 'kSkipRatio': 0.55869038886207, 'kTargetDeterminationTrials': 5, 'kAttractionRatio': 0.6211995652611766, 'kMaxAttractionDistance': 10, 'kStartAttraction': 0.002894077903447136}. Best is trial 36 with value: 8481.506437768241.\u001b[0m\n"
     ]
    },
    {
     "name": "stdout",
     "output_type": "stream",
     "text": [
      "index_parallel='0052'\n"
     ]
    },
    {
     "name": "stderr",
     "output_type": "stream",
     "text": [
      "\u001b[32m[I 2022-08-16 01:23:42,720]\u001b[0m Trial 52 finished with value: 8510.45922746781 and parameters: {'kErase': 1, 'kRadius': 4, 'kAnnealingA': 12.494506333673725, 'kAnnealingB': 2.9301795555269603, 'kAnnealingStart': 33.481461287029816, 'kSkipRatio': 0.6051705550538061, 'kTargetDeterminationTrials': 6, 'kAttractionRatio': 0.3610760067114354, 'kMaxAttractionDistance': 12, 'kStartAttraction': 0.004928332592680671}. Best is trial 52 with value: 8510.45922746781.\u001b[0m\n"
     ]
    },
    {
     "name": "stdout",
     "output_type": "stream",
     "text": [
      "Updated! 8510.45922746781\n",
      "index_parallel='0053'\n"
     ]
    },
    {
     "name": "stderr",
     "output_type": "stream",
     "text": [
      "\u001b[32m[I 2022-08-16 01:28:05,202]\u001b[0m Trial 53 finished with value: 8230.901287553648 and parameters: {'kErase': 1, 'kRadius': 5, 'kAnnealingA': 9.908104675323633, 'kAnnealingB': 2.9344812941985228, 'kAnnealingStart': 34.3957600525303, 'kSkipRatio': 0.6097348026667199, 'kTargetDeterminationTrials': 13, 'kAttractionRatio': 0.3386430185234881, 'kMaxAttractionDistance': 16, 'kStartAttraction': 0.004963937244619872}. Best is trial 52 with value: 8510.45922746781.\u001b[0m\n"
     ]
    },
    {
     "name": "stdout",
     "output_type": "stream",
     "text": [
      "index_parallel='0054'\n"
     ]
    },
    {
     "name": "stderr",
     "output_type": "stream",
     "text": [
      "\u001b[32m[I 2022-08-16 01:32:27,374]\u001b[0m Trial 54 finished with value: 7101.369098712446 and parameters: {'kErase': 2, 'kRadius': 4, 'kAnnealingA': 13.360008192863559, 'kAnnealingB': 2.363144691259108, 'kAnnealingStart': 48.63069857017636, 'kSkipRatio': 0.5943882976353418, 'kTargetDeterminationTrials': 7, 'kAttractionRatio': 0.2456430812905498, 'kMaxAttractionDistance': 12, 'kStartAttraction': 0.019238919178792006}. Best is trial 52 with value: 8510.45922746781.\u001b[0m\n"
     ]
    },
    {
     "name": "stdout",
     "output_type": "stream",
     "text": [
      "index_parallel='0055'\n"
     ]
    },
    {
     "name": "stderr",
     "output_type": "stream",
     "text": [
      "\u001b[32m[I 2022-08-16 01:36:49,461]\u001b[0m Trial 55 finished with value: 6875.948497854078 and parameters: {'kErase': 1, 'kRadius': 4, 'kAnnealingA': 12.245891944181245, 'kAnnealingB': 2.759721367748509, 'kAnnealingStart': 69.01183907494692, 'kSkipRatio': 0.5416551985206338, 'kTargetDeterminationTrials': 8, 'kAttractionRatio': 0.45098520794186625, 'kMaxAttractionDistance': 13, 'kStartAttraction': 0.0013447517199136423}. Best is trial 52 with value: 8510.45922746781.\u001b[0m\n"
     ]
    },
    {
     "name": "stdout",
     "output_type": "stream",
     "text": [
      "index_parallel='0056'\n"
     ]
    },
    {
     "name": "stderr",
     "output_type": "stream",
     "text": [
      "\u001b[32m[I 2022-08-16 01:41:11,518]\u001b[0m Trial 56 finished with value: 5305.390557939914 and parameters: {'kErase': 2, 'kRadius': 6, 'kAnnealingA': 8.104067348047725, 'kAnnealingB': 2.9688780302409334, 'kAnnealingStart': 69.79662368170435, 'kSkipRatio': 0.48263342905886397, 'kTargetDeterminationTrials': 6, 'kAttractionRatio': 0.29216173947023644, 'kMaxAttractionDistance': 98, 'kStartAttraction': 0.0071482515089670885}. Best is trial 52 with value: 8510.45922746781.\u001b[0m\n"
     ]
    },
    {
     "name": "stdout",
     "output_type": "stream",
     "text": [
      "index_parallel='0057'\n"
     ]
    },
    {
     "name": "stderr",
     "output_type": "stream",
     "text": [
      "\u001b[32m[I 2022-08-16 01:45:33,525]\u001b[0m Trial 57 finished with value: 7326.776824034335 and parameters: {'kErase': 1, 'kRadius': 3, 'kAnnealingA': 10.118973777426216, 'kAnnealingB': 2.3237784270509603, 'kAnnealingStart': 40.65418975848282, 'kSkipRatio': 0.6823842538408464, 'kTargetDeterminationTrials': 9, 'kAttractionRatio': 0.16757588160083914, 'kMaxAttractionDistance': 8, 'kStartAttraction': 0.01096734508377288}. Best is trial 52 with value: 8510.45922746781.\u001b[0m\n"
     ]
    },
    {
     "name": "stdout",
     "output_type": "stream",
     "text": [
      "index_parallel='0058'\n"
     ]
    },
    {
     "name": "stderr",
     "output_type": "stream",
     "text": [
      "\u001b[32m[I 2022-08-16 01:49:55,672]\u001b[0m Trial 58 finished with value: 7538.07296137339 and parameters: {'kErase': 2, 'kRadius': 4, 'kAnnealingA': 2.17655945054387, 'kAnnealingB': 1.3130375021797858, 'kAnnealingStart': 5.547166700849629, 'kSkipRatio': 0.42230844262631334, 'kTargetDeterminationTrials': 4, 'kAttractionRatio': 0.7617087372177473, 'kMaxAttractionDistance': 16, 'kStartAttraction': 0.005443774247928729}. Best is trial 52 with value: 8510.45922746781.\u001b[0m\n"
     ]
    },
    {
     "name": "stdout",
     "output_type": "stream",
     "text": [
      "index_parallel='0059'\n"
     ]
    },
    {
     "name": "stderr",
     "output_type": "stream",
     "text": [
      "\u001b[32m[I 2022-08-16 01:54:17,686]\u001b[0m Trial 59 finished with value: 7914.828326180257 and parameters: {'kErase': 1, 'kRadius': 3, 'kAnnealingA': -1.5537445604546432, 'kAnnealingB': 1.9109397909567538, 'kAnnealingStart': 31.208173785397296, 'kSkipRatio': 0.6458276494955976, 'kTargetDeterminationTrials': 6, 'kAttractionRatio': 0.05956426261783293, 'kMaxAttractionDistance': 9, 'kStartAttraction': 0.20211212415201832}. Best is trial 52 with value: 8510.45922746781.\u001b[0m\n"
     ]
    },
    {
     "name": "stdout",
     "output_type": "stream",
     "text": [
      "index_parallel='0060'\n"
     ]
    },
    {
     "name": "stderr",
     "output_type": "stream",
     "text": [
      "\u001b[32m[I 2022-08-16 01:58:40,054]\u001b[0m Trial 60 finished with value: 7693.1330472103 and parameters: {'kErase': 2, 'kRadius': 5, 'kAnnealingA': -10.536278726751767, 'kAnnealingB': 1.6168945041173388, 'kAnnealingStart': 3.8208748690235232, 'kSkipRatio': 0.6048448789235653, 'kTargetDeterminationTrials': 20, 'kAttractionRatio': 0.33492199400277217, 'kMaxAttractionDistance': 23, 'kStartAttraction': 0.01741916451307756}. Best is trial 52 with value: 8510.45922746781.\u001b[0m\n"
     ]
    },
    {
     "name": "stdout",
     "output_type": "stream",
     "text": [
      "index_parallel='0061'\n"
     ]
    },
    {
     "name": "stderr",
     "output_type": "stream",
     "text": [
      "\u001b[32m[I 2022-08-16 02:03:02,390]\u001b[0m Trial 61 finished with value: 8396.18025751073 and parameters: {'kErase': 1, 'kRadius': 4, 'kAnnealingA': 12.282596187166167, 'kAnnealingB': 2.7394827743541703, 'kAnnealingStart': 26.39897676545219, 'kSkipRatio': 0.55211823711904, 'kTargetDeterminationTrials': 6, 'kAttractionRatio': 0.5979110610231265, 'kMaxAttractionDistance': 11, 'kStartAttraction': 0.002942116039490775}. Best is trial 52 with value: 8510.45922746781.\u001b[0m\n"
     ]
    },
    {
     "name": "stdout",
     "output_type": "stream",
     "text": [
      "index_parallel='0062'\n"
     ]
    },
    {
     "name": "stderr",
     "output_type": "stream",
     "text": [
      "\u001b[32m[I 2022-08-16 02:07:24,869]\u001b[0m Trial 62 finished with value: 8337.772532188841 and parameters: {'kErase': 1, 'kRadius': 4, 'kAnnealingA': 14.15585783934466, 'kAnnealingB': 2.723243453668636, 'kAnnealingStart': 17.410891888798783, 'kSkipRatio': 0.535037760607638, 'kTargetDeterminationTrials': 8, 'kAttractionRatio': 0.40359922164123735, 'kMaxAttractionDistance': 11, 'kStartAttraction': 0.004582440244031775}. Best is trial 52 with value: 8510.45922746781.\u001b[0m\n"
     ]
    },
    {
     "name": "stdout",
     "output_type": "stream",
     "text": [
      "index_parallel='0063'\n"
     ]
    },
    {
     "name": "stderr",
     "output_type": "stream",
     "text": [
      "\u001b[32m[I 2022-08-16 02:11:46,769]\u001b[0m Trial 63 finished with value: 8434.506437768241 and parameters: {'kErase': 1, 'kRadius': 4, 'kAnnealingA': 14.607385325447249, 'kAnnealingB': 2.860602756863499, 'kAnnealingStart': 18.704236761456443, 'kSkipRatio': 0.5339837560700128, 'kTargetDeterminationTrials': 8, 'kAttractionRatio': 0.44772153373029566, 'kMaxAttractionDistance': 11, 'kStartAttraction': 0.004235099889790203}. Best is trial 52 with value: 8510.45922746781.\u001b[0m\n"
     ]
    },
    {
     "name": "stdout",
     "output_type": "stream",
     "text": [
      "index_parallel='0064'\n"
     ]
    },
    {
     "name": "stderr",
     "output_type": "stream",
     "text": [
      "\u001b[32m[I 2022-08-16 02:16:08,828]\u001b[0m Trial 64 finished with value: 8168.128755364807 and parameters: {'kErase': 1, 'kRadius': 4, 'kAnnealingA': 12.173125626768625, 'kAnnealingB': 2.9917947533336564, 'kAnnealingStart': 14.482767815572702, 'kSkipRatio': 0.579418991830242, 'kTargetDeterminationTrials': 7, 'kAttractionRatio': 0.45519063512889935, 'kMaxAttractionDistance': 14, 'kStartAttraction': 0.009108563272969}. Best is trial 52 with value: 8510.45922746781.\u001b[0m\n"
     ]
    },
    {
     "name": "stdout",
     "output_type": "stream",
     "text": [
      "index_parallel='0065'\n"
     ]
    },
    {
     "name": "stderr",
     "output_type": "stream",
     "text": [
      "\u001b[32m[I 2022-08-16 02:20:31,567]\u001b[0m Trial 65 finished with value: 7534.776824034335 and parameters: {'kErase': 4, 'kRadius': 4, 'kAnnealingA': 14.714699527479567, 'kAnnealingB': 0.562060982670978, 'kAnnealingStart': 27.93561427660521, 'kSkipRatio': 0.554836013663189, 'kTargetDeterminationTrials': 10, 'kAttractionRatio': 0.49681946634944174, 'kMaxAttractionDistance': 13, 'kStartAttraction': 0.003505538866208418}. Best is trial 52 with value: 8510.45922746781.\u001b[0m\n"
     ]
    },
    {
     "name": "stdout",
     "output_type": "stream",
     "text": [
      "index_parallel='0066'\n"
     ]
    },
    {
     "name": "stderr",
     "output_type": "stream",
     "text": [
      "\u001b[32m[I 2022-08-16 02:24:53,567]\u001b[0m Trial 66 finished with value: 8104.772532188841 and parameters: {'kErase': 1, 'kRadius': 3, 'kAnnealingA': 13.03942997249276, 'kAnnealingB': 2.8616028759168506, 'kAnnealingStart': 9.999470299419839, 'kSkipRatio': 0.618184566559247, 'kTargetDeterminationTrials': 6, 'kAttractionRatio': 0.5700773766255924, 'kMaxAttractionDistance': 83, 'kStartAttraction': 0.35379020939250894}. Best is trial 52 with value: 8510.45922746781.\u001b[0m\n"
     ]
    },
    {
     "name": "stdout",
     "output_type": "stream",
     "text": [
      "index_parallel='0067'\n"
     ]
    },
    {
     "name": "stderr",
     "output_type": "stream",
     "text": [
      "\u001b[32m[I 2022-08-16 02:29:15,787]\u001b[0m Trial 67 finished with value: 7802.798283261803 and parameters: {'kErase': 2, 'kRadius': 4, 'kAnnealingA': -6.498327064445871, 'kAnnealingB': 0.13307613669533547, 'kAnnealingStart': 4.064590810769772, 'kSkipRatio': 0.5961401176304144, 'kTargetDeterminationTrials': 9, 'kAttractionRatio': 0.26107530856140054, 'kMaxAttractionDistance': 15, 'kStartAttraction': 0.002064166141078944}. Best is trial 52 with value: 8510.45922746781.\u001b[0m\n"
     ]
    },
    {
     "name": "stdout",
     "output_type": "stream",
     "text": [
      "index_parallel='0068'\n"
     ]
    },
    {
     "name": "stderr",
     "output_type": "stream",
     "text": [
      "\u001b[32m[I 2022-08-16 02:33:37,897]\u001b[0m Trial 68 finished with value: 7905.412017167382 and parameters: {'kErase': 1, 'kRadius': 3, 'kAnnealingA': -4.668587719509699, 'kAnnealingB': 1.0092734112030235, 'kAnnealingStart': 19.503786485282827, 'kSkipRatio': 0.6735952406300904, 'kTargetDeterminationTrials': 5, 'kAttractionRatio': 0.18248238191871674, 'kMaxAttractionDistance': 19, 'kStartAttraction': 0.14468305677370707}. Best is trial 52 with value: 8510.45922746781.\u001b[0m\n"
     ]
    }
   ],
   "source": [
    "study.optimize(\n",
    "    partial(objective, in_dir=in_dir, work_dir=work_dir),\n",
    "    n_trials=3000,\n",
    "    timeout=86400,\n",
    "    callbacks=[callback]\n",
    ")"
   ]
  },
  {
   "cell_type": "code",
   "execution_count": null,
   "id": "700269d2",
   "metadata": {},
   "outputs": [],
   "source": []
  }
 ],
 "metadata": {
  "kernelspec": {
   "display_name": "Python 3 (ipykernel)",
   "language": "python",
   "name": "python3"
  },
  "language_info": {
   "codemirror_mode": {
    "name": "ipython",
    "version": 3
   },
   "file_extension": ".py",
   "mimetype": "text/x-python",
   "name": "python",
   "nbconvert_exporter": "python",
   "pygments_lexer": "ipython3",
   "version": "3.9.12"
  }
 },
 "nbformat": 4,
 "nbformat_minor": 5
}
