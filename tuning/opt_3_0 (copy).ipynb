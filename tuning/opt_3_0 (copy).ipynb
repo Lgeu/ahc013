{
 "cells": [
  {
   "cell_type": "code",
   "execution_count": 1,
   "id": "25a1dac8",
   "metadata": {},
   "outputs": [],
   "source": [
    "import re\n",
    "import sys\n",
    "from uuid import uuid1\n",
    "from time import sleep\n",
    "from pprint import pprint\n",
    "from pathlib import Path\n",
    "from tempfile import gettempdir\n",
    "from threading import Thread\n",
    "from functools import partial\n",
    "from subprocess import Popen, PIPE\n",
    "\n",
    "from tqdm.notebook import tqdm\n",
    "import numpy as np\n",
    "import optuna\n",
    "import pandas as pd\n",
    "import matplotlib.pyplot as plt\n",
    "\n",
    "FILENAME = \"main.cpp\""
   ]
  },
  {
   "cell_type": "code",
   "execution_count": 2,
   "id": "3dd4d02e",
   "metadata": {},
   "outputs": [
    {
     "name": "stdout",
     "output_type": "stream",
     "text": [
      "10 variables were found.\n"
     ]
    },
    {
     "data": {
      "text/html": [
       "<div>\n",
       "<style scoped>\n",
       "    .dataframe tbody tr th:only-of-type {\n",
       "        vertical-align: middle;\n",
       "    }\n",
       "\n",
       "    .dataframe tbody tr th {\n",
       "        vertical-align: top;\n",
       "    }\n",
       "\n",
       "    .dataframe thead th {\n",
       "        text-align: right;\n",
       "    }\n",
       "</style>\n",
       "<table border=\"1\" class=\"dataframe\">\n",
       "  <thead>\n",
       "    <tr style=\"text-align: right;\">\n",
       "      <th></th>\n",
       "      <th>name</th>\n",
       "      <th>method</th>\n",
       "      <th>min</th>\n",
       "      <th>max</th>\n",
       "      <th>log</th>\n",
       "      <th>left</th>\n",
       "      <th>right</th>\n",
       "    </tr>\n",
       "  </thead>\n",
       "  <tbody>\n",
       "    <tr>\n",
       "      <th>0</th>\n",
       "      <td>kErase</td>\n",
       "      <td>suggest_int</td>\n",
       "      <td>1.000</td>\n",
       "      <td>5.0</td>\n",
       "      <td>False</td>\n",
       "      <td>static constexpr auto kErase =</td>\n",
       "      <td>;             // OPTIMIZE [1, 5]</td>\n",
       "    </tr>\n",
       "    <tr>\n",
       "      <th>1</th>\n",
       "      <td>kRadius</td>\n",
       "      <td>suggest_int</td>\n",
       "      <td>2.000</td>\n",
       "      <td>6.0</td>\n",
       "      <td>False</td>\n",
       "      <td>static constexpr auto kRadius =</td>\n",
       "      <td>;            // OPTIMIZE [2, 6]</td>\n",
       "    </tr>\n",
       "    <tr>\n",
       "      <th>2</th>\n",
       "      <td>kAnnealingA</td>\n",
       "      <td>suggest_float</td>\n",
       "      <td>-15.000</td>\n",
       "      <td>15.0</td>\n",
       "      <td>False</td>\n",
       "      <td>static constexpr auto kAnnealingA =</td>\n",
       "      <td>;      // OPTIMIZE [-15.0, 15.0]</td>\n",
       "    </tr>\n",
       "    <tr>\n",
       "      <th>3</th>\n",
       "      <td>kAnnealingB</td>\n",
       "      <td>suggest_float</td>\n",
       "      <td>0.000</td>\n",
       "      <td>3.0</td>\n",
       "      <td>False</td>\n",
       "      <td>static constexpr auto kAnnealingB =</td>\n",
       "      <td>;      // OPTIMIZE [0.0, 3.0]</td>\n",
       "    </tr>\n",
       "    <tr>\n",
       "      <th>4</th>\n",
       "      <td>kAnnealingStart</td>\n",
       "      <td>suggest_float</td>\n",
       "      <td>1.000</td>\n",
       "      <td>100.0</td>\n",
       "      <td>True</td>\n",
       "      <td>static constexpr auto kAnnealingStart =</td>\n",
       "      <td>; // OPTIMIZE LOG [1.0, 100.0]</td>\n",
       "    </tr>\n",
       "    <tr>\n",
       "      <th>5</th>\n",
       "      <td>kSkipRatio</td>\n",
       "      <td>suggest_float</td>\n",
       "      <td>0.200</td>\n",
       "      <td>0.8</td>\n",
       "      <td>False</td>\n",
       "      <td>static constexpr auto kSkipRatio =</td>\n",
       "      <td>;       // OPTIMIZE [0.2, 0.8]</td>\n",
       "    </tr>\n",
       "    <tr>\n",
       "      <th>6</th>\n",
       "      <td>kTargetDeterminationTrials</td>\n",
       "      <td>suggest_int</td>\n",
       "      <td>1.000</td>\n",
       "      <td>20.0</td>\n",
       "      <td>True</td>\n",
       "      <td>static constexpr auto kTargetDeterminationTria...</td>\n",
       "      <td>; // OPTIMIZE LOG [1, 20]</td>\n",
       "    </tr>\n",
       "    <tr>\n",
       "      <th>7</th>\n",
       "      <td>kAttractionRatio</td>\n",
       "      <td>suggest_float</td>\n",
       "      <td>0.010</td>\n",
       "      <td>0.9</td>\n",
       "      <td>True</td>\n",
       "      <td>static constexpr auto kAttractionRatio =</td>\n",
       "      <td>;      // OPTIMIZE LOG [0.01, 0.9]</td>\n",
       "    </tr>\n",
       "    <tr>\n",
       "      <th>8</th>\n",
       "      <td>kMaxAttractionDistance</td>\n",
       "      <td>suggest_int</td>\n",
       "      <td>4.000</td>\n",
       "      <td>99.0</td>\n",
       "      <td>True</td>\n",
       "      <td>static constexpr auto kMaxAttractionDistance =</td>\n",
       "      <td>; // OPTIMIZE LOG [4, 99]</td>\n",
       "    </tr>\n",
       "    <tr>\n",
       "      <th>9</th>\n",
       "      <td>kStartAttraction</td>\n",
       "      <td>suggest_float</td>\n",
       "      <td>0.001</td>\n",
       "      <td>0.9</td>\n",
       "      <td>True</td>\n",
       "      <td>static constexpr auto kStartAttraction =</td>\n",
       "      <td>;     // OPTIMIZE LOG [0.001, 0.9]</td>\n",
       "    </tr>\n",
       "  </tbody>\n",
       "</table>\n",
       "</div>"
      ],
      "text/plain": [
       "                         name         method     min    max    log  \\\n",
       "0                      kErase    suggest_int   1.000    5.0  False   \n",
       "1                     kRadius    suggest_int   2.000    6.0  False   \n",
       "2                 kAnnealingA  suggest_float -15.000   15.0  False   \n",
       "3                 kAnnealingB  suggest_float   0.000    3.0  False   \n",
       "4             kAnnealingStart  suggest_float   1.000  100.0   True   \n",
       "5                  kSkipRatio  suggest_float   0.200    0.8  False   \n",
       "6  kTargetDeterminationTrials    suggest_int   1.000   20.0   True   \n",
       "7            kAttractionRatio  suggest_float   0.010    0.9   True   \n",
       "8      kMaxAttractionDistance    suggest_int   4.000   99.0   True   \n",
       "9            kStartAttraction  suggest_float   0.001    0.9   True   \n",
       "\n",
       "                                                left  \\\n",
       "0                    static constexpr auto kErase =    \n",
       "1                   static constexpr auto kRadius =    \n",
       "2               static constexpr auto kAnnealingA =    \n",
       "3               static constexpr auto kAnnealingB =    \n",
       "4           static constexpr auto kAnnealingStart =    \n",
       "5                static constexpr auto kSkipRatio =    \n",
       "6  static constexpr auto kTargetDeterminationTria...   \n",
       "7          static constexpr auto kAttractionRatio =    \n",
       "8    static constexpr auto kMaxAttractionDistance =    \n",
       "9          static constexpr auto kStartAttraction =    \n",
       "\n",
       "                                right  \n",
       "0    ;             // OPTIMIZE [1, 5]  \n",
       "1     ;            // OPTIMIZE [2, 6]  \n",
       "2    ;      // OPTIMIZE [-15.0, 15.0]  \n",
       "3       ;      // OPTIMIZE [0.0, 3.0]  \n",
       "4      ; // OPTIMIZE LOG [1.0, 100.0]  \n",
       "5      ;       // OPTIMIZE [0.2, 0.8]  \n",
       "6           ; // OPTIMIZE LOG [1, 20]  \n",
       "7  ;      // OPTIMIZE LOG [0.01, 0.9]  \n",
       "8           ; // OPTIMIZE LOG [4, 99]  \n",
       "9  ;     // OPTIMIZE LOG [0.001, 0.9]  "
      ]
     },
     "metadata": {},
     "output_type": "display_data"
    }
   ],
   "source": [
    "# ここでエラー出力は何かおかしいかもしれない\n",
    "\n",
    "\n",
    "# パラメータ抽出\n",
    "with open(FILENAME) as f:\n",
    "    answer = f.read()\n",
    "\n",
    "\n",
    "variables_optimize = []\n",
    "\n",
    "for left, value, right, options in re.findall(r\"^([^/\\n]*=\\s*)(.+?)(\\s*;\\s*//(?:.*\\W)?OPTIMIZE(\\W.*))$\", answer, re.MULTILINE):\n",
    "    name = left.replace(\"=\", \"\").strip().split()[-1]\n",
    "    \n",
    "    searched = re.search(r\".*\\[(?P<min>.*),(?P<max>.*)\\].*\", options)\n",
    "    if searched:\n",
    "        min_value = max_value = None\n",
    "        try:\n",
    "            min_value = eval(searched.group(\"min\"))\n",
    "            max_value = eval(searched.group(\"max\"))\n",
    "            assert min_value <= max_value\n",
    "        except Exception as e:\n",
    "            print(f\"searched={searched}\", file=sys.stderr)\n",
    "            print(e, file=sys.stderr)\n",
    "            continue\n",
    "        log = \"LOG\" in options  # 雑、直したほうが良い\n",
    "        if type(min_value) != type(max_value):\n",
    "            print(f\"searched={searched}\", file=sys.stderr)\n",
    "            print(\"types not matched\", file=sys.stderr)\n",
    "            continue\n",
    "        if isinstance(min_value, int):\n",
    "            method = \"suggest_int\"\n",
    "        elif isinstance(min_value, float):\n",
    "            method = \"suggest_float\"\n",
    "        else:\n",
    "            print(f\"searched={searched}\", file=sys.stderr)\n",
    "            print(f\"unknown type ({type(min_value)})\", file=sys.stderr)\n",
    "            continue\n",
    "        variables_optimize.append({\n",
    "            \"name\": name,\n",
    "            \"method\": method,\n",
    "            \"min\": min_value,\n",
    "            \"max\": max_value,\n",
    "            \"log\": log,\n",
    "            \"left\": left,\n",
    "            \"right\": right,\n",
    "        })\n",
    "    elif searched := re.search(r\".*\\{(?P<choices>.*?)\\}.*\", options):\n",
    "        choices = list(map(lambda x: x.strip(), searched.group(\"choices\").split(\",\")))\n",
    "        variables_optimize.append({\n",
    "            \"name\": name,\n",
    "            \"method\": \"suggest_categorical\",\n",
    "            \"choices\": choices,\n",
    "            \"left\": left,\n",
    "            \"right\": right,\n",
    "        })\n",
    "    else:\n",
    "        print(f\"searched={searched}\", file=sys.stderr)\n",
    "        print(f\"pattern was matched but options are incorrect.\", file=sys.stderr)\n",
    "\n",
    "print(len(variables_optimize), \"variables were found.\")\n",
    "if globals().get(\"pd\"):\n",
    "    display(pd.DataFrame(variables_optimize))\n",
    "else:\n",
    "    pprint(variables_optimize)"
   ]
  },
  {
   "cell_type": "code",
   "execution_count": 3,
   "id": "001042b9",
   "metadata": {},
   "outputs": [],
   "source": [
    "def escape(string):  # 正規表現の中でそのまま使いたい文字列をエスケープ\n",
    "    res = !echo '{string}' | sed -e 's/[]\\/$*.^[]/\\\\&/g'\n",
    "    return res[0]\n",
    "\n",
    "def escape_sed(string):  # sed の置換後の文字列用のエスケープ\n",
    "    res = !echo '{string}' | sed -e 's/[\\/&]/\\\\&/g'\n",
    "    return res[0]\n",
    "\n",
    "def read_stream(name, in_file, out_file):\n",
    "    for line in in_file:\n",
    "        print(f\"[{name}] {line.strip()}\", file=out_file)\n",
    "\n",
    "def run(cmd, name):\n",
    "    proc = Popen(cmd, stdout=PIPE, stderr=PIPE, universal_newlines=True, shell=isinstance(cmd, str))\n",
    "    stdout_thread = Thread(target=read_stream, args=(name, proc.stdout, sys.stdout))\n",
    "    stderr_thread = Thread(target=read_stream, args=(name, proc.stderr, sys.stderr))\n",
    "    stdout_thread.start()\n",
    "    stderr_thread.start()\n",
    "    proc.wait()\n",
    "    return proc\n",
    "\n",
    "def objective(trial, in_dir, work_dir):\n",
    "    n_internal_parallel = 3\n",
    "    \n",
    "    index_parallel = f\"{trial.number:04d}\"\n",
    "    print(f\"{index_parallel=}\")\n",
    "    \n",
    "    work_dir = Path(work_dir)\n",
    "    directory_input = Path(in_dir)  # 中のすべてのファイルに対して実行される\n",
    "    #parameters_changed_filename = Path(gettempdir()) / str(uuid1())\n",
    "    parameters_changed_filename = work_dir / f\"{index_parallel}_{FILENAME}\"\n",
    "    \n",
    "    run([\"mkdir\", f\"{work_dir / index_parallel}_out\"], \"mkdir\")\n",
    "    run([\"mkdir\", f\"{work_dir / index_parallel}_score\"], \"mkdir\")\n",
    "    \n",
    "    # ファイル作成\n",
    "    run(f\"cp {FILENAME} {parameters_changed_filename}\", \"cp\")\n",
    "    sed_options = [f\"-i {parameters_changed_filename}\"]\n",
    "    for variable in variables_optimize:\n",
    "        if variable[\"method\"] == \"suggest_categorical\":\n",
    "            val =  trial.suggest_categorical(variable[\"name\"], variable[\"choices\"])\n",
    "        else:\n",
    "            val = getattr(trial, variable[\"method\"])(variable[\"name\"], variable[\"min\"], variable[\"max\"], log=variable[\"log\"])\n",
    "        left = variable[\"left\"]\n",
    "        right = variable[\"right\"]\n",
    "        sed_options.append(f\"\"\"-e 's/^{escape(left)}.*{escape(right)}$/{escape_sed(left)}{val}{escape_sed(right)}/'\"\"\")\n",
    "    command_sed = f\"sed {' '.join(sed_options)}\"\n",
    "    #print(command_sed)\n",
    "    run(command_sed, \"sed\")\n",
    "    \n",
    "    # コンパイル\n",
    "    command_compile = f\"g++ {parameters_changed_filename} -std=gnu++17 -O2 -DONLINE_JUDGE -o {parameters_changed_filename}.out\"\n",
    "    #print(command_compile)\n",
    "    run(command_compile, \"compile\")\n",
    "    # 実行・採点コマンド (@ はファイル名)\n",
    "    command_exec = (\n",
    "        #f\"./a.out < ./tools/in/{i:04d}.txt > {out_file} && ./tools/target/release/vis ./tools/in/{i:04d}.txt {out_file}\"\n",
    "        #f\"../tools/target/release/tester $(pwd)/{parameters_changed_filename}.out < {directory_input}/@ 2>&1 | grep Score\"\n",
    "        #f\"../tools/target/release/tester $(pwd)/{parameters_changed_filename}.out < {directory_input}/@ 2>&1 | grep Score | sed -E s/[^0-9]+// > ./{index_parallel}_score/@;\"\n",
    "        #f\"cargo run --release --manifest-path ../tools/Cargo.toml --bin tester {directory_input}/@ $(pwd)/{parameters_changed_filename}.out 2>&1 | grep Score | sed -E s/[^0-9]+// > ./{index_parallel}_score/@;\"\n",
    "        f\"./{parameters_changed_filename}.out < {directory_input}/@ > {work_dir / index_parallel}_out/@;\"\n",
    "        f\"../tools/target/release/vis {directory_input}/@ {work_dir / index_parallel}_out/@ 2> /dev/null > {work_dir / index_parallel}_score/@;\"\n",
    "    )\n",
    "    # 並列実行 (sed はパスのディレクトリ部分を消してファイル名にしてる)\n",
    "    run(f\"find {directory_input}/* | sed 's!^.*/!!' | xargs -I@ -P {n_internal_parallel} sh -c '{command_exec}'\", \"exec\")\n",
    "    \n",
    "    # 集計\n",
    "    scores = []\n",
    "    for file_path in Path(f\"{work_dir / index_parallel}_score/\").iterdir():  \n",
    "        with open(file_path) as f:\n",
    "            scores.append(int(f.readline().strip().split()[-1]))\n",
    "    mean_score = sum(scores) / len(scores)\n",
    "    \n",
    "    # 後始末\n",
    "    run(f\"rm -rf {work_dir / index_parallel}_out\", \"rm\")\n",
    "    run(f\"rm -rf {work_dir / index_parallel}_score\", \"rm\")\n",
    "    #run(f\"rm {parameters_changed_filename}\", \"rm\")\n",
    "    run(f\"rm {parameters_changed_filename}.out\", \"rm\")\n",
    "    \n",
    "    return mean_score"
   ]
  },
  {
   "cell_type": "code",
   "execution_count": 4,
   "id": "2d2e133c",
   "metadata": {},
   "outputs": [
    {
     "name": "stderr",
     "output_type": "stream",
     "text": [
      "\u001b[32m[I 2022-08-16 05:04:11,337]\u001b[0m Using an existing study with name 'study_3_0' instead of creating a new one.\u001b[0m\n"
     ]
    }
   ],
   "source": [
    "K = 3\n",
    "N_CLASS = 0\n",
    "\n",
    "in_dir = Path(f\"in_{K}_{N_CLASS}\")\n",
    "work_dir = Path(f\"work_{K}_{N_CLASS}\")\n",
    "\n",
    "study_name = f\"study_{K}_{N_CLASS}\"\n",
    "storage_path = work_dir / \"study.db\"\n",
    "storage = f\"sqlite:///{storage_path}\"\n",
    "study = optuna.create_study(storage=storage, load_if_exists=True, study_name=study_name, direction=\"maximize\")\n",
    "\n",
    "def callback(study, trial):\n",
    "    try:\n",
    "        index_parallel = f\"{trial.number:04d}\"\n",
    "        parameters_changed_filename = work_dir / f\"{index_parallel}_{FILENAME}\"\n",
    "        if study.best_value == trial.value:\n",
    "            print(f\"Updated! {study.best_value}\")\n",
    "            !cp {parameters_changed_filename} {work_dir / \"best_parameters.cpp\"}\n",
    "        !rm {parameters_changed_filename}\n",
    "    except:\n",
    "        print(\":(\")\n"
   ]
  },
  {
   "cell_type": "code",
   "execution_count": null,
   "id": "61c2901d",
   "metadata": {},
   "outputs": [
    {
     "name": "stdout",
     "output_type": "stream",
     "text": [
      "index_parallel='0115'\n"
     ]
    },
    {
     "name": "stderr",
     "output_type": "stream",
     "text": [
      "\u001b[32m[I 2022-08-16 05:08:14,276]\u001b[0m Trial 115 finished with value: 6591.12676056338 and parameters: {'kErase': 1, 'kRadius': 2, 'kAnnealingA': 3.19826393654662, 'kAnnealingB': 1.0225219248570088, 'kAnnealingStart': 20.277875639906753, 'kSkipRatio': 0.7243371822561052, 'kTargetDeterminationTrials': 13, 'kAttractionRatio': 0.47072243369060196, 'kMaxAttractionDistance': 45, 'kStartAttraction': 0.3345894522464991}. Best is trial 76 with value: 6656.807511737089.\u001b[0m\n"
     ]
    },
    {
     "name": "stdout",
     "output_type": "stream",
     "text": [
      "index_parallel='0117'\n"
     ]
    },
    {
     "name": "stderr",
     "output_type": "stream",
     "text": [
      "\u001b[32m[I 2022-08-16 05:12:16,924]\u001b[0m Trial 117 finished with value: 6615.042253521126 and parameters: {'kErase': 1, 'kRadius': 2, 'kAnnealingA': 2.299563343035173, 'kAnnealingB': 1.4615569344653636, 'kAnnealingStart': 30.11339606597876, 'kSkipRatio': 0.7756094716819311, 'kTargetDeterminationTrials': 16, 'kAttractionRatio': 0.8169075579161029, 'kMaxAttractionDistance': 60, 'kStartAttraction': 0.1825087855412307}. Best is trial 76 with value: 6656.807511737089.\u001b[0m\n"
     ]
    },
    {
     "name": "stdout",
     "output_type": "stream",
     "text": [
      "index_parallel='0119'\n"
     ]
    },
    {
     "name": "stderr",
     "output_type": "stream",
     "text": [
      "\u001b[32m[I 2022-08-16 05:16:20,120]\u001b[0m Trial 119 finished with value: 6546.544600938967 and parameters: {'kErase': 2, 'kRadius': 6, 'kAnnealingA': 0.7593262254593596, 'kAnnealingB': 1.2793308506252377, 'kAnnealingStart': 22.567773776431267, 'kSkipRatio': 0.7062366109536243, 'kTargetDeterminationTrials': 15, 'kAttractionRatio': 0.6192429844733319, 'kMaxAttractionDistance': 41, 'kStartAttraction': 0.2903312109681036}. Best is trial 76 with value: 6656.807511737089.\u001b[0m\n"
     ]
    },
    {
     "name": "stdout",
     "output_type": "stream",
     "text": [
      "index_parallel='0121'\n"
     ]
    },
    {
     "name": "stderr",
     "output_type": "stream",
     "text": [
      "\u001b[32m[I 2022-08-16 05:20:23,043]\u001b[0m Trial 121 finished with value: 6299.605633802817 and parameters: {'kErase': 1, 'kRadius': 2, 'kAnnealingA': 6.807578630661625, 'kAnnealingB': 0.3831029306912458, 'kAnnealingStart': 3.932408199222228, 'kSkipRatio': 0.6595397131348854, 'kTargetDeterminationTrials': 11, 'kAttractionRatio': 0.5559890404437566, 'kMaxAttractionDistance': 76, 'kStartAttraction': 0.22192310072176363}. Best is trial 76 with value: 6656.807511737089.\u001b[0m\n"
     ]
    },
    {
     "name": "stdout",
     "output_type": "stream",
     "text": [
      "index_parallel='0123'\n"
     ]
    },
    {
     "name": "stderr",
     "output_type": "stream",
     "text": [
      "\u001b[32m[I 2022-08-16 05:24:25,661]\u001b[0m Trial 123 finished with value: 6587.835680751174 and parameters: {'kErase': 1, 'kRadius': 2, 'kAnnealingA': 7.613905841370841, 'kAnnealingB': 1.3781513344115113, 'kAnnealingStart': 25.802160017176035, 'kSkipRatio': 0.6938254760704935, 'kTargetDeterminationTrials': 12, 'kAttractionRatio': 0.7123626117366536, 'kMaxAttractionDistance': 32, 'kStartAttraction': 0.1588435565276888}. Best is trial 76 with value: 6656.807511737089.\u001b[0m\n"
     ]
    },
    {
     "name": "stdout",
     "output_type": "stream",
     "text": [
      "index_parallel='0125'\n"
     ]
    },
    {
     "name": "stderr",
     "output_type": "stream",
     "text": [
      "\u001b[32m[I 2022-08-16 05:28:28,576]\u001b[0m Trial 125 finished with value: 6530.474178403756 and parameters: {'kErase': 1, 'kRadius': 2, 'kAnnealingA': 8.801839947083401, 'kAnnealingB': 1.5687181428313255, 'kAnnealingStart': 34.67176081689303, 'kSkipRatio': 0.745620920017569, 'kTargetDeterminationTrials': 10, 'kAttractionRatio': 0.8088179329986039, 'kMaxAttractionDistance': 26, 'kStartAttraction': 0.3825580920604101}. Best is trial 76 with value: 6656.807511737089.\u001b[0m\n"
     ]
    },
    {
     "name": "stdout",
     "output_type": "stream",
     "text": [
      "index_parallel='0127'\n"
     ]
    },
    {
     "name": "stderr",
     "output_type": "stream",
     "text": [
      "\u001b[32m[I 2022-08-16 05:32:31,164]\u001b[0m Trial 127 finished with value: 6638.333333333333 and parameters: {'kErase': 1, 'kRadius': 2, 'kAnnealingA': 1.4480528586151864, 'kAnnealingB': 1.4250015333034132, 'kAnnealingStart': 27.998060721187883, 'kSkipRatio': 0.6387635215592474, 'kTargetDeterminationTrials': 18, 'kAttractionRatio': 0.43353789583080565, 'kMaxAttractionDistance': 53, 'kStartAttraction': 0.13913995465405365}. Best is trial 76 with value: 6656.807511737089.\u001b[0m\n"
     ]
    },
    {
     "name": "stdout",
     "output_type": "stream",
     "text": [
      "index_parallel='0129'\n"
     ]
    },
    {
     "name": "stderr",
     "output_type": "stream",
     "text": [
      "\u001b[32m[I 2022-08-16 05:36:33,467]\u001b[0m Trial 129 finished with value: 6596.55868544601 and parameters: {'kErase': 1, 'kRadius': 2, 'kAnnealingA': 0.005632142430836096, 'kAnnealingB': 1.0947191508625367, 'kAnnealingStart': 33.03650017599765, 'kSkipRatio': 0.6853568016684836, 'kTargetDeterminationTrials': 18, 'kAttractionRatio': 0.43599032159257434, 'kMaxAttractionDistance': 52, 'kStartAttraction': 0.12245871850316661}. Best is trial 76 with value: 6656.807511737089.\u001b[0m\n"
     ]
    },
    {
     "name": "stdout",
     "output_type": "stream",
     "text": [
      "index_parallel='0131'\n"
     ]
    },
    {
     "name": "stderr",
     "output_type": "stream",
     "text": [
      "\u001b[32m[I 2022-08-16 05:40:36,774]\u001b[0m Trial 131 finished with value: 5867.276995305165 and parameters: {'kErase': 4, 'kRadius': 2, 'kAnnealingA': 12.731930012859078, 'kAnnealingB': 1.639878779740311, 'kAnnealingStart': 46.70267313115607, 'kSkipRatio': 0.6342365296160278, 'kTargetDeterminationTrials': 15, 'kAttractionRatio': 0.3767749068337935, 'kMaxAttractionDistance': 67, 'kStartAttraction': 0.5732325229631268}. Best is trial 76 with value: 6656.807511737089.\u001b[0m\n"
     ]
    },
    {
     "name": "stdout",
     "output_type": "stream",
     "text": [
      "index_parallel='0133'\n"
     ]
    },
    {
     "name": "stderr",
     "output_type": "stream",
     "text": [
      "\u001b[32m[I 2022-08-16 05:44:39,321]\u001b[0m Trial 133 finished with value: 6644.741784037558 and parameters: {'kErase': 1, 'kRadius': 2, 'kAnnealingA': 0.9170217491918993, 'kAnnealingB': 1.4310928513985084, 'kAnnealingStart': 27.710702111358334, 'kSkipRatio': 0.6092770644289159, 'kTargetDeterminationTrials': 12, 'kAttractionRatio': 0.3182426139424204, 'kMaxAttractionDistance': 55, 'kStartAttraction': 0.206088525886025}. Best is trial 76 with value: 6656.807511737089.\u001b[0m\n"
     ]
    },
    {
     "name": "stdout",
     "output_type": "stream",
     "text": [
      "index_parallel='0135'\n"
     ]
    },
    {
     "name": "stderr",
     "output_type": "stream",
     "text": [
      "\u001b[32m[I 2022-08-16 05:48:41,806]\u001b[0m Trial 135 finished with value: 6632.882629107981 and parameters: {'kErase': 1, 'kRadius': 2, 'kAnnealingA': 0.8201989998441902, 'kAnnealingB': 1.4750650220941843, 'kAnnealingStart': 25.313276163055978, 'kSkipRatio': 0.6182355844099963, 'kTargetDeterminationTrials': 14, 'kAttractionRatio': 0.3122116608660691, 'kMaxAttractionDistance': 48, 'kStartAttraction': 0.2835482103279001}. Best is trial 76 with value: 6656.807511737089.\u001b[0m\n"
     ]
    },
    {
     "name": "stdout",
     "output_type": "stream",
     "text": [
      "index_parallel='0137'\n"
     ]
    },
    {
     "name": "stderr",
     "output_type": "stream",
     "text": [
      "\u001b[32m[I 2022-08-16 05:52:44,534]\u001b[0m Trial 137 finished with value: 6574.69014084507 and parameters: {'kErase': 1, 'kRadius': 2, 'kAnnealingA': -0.9063982419218037, 'kAnnealingB': 1.2957708972710902, 'kAnnealingStart': 29.690147552600948, 'kSkipRatio': 0.7602531937599963, 'kTargetDeterminationTrials': 12, 'kAttractionRatio': 0.4806744083464175, 'kMaxAttractionDistance': 57, 'kStartAttraction': 0.20301275774182923}. Best is trial 76 with value: 6656.807511737089.\u001b[0m\n"
     ]
    },
    {
     "name": "stdout",
     "output_type": "stream",
     "text": [
      "index_parallel='0139'\n"
     ]
    },
    {
     "name": "stderr",
     "output_type": "stream",
     "text": [
      "\u001b[32m[I 2022-08-16 05:56:47,067]\u001b[0m Trial 139 finished with value: 6602.164319248826 and parameters: {'kErase': 1, 'kRadius': 2, 'kAnnealingA': 2.169141463506435, 'kAnnealingB': 1.2165639913155912, 'kAnnealingStart': 39.72664353471414, 'kSkipRatio': 0.6073646206227244, 'kTargetDeterminationTrials': 11, 'kAttractionRatio': 0.376143038037281, 'kMaxAttractionDistance': 85, 'kStartAttraction': 0.16845115574643596}. Best is trial 76 with value: 6656.807511737089.\u001b[0m\n"
     ]
    },
    {
     "name": "stdout",
     "output_type": "stream",
     "text": [
      "index_parallel='0141'\n"
     ]
    },
    {
     "name": "stderr",
     "output_type": "stream",
     "text": [
      "\u001b[32m[I 2022-08-16 06:00:49,703]\u001b[0m Trial 141 finished with value: 6498.920187793427 and parameters: {'kErase': 1, 'kRadius': 2, 'kAnnealingA': 5.646868080827999, 'kAnnealingB': 1.1593242958850365, 'kAnnealingStart': 17.6263998276746, 'kSkipRatio': 0.7012694148197277, 'kTargetDeterminationTrials': 14, 'kAttractionRatio': 0.5725350307350405, 'kMaxAttractionDistance': 29, 'kStartAttraction': 0.004981213006299302}. Best is trial 76 with value: 6656.807511737089.\u001b[0m\n"
     ]
    },
    {
     "name": "stdout",
     "output_type": "stream",
     "text": [
      "index_parallel='0143'\n"
     ]
    },
    {
     "name": "stderr",
     "output_type": "stream",
     "text": [
      "\u001b[32m[I 2022-08-16 06:04:52,235]\u001b[0m Trial 143 finished with value: 6582.450704225352 and parameters: {'kErase': 1, 'kRadius': 2, 'kAnnealingA': 1.0742140980769257, 'kAnnealingB': 1.4594442228430744, 'kAnnealingStart': 21.84758454685541, 'kSkipRatio': 0.6726699598644035, 'kTargetDeterminationTrials': 16, 'kAttractionRatio': 0.3223230418239847, 'kMaxAttractionDistance': 54, 'kStartAttraction': 0.0012267140336796908}. Best is trial 76 with value: 6656.807511737089.\u001b[0m\n"
     ]
    },
    {
     "name": "stdout",
     "output_type": "stream",
     "text": [
      "index_parallel='0145'\n"
     ]
    },
    {
     "name": "stderr",
     "output_type": "stream",
     "text": [
      "\u001b[32m[I 2022-08-16 06:08:54,602]\u001b[0m Trial 145 finished with value: 6640.943661971831 and parameters: {'kErase': 1, 'kRadius': 2, 'kAnnealingA': -0.15468062446319908, 'kAnnealingB': 1.5485803678636434, 'kAnnealingStart': 27.124993029702328, 'kSkipRatio': 0.577304334112086, 'kTargetDeterminationTrials': 10, 'kAttractionRatio': 0.427166791791456, 'kMaxAttractionDistance': 64, 'kStartAttraction': 0.10949552242419155}. Best is trial 144 with value: 6689.215962441314.\u001b[0m\n"
     ]
    },
    {
     "name": "stdout",
     "output_type": "stream",
     "text": [
      "index_parallel='0147'\n"
     ]
    },
    {
     "name": "stderr",
     "output_type": "stream",
     "text": [
      "\u001b[32m[I 2022-08-16 06:12:57,598]\u001b[0m Trial 147 finished with value: 6391.610328638498 and parameters: {'kErase': 1, 'kRadius': 2, 'kAnnealingA': 4.890921035737873, 'kAnnealingB': 1.549723042634347, 'kAnnealingStart': 31.39739021623418, 'kSkipRatio': 0.5711682665506522, 'kTargetDeterminationTrials': 10, 'kAttractionRatio': 0.05246791709549651, 'kMaxAttractionDistance': 66, 'kStartAttraction': 0.10320626063170016}. Best is trial 144 with value: 6689.215962441314.\u001b[0m\n"
     ]
    },
    {
     "name": "stdout",
     "output_type": "stream",
     "text": [
      "index_parallel='0149'\n"
     ]
    },
    {
     "name": "stderr",
     "output_type": "stream",
     "text": [
      "\u001b[32m[I 2022-08-16 06:17:00,601]\u001b[0m Trial 149 finished with value: 6631.967136150235 and parameters: {'kErase': 1, 'kRadius': 2, 'kAnnealingA': 2.9804653039324607, 'kAnnealingB': 1.493342755507001, 'kAnnealingStart': 35.35243077864885, 'kSkipRatio': 0.5842506814144087, 'kTargetDeterminationTrials': 9, 'kAttractionRatio': 0.754790096347529, 'kMaxAttractionDistance': 61, 'kStartAttraction': 0.11983931720065452}. Best is trial 144 with value: 6689.215962441314.\u001b[0m\n"
     ]
    },
    {
     "name": "stdout",
     "output_type": "stream",
     "text": [
      "index_parallel='0151'\n"
     ]
    },
    {
     "name": "stderr",
     "output_type": "stream",
     "text": [
      "\u001b[32m[I 2022-08-16 06:21:03,111]\u001b[0m Trial 151 finished with value: 6558.5352112676055 and parameters: {'kErase': 1, 'kRadius': 2, 'kAnnealingA': 4.006014874908896, 'kAnnealingB': 1.7007454071027972, 'kAnnealingStart': 41.816072707033285, 'kSkipRatio': 0.6187842448212482, 'kTargetDeterminationTrials': 8, 'kAttractionRatio': 0.6106091923788138, 'kMaxAttractionDistance': 56, 'kStartAttraction': 0.08296422097782517}. Best is trial 144 with value: 6689.215962441314.\u001b[0m\n"
     ]
    },
    {
     "name": "stdout",
     "output_type": "stream",
     "text": [
      "index_parallel='0153'\n"
     ]
    },
    {
     "name": "stderr",
     "output_type": "stream",
     "text": [
      "\u001b[32m[I 2022-08-16 06:25:05,607]\u001b[0m Trial 153 finished with value: 6658.62441314554 and parameters: {'kErase': 1, 'kRadius': 2, 'kAnnealingA': 3.5009389737887644, 'kAnnealingB': 1.680318788537887, 'kAnnealingStart': 35.628571079968246, 'kSkipRatio': 0.6180226485065211, 'kTargetDeterminationTrials': 10, 'kAttractionRatio': 0.5318745489438601, 'kMaxAttractionDistance': 73, 'kStartAttraction': 0.0031255173052465216}. Best is trial 144 with value: 6689.215962441314.\u001b[0m\n"
     ]
    },
    {
     "name": "stdout",
     "output_type": "stream",
     "text": [
      "index_parallel='0155'\n"
     ]
    },
    {
     "name": "stderr",
     "output_type": "stream",
     "text": [
      "\u001b[32m[I 2022-08-16 06:29:08,267]\u001b[0m Trial 155 finished with value: 6670.615023474178 and parameters: {'kErase': 1, 'kRadius': 2, 'kAnnealingA': 2.073176714214816, 'kAnnealingB': 1.8210006890930206, 'kAnnealingStart': 36.34557205906683, 'kSkipRatio': 0.5936998801159609, 'kTargetDeterminationTrials': 7, 'kAttractionRatio': 0.5377663907555561, 'kMaxAttractionDistance': 80, 'kStartAttraction': 0.002177763255858103}. Best is trial 144 with value: 6689.215962441314.\u001b[0m\n"
     ]
    },
    {
     "name": "stdout",
     "output_type": "stream",
     "text": [
      "index_parallel='0157'\n"
     ]
    },
    {
     "name": "stderr",
     "output_type": "stream",
     "text": [
      "\u001b[32m[I 2022-08-16 06:33:10,708]\u001b[0m Trial 157 finished with value: 6583.680751173709 and parameters: {'kErase': 1, 'kRadius': 2, 'kAnnealingA': 2.99448978356237, 'kAnnealingB': 1.8166924283190067, 'kAnnealingStart': 40.82292871908779, 'kSkipRatio': 0.6070956233586573, 'kTargetDeterminationTrials': 7, 'kAttractionRatio': 0.566605170271636, 'kMaxAttractionDistance': 83, 'kStartAttraction': 0.002326008762193516}. Best is trial 144 with value: 6689.215962441314.\u001b[0m\n"
     ]
    },
    {
     "name": "stdout",
     "output_type": "stream",
     "text": [
      "index_parallel='0159'\n"
     ]
    },
    {
     "name": "stderr",
     "output_type": "stream",
     "text": [
      "\u001b[32m[I 2022-08-16 06:37:13,527]\u001b[0m Trial 159 finished with value: 6595.0610328638495 and parameters: {'kErase': 1, 'kRadius': 2, 'kAnnealingA': 2.121852341369375, 'kAnnealingB': 1.7498725473196575, 'kAnnealingStart': 48.49001658044971, 'kSkipRatio': 0.619661075277696, 'kTargetDeterminationTrials': 9, 'kAttractionRatio': 0.6434977013258876, 'kMaxAttractionDistance': 99, 'kStartAttraction': 0.0016915541878155384}. Best is trial 144 with value: 6689.215962441314.\u001b[0m\n"
     ]
    },
    {
     "name": "stdout",
     "output_type": "stream",
     "text": [
      "index_parallel='0161'\n"
     ]
    },
    {
     "name": "stderr",
     "output_type": "stream",
     "text": [
      "\u001b[32m[I 2022-08-16 06:41:16,638]\u001b[0m Trial 161 finished with value: 6561.159624413145 and parameters: {'kErase': 3, 'kRadius': 2, 'kAnnealingA': 3.4656804380292576, 'kAnnealingB': 1.9815065219889796, 'kAnnealingStart': 34.01024493310037, 'kSkipRatio': 0.5874291929430573, 'kTargetDeterminationTrials': 8, 'kAttractionRatio': 0.8483157330650017, 'kMaxAttractionDistance': 71, 'kStartAttraction': 0.07200031531826726}. Best is trial 144 with value: 6689.215962441314.\u001b[0m\n"
     ]
    },
    {
     "name": "stdout",
     "output_type": "stream",
     "text": [
      "index_parallel='0163'\n"
     ]
    },
    {
     "name": "stderr",
     "output_type": "stream",
     "text": [
      "\u001b[32m[I 2022-08-16 06:45:19,317]\u001b[0m Trial 163 finished with value: 6669.849765258216 and parameters: {'kErase': 1, 'kRadius': 2, 'kAnnealingA': 2.8889249483612103, 'kAnnealingB': 1.6255716067283712, 'kAnnealingStart': 37.98548020793217, 'kSkipRatio': 0.6410500403157536, 'kTargetDeterminationTrials': 7, 'kAttractionRatio': 0.4661405110548339, 'kMaxAttractionDistance': 77, 'kStartAttraction': 0.0017979534191186217}. Best is trial 144 with value: 6689.215962441314.\u001b[0m\n"
     ]
    },
    {
     "name": "stdout",
     "output_type": "stream",
     "text": [
      "index_parallel='0165'\n"
     ]
    },
    {
     "name": "stderr",
     "output_type": "stream",
     "text": [
      "\u001b[32m[I 2022-08-16 06:49:21,850]\u001b[0m Trial 165 finished with value: 6637.516431924882 and parameters: {'kErase': 1, 'kRadius': 2, 'kAnnealingA': 2.6799830139762526, 'kAnnealingB': 1.918864390851561, 'kAnnealingStart': 36.69688283735312, 'kSkipRatio': 0.631980605735134, 'kTargetDeterminationTrials': 7, 'kAttractionRatio': 0.5273152759863808, 'kMaxAttractionDistance': 79, 'kStartAttraction': 0.0011716097420090676}. Best is trial 144 with value: 6689.215962441314.\u001b[0m\n"
     ]
    },
    {
     "name": "stdout",
     "output_type": "stream",
     "text": [
      "index_parallel='0167'\n"
     ]
    },
    {
     "name": "stderr",
     "output_type": "stream",
     "text": [
      "\u001b[32m[I 2022-08-16 06:53:24,816]\u001b[0m Trial 167 finished with value: 6586.943661971831 and parameters: {'kErase': 1, 'kRadius': 2, 'kAnnealingA': 2.9602506624932277, 'kAnnealingB': 2.0743085507909256, 'kAnnealingStart': 38.774418949937946, 'kSkipRatio': 0.5707780583902383, 'kTargetDeterminationTrials': 10, 'kAttractionRatio': 0.461615661944709, 'kMaxAttractionDistance': 72, 'kStartAttraction': 0.0020806738959785083}. Best is trial 144 with value: 6689.215962441314.\u001b[0m\n"
     ]
    },
    {
     "name": "stdout",
     "output_type": "stream",
     "text": [
      "index_parallel='0169'\n"
     ]
    },
    {
     "name": "stderr",
     "output_type": "stream",
     "text": [
      "\u001b[32m[I 2022-08-16 06:57:27,483]\u001b[0m Trial 169 finished with value: 6624.643192488263 and parameters: {'kErase': 1, 'kRadius': 2, 'kAnnealingA': 4.468741770534065, 'kAnnealingB': 2.085123863687166, 'kAnnealingStart': 30.513811209120888, 'kSkipRatio': 0.5499444861691293, 'kTargetDeterminationTrials': 7, 'kAttractionRatio': 0.5177391927645515, 'kMaxAttractionDistance': 80, 'kStartAttraction': 0.0014623169702144734}. Best is trial 144 with value: 6689.215962441314.\u001b[0m\n"
     ]
    },
    {
     "name": "stdout",
     "output_type": "stream",
     "text": [
      "index_parallel='0171'\n"
     ]
    },
    {
     "name": "stderr",
     "output_type": "stream",
     "text": [
      "\u001b[32m[I 2022-08-16 07:01:29,890]\u001b[0m Trial 171 finished with value: 6585.183098591549 and parameters: {'kErase': 1, 'kRadius': 2, 'kAnnealingA': 3.4487598509571495, 'kAnnealingB': 1.9137430563130566, 'kAnnealingStart': 44.841144271340085, 'kSkipRatio': 0.5830153261248848, 'kTargetDeterminationTrials': 8, 'kAttractionRatio': 0.5815159058644693, 'kMaxAttractionDistance': 92, 'kStartAttraction': 0.0018025116045832837}. Best is trial 144 with value: 6689.215962441314.\u001b[0m\n"
     ]
    },
    {
     "name": "stdout",
     "output_type": "stream",
     "text": [
      "index_parallel='0173'\n"
     ]
    },
    {
     "name": "stderr",
     "output_type": "stream",
     "text": [
      "\u001b[32m[I 2022-08-16 07:05:32,406]\u001b[0m Trial 173 finished with value: 6675.920187793427 and parameters: {'kErase': 1, 'kRadius': 2, 'kAnnealingA': 1.960678477152674, 'kAnnealingB': 1.794663704493202, 'kAnnealingStart': 31.413471017894018, 'kSkipRatio': 0.5915308155954371, 'kTargetDeterminationTrials': 6, 'kAttractionRatio': 0.7197718813694562, 'kMaxAttractionDistance': 88, 'kStartAttraction': 0.002689934699186049}. Best is trial 144 with value: 6689.215962441314.\u001b[0m\n"
     ]
    },
    {
     "name": "stdout",
     "output_type": "stream",
     "text": [
      "index_parallel='0175'\n"
     ]
    },
    {
     "name": "stderr",
     "output_type": "stream",
     "text": [
      "\u001b[32m[I 2022-08-16 07:09:35,248]\u001b[0m Trial 175 finished with value: 6669.929577464789 and parameters: {'kErase': 1, 'kRadius': 2, 'kAnnealingA': 2.2508372769583813, 'kAnnealingB': 1.8179057712870699, 'kAnnealingStart': 31.589290932060024, 'kSkipRatio': 0.5958582628932871, 'kTargetDeterminationTrials': 7, 'kAttractionRatio': 0.7185054935965937, 'kMaxAttractionDistance': 90, 'kStartAttraction': 0.0026787993488577547}. Best is trial 144 with value: 6689.215962441314.\u001b[0m\n"
     ]
    },
    {
     "name": "stdout",
     "output_type": "stream",
     "text": [
      "index_parallel='0177'\n"
     ]
    },
    {
     "name": "stderr",
     "output_type": "stream",
     "text": [
      "\u001b[32m[I 2022-08-16 07:13:37,799]\u001b[0m Trial 177 finished with value: 6636.600938967136 and parameters: {'kErase': 1, 'kRadius': 2, 'kAnnealingA': 2.196402136934009, 'kAnnealingB': 1.9777395310854675, 'kAnnealingStart': 30.499690418090335, 'kSkipRatio': 0.590551611376437, 'kTargetDeterminationTrials': 7, 'kAttractionRatio': 0.8509546891855995, 'kMaxAttractionDistance': 90, 'kStartAttraction': 0.002625828102508364}. Best is trial 144 with value: 6689.215962441314.\u001b[0m\n"
     ]
    },
    {
     "name": "stdout",
     "output_type": "stream",
     "text": [
      "index_parallel='0179'\n"
     ]
    },
    {
     "name": "stderr",
     "output_type": "stream",
     "text": [
      "\u001b[32m[I 2022-08-16 07:17:40,189]\u001b[0m Trial 179 finished with value: 6667.910798122066 and parameters: {'kErase': 1, 'kRadius': 2, 'kAnnealingA': 1.7835907159184943, 'kAnnealingB': 1.80448834702064, 'kAnnealingStart': 32.99027567814633, 'kSkipRatio': 0.5967588450296964, 'kTargetDeterminationTrials': 6, 'kAttractionRatio': 0.7735578818084029, 'kMaxAttractionDistance': 89, 'kStartAttraction': 0.0032866529063704675}. Best is trial 144 with value: 6689.215962441314.\u001b[0m\n"
     ]
    },
    {
     "name": "stdout",
     "output_type": "stream",
     "text": [
      "index_parallel='0181'\n"
     ]
    },
    {
     "name": "stderr",
     "output_type": "stream",
     "text": [
      "\u001b[32m[I 2022-08-16 07:21:42,849]\u001b[0m Trial 181 finished with value: 6572.882629107981 and parameters: {'kErase': 1, 'kRadius': 2, 'kAnnealingA': 4.0213840697656735, 'kAnnealingB': 2.224709573857033, 'kAnnealingStart': 41.11858506769237, 'kSkipRatio': 0.5972413167945797, 'kTargetDeterminationTrials': 6, 'kAttractionRatio': 0.7676977215616134, 'kMaxAttractionDistance': 71, 'kStartAttraction': 0.0034556564205051902}. Best is trial 144 with value: 6689.215962441314.\u001b[0m\n"
     ]
    },
    {
     "name": "stdout",
     "output_type": "stream",
     "text": [
      "index_parallel='0183'\n"
     ]
    },
    {
     "name": "stderr",
     "output_type": "stream",
     "text": [
      "\u001b[32m[I 2022-08-16 07:25:46,110]\u001b[0m Trial 183 finished with value: 6679.723004694835 and parameters: {'kErase': 1, 'kRadius': 2, 'kAnnealingA': 2.458265526939735, 'kAnnealingB': 1.7884796035335755, 'kAnnealingStart': 32.98483653097756, 'kSkipRatio': 0.5711776447769331, 'kTargetDeterminationTrials': 5, 'kAttractionRatio': 0.736095575472471, 'kMaxAttractionDistance': 96, 'kStartAttraction': 0.0015623338624534916}. Best is trial 144 with value: 6689.215962441314.\u001b[0m\n"
     ]
    },
    {
     "name": "stdout",
     "output_type": "stream",
     "text": [
      "index_parallel='0185'\n"
     ]
    },
    {
     "name": "stderr",
     "output_type": "stream",
     "text": [
      "\u001b[32m[I 2022-08-16 07:29:48,668]\u001b[0m Trial 185 finished with value: 6638.840375586855 and parameters: {'kErase': 1, 'kRadius': 2, 'kAnnealingA': 2.526948446223757, 'kAnnealingB': 1.7474332343223469, 'kAnnealingStart': 37.631378966179426, 'kSkipRatio': 0.539554957010484, 'kTargetDeterminationTrials': 5, 'kAttractionRatio': 0.8879124404818833, 'kMaxAttractionDistance': 83, 'kStartAttraction': 0.0015155910942085903}. Best is trial 144 with value: 6689.215962441314.\u001b[0m\n"
     ]
    },
    {
     "name": "stdout",
     "output_type": "stream",
     "text": [
      "index_parallel='0187'\n"
     ]
    },
    {
     "name": "stderr",
     "output_type": "stream",
     "text": [
      "\u001b[32m[I 2022-08-16 07:33:51,041]\u001b[0m Trial 187 finished with value: 6665.56338028169 and parameters: {'kErase': 1, 'kRadius': 2, 'kAnnealingA': 3.5161844705681307, 'kAnnealingB': 2.010314504488325, 'kAnnealingStart': 29.861557240310926, 'kSkipRatio': 0.6087876380097113, 'kTargetDeterminationTrials': 6, 'kAttractionRatio': 0.7086691257489947, 'kMaxAttractionDistance': 77, 'kStartAttraction': 0.002423975946174688}. Best is trial 144 with value: 6689.215962441314.\u001b[0m\n"
     ]
    },
    {
     "name": "stdout",
     "output_type": "stream",
     "text": [
      "index_parallel='0189'\n"
     ]
    },
    {
     "name": "stderr",
     "output_type": "stream",
     "text": [
      "\u001b[32m[I 2022-08-16 07:37:53,365]\u001b[0m Trial 189 finished with value: 6686.18779342723 and parameters: {'kErase': 1, 'kRadius': 2, 'kAnnealingA': 3.262711466847995, 'kAnnealingB': 2.1338534885747324, 'kAnnealingStart': 33.125642999014985, 'kSkipRatio': 0.5592491473834557, 'kTargetDeterminationTrials': 6, 'kAttractionRatio': 0.7085402416487493, 'kMaxAttractionDistance': 78, 'kStartAttraction': 0.00244508437507977}. Best is trial 144 with value: 6689.215962441314.\u001b[0m\n"
     ]
    },
    {
     "name": "stdout",
     "output_type": "stream",
     "text": [
      "index_parallel='0191'\n"
     ]
    },
    {
     "name": "stderr",
     "output_type": "stream",
     "text": [
      "\u001b[32m[I 2022-08-16 07:41:55,940]\u001b[0m Trial 191 finished with value: 6639.694835680752 and parameters: {'kErase': 1, 'kRadius': 2, 'kAnnealingA': 3.685054579230321, 'kAnnealingB': 2.153381752852251, 'kAnnealingStart': 29.770386946441782, 'kSkipRatio': 0.5570089789456616, 'kTargetDeterminationTrials': 5, 'kAttractionRatio': 0.8126767850543559, 'kMaxAttractionDistance': 76, 'kStartAttraction': 0.0019858028479716535}. Best is trial 144 with value: 6689.215962441314.\u001b[0m\n"
     ]
    },
    {
     "name": "stdout",
     "output_type": "stream",
     "text": [
      "index_parallel='0193'\n"
     ]
    },
    {
     "name": "stderr",
     "output_type": "stream",
     "text": [
      "\u001b[32m[I 2022-08-16 07:45:58,629]\u001b[0m Trial 193 finished with value: 6599.920187793427 and parameters: {'kErase': 1, 'kRadius': 2, 'kAnnealingA': 3.0688532075733392, 'kAnnealingB': 2.2602230881494174, 'kAnnealingStart': 31.943083555463684, 'kSkipRatio': 0.5987279991454483, 'kTargetDeterminationTrials': 6, 'kAttractionRatio': 0.7182504978934204, 'kMaxAttractionDistance': 90, 'kStartAttraction': 0.0017271197356265922}. Best is trial 144 with value: 6689.215962441314.\u001b[0m\n"
     ]
    },
    {
     "name": "stdout",
     "output_type": "stream",
     "text": [
      "index_parallel='0195'\n"
     ]
    },
    {
     "name": "stderr",
     "output_type": "stream",
     "text": [
      "\u001b[32m[I 2022-08-16 07:50:01,124]\u001b[0m Trial 195 finished with value: 6687.652582159624 and parameters: {'kErase': 1, 'kRadius': 2, 'kAnnealingA': 2.3426172863771297, 'kAnnealingB': 1.7211172812954065, 'kAnnealingStart': 34.40823756806859, 'kSkipRatio': 0.5622146305295229, 'kTargetDeterminationTrials': 7, 'kAttractionRatio': 0.640260154941288, 'kMaxAttractionDistance': 82, 'kStartAttraction': 0.002258535146749558}. Best is trial 144 with value: 6689.215962441314.\u001b[0m\n"
     ]
    },
    {
     "name": "stdout",
     "output_type": "stream",
     "text": [
      "index_parallel='0197'\n"
     ]
    },
    {
     "name": "stderr",
     "output_type": "stream",
     "text": [
      "\u001b[32m[I 2022-08-16 07:54:03,407]\u001b[0m Trial 197 finished with value: 6556.69014084507 and parameters: {'kErase': 1, 'kRadius': 2, 'kAnnealingA': 5.227519858330303, 'kAnnealingB': 1.7775053110536772, 'kAnnealingStart': 37.43834338399481, 'kSkipRatio': 0.563700798059847, 'kTargetDeterminationTrials': 7, 'kAttractionRatio': 0.6202895450946323, 'kMaxAttractionDistance': 81, 'kStartAttraction': 0.0024768796695893666}. Best is trial 144 with value: 6689.215962441314.\u001b[0m\n"
     ]
    },
    {
     "name": "stdout",
     "output_type": "stream",
     "text": [
      "index_parallel='0199'\n"
     ]
    },
    {
     "name": "stderr",
     "output_type": "stream",
     "text": [
      "\u001b[32m[I 2022-08-16 07:58:06,682]\u001b[0m Trial 199 finished with value: 6589.910798122066 and parameters: {'kErase': 1, 'kRadius': 2, 'kAnnealingA': 3.190784418565307, 'kAnnealingB': 1.6449295730676596, 'kAnnealingStart': 43.2944283141792, 'kSkipRatio': 0.5799675167725526, 'kTargetDeterminationTrials': 7, 'kAttractionRatio': 0.7890229293232455, 'kMaxAttractionDistance': 87, 'kStartAttraction': 0.0021352197505951037}. Best is trial 144 with value: 6689.215962441314.\u001b[0m\n"
     ]
    },
    {
     "name": "stdout",
     "output_type": "stream",
     "text": [
      "index_parallel='0201'\n"
     ]
    },
    {
     "name": "stderr",
     "output_type": "stream",
     "text": [
      "\u001b[32m[I 2022-08-16 08:02:09,462]\u001b[0m Trial 201 finished with value: 6648.00469483568 and parameters: {'kErase': 1, 'kRadius': 2, 'kAnnealingA': 4.081775926512206, 'kAnnealingB': 1.8428573674437756, 'kAnnealingStart': 33.02126833567153, 'kSkipRatio': 0.6395911207287448, 'kTargetDeterminationTrials': 8, 'kAttractionRatio': 0.636132051839715, 'kMaxAttractionDistance': 76, 'kStartAttraction': 0.0016882491381934954}. Best is trial 144 with value: 6689.215962441314.\u001b[0m\n"
     ]
    },
    {
     "name": "stdout",
     "output_type": "stream",
     "text": [
      "index_parallel='0203'\n"
     ]
    },
    {
     "name": "stderr",
     "output_type": "stream",
     "text": [
      "\u001b[32m[I 2022-08-16 08:06:12,566]\u001b[0m Trial 203 finished with value: 6663.605633802817 and parameters: {'kErase': 1, 'kRadius': 2, 'kAnnealingA': 2.4068205398046265, 'kAnnealingB': 1.8793019440707814, 'kAnnealingStart': 28.764328150323124, 'kSkipRatio': 0.5884859529343293, 'kTargetDeterminationTrials': 8, 'kAttractionRatio': 0.7135544874232448, 'kMaxAttractionDistance': 69, 'kStartAttraction': 0.002107060168873315}. Best is trial 144 with value: 6689.215962441314.\u001b[0m\n"
     ]
    },
    {
     "name": "stdout",
     "output_type": "stream",
     "text": [
      "index_parallel='0205'\n"
     ]
    },
    {
     "name": "stderr",
     "output_type": "stream",
     "text": [
      "\u001b[32m[I 2022-08-16 08:10:15,239]\u001b[0m Trial 205 finished with value: 6647.629107981221 and parameters: {'kErase': 1, 'kRadius': 2, 'kAnnealingA': 1.5006633549058077, 'kAnnealingB': 1.9487309949271507, 'kAnnealingStart': 38.65746332249856, 'kSkipRatio': 0.6082111610705762, 'kTargetDeterminationTrials': 8, 'kAttractionRatio': 0.7190805811515601, 'kMaxAttractionDistance': 68, 'kStartAttraction': 0.0010572149749060642}. Best is trial 144 with value: 6689.215962441314.\u001b[0m\n"
     ]
    },
    {
     "name": "stdout",
     "output_type": "stream",
     "text": [
      "index_parallel='0207'\n"
     ]
    },
    {
     "name": "stderr",
     "output_type": "stream",
     "text": [
      "\u001b[32m[I 2022-08-16 08:14:18,141]\u001b[0m Trial 207 finished with value: 6621.014084507042 and parameters: {'kErase': 1, 'kRadius': 2, 'kAnnealingA': 2.187751855028724, 'kAnnealingB': 1.6908268850900525, 'kAnnealingStart': 35.98411971174576, 'kSkipRatio': 0.6310824548338115, 'kTargetDeterminationTrials': 9, 'kAttractionRatio': 0.7534736010528376, 'kMaxAttractionDistance': 94, 'kStartAttraction': 0.044652000087334956}. Best is trial 144 with value: 6689.215962441314.\u001b[0m\n"
     ]
    },
    {
     "name": "stdout",
     "output_type": "stream",
     "text": [
      "index_parallel='0209'\n"
     ]
    },
    {
     "name": "stderr",
     "output_type": "stream",
     "text": [
      "\u001b[32m[I 2022-08-16 08:18:21,216]\u001b[0m Trial 209 finished with value: 6648.694835680752 and parameters: {'kErase': 1, 'kRadius': 2, 'kAnnealingA': 2.465618199527828, 'kAnnealingB': 2.110855582540621, 'kAnnealingStart': 29.48904048608053, 'kSkipRatio': 0.5758565749124569, 'kTargetDeterminationTrials': 8, 'kAttractionRatio': 0.5732116298414135, 'kMaxAttractionDistance': 86, 'kStartAttraction': 0.05959703252682455}. Best is trial 144 with value: 6689.215962441314.\u001b[0m\n"
     ]
    },
    {
     "name": "stdout",
     "output_type": "stream",
     "text": [
      "index_parallel='0211'\n"
     ]
    },
    {
     "name": "stderr",
     "output_type": "stream",
     "text": [
      "\u001b[32m[I 2022-08-16 08:22:23,624]\u001b[0m Trial 211 finished with value: 6607.568075117371 and parameters: {'kErase': 1, 'kRadius': 2, 'kAnnealingA': 2.8819840496395503, 'kAnnealingB': 1.797156044547577, 'kAnnealingStart': 25.85292378628306, 'kSkipRatio': 0.5915845522524366, 'kTargetDeterminationTrials': 10, 'kAttractionRatio': 0.835912901672039, 'kMaxAttractionDistance': 74, 'kStartAttraction': 0.001948592669536756}. Best is trial 144 with value: 6689.215962441314.\u001b[0m\n"
     ]
    },
    {
     "name": "stdout",
     "output_type": "stream",
     "text": [
      "index_parallel='0213'\n"
     ]
    },
    {
     "name": "stderr",
     "output_type": "stream",
     "text": [
      "\u001b[32m[I 2022-08-16 08:26:25,999]\u001b[0m Trial 213 finished with value: 6618.69014084507 and parameters: {'kErase': 1, 'kRadius': 2, 'kAnnealingA': 1.7634787092182482, 'kAnnealingB': 1.8965883618341977, 'kAnnealingStart': 32.72130246595392, 'kSkipRatio': 0.6011849202629852, 'kTargetDeterminationTrials': 6, 'kAttractionRatio': 0.6751462419739636, 'kMaxAttractionDistance': 80, 'kStartAttraction': 0.002913413123986628}. Best is trial 144 with value: 6689.215962441314.\u001b[0m\n"
     ]
    },
    {
     "name": "stdout",
     "output_type": "stream",
     "text": [
      "index_parallel='0215'\n"
     ]
    },
    {
     "name": "stderr",
     "output_type": "stream",
     "text": [
      "\u001b[32m[I 2022-08-16 08:30:29,436]\u001b[0m Trial 215 finished with value: 6164.553990610329 and parameters: {'kErase': 5, 'kRadius': 2, 'kAnnealingA': 1.3060154681695537, 'kAnnealingB': 1.627304491983621, 'kAnnealingStart': 34.942417599343166, 'kSkipRatio': 0.5563082922416797, 'kTargetDeterminationTrials': 7, 'kAttractionRatio': 0.02734620625530144, 'kMaxAttractionDistance': 72, 'kStartAttraction': 0.002597306532383126}. Best is trial 144 with value: 6689.215962441314.\u001b[0m\n"
     ]
    },
    {
     "name": "stdout",
     "output_type": "stream",
     "text": [
      "index_parallel='0217'\n"
     ]
    },
    {
     "name": "stderr",
     "output_type": "stream",
     "text": [
      "\u001b[32m[I 2022-08-16 08:34:32,050]\u001b[0m Trial 217 finished with value: 6305.070422535211 and parameters: {'kErase': 1, 'kRadius': 2, 'kAnnealingA': 3.409806333065927, 'kAnnealingB': 1.8019639130478717, 'kAnnealingStart': 5.874188921306081, 'kSkipRatio': 0.5919357143339407, 'kTargetDeterminationTrials': 9, 'kAttractionRatio': 0.5411467694348441, 'kMaxAttractionDistance': 90, 'kStartAttraction': 0.0016426343043973522}. Best is trial 144 with value: 6689.215962441314.\u001b[0m\n"
     ]
    },
    {
     "name": "stdout",
     "output_type": "stream",
     "text": [
      "index_parallel='0219'\n"
     ]
    },
    {
     "name": "stderr",
     "output_type": "stream",
     "text": [
      "\u001b[32m[I 2022-08-16 08:38:34,787]\u001b[0m Trial 219 finished with value: 6616.037558685446 and parameters: {'kErase': 1, 'kRadius': 2, 'kAnnealingA': 3.5699934466258356, 'kAnnealingB': 1.967863503406399, 'kAnnealingStart': 30.337887691679242, 'kSkipRatio': 0.6173137512241803, 'kTargetDeterminationTrials': 7, 'kAttractionRatio': 0.17912117703950134, 'kMaxAttractionDistance': 69, 'kStartAttraction': 0.002139772590838686}. Best is trial 144 with value: 6689.215962441314.\u001b[0m\n"
     ]
    },
    {
     "name": "stdout",
     "output_type": "stream",
     "text": [
      "index_parallel='0221'\n"
     ]
    },
    {
     "name": "stderr",
     "output_type": "stream",
     "text": [
      "\u001b[32m[I 2022-08-16 08:42:37,721]\u001b[0m Trial 221 finished with value: 6647.521126760564 and parameters: {'kErase': 1, 'kRadius': 2, 'kAnnealingA': 0.5458878016603441, 'kAnnealingB': 2.030799312558879, 'kAnnealingStart': 28.209055374859293, 'kSkipRatio': 0.5727515195231203, 'kTargetDeterminationTrials': 6, 'kAttractionRatio': 0.8983326633710742, 'kMaxAttractionDistance': 76, 'kStartAttraction': 0.001303902395679293}. Best is trial 144 with value: 6689.215962441314.\u001b[0m\n"
     ]
    },
    {
     "name": "stdout",
     "output_type": "stream",
     "text": [
      "index_parallel='0223'\n"
     ]
    },
    {
     "name": "stderr",
     "output_type": "stream",
     "text": [
      "\u001b[32m[I 2022-08-16 08:46:40,222]\u001b[0m Trial 223 finished with value: 6635.591549295775 and parameters: {'kErase': 1, 'kRadius': 2, 'kAnnealingA': 2.6144461179110223, 'kAnnealingB': 1.7456614997877913, 'kAnnealingStart': 35.97782650287444, 'kSkipRatio': 0.5986239779316379, 'kTargetDeterminationTrials': 8, 'kAttractionRatio': 0.542350543744221, 'kMaxAttractionDistance': 83, 'kStartAttraction': 0.0018930271847773495}. Best is trial 144 with value: 6689.215962441314.\u001b[0m\n"
     ]
    },
    {
     "name": "stdout",
     "output_type": "stream",
     "text": [
      "index_parallel='0225'\n"
     ]
    },
    {
     "name": "stderr",
     "output_type": "stream",
     "text": [
      "\u001b[32m[I 2022-08-16 08:50:43,406]\u001b[0m Trial 225 finished with value: 6690.215962441314 and parameters: {'kErase': 1, 'kRadius': 2, 'kAnnealingA': 2.0558206195855337, 'kAnnealingB': 1.6115526214387064, 'kAnnealingStart': 33.0118609429946, 'kSkipRatio': 0.5554346215382364, 'kTargetDeterminationTrials': 8, 'kAttractionRatio': 0.6599353534391429, 'kMaxAttractionDistance': 64, 'kStartAttraction': 0.001621376609842549}. Best is trial 225 with value: 6690.215962441314.\u001b[0m\n"
     ]
    },
    {
     "name": "stdout",
     "output_type": "stream",
     "text": [
      "Updated! 6690.215962441314\n",
      "index_parallel='0227'\n"
     ]
    },
    {
     "name": "stderr",
     "output_type": "stream",
     "text": [
      "\u001b[32m[I 2022-08-16 08:54:46,714]\u001b[0m Trial 227 finished with value: 6695.840375586855 and parameters: {'kErase': 1, 'kRadius': 2, 'kAnnealingA': 1.2738622371290367, 'kAnnealingB': 1.6552921630737858, 'kAnnealingStart': 40.694646724856256, 'kSkipRatio': 0.5431626325813727, 'kTargetDeterminationTrials': 8, 'kAttractionRatio': 0.6065903075248422, 'kMaxAttractionDistance': 65, 'kStartAttraction': 0.001505397587350384}. Best is trial 227 with value: 6695.840375586855.\u001b[0m\n"
     ]
    },
    {
     "name": "stdout",
     "output_type": "stream",
     "text": [
      "Updated! 6695.840375586855\n",
      "index_parallel='0229'\n"
     ]
    },
    {
     "name": "stderr",
     "output_type": "stream",
     "text": [
      "\u001b[32m[I 2022-08-16 08:58:49,494]\u001b[0m Trial 229 finished with value: 6680.394366197183 and parameters: {'kErase': 1, 'kRadius': 2, 'kAnnealingA': 1.118657346187645, 'kAnnealingB': 1.627210597759055, 'kAnnealingStart': 40.822128897872226, 'kSkipRatio': 0.5427971096576768, 'kTargetDeterminationTrials': 8, 'kAttractionRatio': 0.5907335971792976, 'kMaxAttractionDistance': 67, 'kStartAttraction': 0.0010137742281620535}. Best is trial 227 with value: 6695.840375586855.\u001b[0m\n"
     ]
    },
    {
     "name": "stdout",
     "output_type": "stream",
     "text": [
      "index_parallel='0231'\n"
     ]
    },
    {
     "name": "stderr",
     "output_type": "stream",
     "text": [
      "\u001b[32m[I 2022-08-16 09:02:52,070]\u001b[0m Trial 231 finished with value: 6624.643192488263 and parameters: {'kErase': 1, 'kRadius': 2, 'kAnnealingA': 1.0993397488649552, 'kAnnealingB': 1.6204297171694853, 'kAnnealingStart': 45.62285677937233, 'kSkipRatio': 0.5169503425230375, 'kTargetDeterminationTrials': 8, 'kAttractionRatio': 0.5994671404604064, 'kMaxAttractionDistance': 62, 'kStartAttraction': 0.0010042361843535892}. Best is trial 227 with value: 6695.840375586855.\u001b[0m\n"
     ]
    },
    {
     "name": "stdout",
     "output_type": "stream",
     "text": [
      "index_parallel='0233'\n"
     ]
    },
    {
     "name": "stderr",
     "output_type": "stream",
     "text": [
      "\u001b[32m[I 2022-08-16 09:06:55,472]\u001b[0m Trial 233 finished with value: 6673.957746478874 and parameters: {'kErase': 1, 'kRadius': 2, 'kAnnealingA': 1.143334743961295, 'kAnnealingB': 1.6492687239716444, 'kAnnealingStart': 49.341406620425275, 'kSkipRatio': 0.5424725034214792, 'kTargetDeterminationTrials': 8, 'kAttractionRatio': 0.6062519254238882, 'kMaxAttractionDistance': 68, 'kStartAttraction': 0.0015200557737582603}. Best is trial 227 with value: 6695.840375586855.\u001b[0m\n"
     ]
    },
    {
     "name": "stdout",
     "output_type": "stream",
     "text": [
      "index_parallel='0235'\n"
     ]
    },
    {
     "name": "stderr",
     "output_type": "stream",
     "text": [
      "\u001b[32m[I 2022-08-16 09:10:58,172]\u001b[0m Trial 235 finished with value: 6605.521126760564 and parameters: {'kErase': 1, 'kRadius': 2, 'kAnnealingA': 0.4940498432386604, 'kAnnealingB': 1.6617416819039237, 'kAnnealingStart': 56.35960693916424, 'kSkipRatio': 0.5400392116538036, 'kTargetDeterminationTrials': 8, 'kAttractionRatio': 0.5760140335688922, 'kMaxAttractionDistance': 65, 'kStartAttraction': 0.0011760147263311796}. Best is trial 227 with value: 6695.840375586855.\u001b[0m\n"
     ]
    },
    {
     "name": "stdout",
     "output_type": "stream",
     "text": [
      "index_parallel='0237'\n"
     ]
    },
    {
     "name": "stderr",
     "output_type": "stream",
     "text": [
      "\u001b[32m[I 2022-08-16 09:15:00,811]\u001b[0m Trial 237 finished with value: 6593.615023474178 and parameters: {'kErase': 1, 'kRadius': 2, 'kAnnealingA': 1.2307177428830454, 'kAnnealingB': 1.6523772422872252, 'kAnnealingStart': 51.41084896704795, 'kSkipRatio': 0.5333071854925798, 'kTargetDeterminationTrials': 9, 'kAttractionRatio': 0.5854196590890568, 'kMaxAttractionDistance': 64, 'kStartAttraction': 0.001393006514717381}. Best is trial 227 with value: 6695.840375586855.\u001b[0m\n"
     ]
    },
    {
     "name": "stdout",
     "output_type": "stream",
     "text": [
      "index_parallel='0239'\n"
     ]
    },
    {
     "name": "stderr",
     "output_type": "stream",
     "text": [
      "\u001b[32m[I 2022-08-16 09:19:03,492]\u001b[0m Trial 239 finished with value: 6569.530516431925 and parameters: {'kErase': 1, 'kRadius': 2, 'kAnnealingA': 2.051501909930116, 'kAnnealingB': 1.725795220714393, 'kAnnealingStart': 49.33681647519314, 'kSkipRatio': 0.5459470635157533, 'kTargetDeterminationTrials': 7, 'kAttractionRatio': 0.4712177443610654, 'kMaxAttractionDistance': 70, 'kStartAttraction': 0.0016097310490211405}. Best is trial 227 with value: 6695.840375586855.\u001b[0m\n"
     ]
    },
    {
     "name": "stdout",
     "output_type": "stream",
     "text": [
      "index_parallel='0241'\n"
     ]
    },
    {
     "name": "stderr",
     "output_type": "stream",
     "text": [
      "\u001b[32m[I 2022-08-16 09:23:06,497]\u001b[0m Trial 241 finished with value: 6645.643192488263 and parameters: {'kErase': 1, 'kRadius': 2, 'kAnnealingA': 1.3888546511662143, 'kAnnealingB': 1.5769618848282454, 'kAnnealingStart': 41.29100973712298, 'kSkipRatio': 0.5571401823680475, 'kTargetDeterminationTrials': 8, 'kAttractionRatio': 0.6751835644146207, 'kMaxAttractionDistance': 58, 'kStartAttraction': 0.0012612634746775966}. Best is trial 227 with value: 6695.840375586855.\u001b[0m\n"
     ]
    },
    {
     "name": "stdout",
     "output_type": "stream",
     "text": [
      "index_parallel='0243'\n"
     ]
    },
    {
     "name": "stderr",
     "output_type": "stream",
     "text": [
      "\u001b[32m[I 2022-08-16 09:27:09,271]\u001b[0m Trial 243 finished with value: 6543.896713615023 and parameters: {'kErase': 1, 'kRadius': 2, 'kAnnealingA': 1.691539622331888, 'kAnnealingB': 1.7469919255602073, 'kAnnealingStart': 60.779303051432635, 'kSkipRatio': 0.5497575547846656, 'kTargetDeterminationTrials': 7, 'kAttractionRatio': 0.7020473939757905, 'kMaxAttractionDistance': 73, 'kStartAttraction': 0.0020733657667276863}. Best is trial 227 with value: 6695.840375586855.\u001b[0m\n"
     ]
    },
    {
     "name": "stdout",
     "output_type": "stream",
     "text": [
      "index_parallel='0245'\n"
     ]
    },
    {
     "name": "stderr",
     "output_type": "stream",
     "text": [
      "\u001b[32m[I 2022-08-16 09:31:12,409]\u001b[0m Trial 245 finished with value: 6644.882629107981 and parameters: {'kErase': 1, 'kRadius': 2, 'kAnnealingA': 0.32068345175857416, 'kAnnealingB': 1.8457898319514847, 'kAnnealingStart': 42.359239341731055, 'kSkipRatio': 0.5728901914908093, 'kTargetDeterminationTrials': 8, 'kAttractionRatio': 0.6285191760089299, 'kMaxAttractionDistance': 78, 'kStartAttraction': 0.0015734546210312713}. Best is trial 227 with value: 6695.840375586855.\u001b[0m\n"
     ]
    },
    {
     "name": "stdout",
     "output_type": "stream",
     "text": [
      "index_parallel='0247'\n"
     ]
    },
    {
     "name": "stderr",
     "output_type": "stream",
     "text": [
      "\u001b[32m[I 2022-08-16 09:35:15,337]\u001b[0m Trial 247 finished with value: 6611.920187793427 and parameters: {'kErase': 1, 'kRadius': 2, 'kAnnealingA': 2.310724805925722, 'kAnnealingB': 1.6733983305048676, 'kAnnealingStart': 32.34114327420859, 'kSkipRatio': 0.5244267130053935, 'kTargetDeterminationTrials': 9, 'kAttractionRatio': 0.5449436146696645, 'kMaxAttractionDistance': 68, 'kStartAttraction': 0.0018039995148362389}. Best is trial 227 with value: 6695.840375586855.\u001b[0m\n"
     ]
    },
    {
     "name": "stdout",
     "output_type": "stream",
     "text": [
      "index_parallel='0249'\n"
     ]
    },
    {
     "name": "stderr",
     "output_type": "stream",
     "text": [
      "\u001b[32m[I 2022-08-16 09:39:18,402]\u001b[0m Trial 249 finished with value: 6574.615023474178 and parameters: {'kErase': 1, 'kRadius': 2, 'kAnnealingA': 2.9272515176237324, 'kAnnealingB': 1.5160570581428696, 'kAnnealingStart': 38.75006278853913, 'kSkipRatio': 0.5524164913465742, 'kTargetDeterminationTrials': 9, 'kAttractionRatio': 0.7558453262135719, 'kMaxAttractionDistance': 82, 'kStartAttraction': 0.0015789028772916762}. Best is trial 227 with value: 6695.840375586855.\u001b[0m\n"
     ]
    },
    {
     "name": "stdout",
     "output_type": "stream",
     "text": [
      "index_parallel='0251'\n"
     ]
    },
    {
     "name": "stderr",
     "output_type": "stream",
     "text": [
      "\u001b[32m[I 2022-08-16 09:43:21,487]\u001b[0m Trial 251 finished with value: 6695.9389671361505 and parameters: {'kErase': 1, 'kRadius': 2, 'kAnnealingA': 0.04300446727632501, 'kAnnealingB': 1.6377215731770414, 'kAnnealingStart': 45.35239374225046, 'kSkipRatio': 0.535252580051739, 'kTargetDeterminationTrials': 9, 'kAttractionRatio': 0.502024213689599, 'kMaxAttractionDistance': 62, 'kStartAttraction': 0.0010650797123459678}. Best is trial 251 with value: 6695.9389671361505.\u001b[0m\n"
     ]
    },
    {
     "name": "stdout",
     "output_type": "stream",
     "text": [
      "Updated! 6695.9389671361505\n",
      "index_parallel='0253'\n"
     ]
    },
    {
     "name": "stderr",
     "output_type": "stream",
     "text": [
      "\u001b[32m[I 2022-08-16 09:47:24,487]\u001b[0m Trial 253 finished with value: 6676.591549295775 and parameters: {'kErase': 1, 'kRadius': 2, 'kAnnealingA': -0.36828545719841665, 'kAnnealingB': 1.7319308228617138, 'kAnnealingStart': 48.18702314147988, 'kSkipRatio': 0.5308308956099941, 'kTargetDeterminationTrials': 9, 'kAttractionRatio': 0.5075106296297248, 'kMaxAttractionDistance': 63, 'kStartAttraction': 0.001245378624653215}. Best is trial 251 with value: 6695.9389671361505.\u001b[0m\n"
     ]
    },
    {
     "name": "stdout",
     "output_type": "stream",
     "text": [
      "index_parallel='0255'\n"
     ]
    },
    {
     "name": "stderr",
     "output_type": "stream",
     "text": [
      "\u001b[32m[I 2022-08-16 09:51:27,551]\u001b[0m Trial 255 finished with value: 6663.2535211267605 and parameters: {'kErase': 1, 'kRadius': 2, 'kAnnealingA': -1.4283433646003145, 'kAnnealingB': 1.7439300480707636, 'kAnnealingStart': 52.8383426798933, 'kSkipRatio': 0.5285735062640966, 'kTargetDeterminationTrials': 8, 'kAttractionRatio': 0.43465865053095615, 'kMaxAttractionDistance': 61, 'kStartAttraction': 0.0011177232742083153}. Best is trial 251 with value: 6695.9389671361505.\u001b[0m\n"
     ]
    },
    {
     "name": "stdout",
     "output_type": "stream",
     "text": [
      "index_parallel='0257'\n"
     ]
    },
    {
     "name": "stderr",
     "output_type": "stream",
     "text": [
      "\u001b[32m[I 2022-08-16 09:55:30,224]\u001b[0m Trial 257 finished with value: 6641.183098591549 and parameters: {'kErase': 1, 'kRadius': 2, 'kAnnealingA': -0.1074638499645042, 'kAnnealingB': 1.6124931289946371, 'kAnnealingStart': 44.26635494690922, 'kSkipRatio': 0.5112915195749649, 'kTargetDeterminationTrials': 9, 'kAttractionRatio': 0.500730169149679, 'kMaxAttractionDistance': 66, 'kStartAttraction': 0.0012373301960652127}. Best is trial 251 with value: 6695.9389671361505.\u001b[0m\n"
     ]
    },
    {
     "name": "stdout",
     "output_type": "stream",
     "text": [
      "index_parallel='0259'\n"
     ]
    },
    {
     "name": "stderr",
     "output_type": "stream",
     "text": [
      "\u001b[32m[I 2022-08-16 09:59:32,951]\u001b[0m Trial 259 finished with value: 6640.854460093897 and parameters: {'kErase': 1, 'kRadius': 2, 'kAnnealingA': 0.4079858566920113, 'kAnnealingB': 1.5271440954582614, 'kAnnealingStart': 51.07675410482917, 'kSkipRatio': 0.5114210337402064, 'kTargetDeterminationTrials': 9, 'kAttractionRatio': 0.5206664659795228, 'kMaxAttractionDistance': 59, 'kStartAttraction': 0.0010047161649013767}. Best is trial 251 with value: 6695.9389671361505.\u001b[0m\n"
     ]
    },
    {
     "name": "stdout",
     "output_type": "stream",
     "text": [
      "index_parallel='0261'\n"
     ]
    },
    {
     "name": "stderr",
     "output_type": "stream",
     "text": [
      "\u001b[32m[I 2022-08-16 10:03:35,588]\u001b[0m Trial 261 finished with value: 6711.023474178403 and parameters: {'kErase': 1, 'kRadius': 2, 'kAnnealingA': -0.6935734187927314, 'kAnnealingB': 2.3319332246782767, 'kAnnealingStart': 44.31452703280603, 'kSkipRatio': 0.5039548990326592, 'kTargetDeterminationTrials': 10, 'kAttractionRatio': 0.5782158264971925, 'kMaxAttractionDistance': 86, 'kStartAttraction': 0.0014289958779786388}. Best is trial 261 with value: 6711.023474178403.\u001b[0m\n"
     ]
    },
    {
     "name": "stdout",
     "output_type": "stream",
     "text": [
      "Updated! 6711.023474178403\n",
      "index_parallel='0263'\n"
     ]
    },
    {
     "name": "stderr",
     "output_type": "stream",
     "text": [
      "\u001b[32m[I 2022-08-16 10:07:38,878]\u001b[0m Trial 263 finished with value: 6651.530516431925 and parameters: {'kErase': 1, 'kRadius': 2, 'kAnnealingA': -0.542496530230429, 'kAnnealingB': 2.3808715351716008, 'kAnnealingStart': 43.05016427839039, 'kSkipRatio': 0.5019934433818296, 'kTargetDeterminationTrials': 10, 'kAttractionRatio': 0.5446182975243463, 'kMaxAttractionDistance': 86, 'kStartAttraction': 0.020618647670162214}. Best is trial 261 with value: 6711.023474178403.\u001b[0m\n"
     ]
    },
    {
     "name": "stdout",
     "output_type": "stream",
     "text": [
      "index_parallel='0265'\n"
     ]
    },
    {
     "name": "stderr",
     "output_type": "stream",
     "text": [
      "\u001b[32m[I 2022-08-16 10:11:41,404]\u001b[0m Trial 265 finished with value: 6660.976525821597 and parameters: {'kErase': 1, 'kRadius': 2, 'kAnnealingA': -1.2167141495875997, 'kAnnealingB': 2.361943067648197, 'kAnnealingStart': 43.22134096721174, 'kSkipRatio': 0.4881558352534696, 'kTargetDeterminationTrials': 8, 'kAttractionRatio': 0.5003223928629634, 'kMaxAttractionDistance': 98, 'kStartAttraction': 0.001353844193466733}. Best is trial 261 with value: 6711.023474178403.\u001b[0m\n"
     ]
    },
    {
     "name": "stdout",
     "output_type": "stream",
     "text": [
      "index_parallel='0267'\n"
     ]
    },
    {
     "name": "stderr",
     "output_type": "stream",
     "text": [
      "\u001b[32m[I 2022-08-16 10:15:43,927]\u001b[0m Trial 267 finished with value: 6410.666666666667 and parameters: {'kErase': 1, 'kRadius': 2, 'kAnnealingA': -1.430607199909182, 'kAnnealingB': 2.8618058173044165, 'kAnnealingStart': 48.2099413674962, 'kSkipRatio': 0.5349190478191297, 'kTargetDeterminationTrials': 6, 'kAttractionRatio': 0.011077481679790157, 'kMaxAttractionDistance': 99, 'kStartAttraction': 0.0011683906018715431}. Best is trial 261 with value: 6711.023474178403.\u001b[0m\n"
     ]
    },
    {
     "name": "stdout",
     "output_type": "stream",
     "text": [
      "index_parallel='0269'\n"
     ]
    },
    {
     "name": "stderr",
     "output_type": "stream",
     "text": [
      "\u001b[32m[I 2022-08-16 10:19:47,171]\u001b[0m Trial 269 finished with value: 6487.572769953052 and parameters: {'kErase': 3, 'kRadius': 2, 'kAnnealingA': 0.03518180903224338, 'kAnnealingB': 1.7265519404223804, 'kAnnealingStart': 57.300078938057254, 'kSkipRatio': 0.5251682440624823, 'kTargetDeterminationTrials': 9, 'kAttractionRatio': 0.44575872885154466, 'kMaxAttractionDistance': 78, 'kStartAttraction': 0.0013693407262855238}. Best is trial 261 with value: 6711.023474178403.\u001b[0m\n"
     ]
    },
    {
     "name": "stdout",
     "output_type": "stream",
     "text": [
      "index_parallel='0271'\n"
     ]
    },
    {
     "name": "stderr",
     "output_type": "stream",
     "text": [
      "\u001b[32m[I 2022-08-16 10:23:50,037]\u001b[0m Trial 271 finished with value: 6329.117370892019 and parameters: {'kErase': 1, 'kRadius': 2, 'kAnnealingA': 0.5521113555575912, 'kAnnealingB': 1.5127914731395262, 'kAnnealingStart': 9.950502836395218, 'kSkipRatio': 0.5632952142418695, 'kTargetDeterminationTrials': 10, 'kAttractionRatio': 0.6063646322716085, 'kMaxAttractionDistance': 90, 'kStartAttraction': 0.0011454274462809947}. Best is trial 261 with value: 6711.023474178403.\u001b[0m\n"
     ]
    },
    {
     "name": "stdout",
     "output_type": "stream",
     "text": [
      "index_parallel='0273'\n"
     ]
    },
    {
     "name": "stderr",
     "output_type": "stream",
     "text": [
      "\u001b[32m[I 2022-08-16 10:27:52,650]\u001b[0m Trial 273 finished with value: 6696.591549295775 and parameters: {'kErase': 1, 'kRadius': 2, 'kAnnealingA': 0.9187557267946517, 'kAnnealingB': 1.6700219714958917, 'kAnnealingStart': 36.319763418079454, 'kSkipRatio': 0.5519607056492788, 'kTargetDeterminationTrials': 8, 'kAttractionRatio': 0.5472577461684205, 'kMaxAttractionDistance': 66, 'kStartAttraction': 0.031860640023036464}. Best is trial 261 with value: 6711.023474178403.\u001b[0m\n"
     ]
    },
    {
     "name": "stdout",
     "output_type": "stream",
     "text": [
      "index_parallel='0275'\n"
     ]
    },
    {
     "name": "stderr",
     "output_type": "stream",
     "text": [
      "\u001b[32m[I 2022-08-16 10:31:55,127]\u001b[0m Trial 275 finished with value: 6574.971830985915 and parameters: {'kErase': 1, 'kRadius': 2, 'kAnnealingA': -0.46861445335665464, 'kAnnealingB': 1.662971614493773, 'kAnnealingStart': 41.37828258182287, 'kSkipRatio': 0.2639088036422887, 'kTargetDeterminationTrials': 11, 'kAttractionRatio': 0.5578082140893843, 'kMaxAttractionDistance': 54, 'kStartAttraction': 0.001908779814083031}. Best is trial 261 with value: 6711.023474178403.\u001b[0m\n"
     ]
    },
    {
     "name": "stdout",
     "output_type": "stream",
     "text": [
      "index_parallel='0277'\n"
     ]
    },
    {
     "name": "stderr",
     "output_type": "stream",
     "text": [
      "\u001b[32m[I 2022-08-16 10:35:57,600]\u001b[0m Trial 277 finished with value: 6638.8779342723 and parameters: {'kErase': 1, 'kRadius': 2, 'kAnnealingA': 0.9466139274891037, 'kAnnealingB': 1.5657925097907324, 'kAnnealingStart': 37.11446526856529, 'kSkipRatio': 0.5478592238670928, 'kTargetDeterminationTrials': 8, 'kAttractionRatio': 0.48522909454341584, 'kMaxAttractionDistance': 64, 'kStartAttraction': 0.039688753888506796}. Best is trial 261 with value: 6711.023474178403.\u001b[0m\n"
     ]
    },
    {
     "name": "stdout",
     "output_type": "stream",
     "text": [
      "index_parallel='0279'\n"
     ]
    },
    {
     "name": "stderr",
     "output_type": "stream",
     "text": [
      "\u001b[32m[I 2022-08-16 10:40:00,763]\u001b[0m Trial 279 finished with value: 6642.507042253521 and parameters: {'kErase': 1, 'kRadius': 2, 'kAnnealingA': 1.1070834179247675, 'kAnnealingB': 1.5691982737880976, 'kAnnealingStart': 48.42543808335666, 'kSkipRatio': 0.5345317594060489, 'kTargetDeterminationTrials': 9, 'kAttractionRatio': 0.6098768370774297, 'kMaxAttractionDistance': 72, 'kStartAttraction': 0.026054259519164204}. Best is trial 261 with value: 6711.023474178403.\u001b[0m\n"
     ]
    },
    {
     "name": "stdout",
     "output_type": "stream",
     "text": [
      "index_parallel='0281'\n"
     ]
    },
    {
     "name": "stderr",
     "output_type": "stream",
     "text": [
      "\u001b[32m[I 2022-08-16 10:44:03,605]\u001b[0m Trial 281 finished with value: 6634.093896713615 and parameters: {'kErase': 1, 'kRadius': 2, 'kAnnealingA': 0.07337683017986885, 'kAnnealingB': 1.7552595750002373, 'kAnnealingStart': 43.992643313671515, 'kSkipRatio': 0.6474930145852196, 'kTargetDeterminationTrials': 8, 'kAttractionRatio': 0.5578278489063871, 'kMaxAttractionDistance': 60, 'kStartAttraction': 0.03403574719233007}. Best is trial 261 with value: 6711.023474178403.\u001b[0m\n"
     ]
    },
    {
     "name": "stdout",
     "output_type": "stream",
     "text": [
      "index_parallel='0283'\n"
     ]
    },
    {
     "name": "stderr",
     "output_type": "stream",
     "text": [
      "\u001b[32m[I 2022-08-16 10:48:06,953]\u001b[0m Trial 283 finished with value: 6640.882629107981 and parameters: {'kErase': 1, 'kRadius': 2, 'kAnnealingA': 1.5517223665611406, 'kAnnealingB': 1.6927485520408014, 'kAnnealingStart': 39.14925605810035, 'kSkipRatio': 0.5563572875886502, 'kTargetDeterminationTrials': 7, 'kAttractionRatio': 0.5093772610853714, 'kMaxAttractionDistance': 67, 'kStartAttraction': 0.0010004488847382093}. Best is trial 261 with value: 6711.023474178403.\u001b[0m\n"
     ]
    },
    {
     "name": "stdout",
     "output_type": "stream",
     "text": [
      "index_parallel='0285'\n"
     ]
    },
    {
     "name": "stderr",
     "output_type": "stream",
     "text": [
      "\u001b[32m[I 2022-08-16 10:52:09,699]\u001b[0m Trial 285 finished with value: 6633.638497652582 and parameters: {'kErase': 1, 'kRadius': 2, 'kAnnealingA': -1.0318624312592737, 'kAnnealingB': 1.7872962125858802, 'kAnnealingStart': 34.29925609661962, 'kSkipRatio': 0.5222963790826607, 'kTargetDeterminationTrials': 7, 'kAttractionRatio': 0.6145120986900268, 'kMaxAttractionDistance': 83, 'kStartAttraction': 0.0017970016383364038}. Best is trial 261 with value: 6711.023474178403.\u001b[0m\n"
     ]
    },
    {
     "name": "stdout",
     "output_type": "stream",
     "text": [
      "index_parallel='0287'\n"
     ]
    },
    {
     "name": "stderr",
     "output_type": "stream",
     "text": [
      "\u001b[32m[I 2022-08-16 10:56:12,457]\u001b[0m Trial 287 finished with value: 6703.1220657277 and parameters: {'kErase': 1, 'kRadius': 2, 'kAnnealingA': 1.0554539817538897, 'kAnnealingB': 1.5115314077199964, 'kAnnealingStart': 42.57236074414851, 'kSkipRatio': 0.5769936257937871, 'kTargetDeterminationTrials': 9, 'kAttractionRatio': 0.41628251995620863, 'kMaxAttractionDistance': 89, 'kStartAttraction': 0.0014293949609262052}. Best is trial 261 with value: 6711.023474178403.\u001b[0m\n"
     ]
    },
    {
     "name": "stdout",
     "output_type": "stream",
     "text": [
      "index_parallel='0289'\n"
     ]
    },
    {
     "name": "stderr",
     "output_type": "stream",
     "text": [
      "\u001b[32m[I 2022-08-16 11:00:15,068]\u001b[0m Trial 289 finished with value: 6288.596244131455 and parameters: {'kErase': 1, 'kRadius': 2, 'kAnnealingA': 0.47687405727145094, 'kAnnealingB': 1.4975601046252591, 'kAnnealingStart': 7.380073035062342, 'kSkipRatio': 0.5781521615789693, 'kTargetDeterminationTrials': 11, 'kAttractionRatio': 0.3942611684460147, 'kMaxAttractionDistance': 92, 'kStartAttraction': 0.0011851343982032202}. Best is trial 261 with value: 6711.023474178403.\u001b[0m\n"
     ]
    },
    {
     "name": "stdout",
     "output_type": "stream",
     "text": [
      "index_parallel='0291'\n"
     ]
    },
    {
     "name": "stderr",
     "output_type": "stream",
     "text": [
      "\u001b[32m[I 2022-08-16 11:04:17,431]\u001b[0m Trial 291 finished with value: 6651.056338028169 and parameters: {'kErase': 1, 'kRadius': 2, 'kAnnealingA': 1.7265531248235662, 'kAnnealingB': 2.223460714507811, 'kAnnealingStart': 35.97775073447757, 'kSkipRatio': 0.5650169048339092, 'kTargetDeterminationTrials': 10, 'kAttractionRatio': 0.45649406382298224, 'kMaxAttractionDistance': 86, 'kStartAttraction': 0.0013415949038272919}. Best is trial 261 with value: 6711.023474178403.\u001b[0m\n"
     ]
    },
    {
     "name": "stdout",
     "output_type": "stream",
     "text": [
      "index_parallel='0293'\n"
     ]
    },
    {
     "name": "stderr",
     "output_type": "stream",
     "text": [
      "\u001b[32m[I 2022-08-16 11:08:21,180]\u001b[0m Trial 293 finished with value: 6544.140845070423 and parameters: {'kErase': 3, 'kRadius': 2, 'kAnnealingA': -0.27190495987641183, 'kAnnealingB': 1.589709229414672, 'kAnnealingStart': 44.68965685554413, 'kSkipRatio': 0.5819765311463719, 'kTargetDeterminationTrials': 9, 'kAttractionRatio': 0.4603896966131223, 'kMaxAttractionDistance': 75, 'kStartAttraction': 0.0014423575253508225}. Best is trial 261 with value: 6711.023474178403.\u001b[0m\n"
     ]
    },
    {
     "name": "stdout",
     "output_type": "stream",
     "text": [
      "index_parallel='0295'\n"
     ]
    },
    {
     "name": "stderr",
     "output_type": "stream",
     "text": [
      "\u001b[32m[I 2022-08-16 11:12:23,997]\u001b[0m Trial 295 finished with value: 6659.62441314554 and parameters: {'kErase': 1, 'kRadius': 2, 'kAnnealingA': 2.8636770276572463, 'kAnnealingB': 1.734273364368895, 'kAnnealingStart': 33.41315089089277, 'kSkipRatio': 0.5514345978295158, 'kTargetDeterminationTrials': 7, 'kAttractionRatio': 0.5359924291623634, 'kMaxAttractionDistance': 79, 'kStartAttraction': 0.001873091808724957}. Best is trial 261 with value: 6711.023474178403.\u001b[0m\n"
     ]
    },
    {
     "name": "stdout",
     "output_type": "stream",
     "text": [
      "index_parallel='0297'\n"
     ]
    },
    {
     "name": "stderr",
     "output_type": "stream",
     "text": [
      "\u001b[32m[I 2022-08-16 11:16:26,788]\u001b[0m Trial 297 finished with value: 6707.103286384977 and parameters: {'kErase': 1, 'kRadius': 2, 'kAnnealingA': 1.9464282382176723, 'kAnnealingB': 1.653124528912222, 'kAnnealingStart': 39.71370944442504, 'kSkipRatio': 0.5036727799577625, 'kTargetDeterminationTrials': 8, 'kAttractionRatio': 0.6560341600768215, 'kMaxAttractionDistance': 82, 'kStartAttraction': 0.002204507597173201}. Best is trial 261 with value: 6711.023474178403.\u001b[0m\n"
     ]
    },
    {
     "name": "stdout",
     "output_type": "stream",
     "text": [
      "index_parallel='0299'\n"
     ]
    },
    {
     "name": "stderr",
     "output_type": "stream",
     "text": [
      "\u001b[32m[I 2022-08-16 11:20:29,140]\u001b[0m Trial 299 finished with value: 6646.953051643192 and parameters: {'kErase': 1, 'kRadius': 2, 'kAnnealingA': 2.167627084066119, 'kAnnealingB': 1.6658275151445394, 'kAnnealingStart': 42.777692203109865, 'kSkipRatio': 0.5040701353165989, 'kTargetDeterminationTrials': 10, 'kAttractionRatio': 0.4128591390595348, 'kMaxAttractionDistance': 82, 'kStartAttraction': 0.0022006153852152425}. Best is trial 261 with value: 6711.023474178403.\u001b[0m\n"
     ]
    },
    {
     "name": "stdout",
     "output_type": "stream",
     "text": [
      "index_parallel='0301'\n"
     ]
    },
    {
     "name": "stderr",
     "output_type": "stream",
     "text": [
      "\u001b[32m[I 2022-08-16 11:24:31,542]\u001b[0m Trial 301 finished with value: 6613.596244131455 and parameters: {'kErase': 1, 'kRadius': 2, 'kAnnealingA': 1.2261180527350553, 'kAnnealingB': 1.7020378969261987, 'kAnnealingStart': 39.44692317705554, 'kSkipRatio': 0.5155346203851892, 'kTargetDeterminationTrials': 8, 'kAttractionRatio': 0.38736942846245537, 'kMaxAttractionDistance': 82, 'kStartAttraction': 0.0017716960919943905}. Best is trial 261 with value: 6711.023474178403.\u001b[0m\n"
     ]
    },
    {
     "name": "stdout",
     "output_type": "stream",
     "text": [
      "index_parallel='0303'\n"
     ]
    },
    {
     "name": "stderr",
     "output_type": "stream",
     "text": [
      "\u001b[32m[I 2022-08-16 11:28:34,231]\u001b[0m Trial 303 finished with value: 6657.605633802817 and parameters: {'kErase': 1, 'kRadius': 2, 'kAnnealingA': 0.4416291032591342, 'kAnnealingB': 1.756862767554312, 'kAnnealingStart': 27.12498072348528, 'kSkipRatio': 0.5283000852108017, 'kTargetDeterminationTrials': 9, 'kAttractionRatio': 0.487096224068011, 'kMaxAttractionDistance': 77, 'kStartAttraction': 0.001984175212668625}. Best is trial 261 with value: 6711.023474178403.\u001b[0m\n"
     ]
    },
    {
     "name": "stdout",
     "output_type": "stream",
     "text": [
      "index_parallel='0305'\n"
     ]
    },
    {
     "name": "stderr",
     "output_type": "stream",
     "text": [
      "\u001b[32m[I 2022-08-16 11:32:37,293]\u001b[0m Trial 305 finished with value: 6442.44131455399 and parameters: {'kErase': 1, 'kRadius': 2, 'kAnnealingA': 1.5760213049224645, 'kAnnealingB': 1.47014875825486, 'kAnnealingStart': 80.5010680383505, 'kSkipRatio': 0.474363618168777, 'kTargetDeterminationTrials': 1, 'kAttractionRatio': 0.6496457988168941, 'kMaxAttractionDistance': 71, 'kStartAttraction': 0.0057888418800113575}. Best is trial 261 with value: 6711.023474178403.\u001b[0m\n"
     ]
    },
    {
     "name": "stdout",
     "output_type": "stream",
     "text": [
      "index_parallel='0307'\n"
     ]
    },
    {
     "name": "stderr",
     "output_type": "stream",
     "text": [
      "\u001b[32m[I 2022-08-16 11:36:40,023]\u001b[0m Trial 307 finished with value: 6485.7464788732395 and parameters: {'kErase': 1, 'kRadius': 2, 'kAnnealingA': 2.6436262048745234, 'kAnnealingB': 1.5580562502031154, 'kAnnealingStart': 54.337429619855136, 'kSkipRatio': 0.4950903842516736, 'kTargetDeterminationTrials': 10, 'kAttractionRatio': 0.5805786061422975, 'kMaxAttractionDistance': 95, 'kStartAttraction': 0.00254648440034139}. Best is trial 261 with value: 6711.023474178403.\u001b[0m\n"
     ]
    },
    {
     "name": "stdout",
     "output_type": "stream",
     "text": [
      "index_parallel='0309'\n"
     ]
    },
    {
     "name": "stderr",
     "output_type": "stream",
     "text": [
      "\u001b[32m[I 2022-08-16 11:40:44,256]\u001b[0m Trial 309 finished with value: 6223.44131455399 and parameters: {'kErase': 4, 'kRadius': 4, 'kAnnealingA': 1.9452382825182224, 'kAnnealingB': 2.5842374448266665, 'kAnnealingStart': 37.16600304814584, 'kSkipRatio': 0.48980378075784664, 'kTargetDeterminationTrials': 7, 'kAttractionRatio': 0.6821961534286177, 'kMaxAttractionDistance': 68, 'kStartAttraction': 0.001143547919499802}. Best is trial 261 with value: 6711.023474178403.\u001b[0m\n"
     ]
    },
    {
     "name": "stdout",
     "output_type": "stream",
     "text": [
      "index_parallel='0311'\n"
     ]
    }
   ],
   "source": [
    "study.optimize(\n",
    "    partial(objective, in_dir=in_dir, work_dir=work_dir),\n",
    "    n_trials=3000,\n",
    "    timeout=86400,\n",
    "    callbacks=[callback]\n",
    ")"
   ]
  },
  {
   "cell_type": "code",
   "execution_count": null,
   "id": "700269d2",
   "metadata": {},
   "outputs": [],
   "source": []
  }
 ],
 "metadata": {
  "kernelspec": {
   "display_name": "Python 3 (ipykernel)",
   "language": "python",
   "name": "python3"
  },
  "language_info": {
   "codemirror_mode": {
    "name": "ipython",
    "version": 3
   },
   "file_extension": ".py",
   "mimetype": "text/x-python",
   "name": "python",
   "nbconvert_exporter": "python",
   "pygments_lexer": "ipython3",
   "version": "3.9.12"
  }
 },
 "nbformat": 4,
 "nbformat_minor": 5
}
