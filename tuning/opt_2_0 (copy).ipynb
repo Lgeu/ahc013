{
 "cells": [
  {
   "cell_type": "code",
   "execution_count": 1,
   "id": "25a1dac8",
   "metadata": {},
   "outputs": [],
   "source": [
    "import re\n",
    "import sys\n",
    "from uuid import uuid1\n",
    "from time import sleep\n",
    "from pprint import pprint\n",
    "from pathlib import Path\n",
    "from tempfile import gettempdir\n",
    "from threading import Thread\n",
    "from functools import partial\n",
    "from subprocess import Popen, PIPE\n",
    "\n",
    "from tqdm.notebook import tqdm\n",
    "import numpy as np\n",
    "import optuna\n",
    "import pandas as pd\n",
    "import matplotlib.pyplot as plt\n",
    "\n",
    "FILENAME = \"main.cpp\""
   ]
  },
  {
   "cell_type": "code",
   "execution_count": 2,
   "id": "3dd4d02e",
   "metadata": {},
   "outputs": [
    {
     "name": "stdout",
     "output_type": "stream",
     "text": [
      "10 variables were found.\n"
     ]
    },
    {
     "data": {
      "text/html": [
       "<div>\n",
       "<style scoped>\n",
       "    .dataframe tbody tr th:only-of-type {\n",
       "        vertical-align: middle;\n",
       "    }\n",
       "\n",
       "    .dataframe tbody tr th {\n",
       "        vertical-align: top;\n",
       "    }\n",
       "\n",
       "    .dataframe thead th {\n",
       "        text-align: right;\n",
       "    }\n",
       "</style>\n",
       "<table border=\"1\" class=\"dataframe\">\n",
       "  <thead>\n",
       "    <tr style=\"text-align: right;\">\n",
       "      <th></th>\n",
       "      <th>name</th>\n",
       "      <th>method</th>\n",
       "      <th>min</th>\n",
       "      <th>max</th>\n",
       "      <th>log</th>\n",
       "      <th>left</th>\n",
       "      <th>right</th>\n",
       "    </tr>\n",
       "  </thead>\n",
       "  <tbody>\n",
       "    <tr>\n",
       "      <th>0</th>\n",
       "      <td>kErase</td>\n",
       "      <td>suggest_int</td>\n",
       "      <td>1.000</td>\n",
       "      <td>5.0</td>\n",
       "      <td>False</td>\n",
       "      <td>static constexpr auto kErase =</td>\n",
       "      <td>;             // OPTIMIZE [1, 5]</td>\n",
       "    </tr>\n",
       "    <tr>\n",
       "      <th>1</th>\n",
       "      <td>kRadius</td>\n",
       "      <td>suggest_int</td>\n",
       "      <td>2.000</td>\n",
       "      <td>6.0</td>\n",
       "      <td>False</td>\n",
       "      <td>static constexpr auto kRadius =</td>\n",
       "      <td>;            // OPTIMIZE [2, 6]</td>\n",
       "    </tr>\n",
       "    <tr>\n",
       "      <th>2</th>\n",
       "      <td>kAnnealingA</td>\n",
       "      <td>suggest_float</td>\n",
       "      <td>-15.000</td>\n",
       "      <td>15.0</td>\n",
       "      <td>False</td>\n",
       "      <td>static constexpr auto kAnnealingA =</td>\n",
       "      <td>;      // OPTIMIZE [-15.0, 15.0]</td>\n",
       "    </tr>\n",
       "    <tr>\n",
       "      <th>3</th>\n",
       "      <td>kAnnealingB</td>\n",
       "      <td>suggest_float</td>\n",
       "      <td>0.000</td>\n",
       "      <td>3.0</td>\n",
       "      <td>False</td>\n",
       "      <td>static constexpr auto kAnnealingB =</td>\n",
       "      <td>;      // OPTIMIZE [0.0, 3.0]</td>\n",
       "    </tr>\n",
       "    <tr>\n",
       "      <th>4</th>\n",
       "      <td>kAnnealingStart</td>\n",
       "      <td>suggest_float</td>\n",
       "      <td>1.000</td>\n",
       "      <td>100.0</td>\n",
       "      <td>True</td>\n",
       "      <td>static constexpr auto kAnnealingStart =</td>\n",
       "      <td>; // OPTIMIZE LOG [1.0, 100.0]</td>\n",
       "    </tr>\n",
       "    <tr>\n",
       "      <th>5</th>\n",
       "      <td>kSkipRatio</td>\n",
       "      <td>suggest_float</td>\n",
       "      <td>0.200</td>\n",
       "      <td>0.8</td>\n",
       "      <td>False</td>\n",
       "      <td>static constexpr auto kSkipRatio =</td>\n",
       "      <td>;       // OPTIMIZE [0.2, 0.8]</td>\n",
       "    </tr>\n",
       "    <tr>\n",
       "      <th>6</th>\n",
       "      <td>kTargetDeterminationTrials</td>\n",
       "      <td>suggest_int</td>\n",
       "      <td>1.000</td>\n",
       "      <td>20.0</td>\n",
       "      <td>True</td>\n",
       "      <td>static constexpr auto kTargetDeterminationTria...</td>\n",
       "      <td>; // OPTIMIZE LOG [1, 20]</td>\n",
       "    </tr>\n",
       "    <tr>\n",
       "      <th>7</th>\n",
       "      <td>kAttractionRatio</td>\n",
       "      <td>suggest_float</td>\n",
       "      <td>0.010</td>\n",
       "      <td>0.9</td>\n",
       "      <td>True</td>\n",
       "      <td>static constexpr auto kAttractionRatio =</td>\n",
       "      <td>;      // OPTIMIZE LOG [0.01, 0.9]</td>\n",
       "    </tr>\n",
       "    <tr>\n",
       "      <th>8</th>\n",
       "      <td>kMaxAttractionDistance</td>\n",
       "      <td>suggest_int</td>\n",
       "      <td>4.000</td>\n",
       "      <td>99.0</td>\n",
       "      <td>True</td>\n",
       "      <td>static constexpr auto kMaxAttractionDistance =</td>\n",
       "      <td>; // OPTIMIZE LOG [4, 99]</td>\n",
       "    </tr>\n",
       "    <tr>\n",
       "      <th>9</th>\n",
       "      <td>kStartAttraction</td>\n",
       "      <td>suggest_float</td>\n",
       "      <td>0.001</td>\n",
       "      <td>0.9</td>\n",
       "      <td>True</td>\n",
       "      <td>static constexpr auto kStartAttraction =</td>\n",
       "      <td>;     // OPTIMIZE LOG [0.001, 0.9]</td>\n",
       "    </tr>\n",
       "  </tbody>\n",
       "</table>\n",
       "</div>"
      ],
      "text/plain": [
       "                         name         method     min    max    log  \\\n",
       "0                      kErase    suggest_int   1.000    5.0  False   \n",
       "1                     kRadius    suggest_int   2.000    6.0  False   \n",
       "2                 kAnnealingA  suggest_float -15.000   15.0  False   \n",
       "3                 kAnnealingB  suggest_float   0.000    3.0  False   \n",
       "4             kAnnealingStart  suggest_float   1.000  100.0   True   \n",
       "5                  kSkipRatio  suggest_float   0.200    0.8  False   \n",
       "6  kTargetDeterminationTrials    suggest_int   1.000   20.0   True   \n",
       "7            kAttractionRatio  suggest_float   0.010    0.9   True   \n",
       "8      kMaxAttractionDistance    suggest_int   4.000   99.0   True   \n",
       "9            kStartAttraction  suggest_float   0.001    0.9   True   \n",
       "\n",
       "                                                left  \\\n",
       "0                    static constexpr auto kErase =    \n",
       "1                   static constexpr auto kRadius =    \n",
       "2               static constexpr auto kAnnealingA =    \n",
       "3               static constexpr auto kAnnealingB =    \n",
       "4           static constexpr auto kAnnealingStart =    \n",
       "5                static constexpr auto kSkipRatio =    \n",
       "6  static constexpr auto kTargetDeterminationTria...   \n",
       "7          static constexpr auto kAttractionRatio =    \n",
       "8    static constexpr auto kMaxAttractionDistance =    \n",
       "9          static constexpr auto kStartAttraction =    \n",
       "\n",
       "                                right  \n",
       "0    ;             // OPTIMIZE [1, 5]  \n",
       "1     ;            // OPTIMIZE [2, 6]  \n",
       "2    ;      // OPTIMIZE [-15.0, 15.0]  \n",
       "3       ;      // OPTIMIZE [0.0, 3.0]  \n",
       "4      ; // OPTIMIZE LOG [1.0, 100.0]  \n",
       "5      ;       // OPTIMIZE [0.2, 0.8]  \n",
       "6           ; // OPTIMIZE LOG [1, 20]  \n",
       "7  ;      // OPTIMIZE LOG [0.01, 0.9]  \n",
       "8           ; // OPTIMIZE LOG [4, 99]  \n",
       "9  ;     // OPTIMIZE LOG [0.001, 0.9]  "
      ]
     },
     "metadata": {},
     "output_type": "display_data"
    }
   ],
   "source": [
    "# ここでエラー出力は何かおかしいかもしれない\n",
    "\n",
    "\n",
    "# パラメータ抽出\n",
    "with open(FILENAME) as f:\n",
    "    answer = f.read()\n",
    "\n",
    "\n",
    "variables_optimize = []\n",
    "\n",
    "for left, value, right, options in re.findall(r\"^([^/\\n]*=\\s*)(.+?)(\\s*;\\s*//(?:.*\\W)?OPTIMIZE(\\W.*))$\", answer, re.MULTILINE):\n",
    "    name = left.replace(\"=\", \"\").strip().split()[-1]\n",
    "    \n",
    "    searched = re.search(r\".*\\[(?P<min>.*),(?P<max>.*)\\].*\", options)\n",
    "    if searched:\n",
    "        min_value = max_value = None\n",
    "        try:\n",
    "            min_value = eval(searched.group(\"min\"))\n",
    "            max_value = eval(searched.group(\"max\"))\n",
    "            assert min_value <= max_value\n",
    "        except Exception as e:\n",
    "            print(f\"searched={searched}\", file=sys.stderr)\n",
    "            print(e, file=sys.stderr)\n",
    "            continue\n",
    "        log = \"LOG\" in options  # 雑、直したほうが良い\n",
    "        if type(min_value) != type(max_value):\n",
    "            print(f\"searched={searched}\", file=sys.stderr)\n",
    "            print(\"types not matched\", file=sys.stderr)\n",
    "            continue\n",
    "        if isinstance(min_value, int):\n",
    "            method = \"suggest_int\"\n",
    "        elif isinstance(min_value, float):\n",
    "            method = \"suggest_float\"\n",
    "        else:\n",
    "            print(f\"searched={searched}\", file=sys.stderr)\n",
    "            print(f\"unknown type ({type(min_value)})\", file=sys.stderr)\n",
    "            continue\n",
    "        variables_optimize.append({\n",
    "            \"name\": name,\n",
    "            \"method\": method,\n",
    "            \"min\": min_value,\n",
    "            \"max\": max_value,\n",
    "            \"log\": log,\n",
    "            \"left\": left,\n",
    "            \"right\": right,\n",
    "        })\n",
    "    elif searched := re.search(r\".*\\{(?P<choices>.*?)\\}.*\", options):\n",
    "        choices = list(map(lambda x: x.strip(), searched.group(\"choices\").split(\",\")))\n",
    "        variables_optimize.append({\n",
    "            \"name\": name,\n",
    "            \"method\": \"suggest_categorical\",\n",
    "            \"choices\": choices,\n",
    "            \"left\": left,\n",
    "            \"right\": right,\n",
    "        })\n",
    "    else:\n",
    "        print(f\"searched={searched}\", file=sys.stderr)\n",
    "        print(f\"pattern was matched but options are incorrect.\", file=sys.stderr)\n",
    "\n",
    "print(len(variables_optimize), \"variables were found.\")\n",
    "if globals().get(\"pd\"):\n",
    "    display(pd.DataFrame(variables_optimize))\n",
    "else:\n",
    "    pprint(variables_optimize)"
   ]
  },
  {
   "cell_type": "code",
   "execution_count": 3,
   "id": "001042b9",
   "metadata": {},
   "outputs": [],
   "source": [
    "def escape(string):  # 正規表現の中でそのまま使いたい文字列をエスケープ\n",
    "    res = !echo '{string}' | sed -e 's/[]\\/$*.^[]/\\\\&/g'\n",
    "    return res[0]\n",
    "\n",
    "def escape_sed(string):  # sed の置換後の文字列用のエスケープ\n",
    "    res = !echo '{string}' | sed -e 's/[\\/&]/\\\\&/g'\n",
    "    return res[0]\n",
    "\n",
    "def read_stream(name, in_file, out_file):\n",
    "    for line in in_file:\n",
    "        print(f\"[{name}] {line.strip()}\", file=out_file)\n",
    "\n",
    "def run(cmd, name):\n",
    "    proc = Popen(cmd, stdout=PIPE, stderr=PIPE, universal_newlines=True, shell=isinstance(cmd, str))\n",
    "    stdout_thread = Thread(target=read_stream, args=(name, proc.stdout, sys.stdout))\n",
    "    stderr_thread = Thread(target=read_stream, args=(name, proc.stderr, sys.stderr))\n",
    "    stdout_thread.start()\n",
    "    stderr_thread.start()\n",
    "    proc.wait()\n",
    "    return proc\n",
    "\n",
    "def objective(trial, in_dir, work_dir):\n",
    "    n_internal_parallel = 3\n",
    "    \n",
    "    index_parallel = f\"{trial.number:04d}\"\n",
    "    print(f\"{index_parallel=}\")\n",
    "    \n",
    "    work_dir = Path(work_dir)\n",
    "    directory_input = Path(in_dir)  # 中のすべてのファイルに対して実行される\n",
    "    #parameters_changed_filename = Path(gettempdir()) / str(uuid1())\n",
    "    parameters_changed_filename = work_dir / f\"{index_parallel}_{FILENAME}\"\n",
    "    \n",
    "    run([\"mkdir\", f\"{work_dir / index_parallel}_out\"], \"mkdir\")\n",
    "    run([\"mkdir\", f\"{work_dir / index_parallel}_score\"], \"mkdir\")\n",
    "    \n",
    "    # ファイル作成\n",
    "    run(f\"cp {FILENAME} {parameters_changed_filename}\", \"cp\")\n",
    "    sed_options = [f\"-i {parameters_changed_filename}\"]\n",
    "    for variable in variables_optimize:\n",
    "        if variable[\"method\"] == \"suggest_categorical\":\n",
    "            val =  trial.suggest_categorical(variable[\"name\"], variable[\"choices\"])\n",
    "        else:\n",
    "            val = getattr(trial, variable[\"method\"])(variable[\"name\"], variable[\"min\"], variable[\"max\"], log=variable[\"log\"])\n",
    "        left = variable[\"left\"]\n",
    "        right = variable[\"right\"]\n",
    "        sed_options.append(f\"\"\"-e 's/^{escape(left)}.*{escape(right)}$/{escape_sed(left)}{val}{escape_sed(right)}/'\"\"\")\n",
    "    command_sed = f\"sed {' '.join(sed_options)}\"\n",
    "    #print(command_sed)\n",
    "    run(command_sed, \"sed\")\n",
    "    \n",
    "    # コンパイル\n",
    "    command_compile = f\"g++ {parameters_changed_filename} -std=gnu++17 -O2 -DONLINE_JUDGE -o {parameters_changed_filename}.out\"\n",
    "    #print(command_compile)\n",
    "    run(command_compile, \"compile\")\n",
    "    # 実行・採点コマンド (@ はファイル名)\n",
    "    command_exec = (\n",
    "        #f\"./a.out < ./tools/in/{i:04d}.txt > {out_file} && ./tools/target/release/vis ./tools/in/{i:04d}.txt {out_file}\"\n",
    "        #f\"../tools/target/release/tester $(pwd)/{parameters_changed_filename}.out < {directory_input}/@ 2>&1 | grep Score\"\n",
    "        #f\"../tools/target/release/tester $(pwd)/{parameters_changed_filename}.out < {directory_input}/@ 2>&1 | grep Score | sed -E s/[^0-9]+// > ./{index_parallel}_score/@;\"\n",
    "        #f\"cargo run --release --manifest-path ../tools/Cargo.toml --bin tester {directory_input}/@ $(pwd)/{parameters_changed_filename}.out 2>&1 | grep Score | sed -E s/[^0-9]+// > ./{index_parallel}_score/@;\"\n",
    "        f\"./{parameters_changed_filename}.out < {directory_input}/@ > {work_dir / index_parallel}_out/@;\"\n",
    "        f\"../tools/target/release/vis {directory_input}/@ {work_dir / index_parallel}_out/@ 2> /dev/null > {work_dir / index_parallel}_score/@;\"\n",
    "    )\n",
    "    # 並列実行 (sed はパスのディレクトリ部分を消してファイル名にしてる)\n",
    "    run(f\"find {directory_input}/* | sed 's!^.*/!!' | xargs -I@ -P {n_internal_parallel} sh -c '{command_exec}'\", \"exec\")\n",
    "    \n",
    "    # 集計\n",
    "    scores = []\n",
    "    for file_path in Path(f\"{work_dir / index_parallel}_score/\").iterdir():  \n",
    "        with open(file_path) as f:\n",
    "            scores.append(int(f.readline().strip().split()[-1]))\n",
    "    mean_score = sum(scores) / len(scores)\n",
    "    \n",
    "    # 後始末\n",
    "    run(f\"rm -rf {work_dir / index_parallel}_out\", \"rm\")\n",
    "    run(f\"rm -rf {work_dir / index_parallel}_score\", \"rm\")\n",
    "    #run(f\"rm {parameters_changed_filename}\", \"rm\")\n",
    "    run(f\"rm {parameters_changed_filename}.out\", \"rm\")\n",
    "    \n",
    "    return mean_score"
   ]
  },
  {
   "cell_type": "code",
   "execution_count": 4,
   "id": "2d2e133c",
   "metadata": {},
   "outputs": [
    {
     "name": "stderr",
     "output_type": "stream",
     "text": [
      "\u001b[32m[I 2022-08-16 04:58:06,396]\u001b[0m Using an existing study with name 'study_2_0' instead of creating a new one.\u001b[0m\n"
     ]
    }
   ],
   "source": [
    "K = 2\n",
    "N_CLASS = 0\n",
    "\n",
    "in_dir = Path(f\"in_{K}_{N_CLASS}\")\n",
    "work_dir = Path(f\"work_{K}_{N_CLASS}\")\n",
    "\n",
    "study_name = f\"study_{K}_{N_CLASS}\"\n",
    "storage_path = work_dir / \"study.db\"\n",
    "storage = f\"sqlite:///{storage_path}\"\n",
    "study = optuna.create_study(storage=storage, load_if_exists=True, study_name=study_name, direction=\"maximize\")\n",
    "\n",
    "def callback(study, trial):\n",
    "    try:\n",
    "        index_parallel = f\"{trial.number:04d}\"\n",
    "        parameters_changed_filename = work_dir / f\"{index_parallel}_{FILENAME}\"\n",
    "        if study.best_value == trial.value:\n",
    "            print(f\"Updated! {study.best_value}\")\n",
    "            !cp {parameters_changed_filename} {work_dir / \"best_parameters.cpp\"}\n",
    "        !rm {parameters_changed_filename}\n",
    "    except:\n",
    "        print(\":(\")\n"
   ]
  },
  {
   "cell_type": "code",
   "execution_count": null,
   "id": "61c2901d",
   "metadata": {},
   "outputs": [
    {
     "name": "stdout",
     "output_type": "stream",
     "text": [
      "index_parallel='0266'\n"
     ]
    },
    {
     "name": "stderr",
     "output_type": "stream",
     "text": [
      "\u001b[32m[I 2022-08-16 08:52:11,136]\u001b[0m Trial 266 finished with value: 6974.529411764706 and parameters: {'kErase': 3, 'kRadius': 2, 'kAnnealingA': -0.4221413603841515, 'kAnnealingB': 2.4231811468216327, 'kAnnealingStart': 50.938829983942085, 'kSkipRatio': 0.6668626641967889, 'kTargetDeterminationTrials': 13, 'kAttractionRatio': 0.044668291028789144, 'kMaxAttractionDistance': 5, 'kStartAttraction': 0.004553968622681437}. Best is trial 216 with value: 7023.15294117647.\u001b[0m\n"
     ]
    },
    {
     "name": "stdout",
     "output_type": "stream",
     "text": [
      "index_parallel='0268'\n"
     ]
    },
    {
     "name": "stderr",
     "output_type": "stream",
     "text": [
      "\u001b[32m[I 2022-08-16 08:55:33,681]\u001b[0m Trial 268 finished with value: 6957.658823529412 and parameters: {'kErase': 3, 'kRadius': 2, 'kAnnealingA': -0.6689081479323683, 'kAnnealingB': 2.464464504573505, 'kAnnealingStart': 44.763495452534364, 'kSkipRatio': 0.6585355767564723, 'kTargetDeterminationTrials': 14, 'kAttractionRatio': 0.038062028406765196, 'kMaxAttractionDistance': 89, 'kStartAttraction': 0.006017155449849684}. Best is trial 216 with value: 7023.15294117647.\u001b[0m\n"
     ]
    },
    {
     "name": "stdout",
     "output_type": "stream",
     "text": [
      "index_parallel='0270'\n"
     ]
    },
    {
     "name": "stderr",
     "output_type": "stream",
     "text": [
      "\u001b[32m[I 2022-08-16 08:58:55,695]\u001b[0m Trial 270 finished with value: 6960.6 and parameters: {'kErase': 3, 'kRadius': 2, 'kAnnealingA': 0.017854615003332075, 'kAnnealingB': 2.5029070864026735, 'kAnnealingStart': 50.36495127037778, 'kSkipRatio': 0.6395256255981893, 'kTargetDeterminationTrials': 12, 'kAttractionRatio': 0.04156545129755068, 'kMaxAttractionDistance': 82, 'kStartAttraction': 0.005545257962568081}. Best is trial 216 with value: 7023.15294117647.\u001b[0m\n"
     ]
    },
    {
     "name": "stdout",
     "output_type": "stream",
     "text": [
      "index_parallel='0272'\n"
     ]
    },
    {
     "name": "stderr",
     "output_type": "stream",
     "text": [
      "\u001b[32m[I 2022-08-16 09:02:17,860]\u001b[0m Trial 272 finished with value: 6584.588235294118 and parameters: {'kErase': 3, 'kRadius': 2, 'kAnnealingA': 0.9776731176060984, 'kAnnealingB': 2.400568274004495, 'kAnnealingStart': 4.78660364289504, 'kSkipRatio': 0.6810494030854641, 'kTargetDeterminationTrials': 11, 'kAttractionRatio': 0.031079183237680785, 'kMaxAttractionDistance': 88, 'kStartAttraction': 0.004252763621195023}. Best is trial 216 with value: 7023.15294117647.\u001b[0m\n"
     ]
    },
    {
     "name": "stdout",
     "output_type": "stream",
     "text": [
      "index_parallel='0274'\n"
     ]
    },
    {
     "name": "stderr",
     "output_type": "stream",
     "text": [
      "\u001b[32m[I 2022-08-16 09:05:40,017]\u001b[0m Trial 274 finished with value: 6948.882352941177 and parameters: {'kErase': 3, 'kRadius': 2, 'kAnnealingA': -1.2659575122135651, 'kAnnealingB': 2.602096844983599, 'kAnnealingStart': 39.38028784235408, 'kSkipRatio': 0.7016548500344986, 'kTargetDeterminationTrials': 13, 'kAttractionRatio': 0.0355858962550774, 'kMaxAttractionDistance': 92, 'kStartAttraction': 0.005010482656658063}. Best is trial 216 with value: 7023.15294117647.\u001b[0m\n"
     ]
    },
    {
     "name": "stdout",
     "output_type": "stream",
     "text": [
      "index_parallel='0276'\n"
     ]
    },
    {
     "name": "stderr",
     "output_type": "stream",
     "text": [
      "\u001b[32m[I 2022-08-16 09:09:01,960]\u001b[0m Trial 276 finished with value: 6948.3117647058825 and parameters: {'kErase': 3, 'kRadius': 2, 'kAnnealingA': 1.740007363364834, 'kAnnealingB': 2.7234465998926822, 'kAnnealingStart': 28.518963466469955, 'kSkipRatio': 0.7066832979520039, 'kTargetDeterminationTrials': 13, 'kAttractionRatio': 0.047617704878408544, 'kMaxAttractionDistance': 92, 'kStartAttraction': 0.0037800015214967566}. Best is trial 216 with value: 7023.15294117647.\u001b[0m\n"
     ]
    },
    {
     "name": "stdout",
     "output_type": "stream",
     "text": [
      "index_parallel='0278'\n"
     ]
    },
    {
     "name": "stderr",
     "output_type": "stream",
     "text": [
      "\u001b[32m[I 2022-08-16 09:12:24,046]\u001b[0m Trial 278 finished with value: 6960.076470588236 and parameters: {'kErase': 3, 'kRadius': 2, 'kAnnealingA': 1.070815454600811, 'kAnnealingB': 2.561297542833733, 'kAnnealingStart': 32.98556583132848, 'kSkipRatio': 0.69273615109293, 'kTargetDeterminationTrials': 11, 'kAttractionRatio': 0.04238778874102994, 'kMaxAttractionDistance': 86, 'kStartAttraction': 0.004666118396377139}. Best is trial 216 with value: 7023.15294117647.\u001b[0m\n"
     ]
    },
    {
     "name": "stdout",
     "output_type": "stream",
     "text": [
      "index_parallel='0280'\n"
     ]
    },
    {
     "name": "stderr",
     "output_type": "stream",
     "text": [
      "\u001b[32m[I 2022-08-16 09:15:45,941]\u001b[0m Trial 280 finished with value: 6807.6882352941175 and parameters: {'kErase': 3, 'kRadius': 2, 'kAnnealingA': -0.5619345393066841, 'kAnnealingB': 2.664645659089557, 'kAnnealingStart': 15.415500490630606, 'kSkipRatio': 0.6500430073845254, 'kTargetDeterminationTrials': 15, 'kAttractionRatio': 0.05823771979241887, 'kMaxAttractionDistance': 80, 'kStartAttraction': 0.006472273818323227}. Best is trial 216 with value: 7023.15294117647.\u001b[0m\n"
     ]
    },
    {
     "name": "stdout",
     "output_type": "stream",
     "text": [
      "index_parallel='0282'\n"
     ]
    },
    {
     "name": "stderr",
     "output_type": "stream",
     "text": [
      "\u001b[32m[I 2022-08-16 09:19:08,080]\u001b[0m Trial 282 finished with value: 6951.476470588235 and parameters: {'kErase': 3, 'kRadius': 2, 'kAnnealingA': 0.31835297736905266, 'kAnnealingB': 2.3489017538426147, 'kAnnealingStart': 39.94995080982258, 'kSkipRatio': 0.6317064443330977, 'kTargetDeterminationTrials': 14, 'kAttractionRatio': 0.03760645950921208, 'kMaxAttractionDistance': 94, 'kStartAttraction': 0.003717340372914018}. Best is trial 216 with value: 7023.15294117647.\u001b[0m\n"
     ]
    },
    {
     "name": "stdout",
     "output_type": "stream",
     "text": [
      "index_parallel='0284'\n"
     ]
    },
    {
     "name": "stderr",
     "output_type": "stream",
     "text": [
      "\u001b[32m[I 2022-08-16 09:22:30,267]\u001b[0m Trial 284 finished with value: 6957.117647058823 and parameters: {'kErase': 3, 'kRadius': 2, 'kAnnealingA': -0.982030942094948, 'kAnnealingB': 2.4556630915859463, 'kAnnealingStart': 46.36470516404208, 'kSkipRatio': 0.7244646954351193, 'kTargetDeterminationTrials': 13, 'kAttractionRatio': 0.028590998736159494, 'kMaxAttractionDistance': 85, 'kStartAttraction': 0.003036754380780217}. Best is trial 216 with value: 7023.15294117647.\u001b[0m\n"
     ]
    },
    {
     "name": "stdout",
     "output_type": "stream",
     "text": [
      "index_parallel='0286'\n"
     ]
    },
    {
     "name": "stderr",
     "output_type": "stream",
     "text": [
      "\u001b[32m[I 2022-08-16 09:25:52,109]\u001b[0m Trial 286 finished with value: 6942.629411764706 and parameters: {'kErase': 3, 'kRadius': 4, 'kAnnealingA': -1.4468555535774414, 'kAnnealingB': 2.516389660850257, 'kAnnealingStart': 54.58128319537441, 'kSkipRatio': 0.696854890450695, 'kTargetDeterminationTrials': 11, 'kAttractionRatio': 0.034402191827707464, 'kMaxAttractionDistance': 79, 'kStartAttraction': 0.004213999774526395}. Best is trial 216 with value: 7023.15294117647.\u001b[0m\n"
     ]
    },
    {
     "name": "stdout",
     "output_type": "stream",
     "text": [
      "index_parallel='0288'\n"
     ]
    },
    {
     "name": "stderr",
     "output_type": "stream",
     "text": [
      "\u001b[32m[I 2022-08-16 09:29:14,446]\u001b[0m Trial 288 finished with value: 6926.170588235294 and parameters: {'kErase': 3, 'kRadius': 2, 'kAnnealingA': -1.3750689388899897, 'kAnnealingB': 2.4048052785647385, 'kAnnealingStart': 26.15955656636724, 'kSkipRatio': 0.6739157788181943, 'kTargetDeterminationTrials': 13, 'kAttractionRatio': 0.025300709565850295, 'kMaxAttractionDistance': 93, 'kStartAttraction': 0.48708050211823833}. Best is trial 216 with value: 7023.15294117647.\u001b[0m\n"
     ]
    },
    {
     "name": "stdout",
     "output_type": "stream",
     "text": [
      "index_parallel='0290'\n"
     ]
    },
    {
     "name": "stderr",
     "output_type": "stream",
     "text": [
      "\u001b[32m[I 2022-08-16 09:32:36,422]\u001b[0m Trial 290 finished with value: 6975.252941176471 and parameters: {'kErase': 3, 'kRadius': 2, 'kAnnealingA': -0.8775208969076456, 'kAnnealingB': 2.635711466339844, 'kAnnealingStart': 49.03484189997619, 'kSkipRatio': 0.6820744241319586, 'kTargetDeterminationTrials': 10, 'kAttractionRatio': 0.03333475032337479, 'kMaxAttractionDistance': 88, 'kStartAttraction': 0.13998016220359488}. Best is trial 216 with value: 7023.15294117647.\u001b[0m\n"
     ]
    },
    {
     "name": "stdout",
     "output_type": "stream",
     "text": [
      "index_parallel='0292'\n"
     ]
    },
    {
     "name": "stderr",
     "output_type": "stream",
     "text": [
      "\u001b[32m[I 2022-08-16 09:35:58,619]\u001b[0m Trial 292 finished with value: 6963.823529411765 and parameters: {'kErase': 3, 'kRadius': 2, 'kAnnealingA': -0.0624296735353671, 'kAnnealingB': 2.321910238111815, 'kAnnealingStart': 56.926909406300545, 'kSkipRatio': 0.6956320195172465, 'kTargetDeterminationTrials': 14, 'kAttractionRatio': 0.0533341787616731, 'kMaxAttractionDistance': 98, 'kStartAttraction': 0.006871379661252523}. Best is trial 216 with value: 7023.15294117647.\u001b[0m\n"
     ]
    },
    {
     "name": "stdout",
     "output_type": "stream",
     "text": [
      "index_parallel='0294'\n"
     ]
    },
    {
     "name": "stderr",
     "output_type": "stream",
     "text": [
      "\u001b[32m[I 2022-08-16 09:39:21,059]\u001b[0m Trial 294 finished with value: 6976.005882352942 and parameters: {'kErase': 3, 'kRadius': 2, 'kAnnealingA': 0.7120065245166005, 'kAnnealingB': 2.5297551546167307, 'kAnnealingStart': 34.942258231309694, 'kSkipRatio': 0.7112431457797738, 'kTargetDeterminationTrials': 15, 'kAttractionRatio': 0.04097272747957667, 'kMaxAttractionDistance': 85, 'kStartAttraction': 0.0022029715651918757}. Best is trial 216 with value: 7023.15294117647.\u001b[0m\n"
     ]
    },
    {
     "name": "stdout",
     "output_type": "stream",
     "text": [
      "index_parallel='0296'\n"
     ]
    },
    {
     "name": "stderr",
     "output_type": "stream",
     "text": [
      "\u001b[32m[I 2022-08-16 09:42:43,077]\u001b[0m Trial 296 finished with value: 6945.829411764706 and parameters: {'kErase': 3, 'kRadius': 2, 'kAnnealingA': -0.9747278308428655, 'kAnnealingB': 2.49899307873102, 'kAnnealingStart': 42.586103549650765, 'kSkipRatio': 0.6580772392580415, 'kTargetDeterminationTrials': 13, 'kAttractionRatio': 0.04565776379674611, 'kMaxAttractionDistance': 78, 'kStartAttraction': 0.07717340876646336}. Best is trial 216 with value: 7023.15294117647.\u001b[0m\n"
     ]
    },
    {
     "name": "stdout",
     "output_type": "stream",
     "text": [
      "index_parallel='0298'\n"
     ]
    },
    {
     "name": "stderr",
     "output_type": "stream",
     "text": [
      "\u001b[32m[I 2022-08-16 09:46:05,210]\u001b[0m Trial 298 finished with value: 6959.7 and parameters: {'kErase': 3, 'kRadius': 2, 'kAnnealingA': -1.3844060987499565, 'kAnnealingB': 2.5743158970037254, 'kAnnealingStart': 52.754786827602516, 'kSkipRatio': 0.73139688773579, 'kTargetDeterminationTrials': 12, 'kAttractionRatio': 0.032399064482314784, 'kMaxAttractionDistance': 91, 'kStartAttraction': 0.01716131902128205}. Best is trial 216 with value: 7023.15294117647.\u001b[0m\n"
     ]
    },
    {
     "name": "stdout",
     "output_type": "stream",
     "text": [
      "index_parallel='0300'\n"
     ]
    },
    {
     "name": "stderr",
     "output_type": "stream",
     "text": [
      "\u001b[32m[I 2022-08-16 09:49:27,380]\u001b[0m Trial 300 finished with value: 6961.2235294117645 and parameters: {'kErase': 3, 'kRadius': 2, 'kAnnealingA': -0.3088173688065323, 'kAnnealingB': 2.393926284354053, 'kAnnealingStart': 46.7574072816939, 'kSkipRatio': 0.6681455727586444, 'kTargetDeterminationTrials': 15, 'kAttractionRatio': 0.040002910954364646, 'kMaxAttractionDistance': 88, 'kStartAttraction': 0.09464059917255599}. Best is trial 216 with value: 7023.15294117647.\u001b[0m\n"
     ]
    },
    {
     "name": "stdout",
     "output_type": "stream",
     "text": [
      "index_parallel='0302'\n"
     ]
    },
    {
     "name": "stderr",
     "output_type": "stream",
     "text": [
      "\u001b[32m[I 2022-08-16 09:52:49,533]\u001b[0m Trial 302 finished with value: 6960.135294117647 and parameters: {'kErase': 3, 'kRadius': 2, 'kAnnealingA': -1.8358076662730607, 'kAnnealingB': 2.3695250808028248, 'kAnnealingStart': 58.83899036504541, 'kSkipRatio': 0.6980884606311185, 'kTargetDeterminationTrials': 16, 'kAttractionRatio': 0.03608864194227353, 'kMaxAttractionDistance': 73, 'kStartAttraction': 0.004760110909145488}. Best is trial 216 with value: 7023.15294117647.\u001b[0m\n"
     ]
    },
    {
     "name": "stdout",
     "output_type": "stream",
     "text": [
      "index_parallel='0304'\n"
     ]
    },
    {
     "name": "stderr",
     "output_type": "stream",
     "text": [
      "\u001b[32m[I 2022-08-16 09:56:11,349]\u001b[0m Trial 304 finished with value: 6870.829411764706 and parameters: {'kErase': 3, 'kRadius': 2, 'kAnnealingA': 2.5526374256636752, 'kAnnealingB': 2.4419705697472027, 'kAnnealingStart': 60.54809361177543, 'kSkipRatio': 0.7505236447252442, 'kTargetDeterminationTrials': 14, 'kAttractionRatio': 0.038528209650202566, 'kMaxAttractionDistance': 94, 'kStartAttraction': 0.0056633338169905355}. Best is trial 216 with value: 7023.15294117647.\u001b[0m\n"
     ]
    },
    {
     "name": "stdout",
     "output_type": "stream",
     "text": [
      "index_parallel='0306'\n"
     ]
    },
    {
     "name": "stderr",
     "output_type": "stream",
     "text": [
      "\u001b[32m[I 2022-08-16 09:59:33,551]\u001b[0m Trial 306 finished with value: 6942.176470588235 and parameters: {'kErase': 3, 'kRadius': 2, 'kAnnealingA': -0.9328829574295696, 'kAnnealingB': 2.256904651255022, 'kAnnealingStart': 52.336182466143754, 'kSkipRatio': 0.7185850935166171, 'kTargetDeterminationTrials': 15, 'kAttractionRatio': 0.046825242969216425, 'kMaxAttractionDistance': 82, 'kStartAttraction': 0.0016963952046478508}. Best is trial 216 with value: 7023.15294117647.\u001b[0m\n"
     ]
    },
    {
     "name": "stdout",
     "output_type": "stream",
     "text": [
      "index_parallel='0308'\n"
     ]
    },
    {
     "name": "stderr",
     "output_type": "stream",
     "text": [
      "\u001b[32m[I 2022-08-16 10:02:55,696]\u001b[0m Trial 308 finished with value: 6928.770588235294 and parameters: {'kErase': 3, 'kRadius': 2, 'kAnnealingA': 0.9808949585138169, 'kAnnealingB': 2.5043963475561717, 'kAnnealingStart': 30.538755978585943, 'kSkipRatio': 0.6792707890294502, 'kTargetDeterminationTrials': 13, 'kAttractionRatio': 0.028912008674848586, 'kMaxAttractionDistance': 76, 'kStartAttraction': 0.004335359612770416}. Best is trial 216 with value: 7023.15294117647.\u001b[0m\n"
     ]
    },
    {
     "name": "stdout",
     "output_type": "stream",
     "text": [
      "index_parallel='0310'\n"
     ]
    },
    {
     "name": "stderr",
     "output_type": "stream",
     "text": [
      "\u001b[32m[I 2022-08-16 10:06:17,966]\u001b[0m Trial 310 finished with value: 6948.047058823529 and parameters: {'kErase': 3, 'kRadius': 2, 'kAnnealingA': 0.006495115555431613, 'kAnnealingB': 2.5859191520831555, 'kAnnealingStart': 48.85246444207025, 'kSkipRatio': 0.7093180853398884, 'kTargetDeterminationTrials': 12, 'kAttractionRatio': 0.04141595844459153, 'kMaxAttractionDistance': 94, 'kStartAttraction': 0.05816771011135736}. Best is trial 216 with value: 7023.15294117647.\u001b[0m\n"
     ]
    },
    {
     "name": "stdout",
     "output_type": "stream",
     "text": [
      "index_parallel='0312'\n"
     ]
    },
    {
     "name": "stderr",
     "output_type": "stream",
     "text": [
      "\u001b[32m[I 2022-08-16 10:09:40,230]\u001b[0m Trial 312 finished with value: 6944.6882352941175 and parameters: {'kErase': 3, 'kRadius': 2, 'kAnnealingA': -0.9530232970175394, 'kAnnealingB': 2.425555258568763, 'kAnnealingStart': 42.56923248946776, 'kSkipRatio': 0.7032024180658165, 'kTargetDeterminationTrials': 16, 'kAttractionRatio': 0.034590762568796146, 'kMaxAttractionDistance': 8, 'kStartAttraction': 0.006449125763866884}. Best is trial 216 with value: 7023.15294117647.\u001b[0m\n"
     ]
    },
    {
     "name": "stdout",
     "output_type": "stream",
     "text": [
      "index_parallel='0314'\n"
     ]
    },
    {
     "name": "stderr",
     "output_type": "stream",
     "text": [
      "\u001b[32m[I 2022-08-16 10:13:02,437]\u001b[0m Trial 314 finished with value: 6975.623529411765 and parameters: {'kErase': 3, 'kRadius': 2, 'kAnnealingA': -2.008887569286093, 'kAnnealingB': 2.3262357892979817, 'kAnnealingStart': 61.53845392517189, 'kSkipRatio': 0.6493657803120023, 'kTargetDeterminationTrials': 14, 'kAttractionRatio': 0.03810401336763009, 'kMaxAttractionDistance': 99, 'kStartAttraction': 0.00270744228151328}. Best is trial 216 with value: 7023.15294117647.\u001b[0m\n"
     ]
    },
    {
     "name": "stdout",
     "output_type": "stream",
     "text": [
      "index_parallel='0316'\n"
     ]
    },
    {
     "name": "stderr",
     "output_type": "stream",
     "text": [
      "\u001b[32m[I 2022-08-16 10:16:24,853]\u001b[0m Trial 316 finished with value: 6933.617647058823 and parameters: {'kErase': 3, 'kRadius': 2, 'kAnnealingA': -0.5011810523457602, 'kAnnealingB': 2.4713354162180976, 'kAnnealingStart': 54.682354436604996, 'kSkipRatio': 0.723339554636962, 'kTargetDeterminationTrials': 17, 'kAttractionRatio': 0.03187869767515285, 'kMaxAttractionDistance': 88, 'kStartAttraction': 0.005058426855052203}. Best is trial 216 with value: 7023.15294117647.\u001b[0m\n"
     ]
    },
    {
     "name": "stdout",
     "output_type": "stream",
     "text": [
      "index_parallel='0318'\n"
     ]
    },
    {
     "name": "stderr",
     "output_type": "stream",
     "text": [
      "\u001b[32m[I 2022-08-16 10:19:46,976]\u001b[0m Trial 318 finished with value: 6968.3 and parameters: {'kErase': 3, 'kRadius': 2, 'kAnnealingA': -2.1371247635357644, 'kAnnealingB': 2.247235861302389, 'kAnnealingStart': 64.13520622461132, 'kSkipRatio': 0.7358168113770984, 'kTargetDeterminationTrials': 15, 'kAttractionRatio': 0.0598604022038832, 'kMaxAttractionDistance': 4, 'kStartAttraction': 0.2515915830315702}. Best is trial 216 with value: 7023.15294117647.\u001b[0m\n"
     ]
    },
    {
     "name": "stdout",
     "output_type": "stream",
     "text": [
      "index_parallel='0320'\n"
     ]
    },
    {
     "name": "stderr",
     "output_type": "stream",
     "text": [
      "\u001b[32m[I 2022-08-16 10:23:09,540]\u001b[0m Trial 320 finished with value: 6983.641176470588 and parameters: {'kErase': 3, 'kRadius': 2, 'kAnnealingA': -1.5598781969167965, 'kAnnealingB': 2.303554239722991, 'kAnnealingStart': 64.4850856578186, 'kSkipRatio': 0.7300611545295219, 'kTargetDeterminationTrials': 17, 'kAttractionRatio': 0.050550106288616295, 'kMaxAttractionDistance': 79, 'kStartAttraction': 0.35614428707176854}. Best is trial 216 with value: 7023.15294117647.\u001b[0m\n"
     ]
    },
    {
     "name": "stdout",
     "output_type": "stream",
     "text": [
      "index_parallel='0322'\n"
     ]
    },
    {
     "name": "stderr",
     "output_type": "stream",
     "text": [
      "\u001b[32m[I 2022-08-16 10:26:31,896]\u001b[0m Trial 322 finished with value: 6977.511764705882 and parameters: {'kErase': 3, 'kRadius': 2, 'kAnnealingA': -1.3921429473600195, 'kAnnealingB': 2.194682757259714, 'kAnnealingStart': 58.47384183252675, 'kSkipRatio': 0.6871617888377286, 'kTargetDeterminationTrials': 17, 'kAttractionRatio': 0.07180577834284584, 'kMaxAttractionDistance': 80, 'kStartAttraction': 0.32627224109841296}. Best is trial 216 with value: 7023.15294117647.\u001b[0m\n"
     ]
    },
    {
     "name": "stdout",
     "output_type": "stream",
     "text": [
      "index_parallel='0324'\n"
     ]
    },
    {
     "name": "stderr",
     "output_type": "stream",
     "text": [
      "\u001b[32m[I 2022-08-16 10:29:54,140]\u001b[0m Trial 324 finished with value: 6967.435294117647 and parameters: {'kErase': 3, 'kRadius': 2, 'kAnnealingA': -2.591900206343901, 'kAnnealingB': 2.264466700803547, 'kAnnealingStart': 64.60556726893034, 'kSkipRatio': 0.6686322103332543, 'kTargetDeterminationTrials': 18, 'kAttractionRatio': 0.05113820445854146, 'kMaxAttractionDistance': 87, 'kStartAttraction': 0.2662524762192495}. Best is trial 216 with value: 7023.15294117647.\u001b[0m\n"
     ]
    },
    {
     "name": "stdout",
     "output_type": "stream",
     "text": [
      "index_parallel='0326'\n"
     ]
    },
    {
     "name": "stderr",
     "output_type": "stream",
     "text": [
      "\u001b[32m[I 2022-08-16 10:33:16,247]\u001b[0m Trial 326 finished with value: 6713.952941176471 and parameters: {'kErase': 3, 'kRadius': 2, 'kAnnealingA': -13.120798033186293, 'kAnnealingB': 2.38390729176975, 'kAnnealingStart': 54.74486821559358, 'kSkipRatio': 0.713561868683504, 'kTargetDeterminationTrials': 16, 'kAttractionRatio': 0.055899615347813805, 'kMaxAttractionDistance': 67, 'kStartAttraction': 0.19873225225702965}. Best is trial 216 with value: 7023.15294117647.\u001b[0m\n"
     ]
    },
    {
     "name": "stdout",
     "output_type": "stream",
     "text": [
      "index_parallel='0328'\n"
     ]
    },
    {
     "name": "stderr",
     "output_type": "stream",
     "text": [
      "\u001b[32m[I 2022-08-16 10:36:39,359]\u001b[0m Trial 328 finished with value: 7008.329411764706 and parameters: {'kErase': 3, 'kRadius': 2, 'kAnnealingA': -1.0163464477888036, 'kAnnealingB': 2.415871532754173, 'kAnnealingStart': 51.050567118371035, 'kSkipRatio': 0.6912857498922147, 'kTargetDeterminationTrials': 19, 'kAttractionRatio': 0.048042960040809435, 'kMaxAttractionDistance': 89, 'kStartAttraction': 0.4594933195603389}. Best is trial 216 with value: 7023.15294117647.\u001b[0m\n"
     ]
    },
    {
     "name": "stdout",
     "output_type": "stream",
     "text": [
      "index_parallel='0330'\n"
     ]
    },
    {
     "name": "stderr",
     "output_type": "stream",
     "text": [
      "\u001b[32m[I 2022-08-16 10:40:02,065]\u001b[0m Trial 330 finished with value: 6991.623529411765 and parameters: {'kErase': 3, 'kRadius': 2, 'kAnnealingA': -1.7463287648411494, 'kAnnealingB': 2.3300681859386354, 'kAnnealingStart': 50.579847245018236, 'kSkipRatio': 0.6863939009897032, 'kTargetDeterminationTrials': 20, 'kAttractionRatio': 0.051398276724839424, 'kMaxAttractionDistance': 10, 'kStartAttraction': 0.606699500204466}. Best is trial 216 with value: 7023.15294117647.\u001b[0m\n"
     ]
    },
    {
     "name": "stdout",
     "output_type": "stream",
     "text": [
      "index_parallel='0332'\n"
     ]
    },
    {
     "name": "stderr",
     "output_type": "stream",
     "text": [
      "\u001b[32m[I 2022-08-16 10:43:24,792]\u001b[0m Trial 332 finished with value: 6980.5 and parameters: {'kErase': 3, 'kRadius': 2, 'kAnnealingA': -2.2226408967106206, 'kAnnealingB': 2.223898373587571, 'kAnnealingStart': 59.254011087747216, 'kSkipRatio': 0.6593244604684405, 'kTargetDeterminationTrials': 20, 'kAttractionRatio': 0.0507600094760308, 'kMaxAttractionDistance': 10, 'kStartAttraction': 0.6003339945141494}. Best is trial 216 with value: 7023.15294117647.\u001b[0m\n"
     ]
    },
    {
     "name": "stdout",
     "output_type": "stream",
     "text": [
      "index_parallel='0334'\n"
     ]
    },
    {
     "name": "stderr",
     "output_type": "stream",
     "text": [
      "\u001b[32m[I 2022-08-16 10:46:46,682]\u001b[0m Trial 334 finished with value: 6907.6 and parameters: {'kErase': 3, 'kRadius': 2, 'kAnnealingA': -3.186114249355894, 'kAnnealingB': 2.346178406049726, 'kAnnealingStart': 51.51321933818196, 'kSkipRatio': 0.7134186340152572, 'kTargetDeterminationTrials': 19, 'kAttractionRatio': 0.06473704044411208, 'kMaxAttractionDistance': 7, 'kStartAttraction': 0.6730279709816974}. Best is trial 216 with value: 7023.15294117647.\u001b[0m\n"
     ]
    },
    {
     "name": "stdout",
     "output_type": "stream",
     "text": [
      "index_parallel='0336'\n"
     ]
    },
    {
     "name": "stderr",
     "output_type": "stream",
     "text": [
      "\u001b[32m[I 2022-08-16 10:50:09,437]\u001b[0m Trial 336 finished with value: 6986.105882352941 and parameters: {'kErase': 3, 'kRadius': 2, 'kAnnealingA': -0.724593644731057, 'kAnnealingB': 2.402352851944136, 'kAnnealingStart': 70.794105975751, 'kSkipRatio': 0.6755538023605047, 'kTargetDeterminationTrials': 20, 'kAttractionRatio': 0.051547938166742455, 'kMaxAttractionDistance': 9, 'kStartAttraction': 0.6190896621654767}. Best is trial 216 with value: 7023.15294117647.\u001b[0m\n"
     ]
    },
    {
     "name": "stdout",
     "output_type": "stream",
     "text": [
      "index_parallel='0338'\n"
     ]
    },
    {
     "name": "stderr",
     "output_type": "stream",
     "text": [
      "\u001b[32m[I 2022-08-16 10:53:32,034]\u001b[0m Trial 338 finished with value: 6898.364705882353 and parameters: {'kErase': 3, 'kRadius': 2, 'kAnnealingA': -0.5833962774962421, 'kAnnealingB': 2.4877289756689835, 'kAnnealingStart': 78.7469327860784, 'kSkipRatio': 0.6761581305902405, 'kTargetDeterminationTrials': 20, 'kAttractionRatio': 0.04579364223688908, 'kMaxAttractionDistance': 9, 'kStartAttraction': 0.7307031053139}. Best is trial 216 with value: 7023.15294117647.\u001b[0m\n"
     ]
    },
    {
     "name": "stdout",
     "output_type": "stream",
     "text": [
      "index_parallel='0340'\n"
     ]
    },
    {
     "name": "stderr",
     "output_type": "stream",
     "text": [
      "\u001b[32m[I 2022-08-16 10:56:54,074]\u001b[0m Trial 340 finished with value: 6963.34705882353 and parameters: {'kErase': 3, 'kRadius': 2, 'kAnnealingA': -0.5182345449417348, 'kAnnealingB': 2.4102034355694504, 'kAnnealingStart': 57.23108429303861, 'kSkipRatio': 0.6631469579576188, 'kTargetDeterminationTrials': 19, 'kAttractionRatio': 0.09448890807858194, 'kMaxAttractionDistance': 8, 'kStartAttraction': 0.45524860819048374}. Best is trial 216 with value: 7023.15294117647.\u001b[0m\n"
     ]
    },
    {
     "name": "stdout",
     "output_type": "stream",
     "text": [
      "index_parallel='0342'\n"
     ]
    },
    {
     "name": "stderr",
     "output_type": "stream",
     "text": [
      "\u001b[32m[I 2022-08-16 11:00:16,255]\u001b[0m Trial 342 finished with value: 7009.905882352941 and parameters: {'kErase': 3, 'kRadius': 2, 'kAnnealingA': -1.0852981455804853, 'kAnnealingB': 2.5196633247467113, 'kAnnealingStart': 47.0303267285978, 'kSkipRatio': 0.6462976522675404, 'kTargetDeterminationTrials': 20, 'kAttractionRatio': 0.11315781466074311, 'kMaxAttractionDistance': 10, 'kStartAttraction': 0.4953121984942151}. Best is trial 216 with value: 7023.15294117647.\u001b[0m\n"
     ]
    },
    {
     "name": "stdout",
     "output_type": "stream",
     "text": [
      "index_parallel='0344'\n"
     ]
    },
    {
     "name": "stderr",
     "output_type": "stream",
     "text": [
      "\u001b[32m[I 2022-08-16 11:03:38,883]\u001b[0m Trial 344 finished with value: 6989.3117647058825 and parameters: {'kErase': 3, 'kRadius': 2, 'kAnnealingA': -1.0721187146190168, 'kAnnealingB': 2.5245874285817393, 'kAnnealingStart': 46.65899862293557, 'kSkipRatio': 0.6332969655033192, 'kTargetDeterminationTrials': 17, 'kAttractionRatio': 0.12928869736119938, 'kMaxAttractionDistance': 10, 'kStartAttraction': 0.5332793064102261}. Best is trial 216 with value: 7023.15294117647.\u001b[0m\n"
     ]
    },
    {
     "name": "stdout",
     "output_type": "stream",
     "text": [
      "index_parallel='0346'\n"
     ]
    },
    {
     "name": "stderr",
     "output_type": "stream",
     "text": [
      "\u001b[32m[I 2022-08-16 11:07:01,311]\u001b[0m Trial 346 finished with value: 6968.023529411765 and parameters: {'kErase': 3, 'kRadius': 2, 'kAnnealingA': -0.09652696595842691, 'kAnnealingB': 2.533440575512687, 'kAnnealingStart': 44.10679573983488, 'kSkipRatio': 0.6302088459712101, 'kTargetDeterminationTrials': 17, 'kAttractionRatio': 0.11489797616671775, 'kMaxAttractionDistance': 10, 'kStartAttraction': 0.5011254752353854}. Best is trial 216 with value: 7023.15294117647.\u001b[0m\n"
     ]
    },
    {
     "name": "stdout",
     "output_type": "stream",
     "text": [
      "index_parallel='0348'\n"
     ]
    },
    {
     "name": "stderr",
     "output_type": "stream",
     "text": [
      "\u001b[32m[I 2022-08-16 11:10:23,308]\u001b[0m Trial 348 finished with value: 6983.364705882353 and parameters: {'kErase': 3, 'kRadius': 2, 'kAnnealingA': 0.11434771226664198, 'kAnnealingB': 2.545158126344119, 'kAnnealingStart': 49.523118050073485, 'kSkipRatio': 0.6236528835034479, 'kTargetDeterminationTrials': 16, 'kAttractionRatio': 0.1322086860128412, 'kMaxAttractionDistance': 10, 'kStartAttraction': 0.5991828618301887}. Best is trial 216 with value: 7023.15294117647.\u001b[0m\n"
     ]
    },
    {
     "name": "stdout",
     "output_type": "stream",
     "text": [
      "index_parallel='0350'\n"
     ]
    },
    {
     "name": "stderr",
     "output_type": "stream",
     "text": [
      "\u001b[32m[I 2022-08-16 11:13:45,796]\u001b[0m Trial 350 finished with value: 7008.2411764705885 and parameters: {'kErase': 3, 'kRadius': 2, 'kAnnealingA': 0.381941906166976, 'kAnnealingB': 2.4807509468327353, 'kAnnealingStart': 50.1312126817031, 'kSkipRatio': 0.6391111388726396, 'kTargetDeterminationTrials': 18, 'kAttractionRatio': 0.11843007848082877, 'kMaxAttractionDistance': 10, 'kStartAttraction': 0.6060422156397557}. Best is trial 216 with value: 7023.15294117647.\u001b[0m\n"
     ]
    },
    {
     "name": "stdout",
     "output_type": "stream",
     "text": [
      "index_parallel='0352'\n"
     ]
    },
    {
     "name": "stderr",
     "output_type": "stream",
     "text": [
      "\u001b[32m[I 2022-08-16 11:17:08,281]\u001b[0m Trial 352 finished with value: 6981.458823529411 and parameters: {'kErase': 3, 'kRadius': 2, 'kAnnealingA': -0.9680408870709105, 'kAnnealingB': 2.4879510625471033, 'kAnnealingStart': 51.93459689284656, 'kSkipRatio': 0.6428948696274878, 'kTargetDeterminationTrials': 18, 'kAttractionRatio': 0.1508737998481702, 'kMaxAttractionDistance': 10, 'kStartAttraction': 0.7732382770362567}. Best is trial 216 with value: 7023.15294117647.\u001b[0m\n"
     ]
    },
    {
     "name": "stdout",
     "output_type": "stream",
     "text": [
      "index_parallel='0354'\n"
     ]
    },
    {
     "name": "stderr",
     "output_type": "stream",
     "text": [
      "\u001b[32m[I 2022-08-16 11:20:30,305]\u001b[0m Trial 354 finished with value: 6956.064705882353 and parameters: {'kErase': 3, 'kRadius': 2, 'kAnnealingA': -0.36097136101948524, 'kAnnealingB': 2.498752283687323, 'kAnnealingStart': 45.51118841190549, 'kSkipRatio': 0.6444931257740983, 'kTargetDeterminationTrials': 19, 'kAttractionRatio': 0.12691868876929668, 'kMaxAttractionDistance': 12, 'kStartAttraction': 0.6568205130090975}. Best is trial 216 with value: 7023.15294117647.\u001b[0m\n"
     ]
    },
    {
     "name": "stdout",
     "output_type": "stream",
     "text": [
      "index_parallel='0356'\n"
     ]
    },
    {
     "name": "stderr",
     "output_type": "stream",
     "text": [
      "\u001b[32m[I 2022-08-16 11:23:52,255]\u001b[0m Trial 356 finished with value: 6882.670588235294 and parameters: {'kErase': 3, 'kRadius': 2, 'kAnnealingA': 1.7577332803030443, 'kAnnealingB': 2.587824237752182, 'kAnnealingStart': 53.952332385261315, 'kSkipRatio': 0.6184003435856321, 'kTargetDeterminationTrials': 17, 'kAttractionRatio': 0.10897400007301222, 'kMaxAttractionDistance': 12, 'kStartAttraction': 0.7204428209793483}. Best is trial 216 with value: 7023.15294117647.\u001b[0m\n"
     ]
    },
    {
     "name": "stdout",
     "output_type": "stream",
     "text": [
      "index_parallel='0358'\n"
     ]
    },
    {
     "name": "stderr",
     "output_type": "stream",
     "text": [
      "\u001b[32m[I 2022-08-16 11:27:14,019]\u001b[0m Trial 358 finished with value: 6958.323529411765 and parameters: {'kErase': 3, 'kRadius': 2, 'kAnnealingA': -2.5025509564525823, 'kAnnealingB': 2.4496492301256505, 'kAnnealingStart': 50.53507444499149, 'kSkipRatio': 0.5957359326172488, 'kTargetDeterminationTrials': 16, 'kAttractionRatio': 0.13488772975767394, 'kMaxAttractionDistance': 99, 'kStartAttraction': 0.5193068907351944}. Best is trial 216 with value: 7023.15294117647.\u001b[0m\n"
     ]
    },
    {
     "name": "stdout",
     "output_type": "stream",
     "text": [
      "index_parallel='0360'\n"
     ]
    },
    {
     "name": "stderr",
     "output_type": "stream",
     "text": [
      "\u001b[32m[I 2022-08-16 11:30:36,110]\u001b[0m Trial 360 finished with value: 6980.970588235294 and parameters: {'kErase': 3, 'kRadius': 2, 'kAnnealingA': -1.9598447401907546, 'kAnnealingB': 2.6064945433471536, 'kAnnealingStart': 54.29910145304856, 'kSkipRatio': 0.6414525098387038, 'kTargetDeterminationTrials': 15, 'kAttractionRatio': 0.11871426300674781, 'kMaxAttractionDistance': 95, 'kStartAttraction': 0.7854171719224682}. Best is trial 216 with value: 7023.15294117647.\u001b[0m\n"
     ]
    },
    {
     "name": "stdout",
     "output_type": "stream",
     "text": [
      "index_parallel='0362'\n"
     ]
    },
    {
     "name": "stderr",
     "output_type": "stream",
     "text": [
      "\u001b[32m[I 2022-08-16 11:33:57,967]\u001b[0m Trial 362 finished with value: 6954.447058823529 and parameters: {'kErase': 3, 'kRadius': 2, 'kAnnealingA': -3.3312279485656253, 'kAnnealingB': 2.624196496762121, 'kAnnealingStart': 59.07319398978956, 'kSkipRatio': 0.5839633039619839, 'kTargetDeterminationTrials': 3, 'kAttractionRatio': 0.15578009251277652, 'kMaxAttractionDistance': 98, 'kStartAttraction': 0.6710911513899543}. Best is trial 216 with value: 7023.15294117647.\u001b[0m\n"
     ]
    },
    {
     "name": "stdout",
     "output_type": "stream",
     "text": [
      "index_parallel='0364'\n"
     ]
    },
    {
     "name": "stderr",
     "output_type": "stream",
     "text": [
      "\u001b[32m[I 2022-08-16 11:37:19,894]\u001b[0m Trial 364 finished with value: 7000.8117647058825 and parameters: {'kErase': 3, 'kRadius': 2, 'kAnnealingA': -1.4996055540394466, 'kAnnealingB': 2.208143396463363, 'kAnnealingStart': 48.49641250054056, 'kSkipRatio': 0.6239930590302895, 'kTargetDeterminationTrials': 20, 'kAttractionRatio': 0.4327881752694113, 'kMaxAttractionDistance': 9, 'kStartAttraction': 0.7284524441684566}. Best is trial 216 with value: 7023.15294117647.\u001b[0m\n"
     ]
    },
    {
     "name": "stdout",
     "output_type": "stream",
     "text": [
      "index_parallel='0366'\n"
     ]
    },
    {
     "name": "stderr",
     "output_type": "stream",
     "text": [
      "\u001b[32m[I 2022-08-16 11:40:42,191]\u001b[0m Trial 366 finished with value: 6995.941176470588 and parameters: {'kErase': 3, 'kRadius': 2, 'kAnnealingA': 0.4505882056012753, 'kAnnealingB': 2.221854062300775, 'kAnnealingStart': 43.675689732347095, 'kSkipRatio': 0.6205369393799184, 'kTargetDeterminationTrials': 20, 'kAttractionRatio': 0.2573599425181003, 'kMaxAttractionDistance': 9, 'kStartAttraction': 0.7289576068468504}. Best is trial 216 with value: 7023.15294117647.\u001b[0m\n"
     ]
    },
    {
     "name": "stdout",
     "output_type": "stream",
     "text": [
      "index_parallel='0368'\n"
     ]
    }
   ],
   "source": [
    "study.optimize(\n",
    "    partial(objective, in_dir=in_dir, work_dir=work_dir),\n",
    "    n_trials=3000,\n",
    "    timeout=86400,\n",
    "    callbacks=[callback]\n",
    ")"
   ]
  },
  {
   "cell_type": "code",
   "execution_count": null,
   "id": "700269d2",
   "metadata": {},
   "outputs": [],
   "source": []
  }
 ],
 "metadata": {
  "kernelspec": {
   "display_name": "Python 3 (ipykernel)",
   "language": "python",
   "name": "python3"
  },
  "language_info": {
   "codemirror_mode": {
    "name": "ipython",
    "version": 3
   },
   "file_extension": ".py",
   "mimetype": "text/x-python",
   "name": "python",
   "nbconvert_exporter": "python",
   "pygments_lexer": "ipython3",
   "version": "3.9.12"
  }
 },
 "nbformat": 4,
 "nbformat_minor": 5
}
