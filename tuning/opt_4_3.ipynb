{
 "cells": [
  {
   "cell_type": "code",
   "execution_count": 1,
   "id": "25a1dac8",
   "metadata": {},
   "outputs": [],
   "source": [
    "import re\n",
    "import sys\n",
    "from uuid import uuid1\n",
    "from time import sleep\n",
    "from pprint import pprint\n",
    "from pathlib import Path\n",
    "from tempfile import gettempdir\n",
    "from threading import Thread\n",
    "from functools import partial\n",
    "from subprocess import Popen, PIPE\n",
    "\n",
    "from tqdm.notebook import tqdm\n",
    "import numpy as np\n",
    "import optuna\n",
    "import pandas as pd\n",
    "import matplotlib.pyplot as plt\n",
    "\n",
    "FILENAME = \"main.cpp\""
   ]
  },
  {
   "cell_type": "code",
   "execution_count": 2,
   "id": "3dd4d02e",
   "metadata": {},
   "outputs": [
    {
     "name": "stdout",
     "output_type": "stream",
     "text": [
      "10 variables were found.\n"
     ]
    },
    {
     "data": {
      "text/html": [
       "<div>\n",
       "<style scoped>\n",
       "    .dataframe tbody tr th:only-of-type {\n",
       "        vertical-align: middle;\n",
       "    }\n",
       "\n",
       "    .dataframe tbody tr th {\n",
       "        vertical-align: top;\n",
       "    }\n",
       "\n",
       "    .dataframe thead th {\n",
       "        text-align: right;\n",
       "    }\n",
       "</style>\n",
       "<table border=\"1\" class=\"dataframe\">\n",
       "  <thead>\n",
       "    <tr style=\"text-align: right;\">\n",
       "      <th></th>\n",
       "      <th>name</th>\n",
       "      <th>method</th>\n",
       "      <th>min</th>\n",
       "      <th>max</th>\n",
       "      <th>log</th>\n",
       "      <th>left</th>\n",
       "      <th>right</th>\n",
       "    </tr>\n",
       "  </thead>\n",
       "  <tbody>\n",
       "    <tr>\n",
       "      <th>0</th>\n",
       "      <td>kErase</td>\n",
       "      <td>suggest_int</td>\n",
       "      <td>1.000</td>\n",
       "      <td>5.0</td>\n",
       "      <td>False</td>\n",
       "      <td>static constexpr auto kErase =</td>\n",
       "      <td>;             // OPTIMIZE [1, 5]</td>\n",
       "    </tr>\n",
       "    <tr>\n",
       "      <th>1</th>\n",
       "      <td>kRadius</td>\n",
       "      <td>suggest_int</td>\n",
       "      <td>2.000</td>\n",
       "      <td>6.0</td>\n",
       "      <td>False</td>\n",
       "      <td>static constexpr auto kRadius =</td>\n",
       "      <td>;            // OPTIMIZE [2, 6]</td>\n",
       "    </tr>\n",
       "    <tr>\n",
       "      <th>2</th>\n",
       "      <td>kAnnealingA</td>\n",
       "      <td>suggest_float</td>\n",
       "      <td>-15.000</td>\n",
       "      <td>15.0</td>\n",
       "      <td>False</td>\n",
       "      <td>static constexpr auto kAnnealingA =</td>\n",
       "      <td>;      // OPTIMIZE [-15.0, 15.0]</td>\n",
       "    </tr>\n",
       "    <tr>\n",
       "      <th>3</th>\n",
       "      <td>kAnnealingB</td>\n",
       "      <td>suggest_float</td>\n",
       "      <td>0.000</td>\n",
       "      <td>3.0</td>\n",
       "      <td>False</td>\n",
       "      <td>static constexpr auto kAnnealingB =</td>\n",
       "      <td>;      // OPTIMIZE [0.0, 3.0]</td>\n",
       "    </tr>\n",
       "    <tr>\n",
       "      <th>4</th>\n",
       "      <td>kAnnealingStart</td>\n",
       "      <td>suggest_float</td>\n",
       "      <td>1.000</td>\n",
       "      <td>100.0</td>\n",
       "      <td>True</td>\n",
       "      <td>static constexpr auto kAnnealingStart =</td>\n",
       "      <td>; // OPTIMIZE LOG [1.0, 100.0]</td>\n",
       "    </tr>\n",
       "    <tr>\n",
       "      <th>5</th>\n",
       "      <td>kSkipRatio</td>\n",
       "      <td>suggest_float</td>\n",
       "      <td>0.200</td>\n",
       "      <td>0.8</td>\n",
       "      <td>False</td>\n",
       "      <td>static constexpr auto kSkipRatio =</td>\n",
       "      <td>;       // OPTIMIZE [0.2, 0.8]</td>\n",
       "    </tr>\n",
       "    <tr>\n",
       "      <th>6</th>\n",
       "      <td>kTargetDeterminationTrials</td>\n",
       "      <td>suggest_int</td>\n",
       "      <td>1.000</td>\n",
       "      <td>20.0</td>\n",
       "      <td>True</td>\n",
       "      <td>static constexpr auto kTargetDeterminationTria...</td>\n",
       "      <td>; // OPTIMIZE LOG [1, 20]</td>\n",
       "    </tr>\n",
       "    <tr>\n",
       "      <th>7</th>\n",
       "      <td>kAttractionRatio</td>\n",
       "      <td>suggest_float</td>\n",
       "      <td>0.010</td>\n",
       "      <td>0.9</td>\n",
       "      <td>True</td>\n",
       "      <td>static constexpr auto kAttractionRatio =</td>\n",
       "      <td>;      // OPTIMIZE LOG [0.01, 0.9]</td>\n",
       "    </tr>\n",
       "    <tr>\n",
       "      <th>8</th>\n",
       "      <td>kMaxAttractionDistance</td>\n",
       "      <td>suggest_int</td>\n",
       "      <td>4.000</td>\n",
       "      <td>99.0</td>\n",
       "      <td>True</td>\n",
       "      <td>static constexpr auto kMaxAttractionDistance =</td>\n",
       "      <td>; // OPTIMIZE LOG [4, 99]</td>\n",
       "    </tr>\n",
       "    <tr>\n",
       "      <th>9</th>\n",
       "      <td>kStartAttraction</td>\n",
       "      <td>suggest_float</td>\n",
       "      <td>0.001</td>\n",
       "      <td>0.9</td>\n",
       "      <td>True</td>\n",
       "      <td>static constexpr auto kStartAttraction =</td>\n",
       "      <td>;     // OPTIMIZE LOG [0.001, 0.9]</td>\n",
       "    </tr>\n",
       "  </tbody>\n",
       "</table>\n",
       "</div>"
      ],
      "text/plain": [
       "                         name         method     min    max    log  \\\n",
       "0                      kErase    suggest_int   1.000    5.0  False   \n",
       "1                     kRadius    suggest_int   2.000    6.0  False   \n",
       "2                 kAnnealingA  suggest_float -15.000   15.0  False   \n",
       "3                 kAnnealingB  suggest_float   0.000    3.0  False   \n",
       "4             kAnnealingStart  suggest_float   1.000  100.0   True   \n",
       "5                  kSkipRatio  suggest_float   0.200    0.8  False   \n",
       "6  kTargetDeterminationTrials    suggest_int   1.000   20.0   True   \n",
       "7            kAttractionRatio  suggest_float   0.010    0.9   True   \n",
       "8      kMaxAttractionDistance    suggest_int   4.000   99.0   True   \n",
       "9            kStartAttraction  suggest_float   0.001    0.9   True   \n",
       "\n",
       "                                                left  \\\n",
       "0                    static constexpr auto kErase =    \n",
       "1                   static constexpr auto kRadius =    \n",
       "2               static constexpr auto kAnnealingA =    \n",
       "3               static constexpr auto kAnnealingB =    \n",
       "4           static constexpr auto kAnnealingStart =    \n",
       "5                static constexpr auto kSkipRatio =    \n",
       "6  static constexpr auto kTargetDeterminationTria...   \n",
       "7          static constexpr auto kAttractionRatio =    \n",
       "8    static constexpr auto kMaxAttractionDistance =    \n",
       "9          static constexpr auto kStartAttraction =    \n",
       "\n",
       "                                right  \n",
       "0    ;             // OPTIMIZE [1, 5]  \n",
       "1     ;            // OPTIMIZE [2, 6]  \n",
       "2    ;      // OPTIMIZE [-15.0, 15.0]  \n",
       "3       ;      // OPTIMIZE [0.0, 3.0]  \n",
       "4      ; // OPTIMIZE LOG [1.0, 100.0]  \n",
       "5      ;       // OPTIMIZE [0.2, 0.8]  \n",
       "6           ; // OPTIMIZE LOG [1, 20]  \n",
       "7  ;      // OPTIMIZE LOG [0.01, 0.9]  \n",
       "8           ; // OPTIMIZE LOG [4, 99]  \n",
       "9  ;     // OPTIMIZE LOG [0.001, 0.9]  "
      ]
     },
     "metadata": {},
     "output_type": "display_data"
    }
   ],
   "source": [
    "# ここでエラー出力は何かおかしいかもしれない\n",
    "\n",
    "\n",
    "# パラメータ抽出\n",
    "with open(FILENAME) as f:\n",
    "    answer = f.read()\n",
    "\n",
    "\n",
    "variables_optimize = []\n",
    "\n",
    "for left, value, right, options in re.findall(r\"^([^/\\n]*=\\s*)(.+?)(\\s*;\\s*//(?:.*\\W)?OPTIMIZE(\\W.*))$\", answer, re.MULTILINE):\n",
    "    name = left.replace(\"=\", \"\").strip().split()[-1]\n",
    "    \n",
    "    searched = re.search(r\".*\\[(?P<min>.*),(?P<max>.*)\\].*\", options)\n",
    "    if searched:\n",
    "        min_value = max_value = None\n",
    "        try:\n",
    "            min_value = eval(searched.group(\"min\"))\n",
    "            max_value = eval(searched.group(\"max\"))\n",
    "            assert min_value <= max_value\n",
    "        except Exception as e:\n",
    "            print(f\"searched={searched}\", file=sys.stderr)\n",
    "            print(e, file=sys.stderr)\n",
    "            continue\n",
    "        log = \"LOG\" in options  # 雑、直したほうが良い\n",
    "        if type(min_value) != type(max_value):\n",
    "            print(f\"searched={searched}\", file=sys.stderr)\n",
    "            print(\"types not matched\", file=sys.stderr)\n",
    "            continue\n",
    "        if isinstance(min_value, int):\n",
    "            method = \"suggest_int\"\n",
    "        elif isinstance(min_value, float):\n",
    "            method = \"suggest_float\"\n",
    "        else:\n",
    "            print(f\"searched={searched}\", file=sys.stderr)\n",
    "            print(f\"unknown type ({type(min_value)})\", file=sys.stderr)\n",
    "            continue\n",
    "        variables_optimize.append({\n",
    "            \"name\": name,\n",
    "            \"method\": method,\n",
    "            \"min\": min_value,\n",
    "            \"max\": max_value,\n",
    "            \"log\": log,\n",
    "            \"left\": left,\n",
    "            \"right\": right,\n",
    "        })\n",
    "    elif searched := re.search(r\".*\\{(?P<choices>.*?)\\}.*\", options):\n",
    "        choices = list(map(lambda x: x.strip(), searched.group(\"choices\").split(\",\")))\n",
    "        variables_optimize.append({\n",
    "            \"name\": name,\n",
    "            \"method\": \"suggest_categorical\",\n",
    "            \"choices\": choices,\n",
    "            \"left\": left,\n",
    "            \"right\": right,\n",
    "        })\n",
    "    else:\n",
    "        print(f\"searched={searched}\", file=sys.stderr)\n",
    "        print(f\"pattern was matched but options are incorrect.\", file=sys.stderr)\n",
    "\n",
    "print(len(variables_optimize), \"variables were found.\")\n",
    "if globals().get(\"pd\"):\n",
    "    display(pd.DataFrame(variables_optimize))\n",
    "else:\n",
    "    pprint(variables_optimize)"
   ]
  },
  {
   "cell_type": "code",
   "execution_count": 3,
   "id": "001042b9",
   "metadata": {},
   "outputs": [],
   "source": [
    "def escape(string):  # 正規表現の中でそのまま使いたい文字列をエスケープ\n",
    "    res = !echo '{string}' | sed -e 's/[]\\/$*.^[]/\\\\&/g'\n",
    "    return res[0]\n",
    "\n",
    "def escape_sed(string):  # sed の置換後の文字列用のエスケープ\n",
    "    res = !echo '{string}' | sed -e 's/[\\/&]/\\\\&/g'\n",
    "    return res[0]\n",
    "\n",
    "def read_stream(name, in_file, out_file):\n",
    "    for line in in_file:\n",
    "        print(f\"[{name}] {line.strip()}\", file=out_file)\n",
    "\n",
    "def run(cmd, name):\n",
    "    proc = Popen(cmd, stdout=PIPE, stderr=PIPE, universal_newlines=True, shell=isinstance(cmd, str))\n",
    "    stdout_thread = Thread(target=read_stream, args=(name, proc.stdout, sys.stdout))\n",
    "    stderr_thread = Thread(target=read_stream, args=(name, proc.stderr, sys.stderr))\n",
    "    stdout_thread.start()\n",
    "    stderr_thread.start()\n",
    "    proc.wait()\n",
    "    return proc\n",
    "\n",
    "def objective(trial, in_dir, work_dir):\n",
    "    n_internal_parallel = 3\n",
    "    \n",
    "    index_parallel = f\"{trial.number:04d}\"\n",
    "    print(f\"{index_parallel=}\")\n",
    "    \n",
    "    work_dir = Path(work_dir)\n",
    "    directory_input = Path(in_dir)  # 中のすべてのファイルに対して実行される\n",
    "    #parameters_changed_filename = Path(gettempdir()) / str(uuid1())\n",
    "    parameters_changed_filename = work_dir / f\"{index_parallel}_{FILENAME}\"\n",
    "    \n",
    "    run([\"mkdir\", f\"{work_dir / index_parallel}_out\"], \"mkdir\")\n",
    "    run([\"mkdir\", f\"{work_dir / index_parallel}_score\"], \"mkdir\")\n",
    "    \n",
    "    # ファイル作成\n",
    "    run(f\"cp {FILENAME} {parameters_changed_filename}\", \"cp\")\n",
    "    sed_options = [f\"-i {parameters_changed_filename}\"]\n",
    "    for variable in variables_optimize:\n",
    "        if variable[\"method\"] == \"suggest_categorical\":\n",
    "            val =  trial.suggest_categorical(variable[\"name\"], variable[\"choices\"])\n",
    "        else:\n",
    "            val = getattr(trial, variable[\"method\"])(variable[\"name\"], variable[\"min\"], variable[\"max\"], log=variable[\"log\"])\n",
    "        left = variable[\"left\"]\n",
    "        right = variable[\"right\"]\n",
    "        sed_options.append(f\"\"\"-e 's/^{escape(left)}.*{escape(right)}$/{escape_sed(left)}{val}{escape_sed(right)}/'\"\"\")\n",
    "    command_sed = f\"sed {' '.join(sed_options)}\"\n",
    "    #print(command_sed)\n",
    "    run(command_sed, \"sed\")\n",
    "    \n",
    "    # コンパイル\n",
    "    command_compile = f\"g++ {parameters_changed_filename} -std=gnu++17 -O2 -DONLINE_JUDGE -o {parameters_changed_filename}.out\"\n",
    "    #print(command_compile)\n",
    "    run(command_compile, \"compile\")\n",
    "    # 実行・採点コマンド (@ はファイル名)\n",
    "    command_exec = (\n",
    "        #f\"./a.out < ./tools/in/{i:04d}.txt > {out_file} && ./tools/target/release/vis ./tools/in/{i:04d}.txt {out_file}\"\n",
    "        #f\"../tools/target/release/tester $(pwd)/{parameters_changed_filename}.out < {directory_input}/@ 2>&1 | grep Score\"\n",
    "        #f\"../tools/target/release/tester $(pwd)/{parameters_changed_filename}.out < {directory_input}/@ 2>&1 | grep Score | sed -E s/[^0-9]+// > ./{index_parallel}_score/@;\"\n",
    "        #f\"cargo run --release --manifest-path ../tools/Cargo.toml --bin tester {directory_input}/@ $(pwd)/{parameters_changed_filename}.out 2>&1 | grep Score | sed -E s/[^0-9]+// > ./{index_parallel}_score/@;\"\n",
    "        f\"./{parameters_changed_filename}.out < {directory_input}/@ > {work_dir / index_parallel}_out/@;\"\n",
    "        f\"../tools/target/release/vis {directory_input}/@ {work_dir / index_parallel}_out/@ 2> /dev/null > {work_dir / index_parallel}_score/@;\"\n",
    "    )\n",
    "    # 並列実行 (sed はパスのディレクトリ部分を消してファイル名にしてる)\n",
    "    run(f\"find {directory_input}/* | sed 's!^.*/!!' | xargs -I@ -P {n_internal_parallel} sh -c '{command_exec}'\", \"exec\")\n",
    "    \n",
    "    # 集計\n",
    "    scores = []\n",
    "    for file_path in Path(f\"{work_dir / index_parallel}_score/\").iterdir():  \n",
    "        with open(file_path) as f:\n",
    "            scores.append(int(f.readline().strip().split()[-1]))\n",
    "    mean_score = sum(scores) / len(scores)\n",
    "    \n",
    "    # 後始末\n",
    "    run(f\"rm -rf {work_dir / index_parallel}_out\", \"rm\")\n",
    "    run(f\"rm -rf {work_dir / index_parallel}_score\", \"rm\")\n",
    "    #run(f\"rm {parameters_changed_filename}\", \"rm\")\n",
    "    run(f\"rm {parameters_changed_filename}.out\", \"rm\")\n",
    "    \n",
    "    return mean_score"
   ]
  },
  {
   "cell_type": "code",
   "execution_count": 4,
   "id": "2d2e133c",
   "metadata": {},
   "outputs": [
    {
     "name": "stderr",
     "output_type": "stream",
     "text": [
      "\u001b[32m[I 2022-08-15 21:30:06,808]\u001b[0m A new study created in RDB with name: study_4_3\u001b[0m\n"
     ]
    }
   ],
   "source": [
    "K = 4\n",
    "N_CLASS = 3\n",
    "\n",
    "in_dir = Path(f\"in_{K}_{N_CLASS}\")\n",
    "work_dir = Path(f\"work_{K}_{N_CLASS}\")\n",
    "\n",
    "study_name = f\"study_{K}_{N_CLASS}\"\n",
    "storage_path = work_dir / \"study.db\"\n",
    "storage = f\"sqlite:///{storage_path}\"\n",
    "study = optuna.create_study(storage=storage, load_if_exists=True, study_name=study_name, direction=\"maximize\")\n",
    "\n",
    "def callback(study, trial):\n",
    "    try:\n",
    "        index_parallel = f\"{trial.number:04d}\"\n",
    "        parameters_changed_filename = work_dir / f\"{index_parallel}_{FILENAME}\"\n",
    "        if study.best_value == trial.value:\n",
    "            print(f\"Updated! {study.best_value}\")\n",
    "            !cp {parameters_changed_filename} {work_dir / \"best_parameters.cpp\"}\n",
    "        !rm {parameters_changed_filename}\n",
    "    except:\n",
    "        print(\":(\")\n"
   ]
  },
  {
   "cell_type": "code",
   "execution_count": null,
   "id": "61c2901d",
   "metadata": {},
   "outputs": [
    {
     "name": "stdout",
     "output_type": "stream",
     "text": [
      "index_parallel='0000'\n"
     ]
    },
    {
     "name": "stderr",
     "output_type": "stream",
     "text": [
      "\u001b[32m[I 2022-08-15 21:34:34,081]\u001b[0m Trial 0 finished with value: 7974.158995815899 and parameters: {'kErase': 1, 'kRadius': 4, 'kAnnealingA': 8.031324721189307, 'kAnnealingB': 1.1030681005381138, 'kAnnealingStart': 1.1543635309748357, 'kSkipRatio': 0.7671612719276728, 'kTargetDeterminationTrials': 1, 'kAttractionRatio': 0.21986276580360306, 'kMaxAttractionDistance': 23, 'kStartAttraction': 0.03517749307774002}. Best is trial 0 with value: 7974.158995815899.\u001b[0m\n"
     ]
    },
    {
     "name": "stdout",
     "output_type": "stream",
     "text": [
      "Updated! 7974.158995815899\n",
      "index_parallel='0001'\n"
     ]
    },
    {
     "name": "stderr",
     "output_type": "stream",
     "text": [
      "\u001b[32m[I 2022-08-15 21:39:03,166]\u001b[0m Trial 1 finished with value: 7095.824267782426 and parameters: {'kErase': 5, 'kRadius': 4, 'kAnnealingA': -10.80155532614808, 'kAnnealingB': 0.5808051865086209, 'kAnnealingStart': 55.846552847920556, 'kSkipRatio': 0.7906414348142834, 'kTargetDeterminationTrials': 2, 'kAttractionRatio': 0.11638646127669339, 'kMaxAttractionDistance': 4, 'kStartAttraction': 0.004836208519204455}. Best is trial 0 with value: 7974.158995815899.\u001b[0m\n"
     ]
    },
    {
     "name": "stdout",
     "output_type": "stream",
     "text": [
      "index_parallel='0002'\n"
     ]
    },
    {
     "name": "stderr",
     "output_type": "stream",
     "text": [
      "\u001b[32m[I 2022-08-15 21:43:31,269]\u001b[0m Trial 2 finished with value: 8060.52719665272 and parameters: {'kErase': 4, 'kRadius': 4, 'kAnnealingA': 0.0012621894261304334, 'kAnnealingB': 0.9710750472417027, 'kAnnealingStart': 3.6833419931733253, 'kSkipRatio': 0.7177611183583807, 'kTargetDeterminationTrials': 12, 'kAttractionRatio': 0.027215166272215305, 'kMaxAttractionDistance': 12, 'kStartAttraction': 0.1489598273722557}. Best is trial 2 with value: 8060.52719665272.\u001b[0m\n"
     ]
    },
    {
     "name": "stdout",
     "output_type": "stream",
     "text": [
      "Updated! 8060.52719665272\n",
      "index_parallel='0003'\n"
     ]
    },
    {
     "name": "stderr",
     "output_type": "stream",
     "text": [
      "\u001b[32m[I 2022-08-15 21:47:59,285]\u001b[0m Trial 3 finished with value: 8079.510460251046 and parameters: {'kErase': 2, 'kRadius': 3, 'kAnnealingA': 9.281027632311986, 'kAnnealingB': 0.9536040817827524, 'kAnnealingStart': 2.4623559309048426, 'kSkipRatio': 0.5180194770646421, 'kTargetDeterminationTrials': 2, 'kAttractionRatio': 0.09169540573493971, 'kMaxAttractionDistance': 51, 'kStartAttraction': 0.01283205581263436}. Best is trial 3 with value: 8079.510460251046.\u001b[0m\n"
     ]
    },
    {
     "name": "stdout",
     "output_type": "stream",
     "text": [
      "Updated! 8079.510460251046\n",
      "index_parallel='0004'\n"
     ]
    },
    {
     "name": "stderr",
     "output_type": "stream",
     "text": [
      "\u001b[32m[I 2022-08-15 21:52:27,510]\u001b[0m Trial 4 finished with value: 8119.748953974896 and parameters: {'kErase': 3, 'kRadius': 2, 'kAnnealingA': 0.8158356851263591, 'kAnnealingB': 2.849349211355775, 'kAnnealingStart': 5.87253152321978, 'kSkipRatio': 0.6298547707396336, 'kTargetDeterminationTrials': 2, 'kAttractionRatio': 0.024389719988967367, 'kMaxAttractionDistance': 10, 'kStartAttraction': 0.14942631528388006}. Best is trial 4 with value: 8119.748953974896.\u001b[0m\n"
     ]
    },
    {
     "name": "stdout",
     "output_type": "stream",
     "text": [
      "Updated! 8119.748953974896\n",
      "index_parallel='0005'\n"
     ]
    },
    {
     "name": "stderr",
     "output_type": "stream",
     "text": [
      "\u001b[32m[I 2022-08-15 21:56:55,541]\u001b[0m Trial 5 finished with value: 7276.280334728033 and parameters: {'kErase': 3, 'kRadius': 3, 'kAnnealingA': -1.6173738085920952, 'kAnnealingB': 2.0452581503342504, 'kAnnealingStart': 30.51675207679466, 'kSkipRatio': 0.5999454359690682, 'kTargetDeterminationTrials': 8, 'kAttractionRatio': 0.42982447346411823, 'kMaxAttractionDistance': 4, 'kStartAttraction': 0.6613921358791582}. Best is trial 4 with value: 8119.748953974896.\u001b[0m\n"
     ]
    },
    {
     "name": "stdout",
     "output_type": "stream",
     "text": [
      "index_parallel='0006'\n"
     ]
    },
    {
     "name": "stderr",
     "output_type": "stream",
     "text": [
      "\u001b[32m[I 2022-08-15 22:01:23,777]\u001b[0m Trial 6 finished with value: 6783.192468619247 and parameters: {'kErase': 3, 'kRadius': 5, 'kAnnealingA': 1.2495236612625433, 'kAnnealingB': 1.6896999928384742, 'kAnnealingStart': 32.31377134259202, 'kSkipRatio': 0.4105830425499248, 'kTargetDeterminationTrials': 6, 'kAttractionRatio': 0.031881620769963356, 'kMaxAttractionDistance': 80, 'kStartAttraction': 0.014923266489482796}. Best is trial 4 with value: 8119.748953974896.\u001b[0m\n"
     ]
    },
    {
     "name": "stdout",
     "output_type": "stream",
     "text": [
      "index_parallel='0007'\n"
     ]
    },
    {
     "name": "stderr",
     "output_type": "stream",
     "text": [
      "\u001b[32m[I 2022-08-15 22:05:51,672]\u001b[0m Trial 7 finished with value: 8195.736401673641 and parameters: {'kErase': 3, 'kRadius': 6, 'kAnnealingA': 1.871073481762668, 'kAnnealingB': 0.040239045915249294, 'kAnnealingStart': 1.1068539000248123, 'kSkipRatio': 0.7688542803415017, 'kTargetDeterminationTrials': 1, 'kAttractionRatio': 0.05608835754938768, 'kMaxAttractionDistance': 91, 'kStartAttraction': 0.22766662747566271}. Best is trial 7 with value: 8195.736401673641.\u001b[0m\n"
     ]
    },
    {
     "name": "stdout",
     "output_type": "stream",
     "text": [
      "Updated! 8195.736401673641\n",
      "index_parallel='0008'\n"
     ]
    },
    {
     "name": "stderr",
     "output_type": "stream",
     "text": [
      "\u001b[32m[I 2022-08-15 22:10:19,899]\u001b[0m Trial 8 finished with value: 6821.4393305439335 and parameters: {'kErase': 4, 'kRadius': 2, 'kAnnealingA': -0.4383746309253507, 'kAnnealingB': 1.416012110586681, 'kAnnealingStart': 47.47303109199227, 'kSkipRatio': 0.5703075604076294, 'kTargetDeterminationTrials': 1, 'kAttractionRatio': 0.24181970188937846, 'kMaxAttractionDistance': 55, 'kStartAttraction': 0.40431199692537334}. Best is trial 7 with value: 8195.736401673641.\u001b[0m\n"
     ]
    },
    {
     "name": "stdout",
     "output_type": "stream",
     "text": [
      "index_parallel='0009'\n"
     ]
    },
    {
     "name": "stderr",
     "output_type": "stream",
     "text": [
      "\u001b[32m[I 2022-08-15 22:14:47,560]\u001b[0m Trial 9 finished with value: 7154.916317991632 and parameters: {'kErase': 2, 'kRadius': 2, 'kAnnealingA': 11.337268160777295, 'kAnnealingB': 1.3542479377891232, 'kAnnealingStart': 47.94650054631994, 'kSkipRatio': 0.7961184646693031, 'kTargetDeterminationTrials': 1, 'kAttractionRatio': 0.7925026812991934, 'kMaxAttractionDistance': 34, 'kStartAttraction': 0.15297919700661367}. Best is trial 7 with value: 8195.736401673641.\u001b[0m\n"
     ]
    },
    {
     "name": "stdout",
     "output_type": "stream",
     "text": [
      "index_parallel='0010'\n"
     ]
    },
    {
     "name": "stderr",
     "output_type": "stream",
     "text": [
      "\u001b[32m[I 2022-08-15 22:19:15,113]\u001b[0m Trial 10 finished with value: 7831.410041841004 and parameters: {'kErase': 1, 'kRadius': 6, 'kAnnealingA': -9.569566120593663, 'kAnnealingB': 0.017711152215283976, 'kAnnealingStart': 11.692594841250868, 'kSkipRatio': 0.22295332265648327, 'kTargetDeterminationTrials': 4, 'kAttractionRatio': 0.010447153077201857, 'kMaxAttractionDistance': 85, 'kStartAttraction': 0.0015436342890869227}. Best is trial 7 with value: 8195.736401673641.\u001b[0m\n"
     ]
    },
    {
     "name": "stdout",
     "output_type": "stream",
     "text": [
      "index_parallel='0011'\n"
     ]
    },
    {
     "name": "stderr",
     "output_type": "stream",
     "text": [
      "\u001b[32m[I 2022-08-15 22:23:43,606]\u001b[0m Trial 11 finished with value: 7929.79079497908 and parameters: {'kErase': 4, 'kRadius': 6, 'kAnnealingA': 4.9377348557966725, 'kAnnealingB': 2.922500620448927, 'kAnnealingStart': 8.320584274806354, 'kSkipRatio': 0.6393530321865715, 'kTargetDeterminationTrials': 2, 'kAttractionRatio': 0.03737370610280763, 'kMaxAttractionDistance': 10, 'kStartAttraction': 0.08946246127972318}. Best is trial 7 with value: 8195.736401673641.\u001b[0m\n"
     ]
    },
    {
     "name": "stdout",
     "output_type": "stream",
     "text": [
      "index_parallel='0012'\n"
     ]
    },
    {
     "name": "stderr",
     "output_type": "stream",
     "text": [
      "\u001b[32m[I 2022-08-15 22:28:11,621]\u001b[0m Trial 12 finished with value: 8248.117154811716 and parameters: {'kErase': 2, 'kRadius': 5, 'kAnnealingA': -5.753617896940925, 'kAnnealingB': 2.5881927205112225, 'kAnnealingStart': 1.1760816139176813, 'kSkipRatio': 0.674658358840442, 'kTargetDeterminationTrials': 3, 'kAttractionRatio': 0.011880161370545912, 'kMaxAttractionDistance': 8, 'kStartAttraction': 0.32432097875075416}. Best is trial 12 with value: 8248.117154811716.\u001b[0m\n"
     ]
    },
    {
     "name": "stdout",
     "output_type": "stream",
     "text": [
      "Updated! 8248.117154811716\n",
      "index_parallel='0013'\n"
     ]
    },
    {
     "name": "stderr",
     "output_type": "stream",
     "text": [
      "\u001b[32m[I 2022-08-15 22:32:39,505]\u001b[0m Trial 13 finished with value: 7992.778242677824 and parameters: {'kErase': 2, 'kRadius': 5, 'kAnnealingA': -7.298520540987694, 'kAnnealingB': 2.130157777653955, 'kAnnealingStart': 1.0446908876801058, 'kSkipRatio': 0.41619476053464916, 'kTargetDeterminationTrials': 20, 'kAttractionRatio': 0.01014619548179628, 'kMaxAttractionDistance': 7, 'kStartAttraction': 0.8374623728265257}. Best is trial 12 with value: 8248.117154811716.\u001b[0m\n"
     ]
    },
    {
     "name": "stdout",
     "output_type": "stream",
     "text": [
      "index_parallel='0014'\n"
     ]
    },
    {
     "name": "stderr",
     "output_type": "stream",
     "text": [
      "\u001b[32m[I 2022-08-15 22:37:07,553]\u001b[0m Trial 14 finished with value: 8340.966527196653 and parameters: {'kErase': 2, 'kRadius': 5, 'kAnnealingA': -14.580516041012027, 'kAnnealingB': 0.03631249133204318, 'kAnnealingStart': 2.100455596561262, 'kSkipRatio': 0.6934891426431655, 'kTargetDeterminationTrials': 4, 'kAttractionRatio': 0.05662770160524213, 'kMaxAttractionDistance': 19, 'kStartAttraction': 0.2843021898883818}. Best is trial 14 with value: 8340.966527196653.\u001b[0m\n"
     ]
    },
    {
     "name": "stdout",
     "output_type": "stream",
     "text": [
      "Updated! 8340.966527196653\n",
      "index_parallel='0015'\n"
     ]
    },
    {
     "name": "stderr",
     "output_type": "stream",
     "text": [
      "\u001b[32m[I 2022-08-15 22:41:35,642]\u001b[0m Trial 15 finished with value: 8142.55230125523 and parameters: {'kErase': 2, 'kRadius': 5, 'kAnnealingA': -14.944411770274755, 'kAnnealingB': 2.4074850076272747, 'kAnnealingStart': 2.1225777617506583, 'kSkipRatio': 0.6802138254545327, 'kTargetDeterminationTrials': 4, 'kAttractionRatio': 0.0193956909424509, 'kMaxAttractionDistance': 20, 'kStartAttraction': 0.03774197466330679}. Best is trial 14 with value: 8340.966527196653.\u001b[0m\n"
     ]
    },
    {
     "name": "stdout",
     "output_type": "stream",
     "text": [
      "index_parallel='0016'\n"
     ]
    },
    {
     "name": "stderr",
     "output_type": "stream",
     "text": [
      "\u001b[32m[I 2022-08-15 22:46:03,151]\u001b[0m Trial 16 finished with value: 8110.794979079498 and parameters: {'kErase': 1, 'kRadius': 5, 'kAnnealingA': -5.912949972655692, 'kAnnealingB': 0.5426892052907966, 'kAnnealingStart': 2.1879675565455483, 'kSkipRatio': 0.45275763350656983, 'kTargetDeterminationTrials': 3, 'kAttractionRatio': 0.06549156657823292, 'kMaxAttractionDistance': 6, 'kStartAttraction': 0.06309522838055898}. Best is trial 14 with value: 8340.966527196653.\u001b[0m\n"
     ]
    },
    {
     "name": "stdout",
     "output_type": "stream",
     "text": [
      "index_parallel='0017'\n"
     ]
    },
    {
     "name": "stderr",
     "output_type": "stream",
     "text": [
      "\u001b[32m[I 2022-08-15 22:50:31,379]\u001b[0m Trial 17 finished with value: 8156.230125523012 and parameters: {'kErase': 2, 'kRadius': 5, 'kAnnealingA': -13.947505377026733, 'kAnnealingB': 2.527815904199083, 'kAnnealingStart': 4.444658010928618, 'kSkipRatio': 0.3170603859631189, 'kTargetDeterminationTrials': 7, 'kAttractionRatio': 0.0167612652821297, 'kMaxAttractionDistance': 15, 'kStartAttraction': 0.3786917677492206}. Best is trial 14 with value: 8340.966527196653.\u001b[0m\n"
     ]
    },
    {
     "name": "stdout",
     "output_type": "stream",
     "text": [
      "index_parallel='0018'\n"
     ]
    },
    {
     "name": "stderr",
     "output_type": "stream",
     "text": [
      "\u001b[32m[I 2022-08-15 22:54:59,506]\u001b[0m Trial 18 finished with value: 8442.52719665272 and parameters: {'kErase': 2, 'kRadius': 3, 'kAnnealingA': -4.017211369337362, 'kAnnealingB': 1.8070436019693075, 'kAnnealingStart': 13.935790781996793, 'kSkipRatio': 0.6991694373106178, 'kTargetDeterminationTrials': 3, 'kAttractionRatio': 0.1537721508577356, 'kMaxAttractionDistance': 28, 'kStartAttraction': 0.37190624856027543}. Best is trial 18 with value: 8442.52719665272.\u001b[0m\n"
     ]
    },
    {
     "name": "stdout",
     "output_type": "stream",
     "text": [
      "Updated! 8442.52719665272\n",
      "index_parallel='0019'\n"
     ]
    },
    {
     "name": "stderr",
     "output_type": "stream",
     "text": [
      "\u001b[32m[I 2022-08-15 22:59:27,286]\u001b[0m Trial 19 finished with value: 8145.271966527197 and parameters: {'kErase': 1, 'kRadius': 3, 'kAnnealingA': -3.767446409587642, 'kAnnealingB': 1.7762847500049925, 'kAnnealingStart': 15.436837261874638, 'kSkipRatio': 0.5423671263734738, 'kTargetDeterminationTrials': 12, 'kAttractionRatio': 0.18827059593615783, 'kMaxAttractionDistance': 29, 'kStartAttraction': 0.07711723531619342}. Best is trial 18 with value: 8442.52719665272.\u001b[0m\n"
     ]
    },
    {
     "name": "stdout",
     "output_type": "stream",
     "text": [
      "index_parallel='0020'\n"
     ]
    },
    {
     "name": "stderr",
     "output_type": "stream",
     "text": [
      "\u001b[32m[I 2022-08-15 23:03:55,796]\u001b[0m Trial 20 finished with value: 6978.414225941423 and parameters: {'kErase': 5, 'kRadius': 3, 'kAnnealingA': 14.349400981091613, 'kAnnealingB': 0.4357805164278698, 'kAnnealingStart': 20.79881330726954, 'kSkipRatio': 0.7135194198499037, 'kTargetDeterminationTrials': 5, 'kAttractionRatio': 0.13330658042630317, 'kMaxAttractionDistance': 37, 'kStartAttraction': 0.015319747017107319}. Best is trial 18 with value: 8442.52719665272.\u001b[0m\n"
     ]
    },
    {
     "name": "stdout",
     "output_type": "stream",
     "text": [
      "index_parallel='0021'\n"
     ]
    },
    {
     "name": "stderr",
     "output_type": "stream",
     "text": [
      "\u001b[32m[I 2022-08-15 23:08:23,887]\u001b[0m Trial 21 finished with value: 8052.652719665272 and parameters: {'kErase': 2, 'kRadius': 4, 'kAnnealingA': -9.714913248035785, 'kAnnealingB': 2.5510952153153186, 'kAnnealingStart': 87.21132859970344, 'kSkipRatio': 0.6880419117555151, 'kTargetDeterminationTrials': 3, 'kAttractionRatio': 0.058626353176740725, 'kMaxAttractionDistance': 15, 'kStartAttraction': 0.3181697671335996}. Best is trial 18 with value: 8442.52719665272.\u001b[0m\n"
     ]
    },
    {
     "name": "stdout",
     "output_type": "stream",
     "text": [
      "index_parallel='0022'\n"
     ]
    },
    {
     "name": "stderr",
     "output_type": "stream",
     "text": [
      "\u001b[32m[I 2022-08-15 23:12:51,885]\u001b[0m Trial 22 finished with value: 8594.133891213389 and parameters: {'kErase': 2, 'kRadius': 5, 'kAnnealingA': -3.1242687407442453, 'kAnnealingB': 2.0856410648232497, 'kAnnealingStart': 1.5863957951351064, 'kSkipRatio': 0.6497584164633949, 'kTargetDeterminationTrials': 4, 'kAttractionRatio': 0.48343064837651606, 'kMaxAttractionDistance': 22, 'kStartAttraction': 0.5674112459254265}. Best is trial 22 with value: 8594.133891213389.\u001b[0m\n"
     ]
    },
    {
     "name": "stdout",
     "output_type": "stream",
     "text": [
      "Updated! 8594.133891213389\n",
      "index_parallel='0023'\n"
     ]
    },
    {
     "name": "stderr",
     "output_type": "stream",
     "text": [
      "\u001b[32m[I 2022-08-15 23:17:19,447]\u001b[0m Trial 23 finished with value: 8519.117154811716 and parameters: {'kErase': 1, 'kRadius': 4, 'kAnnealingA': -3.1193656627277258, 'kAnnealingB': 2.0031651925562968, 'kAnnealingStart': 7.886553842494429, 'kSkipRatio': 0.6035126424166843, 'kTargetDeterminationTrials': 9, 'kAttractionRatio': 0.384098641179245, 'kMaxAttractionDistance': 26, 'kStartAttraction': 0.6610604830369272}. Best is trial 22 with value: 8594.133891213389.\u001b[0m\n"
     ]
    },
    {
     "name": "stdout",
     "output_type": "stream",
     "text": [
      "index_parallel='0024'\n"
     ]
    },
    {
     "name": "stderr",
     "output_type": "stream",
     "text": [
      "\u001b[32m[I 2022-08-15 23:21:46,923]\u001b[0m Trial 24 finished with value: 8454.163179916319 and parameters: {'kErase': 1, 'kRadius': 4, 'kAnnealingA': -2.568433821649407, 'kAnnealingB': 2.0222472231609077, 'kAnnealingStart': 9.068750450959685, 'kSkipRatio': 0.5841065046838987, 'kTargetDeterminationTrials': 10, 'kAttractionRatio': 0.4782781712082887, 'kMaxAttractionDistance': 26, 'kStartAttraction': 0.848170712004106}. Best is trial 22 with value: 8594.133891213389.\u001b[0m\n"
     ]
    },
    {
     "name": "stdout",
     "output_type": "stream",
     "text": [
      "index_parallel='0025'\n"
     ]
    },
    {
     "name": "stderr",
     "output_type": "stream",
     "text": [
      "\u001b[32m[I 2022-08-15 23:26:14,670]\u001b[0m Trial 25 finished with value: 8492.76569037657 and parameters: {'kErase': 1, 'kRadius': 4, 'kAnnealingA': 3.7569827569212517, 'kAnnealingB': 2.0888107305738735, 'kAnnealingStart': 6.64374196956804, 'kSkipRatio': 0.4990565039046894, 'kTargetDeterminationTrials': 10, 'kAttractionRatio': 0.40526554269809456, 'kMaxAttractionDistance': 39, 'kStartAttraction': 0.8974331954845737}. Best is trial 22 with value: 8594.133891213389.\u001b[0m\n"
     ]
    },
    {
     "name": "stdout",
     "output_type": "stream",
     "text": [
      "index_parallel='0026'\n"
     ]
    },
    {
     "name": "stderr",
     "output_type": "stream",
     "text": [
      "\u001b[32m[I 2022-08-15 23:30:42,442]\u001b[0m Trial 26 finished with value: 8569.887029288702 and parameters: {'kErase': 1, 'kRadius': 4, 'kAnnealingA': 4.1242697891721765, 'kAnnealingB': 2.143869970527873, 'kAnnealingStart': 5.478613014965491, 'kSkipRatio': 0.4837867236058421, 'kTargetDeterminationTrials': 19, 'kAttractionRatio': 0.34206181838962824, 'kMaxAttractionDistance': 46, 'kStartAttraction': 0.5798082753939684}. Best is trial 22 with value: 8594.133891213389.\u001b[0m\n"
     ]
    },
    {
     "name": "stdout",
     "output_type": "stream",
     "text": [
      "index_parallel='0027'\n"
     ]
    },
    {
     "name": "stderr",
     "output_type": "stream",
     "text": [
      "\u001b[32m[I 2022-08-15 23:35:10,230]\u001b[0m Trial 27 finished with value: 8696.510460251046 and parameters: {'kErase': 1, 'kRadius': 4, 'kAnnealingA': 5.066632362833404, 'kAnnealingB': 2.2979506627377355, 'kAnnealingStart': 4.876234323080292, 'kSkipRatio': 0.4758551216907531, 'kTargetDeterminationTrials': 20, 'kAttractionRatio': 0.7059690197221413, 'kMaxAttractionDistance': 53, 'kStartAttraction': 0.6018226386522156}. Best is trial 27 with value: 8696.510460251046.\u001b[0m\n"
     ]
    },
    {
     "name": "stdout",
     "output_type": "stream",
     "text": [
      "Updated! 8696.510460251046\n",
      "index_parallel='0028'\n"
     ]
    },
    {
     "name": "stderr",
     "output_type": "stream",
     "text": [
      "\u001b[32m[I 2022-08-15 23:39:38,101]\u001b[0m Trial 28 finished with value: 8610.121338912133 and parameters: {'kErase': 1, 'kRadius': 4, 'kAnnealingA': 5.898191362763312, 'kAnnealingB': 2.322427216220941, 'kAnnealingStart': 3.899769348673072, 'kSkipRatio': 0.351099691813045, 'kTargetDeterminationTrials': 19, 'kAttractionRatio': 0.7293775870181092, 'kMaxAttractionDistance': 62, 'kStartAttraction': 0.5137785705725931}. Best is trial 27 with value: 8696.510460251046.\u001b[0m\n"
     ]
    },
    {
     "name": "stdout",
     "output_type": "stream",
     "text": [
      "index_parallel='0029'\n"
     ]
    },
    {
     "name": "stderr",
     "output_type": "stream",
     "text": [
      "\u001b[32m[I 2022-08-15 23:44:05,517]\u001b[0m Trial 29 finished with value: 8210.669456066946 and parameters: {'kErase': 1, 'kRadius': 6, 'kAnnealingA': 6.610720744069722, 'kAnnealingB': 2.418642626439899, 'kAnnealingStart': 3.5719236784260304, 'kSkipRatio': 0.3406468186947329, 'kTargetDeterminationTrials': 15, 'kAttractionRatio': 0.7359374304932648, 'kMaxAttractionDistance': 60, 'kStartAttraction': 0.1982361624203916}. Best is trial 27 with value: 8696.510460251046.\u001b[0m\n"
     ]
    },
    {
     "name": "stdout",
     "output_type": "stream",
     "text": [
      "index_parallel='0030'\n"
     ]
    },
    {
     "name": "stderr",
     "output_type": "stream",
     "text": [
      "\u001b[32m[I 2022-08-15 23:48:33,240]\u001b[0m Trial 30 finished with value: 8097.322175732217 and parameters: {'kErase': 1, 'kRadius': 5, 'kAnnealingA': 7.40358734170858, 'kAnnealingB': 2.311748312499849, 'kAnnealingStart': 1.5084369450969688, 'kSkipRatio': 0.337026490926516, 'kTargetDeterminationTrials': 15, 'kAttractionRatio': 0.5776374976670933, 'kMaxAttractionDistance': 73, 'kStartAttraction': 0.10128126980699063}. Best is trial 27 with value: 8696.510460251046.\u001b[0m\n"
     ]
    },
    {
     "name": "stdout",
     "output_type": "stream",
     "text": [
      "index_parallel='0031'\n"
     ]
    },
    {
     "name": "stderr",
     "output_type": "stream",
     "text": [
      "\u001b[32m[I 2022-08-15 23:53:00,981]\u001b[0m Trial 31 finished with value: 8634.28870292887 and parameters: {'kErase': 1, 'kRadius': 4, 'kAnnealingA': 4.288792005156536, 'kAnnealingB': 2.77502029999393, 'kAnnealingStart': 4.867428490311642, 'kSkipRatio': 0.46682487717912924, 'kTargetDeterminationTrials': 18, 'kAttractionRatio': 0.26253634753567195, 'kMaxAttractionDistance': 46, 'kStartAttraction': 0.5193552938971088}. Best is trial 27 with value: 8696.510460251046.\u001b[0m\n"
     ]
    },
    {
     "name": "stdout",
     "output_type": "stream",
     "text": [
      "index_parallel='0032'\n"
     ]
    },
    {
     "name": "stderr",
     "output_type": "stream",
     "text": [
      "\u001b[32m[I 2022-08-15 23:57:28,350]\u001b[0m Trial 32 finished with value: 8552.836820083681 and parameters: {'kErase': 1, 'kRadius': 4, 'kAnnealingA': 9.425337753240917, 'kAnnealingB': 2.743021586506286, 'kAnnealingStart': 3.173308183110125, 'kSkipRatio': 0.3775562004877503, 'kTargetDeterminationTrials': 16, 'kAttractionRatio': 0.27974356387033056, 'kMaxAttractionDistance': 65, 'kStartAttraction': 0.5111794567960318}. Best is trial 27 with value: 8696.510460251046.\u001b[0m\n"
     ]
    },
    {
     "name": "stdout",
     "output_type": "stream",
     "text": [
      "index_parallel='0033'\n"
     ]
    },
    {
     "name": "stderr",
     "output_type": "stream",
     "text": [
      "\u001b[32m[I 2022-08-16 00:01:56,005]\u001b[0m Trial 33 finished with value: 8532.560669456067 and parameters: {'kErase': 1, 'kRadius': 4, 'kAnnealingA': 2.9548569174915675, 'kAnnealingB': 2.7200346950469365, 'kAnnealingStart': 4.703040530919294, 'kSkipRatio': 0.2849814903872773, 'kTargetDeterminationTrials': 12, 'kAttractionRatio': 0.8600480369631678, 'kMaxAttractionDistance': 43, 'kStartAttraction': 0.50991387631755}. Best is trial 27 with value: 8696.510460251046.\u001b[0m\n"
     ]
    },
    {
     "name": "stdout",
     "output_type": "stream",
     "text": [
      "index_parallel='0034'\n"
     ]
    },
    {
     "name": "stderr",
     "output_type": "stream",
     "text": [
      "\u001b[32m[I 2022-08-16 00:06:23,649]\u001b[0m Trial 34 finished with value: 7641.807531380753 and parameters: {'kErase': 1, 'kRadius': 4, 'kAnnealingA': 6.07030205997467, 'kAnnealingB': 2.240057624322451, 'kAnnealingStart': 2.8397579790660705, 'kSkipRatio': 0.4554798070155282, 'kTargetDeterminationTrials': 17, 'kAttractionRatio': 0.6050934180823384, 'kMaxAttractionDistance': 48, 'kStartAttraction': 0.0025889839032475917}. Best is trial 27 with value: 8696.510460251046.\u001b[0m\n"
     ]
    },
    {
     "name": "stdout",
     "output_type": "stream",
     "text": [
      "index_parallel='0035'\n"
     ]
    },
    {
     "name": "stderr",
     "output_type": "stream",
     "text": [
      "\u001b[32m[I 2022-08-16 00:10:51,738]\u001b[0m Trial 35 finished with value: 8266.05439330544 and parameters: {'kErase': 2, 'kRadius': 3, 'kAnnealingA': 9.004699411918272, 'kAnnealingB': 2.682242609476919, 'kAnnealingStart': 1.5635600948705206, 'kSkipRatio': 0.5363985490040736, 'kTargetDeterminationTrials': 14, 'kAttractionRatio': 0.596090906170714, 'kMaxAttractionDistance': 65, 'kStartAttraction': 0.20962822524648814}. Best is trial 27 with value: 8696.510460251046.\u001b[0m\n"
     ]
    },
    {
     "name": "stdout",
     "output_type": "stream",
     "text": [
      "index_parallel='0036'\n"
     ]
    },
    {
     "name": "stderr",
     "output_type": "stream",
     "text": [
      "\u001b[32m[I 2022-08-16 00:15:19,183]\u001b[0m Trial 36 finished with value: 8267.364016736401 and parameters: {'kErase': 1, 'kRadius': 4, 'kAnnealingA': 12.195946407327272, 'kAnnealingB': 2.9212664784156974, 'kAnnealingStart': 4.184128000443145, 'kSkipRatio': 0.39019881142148605, 'kTargetDeterminationTrials': 20, 'kAttractionRatio': 0.29325715821635867, 'kMaxAttractionDistance': 99, 'kStartAttraction': 0.04185918364461772}. Best is trial 27 with value: 8696.510460251046.\u001b[0m\n"
     ]
    },
    {
     "name": "stdout",
     "output_type": "stream",
     "text": [
      "index_parallel='0037'\n"
     ]
    },
    {
     "name": "stderr",
     "output_type": "stream",
     "text": [
      "\u001b[32m[I 2022-08-16 00:19:47,344]\u001b[0m Trial 37 finished with value: 6828.230125523012 and parameters: {'kErase': 3, 'kRadius': 3, 'kAnnealingA': -0.5466648133174488, 'kAnnealingB': 1.218587650771097, 'kAnnealingStart': 1.5744722789798566, 'kSkipRatio': 0.239658704515065, 'kTargetDeterminationTrials': 12, 'kAttractionRatio': 0.5121883964569637, 'kMaxAttractionDistance': 52, 'kStartAttraction': 0.005038248042018677}. Best is trial 27 with value: 8696.510460251046.\u001b[0m\n"
     ]
    },
    {
     "name": "stdout",
     "output_type": "stream",
     "text": [
      "index_parallel='0038'\n"
     ]
    },
    {
     "name": "stderr",
     "output_type": "stream",
     "text": [
      "\u001b[32m[I 2022-08-16 00:24:15,006]\u001b[0m Trial 38 finished with value: 8420.87029288703 and parameters: {'kErase': 2, 'kRadius': 4, 'kAnnealingA': 1.8748550377809625, 'kAnnealingB': 1.5786488751849577, 'kAnnealingStart': 2.547732482174598, 'kSkipRatio': 0.47667773528291935, 'kTargetDeterminationTrials': 7, 'kAttractionRatio': 0.1941999419367369, 'kMaxAttractionDistance': 22, 'kStartAttraction': 0.16642672874459094}. Best is trial 27 with value: 8696.510460251046.\u001b[0m\n"
     ]
    },
    {
     "name": "stdout",
     "output_type": "stream",
     "text": [
      "index_parallel='0039'\n"
     ]
    },
    {
     "name": "stderr",
     "output_type": "stream",
     "text": [
      "\u001b[32m[I 2022-08-16 00:28:42,614]\u001b[0m Trial 39 finished with value: 8318.953974895398 and parameters: {'kErase': 1, 'kRadius': 4, 'kAnnealingA': 5.680554846679919, 'kAnnealingB': 1.8365530385078332, 'kAnnealingStart': 6.48229773658497, 'kSkipRatio': 0.432599570718331, 'kTargetDeterminationTrials': 13, 'kAttractionRatio': 0.1021446295482371, 'kMaxAttractionDistance': 33, 'kStartAttraction': 0.022746796030070873}. Best is trial 27 with value: 8696.510460251046.\u001b[0m\n"
     ]
    },
    {
     "name": "stdout",
     "output_type": "stream",
     "text": [
      "index_parallel='0040'\n"
     ]
    },
    {
     "name": "stderr",
     "output_type": "stream",
     "text": [
      "\u001b[32m[I 2022-08-16 00:33:10,697]\u001b[0m Trial 40 finished with value: 8031.748953974896 and parameters: {'kErase': 3, 'kRadius': 3, 'kAnnealingA': 8.226760210442546, 'kAnnealingB': 2.307063123107544, 'kAnnealingStart': 3.5207389734921395, 'kSkipRatio': 0.7426071406822679, 'kTargetDeterminationTrials': 9, 'kAttractionRatio': 0.8794519949820754, 'kMaxAttractionDistance': 16, 'kStartAttraction': 0.1103921492539878}. Best is trial 27 with value: 8696.510460251046.\u001b[0m\n"
     ]
    },
    {
     "name": "stdout",
     "output_type": "stream",
     "text": [
      "index_parallel='0041'\n"
     ]
    },
    {
     "name": "stderr",
     "output_type": "stream",
     "text": [
      "\u001b[32m[I 2022-08-16 00:37:38,111]\u001b[0m Trial 41 finished with value: 8532.393305439331 and parameters: {'kErase': 1, 'kRadius': 4, 'kAnnealingA': 3.961235040507094, 'kAnnealingB': 2.206894395102605, 'kAnnealingStart': 5.7268223700481, 'kSkipRatio': 0.49116101775339305, 'kTargetDeterminationTrials': 20, 'kAttractionRatio': 0.33153913248988937, 'kMaxAttractionDistance': 46, 'kStartAttraction': 0.5119520854188122}. Best is trial 27 with value: 8696.510460251046.\u001b[0m\n"
     ]
    },
    {
     "name": "stdout",
     "output_type": "stream",
     "text": [
      "index_parallel='0042'\n"
     ]
    },
    {
     "name": "stderr",
     "output_type": "stream",
     "text": [
      "\u001b[32m[I 2022-08-16 00:42:05,917]\u001b[0m Trial 42 finished with value: 8587.338912133891 and parameters: {'kErase': 1, 'kRadius': 4, 'kAnnealingA': 2.6725575145060554, 'kAnnealingB': 2.4574723504781244, 'kAnnealingStart': 5.183332138940754, 'kSkipRatio': 0.5262952114012771, 'kTargetDeterminationTrials': 17, 'kAttractionRatio': 0.6839321377442796, 'kMaxAttractionDistance': 40, 'kStartAttraction': 0.4984806479422476}. Best is trial 27 with value: 8696.510460251046.\u001b[0m\n"
     ]
    },
    {
     "name": "stdout",
     "output_type": "stream",
     "text": [
      "index_parallel='0043'\n"
     ]
    },
    {
     "name": "stderr",
     "output_type": "stream",
     "text": [
      "\u001b[32m[I 2022-08-16 00:46:33,351]\u001b[0m Trial 43 finished with value: 8367.10460251046 and parameters: {'kErase': 1, 'kRadius': 5, 'kAnnealingA': 2.4752423116930675, 'kAnnealingB': 2.4767814245748037, 'kAnnealingStart': 10.625524922286074, 'kSkipRatio': 0.5143541836976001, 'kTargetDeterminationTrials': 16, 'kAttractionRatio': 0.681092599381848, 'kMaxAttractionDistance': 74, 'kStartAttraction': 0.25154923427260073}. Best is trial 27 with value: 8696.510460251046.\u001b[0m\n"
     ]
    },
    {
     "name": "stdout",
     "output_type": "stream",
     "text": [
      "index_parallel='0044'\n"
     ]
    },
    {
     "name": "stderr",
     "output_type": "stream",
     "text": [
      "\u001b[32m[I 2022-08-16 00:51:01,241]\u001b[0m Trial 44 finished with value: 8584.55230125523 and parameters: {'kErase': 2, 'kRadius': 4, 'kAnnealingA': 0.4895473220833444, 'kAnnealingB': 1.9322400653155998, 'kAnnealingStart': 4.51712386168892, 'kSkipRatio': 0.6431914323799095, 'kTargetDeterminationTrials': 11, 'kAttractionRatio': 0.47965504899561706, 'kMaxAttractionDistance': 57, 'kStartAttraction': 0.4493057924872558}. Best is trial 27 with value: 8696.510460251046.\u001b[0m\n"
     ]
    },
    {
     "name": "stdout",
     "output_type": "stream",
     "text": [
      "index_parallel='0045'\n"
     ]
    },
    {
     "name": "stderr",
     "output_type": "stream",
     "text": [
      "\u001b[32m[I 2022-08-16 00:55:29,714]\u001b[0m Trial 45 finished with value: 8148.983263598327 and parameters: {'kErase': 4, 'kRadius': 3, 'kAnnealingA': -1.4645068383173148, 'kAnnealingB': 2.800858468944889, 'kAnnealingStart': 7.476460061432858, 'kSkipRatio': 0.5519108794667308, 'kTargetDeterminationTrials': 17, 'kAttractionRatio': 0.6814620072792814, 'kMaxAttractionDistance': 32, 'kStartAttraction': 0.7079112607199788}. Best is trial 27 with value: 8696.510460251046.\u001b[0m\n"
     ]
    },
    {
     "name": "stdout",
     "output_type": "stream",
     "text": [
      "index_parallel='0046'\n"
     ]
    },
    {
     "name": "stderr",
     "output_type": "stream",
     "text": [
      "\u001b[32m[I 2022-08-16 00:59:57,250]\u001b[0m Trial 46 finished with value: 8444.682008368201 and parameters: {'kErase': 1, 'kRadius': 5, 'kAnnealingA': 5.3199496294975335, 'kAnnealingB': 2.6598523485916927, 'kAnnealingStart': 3.072296211540439, 'kSkipRatio': 0.4492611891380996, 'kTargetDeterminationTrials': 8, 'kAttractionRatio': 0.24645389718725644, 'kMaxAttractionDistance': 36, 'kStartAttraction': 0.2827830384069235}. Best is trial 27 with value: 8696.510460251046.\u001b[0m\n"
     ]
    },
    {
     "name": "stdout",
     "output_type": "stream",
     "text": [
      "index_parallel='0047'\n"
     ]
    },
    {
     "name": "stderr",
     "output_type": "stream",
     "text": [
      "\u001b[32m[I 2022-08-16 01:04:25,232]\u001b[0m Trial 47 finished with value: 7711.1966527196655 and parameters: {'kErase': 2, 'kRadius': 5, 'kAnnealingA': 7.606154453288497, 'kAnnealingB': 2.976617053358115, 'kAnnealingStart': 5.242199136360106, 'kSkipRatio': 0.3881329202305535, 'kTargetDeterminationTrials': 5, 'kAttractionRatio': 0.4454427477015212, 'kMaxAttractionDistance': 41, 'kStartAttraction': 0.007096986523898054}. Best is trial 27 with value: 8696.510460251046.\u001b[0m\n"
     ]
    },
    {
     "name": "stdout",
     "output_type": "stream",
     "text": [
      "index_parallel='0048'\n"
     ]
    },
    {
     "name": "stderr",
     "output_type": "stream",
     "text": [
      "\u001b[32m[I 2022-08-16 01:08:52,935]\u001b[0m Trial 48 finished with value: 8129.150627615063 and parameters: {'kErase': 1, 'kRadius': 4, 'kAnnealingA': 0.7921073795053576, 'kAnnealingB': 2.3856150728866954, 'kAnnealingStart': 1.77021941697471, 'kSkipRatio': 0.3590530719906591, 'kTargetDeterminationTrials': 17, 'kAttractionRatio': 0.5317403864395442, 'kMaxAttractionDistance': 82, 'kStartAttraction': 0.1441301647043577}. Best is trial 27 with value: 8696.510460251046.\u001b[0m\n"
     ]
    },
    {
     "name": "stdout",
     "output_type": "stream",
     "text": [
      "index_parallel='0049'\n"
     ]
    },
    {
     "name": "stderr",
     "output_type": "stream",
     "text": [
      "\u001b[32m[I 2022-08-16 01:13:20,957]\u001b[0m Trial 49 finished with value: 8442.351464435147 and parameters: {'kErase': 2, 'kRadius': 4, 'kAnnealingA': 10.147543014574342, 'kAnnealingB': 1.6356972575156585, 'kAnnealingStart': 2.580271017977977, 'kSkipRatio': 0.27640258313273386, 'kTargetDeterminationTrials': 14, 'kAttractionRatio': 0.7653640889769658, 'kMaxAttractionDistance': 23, 'kStartAttraction': 0.6660827878486388}. Best is trial 27 with value: 8696.510460251046.\u001b[0m\n"
     ]
    },
    {
     "name": "stdout",
     "output_type": "stream",
     "text": [
      "index_parallel='0050'\n"
     ]
    },
    {
     "name": "stderr",
     "output_type": "stream",
     "text": [
      "\u001b[32m[I 2022-08-16 01:17:49,209]\u001b[0m Trial 50 finished with value: 8468.782426778243 and parameters: {'kErase': 3, 'kRadius': 5, 'kAnnealingA': 3.011844015024705, 'kAnnealingB': 2.5974921449419877, 'kAnnealingStart': 3.6723092948760736, 'kSkipRatio': 0.6139345821550733, 'kTargetDeterminationTrials': 2, 'kAttractionRatio': 0.3663421948222339, 'kMaxAttractionDistance': 53, 'kStartAttraction': 0.3812790240718253}. Best is trial 27 with value: 8696.510460251046.\u001b[0m\n"
     ]
    },
    {
     "name": "stdout",
     "output_type": "stream",
     "text": [
      "index_parallel='0051'\n"
     ]
    },
    {
     "name": "stderr",
     "output_type": "stream",
     "text": [
      "\u001b[32m[I 2022-08-16 01:22:16,974]\u001b[0m Trial 51 finished with value: 8606.677824267783 and parameters: {'kErase': 2, 'kRadius': 4, 'kAnnealingA': 1.1682710806700474, 'kAnnealingB': 2.022901465175682, 'kAnnealingStart': 4.318852713445225, 'kSkipRatio': 0.6673639156863928, 'kTargetDeterminationTrials': 11, 'kAttractionRatio': 0.47085448362949356, 'kMaxAttractionDistance': 59, 'kStartAttraction': 0.4615595920340838}. Best is trial 27 with value: 8696.510460251046.\u001b[0m\n"
     ]
    },
    {
     "name": "stdout",
     "output_type": "stream",
     "text": [
      "index_parallel='0052'\n"
     ]
    },
    {
     "name": "stderr",
     "output_type": "stream",
     "text": [
      "\u001b[32m[I 2022-08-16 01:26:45,064]\u001b[0m Trial 52 finished with value: 8567.648535564853 and parameters: {'kErase': 2, 'kRadius': 4, 'kAnnealingA': -1.2862040555522323, 'kAnnealingB': 2.281100859493637, 'kAnnealingStart': 6.943579723630149, 'kSkipRatio': 0.762947582171099, 'kTargetDeterminationTrials': 18, 'kAttractionRatio': 0.6597665365221557, 'kMaxAttractionDistance': 69, 'kStartAttraction': 0.4373925856552315}. Best is trial 27 with value: 8696.510460251046.\u001b[0m\n"
     ]
    },
    {
     "name": "stdout",
     "output_type": "stream",
     "text": [
      "index_parallel='0053'\n"
     ]
    },
    {
     "name": "stderr",
     "output_type": "stream",
     "text": [
      "\u001b[32m[I 2022-08-16 01:31:13,038]\u001b[0m Trial 53 finished with value: 8493.05439330544 and parameters: {'kErase': 1, 'kRadius': 4, 'kAnnealingA': 1.4644374197660786, 'kAnnealingB': 2.4780959082612, 'kAnnealingStart': 4.139060971733342, 'kSkipRatio': 0.6602350252204165, 'kTargetDeterminationTrials': 13, 'kAttractionRatio': 0.4340875867636707, 'kMaxAttractionDistance': 60, 'kStartAttraction': 0.6613637224785941}. Best is trial 27 with value: 8696.510460251046.\u001b[0m\n"
     ]
    },
    {
     "name": "stdout",
     "output_type": "stream",
     "text": [
      "index_parallel='0054'\n"
     ]
    },
    {
     "name": "stderr",
     "output_type": "stream",
     "text": [
      "\u001b[32m[I 2022-08-16 01:35:41,638]\u001b[0m Trial 54 finished with value: 7686.748953974896 and parameters: {'kErase': 4, 'kRadius': 4, 'kAnnealingA': 4.85130764229246, 'kAnnealingB': 1.949300137301728, 'kAnnealingStart': 11.969499441029207, 'kSkipRatio': 0.5773741713235372, 'kTargetDeterminationTrials': 20, 'kAttractionRatio': 0.8936200449381098, 'kMaxAttractionDistance': 93, 'kStartAttraction': 0.2938148717984003}. Best is trial 27 with value: 8696.510460251046.\u001b[0m\n"
     ]
    },
    {
     "name": "stdout",
     "output_type": "stream",
     "text": [
      "index_parallel='0055'\n"
     ]
    },
    {
     "name": "stderr",
     "output_type": "stream",
     "text": [
      "\u001b[32m[I 2022-08-16 01:40:09,557]\u001b[0m Trial 55 finished with value: 8244.958158995816 and parameters: {'kErase': 2, 'kRadius': 3, 'kAnnealingA': -4.883084147512087, 'kAnnealingB': 2.845788592628313, 'kAnnealingStart': 1.1881176631569006, 'kSkipRatio': 0.7352377791426598, 'kTargetDeterminationTrials': 6, 'kAttractionRatio': 0.27712866748318754, 'kMaxAttractionDistance': 52, 'kStartAttraction': 0.19416703149139858}. Best is trial 27 with value: 8696.510460251046.\u001b[0m\n"
     ]
    },
    {
     "name": "stdout",
     "output_type": "stream",
     "text": [
      "index_parallel='0056'\n"
     ]
    },
    {
     "name": "stderr",
     "output_type": "stream",
     "text": [
      "\u001b[32m[I 2022-08-16 01:44:37,149]\u001b[0m Trial 56 finished with value: 8523.34309623431 and parameters: {'kErase': 1, 'kRadius': 6, 'kAnnealingA': 0.43064956878688765, 'kAnnealingB': 2.1225455809119036, 'kAnnealingStart': 5.16499562400586, 'kSkipRatio': 0.41818010084513024, 'kTargetDeterminationTrials': 11, 'kAttractionRatio': 0.5624206099054226, 'kMaxAttractionDistance': 43, 'kStartAttraction': 0.3438793617508337}. Best is trial 27 with value: 8696.510460251046.\u001b[0m\n"
     ]
    },
    {
     "name": "stdout",
     "output_type": "stream",
     "text": [
      "index_parallel='0057'\n"
     ]
    },
    {
     "name": "stderr",
     "output_type": "stream",
     "text": [
      "\u001b[32m[I 2022-08-16 01:49:05,540]\u001b[0m Trial 57 finished with value: 8321.76569037657 and parameters: {'kErase': 3, 'kRadius': 5, 'kAnnealingA': 6.564399447332901, 'kAnnealingB': 1.8652158685206113, 'kAnnealingStart': 2.001963744579203, 'kSkipRatio': 0.5214058208338502, 'kTargetDeterminationTrials': 15, 'kAttractionRatio': 0.21557050745309236, 'kMaxAttractionDistance': 83, 'kStartAttraction': 0.7689536191154362}. Best is trial 27 with value: 8696.510460251046.\u001b[0m\n"
     ]
    },
    {
     "name": "stdout",
     "output_type": "stream",
     "text": [
      "index_parallel='0058'\n"
     ]
    },
    {
     "name": "stderr",
     "output_type": "stream",
     "text": [
      "\u001b[32m[I 2022-08-16 01:53:33,528]\u001b[0m Trial 58 finished with value: 8350.217573221757 and parameters: {'kErase': 2, 'kRadius': 3, 'kAnnealingA': -2.469769925728166, 'kAnnealingB': 2.402210714087832, 'kAnnealingStart': 9.072379423643339, 'kSkipRatio': 0.6239912625323223, 'kTargetDeterminationTrials': 8, 'kAttractionRatio': 0.07329190816707087, 'kMaxAttractionDistance': 31, 'kStartAttraction': 0.5758225254185312}. Best is trial 27 with value: 8696.510460251046.\u001b[0m\n"
     ]
    },
    {
     "name": "stdout",
     "output_type": "stream",
     "text": [
      "index_parallel='0059'\n"
     ]
    },
    {
     "name": "stderr",
     "output_type": "stream",
     "text": [
      "\u001b[32m[I 2022-08-16 01:58:00,853]\u001b[0m Trial 59 finished with value: 8464.652719665271 and parameters: {'kErase': 1, 'kRadius': 4, 'kAnnealingA': -7.791058807662305, 'kAnnealingB': 1.3697257910775504, 'kAnnealingStart': 15.636402239245502, 'kSkipRatio': 0.6598894922336717, 'kTargetDeterminationTrials': 10, 'kAttractionRatio': 0.15088694861097568, 'kMaxAttractionDistance': 13, 'kStartAttraction': 0.4208253083565105}. Best is trial 27 with value: 8696.510460251046.\u001b[0m\n"
     ]
    },
    {
     "name": "stdout",
     "output_type": "stream",
     "text": [
      "index_parallel='0060'\n"
     ]
    },
    {
     "name": "stderr",
     "output_type": "stream",
     "text": [
      "\u001b[32m[I 2022-08-16 02:02:28,316]\u001b[0m Trial 60 finished with value: 8440.845188284518 and parameters: {'kErase': 1, 'kRadius': 4, 'kAnnealingA': 4.205392190767251, 'kAnnealingB': 0.7751944193239961, 'kAnnealingStart': 3.1020025063014196, 'kSkipRatio': 0.5563160836958647, 'kTargetDeterminationTrials': 18, 'kAttractionRatio': 0.7436738204722209, 'kMaxAttractionDistance': 10, 'kStartAttraction': 0.253058992895941}. Best is trial 27 with value: 8696.510460251046.\u001b[0m\n"
     ]
    },
    {
     "name": "stdout",
     "output_type": "stream",
     "text": [
      "index_parallel='0061'\n"
     ]
    },
    {
     "name": "stderr",
     "output_type": "stream",
     "text": [
      "\u001b[32m[I 2022-08-16 02:06:56,257]\u001b[0m Trial 61 finished with value: 8499.539748953976 and parameters: {'kErase': 2, 'kRadius': 4, 'kAnnealingA': -0.2736139511823845, 'kAnnealingB': 1.962996331637624, 'kAnnealingStart': 4.407823391695571, 'kSkipRatio': 0.6294596537014089, 'kTargetDeterminationTrials': 11, 'kAttractionRatio': 0.455918317851118, 'kMaxAttractionDistance': 62, 'kStartAttraction': 0.44153432765274764}. Best is trial 27 with value: 8696.510460251046.\u001b[0m\n"
     ]
    },
    {
     "name": "stdout",
     "output_type": "stream",
     "text": [
      "index_parallel='0062'\n"
     ]
    },
    {
     "name": "stderr",
     "output_type": "stream",
     "text": [
      "\u001b[32m[I 2022-08-16 02:11:24,021]\u001b[0m Trial 62 finished with value: 8710.510460251046 and parameters: {'kErase': 2, 'kRadius': 4, 'kAnnealingA': 2.3274079878720264, 'kAnnealingB': 1.7233173047574037, 'kAnnealingStart': 6.295171130359719, 'kSkipRatio': 0.6462667901311743, 'kTargetDeterminationTrials': 13, 'kAttractionRatio': 0.5086103443631509, 'kMaxAttractionDistance': 56, 'kStartAttraction': 0.5433622897632665}. Best is trial 62 with value: 8710.510460251046.\u001b[0m\n"
     ]
    },
    {
     "name": "stdout",
     "output_type": "stream",
     "text": [
      "Updated! 8710.510460251046\n",
      "index_parallel='0063'\n"
     ]
    },
    {
     "name": "stderr",
     "output_type": "stream",
     "text": [
      "\u001b[32m[I 2022-08-16 02:15:52,357]\u001b[0m Trial 63 finished with value: 8536.71129707113 and parameters: {'kErase': 2, 'kRadius': 4, 'kAnnealingA': 2.6505292168706207, 'kAnnealingB': 1.7140841328240826, 'kAnnealingStart': 6.151287678871787, 'kSkipRatio': 0.5913869398541339, 'kTargetDeterminationTrials': 14, 'kAttractionRatio': 0.32235453377993256, 'kMaxAttractionDistance': 72, 'kStartAttraction': 0.854162828130065}. Best is trial 62 with value: 8710.510460251046.\u001b[0m\n"
     ]
    },
    {
     "name": "stdout",
     "output_type": "stream",
     "text": [
      "index_parallel='0064'\n"
     ]
    },
    {
     "name": "stderr",
     "output_type": "stream",
     "text": [
      "\u001b[32m[I 2022-08-16 02:20:20,524]\u001b[0m Trial 64 finished with value: 8539.778242677825 and parameters: {'kErase': 3, 'kRadius': 4, 'kAnnealingA': 1.68146234868475, 'kAnnealingB': 2.1910588226021774, 'kAnnealingStart': 7.631711880831246, 'kSkipRatio': 0.6534861643946834, 'kTargetDeterminationTrials': 13, 'kAttractionRatio': 0.6460067746726128, 'kMaxAttractionDistance': 37, 'kStartAttraction': 0.5909381633995159}. Best is trial 62 with value: 8710.510460251046.\u001b[0m\n"
     ]
    },
    {
     "name": "stdout",
     "output_type": "stream",
     "text": [
      "index_parallel='0065'\n"
     ]
    },
    {
     "name": "stderr",
     "output_type": "stream",
     "text": [
      "\u001b[32m[I 2022-08-16 02:24:48,421]\u001b[0m Trial 65 finished with value: 8510.271966527196 and parameters: {'kErase': 2, 'kRadius': 4, 'kAnnealingA': 4.820286658626272, 'kAnnealingB': 1.4786863164879078, 'kAnnealingStart': 5.017512533739877, 'kSkipRatio': 0.7046620652546207, 'kTargetDeterminationTrials': 16, 'kAttractionRatio': 0.03745687807788694, 'kMaxAttractionDistance': 48, 'kStartAttraction': 0.3284484289724669}. Best is trial 62 with value: 8710.510460251046.\u001b[0m\n"
     ]
    },
    {
     "name": "stdout",
     "output_type": "stream",
     "text": [
      "index_parallel='0066'\n"
     ]
    },
    {
     "name": "stderr",
     "output_type": "stream",
     "text": [
      "\u001b[32m[I 2022-08-16 02:29:16,061]\u001b[0m Trial 66 finished with value: 8355.405857740585 and parameters: {'kErase': 1, 'kRadius': 5, 'kAnnealingA': 6.8673711618235975, 'kAnnealingB': 2.056507170175594, 'kAnnealingStart': 3.928749306085499, 'kSkipRatio': 0.6759315167405755, 'kTargetDeterminationTrials': 9, 'kAttractionRatio': 0.37924565121788717, 'kMaxAttractionDistance': 26, 'kStartAttraction': 0.12836203107030358}. Best is trial 62 with value: 8710.510460251046.\u001b[0m\n"
     ]
    },
    {
     "name": "stdout",
     "output_type": "stream",
     "text": [
      "index_parallel='0067'\n"
     ]
    },
    {
     "name": "stderr",
     "output_type": "stream",
     "text": [
      "\u001b[32m[I 2022-08-16 02:33:43,563]\u001b[0m Trial 67 finished with value: 8273.096234309623 and parameters: {'kErase': 1, 'kRadius': 4, 'kAnnealingA': 3.765545769586401, 'kAnnealingB': 2.3369661269627384, 'kAnnealingStart': 5.871150291753084, 'kSkipRatio': 0.20276224936501708, 'kTargetDeterminationTrials': 18, 'kAttractionRatio': 0.5222230497204717, 'kMaxAttractionDistance': 5, 'kStartAttraction': 0.6750248079839973}. Best is trial 62 with value: 8710.510460251046.\u001b[0m\n"
     ]
    },
    {
     "name": "stdout",
     "output_type": "stream",
     "text": [
      "index_parallel='0068'\n"
     ]
    },
    {
     "name": "stderr",
     "output_type": "stream",
     "text": [
      "\u001b[32m[I 2022-08-16 02:38:11,528]\u001b[0m Trial 68 finished with value: 8592.68619246862 and parameters: {'kErase': 2, 'kRadius': 4, 'kAnnealingA': 3.1429587054755537, 'kAnnealingB': 2.4897420952563714, 'kAnnealingStart': 8.984747936959176, 'kSkipRatio': 0.47045794392329177, 'kTargetDeterminationTrials': 5, 'kAttractionRatio': 0.7763515690571446, 'kMaxAttractionDistance': 56, 'kStartAttraction': 0.5341083734223018}. Best is trial 62 with value: 8710.510460251046.\u001b[0m\n"
     ]
    },
    {
     "name": "stdout",
     "output_type": "stream",
     "text": [
      "index_parallel='0069'\n"
     ]
    },
    {
     "name": "stderr",
     "output_type": "stream",
     "text": [
      "\u001b[32m[I 2022-08-16 02:42:39,828]\u001b[0m Trial 69 finished with value: 7574.569037656904 and parameters: {'kErase': 3, 'kRadius': 4, 'kAnnealingA': -0.7313894906879388, 'kAnnealingB': 1.7358289326862595, 'kAnnealingStart': 25.08310655700423, 'kSkipRatio': 0.43460896100383034, 'kTargetDeterminationTrials': 5, 'kAttractionRatio': 0.8050553403988613, 'kMaxAttractionDistance': 57, 'kStartAttraction': 0.06162756238244206}. Best is trial 62 with value: 8710.510460251046.\u001b[0m\n"
     ]
    },
    {
     "name": "stdout",
     "output_type": "stream",
     "text": [
      "index_parallel='0070'\n"
     ]
    },
    {
     "name": "stderr",
     "output_type": "stream",
     "text": [
      "\u001b[32m[I 2022-08-16 02:47:07,643]\u001b[0m Trial 70 finished with value: 8312.556485355648 and parameters: {'kErase': 2, 'kRadius': 5, 'kAnnealingA': -12.55294506091593, 'kAnnealingB': 2.5968476685280515, 'kAnnealingStart': 9.132529135471458, 'kSkipRatio': 0.46982659528465737, 'kTargetDeterminationTrials': 4, 'kAttractionRatio': 0.584325080254127, 'kMaxAttractionDistance': 77, 'kStartAttraction': 0.23786979439599368}. Best is trial 62 with value: 8710.510460251046.\u001b[0m\n"
     ]
    },
    {
     "name": "stdout",
     "output_type": "stream",
     "text": [
      "index_parallel='0071'\n"
     ]
    },
    {
     "name": "stderr",
     "output_type": "stream",
     "text": [
      "\u001b[32m[I 2022-08-16 02:51:35,388]\u001b[0m Trial 71 finished with value: 8558.087866108786 and parameters: {'kErase': 2, 'kRadius': 4, 'kAnnealingA': 3.284984325262259, 'kAnnealingB': 2.50541780893954, 'kAnnealingStart': 10.73605878386772, 'kSkipRatio': 0.5155111089371426, 'kTargetDeterminationTrials': 7, 'kAttractionRatio': 0.7257046675544939, 'kMaxAttractionDistance': 67, 'kStartAttraction': 0.5204138697658075}. Best is trial 62 with value: 8710.510460251046.\u001b[0m\n"
     ]
    },
    {
     "name": "stdout",
     "output_type": "stream",
     "text": [
      "index_parallel='0072'\n"
     ]
    },
    {
     "name": "stderr",
     "output_type": "stream",
     "text": [
      "\u001b[32m[I 2022-08-16 02:56:03,415]\u001b[0m Trial 72 finished with value: 7916.087866108786 and parameters: {'kErase': 2, 'kRadius': 4, 'kAnnealingA': 2.103576350864984, 'kAnnealingB': 2.210860668881822, 'kAnnealingStart': 6.851638300660039, 'kSkipRatio': 0.563282781107824, 'kTargetDeterminationTrials': 6, 'kAttractionRatio': 0.418086280163037, 'kMaxAttractionDistance': 46, 'kStartAttraction': 0.0011471959778885004}. Best is trial 62 with value: 8710.510460251046.\u001b[0m\n"
     ]
    },
    {
     "name": "stdout",
     "output_type": "stream",
     "text": [
      "index_parallel='0073'\n"
     ]
    },
    {
     "name": "stderr",
     "output_type": "stream",
     "text": [
      "\u001b[32m[I 2022-08-16 03:00:31,234]\u001b[0m Trial 73 finished with value: 8267.489539748954 and parameters: {'kErase': 1, 'kRadius': 4, 'kAnnealingA': 5.909764898175752, 'kAnnealingB': 1.8820453935270596, 'kAnnealingStart': 13.650962469310924, 'kSkipRatio': 0.4664649699052562, 'kTargetDeterminationTrials': 15, 'kAttractionRatio': 0.5123620587196168, 'kMaxAttractionDistance': 40, 'kStartAttraction': 0.8947631075249661}. Best is trial 62 with value: 8710.510460251046.\u001b[0m\n"
     ]
    },
    {
     "name": "stdout",
     "output_type": "stream",
     "text": [
      "index_parallel='0074'\n"
     ]
    },
    {
     "name": "stderr",
     "output_type": "stream",
     "text": [
      "\u001b[32m[I 2022-08-16 03:04:59,100]\u001b[0m Trial 74 finished with value: 8436.92050209205 and parameters: {'kErase': 2, 'kRadius': 2, 'kAnnealingA': 4.654689181633058, 'kAnnealingB': 2.11965929534171, 'kAnnealingStart': 8.29760847080256, 'kSkipRatio': 0.5322266471461649, 'kTargetDeterminationTrials': 19, 'kAttractionRatio': 0.6200424430933235, 'kMaxAttractionDistance': 55, 'kStartAttraction': 0.4548967853787066}. Best is trial 62 with value: 8710.510460251046.\u001b[0m\n"
     ]
    },
    {
     "name": "stdout",
     "output_type": "stream",
     "text": [
      "index_parallel='0075'\n"
     ]
    },
    {
     "name": "stderr",
     "output_type": "stream",
     "text": [
      "\u001b[32m[I 2022-08-16 03:09:27,413]\u001b[0m Trial 75 finished with value: 7318.18410041841 and parameters: {'kErase': 5, 'kRadius': 4, 'kAnnealingA': 1.0711653875545046, 'kAnnealingB': 2.65253026600186, 'kAnnealingStart': 2.364294784694379, 'kSkipRatio': 0.402305743261052, 'kTargetDeterminationTrials': 13, 'kAttractionRatio': 0.802136202269932, 'kMaxAttractionDistance': 50, 'kStartAttraction': 0.33811931309659465}. Best is trial 62 with value: 8710.510460251046.\u001b[0m\n"
     ]
    },
    {
     "name": "stdout",
     "output_type": "stream",
     "text": [
      "index_parallel='0076'\n"
     ]
    },
    {
     "name": "stderr",
     "output_type": "stream",
     "text": [
      "\u001b[32m[I 2022-08-16 03:13:54,920]\u001b[0m Trial 76 finished with value: 8497.205020920503 and parameters: {'kErase': 1, 'kRadius': 3, 'kAnnealingA': -1.9929977606338836, 'kAnnealingB': 2.7687404486287566, 'kAnnealingStart': 3.3798651741533643, 'kSkipRatio': 0.6027555470486632, 'kTargetDeterminationTrials': 4, 'kAttractionRatio': 0.6895602479675605, 'kMaxAttractionDistance': 17, 'kStartAttraction': 0.5702442575855172}. Best is trial 62 with value: 8710.510460251046.\u001b[0m\n"
     ]
    },
    {
     "name": "stdout",
     "output_type": "stream",
     "text": [
      "index_parallel='0077'\n"
     ]
    },
    {
     "name": "stderr",
     "output_type": "stream",
     "text": [
      "\u001b[32m[I 2022-08-16 03:18:22,625]\u001b[0m Trial 77 finished with value: 8528.899581589958 and parameters: {'kErase': 1, 'kRadius': 4, 'kAnnealingA': 8.463951014653826, 'kAnnealingB': 2.419904458282074, 'kAnnealingStart': 4.8276606634833845, 'kSkipRatio': 0.49607852547889897, 'kTargetDeterminationTrials': 16, 'kAttractionRatio': 0.4726659409996209, 'kMaxAttractionDistance': 62, 'kStartAttraction': 0.37618091035730505}. Best is trial 62 with value: 8710.510460251046.\u001b[0m\n"
     ]
    },
    {
     "name": "stdout",
     "output_type": "stream",
     "text": [
      "index_parallel='0078'\n"
     ]
    },
    {
     "name": "stderr",
     "output_type": "stream",
     "text": [
      "\u001b[32m[I 2022-08-16 03:22:50,687]\u001b[0m Trial 78 finished with value: 8376.594142259415 and parameters: {'kErase': 2, 'kRadius': 4, 'kAnnealingA': 3.4763523253452444, 'kAnnealingB': 2.2883599252549303, 'kAnnealingStart': 1.3616167733739628, 'kSkipRatio': 0.4397039418272776, 'kTargetDeterminationTrials': 12, 'kAttractionRatio': 0.3581734352209248, 'kMaxAttractionDistance': 44, 'kStartAttraction': 0.1888994307526315}. Best is trial 62 with value: 8710.510460251046.\u001b[0m\n"
     ]
    },
    {
     "name": "stdout",
     "output_type": "stream",
     "text": [
      "index_parallel='0079'\n"
     ]
    },
    {
     "name": "stderr",
     "output_type": "stream",
     "text": [
      "\u001b[32m[I 2022-08-16 03:27:18,744]\u001b[0m Trial 79 finished with value: 8327.723849372385 and parameters: {'kErase': 3, 'kRadius': 4, 'kAnnealingA': -3.547889366087568, 'kAnnealingB': 1.5624848327175862, 'kAnnealingStart': 2.7238661020988433, 'kSkipRatio': 0.42052331111550106, 'kTargetDeterminationTrials': 20, 'kAttractionRatio': 0.5586006079710827, 'kMaxAttractionDistance': 89, 'kStartAttraction': 0.7186220386687792}. Best is trial 62 with value: 8710.510460251046.\u001b[0m\n"
     ]
    },
    {
     "name": "stdout",
     "output_type": "stream",
     "text": [
      "index_parallel='0080'\n"
     ]
    },
    {
     "name": "stderr",
     "output_type": "stream",
     "text": [
      "\u001b[32m[I 2022-08-16 03:31:46,467]\u001b[0m Trial 80 finished with value: 8454.430962343096 and parameters: {'kErase': 1, 'kRadius': 5, 'kAnnealingA': 5.589141846590084, 'kAnnealingB': 2.0767352637710372, 'kAnnealingStart': 5.982835082882114, 'kSkipRatio': 0.7311933888506037, 'kTargetDeterminationTrials': 5, 'kAttractionRatio': 0.8208751344398285, 'kMaxAttractionDistance': 36, 'kStartAttraction': 0.2775811120564733}. Best is trial 62 with value: 8710.510460251046.\u001b[0m\n"
     ]
    },
    {
     "name": "stdout",
     "output_type": "stream",
     "text": [
      "index_parallel='0081'\n"
     ]
    },
    {
     "name": "stderr",
     "output_type": "stream",
     "text": [
      "\u001b[32m[I 2022-08-16 03:36:14,359]\u001b[0m Trial 81 finished with value: 8548.305439330545 and parameters: {'kErase': 2, 'kRadius': 4, 'kAnnealingA': 0.7193624811583004, 'kAnnealingB': 1.9768126950685372, 'kAnnealingStart': 4.4549534898063525, 'kSkipRatio': 0.6357297377615655, 'kTargetDeterminationTrials': 11, 'kAttractionRatio': 0.4940003268677925, 'kMaxAttractionDistance': 58, 'kStartAttraction': 0.46594917348573256}. Best is trial 62 with value: 8710.510460251046.\u001b[0m\n"
     ]
    },
    {
     "name": "stdout",
     "output_type": "stream",
     "text": [
      "index_parallel='0082'\n"
     ]
    },
    {
     "name": "stderr",
     "output_type": "stream",
     "text": [
      "\u001b[32m[I 2022-08-16 03:40:42,282]\u001b[0m Trial 82 finished with value: 8540.389121338912 and parameters: {'kErase': 2, 'kRadius': 4, 'kAnnealingA': 0.18510293398214417, 'kAnnealingB': 1.889647225651446, 'kAnnealingStart': 3.940089007536931, 'kSkipRatio': 0.6460145876367838, 'kTargetDeterminationTrials': 8, 'kAttractionRatio': 0.3151495282059877, 'kMaxAttractionDistance': 55, 'kStartAttraction': 0.5603495541391911}. Best is trial 62 with value: 8710.510460251046.\u001b[0m\n"
     ]
    },
    {
     "name": "stdout",
     "output_type": "stream",
     "text": [
      "index_parallel='0083'\n"
     ]
    },
    {
     "name": "stderr",
     "output_type": "stream",
     "text": [
      "\u001b[32m[I 2022-08-16 03:45:10,152]\u001b[0m Trial 83 finished with value: 8520.937238493723 and parameters: {'kErase': 2, 'kRadius': 4, 'kAnnealingA': 2.26382586842024, 'kAnnealingB': 2.1931906114450497, 'kAnnealingStart': 5.454135408047158, 'kSkipRatio': 0.666753478276598, 'kTargetDeterminationTrials': 10, 'kAttractionRatio': 0.4260828404978893, 'kMaxAttractionDistance': 69, 'kStartAttraction': 0.4255908725724687}. Best is trial 62 with value: 8710.510460251046.\u001b[0m\n"
     ]
    },
    {
     "name": "stdout",
     "output_type": "stream",
     "text": [
      "index_parallel='0084'\n"
     ]
    },
    {
     "name": "stderr",
     "output_type": "stream",
     "text": [
      "\u001b[32m[I 2022-08-16 03:49:38,178]\u001b[0m Trial 84 finished with value: 8728.146443514644 and parameters: {'kErase': 2, 'kRadius': 4, 'kAnnealingA': 1.3530048823143144, 'kAnnealingB': 2.3565237330884594, 'kAnnealingStart': 6.9022557212024935, 'kSkipRatio': 0.6898915297113427, 'kTargetDeterminationTrials': 14, 'kAttractionRatio': 0.6411528184245554, 'kMaxAttractionDistance': 50, 'kStartAttraction': 0.6295007689182296}. Best is trial 84 with value: 8728.146443514644.\u001b[0m\n"
     ]
    },
    {
     "name": "stdout",
     "output_type": "stream",
     "text": [
      "Updated! 8728.146443514644\n",
      "index_parallel='0085'\n"
     ]
    },
    {
     "name": "stderr",
     "output_type": "stream",
     "text": [
      "\u001b[32m[I 2022-08-16 03:54:05,591]\u001b[0m Trial 85 finished with value: 8561.267782426778 and parameters: {'kErase': 1, 'kRadius': 4, 'kAnnealingA': 2.7545254526937955, 'kAnnealingB': 2.5135850900054693, 'kAnnealingStart': 7.247445626051601, 'kSkipRatio': 0.6853249425065384, 'kTargetDeterminationTrials': 17, 'kAttractionRatio': 0.6450952567315649, 'kMaxAttractionDistance': 50, 'kStartAttraction': 0.7862218577194668}. Best is trial 84 with value: 8728.146443514644.\u001b[0m\n"
     ]
    },
    {
     "name": "stdout",
     "output_type": "stream",
     "text": [
      "index_parallel='0086'\n"
     ]
    },
    {
     "name": "stderr",
     "output_type": "stream",
     "text": [
      "\u001b[32m[I 2022-08-16 03:58:33,738]\u001b[0m Trial 86 finished with value: 8703.778242677825 and parameters: {'kErase': 2, 'kRadius': 4, 'kAnnealingA': 4.457148691780851, 'kAnnealingB': 2.3879949232094337, 'kAnnealingStart': 8.465517440988211, 'kSkipRatio': 0.7238832191608265, 'kTargetDeterminationTrials': 14, 'kAttractionRatio': 0.740828556916165, 'kMaxAttractionDistance': 41, 'kStartAttraction': 0.6261279919280746}. Best is trial 84 with value: 8728.146443514644.\u001b[0m\n"
     ]
    },
    {
     "name": "stdout",
     "output_type": "stream",
     "text": [
      "index_parallel='0087'\n"
     ]
    },
    {
     "name": "stderr",
     "output_type": "stream",
     "text": [
      "\u001b[32m[I 2022-08-16 04:03:01,694]\u001b[0m Trial 87 finished with value: 8625.820083682009 and parameters: {'kErase': 2, 'kRadius': 4, 'kAnnealingA': 6.8008470935986605, 'kAnnealingB': 2.352635411704284, 'kAnnealingStart': 10.020140858102778, 'kSkipRatio': 0.7864008763439865, 'kTargetDeterminationTrials': 14, 'kAttractionRatio': 0.8971152365722906, 'kMaxAttractionDistance': 77, 'kStartAttraction': 0.6309479259213258}. Best is trial 84 with value: 8728.146443514644.\u001b[0m\n"
     ]
    },
    {
     "name": "stdout",
     "output_type": "stream",
     "text": [
      "index_parallel='0088'\n"
     ]
    },
    {
     "name": "stderr",
     "output_type": "stream",
     "text": [
      "\u001b[32m[I 2022-08-16 04:07:29,436]\u001b[0m Trial 88 finished with value: 8591.832635983264 and parameters: {'kErase': 2, 'kRadius': 4, 'kAnnealingA': 6.199824709996378, 'kAnnealingB': 2.36170327176622, 'kAnnealingStart': 12.309177976761463, 'kSkipRatio': 0.7795863424840739, 'kTargetDeterminationTrials': 14, 'kAttractionRatio': 0.863061684718975, 'kMaxAttractionDistance': 77, 'kStartAttraction': 0.6286883739463256}. Best is trial 84 with value: 8728.146443514644.\u001b[0m\n"
     ]
    },
    {
     "name": "stdout",
     "output_type": "stream",
     "text": [
      "index_parallel='0089'\n"
     ]
    },
    {
     "name": "stderr",
     "output_type": "stream",
     "text": [
      "\u001b[32m[I 2022-08-16 04:11:57,623]\u001b[0m Trial 89 finished with value: 8716.81589958159 and parameters: {'kErase': 2, 'kRadius': 4, 'kAnnealingA': 10.258251496003247, 'kAnnealingB': 1.248045673704391, 'kAnnealingStart': 10.416670711886855, 'kSkipRatio': 0.7566302566587625, 'kTargetDeterminationTrials': 13, 'kAttractionRatio': 0.599588746528662, 'kMaxAttractionDistance': 21, 'kStartAttraction': 0.7519879631110507}. Best is trial 84 with value: 8728.146443514644.\u001b[0m\n"
     ]
    },
    {
     "name": "stdout",
     "output_type": "stream",
     "text": [
      "index_parallel='0090'\n"
     ]
    },
    {
     "name": "stderr",
     "output_type": "stream",
     "text": [
      "\u001b[32m[I 2022-08-16 04:16:25,600]\u001b[0m Trial 90 finished with value: 7864.52719665272 and parameters: {'kErase': 2, 'kRadius': 4, 'kAnnealingA': 12.926582925544844, 'kAnnealingB': 1.2157301171382608, 'kAnnealingStart': 17.597614755548918, 'kSkipRatio': 0.7163934497780515, 'kTargetDeterminationTrials': 12, 'kAttractionRatio': 0.6011519536346064, 'kMaxAttractionDistance': 64, 'kStartAttraction': 0.8637252537445119}. Best is trial 84 with value: 8728.146443514644.\u001b[0m\n"
     ]
    },
    {
     "name": "stdout",
     "output_type": "stream",
     "text": [
      "index_parallel='0091'\n"
     ]
    },
    {
     "name": "stderr",
     "output_type": "stream",
     "text": [
      "\u001b[32m[I 2022-08-16 04:20:53,351]\u001b[0m Trial 91 finished with value: 8794.627615062762 and parameters: {'kErase': 2, 'kRadius': 4, 'kAnnealingA': 7.109452761219419, 'kAnnealingB': 2.265335970016051, 'kAnnealingStart': 9.999721063531332, 'kSkipRatio': 0.7770653403469003, 'kTargetDeterminationTrials': 14, 'kAttractionRatio': 0.553701111318026, 'kMaxAttractionDistance': 19, 'kStartAttraction': 0.7317011025795321}. Best is trial 91 with value: 8794.627615062762.\u001b[0m\n"
     ]
    },
    {
     "name": "stdout",
     "output_type": "stream",
     "text": [
      "Updated! 8794.627615062762\n",
      "index_parallel='0092'\n"
     ]
    },
    {
     "name": "stderr",
     "output_type": "stream",
     "text": [
      "\u001b[32m[I 2022-08-16 04:25:21,469]\u001b[0m Trial 92 finished with value: 8504.393305439331 and parameters: {'kErase': 2, 'kRadius': 4, 'kAnnealingA': 11.304067277329917, 'kAnnealingB': 1.088883978863696, 'kAnnealingStart': 11.375813711046112, 'kSkipRatio': 0.7977565123993473, 'kTargetDeterminationTrials': 14, 'kAttractionRatio': 0.7346165507145942, 'kMaxAttractionDistance': 21, 'kStartAttraction': 0.3680813297043866}. Best is trial 91 with value: 8794.627615062762.\u001b[0m\n"
     ]
    },
    {
     "name": "stdout",
     "output_type": "stream",
     "text": [
      "index_parallel='0093'\n"
     ]
    },
    {
     "name": "stderr",
     "output_type": "stream",
     "text": [
      "\u001b[32m[I 2022-08-16 04:29:49,309]\u001b[0m Trial 93 finished with value: 8763.401673640168 and parameters: {'kErase': 2, 'kRadius': 4, 'kAnnealingA': 9.90564128123972, 'kAnnealingB': 1.2603008100920698, 'kAnnealingStart': 9.954047855974167, 'kSkipRatio': 0.755610035525218, 'kTargetDeterminationTrials': 15, 'kAttractionRatio': 0.5471729861782074, 'kMaxAttractionDistance': 18, 'kStartAttraction': 0.7170049049830886}. Best is trial 91 with value: 8794.627615062762.\u001b[0m\n"
     ]
    },
    {
     "name": "stdout",
     "output_type": "stream",
     "text": [
      "index_parallel='0094'\n"
     ]
    },
    {
     "name": "stderr",
     "output_type": "stream",
     "text": [
      "\u001b[32m[I 2022-08-16 04:34:17,471]\u001b[0m Trial 94 finished with value: 8820.246861924687 and parameters: {'kErase': 2, 'kRadius': 4, 'kAnnealingA': 10.084018420979204, 'kAnnealingB': 0.9407594918873987, 'kAnnealingStart': 9.634683421453198, 'kSkipRatio': 0.7585863061885909, 'kTargetDeterminationTrials': 15, 'kAttractionRatio': 0.88643780063908, 'kMaxAttractionDistance': 19, 'kStartAttraction': 0.6636089777232432}. Best is trial 94 with value: 8820.246861924687.\u001b[0m\n"
     ]
    },
    {
     "name": "stdout",
     "output_type": "stream",
     "text": [
      "Updated! 8820.246861924687\n",
      "index_parallel='0095'\n"
     ]
    },
    {
     "name": "stderr",
     "output_type": "stream",
     "text": [
      "\u001b[32m[I 2022-08-16 04:38:45,557]\u001b[0m Trial 95 finished with value: 8777.564853556485 and parameters: {'kErase': 2, 'kRadius': 4, 'kAnnealingA': 9.627751778093167, 'kAnnealingB': 0.8658669542569866, 'kAnnealingStart': 9.770901664530399, 'kSkipRatio': 0.7544609991560302, 'kTargetDeterminationTrials': 15, 'kAttractionRatio': 0.6488467157842156, 'kMaxAttractionDistance': 14, 'kStartAttraction': 0.7520517788668476}. Best is trial 94 with value: 8820.246861924687.\u001b[0m\n"
     ]
    },
    {
     "name": "stdout",
     "output_type": "stream",
     "text": [
      "index_parallel='0096'\n"
     ]
    },
    {
     "name": "stderr",
     "output_type": "stream",
     "text": [
      "\u001b[32m[I 2022-08-16 04:43:13,688]\u001b[0m Trial 96 finished with value: 8804.983263598326 and parameters: {'kErase': 2, 'kRadius': 3, 'kAnnealingA': 9.78187360104606, 'kAnnealingB': 0.9057135153640523, 'kAnnealingStart': 9.90229483956611, 'kSkipRatio': 0.7571371568808694, 'kTargetDeterminationTrials': 13, 'kAttractionRatio': 0.578258226237146, 'kMaxAttractionDistance': 13, 'kStartAttraction': 0.7293319197095504}. Best is trial 94 with value: 8820.246861924687.\u001b[0m\n"
     ]
    },
    {
     "name": "stdout",
     "output_type": "stream",
     "text": [
      "index_parallel='0097'\n"
     ]
    },
    {
     "name": "stderr",
     "output_type": "stream",
     "text": [
      "\u001b[32m[I 2022-08-16 04:47:41,603]\u001b[0m Trial 97 finished with value: 8598.029288702928 and parameters: {'kErase': 2, 'kRadius': 3, 'kAnnealingA': 10.263598829217019, 'kAnnealingB': 0.858186680368761, 'kAnnealingStart': 13.296929354026496, 'kSkipRatio': 0.7633521177358427, 'kTargetDeterminationTrials': 12, 'kAttractionRatio': 0.559041837799127, 'kMaxAttractionDistance': 12, 'kStartAttraction': 0.7546731646139541}. Best is trial 94 with value: 8820.246861924687.\u001b[0m\n"
     ]
    },
    {
     "name": "stdout",
     "output_type": "stream",
     "text": [
      "index_parallel='0098'\n"
     ]
    },
    {
     "name": "stderr",
     "output_type": "stream",
     "text": [
      "\u001b[32m[I 2022-08-16 04:52:09,463]\u001b[0m Trial 98 finished with value: 8298.76150627615 and parameters: {'kErase': 2, 'kRadius': 2, 'kAnnealingA': 9.597749022742049, 'kAnnealingB': 0.6224838592981441, 'kAnnealingStart': 14.990894760206828, 'kSkipRatio': 0.7479633302709306, 'kTargetDeterminationTrials': 15, 'kAttractionRatio': 0.6421685502539256, 'kMaxAttractionDistance': 14, 'kStartAttraction': 0.7540079435674668}. Best is trial 94 with value: 8820.246861924687.\u001b[0m\n"
     ]
    },
    {
     "name": "stdout",
     "output_type": "stream",
     "text": [
      "index_parallel='0099'\n"
     ]
    },
    {
     "name": "stderr",
     "output_type": "stream",
     "text": [
      "\u001b[32m[I 2022-08-16 04:56:37,576]\u001b[0m Trial 99 finished with value: 8541.058577405858 and parameters: {'kErase': 3, 'kRadius': 3, 'kAnnealingA': 11.089511673530165, 'kAnnealingB': 0.9232009632824847, 'kAnnealingStart': 10.187579995676968, 'kSkipRatio': 0.7543387984701067, 'kTargetDeterminationTrials': 9, 'kAttractionRatio': 0.533373620328999, 'kMaxAttractionDistance': 9, 'kStartAttraction': 0.7079616798739814}. Best is trial 94 with value: 8820.246861924687.\u001b[0m\n"
     ]
    },
    {
     "name": "stdout",
     "output_type": "stream",
     "text": [
      "index_parallel='0100'\n"
     ]
    },
    {
     "name": "stderr",
     "output_type": "stream",
     "text": [
      "\u001b[32m[I 2022-08-16 05:01:05,532]\u001b[0m Trial 100 finished with value: 8795.326359832636 and parameters: {'kErase': 2, 'kRadius': 3, 'kAnnealingA': 12.77187224392873, 'kAnnealingB': 1.072585722560257, 'kAnnealingStart': 8.159940309593221, 'kSkipRatio': 0.7767264412105854, 'kTargetDeterminationTrials': 13, 'kAttractionRatio': 0.7088376062212464, 'kMaxAttractionDistance': 17, 'kStartAttraction': 0.8772288788297906}. Best is trial 94 with value: 8820.246861924687.\u001b[0m\n"
     ]
    },
    {
     "name": "stdout",
     "output_type": "stream",
     "text": [
      "index_parallel='0101'\n"
     ]
    },
    {
     "name": "stderr",
     "output_type": "stream",
     "text": [
      "\u001b[32m[I 2022-08-16 05:05:33,524]\u001b[0m Trial 101 finished with value: 8778.100418410042 and parameters: {'kErase': 2, 'kRadius': 3, 'kAnnealingA': 13.79654915637464, 'kAnnealingB': 1.115457305712493, 'kAnnealingStart': 8.196062837782623, 'kSkipRatio': 0.7765526776976227, 'kTargetDeterminationTrials': 16, 'kAttractionRatio': 0.6877094274587263, 'kMaxAttractionDistance': 18, 'kStartAttraction': 0.8001489765388595}. Best is trial 94 with value: 8820.246861924687.\u001b[0m\n"
     ]
    },
    {
     "name": "stdout",
     "output_type": "stream",
     "text": [
      "index_parallel='0103'\n"
     ]
    },
    {
     "name": "stderr",
     "output_type": "stream",
     "text": [
      "\u001b[32m[I 2022-08-16 05:10:02,069]\u001b[0m Trial 103 finished with value: 8702.732217573222 and parameters: {'kErase': 2, 'kRadius': 3, 'kAnnealingA': 13.459754938009691, 'kAnnealingB': 1.0573050370508175, 'kAnnealingStart': 8.322156554578289, 'kSkipRatio': 0.7262094740815699, 'kTargetDeterminationTrials': 13, 'kAttractionRatio': 0.4002956465230634, 'kMaxAttractionDistance': 18, 'kStartAttraction': 0.8590067487618729}. Best is trial 94 with value: 8820.246861924687.\u001b[0m\n"
     ]
    },
    {
     "name": "stdout",
     "output_type": "stream",
     "text": [
      "index_parallel='0105'\n"
     ]
    },
    {
     "name": "stderr",
     "output_type": "stream",
     "text": [
      "\u001b[32m[I 2022-08-16 05:14:30,043]\u001b[0m Trial 105 finished with value: 8757.44769874477 and parameters: {'kErase': 2, 'kRadius': 3, 'kAnnealingA': 14.70341765016941, 'kAnnealingB': 1.2409385071408154, 'kAnnealingStart': 9.800914078921103, 'kSkipRatio': 0.7835579432717145, 'kTargetDeterminationTrials': 16, 'kAttractionRatio': 0.603919427677579, 'kMaxAttractionDistance': 19, 'kStartAttraction': 0.7591733478370084}. Best is trial 94 with value: 8820.246861924687.\u001b[0m\n"
     ]
    },
    {
     "name": "stdout",
     "output_type": "stream",
     "text": [
      "index_parallel='0107'\n"
     ]
    },
    {
     "name": "stderr",
     "output_type": "stream",
     "text": [
      "\u001b[32m[I 2022-08-16 05:18:58,222]\u001b[0m Trial 107 finished with value: 8780.991631799163 and parameters: {'kErase': 2, 'kRadius': 3, 'kAnnealingA': 14.722554222456536, 'kAnnealingB': 1.0089125302407016, 'kAnnealingStart': 9.630449185881119, 'kSkipRatio': 0.7771609141394721, 'kTargetDeterminationTrials': 16, 'kAttractionRatio': 0.6821853282226469, 'kMaxAttractionDistance': 19, 'kStartAttraction': 0.7830432959065827}. Best is trial 94 with value: 8820.246861924687.\u001b[0m\n"
     ]
    },
    {
     "name": "stdout",
     "output_type": "stream",
     "text": [
      "index_parallel='0109'\n"
     ]
    },
    {
     "name": "stderr",
     "output_type": "stream",
     "text": [
      "\u001b[32m[I 2022-08-16 05:23:26,391]\u001b[0m Trial 109 finished with value: 8023.79079497908 and parameters: {'kErase': 2, 'kRadius': 3, 'kAnnealingA': 13.76138119589037, 'kAnnealingB': 1.0068713958834516, 'kAnnealingStart': 17.811697059446335, 'kSkipRatio': 0.773274428945202, 'kTargetDeterminationTrials': 16, 'kAttractionRatio': 0.823028934787014, 'kMaxAttractionDistance': 16, 'kStartAttraction': 0.8950686665276278}. Best is trial 94 with value: 8820.246861924687.\u001b[0m\n"
     ]
    },
    {
     "name": "stdout",
     "output_type": "stream",
     "text": [
      "index_parallel='0111'\n"
     ]
    },
    {
     "name": "stderr",
     "output_type": "stream",
     "text": [
      "\u001b[32m[I 2022-08-16 05:27:54,329]\u001b[0m Trial 111 finished with value: 8761.21338912134 and parameters: {'kErase': 2, 'kRadius': 3, 'kAnnealingA': 12.198825154714186, 'kAnnealingB': 1.1500485710689097, 'kAnnealingStart': 7.7694892538258244, 'kSkipRatio': 0.7902325066220336, 'kTargetDeterminationTrials': 18, 'kAttractionRatio': 0.7790327396688327, 'kMaxAttractionDistance': 23, 'kStartAttraction': 0.6999274012056889}. Best is trial 94 with value: 8820.246861924687.\u001b[0m\n"
     ]
    },
    {
     "name": "stdout",
     "output_type": "stream",
     "text": [
      "index_parallel='0113'\n"
     ]
    },
    {
     "name": "stderr",
     "output_type": "stream",
     "text": [
      "\u001b[32m[I 2022-08-16 05:32:22,837]\u001b[0m Trial 113 finished with value: 8818.096234309623 and parameters: {'kErase': 2, 'kRadius': 3, 'kAnnealingA': 12.476515702084658, 'kAnnealingB': 0.908652074644723, 'kAnnealingStart': 9.236640630107852, 'kSkipRatio': 0.7988022484308814, 'kTargetDeterminationTrials': 17, 'kAttractionRatio': 0.7189955872386483, 'kMaxAttractionDistance': 14, 'kStartAttraction': 0.7568946270239443}. Best is trial 94 with value: 8820.246861924687.\u001b[0m\n"
     ]
    },
    {
     "name": "stdout",
     "output_type": "stream",
     "text": [
      "index_parallel='0115'\n"
     ]
    },
    {
     "name": "stderr",
     "output_type": "stream",
     "text": [
      "\u001b[32m[I 2022-08-16 05:36:50,861]\u001b[0m Trial 115 finished with value: 8650.836820083681 and parameters: {'kErase': 2, 'kRadius': 3, 'kAnnealingA': 12.958969114546257, 'kAnnealingB': 0.9260669788386404, 'kAnnealingStart': 9.067586242420491, 'kSkipRatio': 0.7989249716970735, 'kTargetDeterminationTrials': 19, 'kAttractionRatio': 0.7478631346831439, 'kMaxAttractionDistance': 24, 'kStartAttraction': 0.6991065456929529}. Best is trial 94 with value: 8820.246861924687.\u001b[0m\n"
     ]
    },
    {
     "name": "stdout",
     "output_type": "stream",
     "text": [
      "index_parallel='0117'\n"
     ]
    },
    {
     "name": "stderr",
     "output_type": "stream",
     "text": [
      "\u001b[32m[I 2022-08-16 05:41:19,069]\u001b[0m Trial 117 finished with value: 8791.698744769874 and parameters: {'kErase': 2, 'kRadius': 3, 'kAnnealingA': 10.83158258829414, 'kAnnealingB': 0.8487403980248593, 'kAnnealingStart': 8.175718310557432, 'kSkipRatio': 0.7527756411625551, 'kTargetDeterminationTrials': 18, 'kAttractionRatio': 0.8871168669337656, 'kMaxAttractionDistance': 14, 'kStartAttraction': 0.4974589617384783}. Best is trial 94 with value: 8820.246861924687.\u001b[0m\n"
     ]
    },
    {
     "name": "stdout",
     "output_type": "stream",
     "text": [
      "index_parallel='0119'\n"
     ]
    },
    {
     "name": "stderr",
     "output_type": "stream",
     "text": [
      "\u001b[32m[I 2022-08-16 05:45:46,983]\u001b[0m Trial 119 finished with value: 8650.644351464434 and parameters: {'kErase': 2, 'kRadius': 2, 'kAnnealingA': 10.989332461550617, 'kAnnealingB': 0.7101735673121379, 'kAnnealingStart': 8.369168588913128, 'kSkipRatio': 0.75102020195445, 'kTargetDeterminationTrials': 12, 'kAttractionRatio': 0.8820714098153262, 'kMaxAttractionDistance': 11, 'kStartAttraction': 0.5126932247151008}. Best is trial 94 with value: 8820.246861924687.\u001b[0m\n"
     ]
    },
    {
     "name": "stdout",
     "output_type": "stream",
     "text": [
      "index_parallel='0121'\n"
     ]
    },
    {
     "name": "stderr",
     "output_type": "stream",
     "text": [
      "\u001b[32m[I 2022-08-16 05:50:14,880]\u001b[0m Trial 121 finished with value: 6469.460251046025 and parameters: {'kErase': 2, 'kRadius': 3, 'kAnnealingA': 8.882583408939222, 'kAnnealingB': 0.33873416230461106, 'kAnnealingStart': 91.97480823027841, 'kSkipRatio': 0.7080334621733756, 'kTargetDeterminationTrials': 17, 'kAttractionRatio': 0.7050093786849746, 'kMaxAttractionDistance': 17, 'kStartAttraction': 0.8922250319255479}. Best is trial 94 with value: 8820.246861924687.\u001b[0m\n"
     ]
    },
    {
     "name": "stdout",
     "output_type": "stream",
     "text": [
      "index_parallel='0123'\n"
     ]
    },
    {
     "name": "stderr",
     "output_type": "stream",
     "text": [
      "\u001b[32m[I 2022-08-16 05:54:42,820]\u001b[0m Trial 123 finished with value: 8721.280334728033 and parameters: {'kErase': 2, 'kRadius': 3, 'kAnnealingA': 12.502899781521457, 'kAnnealingB': 1.1550328478245757, 'kAnnealingStart': 7.158046085163879, 'kSkipRatio': 0.7424069212210299, 'kTargetDeterminationTrials': 18, 'kAttractionRatio': 0.8093479466459543, 'kMaxAttractionDistance': 20, 'kStartAttraction': 0.6549807782226604}. Best is trial 94 with value: 8820.246861924687.\u001b[0m\n"
     ]
    },
    {
     "name": "stdout",
     "output_type": "stream",
     "text": [
      "index_parallel='0125'\n"
     ]
    },
    {
     "name": "stderr",
     "output_type": "stream",
     "text": [
      "\u001b[32m[I 2022-08-16 05:59:10,664]\u001b[0m Trial 125 finished with value: 8792.117154811716 and parameters: {'kErase': 2, 'kRadius': 3, 'kAnnealingA': 11.681771850194988, 'kAnnealingB': 0.9824742779242773, 'kAnnealingStart': 6.501071858778108, 'kSkipRatio': 0.7642639054645289, 'kTargetDeterminationTrials': 10, 'kAttractionRatio': 0.6665620280751856, 'kMaxAttractionDistance': 14, 'kStartAttraction': 0.5646134272735104}. Best is trial 94 with value: 8820.246861924687.\u001b[0m\n"
     ]
    },
    {
     "name": "stdout",
     "output_type": "stream",
     "text": [
      "index_parallel='0127'\n"
     ]
    },
    {
     "name": "stderr",
     "output_type": "stream",
     "text": [
      "\u001b[32m[I 2022-08-16 06:03:38,770]\u001b[0m Trial 127 finished with value: 8332.171548117154 and parameters: {'kErase': 2, 'kRadius': 3, 'kAnnealingA': 13.270733297294578, 'kAnnealingB': 0.8600840263915247, 'kAnnealingStart': 12.669189626510681, 'kSkipRatio': 0.7654469290440084, 'kTargetDeterminationTrials': 10, 'kAttractionRatio': 0.013995844884782574, 'kMaxAttractionDistance': 11, 'kStartAttraction': 0.5575341793745503}. Best is trial 94 with value: 8820.246861924687.\u001b[0m\n"
     ]
    },
    {
     "name": "stdout",
     "output_type": "stream",
     "text": [
      "index_parallel='0129'\n"
     ]
    },
    {
     "name": "stderr",
     "output_type": "stream",
     "text": [
      "\u001b[32m[I 2022-08-16 06:08:06,704]\u001b[0m Trial 129 finished with value: 8741.573221757322 and parameters: {'kErase': 2, 'kRadius': 3, 'kAnnealingA': 9.778755970541786, 'kAnnealingB': 0.8583509652779793, 'kAnnealingStart': 10.784387444645894, 'kSkipRatio': 0.7806853356242195, 'kTargetDeterminationTrials': 10, 'kAttractionRatio': 0.564042474660532, 'kMaxAttractionDistance': 15, 'kStartAttraction': 0.5880399488799698}. Best is trial 94 with value: 8820.246861924687.\u001b[0m\n"
     ]
    },
    {
     "name": "stdout",
     "output_type": "stream",
     "text": [
      "index_parallel='0131'\n"
     ]
    },
    {
     "name": "stderr",
     "output_type": "stream",
     "text": [
      "\u001b[32m[I 2022-08-16 06:12:34,594]\u001b[0m Trial 131 finished with value: 7562.476987447699 and parameters: {'kErase': 2, 'kRadius': 3, 'kAnnealingA': 14.240332976861648, 'kAnnealingB': 0.6284095325431714, 'kAnnealingStart': 55.904396620445326, 'kSkipRatio': 0.7337526804591755, 'kTargetDeterminationTrials': 13, 'kAttractionRatio': 0.5075833210277432, 'kMaxAttractionDistance': 18, 'kStartAttraction': 0.024658897865760258}. Best is trial 94 with value: 8820.246861924687.\u001b[0m\n"
     ]
    },
    {
     "name": "stdout",
     "output_type": "stream",
     "text": [
      "index_parallel='0133'\n"
     ]
    },
    {
     "name": "stderr",
     "output_type": "stream",
     "text": [
      "\u001b[32m[I 2022-08-16 06:17:03,145]\u001b[0m Trial 133 finished with value: 8780.179916317991 and parameters: {'kErase': 2, 'kRadius': 3, 'kAnnealingA': 8.002677269555988, 'kAnnealingB': 1.335121914308026, 'kAnnealingStart': 7.837588710735209, 'kSkipRatio': 0.7632591160679594, 'kTargetDeterminationTrials': 16, 'kAttractionRatio': 0.7141333488327559, 'kMaxAttractionDistance': 13, 'kStartAttraction': 0.7733872535637063}. Best is trial 94 with value: 8820.246861924687.\u001b[0m\n"
     ]
    },
    {
     "name": "stdout",
     "output_type": "stream",
     "text": [
      "index_parallel='0135'\n"
     ]
    },
    {
     "name": "stderr",
     "output_type": "stream",
     "text": [
      "\u001b[32m[I 2022-08-16 06:21:31,330]\u001b[0m Trial 135 finished with value: 8784.012552301256 and parameters: {'kErase': 2, 'kRadius': 3, 'kAnnealingA': 7.509501334539735, 'kAnnealingB': 1.3145645573172104, 'kAnnealingStart': 9.763814386838893, 'kSkipRatio': 0.7634643521655801, 'kTargetDeterminationTrials': 14, 'kAttractionRatio': 0.6211094145157555, 'kMaxAttractionDistance': 11, 'kStartAttraction': 0.8028986604561361}. Best is trial 94 with value: 8820.246861924687.\u001b[0m\n"
     ]
    },
    {
     "name": "stdout",
     "output_type": "stream",
     "text": [
      "index_parallel='0137'\n"
     ]
    },
    {
     "name": "stderr",
     "output_type": "stream",
     "text": [
      "\u001b[32m[I 2022-08-16 06:26:00,654]\u001b[0m Trial 137 finished with value: 8750.28870292887 and parameters: {'kErase': 2, 'kRadius': 3, 'kAnnealingA': 7.594740970649564, 'kAnnealingB': 1.3444851840671022, 'kAnnealingStart': 8.526787816750327, 'kSkipRatio': 0.7698417158307411, 'kTargetDeterminationTrials': 11, 'kAttractionRatio': 0.6343895757057257, 'kMaxAttractionDistance': 10, 'kStartAttraction': 0.7949567400215718}. Best is trial 94 with value: 8820.246861924687.\u001b[0m\n"
     ]
    },
    {
     "name": "stdout",
     "output_type": "stream",
     "text": [
      "index_parallel='0139'\n"
     ]
    },
    {
     "name": "stderr",
     "output_type": "stream",
     "text": [
      "\u001b[32m[I 2022-08-16 06:30:28,952]\u001b[0m Trial 139 finished with value: 8765.372384937238 and parameters: {'kErase': 2, 'kRadius': 3, 'kAnnealingA': 8.536269334561366, 'kAnnealingB': 0.7840635164907823, 'kAnnealingStart': 5.986315226868283, 'kSkipRatio': 0.7447327392183896, 'kTargetDeterminationTrials': 14, 'kAttractionRatio': 0.688887645054401, 'kMaxAttractionDistance': 11, 'kStartAttraction': 0.6166071535264201}. Best is trial 94 with value: 8820.246861924687.\u001b[0m\n"
     ]
    },
    {
     "name": "stdout",
     "output_type": "stream",
     "text": [
      "index_parallel='0141'\n"
     ]
    },
    {
     "name": "stderr",
     "output_type": "stream",
     "text": [
      "\u001b[32m[I 2022-08-16 06:34:57,124]\u001b[0m Trial 141 finished with value: 8593.050209205021 and parameters: {'kErase': 2, 'kRadius': 3, 'kAnnealingA': 8.026006423356225, 'kAnnealingB': 1.3953994736020159, 'kAnnealingStart': 11.748811090827047, 'kSkipRatio': 0.7612336376559408, 'kTargetDeterminationTrials': 16, 'kAttractionRatio': 0.8374905160186065, 'kMaxAttractionDistance': 9, 'kStartAttraction': 0.5018324392384709}. Best is trial 94 with value: 8820.246861924687.\u001b[0m\n"
     ]
    },
    {
     "name": "stdout",
     "output_type": "stream",
     "text": [
      "index_parallel='0143'\n"
     ]
    },
    {
     "name": "stderr",
     "output_type": "stream",
     "text": [
      "\u001b[32m[I 2022-08-16 06:39:25,297]\u001b[0m Trial 143 finished with value: 8754.52719665272 and parameters: {'kErase': 2, 'kRadius': 3, 'kAnnealingA': 14.870857695410779, 'kAnnealingB': 1.187695423690477, 'kAnnealingStart': 7.037317651923888, 'kSkipRatio': 0.7756014593918477, 'kTargetDeterminationTrials': 13, 'kAttractionRatio': 0.5887593844897577, 'kMaxAttractionDistance': 12, 'kStartAttraction': 0.8902412769658503}. Best is trial 94 with value: 8820.246861924687.\u001b[0m\n"
     ]
    },
    {
     "name": "stdout",
     "output_type": "stream",
     "text": [
      "index_parallel='0145'\n"
     ]
    },
    {
     "name": "stderr",
     "output_type": "stream",
     "text": [
      "\u001b[32m[I 2022-08-16 06:43:53,319]\u001b[0m Trial 145 finished with value: 8512.34309623431 and parameters: {'kErase': 2, 'kRadius': 3, 'kAnnealingA': 9.005249725584285, 'kAnnealingB': 1.294537382981997, 'kAnnealingStart': 9.12226148535398, 'kSkipRatio': 0.7220836290769366, 'kTargetDeterminationTrials': 17, 'kAttractionRatio': 0.771506450562987, 'kMaxAttractionDistance': 7, 'kStartAttraction': 0.7546836594895613}. Best is trial 94 with value: 8820.246861924687.\u001b[0m\n"
     ]
    },
    {
     "name": "stdout",
     "output_type": "stream",
     "text": [
      "index_parallel='0147'\n"
     ]
    },
    {
     "name": "stderr",
     "output_type": "stream",
     "text": [
      "\u001b[32m[I 2022-08-16 06:48:21,244]\u001b[0m Trial 147 finished with value: 8644.748953974895 and parameters: {'kErase': 2, 'kRadius': 3, 'kAnnealingA': 9.225121570062104, 'kAnnealingB': 1.0085543106362818, 'kAnnealingStart': 5.704836366047581, 'kSkipRatio': 0.7876926983881101, 'kTargetDeterminationTrials': 19, 'kAttractionRatio': 0.0825120773210207, 'kMaxAttractionDistance': 9, 'kStartAttraction': 0.6619324921631965}. Best is trial 94 with value: 8820.246861924687.\u001b[0m\n"
     ]
    },
    {
     "name": "stdout",
     "output_type": "stream",
     "text": [
      "index_parallel='0149'\n"
     ]
    },
    {
     "name": "stderr",
     "output_type": "stream",
     "text": [
      "\u001b[32m[I 2022-08-16 06:52:49,397]\u001b[0m Trial 149 finished with value: 7994.347280334728 and parameters: {'kErase': 2, 'kRadius': 3, 'kAnnealingA': 11.61344296346832, 'kAnnealingB': 1.114041886740102, 'kAnnealingStart': 10.379328807978379, 'kSkipRatio': 0.7518953295492701, 'kTargetDeterminationTrials': 14, 'kAttractionRatio': 0.6583431279885857, 'kMaxAttractionDistance': 13, 'kStartAttraction': 0.048712911463497974}. Best is trial 94 with value: 8820.246861924687.\u001b[0m\n"
     ]
    },
    {
     "name": "stdout",
     "output_type": "stream",
     "text": [
      "index_parallel='0151'\n"
     ]
    },
    {
     "name": "stderr",
     "output_type": "stream",
     "text": [
      "\u001b[32m[I 2022-08-16 06:57:17,610]\u001b[0m Trial 151 finished with value: 8625.757322175732 and parameters: {'kErase': 2, 'kRadius': 3, 'kAnnealingA': 11.397307426230094, 'kAnnealingB': 0.9430212666665485, 'kAnnealingStart': 6.322808521717672, 'kSkipRatio': 0.7999106460654833, 'kTargetDeterminationTrials': 12, 'kAttractionRatio': 0.7375805625595052, 'kMaxAttractionDistance': 17, 'kStartAttraction': 0.3941252930038922}. Best is trial 94 with value: 8820.246861924687.\u001b[0m\n"
     ]
    },
    {
     "name": "stdout",
     "output_type": "stream",
     "text": [
      "index_parallel='0153'\n"
     ]
    },
    {
     "name": "stderr",
     "output_type": "stream",
     "text": [
      "\u001b[32m[I 2022-08-16 07:01:45,812]\u001b[0m Trial 153 finished with value: 8785.246861924687 and parameters: {'kErase': 2, 'kRadius': 3, 'kAnnealingA': 12.737598193662345, 'kAnnealingB': 1.0425361996087266, 'kAnnealingStart': 7.752473522086069, 'kSkipRatio': 0.7771641666047966, 'kTargetDeterminationTrials': 15, 'kAttractionRatio': 0.6112418145670047, 'kMaxAttractionDistance': 14, 'kStartAttraction': 0.88277878423311}. Best is trial 94 with value: 8820.246861924687.\u001b[0m\n"
     ]
    },
    {
     "name": "stdout",
     "output_type": "stream",
     "text": [
      "index_parallel='0155'\n"
     ]
    },
    {
     "name": "stderr",
     "output_type": "stream",
     "text": [
      "\u001b[32m[I 2022-08-16 07:06:14,319]\u001b[0m Trial 155 finished with value: 8788.564853556485 and parameters: {'kErase': 2, 'kRadius': 3, 'kAnnealingA': 13.663449427167947, 'kAnnealingB': 0.8123792067508194, 'kAnnealingStart': 8.706802231773416, 'kSkipRatio': 0.7591852394338753, 'kTargetDeterminationTrials': 15, 'kAttractionRatio': 0.45040023102695537, 'kMaxAttractionDistance': 14, 'kStartAttraction': 0.7875244370588406}. Best is trial 94 with value: 8820.246861924687.\u001b[0m\n"
     ]
    },
    {
     "name": "stdout",
     "output_type": "stream",
     "text": [
      "index_parallel='0157'\n"
     ]
    },
    {
     "name": "stderr",
     "output_type": "stream",
     "text": [
      "\u001b[32m[I 2022-08-16 07:10:42,587]\u001b[0m Trial 157 finished with value: 8680.535564853557 and parameters: {'kErase': 2, 'kRadius': 3, 'kAnnealingA': 12.45917064228363, 'kAnnealingB': 0.7056153726748253, 'kAnnealingStart': 9.655294655230426, 'kSkipRatio': 0.69884213463867, 'kTargetDeterminationTrials': 18, 'kAttractionRatio': 0.4559846761126585, 'kMaxAttractionDistance': 14, 'kStartAttraction': 0.5483594135817782}. Best is trial 94 with value: 8820.246861924687.\u001b[0m\n"
     ]
    },
    {
     "name": "stdout",
     "output_type": "stream",
     "text": [
      "index_parallel='0159'\n"
     ]
    },
    {
     "name": "stderr",
     "output_type": "stream",
     "text": [
      "\u001b[32m[I 2022-08-16 07:15:10,674]\u001b[0m Trial 159 finished with value: 8593.200836820084 and parameters: {'kErase': 2, 'kRadius': 3, 'kAnnealingA': 13.606739900780608, 'kAnnealingB': 0.791400905479799, 'kAnnealingStart': 13.415894750739302, 'kSkipRatio': 0.7605966827904366, 'kTargetDeterminationTrials': 16, 'kAttractionRatio': 0.5032147877410292, 'kMaxAttractionDistance': 16, 'kStartAttraction': 0.6701084462267569}. Best is trial 94 with value: 8820.246861924687.\u001b[0m\n"
     ]
    },
    {
     "name": "stdout",
     "output_type": "stream",
     "text": [
      "index_parallel='0161'\n"
     ]
    },
    {
     "name": "stderr",
     "output_type": "stream",
     "text": [
      "\u001b[32m[I 2022-08-16 07:19:38,964]\u001b[0m Trial 161 finished with value: 8654.330543933054 and parameters: {'kErase': 2, 'kRadius': 3, 'kAnnealingA': 8.160491617598288, 'kAnnealingB': 0.9065652747622555, 'kAnnealingStart': 11.037592380665517, 'kSkipRatio': 0.7323618653821503, 'kTargetDeterminationTrials': 15, 'kAttractionRatio': 0.5447043076314574, 'kMaxAttractionDistance': 12, 'kStartAttraction': 0.8953969516158305}. Best is trial 94 with value: 8820.246861924687.\u001b[0m\n"
     ]
    },
    {
     "name": "stdout",
     "output_type": "stream",
     "text": [
      "index_parallel='0163'\n"
     ]
    },
    {
     "name": "stderr",
     "output_type": "stream",
     "text": [
      "\u001b[32m[I 2022-08-16 07:24:07,130]\u001b[0m Trial 163 finished with value: 8765.774058577406 and parameters: {'kErase': 2, 'kRadius': 3, 'kAnnealingA': 10.832711733653857, 'kAnnealingB': 1.1980990634312065, 'kAnnealingStart': 8.452216072145454, 'kSkipRatio': 0.7866725546310458, 'kTargetDeterminationTrials': 17, 'kAttractionRatio': 0.7311335456086848, 'kMaxAttractionDistance': 15, 'kStartAttraction': 0.7695389095848797}. Best is trial 94 with value: 8820.246861924687.\u001b[0m\n"
     ]
    },
    {
     "name": "stdout",
     "output_type": "stream",
     "text": [
      "index_parallel='0165'\n"
     ]
    },
    {
     "name": "stderr",
     "output_type": "stream",
     "text": [
      "\u001b[32m[I 2022-08-16 07:28:35,213]\u001b[0m Trial 165 finished with value: 8749.481171548117 and parameters: {'kErase': 2, 'kRadius': 3, 'kAnnealingA': 11.741068283435954, 'kAnnealingB': 1.0202318554314636, 'kAnnealingStart': 7.372114532192758, 'kSkipRatio': 0.7696212332971959, 'kTargetDeterminationTrials': 20, 'kAttractionRatio': 0.7984528506467029, 'kMaxAttractionDistance': 17, 'kStartAttraction': 0.7933893177477906}. Best is trial 94 with value: 8820.246861924687.\u001b[0m\n"
     ]
    },
    {
     "name": "stdout",
     "output_type": "stream",
     "text": [
      "index_parallel='0167'\n"
     ]
    },
    {
     "name": "stderr",
     "output_type": "stream",
     "text": [
      "\u001b[32m[I 2022-08-16 07:33:03,446]\u001b[0m Trial 167 finished with value: 8728.769874476988 and parameters: {'kErase': 2, 'kRadius': 3, 'kAnnealingA': 14.376725096534459, 'kAnnealingB': 1.1330738106803544, 'kAnnealingStart': 9.143491458178392, 'kSkipRatio': 0.7493892915158576, 'kTargetDeterminationTrials': 14, 'kAttractionRatio': 0.6169872572889525, 'kMaxAttractionDistance': 15, 'kStartAttraction': 0.5293995255303892}. Best is trial 94 with value: 8820.246861924687.\u001b[0m\n"
     ]
    },
    {
     "name": "stdout",
     "output_type": "stream",
     "text": [
      "index_parallel='0169'\n"
     ]
    },
    {
     "name": "stderr",
     "output_type": "stream",
     "text": [
      "\u001b[32m[I 2022-08-16 07:37:31,568]\u001b[0m Trial 169 finished with value: 8801.355648535566 and parameters: {'kErase': 2, 'kRadius': 3, 'kAnnealingA': 12.780624464223793, 'kAnnealingB': 1.2997474599680052, 'kAnnealingStart': 7.916812945199355, 'kSkipRatio': 0.7636216542125237, 'kTargetDeterminationTrials': 13, 'kAttractionRatio': 0.7027754614952421, 'kMaxAttractionDistance': 13, 'kStartAttraction': 0.6211740846958124}. Best is trial 94 with value: 8820.246861924687.\u001b[0m\n"
     ]
    },
    {
     "name": "stdout",
     "output_type": "stream",
     "text": [
      "index_parallel='0171'\n"
     ]
    },
    {
     "name": "stderr",
     "output_type": "stream",
     "text": [
      "\u001b[32m[I 2022-08-16 07:42:00,587]\u001b[0m Trial 171 finished with value: 8626.615062761506 and parameters: {'kErase': 2, 'kRadius': 3, 'kAnnealingA': 12.903205267180702, 'kAnnealingB': 1.183681843520746, 'kAnnealingStart': 10.241106108545404, 'kSkipRatio': 0.7649884095127404, 'kTargetDeterminationTrials': 12, 'kAttractionRatio': 0.7605918765539679, 'kMaxAttractionDistance': 11, 'kStartAttraction': 0.45567726238303374}. Best is trial 94 with value: 8820.246861924687.\u001b[0m\n"
     ]
    },
    {
     "name": "stdout",
     "output_type": "stream",
     "text": [
      "index_parallel='0173'\n"
     ]
    },
    {
     "name": "stderr",
     "output_type": "stream",
     "text": [
      "\u001b[32m[I 2022-08-16 07:46:28,696]\u001b[0m Trial 173 finished with value: 8772.665271966527 and parameters: {'kErase': 2, 'kRadius': 3, 'kAnnealingA': 12.315201026765529, 'kAnnealingB': 1.363416667653452, 'kAnnealingStart': 9.065912391601115, 'kSkipRatio': 0.7798875455423637, 'kTargetDeterminationTrials': 11, 'kAttractionRatio': 0.6959562061342789, 'kMaxAttractionDistance': 13, 'kStartAttraction': 0.6786419095016145}. Best is trial 94 with value: 8820.246861924687.\u001b[0m\n"
     ]
    },
    {
     "name": "stdout",
     "output_type": "stream",
     "text": [
      "index_parallel='0175'\n"
     ]
    },
    {
     "name": "stderr",
     "output_type": "stream",
     "text": [
      "\u001b[32m[I 2022-08-16 07:50:57,138]\u001b[0m Trial 175 finished with value: 8593.778242677825 and parameters: {'kErase': 2, 'kRadius': 3, 'kAnnealingA': 12.049867055565246, 'kAnnealingB': 1.474589728557949, 'kAnnealingStart': 11.02421442051896, 'kSkipRatio': 0.7621954786580242, 'kTargetDeterminationTrials': 11, 'kAttractionRatio': 0.8240967426905226, 'kMaxAttractionDistance': 10, 'kStartAttraction': 0.6100244723346269}. Best is trial 94 with value: 8820.246861924687.\u001b[0m\n"
     ]
    },
    {
     "name": "stdout",
     "output_type": "stream",
     "text": [
      "index_parallel='0177'\n"
     ]
    },
    {
     "name": "stderr",
     "output_type": "stream",
     "text": [
      "\u001b[32m[I 2022-08-16 07:55:25,252]\u001b[0m Trial 177 finished with value: 8602.723849372385 and parameters: {'kErase': 2, 'kRadius': 3, 'kAnnealingA': 13.008776172881403, 'kAnnealingB': 1.2216722872801415, 'kAnnealingStart': 10.196432336948922, 'kSkipRatio': 0.7397444261856122, 'kTargetDeterminationTrials': 12, 'kAttractionRatio': 0.8949723779182249, 'kMaxAttractionDistance': 11, 'kStartAttraction': 0.4424318802975728}. Best is trial 94 with value: 8820.246861924687.\u001b[0m\n"
     ]
    },
    {
     "name": "stdout",
     "output_type": "stream",
     "text": [
      "index_parallel='0179'\n"
     ]
    },
    {
     "name": "stderr",
     "output_type": "stream",
     "text": [
      "\u001b[32m[I 2022-08-16 07:59:53,314]\u001b[0m Trial 179 finished with value: 8650.866108786611 and parameters: {'kErase': 2, 'kRadius': 3, 'kAnnealingA': 12.068359729736851, 'kAnnealingB': 1.6073953130850227, 'kAnnealingStart': 12.498344431724723, 'kSkipRatio': 0.7826556087550843, 'kTargetDeterminationTrials': 9, 'kAttractionRatio': 0.5528449415325494, 'kMaxAttractionDistance': 12, 'kStartAttraction': 0.6910192888173791}. Best is trial 94 with value: 8820.246861924687.\u001b[0m\n"
     ]
    },
    {
     "name": "stdout",
     "output_type": "stream",
     "text": [
      "index_parallel='0181'\n"
     ]
    },
    {
     "name": "stderr",
     "output_type": "stream",
     "text": [
      "\u001b[32m[I 2022-08-16 08:04:21,511]\u001b[0m Trial 181 finished with value: 8727.820083682009 and parameters: {'kErase': 2, 'kRadius': 3, 'kAnnealingA': 14.933215084348687, 'kAnnealingB': 0.9679278159573822, 'kAnnealingStart': 8.918765824509112, 'kSkipRatio': 0.7687341755959389, 'kTargetDeterminationTrials': 13, 'kAttractionRatio': 0.773196349000746, 'kMaxAttractionDistance': 16, 'kStartAttraction': 0.5287469168545446}. Best is trial 94 with value: 8820.246861924687.\u001b[0m\n"
     ]
    },
    {
     "name": "stdout",
     "output_type": "stream",
     "text": [
      "index_parallel='0183'\n"
     ]
    },
    {
     "name": "stderr",
     "output_type": "stream",
     "text": [
      "\u001b[32m[I 2022-08-16 08:08:49,846]\u001b[0m Trial 183 finished with value: 8818.083682008368 and parameters: {'kErase': 2, 'kRadius': 3, 'kAnnealingA': 11.284266781884694, 'kAnnealingB': 1.3973456006855982, 'kAnnealingStart': 8.983763301343494, 'kSkipRatio': 0.7541311810575274, 'kTargetDeterminationTrials': 13, 'kAttractionRatio': 0.5012680553849711, 'kMaxAttractionDistance': 13, 'kStartAttraction': 0.7161361949244467}. Best is trial 94 with value: 8820.246861924687.\u001b[0m\n"
     ]
    },
    {
     "name": "stdout",
     "output_type": "stream",
     "text": [
      "index_parallel='0185'\n"
     ]
    },
    {
     "name": "stderr",
     "output_type": "stream",
     "text": [
      "\u001b[32m[I 2022-08-16 08:13:18,522]\u001b[0m Trial 185 finished with value: 8208.112970711298 and parameters: {'kErase': 4, 'kRadius': 3, 'kAnnealingA': 10.356872562726746, 'kAnnealingB': 1.4251439030073685, 'kAnnealingStart': 7.593318107103409, 'kSkipRatio': 0.7563029019103862, 'kTargetDeterminationTrials': 13, 'kAttractionRatio': 0.5246233065442358, 'kMaxAttractionDistance': 15, 'kStartAttraction': 0.601294893930552}. Best is trial 184 with value: 8822.907949790795.\u001b[0m\n"
     ]
    },
    {
     "name": "stdout",
     "output_type": "stream",
     "text": [
      "index_parallel='0187'\n"
     ]
    },
    {
     "name": "stderr",
     "output_type": "stream",
     "text": [
      "\u001b[32m[I 2022-08-16 08:17:46,633]\u001b[0m Trial 187 finished with value: 8795.907949790795 and parameters: {'kErase': 2, 'kRadius': 3, 'kAnnealingA': 11.343984105658933, 'kAnnealingB': 1.5252881772628475, 'kAnnealingStart': 6.422008609019284, 'kSkipRatio': 0.7296079177095184, 'kTargetDeterminationTrials': 12, 'kAttractionRatio': 0.48904395656441096, 'kMaxAttractionDistance': 14, 'kStartAttraction': 0.6350940366041096}. Best is trial 184 with value: 8822.907949790795.\u001b[0m\n"
     ]
    },
    {
     "name": "stdout",
     "output_type": "stream",
     "text": [
      "index_parallel='0189'\n"
     ]
    },
    {
     "name": "stderr",
     "output_type": "stream",
     "text": [
      "\u001b[32m[I 2022-08-16 08:22:14,734]\u001b[0m Trial 189 finished with value: 8728.280334728033 and parameters: {'kErase': 2, 'kRadius': 3, 'kAnnealingA': 11.268592945197426, 'kAnnealingB': 1.5132075800962446, 'kAnnealingStart': 6.588873310077829, 'kSkipRatio': 0.7431503899286509, 'kTargetDeterminationTrials': 12, 'kAttractionRatio': 0.3925325673514579, 'kMaxAttractionDistance': 14, 'kStartAttraction': 0.4881425874217423}. Best is trial 188 with value: 8828.008368200837.\u001b[0m\n"
     ]
    },
    {
     "name": "stdout",
     "output_type": "stream",
     "text": [
      "index_parallel='0191'\n"
     ]
    },
    {
     "name": "stderr",
     "output_type": "stream",
     "text": [
      "\u001b[32m[I 2022-08-16 08:26:42,753]\u001b[0m Trial 191 finished with value: 8713.347280334729 and parameters: {'kErase': 2, 'kRadius': 3, 'kAnnealingA': 10.253917874894285, 'kAnnealingB': 1.5614499018513068, 'kAnnealingStart': 6.134498485995028, 'kSkipRatio': 0.717171263582803, 'kTargetDeterminationTrials': 12, 'kAttractionRatio': 0.4950054686018175, 'kMaxAttractionDistance': 13, 'kStartAttraction': 0.40195931717501465}. Best is trial 188 with value: 8828.008368200837.\u001b[0m\n"
     ]
    },
    {
     "name": "stdout",
     "output_type": "stream",
     "text": [
      "index_parallel='0193'\n"
     ]
    },
    {
     "name": "stderr",
     "output_type": "stream",
     "text": [
      "\u001b[32m[I 2022-08-16 08:31:10,912]\u001b[0m Trial 193 finished with value: 8807.31380753138 and parameters: {'kErase': 2, 'kRadius': 3, 'kAnnealingA': 11.810065583426404, 'kAnnealingB': 0.8432174221792361, 'kAnnealingStart': 8.19422999369628, 'kSkipRatio': 0.7487217910960177, 'kTargetDeterminationTrials': 13, 'kAttractionRatio': 0.4299648089696141, 'kMaxAttractionDistance': 14, 'kStartAttraction': 0.6477374375696279}. Best is trial 188 with value: 8828.008368200837.\u001b[0m\n"
     ]
    },
    {
     "name": "stdout",
     "output_type": "stream",
     "text": [
      "index_parallel='0195'\n"
     ]
    },
    {
     "name": "stderr",
     "output_type": "stream",
     "text": [
      "\u001b[32m[I 2022-08-16 08:35:39,754]\u001b[0m Trial 195 finished with value: 8012.0 and parameters: {'kErase': 5, 'kRadius': 3, 'kAnnealingA': 11.648186132721944, 'kAnnealingB': 0.8244959384150021, 'kAnnealingStart': 7.159857290991909, 'kSkipRatio': 0.734220673902067, 'kTargetDeterminationTrials': 13, 'kAttractionRatio': 0.3662136781046849, 'kMaxAttractionDistance': 16, 'kStartAttraction': 0.5522740796595891}. Best is trial 188 with value: 8828.008368200837.\u001b[0m\n"
     ]
    },
    {
     "name": "stdout",
     "output_type": "stream",
     "text": [
      "index_parallel='0197'\n"
     ]
    },
    {
     "name": "stderr",
     "output_type": "stream",
     "text": [
      "\u001b[32m[I 2022-08-16 08:40:07,753]\u001b[0m Trial 197 finished with value: 8740.456066945606 and parameters: {'kErase': 2, 'kRadius': 3, 'kAnnealingA': 10.704363250235314, 'kAnnealingB': 0.9564241528455087, 'kAnnealingStart': 5.378956782012716, 'kSkipRatio': 0.7494968966407793, 'kTargetDeterminationTrials': 10, 'kAttractionRatio': 0.436762481795249, 'kMaxAttractionDistance': 17, 'kStartAttraction': 0.7023813544866887}. Best is trial 188 with value: 8828.008368200837.\u001b[0m\n"
     ]
    },
    {
     "name": "stdout",
     "output_type": "stream",
     "text": [
      "index_parallel='0199'\n"
     ]
    },
    {
     "name": "stderr",
     "output_type": "stream",
     "text": [
      "\u001b[32m[I 2022-08-16 08:44:35,708]\u001b[0m Trial 199 finished with value: 8811.435146443515 and parameters: {'kErase': 2, 'kRadius': 3, 'kAnnealingA': 12.171148562435215, 'kAnnealingB': 1.376316883954935, 'kAnnealingStart': 8.39904249634703, 'kSkipRatio': 0.7722420726812854, 'kTargetDeterminationTrials': 14, 'kAttractionRatio': 0.5212795843783978, 'kMaxAttractionDistance': 15, 'kStartAttraction': 0.7620603799117791}. Best is trial 188 with value: 8828.008368200837.\u001b[0m\n"
     ]
    },
    {
     "name": "stdout",
     "output_type": "stream",
     "text": [
      "index_parallel='0201'\n"
     ]
    },
    {
     "name": "stderr",
     "output_type": "stream",
     "text": [
      "\u001b[32m[I 2022-08-16 08:49:04,049]\u001b[0m Trial 201 finished with value: 8725.569037656904 and parameters: {'kErase': 2, 'kRadius': 3, 'kAnnealingA': 9.757152113901613, 'kAnnealingB': 1.396213495074172, 'kAnnealingStart': 6.00795833496065, 'kSkipRatio': 0.7899163220643604, 'kTargetDeterminationTrials': 14, 'kAttractionRatio': 0.5073652058147984, 'kMaxAttractionDistance': 15, 'kStartAttraction': 0.7692806811100752}. Best is trial 188 with value: 8828.008368200837.\u001b[0m\n"
     ]
    },
    {
     "name": "stdout",
     "output_type": "stream",
     "text": [
      "index_parallel='0203'\n"
     ]
    },
    {
     "name": "stderr",
     "output_type": "stream",
     "text": [
      "\u001b[32m[I 2022-08-16 08:53:32,208]\u001b[0m Trial 203 finished with value: 8757.121338912133 and parameters: {'kErase': 2, 'kRadius': 3, 'kAnnealingA': 12.118691948322732, 'kAnnealingB': 1.3184253449335628, 'kAnnealingStart': 8.984999006122075, 'kSkipRatio': 0.7588770165149893, 'kTargetDeterminationTrials': 13, 'kAttractionRatio': 0.47013655206026017, 'kMaxAttractionDistance': 12, 'kStartAttraction': 0.6134479396126788}. Best is trial 188 with value: 8828.008368200837.\u001b[0m\n"
     ]
    },
    {
     "name": "stdout",
     "output_type": "stream",
     "text": [
      "index_parallel='0205'\n"
     ]
    },
    {
     "name": "stderr",
     "output_type": "stream",
     "text": [
      "\u001b[32m[I 2022-08-16 08:58:00,315]\u001b[0m Trial 205 finished with value: 8766.456066945606 and parameters: {'kErase': 2, 'kRadius': 3, 'kAnnealingA': 11.210911002203883, 'kAnnealingB': 1.486585299552181, 'kAnnealingStart': 7.989005639006983, 'kSkipRatio': 0.7713634281230974, 'kTargetDeterminationTrials': 15, 'kAttractionRatio': 0.5604335482935024, 'kMaxAttractionDistance': 14, 'kStartAttraction': 0.7927998194580008}. Best is trial 188 with value: 8828.008368200837.\u001b[0m\n"
     ]
    },
    {
     "name": "stdout",
     "output_type": "stream",
     "text": [
      "index_parallel='0207'\n"
     ]
    },
    {
     "name": "stderr",
     "output_type": "stream",
     "text": [
      "\u001b[32m[I 2022-08-16 09:02:28,535]\u001b[0m Trial 207 finished with value: 8786.991631799163 and parameters: {'kErase': 2, 'kRadius': 3, 'kAnnealingA': 10.56288895043214, 'kAnnealingB': 0.955457702425448, 'kAnnealingStart': 8.052053519507165, 'kSkipRatio': 0.7366692174690692, 'kTargetDeterminationTrials': 15, 'kAttractionRatio': 0.4065603094964589, 'kMaxAttractionDistance': 13, 'kStartAttraction': 0.722524747685216}. Best is trial 188 with value: 8828.008368200837.\u001b[0m\n"
     ]
    },
    {
     "name": "stdout",
     "output_type": "stream",
     "text": [
      "index_parallel='0209'\n"
     ]
    },
    {
     "name": "stderr",
     "output_type": "stream",
     "text": [
      "\u001b[32m[I 2022-08-16 09:06:56,977]\u001b[0m Trial 209 finished with value: 8790.196652719666 and parameters: {'kErase': 2, 'kRadius': 3, 'kAnnealingA': 10.677806921479302, 'kAnnealingB': 0.8661324787963649, 'kAnnealingStart': 6.963535575865972, 'kSkipRatio': 0.7371740530679479, 'kTargetDeterminationTrials': 14, 'kAttractionRatio': 0.3993634881444734, 'kMaxAttractionDistance': 13, 'kStartAttraction': 0.8791954040387233}. Best is trial 188 with value: 8828.008368200837.\u001b[0m\n"
     ]
    },
    {
     "name": "stdout",
     "output_type": "stream",
     "text": [
      "index_parallel='0211'\n"
     ]
    },
    {
     "name": "stderr",
     "output_type": "stream",
     "text": [
      "\u001b[32m[I 2022-08-16 09:11:25,188]\u001b[0m Trial 211 finished with value: 8716.987447698744 and parameters: {'kErase': 2, 'kRadius': 3, 'kAnnealingA': 11.519162283909804, 'kAnnealingB': 0.6706625884996553, 'kAnnealingStart': 7.188592491755078, 'kSkipRatio': 0.7522553615512277, 'kTargetDeterminationTrials': 10, 'kAttractionRatio': 0.17622592278989035, 'kMaxAttractionDistance': 12, 'kStartAttraction': 0.8186353851915421}. Best is trial 188 with value: 8828.008368200837.\u001b[0m\n"
     ]
    },
    {
     "name": "stdout",
     "output_type": "stream",
     "text": [
      "index_parallel='0213'\n"
     ]
    },
    {
     "name": "stderr",
     "output_type": "stream",
     "text": [
      "\u001b[32m[I 2022-08-16 09:15:53,716]\u001b[0m Trial 213 finished with value: 8746.133891213389 and parameters: {'kErase': 2, 'kRadius': 3, 'kAnnealingA': 10.649003734533974, 'kAnnealingB': 0.11435361813160827, 'kAnnealingStart': 8.320640222385371, 'kSkipRatio': 0.7372739003880137, 'kTargetDeterminationTrials': 12, 'kAttractionRatio': 0.32036487586345896, 'kMaxAttractionDistance': 13, 'kStartAttraction': 0.7087561935588443}. Best is trial 188 with value: 8828.008368200837.\u001b[0m\n"
     ]
    },
    {
     "name": "stdout",
     "output_type": "stream",
     "text": [
      "index_parallel='0215'\n"
     ]
    },
    {
     "name": "stderr",
     "output_type": "stream",
     "text": [
      "\u001b[32m[I 2022-08-16 09:20:22,286]\u001b[0m Trial 215 finished with value: 8735.824267782427 and parameters: {'kErase': 2, 'kRadius': 3, 'kAnnealingA': 10.045924822408914, 'kAnnealingB': 0.9041366201839844, 'kAnnealingStart': 6.3200420012978515, 'kSkipRatio': 0.7522428333821435, 'kTargetDeterminationTrials': 14, 'kAttractionRatio': 0.41263250391736894, 'kMaxAttractionDistance': 14, 'kStartAttraction': 0.5606033627964593}. Best is trial 188 with value: 8828.008368200837.\u001b[0m\n"
     ]
    },
    {
     "name": "stdout",
     "output_type": "stream",
     "text": [
      "index_parallel='0217'\n"
     ]
    },
    {
     "name": "stderr",
     "output_type": "stream",
     "text": [
      "\u001b[32m[I 2022-08-16 09:24:50,431]\u001b[0m Trial 217 finished with value: 8656.953974895398 and parameters: {'kErase': 2, 'kRadius': 3, 'kAnnealingA': 12.467581420182336, 'kAnnealingB': 0.9861295641864958, 'kAnnealingStart': 7.412850854259156, 'kSkipRatio': 0.7263107012774788, 'kTargetDeterminationTrials': 11, 'kAttractionRatio': 0.4820037277421488, 'kMaxAttractionDistance': 15, 'kStartAttraction': 0.8949120211950965}. Best is trial 188 with value: 8828.008368200837.\u001b[0m\n"
     ]
    },
    {
     "name": "stdout",
     "output_type": "stream",
     "text": [
      "index_parallel='0219'\n"
     ]
    },
    {
     "name": "stderr",
     "output_type": "stream",
     "text": [
      "\u001b[32m[I 2022-08-16 09:29:18,946]\u001b[0m Trial 219 finished with value: 8813.384937238494 and parameters: {'kErase': 2, 'kRadius': 3, 'kAnnealingA': 11.212900203962198, 'kAnnealingB': 0.7619481901777341, 'kAnnealingStart': 8.703829303526188, 'kSkipRatio': 0.7815634701519831, 'kTargetDeterminationTrials': 15, 'kAttractionRatio': 0.43875851713809966, 'kMaxAttractionDistance': 19, 'kStartAttraction': 0.630090679841477}. Best is trial 188 with value: 8828.008368200837.\u001b[0m\n"
     ]
    },
    {
     "name": "stdout",
     "output_type": "stream",
     "text": [
      "index_parallel='0221'\n"
     ]
    },
    {
     "name": "stderr",
     "output_type": "stream",
     "text": [
      "\u001b[32m[I 2022-08-16 09:33:47,310]\u001b[0m Trial 221 finished with value: 8768.414225941422 and parameters: {'kErase': 2, 'kRadius': 3, 'kAnnealingA': 11.935373409377451, 'kAnnealingB': 0.7617770718489774, 'kAnnealingStart': 8.861127570884673, 'kSkipRatio': 0.7974930598820226, 'kTargetDeterminationTrials': 13, 'kAttractionRatio': 0.520180035663233, 'kMaxAttractionDistance': 19, 'kStartAttraction': 0.6374102532809732}. Best is trial 188 with value: 8828.008368200837.\u001b[0m\n"
     ]
    },
    {
     "name": "stdout",
     "output_type": "stream",
     "text": [
      "index_parallel='0223'\n"
     ]
    },
    {
     "name": "stderr",
     "output_type": "stream",
     "text": [
      "\u001b[32m[I 2022-08-16 09:38:15,572]\u001b[0m Trial 223 finished with value: 8766.334728033473 and parameters: {'kErase': 2, 'kRadius': 3, 'kAnnealingA': 10.773919044192674, 'kAnnealingB': 0.8101323934548372, 'kAnnealingStart': 9.50871269324171, 'kSkipRatio': 0.7782988029711504, 'kTargetDeterminationTrials': 17, 'kAttractionRatio': 0.4417134530997364, 'kMaxAttractionDistance': 18, 'kStartAttraction': 0.7640344996697881}. Best is trial 188 with value: 8828.008368200837.\u001b[0m\n"
     ]
    },
    {
     "name": "stdout",
     "output_type": "stream",
     "text": [
      "index_parallel='0225'\n"
     ]
    },
    {
     "name": "stderr",
     "output_type": "stream",
     "text": [
      "\u001b[32m[I 2022-08-16 09:42:43,630]\u001b[0m Trial 225 finished with value: 8801.497907949792 and parameters: {'kErase': 2, 'kRadius': 3, 'kAnnealingA': 11.422876021189769, 'kAnnealingB': 1.4410566125417796, 'kAnnealingStart': 8.054288350097321, 'kSkipRatio': 0.7597468737378217, 'kTargetDeterminationTrials': 16, 'kAttractionRatio': 0.3776038236889947, 'kMaxAttractionDistance': 14, 'kStartAttraction': 0.7539112747753877}. Best is trial 188 with value: 8828.008368200837.\u001b[0m\n"
     ]
    },
    {
     "name": "stdout",
     "output_type": "stream",
     "text": [
      "index_parallel='0227'\n"
     ]
    },
    {
     "name": "stderr",
     "output_type": "stream",
     "text": [
      "\u001b[32m[I 2022-08-16 09:47:12,524]\u001b[0m Trial 227 finished with value: 8694.083682008368 and parameters: {'kErase': 2, 'kRadius': 3, 'kAnnealingA': 11.815701089870336, 'kAnnealingB': 1.308050945515767, 'kAnnealingStart': 10.785544051634087, 'kSkipRatio': 0.7589890206210677, 'kTargetDeterminationTrials': 14, 'kAttractionRatio': 0.60808296670544, 'kMaxAttractionDistance': 14, 'kStartAttraction': 0.5985091685863143}. Best is trial 188 with value: 8828.008368200837.\u001b[0m\n"
     ]
    },
    {
     "name": "stdout",
     "output_type": "stream",
     "text": [
      "index_parallel='0229'\n"
     ]
    },
    {
     "name": "stderr",
     "output_type": "stream",
     "text": [
      "\u001b[32m[I 2022-08-16 09:51:40,870]\u001b[0m Trial 229 finished with value: 8665.154811715482 and parameters: {'kErase': 2, 'kRadius': 3, 'kAnnealingA': 13.413515971895722, 'kAnnealingB': 1.4419494020456505, 'kAnnealingStart': 8.64741875259067, 'kSkipRatio': 0.7794983171769947, 'kTargetDeterminationTrials': 18, 'kAttractionRatio': 0.30200345649363797, 'kMaxAttractionDistance': 15, 'kStartAttraction': 0.47241422662982147}. Best is trial 188 with value: 8828.008368200837.\u001b[0m\n"
     ]
    },
    {
     "name": "stdout",
     "output_type": "stream",
     "text": [
      "index_parallel='0231'\n"
     ]
    },
    {
     "name": "stderr",
     "output_type": "stream",
     "text": [
      "\u001b[32m[I 2022-08-16 09:56:09,006]\u001b[0m Trial 231 finished with value: 8758.133891213389 and parameters: {'kErase': 2, 'kRadius': 3, 'kAnnealingA': 12.491520104350787, 'kAnnealingB': 1.2686450855986713, 'kAnnealingStart': 7.250077517606625, 'kSkipRatio': 0.7458077976358275, 'kTargetDeterminationTrials': 14, 'kAttractionRatio': 0.6617087390319328, 'kMaxAttractionDistance': 17, 'kStartAttraction': 0.8080254449754868}. Best is trial 188 with value: 8828.008368200837.\u001b[0m\n"
     ]
    },
    {
     "name": "stdout",
     "output_type": "stream",
     "text": [
      "index_parallel='0233'\n"
     ]
    },
    {
     "name": "stderr",
     "output_type": "stream",
     "text": [
      "\u001b[32m[I 2022-08-16 10:00:37,139]\u001b[0m Trial 233 finished with value: 8692.502092050208 and parameters: {'kErase': 2, 'kRadius': 3, 'kAnnealingA': 11.307469699804713, 'kAnnealingB': 0.9570048206453611, 'kAnnealingStart': 7.98134863262915, 'kSkipRatio': 0.7449271614431289, 'kTargetDeterminationTrials': 15, 'kAttractionRatio': 0.38245588127147223, 'kMaxAttractionDistance': 13, 'kStartAttraction': 0.698282735568345}. Best is trial 188 with value: 8828.008368200837.\u001b[0m\n"
     ]
    },
    {
     "name": "stdout",
     "output_type": "stream",
     "text": [
      "index_parallel='0235'\n"
     ]
    },
    {
     "name": "stderr",
     "output_type": "stream",
     "text": [
      "\u001b[32m[I 2022-08-16 10:05:05,191]\u001b[0m Trial 235 finished with value: 8745.799163179916 and parameters: {'kErase': 2, 'kRadius': 3, 'kAnnealingA': 10.11289786028438, 'kAnnealingB': 1.5435482067530273, 'kAnnealingStart': 6.76941367837033, 'kSkipRatio': 0.7655721264397781, 'kTargetDeterminationTrials': 16, 'kAttractionRatio': 0.49540000297618825, 'kMaxAttractionDistance': 12, 'kStartAttraction': 0.7496611186247759}. Best is trial 188 with value: 8828.008368200837.\u001b[0m\n"
     ]
    },
    {
     "name": "stdout",
     "output_type": "stream",
     "text": [
      "index_parallel='0237'\n"
     ]
    },
    {
     "name": "stderr",
     "output_type": "stream",
     "text": [
      "\u001b[32m[I 2022-08-16 10:09:33,810]\u001b[0m Trial 237 finished with value: 8743.439330543933 and parameters: {'kErase': 2, 'kRadius': 3, 'kAnnealingA': 11.844350242616335, 'kAnnealingB': 0.8563032587133815, 'kAnnealingStart': 9.569463115235598, 'kSkipRatio': 0.7311238437384916, 'kTargetDeterminationTrials': 12, 'kAttractionRatio': 0.4834911663456993, 'kMaxAttractionDistance': 14, 'kStartAttraction': 0.6134195742695532}. Best is trial 188 with value: 8828.008368200837.\u001b[0m\n"
     ]
    },
    {
     "name": "stdout",
     "output_type": "stream",
     "text": [
      "index_parallel='0239'\n"
     ]
    },
    {
     "name": "stderr",
     "output_type": "stream",
     "text": [
      "\u001b[32m[I 2022-08-16 10:14:01,960]\u001b[0m Trial 239 finished with value: 8771.874476987448 and parameters: {'kErase': 2, 'kRadius': 3, 'kAnnealingA': 9.718860815678475, 'kAnnealingB': 1.6420695981582556, 'kAnnealingStart': 6.731820905929464, 'kSkipRatio': 0.7932557758465371, 'kTargetDeterminationTrials': 13, 'kAttractionRatio': 0.5348908373252761, 'kMaxAttractionDistance': 16, 'kStartAttraction': 0.5553257713949026}. Best is trial 188 with value: 8828.008368200837.\u001b[0m\n"
     ]
    },
    {
     "name": "stdout",
     "output_type": "stream",
     "text": [
      "index_parallel='0241'\n"
     ]
    },
    {
     "name": "stderr",
     "output_type": "stream",
     "text": [
      "\u001b[32m[I 2022-08-16 10:18:30,121]\u001b[0m Trial 241 finished with value: 8699.07949790795 and parameters: {'kErase': 2, 'kRadius': 3, 'kAnnealingA': 9.376445239676427, 'kAnnealingB': 1.432377713996182, 'kAnnealingStart': 7.386038384511603, 'kSkipRatio': 0.7606612625333286, 'kTargetDeterminationTrials': 13, 'kAttractionRatio': 0.7572040246518774, 'kMaxAttractionDistance': 15, 'kStartAttraction': 0.6554383498064157}. Best is trial 188 with value: 8828.008368200837.\u001b[0m\n"
     ]
    },
    {
     "name": "stdout",
     "output_type": "stream",
     "text": [
      "index_parallel='0243'\n"
     ]
    },
    {
     "name": "stderr",
     "output_type": "stream",
     "text": [
      "\u001b[32m[I 2022-08-16 10:22:58,210]\u001b[0m Trial 243 finished with value: 8835.242677824268 and parameters: {'kErase': 2, 'kRadius': 3, 'kAnnealingA': 10.771139606153676, 'kAnnealingB': 1.3826388025653533, 'kAnnealingStart': 9.01757257899936, 'kSkipRatio': 0.7406941195105404, 'kTargetDeterminationTrials': 15, 'kAttractionRatio': 0.43665085027373596, 'kMaxAttractionDistance': 14, 'kStartAttraction': 0.804548910564188}. Best is trial 243 with value: 8835.242677824268.\u001b[0m\n"
     ]
    },
    {
     "name": "stdout",
     "output_type": "stream",
     "text": [
      "Updated! 8835.242677824268\n",
      "index_parallel='0245'\n"
     ]
    },
    {
     "name": "stderr",
     "output_type": "stream",
     "text": [
      "\u001b[32m[I 2022-08-16 10:27:26,810]\u001b[0m Trial 245 finished with value: 8743.57740585774 and parameters: {'kErase': 2, 'kRadius': 3, 'kAnnealingA': 12.773150101313547, 'kAnnealingB': 1.3842585829956604, 'kAnnealingStart': 10.112503829052997, 'kSkipRatio': 0.7447165707295516, 'kTargetDeterminationTrials': 12, 'kAttractionRatio': 0.47396679443575374, 'kMaxAttractionDistance': 14, 'kStartAttraction': 0.8011196724062718}. Best is trial 243 with value: 8835.242677824268.\u001b[0m\n"
     ]
    },
    {
     "name": "stdout",
     "output_type": "stream",
     "text": [
      "index_parallel='0247'\n"
     ]
    },
    {
     "name": "stderr",
     "output_type": "stream",
     "text": [
      "\u001b[32m[I 2022-08-16 10:31:55,369]\u001b[0m Trial 247 finished with value: 8263.23849372385 and parameters: {'kErase': 2, 'kRadius': 3, 'kAnnealingA': 11.39821690548253, 'kAnnealingB': 1.2901883505664344, 'kAnnealingStart': 8.746230812762699, 'kSkipRatio': 0.7742407587525396, 'kTargetDeterminationTrials': 14, 'kAttractionRatio': 0.01928442090682032, 'kMaxAttractionDistance': 13, 'kStartAttraction': 0.8861590467973351}. Best is trial 243 with value: 8835.242677824268.\u001b[0m\n"
     ]
    },
    {
     "name": "stdout",
     "output_type": "stream",
     "text": [
      "index_parallel='0249'\n"
     ]
    },
    {
     "name": "stderr",
     "output_type": "stream",
     "text": [
      "\u001b[32m[I 2022-08-16 10:36:23,526]\u001b[0m Trial 249 finished with value: 8731.535564853557 and parameters: {'kErase': 2, 'kRadius': 3, 'kAnnealingA': 13.896084893107652, 'kAnnealingB': 1.52444460438013, 'kAnnealingStart': 7.56318031226923, 'kSkipRatio': 0.726683597529371, 'kTargetDeterminationTrials': 16, 'kAttractionRatio': 0.5776806509083554, 'kMaxAttractionDistance': 12, 'kStartAttraction': 0.6707012035747993}. Best is trial 243 with value: 8835.242677824268.\u001b[0m\n"
     ]
    },
    {
     "name": "stdout",
     "output_type": "stream",
     "text": [
      "index_parallel='0251'\n"
     ]
    },
    {
     "name": "stderr",
     "output_type": "stream",
     "text": [
      "\u001b[32m[I 2022-08-16 10:40:52,084]\u001b[0m Trial 251 finished with value: 8514.439330543933 and parameters: {'kErase': 2, 'kRadius': 3, 'kAnnealingA': -7.231691130561156, 'kAnnealingB': 0.7660199029206306, 'kAnnealingStart': 11.37436835446364, 'kSkipRatio': 0.7556145160340896, 'kTargetDeterminationTrials': 13, 'kAttractionRatio': 0.7294390829928588, 'kMaxAttractionDistance': 18, 'kStartAttraction': 0.5147553486897964}. Best is trial 250 with value: 8842.753138075313.\u001b[0m\n"
     ]
    },
    {
     "name": "stdout",
     "output_type": "stream",
     "text": [
      "index_parallel='0253'\n"
     ]
    },
    {
     "name": "stderr",
     "output_type": "stream",
     "text": [
      "\u001b[32m[I 2022-08-16 10:45:20,137]\u001b[0m Trial 253 finished with value: 8738.63179916318 and parameters: {'kErase': 2, 'kRadius': 3, 'kAnnealingA': 10.381276415424542, 'kAnnealingB': 0.6687034795004074, 'kAnnealingStart': 7.111741839438201, 'kSkipRatio': 0.7061475878326292, 'kTargetDeterminationTrials': 17, 'kAttractionRatio': 0.7814982360070585, 'kMaxAttractionDistance': 12, 'kStartAttraction': 0.5684651214230588}. Best is trial 250 with value: 8842.753138075313.\u001b[0m\n"
     ]
    },
    {
     "name": "stdout",
     "output_type": "stream",
     "text": [
      "index_parallel='0255'\n"
     ]
    },
    {
     "name": "stderr",
     "output_type": "stream",
     "text": [
      "\u001b[32m[I 2022-08-16 10:49:48,494]\u001b[0m Trial 255 finished with value: 8778.92050209205 and parameters: {'kErase': 2, 'kRadius': 3, 'kAnnealingA': 10.86153891881661, 'kAnnealingB': 1.3161437291814833, 'kAnnealingStart': 5.996260229417584, 'kSkipRatio': 0.7188604989914749, 'kTargetDeterminationTrials': 11, 'kAttractionRatio': 0.6561092373628269, 'kMaxAttractionDistance': 16, 'kStartAttraction': 0.45803066824545696}. Best is trial 250 with value: 8842.753138075313.\u001b[0m\n"
     ]
    },
    {
     "name": "stdout",
     "output_type": "stream",
     "text": [
      "index_parallel='0257'\n"
     ]
    },
    {
     "name": "stderr",
     "output_type": "stream",
     "text": [
      "\u001b[32m[I 2022-08-16 10:54:16,651]\u001b[0m Trial 257 finished with value: 8757.380753138075 and parameters: {'kErase': 2, 'kRadius': 3, 'kAnnealingA': 12.238917073177566, 'kAnnealingB': 1.1544931704949628, 'kAnnealingStart': 8.055699505528816, 'kSkipRatio': 0.7287714568861359, 'kTargetDeterminationTrials': 15, 'kAttractionRatio': 0.8138415716003817, 'kMaxAttractionDistance': 11, 'kStartAttraction': 0.6243728361003587}. Best is trial 250 with value: 8842.753138075313.\u001b[0m\n"
     ]
    },
    {
     "name": "stdout",
     "output_type": "stream",
     "text": [
      "index_parallel='0259'\n"
     ]
    },
    {
     "name": "stderr",
     "output_type": "stream",
     "text": [
      "\u001b[32m[I 2022-08-16 10:58:44,781]\u001b[0m Trial 259 finished with value: 8733.221757322175 and parameters: {'kErase': 2, 'kRadius': 3, 'kAnnealingA': 13.080680118271665, 'kAnnealingB': 1.4398021810342518, 'kAnnealingStart': 6.345239575870607, 'kSkipRatio': 0.7994997828994354, 'kTargetDeterminationTrials': 12, 'kAttractionRatio': 0.6153836762286315, 'kMaxAttractionDistance': 14, 'kStartAttraction': 0.5049609893264497}. Best is trial 250 with value: 8842.753138075313.\u001b[0m\n"
     ]
    },
    {
     "name": "stdout",
     "output_type": "stream",
     "text": [
      "index_parallel='0261'\n"
     ]
    },
    {
     "name": "stderr",
     "output_type": "stream",
     "text": [
      "\u001b[32m[I 2022-08-16 11:03:12,897]\u001b[0m Trial 261 finished with value: 8770.794979079497 and parameters: {'kErase': 2, 'kRadius': 3, 'kAnnealingA': 14.171589617829271, 'kAnnealingB': 1.227355611213306, 'kAnnealingStart': 5.50798877317089, 'kSkipRatio': 0.7197656277379504, 'kTargetDeterminationTrials': 11, 'kAttractionRatio': 0.5841779964573002, 'kMaxAttractionDistance': 11, 'kStartAttraction': 0.6144820551896639}. Best is trial 250 with value: 8842.753138075313.\u001b[0m\n"
     ]
    },
    {
     "name": "stdout",
     "output_type": "stream",
     "text": [
      "index_parallel='0263'\n"
     ]
    },
    {
     "name": "stderr",
     "output_type": "stream",
     "text": [
      "\u001b[32m[I 2022-08-16 11:07:41,240]\u001b[0m Trial 263 finished with value: 8806.677824267783 and parameters: {'kErase': 2, 'kRadius': 3, 'kAnnealingA': 12.59775315304556, 'kAnnealingB': 1.3642443930615562, 'kAnnealingStart': 5.805291093929235, 'kSkipRatio': 0.7863462756729325, 'kTargetDeterminationTrials': 12, 'kAttractionRatio': 0.6750046113614048, 'kMaxAttractionDistance': 18, 'kStartAttraction': 0.7143019646373255}. Best is trial 250 with value: 8842.753138075313.\u001b[0m\n"
     ]
    },
    {
     "name": "stdout",
     "output_type": "stream",
     "text": [
      "index_parallel='0265'\n"
     ]
    },
    {
     "name": "stderr",
     "output_type": "stream",
     "text": [
      "\u001b[32m[I 2022-08-16 11:12:10,611]\u001b[0m Trial 265 finished with value: 8742.57740585774 and parameters: {'kErase': 2, 'kRadius': 3, 'kAnnealingA': 13.443696718804585, 'kAnnealingB': 1.4844016840664482, 'kAnnealingStart': 5.324329647374363, 'kSkipRatio': 0.6927531435415534, 'kTargetDeterminationTrials': 10, 'kAttractionRatio': 0.6967401648477561, 'kMaxAttractionDistance': 19, 'kStartAttraction': 0.6732388224386201}. Best is trial 250 with value: 8842.753138075313.\u001b[0m\n"
     ]
    },
    {
     "name": "stdout",
     "output_type": "stream",
     "text": [
      "index_parallel='0266'\n"
     ]
    },
    {
     "name": "stderr",
     "output_type": "stream",
     "text": [
      "\u001b[32m[I 2022-08-16 11:16:38,477]\u001b[0m Trial 266 finished with value: 8701.435146443515 and parameters: {'kErase': 2, 'kRadius': 3, 'kAnnealingA': 11.941298058950027, 'kAnnealingB': 1.7753705846909786, 'kAnnealingStart': 6.57020086966816, 'kSkipRatio': 0.7884947422333518, 'kTargetDeterminationTrials': 12, 'kAttractionRatio': 0.532901152329649, 'kMaxAttractionDistance': 18, 'kStartAttraction': 0.5798344575297949}. Best is trial 250 with value: 8842.753138075313.\u001b[0m\n"
     ]
    },
    {
     "name": "stdout",
     "output_type": "stream",
     "text": [
      "index_parallel='0267'\n"
     ]
    },
    {
     "name": "stderr",
     "output_type": "stream",
     "text": [
      "\u001b[32m[I 2022-08-16 11:21:06,981]\u001b[0m Trial 267 finished with value: 8666.263598326359 and parameters: {'kErase': 2, 'kRadius': 3, 'kAnnealingA': 12.603567155269578, 'kAnnealingB': 1.5888330293954385, 'kAnnealingStart': 4.828205954559304, 'kSkipRatio': 0.7807876008101982, 'kTargetDeterminationTrials': 11, 'kAttractionRatio': 0.7587472366903827, 'kMaxAttractionDistance': 22, 'kStartAttraction': 0.41411104406082366}. Best is trial 250 with value: 8842.753138075313.\u001b[0m\n"
     ]
    },
    {
     "name": "stdout",
     "output_type": "stream",
     "text": [
      "index_parallel='0268'\n"
     ]
    },
    {
     "name": "stderr",
     "output_type": "stream",
     "text": [
      "\u001b[32m[I 2022-08-16 11:25:35,307]\u001b[0m Trial 268 finished with value: 8394.539748953976 and parameters: {'kErase': 2, 'kRadius': 3, 'kAnnealingA': 12.44946016789461, 'kAnnealingB': 1.331816949396853, 'kAnnealingStart': 36.50477387939428, 'kSkipRatio': 0.7720649535947317, 'kTargetDeterminationTrials': 12, 'kAttractionRatio': 0.6558154000074726, 'kMaxAttractionDistance': 18, 'kStartAttraction': 0.004055972525058216}. Best is trial 250 with value: 8842.753138075313.\u001b[0m\n"
     ]
    },
    {
     "name": "stdout",
     "output_type": "stream",
     "text": [
      "index_parallel='0269'\n"
     ]
    },
    {
     "name": "stderr",
     "output_type": "stream",
     "text": [
      "\u001b[32m[I 2022-08-16 11:30:03,679]\u001b[0m Trial 269 finished with value: 8124.133891213389 and parameters: {'kErase': 2, 'kRadius': 3, 'kAnnealingA': 11.425038539495787, 'kAnnealingB': 1.4759658723922169, 'kAnnealingStart': 6.018775858108851, 'kSkipRatio': 0.734961046199379, 'kTargetDeterminationTrials': 13, 'kAttractionRatio': 0.5412208973895297, 'kMaxAttractionDistance': 15, 'kStartAttraction': 0.06393309301114765}. Best is trial 250 with value: 8842.753138075313.\u001b[0m\n"
     ]
    },
    {
     "name": "stdout",
     "output_type": "stream",
     "text": [
      "index_parallel='0270'\n"
     ]
    },
    {
     "name": "stderr",
     "output_type": "stream",
     "text": [
      "\u001b[32m[I 2022-08-16 11:34:32,086]\u001b[0m Trial 270 finished with value: 8142.418410041841 and parameters: {'kErase': 2, 'kRadius': 3, 'kAnnealingA': 13.071909565458414, 'kAnnealingB': 1.3743921315516894, 'kAnnealingStart': 5.8855057045213055, 'kSkipRatio': 0.7926616498093855, 'kTargetDeterminationTrials': 11, 'kAttractionRatio': 0.7307731442734466, 'kMaxAttractionDistance': 17, 'kStartAttraction': 0.10985147109257634}. Best is trial 250 with value: 8842.753138075313.\u001b[0m\n"
     ]
    },
    {
     "name": "stdout",
     "output_type": "stream",
     "text": [
      "index_parallel='0271'\n"
     ]
    },
    {
     "name": "stderr",
     "output_type": "stream",
     "text": [
      "\u001b[32m[I 2022-08-16 11:39:00,346]\u001b[0m Trial 271 finished with value: 8690.78661087866 and parameters: {'kErase': 2, 'kRadius': 3, 'kAnnealingA': 13.950611809965515, 'kAnnealingB': 1.1069553628487356, 'kAnnealingStart': 9.6796096849499, 'kSkipRatio': 0.7505838310838558, 'kTargetDeterminationTrials': 13, 'kAttractionRatio': 0.6215423840994164, 'kMaxAttractionDistance': 13, 'kStartAttraction': 0.5506069321772498}. Best is trial 250 with value: 8842.753138075313.\u001b[0m\n"
     ]
    },
    {
     "name": "stdout",
     "output_type": "stream",
     "text": [
      "index_parallel='0272'\n"
     ]
    }
   ],
   "source": [
    "study.optimize(\n",
    "    partial(objective, in_dir=in_dir, work_dir=work_dir),\n",
    "    n_trials=3000,\n",
    "    timeout=86400,\n",
    "    callbacks=[callback]\n",
    ")"
   ]
  },
  {
   "cell_type": "code",
   "execution_count": null,
   "id": "700269d2",
   "metadata": {},
   "outputs": [],
   "source": []
  }
 ],
 "metadata": {
  "kernelspec": {
   "display_name": "Python 3 (ipykernel)",
   "language": "python",
   "name": "python3"
  },
  "language_info": {
   "codemirror_mode": {
    "name": "ipython",
    "version": 3
   },
   "file_extension": ".py",
   "mimetype": "text/x-python",
   "name": "python",
   "nbconvert_exporter": "python",
   "pygments_lexer": "ipython3",
   "version": "3.9.12"
  }
 },
 "nbformat": 4,
 "nbformat_minor": 5
}
