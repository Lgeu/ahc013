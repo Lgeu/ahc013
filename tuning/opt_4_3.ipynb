{
 "cells": [
  {
   "cell_type": "code",
   "execution_count": 1,
   "id": "25a1dac8",
   "metadata": {},
   "outputs": [],
   "source": [
    "import re\n",
    "import sys\n",
    "from uuid import uuid1\n",
    "from time import sleep\n",
    "from pprint import pprint\n",
    "from pathlib import Path\n",
    "from tempfile import gettempdir\n",
    "from threading import Thread\n",
    "from functools import partial\n",
    "from subprocess import Popen, PIPE\n",
    "\n",
    "from tqdm.notebook import tqdm\n",
    "import numpy as np\n",
    "import optuna\n",
    "import pandas as pd\n",
    "import matplotlib.pyplot as plt\n",
    "\n",
    "FILENAME = \"main.cpp\""
   ]
  },
  {
   "cell_type": "code",
   "execution_count": 2,
   "id": "3dd4d02e",
   "metadata": {},
   "outputs": [
    {
     "name": "stdout",
     "output_type": "stream",
     "text": [
      "10 variables were found.\n"
     ]
    },
    {
     "data": {
      "text/html": [
       "<div>\n",
       "<style scoped>\n",
       "    .dataframe tbody tr th:only-of-type {\n",
       "        vertical-align: middle;\n",
       "    }\n",
       "\n",
       "    .dataframe tbody tr th {\n",
       "        vertical-align: top;\n",
       "    }\n",
       "\n",
       "    .dataframe thead th {\n",
       "        text-align: right;\n",
       "    }\n",
       "</style>\n",
       "<table border=\"1\" class=\"dataframe\">\n",
       "  <thead>\n",
       "    <tr style=\"text-align: right;\">\n",
       "      <th></th>\n",
       "      <th>name</th>\n",
       "      <th>method</th>\n",
       "      <th>min</th>\n",
       "      <th>max</th>\n",
       "      <th>log</th>\n",
       "      <th>left</th>\n",
       "      <th>right</th>\n",
       "    </tr>\n",
       "  </thead>\n",
       "  <tbody>\n",
       "    <tr>\n",
       "      <th>0</th>\n",
       "      <td>kErase</td>\n",
       "      <td>suggest_int</td>\n",
       "      <td>1.000</td>\n",
       "      <td>5.0</td>\n",
       "      <td>False</td>\n",
       "      <td>static constexpr auto kErase =</td>\n",
       "      <td>;             // OPTIMIZE [1, 5]</td>\n",
       "    </tr>\n",
       "    <tr>\n",
       "      <th>1</th>\n",
       "      <td>kRadius</td>\n",
       "      <td>suggest_int</td>\n",
       "      <td>2.000</td>\n",
       "      <td>6.0</td>\n",
       "      <td>False</td>\n",
       "      <td>static constexpr auto kRadius =</td>\n",
       "      <td>;            // OPTIMIZE [2, 6]</td>\n",
       "    </tr>\n",
       "    <tr>\n",
       "      <th>2</th>\n",
       "      <td>kAnnealingA</td>\n",
       "      <td>suggest_float</td>\n",
       "      <td>-15.000</td>\n",
       "      <td>15.0</td>\n",
       "      <td>False</td>\n",
       "      <td>static constexpr auto kAnnealingA =</td>\n",
       "      <td>;      // OPTIMIZE [-15.0, 15.0]</td>\n",
       "    </tr>\n",
       "    <tr>\n",
       "      <th>3</th>\n",
       "      <td>kAnnealingB</td>\n",
       "      <td>suggest_float</td>\n",
       "      <td>0.000</td>\n",
       "      <td>3.0</td>\n",
       "      <td>False</td>\n",
       "      <td>static constexpr auto kAnnealingB =</td>\n",
       "      <td>;      // OPTIMIZE [0.0, 3.0]</td>\n",
       "    </tr>\n",
       "    <tr>\n",
       "      <th>4</th>\n",
       "      <td>kAnnealingStart</td>\n",
       "      <td>suggest_float</td>\n",
       "      <td>1.000</td>\n",
       "      <td>100.0</td>\n",
       "      <td>True</td>\n",
       "      <td>static constexpr auto kAnnealingStart =</td>\n",
       "      <td>; // OPTIMIZE LOG [1.0, 100.0]</td>\n",
       "    </tr>\n",
       "    <tr>\n",
       "      <th>5</th>\n",
       "      <td>kSkipRatio</td>\n",
       "      <td>suggest_float</td>\n",
       "      <td>0.200</td>\n",
       "      <td>0.8</td>\n",
       "      <td>False</td>\n",
       "      <td>static constexpr auto kSkipRatio =</td>\n",
       "      <td>;       // OPTIMIZE [0.2, 0.8]</td>\n",
       "    </tr>\n",
       "    <tr>\n",
       "      <th>6</th>\n",
       "      <td>kTargetDeterminationTrials</td>\n",
       "      <td>suggest_int</td>\n",
       "      <td>1.000</td>\n",
       "      <td>20.0</td>\n",
       "      <td>True</td>\n",
       "      <td>static constexpr auto kTargetDeterminationTria...</td>\n",
       "      <td>; // OPTIMIZE LOG [1, 20]</td>\n",
       "    </tr>\n",
       "    <tr>\n",
       "      <th>7</th>\n",
       "      <td>kAttractionRatio</td>\n",
       "      <td>suggest_float</td>\n",
       "      <td>0.010</td>\n",
       "      <td>0.9</td>\n",
       "      <td>True</td>\n",
       "      <td>static constexpr auto kAttractionRatio =</td>\n",
       "      <td>;      // OPTIMIZE LOG [0.01, 0.9]</td>\n",
       "    </tr>\n",
       "    <tr>\n",
       "      <th>8</th>\n",
       "      <td>kMaxAttractionDistance</td>\n",
       "      <td>suggest_int</td>\n",
       "      <td>4.000</td>\n",
       "      <td>99.0</td>\n",
       "      <td>True</td>\n",
       "      <td>static constexpr auto kMaxAttractionDistance =</td>\n",
       "      <td>; // OPTIMIZE LOG [4, 99]</td>\n",
       "    </tr>\n",
       "    <tr>\n",
       "      <th>9</th>\n",
       "      <td>kStartAttraction</td>\n",
       "      <td>suggest_float</td>\n",
       "      <td>0.001</td>\n",
       "      <td>0.9</td>\n",
       "      <td>True</td>\n",
       "      <td>static constexpr auto kStartAttraction =</td>\n",
       "      <td>;     // OPTIMIZE LOG [0.001, 0.9]</td>\n",
       "    </tr>\n",
       "  </tbody>\n",
       "</table>\n",
       "</div>"
      ],
      "text/plain": [
       "                         name         method     min    max    log  \\\n",
       "0                      kErase    suggest_int   1.000    5.0  False   \n",
       "1                     kRadius    suggest_int   2.000    6.0  False   \n",
       "2                 kAnnealingA  suggest_float -15.000   15.0  False   \n",
       "3                 kAnnealingB  suggest_float   0.000    3.0  False   \n",
       "4             kAnnealingStart  suggest_float   1.000  100.0   True   \n",
       "5                  kSkipRatio  suggest_float   0.200    0.8  False   \n",
       "6  kTargetDeterminationTrials    suggest_int   1.000   20.0   True   \n",
       "7            kAttractionRatio  suggest_float   0.010    0.9   True   \n",
       "8      kMaxAttractionDistance    suggest_int   4.000   99.0   True   \n",
       "9            kStartAttraction  suggest_float   0.001    0.9   True   \n",
       "\n",
       "                                                left  \\\n",
       "0                    static constexpr auto kErase =    \n",
       "1                   static constexpr auto kRadius =    \n",
       "2               static constexpr auto kAnnealingA =    \n",
       "3               static constexpr auto kAnnealingB =    \n",
       "4           static constexpr auto kAnnealingStart =    \n",
       "5                static constexpr auto kSkipRatio =    \n",
       "6  static constexpr auto kTargetDeterminationTria...   \n",
       "7          static constexpr auto kAttractionRatio =    \n",
       "8    static constexpr auto kMaxAttractionDistance =    \n",
       "9          static constexpr auto kStartAttraction =    \n",
       "\n",
       "                                right  \n",
       "0    ;             // OPTIMIZE [1, 5]  \n",
       "1     ;            // OPTIMIZE [2, 6]  \n",
       "2    ;      // OPTIMIZE [-15.0, 15.0]  \n",
       "3       ;      // OPTIMIZE [0.0, 3.0]  \n",
       "4      ; // OPTIMIZE LOG [1.0, 100.0]  \n",
       "5      ;       // OPTIMIZE [0.2, 0.8]  \n",
       "6           ; // OPTIMIZE LOG [1, 20]  \n",
       "7  ;      // OPTIMIZE LOG [0.01, 0.9]  \n",
       "8           ; // OPTIMIZE LOG [4, 99]  \n",
       "9  ;     // OPTIMIZE LOG [0.001, 0.9]  "
      ]
     },
     "metadata": {},
     "output_type": "display_data"
    }
   ],
   "source": [
    "# ここでエラー出力は何かおかしいかもしれない\n",
    "\n",
    "\n",
    "# パラメータ抽出\n",
    "with open(FILENAME) as f:\n",
    "    answer = f.read()\n",
    "\n",
    "\n",
    "variables_optimize = []\n",
    "\n",
    "for left, value, right, options in re.findall(r\"^([^/\\n]*=\\s*)(.+?)(\\s*;\\s*//(?:.*\\W)?OPTIMIZE(\\W.*))$\", answer, re.MULTILINE):\n",
    "    name = left.replace(\"=\", \"\").strip().split()[-1]\n",
    "    \n",
    "    searched = re.search(r\".*\\[(?P<min>.*),(?P<max>.*)\\].*\", options)\n",
    "    if searched:\n",
    "        min_value = max_value = None\n",
    "        try:\n",
    "            min_value = eval(searched.group(\"min\"))\n",
    "            max_value = eval(searched.group(\"max\"))\n",
    "            assert min_value <= max_value\n",
    "        except Exception as e:\n",
    "            print(f\"searched={searched}\", file=sys.stderr)\n",
    "            print(e, file=sys.stderr)\n",
    "            continue\n",
    "        log = \"LOG\" in options  # 雑、直したほうが良い\n",
    "        if type(min_value) != type(max_value):\n",
    "            print(f\"searched={searched}\", file=sys.stderr)\n",
    "            print(\"types not matched\", file=sys.stderr)\n",
    "            continue\n",
    "        if isinstance(min_value, int):\n",
    "            method = \"suggest_int\"\n",
    "        elif isinstance(min_value, float):\n",
    "            method = \"suggest_float\"\n",
    "        else:\n",
    "            print(f\"searched={searched}\", file=sys.stderr)\n",
    "            print(f\"unknown type ({type(min_value)})\", file=sys.stderr)\n",
    "            continue\n",
    "        variables_optimize.append({\n",
    "            \"name\": name,\n",
    "            \"method\": method,\n",
    "            \"min\": min_value,\n",
    "            \"max\": max_value,\n",
    "            \"log\": log,\n",
    "            \"left\": left,\n",
    "            \"right\": right,\n",
    "        })\n",
    "    elif searched := re.search(r\".*\\{(?P<choices>.*?)\\}.*\", options):\n",
    "        choices = list(map(lambda x: x.strip(), searched.group(\"choices\").split(\",\")))\n",
    "        variables_optimize.append({\n",
    "            \"name\": name,\n",
    "            \"method\": \"suggest_categorical\",\n",
    "            \"choices\": choices,\n",
    "            \"left\": left,\n",
    "            \"right\": right,\n",
    "        })\n",
    "    else:\n",
    "        print(f\"searched={searched}\", file=sys.stderr)\n",
    "        print(f\"pattern was matched but options are incorrect.\", file=sys.stderr)\n",
    "\n",
    "print(len(variables_optimize), \"variables were found.\")\n",
    "if globals().get(\"pd\"):\n",
    "    display(pd.DataFrame(variables_optimize))\n",
    "else:\n",
    "    pprint(variables_optimize)"
   ]
  },
  {
   "cell_type": "code",
   "execution_count": 3,
   "id": "001042b9",
   "metadata": {},
   "outputs": [],
   "source": [
    "def escape(string):  # 正規表現の中でそのまま使いたい文字列をエスケープ\n",
    "    res = !echo '{string}' | sed -e 's/[]\\/$*.^[]/\\\\&/g'\n",
    "    return res[0]\n",
    "\n",
    "def escape_sed(string):  # sed の置換後の文字列用のエスケープ\n",
    "    res = !echo '{string}' | sed -e 's/[\\/&]/\\\\&/g'\n",
    "    return res[0]\n",
    "\n",
    "def read_stream(name, in_file, out_file):\n",
    "    for line in in_file:\n",
    "        print(f\"[{name}] {line.strip()}\", file=out_file)\n",
    "\n",
    "def run(cmd, name):\n",
    "    proc = Popen(cmd, stdout=PIPE, stderr=PIPE, universal_newlines=True, shell=isinstance(cmd, str))\n",
    "    stdout_thread = Thread(target=read_stream, args=(name, proc.stdout, sys.stdout))\n",
    "    stderr_thread = Thread(target=read_stream, args=(name, proc.stderr, sys.stderr))\n",
    "    stdout_thread.start()\n",
    "    stderr_thread.start()\n",
    "    proc.wait()\n",
    "    return proc\n",
    "\n",
    "def objective(trial, in_dir, work_dir):\n",
    "    n_internal_parallel = 3\n",
    "    \n",
    "    index_parallel = f\"{trial.number:04d}\"\n",
    "    print(f\"{index_parallel=}\")\n",
    "    \n",
    "    work_dir = Path(work_dir)\n",
    "    directory_input = Path(in_dir)  # 中のすべてのファイルに対して実行される\n",
    "    #parameters_changed_filename = Path(gettempdir()) / str(uuid1())\n",
    "    parameters_changed_filename = work_dir / f\"{index_parallel}_{FILENAME}\"\n",
    "    \n",
    "    run([\"mkdir\", f\"{work_dir / index_parallel}_out\"], \"mkdir\")\n",
    "    run([\"mkdir\", f\"{work_dir / index_parallel}_score\"], \"mkdir\")\n",
    "    \n",
    "    # ファイル作成\n",
    "    run(f\"cp {FILENAME} {parameters_changed_filename}\", \"cp\")\n",
    "    sed_options = [f\"-i {parameters_changed_filename}\"]\n",
    "    for variable in variables_optimize:\n",
    "        if variable[\"method\"] == \"suggest_categorical\":\n",
    "            val =  trial.suggest_categorical(variable[\"name\"], variable[\"choices\"])\n",
    "        else:\n",
    "            val = getattr(trial, variable[\"method\"])(variable[\"name\"], variable[\"min\"], variable[\"max\"], log=variable[\"log\"])\n",
    "        left = variable[\"left\"]\n",
    "        right = variable[\"right\"]\n",
    "        sed_options.append(f\"\"\"-e 's/^{escape(left)}.*{escape(right)}$/{escape_sed(left)}{val}{escape_sed(right)}/'\"\"\")\n",
    "    command_sed = f\"sed {' '.join(sed_options)}\"\n",
    "    #print(command_sed)\n",
    "    run(command_sed, \"sed\")\n",
    "    \n",
    "    # コンパイル\n",
    "    command_compile = f\"g++ {parameters_changed_filename} -std=gnu++17 -O2 -DONLINE_JUDGE -o {parameters_changed_filename}.out\"\n",
    "    #print(command_compile)\n",
    "    run(command_compile, \"compile\")\n",
    "    # 実行・採点コマンド (@ はファイル名)\n",
    "    command_exec = (\n",
    "        #f\"./a.out < ./tools/in/{i:04d}.txt > {out_file} && ./tools/target/release/vis ./tools/in/{i:04d}.txt {out_file}\"\n",
    "        #f\"../tools/target/release/tester $(pwd)/{parameters_changed_filename}.out < {directory_input}/@ 2>&1 | grep Score\"\n",
    "        #f\"../tools/target/release/tester $(pwd)/{parameters_changed_filename}.out < {directory_input}/@ 2>&1 | grep Score | sed -E s/[^0-9]+// > ./{index_parallel}_score/@;\"\n",
    "        #f\"cargo run --release --manifest-path ../tools/Cargo.toml --bin tester {directory_input}/@ $(pwd)/{parameters_changed_filename}.out 2>&1 | grep Score | sed -E s/[^0-9]+// > ./{index_parallel}_score/@;\"\n",
    "        f\"./{parameters_changed_filename}.out < {directory_input}/@ > {work_dir / index_parallel}_out/@;\"\n",
    "        f\"../tools/target/release/vis {directory_input}/@ {work_dir / index_parallel}_out/@ 2> /dev/null > {work_dir / index_parallel}_score/@;\"\n",
    "    )\n",
    "    # 並列実行 (sed はパスのディレクトリ部分を消してファイル名にしてる)\n",
    "    run(f\"find {directory_input}/* | sed 's!^.*/!!' | xargs -I@ -P {n_internal_parallel} sh -c '{command_exec}'\", \"exec\")\n",
    "    \n",
    "    # 集計\n",
    "    scores = []\n",
    "    for file_path in Path(f\"{work_dir / index_parallel}_score/\").iterdir():  \n",
    "        with open(file_path) as f:\n",
    "            scores.append(int(f.readline().strip().split()[-1]))\n",
    "    mean_score = sum(scores) / len(scores)\n",
    "    \n",
    "    # 後始末\n",
    "    run(f\"rm -rf {work_dir / index_parallel}_out\", \"rm\")\n",
    "    run(f\"rm -rf {work_dir / index_parallel}_score\", \"rm\")\n",
    "    #run(f\"rm {parameters_changed_filename}\", \"rm\")\n",
    "    run(f\"rm {parameters_changed_filename}.out\", \"rm\")\n",
    "    \n",
    "    return mean_score"
   ]
  },
  {
   "cell_type": "code",
   "execution_count": 4,
   "id": "2d2e133c",
   "metadata": {},
   "outputs": [
    {
     "name": "stderr",
     "output_type": "stream",
     "text": [
      "\u001b[32m[I 2022-08-15 21:30:06,808]\u001b[0m A new study created in RDB with name: study_4_3\u001b[0m\n"
     ]
    }
   ],
   "source": [
    "K = 4\n",
    "N_CLASS = 3\n",
    "\n",
    "in_dir = Path(f\"in_{K}_{N_CLASS}\")\n",
    "work_dir = Path(f\"work_{K}_{N_CLASS}\")\n",
    "\n",
    "study_name = f\"study_{K}_{N_CLASS}\"\n",
    "storage_path = work_dir / \"study.db\"\n",
    "storage = f\"sqlite:///{storage_path}\"\n",
    "study = optuna.create_study(storage=storage, load_if_exists=True, study_name=study_name, direction=\"maximize\")\n",
    "\n",
    "def callback(study, trial):\n",
    "    try:\n",
    "        index_parallel = f\"{trial.number:04d}\"\n",
    "        parameters_changed_filename = work_dir / f\"{index_parallel}_{FILENAME}\"\n",
    "        if study.best_value == trial.value:\n",
    "            print(f\"Updated! {study.best_value}\")\n",
    "            !cp {parameters_changed_filename} {work_dir / \"best_parameters.cpp\"}\n",
    "        !rm {parameters_changed_filename}\n",
    "    except:\n",
    "        print(\":(\")\n"
   ]
  },
  {
   "cell_type": "code",
   "execution_count": null,
   "id": "61c2901d",
   "metadata": {},
   "outputs": [
    {
     "name": "stdout",
     "output_type": "stream",
     "text": [
      "index_parallel='0000'\n"
     ]
    },
    {
     "name": "stderr",
     "output_type": "stream",
     "text": [
      "\u001b[32m[I 2022-08-15 21:34:34,081]\u001b[0m Trial 0 finished with value: 7974.158995815899 and parameters: {'kErase': 1, 'kRadius': 4, 'kAnnealingA': 8.031324721189307, 'kAnnealingB': 1.1030681005381138, 'kAnnealingStart': 1.1543635309748357, 'kSkipRatio': 0.7671612719276728, 'kTargetDeterminationTrials': 1, 'kAttractionRatio': 0.21986276580360306, 'kMaxAttractionDistance': 23, 'kStartAttraction': 0.03517749307774002}. Best is trial 0 with value: 7974.158995815899.\u001b[0m\n"
     ]
    },
    {
     "name": "stdout",
     "output_type": "stream",
     "text": [
      "Updated! 7974.158995815899\n",
      "index_parallel='0001'\n"
     ]
    },
    {
     "name": "stderr",
     "output_type": "stream",
     "text": [
      "\u001b[32m[I 2022-08-15 21:39:03,166]\u001b[0m Trial 1 finished with value: 7095.824267782426 and parameters: {'kErase': 5, 'kRadius': 4, 'kAnnealingA': -10.80155532614808, 'kAnnealingB': 0.5808051865086209, 'kAnnealingStart': 55.846552847920556, 'kSkipRatio': 0.7906414348142834, 'kTargetDeterminationTrials': 2, 'kAttractionRatio': 0.11638646127669339, 'kMaxAttractionDistance': 4, 'kStartAttraction': 0.004836208519204455}. Best is trial 0 with value: 7974.158995815899.\u001b[0m\n"
     ]
    },
    {
     "name": "stdout",
     "output_type": "stream",
     "text": [
      "index_parallel='0002'\n"
     ]
    },
    {
     "name": "stderr",
     "output_type": "stream",
     "text": [
      "\u001b[32m[I 2022-08-15 21:43:31,269]\u001b[0m Trial 2 finished with value: 8060.52719665272 and parameters: {'kErase': 4, 'kRadius': 4, 'kAnnealingA': 0.0012621894261304334, 'kAnnealingB': 0.9710750472417027, 'kAnnealingStart': 3.6833419931733253, 'kSkipRatio': 0.7177611183583807, 'kTargetDeterminationTrials': 12, 'kAttractionRatio': 0.027215166272215305, 'kMaxAttractionDistance': 12, 'kStartAttraction': 0.1489598273722557}. Best is trial 2 with value: 8060.52719665272.\u001b[0m\n"
     ]
    },
    {
     "name": "stdout",
     "output_type": "stream",
     "text": [
      "Updated! 8060.52719665272\n",
      "index_parallel='0003'\n"
     ]
    },
    {
     "name": "stderr",
     "output_type": "stream",
     "text": [
      "\u001b[32m[I 2022-08-15 21:47:59,285]\u001b[0m Trial 3 finished with value: 8079.510460251046 and parameters: {'kErase': 2, 'kRadius': 3, 'kAnnealingA': 9.281027632311986, 'kAnnealingB': 0.9536040817827524, 'kAnnealingStart': 2.4623559309048426, 'kSkipRatio': 0.5180194770646421, 'kTargetDeterminationTrials': 2, 'kAttractionRatio': 0.09169540573493971, 'kMaxAttractionDistance': 51, 'kStartAttraction': 0.01283205581263436}. Best is trial 3 with value: 8079.510460251046.\u001b[0m\n"
     ]
    },
    {
     "name": "stdout",
     "output_type": "stream",
     "text": [
      "Updated! 8079.510460251046\n",
      "index_parallel='0004'\n"
     ]
    },
    {
     "name": "stderr",
     "output_type": "stream",
     "text": [
      "\u001b[32m[I 2022-08-15 21:52:27,510]\u001b[0m Trial 4 finished with value: 8119.748953974896 and parameters: {'kErase': 3, 'kRadius': 2, 'kAnnealingA': 0.8158356851263591, 'kAnnealingB': 2.849349211355775, 'kAnnealingStart': 5.87253152321978, 'kSkipRatio': 0.6298547707396336, 'kTargetDeterminationTrials': 2, 'kAttractionRatio': 0.024389719988967367, 'kMaxAttractionDistance': 10, 'kStartAttraction': 0.14942631528388006}. Best is trial 4 with value: 8119.748953974896.\u001b[0m\n"
     ]
    },
    {
     "name": "stdout",
     "output_type": "stream",
     "text": [
      "Updated! 8119.748953974896\n",
      "index_parallel='0005'\n"
     ]
    },
    {
     "name": "stderr",
     "output_type": "stream",
     "text": [
      "\u001b[32m[I 2022-08-15 21:56:55,541]\u001b[0m Trial 5 finished with value: 7276.280334728033 and parameters: {'kErase': 3, 'kRadius': 3, 'kAnnealingA': -1.6173738085920952, 'kAnnealingB': 2.0452581503342504, 'kAnnealingStart': 30.51675207679466, 'kSkipRatio': 0.5999454359690682, 'kTargetDeterminationTrials': 8, 'kAttractionRatio': 0.42982447346411823, 'kMaxAttractionDistance': 4, 'kStartAttraction': 0.6613921358791582}. Best is trial 4 with value: 8119.748953974896.\u001b[0m\n"
     ]
    },
    {
     "name": "stdout",
     "output_type": "stream",
     "text": [
      "index_parallel='0006'\n"
     ]
    },
    {
     "name": "stderr",
     "output_type": "stream",
     "text": [
      "\u001b[32m[I 2022-08-15 22:01:23,777]\u001b[0m Trial 6 finished with value: 6783.192468619247 and parameters: {'kErase': 3, 'kRadius': 5, 'kAnnealingA': 1.2495236612625433, 'kAnnealingB': 1.6896999928384742, 'kAnnealingStart': 32.31377134259202, 'kSkipRatio': 0.4105830425499248, 'kTargetDeterminationTrials': 6, 'kAttractionRatio': 0.031881620769963356, 'kMaxAttractionDistance': 80, 'kStartAttraction': 0.014923266489482796}. Best is trial 4 with value: 8119.748953974896.\u001b[0m\n"
     ]
    },
    {
     "name": "stdout",
     "output_type": "stream",
     "text": [
      "index_parallel='0007'\n"
     ]
    },
    {
     "name": "stderr",
     "output_type": "stream",
     "text": [
      "\u001b[32m[I 2022-08-15 22:05:51,672]\u001b[0m Trial 7 finished with value: 8195.736401673641 and parameters: {'kErase': 3, 'kRadius': 6, 'kAnnealingA': 1.871073481762668, 'kAnnealingB': 0.040239045915249294, 'kAnnealingStart': 1.1068539000248123, 'kSkipRatio': 0.7688542803415017, 'kTargetDeterminationTrials': 1, 'kAttractionRatio': 0.05608835754938768, 'kMaxAttractionDistance': 91, 'kStartAttraction': 0.22766662747566271}. Best is trial 7 with value: 8195.736401673641.\u001b[0m\n"
     ]
    },
    {
     "name": "stdout",
     "output_type": "stream",
     "text": [
      "Updated! 8195.736401673641\n",
      "index_parallel='0008'\n"
     ]
    },
    {
     "name": "stderr",
     "output_type": "stream",
     "text": [
      "\u001b[32m[I 2022-08-15 22:10:19,899]\u001b[0m Trial 8 finished with value: 6821.4393305439335 and parameters: {'kErase': 4, 'kRadius': 2, 'kAnnealingA': -0.4383746309253507, 'kAnnealingB': 1.416012110586681, 'kAnnealingStart': 47.47303109199227, 'kSkipRatio': 0.5703075604076294, 'kTargetDeterminationTrials': 1, 'kAttractionRatio': 0.24181970188937846, 'kMaxAttractionDistance': 55, 'kStartAttraction': 0.40431199692537334}. Best is trial 7 with value: 8195.736401673641.\u001b[0m\n"
     ]
    },
    {
     "name": "stdout",
     "output_type": "stream",
     "text": [
      "index_parallel='0009'\n"
     ]
    },
    {
     "name": "stderr",
     "output_type": "stream",
     "text": [
      "\u001b[32m[I 2022-08-15 22:14:47,560]\u001b[0m Trial 9 finished with value: 7154.916317991632 and parameters: {'kErase': 2, 'kRadius': 2, 'kAnnealingA': 11.337268160777295, 'kAnnealingB': 1.3542479377891232, 'kAnnealingStart': 47.94650054631994, 'kSkipRatio': 0.7961184646693031, 'kTargetDeterminationTrials': 1, 'kAttractionRatio': 0.7925026812991934, 'kMaxAttractionDistance': 34, 'kStartAttraction': 0.15297919700661367}. Best is trial 7 with value: 8195.736401673641.\u001b[0m\n"
     ]
    },
    {
     "name": "stdout",
     "output_type": "stream",
     "text": [
      "index_parallel='0010'\n"
     ]
    },
    {
     "name": "stderr",
     "output_type": "stream",
     "text": [
      "\u001b[32m[I 2022-08-15 22:19:15,113]\u001b[0m Trial 10 finished with value: 7831.410041841004 and parameters: {'kErase': 1, 'kRadius': 6, 'kAnnealingA': -9.569566120593663, 'kAnnealingB': 0.017711152215283976, 'kAnnealingStart': 11.692594841250868, 'kSkipRatio': 0.22295332265648327, 'kTargetDeterminationTrials': 4, 'kAttractionRatio': 0.010447153077201857, 'kMaxAttractionDistance': 85, 'kStartAttraction': 0.0015436342890869227}. Best is trial 7 with value: 8195.736401673641.\u001b[0m\n"
     ]
    },
    {
     "name": "stdout",
     "output_type": "stream",
     "text": [
      "index_parallel='0011'\n"
     ]
    },
    {
     "name": "stderr",
     "output_type": "stream",
     "text": [
      "\u001b[32m[I 2022-08-15 22:23:43,606]\u001b[0m Trial 11 finished with value: 7929.79079497908 and parameters: {'kErase': 4, 'kRadius': 6, 'kAnnealingA': 4.9377348557966725, 'kAnnealingB': 2.922500620448927, 'kAnnealingStart': 8.320584274806354, 'kSkipRatio': 0.6393530321865715, 'kTargetDeterminationTrials': 2, 'kAttractionRatio': 0.03737370610280763, 'kMaxAttractionDistance': 10, 'kStartAttraction': 0.08946246127972318}. Best is trial 7 with value: 8195.736401673641.\u001b[0m\n"
     ]
    },
    {
     "name": "stdout",
     "output_type": "stream",
     "text": [
      "index_parallel='0012'\n"
     ]
    },
    {
     "name": "stderr",
     "output_type": "stream",
     "text": [
      "\u001b[32m[I 2022-08-15 22:28:11,621]\u001b[0m Trial 12 finished with value: 8248.117154811716 and parameters: {'kErase': 2, 'kRadius': 5, 'kAnnealingA': -5.753617896940925, 'kAnnealingB': 2.5881927205112225, 'kAnnealingStart': 1.1760816139176813, 'kSkipRatio': 0.674658358840442, 'kTargetDeterminationTrials': 3, 'kAttractionRatio': 0.011880161370545912, 'kMaxAttractionDistance': 8, 'kStartAttraction': 0.32432097875075416}. Best is trial 12 with value: 8248.117154811716.\u001b[0m\n"
     ]
    },
    {
     "name": "stdout",
     "output_type": "stream",
     "text": [
      "Updated! 8248.117154811716\n",
      "index_parallel='0013'\n"
     ]
    },
    {
     "name": "stderr",
     "output_type": "stream",
     "text": [
      "\u001b[32m[I 2022-08-15 22:32:39,505]\u001b[0m Trial 13 finished with value: 7992.778242677824 and parameters: {'kErase': 2, 'kRadius': 5, 'kAnnealingA': -7.298520540987694, 'kAnnealingB': 2.130157777653955, 'kAnnealingStart': 1.0446908876801058, 'kSkipRatio': 0.41619476053464916, 'kTargetDeterminationTrials': 20, 'kAttractionRatio': 0.01014619548179628, 'kMaxAttractionDistance': 7, 'kStartAttraction': 0.8374623728265257}. Best is trial 12 with value: 8248.117154811716.\u001b[0m\n"
     ]
    },
    {
     "name": "stdout",
     "output_type": "stream",
     "text": [
      "index_parallel='0014'\n"
     ]
    },
    {
     "name": "stderr",
     "output_type": "stream",
     "text": [
      "\u001b[32m[I 2022-08-15 22:37:07,553]\u001b[0m Trial 14 finished with value: 8340.966527196653 and parameters: {'kErase': 2, 'kRadius': 5, 'kAnnealingA': -14.580516041012027, 'kAnnealingB': 0.03631249133204318, 'kAnnealingStart': 2.100455596561262, 'kSkipRatio': 0.6934891426431655, 'kTargetDeterminationTrials': 4, 'kAttractionRatio': 0.05662770160524213, 'kMaxAttractionDistance': 19, 'kStartAttraction': 0.2843021898883818}. Best is trial 14 with value: 8340.966527196653.\u001b[0m\n"
     ]
    },
    {
     "name": "stdout",
     "output_type": "stream",
     "text": [
      "Updated! 8340.966527196653\n",
      "index_parallel='0015'\n"
     ]
    },
    {
     "name": "stderr",
     "output_type": "stream",
     "text": [
      "\u001b[32m[I 2022-08-15 22:41:35,642]\u001b[0m Trial 15 finished with value: 8142.55230125523 and parameters: {'kErase': 2, 'kRadius': 5, 'kAnnealingA': -14.944411770274755, 'kAnnealingB': 2.4074850076272747, 'kAnnealingStart': 2.1225777617506583, 'kSkipRatio': 0.6802138254545327, 'kTargetDeterminationTrials': 4, 'kAttractionRatio': 0.0193956909424509, 'kMaxAttractionDistance': 20, 'kStartAttraction': 0.03774197466330679}. Best is trial 14 with value: 8340.966527196653.\u001b[0m\n"
     ]
    },
    {
     "name": "stdout",
     "output_type": "stream",
     "text": [
      "index_parallel='0016'\n"
     ]
    },
    {
     "name": "stderr",
     "output_type": "stream",
     "text": [
      "\u001b[32m[I 2022-08-15 22:46:03,151]\u001b[0m Trial 16 finished with value: 8110.794979079498 and parameters: {'kErase': 1, 'kRadius': 5, 'kAnnealingA': -5.912949972655692, 'kAnnealingB': 0.5426892052907966, 'kAnnealingStart': 2.1879675565455483, 'kSkipRatio': 0.45275763350656983, 'kTargetDeterminationTrials': 3, 'kAttractionRatio': 0.06549156657823292, 'kMaxAttractionDistance': 6, 'kStartAttraction': 0.06309522838055898}. Best is trial 14 with value: 8340.966527196653.\u001b[0m\n"
     ]
    },
    {
     "name": "stdout",
     "output_type": "stream",
     "text": [
      "index_parallel='0017'\n"
     ]
    },
    {
     "name": "stderr",
     "output_type": "stream",
     "text": [
      "\u001b[32m[I 2022-08-15 22:50:31,379]\u001b[0m Trial 17 finished with value: 8156.230125523012 and parameters: {'kErase': 2, 'kRadius': 5, 'kAnnealingA': -13.947505377026733, 'kAnnealingB': 2.527815904199083, 'kAnnealingStart': 4.444658010928618, 'kSkipRatio': 0.3170603859631189, 'kTargetDeterminationTrials': 7, 'kAttractionRatio': 0.0167612652821297, 'kMaxAttractionDistance': 15, 'kStartAttraction': 0.3786917677492206}. Best is trial 14 with value: 8340.966527196653.\u001b[0m\n"
     ]
    },
    {
     "name": "stdout",
     "output_type": "stream",
     "text": [
      "index_parallel='0018'\n"
     ]
    },
    {
     "name": "stderr",
     "output_type": "stream",
     "text": [
      "\u001b[32m[I 2022-08-15 22:54:59,506]\u001b[0m Trial 18 finished with value: 8442.52719665272 and parameters: {'kErase': 2, 'kRadius': 3, 'kAnnealingA': -4.017211369337362, 'kAnnealingB': 1.8070436019693075, 'kAnnealingStart': 13.935790781996793, 'kSkipRatio': 0.6991694373106178, 'kTargetDeterminationTrials': 3, 'kAttractionRatio': 0.1537721508577356, 'kMaxAttractionDistance': 28, 'kStartAttraction': 0.37190624856027543}. Best is trial 18 with value: 8442.52719665272.\u001b[0m\n"
     ]
    },
    {
     "name": "stdout",
     "output_type": "stream",
     "text": [
      "Updated! 8442.52719665272\n",
      "index_parallel='0019'\n"
     ]
    },
    {
     "name": "stderr",
     "output_type": "stream",
     "text": [
      "\u001b[32m[I 2022-08-15 22:59:27,286]\u001b[0m Trial 19 finished with value: 8145.271966527197 and parameters: {'kErase': 1, 'kRadius': 3, 'kAnnealingA': -3.767446409587642, 'kAnnealingB': 1.7762847500049925, 'kAnnealingStart': 15.436837261874638, 'kSkipRatio': 0.5423671263734738, 'kTargetDeterminationTrials': 12, 'kAttractionRatio': 0.18827059593615783, 'kMaxAttractionDistance': 29, 'kStartAttraction': 0.07711723531619342}. Best is trial 18 with value: 8442.52719665272.\u001b[0m\n"
     ]
    },
    {
     "name": "stdout",
     "output_type": "stream",
     "text": [
      "index_parallel='0020'\n"
     ]
    },
    {
     "name": "stderr",
     "output_type": "stream",
     "text": [
      "\u001b[32m[I 2022-08-15 23:03:55,796]\u001b[0m Trial 20 finished with value: 6978.414225941423 and parameters: {'kErase': 5, 'kRadius': 3, 'kAnnealingA': 14.349400981091613, 'kAnnealingB': 0.4357805164278698, 'kAnnealingStart': 20.79881330726954, 'kSkipRatio': 0.7135194198499037, 'kTargetDeterminationTrials': 5, 'kAttractionRatio': 0.13330658042630317, 'kMaxAttractionDistance': 37, 'kStartAttraction': 0.015319747017107319}. Best is trial 18 with value: 8442.52719665272.\u001b[0m\n"
     ]
    },
    {
     "name": "stdout",
     "output_type": "stream",
     "text": [
      "index_parallel='0021'\n"
     ]
    },
    {
     "name": "stderr",
     "output_type": "stream",
     "text": [
      "\u001b[32m[I 2022-08-15 23:08:23,887]\u001b[0m Trial 21 finished with value: 8052.652719665272 and parameters: {'kErase': 2, 'kRadius': 4, 'kAnnealingA': -9.714913248035785, 'kAnnealingB': 2.5510952153153186, 'kAnnealingStart': 87.21132859970344, 'kSkipRatio': 0.6880419117555151, 'kTargetDeterminationTrials': 3, 'kAttractionRatio': 0.058626353176740725, 'kMaxAttractionDistance': 15, 'kStartAttraction': 0.3181697671335996}. Best is trial 18 with value: 8442.52719665272.\u001b[0m\n"
     ]
    },
    {
     "name": "stdout",
     "output_type": "stream",
     "text": [
      "index_parallel='0022'\n"
     ]
    },
    {
     "name": "stderr",
     "output_type": "stream",
     "text": [
      "\u001b[32m[I 2022-08-15 23:12:51,885]\u001b[0m Trial 22 finished with value: 8594.133891213389 and parameters: {'kErase': 2, 'kRadius': 5, 'kAnnealingA': -3.1242687407442453, 'kAnnealingB': 2.0856410648232497, 'kAnnealingStart': 1.5863957951351064, 'kSkipRatio': 0.6497584164633949, 'kTargetDeterminationTrials': 4, 'kAttractionRatio': 0.48343064837651606, 'kMaxAttractionDistance': 22, 'kStartAttraction': 0.5674112459254265}. Best is trial 22 with value: 8594.133891213389.\u001b[0m\n"
     ]
    },
    {
     "name": "stdout",
     "output_type": "stream",
     "text": [
      "Updated! 8594.133891213389\n",
      "index_parallel='0023'\n"
     ]
    },
    {
     "name": "stderr",
     "output_type": "stream",
     "text": [
      "\u001b[32m[I 2022-08-15 23:17:19,447]\u001b[0m Trial 23 finished with value: 8519.117154811716 and parameters: {'kErase': 1, 'kRadius': 4, 'kAnnealingA': -3.1193656627277258, 'kAnnealingB': 2.0031651925562968, 'kAnnealingStart': 7.886553842494429, 'kSkipRatio': 0.6035126424166843, 'kTargetDeterminationTrials': 9, 'kAttractionRatio': 0.384098641179245, 'kMaxAttractionDistance': 26, 'kStartAttraction': 0.6610604830369272}. Best is trial 22 with value: 8594.133891213389.\u001b[0m\n"
     ]
    },
    {
     "name": "stdout",
     "output_type": "stream",
     "text": [
      "index_parallel='0024'\n"
     ]
    },
    {
     "name": "stderr",
     "output_type": "stream",
     "text": [
      "\u001b[32m[I 2022-08-15 23:21:46,923]\u001b[0m Trial 24 finished with value: 8454.163179916319 and parameters: {'kErase': 1, 'kRadius': 4, 'kAnnealingA': -2.568433821649407, 'kAnnealingB': 2.0222472231609077, 'kAnnealingStart': 9.068750450959685, 'kSkipRatio': 0.5841065046838987, 'kTargetDeterminationTrials': 10, 'kAttractionRatio': 0.4782781712082887, 'kMaxAttractionDistance': 26, 'kStartAttraction': 0.848170712004106}. Best is trial 22 with value: 8594.133891213389.\u001b[0m\n"
     ]
    },
    {
     "name": "stdout",
     "output_type": "stream",
     "text": [
      "index_parallel='0025'\n"
     ]
    },
    {
     "name": "stderr",
     "output_type": "stream",
     "text": [
      "\u001b[32m[I 2022-08-15 23:26:14,670]\u001b[0m Trial 25 finished with value: 8492.76569037657 and parameters: {'kErase': 1, 'kRadius': 4, 'kAnnealingA': 3.7569827569212517, 'kAnnealingB': 2.0888107305738735, 'kAnnealingStart': 6.64374196956804, 'kSkipRatio': 0.4990565039046894, 'kTargetDeterminationTrials': 10, 'kAttractionRatio': 0.40526554269809456, 'kMaxAttractionDistance': 39, 'kStartAttraction': 0.8974331954845737}. Best is trial 22 with value: 8594.133891213389.\u001b[0m\n"
     ]
    },
    {
     "name": "stdout",
     "output_type": "stream",
     "text": [
      "index_parallel='0026'\n"
     ]
    },
    {
     "name": "stderr",
     "output_type": "stream",
     "text": [
      "\u001b[32m[I 2022-08-15 23:30:42,442]\u001b[0m Trial 26 finished with value: 8569.887029288702 and parameters: {'kErase': 1, 'kRadius': 4, 'kAnnealingA': 4.1242697891721765, 'kAnnealingB': 2.143869970527873, 'kAnnealingStart': 5.478613014965491, 'kSkipRatio': 0.4837867236058421, 'kTargetDeterminationTrials': 19, 'kAttractionRatio': 0.34206181838962824, 'kMaxAttractionDistance': 46, 'kStartAttraction': 0.5798082753939684}. Best is trial 22 with value: 8594.133891213389.\u001b[0m\n"
     ]
    },
    {
     "name": "stdout",
     "output_type": "stream",
     "text": [
      "index_parallel='0027'\n"
     ]
    },
    {
     "name": "stderr",
     "output_type": "stream",
     "text": [
      "\u001b[32m[I 2022-08-15 23:35:10,230]\u001b[0m Trial 27 finished with value: 8696.510460251046 and parameters: {'kErase': 1, 'kRadius': 4, 'kAnnealingA': 5.066632362833404, 'kAnnealingB': 2.2979506627377355, 'kAnnealingStart': 4.876234323080292, 'kSkipRatio': 0.4758551216907531, 'kTargetDeterminationTrials': 20, 'kAttractionRatio': 0.7059690197221413, 'kMaxAttractionDistance': 53, 'kStartAttraction': 0.6018226386522156}. Best is trial 27 with value: 8696.510460251046.\u001b[0m\n"
     ]
    },
    {
     "name": "stdout",
     "output_type": "stream",
     "text": [
      "Updated! 8696.510460251046\n",
      "index_parallel='0028'\n"
     ]
    },
    {
     "name": "stderr",
     "output_type": "stream",
     "text": [
      "\u001b[32m[I 2022-08-15 23:39:38,101]\u001b[0m Trial 28 finished with value: 8610.121338912133 and parameters: {'kErase': 1, 'kRadius': 4, 'kAnnealingA': 5.898191362763312, 'kAnnealingB': 2.322427216220941, 'kAnnealingStart': 3.899769348673072, 'kSkipRatio': 0.351099691813045, 'kTargetDeterminationTrials': 19, 'kAttractionRatio': 0.7293775870181092, 'kMaxAttractionDistance': 62, 'kStartAttraction': 0.5137785705725931}. Best is trial 27 with value: 8696.510460251046.\u001b[0m\n"
     ]
    },
    {
     "name": "stdout",
     "output_type": "stream",
     "text": [
      "index_parallel='0029'\n"
     ]
    },
    {
     "name": "stderr",
     "output_type": "stream",
     "text": [
      "\u001b[32m[I 2022-08-15 23:44:05,517]\u001b[0m Trial 29 finished with value: 8210.669456066946 and parameters: {'kErase': 1, 'kRadius': 6, 'kAnnealingA': 6.610720744069722, 'kAnnealingB': 2.418642626439899, 'kAnnealingStart': 3.5719236784260304, 'kSkipRatio': 0.3406468186947329, 'kTargetDeterminationTrials': 15, 'kAttractionRatio': 0.7359374304932648, 'kMaxAttractionDistance': 60, 'kStartAttraction': 0.1982361624203916}. Best is trial 27 with value: 8696.510460251046.\u001b[0m\n"
     ]
    },
    {
     "name": "stdout",
     "output_type": "stream",
     "text": [
      "index_parallel='0030'\n"
     ]
    },
    {
     "name": "stderr",
     "output_type": "stream",
     "text": [
      "\u001b[32m[I 2022-08-15 23:48:33,240]\u001b[0m Trial 30 finished with value: 8097.322175732217 and parameters: {'kErase': 1, 'kRadius': 5, 'kAnnealingA': 7.40358734170858, 'kAnnealingB': 2.311748312499849, 'kAnnealingStart': 1.5084369450969688, 'kSkipRatio': 0.337026490926516, 'kTargetDeterminationTrials': 15, 'kAttractionRatio': 0.5776374976670933, 'kMaxAttractionDistance': 73, 'kStartAttraction': 0.10128126980699063}. Best is trial 27 with value: 8696.510460251046.\u001b[0m\n"
     ]
    },
    {
     "name": "stdout",
     "output_type": "stream",
     "text": [
      "index_parallel='0031'\n"
     ]
    },
    {
     "name": "stderr",
     "output_type": "stream",
     "text": [
      "\u001b[32m[I 2022-08-15 23:53:00,981]\u001b[0m Trial 31 finished with value: 8634.28870292887 and parameters: {'kErase': 1, 'kRadius': 4, 'kAnnealingA': 4.288792005156536, 'kAnnealingB': 2.77502029999393, 'kAnnealingStart': 4.867428490311642, 'kSkipRatio': 0.46682487717912924, 'kTargetDeterminationTrials': 18, 'kAttractionRatio': 0.26253634753567195, 'kMaxAttractionDistance': 46, 'kStartAttraction': 0.5193552938971088}. Best is trial 27 with value: 8696.510460251046.\u001b[0m\n"
     ]
    },
    {
     "name": "stdout",
     "output_type": "stream",
     "text": [
      "index_parallel='0032'\n"
     ]
    },
    {
     "name": "stderr",
     "output_type": "stream",
     "text": [
      "\u001b[32m[I 2022-08-15 23:57:28,350]\u001b[0m Trial 32 finished with value: 8552.836820083681 and parameters: {'kErase': 1, 'kRadius': 4, 'kAnnealingA': 9.425337753240917, 'kAnnealingB': 2.743021586506286, 'kAnnealingStart': 3.173308183110125, 'kSkipRatio': 0.3775562004877503, 'kTargetDeterminationTrials': 16, 'kAttractionRatio': 0.27974356387033056, 'kMaxAttractionDistance': 65, 'kStartAttraction': 0.5111794567960318}. Best is trial 27 with value: 8696.510460251046.\u001b[0m\n"
     ]
    },
    {
     "name": "stdout",
     "output_type": "stream",
     "text": [
      "index_parallel='0033'\n"
     ]
    },
    {
     "name": "stderr",
     "output_type": "stream",
     "text": [
      "\u001b[32m[I 2022-08-16 00:01:56,005]\u001b[0m Trial 33 finished with value: 8532.560669456067 and parameters: {'kErase': 1, 'kRadius': 4, 'kAnnealingA': 2.9548569174915675, 'kAnnealingB': 2.7200346950469365, 'kAnnealingStart': 4.703040530919294, 'kSkipRatio': 0.2849814903872773, 'kTargetDeterminationTrials': 12, 'kAttractionRatio': 0.8600480369631678, 'kMaxAttractionDistance': 43, 'kStartAttraction': 0.50991387631755}. Best is trial 27 with value: 8696.510460251046.\u001b[0m\n"
     ]
    },
    {
     "name": "stdout",
     "output_type": "stream",
     "text": [
      "index_parallel='0034'\n"
     ]
    },
    {
     "name": "stderr",
     "output_type": "stream",
     "text": [
      "\u001b[32m[I 2022-08-16 00:06:23,649]\u001b[0m Trial 34 finished with value: 7641.807531380753 and parameters: {'kErase': 1, 'kRadius': 4, 'kAnnealingA': 6.07030205997467, 'kAnnealingB': 2.240057624322451, 'kAnnealingStart': 2.8397579790660705, 'kSkipRatio': 0.4554798070155282, 'kTargetDeterminationTrials': 17, 'kAttractionRatio': 0.6050934180823384, 'kMaxAttractionDistance': 48, 'kStartAttraction': 0.0025889839032475917}. Best is trial 27 with value: 8696.510460251046.\u001b[0m\n"
     ]
    },
    {
     "name": "stdout",
     "output_type": "stream",
     "text": [
      "index_parallel='0035'\n"
     ]
    },
    {
     "name": "stderr",
     "output_type": "stream",
     "text": [
      "\u001b[32m[I 2022-08-16 00:10:51,738]\u001b[0m Trial 35 finished with value: 8266.05439330544 and parameters: {'kErase': 2, 'kRadius': 3, 'kAnnealingA': 9.004699411918272, 'kAnnealingB': 2.682242609476919, 'kAnnealingStart': 1.5635600948705206, 'kSkipRatio': 0.5363985490040736, 'kTargetDeterminationTrials': 14, 'kAttractionRatio': 0.596090906170714, 'kMaxAttractionDistance': 65, 'kStartAttraction': 0.20962822524648814}. Best is trial 27 with value: 8696.510460251046.\u001b[0m\n"
     ]
    },
    {
     "name": "stdout",
     "output_type": "stream",
     "text": [
      "index_parallel='0036'\n"
     ]
    },
    {
     "name": "stderr",
     "output_type": "stream",
     "text": [
      "\u001b[32m[I 2022-08-16 00:15:19,183]\u001b[0m Trial 36 finished with value: 8267.364016736401 and parameters: {'kErase': 1, 'kRadius': 4, 'kAnnealingA': 12.195946407327272, 'kAnnealingB': 2.9212664784156974, 'kAnnealingStart': 4.184128000443145, 'kSkipRatio': 0.39019881142148605, 'kTargetDeterminationTrials': 20, 'kAttractionRatio': 0.29325715821635867, 'kMaxAttractionDistance': 99, 'kStartAttraction': 0.04185918364461772}. Best is trial 27 with value: 8696.510460251046.\u001b[0m\n"
     ]
    },
    {
     "name": "stdout",
     "output_type": "stream",
     "text": [
      "index_parallel='0037'\n"
     ]
    },
    {
     "name": "stderr",
     "output_type": "stream",
     "text": [
      "\u001b[32m[I 2022-08-16 00:19:47,344]\u001b[0m Trial 37 finished with value: 6828.230125523012 and parameters: {'kErase': 3, 'kRadius': 3, 'kAnnealingA': -0.5466648133174488, 'kAnnealingB': 1.218587650771097, 'kAnnealingStart': 1.5744722789798566, 'kSkipRatio': 0.239658704515065, 'kTargetDeterminationTrials': 12, 'kAttractionRatio': 0.5121883964569637, 'kMaxAttractionDistance': 52, 'kStartAttraction': 0.005038248042018677}. Best is trial 27 with value: 8696.510460251046.\u001b[0m\n"
     ]
    },
    {
     "name": "stdout",
     "output_type": "stream",
     "text": [
      "index_parallel='0038'\n"
     ]
    },
    {
     "name": "stderr",
     "output_type": "stream",
     "text": [
      "\u001b[32m[I 2022-08-16 00:24:15,006]\u001b[0m Trial 38 finished with value: 8420.87029288703 and parameters: {'kErase': 2, 'kRadius': 4, 'kAnnealingA': 1.8748550377809625, 'kAnnealingB': 1.5786488751849577, 'kAnnealingStart': 2.547732482174598, 'kSkipRatio': 0.47667773528291935, 'kTargetDeterminationTrials': 7, 'kAttractionRatio': 0.1941999419367369, 'kMaxAttractionDistance': 22, 'kStartAttraction': 0.16642672874459094}. Best is trial 27 with value: 8696.510460251046.\u001b[0m\n"
     ]
    },
    {
     "name": "stdout",
     "output_type": "stream",
     "text": [
      "index_parallel='0039'\n"
     ]
    },
    {
     "name": "stderr",
     "output_type": "stream",
     "text": [
      "\u001b[32m[I 2022-08-16 00:28:42,614]\u001b[0m Trial 39 finished with value: 8318.953974895398 and parameters: {'kErase': 1, 'kRadius': 4, 'kAnnealingA': 5.680554846679919, 'kAnnealingB': 1.8365530385078332, 'kAnnealingStart': 6.48229773658497, 'kSkipRatio': 0.432599570718331, 'kTargetDeterminationTrials': 13, 'kAttractionRatio': 0.1021446295482371, 'kMaxAttractionDistance': 33, 'kStartAttraction': 0.022746796030070873}. Best is trial 27 with value: 8696.510460251046.\u001b[0m\n"
     ]
    },
    {
     "name": "stdout",
     "output_type": "stream",
     "text": [
      "index_parallel='0040'\n"
     ]
    },
    {
     "name": "stderr",
     "output_type": "stream",
     "text": [
      "\u001b[32m[I 2022-08-16 00:33:10,697]\u001b[0m Trial 40 finished with value: 8031.748953974896 and parameters: {'kErase': 3, 'kRadius': 3, 'kAnnealingA': 8.226760210442546, 'kAnnealingB': 2.307063123107544, 'kAnnealingStart': 3.5207389734921395, 'kSkipRatio': 0.7426071406822679, 'kTargetDeterminationTrials': 9, 'kAttractionRatio': 0.8794519949820754, 'kMaxAttractionDistance': 16, 'kStartAttraction': 0.1103921492539878}. Best is trial 27 with value: 8696.510460251046.\u001b[0m\n"
     ]
    },
    {
     "name": "stdout",
     "output_type": "stream",
     "text": [
      "index_parallel='0041'\n"
     ]
    },
    {
     "name": "stderr",
     "output_type": "stream",
     "text": [
      "\u001b[32m[I 2022-08-16 00:37:38,111]\u001b[0m Trial 41 finished with value: 8532.393305439331 and parameters: {'kErase': 1, 'kRadius': 4, 'kAnnealingA': 3.961235040507094, 'kAnnealingB': 2.206894395102605, 'kAnnealingStart': 5.7268223700481, 'kSkipRatio': 0.49116101775339305, 'kTargetDeterminationTrials': 20, 'kAttractionRatio': 0.33153913248988937, 'kMaxAttractionDistance': 46, 'kStartAttraction': 0.5119520854188122}. Best is trial 27 with value: 8696.510460251046.\u001b[0m\n"
     ]
    },
    {
     "name": "stdout",
     "output_type": "stream",
     "text": [
      "index_parallel='0042'\n"
     ]
    },
    {
     "name": "stderr",
     "output_type": "stream",
     "text": [
      "\u001b[32m[I 2022-08-16 00:42:05,917]\u001b[0m Trial 42 finished with value: 8587.338912133891 and parameters: {'kErase': 1, 'kRadius': 4, 'kAnnealingA': 2.6725575145060554, 'kAnnealingB': 2.4574723504781244, 'kAnnealingStart': 5.183332138940754, 'kSkipRatio': 0.5262952114012771, 'kTargetDeterminationTrials': 17, 'kAttractionRatio': 0.6839321377442796, 'kMaxAttractionDistance': 40, 'kStartAttraction': 0.4984806479422476}. Best is trial 27 with value: 8696.510460251046.\u001b[0m\n"
     ]
    },
    {
     "name": "stdout",
     "output_type": "stream",
     "text": [
      "index_parallel='0043'\n"
     ]
    },
    {
     "name": "stderr",
     "output_type": "stream",
     "text": [
      "\u001b[32m[I 2022-08-16 00:46:33,351]\u001b[0m Trial 43 finished with value: 8367.10460251046 and parameters: {'kErase': 1, 'kRadius': 5, 'kAnnealingA': 2.4752423116930675, 'kAnnealingB': 2.4767814245748037, 'kAnnealingStart': 10.625524922286074, 'kSkipRatio': 0.5143541836976001, 'kTargetDeterminationTrials': 16, 'kAttractionRatio': 0.681092599381848, 'kMaxAttractionDistance': 74, 'kStartAttraction': 0.25154923427260073}. Best is trial 27 with value: 8696.510460251046.\u001b[0m\n"
     ]
    },
    {
     "name": "stdout",
     "output_type": "stream",
     "text": [
      "index_parallel='0044'\n"
     ]
    },
    {
     "name": "stderr",
     "output_type": "stream",
     "text": [
      "\u001b[32m[I 2022-08-16 00:51:01,241]\u001b[0m Trial 44 finished with value: 8584.55230125523 and parameters: {'kErase': 2, 'kRadius': 4, 'kAnnealingA': 0.4895473220833444, 'kAnnealingB': 1.9322400653155998, 'kAnnealingStart': 4.51712386168892, 'kSkipRatio': 0.6431914323799095, 'kTargetDeterminationTrials': 11, 'kAttractionRatio': 0.47965504899561706, 'kMaxAttractionDistance': 57, 'kStartAttraction': 0.4493057924872558}. Best is trial 27 with value: 8696.510460251046.\u001b[0m\n"
     ]
    },
    {
     "name": "stdout",
     "output_type": "stream",
     "text": [
      "index_parallel='0045'\n"
     ]
    },
    {
     "name": "stderr",
     "output_type": "stream",
     "text": [
      "\u001b[32m[I 2022-08-16 00:55:29,714]\u001b[0m Trial 45 finished with value: 8148.983263598327 and parameters: {'kErase': 4, 'kRadius': 3, 'kAnnealingA': -1.4645068383173148, 'kAnnealingB': 2.800858468944889, 'kAnnealingStart': 7.476460061432858, 'kSkipRatio': 0.5519108794667308, 'kTargetDeterminationTrials': 17, 'kAttractionRatio': 0.6814620072792814, 'kMaxAttractionDistance': 32, 'kStartAttraction': 0.7079112607199788}. Best is trial 27 with value: 8696.510460251046.\u001b[0m\n"
     ]
    },
    {
     "name": "stdout",
     "output_type": "stream",
     "text": [
      "index_parallel='0046'\n"
     ]
    },
    {
     "name": "stderr",
     "output_type": "stream",
     "text": [
      "\u001b[32m[I 2022-08-16 00:59:57,250]\u001b[0m Trial 46 finished with value: 8444.682008368201 and parameters: {'kErase': 1, 'kRadius': 5, 'kAnnealingA': 5.3199496294975335, 'kAnnealingB': 2.6598523485916927, 'kAnnealingStart': 3.072296211540439, 'kSkipRatio': 0.4492611891380996, 'kTargetDeterminationTrials': 8, 'kAttractionRatio': 0.24645389718725644, 'kMaxAttractionDistance': 36, 'kStartAttraction': 0.2827830384069235}. Best is trial 27 with value: 8696.510460251046.\u001b[0m\n"
     ]
    },
    {
     "name": "stdout",
     "output_type": "stream",
     "text": [
      "index_parallel='0047'\n"
     ]
    },
    {
     "name": "stderr",
     "output_type": "stream",
     "text": [
      "\u001b[32m[I 2022-08-16 01:04:25,232]\u001b[0m Trial 47 finished with value: 7711.1966527196655 and parameters: {'kErase': 2, 'kRadius': 5, 'kAnnealingA': 7.606154453288497, 'kAnnealingB': 2.976617053358115, 'kAnnealingStart': 5.242199136360106, 'kSkipRatio': 0.3881329202305535, 'kTargetDeterminationTrials': 5, 'kAttractionRatio': 0.4454427477015212, 'kMaxAttractionDistance': 41, 'kStartAttraction': 0.007096986523898054}. Best is trial 27 with value: 8696.510460251046.\u001b[0m\n"
     ]
    },
    {
     "name": "stdout",
     "output_type": "stream",
     "text": [
      "index_parallel='0048'\n"
     ]
    },
    {
     "name": "stderr",
     "output_type": "stream",
     "text": [
      "\u001b[32m[I 2022-08-16 01:08:52,935]\u001b[0m Trial 48 finished with value: 8129.150627615063 and parameters: {'kErase': 1, 'kRadius': 4, 'kAnnealingA': 0.7921073795053576, 'kAnnealingB': 2.3856150728866954, 'kAnnealingStart': 1.77021941697471, 'kSkipRatio': 0.3590530719906591, 'kTargetDeterminationTrials': 17, 'kAttractionRatio': 0.5317403864395442, 'kMaxAttractionDistance': 82, 'kStartAttraction': 0.1441301647043577}. Best is trial 27 with value: 8696.510460251046.\u001b[0m\n"
     ]
    },
    {
     "name": "stdout",
     "output_type": "stream",
     "text": [
      "index_parallel='0049'\n"
     ]
    },
    {
     "name": "stderr",
     "output_type": "stream",
     "text": [
      "\u001b[32m[I 2022-08-16 01:13:20,957]\u001b[0m Trial 49 finished with value: 8442.351464435147 and parameters: {'kErase': 2, 'kRadius': 4, 'kAnnealingA': 10.147543014574342, 'kAnnealingB': 1.6356972575156585, 'kAnnealingStart': 2.580271017977977, 'kSkipRatio': 0.27640258313273386, 'kTargetDeterminationTrials': 14, 'kAttractionRatio': 0.7653640889769658, 'kMaxAttractionDistance': 23, 'kStartAttraction': 0.6660827878486388}. Best is trial 27 with value: 8696.510460251046.\u001b[0m\n"
     ]
    },
    {
     "name": "stdout",
     "output_type": "stream",
     "text": [
      "index_parallel='0050'\n"
     ]
    },
    {
     "name": "stderr",
     "output_type": "stream",
     "text": [
      "\u001b[32m[I 2022-08-16 01:17:49,209]\u001b[0m Trial 50 finished with value: 8468.782426778243 and parameters: {'kErase': 3, 'kRadius': 5, 'kAnnealingA': 3.011844015024705, 'kAnnealingB': 2.5974921449419877, 'kAnnealingStart': 3.6723092948760736, 'kSkipRatio': 0.6139345821550733, 'kTargetDeterminationTrials': 2, 'kAttractionRatio': 0.3663421948222339, 'kMaxAttractionDistance': 53, 'kStartAttraction': 0.3812790240718253}. Best is trial 27 with value: 8696.510460251046.\u001b[0m\n"
     ]
    },
    {
     "name": "stdout",
     "output_type": "stream",
     "text": [
      "index_parallel='0051'\n"
     ]
    },
    {
     "name": "stderr",
     "output_type": "stream",
     "text": [
      "\u001b[32m[I 2022-08-16 01:22:16,974]\u001b[0m Trial 51 finished with value: 8606.677824267783 and parameters: {'kErase': 2, 'kRadius': 4, 'kAnnealingA': 1.1682710806700474, 'kAnnealingB': 2.022901465175682, 'kAnnealingStart': 4.318852713445225, 'kSkipRatio': 0.6673639156863928, 'kTargetDeterminationTrials': 11, 'kAttractionRatio': 0.47085448362949356, 'kMaxAttractionDistance': 59, 'kStartAttraction': 0.4615595920340838}. Best is trial 27 with value: 8696.510460251046.\u001b[0m\n"
     ]
    },
    {
     "name": "stdout",
     "output_type": "stream",
     "text": [
      "index_parallel='0052'\n"
     ]
    },
    {
     "name": "stderr",
     "output_type": "stream",
     "text": [
      "\u001b[32m[I 2022-08-16 01:26:45,064]\u001b[0m Trial 52 finished with value: 8567.648535564853 and parameters: {'kErase': 2, 'kRadius': 4, 'kAnnealingA': -1.2862040555522323, 'kAnnealingB': 2.281100859493637, 'kAnnealingStart': 6.943579723630149, 'kSkipRatio': 0.762947582171099, 'kTargetDeterminationTrials': 18, 'kAttractionRatio': 0.6597665365221557, 'kMaxAttractionDistance': 69, 'kStartAttraction': 0.4373925856552315}. Best is trial 27 with value: 8696.510460251046.\u001b[0m\n"
     ]
    },
    {
     "name": "stdout",
     "output_type": "stream",
     "text": [
      "index_parallel='0053'\n"
     ]
    },
    {
     "name": "stderr",
     "output_type": "stream",
     "text": [
      "\u001b[32m[I 2022-08-16 01:31:13,038]\u001b[0m Trial 53 finished with value: 8493.05439330544 and parameters: {'kErase': 1, 'kRadius': 4, 'kAnnealingA': 1.4644374197660786, 'kAnnealingB': 2.4780959082612, 'kAnnealingStart': 4.139060971733342, 'kSkipRatio': 0.6602350252204165, 'kTargetDeterminationTrials': 13, 'kAttractionRatio': 0.4340875867636707, 'kMaxAttractionDistance': 60, 'kStartAttraction': 0.6613637224785941}. Best is trial 27 with value: 8696.510460251046.\u001b[0m\n"
     ]
    },
    {
     "name": "stdout",
     "output_type": "stream",
     "text": [
      "index_parallel='0054'\n"
     ]
    },
    {
     "name": "stderr",
     "output_type": "stream",
     "text": [
      "\u001b[32m[I 2022-08-16 01:35:41,638]\u001b[0m Trial 54 finished with value: 7686.748953974896 and parameters: {'kErase': 4, 'kRadius': 4, 'kAnnealingA': 4.85130764229246, 'kAnnealingB': 1.949300137301728, 'kAnnealingStart': 11.969499441029207, 'kSkipRatio': 0.5773741713235372, 'kTargetDeterminationTrials': 20, 'kAttractionRatio': 0.8936200449381098, 'kMaxAttractionDistance': 93, 'kStartAttraction': 0.2938148717984003}. Best is trial 27 with value: 8696.510460251046.\u001b[0m\n"
     ]
    },
    {
     "name": "stdout",
     "output_type": "stream",
     "text": [
      "index_parallel='0055'\n"
     ]
    },
    {
     "name": "stderr",
     "output_type": "stream",
     "text": [
      "\u001b[32m[I 2022-08-16 01:40:09,557]\u001b[0m Trial 55 finished with value: 8244.958158995816 and parameters: {'kErase': 2, 'kRadius': 3, 'kAnnealingA': -4.883084147512087, 'kAnnealingB': 2.845788592628313, 'kAnnealingStart': 1.1881176631569006, 'kSkipRatio': 0.7352377791426598, 'kTargetDeterminationTrials': 6, 'kAttractionRatio': 0.27712866748318754, 'kMaxAttractionDistance': 52, 'kStartAttraction': 0.19416703149139858}. Best is trial 27 with value: 8696.510460251046.\u001b[0m\n"
     ]
    },
    {
     "name": "stdout",
     "output_type": "stream",
     "text": [
      "index_parallel='0056'\n"
     ]
    },
    {
     "name": "stderr",
     "output_type": "stream",
     "text": [
      "\u001b[32m[I 2022-08-16 01:44:37,149]\u001b[0m Trial 56 finished with value: 8523.34309623431 and parameters: {'kErase': 1, 'kRadius': 6, 'kAnnealingA': 0.43064956878688765, 'kAnnealingB': 2.1225455809119036, 'kAnnealingStart': 5.16499562400586, 'kSkipRatio': 0.41818010084513024, 'kTargetDeterminationTrials': 11, 'kAttractionRatio': 0.5624206099054226, 'kMaxAttractionDistance': 43, 'kStartAttraction': 0.3438793617508337}. Best is trial 27 with value: 8696.510460251046.\u001b[0m\n"
     ]
    },
    {
     "name": "stdout",
     "output_type": "stream",
     "text": [
      "index_parallel='0057'\n"
     ]
    },
    {
     "name": "stderr",
     "output_type": "stream",
     "text": [
      "\u001b[32m[I 2022-08-16 01:49:05,540]\u001b[0m Trial 57 finished with value: 8321.76569037657 and parameters: {'kErase': 3, 'kRadius': 5, 'kAnnealingA': 6.564399447332901, 'kAnnealingB': 1.8652158685206113, 'kAnnealingStart': 2.001963744579203, 'kSkipRatio': 0.5214058208338502, 'kTargetDeterminationTrials': 15, 'kAttractionRatio': 0.21557050745309236, 'kMaxAttractionDistance': 83, 'kStartAttraction': 0.7689536191154362}. Best is trial 27 with value: 8696.510460251046.\u001b[0m\n"
     ]
    },
    {
     "name": "stdout",
     "output_type": "stream",
     "text": [
      "index_parallel='0058'\n"
     ]
    },
    {
     "name": "stderr",
     "output_type": "stream",
     "text": [
      "\u001b[32m[I 2022-08-16 01:53:33,528]\u001b[0m Trial 58 finished with value: 8350.217573221757 and parameters: {'kErase': 2, 'kRadius': 3, 'kAnnealingA': -2.469769925728166, 'kAnnealingB': 2.402210714087832, 'kAnnealingStart': 9.072379423643339, 'kSkipRatio': 0.6239912625323223, 'kTargetDeterminationTrials': 8, 'kAttractionRatio': 0.07329190816707087, 'kMaxAttractionDistance': 31, 'kStartAttraction': 0.5758225254185312}. Best is trial 27 with value: 8696.510460251046.\u001b[0m\n"
     ]
    },
    {
     "name": "stdout",
     "output_type": "stream",
     "text": [
      "index_parallel='0059'\n"
     ]
    },
    {
     "name": "stderr",
     "output_type": "stream",
     "text": [
      "\u001b[32m[I 2022-08-16 01:58:00,853]\u001b[0m Trial 59 finished with value: 8464.652719665271 and parameters: {'kErase': 1, 'kRadius': 4, 'kAnnealingA': -7.791058807662305, 'kAnnealingB': 1.3697257910775504, 'kAnnealingStart': 15.636402239245502, 'kSkipRatio': 0.6598894922336717, 'kTargetDeterminationTrials': 10, 'kAttractionRatio': 0.15088694861097568, 'kMaxAttractionDistance': 13, 'kStartAttraction': 0.4208253083565105}. Best is trial 27 with value: 8696.510460251046.\u001b[0m\n"
     ]
    },
    {
     "name": "stdout",
     "output_type": "stream",
     "text": [
      "index_parallel='0060'\n"
     ]
    },
    {
     "name": "stderr",
     "output_type": "stream",
     "text": [
      "\u001b[32m[I 2022-08-16 02:02:28,316]\u001b[0m Trial 60 finished with value: 8440.845188284518 and parameters: {'kErase': 1, 'kRadius': 4, 'kAnnealingA': 4.205392190767251, 'kAnnealingB': 0.7751944193239961, 'kAnnealingStart': 3.1020025063014196, 'kSkipRatio': 0.5563160836958647, 'kTargetDeterminationTrials': 18, 'kAttractionRatio': 0.7436738204722209, 'kMaxAttractionDistance': 10, 'kStartAttraction': 0.253058992895941}. Best is trial 27 with value: 8696.510460251046.\u001b[0m\n"
     ]
    },
    {
     "name": "stdout",
     "output_type": "stream",
     "text": [
      "index_parallel='0061'\n"
     ]
    },
    {
     "name": "stderr",
     "output_type": "stream",
     "text": [
      "\u001b[32m[I 2022-08-16 02:06:56,257]\u001b[0m Trial 61 finished with value: 8499.539748953976 and parameters: {'kErase': 2, 'kRadius': 4, 'kAnnealingA': -0.2736139511823845, 'kAnnealingB': 1.962996331637624, 'kAnnealingStart': 4.407823391695571, 'kSkipRatio': 0.6294596537014089, 'kTargetDeterminationTrials': 11, 'kAttractionRatio': 0.455918317851118, 'kMaxAttractionDistance': 62, 'kStartAttraction': 0.44153432765274764}. Best is trial 27 with value: 8696.510460251046.\u001b[0m\n"
     ]
    },
    {
     "name": "stdout",
     "output_type": "stream",
     "text": [
      "index_parallel='0062'\n"
     ]
    },
    {
     "name": "stderr",
     "output_type": "stream",
     "text": [
      "\u001b[32m[I 2022-08-16 02:11:24,021]\u001b[0m Trial 62 finished with value: 8710.510460251046 and parameters: {'kErase': 2, 'kRadius': 4, 'kAnnealingA': 2.3274079878720264, 'kAnnealingB': 1.7233173047574037, 'kAnnealingStart': 6.295171130359719, 'kSkipRatio': 0.6462667901311743, 'kTargetDeterminationTrials': 13, 'kAttractionRatio': 0.5086103443631509, 'kMaxAttractionDistance': 56, 'kStartAttraction': 0.5433622897632665}. Best is trial 62 with value: 8710.510460251046.\u001b[0m\n"
     ]
    },
    {
     "name": "stdout",
     "output_type": "stream",
     "text": [
      "Updated! 8710.510460251046\n",
      "index_parallel='0063'\n"
     ]
    },
    {
     "name": "stderr",
     "output_type": "stream",
     "text": [
      "\u001b[32m[I 2022-08-16 02:15:52,357]\u001b[0m Trial 63 finished with value: 8536.71129707113 and parameters: {'kErase': 2, 'kRadius': 4, 'kAnnealingA': 2.6505292168706207, 'kAnnealingB': 1.7140841328240826, 'kAnnealingStart': 6.151287678871787, 'kSkipRatio': 0.5913869398541339, 'kTargetDeterminationTrials': 14, 'kAttractionRatio': 0.32235453377993256, 'kMaxAttractionDistance': 72, 'kStartAttraction': 0.854162828130065}. Best is trial 62 with value: 8710.510460251046.\u001b[0m\n"
     ]
    },
    {
     "name": "stdout",
     "output_type": "stream",
     "text": [
      "index_parallel='0064'\n"
     ]
    },
    {
     "name": "stderr",
     "output_type": "stream",
     "text": [
      "\u001b[32m[I 2022-08-16 02:20:20,524]\u001b[0m Trial 64 finished with value: 8539.778242677825 and parameters: {'kErase': 3, 'kRadius': 4, 'kAnnealingA': 1.68146234868475, 'kAnnealingB': 2.1910588226021774, 'kAnnealingStart': 7.631711880831246, 'kSkipRatio': 0.6534861643946834, 'kTargetDeterminationTrials': 13, 'kAttractionRatio': 0.6460067746726128, 'kMaxAttractionDistance': 37, 'kStartAttraction': 0.5909381633995159}. Best is trial 62 with value: 8710.510460251046.\u001b[0m\n"
     ]
    },
    {
     "name": "stdout",
     "output_type": "stream",
     "text": [
      "index_parallel='0065'\n"
     ]
    },
    {
     "name": "stderr",
     "output_type": "stream",
     "text": [
      "\u001b[32m[I 2022-08-16 02:24:48,421]\u001b[0m Trial 65 finished with value: 8510.271966527196 and parameters: {'kErase': 2, 'kRadius': 4, 'kAnnealingA': 4.820286658626272, 'kAnnealingB': 1.4786863164879078, 'kAnnealingStart': 5.017512533739877, 'kSkipRatio': 0.7046620652546207, 'kTargetDeterminationTrials': 16, 'kAttractionRatio': 0.03745687807788694, 'kMaxAttractionDistance': 48, 'kStartAttraction': 0.3284484289724669}. Best is trial 62 with value: 8710.510460251046.\u001b[0m\n"
     ]
    },
    {
     "name": "stdout",
     "output_type": "stream",
     "text": [
      "index_parallel='0066'\n"
     ]
    },
    {
     "name": "stderr",
     "output_type": "stream",
     "text": [
      "\u001b[32m[I 2022-08-16 02:29:16,061]\u001b[0m Trial 66 finished with value: 8355.405857740585 and parameters: {'kErase': 1, 'kRadius': 5, 'kAnnealingA': 6.8673711618235975, 'kAnnealingB': 2.056507170175594, 'kAnnealingStart': 3.928749306085499, 'kSkipRatio': 0.6759315167405755, 'kTargetDeterminationTrials': 9, 'kAttractionRatio': 0.37924565121788717, 'kMaxAttractionDistance': 26, 'kStartAttraction': 0.12836203107030358}. Best is trial 62 with value: 8710.510460251046.\u001b[0m\n"
     ]
    },
    {
     "name": "stdout",
     "output_type": "stream",
     "text": [
      "index_parallel='0067'\n"
     ]
    },
    {
     "name": "stderr",
     "output_type": "stream",
     "text": [
      "\u001b[32m[I 2022-08-16 02:33:43,563]\u001b[0m Trial 67 finished with value: 8273.096234309623 and parameters: {'kErase': 1, 'kRadius': 4, 'kAnnealingA': 3.765545769586401, 'kAnnealingB': 2.3369661269627384, 'kAnnealingStart': 5.871150291753084, 'kSkipRatio': 0.20276224936501708, 'kTargetDeterminationTrials': 18, 'kAttractionRatio': 0.5222230497204717, 'kMaxAttractionDistance': 5, 'kStartAttraction': 0.6750248079839973}. Best is trial 62 with value: 8710.510460251046.\u001b[0m\n"
     ]
    },
    {
     "name": "stdout",
     "output_type": "stream",
     "text": [
      "index_parallel='0068'\n"
     ]
    }
   ],
   "source": [
    "study.optimize(\n",
    "    partial(objective, in_dir=in_dir, work_dir=work_dir),\n",
    "    n_trials=3000,\n",
    "    timeout=86400,\n",
    "    callbacks=[callback]\n",
    ")"
   ]
  },
  {
   "cell_type": "code",
   "execution_count": null,
   "id": "700269d2",
   "metadata": {},
   "outputs": [],
   "source": []
  }
 ],
 "metadata": {
  "kernelspec": {
   "display_name": "Python 3 (ipykernel)",
   "language": "python",
   "name": "python3"
  },
  "language_info": {
   "codemirror_mode": {
    "name": "ipython",
    "version": 3
   },
   "file_extension": ".py",
   "mimetype": "text/x-python",
   "name": "python",
   "nbconvert_exporter": "python",
   "pygments_lexer": "ipython3",
   "version": "3.9.12"
  }
 },
 "nbformat": 4,
 "nbformat_minor": 5
}
