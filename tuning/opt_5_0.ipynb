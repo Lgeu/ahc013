{
 "cells": [
  {
   "cell_type": "code",
   "execution_count": 1,
   "id": "25a1dac8",
   "metadata": {},
   "outputs": [],
   "source": [
    "import re\n",
    "import sys\n",
    "from uuid import uuid1\n",
    "from time import sleep\n",
    "from pprint import pprint\n",
    "from pathlib import Path\n",
    "from tempfile import gettempdir\n",
    "from threading import Thread\n",
    "from functools import partial\n",
    "from subprocess import Popen, PIPE\n",
    "\n",
    "from tqdm.notebook import tqdm\n",
    "import numpy as np\n",
    "import optuna\n",
    "import pandas as pd\n",
    "import matplotlib.pyplot as plt\n",
    "\n",
    "FILENAME = \"main.cpp\""
   ]
  },
  {
   "cell_type": "code",
   "execution_count": 2,
   "id": "3dd4d02e",
   "metadata": {},
   "outputs": [
    {
     "name": "stdout",
     "output_type": "stream",
     "text": [
      "10 variables were found.\n"
     ]
    },
    {
     "data": {
      "text/html": [
       "<div>\n",
       "<style scoped>\n",
       "    .dataframe tbody tr th:only-of-type {\n",
       "        vertical-align: middle;\n",
       "    }\n",
       "\n",
       "    .dataframe tbody tr th {\n",
       "        vertical-align: top;\n",
       "    }\n",
       "\n",
       "    .dataframe thead th {\n",
       "        text-align: right;\n",
       "    }\n",
       "</style>\n",
       "<table border=\"1\" class=\"dataframe\">\n",
       "  <thead>\n",
       "    <tr style=\"text-align: right;\">\n",
       "      <th></th>\n",
       "      <th>name</th>\n",
       "      <th>method</th>\n",
       "      <th>min</th>\n",
       "      <th>max</th>\n",
       "      <th>log</th>\n",
       "      <th>left</th>\n",
       "      <th>right</th>\n",
       "    </tr>\n",
       "  </thead>\n",
       "  <tbody>\n",
       "    <tr>\n",
       "      <th>0</th>\n",
       "      <td>kErase</td>\n",
       "      <td>suggest_int</td>\n",
       "      <td>1.000</td>\n",
       "      <td>5.0</td>\n",
       "      <td>False</td>\n",
       "      <td>static constexpr auto kErase =</td>\n",
       "      <td>;             // OPTIMIZE [1, 5]</td>\n",
       "    </tr>\n",
       "    <tr>\n",
       "      <th>1</th>\n",
       "      <td>kRadius</td>\n",
       "      <td>suggest_int</td>\n",
       "      <td>2.000</td>\n",
       "      <td>6.0</td>\n",
       "      <td>False</td>\n",
       "      <td>static constexpr auto kRadius =</td>\n",
       "      <td>;            // OPTIMIZE [2, 6]</td>\n",
       "    </tr>\n",
       "    <tr>\n",
       "      <th>2</th>\n",
       "      <td>kAnnealingA</td>\n",
       "      <td>suggest_float</td>\n",
       "      <td>-15.000</td>\n",
       "      <td>15.0</td>\n",
       "      <td>False</td>\n",
       "      <td>static constexpr auto kAnnealingA =</td>\n",
       "      <td>;      // OPTIMIZE [-15.0, 15.0]</td>\n",
       "    </tr>\n",
       "    <tr>\n",
       "      <th>3</th>\n",
       "      <td>kAnnealingB</td>\n",
       "      <td>suggest_float</td>\n",
       "      <td>0.000</td>\n",
       "      <td>3.0</td>\n",
       "      <td>False</td>\n",
       "      <td>static constexpr auto kAnnealingB =</td>\n",
       "      <td>;      // OPTIMIZE [0.0, 3.0]</td>\n",
       "    </tr>\n",
       "    <tr>\n",
       "      <th>4</th>\n",
       "      <td>kAnnealingStart</td>\n",
       "      <td>suggest_float</td>\n",
       "      <td>1.000</td>\n",
       "      <td>100.0</td>\n",
       "      <td>True</td>\n",
       "      <td>static constexpr auto kAnnealingStart =</td>\n",
       "      <td>; // OPTIMIZE LOG [1.0, 100.0]</td>\n",
       "    </tr>\n",
       "    <tr>\n",
       "      <th>5</th>\n",
       "      <td>kSkipRatio</td>\n",
       "      <td>suggest_float</td>\n",
       "      <td>0.200</td>\n",
       "      <td>0.8</td>\n",
       "      <td>False</td>\n",
       "      <td>static constexpr auto kSkipRatio =</td>\n",
       "      <td>;       // OPTIMIZE [0.2, 0.8]</td>\n",
       "    </tr>\n",
       "    <tr>\n",
       "      <th>6</th>\n",
       "      <td>kTargetDeterminationTrials</td>\n",
       "      <td>suggest_int</td>\n",
       "      <td>1.000</td>\n",
       "      <td>20.0</td>\n",
       "      <td>True</td>\n",
       "      <td>static constexpr auto kTargetDeterminationTria...</td>\n",
       "      <td>; // OPTIMIZE LOG [1, 20]</td>\n",
       "    </tr>\n",
       "    <tr>\n",
       "      <th>7</th>\n",
       "      <td>kAttractionRatio</td>\n",
       "      <td>suggest_float</td>\n",
       "      <td>0.010</td>\n",
       "      <td>0.9</td>\n",
       "      <td>True</td>\n",
       "      <td>static constexpr auto kAttractionRatio =</td>\n",
       "      <td>;      // OPTIMIZE LOG [0.01, 0.9]</td>\n",
       "    </tr>\n",
       "    <tr>\n",
       "      <th>8</th>\n",
       "      <td>kMaxAttractionDistance</td>\n",
       "      <td>suggest_int</td>\n",
       "      <td>4.000</td>\n",
       "      <td>99.0</td>\n",
       "      <td>True</td>\n",
       "      <td>static constexpr auto kMaxAttractionDistance =</td>\n",
       "      <td>; // OPTIMIZE LOG [4, 99]</td>\n",
       "    </tr>\n",
       "    <tr>\n",
       "      <th>9</th>\n",
       "      <td>kStartAttraction</td>\n",
       "      <td>suggest_float</td>\n",
       "      <td>0.001</td>\n",
       "      <td>0.9</td>\n",
       "      <td>True</td>\n",
       "      <td>static constexpr auto kStartAttraction =</td>\n",
       "      <td>;     // OPTIMIZE LOG [0.001, 0.9]</td>\n",
       "    </tr>\n",
       "  </tbody>\n",
       "</table>\n",
       "</div>"
      ],
      "text/plain": [
       "                         name         method     min    max    log  \\\n",
       "0                      kErase    suggest_int   1.000    5.0  False   \n",
       "1                     kRadius    suggest_int   2.000    6.0  False   \n",
       "2                 kAnnealingA  suggest_float -15.000   15.0  False   \n",
       "3                 kAnnealingB  suggest_float   0.000    3.0  False   \n",
       "4             kAnnealingStart  suggest_float   1.000  100.0   True   \n",
       "5                  kSkipRatio  suggest_float   0.200    0.8  False   \n",
       "6  kTargetDeterminationTrials    suggest_int   1.000   20.0   True   \n",
       "7            kAttractionRatio  suggest_float   0.010    0.9   True   \n",
       "8      kMaxAttractionDistance    suggest_int   4.000   99.0   True   \n",
       "9            kStartAttraction  suggest_float   0.001    0.9   True   \n",
       "\n",
       "                                                left  \\\n",
       "0                    static constexpr auto kErase =    \n",
       "1                   static constexpr auto kRadius =    \n",
       "2               static constexpr auto kAnnealingA =    \n",
       "3               static constexpr auto kAnnealingB =    \n",
       "4           static constexpr auto kAnnealingStart =    \n",
       "5                static constexpr auto kSkipRatio =    \n",
       "6  static constexpr auto kTargetDeterminationTria...   \n",
       "7          static constexpr auto kAttractionRatio =    \n",
       "8    static constexpr auto kMaxAttractionDistance =    \n",
       "9          static constexpr auto kStartAttraction =    \n",
       "\n",
       "                                right  \n",
       "0    ;             // OPTIMIZE [1, 5]  \n",
       "1     ;            // OPTIMIZE [2, 6]  \n",
       "2    ;      // OPTIMIZE [-15.0, 15.0]  \n",
       "3       ;      // OPTIMIZE [0.0, 3.0]  \n",
       "4      ; // OPTIMIZE LOG [1.0, 100.0]  \n",
       "5      ;       // OPTIMIZE [0.2, 0.8]  \n",
       "6           ; // OPTIMIZE LOG [1, 20]  \n",
       "7  ;      // OPTIMIZE LOG [0.01, 0.9]  \n",
       "8           ; // OPTIMIZE LOG [4, 99]  \n",
       "9  ;     // OPTIMIZE LOG [0.001, 0.9]  "
      ]
     },
     "metadata": {},
     "output_type": "display_data"
    }
   ],
   "source": [
    "# ここでエラー出力は何かおかしいかもしれない\n",
    "\n",
    "\n",
    "# パラメータ抽出\n",
    "with open(FILENAME) as f:\n",
    "    answer = f.read()\n",
    "\n",
    "\n",
    "variables_optimize = []\n",
    "\n",
    "for left, value, right, options in re.findall(r\"^([^/\\n]*=\\s*)(.+?)(\\s*;\\s*//(?:.*\\W)?OPTIMIZE(\\W.*))$\", answer, re.MULTILINE):\n",
    "    name = left.replace(\"=\", \"\").strip().split()[-1]\n",
    "    \n",
    "    searched = re.search(r\".*\\[(?P<min>.*),(?P<max>.*)\\].*\", options)\n",
    "    if searched:\n",
    "        min_value = max_value = None\n",
    "        try:\n",
    "            min_value = eval(searched.group(\"min\"))\n",
    "            max_value = eval(searched.group(\"max\"))\n",
    "            assert min_value <= max_value\n",
    "        except Exception as e:\n",
    "            print(f\"searched={searched}\", file=sys.stderr)\n",
    "            print(e, file=sys.stderr)\n",
    "            continue\n",
    "        log = \"LOG\" in options  # 雑、直したほうが良い\n",
    "        if type(min_value) != type(max_value):\n",
    "            print(f\"searched={searched}\", file=sys.stderr)\n",
    "            print(\"types not matched\", file=sys.stderr)\n",
    "            continue\n",
    "        if isinstance(min_value, int):\n",
    "            method = \"suggest_int\"\n",
    "        elif isinstance(min_value, float):\n",
    "            method = \"suggest_float\"\n",
    "        else:\n",
    "            print(f\"searched={searched}\", file=sys.stderr)\n",
    "            print(f\"unknown type ({type(min_value)})\", file=sys.stderr)\n",
    "            continue\n",
    "        variables_optimize.append({\n",
    "            \"name\": name,\n",
    "            \"method\": method,\n",
    "            \"min\": min_value,\n",
    "            \"max\": max_value,\n",
    "            \"log\": log,\n",
    "            \"left\": left,\n",
    "            \"right\": right,\n",
    "        })\n",
    "    elif searched := re.search(r\".*\\{(?P<choices>.*?)\\}.*\", options):\n",
    "        choices = list(map(lambda x: x.strip(), searched.group(\"choices\").split(\",\")))\n",
    "        variables_optimize.append({\n",
    "            \"name\": name,\n",
    "            \"method\": \"suggest_categorical\",\n",
    "            \"choices\": choices,\n",
    "            \"left\": left,\n",
    "            \"right\": right,\n",
    "        })\n",
    "    else:\n",
    "        print(f\"searched={searched}\", file=sys.stderr)\n",
    "        print(f\"pattern was matched but options are incorrect.\", file=sys.stderr)\n",
    "\n",
    "print(len(variables_optimize), \"variables were found.\")\n",
    "if globals().get(\"pd\"):\n",
    "    display(pd.DataFrame(variables_optimize))\n",
    "else:\n",
    "    pprint(variables_optimize)"
   ]
  },
  {
   "cell_type": "code",
   "execution_count": 3,
   "id": "001042b9",
   "metadata": {},
   "outputs": [],
   "source": [
    "def escape(string):  # 正規表現の中でそのまま使いたい文字列をエスケープ\n",
    "    res = !echo '{string}' | sed -e 's/[]\\/$*.^[]/\\\\&/g'\n",
    "    return res[0]\n",
    "\n",
    "def escape_sed(string):  # sed の置換後の文字列用のエスケープ\n",
    "    res = !echo '{string}' | sed -e 's/[\\/&]/\\\\&/g'\n",
    "    return res[0]\n",
    "\n",
    "def read_stream(name, in_file, out_file):\n",
    "    for line in in_file:\n",
    "        print(f\"[{name}] {line.strip()}\", file=out_file)\n",
    "\n",
    "def run(cmd, name):\n",
    "    proc = Popen(cmd, stdout=PIPE, stderr=PIPE, universal_newlines=True, shell=isinstance(cmd, str))\n",
    "    stdout_thread = Thread(target=read_stream, args=(name, proc.stdout, sys.stdout))\n",
    "    stderr_thread = Thread(target=read_stream, args=(name, proc.stderr, sys.stderr))\n",
    "    stdout_thread.start()\n",
    "    stderr_thread.start()\n",
    "    proc.wait()\n",
    "    return proc\n",
    "\n",
    "def objective(trial, in_dir, work_dir):\n",
    "    n_internal_parallel = 3\n",
    "    \n",
    "    index_parallel = f\"{trial.number:04d}\"\n",
    "    print(f\"{index_parallel=}\")\n",
    "    \n",
    "    work_dir = Path(work_dir)\n",
    "    directory_input = Path(in_dir)  # 中のすべてのファイルに対して実行される\n",
    "    #parameters_changed_filename = Path(gettempdir()) / str(uuid1())\n",
    "    parameters_changed_filename = work_dir / f\"{index_parallel}_{FILENAME}\"\n",
    "    \n",
    "    run([\"mkdir\", f\"{work_dir / index_parallel}_out\"], \"mkdir\")\n",
    "    run([\"mkdir\", f\"{work_dir / index_parallel}_score\"], \"mkdir\")\n",
    "    \n",
    "    # ファイル作成\n",
    "    run(f\"cp {FILENAME} {parameters_changed_filename}\", \"cp\")\n",
    "    sed_options = [f\"-i {parameters_changed_filename}\"]\n",
    "    for variable in variables_optimize:\n",
    "        if variable[\"method\"] == \"suggest_categorical\":\n",
    "            val =  trial.suggest_categorical(variable[\"name\"], variable[\"choices\"])\n",
    "        else:\n",
    "            val = getattr(trial, variable[\"method\"])(variable[\"name\"], variable[\"min\"], variable[\"max\"], log=variable[\"log\"])\n",
    "        left = variable[\"left\"]\n",
    "        right = variable[\"right\"]\n",
    "        sed_options.append(f\"\"\"-e 's/^{escape(left)}.*{escape(right)}$/{escape_sed(left)}{val}{escape_sed(right)}/'\"\"\")\n",
    "    command_sed = f\"sed {' '.join(sed_options)}\"\n",
    "    #print(command_sed)\n",
    "    run(command_sed, \"sed\")\n",
    "    \n",
    "    # コンパイル\n",
    "    command_compile = f\"g++ {parameters_changed_filename} -std=gnu++17 -O2 -DONLINE_JUDGE -o {parameters_changed_filename}.out\"\n",
    "    #print(command_compile)\n",
    "    run(command_compile, \"compile\")\n",
    "    # 実行・採点コマンド (@ はファイル名)\n",
    "    command_exec = (\n",
    "        #f\"./a.out < ./tools/in/{i:04d}.txt > {out_file} && ./tools/target/release/vis ./tools/in/{i:04d}.txt {out_file}\"\n",
    "        #f\"../tools/target/release/tester $(pwd)/{parameters_changed_filename}.out < {directory_input}/@ 2>&1 | grep Score\"\n",
    "        #f\"../tools/target/release/tester $(pwd)/{parameters_changed_filename}.out < {directory_input}/@ 2>&1 | grep Score | sed -E s/[^0-9]+// > ./{index_parallel}_score/@;\"\n",
    "        #f\"cargo run --release --manifest-path ../tools/Cargo.toml --bin tester {directory_input}/@ $(pwd)/{parameters_changed_filename}.out 2>&1 | grep Score | sed -E s/[^0-9]+// > ./{index_parallel}_score/@;\"\n",
    "        f\"./{parameters_changed_filename}.out < {directory_input}/@ > {work_dir / index_parallel}_out/@;\"\n",
    "        f\"../tools/target/release/vis {directory_input}/@ {work_dir / index_parallel}_out/@ 2> /dev/null > {work_dir / index_parallel}_score/@;\"\n",
    "    )\n",
    "    # 並列実行 (sed はパスのディレクトリ部分を消してファイル名にしてる)\n",
    "    run(f\"find {directory_input}/* | sed 's!^.*/!!' | xargs -I@ -P {n_internal_parallel} sh -c '{command_exec}'\", \"exec\")\n",
    "    \n",
    "    # 集計\n",
    "    scores = []\n",
    "    for file_path in Path(f\"{work_dir / index_parallel}_score/\").iterdir():  \n",
    "        with open(file_path) as f:\n",
    "            scores.append(int(f.readline().strip().split()[-1]))\n",
    "    mean_score = sum(scores) / len(scores)\n",
    "    \n",
    "    # 後始末\n",
    "    run(f\"rm -rf {work_dir / index_parallel}_out\", \"rm\")\n",
    "    run(f\"rm -rf {work_dir / index_parallel}_score\", \"rm\")\n",
    "    #run(f\"rm {parameters_changed_filename}\", \"rm\")\n",
    "    run(f\"rm {parameters_changed_filename}.out\", \"rm\")\n",
    "    \n",
    "    return mean_score"
   ]
  },
  {
   "cell_type": "code",
   "execution_count": 4,
   "id": "2d2e133c",
   "metadata": {},
   "outputs": [
    {
     "name": "stderr",
     "output_type": "stream",
     "text": [
      "\u001b[32m[I 2022-08-15 21:30:38,871]\u001b[0m A new study created in RDB with name: study_5_0\u001b[0m\n"
     ]
    }
   ],
   "source": [
    "K = 5\n",
    "N_CLASS = 0\n",
    "\n",
    "in_dir = Path(f\"in_{K}_{N_CLASS}\")\n",
    "work_dir = Path(f\"work_{K}_{N_CLASS}\")\n",
    "\n",
    "study_name = f\"study_{K}_{N_CLASS}\"\n",
    "storage_path = work_dir / \"study.db\"\n",
    "storage = f\"sqlite:///{storage_path}\"\n",
    "study = optuna.create_study(storage=storage, load_if_exists=True, study_name=study_name, direction=\"maximize\")\n",
    "\n",
    "def callback(study, trial):\n",
    "    try:\n",
    "        index_parallel = f\"{trial.number:04d}\"\n",
    "        parameters_changed_filename = work_dir / f\"{index_parallel}_{FILENAME}\"\n",
    "        if study.best_value == trial.value:\n",
    "            print(f\"Updated! {study.best_value}\")\n",
    "            !cp {parameters_changed_filename} {work_dir / \"best_parameters.cpp\"}\n",
    "        !rm {parameters_changed_filename}\n",
    "    except:\n",
    "        print(\":(\")\n"
   ]
  },
  {
   "cell_type": "code",
   "execution_count": null,
   "id": "61c2901d",
   "metadata": {},
   "outputs": [
    {
     "name": "stdout",
     "output_type": "stream",
     "text": [
      "index_parallel='0000'\n"
     ]
    },
    {
     "name": "stderr",
     "output_type": "stream",
     "text": [
      "\u001b[32m[I 2022-08-15 21:34:25,962]\u001b[0m Trial 0 finished with value: 2701.40404040404 and parameters: {'kErase': 4, 'kRadius': 6, 'kAnnealingA': 5.891766992601539, 'kAnnealingB': 2.753768414965068, 'kAnnealingStart': 42.35951250667627, 'kSkipRatio': 0.24574088329266286, 'kTargetDeterminationTrials': 5, 'kAttractionRatio': 0.03931607447093353, 'kMaxAttractionDistance': 14, 'kStartAttraction': 0.003614053709899439}. Best is trial 0 with value: 2701.40404040404.\u001b[0m\n"
     ]
    },
    {
     "name": "stdout",
     "output_type": "stream",
     "text": [
      "Updated! 2701.40404040404\n",
      "index_parallel='0001'\n"
     ]
    },
    {
     "name": "stderr",
     "output_type": "stream",
     "text": [
      "\u001b[32m[I 2022-08-15 21:38:12,603]\u001b[0m Trial 1 finished with value: 4799.30808080808 and parameters: {'kErase': 1, 'kRadius': 6, 'kAnnealingA': -2.266801953635296, 'kAnnealingB': 2.1937847183067483, 'kAnnealingStart': 70.04380799120214, 'kSkipRatio': 0.26465024806746507, 'kTargetDeterminationTrials': 1, 'kAttractionRatio': 0.8287848132446295, 'kMaxAttractionDistance': 5, 'kStartAttraction': 0.0067608557697394775}. Best is trial 1 with value: 4799.30808080808.\u001b[0m\n"
     ]
    },
    {
     "name": "stdout",
     "output_type": "stream",
     "text": [
      "Updated! 4799.30808080808\n",
      "index_parallel='0002'\n"
     ]
    },
    {
     "name": "stderr",
     "output_type": "stream",
     "text": [
      "\u001b[32m[I 2022-08-15 21:41:59,101]\u001b[0m Trial 2 finished with value: 5355.676767676768 and parameters: {'kErase': 1, 'kRadius': 2, 'kAnnealingA': 4.504756430926967, 'kAnnealingB': 2.054951575610472, 'kAnnealingStart': 7.5640294492957185, 'kSkipRatio': 0.6842318134052084, 'kTargetDeterminationTrials': 1, 'kAttractionRatio': 0.5413572666463201, 'kMaxAttractionDistance': 4, 'kStartAttraction': 0.13877954848711052}. Best is trial 2 with value: 5355.676767676768.\u001b[0m\n"
     ]
    },
    {
     "name": "stdout",
     "output_type": "stream",
     "text": [
      "Updated! 5355.676767676768\n",
      "index_parallel='0003'\n"
     ]
    },
    {
     "name": "stderr",
     "output_type": "stream",
     "text": [
      "\u001b[32m[I 2022-08-15 21:45:46,676]\u001b[0m Trial 3 finished with value: 3711.4141414141413 and parameters: {'kErase': 5, 'kRadius': 4, 'kAnnealingA': 11.449596630997835, 'kAnnealingB': 0.6440422780664025, 'kAnnealingStart': 1.5195070949807628, 'kSkipRatio': 0.32700663489664583, 'kTargetDeterminationTrials': 18, 'kAttractionRatio': 0.0636555297032797, 'kMaxAttractionDistance': 20, 'kStartAttraction': 0.00498386580389975}. Best is trial 2 with value: 5355.676767676768.\u001b[0m\n"
     ]
    },
    {
     "name": "stdout",
     "output_type": "stream",
     "text": [
      "index_parallel='0004'\n"
     ]
    },
    {
     "name": "stderr",
     "output_type": "stream",
     "text": [
      "\u001b[32m[I 2022-08-15 21:49:33,058]\u001b[0m Trial 4 finished with value: 5218.035353535353 and parameters: {'kErase': 1, 'kRadius': 2, 'kAnnealingA': 10.658988557156952, 'kAnnealingB': 0.9572398603608911, 'kAnnealingStart': 13.82364938100136, 'kSkipRatio': 0.5485633414451743, 'kTargetDeterminationTrials': 20, 'kAttractionRatio': 0.03072253788947697, 'kMaxAttractionDistance': 7, 'kStartAttraction': 0.01792362845600126}. Best is trial 2 with value: 5355.676767676768.\u001b[0m\n"
     ]
    },
    {
     "name": "stdout",
     "output_type": "stream",
     "text": [
      "index_parallel='0005'\n"
     ]
    },
    {
     "name": "stderr",
     "output_type": "stream",
     "text": [
      "\u001b[32m[I 2022-08-15 21:53:19,964]\u001b[0m Trial 5 finished with value: 4878.055555555556 and parameters: {'kErase': 2, 'kRadius': 4, 'kAnnealingA': -11.435941115921919, 'kAnnealingB': 1.257251061029546, 'kAnnealingStart': 13.296918843064166, 'kSkipRatio': 0.3251856819620235, 'kTargetDeterminationTrials': 7, 'kAttractionRatio': 0.4034264299658077, 'kMaxAttractionDistance': 76, 'kStartAttraction': 0.07411401589930236}. Best is trial 2 with value: 5355.676767676768.\u001b[0m\n"
     ]
    },
    {
     "name": "stdout",
     "output_type": "stream",
     "text": [
      "index_parallel='0006'\n"
     ]
    },
    {
     "name": "stderr",
     "output_type": "stream",
     "text": [
      "\u001b[32m[I 2022-08-15 21:57:06,541]\u001b[0m Trial 6 finished with value: 3114.39898989899 and parameters: {'kErase': 1, 'kRadius': 3, 'kAnnealingA': 11.824874878740573, 'kAnnealingB': 0.7363134541550302, 'kAnnealingStart': 78.63481826349162, 'kSkipRatio': 0.5877204931861, 'kTargetDeterminationTrials': 2, 'kAttractionRatio': 0.42074463086703673, 'kMaxAttractionDistance': 12, 'kStartAttraction': 0.006140187129994877}. Best is trial 2 with value: 5355.676767676768.\u001b[0m\n"
     ]
    },
    {
     "name": "stdout",
     "output_type": "stream",
     "text": [
      "index_parallel='0007'\n"
     ]
    },
    {
     "name": "stderr",
     "output_type": "stream",
     "text": [
      "\u001b[32m[I 2022-08-15 22:00:54,029]\u001b[0m Trial 7 finished with value: 2519.126262626263 and parameters: {'kErase': 5, 'kRadius': 2, 'kAnnealingA': 7.1168885405665705, 'kAnnealingB': 1.7147673775601806, 'kAnnealingStart': 42.172989185717846, 'kSkipRatio': 0.687647052826893, 'kTargetDeterminationTrials': 1, 'kAttractionRatio': 0.01022772824061029, 'kMaxAttractionDistance': 8, 'kStartAttraction': 0.6222732125754582}. Best is trial 2 with value: 5355.676767676768.\u001b[0m\n"
     ]
    },
    {
     "name": "stdout",
     "output_type": "stream",
     "text": [
      "index_parallel='0008'\n"
     ]
    },
    {
     "name": "stderr",
     "output_type": "stream",
     "text": [
      "\u001b[32m[I 2022-08-15 22:04:40,320]\u001b[0m Trial 8 finished with value: 4581.035353535353 and parameters: {'kErase': 1, 'kRadius': 2, 'kAnnealingA': 3.684896255345638, 'kAnnealingB': 2.4234355530031992, 'kAnnealingStart': 25.304578931504192, 'kSkipRatio': 0.39046857510446964, 'kTargetDeterminationTrials': 1, 'kAttractionRatio': 0.012391024271775748, 'kMaxAttractionDistance': 20, 'kStartAttraction': 0.008984469766829239}. Best is trial 2 with value: 5355.676767676768.\u001b[0m\n"
     ]
    },
    {
     "name": "stdout",
     "output_type": "stream",
     "text": [
      "index_parallel='0009'\n"
     ]
    },
    {
     "name": "stderr",
     "output_type": "stream",
     "text": [
      "\u001b[32m[I 2022-08-15 22:08:27,593]\u001b[0m Trial 9 finished with value: 4951.934343434344 and parameters: {'kErase': 3, 'kRadius': 2, 'kAnnealingA': -12.621347236919224, 'kAnnealingB': 0.06351373687266171, 'kAnnealingStart': 6.0496103048885965, 'kSkipRatio': 0.34891035613766574, 'kTargetDeterminationTrials': 1, 'kAttractionRatio': 0.19157752803377756, 'kMaxAttractionDistance': 29, 'kStartAttraction': 0.06470059324213912}. Best is trial 2 with value: 5355.676767676768.\u001b[0m\n"
     ]
    },
    {
     "name": "stdout",
     "output_type": "stream",
     "text": [
      "index_parallel='0010'\n"
     ]
    },
    {
     "name": "stderr",
     "output_type": "stream",
     "text": [
      "\u001b[32m[I 2022-08-15 22:12:14,834]\u001b[0m Trial 10 finished with value: 4239.717171717171 and parameters: {'kErase': 3, 'kRadius': 5, 'kAnnealingA': -3.7661475839216756, 'kAnnealingB': 1.7940010515937916, 'kAnnealingStart': 3.226283329992226, 'kSkipRatio': 0.7902332400690867, 'kTargetDeterminationTrials': 2, 'kAttractionRatio': 0.149266786515202, 'kMaxAttractionDistance': 4, 'kStartAttraction': 0.5025668612602292}. Best is trial 2 with value: 5355.676767676768.\u001b[0m\n"
     ]
    },
    {
     "name": "stdout",
     "output_type": "stream",
     "text": [
      "index_parallel='0011'\n"
     ]
    },
    {
     "name": "stderr",
     "output_type": "stream",
     "text": [
      "\u001b[32m[I 2022-08-15 22:16:01,884]\u001b[0m Trial 11 finished with value: 5193.272727272727 and parameters: {'kErase': 2, 'kRadius': 3, 'kAnnealingA': 14.94245247372278, 'kAnnealingB': 1.098860124838404, 'kAnnealingStart': 9.650991789164777, 'kSkipRatio': 0.5613870055474477, 'kTargetDeterminationTrials': 14, 'kAttractionRatio': 0.029669855044073393, 'kMaxAttractionDistance': 7, 'kStartAttraction': 0.001080727669860059}. Best is trial 2 with value: 5355.676767676768.\u001b[0m\n"
     ]
    },
    {
     "name": "stdout",
     "output_type": "stream",
     "text": [
      "index_parallel='0012'\n"
     ]
    },
    {
     "name": "stderr",
     "output_type": "stream",
     "text": [
      "\u001b[32m[I 2022-08-15 22:19:48,588]\u001b[0m Trial 12 finished with value: 5039.772727272727 and parameters: {'kErase': 2, 'kRadius': 3, 'kAnnealingA': 1.5217796769531775, 'kAnnealingB': 2.050738987555606, 'kAnnealingStart': 4.390761847149357, 'kSkipRatio': 0.48437019946832865, 'kTargetDeterminationTrials': 9, 'kAttractionRatio': 0.027541001228840414, 'kMaxAttractionDistance': 4, 'kStartAttraction': 0.17759676805309965}. Best is trial 2 with value: 5355.676767676768.\u001b[0m\n"
     ]
    },
    {
     "name": "stdout",
     "output_type": "stream",
     "text": [
      "index_parallel='0013'\n"
     ]
    },
    {
     "name": "stderr",
     "output_type": "stream",
     "text": [
      "\u001b[32m[I 2022-08-15 22:23:35,411]\u001b[0m Trial 13 finished with value: 5291.378787878788 and parameters: {'kErase': 1, 'kRadius': 2, 'kAnnealingA': 7.945211861657498, 'kAnnealingB': 2.896780221470536, 'kAnnealingStart': 15.29150822190617, 'kSkipRatio': 0.6841692527842708, 'kTargetDeterminationTrials': 3, 'kAttractionRatio': 0.0856496358270356, 'kMaxAttractionDistance': 8, 'kStartAttraction': 0.02505733301198571}. Best is trial 2 with value: 5355.676767676768.\u001b[0m\n"
     ]
    },
    {
     "name": "stdout",
     "output_type": "stream",
     "text": [
      "index_parallel='0014'\n"
     ]
    },
    {
     "name": "stderr",
     "output_type": "stream",
     "text": [
      "\u001b[32m[I 2022-08-15 22:27:22,274]\u001b[0m Trial 14 finished with value: 5072.686868686868 and parameters: {'kErase': 2, 'kRadius': 3, 'kAnnealingA': -6.3787483604836295, 'kAnnealingB': 2.9946260771794, 'kAnnealingStart': 1.882249956538025, 'kSkipRatio': 0.6974885237589543, 'kTargetDeterminationTrials': 2, 'kAttractionRatio': 0.09471161773843043, 'kMaxAttractionDistance': 10, 'kStartAttraction': 0.05786180723770125}. Best is trial 2 with value: 5355.676767676768.\u001b[0m\n"
     ]
    },
    {
     "name": "stdout",
     "output_type": "stream",
     "text": [
      "index_parallel='0015'\n"
     ]
    },
    {
     "name": "stderr",
     "output_type": "stream",
     "text": [
      "\u001b[32m[I 2022-08-15 22:31:08,676]\u001b[0m Trial 15 finished with value: 5600.717171717171 and parameters: {'kErase': 1, 'kRadius': 2, 'kAnnealingA': 7.044810751006679, 'kAnnealingB': 2.574296815193042, 'kAnnealingStart': 8.06760703082723, 'kSkipRatio': 0.6763934646877573, 'kTargetDeterminationTrials': 3, 'kAttractionRatio': 0.23302025249682293, 'kMaxAttractionDistance': 38, 'kStartAttraction': 0.20168263245042387}. Best is trial 15 with value: 5600.717171717171.\u001b[0m\n"
     ]
    },
    {
     "name": "stdout",
     "output_type": "stream",
     "text": [
      "Updated! 5600.717171717171\n",
      "index_parallel='0016'\n"
     ]
    },
    {
     "name": "stderr",
     "output_type": "stream",
     "text": [
      "\u001b[32m[I 2022-08-15 22:34:55,827]\u001b[0m Trial 16 finished with value: 4088.9545454545455 and parameters: {'kErase': 4, 'kRadius': 5, 'kAnnealingA': 0.7296211509146335, 'kAnnealingB': 2.4958771979938494, 'kAnnealingStart': 6.809315722246532, 'kSkipRatio': 0.7991365283987242, 'kTargetDeterminationTrials': 3, 'kAttractionRatio': 0.3269203491595629, 'kMaxAttractionDistance': 44, 'kStartAttraction': 0.21779513600038958}. Best is trial 15 with value: 5600.717171717171.\u001b[0m\n"
     ]
    },
    {
     "name": "stdout",
     "output_type": "stream",
     "text": [
      "index_parallel='0017'\n"
     ]
    },
    {
     "name": "stderr",
     "output_type": "stream",
     "text": [
      "\u001b[32m[I 2022-08-15 22:38:42,416]\u001b[0m Trial 17 finished with value: 5286.949494949495 and parameters: {'kErase': 2, 'kRadius': 3, 'kAnnealingA': 4.531795108116901, 'kAnnealingB': 1.986884108328092, 'kAnnealingStart': 2.8754998852285327, 'kSkipRatio': 0.6166175817222596, 'kTargetDeterminationTrials': 5, 'kAttractionRatio': 0.22131100230339384, 'kMaxAttractionDistance': 99, 'kStartAttraction': 0.22127648215913806}. Best is trial 15 with value: 5600.717171717171.\u001b[0m\n"
     ]
    },
    {
     "name": "stdout",
     "output_type": "stream",
     "text": [
      "index_parallel='0018'\n"
     ]
    },
    {
     "name": "stderr",
     "output_type": "stream",
     "text": [
      "\u001b[32m[I 2022-08-15 22:42:29,925]\u001b[0m Trial 18 finished with value: 4531.287878787879 and parameters: {'kErase': 3, 'kRadius': 4, 'kAnnealingA': -7.685217485461068, 'kAnnealingB': 1.5294380754365307, 'kAnnealingStart': 1.046999442576363, 'kSkipRatio': 0.46665110794535797, 'kTargetDeterminationTrials': 2, 'kAttractionRatio': 0.86157860761686, 'kMaxAttractionDistance': 34, 'kStartAttraction': 0.1105664849803138}. Best is trial 15 with value: 5600.717171717171.\u001b[0m\n"
     ]
    },
    {
     "name": "stdout",
     "output_type": "stream",
     "text": [
      "index_parallel='0019'\n"
     ]
    },
    {
     "name": "stderr",
     "output_type": "stream",
     "text": [
      "\u001b[32m[I 2022-08-15 22:46:16,402]\u001b[0m Trial 19 finished with value: 4902.777777777777 and parameters: {'kErase': 1, 'kRadius': 2, 'kAnnealingA': 2.9188547523224395, 'kAnnealingB': 2.4919573120229255, 'kAnnealingStart': 21.162120355163317, 'kSkipRatio': 0.6413942982563114, 'kTargetDeterminationTrials': 4, 'kAttractionRatio': 0.43872396109440237, 'kMaxAttractionDistance': 54, 'kStartAttraction': 0.8845530286566394}. Best is trial 15 with value: 5600.717171717171.\u001b[0m\n"
     ]
    },
    {
     "name": "stdout",
     "output_type": "stream",
     "text": [
      "index_parallel='0020'\n"
     ]
    },
    {
     "name": "stderr",
     "output_type": "stream",
     "text": [
      "\u001b[32m[I 2022-08-15 22:50:03,540]\u001b[0m Trial 20 finished with value: 4615.575757575758 and parameters: {'kErase': 3, 'kRadius': 5, 'kAnnealingA': 8.753560374544744, 'kAnnealingB': 2.3325355569063424, 'kAnnealingStart': 6.752390068684755, 'kSkipRatio': 0.7454533804261878, 'kTargetDeterminationTrials': 10, 'kAttractionRatio': 0.5653550366909664, 'kMaxAttractionDistance': 25, 'kStartAttraction': 0.2904444620772848}. Best is trial 15 with value: 5600.717171717171.\u001b[0m\n"
     ]
    },
    {
     "name": "stdout",
     "output_type": "stream",
     "text": [
      "index_parallel='0021'\n"
     ]
    },
    {
     "name": "stderr",
     "output_type": "stream",
     "text": [
      "\u001b[32m[I 2022-08-15 22:53:50,330]\u001b[0m Trial 21 finished with value: 5495.722222222223 and parameters: {'kErase': 1, 'kRadius': 2, 'kAnnealingA': 7.963404475156063, 'kAnnealingB': 2.982145879014685, 'kAnnealingStart': 10.86127973363289, 'kSkipRatio': 0.6803411415201216, 'kTargetDeterminationTrials': 3, 'kAttractionRatio': 0.13258320297203993, 'kMaxAttractionDistance': 5, 'kStartAttraction': 0.014991525796431614}. Best is trial 15 with value: 5600.717171717171.\u001b[0m\n"
     ]
    },
    {
     "name": "stdout",
     "output_type": "stream",
     "text": [
      "index_parallel='0022'\n"
     ]
    },
    {
     "name": "stderr",
     "output_type": "stream",
     "text": [
      "\u001b[32m[I 2022-08-15 22:57:36,804]\u001b[0m Trial 22 finished with value: 5410.813131313132 and parameters: {'kErase': 1, 'kRadius': 2, 'kAnnealingA': 14.887453390151942, 'kAnnealingB': 2.6561144039274467, 'kAnnealingStart': 10.335082709064343, 'kSkipRatio': 0.7194882468871964, 'kTargetDeterminationTrials': 3, 'kAttractionRatio': 0.14672049658630648, 'kMaxAttractionDistance': 6, 'kStartAttraction': 0.015486338738296431}. Best is trial 15 with value: 5600.717171717171.\u001b[0m\n"
     ]
    },
    {
     "name": "stdout",
     "output_type": "stream",
     "text": [
      "index_parallel='0023'\n"
     ]
    },
    {
     "name": "stderr",
     "output_type": "stream",
     "text": [
      "\u001b[32m[I 2022-08-15 23:01:23,530]\u001b[0m Trial 23 finished with value: 3998.510101010101 and parameters: {'kErase': 2, 'kRadius': 3, 'kAnnealingA': 12.901580289699544, 'kAnnealingB': 2.7177130699186702, 'kAnnealingStart': 25.653388195015996, 'kSkipRatio': 0.7326957691377637, 'kTargetDeterminationTrials': 3, 'kAttractionRatio': 0.14413344479730103, 'kMaxAttractionDistance': 6, 'kStartAttraction': 0.013526624233921453}. Best is trial 15 with value: 5600.717171717171.\u001b[0m\n"
     ]
    },
    {
     "name": "stdout",
     "output_type": "stream",
     "text": [
      "index_parallel='0024'\n"
     ]
    },
    {
     "name": "stderr",
     "output_type": "stream",
     "text": [
      "\u001b[32m[I 2022-08-15 23:05:10,282]\u001b[0m Trial 24 finished with value: 5563.116161616162 and parameters: {'kErase': 1, 'kRadius': 2, 'kAnnealingA': 14.671619919131487, 'kAnnealingB': 2.697535373494971, 'kAnnealingStart': 10.56791596187797, 'kSkipRatio': 0.6378707954051867, 'kTargetDeterminationTrials': 4, 'kAttractionRatio': 0.2620137682977328, 'kMaxAttractionDistance': 13, 'kStartAttraction': 0.03591048616925518}. Best is trial 15 with value: 5600.717171717171.\u001b[0m\n"
     ]
    },
    {
     "name": "stdout",
     "output_type": "stream",
     "text": [
      "index_parallel='0025'\n"
     ]
    },
    {
     "name": "stderr",
     "output_type": "stream",
     "text": [
      "\u001b[32m[I 2022-08-15 23:08:57,155]\u001b[0m Trial 25 finished with value: 5335.99494949495 and parameters: {'kErase': 2, 'kRadius': 3, 'kAnnealingA': 8.448174121299878, 'kAnnealingB': 2.977625613721536, 'kAnnealingStart': 4.696246690701739, 'kSkipRatio': 0.6428027107435224, 'kTargetDeterminationTrials': 6, 'kAttractionRatio': 0.2622696629706506, 'kMaxAttractionDistance': 14, 'kStartAttraction': 0.031524122457025766}. Best is trial 15 with value: 5600.717171717171.\u001b[0m\n"
     ]
    },
    {
     "name": "stdout",
     "output_type": "stream",
     "text": [
      "index_parallel='0026'\n"
     ]
    },
    {
     "name": "stderr",
     "output_type": "stream",
     "text": [
      "\u001b[32m[I 2022-08-15 23:12:43,638]\u001b[0m Trial 26 finished with value: 4876.055555555556 and parameters: {'kErase': 1, 'kRadius': 2, 'kAnnealingA': 9.922373200760097, 'kAnnealingB': 2.688505533993065, 'kAnnealingStart': 18.78639170635355, 'kSkipRatio': 0.5036894191175403, 'kTargetDeterminationTrials': 4, 'kAttractionRatio': 0.05767431122506664, 'kMaxAttractionDistance': 41, 'kStartAttraction': 0.001378913499308653}. Best is trial 15 with value: 5600.717171717171.\u001b[0m\n"
     ]
    },
    {
     "name": "stdout",
     "output_type": "stream",
     "text": [
      "index_parallel='0027'\n"
     ]
    },
    {
     "name": "stderr",
     "output_type": "stream",
     "text": [
      "\u001b[32m[I 2022-08-15 23:16:30,105]\u001b[0m Trial 27 finished with value: 5494.434343434344 and parameters: {'kErase': 1, 'kRadius': 4, 'kAnnealingA': 13.10869075925596, 'kAnnealingB': 2.286322416178329, 'kAnnealingStart': 10.566333325617167, 'kSkipRatio': 0.626837431081749, 'kTargetDeterminationTrials': 4, 'kAttractionRatio': 0.1205387618462114, 'kMaxAttractionDistance': 16, 'kStartAttraction': 0.03360997440899689}. Best is trial 15 with value: 5600.717171717171.\u001b[0m\n"
     ]
    },
    {
     "name": "stdout",
     "output_type": "stream",
     "text": [
      "index_parallel='0028'\n"
     ]
    },
    {
     "name": "stderr",
     "output_type": "stream",
     "text": [
      "\u001b[32m[I 2022-08-15 23:20:17,260]\u001b[0m Trial 28 finished with value: 5281.611111111111 and parameters: {'kErase': 2, 'kRadius': 2, 'kAnnealingA': -1.6496307480935872, 'kAnnealingB': 2.572737469880262, 'kAnnealingStart': 37.73455643556411, 'kSkipRatio': 0.5440866270810945, 'kTargetDeterminationTrials': 8, 'kAttractionRatio': 0.2802685674420534, 'kMaxAttractionDistance': 60, 'kStartAttraction': 0.002185034963061967}. Best is trial 15 with value: 5600.717171717171.\u001b[0m\n"
     ]
    },
    {
     "name": "stdout",
     "output_type": "stream",
     "text": [
      "index_parallel='0029'\n"
     ]
    },
    {
     "name": "stderr",
     "output_type": "stream",
     "text": [
      "\u001b[32m[I 2022-08-15 23:24:04,315]\u001b[0m Trial 29 finished with value: 4461.762626262626 and parameters: {'kErase': 4, 'kRadius': 3, 'kAnnealingA': 6.337134159831435, 'kAnnealingB': 2.8041707847316557, 'kAnnealingStart': 4.479027893716632, 'kSkipRatio': 0.7592186507700229, 'kTargetDeterminationTrials': 5, 'kAttractionRatio': 0.20354853122218633, 'kMaxAttractionDistance': 26, 'kStartAttraction': 0.0030163648874722234}. Best is trial 15 with value: 5600.717171717171.\u001b[0m\n"
     ]
    },
    {
     "name": "stdout",
     "output_type": "stream",
     "text": [
      "index_parallel='0030'\n"
     ]
    },
    {
     "name": "stderr",
     "output_type": "stream",
     "text": [
      "\u001b[32m[I 2022-08-15 23:27:50,574]\u001b[0m Trial 30 finished with value: 4042.449494949495 and parameters: {'kErase': 1, 'kRadius': 6, 'kAnnealingA': 6.001531533469294, 'kAnnealingB': 2.772242933798557, 'kAnnealingStart': 32.862152951317746, 'kSkipRatio': 0.5930546343276314, 'kTargetDeterminationTrials': 6, 'kAttractionRatio': 0.0680175000437364, 'kMaxAttractionDistance': 10, 'kStartAttraction': 0.047976307447827}. Best is trial 15 with value: 5600.717171717171.\u001b[0m\n"
     ]
    },
    {
     "name": "stdout",
     "output_type": "stream",
     "text": [
      "index_parallel='0031'\n"
     ]
    },
    {
     "name": "stderr",
     "output_type": "stream",
     "text": [
      "\u001b[32m[I 2022-08-15 23:31:36,927]\u001b[0m Trial 31 finished with value: 5530.984848484848 and parameters: {'kErase': 1, 'kRadius': 4, 'kAnnealingA': 13.60765593826978, 'kAnnealingB': 2.3003902431048635, 'kAnnealingStart': 9.613088957463784, 'kSkipRatio': 0.6548516005510062, 'kTargetDeterminationTrials': 4, 'kAttractionRatio': 0.13804383539108528, 'kMaxAttractionDistance': 16, 'kStartAttraction': 0.03399365291012877}. Best is trial 15 with value: 5600.717171717171.\u001b[0m\n"
     ]
    },
    {
     "name": "stdout",
     "output_type": "stream",
     "text": [
      "index_parallel='0032'\n"
     ]
    },
    {
     "name": "stderr",
     "output_type": "stream",
     "text": [
      "\u001b[32m[I 2022-08-15 23:35:23,492]\u001b[0m Trial 32 finished with value: 5415.434343434344 and parameters: {'kErase': 1, 'kRadius': 2, 'kAnnealingA': 13.709936224490495, 'kAnnealingB': 2.259048101546916, 'kAnnealingStart': 8.387583090419062, 'kSkipRatio': 0.20087006359325837, 'kTargetDeterminationTrials': 4, 'kAttractionRatio': 0.11464521960281292, 'kMaxAttractionDistance': 17, 'kStartAttraction': 0.010094577607878442}. Best is trial 15 with value: 5600.717171717171.\u001b[0m\n"
     ]
    },
    {
     "name": "stdout",
     "output_type": "stream",
     "text": [
      "index_parallel='0033'\n"
     ]
    },
    {
     "name": "stderr",
     "output_type": "stream",
     "text": [
      "\u001b[32m[I 2022-08-15 23:39:09,838]\u001b[0m Trial 33 finished with value: 5351.944444444444 and parameters: {'kErase': 1, 'kRadius': 5, 'kAnnealingA': 10.192456529745535, 'kAnnealingB': 2.56390583137658, 'kAnnealingStart': 12.433613253447632, 'kSkipRatio': 0.6606340505063808, 'kTargetDeterminationTrials': 2, 'kAttractionRatio': 0.17447041078739256, 'kMaxAttractionDistance': 12, 'kStartAttraction': 0.09770942676789852}. Best is trial 15 with value: 5600.717171717171.\u001b[0m\n"
     ]
    },
    {
     "name": "stdout",
     "output_type": "stream",
     "text": [
      "index_parallel='0034'\n"
     ]
    },
    {
     "name": "stderr",
     "output_type": "stream",
     "text": [
      "\u001b[32m[I 2022-08-15 23:42:56,602]\u001b[0m Trial 34 finished with value: 4807.212121212121 and parameters: {'kErase': 1, 'kRadius': 6, 'kAnnealingA': 12.261869666948229, 'kAnnealingB': 2.158500754319926, 'kAnnealingStart': 16.89076701219253, 'kSkipRatio': 0.6658585234361045, 'kTargetDeterminationTrials': 5, 'kAttractionRatio': 0.044467324969755403, 'kMaxAttractionDistance': 23, 'kStartAttraction': 0.02134873417510527}. Best is trial 15 with value: 5600.717171717171.\u001b[0m\n"
     ]
    },
    {
     "name": "stdout",
     "output_type": "stream",
     "text": [
      "index_parallel='0035'\n"
     ]
    },
    {
     "name": "stderr",
     "output_type": "stream",
     "text": [
      "\u001b[32m[I 2022-08-15 23:46:43,404]\u001b[0m Trial 35 finished with value: 3373.9242424242425 and parameters: {'kErase': 2, 'kRadius': 3, 'kAnnealingA': 10.43388314171344, 'kAnnealingB': 2.891593106620796, 'kAnnealingStart': 53.09863980160839, 'kSkipRatio': 0.605956542882542, 'kTargetDeterminationTrials': 11, 'kAttractionRatio': 0.2746815259553206, 'kMaxAttractionDistance': 35, 'kStartAttraction': 0.0350027848381731}. Best is trial 15 with value: 5600.717171717171.\u001b[0m\n"
     ]
    },
    {
     "name": "stdout",
     "output_type": "stream",
     "text": [
      "index_parallel='0036'\n"
     ]
    },
    {
     "name": "stderr",
     "output_type": "stream",
     "text": [
      "\u001b[32m[I 2022-08-15 23:50:29,763]\u001b[0m Trial 36 finished with value: 5343.272727272727 and parameters: {'kErase': 1, 'kRadius': 4, 'kAnnealingA': 9.337114934017087, 'kAnnealingB': 1.8548360154998427, 'kAnnealingStart': 5.4185836548495026, 'kSkipRatio': 0.438839467267431, 'kTargetDeterminationTrials': 3, 'kAttractionRatio': 0.10827804741234542, 'kMaxAttractionDistance': 5, 'kStartAttraction': 0.04267695071388248}. Best is trial 15 with value: 5600.717171717171.\u001b[0m\n"
     ]
    },
    {
     "name": "stdout",
     "output_type": "stream",
     "text": [
      "index_parallel='0037'\n"
     ]
    },
    {
     "name": "stderr",
     "output_type": "stream",
     "text": [
      "\u001b[32m[I 2022-08-15 23:54:16,366]\u001b[0m Trial 37 finished with value: 5425.661616161616 and parameters: {'kErase': 1, 'kRadius': 2, 'kAnnealingA': 11.610822596608186, 'kAnnealingB': 2.411403310912091, 'kAnnealingStart': 3.3454613269051294, 'kSkipRatio': 0.7097277437595971, 'kTargetDeterminationTrials': 6, 'kAttractionRatio': 0.611784310735831, 'kMaxAttractionDistance': 11, 'kStartAttraction': 0.004675955414400206}. Best is trial 15 with value: 5600.717171717171.\u001b[0m\n"
     ]
    },
    {
     "name": "stdout",
     "output_type": "stream",
     "text": [
      "index_parallel='0038'\n"
     ]
    },
    {
     "name": "stderr",
     "output_type": "stream",
     "text": [
      "\u001b[32m[I 2022-08-15 23:58:03,162]\u001b[0m Trial 38 finished with value: 5400.959595959596 and parameters: {'kErase': 2, 'kRadius': 2, 'kAnnealingA': 5.4798686046605845, 'kAnnealingB': 1.4589002620179288, 'kAnnealingStart': 12.079220777944458, 'kSkipRatio': 0.5256610774126547, 'kTargetDeterminationTrials': 4, 'kAttractionRatio': 0.35678922114530515, 'kMaxAttractionDistance': 14, 'kStartAttraction': 0.38271600163557595}. Best is trial 15 with value: 5600.717171717171.\u001b[0m\n"
     ]
    },
    {
     "name": "stdout",
     "output_type": "stream",
     "text": [
      "index_parallel='0039'\n"
     ]
    },
    {
     "name": "stderr",
     "output_type": "stream",
     "text": [
      "\u001b[32m[I 2022-08-16 00:01:50,719]\u001b[0m Trial 39 finished with value: 4016.5757575757575 and parameters: {'kErase': 5, 'kRadius': 4, 'kAnnealingA': 13.940998109156569, 'kAnnealingB': 2.1372586064483894, 'kAnnealingStart': 9.11296704393663, 'kSkipRatio': 0.7630494173527039, 'kTargetDeterminationTrials': 2, 'kAttractionRatio': 0.08135114803502458, 'kMaxAttractionDistance': 20, 'kStartAttraction': 0.009826539986389195}. Best is trial 15 with value: 5600.717171717171.\u001b[0m\n"
     ]
    },
    {
     "name": "stdout",
     "output_type": "stream",
     "text": [
      "index_parallel='0040'\n"
     ]
    },
    {
     "name": "stderr",
     "output_type": "stream",
     "text": [
      "\u001b[32m[I 2022-08-16 00:05:37,749]\u001b[0m Trial 40 finished with value: 5626.954545454545 and parameters: {'kErase': 1, 'kRadius': 2, 'kAnnealingA': 2.7245776553322942, 'kAnnealingB': 2.8071572674826664, 'kAnnealingStart': 7.923038115970905, 'kSkipRatio': 0.578229168758642, 'kTargetDeterminationTrials': 7, 'kAttractionRatio': 0.24745082507462907, 'kMaxAttractionDistance': 9, 'kStartAttraction': 0.07697515685315295}. Best is trial 40 with value: 5626.954545454545.\u001b[0m\n"
     ]
    },
    {
     "name": "stdout",
     "output_type": "stream",
     "text": [
      "Updated! 5626.954545454545\n",
      "index_parallel='0041'\n"
     ]
    },
    {
     "name": "stderr",
     "output_type": "stream",
     "text": [
      "\u001b[32m[I 2022-08-16 00:09:24,396]\u001b[0m Trial 41 finished with value: 5588.388888888889 and parameters: {'kErase': 1, 'kRadius': 2, 'kAnnealingA': 2.1181848144100366, 'kAnnealingB': 2.780551743949239, 'kAnnealingStart': 7.996201051539675, 'kSkipRatio': 0.5735783556917826, 'kTargetDeterminationTrials': 6, 'kAttractionRatio': 0.22669444094538316, 'kMaxAttractionDistance': 8, 'kStartAttraction': 0.0757782019898576}. Best is trial 40 with value: 5626.954545454545.\u001b[0m\n"
     ]
    },
    {
     "name": "stdout",
     "output_type": "stream",
     "text": [
      "index_parallel='0042'\n"
     ]
    },
    {
     "name": "stderr",
     "output_type": "stream",
     "text": [
      "\u001b[32m[I 2022-08-16 00:13:11,157]\u001b[0m Trial 42 finished with value: 5568.444444444444 and parameters: {'kErase': 1, 'kRadius': 2, 'kAnnealingA': 2.2131564934190253, 'kAnnealingB': 2.6322482921072794, 'kAnnealingStart': 7.9970348637246795, 'kSkipRatio': 0.5684487424055245, 'kTargetDeterminationTrials': 7, 'kAttractionRatio': 0.22910811815064666, 'kMaxAttractionDistance': 9, 'kStartAttraction': 0.10148908474104952}. Best is trial 40 with value: 5626.954545454545.\u001b[0m\n"
     ]
    },
    {
     "name": "stdout",
     "output_type": "stream",
     "text": [
      "index_parallel='0043'\n"
     ]
    },
    {
     "name": "stderr",
     "output_type": "stream",
     "text": [
      "\u001b[32m[I 2022-08-16 00:16:57,701]\u001b[0m Trial 43 finished with value: 5588.292929292929 and parameters: {'kErase': 1, 'kRadius': 2, 'kAnnealingA': -1.3744120908717612, 'kAnnealingB': 2.6266157903071967, 'kAnnealingStart': 7.481588455849843, 'kSkipRatio': 0.5625052707149354, 'kTargetDeterminationTrials': 7, 'kAttractionRatio': 0.23876344215667322, 'kMaxAttractionDistance': 9, 'kStartAttraction': 0.08200628945529528}. Best is trial 40 with value: 5626.954545454545.\u001b[0m\n"
     ]
    },
    {
     "name": "stdout",
     "output_type": "stream",
     "text": [
      "index_parallel='0044'\n"
     ]
    },
    {
     "name": "stderr",
     "output_type": "stream",
     "text": [
      "\u001b[32m[I 2022-08-16 00:20:44,120]\u001b[0m Trial 44 finished with value: 5536.939393939394 and parameters: {'kErase': 1, 'kRadius': 2, 'kAnnealingA': -1.6080731191616704, 'kAnnealingB': 2.7996867436052417, 'kAnnealingStart': 7.294444877548767, 'kSkipRatio': 0.5694778299077268, 'kTargetDeterminationTrials': 14, 'kAttractionRatio': 0.4672290451308194, 'kMaxAttractionDistance': 9, 'kStartAttraction': 0.08989075284663178}. Best is trial 40 with value: 5626.954545454545.\u001b[0m\n"
     ]
    },
    {
     "name": "stdout",
     "output_type": "stream",
     "text": [
      "index_parallel='0045'\n"
     ]
    },
    {
     "name": "stderr",
     "output_type": "stream",
     "text": [
      "\u001b[32m[I 2022-08-16 00:24:30,894]\u001b[0m Trial 45 finished with value: 5327.772727272727 and parameters: {'kErase': 2, 'kRadius': 2, 'kAnnealingA': 2.2553444340071245, 'kAnnealingB': 0.243950862215202, 'kAnnealingStart': 5.187023273808918, 'kSkipRatio': 0.5203522682265723, 'kTargetDeterminationTrials': 7, 'kAttractionRatio': 0.2253142533137268, 'kMaxAttractionDistance': 7, 'kStartAttraction': 0.13269533124590435}. Best is trial 40 with value: 5626.954545454545.\u001b[0m\n"
     ]
    },
    {
     "name": "stdout",
     "output_type": "stream",
     "text": [
      "index_parallel='0046'\n"
     ]
    },
    {
     "name": "stderr",
     "output_type": "stream",
     "text": [
      "\u001b[32m[I 2022-08-16 00:28:17,696]\u001b[0m Trial 46 finished with value: 5374.464646464647 and parameters: {'kErase': 1, 'kRadius': 2, 'kAnnealingA': 0.6249195138358452, 'kAnnealingB': 2.593268911223465, 'kAnnealingStart': 3.5348362279055823, 'kSkipRatio': 0.4477806608145469, 'kTargetDeterminationTrials': 14, 'kAttractionRatio': 0.6457790862526672, 'kMaxAttractionDistance': 8, 'kStartAttraction': 0.07190984982516337}. Best is trial 40 with value: 5626.954545454545.\u001b[0m\n"
     ]
    },
    {
     "name": "stdout",
     "output_type": "stream",
     "text": [
      "index_parallel='0047'\n"
     ]
    },
    {
     "name": "stderr",
     "output_type": "stream",
     "text": [
      "\u001b[32m[I 2022-08-16 00:32:04,429]\u001b[0m Trial 47 finished with value: 5203.131313131313 and parameters: {'kErase': 2, 'kRadius': 3, 'kAnnealingA': -0.7564021614733101, 'kAnnealingB': 2.4523950297613344, 'kAnnealingStart': 7.9445419187368005, 'kSkipRatio': 0.5676236782558302, 'kTargetDeterminationTrials': 8, 'kAttractionRatio': 0.17264453789755188, 'kMaxAttractionDistance': 6, 'kStartAttraction': 0.14929544259331648}. Best is trial 40 with value: 5626.954545454545.\u001b[0m\n"
     ]
    },
    {
     "name": "stdout",
     "output_type": "stream",
     "text": [
      "index_parallel='0048'\n"
     ]
    },
    {
     "name": "stderr",
     "output_type": "stream",
     "text": [
      "\u001b[32m[I 2022-08-16 00:35:51,096]\u001b[0m Trial 48 finished with value: 5375.954545454545 and parameters: {'kErase': 1, 'kRadius': 2, 'kAnnealingA': 4.253163788110981, 'kAnnealingB': 2.8587803441302313, 'kAnnealingStart': 2.139945262652138, 'kSkipRatio': 0.41982500214455265, 'kTargetDeterminationTrials': 11, 'kAttractionRatio': 0.3306277503380285, 'kMaxAttractionDistance': 9, 'kStartAttraction': 0.2959341864653807}. Best is trial 40 with value: 5626.954545454545.\u001b[0m\n"
     ]
    },
    {
     "name": "stdout",
     "output_type": "stream",
     "text": [
      "index_parallel='0049'\n"
     ]
    },
    {
     "name": "stderr",
     "output_type": "stream",
     "text": [
      "\u001b[32m[I 2022-08-16 00:39:37,887]\u001b[0m Trial 49 finished with value: 5468.106060606061 and parameters: {'kErase': 1, 'kRadius': 2, 'kAnnealingA': -2.890020701853243, 'kAnnealingB': 0.6400722730693975, 'kAnnealingStart': 6.04252466573947, 'kSkipRatio': 0.582619771910307, 'kTargetDeterminationTrials': 8, 'kAttractionRatio': 0.22766739601730906, 'kMaxAttractionDistance': 10, 'kStartAttraction': 0.05969940646566304}. Best is trial 40 with value: 5626.954545454545.\u001b[0m\n"
     ]
    },
    {
     "name": "stdout",
     "output_type": "stream",
     "text": [
      "index_parallel='0050'\n"
     ]
    },
    {
     "name": "stderr",
     "output_type": "stream",
     "text": [
      "\u001b[32m[I 2022-08-16 00:43:24,675]\u001b[0m Trial 50 finished with value: 5166.333333333333 and parameters: {'kErase': 2, 'kRadius': 3, 'kAnnealingA': -4.7830643048601384, 'kAnnealingB': 2.406559761206087, 'kAnnealingStart': 15.159581214349892, 'kSkipRatio': 0.5354224898587165, 'kTargetDeterminationTrials': 17, 'kAttractionRatio': 0.3782155193322667, 'kMaxAttractionDistance': 8, 'kStartAttraction': 0.18621582648614804}. Best is trial 40 with value: 5626.954545454545.\u001b[0m\n"
     ]
    },
    {
     "name": "stdout",
     "output_type": "stream",
     "text": [
      "index_parallel='0051'\n"
     ]
    },
    {
     "name": "stderr",
     "output_type": "stream",
     "text": [
      "\u001b[32m[I 2022-08-16 00:47:11,203]\u001b[0m Trial 51 finished with value: 5528.080808080808 and parameters: {'kErase': 1, 'kRadius': 2, 'kAnnealingA': -0.3502197252672823, 'kAnnealingB': 2.669006873444719, 'kAnnealingStart': 6.356004749444537, 'kSkipRatio': 0.6121369882969049, 'kTargetDeterminationTrials': 7, 'kAttractionRatio': 0.2536760407079146, 'kMaxAttractionDistance': 13, 'kStartAttraction': 0.07948694068822712}. Best is trial 40 with value: 5626.954545454545.\u001b[0m\n"
     ]
    },
    {
     "name": "stdout",
     "output_type": "stream",
     "text": [
      "index_parallel='0052'\n"
     ]
    },
    {
     "name": "stderr",
     "output_type": "stream",
     "text": [
      "\u001b[32m[I 2022-08-16 00:50:57,788]\u001b[0m Trial 52 finished with value: 5640.267676767677 and parameters: {'kErase': 1, 'kRadius': 2, 'kAnnealingA': 1.7428872625581615, 'kAnnealingB': 2.743525128096916, 'kAnnealingStart': 8.422049745228597, 'kSkipRatio': 0.5061423550466216, 'kTargetDeterminationTrials': 5, 'kAttractionRatio': 0.1766077593768324, 'kMaxAttractionDistance': 11, 'kStartAttraction': 0.1107976820825914}. Best is trial 52 with value: 5640.267676767677.\u001b[0m\n"
     ]
    },
    {
     "name": "stdout",
     "output_type": "stream",
     "text": [
      "Updated! 5640.267676767677\n",
      "index_parallel='0053'\n"
     ]
    },
    {
     "name": "stderr",
     "output_type": "stream",
     "text": [
      "\u001b[32m[I 2022-08-16 00:54:44,560]\u001b[0m Trial 53 finished with value: 5421.338383838384 and parameters: {'kErase': 1, 'kRadius': 2, 'kAnnealingA': 1.7252165814582923, 'kAnnealingB': 2.8693549911908383, 'kAnnealingStart': 3.829417919920475, 'kSkipRatio': 0.48030110419843963, 'kTargetDeterminationTrials': 6, 'kAttractionRatio': 0.17449313670459785, 'kMaxAttractionDistance': 9, 'kStartAttraction': 0.13377298047374367}. Best is trial 52 with value: 5640.267676767677.\u001b[0m\n"
     ]
    },
    {
     "name": "stdout",
     "output_type": "stream",
     "text": [
      "index_parallel='0054'\n"
     ]
    },
    {
     "name": "stderr",
     "output_type": "stream",
     "text": [
      "\u001b[32m[I 2022-08-16 00:58:31,249]\u001b[0m Trial 54 finished with value: 5506.383838383838 and parameters: {'kErase': 1, 'kRadius': 2, 'kAnnealingA': 3.2277152416207624, 'kAnnealingB': 2.557096379252362, 'kAnnealingStart': 8.032471268539652, 'kSkipRatio': 0.5036124740845502, 'kTargetDeterminationTrials': 5, 'kAttractionRatio': 0.3059155136603752, 'kMaxAttractionDistance': 5, 'kStartAttraction': 0.11568984756393451}. Best is trial 52 with value: 5640.267676767677.\u001b[0m\n"
     ]
    },
    {
     "name": "stdout",
     "output_type": "stream",
     "text": [
      "index_parallel='0055'\n"
     ]
    },
    {
     "name": "stderr",
     "output_type": "stream",
     "text": [
      "\u001b[32m[I 2022-08-16 01:02:17,954]\u001b[0m Trial 55 finished with value: 5466.414141414141 and parameters: {'kErase': 1, 'kRadius': 2, 'kAnnealingA': 0.4832026904387745, 'kAnnealingB': 2.983911219864204, 'kAnnealingStart': 2.6942285115565374, 'kSkipRatio': 0.5434497604686498, 'kTargetDeterminationTrials': 10, 'kAttractionRatio': 0.1949692406290082, 'kMaxAttractionDistance': 11, 'kStartAttraction': 0.2903343717950493}. Best is trial 52 with value: 5640.267676767677.\u001b[0m\n"
     ]
    },
    {
     "name": "stdout",
     "output_type": "stream",
     "text": [
      "index_parallel='0056'\n"
     ]
    },
    {
     "name": "stderr",
     "output_type": "stream",
     "text": [
      "\u001b[32m[I 2022-08-16 01:06:05,157]\u001b[0m Trial 56 finished with value: 4509.626262626262 and parameters: {'kErase': 4, 'kRadius': 3, 'kAnnealingA': -4.248347093399797, 'kAnnealingB': 2.77236033530014, 'kAnnealingStart': 13.200955619879423, 'kSkipRatio': 0.3736525935585395, 'kTargetDeterminationTrials': 9, 'kAttractionRatio': 0.45618178415484995, 'kMaxAttractionDistance': 7, 'kStartAttraction': 0.048093526013176124}. Best is trial 52 with value: 5640.267676767677.\u001b[0m\n"
     ]
    },
    {
     "name": "stdout",
     "output_type": "stream",
     "text": [
      "index_parallel='0057'\n"
     ]
    },
    {
     "name": "stderr",
     "output_type": "stream",
     "text": [
      "\u001b[32m[I 2022-08-16 01:09:51,867]\u001b[0m Trial 57 finished with value: 3842.6767676767677 and parameters: {'kErase': 1, 'kRadius': 2, 'kAnnealingA': 2.6208110755713188, 'kAnnealingB': 1.9722799195559366, 'kAnnealingStart': 92.8702325288299, 'kSkipRatio': 0.5846063435568367, 'kTargetDeterminationTrials': 7, 'kAttractionRatio': 0.1759782857375573, 'kMaxAttractionDistance': 8, 'kStartAttraction': 0.18121265959202978}. Best is trial 52 with value: 5640.267676767677.\u001b[0m\n"
     ]
    },
    {
     "name": "stdout",
     "output_type": "stream",
     "text": [
      "index_parallel='0058'\n"
     ]
    },
    {
     "name": "stderr",
     "output_type": "stream",
     "text": [
      "\u001b[32m[I 2022-08-16 01:13:38,686]\u001b[0m Trial 58 finished with value: 5435.580808080808 and parameters: {'kErase': 2, 'kRadius': 2, 'kAnnealingA': 4.930364656712289, 'kAnnealingB': 2.3674473704665906, 'kAnnealingStart': 5.72702144918918, 'kSkipRatio': 0.5590058249320704, 'kTargetDeterminationTrials': 6, 'kAttractionRatio': 0.23649763078615021, 'kMaxAttractionDistance': 11, 'kStartAttraction': 0.09374172686715511}. Best is trial 52 with value: 5640.267676767677.\u001b[0m\n"
     ]
    },
    {
     "name": "stdout",
     "output_type": "stream",
     "text": [
      "index_parallel='0059'\n"
     ]
    },
    {
     "name": "stderr",
     "output_type": "stream",
     "text": [
      "\u001b[32m[I 2022-08-16 01:17:25,750]\u001b[0m Trial 59 finished with value: 5280.075757575758 and parameters: {'kErase': 1, 'kRadius': 3, 'kAnnealingA': 7.100247613807708, 'kAnnealingB': 2.612660558774412, 'kAnnealingStart': 4.02094091252848, 'kSkipRatio': 0.4738529033687616, 'kTargetDeterminationTrials': 12, 'kAttractionRatio': 0.01958267273576195, 'kMaxAttractionDistance': 6, 'kStartAttraction': 0.05977293437189436}. Best is trial 52 with value: 5640.267676767677.\u001b[0m\n"
     ]
    },
    {
     "name": "stdout",
     "output_type": "stream",
     "text": [
      "index_parallel='0060'\n"
     ]
    },
    {
     "name": "stderr",
     "output_type": "stream",
     "text": [
      "\u001b[32m[I 2022-08-16 01:21:12,126]\u001b[0m Trial 60 finished with value: 5575.939393939394 and parameters: {'kErase': 1, 'kRadius': 2, 'kAnnealingA': 1.239256148160657, 'kAnnealingB': 2.4984914625237518, 'kAnnealingStart': 7.543097982205656, 'kSkipRatio': 0.5113741976024525, 'kTargetDeterminationTrials': 5, 'kAttractionRatio': 0.15690430771179306, 'kMaxAttractionDistance': 89, 'kStartAttraction': 0.5234374644791547}. Best is trial 52 with value: 5640.267676767677.\u001b[0m\n"
     ]
    },
    {
     "name": "stdout",
     "output_type": "stream",
     "text": [
      "index_parallel='0061'\n"
     ]
    },
    {
     "name": "stderr",
     "output_type": "stream",
     "text": [
      "\u001b[32m[I 2022-08-16 01:24:58,445]\u001b[0m Trial 61 finished with value: 5510.116161616162 and parameters: {'kErase': 1, 'kRadius': 2, 'kAnnealingA': -2.7469031758083062, 'kAnnealingB': 2.487732742289968, 'kAnnealingStart': 6.834850646200601, 'kSkipRatio': 0.5091845961944816, 'kTargetDeterminationTrials': 5, 'kAttractionRatio': 0.15806982485528884, 'kMaxAttractionDistance': 97, 'kStartAttraction': 0.3520990163084544}. Best is trial 52 with value: 5640.267676767677.\u001b[0m\n"
     ]
    },
    {
     "name": "stdout",
     "output_type": "stream",
     "text": [
      "index_parallel='0062'\n"
     ]
    },
    {
     "name": "stderr",
     "output_type": "stream",
     "text": [
      "\u001b[32m[I 2022-08-16 01:28:44,800]\u001b[0m Trial 62 finished with value: 5633.075757575758 and parameters: {'kErase': 1, 'kRadius': 2, 'kAnnealingA': 1.2346702427815923, 'kAnnealingB': 2.718211365570034, 'kAnnealingStart': 9.061580773732707, 'kSkipRatio': 0.4539445069754092, 'kTargetDeterminationTrials': 7, 'kAttractionRatio': 0.20294259018530506, 'kMaxAttractionDistance': 69, 'kStartAttraction': 0.5461960647097952}. Best is trial 52 with value: 5640.267676767677.\u001b[0m\n"
     ]
    },
    {
     "name": "stdout",
     "output_type": "stream",
     "text": [
      "index_parallel='0063'\n"
     ]
    },
    {
     "name": "stderr",
     "output_type": "stream",
     "text": [
      "\u001b[32m[I 2022-08-16 01:32:31,248]\u001b[0m Trial 63 finished with value: 5487.19696969697 and parameters: {'kErase': 1, 'kRadius': 2, 'kAnnealingA': 1.4091081194361839, 'kAnnealingB': 2.8699457299152757, 'kAnnealingStart': 8.9378372160536, 'kSkipRatio': 0.41039880035057796, 'kTargetDeterminationTrials': 9, 'kAttractionRatio': 0.10350667080375861, 'kMaxAttractionDistance': 76, 'kStartAttraction': 0.6206765185312729}. Best is trial 52 with value: 5640.267676767677.\u001b[0m\n"
     ]
    },
    {
     "name": "stdout",
     "output_type": "stream",
     "text": [
      "index_parallel='0064'\n"
     ]
    },
    {
     "name": "stderr",
     "output_type": "stream",
     "text": [
      "\u001b[32m[I 2022-08-16 01:36:17,934]\u001b[0m Trial 64 finished with value: 5472.257575757576 and parameters: {'kErase': 1, 'kRadius': 2, 'kAnnealingA': 3.567972725408878, 'kAnnealingB': 2.7424085941476855, 'kAnnealingStart': 4.874328677800243, 'kSkipRatio': 0.3095158786590154, 'kTargetDeterminationTrials': 5, 'kAttractionRatio': 0.197492000243819, 'kMaxAttractionDistance': 80, 'kStartAttraction': 0.584415622317227}. Best is trial 52 with value: 5640.267676767677.\u001b[0m\n"
     ]
    },
    {
     "name": "stdout",
     "output_type": "stream",
     "text": [
      "index_parallel='0065'\n"
     ]
    },
    {
     "name": "stderr",
     "output_type": "stream",
     "text": [
      "\u001b[32m[I 2022-08-16 01:40:04,253]\u001b[0m Trial 65 finished with value: 5354.484848484848 and parameters: {'kErase': 1, 'kRadius': 2, 'kAnnealingA': -1.5591892184850775, 'kAnnealingB': 2.5125821976163283, 'kAnnealingStart': 11.40770864151562, 'kSkipRatio': 0.49161136167349195, 'kTargetDeterminationTrials': 8, 'kAttractionRatio': 0.13200647682177988, 'kMaxAttractionDistance': 49, 'kStartAttraction': 0.8662000294873295}. Best is trial 52 with value: 5640.267676767677.\u001b[0m\n"
     ]
    },
    {
     "name": "stdout",
     "output_type": "stream",
     "text": [
      "index_parallel='0066'\n"
     ]
    },
    {
     "name": "stderr",
     "output_type": "stream",
     "text": [
      "\u001b[32m[I 2022-08-16 01:43:50,884]\u001b[0m Trial 66 finished with value: 5311.065656565656 and parameters: {'kErase': 1, 'kRadius': 2, 'kAnnealingA': -8.868443118008255, 'kAnnealingB': 2.221032134885551, 'kAnnealingStart': 14.9971984272107, 'kSkipRatio': 0.4489671728956042, 'kTargetDeterminationTrials': 6, 'kAttractionRatio': 0.2980182189169964, 'kMaxAttractionDistance': 94, 'kStartAttraction': 0.4433151536237813}. Best is trial 52 with value: 5640.267676767677.\u001b[0m\n"
     ]
    },
    {
     "name": "stdout",
     "output_type": "stream",
     "text": [
      "index_parallel='0067'\n"
     ]
    },
    {
     "name": "stderr",
     "output_type": "stream",
     "text": [
      "\u001b[32m[I 2022-08-16 01:47:37,999]\u001b[0m Trial 67 finished with value: 4905.904040404041 and parameters: {'kErase': 3, 'kRadius': 3, 'kAnnealingA': -0.204531330452717, 'kAnnealingB': 2.687751083658056, 'kAnnealingStart': 6.517388904790209, 'kSkipRatio': 0.4641348632368629, 'kTargetDeterminationTrials': 9, 'kAttractionRatio': 0.15807977362502898, 'kMaxAttractionDistance': 62, 'kStartAttraction': 0.47370642727926976}. Best is trial 52 with value: 5640.267676767677.\u001b[0m\n"
     ]
    },
    {
     "name": "stdout",
     "output_type": "stream",
     "text": [
      "index_parallel='0068'\n"
     ]
    },
    {
     "name": "stderr",
     "output_type": "stream",
     "text": [
      "\u001b[32m[I 2022-08-16 01:51:24,667]\u001b[0m Trial 68 finished with value: 5269.904040404041 and parameters: {'kErase': 2, 'kRadius': 2, 'kAnnealingA': 1.1197402882051062, 'kAnnealingB': 2.9046281528559685, 'kAnnealingStart': 21.513510971150623, 'kSkipRatio': 0.5213303877488237, 'kTargetDeterminationTrials': 6, 'kAttractionRatio': 0.40141609122772137, 'kMaxAttractionDistance': 68, 'kStartAttraction': 0.2302239326055365}. Best is trial 52 with value: 5640.267676767677.\u001b[0m\n"
     ]
    },
    {
     "name": "stdout",
     "output_type": "stream",
     "text": [
      "index_parallel='0069'\n"
     ]
    },
    {
     "name": "stderr",
     "output_type": "stream",
     "text": [
      "\u001b[32m[I 2022-08-16 01:55:11,243]\u001b[0m Trial 69 finished with value: 5335.338383838384 and parameters: {'kErase': 1, 'kRadius': 3, 'kAnnealingA': 4.187800640888523, 'kAnnealingB': 0.954040160915845, 'kAnnealingStart': 9.842885515756574, 'kSkipRatio': 0.6030349006841299, 'kTargetDeterminationTrials': 7, 'kAttractionRatio': 0.08667156683106024, 'kMaxAttractionDistance': 86, 'kStartAttraction': 0.8051274291361454}. Best is trial 52 with value: 5640.267676767677.\u001b[0m\n"
     ]
    },
    {
     "name": "stdout",
     "output_type": "stream",
     "text": [
      "index_parallel='0070'\n"
     ]
    },
    {
     "name": "stderr",
     "output_type": "stream",
     "text": [
      "\u001b[32m[I 2022-08-16 01:58:58,173]\u001b[0m Trial 70 finished with value: 5157.747474747474 and parameters: {'kErase': 1, 'kRadius': 2, 'kAnnealingA': -14.436331174953375, 'kAnnealingB': 2.335210542514864, 'kAnnealingStart': 7.553912994737485, 'kSkipRatio': 0.6260607877439902, 'kTargetDeterminationTrials': 12, 'kAttractionRatio': 0.12358818852342147, 'kMaxAttractionDistance': 32, 'kStartAttraction': 0.24814363703565395}. Best is trial 52 with value: 5640.267676767677.\u001b[0m\n"
     ]
    },
    {
     "name": "stdout",
     "output_type": "stream",
     "text": [
      "index_parallel='0071'\n"
     ]
    },
    {
     "name": "stderr",
     "output_type": "stream",
     "text": [
      "\u001b[32m[I 2022-08-16 02:02:45,007]\u001b[0m Trial 71 finished with value: 5660.944444444444 and parameters: {'kErase': 1, 'kRadius': 2, 'kAnnealingA': 1.7399839813267215, 'kAnnealingB': 2.611421200909979, 'kAnnealingStart': 8.77255037968626, 'kSkipRatio': 0.5524711378149804, 'kTargetDeterminationTrials': 7, 'kAttractionRatio': 0.21023068618966576, 'kMaxAttractionDistance': 70, 'kStartAttraction': 0.07654241305434173}. Best is trial 71 with value: 5660.944444444444.\u001b[0m\n"
     ]
    },
    {
     "name": "stdout",
     "output_type": "stream",
     "text": [
      "Updated! 5660.944444444444\n",
      "index_parallel='0072'\n"
     ]
    },
    {
     "name": "stderr",
     "output_type": "stream",
     "text": [
      "\u001b[32m[I 2022-08-16 02:06:31,675]\u001b[0m Trial 72 finished with value: 5613.29797979798 and parameters: {'kErase': 1, 'kRadius': 2, 'kAnnealingA': -0.7984802440725303, 'kAnnealingB': 2.7876159326165504, 'kAnnealingStart': 8.987207834815644, 'kSkipRatio': 0.5557110354754337, 'kTargetDeterminationTrials': 5, 'kAttractionRatio': 0.20884830205894592, 'kMaxAttractionDistance': 57, 'kStartAttraction': 0.07328216662339383}. Best is trial 71 with value: 5660.944444444444.\u001b[0m\n"
     ]
    },
    {
     "name": "stdout",
     "output_type": "stream",
     "text": [
      "index_parallel='0073'\n"
     ]
    },
    {
     "name": "stderr",
     "output_type": "stream",
     "text": [
      "\u001b[32m[I 2022-08-16 02:10:18,256]\u001b[0m Trial 73 finished with value: 5511.358585858586 and parameters: {'kErase': 1, 'kRadius': 2, 'kAnnealingA': -3.4600025591492445, 'kAnnealingB': 2.804215109307723, 'kAnnealingStart': 8.91257388353243, 'kSkipRatio': 0.5488583170342858, 'kTargetDeterminationTrials': 8, 'kAttractionRatio': 0.3080182773884679, 'kMaxAttractionDistance': 44, 'kStartAttraction': 0.07591249997674189}. Best is trial 71 with value: 5660.944444444444.\u001b[0m\n"
     ]
    },
    {
     "name": "stdout",
     "output_type": "stream",
     "text": [
      "index_parallel='0074'\n"
     ]
    },
    {
     "name": "stderr",
     "output_type": "stream",
     "text": [
      "\u001b[32m[I 2022-08-16 02:14:04,723]\u001b[0m Trial 74 finished with value: 5603.393939393939 and parameters: {'kErase': 1, 'kRadius': 2, 'kAnnealingA': -1.0379880216649693, 'kAnnealingB': 2.931542723504268, 'kAnnealingStart': 10.415332034818908, 'kSkipRatio': 0.5849157685163762, 'kTargetDeterminationTrials': 10, 'kAttractionRatio': 0.21157915488739631, 'kMaxAttractionDistance': 54, 'kStartAttraction': 0.046188024531057956}. Best is trial 71 with value: 5660.944444444444.\u001b[0m\n"
     ]
    },
    {
     "name": "stdout",
     "output_type": "stream",
     "text": [
      "index_parallel='0075'\n"
     ]
    },
    {
     "name": "stderr",
     "output_type": "stream",
     "text": [
      "\u001b[32m[I 2022-08-16 02:17:51,353]\u001b[0m Trial 75 finished with value: 5618.777777777777 and parameters: {'kErase': 1, 'kRadius': 2, 'kAnnealingA': 0.066315145948185, 'kAnnealingB': 2.9375654988715914, 'kAnnealingStart': 12.180573352080948, 'kSkipRatio': 0.5933387522006226, 'kTargetDeterminationTrials': 16, 'kAttractionRatio': 0.3490727651396863, 'kMaxAttractionDistance': 56, 'kStartAttraction': 0.025672869222971583}. Best is trial 71 with value: 5660.944444444444.\u001b[0m\n"
     ]
    },
    {
     "name": "stdout",
     "output_type": "stream",
     "text": [
      "index_parallel='0076'\n"
     ]
    },
    {
     "name": "stderr",
     "output_type": "stream",
     "text": [
      "\u001b[32m[I 2022-08-16 02:21:37,908]\u001b[0m Trial 76 finished with value: 5466.207070707071 and parameters: {'kErase': 1, 'kRadius': 2, 'kAnnealingA': -4.992676965935872, 'kAnnealingB': 2.972939276275484, 'kAnnealingStart': 17.94841795027093, 'kSkipRatio': 0.5914087466950081, 'kTargetDeterminationTrials': 17, 'kAttractionRatio': 0.3390049501228777, 'kMaxAttractionDistance': 52, 'kStartAttraction': 0.02665454628317872}. Best is trial 71 with value: 5660.944444444444.\u001b[0m\n"
     ]
    },
    {
     "name": "stdout",
     "output_type": "stream",
     "text": [
      "index_parallel='0077'\n"
     ]
    },
    {
     "name": "stderr",
     "output_type": "stream",
     "text": [
      "\u001b[32m[I 2022-08-16 02:25:25,420]\u001b[0m Trial 77 finished with value: 4417.383838383838 and parameters: {'kErase': 5, 'kRadius': 2, 'kAnnealingA': -0.33847378901886715, 'kAnnealingB': 2.9411597332230515, 'kAnnealingStart': 12.879547222309538, 'kSkipRatio': 0.627432336756901, 'kTargetDeterminationTrials': 19, 'kAttractionRatio': 0.19923884022252306, 'kMaxAttractionDistance': 68, 'kStartAttraction': 0.020241311621590433}. Best is trial 71 with value: 5660.944444444444.\u001b[0m\n"
     ]
    },
    {
     "name": "stdout",
     "output_type": "stream",
     "text": [
      "index_parallel='0078'\n"
     ]
    },
    {
     "name": "stderr",
     "output_type": "stream",
     "text": [
      "\u001b[32m[I 2022-08-16 02:29:11,872]\u001b[0m Trial 78 finished with value: 5614.343434343435 and parameters: {'kErase': 1, 'kRadius': 2, 'kAnnealingA': -2.438975450442045, 'kAnnealingB': 2.7194274859719414, 'kAnnealingStart': 11.07317958010161, 'kSkipRatio': 0.6772689815019012, 'kTargetDeterminationTrials': 10, 'kAttractionRatio': 0.2693752829157136, 'kMaxAttractionDistance': 59, 'kStartAttraction': 0.04330590617442148}. Best is trial 71 with value: 5660.944444444444.\u001b[0m\n"
     ]
    },
    {
     "name": "stdout",
     "output_type": "stream",
     "text": [
      "index_parallel='0079'\n"
     ]
    },
    {
     "name": "stderr",
     "output_type": "stream",
     "text": [
      "\u001b[32m[I 2022-08-16 02:32:58,386]\u001b[0m Trial 79 finished with value: 5505.19696969697 and parameters: {'kErase': 1, 'kRadius': 2, 'kAnnealingA': -2.10581918274998, 'kAnnealingB': 2.8617706546211665, 'kAnnealingStart': 13.90832317192084, 'kSkipRatio': 0.5343653065808237, 'kTargetDeterminationTrials': 14, 'kAttractionRatio': 0.277593360819825, 'kMaxAttractionDistance': 58, 'kStartAttraction': 0.04614968243276316}. Best is trial 71 with value: 5660.944444444444.\u001b[0m\n"
     ]
    },
    {
     "name": "stdout",
     "output_type": "stream",
     "text": [
      "index_parallel='0080'\n"
     ]
    }
   ],
   "source": [
    "study.optimize(\n",
    "    partial(objective, in_dir=in_dir, work_dir=work_dir),\n",
    "    n_trials=3000,\n",
    "    timeout=86400,\n",
    "    callbacks=[callback]\n",
    ")"
   ]
  },
  {
   "cell_type": "code",
   "execution_count": null,
   "id": "700269d2",
   "metadata": {},
   "outputs": [],
   "source": []
  }
 ],
 "metadata": {
  "kernelspec": {
   "display_name": "Python 3 (ipykernel)",
   "language": "python",
   "name": "python3"
  },
  "language_info": {
   "codemirror_mode": {
    "name": "ipython",
    "version": 3
   },
   "file_extension": ".py",
   "mimetype": "text/x-python",
   "name": "python",
   "nbconvert_exporter": "python",
   "pygments_lexer": "ipython3",
   "version": "3.9.12"
  }
 },
 "nbformat": 4,
 "nbformat_minor": 5
}
