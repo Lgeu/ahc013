{
 "cells": [
  {
   "cell_type": "code",
   "execution_count": 1,
   "id": "25a1dac8",
   "metadata": {},
   "outputs": [],
   "source": [
    "import re\n",
    "import sys\n",
    "from uuid import uuid1\n",
    "from time import sleep\n",
    "from pprint import pprint\n",
    "from pathlib import Path\n",
    "from tempfile import gettempdir\n",
    "from threading import Thread\n",
    "from functools import partial\n",
    "from subprocess import Popen, PIPE\n",
    "\n",
    "from tqdm.notebook import tqdm\n",
    "import numpy as np\n",
    "import optuna\n",
    "import pandas as pd\n",
    "import matplotlib.pyplot as plt\n",
    "\n",
    "FILENAME = \"main.cpp\""
   ]
  },
  {
   "cell_type": "code",
   "execution_count": 2,
   "id": "3dd4d02e",
   "metadata": {},
   "outputs": [
    {
     "name": "stdout",
     "output_type": "stream",
     "text": [
      "10 variables were found.\n"
     ]
    },
    {
     "data": {
      "text/html": [
       "<div>\n",
       "<style scoped>\n",
       "    .dataframe tbody tr th:only-of-type {\n",
       "        vertical-align: middle;\n",
       "    }\n",
       "\n",
       "    .dataframe tbody tr th {\n",
       "        vertical-align: top;\n",
       "    }\n",
       "\n",
       "    .dataframe thead th {\n",
       "        text-align: right;\n",
       "    }\n",
       "</style>\n",
       "<table border=\"1\" class=\"dataframe\">\n",
       "  <thead>\n",
       "    <tr style=\"text-align: right;\">\n",
       "      <th></th>\n",
       "      <th>name</th>\n",
       "      <th>method</th>\n",
       "      <th>min</th>\n",
       "      <th>max</th>\n",
       "      <th>log</th>\n",
       "      <th>left</th>\n",
       "      <th>right</th>\n",
       "    </tr>\n",
       "  </thead>\n",
       "  <tbody>\n",
       "    <tr>\n",
       "      <th>0</th>\n",
       "      <td>kErase</td>\n",
       "      <td>suggest_int</td>\n",
       "      <td>1.000</td>\n",
       "      <td>5.0</td>\n",
       "      <td>False</td>\n",
       "      <td>static constexpr auto kErase =</td>\n",
       "      <td>;             // OPTIMIZE [1, 5]</td>\n",
       "    </tr>\n",
       "    <tr>\n",
       "      <th>1</th>\n",
       "      <td>kRadius</td>\n",
       "      <td>suggest_int</td>\n",
       "      <td>2.000</td>\n",
       "      <td>6.0</td>\n",
       "      <td>False</td>\n",
       "      <td>static constexpr auto kRadius =</td>\n",
       "      <td>;            // OPTIMIZE [2, 6]</td>\n",
       "    </tr>\n",
       "    <tr>\n",
       "      <th>2</th>\n",
       "      <td>kAnnealingA</td>\n",
       "      <td>suggest_float</td>\n",
       "      <td>-15.000</td>\n",
       "      <td>15.0</td>\n",
       "      <td>False</td>\n",
       "      <td>static constexpr auto kAnnealingA =</td>\n",
       "      <td>;      // OPTIMIZE [-15.0, 15.0]</td>\n",
       "    </tr>\n",
       "    <tr>\n",
       "      <th>3</th>\n",
       "      <td>kAnnealingB</td>\n",
       "      <td>suggest_float</td>\n",
       "      <td>0.000</td>\n",
       "      <td>3.0</td>\n",
       "      <td>False</td>\n",
       "      <td>static constexpr auto kAnnealingB =</td>\n",
       "      <td>;      // OPTIMIZE [0.0, 3.0]</td>\n",
       "    </tr>\n",
       "    <tr>\n",
       "      <th>4</th>\n",
       "      <td>kAnnealingStart</td>\n",
       "      <td>suggest_float</td>\n",
       "      <td>1.000</td>\n",
       "      <td>100.0</td>\n",
       "      <td>True</td>\n",
       "      <td>static constexpr auto kAnnealingStart =</td>\n",
       "      <td>; // OPTIMIZE LOG [1.0, 100.0]</td>\n",
       "    </tr>\n",
       "    <tr>\n",
       "      <th>5</th>\n",
       "      <td>kSkipRatio</td>\n",
       "      <td>suggest_float</td>\n",
       "      <td>0.200</td>\n",
       "      <td>0.8</td>\n",
       "      <td>False</td>\n",
       "      <td>static constexpr auto kSkipRatio =</td>\n",
       "      <td>;       // OPTIMIZE [0.2, 0.8]</td>\n",
       "    </tr>\n",
       "    <tr>\n",
       "      <th>6</th>\n",
       "      <td>kTargetDeterminationTrials</td>\n",
       "      <td>suggest_int</td>\n",
       "      <td>1.000</td>\n",
       "      <td>20.0</td>\n",
       "      <td>True</td>\n",
       "      <td>static constexpr auto kTargetDeterminationTria...</td>\n",
       "      <td>; // OPTIMIZE LOG [1, 20]</td>\n",
       "    </tr>\n",
       "    <tr>\n",
       "      <th>7</th>\n",
       "      <td>kAttractionRatio</td>\n",
       "      <td>suggest_float</td>\n",
       "      <td>0.010</td>\n",
       "      <td>0.9</td>\n",
       "      <td>True</td>\n",
       "      <td>static constexpr auto kAttractionRatio =</td>\n",
       "      <td>;      // OPTIMIZE LOG [0.01, 0.9]</td>\n",
       "    </tr>\n",
       "    <tr>\n",
       "      <th>8</th>\n",
       "      <td>kMaxAttractionDistance</td>\n",
       "      <td>suggest_int</td>\n",
       "      <td>4.000</td>\n",
       "      <td>99.0</td>\n",
       "      <td>True</td>\n",
       "      <td>static constexpr auto kMaxAttractionDistance =</td>\n",
       "      <td>; // OPTIMIZE LOG [4, 99]</td>\n",
       "    </tr>\n",
       "    <tr>\n",
       "      <th>9</th>\n",
       "      <td>kStartAttraction</td>\n",
       "      <td>suggest_float</td>\n",
       "      <td>0.001</td>\n",
       "      <td>0.9</td>\n",
       "      <td>True</td>\n",
       "      <td>static constexpr auto kStartAttraction =</td>\n",
       "      <td>;     // OPTIMIZE LOG [0.001, 0.9]</td>\n",
       "    </tr>\n",
       "  </tbody>\n",
       "</table>\n",
       "</div>"
      ],
      "text/plain": [
       "                         name         method     min    max    log  \\\n",
       "0                      kErase    suggest_int   1.000    5.0  False   \n",
       "1                     kRadius    suggest_int   2.000    6.0  False   \n",
       "2                 kAnnealingA  suggest_float -15.000   15.0  False   \n",
       "3                 kAnnealingB  suggest_float   0.000    3.0  False   \n",
       "4             kAnnealingStart  suggest_float   1.000  100.0   True   \n",
       "5                  kSkipRatio  suggest_float   0.200    0.8  False   \n",
       "6  kTargetDeterminationTrials    suggest_int   1.000   20.0   True   \n",
       "7            kAttractionRatio  suggest_float   0.010    0.9   True   \n",
       "8      kMaxAttractionDistance    suggest_int   4.000   99.0   True   \n",
       "9            kStartAttraction  suggest_float   0.001    0.9   True   \n",
       "\n",
       "                                                left  \\\n",
       "0                    static constexpr auto kErase =    \n",
       "1                   static constexpr auto kRadius =    \n",
       "2               static constexpr auto kAnnealingA =    \n",
       "3               static constexpr auto kAnnealingB =    \n",
       "4           static constexpr auto kAnnealingStart =    \n",
       "5                static constexpr auto kSkipRatio =    \n",
       "6  static constexpr auto kTargetDeterminationTria...   \n",
       "7          static constexpr auto kAttractionRatio =    \n",
       "8    static constexpr auto kMaxAttractionDistance =    \n",
       "9          static constexpr auto kStartAttraction =    \n",
       "\n",
       "                                right  \n",
       "0    ;             // OPTIMIZE [1, 5]  \n",
       "1     ;            // OPTIMIZE [2, 6]  \n",
       "2    ;      // OPTIMIZE [-15.0, 15.0]  \n",
       "3       ;      // OPTIMIZE [0.0, 3.0]  \n",
       "4      ; // OPTIMIZE LOG [1.0, 100.0]  \n",
       "5      ;       // OPTIMIZE [0.2, 0.8]  \n",
       "6           ; // OPTIMIZE LOG [1, 20]  \n",
       "7  ;      // OPTIMIZE LOG [0.01, 0.9]  \n",
       "8           ; // OPTIMIZE LOG [4, 99]  \n",
       "9  ;     // OPTIMIZE LOG [0.001, 0.9]  "
      ]
     },
     "metadata": {},
     "output_type": "display_data"
    }
   ],
   "source": [
    "# ここでエラー出力は何かおかしいかもしれない\n",
    "\n",
    "\n",
    "# パラメータ抽出\n",
    "with open(FILENAME) as f:\n",
    "    answer = f.read()\n",
    "\n",
    "\n",
    "variables_optimize = []\n",
    "\n",
    "for left, value, right, options in re.findall(r\"^([^/\\n]*=\\s*)(.+?)(\\s*;\\s*//(?:.*\\W)?OPTIMIZE(\\W.*))$\", answer, re.MULTILINE):\n",
    "    name = left.replace(\"=\", \"\").strip().split()[-1]\n",
    "    \n",
    "    searched = re.search(r\".*\\[(?P<min>.*),(?P<max>.*)\\].*\", options)\n",
    "    if searched:\n",
    "        min_value = max_value = None\n",
    "        try:\n",
    "            min_value = eval(searched.group(\"min\"))\n",
    "            max_value = eval(searched.group(\"max\"))\n",
    "            assert min_value <= max_value\n",
    "        except Exception as e:\n",
    "            print(f\"searched={searched}\", file=sys.stderr)\n",
    "            print(e, file=sys.stderr)\n",
    "            continue\n",
    "        log = \"LOG\" in options  # 雑、直したほうが良い\n",
    "        if type(min_value) != type(max_value):\n",
    "            print(f\"searched={searched}\", file=sys.stderr)\n",
    "            print(\"types not matched\", file=sys.stderr)\n",
    "            continue\n",
    "        if isinstance(min_value, int):\n",
    "            method = \"suggest_int\"\n",
    "        elif isinstance(min_value, float):\n",
    "            method = \"suggest_float\"\n",
    "        else:\n",
    "            print(f\"searched={searched}\", file=sys.stderr)\n",
    "            print(f\"unknown type ({type(min_value)})\", file=sys.stderr)\n",
    "            continue\n",
    "        variables_optimize.append({\n",
    "            \"name\": name,\n",
    "            \"method\": method,\n",
    "            \"min\": min_value,\n",
    "            \"max\": max_value,\n",
    "            \"log\": log,\n",
    "            \"left\": left,\n",
    "            \"right\": right,\n",
    "        })\n",
    "    elif searched := re.search(r\".*\\{(?P<choices>.*?)\\}.*\", options):\n",
    "        choices = list(map(lambda x: x.strip(), searched.group(\"choices\").split(\",\")))\n",
    "        variables_optimize.append({\n",
    "            \"name\": name,\n",
    "            \"method\": \"suggest_categorical\",\n",
    "            \"choices\": choices,\n",
    "            \"left\": left,\n",
    "            \"right\": right,\n",
    "        })\n",
    "    else:\n",
    "        print(f\"searched={searched}\", file=sys.stderr)\n",
    "        print(f\"pattern was matched but options are incorrect.\", file=sys.stderr)\n",
    "\n",
    "print(len(variables_optimize), \"variables were found.\")\n",
    "if globals().get(\"pd\"):\n",
    "    display(pd.DataFrame(variables_optimize))\n",
    "else:\n",
    "    pprint(variables_optimize)"
   ]
  },
  {
   "cell_type": "code",
   "execution_count": 3,
   "id": "001042b9",
   "metadata": {},
   "outputs": [],
   "source": [
    "def escape(string):  # 正規表現の中でそのまま使いたい文字列をエスケープ\n",
    "    res = !echo '{string}' | sed -e 's/[]\\/$*.^[]/\\\\&/g'\n",
    "    return res[0]\n",
    "\n",
    "def escape_sed(string):  # sed の置換後の文字列用のエスケープ\n",
    "    res = !echo '{string}' | sed -e 's/[\\/&]/\\\\&/g'\n",
    "    return res[0]\n",
    "\n",
    "def read_stream(name, in_file, out_file):\n",
    "    for line in in_file:\n",
    "        print(f\"[{name}] {line.strip()}\", file=out_file)\n",
    "\n",
    "def run(cmd, name):\n",
    "    proc = Popen(cmd, stdout=PIPE, stderr=PIPE, universal_newlines=True, shell=isinstance(cmd, str))\n",
    "    stdout_thread = Thread(target=read_stream, args=(name, proc.stdout, sys.stdout))\n",
    "    stderr_thread = Thread(target=read_stream, args=(name, proc.stderr, sys.stderr))\n",
    "    stdout_thread.start()\n",
    "    stderr_thread.start()\n",
    "    proc.wait()\n",
    "    return proc\n",
    "\n",
    "def objective(trial, in_dir, work_dir):\n",
    "    n_internal_parallel = 3\n",
    "    \n",
    "    index_parallel = f\"{trial.number:04d}\"\n",
    "    print(f\"{index_parallel=}\")\n",
    "    \n",
    "    work_dir = Path(work_dir)\n",
    "    directory_input = Path(in_dir)  # 中のすべてのファイルに対して実行される\n",
    "    #parameters_changed_filename = Path(gettempdir()) / str(uuid1())\n",
    "    parameters_changed_filename = work_dir / f\"{index_parallel}_{FILENAME}\"\n",
    "    \n",
    "    run([\"mkdir\", f\"{work_dir / index_parallel}_out\"], \"mkdir\")\n",
    "    run([\"mkdir\", f\"{work_dir / index_parallel}_score\"], \"mkdir\")\n",
    "    \n",
    "    # ファイル作成\n",
    "    run(f\"cp {FILENAME} {parameters_changed_filename}\", \"cp\")\n",
    "    sed_options = [f\"-i {parameters_changed_filename}\"]\n",
    "    for variable in variables_optimize:\n",
    "        if variable[\"method\"] == \"suggest_categorical\":\n",
    "            val =  trial.suggest_categorical(variable[\"name\"], variable[\"choices\"])\n",
    "        else:\n",
    "            val = getattr(trial, variable[\"method\"])(variable[\"name\"], variable[\"min\"], variable[\"max\"], log=variable[\"log\"])\n",
    "        left = variable[\"left\"]\n",
    "        right = variable[\"right\"]\n",
    "        sed_options.append(f\"\"\"-e 's/^{escape(left)}.*{escape(right)}$/{escape_sed(left)}{val}{escape_sed(right)}/'\"\"\")\n",
    "    command_sed = f\"sed {' '.join(sed_options)}\"\n",
    "    #print(command_sed)\n",
    "    run(command_sed, \"sed\")\n",
    "    \n",
    "    # コンパイル\n",
    "    command_compile = f\"g++ {parameters_changed_filename} -std=gnu++17 -O2 -DONLINE_JUDGE -o {parameters_changed_filename}.out\"\n",
    "    #print(command_compile)\n",
    "    run(command_compile, \"compile\")\n",
    "    # 実行・採点コマンド (@ はファイル名)\n",
    "    command_exec = (\n",
    "        #f\"./a.out < ./tools/in/{i:04d}.txt > {out_file} && ./tools/target/release/vis ./tools/in/{i:04d}.txt {out_file}\"\n",
    "        #f\"../tools/target/release/tester $(pwd)/{parameters_changed_filename}.out < {directory_input}/@ 2>&1 | grep Score\"\n",
    "        #f\"../tools/target/release/tester $(pwd)/{parameters_changed_filename}.out < {directory_input}/@ 2>&1 | grep Score | sed -E s/[^0-9]+// > ./{index_parallel}_score/@;\"\n",
    "        #f\"cargo run --release --manifest-path ../tools/Cargo.toml --bin tester {directory_input}/@ $(pwd)/{parameters_changed_filename}.out 2>&1 | grep Score | sed -E s/[^0-9]+// > ./{index_parallel}_score/@;\"\n",
    "        f\"./{parameters_changed_filename}.out < {directory_input}/@ > {work_dir / index_parallel}_out/@;\"\n",
    "        f\"../tools/target/release/vis {directory_input}/@ {work_dir / index_parallel}_out/@ 2> /dev/null > {work_dir / index_parallel}_score/@;\"\n",
    "    )\n",
    "    # 並列実行 (sed はパスのディレクトリ部分を消してファイル名にしてる)\n",
    "    run(f\"find {directory_input}/* | sed 's!^.*/!!' | xargs -I@ -P {n_internal_parallel} sh -c '{command_exec}'\", \"exec\")\n",
    "    \n",
    "    # 集計\n",
    "    scores = []\n",
    "    for file_path in Path(f\"{work_dir / index_parallel}_score/\").iterdir():  \n",
    "        with open(file_path) as f:\n",
    "            scores.append(int(f.readline().strip().split()[-1]))\n",
    "    mean_score = sum(scores) / len(scores)\n",
    "    \n",
    "    # 後始末\n",
    "    run(f\"rm -rf {work_dir / index_parallel}_out\", \"rm\")\n",
    "    run(f\"rm -rf {work_dir / index_parallel}_score\", \"rm\")\n",
    "    #run(f\"rm {parameters_changed_filename}\", \"rm\")\n",
    "    run(f\"rm {parameters_changed_filename}.out\", \"rm\")\n",
    "    \n",
    "    return mean_score"
   ]
  },
  {
   "cell_type": "code",
   "execution_count": 4,
   "id": "2d2e133c",
   "metadata": {},
   "outputs": [
    {
     "name": "stderr",
     "output_type": "stream",
     "text": [
      "\u001b[32m[I 2022-08-15 21:30:38,871]\u001b[0m A new study created in RDB with name: study_5_0\u001b[0m\n"
     ]
    }
   ],
   "source": [
    "K = 5\n",
    "N_CLASS = 0\n",
    "\n",
    "in_dir = Path(f\"in_{K}_{N_CLASS}\")\n",
    "work_dir = Path(f\"work_{K}_{N_CLASS}\")\n",
    "\n",
    "study_name = f\"study_{K}_{N_CLASS}\"\n",
    "storage_path = work_dir / \"study.db\"\n",
    "storage = f\"sqlite:///{storage_path}\"\n",
    "study = optuna.create_study(storage=storage, load_if_exists=True, study_name=study_name, direction=\"maximize\")\n",
    "\n",
    "def callback(study, trial):\n",
    "    try:\n",
    "        index_parallel = f\"{trial.number:04d}\"\n",
    "        parameters_changed_filename = work_dir / f\"{index_parallel}_{FILENAME}\"\n",
    "        if study.best_value == trial.value:\n",
    "            print(f\"Updated! {study.best_value}\")\n",
    "            !cp {parameters_changed_filename} {work_dir / \"best_parameters.cpp\"}\n",
    "        !rm {parameters_changed_filename}\n",
    "    except:\n",
    "        print(\":(\")\n"
   ]
  },
  {
   "cell_type": "code",
   "execution_count": null,
   "id": "61c2901d",
   "metadata": {},
   "outputs": [
    {
     "name": "stdout",
     "output_type": "stream",
     "text": [
      "index_parallel='0000'\n"
     ]
    },
    {
     "name": "stderr",
     "output_type": "stream",
     "text": [
      "\u001b[32m[I 2022-08-15 21:34:25,962]\u001b[0m Trial 0 finished with value: 2701.40404040404 and parameters: {'kErase': 4, 'kRadius': 6, 'kAnnealingA': 5.891766992601539, 'kAnnealingB': 2.753768414965068, 'kAnnealingStart': 42.35951250667627, 'kSkipRatio': 0.24574088329266286, 'kTargetDeterminationTrials': 5, 'kAttractionRatio': 0.03931607447093353, 'kMaxAttractionDistance': 14, 'kStartAttraction': 0.003614053709899439}. Best is trial 0 with value: 2701.40404040404.\u001b[0m\n"
     ]
    },
    {
     "name": "stdout",
     "output_type": "stream",
     "text": [
      "Updated! 2701.40404040404\n",
      "index_parallel='0001'\n"
     ]
    },
    {
     "name": "stderr",
     "output_type": "stream",
     "text": [
      "\u001b[32m[I 2022-08-15 21:38:12,603]\u001b[0m Trial 1 finished with value: 4799.30808080808 and parameters: {'kErase': 1, 'kRadius': 6, 'kAnnealingA': -2.266801953635296, 'kAnnealingB': 2.1937847183067483, 'kAnnealingStart': 70.04380799120214, 'kSkipRatio': 0.26465024806746507, 'kTargetDeterminationTrials': 1, 'kAttractionRatio': 0.8287848132446295, 'kMaxAttractionDistance': 5, 'kStartAttraction': 0.0067608557697394775}. Best is trial 1 with value: 4799.30808080808.\u001b[0m\n"
     ]
    },
    {
     "name": "stdout",
     "output_type": "stream",
     "text": [
      "Updated! 4799.30808080808\n",
      "index_parallel='0002'\n"
     ]
    },
    {
     "name": "stderr",
     "output_type": "stream",
     "text": [
      "\u001b[32m[I 2022-08-15 21:41:59,101]\u001b[0m Trial 2 finished with value: 5355.676767676768 and parameters: {'kErase': 1, 'kRadius': 2, 'kAnnealingA': 4.504756430926967, 'kAnnealingB': 2.054951575610472, 'kAnnealingStart': 7.5640294492957185, 'kSkipRatio': 0.6842318134052084, 'kTargetDeterminationTrials': 1, 'kAttractionRatio': 0.5413572666463201, 'kMaxAttractionDistance': 4, 'kStartAttraction': 0.13877954848711052}. Best is trial 2 with value: 5355.676767676768.\u001b[0m\n"
     ]
    },
    {
     "name": "stdout",
     "output_type": "stream",
     "text": [
      "Updated! 5355.676767676768\n",
      "index_parallel='0003'\n"
     ]
    },
    {
     "name": "stderr",
     "output_type": "stream",
     "text": [
      "\u001b[32m[I 2022-08-15 21:45:46,676]\u001b[0m Trial 3 finished with value: 3711.4141414141413 and parameters: {'kErase': 5, 'kRadius': 4, 'kAnnealingA': 11.449596630997835, 'kAnnealingB': 0.6440422780664025, 'kAnnealingStart': 1.5195070949807628, 'kSkipRatio': 0.32700663489664583, 'kTargetDeterminationTrials': 18, 'kAttractionRatio': 0.0636555297032797, 'kMaxAttractionDistance': 20, 'kStartAttraction': 0.00498386580389975}. Best is trial 2 with value: 5355.676767676768.\u001b[0m\n"
     ]
    },
    {
     "name": "stdout",
     "output_type": "stream",
     "text": [
      "index_parallel='0004'\n"
     ]
    },
    {
     "name": "stderr",
     "output_type": "stream",
     "text": [
      "\u001b[32m[I 2022-08-15 21:49:33,058]\u001b[0m Trial 4 finished with value: 5218.035353535353 and parameters: {'kErase': 1, 'kRadius': 2, 'kAnnealingA': 10.658988557156952, 'kAnnealingB': 0.9572398603608911, 'kAnnealingStart': 13.82364938100136, 'kSkipRatio': 0.5485633414451743, 'kTargetDeterminationTrials': 20, 'kAttractionRatio': 0.03072253788947697, 'kMaxAttractionDistance': 7, 'kStartAttraction': 0.01792362845600126}. Best is trial 2 with value: 5355.676767676768.\u001b[0m\n"
     ]
    },
    {
     "name": "stdout",
     "output_type": "stream",
     "text": [
      "index_parallel='0005'\n"
     ]
    },
    {
     "name": "stderr",
     "output_type": "stream",
     "text": [
      "\u001b[32m[I 2022-08-15 21:53:19,964]\u001b[0m Trial 5 finished with value: 4878.055555555556 and parameters: {'kErase': 2, 'kRadius': 4, 'kAnnealingA': -11.435941115921919, 'kAnnealingB': 1.257251061029546, 'kAnnealingStart': 13.296918843064166, 'kSkipRatio': 0.3251856819620235, 'kTargetDeterminationTrials': 7, 'kAttractionRatio': 0.4034264299658077, 'kMaxAttractionDistance': 76, 'kStartAttraction': 0.07411401589930236}. Best is trial 2 with value: 5355.676767676768.\u001b[0m\n"
     ]
    },
    {
     "name": "stdout",
     "output_type": "stream",
     "text": [
      "index_parallel='0006'\n"
     ]
    },
    {
     "name": "stderr",
     "output_type": "stream",
     "text": [
      "\u001b[32m[I 2022-08-15 21:57:06,541]\u001b[0m Trial 6 finished with value: 3114.39898989899 and parameters: {'kErase': 1, 'kRadius': 3, 'kAnnealingA': 11.824874878740573, 'kAnnealingB': 0.7363134541550302, 'kAnnealingStart': 78.63481826349162, 'kSkipRatio': 0.5877204931861, 'kTargetDeterminationTrials': 2, 'kAttractionRatio': 0.42074463086703673, 'kMaxAttractionDistance': 12, 'kStartAttraction': 0.006140187129994877}. Best is trial 2 with value: 5355.676767676768.\u001b[0m\n"
     ]
    },
    {
     "name": "stdout",
     "output_type": "stream",
     "text": [
      "index_parallel='0007'\n"
     ]
    },
    {
     "name": "stderr",
     "output_type": "stream",
     "text": [
      "\u001b[32m[I 2022-08-15 22:00:54,029]\u001b[0m Trial 7 finished with value: 2519.126262626263 and parameters: {'kErase': 5, 'kRadius': 2, 'kAnnealingA': 7.1168885405665705, 'kAnnealingB': 1.7147673775601806, 'kAnnealingStart': 42.172989185717846, 'kSkipRatio': 0.687647052826893, 'kTargetDeterminationTrials': 1, 'kAttractionRatio': 0.01022772824061029, 'kMaxAttractionDistance': 8, 'kStartAttraction': 0.6222732125754582}. Best is trial 2 with value: 5355.676767676768.\u001b[0m\n"
     ]
    },
    {
     "name": "stdout",
     "output_type": "stream",
     "text": [
      "index_parallel='0008'\n"
     ]
    },
    {
     "name": "stderr",
     "output_type": "stream",
     "text": [
      "\u001b[32m[I 2022-08-15 22:04:40,320]\u001b[0m Trial 8 finished with value: 4581.035353535353 and parameters: {'kErase': 1, 'kRadius': 2, 'kAnnealingA': 3.684896255345638, 'kAnnealingB': 2.4234355530031992, 'kAnnealingStart': 25.304578931504192, 'kSkipRatio': 0.39046857510446964, 'kTargetDeterminationTrials': 1, 'kAttractionRatio': 0.012391024271775748, 'kMaxAttractionDistance': 20, 'kStartAttraction': 0.008984469766829239}. Best is trial 2 with value: 5355.676767676768.\u001b[0m\n"
     ]
    },
    {
     "name": "stdout",
     "output_type": "stream",
     "text": [
      "index_parallel='0009'\n"
     ]
    },
    {
     "name": "stderr",
     "output_type": "stream",
     "text": [
      "\u001b[32m[I 2022-08-15 22:08:27,593]\u001b[0m Trial 9 finished with value: 4951.934343434344 and parameters: {'kErase': 3, 'kRadius': 2, 'kAnnealingA': -12.621347236919224, 'kAnnealingB': 0.06351373687266171, 'kAnnealingStart': 6.0496103048885965, 'kSkipRatio': 0.34891035613766574, 'kTargetDeterminationTrials': 1, 'kAttractionRatio': 0.19157752803377756, 'kMaxAttractionDistance': 29, 'kStartAttraction': 0.06470059324213912}. Best is trial 2 with value: 5355.676767676768.\u001b[0m\n"
     ]
    },
    {
     "name": "stdout",
     "output_type": "stream",
     "text": [
      "index_parallel='0010'\n"
     ]
    },
    {
     "name": "stderr",
     "output_type": "stream",
     "text": [
      "\u001b[32m[I 2022-08-15 22:12:14,834]\u001b[0m Trial 10 finished with value: 4239.717171717171 and parameters: {'kErase': 3, 'kRadius': 5, 'kAnnealingA': -3.7661475839216756, 'kAnnealingB': 1.7940010515937916, 'kAnnealingStart': 3.226283329992226, 'kSkipRatio': 0.7902332400690867, 'kTargetDeterminationTrials': 2, 'kAttractionRatio': 0.149266786515202, 'kMaxAttractionDistance': 4, 'kStartAttraction': 0.5025668612602292}. Best is trial 2 with value: 5355.676767676768.\u001b[0m\n"
     ]
    },
    {
     "name": "stdout",
     "output_type": "stream",
     "text": [
      "index_parallel='0011'\n"
     ]
    },
    {
     "name": "stderr",
     "output_type": "stream",
     "text": [
      "\u001b[32m[I 2022-08-15 22:16:01,884]\u001b[0m Trial 11 finished with value: 5193.272727272727 and parameters: {'kErase': 2, 'kRadius': 3, 'kAnnealingA': 14.94245247372278, 'kAnnealingB': 1.098860124838404, 'kAnnealingStart': 9.650991789164777, 'kSkipRatio': 0.5613870055474477, 'kTargetDeterminationTrials': 14, 'kAttractionRatio': 0.029669855044073393, 'kMaxAttractionDistance': 7, 'kStartAttraction': 0.001080727669860059}. Best is trial 2 with value: 5355.676767676768.\u001b[0m\n"
     ]
    },
    {
     "name": "stdout",
     "output_type": "stream",
     "text": [
      "index_parallel='0012'\n"
     ]
    },
    {
     "name": "stderr",
     "output_type": "stream",
     "text": [
      "\u001b[32m[I 2022-08-15 22:19:48,588]\u001b[0m Trial 12 finished with value: 5039.772727272727 and parameters: {'kErase': 2, 'kRadius': 3, 'kAnnealingA': 1.5217796769531775, 'kAnnealingB': 2.050738987555606, 'kAnnealingStart': 4.390761847149357, 'kSkipRatio': 0.48437019946832865, 'kTargetDeterminationTrials': 9, 'kAttractionRatio': 0.027541001228840414, 'kMaxAttractionDistance': 4, 'kStartAttraction': 0.17759676805309965}. Best is trial 2 with value: 5355.676767676768.\u001b[0m\n"
     ]
    },
    {
     "name": "stdout",
     "output_type": "stream",
     "text": [
      "index_parallel='0013'\n"
     ]
    },
    {
     "name": "stderr",
     "output_type": "stream",
     "text": [
      "\u001b[32m[I 2022-08-15 22:23:35,411]\u001b[0m Trial 13 finished with value: 5291.378787878788 and parameters: {'kErase': 1, 'kRadius': 2, 'kAnnealingA': 7.945211861657498, 'kAnnealingB': 2.896780221470536, 'kAnnealingStart': 15.29150822190617, 'kSkipRatio': 0.6841692527842708, 'kTargetDeterminationTrials': 3, 'kAttractionRatio': 0.0856496358270356, 'kMaxAttractionDistance': 8, 'kStartAttraction': 0.02505733301198571}. Best is trial 2 with value: 5355.676767676768.\u001b[0m\n"
     ]
    },
    {
     "name": "stdout",
     "output_type": "stream",
     "text": [
      "index_parallel='0014'\n"
     ]
    },
    {
     "name": "stderr",
     "output_type": "stream",
     "text": [
      "\u001b[32m[I 2022-08-15 22:27:22,274]\u001b[0m Trial 14 finished with value: 5072.686868686868 and parameters: {'kErase': 2, 'kRadius': 3, 'kAnnealingA': -6.3787483604836295, 'kAnnealingB': 2.9946260771794, 'kAnnealingStart': 1.882249956538025, 'kSkipRatio': 0.6974885237589543, 'kTargetDeterminationTrials': 2, 'kAttractionRatio': 0.09471161773843043, 'kMaxAttractionDistance': 10, 'kStartAttraction': 0.05786180723770125}. Best is trial 2 with value: 5355.676767676768.\u001b[0m\n"
     ]
    },
    {
     "name": "stdout",
     "output_type": "stream",
     "text": [
      "index_parallel='0015'\n"
     ]
    },
    {
     "name": "stderr",
     "output_type": "stream",
     "text": [
      "\u001b[32m[I 2022-08-15 22:31:08,676]\u001b[0m Trial 15 finished with value: 5600.717171717171 and parameters: {'kErase': 1, 'kRadius': 2, 'kAnnealingA': 7.044810751006679, 'kAnnealingB': 2.574296815193042, 'kAnnealingStart': 8.06760703082723, 'kSkipRatio': 0.6763934646877573, 'kTargetDeterminationTrials': 3, 'kAttractionRatio': 0.23302025249682293, 'kMaxAttractionDistance': 38, 'kStartAttraction': 0.20168263245042387}. Best is trial 15 with value: 5600.717171717171.\u001b[0m\n"
     ]
    },
    {
     "name": "stdout",
     "output_type": "stream",
     "text": [
      "Updated! 5600.717171717171\n",
      "index_parallel='0016'\n"
     ]
    },
    {
     "name": "stderr",
     "output_type": "stream",
     "text": [
      "\u001b[32m[I 2022-08-15 22:34:55,827]\u001b[0m Trial 16 finished with value: 4088.9545454545455 and parameters: {'kErase': 4, 'kRadius': 5, 'kAnnealingA': 0.7296211509146335, 'kAnnealingB': 2.4958771979938494, 'kAnnealingStart': 6.809315722246532, 'kSkipRatio': 0.7991365283987242, 'kTargetDeterminationTrials': 3, 'kAttractionRatio': 0.3269203491595629, 'kMaxAttractionDistance': 44, 'kStartAttraction': 0.21779513600038958}. Best is trial 15 with value: 5600.717171717171.\u001b[0m\n"
     ]
    },
    {
     "name": "stdout",
     "output_type": "stream",
     "text": [
      "index_parallel='0017'\n"
     ]
    },
    {
     "name": "stderr",
     "output_type": "stream",
     "text": [
      "\u001b[32m[I 2022-08-15 22:38:42,416]\u001b[0m Trial 17 finished with value: 5286.949494949495 and parameters: {'kErase': 2, 'kRadius': 3, 'kAnnealingA': 4.531795108116901, 'kAnnealingB': 1.986884108328092, 'kAnnealingStart': 2.8754998852285327, 'kSkipRatio': 0.6166175817222596, 'kTargetDeterminationTrials': 5, 'kAttractionRatio': 0.22131100230339384, 'kMaxAttractionDistance': 99, 'kStartAttraction': 0.22127648215913806}. Best is trial 15 with value: 5600.717171717171.\u001b[0m\n"
     ]
    },
    {
     "name": "stdout",
     "output_type": "stream",
     "text": [
      "index_parallel='0018'\n"
     ]
    },
    {
     "name": "stderr",
     "output_type": "stream",
     "text": [
      "\u001b[32m[I 2022-08-15 22:42:29,925]\u001b[0m Trial 18 finished with value: 4531.287878787879 and parameters: {'kErase': 3, 'kRadius': 4, 'kAnnealingA': -7.685217485461068, 'kAnnealingB': 1.5294380754365307, 'kAnnealingStart': 1.046999442576363, 'kSkipRatio': 0.46665110794535797, 'kTargetDeterminationTrials': 2, 'kAttractionRatio': 0.86157860761686, 'kMaxAttractionDistance': 34, 'kStartAttraction': 0.1105664849803138}. Best is trial 15 with value: 5600.717171717171.\u001b[0m\n"
     ]
    },
    {
     "name": "stdout",
     "output_type": "stream",
     "text": [
      "index_parallel='0019'\n"
     ]
    },
    {
     "name": "stderr",
     "output_type": "stream",
     "text": [
      "\u001b[32m[I 2022-08-15 22:46:16,402]\u001b[0m Trial 19 finished with value: 4902.777777777777 and parameters: {'kErase': 1, 'kRadius': 2, 'kAnnealingA': 2.9188547523224395, 'kAnnealingB': 2.4919573120229255, 'kAnnealingStart': 21.162120355163317, 'kSkipRatio': 0.6413942982563114, 'kTargetDeterminationTrials': 4, 'kAttractionRatio': 0.43872396109440237, 'kMaxAttractionDistance': 54, 'kStartAttraction': 0.8845530286566394}. Best is trial 15 with value: 5600.717171717171.\u001b[0m\n"
     ]
    },
    {
     "name": "stdout",
     "output_type": "stream",
     "text": [
      "index_parallel='0020'\n"
     ]
    },
    {
     "name": "stderr",
     "output_type": "stream",
     "text": [
      "\u001b[32m[I 2022-08-15 22:50:03,540]\u001b[0m Trial 20 finished with value: 4615.575757575758 and parameters: {'kErase': 3, 'kRadius': 5, 'kAnnealingA': 8.753560374544744, 'kAnnealingB': 2.3325355569063424, 'kAnnealingStart': 6.752390068684755, 'kSkipRatio': 0.7454533804261878, 'kTargetDeterminationTrials': 10, 'kAttractionRatio': 0.5653550366909664, 'kMaxAttractionDistance': 25, 'kStartAttraction': 0.2904444620772848}. Best is trial 15 with value: 5600.717171717171.\u001b[0m\n"
     ]
    },
    {
     "name": "stdout",
     "output_type": "stream",
     "text": [
      "index_parallel='0021'\n"
     ]
    },
    {
     "name": "stderr",
     "output_type": "stream",
     "text": [
      "\u001b[32m[I 2022-08-15 22:53:50,330]\u001b[0m Trial 21 finished with value: 5495.722222222223 and parameters: {'kErase': 1, 'kRadius': 2, 'kAnnealingA': 7.963404475156063, 'kAnnealingB': 2.982145879014685, 'kAnnealingStart': 10.86127973363289, 'kSkipRatio': 0.6803411415201216, 'kTargetDeterminationTrials': 3, 'kAttractionRatio': 0.13258320297203993, 'kMaxAttractionDistance': 5, 'kStartAttraction': 0.014991525796431614}. Best is trial 15 with value: 5600.717171717171.\u001b[0m\n"
     ]
    },
    {
     "name": "stdout",
     "output_type": "stream",
     "text": [
      "index_parallel='0022'\n"
     ]
    },
    {
     "name": "stderr",
     "output_type": "stream",
     "text": [
      "\u001b[32m[I 2022-08-15 22:57:36,804]\u001b[0m Trial 22 finished with value: 5410.813131313132 and parameters: {'kErase': 1, 'kRadius': 2, 'kAnnealingA': 14.887453390151942, 'kAnnealingB': 2.6561144039274467, 'kAnnealingStart': 10.335082709064343, 'kSkipRatio': 0.7194882468871964, 'kTargetDeterminationTrials': 3, 'kAttractionRatio': 0.14672049658630648, 'kMaxAttractionDistance': 6, 'kStartAttraction': 0.015486338738296431}. Best is trial 15 with value: 5600.717171717171.\u001b[0m\n"
     ]
    },
    {
     "name": "stdout",
     "output_type": "stream",
     "text": [
      "index_parallel='0023'\n"
     ]
    },
    {
     "name": "stderr",
     "output_type": "stream",
     "text": [
      "\u001b[32m[I 2022-08-15 23:01:23,530]\u001b[0m Trial 23 finished with value: 3998.510101010101 and parameters: {'kErase': 2, 'kRadius': 3, 'kAnnealingA': 12.901580289699544, 'kAnnealingB': 2.7177130699186702, 'kAnnealingStart': 25.653388195015996, 'kSkipRatio': 0.7326957691377637, 'kTargetDeterminationTrials': 3, 'kAttractionRatio': 0.14413344479730103, 'kMaxAttractionDistance': 6, 'kStartAttraction': 0.013526624233921453}. Best is trial 15 with value: 5600.717171717171.\u001b[0m\n"
     ]
    },
    {
     "name": "stdout",
     "output_type": "stream",
     "text": [
      "index_parallel='0024'\n"
     ]
    },
    {
     "name": "stderr",
     "output_type": "stream",
     "text": [
      "\u001b[32m[I 2022-08-15 23:05:10,282]\u001b[0m Trial 24 finished with value: 5563.116161616162 and parameters: {'kErase': 1, 'kRadius': 2, 'kAnnealingA': 14.671619919131487, 'kAnnealingB': 2.697535373494971, 'kAnnealingStart': 10.56791596187797, 'kSkipRatio': 0.6378707954051867, 'kTargetDeterminationTrials': 4, 'kAttractionRatio': 0.2620137682977328, 'kMaxAttractionDistance': 13, 'kStartAttraction': 0.03591048616925518}. Best is trial 15 with value: 5600.717171717171.\u001b[0m\n"
     ]
    },
    {
     "name": "stdout",
     "output_type": "stream",
     "text": [
      "index_parallel='0025'\n"
     ]
    },
    {
     "name": "stderr",
     "output_type": "stream",
     "text": [
      "\u001b[32m[I 2022-08-15 23:08:57,155]\u001b[0m Trial 25 finished with value: 5335.99494949495 and parameters: {'kErase': 2, 'kRadius': 3, 'kAnnealingA': 8.448174121299878, 'kAnnealingB': 2.977625613721536, 'kAnnealingStart': 4.696246690701739, 'kSkipRatio': 0.6428027107435224, 'kTargetDeterminationTrials': 6, 'kAttractionRatio': 0.2622696629706506, 'kMaxAttractionDistance': 14, 'kStartAttraction': 0.031524122457025766}. Best is trial 15 with value: 5600.717171717171.\u001b[0m\n"
     ]
    },
    {
     "name": "stdout",
     "output_type": "stream",
     "text": [
      "index_parallel='0026'\n"
     ]
    },
    {
     "name": "stderr",
     "output_type": "stream",
     "text": [
      "\u001b[32m[I 2022-08-15 23:12:43,638]\u001b[0m Trial 26 finished with value: 4876.055555555556 and parameters: {'kErase': 1, 'kRadius': 2, 'kAnnealingA': 9.922373200760097, 'kAnnealingB': 2.688505533993065, 'kAnnealingStart': 18.78639170635355, 'kSkipRatio': 0.5036894191175403, 'kTargetDeterminationTrials': 4, 'kAttractionRatio': 0.05767431122506664, 'kMaxAttractionDistance': 41, 'kStartAttraction': 0.001378913499308653}. Best is trial 15 with value: 5600.717171717171.\u001b[0m\n"
     ]
    },
    {
     "name": "stdout",
     "output_type": "stream",
     "text": [
      "index_parallel='0027'\n"
     ]
    },
    {
     "name": "stderr",
     "output_type": "stream",
     "text": [
      "\u001b[32m[I 2022-08-15 23:16:30,105]\u001b[0m Trial 27 finished with value: 5494.434343434344 and parameters: {'kErase': 1, 'kRadius': 4, 'kAnnealingA': 13.10869075925596, 'kAnnealingB': 2.286322416178329, 'kAnnealingStart': 10.566333325617167, 'kSkipRatio': 0.626837431081749, 'kTargetDeterminationTrials': 4, 'kAttractionRatio': 0.1205387618462114, 'kMaxAttractionDistance': 16, 'kStartAttraction': 0.03360997440899689}. Best is trial 15 with value: 5600.717171717171.\u001b[0m\n"
     ]
    },
    {
     "name": "stdout",
     "output_type": "stream",
     "text": [
      "index_parallel='0028'\n"
     ]
    },
    {
     "name": "stderr",
     "output_type": "stream",
     "text": [
      "\u001b[32m[I 2022-08-15 23:20:17,260]\u001b[0m Trial 28 finished with value: 5281.611111111111 and parameters: {'kErase': 2, 'kRadius': 2, 'kAnnealingA': -1.6496307480935872, 'kAnnealingB': 2.572737469880262, 'kAnnealingStart': 37.73455643556411, 'kSkipRatio': 0.5440866270810945, 'kTargetDeterminationTrials': 8, 'kAttractionRatio': 0.2802685674420534, 'kMaxAttractionDistance': 60, 'kStartAttraction': 0.002185034963061967}. Best is trial 15 with value: 5600.717171717171.\u001b[0m\n"
     ]
    },
    {
     "name": "stdout",
     "output_type": "stream",
     "text": [
      "index_parallel='0029'\n"
     ]
    },
    {
     "name": "stderr",
     "output_type": "stream",
     "text": [
      "\u001b[32m[I 2022-08-15 23:24:04,315]\u001b[0m Trial 29 finished with value: 4461.762626262626 and parameters: {'kErase': 4, 'kRadius': 3, 'kAnnealingA': 6.337134159831435, 'kAnnealingB': 2.8041707847316557, 'kAnnealingStart': 4.479027893716632, 'kSkipRatio': 0.7592186507700229, 'kTargetDeterminationTrials': 5, 'kAttractionRatio': 0.20354853122218633, 'kMaxAttractionDistance': 26, 'kStartAttraction': 0.0030163648874722234}. Best is trial 15 with value: 5600.717171717171.\u001b[0m\n"
     ]
    },
    {
     "name": "stdout",
     "output_type": "stream",
     "text": [
      "index_parallel='0030'\n"
     ]
    },
    {
     "name": "stderr",
     "output_type": "stream",
     "text": [
      "\u001b[32m[I 2022-08-15 23:27:50,574]\u001b[0m Trial 30 finished with value: 4042.449494949495 and parameters: {'kErase': 1, 'kRadius': 6, 'kAnnealingA': 6.001531533469294, 'kAnnealingB': 2.772242933798557, 'kAnnealingStart': 32.862152951317746, 'kSkipRatio': 0.5930546343276314, 'kTargetDeterminationTrials': 6, 'kAttractionRatio': 0.0680175000437364, 'kMaxAttractionDistance': 10, 'kStartAttraction': 0.047976307447827}. Best is trial 15 with value: 5600.717171717171.\u001b[0m\n"
     ]
    },
    {
     "name": "stdout",
     "output_type": "stream",
     "text": [
      "index_parallel='0031'\n"
     ]
    },
    {
     "name": "stderr",
     "output_type": "stream",
     "text": [
      "\u001b[32m[I 2022-08-15 23:31:36,927]\u001b[0m Trial 31 finished with value: 5530.984848484848 and parameters: {'kErase': 1, 'kRadius': 4, 'kAnnealingA': 13.60765593826978, 'kAnnealingB': 2.3003902431048635, 'kAnnealingStart': 9.613088957463784, 'kSkipRatio': 0.6548516005510062, 'kTargetDeterminationTrials': 4, 'kAttractionRatio': 0.13804383539108528, 'kMaxAttractionDistance': 16, 'kStartAttraction': 0.03399365291012877}. Best is trial 15 with value: 5600.717171717171.\u001b[0m\n"
     ]
    },
    {
     "name": "stdout",
     "output_type": "stream",
     "text": [
      "index_parallel='0032'\n"
     ]
    },
    {
     "name": "stderr",
     "output_type": "stream",
     "text": [
      "\u001b[32m[I 2022-08-15 23:35:23,492]\u001b[0m Trial 32 finished with value: 5415.434343434344 and parameters: {'kErase': 1, 'kRadius': 2, 'kAnnealingA': 13.709936224490495, 'kAnnealingB': 2.259048101546916, 'kAnnealingStart': 8.387583090419062, 'kSkipRatio': 0.20087006359325837, 'kTargetDeterminationTrials': 4, 'kAttractionRatio': 0.11464521960281292, 'kMaxAttractionDistance': 17, 'kStartAttraction': 0.010094577607878442}. Best is trial 15 with value: 5600.717171717171.\u001b[0m\n"
     ]
    },
    {
     "name": "stdout",
     "output_type": "stream",
     "text": [
      "index_parallel='0033'\n"
     ]
    },
    {
     "name": "stderr",
     "output_type": "stream",
     "text": [
      "\u001b[32m[I 2022-08-15 23:39:09,838]\u001b[0m Trial 33 finished with value: 5351.944444444444 and parameters: {'kErase': 1, 'kRadius': 5, 'kAnnealingA': 10.192456529745535, 'kAnnealingB': 2.56390583137658, 'kAnnealingStart': 12.433613253447632, 'kSkipRatio': 0.6606340505063808, 'kTargetDeterminationTrials': 2, 'kAttractionRatio': 0.17447041078739256, 'kMaxAttractionDistance': 12, 'kStartAttraction': 0.09770942676789852}. Best is trial 15 with value: 5600.717171717171.\u001b[0m\n"
     ]
    },
    {
     "name": "stdout",
     "output_type": "stream",
     "text": [
      "index_parallel='0034'\n"
     ]
    },
    {
     "name": "stderr",
     "output_type": "stream",
     "text": [
      "\u001b[32m[I 2022-08-15 23:42:56,602]\u001b[0m Trial 34 finished with value: 4807.212121212121 and parameters: {'kErase': 1, 'kRadius': 6, 'kAnnealingA': 12.261869666948229, 'kAnnealingB': 2.158500754319926, 'kAnnealingStart': 16.89076701219253, 'kSkipRatio': 0.6658585234361045, 'kTargetDeterminationTrials': 5, 'kAttractionRatio': 0.044467324969755403, 'kMaxAttractionDistance': 23, 'kStartAttraction': 0.02134873417510527}. Best is trial 15 with value: 5600.717171717171.\u001b[0m\n"
     ]
    },
    {
     "name": "stdout",
     "output_type": "stream",
     "text": [
      "index_parallel='0035'\n"
     ]
    },
    {
     "name": "stderr",
     "output_type": "stream",
     "text": [
      "\u001b[32m[I 2022-08-15 23:46:43,404]\u001b[0m Trial 35 finished with value: 3373.9242424242425 and parameters: {'kErase': 2, 'kRadius': 3, 'kAnnealingA': 10.43388314171344, 'kAnnealingB': 2.891593106620796, 'kAnnealingStart': 53.09863980160839, 'kSkipRatio': 0.605956542882542, 'kTargetDeterminationTrials': 11, 'kAttractionRatio': 0.2746815259553206, 'kMaxAttractionDistance': 35, 'kStartAttraction': 0.0350027848381731}. Best is trial 15 with value: 5600.717171717171.\u001b[0m\n"
     ]
    },
    {
     "name": "stdout",
     "output_type": "stream",
     "text": [
      "index_parallel='0036'\n"
     ]
    },
    {
     "name": "stderr",
     "output_type": "stream",
     "text": [
      "\u001b[32m[I 2022-08-15 23:50:29,763]\u001b[0m Trial 36 finished with value: 5343.272727272727 and parameters: {'kErase': 1, 'kRadius': 4, 'kAnnealingA': 9.337114934017087, 'kAnnealingB': 1.8548360154998427, 'kAnnealingStart': 5.4185836548495026, 'kSkipRatio': 0.438839467267431, 'kTargetDeterminationTrials': 3, 'kAttractionRatio': 0.10827804741234542, 'kMaxAttractionDistance': 5, 'kStartAttraction': 0.04267695071388248}. Best is trial 15 with value: 5600.717171717171.\u001b[0m\n"
     ]
    },
    {
     "name": "stdout",
     "output_type": "stream",
     "text": [
      "index_parallel='0037'\n"
     ]
    },
    {
     "name": "stderr",
     "output_type": "stream",
     "text": [
      "\u001b[32m[I 2022-08-15 23:54:16,366]\u001b[0m Trial 37 finished with value: 5425.661616161616 and parameters: {'kErase': 1, 'kRadius': 2, 'kAnnealingA': 11.610822596608186, 'kAnnealingB': 2.411403310912091, 'kAnnealingStart': 3.3454613269051294, 'kSkipRatio': 0.7097277437595971, 'kTargetDeterminationTrials': 6, 'kAttractionRatio': 0.611784310735831, 'kMaxAttractionDistance': 11, 'kStartAttraction': 0.004675955414400206}. Best is trial 15 with value: 5600.717171717171.\u001b[0m\n"
     ]
    },
    {
     "name": "stdout",
     "output_type": "stream",
     "text": [
      "index_parallel='0038'\n"
     ]
    },
    {
     "name": "stderr",
     "output_type": "stream",
     "text": [
      "\u001b[32m[I 2022-08-15 23:58:03,162]\u001b[0m Trial 38 finished with value: 5400.959595959596 and parameters: {'kErase': 2, 'kRadius': 2, 'kAnnealingA': 5.4798686046605845, 'kAnnealingB': 1.4589002620179288, 'kAnnealingStart': 12.079220777944458, 'kSkipRatio': 0.5256610774126547, 'kTargetDeterminationTrials': 4, 'kAttractionRatio': 0.35678922114530515, 'kMaxAttractionDistance': 14, 'kStartAttraction': 0.38271600163557595}. Best is trial 15 with value: 5600.717171717171.\u001b[0m\n"
     ]
    },
    {
     "name": "stdout",
     "output_type": "stream",
     "text": [
      "index_parallel='0039'\n"
     ]
    },
    {
     "name": "stderr",
     "output_type": "stream",
     "text": [
      "\u001b[32m[I 2022-08-16 00:01:50,719]\u001b[0m Trial 39 finished with value: 4016.5757575757575 and parameters: {'kErase': 5, 'kRadius': 4, 'kAnnealingA': 13.940998109156569, 'kAnnealingB': 2.1372586064483894, 'kAnnealingStart': 9.11296704393663, 'kSkipRatio': 0.7630494173527039, 'kTargetDeterminationTrials': 2, 'kAttractionRatio': 0.08135114803502458, 'kMaxAttractionDistance': 20, 'kStartAttraction': 0.009826539986389195}. Best is trial 15 with value: 5600.717171717171.\u001b[0m\n"
     ]
    },
    {
     "name": "stdout",
     "output_type": "stream",
     "text": [
      "index_parallel='0040'\n"
     ]
    },
    {
     "name": "stderr",
     "output_type": "stream",
     "text": [
      "\u001b[32m[I 2022-08-16 00:05:37,749]\u001b[0m Trial 40 finished with value: 5626.954545454545 and parameters: {'kErase': 1, 'kRadius': 2, 'kAnnealingA': 2.7245776553322942, 'kAnnealingB': 2.8071572674826664, 'kAnnealingStart': 7.923038115970905, 'kSkipRatio': 0.578229168758642, 'kTargetDeterminationTrials': 7, 'kAttractionRatio': 0.24745082507462907, 'kMaxAttractionDistance': 9, 'kStartAttraction': 0.07697515685315295}. Best is trial 40 with value: 5626.954545454545.\u001b[0m\n"
     ]
    },
    {
     "name": "stdout",
     "output_type": "stream",
     "text": [
      "Updated! 5626.954545454545\n",
      "index_parallel='0041'\n"
     ]
    },
    {
     "name": "stderr",
     "output_type": "stream",
     "text": [
      "\u001b[32m[I 2022-08-16 00:09:24,396]\u001b[0m Trial 41 finished with value: 5588.388888888889 and parameters: {'kErase': 1, 'kRadius': 2, 'kAnnealingA': 2.1181848144100366, 'kAnnealingB': 2.780551743949239, 'kAnnealingStart': 7.996201051539675, 'kSkipRatio': 0.5735783556917826, 'kTargetDeterminationTrials': 6, 'kAttractionRatio': 0.22669444094538316, 'kMaxAttractionDistance': 8, 'kStartAttraction': 0.0757782019898576}. Best is trial 40 with value: 5626.954545454545.\u001b[0m\n"
     ]
    },
    {
     "name": "stdout",
     "output_type": "stream",
     "text": [
      "index_parallel='0042'\n"
     ]
    },
    {
     "name": "stderr",
     "output_type": "stream",
     "text": [
      "\u001b[32m[I 2022-08-16 00:13:11,157]\u001b[0m Trial 42 finished with value: 5568.444444444444 and parameters: {'kErase': 1, 'kRadius': 2, 'kAnnealingA': 2.2131564934190253, 'kAnnealingB': 2.6322482921072794, 'kAnnealingStart': 7.9970348637246795, 'kSkipRatio': 0.5684487424055245, 'kTargetDeterminationTrials': 7, 'kAttractionRatio': 0.22910811815064666, 'kMaxAttractionDistance': 9, 'kStartAttraction': 0.10148908474104952}. Best is trial 40 with value: 5626.954545454545.\u001b[0m\n"
     ]
    },
    {
     "name": "stdout",
     "output_type": "stream",
     "text": [
      "index_parallel='0043'\n"
     ]
    },
    {
     "name": "stderr",
     "output_type": "stream",
     "text": [
      "\u001b[32m[I 2022-08-16 00:16:57,701]\u001b[0m Trial 43 finished with value: 5588.292929292929 and parameters: {'kErase': 1, 'kRadius': 2, 'kAnnealingA': -1.3744120908717612, 'kAnnealingB': 2.6266157903071967, 'kAnnealingStart': 7.481588455849843, 'kSkipRatio': 0.5625052707149354, 'kTargetDeterminationTrials': 7, 'kAttractionRatio': 0.23876344215667322, 'kMaxAttractionDistance': 9, 'kStartAttraction': 0.08200628945529528}. Best is trial 40 with value: 5626.954545454545.\u001b[0m\n"
     ]
    },
    {
     "name": "stdout",
     "output_type": "stream",
     "text": [
      "index_parallel='0044'\n"
     ]
    },
    {
     "name": "stderr",
     "output_type": "stream",
     "text": [
      "\u001b[32m[I 2022-08-16 00:20:44,120]\u001b[0m Trial 44 finished with value: 5536.939393939394 and parameters: {'kErase': 1, 'kRadius': 2, 'kAnnealingA': -1.6080731191616704, 'kAnnealingB': 2.7996867436052417, 'kAnnealingStart': 7.294444877548767, 'kSkipRatio': 0.5694778299077268, 'kTargetDeterminationTrials': 14, 'kAttractionRatio': 0.4672290451308194, 'kMaxAttractionDistance': 9, 'kStartAttraction': 0.08989075284663178}. Best is trial 40 with value: 5626.954545454545.\u001b[0m\n"
     ]
    },
    {
     "name": "stdout",
     "output_type": "stream",
     "text": [
      "index_parallel='0045'\n"
     ]
    },
    {
     "name": "stderr",
     "output_type": "stream",
     "text": [
      "\u001b[32m[I 2022-08-16 00:24:30,894]\u001b[0m Trial 45 finished with value: 5327.772727272727 and parameters: {'kErase': 2, 'kRadius': 2, 'kAnnealingA': 2.2553444340071245, 'kAnnealingB': 0.243950862215202, 'kAnnealingStart': 5.187023273808918, 'kSkipRatio': 0.5203522682265723, 'kTargetDeterminationTrials': 7, 'kAttractionRatio': 0.2253142533137268, 'kMaxAttractionDistance': 7, 'kStartAttraction': 0.13269533124590435}. Best is trial 40 with value: 5626.954545454545.\u001b[0m\n"
     ]
    },
    {
     "name": "stdout",
     "output_type": "stream",
     "text": [
      "index_parallel='0046'\n"
     ]
    },
    {
     "name": "stderr",
     "output_type": "stream",
     "text": [
      "\u001b[32m[I 2022-08-16 00:28:17,696]\u001b[0m Trial 46 finished with value: 5374.464646464647 and parameters: {'kErase': 1, 'kRadius': 2, 'kAnnealingA': 0.6249195138358452, 'kAnnealingB': 2.593268911223465, 'kAnnealingStart': 3.5348362279055823, 'kSkipRatio': 0.4477806608145469, 'kTargetDeterminationTrials': 14, 'kAttractionRatio': 0.6457790862526672, 'kMaxAttractionDistance': 8, 'kStartAttraction': 0.07190984982516337}. Best is trial 40 with value: 5626.954545454545.\u001b[0m\n"
     ]
    },
    {
     "name": "stdout",
     "output_type": "stream",
     "text": [
      "index_parallel='0047'\n"
     ]
    },
    {
     "name": "stderr",
     "output_type": "stream",
     "text": [
      "\u001b[32m[I 2022-08-16 00:32:04,429]\u001b[0m Trial 47 finished with value: 5203.131313131313 and parameters: {'kErase': 2, 'kRadius': 3, 'kAnnealingA': -0.7564021614733101, 'kAnnealingB': 2.4523950297613344, 'kAnnealingStart': 7.9445419187368005, 'kSkipRatio': 0.5676236782558302, 'kTargetDeterminationTrials': 8, 'kAttractionRatio': 0.17264453789755188, 'kMaxAttractionDistance': 6, 'kStartAttraction': 0.14929544259331648}. Best is trial 40 with value: 5626.954545454545.\u001b[0m\n"
     ]
    },
    {
     "name": "stdout",
     "output_type": "stream",
     "text": [
      "index_parallel='0048'\n"
     ]
    },
    {
     "name": "stderr",
     "output_type": "stream",
     "text": [
      "\u001b[32m[I 2022-08-16 00:35:51,096]\u001b[0m Trial 48 finished with value: 5375.954545454545 and parameters: {'kErase': 1, 'kRadius': 2, 'kAnnealingA': 4.253163788110981, 'kAnnealingB': 2.8587803441302313, 'kAnnealingStart': 2.139945262652138, 'kSkipRatio': 0.41982500214455265, 'kTargetDeterminationTrials': 11, 'kAttractionRatio': 0.3306277503380285, 'kMaxAttractionDistance': 9, 'kStartAttraction': 0.2959341864653807}. Best is trial 40 with value: 5626.954545454545.\u001b[0m\n"
     ]
    },
    {
     "name": "stdout",
     "output_type": "stream",
     "text": [
      "index_parallel='0049'\n"
     ]
    },
    {
     "name": "stderr",
     "output_type": "stream",
     "text": [
      "\u001b[32m[I 2022-08-16 00:39:37,887]\u001b[0m Trial 49 finished with value: 5468.106060606061 and parameters: {'kErase': 1, 'kRadius': 2, 'kAnnealingA': -2.890020701853243, 'kAnnealingB': 0.6400722730693975, 'kAnnealingStart': 6.04252466573947, 'kSkipRatio': 0.582619771910307, 'kTargetDeterminationTrials': 8, 'kAttractionRatio': 0.22766739601730906, 'kMaxAttractionDistance': 10, 'kStartAttraction': 0.05969940646566304}. Best is trial 40 with value: 5626.954545454545.\u001b[0m\n"
     ]
    },
    {
     "name": "stdout",
     "output_type": "stream",
     "text": [
      "index_parallel='0050'\n"
     ]
    },
    {
     "name": "stderr",
     "output_type": "stream",
     "text": [
      "\u001b[32m[I 2022-08-16 00:43:24,675]\u001b[0m Trial 50 finished with value: 5166.333333333333 and parameters: {'kErase': 2, 'kRadius': 3, 'kAnnealingA': -4.7830643048601384, 'kAnnealingB': 2.406559761206087, 'kAnnealingStart': 15.159581214349892, 'kSkipRatio': 0.5354224898587165, 'kTargetDeterminationTrials': 17, 'kAttractionRatio': 0.3782155193322667, 'kMaxAttractionDistance': 8, 'kStartAttraction': 0.18621582648614804}. Best is trial 40 with value: 5626.954545454545.\u001b[0m\n"
     ]
    },
    {
     "name": "stdout",
     "output_type": "stream",
     "text": [
      "index_parallel='0051'\n"
     ]
    },
    {
     "name": "stderr",
     "output_type": "stream",
     "text": [
      "\u001b[32m[I 2022-08-16 00:47:11,203]\u001b[0m Trial 51 finished with value: 5528.080808080808 and parameters: {'kErase': 1, 'kRadius': 2, 'kAnnealingA': -0.3502197252672823, 'kAnnealingB': 2.669006873444719, 'kAnnealingStart': 6.356004749444537, 'kSkipRatio': 0.6121369882969049, 'kTargetDeterminationTrials': 7, 'kAttractionRatio': 0.2536760407079146, 'kMaxAttractionDistance': 13, 'kStartAttraction': 0.07948694068822712}. Best is trial 40 with value: 5626.954545454545.\u001b[0m\n"
     ]
    },
    {
     "name": "stdout",
     "output_type": "stream",
     "text": [
      "index_parallel='0052'\n"
     ]
    },
    {
     "name": "stderr",
     "output_type": "stream",
     "text": [
      "\u001b[32m[I 2022-08-16 00:50:57,788]\u001b[0m Trial 52 finished with value: 5640.267676767677 and parameters: {'kErase': 1, 'kRadius': 2, 'kAnnealingA': 1.7428872625581615, 'kAnnealingB': 2.743525128096916, 'kAnnealingStart': 8.422049745228597, 'kSkipRatio': 0.5061423550466216, 'kTargetDeterminationTrials': 5, 'kAttractionRatio': 0.1766077593768324, 'kMaxAttractionDistance': 11, 'kStartAttraction': 0.1107976820825914}. Best is trial 52 with value: 5640.267676767677.\u001b[0m\n"
     ]
    },
    {
     "name": "stdout",
     "output_type": "stream",
     "text": [
      "Updated! 5640.267676767677\n",
      "index_parallel='0053'\n"
     ]
    },
    {
     "name": "stderr",
     "output_type": "stream",
     "text": [
      "\u001b[32m[I 2022-08-16 00:54:44,560]\u001b[0m Trial 53 finished with value: 5421.338383838384 and parameters: {'kErase': 1, 'kRadius': 2, 'kAnnealingA': 1.7252165814582923, 'kAnnealingB': 2.8693549911908383, 'kAnnealingStart': 3.829417919920475, 'kSkipRatio': 0.48030110419843963, 'kTargetDeterminationTrials': 6, 'kAttractionRatio': 0.17449313670459785, 'kMaxAttractionDistance': 9, 'kStartAttraction': 0.13377298047374367}. Best is trial 52 with value: 5640.267676767677.\u001b[0m\n"
     ]
    },
    {
     "name": "stdout",
     "output_type": "stream",
     "text": [
      "index_parallel='0054'\n"
     ]
    },
    {
     "name": "stderr",
     "output_type": "stream",
     "text": [
      "\u001b[32m[I 2022-08-16 00:58:31,249]\u001b[0m Trial 54 finished with value: 5506.383838383838 and parameters: {'kErase': 1, 'kRadius': 2, 'kAnnealingA': 3.2277152416207624, 'kAnnealingB': 2.557096379252362, 'kAnnealingStart': 8.032471268539652, 'kSkipRatio': 0.5036124740845502, 'kTargetDeterminationTrials': 5, 'kAttractionRatio': 0.3059155136603752, 'kMaxAttractionDistance': 5, 'kStartAttraction': 0.11568984756393451}. Best is trial 52 with value: 5640.267676767677.\u001b[0m\n"
     ]
    },
    {
     "name": "stdout",
     "output_type": "stream",
     "text": [
      "index_parallel='0055'\n"
     ]
    },
    {
     "name": "stderr",
     "output_type": "stream",
     "text": [
      "\u001b[32m[I 2022-08-16 01:02:17,954]\u001b[0m Trial 55 finished with value: 5466.414141414141 and parameters: {'kErase': 1, 'kRadius': 2, 'kAnnealingA': 0.4832026904387745, 'kAnnealingB': 2.983911219864204, 'kAnnealingStart': 2.6942285115565374, 'kSkipRatio': 0.5434497604686498, 'kTargetDeterminationTrials': 10, 'kAttractionRatio': 0.1949692406290082, 'kMaxAttractionDistance': 11, 'kStartAttraction': 0.2903343717950493}. Best is trial 52 with value: 5640.267676767677.\u001b[0m\n"
     ]
    },
    {
     "name": "stdout",
     "output_type": "stream",
     "text": [
      "index_parallel='0056'\n"
     ]
    },
    {
     "name": "stderr",
     "output_type": "stream",
     "text": [
      "\u001b[32m[I 2022-08-16 01:06:05,157]\u001b[0m Trial 56 finished with value: 4509.626262626262 and parameters: {'kErase': 4, 'kRadius': 3, 'kAnnealingA': -4.248347093399797, 'kAnnealingB': 2.77236033530014, 'kAnnealingStart': 13.200955619879423, 'kSkipRatio': 0.3736525935585395, 'kTargetDeterminationTrials': 9, 'kAttractionRatio': 0.45618178415484995, 'kMaxAttractionDistance': 7, 'kStartAttraction': 0.048093526013176124}. Best is trial 52 with value: 5640.267676767677.\u001b[0m\n"
     ]
    },
    {
     "name": "stdout",
     "output_type": "stream",
     "text": [
      "index_parallel='0057'\n"
     ]
    },
    {
     "name": "stderr",
     "output_type": "stream",
     "text": [
      "\u001b[32m[I 2022-08-16 01:09:51,867]\u001b[0m Trial 57 finished with value: 3842.6767676767677 and parameters: {'kErase': 1, 'kRadius': 2, 'kAnnealingA': 2.6208110755713188, 'kAnnealingB': 1.9722799195559366, 'kAnnealingStart': 92.8702325288299, 'kSkipRatio': 0.5846063435568367, 'kTargetDeterminationTrials': 7, 'kAttractionRatio': 0.1759782857375573, 'kMaxAttractionDistance': 8, 'kStartAttraction': 0.18121265959202978}. Best is trial 52 with value: 5640.267676767677.\u001b[0m\n"
     ]
    },
    {
     "name": "stdout",
     "output_type": "stream",
     "text": [
      "index_parallel='0058'\n"
     ]
    },
    {
     "name": "stderr",
     "output_type": "stream",
     "text": [
      "\u001b[32m[I 2022-08-16 01:13:38,686]\u001b[0m Trial 58 finished with value: 5435.580808080808 and parameters: {'kErase': 2, 'kRadius': 2, 'kAnnealingA': 4.930364656712289, 'kAnnealingB': 2.3674473704665906, 'kAnnealingStart': 5.72702144918918, 'kSkipRatio': 0.5590058249320704, 'kTargetDeterminationTrials': 6, 'kAttractionRatio': 0.23649763078615021, 'kMaxAttractionDistance': 11, 'kStartAttraction': 0.09374172686715511}. Best is trial 52 with value: 5640.267676767677.\u001b[0m\n"
     ]
    },
    {
     "name": "stdout",
     "output_type": "stream",
     "text": [
      "index_parallel='0059'\n"
     ]
    },
    {
     "name": "stderr",
     "output_type": "stream",
     "text": [
      "\u001b[32m[I 2022-08-16 01:17:25,750]\u001b[0m Trial 59 finished with value: 5280.075757575758 and parameters: {'kErase': 1, 'kRadius': 3, 'kAnnealingA': 7.100247613807708, 'kAnnealingB': 2.612660558774412, 'kAnnealingStart': 4.02094091252848, 'kSkipRatio': 0.4738529033687616, 'kTargetDeterminationTrials': 12, 'kAttractionRatio': 0.01958267273576195, 'kMaxAttractionDistance': 6, 'kStartAttraction': 0.05977293437189436}. Best is trial 52 with value: 5640.267676767677.\u001b[0m\n"
     ]
    },
    {
     "name": "stdout",
     "output_type": "stream",
     "text": [
      "index_parallel='0060'\n"
     ]
    },
    {
     "name": "stderr",
     "output_type": "stream",
     "text": [
      "\u001b[32m[I 2022-08-16 01:21:12,126]\u001b[0m Trial 60 finished with value: 5575.939393939394 and parameters: {'kErase': 1, 'kRadius': 2, 'kAnnealingA': 1.239256148160657, 'kAnnealingB': 2.4984914625237518, 'kAnnealingStart': 7.543097982205656, 'kSkipRatio': 0.5113741976024525, 'kTargetDeterminationTrials': 5, 'kAttractionRatio': 0.15690430771179306, 'kMaxAttractionDistance': 89, 'kStartAttraction': 0.5234374644791547}. Best is trial 52 with value: 5640.267676767677.\u001b[0m\n"
     ]
    },
    {
     "name": "stdout",
     "output_type": "stream",
     "text": [
      "index_parallel='0061'\n"
     ]
    },
    {
     "name": "stderr",
     "output_type": "stream",
     "text": [
      "\u001b[32m[I 2022-08-16 01:24:58,445]\u001b[0m Trial 61 finished with value: 5510.116161616162 and parameters: {'kErase': 1, 'kRadius': 2, 'kAnnealingA': -2.7469031758083062, 'kAnnealingB': 2.487732742289968, 'kAnnealingStart': 6.834850646200601, 'kSkipRatio': 0.5091845961944816, 'kTargetDeterminationTrials': 5, 'kAttractionRatio': 0.15806982485528884, 'kMaxAttractionDistance': 97, 'kStartAttraction': 0.3520990163084544}. Best is trial 52 with value: 5640.267676767677.\u001b[0m\n"
     ]
    },
    {
     "name": "stdout",
     "output_type": "stream",
     "text": [
      "index_parallel='0062'\n"
     ]
    },
    {
     "name": "stderr",
     "output_type": "stream",
     "text": [
      "\u001b[32m[I 2022-08-16 01:28:44,800]\u001b[0m Trial 62 finished with value: 5633.075757575758 and parameters: {'kErase': 1, 'kRadius': 2, 'kAnnealingA': 1.2346702427815923, 'kAnnealingB': 2.718211365570034, 'kAnnealingStart': 9.061580773732707, 'kSkipRatio': 0.4539445069754092, 'kTargetDeterminationTrials': 7, 'kAttractionRatio': 0.20294259018530506, 'kMaxAttractionDistance': 69, 'kStartAttraction': 0.5461960647097952}. Best is trial 52 with value: 5640.267676767677.\u001b[0m\n"
     ]
    },
    {
     "name": "stdout",
     "output_type": "stream",
     "text": [
      "index_parallel='0063'\n"
     ]
    },
    {
     "name": "stderr",
     "output_type": "stream",
     "text": [
      "\u001b[32m[I 2022-08-16 01:32:31,248]\u001b[0m Trial 63 finished with value: 5487.19696969697 and parameters: {'kErase': 1, 'kRadius': 2, 'kAnnealingA': 1.4091081194361839, 'kAnnealingB': 2.8699457299152757, 'kAnnealingStart': 8.9378372160536, 'kSkipRatio': 0.41039880035057796, 'kTargetDeterminationTrials': 9, 'kAttractionRatio': 0.10350667080375861, 'kMaxAttractionDistance': 76, 'kStartAttraction': 0.6206765185312729}. Best is trial 52 with value: 5640.267676767677.\u001b[0m\n"
     ]
    },
    {
     "name": "stdout",
     "output_type": "stream",
     "text": [
      "index_parallel='0064'\n"
     ]
    },
    {
     "name": "stderr",
     "output_type": "stream",
     "text": [
      "\u001b[32m[I 2022-08-16 01:36:17,934]\u001b[0m Trial 64 finished with value: 5472.257575757576 and parameters: {'kErase': 1, 'kRadius': 2, 'kAnnealingA': 3.567972725408878, 'kAnnealingB': 2.7424085941476855, 'kAnnealingStart': 4.874328677800243, 'kSkipRatio': 0.3095158786590154, 'kTargetDeterminationTrials': 5, 'kAttractionRatio': 0.197492000243819, 'kMaxAttractionDistance': 80, 'kStartAttraction': 0.584415622317227}. Best is trial 52 with value: 5640.267676767677.\u001b[0m\n"
     ]
    },
    {
     "name": "stdout",
     "output_type": "stream",
     "text": [
      "index_parallel='0065'\n"
     ]
    },
    {
     "name": "stderr",
     "output_type": "stream",
     "text": [
      "\u001b[32m[I 2022-08-16 01:40:04,253]\u001b[0m Trial 65 finished with value: 5354.484848484848 and parameters: {'kErase': 1, 'kRadius': 2, 'kAnnealingA': -1.5591892184850775, 'kAnnealingB': 2.5125821976163283, 'kAnnealingStart': 11.40770864151562, 'kSkipRatio': 0.49161136167349195, 'kTargetDeterminationTrials': 8, 'kAttractionRatio': 0.13200647682177988, 'kMaxAttractionDistance': 49, 'kStartAttraction': 0.8662000294873295}. Best is trial 52 with value: 5640.267676767677.\u001b[0m\n"
     ]
    },
    {
     "name": "stdout",
     "output_type": "stream",
     "text": [
      "index_parallel='0066'\n"
     ]
    },
    {
     "name": "stderr",
     "output_type": "stream",
     "text": [
      "\u001b[32m[I 2022-08-16 01:43:50,884]\u001b[0m Trial 66 finished with value: 5311.065656565656 and parameters: {'kErase': 1, 'kRadius': 2, 'kAnnealingA': -8.868443118008255, 'kAnnealingB': 2.221032134885551, 'kAnnealingStart': 14.9971984272107, 'kSkipRatio': 0.4489671728956042, 'kTargetDeterminationTrials': 6, 'kAttractionRatio': 0.2980182189169964, 'kMaxAttractionDistance': 94, 'kStartAttraction': 0.4433151536237813}. Best is trial 52 with value: 5640.267676767677.\u001b[0m\n"
     ]
    },
    {
     "name": "stdout",
     "output_type": "stream",
     "text": [
      "index_parallel='0067'\n"
     ]
    },
    {
     "name": "stderr",
     "output_type": "stream",
     "text": [
      "\u001b[32m[I 2022-08-16 01:47:37,999]\u001b[0m Trial 67 finished with value: 4905.904040404041 and parameters: {'kErase': 3, 'kRadius': 3, 'kAnnealingA': -0.204531330452717, 'kAnnealingB': 2.687751083658056, 'kAnnealingStart': 6.517388904790209, 'kSkipRatio': 0.4641348632368629, 'kTargetDeterminationTrials': 9, 'kAttractionRatio': 0.15807977362502898, 'kMaxAttractionDistance': 62, 'kStartAttraction': 0.47370642727926976}. Best is trial 52 with value: 5640.267676767677.\u001b[0m\n"
     ]
    },
    {
     "name": "stdout",
     "output_type": "stream",
     "text": [
      "index_parallel='0068'\n"
     ]
    },
    {
     "name": "stderr",
     "output_type": "stream",
     "text": [
      "\u001b[32m[I 2022-08-16 01:51:24,667]\u001b[0m Trial 68 finished with value: 5269.904040404041 and parameters: {'kErase': 2, 'kRadius': 2, 'kAnnealingA': 1.1197402882051062, 'kAnnealingB': 2.9046281528559685, 'kAnnealingStart': 21.513510971150623, 'kSkipRatio': 0.5213303877488237, 'kTargetDeterminationTrials': 6, 'kAttractionRatio': 0.40141609122772137, 'kMaxAttractionDistance': 68, 'kStartAttraction': 0.2302239326055365}. Best is trial 52 with value: 5640.267676767677.\u001b[0m\n"
     ]
    },
    {
     "name": "stdout",
     "output_type": "stream",
     "text": [
      "index_parallel='0069'\n"
     ]
    },
    {
     "name": "stderr",
     "output_type": "stream",
     "text": [
      "\u001b[32m[I 2022-08-16 01:55:11,243]\u001b[0m Trial 69 finished with value: 5335.338383838384 and parameters: {'kErase': 1, 'kRadius': 3, 'kAnnealingA': 4.187800640888523, 'kAnnealingB': 0.954040160915845, 'kAnnealingStart': 9.842885515756574, 'kSkipRatio': 0.6030349006841299, 'kTargetDeterminationTrials': 7, 'kAttractionRatio': 0.08667156683106024, 'kMaxAttractionDistance': 86, 'kStartAttraction': 0.8051274291361454}. Best is trial 52 with value: 5640.267676767677.\u001b[0m\n"
     ]
    },
    {
     "name": "stdout",
     "output_type": "stream",
     "text": [
      "index_parallel='0070'\n"
     ]
    },
    {
     "name": "stderr",
     "output_type": "stream",
     "text": [
      "\u001b[32m[I 2022-08-16 01:58:58,173]\u001b[0m Trial 70 finished with value: 5157.747474747474 and parameters: {'kErase': 1, 'kRadius': 2, 'kAnnealingA': -14.436331174953375, 'kAnnealingB': 2.335210542514864, 'kAnnealingStart': 7.553912994737485, 'kSkipRatio': 0.6260607877439902, 'kTargetDeterminationTrials': 12, 'kAttractionRatio': 0.12358818852342147, 'kMaxAttractionDistance': 32, 'kStartAttraction': 0.24814363703565395}. Best is trial 52 with value: 5640.267676767677.\u001b[0m\n"
     ]
    },
    {
     "name": "stdout",
     "output_type": "stream",
     "text": [
      "index_parallel='0071'\n"
     ]
    },
    {
     "name": "stderr",
     "output_type": "stream",
     "text": [
      "\u001b[32m[I 2022-08-16 02:02:45,007]\u001b[0m Trial 71 finished with value: 5660.944444444444 and parameters: {'kErase': 1, 'kRadius': 2, 'kAnnealingA': 1.7399839813267215, 'kAnnealingB': 2.611421200909979, 'kAnnealingStart': 8.77255037968626, 'kSkipRatio': 0.5524711378149804, 'kTargetDeterminationTrials': 7, 'kAttractionRatio': 0.21023068618966576, 'kMaxAttractionDistance': 70, 'kStartAttraction': 0.07654241305434173}. Best is trial 71 with value: 5660.944444444444.\u001b[0m\n"
     ]
    },
    {
     "name": "stdout",
     "output_type": "stream",
     "text": [
      "Updated! 5660.944444444444\n",
      "index_parallel='0072'\n"
     ]
    },
    {
     "name": "stderr",
     "output_type": "stream",
     "text": [
      "\u001b[32m[I 2022-08-16 02:06:31,675]\u001b[0m Trial 72 finished with value: 5613.29797979798 and parameters: {'kErase': 1, 'kRadius': 2, 'kAnnealingA': -0.7984802440725303, 'kAnnealingB': 2.7876159326165504, 'kAnnealingStart': 8.987207834815644, 'kSkipRatio': 0.5557110354754337, 'kTargetDeterminationTrials': 5, 'kAttractionRatio': 0.20884830205894592, 'kMaxAttractionDistance': 57, 'kStartAttraction': 0.07328216662339383}. Best is trial 71 with value: 5660.944444444444.\u001b[0m\n"
     ]
    },
    {
     "name": "stdout",
     "output_type": "stream",
     "text": [
      "index_parallel='0073'\n"
     ]
    },
    {
     "name": "stderr",
     "output_type": "stream",
     "text": [
      "\u001b[32m[I 2022-08-16 02:10:18,256]\u001b[0m Trial 73 finished with value: 5511.358585858586 and parameters: {'kErase': 1, 'kRadius': 2, 'kAnnealingA': -3.4600025591492445, 'kAnnealingB': 2.804215109307723, 'kAnnealingStart': 8.91257388353243, 'kSkipRatio': 0.5488583170342858, 'kTargetDeterminationTrials': 8, 'kAttractionRatio': 0.3080182773884679, 'kMaxAttractionDistance': 44, 'kStartAttraction': 0.07591249997674189}. Best is trial 71 with value: 5660.944444444444.\u001b[0m\n"
     ]
    },
    {
     "name": "stdout",
     "output_type": "stream",
     "text": [
      "index_parallel='0074'\n"
     ]
    },
    {
     "name": "stderr",
     "output_type": "stream",
     "text": [
      "\u001b[32m[I 2022-08-16 02:14:04,723]\u001b[0m Trial 74 finished with value: 5603.393939393939 and parameters: {'kErase': 1, 'kRadius': 2, 'kAnnealingA': -1.0379880216649693, 'kAnnealingB': 2.931542723504268, 'kAnnealingStart': 10.415332034818908, 'kSkipRatio': 0.5849157685163762, 'kTargetDeterminationTrials': 10, 'kAttractionRatio': 0.21157915488739631, 'kMaxAttractionDistance': 54, 'kStartAttraction': 0.046188024531057956}. Best is trial 71 with value: 5660.944444444444.\u001b[0m\n"
     ]
    },
    {
     "name": "stdout",
     "output_type": "stream",
     "text": [
      "index_parallel='0075'\n"
     ]
    },
    {
     "name": "stderr",
     "output_type": "stream",
     "text": [
      "\u001b[32m[I 2022-08-16 02:17:51,353]\u001b[0m Trial 75 finished with value: 5618.777777777777 and parameters: {'kErase': 1, 'kRadius': 2, 'kAnnealingA': 0.066315145948185, 'kAnnealingB': 2.9375654988715914, 'kAnnealingStart': 12.180573352080948, 'kSkipRatio': 0.5933387522006226, 'kTargetDeterminationTrials': 16, 'kAttractionRatio': 0.3490727651396863, 'kMaxAttractionDistance': 56, 'kStartAttraction': 0.025672869222971583}. Best is trial 71 with value: 5660.944444444444.\u001b[0m\n"
     ]
    },
    {
     "name": "stdout",
     "output_type": "stream",
     "text": [
      "index_parallel='0076'\n"
     ]
    },
    {
     "name": "stderr",
     "output_type": "stream",
     "text": [
      "\u001b[32m[I 2022-08-16 02:21:37,908]\u001b[0m Trial 76 finished with value: 5466.207070707071 and parameters: {'kErase': 1, 'kRadius': 2, 'kAnnealingA': -4.992676965935872, 'kAnnealingB': 2.972939276275484, 'kAnnealingStart': 17.94841795027093, 'kSkipRatio': 0.5914087466950081, 'kTargetDeterminationTrials': 17, 'kAttractionRatio': 0.3390049501228777, 'kMaxAttractionDistance': 52, 'kStartAttraction': 0.02665454628317872}. Best is trial 71 with value: 5660.944444444444.\u001b[0m\n"
     ]
    },
    {
     "name": "stdout",
     "output_type": "stream",
     "text": [
      "index_parallel='0077'\n"
     ]
    },
    {
     "name": "stderr",
     "output_type": "stream",
     "text": [
      "\u001b[32m[I 2022-08-16 02:25:25,420]\u001b[0m Trial 77 finished with value: 4417.383838383838 and parameters: {'kErase': 5, 'kRadius': 2, 'kAnnealingA': -0.33847378901886715, 'kAnnealingB': 2.9411597332230515, 'kAnnealingStart': 12.879547222309538, 'kSkipRatio': 0.627432336756901, 'kTargetDeterminationTrials': 19, 'kAttractionRatio': 0.19923884022252306, 'kMaxAttractionDistance': 68, 'kStartAttraction': 0.020241311621590433}. Best is trial 71 with value: 5660.944444444444.\u001b[0m\n"
     ]
    },
    {
     "name": "stdout",
     "output_type": "stream",
     "text": [
      "index_parallel='0078'\n"
     ]
    },
    {
     "name": "stderr",
     "output_type": "stream",
     "text": [
      "\u001b[32m[I 2022-08-16 02:29:11,872]\u001b[0m Trial 78 finished with value: 5614.343434343435 and parameters: {'kErase': 1, 'kRadius': 2, 'kAnnealingA': -2.438975450442045, 'kAnnealingB': 2.7194274859719414, 'kAnnealingStart': 11.07317958010161, 'kSkipRatio': 0.6772689815019012, 'kTargetDeterminationTrials': 10, 'kAttractionRatio': 0.2693752829157136, 'kMaxAttractionDistance': 59, 'kStartAttraction': 0.04330590617442148}. Best is trial 71 with value: 5660.944444444444.\u001b[0m\n"
     ]
    },
    {
     "name": "stdout",
     "output_type": "stream",
     "text": [
      "index_parallel='0079'\n"
     ]
    },
    {
     "name": "stderr",
     "output_type": "stream",
     "text": [
      "\u001b[32m[I 2022-08-16 02:32:58,386]\u001b[0m Trial 79 finished with value: 5505.19696969697 and parameters: {'kErase': 1, 'kRadius': 2, 'kAnnealingA': -2.10581918274998, 'kAnnealingB': 2.8617706546211665, 'kAnnealingStart': 13.90832317192084, 'kSkipRatio': 0.5343653065808237, 'kTargetDeterminationTrials': 14, 'kAttractionRatio': 0.277593360819825, 'kMaxAttractionDistance': 58, 'kStartAttraction': 0.04614968243276316}. Best is trial 71 with value: 5660.944444444444.\u001b[0m\n"
     ]
    },
    {
     "name": "stdout",
     "output_type": "stream",
     "text": [
      "index_parallel='0080'\n"
     ]
    },
    {
     "name": "stderr",
     "output_type": "stream",
     "text": [
      "\u001b[32m[I 2022-08-16 02:36:45,580]\u001b[0m Trial 80 finished with value: 5073.813131313132 and parameters: {'kErase': 3, 'kRadius': 2, 'kAnnealingA': 0.4564313726317444, 'kAnnealingB': 2.7214726835116188, 'kAnnealingStart': 10.725965246755424, 'kSkipRatio': 0.6992577662311595, 'kTargetDeterminationTrials': 10, 'kAttractionRatio': 0.3841754297749326, 'kMaxAttractionDistance': 67, 'kStartAttraction': 0.040035999805001145}. Best is trial 71 with value: 5660.944444444444.\u001b[0m\n"
     ]
    },
    {
     "name": "stdout",
     "output_type": "stream",
     "text": [
      "index_parallel='0081'\n"
     ]
    },
    {
     "name": "stderr",
     "output_type": "stream",
     "text": [
      "\u001b[32m[I 2022-08-16 02:40:32,059]\u001b[0m Trial 81 finished with value: 5618.944444444444 and parameters: {'kErase': 1, 'kRadius': 2, 'kAnnealingA': -0.8200713098824586, 'kAnnealingB': 2.8279279464984026, 'kAnnealingStart': 9.820136953274393, 'kSkipRatio': 0.6590874539364074, 'kTargetDeterminationTrials': 11, 'kAttractionRatio': 0.5326991674681301, 'kMaxAttractionDistance': 47, 'kStartAttraction': 0.05390976718257884}. Best is trial 71 with value: 5660.944444444444.\u001b[0m\n"
     ]
    },
    {
     "name": "stdout",
     "output_type": "stream",
     "text": [
      "index_parallel='0082'\n"
     ]
    },
    {
     "name": "stderr",
     "output_type": "stream",
     "text": [
      "\u001b[32m[I 2022-08-16 02:44:18,759]\u001b[0m Trial 82 finished with value: 5597.69191919192 and parameters: {'kErase': 1, 'kRadius': 2, 'kAnnealingA': -0.8685779424936206, 'kAnnealingB': 2.8241616428896976, 'kAnnealingStart': 11.274665887931457, 'kSkipRatio': 0.6668318883310529, 'kTargetDeterminationTrials': 16, 'kAttractionRatio': 0.5572625203555884, 'kMaxAttractionDistance': 50, 'kStartAttraction': 0.02517684224912897}. Best is trial 71 with value: 5660.944444444444.\u001b[0m\n"
     ]
    },
    {
     "name": "stdout",
     "output_type": "stream",
     "text": [
      "index_parallel='0083'\n"
     ]
    },
    {
     "name": "stderr",
     "output_type": "stream",
     "text": [
      "\u001b[32m[I 2022-08-16 02:48:05,144]\u001b[0m Trial 83 finished with value: 5431.974747474747 and parameters: {'kErase': 1, 'kRadius': 2, 'kAnnealingA': -6.358893149380309, 'kAnnealingB': 2.9291845414539166, 'kAnnealingStart': 9.697678401548925, 'kSkipRatio': 0.649108222382527, 'kTargetDeterminationTrials': 13, 'kAttractionRatio': 0.7627789008706811, 'kMaxAttractionDistance': 56, 'kStartAttraction': 0.05391655970635298}. Best is trial 71 with value: 5660.944444444444.\u001b[0m\n"
     ]
    },
    {
     "name": "stdout",
     "output_type": "stream",
     "text": [
      "index_parallel='0084'\n"
     ]
    },
    {
     "name": "stderr",
     "output_type": "stream",
     "text": [
      "\u001b[32m[I 2022-08-16 02:51:51,551]\u001b[0m Trial 84 finished with value: 5567.338383838384 and parameters: {'kErase': 1, 'kRadius': 2, 'kAnnealingA': -2.445399650572703, 'kAnnealingB': 2.724816272147243, 'kAnnealingStart': 20.744489381536184, 'kSkipRatio': 0.6033586572846346, 'kTargetDeterminationTrials': 11, 'kAttractionRatio': 0.20755880856902895, 'kMaxAttractionDistance': 44, 'kStartAttraction': 0.06507014932339171}. Best is trial 71 with value: 5660.944444444444.\u001b[0m\n"
     ]
    },
    {
     "name": "stdout",
     "output_type": "stream",
     "text": [
      "index_parallel='0085'\n"
     ]
    },
    {
     "name": "stderr",
     "output_type": "stream",
     "text": [
      "\u001b[32m[I 2022-08-16 02:55:38,084]\u001b[0m Trial 85 finished with value: 5654.580808080808 and parameters: {'kErase': 1, 'kRadius': 2, 'kAnnealingA': 0.6190380768942081, 'kAnnealingB': 2.6662055569211023, 'kAnnealingStart': 16.04539270381649, 'kSkipRatio': 0.5499970077094303, 'kTargetDeterminationTrials': 9, 'kAttractionRatio': 0.2608339458192932, 'kMaxAttractionDistance': 73, 'kStartAttraction': 0.029997460032988518}. Best is trial 71 with value: 5660.944444444444.\u001b[0m\n"
     ]
    },
    {
     "name": "stdout",
     "output_type": "stream",
     "text": [
      "index_parallel='0086'\n"
     ]
    },
    {
     "name": "stderr",
     "output_type": "stream",
     "text": [
      "\u001b[32m[I 2022-08-16 02:59:24,819]\u001b[0m Trial 86 finished with value: 5592.5 and parameters: {'kErase': 1, 'kRadius': 2, 'kAnnealingA': 2.791820510752167, 'kAnnealingB': 2.6427158770392216, 'kAnnealingStart': 15.458064411408042, 'kSkipRatio': 0.49239213280116045, 'kTargetDeterminationTrials': 12, 'kAttractionRatio': 0.49912511345911004, 'kMaxAttractionDistance': 75, 'kStartAttraction': 0.029292391552563975}. Best is trial 71 with value: 5660.944444444444.\u001b[0m\n"
     ]
    },
    {
     "name": "stdout",
     "output_type": "stream",
     "text": [
      "index_parallel='0087'\n"
     ]
    },
    {
     "name": "stderr",
     "output_type": "stream",
     "text": [
      "\u001b[32m[I 2022-08-16 03:03:11,910]\u001b[0m Trial 87 finished with value: 5484.853535353535 and parameters: {'kErase': 2, 'kRadius': 2, 'kAnnealingA': 0.3640855866520838, 'kAnnealingB': 1.658323637247441, 'kAnnealingStart': 17.052197876322218, 'kSkipRatio': 0.551791771839622, 'kTargetDeterminationTrials': 15, 'kAttractionRatio': 0.7314329493329078, 'kMaxAttractionDistance': 72, 'kStartAttraction': 0.02086306346029842}. Best is trial 71 with value: 5660.944444444444.\u001b[0m\n"
     ]
    },
    {
     "name": "stdout",
     "output_type": "stream",
     "text": [
      "index_parallel='0088'\n"
     ]
    },
    {
     "name": "stderr",
     "output_type": "stream",
     "text": [
      "\u001b[32m[I 2022-08-16 03:06:58,375]\u001b[0m Trial 88 finished with value: 5672.19696969697 and parameters: {'kErase': 1, 'kRadius': 3, 'kAnnealingA': 1.6963629427734381, 'kAnnealingB': 2.7487601397187413, 'kAnnealingStart': 12.6880223855081, 'kSkipRatio': 0.7213211090290982, 'kTargetDeterminationTrials': 9, 'kAttractionRatio': 0.26314349220505223, 'kMaxAttractionDistance': 61, 'kStartAttraction': 0.01752207552158746}. Best is trial 88 with value: 5672.19696969697.\u001b[0m\n"
     ]
    },
    {
     "name": "stdout",
     "output_type": "stream",
     "text": [
      "Updated! 5672.19696969697\n",
      "index_parallel='0089'\n"
     ]
    },
    {
     "name": "stderr",
     "output_type": "stream",
     "text": [
      "\u001b[32m[I 2022-08-16 03:10:45,082]\u001b[0m Trial 89 finished with value: 5317.161616161616 and parameters: {'kErase': 1, 'kRadius': 3, 'kAnnealingA': 3.648614019741344, 'kAnnealingB': 2.4368314332445817, 'kAnnealingStart': 24.376511966528394, 'kSkipRatio': 0.7344385161790061, 'kTargetDeterminationTrials': 10, 'kAttractionRatio': 0.35519155356521154, 'kMaxAttractionDistance': 82, 'kStartAttraction': 0.037893542702878265}. Best is trial 88 with value: 5672.19696969697.\u001b[0m\n"
     ]
    },
    {
     "name": "stdout",
     "output_type": "stream",
     "text": [
      "index_parallel='0090'\n"
     ]
    },
    {
     "name": "stderr",
     "output_type": "stream",
     "text": [
      "\u001b[32m[I 2022-08-16 03:14:31,450]\u001b[0m Trial 90 finished with value: 5588.904040404041 and parameters: {'kErase': 1, 'kRadius': 3, 'kAnnealingA': 1.7187570531507605, 'kAnnealingB': 2.536905180443672, 'kAnnealingStart': 12.12834840250801, 'kSkipRatio': 0.7149926011231186, 'kTargetDeterminationTrials': 20, 'kAttractionRatio': 0.4303963746620617, 'kMaxAttractionDistance': 63, 'kStartAttraction': 0.014683233417562211}. Best is trial 88 with value: 5672.19696969697.\u001b[0m\n"
     ]
    },
    {
     "name": "stdout",
     "output_type": "stream",
     "text": [
      "index_parallel='0091'\n"
     ]
    },
    {
     "name": "stderr",
     "output_type": "stream",
     "text": [
      "\u001b[32m[I 2022-08-16 03:18:18,112]\u001b[0m Trial 91 finished with value: 5603.954545454545 and parameters: {'kErase': 1, 'kRadius': 2, 'kAnnealingA': -0.041984989007557275, 'kAnnealingB': 2.7286300690631515, 'kAnnealingStart': 13.850053254645044, 'kSkipRatio': 0.6900578216391539, 'kTargetDeterminationTrials': 9, 'kAttractionRatio': 0.25386528602245256, 'kMaxAttractionDistance': 46, 'kStartAttraction': 0.017014559790121724}. Best is trial 88 with value: 5672.19696969697.\u001b[0m\n"
     ]
    },
    {
     "name": "stdout",
     "output_type": "stream",
     "text": [
      "index_parallel='0092'\n"
     ]
    },
    {
     "name": "stderr",
     "output_type": "stream",
     "text": [
      "\u001b[32m[I 2022-08-16 03:22:04,463]\u001b[0m Trial 92 finished with value: 5664.50505050505 and parameters: {'kErase': 1, 'kRadius': 2, 'kAnnealingA': 0.9527705198226265, 'kAnnealingB': 2.8173059988659874, 'kAnnealingStart': 11.705288509725179, 'kSkipRatio': 0.7704855913621196, 'kTargetDeterminationTrials': 8, 'kAttractionRatio': 0.2965610400934378, 'kMaxAttractionDistance': 63, 'kStartAttraction': 0.011482414904264404}. Best is trial 88 with value: 5672.19696969697.\u001b[0m\n"
     ]
    },
    {
     "name": "stdout",
     "output_type": "stream",
     "text": [
      "index_parallel='0093'\n"
     ]
    },
    {
     "name": "stderr",
     "output_type": "stream",
     "text": [
      "\u001b[32m[I 2022-08-16 03:25:50,930]\u001b[0m Trial 93 finished with value: 5591.712121212121 and parameters: {'kErase': 1, 'kRadius': 2, 'kAnnealingA': 4.94697851559977, 'kAnnealingB': 2.9986326454184553, 'kAnnealingStart': 11.826446851455138, 'kSkipRatio': 0.7824108936798434, 'kTargetDeterminationTrials': 11, 'kAttractionRatio': 0.28045008780381014, 'kMaxAttractionDistance': 40, 'kStartAttraction': 0.012212519474720584}. Best is trial 88 with value: 5672.19696969697.\u001b[0m\n"
     ]
    },
    {
     "name": "stdout",
     "output_type": "stream",
     "text": [
      "index_parallel='0094'\n"
     ]
    },
    {
     "name": "stderr",
     "output_type": "stream",
     "text": [
      "\u001b[32m[I 2022-08-16 03:29:37,722]\u001b[0m Trial 94 finished with value: 5710.833333333333 and parameters: {'kErase': 1, 'kRadius': 2, 'kAnnealingA': 0.9091402779627167, 'kAnnealingB': 2.666511324705954, 'kAnnealingStart': 16.290549871156088, 'kSkipRatio': 0.7810083268025271, 'kTargetDeterminationTrials': 8, 'kAttractionRatio': 0.5033160976410005, 'kMaxAttractionDistance': 65, 'kStartAttraction': 0.007506192038135041}. Best is trial 94 with value: 5710.833333333333.\u001b[0m\n"
     ]
    },
    {
     "name": "stdout",
     "output_type": "stream",
     "text": [
      "Updated! 5710.833333333333\n",
      "index_parallel='0095'\n"
     ]
    },
    {
     "name": "stderr",
     "output_type": "stream",
     "text": [
      "\u001b[32m[I 2022-08-16 03:33:24,322]\u001b[0m Trial 95 finished with value: 5547.257575757576 and parameters: {'kErase': 1, 'kRadius': 2, 'kAnnealingA': 2.5403973522443266, 'kAnnealingB': 2.612384243593418, 'kAnnealingStart': 19.76350873731238, 'kSkipRatio': 0.7770686948551752, 'kTargetDeterminationTrials': 8, 'kAttractionRatio': 0.4913934880856658, 'kMaxAttractionDistance': 64, 'kStartAttraction': 0.0071738360714262445}. Best is trial 94 with value: 5710.833333333333.\u001b[0m\n"
     ]
    },
    {
     "name": "stdout",
     "output_type": "stream",
     "text": [
      "index_parallel='0096'\n"
     ]
    },
    {
     "name": "stderr",
     "output_type": "stream",
     "text": [
      "\u001b[32m[I 2022-08-16 03:37:10,947]\u001b[0m Trial 96 finished with value: 5537.79797979798 and parameters: {'kErase': 1, 'kRadius': 3, 'kAnnealingA': 1.3210948510373688, 'kAnnealingB': 2.879547923272776, 'kAnnealingStart': 23.366937181104188, 'kSkipRatio': 0.7990210089595299, 'kTargetDeterminationTrials': 13, 'kAttractionRatio': 0.6362973453962285, 'kMaxAttractionDistance': 73, 'kStartAttraction': 0.007028249200677206}. Best is trial 94 with value: 5710.833333333333.\u001b[0m\n"
     ]
    },
    {
     "name": "stdout",
     "output_type": "stream",
     "text": [
      "index_parallel='0097'\n"
     ]
    },
    {
     "name": "stderr",
     "output_type": "stream",
     "text": [
      "\u001b[32m[I 2022-08-16 03:40:57,452]\u001b[0m Trial 97 finished with value: 5660.595959595959 and parameters: {'kErase': 1, 'kRadius': 2, 'kAnnealingA': 2.042425071208602, 'kAnnealingB': 2.8325829101034836, 'kAnnealingStart': 14.804084058859198, 'kSkipRatio': 0.764444549197154, 'kTargetDeterminationTrials': 9, 'kAttractionRatio': 0.5192553244502448, 'kMaxAttractionDistance': 48, 'kStartAttraction': 0.008641486805801787}. Best is trial 94 with value: 5710.833333333333.\u001b[0m\n"
     ]
    },
    {
     "name": "stdout",
     "output_type": "stream",
     "text": [
      "index_parallel='0098'\n"
     ]
    },
    {
     "name": "stderr",
     "output_type": "stream",
     "text": [
      "\u001b[32m[I 2022-08-16 03:44:43,866]\u001b[0m Trial 98 finished with value: 5586.722222222223 and parameters: {'kErase': 1, 'kRadius': 2, 'kAnnealingA': 3.1098464797743333, 'kAnnealingB': 2.6581754190411195, 'kAnnealingStart': 15.957717396550356, 'kSkipRatio': 0.7572309310852924, 'kTargetDeterminationTrials': 8, 'kAttractionRatio': 0.5412516706167416, 'kMaxAttractionDistance': 80, 'kStartAttraction': 0.005838019494564533}. Best is trial 94 with value: 5710.833333333333.\u001b[0m\n"
     ]
    },
    {
     "name": "stdout",
     "output_type": "stream",
     "text": [
      "index_parallel='0099'\n"
     ]
    },
    {
     "name": "stderr",
     "output_type": "stream",
     "text": [
      "\u001b[32m[I 2022-08-16 03:48:30,831]\u001b[0m Trial 99 finished with value: 5176.429292929293 and parameters: {'kErase': 2, 'kRadius': 2, 'kAnnealingA': 1.9899129774527085, 'kAnnealingB': 2.822346728671544, 'kAnnealingStart': 26.585262021936988, 'kSkipRatio': 0.732841546946134, 'kTargetDeterminationTrials': 9, 'kAttractionRatio': 0.4183693567253087, 'kMaxAttractionDistance': 70, 'kStartAttraction': 0.003953791038158959}. Best is trial 94 with value: 5710.833333333333.\u001b[0m\n"
     ]
    },
    {
     "name": "stdout",
     "output_type": "stream",
     "text": [
      "index_parallel='0100'\n"
     ]
    },
    {
     "name": "stderr",
     "output_type": "stream",
     "text": [
      "\u001b[32m[I 2022-08-16 03:52:17,489]\u001b[0m Trial 100 finished with value: 5465.464646464647 and parameters: {'kErase': 1, 'kRadius': 2, 'kAnnealingA': 1.1567321685501049, 'kAnnealingB': 2.5775073277944864, 'kAnnealingStart': 27.315937977160328, 'kSkipRatio': 0.7478244459922871, 'kTargetDeterminationTrials': 7, 'kAttractionRatio': 0.8342377428548613, 'kMaxAttractionDistance': 49, 'kStartAttraction': 0.008050586717345388}. Best is trial 94 with value: 5710.833333333333.\u001b[0m\n"
     ]
    },
    {
     "name": "stdout",
     "output_type": "stream",
     "text": [
      "index_parallel='0101'\n"
     ]
    },
    {
     "name": "stderr",
     "output_type": "stream",
     "text": [
      "\u001b[32m[I 2022-08-16 03:56:04,306]\u001b[0m Trial 101 finished with value: 5691.484848484848 and parameters: {'kErase': 1, 'kRadius': 2, 'kAnnealingA': 0.7283469021234228, 'kAnnealingB': 2.834951218244741, 'kAnnealingStart': 18.401923902599954, 'kSkipRatio': 0.7672689051092698, 'kTargetDeterminationTrials': 9, 'kAttractionRatio': 0.7031296076141175, 'kMaxAttractionDistance': 61, 'kStartAttraction': 0.011536550943795883}. Best is trial 94 with value: 5710.833333333333.\u001b[0m\n"
     ]
    },
    {
     "name": "stdout",
     "output_type": "stream",
     "text": [
      "index_parallel='0102'\n"
     ]
    },
    {
     "name": "stderr",
     "output_type": "stream",
     "text": [
      "\u001b[32m[I 2022-08-16 03:59:51,095]\u001b[0m Trial 102 finished with value: 5662.111111111111 and parameters: {'kErase': 1, 'kRadius': 2, 'kAnnealingA': 0.8360809127622104, 'kAnnealingB': 2.765742281427173, 'kAnnealingStart': 18.62908814044547, 'kSkipRatio': 0.7824535687996421, 'kTargetDeterminationTrials': 9, 'kAttractionRatio': 0.6671060992056503, 'kMaxAttractionDistance': 65, 'kStartAttraction': 0.009703343203146787}. Best is trial 94 with value: 5710.833333333333.\u001b[0m\n"
     ]
    },
    {
     "name": "stdout",
     "output_type": "stream",
     "text": [
      "index_parallel='0103'\n"
     ]
    },
    {
     "name": "stderr",
     "output_type": "stream",
     "text": [
      "\u001b[32m[I 2022-08-16 04:03:37,595]\u001b[0m Trial 103 finished with value: 5600.954545454545 and parameters: {'kErase': 1, 'kRadius': 2, 'kAnnealingA': 0.805496631597729, 'kAnnealingB': 2.681981294898819, 'kAnnealingStart': 18.66676173066759, 'kSkipRatio': 0.7742696037397172, 'kTargetDeterminationTrials': 8, 'kAttractionRatio': 0.6804750411410241, 'kMaxAttractionDistance': 65, 'kStartAttraction': 0.01012181542819167}. Best is trial 94 with value: 5710.833333333333.\u001b[0m\n"
     ]
    },
    {
     "name": "stdout",
     "output_type": "stream",
     "text": [
      "index_parallel='0104'\n"
     ]
    },
    {
     "name": "stderr",
     "output_type": "stream",
     "text": [
      "\u001b[32m[I 2022-08-16 04:07:24,317]\u001b[0m Trial 104 finished with value: 5194.540404040404 and parameters: {'kErase': 1, 'kRadius': 2, 'kAnnealingA': 3.9308728897681844, 'kAnnealingB': 2.7628095578017446, 'kAnnealingStart': 29.706618249824853, 'kSkipRatio': 0.7664374700576653, 'kTargetDeterminationTrials': 9, 'kAttractionRatio': 0.8933828643078694, 'kMaxAttractionDistance': 63, 'kStartAttraction': 0.01224289898118239}. Best is trial 94 with value: 5710.833333333333.\u001b[0m\n"
     ]
    },
    {
     "name": "stdout",
     "output_type": "stream",
     "text": [
      "index_parallel='0105'\n"
     ]
    },
    {
     "name": "stderr",
     "output_type": "stream",
     "text": [
      "\u001b[32m[I 2022-08-16 04:11:11,210]\u001b[0m Trial 105 finished with value: 5633.318181818182 and parameters: {'kErase': 1, 'kRadius': 2, 'kAnnealingA': 1.9987500969097738, 'kAnnealingB': 2.5343249377849704, 'kAnnealingStart': 13.8244376474347, 'kSkipRatio': 0.7895441533207366, 'kTargetDeterminationTrials': 7, 'kAttractionRatio': 0.5789383666610771, 'kMaxAttractionDistance': 88, 'kStartAttraction': 0.011275728659187167}. Best is trial 94 with value: 5710.833333333333.\u001b[0m\n"
     ]
    },
    {
     "name": "stdout",
     "output_type": "stream",
     "text": [
      "index_parallel='0106'\n"
     ]
    },
    {
     "name": "stderr",
     "output_type": "stream",
     "text": [
      "\u001b[32m[I 2022-08-16 04:14:58,290]\u001b[0m Trial 106 finished with value: 5569.459595959596 and parameters: {'kErase': 1, 'kRadius': 4, 'kAnnealingA': 2.078673898939856, 'kAnnealingB': 2.557398245713105, 'kAnnealingStart': 14.452991733604001, 'kSkipRatio': 0.7959310548493956, 'kTargetDeterminationTrials': 10, 'kAttractionRatio': 0.596694727442492, 'kMaxAttractionDistance': 89, 'kStartAttraction': 0.005522490400165359}. Best is trial 94 with value: 5710.833333333333.\u001b[0m\n"
     ]
    },
    {
     "name": "stdout",
     "output_type": "stream",
     "text": [
      "index_parallel='0107'\n"
     ]
    },
    {
     "name": "stderr",
     "output_type": "stream",
     "text": [
      "\u001b[32m[I 2022-08-16 04:18:44,865]\u001b[0m Trial 107 finished with value: 5711.050505050505 and parameters: {'kErase': 1, 'kRadius': 2, 'kAnnealingA': 3.2850453305572627, 'kAnnealingB': 2.377296721149685, 'kAnnealingStart': 16.83870179876374, 'kSkipRatio': 0.747676262846492, 'kTargetDeterminationTrials': 9, 'kAttractionRatio': 0.7649769041092884, 'kMaxAttractionDistance': 80, 'kStartAttraction': 0.012531524182127945}. Best is trial 107 with value: 5711.050505050505.\u001b[0m\n"
     ]
    },
    {
     "name": "stdout",
     "output_type": "stream",
     "text": [
      "Updated! 5711.050505050505\n",
      "index_parallel='0108'\n"
     ]
    },
    {
     "name": "stderr",
     "output_type": "stream",
     "text": [
      "\u001b[32m[I 2022-08-16 04:22:31,697]\u001b[0m Trial 108 finished with value: 5298.772727272727 and parameters: {'kErase': 1, 'kRadius': 2, 'kAnnealingA': 5.759374094105743, 'kAnnealingB': 2.4387700302315483, 'kAnnealingStart': 22.776672114937472, 'kSkipRatio': 0.7438931709072104, 'kTargetDeterminationTrials': 9, 'kAttractionRatio': 0.7548939058753025, 'kMaxAttractionDistance': 85, 'kStartAttraction': 0.012657262271833962}. Best is trial 107 with value: 5711.050505050505.\u001b[0m\n"
     ]
    },
    {
     "name": "stdout",
     "output_type": "stream",
     "text": [
      "index_parallel='0109'\n"
     ]
    },
    {
     "name": "stderr",
     "output_type": "stream",
     "text": [
      "\u001b[32m[I 2022-08-16 04:26:18,361]\u001b[0m Trial 109 finished with value: 5563.040404040404 and parameters: {'kErase': 1, 'kRadius': 2, 'kAnnealingA': 4.737122499739034, 'kAnnealingB': 1.2667092933588209, 'kAnnealingStart': 17.505202676086324, 'kSkipRatio': 0.720860338941161, 'kTargetDeterminationTrials': 12, 'kAttractionRatio': 0.7006993786846731, 'kMaxAttractionDistance': 77, 'kStartAttraction': 0.010672401650151573}. Best is trial 107 with value: 5711.050505050505.\u001b[0m\n"
     ]
    },
    {
     "name": "stdout",
     "output_type": "stream",
     "text": [
      "index_parallel='0110'\n"
     ]
    },
    {
     "name": "stderr",
     "output_type": "stream",
     "text": [
      "\u001b[32m[I 2022-08-16 04:30:04,789]\u001b[0m Trial 110 finished with value: 5529.818181818182 and parameters: {'kErase': 1, 'kRadius': 2, 'kAnnealingA': 6.356263168231135, 'kAnnealingB': 2.516214769337451, 'kAnnealingStart': 16.273864463721456, 'kSkipRatio': 0.7892405197154748, 'kTargetDeterminationTrials': 8, 'kAttractionRatio': 0.5957235787590522, 'kMaxAttractionDistance': 93, 'kStartAttraction': 0.008753856537273648}. Best is trial 107 with value: 5711.050505050505.\u001b[0m\n"
     ]
    },
    {
     "name": "stdout",
     "output_type": "stream",
     "text": [
      "index_parallel='0111'\n"
     ]
    },
    {
     "name": "stderr",
     "output_type": "stream",
     "text": [
      "\u001b[32m[I 2022-08-16 04:33:51,140]\u001b[0m Trial 111 finished with value: 5596.30808080808 and parameters: {'kErase': 1, 'kRadius': 2, 'kAnnealingA': 3.357433175980857, 'kAnnealingB': 2.6217101072101245, 'kAnnealingStart': 13.441360567232502, 'kSkipRatio': 0.768230918120807, 'kTargetDeterminationTrials': 9, 'kAttractionRatio': 0.4682193462730875, 'kMaxAttractionDistance': 70, 'kStartAttraction': 0.016235170589493735}. Best is trial 107 with value: 5711.050505050505.\u001b[0m\n"
     ]
    },
    {
     "name": "stdout",
     "output_type": "stream",
     "text": [
      "index_parallel='0112'\n"
     ]
    },
    {
     "name": "stderr",
     "output_type": "stream",
     "text": [
      "\u001b[32m[I 2022-08-16 04:37:37,824]\u001b[0m Trial 112 finished with value: 5581.010101010101 and parameters: {'kErase': 1, 'kRadius': 2, 'kAnnealingA': 0.9540971345628908, 'kAnnealingB': 2.6776604318215256, 'kAnnealingStart': 20.36389065275676, 'kSkipRatio': 0.7537100161381985, 'kTargetDeterminationTrials': 7, 'kAttractionRatio': 0.6391467778293883, 'kMaxAttractionDistance': 80, 'kStartAttraction': 0.011322174772458607}. Best is trial 107 with value: 5711.050505050505.\u001b[0m\n"
     ]
    },
    {
     "name": "stdout",
     "output_type": "stream",
     "text": [
      "index_parallel='0113'\n"
     ]
    },
    {
     "name": "stderr",
     "output_type": "stream",
     "text": [
      "\u001b[32m[I 2022-08-16 04:41:24,480]\u001b[0m Trial 113 finished with value: 5639.707070707071 and parameters: {'kErase': 1, 'kRadius': 2, 'kAnnealingA': 1.5773164250480107, 'kAnnealingB': 2.375837704331915, 'kAnnealingStart': 14.73699337621029, 'kSkipRatio': 0.7829391522337474, 'kTargetDeterminationTrials': 7, 'kAttractionRatio': 0.5115937653235678, 'kMaxAttractionDistance': 60, 'kStartAttraction': 0.008143940606902999}. Best is trial 107 with value: 5711.050505050505.\u001b[0m\n"
     ]
    },
    {
     "name": "stdout",
     "output_type": "stream",
     "text": [
      "index_parallel='0114'\n"
     ]
    },
    {
     "name": "stderr",
     "output_type": "stream",
     "text": [
      "\u001b[32m[I 2022-08-16 04:45:11,116]\u001b[0m Trial 114 finished with value: 5584.49494949495 and parameters: {'kErase': 1, 'kRadius': 2, 'kAnnealingA': 1.8662674145183944, 'kAnnealingB': 2.3695170001013213, 'kAnnealingStart': 18.87342448598755, 'kSkipRatio': 0.7823496304052104, 'kTargetDeterminationTrials': 8, 'kAttractionRatio': 0.5153066308799009, 'kMaxAttractionDistance': 53, 'kStartAttraction': 0.008295685858909402}. Best is trial 107 with value: 5711.050505050505.\u001b[0m\n"
     ]
    },
    {
     "name": "stdout",
     "output_type": "stream",
     "text": [
      "index_parallel='0115'\n"
     ]
    },
    {
     "name": "stderr",
     "output_type": "stream",
     "text": [
      "\u001b[32m[I 2022-08-16 04:48:57,625]\u001b[0m Trial 115 finished with value: 5626.00505050505 and parameters: {'kErase': 1, 'kRadius': 2, 'kAnnealingA': 2.6050371526007754, 'kAnnealingB': 2.4758900187370525, 'kAnnealingStart': 14.62433928030805, 'kSkipRatio': 0.7462915123074605, 'kTargetDeterminationTrials': 11, 'kAttractionRatio': 0.7609693829176294, 'kMaxAttractionDistance': 61, 'kStartAttraction': 0.018915700426416732}. Best is trial 107 with value: 5711.050505050505.\u001b[0m\n"
     ]
    },
    {
     "name": "stdout",
     "output_type": "stream",
     "text": [
      "index_parallel='0116'\n"
     ]
    },
    {
     "name": "stderr",
     "output_type": "stream",
     "text": [
      "\u001b[32m[I 2022-08-16 04:52:44,401]\u001b[0m Trial 116 finished with value: 5639.520202020202 and parameters: {'kErase': 1, 'kRadius': 2, 'kAnnealingA': 0.2165939277375082, 'kAnnealingB': 2.0609319033236058, 'kAnnealingStart': 17.044838490555904, 'kSkipRatio': 0.7864685827893496, 'kTargetDeterminationTrials': 10, 'kAttractionRatio': 0.817816752480952, 'kMaxAttractionDistance': 76, 'kStartAttraction': 0.004715314481566606}. Best is trial 107 with value: 5711.050505050505.\u001b[0m\n"
     ]
    },
    {
     "name": "stdout",
     "output_type": "stream",
     "text": [
      "index_parallel='0117'\n"
     ]
    },
    {
     "name": "stderr",
     "output_type": "stream",
     "text": [
      "\u001b[32m[I 2022-08-16 04:56:31,050]\u001b[0m Trial 117 finished with value: 5641.217171717171 and parameters: {'kErase': 1, 'kRadius': 3, 'kAnnealingA': 0.34849444270585117, 'kAnnealingB': 1.9852075772329647, 'kAnnealingStart': 16.422988969983706, 'kSkipRatio': 0.7228979438456753, 'kTargetDeterminationTrials': 13, 'kAttractionRatio': 0.8139575619409098, 'kMaxAttractionDistance': 75, 'kStartAttraction': 0.002680848189216349}. Best is trial 107 with value: 5711.050505050505.\u001b[0m\n"
     ]
    },
    {
     "name": "stdout",
     "output_type": "stream",
     "text": [
      "index_parallel='0118'\n"
     ]
    },
    {
     "name": "stderr",
     "output_type": "stream",
     "text": [
      "\u001b[32m[I 2022-08-16 05:00:17,748]\u001b[0m Trial 118 finished with value: 5352.055555555556 and parameters: {'kErase': 1, 'kRadius': 4, 'kAnnealingA': 0.5672843849096023, 'kAnnealingB': 2.2371113731142254, 'kAnnealingStart': 32.66870703796414, 'kSkipRatio': 0.7278784465345414, 'kTargetDeterminationTrials': 13, 'kAttractionRatio': 0.6793876730905943, 'kMaxAttractionDistance': 59, 'kStartAttraction': 0.001563144992156996}. Best is trial 107 with value: 5711.050505050505.\u001b[0m\n"
     ]
    },
    {
     "name": "stdout",
     "output_type": "stream",
     "text": [
      "index_parallel='0119'\n"
     ]
    },
    {
     "name": "stderr",
     "output_type": "stream",
     "text": [
      "\u001b[32m[I 2022-08-16 05:04:04,356]\u001b[0m Trial 119 finished with value: 5628.868686868687 and parameters: {'kErase': 1, 'kRadius': 3, 'kAnnealingA': -0.25421755505128973, 'kAnnealingB': 2.172163533533744, 'kAnnealingStart': 16.06555574930637, 'kSkipRatio': 0.706389866840349, 'kTargetDeterminationTrials': 6, 'kAttractionRatio': 0.8083707287834999, 'kMaxAttractionDistance': 99, 'kStartAttraction': 0.0028202448972017985}. Best is trial 107 with value: 5711.050505050505.\u001b[0m\n"
     ]
    },
    {
     "name": "stdout",
     "output_type": "stream",
     "text": [
      "index_parallel='0121'\n"
     ]
    },
    {
     "name": "stderr",
     "output_type": "stream",
     "text": [
      "\u001b[32m[I 2022-08-16 05:07:51,014]\u001b[0m Trial 121 finished with value: 5284.116161616162 and parameters: {'kErase': 1, 'kRadius': 5, 'kAnnealingA': 3.146358669594684, 'kAnnealingB': 2.113067992745273, 'kAnnealingStart': 22.3052205439662, 'kSkipRatio': 0.7632079475182248, 'kTargetDeterminationTrials': 9, 'kAttractionRatio': 0.43994281374583954, 'kMaxAttractionDistance': 65, 'kStartAttraction': 0.007560347691454984}. Best is trial 107 with value: 5711.050505050505.\u001b[0m\n"
     ]
    },
    {
     "name": "stdout",
     "output_type": "stream",
     "text": [
      "index_parallel='0123'\n"
     ]
    },
    {
     "name": "stderr",
     "output_type": "stream",
     "text": [
      "\u001b[32m[I 2022-08-16 05:11:37,676]\u001b[0m Trial 123 finished with value: 5658.161616161616 and parameters: {'kErase': 1, 'kRadius': 2, 'kAnnealingA': 0.09313845391815678, 'kAnnealingB': 1.9371203481390715, 'kAnnealingStart': 17.568590382759673, 'kSkipRatio': 0.7747315229050643, 'kTargetDeterminationTrials': 10, 'kAttractionRatio': 0.8795756514123261, 'kMaxAttractionDistance': 77, 'kStartAttraction': 0.0043916490768915305}. Best is trial 107 with value: 5711.050505050505.\u001b[0m\n"
     ]
    },
    {
     "name": "stdout",
     "output_type": "stream",
     "text": [
      "index_parallel='0125'\n"
     ]
    },
    {
     "name": "stderr",
     "output_type": "stream",
     "text": [
      "\u001b[32m[I 2022-08-16 05:15:24,191]\u001b[0m Trial 125 finished with value: 5596.712121212121 and parameters: {'kErase': 1, 'kRadius': 2, 'kAnnealingA': 1.5450475251908469, 'kAnnealingB': 1.8315626535539624, 'kAnnealingStart': 12.272445786038437, 'kSkipRatio': 0.7406179462557391, 'kTargetDeterminationTrials': 12, 'kAttractionRatio': 0.6784677261948435, 'kMaxAttractionDistance': 84, 'kStartAttraction': 0.01468944059832108}. Best is trial 107 with value: 5711.050505050505.\u001b[0m\n"
     ]
    },
    {
     "name": "stdout",
     "output_type": "stream",
     "text": [
      "index_parallel='0127'\n"
     ]
    },
    {
     "name": "stderr",
     "output_type": "stream",
     "text": [
      "\u001b[32m[I 2022-08-16 05:19:11,558]\u001b[0m Trial 127 finished with value: 4216.616161616162 and parameters: {'kErase': 4, 'kRadius': 4, 'kAnnealingA': -1.254655610389905, 'kAnnealingB': 2.262529271504534, 'kAnnealingStart': 19.502829043119345, 'kSkipRatio': 0.7536853610653438, 'kTargetDeterminationTrials': 11, 'kAttractionRatio': 0.7450336656616506, 'kMaxAttractionDistance': 77, 'kStartAttraction': 0.003537207131379926}. Best is trial 107 with value: 5711.050505050505.\u001b[0m\n"
     ]
    },
    {
     "name": "stdout",
     "output_type": "stream",
     "text": [
      "index_parallel='0129'\n"
     ]
    },
    {
     "name": "stderr",
     "output_type": "stream",
     "text": [
      "\u001b[32m[I 2022-08-16 05:22:58,274]\u001b[0m Trial 129 finished with value: 5680.383838383838 and parameters: {'kErase': 1, 'kRadius': 2, 'kAnnealingA': 0.7964532935500624, 'kAnnealingB': 2.316425644397062, 'kAnnealingStart': 16.519828817788323, 'kSkipRatio': 0.7252525288484396, 'kTargetDeterminationTrials': 9, 'kAttractionRatio': 0.7937141364745668, 'kMaxAttractionDistance': 19, 'kStartAttraction': 0.0023476456681545054}. Best is trial 107 with value: 5711.050505050505.\u001b[0m\n"
     ]
    },
    {
     "name": "stdout",
     "output_type": "stream",
     "text": [
      "index_parallel='0131'\n"
     ]
    },
    {
     "name": "stderr",
     "output_type": "stream",
     "text": [
      "\u001b[32m[I 2022-08-16 05:26:45,031]\u001b[0m Trial 131 finished with value: 5642.747474747474 and parameters: {'kErase': 1, 'kRadius': 3, 'kAnnealingA': 0.47288429665110265, 'kAnnealingB': 1.6710850663331829, 'kAnnealingStart': 12.995518083848433, 'kSkipRatio': 0.726977375440754, 'kTargetDeterminationTrials': 15, 'kAttractionRatio': 0.6250231431088489, 'kMaxAttractionDistance': 24, 'kStartAttraction': 0.0023666244944532}. Best is trial 107 with value: 5711.050505050505.\u001b[0m\n"
     ]
    },
    {
     "name": "stdout",
     "output_type": "stream",
     "text": [
      "index_parallel='0133'\n"
     ]
    },
    {
     "name": "stderr",
     "output_type": "stream",
     "text": [
      "\u001b[32m[I 2022-08-16 05:30:32,136]\u001b[0m Trial 133 finished with value: 5600.565656565656 and parameters: {'kErase': 1, 'kRadius': 2, 'kAnnealingA': 0.7569801113377642, 'kAnnealingB': 1.4648670058347224, 'kAnnealingStart': 12.931049096803688, 'kSkipRatio': 0.7107445925775158, 'kTargetDeterminationTrials': 12, 'kAttractionRatio': 0.6208570127587945, 'kMaxAttractionDistance': 24, 'kStartAttraction': 0.0017712354271745359}. Best is trial 107 with value: 5711.050505050505.\u001b[0m\n"
     ]
    },
    {
     "name": "stdout",
     "output_type": "stream",
     "text": [
      "index_parallel='0135'\n"
     ]
    },
    {
     "name": "stderr",
     "output_type": "stream",
     "text": [
      "\u001b[32m[I 2022-08-16 05:34:18,967]\u001b[0m Trial 135 finished with value: 5654.141414141414 and parameters: {'kErase': 1, 'kRadius': 2, 'kAnnealingA': 2.3959052644733885, 'kAnnealingB': 1.2649086267955523, 'kAnnealingStart': 13.18504917515257, 'kSkipRatio': 0.7751623419947243, 'kTargetDeterminationTrials': 15, 'kAttractionRatio': 0.3069184419020984, 'kMaxAttractionDistance': 21, 'kStartAttraction': 0.005992851123795585}. Best is trial 107 with value: 5711.050505050505.\u001b[0m\n"
     ]
    },
    {
     "name": "stdout",
     "output_type": "stream",
     "text": [
      "index_parallel='0137'\n"
     ]
    },
    {
     "name": "stderr",
     "output_type": "stream",
     "text": [
      "\u001b[32m[I 2022-08-16 05:38:05,528]\u001b[0m Trial 137 finished with value: 5568.378787878788 and parameters: {'kErase': 1, 'kRadius': 2, 'kAnnealingA': 2.419747614334101, 'kAnnealingB': 1.32883599076416, 'kAnnealingStart': 18.28333848624021, 'kSkipRatio': 0.7725305475873467, 'kTargetDeterminationTrials': 15, 'kAttractionRatio': 0.32668971207965447, 'kMaxAttractionDistance': 27, 'kStartAttraction': 0.006374721884569441}. Best is trial 107 with value: 5711.050505050505.\u001b[0m\n"
     ]
    },
    {
     "name": "stdout",
     "output_type": "stream",
     "text": [
      "index_parallel='0139'\n"
     ]
    },
    {
     "name": "stderr",
     "output_type": "stream",
     "text": [
      "\u001b[32m[I 2022-08-16 05:41:52,276]\u001b[0m Trial 139 finished with value: 5606.924242424242 and parameters: {'kErase': 1, 'kRadius': 2, 'kAnnealingA': -1.6491164736058237, 'kAnnealingB': 1.3391061265876725, 'kAnnealingStart': 25.731614463191622, 'kSkipRatio': 0.7445621580711526, 'kTargetDeterminationTrials': 10, 'kAttractionRatio': 0.37680607772970254, 'kMaxAttractionDistance': 36, 'kStartAttraction': 0.00930519174317433}. Best is trial 107 with value: 5711.050505050505.\u001b[0m\n"
     ]
    },
    {
     "name": "stdout",
     "output_type": "stream",
     "text": [
      "index_parallel='0141'\n"
     ]
    },
    {
     "name": "stderr",
     "output_type": "stream",
     "text": [
      "\u001b[32m[I 2022-08-16 05:45:39,139]\u001b[0m Trial 141 finished with value: 5442.095959595959 and parameters: {'kErase': 1, 'kRadius': 2, 'kAnnealingA': 4.023268765046551, 'kAnnealingB': 2.335673721483758, 'kAnnealingStart': 21.758436730134623, 'kSkipRatio': 0.7392783221863746, 'kTargetDeterminationTrials': 16, 'kAttractionRatio': 0.8995740821869317, 'kMaxAttractionDistance': 21, 'kStartAttraction': 0.004109017142630913}. Best is trial 107 with value: 5711.050505050505.\u001b[0m\n"
     ]
    },
    {
     "name": "stdout",
     "output_type": "stream",
     "text": [
      "index_parallel='0143'\n"
     ]
    },
    {
     "name": "stderr",
     "output_type": "stream",
     "text": [
      "\u001b[32m[I 2022-08-16 05:49:25,935]\u001b[0m Trial 143 finished with value: 5554.262626262626 and parameters: {'kErase': 1, 'kRadius': 2, 'kAnnealingA': 2.4270386638495944, 'kAnnealingB': 1.423001935974815, 'kAnnealingStart': 17.352200764461127, 'kSkipRatio': 0.7954460198945603, 'kTargetDeterminationTrials': 18, 'kAttractionRatio': 0.2852276890944773, 'kMaxAttractionDistance': 19, 'kStartAttraction': 0.005641327455033282}. Best is trial 107 with value: 5711.050505050505.\u001b[0m\n"
     ]
    },
    {
     "name": "stdout",
     "output_type": "stream",
     "text": [
      "index_parallel='0145'\n"
     ]
    },
    {
     "name": "stderr",
     "output_type": "stream",
     "text": [
      "\u001b[32m[I 2022-08-16 05:53:12,808]\u001b[0m Trial 145 finished with value: 5551.550505050505 and parameters: {'kErase': 1, 'kRadius': 2, 'kAnnealingA': -0.00029039623196314146, 'kAnnealingB': 1.0720732389301886, 'kAnnealingStart': 11.499596377508007, 'kSkipRatio': 0.7608796473297286, 'kTargetDeterminationTrials': 14, 'kAttractionRatio': 0.2510878224105848, 'kMaxAttractionDistance': 15, 'kStartAttraction': 0.007008049207328888}. Best is trial 107 with value: 5711.050505050505.\u001b[0m\n"
     ]
    },
    {
     "name": "stdout",
     "output_type": "stream",
     "text": [
      "index_parallel='0147'\n"
     ]
    },
    {
     "name": "stderr",
     "output_type": "stream",
     "text": [
      "\u001b[32m[I 2022-08-16 05:56:59,426]\u001b[0m Trial 147 finished with value: 5549.833333333333 and parameters: {'kErase': 1, 'kRadius': 2, 'kAnnealingA': 1.2668990147477657, 'kAnnealingB': 1.9155868923453983, 'kAnnealingStart': 20.077958616462517, 'kSkipRatio': 0.7997603584206654, 'kTargetDeterminationTrials': 8, 'kAttractionRatio': 0.3328127529644601, 'kMaxAttractionDistance': 21, 'kStartAttraction': 0.01383155200305682}. Best is trial 107 with value: 5711.050505050505.\u001b[0m\n"
     ]
    },
    {
     "name": "stdout",
     "output_type": "stream",
     "text": [
      "index_parallel='0149'\n"
     ]
    },
    {
     "name": "stderr",
     "output_type": "stream",
     "text": [
      "\u001b[32m[I 2022-08-16 06:00:46,555]\u001b[0m Trial 149 finished with value: 5629.459595959596 and parameters: {'kErase': 1, 'kRadius': 2, 'kAnnealingA': -0.622663208724723, 'kAnnealingB': 1.5949927903111036, 'kAnnealingStart': 10.486294226317412, 'kSkipRatio': 0.7471882897773913, 'kTargetDeterminationTrials': 9, 'kAttractionRatio': 0.41253742484344463, 'kMaxAttractionDistance': 53, 'kStartAttraction': 0.004886690687764055}. Best is trial 107 with value: 5711.050505050505.\u001b[0m\n"
     ]
    },
    {
     "name": "stdout",
     "output_type": "stream",
     "text": [
      "index_parallel='0151'\n"
     ]
    },
    {
     "name": "stderr",
     "output_type": "stream",
     "text": [
      "\u001b[32m[I 2022-08-16 06:04:33,156]\u001b[0m Trial 151 finished with value: 4283.727272727273 and parameters: {'kErase': 1, 'kRadius': 6, 'kAnnealingA': 0.8806791314920022, 'kAnnealingB': 1.7429574703559598, 'kAnnealingStart': 52.261898060655284, 'kSkipRatio': 0.7831925135813078, 'kTargetDeterminationTrials': 9, 'kAttractionRatio': 0.012333422493435251, 'kMaxAttractionDistance': 69, 'kStartAttraction': 0.0037480513955045476}. Best is trial 107 with value: 5711.050505050505.\u001b[0m\n"
     ]
    },
    {
     "name": "stdout",
     "output_type": "stream",
     "text": [
      "index_parallel='0153'\n"
     ]
    },
    {
     "name": "stderr",
     "output_type": "stream",
     "text": [
      "\u001b[32m[I 2022-08-16 06:08:20,092]\u001b[0m Trial 153 finished with value: 5654.99494949495 and parameters: {'kErase': 1, 'kRadius': 2, 'kAnnealingA': 1.8455565245255374, 'kAnnealingB': 1.0997210800185764, 'kAnnealingStart': 14.335748075426512, 'kSkipRatio': 0.7751636705027545, 'kTargetDeterminationTrials': 15, 'kAttractionRatio': 0.26150172370199004, 'kMaxAttractionDistance': 60, 'kStartAttraction': 0.005097349291055874}. Best is trial 107 with value: 5711.050505050505.\u001b[0m\n"
     ]
    },
    {
     "name": "stdout",
     "output_type": "stream",
     "text": [
      "index_parallel='0155'\n"
     ]
    },
    {
     "name": "stderr",
     "output_type": "stream",
     "text": [
      "\u001b[32m[I 2022-08-16 06:12:06,914]\u001b[0m Trial 155 finished with value: 5631.247474747474 and parameters: {'kErase': 1, 'kRadius': 2, 'kAnnealingA': 2.978932678863224, 'kAnnealingB': 2.8644025223175875, 'kAnnealingStart': 15.315729324551228, 'kSkipRatio': 0.768740940367369, 'kTargetDeterminationTrials': 13, 'kAttractionRatio': 0.25554072274076683, 'kMaxAttractionDistance': 61, 'kStartAttraction': 0.0050948693943661605}. Best is trial 107 with value: 5711.050505050505.\u001b[0m\n"
     ]
    },
    {
     "name": "stdout",
     "output_type": "stream",
     "text": [
      "index_parallel='0157'\n"
     ]
    },
    {
     "name": "stderr",
     "output_type": "stream",
     "text": [
      "\u001b[32m[I 2022-08-16 06:15:53,812]\u001b[0m Trial 157 finished with value: 5452.121212121212 and parameters: {'kErase': 1, 'kRadius': 2, 'kAnnealingA': 1.122150990440337, 'kAnnealingB': 2.6196781938550866, 'kAnnealingStart': 23.375181707883637, 'kSkipRatio': 0.7356255989831867, 'kTargetDeterminationTrials': 14, 'kAttractionRatio': 0.21854228847159918, 'kMaxAttractionDistance': 58, 'kStartAttraction': 0.0076412375022650685}. Best is trial 107 with value: 5711.050505050505.\u001b[0m\n"
     ]
    },
    {
     "name": "stdout",
     "output_type": "stream",
     "text": [
      "index_parallel='0159'\n"
     ]
    },
    {
     "name": "stderr",
     "output_type": "stream",
     "text": [
      "\u001b[32m[I 2022-08-16 06:19:40,703]\u001b[0m Trial 159 finished with value: 5471.085858585859 and parameters: {'kErase': 1, 'kRadius': 2, 'kAnnealingA': 0.2918387818346966, 'kAnnealingB': 0.8374613905771356, 'kAnnealingStart': 12.170243482070617, 'kSkipRatio': 0.7499058418932598, 'kTargetDeterminationTrials': 11, 'kAttractionRatio': 0.023504298495410695, 'kMaxAttractionDistance': 85, 'kStartAttraction': 0.010609230071044865}. Best is trial 107 with value: 5711.050505050505.\u001b[0m\n"
     ]
    },
    {
     "name": "stdout",
     "output_type": "stream",
     "text": [
      "index_parallel='0161'\n"
     ]
    },
    {
     "name": "stderr",
     "output_type": "stream",
     "text": [
      "\u001b[32m[I 2022-08-16 06:23:27,436]\u001b[0m Trial 161 finished with value: 5580.818181818182 and parameters: {'kErase': 1, 'kRadius': 2, 'kAnnealingA': 1.8446494330933052, 'kAnnealingB': 0.5183258266093037, 'kAnnealingStart': 11.429268798707009, 'kSkipRatio': 0.7159020078500506, 'kTargetDeterminationTrials': 10, 'kAttractionRatio': 0.17987964641122467, 'kMaxAttractionDistance': 94, 'kStartAttraction': 0.013696608869970315}. Best is trial 107 with value: 5711.050505050505.\u001b[0m\n"
     ]
    },
    {
     "name": "stdout",
     "output_type": "stream",
     "text": [
      "index_parallel='0163'\n"
     ]
    },
    {
     "name": "stderr",
     "output_type": "stream",
     "text": [
      "\u001b[32m[I 2022-08-16 06:27:14,518]\u001b[0m Trial 163 finished with value: 5561.116161616162 and parameters: {'kErase': 1, 'kRadius': 2, 'kAnnealingA': 0.17246724717768425, 'kAnnealingB': 0.07963997576319692, 'kAnnealingStart': 13.709785605279968, 'kSkipRatio': 0.7725841443645691, 'kTargetDeterminationTrials': 9, 'kAttractionRatio': 0.2743200826838358, 'kMaxAttractionDistance': 72, 'kStartAttraction': 0.018764848719428427}. Best is trial 107 with value: 5711.050505050505.\u001b[0m\n"
     ]
    },
    {
     "name": "stdout",
     "output_type": "stream",
     "text": [
      "index_parallel='0165'\n"
     ]
    },
    {
     "name": "stderr",
     "output_type": "stream",
     "text": [
      "\u001b[32m[I 2022-08-16 06:31:00,929]\u001b[0m Trial 165 finished with value: 5653.19191919192 and parameters: {'kErase': 1, 'kRadius': 2, 'kAnnealingA': 3.3650087472082726, 'kAnnealingB': 0.09481794283864825, 'kAnnealingStart': 13.880898224949629, 'kSkipRatio': 0.7656918462084702, 'kTargetDeterminationTrials': 10, 'kAttractionRatio': 0.7599237188113375, 'kMaxAttractionDistance': 99, 'kStartAttraction': 0.015488115614226194}. Best is trial 107 with value: 5711.050505050505.\u001b[0m\n"
     ]
    },
    {
     "name": "stdout",
     "output_type": "stream",
     "text": [
      "index_parallel='0167'\n"
     ]
    },
    {
     "name": "stderr",
     "output_type": "stream",
     "text": [
      "\u001b[32m[I 2022-08-16 06:34:47,676]\u001b[0m Trial 167 finished with value: 5607.373737373738 and parameters: {'kErase': 1, 'kRadius': 2, 'kAnnealingA': 0.8729136804225897, 'kAnnealingB': 0.5568814739624127, 'kAnnealingStart': 9.76513534301939, 'kSkipRatio': 0.7912891111563144, 'kTargetDeterminationTrials': 12, 'kAttractionRatio': 0.19027546711050772, 'kMaxAttractionDistance': 88, 'kStartAttraction': 0.01173244611748913}. Best is trial 107 with value: 5711.050505050505.\u001b[0m\n"
     ]
    },
    {
     "name": "stdout",
     "output_type": "stream",
     "text": [
      "index_parallel='0169'\n"
     ]
    },
    {
     "name": "stderr",
     "output_type": "stream",
     "text": [
      "\u001b[32m[I 2022-08-16 06:38:34,801]\u001b[0m Trial 169 finished with value: 5556.313131313132 and parameters: {'kErase': 1, 'kRadius': 2, 'kAnnealingA': 2.0526999431055484, 'kAnnealingB': 0.3299989501967867, 'kAnnealingStart': 16.849250087362314, 'kSkipRatio': 0.7552556546347938, 'kTargetDeterminationTrials': 8, 'kAttractionRatio': 0.14391411575534824, 'kMaxAttractionDistance': 77, 'kStartAttraction': 0.009319235488603334}. Best is trial 107 with value: 5711.050505050505.\u001b[0m\n"
     ]
    },
    {
     "name": "stdout",
     "output_type": "stream",
     "text": [
      "index_parallel='0171'\n"
     ]
    },
    {
     "name": "stderr",
     "output_type": "stream",
     "text": [
      "\u001b[32m[I 2022-08-16 06:42:21,667]\u001b[0m Trial 171 finished with value: 5614.212121212121 and parameters: {'kErase': 1, 'kRadius': 2, 'kAnnealingA': -0.20524496811625192, 'kAnnealingB': 0.8955451597557842, 'kAnnealingStart': 18.34757965027457, 'kSkipRatio': 0.7399234782178139, 'kTargetDeterminationTrials': 11, 'kAttractionRatio': 0.1611700236720242, 'kMaxAttractionDistance': 66, 'kStartAttraction': 0.004573998828660729}. Best is trial 107 with value: 5711.050505050505.\u001b[0m\n"
     ]
    },
    {
     "name": "stdout",
     "output_type": "stream",
     "text": [
      "index_parallel='0173'\n"
     ]
    },
    {
     "name": "stderr",
     "output_type": "stream",
     "text": [
      "\u001b[32m[I 2022-08-16 06:46:09,497]\u001b[0m Trial 173 finished with value: 5596.055555555556 and parameters: {'kErase': 1, 'kRadius': 2, 'kAnnealingA': 0.48964877369251425, 'kAnnealingB': 1.1066289286870914, 'kAnnealingStart': 15.171345009613555, 'kSkipRatio': 0.7824461140214187, 'kTargetDeterminationTrials': 9, 'kAttractionRatio': 0.24892579566905243, 'kMaxAttractionDistance': 73, 'kStartAttraction': 0.029355625460517894}. Best is trial 107 with value: 5711.050505050505.\u001b[0m\n"
     ]
    },
    {
     "name": "stdout",
     "output_type": "stream",
     "text": [
      "index_parallel='0175'\n"
     ]
    },
    {
     "name": "stderr",
     "output_type": "stream",
     "text": [
      "\u001b[32m[I 2022-08-16 06:49:56,023]\u001b[0m Trial 175 finished with value: 5652.328282828283 and parameters: {'kErase': 1, 'kRadius': 2, 'kAnnealingA': -1.3047408483225365, 'kAnnealingB': 2.3003495367393083, 'kAnnealingStart': 12.482094563607028, 'kSkipRatio': 0.7006371132198924, 'kTargetDeterminationTrials': 9, 'kAttractionRatio': 0.3488128881326729, 'kMaxAttractionDistance': 56, 'kStartAttraction': 0.020775018184813844}. Best is trial 107 with value: 5711.050505050505.\u001b[0m\n"
     ]
    },
    {
     "name": "stdout",
     "output_type": "stream",
     "text": [
      "index_parallel='0177'\n"
     ]
    },
    {
     "name": "stderr",
     "output_type": "stream",
     "text": [
      "\u001b[32m[I 2022-08-16 06:53:43,963]\u001b[0m Trial 177 finished with value: 5617.00505050505 and parameters: {'kErase': 1, 'kRadius': 2, 'kAnnealingA': 1.4395693987492408, 'kAnnealingB': 0.3807066430072725, 'kAnnealingStart': 16.317888870103616, 'kSkipRatio': 0.7636998388606369, 'kTargetDeterminationTrials': 8, 'kAttractionRatio': 0.8060370535436031, 'kMaxAttractionDistance': 61, 'kStartAttraction': 0.024041561394334852}. Best is trial 107 with value: 5711.050505050505.\u001b[0m\n"
     ]
    },
    {
     "name": "stdout",
     "output_type": "stream",
     "text": [
      "index_parallel='0179'\n"
     ]
    },
    {
     "name": "stderr",
     "output_type": "stream",
     "text": [
      "\u001b[32m[I 2022-08-16 06:57:30,748]\u001b[0m Trial 179 finished with value: 5483.616161616162 and parameters: {'kErase': 1, 'kRadius': 2, 'kAnnealingA': 2.603493334338027, 'kAnnealingB': 2.7672028829890163, 'kAnnealingStart': 20.503688292004483, 'kSkipRatio': 0.7997292234890282, 'kTargetDeterminationTrials': 14, 'kAttractionRatio': 0.3205410043648095, 'kMaxAttractionDistance': 50, 'kStartAttraction': 0.006259033317213754}. Best is trial 107 with value: 5711.050505050505.\u001b[0m\n"
     ]
    },
    {
     "name": "stdout",
     "output_type": "stream",
     "text": [
      "index_parallel='0181'\n"
     ]
    },
    {
     "name": "stderr",
     "output_type": "stream",
     "text": [
      "\u001b[32m[I 2022-08-16 07:01:18,653]\u001b[0m Trial 181 finished with value: 5580.030303030303 and parameters: {'kErase': 1, 'kRadius': 2, 'kAnnealingA': 1.5649509074239356, 'kAnnealingB': 0.7618055704463982, 'kAnnealingStart': 17.956159305624745, 'kSkipRatio': 0.7446289073922592, 'kTargetDeterminationTrials': 10, 'kAttractionRatio': 0.20531317241624322, 'kMaxAttractionDistance': 66, 'kStartAttraction': 0.008935684093998563}. Best is trial 107 with value: 5711.050505050505.\u001b[0m\n"
     ]
    },
    {
     "name": "stdout",
     "output_type": "stream",
     "text": [
      "index_parallel='0183'\n"
     ]
    },
    {
     "name": "stderr",
     "output_type": "stream",
     "text": [
      "\u001b[32m[I 2022-08-16 07:05:05,464]\u001b[0m Trial 183 finished with value: 5608.904040404041 and parameters: {'kErase': 1, 'kRadius': 2, 'kAnnealingA': 2.2285422936150896, 'kAnnealingB': 2.852423924630463, 'kAnnealingStart': 13.159202232120474, 'kSkipRatio': 0.7772010471210018, 'kTargetDeterminationTrials': 16, 'kAttractionRatio': 0.2850152321795739, 'kMaxAttractionDistance': 18, 'kStartAttraction': 0.0012620108368666583}. Best is trial 107 with value: 5711.050505050505.\u001b[0m\n"
     ]
    },
    {
     "name": "stdout",
     "output_type": "stream",
     "text": [
      "index_parallel='0185'\n"
     ]
    },
    {
     "name": "stderr",
     "output_type": "stream",
     "text": [
      "\u001b[32m[I 2022-08-16 07:08:52,217]\u001b[0m Trial 185 finished with value: 5597.217171717171 and parameters: {'kErase': 1, 'kRadius': 2, 'kAnnealingA': 0.27575042060386523, 'kAnnealingB': 1.1808521916733974, 'kAnnealingStart': 10.669356444818861, 'kSkipRatio': 0.7604710739590108, 'kTargetDeterminationTrials': 13, 'kAttractionRatio': 0.3570856784140051, 'kMaxAttractionDistance': 73, 'kStartAttraction': 0.006814307633146469}. Best is trial 107 with value: 5711.050505050505.\u001b[0m\n"
     ]
    },
    {
     "name": "stdout",
     "output_type": "stream",
     "text": [
      "index_parallel='0187'\n"
     ]
    },
    {
     "name": "stderr",
     "output_type": "stream",
     "text": [
      "\u001b[32m[I 2022-08-16 07:12:40,027]\u001b[0m Trial 187 finished with value: 4359.348484848485 and parameters: {'kErase': 5, 'kRadius': 2, 'kAnnealingA': 0.963582992408416, 'kAnnealingB': 2.904704809677148, 'kAnnealingStart': 14.663701950634668, 'kSkipRatio': 0.7197357606950137, 'kTargetDeterminationTrials': 18, 'kAttractionRatio': 0.8928473201253406, 'kMaxAttractionDistance': 61, 'kStartAttraction': 0.003114093850123315}. Best is trial 107 with value: 5711.050505050505.\u001b[0m\n"
     ]
    },
    {
     "name": "stdout",
     "output_type": "stream",
     "text": [
      "index_parallel='0189'\n"
     ]
    },
    {
     "name": "stderr",
     "output_type": "stream",
     "text": [
      "\u001b[32m[I 2022-08-16 07:16:26,964]\u001b[0m Trial 189 finished with value: 5590.904040404041 and parameters: {'kErase': 1, 'kRadius': 2, 'kAnnealingA': 1.7156528778543148, 'kAnnealingB': 1.0895139889355776, 'kAnnealingStart': 12.497615680242177, 'kSkipRatio': 0.7867872068151217, 'kTargetDeterminationTrials': 14, 'kAttractionRatio': 0.47324457662912883, 'kMaxAttractionDistance': 21, 'kStartAttraction': 0.004575745464810242}. Best is trial 107 with value: 5711.050505050505.\u001b[0m\n"
     ]
    },
    {
     "name": "stdout",
     "output_type": "stream",
     "text": [
      "index_parallel='0191'\n"
     ]
    },
    {
     "name": "stderr",
     "output_type": "stream",
     "text": [
      "\u001b[32m[I 2022-08-16 07:20:13,976]\u001b[0m Trial 191 finished with value: 5632.853535353535 and parameters: {'kErase': 1, 'kRadius': 2, 'kAnnealingA': -0.28001300548480423, 'kAnnealingB': 2.219808361901438, 'kAnnealingStart': 18.431944718396917, 'kSkipRatio': 0.7305762230339093, 'kTargetDeterminationTrials': 20, 'kAttractionRatio': 0.7235369579220863, 'kMaxAttractionDistance': 46, 'kStartAttraction': 0.011126295969838261}. Best is trial 107 with value: 5711.050505050505.\u001b[0m\n"
     ]
    },
    {
     "name": "stdout",
     "output_type": "stream",
     "text": [
      "index_parallel='0193'\n"
     ]
    },
    {
     "name": "stderr",
     "output_type": "stream",
     "text": [
      "\u001b[32m[I 2022-08-16 07:24:00,680]\u001b[0m Trial 193 finished with value: 5602.737373737374 and parameters: {'kErase': 1, 'kRadius': 2, 'kAnnealingA': 4.36324662150558, 'kAnnealingB': 0.20408336680264683, 'kAnnealingStart': 16.048761740036888, 'kSkipRatio': 0.7672693561407951, 'kTargetDeterminationTrials': 10, 'kAttractionRatio': 0.7431884128155847, 'kMaxAttractionDistance': 93, 'kStartAttraction': 0.014762304283487435}. Best is trial 107 with value: 5711.050505050505.\u001b[0m\n"
     ]
    },
    {
     "name": "stdout",
     "output_type": "stream",
     "text": [
      "index_parallel='0195'\n"
     ]
    },
    {
     "name": "stderr",
     "output_type": "stream",
     "text": [
      "\u001b[32m[I 2022-08-16 07:27:47,689]\u001b[0m Trial 195 finished with value: 5671.262626262626 and parameters: {'kErase': 1, 'kRadius': 2, 'kAnnealingA': 2.6758304732894316, 'kAnnealingB': 0.15333267245701643, 'kAnnealingStart': 13.968204223911865, 'kSkipRatio': 0.7459392167147632, 'kTargetDeterminationTrials': 11, 'kAttractionRatio': 0.6525963194002522, 'kMaxAttractionDistance': 83, 'kStartAttraction': 0.001900132596588797}. Best is trial 107 with value: 5711.050505050505.\u001b[0m\n"
     ]
    },
    {
     "name": "stdout",
     "output_type": "stream",
     "text": [
      "index_parallel='0197'\n"
     ]
    },
    {
     "name": "stderr",
     "output_type": "stream",
     "text": [
      "\u001b[32m[I 2022-08-16 07:31:35,358]\u001b[0m Trial 197 finished with value: 4740.282828282829 and parameters: {'kErase': 4, 'kRadius': 2, 'kAnnealingA': 2.80096116625133, 'kAnnealingB': 1.8881825942875514, 'kAnnealingStart': 8.547351486134774, 'kSkipRatio': 0.7397618616975734, 'kTargetDeterminationTrials': 11, 'kAttractionRatio': 0.6373013894591606, 'kMaxAttractionDistance': 82, 'kStartAttraction': 0.0019262763331412234}. Best is trial 107 with value: 5711.050505050505.\u001b[0m\n"
     ]
    },
    {
     "name": "stdout",
     "output_type": "stream",
     "text": [
      "index_parallel='0199'\n"
     ]
    },
    {
     "name": "stderr",
     "output_type": "stream",
     "text": [
      "\u001b[32m[I 2022-08-16 07:35:21,914]\u001b[0m Trial 199 finished with value: 5670.515151515152 and parameters: {'kErase': 1, 'kRadius': 2, 'kAnnealingA': 2.150838451992117, 'kAnnealingB': 0.2679856020952992, 'kAnnealingStart': 11.781170592843232, 'kSkipRatio': 0.7554967928965419, 'kTargetDeterminationTrials': 9, 'kAttractionRatio': 0.6599829180262908, 'kMaxAttractionDistance': 64, 'kStartAttraction': 0.00585909897111139}. Best is trial 107 with value: 5711.050505050505.\u001b[0m\n"
     ]
    },
    {
     "name": "stdout",
     "output_type": "stream",
     "text": [
      "index_parallel='0201'\n"
     ]
    },
    {
     "name": "stderr",
     "output_type": "stream",
     "text": [
      "\u001b[32m[I 2022-08-16 07:39:08,965]\u001b[0m Trial 201 finished with value: 5629.888888888889 and parameters: {'kErase': 1, 'kRadius': 2, 'kAnnealingA': 2.0311485127541964, 'kAnnealingB': 0.2628344002398492, 'kAnnealingStart': 11.579402124216086, 'kSkipRatio': 0.7094570391283884, 'kTargetDeterminationTrials': 8, 'kAttractionRatio': 0.5423838538711324, 'kMaxAttractionDistance': 55, 'kStartAttraction': 0.0013349483332312847}. Best is trial 107 with value: 5711.050505050505.\u001b[0m\n"
     ]
    },
    {
     "name": "stdout",
     "output_type": "stream",
     "text": [
      "index_parallel='0203'\n"
     ]
    },
    {
     "name": "stderr",
     "output_type": "stream",
     "text": [
      "\u001b[32m[I 2022-08-16 07:42:55,891]\u001b[0m Trial 203 finished with value: 5653.863636363636 and parameters: {'kErase': 1, 'kRadius': 2, 'kAnnealingA': 1.4447687423499085, 'kAnnealingB': 0.17594259373552662, 'kAnnealingStart': 15.262778598145573, 'kSkipRatio': 0.7312035733053386, 'kTargetDeterminationTrials': 9, 'kAttractionRatio': 0.6548595308429532, 'kMaxAttractionDistance': 69, 'kStartAttraction': 0.005633080754621407}. Best is trial 107 with value: 5711.050505050505.\u001b[0m\n"
     ]
    },
    {
     "name": "stdout",
     "output_type": "stream",
     "text": [
      "index_parallel='0205'\n"
     ]
    },
    {
     "name": "stderr",
     "output_type": "stream",
     "text": [
      "\u001b[32m[I 2022-08-16 07:46:42,685]\u001b[0m Trial 205 finished with value: 5592.252525252526 and parameters: {'kErase': 1, 'kRadius': 2, 'kAnnealingA': 0.571857077722844, 'kAnnealingB': 0.028263640277662844, 'kAnnealingStart': 19.15524754859946, 'kSkipRatio': 0.7568962761788853, 'kTargetDeterminationTrials': 8, 'kAttractionRatio': 0.641983982203215, 'kMaxAttractionDistance': 59, 'kStartAttraction': 0.002101696674519792}. Best is trial 107 with value: 5711.050505050505.\u001b[0m\n"
     ]
    },
    {
     "name": "stdout",
     "output_type": "stream",
     "text": [
      "index_parallel='0207'\n"
     ]
    },
    {
     "name": "stderr",
     "output_type": "stream",
     "text": [
      "\u001b[32m[I 2022-08-16 07:50:29,525]\u001b[0m Trial 207 finished with value: 5656.656565656565 and parameters: {'kErase': 1, 'kRadius': 2, 'kAnnealingA': -0.6871621592428571, 'kAnnealingB': 1.8003558563301227, 'kAnnealingStart': 17.150266695737567, 'kSkipRatio': 0.7450751941481101, 'kTargetDeterminationTrials': 7, 'kAttractionRatio': 0.7108086868610999, 'kMaxAttractionDistance': 75, 'kStartAttraction': 0.007938259097935007}. Best is trial 107 with value: 5711.050505050505.\u001b[0m\n"
     ]
    },
    {
     "name": "stdout",
     "output_type": "stream",
     "text": [
      "index_parallel='0209'\n"
     ]
    },
    {
     "name": "stderr",
     "output_type": "stream",
     "text": [
      "\u001b[32m[I 2022-08-16 07:54:16,187]\u001b[0m Trial 209 finished with value: 5615.676767676768 and parameters: {'kErase': 1, 'kRadius': 2, 'kAnnealingA': -0.2326505727039643, 'kAnnealingB': 1.8107298278296529, 'kAnnealingStart': 22.75525715089482, 'kSkipRatio': 0.7441730467396749, 'kTargetDeterminationTrials': 7, 'kAttractionRatio': 0.85109081090118, 'kMaxAttractionDistance': 76, 'kStartAttraction': 0.002578590660808251}. Best is trial 107 with value: 5711.050505050505.\u001b[0m\n"
     ]
    },
    {
     "name": "stdout",
     "output_type": "stream",
     "text": [
      "index_parallel='0211'\n"
     ]
    },
    {
     "name": "stderr",
     "output_type": "stream",
     "text": [
      "\u001b[32m[I 2022-08-16 07:58:03,018]\u001b[0m Trial 211 finished with value: 5585.176767676768 and parameters: {'kErase': 1, 'kRadius': 2, 'kAnnealingA': -0.8620942971460186, 'kAnnealingB': 0.1288837699764443, 'kAnnealingStart': 11.965626735136325, 'kSkipRatio': 0.3248346387095007, 'kTargetDeterminationTrials': 11, 'kAttractionRatio': 0.7851843632820236, 'kMaxAttractionDistance': 63, 'kStartAttraction': 0.007868343971184985}. Best is trial 107 with value: 5711.050505050505.\u001b[0m\n"
     ]
    },
    {
     "name": "stdout",
     "output_type": "stream",
     "text": [
      "index_parallel='0213'\n"
     ]
    },
    {
     "name": "stderr",
     "output_type": "stream",
     "text": [
      "\u001b[32m[I 2022-08-16 08:01:49,881]\u001b[0m Trial 213 finished with value: 5648.106060606061 and parameters: {'kErase': 1, 'kRadius': 2, 'kAnnealingA': 1.697013645412633, 'kAnnealingB': 2.7462546038751507, 'kAnnealingStart': 14.351426886284477, 'kSkipRatio': 0.766784825569337, 'kTargetDeterminationTrials': 7, 'kAttractionRatio': 0.7214009665538561, 'kMaxAttractionDistance': 70, 'kStartAttraction': 0.006848336344711837}. Best is trial 107 with value: 5711.050505050505.\u001b[0m\n"
     ]
    },
    {
     "name": "stdout",
     "output_type": "stream",
     "text": [
      "index_parallel='0215'\n"
     ]
    },
    {
     "name": "stderr",
     "output_type": "stream",
     "text": [
      "\u001b[32m[I 2022-08-16 08:05:36,836]\u001b[0m Trial 215 finished with value: 5651.267676767677 and parameters: {'kErase': 1, 'kRadius': 2, 'kAnnealingA': 1.080144664189533, 'kAnnealingB': 1.9839484867657313, 'kAnnealingStart': 17.23331388632941, 'kSkipRatio': 0.7776292670272268, 'kTargetDeterminationTrials': 9, 'kAttractionRatio': 0.5807313422725482, 'kMaxAttractionDistance': 86, 'kStartAttraction': 0.0014789462240024482}. Best is trial 107 with value: 5711.050505050505.\u001b[0m\n"
     ]
    },
    {
     "name": "stdout",
     "output_type": "stream",
     "text": [
      "index_parallel='0217'\n"
     ]
    },
    {
     "name": "stderr",
     "output_type": "stream",
     "text": [
      "\u001b[32m[I 2022-08-16 08:09:23,669]\u001b[0m Trial 217 finished with value: 5603.227272727273 and parameters: {'kErase': 1, 'kRadius': 2, 'kAnnealingA': 0.3772077474530846, 'kAnnealingB': 0.4465548054550277, 'kAnnealingStart': 15.790642296434122, 'kSkipRatio': 0.7515229944129931, 'kTargetDeterminationTrials': 8, 'kAttractionRatio': 0.24064982894164919, 'kMaxAttractionDistance': 79, 'kStartAttraction': 0.009997828859236533}. Best is trial 107 with value: 5711.050505050505.\u001b[0m\n"
     ]
    },
    {
     "name": "stdout",
     "output_type": "stream",
     "text": [
      "index_parallel='0219'\n"
     ]
    },
    {
     "name": "stderr",
     "output_type": "stream",
     "text": [
      "\u001b[32m[I 2022-08-16 08:13:10,344]\u001b[0m Trial 219 finished with value: 5653.606060606061 and parameters: {'kErase': 1, 'kRadius': 2, 'kAnnealingA': 2.3600693911396022, 'kAnnealingB': 2.3878230181971163, 'kAnnealingStart': 17.473761122739, 'kSkipRatio': 0.7333077494291753, 'kTargetDeterminationTrials': 12, 'kAttractionRatio': 0.6361164432755411, 'kMaxAttractionDistance': 87, 'kStartAttraction': 0.005872616288632635}. Best is trial 107 with value: 5711.050505050505.\u001b[0m\n"
     ]
    },
    {
     "name": "stdout",
     "output_type": "stream",
     "text": [
      "index_parallel='0221'\n"
     ]
    },
    {
     "name": "stderr",
     "output_type": "stream",
     "text": [
      "\u001b[32m[I 2022-08-16 08:16:56,942]\u001b[0m Trial 221 finished with value: 5592.792929292929 and parameters: {'kErase': 1, 'kRadius': 2, 'kAnnealingA': 3.5709005618745437, 'kAnnealingB': 2.5876115265216817, 'kAnnealingStart': 10.174563680587076, 'kSkipRatio': 0.7996937762200941, 'kTargetDeterminationTrials': 10, 'kAttractionRatio': 0.536599700040497, 'kMaxAttractionDistance': 52, 'kStartAttraction': 0.013491896498874023}. Best is trial 107 with value: 5711.050505050505.\u001b[0m\n"
     ]
    },
    {
     "name": "stdout",
     "output_type": "stream",
     "text": [
      "index_parallel='0223'\n"
     ]
    },
    {
     "name": "stderr",
     "output_type": "stream",
     "text": [
      "\u001b[32m[I 2022-08-16 08:20:43,664]\u001b[0m Trial 223 finished with value: 5669.227272727273 and parameters: {'kErase': 1, 'kRadius': 2, 'kAnnealingA': 0.8779073431989846, 'kAnnealingB': 2.666588470547283, 'kAnnealingStart': 15.585051273554992, 'kSkipRatio': 0.7609616318964849, 'kTargetDeterminationTrials': 9, 'kAttractionRatio': 0.5121262951795292, 'kMaxAttractionDistance': 74, 'kStartAttraction': 0.010850784426166086}. Best is trial 107 with value: 5711.050505050505.\u001b[0m\n"
     ]
    },
    {
     "name": "stdout",
     "output_type": "stream",
     "text": [
      "index_parallel='0225'\n"
     ]
    },
    {
     "name": "stderr",
     "output_type": "stream",
     "text": [
      "\u001b[32m[I 2022-08-16 08:24:30,234]\u001b[0m Trial 225 finished with value: 5603.222222222223 and parameters: {'kErase': 1, 'kRadius': 2, 'kAnnealingA': 1.0027287519571555, 'kAnnealingB': 1.8194920655675153, 'kAnnealingStart': 12.675913669771981, 'kSkipRatio': 0.7564681781266408, 'kTargetDeterminationTrials': 10, 'kAttractionRatio': 0.502263900424341, 'kMaxAttractionDistance': 79, 'kStartAttraction': 0.01104593820103918}. Best is trial 107 with value: 5711.050505050505.\u001b[0m\n"
     ]
    },
    {
     "name": "stdout",
     "output_type": "stream",
     "text": [
      "index_parallel='0227'\n"
     ]
    },
    {
     "name": "stderr",
     "output_type": "stream",
     "text": [
      "\u001b[32m[I 2022-08-16 08:28:16,811]\u001b[0m Trial 227 finished with value: 5641.545454545455 and parameters: {'kErase': 1, 'kRadius': 2, 'kAnnealingA': 0.04659229720974278, 'kAnnealingB': 1.8712151429253325, 'kAnnealingStart': 15.886175111144063, 'kSkipRatio': 0.7426188093342307, 'kTargetDeterminationTrials': 8, 'kAttractionRatio': 0.5749072962906153, 'kMaxAttractionDistance': 92, 'kStartAttraction': 0.008672853316520726}. Best is trial 107 with value: 5711.050505050505.\u001b[0m\n"
     ]
    },
    {
     "name": "stdout",
     "output_type": "stream",
     "text": [
      "index_parallel='0229'\n"
     ]
    },
    {
     "name": "stderr",
     "output_type": "stream",
     "text": [
      "\u001b[32m[I 2022-08-16 08:32:03,438]\u001b[0m Trial 229 finished with value: 5716.464646464647 and parameters: {'kErase': 1, 'kRadius': 2, 'kAnnealingA': 0.6087452845947905, 'kAnnealingB': 2.7075576102742063, 'kAnnealingStart': 20.025154808113335, 'kSkipRatio': 0.7665642617122794, 'kTargetDeterminationTrials': 9, 'kAttractionRatio': 0.41254517020977965, 'kMaxAttractionDistance': 66, 'kStartAttraction': 0.00964040221592311}. Best is trial 229 with value: 5716.464646464647.\u001b[0m\n"
     ]
    },
    {
     "name": "stdout",
     "output_type": "stream",
     "text": [
      "Updated! 5716.464646464647\n",
      "index_parallel='0231'\n"
     ]
    },
    {
     "name": "stderr",
     "output_type": "stream",
     "text": [
      "\u001b[32m[I 2022-08-16 08:35:50,153]\u001b[0m Trial 231 finished with value: 5532.939393939394 and parameters: {'kErase': 1, 'kRadius': 2, 'kAnnealingA': 1.574591747370104, 'kAnnealingB': 2.4676210606241566, 'kAnnealingStart': 20.638491278425565, 'kSkipRatio': 0.7659453741863634, 'kTargetDeterminationTrials': 9, 'kAttractionRatio': 0.46271539540477385, 'kMaxAttractionDistance': 95, 'kStartAttraction': 0.009843629616035653}. Best is trial 229 with value: 5716.464646464647.\u001b[0m\n"
     ]
    },
    {
     "name": "stdout",
     "output_type": "stream",
     "text": [
      "index_parallel='0233'\n"
     ]
    },
    {
     "name": "stderr",
     "output_type": "stream",
     "text": [
      "\u001b[32m[I 2022-08-16 08:39:36,798]\u001b[0m Trial 233 finished with value: 5602.540404040404 and parameters: {'kErase': 1, 'kRadius': 2, 'kAnnealingA': 0.8531886294642457, 'kAnnealingB': 2.719565766345388, 'kAnnealingStart': 19.00966733244854, 'kSkipRatio': 0.42597013340875933, 'kTargetDeterminationTrials': 9, 'kAttractionRatio': 0.41365696545195196, 'kMaxAttractionDistance': 66, 'kStartAttraction': 0.008096985469198254}. Best is trial 229 with value: 5716.464646464647.\u001b[0m\n"
     ]
    },
    {
     "name": "stdout",
     "output_type": "stream",
     "text": [
      "index_parallel='0235'\n"
     ]
    },
    {
     "name": "stderr",
     "output_type": "stream",
     "text": [
      "\u001b[32m[I 2022-08-16 08:43:23,416]\u001b[0m Trial 235 finished with value: 5599.257575757576 and parameters: {'kErase': 1, 'kRadius': 2, 'kAnnealingA': -0.5025041595455886, 'kAnnealingB': 2.6545031483079535, 'kAnnealingStart': 11.310705992382598, 'kSkipRatio': 0.7235548173909686, 'kTargetDeterminationTrials': 8, 'kAttractionRatio': 0.438465615977694, 'kMaxAttractionDistance': 85, 'kStartAttraction': 0.012735651295751332}. Best is trial 229 with value: 5716.464646464647.\u001b[0m\n"
     ]
    },
    {
     "name": "stdout",
     "output_type": "stream",
     "text": [
      "index_parallel='0237'\n"
     ]
    },
    {
     "name": "stderr",
     "output_type": "stream",
     "text": [
      "\u001b[32m[I 2022-08-16 08:47:10,009]\u001b[0m Trial 237 finished with value: 5348.575757575758 and parameters: {'kErase': 1, 'kRadius': 2, 'kAnnealingA': 0.4514256262590671, 'kAnnealingB': 2.809467845920687, 'kAnnealingStart': 15.054187053928153, 'kSkipRatio': 0.688722426068624, 'kTargetDeterminationTrials': 7, 'kAttractionRatio': 0.5727068163434423, 'kMaxAttractionDistance': 4, 'kStartAttraction': 0.011374199528743993}. Best is trial 229 with value: 5716.464646464647.\u001b[0m\n"
     ]
    },
    {
     "name": "stdout",
     "output_type": "stream",
     "text": [
      "index_parallel='0239'\n"
     ]
    },
    {
     "name": "stderr",
     "output_type": "stream",
     "text": [
      "\u001b[32m[I 2022-08-16 08:50:56,730]\u001b[0m Trial 239 finished with value: 5605.530303030303 and parameters: {'kErase': 1, 'kRadius': 2, 'kAnnealingA': 1.8587549788480824, 'kAnnealingB': 2.710929626464803, 'kAnnealingStart': 13.813054919347785, 'kSkipRatio': 0.711437425516303, 'kTargetDeterminationTrials': 8, 'kAttractionRatio': 0.3877187415906782, 'kMaxAttractionDistance': 70, 'kStartAttraction': 0.01597970484197726}. Best is trial 229 with value: 5716.464646464647.\u001b[0m\n"
     ]
    },
    {
     "name": "stdout",
     "output_type": "stream",
     "text": [
      "index_parallel='0241'\n"
     ]
    },
    {
     "name": "stderr",
     "output_type": "stream",
     "text": [
      "\u001b[32m[I 2022-08-16 08:54:43,538]\u001b[0m Trial 241 finished with value: 5661.383838383838 and parameters: {'kErase': 1, 'kRadius': 2, 'kAnnealingA': -0.08486327539054783, 'kAnnealingB': 2.6751116268058373, 'kAnnealingStart': 11.143565111551437, 'kSkipRatio': 0.7265471961161493, 'kTargetDeterminationTrials': 10, 'kAttractionRatio': 0.4314321476258219, 'kMaxAttractionDistance': 56, 'kStartAttraction': 0.018942783848644874}. Best is trial 229 with value: 5716.464646464647.\u001b[0m\n"
     ]
    },
    {
     "name": "stdout",
     "output_type": "stream",
     "text": [
      "index_parallel='0243'\n"
     ]
    },
    {
     "name": "stderr",
     "output_type": "stream",
     "text": [
      "\u001b[32m[I 2022-08-16 08:58:30,172]\u001b[0m Trial 243 finished with value: 5614.111111111111 and parameters: {'kErase': 1, 'kRadius': 2, 'kAnnealingA': 0.37754249863045114, 'kAnnealingB': 2.6191540821587496, 'kAnnealingStart': 10.47285327764712, 'kSkipRatio': 0.7193204411367065, 'kTargetDeterminationTrials': 9, 'kAttractionRatio': 0.39040849571132136, 'kMaxAttractionDistance': 58, 'kStartAttraction': 0.019955264740786405}. Best is trial 229 with value: 5716.464646464647.\u001b[0m\n"
     ]
    },
    {
     "name": "stdout",
     "output_type": "stream",
     "text": [
      "index_parallel='0245'\n"
     ]
    },
    {
     "name": "stderr",
     "output_type": "stream",
     "text": [
      "\u001b[32m[I 2022-08-16 09:02:16,938]\u001b[0m Trial 245 finished with value: 5587.575757575758 and parameters: {'kErase': 1, 'kRadius': 2, 'kAnnealingA': -0.15288527423180276, 'kAnnealingB': 2.7984337910650927, 'kAnnealingStart': 9.418508286844762, 'kSkipRatio': 0.7730144903172166, 'kTargetDeterminationTrials': 10, 'kAttractionRatio': 0.4633543204542116, 'kMaxAttractionDistance': 71, 'kStartAttraction': 0.017627304441316497}. Best is trial 229 with value: 5716.464646464647.\u001b[0m\n"
     ]
    },
    {
     "name": "stdout",
     "output_type": "stream",
     "text": [
      "index_parallel='0247'\n"
     ]
    },
    {
     "name": "stderr",
     "output_type": "stream",
     "text": [
      "\u001b[32m[I 2022-08-16 09:06:03,484]\u001b[0m Trial 247 finished with value: 5664.318181818182 and parameters: {'kErase': 1, 'kRadius': 2, 'kAnnealingA': -1.3210191791434511, 'kAnnealingB': 2.7312282171456483, 'kAnnealingStart': 12.040745257331297, 'kSkipRatio': 0.7579901960249746, 'kTargetDeterminationTrials': 8, 'kAttractionRatio': 0.5060311649580962, 'kMaxAttractionDistance': 61, 'kStartAttraction': 0.012209419171771721}. Best is trial 229 with value: 5716.464646464647.\u001b[0m\n"
     ]
    },
    {
     "name": "stdout",
     "output_type": "stream",
     "text": [
      "index_parallel='0249'\n"
     ]
    },
    {
     "name": "stderr",
     "output_type": "stream",
     "text": [
      "\u001b[32m[I 2022-08-16 09:09:50,146]\u001b[0m Trial 249 finished with value: 5566.040404040404 and parameters: {'kErase': 1, 'kRadius': 2, 'kAnnealingA': -1.9396239647284148, 'kAnnealingB': 2.6920992852108556, 'kAnnealingStart': 11.700009617256054, 'kSkipRatio': 0.7565526084274891, 'kTargetDeterminationTrials': 8, 'kAttractionRatio': 0.5180413410933578, 'kMaxAttractionDistance': 64, 'kStartAttraction': 0.01130229088106326}. Best is trial 229 with value: 5716.464646464647.\u001b[0m\n"
     ]
    },
    {
     "name": "stdout",
     "output_type": "stream",
     "text": [
      "index_parallel='0251'\n"
     ]
    },
    {
     "name": "stderr",
     "output_type": "stream",
     "text": [
      "\u001b[32m[I 2022-08-16 09:13:36,778]\u001b[0m Trial 251 finished with value: 5632.045454545455 and parameters: {'kErase': 1, 'kRadius': 2, 'kAnnealingA': 1.5535458310117884, 'kAnnealingB': 2.6704355703942535, 'kAnnealingStart': 13.020532726552682, 'kSkipRatio': 0.7250450825755956, 'kTargetDeterminationTrials': 9, 'kAttractionRatio': 0.40814116984400767, 'kMaxAttractionDistance': 50, 'kStartAttraction': 0.014171101113685306}. Best is trial 229 with value: 5716.464646464647.\u001b[0m\n"
     ]
    },
    {
     "name": "stdout",
     "output_type": "stream",
     "text": [
      "index_parallel='0253'\n"
     ]
    },
    {
     "name": "stderr",
     "output_type": "stream",
     "text": [
      "\u001b[32m[I 2022-08-16 09:17:23,800]\u001b[0m Trial 253 finished with value: 5576.575757575758 and parameters: {'kErase': 1, 'kRadius': 2, 'kAnnealingA': -0.614492614945059, 'kAnnealingB': 2.5228442051319773, 'kAnnealingStart': 10.613560704125707, 'kSkipRatio': 0.7409884769425699, 'kTargetDeterminationTrials': 9, 'kAttractionRatio': 0.4376030673902453, 'kMaxAttractionDistance': 59, 'kStartAttraction': 0.01573401146540602}. Best is trial 229 with value: 5716.464646464647.\u001b[0m\n"
     ]
    },
    {
     "name": "stdout",
     "output_type": "stream",
     "text": [
      "index_parallel='0255'\n"
     ]
    },
    {
     "name": "stderr",
     "output_type": "stream",
     "text": [
      "\u001b[32m[I 2022-08-16 09:21:10,513]\u001b[0m Trial 255 finished with value: 5581.151515151515 and parameters: {'kErase': 1, 'kRadius': 2, 'kAnnealingA': -1.4027642402195604, 'kAnnealingB': 2.8292169138422745, 'kAnnealingStart': 12.181108693390563, 'kSkipRatio': 0.7073137192598505, 'kTargetDeterminationTrials': 8, 'kAttractionRatio': 0.5107572923283226, 'kMaxAttractionDistance': 66, 'kStartAttraction': 0.012366386102215285}. Best is trial 229 with value: 5716.464646464647.\u001b[0m\n"
     ]
    },
    {
     "name": "stdout",
     "output_type": "stream",
     "text": [
      "index_parallel='0257'\n"
     ]
    },
    {
     "name": "stderr",
     "output_type": "stream",
     "text": [
      "\u001b[32m[I 2022-08-16 09:24:57,241]\u001b[0m Trial 257 finished with value: 5570.383838383838 and parameters: {'kErase': 1, 'kRadius': 2, 'kAnnealingA': 0.9563544010586937, 'kAnnealingB': 2.7295368373328173, 'kAnnealingStart': 13.861968008438422, 'kSkipRatio': 0.7619051546228466, 'kTargetDeterminationTrials': 11, 'kAttractionRatio': 0.07042656351991246, 'kMaxAttractionDistance': 42, 'kStartAttraction': 0.010335618680443524}. Best is trial 229 with value: 5716.464646464647.\u001b[0m\n"
     ]
    },
    {
     "name": "stdout",
     "output_type": "stream",
     "text": [
      "index_parallel='0259'\n"
     ]
    },
    {
     "name": "stderr",
     "output_type": "stream",
     "text": [
      "\u001b[32m[I 2022-08-16 09:28:44,247]\u001b[0m Trial 259 finished with value: 5638.060606060606 and parameters: {'kErase': 1, 'kRadius': 2, 'kAnnealingA': 1.9210969445073949, 'kAnnealingB': 2.569279446312974, 'kAnnealingStart': 15.039154174403649, 'kSkipRatio': 0.7851327205634615, 'kTargetDeterminationTrials': 10, 'kAttractionRatio': 0.547275540168124, 'kMaxAttractionDistance': 91, 'kStartAttraction': 0.008894662534128942}. Best is trial 229 with value: 5716.464646464647.\u001b[0m\n"
     ]
    },
    {
     "name": "stdout",
     "output_type": "stream",
     "text": [
      "index_parallel='0261'\n"
     ]
    },
    {
     "name": "stderr",
     "output_type": "stream",
     "text": [
      "\u001b[32m[I 2022-08-16 09:32:30,984]\u001b[0m Trial 261 finished with value: 5699.49494949495 and parameters: {'kErase': 1, 'kRadius': 2, 'kAnnealingA': 1.6103615861675418, 'kAnnealingB': 2.6236879046961263, 'kAnnealingStart': 12.907831474159522, 'kSkipRatio': 0.7454375234924899, 'kTargetDeterminationTrials': 1, 'kAttractionRatio': 0.47816438480198203, 'kMaxAttractionDistance': 82, 'kStartAttraction': 0.0070529811043655855}. Best is trial 229 with value: 5716.464646464647.\u001b[0m\n"
     ]
    },
    {
     "name": "stdout",
     "output_type": "stream",
     "text": [
      "index_parallel='0263'\n"
     ]
    },
    {
     "name": "stderr",
     "output_type": "stream",
     "text": [
      "\u001b[32m[I 2022-08-16 09:36:17,807]\u001b[0m Trial 263 finished with value: 5678.944444444444 and parameters: {'kErase': 1, 'kRadius': 2, 'kAnnealingA': -0.3183648939772943, 'kAnnealingB': 2.6323622713007855, 'kAnnealingStart': 13.05672524441941, 'kSkipRatio': 0.7477652884865025, 'kTargetDeterminationTrials': 7, 'kAttractionRatio': 0.48184735489944885, 'kMaxAttractionDistance': 82, 'kStartAttraction': 0.006546782891586065}. Best is trial 229 with value: 5716.464646464647.\u001b[0m\n"
     ]
    },
    {
     "name": "stdout",
     "output_type": "stream",
     "text": [
      "index_parallel='0265'\n"
     ]
    },
    {
     "name": "stderr",
     "output_type": "stream",
     "text": [
      "\u001b[32m[I 2022-08-16 09:40:04,540]\u001b[0m Trial 265 finished with value: 5530.272727272727 and parameters: {'kErase': 1, 'kRadius': 2, 'kAnnealingA': -2.11340871092396, 'kAnnealingB': 2.5571291961102447, 'kAnnealingStart': 13.071624862324697, 'kSkipRatio': 0.7483945573957417, 'kTargetDeterminationTrials': 7, 'kAttractionRatio': 0.47322152283793056, 'kMaxAttractionDistance': 82, 'kStartAttraction': 0.006754066447847011}. Best is trial 229 with value: 5716.464646464647.\u001b[0m\n"
     ]
    },
    {
     "name": "stdout",
     "output_type": "stream",
     "text": [
      "index_parallel='0267'\n"
     ]
    },
    {
     "name": "stderr",
     "output_type": "stream",
     "text": [
      "\u001b[32m[I 2022-08-16 09:43:51,066]\u001b[0m Trial 267 finished with value: 5638.777777777777 and parameters: {'kErase': 1, 'kRadius': 2, 'kAnnealingA': 1.5857519654706802, 'kAnnealingB': 2.512114184596646, 'kAnnealingStart': 12.477710940827594, 'kSkipRatio': 0.733542294632906, 'kTargetDeterminationTrials': 1, 'kAttractionRatio': 0.4725164288572703, 'kMaxAttractionDistance': 87, 'kStartAttraction': 0.007221371780412518}. Best is trial 229 with value: 5716.464646464647.\u001b[0m\n"
     ]
    },
    {
     "name": "stdout",
     "output_type": "stream",
     "text": [
      "index_parallel='0269'\n"
     ]
    },
    {
     "name": "stderr",
     "output_type": "stream",
     "text": [
      "\u001b[32m[I 2022-08-16 09:47:38,467]\u001b[0m Trial 269 finished with value: 4739.454545454545 and parameters: {'kErase': 4, 'kRadius': 2, 'kAnnealingA': 2.687748528395862, 'kAnnealingB': 2.45620086110974, 'kAnnealingStart': 14.659206445392337, 'kSkipRatio': 0.7353844230691196, 'kTargetDeterminationTrials': 8, 'kAttractionRatio': 0.5441882200743058, 'kMaxAttractionDistance': 97, 'kStartAttraction': 0.007278268061212952}. Best is trial 229 with value: 5716.464646464647.\u001b[0m\n"
     ]
    },
    {
     "name": "stdout",
     "output_type": "stream",
     "text": [
      "index_parallel='0271'\n"
     ]
    },
    {
     "name": "stderr",
     "output_type": "stream",
     "text": [
      "\u001b[32m[I 2022-08-16 09:51:25,418]\u001b[0m Trial 271 finished with value: 5683.393939393939 and parameters: {'kErase': 1, 'kRadius': 2, 'kAnnealingA': 0.5000304980923115, 'kAnnealingB': 2.640698177367398, 'kAnnealingStart': 16.05580137846524, 'kSkipRatio': 0.7554676615981191, 'kTargetDeterminationTrials': 6, 'kAttractionRatio': 0.34023180726182334, 'kMaxAttractionDistance': 81, 'kStartAttraction': 0.005981625103066032}. Best is trial 229 with value: 5716.464646464647.\u001b[0m\n"
     ]
    },
    {
     "name": "stdout",
     "output_type": "stream",
     "text": [
      "index_parallel='0273'\n"
     ]
    },
    {
     "name": "stderr",
     "output_type": "stream",
     "text": [
      "\u001b[32m[I 2022-08-16 09:55:12,141]\u001b[0m Trial 273 finished with value: 5615.353535353535 and parameters: {'kErase': 1, 'kRadius': 2, 'kAnnealingA': 1.035715781353415, 'kAnnealingB': 2.6470843258609174, 'kAnnealingStart': 16.38749546558625, 'kSkipRatio': 0.7469886942434124, 'kTargetDeterminationTrials': 6, 'kAttractionRatio': 0.34094177725487196, 'kMaxAttractionDistance': 80, 'kStartAttraction': 0.005555728315708156}. Best is trial 229 with value: 5716.464646464647.\u001b[0m\n"
     ]
    },
    {
     "name": "stdout",
     "output_type": "stream",
     "text": [
      "index_parallel='0275'\n"
     ]
    },
    {
     "name": "stderr",
     "output_type": "stream",
     "text": [
      "\u001b[32m[I 2022-08-16 09:58:59,032]\u001b[0m Trial 275 finished with value: 5612.00505050505 and parameters: {'kErase': 1, 'kRadius': 2, 'kAnnealingA': 0.5636465688419627, 'kAnnealingB': 2.6144046741973916, 'kAnnealingStart': 15.613461024798843, 'kSkipRatio': 0.7676511088229653, 'kTargetDeterminationTrials': 7, 'kAttractionRatio': 0.3702450671438241, 'kMaxAttractionDistance': 76, 'kStartAttraction': 0.008644808570769283}. Best is trial 229 with value: 5716.464646464647.\u001b[0m\n"
     ]
    },
    {
     "name": "stdout",
     "output_type": "stream",
     "text": [
      "index_parallel='0277'\n"
     ]
    },
    {
     "name": "stderr",
     "output_type": "stream",
     "text": [
      "\u001b[32m[I 2022-08-16 10:02:45,881]\u001b[0m Trial 277 finished with value: 5586.611111111111 and parameters: {'kErase': 1, 'kRadius': 2, 'kAnnealingA': 1.3938082386903468, 'kAnnealingB': 2.602295098833344, 'kAnnealingStart': 16.508692553600973, 'kSkipRatio': 0.7174201939275034, 'kTargetDeterminationTrials': 17, 'kAttractionRatio': 0.3915467702549667, 'kMaxAttractionDistance': 89, 'kStartAttraction': 0.006332239184883721}. Best is trial 229 with value: 5716.464646464647.\u001b[0m\n"
     ]
    },
    {
     "name": "stdout",
     "output_type": "stream",
     "text": [
      "index_parallel='0279'\n"
     ]
    },
    {
     "name": "stderr",
     "output_type": "stream",
     "text": [
      "\u001b[32m[I 2022-08-16 10:06:32,873]\u001b[0m Trial 279 finished with value: 5531.262626262626 and parameters: {'kErase': 1, 'kRadius': 2, 'kAnnealingA': 2.0418542750119357, 'kAnnealingB': 2.538326611296791, 'kAnnealingStart': 14.015119531747878, 'kSkipRatio': 0.2103573639673535, 'kTargetDeterminationTrials': 6, 'kAttractionRatio': 0.3548165549887471, 'kMaxAttractionDistance': 83, 'kStartAttraction': 0.00793741933947358}. Best is trial 229 with value: 5716.464646464647.\u001b[0m\n"
     ]
    },
    {
     "name": "stdout",
     "output_type": "stream",
     "text": [
      "index_parallel='0281'\n"
     ]
    },
    {
     "name": "stderr",
     "output_type": "stream",
     "text": [
      "\u001b[32m[I 2022-08-16 10:10:19,575]\u001b[0m Trial 281 finished with value: 5426.030303030303 and parameters: {'kErase': 1, 'kRadius': 2, 'kAnnealingA': 3.0012611673667164, 'kAnnealingB': 2.3582369702811077, 'kAnnealingStart': 18.76062914812048, 'kSkipRatio': 0.7365072088662264, 'kTargetDeterminationTrials': 7, 'kAttractionRatio': 0.11383413674573728, 'kMaxAttractionDistance': 74, 'kStartAttraction': 0.0049468828623493305}. Best is trial 229 with value: 5716.464646464647.\u001b[0m\n"
     ]
    },
    {
     "name": "stdout",
     "output_type": "stream",
     "text": [
      "index_parallel='0283'\n"
     ]
    },
    {
     "name": "stderr",
     "output_type": "stream",
     "text": [
      "\u001b[32m[I 2022-08-16 10:14:06,174]\u001b[0m Trial 283 finished with value: 5578.176767676768 and parameters: {'kErase': 1, 'kRadius': 2, 'kAnnealingA': 0.4748183093372216, 'kAnnealingB': 2.6661634127255014, 'kAnnealingStart': 15.370211640451213, 'kSkipRatio': 0.750775911476701, 'kTargetDeterminationTrials': 9, 'kAttractionRatio': 0.097016370595349, 'kMaxAttractionDistance': 80, 'kStartAttraction': 0.0064881185773676955}. Best is trial 229 with value: 5716.464646464647.\u001b[0m\n"
     ]
    },
    {
     "name": "stdout",
     "output_type": "stream",
     "text": [
      "index_parallel='0285'\n"
     ]
    },
    {
     "name": "stderr",
     "output_type": "stream",
     "text": [
      "\u001b[32m[I 2022-08-16 10:17:53,153]\u001b[0m Trial 285 finished with value: 5160.742424242424 and parameters: {'kErase': 1, 'kRadius': 2, 'kAnnealingA': 11.044007628383593, 'kAnnealingB': 2.415882406504141, 'kAnnealingStart': 21.5595472954152, 'kSkipRatio': 0.7601060014888303, 'kTargetDeterminationTrials': 11, 'kAttractionRatio': 0.31478942675307836, 'kMaxAttractionDistance': 91, 'kStartAttraction': 0.007152863722653105}. Best is trial 229 with value: 5716.464646464647.\u001b[0m\n"
     ]
    },
    {
     "name": "stdout",
     "output_type": "stream",
     "text": [
      "index_parallel='0287'\n"
     ]
    },
    {
     "name": "stderr",
     "output_type": "stream",
     "text": [
      "\u001b[32m[I 2022-08-16 10:21:40,472]\u001b[0m Trial 287 finished with value: 5089.843434343435 and parameters: {'kErase': 3, 'kRadius': 2, 'kAnnealingA': 1.0155898019198137, 'kAnnealingB': 2.577306345672913, 'kAnnealingStart': 17.461625143644547, 'kSkipRatio': 0.6978247459432771, 'kTargetDeterminationTrials': 10, 'kAttractionRatio': 0.4355680071460477, 'kMaxAttractionDistance': 74, 'kStartAttraction': 0.005781948334025606}. Best is trial 229 with value: 5716.464646464647.\u001b[0m\n"
     ]
    },
    {
     "name": "stdout",
     "output_type": "stream",
     "text": [
      "index_parallel='0289'\n"
     ]
    },
    {
     "name": "stderr",
     "output_type": "stream",
     "text": [
      "\u001b[32m[I 2022-08-16 10:25:27,131]\u001b[0m Trial 289 finished with value: 5550.757575757576 and parameters: {'kErase': 1, 'kRadius': 3, 'kAnnealingA': -0.4000861341939106, 'kAnnealingB': 2.6894679482748587, 'kAnnealingStart': 13.816974221084019, 'kSkipRatio': 0.7717986356183708, 'kTargetDeterminationTrials': 11, 'kAttractionRatio': 0.40671599910958756, 'kMaxAttractionDistance': 84, 'kStartAttraction': 0.008885660207903219}. Best is trial 229 with value: 5716.464646464647.\u001b[0m\n"
     ]
    },
    {
     "name": "stdout",
     "output_type": "stream",
     "text": [
      "index_parallel='0291'\n"
     ]
    },
    {
     "name": "stderr",
     "output_type": "stream",
     "text": [
      "\u001b[32m[I 2022-08-16 10:29:13,971]\u001b[0m Trial 291 finished with value: 5547.368686868687 and parameters: {'kErase': 1, 'kRadius': 2, 'kAnnealingA': 2.3487553994940016, 'kAnnealingB': 0.5782064704317494, 'kAnnealingStart': 24.272681010198266, 'kSkipRatio': 0.7394788783113991, 'kTargetDeterminationTrials': 9, 'kAttractionRatio': 0.536489019047691, 'kMaxAttractionDistance': 27, 'kStartAttraction': 0.007643066399551778}. Best is trial 229 with value: 5716.464646464647.\u001b[0m\n"
     ]
    },
    {
     "name": "stdout",
     "output_type": "stream",
     "text": [
      "index_parallel='0293'\n"
     ]
    },
    {
     "name": "stderr",
     "output_type": "stream",
     "text": [
      "\u001b[32m[I 2022-08-16 10:33:00,887]\u001b[0m Trial 293 finished with value: 5669.924242424242 and parameters: {'kErase': 1, 'kRadius': 2, 'kAnnealingA': -0.9492878470491986, 'kAnnealingB': 2.616873061866229, 'kAnnealingStart': 15.647706814576155, 'kSkipRatio': 0.748255021579958, 'kTargetDeterminationTrials': 8, 'kAttractionRatio': 0.3417343136041403, 'kMaxAttractionDistance': 78, 'kStartAttraction': 0.001964825501057995}. Best is trial 229 with value: 5716.464646464647.\u001b[0m\n"
     ]
    },
    {
     "name": "stdout",
     "output_type": "stream",
     "text": [
      "index_parallel='0295'\n"
     ]
    },
    {
     "name": "stderr",
     "output_type": "stream",
     "text": [
      "\u001b[32m[I 2022-08-16 10:36:47,510]\u001b[0m Trial 295 finished with value: 5308.090909090909 and parameters: {'kErase': 1, 'kRadius': 2, 'kAnnealingA': -0.7159462941012739, 'kAnnealingB': 2.5823572738460925, 'kAnnealingStart': 2.2643888346996417, 'kSkipRatio': 0.7542993873243589, 'kTargetDeterminationTrials': 7, 'kAttractionRatio': 0.3430826141088464, 'kMaxAttractionDistance': 80, 'kStartAttraction': 0.0022859065646824656}. Best is trial 229 with value: 5716.464646464647.\u001b[0m\n"
     ]
    },
    {
     "name": "stdout",
     "output_type": "stream",
     "text": [
      "index_parallel='0297'\n"
     ]
    },
    {
     "name": "stderr",
     "output_type": "stream",
     "text": [
      "\u001b[32m[I 2022-08-16 10:40:34,316]\u001b[0m Trial 297 finished with value: 5658.89898989899 and parameters: {'kErase': 1, 'kRadius': 2, 'kAnnealingA': -0.2647105078857701, 'kAnnealingB': 2.5015576723634227, 'kAnnealingStart': 16.725062427816603, 'kSkipRatio': 0.7657025337325123, 'kTargetDeterminationTrials': 16, 'kAttractionRatio': 0.2872697836404629, 'kMaxAttractionDistance': 78, 'kStartAttraction': 0.0017576123357296346}. Best is trial 229 with value: 5716.464646464647.\u001b[0m\n"
     ]
    },
    {
     "name": "stdout",
     "output_type": "stream",
     "text": [
      "index_parallel='0299'\n"
     ]
    },
    {
     "name": "stderr",
     "output_type": "stream",
     "text": [
      "\u001b[32m[I 2022-08-16 10:44:21,009]\u001b[0m Trial 299 finished with value: 5397.838383838384 and parameters: {'kErase': 1, 'kRadius': 6, 'kAnnealingA': -1.8078693587791963, 'kAnnealingB': 2.670171055550411, 'kAnnealingStart': 14.833889227328955, 'kSkipRatio': 0.7774040685153448, 'kTargetDeterminationTrials': 1, 'kAttractionRatio': 0.48430747552727366, 'kMaxAttractionDistance': 74, 'kStartAttraction': 0.00197127674257178}. Best is trial 229 with value: 5716.464646464647.\u001b[0m\n"
     ]
    },
    {
     "name": "stdout",
     "output_type": "stream",
     "text": [
      "index_parallel='0301'\n"
     ]
    },
    {
     "name": "stderr",
     "output_type": "stream",
     "text": [
      "\u001b[32m[I 2022-08-16 10:48:07,792]\u001b[0m Trial 301 finished with value: 5651.742424242424 and parameters: {'kErase': 1, 'kRadius': 2, 'kAnnealingA': 0.7679848906184656, 'kAnnealingB': 1.5309639749899577, 'kAnnealingStart': 18.578688776110095, 'kSkipRatio': 0.7447718247927757, 'kTargetDeterminationTrials': 8, 'kAttractionRatio': 0.6033287398895839, 'kMaxAttractionDistance': 86, 'kStartAttraction': 0.0026939991829397734}. Best is trial 229 with value: 5716.464646464647.\u001b[0m\n"
     ]
    },
    {
     "name": "stdout",
     "output_type": "stream",
     "text": [
      "index_parallel='0303'\n"
     ]
    },
    {
     "name": "stderr",
     "output_type": "stream",
     "text": [
      "\u001b[32m[I 2022-08-16 10:51:54,527]\u001b[0m Trial 303 finished with value: 5501.893939393939 and parameters: {'kErase': 1, 'kRadius': 2, 'kAnnealingA': 1.6668621081003905, 'kAnnealingB': 1.011897483401049, 'kAnnealingStart': 11.491438572450525, 'kSkipRatio': 0.7301888599993801, 'kTargetDeterminationTrials': 6, 'kAttractionRatio': 0.034266682457324796, 'kMaxAttractionDistance': 68, 'kStartAttraction': 0.002445917833817117}. Best is trial 229 with value: 5716.464646464647.\u001b[0m\n"
     ]
    },
    {
     "name": "stdout",
     "output_type": "stream",
     "text": [
      "index_parallel='0305'\n"
     ]
    },
    {
     "name": "stderr",
     "output_type": "stream",
     "text": [
      "\u001b[32m[I 2022-08-16 10:55:41,307]\u001b[0m Trial 305 finished with value: 5646.782828282829 and parameters: {'kErase': 1, 'kRadius': 2, 'kAnnealingA': -0.867248083116914, 'kAnnealingB': 2.607063569434792, 'kAnnealingStart': 12.485656190384192, 'kSkipRatio': 0.7623003589217765, 'kTargetDeterminationTrials': 4, 'kAttractionRatio': 0.2977199650831613, 'kMaxAttractionDistance': 71, 'kStartAttraction': 0.010238244374812357}. Best is trial 229 with value: 5716.464646464647.\u001b[0m\n"
     ]
    },
    {
     "name": "stdout",
     "output_type": "stream",
     "text": [
      "index_parallel='0307'\n"
     ]
    },
    {
     "name": "stderr",
     "output_type": "stream",
     "text": [
      "\u001b[32m[I 2022-08-16 10:59:27,842]\u001b[0m Trial 307 finished with value: 5652.641414141414 and parameters: {'kErase': 1, 'kRadius': 2, 'kAnnealingA': 0.13749943959231004, 'kAnnealingB': 2.769728984791292, 'kAnnealingStart': 14.728535821186446, 'kSkipRatio': 0.7877077458477416, 'kTargetDeterminationTrials': 9, 'kAttractionRatio': 0.3749025433333539, 'kMaxAttractionDistance': 81, 'kStartAttraction': 0.004199885573639602}. Best is trial 229 with value: 5716.464646464647.\u001b[0m\n"
     ]
    },
    {
     "name": "stdout",
     "output_type": "stream",
     "text": [
      "index_parallel='0309'\n"
     ]
    },
    {
     "name": "stderr",
     "output_type": "stream",
     "text": [
      "\u001b[32m[I 2022-08-16 11:03:15,159]\u001b[0m Trial 309 finished with value: 5660.777777777777 and parameters: {'kErase': 1, 'kRadius': 2, 'kAnnealingA': 2.3534562094789018, 'kAnnealingB': 2.366781177613122, 'kAnnealingStart': 12.715687892513035, 'kSkipRatio': 0.7459670657092974, 'kTargetDeterminationTrials': 14, 'kAttractionRatio': 0.4486951905028691, 'kMaxAttractionDistance': 88, 'kStartAttraction': 0.006275348506536152}. Best is trial 229 with value: 5716.464646464647.\u001b[0m\n"
     ]
    },
    {
     "name": "stdout",
     "output_type": "stream",
     "text": [
      "index_parallel='0311'\n"
     ]
    },
    {
     "name": "stderr",
     "output_type": "stream",
     "text": [
      "\u001b[32m[I 2022-08-16 11:07:02,109]\u001b[0m Trial 311 finished with value: 5293.439393939394 and parameters: {'kErase': 1, 'kRadius': 2, 'kAnnealingA': 1.3734471472260967, 'kAnnealingB': 2.6852234554236647, 'kAnnealingStart': 16.55875698728014, 'kSkipRatio': 0.7750430531329628, 'kTargetDeterminationTrials': 10, 'kAttractionRatio': 0.017942885791652555, 'kMaxAttractionDistance': 77, 'kStartAttraction': 0.008228534904856642}. Best is trial 229 with value: 5716.464646464647.\u001b[0m\n"
     ]
    },
    {
     "name": "stdout",
     "output_type": "stream",
     "text": [
      "index_parallel='0313'\n"
     ]
    },
    {
     "name": "stderr",
     "output_type": "stream",
     "text": [
      "\u001b[32m[I 2022-08-16 11:10:49,635]\u001b[0m Trial 313 finished with value: 4247.611111111111 and parameters: {'kErase': 5, 'kRadius': 2, 'kAnnealingA': 3.3178567577431832, 'kAnnealingB': 2.710586605489406, 'kAnnealingStart': 21.700782487372667, 'kSkipRatio': 0.7365017048006681, 'kTargetDeterminationTrials': 10, 'kAttractionRatio': 0.6697598252416577, 'kMaxAttractionDistance': 75, 'kStartAttraction': 0.002273592420726178}. Best is trial 229 with value: 5716.464646464647.\u001b[0m\n"
     ]
    },
    {
     "name": "stdout",
     "output_type": "stream",
     "text": [
      "index_parallel='0314'\n"
     ]
    },
    {
     "name": "stderr",
     "output_type": "stream",
     "text": [
      "\u001b[32m[I 2022-08-16 11:14:37,708]\u001b[0m Trial 314 finished with value: 5520.989898989899 and parameters: {'kErase': 1, 'kRadius': 5, 'kAnnealingA': 0.6037721763250732, 'kAnnealingB': 2.5795296010528057, 'kAnnealingStart': 17.635348952860188, 'kSkipRatio': 0.7142086820155228, 'kTargetDeterminationTrials': 8, 'kAttractionRatio': 0.33206238885308537, 'kMaxAttractionDistance': 98, 'kStartAttraction': 0.0046349534633033035}. Best is trial 229 with value: 5716.464646464647.\u001b[0m\n"
     ]
    },
    {
     "name": "stdout",
     "output_type": "stream",
     "text": [
      "index_parallel='0316'\n"
     ]
    },
    {
     "name": "stderr",
     "output_type": "stream",
     "text": [
      "\u001b[32m[I 2022-08-16 11:18:24,444]\u001b[0m Trial 316 finished with value: 5634.237373737374 and parameters: {'kErase': 1, 'kRadius': 2, 'kAnnealingA': 1.767297500083159, 'kAnnealingB': 2.5142355369107787, 'kAnnealingStart': 15.939235354339345, 'kSkipRatio': 0.7549705976867828, 'kTargetDeterminationTrials': 19, 'kAttractionRatio': 0.4016138761665579, 'kMaxAttractionDistance': 13, 'kStartAttraction': 0.01074383553513541}. Best is trial 229 with value: 5716.464646464647.\u001b[0m\n"
     ]
    },
    {
     "name": "stdout",
     "output_type": "stream",
     "text": [
      "index_parallel='0318'\n"
     ]
    },
    {
     "name": "stderr",
     "output_type": "stream",
     "text": [
      "\u001b[32m[I 2022-08-16 11:22:11,034]\u001b[0m Trial 318 finished with value: 5629.873737373738 and parameters: {'kErase': 1, 'kRadius': 2, 'kAnnealingA': 1.201806614814279, 'kAnnealingB': 2.6314533244210105, 'kAnnealingStart': 10.352642309893117, 'kSkipRatio': 0.7195072137877764, 'kTargetDeterminationTrials': 9, 'kAttractionRatio': 0.4486123103890346, 'kMaxAttractionDistance': 83, 'kStartAttraction': 0.0016361503013633406}. Best is trial 229 with value: 5716.464646464647.\u001b[0m\n"
     ]
    },
    {
     "name": "stdout",
     "output_type": "stream",
     "text": [
      "index_parallel='0320'\n"
     ]
    },
    {
     "name": "stderr",
     "output_type": "stream",
     "text": [
      "\u001b[32m[I 2022-08-16 11:25:57,507]\u001b[0m Trial 320 finished with value: 5583.313131313132 and parameters: {'kErase': 1, 'kRadius': 2, 'kAnnealingA': 1.7703857434966108, 'kAnnealingB': 2.4851779396400837, 'kAnnealingStart': 19.824853303580348, 'kSkipRatio': 0.7116549423480955, 'kTargetDeterminationTrials': 7, 'kAttractionRatio': 0.5459760113913419, 'kMaxAttractionDistance': 92, 'kStartAttraction': 0.0028878263781541257}. Best is trial 229 with value: 5716.464646464647.\u001b[0m\n"
     ]
    },
    {
     "name": "stdout",
     "output_type": "stream",
     "text": [
      "index_parallel='0322'\n"
     ]
    },
    {
     "name": "stderr",
     "output_type": "stream",
     "text": [
      "\u001b[32m[I 2022-08-16 11:29:44,654]\u001b[0m Trial 322 finished with value: 5480.843434343435 and parameters: {'kErase': 2, 'kRadius': 2, 'kAnnealingA': 2.8087196989105494, 'kAnnealingB': 2.5558342563492142, 'kAnnealingStart': 13.519583225493339, 'kSkipRatio': 0.6972140564720329, 'kTargetDeterminationTrials': 6, 'kAttractionRatio': 0.4954092875017924, 'kMaxAttractionDistance': 89, 'kStartAttraction': 0.003690046910543209}. Best is trial 229 with value: 5716.464646464647.\u001b[0m\n"
     ]
    },
    {
     "name": "stdout",
     "output_type": "stream",
     "text": [
      "index_parallel='0324'\n"
     ]
    },
    {
     "name": "stderr",
     "output_type": "stream",
     "text": [
      "\u001b[32m[I 2022-08-16 11:33:31,173]\u001b[0m Trial 324 finished with value: 5645.414141414141 and parameters: {'kErase': 1, 'kRadius': 2, 'kAnnealingA': 0.7496157791235016, 'kAnnealingB': 2.584129311838223, 'kAnnealingStart': 11.823448338225335, 'kSkipRatio': 0.7393716795389472, 'kTargetDeterminationTrials': 9, 'kAttractionRatio': 0.37600075457142723, 'kMaxAttractionDistance': 83, 'kStartAttraction': 0.004753558828399905}. Best is trial 229 with value: 5716.464646464647.\u001b[0m\n"
     ]
    },
    {
     "name": "stdout",
     "output_type": "stream",
     "text": [
      "index_parallel='0326'\n"
     ]
    },
    {
     "name": "stderr",
     "output_type": "stream",
     "text": [
      "\u001b[32m[I 2022-08-16 11:37:17,787]\u001b[0m Trial 326 finished with value: 5648.50505050505 and parameters: {'kErase': 1, 'kRadius': 2, 'kAnnealingA': 1.2723701869005752, 'kAnnealingB': 0.3419222587438313, 'kAnnealingStart': 16.29733505877582, 'kSkipRatio': 0.7505835371881724, 'kTargetDeterminationTrials': 7, 'kAttractionRatio': 0.41198696351316627, 'kMaxAttractionDistance': 79, 'kStartAttraction': 0.002171539366363969}. Best is trial 229 with value: 5716.464646464647.\u001b[0m\n"
     ]
    },
    {
     "name": "stdout",
     "output_type": "stream",
     "text": [
      "index_parallel='0328'\n"
     ]
    },
    {
     "name": "stderr",
     "output_type": "stream",
     "text": [
      "\u001b[32m[I 2022-08-16 11:41:04,779]\u001b[0m Trial 328 finished with value: 5602.247474747474 and parameters: {'kErase': 1, 'kRadius': 2, 'kAnnealingA': 1.7978509892317978, 'kAnnealingB': 2.7467853763037815, 'kAnnealingStart': 15.009993830838168, 'kSkipRatio': 0.7650043756988768, 'kTargetDeterminationTrials': 8, 'kAttractionRatio': 0.5972301738896468, 'kMaxAttractionDistance': 86, 'kStartAttraction': 0.005495821363236317}. Best is trial 229 with value: 5716.464646464647.\u001b[0m\n"
     ]
    },
    {
     "name": "stdout",
     "output_type": "stream",
     "text": [
      "index_parallel='0330'\n"
     ]
    }
   ],
   "source": [
    "study.optimize(\n",
    "    partial(objective, in_dir=in_dir, work_dir=work_dir),\n",
    "    n_trials=3000,\n",
    "    timeout=86400,\n",
    "    callbacks=[callback]\n",
    ")"
   ]
  },
  {
   "cell_type": "code",
   "execution_count": null,
   "id": "700269d2",
   "metadata": {},
   "outputs": [],
   "source": []
  }
 ],
 "metadata": {
  "kernelspec": {
   "display_name": "Python 3 (ipykernel)",
   "language": "python",
   "name": "python3"
  },
  "language_info": {
   "codemirror_mode": {
    "name": "ipython",
    "version": 3
   },
   "file_extension": ".py",
   "mimetype": "text/x-python",
   "name": "python",
   "nbconvert_exporter": "python",
   "pygments_lexer": "ipython3",
   "version": "3.9.12"
  }
 },
 "nbformat": 4,
 "nbformat_minor": 5
}
