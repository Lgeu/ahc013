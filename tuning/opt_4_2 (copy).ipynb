{
 "cells": [
  {
   "cell_type": "code",
   "execution_count": 1,
   "id": "25a1dac8",
   "metadata": {},
   "outputs": [],
   "source": [
    "import re\n",
    "import sys\n",
    "from uuid import uuid1\n",
    "from time import sleep\n",
    "from pprint import pprint\n",
    "from pathlib import Path\n",
    "from tempfile import gettempdir\n",
    "from threading import Thread\n",
    "from functools import partial\n",
    "from subprocess import Popen, PIPE\n",
    "\n",
    "from tqdm.notebook import tqdm\n",
    "import numpy as np\n",
    "import optuna\n",
    "import pandas as pd\n",
    "import matplotlib.pyplot as plt\n",
    "\n",
    "FILENAME = \"main.cpp\""
   ]
  },
  {
   "cell_type": "code",
   "execution_count": 2,
   "id": "3dd4d02e",
   "metadata": {},
   "outputs": [
    {
     "name": "stdout",
     "output_type": "stream",
     "text": [
      "10 variables were found.\n"
     ]
    },
    {
     "data": {
      "text/html": [
       "<div>\n",
       "<style scoped>\n",
       "    .dataframe tbody tr th:only-of-type {\n",
       "        vertical-align: middle;\n",
       "    }\n",
       "\n",
       "    .dataframe tbody tr th {\n",
       "        vertical-align: top;\n",
       "    }\n",
       "\n",
       "    .dataframe thead th {\n",
       "        text-align: right;\n",
       "    }\n",
       "</style>\n",
       "<table border=\"1\" class=\"dataframe\">\n",
       "  <thead>\n",
       "    <tr style=\"text-align: right;\">\n",
       "      <th></th>\n",
       "      <th>name</th>\n",
       "      <th>method</th>\n",
       "      <th>min</th>\n",
       "      <th>max</th>\n",
       "      <th>log</th>\n",
       "      <th>left</th>\n",
       "      <th>right</th>\n",
       "    </tr>\n",
       "  </thead>\n",
       "  <tbody>\n",
       "    <tr>\n",
       "      <th>0</th>\n",
       "      <td>kErase</td>\n",
       "      <td>suggest_int</td>\n",
       "      <td>1.000</td>\n",
       "      <td>5.0</td>\n",
       "      <td>False</td>\n",
       "      <td>static constexpr auto kErase =</td>\n",
       "      <td>;             // OPTIMIZE [1, 5]</td>\n",
       "    </tr>\n",
       "    <tr>\n",
       "      <th>1</th>\n",
       "      <td>kRadius</td>\n",
       "      <td>suggest_int</td>\n",
       "      <td>2.000</td>\n",
       "      <td>6.0</td>\n",
       "      <td>False</td>\n",
       "      <td>static constexpr auto kRadius =</td>\n",
       "      <td>;            // OPTIMIZE [2, 6]</td>\n",
       "    </tr>\n",
       "    <tr>\n",
       "      <th>2</th>\n",
       "      <td>kAnnealingA</td>\n",
       "      <td>suggest_float</td>\n",
       "      <td>-15.000</td>\n",
       "      <td>15.0</td>\n",
       "      <td>False</td>\n",
       "      <td>static constexpr auto kAnnealingA =</td>\n",
       "      <td>;      // OPTIMIZE [-15.0, 15.0]</td>\n",
       "    </tr>\n",
       "    <tr>\n",
       "      <th>3</th>\n",
       "      <td>kAnnealingB</td>\n",
       "      <td>suggest_float</td>\n",
       "      <td>0.000</td>\n",
       "      <td>3.0</td>\n",
       "      <td>False</td>\n",
       "      <td>static constexpr auto kAnnealingB =</td>\n",
       "      <td>;      // OPTIMIZE [0.0, 3.0]</td>\n",
       "    </tr>\n",
       "    <tr>\n",
       "      <th>4</th>\n",
       "      <td>kAnnealingStart</td>\n",
       "      <td>suggest_float</td>\n",
       "      <td>1.000</td>\n",
       "      <td>100.0</td>\n",
       "      <td>True</td>\n",
       "      <td>static constexpr auto kAnnealingStart =</td>\n",
       "      <td>; // OPTIMIZE LOG [1.0, 100.0]</td>\n",
       "    </tr>\n",
       "    <tr>\n",
       "      <th>5</th>\n",
       "      <td>kSkipRatio</td>\n",
       "      <td>suggest_float</td>\n",
       "      <td>0.200</td>\n",
       "      <td>0.8</td>\n",
       "      <td>False</td>\n",
       "      <td>static constexpr auto kSkipRatio =</td>\n",
       "      <td>;       // OPTIMIZE [0.2, 0.8]</td>\n",
       "    </tr>\n",
       "    <tr>\n",
       "      <th>6</th>\n",
       "      <td>kTargetDeterminationTrials</td>\n",
       "      <td>suggest_int</td>\n",
       "      <td>1.000</td>\n",
       "      <td>20.0</td>\n",
       "      <td>True</td>\n",
       "      <td>static constexpr auto kTargetDeterminationTria...</td>\n",
       "      <td>; // OPTIMIZE LOG [1, 20]</td>\n",
       "    </tr>\n",
       "    <tr>\n",
       "      <th>7</th>\n",
       "      <td>kAttractionRatio</td>\n",
       "      <td>suggest_float</td>\n",
       "      <td>0.010</td>\n",
       "      <td>0.9</td>\n",
       "      <td>True</td>\n",
       "      <td>static constexpr auto kAttractionRatio =</td>\n",
       "      <td>;      // OPTIMIZE LOG [0.01, 0.9]</td>\n",
       "    </tr>\n",
       "    <tr>\n",
       "      <th>8</th>\n",
       "      <td>kMaxAttractionDistance</td>\n",
       "      <td>suggest_int</td>\n",
       "      <td>4.000</td>\n",
       "      <td>99.0</td>\n",
       "      <td>True</td>\n",
       "      <td>static constexpr auto kMaxAttractionDistance =</td>\n",
       "      <td>; // OPTIMIZE LOG [4, 99]</td>\n",
       "    </tr>\n",
       "    <tr>\n",
       "      <th>9</th>\n",
       "      <td>kStartAttraction</td>\n",
       "      <td>suggest_float</td>\n",
       "      <td>0.001</td>\n",
       "      <td>0.9</td>\n",
       "      <td>True</td>\n",
       "      <td>static constexpr auto kStartAttraction =</td>\n",
       "      <td>;     // OPTIMIZE LOG [0.001, 0.9]</td>\n",
       "    </tr>\n",
       "  </tbody>\n",
       "</table>\n",
       "</div>"
      ],
      "text/plain": [
       "                         name         method     min    max    log  \\\n",
       "0                      kErase    suggest_int   1.000    5.0  False   \n",
       "1                     kRadius    suggest_int   2.000    6.0  False   \n",
       "2                 kAnnealingA  suggest_float -15.000   15.0  False   \n",
       "3                 kAnnealingB  suggest_float   0.000    3.0  False   \n",
       "4             kAnnealingStart  suggest_float   1.000  100.0   True   \n",
       "5                  kSkipRatio  suggest_float   0.200    0.8  False   \n",
       "6  kTargetDeterminationTrials    suggest_int   1.000   20.0   True   \n",
       "7            kAttractionRatio  suggest_float   0.010    0.9   True   \n",
       "8      kMaxAttractionDistance    suggest_int   4.000   99.0   True   \n",
       "9            kStartAttraction  suggest_float   0.001    0.9   True   \n",
       "\n",
       "                                                left  \\\n",
       "0                    static constexpr auto kErase =    \n",
       "1                   static constexpr auto kRadius =    \n",
       "2               static constexpr auto kAnnealingA =    \n",
       "3               static constexpr auto kAnnealingB =    \n",
       "4           static constexpr auto kAnnealingStart =    \n",
       "5                static constexpr auto kSkipRatio =    \n",
       "6  static constexpr auto kTargetDeterminationTria...   \n",
       "7          static constexpr auto kAttractionRatio =    \n",
       "8    static constexpr auto kMaxAttractionDistance =    \n",
       "9          static constexpr auto kStartAttraction =    \n",
       "\n",
       "                                right  \n",
       "0    ;             // OPTIMIZE [1, 5]  \n",
       "1     ;            // OPTIMIZE [2, 6]  \n",
       "2    ;      // OPTIMIZE [-15.0, 15.0]  \n",
       "3       ;      // OPTIMIZE [0.0, 3.0]  \n",
       "4      ; // OPTIMIZE LOG [1.0, 100.0]  \n",
       "5      ;       // OPTIMIZE [0.2, 0.8]  \n",
       "6           ; // OPTIMIZE LOG [1, 20]  \n",
       "7  ;      // OPTIMIZE LOG [0.01, 0.9]  \n",
       "8           ; // OPTIMIZE LOG [4, 99]  \n",
       "9  ;     // OPTIMIZE LOG [0.001, 0.9]  "
      ]
     },
     "metadata": {},
     "output_type": "display_data"
    }
   ],
   "source": [
    "# ここでエラー出力は何かおかしいかもしれない\n",
    "\n",
    "\n",
    "# パラメータ抽出\n",
    "with open(FILENAME) as f:\n",
    "    answer = f.read()\n",
    "\n",
    "\n",
    "variables_optimize = []\n",
    "\n",
    "for left, value, right, options in re.findall(r\"^([^/\\n]*=\\s*)(.+?)(\\s*;\\s*//(?:.*\\W)?OPTIMIZE(\\W.*))$\", answer, re.MULTILINE):\n",
    "    name = left.replace(\"=\", \"\").strip().split()[-1]\n",
    "    \n",
    "    searched = re.search(r\".*\\[(?P<min>.*),(?P<max>.*)\\].*\", options)\n",
    "    if searched:\n",
    "        min_value = max_value = None\n",
    "        try:\n",
    "            min_value = eval(searched.group(\"min\"))\n",
    "            max_value = eval(searched.group(\"max\"))\n",
    "            assert min_value <= max_value\n",
    "        except Exception as e:\n",
    "            print(f\"searched={searched}\", file=sys.stderr)\n",
    "            print(e, file=sys.stderr)\n",
    "            continue\n",
    "        log = \"LOG\" in options  # 雑、直したほうが良い\n",
    "        if type(min_value) != type(max_value):\n",
    "            print(f\"searched={searched}\", file=sys.stderr)\n",
    "            print(\"types not matched\", file=sys.stderr)\n",
    "            continue\n",
    "        if isinstance(min_value, int):\n",
    "            method = \"suggest_int\"\n",
    "        elif isinstance(min_value, float):\n",
    "            method = \"suggest_float\"\n",
    "        else:\n",
    "            print(f\"searched={searched}\", file=sys.stderr)\n",
    "            print(f\"unknown type ({type(min_value)})\", file=sys.stderr)\n",
    "            continue\n",
    "        variables_optimize.append({\n",
    "            \"name\": name,\n",
    "            \"method\": method,\n",
    "            \"min\": min_value,\n",
    "            \"max\": max_value,\n",
    "            \"log\": log,\n",
    "            \"left\": left,\n",
    "            \"right\": right,\n",
    "        })\n",
    "    elif searched := re.search(r\".*\\{(?P<choices>.*?)\\}.*\", options):\n",
    "        choices = list(map(lambda x: x.strip(), searched.group(\"choices\").split(\",\")))\n",
    "        variables_optimize.append({\n",
    "            \"name\": name,\n",
    "            \"method\": \"suggest_categorical\",\n",
    "            \"choices\": choices,\n",
    "            \"left\": left,\n",
    "            \"right\": right,\n",
    "        })\n",
    "    else:\n",
    "        print(f\"searched={searched}\", file=sys.stderr)\n",
    "        print(f\"pattern was matched but options are incorrect.\", file=sys.stderr)\n",
    "\n",
    "print(len(variables_optimize), \"variables were found.\")\n",
    "if globals().get(\"pd\"):\n",
    "    display(pd.DataFrame(variables_optimize))\n",
    "else:\n",
    "    pprint(variables_optimize)"
   ]
  },
  {
   "cell_type": "code",
   "execution_count": 3,
   "id": "001042b9",
   "metadata": {},
   "outputs": [],
   "source": [
    "def escape(string):  # 正規表現の中でそのまま使いたい文字列をエスケープ\n",
    "    res = !echo '{string}' | sed -e 's/[]\\/$*.^[]/\\\\&/g'\n",
    "    return res[0]\n",
    "\n",
    "def escape_sed(string):  # sed の置換後の文字列用のエスケープ\n",
    "    res = !echo '{string}' | sed -e 's/[\\/&]/\\\\&/g'\n",
    "    return res[0]\n",
    "\n",
    "def read_stream(name, in_file, out_file):\n",
    "    for line in in_file:\n",
    "        print(f\"[{name}] {line.strip()}\", file=out_file)\n",
    "\n",
    "def run(cmd, name):\n",
    "    proc = Popen(cmd, stdout=PIPE, stderr=PIPE, universal_newlines=True, shell=isinstance(cmd, str))\n",
    "    stdout_thread = Thread(target=read_stream, args=(name, proc.stdout, sys.stdout))\n",
    "    stderr_thread = Thread(target=read_stream, args=(name, proc.stderr, sys.stderr))\n",
    "    stdout_thread.start()\n",
    "    stderr_thread.start()\n",
    "    proc.wait()\n",
    "    return proc\n",
    "\n",
    "def objective(trial, in_dir, work_dir):\n",
    "    n_internal_parallel = 3\n",
    "    \n",
    "    index_parallel = f\"{trial.number:04d}\"\n",
    "    print(f\"{index_parallel=}\")\n",
    "    \n",
    "    work_dir = Path(work_dir)\n",
    "    directory_input = Path(in_dir)  # 中のすべてのファイルに対して実行される\n",
    "    #parameters_changed_filename = Path(gettempdir()) / str(uuid1())\n",
    "    parameters_changed_filename = work_dir / f\"{index_parallel}_{FILENAME}\"\n",
    "    \n",
    "    run([\"mkdir\", f\"{work_dir / index_parallel}_out\"], \"mkdir\")\n",
    "    run([\"mkdir\", f\"{work_dir / index_parallel}_score\"], \"mkdir\")\n",
    "    \n",
    "    # ファイル作成\n",
    "    run(f\"cp {FILENAME} {parameters_changed_filename}\", \"cp\")\n",
    "    sed_options = [f\"-i {parameters_changed_filename}\"]\n",
    "    for variable in variables_optimize:\n",
    "        if variable[\"method\"] == \"suggest_categorical\":\n",
    "            val =  trial.suggest_categorical(variable[\"name\"], variable[\"choices\"])\n",
    "        else:\n",
    "            val = getattr(trial, variable[\"method\"])(variable[\"name\"], variable[\"min\"], variable[\"max\"], log=variable[\"log\"])\n",
    "        left = variable[\"left\"]\n",
    "        right = variable[\"right\"]\n",
    "        sed_options.append(f\"\"\"-e 's/^{escape(left)}.*{escape(right)}$/{escape_sed(left)}{val}{escape_sed(right)}/'\"\"\")\n",
    "    command_sed = f\"sed {' '.join(sed_options)}\"\n",
    "    #print(command_sed)\n",
    "    run(command_sed, \"sed\")\n",
    "    \n",
    "    # コンパイル\n",
    "    command_compile = f\"g++ {parameters_changed_filename} -std=gnu++17 -O2 -DONLINE_JUDGE -o {parameters_changed_filename}.out\"\n",
    "    #print(command_compile)\n",
    "    run(command_compile, \"compile\")\n",
    "    # 実行・採点コマンド (@ はファイル名)\n",
    "    command_exec = (\n",
    "        #f\"./a.out < ./tools/in/{i:04d}.txt > {out_file} && ./tools/target/release/vis ./tools/in/{i:04d}.txt {out_file}\"\n",
    "        #f\"../tools/target/release/tester $(pwd)/{parameters_changed_filename}.out < {directory_input}/@ 2>&1 | grep Score\"\n",
    "        #f\"../tools/target/release/tester $(pwd)/{parameters_changed_filename}.out < {directory_input}/@ 2>&1 | grep Score | sed -E s/[^0-9]+// > ./{index_parallel}_score/@;\"\n",
    "        #f\"cargo run --release --manifest-path ../tools/Cargo.toml --bin tester {directory_input}/@ $(pwd)/{parameters_changed_filename}.out 2>&1 | grep Score | sed -E s/[^0-9]+// > ./{index_parallel}_score/@;\"\n",
    "        f\"./{parameters_changed_filename}.out < {directory_input}/@ > {work_dir / index_parallel}_out/@;\"\n",
    "        f\"../tools/target/release/vis {directory_input}/@ {work_dir / index_parallel}_out/@ 2> /dev/null > {work_dir / index_parallel}_score/@;\"\n",
    "    )\n",
    "    # 並列実行 (sed はパスのディレクトリ部分を消してファイル名にしてる)\n",
    "    run(f\"find {directory_input}/* | sed 's!^.*/!!' | xargs -I@ -P {n_internal_parallel} sh -c '{command_exec}'\", \"exec\")\n",
    "    \n",
    "    # 集計\n",
    "    scores = []\n",
    "    for file_path in Path(f\"{work_dir / index_parallel}_score/\").iterdir():  \n",
    "        with open(file_path) as f:\n",
    "            scores.append(int(f.readline().strip().split()[-1]))\n",
    "    mean_score = sum(scores) / len(scores)\n",
    "    \n",
    "    # 後始末\n",
    "    run(f\"rm -rf {work_dir / index_parallel}_out\", \"rm\")\n",
    "    run(f\"rm -rf {work_dir / index_parallel}_score\", \"rm\")\n",
    "    #run(f\"rm {parameters_changed_filename}\", \"rm\")\n",
    "    run(f\"rm {parameters_changed_filename}.out\", \"rm\")\n",
    "    \n",
    "    return mean_score"
   ]
  },
  {
   "cell_type": "code",
   "execution_count": 4,
   "id": "2d2e133c",
   "metadata": {},
   "outputs": [
    {
     "name": "stderr",
     "output_type": "stream",
     "text": [
      "\u001b[32m[I 2022-08-16 05:02:31,453]\u001b[0m Using an existing study with name 'study_4_2' instead of creating a new one.\u001b[0m\n"
     ]
    }
   ],
   "source": [
    "K = 4\n",
    "N_CLASS = 2\n",
    "\n",
    "in_dir = Path(f\"in_{K}_{N_CLASS}\")\n",
    "work_dir = Path(f\"work_{K}_{N_CLASS}\")\n",
    "\n",
    "study_name = f\"study_{K}_{N_CLASS}\"\n",
    "storage_path = work_dir / \"study.db\"\n",
    "storage = f\"sqlite:///{storage_path}\"\n",
    "study = optuna.create_study(storage=storage, load_if_exists=True, study_name=study_name, direction=\"maximize\")\n",
    "\n",
    "def callback(study, trial):\n",
    "    try:\n",
    "        index_parallel = f\"{trial.number:04d}\"\n",
    "        parameters_changed_filename = work_dir / f\"{index_parallel}_{FILENAME}\"\n",
    "        if study.best_value == trial.value:\n",
    "            print(f\"Updated! {study.best_value}\")\n",
    "            !cp {parameters_changed_filename} {work_dir / \"best_parameters.cpp\"}\n",
    "        !rm {parameters_changed_filename}\n",
    "    except:\n",
    "        print(\":(\")\n"
   ]
  },
  {
   "cell_type": "code",
   "execution_count": null,
   "id": "61c2901d",
   "metadata": {},
   "outputs": [
    {
     "name": "stdout",
     "output_type": "stream",
     "text": [
      "index_parallel='0292'\n"
     ]
    },
    {
     "name": "stderr",
     "output_type": "stream",
     "text": [
      "\u001b[32m[I 2022-08-16 10:33:31,255]\u001b[0m Trial 292 finished with value: 8744.649484536083 and parameters: {'kErase': 2, 'kRadius': 3, 'kAnnealingA': 8.509289538441747, 'kAnnealingB': 1.2907804532064504, 'kAnnealingStart': 6.374762129217662, 'kSkipRatio': 0.6630306005432082, 'kTargetDeterminationTrials': 15, 'kAttractionRatio': 0.5935991809672327, 'kMaxAttractionDistance': 13, 'kStartAttraction': 0.6972141612023527}. Best is trial 223 with value: 8839.036082474227.\u001b[0m\n"
     ]
    },
    {
     "name": "stdout",
     "output_type": "stream",
     "text": [
      "index_parallel='0294'\n"
     ]
    },
    {
     "name": "stderr",
     "output_type": "stream",
     "text": [
      "\u001b[32m[I 2022-08-16 10:37:18,024]\u001b[0m Trial 294 finished with value: 8660.185567010309 and parameters: {'kErase': 2, 'kRadius': 3, 'kAnnealingA': 7.016566709583893, 'kAnnealingB': 1.34411783628927, 'kAnnealingStart': 1.6782131197635899, 'kSkipRatio': 0.6828458791106417, 'kTargetDeterminationTrials': 11, 'kAttractionRatio': 0.7369196785023895, 'kMaxAttractionDistance': 15, 'kStartAttraction': 0.7122684543493237}. Best is trial 223 with value: 8839.036082474227.\u001b[0m\n"
     ]
    },
    {
     "name": "stdout",
     "output_type": "stream",
     "text": [
      "index_parallel='0296'\n"
     ]
    },
    {
     "name": "stderr",
     "output_type": "stream",
     "text": [
      "\u001b[32m[I 2022-08-16 10:41:04,020]\u001b[0m Trial 296 finished with value: 7867.932989690722 and parameters: {'kErase': 2, 'kRadius': 3, 'kAnnealingA': 6.4488289355968496, 'kAnnealingB': 1.2076684160697886, 'kAnnealingStart': 25.74110490209873, 'kSkipRatio': 0.6993331573395362, 'kTargetDeterminationTrials': 12, 'kAttractionRatio': 0.5322190202127401, 'kMaxAttractionDistance': 17, 'kStartAttraction': 0.5973736452977433}. Best is trial 223 with value: 8839.036082474227.\u001b[0m\n"
     ]
    },
    {
     "name": "stdout",
     "output_type": "stream",
     "text": [
      "index_parallel='0298'\n"
     ]
    },
    {
     "name": "stderr",
     "output_type": "stream",
     "text": [
      "\u001b[32m[I 2022-08-16 10:44:50,039]\u001b[0m Trial 298 finished with value: 8737.798969072164 and parameters: {'kErase': 2, 'kRadius': 3, 'kAnnealingA': 9.743520744905188, 'kAnnealingB': 1.4115755334173454, 'kAnnealingStart': 6.5118680057367495, 'kSkipRatio': 0.7109677801455365, 'kTargetDeterminationTrials': 1, 'kAttractionRatio': 0.6134723881132785, 'kMaxAttractionDistance': 13, 'kStartAttraction': 0.787551826638361}. Best is trial 223 with value: 8839.036082474227.\u001b[0m\n"
     ]
    },
    {
     "name": "stdout",
     "output_type": "stream",
     "text": [
      "index_parallel='0300'\n"
     ]
    },
    {
     "name": "stderr",
     "output_type": "stream",
     "text": [
      "\u001b[32m[I 2022-08-16 10:48:36,278]\u001b[0m Trial 300 finished with value: 8716.247422680412 and parameters: {'kErase': 2, 'kRadius': 3, 'kAnnealingA': 8.130090632274644, 'kAnnealingB': 0.3618584182876037, 'kAnnealingStart': 4.250478106393809, 'kSkipRatio': 0.7593624978597977, 'kTargetDeterminationTrials': 9, 'kAttractionRatio': 0.8989023795924808, 'kMaxAttractionDistance': 14, 'kStartAttraction': 0.4623669623431742}. Best is trial 223 with value: 8839.036082474227.\u001b[0m\n"
     ]
    },
    {
     "name": "stdout",
     "output_type": "stream",
     "text": [
      "index_parallel='0302'\n"
     ]
    },
    {
     "name": "stderr",
     "output_type": "stream",
     "text": [
      "\u001b[32m[I 2022-08-16 10:52:22,611]\u001b[0m Trial 302 finished with value: 8725.015463917525 and parameters: {'kErase': 2, 'kRadius': 3, 'kAnnealingA': 10.308943063766662, 'kAnnealingB': 0.7170526111016591, 'kAnnealingStart': 7.749249155322007, 'kSkipRatio': 0.7733089900355485, 'kTargetDeterminationTrials': 7, 'kAttractionRatio': 0.7851385439512942, 'kMaxAttractionDistance': 16, 'kStartAttraction': 0.5446145603279524}. Best is trial 223 with value: 8839.036082474227.\u001b[0m\n"
     ]
    },
    {
     "name": "stdout",
     "output_type": "stream",
     "text": [
      "index_parallel='0304'\n"
     ]
    },
    {
     "name": "stderr",
     "output_type": "stream",
     "text": [
      "\u001b[32m[I 2022-08-16 10:56:08,692]\u001b[0m Trial 304 finished with value: 8755.536082474227 and parameters: {'kErase': 2, 'kRadius': 3, 'kAnnealingA': 9.119192185237486, 'kAnnealingB': 1.4923120194909694, 'kAnnealingStart': 5.896239021916876, 'kSkipRatio': 0.6673245876894138, 'kTargetDeterminationTrials': 10, 'kAttractionRatio': 0.681405627026538, 'kMaxAttractionDistance': 13, 'kStartAttraction': 0.6998269288525615}. Best is trial 223 with value: 8839.036082474227.\u001b[0m\n"
     ]
    },
    {
     "name": "stdout",
     "output_type": "stream",
     "text": [
      "index_parallel='0306'\n"
     ]
    },
    {
     "name": "stderr",
     "output_type": "stream",
     "text": [
      "\u001b[32m[I 2022-08-16 10:59:55,194]\u001b[0m Trial 306 finished with value: 8304.056701030928 and parameters: {'kErase': 2, 'kRadius': 3, 'kAnnealingA': 3.4165462849688706, 'kAnnealingB': 1.836820109082288, 'kAnnealingStart': 6.839927872791293, 'kSkipRatio': 0.6909443303336027, 'kTargetDeterminationTrials': 13, 'kAttractionRatio': 0.022875838254341585, 'kMaxAttractionDistance': 13, 'kStartAttraction': 0.7888429337185128}. Best is trial 223 with value: 8839.036082474227.\u001b[0m\n"
     ]
    },
    {
     "name": "stdout",
     "output_type": "stream",
     "text": [
      "index_parallel='0308'\n"
     ]
    },
    {
     "name": "stderr",
     "output_type": "stream",
     "text": [
      "\u001b[32m[I 2022-08-16 11:03:41,762]\u001b[0m Trial 308 finished with value: 8591.149484536083 and parameters: {'kErase': 2, 'kRadius': 2, 'kAnnealingA': 5.137047357143997, 'kAnnealingB': 1.5543421783761786, 'kAnnealingStart': 6.672887840674349, 'kSkipRatio': 0.7459960270904292, 'kTargetDeterminationTrials': 15, 'kAttractionRatio': 0.5659918637581469, 'kMaxAttractionDistance': 15, 'kStartAttraction': 0.6459967728990118}. Best is trial 223 with value: 8839.036082474227.\u001b[0m\n"
     ]
    },
    {
     "name": "stdout",
     "output_type": "stream",
     "text": [
      "index_parallel='0310'\n"
     ]
    },
    {
     "name": "stderr",
     "output_type": "stream",
     "text": [
      "\u001b[32m[I 2022-08-16 11:07:28,154]\u001b[0m Trial 310 finished with value: 8721.0206185567 and parameters: {'kErase': 2, 'kRadius': 3, 'kAnnealingA': 11.998610104908622, 'kAnnealingB': 2.075587813570198, 'kAnnealingStart': 5.306662549488319, 'kSkipRatio': 0.7098313622527359, 'kTargetDeterminationTrials': 12, 'kAttractionRatio': 0.7327888316324678, 'kMaxAttractionDistance': 13, 'kStartAttraction': 0.7074831664879151}. Best is trial 223 with value: 8839.036082474227.\u001b[0m\n"
     ]
    },
    {
     "name": "stdout",
     "output_type": "stream",
     "text": [
      "index_parallel='0312'\n"
     ]
    },
    {
     "name": "stderr",
     "output_type": "stream",
     "text": [
      "\u001b[32m[I 2022-08-16 11:11:14,369]\u001b[0m Trial 312 finished with value: 8806.09793814433 and parameters: {'kErase': 2, 'kRadius': 3, 'kAnnealingA': 6.542184455895002, 'kAnnealingB': 1.0985254222049616, 'kAnnealingStart': 9.253463414415714, 'kSkipRatio': 0.7322125279394579, 'kTargetDeterminationTrials': 10, 'kAttractionRatio': 0.6363267410180743, 'kMaxAttractionDistance': 17, 'kStartAttraction': 0.7746768279361779}. Best is trial 223 with value: 8839.036082474227.\u001b[0m\n"
     ]
    },
    {
     "name": "stdout",
     "output_type": "stream",
     "text": [
      "index_parallel='0314'\n"
     ]
    },
    {
     "name": "stderr",
     "output_type": "stream",
     "text": [
      "\u001b[32m[I 2022-08-16 11:15:00,907]\u001b[0m Trial 314 finished with value: 8679.273195876289 and parameters: {'kErase': 2, 'kRadius': 3, 'kAnnealingA': 6.135619043792766, 'kAnnealingB': 1.0403941247516553, 'kAnnealingStart': 9.807383815949617, 'kSkipRatio': 0.7323121451133859, 'kTargetDeterminationTrials': 9, 'kAttractionRatio': 0.8279437397571784, 'kMaxAttractionDistance': 12, 'kStartAttraction': 0.7995931899556973}. Best is trial 223 with value: 8839.036082474227.\u001b[0m\n"
     ]
    },
    {
     "name": "stdout",
     "output_type": "stream",
     "text": [
      "index_parallel='0316'\n"
     ]
    },
    {
     "name": "stderr",
     "output_type": "stream",
     "text": [
      "\u001b[32m[I 2022-08-16 11:18:46,869]\u001b[0m Trial 316 finished with value: 8743.216494845361 and parameters: {'kErase': 2, 'kRadius': 3, 'kAnnealingA': 6.704108456482045, 'kAnnealingB': 1.1442610884127928, 'kAnnealingStart': 8.351841279821038, 'kSkipRatio': 0.758472011643712, 'kTargetDeterminationTrials': 10, 'kAttractionRatio': 0.4921736039828531, 'kMaxAttractionDistance': 18, 'kStartAttraction': 0.7509031475913174}. Best is trial 223 with value: 8839.036082474227.\u001b[0m\n"
     ]
    },
    {
     "name": "stdout",
     "output_type": "stream",
     "text": [
      "index_parallel='0318'\n"
     ]
    },
    {
     "name": "stderr",
     "output_type": "stream",
     "text": [
      "\u001b[32m[I 2022-08-16 11:22:32,606]\u001b[0m Trial 318 finished with value: 8580.835051546392 and parameters: {'kErase': 2, 'kRadius': 3, 'kAnnealingA': 11.011039686493497, 'kAnnealingB': 2.721558505025731, 'kAnnealingStart': 9.458646570264088, 'kSkipRatio': 0.7501397514513993, 'kTargetDeterminationTrials': 15, 'kAttractionRatio': 0.5790934728164462, 'kMaxAttractionDistance': 58, 'kStartAttraction': 0.7174472011129097}. Best is trial 223 with value: 8839.036082474227.\u001b[0m\n"
     ]
    },
    {
     "name": "stdout",
     "output_type": "stream",
     "text": [
      "index_parallel='0320'\n"
     ]
    },
    {
     "name": "stderr",
     "output_type": "stream",
     "text": [
      "\u001b[32m[I 2022-08-16 11:26:18,643]\u001b[0m Trial 320 finished with value: 8697.953608247422 and parameters: {'kErase': 2, 'kRadius': 3, 'kAnnealingA': 1.7266989201477143, 'kAnnealingB': 2.25651135963878, 'kAnnealingStart': 11.623039142831875, 'kSkipRatio': 0.7358997803019258, 'kTargetDeterminationTrials': 14, 'kAttractionRatio': 0.6785578933824251, 'kMaxAttractionDistance': 14, 'kStartAttraction': 0.5862942359599793}. Best is trial 223 with value: 8839.036082474227.\u001b[0m\n"
     ]
    },
    {
     "name": "stdout",
     "output_type": "stream",
     "text": [
      "index_parallel='0322'\n"
     ]
    },
    {
     "name": "stderr",
     "output_type": "stream",
     "text": [
      "\u001b[32m[I 2022-08-16 11:30:04,789]\u001b[0m Trial 322 finished with value: 8661.113402061856 and parameters: {'kErase': 2, 'kRadius': 3, 'kAnnealingA': 6.693898145408527, 'kAnnealingB': 1.1797599556738247, 'kAnnealingStart': 6.175626459074698, 'kSkipRatio': 0.781594297671782, 'kTargetDeterminationTrials': 8, 'kAttractionRatio': 0.6016046323273618, 'kMaxAttractionDistance': 16, 'kStartAttraction': 0.50722555925021}. Best is trial 223 with value: 8839.036082474227.\u001b[0m\n"
     ]
    },
    {
     "name": "stdout",
     "output_type": "stream",
     "text": [
      "index_parallel='0324'\n"
     ]
    },
    {
     "name": "stderr",
     "output_type": "stream",
     "text": [
      "\u001b[32m[I 2022-08-16 11:33:50,894]\u001b[0m Trial 324 finished with value: 8716.711340206186 and parameters: {'kErase': 2, 'kRadius': 3, 'kAnnealingA': 8.354068092583393, 'kAnnealingB': 1.465150352523923, 'kAnnealingStart': 8.114460040502198, 'kSkipRatio': 0.7644923488945716, 'kTargetDeterminationTrials': 11, 'kAttractionRatio': 0.7952953018677875, 'kMaxAttractionDistance': 13, 'kStartAttraction': 0.8889149547345374}. Best is trial 223 with value: 8839.036082474227.\u001b[0m\n"
     ]
    },
    {
     "name": "stdout",
     "output_type": "stream",
     "text": [
      "index_parallel='0326'\n"
     ]
    },
    {
     "name": "stderr",
     "output_type": "stream",
     "text": [
      "\u001b[32m[I 2022-08-16 11:37:37,091]\u001b[0m Trial 326 finished with value: 8685.721649484536 and parameters: {'kErase': 2, 'kRadius': 3, 'kAnnealingA': 7.3433129093883895, 'kAnnealingB': 1.0011218923012022, 'kAnnealingStart': 6.050705952852121, 'kSkipRatio': 0.7047502370912089, 'kTargetDeterminationTrials': 9, 'kAttractionRatio': 0.13434535069157763, 'kMaxAttractionDistance': 11, 'kStartAttraction': 0.6452691610540061}. Best is trial 223 with value: 8839.036082474227.\u001b[0m\n"
     ]
    },
    {
     "name": "stdout",
     "output_type": "stream",
     "text": [
      "index_parallel='0328'\n"
     ]
    },
    {
     "name": "stderr",
     "output_type": "stream",
     "text": [
      "\u001b[32m[I 2022-08-16 11:41:23,267]\u001b[0m Trial 328 finished with value: 8719.396907216495 and parameters: {'kErase': 2, 'kRadius': 3, 'kAnnealingA': 5.570816888826783, 'kAnnealingB': 2.308020717194767, 'kAnnealingStart': 4.808841949383838, 'kSkipRatio': 0.7182321830475225, 'kTargetDeterminationTrials': 12, 'kAttractionRatio': 0.5366202358490642, 'kMaxAttractionDistance': 15, 'kStartAttraction': 0.7158730779931284}. Best is trial 223 with value: 8839.036082474227.\u001b[0m\n"
     ]
    },
    {
     "name": "stdout",
     "output_type": "stream",
     "text": [
      "index_parallel='0330'\n"
     ]
    }
   ],
   "source": [
    "study.optimize(\n",
    "    partial(objective, in_dir=in_dir, work_dir=work_dir),\n",
    "    n_trials=3000,\n",
    "    timeout=86400,\n",
    "    callbacks=[callback]\n",
    ")"
   ]
  },
  {
   "cell_type": "code",
   "execution_count": null,
   "id": "700269d2",
   "metadata": {},
   "outputs": [],
   "source": []
  }
 ],
 "metadata": {
  "kernelspec": {
   "display_name": "Python 3 (ipykernel)",
   "language": "python",
   "name": "python3"
  },
  "language_info": {
   "codemirror_mode": {
    "name": "ipython",
    "version": 3
   },
   "file_extension": ".py",
   "mimetype": "text/x-python",
   "name": "python",
   "nbconvert_exporter": "python",
   "pygments_lexer": "ipython3",
   "version": "3.9.12"
  }
 },
 "nbformat": 4,
 "nbformat_minor": 5
}
