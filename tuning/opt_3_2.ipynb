{
 "cells": [
  {
   "cell_type": "code",
   "execution_count": 1,
   "id": "25a1dac8",
   "metadata": {},
   "outputs": [],
   "source": [
    "import re\n",
    "import sys\n",
    "from uuid import uuid1\n",
    "from time import sleep\n",
    "from pprint import pprint\n",
    "from pathlib import Path\n",
    "from tempfile import gettempdir\n",
    "from threading import Thread\n",
    "from functools import partial\n",
    "from subprocess import Popen, PIPE\n",
    "\n",
    "from tqdm.notebook import tqdm\n",
    "import numpy as np\n",
    "import optuna\n",
    "import pandas as pd\n",
    "import matplotlib.pyplot as plt\n",
    "\n",
    "FILENAME = \"main.cpp\""
   ]
  },
  {
   "cell_type": "code",
   "execution_count": 2,
   "id": "3dd4d02e",
   "metadata": {},
   "outputs": [
    {
     "name": "stdout",
     "output_type": "stream",
     "text": [
      "10 variables were found.\n"
     ]
    },
    {
     "data": {
      "text/html": [
       "<div>\n",
       "<style scoped>\n",
       "    .dataframe tbody tr th:only-of-type {\n",
       "        vertical-align: middle;\n",
       "    }\n",
       "\n",
       "    .dataframe tbody tr th {\n",
       "        vertical-align: top;\n",
       "    }\n",
       "\n",
       "    .dataframe thead th {\n",
       "        text-align: right;\n",
       "    }\n",
       "</style>\n",
       "<table border=\"1\" class=\"dataframe\">\n",
       "  <thead>\n",
       "    <tr style=\"text-align: right;\">\n",
       "      <th></th>\n",
       "      <th>name</th>\n",
       "      <th>method</th>\n",
       "      <th>min</th>\n",
       "      <th>max</th>\n",
       "      <th>log</th>\n",
       "      <th>left</th>\n",
       "      <th>right</th>\n",
       "    </tr>\n",
       "  </thead>\n",
       "  <tbody>\n",
       "    <tr>\n",
       "      <th>0</th>\n",
       "      <td>kErase</td>\n",
       "      <td>suggest_int</td>\n",
       "      <td>1.000</td>\n",
       "      <td>5.0</td>\n",
       "      <td>False</td>\n",
       "      <td>static constexpr auto kErase =</td>\n",
       "      <td>;             // OPTIMIZE [1, 5]</td>\n",
       "    </tr>\n",
       "    <tr>\n",
       "      <th>1</th>\n",
       "      <td>kRadius</td>\n",
       "      <td>suggest_int</td>\n",
       "      <td>2.000</td>\n",
       "      <td>6.0</td>\n",
       "      <td>False</td>\n",
       "      <td>static constexpr auto kRadius =</td>\n",
       "      <td>;            // OPTIMIZE [2, 6]</td>\n",
       "    </tr>\n",
       "    <tr>\n",
       "      <th>2</th>\n",
       "      <td>kAnnealingA</td>\n",
       "      <td>suggest_float</td>\n",
       "      <td>-15.000</td>\n",
       "      <td>15.0</td>\n",
       "      <td>False</td>\n",
       "      <td>static constexpr auto kAnnealingA =</td>\n",
       "      <td>;      // OPTIMIZE [-15.0, 15.0]</td>\n",
       "    </tr>\n",
       "    <tr>\n",
       "      <th>3</th>\n",
       "      <td>kAnnealingB</td>\n",
       "      <td>suggest_float</td>\n",
       "      <td>0.000</td>\n",
       "      <td>3.0</td>\n",
       "      <td>False</td>\n",
       "      <td>static constexpr auto kAnnealingB =</td>\n",
       "      <td>;      // OPTIMIZE [0.0, 3.0]</td>\n",
       "    </tr>\n",
       "    <tr>\n",
       "      <th>4</th>\n",
       "      <td>kAnnealingStart</td>\n",
       "      <td>suggest_float</td>\n",
       "      <td>1.000</td>\n",
       "      <td>100.0</td>\n",
       "      <td>True</td>\n",
       "      <td>static constexpr auto kAnnealingStart =</td>\n",
       "      <td>; // OPTIMIZE LOG [1.0, 100.0]</td>\n",
       "    </tr>\n",
       "    <tr>\n",
       "      <th>5</th>\n",
       "      <td>kSkipRatio</td>\n",
       "      <td>suggest_float</td>\n",
       "      <td>0.200</td>\n",
       "      <td>0.8</td>\n",
       "      <td>False</td>\n",
       "      <td>static constexpr auto kSkipRatio =</td>\n",
       "      <td>;       // OPTIMIZE [0.2, 0.8]</td>\n",
       "    </tr>\n",
       "    <tr>\n",
       "      <th>6</th>\n",
       "      <td>kTargetDeterminationTrials</td>\n",
       "      <td>suggest_int</td>\n",
       "      <td>1.000</td>\n",
       "      <td>20.0</td>\n",
       "      <td>True</td>\n",
       "      <td>static constexpr auto kTargetDeterminationTria...</td>\n",
       "      <td>; // OPTIMIZE LOG [1, 20]</td>\n",
       "    </tr>\n",
       "    <tr>\n",
       "      <th>7</th>\n",
       "      <td>kAttractionRatio</td>\n",
       "      <td>suggest_float</td>\n",
       "      <td>0.010</td>\n",
       "      <td>0.9</td>\n",
       "      <td>True</td>\n",
       "      <td>static constexpr auto kAttractionRatio =</td>\n",
       "      <td>;      // OPTIMIZE LOG [0.01, 0.9]</td>\n",
       "    </tr>\n",
       "    <tr>\n",
       "      <th>8</th>\n",
       "      <td>kMaxAttractionDistance</td>\n",
       "      <td>suggest_int</td>\n",
       "      <td>4.000</td>\n",
       "      <td>99.0</td>\n",
       "      <td>True</td>\n",
       "      <td>static constexpr auto kMaxAttractionDistance =</td>\n",
       "      <td>; // OPTIMIZE LOG [4, 99]</td>\n",
       "    </tr>\n",
       "    <tr>\n",
       "      <th>9</th>\n",
       "      <td>kStartAttraction</td>\n",
       "      <td>suggest_float</td>\n",
       "      <td>0.001</td>\n",
       "      <td>0.9</td>\n",
       "      <td>True</td>\n",
       "      <td>static constexpr auto kStartAttraction =</td>\n",
       "      <td>;     // OPTIMIZE LOG [0.001, 0.9]</td>\n",
       "    </tr>\n",
       "  </tbody>\n",
       "</table>\n",
       "</div>"
      ],
      "text/plain": [
       "                         name         method     min    max    log  \\\n",
       "0                      kErase    suggest_int   1.000    5.0  False   \n",
       "1                     kRadius    suggest_int   2.000    6.0  False   \n",
       "2                 kAnnealingA  suggest_float -15.000   15.0  False   \n",
       "3                 kAnnealingB  suggest_float   0.000    3.0  False   \n",
       "4             kAnnealingStart  suggest_float   1.000  100.0   True   \n",
       "5                  kSkipRatio  suggest_float   0.200    0.8  False   \n",
       "6  kTargetDeterminationTrials    suggest_int   1.000   20.0   True   \n",
       "7            kAttractionRatio  suggest_float   0.010    0.9   True   \n",
       "8      kMaxAttractionDistance    suggest_int   4.000   99.0   True   \n",
       "9            kStartAttraction  suggest_float   0.001    0.9   True   \n",
       "\n",
       "                                                left  \\\n",
       "0                    static constexpr auto kErase =    \n",
       "1                   static constexpr auto kRadius =    \n",
       "2               static constexpr auto kAnnealingA =    \n",
       "3               static constexpr auto kAnnealingB =    \n",
       "4           static constexpr auto kAnnealingStart =    \n",
       "5                static constexpr auto kSkipRatio =    \n",
       "6  static constexpr auto kTargetDeterminationTria...   \n",
       "7          static constexpr auto kAttractionRatio =    \n",
       "8    static constexpr auto kMaxAttractionDistance =    \n",
       "9          static constexpr auto kStartAttraction =    \n",
       "\n",
       "                                right  \n",
       "0    ;             // OPTIMIZE [1, 5]  \n",
       "1     ;            // OPTIMIZE [2, 6]  \n",
       "2    ;      // OPTIMIZE [-15.0, 15.0]  \n",
       "3       ;      // OPTIMIZE [0.0, 3.0]  \n",
       "4      ; // OPTIMIZE LOG [1.0, 100.0]  \n",
       "5      ;       // OPTIMIZE [0.2, 0.8]  \n",
       "6           ; // OPTIMIZE LOG [1, 20]  \n",
       "7  ;      // OPTIMIZE LOG [0.01, 0.9]  \n",
       "8           ; // OPTIMIZE LOG [4, 99]  \n",
       "9  ;     // OPTIMIZE LOG [0.001, 0.9]  "
      ]
     },
     "metadata": {},
     "output_type": "display_data"
    }
   ],
   "source": [
    "# ここでエラー出力は何かおかしいかもしれない\n",
    "\n",
    "\n",
    "# パラメータ抽出\n",
    "with open(FILENAME) as f:\n",
    "    answer = f.read()\n",
    "\n",
    "\n",
    "variables_optimize = []\n",
    "\n",
    "for left, value, right, options in re.findall(r\"^([^/\\n]*=\\s*)(.+?)(\\s*;\\s*//(?:.*\\W)?OPTIMIZE(\\W.*))$\", answer, re.MULTILINE):\n",
    "    name = left.replace(\"=\", \"\").strip().split()[-1]\n",
    "    \n",
    "    searched = re.search(r\".*\\[(?P<min>.*),(?P<max>.*)\\].*\", options)\n",
    "    if searched:\n",
    "        min_value = max_value = None\n",
    "        try:\n",
    "            min_value = eval(searched.group(\"min\"))\n",
    "            max_value = eval(searched.group(\"max\"))\n",
    "            assert min_value <= max_value\n",
    "        except Exception as e:\n",
    "            print(f\"searched={searched}\", file=sys.stderr)\n",
    "            print(e, file=sys.stderr)\n",
    "            continue\n",
    "        log = \"LOG\" in options  # 雑、直したほうが良い\n",
    "        if type(min_value) != type(max_value):\n",
    "            print(f\"searched={searched}\", file=sys.stderr)\n",
    "            print(\"types not matched\", file=sys.stderr)\n",
    "            continue\n",
    "        if isinstance(min_value, int):\n",
    "            method = \"suggest_int\"\n",
    "        elif isinstance(min_value, float):\n",
    "            method = \"suggest_float\"\n",
    "        else:\n",
    "            print(f\"searched={searched}\", file=sys.stderr)\n",
    "            print(f\"unknown type ({type(min_value)})\", file=sys.stderr)\n",
    "            continue\n",
    "        variables_optimize.append({\n",
    "            \"name\": name,\n",
    "            \"method\": method,\n",
    "            \"min\": min_value,\n",
    "            \"max\": max_value,\n",
    "            \"log\": log,\n",
    "            \"left\": left,\n",
    "            \"right\": right,\n",
    "        })\n",
    "    elif searched := re.search(r\".*\\{(?P<choices>.*?)\\}.*\", options):\n",
    "        choices = list(map(lambda x: x.strip(), searched.group(\"choices\").split(\",\")))\n",
    "        variables_optimize.append({\n",
    "            \"name\": name,\n",
    "            \"method\": \"suggest_categorical\",\n",
    "            \"choices\": choices,\n",
    "            \"left\": left,\n",
    "            \"right\": right,\n",
    "        })\n",
    "    else:\n",
    "        print(f\"searched={searched}\", file=sys.stderr)\n",
    "        print(f\"pattern was matched but options are incorrect.\", file=sys.stderr)\n",
    "\n",
    "print(len(variables_optimize), \"variables were found.\")\n",
    "if globals().get(\"pd\"):\n",
    "    display(pd.DataFrame(variables_optimize))\n",
    "else:\n",
    "    pprint(variables_optimize)"
   ]
  },
  {
   "cell_type": "code",
   "execution_count": 3,
   "id": "001042b9",
   "metadata": {},
   "outputs": [],
   "source": [
    "def escape(string):  # 正規表現の中でそのまま使いたい文字列をエスケープ\n",
    "    res = !echo '{string}' | sed -e 's/[]\\/$*.^[]/\\\\&/g'\n",
    "    return res[0]\n",
    "\n",
    "def escape_sed(string):  # sed の置換後の文字列用のエスケープ\n",
    "    res = !echo '{string}' | sed -e 's/[\\/&]/\\\\&/g'\n",
    "    return res[0]\n",
    "\n",
    "def read_stream(name, in_file, out_file):\n",
    "    for line in in_file:\n",
    "        print(f\"[{name}] {line.strip()}\", file=out_file)\n",
    "\n",
    "def run(cmd, name):\n",
    "    proc = Popen(cmd, stdout=PIPE, stderr=PIPE, universal_newlines=True, shell=isinstance(cmd, str))\n",
    "    stdout_thread = Thread(target=read_stream, args=(name, proc.stdout, sys.stdout))\n",
    "    stderr_thread = Thread(target=read_stream, args=(name, proc.stderr, sys.stderr))\n",
    "    stdout_thread.start()\n",
    "    stderr_thread.start()\n",
    "    proc.wait()\n",
    "    return proc\n",
    "\n",
    "def objective(trial, in_dir, work_dir):\n",
    "    n_internal_parallel = 3\n",
    "    \n",
    "    index_parallel = f\"{trial.number:04d}\"\n",
    "    print(f\"{index_parallel=}\")\n",
    "    \n",
    "    work_dir = Path(work_dir)\n",
    "    directory_input = Path(in_dir)  # 中のすべてのファイルに対して実行される\n",
    "    #parameters_changed_filename = Path(gettempdir()) / str(uuid1())\n",
    "    parameters_changed_filename = work_dir / f\"{index_parallel}_{FILENAME}\"\n",
    "    \n",
    "    run([\"mkdir\", f\"{work_dir / index_parallel}_out\"], \"mkdir\")\n",
    "    run([\"mkdir\", f\"{work_dir / index_parallel}_score\"], \"mkdir\")\n",
    "    \n",
    "    # ファイル作成\n",
    "    run(f\"cp {FILENAME} {parameters_changed_filename}\", \"cp\")\n",
    "    sed_options = [f\"-i {parameters_changed_filename}\"]\n",
    "    for variable in variables_optimize:\n",
    "        if variable[\"method\"] == \"suggest_categorical\":\n",
    "            val =  trial.suggest_categorical(variable[\"name\"], variable[\"choices\"])\n",
    "        else:\n",
    "            val = getattr(trial, variable[\"method\"])(variable[\"name\"], variable[\"min\"], variable[\"max\"], log=variable[\"log\"])\n",
    "        left = variable[\"left\"]\n",
    "        right = variable[\"right\"]\n",
    "        sed_options.append(f\"\"\"-e 's/^{escape(left)}.*{escape(right)}$/{escape_sed(left)}{val}{escape_sed(right)}/'\"\"\")\n",
    "    command_sed = f\"sed {' '.join(sed_options)}\"\n",
    "    #print(command_sed)\n",
    "    run(command_sed, \"sed\")\n",
    "    \n",
    "    # コンパイル\n",
    "    command_compile = f\"g++ {parameters_changed_filename} -std=gnu++17 -O2 -DONLINE_JUDGE -o {parameters_changed_filename}.out\"\n",
    "    #print(command_compile)\n",
    "    run(command_compile, \"compile\")\n",
    "    # 実行・採点コマンド (@ はファイル名)\n",
    "    command_exec = (\n",
    "        #f\"./a.out < ./tools/in/{i:04d}.txt > {out_file} && ./tools/target/release/vis ./tools/in/{i:04d}.txt {out_file}\"\n",
    "        #f\"../tools/target/release/tester $(pwd)/{parameters_changed_filename}.out < {directory_input}/@ 2>&1 | grep Score\"\n",
    "        #f\"../tools/target/release/tester $(pwd)/{parameters_changed_filename}.out < {directory_input}/@ 2>&1 | grep Score | sed -E s/[^0-9]+// > ./{index_parallel}_score/@;\"\n",
    "        #f\"cargo run --release --manifest-path ../tools/Cargo.toml --bin tester {directory_input}/@ $(pwd)/{parameters_changed_filename}.out 2>&1 | grep Score | sed -E s/[^0-9]+// > ./{index_parallel}_score/@;\"\n",
    "        f\"./{parameters_changed_filename}.out < {directory_input}/@ > {work_dir / index_parallel}_out/@;\"\n",
    "        f\"../tools/target/release/vis {directory_input}/@ {work_dir / index_parallel}_out/@ 2> /dev/null > {work_dir / index_parallel}_score/@;\"\n",
    "    )\n",
    "    # 並列実行 (sed はパスのディレクトリ部分を消してファイル名にしてる)\n",
    "    run(f\"find {directory_input}/* | sed 's!^.*/!!' | xargs -I@ -P {n_internal_parallel} sh -c '{command_exec}'\", \"exec\")\n",
    "    \n",
    "    # 集計\n",
    "    scores = []\n",
    "    for file_path in Path(f\"{work_dir / index_parallel}_score/\").iterdir():  \n",
    "        with open(file_path) as f:\n",
    "            scores.append(int(f.readline().strip().split()[-1]))\n",
    "    mean_score = sum(scores) / len(scores)\n",
    "    \n",
    "    # 後始末\n",
    "    run(f\"rm -rf {work_dir / index_parallel}_out\", \"rm\")\n",
    "    run(f\"rm -rf {work_dir / index_parallel}_score\", \"rm\")\n",
    "    #run(f\"rm {parameters_changed_filename}\", \"rm\")\n",
    "    run(f\"rm {parameters_changed_filename}.out\", \"rm\")\n",
    "    \n",
    "    return mean_score"
   ]
  },
  {
   "cell_type": "code",
   "execution_count": 4,
   "id": "2d2e133c",
   "metadata": {},
   "outputs": [
    {
     "name": "stderr",
     "output_type": "stream",
     "text": [
      "\u001b[32m[I 2022-08-15 21:26:45,973]\u001b[0m A new study created in RDB with name: study_3_2\u001b[0m\n"
     ]
    }
   ],
   "source": [
    "K = 3\n",
    "N_CLASS = 2\n",
    "\n",
    "in_dir = Path(f\"in_{K}_{N_CLASS}\")\n",
    "work_dir = Path(f\"work_{K}_{N_CLASS}\")\n",
    "\n",
    "study_name = f\"study_{K}_{N_CLASS}\"\n",
    "storage_path = work_dir / \"study.db\"\n",
    "storage = f\"sqlite:///{storage_path}\"\n",
    "study = optuna.create_study(storage=storage, load_if_exists=True, study_name=study_name, direction=\"maximize\")\n",
    "\n",
    "def callback(study, trial):\n",
    "    try:\n",
    "        index_parallel = f\"{trial.number:04d}\"\n",
    "        parameters_changed_filename = work_dir / f\"{index_parallel}_{FILENAME}\"\n",
    "        if study.best_value == trial.value:\n",
    "            print(f\"Updated! {study.best_value}\")\n",
    "            !cp {parameters_changed_filename} {work_dir / \"best_parameters.cpp\"}\n",
    "        !rm {parameters_changed_filename}\n",
    "    except:\n",
    "        print(\":(\")\n"
   ]
  },
  {
   "cell_type": "code",
   "execution_count": null,
   "id": "61c2901d",
   "metadata": {},
   "outputs": [
    {
     "name": "stdout",
     "output_type": "stream",
     "text": [
      "index_parallel='0000'\n"
     ]
    },
    {
     "name": "stderr",
     "output_type": "stream",
     "text": [
      "\u001b[32m[I 2022-08-15 21:30:12,201]\u001b[0m Trial 0 finished with value: 7919.948863636364 and parameters: {'kErase': 2, 'kRadius': 4, 'kAnnealingA': 14.766143423001981, 'kAnnealingB': 1.1610165942655903, 'kAnnealingStart': 1.2046258875774496, 'kSkipRatio': 0.5619199626400057, 'kTargetDeterminationTrials': 16, 'kAttractionRatio': 0.0795931557039894, 'kMaxAttractionDistance': 6, 'kStartAttraction': 0.12538934661555226}. Best is trial 0 with value: 7919.948863636364.\u001b[0m\n"
     ]
    },
    {
     "name": "stdout",
     "output_type": "stream",
     "text": [
      "Updated! 7919.948863636364\n",
      "index_parallel='0001'\n"
     ]
    },
    {
     "name": "stderr",
     "output_type": "stream",
     "text": [
      "\u001b[32m[I 2022-08-15 21:33:39,062]\u001b[0m Trial 1 finished with value: 7380.0 and parameters: {'kErase': 3, 'kRadius': 2, 'kAnnealingA': -2.5908285488493714, 'kAnnealingB': 0.20378832061787078, 'kAnnealingStart': 33.9135958912934, 'kSkipRatio': 0.34180489514222556, 'kTargetDeterminationTrials': 5, 'kAttractionRatio': 0.018657397540595345, 'kMaxAttractionDistance': 4, 'kStartAttraction': 0.0049906386507568975}. Best is trial 0 with value: 7919.948863636364.\u001b[0m\n"
     ]
    },
    {
     "name": "stdout",
     "output_type": "stream",
     "text": [
      "index_parallel='0002'\n"
     ]
    },
    {
     "name": "stderr",
     "output_type": "stream",
     "text": [
      "\u001b[32m[I 2022-08-15 21:37:05,019]\u001b[0m Trial 2 finished with value: 8104.272727272727 and parameters: {'kErase': 1, 'kRadius': 2, 'kAnnealingA': 1.3530479992751765, 'kAnnealingB': 1.5838470314175517, 'kAnnealingStart': 16.389685552471207, 'kSkipRatio': 0.5525203446859265, 'kTargetDeterminationTrials': 11, 'kAttractionRatio': 0.049609467939807896, 'kMaxAttractionDistance': 47, 'kStartAttraction': 0.3039592197515261}. Best is trial 2 with value: 8104.272727272727.\u001b[0m\n"
     ]
    },
    {
     "name": "stdout",
     "output_type": "stream",
     "text": [
      "Updated! 8104.272727272727\n",
      "index_parallel='0003'\n"
     ]
    },
    {
     "name": "stderr",
     "output_type": "stream",
     "text": [
      "\u001b[32m[I 2022-08-15 21:40:31,710]\u001b[0m Trial 3 finished with value: 7540.613636363636 and parameters: {'kErase': 2, 'kRadius': 6, 'kAnnealingA': -0.14159012214709676, 'kAnnealingB': 0.8951057252227299, 'kAnnealingStart': 2.5925724903483425, 'kSkipRatio': 0.5182849367361284, 'kTargetDeterminationTrials': 5, 'kAttractionRatio': 0.7350157473205149, 'kMaxAttractionDistance': 8, 'kStartAttraction': 0.005854506221894666}. Best is trial 2 with value: 8104.272727272727.\u001b[0m\n"
     ]
    },
    {
     "name": "stdout",
     "output_type": "stream",
     "text": [
      "index_parallel='0004'\n"
     ]
    },
    {
     "name": "stderr",
     "output_type": "stream",
     "text": [
      "\u001b[32m[I 2022-08-15 21:43:58,370]\u001b[0m Trial 4 finished with value: 7847.693181818182 and parameters: {'kErase': 1, 'kRadius': 3, 'kAnnealingA': -7.148944893484738, 'kAnnealingB': 0.3158928964819657, 'kAnnealingStart': 4.136350931125263, 'kSkipRatio': 0.5653076631325875, 'kTargetDeterminationTrials': 3, 'kAttractionRatio': 0.03213471055533848, 'kMaxAttractionDistance': 57, 'kStartAttraction': 0.04376000669868309}. Best is trial 2 with value: 8104.272727272727.\u001b[0m\n"
     ]
    },
    {
     "name": "stdout",
     "output_type": "stream",
     "text": [
      "index_parallel='0005'\n"
     ]
    },
    {
     "name": "stderr",
     "output_type": "stream",
     "text": [
      "\u001b[32m[I 2022-08-15 21:47:25,073]\u001b[0m Trial 5 finished with value: 7820.823863636364 and parameters: {'kErase': 4, 'kRadius': 4, 'kAnnealingA': -5.281450720413098, 'kAnnealingB': 0.3258270836428815, 'kAnnealingStart': 15.558899024533485, 'kSkipRatio': 0.6026567147977311, 'kTargetDeterminationTrials': 16, 'kAttractionRatio': 0.01771172507840187, 'kMaxAttractionDistance': 4, 'kStartAttraction': 0.022022076907949863}. Best is trial 2 with value: 8104.272727272727.\u001b[0m\n"
     ]
    },
    {
     "name": "stdout",
     "output_type": "stream",
     "text": [
      "index_parallel='0006'\n"
     ]
    },
    {
     "name": "stderr",
     "output_type": "stream",
     "text": [
      "\u001b[32m[I 2022-08-15 21:50:51,680]\u001b[0m Trial 6 finished with value: 7987.210227272727 and parameters: {'kErase': 4, 'kRadius': 3, 'kAnnealingA': -8.089670147424897, 'kAnnealingB': 1.159354945463398, 'kAnnealingStart': 4.201035603494877, 'kSkipRatio': 0.7881899392394383, 'kTargetDeterminationTrials': 6, 'kAttractionRatio': 0.13083479178753848, 'kMaxAttractionDistance': 8, 'kStartAttraction': 0.6038893419226928}. Best is trial 2 with value: 8104.272727272727.\u001b[0m\n"
     ]
    },
    {
     "name": "stdout",
     "output_type": "stream",
     "text": [
      "index_parallel='0007'\n"
     ]
    },
    {
     "name": "stderr",
     "output_type": "stream",
     "text": [
      "\u001b[32m[I 2022-08-15 21:54:17,488]\u001b[0m Trial 7 finished with value: 7567.869318181818 and parameters: {'kErase': 1, 'kRadius': 3, 'kAnnealingA': 14.2949034426316, 'kAnnealingB': 0.06356856437068703, 'kAnnealingStart': 36.33421033579294, 'kSkipRatio': 0.4138638610299059, 'kTargetDeterminationTrials': 1, 'kAttractionRatio': 0.010008585435451847, 'kMaxAttractionDistance': 51, 'kStartAttraction': 0.004750840584446941}. Best is trial 2 with value: 8104.272727272727.\u001b[0m\n"
     ]
    },
    {
     "name": "stdout",
     "output_type": "stream",
     "text": [
      "index_parallel='0008'\n"
     ]
    },
    {
     "name": "stderr",
     "output_type": "stream",
     "text": [
      "\u001b[32m[I 2022-08-15 21:57:43,764]\u001b[0m Trial 8 finished with value: 7612.676136363636 and parameters: {'kErase': 1, 'kRadius': 3, 'kAnnealingA': 5.470005177630739, 'kAnnealingB': 0.6934481070606296, 'kAnnealingStart': 1.6921859330715794, 'kSkipRatio': 0.5987239832082557, 'kTargetDeterminationTrials': 1, 'kAttractionRatio': 0.06651066902574104, 'kMaxAttractionDistance': 6, 'kStartAttraction': 0.0026737583933747473}. Best is trial 2 with value: 8104.272727272727.\u001b[0m\n"
     ]
    },
    {
     "name": "stdout",
     "output_type": "stream",
     "text": [
      "index_parallel='0009'\n"
     ]
    },
    {
     "name": "stderr",
     "output_type": "stream",
     "text": [
      "\u001b[32m[I 2022-08-15 22:01:10,104]\u001b[0m Trial 9 finished with value: 6970.085227272727 and parameters: {'kErase': 2, 'kRadius': 3, 'kAnnealingA': 6.41546610273469, 'kAnnealingB': 2.06715118328794, 'kAnnealingStart': 43.63235507863658, 'kSkipRatio': 0.4144209456776609, 'kTargetDeterminationTrials': 1, 'kAttractionRatio': 0.019344379505075008, 'kMaxAttractionDistance': 10, 'kStartAttraction': 0.002596406449183712}. Best is trial 2 with value: 8104.272727272727.\u001b[0m\n"
     ]
    },
    {
     "name": "stdout",
     "output_type": "stream",
     "text": [
      "index_parallel='0010'\n"
     ]
    },
    {
     "name": "stderr",
     "output_type": "stream",
     "text": [
      "\u001b[32m[I 2022-08-15 22:04:36,950]\u001b[0m Trial 10 finished with value: 5969.596590909091 and parameters: {'kErase': 5, 'kRadius': 6, 'kAnnealingA': 5.019385209715141, 'kAnnealingB': 2.880030713777618, 'kAnnealingStart': 93.182268064295, 'kSkipRatio': 0.216378195907227, 'kTargetDeterminationTrials': 10, 'kAttractionRatio': 0.366241533451902, 'kMaxAttractionDistance': 26, 'kStartAttraction': 0.8032000485243327}. Best is trial 2 with value: 8104.272727272727.\u001b[0m\n"
     ]
    },
    {
     "name": "stdout",
     "output_type": "stream",
     "text": [
      "index_parallel='0011'\n"
     ]
    },
    {
     "name": "stderr",
     "output_type": "stream",
     "text": [
      "\u001b[32m[I 2022-08-15 22:08:04,244]\u001b[0m Trial 11 finished with value: 7828.573863636364 and parameters: {'kErase': 4, 'kRadius': 2, 'kAnnealingA': -11.543540216506422, 'kAnnealingB': 1.766935151984528, 'kAnnealingStart': 6.951105367408748, 'kSkipRatio': 0.796041617234486, 'kTargetDeterminationTrials': 7, 'kAttractionRatio': 0.13321075054618875, 'kMaxAttractionDistance': 99, 'kStartAttraction': 0.6126590982241006}. Best is trial 2 with value: 8104.272727272727.\u001b[0m\n"
     ]
    },
    {
     "name": "stdout",
     "output_type": "stream",
     "text": [
      "index_parallel='0012'\n"
     ]
    },
    {
     "name": "stderr",
     "output_type": "stream",
     "text": [
      "\u001b[32m[I 2022-08-15 22:11:31,140]\u001b[0m Trial 12 finished with value: 7904.301136363636 and parameters: {'kErase': 4, 'kRadius': 2, 'kAnnealingA': -14.004726516494458, 'kAnnealingB': 1.4684265671926542, 'kAnnealingStart': 11.520274512765795, 'kSkipRatio': 0.7889746458433555, 'kTargetDeterminationTrials': 3, 'kAttractionRatio': 0.1831760292904619, 'kMaxAttractionDistance': 19, 'kStartAttraction': 0.237704257464525}. Best is trial 2 with value: 8104.272727272727.\u001b[0m\n"
     ]
    },
    {
     "name": "stdout",
     "output_type": "stream",
     "text": [
      "index_parallel='0013'\n"
     ]
    },
    {
     "name": "stderr",
     "output_type": "stream",
     "text": [
      "\u001b[32m[I 2022-08-15 22:14:58,420]\u001b[0m Trial 13 finished with value: 7831.443181818182 and parameters: {'kErase': 5, 'kRadius': 5, 'kAnnealingA': -9.151120072222408, 'kAnnealingB': 2.244497647251351, 'kAnnealingStart': 5.678141011761789, 'kSkipRatio': 0.6909425179062446, 'kTargetDeterminationTrials': 9, 'kAttractionRatio': 0.044694435377097455, 'kMaxAttractionDistance': 13, 'kStartAttraction': 0.24248719312530803}. Best is trial 2 with value: 8104.272727272727.\u001b[0m\n"
     ]
    },
    {
     "name": "stdout",
     "output_type": "stream",
     "text": [
      "index_parallel='0014'\n"
     ]
    },
    {
     "name": "stderr",
     "output_type": "stream",
     "text": [
      "\u001b[32m[I 2022-08-15 22:18:24,987]\u001b[0m Trial 14 finished with value: 8073.806818181818 and parameters: {'kErase': 3, 'kRadius': 2, 'kAnnealingA': 2.374235221058917, 'kAnnealingB': 1.5240496610340104, 'kAnnealingStart': 15.379314513057531, 'kSkipRatio': 0.6924305752589234, 'kTargetDeterminationTrials': 2, 'kAttractionRatio': 0.2228783046500619, 'kMaxAttractionDistance': 30, 'kStartAttraction': 0.0761545337226778}. Best is trial 2 with value: 8104.272727272727.\u001b[0m\n"
     ]
    },
    {
     "name": "stdout",
     "output_type": "stream",
     "text": [
      "index_parallel='0015'\n"
     ]
    },
    {
     "name": "stderr",
     "output_type": "stream",
     "text": [
      "\u001b[32m[I 2022-08-15 22:21:51,675]\u001b[0m Trial 15 finished with value: 8066.471590909091 and parameters: {'kErase': 3, 'kRadius': 2, 'kAnnealingA': 2.468687434035978, 'kAnnealingB': 2.5612482760018516, 'kAnnealingStart': 18.53915542025801, 'kSkipRatio': 0.6736825861760213, 'kTargetDeterminationTrials': 2, 'kAttractionRatio': 0.2364630993686709, 'kMaxAttractionDistance': 41, 'kStartAttraction': 0.045279515543927215}. Best is trial 2 with value: 8104.272727272727.\u001b[0m\n"
     ]
    },
    {
     "name": "stdout",
     "output_type": "stream",
     "text": [
      "index_parallel='0016'\n"
     ]
    },
    {
     "name": "stderr",
     "output_type": "stream",
     "text": [
      "\u001b[32m[I 2022-08-15 22:25:18,281]\u001b[0m Trial 16 finished with value: 8192.3125 and parameters: {'kErase': 2, 'kRadius': 5, 'kAnnealingA': 9.575104322360044, 'kAnnealingB': 1.682496751587803, 'kAnnealingStart': 18.948566180407266, 'kSkipRatio': 0.6978349774625976, 'kTargetDeterminationTrials': 2, 'kAttractionRatio': 0.4726282158536611, 'kMaxAttractionDistance': 27, 'kStartAttraction': 0.10368312751524672}. Best is trial 16 with value: 8192.3125.\u001b[0m\n"
     ]
    },
    {
     "name": "stdout",
     "output_type": "stream",
     "text": [
      "Updated! 8192.3125\n",
      "index_parallel='0017'\n"
     ]
    },
    {
     "name": "stderr",
     "output_type": "stream",
     "text": [
      "\u001b[32m[I 2022-08-15 22:28:45,254]\u001b[0m Trial 17 finished with value: 6613.380681818182 and parameters: {'kErase': 2, 'kRadius': 5, 'kAnnealingA': 8.318993812974485, 'kAnnealingB': 1.8033533535108697, 'kAnnealingStart': 72.8196927277519, 'kSkipRatio': 0.48096688655695286, 'kTargetDeterminationTrials': 2, 'kAttractionRatio': 0.771262608362172, 'kMaxAttractionDistance': 78, 'kStartAttraction': 0.01651521513735834}. Best is trial 16 with value: 8192.3125.\u001b[0m\n"
     ]
    },
    {
     "name": "stdout",
     "output_type": "stream",
     "text": [
      "index_parallel='0018'\n"
     ]
    },
    {
     "name": "stderr",
     "output_type": "stream",
     "text": [
      "\u001b[32m[I 2022-08-15 22:32:11,675]\u001b[0m Trial 18 finished with value: 8109.971590909091 and parameters: {'kErase': 1, 'kRadius': 5, 'kAnnealingA': 10.658015634387189, 'kAnnealingB': 2.2373478072069912, 'kAnnealingStart': 24.42808175733302, 'kSkipRatio': 0.6542851176613822, 'kTargetDeterminationTrials': 20, 'kAttractionRatio': 0.43338539746331656, 'kMaxAttractionDistance': 21, 'kStartAttraction': 0.2491252348335169}. Best is trial 16 with value: 8192.3125.\u001b[0m\n"
     ]
    },
    {
     "name": "stdout",
     "output_type": "stream",
     "text": [
      "index_parallel='0019'\n"
     ]
    },
    {
     "name": "stderr",
     "output_type": "stream",
     "text": [
      "\u001b[32m[I 2022-08-15 22:35:38,627]\u001b[0m Trial 19 finished with value: 8177.460227272727 and parameters: {'kErase': 2, 'kRadius': 5, 'kAnnealingA': 10.546095158666574, 'kAnnealingB': 2.421191721677697, 'kAnnealingStart': 27.80855250025504, 'kSkipRatio': 0.6638506836296325, 'kTargetDeterminationTrials': 19, 'kAttractionRatio': 0.40597341213768195, 'kMaxAttractionDistance': 18, 'kStartAttraction': 0.0010214291871921955}. Best is trial 16 with value: 8192.3125.\u001b[0m\n"
     ]
    },
    {
     "name": "stdout",
     "output_type": "stream",
     "text": [
      "index_parallel='0020'\n"
     ]
    },
    {
     "name": "stderr",
     "output_type": "stream",
     "text": [
      "\u001b[32m[I 2022-08-15 22:39:05,095]\u001b[0m Trial 20 finished with value: 7756.357954545455 and parameters: {'kErase': 2, 'kRadius': 5, 'kAnnealingA': 11.07518747411842, 'kAnnealingB': 2.8513882544970333, 'kAnnealingStart': 56.45155581518994, 'kSkipRatio': 0.7241040280898863, 'kTargetDeterminationTrials': 4, 'kAttractionRatio': 0.44221736452749, 'kMaxAttractionDistance': 15, 'kStartAttraction': 0.0010795460633223786}. Best is trial 16 with value: 8192.3125.\u001b[0m\n"
     ]
    },
    {
     "name": "stdout",
     "output_type": "stream",
     "text": [
      "index_parallel='0021'\n"
     ]
    },
    {
     "name": "stderr",
     "output_type": "stream",
     "text": [
      "\u001b[32m[I 2022-08-15 22:42:31,210]\u001b[0m Trial 21 finished with value: 8095.056818181818 and parameters: {'kErase': 1, 'kRadius': 5, 'kAnnealingA': 10.46980832642261, 'kAnnealingB': 2.342602452888808, 'kAnnealingStart': 27.163534751677048, 'kSkipRatio': 0.6390585667723242, 'kTargetDeterminationTrials': 18, 'kAttractionRatio': 0.4165758628208493, 'kMaxAttractionDistance': 22, 'kStartAttraction': 0.1119644389003301}. Best is trial 16 with value: 8192.3125.\u001b[0m\n"
     ]
    },
    {
     "name": "stdout",
     "output_type": "stream",
     "text": [
      "index_parallel='0022'\n"
     ]
    },
    {
     "name": "stderr",
     "output_type": "stream",
     "text": [
      "\u001b[32m[I 2022-08-15 22:45:57,812]\u001b[0m Trial 22 finished with value: 8033.954545454545 and parameters: {'kErase': 2, 'kRadius': 6, 'kAnnealingA': 11.274237796537863, 'kAnnealingB': 2.5420874748149984, 'kAnnealingStart': 24.043217703863146, 'kSkipRatio': 0.7271522868469243, 'kTargetDeterminationTrials': 20, 'kAttractionRatio': 0.546475989756318, 'kMaxAttractionDistance': 34, 'kStartAttraction': 0.01299583835203878}. Best is trial 16 with value: 8192.3125.\u001b[0m\n"
     ]
    },
    {
     "name": "stdout",
     "output_type": "stream",
     "text": [
      "index_parallel='0023'\n"
     ]
    },
    {
     "name": "stderr",
     "output_type": "stream",
     "text": [
      "\u001b[32m[I 2022-08-15 22:49:24,563]\u001b[0m Trial 23 finished with value: 8034.806818181818 and parameters: {'kErase': 3, 'kRadius': 4, 'kAnnealingA': 8.759587756329488, 'kAnnealingB': 1.9974039462749988, 'kAnnealingStart': 9.853131480855506, 'kSkipRatio': 0.6253906399838474, 'kTargetDeterminationTrials': 14, 'kAttractionRatio': 0.30475000720544876, 'kMaxAttractionDistance': 17, 'kStartAttraction': 0.1340266185512927}. Best is trial 16 with value: 8192.3125.\u001b[0m\n"
     ]
    },
    {
     "name": "stdout",
     "output_type": "stream",
     "text": [
      "index_parallel='0024'\n"
     ]
    },
    {
     "name": "stderr",
     "output_type": "stream",
     "text": [
      "\u001b[32m[I 2022-08-15 22:52:50,857]\u001b[0m Trial 24 finished with value: 7718.892045454545 and parameters: {'kErase': 1, 'kRadius': 5, 'kAnnealingA': 12.571075974478308, 'kAnnealingB': 2.603135386967566, 'kAnnealingStart': 51.112865410141104, 'kSkipRatio': 0.7343323704100866, 'kTargetDeterminationTrials': 12, 'kAttractionRatio': 0.8679072844179982, 'kMaxAttractionDistance': 12, 'kStartAttraction': 0.06755178414564886}. Best is trial 16 with value: 8192.3125.\u001b[0m\n"
     ]
    },
    {
     "name": "stdout",
     "output_type": "stream",
     "text": [
      "index_parallel='0025'\n"
     ]
    },
    {
     "name": "stderr",
     "output_type": "stream",
     "text": [
      "\u001b[32m[I 2022-08-15 22:56:17,411]\u001b[0m Trial 25 finished with value: 8221.954545454546 and parameters: {'kErase': 2, 'kRadius': 5, 'kAnnealingA': 8.033546721380212, 'kAnnealingB': 2.0616496141297573, 'kAnnealingStart': 10.041652738047956, 'kSkipRatio': 0.652184461847546, 'kTargetDeterminationTrials': 7, 'kAttractionRatio': 0.5640394215476078, 'kMaxAttractionDistance': 24, 'kStartAttraction': 0.3025563176299789}. Best is trial 25 with value: 8221.954545454546.\u001b[0m\n"
     ]
    },
    {
     "name": "stdout",
     "output_type": "stream",
     "text": [
      "Updated! 8221.954545454546\n",
      "index_parallel='0026'\n"
     ]
    },
    {
     "name": "stderr",
     "output_type": "stream",
     "text": [
      "\u001b[32m[I 2022-08-15 22:59:44,131]\u001b[0m Trial 26 finished with value: 7511.806818181818 and parameters: {'kErase': 2, 'kRadius': 6, 'kAnnealingA': 7.856412575049031, 'kAnnealingB': 1.9343648680042913, 'kAnnealingStart': 9.698878669075379, 'kSkipRatio': 0.48391545471127784, 'kTargetDeterminationTrials': 8, 'kAttractionRatio': 0.5898001485598213, 'kMaxAttractionDistance': 30, 'kStartAttraction': 0.0010837209976196185}. Best is trial 25 with value: 8221.954545454546.\u001b[0m\n"
     ]
    },
    {
     "name": "stdout",
     "output_type": "stream",
     "text": [
      "index_parallel='0027'\n"
     ]
    },
    {
     "name": "stderr",
     "output_type": "stream",
     "text": [
      "\u001b[32m[I 2022-08-15 23:03:10,636]\u001b[0m Trial 27 finished with value: 8223.232954545454 and parameters: {'kErase': 3, 'kRadius': 4, 'kAnnealingA': 4.664746667625926, 'kAnnealingB': 1.326794612448476, 'kAnnealingStart': 7.572688905344575, 'kSkipRatio': 0.7481820827314186, 'kTargetDeterminationTrials': 4, 'kAttractionRatio': 0.29569898960632873, 'kMaxAttractionDistance': 37, 'kStartAttraction': 0.42143641809162696}. Best is trial 27 with value: 8223.232954545454.\u001b[0m\n"
     ]
    },
    {
     "name": "stdout",
     "output_type": "stream",
     "text": [
      "Updated! 8223.232954545454\n",
      "index_parallel='0028'\n"
     ]
    },
    {
     "name": "stderr",
     "output_type": "stream",
     "text": [
      "\u001b[32m[I 2022-08-15 23:06:37,327]\u001b[0m Trial 28 finished with value: 8121.085227272727 and parameters: {'kErase': 3, 'kRadius': 4, 'kAnnealingA': 3.845684291455183, 'kAnnealingB': 1.3791775237008128, 'kAnnealingStart': 6.199539828440026, 'kSkipRatio': 0.7464876976834435, 'kTargetDeterminationTrials': 4, 'kAttractionRatio': 0.2959679031897319, 'kMaxAttractionDistance': 63, 'kStartAttraction': 0.3878244781212488}. Best is trial 27 with value: 8223.232954545454.\u001b[0m\n"
     ]
    },
    {
     "name": "stdout",
     "output_type": "stream",
     "text": [
      "index_parallel='0029'\n"
     ]
    },
    {
     "name": "stderr",
     "output_type": "stream",
     "text": [
      "\u001b[32m[I 2022-08-15 23:10:04,038]\u001b[0m Trial 29 finished with value: 7997.573863636364 and parameters: {'kErase': 3, 'kRadius': 4, 'kAnnealingA': -1.146699336296086, 'kAnnealingB': 1.154523596274195, 'kAnnealingStart': 3.4570593926645397, 'kSkipRatio': 0.7580266535275686, 'kTargetDeterminationTrials': 2, 'kAttractionRatio': 0.14843043192855768, 'kMaxAttractionDistance': 38, 'kStartAttraction': 0.1397108071946107}. Best is trial 27 with value: 8223.232954545454.\u001b[0m\n"
     ]
    },
    {
     "name": "stdout",
     "output_type": "stream",
     "text": [
      "index_parallel='0030'\n"
     ]
    },
    {
     "name": "stderr",
     "output_type": "stream",
     "text": [
      "\u001b[32m[I 2022-08-15 23:13:30,580]\u001b[0m Trial 30 finished with value: 8304.818181818182 and parameters: {'kErase': 2, 'kRadius': 4, 'kAnnealingA': 7.273652499558154, 'kAnnealingB': 0.7910269773058155, 'kAnnealingStart': 8.141838582471806, 'kSkipRatio': 0.6987654934093369, 'kTargetDeterminationTrials': 3, 'kAttractionRatio': 0.09503813178738643, 'kMaxAttractionDistance': 29, 'kStartAttraction': 0.44331396602265283}. Best is trial 30 with value: 8304.818181818182.\u001b[0m\n"
     ]
    },
    {
     "name": "stdout",
     "output_type": "stream",
     "text": [
      "Updated! 8304.818181818182\n",
      "index_parallel='0031'\n"
     ]
    },
    {
     "name": "stderr",
     "output_type": "stream",
     "text": [
      "\u001b[32m[I 2022-08-15 23:16:56,993]\u001b[0m Trial 31 finished with value: 8289.801136363636 and parameters: {'kErase': 2, 'kRadius': 4, 'kAnnealingA': 6.771755268287208, 'kAnnealingB': 0.735853193865778, 'kAnnealingStart': 8.155211009835286, 'kSkipRatio': 0.7021266901596759, 'kTargetDeterminationTrials': 3, 'kAttractionRatio': 0.07892394215421641, 'kMaxAttractionDistance': 24, 'kStartAttraction': 0.4197186243055023}. Best is trial 30 with value: 8304.818181818182.\u001b[0m\n"
     ]
    },
    {
     "name": "stdout",
     "output_type": "stream",
     "text": [
      "index_parallel='0032'\n"
     ]
    },
    {
     "name": "stderr",
     "output_type": "stream",
     "text": [
      "\u001b[32m[I 2022-08-15 23:20:23,569]\u001b[0m Trial 32 finished with value: 8285.414772727272 and parameters: {'kErase': 2, 'kRadius': 4, 'kAnnealingA': 6.673056596275675, 'kAnnealingB': 0.718526552658171, 'kAnnealingStart': 7.649656344762348, 'kSkipRatio': 0.6123263499627968, 'kTargetDeterminationTrials': 4, 'kAttractionRatio': 0.0911128261085955, 'kMaxAttractionDistance': 25, 'kStartAttraction': 0.43222220267382894}. Best is trial 30 with value: 8304.818181818182.\u001b[0m\n"
     ]
    },
    {
     "name": "stdout",
     "output_type": "stream",
     "text": [
      "index_parallel='0033'\n"
     ]
    },
    {
     "name": "stderr",
     "output_type": "stream",
     "text": [
      "\u001b[32m[I 2022-08-15 23:23:50,348]\u001b[0m Trial 33 finished with value: 8180.176136363636 and parameters: {'kErase': 3, 'kRadius': 4, 'kAnnealingA': 6.817235942047027, 'kAnnealingB': 0.6522420481618587, 'kAnnealingStart': 7.67716980143801, 'kSkipRatio': 0.5659726230038183, 'kTargetDeterminationTrials': 4, 'kAttractionRatio': 0.09706994648525959, 'kMaxAttractionDistance': 39, 'kStartAttraction': 0.5623491795602311}. Best is trial 30 with value: 8304.818181818182.\u001b[0m\n"
     ]
    },
    {
     "name": "stdout",
     "output_type": "stream",
     "text": [
      "index_parallel='0034'\n"
     ]
    },
    {
     "name": "stderr",
     "output_type": "stream",
     "text": [
      "\u001b[32m[I 2022-08-15 23:27:17,107]\u001b[0m Trial 34 finished with value: 8182.727272727273 and parameters: {'kErase': 3, 'kRadius': 4, 'kAnnealingA': 4.347193945518729, 'kAnnealingB': 0.8858428953004303, 'kAnnealingStart': 5.087939846734194, 'kSkipRatio': 0.6094593587870099, 'kTargetDeterminationTrials': 3, 'kAttractionRatio': 0.08627732393173967, 'kMaxAttractionDistance': 33, 'kStartAttraction': 0.4471991879682555}. Best is trial 30 with value: 8304.818181818182.\u001b[0m\n"
     ]
    },
    {
     "name": "stdout",
     "output_type": "stream",
     "text": [
      "index_parallel='0035'\n"
     ]
    },
    {
     "name": "stderr",
     "output_type": "stream",
     "text": [
      "\u001b[32m[I 2022-08-15 23:30:43,557]\u001b[0m Trial 35 finished with value: 7894.704545454545 and parameters: {'kErase': 2, 'kRadius': 4, 'kAnnealingA': -2.8129364746081302, 'kAnnealingB': 0.5418810467639741, 'kAnnealingStart': 1.904529690358694, 'kSkipRatio': 0.7109771019169497, 'kTargetDeterminationTrials': 5, 'kAttractionRatio': 0.05494149705990323, 'kMaxAttractionDistance': 44, 'kStartAttraction': 0.8255766576942719}. Best is trial 30 with value: 8304.818181818182.\u001b[0m\n"
     ]
    },
    {
     "name": "stdout",
     "output_type": "stream",
     "text": [
      "index_parallel='0036'\n"
     ]
    },
    {
     "name": "stderr",
     "output_type": "stream",
     "text": [
      "\u001b[32m[I 2022-08-15 23:34:10,350]\u001b[0m Trial 36 finished with value: 8075.982954545455 and parameters: {'kErase': 3, 'kRadius': 4, 'kAnnealingA': 6.451302999377736, 'kAnnealingB': 0.9439291466805815, 'kAnnealingStart': 7.961277577409235, 'kSkipRatio': 0.5388632296038243, 'kTargetDeterminationTrials': 3, 'kAttractionRatio': 0.039045504515212416, 'kMaxAttractionDistance': 65, 'kStartAttraction': 0.18429995096740223}. Best is trial 30 with value: 8304.818181818182.\u001b[0m\n"
     ]
    },
    {
     "name": "stdout",
     "output_type": "stream",
     "text": [
      "index_parallel='0037'\n"
     ]
    },
    {
     "name": "stderr",
     "output_type": "stream",
     "text": [
      "\u001b[32m[I 2022-08-15 23:37:37,051]\u001b[0m Trial 37 finished with value: 8097.596590909091 and parameters: {'kErase': 2, 'kRadius': 3, 'kAnnealingA': 0.6863663884497191, 'kAnnealingB': 0.45105725997785, 'kAnnealingStart': 2.942677815873384, 'kSkipRatio': 0.7579419089732922, 'kTargetDeterminationTrials': 5, 'kAttractionRatio': 0.1070020149884317, 'kMaxAttractionDistance': 24, 'kStartAttraction': 0.3919386214452658}. Best is trial 30 with value: 8304.818181818182.\u001b[0m\n"
     ]
    },
    {
     "name": "stdout",
     "output_type": "stream",
     "text": [
      "index_parallel='0038'\n"
     ]
    },
    {
     "name": "stderr",
     "output_type": "stream",
     "text": [
      "\u001b[32m[I 2022-08-15 23:41:03,178]\u001b[0m Trial 38 finished with value: 8131.982954545455 and parameters: {'kErase': 1, 'kRadius': 4, 'kAnnealingA': 3.6094911322049312, 'kAnnealingB': 1.3135617850664167, 'kAnnealingStart': 12.029161072653459, 'kSkipRatio': 0.5834821720230882, 'kTargetDeterminationTrials': 4, 'kAttractionRatio': 0.06971193652507324, 'kMaxAttractionDistance': 15, 'kStartAttraction': 0.19285780655161355}. Best is trial 30 with value: 8304.818181818182.\u001b[0m\n"
     ]
    },
    {
     "name": "stdout",
     "output_type": "stream",
     "text": [
      "index_parallel='0039'\n"
     ]
    },
    {
     "name": "stderr",
     "output_type": "stream",
     "text": [
      "\u001b[32m[I 2022-08-15 23:44:29,942]\u001b[0m Trial 39 finished with value: 8055.710227272727 and parameters: {'kErase': 4, 'kRadius': 3, 'kAnnealingA': 14.348212709233678, 'kAnnealingB': 0.953288704954177, 'kAnnealingStart': 4.424768822935941, 'kSkipRatio': 0.7696072588191525, 'kTargetDeterminationTrials': 6, 'kAttractionRatio': 0.02789321765118273, 'kMaxAttractionDistance': 51, 'kStartAttraction': 0.4657546440069105}. Best is trial 30 with value: 8304.818181818182.\u001b[0m\n"
     ]
    },
    {
     "name": "stdout",
     "output_type": "stream",
     "text": [
      "index_parallel='0040'\n"
     ]
    },
    {
     "name": "stderr",
     "output_type": "stream",
     "text": [
      "\u001b[32m[I 2022-08-15 23:47:56,620]\u001b[0m Trial 40 finished with value: 7628.511363636364 and parameters: {'kErase': 2, 'kRadius': 3, 'kAnnealingA': 12.385923760784923, 'kAnnealingB': 0.7999885536145152, 'kAnnealingStart': 13.424167917181395, 'kSkipRatio': 0.2575210584455567, 'kTargetDeterminationTrials': 3, 'kAttractionRatio': 0.060726171102593755, 'kMaxAttractionDistance': 29, 'kStartAttraction': 0.8724485650883093}. Best is trial 30 with value: 8304.818181818182.\u001b[0m\n"
     ]
    },
    {
     "name": "stdout",
     "output_type": "stream",
     "text": [
      "index_parallel='0041'\n"
     ]
    },
    {
     "name": "stderr",
     "output_type": "stream",
     "text": [
      "\u001b[32m[I 2022-08-15 23:51:23,222]\u001b[0m Trial 41 finished with value: 8227.147727272728 and parameters: {'kErase': 2, 'kRadius': 4, 'kAnnealingA': 7.578346285731091, 'kAnnealingB': 1.070983494666607, 'kAnnealingStart': 8.672113429580705, 'kSkipRatio': 0.6389971658223876, 'kTargetDeterminationTrials': 6, 'kAttractionRatio': 0.18490744044035637, 'kMaxAttractionDistance': 23, 'kStartAttraction': 0.2742652341966589}. Best is trial 30 with value: 8304.818181818182.\u001b[0m\n"
     ]
    },
    {
     "name": "stdout",
     "output_type": "stream",
     "text": [
      "index_parallel='0042'\n"
     ]
    },
    {
     "name": "stderr",
     "output_type": "stream",
     "text": [
      "\u001b[32m[I 2022-08-15 23:54:49,701]\u001b[0m Trial 42 finished with value: 8287.829545454546 and parameters: {'kErase': 2, 'kRadius': 4, 'kAnnealingA': 6.7582288597795985, 'kAnnealingB': 1.0642605976243322, 'kAnnealingStart': 8.13802403239467, 'kSkipRatio': 0.6270001293425955, 'kTargetDeterminationTrials': 6, 'kAttractionRatio': 0.11733829455438206, 'kMaxAttractionDistance': 20, 'kStartAttraction': 0.3064331634071693}. Best is trial 30 with value: 8304.818181818182.\u001b[0m\n"
     ]
    },
    {
     "name": "stdout",
     "output_type": "stream",
     "text": [
      "index_parallel='0043'\n"
     ]
    },
    {
     "name": "stderr",
     "output_type": "stream",
     "text": [
      "\u001b[32m[I 2022-08-15 23:58:16,192]\u001b[0m Trial 43 finished with value: 8269.420454545454 and parameters: {'kErase': 2, 'kRadius': 4, 'kAnnealingA': 6.401648039916822, 'kAnnealingB': 1.1218491889673192, 'kAnnealingStart': 8.657094466089719, 'kSkipRatio': 0.5150764019328226, 'kTargetDeterminationTrials': 6, 'kAttractionRatio': 0.11792906333850159, 'kMaxAttractionDistance': 20, 'kStartAttraction': 0.3462133074264539}. Best is trial 30 with value: 8304.818181818182.\u001b[0m\n"
     ]
    },
    {
     "name": "stdout",
     "output_type": "stream",
     "text": [
      "index_parallel='0044'\n"
     ]
    },
    {
     "name": "stderr",
     "output_type": "stream",
     "text": [
      "\u001b[32m[I 2022-08-16 00:01:42,670]\u001b[0m Trial 44 finished with value: 8191.948863636364 and parameters: {'kErase': 2, 'kRadius': 4, 'kAnnealingA': 5.530863155997324, 'kAnnealingB': 0.20201063938228847, 'kAnnealingStart': 5.258511987839338, 'kSkipRatio': 0.3926605422787379, 'kTargetDeterminationTrials': 5, 'kAttractionRatio': 0.11273411085029525, 'kMaxAttractionDistance': 11, 'kStartAttraction': 0.6080917675061519}. Best is trial 30 with value: 8304.818181818182.\u001b[0m\n"
     ]
    },
    {
     "name": "stdout",
     "output_type": "stream",
     "text": [
      "index_parallel='0045'\n"
     ]
    },
    {
     "name": "stderr",
     "output_type": "stream",
     "text": [
      "\u001b[32m[I 2022-08-16 00:05:09,172]\u001b[0m Trial 45 finished with value: 7999.596590909091 and parameters: {'kErase': 2, 'kRadius': 3, 'kAnnealingA': -0.9836976446638811, 'kAnnealingB': 0.7262608339166141, 'kAnnealingStart': 3.3688699315675286, 'kSkipRatio': 0.5178470690722813, 'kTargetDeterminationTrials': 7, 'kAttractionRatio': 0.08623424519632218, 'kMaxAttractionDistance': 9, 'kStartAttraction': 0.1855107756258706}. Best is trial 30 with value: 8304.818181818182.\u001b[0m\n"
     ]
    },
    {
     "name": "stdout",
     "output_type": "stream",
     "text": [
      "index_parallel='0046'\n"
     ]
    },
    {
     "name": "stderr",
     "output_type": "stream",
     "text": [
      "\u001b[32m[I 2022-08-16 00:08:35,336]\u001b[0m Trial 46 finished with value: 7954.164772727273 and parameters: {'kErase': 1, 'kRadius': 4, 'kAnnealingA': 2.3979586762722285, 'kAnnealingB': 0.5184960123061159, 'kAnnealingStart': 1.0405192733463509, 'kSkipRatio': 0.46656911415722324, 'kTargetDeterminationTrials': 9, 'kAttractionRatio': 0.1574264876329908, 'kMaxAttractionDistance': 17, 'kStartAttraction': 0.37407905739556613}. Best is trial 30 with value: 8304.818181818182.\u001b[0m\n"
     ]
    },
    {
     "name": "stdout",
     "output_type": "stream",
     "text": [
      "index_parallel='0047'\n"
     ]
    },
    {
     "name": "stderr",
     "output_type": "stream",
     "text": [
      "\u001b[32m[I 2022-08-16 00:12:01,502]\u001b[0m Trial 47 finished with value: 8265.732954545454 and parameters: {'kErase': 1, 'kRadius': 3, 'kAnnealingA': 6.2071484096088385, 'kAnnealingB': 0.3401853687546734, 'kAnnealingStart': 13.514258233712534, 'kSkipRatio': 0.4485624850407949, 'kTargetDeterminationTrials': 6, 'kAttractionRatio': 0.07290162050272124, 'kMaxAttractionDistance': 14, 'kStartAttraction': 0.6257017448982494}. Best is trial 30 with value: 8304.818181818182.\u001b[0m\n"
     ]
    },
    {
     "name": "stdout",
     "output_type": "stream",
     "text": [
      "index_parallel='0048'\n"
     ]
    },
    {
     "name": "stderr",
     "output_type": "stream",
     "text": [
      "\u001b[32m[I 2022-08-16 00:15:27,766]\u001b[0m Trial 48 finished with value: 8024.1875 and parameters: {'kErase': 2, 'kRadius': 4, 'kAnnealingA': 9.362678034821123, 'kAnnealingB': 1.0687944442907589, 'kAnnealingStart': 6.471862223292637, 'kSkipRatio': 0.5865721154018169, 'kTargetDeterminationTrials': 11, 'kAttractionRatio': 0.1239611326256634, 'kMaxAttractionDistance': 20, 'kStartAttraction': 0.03746517404094922}. Best is trial 30 with value: 8304.818181818182.\u001b[0m\n"
     ]
    },
    {
     "name": "stdout",
     "output_type": "stream",
     "text": [
      "index_parallel='0049'\n"
     ]
    },
    {
     "name": "stderr",
     "output_type": "stream",
     "text": [
      "\u001b[32m[I 2022-08-16 00:18:54,147]\u001b[0m Trial 49 finished with value: 8027.681818181818 and parameters: {'kErase': 2, 'kRadius': 4, 'kAnnealingA': 3.3958863130245267, 'kAnnealingB': 0.6086033310992861, 'kAnnealingStart': 4.394216485556818, 'kSkipRatio': 0.5433475776435991, 'kTargetDeterminationTrials': 5, 'kAttractionRatio': 0.04463349131932231, 'kMaxAttractionDistance': 5, 'kStartAttraction': 0.19650356073653333}. Best is trial 30 with value: 8304.818181818182.\u001b[0m\n"
     ]
    },
    {
     "name": "stdout",
     "output_type": "stream",
     "text": [
      "index_parallel='0050'\n"
     ]
    },
    {
     "name": "stderr",
     "output_type": "stream",
     "text": [
      "\u001b[32m[I 2022-08-16 00:22:20,328]\u001b[0m Trial 50 finished with value: 7985.818181818182 and parameters: {'kErase': 1, 'kRadius': 3, 'kAnnealingA': 1.1364096863547797, 'kAnnealingB': 0.8042538128116855, 'kAnnealingStart': 10.874601927458942, 'kSkipRatio': 0.6158181408735351, 'kTargetDeterminationTrials': 3, 'kAttractionRatio': 0.18991547814179796, 'kMaxAttractionDistance': 27, 'kStartAttraction': 0.08457686975022626}. Best is trial 30 with value: 8304.818181818182.\u001b[0m\n"
     ]
    },
    {
     "name": "stdout",
     "output_type": "stream",
     "text": [
      "index_parallel='0051'\n"
     ]
    },
    {
     "name": "stderr",
     "output_type": "stream",
     "text": [
      "\u001b[32m[I 2022-08-16 00:25:46,508]\u001b[0m Trial 51 finished with value: 8249.556818181818 and parameters: {'kErase': 1, 'kRadius': 3, 'kAnnealingA': 5.5556339666312695, 'kAnnealingB': 0.36277109855782147, 'kAnnealingStart': 13.883394260683522, 'kSkipRatio': 0.43688914849589583, 'kTargetDeterminationTrials': 6, 'kAttractionRatio': 0.06851921372078683, 'kMaxAttractionDistance': 15, 'kStartAttraction': 0.6643485935061663}. Best is trial 30 with value: 8304.818181818182.\u001b[0m\n"
     ]
    },
    {
     "name": "stdout",
     "output_type": "stream",
     "text": [
      "index_parallel='0052'\n"
     ]
    },
    {
     "name": "stderr",
     "output_type": "stream",
     "text": [
      "\u001b[32m[I 2022-08-16 00:29:12,613]\u001b[0m Trial 52 finished with value: 8254.02840909091 and parameters: {'kErase': 1, 'kRadius': 3, 'kAnnealingA': 6.79367943825678, 'kAnnealingB': 0.019764128162628347, 'kAnnealingStart': 17.588027093038612, 'kSkipRatio': 0.5124994569672574, 'kTargetDeterminationTrials': 8, 'kAttractionRatio': 0.0844037791249705, 'kMaxAttractionDistance': 14, 'kStartAttraction': 0.5191451726182814}. Best is trial 30 with value: 8304.818181818182.\u001b[0m\n"
     ]
    },
    {
     "name": "stdout",
     "output_type": "stream",
     "text": [
      "index_parallel='0053'\n"
     ]
    },
    {
     "name": "stderr",
     "output_type": "stream",
     "text": [
      "\u001b[32m[I 2022-08-16 00:32:39,317]\u001b[0m Trial 53 finished with value: 8093.818181818182 and parameters: {'kErase': 2, 'kRadius': 4, 'kAnnealingA': 12.476736626619601, 'kAnnealingB': 0.24208476578839755, 'kAnnealingStart': 9.07311624564248, 'kSkipRatio': 0.3339158876897568, 'kTargetDeterminationTrials': 5, 'kAttractionRatio': 0.07461158372584212, 'kMaxAttractionDistance': 19, 'kStartAttraction': 0.31681667729114005}. Best is trial 30 with value: 8304.818181818182.\u001b[0m\n"
     ]
    },
    {
     "name": "stdout",
     "output_type": "stream",
     "text": [
      "index_parallel='0054'\n"
     ]
    },
    {
     "name": "stderr",
     "output_type": "stream",
     "text": [
      "\u001b[32m[I 2022-08-16 00:36:05,191]\u001b[0m Trial 54 finished with value: 8194.744318181818 and parameters: {'kErase': 1, 'kRadius': 4, 'kAnnealingA': 5.768536545976634, 'kAnnealingB': 1.223715381011778, 'kAnnealingStart': 6.380179943074141, 'kSkipRatio': 0.37383379556827234, 'kTargetDeterminationTrials': 8, 'kAttractionRatio': 0.09655182202715186, 'kMaxAttractionDistance': 26, 'kStartAttraction': 0.7195622862839329}. Best is trial 30 with value: 8304.818181818182.\u001b[0m\n"
     ]
    },
    {
     "name": "stdout",
     "output_type": "stream",
     "text": [
      "index_parallel='0055'\n"
     ]
    },
    {
     "name": "stderr",
     "output_type": "stream",
     "text": [
      "\u001b[32m[I 2022-08-16 00:39:31,591]\u001b[0m Trial 55 finished with value: 8258.625 and parameters: {'kErase': 2, 'kRadius': 3, 'kAnnealingA': 6.954228477376317, 'kAnnealingB': 1.0445933847014315, 'kAnnealingStart': 12.72249920283017, 'kSkipRatio': 0.44794059237401135, 'kTargetDeterminationTrials': 7, 'kAttractionRatio': 0.05507669632301372, 'kMaxAttractionDistance': 17, 'kStartAttraction': 0.32162607291965084}. Best is trial 30 with value: 8304.818181818182.\u001b[0m\n"
     ]
    },
    {
     "name": "stdout",
     "output_type": "stream",
     "text": [
      "index_parallel='0056'\n"
     ]
    },
    {
     "name": "stderr",
     "output_type": "stream",
     "text": [
      "\u001b[32m[I 2022-08-16 00:42:58,289]\u001b[0m Trial 56 finished with value: 8300.619318181818 and parameters: {'kErase': 2, 'kRadius': 4, 'kAnnealingA': 9.026878203998708, 'kAnnealingB': 0.15350194379499926, 'kAnnealingStart': 19.818950816700443, 'kSkipRatio': 0.6759232303048653, 'kTargetDeterminationTrials': 6, 'kAttractionRatio': 0.1465904177388099, 'kMaxAttractionDistance': 12, 'kStartAttraction': 0.15379196171832712}. Best is trial 30 with value: 8304.818181818182.\u001b[0m\n"
     ]
    },
    {
     "name": "stdout",
     "output_type": "stream",
     "text": [
      "index_parallel='0057'\n"
     ]
    },
    {
     "name": "stderr",
     "output_type": "stream",
     "text": [
      "\u001b[32m[I 2022-08-16 00:46:24,615]\u001b[0m Trial 57 finished with value: 8288.647727272728 and parameters: {'kErase': 2, 'kRadius': 4, 'kAnnealingA': 9.319883622365937, 'kAnnealingB': 0.7814790773398557, 'kAnnealingStart': 19.863300467355174, 'kSkipRatio': 0.6807178256459142, 'kTargetDeterminationTrials': 4, 'kAttractionRatio': 0.15559007965190755, 'kMaxAttractionDistance': 10, 'kStartAttraction': 0.1617913766001312}. Best is trial 30 with value: 8304.818181818182.\u001b[0m\n"
     ]
    },
    {
     "name": "stdout",
     "output_type": "stream",
     "text": [
      "index_parallel='0058'\n"
     ]
    },
    {
     "name": "stderr",
     "output_type": "stream",
     "text": [
      "\u001b[32m[I 2022-08-16 00:49:51,051]\u001b[0m Trial 58 finished with value: 8307.619318181818 and parameters: {'kErase': 2, 'kRadius': 4, 'kAnnealingA': 9.411807504086521, 'kAnnealingB': 0.7575464480259255, 'kAnnealingStart': 16.34639726327047, 'kSkipRatio': 0.6768255971826365, 'kTargetDeterminationTrials': 4, 'kAttractionRatio': 0.14930171818492582, 'kMaxAttractionDistance': 7, 'kStartAttraction': 0.15235394591160495}. Best is trial 58 with value: 8307.619318181818.\u001b[0m\n"
     ]
    },
    {
     "name": "stdout",
     "output_type": "stream",
     "text": [
      "Updated! 8307.619318181818\n",
      "index_parallel='0059'\n"
     ]
    },
    {
     "name": "stderr",
     "output_type": "stream",
     "text": [
      "\u001b[32m[I 2022-08-16 00:53:17,811]\u001b[0m Trial 59 finished with value: 8309.15909090909 and parameters: {'kErase': 2, 'kRadius': 5, 'kAnnealingA': 13.355717078068755, 'kAnnealingB': 0.14696134767883628, 'kAnnealingStart': 34.78601469794619, 'kSkipRatio': 0.6827742483310191, 'kTargetDeterminationTrials': 3, 'kAttractionRatio': 0.2303277441695078, 'kMaxAttractionDistance': 6, 'kStartAttraction': 0.06461271762747126}. Best is trial 59 with value: 8309.15909090909.\u001b[0m\n"
     ]
    },
    {
     "name": "stdout",
     "output_type": "stream",
     "text": [
      "Updated! 8309.15909090909\n",
      "index_parallel='0060'\n"
     ]
    },
    {
     "name": "stderr",
     "output_type": "stream",
     "text": [
      "\u001b[32m[I 2022-08-16 00:56:44,402]\u001b[0m Trial 60 finished with value: 8253.193181818182 and parameters: {'kErase': 3, 'kRadius': 5, 'kAnnealingA': 13.228309050618913, 'kAnnealingB': 0.18296102441427334, 'kAnnealingStart': 33.59348795774804, 'kSkipRatio': 0.6791279168229071, 'kTargetDeterminationTrials': 2, 'kAttractionRatio': 0.22888118314407077, 'kMaxAttractionDistance': 7, 'kStartAttraction': 0.07181770476649944}. Best is trial 59 with value: 8309.15909090909.\u001b[0m\n"
     ]
    },
    {
     "name": "stdout",
     "output_type": "stream",
     "text": [
      "index_parallel='0061'\n"
     ]
    },
    {
     "name": "stderr",
     "output_type": "stream",
     "text": [
      "\u001b[32m[I 2022-08-16 01:00:10,839]\u001b[0m Trial 61 finished with value: 8312.943181818182 and parameters: {'kErase': 2, 'kRadius': 4, 'kAnnealingA': 9.4878997991898, 'kAnnealingB': 0.43918295238389127, 'kAnnealingStart': 35.044935746235225, 'kSkipRatio': 0.7017764468116001, 'kTargetDeterminationTrials': 4, 'kAttractionRatio': 0.15068471538550585, 'kMaxAttractionDistance': 6, 'kStartAttraction': 0.10403419763361657}. Best is trial 61 with value: 8312.943181818182.\u001b[0m\n"
     ]
    },
    {
     "name": "stdout",
     "output_type": "stream",
     "text": [
      "Updated! 8312.943181818182\n",
      "index_parallel='0062'\n"
     ]
    },
    {
     "name": "stderr",
     "output_type": "stream",
     "text": [
      "\u001b[32m[I 2022-08-16 01:03:37,634]\u001b[0m Trial 62 finished with value: 8268.943181818182 and parameters: {'kErase': 2, 'kRadius': 5, 'kAnnealingA': 9.668866371155675, 'kAnnealingB': 0.11243426042243161, 'kAnnealingStart': 35.17685067200968, 'kSkipRatio': 0.7100119031181432, 'kTargetDeterminationTrials': 3, 'kAttractionRatio': 0.1549921171671155, 'kMaxAttractionDistance': 5, 'kStartAttraction': 0.0566064048374934}. Best is trial 61 with value: 8312.943181818182.\u001b[0m\n"
     ]
    },
    {
     "name": "stdout",
     "output_type": "stream",
     "text": [
      "index_parallel='0063'\n"
     ]
    },
    {
     "name": "stderr",
     "output_type": "stream",
     "text": [
      "\u001b[32m[I 2022-08-16 01:07:04,170]\u001b[0m Trial 63 finished with value: 8338.09090909091 and parameters: {'kErase': 2, 'kRadius': 4, 'kAnnealingA': 11.53362452202779, 'kAnnealingB': 0.4379387149061033, 'kAnnealingStart': 20.097486688930072, 'kSkipRatio': 0.6784390138264637, 'kTargetDeterminationTrials': 4, 'kAttractionRatio': 0.20438517667921346, 'kMaxAttractionDistance': 7, 'kStartAttraction': 0.09658528063056951}. Best is trial 63 with value: 8338.09090909091.\u001b[0m\n"
     ]
    },
    {
     "name": "stdout",
     "output_type": "stream",
     "text": [
      "Updated! 8338.09090909091\n",
      "index_parallel='0064'\n"
     ]
    },
    {
     "name": "stderr",
     "output_type": "stream",
     "text": [
      "\u001b[32m[I 2022-08-16 01:10:30,862]\u001b[0m Trial 64 finished with value: 8217.926136363636 and parameters: {'kErase': 2, 'kRadius': 5, 'kAnnealingA': 14.9476687773261, 'kAnnealingB': 0.3942448994768554, 'kAnnealingStart': 39.836182179812205, 'kSkipRatio': 0.7055650379365642, 'kTargetDeterminationTrials': 3, 'kAttractionRatio': 0.21815557885288248, 'kMaxAttractionDistance': 7, 'kStartAttraction': 0.10064313434661651}. Best is trial 63 with value: 8338.09090909091.\u001b[0m\n"
     ]
    },
    {
     "name": "stdout",
     "output_type": "stream",
     "text": [
      "index_parallel='0065'\n"
     ]
    },
    {
     "name": "stderr",
     "output_type": "stream",
     "text": [
      "\u001b[32m[I 2022-08-16 01:13:57,381]\u001b[0m Trial 65 finished with value: 8156.272727272727 and parameters: {'kErase': 2, 'kRadius': 4, 'kAnnealingA': 11.711192302493426, 'kAnnealingB': 0.27689275230226323, 'kAnnealingStart': 22.247020037491065, 'kSkipRatio': 0.6613581704943123, 'kTargetDeterminationTrials': 4, 'kAttractionRatio': 0.2717091543498331, 'kMaxAttractionDistance': 4, 'kStartAttraction': 0.03003943324575769}. Best is trial 63 with value: 8338.09090909091.\u001b[0m\n"
     ]
    },
    {
     "name": "stdout",
     "output_type": "stream",
     "text": [
      "index_parallel='0066'\n"
     ]
    },
    {
     "name": "stderr",
     "output_type": "stream",
     "text": [
      "\u001b[32m[I 2022-08-16 01:17:23,864]\u001b[0m Trial 66 finished with value: 8302.068181818182 and parameters: {'kErase': 2, 'kRadius': 4, 'kAnnealingA': 13.540451749956883, 'kAnnealingB': 0.11881213709448954, 'kAnnealingStart': 28.298533670200136, 'kSkipRatio': 0.7840045905739336, 'kTargetDeterminationTrials': 4, 'kAttractionRatio': 0.13693555027046053, 'kMaxAttractionDistance': 5, 'kStartAttraction': 0.049984096968096824}. Best is trial 63 with value: 8338.09090909091.\u001b[0m\n"
     ]
    },
    {
     "name": "stdout",
     "output_type": "stream",
     "text": [
      "index_parallel='0067'\n"
     ]
    },
    {
     "name": "stderr",
     "output_type": "stream",
     "text": [
      "\u001b[32m[I 2022-08-16 01:20:50,525]\u001b[0m Trial 67 finished with value: 8254.40340909091 and parameters: {'kErase': 2, 'kRadius': 6, 'kAnnealingA': 13.765776264011965, 'kAnnealingB': 0.08540926725614725, 'kAnnealingStart': 47.14651435196925, 'kSkipRatio': 0.7822945933215646, 'kTargetDeterminationTrials': 4, 'kAttractionRatio': 0.3464591476210281, 'kMaxAttractionDistance': 5, 'kStartAttraction': 0.04218468379309207}. Best is trial 63 with value: 8338.09090909091.\u001b[0m\n"
     ]
    },
    {
     "name": "stdout",
     "output_type": "stream",
     "text": [
      "index_parallel='0068'\n"
     ]
    },
    {
     "name": "stderr",
     "output_type": "stream",
     "text": [
      "\u001b[32m[I 2022-08-16 01:24:17,087]\u001b[0m Trial 68 finished with value: 8238.795454545454 and parameters: {'kErase': 2, 'kRadius': 5, 'kAnnealingA': 10.33963269318991, 'kAnnealingB': 0.4900765650959298, 'kAnnealingStart': 29.84072132703107, 'kSkipRatio': 0.7270082459101108, 'kTargetDeterminationTrials': 5, 'kAttractionRatio': 0.13732189475597292, 'kMaxAttractionDistance': 6, 'kStartAttraction': 0.058518711760405004}. Best is trial 63 with value: 8338.09090909091.\u001b[0m\n"
     ]
    },
    {
     "name": "stdout",
     "output_type": "stream",
     "text": [
      "index_parallel='0069'\n"
     ]
    },
    {
     "name": "stderr",
     "output_type": "stream",
     "text": [
      "\u001b[32m[I 2022-08-16 01:27:43,976]\u001b[0m Trial 69 finished with value: 7911.426136363636 and parameters: {'kErase': 5, 'kRadius': 4, 'kAnnealingA': 11.720167250960642, 'kAnnealingB': 0.12665665444226773, 'kAnnealingStart': 16.135758401344464, 'kSkipRatio': 0.7777144038713136, 'kTargetDeterminationTrials': 5, 'kAttractionRatio': 0.19826650625865982, 'kMaxAttractionDistance': 8, 'kStartAttraction': 0.09801935764121292}. Best is trial 63 with value: 8338.09090909091.\u001b[0m\n"
     ]
    },
    {
     "name": "stdout",
     "output_type": "stream",
     "text": [
      "index_parallel='0070'\n"
     ]
    },
    {
     "name": "stderr",
     "output_type": "stream",
     "text": [
      "\u001b[32m[I 2022-08-16 01:31:10,454]\u001b[0m Trial 70 finished with value: 7655.755681818182 and parameters: {'kErase': 2, 'kRadius': 4, 'kAnnealingA': 13.248225595706817, 'kAnnealingB': 0.6145034428796937, 'kAnnealingStart': 68.62954518870943, 'kSkipRatio': 0.6442890549025493, 'kTargetDeterminationTrials': 2, 'kAttractionRatio': 0.25951115918933937, 'kMaxAttractionDistance': 7, 'kStartAttraction': 0.0231929684761785}. Best is trial 63 with value: 8338.09090909091.\u001b[0m\n"
     ]
    },
    {
     "name": "stdout",
     "output_type": "stream",
     "text": [
      "index_parallel='0071'\n"
     ]
    },
    {
     "name": "stderr",
     "output_type": "stream",
     "text": [
      "\u001b[32m[I 2022-08-16 01:34:36,780]\u001b[0m Trial 71 finished with value: 8042.289772727273 and parameters: {'kErase': 2, 'kRadius': 4, 'kAnnealingA': 8.534610321047643, 'kAnnealingB': 0.0006550440149911962, 'kAnnealingStart': 20.857152101905022, 'kSkipRatio': 0.6881357529251482, 'kTargetDeterminationTrials': 3, 'kAttractionRatio': 0.17309841936916137, 'kMaxAttractionDistance': 4, 'kStartAttraction': 0.12813022778762978}. Best is trial 63 with value: 8338.09090909091.\u001b[0m\n"
     ]
    },
    {
     "name": "stdout",
     "output_type": "stream",
     "text": [
      "index_parallel='0072'\n"
     ]
    },
    {
     "name": "stderr",
     "output_type": "stream",
     "text": [
      "\u001b[32m[I 2022-08-16 01:38:03,467]\u001b[0m Trial 72 finished with value: 8246.602272727272 and parameters: {'kErase': 3, 'kRadius': 4, 'kAnnealingA': 10.541535047166684, 'kAnnealingB': 0.4542123423240405, 'kAnnealingStart': 30.35706284458243, 'kSkipRatio': 0.7398363304345806, 'kTargetDeterminationTrials': 4, 'kAttractionRatio': 0.13574706286483287, 'kMaxAttractionDistance': 6, 'kStartAttraction': 0.04938096584944549}. Best is trial 63 with value: 8338.09090909091.\u001b[0m\n"
     ]
    },
    {
     "name": "stdout",
     "output_type": "stream",
     "text": [
      "index_parallel='0073'\n"
     ]
    },
    {
     "name": "stderr",
     "output_type": "stream",
     "text": [
      "\u001b[32m[I 2022-08-16 01:41:29,990]\u001b[0m Trial 73 finished with value: 8308.72159090909 and parameters: {'kErase': 2, 'kRadius': 4, 'kAnnealingA': 11.848845548487446, 'kAnnealingB': 0.5657830940343801, 'kAnnealingStart': 23.50569563223525, 'kSkipRatio': 0.6688980853693768, 'kTargetDeterminationTrials': 3, 'kAttractionRatio': 0.1012003241613592, 'kMaxAttractionDistance': 8, 'kStartAttraction': 0.08940949427339745}. Best is trial 63 with value: 8338.09090909091.\u001b[0m\n"
     ]
    },
    {
     "name": "stdout",
     "output_type": "stream",
     "text": [
      "index_parallel='0074'\n"
     ]
    },
    {
     "name": "stderr",
     "output_type": "stream",
     "text": [
      "\u001b[32m[I 2022-08-16 01:44:56,496]\u001b[0m Trial 74 finished with value: 8369.477272727272 and parameters: {'kErase': 2, 'kRadius': 4, 'kAnnealingA': 13.738757495188004, 'kAnnealingB': 0.2509353734608586, 'kAnnealingStart': 24.975382817245457, 'kSkipRatio': 0.797334033522489, 'kTargetDeterminationTrials': 7, 'kAttractionRatio': 0.10322761283002811, 'kMaxAttractionDistance': 8, 'kStartAttraction': 0.08603254020132625}. Best is trial 74 with value: 8369.477272727272.\u001b[0m\n"
     ]
    },
    {
     "name": "stdout",
     "output_type": "stream",
     "text": [
      "Updated! 8369.477272727272\n",
      "index_parallel='0075'\n"
     ]
    },
    {
     "name": "stderr",
     "output_type": "stream",
     "text": [
      "\u001b[32m[I 2022-08-16 01:48:23,147]\u001b[0m Trial 75 finished with value: 8356.698863636364 and parameters: {'kErase': 2, 'kRadius': 4, 'kAnnealingA': 13.746118004246465, 'kAnnealingB': 0.29576825799408424, 'kAnnealingStart': 24.192659136255585, 'kSkipRatio': 0.7231845472180496, 'kTargetDeterminationTrials': 13, 'kAttractionRatio': 0.10171806682837412, 'kMaxAttractionDistance': 9, 'kStartAttraction': 0.0851570004230565}. Best is trial 74 with value: 8369.477272727272.\u001b[0m\n"
     ]
    },
    {
     "name": "stdout",
     "output_type": "stream",
     "text": [
      "index_parallel='0076'\n"
     ]
    },
    {
     "name": "stderr",
     "output_type": "stream",
     "text": [
      "\u001b[32m[I 2022-08-16 01:51:49,422]\u001b[0m Trial 76 finished with value: 8340.676136363636 and parameters: {'kErase': 2, 'kRadius': 5, 'kAnnealingA': 11.695020898109068, 'kAnnealingB': 0.3094197288394496, 'kAnnealingStart': 24.835540316209826, 'kSkipRatio': 0.7246506555871116, 'kTargetDeterminationTrials': 13, 'kAttractionRatio': 0.1031067873993848, 'kMaxAttractionDistance': 8, 'kStartAttraction': 0.08509174279065766}. Best is trial 74 with value: 8369.477272727272.\u001b[0m\n"
     ]
    },
    {
     "name": "stdout",
     "output_type": "stream",
     "text": [
      "index_parallel='0077'\n"
     ]
    },
    {
     "name": "stderr",
     "output_type": "stream",
     "text": [
      "\u001b[32m[I 2022-08-16 01:55:16,082]\u001b[0m Trial 77 finished with value: 8246.926136363636 and parameters: {'kErase': 3, 'kRadius': 5, 'kAnnealingA': 12.052407035135232, 'kAnnealingB': 0.28821509293276293, 'kAnnealingStart': 26.072830655615913, 'kSkipRatio': 0.7181574608927369, 'kTargetDeterminationTrials': 14, 'kAttractionRatio': 0.21288707740320076, 'kMaxAttractionDistance': 8, 'kStartAttraction': 0.09026326675478633}. Best is trial 74 with value: 8369.477272727272.\u001b[0m\n"
     ]
    },
    {
     "name": "stdout",
     "output_type": "stream",
     "text": [
      "index_parallel='0078'\n"
     ]
    },
    {
     "name": "stderr",
     "output_type": "stream",
     "text": [
      "\u001b[32m[I 2022-08-16 01:58:42,903]\u001b[0m Trial 78 finished with value: 8200.988636363636 and parameters: {'kErase': 2, 'kRadius': 5, 'kAnnealingA': 14.295596311935252, 'kAnnealingB': 0.40977416974461517, 'kAnnealingStart': 41.48885456215837, 'kSkipRatio': 0.7610024443918398, 'kTargetDeterminationTrials': 17, 'kAttractionRatio': 0.16840261690920205, 'kMaxAttractionDistance': 9, 'kStartAttraction': 0.11751209325378957}. Best is trial 74 with value: 8369.477272727272.\u001b[0m\n"
     ]
    },
    {
     "name": "stdout",
     "output_type": "stream",
     "text": [
      "index_parallel='0079'\n"
     ]
    },
    {
     "name": "stderr",
     "output_type": "stream",
     "text": [
      "\u001b[32m[I 2022-08-16 02:02:10,029]\u001b[0m Trial 79 finished with value: 8337.380681818182 and parameters: {'kErase': 2, 'kRadius': 6, 'kAnnealingA': 12.941100995429252, 'kAnnealingB': 0.5844902495857285, 'kAnnealingStart': 24.761726674489072, 'kSkipRatio': 0.6618243190102819, 'kTargetDeterminationTrials': 13, 'kAttractionRatio': 0.10146272313617036, 'kMaxAttractionDistance': 9, 'kStartAttraction': 0.06664559216033739}. Best is trial 74 with value: 8369.477272727272.\u001b[0m\n"
     ]
    },
    {
     "name": "stdout",
     "output_type": "stream",
     "text": [
      "index_parallel='0080'\n"
     ]
    },
    {
     "name": "stderr",
     "output_type": "stream",
     "text": [
      "\u001b[32m[I 2022-08-16 02:05:36,729]\u001b[0m Trial 80 finished with value: 8320.954545454546 and parameters: {'kErase': 2, 'kRadius': 6, 'kAnnealingA': 13.52830863929327, 'kAnnealingB': 0.3021582766098766, 'kAnnealingStart': 23.04744339619778, 'kSkipRatio': 0.7404822201547546, 'kTargetDeterminationTrials': 15, 'kAttractionRatio': 0.1092498799923365, 'kMaxAttractionDistance': 6, 'kStartAttraction': 0.06683076291806428}. Best is trial 74 with value: 8369.477272727272.\u001b[0m\n"
     ]
    },
    {
     "name": "stdout",
     "output_type": "stream",
     "text": [
      "index_parallel='0081'\n"
     ]
    },
    {
     "name": "stderr",
     "output_type": "stream",
     "text": [
      "\u001b[32m[I 2022-08-16 02:09:03,377]\u001b[0m Trial 81 finished with value: 8238.085227272728 and parameters: {'kErase': 2, 'kRadius': 6, 'kAnnealingA': 12.931185464090612, 'kAnnealingB': 0.5802682903229069, 'kAnnealingStart': 23.835539743498796, 'kSkipRatio': 0.7495366843561988, 'kTargetDeterminationTrials': 13, 'kAttractionRatio': 0.10560792216551804, 'kMaxAttractionDistance': 6, 'kStartAttraction': 0.0744444364100622}. Best is trial 74 with value: 8369.477272727272.\u001b[0m\n"
     ]
    },
    {
     "name": "stdout",
     "output_type": "stream",
     "text": [
      "index_parallel='0082'\n"
     ]
    },
    {
     "name": "stderr",
     "output_type": "stream",
     "text": [
      "\u001b[32m[I 2022-08-16 02:12:29,984]\u001b[0m Trial 82 finished with value: 7978.414772727273 and parameters: {'kErase': 2, 'kRadius': 6, 'kAnnealingA': 11.273330405268966, 'kAnnealingB': 0.3013028614203197, 'kAnnealingStart': 56.491801436532896, 'kSkipRatio': 0.7303477735983072, 'kTargetDeterminationTrials': 16, 'kAttractionRatio': 0.10453871106922998, 'kMaxAttractionDistance': 8, 'kStartAttraction': 0.06625346746997517}. Best is trial 74 with value: 8369.477272727272.\u001b[0m\n"
     ]
    },
    {
     "name": "stdout",
     "output_type": "stream",
     "text": [
      "index_parallel='0083'\n"
     ]
    },
    {
     "name": "stderr",
     "output_type": "stream",
     "text": [
      "\u001b[32m[I 2022-08-16 02:15:56,977]\u001b[0m Trial 83 finished with value: 8238.085227272728 and parameters: {'kErase': 2, 'kRadius': 6, 'kAnnealingA': 14.955205913188085, 'kAnnealingB': 0.38721502251976225, 'kAnnealingStart': 32.29664178085115, 'kSkipRatio': 0.6629679366738717, 'kTargetDeterminationTrials': 11, 'kAttractionRatio': 0.062478995712179144, 'kMaxAttractionDistance': 9, 'kStartAttraction': 0.0345926041807893}. Best is trial 74 with value: 8369.477272727272.\u001b[0m\n"
     ]
    },
    {
     "name": "stdout",
     "output_type": "stream",
     "text": [
      "index_parallel='0084'\n"
     ]
    },
    {
     "name": "stderr",
     "output_type": "stream",
     "text": [
      "\u001b[32m[I 2022-08-16 02:19:23,487]\u001b[0m Trial 84 finished with value: 8217.75 and parameters: {'kErase': 2, 'kRadius': 6, 'kAnnealingA': 12.619098741443668, 'kAnnealingB': 0.2235145437264845, 'kAnnealingStart': 38.285670077495894, 'kSkipRatio': 0.6977245337392619, 'kTargetDeterminationTrials': 10, 'kAttractionRatio': 0.11943298689703664, 'kMaxAttractionDistance': 10, 'kStartAttraction': 0.08469400511542029}. Best is trial 74 with value: 8369.477272727272.\u001b[0m\n"
     ]
    },
    {
     "name": "stdout",
     "output_type": "stream",
     "text": [
      "index_parallel='0085'\n"
     ]
    },
    {
     "name": "stderr",
     "output_type": "stream",
     "text": [
      "\u001b[32m[I 2022-08-16 02:22:50,271]\u001b[0m Trial 85 finished with value: 8284.869318181818 and parameters: {'kErase': 2, 'kRadius': 6, 'kAnnealingA': 14.202111184298918, 'kAnnealingB': 0.4712115928017333, 'kAnnealingStart': 24.951298499823796, 'kSkipRatio': 0.7688671965212848, 'kTargetDeterminationTrials': 15, 'kAttractionRatio': 0.09748339252589354, 'kMaxAttractionDistance': 11, 'kStartAttraction': 0.058189011701296006}. Best is trial 74 with value: 8369.477272727272.\u001b[0m\n"
     ]
    },
    {
     "name": "stdout",
     "output_type": "stream",
     "text": [
      "index_parallel='0086'\n"
     ]
    },
    {
     "name": "stderr",
     "output_type": "stream",
     "text": [
      "\u001b[32m[I 2022-08-16 02:26:16,865]\u001b[0m Trial 86 finished with value: 8355.426136363636 and parameters: {'kErase': 2, 'kRadius': 6, 'kAnnealingA': 11.324017587523617, 'kAnnealingB': 0.3289525179397954, 'kAnnealingStart': 22.029667135035364, 'kSkipRatio': 0.7177935088029029, 'kTargetDeterminationTrials': 12, 'kAttractionRatio': 0.0822746206227549, 'kMaxAttractionDistance': 9, 'kStartAttraction': 0.12204524493144195}. Best is trial 74 with value: 8369.477272727272.\u001b[0m\n"
     ]
    },
    {
     "name": "stdout",
     "output_type": "stream",
     "text": [
      "index_parallel='0087'\n"
     ]
    },
    {
     "name": "stderr",
     "output_type": "stream",
     "text": [
      "\u001b[32m[I 2022-08-16 02:29:43,541]\u001b[0m Trial 87 finished with value: 8007.738636363636 and parameters: {'kErase': 3, 'kRadius': 6, 'kAnnealingA': 11.05486276592169, 'kAnnealingB': 0.34497682905661264, 'kAnnealingStart': 46.07528110130098, 'kSkipRatio': 0.739362386704224, 'kTargetDeterminationTrials': 12, 'kAttractionRatio': 0.0866842794481758, 'kMaxAttractionDistance': 9, 'kStartAttraction': 0.1124624108985634}. Best is trial 74 with value: 8369.477272727272.\u001b[0m\n"
     ]
    },
    {
     "name": "stdout",
     "output_type": "stream",
     "text": [
      "index_parallel='0088'\n"
     ]
    },
    {
     "name": "stderr",
     "output_type": "stream",
     "text": [
      "\u001b[32m[I 2022-08-16 02:33:09,801]\u001b[0m Trial 88 finished with value: 8305.28409090909 and parameters: {'kErase': 2, 'kRadius': 6, 'kAnnealingA': 9.980863714190953, 'kAnnealingB': 0.21247618064861573, 'kAnnealingStart': 21.85331044854908, 'kSkipRatio': 0.7196084874579269, 'kTargetDeterminationTrials': 10, 'kAttractionRatio': 0.07853337013100689, 'kMaxAttractionDistance': 7, 'kStartAttraction': 0.06311223403291434}. Best is trial 74 with value: 8369.477272727272.\u001b[0m\n"
     ]
    },
    {
     "name": "stdout",
     "output_type": "stream",
     "text": [
      "index_parallel='0089'\n"
     ]
    },
    {
     "name": "stderr",
     "output_type": "stream",
     "text": [
      "\u001b[32m[I 2022-08-16 02:36:36,206]\u001b[0m Trial 89 finished with value: 8210.897727272728 and parameters: {'kErase': 2, 'kRadius': 6, 'kAnnealingA': 13.638812936206042, 'kAnnealingB': 0.6639664506548422, 'kAnnealingStart': 31.84631176209878, 'kSkipRatio': 0.7982212080712703, 'kTargetDeterminationTrials': 18, 'kAttractionRatio': 0.12453713585411905, 'kMaxAttractionDistance': 10, 'kStartAttraction': 0.07791637616923723}. Best is trial 74 with value: 8369.477272727272.\u001b[0m\n"
     ]
    },
    {
     "name": "stdout",
     "output_type": "stream",
     "text": [
      "index_parallel='0090'\n"
     ]
    },
    {
     "name": "stderr",
     "output_type": "stream",
     "text": [
      "\u001b[32m[I 2022-08-16 02:40:02,763]\u001b[0m Trial 90 finished with value: 8033.198863636364 and parameters: {'kErase': 1, 'kRadius': 6, 'kAnnealingA': -5.3211545543463, 'kAnnealingB': 0.2738735005631965, 'kAnnealingStart': 18.55265691467385, 'kSkipRatio': 0.693359213588096, 'kTargetDeterminationTrials': 13, 'kAttractionRatio': 0.33319844456293735, 'kMaxAttractionDistance': 11, 'kStartAttraction': 0.2207667512477578}. Best is trial 74 with value: 8369.477272727272.\u001b[0m\n"
     ]
    },
    {
     "name": "stdout",
     "output_type": "stream",
     "text": [
      "index_parallel='0091'\n"
     ]
    },
    {
     "name": "stderr",
     "output_type": "stream",
     "text": [
      "\u001b[32m[I 2022-08-16 02:43:29,348]\u001b[0m Trial 91 finished with value: 8226.545454545454 and parameters: {'kErase': 2, 'kRadius': 6, 'kAnnealingA': 11.379776145608673, 'kAnnealingB': 0.5272433896186495, 'kAnnealingStart': 23.109926813321213, 'kSkipRatio': 0.6415191372458315, 'kTargetDeterminationTrials': 15, 'kAttractionRatio': 0.013437645149757597, 'kMaxAttractionDistance': 8, 'kStartAttraction': 0.12399851996033176}. Best is trial 74 with value: 8369.477272727272.\u001b[0m\n"
     ]
    },
    {
     "name": "stdout",
     "output_type": "stream",
     "text": [
      "index_parallel='0092'\n"
     ]
    },
    {
     "name": "stderr",
     "output_type": "stream",
     "text": [
      "\u001b[32m[I 2022-08-16 02:46:55,623]\u001b[0m Trial 92 finished with value: 8282.386363636364 and parameters: {'kErase': 2, 'kRadius': 6, 'kAnnealingA': 11.921960224496011, 'kAnnealingB': 0.0490864372344387, 'kAnnealingStart': 27.95292278370126, 'kSkipRatio': 0.7503570148044553, 'kTargetDeterminationTrials': 12, 'kAttractionRatio': 0.1045636536825654, 'kMaxAttractionDistance': 6, 'kStartAttraction': 0.09682126988744698}. Best is trial 74 with value: 8369.477272727272.\u001b[0m\n"
     ]
    },
    {
     "name": "stdout",
     "output_type": "stream",
     "text": [
      "index_parallel='0093'\n"
     ]
    },
    {
     "name": "stderr",
     "output_type": "stream",
     "text": [
      "\u001b[32m[I 2022-08-16 02:50:22,467]\u001b[0m Trial 93 finished with value: 8299.75 and parameters: {'kErase': 2, 'kRadius': 5, 'kAnnealingA': 12.693000657691108, 'kAnnealingB': 0.41568479522453355, 'kAnnealingStart': 36.26680886030234, 'kSkipRatio': 0.7131639863243987, 'kTargetDeterminationTrials': 9, 'kAttractionRatio': 0.11328767926414697, 'kMaxAttractionDistance': 7, 'kStartAttraction': 0.022574253519878837}. Best is trial 74 with value: 8369.477272727272.\u001b[0m\n"
     ]
    },
    {
     "name": "stdout",
     "output_type": "stream",
     "text": [
      "index_parallel='0094'\n"
     ]
    },
    {
     "name": "stderr",
     "output_type": "stream",
     "text": [
      "\u001b[32m[I 2022-08-16 02:53:49,097]\u001b[0m Trial 94 finished with value: 8303.613636363636 and parameters: {'kErase': 2, 'kRadius': 6, 'kAnnealingA': 13.797617301742278, 'kAnnealingB': 0.3356008876365002, 'kAnnealingStart': 26.44572793874426, 'kSkipRatio': 0.6550384122099799, 'kTargetDeterminationTrials': 14, 'kAttractionRatio': 0.09439508159197312, 'kMaxAttractionDistance': 9, 'kStartAttraction': 0.05019469533209411}. Best is trial 74 with value: 8369.477272727272.\u001b[0m\n"
     ]
    },
    {
     "name": "stdout",
     "output_type": "stream",
     "text": [
      "index_parallel='0095'\n"
     ]
    },
    {
     "name": "stderr",
     "output_type": "stream",
     "text": [
      "\u001b[32m[I 2022-08-16 02:57:15,599]\u001b[0m Trial 95 finished with value: 8109.4375 and parameters: {'kErase': 2, 'kRadius': 5, 'kAnnealingA': 10.853968754810808, 'kAnnealingB': 0.5162319078716089, 'kAnnealingStart': 54.69572561083522, 'kSkipRatio': 0.7320272694174642, 'kTargetDeterminationTrials': 17, 'kAttractionRatio': 0.2489899601679693, 'kMaxAttractionDistance': 8, 'kStartAttraction': 0.009892927911223696}. Best is trial 74 with value: 8369.477272727272.\u001b[0m\n"
     ]
    },
    {
     "name": "stdout",
     "output_type": "stream",
     "text": [
      "index_parallel='0096'\n"
     ]
    },
    {
     "name": "stderr",
     "output_type": "stream",
     "text": [
      "\u001b[32m[I 2022-08-16 03:00:42,080]\u001b[0m Trial 96 finished with value: 8244.22159090909 and parameters: {'kErase': 2, 'kRadius': 4, 'kAnnealingA': 14.36386772907154, 'kAnnealingB': 0.5536514370068395, 'kAnnealingStart': 17.650154248288896, 'kSkipRatio': 0.6283932442216167, 'kTargetDeterminationTrials': 11, 'kAttractionRatio': 0.0799042200228753, 'kMaxAttractionDistance': 12, 'kStartAttraction': 0.03950008650494838}. Best is trial 74 with value: 8369.477272727272.\u001b[0m\n"
     ]
    },
    {
     "name": "stdout",
     "output_type": "stream",
     "text": [
      "index_parallel='0097'\n"
     ]
    },
    {
     "name": "stderr",
     "output_type": "stream",
     "text": [
      "\u001b[32m[I 2022-08-16 03:04:08,725]\u001b[0m Trial 97 finished with value: 8064.886363636364 and parameters: {'kErase': 2, 'kRadius': 5, 'kAnnealingA': -12.579606702720579, 'kAnnealingB': 0.18322435000329906, 'kAnnealingStart': 21.14955276243611, 'kSkipRatio': 0.7702788205271341, 'kTargetDeterminationTrials': 20, 'kAttractionRatio': 0.16993370137275668, 'kMaxAttractionDistance': 8, 'kStartAttraction': 0.08333687263341531}. Best is trial 74 with value: 8369.477272727272.\u001b[0m\n"
     ]
    },
    {
     "name": "stdout",
     "output_type": "stream",
     "text": [
      "index_parallel='0098'\n"
     ]
    },
    {
     "name": "stderr",
     "output_type": "stream",
     "text": [
      "\u001b[32m[I 2022-08-16 03:07:35,268]\u001b[0m Trial 98 finished with value: 8207.34090909091 and parameters: {'kErase': 2, 'kRadius': 6, 'kAnnealingA': 12.322148583436157, 'kAnnealingB': 0.4384337758792778, 'kAnnealingStart': 15.513524555724148, 'kSkipRatio': 0.6881984249566142, 'kTargetDeterminationTrials': 9, 'kAttractionRatio': 0.06296842546686705, 'kMaxAttractionDistance': 6, 'kStartAttraction': 0.1407930122230773}. Best is trial 74 with value: 8369.477272727272.\u001b[0m\n"
     ]
    },
    {
     "name": "stdout",
     "output_type": "stream",
     "text": [
      "index_parallel='0099'\n"
     ]
    },
    {
     "name": "stderr",
     "output_type": "stream",
     "text": [
      "\u001b[32m[I 2022-08-16 03:11:01,943]\u001b[0m Trial 99 finished with value: 8189.534090909091 and parameters: {'kErase': 3, 'kRadius': 4, 'kAnnealingA': 12.935921874261895, 'kAnnealingB': 0.2544904722364691, 'kAnnealingStart': 29.06627357418167, 'kSkipRatio': 0.7102697495472207, 'kTargetDeterminationTrials': 15, 'kAttractionRatio': 0.19864084530297957, 'kMaxAttractionDistance': 5, 'kStartAttraction': 0.17020312413043745}. Best is trial 74 with value: 8369.477272727272.\u001b[0m\n"
     ]
    },
    {
     "name": "stdout",
     "output_type": "stream",
     "text": [
      "index_parallel='0100'\n"
     ]
    },
    {
     "name": "stderr",
     "output_type": "stream",
     "text": [
      "\u001b[32m[I 2022-08-16 03:14:28,696]\u001b[0m Trial 100 finished with value: 8248.28409090909 and parameters: {'kErase': 2, 'kRadius': 4, 'kAnnealingA': 10.044090434796471, 'kAnnealingB': 0.6667334204060479, 'kAnnealingStart': 14.738139411332815, 'kSkipRatio': 0.6661047505498144, 'kTargetDeterminationTrials': 13, 'kAttractionRatio': 0.05616111835333263, 'kMaxAttractionDistance': 10, 'kStartAttraction': 0.10758764620380608}. Best is trial 74 with value: 8369.477272727272.\u001b[0m\n"
     ]
    },
    {
     "name": "stdout",
     "output_type": "stream",
     "text": [
      "index_parallel='0101'\n"
     ]
    },
    {
     "name": "stderr",
     "output_type": "stream",
     "text": [
      "\u001b[32m[I 2022-08-16 03:17:55,342]\u001b[0m Trial 101 finished with value: 8326.875 and parameters: {'kErase': 2, 'kRadius': 4, 'kAnnealingA': 11.93768933228877, 'kAnnealingB': 0.868011723402117, 'kAnnealingStart': 18.043335275902418, 'kSkipRatio': 0.6797176479239121, 'kTargetDeterminationTrials': 12, 'kAttractionRatio': 0.12442270636761502, 'kMaxAttractionDistance': 7, 'kStartAttraction': 0.14393878480636915}. Best is trial 74 with value: 8369.477272727272.\u001b[0m\n"
     ]
    },
    {
     "name": "stdout",
     "output_type": "stream",
     "text": [
      "index_parallel='0102'\n"
     ]
    },
    {
     "name": "stderr",
     "output_type": "stream",
     "text": [
      "\u001b[32m[I 2022-08-16 03:21:21,833]\u001b[0m Trial 102 finished with value: 8325.193181818182 and parameters: {'kErase': 2, 'kRadius': 4, 'kAnnealingA': 11.432529742278756, 'kAnnealingB': 0.3440920935415624, 'kAnnealingStart': 23.69480497338802, 'kSkipRatio': 0.6717759692960122, 'kTargetDeterminationTrials': 12, 'kAttractionRatio': 0.1292373608091182, 'kMaxAttractionDistance': 7, 'kStartAttraction': 0.07278709367868391}. Best is trial 74 with value: 8369.477272727272.\u001b[0m\n"
     ]
    },
    {
     "name": "stdout",
     "output_type": "stream",
     "text": [
      "index_parallel='0103'\n"
     ]
    },
    {
     "name": "stderr",
     "output_type": "stream",
     "text": [
      "\u001b[32m[I 2022-08-16 03:24:48,540]\u001b[0m Trial 103 finished with value: 8239.193181818182 and parameters: {'kErase': 2, 'kRadius': 4, 'kAnnealingA': 14.12085577925782, 'kAnnealingB': 0.36214170049243866, 'kAnnealingStart': 18.312991459646554, 'kSkipRatio': 0.6957122808494645, 'kTargetDeterminationTrials': 10, 'kAttractionRatio': 0.12864571334613892, 'kMaxAttractionDistance': 6, 'kStartAttraction': 0.071333615800207}. Best is trial 74 with value: 8369.477272727272.\u001b[0m\n"
     ]
    },
    {
     "name": "stdout",
     "output_type": "stream",
     "text": [
      "index_parallel='0104'\n"
     ]
    },
    {
     "name": "stderr",
     "output_type": "stream",
     "text": [
      "\u001b[32m[I 2022-08-16 03:28:15,296]\u001b[0m Trial 104 finished with value: 8374.835227272728 and parameters: {'kErase': 2, 'kRadius': 4, 'kAnnealingA': 10.893396851302867, 'kAnnealingB': 0.16271081360327977, 'kAnnealingStart': 26.207150870429956, 'kSkipRatio': 0.5957265051094381, 'kTargetDeterminationTrials': 12, 'kAttractionRatio': 0.11267030725565279, 'kMaxAttractionDistance': 7, 'kStartAttraction': 0.13322734128158037}. Best is trial 104 with value: 8374.835227272728.\u001b[0m\n"
     ]
    },
    {
     "name": "stdout",
     "output_type": "stream",
     "text": [
      "Updated! 8374.835227272728\n",
      "index_parallel='0105'\n"
     ]
    },
    {
     "name": "stderr",
     "output_type": "stream",
     "text": [
      "\u001b[32m[I 2022-08-16 03:31:42,023]\u001b[0m Trial 105 finished with value: 8256.892045454546 and parameters: {'kErase': 2, 'kRadius': 4, 'kAnnealingA': 10.840083647787191, 'kAnnealingB': 0.8625723858950274, 'kAnnealingStart': 26.332497931449794, 'kSkipRatio': 0.566730740197332, 'kTargetDeterminationTrials': 12, 'kAttractionRatio': 0.11557738727923682, 'kMaxAttractionDistance': 7, 'kStartAttraction': 0.21121893084245402}. Best is trial 104 with value: 8374.835227272728.\u001b[0m\n"
     ]
    },
    {
     "name": "stdout",
     "output_type": "stream",
     "text": [
      "index_parallel='0106'\n"
     ]
    },
    {
     "name": "stderr",
     "output_type": "stream",
     "text": [
      "\u001b[32m[I 2022-08-16 03:35:08,404]\u001b[0m Trial 106 finished with value: 8280.744318181818 and parameters: {'kErase': 2, 'kRadius': 4, 'kAnnealingA': 7.9763812145860005, 'kAnnealingB': 1.5992023269833668, 'kAnnealingStart': 19.794476282801575, 'kSkipRatio': 0.5949264066696287, 'kTargetDeterminationTrials': 14, 'kAttractionRatio': 0.1412268755938991, 'kMaxAttractionDistance': 11, 'kStartAttraction': 0.13620651789075594}. Best is trial 104 with value: 8374.835227272728.\u001b[0m\n"
     ]
    },
    {
     "name": "stdout",
     "output_type": "stream",
     "text": [
      "index_parallel='0107'\n"
     ]
    },
    {
     "name": "stderr",
     "output_type": "stream",
     "text": [
      "\u001b[32m[I 2022-08-16 03:38:34,977]\u001b[0m Trial 107 finished with value: 8416.193181818182 and parameters: {'kErase': 2, 'kRadius': 4, 'kAnnealingA': 11.463852934535785, 'kAnnealingB': 0.3360838526228333, 'kAnnealingStart': 25.294763408404645, 'kSkipRatio': 0.6503805633559121, 'kTargetDeterminationTrials': 11, 'kAttractionRatio': 0.12534570848384707, 'kMaxAttractionDistance': 9, 'kStartAttraction': 0.2549467403443117}. Best is trial 107 with value: 8416.193181818182.\u001b[0m\n"
     ]
    },
    {
     "name": "stdout",
     "output_type": "stream",
     "text": [
      "Updated! 8416.193181818182\n",
      "index_parallel='0108'\n"
     ]
    },
    {
     "name": "stderr",
     "output_type": "stream",
     "text": [
      "\u001b[32m[I 2022-08-16 03:42:01,527]\u001b[0m Trial 108 finished with value: 8225.27840909091 and parameters: {'kErase': 2, 'kRadius': 4, 'kAnnealingA': 11.55945720343899, 'kAnnealingB': 0.0745918833926773, 'kAnnealingStart': 17.3490522417556, 'kSkipRatio': 0.622375066301462, 'kTargetDeterminationTrials': 13, 'kAttractionRatio': 0.07258617766861282, 'kMaxAttractionDistance': 9, 'kStartAttraction': 0.1723718446425673}. Best is trial 107 with value: 8416.193181818182.\u001b[0m\n"
     ]
    },
    {
     "name": "stdout",
     "output_type": "stream",
     "text": [
      "index_parallel='0109'\n"
     ]
    },
    {
     "name": "stderr",
     "output_type": "stream",
     "text": [
      "\u001b[32m[I 2022-08-16 03:45:27,990]\u001b[0m Trial 109 finished with value: 8304.97159090909 and parameters: {'kErase': 2, 'kRadius': 4, 'kAnnealingA': 12.241198377902938, 'kAnnealingB': 0.30716055130553643, 'kAnnealingStart': 24.93676843003268, 'kSkipRatio': 0.6532693311871958, 'kTargetDeterminationTrials': 11, 'kAttractionRatio': 0.08443102139338372, 'kMaxAttractionDistance': 13, 'kStartAttraction': 0.2584432107415215}. Best is trial 107 with value: 8416.193181818182.\u001b[0m\n"
     ]
    },
    {
     "name": "stdout",
     "output_type": "stream",
     "text": [
      "index_parallel='0110'\n"
     ]
    },
    {
     "name": "stderr",
     "output_type": "stream",
     "text": [
      "\u001b[32m[I 2022-08-16 03:48:53,935]\u001b[0m Trial 110 finished with value: 8285.4375 and parameters: {'kErase': 1, 'kRadius': 4, 'kAnnealingA': 10.294202593894793, 'kAnnealingB': 0.21047473045270773, 'kAnnealingStart': 21.77816510512056, 'kSkipRatio': 0.643311619483777, 'kTargetDeterminationTrials': 10, 'kAttractionRatio': 0.09348632373793961, 'kMaxAttractionDistance': 10, 'kStartAttraction': 0.1240747950847153}. Best is trial 107 with value: 8416.193181818182.\u001b[0m\n"
     ]
    },
    {
     "name": "stdout",
     "output_type": "stream",
     "text": [
      "index_parallel='0111'\n"
     ]
    },
    {
     "name": "stderr",
     "output_type": "stream",
     "text": [
      "\u001b[32m[I 2022-08-16 03:52:20,440]\u001b[0m Trial 111 finished with value: 8286.647727272728 and parameters: {'kErase': 2, 'kRadius': 4, 'kAnnealingA': 13.24809640083085, 'kAnnealingB': 0.4519158771773614, 'kAnnealingStart': 33.20026156024978, 'kSkipRatio': 0.7232230458219774, 'kTargetDeterminationTrials': 8, 'kAttractionRatio': 0.1223769026812113, 'kMaxAttractionDistance': 7, 'kStartAttraction': 0.10524085825870869}. Best is trial 107 with value: 8416.193181818182.\u001b[0m\n"
     ]
    },
    {
     "name": "stdout",
     "output_type": "stream",
     "text": [
      "index_parallel='0112'\n"
     ]
    },
    {
     "name": "stderr",
     "output_type": "stream",
     "text": [
      "\u001b[32m[I 2022-08-16 03:55:47,201]\u001b[0m Trial 112 finished with value: 8337.238636363636 and parameters: {'kErase': 2, 'kRadius': 4, 'kAnnealingA': 11.114637180469966, 'kAnnealingB': 0.38070670137310003, 'kAnnealingStart': 30.63637626423833, 'kSkipRatio': 0.7040695252141544, 'kTargetDeterminationTrials': 12, 'kAttractionRatio': 0.11058436628070956, 'kMaxAttractionDistance': 8, 'kStartAttraction': 0.14200267641243355}. Best is trial 107 with value: 8416.193181818182.\u001b[0m\n"
     ]
    },
    {
     "name": "stdout",
     "output_type": "stream",
     "text": [
      "index_parallel='0113'\n"
     ]
    },
    {
     "name": "stderr",
     "output_type": "stream",
     "text": [
      "\u001b[32m[I 2022-08-16 03:59:14,021]\u001b[0m Trial 113 finished with value: 8164.073863636364 and parameters: {'kErase': 2, 'kRadius': 4, 'kAnnealingA': 8.56239563922633, 'kAnnealingB': 0.35267554481449465, 'kAnnealingStart': 28.489610060243084, 'kSkipRatio': 0.7410268669597713, 'kTargetDeterminationTrials': 16, 'kAttractionRatio': 0.1092097091337421, 'kMaxAttractionDistance': 98, 'kStartAttraction': 0.13912658037179984}. Best is trial 107 with value: 8416.193181818182.\u001b[0m\n"
     ]
    },
    {
     "name": "stdout",
     "output_type": "stream",
     "text": [
      "index_parallel='0114'\n"
     ]
    },
    {
     "name": "stderr",
     "output_type": "stream",
     "text": [
      "\u001b[32m[I 2022-08-16 04:02:40,600]\u001b[0m Trial 114 finished with value: 8202.22159090909 and parameters: {'kErase': 2, 'kRadius': 4, 'kAnnealingA': -9.762294542764248, 'kAnnealingB': 0.1558930022729293, 'kAnnealingStart': 20.032296837264404, 'kSkipRatio': 0.6850049475247039, 'kTargetDeterminationTrials': 12, 'kAttractionRatio': 0.12995567308169859, 'kMaxAttractionDistance': 9, 'kStartAttraction': 0.15541296043547087}. Best is trial 107 with value: 8416.193181818182.\u001b[0m\n"
     ]
    },
    {
     "name": "stdout",
     "output_type": "stream",
     "text": [
      "index_parallel='0115'\n"
     ]
    },
    {
     "name": "stderr",
     "output_type": "stream",
     "text": [
      "\u001b[32m[I 2022-08-16 04:06:07,181]\u001b[0m Trial 115 finished with value: 8361.318181818182 and parameters: {'kErase': 2, 'kRadius': 4, 'kAnnealingA': 11.12176310717768, 'kAnnealingB': 0.25376973446094536, 'kAnnealingStart': 23.413624531779952, 'kSkipRatio': 0.6310475705591696, 'kTargetDeterminationTrials': 11, 'kAttractionRatio': 0.07841396924802935, 'kMaxAttractionDistance': 8, 'kStartAttraction': 0.0788823783513794}. Best is trial 107 with value: 8416.193181818182.\u001b[0m\n"
     ]
    },
    {
     "name": "stdout",
     "output_type": "stream",
     "text": [
      "index_parallel='0116'\n"
     ]
    },
    {
     "name": "stderr",
     "output_type": "stream",
     "text": [
      "\u001b[32m[I 2022-08-16 04:09:33,596]\u001b[0m Trial 116 finished with value: 8276.25 and parameters: {'kErase': 2, 'kRadius': 4, 'kAnnealingA': 11.136038014588728, 'kAnnealingB': 0.23855717758714268, 'kAnnealingStart': 30.28606931272471, 'kSkipRatio': 0.6109312244077902, 'kTargetDeterminationTrials': 11, 'kAttractionRatio': 0.08943491239562108, 'kMaxAttractionDistance': 8, 'kStartAttraction': 0.23128805744652398}. Best is trial 107 with value: 8416.193181818182.\u001b[0m\n"
     ]
    },
    {
     "name": "stdout",
     "output_type": "stream",
     "text": [
      "index_parallel='0117'\n"
     ]
    },
    {
     "name": "stderr",
     "output_type": "stream",
     "text": [
      "\u001b[32m[I 2022-08-16 04:13:00,086]\u001b[0m Trial 117 finished with value: 8250.335227272728 and parameters: {'kErase': 2, 'kRadius': 4, 'kAnnealingA': 9.98791615982765, 'kAnnealingB': 0.38777555029501665, 'kAnnealingStart': 25.244863934259417, 'kSkipRatio': 0.6242551572120185, 'kTargetDeterminationTrials': 10, 'kAttractionRatio': 0.0770488736247349, 'kMaxAttractionDistance': 12, 'kStartAttraction': 0.0806441459557073}. Best is trial 107 with value: 8416.193181818182.\u001b[0m\n"
     ]
    },
    {
     "name": "stdout",
     "output_type": "stream",
     "text": [
      "index_parallel='0118'\n"
     ]
    },
    {
     "name": "stderr",
     "output_type": "stream",
     "text": [
      "\u001b[32m[I 2022-08-16 04:16:26,788]\u001b[0m Trial 118 finished with value: 8282.198863636364 and parameters: {'kErase': 2, 'kRadius': 4, 'kAnnealingA': 12.22515040091376, 'kAnnealingB': 0.08548375417419049, 'kAnnealingStart': 21.66870644937974, 'kSkipRatio': 0.6697650642177819, 'kTargetDeterminationTrials': 13, 'kAttractionRatio': 0.07038950433043918, 'kMaxAttractionDistance': 9, 'kStartAttraction': 0.094134565913465}. Best is trial 107 with value: 8416.193181818182.\u001b[0m\n"
     ]
    },
    {
     "name": "stdout",
     "output_type": "stream",
     "text": [
      "index_parallel='0119'\n"
     ]
    },
    {
     "name": "stderr",
     "output_type": "stream",
     "text": [
      "\u001b[32m[I 2022-08-16 04:19:53,548]\u001b[0m Trial 119 finished with value: 8283.011363636364 and parameters: {'kErase': 2, 'kRadius': 4, 'kAnnealingA': 10.67127403436004, 'kAnnealingB': 0.4872828496290535, 'kAnnealingStart': 14.191054543958693, 'kSkipRatio': 0.635746850127328, 'kTargetDeterminationTrials': 12, 'kAttractionRatio': 0.10126241775569488, 'kMaxAttractionDistance': 10, 'kStartAttraction': 0.19062392253335353}. Best is trial 107 with value: 8416.193181818182.\u001b[0m\n"
     ]
    },
    {
     "name": "stdout",
     "output_type": "stream",
     "text": [
      "index_parallel='0120'\n"
     ]
    },
    {
     "name": "stderr",
     "output_type": "stream",
     "text": [
      "\u001b[32m[I 2022-08-16 04:23:20,207]\u001b[0m Trial 120 finished with value: 8256.517045454546 and parameters: {'kErase': 2, 'kRadius': 4, 'kAnnealingA': 8.966639295597982, 'kAnnealingB': 0.6300550416960524, 'kAnnealingStart': 17.127280681724173, 'kSkipRatio': 0.6519373895108991, 'kTargetDeterminationTrials': 9, 'kAttractionRatio': 0.08315350738303166, 'kMaxAttractionDistance': 7, 'kStartAttraction': 0.048087629457739464}. Best is trial 107 with value: 8416.193181818182.\u001b[0m\n"
     ]
    },
    {
     "name": "stdout",
     "output_type": "stream",
     "text": [
      "index_parallel='0121'\n"
     ]
    },
    {
     "name": "stderr",
     "output_type": "stream",
     "text": [
      "\u001b[32m[I 2022-08-16 04:26:46,675]\u001b[0m Trial 121 finished with value: 8430.27840909091 and parameters: {'kErase': 2, 'kRadius': 4, 'kAnnealingA': 12.801970168802779, 'kAnnealingB': 0.32280037269233675, 'kAnnealingStart': 23.366044094213727, 'kSkipRatio': 0.7592970781871156, 'kTargetDeterminationTrials': 15, 'kAttractionRatio': 0.048344719005193965, 'kMaxAttractionDistance': 8, 'kStartAttraction': 0.05989574639148155}. Best is trial 121 with value: 8430.27840909091.\u001b[0m\n"
     ]
    },
    {
     "name": "stdout",
     "output_type": "stream",
     "text": [
      "Updated! 8430.27840909091\n",
      "index_parallel='0122'\n"
     ]
    },
    {
     "name": "stderr",
     "output_type": "stream",
     "text": [
      "\u001b[32m[I 2022-08-16 04:30:13,533]\u001b[0m Trial 122 finished with value: 8213.806818181818 and parameters: {'kErase': 4, 'kRadius': 4, 'kAnnealingA': 12.772561227863182, 'kAnnealingB': 0.2676343152001124, 'kAnnealingStart': 26.253142636016314, 'kSkipRatio': 0.7590940597398013, 'kTargetDeterminationTrials': 17, 'kAttractionRatio': 0.030405692457660116, 'kMaxAttractionDistance': 8, 'kStartAttraction': 0.05816526807218357}. Best is trial 121 with value: 8430.27840909091.\u001b[0m\n"
     ]
    },
    {
     "name": "stdout",
     "output_type": "stream",
     "text": [
      "index_parallel='0123'\n"
     ]
    },
    {
     "name": "stderr",
     "output_type": "stream",
     "text": [
      "\u001b[32m[I 2022-08-16 04:33:40,186]\u001b[0m Trial 123 finished with value: 8248.857954545454 and parameters: {'kErase': 2, 'kRadius': 4, 'kAnnealingA': 11.786969971195646, 'kAnnealingB': 0.15643098533086383, 'kAnnealingStart': 19.555667844521388, 'kSkipRatio': 0.789933792589786, 'kTargetDeterminationTrials': 14, 'kAttractionRatio': 0.1653039631514441, 'kMaxAttractionDistance': 9, 'kStartAttraction': 0.11642290259690888}. Best is trial 121 with value: 8430.27840909091.\u001b[0m\n"
     ]
    },
    {
     "name": "stdout",
     "output_type": "stream",
     "text": [
      "index_parallel='0124'\n"
     ]
    },
    {
     "name": "stderr",
     "output_type": "stream",
     "text": [
      "\u001b[32m[I 2022-08-16 04:37:06,604]\u001b[0m Trial 124 finished with value: 8387.90340909091 and parameters: {'kErase': 2, 'kRadius': 4, 'kAnnealingA': 14.643179383433637, 'kAnnealingB': 0.3360605873721046, 'kAnnealingStart': 23.640580675510762, 'kSkipRatio': 0.7055502249677241, 'kTargetDeterminationTrials': 18, 'kAttractionRatio': 0.044429259022995396, 'kMaxAttractionDistance': 8, 'kStartAttraction': 0.07609818506417212}. Best is trial 121 with value: 8430.27840909091.\u001b[0m\n"
     ]
    },
    {
     "name": "stdout",
     "output_type": "stream",
     "text": [
      "index_parallel='0125'\n"
     ]
    },
    {
     "name": "stderr",
     "output_type": "stream",
     "text": [
      "\u001b[32m[I 2022-08-16 04:40:32,917]\u001b[0m Trial 125 finished with value: 8131.8125 and parameters: {'kErase': 2, 'kRadius': 4, 'kAnnealingA': 14.887059767221647, 'kAnnealingB': 0.0022511965600576223, 'kAnnealingStart': 38.35287734019963, 'kSkipRatio': 0.7053145095151866, 'kTargetDeterminationTrials': 19, 'kAttractionRatio': 0.044124647783924685, 'kMaxAttractionDistance': 8, 'kStartAttraction': 0.03306534472254504}. Best is trial 121 with value: 8430.27840909091.\u001b[0m\n"
     ]
    },
    {
     "name": "stdout",
     "output_type": "stream",
     "text": [
      "index_parallel='0126'\n"
     ]
    },
    {
     "name": "stderr",
     "output_type": "stream",
     "text": [
      "\u001b[32m[I 2022-08-16 04:43:59,495]\u001b[0m Trial 126 finished with value: 8004.926136363636 and parameters: {'kErase': 2, 'kRadius': 4, 'kAnnealingA': 14.120184047890987, 'kAnnealingB': 0.40777899978909893, 'kAnnealingStart': 30.91619013571031, 'kSkipRatio': 0.6010838087621599, 'kTargetDeterminationTrials': 14, 'kAttractionRatio': 0.03880940677192057, 'kMaxAttractionDistance': 11, 'kStartAttraction': 0.003093770850260251}. Best is trial 121 with value: 8430.27840909091.\u001b[0m\n"
     ]
    },
    {
     "name": "stdout",
     "output_type": "stream",
     "text": [
      "index_parallel='0127'\n"
     ]
    },
    {
     "name": "stderr",
     "output_type": "stream",
     "text": [
      "\u001b[32m[I 2022-08-16 04:47:25,934]\u001b[0m Trial 127 finished with value: 8298.210227272728 and parameters: {'kErase': 2, 'kRadius': 4, 'kAnnealingA': 13.210593892052103, 'kAnnealingB': 0.20732837695272543, 'kAnnealingStart': 27.65954048090989, 'kSkipRatio': 0.7219607100459386, 'kTargetDeterminationTrials': 16, 'kAttractionRatio': 0.04061925173232125, 'kMaxAttractionDistance': 9, 'kStartAttraction': 0.0834368992475047}. Best is trial 121 with value: 8430.27840909091.\u001b[0m\n"
     ]
    },
    {
     "name": "stdout",
     "output_type": "stream",
     "text": [
      "index_parallel='0128'\n"
     ]
    },
    {
     "name": "stderr",
     "output_type": "stream",
     "text": [
      "\u001b[32m[I 2022-08-16 04:50:52,397]\u001b[0m Trial 128 finished with value: 6039.375 and parameters: {'kErase': 2, 'kRadius': 4, 'kAnnealingA': 12.61757273630917, 'kAnnealingB': 2.979761198114324, 'kAnnealingStart': 22.540991910197445, 'kSkipRatio': 0.20044071735865104, 'kTargetDeterminationTrials': 18, 'kAttractionRatio': 0.03364985306037196, 'kMaxAttractionDistance': 10, 'kStartAttraction': 0.05360050331149535}. Best is trial 121 with value: 8430.27840909091.\u001b[0m\n"
     ]
    },
    {
     "name": "stdout",
     "output_type": "stream",
     "text": [
      "index_parallel='0129'\n"
     ]
    },
    {
     "name": "stderr",
     "output_type": "stream",
     "text": [
      "\u001b[32m[I 2022-08-16 04:54:18,847]\u001b[0m Trial 129 finished with value: 8208.443181818182 and parameters: {'kErase': 2, 'kRadius': 4, 'kAnnealingA': 13.959480673433003, 'kAnnealingB': 0.3160751301896648, 'kAnnealingStart': 15.822211532963014, 'kSkipRatio': 0.7729395563800658, 'kTargetDeterminationTrials': 13, 'kAttractionRatio': 0.02604913208081686, 'kMaxAttractionDistance': 8, 'kStartAttraction': 0.0425797276930825}. Best is trial 121 with value: 8430.27840909091.\u001b[0m\n"
     ]
    },
    {
     "name": "stdout",
     "output_type": "stream",
     "text": [
      "index_parallel='0130'\n"
     ]
    },
    {
     "name": "stderr",
     "output_type": "stream",
     "text": [
      "\u001b[32m[I 2022-08-16 04:57:45,542]\u001b[0m Trial 130 finished with value: 8170.392045454545 and parameters: {'kErase': 2, 'kRadius': 4, 'kAnnealingA': 12.002209195019171, 'kAnnealingB': 0.5693989920351273, 'kAnnealingStart': 11.287197772072531, 'kSkipRatio': 0.752286319527873, 'kTargetDeterminationTrials': 11, 'kAttractionRatio': 0.06327760464802228, 'kMaxAttractionDistance': 7, 'kStartAttraction': 0.09972314076015754}. Best is trial 121 with value: 8430.27840909091.\u001b[0m\n"
     ]
    },
    {
     "name": "stdout",
     "output_type": "stream",
     "text": [
      "index_parallel='0131'\n"
     ]
    },
    {
     "name": "stderr",
     "output_type": "stream",
     "text": [
      "\u001b[32m[I 2022-08-16 05:01:12,029]\u001b[0m Trial 131 finished with value: 8341.09659090909 and parameters: {'kErase': 2, 'kRadius': 4, 'kAnnealingA': 11.032723798006275, 'kAnnealingB': 0.33990229297326, 'kAnnealingStart': 24.35935662910456, 'kSkipRatio': 0.6735092851048062, 'kTargetDeterminationTrials': 9, 'kAttractionRatio': 0.04885433435914232, 'kMaxAttractionDistance': 7, 'kStartAttraction': 0.06581981193969805}. Best is trial 121 with value: 8430.27840909091.\u001b[0m\n"
     ]
    },
    {
     "name": "stdout",
     "output_type": "stream",
     "text": [
      "index_parallel='0132'\n"
     ]
    },
    {
     "name": "stderr",
     "output_type": "stream",
     "text": [
      "\u001b[32m[I 2022-08-16 05:04:38,791]\u001b[0m Trial 132 finished with value: 8324.625 and parameters: {'kErase': 2, 'kRadius': 4, 'kAnnealingA': 11.107273351117325, 'kAnnealingB': 0.5079576281175917, 'kAnnealingStart': 23.98778114503228, 'kSkipRatio': 0.6864169281653258, 'kTargetDeterminationTrials': 9, 'kAttractionRatio': 0.054709489952788466, 'kMaxAttractionDistance': 9, 'kStartAttraction': 0.06370471629676328}. Best is trial 121 with value: 8430.27840909091.\u001b[0m\n"
     ]
    },
    {
     "name": "stdout",
     "output_type": "stream",
     "text": [
      "index_parallel='0134'\n"
     ]
    },
    {
     "name": "stderr",
     "output_type": "stream",
     "text": [
      "\u001b[32m[I 2022-08-16 05:08:05,655]\u001b[0m Trial 134 finished with value: 8318.75 and parameters: {'kErase': 2, 'kRadius': 4, 'kAnnealingA': 14.511567316215466, 'kAnnealingB': 0.29013998689408826, 'kAnnealingStart': 20.65032473460638, 'kSkipRatio': 0.702928808735721, 'kTargetDeterminationTrials': 11, 'kAttractionRatio': 0.043986500259022246, 'kMaxAttractionDistance': 8, 'kStartAttraction': 0.09076645197725502}. Best is trial 121 with value: 8430.27840909091.\u001b[0m\n"
     ]
    },
    {
     "name": "stdout",
     "output_type": "stream",
     "text": [
      "index_parallel='0136'\n"
     ]
    },
    {
     "name": "stderr",
     "output_type": "stream",
     "text": [
      "\u001b[32m[I 2022-08-16 05:11:32,060]\u001b[0m Trial 136 finished with value: 8289.267045454546 and parameters: {'kErase': 2, 'kRadius': 4, 'kAnnealingA': 12.863050735175763, 'kAnnealingB': 0.23750924801057002, 'kAnnealingStart': 31.914097801146468, 'kSkipRatio': 0.6618334357206889, 'kTargetDeterminationTrials': 8, 'kAttractionRatio': 0.051459579382971264, 'kMaxAttractionDistance': 10, 'kStartAttraction': 0.12047685645200713}. Best is trial 121 with value: 8430.27840909091.\u001b[0m\n"
     ]
    },
    {
     "name": "stdout",
     "output_type": "stream",
     "text": [
      "index_parallel='0138'\n"
     ]
    },
    {
     "name": "stderr",
     "output_type": "stream",
     "text": [
      "\u001b[32m[I 2022-08-16 05:14:58,865]\u001b[0m Trial 138 finished with value: 8269.90340909091 and parameters: {'kErase': 2, 'kRadius': 4, 'kAnnealingA': 13.761921611884553, 'kAnnealingB': 0.13292223550662458, 'kAnnealingStart': 27.67086324337444, 'kSkipRatio': 0.7328721258289629, 'kTargetDeterminationTrials': 7, 'kAttractionRatio': 0.023116771793888293, 'kMaxAttractionDistance': 7, 'kStartAttraction': 0.07618885111749225}. Best is trial 121 with value: 8430.27840909091.\u001b[0m\n"
     ]
    },
    {
     "name": "stdout",
     "output_type": "stream",
     "text": [
      "index_parallel='0140'\n"
     ]
    },
    {
     "name": "stderr",
     "output_type": "stream",
     "text": [
      "\u001b[32m[I 2022-08-16 05:18:25,396]\u001b[0m Trial 140 finished with value: 8286.625 and parameters: {'kErase': 2, 'kRadius': 4, 'kAnnealingA': 9.752732415481344, 'kAnnealingB': 0.39210601452007443, 'kAnnealingStart': 21.584707043475824, 'kSkipRatio': 0.7988861074793054, 'kTargetDeterminationTrials': 15, 'kAttractionRatio': 0.03346037112799165, 'kMaxAttractionDistance': 9, 'kStartAttraction': 0.08929133847528342}. Best is trial 121 with value: 8430.27840909091.\u001b[0m\n"
     ]
    },
    {
     "name": "stdout",
     "output_type": "stream",
     "text": [
      "index_parallel='0142'\n"
     ]
    },
    {
     "name": "stderr",
     "output_type": "stream",
     "text": [
      "\u001b[32m[I 2022-08-16 05:21:52,134]\u001b[0m Trial 142 finished with value: 8353.420454545454 and parameters: {'kErase': 2, 'kRadius': 4, 'kAnnealingA': 12.128430589752435, 'kAnnealingB': 0.32925463758870216, 'kAnnealingStart': 18.825384346633875, 'kSkipRatio': 0.6980551808100468, 'kTargetDeterminationTrials': 10, 'kAttractionRatio': 0.0476402145970381, 'kMaxAttractionDistance': 8, 'kStartAttraction': 0.14739447385324697}. Best is trial 121 with value: 8430.27840909091.\u001b[0m\n"
     ]
    },
    {
     "name": "stdout",
     "output_type": "stream",
     "text": [
      "index_parallel='0144'\n"
     ]
    },
    {
     "name": "stderr",
     "output_type": "stream",
     "text": [
      "\u001b[32m[I 2022-08-16 05:25:18,500]\u001b[0m Trial 144 finished with value: 8367.056818181818 and parameters: {'kErase': 2, 'kRadius': 4, 'kAnnealingA': 11.398155407134574, 'kAnnealingB': 0.3289322243131845, 'kAnnealingStart': 18.498775103544464, 'kSkipRatio': 0.7076860083515425, 'kTargetDeterminationTrials': 10, 'kAttractionRatio': 0.04747478572095899, 'kMaxAttractionDistance': 8, 'kStartAttraction': 0.1654514825671247}. Best is trial 121 with value: 8430.27840909091.\u001b[0m\n"
     ]
    },
    {
     "name": "stdout",
     "output_type": "stream",
     "text": [
      "index_parallel='0146'\n"
     ]
    },
    {
     "name": "stderr",
     "output_type": "stream",
     "text": [
      "\u001b[32m[I 2022-08-16 05:28:44,911]\u001b[0m Trial 146 finished with value: 8327.517045454546 and parameters: {'kErase': 2, 'kRadius': 4, 'kAnnealingA': 12.519624878909609, 'kAnnealingB': 0.18971554653899342, 'kAnnealingStart': 18.963515028340932, 'kSkipRatio': 0.7178221668342676, 'kTargetDeterminationTrials': 10, 'kAttractionRatio': 0.046765333430722464, 'kMaxAttractionDistance': 8, 'kStartAttraction': 0.16969049671480296}. Best is trial 121 with value: 8430.27840909091.\u001b[0m\n"
     ]
    },
    {
     "name": "stdout",
     "output_type": "stream",
     "text": [
      "index_parallel='0148'\n"
     ]
    },
    {
     "name": "stderr",
     "output_type": "stream",
     "text": [
      "\u001b[32m[I 2022-08-16 05:32:11,522]\u001b[0m Trial 148 finished with value: 8260.551136363636 and parameters: {'kErase': 2, 'kRadius': 4, 'kAnnealingA': 10.26460068789976, 'kAnnealingB': 0.09580324225226741, 'kAnnealingStart': 16.195113855675455, 'kSkipRatio': 0.7570657568481717, 'kTargetDeterminationTrials': 11, 'kAttractionRatio': 0.040859822436329775, 'kMaxAttractionDistance': 8, 'kStartAttraction': 0.20410789941572757}. Best is trial 121 with value: 8430.27840909091.\u001b[0m\n"
     ]
    },
    {
     "name": "stdout",
     "output_type": "stream",
     "text": [
      "index_parallel='0150'\n"
     ]
    },
    {
     "name": "stderr",
     "output_type": "stream",
     "text": [
      "\u001b[32m[I 2022-08-16 05:35:38,128]\u001b[0m Trial 150 finished with value: 8177.215909090909 and parameters: {'kErase': 2, 'kRadius': 4, 'kAnnealingA': -2.6636173468832083, 'kAnnealingB': 0.3435903987283247, 'kAnnealingStart': 12.279169186147376, 'kSkipRatio': 0.7095721690659825, 'kTargetDeterminationTrials': 14, 'kAttractionRatio': 0.04845006029499418, 'kMaxAttractionDistance': 10, 'kStartAttraction': 0.17857265772418554}. Best is trial 121 with value: 8430.27840909091.\u001b[0m\n"
     ]
    },
    {
     "name": "stdout",
     "output_type": "stream",
     "text": [
      "index_parallel='0152'\n"
     ]
    },
    {
     "name": "stderr",
     "output_type": "stream",
     "text": [
      "\u001b[32m[I 2022-08-16 05:39:05,226]\u001b[0m Trial 152 finished with value: 8324.301136363636 and parameters: {'kErase': 2, 'kRadius': 4, 'kAnnealingA': 11.454570550226991, 'kAnnealingB': 0.2657375023255344, 'kAnnealingStart': 24.93474534781395, 'kSkipRatio': 0.6961089004563971, 'kTargetDeterminationTrials': 13, 'kAttractionRatio': 0.05982600249842251, 'kMaxAttractionDistance': 9, 'kStartAttraction': 0.10871466220920539}. Best is trial 121 with value: 8430.27840909091.\u001b[0m\n"
     ]
    },
    {
     "name": "stdout",
     "output_type": "stream",
     "text": [
      "index_parallel='0154'\n"
     ]
    },
    {
     "name": "stderr",
     "output_type": "stream",
     "text": [
      "\u001b[32m[I 2022-08-16 05:42:31,802]\u001b[0m Trial 154 finished with value: 8374.198863636364 and parameters: {'kErase': 2, 'kRadius': 4, 'kAnnealingA': 12.3147321318572, 'kAnnealingB': 0.45571421684594127, 'kAnnealingStart': 19.45390956461306, 'kSkipRatio': 0.6727379254952118, 'kTargetDeterminationTrials': 13, 'kAttractionRatio': 0.05119118113835758, 'kMaxAttractionDistance': 7, 'kStartAttraction': 0.09139821032392485}. Best is trial 121 with value: 8430.27840909091.\u001b[0m\n"
     ]
    },
    {
     "name": "stdout",
     "output_type": "stream",
     "text": [
      "index_parallel='0156'\n"
     ]
    },
    {
     "name": "stderr",
     "output_type": "stream",
     "text": [
      "\u001b[32m[I 2022-08-16 05:45:58,474]\u001b[0m Trial 156 finished with value: 8322.022727272728 and parameters: {'kErase': 2, 'kRadius': 4, 'kAnnealingA': 13.377910908458125, 'kAnnealingB': 0.4527139096939526, 'kAnnealingStart': 20.673509375805295, 'kSkipRatio': 0.7275012044412867, 'kTargetDeterminationTrials': 16, 'kAttractionRatio': 0.05385383940360538, 'kMaxAttractionDistance': 7, 'kStartAttraction': 0.001349488357021373}. Best is trial 121 with value: 8430.27840909091.\u001b[0m\n"
     ]
    },
    {
     "name": "stdout",
     "output_type": "stream",
     "text": [
      "index_parallel='0158'\n"
     ]
    },
    {
     "name": "stderr",
     "output_type": "stream",
     "text": [
      "\u001b[32m[I 2022-08-16 05:49:25,226]\u001b[0m Trial 158 finished with value: 8286.863636363636 and parameters: {'kErase': 2, 'kRadius': 4, 'kAnnealingA': 9.380012552879084, 'kAnnealingB': 0.32263110916411347, 'kAnnealingStart': 14.546289616921648, 'kSkipRatio': 0.6839609083182889, 'kTargetDeterminationTrials': 10, 'kAttractionRatio': 0.06632197022794215, 'kMaxAttractionDistance': 6, 'kStartAttraction': 0.15118500253685715}. Best is trial 121 with value: 8430.27840909091.\u001b[0m\n"
     ]
    },
    {
     "name": "stdout",
     "output_type": "stream",
     "text": [
      "index_parallel='0160'\n"
     ]
    },
    {
     "name": "stderr",
     "output_type": "stream",
     "text": [
      "\u001b[32m[I 2022-08-16 05:52:51,586]\u001b[0m Trial 160 finished with value: 8323.448863636364 and parameters: {'kErase': 2, 'kRadius': 4, 'kAnnealingA': 11.402655052219847, 'kAnnealingB': 0.3772858693560486, 'kAnnealingStart': 18.598144879328053, 'kSkipRatio': 0.6717909600069789, 'kTargetDeterminationTrials': 9, 'kAttractionRatio': 0.03529549699768509, 'kMaxAttractionDistance': 8, 'kStartAttraction': 0.283295024758951}. Best is trial 121 with value: 8430.27840909091.\u001b[0m\n"
     ]
    },
    {
     "name": "stdout",
     "output_type": "stream",
     "text": [
      "index_parallel='0162'\n"
     ]
    },
    {
     "name": "stderr",
     "output_type": "stream",
     "text": [
      "\u001b[32m[I 2022-08-16 05:56:18,465]\u001b[0m Trial 162 finished with value: 8355.664772727272 and parameters: {'kErase': 2, 'kRadius': 4, 'kAnnealingA': 12.700363082024486, 'kAnnealingB': 0.2134171959572464, 'kAnnealingStart': 24.392120585055274, 'kSkipRatio': 0.6577330152451769, 'kTargetDeterminationTrials': 12, 'kAttractionRatio': 0.0408303310172431, 'kMaxAttractionDistance': 9, 'kStartAttraction': 0.05620613678203342}. Best is trial 121 with value: 8430.27840909091.\u001b[0m\n"
     ]
    },
    {
     "name": "stdout",
     "output_type": "stream",
     "text": [
      "index_parallel='0164'\n"
     ]
    },
    {
     "name": "stderr",
     "output_type": "stream",
     "text": [
      "\u001b[32m[I 2022-08-16 05:59:45,396]\u001b[0m Trial 164 finished with value: 7817.642045454545 and parameters: {'kErase': 2, 'kRadius': 4, 'kAnnealingA': 12.41427945183986, 'kAnnealingB': 0.2611997995340917, 'kAnnealingStart': 23.058161365810072, 'kSkipRatio': 0.2960590695990216, 'kTargetDeterminationTrials': 18, 'kAttractionRatio': 0.04401810946662131, 'kMaxAttractionDistance': 9, 'kStartAttraction': 0.05496856178945174}. Best is trial 121 with value: 8430.27840909091.\u001b[0m\n"
     ]
    },
    {
     "name": "stdout",
     "output_type": "stream",
     "text": [
      "index_parallel='0166'\n"
     ]
    },
    {
     "name": "stderr",
     "output_type": "stream",
     "text": [
      "\u001b[32m[I 2022-08-16 06:03:12,066]\u001b[0m Trial 166 finished with value: 8389.272727272728 and parameters: {'kErase': 2, 'kRadius': 4, 'kAnnealingA': 14.164302808879036, 'kAnnealingB': 0.19170713206680576, 'kAnnealingStart': 26.81861490674845, 'kSkipRatio': 0.7129953134488063, 'kTargetDeterminationTrials': 12, 'kAttractionRatio': 0.04845249110952082, 'kMaxAttractionDistance': 8, 'kStartAttraction': 0.08560562526657622}. Best is trial 121 with value: 8430.27840909091.\u001b[0m\n"
     ]
    },
    {
     "name": "stdout",
     "output_type": "stream",
     "text": [
      "index_parallel='0168'\n"
     ]
    },
    {
     "name": "stderr",
     "output_type": "stream",
     "text": [
      "\u001b[32m[I 2022-08-16 06:06:38,816]\u001b[0m Trial 168 finished with value: 8306.642045454546 and parameters: {'kErase': 2, 'kRadius': 2, 'kAnnealingA': 13.99630666417996, 'kAnnealingB': 0.19568371235136933, 'kAnnealingStart': 26.71184656549848, 'kSkipRatio': 0.7150176411864235, 'kTargetDeterminationTrials': 11, 'kAttractionRatio': 0.03866458793359347, 'kMaxAttractionDistance': 7, 'kStartAttraction': 0.04953044343990551}. Best is trial 121 with value: 8430.27840909091.\u001b[0m\n"
     ]
    },
    {
     "name": "stdout",
     "output_type": "stream",
     "text": [
      "index_parallel='0170'\n"
     ]
    },
    {
     "name": "stderr",
     "output_type": "stream",
     "text": [
      "\u001b[32m[I 2022-08-16 06:10:05,556]\u001b[0m Trial 170 finished with value: 8271.051136363636 and parameters: {'kErase': 2, 'kRadius': 4, 'kAnnealingA': 13.425231579774056, 'kAnnealingB': 0.12137580227390132, 'kAnnealingStart': 29.270364771310216, 'kSkipRatio': 0.6992035409732391, 'kTargetDeterminationTrials': 12, 'kAttractionRatio': 0.049674828248131665, 'kMaxAttractionDistance': 11, 'kStartAttraction': 0.058134947826184835}. Best is trial 121 with value: 8430.27840909091.\u001b[0m\n"
     ]
    },
    {
     "name": "stdout",
     "output_type": "stream",
     "text": [
      "index_parallel='0172'\n"
     ]
    },
    {
     "name": "stderr",
     "output_type": "stream",
     "text": [
      "\u001b[32m[I 2022-08-16 06:13:32,325]\u001b[0m Trial 172 finished with value: 8377.886363636364 and parameters: {'kErase': 2, 'kRadius': 4, 'kAnnealingA': 12.078573305903497, 'kAnnealingB': 0.28752939531814914, 'kAnnealingStart': 24.864212594765387, 'kSkipRatio': 0.7472732898788714, 'kTargetDeterminationTrials': 14, 'kAttractionRatio': 0.0569773719733334, 'kMaxAttractionDistance': 8, 'kStartAttraction': 0.08203832226117835}. Best is trial 121 with value: 8430.27840909091.\u001b[0m\n"
     ]
    },
    {
     "name": "stdout",
     "output_type": "stream",
     "text": [
      "index_parallel='0174'\n"
     ]
    },
    {
     "name": "stderr",
     "output_type": "stream",
     "text": [
      "\u001b[32m[I 2022-08-16 06:16:58,910]\u001b[0m Trial 174 finished with value: 8266.875 and parameters: {'kErase': 2, 'kRadius': 4, 'kAnnealingA': 13.62325254160304, 'kAnnealingB': 0.24843845842889212, 'kAnnealingStart': 34.841550073729394, 'kSkipRatio': 0.7522062882048554, 'kTargetDeterminationTrials': 14, 'kAttractionRatio': 0.05785386740575387, 'kMaxAttractionDistance': 8, 'kStartAttraction': 0.07703955636657762}. Best is trial 121 with value: 8430.27840909091.\u001b[0m\n"
     ]
    },
    {
     "name": "stdout",
     "output_type": "stream",
     "text": [
      "index_parallel='0176'\n"
     ]
    },
    {
     "name": "stderr",
     "output_type": "stream",
     "text": [
      "\u001b[32m[I 2022-08-16 06:20:25,689]\u001b[0m Trial 176 finished with value: 8304.318181818182 and parameters: {'kErase': 2, 'kRadius': 4, 'kAnnealingA': 14.847603579736697, 'kAnnealingB': 0.1934855830331446, 'kAnnealingStart': 28.85831104438892, 'kSkipRatio': 0.7408373048757878, 'kTargetDeterminationTrials': 15, 'kAttractionRatio': 0.04376538682494341, 'kMaxAttractionDistance': 8, 'kStartAttraction': 0.0912086773964396}. Best is trial 121 with value: 8430.27840909091.\u001b[0m\n"
     ]
    },
    {
     "name": "stdout",
     "output_type": "stream",
     "text": [
      "index_parallel='0178'\n"
     ]
    },
    {
     "name": "stderr",
     "output_type": "stream",
     "text": [
      "\u001b[32m[I 2022-08-16 06:23:52,253]\u001b[0m Trial 178 finished with value: 7818.369318181818 and parameters: {'kErase': 2, 'kRadius': 4, 'kAnnealingA': 13.050999883537598, 'kAnnealingB': 1.8653318011225188, 'kAnnealingStart': 41.661490440608176, 'kSkipRatio': 0.7645078853357876, 'kTargetDeterminationTrials': 17, 'kAttractionRatio': 0.06813434297722114, 'kMaxAttractionDistance': 9, 'kStartAttraction': 0.08481777576531212}. Best is trial 121 with value: 8430.27840909091.\u001b[0m\n"
     ]
    },
    {
     "name": "stdout",
     "output_type": "stream",
     "text": [
      "index_parallel='0180'\n"
     ]
    },
    {
     "name": "stderr",
     "output_type": "stream",
     "text": [
      "\u001b[32m[I 2022-08-16 06:27:18,862]\u001b[0m Trial 180 finished with value: 8246.931818181818 and parameters: {'kErase': 2, 'kRadius': 4, 'kAnnealingA': 12.271548104688195, 'kAnnealingB': 0.04425025323315929, 'kAnnealingStart': 26.787463610604682, 'kSkipRatio': 0.7815796350491739, 'kTargetDeterminationTrials': 19, 'kAttractionRatio': 0.05288961320759862, 'kMaxAttractionDistance': 6, 'kStartAttraction': 0.07032712379398615}. Best is trial 121 with value: 8430.27840909091.\u001b[0m\n"
     ]
    },
    {
     "name": "stdout",
     "output_type": "stream",
     "text": [
      "index_parallel='0181'\n"
     ]
    },
    {
     "name": "stderr",
     "output_type": "stream",
     "text": [
      "\u001b[32m[I 2022-08-16 06:30:45,695]\u001b[0m Trial 181 finished with value: 8352.0 and parameters: {'kErase': 2, 'kRadius': 4, 'kAnnealingA': 13.944230969873045, 'kAnnealingB': 0.2174621037524776, 'kAnnealingStart': 23.064107310162314, 'kSkipRatio': 0.7345406705104351, 'kTargetDeterminationTrials': 12, 'kAttractionRatio': 0.060936177399508976, 'kMaxAttractionDistance': 7, 'kStartAttraction': 0.11496421071268875}. Best is trial 121 with value: 8430.27840909091.\u001b[0m\n"
     ]
    },
    {
     "name": "stdout",
     "output_type": "stream",
     "text": [
      "index_parallel='0183'\n"
     ]
    },
    {
     "name": "stderr",
     "output_type": "stream",
     "text": [
      "\u001b[32m[I 2022-08-16 06:34:12,403]\u001b[0m Trial 183 finished with value: 8392.977272727272 and parameters: {'kErase': 2, 'kRadius': 4, 'kAnnealingA': 14.287107874388175, 'kAnnealingB': 0.2207270827430771, 'kAnnealingStart': 22.73908703098045, 'kSkipRatio': 0.7345526467761541, 'kTargetDeterminationTrials': 13, 'kAttractionRatio': 0.060194132546152204, 'kMaxAttractionDistance': 7, 'kStartAttraction': 0.11090491947586224}. Best is trial 121 with value: 8430.27840909091.\u001b[0m\n"
     ]
    },
    {
     "name": "stdout",
     "output_type": "stream",
     "text": [
      "index_parallel='0185'\n"
     ]
    },
    {
     "name": "stderr",
     "output_type": "stream",
     "text": [
      "\u001b[32m[I 2022-08-16 06:37:39,208]\u001b[0m Trial 185 finished with value: 8363.454545454546 and parameters: {'kErase': 2, 'kRadius': 4, 'kAnnealingA': 14.280572450070999, 'kAnnealingB': 0.1376717050612459, 'kAnnealingStart': 21.293008677806622, 'kSkipRatio': 0.7256615991196839, 'kTargetDeterminationTrials': 14, 'kAttractionRatio': 0.04592971159015529, 'kMaxAttractionDistance': 7, 'kStartAttraction': 0.12865283247587858}. Best is trial 121 with value: 8430.27840909091.\u001b[0m\n"
     ]
    },
    {
     "name": "stdout",
     "output_type": "stream",
     "text": [
      "index_parallel='0187'\n"
     ]
    },
    {
     "name": "stderr",
     "output_type": "stream",
     "text": [
      "\u001b[32m[I 2022-08-16 06:41:05,611]\u001b[0m Trial 187 finished with value: 8336.426136363636 and parameters: {'kErase': 2, 'kRadius': 4, 'kAnnealingA': 14.505434328594877, 'kAnnealingB': 0.12446058595533555, 'kAnnealingStart': 22.645045173607066, 'kSkipRatio': 0.7331946549824602, 'kTargetDeterminationTrials': 14, 'kAttractionRatio': 0.06924919894148672, 'kMaxAttractionDistance': 7, 'kStartAttraction': 0.1049113331897429}. Best is trial 121 with value: 8430.27840909091.\u001b[0m\n"
     ]
    },
    {
     "name": "stdout",
     "output_type": "stream",
     "text": [
      "index_parallel='0189'\n"
     ]
    },
    {
     "name": "stderr",
     "output_type": "stream",
     "text": [
      "\u001b[32m[I 2022-08-16 06:44:32,105]\u001b[0m Trial 189 finished with value: 8340.107954545454 and parameters: {'kErase': 2, 'kRadius': 4, 'kAnnealingA': 14.962780371285719, 'kAnnealingB': 0.1772108239539274, 'kAnnealingStart': 24.93238496604538, 'kSkipRatio': 0.7471035428338447, 'kTargetDeterminationTrials': 13, 'kAttractionRatio': 0.061980773795807576, 'kMaxAttractionDistance': 8, 'kStartAttraction': 0.10246920833116241}. Best is trial 121 with value: 8430.27840909091.\u001b[0m\n"
     ]
    },
    {
     "name": "stdout",
     "output_type": "stream",
     "text": [
      "index_parallel='0191'\n"
     ]
    },
    {
     "name": "stderr",
     "output_type": "stream",
     "text": [
      "\u001b[32m[I 2022-08-16 06:47:58,707]\u001b[0m Trial 191 finished with value: 8329.556818181818 and parameters: {'kErase': 2, 'kRadius': 4, 'kAnnealingA': 14.21267453524734, 'kAnnealingB': 0.2971095508796182, 'kAnnealingStart': 30.962880835746905, 'kSkipRatio': 0.7198294343240459, 'kTargetDeterminationTrials': 12, 'kAttractionRatio': 0.07459023457475351, 'kMaxAttractionDistance': 6, 'kStartAttraction': 0.12879673851941356}. Best is trial 121 with value: 8430.27840909091.\u001b[0m\n"
     ]
    },
    {
     "name": "stdout",
     "output_type": "stream",
     "text": [
      "index_parallel='0193'\n"
     ]
    },
    {
     "name": "stderr",
     "output_type": "stream",
     "text": [
      "\u001b[32m[I 2022-08-16 06:51:25,594]\u001b[0m Trial 193 finished with value: 8364.46590909091 and parameters: {'kErase': 2, 'kRadius': 4, 'kAnnealingA': 13.656819803607709, 'kAnnealingB': 0.285291694805545, 'kAnnealingStart': 21.359998854824447, 'kSkipRatio': 0.7076921771727276, 'kTargetDeterminationTrials': 11, 'kAttractionRatio': 0.04491117810053301, 'kMaxAttractionDistance': 7, 'kStartAttraction': 0.11495848169139661}. Best is trial 121 with value: 8430.27840909091.\u001b[0m\n"
     ]
    },
    {
     "name": "stdout",
     "output_type": "stream",
     "text": [
      "index_parallel='0195'\n"
     ]
    },
    {
     "name": "stderr",
     "output_type": "stream",
     "text": [
      "\u001b[32m[I 2022-08-16 06:54:52,200]\u001b[0m Trial 195 finished with value: 8299.164772727272 and parameters: {'kErase': 2, 'kRadius': 4, 'kAnnealingA': 13.655954805709602, 'kAnnealingB': 0.2200874766937218, 'kAnnealingStart': 20.890193858771017, 'kSkipRatio': 0.7303216047213216, 'kTargetDeterminationTrials': 12, 'kAttractionRatio': 0.040499816240077674, 'kMaxAttractionDistance': 6, 'kStartAttraction': 0.08332463136060145}. Best is trial 121 with value: 8430.27840909091.\u001b[0m\n"
     ]
    },
    {
     "name": "stdout",
     "output_type": "stream",
     "text": [
      "index_parallel='0197'\n"
     ]
    },
    {
     "name": "stderr",
     "output_type": "stream",
     "text": [
      "\u001b[32m[I 2022-08-16 06:58:18,822]\u001b[0m Trial 197 finished with value: 8299.772727272728 and parameters: {'kErase': 2, 'kRadius': 4, 'kAnnealingA': 14.380293071302662, 'kAnnealingB': 0.15106868064291523, 'kAnnealingStart': 24.198542936252892, 'kSkipRatio': 0.7660884726459017, 'kTargetDeterminationTrials': 14, 'kAttractionRatio': 0.045587056530308735, 'kMaxAttractionDistance': 5, 'kStartAttraction': 0.0634034333493503}. Best is trial 121 with value: 8430.27840909091.\u001b[0m\n"
     ]
    },
    {
     "name": "stdout",
     "output_type": "stream",
     "text": [
      "index_parallel='0199'\n"
     ]
    },
    {
     "name": "stderr",
     "output_type": "stream",
     "text": [
      "\u001b[32m[I 2022-08-16 07:01:45,538]\u001b[0m Trial 199 finished with value: 8321.15909090909 and parameters: {'kErase': 2, 'kRadius': 4, 'kAnnealingA': 13.425954973543936, 'kAnnealingB': 0.39402529456407387, 'kAnnealingStart': 26.755083870380545, 'kSkipRatio': 0.7114287049897422, 'kTargetDeterminationTrials': 11, 'kAttractionRatio': 0.05500377841978969, 'kMaxAttractionDistance': 5, 'kStartAttraction': 0.09535790455982057}. Best is trial 121 with value: 8430.27840909091.\u001b[0m\n"
     ]
    },
    {
     "name": "stdout",
     "output_type": "stream",
     "text": [
      "index_parallel='0201'\n"
     ]
    },
    {
     "name": "stderr",
     "output_type": "stream",
     "text": [
      "\u001b[32m[I 2022-08-16 07:05:12,254]\u001b[0m Trial 201 finished with value: 8361.210227272728 and parameters: {'kErase': 2, 'kRadius': 4, 'kAnnealingA': 14.964844114506553, 'kAnnealingB': 0.28116722147078654, 'kAnnealingStart': 20.01508007244369, 'kSkipRatio': 0.7422967210704624, 'kTargetDeterminationTrials': 13, 'kAttractionRatio': 0.05178501288191584, 'kMaxAttractionDistance': 7, 'kStartAttraction': 0.13721706270250958}. Best is trial 121 with value: 8430.27840909091.\u001b[0m\n"
     ]
    },
    {
     "name": "stdout",
     "output_type": "stream",
     "text": [
      "index_parallel='0203'\n"
     ]
    },
    {
     "name": "stderr",
     "output_type": "stream",
     "text": [
      "\u001b[32m[I 2022-08-16 07:08:38,717]\u001b[0m Trial 203 finished with value: 8316.414772727272 and parameters: {'kErase': 2, 'kRadius': 4, 'kAnnealingA': 14.44221228542564, 'kAnnealingB': 0.2609695005538841, 'kAnnealingStart': 19.40054736805398, 'kSkipRatio': 0.7512778412622406, 'kTargetDeterminationTrials': 14, 'kAttractionRatio': 0.05125179844343194, 'kMaxAttractionDistance': 7, 'kStartAttraction': 0.11302662798497996}. Best is trial 121 with value: 8430.27840909091.\u001b[0m\n"
     ]
    },
    {
     "name": "stdout",
     "output_type": "stream",
     "text": [
      "index_parallel='0205'\n"
     ]
    },
    {
     "name": "stderr",
     "output_type": "stream",
     "text": [
      "\u001b[32m[I 2022-08-16 07:12:05,557]\u001b[0m Trial 205 finished with value: 8325.869318181818 and parameters: {'kErase': 2, 'kRadius': 4, 'kAnnealingA': 14.818110703187072, 'kAnnealingB': 0.35953804648712717, 'kAnnealingStart': 17.28765022494692, 'kSkipRatio': 0.7298025154866721, 'kTargetDeterminationTrials': 11, 'kAttractionRatio': 0.04473048250956271, 'kMaxAttractionDistance': 7, 'kStartAttraction': 0.12482091958610395}. Best is trial 121 with value: 8430.27840909091.\u001b[0m\n"
     ]
    },
    {
     "name": "stdout",
     "output_type": "stream",
     "text": [
      "index_parallel='0207'\n"
     ]
    },
    {
     "name": "stderr",
     "output_type": "stream",
     "text": [
      "\u001b[32m[I 2022-08-16 07:15:32,909]\u001b[0m Trial 207 finished with value: 8320.96590909091 and parameters: {'kErase': 2, 'kRadius': 4, 'kAnnealingA': 13.714919442563787, 'kAnnealingB': 0.1666498257638522, 'kAnnealingStart': 21.11503822787796, 'kSkipRatio': 0.7376231734029, 'kTargetDeterminationTrials': 13, 'kAttractionRatio': 0.05040637360910815, 'kMaxAttractionDistance': 8, 'kStartAttraction': 0.211361778116587}. Best is trial 121 with value: 8430.27840909091.\u001b[0m\n"
     ]
    },
    {
     "name": "stdout",
     "output_type": "stream",
     "text": [
      "index_parallel='0209'\n"
     ]
    },
    {
     "name": "stderr",
     "output_type": "stream",
     "text": [
      "\u001b[32m[I 2022-08-16 07:18:59,498]\u001b[0m Trial 209 finished with value: 8386.079545454546 and parameters: {'kErase': 2, 'kRadius': 4, 'kAnnealingA': 14.343471355138082, 'kAnnealingB': 0.28459544136367887, 'kAnnealingStart': 23.286119929338756, 'kSkipRatio': 0.7219113643943595, 'kTargetDeterminationTrials': 17, 'kAttractionRatio': 0.058008036095830585, 'kMaxAttractionDistance': 7, 'kStartAttraction': 0.14407405729887282}. Best is trial 121 with value: 8430.27840909091.\u001b[0m\n"
     ]
    },
    {
     "name": "stdout",
     "output_type": "stream",
     "text": [
      "index_parallel='0211'\n"
     ]
    },
    {
     "name": "stderr",
     "output_type": "stream",
     "text": [
      "\u001b[32m[I 2022-08-16 07:22:26,203]\u001b[0m Trial 211 finished with value: 8169.829545454545 and parameters: {'kErase': 2, 'kRadius': 4, 'kAnnealingA': 13.032316110094314, 'kAnnealingB': 2.6915181772629606, 'kAnnealingStart': 27.71820512353637, 'kSkipRatio': 0.7100882515310959, 'kTargetDeterminationTrials': 17, 'kAttractionRatio': 0.058015632358828347, 'kMaxAttractionDistance': 6, 'kStartAttraction': 0.17288452627787648}. Best is trial 121 with value: 8430.27840909091.\u001b[0m\n"
     ]
    },
    {
     "name": "stdout",
     "output_type": "stream",
     "text": [
      "index_parallel='0213'\n"
     ]
    },
    {
     "name": "stderr",
     "output_type": "stream",
     "text": [
      "\u001b[32m[I 2022-08-16 07:25:53,184]\u001b[0m Trial 213 finished with value: 8373.5625 and parameters: {'kErase': 2, 'kRadius': 4, 'kAnnealingA': 14.978353984465288, 'kAnnealingB': 0.2913484229502086, 'kAnnealingStart': 23.706458922367194, 'kSkipRatio': 0.7297097188776237, 'kTargetDeterminationTrials': 10, 'kAttractionRatio': 0.06791742298619566, 'kMaxAttractionDistance': 7, 'kStartAttraction': 0.13593661724472078}. Best is trial 121 with value: 8430.27840909091.\u001b[0m\n"
     ]
    },
    {
     "name": "stdout",
     "output_type": "stream",
     "text": [
      "index_parallel='0215'\n"
     ]
    },
    {
     "name": "stderr",
     "output_type": "stream",
     "text": [
      "\u001b[32m[I 2022-08-16 07:29:20,520]\u001b[0m Trial 215 finished with value: 8335.948863636364 and parameters: {'kErase': 2, 'kRadius': 4, 'kAnnealingA': 14.432449671112792, 'kAnnealingB': 0.2253181808473596, 'kAnnealingStart': 20.420713850756243, 'kSkipRatio': 0.7400777870649298, 'kTargetDeterminationTrials': 20, 'kAttractionRatio': 0.06929494557360014, 'kMaxAttractionDistance': 7, 'kStartAttraction': 0.14850115083125257}. Best is trial 121 with value: 8430.27840909091.\u001b[0m\n"
     ]
    },
    {
     "name": "stdout",
     "output_type": "stream",
     "text": [
      "index_parallel='0217'\n"
     ]
    },
    {
     "name": "stderr",
     "output_type": "stream",
     "text": [
      "\u001b[32m[I 2022-08-16 07:32:47,220]\u001b[0m Trial 217 finished with value: 8307.579545454546 and parameters: {'kErase': 2, 'kRadius': 4, 'kAnnealingA': 14.409566408302858, 'kAnnealingB': 0.3548810137870725, 'kAnnealingStart': 25.676025474705586, 'kSkipRatio': 0.7564390674342657, 'kTargetDeterminationTrials': 15, 'kAttractionRatio': 0.06373247935783237, 'kMaxAttractionDistance': 7, 'kStartAttraction': 0.14391950208464754}. Best is trial 121 with value: 8430.27840909091.\u001b[0m\n"
     ]
    },
    {
     "name": "stdout",
     "output_type": "stream",
     "text": [
      "index_parallel='0219'\n"
     ]
    },
    {
     "name": "stderr",
     "output_type": "stream",
     "text": [
      "\u001b[32m[I 2022-08-16 07:36:14,310]\u001b[0m Trial 219 finished with value: 8305.59659090909 and parameters: {'kErase': 2, 'kRadius': 4, 'kAnnealingA': 14.928203297543469, 'kAnnealingB': 0.13418402584715228, 'kAnnealingStart': 29.33911440581394, 'kSkipRatio': 0.7738073614014092, 'kTargetDeterminationTrials': 19, 'kAttractionRatio': 0.05869737198095365, 'kMaxAttractionDistance': 8, 'kStartAttraction': 0.1819257451908834}. Best is trial 121 with value: 8430.27840909091.\u001b[0m\n"
     ]
    },
    {
     "name": "stdout",
     "output_type": "stream",
     "text": [
      "index_parallel='0221'\n"
     ]
    },
    {
     "name": "stderr",
     "output_type": "stream",
     "text": [
      "\u001b[32m[I 2022-08-16 07:39:41,159]\u001b[0m Trial 221 finished with value: 8331.931818181818 and parameters: {'kErase': 2, 'kRadius': 4, 'kAnnealingA': 14.991604066339367, 'kAnnealingB': 0.012604919194489805, 'kAnnealingStart': 22.35895227831668, 'kSkipRatio': 0.7511284986606394, 'kTargetDeterminationTrials': 18, 'kAttractionRatio': 0.07805881341302419, 'kMaxAttractionDistance': 7, 'kStartAttraction': 0.23654756999908136}. Best is trial 121 with value: 8430.27840909091.\u001b[0m\n"
     ]
    },
    {
     "name": "stdout",
     "output_type": "stream",
     "text": [
      "index_parallel='0223'\n"
     ]
    },
    {
     "name": "stderr",
     "output_type": "stream",
     "text": [
      "\u001b[32m[I 2022-08-16 07:43:08,228]\u001b[0m Trial 223 finished with value: 8282.164772727272 and parameters: {'kErase': 2, 'kRadius': 4, 'kAnnealingA': 13.718762545972034, 'kAnnealingB': 0.21451306588643165, 'kAnnealingStart': 25.072964544450407, 'kSkipRatio': 0.7416783300038425, 'kTargetDeterminationTrials': 15, 'kAttractionRatio': 0.052885239336855586, 'kMaxAttractionDistance': 7, 'kStartAttraction': 0.10489244412623375}. Best is trial 121 with value: 8430.27840909091.\u001b[0m\n"
     ]
    },
    {
     "name": "stdout",
     "output_type": "stream",
     "text": [
      "index_parallel='0225'\n"
     ]
    },
    {
     "name": "stderr",
     "output_type": "stream",
     "text": [
      "\u001b[32m[I 2022-08-16 07:46:34,995]\u001b[0m Trial 225 finished with value: 8352.039772727272 and parameters: {'kErase': 2, 'kRadius': 4, 'kAnnealingA': 13.255372209015261, 'kAnnealingB': 0.3023261500184633, 'kAnnealingStart': 25.345984117355663, 'kSkipRatio': 0.7450826482069001, 'kTargetDeterminationTrials': 16, 'kAttractionRatio': 0.03913507472270652, 'kMaxAttractionDistance': 8, 'kStartAttraction': 0.13195859737869708}. Best is trial 121 with value: 8430.27840909091.\u001b[0m\n"
     ]
    },
    {
     "name": "stdout",
     "output_type": "stream",
     "text": [
      "index_parallel='0227'\n"
     ]
    },
    {
     "name": "stderr",
     "output_type": "stream",
     "text": [
      "\u001b[32m[I 2022-08-16 07:50:01,960]\u001b[0m Trial 227 finished with value: 8240.767045454546 and parameters: {'kErase': 2, 'kRadius': 4, 'kAnnealingA': -5.924858976108608, 'kAnnealingB': 0.08493286020966437, 'kAnnealingStart': 19.057981720346547, 'kSkipRatio': 0.7281570779606622, 'kTargetDeterminationTrials': 17, 'kAttractionRatio': 0.0473748176471865, 'kMaxAttractionDistance': 7, 'kStartAttraction': 0.13237297310205448}. Best is trial 121 with value: 8430.27840909091.\u001b[0m\n"
     ]
    },
    {
     "name": "stdout",
     "output_type": "stream",
     "text": [
      "index_parallel='0229'\n"
     ]
    },
    {
     "name": "stderr",
     "output_type": "stream",
     "text": [
      "\u001b[32m[I 2022-08-16 07:53:28,763]\u001b[0m Trial 229 finished with value: 8356.511363636364 and parameters: {'kErase': 2, 'kRadius': 4, 'kAnnealingA': 12.381080283787306, 'kAnnealingB': 0.42525173148742224, 'kAnnealingStart': 23.290835697704658, 'kSkipRatio': 0.7854166196358575, 'kTargetDeterminationTrials': 15, 'kAttractionRatio': 0.04245165614882323, 'kMaxAttractionDistance': 8, 'kStartAttraction': 0.15536073972357556}. Best is trial 121 with value: 8430.27840909091.\u001b[0m\n"
     ]
    },
    {
     "name": "stdout",
     "output_type": "stream",
     "text": [
      "index_parallel='0231'\n"
     ]
    },
    {
     "name": "stderr",
     "output_type": "stream",
     "text": [
      "\u001b[32m[I 2022-08-16 07:56:55,546]\u001b[0m Trial 231 finished with value: 8409.625 and parameters: {'kErase': 2, 'kRadius': 4, 'kAnnealingA': 12.887624308697992, 'kAnnealingB': 0.15494164189202916, 'kAnnealingStart': 27.823783658515968, 'kSkipRatio': 0.7970345114179577, 'kTargetDeterminationTrials': 20, 'kAttractionRatio': 0.06936233264253756, 'kMaxAttractionDistance': 8, 'kStartAttraction': 0.10679232621926714}. Best is trial 121 with value: 8430.27840909091.\u001b[0m\n"
     ]
    },
    {
     "name": "stdout",
     "output_type": "stream",
     "text": [
      "index_parallel='0233'\n"
     ]
    },
    {
     "name": "stderr",
     "output_type": "stream",
     "text": [
      "\u001b[32m[I 2022-08-16 08:00:22,176]\u001b[0m Trial 233 finished with value: 8330.8125 and parameters: {'kErase': 2, 'kRadius': 4, 'kAnnealingA': 14.055077910328595, 'kAnnealingB': 0.16301393505752892, 'kAnnealingStart': 31.361548090684227, 'kSkipRatio': 0.7837252552340652, 'kTargetDeterminationTrials': 18, 'kAttractionRatio': 0.07137404744935788, 'kMaxAttractionDistance': 8, 'kStartAttraction': 0.10622465468902428}. Best is trial 121 with value: 8430.27840909091.\u001b[0m\n"
     ]
    },
    {
     "name": "stdout",
     "output_type": "stream",
     "text": [
      "index_parallel='0235'\n"
     ]
    },
    {
     "name": "stderr",
     "output_type": "stream",
     "text": [
      "\u001b[32m[I 2022-08-16 08:03:49,068]\u001b[0m Trial 235 finished with value: 8125.539772727273 and parameters: {'kErase': 4, 'kRadius': 4, 'kAnnealingA': 11.879611851977332, 'kAnnealingB': 1.246392425122063, 'kAnnealingStart': 26.62757099300175, 'kSkipRatio': 0.787421875380429, 'kTargetDeterminationTrials': 20, 'kAttractionRatio': 0.031557916691140976, 'kMaxAttractionDistance': 8, 'kStartAttraction': 0.09696313821041858}. Best is trial 121 with value: 8430.27840909091.\u001b[0m\n"
     ]
    },
    {
     "name": "stdout",
     "output_type": "stream",
     "text": [
      "index_parallel='0237'\n"
     ]
    },
    {
     "name": "stderr",
     "output_type": "stream",
     "text": [
      "\u001b[32m[I 2022-08-16 08:07:15,660]\u001b[0m Trial 237 finished with value: 8305.59659090909 and parameters: {'kErase': 2, 'kRadius': 4, 'kAnnealingA': 13.080440910448008, 'kAnnealingB': 0.099931769291741, 'kAnnealingStart': 28.635014575140694, 'kSkipRatio': 0.7909935174189957, 'kTargetDeterminationTrials': 18, 'kAttractionRatio': 0.05890801415279046, 'kMaxAttractionDistance': 7, 'kStartAttraction': 0.12075125956464408}. Best is trial 121 with value: 8430.27840909091.\u001b[0m\n"
     ]
    },
    {
     "name": "stdout",
     "output_type": "stream",
     "text": [
      "index_parallel='0239'\n"
     ]
    },
    {
     "name": "stderr",
     "output_type": "stream",
     "text": [
      "\u001b[32m[I 2022-08-16 08:10:42,153]\u001b[0m Trial 239 finished with value: 8246.323863636364 and parameters: {'kErase': 2, 'kRadius': 4, 'kAnnealingA': 13.583069658852287, 'kAnnealingB': 1.412396522817492, 'kAnnealingStart': 31.66128493405662, 'kSkipRatio': 0.7750354232323527, 'kTargetDeterminationTrials': 16, 'kAttractionRatio': 0.055219954781298784, 'kMaxAttractionDistance': 8, 'kStartAttraction': 0.0944901561457496}. Best is trial 121 with value: 8430.27840909091.\u001b[0m\n"
     ]
    },
    {
     "name": "stdout",
     "output_type": "stream",
     "text": [
      "index_parallel='0241'\n"
     ]
    },
    {
     "name": "stderr",
     "output_type": "stream",
     "text": [
      "\u001b[32m[I 2022-08-16 08:14:08,780]\u001b[0m Trial 241 finished with value: 8381.005681818182 and parameters: {'kErase': 2, 'kRadius': 4, 'kAnnealingA': 11.817199501912288, 'kAnnealingB': 0.34467508468382757, 'kAnnealingStart': 23.975764595129135, 'kSkipRatio': 0.7552934957393873, 'kTargetDeterminationTrials': 17, 'kAttractionRatio': 0.07238617634453112, 'kMaxAttractionDistance': 8, 'kStartAttraction': 0.1349230739089963}. Best is trial 121 with value: 8430.27840909091.\u001b[0m\n"
     ]
    },
    {
     "name": "stdout",
     "output_type": "stream",
     "text": [
      "index_parallel='0243'\n"
     ]
    },
    {
     "name": "stderr",
     "output_type": "stream",
     "text": [
      "\u001b[32m[I 2022-08-16 08:17:35,384]\u001b[0m Trial 243 finished with value: 8385.755681818182 and parameters: {'kErase': 2, 'kRadius': 4, 'kAnnealingA': 11.758829175461747, 'kAnnealingB': 0.22803796023406253, 'kAnnealingStart': 25.19924381392425, 'kSkipRatio': 0.7604159226137079, 'kTargetDeterminationTrials': 20, 'kAttractionRatio': 0.07385244659895047, 'kMaxAttractionDistance': 8, 'kStartAttraction': 0.14782966313880522}. Best is trial 121 with value: 8430.27840909091.\u001b[0m\n"
     ]
    },
    {
     "name": "stdout",
     "output_type": "stream",
     "text": [
      "index_parallel='0245'\n"
     ]
    },
    {
     "name": "stderr",
     "output_type": "stream",
     "text": [
      "\u001b[32m[I 2022-08-16 08:21:02,092]\u001b[0m Trial 245 finished with value: 8394.90340909091 and parameters: {'kErase': 2, 'kRadius': 4, 'kAnnealingA': 11.871779644545244, 'kAnnealingB': 0.35851042376702813, 'kAnnealingStart': 25.167076008029706, 'kSkipRatio': 0.75748219916427, 'kTargetDeterminationTrials': 20, 'kAttractionRatio': 0.0783507546317292, 'kMaxAttractionDistance': 9, 'kStartAttraction': 0.15701053673977222}. Best is trial 121 with value: 8430.27840909091.\u001b[0m\n"
     ]
    },
    {
     "name": "stdout",
     "output_type": "stream",
     "text": [
      "index_parallel='0247'\n"
     ]
    },
    {
     "name": "stderr",
     "output_type": "stream",
     "text": [
      "\u001b[32m[I 2022-08-16 08:24:28,621]\u001b[0m Trial 247 finished with value: 8361.369318181818 and parameters: {'kErase': 2, 'kRadius': 4, 'kAnnealingA': 11.803070302661697, 'kAnnealingB': 0.35913119671574745, 'kAnnealingStart': 28.135709322073364, 'kSkipRatio': 0.7598451500948644, 'kTargetDeterminationTrials': 19, 'kAttractionRatio': 0.09224973311206333, 'kMaxAttractionDistance': 9, 'kStartAttraction': 0.19977677890327106}. Best is trial 121 with value: 8430.27840909091.\u001b[0m\n"
     ]
    },
    {
     "name": "stdout",
     "output_type": "stream",
     "text": [
      "index_parallel='0249'\n"
     ]
    },
    {
     "name": "stderr",
     "output_type": "stream",
     "text": [
      "\u001b[32m[I 2022-08-16 08:27:55,177]\u001b[0m Trial 249 finished with value: 8309.0 and parameters: {'kErase': 2, 'kRadius': 4, 'kAnnealingA': 12.420299318041453, 'kAnnealingB': 0.22200399515759434, 'kAnnealingStart': 24.229843394957506, 'kSkipRatio': 0.7796706632565464, 'kTargetDeterminationTrials': 20, 'kAttractionRatio': 0.07955410506174097, 'kMaxAttractionDistance': 9, 'kStartAttraction': 0.1621652320577766}. Best is trial 121 with value: 8430.27840909091.\u001b[0m\n"
     ]
    },
    {
     "name": "stdout",
     "output_type": "stream",
     "text": [
      "index_parallel='0251'\n"
     ]
    },
    {
     "name": "stderr",
     "output_type": "stream",
     "text": [
      "\u001b[32m[I 2022-08-16 08:31:21,800]\u001b[0m Trial 251 finished with value: 8331.84090909091 and parameters: {'kErase': 2, 'kRadius': 4, 'kAnnealingA': 10.9509419870577, 'kAnnealingB': 0.40299806622145473, 'kAnnealingStart': 29.669139421157837, 'kSkipRatio': 0.7655308199789594, 'kTargetDeterminationTrials': 18, 'kAttractionRatio': 0.08461344649029238, 'kMaxAttractionDistance': 9, 'kStartAttraction': 0.1509150995873184}. Best is trial 121 with value: 8430.27840909091.\u001b[0m\n"
     ]
    },
    {
     "name": "stdout",
     "output_type": "stream",
     "text": [
      "index_parallel='0253'\n"
     ]
    },
    {
     "name": "stderr",
     "output_type": "stream",
     "text": [
      "\u001b[32m[I 2022-08-16 08:34:48,523]\u001b[0m Trial 253 finished with value: 8352.994318181818 and parameters: {'kErase': 2, 'kRadius': 4, 'kAnnealingA': 11.696109705076395, 'kAnnealingB': 0.4798482588269974, 'kAnnealingStart': 26.394442858712534, 'kSkipRatio': 0.7649903579181576, 'kTargetDeterminationTrials': 17, 'kAttractionRatio': 0.07390988103651579, 'kMaxAttractionDistance': 10, 'kStartAttraction': 0.2506051968584473}. Best is trial 121 with value: 8430.27840909091.\u001b[0m\n"
     ]
    },
    {
     "name": "stdout",
     "output_type": "stream",
     "text": [
      "index_parallel='0255'\n"
     ]
    },
    {
     "name": "stderr",
     "output_type": "stream",
     "text": [
      "\u001b[32m[I 2022-08-16 08:38:15,250]\u001b[0m Trial 255 finished with value: 8370.982954545454 and parameters: {'kErase': 2, 'kRadius': 4, 'kAnnealingA': 12.851264207832784, 'kAnnealingB': 0.23280757013331124, 'kAnnealingStart': 22.860056356884904, 'kSkipRatio': 0.7861772233653663, 'kTargetDeterminationTrials': 18, 'kAttractionRatio': 0.07005575690262107, 'kMaxAttractionDistance': 8, 'kStartAttraction': 0.13337963737905742}. Best is trial 121 with value: 8430.27840909091.\u001b[0m\n"
     ]
    },
    {
     "name": "stdout",
     "output_type": "stream",
     "text": [
      "index_parallel='0257'\n"
     ]
    },
    {
     "name": "stderr",
     "output_type": "stream",
     "text": [
      "\u001b[32m[I 2022-08-16 08:41:41,854]\u001b[0m Trial 257 finished with value: 8319.1875 and parameters: {'kErase': 2, 'kRadius': 4, 'kAnnealingA': 12.63308487676984, 'kAnnealingB': 0.3063386328188193, 'kAnnealingStart': 22.998014143316215, 'kSkipRatio': 0.7879131763063304, 'kTargetDeterminationTrials': 20, 'kAttractionRatio': 0.07004761194200597, 'kMaxAttractionDistance': 8, 'kStartAttraction': 0.025865351780806557}. Best is trial 121 with value: 8430.27840909091.\u001b[0m\n"
     ]
    },
    {
     "name": "stdout",
     "output_type": "stream",
     "text": [
      "index_parallel='0259'\n"
     ]
    },
    {
     "name": "stderr",
     "output_type": "stream",
     "text": [
      "\u001b[32m[I 2022-08-16 08:45:08,444]\u001b[0m Trial 259 finished with value: 8323.869318181818 and parameters: {'kErase': 2, 'kRadius': 4, 'kAnnealingA': 12.09290225397087, 'kAnnealingB': 0.27124406493763564, 'kAnnealingStart': 30.392966628641666, 'kSkipRatio': 0.7981457282275516, 'kTargetDeterminationTrials': 16, 'kAttractionRatio': 0.09584965866867463, 'kMaxAttractionDistance': 9, 'kStartAttraction': 0.09953308514990038}. Best is trial 121 with value: 8430.27840909091.\u001b[0m\n"
     ]
    },
    {
     "name": "stdout",
     "output_type": "stream",
     "text": [
      "index_parallel='0261'\n"
     ]
    },
    {
     "name": "stderr",
     "output_type": "stream",
     "text": [
      "\u001b[32m[I 2022-08-16 08:48:35,447]\u001b[0m Trial 261 finished with value: 8385.181818181818 and parameters: {'kErase': 2, 'kRadius': 4, 'kAnnealingA': 12.863814102430249, 'kAnnealingB': 0.18996977104611534, 'kAnnealingStart': 22.114006059610215, 'kSkipRatio': 0.7791493067007567, 'kTargetDeterminationTrials': 15, 'kAttractionRatio': 0.06831706868037499, 'kMaxAttractionDistance': 8, 'kStartAttraction': 0.08845627319815426}. Best is trial 121 with value: 8430.27840909091.\u001b[0m\n"
     ]
    },
    {
     "name": "stdout",
     "output_type": "stream",
     "text": [
      "index_parallel='0263'\n"
     ]
    },
    {
     "name": "stderr",
     "output_type": "stream",
     "text": [
      "\u001b[32m[I 2022-08-16 08:52:01,932]\u001b[0m Trial 263 finished with value: 8277.744318181818 and parameters: {'kErase': 2, 'kRadius': 4, 'kAnnealingA': 12.980680139176576, 'kAnnealingB': 0.17459112507861826, 'kAnnealingStart': 21.651219075642278, 'kSkipRatio': 0.7789405748335542, 'kTargetDeterminationTrials': 15, 'kAttractionRatio': 0.0683835799573066, 'kMaxAttractionDistance': 48, 'kStartAttraction': 0.11063917057694907}. Best is trial 121 with value: 8430.27840909091.\u001b[0m\n"
     ]
    },
    {
     "name": "stdout",
     "output_type": "stream",
     "text": [
      "index_parallel='0265'\n"
     ]
    },
    {
     "name": "stderr",
     "output_type": "stream",
     "text": [
      "\u001b[32m[I 2022-08-16 08:55:28,611]\u001b[0m Trial 265 finished with value: 8272.5625 and parameters: {'kErase': 2, 'kRadius': 4, 'kAnnealingA': 12.214273806848748, 'kAnnealingB': 0.0772187635157175, 'kAnnealingStart': 27.120021660533318, 'kSkipRatio': 0.7363070655340711, 'kTargetDeterminationTrials': 1, 'kAttractionRatio': 0.07837895770597252, 'kMaxAttractionDistance': 8, 'kStartAttraction': 0.0901400237804164}. Best is trial 121 with value: 8430.27840909091.\u001b[0m\n"
     ]
    },
    {
     "name": "stdout",
     "output_type": "stream",
     "text": [
      "index_parallel='0267'\n"
     ]
    },
    {
     "name": "stderr",
     "output_type": "stream",
     "text": [
      "\u001b[32m[I 2022-08-16 08:58:55,099]\u001b[0m Trial 267 finished with value: 8316.52840909091 and parameters: {'kErase': 2, 'kRadius': 4, 'kAnnealingA': 13.888278350065752, 'kAnnealingB': 0.3250243794185219, 'kAnnealingStart': 26.062678120147606, 'kSkipRatio': 0.749408690018638, 'kTargetDeterminationTrials': 17, 'kAttractionRatio': 0.06133183678538446, 'kMaxAttractionDistance': 8, 'kStartAttraction': 0.063619737972437}. Best is trial 121 with value: 8430.27840909091.\u001b[0m\n"
     ]
    },
    {
     "name": "stdout",
     "output_type": "stream",
     "text": [
      "index_parallel='0269'\n"
     ]
    },
    {
     "name": "stderr",
     "output_type": "stream",
     "text": [
      "\u001b[32m[I 2022-08-16 09:02:21,783]\u001b[0m Trial 269 finished with value: 8112.170454545455 and parameters: {'kErase': 2, 'kRadius': 4, 'kAnnealingA': -14.826744767104454, 'kAnnealingB': 0.22492937278173308, 'kAnnealingStart': 22.901651265343006, 'kSkipRatio': 0.775472724024247, 'kTargetDeterminationTrials': 15, 'kAttractionRatio': 0.07521643927576416, 'kMaxAttractionDistance': 7, 'kStartAttraction': 0.07841802910729687}. Best is trial 121 with value: 8430.27840909091.\u001b[0m\n"
     ]
    },
    {
     "name": "stdout",
     "output_type": "stream",
     "text": [
      "index_parallel='0271'\n"
     ]
    },
    {
     "name": "stderr",
     "output_type": "stream",
     "text": [
      "\u001b[32m[I 2022-08-16 09:05:48,888]\u001b[0m Trial 271 finished with value: 8275.022727272728 and parameters: {'kErase': 2, 'kRadius': 4, 'kAnnealingA': 11.284862006225167, 'kAnnealingB': 2.3909255090662525, 'kAnnealingStart': 21.39103256386511, 'kSkipRatio': 0.5521833600022703, 'kTargetDeterminationTrials': 14, 'kAttractionRatio': 0.06610415076142752, 'kMaxAttractionDistance': 9, 'kStartAttraction': 0.133951460434873}. Best is trial 121 with value: 8430.27840909091.\u001b[0m\n"
     ]
    },
    {
     "name": "stdout",
     "output_type": "stream",
     "text": [
      "index_parallel='0273'\n"
     ]
    },
    {
     "name": "stderr",
     "output_type": "stream",
     "text": [
      "\u001b[32m[I 2022-08-16 09:09:15,770]\u001b[0m Trial 273 finished with value: 8324.875 and parameters: {'kErase': 2, 'kRadius': 4, 'kAnnealingA': 12.268996248516359, 'kAnnealingB': 0.2637635794863721, 'kAnnealingStart': 28.817267427842058, 'kSkipRatio': 0.7262136557508301, 'kTargetDeterminationTrials': 16, 'kAttractionRatio': 0.05770118455777071, 'kMaxAttractionDistance': 7, 'kStartAttraction': 0.10004641339696622}. Best is trial 121 with value: 8430.27840909091.\u001b[0m\n"
     ]
    },
    {
     "name": "stdout",
     "output_type": "stream",
     "text": [
      "index_parallel='0275'\n"
     ]
    },
    {
     "name": "stderr",
     "output_type": "stream",
     "text": [
      "\u001b[32m[I 2022-08-16 09:12:42,262]\u001b[0m Trial 275 finished with value: 8225.352272727272 and parameters: {'kErase': 2, 'kRadius': 4, 'kAnnealingA': -0.7906112035042041, 'kAnnealingB': 0.4206703381986874, 'kAnnealingStart': 26.227654141620448, 'kSkipRatio': 0.7895358950290384, 'kTargetDeterminationTrials': 18, 'kAttractionRatio': 0.05237262136237771, 'kMaxAttractionDistance': 8, 'kStartAttraction': 0.005384171324204194}. Best is trial 121 with value: 8430.27840909091.\u001b[0m\n"
     ]
    },
    {
     "name": "stdout",
     "output_type": "stream",
     "text": [
      "index_parallel='0277'\n"
     ]
    },
    {
     "name": "stderr",
     "output_type": "stream",
     "text": [
      "\u001b[32m[I 2022-08-16 09:16:09,047]\u001b[0m Trial 277 finished with value: 8135.039772727273 and parameters: {'kErase': 2, 'kRadius': 4, 'kAnnealingA': -8.750227389157192, 'kAnnealingB': 0.20740295128594427, 'kAnnealingStart': 24.04269973003215, 'kSkipRatio': 0.7620737475938983, 'kTargetDeterminationTrials': 17, 'kAttractionRatio': 0.013105830170978458, 'kMaxAttractionDistance': 10, 'kStartAttraction': 0.11643432546439918}. Best is trial 121 with value: 8430.27840909091.\u001b[0m\n"
     ]
    },
    {
     "name": "stdout",
     "output_type": "stream",
     "text": [
      "index_parallel='0279'\n"
     ]
    },
    {
     "name": "stderr",
     "output_type": "stream",
     "text": [
      "\u001b[32m[I 2022-08-16 09:19:35,817]\u001b[0m Trial 279 finished with value: 8333.318181818182 and parameters: {'kErase': 2, 'kRadius': 4, 'kAnnealingA': 14.286361745946262, 'kAnnealingB': 0.2977432838482157, 'kAnnealingStart': 19.36917164715071, 'kSkipRatio': 0.7409719580022673, 'kTargetDeterminationTrials': 14, 'kAttractionRatio': 0.06513979923488973, 'kMaxAttractionDistance': 8, 'kStartAttraction': 0.13146618763383983}. Best is trial 121 with value: 8430.27840909091.\u001b[0m\n"
     ]
    },
    {
     "name": "stdout",
     "output_type": "stream",
     "text": [
      "index_parallel='0281'\n"
     ]
    },
    {
     "name": "stderr",
     "output_type": "stream",
     "text": [
      "\u001b[32m[I 2022-08-16 09:23:02,214]\u001b[0m Trial 281 finished with value: 7774.147727272727 and parameters: {'kErase': 2, 'kRadius': 4, 'kAnnealingA': 12.913740452557478, 'kAnnealingB': 0.37072488368382484, 'kAnnealingStart': 1.3226760464263565, 'kSkipRatio': 0.7534438030877252, 'kTargetDeterminationTrials': 16, 'kAttractionRatio': 0.5051868290070521, 'kMaxAttractionDistance': 16, 'kStartAttraction': 0.0819809174186177}. Best is trial 121 with value: 8430.27840909091.\u001b[0m\n"
     ]
    },
    {
     "name": "stdout",
     "output_type": "stream",
     "text": [
      "index_parallel='0283'\n"
     ]
    },
    {
     "name": "stderr",
     "output_type": "stream",
     "text": [
      "\u001b[32m[I 2022-08-16 09:26:28,868]\u001b[0m Trial 283 finished with value: 7765.926136363636 and parameters: {'kErase': 2, 'kRadius': 4, 'kAnnealingA': 13.53863642667547, 'kAnnealingB': 1.6881866635371487, 'kAnnealingStart': 33.98678215174796, 'kSkipRatio': 0.7209285021039422, 'kTargetDeterminationTrials': 12, 'kAttractionRatio': 0.07099067204312551, 'kMaxAttractionDistance': 22, 'kStartAttraction': 0.14235344731016833}. Best is trial 121 with value: 8430.27840909091.\u001b[0m\n"
     ]
    },
    {
     "name": "stdout",
     "output_type": "stream",
     "text": [
      "index_parallel='0285'\n"
     ]
    },
    {
     "name": "stderr",
     "output_type": "stream",
     "text": [
      "\u001b[32m[I 2022-08-16 09:29:55,666]\u001b[0m Trial 285 finished with value: 8286.90909090909 and parameters: {'kErase': 2, 'kRadius': 4, 'kAnnealingA': 12.16797263266358, 'kAnnealingB': 0.03544194236038789, 'kAnnealingStart': 21.60387952576531, 'kSkipRatio': 0.7989394262345525, 'kTargetDeterminationTrials': 17, 'kAttractionRatio': 0.04854296937151142, 'kMaxAttractionDistance': 7, 'kStartAttraction': 0.5079963634459789}. Best is trial 121 with value: 8430.27840909091.\u001b[0m\n"
     ]
    },
    {
     "name": "stdout",
     "output_type": "stream",
     "text": [
      "index_parallel='0287'\n"
     ]
    },
    {
     "name": "stderr",
     "output_type": "stream",
     "text": [
      "\u001b[32m[I 2022-08-16 09:33:22,392]\u001b[0m Trial 287 finished with value: 8352.5625 and parameters: {'kErase': 2, 'kRadius': 4, 'kAnnealingA': 10.535218452413565, 'kAnnealingB': 0.25386562834584553, 'kAnnealingStart': 25.86228059915891, 'kSkipRatio': 0.6909268588306774, 'kTargetDeterminationTrials': 15, 'kAttractionRatio': 0.05804414199541291, 'kMaxAttractionDistance': 8, 'kStartAttraction': 0.123422244015958}. Best is trial 121 with value: 8430.27840909091.\u001b[0m\n"
     ]
    },
    {
     "name": "stdout",
     "output_type": "stream",
     "text": [
      "index_parallel='0289'\n"
     ]
    },
    {
     "name": "stderr",
     "output_type": "stream",
     "text": [
      "\u001b[32m[I 2022-08-16 09:36:49,475]\u001b[0m Trial 289 finished with value: 8268.59090909091 and parameters: {'kErase': 3, 'kRadius': 4, 'kAnnealingA': 14.39735502193214, 'kAnnealingB': 0.14139062540161837, 'kAnnealingStart': 23.56161923520959, 'kSkipRatio': 0.7836063337560221, 'kTargetDeterminationTrials': 19, 'kAttractionRatio': 0.03882498694103524, 'kMaxAttractionDistance': 9, 'kStartAttraction': 0.16226235839639586}. Best is trial 121 with value: 8430.27840909091.\u001b[0m\n"
     ]
    },
    {
     "name": "stdout",
     "output_type": "stream",
     "text": [
      "index_parallel='0291'\n"
     ]
    },
    {
     "name": "stderr",
     "output_type": "stream",
     "text": [
      "\u001b[32m[I 2022-08-16 09:40:17,551]\u001b[0m Trial 291 finished with value: 8345.210227272728 and parameters: {'kErase': 2, 'kRadius': 4, 'kAnnealingA': 11.643859873621304, 'kAnnealingB': 0.36455826481308556, 'kAnnealingStart': 30.075119704338704, 'kSkipRatio': 0.7329686830993474, 'kTargetDeterminationTrials': 12, 'kAttractionRatio': 0.08035164260086505, 'kMaxAttractionDistance': 7, 'kStartAttraction': 0.10722402324589467}. Best is trial 121 with value: 8430.27840909091.\u001b[0m\n"
     ]
    },
    {
     "name": "stdout",
     "output_type": "stream",
     "text": [
      "index_parallel='0293'\n"
     ]
    },
    {
     "name": "stderr",
     "output_type": "stream",
     "text": [
      "\u001b[32m[I 2022-08-16 09:43:44,290]\u001b[0m Trial 293 finished with value: 8235.65340909091 and parameters: {'kErase': 2, 'kRadius': 4, 'kAnnealingA': 13.769488882776162, 'kAnnealingB': 0.20076487817747235, 'kAnnealingStart': 19.83483617533504, 'kSkipRatio': 0.7187526576805903, 'kTargetDeterminationTrials': 13, 'kAttractionRatio': 0.07302883083150163, 'kMaxAttractionDistance': 57, 'kStartAttraction': 0.0738742096344559}. Best is trial 121 with value: 8430.27840909091.\u001b[0m\n"
     ]
    },
    {
     "name": "stdout",
     "output_type": "stream",
     "text": [
      "index_parallel='0295'\n"
     ]
    },
    {
     "name": "stderr",
     "output_type": "stream",
     "text": [
      "\u001b[32m[I 2022-08-16 09:47:10,997]\u001b[0m Trial 295 finished with value: 8109.306818181818 and parameters: {'kErase': 2, 'kRadius': 4, 'kAnnealingA': 12.70750242749778, 'kAnnealingB': 0.2565138590764959, 'kAnnealingStart': 26.596446891496292, 'kSkipRatio': 0.4091883228626647, 'kTargetDeterminationTrials': 17, 'kAttractionRatio': 0.06635657295109722, 'kMaxAttractionDistance': 8, 'kStartAttraction': 0.1278730893064785}. Best is trial 121 with value: 8430.27840909091.\u001b[0m\n"
     ]
    },
    {
     "name": "stdout",
     "output_type": "stream",
     "text": [
      "index_parallel='0297'\n"
     ]
    },
    {
     "name": "stderr",
     "output_type": "stream",
     "text": [
      "\u001b[32m[I 2022-08-16 09:50:38,238]\u001b[0m Trial 297 finished with value: 8303.15909090909 and parameters: {'kErase': 2, 'kRadius': 4, 'kAnnealingA': 13.189786847220265, 'kAnnealingB': 0.45950804741200285, 'kAnnealingStart': 23.29775161808471, 'kSkipRatio': 0.768878667016439, 'kTargetDeterminationTrials': 20, 'kAttractionRatio': 0.05318471858674965, 'kMaxAttractionDistance': 6, 'kStartAttraction': 0.08612256443593486}. Best is trial 121 with value: 8430.27840909091.\u001b[0m\n"
     ]
    },
    {
     "name": "stdout",
     "output_type": "stream",
     "text": [
      "index_parallel='0299'\n"
     ]
    },
    {
     "name": "stderr",
     "output_type": "stream",
     "text": [
      "\u001b[32m[I 2022-08-16 09:54:04,967]\u001b[0m Trial 299 finished with value: 8258.255681818182 and parameters: {'kErase': 2, 'kRadius': 4, 'kAnnealingA': 11.255828059669266, 'kAnnealingB': 0.32246046529317535, 'kAnnealingStart': 18.00982907196416, 'kSkipRatio': 0.7473781713389478, 'kTargetDeterminationTrials': 14, 'kAttractionRatio': 0.08888842739701643, 'kMaxAttractionDistance': 7, 'kStartAttraction': 0.053689587860654586}. Best is trial 121 with value: 8430.27840909091.\u001b[0m\n"
     ]
    },
    {
     "name": "stdout",
     "output_type": "stream",
     "text": [
      "index_parallel='0301'\n"
     ]
    },
    {
     "name": "stderr",
     "output_type": "stream",
     "text": [
      "\u001b[32m[I 2022-08-16 09:57:31,510]\u001b[0m Trial 301 finished with value: 8315.738636363636 and parameters: {'kErase': 2, 'kRadius': 4, 'kAnnealingA': 14.25789508435992, 'kAnnealingB': 0.08503182147421717, 'kAnnealingStart': 27.608802700406027, 'kSkipRatio': 0.7016128539904362, 'kTargetDeterminationTrials': 15, 'kAttractionRatio': 0.061386551540777205, 'kMaxAttractionDistance': 7, 'kStartAttraction': 0.11168272925259477}. Best is trial 121 with value: 8430.27840909091.\u001b[0m\n"
     ]
    },
    {
     "name": "stdout",
     "output_type": "stream",
     "text": [
      "index_parallel='0303'\n"
     ]
    },
    {
     "name": "stderr",
     "output_type": "stream",
     "text": [
      "\u001b[32m[I 2022-08-16 10:00:58,280]\u001b[0m Trial 303 finished with value: 8319.897727272728 and parameters: {'kErase': 2, 'kRadius': 4, 'kAnnealingA': 12.145827825851844, 'kAnnealingB': 0.9866545911584139, 'kAnnealingStart': 24.72067794759609, 'kSkipRatio': 0.789941732218163, 'kTargetDeterminationTrials': 18, 'kAttractionRatio': 0.06546549332249561, 'kMaxAttractionDistance': 8, 'kStartAttraction': 0.150984261981478}. Best is trial 121 with value: 8430.27840909091.\u001b[0m\n"
     ]
    },
    {
     "name": "stdout",
     "output_type": "stream",
     "text": [
      "index_parallel='0305'\n"
     ]
    },
    {
     "name": "stderr",
     "output_type": "stream",
     "text": [
      "\u001b[32m[I 2022-08-16 10:04:25,370]\u001b[0m Trial 305 finished with value: 8418.704545454546 and parameters: {'kErase': 2, 'kRadius': 4, 'kAnnealingA': 13.277830995112133, 'kAnnealingB': 0.3869819546501315, 'kAnnealingStart': 20.88611344825579, 'kSkipRatio': 0.7594396378048964, 'kTargetDeterminationTrials': 16, 'kAttractionRatio': 0.046720584795643436, 'kMaxAttractionDistance': 8, 'kStartAttraction': 0.10932181619493694}. Best is trial 121 with value: 8430.27840909091.\u001b[0m\n"
     ]
    },
    {
     "name": "stdout",
     "output_type": "stream",
     "text": [
      "index_parallel='0307'\n"
     ]
    },
    {
     "name": "stderr",
     "output_type": "stream",
     "text": [
      "\u001b[32m[I 2022-08-16 10:07:51,909]\u001b[0m Trial 307 finished with value: 8328.289772727272 and parameters: {'kErase': 2, 'kRadius': 4, 'kAnnealingA': 12.451890117255495, 'kAnnealingB': 0.44220125350009004, 'kAnnealingStart': 20.340899376280863, 'kSkipRatio': 0.799922303777713, 'kTargetDeterminationTrials': 16, 'kAttractionRatio': 0.042704077721744546, 'kMaxAttractionDistance': 9, 'kStartAttraction': 0.1133607015558152}. Best is trial 121 with value: 8430.27840909091.\u001b[0m\n"
     ]
    },
    {
     "name": "stdout",
     "output_type": "stream",
     "text": [
      "index_parallel='0309'\n"
     ]
    },
    {
     "name": "stderr",
     "output_type": "stream",
     "text": [
      "\u001b[32m[I 2022-08-16 10:11:18,620]\u001b[0m Trial 309 finished with value: 8334.670454545454 and parameters: {'kErase': 2, 'kRadius': 4, 'kAnnealingA': 13.101859927057191, 'kAnnealingB': 0.5049943583987174, 'kAnnealingStart': 22.464845256085095, 'kSkipRatio': 0.7605443994041433, 'kTargetDeterminationTrials': 17, 'kAttractionRatio': 0.13745018542047732, 'kMaxAttractionDistance': 10, 'kStartAttraction': 0.1300708018710568}. Best is trial 121 with value: 8430.27840909091.\u001b[0m\n"
     ]
    },
    {
     "name": "stdout",
     "output_type": "stream",
     "text": [
      "index_parallel='0311'\n"
     ]
    },
    {
     "name": "stderr",
     "output_type": "stream",
     "text": [
      "\u001b[32m[I 2022-08-16 10:14:45,485]\u001b[0m Trial 311 finished with value: 8390.414772727272 and parameters: {'kErase': 2, 'kRadius': 4, 'kAnnealingA': 12.067097477861594, 'kAnnealingB': 0.35151351555573374, 'kAnnealingStart': 25.003435699227797, 'kSkipRatio': 0.7746283888466975, 'kTargetDeterminationTrials': 18, 'kAttractionRatio': 0.049873475180522354, 'kMaxAttractionDistance': 8, 'kStartAttraction': 0.17658254890439626}. Best is trial 121 with value: 8430.27840909091.\u001b[0m\n"
     ]
    },
    {
     "name": "stdout",
     "output_type": "stream",
     "text": [
      "index_parallel='0313'\n"
     ]
    },
    {
     "name": "stderr",
     "output_type": "stream",
     "text": [
      "\u001b[32m[I 2022-08-16 10:18:12,299]\u001b[0m Trial 313 finished with value: 8263.147727272728 and parameters: {'kErase': 2, 'kRadius': 4, 'kAnnealingA': 11.846734112310862, 'kAnnealingB': 0.41696161824503764, 'kAnnealingStart': 26.05054802901634, 'kSkipRatio': 0.5894696247366752, 'kTargetDeterminationTrials': 14, 'kAttractionRatio': 0.03897780332172922, 'kMaxAttractionDistance': 9, 'kStartAttraction': 0.18610704193052083}. Best is trial 121 with value: 8430.27840909091.\u001b[0m\n"
     ]
    },
    {
     "name": "stdout",
     "output_type": "stream",
     "text": [
      "index_parallel='0315'\n"
     ]
    },
    {
     "name": "stderr",
     "output_type": "stream",
     "text": [
      "\u001b[32m[I 2022-08-16 10:21:39,098]\u001b[0m Trial 315 finished with value: 8387.09659090909 and parameters: {'kErase': 2, 'kRadius': 4, 'kAnnealingA': 10.746134525725699, 'kAnnealingB': 0.36847626306924836, 'kAnnealingStart': 20.653861346849986, 'kSkipRatio': 0.7726813299707034, 'kTargetDeterminationTrials': 15, 'kAttractionRatio': 0.04764880476904992, 'kMaxAttractionDistance': 9, 'kStartAttraction': 0.22648422842259167}. Best is trial 121 with value: 8430.27840909091.\u001b[0m\n"
     ]
    },
    {
     "name": "stdout",
     "output_type": "stream",
     "text": [
      "index_parallel='0317'\n"
     ]
    },
    {
     "name": "stderr",
     "output_type": "stream",
     "text": [
      "\u001b[32m[I 2022-08-16 10:25:05,831]\u001b[0m Trial 317 finished with value: 8297.806818181818 and parameters: {'kErase': 2, 'kRadius': 4, 'kAnnealingA': 10.235105325063225, 'kAnnealingB': 0.3382824127210673, 'kAnnealingStart': 18.98827867315238, 'kSkipRatio': 0.772830590854425, 'kTargetDeterminationTrials': 16, 'kAttractionRatio': 0.04744483066275286, 'kMaxAttractionDistance': 10, 'kStartAttraction': 0.2109608373528802}. Best is trial 121 with value: 8430.27840909091.\u001b[0m\n"
     ]
    },
    {
     "name": "stdout",
     "output_type": "stream",
     "text": [
      "index_parallel='0319'\n"
     ]
    },
    {
     "name": "stderr",
     "output_type": "stream",
     "text": [
      "\u001b[32m[I 2022-08-16 10:28:32,649]\u001b[0m Trial 319 finished with value: 8188.852272727273 and parameters: {'kErase': 2, 'kRadius': 4, 'kAnnealingA': 10.676370213759679, 'kAnnealingB': 0.5031392835097622, 'kAnnealingStart': 7.122844068272815, 'kSkipRatio': 0.759444920633138, 'kTargetDeterminationTrials': 14, 'kAttractionRatio': 0.043685966155345354, 'kMaxAttractionDistance': 9, 'kStartAttraction': 0.2504539733757529}. Best is trial 121 with value: 8430.27840909091.\u001b[0m\n"
     ]
    },
    {
     "name": "stdout",
     "output_type": "stream",
     "text": [
      "index_parallel='0321'\n"
     ]
    },
    {
     "name": "stderr",
     "output_type": "stream",
     "text": [
      "\u001b[32m[I 2022-08-16 10:31:59,133]\u001b[0m Trial 321 finished with value: 8406.78409090909 and parameters: {'kErase': 2, 'kRadius': 4, 'kAnnealingA': 11.409364155332515, 'kAnnealingB': 0.442567436336913, 'kAnnealingStart': 21.365467970513503, 'kSkipRatio': 0.7833076048650409, 'kTargetDeterminationTrials': 18, 'kAttractionRatio': 0.054043136895214006, 'kMaxAttractionDistance': 9, 'kStartAttraction': 0.19690383757511828}. Best is trial 121 with value: 8430.27840909091.\u001b[0m\n"
     ]
    },
    {
     "name": "stdout",
     "output_type": "stream",
     "text": [
      "index_parallel='0323'\n"
     ]
    },
    {
     "name": "stderr",
     "output_type": "stream",
     "text": [
      "\u001b[32m[I 2022-08-16 10:35:25,625]\u001b[0m Trial 323 finished with value: 8345.977272727272 and parameters: {'kErase': 2, 'kRadius': 2, 'kAnnealingA': 11.367153751325462, 'kAnnealingB': 0.4221515364694244, 'kAnnealingStart': 20.969290652934664, 'kSkipRatio': 0.787429843636906, 'kTargetDeterminationTrials': 20, 'kAttractionRatio': 0.05375271332415744, 'kMaxAttractionDistance': 9, 'kStartAttraction': 0.2077871009232897}. Best is trial 121 with value: 8430.27840909091.\u001b[0m\n"
     ]
    },
    {
     "name": "stdout",
     "output_type": "stream",
     "text": [
      "index_parallel='0325'\n"
     ]
    },
    {
     "name": "stderr",
     "output_type": "stream",
     "text": [
      "\u001b[32m[I 2022-08-16 10:38:52,342]\u001b[0m Trial 325 finished with value: 8361.59659090909 and parameters: {'kErase': 2, 'kRadius': 4, 'kAnnealingA': 11.670995494012091, 'kAnnealingB': 0.30519248733807586, 'kAnnealingStart': 27.831552365779345, 'kSkipRatio': 0.7765433778651927, 'kTargetDeterminationTrials': 17, 'kAttractionRatio': 0.04908078527675704, 'kMaxAttractionDistance': 10, 'kStartAttraction': 0.186567527802949}. Best is trial 121 with value: 8430.27840909091.\u001b[0m\n"
     ]
    },
    {
     "name": "stdout",
     "output_type": "stream",
     "text": [
      "index_parallel='0327'\n"
     ]
    },
    {
     "name": "stderr",
     "output_type": "stream",
     "text": [
      "\u001b[32m[I 2022-08-16 10:42:19,059]\u001b[0m Trial 327 finished with value: 8300.647727272728 and parameters: {'kErase': 2, 'kRadius': 4, 'kAnnealingA': 10.043789708249708, 'kAnnealingB': 0.08408543834610524, 'kAnnealingStart': 23.93104119096048, 'kSkipRatio': 0.7562506266420381, 'kTargetDeterminationTrials': 19, 'kAttractionRatio': 0.041484856291918455, 'kMaxAttractionDistance': 8, 'kStartAttraction': 0.19066801650386314}. Best is trial 121 with value: 8430.27840909091.\u001b[0m\n"
     ]
    },
    {
     "name": "stdout",
     "output_type": "stream",
     "text": [
      "index_parallel='0329'\n"
     ]
    },
    {
     "name": "stderr",
     "output_type": "stream",
     "text": [
      "\u001b[32m[I 2022-08-16 10:45:45,434]\u001b[0m Trial 329 finished with value: 7969.5625 and parameters: {'kErase': 1, 'kRadius': 4, 'kAnnealingA': 12.399763870860603, 'kAnnealingB': 0.2232986476367506, 'kAnnealingStart': 4.957300226023905, 'kSkipRatio': 0.7677859817206498, 'kTargetDeterminationTrials': 18, 'kAttractionRatio': 0.054519715835680924, 'kMaxAttractionDistance': 8, 'kStartAttraction': 0.036114654533377984}. Best is trial 121 with value: 8430.27840909091.\u001b[0m\n"
     ]
    },
    {
     "name": "stdout",
     "output_type": "stream",
     "text": [
      "index_parallel='0331'\n"
     ]
    },
    {
     "name": "stderr",
     "output_type": "stream",
     "text": [
      "\u001b[32m[I 2022-08-16 10:49:12,058]\u001b[0m Trial 331 finished with value: 8314.27840909091 and parameters: {'kErase': 2, 'kRadius': 4, 'kAnnealingA': 12.055256649211596, 'kAnnealingB': 0.35887039131948223, 'kAnnealingStart': 22.006865377783942, 'kSkipRatio': 0.7987609664800477, 'kTargetDeterminationTrials': 15, 'kAttractionRatio': 0.047194990877718654, 'kMaxAttractionDistance': 9, 'kStartAttraction': 0.15272096742671704}. Best is trial 121 with value: 8430.27840909091.\u001b[0m\n"
     ]
    },
    {
     "name": "stdout",
     "output_type": "stream",
     "text": [
      "index_parallel='0333'\n"
     ]
    },
    {
     "name": "stderr",
     "output_type": "stream",
     "text": [
      "\u001b[32m[I 2022-08-16 10:52:38,904]\u001b[0m Trial 333 finished with value: 8278.693181818182 and parameters: {'kErase': 2, 'kRadius': 4, 'kAnnealingA': 13.37239649124828, 'kAnnealingB': 0.29334416774891503, 'kAnnealingStart': 30.673309590279302, 'kSkipRatio': 0.7421217949724634, 'kTargetDeterminationTrials': 16, 'kAttractionRatio': 0.03823100857289075, 'kMaxAttractionDistance': 9, 'kStartAttraction': 0.16845168514054454}. Best is trial 121 with value: 8430.27840909091.\u001b[0m\n"
     ]
    },
    {
     "name": "stdout",
     "output_type": "stream",
     "text": [
      "index_parallel='0335'\n"
     ]
    },
    {
     "name": "stderr",
     "output_type": "stream",
     "text": [
      "\u001b[32m[I 2022-08-16 10:56:05,793]\u001b[0m Trial 335 finished with value: 8352.113636363636 and parameters: {'kErase': 2, 'kRadius': 4, 'kAnnealingA': 12.711109504528508, 'kAnnealingB': 0.27347996074198366, 'kAnnealingStart': 25.409005867824213, 'kSkipRatio': 0.785815856713763, 'kTargetDeterminationTrials': 17, 'kAttractionRatio': 0.057312845465573733, 'kMaxAttractionDistance': 8, 'kStartAttraction': 0.2452039055307025}. Best is trial 121 with value: 8430.27840909091.\u001b[0m\n"
     ]
    },
    {
     "name": "stdout",
     "output_type": "stream",
     "text": [
      "index_parallel='0337'\n"
     ]
    },
    {
     "name": "stderr",
     "output_type": "stream",
     "text": [
      "\u001b[32m[I 2022-08-16 10:59:32,849]\u001b[0m Trial 337 finished with value: 8130.255681818182 and parameters: {'kErase': 4, 'kRadius': 4, 'kAnnealingA': 10.939808137235353, 'kAnnealingB': 0.1609556011445441, 'kAnnealingStart': 17.466197391950992, 'kSkipRatio': 0.7550353394152205, 'kTargetDeterminationTrials': 13, 'kAttractionRatio': 0.043623459139892795, 'kMaxAttractionDistance': 8, 'kStartAttraction': 0.10412844258673525}. Best is trial 121 with value: 8430.27840909091.\u001b[0m\n"
     ]
    },
    {
     "name": "stdout",
     "output_type": "stream",
     "text": [
      "index_parallel='0339'\n"
     ]
    },
    {
     "name": "stderr",
     "output_type": "stream",
     "text": [
      "\u001b[32m[I 2022-08-16 11:02:59,680]\u001b[0m Trial 339 finished with value: 8266.630681818182 and parameters: {'kErase': 2, 'kRadius': 4, 'kAnnealingA': 11.732680715419935, 'kAnnealingB': 0.3887929313909338, 'kAnnealingStart': 27.59530683441682, 'kSkipRatio': 0.7662461917529463, 'kTargetDeterminationTrials': 15, 'kAttractionRatio': 0.031269729767224565, 'kMaxAttractionDistance': 10, 'kStartAttraction': 0.08467071764019159}. Best is trial 121 with value: 8430.27840909091.\u001b[0m\n"
     ]
    },
    {
     "name": "stdout",
     "output_type": "stream",
     "text": [
      "index_parallel='0341'\n"
     ]
    },
    {
     "name": "stderr",
     "output_type": "stream",
     "text": [
      "\u001b[32m[I 2022-08-16 11:06:26,616]\u001b[0m Trial 341 finished with value: 8167.960227272727 and parameters: {'kErase': 2, 'kRadius': 4, 'kAnnealingA': 0.5731019109893634, 'kAnnealingB': 0.44873677104175785, 'kAnnealingStart': 22.24292625068277, 'kSkipRatio': 0.799945672824136, 'kTargetDeterminationTrials': 18, 'kAttractionRatio': 0.09889735720615168, 'kMaxAttractionDistance': 7, 'kStartAttraction': 0.0014358525502653722}. Best is trial 121 with value: 8430.27840909091.\u001b[0m\n"
     ]
    },
    {
     "name": "stdout",
     "output_type": "stream",
     "text": [
      "index_parallel='0343'\n"
     ]
    },
    {
     "name": "stderr",
     "output_type": "stream",
     "text": [
      "\u001b[32m[I 2022-08-16 11:09:53,134]\u001b[0m Trial 343 finished with value: 8376.926136363636 and parameters: {'kErase': 2, 'kRadius': 4, 'kAnnealingA': 12.592334672582428, 'kAnnealingB': 0.24845561441947128, 'kAnnealingStart': 19.974300618734016, 'kSkipRatio': 0.7775212916297132, 'kTargetDeterminationTrials': 20, 'kAttractionRatio': 0.06248044937963219, 'kMaxAttractionDistance': 9, 'kStartAttraction': 0.12629658793977527}. Best is trial 121 with value: 8430.27840909091.\u001b[0m\n"
     ]
    },
    {
     "name": "stdout",
     "output_type": "stream",
     "text": [
      "index_parallel='0345'\n"
     ]
    },
    {
     "name": "stderr",
     "output_type": "stream",
     "text": [
      "\u001b[32m[I 2022-08-16 11:13:20,266]\u001b[0m Trial 345 finished with value: 8356.892045454546 and parameters: {'kErase': 2, 'kRadius': 4, 'kAnnealingA': 13.805694965354256, 'kAnnealingB': 0.3356346484903667, 'kAnnealingStart': 19.68766731757984, 'kSkipRatio': 0.7849821468166774, 'kTargetDeterminationTrials': 20, 'kAttractionRatio': 0.06105039266733004, 'kMaxAttractionDistance': 9, 'kStartAttraction': 0.14351410608117893}. Best is trial 121 with value: 8430.27840909091.\u001b[0m\n"
     ]
    },
    {
     "name": "stdout",
     "output_type": "stream",
     "text": [
      "index_parallel='0347'\n"
     ]
    },
    {
     "name": "stderr",
     "output_type": "stream",
     "text": [
      "\u001b[32m[I 2022-08-16 11:16:47,029]\u001b[0m Trial 347 finished with value: 8281.193181818182 and parameters: {'kErase': 2, 'kRadius': 4, 'kAnnealingA': 12.88208719944449, 'kAnnealingB': 0.21133630088234853, 'kAnnealingStart': 21.133958609824052, 'kSkipRatio': 0.7762122975089829, 'kTargetDeterminationTrials': 19, 'kAttractionRatio': 0.07515477381928364, 'kMaxAttractionDistance': 9, 'kStartAttraction': 0.061394987313842145}. Best is trial 121 with value: 8430.27840909091.\u001b[0m\n"
     ]
    },
    {
     "name": "stdout",
     "output_type": "stream",
     "text": [
      "index_parallel='0349'\n"
     ]
    },
    {
     "name": "stderr",
     "output_type": "stream",
     "text": [
      "\u001b[32m[I 2022-08-16 11:20:13,718]\u001b[0m Trial 349 finished with value: 8341.505681818182 and parameters: {'kErase': 2, 'kRadius': 4, 'kAnnealingA': 13.358333764413047, 'kAnnealingB': 0.2693643268348759, 'kAnnealingStart': 24.49786009839522, 'kSkipRatio': 0.7536130138405384, 'kTargetDeterminationTrials': 17, 'kAttractionRatio': 0.05899362934513976, 'kMaxAttractionDistance': 8, 'kStartAttraction': 0.046079607197680165}. Best is trial 121 with value: 8430.27840909091.\u001b[0m\n"
     ]
    },
    {
     "name": "stdout",
     "output_type": "stream",
     "text": [
      "index_parallel='0351'\n"
     ]
    },
    {
     "name": "stderr",
     "output_type": "stream",
     "text": [
      "\u001b[32m[I 2022-08-16 11:23:40,280]\u001b[0m Trial 351 finished with value: 8391.823863636364 and parameters: {'kErase': 2, 'kRadius': 4, 'kAnnealingA': 12.085974090548401, 'kAnnealingB': 0.37548502609066203, 'kAnnealingStart': 18.4357861549161, 'kSkipRatio': 0.7628685402653432, 'kTargetDeterminationTrials': 18, 'kAttractionRatio': 0.06724618289219618, 'kMaxAttractionDistance': 8, 'kStartAttraction': 0.37256181942074856}. Best is trial 121 with value: 8430.27840909091.\u001b[0m\n"
     ]
    },
    {
     "name": "stdout",
     "output_type": "stream",
     "text": [
      "index_parallel='0353'\n"
     ]
    },
    {
     "name": "stderr",
     "output_type": "stream",
     "text": [
      "\u001b[32m[I 2022-08-16 11:27:06,896]\u001b[0m Trial 353 finished with value: 8402.636363636364 and parameters: {'kErase': 2, 'kRadius': 4, 'kAnnealingA': 12.131913918112112, 'kAnnealingB': 0.3844551444881189, 'kAnnealingStart': 18.445694930632317, 'kSkipRatio': 0.7637733646449018, 'kTargetDeterminationTrials': 18, 'kAttractionRatio': 0.06715818221313964, 'kMaxAttractionDistance': 12, 'kStartAttraction': 0.4548033219343989}. Best is trial 121 with value: 8430.27840909091.\u001b[0m\n"
     ]
    },
    {
     "name": "stdout",
     "output_type": "stream",
     "text": [
      "index_parallel='0355'\n"
     ]
    },
    {
     "name": "stderr",
     "output_type": "stream",
     "text": [
      "\u001b[32m[I 2022-08-16 11:30:34,580]\u001b[0m Trial 355 finished with value: 8351.40340909091 and parameters: {'kErase': 2, 'kRadius': 3, 'kAnnealingA': 12.145380153436758, 'kAnnealingB': 0.5174617481802827, 'kAnnealingStart': 15.732991480256526, 'kSkipRatio': 0.7605376035126926, 'kTargetDeterminationTrials': 19, 'kAttractionRatio': 0.06538281558951181, 'kMaxAttractionDistance': 11, 'kStartAttraction': 0.3854703789119788}. Best is trial 121 with value: 8430.27840909091.\u001b[0m\n"
     ]
    },
    {
     "name": "stdout",
     "output_type": "stream",
     "text": [
      "index_parallel='0357'\n"
     ]
    },
    {
     "name": "stderr",
     "output_type": "stream",
     "text": [
      "\u001b[32m[I 2022-08-16 11:34:01,447]\u001b[0m Trial 357 finished with value: 8341.72159090909 and parameters: {'kErase': 2, 'kRadius': 4, 'kAnnealingA': 11.668797870686143, 'kAnnealingB': 0.42086881998127534, 'kAnnealingStart': 17.56825371812861, 'kSkipRatio': 0.751731073778797, 'kTargetDeterminationTrials': 20, 'kAttractionRatio': 0.08190673876707198, 'kMaxAttractionDistance': 10, 'kStartAttraction': 0.21491182266028902}. Best is trial 121 with value: 8430.27840909091.\u001b[0m\n"
     ]
    },
    {
     "name": "stdout",
     "output_type": "stream",
     "text": [
      "index_parallel='0359'\n"
     ]
    },
    {
     "name": "stderr",
     "output_type": "stream",
     "text": [
      "\u001b[32m[I 2022-08-16 11:37:27,861]\u001b[0m Trial 359 finished with value: 8374.8125 and parameters: {'kErase': 2, 'kRadius': 4, 'kAnnealingA': 11.448395851098072, 'kAnnealingB': 0.5771944158472566, 'kAnnealingStart': 15.838839641910436, 'kSkipRatio': 0.7623386739468577, 'kTargetDeterminationTrials': 18, 'kAttractionRatio': 0.08728007327550766, 'kMaxAttractionDistance': 9, 'kStartAttraction': 0.4767314755948403}. Best is trial 121 with value: 8430.27840909091.\u001b[0m\n"
     ]
    },
    {
     "name": "stdout",
     "output_type": "stream",
     "text": [
      "index_parallel='0361'\n"
     ]
    },
    {
     "name": "stderr",
     "output_type": "stream",
     "text": [
      "\u001b[32m[I 2022-08-16 11:40:54,849]\u001b[0m Trial 361 finished with value: 8340.3125 and parameters: {'kErase': 2, 'kRadius': 4, 'kAnnealingA': 10.777589474053602, 'kAnnealingB': 0.45282567049100453, 'kAnnealingStart': 16.823340544880427, 'kSkipRatio': 0.7236595313181323, 'kTargetDeterminationTrials': 17, 'kAttractionRatio': 0.07460905254126145, 'kMaxAttractionDistance': 20, 'kStartAttraction': 0.5395620922332489}. Best is trial 121 with value: 8430.27840909091.\u001b[0m\n"
     ]
    },
    {
     "name": "stdout",
     "output_type": "stream",
     "text": [
      "index_parallel='0363'\n"
     ]
    }
   ],
   "source": [
    "study.optimize(\n",
    "    partial(objective, in_dir=in_dir, work_dir=work_dir),\n",
    "    n_trials=3000,\n",
    "    timeout=86400,\n",
    "    callbacks=[callback]\n",
    ")"
   ]
  },
  {
   "cell_type": "code",
   "execution_count": null,
   "id": "700269d2",
   "metadata": {},
   "outputs": [],
   "source": []
  }
 ],
 "metadata": {
  "kernelspec": {
   "display_name": "Python 3 (ipykernel)",
   "language": "python",
   "name": "python3"
  },
  "language_info": {
   "codemirror_mode": {
    "name": "ipython",
    "version": 3
   },
   "file_extension": ".py",
   "mimetype": "text/x-python",
   "name": "python",
   "nbconvert_exporter": "python",
   "pygments_lexer": "ipython3",
   "version": "3.9.12"
  }
 },
 "nbformat": 4,
 "nbformat_minor": 5
}
