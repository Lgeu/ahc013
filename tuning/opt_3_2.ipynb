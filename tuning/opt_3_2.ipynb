{
 "cells": [
  {
   "cell_type": "code",
   "execution_count": 1,
   "id": "25a1dac8",
   "metadata": {},
   "outputs": [],
   "source": [
    "import re\n",
    "import sys\n",
    "from uuid import uuid1\n",
    "from time import sleep\n",
    "from pprint import pprint\n",
    "from pathlib import Path\n",
    "from tempfile import gettempdir\n",
    "from threading import Thread\n",
    "from functools import partial\n",
    "from subprocess import Popen, PIPE\n",
    "\n",
    "from tqdm.notebook import tqdm\n",
    "import numpy as np\n",
    "import optuna\n",
    "import pandas as pd\n",
    "import matplotlib.pyplot as plt\n",
    "\n",
    "FILENAME = \"main.cpp\""
   ]
  },
  {
   "cell_type": "code",
   "execution_count": 2,
   "id": "3dd4d02e",
   "metadata": {},
   "outputs": [
    {
     "name": "stdout",
     "output_type": "stream",
     "text": [
      "10 variables were found.\n"
     ]
    },
    {
     "data": {
      "text/html": [
       "<div>\n",
       "<style scoped>\n",
       "    .dataframe tbody tr th:only-of-type {\n",
       "        vertical-align: middle;\n",
       "    }\n",
       "\n",
       "    .dataframe tbody tr th {\n",
       "        vertical-align: top;\n",
       "    }\n",
       "\n",
       "    .dataframe thead th {\n",
       "        text-align: right;\n",
       "    }\n",
       "</style>\n",
       "<table border=\"1\" class=\"dataframe\">\n",
       "  <thead>\n",
       "    <tr style=\"text-align: right;\">\n",
       "      <th></th>\n",
       "      <th>name</th>\n",
       "      <th>method</th>\n",
       "      <th>min</th>\n",
       "      <th>max</th>\n",
       "      <th>log</th>\n",
       "      <th>left</th>\n",
       "      <th>right</th>\n",
       "    </tr>\n",
       "  </thead>\n",
       "  <tbody>\n",
       "    <tr>\n",
       "      <th>0</th>\n",
       "      <td>kErase</td>\n",
       "      <td>suggest_int</td>\n",
       "      <td>1.000</td>\n",
       "      <td>5.0</td>\n",
       "      <td>False</td>\n",
       "      <td>static constexpr auto kErase =</td>\n",
       "      <td>;             // OPTIMIZE [1, 5]</td>\n",
       "    </tr>\n",
       "    <tr>\n",
       "      <th>1</th>\n",
       "      <td>kRadius</td>\n",
       "      <td>suggest_int</td>\n",
       "      <td>2.000</td>\n",
       "      <td>6.0</td>\n",
       "      <td>False</td>\n",
       "      <td>static constexpr auto kRadius =</td>\n",
       "      <td>;            // OPTIMIZE [2, 6]</td>\n",
       "    </tr>\n",
       "    <tr>\n",
       "      <th>2</th>\n",
       "      <td>kAnnealingA</td>\n",
       "      <td>suggest_float</td>\n",
       "      <td>-15.000</td>\n",
       "      <td>15.0</td>\n",
       "      <td>False</td>\n",
       "      <td>static constexpr auto kAnnealingA =</td>\n",
       "      <td>;      // OPTIMIZE [-15.0, 15.0]</td>\n",
       "    </tr>\n",
       "    <tr>\n",
       "      <th>3</th>\n",
       "      <td>kAnnealingB</td>\n",
       "      <td>suggest_float</td>\n",
       "      <td>0.000</td>\n",
       "      <td>3.0</td>\n",
       "      <td>False</td>\n",
       "      <td>static constexpr auto kAnnealingB =</td>\n",
       "      <td>;      // OPTIMIZE [0.0, 3.0]</td>\n",
       "    </tr>\n",
       "    <tr>\n",
       "      <th>4</th>\n",
       "      <td>kAnnealingStart</td>\n",
       "      <td>suggest_float</td>\n",
       "      <td>1.000</td>\n",
       "      <td>100.0</td>\n",
       "      <td>True</td>\n",
       "      <td>static constexpr auto kAnnealingStart =</td>\n",
       "      <td>; // OPTIMIZE LOG [1.0, 100.0]</td>\n",
       "    </tr>\n",
       "    <tr>\n",
       "      <th>5</th>\n",
       "      <td>kSkipRatio</td>\n",
       "      <td>suggest_float</td>\n",
       "      <td>0.200</td>\n",
       "      <td>0.8</td>\n",
       "      <td>False</td>\n",
       "      <td>static constexpr auto kSkipRatio =</td>\n",
       "      <td>;       // OPTIMIZE [0.2, 0.8]</td>\n",
       "    </tr>\n",
       "    <tr>\n",
       "      <th>6</th>\n",
       "      <td>kTargetDeterminationTrials</td>\n",
       "      <td>suggest_int</td>\n",
       "      <td>1.000</td>\n",
       "      <td>20.0</td>\n",
       "      <td>True</td>\n",
       "      <td>static constexpr auto kTargetDeterminationTria...</td>\n",
       "      <td>; // OPTIMIZE LOG [1, 20]</td>\n",
       "    </tr>\n",
       "    <tr>\n",
       "      <th>7</th>\n",
       "      <td>kAttractionRatio</td>\n",
       "      <td>suggest_float</td>\n",
       "      <td>0.010</td>\n",
       "      <td>0.9</td>\n",
       "      <td>True</td>\n",
       "      <td>static constexpr auto kAttractionRatio =</td>\n",
       "      <td>;      // OPTIMIZE LOG [0.01, 0.9]</td>\n",
       "    </tr>\n",
       "    <tr>\n",
       "      <th>8</th>\n",
       "      <td>kMaxAttractionDistance</td>\n",
       "      <td>suggest_int</td>\n",
       "      <td>4.000</td>\n",
       "      <td>99.0</td>\n",
       "      <td>True</td>\n",
       "      <td>static constexpr auto kMaxAttractionDistance =</td>\n",
       "      <td>; // OPTIMIZE LOG [4, 99]</td>\n",
       "    </tr>\n",
       "    <tr>\n",
       "      <th>9</th>\n",
       "      <td>kStartAttraction</td>\n",
       "      <td>suggest_float</td>\n",
       "      <td>0.001</td>\n",
       "      <td>0.9</td>\n",
       "      <td>True</td>\n",
       "      <td>static constexpr auto kStartAttraction =</td>\n",
       "      <td>;     // OPTIMIZE LOG [0.001, 0.9]</td>\n",
       "    </tr>\n",
       "  </tbody>\n",
       "</table>\n",
       "</div>"
      ],
      "text/plain": [
       "                         name         method     min    max    log  \\\n",
       "0                      kErase    suggest_int   1.000    5.0  False   \n",
       "1                     kRadius    suggest_int   2.000    6.0  False   \n",
       "2                 kAnnealingA  suggest_float -15.000   15.0  False   \n",
       "3                 kAnnealingB  suggest_float   0.000    3.0  False   \n",
       "4             kAnnealingStart  suggest_float   1.000  100.0   True   \n",
       "5                  kSkipRatio  suggest_float   0.200    0.8  False   \n",
       "6  kTargetDeterminationTrials    suggest_int   1.000   20.0   True   \n",
       "7            kAttractionRatio  suggest_float   0.010    0.9   True   \n",
       "8      kMaxAttractionDistance    suggest_int   4.000   99.0   True   \n",
       "9            kStartAttraction  suggest_float   0.001    0.9   True   \n",
       "\n",
       "                                                left  \\\n",
       "0                    static constexpr auto kErase =    \n",
       "1                   static constexpr auto kRadius =    \n",
       "2               static constexpr auto kAnnealingA =    \n",
       "3               static constexpr auto kAnnealingB =    \n",
       "4           static constexpr auto kAnnealingStart =    \n",
       "5                static constexpr auto kSkipRatio =    \n",
       "6  static constexpr auto kTargetDeterminationTria...   \n",
       "7          static constexpr auto kAttractionRatio =    \n",
       "8    static constexpr auto kMaxAttractionDistance =    \n",
       "9          static constexpr auto kStartAttraction =    \n",
       "\n",
       "                                right  \n",
       "0    ;             // OPTIMIZE [1, 5]  \n",
       "1     ;            // OPTIMIZE [2, 6]  \n",
       "2    ;      // OPTIMIZE [-15.0, 15.0]  \n",
       "3       ;      // OPTIMIZE [0.0, 3.0]  \n",
       "4      ; // OPTIMIZE LOG [1.0, 100.0]  \n",
       "5      ;       // OPTIMIZE [0.2, 0.8]  \n",
       "6           ; // OPTIMIZE LOG [1, 20]  \n",
       "7  ;      // OPTIMIZE LOG [0.01, 0.9]  \n",
       "8           ; // OPTIMIZE LOG [4, 99]  \n",
       "9  ;     // OPTIMIZE LOG [0.001, 0.9]  "
      ]
     },
     "metadata": {},
     "output_type": "display_data"
    }
   ],
   "source": [
    "# ここでエラー出力は何かおかしいかもしれない\n",
    "\n",
    "\n",
    "# パラメータ抽出\n",
    "with open(FILENAME) as f:\n",
    "    answer = f.read()\n",
    "\n",
    "\n",
    "variables_optimize = []\n",
    "\n",
    "for left, value, right, options in re.findall(r\"^([^/\\n]*=\\s*)(.+?)(\\s*;\\s*//(?:.*\\W)?OPTIMIZE(\\W.*))$\", answer, re.MULTILINE):\n",
    "    name = left.replace(\"=\", \"\").strip().split()[-1]\n",
    "    \n",
    "    searched = re.search(r\".*\\[(?P<min>.*),(?P<max>.*)\\].*\", options)\n",
    "    if searched:\n",
    "        min_value = max_value = None\n",
    "        try:\n",
    "            min_value = eval(searched.group(\"min\"))\n",
    "            max_value = eval(searched.group(\"max\"))\n",
    "            assert min_value <= max_value\n",
    "        except Exception as e:\n",
    "            print(f\"searched={searched}\", file=sys.stderr)\n",
    "            print(e, file=sys.stderr)\n",
    "            continue\n",
    "        log = \"LOG\" in options  # 雑、直したほうが良い\n",
    "        if type(min_value) != type(max_value):\n",
    "            print(f\"searched={searched}\", file=sys.stderr)\n",
    "            print(\"types not matched\", file=sys.stderr)\n",
    "            continue\n",
    "        if isinstance(min_value, int):\n",
    "            method = \"suggest_int\"\n",
    "        elif isinstance(min_value, float):\n",
    "            method = \"suggest_float\"\n",
    "        else:\n",
    "            print(f\"searched={searched}\", file=sys.stderr)\n",
    "            print(f\"unknown type ({type(min_value)})\", file=sys.stderr)\n",
    "            continue\n",
    "        variables_optimize.append({\n",
    "            \"name\": name,\n",
    "            \"method\": method,\n",
    "            \"min\": min_value,\n",
    "            \"max\": max_value,\n",
    "            \"log\": log,\n",
    "            \"left\": left,\n",
    "            \"right\": right,\n",
    "        })\n",
    "    elif searched := re.search(r\".*\\{(?P<choices>.*?)\\}.*\", options):\n",
    "        choices = list(map(lambda x: x.strip(), searched.group(\"choices\").split(\",\")))\n",
    "        variables_optimize.append({\n",
    "            \"name\": name,\n",
    "            \"method\": \"suggest_categorical\",\n",
    "            \"choices\": choices,\n",
    "            \"left\": left,\n",
    "            \"right\": right,\n",
    "        })\n",
    "    else:\n",
    "        print(f\"searched={searched}\", file=sys.stderr)\n",
    "        print(f\"pattern was matched but options are incorrect.\", file=sys.stderr)\n",
    "\n",
    "print(len(variables_optimize), \"variables were found.\")\n",
    "if globals().get(\"pd\"):\n",
    "    display(pd.DataFrame(variables_optimize))\n",
    "else:\n",
    "    pprint(variables_optimize)"
   ]
  },
  {
   "cell_type": "code",
   "execution_count": 3,
   "id": "001042b9",
   "metadata": {},
   "outputs": [],
   "source": [
    "def escape(string):  # 正規表現の中でそのまま使いたい文字列をエスケープ\n",
    "    res = !echo '{string}' | sed -e 's/[]\\/$*.^[]/\\\\&/g'\n",
    "    return res[0]\n",
    "\n",
    "def escape_sed(string):  # sed の置換後の文字列用のエスケープ\n",
    "    res = !echo '{string}' | sed -e 's/[\\/&]/\\\\&/g'\n",
    "    return res[0]\n",
    "\n",
    "def read_stream(name, in_file, out_file):\n",
    "    for line in in_file:\n",
    "        print(f\"[{name}] {line.strip()}\", file=out_file)\n",
    "\n",
    "def run(cmd, name):\n",
    "    proc = Popen(cmd, stdout=PIPE, stderr=PIPE, universal_newlines=True, shell=isinstance(cmd, str))\n",
    "    stdout_thread = Thread(target=read_stream, args=(name, proc.stdout, sys.stdout))\n",
    "    stderr_thread = Thread(target=read_stream, args=(name, proc.stderr, sys.stderr))\n",
    "    stdout_thread.start()\n",
    "    stderr_thread.start()\n",
    "    proc.wait()\n",
    "    return proc\n",
    "\n",
    "def objective(trial, in_dir, work_dir):\n",
    "    n_internal_parallel = 3\n",
    "    \n",
    "    index_parallel = f\"{trial.number:04d}\"\n",
    "    print(f\"{index_parallel=}\")\n",
    "    \n",
    "    work_dir = Path(work_dir)\n",
    "    directory_input = Path(in_dir)  # 中のすべてのファイルに対して実行される\n",
    "    #parameters_changed_filename = Path(gettempdir()) / str(uuid1())\n",
    "    parameters_changed_filename = work_dir / f\"{index_parallel}_{FILENAME}\"\n",
    "    \n",
    "    run([\"mkdir\", f\"{work_dir / index_parallel}_out\"], \"mkdir\")\n",
    "    run([\"mkdir\", f\"{work_dir / index_parallel}_score\"], \"mkdir\")\n",
    "    \n",
    "    # ファイル作成\n",
    "    run(f\"cp {FILENAME} {parameters_changed_filename}\", \"cp\")\n",
    "    sed_options = [f\"-i {parameters_changed_filename}\"]\n",
    "    for variable in variables_optimize:\n",
    "        if variable[\"method\"] == \"suggest_categorical\":\n",
    "            val =  trial.suggest_categorical(variable[\"name\"], variable[\"choices\"])\n",
    "        else:\n",
    "            val = getattr(trial, variable[\"method\"])(variable[\"name\"], variable[\"min\"], variable[\"max\"], log=variable[\"log\"])\n",
    "        left = variable[\"left\"]\n",
    "        right = variable[\"right\"]\n",
    "        sed_options.append(f\"\"\"-e 's/^{escape(left)}.*{escape(right)}$/{escape_sed(left)}{val}{escape_sed(right)}/'\"\"\")\n",
    "    command_sed = f\"sed {' '.join(sed_options)}\"\n",
    "    #print(command_sed)\n",
    "    run(command_sed, \"sed\")\n",
    "    \n",
    "    # コンパイル\n",
    "    command_compile = f\"g++ {parameters_changed_filename} -std=gnu++17 -O2 -DONLINE_JUDGE -o {parameters_changed_filename}.out\"\n",
    "    #print(command_compile)\n",
    "    run(command_compile, \"compile\")\n",
    "    # 実行・採点コマンド (@ はファイル名)\n",
    "    command_exec = (\n",
    "        #f\"./a.out < ./tools/in/{i:04d}.txt > {out_file} && ./tools/target/release/vis ./tools/in/{i:04d}.txt {out_file}\"\n",
    "        #f\"../tools/target/release/tester $(pwd)/{parameters_changed_filename}.out < {directory_input}/@ 2>&1 | grep Score\"\n",
    "        #f\"../tools/target/release/tester $(pwd)/{parameters_changed_filename}.out < {directory_input}/@ 2>&1 | grep Score | sed -E s/[^0-9]+// > ./{index_parallel}_score/@;\"\n",
    "        #f\"cargo run --release --manifest-path ../tools/Cargo.toml --bin tester {directory_input}/@ $(pwd)/{parameters_changed_filename}.out 2>&1 | grep Score | sed -E s/[^0-9]+// > ./{index_parallel}_score/@;\"\n",
    "        f\"./{parameters_changed_filename}.out < {directory_input}/@ > {work_dir / index_parallel}_out/@;\"\n",
    "        f\"../tools/target/release/vis {directory_input}/@ {work_dir / index_parallel}_out/@ 2> /dev/null > {work_dir / index_parallel}_score/@;\"\n",
    "    )\n",
    "    # 並列実行 (sed はパスのディレクトリ部分を消してファイル名にしてる)\n",
    "    run(f\"find {directory_input}/* | sed 's!^.*/!!' | xargs -I@ -P {n_internal_parallel} sh -c '{command_exec}'\", \"exec\")\n",
    "    \n",
    "    # 集計\n",
    "    scores = []\n",
    "    for file_path in Path(f\"{work_dir / index_parallel}_score/\").iterdir():  \n",
    "        with open(file_path) as f:\n",
    "            scores.append(int(f.readline().strip().split()[-1]))\n",
    "    mean_score = sum(scores) / len(scores)\n",
    "    \n",
    "    # 後始末\n",
    "    run(f\"rm -rf {work_dir / index_parallel}_out\", \"rm\")\n",
    "    run(f\"rm -rf {work_dir / index_parallel}_score\", \"rm\")\n",
    "    #run(f\"rm {parameters_changed_filename}\", \"rm\")\n",
    "    run(f\"rm {parameters_changed_filename}.out\", \"rm\")\n",
    "    \n",
    "    return mean_score"
   ]
  },
  {
   "cell_type": "code",
   "execution_count": 4,
   "id": "2d2e133c",
   "metadata": {},
   "outputs": [
    {
     "name": "stderr",
     "output_type": "stream",
     "text": [
      "\u001b[32m[I 2022-08-15 21:26:45,973]\u001b[0m A new study created in RDB with name: study_3_2\u001b[0m\n"
     ]
    }
   ],
   "source": [
    "K = 3\n",
    "N_CLASS = 2\n",
    "\n",
    "in_dir = Path(f\"in_{K}_{N_CLASS}\")\n",
    "work_dir = Path(f\"work_{K}_{N_CLASS}\")\n",
    "\n",
    "study_name = f\"study_{K}_{N_CLASS}\"\n",
    "storage_path = work_dir / \"study.db\"\n",
    "storage = f\"sqlite:///{storage_path}\"\n",
    "study = optuna.create_study(storage=storage, load_if_exists=True, study_name=study_name, direction=\"maximize\")\n",
    "\n",
    "def callback(study, trial):\n",
    "    try:\n",
    "        index_parallel = f\"{trial.number:04d}\"\n",
    "        parameters_changed_filename = work_dir / f\"{index_parallel}_{FILENAME}\"\n",
    "        if study.best_value == trial.value:\n",
    "            print(f\"Updated! {study.best_value}\")\n",
    "            !cp {parameters_changed_filename} {work_dir / \"best_parameters.cpp\"}\n",
    "        !rm {parameters_changed_filename}\n",
    "    except:\n",
    "        print(\":(\")\n"
   ]
  },
  {
   "cell_type": "code",
   "execution_count": null,
   "id": "61c2901d",
   "metadata": {},
   "outputs": [
    {
     "name": "stdout",
     "output_type": "stream",
     "text": [
      "index_parallel='0000'\n"
     ]
    },
    {
     "name": "stderr",
     "output_type": "stream",
     "text": [
      "\u001b[32m[I 2022-08-15 21:30:12,201]\u001b[0m Trial 0 finished with value: 7919.948863636364 and parameters: {'kErase': 2, 'kRadius': 4, 'kAnnealingA': 14.766143423001981, 'kAnnealingB': 1.1610165942655903, 'kAnnealingStart': 1.2046258875774496, 'kSkipRatio': 0.5619199626400057, 'kTargetDeterminationTrials': 16, 'kAttractionRatio': 0.0795931557039894, 'kMaxAttractionDistance': 6, 'kStartAttraction': 0.12538934661555226}. Best is trial 0 with value: 7919.948863636364.\u001b[0m\n"
     ]
    },
    {
     "name": "stdout",
     "output_type": "stream",
     "text": [
      "Updated! 7919.948863636364\n",
      "index_parallel='0001'\n"
     ]
    },
    {
     "name": "stderr",
     "output_type": "stream",
     "text": [
      "\u001b[32m[I 2022-08-15 21:33:39,062]\u001b[0m Trial 1 finished with value: 7380.0 and parameters: {'kErase': 3, 'kRadius': 2, 'kAnnealingA': -2.5908285488493714, 'kAnnealingB': 0.20378832061787078, 'kAnnealingStart': 33.9135958912934, 'kSkipRatio': 0.34180489514222556, 'kTargetDeterminationTrials': 5, 'kAttractionRatio': 0.018657397540595345, 'kMaxAttractionDistance': 4, 'kStartAttraction': 0.0049906386507568975}. Best is trial 0 with value: 7919.948863636364.\u001b[0m\n"
     ]
    },
    {
     "name": "stdout",
     "output_type": "stream",
     "text": [
      "index_parallel='0002'\n"
     ]
    },
    {
     "name": "stderr",
     "output_type": "stream",
     "text": [
      "\u001b[32m[I 2022-08-15 21:37:05,019]\u001b[0m Trial 2 finished with value: 8104.272727272727 and parameters: {'kErase': 1, 'kRadius': 2, 'kAnnealingA': 1.3530479992751765, 'kAnnealingB': 1.5838470314175517, 'kAnnealingStart': 16.389685552471207, 'kSkipRatio': 0.5525203446859265, 'kTargetDeterminationTrials': 11, 'kAttractionRatio': 0.049609467939807896, 'kMaxAttractionDistance': 47, 'kStartAttraction': 0.3039592197515261}. Best is trial 2 with value: 8104.272727272727.\u001b[0m\n"
     ]
    },
    {
     "name": "stdout",
     "output_type": "stream",
     "text": [
      "Updated! 8104.272727272727\n",
      "index_parallel='0003'\n"
     ]
    },
    {
     "name": "stderr",
     "output_type": "stream",
     "text": [
      "\u001b[32m[I 2022-08-15 21:40:31,710]\u001b[0m Trial 3 finished with value: 7540.613636363636 and parameters: {'kErase': 2, 'kRadius': 6, 'kAnnealingA': -0.14159012214709676, 'kAnnealingB': 0.8951057252227299, 'kAnnealingStart': 2.5925724903483425, 'kSkipRatio': 0.5182849367361284, 'kTargetDeterminationTrials': 5, 'kAttractionRatio': 0.7350157473205149, 'kMaxAttractionDistance': 8, 'kStartAttraction': 0.005854506221894666}. Best is trial 2 with value: 8104.272727272727.\u001b[0m\n"
     ]
    },
    {
     "name": "stdout",
     "output_type": "stream",
     "text": [
      "index_parallel='0004'\n"
     ]
    },
    {
     "name": "stderr",
     "output_type": "stream",
     "text": [
      "\u001b[32m[I 2022-08-15 21:43:58,370]\u001b[0m Trial 4 finished with value: 7847.693181818182 and parameters: {'kErase': 1, 'kRadius': 3, 'kAnnealingA': -7.148944893484738, 'kAnnealingB': 0.3158928964819657, 'kAnnealingStart': 4.136350931125263, 'kSkipRatio': 0.5653076631325875, 'kTargetDeterminationTrials': 3, 'kAttractionRatio': 0.03213471055533848, 'kMaxAttractionDistance': 57, 'kStartAttraction': 0.04376000669868309}. Best is trial 2 with value: 8104.272727272727.\u001b[0m\n"
     ]
    },
    {
     "name": "stdout",
     "output_type": "stream",
     "text": [
      "index_parallel='0005'\n"
     ]
    },
    {
     "name": "stderr",
     "output_type": "stream",
     "text": [
      "\u001b[32m[I 2022-08-15 21:47:25,073]\u001b[0m Trial 5 finished with value: 7820.823863636364 and parameters: {'kErase': 4, 'kRadius': 4, 'kAnnealingA': -5.281450720413098, 'kAnnealingB': 0.3258270836428815, 'kAnnealingStart': 15.558899024533485, 'kSkipRatio': 0.6026567147977311, 'kTargetDeterminationTrials': 16, 'kAttractionRatio': 0.01771172507840187, 'kMaxAttractionDistance': 4, 'kStartAttraction': 0.022022076907949863}. Best is trial 2 with value: 8104.272727272727.\u001b[0m\n"
     ]
    },
    {
     "name": "stdout",
     "output_type": "stream",
     "text": [
      "index_parallel='0006'\n"
     ]
    },
    {
     "name": "stderr",
     "output_type": "stream",
     "text": [
      "\u001b[32m[I 2022-08-15 21:50:51,680]\u001b[0m Trial 6 finished with value: 7987.210227272727 and parameters: {'kErase': 4, 'kRadius': 3, 'kAnnealingA': -8.089670147424897, 'kAnnealingB': 1.159354945463398, 'kAnnealingStart': 4.201035603494877, 'kSkipRatio': 0.7881899392394383, 'kTargetDeterminationTrials': 6, 'kAttractionRatio': 0.13083479178753848, 'kMaxAttractionDistance': 8, 'kStartAttraction': 0.6038893419226928}. Best is trial 2 with value: 8104.272727272727.\u001b[0m\n"
     ]
    },
    {
     "name": "stdout",
     "output_type": "stream",
     "text": [
      "index_parallel='0007'\n"
     ]
    },
    {
     "name": "stderr",
     "output_type": "stream",
     "text": [
      "\u001b[32m[I 2022-08-15 21:54:17,488]\u001b[0m Trial 7 finished with value: 7567.869318181818 and parameters: {'kErase': 1, 'kRadius': 3, 'kAnnealingA': 14.2949034426316, 'kAnnealingB': 0.06356856437068703, 'kAnnealingStart': 36.33421033579294, 'kSkipRatio': 0.4138638610299059, 'kTargetDeterminationTrials': 1, 'kAttractionRatio': 0.010008585435451847, 'kMaxAttractionDistance': 51, 'kStartAttraction': 0.004750840584446941}. Best is trial 2 with value: 8104.272727272727.\u001b[0m\n"
     ]
    },
    {
     "name": "stdout",
     "output_type": "stream",
     "text": [
      "index_parallel='0008'\n"
     ]
    },
    {
     "name": "stderr",
     "output_type": "stream",
     "text": [
      "\u001b[32m[I 2022-08-15 21:57:43,764]\u001b[0m Trial 8 finished with value: 7612.676136363636 and parameters: {'kErase': 1, 'kRadius': 3, 'kAnnealingA': 5.470005177630739, 'kAnnealingB': 0.6934481070606296, 'kAnnealingStart': 1.6921859330715794, 'kSkipRatio': 0.5987239832082557, 'kTargetDeterminationTrials': 1, 'kAttractionRatio': 0.06651066902574104, 'kMaxAttractionDistance': 6, 'kStartAttraction': 0.0026737583933747473}. Best is trial 2 with value: 8104.272727272727.\u001b[0m\n"
     ]
    },
    {
     "name": "stdout",
     "output_type": "stream",
     "text": [
      "index_parallel='0009'\n"
     ]
    },
    {
     "name": "stderr",
     "output_type": "stream",
     "text": [
      "\u001b[32m[I 2022-08-15 22:01:10,104]\u001b[0m Trial 9 finished with value: 6970.085227272727 and parameters: {'kErase': 2, 'kRadius': 3, 'kAnnealingA': 6.41546610273469, 'kAnnealingB': 2.06715118328794, 'kAnnealingStart': 43.63235507863658, 'kSkipRatio': 0.4144209456776609, 'kTargetDeterminationTrials': 1, 'kAttractionRatio': 0.019344379505075008, 'kMaxAttractionDistance': 10, 'kStartAttraction': 0.002596406449183712}. Best is trial 2 with value: 8104.272727272727.\u001b[0m\n"
     ]
    },
    {
     "name": "stdout",
     "output_type": "stream",
     "text": [
      "index_parallel='0010'\n"
     ]
    },
    {
     "name": "stderr",
     "output_type": "stream",
     "text": [
      "\u001b[32m[I 2022-08-15 22:04:36,950]\u001b[0m Trial 10 finished with value: 5969.596590909091 and parameters: {'kErase': 5, 'kRadius': 6, 'kAnnealingA': 5.019385209715141, 'kAnnealingB': 2.880030713777618, 'kAnnealingStart': 93.182268064295, 'kSkipRatio': 0.216378195907227, 'kTargetDeterminationTrials': 10, 'kAttractionRatio': 0.366241533451902, 'kMaxAttractionDistance': 26, 'kStartAttraction': 0.8032000485243327}. Best is trial 2 with value: 8104.272727272727.\u001b[0m\n"
     ]
    },
    {
     "name": "stdout",
     "output_type": "stream",
     "text": [
      "index_parallel='0011'\n"
     ]
    },
    {
     "name": "stderr",
     "output_type": "stream",
     "text": [
      "\u001b[32m[I 2022-08-15 22:08:04,244]\u001b[0m Trial 11 finished with value: 7828.573863636364 and parameters: {'kErase': 4, 'kRadius': 2, 'kAnnealingA': -11.543540216506422, 'kAnnealingB': 1.766935151984528, 'kAnnealingStart': 6.951105367408748, 'kSkipRatio': 0.796041617234486, 'kTargetDeterminationTrials': 7, 'kAttractionRatio': 0.13321075054618875, 'kMaxAttractionDistance': 99, 'kStartAttraction': 0.6126590982241006}. Best is trial 2 with value: 8104.272727272727.\u001b[0m\n"
     ]
    },
    {
     "name": "stdout",
     "output_type": "stream",
     "text": [
      "index_parallel='0012'\n"
     ]
    },
    {
     "name": "stderr",
     "output_type": "stream",
     "text": [
      "\u001b[32m[I 2022-08-15 22:11:31,140]\u001b[0m Trial 12 finished with value: 7904.301136363636 and parameters: {'kErase': 4, 'kRadius': 2, 'kAnnealingA': -14.004726516494458, 'kAnnealingB': 1.4684265671926542, 'kAnnealingStart': 11.520274512765795, 'kSkipRatio': 0.7889746458433555, 'kTargetDeterminationTrials': 3, 'kAttractionRatio': 0.1831760292904619, 'kMaxAttractionDistance': 19, 'kStartAttraction': 0.237704257464525}. Best is trial 2 with value: 8104.272727272727.\u001b[0m\n"
     ]
    },
    {
     "name": "stdout",
     "output_type": "stream",
     "text": [
      "index_parallel='0013'\n"
     ]
    },
    {
     "name": "stderr",
     "output_type": "stream",
     "text": [
      "\u001b[32m[I 2022-08-15 22:14:58,420]\u001b[0m Trial 13 finished with value: 7831.443181818182 and parameters: {'kErase': 5, 'kRadius': 5, 'kAnnealingA': -9.151120072222408, 'kAnnealingB': 2.244497647251351, 'kAnnealingStart': 5.678141011761789, 'kSkipRatio': 0.6909425179062446, 'kTargetDeterminationTrials': 9, 'kAttractionRatio': 0.044694435377097455, 'kMaxAttractionDistance': 13, 'kStartAttraction': 0.24248719312530803}. Best is trial 2 with value: 8104.272727272727.\u001b[0m\n"
     ]
    },
    {
     "name": "stdout",
     "output_type": "stream",
     "text": [
      "index_parallel='0014'\n"
     ]
    },
    {
     "name": "stderr",
     "output_type": "stream",
     "text": [
      "\u001b[32m[I 2022-08-15 22:18:24,987]\u001b[0m Trial 14 finished with value: 8073.806818181818 and parameters: {'kErase': 3, 'kRadius': 2, 'kAnnealingA': 2.374235221058917, 'kAnnealingB': 1.5240496610340104, 'kAnnealingStart': 15.379314513057531, 'kSkipRatio': 0.6924305752589234, 'kTargetDeterminationTrials': 2, 'kAttractionRatio': 0.2228783046500619, 'kMaxAttractionDistance': 30, 'kStartAttraction': 0.0761545337226778}. Best is trial 2 with value: 8104.272727272727.\u001b[0m\n"
     ]
    },
    {
     "name": "stdout",
     "output_type": "stream",
     "text": [
      "index_parallel='0015'\n"
     ]
    },
    {
     "name": "stderr",
     "output_type": "stream",
     "text": [
      "\u001b[32m[I 2022-08-15 22:21:51,675]\u001b[0m Trial 15 finished with value: 8066.471590909091 and parameters: {'kErase': 3, 'kRadius': 2, 'kAnnealingA': 2.468687434035978, 'kAnnealingB': 2.5612482760018516, 'kAnnealingStart': 18.53915542025801, 'kSkipRatio': 0.6736825861760213, 'kTargetDeterminationTrials': 2, 'kAttractionRatio': 0.2364630993686709, 'kMaxAttractionDistance': 41, 'kStartAttraction': 0.045279515543927215}. Best is trial 2 with value: 8104.272727272727.\u001b[0m\n"
     ]
    },
    {
     "name": "stdout",
     "output_type": "stream",
     "text": [
      "index_parallel='0016'\n"
     ]
    },
    {
     "name": "stderr",
     "output_type": "stream",
     "text": [
      "\u001b[32m[I 2022-08-15 22:25:18,281]\u001b[0m Trial 16 finished with value: 8192.3125 and parameters: {'kErase': 2, 'kRadius': 5, 'kAnnealingA': 9.575104322360044, 'kAnnealingB': 1.682496751587803, 'kAnnealingStart': 18.948566180407266, 'kSkipRatio': 0.6978349774625976, 'kTargetDeterminationTrials': 2, 'kAttractionRatio': 0.4726282158536611, 'kMaxAttractionDistance': 27, 'kStartAttraction': 0.10368312751524672}. Best is trial 16 with value: 8192.3125.\u001b[0m\n"
     ]
    },
    {
     "name": "stdout",
     "output_type": "stream",
     "text": [
      "Updated! 8192.3125\n",
      "index_parallel='0017'\n"
     ]
    },
    {
     "name": "stderr",
     "output_type": "stream",
     "text": [
      "\u001b[32m[I 2022-08-15 22:28:45,254]\u001b[0m Trial 17 finished with value: 6613.380681818182 and parameters: {'kErase': 2, 'kRadius': 5, 'kAnnealingA': 8.318993812974485, 'kAnnealingB': 1.8033533535108697, 'kAnnealingStart': 72.8196927277519, 'kSkipRatio': 0.48096688655695286, 'kTargetDeterminationTrials': 2, 'kAttractionRatio': 0.771262608362172, 'kMaxAttractionDistance': 78, 'kStartAttraction': 0.01651521513735834}. Best is trial 16 with value: 8192.3125.\u001b[0m\n"
     ]
    },
    {
     "name": "stdout",
     "output_type": "stream",
     "text": [
      "index_parallel='0018'\n"
     ]
    },
    {
     "name": "stderr",
     "output_type": "stream",
     "text": [
      "\u001b[32m[I 2022-08-15 22:32:11,675]\u001b[0m Trial 18 finished with value: 8109.971590909091 and parameters: {'kErase': 1, 'kRadius': 5, 'kAnnealingA': 10.658015634387189, 'kAnnealingB': 2.2373478072069912, 'kAnnealingStart': 24.42808175733302, 'kSkipRatio': 0.6542851176613822, 'kTargetDeterminationTrials': 20, 'kAttractionRatio': 0.43338539746331656, 'kMaxAttractionDistance': 21, 'kStartAttraction': 0.2491252348335169}. Best is trial 16 with value: 8192.3125.\u001b[0m\n"
     ]
    },
    {
     "name": "stdout",
     "output_type": "stream",
     "text": [
      "index_parallel='0019'\n"
     ]
    },
    {
     "name": "stderr",
     "output_type": "stream",
     "text": [
      "\u001b[32m[I 2022-08-15 22:35:38,627]\u001b[0m Trial 19 finished with value: 8177.460227272727 and parameters: {'kErase': 2, 'kRadius': 5, 'kAnnealingA': 10.546095158666574, 'kAnnealingB': 2.421191721677697, 'kAnnealingStart': 27.80855250025504, 'kSkipRatio': 0.6638506836296325, 'kTargetDeterminationTrials': 19, 'kAttractionRatio': 0.40597341213768195, 'kMaxAttractionDistance': 18, 'kStartAttraction': 0.0010214291871921955}. Best is trial 16 with value: 8192.3125.\u001b[0m\n"
     ]
    },
    {
     "name": "stdout",
     "output_type": "stream",
     "text": [
      "index_parallel='0020'\n"
     ]
    },
    {
     "name": "stderr",
     "output_type": "stream",
     "text": [
      "\u001b[32m[I 2022-08-15 22:39:05,095]\u001b[0m Trial 20 finished with value: 7756.357954545455 and parameters: {'kErase': 2, 'kRadius': 5, 'kAnnealingA': 11.07518747411842, 'kAnnealingB': 2.8513882544970333, 'kAnnealingStart': 56.45155581518994, 'kSkipRatio': 0.7241040280898863, 'kTargetDeterminationTrials': 4, 'kAttractionRatio': 0.44221736452749, 'kMaxAttractionDistance': 15, 'kStartAttraction': 0.0010795460633223786}. Best is trial 16 with value: 8192.3125.\u001b[0m\n"
     ]
    },
    {
     "name": "stdout",
     "output_type": "stream",
     "text": [
      "index_parallel='0021'\n"
     ]
    },
    {
     "name": "stderr",
     "output_type": "stream",
     "text": [
      "\u001b[32m[I 2022-08-15 22:42:31,210]\u001b[0m Trial 21 finished with value: 8095.056818181818 and parameters: {'kErase': 1, 'kRadius': 5, 'kAnnealingA': 10.46980832642261, 'kAnnealingB': 2.342602452888808, 'kAnnealingStart': 27.163534751677048, 'kSkipRatio': 0.6390585667723242, 'kTargetDeterminationTrials': 18, 'kAttractionRatio': 0.4165758628208493, 'kMaxAttractionDistance': 22, 'kStartAttraction': 0.1119644389003301}. Best is trial 16 with value: 8192.3125.\u001b[0m\n"
     ]
    },
    {
     "name": "stdout",
     "output_type": "stream",
     "text": [
      "index_parallel='0022'\n"
     ]
    },
    {
     "name": "stderr",
     "output_type": "stream",
     "text": [
      "\u001b[32m[I 2022-08-15 22:45:57,812]\u001b[0m Trial 22 finished with value: 8033.954545454545 and parameters: {'kErase': 2, 'kRadius': 6, 'kAnnealingA': 11.274237796537863, 'kAnnealingB': 2.5420874748149984, 'kAnnealingStart': 24.043217703863146, 'kSkipRatio': 0.7271522868469243, 'kTargetDeterminationTrials': 20, 'kAttractionRatio': 0.546475989756318, 'kMaxAttractionDistance': 34, 'kStartAttraction': 0.01299583835203878}. Best is trial 16 with value: 8192.3125.\u001b[0m\n"
     ]
    },
    {
     "name": "stdout",
     "output_type": "stream",
     "text": [
      "index_parallel='0023'\n"
     ]
    },
    {
     "name": "stderr",
     "output_type": "stream",
     "text": [
      "\u001b[32m[I 2022-08-15 22:49:24,563]\u001b[0m Trial 23 finished with value: 8034.806818181818 and parameters: {'kErase': 3, 'kRadius': 4, 'kAnnealingA': 8.759587756329488, 'kAnnealingB': 1.9974039462749988, 'kAnnealingStart': 9.853131480855506, 'kSkipRatio': 0.6253906399838474, 'kTargetDeterminationTrials': 14, 'kAttractionRatio': 0.30475000720544876, 'kMaxAttractionDistance': 17, 'kStartAttraction': 0.1340266185512927}. Best is trial 16 with value: 8192.3125.\u001b[0m\n"
     ]
    },
    {
     "name": "stdout",
     "output_type": "stream",
     "text": [
      "index_parallel='0024'\n"
     ]
    },
    {
     "name": "stderr",
     "output_type": "stream",
     "text": [
      "\u001b[32m[I 2022-08-15 22:52:50,857]\u001b[0m Trial 24 finished with value: 7718.892045454545 and parameters: {'kErase': 1, 'kRadius': 5, 'kAnnealingA': 12.571075974478308, 'kAnnealingB': 2.603135386967566, 'kAnnealingStart': 51.112865410141104, 'kSkipRatio': 0.7343323704100866, 'kTargetDeterminationTrials': 12, 'kAttractionRatio': 0.8679072844179982, 'kMaxAttractionDistance': 12, 'kStartAttraction': 0.06755178414564886}. Best is trial 16 with value: 8192.3125.\u001b[0m\n"
     ]
    },
    {
     "name": "stdout",
     "output_type": "stream",
     "text": [
      "index_parallel='0025'\n"
     ]
    },
    {
     "name": "stderr",
     "output_type": "stream",
     "text": [
      "\u001b[32m[I 2022-08-15 22:56:17,411]\u001b[0m Trial 25 finished with value: 8221.954545454546 and parameters: {'kErase': 2, 'kRadius': 5, 'kAnnealingA': 8.033546721380212, 'kAnnealingB': 2.0616496141297573, 'kAnnealingStart': 10.041652738047956, 'kSkipRatio': 0.652184461847546, 'kTargetDeterminationTrials': 7, 'kAttractionRatio': 0.5640394215476078, 'kMaxAttractionDistance': 24, 'kStartAttraction': 0.3025563176299789}. Best is trial 25 with value: 8221.954545454546.\u001b[0m\n"
     ]
    },
    {
     "name": "stdout",
     "output_type": "stream",
     "text": [
      "Updated! 8221.954545454546\n",
      "index_parallel='0026'\n"
     ]
    },
    {
     "name": "stderr",
     "output_type": "stream",
     "text": [
      "\u001b[32m[I 2022-08-15 22:59:44,131]\u001b[0m Trial 26 finished with value: 7511.806818181818 and parameters: {'kErase': 2, 'kRadius': 6, 'kAnnealingA': 7.856412575049031, 'kAnnealingB': 1.9343648680042913, 'kAnnealingStart': 9.698878669075379, 'kSkipRatio': 0.48391545471127784, 'kTargetDeterminationTrials': 8, 'kAttractionRatio': 0.5898001485598213, 'kMaxAttractionDistance': 30, 'kStartAttraction': 0.0010837209976196185}. Best is trial 25 with value: 8221.954545454546.\u001b[0m\n"
     ]
    },
    {
     "name": "stdout",
     "output_type": "stream",
     "text": [
      "index_parallel='0027'\n"
     ]
    },
    {
     "name": "stderr",
     "output_type": "stream",
     "text": [
      "\u001b[32m[I 2022-08-15 23:03:10,636]\u001b[0m Trial 27 finished with value: 8223.232954545454 and parameters: {'kErase': 3, 'kRadius': 4, 'kAnnealingA': 4.664746667625926, 'kAnnealingB': 1.326794612448476, 'kAnnealingStart': 7.572688905344575, 'kSkipRatio': 0.7481820827314186, 'kTargetDeterminationTrials': 4, 'kAttractionRatio': 0.29569898960632873, 'kMaxAttractionDistance': 37, 'kStartAttraction': 0.42143641809162696}. Best is trial 27 with value: 8223.232954545454.\u001b[0m\n"
     ]
    },
    {
     "name": "stdout",
     "output_type": "stream",
     "text": [
      "Updated! 8223.232954545454\n",
      "index_parallel='0028'\n"
     ]
    },
    {
     "name": "stderr",
     "output_type": "stream",
     "text": [
      "\u001b[32m[I 2022-08-15 23:06:37,327]\u001b[0m Trial 28 finished with value: 8121.085227272727 and parameters: {'kErase': 3, 'kRadius': 4, 'kAnnealingA': 3.845684291455183, 'kAnnealingB': 1.3791775237008128, 'kAnnealingStart': 6.199539828440026, 'kSkipRatio': 0.7464876976834435, 'kTargetDeterminationTrials': 4, 'kAttractionRatio': 0.2959679031897319, 'kMaxAttractionDistance': 63, 'kStartAttraction': 0.3878244781212488}. Best is trial 27 with value: 8223.232954545454.\u001b[0m\n"
     ]
    },
    {
     "name": "stdout",
     "output_type": "stream",
     "text": [
      "index_parallel='0029'\n"
     ]
    },
    {
     "name": "stderr",
     "output_type": "stream",
     "text": [
      "\u001b[32m[I 2022-08-15 23:10:04,038]\u001b[0m Trial 29 finished with value: 7997.573863636364 and parameters: {'kErase': 3, 'kRadius': 4, 'kAnnealingA': -1.146699336296086, 'kAnnealingB': 1.154523596274195, 'kAnnealingStart': 3.4570593926645397, 'kSkipRatio': 0.7580266535275686, 'kTargetDeterminationTrials': 2, 'kAttractionRatio': 0.14843043192855768, 'kMaxAttractionDistance': 38, 'kStartAttraction': 0.1397108071946107}. Best is trial 27 with value: 8223.232954545454.\u001b[0m\n"
     ]
    },
    {
     "name": "stdout",
     "output_type": "stream",
     "text": [
      "index_parallel='0030'\n"
     ]
    },
    {
     "name": "stderr",
     "output_type": "stream",
     "text": [
      "\u001b[32m[I 2022-08-15 23:13:30,580]\u001b[0m Trial 30 finished with value: 8304.818181818182 and parameters: {'kErase': 2, 'kRadius': 4, 'kAnnealingA': 7.273652499558154, 'kAnnealingB': 0.7910269773058155, 'kAnnealingStart': 8.141838582471806, 'kSkipRatio': 0.6987654934093369, 'kTargetDeterminationTrials': 3, 'kAttractionRatio': 0.09503813178738643, 'kMaxAttractionDistance': 29, 'kStartAttraction': 0.44331396602265283}. Best is trial 30 with value: 8304.818181818182.\u001b[0m\n"
     ]
    },
    {
     "name": "stdout",
     "output_type": "stream",
     "text": [
      "Updated! 8304.818181818182\n",
      "index_parallel='0031'\n"
     ]
    },
    {
     "name": "stderr",
     "output_type": "stream",
     "text": [
      "\u001b[32m[I 2022-08-15 23:16:56,993]\u001b[0m Trial 31 finished with value: 8289.801136363636 and parameters: {'kErase': 2, 'kRadius': 4, 'kAnnealingA': 6.771755268287208, 'kAnnealingB': 0.735853193865778, 'kAnnealingStart': 8.155211009835286, 'kSkipRatio': 0.7021266901596759, 'kTargetDeterminationTrials': 3, 'kAttractionRatio': 0.07892394215421641, 'kMaxAttractionDistance': 24, 'kStartAttraction': 0.4197186243055023}. Best is trial 30 with value: 8304.818181818182.\u001b[0m\n"
     ]
    },
    {
     "name": "stdout",
     "output_type": "stream",
     "text": [
      "index_parallel='0032'\n"
     ]
    },
    {
     "name": "stderr",
     "output_type": "stream",
     "text": [
      "\u001b[32m[I 2022-08-15 23:20:23,569]\u001b[0m Trial 32 finished with value: 8285.414772727272 and parameters: {'kErase': 2, 'kRadius': 4, 'kAnnealingA': 6.673056596275675, 'kAnnealingB': 0.718526552658171, 'kAnnealingStart': 7.649656344762348, 'kSkipRatio': 0.6123263499627968, 'kTargetDeterminationTrials': 4, 'kAttractionRatio': 0.0911128261085955, 'kMaxAttractionDistance': 25, 'kStartAttraction': 0.43222220267382894}. Best is trial 30 with value: 8304.818181818182.\u001b[0m\n"
     ]
    },
    {
     "name": "stdout",
     "output_type": "stream",
     "text": [
      "index_parallel='0033'\n"
     ]
    },
    {
     "name": "stderr",
     "output_type": "stream",
     "text": [
      "\u001b[32m[I 2022-08-15 23:23:50,348]\u001b[0m Trial 33 finished with value: 8180.176136363636 and parameters: {'kErase': 3, 'kRadius': 4, 'kAnnealingA': 6.817235942047027, 'kAnnealingB': 0.6522420481618587, 'kAnnealingStart': 7.67716980143801, 'kSkipRatio': 0.5659726230038183, 'kTargetDeterminationTrials': 4, 'kAttractionRatio': 0.09706994648525959, 'kMaxAttractionDistance': 39, 'kStartAttraction': 0.5623491795602311}. Best is trial 30 with value: 8304.818181818182.\u001b[0m\n"
     ]
    },
    {
     "name": "stdout",
     "output_type": "stream",
     "text": [
      "index_parallel='0034'\n"
     ]
    },
    {
     "name": "stderr",
     "output_type": "stream",
     "text": [
      "\u001b[32m[I 2022-08-15 23:27:17,107]\u001b[0m Trial 34 finished with value: 8182.727272727273 and parameters: {'kErase': 3, 'kRadius': 4, 'kAnnealingA': 4.347193945518729, 'kAnnealingB': 0.8858428953004303, 'kAnnealingStart': 5.087939846734194, 'kSkipRatio': 0.6094593587870099, 'kTargetDeterminationTrials': 3, 'kAttractionRatio': 0.08627732393173967, 'kMaxAttractionDistance': 33, 'kStartAttraction': 0.4471991879682555}. Best is trial 30 with value: 8304.818181818182.\u001b[0m\n"
     ]
    },
    {
     "name": "stdout",
     "output_type": "stream",
     "text": [
      "index_parallel='0035'\n"
     ]
    },
    {
     "name": "stderr",
     "output_type": "stream",
     "text": [
      "\u001b[32m[I 2022-08-15 23:30:43,557]\u001b[0m Trial 35 finished with value: 7894.704545454545 and parameters: {'kErase': 2, 'kRadius': 4, 'kAnnealingA': -2.8129364746081302, 'kAnnealingB': 0.5418810467639741, 'kAnnealingStart': 1.904529690358694, 'kSkipRatio': 0.7109771019169497, 'kTargetDeterminationTrials': 5, 'kAttractionRatio': 0.05494149705990323, 'kMaxAttractionDistance': 44, 'kStartAttraction': 0.8255766576942719}. Best is trial 30 with value: 8304.818181818182.\u001b[0m\n"
     ]
    },
    {
     "name": "stdout",
     "output_type": "stream",
     "text": [
      "index_parallel='0036'\n"
     ]
    },
    {
     "name": "stderr",
     "output_type": "stream",
     "text": [
      "\u001b[32m[I 2022-08-15 23:34:10,350]\u001b[0m Trial 36 finished with value: 8075.982954545455 and parameters: {'kErase': 3, 'kRadius': 4, 'kAnnealingA': 6.451302999377736, 'kAnnealingB': 0.9439291466805815, 'kAnnealingStart': 7.961277577409235, 'kSkipRatio': 0.5388632296038243, 'kTargetDeterminationTrials': 3, 'kAttractionRatio': 0.039045504515212416, 'kMaxAttractionDistance': 65, 'kStartAttraction': 0.18429995096740223}. Best is trial 30 with value: 8304.818181818182.\u001b[0m\n"
     ]
    },
    {
     "name": "stdout",
     "output_type": "stream",
     "text": [
      "index_parallel='0037'\n"
     ]
    },
    {
     "name": "stderr",
     "output_type": "stream",
     "text": [
      "\u001b[32m[I 2022-08-15 23:37:37,051]\u001b[0m Trial 37 finished with value: 8097.596590909091 and parameters: {'kErase': 2, 'kRadius': 3, 'kAnnealingA': 0.6863663884497191, 'kAnnealingB': 0.45105725997785, 'kAnnealingStart': 2.942677815873384, 'kSkipRatio': 0.7579419089732922, 'kTargetDeterminationTrials': 5, 'kAttractionRatio': 0.1070020149884317, 'kMaxAttractionDistance': 24, 'kStartAttraction': 0.3919386214452658}. Best is trial 30 with value: 8304.818181818182.\u001b[0m\n"
     ]
    },
    {
     "name": "stdout",
     "output_type": "stream",
     "text": [
      "index_parallel='0038'\n"
     ]
    },
    {
     "name": "stderr",
     "output_type": "stream",
     "text": [
      "\u001b[32m[I 2022-08-15 23:41:03,178]\u001b[0m Trial 38 finished with value: 8131.982954545455 and parameters: {'kErase': 1, 'kRadius': 4, 'kAnnealingA': 3.6094911322049312, 'kAnnealingB': 1.3135617850664167, 'kAnnealingStart': 12.029161072653459, 'kSkipRatio': 0.5834821720230882, 'kTargetDeterminationTrials': 4, 'kAttractionRatio': 0.06971193652507324, 'kMaxAttractionDistance': 15, 'kStartAttraction': 0.19285780655161355}. Best is trial 30 with value: 8304.818181818182.\u001b[0m\n"
     ]
    },
    {
     "name": "stdout",
     "output_type": "stream",
     "text": [
      "index_parallel='0039'\n"
     ]
    },
    {
     "name": "stderr",
     "output_type": "stream",
     "text": [
      "\u001b[32m[I 2022-08-15 23:44:29,942]\u001b[0m Trial 39 finished with value: 8055.710227272727 and parameters: {'kErase': 4, 'kRadius': 3, 'kAnnealingA': 14.348212709233678, 'kAnnealingB': 0.953288704954177, 'kAnnealingStart': 4.424768822935941, 'kSkipRatio': 0.7696072588191525, 'kTargetDeterminationTrials': 6, 'kAttractionRatio': 0.02789321765118273, 'kMaxAttractionDistance': 51, 'kStartAttraction': 0.4657546440069105}. Best is trial 30 with value: 8304.818181818182.\u001b[0m\n"
     ]
    },
    {
     "name": "stdout",
     "output_type": "stream",
     "text": [
      "index_parallel='0040'\n"
     ]
    },
    {
     "name": "stderr",
     "output_type": "stream",
     "text": [
      "\u001b[32m[I 2022-08-15 23:47:56,620]\u001b[0m Trial 40 finished with value: 7628.511363636364 and parameters: {'kErase': 2, 'kRadius': 3, 'kAnnealingA': 12.385923760784923, 'kAnnealingB': 0.7999885536145152, 'kAnnealingStart': 13.424167917181395, 'kSkipRatio': 0.2575210584455567, 'kTargetDeterminationTrials': 3, 'kAttractionRatio': 0.060726171102593755, 'kMaxAttractionDistance': 29, 'kStartAttraction': 0.8724485650883093}. Best is trial 30 with value: 8304.818181818182.\u001b[0m\n"
     ]
    },
    {
     "name": "stdout",
     "output_type": "stream",
     "text": [
      "index_parallel='0041'\n"
     ]
    },
    {
     "name": "stderr",
     "output_type": "stream",
     "text": [
      "\u001b[32m[I 2022-08-15 23:51:23,222]\u001b[0m Trial 41 finished with value: 8227.147727272728 and parameters: {'kErase': 2, 'kRadius': 4, 'kAnnealingA': 7.578346285731091, 'kAnnealingB': 1.070983494666607, 'kAnnealingStart': 8.672113429580705, 'kSkipRatio': 0.6389971658223876, 'kTargetDeterminationTrials': 6, 'kAttractionRatio': 0.18490744044035637, 'kMaxAttractionDistance': 23, 'kStartAttraction': 0.2742652341966589}. Best is trial 30 with value: 8304.818181818182.\u001b[0m\n"
     ]
    },
    {
     "name": "stdout",
     "output_type": "stream",
     "text": [
      "index_parallel='0042'\n"
     ]
    },
    {
     "name": "stderr",
     "output_type": "stream",
     "text": [
      "\u001b[32m[I 2022-08-15 23:54:49,701]\u001b[0m Trial 42 finished with value: 8287.829545454546 and parameters: {'kErase': 2, 'kRadius': 4, 'kAnnealingA': 6.7582288597795985, 'kAnnealingB': 1.0642605976243322, 'kAnnealingStart': 8.13802403239467, 'kSkipRatio': 0.6270001293425955, 'kTargetDeterminationTrials': 6, 'kAttractionRatio': 0.11733829455438206, 'kMaxAttractionDistance': 20, 'kStartAttraction': 0.3064331634071693}. Best is trial 30 with value: 8304.818181818182.\u001b[0m\n"
     ]
    },
    {
     "name": "stdout",
     "output_type": "stream",
     "text": [
      "index_parallel='0043'\n"
     ]
    },
    {
     "name": "stderr",
     "output_type": "stream",
     "text": [
      "\u001b[32m[I 2022-08-15 23:58:16,192]\u001b[0m Trial 43 finished with value: 8269.420454545454 and parameters: {'kErase': 2, 'kRadius': 4, 'kAnnealingA': 6.401648039916822, 'kAnnealingB': 1.1218491889673192, 'kAnnealingStart': 8.657094466089719, 'kSkipRatio': 0.5150764019328226, 'kTargetDeterminationTrials': 6, 'kAttractionRatio': 0.11792906333850159, 'kMaxAttractionDistance': 20, 'kStartAttraction': 0.3462133074264539}. Best is trial 30 with value: 8304.818181818182.\u001b[0m\n"
     ]
    },
    {
     "name": "stdout",
     "output_type": "stream",
     "text": [
      "index_parallel='0044'\n"
     ]
    },
    {
     "name": "stderr",
     "output_type": "stream",
     "text": [
      "\u001b[32m[I 2022-08-16 00:01:42,670]\u001b[0m Trial 44 finished with value: 8191.948863636364 and parameters: {'kErase': 2, 'kRadius': 4, 'kAnnealingA': 5.530863155997324, 'kAnnealingB': 0.20201063938228847, 'kAnnealingStart': 5.258511987839338, 'kSkipRatio': 0.3926605422787379, 'kTargetDeterminationTrials': 5, 'kAttractionRatio': 0.11273411085029525, 'kMaxAttractionDistance': 11, 'kStartAttraction': 0.6080917675061519}. Best is trial 30 with value: 8304.818181818182.\u001b[0m\n"
     ]
    },
    {
     "name": "stdout",
     "output_type": "stream",
     "text": [
      "index_parallel='0045'\n"
     ]
    },
    {
     "name": "stderr",
     "output_type": "stream",
     "text": [
      "\u001b[32m[I 2022-08-16 00:05:09,172]\u001b[0m Trial 45 finished with value: 7999.596590909091 and parameters: {'kErase': 2, 'kRadius': 3, 'kAnnealingA': -0.9836976446638811, 'kAnnealingB': 0.7262608339166141, 'kAnnealingStart': 3.3688699315675286, 'kSkipRatio': 0.5178470690722813, 'kTargetDeterminationTrials': 7, 'kAttractionRatio': 0.08623424519632218, 'kMaxAttractionDistance': 9, 'kStartAttraction': 0.1855107756258706}. Best is trial 30 with value: 8304.818181818182.\u001b[0m\n"
     ]
    },
    {
     "name": "stdout",
     "output_type": "stream",
     "text": [
      "index_parallel='0046'\n"
     ]
    },
    {
     "name": "stderr",
     "output_type": "stream",
     "text": [
      "\u001b[32m[I 2022-08-16 00:08:35,336]\u001b[0m Trial 46 finished with value: 7954.164772727273 and parameters: {'kErase': 1, 'kRadius': 4, 'kAnnealingA': 2.3979586762722285, 'kAnnealingB': 0.5184960123061159, 'kAnnealingStart': 1.0405192733463509, 'kSkipRatio': 0.46656911415722324, 'kTargetDeterminationTrials': 9, 'kAttractionRatio': 0.1574264876329908, 'kMaxAttractionDistance': 17, 'kStartAttraction': 0.37407905739556613}. Best is trial 30 with value: 8304.818181818182.\u001b[0m\n"
     ]
    },
    {
     "name": "stdout",
     "output_type": "stream",
     "text": [
      "index_parallel='0047'\n"
     ]
    },
    {
     "name": "stderr",
     "output_type": "stream",
     "text": [
      "\u001b[32m[I 2022-08-16 00:12:01,502]\u001b[0m Trial 47 finished with value: 8265.732954545454 and parameters: {'kErase': 1, 'kRadius': 3, 'kAnnealingA': 6.2071484096088385, 'kAnnealingB': 0.3401853687546734, 'kAnnealingStart': 13.514258233712534, 'kSkipRatio': 0.4485624850407949, 'kTargetDeterminationTrials': 6, 'kAttractionRatio': 0.07290162050272124, 'kMaxAttractionDistance': 14, 'kStartAttraction': 0.6257017448982494}. Best is trial 30 with value: 8304.818181818182.\u001b[0m\n"
     ]
    },
    {
     "name": "stdout",
     "output_type": "stream",
     "text": [
      "index_parallel='0048'\n"
     ]
    },
    {
     "name": "stderr",
     "output_type": "stream",
     "text": [
      "\u001b[32m[I 2022-08-16 00:15:27,766]\u001b[0m Trial 48 finished with value: 8024.1875 and parameters: {'kErase': 2, 'kRadius': 4, 'kAnnealingA': 9.362678034821123, 'kAnnealingB': 1.0687944442907589, 'kAnnealingStart': 6.471862223292637, 'kSkipRatio': 0.5865721154018169, 'kTargetDeterminationTrials': 11, 'kAttractionRatio': 0.1239611326256634, 'kMaxAttractionDistance': 20, 'kStartAttraction': 0.03746517404094922}. Best is trial 30 with value: 8304.818181818182.\u001b[0m\n"
     ]
    },
    {
     "name": "stdout",
     "output_type": "stream",
     "text": [
      "index_parallel='0049'\n"
     ]
    },
    {
     "name": "stderr",
     "output_type": "stream",
     "text": [
      "\u001b[32m[I 2022-08-16 00:18:54,147]\u001b[0m Trial 49 finished with value: 8027.681818181818 and parameters: {'kErase': 2, 'kRadius': 4, 'kAnnealingA': 3.3958863130245267, 'kAnnealingB': 0.6086033310992861, 'kAnnealingStart': 4.394216485556818, 'kSkipRatio': 0.5433475776435991, 'kTargetDeterminationTrials': 5, 'kAttractionRatio': 0.04463349131932231, 'kMaxAttractionDistance': 5, 'kStartAttraction': 0.19650356073653333}. Best is trial 30 with value: 8304.818181818182.\u001b[0m\n"
     ]
    },
    {
     "name": "stdout",
     "output_type": "stream",
     "text": [
      "index_parallel='0050'\n"
     ]
    },
    {
     "name": "stderr",
     "output_type": "stream",
     "text": [
      "\u001b[32m[I 2022-08-16 00:22:20,328]\u001b[0m Trial 50 finished with value: 7985.818181818182 and parameters: {'kErase': 1, 'kRadius': 3, 'kAnnealingA': 1.1364096863547797, 'kAnnealingB': 0.8042538128116855, 'kAnnealingStart': 10.874601927458942, 'kSkipRatio': 0.6158181408735351, 'kTargetDeterminationTrials': 3, 'kAttractionRatio': 0.18991547814179796, 'kMaxAttractionDistance': 27, 'kStartAttraction': 0.08457686975022626}. Best is trial 30 with value: 8304.818181818182.\u001b[0m\n"
     ]
    },
    {
     "name": "stdout",
     "output_type": "stream",
     "text": [
      "index_parallel='0051'\n"
     ]
    },
    {
     "name": "stderr",
     "output_type": "stream",
     "text": [
      "\u001b[32m[I 2022-08-16 00:25:46,508]\u001b[0m Trial 51 finished with value: 8249.556818181818 and parameters: {'kErase': 1, 'kRadius': 3, 'kAnnealingA': 5.5556339666312695, 'kAnnealingB': 0.36277109855782147, 'kAnnealingStart': 13.883394260683522, 'kSkipRatio': 0.43688914849589583, 'kTargetDeterminationTrials': 6, 'kAttractionRatio': 0.06851921372078683, 'kMaxAttractionDistance': 15, 'kStartAttraction': 0.6643485935061663}. Best is trial 30 with value: 8304.818181818182.\u001b[0m\n"
     ]
    },
    {
     "name": "stdout",
     "output_type": "stream",
     "text": [
      "index_parallel='0052'\n"
     ]
    },
    {
     "name": "stderr",
     "output_type": "stream",
     "text": [
      "\u001b[32m[I 2022-08-16 00:29:12,613]\u001b[0m Trial 52 finished with value: 8254.02840909091 and parameters: {'kErase': 1, 'kRadius': 3, 'kAnnealingA': 6.79367943825678, 'kAnnealingB': 0.019764128162628347, 'kAnnealingStart': 17.588027093038612, 'kSkipRatio': 0.5124994569672574, 'kTargetDeterminationTrials': 8, 'kAttractionRatio': 0.0844037791249705, 'kMaxAttractionDistance': 14, 'kStartAttraction': 0.5191451726182814}. Best is trial 30 with value: 8304.818181818182.\u001b[0m\n"
     ]
    },
    {
     "name": "stdout",
     "output_type": "stream",
     "text": [
      "index_parallel='0053'\n"
     ]
    },
    {
     "name": "stderr",
     "output_type": "stream",
     "text": [
      "\u001b[32m[I 2022-08-16 00:32:39,317]\u001b[0m Trial 53 finished with value: 8093.818181818182 and parameters: {'kErase': 2, 'kRadius': 4, 'kAnnealingA': 12.476736626619601, 'kAnnealingB': 0.24208476578839755, 'kAnnealingStart': 9.07311624564248, 'kSkipRatio': 0.3339158876897568, 'kTargetDeterminationTrials': 5, 'kAttractionRatio': 0.07461158372584212, 'kMaxAttractionDistance': 19, 'kStartAttraction': 0.31681667729114005}. Best is trial 30 with value: 8304.818181818182.\u001b[0m\n"
     ]
    },
    {
     "name": "stdout",
     "output_type": "stream",
     "text": [
      "index_parallel='0054'\n"
     ]
    },
    {
     "name": "stderr",
     "output_type": "stream",
     "text": [
      "\u001b[32m[I 2022-08-16 00:36:05,191]\u001b[0m Trial 54 finished with value: 8194.744318181818 and parameters: {'kErase': 1, 'kRadius': 4, 'kAnnealingA': 5.768536545976634, 'kAnnealingB': 1.223715381011778, 'kAnnealingStart': 6.380179943074141, 'kSkipRatio': 0.37383379556827234, 'kTargetDeterminationTrials': 8, 'kAttractionRatio': 0.09655182202715186, 'kMaxAttractionDistance': 26, 'kStartAttraction': 0.7195622862839329}. Best is trial 30 with value: 8304.818181818182.\u001b[0m\n"
     ]
    },
    {
     "name": "stdout",
     "output_type": "stream",
     "text": [
      "index_parallel='0055'\n"
     ]
    },
    {
     "name": "stderr",
     "output_type": "stream",
     "text": [
      "\u001b[32m[I 2022-08-16 00:39:31,591]\u001b[0m Trial 55 finished with value: 8258.625 and parameters: {'kErase': 2, 'kRadius': 3, 'kAnnealingA': 6.954228477376317, 'kAnnealingB': 1.0445933847014315, 'kAnnealingStart': 12.72249920283017, 'kSkipRatio': 0.44794059237401135, 'kTargetDeterminationTrials': 7, 'kAttractionRatio': 0.05507669632301372, 'kMaxAttractionDistance': 17, 'kStartAttraction': 0.32162607291965084}. Best is trial 30 with value: 8304.818181818182.\u001b[0m\n"
     ]
    },
    {
     "name": "stdout",
     "output_type": "stream",
     "text": [
      "index_parallel='0056'\n"
     ]
    },
    {
     "name": "stderr",
     "output_type": "stream",
     "text": [
      "\u001b[32m[I 2022-08-16 00:42:58,289]\u001b[0m Trial 56 finished with value: 8300.619318181818 and parameters: {'kErase': 2, 'kRadius': 4, 'kAnnealingA': 9.026878203998708, 'kAnnealingB': 0.15350194379499926, 'kAnnealingStart': 19.818950816700443, 'kSkipRatio': 0.6759232303048653, 'kTargetDeterminationTrials': 6, 'kAttractionRatio': 0.1465904177388099, 'kMaxAttractionDistance': 12, 'kStartAttraction': 0.15379196171832712}. Best is trial 30 with value: 8304.818181818182.\u001b[0m\n"
     ]
    },
    {
     "name": "stdout",
     "output_type": "stream",
     "text": [
      "index_parallel='0057'\n"
     ]
    },
    {
     "name": "stderr",
     "output_type": "stream",
     "text": [
      "\u001b[32m[I 2022-08-16 00:46:24,615]\u001b[0m Trial 57 finished with value: 8288.647727272728 and parameters: {'kErase': 2, 'kRadius': 4, 'kAnnealingA': 9.319883622365937, 'kAnnealingB': 0.7814790773398557, 'kAnnealingStart': 19.863300467355174, 'kSkipRatio': 0.6807178256459142, 'kTargetDeterminationTrials': 4, 'kAttractionRatio': 0.15559007965190755, 'kMaxAttractionDistance': 10, 'kStartAttraction': 0.1617913766001312}. Best is trial 30 with value: 8304.818181818182.\u001b[0m\n"
     ]
    },
    {
     "name": "stdout",
     "output_type": "stream",
     "text": [
      "index_parallel='0058'\n"
     ]
    },
    {
     "name": "stderr",
     "output_type": "stream",
     "text": [
      "\u001b[32m[I 2022-08-16 00:49:51,051]\u001b[0m Trial 58 finished with value: 8307.619318181818 and parameters: {'kErase': 2, 'kRadius': 4, 'kAnnealingA': 9.411807504086521, 'kAnnealingB': 0.7575464480259255, 'kAnnealingStart': 16.34639726327047, 'kSkipRatio': 0.6768255971826365, 'kTargetDeterminationTrials': 4, 'kAttractionRatio': 0.14930171818492582, 'kMaxAttractionDistance': 7, 'kStartAttraction': 0.15235394591160495}. Best is trial 58 with value: 8307.619318181818.\u001b[0m\n"
     ]
    },
    {
     "name": "stdout",
     "output_type": "stream",
     "text": [
      "Updated! 8307.619318181818\n",
      "index_parallel='0059'\n"
     ]
    },
    {
     "name": "stderr",
     "output_type": "stream",
     "text": [
      "\u001b[32m[I 2022-08-16 00:53:17,811]\u001b[0m Trial 59 finished with value: 8309.15909090909 and parameters: {'kErase': 2, 'kRadius': 5, 'kAnnealingA': 13.355717078068755, 'kAnnealingB': 0.14696134767883628, 'kAnnealingStart': 34.78601469794619, 'kSkipRatio': 0.6827742483310191, 'kTargetDeterminationTrials': 3, 'kAttractionRatio': 0.2303277441695078, 'kMaxAttractionDistance': 6, 'kStartAttraction': 0.06461271762747126}. Best is trial 59 with value: 8309.15909090909.\u001b[0m\n"
     ]
    },
    {
     "name": "stdout",
     "output_type": "stream",
     "text": [
      "Updated! 8309.15909090909\n",
      "index_parallel='0060'\n"
     ]
    },
    {
     "name": "stderr",
     "output_type": "stream",
     "text": [
      "\u001b[32m[I 2022-08-16 00:56:44,402]\u001b[0m Trial 60 finished with value: 8253.193181818182 and parameters: {'kErase': 3, 'kRadius': 5, 'kAnnealingA': 13.228309050618913, 'kAnnealingB': 0.18296102441427334, 'kAnnealingStart': 33.59348795774804, 'kSkipRatio': 0.6791279168229071, 'kTargetDeterminationTrials': 2, 'kAttractionRatio': 0.22888118314407077, 'kMaxAttractionDistance': 7, 'kStartAttraction': 0.07181770476649944}. Best is trial 59 with value: 8309.15909090909.\u001b[0m\n"
     ]
    },
    {
     "name": "stdout",
     "output_type": "stream",
     "text": [
      "index_parallel='0061'\n"
     ]
    },
    {
     "name": "stderr",
     "output_type": "stream",
     "text": [
      "\u001b[32m[I 2022-08-16 01:00:10,839]\u001b[0m Trial 61 finished with value: 8312.943181818182 and parameters: {'kErase': 2, 'kRadius': 4, 'kAnnealingA': 9.4878997991898, 'kAnnealingB': 0.43918295238389127, 'kAnnealingStart': 35.044935746235225, 'kSkipRatio': 0.7017764468116001, 'kTargetDeterminationTrials': 4, 'kAttractionRatio': 0.15068471538550585, 'kMaxAttractionDistance': 6, 'kStartAttraction': 0.10403419763361657}. Best is trial 61 with value: 8312.943181818182.\u001b[0m\n"
     ]
    },
    {
     "name": "stdout",
     "output_type": "stream",
     "text": [
      "Updated! 8312.943181818182\n",
      "index_parallel='0062'\n"
     ]
    },
    {
     "name": "stderr",
     "output_type": "stream",
     "text": [
      "\u001b[32m[I 2022-08-16 01:03:37,634]\u001b[0m Trial 62 finished with value: 8268.943181818182 and parameters: {'kErase': 2, 'kRadius': 5, 'kAnnealingA': 9.668866371155675, 'kAnnealingB': 0.11243426042243161, 'kAnnealingStart': 35.17685067200968, 'kSkipRatio': 0.7100119031181432, 'kTargetDeterminationTrials': 3, 'kAttractionRatio': 0.1549921171671155, 'kMaxAttractionDistance': 5, 'kStartAttraction': 0.0566064048374934}. Best is trial 61 with value: 8312.943181818182.\u001b[0m\n"
     ]
    },
    {
     "name": "stdout",
     "output_type": "stream",
     "text": [
      "index_parallel='0063'\n"
     ]
    },
    {
     "name": "stderr",
     "output_type": "stream",
     "text": [
      "\u001b[32m[I 2022-08-16 01:07:04,170]\u001b[0m Trial 63 finished with value: 8338.09090909091 and parameters: {'kErase': 2, 'kRadius': 4, 'kAnnealingA': 11.53362452202779, 'kAnnealingB': 0.4379387149061033, 'kAnnealingStart': 20.097486688930072, 'kSkipRatio': 0.6784390138264637, 'kTargetDeterminationTrials': 4, 'kAttractionRatio': 0.20438517667921346, 'kMaxAttractionDistance': 7, 'kStartAttraction': 0.09658528063056951}. Best is trial 63 with value: 8338.09090909091.\u001b[0m\n"
     ]
    },
    {
     "name": "stdout",
     "output_type": "stream",
     "text": [
      "Updated! 8338.09090909091\n",
      "index_parallel='0064'\n"
     ]
    },
    {
     "name": "stderr",
     "output_type": "stream",
     "text": [
      "\u001b[32m[I 2022-08-16 01:10:30,862]\u001b[0m Trial 64 finished with value: 8217.926136363636 and parameters: {'kErase': 2, 'kRadius': 5, 'kAnnealingA': 14.9476687773261, 'kAnnealingB': 0.3942448994768554, 'kAnnealingStart': 39.836182179812205, 'kSkipRatio': 0.7055650379365642, 'kTargetDeterminationTrials': 3, 'kAttractionRatio': 0.21815557885288248, 'kMaxAttractionDistance': 7, 'kStartAttraction': 0.10064313434661651}. Best is trial 63 with value: 8338.09090909091.\u001b[0m\n"
     ]
    },
    {
     "name": "stdout",
     "output_type": "stream",
     "text": [
      "index_parallel='0065'\n"
     ]
    },
    {
     "name": "stderr",
     "output_type": "stream",
     "text": [
      "\u001b[32m[I 2022-08-16 01:13:57,381]\u001b[0m Trial 65 finished with value: 8156.272727272727 and parameters: {'kErase': 2, 'kRadius': 4, 'kAnnealingA': 11.711192302493426, 'kAnnealingB': 0.27689275230226323, 'kAnnealingStart': 22.247020037491065, 'kSkipRatio': 0.6613581704943123, 'kTargetDeterminationTrials': 4, 'kAttractionRatio': 0.2717091543498331, 'kMaxAttractionDistance': 4, 'kStartAttraction': 0.03003943324575769}. Best is trial 63 with value: 8338.09090909091.\u001b[0m\n"
     ]
    },
    {
     "name": "stdout",
     "output_type": "stream",
     "text": [
      "index_parallel='0066'\n"
     ]
    },
    {
     "name": "stderr",
     "output_type": "stream",
     "text": [
      "\u001b[32m[I 2022-08-16 01:17:23,864]\u001b[0m Trial 66 finished with value: 8302.068181818182 and parameters: {'kErase': 2, 'kRadius': 4, 'kAnnealingA': 13.540451749956883, 'kAnnealingB': 0.11881213709448954, 'kAnnealingStart': 28.298533670200136, 'kSkipRatio': 0.7840045905739336, 'kTargetDeterminationTrials': 4, 'kAttractionRatio': 0.13693555027046053, 'kMaxAttractionDistance': 5, 'kStartAttraction': 0.049984096968096824}. Best is trial 63 with value: 8338.09090909091.\u001b[0m\n"
     ]
    },
    {
     "name": "stdout",
     "output_type": "stream",
     "text": [
      "index_parallel='0067'\n"
     ]
    },
    {
     "name": "stderr",
     "output_type": "stream",
     "text": [
      "\u001b[32m[I 2022-08-16 01:20:50,525]\u001b[0m Trial 67 finished with value: 8254.40340909091 and parameters: {'kErase': 2, 'kRadius': 6, 'kAnnealingA': 13.765776264011965, 'kAnnealingB': 0.08540926725614725, 'kAnnealingStart': 47.14651435196925, 'kSkipRatio': 0.7822945933215646, 'kTargetDeterminationTrials': 4, 'kAttractionRatio': 0.3464591476210281, 'kMaxAttractionDistance': 5, 'kStartAttraction': 0.04218468379309207}. Best is trial 63 with value: 8338.09090909091.\u001b[0m\n"
     ]
    },
    {
     "name": "stdout",
     "output_type": "stream",
     "text": [
      "index_parallel='0068'\n"
     ]
    },
    {
     "name": "stderr",
     "output_type": "stream",
     "text": [
      "\u001b[32m[I 2022-08-16 01:24:17,087]\u001b[0m Trial 68 finished with value: 8238.795454545454 and parameters: {'kErase': 2, 'kRadius': 5, 'kAnnealingA': 10.33963269318991, 'kAnnealingB': 0.4900765650959298, 'kAnnealingStart': 29.84072132703107, 'kSkipRatio': 0.7270082459101108, 'kTargetDeterminationTrials': 5, 'kAttractionRatio': 0.13732189475597292, 'kMaxAttractionDistance': 6, 'kStartAttraction': 0.058518711760405004}. Best is trial 63 with value: 8338.09090909091.\u001b[0m\n"
     ]
    },
    {
     "name": "stdout",
     "output_type": "stream",
     "text": [
      "index_parallel='0069'\n"
     ]
    },
    {
     "name": "stderr",
     "output_type": "stream",
     "text": [
      "\u001b[32m[I 2022-08-16 01:27:43,976]\u001b[0m Trial 69 finished with value: 7911.426136363636 and parameters: {'kErase': 5, 'kRadius': 4, 'kAnnealingA': 11.720167250960642, 'kAnnealingB': 0.12665665444226773, 'kAnnealingStart': 16.135758401344464, 'kSkipRatio': 0.7777144038713136, 'kTargetDeterminationTrials': 5, 'kAttractionRatio': 0.19826650625865982, 'kMaxAttractionDistance': 8, 'kStartAttraction': 0.09801935764121292}. Best is trial 63 with value: 8338.09090909091.\u001b[0m\n"
     ]
    },
    {
     "name": "stdout",
     "output_type": "stream",
     "text": [
      "index_parallel='0070'\n"
     ]
    },
    {
     "name": "stderr",
     "output_type": "stream",
     "text": [
      "\u001b[32m[I 2022-08-16 01:31:10,454]\u001b[0m Trial 70 finished with value: 7655.755681818182 and parameters: {'kErase': 2, 'kRadius': 4, 'kAnnealingA': 13.248225595706817, 'kAnnealingB': 0.6145034428796937, 'kAnnealingStart': 68.62954518870943, 'kSkipRatio': 0.6442890549025493, 'kTargetDeterminationTrials': 2, 'kAttractionRatio': 0.25951115918933937, 'kMaxAttractionDistance': 7, 'kStartAttraction': 0.0231929684761785}. Best is trial 63 with value: 8338.09090909091.\u001b[0m\n"
     ]
    },
    {
     "name": "stdout",
     "output_type": "stream",
     "text": [
      "index_parallel='0071'\n"
     ]
    },
    {
     "name": "stderr",
     "output_type": "stream",
     "text": [
      "\u001b[32m[I 2022-08-16 01:34:36,780]\u001b[0m Trial 71 finished with value: 8042.289772727273 and parameters: {'kErase': 2, 'kRadius': 4, 'kAnnealingA': 8.534610321047643, 'kAnnealingB': 0.0006550440149911962, 'kAnnealingStart': 20.857152101905022, 'kSkipRatio': 0.6881357529251482, 'kTargetDeterminationTrials': 3, 'kAttractionRatio': 0.17309841936916137, 'kMaxAttractionDistance': 4, 'kStartAttraction': 0.12813022778762978}. Best is trial 63 with value: 8338.09090909091.\u001b[0m\n"
     ]
    },
    {
     "name": "stdout",
     "output_type": "stream",
     "text": [
      "index_parallel='0072'\n"
     ]
    },
    {
     "name": "stderr",
     "output_type": "stream",
     "text": [
      "\u001b[32m[I 2022-08-16 01:38:03,467]\u001b[0m Trial 72 finished with value: 8246.602272727272 and parameters: {'kErase': 3, 'kRadius': 4, 'kAnnealingA': 10.541535047166684, 'kAnnealingB': 0.4542123423240405, 'kAnnealingStart': 30.35706284458243, 'kSkipRatio': 0.7398363304345806, 'kTargetDeterminationTrials': 4, 'kAttractionRatio': 0.13574706286483287, 'kMaxAttractionDistance': 6, 'kStartAttraction': 0.04938096584944549}. Best is trial 63 with value: 8338.09090909091.\u001b[0m\n"
     ]
    },
    {
     "name": "stdout",
     "output_type": "stream",
     "text": [
      "index_parallel='0073'\n"
     ]
    },
    {
     "name": "stderr",
     "output_type": "stream",
     "text": [
      "\u001b[32m[I 2022-08-16 01:41:29,990]\u001b[0m Trial 73 finished with value: 8308.72159090909 and parameters: {'kErase': 2, 'kRadius': 4, 'kAnnealingA': 11.848845548487446, 'kAnnealingB': 0.5657830940343801, 'kAnnealingStart': 23.50569563223525, 'kSkipRatio': 0.6688980853693768, 'kTargetDeterminationTrials': 3, 'kAttractionRatio': 0.1012003241613592, 'kMaxAttractionDistance': 8, 'kStartAttraction': 0.08940949427339745}. Best is trial 63 with value: 8338.09090909091.\u001b[0m\n"
     ]
    },
    {
     "name": "stdout",
     "output_type": "stream",
     "text": [
      "index_parallel='0074'\n"
     ]
    },
    {
     "name": "stderr",
     "output_type": "stream",
     "text": [
      "\u001b[32m[I 2022-08-16 01:44:56,496]\u001b[0m Trial 74 finished with value: 8369.477272727272 and parameters: {'kErase': 2, 'kRadius': 4, 'kAnnealingA': 13.738757495188004, 'kAnnealingB': 0.2509353734608586, 'kAnnealingStart': 24.975382817245457, 'kSkipRatio': 0.797334033522489, 'kTargetDeterminationTrials': 7, 'kAttractionRatio': 0.10322761283002811, 'kMaxAttractionDistance': 8, 'kStartAttraction': 0.08603254020132625}. Best is trial 74 with value: 8369.477272727272.\u001b[0m\n"
     ]
    },
    {
     "name": "stdout",
     "output_type": "stream",
     "text": [
      "Updated! 8369.477272727272\n",
      "index_parallel='0075'\n"
     ]
    },
    {
     "name": "stderr",
     "output_type": "stream",
     "text": [
      "\u001b[32m[I 2022-08-16 01:48:23,147]\u001b[0m Trial 75 finished with value: 8356.698863636364 and parameters: {'kErase': 2, 'kRadius': 4, 'kAnnealingA': 13.746118004246465, 'kAnnealingB': 0.29576825799408424, 'kAnnealingStart': 24.192659136255585, 'kSkipRatio': 0.7231845472180496, 'kTargetDeterminationTrials': 13, 'kAttractionRatio': 0.10171806682837412, 'kMaxAttractionDistance': 9, 'kStartAttraction': 0.0851570004230565}. Best is trial 74 with value: 8369.477272727272.\u001b[0m\n"
     ]
    },
    {
     "name": "stdout",
     "output_type": "stream",
     "text": [
      "index_parallel='0076'\n"
     ]
    },
    {
     "name": "stderr",
     "output_type": "stream",
     "text": [
      "\u001b[32m[I 2022-08-16 01:51:49,422]\u001b[0m Trial 76 finished with value: 8340.676136363636 and parameters: {'kErase': 2, 'kRadius': 5, 'kAnnealingA': 11.695020898109068, 'kAnnealingB': 0.3094197288394496, 'kAnnealingStart': 24.835540316209826, 'kSkipRatio': 0.7246506555871116, 'kTargetDeterminationTrials': 13, 'kAttractionRatio': 0.1031067873993848, 'kMaxAttractionDistance': 8, 'kStartAttraction': 0.08509174279065766}. Best is trial 74 with value: 8369.477272727272.\u001b[0m\n"
     ]
    },
    {
     "name": "stdout",
     "output_type": "stream",
     "text": [
      "index_parallel='0077'\n"
     ]
    },
    {
     "name": "stderr",
     "output_type": "stream",
     "text": [
      "\u001b[32m[I 2022-08-16 01:55:16,082]\u001b[0m Trial 77 finished with value: 8246.926136363636 and parameters: {'kErase': 3, 'kRadius': 5, 'kAnnealingA': 12.052407035135232, 'kAnnealingB': 0.28821509293276293, 'kAnnealingStart': 26.072830655615913, 'kSkipRatio': 0.7181574608927369, 'kTargetDeterminationTrials': 14, 'kAttractionRatio': 0.21288707740320076, 'kMaxAttractionDistance': 8, 'kStartAttraction': 0.09026326675478633}. Best is trial 74 with value: 8369.477272727272.\u001b[0m\n"
     ]
    },
    {
     "name": "stdout",
     "output_type": "stream",
     "text": [
      "index_parallel='0078'\n"
     ]
    },
    {
     "name": "stderr",
     "output_type": "stream",
     "text": [
      "\u001b[32m[I 2022-08-16 01:58:42,903]\u001b[0m Trial 78 finished with value: 8200.988636363636 and parameters: {'kErase': 2, 'kRadius': 5, 'kAnnealingA': 14.295596311935252, 'kAnnealingB': 0.40977416974461517, 'kAnnealingStart': 41.48885456215837, 'kSkipRatio': 0.7610024443918398, 'kTargetDeterminationTrials': 17, 'kAttractionRatio': 0.16840261690920205, 'kMaxAttractionDistance': 9, 'kStartAttraction': 0.11751209325378957}. Best is trial 74 with value: 8369.477272727272.\u001b[0m\n"
     ]
    },
    {
     "name": "stdout",
     "output_type": "stream",
     "text": [
      "index_parallel='0079'\n"
     ]
    },
    {
     "name": "stderr",
     "output_type": "stream",
     "text": [
      "\u001b[32m[I 2022-08-16 02:02:10,029]\u001b[0m Trial 79 finished with value: 8337.380681818182 and parameters: {'kErase': 2, 'kRadius': 6, 'kAnnealingA': 12.941100995429252, 'kAnnealingB': 0.5844902495857285, 'kAnnealingStart': 24.761726674489072, 'kSkipRatio': 0.6618243190102819, 'kTargetDeterminationTrials': 13, 'kAttractionRatio': 0.10146272313617036, 'kMaxAttractionDistance': 9, 'kStartAttraction': 0.06664559216033739}. Best is trial 74 with value: 8369.477272727272.\u001b[0m\n"
     ]
    },
    {
     "name": "stdout",
     "output_type": "stream",
     "text": [
      "index_parallel='0080'\n"
     ]
    },
    {
     "name": "stderr",
     "output_type": "stream",
     "text": [
      "\u001b[32m[I 2022-08-16 02:05:36,729]\u001b[0m Trial 80 finished with value: 8320.954545454546 and parameters: {'kErase': 2, 'kRadius': 6, 'kAnnealingA': 13.52830863929327, 'kAnnealingB': 0.3021582766098766, 'kAnnealingStart': 23.04744339619778, 'kSkipRatio': 0.7404822201547546, 'kTargetDeterminationTrials': 15, 'kAttractionRatio': 0.1092498799923365, 'kMaxAttractionDistance': 6, 'kStartAttraction': 0.06683076291806428}. Best is trial 74 with value: 8369.477272727272.\u001b[0m\n"
     ]
    },
    {
     "name": "stdout",
     "output_type": "stream",
     "text": [
      "index_parallel='0081'\n"
     ]
    },
    {
     "name": "stderr",
     "output_type": "stream",
     "text": [
      "\u001b[32m[I 2022-08-16 02:09:03,377]\u001b[0m Trial 81 finished with value: 8238.085227272728 and parameters: {'kErase': 2, 'kRadius': 6, 'kAnnealingA': 12.931185464090612, 'kAnnealingB': 0.5802682903229069, 'kAnnealingStart': 23.835539743498796, 'kSkipRatio': 0.7495366843561988, 'kTargetDeterminationTrials': 13, 'kAttractionRatio': 0.10560792216551804, 'kMaxAttractionDistance': 6, 'kStartAttraction': 0.0744444364100622}. Best is trial 74 with value: 8369.477272727272.\u001b[0m\n"
     ]
    },
    {
     "name": "stdout",
     "output_type": "stream",
     "text": [
      "index_parallel='0082'\n"
     ]
    },
    {
     "name": "stderr",
     "output_type": "stream",
     "text": [
      "\u001b[32m[I 2022-08-16 02:12:29,984]\u001b[0m Trial 82 finished with value: 7978.414772727273 and parameters: {'kErase': 2, 'kRadius': 6, 'kAnnealingA': 11.273330405268966, 'kAnnealingB': 0.3013028614203197, 'kAnnealingStart': 56.491801436532896, 'kSkipRatio': 0.7303477735983072, 'kTargetDeterminationTrials': 16, 'kAttractionRatio': 0.10453871106922998, 'kMaxAttractionDistance': 8, 'kStartAttraction': 0.06625346746997517}. Best is trial 74 with value: 8369.477272727272.\u001b[0m\n"
     ]
    },
    {
     "name": "stdout",
     "output_type": "stream",
     "text": [
      "index_parallel='0083'\n"
     ]
    },
    {
     "name": "stderr",
     "output_type": "stream",
     "text": [
      "\u001b[32m[I 2022-08-16 02:15:56,977]\u001b[0m Trial 83 finished with value: 8238.085227272728 and parameters: {'kErase': 2, 'kRadius': 6, 'kAnnealingA': 14.955205913188085, 'kAnnealingB': 0.38721502251976225, 'kAnnealingStart': 32.29664178085115, 'kSkipRatio': 0.6629679366738717, 'kTargetDeterminationTrials': 11, 'kAttractionRatio': 0.062478995712179144, 'kMaxAttractionDistance': 9, 'kStartAttraction': 0.0345926041807893}. Best is trial 74 with value: 8369.477272727272.\u001b[0m\n"
     ]
    },
    {
     "name": "stdout",
     "output_type": "stream",
     "text": [
      "index_parallel='0084'\n"
     ]
    },
    {
     "name": "stderr",
     "output_type": "stream",
     "text": [
      "\u001b[32m[I 2022-08-16 02:19:23,487]\u001b[0m Trial 84 finished with value: 8217.75 and parameters: {'kErase': 2, 'kRadius': 6, 'kAnnealingA': 12.619098741443668, 'kAnnealingB': 0.2235145437264845, 'kAnnealingStart': 38.285670077495894, 'kSkipRatio': 0.6977245337392619, 'kTargetDeterminationTrials': 10, 'kAttractionRatio': 0.11943298689703664, 'kMaxAttractionDistance': 10, 'kStartAttraction': 0.08469400511542029}. Best is trial 74 with value: 8369.477272727272.\u001b[0m\n"
     ]
    },
    {
     "name": "stdout",
     "output_type": "stream",
     "text": [
      "index_parallel='0085'\n"
     ]
    },
    {
     "name": "stderr",
     "output_type": "stream",
     "text": [
      "\u001b[32m[I 2022-08-16 02:22:50,271]\u001b[0m Trial 85 finished with value: 8284.869318181818 and parameters: {'kErase': 2, 'kRadius': 6, 'kAnnealingA': 14.202111184298918, 'kAnnealingB': 0.4712115928017333, 'kAnnealingStart': 24.951298499823796, 'kSkipRatio': 0.7688671965212848, 'kTargetDeterminationTrials': 15, 'kAttractionRatio': 0.09748339252589354, 'kMaxAttractionDistance': 11, 'kStartAttraction': 0.058189011701296006}. Best is trial 74 with value: 8369.477272727272.\u001b[0m\n"
     ]
    },
    {
     "name": "stdout",
     "output_type": "stream",
     "text": [
      "index_parallel='0086'\n"
     ]
    },
    {
     "name": "stderr",
     "output_type": "stream",
     "text": [
      "\u001b[32m[I 2022-08-16 02:26:16,865]\u001b[0m Trial 86 finished with value: 8355.426136363636 and parameters: {'kErase': 2, 'kRadius': 6, 'kAnnealingA': 11.324017587523617, 'kAnnealingB': 0.3289525179397954, 'kAnnealingStart': 22.029667135035364, 'kSkipRatio': 0.7177935088029029, 'kTargetDeterminationTrials': 12, 'kAttractionRatio': 0.0822746206227549, 'kMaxAttractionDistance': 9, 'kStartAttraction': 0.12204524493144195}. Best is trial 74 with value: 8369.477272727272.\u001b[0m\n"
     ]
    },
    {
     "name": "stdout",
     "output_type": "stream",
     "text": [
      "index_parallel='0087'\n"
     ]
    },
    {
     "name": "stderr",
     "output_type": "stream",
     "text": [
      "\u001b[32m[I 2022-08-16 02:29:43,541]\u001b[0m Trial 87 finished with value: 8007.738636363636 and parameters: {'kErase': 3, 'kRadius': 6, 'kAnnealingA': 11.05486276592169, 'kAnnealingB': 0.34497682905661264, 'kAnnealingStart': 46.07528110130098, 'kSkipRatio': 0.739362386704224, 'kTargetDeterminationTrials': 12, 'kAttractionRatio': 0.0866842794481758, 'kMaxAttractionDistance': 9, 'kStartAttraction': 0.1124624108985634}. Best is trial 74 with value: 8369.477272727272.\u001b[0m\n"
     ]
    },
    {
     "name": "stdout",
     "output_type": "stream",
     "text": [
      "index_parallel='0088'\n"
     ]
    },
    {
     "name": "stderr",
     "output_type": "stream",
     "text": [
      "\u001b[32m[I 2022-08-16 02:33:09,801]\u001b[0m Trial 88 finished with value: 8305.28409090909 and parameters: {'kErase': 2, 'kRadius': 6, 'kAnnealingA': 9.980863714190953, 'kAnnealingB': 0.21247618064861573, 'kAnnealingStart': 21.85331044854908, 'kSkipRatio': 0.7196084874579269, 'kTargetDeterminationTrials': 10, 'kAttractionRatio': 0.07853337013100689, 'kMaxAttractionDistance': 7, 'kStartAttraction': 0.06311223403291434}. Best is trial 74 with value: 8369.477272727272.\u001b[0m\n"
     ]
    },
    {
     "name": "stdout",
     "output_type": "stream",
     "text": [
      "index_parallel='0089'\n"
     ]
    }
   ],
   "source": [
    "study.optimize(\n",
    "    partial(objective, in_dir=in_dir, work_dir=work_dir),\n",
    "    n_trials=3000,\n",
    "    timeout=86400,\n",
    "    callbacks=[callback]\n",
    ")"
   ]
  },
  {
   "cell_type": "code",
   "execution_count": null,
   "id": "700269d2",
   "metadata": {},
   "outputs": [],
   "source": []
  }
 ],
 "metadata": {
  "kernelspec": {
   "display_name": "Python 3 (ipykernel)",
   "language": "python",
   "name": "python3"
  },
  "language_info": {
   "codemirror_mode": {
    "name": "ipython",
    "version": 3
   },
   "file_extension": ".py",
   "mimetype": "text/x-python",
   "name": "python",
   "nbconvert_exporter": "python",
   "pygments_lexer": "ipython3",
   "version": "3.9.12"
  }
 },
 "nbformat": 4,
 "nbformat_minor": 5
}
