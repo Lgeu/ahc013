{
 "cells": [
  {
   "cell_type": "code",
   "execution_count": 1,
   "id": "25a1dac8",
   "metadata": {},
   "outputs": [],
   "source": [
    "import re\n",
    "import sys\n",
    "from uuid import uuid1\n",
    "from time import sleep\n",
    "from pprint import pprint\n",
    "from pathlib import Path\n",
    "from tempfile import gettempdir\n",
    "from threading import Thread\n",
    "from functools import partial\n",
    "from subprocess import Popen, PIPE\n",
    "\n",
    "from tqdm.notebook import tqdm\n",
    "import numpy as np\n",
    "import optuna\n",
    "import pandas as pd\n",
    "import matplotlib.pyplot as plt\n",
    "\n",
    "FILENAME = \"main.cpp\""
   ]
  },
  {
   "cell_type": "code",
   "execution_count": 2,
   "id": "3dd4d02e",
   "metadata": {},
   "outputs": [
    {
     "name": "stdout",
     "output_type": "stream",
     "text": [
      "10 variables were found.\n"
     ]
    },
    {
     "data": {
      "text/html": [
       "<div>\n",
       "<style scoped>\n",
       "    .dataframe tbody tr th:only-of-type {\n",
       "        vertical-align: middle;\n",
       "    }\n",
       "\n",
       "    .dataframe tbody tr th {\n",
       "        vertical-align: top;\n",
       "    }\n",
       "\n",
       "    .dataframe thead th {\n",
       "        text-align: right;\n",
       "    }\n",
       "</style>\n",
       "<table border=\"1\" class=\"dataframe\">\n",
       "  <thead>\n",
       "    <tr style=\"text-align: right;\">\n",
       "      <th></th>\n",
       "      <th>name</th>\n",
       "      <th>method</th>\n",
       "      <th>min</th>\n",
       "      <th>max</th>\n",
       "      <th>log</th>\n",
       "      <th>left</th>\n",
       "      <th>right</th>\n",
       "    </tr>\n",
       "  </thead>\n",
       "  <tbody>\n",
       "    <tr>\n",
       "      <th>0</th>\n",
       "      <td>kErase</td>\n",
       "      <td>suggest_int</td>\n",
       "      <td>1.000</td>\n",
       "      <td>5.0</td>\n",
       "      <td>False</td>\n",
       "      <td>static constexpr auto kErase =</td>\n",
       "      <td>;             // OPTIMIZE [1, 5]</td>\n",
       "    </tr>\n",
       "    <tr>\n",
       "      <th>1</th>\n",
       "      <td>kRadius</td>\n",
       "      <td>suggest_int</td>\n",
       "      <td>2.000</td>\n",
       "      <td>6.0</td>\n",
       "      <td>False</td>\n",
       "      <td>static constexpr auto kRadius =</td>\n",
       "      <td>;            // OPTIMIZE [2, 6]</td>\n",
       "    </tr>\n",
       "    <tr>\n",
       "      <th>2</th>\n",
       "      <td>kAnnealingA</td>\n",
       "      <td>suggest_float</td>\n",
       "      <td>-15.000</td>\n",
       "      <td>15.0</td>\n",
       "      <td>False</td>\n",
       "      <td>static constexpr auto kAnnealingA =</td>\n",
       "      <td>;      // OPTIMIZE [-15.0, 15.0]</td>\n",
       "    </tr>\n",
       "    <tr>\n",
       "      <th>3</th>\n",
       "      <td>kAnnealingB</td>\n",
       "      <td>suggest_float</td>\n",
       "      <td>0.000</td>\n",
       "      <td>3.0</td>\n",
       "      <td>False</td>\n",
       "      <td>static constexpr auto kAnnealingB =</td>\n",
       "      <td>;      // OPTIMIZE [0.0, 3.0]</td>\n",
       "    </tr>\n",
       "    <tr>\n",
       "      <th>4</th>\n",
       "      <td>kAnnealingStart</td>\n",
       "      <td>suggest_float</td>\n",
       "      <td>1.000</td>\n",
       "      <td>100.0</td>\n",
       "      <td>True</td>\n",
       "      <td>static constexpr auto kAnnealingStart =</td>\n",
       "      <td>; // OPTIMIZE LOG [1.0, 100.0]</td>\n",
       "    </tr>\n",
       "    <tr>\n",
       "      <th>5</th>\n",
       "      <td>kSkipRatio</td>\n",
       "      <td>suggest_float</td>\n",
       "      <td>0.200</td>\n",
       "      <td>0.8</td>\n",
       "      <td>False</td>\n",
       "      <td>static constexpr auto kSkipRatio =</td>\n",
       "      <td>;       // OPTIMIZE [0.2, 0.8]</td>\n",
       "    </tr>\n",
       "    <tr>\n",
       "      <th>6</th>\n",
       "      <td>kTargetDeterminationTrials</td>\n",
       "      <td>suggest_int</td>\n",
       "      <td>1.000</td>\n",
       "      <td>20.0</td>\n",
       "      <td>True</td>\n",
       "      <td>static constexpr auto kTargetDeterminationTria...</td>\n",
       "      <td>; // OPTIMIZE LOG [1, 20]</td>\n",
       "    </tr>\n",
       "    <tr>\n",
       "      <th>7</th>\n",
       "      <td>kAttractionRatio</td>\n",
       "      <td>suggest_float</td>\n",
       "      <td>0.010</td>\n",
       "      <td>0.9</td>\n",
       "      <td>True</td>\n",
       "      <td>static constexpr auto kAttractionRatio =</td>\n",
       "      <td>;      // OPTIMIZE LOG [0.01, 0.9]</td>\n",
       "    </tr>\n",
       "    <tr>\n",
       "      <th>8</th>\n",
       "      <td>kMaxAttractionDistance</td>\n",
       "      <td>suggest_int</td>\n",
       "      <td>4.000</td>\n",
       "      <td>99.0</td>\n",
       "      <td>True</td>\n",
       "      <td>static constexpr auto kMaxAttractionDistance =</td>\n",
       "      <td>; // OPTIMIZE LOG [4, 99]</td>\n",
       "    </tr>\n",
       "    <tr>\n",
       "      <th>9</th>\n",
       "      <td>kStartAttraction</td>\n",
       "      <td>suggest_float</td>\n",
       "      <td>0.001</td>\n",
       "      <td>0.9</td>\n",
       "      <td>True</td>\n",
       "      <td>static constexpr auto kStartAttraction =</td>\n",
       "      <td>;     // OPTIMIZE LOG [0.001, 0.9]</td>\n",
       "    </tr>\n",
       "  </tbody>\n",
       "</table>\n",
       "</div>"
      ],
      "text/plain": [
       "                         name         method     min    max    log  \\\n",
       "0                      kErase    suggest_int   1.000    5.0  False   \n",
       "1                     kRadius    suggest_int   2.000    6.0  False   \n",
       "2                 kAnnealingA  suggest_float -15.000   15.0  False   \n",
       "3                 kAnnealingB  suggest_float   0.000    3.0  False   \n",
       "4             kAnnealingStart  suggest_float   1.000  100.0   True   \n",
       "5                  kSkipRatio  suggest_float   0.200    0.8  False   \n",
       "6  kTargetDeterminationTrials    suggest_int   1.000   20.0   True   \n",
       "7            kAttractionRatio  suggest_float   0.010    0.9   True   \n",
       "8      kMaxAttractionDistance    suggest_int   4.000   99.0   True   \n",
       "9            kStartAttraction  suggest_float   0.001    0.9   True   \n",
       "\n",
       "                                                left  \\\n",
       "0                    static constexpr auto kErase =    \n",
       "1                   static constexpr auto kRadius =    \n",
       "2               static constexpr auto kAnnealingA =    \n",
       "3               static constexpr auto kAnnealingB =    \n",
       "4           static constexpr auto kAnnealingStart =    \n",
       "5                static constexpr auto kSkipRatio =    \n",
       "6  static constexpr auto kTargetDeterminationTria...   \n",
       "7          static constexpr auto kAttractionRatio =    \n",
       "8    static constexpr auto kMaxAttractionDistance =    \n",
       "9          static constexpr auto kStartAttraction =    \n",
       "\n",
       "                                right  \n",
       "0    ;             // OPTIMIZE [1, 5]  \n",
       "1     ;            // OPTIMIZE [2, 6]  \n",
       "2    ;      // OPTIMIZE [-15.0, 15.0]  \n",
       "3       ;      // OPTIMIZE [0.0, 3.0]  \n",
       "4      ; // OPTIMIZE LOG [1.0, 100.0]  \n",
       "5      ;       // OPTIMIZE [0.2, 0.8]  \n",
       "6           ; // OPTIMIZE LOG [1, 20]  \n",
       "7  ;      // OPTIMIZE LOG [0.01, 0.9]  \n",
       "8           ; // OPTIMIZE LOG [4, 99]  \n",
       "9  ;     // OPTIMIZE LOG [0.001, 0.9]  "
      ]
     },
     "metadata": {},
     "output_type": "display_data"
    }
   ],
   "source": [
    "# ここでエラー出力は何かおかしいかもしれない\n",
    "\n",
    "\n",
    "# パラメータ抽出\n",
    "with open(FILENAME) as f:\n",
    "    answer = f.read()\n",
    "\n",
    "\n",
    "variables_optimize = []\n",
    "\n",
    "for left, value, right, options in re.findall(r\"^([^/\\n]*=\\s*)(.+?)(\\s*;\\s*//(?:.*\\W)?OPTIMIZE(\\W.*))$\", answer, re.MULTILINE):\n",
    "    name = left.replace(\"=\", \"\").strip().split()[-1]\n",
    "    \n",
    "    searched = re.search(r\".*\\[(?P<min>.*),(?P<max>.*)\\].*\", options)\n",
    "    if searched:\n",
    "        min_value = max_value = None\n",
    "        try:\n",
    "            min_value = eval(searched.group(\"min\"))\n",
    "            max_value = eval(searched.group(\"max\"))\n",
    "            assert min_value <= max_value\n",
    "        except Exception as e:\n",
    "            print(f\"searched={searched}\", file=sys.stderr)\n",
    "            print(e, file=sys.stderr)\n",
    "            continue\n",
    "        log = \"LOG\" in options  # 雑、直したほうが良い\n",
    "        if type(min_value) != type(max_value):\n",
    "            print(f\"searched={searched}\", file=sys.stderr)\n",
    "            print(\"types not matched\", file=sys.stderr)\n",
    "            continue\n",
    "        if isinstance(min_value, int):\n",
    "            method = \"suggest_int\"\n",
    "        elif isinstance(min_value, float):\n",
    "            method = \"suggest_float\"\n",
    "        else:\n",
    "            print(f\"searched={searched}\", file=sys.stderr)\n",
    "            print(f\"unknown type ({type(min_value)})\", file=sys.stderr)\n",
    "            continue\n",
    "        variables_optimize.append({\n",
    "            \"name\": name,\n",
    "            \"method\": method,\n",
    "            \"min\": min_value,\n",
    "            \"max\": max_value,\n",
    "            \"log\": log,\n",
    "            \"left\": left,\n",
    "            \"right\": right,\n",
    "        })\n",
    "    elif searched := re.search(r\".*\\{(?P<choices>.*?)\\}.*\", options):\n",
    "        choices = list(map(lambda x: x.strip(), searched.group(\"choices\").split(\",\")))\n",
    "        variables_optimize.append({\n",
    "            \"name\": name,\n",
    "            \"method\": \"suggest_categorical\",\n",
    "            \"choices\": choices,\n",
    "            \"left\": left,\n",
    "            \"right\": right,\n",
    "        })\n",
    "    else:\n",
    "        print(f\"searched={searched}\", file=sys.stderr)\n",
    "        print(f\"pattern was matched but options are incorrect.\", file=sys.stderr)\n",
    "\n",
    "print(len(variables_optimize), \"variables were found.\")\n",
    "if globals().get(\"pd\"):\n",
    "    display(pd.DataFrame(variables_optimize))\n",
    "else:\n",
    "    pprint(variables_optimize)"
   ]
  },
  {
   "cell_type": "code",
   "execution_count": 3,
   "id": "001042b9",
   "metadata": {},
   "outputs": [],
   "source": [
    "def escape(string):  # 正規表現の中でそのまま使いたい文字列をエスケープ\n",
    "    res = !echo '{string}' | sed -e 's/[]\\/$*.^[]/\\\\&/g'\n",
    "    return res[0]\n",
    "\n",
    "def escape_sed(string):  # sed の置換後の文字列用のエスケープ\n",
    "    res = !echo '{string}' | sed -e 's/[\\/&]/\\\\&/g'\n",
    "    return res[0]\n",
    "\n",
    "def read_stream(name, in_file, out_file):\n",
    "    for line in in_file:\n",
    "        print(f\"[{name}] {line.strip()}\", file=out_file)\n",
    "\n",
    "def run(cmd, name):\n",
    "    proc = Popen(cmd, stdout=PIPE, stderr=PIPE, universal_newlines=True, shell=isinstance(cmd, str))\n",
    "    stdout_thread = Thread(target=read_stream, args=(name, proc.stdout, sys.stdout))\n",
    "    stderr_thread = Thread(target=read_stream, args=(name, proc.stderr, sys.stderr))\n",
    "    stdout_thread.start()\n",
    "    stderr_thread.start()\n",
    "    proc.wait()\n",
    "    return proc\n",
    "\n",
    "def objective(trial, in_dir, work_dir):\n",
    "    n_internal_parallel = 3\n",
    "    \n",
    "    index_parallel = f\"{trial.number:04d}\"\n",
    "    print(f\"{index_parallel=}\")\n",
    "    \n",
    "    work_dir = Path(work_dir)\n",
    "    directory_input = Path(in_dir)  # 中のすべてのファイルに対して実行される\n",
    "    #parameters_changed_filename = Path(gettempdir()) / str(uuid1())\n",
    "    parameters_changed_filename = work_dir / f\"{index_parallel}_{FILENAME}\"\n",
    "    \n",
    "    run([\"mkdir\", f\"{work_dir / index_parallel}_out\"], \"mkdir\")\n",
    "    run([\"mkdir\", f\"{work_dir / index_parallel}_score\"], \"mkdir\")\n",
    "    \n",
    "    # ファイル作成\n",
    "    run(f\"cp {FILENAME} {parameters_changed_filename}\", \"cp\")\n",
    "    sed_options = [f\"-i {parameters_changed_filename}\"]\n",
    "    for variable in variables_optimize:\n",
    "        if variable[\"method\"] == \"suggest_categorical\":\n",
    "            val =  trial.suggest_categorical(variable[\"name\"], variable[\"choices\"])\n",
    "        else:\n",
    "            val = getattr(trial, variable[\"method\"])(variable[\"name\"], variable[\"min\"], variable[\"max\"], log=variable[\"log\"])\n",
    "        left = variable[\"left\"]\n",
    "        right = variable[\"right\"]\n",
    "        sed_options.append(f\"\"\"-e 's/^{escape(left)}.*{escape(right)}$/{escape_sed(left)}{val}{escape_sed(right)}/'\"\"\")\n",
    "    command_sed = f\"sed {' '.join(sed_options)}\"\n",
    "    #print(command_sed)\n",
    "    run(command_sed, \"sed\")\n",
    "    \n",
    "    # コンパイル\n",
    "    command_compile = f\"g++ {parameters_changed_filename} -std=gnu++17 -O2 -DONLINE_JUDGE -o {parameters_changed_filename}.out\"\n",
    "    #print(command_compile)\n",
    "    run(command_compile, \"compile\")\n",
    "    # 実行・採点コマンド (@ はファイル名)\n",
    "    command_exec = (\n",
    "        #f\"./a.out < ./tools/in/{i:04d}.txt > {out_file} && ./tools/target/release/vis ./tools/in/{i:04d}.txt {out_file}\"\n",
    "        #f\"../tools/target/release/tester $(pwd)/{parameters_changed_filename}.out < {directory_input}/@ 2>&1 | grep Score\"\n",
    "        #f\"../tools/target/release/tester $(pwd)/{parameters_changed_filename}.out < {directory_input}/@ 2>&1 | grep Score | sed -E s/[^0-9]+// > ./{index_parallel}_score/@;\"\n",
    "        #f\"cargo run --release --manifest-path ../tools/Cargo.toml --bin tester {directory_input}/@ $(pwd)/{parameters_changed_filename}.out 2>&1 | grep Score | sed -E s/[^0-9]+// > ./{index_parallel}_score/@;\"\n",
    "        f\"./{parameters_changed_filename}.out < {directory_input}/@ > {work_dir / index_parallel}_out/@;\"\n",
    "        f\"../tools/target/release/vis {directory_input}/@ {work_dir / index_parallel}_out/@ 2> /dev/null > {work_dir / index_parallel}_score/@;\"\n",
    "    )\n",
    "    # 並列実行 (sed はパスのディレクトリ部分を消してファイル名にしてる)\n",
    "    run(f\"find {directory_input}/* | sed 's!^.*/!!' | xargs -I@ -P {n_internal_parallel} sh -c '{command_exec}'\", \"exec\")\n",
    "    \n",
    "    # 集計\n",
    "    scores = []\n",
    "    for file_path in Path(f\"{work_dir / index_parallel}_score/\").iterdir():  \n",
    "        with open(file_path) as f:\n",
    "            scores.append(int(f.readline().strip().split()[-1]))\n",
    "    mean_score = sum(scores) / len(scores)\n",
    "    \n",
    "    # 後始末\n",
    "    run(f\"rm -rf {work_dir / index_parallel}_out\", \"rm\")\n",
    "    run(f\"rm -rf {work_dir / index_parallel}_score\", \"rm\")\n",
    "    #run(f\"rm {parameters_changed_filename}\", \"rm\")\n",
    "    run(f\"rm {parameters_changed_filename}.out\", \"rm\")\n",
    "    \n",
    "    return mean_score"
   ]
  },
  {
   "cell_type": "code",
   "execution_count": 4,
   "id": "2d2e133c",
   "metadata": {},
   "outputs": [
    {
     "name": "stderr",
     "output_type": "stream",
     "text": [
      "\u001b[32m[I 2022-08-15 21:25:54,958]\u001b[0m A new study created in RDB with name: study_3_0\u001b[0m\n"
     ]
    }
   ],
   "source": [
    "K = 3\n",
    "N_CLASS = 0\n",
    "\n",
    "in_dir = Path(f\"in_{K}_{N_CLASS}\")\n",
    "work_dir = Path(f\"work_{K}_{N_CLASS}\")\n",
    "\n",
    "study_name = f\"study_{K}_{N_CLASS}\"\n",
    "storage_path = work_dir / \"study.db\"\n",
    "storage = f\"sqlite:///{storage_path}\"\n",
    "study = optuna.create_study(storage=storage, load_if_exists=True, study_name=study_name, direction=\"maximize\")\n",
    "\n",
    "def callback(study, trial):\n",
    "    try:\n",
    "        index_parallel = f\"{trial.number:04d}\"\n",
    "        parameters_changed_filename = work_dir / f\"{index_parallel}_{FILENAME}\"\n",
    "        if study.best_value == trial.value:\n",
    "            print(f\"Updated! {study.best_value}\")\n",
    "            !cp {parameters_changed_filename} {work_dir / \"best_parameters.cpp\"}\n",
    "        !rm {parameters_changed_filename}\n",
    "    except:\n",
    "        print(\":(\")\n"
   ]
  },
  {
   "cell_type": "code",
   "execution_count": null,
   "id": "61c2901d",
   "metadata": {},
   "outputs": [
    {
     "name": "stdout",
     "output_type": "stream",
     "text": [
      "index_parallel='0000'\n"
     ]
    },
    {
     "name": "stderr",
     "output_type": "stream",
     "text": [
      "\u001b[32m[I 2022-08-15 21:29:56,512]\u001b[0m Trial 0 finished with value: 5142.422535211268 and parameters: {'kErase': 5, 'kRadius': 5, 'kAnnealingA': -5.772548573735737, 'kAnnealingB': 0.12003864796034247, 'kAnnealingStart': 39.810744069707034, 'kSkipRatio': 0.23083599603693272, 'kTargetDeterminationTrials': 1, 'kAttractionRatio': 0.0181768461085573, 'kMaxAttractionDistance': 55, 'kStartAttraction': 0.5790990624502301}. Best is trial 0 with value: 5142.422535211268.\u001b[0m\n"
     ]
    },
    {
     "name": "stdout",
     "output_type": "stream",
     "text": [
      "Updated! 5142.422535211268\n",
      "index_parallel='0001'\n"
     ]
    },
    {
     "name": "stderr",
     "output_type": "stream",
     "text": [
      "\u001b[32m[I 2022-08-15 21:33:57,937]\u001b[0m Trial 1 finished with value: 6332.028169014085 and parameters: {'kErase': 2, 'kRadius': 3, 'kAnnealingA': 2.74182181833849, 'kAnnealingB': 2.284953120384095, 'kAnnealingStart': 3.1124772075507723, 'kSkipRatio': 0.501739949046486, 'kTargetDeterminationTrials': 5, 'kAttractionRatio': 0.025300667845602136, 'kMaxAttractionDistance': 4, 'kStartAttraction': 0.011220510011771882}. Best is trial 1 with value: 6332.028169014085.\u001b[0m\n"
     ]
    },
    {
     "name": "stdout",
     "output_type": "stream",
     "text": [
      "Updated! 6332.028169014085\n",
      "index_parallel='0002'\n"
     ]
    },
    {
     "name": "stderr",
     "output_type": "stream",
     "text": [
      "\u001b[32m[I 2022-08-15 21:37:58,654]\u001b[0m Trial 2 finished with value: 6409.619718309859 and parameters: {'kErase': 1, 'kRadius': 2, 'kAnnealingA': 12.424991091311178, 'kAnnealingB': 2.739289650590619, 'kAnnealingStart': 6.841382104078319, 'kSkipRatio': 0.5736692386702499, 'kTargetDeterminationTrials': 8, 'kAttractionRatio': 0.11575474932060482, 'kMaxAttractionDistance': 15, 'kStartAttraction': 0.005333565417271242}. Best is trial 2 with value: 6409.619718309859.\u001b[0m\n"
     ]
    },
    {
     "name": "stdout",
     "output_type": "stream",
     "text": [
      "Updated! 6409.619718309859\n",
      "index_parallel='0003'\n"
     ]
    },
    {
     "name": "stderr",
     "output_type": "stream",
     "text": [
      "\u001b[32m[I 2022-08-15 21:42:00,416]\u001b[0m Trial 3 finished with value: 5764.840375586855 and parameters: {'kErase': 5, 'kRadius': 3, 'kAnnealingA': -8.988809146348732, 'kAnnealingB': 1.016184110398965, 'kAnnealingStart': 15.056004462336492, 'kSkipRatio': 0.34945546878759104, 'kTargetDeterminationTrials': 7, 'kAttractionRatio': 0.30358742284924606, 'kMaxAttractionDistance': 13, 'kStartAttraction': 0.1428956303970105}. Best is trial 2 with value: 6409.619718309859.\u001b[0m\n"
     ]
    },
    {
     "name": "stdout",
     "output_type": "stream",
     "text": [
      "index_parallel='0004'\n"
     ]
    },
    {
     "name": "stderr",
     "output_type": "stream",
     "text": [
      "\u001b[32m[I 2022-08-15 21:46:01,996]\u001b[0m Trial 4 finished with value: 5633.084507042254 and parameters: {'kErase': 5, 'kRadius': 3, 'kAnnealingA': 0.22686434269421696, 'kAnnealingB': 2.3492003578840084, 'kAnnealingStart': 35.06772698265212, 'kSkipRatio': 0.3268184653780354, 'kTargetDeterminationTrials': 12, 'kAttractionRatio': 0.022327722988975673, 'kMaxAttractionDistance': 5, 'kStartAttraction': 0.004384484867461566}. Best is trial 2 with value: 6409.619718309859.\u001b[0m\n"
     ]
    },
    {
     "name": "stdout",
     "output_type": "stream",
     "text": [
      "index_parallel='0005'\n"
     ]
    },
    {
     "name": "stderr",
     "output_type": "stream",
     "text": [
      "\u001b[32m[I 2022-08-15 21:50:03,649]\u001b[0m Trial 5 finished with value: 5790.985915492958 and parameters: {'kErase': 4, 'kRadius': 3, 'kAnnealingA': -2.2706374562282328, 'kAnnealingB': 1.5026211812917776, 'kAnnealingStart': 2.9055901525270476, 'kSkipRatio': 0.3023588499522739, 'kTargetDeterminationTrials': 1, 'kAttractionRatio': 0.48025435982504816, 'kMaxAttractionDistance': 32, 'kStartAttraction': 0.0011118028782096986}. Best is trial 2 with value: 6409.619718309859.\u001b[0m\n"
     ]
    },
    {
     "name": "stdout",
     "output_type": "stream",
     "text": [
      "index_parallel='0006'\n"
     ]
    },
    {
     "name": "stderr",
     "output_type": "stream",
     "text": [
      "\u001b[32m[I 2022-08-15 21:54:05,068]\u001b[0m Trial 6 finished with value: 6374.896713615023 and parameters: {'kErase': 3, 'kRadius': 3, 'kAnnealingA': 8.886677160404638, 'kAnnealingB': 2.604217763653443, 'kAnnealingStart': 8.624502233150551, 'kSkipRatio': 0.4378122748610292, 'kTargetDeterminationTrials': 5, 'kAttractionRatio': 0.3411321968058539, 'kMaxAttractionDistance': 5, 'kStartAttraction': 0.004160874058354244}. Best is trial 2 with value: 6409.619718309859.\u001b[0m\n"
     ]
    },
    {
     "name": "stdout",
     "output_type": "stream",
     "text": [
      "index_parallel='0007'\n"
     ]
    },
    {
     "name": "stderr",
     "output_type": "stream",
     "text": [
      "\u001b[32m[I 2022-08-15 21:58:06,522]\u001b[0m Trial 7 finished with value: 6036.985915492958 and parameters: {'kErase': 3, 'kRadius': 4, 'kAnnealingA': -11.145085937609727, 'kAnnealingB': 2.157113209782151, 'kAnnealingStart': 7.968530362259861, 'kSkipRatio': 0.40056646502206283, 'kTargetDeterminationTrials': 1, 'kAttractionRatio': 0.027789245040336776, 'kMaxAttractionDistance': 4, 'kStartAttraction': 0.0072209146632278235}. Best is trial 2 with value: 6409.619718309859.\u001b[0m\n"
     ]
    },
    {
     "name": "stdout",
     "output_type": "stream",
     "text": [
      "index_parallel='0008'\n"
     ]
    },
    {
     "name": "stderr",
     "output_type": "stream",
     "text": [
      "\u001b[32m[I 2022-08-15 22:02:07,628]\u001b[0m Trial 8 finished with value: 6306.366197183099 and parameters: {'kErase': 2, 'kRadius': 2, 'kAnnealingA': 14.339965610666553, 'kAnnealingB': 1.5012120416008665, 'kAnnealingStart': 2.3551484619769054, 'kSkipRatio': 0.45752546095537694, 'kTargetDeterminationTrials': 1, 'kAttractionRatio': 0.27919639132001906, 'kMaxAttractionDistance': 17, 'kStartAttraction': 0.03165058286381694}. Best is trial 2 with value: 6409.619718309859.\u001b[0m\n"
     ]
    },
    {
     "name": "stdout",
     "output_type": "stream",
     "text": [
      "index_parallel='0009'\n"
     ]
    },
    {
     "name": "stderr",
     "output_type": "stream",
     "text": [
      "\u001b[32m[I 2022-08-15 22:06:08,786]\u001b[0m Trial 9 finished with value: 6366.225352112676 and parameters: {'kErase': 2, 'kRadius': 4, 'kAnnealingA': -7.4490461893298, 'kAnnealingB': 0.8230206609449985, 'kAnnealingStart': 33.15972772622484, 'kSkipRatio': 0.5508787428928492, 'kTargetDeterminationTrials': 1, 'kAttractionRatio': 0.037661522489949625, 'kMaxAttractionDistance': 89, 'kStartAttraction': 0.0070304485951522945}. Best is trial 2 with value: 6409.619718309859.\u001b[0m\n"
     ]
    },
    {
     "name": "stdout",
     "output_type": "stream",
     "text": [
      "index_parallel='0010'\n"
     ]
    },
    {
     "name": "stderr",
     "output_type": "stream",
     "text": [
      "\u001b[32m[I 2022-08-15 22:10:09,462]\u001b[0m Trial 10 finished with value: 5236.0 and parameters: {'kErase': 1, 'kRadius': 6, 'kAnnealingA': 14.599537250698866, 'kAnnealingB': 2.9324278114866185, 'kAnnealingStart': 83.77566627991524, 'kSkipRatio': 0.7234206365961271, 'kTargetDeterminationTrials': 19, 'kAttractionRatio': 0.0922358548345455, 'kMaxAttractionDistance': 10, 'kStartAttraction': 0.0010389984226601694}. Best is trial 2 with value: 6409.619718309859.\u001b[0m\n"
     ]
    },
    {
     "name": "stdout",
     "output_type": "stream",
     "text": [
      "index_parallel='0011'\n"
     ]
    },
    {
     "name": "stderr",
     "output_type": "stream",
     "text": [
      "\u001b[32m[I 2022-08-15 22:14:10,361]\u001b[0m Trial 11 finished with value: 6435.643192488263 and parameters: {'kErase': 1, 'kRadius': 2, 'kAnnealingA': 8.220582251278282, 'kAnnealingB': 2.8087942657928155, 'kAnnealingStart': 6.302553733629705, 'kSkipRatio': 0.6178195565593552, 'kTargetDeterminationTrials': 3, 'kAttractionRatio': 0.1290078556365115, 'kMaxAttractionDistance': 7, 'kStartAttraction': 0.03179845649130665}. Best is trial 11 with value: 6435.643192488263.\u001b[0m\n"
     ]
    },
    {
     "name": "stdout",
     "output_type": "stream",
     "text": [
      "Updated! 6435.643192488263\n",
      "index_parallel='0012'\n"
     ]
    },
    {
     "name": "stderr",
     "output_type": "stream",
     "text": [
      "\u001b[32m[I 2022-08-15 22:18:11,375]\u001b[0m Trial 12 finished with value: 6323.821596244132 and parameters: {'kErase': 1, 'kRadius': 2, 'kAnnealingA': 7.0249131318431886, 'kAnnealingB': 2.936122474214692, 'kAnnealingStart': 5.397980153032357, 'kSkipRatio': 0.6286197071742441, 'kTargetDeterminationTrials': 2, 'kAttractionRatio': 0.10955182839218475, 'kMaxAttractionDistance': 9, 'kStartAttraction': 0.04085979231841861}. Best is trial 11 with value: 6435.643192488263.\u001b[0m\n"
     ]
    },
    {
     "name": "stdout",
     "output_type": "stream",
     "text": [
      "index_parallel='0013'\n"
     ]
    },
    {
     "name": "stderr",
     "output_type": "stream",
     "text": [
      "\u001b[32m[I 2022-08-15 22:22:12,260]\u001b[0m Trial 13 finished with value: 5945.816901408451 and parameters: {'kErase': 1, 'kRadius': 2, 'kAnnealingA': 8.823180571670486, 'kAnnealingB': 1.9655133284095367, 'kAnnealingStart': 1.0024970633292907, 'kSkipRatio': 0.7796320145927769, 'kTargetDeterminationTrials': 3, 'kAttractionRatio': 0.09371785665005855, 'kMaxAttractionDistance': 30, 'kStartAttraction': 0.09404443903015014}. Best is trial 11 with value: 6435.643192488263.\u001b[0m\n"
     ]
    },
    {
     "name": "stdout",
     "output_type": "stream",
     "text": [
      "index_parallel='0014'\n"
     ]
    },
    {
     "name": "stderr",
     "output_type": "stream",
     "text": [
      "\u001b[32m[I 2022-08-15 22:26:13,150]\u001b[0m Trial 14 finished with value: 6569.55868544601 and parameters: {'kErase': 1, 'kRadius': 2, 'kAnnealingA': 5.0843985773663025, 'kAnnealingB': 2.632636768111969, 'kAnnealingStart': 14.505322735815474, 'kSkipRatio': 0.6194141678876848, 'kTargetDeterminationTrials': 2, 'kAttractionRatio': 0.15289575575611514, 'kMaxAttractionDistance': 8, 'kStartAttraction': 0.014999735754576039}. Best is trial 14 with value: 6569.55868544601.\u001b[0m\n"
     ]
    },
    {
     "name": "stdout",
     "output_type": "stream",
     "text": [
      "Updated! 6569.55868544601\n",
      "index_parallel='0015'\n"
     ]
    },
    {
     "name": "stderr",
     "output_type": "stream",
     "text": [
      "\u001b[32m[I 2022-08-15 22:30:14,393]\u001b[0m Trial 15 finished with value: 6544.769953051643 and parameters: {'kErase': 2, 'kRadius': 5, 'kAnnealingA': 4.68210552977889, 'kAnnealingB': 1.92176400282824, 'kAnnealingStart': 16.32434220617143, 'kSkipRatio': 0.6549749303326463, 'kTargetDeterminationTrials': 2, 'kAttractionRatio': 0.8998699428866126, 'kMaxAttractionDistance': 7, 'kStartAttraction': 0.09785901043520437}. Best is trial 14 with value: 6569.55868544601.\u001b[0m\n"
     ]
    },
    {
     "name": "stdout",
     "output_type": "stream",
     "text": [
      "index_parallel='0016'\n"
     ]
    },
    {
     "name": "stderr",
     "output_type": "stream",
     "text": [
      "\u001b[32m[I 2022-08-15 22:34:15,548]\u001b[0m Trial 16 finished with value: 6581.610328638498 and parameters: {'kErase': 2, 'kRadius': 5, 'kAnnealingA': 2.7928155477668204, 'kAnnealingB': 1.8050380461668356, 'kAnnealingStart': 17.116227704167382, 'kSkipRatio': 0.7107490360562823, 'kTargetDeterminationTrials': 2, 'kAttractionRatio': 0.8886643305992924, 'kMaxAttractionDistance': 7, 'kStartAttraction': 0.30855559064894117}. Best is trial 16 with value: 6581.610328638498.\u001b[0m\n"
     ]
    },
    {
     "name": "stdout",
     "output_type": "stream",
     "text": [
      "Updated! 6581.610328638498\n",
      "index_parallel='0017'\n"
     ]
    },
    {
     "name": "stderr",
     "output_type": "stream",
     "text": [
      "\u001b[32m[I 2022-08-15 22:38:17,018]\u001b[0m Trial 17 finished with value: 6492.713615023475 and parameters: {'kErase': 2, 'kRadius': 6, 'kAnnealingA': -2.200547769847031, 'kAnnealingB': 1.016920848427629, 'kAnnealingStart': 17.623966044378854, 'kSkipRatio': 0.7185625964557762, 'kTargetDeterminationTrials': 2, 'kAttractionRatio': 0.8014873718369396, 'kMaxAttractionDistance': 25, 'kStartAttraction': 0.8008577060078068}. Best is trial 16 with value: 6581.610328638498.\u001b[0m\n"
     ]
    },
    {
     "name": "stdout",
     "output_type": "stream",
     "text": [
      "index_parallel='0018'\n"
     ]
    },
    {
     "name": "stderr",
     "output_type": "stream",
     "text": [
      "\u001b[32m[I 2022-08-15 22:42:18,630]\u001b[0m Trial 18 finished with value: 5775.103286384977 and parameters: {'kErase': 3, 'kRadius': 5, 'kAnnealingA': 2.5976541199151817, 'kAnnealingB': 1.790713372763193, 'kAnnealingStart': 69.36370909733493, 'kSkipRatio': 0.7999747814730633, 'kTargetDeterminationTrials': 2, 'kAttractionRatio': 0.010218454976251663, 'kMaxAttractionDistance': 10, 'kStartAttraction': 0.19642373686891346}. Best is trial 16 with value: 6581.610328638498.\u001b[0m\n"
     ]
    },
    {
     "name": "stdout",
     "output_type": "stream",
     "text": [
      "index_parallel='0019'\n"
     ]
    },
    {
     "name": "stderr",
     "output_type": "stream",
     "text": [
      "\u001b[32m[I 2022-08-15 22:46:20,299]\u001b[0m Trial 19 finished with value: 6226.145539906103 and parameters: {'kErase': 4, 'kRadius': 5, 'kAnnealingA': -13.907128300219489, 'kAnnealingB': 0.29189281167900827, 'kAnnealingStart': 24.245703082400247, 'kSkipRatio': 0.6972971977468982, 'kTargetDeterminationTrials': 3, 'kAttractionRatio': 0.05384336395826092, 'kMaxAttractionDistance': 7, 'kStartAttraction': 0.29451792683532924}. Best is trial 16 with value: 6581.610328638498.\u001b[0m\n"
     ]
    },
    {
     "name": "stdout",
     "output_type": "stream",
     "text": [
      "index_parallel='0020'\n"
     ]
    },
    {
     "name": "stderr",
     "output_type": "stream",
     "text": [
      "\u001b[32m[I 2022-08-15 22:50:21,670]\u001b[0m Trial 20 finished with value: 6488.708920187793 and parameters: {'kErase': 3, 'kRadius': 4, 'kAnnealingA': -2.366808636593277, 'kAnnealingB': 2.3984724322828233, 'kAnnealingStart': 51.708512110637535, 'kSkipRatio': 0.5845454452733909, 'kTargetDeterminationTrials': 4, 'kAttractionRatio': 0.17002935649380366, 'kMaxAttractionDistance': 23, 'kStartAttraction': 0.018165240350787412}. Best is trial 16 with value: 6581.610328638498.\u001b[0m\n"
     ]
    },
    {
     "name": "stdout",
     "output_type": "stream",
     "text": [
      "index_parallel='0021'\n"
     ]
    },
    {
     "name": "stderr",
     "output_type": "stream",
     "text": [
      "\u001b[32m[I 2022-08-15 22:54:23,056]\u001b[0m Trial 21 finished with value: 6507.131455399061 and parameters: {'kErase': 2, 'kRadius': 5, 'kAnnealingA': 4.366423747872549, 'kAnnealingB': 1.7961057381328815, 'kAnnealingStart': 15.433619538367136, 'kSkipRatio': 0.6504162275128621, 'kTargetDeterminationTrials': 2, 'kAttractionRatio': 0.7103775140949362, 'kMaxAttractionDistance': 7, 'kStartAttraction': 0.07483415027459696}. Best is trial 16 with value: 6581.610328638498.\u001b[0m\n"
     ]
    },
    {
     "name": "stdout",
     "output_type": "stream",
     "text": [
      "index_parallel='0022'\n"
     ]
    },
    {
     "name": "stderr",
     "output_type": "stream",
     "text": [
      "\u001b[32m[I 2022-08-15 22:58:24,183]\u001b[0m Trial 22 finished with value: 6532.159624413145 and parameters: {'kErase': 2, 'kRadius': 6, 'kAnnealingA': 5.349015444621034, 'kAnnealingB': 1.9478525587532751, 'kAnnealingStart': 12.347186924686326, 'kSkipRatio': 0.661671306298148, 'kTargetDeterminationTrials': 2, 'kAttractionRatio': 0.5307719666290803, 'kMaxAttractionDistance': 6, 'kStartAttraction': 0.4541826171457687}. Best is trial 16 with value: 6581.610328638498.\u001b[0m\n"
     ]
    },
    {
     "name": "stdout",
     "output_type": "stream",
     "text": [
      "index_parallel='0023'\n"
     ]
    },
    {
     "name": "stderr",
     "output_type": "stream",
     "text": [
      "\u001b[32m[I 2022-08-15 23:02:25,411]\u001b[0m Trial 23 finished with value: 6565.328638497653 and parameters: {'kErase': 1, 'kRadius': 5, 'kAnnealingA': 1.2376087548499553, 'kAnnealingB': 1.3141421750254207, 'kAnnealingStart': 23.157429076078035, 'kSkipRatio': 0.5217885963416441, 'kTargetDeterminationTrials': 2, 'kAttractionRatio': 0.867138627068678, 'kMaxAttractionDistance': 12, 'kStartAttraction': 0.07778011492271235}. Best is trial 16 with value: 6581.610328638498.\u001b[0m\n"
     ]
    },
    {
     "name": "stdout",
     "output_type": "stream",
     "text": [
      "index_parallel='0024'\n"
     ]
    },
    {
     "name": "stderr",
     "output_type": "stream",
     "text": [
      "\u001b[32m[I 2022-08-15 23:06:26,328]\u001b[0m Trial 24 finished with value: 6623.173708920188 and parameters: {'kErase': 1, 'kRadius': 4, 'kAnnealingA': 2.1774600558088415, 'kAnnealingB': 1.2332346559940086, 'kAnnealingStart': 25.089361679025938, 'kSkipRatio': 0.5227877688597898, 'kTargetDeterminationTrials': 4, 'kAttractionRatio': 0.4799724587877123, 'kMaxAttractionDistance': 12, 'kStartAttraction': 0.29889997827550224}. Best is trial 24 with value: 6623.173708920188.\u001b[0m\n"
     ]
    },
    {
     "name": "stdout",
     "output_type": "stream",
     "text": [
      "Updated! 6623.173708920188\n",
      "index_parallel='0025'\n"
     ]
    },
    {
     "name": "stderr",
     "output_type": "stream",
     "text": [
      "\u001b[32m[I 2022-08-15 23:10:27,416]\u001b[0m Trial 25 finished with value: 6516.802816901409 and parameters: {'kErase': 1, 'kRadius': 4, 'kAnnealingA': 11.32511890200095, 'kAnnealingB': 0.7617362373236982, 'kAnnealingStart': 24.936902761794695, 'kSkipRatio': 0.7588618243000652, 'kTargetDeterminationTrials': 4, 'kAttractionRatio': 0.19977435681822067, 'kMaxAttractionDistance': 9, 'kStartAttraction': 0.3071905440347077}. Best is trial 24 with value: 6623.173708920188.\u001b[0m\n"
     ]
    },
    {
     "name": "stdout",
     "output_type": "stream",
     "text": [
      "index_parallel='0026'\n"
     ]
    },
    {
     "name": "stderr",
     "output_type": "stream",
     "text": [
      "\u001b[32m[I 2022-08-15 23:14:28,424]\u001b[0m Trial 26 finished with value: 6244.455399061033 and parameters: {'kErase': 1, 'kRadius': 4, 'kAnnealingA': -4.389168121248636, 'kAnnealingB': 0.531804840775568, 'kAnnealingStart': 11.446647413781445, 'kSkipRatio': 0.46723812985430224, 'kTargetDeterminationTrials': 7, 'kAttractionRatio': 0.47555166038628993, 'kMaxAttractionDistance': 20, 'kStartAttraction': 0.016332181137834502}. Best is trial 24 with value: 6623.173708920188.\u001b[0m\n"
     ]
    },
    {
     "name": "stdout",
     "output_type": "stream",
     "text": [
      "index_parallel='0027'\n"
     ]
    },
    {
     "name": "stderr",
     "output_type": "stream",
     "text": [
      "\u001b[32m[I 2022-08-15 23:18:29,455]\u001b[0m Trial 27 finished with value: 6285.910798122066 and parameters: {'kErase': 2, 'kRadius': 6, 'kAnnealingA': -0.49444977855559324, 'kAnnealingB': 1.3356889667995147, 'kAnnealingStart': 49.171103591683945, 'kSkipRatio': 0.5411311680466051, 'kTargetDeterminationTrials': 4, 'kAttractionRatio': 0.06180593095464802, 'kMaxAttractionDistance': 12, 'kStartAttraction': 0.876801005176276}. Best is trial 24 with value: 6623.173708920188.\u001b[0m\n"
     ]
    },
    {
     "name": "stdout",
     "output_type": "stream",
     "text": [
      "index_parallel='0028'\n"
     ]
    },
    {
     "name": "stderr",
     "output_type": "stream",
     "text": [
      "\u001b[32m[I 2022-08-15 23:22:30,447]\u001b[0m Trial 28 finished with value: 6188.769953051643 and parameters: {'kErase': 1, 'kRadius': 4, 'kAnnealingA': 5.891515591679093, 'kAnnealingB': 2.5306913322544426, 'kAnnealingStart': 3.969067039855148, 'kSkipRatio': 0.5908210555192731, 'kTargetDeterminationTrials': 11, 'kAttractionRatio': 0.22652849025180508, 'kMaxAttractionDistance': 15, 'kStartAttraction': 0.0022083942834424434}. Best is trial 24 with value: 6623.173708920188.\u001b[0m\n"
     ]
    },
    {
     "name": "stdout",
     "output_type": "stream",
     "text": [
      "index_parallel='0029'\n"
     ]
    },
    {
     "name": "stderr",
     "output_type": "stream",
     "text": [
      "\u001b[32m[I 2022-08-15 23:26:31,253]\u001b[0m Trial 29 finished with value: 6345.699530516432 and parameters: {'kErase': 1, 'kRadius': 5, 'kAnnealingA': 2.488435338429725, 'kAnnealingB': 0.02298829577673822, 'kAnnealingStart': 29.9960220347299, 'kSkipRatio': 0.21324065966459094, 'kTargetDeterminationTrials': 3, 'kAttractionRatio': 0.5979331022280153, 'kMaxAttractionDistance': 47, 'kStartAttraction': 0.47739727605044197}. Best is trial 24 with value: 6623.173708920188.\u001b[0m\n"
     ]
    },
    {
     "name": "stdout",
     "output_type": "stream",
     "text": [
      "index_parallel='0030'\n"
     ]
    },
    {
     "name": "stderr",
     "output_type": "stream",
     "text": [
      "\u001b[32m[I 2022-08-15 23:30:32,462]\u001b[0m Trial 30 finished with value: 6471.4647887323945 and parameters: {'kErase': 2, 'kRadius': 3, 'kAnnealingA': -4.689029248669741, 'kAnnealingB': 1.2926356426719452, 'kAnnealingStart': 48.872142963387546, 'kSkipRatio': 0.6865223223930214, 'kTargetDeterminationTrials': 5, 'kAttractionRatio': 0.3868839248395697, 'kMaxAttractionDistance': 5, 'kStartAttraction': 0.047071192705846844}. Best is trial 24 with value: 6623.173708920188.\u001b[0m\n"
     ]
    },
    {
     "name": "stdout",
     "output_type": "stream",
     "text": [
      "index_parallel='0031'\n"
     ]
    },
    {
     "name": "stderr",
     "output_type": "stream",
     "text": [
      "\u001b[32m[I 2022-08-15 23:34:33,506]\u001b[0m Trial 31 finished with value: 6551.5352112676055 and parameters: {'kErase': 1, 'kRadius': 5, 'kAnnealingA': 1.0315896647275764, 'kAnnealingB': 1.2460285768952504, 'kAnnealingStart': 21.47650416017218, 'kSkipRatio': 0.5238557235676489, 'kTargetDeterminationTrials': 3, 'kAttractionRatio': 0.6674894573898519, 'kMaxAttractionDistance': 10, 'kStartAttraction': 0.17077471545946993}. Best is trial 24 with value: 6623.173708920188.\u001b[0m\n"
     ]
    },
    {
     "name": "stdout",
     "output_type": "stream",
     "text": [
      "index_parallel='0032'\n"
     ]
    },
    {
     "name": "stderr",
     "output_type": "stream",
     "text": [
      "\u001b[32m[I 2022-08-15 23:38:34,350]\u001b[0m Trial 32 finished with value: 6541.333333333333 and parameters: {'kErase': 1, 'kRadius': 5, 'kAnnealingA': 2.931921047993519, 'kAnnealingB': 1.6014501644501034, 'kAnnealingStart': 21.036073174809584, 'kSkipRatio': 0.49311194014741305, 'kTargetDeterminationTrials': 4, 'kAttractionRatio': 0.8618049580877537, 'kMaxAttractionDistance': 12, 'kStartAttraction': 0.060478932902384444}. Best is trial 24 with value: 6623.173708920188.\u001b[0m\n"
     ]
    },
    {
     "name": "stdout",
     "output_type": "stream",
     "text": [
      "index_parallel='0033'\n"
     ]
    },
    {
     "name": "stderr",
     "output_type": "stream",
     "text": [
      "\u001b[32m[I 2022-08-15 23:42:35,373]\u001b[0m Trial 33 finished with value: 6478.328638497653 and parameters: {'kErase': 1, 'kRadius': 5, 'kAnnealingA': 1.4557412737309967, 'kAnnealingB': 1.0760059309741323, 'kAnnealingStart': 12.643156473365833, 'kSkipRatio': 0.5080040424300595, 'kTargetDeterminationTrials': 2, 'kAttractionRatio': 0.4196952932549428, 'kMaxAttractionDistance': 8, 'kStartAttraction': 0.30272961273968485}. Best is trial 24 with value: 6623.173708920188.\u001b[0m\n"
     ]
    },
    {
     "name": "stdout",
     "output_type": "stream",
     "text": [
      "index_parallel='0034'\n"
     ]
    },
    {
     "name": "stderr",
     "output_type": "stream",
     "text": [
      "\u001b[32m[I 2022-08-15 23:46:36,685]\u001b[0m Trial 34 finished with value: 6236.948356807512 and parameters: {'kErase': 2, 'kRadius': 6, 'kAnnealingA': -0.7538083688426438, 'kAnnealingB': 2.1665014933314826, 'kAnnealingStart': 10.105522342206374, 'kSkipRatio': 0.4074246131380065, 'kTargetDeterminationTrials': 8, 'kAttractionRatio': 0.641611176733328, 'kMaxAttractionDistance': 11, 'kStartAttraction': 0.01931625419438001}. Best is trial 24 with value: 6623.173708920188.\u001b[0m\n"
     ]
    },
    {
     "name": "stdout",
     "output_type": "stream",
     "text": [
      "index_parallel='0035'\n"
     ]
    },
    {
     "name": "stderr",
     "output_type": "stream",
     "text": [
      "\u001b[32m[I 2022-08-15 23:50:37,510]\u001b[0m Trial 35 finished with value: 6550.788732394366 and parameters: {'kErase': 1, 'kRadius': 5, 'kAnnealingA': 10.604813501710145, 'kAnnealingB': 1.6739525163069247, 'kAnnealingStart': 27.169031750929957, 'kSkipRatio': 0.6027394260888411, 'kTargetDeterminationTrials': 6, 'kAttractionRatio': 0.26006263880709424, 'kMaxAttractionDistance': 14, 'kStartAttraction': 0.15024274722382056}. Best is trial 24 with value: 6623.173708920188.\u001b[0m\n"
     ]
    },
    {
     "name": "stdout",
     "output_type": "stream",
     "text": [
      "index_parallel='0036'\n"
     ]
    },
    {
     "name": "stderr",
     "output_type": "stream",
     "text": [
      "\u001b[32m[I 2022-08-15 23:54:38,646]\u001b[0m Trial 36 finished with value: 6502.455399061033 and parameters: {'kErase': 2, 'kRadius': 3, 'kAnnealingA': 3.7332227925247485, 'kAnnealingB': 1.1633612223027032, 'kAnnealingStart': 37.156519360473524, 'kSkipRatio': 0.5609584410933444, 'kTargetDeterminationTrials': 5, 'kAttractionRatio': 0.16060041155544938, 'kMaxAttractionDistance': 18, 'kStartAttraction': 0.2255381815756941}. Best is trial 24 with value: 6623.173708920188.\u001b[0m\n"
     ]
    },
    {
     "name": "stdout",
     "output_type": "stream",
     "text": [
      "index_parallel='0037'\n"
     ]
    },
    {
     "name": "stderr",
     "output_type": "stream",
     "text": [
      "\u001b[32m[I 2022-08-15 23:58:39,527]\u001b[0m Trial 37 finished with value: 6303.460093896713 and parameters: {'kErase': 1, 'kRadius': 4, 'kAnnealingA': 6.851129953763172, 'kAnnealingB': 0.6669793928436512, 'kAnnealingStart': 18.661085005233055, 'kSkipRatio': 0.2699409703842304, 'kTargetDeterminationTrials': 11, 'kAttractionRatio': 0.338398479492205, 'kMaxAttractionDistance': 4, 'kStartAttraction': 0.10774057555092058}. Best is trial 24 with value: 6623.173708920188.\u001b[0m\n"
     ]
    },
    {
     "name": "stdout",
     "output_type": "stream",
     "text": [
      "index_parallel='0038'\n"
     ]
    },
    {
     "name": "stderr",
     "output_type": "stream",
     "text": [
      "\u001b[32m[I 2022-08-16 00:02:40,784]\u001b[0m Trial 38 finished with value: 6094.370892018779 and parameters: {'kErase': 4, 'kRadius': 4, 'kAnnealingA': -1.248431744256341, 'kAnnealingB': 1.3933610183724419, 'kAnnealingStart': 13.631011052947656, 'kSkipRatio': 0.40585905581607207, 'kTargetDeterminationTrials': 4, 'kAttractionRatio': 0.5308018791070076, 'kMaxAttractionDistance': 6, 'kStartAttraction': 0.01358759518000177}. Best is trial 24 with value: 6623.173708920188.\u001b[0m\n"
     ]
    },
    {
     "name": "stdout",
     "output_type": "stream",
     "text": [
      "index_parallel='0039'\n"
     ]
    },
    {
     "name": "stderr",
     "output_type": "stream",
     "text": [
      "\u001b[32m[I 2022-08-16 00:06:41,632]\u001b[0m Trial 39 finished with value: 6414.107981220657 and parameters: {'kErase': 1, 'kRadius': 3, 'kAnnealingA': 1.1529201730638656, 'kAnnealingB': 0.9581027479685638, 'kAnnealingStart': 8.734795888176363, 'kSkipRatio': 0.48720075665401874, 'kTargetDeterminationTrials': 1, 'kAttractionRatio': 0.07216394671308073, 'kMaxAttractionDistance': 15, 'kStartAttraction': 0.588400170071292}. Best is trial 24 with value: 6623.173708920188.\u001b[0m\n"
     ]
    },
    {
     "name": "stdout",
     "output_type": "stream",
     "text": [
      "index_parallel='0040'\n"
     ]
    },
    {
     "name": "stderr",
     "output_type": "stream",
     "text": [
      "\u001b[32m[I 2022-08-16 00:10:43,192]\u001b[0m Trial 40 finished with value: 6335.723004694835 and parameters: {'kErase': 3, 'kRadius': 6, 'kAnnealingA': -3.573682424363308, 'kAnnealingB': 0.3489165011347245, 'kAnnealingStart': 61.365581483171205, 'kSkipRatio': 0.5312720970246871, 'kTargetDeterminationTrials': 6, 'kAttractionRatio': 0.3667352466815547, 'kMaxAttractionDistance': 5, 'kStartAttraction': 0.009670759985313743}. Best is trial 24 with value: 6623.173708920188.\u001b[0m\n"
     ]
    },
    {
     "name": "stdout",
     "output_type": "stream",
     "text": [
      "index_parallel='0041'\n"
     ]
    },
    {
     "name": "stderr",
     "output_type": "stream",
     "text": [
      "\u001b[32m[I 2022-08-16 00:14:44,134]\u001b[0m Trial 41 finished with value: 6527.68544600939 and parameters: {'kErase': 1, 'kRadius': 5, 'kAnnealingA': 0.7309993734667022, 'kAnnealingB': 1.228886875089748, 'kAnnealingStart': 21.227190425153736, 'kSkipRatio': 0.4449133687209334, 'kTargetDeterminationTrials': 3, 'kAttractionRatio': 0.687889496072542, 'kMaxAttractionDistance': 9, 'kStartAttraction': 0.17223958302007664}. Best is trial 24 with value: 6623.173708920188.\u001b[0m\n"
     ]
    },
    {
     "name": "stdout",
     "output_type": "stream",
     "text": [
      "index_parallel='0042'\n"
     ]
    },
    {
     "name": "stderr",
     "output_type": "stream",
     "text": [
      "\u001b[32m[I 2022-08-16 00:18:44,898]\u001b[0m Trial 42 finished with value: 6636.943661971831 and parameters: {'kErase': 1, 'kRadius': 5, 'kAnnealingA': 1.7510806099614171, 'kAnnealingB': 1.4059429414366957, 'kAnnealingStart': 30.944494720078026, 'kSkipRatio': 0.537174183624321, 'kTargetDeterminationTrials': 3, 'kAttractionRatio': 0.6145523140762812, 'kMaxAttractionDistance': 11, 'kStartAttraction': 0.23151954958326257}. Best is trial 42 with value: 6636.943661971831.\u001b[0m\n"
     ]
    },
    {
     "name": "stdout",
     "output_type": "stream",
     "text": [
      "Updated! 6636.943661971831\n",
      "index_parallel='0043'\n"
     ]
    },
    {
     "name": "stderr",
     "output_type": "stream",
     "text": [
      "\u001b[32m[I 2022-08-16 00:22:45,896]\u001b[0m Trial 43 finished with value: 6554.708920187793 and parameters: {'kErase': 1, 'kRadius': 5, 'kAnnealingA': 3.9155232891479743, 'kAnnealingB': 1.5061198299778964, 'kAnnealingStart': 35.76035836579899, 'kSkipRatio': 0.5702098869418885, 'kTargetDeterminationTrials': 2, 'kAttractionRatio': 0.5530464209930628, 'kMaxAttractionDistance': 13, 'kStartAttraction': 0.2407140688921428}. Best is trial 42 with value: 6636.943661971831.\u001b[0m\n"
     ]
    },
    {
     "name": "stdout",
     "output_type": "stream",
     "text": [
      "index_parallel='0044'\n"
     ]
    },
    {
     "name": "stderr",
     "output_type": "stream",
     "text": [
      "\u001b[32m[I 2022-08-16 00:26:47,124]\u001b[0m Trial 44 finished with value: 6499.835680751174 and parameters: {'kErase': 2, 'kRadius': 5, 'kAnnealingA': 6.102702125348811, 'kAnnealingB': 0.8939897849548006, 'kAnnealingStart': 29.693191954264204, 'kSkipRatio': 0.6312543095049706, 'kTargetDeterminationTrials': 3, 'kAttractionRatio': 0.4370567056357388, 'kMaxAttractionDistance': 17, 'kStartAttraction': 0.39607062767843226}. Best is trial 42 with value: 6636.943661971831.\u001b[0m\n"
     ]
    },
    {
     "name": "stdout",
     "output_type": "stream",
     "text": [
      "index_parallel='0045'\n"
     ]
    },
    {
     "name": "stderr",
     "output_type": "stream",
     "text": [
      "\u001b[32m[I 2022-08-16 00:30:47,764]\u001b[0m Trial 45 finished with value: 6568.4131455399065 and parameters: {'kErase': 1, 'kRadius': 2, 'kAnnealingA': 2.0783256325588733, 'kAnnealingB': 2.170685843825518, 'kAnnealingStart': 38.6298272460358, 'kSkipRatio': 0.3715792277974351, 'kTargetDeterminationTrials': 5, 'kAttractionRatio': 0.2944644185318325, 'kMaxAttractionDistance': 8, 'kStartAttraction': 0.11683026718417693}. Best is trial 42 with value: 6636.943661971831.\u001b[0m\n"
     ]
    },
    {
     "name": "stdout",
     "output_type": "stream",
     "text": [
      "index_parallel='0046'\n"
     ]
    },
    {
     "name": "stderr",
     "output_type": "stream",
     "text": [
      "\u001b[32m[I 2022-08-16 00:34:48,670]\u001b[0m Trial 46 finished with value: 6378.12676056338 and parameters: {'kErase': 1, 'kRadius': 2, 'kAnnealingA': -6.777745505881877, 'kAnnealingB': 2.1954287767530056, 'kAnnealingStart': 86.4197798068131, 'kSkipRatio': 0.3568651225239384, 'kTargetDeterminationTrials': 5, 'kAttractionRatio': 0.3116349051302855, 'kMaxAttractionDistance': 6, 'kStartAttraction': 0.12467927104499796}. Best is trial 42 with value: 6636.943661971831.\u001b[0m\n"
     ]
    },
    {
     "name": "stdout",
     "output_type": "stream",
     "text": [
      "index_parallel='0047'\n"
     ]
    },
    {
     "name": "stderr",
     "output_type": "stream",
     "text": [
      "\u001b[32m[I 2022-08-16 00:38:50,754]\u001b[0m Trial 47 finished with value: 5666.037558685446 and parameters: {'kErase': 5, 'kRadius': 2, 'kAnnealingA': 8.168298177988602, 'kAnnealingB': 2.5528547834841024, 'kAnnealingStart': 42.86433209812246, 'kSkipRatio': 0.3512312142749695, 'kTargetDeterminationTrials': 9, 'kAttractionRatio': 0.2567447702266185, 'kMaxAttractionDistance': 94, 'kStartAttraction': 0.024728270094472565}. Best is trial 42 with value: 6636.943661971831.\u001b[0m\n"
     ]
    },
    {
     "name": "stdout",
     "output_type": "stream",
     "text": [
      "index_parallel='0048'\n"
     ]
    },
    {
     "name": "stderr",
     "output_type": "stream",
     "text": [
      "\u001b[32m[I 2022-08-16 00:42:51,794]\u001b[0m Trial 48 finished with value: 6382.31455399061 and parameters: {'kErase': 2, 'kRadius': 2, 'kAnnealingA': 2.4111839366322942, 'kAnnealingB': 2.773177155925408, 'kAnnealingStart': 6.863424608483797, 'kSkipRatio': 0.2998008479904065, 'kTargetDeterminationTrials': 19, 'kAttractionRatio': 0.138501811985634, 'kMaxAttractionDistance': 4, 'kStartAttraction': 0.6653378220830808}. Best is trial 42 with value: 6636.943661971831.\u001b[0m\n"
     ]
    },
    {
     "name": "stdout",
     "output_type": "stream",
     "text": [
      "index_parallel='0049'\n"
     ]
    },
    {
     "name": "stderr",
     "output_type": "stream",
     "text": [
      "\u001b[32m[I 2022-08-16 00:46:52,639]\u001b[0m Trial 49 finished with value: 6052.178403755868 and parameters: {'kErase': 1, 'kRadius': 2, 'kAnnealingA': 7.222702534022805, 'kAnnealingB': 2.3242085099591074, 'kAnnealingStart': 64.0351887227982, 'kSkipRatio': 0.7443556358689444, 'kTargetDeterminationTrials': 6, 'kAttractionRatio': 0.1929078284079899, 'kMaxAttractionDistance': 8, 'kStartAttraction': 0.37245995792727726}. Best is trial 42 with value: 6636.943661971831.\u001b[0m\n"
     ]
    },
    {
     "name": "stdout",
     "output_type": "stream",
     "text": [
      "index_parallel='0050'\n"
     ]
    },
    {
     "name": "stderr",
     "output_type": "stream",
     "text": [
      "\u001b[32m[I 2022-08-16 00:50:54,151]\u001b[0m Trial 50 finished with value: 6327.708920187793 and parameters: {'kErase': 3, 'kRadius': 3, 'kAnnealingA': 10.36747911703526, 'kAnnealingB': 2.033324926043851, 'kAnnealingStart': 18.32266925886877, 'kSkipRatio': 0.4228093817299931, 'kTargetDeterminationTrials': 16, 'kAttractionRatio': 0.300395549631105, 'kMaxAttractionDistance': 8, 'kStartAttraction': 0.0040062233769387065}. Best is trial 42 with value: 6636.943661971831.\u001b[0m\n"
     ]
    },
    {
     "name": "stdout",
     "output_type": "stream",
     "text": [
      "index_parallel='0051'\n"
     ]
    },
    {
     "name": "stderr",
     "output_type": "stream",
     "text": [
      "\u001b[32m[I 2022-08-16 00:54:55,137]\u001b[0m Trial 51 finished with value: 6631.539906103287 and parameters: {'kErase': 1, 'kRadius': 2, 'kAnnealingA': -0.26489581786965144, 'kAnnealingB': 1.6812674888678154, 'kAnnealingStart': 42.680503532185476, 'kSkipRatio': 0.522106772103127, 'kTargetDeterminationTrials': 4, 'kAttractionRatio': 0.7891521231331293, 'kMaxAttractionDistance': 11, 'kStartAttraction': 0.08503491963030396}. Best is trial 42 with value: 6636.943661971831.\u001b[0m\n"
     ]
    },
    {
     "name": "stdout",
     "output_type": "stream",
     "text": [
      "index_parallel='0052'\n"
     ]
    },
    {
     "name": "stderr",
     "output_type": "stream",
     "text": [
      "\u001b[32m[I 2022-08-16 00:58:55,872]\u001b[0m Trial 52 finished with value: 6600.769953051643 and parameters: {'kErase': 1, 'kRadius': 2, 'kAnnealingA': -2.1348346792445394, 'kAnnealingB': 1.652129824703703, 'kAnnealingStart': 31.91881724754008, 'kSkipRatio': 0.4676653712206385, 'kTargetDeterminationTrials': 4, 'kAttractionRatio': 0.7682039972353241, 'kMaxAttractionDistance': 10, 'kStartAttraction': 0.05258961380073586}. Best is trial 42 with value: 6636.943661971831.\u001b[0m\n"
     ]
    },
    {
     "name": "stdout",
     "output_type": "stream",
     "text": [
      "index_parallel='0053'\n"
     ]
    },
    {
     "name": "stderr",
     "output_type": "stream",
     "text": [
      "\u001b[32m[I 2022-08-16 01:02:56,743]\u001b[0m Trial 53 finished with value: 6577.197183098591 and parameters: {'kErase': 1, 'kRadius': 2, 'kAnnealingA': -2.0285040395451417, 'kAnnealingB': 1.749639066271925, 'kAnnealingStart': 31.947654782008343, 'kSkipRatio': 0.47412527250376013, 'kTargetDeterminationTrials': 4, 'kAttractionRatio': 0.7456464485966119, 'kMaxAttractionDistance': 10, 'kStartAttraction': 0.0464040738467288}. Best is trial 42 with value: 6636.943661971831.\u001b[0m\n"
     ]
    },
    {
     "name": "stdout",
     "output_type": "stream",
     "text": [
      "index_parallel='0054'\n"
     ]
    },
    {
     "name": "stderr",
     "output_type": "stream",
     "text": [
      "\u001b[32m[I 2022-08-16 01:06:57,982]\u001b[0m Trial 54 finished with value: 6578.924882629108 and parameters: {'kErase': 2, 'kRadius': 2, 'kAnnealingA': -2.0695665229524485, 'kAnnealingB': 1.7531225930143113, 'kAnnealingStart': 32.12197197575701, 'kSkipRatio': 0.47024307748567207, 'kTargetDeterminationTrials': 4, 'kAttractionRatio': 0.7369240268898024, 'kMaxAttractionDistance': 11, 'kStartAttraction': 0.04825533729892374}. Best is trial 42 with value: 6636.943661971831.\u001b[0m\n"
     ]
    },
    {
     "name": "stdout",
     "output_type": "stream",
     "text": [
      "index_parallel='0055'\n"
     ]
    },
    {
     "name": "stderr",
     "output_type": "stream",
     "text": [
      "\u001b[32m[I 2022-08-16 01:10:59,016]\u001b[0m Trial 55 finished with value: 6488.8779342723 and parameters: {'kErase': 2, 'kRadius': 3, 'kAnnealingA': -3.2324194011693357, 'kAnnealingB': 1.585541547615214, 'kAnnealingStart': 45.85120196184223, 'kSkipRatio': 0.433700196364409, 'kTargetDeterminationTrials': 7, 'kAttractionRatio': 0.5777785626039361, 'kMaxAttractionDistance': 11, 'kStartAttraction': 0.05874525489329708}. Best is trial 42 with value: 6636.943661971831.\u001b[0m\n"
     ]
    },
    {
     "name": "stdout",
     "output_type": "stream",
     "text": [
      "index_parallel='0056'\n"
     ]
    },
    {
     "name": "stderr",
     "output_type": "stream",
     "text": [
      "\u001b[32m[I 2022-08-16 01:15:00,178]\u001b[0m Trial 56 finished with value: 6178.220657276996 and parameters: {'kErase': 3, 'kRadius': 3, 'kAnnealingA': -0.07168027796230417, 'kAnnealingB': 1.4464886558208188, 'kAnnealingStart': 96.9650458572086, 'kSkipRatio': 0.38123123436826706, 'kTargetDeterminationTrials': 6, 'kAttractionRatio': 0.7578813152240256, 'kMaxAttractionDistance': 20, 'kStartAttraction': 0.03382900154846622}. Best is trial 42 with value: 6636.943661971831.\u001b[0m\n"
     ]
    },
    {
     "name": "stdout",
     "output_type": "stream",
     "text": [
      "index_parallel='0057'\n"
     ]
    },
    {
     "name": "stderr",
     "output_type": "stream",
     "text": [
      "\u001b[32m[I 2022-08-16 01:19:01,565]\u001b[0m Trial 57 finished with value: 6345.892018779343 and parameters: {'kErase': 2, 'kRadius': 2, 'kAnnealingA': -9.092723819313438, 'kAnnealingB': 1.8929521607214153, 'kAnnealingStart': 57.70026925019431, 'kSkipRatio': 0.5097178667503796, 'kTargetDeterminationTrials': 5, 'kAttractionRatio': 0.4587452844114118, 'kMaxAttractionDistance': 14, 'kStartAttraction': 0.0795685176102157}. Best is trial 42 with value: 6636.943661971831.\u001b[0m\n"
     ]
    },
    {
     "name": "stdout",
     "output_type": "stream",
     "text": [
      "index_parallel='0058'\n"
     ]
    },
    {
     "name": "stderr",
     "output_type": "stream",
     "text": [
      "\u001b[32m[I 2022-08-16 01:23:02,907]\u001b[0m Trial 58 finished with value: 6566.338028169014 and parameters: {'kErase': 2, 'kRadius': 2, 'kAnnealingA': -1.0722525827379372, 'kAnnealingB': 1.748856868514602, 'kAnnealingStart': 40.897965229701235, 'kSkipRatio': 0.4573975887492484, 'kTargetDeterminationTrials': 4, 'kAttractionRatio': 0.8941291332110718, 'kMaxAttractionDistance': 11, 'kStartAttraction': 0.0629694456195735}. Best is trial 42 with value: 6636.943661971831.\u001b[0m\n"
     ]
    },
    {
     "name": "stdout",
     "output_type": "stream",
     "text": [
      "index_parallel='0059'\n"
     ]
    },
    {
     "name": "stderr",
     "output_type": "stream",
     "text": [
      "\u001b[32m[I 2022-08-16 01:27:03,468]\u001b[0m Trial 59 finished with value: 6417.953051643192 and parameters: {'kErase': 1, 'kRadius': 2, 'kAnnealingA': -5.367644259524003, 'kAnnealingB': 1.6383193184922407, 'kAnnealingStart': 26.32754858289464, 'kSkipRatio': 0.5432074099839881, 'kTargetDeterminationTrials': 8, 'kAttractionRatio': 0.6216699526942119, 'kMaxAttractionDistance': 16, 'kStartAttraction': 0.2365152519738722}. Best is trial 42 with value: 6636.943661971831.\u001b[0m\n"
     ]
    },
    {
     "name": "stdout",
     "output_type": "stream",
     "text": [
      "index_parallel='0060'\n"
     ]
    },
    {
     "name": "stderr",
     "output_type": "stream",
     "text": [
      "\u001b[32m[I 2022-08-16 01:31:04,795]\u001b[0m Trial 60 finished with value: 6245.239436619719 and parameters: {'kErase': 2, 'kRadius': 2, 'kAnnealingA': -2.868649361843321, 'kAnnealingB': 2.05791529033908, 'kAnnealingStart': 1.499678092189263, 'kSkipRatio': 0.48380805082728984, 'kTargetDeterminationTrials': 3, 'kAttractionRatio': 0.5020926165533917, 'kMaxAttractionDistance': 9, 'kStartAttraction': 0.024290105250634023}. Best is trial 42 with value: 6636.943661971831.\u001b[0m\n"
     ]
    },
    {
     "name": "stdout",
     "output_type": "stream",
     "text": [
      "index_parallel='0061'\n"
     ]
    },
    {
     "name": "stderr",
     "output_type": "stream",
     "text": [
      "\u001b[32m[I 2022-08-16 01:35:06,051]\u001b[0m Trial 61 finished with value: 6548.596244131455 and parameters: {'kErase': 1, 'kRadius': 2, 'kAnnealingA': -2.034273861807801, 'kAnnealingB': 1.8395855437240263, 'kAnnealingStart': 31.997506306839604, 'kSkipRatio': 0.46691404319458996, 'kTargetDeterminationTrials': 4, 'kAttractionRatio': 0.7417156411337019, 'kMaxAttractionDistance': 13, 'kStartAttraction': 0.03780643345654106}. Best is trial 42 with value: 6636.943661971831.\u001b[0m\n"
     ]
    },
    {
     "name": "stdout",
     "output_type": "stream",
     "text": [
      "index_parallel='0062'\n"
     ]
    },
    {
     "name": "stderr",
     "output_type": "stream",
     "text": [
      "\u001b[32m[I 2022-08-16 01:39:06,733]\u001b[0m Trial 62 finished with value: 6580.356807511737 and parameters: {'kErase': 1, 'kRadius': 2, 'kAnnealingA': -1.657808552186228, 'kAnnealingB': 1.7476598495970987, 'kAnnealingStart': 31.625600880745505, 'kSkipRatio': 0.4810786585295002, 'kTargetDeterminationTrials': 4, 'kAttractionRatio': 0.7671213299401666, 'kMaxAttractionDistance': 10, 'kStartAttraction': 0.05000620437687507}. Best is trial 42 with value: 6636.943661971831.\u001b[0m\n"
     ]
    },
    {
     "name": "stdout",
     "output_type": "stream",
     "text": [
      "index_parallel='0063'\n"
     ]
    },
    {
     "name": "stderr",
     "output_type": "stream",
     "text": [
      "\u001b[32m[I 2022-08-16 01:43:07,591]\u001b[0m Trial 63 finished with value: 6596.765258215963 and parameters: {'kErase': 1, 'kRadius': 2, 'kAnnealingA': 0.10711004537337304, 'kAnnealingB': 1.5043567251753696, 'kAnnealingStart': 73.24776192757754, 'kSkipRatio': 0.45009824322051917, 'kTargetDeterminationTrials': 7, 'kAttractionRatio': 0.7857199714199852, 'kMaxAttractionDistance': 7, 'kStartAttraction': 0.05066987873254258}. Best is trial 42 with value: 6636.943661971831.\u001b[0m\n"
     ]
    },
    {
     "name": "stdout",
     "output_type": "stream",
     "text": [
      "index_parallel='0064'\n"
     ]
    },
    {
     "name": "stderr",
     "output_type": "stream",
     "text": [
      "\u001b[32m[I 2022-08-16 01:47:08,519]\u001b[0m Trial 64 finished with value: 6617.985915492958 and parameters: {'kErase': 1, 'kRadius': 3, 'kAnnealingA': 0.22129466525967012, 'kAnnealingB': 1.5008795942072244, 'kAnnealingStart': 56.2887593291882, 'kSkipRatio': 0.50752089971771, 'kTargetDeterminationTrials': 10, 'kAttractionRatio': 0.6373759611452549, 'kMaxAttractionDistance': 7, 'kStartAttraction': 0.026261930717460663}. Best is trial 42 with value: 6636.943661971831.\u001b[0m\n"
     ]
    },
    {
     "name": "stdout",
     "output_type": "stream",
     "text": [
      "index_parallel='0065'\n"
     ]
    },
    {
     "name": "stderr",
     "output_type": "stream",
     "text": [
      "\u001b[32m[I 2022-08-16 01:51:09,744]\u001b[0m Trial 65 finished with value: 6536.338028169014 and parameters: {'kErase': 1, 'kRadius': 4, 'kAnnealingA': 0.03167887918285217, 'kAnnealingB': 1.1204382787186553, 'kAnnealingStart': 71.54949469958711, 'kSkipRatio': 0.5003299433116675, 'kTargetDeterminationTrials': 13, 'kAttractionRatio': 0.6186231340313094, 'kMaxAttractionDistance': 7, 'kStartAttraction': 0.028871955170953374}. Best is trial 42 with value: 6636.943661971831.\u001b[0m\n"
     ]
    },
    {
     "name": "stdout",
     "output_type": "stream",
     "text": [
      "index_parallel='0066'\n"
     ]
    },
    {
     "name": "stderr",
     "output_type": "stream",
     "text": [
      "\u001b[32m[I 2022-08-16 01:55:10,705]\u001b[0m Trial 66 finished with value: 6631.366197183099 and parameters: {'kErase': 1, 'kRadius': 3, 'kAnnealingA': 1.8452053522677525, 'kAnnealingB': 1.517939919702318, 'kAnnealingStart': 52.952567248867076, 'kSkipRatio': 0.5527384571893775, 'kTargetDeterminationTrials': 10, 'kAttractionRatio': 0.8913964657670023, 'kMaxAttractionDistance': 6, 'kStartAttraction': 0.09592425318825648}. Best is trial 42 with value: 6636.943661971831.\u001b[0m\n"
     ]
    },
    {
     "name": "stdout",
     "output_type": "stream",
     "text": [
      "index_parallel='0067'\n"
     ]
    },
    {
     "name": "stderr",
     "output_type": "stream",
     "text": [
      "\u001b[32m[I 2022-08-16 01:59:11,849]\u001b[0m Trial 67 finished with value: 6119.920187793427 and parameters: {'kErase': 1, 'kRadius': 3, 'kAnnealingA': 3.9191715981486177, 'kAnnealingB': 1.5160616479811324, 'kAnnealingStart': 75.29670533144353, 'kSkipRatio': 0.5607921982647528, 'kTargetDeterminationTrials': 12, 'kAttractionRatio': 0.4024161787570734, 'kMaxAttractionDistance': 6, 'kStartAttraction': 0.07876301915166031}. Best is trial 42 with value: 6636.943661971831.\u001b[0m\n"
     ]
    },
    {
     "name": "stdout",
     "output_type": "stream",
     "text": [
      "index_parallel='0068'\n"
     ]
    },
    {
     "name": "stderr",
     "output_type": "stream",
     "text": [
      "\u001b[32m[I 2022-08-16 02:03:12,795]\u001b[0m Trial 68 finished with value: 6552.197183098591 and parameters: {'kErase': 1, 'kRadius': 3, 'kAnnealingA': 0.14030078089594442, 'kAnnealingB': 1.3802585158341296, 'kAnnealingStart': 54.70565005909248, 'kSkipRatio': 0.5860930898116604, 'kTargetDeterminationTrials': 7, 'kAttractionRatio': 0.49268044927375093, 'kMaxAttractionDistance': 5, 'kStartAttraction': 0.14209168308368403}. Best is trial 42 with value: 6636.943661971831.\u001b[0m\n"
     ]
    },
    {
     "name": "stdout",
     "output_type": "stream",
     "text": [
      "index_parallel='0069'\n"
     ]
    },
    {
     "name": "stderr",
     "output_type": "stream",
     "text": [
      "\u001b[32m[I 2022-08-16 02:07:13,837]\u001b[0m Trial 69 finished with value: 6413.286384976525 and parameters: {'kErase': 1, 'kRadius': 3, 'kAnnealingA': -4.036307705366954, 'kAnnealingB': 1.4786118192552353, 'kAnnealingStart': 77.18941093944916, 'kSkipRatio': 0.529463601160873, 'kTargetDeterminationTrials': 9, 'kAttractionRatio': 0.036349602463372065, 'kMaxAttractionDistance': 61, 'kStartAttraction': 0.09103310891466368}. Best is trial 42 with value: 6636.943661971831.\u001b[0m\n"
     ]
    },
    {
     "name": "stdout",
     "output_type": "stream",
     "text": [
      "index_parallel='0070'\n"
     ]
    },
    {
     "name": "stderr",
     "output_type": "stream",
     "text": [
      "\u001b[32m[I 2022-08-16 02:11:14,786]\u001b[0m Trial 70 finished with value: 5664.399061032864 and parameters: {'kErase': 1, 'kRadius': 3, 'kAnnealingA': 3.460297639304513, 'kAnnealingB': 1.2013799350024736, 'kAnnealingStart': 95.11282513772494, 'kSkipRatio': 0.5493866542797523, 'kTargetDeterminationTrials': 10, 'kAttractionRatio': 0.010331584464812983, 'kMaxAttractionDistance': 9, 'kStartAttraction': 0.022584119266410792}. Best is trial 42 with value: 6636.943661971831.\u001b[0m\n"
     ]
    },
    {
     "name": "stdout",
     "output_type": "stream",
     "text": [
      "index_parallel='0071'\n"
     ]
    },
    {
     "name": "stderr",
     "output_type": "stream",
     "text": [
      "\u001b[32m[I 2022-08-16 02:15:15,496]\u001b[0m Trial 71 finished with value: 6542.225352112676 and parameters: {'kErase': 1, 'kRadius': 4, 'kAnnealingA': 0.6259901320638246, 'kAnnealingB': 1.5994620980286922, 'kAnnealingStart': 50.51233348524024, 'kSkipRatio': 0.4287808238389363, 'kTargetDeterminationTrials': 15, 'kAttractionRatio': 0.8434623829794836, 'kMaxAttractionDistance': 7, 'kStartAttraction': 0.19242091069455733}. Best is trial 42 with value: 6636.943661971831.\u001b[0m\n"
     ]
    },
    {
     "name": "stdout",
     "output_type": "stream",
     "text": [
      "index_parallel='0072'\n"
     ]
    },
    {
     "name": "stderr",
     "output_type": "stream",
     "text": [
      "\u001b[32m[I 2022-08-16 02:19:16,403]\u001b[0m Trial 72 finished with value: 6486.4647887323945 and parameters: {'kErase': 1, 'kRadius': 4, 'kAnnealingA': 1.6302735212682582, 'kAnnealingB': 1.6616204850436338, 'kAnnealingStart': 43.13712236261203, 'kSkipRatio': 0.5170544211543208, 'kTargetDeterminationTrials': 9, 'kAttractionRatio': 0.657326680803677, 'kMaxAttractionDistance': 6, 'kStartAttraction': 0.30257491978062745}. Best is trial 42 with value: 6636.943661971831.\u001b[0m\n"
     ]
    },
    {
     "name": "stdout",
     "output_type": "stream",
     "text": [
      "index_parallel='0073'\n"
     ]
    },
    {
     "name": "stderr",
     "output_type": "stream",
     "text": [
      "\u001b[32m[I 2022-08-16 02:23:17,628]\u001b[0m Trial 73 finished with value: 6352.366197183099 and parameters: {'kErase': 1, 'kRadius': 3, 'kAnnealingA': 2.9136315486633744, 'kAnnealingB': 1.3944885479945524, 'kAnnealingStart': 64.87861782741693, 'kSkipRatio': 0.45199343072836806, 'kTargetDeterminationTrials': 15, 'kAttractionRatio': 0.566234063587329, 'kMaxAttractionDistance': 5, 'kStartAttraction': 0.06544100315102507}. Best is trial 42 with value: 6636.943661971831.\u001b[0m\n"
     ]
    },
    {
     "name": "stdout",
     "output_type": "stream",
     "text": [
      "index_parallel='0074'\n"
     ]
    },
    {
     "name": "stderr",
     "output_type": "stream",
     "text": [
      "\u001b[32m[I 2022-08-16 02:27:18,509]\u001b[0m Trial 74 finished with value: 6525.7276995305165 and parameters: {'kErase': 1, 'kRadius': 4, 'kAnnealingA': -0.5708848148916581, 'kAnnealingB': 1.570589234591774, 'kAnnealingStart': 26.672129057433537, 'kSkipRatio': 0.6030825184646966, 'kTargetDeterminationTrials': 13, 'kAttractionRatio': 0.8978660991201385, 'kMaxAttractionDistance': 8, 'kStartAttraction': 0.36797639578858404}. Best is trial 42 with value: 6636.943661971831.\u001b[0m\n"
     ]
    },
    {
     "name": "stdout",
     "output_type": "stream",
     "text": [
      "index_parallel='0075'\n"
     ]
    },
    {
     "name": "stderr",
     "output_type": "stream",
     "text": [
      "\u001b[32m[I 2022-08-16 02:31:19,243]\u001b[0m Trial 75 finished with value: 6405.694835680752 and parameters: {'kErase': 1, 'kRadius': 3, 'kAnnealingA': 5.266880329250836, 'kAnnealingB': 1.0489036468041097, 'kAnnealingStart': 54.73760806477892, 'kSkipRatio': 0.5005904355834071, 'kTargetDeterminationTrials': 10, 'kAttractionRatio': 0.6990680425893399, 'kMaxAttractionDistance': 7, 'kStartAttraction': 0.09590945147052715}. Best is trial 42 with value: 6636.943661971831.\u001b[0m\n"
     ]
    },
    {
     "name": "stdout",
     "output_type": "stream",
     "text": [
      "index_parallel='0076'\n"
     ]
    },
    {
     "name": "stderr",
     "output_type": "stream",
     "text": [
      "\u001b[32m[I 2022-08-16 02:35:20,038]\u001b[0m Trial 76 finished with value: 6656.807511737089 and parameters: {'kErase': 1, 'kRadius': 2, 'kAnnealingA': 2.0419610111652347, 'kAnnealingB': 1.2901007873377606, 'kAnnealingStart': 38.51385103265775, 'kSkipRatio': 0.6872124398192206, 'kTargetDeterminationTrials': 8, 'kAttractionRatio': 0.8144989596433521, 'kMaxAttractionDistance': 9, 'kStartAttraction': 0.1388357535274995}. Best is trial 76 with value: 6656.807511737089.\u001b[0m\n"
     ]
    },
    {
     "name": "stdout",
     "output_type": "stream",
     "text": [
      "Updated! 6656.807511737089\n",
      "index_parallel='0077'\n"
     ]
    }
   ],
   "source": [
    "study.optimize(\n",
    "    partial(objective, in_dir=in_dir, work_dir=work_dir),\n",
    "    n_trials=3000,\n",
    "    timeout=86400,\n",
    "    callbacks=[callback]\n",
    ")"
   ]
  },
  {
   "cell_type": "code",
   "execution_count": null,
   "id": "700269d2",
   "metadata": {},
   "outputs": [],
   "source": []
  }
 ],
 "metadata": {
  "kernelspec": {
   "display_name": "Python 3 (ipykernel)",
   "language": "python",
   "name": "python3"
  },
  "language_info": {
   "codemirror_mode": {
    "name": "ipython",
    "version": 3
   },
   "file_extension": ".py",
   "mimetype": "text/x-python",
   "name": "python",
   "nbconvert_exporter": "python",
   "pygments_lexer": "ipython3",
   "version": "3.9.12"
  }
 },
 "nbformat": 4,
 "nbformat_minor": 5
}
