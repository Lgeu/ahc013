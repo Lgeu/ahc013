{
 "cells": [
  {
   "cell_type": "code",
   "execution_count": 1,
   "id": "25a1dac8",
   "metadata": {},
   "outputs": [],
   "source": [
    "import re\n",
    "import sys\n",
    "from uuid import uuid1\n",
    "from time import sleep\n",
    "from pprint import pprint\n",
    "from pathlib import Path\n",
    "from tempfile import gettempdir\n",
    "from threading import Thread\n",
    "from functools import partial\n",
    "from subprocess import Popen, PIPE\n",
    "\n",
    "from tqdm.notebook import tqdm\n",
    "import numpy as np\n",
    "import optuna\n",
    "import pandas as pd\n",
    "import matplotlib.pyplot as plt\n",
    "\n",
    "FILENAME = \"main.cpp\""
   ]
  },
  {
   "cell_type": "code",
   "execution_count": 2,
   "id": "3dd4d02e",
   "metadata": {},
   "outputs": [
    {
     "name": "stdout",
     "output_type": "stream",
     "text": [
      "10 variables were found.\n"
     ]
    },
    {
     "data": {
      "text/html": [
       "<div>\n",
       "<style scoped>\n",
       "    .dataframe tbody tr th:only-of-type {\n",
       "        vertical-align: middle;\n",
       "    }\n",
       "\n",
       "    .dataframe tbody tr th {\n",
       "        vertical-align: top;\n",
       "    }\n",
       "\n",
       "    .dataframe thead th {\n",
       "        text-align: right;\n",
       "    }\n",
       "</style>\n",
       "<table border=\"1\" class=\"dataframe\">\n",
       "  <thead>\n",
       "    <tr style=\"text-align: right;\">\n",
       "      <th></th>\n",
       "      <th>name</th>\n",
       "      <th>method</th>\n",
       "      <th>min</th>\n",
       "      <th>max</th>\n",
       "      <th>log</th>\n",
       "      <th>left</th>\n",
       "      <th>right</th>\n",
       "    </tr>\n",
       "  </thead>\n",
       "  <tbody>\n",
       "    <tr>\n",
       "      <th>0</th>\n",
       "      <td>kErase</td>\n",
       "      <td>suggest_int</td>\n",
       "      <td>1.000</td>\n",
       "      <td>5.0</td>\n",
       "      <td>False</td>\n",
       "      <td>static constexpr auto kErase =</td>\n",
       "      <td>;             // OPTIMIZE [1, 5]</td>\n",
       "    </tr>\n",
       "    <tr>\n",
       "      <th>1</th>\n",
       "      <td>kRadius</td>\n",
       "      <td>suggest_int</td>\n",
       "      <td>2.000</td>\n",
       "      <td>6.0</td>\n",
       "      <td>False</td>\n",
       "      <td>static constexpr auto kRadius =</td>\n",
       "      <td>;            // OPTIMIZE [2, 6]</td>\n",
       "    </tr>\n",
       "    <tr>\n",
       "      <th>2</th>\n",
       "      <td>kAnnealingA</td>\n",
       "      <td>suggest_float</td>\n",
       "      <td>-15.000</td>\n",
       "      <td>15.0</td>\n",
       "      <td>False</td>\n",
       "      <td>static constexpr auto kAnnealingA =</td>\n",
       "      <td>;      // OPTIMIZE [-15.0, 15.0]</td>\n",
       "    </tr>\n",
       "    <tr>\n",
       "      <th>3</th>\n",
       "      <td>kAnnealingB</td>\n",
       "      <td>suggest_float</td>\n",
       "      <td>0.000</td>\n",
       "      <td>3.0</td>\n",
       "      <td>False</td>\n",
       "      <td>static constexpr auto kAnnealingB =</td>\n",
       "      <td>;      // OPTIMIZE [0.0, 3.0]</td>\n",
       "    </tr>\n",
       "    <tr>\n",
       "      <th>4</th>\n",
       "      <td>kAnnealingStart</td>\n",
       "      <td>suggest_float</td>\n",
       "      <td>1.000</td>\n",
       "      <td>100.0</td>\n",
       "      <td>True</td>\n",
       "      <td>static constexpr auto kAnnealingStart =</td>\n",
       "      <td>; // OPTIMIZE LOG [1.0, 100.0]</td>\n",
       "    </tr>\n",
       "    <tr>\n",
       "      <th>5</th>\n",
       "      <td>kSkipRatio</td>\n",
       "      <td>suggest_float</td>\n",
       "      <td>0.200</td>\n",
       "      <td>0.8</td>\n",
       "      <td>False</td>\n",
       "      <td>static constexpr auto kSkipRatio =</td>\n",
       "      <td>;       // OPTIMIZE [0.2, 0.8]</td>\n",
       "    </tr>\n",
       "    <tr>\n",
       "      <th>6</th>\n",
       "      <td>kTargetDeterminationTrials</td>\n",
       "      <td>suggest_int</td>\n",
       "      <td>1.000</td>\n",
       "      <td>20.0</td>\n",
       "      <td>True</td>\n",
       "      <td>static constexpr auto kTargetDeterminationTria...</td>\n",
       "      <td>; // OPTIMIZE LOG [1, 20]</td>\n",
       "    </tr>\n",
       "    <tr>\n",
       "      <th>7</th>\n",
       "      <td>kAttractionRatio</td>\n",
       "      <td>suggest_float</td>\n",
       "      <td>0.010</td>\n",
       "      <td>0.9</td>\n",
       "      <td>True</td>\n",
       "      <td>static constexpr auto kAttractionRatio =</td>\n",
       "      <td>;      // OPTIMIZE LOG [0.01, 0.9]</td>\n",
       "    </tr>\n",
       "    <tr>\n",
       "      <th>8</th>\n",
       "      <td>kMaxAttractionDistance</td>\n",
       "      <td>suggest_int</td>\n",
       "      <td>4.000</td>\n",
       "      <td>99.0</td>\n",
       "      <td>True</td>\n",
       "      <td>static constexpr auto kMaxAttractionDistance =</td>\n",
       "      <td>; // OPTIMIZE LOG [4, 99]</td>\n",
       "    </tr>\n",
       "    <tr>\n",
       "      <th>9</th>\n",
       "      <td>kStartAttraction</td>\n",
       "      <td>suggest_float</td>\n",
       "      <td>0.001</td>\n",
       "      <td>0.9</td>\n",
       "      <td>True</td>\n",
       "      <td>static constexpr auto kStartAttraction =</td>\n",
       "      <td>;     // OPTIMIZE LOG [0.001, 0.9]</td>\n",
       "    </tr>\n",
       "  </tbody>\n",
       "</table>\n",
       "</div>"
      ],
      "text/plain": [
       "                         name         method     min    max    log  \\\n",
       "0                      kErase    suggest_int   1.000    5.0  False   \n",
       "1                     kRadius    suggest_int   2.000    6.0  False   \n",
       "2                 kAnnealingA  suggest_float -15.000   15.0  False   \n",
       "3                 kAnnealingB  suggest_float   0.000    3.0  False   \n",
       "4             kAnnealingStart  suggest_float   1.000  100.0   True   \n",
       "5                  kSkipRatio  suggest_float   0.200    0.8  False   \n",
       "6  kTargetDeterminationTrials    suggest_int   1.000   20.0   True   \n",
       "7            kAttractionRatio  suggest_float   0.010    0.9   True   \n",
       "8      kMaxAttractionDistance    suggest_int   4.000   99.0   True   \n",
       "9            kStartAttraction  suggest_float   0.001    0.9   True   \n",
       "\n",
       "                                                left  \\\n",
       "0                    static constexpr auto kErase =    \n",
       "1                   static constexpr auto kRadius =    \n",
       "2               static constexpr auto kAnnealingA =    \n",
       "3               static constexpr auto kAnnealingB =    \n",
       "4           static constexpr auto kAnnealingStart =    \n",
       "5                static constexpr auto kSkipRatio =    \n",
       "6  static constexpr auto kTargetDeterminationTria...   \n",
       "7          static constexpr auto kAttractionRatio =    \n",
       "8    static constexpr auto kMaxAttractionDistance =    \n",
       "9          static constexpr auto kStartAttraction =    \n",
       "\n",
       "                                right  \n",
       "0    ;             // OPTIMIZE [1, 5]  \n",
       "1     ;            // OPTIMIZE [2, 6]  \n",
       "2    ;      // OPTIMIZE [-15.0, 15.0]  \n",
       "3       ;      // OPTIMIZE [0.0, 3.0]  \n",
       "4      ; // OPTIMIZE LOG [1.0, 100.0]  \n",
       "5      ;       // OPTIMIZE [0.2, 0.8]  \n",
       "6           ; // OPTIMIZE LOG [1, 20]  \n",
       "7  ;      // OPTIMIZE LOG [0.01, 0.9]  \n",
       "8           ; // OPTIMIZE LOG [4, 99]  \n",
       "9  ;     // OPTIMIZE LOG [0.001, 0.9]  "
      ]
     },
     "metadata": {},
     "output_type": "display_data"
    }
   ],
   "source": [
    "# ここでエラー出力は何かおかしいかもしれない\n",
    "\n",
    "\n",
    "# パラメータ抽出\n",
    "with open(FILENAME) as f:\n",
    "    answer = f.read()\n",
    "\n",
    "\n",
    "variables_optimize = []\n",
    "\n",
    "for left, value, right, options in re.findall(r\"^([^/\\n]*=\\s*)(.+?)(\\s*;\\s*//(?:.*\\W)?OPTIMIZE(\\W.*))$\", answer, re.MULTILINE):\n",
    "    name = left.replace(\"=\", \"\").strip().split()[-1]\n",
    "    \n",
    "    searched = re.search(r\".*\\[(?P<min>.*),(?P<max>.*)\\].*\", options)\n",
    "    if searched:\n",
    "        min_value = max_value = None\n",
    "        try:\n",
    "            min_value = eval(searched.group(\"min\"))\n",
    "            max_value = eval(searched.group(\"max\"))\n",
    "            assert min_value <= max_value\n",
    "        except Exception as e:\n",
    "            print(f\"searched={searched}\", file=sys.stderr)\n",
    "            print(e, file=sys.stderr)\n",
    "            continue\n",
    "        log = \"LOG\" in options  # 雑、直したほうが良い\n",
    "        if type(min_value) != type(max_value):\n",
    "            print(f\"searched={searched}\", file=sys.stderr)\n",
    "            print(\"types not matched\", file=sys.stderr)\n",
    "            continue\n",
    "        if isinstance(min_value, int):\n",
    "            method = \"suggest_int\"\n",
    "        elif isinstance(min_value, float):\n",
    "            method = \"suggest_float\"\n",
    "        else:\n",
    "            print(f\"searched={searched}\", file=sys.stderr)\n",
    "            print(f\"unknown type ({type(min_value)})\", file=sys.stderr)\n",
    "            continue\n",
    "        variables_optimize.append({\n",
    "            \"name\": name,\n",
    "            \"method\": method,\n",
    "            \"min\": min_value,\n",
    "            \"max\": max_value,\n",
    "            \"log\": log,\n",
    "            \"left\": left,\n",
    "            \"right\": right,\n",
    "        })\n",
    "    elif searched := re.search(r\".*\\{(?P<choices>.*?)\\}.*\", options):\n",
    "        choices = list(map(lambda x: x.strip(), searched.group(\"choices\").split(\",\")))\n",
    "        variables_optimize.append({\n",
    "            \"name\": name,\n",
    "            \"method\": \"suggest_categorical\",\n",
    "            \"choices\": choices,\n",
    "            \"left\": left,\n",
    "            \"right\": right,\n",
    "        })\n",
    "    else:\n",
    "        print(f\"searched={searched}\", file=sys.stderr)\n",
    "        print(f\"pattern was matched but options are incorrect.\", file=sys.stderr)\n",
    "\n",
    "print(len(variables_optimize), \"variables were found.\")\n",
    "if globals().get(\"pd\"):\n",
    "    display(pd.DataFrame(variables_optimize))\n",
    "else:\n",
    "    pprint(variables_optimize)"
   ]
  },
  {
   "cell_type": "code",
   "execution_count": 3,
   "id": "001042b9",
   "metadata": {},
   "outputs": [],
   "source": [
    "def escape(string):  # 正規表現の中でそのまま使いたい文字列をエスケープ\n",
    "    res = !echo '{string}' | sed -e 's/[]\\/$*.^[]/\\\\&/g'\n",
    "    return res[0]\n",
    "\n",
    "def escape_sed(string):  # sed の置換後の文字列用のエスケープ\n",
    "    res = !echo '{string}' | sed -e 's/[\\/&]/\\\\&/g'\n",
    "    return res[0]\n",
    "\n",
    "def read_stream(name, in_file, out_file):\n",
    "    for line in in_file:\n",
    "        print(f\"[{name}] {line.strip()}\", file=out_file)\n",
    "\n",
    "def run(cmd, name):\n",
    "    proc = Popen(cmd, stdout=PIPE, stderr=PIPE, universal_newlines=True, shell=isinstance(cmd, str))\n",
    "    stdout_thread = Thread(target=read_stream, args=(name, proc.stdout, sys.stdout))\n",
    "    stderr_thread = Thread(target=read_stream, args=(name, proc.stderr, sys.stderr))\n",
    "    stdout_thread.start()\n",
    "    stderr_thread.start()\n",
    "    proc.wait()\n",
    "    return proc\n",
    "\n",
    "def objective(trial, in_dir, work_dir):\n",
    "    n_internal_parallel = 3\n",
    "    \n",
    "    index_parallel = f\"{trial.number:04d}\"\n",
    "    print(f\"{index_parallel=}\")\n",
    "    \n",
    "    work_dir = Path(work_dir)\n",
    "    directory_input = Path(in_dir)  # 中のすべてのファイルに対して実行される\n",
    "    #parameters_changed_filename = Path(gettempdir()) / str(uuid1())\n",
    "    parameters_changed_filename = work_dir / f\"{index_parallel}_{FILENAME}\"\n",
    "    \n",
    "    run([\"mkdir\", f\"{work_dir / index_parallel}_out\"], \"mkdir\")\n",
    "    run([\"mkdir\", f\"{work_dir / index_parallel}_score\"], \"mkdir\")\n",
    "    \n",
    "    # ファイル作成\n",
    "    run(f\"cp {FILENAME} {parameters_changed_filename}\", \"cp\")\n",
    "    sed_options = [f\"-i {parameters_changed_filename}\"]\n",
    "    for variable in variables_optimize:\n",
    "        if variable[\"method\"] == \"suggest_categorical\":\n",
    "            val =  trial.suggest_categorical(variable[\"name\"], variable[\"choices\"])\n",
    "        else:\n",
    "            val = getattr(trial, variable[\"method\"])(variable[\"name\"], variable[\"min\"], variable[\"max\"], log=variable[\"log\"])\n",
    "        left = variable[\"left\"]\n",
    "        right = variable[\"right\"]\n",
    "        sed_options.append(f\"\"\"-e 's/^{escape(left)}.*{escape(right)}$/{escape_sed(left)}{val}{escape_sed(right)}/'\"\"\")\n",
    "    command_sed = f\"sed {' '.join(sed_options)}\"\n",
    "    #print(command_sed)\n",
    "    run(command_sed, \"sed\")\n",
    "    \n",
    "    # コンパイル\n",
    "    command_compile = f\"g++ {parameters_changed_filename} -std=gnu++17 -O2 -DONLINE_JUDGE -o {parameters_changed_filename}.out\"\n",
    "    #print(command_compile)\n",
    "    run(command_compile, \"compile\")\n",
    "    # 実行・採点コマンド (@ はファイル名)\n",
    "    command_exec = (\n",
    "        #f\"./a.out < ./tools/in/{i:04d}.txt > {out_file} && ./tools/target/release/vis ./tools/in/{i:04d}.txt {out_file}\"\n",
    "        #f\"../tools/target/release/tester $(pwd)/{parameters_changed_filename}.out < {directory_input}/@ 2>&1 | grep Score\"\n",
    "        #f\"../tools/target/release/tester $(pwd)/{parameters_changed_filename}.out < {directory_input}/@ 2>&1 | grep Score | sed -E s/[^0-9]+// > ./{index_parallel}_score/@;\"\n",
    "        #f\"cargo run --release --manifest-path ../tools/Cargo.toml --bin tester {directory_input}/@ $(pwd)/{parameters_changed_filename}.out 2>&1 | grep Score | sed -E s/[^0-9]+// > ./{index_parallel}_score/@;\"\n",
    "        f\"./{parameters_changed_filename}.out < {directory_input}/@ > {work_dir / index_parallel}_out/@;\"\n",
    "        f\"../tools/target/release/vis {directory_input}/@ {work_dir / index_parallel}_out/@ 2> /dev/null > {work_dir / index_parallel}_score/@;\"\n",
    "    )\n",
    "    # 並列実行 (sed はパスのディレクトリ部分を消してファイル名にしてる)\n",
    "    run(f\"find {directory_input}/* | sed 's!^.*/!!' | xargs -I@ -P {n_internal_parallel} sh -c '{command_exec}'\", \"exec\")\n",
    "    \n",
    "    # 集計\n",
    "    scores = []\n",
    "    for file_path in Path(f\"{work_dir / index_parallel}_score/\").iterdir():  \n",
    "        with open(file_path) as f:\n",
    "            scores.append(int(f.readline().strip().split()[-1]))\n",
    "    mean_score = sum(scores) / len(scores)\n",
    "    \n",
    "    # 後始末\n",
    "    run(f\"rm -rf {work_dir / index_parallel}_out\", \"rm\")\n",
    "    run(f\"rm -rf {work_dir / index_parallel}_score\", \"rm\")\n",
    "    #run(f\"rm {parameters_changed_filename}\", \"rm\")\n",
    "    run(f\"rm {parameters_changed_filename}.out\", \"rm\")\n",
    "    \n",
    "    return mean_score"
   ]
  },
  {
   "cell_type": "code",
   "execution_count": 4,
   "id": "2d2e133c",
   "metadata": {},
   "outputs": [
    {
     "name": "stderr",
     "output_type": "stream",
     "text": [
      "\u001b[32m[I 2022-08-15 21:25:54,958]\u001b[0m A new study created in RDB with name: study_3_0\u001b[0m\n"
     ]
    }
   ],
   "source": [
    "K = 3\n",
    "N_CLASS = 0\n",
    "\n",
    "in_dir = Path(f\"in_{K}_{N_CLASS}\")\n",
    "work_dir = Path(f\"work_{K}_{N_CLASS}\")\n",
    "\n",
    "study_name = f\"study_{K}_{N_CLASS}\"\n",
    "storage_path = work_dir / \"study.db\"\n",
    "storage = f\"sqlite:///{storage_path}\"\n",
    "study = optuna.create_study(storage=storage, load_if_exists=True, study_name=study_name, direction=\"maximize\")\n",
    "\n",
    "def callback(study, trial):\n",
    "    try:\n",
    "        index_parallel = f\"{trial.number:04d}\"\n",
    "        parameters_changed_filename = work_dir / f\"{index_parallel}_{FILENAME}\"\n",
    "        if study.best_value == trial.value:\n",
    "            print(f\"Updated! {study.best_value}\")\n",
    "            !cp {parameters_changed_filename} {work_dir / \"best_parameters.cpp\"}\n",
    "        !rm {parameters_changed_filename}\n",
    "    except:\n",
    "        print(\":(\")\n"
   ]
  },
  {
   "cell_type": "code",
   "execution_count": null,
   "id": "61c2901d",
   "metadata": {},
   "outputs": [
    {
     "name": "stdout",
     "output_type": "stream",
     "text": [
      "index_parallel='0000'\n"
     ]
    },
    {
     "name": "stderr",
     "output_type": "stream",
     "text": [
      "\u001b[32m[I 2022-08-15 21:29:56,512]\u001b[0m Trial 0 finished with value: 5142.422535211268 and parameters: {'kErase': 5, 'kRadius': 5, 'kAnnealingA': -5.772548573735737, 'kAnnealingB': 0.12003864796034247, 'kAnnealingStart': 39.810744069707034, 'kSkipRatio': 0.23083599603693272, 'kTargetDeterminationTrials': 1, 'kAttractionRatio': 0.0181768461085573, 'kMaxAttractionDistance': 55, 'kStartAttraction': 0.5790990624502301}. Best is trial 0 with value: 5142.422535211268.\u001b[0m\n"
     ]
    },
    {
     "name": "stdout",
     "output_type": "stream",
     "text": [
      "Updated! 5142.422535211268\n",
      "index_parallel='0001'\n"
     ]
    },
    {
     "name": "stderr",
     "output_type": "stream",
     "text": [
      "\u001b[32m[I 2022-08-15 21:33:57,937]\u001b[0m Trial 1 finished with value: 6332.028169014085 and parameters: {'kErase': 2, 'kRadius': 3, 'kAnnealingA': 2.74182181833849, 'kAnnealingB': 2.284953120384095, 'kAnnealingStart': 3.1124772075507723, 'kSkipRatio': 0.501739949046486, 'kTargetDeterminationTrials': 5, 'kAttractionRatio': 0.025300667845602136, 'kMaxAttractionDistance': 4, 'kStartAttraction': 0.011220510011771882}. Best is trial 1 with value: 6332.028169014085.\u001b[0m\n"
     ]
    },
    {
     "name": "stdout",
     "output_type": "stream",
     "text": [
      "Updated! 6332.028169014085\n",
      "index_parallel='0002'\n"
     ]
    },
    {
     "name": "stderr",
     "output_type": "stream",
     "text": [
      "\u001b[32m[I 2022-08-15 21:37:58,654]\u001b[0m Trial 2 finished with value: 6409.619718309859 and parameters: {'kErase': 1, 'kRadius': 2, 'kAnnealingA': 12.424991091311178, 'kAnnealingB': 2.739289650590619, 'kAnnealingStart': 6.841382104078319, 'kSkipRatio': 0.5736692386702499, 'kTargetDeterminationTrials': 8, 'kAttractionRatio': 0.11575474932060482, 'kMaxAttractionDistance': 15, 'kStartAttraction': 0.005333565417271242}. Best is trial 2 with value: 6409.619718309859.\u001b[0m\n"
     ]
    },
    {
     "name": "stdout",
     "output_type": "stream",
     "text": [
      "Updated! 6409.619718309859\n",
      "index_parallel='0003'\n"
     ]
    },
    {
     "name": "stderr",
     "output_type": "stream",
     "text": [
      "\u001b[32m[I 2022-08-15 21:42:00,416]\u001b[0m Trial 3 finished with value: 5764.840375586855 and parameters: {'kErase': 5, 'kRadius': 3, 'kAnnealingA': -8.988809146348732, 'kAnnealingB': 1.016184110398965, 'kAnnealingStart': 15.056004462336492, 'kSkipRatio': 0.34945546878759104, 'kTargetDeterminationTrials': 7, 'kAttractionRatio': 0.30358742284924606, 'kMaxAttractionDistance': 13, 'kStartAttraction': 0.1428956303970105}. Best is trial 2 with value: 6409.619718309859.\u001b[0m\n"
     ]
    },
    {
     "name": "stdout",
     "output_type": "stream",
     "text": [
      "index_parallel='0004'\n"
     ]
    },
    {
     "name": "stderr",
     "output_type": "stream",
     "text": [
      "\u001b[32m[I 2022-08-15 21:46:01,996]\u001b[0m Trial 4 finished with value: 5633.084507042254 and parameters: {'kErase': 5, 'kRadius': 3, 'kAnnealingA': 0.22686434269421696, 'kAnnealingB': 2.3492003578840084, 'kAnnealingStart': 35.06772698265212, 'kSkipRatio': 0.3268184653780354, 'kTargetDeterminationTrials': 12, 'kAttractionRatio': 0.022327722988975673, 'kMaxAttractionDistance': 5, 'kStartAttraction': 0.004384484867461566}. Best is trial 2 with value: 6409.619718309859.\u001b[0m\n"
     ]
    },
    {
     "name": "stdout",
     "output_type": "stream",
     "text": [
      "index_parallel='0005'\n"
     ]
    },
    {
     "name": "stderr",
     "output_type": "stream",
     "text": [
      "\u001b[32m[I 2022-08-15 21:50:03,649]\u001b[0m Trial 5 finished with value: 5790.985915492958 and parameters: {'kErase': 4, 'kRadius': 3, 'kAnnealingA': -2.2706374562282328, 'kAnnealingB': 1.5026211812917776, 'kAnnealingStart': 2.9055901525270476, 'kSkipRatio': 0.3023588499522739, 'kTargetDeterminationTrials': 1, 'kAttractionRatio': 0.48025435982504816, 'kMaxAttractionDistance': 32, 'kStartAttraction': 0.0011118028782096986}. Best is trial 2 with value: 6409.619718309859.\u001b[0m\n"
     ]
    },
    {
     "name": "stdout",
     "output_type": "stream",
     "text": [
      "index_parallel='0006'\n"
     ]
    },
    {
     "name": "stderr",
     "output_type": "stream",
     "text": [
      "\u001b[32m[I 2022-08-15 21:54:05,068]\u001b[0m Trial 6 finished with value: 6374.896713615023 and parameters: {'kErase': 3, 'kRadius': 3, 'kAnnealingA': 8.886677160404638, 'kAnnealingB': 2.604217763653443, 'kAnnealingStart': 8.624502233150551, 'kSkipRatio': 0.4378122748610292, 'kTargetDeterminationTrials': 5, 'kAttractionRatio': 0.3411321968058539, 'kMaxAttractionDistance': 5, 'kStartAttraction': 0.004160874058354244}. Best is trial 2 with value: 6409.619718309859.\u001b[0m\n"
     ]
    },
    {
     "name": "stdout",
     "output_type": "stream",
     "text": [
      "index_parallel='0007'\n"
     ]
    },
    {
     "name": "stderr",
     "output_type": "stream",
     "text": [
      "\u001b[32m[I 2022-08-15 21:58:06,522]\u001b[0m Trial 7 finished with value: 6036.985915492958 and parameters: {'kErase': 3, 'kRadius': 4, 'kAnnealingA': -11.145085937609727, 'kAnnealingB': 2.157113209782151, 'kAnnealingStart': 7.968530362259861, 'kSkipRatio': 0.40056646502206283, 'kTargetDeterminationTrials': 1, 'kAttractionRatio': 0.027789245040336776, 'kMaxAttractionDistance': 4, 'kStartAttraction': 0.0072209146632278235}. Best is trial 2 with value: 6409.619718309859.\u001b[0m\n"
     ]
    },
    {
     "name": "stdout",
     "output_type": "stream",
     "text": [
      "index_parallel='0008'\n"
     ]
    },
    {
     "name": "stderr",
     "output_type": "stream",
     "text": [
      "\u001b[32m[I 2022-08-15 22:02:07,628]\u001b[0m Trial 8 finished with value: 6306.366197183099 and parameters: {'kErase': 2, 'kRadius': 2, 'kAnnealingA': 14.339965610666553, 'kAnnealingB': 1.5012120416008665, 'kAnnealingStart': 2.3551484619769054, 'kSkipRatio': 0.45752546095537694, 'kTargetDeterminationTrials': 1, 'kAttractionRatio': 0.27919639132001906, 'kMaxAttractionDistance': 17, 'kStartAttraction': 0.03165058286381694}. Best is trial 2 with value: 6409.619718309859.\u001b[0m\n"
     ]
    },
    {
     "name": "stdout",
     "output_type": "stream",
     "text": [
      "index_parallel='0009'\n"
     ]
    },
    {
     "name": "stderr",
     "output_type": "stream",
     "text": [
      "\u001b[32m[I 2022-08-15 22:06:08,786]\u001b[0m Trial 9 finished with value: 6366.225352112676 and parameters: {'kErase': 2, 'kRadius': 4, 'kAnnealingA': -7.4490461893298, 'kAnnealingB': 0.8230206609449985, 'kAnnealingStart': 33.15972772622484, 'kSkipRatio': 0.5508787428928492, 'kTargetDeterminationTrials': 1, 'kAttractionRatio': 0.037661522489949625, 'kMaxAttractionDistance': 89, 'kStartAttraction': 0.0070304485951522945}. Best is trial 2 with value: 6409.619718309859.\u001b[0m\n"
     ]
    },
    {
     "name": "stdout",
     "output_type": "stream",
     "text": [
      "index_parallel='0010'\n"
     ]
    },
    {
     "name": "stderr",
     "output_type": "stream",
     "text": [
      "\u001b[32m[I 2022-08-15 22:10:09,462]\u001b[0m Trial 10 finished with value: 5236.0 and parameters: {'kErase': 1, 'kRadius': 6, 'kAnnealingA': 14.599537250698866, 'kAnnealingB': 2.9324278114866185, 'kAnnealingStart': 83.77566627991524, 'kSkipRatio': 0.7234206365961271, 'kTargetDeterminationTrials': 19, 'kAttractionRatio': 0.0922358548345455, 'kMaxAttractionDistance': 10, 'kStartAttraction': 0.0010389984226601694}. Best is trial 2 with value: 6409.619718309859.\u001b[0m\n"
     ]
    },
    {
     "name": "stdout",
     "output_type": "stream",
     "text": [
      "index_parallel='0011'\n"
     ]
    },
    {
     "name": "stderr",
     "output_type": "stream",
     "text": [
      "\u001b[32m[I 2022-08-15 22:14:10,361]\u001b[0m Trial 11 finished with value: 6435.643192488263 and parameters: {'kErase': 1, 'kRadius': 2, 'kAnnealingA': 8.220582251278282, 'kAnnealingB': 2.8087942657928155, 'kAnnealingStart': 6.302553733629705, 'kSkipRatio': 0.6178195565593552, 'kTargetDeterminationTrials': 3, 'kAttractionRatio': 0.1290078556365115, 'kMaxAttractionDistance': 7, 'kStartAttraction': 0.03179845649130665}. Best is trial 11 with value: 6435.643192488263.\u001b[0m\n"
     ]
    },
    {
     "name": "stdout",
     "output_type": "stream",
     "text": [
      "Updated! 6435.643192488263\n",
      "index_parallel='0012'\n"
     ]
    },
    {
     "name": "stderr",
     "output_type": "stream",
     "text": [
      "\u001b[32m[I 2022-08-15 22:18:11,375]\u001b[0m Trial 12 finished with value: 6323.821596244132 and parameters: {'kErase': 1, 'kRadius': 2, 'kAnnealingA': 7.0249131318431886, 'kAnnealingB': 2.936122474214692, 'kAnnealingStart': 5.397980153032357, 'kSkipRatio': 0.6286197071742441, 'kTargetDeterminationTrials': 2, 'kAttractionRatio': 0.10955182839218475, 'kMaxAttractionDistance': 9, 'kStartAttraction': 0.04085979231841861}. Best is trial 11 with value: 6435.643192488263.\u001b[0m\n"
     ]
    },
    {
     "name": "stdout",
     "output_type": "stream",
     "text": [
      "index_parallel='0013'\n"
     ]
    },
    {
     "name": "stderr",
     "output_type": "stream",
     "text": [
      "\u001b[32m[I 2022-08-15 22:22:12,260]\u001b[0m Trial 13 finished with value: 5945.816901408451 and parameters: {'kErase': 1, 'kRadius': 2, 'kAnnealingA': 8.823180571670486, 'kAnnealingB': 1.9655133284095367, 'kAnnealingStart': 1.0024970633292907, 'kSkipRatio': 0.7796320145927769, 'kTargetDeterminationTrials': 3, 'kAttractionRatio': 0.09371785665005855, 'kMaxAttractionDistance': 30, 'kStartAttraction': 0.09404443903015014}. Best is trial 11 with value: 6435.643192488263.\u001b[0m\n"
     ]
    },
    {
     "name": "stdout",
     "output_type": "stream",
     "text": [
      "index_parallel='0014'\n"
     ]
    },
    {
     "name": "stderr",
     "output_type": "stream",
     "text": [
      "\u001b[32m[I 2022-08-15 22:26:13,150]\u001b[0m Trial 14 finished with value: 6569.55868544601 and parameters: {'kErase': 1, 'kRadius': 2, 'kAnnealingA': 5.0843985773663025, 'kAnnealingB': 2.632636768111969, 'kAnnealingStart': 14.505322735815474, 'kSkipRatio': 0.6194141678876848, 'kTargetDeterminationTrials': 2, 'kAttractionRatio': 0.15289575575611514, 'kMaxAttractionDistance': 8, 'kStartAttraction': 0.014999735754576039}. Best is trial 14 with value: 6569.55868544601.\u001b[0m\n"
     ]
    },
    {
     "name": "stdout",
     "output_type": "stream",
     "text": [
      "Updated! 6569.55868544601\n",
      "index_parallel='0015'\n"
     ]
    },
    {
     "name": "stderr",
     "output_type": "stream",
     "text": [
      "\u001b[32m[I 2022-08-15 22:30:14,393]\u001b[0m Trial 15 finished with value: 6544.769953051643 and parameters: {'kErase': 2, 'kRadius': 5, 'kAnnealingA': 4.68210552977889, 'kAnnealingB': 1.92176400282824, 'kAnnealingStart': 16.32434220617143, 'kSkipRatio': 0.6549749303326463, 'kTargetDeterminationTrials': 2, 'kAttractionRatio': 0.8998699428866126, 'kMaxAttractionDistance': 7, 'kStartAttraction': 0.09785901043520437}. Best is trial 14 with value: 6569.55868544601.\u001b[0m\n"
     ]
    },
    {
     "name": "stdout",
     "output_type": "stream",
     "text": [
      "index_parallel='0016'\n"
     ]
    },
    {
     "name": "stderr",
     "output_type": "stream",
     "text": [
      "\u001b[32m[I 2022-08-15 22:34:15,548]\u001b[0m Trial 16 finished with value: 6581.610328638498 and parameters: {'kErase': 2, 'kRadius': 5, 'kAnnealingA': 2.7928155477668204, 'kAnnealingB': 1.8050380461668356, 'kAnnealingStart': 17.116227704167382, 'kSkipRatio': 0.7107490360562823, 'kTargetDeterminationTrials': 2, 'kAttractionRatio': 0.8886643305992924, 'kMaxAttractionDistance': 7, 'kStartAttraction': 0.30855559064894117}. Best is trial 16 with value: 6581.610328638498.\u001b[0m\n"
     ]
    },
    {
     "name": "stdout",
     "output_type": "stream",
     "text": [
      "Updated! 6581.610328638498\n",
      "index_parallel='0017'\n"
     ]
    },
    {
     "name": "stderr",
     "output_type": "stream",
     "text": [
      "\u001b[32m[I 2022-08-15 22:38:17,018]\u001b[0m Trial 17 finished with value: 6492.713615023475 and parameters: {'kErase': 2, 'kRadius': 6, 'kAnnealingA': -2.200547769847031, 'kAnnealingB': 1.016920848427629, 'kAnnealingStart': 17.623966044378854, 'kSkipRatio': 0.7185625964557762, 'kTargetDeterminationTrials': 2, 'kAttractionRatio': 0.8014873718369396, 'kMaxAttractionDistance': 25, 'kStartAttraction': 0.8008577060078068}. Best is trial 16 with value: 6581.610328638498.\u001b[0m\n"
     ]
    },
    {
     "name": "stdout",
     "output_type": "stream",
     "text": [
      "index_parallel='0018'\n"
     ]
    },
    {
     "name": "stderr",
     "output_type": "stream",
     "text": [
      "\u001b[32m[I 2022-08-15 22:42:18,630]\u001b[0m Trial 18 finished with value: 5775.103286384977 and parameters: {'kErase': 3, 'kRadius': 5, 'kAnnealingA': 2.5976541199151817, 'kAnnealingB': 1.790713372763193, 'kAnnealingStart': 69.36370909733493, 'kSkipRatio': 0.7999747814730633, 'kTargetDeterminationTrials': 2, 'kAttractionRatio': 0.010218454976251663, 'kMaxAttractionDistance': 10, 'kStartAttraction': 0.19642373686891346}. Best is trial 16 with value: 6581.610328638498.\u001b[0m\n"
     ]
    },
    {
     "name": "stdout",
     "output_type": "stream",
     "text": [
      "index_parallel='0019'\n"
     ]
    },
    {
     "name": "stderr",
     "output_type": "stream",
     "text": [
      "\u001b[32m[I 2022-08-15 22:46:20,299]\u001b[0m Trial 19 finished with value: 6226.145539906103 and parameters: {'kErase': 4, 'kRadius': 5, 'kAnnealingA': -13.907128300219489, 'kAnnealingB': 0.29189281167900827, 'kAnnealingStart': 24.245703082400247, 'kSkipRatio': 0.6972971977468982, 'kTargetDeterminationTrials': 3, 'kAttractionRatio': 0.05384336395826092, 'kMaxAttractionDistance': 7, 'kStartAttraction': 0.29451792683532924}. Best is trial 16 with value: 6581.610328638498.\u001b[0m\n"
     ]
    },
    {
     "name": "stdout",
     "output_type": "stream",
     "text": [
      "index_parallel='0020'\n"
     ]
    },
    {
     "name": "stderr",
     "output_type": "stream",
     "text": [
      "\u001b[32m[I 2022-08-15 22:50:21,670]\u001b[0m Trial 20 finished with value: 6488.708920187793 and parameters: {'kErase': 3, 'kRadius': 4, 'kAnnealingA': -2.366808636593277, 'kAnnealingB': 2.3984724322828233, 'kAnnealingStart': 51.708512110637535, 'kSkipRatio': 0.5845454452733909, 'kTargetDeterminationTrials': 4, 'kAttractionRatio': 0.17002935649380366, 'kMaxAttractionDistance': 23, 'kStartAttraction': 0.018165240350787412}. Best is trial 16 with value: 6581.610328638498.\u001b[0m\n"
     ]
    },
    {
     "name": "stdout",
     "output_type": "stream",
     "text": [
      "index_parallel='0021'\n"
     ]
    },
    {
     "name": "stderr",
     "output_type": "stream",
     "text": [
      "\u001b[32m[I 2022-08-15 22:54:23,056]\u001b[0m Trial 21 finished with value: 6507.131455399061 and parameters: {'kErase': 2, 'kRadius': 5, 'kAnnealingA': 4.366423747872549, 'kAnnealingB': 1.7961057381328815, 'kAnnealingStart': 15.433619538367136, 'kSkipRatio': 0.6504162275128621, 'kTargetDeterminationTrials': 2, 'kAttractionRatio': 0.7103775140949362, 'kMaxAttractionDistance': 7, 'kStartAttraction': 0.07483415027459696}. Best is trial 16 with value: 6581.610328638498.\u001b[0m\n"
     ]
    },
    {
     "name": "stdout",
     "output_type": "stream",
     "text": [
      "index_parallel='0022'\n"
     ]
    },
    {
     "name": "stderr",
     "output_type": "stream",
     "text": [
      "\u001b[32m[I 2022-08-15 22:58:24,183]\u001b[0m Trial 22 finished with value: 6532.159624413145 and parameters: {'kErase': 2, 'kRadius': 6, 'kAnnealingA': 5.349015444621034, 'kAnnealingB': 1.9478525587532751, 'kAnnealingStart': 12.347186924686326, 'kSkipRatio': 0.661671306298148, 'kTargetDeterminationTrials': 2, 'kAttractionRatio': 0.5307719666290803, 'kMaxAttractionDistance': 6, 'kStartAttraction': 0.4541826171457687}. Best is trial 16 with value: 6581.610328638498.\u001b[0m\n"
     ]
    },
    {
     "name": "stdout",
     "output_type": "stream",
     "text": [
      "index_parallel='0023'\n"
     ]
    },
    {
     "name": "stderr",
     "output_type": "stream",
     "text": [
      "\u001b[32m[I 2022-08-15 23:02:25,411]\u001b[0m Trial 23 finished with value: 6565.328638497653 and parameters: {'kErase': 1, 'kRadius': 5, 'kAnnealingA': 1.2376087548499553, 'kAnnealingB': 1.3141421750254207, 'kAnnealingStart': 23.157429076078035, 'kSkipRatio': 0.5217885963416441, 'kTargetDeterminationTrials': 2, 'kAttractionRatio': 0.867138627068678, 'kMaxAttractionDistance': 12, 'kStartAttraction': 0.07778011492271235}. Best is trial 16 with value: 6581.610328638498.\u001b[0m\n"
     ]
    },
    {
     "name": "stdout",
     "output_type": "stream",
     "text": [
      "index_parallel='0024'\n"
     ]
    },
    {
     "name": "stderr",
     "output_type": "stream",
     "text": [
      "\u001b[32m[I 2022-08-15 23:06:26,328]\u001b[0m Trial 24 finished with value: 6623.173708920188 and parameters: {'kErase': 1, 'kRadius': 4, 'kAnnealingA': 2.1774600558088415, 'kAnnealingB': 1.2332346559940086, 'kAnnealingStart': 25.089361679025938, 'kSkipRatio': 0.5227877688597898, 'kTargetDeterminationTrials': 4, 'kAttractionRatio': 0.4799724587877123, 'kMaxAttractionDistance': 12, 'kStartAttraction': 0.29889997827550224}. Best is trial 24 with value: 6623.173708920188.\u001b[0m\n"
     ]
    },
    {
     "name": "stdout",
     "output_type": "stream",
     "text": [
      "Updated! 6623.173708920188\n",
      "index_parallel='0025'\n"
     ]
    },
    {
     "name": "stderr",
     "output_type": "stream",
     "text": [
      "\u001b[32m[I 2022-08-15 23:10:27,416]\u001b[0m Trial 25 finished with value: 6516.802816901409 and parameters: {'kErase': 1, 'kRadius': 4, 'kAnnealingA': 11.32511890200095, 'kAnnealingB': 0.7617362373236982, 'kAnnealingStart': 24.936902761794695, 'kSkipRatio': 0.7588618243000652, 'kTargetDeterminationTrials': 4, 'kAttractionRatio': 0.19977435681822067, 'kMaxAttractionDistance': 9, 'kStartAttraction': 0.3071905440347077}. Best is trial 24 with value: 6623.173708920188.\u001b[0m\n"
     ]
    },
    {
     "name": "stdout",
     "output_type": "stream",
     "text": [
      "index_parallel='0026'\n"
     ]
    },
    {
     "name": "stderr",
     "output_type": "stream",
     "text": [
      "\u001b[32m[I 2022-08-15 23:14:28,424]\u001b[0m Trial 26 finished with value: 6244.455399061033 and parameters: {'kErase': 1, 'kRadius': 4, 'kAnnealingA': -4.389168121248636, 'kAnnealingB': 0.531804840775568, 'kAnnealingStart': 11.446647413781445, 'kSkipRatio': 0.46723812985430224, 'kTargetDeterminationTrials': 7, 'kAttractionRatio': 0.47555166038628993, 'kMaxAttractionDistance': 20, 'kStartAttraction': 0.016332181137834502}. Best is trial 24 with value: 6623.173708920188.\u001b[0m\n"
     ]
    },
    {
     "name": "stdout",
     "output_type": "stream",
     "text": [
      "index_parallel='0027'\n"
     ]
    },
    {
     "name": "stderr",
     "output_type": "stream",
     "text": [
      "\u001b[32m[I 2022-08-15 23:18:29,455]\u001b[0m Trial 27 finished with value: 6285.910798122066 and parameters: {'kErase': 2, 'kRadius': 6, 'kAnnealingA': -0.49444977855559324, 'kAnnealingB': 1.3356889667995147, 'kAnnealingStart': 49.171103591683945, 'kSkipRatio': 0.5411311680466051, 'kTargetDeterminationTrials': 4, 'kAttractionRatio': 0.06180593095464802, 'kMaxAttractionDistance': 12, 'kStartAttraction': 0.876801005176276}. Best is trial 24 with value: 6623.173708920188.\u001b[0m\n"
     ]
    },
    {
     "name": "stdout",
     "output_type": "stream",
     "text": [
      "index_parallel='0028'\n"
     ]
    },
    {
     "name": "stderr",
     "output_type": "stream",
     "text": [
      "\u001b[32m[I 2022-08-15 23:22:30,447]\u001b[0m Trial 28 finished with value: 6188.769953051643 and parameters: {'kErase': 1, 'kRadius': 4, 'kAnnealingA': 5.891515591679093, 'kAnnealingB': 2.5306913322544426, 'kAnnealingStart': 3.969067039855148, 'kSkipRatio': 0.5908210555192731, 'kTargetDeterminationTrials': 11, 'kAttractionRatio': 0.22652849025180508, 'kMaxAttractionDistance': 15, 'kStartAttraction': 0.0022083942834424434}. Best is trial 24 with value: 6623.173708920188.\u001b[0m\n"
     ]
    },
    {
     "name": "stdout",
     "output_type": "stream",
     "text": [
      "index_parallel='0029'\n"
     ]
    },
    {
     "name": "stderr",
     "output_type": "stream",
     "text": [
      "\u001b[32m[I 2022-08-15 23:26:31,253]\u001b[0m Trial 29 finished with value: 6345.699530516432 and parameters: {'kErase': 1, 'kRadius': 5, 'kAnnealingA': 2.488435338429725, 'kAnnealingB': 0.02298829577673822, 'kAnnealingStart': 29.9960220347299, 'kSkipRatio': 0.21324065966459094, 'kTargetDeterminationTrials': 3, 'kAttractionRatio': 0.5979331022280153, 'kMaxAttractionDistance': 47, 'kStartAttraction': 0.47739727605044197}. Best is trial 24 with value: 6623.173708920188.\u001b[0m\n"
     ]
    },
    {
     "name": "stdout",
     "output_type": "stream",
     "text": [
      "index_parallel='0030'\n"
     ]
    },
    {
     "name": "stderr",
     "output_type": "stream",
     "text": [
      "\u001b[32m[I 2022-08-15 23:30:32,462]\u001b[0m Trial 30 finished with value: 6471.4647887323945 and parameters: {'kErase': 2, 'kRadius': 3, 'kAnnealingA': -4.689029248669741, 'kAnnealingB': 1.2926356426719452, 'kAnnealingStart': 48.872142963387546, 'kSkipRatio': 0.6865223223930214, 'kTargetDeterminationTrials': 5, 'kAttractionRatio': 0.3868839248395697, 'kMaxAttractionDistance': 5, 'kStartAttraction': 0.047071192705846844}. Best is trial 24 with value: 6623.173708920188.\u001b[0m\n"
     ]
    },
    {
     "name": "stdout",
     "output_type": "stream",
     "text": [
      "index_parallel='0031'\n"
     ]
    },
    {
     "name": "stderr",
     "output_type": "stream",
     "text": [
      "\u001b[32m[I 2022-08-15 23:34:33,506]\u001b[0m Trial 31 finished with value: 6551.5352112676055 and parameters: {'kErase': 1, 'kRadius': 5, 'kAnnealingA': 1.0315896647275764, 'kAnnealingB': 1.2460285768952504, 'kAnnealingStart': 21.47650416017218, 'kSkipRatio': 0.5238557235676489, 'kTargetDeterminationTrials': 3, 'kAttractionRatio': 0.6674894573898519, 'kMaxAttractionDistance': 10, 'kStartAttraction': 0.17077471545946993}. Best is trial 24 with value: 6623.173708920188.\u001b[0m\n"
     ]
    },
    {
     "name": "stdout",
     "output_type": "stream",
     "text": [
      "index_parallel='0032'\n"
     ]
    },
    {
     "name": "stderr",
     "output_type": "stream",
     "text": [
      "\u001b[32m[I 2022-08-15 23:38:34,350]\u001b[0m Trial 32 finished with value: 6541.333333333333 and parameters: {'kErase': 1, 'kRadius': 5, 'kAnnealingA': 2.931921047993519, 'kAnnealingB': 1.6014501644501034, 'kAnnealingStart': 21.036073174809584, 'kSkipRatio': 0.49311194014741305, 'kTargetDeterminationTrials': 4, 'kAttractionRatio': 0.8618049580877537, 'kMaxAttractionDistance': 12, 'kStartAttraction': 0.060478932902384444}. Best is trial 24 with value: 6623.173708920188.\u001b[0m\n"
     ]
    },
    {
     "name": "stdout",
     "output_type": "stream",
     "text": [
      "index_parallel='0033'\n"
     ]
    },
    {
     "name": "stderr",
     "output_type": "stream",
     "text": [
      "\u001b[32m[I 2022-08-15 23:42:35,373]\u001b[0m Trial 33 finished with value: 6478.328638497653 and parameters: {'kErase': 1, 'kRadius': 5, 'kAnnealingA': 1.4557412737309967, 'kAnnealingB': 1.0760059309741323, 'kAnnealingStart': 12.643156473365833, 'kSkipRatio': 0.5080040424300595, 'kTargetDeterminationTrials': 2, 'kAttractionRatio': 0.4196952932549428, 'kMaxAttractionDistance': 8, 'kStartAttraction': 0.30272961273968485}. Best is trial 24 with value: 6623.173708920188.\u001b[0m\n"
     ]
    },
    {
     "name": "stdout",
     "output_type": "stream",
     "text": [
      "index_parallel='0034'\n"
     ]
    },
    {
     "name": "stderr",
     "output_type": "stream",
     "text": [
      "\u001b[32m[I 2022-08-15 23:46:36,685]\u001b[0m Trial 34 finished with value: 6236.948356807512 and parameters: {'kErase': 2, 'kRadius': 6, 'kAnnealingA': -0.7538083688426438, 'kAnnealingB': 2.1665014933314826, 'kAnnealingStart': 10.105522342206374, 'kSkipRatio': 0.4074246131380065, 'kTargetDeterminationTrials': 8, 'kAttractionRatio': 0.641611176733328, 'kMaxAttractionDistance': 11, 'kStartAttraction': 0.01931625419438001}. Best is trial 24 with value: 6623.173708920188.\u001b[0m\n"
     ]
    },
    {
     "name": "stdout",
     "output_type": "stream",
     "text": [
      "index_parallel='0035'\n"
     ]
    },
    {
     "name": "stderr",
     "output_type": "stream",
     "text": [
      "\u001b[32m[I 2022-08-15 23:50:37,510]\u001b[0m Trial 35 finished with value: 6550.788732394366 and parameters: {'kErase': 1, 'kRadius': 5, 'kAnnealingA': 10.604813501710145, 'kAnnealingB': 1.6739525163069247, 'kAnnealingStart': 27.169031750929957, 'kSkipRatio': 0.6027394260888411, 'kTargetDeterminationTrials': 6, 'kAttractionRatio': 0.26006263880709424, 'kMaxAttractionDistance': 14, 'kStartAttraction': 0.15024274722382056}. Best is trial 24 with value: 6623.173708920188.\u001b[0m\n"
     ]
    },
    {
     "name": "stdout",
     "output_type": "stream",
     "text": [
      "index_parallel='0036'\n"
     ]
    },
    {
     "name": "stderr",
     "output_type": "stream",
     "text": [
      "\u001b[32m[I 2022-08-15 23:54:38,646]\u001b[0m Trial 36 finished with value: 6502.455399061033 and parameters: {'kErase': 2, 'kRadius': 3, 'kAnnealingA': 3.7332227925247485, 'kAnnealingB': 1.1633612223027032, 'kAnnealingStart': 37.156519360473524, 'kSkipRatio': 0.5609584410933444, 'kTargetDeterminationTrials': 5, 'kAttractionRatio': 0.16060041155544938, 'kMaxAttractionDistance': 18, 'kStartAttraction': 0.2255381815756941}. Best is trial 24 with value: 6623.173708920188.\u001b[0m\n"
     ]
    },
    {
     "name": "stdout",
     "output_type": "stream",
     "text": [
      "index_parallel='0037'\n"
     ]
    },
    {
     "name": "stderr",
     "output_type": "stream",
     "text": [
      "\u001b[32m[I 2022-08-15 23:58:39,527]\u001b[0m Trial 37 finished with value: 6303.460093896713 and parameters: {'kErase': 1, 'kRadius': 4, 'kAnnealingA': 6.851129953763172, 'kAnnealingB': 0.6669793928436512, 'kAnnealingStart': 18.661085005233055, 'kSkipRatio': 0.2699409703842304, 'kTargetDeterminationTrials': 11, 'kAttractionRatio': 0.338398479492205, 'kMaxAttractionDistance': 4, 'kStartAttraction': 0.10774057555092058}. Best is trial 24 with value: 6623.173708920188.\u001b[0m\n"
     ]
    },
    {
     "name": "stdout",
     "output_type": "stream",
     "text": [
      "index_parallel='0038'\n"
     ]
    },
    {
     "name": "stderr",
     "output_type": "stream",
     "text": [
      "\u001b[32m[I 2022-08-16 00:02:40,784]\u001b[0m Trial 38 finished with value: 6094.370892018779 and parameters: {'kErase': 4, 'kRadius': 4, 'kAnnealingA': -1.248431744256341, 'kAnnealingB': 1.3933610183724419, 'kAnnealingStart': 13.631011052947656, 'kSkipRatio': 0.40585905581607207, 'kTargetDeterminationTrials': 4, 'kAttractionRatio': 0.5308018791070076, 'kMaxAttractionDistance': 6, 'kStartAttraction': 0.01358759518000177}. Best is trial 24 with value: 6623.173708920188.\u001b[0m\n"
     ]
    },
    {
     "name": "stdout",
     "output_type": "stream",
     "text": [
      "index_parallel='0039'\n"
     ]
    },
    {
     "name": "stderr",
     "output_type": "stream",
     "text": [
      "\u001b[32m[I 2022-08-16 00:06:41,632]\u001b[0m Trial 39 finished with value: 6414.107981220657 and parameters: {'kErase': 1, 'kRadius': 3, 'kAnnealingA': 1.1529201730638656, 'kAnnealingB': 0.9581027479685638, 'kAnnealingStart': 8.734795888176363, 'kSkipRatio': 0.48720075665401874, 'kTargetDeterminationTrials': 1, 'kAttractionRatio': 0.07216394671308073, 'kMaxAttractionDistance': 15, 'kStartAttraction': 0.588400170071292}. Best is trial 24 with value: 6623.173708920188.\u001b[0m\n"
     ]
    },
    {
     "name": "stdout",
     "output_type": "stream",
     "text": [
      "index_parallel='0040'\n"
     ]
    },
    {
     "name": "stderr",
     "output_type": "stream",
     "text": [
      "\u001b[32m[I 2022-08-16 00:10:43,192]\u001b[0m Trial 40 finished with value: 6335.723004694835 and parameters: {'kErase': 3, 'kRadius': 6, 'kAnnealingA': -3.573682424363308, 'kAnnealingB': 0.3489165011347245, 'kAnnealingStart': 61.365581483171205, 'kSkipRatio': 0.5312720970246871, 'kTargetDeterminationTrials': 6, 'kAttractionRatio': 0.3667352466815547, 'kMaxAttractionDistance': 5, 'kStartAttraction': 0.009670759985313743}. Best is trial 24 with value: 6623.173708920188.\u001b[0m\n"
     ]
    },
    {
     "name": "stdout",
     "output_type": "stream",
     "text": [
      "index_parallel='0041'\n"
     ]
    },
    {
     "name": "stderr",
     "output_type": "stream",
     "text": [
      "\u001b[32m[I 2022-08-16 00:14:44,134]\u001b[0m Trial 41 finished with value: 6527.68544600939 and parameters: {'kErase': 1, 'kRadius': 5, 'kAnnealingA': 0.7309993734667022, 'kAnnealingB': 1.228886875089748, 'kAnnealingStart': 21.227190425153736, 'kSkipRatio': 0.4449133687209334, 'kTargetDeterminationTrials': 3, 'kAttractionRatio': 0.687889496072542, 'kMaxAttractionDistance': 9, 'kStartAttraction': 0.17223958302007664}. Best is trial 24 with value: 6623.173708920188.\u001b[0m\n"
     ]
    },
    {
     "name": "stdout",
     "output_type": "stream",
     "text": [
      "index_parallel='0042'\n"
     ]
    },
    {
     "name": "stderr",
     "output_type": "stream",
     "text": [
      "\u001b[32m[I 2022-08-16 00:18:44,898]\u001b[0m Trial 42 finished with value: 6636.943661971831 and parameters: {'kErase': 1, 'kRadius': 5, 'kAnnealingA': 1.7510806099614171, 'kAnnealingB': 1.4059429414366957, 'kAnnealingStart': 30.944494720078026, 'kSkipRatio': 0.537174183624321, 'kTargetDeterminationTrials': 3, 'kAttractionRatio': 0.6145523140762812, 'kMaxAttractionDistance': 11, 'kStartAttraction': 0.23151954958326257}. Best is trial 42 with value: 6636.943661971831.\u001b[0m\n"
     ]
    },
    {
     "name": "stdout",
     "output_type": "stream",
     "text": [
      "Updated! 6636.943661971831\n",
      "index_parallel='0043'\n"
     ]
    },
    {
     "name": "stderr",
     "output_type": "stream",
     "text": [
      "\u001b[32m[I 2022-08-16 00:22:45,896]\u001b[0m Trial 43 finished with value: 6554.708920187793 and parameters: {'kErase': 1, 'kRadius': 5, 'kAnnealingA': 3.9155232891479743, 'kAnnealingB': 1.5061198299778964, 'kAnnealingStart': 35.76035836579899, 'kSkipRatio': 0.5702098869418885, 'kTargetDeterminationTrials': 2, 'kAttractionRatio': 0.5530464209930628, 'kMaxAttractionDistance': 13, 'kStartAttraction': 0.2407140688921428}. Best is trial 42 with value: 6636.943661971831.\u001b[0m\n"
     ]
    },
    {
     "name": "stdout",
     "output_type": "stream",
     "text": [
      "index_parallel='0044'\n"
     ]
    },
    {
     "name": "stderr",
     "output_type": "stream",
     "text": [
      "\u001b[32m[I 2022-08-16 00:26:47,124]\u001b[0m Trial 44 finished with value: 6499.835680751174 and parameters: {'kErase': 2, 'kRadius': 5, 'kAnnealingA': 6.102702125348811, 'kAnnealingB': 0.8939897849548006, 'kAnnealingStart': 29.693191954264204, 'kSkipRatio': 0.6312543095049706, 'kTargetDeterminationTrials': 3, 'kAttractionRatio': 0.4370567056357388, 'kMaxAttractionDistance': 17, 'kStartAttraction': 0.39607062767843226}. Best is trial 42 with value: 6636.943661971831.\u001b[0m\n"
     ]
    },
    {
     "name": "stdout",
     "output_type": "stream",
     "text": [
      "index_parallel='0045'\n"
     ]
    },
    {
     "name": "stderr",
     "output_type": "stream",
     "text": [
      "\u001b[32m[I 2022-08-16 00:30:47,764]\u001b[0m Trial 45 finished with value: 6568.4131455399065 and parameters: {'kErase': 1, 'kRadius': 2, 'kAnnealingA': 2.0783256325588733, 'kAnnealingB': 2.170685843825518, 'kAnnealingStart': 38.6298272460358, 'kSkipRatio': 0.3715792277974351, 'kTargetDeterminationTrials': 5, 'kAttractionRatio': 0.2944644185318325, 'kMaxAttractionDistance': 8, 'kStartAttraction': 0.11683026718417693}. Best is trial 42 with value: 6636.943661971831.\u001b[0m\n"
     ]
    },
    {
     "name": "stdout",
     "output_type": "stream",
     "text": [
      "index_parallel='0046'\n"
     ]
    },
    {
     "name": "stderr",
     "output_type": "stream",
     "text": [
      "\u001b[32m[I 2022-08-16 00:34:48,670]\u001b[0m Trial 46 finished with value: 6378.12676056338 and parameters: {'kErase': 1, 'kRadius': 2, 'kAnnealingA': -6.777745505881877, 'kAnnealingB': 2.1954287767530056, 'kAnnealingStart': 86.4197798068131, 'kSkipRatio': 0.3568651225239384, 'kTargetDeterminationTrials': 5, 'kAttractionRatio': 0.3116349051302855, 'kMaxAttractionDistance': 6, 'kStartAttraction': 0.12467927104499796}. Best is trial 42 with value: 6636.943661971831.\u001b[0m\n"
     ]
    },
    {
     "name": "stdout",
     "output_type": "stream",
     "text": [
      "index_parallel='0047'\n"
     ]
    },
    {
     "name": "stderr",
     "output_type": "stream",
     "text": [
      "\u001b[32m[I 2022-08-16 00:38:50,754]\u001b[0m Trial 47 finished with value: 5666.037558685446 and parameters: {'kErase': 5, 'kRadius': 2, 'kAnnealingA': 8.168298177988602, 'kAnnealingB': 2.5528547834841024, 'kAnnealingStart': 42.86433209812246, 'kSkipRatio': 0.3512312142749695, 'kTargetDeterminationTrials': 9, 'kAttractionRatio': 0.2567447702266185, 'kMaxAttractionDistance': 94, 'kStartAttraction': 0.024728270094472565}. Best is trial 42 with value: 6636.943661971831.\u001b[0m\n"
     ]
    },
    {
     "name": "stdout",
     "output_type": "stream",
     "text": [
      "index_parallel='0048'\n"
     ]
    },
    {
     "name": "stderr",
     "output_type": "stream",
     "text": [
      "\u001b[32m[I 2022-08-16 00:42:51,794]\u001b[0m Trial 48 finished with value: 6382.31455399061 and parameters: {'kErase': 2, 'kRadius': 2, 'kAnnealingA': 2.4111839366322942, 'kAnnealingB': 2.773177155925408, 'kAnnealingStart': 6.863424608483797, 'kSkipRatio': 0.2998008479904065, 'kTargetDeterminationTrials': 19, 'kAttractionRatio': 0.138501811985634, 'kMaxAttractionDistance': 4, 'kStartAttraction': 0.6653378220830808}. Best is trial 42 with value: 6636.943661971831.\u001b[0m\n"
     ]
    },
    {
     "name": "stdout",
     "output_type": "stream",
     "text": [
      "index_parallel='0049'\n"
     ]
    },
    {
     "name": "stderr",
     "output_type": "stream",
     "text": [
      "\u001b[32m[I 2022-08-16 00:46:52,639]\u001b[0m Trial 49 finished with value: 6052.178403755868 and parameters: {'kErase': 1, 'kRadius': 2, 'kAnnealingA': 7.222702534022805, 'kAnnealingB': 2.3242085099591074, 'kAnnealingStart': 64.0351887227982, 'kSkipRatio': 0.7443556358689444, 'kTargetDeterminationTrials': 6, 'kAttractionRatio': 0.1929078284079899, 'kMaxAttractionDistance': 8, 'kStartAttraction': 0.37245995792727726}. Best is trial 42 with value: 6636.943661971831.\u001b[0m\n"
     ]
    },
    {
     "name": "stdout",
     "output_type": "stream",
     "text": [
      "index_parallel='0050'\n"
     ]
    },
    {
     "name": "stderr",
     "output_type": "stream",
     "text": [
      "\u001b[32m[I 2022-08-16 00:50:54,151]\u001b[0m Trial 50 finished with value: 6327.708920187793 and parameters: {'kErase': 3, 'kRadius': 3, 'kAnnealingA': 10.36747911703526, 'kAnnealingB': 2.033324926043851, 'kAnnealingStart': 18.32266925886877, 'kSkipRatio': 0.4228093817299931, 'kTargetDeterminationTrials': 16, 'kAttractionRatio': 0.300395549631105, 'kMaxAttractionDistance': 8, 'kStartAttraction': 0.0040062233769387065}. Best is trial 42 with value: 6636.943661971831.\u001b[0m\n"
     ]
    },
    {
     "name": "stdout",
     "output_type": "stream",
     "text": [
      "index_parallel='0051'\n"
     ]
    },
    {
     "name": "stderr",
     "output_type": "stream",
     "text": [
      "\u001b[32m[I 2022-08-16 00:54:55,137]\u001b[0m Trial 51 finished with value: 6631.539906103287 and parameters: {'kErase': 1, 'kRadius': 2, 'kAnnealingA': -0.26489581786965144, 'kAnnealingB': 1.6812674888678154, 'kAnnealingStart': 42.680503532185476, 'kSkipRatio': 0.522106772103127, 'kTargetDeterminationTrials': 4, 'kAttractionRatio': 0.7891521231331293, 'kMaxAttractionDistance': 11, 'kStartAttraction': 0.08503491963030396}. Best is trial 42 with value: 6636.943661971831.\u001b[0m\n"
     ]
    },
    {
     "name": "stdout",
     "output_type": "stream",
     "text": [
      "index_parallel='0052'\n"
     ]
    },
    {
     "name": "stderr",
     "output_type": "stream",
     "text": [
      "\u001b[32m[I 2022-08-16 00:58:55,872]\u001b[0m Trial 52 finished with value: 6600.769953051643 and parameters: {'kErase': 1, 'kRadius': 2, 'kAnnealingA': -2.1348346792445394, 'kAnnealingB': 1.652129824703703, 'kAnnealingStart': 31.91881724754008, 'kSkipRatio': 0.4676653712206385, 'kTargetDeterminationTrials': 4, 'kAttractionRatio': 0.7682039972353241, 'kMaxAttractionDistance': 10, 'kStartAttraction': 0.05258961380073586}. Best is trial 42 with value: 6636.943661971831.\u001b[0m\n"
     ]
    },
    {
     "name": "stdout",
     "output_type": "stream",
     "text": [
      "index_parallel='0053'\n"
     ]
    },
    {
     "name": "stderr",
     "output_type": "stream",
     "text": [
      "\u001b[32m[I 2022-08-16 01:02:56,743]\u001b[0m Trial 53 finished with value: 6577.197183098591 and parameters: {'kErase': 1, 'kRadius': 2, 'kAnnealingA': -2.0285040395451417, 'kAnnealingB': 1.749639066271925, 'kAnnealingStart': 31.947654782008343, 'kSkipRatio': 0.47412527250376013, 'kTargetDeterminationTrials': 4, 'kAttractionRatio': 0.7456464485966119, 'kMaxAttractionDistance': 10, 'kStartAttraction': 0.0464040738467288}. Best is trial 42 with value: 6636.943661971831.\u001b[0m\n"
     ]
    },
    {
     "name": "stdout",
     "output_type": "stream",
     "text": [
      "index_parallel='0054'\n"
     ]
    },
    {
     "name": "stderr",
     "output_type": "stream",
     "text": [
      "\u001b[32m[I 2022-08-16 01:06:57,982]\u001b[0m Trial 54 finished with value: 6578.924882629108 and parameters: {'kErase': 2, 'kRadius': 2, 'kAnnealingA': -2.0695665229524485, 'kAnnealingB': 1.7531225930143113, 'kAnnealingStart': 32.12197197575701, 'kSkipRatio': 0.47024307748567207, 'kTargetDeterminationTrials': 4, 'kAttractionRatio': 0.7369240268898024, 'kMaxAttractionDistance': 11, 'kStartAttraction': 0.04825533729892374}. Best is trial 42 with value: 6636.943661971831.\u001b[0m\n"
     ]
    },
    {
     "name": "stdout",
     "output_type": "stream",
     "text": [
      "index_parallel='0055'\n"
     ]
    },
    {
     "name": "stderr",
     "output_type": "stream",
     "text": [
      "\u001b[32m[I 2022-08-16 01:10:59,016]\u001b[0m Trial 55 finished with value: 6488.8779342723 and parameters: {'kErase': 2, 'kRadius': 3, 'kAnnealingA': -3.2324194011693357, 'kAnnealingB': 1.585541547615214, 'kAnnealingStart': 45.85120196184223, 'kSkipRatio': 0.433700196364409, 'kTargetDeterminationTrials': 7, 'kAttractionRatio': 0.5777785626039361, 'kMaxAttractionDistance': 11, 'kStartAttraction': 0.05874525489329708}. Best is trial 42 with value: 6636.943661971831.\u001b[0m\n"
     ]
    },
    {
     "name": "stdout",
     "output_type": "stream",
     "text": [
      "index_parallel='0056'\n"
     ]
    },
    {
     "name": "stderr",
     "output_type": "stream",
     "text": [
      "\u001b[32m[I 2022-08-16 01:15:00,178]\u001b[0m Trial 56 finished with value: 6178.220657276996 and parameters: {'kErase': 3, 'kRadius': 3, 'kAnnealingA': -0.07168027796230417, 'kAnnealingB': 1.4464886558208188, 'kAnnealingStart': 96.9650458572086, 'kSkipRatio': 0.38123123436826706, 'kTargetDeterminationTrials': 6, 'kAttractionRatio': 0.7578813152240256, 'kMaxAttractionDistance': 20, 'kStartAttraction': 0.03382900154846622}. Best is trial 42 with value: 6636.943661971831.\u001b[0m\n"
     ]
    },
    {
     "name": "stdout",
     "output_type": "stream",
     "text": [
      "index_parallel='0057'\n"
     ]
    },
    {
     "name": "stderr",
     "output_type": "stream",
     "text": [
      "\u001b[32m[I 2022-08-16 01:19:01,565]\u001b[0m Trial 57 finished with value: 6345.892018779343 and parameters: {'kErase': 2, 'kRadius': 2, 'kAnnealingA': -9.092723819313438, 'kAnnealingB': 1.8929521607214153, 'kAnnealingStart': 57.70026925019431, 'kSkipRatio': 0.5097178667503796, 'kTargetDeterminationTrials': 5, 'kAttractionRatio': 0.4587452844114118, 'kMaxAttractionDistance': 14, 'kStartAttraction': 0.0795685176102157}. Best is trial 42 with value: 6636.943661971831.\u001b[0m\n"
     ]
    },
    {
     "name": "stdout",
     "output_type": "stream",
     "text": [
      "index_parallel='0058'\n"
     ]
    },
    {
     "name": "stderr",
     "output_type": "stream",
     "text": [
      "\u001b[32m[I 2022-08-16 01:23:02,907]\u001b[0m Trial 58 finished with value: 6566.338028169014 and parameters: {'kErase': 2, 'kRadius': 2, 'kAnnealingA': -1.0722525827379372, 'kAnnealingB': 1.748856868514602, 'kAnnealingStart': 40.897965229701235, 'kSkipRatio': 0.4573975887492484, 'kTargetDeterminationTrials': 4, 'kAttractionRatio': 0.8941291332110718, 'kMaxAttractionDistance': 11, 'kStartAttraction': 0.0629694456195735}. Best is trial 42 with value: 6636.943661971831.\u001b[0m\n"
     ]
    },
    {
     "name": "stdout",
     "output_type": "stream",
     "text": [
      "index_parallel='0059'\n"
     ]
    },
    {
     "name": "stderr",
     "output_type": "stream",
     "text": [
      "\u001b[32m[I 2022-08-16 01:27:03,468]\u001b[0m Trial 59 finished with value: 6417.953051643192 and parameters: {'kErase': 1, 'kRadius': 2, 'kAnnealingA': -5.367644259524003, 'kAnnealingB': 1.6383193184922407, 'kAnnealingStart': 26.32754858289464, 'kSkipRatio': 0.5432074099839881, 'kTargetDeterminationTrials': 8, 'kAttractionRatio': 0.6216699526942119, 'kMaxAttractionDistance': 16, 'kStartAttraction': 0.2365152519738722}. Best is trial 42 with value: 6636.943661971831.\u001b[0m\n"
     ]
    },
    {
     "name": "stdout",
     "output_type": "stream",
     "text": [
      "index_parallel='0060'\n"
     ]
    },
    {
     "name": "stderr",
     "output_type": "stream",
     "text": [
      "\u001b[32m[I 2022-08-16 01:31:04,795]\u001b[0m Trial 60 finished with value: 6245.239436619719 and parameters: {'kErase': 2, 'kRadius': 2, 'kAnnealingA': -2.868649361843321, 'kAnnealingB': 2.05791529033908, 'kAnnealingStart': 1.499678092189263, 'kSkipRatio': 0.48380805082728984, 'kTargetDeterminationTrials': 3, 'kAttractionRatio': 0.5020926165533917, 'kMaxAttractionDistance': 9, 'kStartAttraction': 0.024290105250634023}. Best is trial 42 with value: 6636.943661971831.\u001b[0m\n"
     ]
    },
    {
     "name": "stdout",
     "output_type": "stream",
     "text": [
      "index_parallel='0061'\n"
     ]
    },
    {
     "name": "stderr",
     "output_type": "stream",
     "text": [
      "\u001b[32m[I 2022-08-16 01:35:06,051]\u001b[0m Trial 61 finished with value: 6548.596244131455 and parameters: {'kErase': 1, 'kRadius': 2, 'kAnnealingA': -2.034273861807801, 'kAnnealingB': 1.8395855437240263, 'kAnnealingStart': 31.997506306839604, 'kSkipRatio': 0.46691404319458996, 'kTargetDeterminationTrials': 4, 'kAttractionRatio': 0.7417156411337019, 'kMaxAttractionDistance': 13, 'kStartAttraction': 0.03780643345654106}. Best is trial 42 with value: 6636.943661971831.\u001b[0m\n"
     ]
    },
    {
     "name": "stdout",
     "output_type": "stream",
     "text": [
      "index_parallel='0062'\n"
     ]
    },
    {
     "name": "stderr",
     "output_type": "stream",
     "text": [
      "\u001b[32m[I 2022-08-16 01:39:06,733]\u001b[0m Trial 62 finished with value: 6580.356807511737 and parameters: {'kErase': 1, 'kRadius': 2, 'kAnnealingA': -1.657808552186228, 'kAnnealingB': 1.7476598495970987, 'kAnnealingStart': 31.625600880745505, 'kSkipRatio': 0.4810786585295002, 'kTargetDeterminationTrials': 4, 'kAttractionRatio': 0.7671213299401666, 'kMaxAttractionDistance': 10, 'kStartAttraction': 0.05000620437687507}. Best is trial 42 with value: 6636.943661971831.\u001b[0m\n"
     ]
    },
    {
     "name": "stdout",
     "output_type": "stream",
     "text": [
      "index_parallel='0063'\n"
     ]
    },
    {
     "name": "stderr",
     "output_type": "stream",
     "text": [
      "\u001b[32m[I 2022-08-16 01:43:07,591]\u001b[0m Trial 63 finished with value: 6596.765258215963 and parameters: {'kErase': 1, 'kRadius': 2, 'kAnnealingA': 0.10711004537337304, 'kAnnealingB': 1.5043567251753696, 'kAnnealingStart': 73.24776192757754, 'kSkipRatio': 0.45009824322051917, 'kTargetDeterminationTrials': 7, 'kAttractionRatio': 0.7857199714199852, 'kMaxAttractionDistance': 7, 'kStartAttraction': 0.05066987873254258}. Best is trial 42 with value: 6636.943661971831.\u001b[0m\n"
     ]
    },
    {
     "name": "stdout",
     "output_type": "stream",
     "text": [
      "index_parallel='0064'\n"
     ]
    },
    {
     "name": "stderr",
     "output_type": "stream",
     "text": [
      "\u001b[32m[I 2022-08-16 01:47:08,519]\u001b[0m Trial 64 finished with value: 6617.985915492958 and parameters: {'kErase': 1, 'kRadius': 3, 'kAnnealingA': 0.22129466525967012, 'kAnnealingB': 1.5008795942072244, 'kAnnealingStart': 56.2887593291882, 'kSkipRatio': 0.50752089971771, 'kTargetDeterminationTrials': 10, 'kAttractionRatio': 0.6373759611452549, 'kMaxAttractionDistance': 7, 'kStartAttraction': 0.026261930717460663}. Best is trial 42 with value: 6636.943661971831.\u001b[0m\n"
     ]
    },
    {
     "name": "stdout",
     "output_type": "stream",
     "text": [
      "index_parallel='0065'\n"
     ]
    },
    {
     "name": "stderr",
     "output_type": "stream",
     "text": [
      "\u001b[32m[I 2022-08-16 01:51:09,744]\u001b[0m Trial 65 finished with value: 6536.338028169014 and parameters: {'kErase': 1, 'kRadius': 4, 'kAnnealingA': 0.03167887918285217, 'kAnnealingB': 1.1204382787186553, 'kAnnealingStart': 71.54949469958711, 'kSkipRatio': 0.5003299433116675, 'kTargetDeterminationTrials': 13, 'kAttractionRatio': 0.6186231340313094, 'kMaxAttractionDistance': 7, 'kStartAttraction': 0.028871955170953374}. Best is trial 42 with value: 6636.943661971831.\u001b[0m\n"
     ]
    },
    {
     "name": "stdout",
     "output_type": "stream",
     "text": [
      "index_parallel='0066'\n"
     ]
    },
    {
     "name": "stderr",
     "output_type": "stream",
     "text": [
      "\u001b[32m[I 2022-08-16 01:55:10,705]\u001b[0m Trial 66 finished with value: 6631.366197183099 and parameters: {'kErase': 1, 'kRadius': 3, 'kAnnealingA': 1.8452053522677525, 'kAnnealingB': 1.517939919702318, 'kAnnealingStart': 52.952567248867076, 'kSkipRatio': 0.5527384571893775, 'kTargetDeterminationTrials': 10, 'kAttractionRatio': 0.8913964657670023, 'kMaxAttractionDistance': 6, 'kStartAttraction': 0.09592425318825648}. Best is trial 42 with value: 6636.943661971831.\u001b[0m\n"
     ]
    },
    {
     "name": "stdout",
     "output_type": "stream",
     "text": [
      "index_parallel='0067'\n"
     ]
    },
    {
     "name": "stderr",
     "output_type": "stream",
     "text": [
      "\u001b[32m[I 2022-08-16 01:59:11,849]\u001b[0m Trial 67 finished with value: 6119.920187793427 and parameters: {'kErase': 1, 'kRadius': 3, 'kAnnealingA': 3.9191715981486177, 'kAnnealingB': 1.5160616479811324, 'kAnnealingStart': 75.29670533144353, 'kSkipRatio': 0.5607921982647528, 'kTargetDeterminationTrials': 12, 'kAttractionRatio': 0.4024161787570734, 'kMaxAttractionDistance': 6, 'kStartAttraction': 0.07876301915166031}. Best is trial 42 with value: 6636.943661971831.\u001b[0m\n"
     ]
    },
    {
     "name": "stdout",
     "output_type": "stream",
     "text": [
      "index_parallel='0068'\n"
     ]
    },
    {
     "name": "stderr",
     "output_type": "stream",
     "text": [
      "\u001b[32m[I 2022-08-16 02:03:12,795]\u001b[0m Trial 68 finished with value: 6552.197183098591 and parameters: {'kErase': 1, 'kRadius': 3, 'kAnnealingA': 0.14030078089594442, 'kAnnealingB': 1.3802585158341296, 'kAnnealingStart': 54.70565005909248, 'kSkipRatio': 0.5860930898116604, 'kTargetDeterminationTrials': 7, 'kAttractionRatio': 0.49268044927375093, 'kMaxAttractionDistance': 5, 'kStartAttraction': 0.14209168308368403}. Best is trial 42 with value: 6636.943661971831.\u001b[0m\n"
     ]
    },
    {
     "name": "stdout",
     "output_type": "stream",
     "text": [
      "index_parallel='0069'\n"
     ]
    },
    {
     "name": "stderr",
     "output_type": "stream",
     "text": [
      "\u001b[32m[I 2022-08-16 02:07:13,837]\u001b[0m Trial 69 finished with value: 6413.286384976525 and parameters: {'kErase': 1, 'kRadius': 3, 'kAnnealingA': -4.036307705366954, 'kAnnealingB': 1.4786118192552353, 'kAnnealingStart': 77.18941093944916, 'kSkipRatio': 0.529463601160873, 'kTargetDeterminationTrials': 9, 'kAttractionRatio': 0.036349602463372065, 'kMaxAttractionDistance': 61, 'kStartAttraction': 0.09103310891466368}. Best is trial 42 with value: 6636.943661971831.\u001b[0m\n"
     ]
    },
    {
     "name": "stdout",
     "output_type": "stream",
     "text": [
      "index_parallel='0070'\n"
     ]
    },
    {
     "name": "stderr",
     "output_type": "stream",
     "text": [
      "\u001b[32m[I 2022-08-16 02:11:14,786]\u001b[0m Trial 70 finished with value: 5664.399061032864 and parameters: {'kErase': 1, 'kRadius': 3, 'kAnnealingA': 3.460297639304513, 'kAnnealingB': 1.2013799350024736, 'kAnnealingStart': 95.11282513772494, 'kSkipRatio': 0.5493866542797523, 'kTargetDeterminationTrials': 10, 'kAttractionRatio': 0.010331584464812983, 'kMaxAttractionDistance': 9, 'kStartAttraction': 0.022584119266410792}. Best is trial 42 with value: 6636.943661971831.\u001b[0m\n"
     ]
    },
    {
     "name": "stdout",
     "output_type": "stream",
     "text": [
      "index_parallel='0071'\n"
     ]
    },
    {
     "name": "stderr",
     "output_type": "stream",
     "text": [
      "\u001b[32m[I 2022-08-16 02:15:15,496]\u001b[0m Trial 71 finished with value: 6542.225352112676 and parameters: {'kErase': 1, 'kRadius': 4, 'kAnnealingA': 0.6259901320638246, 'kAnnealingB': 1.5994620980286922, 'kAnnealingStart': 50.51233348524024, 'kSkipRatio': 0.4287808238389363, 'kTargetDeterminationTrials': 15, 'kAttractionRatio': 0.8434623829794836, 'kMaxAttractionDistance': 7, 'kStartAttraction': 0.19242091069455733}. Best is trial 42 with value: 6636.943661971831.\u001b[0m\n"
     ]
    },
    {
     "name": "stdout",
     "output_type": "stream",
     "text": [
      "index_parallel='0072'\n"
     ]
    },
    {
     "name": "stderr",
     "output_type": "stream",
     "text": [
      "\u001b[32m[I 2022-08-16 02:19:16,403]\u001b[0m Trial 72 finished with value: 6486.4647887323945 and parameters: {'kErase': 1, 'kRadius': 4, 'kAnnealingA': 1.6302735212682582, 'kAnnealingB': 1.6616204850436338, 'kAnnealingStart': 43.13712236261203, 'kSkipRatio': 0.5170544211543208, 'kTargetDeterminationTrials': 9, 'kAttractionRatio': 0.657326680803677, 'kMaxAttractionDistance': 6, 'kStartAttraction': 0.30257491978062745}. Best is trial 42 with value: 6636.943661971831.\u001b[0m\n"
     ]
    },
    {
     "name": "stdout",
     "output_type": "stream",
     "text": [
      "index_parallel='0073'\n"
     ]
    },
    {
     "name": "stderr",
     "output_type": "stream",
     "text": [
      "\u001b[32m[I 2022-08-16 02:23:17,628]\u001b[0m Trial 73 finished with value: 6352.366197183099 and parameters: {'kErase': 1, 'kRadius': 3, 'kAnnealingA': 2.9136315486633744, 'kAnnealingB': 1.3944885479945524, 'kAnnealingStart': 64.87861782741693, 'kSkipRatio': 0.45199343072836806, 'kTargetDeterminationTrials': 15, 'kAttractionRatio': 0.566234063587329, 'kMaxAttractionDistance': 5, 'kStartAttraction': 0.06544100315102507}. Best is trial 42 with value: 6636.943661971831.\u001b[0m\n"
     ]
    },
    {
     "name": "stdout",
     "output_type": "stream",
     "text": [
      "index_parallel='0074'\n"
     ]
    },
    {
     "name": "stderr",
     "output_type": "stream",
     "text": [
      "\u001b[32m[I 2022-08-16 02:27:18,509]\u001b[0m Trial 74 finished with value: 6525.7276995305165 and parameters: {'kErase': 1, 'kRadius': 4, 'kAnnealingA': -0.5708848148916581, 'kAnnealingB': 1.570589234591774, 'kAnnealingStart': 26.672129057433537, 'kSkipRatio': 0.6030825184646966, 'kTargetDeterminationTrials': 13, 'kAttractionRatio': 0.8978660991201385, 'kMaxAttractionDistance': 8, 'kStartAttraction': 0.36797639578858404}. Best is trial 42 with value: 6636.943661971831.\u001b[0m\n"
     ]
    },
    {
     "name": "stdout",
     "output_type": "stream",
     "text": [
      "index_parallel='0075'\n"
     ]
    },
    {
     "name": "stderr",
     "output_type": "stream",
     "text": [
      "\u001b[32m[I 2022-08-16 02:31:19,243]\u001b[0m Trial 75 finished with value: 6405.694835680752 and parameters: {'kErase': 1, 'kRadius': 3, 'kAnnealingA': 5.266880329250836, 'kAnnealingB': 1.0489036468041097, 'kAnnealingStart': 54.73760806477892, 'kSkipRatio': 0.5005904355834071, 'kTargetDeterminationTrials': 10, 'kAttractionRatio': 0.6990680425893399, 'kMaxAttractionDistance': 7, 'kStartAttraction': 0.09590945147052715}. Best is trial 42 with value: 6636.943661971831.\u001b[0m\n"
     ]
    },
    {
     "name": "stdout",
     "output_type": "stream",
     "text": [
      "index_parallel='0076'\n"
     ]
    },
    {
     "name": "stderr",
     "output_type": "stream",
     "text": [
      "\u001b[32m[I 2022-08-16 02:35:20,038]\u001b[0m Trial 76 finished with value: 6656.807511737089 and parameters: {'kErase': 1, 'kRadius': 2, 'kAnnealingA': 2.0419610111652347, 'kAnnealingB': 1.2901007873377606, 'kAnnealingStart': 38.51385103265775, 'kSkipRatio': 0.6872124398192206, 'kTargetDeterminationTrials': 8, 'kAttractionRatio': 0.8144989596433521, 'kMaxAttractionDistance': 9, 'kStartAttraction': 0.1388357535274995}. Best is trial 76 with value: 6656.807511737089.\u001b[0m\n"
     ]
    },
    {
     "name": "stdout",
     "output_type": "stream",
     "text": [
      "Updated! 6656.807511737089\n",
      "index_parallel='0077'\n"
     ]
    },
    {
     "name": "stderr",
     "output_type": "stream",
     "text": [
      "\u001b[32m[I 2022-08-16 02:39:21,231]\u001b[0m Trial 77 finished with value: 6613.159624413145 and parameters: {'kErase': 1, 'kRadius': 2, 'kAnnealingA': 1.8967136262750695, 'kAnnealingB': 1.298162860352627, 'kAnnealingStart': 37.10204884028061, 'kSkipRatio': 0.6682041983183963, 'kTargetDeterminationTrials': 8, 'kAttractionRatio': 0.7925923724329396, 'kMaxAttractionDistance': 13, 'kStartAttraction': 0.15190638955268654}. Best is trial 76 with value: 6656.807511737089.\u001b[0m\n"
     ]
    },
    {
     "name": "stdout",
     "output_type": "stream",
     "text": [
      "index_parallel='0078'\n"
     ]
    },
    {
     "name": "stderr",
     "output_type": "stream",
     "text": [
      "\u001b[32m[I 2022-08-16 02:43:21,936]\u001b[0m Trial 78 finished with value: 6648.065727699531 and parameters: {'kErase': 1, 'kRadius': 2, 'kAnnealingA': 1.8638308382464486, 'kAnnealingB': 1.2614344067028977, 'kAnnealingStart': 36.518390433095625, 'kSkipRatio': 0.6864703315195236, 'kTargetDeterminationTrials': 8, 'kAttractionRatio': 0.5265224770611471, 'kMaxAttractionDistance': 13, 'kStartAttraction': 0.13626484352359464}. Best is trial 76 with value: 6656.807511737089.\u001b[0m\n"
     ]
    },
    {
     "name": "stdout",
     "output_type": "stream",
     "text": [
      "index_parallel='0079'\n"
     ]
    },
    {
     "name": "stderr",
     "output_type": "stream",
     "text": [
      "\u001b[32m[I 2022-08-16 02:47:22,590]\u001b[0m Trial 79 finished with value: 6606.366197183099 and parameters: {'kErase': 1, 'kRadius': 2, 'kAnnealingA': 1.923986095658667, 'kAnnealingB': 1.2691808046398245, 'kAnnealingStart': 37.93664793893201, 'kSkipRatio': 0.6699479198611212, 'kTargetDeterminationTrials': 8, 'kAttractionRatio': 0.3522307407022573, 'kMaxAttractionDistance': 12, 'kStartAttraction': 0.14991208421609864}. Best is trial 76 with value: 6656.807511737089.\u001b[0m\n"
     ]
    },
    {
     "name": "stdout",
     "output_type": "stream",
     "text": [
      "index_parallel='0080'\n"
     ]
    },
    {
     "name": "stderr",
     "output_type": "stream",
     "text": [
      "\u001b[32m[I 2022-08-16 02:51:23,580]\u001b[0m Trial 80 finished with value: 6537.596244131455 and parameters: {'kErase': 1, 'kRadius': 2, 'kAnnealingA': 4.61738637692143, 'kAnnealingB': 0.9414767354016556, 'kAnnealingStart': 43.603002521564385, 'kSkipRatio': 0.7001655194139037, 'kTargetDeterminationTrials': 10, 'kAttractionRatio': 0.46061376189682074, 'kMaxAttractionDistance': 24, 'kStartAttraction': 0.1283621432281277}. Best is trial 76 with value: 6656.807511737089.\u001b[0m\n"
     ]
    },
    {
     "name": "stdout",
     "output_type": "stream",
     "text": [
      "index_parallel='0081'\n"
     ]
    },
    {
     "name": "stderr",
     "output_type": "stream",
     "text": [
      "\u001b[32m[I 2022-08-16 02:55:24,389]\u001b[0m Trial 81 finished with value: 6623.816901408451 and parameters: {'kErase': 1, 'kRadius': 2, 'kAnnealingA': 1.893334563600856, 'kAnnealingB': 1.298033606376949, 'kAnnealingStart': 36.982188453566444, 'kSkipRatio': 0.6749507850404312, 'kTargetDeterminationTrials': 8, 'kAttractionRatio': 0.35543053534381847, 'kMaxAttractionDistance': 13, 'kStartAttraction': 0.2022861573888302}. Best is trial 76 with value: 6656.807511737089.\u001b[0m\n"
     ]
    },
    {
     "name": "stdout",
     "output_type": "stream",
     "text": [
      "index_parallel='0082'\n"
     ]
    },
    {
     "name": "stderr",
     "output_type": "stream",
     "text": [
      "\u001b[32m[I 2022-08-16 02:59:25,272]\u001b[0m Trial 82 finished with value: 6606.981220657277 and parameters: {'kErase': 1, 'kRadius': 2, 'kAnnealingA': 3.343629562195109, 'kAnnealingB': 1.149423890187164, 'kAnnealingStart': 36.68560667205945, 'kSkipRatio': 0.7377807466466403, 'kTargetDeterminationTrials': 8, 'kAttractionRatio': 0.5302537366635869, 'kMaxAttractionDistance': 14, 'kStartAttraction': 0.20419199053381468}. Best is trial 76 with value: 6656.807511737089.\u001b[0m\n"
     ]
    },
    {
     "name": "stdout",
     "output_type": "stream",
     "text": [
      "index_parallel='0083'\n"
     ]
    },
    {
     "name": "stderr",
     "output_type": "stream",
     "text": [
      "\u001b[32m[I 2022-08-16 03:03:26,265]\u001b[0m Trial 83 finished with value: 6580.741784037558 and parameters: {'kErase': 1, 'kRadius': 2, 'kAnnealingA': 1.8629950068459662, 'kAnnealingB': 1.3305363897360554, 'kAnnealingStart': 48.55583751953836, 'kSkipRatio': 0.64533619458178, 'kTargetDeterminationTrials': 11, 'kAttractionRatio': 0.5951327251728128, 'kMaxAttractionDistance': 20, 'kStartAttraction': 0.17043503304767202}. Best is trial 76 with value: 6656.807511737089.\u001b[0m\n"
     ]
    },
    {
     "name": "stdout",
     "output_type": "stream",
     "text": [
      "index_parallel='0084'\n"
     ]
    },
    {
     "name": "stderr",
     "output_type": "stream",
     "text": [
      "\u001b[32m[I 2022-08-16 03:07:27,135]\u001b[0m Trial 84 finished with value: 6641.784037558686 and parameters: {'kErase': 1, 'kRadius': 2, 'kAnnealingA': 0.9071783223828653, 'kAnnealingB': 1.4113556146971789, 'kAnnealingStart': 23.793958978098093, 'kSkipRatio': 0.6802840226381691, 'kTargetDeterminationTrials': 9, 'kAttractionRatio': 0.4186842353042531, 'kMaxAttractionDistance': 16, 'kStartAttraction': 0.2437639096512157}. Best is trial 76 with value: 6656.807511737089.\u001b[0m\n"
     ]
    },
    {
     "name": "stdout",
     "output_type": "stream",
     "text": [
      "index_parallel='0085'\n"
     ]
    },
    {
     "name": "stderr",
     "output_type": "stream",
     "text": [
      "\u001b[32m[I 2022-08-16 03:11:28,314]\u001b[0m Trial 85 finished with value: 6643.042253521126 and parameters: {'kErase': 1, 'kRadius': 2, 'kAnnealingA': 0.8128621315214045, 'kAnnealingB': 1.4059915807235521, 'kAnnealingStart': 23.88873666549806, 'kSkipRatio': 0.6841892785317922, 'kTargetDeterminationTrials': 12, 'kAttractionRatio': 0.4068330891183777, 'kMaxAttractionDistance': 16, 'kStartAttraction': 0.2756036672569615}. Best is trial 76 with value: 6656.807511737089.\u001b[0m\n"
     ]
    },
    {
     "name": "stdout",
     "output_type": "stream",
     "text": [
      "index_parallel='0086'\n"
     ]
    },
    {
     "name": "stderr",
     "output_type": "stream",
     "text": [
      "\u001b[32m[I 2022-08-16 03:15:29,271]\u001b[0m Trial 86 finished with value: 6603.305164319248 and parameters: {'kErase': 1, 'kRadius': 2, 'kAnnealingA': 0.9398910303282071, 'kAnnealingB': 1.3884163352543175, 'kAnnealingStart': 24.12668881303023, 'kSkipRatio': 0.6896370711695844, 'kTargetDeterminationTrials': 17, 'kAttractionRatio': 0.4029203625202846, 'kMaxAttractionDistance': 16, 'kStartAttraction': 0.26769843845284336}. Best is trial 76 with value: 6656.807511737089.\u001b[0m\n"
     ]
    },
    {
     "name": "stdout",
     "output_type": "stream",
     "text": [
      "index_parallel='0087'\n"
     ]
    },
    {
     "name": "stderr",
     "output_type": "stream",
     "text": [
      "\u001b[32m[I 2022-08-16 03:19:30,488]\u001b[0m Trial 87 finished with value: 6609.319248826291 and parameters: {'kErase': 1, 'kRadius': 2, 'kAnnealingA': 4.188667383824264, 'kAnnealingB': 1.0921387016379553, 'kAnnealingStart': 28.62967593027973, 'kSkipRatio': 0.7684586111592752, 'kTargetDeterminationTrials': 12, 'kAttractionRatio': 0.3429847125723118, 'kMaxAttractionDistance': 28, 'kStartAttraction': 0.22154729820967292}. Best is trial 76 with value: 6656.807511737089.\u001b[0m\n"
     ]
    },
    {
     "name": "stdout",
     "output_type": "stream",
     "text": [
      "index_parallel='0088'\n"
     ]
    },
    {
     "name": "stderr",
     "output_type": "stream",
     "text": [
      "\u001b[32m[I 2022-08-16 03:23:31,304]\u001b[0m Trial 88 finished with value: 6599.788732394366 and parameters: {'kErase': 1, 'kRadius': 2, 'kAnnealingA': 2.444973215486307, 'kAnnealingB': 1.178283728307874, 'kAnnealingStart': 20.1429191965738, 'kSkipRatio': 0.7169644768334212, 'kTargetDeterminationTrials': 14, 'kAttractionRatio': 0.4220500538487759, 'kMaxAttractionDistance': 18, 'kStartAttraction': 0.4125405046382953}. Best is trial 76 with value: 6656.807511737089.\u001b[0m\n"
     ]
    },
    {
     "name": "stdout",
     "output_type": "stream",
     "text": [
      "index_parallel='0089'\n"
     ]
    },
    {
     "name": "stderr",
     "output_type": "stream",
     "text": [
      "\u001b[32m[I 2022-08-16 03:27:32,629]\u001b[0m Trial 89 finished with value: 6407.760563380281 and parameters: {'kErase': 4, 'kRadius': 2, 'kAnnealingA': -1.1555336607076547, 'kAnnealingB': 0.8163462760000062, 'kAnnealingStart': 21.71296279702884, 'kSkipRatio': 0.6324431581382062, 'kTargetDeterminationTrials': 9, 'kAttractionRatio': 0.26550556126817176, 'kMaxAttractionDistance': 15, 'kStartAttraction': 0.33658294876902334}. Best is trial 76 with value: 6656.807511737089.\u001b[0m\n"
     ]
    },
    {
     "name": "stdout",
     "output_type": "stream",
     "text": [
      "index_parallel='0090'\n"
     ]
    },
    {
     "name": "stderr",
     "output_type": "stream",
     "text": [
      "\u001b[32m[I 2022-08-16 03:31:34,380]\u001b[0m Trial 90 finished with value: 6322.549295774648 and parameters: {'kErase': 5, 'kRadius': 2, 'kAnnealingA': 3.1499728210677835, 'kAnnealingB': 1.4284298104804338, 'kAnnealingStart': 15.033119046118678, 'kSkipRatio': 0.6762694440999675, 'kTargetDeterminationTrials': 6, 'kAttractionRatio': 0.2151513391780834, 'kMaxAttractionDistance': 21, 'kStartAttraction': 0.5045702018987478}. Best is trial 76 with value: 6656.807511737089.\u001b[0m\n"
     ]
    },
    {
     "name": "stdout",
     "output_type": "stream",
     "text": [
      "index_parallel='0091'\n"
     ]
    },
    {
     "name": "stderr",
     "output_type": "stream",
     "text": [
      "\u001b[32m[I 2022-08-16 03:35:35,331]\u001b[0m Trial 91 finished with value: 6646.488262910798 and parameters: {'kErase': 1, 'kRadius': 2, 'kAnnealingA': 0.7147560700244027, 'kAnnealingB': 1.2295527912533235, 'kAnnealingStart': 23.22092214696716, 'kSkipRatio': 0.7035705674221193, 'kTargetDeterminationTrials': 11, 'kAttractionRatio': 0.5085793276400093, 'kMaxAttractionDistance': 12, 'kStartAttraction': 0.27345678175985105}. Best is trial 76 with value: 6656.807511737089.\u001b[0m\n"
     ]
    },
    {
     "name": "stdout",
     "output_type": "stream",
     "text": [
      "index_parallel='0092'\n"
     ]
    },
    {
     "name": "stderr",
     "output_type": "stream",
     "text": [
      "\u001b[32m[I 2022-08-16 03:39:36,404]\u001b[0m Trial 92 finished with value: 6564.276995305165 and parameters: {'kErase': 1, 'kRadius': 2, 'kAnnealingA': 1.0992427066094117, 'kAnnealingB': 1.2426532037157163, 'kAnnealingStart': 16.53761419121663, 'kSkipRatio': 0.7296347857769396, 'kTargetDeterminationTrials': 11, 'kAttractionRatio': 0.4947343414190682, 'kMaxAttractionDistance': 12, 'kStartAttraction': 0.18837153527293893}. Best is trial 76 with value: 6656.807511737089.\u001b[0m\n"
     ]
    },
    {
     "name": "stdout",
     "output_type": "stream",
     "text": [
      "index_parallel='0093'\n"
     ]
    },
    {
     "name": "stderr",
     "output_type": "stream",
     "text": [
      "\u001b[32m[I 2022-08-16 03:43:37,603]\u001b[0m Trial 93 finished with value: 6640.7464788732395 and parameters: {'kErase': 1, 'kRadius': 2, 'kAnnealingA': 0.7457997815453592, 'kAnnealingB': 0.9948446496193675, 'kAnnealingStart': 24.308675381894123, 'kSkipRatio': 0.7033518436702605, 'kTargetDeterminationTrials': 12, 'kAttractionRatio': 0.4358369744552229, 'kMaxAttractionDistance': 17, 'kStartAttraction': 0.26032384175121287}. Best is trial 76 with value: 6656.807511737089.\u001b[0m\n"
     ]
    },
    {
     "name": "stdout",
     "output_type": "stream",
     "text": [
      "index_parallel='0094'\n"
     ]
    },
    {
     "name": "stderr",
     "output_type": "stream",
     "text": [
      "\u001b[32m[I 2022-08-16 03:47:38,667]\u001b[0m Trial 94 finished with value: 6583.605633802817 and parameters: {'kErase': 1, 'kRadius': 2, 'kAnnealingA': 0.5626935708835236, 'kAnnealingB': 1.330190965669178, 'kAnnealingStart': 29.051110897211625, 'kSkipRatio': 0.706413251099035, 'kTargetDeterminationTrials': 12, 'kAttractionRatio': 0.37400562610330884, 'kMaxAttractionDistance': 17, 'kStartAttraction': 0.2578897311765824}. Best is trial 76 with value: 6656.807511737089.\u001b[0m\n"
     ]
    },
    {
     "name": "stdout",
     "output_type": "stream",
     "text": [
      "index_parallel='0095'\n"
     ]
    },
    {
     "name": "stderr",
     "output_type": "stream",
     "text": [
      "\u001b[32m[I 2022-08-16 03:51:39,670]\u001b[0m Trial 95 finished with value: 6522.5352112676055 and parameters: {'kErase': 1, 'kRadius': 2, 'kAnnealingA': -0.6880140346692774, 'kAnnealingB': 0.9994133479973886, 'kAnnealingStart': 18.92989931579987, 'kSkipRatio': 0.68181413734475, 'kTargetDeterminationTrials': 13, 'kAttractionRatio': 0.4552898117704705, 'kMaxAttractionDistance': 14, 'kStartAttraction': 0.11167251769122627}. Best is trial 76 with value: 6656.807511737089.\u001b[0m\n"
     ]
    },
    {
     "name": "stdout",
     "output_type": "stream",
     "text": [
      "index_parallel='0096'\n"
     ]
    },
    {
     "name": "stderr",
     "output_type": "stream",
     "text": [
      "\u001b[32m[I 2022-08-16 03:55:40,714]\u001b[0m Trial 96 finished with value: 6601.089201877934 and parameters: {'kErase': 1, 'kRadius': 2, 'kAnnealingA': -0.44690448271618943, 'kAnnealingB': 1.5479563159707155, 'kAnnealingStart': 23.433468130990587, 'kSkipRatio': 0.794201244553296, 'kTargetDeterminationTrials': 9, 'kAttractionRatio': 0.5290977791820609, 'kMaxAttractionDistance': 16, 'kStartAttraction': 0.2632315360729254}. Best is trial 76 with value: 6656.807511737089.\u001b[0m\n"
     ]
    },
    {
     "name": "stdout",
     "output_type": "stream",
     "text": [
      "index_parallel='0097'\n"
     ]
    },
    {
     "name": "stderr",
     "output_type": "stream",
     "text": [
      "\u001b[32m[I 2022-08-16 03:59:41,875]\u001b[0m Trial 97 finished with value: 6539.24882629108 and parameters: {'kErase': 1, 'kRadius': 2, 'kAnnealingA': 1.391947215698584, 'kAnnealingB': 0.901556041637399, 'kAnnealingStart': 33.88895390522129, 'kSkipRatio': 0.6502605118758811, 'kTargetDeterminationTrials': 20, 'kAttractionRatio': 0.3302123079903267, 'kMaxAttractionDistance': 22, 'kStartAttraction': 0.6829628436319192}. Best is trial 76 with value: 6656.807511737089.\u001b[0m\n"
     ]
    },
    {
     "name": "stdout",
     "output_type": "stream",
     "text": [
      "index_parallel='0098'\n"
     ]
    },
    {
     "name": "stderr",
     "output_type": "stream",
     "text": [
      "\u001b[32m[I 2022-08-16 04:03:42,706]\u001b[0m Trial 98 finished with value: 6650.699530516432 and parameters: {'kErase': 1, 'kRadius': 2, 'kAnnealingA': 2.544401541109636, 'kAnnealingB': 1.4479029988683998, 'kAnnealingStart': 26.71394054012283, 'kSkipRatio': 0.7516910972320212, 'kTargetDeterminationTrials': 14, 'kAttractionRatio': 0.6890005195998852, 'kMaxAttractionDistance': 19, 'kStartAttraction': 0.1756173708040096}. Best is trial 76 with value: 6656.807511737089.\u001b[0m\n"
     ]
    },
    {
     "name": "stdout",
     "output_type": "stream",
     "text": [
      "index_parallel='0099'\n"
     ]
    },
    {
     "name": "stderr",
     "output_type": "stream",
     "text": [
      "\u001b[32m[I 2022-08-16 04:07:44,055]\u001b[0m Trial 99 finished with value: 6649.971830985915 and parameters: {'kErase': 1, 'kRadius': 2, 'kAnnealingA': 3.0651818752852753, 'kAnnealingB': 0.6651099098566271, 'kAnnealingStart': 27.162195312025354, 'kSkipRatio': 0.74688019775636, 'kTargetDeterminationTrials': 17, 'kAttractionRatio': 0.672708753026098, 'kMaxAttractionDistance': 11, 'kStartAttraction': 0.17165205127281516}. Best is trial 76 with value: 6656.807511737089.\u001b[0m\n"
     ]
    },
    {
     "name": "stdout",
     "output_type": "stream",
     "text": [
      "index_parallel='0100'\n"
     ]
    },
    {
     "name": "stderr",
     "output_type": "stream",
     "text": [
      "\u001b[32m[I 2022-08-16 04:11:44,936]\u001b[0m Trial 100 finished with value: 6652.286384976525 and parameters: {'kErase': 1, 'kRadius': 2, 'kAnnealingA': 6.009503754437313, 'kAnnealingB': 0.6728974738309267, 'kAnnealingStart': 23.026240082324467, 'kSkipRatio': 0.755561899716786, 'kTargetDeterminationTrials': 18, 'kAttractionRatio': 0.67866627141346, 'kMaxAttractionDistance': 11, 'kStartAttraction': 0.1646072240286559}. Best is trial 76 with value: 6656.807511737089.\u001b[0m\n"
     ]
    },
    {
     "name": "stdout",
     "output_type": "stream",
     "text": [
      "index_parallel='0101'\n"
     ]
    },
    {
     "name": "stderr",
     "output_type": "stream",
     "text": [
      "\u001b[32m[I 2022-08-16 04:15:45,710]\u001b[0m Trial 101 finished with value: 6606.69014084507 and parameters: {'kErase': 1, 'kRadius': 2, 'kAnnealingA': 6.24564877519855, 'kAnnealingB': 0.4606624752414251, 'kAnnealingStart': 25.869042360188356, 'kSkipRatio': 0.7532598628550431, 'kTargetDeterminationTrials': 18, 'kAttractionRatio': 0.6905851068697457, 'kMaxAttractionDistance': 11, 'kStartAttraction': 0.1667999790325328}. Best is trial 76 with value: 6656.807511737089.\u001b[0m\n"
     ]
    },
    {
     "name": "stdout",
     "output_type": "stream",
     "text": [
      "index_parallel='0102'\n"
     ]
    },
    {
     "name": "stderr",
     "output_type": "stream",
     "text": [
      "\u001b[32m[I 2022-08-16 04:19:46,502]\u001b[0m Trial 102 finished with value: 6570.5868544600935 and parameters: {'kErase': 1, 'kRadius': 2, 'kAnnealingA': 4.782574030080214, 'kAnnealingB': 0.6534555685418764, 'kAnnealingStart': 23.255019231824765, 'kSkipRatio': 0.7821969326593339, 'kTargetDeterminationTrials': 17, 'kAttractionRatio': 0.5994011859054893, 'kMaxAttractionDistance': 18, 'kStartAttraction': 0.1352329272858303}. Best is trial 76 with value: 6656.807511737089.\u001b[0m\n"
     ]
    },
    {
     "name": "stdout",
     "output_type": "stream",
     "text": [
      "index_parallel='0103'\n"
     ]
    },
    {
     "name": "stderr",
     "output_type": "stream",
     "text": [
      "\u001b[32m[I 2022-08-16 04:23:47,423]\u001b[0m Trial 103 finished with value: 6267.206572769953 and parameters: {'kErase': 1, 'kRadius': 2, 'kAnnealingA': -14.836210863819943, 'kAnnealingB': 0.6740998462279811, 'kAnnealingStart': 18.922804771034027, 'kSkipRatio': 0.7271070731725403, 'kTargetDeterminationTrials': 15, 'kAttractionRatio': 0.5602178226707671, 'kMaxAttractionDistance': 19, 'kStartAttraction': 0.21589227652490475}. Best is trial 76 with value: 6656.807511737089.\u001b[0m\n"
     ]
    },
    {
     "name": "stdout",
     "output_type": "stream",
     "text": [
      "index_parallel='0104'\n"
     ]
    },
    {
     "name": "stderr",
     "output_type": "stream",
     "text": [
      "\u001b[32m[I 2022-08-16 04:27:48,530]\u001b[0m Trial 104 finished with value: 6624.2018779342725 and parameters: {'kErase': 1, 'kRadius': 2, 'kAnnealingA': 2.8381589966832825, 'kAnnealingB': 0.5924443467910573, 'kAnnealingStart': 28.60746920653922, 'kSkipRatio': 0.7534841806417277, 'kTargetDeterminationTrials': 14, 'kAttractionRatio': 0.6712930098588359, 'kMaxAttractionDistance': 13, 'kStartAttraction': 0.11559566847181328}. Best is trial 76 with value: 6656.807511737089.\u001b[0m\n"
     ]
    },
    {
     "name": "stdout",
     "output_type": "stream",
     "text": [
      "index_parallel='0105'\n"
     ]
    },
    {
     "name": "stderr",
     "output_type": "stream",
     "text": [
      "\u001b[32m[I 2022-08-16 04:31:49,517]\u001b[0m Trial 105 finished with value: 6606.967136150235 and parameters: {'kErase': 1, 'kRadius': 2, 'kAnnealingA': 0.556234414794389, 'kAnnealingB': 0.7350117501927569, 'kAnnealingStart': 21.553941428345794, 'kSkipRatio': 0.7731055196033966, 'kTargetDeterminationTrials': 16, 'kAttractionRatio': 0.43732040716027193, 'kMaxAttractionDistance': 15, 'kStartAttraction': 0.3375745703012784}. Best is trial 76 with value: 6656.807511737089.\u001b[0m\n"
     ]
    },
    {
     "name": "stdout",
     "output_type": "stream",
     "text": [
      "index_parallel='0106'\n"
     ]
    },
    {
     "name": "stderr",
     "output_type": "stream",
     "text": [
      "\u001b[32m[I 2022-08-16 04:35:50,502]\u001b[0m Trial 106 finished with value: 6569.723004694835 and parameters: {'kErase': 1, 'kRadius': 2, 'kAnnealingA': -1.4853408169206228, 'kAnnealingB': 0.19944647198608378, 'kAnnealingStart': 17.020004829168123, 'kSkipRatio': 0.6961720770390621, 'kTargetDeterminationTrials': 20, 'kAttractionRatio': 0.529119075312443, 'kMaxAttractionDistance': 12, 'kStartAttraction': 0.43334463949068974}. Best is trial 76 with value: 6656.807511737089.\u001b[0m\n"
     ]
    },
    {
     "name": "stdout",
     "output_type": "stream",
     "text": [
      "index_parallel='0107'\n"
     ]
    },
    {
     "name": "stderr",
     "output_type": "stream",
     "text": [
      "\u001b[32m[I 2022-08-16 04:39:51,178]\u001b[0m Trial 107 finished with value: 6511.37558685446 and parameters: {'kErase': 1, 'kRadius': 2, 'kAnnealingA': 3.6574435674623023, 'kAnnealingB': 0.4801519924049966, 'kAnnealingStart': 13.181387776193368, 'kSkipRatio': 0.7114067219103245, 'kTargetDeterminationTrials': 17, 'kAttractionRatio': 0.10526704774991835, 'kMaxAttractionDistance': 27, 'kStartAttraction': 0.2669246435914929}. Best is trial 76 with value: 6656.807511737089.\u001b[0m\n"
     ]
    },
    {
     "name": "stdout",
     "output_type": "stream",
     "text": [
      "index_parallel='0108'\n"
     ]
    },
    {
     "name": "stderr",
     "output_type": "stream",
     "text": [
      "\u001b[32m[I 2022-08-16 04:43:52,082]\u001b[0m Trial 108 finished with value: 6561.821596244132 and parameters: {'kErase': 1, 'kRadius': 2, 'kAnnealingA': 5.452609846547737, 'kAnnealingB': 0.8269379232453096, 'kAnnealingStart': 11.443798413997753, 'kSkipRatio': 0.7391551575056751, 'kTargetDeterminationTrials': 14, 'kAttractionRatio': 0.643035793905919, 'kMaxAttractionDistance': 10, 'kStartAttraction': 0.510233342860281}. Best is trial 76 with value: 6656.807511737089.\u001b[0m\n"
     ]
    },
    {
     "name": "stdout",
     "output_type": "stream",
     "text": [
      "index_parallel='0109'\n"
     ]
    },
    {
     "name": "stderr",
     "output_type": "stream",
     "text": [
      "\u001b[32m[I 2022-08-16 04:47:52,992]\u001b[0m Trial 109 finished with value: 6656.140845070423 and parameters: {'kErase': 1, 'kRadius': 2, 'kAnnealingA': 2.5283501521336738, 'kAnnealingB': 1.4465717823570523, 'kAnnealingStart': 33.93767381131254, 'kSkipRatio': 0.7644557408658633, 'kTargetDeterminationTrials': 11, 'kAttractionRatio': 0.7094978386897945, 'kMaxAttractionDistance': 37, 'kStartAttraction': 0.16447569489538788}. Best is trial 76 with value: 6656.807511737089.\u001b[0m\n"
     ]
    },
    {
     "name": "stdout",
     "output_type": "stream",
     "text": [
      "index_parallel='0110'\n"
     ]
    },
    {
     "name": "stderr",
     "output_type": "stream",
     "text": [
      "\u001b[32m[I 2022-08-16 04:51:53,678]\u001b[0m Trial 110 finished with value: 6641.62441314554 and parameters: {'kErase': 1, 'kRadius': 2, 'kAnnealingA': 2.513119606299348, 'kAnnealingB': 1.4300767571485982, 'kAnnealingStart': 27.462224148251728, 'kSkipRatio': 0.7612199521400178, 'kTargetDeterminationTrials': 12, 'kAttractionRatio': 0.4875179601807773, 'kMaxAttractionDistance': 38, 'kStartAttraction': 0.1690890938014932}. Best is trial 76 with value: 6656.807511737089.\u001b[0m\n"
     ]
    },
    {
     "name": "stdout",
     "output_type": "stream",
     "text": [
      "index_parallel='0111'\n"
     ]
    },
    {
     "name": "stderr",
     "output_type": "stream",
     "text": [
      "\u001b[32m[I 2022-08-16 04:55:54,449]\u001b[0m Trial 111 finished with value: 6605.718309859155 and parameters: {'kErase': 1, 'kRadius': 2, 'kAnnealingA': 2.6244614649701, 'kAnnealingB': 1.4268228902263898, 'kAnnealingStart': 25.173561204891758, 'kSkipRatio': 0.7623276651849681, 'kTargetDeterminationTrials': 12, 'kAttractionRatio': 0.49842038793543747, 'kMaxAttractionDistance': 35, 'kStartAttraction': 0.1750784347161631}. Best is trial 76 with value: 6656.807511737089.\u001b[0m\n"
     ]
    },
    {
     "name": "stdout",
     "output_type": "stream",
     "text": [
      "index_parallel='0112'\n"
     ]
    },
    {
     "name": "stderr",
     "output_type": "stream",
     "text": [
      "\u001b[32m[I 2022-08-16 04:59:55,484]\u001b[0m Trial 112 finished with value: 6623.549295774648 and parameters: {'kErase': 1, 'kRadius': 2, 'kAnnealingA': 4.287055164491815, 'kAnnealingB': 1.214403282516935, 'kAnnealingStart': 27.63211758153708, 'kSkipRatio': 0.7453996171073819, 'kTargetDeterminationTrials': 11, 'kAttractionRatio': 0.5787227242749774, 'kMaxAttractionDistance': 32, 'kStartAttraction': 0.23499933473181914}. Best is trial 76 with value: 6656.807511737089.\u001b[0m\n"
     ]
    },
    {
     "name": "stdout",
     "output_type": "stream",
     "text": [
      "index_parallel='0113'\n"
     ]
    },
    {
     "name": "stderr",
     "output_type": "stream",
     "text": [
      "\u001b[32m[I 2022-08-16 05:03:56,712]\u001b[0m Trial 113 finished with value: 6614.5352112676055 and parameters: {'kErase': 1, 'kRadius': 2, 'kAnnealingA': 1.3653350654438965, 'kAnnealingB': 1.1354250404969621, 'kAnnealingStart': 34.30000500529033, 'kSkipRatio': 0.7876144129012427, 'kTargetDeterminationTrials': 18, 'kAttractionRatio': 0.4001107686598665, 'kMaxAttractionDistance': 40, 'kStartAttraction': 0.15368791011332486}. Best is trial 76 with value: 6656.807511737089.\u001b[0m\n"
     ]
    },
    {
     "name": "stdout",
     "output_type": "stream",
     "text": [
      "index_parallel='0114'\n"
     ]
    },
    {
     "name": "stderr",
     "output_type": "stream",
     "text": [
      "\u001b[32m[I 2022-08-16 05:07:57,425]\u001b[0m Trial 114 finished with value: 6631.572769953052 and parameters: {'kErase': 1, 'kRadius': 2, 'kAnnealingA': 8.251611827383648, 'kAnnealingB': 1.3564129494468384, 'kAnnealingStart': 19.99446753826181, 'kSkipRatio': 0.7263587464531112, 'kTargetDeterminationTrials': 13, 'kAttractionRatio': 0.6943588029068851, 'kMaxAttractionDistance': 33, 'kStartAttraction': 0.33206471671392734}. Best is trial 76 with value: 6656.807511737089.\u001b[0m\n"
     ]
    },
    {
     "name": "stdout",
     "output_type": "stream",
     "text": [
      "index_parallel='0116'\n"
     ]
    },
    {
     "name": "stderr",
     "output_type": "stream",
     "text": [
      "\u001b[32m[I 2022-08-16 05:11:58,216]\u001b[0m Trial 116 finished with value: 6576.802816901409 and parameters: {'kErase': 1, 'kRadius': 2, 'kAnnealingA': 3.279335445676185, 'kAnnealingB': 1.0269075206390599, 'kAnnealingStart': 30.53261218704912, 'kSkipRatio': 0.7721946633500895, 'kTargetDeterminationTrials': 14, 'kAttractionRatio': 0.08373545873905487, 'kMaxAttractionDistance': 9, 'kStartAttraction': 0.1269774836143296}. Best is trial 76 with value: 6656.807511737089.\u001b[0m\n"
     ]
    },
    {
     "name": "stdout",
     "output_type": "stream",
     "text": [
      "index_parallel='0118'\n"
     ]
    },
    {
     "name": "stderr",
     "output_type": "stream",
     "text": [
      "\u001b[32m[I 2022-08-16 05:15:59,215]\u001b[0m Trial 118 finished with value: 6583.154929577465 and parameters: {'kErase': 1, 'kRadius': 2, 'kAnnealingA': 2.314894216531799, 'kAnnealingB': 1.4496645873898164, 'kAnnealingStart': 39.48524729566885, 'kSkipRatio': 0.7095745298072945, 'kTargetDeterminationTrials': 16, 'kAttractionRatio': 0.620859856772406, 'kMaxAttractionDistance': 65, 'kStartAttraction': 0.18564975528042665}. Best is trial 76 with value: 6656.807511737089.\u001b[0m\n"
     ]
    },
    {
     "name": "stdout",
     "output_type": "stream",
     "text": [
      "index_parallel='0120'\n"
     ]
    },
    {
     "name": "stderr",
     "output_type": "stream",
     "text": [
      "\u001b[32m[I 2022-08-16 05:20:00,137]\u001b[0m Trial 120 finished with value: 6585.56338028169 and parameters: {'kErase': 1, 'kRadius': 6, 'kAnnealingA': 6.539353551972395, 'kAnnealingB': 1.2649859495232214, 'kAnnealingStart': 22.447132281448745, 'kSkipRatio': 0.6618457394765511, 'kTargetDeterminationTrials': 11, 'kAttractionRatio': 0.5516307799259469, 'kMaxAttractionDistance': 14, 'kStartAttraction': 0.10384423107706359}. Best is trial 76 with value: 6656.807511737089.\u001b[0m\n"
     ]
    },
    {
     "name": "stdout",
     "output_type": "stream",
     "text": [
      "index_parallel='0122'\n"
     ]
    },
    {
     "name": "stderr",
     "output_type": "stream",
     "text": [
      "\u001b[32m[I 2022-08-16 05:24:01,071]\u001b[0m Trial 122 finished with value: 6628.967136150235 and parameters: {'kErase': 1, 'kRadius': 2, 'kAnnealingA': 9.809088198750505, 'kAnnealingB': 1.3472708685785606, 'kAnnealingStart': 24.477208961604866, 'kSkipRatio': 0.7337041893264582, 'kTargetDeterminationTrials': 13, 'kAttractionRatio': 0.7139699169609964, 'kMaxAttractionDistance': 37, 'kStartAttraction': 0.25356430910838096}. Best is trial 76 with value: 6656.807511737089.\u001b[0m\n"
     ]
    },
    {
     "name": "stdout",
     "output_type": "stream",
     "text": [
      "index_parallel='0124'\n"
     ]
    },
    {
     "name": "stderr",
     "output_type": "stream",
     "text": [
      "\u001b[32m[I 2022-08-16 05:28:02,050]\u001b[0m Trial 124 finished with value: 6640.924882629108 and parameters: {'kErase': 1, 'kRadius': 2, 'kAnnealingA': 1.4499795379290217, 'kAnnealingB': 1.3533229394384652, 'kAnnealingStart': 26.374036258357666, 'kSkipRatio': 0.6913101381792054, 'kTargetDeterminationTrials': 12, 'kAttractionRatio': 0.7016571144271652, 'kMaxAttractionDistance': 49, 'kStartAttraction': 0.38426346782779625}. Best is trial 76 with value: 6656.807511737089.\u001b[0m\n"
     ]
    },
    {
     "name": "stdout",
     "output_type": "stream",
     "text": [
      "index_parallel='0126'\n"
     ]
    },
    {
     "name": "stderr",
     "output_type": "stream",
     "text": [
      "\u001b[32m[I 2022-08-16 05:32:03,089]\u001b[0m Trial 126 finished with value: 6607.136150234742 and parameters: {'kErase': 1, 'kRadius': 2, 'kAnnealingA': 1.5063946137839483, 'kAnnealingB': 1.1939173555136877, 'kAnnealingStart': 27.93140657061604, 'kSkipRatio': 0.749068825528328, 'kTargetDeterminationTrials': 10, 'kAttractionRatio': 0.7923227455180798, 'kMaxAttractionDistance': 44, 'kStartAttraction': 0.3832717007940403}. Best is trial 76 with value: 6656.807511737089.\u001b[0m\n"
     ]
    },
    {
     "name": "stdout",
     "output_type": "stream",
     "text": [
      "index_parallel='0128'\n"
     ]
    },
    {
     "name": "stderr",
     "output_type": "stream",
     "text": [
      "\u001b[32m[I 2022-08-16 05:36:04,170]\u001b[0m Trial 128 finished with value: 6577.192488262911 and parameters: {'kErase': 1, 'kRadius': 2, 'kAnnealingA': 3.877366262873476, 'kAnnealingB': 1.0901663156424353, 'kAnnealingStart': 33.71869718377479, 'kSkipRatio': 0.7996087560544414, 'kTargetDeterminationTrials': 18, 'kAttractionRatio': 0.42240192479172234, 'kMaxAttractionDistance': 51, 'kStartAttraction': 0.13462545103599707}. Best is trial 76 with value: 6656.807511737089.\u001b[0m\n"
     ]
    },
    {
     "name": "stdout",
     "output_type": "stream",
     "text": [
      "index_parallel='0130'\n"
     ]
    },
    {
     "name": "stderr",
     "output_type": "stream",
     "text": [
      "\u001b[32m[I 2022-08-16 05:40:05,511]\u001b[0m Trial 130 finished with value: 6627.915492957746 and parameters: {'kErase': 1, 'kRadius': 2, 'kAnnealingA': 0.15111658952628892, 'kAnnealingB': 1.6165399447999547, 'kAnnealingStart': 45.82162674768221, 'kSkipRatio': 0.6868521866360215, 'kTargetDeterminationTrials': 19, 'kAttractionRatio': 0.5056840545378475, 'kMaxAttractionDistance': 52, 'kStartAttraction': 0.14538295140168547}. Best is trial 76 with value: 6656.807511737089.\u001b[0m\n"
     ]
    },
    {
     "name": "stdout",
     "output_type": "stream",
     "text": [
      "index_parallel='0132'\n"
     ]
    },
    {
     "name": "stderr",
     "output_type": "stream",
     "text": [
      "\u001b[32m[I 2022-08-16 05:44:06,375]\u001b[0m Trial 132 finished with value: 6634.211267605634 and parameters: {'kErase': 1, 'kRadius': 2, 'kAnnealingA': 1.2933907897918524, 'kAnnealingB': 1.4198077463198404, 'kAnnealingStart': 27.37235485375142, 'kSkipRatio': 0.6443550867492345, 'kTargetDeterminationTrials': 9, 'kAttractionRatio': 0.6674568459453355, 'kMaxAttractionDistance': 17, 'kStartAttraction': 0.20225530997648003}. Best is trial 76 with value: 6656.807511737089.\u001b[0m\n"
     ]
    },
    {
     "name": "stdout",
     "output_type": "stream",
     "text": [
      "index_parallel='0134'\n"
     ]
    },
    {
     "name": "stderr",
     "output_type": "stream",
     "text": [
      "\u001b[32m[I 2022-08-16 05:48:07,774]\u001b[0m Trial 134 finished with value: 6521.164319248826 and parameters: {'kErase': 1, 'kRadius': 2, 'kAnnealingA': 2.6825889358015265, 'kAnnealingB': 1.5294825058508472, 'kAnnealingStart': 24.380749610081153, 'kSkipRatio': 0.7213880494049655, 'kTargetDeterminationTrials': 12, 'kAttractionRatio': 0.019961436984104745, 'kMaxAttractionDistance': 48, 'kStartAttraction': 0.2794767391323384}. Best is trial 76 with value: 6656.807511737089.\u001b[0m\n"
     ]
    },
    {
     "name": "stdout",
     "output_type": "stream",
     "text": [
      "index_parallel='0136'\n"
     ]
    },
    {
     "name": "stderr",
     "output_type": "stream",
     "text": [
      "\u001b[32m[I 2022-08-16 05:52:10,467]\u001b[0m Trial 136 finished with value: 6650.460093896713 and parameters: {'kErase': 1, 'kRadius': 2, 'kAnnealingA': 1.1243688105086853, 'kAnnealingB': 1.3552913926593062, 'kAnnealingStart': 40.32029426747757, 'kSkipRatio': 0.6108987290038763, 'kTargetDeterminationTrials': 14, 'kAttractionRatio': 0.46738612515921807, 'kMaxAttractionDistance': 56, 'kStartAttraction': 0.0015333350656264238}. Best is trial 76 with value: 6656.807511737089.\u001b[0m\n"
     ]
    },
    {
     "name": "stdout",
     "output_type": "stream",
     "text": [
      "index_parallel='0138'\n"
     ]
    },
    {
     "name": "stderr",
     "output_type": "stream",
     "text": [
      "\u001b[32m[I 2022-08-16 05:56:11,905]\u001b[0m Trial 138 finished with value: 6611.920187793427 and parameters: {'kErase': 1, 'kRadius': 2, 'kAnnealingA': -0.7794920182559806, 'kAnnealingB': 1.3296229779334878, 'kAnnealingStart': 38.78739457094502, 'kSkipRatio': 0.7561958224373826, 'kTargetDeterminationTrials': 11, 'kAttractionRatio': 0.4790965739133519, 'kMaxAttractionDistance': 74, 'kStartAttraction': 0.0018352258968708961}. Best is trial 76 with value: 6656.807511737089.\u001b[0m\n"
     ]
    },
    {
     "name": "stdout",
     "output_type": "stream",
     "text": [
      "index_parallel='0140'\n"
     ]
    },
    {
     "name": "stderr",
     "output_type": "stream",
     "text": [
      "\u001b[32m[I 2022-08-16 06:00:12,830]\u001b[0m Trial 140 finished with value: 6582.262910798122 and parameters: {'kErase': 1, 'kRadius': 2, 'kAnnealingA': 0.6510753605852622, 'kAnnealingB': 1.2180905378055282, 'kAnnealingStart': 17.726094622350622, 'kSkipRatio': 0.6038425232707547, 'kTargetDeterminationTrials': 13, 'kAttractionRatio': 0.38600866202009687, 'kMaxAttractionDistance': 58, 'kStartAttraction': 0.2425658152924496}. Best is trial 76 with value: 6656.807511737089.\u001b[0m\n"
     ]
    },
    {
     "name": "stdout",
     "output_type": "stream",
     "text": [
      "index_parallel='0142'\n"
     ]
    },
    {
     "name": "stderr",
     "output_type": "stream",
     "text": [
      "\u001b[32m[I 2022-08-16 06:04:13,763]\u001b[0m Trial 142 finished with value: 6594.75117370892 and parameters: {'kErase': 1, 'kRadius': 2, 'kAnnealingA': 1.251253888976021, 'kAnnealingB': 1.3748919911644266, 'kAnnealingStart': 22.705247001298392, 'kSkipRatio': 0.6724346824004293, 'kTargetDeterminationTrials': 16, 'kAttractionRatio': 0.2874940916862086, 'kMaxAttractionDistance': 42, 'kStartAttraction': 0.0072559111783753365}. Best is trial 76 with value: 6656.807511737089.\u001b[0m\n"
     ]
    },
    {
     "name": "stdout",
     "output_type": "stream",
     "text": [
      "index_parallel='0144'\n"
     ]
    },
    {
     "name": "stderr",
     "output_type": "stream",
     "text": [
      "\u001b[32m[I 2022-08-16 06:08:15,183]\u001b[0m Trial 144 finished with value: 6689.215962441314 and parameters: {'kErase': 1, 'kRadius': 2, 'kAnnealingA': 2.799612630370885, 'kAnnealingB': 1.419866346559537, 'kAnnealingStart': 27.54538622255847, 'kSkipRatio': 0.6392548497308178, 'kTargetDeterminationTrials': 15, 'kAttractionRatio': 0.44038389703439434, 'kMaxAttractionDistance': 55, 'kStartAttraction': 0.10563466593139133}. Best is trial 144 with value: 6689.215962441314.\u001b[0m\n"
     ]
    },
    {
     "name": "stdout",
     "output_type": "stream",
     "text": [
      "Updated! 6689.215962441314\n",
      "index_parallel='0146'\n"
     ]
    },
    {
     "name": "stderr",
     "output_type": "stream",
     "text": [
      "\u001b[32m[I 2022-08-16 06:12:16,575]\u001b[0m Trial 146 finished with value: 6623.0093896713615 and parameters: {'kErase': 1, 'kRadius': 2, 'kAnnealingA': 4.8938578190742525, 'kAnnealingB': 0.7576630775316638, 'kAnnealingStart': 31.89391921545251, 'kSkipRatio': 0.6546830089523772, 'kTargetDeterminationTrials': 12, 'kAttractionRatio': 0.5211764345627047, 'kMaxAttractionDistance': 66, 'kStartAttraction': 0.1031048763803666}. Best is trial 144 with value: 6689.215962441314.\u001b[0m\n"
     ]
    },
    {
     "name": "stdout",
     "output_type": "stream",
     "text": [
      "index_parallel='0148'\n"
     ]
    },
    {
     "name": "stderr",
     "output_type": "stream",
     "text": [
      "\u001b[32m[I 2022-08-16 06:16:17,632]\u001b[0m Trial 148 finished with value: 6646.037558685446 and parameters: {'kErase': 1, 'kRadius': 2, 'kAnnealingA': 2.6668529727386066, 'kAnnealingB': 1.5602073358022583, 'kAnnealingStart': 34.79959809057026, 'kSkipRatio': 0.6187265001378048, 'kTargetDeterminationTrials': 9, 'kAttractionRatio': 0.6458292279977597, 'kMaxAttractionDistance': 62, 'kStartAttraction': 0.1202741294988147}. Best is trial 144 with value: 6689.215962441314.\u001b[0m\n"
     ]
    },
    {
     "name": "stdout",
     "output_type": "stream",
     "text": [
      "index_parallel='0150'\n"
     ]
    },
    {
     "name": "stderr",
     "output_type": "stream",
     "text": [
      "\u001b[32m[I 2022-08-16 06:20:18,352]\u001b[0m Trial 150 finished with value: 6648.981220657277 and parameters: {'kErase': 1, 'kRadius': 2, 'kAnnealingA': 2.921965578672002, 'kAnnealingB': 1.692023347598898, 'kAnnealingStart': 35.8323591664571, 'kSkipRatio': 0.5824231763616656, 'kTargetDeterminationTrials': 9, 'kAttractionRatio': 0.5885971577595481, 'kMaxAttractionDistance': 80, 'kStartAttraction': 0.07236171960143213}. Best is trial 144 with value: 6689.215962441314.\u001b[0m\n"
     ]
    },
    {
     "name": "stdout",
     "output_type": "stream",
     "text": [
      "index_parallel='0152'\n"
     ]
    },
    {
     "name": "stderr",
     "output_type": "stream",
     "text": [
      "\u001b[32m[I 2022-08-16 06:24:19,312]\u001b[0m Trial 152 finished with value: 6534.723004694835 and parameters: {'kErase': 1, 'kRadius': 2, 'kAnnealingA': 3.559185047342945, 'kAnnealingB': 1.6824290550568857, 'kAnnealingStart': 43.831573543106195, 'kSkipRatio': 0.6239406675409611, 'kTargetDeterminationTrials': 8, 'kAttractionRatio': 0.6085501264466018, 'kMaxAttractionDistance': 75, 'kStartAttraction': 0.08904238117472596}. Best is trial 144 with value: 6689.215962441314.\u001b[0m\n"
     ]
    },
    {
     "name": "stdout",
     "output_type": "stream",
     "text": [
      "index_parallel='0154'\n"
     ]
    },
    {
     "name": "stderr",
     "output_type": "stream",
     "text": [
      "\u001b[32m[I 2022-08-16 06:28:20,003]\u001b[0m Trial 154 finished with value: 6653.065727699531 and parameters: {'kErase': 1, 'kRadius': 2, 'kAnnealingA': 2.6123278212986905, 'kAnnealingB': 1.726583541597185, 'kAnnealingStart': 36.442646459603395, 'kSkipRatio': 0.5937701380502052, 'kTargetDeterminationTrials': 9, 'kAttractionRatio': 0.5145324323710361, 'kMaxAttractionDistance': 84, 'kStartAttraction': 0.07569324909265389}. Best is trial 144 with value: 6689.215962441314.\u001b[0m\n"
     ]
    },
    {
     "name": "stdout",
     "output_type": "stream",
     "text": [
      "index_parallel='0156'\n"
     ]
    },
    {
     "name": "stderr",
     "output_type": "stream",
     "text": [
      "\u001b[32m[I 2022-08-16 06:32:20,842]\u001b[0m Trial 156 finished with value: 6571.112676056338 and parameters: {'kErase': 1, 'kRadius': 2, 'kAnnealingA': 4.391510596014858, 'kAnnealingB': 1.8378572694289743, 'kAnnealingStart': 36.8533086933403, 'kSkipRatio': 0.5982984511840085, 'kTargetDeterminationTrials': 7, 'kAttractionRatio': 0.5300629672233547, 'kMaxAttractionDistance': 85, 'kStartAttraction': 0.003480454512242471}. Best is trial 144 with value: 6689.215962441314.\u001b[0m\n"
     ]
    },
    {
     "name": "stdout",
     "output_type": "stream",
     "text": [
      "index_parallel='0158'\n"
     ]
    },
    {
     "name": "stderr",
     "output_type": "stream",
     "text": [
      "\u001b[32m[I 2022-08-16 06:36:21,475]\u001b[0m Trial 158 finished with value: 6615.098591549296 and parameters: {'kErase': 1, 'kRadius': 2, 'kAnnealingA': 1.995673307769956, 'kAnnealingB': 1.8621275294338604, 'kAnnealingStart': 41.75907573323884, 'kSkipRatio': 0.5958298526960955, 'kTargetDeterminationTrials': 9, 'kAttractionRatio': 0.5677420597183435, 'kMaxAttractionDistance': 99, 'kStartAttraction': 0.0014609902355128422}. Best is trial 144 with value: 6689.215962441314.\u001b[0m\n"
     ]
    },
    {
     "name": "stdout",
     "output_type": "stream",
     "text": [
      "index_parallel='0160'\n"
     ]
    },
    {
     "name": "stderr",
     "output_type": "stream",
     "text": [
      "\u001b[32m[I 2022-08-16 06:40:22,185]\u001b[0m Trial 160 finished with value: 6636.18779342723 and parameters: {'kErase': 1, 'kRadius': 2, 'kAnnealingA': 3.7278035914498764, 'kAnnealingB': 1.9899172905443203, 'kAnnealingStart': 35.02715896269273, 'kSkipRatio': 0.6141068795357295, 'kTargetDeterminationTrials': 8, 'kAttractionRatio': 0.653347076994093, 'kMaxAttractionDistance': 93, 'kStartAttraction': 0.0028345977449720345}. Best is trial 144 with value: 6689.215962441314.\u001b[0m\n"
     ]
    },
    {
     "name": "stdout",
     "output_type": "stream",
     "text": [
      "index_parallel='0162'\n"
     ]
    },
    {
     "name": "stderr",
     "output_type": "stream",
     "text": [
      "\u001b[32m[I 2022-08-16 06:44:23,281]\u001b[0m Trial 162 finished with value: 6663.5868544600935 and parameters: {'kErase': 1, 'kRadius': 2, 'kAnnealingA': 2.5363614961450467, 'kAnnealingB': 1.9164204924450456, 'kAnnealingStart': 31.120343801604733, 'kSkipRatio': 0.5888736895136437, 'kTargetDeterminationTrials': 10, 'kAttractionRatio': 0.479550789148578, 'kMaxAttractionDistance': 78, 'kStartAttraction': 0.06786391680775312}. Best is trial 144 with value: 6689.215962441314.\u001b[0m\n"
     ]
    },
    {
     "name": "stdout",
     "output_type": "stream",
     "text": [
      "index_parallel='0164'\n"
     ]
    },
    {
     "name": "stderr",
     "output_type": "stream",
     "text": [
      "\u001b[32m[I 2022-08-16 06:48:24,274]\u001b[0m Trial 164 finished with value: 6681.2535211267605 and parameters: {'kErase': 1, 'kRadius': 2, 'kAnnealingA': 2.481685327830853, 'kAnnealingB': 2.0589046721966007, 'kAnnealingStart': 30.314687699635964, 'kSkipRatio': 0.5802475181633816, 'kTargetDeterminationTrials': 10, 'kAttractionRatio': 0.47251177619885487, 'kMaxAttractionDistance': 76, 'kStartAttraction': 0.06972478238125608}. Best is trial 144 with value: 6689.215962441314.\u001b[0m\n"
     ]
    },
    {
     "name": "stdout",
     "output_type": "stream",
     "text": [
      "index_parallel='0166'\n"
     ]
    },
    {
     "name": "stderr",
     "output_type": "stream",
     "text": [
      "\u001b[32m[I 2022-08-16 06:52:25,214]\u001b[0m Trial 166 finished with value: 6659.24882629108 and parameters: {'kErase': 1, 'kRadius': 2, 'kAnnealingA': 2.7410375403240166, 'kAnnealingB': 1.9122243545324633, 'kAnnealingStart': 37.94639450361574, 'kSkipRatio': 0.5586957628588023, 'kTargetDeterminationTrials': 7, 'kAttractionRatio': 0.5191164964124281, 'kMaxAttractionDistance': 79, 'kStartAttraction': 0.001972370370520825}. Best is trial 144 with value: 6689.215962441314.\u001b[0m\n"
     ]
    },
    {
     "name": "stdout",
     "output_type": "stream",
     "text": [
      "index_parallel='0168'\n"
     ]
    },
    {
     "name": "stderr",
     "output_type": "stream",
     "text": [
      "\u001b[32m[I 2022-08-16 06:56:26,202]\u001b[0m Trial 168 finished with value: 6550.765258215963 and parameters: {'kErase': 1, 'kRadius': 2, 'kAnnealingA': 4.438256589022206, 'kAnnealingB': 2.069190967306228, 'kAnnealingStart': 39.08783873119168, 'kSkipRatio': 0.5653366947767827, 'kTargetDeterminationTrials': 6, 'kAttractionRatio': 0.4687866557109878, 'kMaxAttractionDistance': 80, 'kStartAttraction': 0.00226655869179743}. Best is trial 144 with value: 6689.215962441314.\u001b[0m\n"
     ]
    },
    {
     "name": "stdout",
     "output_type": "stream",
     "text": [
      "index_parallel='0170'\n"
     ]
    },
    {
     "name": "stderr",
     "output_type": "stream",
     "text": [
      "\u001b[32m[I 2022-08-16 07:00:27,088]\u001b[0m Trial 170 finished with value: 6660.178403755868 and parameters: {'kErase': 1, 'kRadius': 2, 'kAnnealingA': 2.088564387278153, 'kAnnealingB': 1.9151837470327038, 'kAnnealingStart': 30.87439943130839, 'kSkipRatio': 0.587074653183367, 'kTargetDeterminationTrials': 7, 'kAttractionRatio': 0.7329970950338445, 'kMaxAttractionDistance': 91, 'kStartAttraction': 0.0016391524561613201}. Best is trial 144 with value: 6689.215962441314.\u001b[0m\n"
     ]
    },
    {
     "name": "stdout",
     "output_type": "stream",
     "text": [
      "index_parallel='0172'\n"
     ]
    },
    {
     "name": "stderr",
     "output_type": "stream",
     "text": [
      "\u001b[32m[I 2022-08-16 07:04:28,083]\u001b[0m Trial 172 finished with value: 6649.99530516432 and parameters: {'kErase': 1, 'kRadius': 2, 'kAnnealingA': 1.9632391072611979, 'kAnnealingB': 1.8846923343934638, 'kAnnealingStart': 31.250777717250052, 'kSkipRatio': 0.5835603294471416, 'kTargetDeterminationTrials': 8, 'kAttractionRatio': 0.7546127215480566, 'kMaxAttractionDistance': 89, 'kStartAttraction': 0.0027815372514208574}. Best is trial 144 with value: 6689.215962441314.\u001b[0m\n"
     ]
    },
    {
     "name": "stdout",
     "output_type": "stream",
     "text": [
      "index_parallel='0174'\n"
     ]
    },
    {
     "name": "stderr",
     "output_type": "stream",
     "text": [
      "\u001b[32m[I 2022-08-16 07:08:29,111]\u001b[0m Trial 174 finished with value: 6627.582159624413 and parameters: {'kErase': 1, 'kRadius': 2, 'kAnnealingA': 2.2950108410289967, 'kAnnealingB': 1.885251032010272, 'kAnnealingStart': 32.117405808333785, 'kSkipRatio': 0.5586890850317329, 'kTargetDeterminationTrials': 7, 'kAttractionRatio': 0.7410455748866853, 'kMaxAttractionDistance': 87, 'kStartAttraction': 0.0027985085269040567}. Best is trial 144 with value: 6689.215962441314.\u001b[0m\n"
     ]
    },
    {
     "name": "stdout",
     "output_type": "stream",
     "text": [
      "index_parallel='0176'\n"
     ]
    },
    {
     "name": "stderr",
     "output_type": "stream",
     "text": [
      "\u001b[32m[I 2022-08-16 07:12:30,006]\u001b[0m Trial 176 finished with value: 6654.2723004694835 and parameters: {'kErase': 1, 'kRadius': 2, 'kAnnealingA': 1.8484273056269576, 'kAnnealingB': 1.7937288884367966, 'kAnnealingStart': 30.141229179114752, 'kSkipRatio': 0.59469970510184, 'kTargetDeterminationTrials': 6, 'kAttractionRatio': 0.8911992693062012, 'kMaxAttractionDistance': 91, 'kStartAttraction': 0.002428721148807502}. Best is trial 144 with value: 6689.215962441314.\u001b[0m\n"
     ]
    },
    {
     "name": "stdout",
     "output_type": "stream",
     "text": [
      "index_parallel='0178'\n"
     ]
    },
    {
     "name": "stderr",
     "output_type": "stream",
     "text": [
      "\u001b[32m[I 2022-08-16 07:16:31,285]\u001b[0m Trial 178 finished with value: 6607.582159624413 and parameters: {'kErase': 1, 'kRadius': 2, 'kAnnealingA': 1.9055456612548696, 'kAnnealingB': 1.7900561387629739, 'kAnnealingStart': 30.681957672796422, 'kSkipRatio': 0.5902087101810596, 'kTargetDeterminationTrials': 6, 'kAttractionRatio': 0.882170473011637, 'kMaxAttractionDistance': 89, 'kStartAttraction': 0.002738192411585925}. Best is trial 144 with value: 6689.215962441314.\u001b[0m\n"
     ]
    },
    {
     "name": "stdout",
     "output_type": "stream",
     "text": [
      "index_parallel='0180'\n"
     ]
    },
    {
     "name": "stderr",
     "output_type": "stream",
     "text": [
      "\u001b[32m[I 2022-08-16 07:20:32,182]\u001b[0m Trial 180 finished with value: 6640.150234741784 and parameters: {'kErase': 1, 'kRadius': 2, 'kAnnealingA': 1.8566905927940638, 'kAnnealingB': 1.8231670016102375, 'kAnnealingStart': 50.79958648295797, 'kSkipRatio': 0.5945613764980401, 'kTargetDeterminationTrials': 6, 'kAttractionRatio': 0.8048603127603119, 'kMaxAttractionDistance': 70, 'kStartAttraction': 0.0034680966676339355}. Best is trial 144 with value: 6689.215962441314.\u001b[0m\n"
     ]
    },
    {
     "name": "stdout",
     "output_type": "stream",
     "text": [
      "index_parallel='0182'\n"
     ]
    },
    {
     "name": "stderr",
     "output_type": "stream",
     "text": [
      "\u001b[32m[I 2022-08-16 07:24:33,499]\u001b[0m Trial 182 finished with value: 6619.657276995305 and parameters: {'kErase': 1, 'kRadius': 2, 'kAnnealingA': 1.5844950617036861, 'kAnnealingB': 1.7667079159726424, 'kAnnealingStart': 33.36212576555113, 'kSkipRatio': 0.567329793005705, 'kTargetDeterminationTrials': 5, 'kAttractionRatio': 0.7343127059514338, 'kMaxAttractionDistance': 95, 'kStartAttraction': 0.003127973722659018}. Best is trial 144 with value: 6689.215962441314.\u001b[0m\n"
     ]
    },
    {
     "name": "stdout",
     "output_type": "stream",
     "text": [
      "index_parallel='0184'\n"
     ]
    },
    {
     "name": "stderr",
     "output_type": "stream",
     "text": [
      "\u001b[32m[I 2022-08-16 07:28:34,290]\u001b[0m Trial 184 finished with value: 6608.389671361502 and parameters: {'kErase': 1, 'kRadius': 2, 'kAnnealingA': 2.6229948384149497, 'kAnnealingB': 1.902754816578464, 'kAnnealingStart': 32.74588345552204, 'kSkipRatio': 0.5748512217229605, 'kTargetDeterminationTrials': 7, 'kAttractionRatio': 0.8937664315682252, 'kMaxAttractionDistance': 85, 'kStartAttraction': 0.0020075922237845264}. Best is trial 144 with value: 6689.215962441314.\u001b[0m\n"
     ]
    },
    {
     "name": "stdout",
     "output_type": "stream",
     "text": [
      "index_parallel='0186'\n"
     ]
    },
    {
     "name": "stderr",
     "output_type": "stream",
     "text": [
      "\u001b[32m[I 2022-08-16 07:32:35,212]\u001b[0m Trial 186 finished with value: 6620.62441314554 and parameters: {'kErase': 1, 'kRadius': 2, 'kAnnealingA': 3.5517127098301264, 'kAnnealingB': 2.0196084182487555, 'kAnnealingStart': 36.01992120453742, 'kSkipRatio': 0.5442864365021043, 'kTargetDeterminationTrials': 6, 'kAttractionRatio': 0.6819352176957667, 'kMaxAttractionDistance': 99, 'kStartAttraction': 0.001366507991836484}. Best is trial 144 with value: 6689.215962441314.\u001b[0m\n"
     ]
    },
    {
     "name": "stdout",
     "output_type": "stream",
     "text": [
      "index_parallel='0188'\n"
     ]
    },
    {
     "name": "stderr",
     "output_type": "stream",
     "text": [
      "\u001b[32m[I 2022-08-16 07:36:36,324]\u001b[0m Trial 188 finished with value: 6608.7464788732395 and parameters: {'kErase': 1, 'kRadius': 2, 'kAnnealingA': 3.253677754044915, 'kAnnealingB': 1.9450783498335902, 'kAnnealingStart': 28.724941702118564, 'kSkipRatio': 0.6073365578463908, 'kTargetDeterminationTrials': 6, 'kAttractionRatio': 0.7059343369608735, 'kMaxAttractionDistance': 75, 'kStartAttraction': 0.002369298202711977}. Best is trial 144 with value: 6689.215962441314.\u001b[0m\n"
     ]
    },
    {
     "name": "stdout",
     "output_type": "stream",
     "text": [
      "index_parallel='0190'\n"
     ]
    },
    {
     "name": "stderr",
     "output_type": "stream",
     "text": [
      "\u001b[32m[I 2022-08-16 07:40:37,321]\u001b[0m Trial 190 finished with value: 6232.915492957746 and parameters: {'kErase': 1, 'kRadius': 2, 'kAnnealingA': -10.500376283731045, 'kAnnealingB': 2.1488858567075177, 'kAnnealingStart': 29.511672997599447, 'kSkipRatio': 0.6259703666428424, 'kTargetDeterminationTrials': 5, 'kAttractionRatio': 0.8232464852174413, 'kMaxAttractionDistance': 78, 'kStartAttraction': 0.004343066437573458}. Best is trial 144 with value: 6689.215962441314.\u001b[0m\n"
     ]
    },
    {
     "name": "stdout",
     "output_type": "stream",
     "text": [
      "index_parallel='0192'\n"
     ]
    },
    {
     "name": "stderr",
     "output_type": "stream",
     "text": [
      "\u001b[32m[I 2022-08-16 07:44:38,419]\u001b[0m Trial 192 finished with value: 6604.30985915493 and parameters: {'kErase': 1, 'kRadius': 2, 'kAnnealingA': 3.7890332565252853, 'kAnnealingB': 1.828944773296152, 'kAnnealingStart': 32.46874124198357, 'kSkipRatio': 0.5768562476042156, 'kTargetDeterminationTrials': 6, 'kAttractionRatio': 0.7259412436140442, 'kMaxAttractionDistance': 93, 'kStartAttraction': 0.0019337144232005176}. Best is trial 144 with value: 6689.215962441314.\u001b[0m\n"
     ]
    },
    {
     "name": "stdout",
     "output_type": "stream",
     "text": [
      "index_parallel='0194'\n"
     ]
    },
    {
     "name": "stderr",
     "output_type": "stream",
     "text": [
      "\u001b[32m[I 2022-08-16 07:48:39,437]\u001b[0m Trial 194 finished with value: 6644.802816901409 and parameters: {'kErase': 1, 'kRadius': 2, 'kAnnealingA': 2.506809232344143, 'kAnnealingB': 1.7182262315388395, 'kAnnealingStart': 34.57955158105788, 'kSkipRatio': 0.5981028183425728, 'kTargetDeterminationTrials': 7, 'kAttractionRatio': 0.6788157864110249, 'kMaxAttractionDistance': 83, 'kStartAttraction': 0.0023620384737730905}. Best is trial 144 with value: 6689.215962441314.\u001b[0m\n"
     ]
    },
    {
     "name": "stdout",
     "output_type": "stream",
     "text": [
      "index_parallel='0196'\n"
     ]
    },
    {
     "name": "stderr",
     "output_type": "stream",
     "text": [
      "\u001b[32m[I 2022-08-16 07:52:40,458]\u001b[0m Trial 196 finished with value: 6007.075117370892 and parameters: {'kErase': 1, 'kRadius': 2, 'kAnnealingA': 1.707477698611406, 'kAnnealingB': 1.9349354627544078, 'kAnnealingStart': 1.0876146568266132, 'kSkipRatio': 0.5674329198849948, 'kTargetDeterminationTrials': 7, 'kAttractionRatio': 0.6620373340964792, 'kMaxAttractionDistance': 70, 'kStartAttraction': 0.0031614892509120936}. Best is trial 144 with value: 6689.215962441314.\u001b[0m\n"
     ]
    },
    {
     "name": "stdout",
     "output_type": "stream",
     "text": [
      "index_parallel='0198'\n"
     ]
    },
    {
     "name": "stderr",
     "output_type": "stream",
     "text": [
      "\u001b[32m[I 2022-08-16 07:56:42,036]\u001b[0m Trial 198 finished with value: 6299.525821596244 and parameters: {'kErase': 4, 'kRadius': 2, 'kAnnealingA': 3.156493811949651, 'kAnnealingB': 1.7763900161209936, 'kAnnealingStart': 44.51822944969009, 'kSkipRatio': 0.5614377738927312, 'kTargetDeterminationTrials': 6, 'kAttractionRatio': 0.7856937261749996, 'kMaxAttractionDistance': 81, 'kStartAttraction': 0.002464344385268633}. Best is trial 144 with value: 6689.215962441314.\u001b[0m\n"
     ]
    },
    {
     "name": "stdout",
     "output_type": "stream",
     "text": [
      "index_parallel='0200'\n"
     ]
    },
    {
     "name": "stderr",
     "output_type": "stream",
     "text": [
      "\u001b[32m[I 2022-08-16 08:00:43,222]\u001b[0m Trial 200 finished with value: 6575.680751173709 and parameters: {'kErase': 1, 'kRadius': 2, 'kAnnealingA': 4.189767422246406, 'kAnnealingB': 2.0108479334911875, 'kAnnealingStart': 34.125017498091474, 'kSkipRatio': 0.5328296845690864, 'kTargetDeterminationTrials': 7, 'kAttractionRatio': 0.795859453713542, 'kMaxAttractionDistance': 87, 'kStartAttraction': 0.0038580526403231433}. Best is trial 144 with value: 6689.215962441314.\u001b[0m\n"
     ]
    },
    {
     "name": "stdout",
     "output_type": "stream",
     "text": [
      "index_parallel='0202'\n"
     ]
    },
    {
     "name": "stderr",
     "output_type": "stream",
     "text": [
      "\u001b[32m[I 2022-08-16 08:04:44,292]\u001b[0m Trial 202 finished with value: 6620.089201877934 and parameters: {'kErase': 1, 'kRadius': 2, 'kAnnealingA': 2.4018529729711124, 'kAnnealingB': 1.8475704373451, 'kAnnealingStart': 28.693863604596725, 'kSkipRatio': 0.5891010322606537, 'kTargetDeterminationTrials': 6, 'kAttractionRatio': 0.6344539356520049, 'kMaxAttractionDistance': 76, 'kStartAttraction': 0.00315479245942404}. Best is trial 144 with value: 6689.215962441314.\u001b[0m\n"
     ]
    },
    {
     "name": "stdout",
     "output_type": "stream",
     "text": [
      "index_parallel='0204'\n"
     ]
    },
    {
     "name": "stderr",
     "output_type": "stream",
     "text": [
      "\u001b[32m[I 2022-08-16 08:08:45,491]\u001b[0m Trial 204 finished with value: 6676.37558685446 and parameters: {'kErase': 1, 'kRadius': 2, 'kAnnealingA': 1.6202265802960114, 'kAnnealingB': 1.7194063844781553, 'kAnnealingStart': 26.033566563627815, 'kSkipRatio': 0.6106191332992275, 'kTargetDeterminationTrials': 8, 'kAttractionRatio': 0.7222449710233498, 'kMaxAttractionDistance': 95, 'kStartAttraction': 0.0408625449093919}. Best is trial 144 with value: 6689.215962441314.\u001b[0m\n"
     ]
    },
    {
     "name": "stdout",
     "output_type": "stream",
     "text": [
      "index_parallel='0206'\n"
     ]
    },
    {
     "name": "stderr",
     "output_type": "stream",
     "text": [
      "\u001b[32m[I 2022-08-16 08:12:46,673]\u001b[0m Trial 206 finished with value: 6623.070422535211 and parameters: {'kErase': 1, 'kRadius': 2, 'kAnnealingA': 1.5518995301743683, 'kAnnealingB': 1.6901742585160846, 'kAnnealingStart': 38.21558187615543, 'kSkipRatio': 0.6112017515644226, 'kTargetDeterminationTrials': 8, 'kAttractionRatio': 0.743797739327281, 'kMaxAttractionDistance': 98, 'kStartAttraction': 0.002253147010895941}. Best is trial 144 with value: 6689.215962441314.\u001b[0m\n"
     ]
    },
    {
     "name": "stdout",
     "output_type": "stream",
     "text": [
      "index_parallel='0208'\n"
     ]
    },
    {
     "name": "stderr",
     "output_type": "stream",
     "text": [
      "\u001b[32m[I 2022-08-16 08:16:47,605]\u001b[0m Trial 208 finished with value: 6627.4647887323945 and parameters: {'kErase': 1, 'kRadius': 2, 'kAnnealingA': 2.208613163822763, 'kAnnealingB': 1.7172586709820132, 'kAnnealingStart': 29.459573807206006, 'kSkipRatio': 0.6237804360857415, 'kTargetDeterminationTrials': 7, 'kAttractionRatio': 0.5766681276001128, 'kMaxAttractionDistance': 93, 'kStartAttraction': 0.058527551357607344}. Best is trial 144 with value: 6689.215962441314.\u001b[0m\n"
     ]
    },
    {
     "name": "stdout",
     "output_type": "stream",
     "text": [
      "index_parallel='0210'\n"
     ]
    },
    {
     "name": "stderr",
     "output_type": "stream",
     "text": [
      "\u001b[32m[I 2022-08-16 08:20:48,696]\u001b[0m Trial 210 finished with value: 6635.633802816901 and parameters: {'kErase': 1, 'kRadius': 2, 'kAnnealingA': 2.8014788721714963, 'kAnnealingB': 2.0854165615540072, 'kAnnealingStart': 25.823847682662702, 'kSkipRatio': 0.5779736172003129, 'kTargetDeterminationTrials': 10, 'kAttractionRatio': 0.8381941859292277, 'kMaxAttractionDistance': 86, 'kStartAttraction': 0.037441852127221786}. Best is trial 144 with value: 6689.215962441314.\u001b[0m\n"
     ]
    },
    {
     "name": "stdout",
     "output_type": "stream",
     "text": [
      "index_parallel='0212'\n"
     ]
    },
    {
     "name": "stderr",
     "output_type": "stream",
     "text": [
      "\u001b[32m[I 2022-08-16 08:24:49,606]\u001b[0m Trial 212 finished with value: 6660.084507042254 and parameters: {'kErase': 1, 'kRadius': 2, 'kAnnealingA': 1.6354272043946272, 'kAnnealingB': 1.8058985220784978, 'kAnnealingStart': 33.093602835833636, 'kSkipRatio': 0.5914034296371886, 'kTargetDeterminationTrials': 7, 'kAttractionRatio': 0.6709044541831168, 'kMaxAttractionDistance': 73, 'kStartAttraction': 0.0029422563730710414}. Best is trial 144 with value: 6689.215962441314.\u001b[0m\n"
     ]
    },
    {
     "name": "stdout",
     "output_type": "stream",
     "text": [
      "index_parallel='0214'\n"
     ]
    },
    {
     "name": "stderr",
     "output_type": "stream",
     "text": [
      "\u001b[32m[I 2022-08-16 08:28:51,444]\u001b[0m Trial 214 finished with value: 6245.239436619719 and parameters: {'kErase': 5, 'kRadius': 2, 'kAnnealingA': 1.690933402741499, 'kAnnealingB': 1.8833729567130646, 'kAnnealingStart': 33.15630710034408, 'kSkipRatio': 0.6045865705308712, 'kTargetDeterminationTrials': 6, 'kAttractionRatio': 0.6278793520778614, 'kMaxAttractionDistance': 81, 'kStartAttraction': 0.0030033071934994294}. Best is trial 144 with value: 6689.215962441314.\u001b[0m\n"
     ]
    },
    {
     "name": "stdout",
     "output_type": "stream",
     "text": [
      "index_parallel='0216'\n"
     ]
    },
    {
     "name": "stderr",
     "output_type": "stream",
     "text": [
      "\u001b[32m[I 2022-08-16 08:32:52,695]\u001b[0m Trial 216 finished with value: 6666.3239436619715 and parameters: {'kErase': 1, 'kRadius': 2, 'kAnnealingA': 3.3313220933416705, 'kAnnealingB': 1.6169350762111514, 'kAnnealingStart': 35.796848942847944, 'kSkipRatio': 0.5896470636341576, 'kTargetDeterminationTrials': 7, 'kAttractionRatio': 0.5391407097882273, 'kMaxAttractionDistance': 72, 'kStartAttraction': 0.0013172540970756348}. Best is trial 144 with value: 6689.215962441314.\u001b[0m\n"
     ]
    },
    {
     "name": "stdout",
     "output_type": "stream",
     "text": [
      "index_parallel='0218'\n"
     ]
    },
    {
     "name": "stderr",
     "output_type": "stream",
     "text": [
      "\u001b[32m[I 2022-08-16 08:36:53,800]\u001b[0m Trial 218 finished with value: 6612.173708920188 and parameters: {'kErase': 1, 'kRadius': 2, 'kAnnealingA': 3.2905637161727164, 'kAnnealingB': 1.8083218130330099, 'kAnnealingStart': 40.828243667644635, 'kSkipRatio': 0.5847089725378795, 'kTargetDeterminationTrials': 7, 'kAttractionRatio': 0.6077790436591994, 'kMaxAttractionDistance': 68, 'kStartAttraction': 0.0012149973708676066}. Best is trial 144 with value: 6689.215962441314.\u001b[0m\n"
     ]
    },
    {
     "name": "stdout",
     "output_type": "stream",
     "text": [
      "index_parallel='0220'\n"
     ]
    },
    {
     "name": "stderr",
     "output_type": "stream",
     "text": [
      "\u001b[32m[I 2022-08-16 08:40:55,029]\u001b[0m Trial 220 finished with value: 6580.30985915493 and parameters: {'kErase': 1, 'kRadius': 2, 'kAnnealingA': 0.5143422749025699, 'kAnnealingB': 2.0057868234989167, 'kAnnealingStart': 30.879688282411696, 'kSkipRatio': 0.6161967503514296, 'kTargetDeterminationTrials': 7, 'kAttractionRatio': 0.7291557990305366, 'kMaxAttractionDistance': 76, 'kStartAttraction': 0.001348305785679032}. Best is trial 144 with value: 6689.215962441314.\u001b[0m\n"
     ]
    },
    {
     "name": "stdout",
     "output_type": "stream",
     "text": [
      "index_parallel='0222'\n"
     ]
    },
    {
     "name": "stderr",
     "output_type": "stream",
     "text": [
      "\u001b[32m[I 2022-08-16 08:44:56,092]\u001b[0m Trial 222 finished with value: 6672.051643192488 and parameters: {'kErase': 1, 'kRadius': 2, 'kAnnealingA': 2.0984344358490272, 'kAnnealingB': 1.7403229176652575, 'kAnnealingStart': 35.49965708365822, 'kSkipRatio': 0.5743999168744529, 'kTargetDeterminationTrials': 8, 'kAttractionRatio': 0.5079076549351564, 'kMaxAttractionDistance': 83, 'kStartAttraction': 0.0018557829885205393}. Best is trial 144 with value: 6689.215962441314.\u001b[0m\n"
     ]
    },
    {
     "name": "stdout",
     "output_type": "stream",
     "text": [
      "index_parallel='0224'\n"
     ]
    },
    {
     "name": "stderr",
     "output_type": "stream",
     "text": [
      "\u001b[32m[I 2022-08-16 08:48:57,153]\u001b[0m Trial 224 finished with value: 6654.446009389671 and parameters: {'kErase': 1, 'kRadius': 2, 'kAnnealingA': 2.197727358143408, 'kAnnealingB': 1.6093223664462926, 'kAnnealingStart': 34.911228744166, 'kSkipRatio': 0.5525303360042535, 'kTargetDeterminationTrials': 8, 'kAttractionRatio': 0.6735518753847366, 'kMaxAttractionDistance': 93, 'kStartAttraction': 0.0017601327476439916}. Best is trial 144 with value: 6689.215962441314.\u001b[0m\n"
     ]
    },
    {
     "name": "stdout",
     "output_type": "stream",
     "text": [
      "index_parallel='0226'\n"
     ]
    },
    {
     "name": "stderr",
     "output_type": "stream",
     "text": [
      "\u001b[32m[I 2022-08-16 08:52:58,246]\u001b[0m Trial 226 finished with value: 6660.178403755868 and parameters: {'kErase': 1, 'kRadius': 2, 'kAnnealingA': 2.1485747500089603, 'kAnnealingB': 1.6342072205976679, 'kAnnealingStart': 39.49624297598202, 'kSkipRatio': 0.5456711323737251, 'kTargetDeterminationTrials': 8, 'kAttractionRatio': 0.662171434385693, 'kMaxAttractionDistance': 73, 'kStartAttraction': 0.0015931810857995803}. Best is trial 225 with value: 6690.215962441314.\u001b[0m\n"
     ]
    },
    {
     "name": "stdout",
     "output_type": "stream",
     "text": [
      "index_parallel='0228'\n"
     ]
    },
    {
     "name": "stderr",
     "output_type": "stream",
     "text": [
      "\u001b[32m[I 2022-08-16 08:56:59,108]\u001b[0m Trial 228 finished with value: 6666.24882629108 and parameters: {'kErase': 1, 'kRadius': 2, 'kAnnealingA': 1.1770694240773125, 'kAnnealingB': 1.6407855676795082, 'kAnnealingStart': 41.851792123546645, 'kSkipRatio': 0.5442279350966841, 'kTargetDeterminationTrials': 8, 'kAttractionRatio': 0.5992333916869059, 'kMaxAttractionDistance': 65, 'kStartAttraction': 0.0015432007082198918}. Best is trial 227 with value: 6695.840375586855.\u001b[0m\n"
     ]
    },
    {
     "name": "stdout",
     "output_type": "stream",
     "text": [
      "index_parallel='0230'\n"
     ]
    },
    {
     "name": "stderr",
     "output_type": "stream",
     "text": [
      "\u001b[32m[I 2022-08-16 09:01:00,267]\u001b[0m Trial 230 finished with value: 6664.859154929577 and parameters: {'kErase': 1, 'kRadius': 2, 'kAnnealingA': 1.1046621841820667, 'kAnnealingB': 1.6093669513417417, 'kAnnealingStart': 47.01622022203059, 'kSkipRatio': 0.5456338723276782, 'kTargetDeterminationTrials': 7, 'kAttractionRatio': 0.5943310577962785, 'kMaxAttractionDistance': 64, 'kStartAttraction': 0.0015490048044493343}. Best is trial 227 with value: 6695.840375586855.\u001b[0m\n"
     ]
    },
    {
     "name": "stdout",
     "output_type": "stream",
     "text": [
      "index_parallel='0232'\n"
     ]
    },
    {
     "name": "stderr",
     "output_type": "stream",
     "text": [
      "\u001b[32m[I 2022-08-16 09:05:01,639]\u001b[0m Trial 232 finished with value: 6620.99530516432 and parameters: {'kErase': 1, 'kRadius': 2, 'kAnnealingA': 1.1176393657608532, 'kAnnealingB': 1.6157558917221768, 'kAnnealingStart': 44.854775432966726, 'kSkipRatio': 0.5187498213879178, 'kTargetDeterminationTrials': 8, 'kAttractionRatio': 0.6057938235346345, 'kMaxAttractionDistance': 64, 'kStartAttraction': 0.0015239999862912772}. Best is trial 227 with value: 6695.840375586855.\u001b[0m\n"
     ]
    },
    {
     "name": "stdout",
     "output_type": "stream",
     "text": [
      "index_parallel='0234'\n"
     ]
    },
    {
     "name": "stderr",
     "output_type": "stream",
     "text": [
      "\u001b[32m[I 2022-08-16 09:09:02,447]\u001b[0m Trial 234 finished with value: 6041.507042253521 and parameters: {'kErase': 1, 'kRadius': 2, 'kAnnealingA': 0.18374893846186136, 'kAnnealingB': 1.5754119479946715, 'kAnnealingStart': 2.2164681852794934, 'kSkipRatio': 0.5423871703014586, 'kTargetDeterminationTrials': 8, 'kAttractionRatio': 0.637440605219481, 'kMaxAttractionDistance': 67, 'kStartAttraction': 0.0011626738906969207}. Best is trial 227 with value: 6695.840375586855.\u001b[0m\n"
     ]
    },
    {
     "name": "stdout",
     "output_type": "stream",
     "text": [
      "index_parallel='0236'\n"
     ]
    },
    {
     "name": "stderr",
     "output_type": "stream",
     "text": [
      "\u001b[32m[I 2022-08-16 09:13:03,478]\u001b[0m Trial 236 finished with value: 6621.042253521126 and parameters: {'kErase': 1, 'kRadius': 2, 'kAnnealingA': 1.1256045545795363, 'kAnnealingB': 1.6607512224328478, 'kAnnealingStart': 55.39468544820441, 'kSkipRatio': 0.5361534742688225, 'kTargetDeterminationTrials': 9, 'kAttractionRatio': 0.5637206328208335, 'kMaxAttractionDistance': 62, 'kStartAttraction': 0.0014356059668907155}. Best is trial 227 with value: 6695.840375586855.\u001b[0m\n"
     ]
    },
    {
     "name": "stdout",
     "output_type": "stream",
     "text": [
      "index_parallel='0238'\n"
     ]
    },
    {
     "name": "stderr",
     "output_type": "stream",
     "text": [
      "\u001b[32m[I 2022-08-16 09:17:04,431]\u001b[0m Trial 238 finished with value: 6596.582159624413 and parameters: {'kErase': 1, 'kRadius': 2, 'kAnnealingA': 1.8875261628204805, 'kAnnealingB': 1.723330055663249, 'kAnnealingStart': 50.63961219489217, 'kSkipRatio': 0.5284803610602079, 'kTargetDeterminationTrials': 8, 'kAttractionRatio': 0.4841650231516052, 'kMaxAttractionDistance': 71, 'kStartAttraction': 0.001605181349029134}. Best is trial 227 with value: 6695.840375586855.\u001b[0m\n"
     ]
    },
    {
     "name": "stdout",
     "output_type": "stream",
     "text": [
      "index_parallel='0240'\n"
     ]
    },
    {
     "name": "stderr",
     "output_type": "stream",
     "text": [
      "\u001b[32m[I 2022-08-16 09:21:05,664]\u001b[0m Trial 240 finished with value: 6629.117370892019 and parameters: {'kErase': 1, 'kRadius': 2, 'kAnnealingA': 2.0476306525973333, 'kAnnealingB': 1.5944676105231834, 'kAnnealingStart': 46.92193310571832, 'kSkipRatio': 0.5630128788945016, 'kTargetDeterminationTrials': 7, 'kAttractionRatio': 0.6539715382404643, 'kMaxAttractionDistance': 68, 'kStartAttraction': 0.0017432257880415788}. Best is trial 227 with value: 6695.840375586855.\u001b[0m\n"
     ]
    },
    {
     "name": "stdout",
     "output_type": "stream",
     "text": [
      "index_parallel='0242'\n"
     ]
    },
    {
     "name": "stderr",
     "output_type": "stream",
     "text": [
      "\u001b[32m[I 2022-08-16 09:25:07,029]\u001b[0m Trial 242 finished with value: 6598.774647887324 and parameters: {'kErase': 1, 'kRadius': 2, 'kAnnealingA': 1.433159418296279, 'kAnnealingB': 1.5766562122570948, 'kAnnealingStart': 40.15861833823631, 'kSkipRatio': 0.557693917362928, 'kTargetDeterminationTrials': 7, 'kAttractionRatio': 0.6825797975384783, 'kMaxAttractionDistance': 58, 'kStartAttraction': 0.001325864615476869}. Best is trial 227 with value: 6695.840375586855.\u001b[0m\n"
     ]
    },
    {
     "name": "stdout",
     "output_type": "stream",
     "text": [
      "index_parallel='0244'\n"
     ]
    },
    {
     "name": "stderr",
     "output_type": "stream",
     "text": [
      "\u001b[32m[I 2022-08-16 09:29:07,862]\u001b[0m Trial 244 finished with value: 6623.671361502347 and parameters: {'kErase': 1, 'kRadius': 2, 'kAnnealingA': 0.7738011947273723, 'kAnnealingB': 1.859792782165071, 'kAnnealingStart': 42.00500874055867, 'kSkipRatio': 0.5715055428458647, 'kTargetDeterminationTrials': 7, 'kAttractionRatio': 0.6379126202291252, 'kMaxAttractionDistance': 74, 'kStartAttraction': 0.00211245255374362}. Best is trial 227 with value: 6695.840375586855.\u001b[0m\n"
     ]
    },
    {
     "name": "stdout",
     "output_type": "stream",
     "text": [
      "index_parallel='0246'\n"
     ]
    },
    {
     "name": "stderr",
     "output_type": "stream",
     "text": [
      "\u001b[32m[I 2022-08-16 09:33:08,956]\u001b[0m Trial 246 finished with value: 6669.44131455399 and parameters: {'kErase': 1, 'kRadius': 2, 'kAnnealingA': 0.16871036711010134, 'kAnnealingB': 1.6923149267111863, 'kAnnealingStart': 38.84400634303052, 'kSkipRatio': 0.5726048908311298, 'kTargetDeterminationTrials': 8, 'kAttractionRatio': 0.6150994526909865, 'kMaxAttractionDistance': 79, 'kStartAttraction': 0.0015599738424689944}. Best is trial 227 with value: 6695.840375586855.\u001b[0m\n"
     ]
    },
    {
     "name": "stdout",
     "output_type": "stream",
     "text": [
      "index_parallel='0248'\n"
     ]
    },
    {
     "name": "stderr",
     "output_type": "stream",
     "text": [
      "\u001b[32m[I 2022-08-16 09:37:10,114]\u001b[0m Trial 248 finished with value: 6660.183098591549 and parameters: {'kErase': 1, 'kRadius': 2, 'kAnnealingA': -0.010847251750230935, 'kAnnealingB': 1.6680252242965476, 'kAnnealingStart': 38.40988862917736, 'kSkipRatio': 0.5445158165190386, 'kTargetDeterminationTrials': 9, 'kAttractionRatio': 0.5474419325387733, 'kMaxAttractionDistance': 80, 'kStartAttraction': 0.0016959507179492319}. Best is trial 227 with value: 6695.840375586855.\u001b[0m\n"
     ]
    },
    {
     "name": "stdout",
     "output_type": "stream",
     "text": [
      "index_parallel='0250'\n"
     ]
    },
    {
     "name": "stderr",
     "output_type": "stream",
     "text": [
      "\u001b[32m[I 2022-08-16 09:41:11,062]\u001b[0m Trial 250 finished with value: 6681.971830985915 and parameters: {'kErase': 1, 'kRadius': 2, 'kAnnealingA': -0.16626535543166554, 'kAnnealingB': 1.633373800390207, 'kAnnealingStart': 46.47182091000549, 'kSkipRatio': 0.5434242966991635, 'kTargetDeterminationTrials': 9, 'kAttractionRatio': 0.5078289852982407, 'kMaxAttractionDistance': 80, 'kStartAttraction': 0.0010487668208809036}. Best is trial 227 with value: 6695.840375586855.\u001b[0m\n"
     ]
    },
    {
     "name": "stdout",
     "output_type": "stream",
     "text": [
      "index_parallel='0252'\n"
     ]
    },
    {
     "name": "stderr",
     "output_type": "stream",
     "text": [
      "\u001b[32m[I 2022-08-16 09:45:11,853]\u001b[0m Trial 252 finished with value: 6618.079812206573 and parameters: {'kErase': 1, 'kRadius': 2, 'kAnnealingA': -0.004926776873039662, 'kAnnealingB': 1.6992680700386367, 'kAnnealingStart': 47.75287161600363, 'kSkipRatio': 0.567315075923775, 'kTargetDeterminationTrials': 9, 'kAttractionRatio': 0.4849768962663902, 'kMaxAttractionDistance': 79, 'kStartAttraction': 0.0010061826853997365}. Best is trial 251 with value: 6695.9389671361505.\u001b[0m\n"
     ]
    },
    {
     "name": "stdout",
     "output_type": "stream",
     "text": [
      "index_parallel='0254'\n"
     ]
    },
    {
     "name": "stderr",
     "output_type": "stream",
     "text": [
      "\u001b[32m[I 2022-08-16 09:49:12,904]\u001b[0m Trial 254 finished with value: 6651.840375586855 and parameters: {'kErase': 1, 'kRadius': 2, 'kAnnealingA': -0.7138926315419993, 'kAnnealingB': 1.754139265460453, 'kAnnealingStart': 46.28148113137174, 'kSkipRatio': 0.5284588909934231, 'kTargetDeterminationTrials': 8, 'kAttractionRatio': 0.4451745058071354, 'kMaxAttractionDistance': 61, 'kStartAttraction': 0.0011193886874876539}. Best is trial 251 with value: 6695.9389671361505.\u001b[0m\n"
     ]
    },
    {
     "name": "stdout",
     "output_type": "stream",
     "text": [
      "index_parallel='0256'\n"
     ]
    },
    {
     "name": "stderr",
     "output_type": "stream",
     "text": [
      "\u001b[32m[I 2022-08-16 09:53:13,893]\u001b[0m Trial 256 finished with value: 6679.446009389671 and parameters: {'kErase': 1, 'kRadius': 2, 'kAnnealingA': -0.41199115147050364, 'kAnnealingB': 1.5286769279742145, 'kAnnealingStart': 54.94381473215254, 'kSkipRatio': 0.5044582509457345, 'kTargetDeterminationTrials': 9, 'kAttractionRatio': 0.5366261400643426, 'kMaxAttractionDistance': 61, 'kStartAttraction': 0.0011219982106321304}. Best is trial 251 with value: 6695.9389671361505.\u001b[0m\n"
     ]
    },
    {
     "name": "stdout",
     "output_type": "stream",
     "text": [
      "index_parallel='0258'\n"
     ]
    },
    {
     "name": "stderr",
     "output_type": "stream",
     "text": [
      "\u001b[32m[I 2022-08-16 09:57:14,985]\u001b[0m Trial 258 finished with value: 6604.704225352113 and parameters: {'kErase': 1, 'kRadius': 2, 'kAnnealingA': -0.3159232294483895, 'kAnnealingB': 1.5391342604380092, 'kAnnealingStart': 54.96509248435088, 'kSkipRatio': 0.4919128470175025, 'kTargetDeterminationTrials': 9, 'kAttractionRatio': 0.5098207336960313, 'kMaxAttractionDistance': 64, 'kStartAttraction': 0.0012807890192015174}. Best is trial 251 with value: 6695.9389671361505.\u001b[0m\n"
     ]
    },
    {
     "name": "stdout",
     "output_type": "stream",
     "text": [
      "index_parallel='0260'\n"
     ]
    },
    {
     "name": "stderr",
     "output_type": "stream",
     "text": [
      "\u001b[32m[I 2022-08-16 10:01:16,049]\u001b[0m Trial 260 finished with value: 6642.361502347418 and parameters: {'kErase': 1, 'kRadius': 2, 'kAnnealingA': -0.9005063462785904, 'kAnnealingB': 1.61517545811601, 'kAnnealingStart': 50.835105150008, 'kSkipRatio': 0.5113670546363739, 'kTargetDeterminationTrials': 9, 'kAttractionRatio': 0.5733126617783926, 'kMaxAttractionDistance': 59, 'kStartAttraction': 0.0010599409811736112}. Best is trial 251 with value: 6695.9389671361505.\u001b[0m\n"
     ]
    },
    {
     "name": "stdout",
     "output_type": "stream",
     "text": [
      "index_parallel='0262'\n"
     ]
    },
    {
     "name": "stderr",
     "output_type": "stream",
     "text": [
      "\u001b[32m[I 2022-08-16 10:05:16,834]\u001b[0m Trial 262 finished with value: 6607.7981220657275 and parameters: {'kErase': 1, 'kRadius': 2, 'kAnnealingA': -0.3302402002408013, 'kAnnealingB': 1.6887027164268296, 'kAnnealingStart': 60.40773159253885, 'kSkipRatio': 0.5009132527235745, 'kTargetDeterminationTrials': 10, 'kAttractionRatio': 0.5812178295888094, 'kMaxAttractionDistance': 86, 'kStartAttraction': 0.011250212975039128}. Best is trial 261 with value: 6711.023474178403.\u001b[0m\n"
     ]
    },
    {
     "name": "stdout",
     "output_type": "stream",
     "text": [
      "index_parallel='0264'\n"
     ]
    },
    {
     "name": "stderr",
     "output_type": "stream",
     "text": [
      "\u001b[32m[I 2022-08-16 10:09:17,868]\u001b[0m Trial 264 finished with value: 6593.051643192488 and parameters: {'kErase': 1, 'kRadius': 2, 'kAnnealingA': -0.6770761676891802, 'kAnnealingB': 2.3626194849149345, 'kAnnealingStart': 65.1887438258452, 'kSkipRatio': 0.49311997022480814, 'kTargetDeterminationTrials': 10, 'kAttractionRatio': 0.5084594534826953, 'kMaxAttractionDistance': 87, 'kStartAttraction': 0.020043318887679816}. Best is trial 261 with value: 6711.023474178403.\u001b[0m\n"
     ]
    },
    {
     "name": "stdout",
     "output_type": "stream",
     "text": [
      "index_parallel='0266'\n"
     ]
    },
    {
     "name": "stderr",
     "output_type": "stream",
     "text": [
      "\u001b[32m[I 2022-08-16 10:13:19,053]\u001b[0m Trial 266 finished with value: 6387.544600938967 and parameters: {'kErase': 1, 'kRadius': 2, 'kAnnealingA': -1.557708442225548, 'kAnnealingB': 2.485866419250812, 'kAnnealingStart': 45.508343152085786, 'kSkipRatio': 0.5363025327041147, 'kTargetDeterminationTrials': 8, 'kAttractionRatio': 0.011613747294722353, 'kMaxAttractionDistance': 98, 'kStartAttraction': 0.0012492246576046914}. Best is trial 261 with value: 6711.023474178403.\u001b[0m\n"
     ]
    },
    {
     "name": "stdout",
     "output_type": "stream",
     "text": [
      "index_parallel='0268'\n"
     ]
    },
    {
     "name": "stderr",
     "output_type": "stream",
     "text": [
      "\u001b[32m[I 2022-08-16 10:17:20,020]\u001b[0m Trial 268 finished with value: 6649.30985915493 and parameters: {'kErase': 1, 'kRadius': 2, 'kAnnealingA': 0.6505666103525596, 'kAnnealingB': 2.2868187874531793, 'kAnnealingStart': 40.93950397220309, 'kSkipRatio': 0.5190408472067602, 'kTargetDeterminationTrials': 9, 'kAttractionRatio': 0.40918165285627184, 'kMaxAttractionDistance': 77, 'kStartAttraction': 0.0014148899603910767}. Best is trial 261 with value: 6711.023474178403.\u001b[0m\n"
     ]
    },
    {
     "name": "stdout",
     "output_type": "stream",
     "text": [
      "index_parallel='0270'\n"
     ]
    },
    {
     "name": "stderr",
     "output_type": "stream",
     "text": [
      "\u001b[32m[I 2022-08-16 10:21:21,039]\u001b[0m Trial 270 finished with value: 6665.1220657277 and parameters: {'kErase': 1, 'kRadius': 2, 'kAnnealingA': 0.05491405536218741, 'kAnnealingB': 1.7063348162352834, 'kAnnealingStart': 59.074287426965014, 'kSkipRatio': 0.5658068414505135, 'kTargetDeterminationTrials': 8, 'kAttractionRatio': 0.4465562159773956, 'kMaxAttractionDistance': 83, 'kStartAttraction': 0.0013373032649843478}. Best is trial 261 with value: 6711.023474178403.\u001b[0m\n"
     ]
    },
    {
     "name": "stdout",
     "output_type": "stream",
     "text": [
      "index_parallel='0272'\n"
     ]
    },
    {
     "name": "stderr",
     "output_type": "stream",
     "text": [
      "\u001b[32m[I 2022-08-16 10:25:22,406]\u001b[0m Trial 272 finished with value: 6504.154929577465 and parameters: {'kErase': 1, 'kRadius': 2, 'kAnnealingA': 0.6363528012158051, 'kAnnealingB': 2.63723247077173, 'kAnnealingStart': 37.135296266452166, 'kSkipRatio': 0.5578043968602199, 'kTargetDeterminationTrials': 6, 'kAttractionRatio': 0.03844796775549728, 'kMaxAttractionDistance': 89, 'kStartAttraction': 0.0011132427482142514}. Best is trial 261 with value: 6711.023474178403.\u001b[0m\n"
     ]
    },
    {
     "name": "stdout",
     "output_type": "stream",
     "text": [
      "index_parallel='0274'\n"
     ]
    },
    {
     "name": "stderr",
     "output_type": "stream",
     "text": [
      "\u001b[32m[I 2022-08-16 10:29:23,125]\u001b[0m Trial 274 finished with value: 6514.352112676056 and parameters: {'kErase': 1, 'kRadius': 2, 'kAnnealingA': -2.403585320196847, 'kAnnealingB': 1.6518454593515848, 'kAnnealingStart': 35.98912493263798, 'kSkipRatio': 0.57904906651646, 'kTargetDeterminationTrials': 5, 'kAttractionRatio': 0.14529419996983473, 'kMaxAttractionDistance': 69, 'kStartAttraction': 0.0024934389409720955}. Best is trial 261 with value: 6711.023474178403.\u001b[0m\n"
     ]
    },
    {
     "name": "stdout",
     "output_type": "stream",
     "text": [
      "index_parallel='0276'\n"
     ]
    },
    {
     "name": "stderr",
     "output_type": "stream",
     "text": [
      "\u001b[32m[I 2022-08-16 10:33:24,375]\u001b[0m Trial 276 finished with value: 6647.577464788732 and parameters: {'kErase': 1, 'kRadius': 2, 'kAnnealingA': -0.5940697114779172, 'kAnnealingB': 1.778827875925629, 'kAnnealingStart': 40.37854619302641, 'kSkipRatio': 0.549328748040997, 'kTargetDeterminationTrials': 8, 'kAttractionRatio': 0.5377116375639817, 'kMaxAttractionDistance': 64, 'kStartAttraction': 0.031224289355861454}. Best is trial 261 with value: 6711.023474178403.\u001b[0m\n"
     ]
    },
    {
     "name": "stdout",
     "output_type": "stream",
     "text": [
      "index_parallel='0278'\n"
     ]
    },
    {
     "name": "stderr",
     "output_type": "stream",
     "text": [
      "\u001b[32m[I 2022-08-16 10:37:25,485]\u001b[0m Trial 278 finished with value: 6636.967136150235 and parameters: {'kErase': 1, 'kRadius': 2, 'kAnnealingA': 0.953286615449364, 'kAnnealingB': 2.441321419828636, 'kAnnealingStart': 34.97235504277143, 'kSkipRatio': 0.5393100232993472, 'kTargetDeterminationTrials': 9, 'kAttractionRatio': 0.47029862098173275, 'kMaxAttractionDistance': 72, 'kStartAttraction': 0.029962030289443928}. Best is trial 261 with value: 6711.023474178403.\u001b[0m\n"
     ]
    },
    {
     "name": "stdout",
     "output_type": "stream",
     "text": [
      "index_parallel='0280'\n"
     ]
    },
    {
     "name": "stderr",
     "output_type": "stream",
     "text": [
      "\u001b[32m[I 2022-08-16 10:41:26,606]\u001b[0m Trial 280 finished with value: 6647.976525821597 and parameters: {'kErase': 1, 'kRadius': 2, 'kAnnealingA': 0.40147957145500435, 'kAnnealingB': 1.5956616515295479, 'kAnnealingStart': 47.103458482052375, 'kSkipRatio': 0.573275183812923, 'kTargetDeterminationTrials': 10, 'kAttractionRatio': 0.60471911051355, 'kMaxAttractionDistance': 60, 'kStartAttraction': 0.025508053718421048}. Best is trial 261 with value: 6711.023474178403.\u001b[0m\n"
     ]
    },
    {
     "name": "stdout",
     "output_type": "stream",
     "text": [
      "index_parallel='0282'\n"
     ]
    },
    {
     "name": "stderr",
     "output_type": "stream",
     "text": [
      "\u001b[32m[I 2022-08-16 10:45:27,537]\u001b[0m Trial 282 finished with value: 6493.31455399061 and parameters: {'kErase': 1, 'kRadius': 2, 'kAnnealingA': 1.610934111908919, 'kAnnealingB': 1.6937676531994337, 'kAnnealingStart': 65.83296395561166, 'kSkipRatio': 0.47921737785130275, 'kTargetDeterminationTrials': 8, 'kAttractionRatio': 0.5398190102634043, 'kMaxAttractionDistance': 67, 'kStartAttraction': 0.0014646125883350284}. Best is trial 261 with value: 6711.023474178403.\u001b[0m\n"
     ]
    },
    {
     "name": "stdout",
     "output_type": "stream",
     "text": [
      "index_parallel='0284'\n"
     ]
    },
    {
     "name": "stderr",
     "output_type": "stream",
     "text": [
      "\u001b[32m[I 2022-08-16 10:49:28,981]\u001b[0m Trial 284 finished with value: 6610.483568075118 and parameters: {'kErase': 1, 'kRadius': 2, 'kAnnealingA': -2.1454179020232496, 'kAnnealingB': 1.6396029625645006, 'kAnnealingStart': 38.49284492101612, 'kSkipRatio': 0.5553031275860182, 'kTargetDeterminationTrials': 7, 'kAttractionRatio': 0.4855121789408426, 'kMaxAttractionDistance': 83, 'kStartAttraction': 0.0010066746743813252}. Best is trial 261 with value: 6711.023474178403.\u001b[0m\n"
     ]
    },
    {
     "name": "stdout",
     "output_type": "stream",
     "text": [
      "index_parallel='0286'\n"
     ]
    },
    {
     "name": "stderr",
     "output_type": "stream",
     "text": [
      "\u001b[32m[I 2022-08-16 10:53:30,202]\u001b[0m Trial 286 finished with value: 6649.12676056338 and parameters: {'kErase': 1, 'kRadius': 2, 'kAnnealingA': -1.1434568458181578, 'kAnnealingB': 1.810433867087036, 'kAnnealingStart': 53.25058079481856, 'kSkipRatio': 0.5715772064927693, 'kTargetDeterminationTrials': 9, 'kAttractionRatio': 0.6279378248170957, 'kMaxAttractionDistance': 94, 'kStartAttraction': 0.00144216344574803}. Best is trial 261 with value: 6711.023474178403.\u001b[0m\n"
     ]
    },
    {
     "name": "stdout",
     "output_type": "stream",
     "text": [
      "index_parallel='0288'\n"
     ]
    },
    {
     "name": "stderr",
     "output_type": "stream",
     "text": [
      "\u001b[32m[I 2022-08-16 10:57:31,282]\u001b[0m Trial 288 finished with value: 6645.68544600939 and parameters: {'kErase': 1, 'kRadius': 2, 'kAnnealingA': 0.9901960213939536, 'kAnnealingB': 1.5163819087304562, 'kAnnealingStart': 33.08669393940622, 'kSkipRatio': 0.580077376345342, 'kTargetDeterminationTrials': 8, 'kAttractionRatio': 0.4207978205588186, 'kMaxAttractionDistance': 56, 'kStartAttraction': 0.016196067164712856}. Best is trial 261 with value: 6711.023474178403.\u001b[0m\n"
     ]
    },
    {
     "name": "stdout",
     "output_type": "stream",
     "text": [
      "index_parallel='0290'\n"
     ]
    },
    {
     "name": "stderr",
     "output_type": "stream",
     "text": [
      "\u001b[32m[I 2022-08-16 11:01:32,183]\u001b[0m Trial 290 finished with value: 6393.633802816901 and parameters: {'kErase': 1, 'kRadius': 2, 'kAnnealingA': -6.973551839830192, 'kAnnealingB': 1.4988409904025226, 'kAnnealingStart': 36.41465124566409, 'kSkipRatio': 0.567015171259031, 'kTargetDeterminationTrials': 10, 'kAttractionRatio': 0.3691507212280404, 'kMaxAttractionDistance': 91, 'kStartAttraction': 0.00120268733741708}. Best is trial 261 with value: 6711.023474178403.\u001b[0m\n"
     ]
    },
    {
     "name": "stdout",
     "output_type": "stream",
     "text": [
      "index_parallel='0292'\n"
     ]
    },
    {
     "name": "stderr",
     "output_type": "stream",
     "text": [
      "\u001b[32m[I 2022-08-16 11:05:33,164]\u001b[0m Trial 292 finished with value: 6630.830985915493 and parameters: {'kErase': 1, 'kRadius': 2, 'kAnnealingA': -0.2181435740736108, 'kAnnealingB': 1.5751671839919925, 'kAnnealingStart': 44.50503659755224, 'kSkipRatio': 0.5838420513198195, 'kTargetDeterminationTrials': 9, 'kAttractionRatio': 0.44731824437607554, 'kMaxAttractionDistance': 86, 'kStartAttraction': 0.0013443467565862036}. Best is trial 261 with value: 6711.023474178403.\u001b[0m\n"
     ]
    },
    {
     "name": "stdout",
     "output_type": "stream",
     "text": [
      "index_parallel='0294'\n"
     ]
    },
    {
     "name": "stderr",
     "output_type": "stream",
     "text": [
      "\u001b[32m[I 2022-08-16 11:09:34,536]\u001b[0m Trial 294 finished with value: 6537.417840375587 and parameters: {'kErase': 2, 'kRadius': 2, 'kAnnealingA': 2.9041370580672035, 'kAnnealingB': 1.7320998561081284, 'kAnnealingStart': 52.183780022471915, 'kSkipRatio': 0.5499441664641737, 'kTargetDeterminationTrials': 9, 'kAttractionRatio': 0.5347749381457086, 'kMaxAttractionDistance': 76, 'kStartAttraction': 0.0019460063753705121}. Best is trial 261 with value: 6711.023474178403.\u001b[0m\n"
     ]
    },
    {
     "name": "stdout",
     "output_type": "stream",
     "text": [
      "index_parallel='0296'\n"
     ]
    },
    {
     "name": "stderr",
     "output_type": "stream",
     "text": [
      "\u001b[32m[I 2022-08-16 11:13:36,219]\u001b[0m Trial 296 finished with value: 6706.230046948357 and parameters: {'kErase': 1, 'kRadius': 2, 'kAnnealingA': 2.0826001669551815, 'kAnnealingB': 1.7680532637965816, 'kAnnealingStart': 32.38539337755491, 'kSkipRatio': 0.5279578643873601, 'kTargetDeterminationTrials': 7, 'kAttractionRatio': 0.4092265725434328, 'kMaxAttractionDistance': 83, 'kStartAttraction': 0.0017991462255938747}. Best is trial 261 with value: 6711.023474178403.\u001b[0m\n"
     ]
    },
    {
     "name": "stdout",
     "output_type": "stream",
     "text": [
      "index_parallel='0298'\n"
     ]
    },
    {
     "name": "stderr",
     "output_type": "stream",
     "text": [
      "\u001b[32m[I 2022-08-16 11:17:37,422]\u001b[0m Trial 298 finished with value: 6637.2018779342725 and parameters: {'kErase': 1, 'kRadius': 2, 'kAnnealingA': 1.7617313031334862, 'kAnnealingB': 1.8069544854990252, 'kAnnealingStart': 31.800166122622773, 'kSkipRatio': 0.5034098549932402, 'kTargetDeterminationTrials': 11, 'kAttractionRatio': 0.7630788088797403, 'kMaxAttractionDistance': 94, 'kStartAttraction': 0.0022770454548332}. Best is trial 261 with value: 6711.023474178403.\u001b[0m\n"
     ]
    },
    {
     "name": "stdout",
     "output_type": "stream",
     "text": [
      "index_parallel='0300'\n"
     ]
    },
    {
     "name": "stderr",
     "output_type": "stream",
     "text": [
      "\u001b[32m[I 2022-08-16 11:21:38,333]\u001b[0m Trial 300 finished with value: 6645.99530516432 and parameters: {'kErase': 1, 'kRadius': 2, 'kAnnealingA': 2.283541258453193, 'kAnnealingB': 1.6760817103716987, 'kAnnealingStart': 40.92202209472681, 'kSkipRatio': 0.5150925356398969, 'kTargetDeterminationTrials': 8, 'kAttractionRatio': 0.4072170906520056, 'kMaxAttractionDistance': 83, 'kStartAttraction': 0.001706927374922107}. Best is trial 261 with value: 6711.023474178403.\u001b[0m\n"
     ]
    },
    {
     "name": "stdout",
     "output_type": "stream",
     "text": [
      "index_parallel='0302'\n"
     ]
    },
    {
     "name": "stderr",
     "output_type": "stream",
     "text": [
      "\u001b[32m[I 2022-08-16 11:25:39,416]\u001b[0m Trial 302 finished with value: 6631.920187793427 and parameters: {'kErase': 1, 'kRadius': 2, 'kAnnealingA': 0.9730506078304764, 'kAnnealingB': 1.7626813337272755, 'kAnnealingStart': 50.127015294337546, 'kSkipRatio': 0.5317576591800693, 'kTargetDeterminationTrials': 8, 'kAttractionRatio': 0.38062695532277896, 'kMaxAttractionDistance': 79, 'kStartAttraction': 0.001703353977010162}. Best is trial 261 with value: 6711.023474178403.\u001b[0m\n"
     ]
    },
    {
     "name": "stdout",
     "output_type": "stream",
     "text": [
      "index_parallel='0304'\n"
     ]
    },
    {
     "name": "stderr",
     "output_type": "stream",
     "text": [
      "\u001b[32m[I 2022-08-16 11:29:40,622]\u001b[0m Trial 304 finished with value: 6620.591549295775 and parameters: {'kErase': 1, 'kRadius': 2, 'kAnnealingA': 0.32153685625851103, 'kAnnealingB': 1.4872659204224519, 'kAnnealingStart': 46.346657715178694, 'kSkipRatio': 0.530370665117449, 'kTargetDeterminationTrials': 9, 'kAttractionRatio': 0.48921700562095294, 'kMaxAttractionDistance': 88, 'kStartAttraction': 0.053593613652264845}. Best is trial 261 with value: 6711.023474178403.\u001b[0m\n"
     ]
    },
    {
     "name": "stdout",
     "output_type": "stream",
     "text": [
      "index_parallel='0306'\n"
     ]
    },
    {
     "name": "stderr",
     "output_type": "stream",
     "text": [
      "\u001b[32m[I 2022-08-16 11:33:42,129]\u001b[0m Trial 306 finished with value: 6674.530516431925 and parameters: {'kErase': 1, 'kRadius': 2, 'kAnnealingA': 1.3770939477937172, 'kAnnealingB': 1.5415496564580253, 'kAnnealingStart': 37.853860340923084, 'kSkipRatio': 0.4693276294841496, 'kTargetDeterminationTrials': 7, 'kAttractionRatio': 0.6614791205422405, 'kMaxAttractionDistance': 69, 'kStartAttraction': 0.0015503629276719074}. Best is trial 261 with value: 6711.023474178403.\u001b[0m\n"
     ]
    },
    {
     "name": "stdout",
     "output_type": "stream",
     "text": [
      "index_parallel='0308'\n"
     ]
    },
    {
     "name": "stderr",
     "output_type": "stream",
     "text": [
      "\u001b[32m[I 2022-08-16 11:37:43,412]\u001b[0m Trial 308 finished with value: 6635.704225352113 and parameters: {'kErase': 1, 'kRadius': 2, 'kAnnealingA': 2.813306959016269, 'kAnnealingB': 1.558901930224867, 'kAnnealingStart': 37.75064533606032, 'kSkipRatio': 0.5055625286723597, 'kTargetDeterminationTrials': 7, 'kAttractionRatio': 0.6834074414552018, 'kMaxAttractionDistance': 71, 'kStartAttraction': 0.0011347452229508097}. Best is trial 261 with value: 6711.023474178403.\u001b[0m\n"
     ]
    },
    {
     "name": "stdout",
     "output_type": "stream",
     "text": [
      "index_parallel='0310'\n"
     ]
    },
    {
     "name": "stderr",
     "output_type": "stream",
     "text": [
      "\u001b[32m[I 2022-08-16 11:41:44,654]\u001b[0m Trial 310 finished with value: 6639.023474178403 and parameters: {'kErase': 1, 'kRadius': 2, 'kAnnealingA': 2.0729920437449665, 'kAnnealingB': 1.8506174226434493, 'kAnnealingStart': 31.499456067829197, 'kSkipRatio': 0.47968736650582755, 'kTargetDeterminationTrials': 7, 'kAttractionRatio': 0.3436294346127003, 'kMaxAttractionDistance': 62, 'kStartAttraction': 0.0021859204560424647}. Best is trial 261 with value: 6711.023474178403.\u001b[0m\n"
     ]
    },
    {
     "name": "stdout",
     "output_type": "stream",
     "text": [
      "index_parallel='0312'\n"
     ]
    }
   ],
   "source": [
    "study.optimize(\n",
    "    partial(objective, in_dir=in_dir, work_dir=work_dir),\n",
    "    n_trials=3000,\n",
    "    timeout=86400,\n",
    "    callbacks=[callback]\n",
    ")"
   ]
  },
  {
   "cell_type": "code",
   "execution_count": null,
   "id": "700269d2",
   "metadata": {},
   "outputs": [],
   "source": []
  }
 ],
 "metadata": {
  "kernelspec": {
   "display_name": "Python 3 (ipykernel)",
   "language": "python",
   "name": "python3"
  },
  "language_info": {
   "codemirror_mode": {
    "name": "ipython",
    "version": 3
   },
   "file_extension": ".py",
   "mimetype": "text/x-python",
   "name": "python",
   "nbconvert_exporter": "python",
   "pygments_lexer": "ipython3",
   "version": "3.9.12"
  }
 },
 "nbformat": 4,
 "nbformat_minor": 5
}
