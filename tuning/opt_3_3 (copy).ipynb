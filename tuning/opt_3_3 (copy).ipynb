{
 "cells": [
  {
   "cell_type": "code",
   "execution_count": 1,
   "id": "25a1dac8",
   "metadata": {},
   "outputs": [],
   "source": [
    "import re\n",
    "import sys\n",
    "from uuid import uuid1\n",
    "from time import sleep\n",
    "from pprint import pprint\n",
    "from pathlib import Path\n",
    "from tempfile import gettempdir\n",
    "from threading import Thread\n",
    "from functools import partial\n",
    "from subprocess import Popen, PIPE\n",
    "\n",
    "from tqdm.notebook import tqdm\n",
    "import numpy as np\n",
    "import optuna\n",
    "import pandas as pd\n",
    "import matplotlib.pyplot as plt\n",
    "\n",
    "FILENAME = \"main.cpp\""
   ]
  },
  {
   "cell_type": "code",
   "execution_count": 2,
   "id": "3dd4d02e",
   "metadata": {},
   "outputs": [
    {
     "name": "stdout",
     "output_type": "stream",
     "text": [
      "10 variables were found.\n"
     ]
    },
    {
     "data": {
      "text/html": [
       "<div>\n",
       "<style scoped>\n",
       "    .dataframe tbody tr th:only-of-type {\n",
       "        vertical-align: middle;\n",
       "    }\n",
       "\n",
       "    .dataframe tbody tr th {\n",
       "        vertical-align: top;\n",
       "    }\n",
       "\n",
       "    .dataframe thead th {\n",
       "        text-align: right;\n",
       "    }\n",
       "</style>\n",
       "<table border=\"1\" class=\"dataframe\">\n",
       "  <thead>\n",
       "    <tr style=\"text-align: right;\">\n",
       "      <th></th>\n",
       "      <th>name</th>\n",
       "      <th>method</th>\n",
       "      <th>min</th>\n",
       "      <th>max</th>\n",
       "      <th>log</th>\n",
       "      <th>left</th>\n",
       "      <th>right</th>\n",
       "    </tr>\n",
       "  </thead>\n",
       "  <tbody>\n",
       "    <tr>\n",
       "      <th>0</th>\n",
       "      <td>kErase</td>\n",
       "      <td>suggest_int</td>\n",
       "      <td>1.000</td>\n",
       "      <td>5.0</td>\n",
       "      <td>False</td>\n",
       "      <td>static constexpr auto kErase =</td>\n",
       "      <td>;             // OPTIMIZE [1, 5]</td>\n",
       "    </tr>\n",
       "    <tr>\n",
       "      <th>1</th>\n",
       "      <td>kRadius</td>\n",
       "      <td>suggest_int</td>\n",
       "      <td>2.000</td>\n",
       "      <td>6.0</td>\n",
       "      <td>False</td>\n",
       "      <td>static constexpr auto kRadius =</td>\n",
       "      <td>;            // OPTIMIZE [2, 6]</td>\n",
       "    </tr>\n",
       "    <tr>\n",
       "      <th>2</th>\n",
       "      <td>kAnnealingA</td>\n",
       "      <td>suggest_float</td>\n",
       "      <td>-15.000</td>\n",
       "      <td>15.0</td>\n",
       "      <td>False</td>\n",
       "      <td>static constexpr auto kAnnealingA =</td>\n",
       "      <td>;      // OPTIMIZE [-15.0, 15.0]</td>\n",
       "    </tr>\n",
       "    <tr>\n",
       "      <th>3</th>\n",
       "      <td>kAnnealingB</td>\n",
       "      <td>suggest_float</td>\n",
       "      <td>0.000</td>\n",
       "      <td>3.0</td>\n",
       "      <td>False</td>\n",
       "      <td>static constexpr auto kAnnealingB =</td>\n",
       "      <td>;      // OPTIMIZE [0.0, 3.0]</td>\n",
       "    </tr>\n",
       "    <tr>\n",
       "      <th>4</th>\n",
       "      <td>kAnnealingStart</td>\n",
       "      <td>suggest_float</td>\n",
       "      <td>1.000</td>\n",
       "      <td>100.0</td>\n",
       "      <td>True</td>\n",
       "      <td>static constexpr auto kAnnealingStart =</td>\n",
       "      <td>; // OPTIMIZE LOG [1.0, 100.0]</td>\n",
       "    </tr>\n",
       "    <tr>\n",
       "      <th>5</th>\n",
       "      <td>kSkipRatio</td>\n",
       "      <td>suggest_float</td>\n",
       "      <td>0.200</td>\n",
       "      <td>0.8</td>\n",
       "      <td>False</td>\n",
       "      <td>static constexpr auto kSkipRatio =</td>\n",
       "      <td>;       // OPTIMIZE [0.2, 0.8]</td>\n",
       "    </tr>\n",
       "    <tr>\n",
       "      <th>6</th>\n",
       "      <td>kTargetDeterminationTrials</td>\n",
       "      <td>suggest_int</td>\n",
       "      <td>1.000</td>\n",
       "      <td>20.0</td>\n",
       "      <td>True</td>\n",
       "      <td>static constexpr auto kTargetDeterminationTria...</td>\n",
       "      <td>; // OPTIMIZE LOG [1, 20]</td>\n",
       "    </tr>\n",
       "    <tr>\n",
       "      <th>7</th>\n",
       "      <td>kAttractionRatio</td>\n",
       "      <td>suggest_float</td>\n",
       "      <td>0.010</td>\n",
       "      <td>0.9</td>\n",
       "      <td>True</td>\n",
       "      <td>static constexpr auto kAttractionRatio =</td>\n",
       "      <td>;      // OPTIMIZE LOG [0.01, 0.9]</td>\n",
       "    </tr>\n",
       "    <tr>\n",
       "      <th>8</th>\n",
       "      <td>kMaxAttractionDistance</td>\n",
       "      <td>suggest_int</td>\n",
       "      <td>4.000</td>\n",
       "      <td>99.0</td>\n",
       "      <td>True</td>\n",
       "      <td>static constexpr auto kMaxAttractionDistance =</td>\n",
       "      <td>; // OPTIMIZE LOG [4, 99]</td>\n",
       "    </tr>\n",
       "    <tr>\n",
       "      <th>9</th>\n",
       "      <td>kStartAttraction</td>\n",
       "      <td>suggest_float</td>\n",
       "      <td>0.001</td>\n",
       "      <td>0.9</td>\n",
       "      <td>True</td>\n",
       "      <td>static constexpr auto kStartAttraction =</td>\n",
       "      <td>;     // OPTIMIZE LOG [0.001, 0.9]</td>\n",
       "    </tr>\n",
       "  </tbody>\n",
       "</table>\n",
       "</div>"
      ],
      "text/plain": [
       "                         name         method     min    max    log  \\\n",
       "0                      kErase    suggest_int   1.000    5.0  False   \n",
       "1                     kRadius    suggest_int   2.000    6.0  False   \n",
       "2                 kAnnealingA  suggest_float -15.000   15.0  False   \n",
       "3                 kAnnealingB  suggest_float   0.000    3.0  False   \n",
       "4             kAnnealingStart  suggest_float   1.000  100.0   True   \n",
       "5                  kSkipRatio  suggest_float   0.200    0.8  False   \n",
       "6  kTargetDeterminationTrials    suggest_int   1.000   20.0   True   \n",
       "7            kAttractionRatio  suggest_float   0.010    0.9   True   \n",
       "8      kMaxAttractionDistance    suggest_int   4.000   99.0   True   \n",
       "9            kStartAttraction  suggest_float   0.001    0.9   True   \n",
       "\n",
       "                                                left  \\\n",
       "0                    static constexpr auto kErase =    \n",
       "1                   static constexpr auto kRadius =    \n",
       "2               static constexpr auto kAnnealingA =    \n",
       "3               static constexpr auto kAnnealingB =    \n",
       "4           static constexpr auto kAnnealingStart =    \n",
       "5                static constexpr auto kSkipRatio =    \n",
       "6  static constexpr auto kTargetDeterminationTria...   \n",
       "7          static constexpr auto kAttractionRatio =    \n",
       "8    static constexpr auto kMaxAttractionDistance =    \n",
       "9          static constexpr auto kStartAttraction =    \n",
       "\n",
       "                                right  \n",
       "0    ;             // OPTIMIZE [1, 5]  \n",
       "1     ;            // OPTIMIZE [2, 6]  \n",
       "2    ;      // OPTIMIZE [-15.0, 15.0]  \n",
       "3       ;      // OPTIMIZE [0.0, 3.0]  \n",
       "4      ; // OPTIMIZE LOG [1.0, 100.0]  \n",
       "5      ;       // OPTIMIZE [0.2, 0.8]  \n",
       "6           ; // OPTIMIZE LOG [1, 20]  \n",
       "7  ;      // OPTIMIZE LOG [0.01, 0.9]  \n",
       "8           ; // OPTIMIZE LOG [4, 99]  \n",
       "9  ;     // OPTIMIZE LOG [0.001, 0.9]  "
      ]
     },
     "metadata": {},
     "output_type": "display_data"
    }
   ],
   "source": [
    "# ここでエラー出力は何かおかしいかもしれない\n",
    "\n",
    "\n",
    "# パラメータ抽出\n",
    "with open(FILENAME) as f:\n",
    "    answer = f.read()\n",
    "\n",
    "\n",
    "variables_optimize = []\n",
    "\n",
    "for left, value, right, options in re.findall(r\"^([^/\\n]*=\\s*)(.+?)(\\s*;\\s*//(?:.*\\W)?OPTIMIZE(\\W.*))$\", answer, re.MULTILINE):\n",
    "    name = left.replace(\"=\", \"\").strip().split()[-1]\n",
    "    \n",
    "    searched = re.search(r\".*\\[(?P<min>.*),(?P<max>.*)\\].*\", options)\n",
    "    if searched:\n",
    "        min_value = max_value = None\n",
    "        try:\n",
    "            min_value = eval(searched.group(\"min\"))\n",
    "            max_value = eval(searched.group(\"max\"))\n",
    "            assert min_value <= max_value\n",
    "        except Exception as e:\n",
    "            print(f\"searched={searched}\", file=sys.stderr)\n",
    "            print(e, file=sys.stderr)\n",
    "            continue\n",
    "        log = \"LOG\" in options  # 雑、直したほうが良い\n",
    "        if type(min_value) != type(max_value):\n",
    "            print(f\"searched={searched}\", file=sys.stderr)\n",
    "            print(\"types not matched\", file=sys.stderr)\n",
    "            continue\n",
    "        if isinstance(min_value, int):\n",
    "            method = \"suggest_int\"\n",
    "        elif isinstance(min_value, float):\n",
    "            method = \"suggest_float\"\n",
    "        else:\n",
    "            print(f\"searched={searched}\", file=sys.stderr)\n",
    "            print(f\"unknown type ({type(min_value)})\", file=sys.stderr)\n",
    "            continue\n",
    "        variables_optimize.append({\n",
    "            \"name\": name,\n",
    "            \"method\": method,\n",
    "            \"min\": min_value,\n",
    "            \"max\": max_value,\n",
    "            \"log\": log,\n",
    "            \"left\": left,\n",
    "            \"right\": right,\n",
    "        })\n",
    "    elif searched := re.search(r\".*\\{(?P<choices>.*?)\\}.*\", options):\n",
    "        choices = list(map(lambda x: x.strip(), searched.group(\"choices\").split(\",\")))\n",
    "        variables_optimize.append({\n",
    "            \"name\": name,\n",
    "            \"method\": \"suggest_categorical\",\n",
    "            \"choices\": choices,\n",
    "            \"left\": left,\n",
    "            \"right\": right,\n",
    "        })\n",
    "    else:\n",
    "        print(f\"searched={searched}\", file=sys.stderr)\n",
    "        print(f\"pattern was matched but options are incorrect.\", file=sys.stderr)\n",
    "\n",
    "print(len(variables_optimize), \"variables were found.\")\n",
    "if globals().get(\"pd\"):\n",
    "    display(pd.DataFrame(variables_optimize))\n",
    "else:\n",
    "    pprint(variables_optimize)"
   ]
  },
  {
   "cell_type": "code",
   "execution_count": 3,
   "id": "001042b9",
   "metadata": {},
   "outputs": [],
   "source": [
    "def escape(string):  # 正規表現の中でそのまま使いたい文字列をエスケープ\n",
    "    res = !echo '{string}' | sed -e 's/[]\\/$*.^[]/\\\\&/g'\n",
    "    return res[0]\n",
    "\n",
    "def escape_sed(string):  # sed の置換後の文字列用のエスケープ\n",
    "    res = !echo '{string}' | sed -e 's/[\\/&]/\\\\&/g'\n",
    "    return res[0]\n",
    "\n",
    "def read_stream(name, in_file, out_file):\n",
    "    for line in in_file:\n",
    "        print(f\"[{name}] {line.strip()}\", file=out_file)\n",
    "\n",
    "def run(cmd, name):\n",
    "    proc = Popen(cmd, stdout=PIPE, stderr=PIPE, universal_newlines=True, shell=isinstance(cmd, str))\n",
    "    stdout_thread = Thread(target=read_stream, args=(name, proc.stdout, sys.stdout))\n",
    "    stderr_thread = Thread(target=read_stream, args=(name, proc.stderr, sys.stderr))\n",
    "    stdout_thread.start()\n",
    "    stderr_thread.start()\n",
    "    proc.wait()\n",
    "    return proc\n",
    "\n",
    "def objective(trial, in_dir, work_dir):\n",
    "    n_internal_parallel = 3\n",
    "    \n",
    "    index_parallel = f\"{trial.number:04d}\"\n",
    "    print(f\"{index_parallel=}\")\n",
    "    \n",
    "    work_dir = Path(work_dir)\n",
    "    directory_input = Path(in_dir)  # 中のすべてのファイルに対して実行される\n",
    "    #parameters_changed_filename = Path(gettempdir()) / str(uuid1())\n",
    "    parameters_changed_filename = work_dir / f\"{index_parallel}_{FILENAME}\"\n",
    "    \n",
    "    run([\"mkdir\", f\"{work_dir / index_parallel}_out\"], \"mkdir\")\n",
    "    run([\"mkdir\", f\"{work_dir / index_parallel}_score\"], \"mkdir\")\n",
    "    \n",
    "    # ファイル作成\n",
    "    run(f\"cp {FILENAME} {parameters_changed_filename}\", \"cp\")\n",
    "    sed_options = [f\"-i {parameters_changed_filename}\"]\n",
    "    for variable in variables_optimize:\n",
    "        if variable[\"method\"] == \"suggest_categorical\":\n",
    "            val =  trial.suggest_categorical(variable[\"name\"], variable[\"choices\"])\n",
    "        else:\n",
    "            val = getattr(trial, variable[\"method\"])(variable[\"name\"], variable[\"min\"], variable[\"max\"], log=variable[\"log\"])\n",
    "        left = variable[\"left\"]\n",
    "        right = variable[\"right\"]\n",
    "        sed_options.append(f\"\"\"-e 's/^{escape(left)}.*{escape(right)}$/{escape_sed(left)}{val}{escape_sed(right)}/'\"\"\")\n",
    "    command_sed = f\"sed {' '.join(sed_options)}\"\n",
    "    #print(command_sed)\n",
    "    run(command_sed, \"sed\")\n",
    "    \n",
    "    # コンパイル\n",
    "    command_compile = f\"g++ {parameters_changed_filename} -std=gnu++17 -O2 -DONLINE_JUDGE -o {parameters_changed_filename}.out\"\n",
    "    #print(command_compile)\n",
    "    run(command_compile, \"compile\")\n",
    "    # 実行・採点コマンド (@ はファイル名)\n",
    "    command_exec = (\n",
    "        #f\"./a.out < ./tools/in/{i:04d}.txt > {out_file} && ./tools/target/release/vis ./tools/in/{i:04d}.txt {out_file}\"\n",
    "        #f\"../tools/target/release/tester $(pwd)/{parameters_changed_filename}.out < {directory_input}/@ 2>&1 | grep Score\"\n",
    "        #f\"../tools/target/release/tester $(pwd)/{parameters_changed_filename}.out < {directory_input}/@ 2>&1 | grep Score | sed -E s/[^0-9]+// > ./{index_parallel}_score/@;\"\n",
    "        #f\"cargo run --release --manifest-path ../tools/Cargo.toml --bin tester {directory_input}/@ $(pwd)/{parameters_changed_filename}.out 2>&1 | grep Score | sed -E s/[^0-9]+// > ./{index_parallel}_score/@;\"\n",
    "        f\"./{parameters_changed_filename}.out < {directory_input}/@ > {work_dir / index_parallel}_out/@;\"\n",
    "        f\"../tools/target/release/vis {directory_input}/@ {work_dir / index_parallel}_out/@ 2> /dev/null > {work_dir / index_parallel}_score/@;\"\n",
    "    )\n",
    "    # 並列実行 (sed はパスのディレクトリ部分を消してファイル名にしてる)\n",
    "    run(f\"find {directory_input}/* | sed 's!^.*/!!' | xargs -I@ -P {n_internal_parallel} sh -c '{command_exec}'\", \"exec\")\n",
    "    \n",
    "    # 集計\n",
    "    scores = []\n",
    "    for file_path in Path(f\"{work_dir / index_parallel}_score/\").iterdir():  \n",
    "        with open(file_path) as f:\n",
    "            scores.append(int(f.readline().strip().split()[-1]))\n",
    "    mean_score = sum(scores) / len(scores)\n",
    "    \n",
    "    # 後始末\n",
    "    run(f\"rm -rf {work_dir / index_parallel}_out\", \"rm\")\n",
    "    run(f\"rm -rf {work_dir / index_parallel}_score\", \"rm\")\n",
    "    #run(f\"rm {parameters_changed_filename}\", \"rm\")\n",
    "    run(f\"rm {parameters_changed_filename}.out\", \"rm\")\n",
    "    \n",
    "    return mean_score"
   ]
  },
  {
   "cell_type": "code",
   "execution_count": 4,
   "id": "2d2e133c",
   "metadata": {},
   "outputs": [
    {
     "name": "stderr",
     "output_type": "stream",
     "text": [
      "\u001b[32m[I 2022-08-16 05:03:53,788]\u001b[0m Using an existing study with name 'study_3_3' instead of creating a new one.\u001b[0m\n"
     ]
    }
   ],
   "source": [
    "K = 3\n",
    "N_CLASS = 3\n",
    "\n",
    "in_dir = Path(f\"in_{K}_{N_CLASS}\")\n",
    "work_dir = Path(f\"work_{K}_{N_CLASS}\")\n",
    "\n",
    "study_name = f\"study_{K}_{N_CLASS}\"\n",
    "storage_path = work_dir / \"study.db\"\n",
    "storage = f\"sqlite:///{storage_path}\"\n",
    "study = optuna.create_study(storage=storage, load_if_exists=True, study_name=study_name, direction=\"maximize\")\n",
    "\n",
    "def callback(study, trial):\n",
    "    try:\n",
    "        index_parallel = f\"{trial.number:04d}\"\n",
    "        parameters_changed_filename = work_dir / f\"{index_parallel}_{FILENAME}\"\n",
    "        if study.best_value == trial.value:\n",
    "            print(f\"Updated! {study.best_value}\")\n",
    "            !cp {parameters_changed_filename} {work_dir / \"best_parameters.cpp\"}\n",
    "        !rm {parameters_changed_filename}\n",
    "    except:\n",
    "        print(\":(\")\n"
   ]
  },
  {
   "cell_type": "code",
   "execution_count": null,
   "id": "61c2901d",
   "metadata": {},
   "outputs": [
    {
     "name": "stdout",
     "output_type": "stream",
     "text": [
      "index_parallel='0192'\n"
     ]
    },
    {
     "name": "stderr",
     "output_type": "stream",
     "text": [
      "\u001b[32m[I 2022-08-16 08:11:55,522]\u001b[0m Trial 192 finished with value: 8164.233766233766 and parameters: {'kErase': 3, 'kRadius': 6, 'kAnnealingA': 13.721431475441573, 'kAnnealingB': 0.9216554043577437, 'kAnnealingStart': 12.515852188787502, 'kSkipRatio': 0.7806734107340336, 'kTargetDeterminationTrials': 7, 'kAttractionRatio': 0.4177089420132005, 'kMaxAttractionDistance': 11, 'kStartAttraction': 0.7933779714338033}. Best is trial 166 with value: 8252.636363636364.\u001b[0m\n"
     ]
    },
    {
     "name": "stdout",
     "output_type": "stream",
     "text": [
      "index_parallel='0194'\n"
     ]
    },
    {
     "name": "stderr",
     "output_type": "stream",
     "text": [
      "\u001b[32m[I 2022-08-16 08:16:16,968]\u001b[0m Trial 194 finished with value: 8130.606060606061 and parameters: {'kErase': 3, 'kRadius': 6, 'kAnnealingA': 12.998239203398484, 'kAnnealingB': 1.2234390145805962, 'kAnnealingStart': 14.713823510587048, 'kSkipRatio': 0.7753508412428399, 'kTargetDeterminationTrials': 8, 'kAttractionRatio': 0.5265392405238577, 'kMaxAttractionDistance': 14, 'kStartAttraction': 0.7054483047938513}. Best is trial 166 with value: 8252.636363636364.\u001b[0m\n"
     ]
    },
    {
     "name": "stdout",
     "output_type": "stream",
     "text": [
      "index_parallel='0196'\n"
     ]
    },
    {
     "name": "stderr",
     "output_type": "stream",
     "text": [
      "\u001b[32m[I 2022-08-16 08:20:38,191]\u001b[0m Trial 196 finished with value: 8172.636363636364 and parameters: {'kErase': 3, 'kRadius': 6, 'kAnnealingA': 10.813866041912057, 'kAnnealingB': 1.37497385512414, 'kAnnealingStart': 15.588510255917013, 'kSkipRatio': 0.7900806523413565, 'kTargetDeterminationTrials': 8, 'kAttractionRatio': 0.4769472745920431, 'kMaxAttractionDistance': 12, 'kStartAttraction': 0.8899757728772808}. Best is trial 166 with value: 8252.636363636364.\u001b[0m\n"
     ]
    },
    {
     "name": "stdout",
     "output_type": "stream",
     "text": [
      "index_parallel='0198'\n"
     ]
    },
    {
     "name": "stderr",
     "output_type": "stream",
     "text": [
      "\u001b[32m[I 2022-08-16 08:24:59,952]\u001b[0m Trial 198 finished with value: 8176.376623376624 and parameters: {'kErase': 3, 'kRadius': 6, 'kAnnealingA': 12.481498316754646, 'kAnnealingB': 1.1198739539282339, 'kAnnealingStart': 17.017820950635173, 'kSkipRatio': 0.7658242749270014, 'kTargetDeterminationTrials': 7, 'kAttractionRatio': 0.4615681829791878, 'kMaxAttractionDistance': 7, 'kStartAttraction': 0.896717697844359}. Best is trial 166 with value: 8252.636363636364.\u001b[0m\n"
     ]
    },
    {
     "name": "stdout",
     "output_type": "stream",
     "text": [
      "index_parallel='0200'\n"
     ]
    },
    {
     "name": "stderr",
     "output_type": "stream",
     "text": [
      "\u001b[32m[I 2022-08-16 08:29:22,644]\u001b[0m Trial 200 finished with value: 8140.56277056277 and parameters: {'kErase': 3, 'kRadius': 6, 'kAnnealingA': 11.70620012099181, 'kAnnealingB': 0.9826622694083348, 'kAnnealingStart': 13.970038149336172, 'kSkipRatio': 0.7996002136393678, 'kTargetDeterminationTrials': 6, 'kAttractionRatio': 0.38797544601159734, 'kMaxAttractionDistance': 6, 'kStartAttraction': 0.8022214766484603}. Best is trial 166 with value: 8252.636363636364.\u001b[0m\n"
     ]
    },
    {
     "name": "stdout",
     "output_type": "stream",
     "text": [
      "index_parallel='0202'\n"
     ]
    },
    {
     "name": "stderr",
     "output_type": "stream",
     "text": [
      "\u001b[32m[I 2022-08-16 08:33:44,330]\u001b[0m Trial 202 finished with value: 8123.212121212121 and parameters: {'kErase': 3, 'kRadius': 6, 'kAnnealingA': 8.345859667585565, 'kAnnealingB': 0.7813101324983447, 'kAnnealingStart': 10.092156772653725, 'kSkipRatio': 0.7841196022585317, 'kTargetDeterminationTrials': 7, 'kAttractionRatio': 0.5495543605812951, 'kMaxAttractionDistance': 9, 'kStartAttraction': 0.603921905083816}. Best is trial 166 with value: 8252.636363636364.\u001b[0m\n"
     ]
    },
    {
     "name": "stdout",
     "output_type": "stream",
     "text": [
      "index_parallel='0204'\n"
     ]
    },
    {
     "name": "stderr",
     "output_type": "stream",
     "text": [
      "\u001b[32m[I 2022-08-16 08:38:05,610]\u001b[0m Trial 204 finished with value: 8139.2164502164505 and parameters: {'kErase': 3, 'kRadius': 6, 'kAnnealingA': 11.681701161362133, 'kAnnealingB': 1.2639146016163716, 'kAnnealingStart': 15.604378646701402, 'kSkipRatio': 0.775326376806977, 'kTargetDeterminationTrials': 7, 'kAttractionRatio': 0.5152917553138741, 'kMaxAttractionDistance': 13, 'kStartAttraction': 0.7161044848983542}. Best is trial 166 with value: 8252.636363636364.\u001b[0m\n"
     ]
    },
    {
     "name": "stdout",
     "output_type": "stream",
     "text": [
      "index_parallel='0206'\n"
     ]
    },
    {
     "name": "stderr",
     "output_type": "stream",
     "text": [
      "\u001b[32m[I 2022-08-16 08:42:27,139]\u001b[0m Trial 206 finished with value: 8174.43722943723 and parameters: {'kErase': 3, 'kRadius': 6, 'kAnnealingA': 10.719861353487241, 'kAnnealingB': 1.2109691351277252, 'kAnnealingStart': 11.57454943599332, 'kSkipRatio': 0.7655047159900901, 'kTargetDeterminationTrials': 8, 'kAttractionRatio': 0.43185071435137495, 'kMaxAttractionDistance': 11, 'kStartAttraction': 0.7970796396761199}. Best is trial 166 with value: 8252.636363636364.\u001b[0m\n"
     ]
    },
    {
     "name": "stdout",
     "output_type": "stream",
     "text": [
      "index_parallel='0208'\n"
     ]
    },
    {
     "name": "stderr",
     "output_type": "stream",
     "text": [
      "\u001b[32m[I 2022-08-16 08:46:48,568]\u001b[0m Trial 208 finished with value: 8140.627705627706 and parameters: {'kErase': 3, 'kRadius': 6, 'kAnnealingA': 9.409670082919051, 'kAnnealingB': 1.4359567956505628, 'kAnnealingStart': 17.33055122482263, 'kSkipRatio': 0.7902730244836097, 'kTargetDeterminationTrials': 7, 'kAttractionRatio': 0.5674915814730961, 'kMaxAttractionDistance': 10, 'kStartAttraction': 0.7089692903854137}. Best is trial 166 with value: 8252.636363636364.\u001b[0m\n"
     ]
    },
    {
     "name": "stdout",
     "output_type": "stream",
     "text": [
      "index_parallel='0210'\n"
     ]
    },
    {
     "name": "stderr",
     "output_type": "stream",
     "text": [
      "\u001b[32m[I 2022-08-16 08:51:10,536]\u001b[0m Trial 210 finished with value: 8061.761904761905 and parameters: {'kErase': 3, 'kRadius': 6, 'kAnnealingA': 9.974189348224582, 'kAnnealingB': 0.8962757675238208, 'kAnnealingStart': 12.810004777908333, 'kSkipRatio': 0.7777838442164439, 'kTargetDeterminationTrials': 7, 'kAttractionRatio': 0.5025493953066998, 'kMaxAttractionDistance': 9, 'kStartAttraction': 0.5847786663597264}. Best is trial 166 with value: 8252.636363636364.\u001b[0m\n"
     ]
    },
    {
     "name": "stdout",
     "output_type": "stream",
     "text": [
      "index_parallel='0212'\n"
     ]
    },
    {
     "name": "stderr",
     "output_type": "stream",
     "text": [
      "\u001b[32m[I 2022-08-16 08:55:32,058]\u001b[0m Trial 212 finished with value: 8130.415584415585 and parameters: {'kErase': 3, 'kRadius': 6, 'kAnnealingA': 12.16477240189213, 'kAnnealingB': 0.7111423469678926, 'kAnnealingStart': 18.569430630967837, 'kSkipRatio': 0.7821334772696823, 'kTargetDeterminationTrials': 9, 'kAttractionRatio': 0.4721875522661052, 'kMaxAttractionDistance': 12, 'kStartAttraction': 0.8951233050268007}. Best is trial 166 with value: 8252.636363636364.\u001b[0m\n"
     ]
    },
    {
     "name": "stdout",
     "output_type": "stream",
     "text": [
      "index_parallel='0214'\n"
     ]
    },
    {
     "name": "stderr",
     "output_type": "stream",
     "text": [
      "\u001b[32m[I 2022-08-16 08:59:53,688]\u001b[0m Trial 214 finished with value: 8140.008658008658 and parameters: {'kErase': 3, 'kRadius': 6, 'kAnnealingA': 11.304622671999368, 'kAnnealingB': 1.0675886981399492, 'kAnnealingStart': 15.354876209938677, 'kSkipRatio': 0.7611199481666812, 'kTargetDeterminationTrials': 7, 'kAttractionRatio': 0.46471850752642613, 'kMaxAttractionDistance': 15, 'kStartAttraction': 0.7146220789854981}. Best is trial 166 with value: 8252.636363636364.\u001b[0m\n"
     ]
    },
    {
     "name": "stdout",
     "output_type": "stream",
     "text": [
      "index_parallel='0216'\n"
     ]
    },
    {
     "name": "stderr",
     "output_type": "stream",
     "text": [
      "\u001b[32m[I 2022-08-16 09:04:15,185]\u001b[0m Trial 216 finished with value: 8153.030303030303 and parameters: {'kErase': 3, 'kRadius': 6, 'kAnnealingA': 12.089108583151974, 'kAnnealingB': 0.9971073966890112, 'kAnnealingStart': 14.086892013888232, 'kSkipRatio': 0.7896843240327, 'kTargetDeterminationTrials': 8, 'kAttractionRatio': 0.4070503337183384, 'kMaxAttractionDistance': 13, 'kStartAttraction': 0.6602778749703739}. Best is trial 166 with value: 8252.636363636364.\u001b[0m\n"
     ]
    },
    {
     "name": "stdout",
     "output_type": "stream",
     "text": [
      "index_parallel='0218'\n"
     ]
    },
    {
     "name": "stderr",
     "output_type": "stream",
     "text": [
      "\u001b[32m[I 2022-08-16 09:08:36,910]\u001b[0m Trial 218 finished with value: 7947.575757575758 and parameters: {'kErase': 3, 'kRadius': 6, 'kAnnealingA': 10.736488771717276, 'kAnnealingB': 0.8282894820543584, 'kAnnealingStart': 16.420867502795968, 'kSkipRatio': 0.5650039281142749, 'kTargetDeterminationTrials': 7, 'kAttractionRatio': 0.5225965045308347, 'kMaxAttractionDistance': 6, 'kStartAttraction': 0.8996927393107595}. Best is trial 166 with value: 8252.636363636364.\u001b[0m\n"
     ]
    },
    {
     "name": "stdout",
     "output_type": "stream",
     "text": [
      "index_parallel='0220'\n"
     ]
    },
    {
     "name": "stderr",
     "output_type": "stream",
     "text": [
      "\u001b[32m[I 2022-08-16 09:12:58,360]\u001b[0m Trial 220 finished with value: 8178.56277056277 and parameters: {'kErase': 3, 'kRadius': 6, 'kAnnealingA': 9.948400602786087, 'kAnnealingB': 0.7678408970138291, 'kAnnealingStart': 13.10152920082832, 'kSkipRatio': 0.7906259344342481, 'kTargetDeterminationTrials': 8, 'kAttractionRatio': 0.4021703569028043, 'kMaxAttractionDistance': 8, 'kStartAttraction': 0.7907024675162777}. Best is trial 166 with value: 8252.636363636364.\u001b[0m\n"
     ]
    },
    {
     "name": "stdout",
     "output_type": "stream",
     "text": [
      "index_parallel='0222'\n"
     ]
    },
    {
     "name": "stderr",
     "output_type": "stream",
     "text": [
      "\u001b[32m[I 2022-08-16 09:17:20,172]\u001b[0m Trial 222 finished with value: 7506.103896103896 and parameters: {'kErase': 3, 'kRadius': 6, 'kAnnealingA': 11.648820791179114, 'kAnnealingB': 0.8597409809057147, 'kAnnealingStart': 14.162803663906477, 'kSkipRatio': 0.7995893148121408, 'kTargetDeterminationTrials': 9, 'kAttractionRatio': 0.43507678362124347, 'kMaxAttractionDistance': 10, 'kStartAttraction': 0.0015403528271624011}. Best is trial 166 with value: 8252.636363636364.\u001b[0m\n"
     ]
    },
    {
     "name": "stdout",
     "output_type": "stream",
     "text": [
      "index_parallel='0224'\n"
     ]
    },
    {
     "name": "stderr",
     "output_type": "stream",
     "text": [
      "\u001b[32m[I 2022-08-16 09:21:41,816]\u001b[0m Trial 224 finished with value: 8177.645021645022 and parameters: {'kErase': 3, 'kRadius': 6, 'kAnnealingA': 9.015773351113658, 'kAnnealingB': 0.9542234204638075, 'kAnnealingStart': 12.108286436002597, 'kSkipRatio': 0.7994187627771655, 'kTargetDeterminationTrials': 10, 'kAttractionRatio': 0.3212080864101044, 'kMaxAttractionDistance': 8, 'kStartAttraction': 0.8032906930876349}. Best is trial 166 with value: 8252.636363636364.\u001b[0m\n"
     ]
    },
    {
     "name": "stdout",
     "output_type": "stream",
     "text": [
      "index_parallel='0226'\n"
     ]
    },
    {
     "name": "stderr",
     "output_type": "stream",
     "text": [
      "\u001b[32m[I 2022-08-16 09:26:03,577]\u001b[0m Trial 226 finished with value: 8122.91341991342 and parameters: {'kErase': 3, 'kRadius': 6, 'kAnnealingA': 8.646724334482025, 'kAnnealingB': 1.1492894908794848, 'kAnnealingStart': 13.726853063333532, 'kSkipRatio': 0.7851051941683888, 'kTargetDeterminationTrials': 10, 'kAttractionRatio': 0.3827006573400883, 'kMaxAttractionDistance': 8, 'kStartAttraction': 0.7468810283026801}. Best is trial 166 with value: 8252.636363636364.\u001b[0m\n"
     ]
    },
    {
     "name": "stdout",
     "output_type": "stream",
     "text": [
      "index_parallel='0228'\n"
     ]
    },
    {
     "name": "stderr",
     "output_type": "stream",
     "text": [
      "\u001b[32m[I 2022-08-16 09:30:25,301]\u001b[0m Trial 228 finished with value: 8051.9047619047615 and parameters: {'kErase': 3, 'kRadius': 6, 'kAnnealingA': 10.135107896217008, 'kAnnealingB': 1.010207237153693, 'kAnnealingStart': 11.1563724295275, 'kSkipRatio': 0.7740055198335578, 'kTargetDeterminationTrials': 9, 'kAttractionRatio': 0.011774695017703398, 'kMaxAttractionDistance': 7, 'kStartAttraction': 0.6088514468410346}. Best is trial 166 with value: 8252.636363636364.\u001b[0m\n"
     ]
    },
    {
     "name": "stdout",
     "output_type": "stream",
     "text": [
      "index_parallel='0230'\n"
     ]
    },
    {
     "name": "stderr",
     "output_type": "stream",
     "text": [
      "\u001b[32m[I 2022-08-16 09:34:46,553]\u001b[0m Trial 230 finished with value: 8217.87012987013 and parameters: {'kErase': 3, 'kRadius': 6, 'kAnnealingA': 11.294385779117523, 'kAnnealingB': 0.8433493027565029, 'kAnnealingStart': 16.31918308132879, 'kSkipRatio': 0.7687634026227663, 'kTargetDeterminationTrials': 8, 'kAttractionRatio': 0.43140662151687664, 'kMaxAttractionDistance': 10, 'kStartAttraction': 0.8928953439813235}. Best is trial 166 with value: 8252.636363636364.\u001b[0m\n"
     ]
    },
    {
     "name": "stdout",
     "output_type": "stream",
     "text": [
      "index_parallel='0232'\n"
     ]
    },
    {
     "name": "stderr",
     "output_type": "stream",
     "text": [
      "\u001b[32m[I 2022-08-16 09:39:08,257]\u001b[0m Trial 232 finished with value: 8127.4329004329 and parameters: {'kErase': 3, 'kRadius': 6, 'kAnnealingA': 12.28042483106787, 'kAnnealingB': 0.9024420121753254, 'kAnnealingStart': 17.285244667803028, 'kSkipRatio': 0.7594757525267847, 'kTargetDeterminationTrials': 8, 'kAttractionRatio': 0.36550178185309823, 'kMaxAttractionDistance': 9, 'kStartAttraction': 0.709422050844709}. Best is trial 166 with value: 8252.636363636364.\u001b[0m\n"
     ]
    },
    {
     "name": "stdout",
     "output_type": "stream",
     "text": [
      "index_parallel='0234'\n"
     ]
    },
    {
     "name": "stderr",
     "output_type": "stream",
     "text": [
      "\u001b[32m[I 2022-08-16 09:43:29,715]\u001b[0m Trial 234 finished with value: 8202.679653679654 and parameters: {'kErase': 3, 'kRadius': 6, 'kAnnealingA': 9.834475087892926, 'kAnnealingB': 0.7719367659694494, 'kAnnealingStart': 17.758112598984486, 'kSkipRatio': 0.7852773226781862, 'kTargetDeterminationTrials': 6, 'kAttractionRatio': 0.40380662020490443, 'kMaxAttractionDistance': 11, 'kStartAttraction': 0.7661993464218154}. Best is trial 166 with value: 8252.636363636364.\u001b[0m\n"
     ]
    },
    {
     "name": "stdout",
     "output_type": "stream",
     "text": [
      "index_parallel='0236'\n"
     ]
    },
    {
     "name": "stderr",
     "output_type": "stream",
     "text": [
      "\u001b[32m[I 2022-08-16 09:47:51,640]\u001b[0m Trial 236 finished with value: 8164.935064935065 and parameters: {'kErase': 3, 'kRadius': 6, 'kAnnealingA': 9.272089718143892, 'kAnnealingB': 0.7565120876672345, 'kAnnealingStart': 16.595076345135084, 'kSkipRatio': 0.7720675555073028, 'kTargetDeterminationTrials': 8, 'kAttractionRatio': 0.40894708101507915, 'kMaxAttractionDistance': 10, 'kStartAttraction': 0.8009576498453851}. Best is trial 166 with value: 8252.636363636364.\u001b[0m\n"
     ]
    },
    {
     "name": "stdout",
     "output_type": "stream",
     "text": [
      "index_parallel='0238'\n"
     ]
    },
    {
     "name": "stderr",
     "output_type": "stream",
     "text": [
      "\u001b[32m[I 2022-08-16 09:52:13,021]\u001b[0m Trial 238 finished with value: 8133.177489177489 and parameters: {'kErase': 3, 'kRadius': 6, 'kAnnealingA': 11.644266438069375, 'kAnnealingB': 0.6504576911379271, 'kAnnealingStart': 19.017439489327877, 'kSkipRatio': 0.7891152230500106, 'kTargetDeterminationTrials': 6, 'kAttractionRatio': 0.3561516710122951, 'kMaxAttractionDistance': 10, 'kStartAttraction': 0.8174852120153332}. Best is trial 166 with value: 8252.636363636364.\u001b[0m\n"
     ]
    },
    {
     "name": "stdout",
     "output_type": "stream",
     "text": [
      "index_parallel='0240'\n"
     ]
    },
    {
     "name": "stderr",
     "output_type": "stream",
     "text": [
      "\u001b[32m[I 2022-08-16 09:56:34,910]\u001b[0m Trial 240 finished with value: 8152.701298701299 and parameters: {'kErase': 3, 'kRadius': 6, 'kAnnealingA': 8.003753720728845, 'kAnnealingB': 0.7544711485749719, 'kAnnealingStart': 17.905518160947743, 'kSkipRatio': 0.7549082047304976, 'kTargetDeterminationTrials': 5, 'kAttractionRatio': 0.41547361451707543, 'kMaxAttractionDistance': 11, 'kStartAttraction': 0.6034448705947021}. Best is trial 166 with value: 8252.636363636364.\u001b[0m\n"
     ]
    },
    {
     "name": "stdout",
     "output_type": "stream",
     "text": [
      "index_parallel='0242'\n"
     ]
    },
    {
     "name": "stderr",
     "output_type": "stream",
     "text": [
      "\u001b[32m[I 2022-08-16 10:00:56,459]\u001b[0m Trial 242 finished with value: 8169.190476190476 and parameters: {'kErase': 3, 'kRadius': 6, 'kAnnealingA': 10.057460917862322, 'kAnnealingB': 0.6890931361732886, 'kAnnealingStart': 16.180244252108867, 'kSkipRatio': 0.7690123486168444, 'kTargetDeterminationTrials': 6, 'kAttractionRatio': 0.45094080611267895, 'kMaxAttractionDistance': 12, 'kStartAttraction': 0.65255434508866}. Best is trial 166 with value: 8252.636363636364.\u001b[0m\n"
     ]
    },
    {
     "name": "stdout",
     "output_type": "stream",
     "text": [
      "index_parallel='0244'\n"
     ]
    },
    {
     "name": "stderr",
     "output_type": "stream",
     "text": [
      "\u001b[32m[I 2022-08-16 10:05:18,271]\u001b[0m Trial 244 finished with value: 8100.69264069264 and parameters: {'kErase': 3, 'kRadius': 6, 'kAnnealingA': 9.266534003571422, 'kAnnealingB': 0.823854083771228, 'kAnnealingStart': 14.594744114484715, 'kSkipRatio': 0.7995566323750495, 'kTargetDeterminationTrials': 8, 'kAttractionRatio': 0.04370675666097003, 'kMaxAttractionDistance': 9, 'kStartAttraction': 0.8997250591685826}. Best is trial 166 with value: 8252.636363636364.\u001b[0m\n"
     ]
    },
    {
     "name": "stdout",
     "output_type": "stream",
     "text": [
      "index_parallel='0246'\n"
     ]
    },
    {
     "name": "stderr",
     "output_type": "stream",
     "text": [
      "\u001b[32m[I 2022-08-16 10:09:39,729]\u001b[0m Trial 246 finished with value: 7904.532467532467 and parameters: {'kErase': 3, 'kRadius': 6, 'kAnnealingA': 10.993282369112503, 'kAnnealingB': 0.9637431892607808, 'kAnnealingStart': 16.461794943076434, 'kSkipRatio': 0.7802438948267596, 'kTargetDeterminationTrials': 7, 'kAttractionRatio': 0.37339419146356806, 'kMaxAttractionDistance': 8, 'kStartAttraction': 0.10244233232929972}. Best is trial 166 with value: 8252.636363636364.\u001b[0m\n"
     ]
    },
    {
     "name": "stdout",
     "output_type": "stream",
     "text": [
      "index_parallel='0248'\n"
     ]
    },
    {
     "name": "stderr",
     "output_type": "stream",
     "text": [
      "\u001b[32m[I 2022-08-16 10:14:01,491]\u001b[0m Trial 248 finished with value: 8082.376623376624 and parameters: {'kErase': 3, 'kRadius': 6, 'kAnnealingA': 12.062064080174705, 'kAnnealingB': 0.763203397901578, 'kAnnealingStart': 15.945536032904572, 'kSkipRatio': 0.6013566516372273, 'kTargetDeterminationTrials': 6, 'kAttractionRatio': 0.4356994209891383, 'kMaxAttractionDistance': 10, 'kStartAttraction': 0.7679996729485068}. Best is trial 166 with value: 8252.636363636364.\u001b[0m\n"
     ]
    },
    {
     "name": "stdout",
     "output_type": "stream",
     "text": [
      "index_parallel='0250'\n"
     ]
    },
    {
     "name": "stderr",
     "output_type": "stream",
     "text": [
      "\u001b[32m[I 2022-08-16 10:18:23,047]\u001b[0m Trial 250 finished with value: 8095.515151515152 and parameters: {'kErase': 3, 'kRadius': 2, 'kAnnealingA': 10.222705887501357, 'kAnnealingB': 0.6204633771955627, 'kAnnealingStart': 19.86587000582268, 'kSkipRatio': 0.7879660059544003, 'kTargetDeterminationTrials': 8, 'kAttractionRatio': 0.3348823381215588, 'kMaxAttractionDistance': 10, 'kStartAttraction': 0.8911282420703344}. Best is trial 166 with value: 8252.636363636364.\u001b[0m\n"
     ]
    },
    {
     "name": "stdout",
     "output_type": "stream",
     "text": [
      "index_parallel='0252'\n"
     ]
    },
    {
     "name": "stderr",
     "output_type": "stream",
     "text": [
      "\u001b[32m[I 2022-08-16 10:22:44,551]\u001b[0m Trial 252 finished with value: 8148.329004329004 and parameters: {'kErase': 3, 'kRadius': 6, 'kAnnealingA': 10.548345801952793, 'kAnnealingB': 0.8884467484951996, 'kAnnealingStart': 13.938549430312642, 'kSkipRatio': 0.7687323748074897, 'kTargetDeterminationTrials': 7, 'kAttractionRatio': 0.394028376251301, 'kMaxAttractionDistance': 12, 'kStartAttraction': 0.7054562410973325}. Best is trial 166 with value: 8252.636363636364.\u001b[0m\n"
     ]
    },
    {
     "name": "stdout",
     "output_type": "stream",
     "text": [
      "index_parallel='0254'\n"
     ]
    },
    {
     "name": "stderr",
     "output_type": "stream",
     "text": [
      "\u001b[32m[I 2022-08-16 10:27:06,516]\u001b[0m Trial 254 finished with value: 8190.766233766234 and parameters: {'kErase': 3, 'kRadius': 6, 'kAnnealingA': 12.529017943684167, 'kAnnealingB': 0.8018260947413915, 'kAnnealingStart': 18.088165339157573, 'kSkipRatio': 0.7805833354508911, 'kTargetDeterminationTrials': 8, 'kAttractionRatio': 0.5394492596599768, 'kMaxAttractionDistance': 11, 'kStartAttraction': 0.7988422020494166}. Best is trial 166 with value: 8252.636363636364.\u001b[0m\n"
     ]
    },
    {
     "name": "stdout",
     "output_type": "stream",
     "text": [
      "index_parallel='0256'\n"
     ]
    },
    {
     "name": "stderr",
     "output_type": "stream",
     "text": [
      "\u001b[32m[I 2022-08-16 10:31:28,292]\u001b[0m Trial 256 finished with value: 8105.324675324675 and parameters: {'kErase': 3, 'kRadius': 6, 'kAnnealingA': 12.87619674948858, 'kAnnealingB': 0.8337177061931959, 'kAnnealingStart': 18.100976982178747, 'kSkipRatio': 0.7986607857929953, 'kTargetDeterminationTrials': 7, 'kAttractionRatio': 0.568875109937327, 'kMaxAttractionDistance': 11, 'kStartAttraction': 0.5300626938311404}. Best is trial 166 with value: 8252.636363636364.\u001b[0m\n"
     ]
    },
    {
     "name": "stdout",
     "output_type": "stream",
     "text": [
      "index_parallel='0258'\n"
     ]
    },
    {
     "name": "stderr",
     "output_type": "stream",
     "text": [
      "\u001b[32m[I 2022-08-16 10:35:50,105]\u001b[0m Trial 258 finished with value: 7511.900432900433 and parameters: {'kErase': 3, 'kRadius': 6, 'kAnnealingA': -12.525054046506373, 'kAnnealingB': 0.7079638406987151, 'kAnnealingStart': 18.16089326275163, 'kSkipRatio': 0.2497201990152083, 'kTargetDeterminationTrials': 12, 'kAttractionRatio': 0.5312204041631169, 'kMaxAttractionDistance': 12, 'kStartAttraction': 0.6520443034289117}. Best is trial 166 with value: 8252.636363636364.\u001b[0m\n"
     ]
    },
    {
     "name": "stdout",
     "output_type": "stream",
     "text": [
      "index_parallel='0260'\n"
     ]
    },
    {
     "name": "stderr",
     "output_type": "stream",
     "text": [
      "\u001b[32m[I 2022-08-16 10:40:11,944]\u001b[0m Trial 260 finished with value: 7209.549783549784 and parameters: {'kErase': 3, 'kRadius': 6, 'kAnnealingA': 11.222478394325128, 'kAnnealingB': 0.9062290776985901, 'kAnnealingStart': 90.33792086463141, 'kSkipRatio': 0.7612493928143931, 'kTargetDeterminationTrials': 8, 'kAttractionRatio': 0.48909824327865437, 'kMaxAttractionDistance': 9, 'kStartAttraction': 0.004642950416957062}. Best is trial 166 with value: 8252.636363636364.\u001b[0m\n"
     ]
    },
    {
     "name": "stdout",
     "output_type": "stream",
     "text": [
      "index_parallel='0262'\n"
     ]
    },
    {
     "name": "stderr",
     "output_type": "stream",
     "text": [
      "\u001b[32m[I 2022-08-16 10:44:33,991]\u001b[0m Trial 262 finished with value: 8221.61471861472 and parameters: {'kErase': 3, 'kRadius': 6, 'kAnnealingA': 9.146836575487745, 'kAnnealingB': 0.9548709131121094, 'kAnnealingStart': 13.475572954567285, 'kSkipRatio': 0.78743364833452, 'kTargetDeterminationTrials': 9, 'kAttractionRatio': 0.459791549357838, 'kMaxAttractionDistance': 11, 'kStartAttraction': 0.7786603367851967}. Best is trial 166 with value: 8252.636363636364.\u001b[0m\n"
     ]
    },
    {
     "name": "stdout",
     "output_type": "stream",
     "text": [
      "index_parallel='0264'\n"
     ]
    },
    {
     "name": "stderr",
     "output_type": "stream",
     "text": [
      "\u001b[32m[I 2022-08-16 10:48:55,606]\u001b[0m Trial 264 finished with value: 8164.025974025974 and parameters: {'kErase': 3, 'kRadius': 6, 'kAnnealingA': 8.886399354532005, 'kAnnealingB': 0.859989453467565, 'kAnnealingStart': 14.162847453147425, 'kSkipRatio': 0.7775221284667546, 'kTargetDeterminationTrials': 10, 'kAttractionRatio': 0.5295452238937934, 'kMaxAttractionDistance': 12, 'kStartAttraction': 0.7161664912100878}. Best is trial 166 with value: 8252.636363636364.\u001b[0m\n"
     ]
    },
    {
     "name": "stdout",
     "output_type": "stream",
     "text": [
      "index_parallel='0266'\n"
     ]
    },
    {
     "name": "stderr",
     "output_type": "stream",
     "text": [
      "\u001b[32m[I 2022-08-16 10:53:17,094]\u001b[0m Trial 266 finished with value: 8170.735930735931 and parameters: {'kErase': 3, 'kRadius': 6, 'kAnnealingA': 8.167762611145967, 'kAnnealingB': 0.9616845642741992, 'kAnnealingStart': 15.104710666238088, 'kSkipRatio': 0.7858897259519564, 'kTargetDeterminationTrials': 9, 'kAttractionRatio': 0.606491540202308, 'kMaxAttractionDistance': 11, 'kStartAttraction': 0.6014013064328751}. Best is trial 166 with value: 8252.636363636364.\u001b[0m\n"
     ]
    },
    {
     "name": "stdout",
     "output_type": "stream",
     "text": [
      "index_parallel='0268'\n"
     ]
    },
    {
     "name": "stderr",
     "output_type": "stream",
     "text": [
      "\u001b[32m[I 2022-08-16 10:57:39,227]\u001b[0m Trial 268 finished with value: 8200.030303030304 and parameters: {'kErase': 3, 'kRadius': 6, 'kAnnealingA': 9.851748501773551, 'kAnnealingB': 0.6364011097883507, 'kAnnealingStart': 13.1688016463077, 'kSkipRatio': 0.7678638600894173, 'kTargetDeterminationTrials': 9, 'kAttractionRatio': 0.41721878008893704, 'kMaxAttractionDistance': 12, 'kStartAttraction': 0.721388635821673}. Best is trial 166 with value: 8252.636363636364.\u001b[0m\n"
     ]
    },
    {
     "name": "stdout",
     "output_type": "stream",
     "text": [
      "index_parallel='0270'\n"
     ]
    },
    {
     "name": "stderr",
     "output_type": "stream",
     "text": [
      "\u001b[32m[I 2022-08-16 11:02:01,047]\u001b[0m Trial 270 finished with value: 7671.597402597403 and parameters: {'kErase': 3, 'kRadius': 6, 'kAnnealingA': 9.619433752508337, 'kAnnealingB': 0.6465295066416228, 'kAnnealingStart': 11.467500001124119, 'kSkipRatio': 0.7999163442372025, 'kTargetDeterminationTrials': 9, 'kAttractionRatio': 0.41560378732344805, 'kMaxAttractionDistance': 13, 'kStartAttraction': 0.05139941787504697}. Best is trial 166 with value: 8252.636363636364.\u001b[0m\n"
     ]
    },
    {
     "name": "stdout",
     "output_type": "stream",
     "text": [
      "index_parallel='0272'\n"
     ]
    },
    {
     "name": "stderr",
     "output_type": "stream",
     "text": [
      "\u001b[32m[I 2022-08-16 11:06:22,433]\u001b[0m Trial 272 finished with value: 8107.064935064935 and parameters: {'kErase': 3, 'kRadius': 6, 'kAnnealingA': 10.498654757254526, 'kAnnealingB': 0.5674915122934523, 'kAnnealingStart': 9.884610198944578, 'kSkipRatio': 0.7682383453741517, 'kTargetDeterminationTrials': 10, 'kAttractionRatio': 0.3944965430037936, 'kMaxAttractionDistance': 12, 'kStartAttraction': 0.8999299587865132}. Best is trial 166 with value: 8252.636363636364.\u001b[0m\n"
     ]
    },
    {
     "name": "stdout",
     "output_type": "stream",
     "text": [
      "index_parallel='0274'\n"
     ]
    },
    {
     "name": "stderr",
     "output_type": "stream",
     "text": [
      "\u001b[32m[I 2022-08-16 11:10:43,839]\u001b[0m Trial 274 finished with value: 7871.831168831169 and parameters: {'kErase': 3, 'kRadius': 6, 'kAnnealingA': 10.690314147651172, 'kAnnealingB': 0.727600377405114, 'kAnnealingStart': 13.0695625890995, 'kSkipRatio': 0.4315826274140506, 'kTargetDeterminationTrials': 10, 'kAttractionRatio': 0.45943413888474716, 'kMaxAttractionDistance': 10, 'kStartAttraction': 0.5635698430834822}. Best is trial 166 with value: 8252.636363636364.\u001b[0m\n"
     ]
    },
    {
     "name": "stdout",
     "output_type": "stream",
     "text": [
      "index_parallel='0276'\n"
     ]
    },
    {
     "name": "stderr",
     "output_type": "stream",
     "text": [
      "\u001b[32m[I 2022-08-16 11:15:05,236]\u001b[0m Trial 276 finished with value: 8190.658008658009 and parameters: {'kErase': 3, 'kRadius': 6, 'kAnnealingA': 8.61339051307205, 'kAnnealingB': 2.4771441137488095, 'kAnnealingStart': 13.569371517596478, 'kSkipRatio': 0.7526810921072622, 'kTargetDeterminationTrials': 10, 'kAttractionRatio': 0.3507521351957892, 'kMaxAttractionDistance': 9, 'kStartAttraction': 0.7258019937317073}. Best is trial 166 with value: 8252.636363636364.\u001b[0m\n"
     ]
    },
    {
     "name": "stdout",
     "output_type": "stream",
     "text": [
      "index_parallel='0278'\n"
     ]
    },
    {
     "name": "stderr",
     "output_type": "stream",
     "text": [
      "\u001b[32m[I 2022-08-16 11:19:26,462]\u001b[0m Trial 278 finished with value: 8135.995670995671 and parameters: {'kErase': 3, 'kRadius': 6, 'kAnnealingA': 11.469357787032033, 'kAnnealingB': 0.8745867678162227, 'kAnnealingStart': 12.48332540688797, 'kSkipRatio': 0.7571733941125801, 'kTargetDeterminationTrials': 11, 'kAttractionRatio': 0.309367752441197, 'kMaxAttractionDistance': 8, 'kStartAttraction': 0.7970925688937857}. Best is trial 166 with value: 8252.636363636364.\u001b[0m\n"
     ]
    },
    {
     "name": "stdout",
     "output_type": "stream",
     "text": [
      "index_parallel='0280'\n"
     ]
    },
    {
     "name": "stderr",
     "output_type": "stream",
     "text": [
      "\u001b[32m[I 2022-08-16 11:23:47,969]\u001b[0m Trial 280 finished with value: 7643.38961038961 and parameters: {'kErase': 3, 'kRadius': 6, 'kAnnealingA': 11.654152627847255, 'kAnnealingB': 1.002365790427588, 'kAnnealingStart': 12.207166548033479, 'kSkipRatio': 0.7518045513901344, 'kTargetDeterminationTrials': 11, 'kAttractionRatio': 0.33854532273069143, 'kMaxAttractionDistance': 9, 'kStartAttraction': 0.03636134975530946}. Best is trial 166 with value: 8252.636363636364.\u001b[0m\n"
     ]
    },
    {
     "name": "stdout",
     "output_type": "stream",
     "text": [
      "index_parallel='0282'\n"
     ]
    },
    {
     "name": "stderr",
     "output_type": "stream",
     "text": [
      "\u001b[32m[I 2022-08-16 11:28:09,386]\u001b[0m Trial 282 finished with value: 8094.939393939394 and parameters: {'kErase': 3, 'kRadius': 6, 'kAnnealingA': 7.174912562428551, 'kAnnealingB': 0.9329335578255129, 'kAnnealingStart': 11.22571457958753, 'kSkipRatio': 0.7676229100954253, 'kTargetDeterminationTrials': 10, 'kAttractionRatio': 0.3760289240634461, 'kMaxAttractionDistance': 10, 'kStartAttraction': 0.6201195243665558}. Best is trial 166 with value: 8252.636363636364.\u001b[0m\n"
     ]
    },
    {
     "name": "stdout",
     "output_type": "stream",
     "text": [
      "index_parallel='0284'\n"
     ]
    },
    {
     "name": "stderr",
     "output_type": "stream",
     "text": [
      "\u001b[32m[I 2022-08-16 11:32:31,587]\u001b[0m Trial 284 finished with value: 8074.580086580087 and parameters: {'kErase': 3, 'kRadius': 6, 'kAnnealingA': 10.043859273689435, 'kAnnealingB': 0.823171392455887, 'kAnnealingStart': 13.159542133214442, 'kSkipRatio': 0.7773748240466563, 'kTargetDeterminationTrials': 11, 'kAttractionRatio': 0.4307745843311477, 'kMaxAttractionDistance': 10, 'kStartAttraction': 0.5079600173089369}. Best is trial 166 with value: 8252.636363636364.\u001b[0m\n"
     ]
    },
    {
     "name": "stdout",
     "output_type": "stream",
     "text": [
      "index_parallel='0286'\n"
     ]
    },
    {
     "name": "stderr",
     "output_type": "stream",
     "text": [
      "\u001b[32m[I 2022-08-16 11:36:53,238]\u001b[0m Trial 286 finished with value: 8183.8138528138525 and parameters: {'kErase': 3, 'kRadius': 6, 'kAnnealingA': 11.135797620197927, 'kAnnealingB': 0.6901901843069648, 'kAnnealingStart': 14.529378084769805, 'kSkipRatio': 0.77883314647686, 'kTargetDeterminationTrials': 9, 'kAttractionRatio': 0.43980497547736236, 'kMaxAttractionDistance': 9, 'kStartAttraction': 0.7306023957317709}. Best is trial 166 with value: 8252.636363636364.\u001b[0m\n"
     ]
    },
    {
     "name": "stdout",
     "output_type": "stream",
     "text": [
      "index_parallel='0288'\n"
     ]
    },
    {
     "name": "stderr",
     "output_type": "stream",
     "text": [
      "\u001b[32m[I 2022-08-16 11:41:15,155]\u001b[0m Trial 288 finished with value: 8159.792207792208 and parameters: {'kErase': 3, 'kRadius': 6, 'kAnnealingA': 9.125520742232712, 'kAnnealingB': 0.4494968187727376, 'kAnnealingStart': 15.210193796291529, 'kSkipRatio': 0.789779498280043, 'kTargetDeterminationTrials': 13, 'kAttractionRatio': 0.38648664116304365, 'kMaxAttractionDistance': 8, 'kStartAttraction': 0.8973448794943635}. Best is trial 166 with value: 8252.636363636364.\u001b[0m\n"
     ]
    },
    {
     "name": "stdout",
     "output_type": "stream",
     "text": [
      "index_parallel='0290'\n"
     ]
    }
   ],
   "source": [
    "study.optimize(\n",
    "    partial(objective, in_dir=in_dir, work_dir=work_dir),\n",
    "    n_trials=3000,\n",
    "    timeout=86400,\n",
    "    callbacks=[callback]\n",
    ")"
   ]
  },
  {
   "cell_type": "code",
   "execution_count": null,
   "id": "700269d2",
   "metadata": {},
   "outputs": [],
   "source": []
  }
 ],
 "metadata": {
  "kernelspec": {
   "display_name": "Python 3 (ipykernel)",
   "language": "python",
   "name": "python3"
  },
  "language_info": {
   "codemirror_mode": {
    "name": "ipython",
    "version": 3
   },
   "file_extension": ".py",
   "mimetype": "text/x-python",
   "name": "python",
   "nbconvert_exporter": "python",
   "pygments_lexer": "ipython3",
   "version": "3.9.12"
  }
 },
 "nbformat": 4,
 "nbformat_minor": 5
}
