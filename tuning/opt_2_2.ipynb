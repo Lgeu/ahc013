{
 "cells": [
  {
   "cell_type": "code",
   "execution_count": 1,
   "id": "25a1dac8",
   "metadata": {},
   "outputs": [],
   "source": [
    "import re\n",
    "import sys\n",
    "from uuid import uuid1\n",
    "from time import sleep\n",
    "from pprint import pprint\n",
    "from pathlib import Path\n",
    "from tempfile import gettempdir\n",
    "from threading import Thread\n",
    "from functools import partial\n",
    "from subprocess import Popen, PIPE\n",
    "\n",
    "from tqdm.notebook import tqdm\n",
    "import numpy as np\n",
    "import optuna\n",
    "import pandas as pd\n",
    "import matplotlib.pyplot as plt\n",
    "\n",
    "FILENAME = \"main.cpp\""
   ]
  },
  {
   "cell_type": "code",
   "execution_count": 2,
   "id": "3dd4d02e",
   "metadata": {},
   "outputs": [
    {
     "name": "stdout",
     "output_type": "stream",
     "text": [
      "10 variables were found.\n"
     ]
    },
    {
     "data": {
      "text/html": [
       "<div>\n",
       "<style scoped>\n",
       "    .dataframe tbody tr th:only-of-type {\n",
       "        vertical-align: middle;\n",
       "    }\n",
       "\n",
       "    .dataframe tbody tr th {\n",
       "        vertical-align: top;\n",
       "    }\n",
       "\n",
       "    .dataframe thead th {\n",
       "        text-align: right;\n",
       "    }\n",
       "</style>\n",
       "<table border=\"1\" class=\"dataframe\">\n",
       "  <thead>\n",
       "    <tr style=\"text-align: right;\">\n",
       "      <th></th>\n",
       "      <th>name</th>\n",
       "      <th>method</th>\n",
       "      <th>min</th>\n",
       "      <th>max</th>\n",
       "      <th>log</th>\n",
       "      <th>left</th>\n",
       "      <th>right</th>\n",
       "    </tr>\n",
       "  </thead>\n",
       "  <tbody>\n",
       "    <tr>\n",
       "      <th>0</th>\n",
       "      <td>kErase</td>\n",
       "      <td>suggest_int</td>\n",
       "      <td>1.000</td>\n",
       "      <td>5.0</td>\n",
       "      <td>False</td>\n",
       "      <td>static constexpr auto kErase =</td>\n",
       "      <td>;             // OPTIMIZE [1, 5]</td>\n",
       "    </tr>\n",
       "    <tr>\n",
       "      <th>1</th>\n",
       "      <td>kRadius</td>\n",
       "      <td>suggest_int</td>\n",
       "      <td>2.000</td>\n",
       "      <td>6.0</td>\n",
       "      <td>False</td>\n",
       "      <td>static constexpr auto kRadius =</td>\n",
       "      <td>;            // OPTIMIZE [2, 6]</td>\n",
       "    </tr>\n",
       "    <tr>\n",
       "      <th>2</th>\n",
       "      <td>kAnnealingA</td>\n",
       "      <td>suggest_float</td>\n",
       "      <td>-15.000</td>\n",
       "      <td>15.0</td>\n",
       "      <td>False</td>\n",
       "      <td>static constexpr auto kAnnealingA =</td>\n",
       "      <td>;      // OPTIMIZE [-15.0, 15.0]</td>\n",
       "    </tr>\n",
       "    <tr>\n",
       "      <th>3</th>\n",
       "      <td>kAnnealingB</td>\n",
       "      <td>suggest_float</td>\n",
       "      <td>0.000</td>\n",
       "      <td>3.0</td>\n",
       "      <td>False</td>\n",
       "      <td>static constexpr auto kAnnealingB =</td>\n",
       "      <td>;      // OPTIMIZE [0.0, 3.0]</td>\n",
       "    </tr>\n",
       "    <tr>\n",
       "      <th>4</th>\n",
       "      <td>kAnnealingStart</td>\n",
       "      <td>suggest_float</td>\n",
       "      <td>1.000</td>\n",
       "      <td>100.0</td>\n",
       "      <td>True</td>\n",
       "      <td>static constexpr auto kAnnealingStart =</td>\n",
       "      <td>; // OPTIMIZE LOG [1.0, 100.0]</td>\n",
       "    </tr>\n",
       "    <tr>\n",
       "      <th>5</th>\n",
       "      <td>kSkipRatio</td>\n",
       "      <td>suggest_float</td>\n",
       "      <td>0.200</td>\n",
       "      <td>0.8</td>\n",
       "      <td>False</td>\n",
       "      <td>static constexpr auto kSkipRatio =</td>\n",
       "      <td>;       // OPTIMIZE [0.2, 0.8]</td>\n",
       "    </tr>\n",
       "    <tr>\n",
       "      <th>6</th>\n",
       "      <td>kTargetDeterminationTrials</td>\n",
       "      <td>suggest_int</td>\n",
       "      <td>1.000</td>\n",
       "      <td>20.0</td>\n",
       "      <td>True</td>\n",
       "      <td>static constexpr auto kTargetDeterminationTria...</td>\n",
       "      <td>; // OPTIMIZE LOG [1, 20]</td>\n",
       "    </tr>\n",
       "    <tr>\n",
       "      <th>7</th>\n",
       "      <td>kAttractionRatio</td>\n",
       "      <td>suggest_float</td>\n",
       "      <td>0.010</td>\n",
       "      <td>0.9</td>\n",
       "      <td>True</td>\n",
       "      <td>static constexpr auto kAttractionRatio =</td>\n",
       "      <td>;      // OPTIMIZE LOG [0.01, 0.9]</td>\n",
       "    </tr>\n",
       "    <tr>\n",
       "      <th>8</th>\n",
       "      <td>kMaxAttractionDistance</td>\n",
       "      <td>suggest_int</td>\n",
       "      <td>4.000</td>\n",
       "      <td>99.0</td>\n",
       "      <td>True</td>\n",
       "      <td>static constexpr auto kMaxAttractionDistance =</td>\n",
       "      <td>; // OPTIMIZE LOG [4, 99]</td>\n",
       "    </tr>\n",
       "    <tr>\n",
       "      <th>9</th>\n",
       "      <td>kStartAttraction</td>\n",
       "      <td>suggest_float</td>\n",
       "      <td>0.001</td>\n",
       "      <td>0.9</td>\n",
       "      <td>True</td>\n",
       "      <td>static constexpr auto kStartAttraction =</td>\n",
       "      <td>;     // OPTIMIZE LOG [0.001, 0.9]</td>\n",
       "    </tr>\n",
       "  </tbody>\n",
       "</table>\n",
       "</div>"
      ],
      "text/plain": [
       "                         name         method     min    max    log  \\\n",
       "0                      kErase    suggest_int   1.000    5.0  False   \n",
       "1                     kRadius    suggest_int   2.000    6.0  False   \n",
       "2                 kAnnealingA  suggest_float -15.000   15.0  False   \n",
       "3                 kAnnealingB  suggest_float   0.000    3.0  False   \n",
       "4             kAnnealingStart  suggest_float   1.000  100.0   True   \n",
       "5                  kSkipRatio  suggest_float   0.200    0.8  False   \n",
       "6  kTargetDeterminationTrials    suggest_int   1.000   20.0   True   \n",
       "7            kAttractionRatio  suggest_float   0.010    0.9   True   \n",
       "8      kMaxAttractionDistance    suggest_int   4.000   99.0   True   \n",
       "9            kStartAttraction  suggest_float   0.001    0.9   True   \n",
       "\n",
       "                                                left  \\\n",
       "0                    static constexpr auto kErase =    \n",
       "1                   static constexpr auto kRadius =    \n",
       "2               static constexpr auto kAnnealingA =    \n",
       "3               static constexpr auto kAnnealingB =    \n",
       "4           static constexpr auto kAnnealingStart =    \n",
       "5                static constexpr auto kSkipRatio =    \n",
       "6  static constexpr auto kTargetDeterminationTria...   \n",
       "7          static constexpr auto kAttractionRatio =    \n",
       "8    static constexpr auto kMaxAttractionDistance =    \n",
       "9          static constexpr auto kStartAttraction =    \n",
       "\n",
       "                                right  \n",
       "0    ;             // OPTIMIZE [1, 5]  \n",
       "1     ;            // OPTIMIZE [2, 6]  \n",
       "2    ;      // OPTIMIZE [-15.0, 15.0]  \n",
       "3       ;      // OPTIMIZE [0.0, 3.0]  \n",
       "4      ; // OPTIMIZE LOG [1.0, 100.0]  \n",
       "5      ;       // OPTIMIZE [0.2, 0.8]  \n",
       "6           ; // OPTIMIZE LOG [1, 20]  \n",
       "7  ;      // OPTIMIZE LOG [0.01, 0.9]  \n",
       "8           ; // OPTIMIZE LOG [4, 99]  \n",
       "9  ;     // OPTIMIZE LOG [0.001, 0.9]  "
      ]
     },
     "metadata": {},
     "output_type": "display_data"
    }
   ],
   "source": [
    "# ここでエラー出力は何かおかしいかもしれない\n",
    "\n",
    "\n",
    "# パラメータ抽出\n",
    "with open(FILENAME) as f:\n",
    "    answer = f.read()\n",
    "\n",
    "\n",
    "variables_optimize = []\n",
    "\n",
    "for left, value, right, options in re.findall(r\"^([^/\\n]*=\\s*)(.+?)(\\s*;\\s*//(?:.*\\W)?OPTIMIZE(\\W.*))$\", answer, re.MULTILINE):\n",
    "    name = left.replace(\"=\", \"\").strip().split()[-1]\n",
    "    \n",
    "    searched = re.search(r\".*\\[(?P<min>.*),(?P<max>.*)\\].*\", options)\n",
    "    if searched:\n",
    "        min_value = max_value = None\n",
    "        try:\n",
    "            min_value = eval(searched.group(\"min\"))\n",
    "            max_value = eval(searched.group(\"max\"))\n",
    "            assert min_value <= max_value\n",
    "        except Exception as e:\n",
    "            print(f\"searched={searched}\", file=sys.stderr)\n",
    "            print(e, file=sys.stderr)\n",
    "            continue\n",
    "        log = \"LOG\" in options  # 雑、直したほうが良い\n",
    "        if type(min_value) != type(max_value):\n",
    "            print(f\"searched={searched}\", file=sys.stderr)\n",
    "            print(\"types not matched\", file=sys.stderr)\n",
    "            continue\n",
    "        if isinstance(min_value, int):\n",
    "            method = \"suggest_int\"\n",
    "        elif isinstance(min_value, float):\n",
    "            method = \"suggest_float\"\n",
    "        else:\n",
    "            print(f\"searched={searched}\", file=sys.stderr)\n",
    "            print(f\"unknown type ({type(min_value)})\", file=sys.stderr)\n",
    "            continue\n",
    "        variables_optimize.append({\n",
    "            \"name\": name,\n",
    "            \"method\": method,\n",
    "            \"min\": min_value,\n",
    "            \"max\": max_value,\n",
    "            \"log\": log,\n",
    "            \"left\": left,\n",
    "            \"right\": right,\n",
    "        })\n",
    "    elif searched := re.search(r\".*\\{(?P<choices>.*?)\\}.*\", options):\n",
    "        choices = list(map(lambda x: x.strip(), searched.group(\"choices\").split(\",\")))\n",
    "        variables_optimize.append({\n",
    "            \"name\": name,\n",
    "            \"method\": \"suggest_categorical\",\n",
    "            \"choices\": choices,\n",
    "            \"left\": left,\n",
    "            \"right\": right,\n",
    "        })\n",
    "    else:\n",
    "        print(f\"searched={searched}\", file=sys.stderr)\n",
    "        print(f\"pattern was matched but options are incorrect.\", file=sys.stderr)\n",
    "\n",
    "print(len(variables_optimize), \"variables were found.\")\n",
    "if globals().get(\"pd\"):\n",
    "    display(pd.DataFrame(variables_optimize))\n",
    "else:\n",
    "    pprint(variables_optimize)"
   ]
  },
  {
   "cell_type": "code",
   "execution_count": 3,
   "id": "001042b9",
   "metadata": {},
   "outputs": [],
   "source": [
    "def escape(string):  # 正規表現の中でそのまま使いたい文字列をエスケープ\n",
    "    res = !echo '{string}' | sed -e 's/[]\\/$*.^[]/\\\\&/g'\n",
    "    return res[0]\n",
    "\n",
    "def escape_sed(string):  # sed の置換後の文字列用のエスケープ\n",
    "    res = !echo '{string}' | sed -e 's/[\\/&]/\\\\&/g'\n",
    "    return res[0]\n",
    "\n",
    "def read_stream(name, in_file, out_file):\n",
    "    for line in in_file:\n",
    "        print(f\"[{name}] {line.strip()}\", file=out_file)\n",
    "\n",
    "def run(cmd, name):\n",
    "    proc = Popen(cmd, stdout=PIPE, stderr=PIPE, universal_newlines=True, shell=isinstance(cmd, str))\n",
    "    stdout_thread = Thread(target=read_stream, args=(name, proc.stdout, sys.stdout))\n",
    "    stderr_thread = Thread(target=read_stream, args=(name, proc.stderr, sys.stderr))\n",
    "    stdout_thread.start()\n",
    "    stderr_thread.start()\n",
    "    proc.wait()\n",
    "    return proc\n",
    "\n",
    "def objective(trial, in_dir, work_dir):\n",
    "    n_internal_parallel = 3\n",
    "    \n",
    "    index_parallel = f\"{trial.number:04d}\"\n",
    "    print(f\"{index_parallel=}\")\n",
    "    \n",
    "    work_dir = Path(work_dir)\n",
    "    directory_input = Path(in_dir)  # 中のすべてのファイルに対して実行される\n",
    "    #parameters_changed_filename = Path(gettempdir()) / str(uuid1())\n",
    "    parameters_changed_filename = work_dir / f\"{index_parallel}_{FILENAME}\"\n",
    "    \n",
    "    run([\"mkdir\", f\"{work_dir / index_parallel}_out\"], \"mkdir\")\n",
    "    run([\"mkdir\", f\"{work_dir / index_parallel}_score\"], \"mkdir\")\n",
    "    \n",
    "    # ファイル作成\n",
    "    run(f\"cp {FILENAME} {parameters_changed_filename}\", \"cp\")\n",
    "    sed_options = [f\"-i {parameters_changed_filename}\"]\n",
    "    for variable in variables_optimize:\n",
    "        if variable[\"method\"] == \"suggest_categorical\":\n",
    "            val =  trial.suggest_categorical(variable[\"name\"], variable[\"choices\"])\n",
    "        else:\n",
    "            val = getattr(trial, variable[\"method\"])(variable[\"name\"], variable[\"min\"], variable[\"max\"], log=variable[\"log\"])\n",
    "        left = variable[\"left\"]\n",
    "        right = variable[\"right\"]\n",
    "        sed_options.append(f\"\"\"-e 's/^{escape(left)}.*{escape(right)}$/{escape_sed(left)}{val}{escape_sed(right)}/'\"\"\")\n",
    "    command_sed = f\"sed {' '.join(sed_options)}\"\n",
    "    #print(command_sed)\n",
    "    run(command_sed, \"sed\")\n",
    "    \n",
    "    # コンパイル\n",
    "    command_compile = f\"g++ {parameters_changed_filename} -std=gnu++17 -O2 -DONLINE_JUDGE -o {parameters_changed_filename}.out\"\n",
    "    #print(command_compile)\n",
    "    run(command_compile, \"compile\")\n",
    "    # 実行・採点コマンド (@ はファイル名)\n",
    "    command_exec = (\n",
    "        #f\"./a.out < ./tools/in/{i:04d}.txt > {out_file} && ./tools/target/release/vis ./tools/in/{i:04d}.txt {out_file}\"\n",
    "        #f\"../tools/target/release/tester $(pwd)/{parameters_changed_filename}.out < {directory_input}/@ 2>&1 | grep Score\"\n",
    "        #f\"../tools/target/release/tester $(pwd)/{parameters_changed_filename}.out < {directory_input}/@ 2>&1 | grep Score | sed -E s/[^0-9]+// > ./{index_parallel}_score/@;\"\n",
    "        #f\"cargo run --release --manifest-path ../tools/Cargo.toml --bin tester {directory_input}/@ $(pwd)/{parameters_changed_filename}.out 2>&1 | grep Score | sed -E s/[^0-9]+// > ./{index_parallel}_score/@;\"\n",
    "        f\"./{parameters_changed_filename}.out < {directory_input}/@ > {work_dir / index_parallel}_out/@;\"\n",
    "        f\"../tools/target/release/vis {directory_input}/@ {work_dir / index_parallel}_out/@ 2> /dev/null > {work_dir / index_parallel}_score/@;\"\n",
    "    )\n",
    "    # 並列実行 (sed はパスのディレクトリ部分を消してファイル名にしてる)\n",
    "    run(f\"find {directory_input}/* | sed 's!^.*/!!' | xargs -I@ -P {n_internal_parallel} sh -c '{command_exec}'\", \"exec\")\n",
    "    \n",
    "    # 集計\n",
    "    scores = []\n",
    "    for file_path in Path(f\"{work_dir / index_parallel}_score/\").iterdir():  \n",
    "        with open(file_path) as f:\n",
    "            scores.append(int(f.readline().strip().split()[-1]))\n",
    "    mean_score = sum(scores) / len(scores)\n",
    "    \n",
    "    # 後始末\n",
    "    run(f\"rm -rf {work_dir / index_parallel}_out\", \"rm\")\n",
    "    run(f\"rm -rf {work_dir / index_parallel}_score\", \"rm\")\n",
    "    #run(f\"rm {parameters_changed_filename}\", \"rm\")\n",
    "    run(f\"rm {parameters_changed_filename}.out\", \"rm\")\n",
    "    \n",
    "    return mean_score"
   ]
  },
  {
   "cell_type": "code",
   "execution_count": 4,
   "id": "2d2e133c",
   "metadata": {},
   "outputs": [
    {
     "name": "stderr",
     "output_type": "stream",
     "text": [
      "\u001b[32m[I 2022-08-15 21:23:13,400]\u001b[0m A new study created in RDB with name: study_2_2\u001b[0m\n"
     ]
    }
   ],
   "source": [
    "K = 2\n",
    "N_CLASS = 2\n",
    "\n",
    "in_dir = Path(f\"in_{K}_{N_CLASS}\")\n",
    "work_dir = Path(f\"work_{K}_{N_CLASS}\")\n",
    "\n",
    "study_name = f\"study_{K}_{N_CLASS}\"\n",
    "storage_path = work_dir / \"study.db\"\n",
    "storage = f\"sqlite:///{storage_path}\"\n",
    "study = optuna.create_study(storage=storage, load_if_exists=True, study_name=study_name, direction=\"maximize\")\n",
    "\n",
    "def callback(study, trial):\n",
    "    try:\n",
    "        index_parallel = f\"{trial.number:04d}\"\n",
    "        parameters_changed_filename = work_dir / f\"{index_parallel}_{FILENAME}\"\n",
    "        if study.best_value == trial.value:\n",
    "            print(f\"Updated! {study.best_value}\")\n",
    "            !cp {parameters_changed_filename} {work_dir / \"best_parameters.cpp\"}\n",
    "        !rm {parameters_changed_filename}\n",
    "    except:\n",
    "        print(\":(\")\n"
   ]
  },
  {
   "cell_type": "code",
   "execution_count": null,
   "id": "61c2901d",
   "metadata": {},
   "outputs": [
    {
     "name": "stdout",
     "output_type": "stream",
     "text": [
      "index_parallel='0000'\n"
     ]
    },
    {
     "name": "stderr",
     "output_type": "stream",
     "text": [
      "\u001b[32m[I 2022-08-15 21:27:03,008]\u001b[0m Trial 0 finished with value: 6371.515 and parameters: {'kErase': 5, 'kRadius': 4, 'kAnnealingA': 7.186228283357938, 'kAnnealingB': 1.8034936387291154, 'kAnnealingStart': 2.447206862492587, 'kSkipRatio': 0.6536745081399118, 'kTargetDeterminationTrials': 5, 'kAttractionRatio': 0.06459460959325049, 'kMaxAttractionDistance': 63, 'kStartAttraction': 0.0013802529746432307}. Best is trial 0 with value: 6371.515.\u001b[0m\n"
     ]
    },
    {
     "name": "stdout",
     "output_type": "stream",
     "text": [
      "Updated! 6371.515\n",
      "index_parallel='0001'\n"
     ]
    },
    {
     "name": "stderr",
     "output_type": "stream",
     "text": [
      "\u001b[32m[I 2022-08-15 21:30:52,171]\u001b[0m Trial 1 finished with value: 6404.74 and parameters: {'kErase': 1, 'kRadius': 2, 'kAnnealingA': -11.426998515743966, 'kAnnealingB': 2.7475147187479476, 'kAnnealingStart': 37.17652418392763, 'kSkipRatio': 0.4382512063568594, 'kTargetDeterminationTrials': 6, 'kAttractionRatio': 0.42898539061248064, 'kMaxAttractionDistance': 7, 'kStartAttraction': 0.02980673798224508}. Best is trial 1 with value: 6404.74.\u001b[0m\n"
     ]
    },
    {
     "name": "stdout",
     "output_type": "stream",
     "text": [
      "Updated! 6404.74\n",
      "index_parallel='0002'\n"
     ]
    },
    {
     "name": "stderr",
     "output_type": "stream",
     "text": [
      "\u001b[32m[I 2022-08-15 21:34:41,938]\u001b[0m Trial 2 finished with value: 6490.365 and parameters: {'kErase': 3, 'kRadius': 4, 'kAnnealingA': 4.65790444736858, 'kAnnealingB': 0.6078136903480579, 'kAnnealingStart': 27.106930351906904, 'kSkipRatio': 0.5876151833563272, 'kTargetDeterminationTrials': 7, 'kAttractionRatio': 0.226484202779619, 'kMaxAttractionDistance': 40, 'kStartAttraction': 0.006547403713370379}. Best is trial 2 with value: 6490.365.\u001b[0m\n"
     ]
    },
    {
     "name": "stdout",
     "output_type": "stream",
     "text": [
      "Updated! 6490.365\n",
      "index_parallel='0003'\n"
     ]
    },
    {
     "name": "stderr",
     "output_type": "stream",
     "text": [
      "\u001b[32m[I 2022-08-15 21:38:31,596]\u001b[0m Trial 3 finished with value: 6538.23 and parameters: {'kErase': 2, 'kRadius': 6, 'kAnnealingA': -14.038622059886205, 'kAnnealingB': 2.4194619788247143, 'kAnnealingStart': 30.181455117879093, 'kSkipRatio': 0.7526563894866065, 'kTargetDeterminationTrials': 6, 'kAttractionRatio': 0.24019884918422404, 'kMaxAttractionDistance': 15, 'kStartAttraction': 0.0024416929773488586}. Best is trial 3 with value: 6538.23.\u001b[0m\n"
     ]
    },
    {
     "name": "stdout",
     "output_type": "stream",
     "text": [
      "Updated! 6538.23\n",
      "index_parallel='0004'\n"
     ]
    },
    {
     "name": "stderr",
     "output_type": "stream",
     "text": [
      "\u001b[32m[I 2022-08-15 21:42:20,918]\u001b[0m Trial 4 finished with value: 6384.26 and parameters: {'kErase': 1, 'kRadius': 2, 'kAnnealingA': -14.570016901346953, 'kAnnealingB': 2.9612603274674663, 'kAnnealingStart': 47.87315873019429, 'kSkipRatio': 0.5583315801607103, 'kTargetDeterminationTrials': 5, 'kAttractionRatio': 0.47786965310782664, 'kMaxAttractionDistance': 51, 'kStartAttraction': 0.001602294907040479}. Best is trial 3 with value: 6538.23.\u001b[0m\n"
     ]
    },
    {
     "name": "stdout",
     "output_type": "stream",
     "text": [
      "index_parallel='0005'\n"
     ]
    },
    {
     "name": "stderr",
     "output_type": "stream",
     "text": [
      "\u001b[32m[I 2022-08-15 21:46:10,318]\u001b[0m Trial 5 finished with value: 5328.375 and parameters: {'kErase': 2, 'kRadius': 3, 'kAnnealingA': 13.414917152836939, 'kAnnealingB': 0.6186331674494344, 'kAnnealingStart': 71.45218921336483, 'kSkipRatio': 0.3446834415521066, 'kTargetDeterminationTrials': 19, 'kAttractionRatio': 0.6955973360607944, 'kMaxAttractionDistance': 4, 'kStartAttraction': 0.01550105360646444}. Best is trial 3 with value: 6538.23.\u001b[0m\n"
     ]
    },
    {
     "name": "stdout",
     "output_type": "stream",
     "text": [
      "index_parallel='0006'\n"
     ]
    },
    {
     "name": "stderr",
     "output_type": "stream",
     "text": [
      "\u001b[32m[I 2022-08-15 21:49:59,675]\u001b[0m Trial 6 finished with value: 6736.275 and parameters: {'kErase': 1, 'kRadius': 2, 'kAnnealingA': 5.0837696009073845, 'kAnnealingB': 0.19515419561418623, 'kAnnealingStart': 10.488713060236593, 'kSkipRatio': 0.4739427295621438, 'kTargetDeterminationTrials': 16, 'kAttractionRatio': 0.03562302162425063, 'kMaxAttractionDistance': 9, 'kStartAttraction': 0.009229732995101417}. Best is trial 6 with value: 6736.275.\u001b[0m\n"
     ]
    },
    {
     "name": "stdout",
     "output_type": "stream",
     "text": [
      "Updated! 6736.275\n",
      "index_parallel='0007'\n"
     ]
    },
    {
     "name": "stderr",
     "output_type": "stream",
     "text": [
      "\u001b[32m[I 2022-08-15 21:53:49,718]\u001b[0m Trial 7 finished with value: 6425.23 and parameters: {'kErase': 5, 'kRadius': 3, 'kAnnealingA': 5.3058080222172705, 'kAnnealingB': 2.5706627423860557, 'kAnnealingStart': 1.2376568676548572, 'kSkipRatio': 0.7528406907487566, 'kTargetDeterminationTrials': 4, 'kAttractionRatio': 0.13669171977678307, 'kMaxAttractionDistance': 5, 'kStartAttraction': 0.03491802526277385}. Best is trial 6 with value: 6736.275.\u001b[0m\n"
     ]
    },
    {
     "name": "stdout",
     "output_type": "stream",
     "text": [
      "index_parallel='0008'\n"
     ]
    },
    {
     "name": "stderr",
     "output_type": "stream",
     "text": [
      "\u001b[32m[I 2022-08-15 21:57:39,077]\u001b[0m Trial 8 finished with value: 6375.78 and parameters: {'kErase': 2, 'kRadius': 2, 'kAnnealingA': 1.5540827749544555, 'kAnnealingB': 1.057935668446701, 'kAnnealingStart': 2.777390927513303, 'kSkipRatio': 0.22326840425046193, 'kTargetDeterminationTrials': 1, 'kAttractionRatio': 0.01349746394202809, 'kMaxAttractionDistance': 37, 'kStartAttraction': 0.15269742575248801}. Best is trial 6 with value: 6736.275.\u001b[0m\n"
     ]
    },
    {
     "name": "stdout",
     "output_type": "stream",
     "text": [
      "index_parallel='0009'\n"
     ]
    },
    {
     "name": "stderr",
     "output_type": "stream",
     "text": [
      "\u001b[32m[I 2022-08-15 22:01:28,811]\u001b[0m Trial 9 finished with value: 6631.885 and parameters: {'kErase': 2, 'kRadius': 3, 'kAnnealingA': 14.467656697596809, 'kAnnealingB': 2.4709902067222864, 'kAnnealingStart': 5.998136117729018, 'kSkipRatio': 0.7846664830047212, 'kTargetDeterminationTrials': 1, 'kAttractionRatio': 0.026976745191945716, 'kMaxAttractionDistance': 4, 'kStartAttraction': 0.15246396606174994}. Best is trial 6 with value: 6736.275.\u001b[0m\n"
     ]
    },
    {
     "name": "stdout",
     "output_type": "stream",
     "text": [
      "index_parallel='0010'\n"
     ]
    },
    {
     "name": "stderr",
     "output_type": "stream",
     "text": [
      "\u001b[32m[I 2022-08-15 22:05:18,819]\u001b[0m Trial 10 finished with value: 6180.65 and parameters: {'kErase': 4, 'kRadius': 6, 'kAnnealingA': -5.312122417392694, 'kAnnealingB': 0.01995095183693804, 'kAnnealingStart': 12.567798604541006, 'kSkipRatio': 0.41846751621633405, 'kTargetDeterminationTrials': 20, 'kAttractionRatio': 0.0446492248976948, 'kMaxAttractionDistance': 13, 'kStartAttraction': 0.5652320860547321}. Best is trial 6 with value: 6736.275.\u001b[0m\n"
     ]
    },
    {
     "name": "stdout",
     "output_type": "stream",
     "text": [
      "index_parallel='0011'\n"
     ]
    },
    {
     "name": "stderr",
     "output_type": "stream",
     "text": [
      "\u001b[32m[I 2022-08-15 22:09:08,060]\u001b[0m Trial 11 finished with value: 6670.875 and parameters: {'kErase': 1, 'kRadius': 3, 'kAnnealingA': 14.002351433928629, 'kAnnealingB': 1.8074917737919602, 'kAnnealingStart': 6.119694625958247, 'kSkipRatio': 0.5082698995431839, 'kTargetDeterminationTrials': 1, 'kAttractionRatio': 0.02112826066653497, 'kMaxAttractionDistance': 8, 'kStartAttraction': 0.11859749223797329}. Best is trial 6 with value: 6736.275.\u001b[0m\n"
     ]
    },
    {
     "name": "stdout",
     "output_type": "stream",
     "text": [
      "index_parallel='0012'\n"
     ]
    },
    {
     "name": "stderr",
     "output_type": "stream",
     "text": [
      "\u001b[32m[I 2022-08-15 22:12:57,769]\u001b[0m Trial 12 finished with value: 6768.085 and parameters: {'kErase': 1, 'kRadius': 3, 'kAnnealingA': 9.99037281587608, 'kAnnealingB': 1.7273429193973422, 'kAnnealingStart': 11.438056626773784, 'kSkipRatio': 0.47170089517873504, 'kTargetDeterminationTrials': 2, 'kAttractionRatio': 0.010231975309157851, 'kMaxAttractionDistance': 9, 'kStartAttraction': 0.12302597019197742}. Best is trial 12 with value: 6768.085.\u001b[0m\n"
     ]
    },
    {
     "name": "stdout",
     "output_type": "stream",
     "text": [
      "Updated! 6768.085\n",
      "index_parallel='0013'\n"
     ]
    },
    {
     "name": "stderr",
     "output_type": "stream",
     "text": [
      "\u001b[32m[I 2022-08-15 22:16:47,726]\u001b[0m Trial 13 finished with value: 5413.39 and parameters: {'kErase': 3, 'kRadius': 5, 'kAnnealingA': 9.869084258297779, 'kAnnealingB': 1.3841899884317224, 'kAnnealingStart': 15.682795730700898, 'kSkipRatio': 0.33461076784758814, 'kTargetDeterminationTrials': 2, 'kAttractionRatio': 0.013593064022832968, 'kMaxAttractionDistance': 25, 'kStartAttraction': 0.0071528210526939084}. Best is trial 12 with value: 6768.085.\u001b[0m\n"
     ]
    },
    {
     "name": "stdout",
     "output_type": "stream",
     "text": [
      "index_parallel='0014'\n"
     ]
    },
    {
     "name": "stderr",
     "output_type": "stream",
     "text": [
      "\u001b[32m[I 2022-08-15 22:20:37,120]\u001b[0m Trial 14 finished with value: 6568.76 and parameters: {'kErase': 1, 'kRadius': 2, 'kAnnealingA': -2.4954937752674127, 'kAnnealingB': 1.9594273233659973, 'kAnnealingStart': 7.010611934896593, 'kSkipRatio': 0.4215834562231434, 'kTargetDeterminationTrials': 2, 'kAttractionRatio': 0.03225445667642197, 'kMaxAttractionDistance': 9, 'kStartAttraction': 0.5787935410550493}. Best is trial 12 with value: 6768.085.\u001b[0m\n"
     ]
    },
    {
     "name": "stdout",
     "output_type": "stream",
     "text": [
      "index_parallel='0015'\n"
     ]
    },
    {
     "name": "stderr",
     "output_type": "stream",
     "text": [
      "\u001b[32m[I 2022-08-15 22:24:26,384]\u001b[0m Trial 15 finished with value: 6741.5 and parameters: {'kErase': 1, 'kRadius': 3, 'kAnnealingA': 1.3162426484244252, 'kAnnealingB': 0.0384551726552535, 'kAnnealingStart': 14.890722110157391, 'kSkipRatio': 0.6089842470183223, 'kTargetDeterminationTrials': 2, 'kAttractionRatio': 0.08505190514521557, 'kMaxAttractionDistance': 21, 'kStartAttraction': 0.05454127505552826}. Best is trial 12 with value: 6768.085.\u001b[0m\n"
     ]
    },
    {
     "name": "stdout",
     "output_type": "stream",
     "text": [
      "index_parallel='0016'\n"
     ]
    },
    {
     "name": "stderr",
     "output_type": "stream",
     "text": [
      "\u001b[32m[I 2022-08-15 22:28:16,417]\u001b[0m Trial 16 finished with value: 6527.92 and parameters: {'kErase': 4, 'kRadius': 4, 'kAnnealingA': -6.403341981409042, 'kAnnealingB': 1.0688650359405998, 'kAnnealingStart': 18.180376602055404, 'kSkipRatio': 0.6263983949334787, 'kTargetDeterminationTrials': 2, 'kAttractionRatio': 0.10927819610095155, 'kMaxAttractionDistance': 24, 'kStartAttraction': 0.06379376812411432}. Best is trial 12 with value: 6768.085.\u001b[0m\n"
     ]
    },
    {
     "name": "stdout",
     "output_type": "stream",
     "text": [
      "index_parallel='0017'\n"
     ]
    },
    {
     "name": "stderr",
     "output_type": "stream",
     "text": [
      "\u001b[32m[I 2022-08-15 22:32:06,152]\u001b[0m Trial 17 finished with value: 6523.695 and parameters: {'kErase': 2, 'kRadius': 5, 'kAnnealingA': 1.0660156771159994, 'kAnnealingB': 2.1268001251621547, 'kAnnealingStart': 3.641943578786721, 'kSkipRatio': 0.6857755049391034, 'kTargetDeterminationTrials': 2, 'kAttractionRatio': 0.06392655691337876, 'kMaxAttractionDistance': 21, 'kStartAttraction': 0.29527720996280377}. Best is trial 12 with value: 6768.085.\u001b[0m\n"
     ]
    },
    {
     "name": "stdout",
     "output_type": "stream",
     "text": [
      "index_parallel='0018'\n"
     ]
    },
    {
     "name": "stderr",
     "output_type": "stream",
     "text": [
      "\u001b[32m[I 2022-08-15 22:35:56,066]\u001b[0m Trial 18 finished with value: 6357.41 and parameters: {'kErase': 3, 'kRadius': 3, 'kAnnealingA': 11.307768130747995, 'kAnnealingB': 1.4177275150575215, 'kAnnealingStart': 20.07206443332519, 'kSkipRatio': 0.5551398348750534, 'kTargetDeterminationTrials': 3, 'kAttractionRatio': 0.19156644080931035, 'kMaxAttractionDistance': 94, 'kStartAttraction': 0.06060245682495519}. Best is trial 12 with value: 6768.085.\u001b[0m\n"
     ]
    },
    {
     "name": "stdout",
     "output_type": "stream",
     "text": [
      "index_parallel='0019'\n"
     ]
    },
    {
     "name": "stderr",
     "output_type": "stream",
     "text": [
      "\u001b[32m[I 2022-08-15 22:39:45,244]\u001b[0m Trial 19 finished with value: 5455.465 and parameters: {'kErase': 1, 'kRadius': 5, 'kAnnealingA': 8.18352458196742, 'kAnnealingB': 0.5093159295352377, 'kAnnealingStart': 82.32495342361594, 'kSkipRatio': 0.2982103361289258, 'kTargetDeterminationTrials': 9, 'kAttractionRatio': 0.06968439119208782, 'kMaxAttractionDistance': 12, 'kStartAttraction': 0.3345853513814029}. Best is trial 12 with value: 6768.085.\u001b[0m\n"
     ]
    },
    {
     "name": "stdout",
     "output_type": "stream",
     "text": [
      "index_parallel='0020'\n"
     ]
    },
    {
     "name": "stderr",
     "output_type": "stream",
     "text": [
      "\u001b[32m[I 2022-08-15 22:43:35,193]\u001b[0m Trial 20 finished with value: 6528.175 and parameters: {'kErase': 3, 'kRadius': 4, 'kAnnealingA': -3.3187221983773867, 'kAnnealingB': 1.1056523647094851, 'kAnnealingStart': 9.04715003601173, 'kSkipRatio': 0.5099968363389947, 'kTargetDeterminationTrials': 3, 'kAttractionRatio': 0.02153580408655565, 'kMaxAttractionDistance': 18, 'kStartAttraction': 0.07086309792412229}. Best is trial 12 with value: 6768.085.\u001b[0m\n"
     ]
    },
    {
     "name": "stdout",
     "output_type": "stream",
     "text": [
      "index_parallel='0021'\n"
     ]
    },
    {
     "name": "stderr",
     "output_type": "stream",
     "text": [
      "\u001b[32m[I 2022-08-15 22:47:24,395]\u001b[0m Trial 21 finished with value: 6695.025 and parameters: {'kErase': 1, 'kRadius': 2, 'kAnnealingA': 3.796226957380876, 'kAnnealingB': 0.00568241849355515, 'kAnnealingStart': 9.458341948944714, 'kSkipRatio': 0.5005810782940886, 'kTargetDeterminationTrials': 11, 'kAttractionRatio': 0.010405722237250156, 'kMaxAttractionDistance': 10, 'kStartAttraction': 0.017142818143874163}. Best is trial 12 with value: 6768.085.\u001b[0m\n"
     ]
    },
    {
     "name": "stdout",
     "output_type": "stream",
     "text": [
      "index_parallel='0022'\n"
     ]
    },
    {
     "name": "stderr",
     "output_type": "stream",
     "text": [
      "\u001b[32m[I 2022-08-15 22:51:13,811]\u001b[0m Trial 22 finished with value: 6743.52 and parameters: {'kErase': 1, 'kRadius': 3, 'kAnnealingA': 2.4237395238007395, 'kAnnealingB': 0.28167271443397457, 'kAnnealingStart': 12.709257164289157, 'kSkipRatio': 0.452944457210763, 'kTargetDeterminationTrials': 3, 'kAttractionRatio': 0.0413836290963873, 'kMaxAttractionDistance': 6, 'kStartAttraction': 0.005785255396023428}. Best is trial 12 with value: 6768.085.\u001b[0m\n"
     ]
    },
    {
     "name": "stdout",
     "output_type": "stream",
     "text": [
      "index_parallel='0023'\n"
     ]
    },
    {
     "name": "stderr",
     "output_type": "stream",
     "text": [
      "\u001b[32m[I 2022-08-15 22:55:03,507]\u001b[0m Trial 23 finished with value: 6416.79 and parameters: {'kErase': 2, 'kRadius': 3, 'kAnnealingA': -1.0687577110032336, 'kAnnealingB': 0.30881521620063707, 'kAnnealingStart': 22.719641275410304, 'kSkipRatio': 0.3776870250382831, 'kTargetDeterminationTrials': 3, 'kAttractionRatio': 0.04757787629717999, 'kMaxAttractionDistance': 6, 'kStartAttraction': 0.03163351165548856}. Best is trial 12 with value: 6768.085.\u001b[0m\n"
     ]
    },
    {
     "name": "stdout",
     "output_type": "stream",
     "text": [
      "index_parallel='0024'\n"
     ]
    },
    {
     "name": "stderr",
     "output_type": "stream",
     "text": [
      "\u001b[32m[I 2022-08-15 22:58:52,740]\u001b[0m Trial 24 finished with value: 6481.485 and parameters: {'kErase': 1, 'kRadius': 3, 'kAnnealingA': 2.0734755021543982, 'kAnnealingB': 0.8667656520868459, 'kAnnealingStart': 4.263472240373953, 'kSkipRatio': 0.6072743676897019, 'kTargetDeterminationTrials': 2, 'kAttractionRatio': 0.09579889606287512, 'kMaxAttractionDistance': 6, 'kStartAttraction': 0.004667522061407699}. Best is trial 12 with value: 6768.085.\u001b[0m\n"
     ]
    },
    {
     "name": "stdout",
     "output_type": "stream",
     "text": [
      "index_parallel='0025'\n"
     ]
    },
    {
     "name": "stderr",
     "output_type": "stream",
     "text": [
      "\u001b[32m[I 2022-08-15 23:02:42,315]\u001b[0m Trial 25 finished with value: 6497.795 and parameters: {'kErase': 2, 'kRadius': 3, 'kAnnealingA': -8.578802507113123, 'kAnnealingB': 1.5859767879549396, 'kAnnealingStart': 15.91465986080109, 'kSkipRatio': 0.6779787847142845, 'kTargetDeterminationTrials': 4, 'kAttractionRatio': 0.1437100014709643, 'kMaxAttractionDistance': 32, 'kStartAttraction': 0.003234193988706258}. Best is trial 12 with value: 6768.085.\u001b[0m\n"
     ]
    },
    {
     "name": "stdout",
     "output_type": "stream",
     "text": [
      "index_parallel='0026'\n"
     ]
    },
    {
     "name": "stderr",
     "output_type": "stream",
     "text": [
      "\u001b[32m[I 2022-08-15 23:06:31,540]\u001b[0m Trial 26 finished with value: 6625.38 and parameters: {'kErase': 1, 'kRadius': 4, 'kAnnealingA': 8.092310117684523, 'kAnnealingB': 0.3340769381145296, 'kAnnealingStart': 47.63300092395249, 'kSkipRatio': 0.56044654937266, 'kTargetDeterminationTrials': 3, 'kAttractionRatio': 0.01698612536899955, 'kMaxAttractionDistance': 16, 'kStartAttraction': 0.01937547383156349}. Best is trial 12 with value: 6768.085.\u001b[0m\n"
     ]
    },
    {
     "name": "stdout",
     "output_type": "stream",
     "text": [
      "index_parallel='0027'\n"
     ]
    },
    {
     "name": "stderr",
     "output_type": "stream",
     "text": [
      "\u001b[32m[I 2022-08-15 23:10:20,912]\u001b[0m Trial 27 finished with value: 6724.11 and parameters: {'kErase': 1, 'kRadius': 4, 'kAnnealingA': -1.0739420411164522, 'kAnnealingB': 0.7434874370922957, 'kAnnealingStart': 12.981326283593614, 'kSkipRatio': 0.4525477546977228, 'kTargetDeterminationTrials': 4, 'kAttractionRatio': 0.04542110768623903, 'kMaxAttractionDistance': 11, 'kStartAttraction': 0.27873342927686673}. Best is trial 12 with value: 6768.085.\u001b[0m\n"
     ]
    },
    {
     "name": "stdout",
     "output_type": "stream",
     "text": [
      "index_parallel='0028'\n"
     ]
    },
    {
     "name": "stderr",
     "output_type": "stream",
     "text": [
      "\u001b[32m[I 2022-08-15 23:14:10,660]\u001b[0m Trial 28 finished with value: 6619.44 and parameters: {'kErase': 2, 'kRadius': 3, 'kAnnealingA': 11.003779174220666, 'kAnnealingB': 0.39728967427186135, 'kAnnealingStart': 8.194353620371865, 'kSkipRatio': 0.3813779663546601, 'kTargetDeterminationTrials': 2, 'kAttractionRatio': 0.07041385765856827, 'kMaxAttractionDistance': 5, 'kStartAttraction': 0.10282865396910489}. Best is trial 12 with value: 6768.085.\u001b[0m\n"
     ]
    },
    {
     "name": "stdout",
     "output_type": "stream",
     "text": [
      "index_parallel='0029'\n"
     ]
    },
    {
     "name": "stderr",
     "output_type": "stream",
     "text": [
      "\u001b[32m[I 2022-08-15 23:18:00,822]\u001b[0m Trial 29 finished with value: 6414.825 and parameters: {'kErase': 4, 'kRadius': 4, 'kAnnealingA': 3.0589311953810747, 'kAnnealingB': 2.14239327111864, 'kAnnealingStart': 1.6407623876521118, 'kSkipRatio': 0.6494325632166988, 'kTargetDeterminationTrials': 1, 'kAttractionRatio': 0.06228910077695785, 'kMaxAttractionDistance': 7, 'kStartAttraction': 0.011712886828078554}. Best is trial 12 with value: 6768.085.\u001b[0m\n"
     ]
    },
    {
     "name": "stdout",
     "output_type": "stream",
     "text": [
      "index_parallel='0030'\n"
     ]
    },
    {
     "name": "stderr",
     "output_type": "stream",
     "text": [
      "\u001b[32m[I 2022-08-15 23:21:51,104]\u001b[0m Trial 30 finished with value: 6307.27 and parameters: {'kErase': 5, 'kRadius': 3, 'kAnnealingA': 8.011038285335102, 'kAnnealingB': 1.5992343767548076, 'kAnnealingStart': 4.616091367561947, 'kSkipRatio': 0.5370101229448148, 'kTargetDeterminationTrials': 4, 'kAttractionRatio': 0.010046878211515956, 'kMaxAttractionDistance': 14, 'kStartAttraction': 0.0010647635725130763}. Best is trial 12 with value: 6768.085.\u001b[0m\n"
     ]
    },
    {
     "name": "stdout",
     "output_type": "stream",
     "text": [
      "index_parallel='0031'\n"
     ]
    },
    {
     "name": "stderr",
     "output_type": "stream",
     "text": [
      "\u001b[32m[I 2022-08-15 23:25:40,358]\u001b[0m Trial 31 finished with value: 6762.905 and parameters: {'kErase': 1, 'kRadius': 2, 'kAnnealingA': 6.055597263401033, 'kAnnealingB': 0.18379346072323133, 'kAnnealingStart': 11.69452294422002, 'kSkipRatio': 0.46775743943227044, 'kTargetDeterminationTrials': 13, 'kAttractionRatio': 0.032907776745269304, 'kMaxAttractionDistance': 9, 'kStartAttraction': 0.00783566158450778}. Best is trial 12 with value: 6768.085.\u001b[0m\n"
     ]
    },
    {
     "name": "stdout",
     "output_type": "stream",
     "text": [
      "index_parallel='0032'\n"
     ]
    },
    {
     "name": "stderr",
     "output_type": "stream",
     "text": [
      "\u001b[32m[I 2022-08-15 23:29:29,888]\u001b[0m Trial 32 finished with value: 6757.78 and parameters: {'kErase': 1, 'kRadius': 2, 'kAnnealingA': 6.041870486827532, 'kAnnealingB': 0.16689614527135646, 'kAnnealingStart': 13.257861971583168, 'kSkipRatio': 0.46842335243592637, 'kTargetDeterminationTrials': 12, 'kAttractionRatio': 0.026331311440326938, 'kMaxAttractionDistance': 5, 'kStartAttraction': 0.0034242379117646717}. Best is trial 12 with value: 6768.085.\u001b[0m\n"
     ]
    },
    {
     "name": "stdout",
     "output_type": "stream",
     "text": [
      "index_parallel='0033'\n"
     ]
    },
    {
     "name": "stderr",
     "output_type": "stream",
     "text": [
      "\u001b[32m[I 2022-08-15 23:33:19,194]\u001b[0m Trial 33 finished with value: 6773.03 and parameters: {'kErase': 1, 'kRadius': 2, 'kAnnealingA': 6.326591628176591, 'kAnnealingB': 0.810262846240829, 'kAnnealingStart': 11.977514456725963, 'kSkipRatio': 0.4693878705546405, 'kTargetDeterminationTrials': 12, 'kAttractionRatio': 0.021940754276329567, 'kMaxAttractionDistance': 5, 'kStartAttraction': 0.004851654631890661}. Best is trial 33 with value: 6773.03.\u001b[0m\n"
     ]
    },
    {
     "name": "stdout",
     "output_type": "stream",
     "text": [
      "Updated! 6773.03\n",
      "index_parallel='0034'\n"
     ]
    },
    {
     "name": "stderr",
     "output_type": "stream",
     "text": [
      "\u001b[32m[I 2022-08-15 23:37:09,219]\u001b[0m Trial 34 finished with value: 6260.61 and parameters: {'kErase': 2, 'kRadius': 2, 'kAnnealingA': 6.740264442842324, 'kAnnealingB': 0.8451861505349583, 'kAnnealingStart': 26.819922102594013, 'kSkipRatio': 0.4832110592772877, 'kTargetDeterminationTrials': 13, 'kAttractionRatio': 0.024339386340774097, 'kMaxAttractionDistance': 5, 'kStartAttraction': 0.0036379452602703483}. Best is trial 33 with value: 6773.03.\u001b[0m\n"
     ]
    },
    {
     "name": "stdout",
     "output_type": "stream",
     "text": [
      "index_parallel='0035'\n"
     ]
    },
    {
     "name": "stderr",
     "output_type": "stream",
     "text": [
      "\u001b[32m[I 2022-08-15 23:40:58,493]\u001b[0m Trial 35 finished with value: 6163.23 and parameters: {'kErase': 1, 'kRadius': 2, 'kAnnealingA': 6.295036466626352, 'kAnnealingB': 0.5350302974644533, 'kAnnealingStart': 32.10727336975518, 'kSkipRatio': 0.3850690152477757, 'kTargetDeterminationTrials': 8, 'kAttractionRatio': 0.017276926491793864, 'kMaxAttractionDistance': 4, 'kStartAttraction': 0.0023061912882512193}. Best is trial 33 with value: 6773.03.\u001b[0m\n"
     ]
    },
    {
     "name": "stdout",
     "output_type": "stream",
     "text": [
      "index_parallel='0036'\n"
     ]
    },
    {
     "name": "stderr",
     "output_type": "stream",
     "text": [
      "\u001b[32m[I 2022-08-15 23:44:47,745]\u001b[0m Trial 36 finished with value: 6772.42 and parameters: {'kErase': 1, 'kRadius': 2, 'kAnnealingA': 10.319847170819846, 'kAnnealingB': 1.2022077184967686, 'kAnnealingStart': 10.69931378865476, 'kSkipRatio': 0.43492759052904606, 'kTargetDeterminationTrials': 13, 'kAttractionRatio': 0.014202240610261504, 'kMaxAttractionDistance': 7, 'kStartAttraction': 0.0022700478326928616}. Best is trial 33 with value: 6773.03.\u001b[0m\n"
     ]
    },
    {
     "name": "stdout",
     "output_type": "stream",
     "text": [
      "index_parallel='0037'\n"
     ]
    },
    {
     "name": "stderr",
     "output_type": "stream",
     "text": [
      "\u001b[32m[I 2022-08-15 23:48:37,552]\u001b[0m Trial 37 finished with value: 6340.84 and parameters: {'kErase': 2, 'kRadius': 2, 'kAnnealingA': 11.836946104101276, 'kAnnealingB': 1.3113395221455453, 'kAnnealingStart': 7.365268606715117, 'kSkipRatio': 0.29299158804789416, 'kTargetDeterminationTrials': 15, 'kAttractionRatio': 0.014396427661451168, 'kMaxAttractionDistance': 8, 'kStartAttraction': 0.0017886399913323136}. Best is trial 33 with value: 6773.03.\u001b[0m\n"
     ]
    },
    {
     "name": "stdout",
     "output_type": "stream",
     "text": [
      "index_parallel='0038'\n"
     ]
    },
    {
     "name": "stderr",
     "output_type": "stream",
     "text": [
      "\u001b[32m[I 2022-08-15 23:52:26,798]\u001b[0m Trial 38 finished with value: 6633.84 and parameters: {'kErase': 1, 'kRadius': 2, 'kAnnealingA': 9.68365253702406, 'kAnnealingB': 1.2573709623337452, 'kAnnealingStart': 5.355807029764012, 'kSkipRatio': 0.41601005710587063, 'kTargetDeterminationTrials': 10, 'kAttractionRatio': 0.019096920403750012, 'kMaxAttractionDistance': 7, 'kStartAttraction': 0.00783863302242772}. Best is trial 33 with value: 6773.03.\u001b[0m\n"
     ]
    },
    {
     "name": "stdout",
     "output_type": "stream",
     "text": [
      "index_parallel='0039'\n"
     ]
    },
    {
     "name": "stderr",
     "output_type": "stream",
     "text": [
      "\u001b[32m[I 2022-08-15 23:56:16,418]\u001b[0m Trial 39 finished with value: 6743.655 and parameters: {'kErase': 2, 'kRadius': 2, 'kAnnealingA': 11.86012395281993, 'kAnnealingB': 1.7217891216592456, 'kAnnealingStart': 10.441412636083692, 'kSkipRatio': 0.51488838726355, 'kTargetDeterminationTrials': 6, 'kAttractionRatio': 0.012908573472293615, 'kMaxAttractionDistance': 7, 'kStartAttraction': 0.010255182963069542}. Best is trial 33 with value: 6773.03.\u001b[0m\n"
     ]
    },
    {
     "name": "stdout",
     "output_type": "stream",
     "text": [
      "index_parallel='0040'\n"
     ]
    },
    {
     "name": "stderr",
     "output_type": "stream",
     "text": [
      "\u001b[32m[I 2022-08-16 00:00:05,714]\u001b[0m Trial 40 finished with value: 5845.62 and parameters: {'kErase': 1, 'kRadius': 2, 'kAnnealingA': 9.251667453420197, 'kAnnealingB': 1.191213708340194, 'kAnnealingStart': 23.708553968386735, 'kSkipRatio': 0.329080844337736, 'kTargetDeterminationTrials': 15, 'kAttractionRatio': 0.029256838053896415, 'kMaxAttractionDistance': 10, 'kStartAttraction': 0.0010350175276300797}. Best is trial 33 with value: 6773.03.\u001b[0m\n"
     ]
    },
    {
     "name": "stdout",
     "output_type": "stream",
     "text": [
      "index_parallel='0041'\n"
     ]
    },
    {
     "name": "stderr",
     "output_type": "stream",
     "text": [
      "\u001b[32m[I 2022-08-16 00:03:54,874]\u001b[0m Trial 41 finished with value: 6741.055 and parameters: {'kErase': 1, 'kRadius': 2, 'kAnnealingA': 4.78615546438844, 'kAnnealingB': 0.9226938383487635, 'kAnnealingStart': 10.004835145593669, 'kSkipRatio': 0.466439337954378, 'kTargetDeterminationTrials': 12, 'kAttractionRatio': 0.011623161769090952, 'kMaxAttractionDistance': 5, 'kStartAttraction': 0.0023663454165965864}. Best is trial 33 with value: 6773.03.\u001b[0m\n"
     ]
    },
    {
     "name": "stdout",
     "output_type": "stream",
     "text": [
      "index_parallel='0042'\n"
     ]
    },
    {
     "name": "stderr",
     "output_type": "stream",
     "text": [
      "\u001b[32m[I 2022-08-16 00:07:44,410]\u001b[0m Trial 42 finished with value: 6737.285 and parameters: {'kErase': 1, 'kRadius': 2, 'kAnnealingA': 6.185785472640135, 'kAnnealingB': 0.14758560952989375, 'kAnnealingStart': 11.936807799757704, 'kSkipRatio': 0.43927216248338435, 'kTargetDeterminationTrials': 8, 'kAttractionRatio': 0.01516526612392977, 'kMaxAttractionDistance': 4, 'kStartAttraction': 0.004990050635489026}. Best is trial 33 with value: 6773.03.\u001b[0m\n"
     ]
    },
    {
     "name": "stdout",
     "output_type": "stream",
     "text": [
      "index_parallel='0043'\n"
     ]
    },
    {
     "name": "stderr",
     "output_type": "stream",
     "text": [
      "\u001b[32m[I 2022-08-16 00:11:33,814]\u001b[0m Trial 43 finished with value: 5620.025 and parameters: {'kErase': 1, 'kRadius': 2, 'kAnnealingA': 13.254827013201709, 'kAnnealingB': 0.7675001301996988, 'kAnnealingStart': 41.898713395822185, 'kSkipRatio': 0.401090462931744, 'kTargetDeterminationTrials': 17, 'kAttractionRatio': 0.02312394949264226, 'kMaxAttractionDistance': 5, 'kStartAttraction': 0.003115205759317663}. Best is trial 33 with value: 6773.03.\u001b[0m\n"
     ]
    },
    {
     "name": "stdout",
     "output_type": "stream",
     "text": [
      "index_parallel='0044'\n"
     ]
    },
    {
     "name": "stderr",
     "output_type": "stream",
     "text": [
      "\u001b[32m[I 2022-08-16 00:15:23,252]\u001b[0m Trial 44 finished with value: 6774.61 and parameters: {'kErase': 1, 'kRadius': 2, 'kAnnealingA': 4.120546618601312, 'kAnnealingB': 0.6419053779965171, 'kAnnealingStart': 16.92445894568808, 'kSkipRatio': 0.4695345785073992, 'kTargetDeterminationTrials': 13, 'kAttractionRatio': 0.03642384938969192, 'kMaxAttractionDistance': 8, 'kStartAttraction': 0.0016444572324311498}. Best is trial 44 with value: 6774.61.\u001b[0m\n"
     ]
    },
    {
     "name": "stdout",
     "output_type": "stream",
     "text": [
      "Updated! 6774.61\n",
      "index_parallel='0045'\n"
     ]
    },
    {
     "name": "stderr",
     "output_type": "stream",
     "text": [
      "\u001b[32m[I 2022-08-16 00:19:13,164]\u001b[0m Trial 45 finished with value: 6743.58 and parameters: {'kErase': 2, 'kRadius': 2, 'kAnnealingA': 7.80374973412531, 'kAnnealingB': 0.5870554147305287, 'kAnnealingStart': 18.435527985834437, 'kSkipRatio': 0.5324158905192938, 'kTargetDeterminationTrials': 20, 'kAttractionRatio': 0.034812225611868086, 'kMaxAttractionDistance': 8, 'kStartAttraction': 0.0015462383484313668}. Best is trial 44 with value: 6774.61.\u001b[0m\n"
     ]
    },
    {
     "name": "stdout",
     "output_type": "stream",
     "text": [
      "index_parallel='0046'\n"
     ]
    },
    {
     "name": "stderr",
     "output_type": "stream",
     "text": [
      "\u001b[32m[I 2022-08-16 00:23:02,444]\u001b[0m Trial 46 finished with value: 6228.67 and parameters: {'kErase': 1, 'kRadius': 2, 'kAnnealingA': 3.6048261046242907, 'kAnnealingB': 0.6996872595054471, 'kAnnealingStart': 33.529295321980534, 'kSkipRatio': 0.3599559097036876, 'kTargetDeterminationTrials': 7, 'kAttractionRatio': 0.01733041260568279, 'kMaxAttractionDistance': 9, 'kStartAttraction': 0.0019215033188910008}. Best is trial 44 with value: 6774.61.\u001b[0m\n"
     ]
    },
    {
     "name": "stdout",
     "output_type": "stream",
     "text": [
      "index_parallel='0047'\n"
     ]
    },
    {
     "name": "stderr",
     "output_type": "stream",
     "text": [
      "\u001b[32m[I 2022-08-16 00:26:51,944]\u001b[0m Trial 47 finished with value: 6609.69 and parameters: {'kErase': 2, 'kRadius': 2, 'kAnnealingA': 9.9072690705808, 'kAnnealingB': 0.9843241476840489, 'kAnnealingStart': 6.730353035238859, 'kSkipRatio': 0.4874055510085218, 'kTargetDeterminationTrials': 14, 'kAttractionRatio': 0.03544872940865978, 'kMaxAttractionDistance': 12, 'kStartAttraction': 0.02387381017182712}. Best is trial 44 with value: 6774.61.\u001b[0m\n"
     ]
    },
    {
     "name": "stdout",
     "output_type": "stream",
     "text": [
      "index_parallel='0048'\n"
     ]
    },
    {
     "name": "stderr",
     "output_type": "stream",
     "text": [
      "\u001b[32m[I 2022-08-16 00:30:41,314]\u001b[0m Trial 48 finished with value: 6015.055 and parameters: {'kErase': 1, 'kRadius': 3, 'kAnnealingA': 4.752370271051061, 'kAnnealingB': 0.4287068932530721, 'kAnnealingStart': 60.21289568142467, 'kSkipRatio': 0.41132795557153107, 'kTargetDeterminationTrials': 10, 'kAttractionRatio': 0.7696845472753642, 'kMaxAttractionDistance': 6, 'kStartAttraction': 0.013007552165575767}. Best is trial 44 with value: 6774.61.\u001b[0m\n"
     ]
    },
    {
     "name": "stdout",
     "output_type": "stream",
     "text": [
      "index_parallel='0049'\n"
     ]
    },
    {
     "name": "stderr",
     "output_type": "stream",
     "text": [
      "\u001b[32m[I 2022-08-16 00:34:30,694]\u001b[0m Trial 49 finished with value: 6840.88 and parameters: {'kErase': 1, 'kRadius': 3, 'kAnnealingA': 9.0161704492096, 'kAnnealingB': 1.9072791247195455, 'kAnnealingStart': 17.95603905531916, 'kSkipRatio': 0.5606850634921197, 'kTargetDeterminationTrials': 17, 'kAttractionRatio': 0.01973603682494546, 'kMaxAttractionDistance': 16, 'kStartAttraction': 0.004406040570899675}. Best is trial 49 with value: 6840.88.\u001b[0m\n"
     ]
    },
    {
     "name": "stdout",
     "output_type": "stream",
     "text": [
      "Updated! 6840.88\n",
      "index_parallel='0050'\n"
     ]
    },
    {
     "name": "stderr",
     "output_type": "stream",
     "text": [
      "\u001b[32m[I 2022-08-16 00:38:20,600]\u001b[0m Trial 50 finished with value: 6706.695 and parameters: {'kErase': 2, 'kRadius': 3, 'kAnnealingA': 14.843588345358338, 'kAnnealingB': 1.9793613037533695, 'kAnnealingStart': 15.692565922298343, 'kSkipRatio': 0.5828817782740531, 'kTargetDeterminationTrials': 17, 'kAttractionRatio': 0.3399365553078003, 'kMaxAttractionDistance': 16, 'kStartAttraction': 0.001294462478860911}. Best is trial 49 with value: 6840.88.\u001b[0m\n"
     ]
    },
    {
     "name": "stdout",
     "output_type": "stream",
     "text": [
      "index_parallel='0051'\n"
     ]
    },
    {
     "name": "stderr",
     "output_type": "stream",
     "text": [
      "\u001b[32m[I 2022-08-16 00:42:10,112]\u001b[0m Trial 51 finished with value: 6673.83 and parameters: {'kErase': 1, 'kRadius': 2, 'kAnnealingA': 12.936452536208314, 'kAnnealingB': 1.8407753947446488, 'kAnnealingStart': 21.870896339530287, 'kSkipRatio': 0.5309480979786196, 'kTargetDeterminationTrials': 18, 'kAttractionRatio': 0.020842436980067023, 'kMaxAttractionDistance': 11, 'kStartAttraction': 0.004563255291581728}. Best is trial 49 with value: 6840.88.\u001b[0m\n"
     ]
    },
    {
     "name": "stdout",
     "output_type": "stream",
     "text": [
      "index_parallel='0052'\n"
     ]
    },
    {
     "name": "stderr",
     "output_type": "stream",
     "text": [
      "\u001b[32m[I 2022-08-16 00:45:59,517]\u001b[0m Trial 52 finished with value: 6703.045 and parameters: {'kErase': 1, 'kRadius': 2, 'kAnnealingA': 8.919203312031934, 'kAnnealingB': 1.4968507572341756, 'kAnnealingStart': 8.340328792647622, 'kSkipRatio': 0.4427804364178087, 'kTargetDeterminationTrials': 13, 'kAttractionRatio': 0.012193855839968182, 'kMaxAttractionDistance': 8, 'kStartAttraction': 0.007778360583348862}. Best is trial 49 with value: 6840.88.\u001b[0m\n"
     ]
    },
    {
     "name": "stdout",
     "output_type": "stream",
     "text": [
      "index_parallel='0053'\n"
     ]
    },
    {
     "name": "stderr",
     "output_type": "stream",
     "text": [
      "\u001b[32m[I 2022-08-16 00:49:49,101]\u001b[0m Trial 53 finished with value: 6809.875 and parameters: {'kErase': 1, 'kRadius': 3, 'kAnnealingA': 10.73204139496488, 'kAnnealingB': 2.2664316563971596, 'kAnnealingStart': 17.36463337885413, 'kSkipRatio': 0.5747910696536682, 'kTargetDeterminationTrials': 10, 'kAttractionRatio': 0.05431823528496875, 'kMaxAttractionDistance': 10, 'kStartAttraction': 0.0028379446780529083}. Best is trial 49 with value: 6840.88.\u001b[0m\n"
     ]
    },
    {
     "name": "stdout",
     "output_type": "stream",
     "text": [
      "index_parallel='0054'\n"
     ]
    },
    {
     "name": "stderr",
     "output_type": "stream",
     "text": [
      "\u001b[32m[I 2022-08-16 00:53:38,130]\u001b[0m Trial 54 finished with value: 6654.475 and parameters: {'kErase': 1, 'kRadius': 3, 'kAnnealingA': 10.586362135805034, 'kAnnealingB': 2.2959483671260448, 'kAnnealingStart': 27.2117003778021, 'kSkipRatio': 0.5759578549234491, 'kTargetDeterminationTrials': 10, 'kAttractionRatio': 0.053292570505164144, 'kMaxAttractionDistance': 13, 'kStartAttraction': 0.002471970211581374}. Best is trial 49 with value: 6840.88.\u001b[0m\n"
     ]
    },
    {
     "name": "stdout",
     "output_type": "stream",
     "text": [
      "index_parallel='0055'\n"
     ]
    },
    {
     "name": "stderr",
     "output_type": "stream",
     "text": [
      "\u001b[32m[I 2022-08-16 00:57:27,362]\u001b[0m Trial 55 finished with value: 6799.895 and parameters: {'kErase': 1, 'kRadius': 3, 'kAnnealingA': 12.639454455075935, 'kAnnealingB': 2.678034777538693, 'kAnnealingStart': 17.944555028573628, 'kSkipRatio': 0.5988943078204423, 'kTargetDeterminationTrials': 5, 'kAttractionRatio': 0.027454396363350616, 'kMaxAttractionDistance': 55, 'kStartAttraction': 0.001266239491517272}. Best is trial 49 with value: 6840.88.\u001b[0m\n"
     ]
    },
    {
     "name": "stdout",
     "output_type": "stream",
     "text": [
      "index_parallel='0056'\n"
     ]
    },
    {
     "name": "stderr",
     "output_type": "stream",
     "text": [
      "\u001b[32m[I 2022-08-16 01:01:16,710]\u001b[0m Trial 56 finished with value: 6780.565 and parameters: {'kErase': 1, 'kRadius': 3, 'kAnnealingA': 12.14447926940022, 'kAnnealingB': 2.766805456497731, 'kAnnealingStart': 17.577862418271387, 'kSkipRatio': 0.6235525452938381, 'kTargetDeterminationTrials': 7, 'kAttractionRatio': 0.042577685640881796, 'kMaxAttractionDistance': 55, 'kStartAttraction': 0.001218161208468729}. Best is trial 49 with value: 6840.88.\u001b[0m\n"
     ]
    },
    {
     "name": "stdout",
     "output_type": "stream",
     "text": [
      "index_parallel='0057'\n"
     ]
    },
    {
     "name": "stderr",
     "output_type": "stream",
     "text": [
      "\u001b[32m[I 2022-08-16 01:05:05,953]\u001b[0m Trial 57 finished with value: 6770.26 and parameters: {'kErase': 1, 'kRadius': 3, 'kAnnealingA': 13.849796766963983, 'kAnnealingB': 2.819918829523474, 'kAnnealingStart': 17.97324794025203, 'kSkipRatio': 0.7221550323561176, 'kTargetDeterminationTrials': 6, 'kAttractionRatio': 0.040156292545843075, 'kMaxAttractionDistance': 66, 'kStartAttraction': 0.0012694410510838139}. Best is trial 49 with value: 6840.88.\u001b[0m\n"
     ]
    },
    {
     "name": "stdout",
     "output_type": "stream",
     "text": [
      "index_parallel='0058'\n"
     ]
    },
    {
     "name": "stderr",
     "output_type": "stream",
     "text": [
      "\u001b[32m[I 2022-08-16 01:08:56,464]\u001b[0m Trial 58 finished with value: 6238.975 and parameters: {'kErase': 4, 'kRadius': 3, 'kAnnealingA': 12.552058041555918, 'kAnnealingB': 2.598462550729189, 'kAnnealingStart': 25.61106015436567, 'kSkipRatio': 0.6149614023307848, 'kTargetDeterminationTrials': 5, 'kAttractionRatio': 0.055457420878618185, 'kMaxAttractionDistance': 46, 'kStartAttraction': 0.0015082483449834938}. Best is trial 49 with value: 6840.88.\u001b[0m\n"
     ]
    },
    {
     "name": "stdout",
     "output_type": "stream",
     "text": [
      "index_parallel='0059'\n"
     ]
    },
    {
     "name": "stderr",
     "output_type": "stream",
     "text": [
      "\u001b[32m[I 2022-08-16 01:12:46,192]\u001b[0m Trial 59 finished with value: 6530.865 and parameters: {'kErase': 2, 'kRadius': 6, 'kAnnealingA': 12.144205623170116, 'kAnnealingB': 2.854384748661336, 'kAnnealingStart': 37.31368919679224, 'kSkipRatio': 0.6350932867508183, 'kTargetDeterminationTrials': 5, 'kAttractionRatio': 0.03004047551599105, 'kMaxAttractionDistance': 62, 'kStartAttraction': 0.002824076454484904}. Best is trial 49 with value: 6840.88.\u001b[0m\n"
     ]
    },
    {
     "name": "stdout",
     "output_type": "stream",
     "text": [
      "index_parallel='0060'\n"
     ]
    },
    {
     "name": "stderr",
     "output_type": "stream",
     "text": [
      "\u001b[32m[I 2022-08-16 01:16:35,218]\u001b[0m Trial 60 finished with value: 6785.22 and parameters: {'kErase': 1, 'kRadius': 4, 'kAnnealingA': 7.2964857806485, 'kAnnealingB': 2.6321660869269987, 'kAnnealingStart': 20.053423014887084, 'kSkipRatio': 0.5993859487332595, 'kTargetDeterminationTrials': 8, 'kAttractionRatio': 0.07733122469687921, 'kMaxAttractionDistance': 31, 'kStartAttraction': 0.0019599699858209043}. Best is trial 49 with value: 6840.88.\u001b[0m\n"
     ]
    },
    {
     "name": "stdout",
     "output_type": "stream",
     "text": [
      "index_parallel='0061'\n"
     ]
    },
    {
     "name": "stderr",
     "output_type": "stream",
     "text": [
      "\u001b[32m[I 2022-08-16 01:20:24,638]\u001b[0m Trial 61 finished with value: 6801.83 and parameters: {'kErase': 1, 'kRadius': 5, 'kAnnealingA': 7.417492321841371, 'kAnnealingB': 2.59604627271463, 'kAnnealingStart': 20.643574789399153, 'kSkipRatio': 0.5917009443247891, 'kTargetDeterminationTrials': 8, 'kAttractionRatio': 0.039721596974927165, 'kMaxAttractionDistance': 31, 'kStartAttraction': 0.0017123505162431817}. Best is trial 49 with value: 6840.88.\u001b[0m\n"
     ]
    },
    {
     "name": "stdout",
     "output_type": "stream",
     "text": [
      "index_parallel='0062'\n"
     ]
    },
    {
     "name": "stderr",
     "output_type": "stream",
     "text": [
      "\u001b[32m[I 2022-08-16 01:24:13,991]\u001b[0m Trial 62 finished with value: 6749.34 and parameters: {'kErase': 1, 'kRadius': 5, 'kAnnealingA': 11.086841394675059, 'kAnnealingB': 2.604314925053203, 'kAnnealingStart': 20.362179286288097, 'kSkipRatio': 0.6832440817508767, 'kTargetDeterminationTrials': 8, 'kAttractionRatio': 0.07662340802040207, 'kMaxAttractionDistance': 31, 'kStartAttraction': 0.001854821271333066}. Best is trial 49 with value: 6840.88.\u001b[0m\n"
     ]
    },
    {
     "name": "stdout",
     "output_type": "stream",
     "text": [
      "index_parallel='0063'\n"
     ]
    },
    {
     "name": "stderr",
     "output_type": "stream",
     "text": [
      "\u001b[32m[I 2022-08-16 01:28:03,261]\u001b[0m Trial 63 finished with value: 6752.525 and parameters: {'kErase': 1, 'kRadius': 5, 'kAnnealingA': 8.733832144754366, 'kAnnealingB': 2.3292039503551125, 'kAnnealingStart': 14.732304274010787, 'kSkipRatio': 0.5965414546167107, 'kTargetDeterminationTrials': 7, 'kAttractionRatio': 0.11513618659937895, 'kMaxAttractionDistance': 54, 'kStartAttraction': 0.001010169913453846}. Best is trial 49 with value: 6840.88.\u001b[0m\n"
     ]
    },
    {
     "name": "stdout",
     "output_type": "stream",
     "text": [
      "index_parallel='0064'\n"
     ]
    },
    {
     "name": "stderr",
     "output_type": "stream",
     "text": [
      "\u001b[32m[I 2022-08-16 01:31:52,445]\u001b[0m Trial 64 finished with value: 6632.46 and parameters: {'kErase': 1, 'kRadius': 5, 'kAnnealingA': 7.600084155052127, 'kAnnealingB': 2.9762261961024215, 'kAnnealingStart': 28.860208662600403, 'kSkipRatio': 0.5567037749663694, 'kTargetDeterminationTrials': 9, 'kAttractionRatio': 0.042371639667846, 'kMaxAttractionDistance': 84, 'kStartAttraction': 0.0013139119424891187}. Best is trial 49 with value: 6840.88.\u001b[0m\n"
     ]
    },
    {
     "name": "stdout",
     "output_type": "stream",
     "text": [
      "index_parallel='0065'\n"
     ]
    },
    {
     "name": "stderr",
     "output_type": "stream",
     "text": [
      "\u001b[32m[I 2022-08-16 01:35:42,331]\u001b[0m Trial 65 finished with value: 6505.735 and parameters: {'kErase': 3, 'kRadius': 4, 'kAnnealingA': -12.432192630382557, 'kAnnealingB': 2.702292678380233, 'kAnnealingStart': 21.345254168623832, 'kSkipRatio': 0.6287674909453842, 'kTargetDeterminationTrials': 9, 'kAttractionRatio': 0.05178127271409063, 'kMaxAttractionDistance': 39, 'kStartAttraction': 0.0019656832929516735}. Best is trial 49 with value: 6840.88.\u001b[0m\n"
     ]
    },
    {
     "name": "stdout",
     "output_type": "stream",
     "text": [
      "index_parallel='0066'\n"
     ]
    },
    {
     "name": "stderr",
     "output_type": "stream",
     "text": [
      "\u001b[32m[I 2022-08-16 01:39:31,420]\u001b[0m Trial 66 finished with value: 6756.93 and parameters: {'kErase': 1, 'kRadius': 4, 'kAnnealingA': 0.3227324063601924, 'kAnnealingB': 2.4755607178780332, 'kAnnealingStart': 17.421951397373252, 'kSkipRatio': 0.6617392670350896, 'kTargetDeterminationTrials': 6, 'kAttractionRatio': 0.08565556199724368, 'kMaxAttractionDistance': 32, 'kStartAttraction': 0.003915639258070665}. Best is trial 49 with value: 6840.88.\u001b[0m\n"
     ]
    },
    {
     "name": "stdout",
     "output_type": "stream",
     "text": [
      "index_parallel='0067'\n"
     ]
    },
    {
     "name": "stderr",
     "output_type": "stream",
     "text": [
      "\u001b[32m[I 2022-08-16 01:43:20,917]\u001b[0m Trial 67 finished with value: 6778.93 and parameters: {'kErase': 1, 'kRadius': 4, 'kAnnealingA': 7.230707443018019, 'kAnnealingB': 2.701069866207677, 'kAnnealingStart': 14.422397463140843, 'kSkipRatio': 0.5727867712799598, 'kTargetDeterminationTrials': 7, 'kAttractionRatio': 0.05926379301033154, 'kMaxAttractionDistance': 46, 'kStartAttraction': 0.0015462623343332356}. Best is trial 49 with value: 6840.88.\u001b[0m\n"
     ]
    },
    {
     "name": "stdout",
     "output_type": "stream",
     "text": [
      "index_parallel='0068'\n"
     ]
    },
    {
     "name": "stderr",
     "output_type": "stream",
     "text": [
      "\u001b[32m[I 2022-08-16 01:47:10,329]\u001b[0m Trial 68 finished with value: 6783.57 and parameters: {'kErase': 1, 'kRadius': 4, 'kAnnealingA': 13.189418724085746, 'kAnnealingB': 2.6899931720448698, 'kAnnealingStart': 14.009292741274793, 'kSkipRatio': 0.5698436736090234, 'kTargetDeterminationTrials': 7, 'kAttractionRatio': 0.05612842914123091, 'kMaxAttractionDistance': 27, 'kStartAttraction': 0.0028310413972175647}. Best is trial 49 with value: 6840.88.\u001b[0m\n"
     ]
    },
    {
     "name": "stdout",
     "output_type": "stream",
     "text": [
      "index_parallel='0069'\n"
     ]
    },
    {
     "name": "stderr",
     "output_type": "stream",
     "text": [
      "\u001b[32m[I 2022-08-16 01:50:59,843]\u001b[0m Trial 69 finished with value: 6748.28 and parameters: {'kErase': 1, 'kRadius': 4, 'kAnnealingA': 14.44863860243454, 'kAnnealingB': 2.454227789220426, 'kAnnealingStart': 19.80002399030607, 'kSkipRatio': 0.7067709679451153, 'kTargetDeterminationTrials': 5, 'kAttractionRatio': 0.10406213318087283, 'kMaxAttractionDistance': 26, 'kStartAttraction': 0.005997498381129966}. Best is trial 49 with value: 6840.88.\u001b[0m\n"
     ]
    },
    {
     "name": "stdout",
     "output_type": "stream",
     "text": [
      "index_parallel='0070'\n"
     ]
    },
    {
     "name": "stderr",
     "output_type": "stream",
     "text": [
      "\u001b[32m[I 2022-08-16 01:54:49,591]\u001b[0m Trial 70 finished with value: 6589.595 and parameters: {'kErase': 2, 'kRadius': 4, 'kAnnealingA': 13.087369655812886, 'kAnnealingB': 2.8683236352820134, 'kAnnealingStart': 23.99169586845788, 'kSkipRatio': 0.5974515087143567, 'kTargetDeterminationTrials': 6, 'kAttractionRatio': 0.13215729083769387, 'kMaxAttractionDistance': 21, 'kStartAttraction': 0.002601038185650943}. Best is trial 49 with value: 6840.88.\u001b[0m\n"
     ]
    },
    {
     "name": "stdout",
     "output_type": "stream",
     "text": [
      "index_parallel='0071'\n"
     ]
    },
    {
     "name": "stderr",
     "output_type": "stream",
     "text": [
      "\u001b[32m[I 2022-08-16 01:58:39,230]\u001b[0m Trial 71 finished with value: 6755.085 and parameters: {'kErase': 1, 'kRadius': 4, 'kAnnealingA': 11.009303148801731, 'kAnnealingB': 2.7795182245270964, 'kAnnealingStart': 13.516732943953714, 'kSkipRatio': 0.5848481945496895, 'kTargetDeterminationTrials': 7, 'kAttractionRatio': 0.061261373434199545, 'kMaxAttractionDistance': 44, 'kStartAttraction': 0.00123219214961772}. Best is trial 49 with value: 6840.88.\u001b[0m\n"
     ]
    },
    {
     "name": "stdout",
     "output_type": "stream",
     "text": [
      "index_parallel='0072'\n"
     ]
    },
    {
     "name": "stderr",
     "output_type": "stream",
     "text": [
      "\u001b[32m[I 2022-08-16 02:02:28,845]\u001b[0m Trial 72 finished with value: 6793.04 and parameters: {'kErase': 1, 'kRadius': 4, 'kAnnealingA': 7.098615833644273, 'kAnnealingB': 2.64198624256915, 'kAnnealingStart': 14.784560913619396, 'kSkipRatio': 0.5678259128388684, 'kTargetDeterminationTrials': 8, 'kAttractionRatio': 0.07696360565031017, 'kMaxAttractionDistance': 28, 'kStartAttraction': 0.002091821797112206}. Best is trial 49 with value: 6840.88.\u001b[0m\n"
     ]
    },
    {
     "name": "stdout",
     "output_type": "stream",
     "text": [
      "index_parallel='0073'\n"
     ]
    },
    {
     "name": "stderr",
     "output_type": "stream",
     "text": [
      "\u001b[32m[I 2022-08-16 02:06:18,111]\u001b[0m Trial 73 finished with value: 6739.015 and parameters: {'kErase': 1, 'kRadius': 6, 'kAnnealingA': 9.07667989122963, 'kAnnealingB': 2.2568191059819265, 'kAnnealingStart': 15.689197511635202, 'kSkipRatio': 0.6453918788364792, 'kTargetDeterminationTrials': 8, 'kAttractionRatio': 0.048040988499274365, 'kMaxAttractionDistance': 28, 'kStartAttraction': 0.0019606307533346903}. Best is trial 49 with value: 6840.88.\u001b[0m\n"
     ]
    },
    {
     "name": "stdout",
     "output_type": "stream",
     "text": [
      "index_parallel='0074'\n"
     ]
    },
    {
     "name": "stderr",
     "output_type": "stream",
     "text": [
      "\u001b[32m[I 2022-08-16 02:10:07,474]\u001b[0m Trial 74 finished with value: 6706.26 and parameters: {'kErase': 1, 'kRadius': 4, 'kAnnealingA': 13.954053636913848, 'kAnnealingB': 2.5289823362786885, 'kAnnealingStart': 20.310169680038474, 'kSkipRatio': 0.5523058405466015, 'kTargetDeterminationTrials': 9, 'kAttractionRatio': 0.07570524090744836, 'kMaxAttractionDistance': 35, 'kStartAttraction': 0.003964545619375802}. Best is trial 49 with value: 6840.88.\u001b[0m\n"
     ]
    },
    {
     "name": "stdout",
     "output_type": "stream",
     "text": [
      "index_parallel='0075'\n"
     ]
    },
    {
     "name": "stderr",
     "output_type": "stream",
     "text": [
      "\u001b[32m[I 2022-08-16 02:13:56,576]\u001b[0m Trial 75 finished with value: 6702.105 and parameters: {'kErase': 1, 'kRadius': 5, 'kAnnealingA': 12.202717531818955, 'kAnnealingB': 2.6284965100522717, 'kAnnealingStart': 31.17337192347558, 'kSkipRatio': 0.6686941526545864, 'kTargetDeterminationTrials': 11, 'kAttractionRatio': 0.026841475232628847, 'kMaxAttractionDistance': 19, 'kStartAttraction': 0.002705287794717054}. Best is trial 49 with value: 6840.88.\u001b[0m\n"
     ]
    },
    {
     "name": "stdout",
     "output_type": "stream",
     "text": [
      "index_parallel='0076'\n"
     ]
    },
    {
     "name": "stderr",
     "output_type": "stream",
     "text": [
      "\u001b[32m[I 2022-08-16 02:17:45,764]\u001b[0m Trial 76 finished with value: 6711.2 and parameters: {'kErase': 1, 'kRadius': 3, 'kAnnealingA': 8.557542992065123, 'kAnnealingB': 2.374511538759407, 'kAnnealingStart': 24.667629348651907, 'kSkipRatio': 0.6194301278742587, 'kTargetDeterminationTrials': 6, 'kAttractionRatio': 0.18592666051294057, 'kMaxAttractionDistance': 22, 'kStartAttraction': 0.0020671021236761465}. Best is trial 49 with value: 6840.88.\u001b[0m\n"
     ]
    },
    {
     "name": "stdout",
     "output_type": "stream",
     "text": [
      "index_parallel='0077'\n"
     ]
    },
    {
     "name": "stderr",
     "output_type": "stream",
     "text": [
      "\u001b[32m[I 2022-08-16 02:21:34,873]\u001b[0m Trial 77 finished with value: 6740.69 and parameters: {'kErase': 1, 'kRadius': 4, 'kAnnealingA': 11.498400850451048, 'kAnnealingB': 2.2029556537933934, 'kAnnealingStart': 17.975040814982673, 'kSkipRatio': 0.5422228639089358, 'kTargetDeterminationTrials': 8, 'kAttractionRatio': 0.09133948503119814, 'kMaxAttractionDistance': 24, 'kStartAttraction': 0.0011983070832553876}. Best is trial 49 with value: 6840.88.\u001b[0m\n"
     ]
    },
    {
     "name": "stdout",
     "output_type": "stream",
     "text": [
      "index_parallel='0078'\n"
     ]
    },
    {
     "name": "stderr",
     "output_type": "stream",
     "text": [
      "\u001b[32m[I 2022-08-16 02:25:23,851]\u001b[0m Trial 78 finished with value: 6665.835 and parameters: {'kErase': 1, 'kRadius': 3, 'kAnnealingA': 5.493270519276702, 'kAnnealingB': 2.6921005462867806, 'kAnnealingStart': 9.299551896309652, 'kSkipRatio': 0.6045343239943632, 'kTargetDeterminationTrials': 11, 'kAttractionRatio': 0.06618493907518842, 'kMaxAttractionDistance': 28, 'kStartAttraction': 0.0031866914289245332}. Best is trial 49 with value: 6840.88.\u001b[0m\n"
     ]
    },
    {
     "name": "stdout",
     "output_type": "stream",
     "text": [
      "index_parallel='0079'\n"
     ]
    },
    {
     "name": "stderr",
     "output_type": "stream",
     "text": [
      "\u001b[32m[I 2022-08-16 02:29:13,015]\u001b[0m Trial 79 finished with value: 6783.7 and parameters: {'kErase': 1, 'kRadius': 4, 'kAnnealingA': 9.779907515869432, 'kAnnealingB': 2.5209965413648177, 'kAnnealingStart': 13.904982203277164, 'kSkipRatio': 0.5197600302652852, 'kTargetDeterminationTrials': 10, 'kAttractionRatio': 0.039341543699100236, 'kMaxAttractionDistance': 18, 'kStartAttraction': 0.001482384594017063}. Best is trial 49 with value: 6840.88.\u001b[0m\n"
     ]
    },
    {
     "name": "stdout",
     "output_type": "stream",
     "text": [
      "index_parallel='0080'\n"
     ]
    },
    {
     "name": "stderr",
     "output_type": "stream",
     "text": [
      "\u001b[32m[I 2022-08-16 02:33:02,329]\u001b[0m Trial 80 finished with value: 6765.785 and parameters: {'kErase': 1, 'kRadius': 4, 'kAnnealingA': 10.339407027939425, 'kAnnealingB': 2.007756908267548, 'kAnnealingStart': 13.75417935353545, 'kSkipRatio': 0.5175294297278363, 'kTargetDeterminationTrials': 10, 'kAttractionRatio': 0.07542263652940308, 'kMaxAttractionDistance': 18, 'kStartAttraction': 0.004084628207174009}. Best is trial 49 with value: 6840.88.\u001b[0m\n"
     ]
    },
    {
     "name": "stdout",
     "output_type": "stream",
     "text": [
      "index_parallel='0081'\n"
     ]
    }
   ],
   "source": [
    "study.optimize(\n",
    "    partial(objective, in_dir=in_dir, work_dir=work_dir),\n",
    "    n_trials=3000,\n",
    "    timeout=86400,\n",
    "    callbacks=[callback]\n",
    ")"
   ]
  },
  {
   "cell_type": "code",
   "execution_count": null,
   "id": "700269d2",
   "metadata": {},
   "outputs": [],
   "source": []
  }
 ],
 "metadata": {
  "kernelspec": {
   "display_name": "Python 3 (ipykernel)",
   "language": "python",
   "name": "python3"
  },
  "language_info": {
   "codemirror_mode": {
    "name": "ipython",
    "version": 3
   },
   "file_extension": ".py",
   "mimetype": "text/x-python",
   "name": "python",
   "nbconvert_exporter": "python",
   "pygments_lexer": "ipython3",
   "version": "3.9.12"
  }
 },
 "nbformat": 4,
 "nbformat_minor": 5
}
