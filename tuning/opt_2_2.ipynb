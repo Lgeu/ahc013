{
 "cells": [
  {
   "cell_type": "code",
   "execution_count": 1,
   "id": "25a1dac8",
   "metadata": {},
   "outputs": [],
   "source": [
    "import re\n",
    "import sys\n",
    "from uuid import uuid1\n",
    "from time import sleep\n",
    "from pprint import pprint\n",
    "from pathlib import Path\n",
    "from tempfile import gettempdir\n",
    "from threading import Thread\n",
    "from functools import partial\n",
    "from subprocess import Popen, PIPE\n",
    "\n",
    "from tqdm.notebook import tqdm\n",
    "import numpy as np\n",
    "import optuna\n",
    "import pandas as pd\n",
    "import matplotlib.pyplot as plt\n",
    "\n",
    "FILENAME = \"main.cpp\""
   ]
  },
  {
   "cell_type": "code",
   "execution_count": 2,
   "id": "3dd4d02e",
   "metadata": {},
   "outputs": [
    {
     "name": "stdout",
     "output_type": "stream",
     "text": [
      "10 variables were found.\n"
     ]
    },
    {
     "data": {
      "text/html": [
       "<div>\n",
       "<style scoped>\n",
       "    .dataframe tbody tr th:only-of-type {\n",
       "        vertical-align: middle;\n",
       "    }\n",
       "\n",
       "    .dataframe tbody tr th {\n",
       "        vertical-align: top;\n",
       "    }\n",
       "\n",
       "    .dataframe thead th {\n",
       "        text-align: right;\n",
       "    }\n",
       "</style>\n",
       "<table border=\"1\" class=\"dataframe\">\n",
       "  <thead>\n",
       "    <tr style=\"text-align: right;\">\n",
       "      <th></th>\n",
       "      <th>name</th>\n",
       "      <th>method</th>\n",
       "      <th>min</th>\n",
       "      <th>max</th>\n",
       "      <th>log</th>\n",
       "      <th>left</th>\n",
       "      <th>right</th>\n",
       "    </tr>\n",
       "  </thead>\n",
       "  <tbody>\n",
       "    <tr>\n",
       "      <th>0</th>\n",
       "      <td>kErase</td>\n",
       "      <td>suggest_int</td>\n",
       "      <td>1.000</td>\n",
       "      <td>5.0</td>\n",
       "      <td>False</td>\n",
       "      <td>static constexpr auto kErase =</td>\n",
       "      <td>;             // OPTIMIZE [1, 5]</td>\n",
       "    </tr>\n",
       "    <tr>\n",
       "      <th>1</th>\n",
       "      <td>kRadius</td>\n",
       "      <td>suggest_int</td>\n",
       "      <td>2.000</td>\n",
       "      <td>6.0</td>\n",
       "      <td>False</td>\n",
       "      <td>static constexpr auto kRadius =</td>\n",
       "      <td>;            // OPTIMIZE [2, 6]</td>\n",
       "    </tr>\n",
       "    <tr>\n",
       "      <th>2</th>\n",
       "      <td>kAnnealingA</td>\n",
       "      <td>suggest_float</td>\n",
       "      <td>-15.000</td>\n",
       "      <td>15.0</td>\n",
       "      <td>False</td>\n",
       "      <td>static constexpr auto kAnnealingA =</td>\n",
       "      <td>;      // OPTIMIZE [-15.0, 15.0]</td>\n",
       "    </tr>\n",
       "    <tr>\n",
       "      <th>3</th>\n",
       "      <td>kAnnealingB</td>\n",
       "      <td>suggest_float</td>\n",
       "      <td>0.000</td>\n",
       "      <td>3.0</td>\n",
       "      <td>False</td>\n",
       "      <td>static constexpr auto kAnnealingB =</td>\n",
       "      <td>;      // OPTIMIZE [0.0, 3.0]</td>\n",
       "    </tr>\n",
       "    <tr>\n",
       "      <th>4</th>\n",
       "      <td>kAnnealingStart</td>\n",
       "      <td>suggest_float</td>\n",
       "      <td>1.000</td>\n",
       "      <td>100.0</td>\n",
       "      <td>True</td>\n",
       "      <td>static constexpr auto kAnnealingStart =</td>\n",
       "      <td>; // OPTIMIZE LOG [1.0, 100.0]</td>\n",
       "    </tr>\n",
       "    <tr>\n",
       "      <th>5</th>\n",
       "      <td>kSkipRatio</td>\n",
       "      <td>suggest_float</td>\n",
       "      <td>0.200</td>\n",
       "      <td>0.8</td>\n",
       "      <td>False</td>\n",
       "      <td>static constexpr auto kSkipRatio =</td>\n",
       "      <td>;       // OPTIMIZE [0.2, 0.8]</td>\n",
       "    </tr>\n",
       "    <tr>\n",
       "      <th>6</th>\n",
       "      <td>kTargetDeterminationTrials</td>\n",
       "      <td>suggest_int</td>\n",
       "      <td>1.000</td>\n",
       "      <td>20.0</td>\n",
       "      <td>True</td>\n",
       "      <td>static constexpr auto kTargetDeterminationTria...</td>\n",
       "      <td>; // OPTIMIZE LOG [1, 20]</td>\n",
       "    </tr>\n",
       "    <tr>\n",
       "      <th>7</th>\n",
       "      <td>kAttractionRatio</td>\n",
       "      <td>suggest_float</td>\n",
       "      <td>0.010</td>\n",
       "      <td>0.9</td>\n",
       "      <td>True</td>\n",
       "      <td>static constexpr auto kAttractionRatio =</td>\n",
       "      <td>;      // OPTIMIZE LOG [0.01, 0.9]</td>\n",
       "    </tr>\n",
       "    <tr>\n",
       "      <th>8</th>\n",
       "      <td>kMaxAttractionDistance</td>\n",
       "      <td>suggest_int</td>\n",
       "      <td>4.000</td>\n",
       "      <td>99.0</td>\n",
       "      <td>True</td>\n",
       "      <td>static constexpr auto kMaxAttractionDistance =</td>\n",
       "      <td>; // OPTIMIZE LOG [4, 99]</td>\n",
       "    </tr>\n",
       "    <tr>\n",
       "      <th>9</th>\n",
       "      <td>kStartAttraction</td>\n",
       "      <td>suggest_float</td>\n",
       "      <td>0.001</td>\n",
       "      <td>0.9</td>\n",
       "      <td>True</td>\n",
       "      <td>static constexpr auto kStartAttraction =</td>\n",
       "      <td>;     // OPTIMIZE LOG [0.001, 0.9]</td>\n",
       "    </tr>\n",
       "  </tbody>\n",
       "</table>\n",
       "</div>"
      ],
      "text/plain": [
       "                         name         method     min    max    log  \\\n",
       "0                      kErase    suggest_int   1.000    5.0  False   \n",
       "1                     kRadius    suggest_int   2.000    6.0  False   \n",
       "2                 kAnnealingA  suggest_float -15.000   15.0  False   \n",
       "3                 kAnnealingB  suggest_float   0.000    3.0  False   \n",
       "4             kAnnealingStart  suggest_float   1.000  100.0   True   \n",
       "5                  kSkipRatio  suggest_float   0.200    0.8  False   \n",
       "6  kTargetDeterminationTrials    suggest_int   1.000   20.0   True   \n",
       "7            kAttractionRatio  suggest_float   0.010    0.9   True   \n",
       "8      kMaxAttractionDistance    suggest_int   4.000   99.0   True   \n",
       "9            kStartAttraction  suggest_float   0.001    0.9   True   \n",
       "\n",
       "                                                left  \\\n",
       "0                    static constexpr auto kErase =    \n",
       "1                   static constexpr auto kRadius =    \n",
       "2               static constexpr auto kAnnealingA =    \n",
       "3               static constexpr auto kAnnealingB =    \n",
       "4           static constexpr auto kAnnealingStart =    \n",
       "5                static constexpr auto kSkipRatio =    \n",
       "6  static constexpr auto kTargetDeterminationTria...   \n",
       "7          static constexpr auto kAttractionRatio =    \n",
       "8    static constexpr auto kMaxAttractionDistance =    \n",
       "9          static constexpr auto kStartAttraction =    \n",
       "\n",
       "                                right  \n",
       "0    ;             // OPTIMIZE [1, 5]  \n",
       "1     ;            // OPTIMIZE [2, 6]  \n",
       "2    ;      // OPTIMIZE [-15.0, 15.0]  \n",
       "3       ;      // OPTIMIZE [0.0, 3.0]  \n",
       "4      ; // OPTIMIZE LOG [1.0, 100.0]  \n",
       "5      ;       // OPTIMIZE [0.2, 0.8]  \n",
       "6           ; // OPTIMIZE LOG [1, 20]  \n",
       "7  ;      // OPTIMIZE LOG [0.01, 0.9]  \n",
       "8           ; // OPTIMIZE LOG [4, 99]  \n",
       "9  ;     // OPTIMIZE LOG [0.001, 0.9]  "
      ]
     },
     "metadata": {},
     "output_type": "display_data"
    }
   ],
   "source": [
    "# ここでエラー出力は何かおかしいかもしれない\n",
    "\n",
    "\n",
    "# パラメータ抽出\n",
    "with open(FILENAME) as f:\n",
    "    answer = f.read()\n",
    "\n",
    "\n",
    "variables_optimize = []\n",
    "\n",
    "for left, value, right, options in re.findall(r\"^([^/\\n]*=\\s*)(.+?)(\\s*;\\s*//(?:.*\\W)?OPTIMIZE(\\W.*))$\", answer, re.MULTILINE):\n",
    "    name = left.replace(\"=\", \"\").strip().split()[-1]\n",
    "    \n",
    "    searched = re.search(r\".*\\[(?P<min>.*),(?P<max>.*)\\].*\", options)\n",
    "    if searched:\n",
    "        min_value = max_value = None\n",
    "        try:\n",
    "            min_value = eval(searched.group(\"min\"))\n",
    "            max_value = eval(searched.group(\"max\"))\n",
    "            assert min_value <= max_value\n",
    "        except Exception as e:\n",
    "            print(f\"searched={searched}\", file=sys.stderr)\n",
    "            print(e, file=sys.stderr)\n",
    "            continue\n",
    "        log = \"LOG\" in options  # 雑、直したほうが良い\n",
    "        if type(min_value) != type(max_value):\n",
    "            print(f\"searched={searched}\", file=sys.stderr)\n",
    "            print(\"types not matched\", file=sys.stderr)\n",
    "            continue\n",
    "        if isinstance(min_value, int):\n",
    "            method = \"suggest_int\"\n",
    "        elif isinstance(min_value, float):\n",
    "            method = \"suggest_float\"\n",
    "        else:\n",
    "            print(f\"searched={searched}\", file=sys.stderr)\n",
    "            print(f\"unknown type ({type(min_value)})\", file=sys.stderr)\n",
    "            continue\n",
    "        variables_optimize.append({\n",
    "            \"name\": name,\n",
    "            \"method\": method,\n",
    "            \"min\": min_value,\n",
    "            \"max\": max_value,\n",
    "            \"log\": log,\n",
    "            \"left\": left,\n",
    "            \"right\": right,\n",
    "        })\n",
    "    elif searched := re.search(r\".*\\{(?P<choices>.*?)\\}.*\", options):\n",
    "        choices = list(map(lambda x: x.strip(), searched.group(\"choices\").split(\",\")))\n",
    "        variables_optimize.append({\n",
    "            \"name\": name,\n",
    "            \"method\": \"suggest_categorical\",\n",
    "            \"choices\": choices,\n",
    "            \"left\": left,\n",
    "            \"right\": right,\n",
    "        })\n",
    "    else:\n",
    "        print(f\"searched={searched}\", file=sys.stderr)\n",
    "        print(f\"pattern was matched but options are incorrect.\", file=sys.stderr)\n",
    "\n",
    "print(len(variables_optimize), \"variables were found.\")\n",
    "if globals().get(\"pd\"):\n",
    "    display(pd.DataFrame(variables_optimize))\n",
    "else:\n",
    "    pprint(variables_optimize)"
   ]
  },
  {
   "cell_type": "code",
   "execution_count": 3,
   "id": "001042b9",
   "metadata": {},
   "outputs": [],
   "source": [
    "def escape(string):  # 正規表現の中でそのまま使いたい文字列をエスケープ\n",
    "    res = !echo '{string}' | sed -e 's/[]\\/$*.^[]/\\\\&/g'\n",
    "    return res[0]\n",
    "\n",
    "def escape_sed(string):  # sed の置換後の文字列用のエスケープ\n",
    "    res = !echo '{string}' | sed -e 's/[\\/&]/\\\\&/g'\n",
    "    return res[0]\n",
    "\n",
    "def read_stream(name, in_file, out_file):\n",
    "    for line in in_file:\n",
    "        print(f\"[{name}] {line.strip()}\", file=out_file)\n",
    "\n",
    "def run(cmd, name):\n",
    "    proc = Popen(cmd, stdout=PIPE, stderr=PIPE, universal_newlines=True, shell=isinstance(cmd, str))\n",
    "    stdout_thread = Thread(target=read_stream, args=(name, proc.stdout, sys.stdout))\n",
    "    stderr_thread = Thread(target=read_stream, args=(name, proc.stderr, sys.stderr))\n",
    "    stdout_thread.start()\n",
    "    stderr_thread.start()\n",
    "    proc.wait()\n",
    "    return proc\n",
    "\n",
    "def objective(trial, in_dir, work_dir):\n",
    "    n_internal_parallel = 3\n",
    "    \n",
    "    index_parallel = f\"{trial.number:04d}\"\n",
    "    print(f\"{index_parallel=}\")\n",
    "    \n",
    "    work_dir = Path(work_dir)\n",
    "    directory_input = Path(in_dir)  # 中のすべてのファイルに対して実行される\n",
    "    #parameters_changed_filename = Path(gettempdir()) / str(uuid1())\n",
    "    parameters_changed_filename = work_dir / f\"{index_parallel}_{FILENAME}\"\n",
    "    \n",
    "    run([\"mkdir\", f\"{work_dir / index_parallel}_out\"], \"mkdir\")\n",
    "    run([\"mkdir\", f\"{work_dir / index_parallel}_score\"], \"mkdir\")\n",
    "    \n",
    "    # ファイル作成\n",
    "    run(f\"cp {FILENAME} {parameters_changed_filename}\", \"cp\")\n",
    "    sed_options = [f\"-i {parameters_changed_filename}\"]\n",
    "    for variable in variables_optimize:\n",
    "        if variable[\"method\"] == \"suggest_categorical\":\n",
    "            val =  trial.suggest_categorical(variable[\"name\"], variable[\"choices\"])\n",
    "        else:\n",
    "            val = getattr(trial, variable[\"method\"])(variable[\"name\"], variable[\"min\"], variable[\"max\"], log=variable[\"log\"])\n",
    "        left = variable[\"left\"]\n",
    "        right = variable[\"right\"]\n",
    "        sed_options.append(f\"\"\"-e 's/^{escape(left)}.*{escape(right)}$/{escape_sed(left)}{val}{escape_sed(right)}/'\"\"\")\n",
    "    command_sed = f\"sed {' '.join(sed_options)}\"\n",
    "    #print(command_sed)\n",
    "    run(command_sed, \"sed\")\n",
    "    \n",
    "    # コンパイル\n",
    "    command_compile = f\"g++ {parameters_changed_filename} -std=gnu++17 -O2 -DONLINE_JUDGE -o {parameters_changed_filename}.out\"\n",
    "    #print(command_compile)\n",
    "    run(command_compile, \"compile\")\n",
    "    # 実行・採点コマンド (@ はファイル名)\n",
    "    command_exec = (\n",
    "        #f\"./a.out < ./tools/in/{i:04d}.txt > {out_file} && ./tools/target/release/vis ./tools/in/{i:04d}.txt {out_file}\"\n",
    "        #f\"../tools/target/release/tester $(pwd)/{parameters_changed_filename}.out < {directory_input}/@ 2>&1 | grep Score\"\n",
    "        #f\"../tools/target/release/tester $(pwd)/{parameters_changed_filename}.out < {directory_input}/@ 2>&1 | grep Score | sed -E s/[^0-9]+// > ./{index_parallel}_score/@;\"\n",
    "        #f\"cargo run --release --manifest-path ../tools/Cargo.toml --bin tester {directory_input}/@ $(pwd)/{parameters_changed_filename}.out 2>&1 | grep Score | sed -E s/[^0-9]+// > ./{index_parallel}_score/@;\"\n",
    "        f\"./{parameters_changed_filename}.out < {directory_input}/@ > {work_dir / index_parallel}_out/@;\"\n",
    "        f\"../tools/target/release/vis {directory_input}/@ {work_dir / index_parallel}_out/@ 2> /dev/null > {work_dir / index_parallel}_score/@;\"\n",
    "    )\n",
    "    # 並列実行 (sed はパスのディレクトリ部分を消してファイル名にしてる)\n",
    "    run(f\"find {directory_input}/* | sed 's!^.*/!!' | xargs -I@ -P {n_internal_parallel} sh -c '{command_exec}'\", \"exec\")\n",
    "    \n",
    "    # 集計\n",
    "    scores = []\n",
    "    for file_path in Path(f\"{work_dir / index_parallel}_score/\").iterdir():  \n",
    "        with open(file_path) as f:\n",
    "            scores.append(int(f.readline().strip().split()[-1]))\n",
    "    mean_score = sum(scores) / len(scores)\n",
    "    \n",
    "    # 後始末\n",
    "    run(f\"rm -rf {work_dir / index_parallel}_out\", \"rm\")\n",
    "    run(f\"rm -rf {work_dir / index_parallel}_score\", \"rm\")\n",
    "    #run(f\"rm {parameters_changed_filename}\", \"rm\")\n",
    "    run(f\"rm {parameters_changed_filename}.out\", \"rm\")\n",
    "    \n",
    "    return mean_score"
   ]
  },
  {
   "cell_type": "code",
   "execution_count": 4,
   "id": "2d2e133c",
   "metadata": {},
   "outputs": [
    {
     "name": "stderr",
     "output_type": "stream",
     "text": [
      "\u001b[32m[I 2022-08-15 21:23:13,400]\u001b[0m A new study created in RDB with name: study_2_2\u001b[0m\n"
     ]
    }
   ],
   "source": [
    "K = 2\n",
    "N_CLASS = 2\n",
    "\n",
    "in_dir = Path(f\"in_{K}_{N_CLASS}\")\n",
    "work_dir = Path(f\"work_{K}_{N_CLASS}\")\n",
    "\n",
    "study_name = f\"study_{K}_{N_CLASS}\"\n",
    "storage_path = work_dir / \"study.db\"\n",
    "storage = f\"sqlite:///{storage_path}\"\n",
    "study = optuna.create_study(storage=storage, load_if_exists=True, study_name=study_name, direction=\"maximize\")\n",
    "\n",
    "def callback(study, trial):\n",
    "    try:\n",
    "        index_parallel = f\"{trial.number:04d}\"\n",
    "        parameters_changed_filename = work_dir / f\"{index_parallel}_{FILENAME}\"\n",
    "        if study.best_value == trial.value:\n",
    "            print(f\"Updated! {study.best_value}\")\n",
    "            !cp {parameters_changed_filename} {work_dir / \"best_parameters.cpp\"}\n",
    "        !rm {parameters_changed_filename}\n",
    "    except:\n",
    "        print(\":(\")\n"
   ]
  },
  {
   "cell_type": "code",
   "execution_count": null,
   "id": "61c2901d",
   "metadata": {},
   "outputs": [
    {
     "name": "stdout",
     "output_type": "stream",
     "text": [
      "index_parallel='0000'\n"
     ]
    },
    {
     "name": "stderr",
     "output_type": "stream",
     "text": [
      "\u001b[32m[I 2022-08-15 21:27:03,008]\u001b[0m Trial 0 finished with value: 6371.515 and parameters: {'kErase': 5, 'kRadius': 4, 'kAnnealingA': 7.186228283357938, 'kAnnealingB': 1.8034936387291154, 'kAnnealingStart': 2.447206862492587, 'kSkipRatio': 0.6536745081399118, 'kTargetDeterminationTrials': 5, 'kAttractionRatio': 0.06459460959325049, 'kMaxAttractionDistance': 63, 'kStartAttraction': 0.0013802529746432307}. Best is trial 0 with value: 6371.515.\u001b[0m\n"
     ]
    },
    {
     "name": "stdout",
     "output_type": "stream",
     "text": [
      "Updated! 6371.515\n",
      "index_parallel='0001'\n"
     ]
    },
    {
     "name": "stderr",
     "output_type": "stream",
     "text": [
      "\u001b[32m[I 2022-08-15 21:30:52,171]\u001b[0m Trial 1 finished with value: 6404.74 and parameters: {'kErase': 1, 'kRadius': 2, 'kAnnealingA': -11.426998515743966, 'kAnnealingB': 2.7475147187479476, 'kAnnealingStart': 37.17652418392763, 'kSkipRatio': 0.4382512063568594, 'kTargetDeterminationTrials': 6, 'kAttractionRatio': 0.42898539061248064, 'kMaxAttractionDistance': 7, 'kStartAttraction': 0.02980673798224508}. Best is trial 1 with value: 6404.74.\u001b[0m\n"
     ]
    },
    {
     "name": "stdout",
     "output_type": "stream",
     "text": [
      "Updated! 6404.74\n",
      "index_parallel='0002'\n"
     ]
    },
    {
     "name": "stderr",
     "output_type": "stream",
     "text": [
      "\u001b[32m[I 2022-08-15 21:34:41,938]\u001b[0m Trial 2 finished with value: 6490.365 and parameters: {'kErase': 3, 'kRadius': 4, 'kAnnealingA': 4.65790444736858, 'kAnnealingB': 0.6078136903480579, 'kAnnealingStart': 27.106930351906904, 'kSkipRatio': 0.5876151833563272, 'kTargetDeterminationTrials': 7, 'kAttractionRatio': 0.226484202779619, 'kMaxAttractionDistance': 40, 'kStartAttraction': 0.006547403713370379}. Best is trial 2 with value: 6490.365.\u001b[0m\n"
     ]
    },
    {
     "name": "stdout",
     "output_type": "stream",
     "text": [
      "Updated! 6490.365\n",
      "index_parallel='0003'\n"
     ]
    },
    {
     "name": "stderr",
     "output_type": "stream",
     "text": [
      "\u001b[32m[I 2022-08-15 21:38:31,596]\u001b[0m Trial 3 finished with value: 6538.23 and parameters: {'kErase': 2, 'kRadius': 6, 'kAnnealingA': -14.038622059886205, 'kAnnealingB': 2.4194619788247143, 'kAnnealingStart': 30.181455117879093, 'kSkipRatio': 0.7526563894866065, 'kTargetDeterminationTrials': 6, 'kAttractionRatio': 0.24019884918422404, 'kMaxAttractionDistance': 15, 'kStartAttraction': 0.0024416929773488586}. Best is trial 3 with value: 6538.23.\u001b[0m\n"
     ]
    },
    {
     "name": "stdout",
     "output_type": "stream",
     "text": [
      "Updated! 6538.23\n",
      "index_parallel='0004'\n"
     ]
    },
    {
     "name": "stderr",
     "output_type": "stream",
     "text": [
      "\u001b[32m[I 2022-08-15 21:42:20,918]\u001b[0m Trial 4 finished with value: 6384.26 and parameters: {'kErase': 1, 'kRadius': 2, 'kAnnealingA': -14.570016901346953, 'kAnnealingB': 2.9612603274674663, 'kAnnealingStart': 47.87315873019429, 'kSkipRatio': 0.5583315801607103, 'kTargetDeterminationTrials': 5, 'kAttractionRatio': 0.47786965310782664, 'kMaxAttractionDistance': 51, 'kStartAttraction': 0.001602294907040479}. Best is trial 3 with value: 6538.23.\u001b[0m\n"
     ]
    },
    {
     "name": "stdout",
     "output_type": "stream",
     "text": [
      "index_parallel='0005'\n"
     ]
    },
    {
     "name": "stderr",
     "output_type": "stream",
     "text": [
      "\u001b[32m[I 2022-08-15 21:46:10,318]\u001b[0m Trial 5 finished with value: 5328.375 and parameters: {'kErase': 2, 'kRadius': 3, 'kAnnealingA': 13.414917152836939, 'kAnnealingB': 0.6186331674494344, 'kAnnealingStart': 71.45218921336483, 'kSkipRatio': 0.3446834415521066, 'kTargetDeterminationTrials': 19, 'kAttractionRatio': 0.6955973360607944, 'kMaxAttractionDistance': 4, 'kStartAttraction': 0.01550105360646444}. Best is trial 3 with value: 6538.23.\u001b[0m\n"
     ]
    },
    {
     "name": "stdout",
     "output_type": "stream",
     "text": [
      "index_parallel='0006'\n"
     ]
    },
    {
     "name": "stderr",
     "output_type": "stream",
     "text": [
      "\u001b[32m[I 2022-08-15 21:49:59,675]\u001b[0m Trial 6 finished with value: 6736.275 and parameters: {'kErase': 1, 'kRadius': 2, 'kAnnealingA': 5.0837696009073845, 'kAnnealingB': 0.19515419561418623, 'kAnnealingStart': 10.488713060236593, 'kSkipRatio': 0.4739427295621438, 'kTargetDeterminationTrials': 16, 'kAttractionRatio': 0.03562302162425063, 'kMaxAttractionDistance': 9, 'kStartAttraction': 0.009229732995101417}. Best is trial 6 with value: 6736.275.\u001b[0m\n"
     ]
    },
    {
     "name": "stdout",
     "output_type": "stream",
     "text": [
      "Updated! 6736.275\n",
      "index_parallel='0007'\n"
     ]
    },
    {
     "name": "stderr",
     "output_type": "stream",
     "text": [
      "\u001b[32m[I 2022-08-15 21:53:49,718]\u001b[0m Trial 7 finished with value: 6425.23 and parameters: {'kErase': 5, 'kRadius': 3, 'kAnnealingA': 5.3058080222172705, 'kAnnealingB': 2.5706627423860557, 'kAnnealingStart': 1.2376568676548572, 'kSkipRatio': 0.7528406907487566, 'kTargetDeterminationTrials': 4, 'kAttractionRatio': 0.13669171977678307, 'kMaxAttractionDistance': 5, 'kStartAttraction': 0.03491802526277385}. Best is trial 6 with value: 6736.275.\u001b[0m\n"
     ]
    },
    {
     "name": "stdout",
     "output_type": "stream",
     "text": [
      "index_parallel='0008'\n"
     ]
    },
    {
     "name": "stderr",
     "output_type": "stream",
     "text": [
      "\u001b[32m[I 2022-08-15 21:57:39,077]\u001b[0m Trial 8 finished with value: 6375.78 and parameters: {'kErase': 2, 'kRadius': 2, 'kAnnealingA': 1.5540827749544555, 'kAnnealingB': 1.057935668446701, 'kAnnealingStart': 2.777390927513303, 'kSkipRatio': 0.22326840425046193, 'kTargetDeterminationTrials': 1, 'kAttractionRatio': 0.01349746394202809, 'kMaxAttractionDistance': 37, 'kStartAttraction': 0.15269742575248801}. Best is trial 6 with value: 6736.275.\u001b[0m\n"
     ]
    },
    {
     "name": "stdout",
     "output_type": "stream",
     "text": [
      "index_parallel='0009'\n"
     ]
    },
    {
     "name": "stderr",
     "output_type": "stream",
     "text": [
      "\u001b[32m[I 2022-08-15 22:01:28,811]\u001b[0m Trial 9 finished with value: 6631.885 and parameters: {'kErase': 2, 'kRadius': 3, 'kAnnealingA': 14.467656697596809, 'kAnnealingB': 2.4709902067222864, 'kAnnealingStart': 5.998136117729018, 'kSkipRatio': 0.7846664830047212, 'kTargetDeterminationTrials': 1, 'kAttractionRatio': 0.026976745191945716, 'kMaxAttractionDistance': 4, 'kStartAttraction': 0.15246396606174994}. Best is trial 6 with value: 6736.275.\u001b[0m\n"
     ]
    },
    {
     "name": "stdout",
     "output_type": "stream",
     "text": [
      "index_parallel='0010'\n"
     ]
    },
    {
     "name": "stderr",
     "output_type": "stream",
     "text": [
      "\u001b[32m[I 2022-08-15 22:05:18,819]\u001b[0m Trial 10 finished with value: 6180.65 and parameters: {'kErase': 4, 'kRadius': 6, 'kAnnealingA': -5.312122417392694, 'kAnnealingB': 0.01995095183693804, 'kAnnealingStart': 12.567798604541006, 'kSkipRatio': 0.41846751621633405, 'kTargetDeterminationTrials': 20, 'kAttractionRatio': 0.0446492248976948, 'kMaxAttractionDistance': 13, 'kStartAttraction': 0.5652320860547321}. Best is trial 6 with value: 6736.275.\u001b[0m\n"
     ]
    },
    {
     "name": "stdout",
     "output_type": "stream",
     "text": [
      "index_parallel='0011'\n"
     ]
    },
    {
     "name": "stderr",
     "output_type": "stream",
     "text": [
      "\u001b[32m[I 2022-08-15 22:09:08,060]\u001b[0m Trial 11 finished with value: 6670.875 and parameters: {'kErase': 1, 'kRadius': 3, 'kAnnealingA': 14.002351433928629, 'kAnnealingB': 1.8074917737919602, 'kAnnealingStart': 6.119694625958247, 'kSkipRatio': 0.5082698995431839, 'kTargetDeterminationTrials': 1, 'kAttractionRatio': 0.02112826066653497, 'kMaxAttractionDistance': 8, 'kStartAttraction': 0.11859749223797329}. Best is trial 6 with value: 6736.275.\u001b[0m\n"
     ]
    },
    {
     "name": "stdout",
     "output_type": "stream",
     "text": [
      "index_parallel='0012'\n"
     ]
    },
    {
     "name": "stderr",
     "output_type": "stream",
     "text": [
      "\u001b[32m[I 2022-08-15 22:12:57,769]\u001b[0m Trial 12 finished with value: 6768.085 and parameters: {'kErase': 1, 'kRadius': 3, 'kAnnealingA': 9.99037281587608, 'kAnnealingB': 1.7273429193973422, 'kAnnealingStart': 11.438056626773784, 'kSkipRatio': 0.47170089517873504, 'kTargetDeterminationTrials': 2, 'kAttractionRatio': 0.010231975309157851, 'kMaxAttractionDistance': 9, 'kStartAttraction': 0.12302597019197742}. Best is trial 12 with value: 6768.085.\u001b[0m\n"
     ]
    },
    {
     "name": "stdout",
     "output_type": "stream",
     "text": [
      "Updated! 6768.085\n",
      "index_parallel='0013'\n"
     ]
    },
    {
     "name": "stderr",
     "output_type": "stream",
     "text": [
      "\u001b[32m[I 2022-08-15 22:16:47,726]\u001b[0m Trial 13 finished with value: 5413.39 and parameters: {'kErase': 3, 'kRadius': 5, 'kAnnealingA': 9.869084258297779, 'kAnnealingB': 1.3841899884317224, 'kAnnealingStart': 15.682795730700898, 'kSkipRatio': 0.33461076784758814, 'kTargetDeterminationTrials': 2, 'kAttractionRatio': 0.013593064022832968, 'kMaxAttractionDistance': 25, 'kStartAttraction': 0.0071528210526939084}. Best is trial 12 with value: 6768.085.\u001b[0m\n"
     ]
    },
    {
     "name": "stdout",
     "output_type": "stream",
     "text": [
      "index_parallel='0014'\n"
     ]
    },
    {
     "name": "stderr",
     "output_type": "stream",
     "text": [
      "\u001b[32m[I 2022-08-15 22:20:37,120]\u001b[0m Trial 14 finished with value: 6568.76 and parameters: {'kErase': 1, 'kRadius': 2, 'kAnnealingA': -2.4954937752674127, 'kAnnealingB': 1.9594273233659973, 'kAnnealingStart': 7.010611934896593, 'kSkipRatio': 0.4215834562231434, 'kTargetDeterminationTrials': 2, 'kAttractionRatio': 0.03225445667642197, 'kMaxAttractionDistance': 9, 'kStartAttraction': 0.5787935410550493}. Best is trial 12 with value: 6768.085.\u001b[0m\n"
     ]
    },
    {
     "name": "stdout",
     "output_type": "stream",
     "text": [
      "index_parallel='0015'\n"
     ]
    },
    {
     "name": "stderr",
     "output_type": "stream",
     "text": [
      "\u001b[32m[I 2022-08-15 22:24:26,384]\u001b[0m Trial 15 finished with value: 6741.5 and parameters: {'kErase': 1, 'kRadius': 3, 'kAnnealingA': 1.3162426484244252, 'kAnnealingB': 0.0384551726552535, 'kAnnealingStart': 14.890722110157391, 'kSkipRatio': 0.6089842470183223, 'kTargetDeterminationTrials': 2, 'kAttractionRatio': 0.08505190514521557, 'kMaxAttractionDistance': 21, 'kStartAttraction': 0.05454127505552826}. Best is trial 12 with value: 6768.085.\u001b[0m\n"
     ]
    },
    {
     "name": "stdout",
     "output_type": "stream",
     "text": [
      "index_parallel='0016'\n"
     ]
    },
    {
     "name": "stderr",
     "output_type": "stream",
     "text": [
      "\u001b[32m[I 2022-08-15 22:28:16,417]\u001b[0m Trial 16 finished with value: 6527.92 and parameters: {'kErase': 4, 'kRadius': 4, 'kAnnealingA': -6.403341981409042, 'kAnnealingB': 1.0688650359405998, 'kAnnealingStart': 18.180376602055404, 'kSkipRatio': 0.6263983949334787, 'kTargetDeterminationTrials': 2, 'kAttractionRatio': 0.10927819610095155, 'kMaxAttractionDistance': 24, 'kStartAttraction': 0.06379376812411432}. Best is trial 12 with value: 6768.085.\u001b[0m\n"
     ]
    },
    {
     "name": "stdout",
     "output_type": "stream",
     "text": [
      "index_parallel='0017'\n"
     ]
    },
    {
     "name": "stderr",
     "output_type": "stream",
     "text": [
      "\u001b[32m[I 2022-08-15 22:32:06,152]\u001b[0m Trial 17 finished with value: 6523.695 and parameters: {'kErase': 2, 'kRadius': 5, 'kAnnealingA': 1.0660156771159994, 'kAnnealingB': 2.1268001251621547, 'kAnnealingStart': 3.641943578786721, 'kSkipRatio': 0.6857755049391034, 'kTargetDeterminationTrials': 2, 'kAttractionRatio': 0.06392655691337876, 'kMaxAttractionDistance': 21, 'kStartAttraction': 0.29527720996280377}. Best is trial 12 with value: 6768.085.\u001b[0m\n"
     ]
    },
    {
     "name": "stdout",
     "output_type": "stream",
     "text": [
      "index_parallel='0018'\n"
     ]
    },
    {
     "name": "stderr",
     "output_type": "stream",
     "text": [
      "\u001b[32m[I 2022-08-15 22:35:56,066]\u001b[0m Trial 18 finished with value: 6357.41 and parameters: {'kErase': 3, 'kRadius': 3, 'kAnnealingA': 11.307768130747995, 'kAnnealingB': 1.4177275150575215, 'kAnnealingStart': 20.07206443332519, 'kSkipRatio': 0.5551398348750534, 'kTargetDeterminationTrials': 3, 'kAttractionRatio': 0.19156644080931035, 'kMaxAttractionDistance': 94, 'kStartAttraction': 0.06060245682495519}. Best is trial 12 with value: 6768.085.\u001b[0m\n"
     ]
    },
    {
     "name": "stdout",
     "output_type": "stream",
     "text": [
      "index_parallel='0019'\n"
     ]
    },
    {
     "name": "stderr",
     "output_type": "stream",
     "text": [
      "\u001b[32m[I 2022-08-15 22:39:45,244]\u001b[0m Trial 19 finished with value: 5455.465 and parameters: {'kErase': 1, 'kRadius': 5, 'kAnnealingA': 8.18352458196742, 'kAnnealingB': 0.5093159295352377, 'kAnnealingStart': 82.32495342361594, 'kSkipRatio': 0.2982103361289258, 'kTargetDeterminationTrials': 9, 'kAttractionRatio': 0.06968439119208782, 'kMaxAttractionDistance': 12, 'kStartAttraction': 0.3345853513814029}. Best is trial 12 with value: 6768.085.\u001b[0m\n"
     ]
    },
    {
     "name": "stdout",
     "output_type": "stream",
     "text": [
      "index_parallel='0020'\n"
     ]
    },
    {
     "name": "stderr",
     "output_type": "stream",
     "text": [
      "\u001b[32m[I 2022-08-15 22:43:35,193]\u001b[0m Trial 20 finished with value: 6528.175 and parameters: {'kErase': 3, 'kRadius': 4, 'kAnnealingA': -3.3187221983773867, 'kAnnealingB': 1.1056523647094851, 'kAnnealingStart': 9.04715003601173, 'kSkipRatio': 0.5099968363389947, 'kTargetDeterminationTrials': 3, 'kAttractionRatio': 0.02153580408655565, 'kMaxAttractionDistance': 18, 'kStartAttraction': 0.07086309792412229}. Best is trial 12 with value: 6768.085.\u001b[0m\n"
     ]
    },
    {
     "name": "stdout",
     "output_type": "stream",
     "text": [
      "index_parallel='0021'\n"
     ]
    },
    {
     "name": "stderr",
     "output_type": "stream",
     "text": [
      "\u001b[32m[I 2022-08-15 22:47:24,395]\u001b[0m Trial 21 finished with value: 6695.025 and parameters: {'kErase': 1, 'kRadius': 2, 'kAnnealingA': 3.796226957380876, 'kAnnealingB': 0.00568241849355515, 'kAnnealingStart': 9.458341948944714, 'kSkipRatio': 0.5005810782940886, 'kTargetDeterminationTrials': 11, 'kAttractionRatio': 0.010405722237250156, 'kMaxAttractionDistance': 10, 'kStartAttraction': 0.017142818143874163}. Best is trial 12 with value: 6768.085.\u001b[0m\n"
     ]
    },
    {
     "name": "stdout",
     "output_type": "stream",
     "text": [
      "index_parallel='0022'\n"
     ]
    },
    {
     "name": "stderr",
     "output_type": "stream",
     "text": [
      "\u001b[32m[I 2022-08-15 22:51:13,811]\u001b[0m Trial 22 finished with value: 6743.52 and parameters: {'kErase': 1, 'kRadius': 3, 'kAnnealingA': 2.4237395238007395, 'kAnnealingB': 0.28167271443397457, 'kAnnealingStart': 12.709257164289157, 'kSkipRatio': 0.452944457210763, 'kTargetDeterminationTrials': 3, 'kAttractionRatio': 0.0413836290963873, 'kMaxAttractionDistance': 6, 'kStartAttraction': 0.005785255396023428}. Best is trial 12 with value: 6768.085.\u001b[0m\n"
     ]
    },
    {
     "name": "stdout",
     "output_type": "stream",
     "text": [
      "index_parallel='0023'\n"
     ]
    },
    {
     "name": "stderr",
     "output_type": "stream",
     "text": [
      "\u001b[32m[I 2022-08-15 22:55:03,507]\u001b[0m Trial 23 finished with value: 6416.79 and parameters: {'kErase': 2, 'kRadius': 3, 'kAnnealingA': -1.0687577110032336, 'kAnnealingB': 0.30881521620063707, 'kAnnealingStart': 22.719641275410304, 'kSkipRatio': 0.3776870250382831, 'kTargetDeterminationTrials': 3, 'kAttractionRatio': 0.04757787629717999, 'kMaxAttractionDistance': 6, 'kStartAttraction': 0.03163351165548856}. Best is trial 12 with value: 6768.085.\u001b[0m\n"
     ]
    },
    {
     "name": "stdout",
     "output_type": "stream",
     "text": [
      "index_parallel='0024'\n"
     ]
    },
    {
     "name": "stderr",
     "output_type": "stream",
     "text": [
      "\u001b[32m[I 2022-08-15 22:58:52,740]\u001b[0m Trial 24 finished with value: 6481.485 and parameters: {'kErase': 1, 'kRadius': 3, 'kAnnealingA': 2.0734755021543982, 'kAnnealingB': 0.8667656520868459, 'kAnnealingStart': 4.263472240373953, 'kSkipRatio': 0.6072743676897019, 'kTargetDeterminationTrials': 2, 'kAttractionRatio': 0.09579889606287512, 'kMaxAttractionDistance': 6, 'kStartAttraction': 0.004667522061407699}. Best is trial 12 with value: 6768.085.\u001b[0m\n"
     ]
    },
    {
     "name": "stdout",
     "output_type": "stream",
     "text": [
      "index_parallel='0025'\n"
     ]
    },
    {
     "name": "stderr",
     "output_type": "stream",
     "text": [
      "\u001b[32m[I 2022-08-15 23:02:42,315]\u001b[0m Trial 25 finished with value: 6497.795 and parameters: {'kErase': 2, 'kRadius': 3, 'kAnnealingA': -8.578802507113123, 'kAnnealingB': 1.5859767879549396, 'kAnnealingStart': 15.91465986080109, 'kSkipRatio': 0.6779787847142845, 'kTargetDeterminationTrials': 4, 'kAttractionRatio': 0.1437100014709643, 'kMaxAttractionDistance': 32, 'kStartAttraction': 0.003234193988706258}. Best is trial 12 with value: 6768.085.\u001b[0m\n"
     ]
    },
    {
     "name": "stdout",
     "output_type": "stream",
     "text": [
      "index_parallel='0026'\n"
     ]
    },
    {
     "name": "stderr",
     "output_type": "stream",
     "text": [
      "\u001b[32m[I 2022-08-15 23:06:31,540]\u001b[0m Trial 26 finished with value: 6625.38 and parameters: {'kErase': 1, 'kRadius': 4, 'kAnnealingA': 8.092310117684523, 'kAnnealingB': 0.3340769381145296, 'kAnnealingStart': 47.63300092395249, 'kSkipRatio': 0.56044654937266, 'kTargetDeterminationTrials': 3, 'kAttractionRatio': 0.01698612536899955, 'kMaxAttractionDistance': 16, 'kStartAttraction': 0.01937547383156349}. Best is trial 12 with value: 6768.085.\u001b[0m\n"
     ]
    },
    {
     "name": "stdout",
     "output_type": "stream",
     "text": [
      "index_parallel='0027'\n"
     ]
    },
    {
     "name": "stderr",
     "output_type": "stream",
     "text": [
      "\u001b[32m[I 2022-08-15 23:10:20,912]\u001b[0m Trial 27 finished with value: 6724.11 and parameters: {'kErase': 1, 'kRadius': 4, 'kAnnealingA': -1.0739420411164522, 'kAnnealingB': 0.7434874370922957, 'kAnnealingStart': 12.981326283593614, 'kSkipRatio': 0.4525477546977228, 'kTargetDeterminationTrials': 4, 'kAttractionRatio': 0.04542110768623903, 'kMaxAttractionDistance': 11, 'kStartAttraction': 0.27873342927686673}. Best is trial 12 with value: 6768.085.\u001b[0m\n"
     ]
    },
    {
     "name": "stdout",
     "output_type": "stream",
     "text": [
      "index_parallel='0028'\n"
     ]
    },
    {
     "name": "stderr",
     "output_type": "stream",
     "text": [
      "\u001b[32m[I 2022-08-15 23:14:10,660]\u001b[0m Trial 28 finished with value: 6619.44 and parameters: {'kErase': 2, 'kRadius': 3, 'kAnnealingA': 11.003779174220666, 'kAnnealingB': 0.39728967427186135, 'kAnnealingStart': 8.194353620371865, 'kSkipRatio': 0.3813779663546601, 'kTargetDeterminationTrials': 2, 'kAttractionRatio': 0.07041385765856827, 'kMaxAttractionDistance': 5, 'kStartAttraction': 0.10282865396910489}. Best is trial 12 with value: 6768.085.\u001b[0m\n"
     ]
    },
    {
     "name": "stdout",
     "output_type": "stream",
     "text": [
      "index_parallel='0029'\n"
     ]
    },
    {
     "name": "stderr",
     "output_type": "stream",
     "text": [
      "\u001b[32m[I 2022-08-15 23:18:00,822]\u001b[0m Trial 29 finished with value: 6414.825 and parameters: {'kErase': 4, 'kRadius': 4, 'kAnnealingA': 3.0589311953810747, 'kAnnealingB': 2.14239327111864, 'kAnnealingStart': 1.6407623876521118, 'kSkipRatio': 0.6494325632166988, 'kTargetDeterminationTrials': 1, 'kAttractionRatio': 0.06228910077695785, 'kMaxAttractionDistance': 7, 'kStartAttraction': 0.011712886828078554}. Best is trial 12 with value: 6768.085.\u001b[0m\n"
     ]
    },
    {
     "name": "stdout",
     "output_type": "stream",
     "text": [
      "index_parallel='0030'\n"
     ]
    },
    {
     "name": "stderr",
     "output_type": "stream",
     "text": [
      "\u001b[32m[I 2022-08-15 23:21:51,104]\u001b[0m Trial 30 finished with value: 6307.27 and parameters: {'kErase': 5, 'kRadius': 3, 'kAnnealingA': 8.011038285335102, 'kAnnealingB': 1.5992343767548076, 'kAnnealingStart': 4.616091367561947, 'kSkipRatio': 0.5370101229448148, 'kTargetDeterminationTrials': 4, 'kAttractionRatio': 0.010046878211515956, 'kMaxAttractionDistance': 14, 'kStartAttraction': 0.0010647635725130763}. Best is trial 12 with value: 6768.085.\u001b[0m\n"
     ]
    },
    {
     "name": "stdout",
     "output_type": "stream",
     "text": [
      "index_parallel='0031'\n"
     ]
    },
    {
     "name": "stderr",
     "output_type": "stream",
     "text": [
      "\u001b[32m[I 2022-08-15 23:25:40,358]\u001b[0m Trial 31 finished with value: 6762.905 and parameters: {'kErase': 1, 'kRadius': 2, 'kAnnealingA': 6.055597263401033, 'kAnnealingB': 0.18379346072323133, 'kAnnealingStart': 11.69452294422002, 'kSkipRatio': 0.46775743943227044, 'kTargetDeterminationTrials': 13, 'kAttractionRatio': 0.032907776745269304, 'kMaxAttractionDistance': 9, 'kStartAttraction': 0.00783566158450778}. Best is trial 12 with value: 6768.085.\u001b[0m\n"
     ]
    },
    {
     "name": "stdout",
     "output_type": "stream",
     "text": [
      "index_parallel='0032'\n"
     ]
    },
    {
     "name": "stderr",
     "output_type": "stream",
     "text": [
      "\u001b[32m[I 2022-08-15 23:29:29,888]\u001b[0m Trial 32 finished with value: 6757.78 and parameters: {'kErase': 1, 'kRadius': 2, 'kAnnealingA': 6.041870486827532, 'kAnnealingB': 0.16689614527135646, 'kAnnealingStart': 13.257861971583168, 'kSkipRatio': 0.46842335243592637, 'kTargetDeterminationTrials': 12, 'kAttractionRatio': 0.026331311440326938, 'kMaxAttractionDistance': 5, 'kStartAttraction': 0.0034242379117646717}. Best is trial 12 with value: 6768.085.\u001b[0m\n"
     ]
    },
    {
     "name": "stdout",
     "output_type": "stream",
     "text": [
      "index_parallel='0033'\n"
     ]
    },
    {
     "name": "stderr",
     "output_type": "stream",
     "text": [
      "\u001b[32m[I 2022-08-15 23:33:19,194]\u001b[0m Trial 33 finished with value: 6773.03 and parameters: {'kErase': 1, 'kRadius': 2, 'kAnnealingA': 6.326591628176591, 'kAnnealingB': 0.810262846240829, 'kAnnealingStart': 11.977514456725963, 'kSkipRatio': 0.4693878705546405, 'kTargetDeterminationTrials': 12, 'kAttractionRatio': 0.021940754276329567, 'kMaxAttractionDistance': 5, 'kStartAttraction': 0.004851654631890661}. Best is trial 33 with value: 6773.03.\u001b[0m\n"
     ]
    },
    {
     "name": "stdout",
     "output_type": "stream",
     "text": [
      "Updated! 6773.03\n",
      "index_parallel='0034'\n"
     ]
    },
    {
     "name": "stderr",
     "output_type": "stream",
     "text": [
      "\u001b[32m[I 2022-08-15 23:37:09,219]\u001b[0m Trial 34 finished with value: 6260.61 and parameters: {'kErase': 2, 'kRadius': 2, 'kAnnealingA': 6.740264442842324, 'kAnnealingB': 0.8451861505349583, 'kAnnealingStart': 26.819922102594013, 'kSkipRatio': 0.4832110592772877, 'kTargetDeterminationTrials': 13, 'kAttractionRatio': 0.024339386340774097, 'kMaxAttractionDistance': 5, 'kStartAttraction': 0.0036379452602703483}. Best is trial 33 with value: 6773.03.\u001b[0m\n"
     ]
    },
    {
     "name": "stdout",
     "output_type": "stream",
     "text": [
      "index_parallel='0035'\n"
     ]
    },
    {
     "name": "stderr",
     "output_type": "stream",
     "text": [
      "\u001b[32m[I 2022-08-15 23:40:58,493]\u001b[0m Trial 35 finished with value: 6163.23 and parameters: {'kErase': 1, 'kRadius': 2, 'kAnnealingA': 6.295036466626352, 'kAnnealingB': 0.5350302974644533, 'kAnnealingStart': 32.10727336975518, 'kSkipRatio': 0.3850690152477757, 'kTargetDeterminationTrials': 8, 'kAttractionRatio': 0.017276926491793864, 'kMaxAttractionDistance': 4, 'kStartAttraction': 0.0023061912882512193}. Best is trial 33 with value: 6773.03.\u001b[0m\n"
     ]
    },
    {
     "name": "stdout",
     "output_type": "stream",
     "text": [
      "index_parallel='0036'\n"
     ]
    },
    {
     "name": "stderr",
     "output_type": "stream",
     "text": [
      "\u001b[32m[I 2022-08-15 23:44:47,745]\u001b[0m Trial 36 finished with value: 6772.42 and parameters: {'kErase': 1, 'kRadius': 2, 'kAnnealingA': 10.319847170819846, 'kAnnealingB': 1.2022077184967686, 'kAnnealingStart': 10.69931378865476, 'kSkipRatio': 0.43492759052904606, 'kTargetDeterminationTrials': 13, 'kAttractionRatio': 0.014202240610261504, 'kMaxAttractionDistance': 7, 'kStartAttraction': 0.0022700478326928616}. Best is trial 33 with value: 6773.03.\u001b[0m\n"
     ]
    },
    {
     "name": "stdout",
     "output_type": "stream",
     "text": [
      "index_parallel='0037'\n"
     ]
    },
    {
     "name": "stderr",
     "output_type": "stream",
     "text": [
      "\u001b[32m[I 2022-08-15 23:48:37,552]\u001b[0m Trial 37 finished with value: 6340.84 and parameters: {'kErase': 2, 'kRadius': 2, 'kAnnealingA': 11.836946104101276, 'kAnnealingB': 1.3113395221455453, 'kAnnealingStart': 7.365268606715117, 'kSkipRatio': 0.29299158804789416, 'kTargetDeterminationTrials': 15, 'kAttractionRatio': 0.014396427661451168, 'kMaxAttractionDistance': 8, 'kStartAttraction': 0.0017886399913323136}. Best is trial 33 with value: 6773.03.\u001b[0m\n"
     ]
    },
    {
     "name": "stdout",
     "output_type": "stream",
     "text": [
      "index_parallel='0038'\n"
     ]
    },
    {
     "name": "stderr",
     "output_type": "stream",
     "text": [
      "\u001b[32m[I 2022-08-15 23:52:26,798]\u001b[0m Trial 38 finished with value: 6633.84 and parameters: {'kErase': 1, 'kRadius': 2, 'kAnnealingA': 9.68365253702406, 'kAnnealingB': 1.2573709623337452, 'kAnnealingStart': 5.355807029764012, 'kSkipRatio': 0.41601005710587063, 'kTargetDeterminationTrials': 10, 'kAttractionRatio': 0.019096920403750012, 'kMaxAttractionDistance': 7, 'kStartAttraction': 0.00783863302242772}. Best is trial 33 with value: 6773.03.\u001b[0m\n"
     ]
    },
    {
     "name": "stdout",
     "output_type": "stream",
     "text": [
      "index_parallel='0039'\n"
     ]
    },
    {
     "name": "stderr",
     "output_type": "stream",
     "text": [
      "\u001b[32m[I 2022-08-15 23:56:16,418]\u001b[0m Trial 39 finished with value: 6743.655 and parameters: {'kErase': 2, 'kRadius': 2, 'kAnnealingA': 11.86012395281993, 'kAnnealingB': 1.7217891216592456, 'kAnnealingStart': 10.441412636083692, 'kSkipRatio': 0.51488838726355, 'kTargetDeterminationTrials': 6, 'kAttractionRatio': 0.012908573472293615, 'kMaxAttractionDistance': 7, 'kStartAttraction': 0.010255182963069542}. Best is trial 33 with value: 6773.03.\u001b[0m\n"
     ]
    },
    {
     "name": "stdout",
     "output_type": "stream",
     "text": [
      "index_parallel='0040'\n"
     ]
    },
    {
     "name": "stderr",
     "output_type": "stream",
     "text": [
      "\u001b[32m[I 2022-08-16 00:00:05,714]\u001b[0m Trial 40 finished with value: 5845.62 and parameters: {'kErase': 1, 'kRadius': 2, 'kAnnealingA': 9.251667453420197, 'kAnnealingB': 1.191213708340194, 'kAnnealingStart': 23.708553968386735, 'kSkipRatio': 0.329080844337736, 'kTargetDeterminationTrials': 15, 'kAttractionRatio': 0.029256838053896415, 'kMaxAttractionDistance': 10, 'kStartAttraction': 0.0010350175276300797}. Best is trial 33 with value: 6773.03.\u001b[0m\n"
     ]
    },
    {
     "name": "stdout",
     "output_type": "stream",
     "text": [
      "index_parallel='0041'\n"
     ]
    },
    {
     "name": "stderr",
     "output_type": "stream",
     "text": [
      "\u001b[32m[I 2022-08-16 00:03:54,874]\u001b[0m Trial 41 finished with value: 6741.055 and parameters: {'kErase': 1, 'kRadius': 2, 'kAnnealingA': 4.78615546438844, 'kAnnealingB': 0.9226938383487635, 'kAnnealingStart': 10.004835145593669, 'kSkipRatio': 0.466439337954378, 'kTargetDeterminationTrials': 12, 'kAttractionRatio': 0.011623161769090952, 'kMaxAttractionDistance': 5, 'kStartAttraction': 0.0023663454165965864}. Best is trial 33 with value: 6773.03.\u001b[0m\n"
     ]
    },
    {
     "name": "stdout",
     "output_type": "stream",
     "text": [
      "index_parallel='0042'\n"
     ]
    },
    {
     "name": "stderr",
     "output_type": "stream",
     "text": [
      "\u001b[32m[I 2022-08-16 00:07:44,410]\u001b[0m Trial 42 finished with value: 6737.285 and parameters: {'kErase': 1, 'kRadius': 2, 'kAnnealingA': 6.185785472640135, 'kAnnealingB': 0.14758560952989375, 'kAnnealingStart': 11.936807799757704, 'kSkipRatio': 0.43927216248338435, 'kTargetDeterminationTrials': 8, 'kAttractionRatio': 0.01516526612392977, 'kMaxAttractionDistance': 4, 'kStartAttraction': 0.004990050635489026}. Best is trial 33 with value: 6773.03.\u001b[0m\n"
     ]
    },
    {
     "name": "stdout",
     "output_type": "stream",
     "text": [
      "index_parallel='0043'\n"
     ]
    },
    {
     "name": "stderr",
     "output_type": "stream",
     "text": [
      "\u001b[32m[I 2022-08-16 00:11:33,814]\u001b[0m Trial 43 finished with value: 5620.025 and parameters: {'kErase': 1, 'kRadius': 2, 'kAnnealingA': 13.254827013201709, 'kAnnealingB': 0.7675001301996988, 'kAnnealingStart': 41.898713395822185, 'kSkipRatio': 0.401090462931744, 'kTargetDeterminationTrials': 17, 'kAttractionRatio': 0.02312394949264226, 'kMaxAttractionDistance': 5, 'kStartAttraction': 0.003115205759317663}. Best is trial 33 with value: 6773.03.\u001b[0m\n"
     ]
    },
    {
     "name": "stdout",
     "output_type": "stream",
     "text": [
      "index_parallel='0044'\n"
     ]
    },
    {
     "name": "stderr",
     "output_type": "stream",
     "text": [
      "\u001b[32m[I 2022-08-16 00:15:23,252]\u001b[0m Trial 44 finished with value: 6774.61 and parameters: {'kErase': 1, 'kRadius': 2, 'kAnnealingA': 4.120546618601312, 'kAnnealingB': 0.6419053779965171, 'kAnnealingStart': 16.92445894568808, 'kSkipRatio': 0.4695345785073992, 'kTargetDeterminationTrials': 13, 'kAttractionRatio': 0.03642384938969192, 'kMaxAttractionDistance': 8, 'kStartAttraction': 0.0016444572324311498}. Best is trial 44 with value: 6774.61.\u001b[0m\n"
     ]
    },
    {
     "name": "stdout",
     "output_type": "stream",
     "text": [
      "Updated! 6774.61\n",
      "index_parallel='0045'\n"
     ]
    },
    {
     "name": "stderr",
     "output_type": "stream",
     "text": [
      "\u001b[32m[I 2022-08-16 00:19:13,164]\u001b[0m Trial 45 finished with value: 6743.58 and parameters: {'kErase': 2, 'kRadius': 2, 'kAnnealingA': 7.80374973412531, 'kAnnealingB': 0.5870554147305287, 'kAnnealingStart': 18.435527985834437, 'kSkipRatio': 0.5324158905192938, 'kTargetDeterminationTrials': 20, 'kAttractionRatio': 0.034812225611868086, 'kMaxAttractionDistance': 8, 'kStartAttraction': 0.0015462383484313668}. Best is trial 44 with value: 6774.61.\u001b[0m\n"
     ]
    },
    {
     "name": "stdout",
     "output_type": "stream",
     "text": [
      "index_parallel='0046'\n"
     ]
    },
    {
     "name": "stderr",
     "output_type": "stream",
     "text": [
      "\u001b[32m[I 2022-08-16 00:23:02,444]\u001b[0m Trial 46 finished with value: 6228.67 and parameters: {'kErase': 1, 'kRadius': 2, 'kAnnealingA': 3.6048261046242907, 'kAnnealingB': 0.6996872595054471, 'kAnnealingStart': 33.529295321980534, 'kSkipRatio': 0.3599559097036876, 'kTargetDeterminationTrials': 7, 'kAttractionRatio': 0.01733041260568279, 'kMaxAttractionDistance': 9, 'kStartAttraction': 0.0019215033188910008}. Best is trial 44 with value: 6774.61.\u001b[0m\n"
     ]
    },
    {
     "name": "stdout",
     "output_type": "stream",
     "text": [
      "index_parallel='0047'\n"
     ]
    },
    {
     "name": "stderr",
     "output_type": "stream",
     "text": [
      "\u001b[32m[I 2022-08-16 00:26:51,944]\u001b[0m Trial 47 finished with value: 6609.69 and parameters: {'kErase': 2, 'kRadius': 2, 'kAnnealingA': 9.9072690705808, 'kAnnealingB': 0.9843241476840489, 'kAnnealingStart': 6.730353035238859, 'kSkipRatio': 0.4874055510085218, 'kTargetDeterminationTrials': 14, 'kAttractionRatio': 0.03544872940865978, 'kMaxAttractionDistance': 12, 'kStartAttraction': 0.02387381017182712}. Best is trial 44 with value: 6774.61.\u001b[0m\n"
     ]
    },
    {
     "name": "stdout",
     "output_type": "stream",
     "text": [
      "index_parallel='0048'\n"
     ]
    },
    {
     "name": "stderr",
     "output_type": "stream",
     "text": [
      "\u001b[32m[I 2022-08-16 00:30:41,314]\u001b[0m Trial 48 finished with value: 6015.055 and parameters: {'kErase': 1, 'kRadius': 3, 'kAnnealingA': 4.752370271051061, 'kAnnealingB': 0.4287068932530721, 'kAnnealingStart': 60.21289568142467, 'kSkipRatio': 0.41132795557153107, 'kTargetDeterminationTrials': 10, 'kAttractionRatio': 0.7696845472753642, 'kMaxAttractionDistance': 6, 'kStartAttraction': 0.013007552165575767}. Best is trial 44 with value: 6774.61.\u001b[0m\n"
     ]
    },
    {
     "name": "stdout",
     "output_type": "stream",
     "text": [
      "index_parallel='0049'\n"
     ]
    },
    {
     "name": "stderr",
     "output_type": "stream",
     "text": [
      "\u001b[32m[I 2022-08-16 00:34:30,694]\u001b[0m Trial 49 finished with value: 6840.88 and parameters: {'kErase': 1, 'kRadius': 3, 'kAnnealingA': 9.0161704492096, 'kAnnealingB': 1.9072791247195455, 'kAnnealingStart': 17.95603905531916, 'kSkipRatio': 0.5606850634921197, 'kTargetDeterminationTrials': 17, 'kAttractionRatio': 0.01973603682494546, 'kMaxAttractionDistance': 16, 'kStartAttraction': 0.004406040570899675}. Best is trial 49 with value: 6840.88.\u001b[0m\n"
     ]
    },
    {
     "name": "stdout",
     "output_type": "stream",
     "text": [
      "Updated! 6840.88\n",
      "index_parallel='0050'\n"
     ]
    },
    {
     "name": "stderr",
     "output_type": "stream",
     "text": [
      "\u001b[32m[I 2022-08-16 00:38:20,600]\u001b[0m Trial 50 finished with value: 6706.695 and parameters: {'kErase': 2, 'kRadius': 3, 'kAnnealingA': 14.843588345358338, 'kAnnealingB': 1.9793613037533695, 'kAnnealingStart': 15.692565922298343, 'kSkipRatio': 0.5828817782740531, 'kTargetDeterminationTrials': 17, 'kAttractionRatio': 0.3399365553078003, 'kMaxAttractionDistance': 16, 'kStartAttraction': 0.001294462478860911}. Best is trial 49 with value: 6840.88.\u001b[0m\n"
     ]
    },
    {
     "name": "stdout",
     "output_type": "stream",
     "text": [
      "index_parallel='0051'\n"
     ]
    },
    {
     "name": "stderr",
     "output_type": "stream",
     "text": [
      "\u001b[32m[I 2022-08-16 00:42:10,112]\u001b[0m Trial 51 finished with value: 6673.83 and parameters: {'kErase': 1, 'kRadius': 2, 'kAnnealingA': 12.936452536208314, 'kAnnealingB': 1.8407753947446488, 'kAnnealingStart': 21.870896339530287, 'kSkipRatio': 0.5309480979786196, 'kTargetDeterminationTrials': 18, 'kAttractionRatio': 0.020842436980067023, 'kMaxAttractionDistance': 11, 'kStartAttraction': 0.004563255291581728}. Best is trial 49 with value: 6840.88.\u001b[0m\n"
     ]
    },
    {
     "name": "stdout",
     "output_type": "stream",
     "text": [
      "index_parallel='0052'\n"
     ]
    },
    {
     "name": "stderr",
     "output_type": "stream",
     "text": [
      "\u001b[32m[I 2022-08-16 00:45:59,517]\u001b[0m Trial 52 finished with value: 6703.045 and parameters: {'kErase': 1, 'kRadius': 2, 'kAnnealingA': 8.919203312031934, 'kAnnealingB': 1.4968507572341756, 'kAnnealingStart': 8.340328792647622, 'kSkipRatio': 0.4427804364178087, 'kTargetDeterminationTrials': 13, 'kAttractionRatio': 0.012193855839968182, 'kMaxAttractionDistance': 8, 'kStartAttraction': 0.007778360583348862}. Best is trial 49 with value: 6840.88.\u001b[0m\n"
     ]
    },
    {
     "name": "stdout",
     "output_type": "stream",
     "text": [
      "index_parallel='0053'\n"
     ]
    },
    {
     "name": "stderr",
     "output_type": "stream",
     "text": [
      "\u001b[32m[I 2022-08-16 00:49:49,101]\u001b[0m Trial 53 finished with value: 6809.875 and parameters: {'kErase': 1, 'kRadius': 3, 'kAnnealingA': 10.73204139496488, 'kAnnealingB': 2.2664316563971596, 'kAnnealingStart': 17.36463337885413, 'kSkipRatio': 0.5747910696536682, 'kTargetDeterminationTrials': 10, 'kAttractionRatio': 0.05431823528496875, 'kMaxAttractionDistance': 10, 'kStartAttraction': 0.0028379446780529083}. Best is trial 49 with value: 6840.88.\u001b[0m\n"
     ]
    },
    {
     "name": "stdout",
     "output_type": "stream",
     "text": [
      "index_parallel='0054'\n"
     ]
    },
    {
     "name": "stderr",
     "output_type": "stream",
     "text": [
      "\u001b[32m[I 2022-08-16 00:53:38,130]\u001b[0m Trial 54 finished with value: 6654.475 and parameters: {'kErase': 1, 'kRadius': 3, 'kAnnealingA': 10.586362135805034, 'kAnnealingB': 2.2959483671260448, 'kAnnealingStart': 27.2117003778021, 'kSkipRatio': 0.5759578549234491, 'kTargetDeterminationTrials': 10, 'kAttractionRatio': 0.053292570505164144, 'kMaxAttractionDistance': 13, 'kStartAttraction': 0.002471970211581374}. Best is trial 49 with value: 6840.88.\u001b[0m\n"
     ]
    },
    {
     "name": "stdout",
     "output_type": "stream",
     "text": [
      "index_parallel='0055'\n"
     ]
    },
    {
     "name": "stderr",
     "output_type": "stream",
     "text": [
      "\u001b[32m[I 2022-08-16 00:57:27,362]\u001b[0m Trial 55 finished with value: 6799.895 and parameters: {'kErase': 1, 'kRadius': 3, 'kAnnealingA': 12.639454455075935, 'kAnnealingB': 2.678034777538693, 'kAnnealingStart': 17.944555028573628, 'kSkipRatio': 0.5988943078204423, 'kTargetDeterminationTrials': 5, 'kAttractionRatio': 0.027454396363350616, 'kMaxAttractionDistance': 55, 'kStartAttraction': 0.001266239491517272}. Best is trial 49 with value: 6840.88.\u001b[0m\n"
     ]
    },
    {
     "name": "stdout",
     "output_type": "stream",
     "text": [
      "index_parallel='0056'\n"
     ]
    },
    {
     "name": "stderr",
     "output_type": "stream",
     "text": [
      "\u001b[32m[I 2022-08-16 01:01:16,710]\u001b[0m Trial 56 finished with value: 6780.565 and parameters: {'kErase': 1, 'kRadius': 3, 'kAnnealingA': 12.14447926940022, 'kAnnealingB': 2.766805456497731, 'kAnnealingStart': 17.577862418271387, 'kSkipRatio': 0.6235525452938381, 'kTargetDeterminationTrials': 7, 'kAttractionRatio': 0.042577685640881796, 'kMaxAttractionDistance': 55, 'kStartAttraction': 0.001218161208468729}. Best is trial 49 with value: 6840.88.\u001b[0m\n"
     ]
    },
    {
     "name": "stdout",
     "output_type": "stream",
     "text": [
      "index_parallel='0057'\n"
     ]
    },
    {
     "name": "stderr",
     "output_type": "stream",
     "text": [
      "\u001b[32m[I 2022-08-16 01:05:05,953]\u001b[0m Trial 57 finished with value: 6770.26 and parameters: {'kErase': 1, 'kRadius': 3, 'kAnnealingA': 13.849796766963983, 'kAnnealingB': 2.819918829523474, 'kAnnealingStart': 17.97324794025203, 'kSkipRatio': 0.7221550323561176, 'kTargetDeterminationTrials': 6, 'kAttractionRatio': 0.040156292545843075, 'kMaxAttractionDistance': 66, 'kStartAttraction': 0.0012694410510838139}. Best is trial 49 with value: 6840.88.\u001b[0m\n"
     ]
    },
    {
     "name": "stdout",
     "output_type": "stream",
     "text": [
      "index_parallel='0058'\n"
     ]
    },
    {
     "name": "stderr",
     "output_type": "stream",
     "text": [
      "\u001b[32m[I 2022-08-16 01:08:56,464]\u001b[0m Trial 58 finished with value: 6238.975 and parameters: {'kErase': 4, 'kRadius': 3, 'kAnnealingA': 12.552058041555918, 'kAnnealingB': 2.598462550729189, 'kAnnealingStart': 25.61106015436567, 'kSkipRatio': 0.6149614023307848, 'kTargetDeterminationTrials': 5, 'kAttractionRatio': 0.055457420878618185, 'kMaxAttractionDistance': 46, 'kStartAttraction': 0.0015082483449834938}. Best is trial 49 with value: 6840.88.\u001b[0m\n"
     ]
    },
    {
     "name": "stdout",
     "output_type": "stream",
     "text": [
      "index_parallel='0059'\n"
     ]
    },
    {
     "name": "stderr",
     "output_type": "stream",
     "text": [
      "\u001b[32m[I 2022-08-16 01:12:46,192]\u001b[0m Trial 59 finished with value: 6530.865 and parameters: {'kErase': 2, 'kRadius': 6, 'kAnnealingA': 12.144205623170116, 'kAnnealingB': 2.854384748661336, 'kAnnealingStart': 37.31368919679224, 'kSkipRatio': 0.6350932867508183, 'kTargetDeterminationTrials': 5, 'kAttractionRatio': 0.03004047551599105, 'kMaxAttractionDistance': 62, 'kStartAttraction': 0.002824076454484904}. Best is trial 49 with value: 6840.88.\u001b[0m\n"
     ]
    },
    {
     "name": "stdout",
     "output_type": "stream",
     "text": [
      "index_parallel='0060'\n"
     ]
    },
    {
     "name": "stderr",
     "output_type": "stream",
     "text": [
      "\u001b[32m[I 2022-08-16 01:16:35,218]\u001b[0m Trial 60 finished with value: 6785.22 and parameters: {'kErase': 1, 'kRadius': 4, 'kAnnealingA': 7.2964857806485, 'kAnnealingB': 2.6321660869269987, 'kAnnealingStart': 20.053423014887084, 'kSkipRatio': 0.5993859487332595, 'kTargetDeterminationTrials': 8, 'kAttractionRatio': 0.07733122469687921, 'kMaxAttractionDistance': 31, 'kStartAttraction': 0.0019599699858209043}. Best is trial 49 with value: 6840.88.\u001b[0m\n"
     ]
    },
    {
     "name": "stdout",
     "output_type": "stream",
     "text": [
      "index_parallel='0061'\n"
     ]
    },
    {
     "name": "stderr",
     "output_type": "stream",
     "text": [
      "\u001b[32m[I 2022-08-16 01:20:24,638]\u001b[0m Trial 61 finished with value: 6801.83 and parameters: {'kErase': 1, 'kRadius': 5, 'kAnnealingA': 7.417492321841371, 'kAnnealingB': 2.59604627271463, 'kAnnealingStart': 20.643574789399153, 'kSkipRatio': 0.5917009443247891, 'kTargetDeterminationTrials': 8, 'kAttractionRatio': 0.039721596974927165, 'kMaxAttractionDistance': 31, 'kStartAttraction': 0.0017123505162431817}. Best is trial 49 with value: 6840.88.\u001b[0m\n"
     ]
    },
    {
     "name": "stdout",
     "output_type": "stream",
     "text": [
      "index_parallel='0062'\n"
     ]
    },
    {
     "name": "stderr",
     "output_type": "stream",
     "text": [
      "\u001b[32m[I 2022-08-16 01:24:13,991]\u001b[0m Trial 62 finished with value: 6749.34 and parameters: {'kErase': 1, 'kRadius': 5, 'kAnnealingA': 11.086841394675059, 'kAnnealingB': 2.604314925053203, 'kAnnealingStart': 20.362179286288097, 'kSkipRatio': 0.6832440817508767, 'kTargetDeterminationTrials': 8, 'kAttractionRatio': 0.07662340802040207, 'kMaxAttractionDistance': 31, 'kStartAttraction': 0.001854821271333066}. Best is trial 49 with value: 6840.88.\u001b[0m\n"
     ]
    },
    {
     "name": "stdout",
     "output_type": "stream",
     "text": [
      "index_parallel='0063'\n"
     ]
    },
    {
     "name": "stderr",
     "output_type": "stream",
     "text": [
      "\u001b[32m[I 2022-08-16 01:28:03,261]\u001b[0m Trial 63 finished with value: 6752.525 and parameters: {'kErase': 1, 'kRadius': 5, 'kAnnealingA': 8.733832144754366, 'kAnnealingB': 2.3292039503551125, 'kAnnealingStart': 14.732304274010787, 'kSkipRatio': 0.5965414546167107, 'kTargetDeterminationTrials': 7, 'kAttractionRatio': 0.11513618659937895, 'kMaxAttractionDistance': 54, 'kStartAttraction': 0.001010169913453846}. Best is trial 49 with value: 6840.88.\u001b[0m\n"
     ]
    },
    {
     "name": "stdout",
     "output_type": "stream",
     "text": [
      "index_parallel='0064'\n"
     ]
    },
    {
     "name": "stderr",
     "output_type": "stream",
     "text": [
      "\u001b[32m[I 2022-08-16 01:31:52,445]\u001b[0m Trial 64 finished with value: 6632.46 and parameters: {'kErase': 1, 'kRadius': 5, 'kAnnealingA': 7.600084155052127, 'kAnnealingB': 2.9762261961024215, 'kAnnealingStart': 28.860208662600403, 'kSkipRatio': 0.5567037749663694, 'kTargetDeterminationTrials': 9, 'kAttractionRatio': 0.042371639667846, 'kMaxAttractionDistance': 84, 'kStartAttraction': 0.0013139119424891187}. Best is trial 49 with value: 6840.88.\u001b[0m\n"
     ]
    },
    {
     "name": "stdout",
     "output_type": "stream",
     "text": [
      "index_parallel='0065'\n"
     ]
    },
    {
     "name": "stderr",
     "output_type": "stream",
     "text": [
      "\u001b[32m[I 2022-08-16 01:35:42,331]\u001b[0m Trial 65 finished with value: 6505.735 and parameters: {'kErase': 3, 'kRadius': 4, 'kAnnealingA': -12.432192630382557, 'kAnnealingB': 2.702292678380233, 'kAnnealingStart': 21.345254168623832, 'kSkipRatio': 0.6287674909453842, 'kTargetDeterminationTrials': 9, 'kAttractionRatio': 0.05178127271409063, 'kMaxAttractionDistance': 39, 'kStartAttraction': 0.0019656832929516735}. Best is trial 49 with value: 6840.88.\u001b[0m\n"
     ]
    },
    {
     "name": "stdout",
     "output_type": "stream",
     "text": [
      "index_parallel='0066'\n"
     ]
    },
    {
     "name": "stderr",
     "output_type": "stream",
     "text": [
      "\u001b[32m[I 2022-08-16 01:39:31,420]\u001b[0m Trial 66 finished with value: 6756.93 and parameters: {'kErase': 1, 'kRadius': 4, 'kAnnealingA': 0.3227324063601924, 'kAnnealingB': 2.4755607178780332, 'kAnnealingStart': 17.421951397373252, 'kSkipRatio': 0.6617392670350896, 'kTargetDeterminationTrials': 6, 'kAttractionRatio': 0.08565556199724368, 'kMaxAttractionDistance': 32, 'kStartAttraction': 0.003915639258070665}. Best is trial 49 with value: 6840.88.\u001b[0m\n"
     ]
    },
    {
     "name": "stdout",
     "output_type": "stream",
     "text": [
      "index_parallel='0067'\n"
     ]
    },
    {
     "name": "stderr",
     "output_type": "stream",
     "text": [
      "\u001b[32m[I 2022-08-16 01:43:20,917]\u001b[0m Trial 67 finished with value: 6778.93 and parameters: {'kErase': 1, 'kRadius': 4, 'kAnnealingA': 7.230707443018019, 'kAnnealingB': 2.701069866207677, 'kAnnealingStart': 14.422397463140843, 'kSkipRatio': 0.5727867712799598, 'kTargetDeterminationTrials': 7, 'kAttractionRatio': 0.05926379301033154, 'kMaxAttractionDistance': 46, 'kStartAttraction': 0.0015462623343332356}. Best is trial 49 with value: 6840.88.\u001b[0m\n"
     ]
    },
    {
     "name": "stdout",
     "output_type": "stream",
     "text": [
      "index_parallel='0068'\n"
     ]
    },
    {
     "name": "stderr",
     "output_type": "stream",
     "text": [
      "\u001b[32m[I 2022-08-16 01:47:10,329]\u001b[0m Trial 68 finished with value: 6783.57 and parameters: {'kErase': 1, 'kRadius': 4, 'kAnnealingA': 13.189418724085746, 'kAnnealingB': 2.6899931720448698, 'kAnnealingStart': 14.009292741274793, 'kSkipRatio': 0.5698436736090234, 'kTargetDeterminationTrials': 7, 'kAttractionRatio': 0.05612842914123091, 'kMaxAttractionDistance': 27, 'kStartAttraction': 0.0028310413972175647}. Best is trial 49 with value: 6840.88.\u001b[0m\n"
     ]
    },
    {
     "name": "stdout",
     "output_type": "stream",
     "text": [
      "index_parallel='0069'\n"
     ]
    },
    {
     "name": "stderr",
     "output_type": "stream",
     "text": [
      "\u001b[32m[I 2022-08-16 01:50:59,843]\u001b[0m Trial 69 finished with value: 6748.28 and parameters: {'kErase': 1, 'kRadius': 4, 'kAnnealingA': 14.44863860243454, 'kAnnealingB': 2.454227789220426, 'kAnnealingStart': 19.80002399030607, 'kSkipRatio': 0.7067709679451153, 'kTargetDeterminationTrials': 5, 'kAttractionRatio': 0.10406213318087283, 'kMaxAttractionDistance': 26, 'kStartAttraction': 0.005997498381129966}. Best is trial 49 with value: 6840.88.\u001b[0m\n"
     ]
    },
    {
     "name": "stdout",
     "output_type": "stream",
     "text": [
      "index_parallel='0070'\n"
     ]
    },
    {
     "name": "stderr",
     "output_type": "stream",
     "text": [
      "\u001b[32m[I 2022-08-16 01:54:49,591]\u001b[0m Trial 70 finished with value: 6589.595 and parameters: {'kErase': 2, 'kRadius': 4, 'kAnnealingA': 13.087369655812886, 'kAnnealingB': 2.8683236352820134, 'kAnnealingStart': 23.99169586845788, 'kSkipRatio': 0.5974515087143567, 'kTargetDeterminationTrials': 6, 'kAttractionRatio': 0.13215729083769387, 'kMaxAttractionDistance': 21, 'kStartAttraction': 0.002601038185650943}. Best is trial 49 with value: 6840.88.\u001b[0m\n"
     ]
    },
    {
     "name": "stdout",
     "output_type": "stream",
     "text": [
      "index_parallel='0071'\n"
     ]
    },
    {
     "name": "stderr",
     "output_type": "stream",
     "text": [
      "\u001b[32m[I 2022-08-16 01:58:39,230]\u001b[0m Trial 71 finished with value: 6755.085 and parameters: {'kErase': 1, 'kRadius': 4, 'kAnnealingA': 11.009303148801731, 'kAnnealingB': 2.7795182245270964, 'kAnnealingStart': 13.516732943953714, 'kSkipRatio': 0.5848481945496895, 'kTargetDeterminationTrials': 7, 'kAttractionRatio': 0.061261373434199545, 'kMaxAttractionDistance': 44, 'kStartAttraction': 0.00123219214961772}. Best is trial 49 with value: 6840.88.\u001b[0m\n"
     ]
    },
    {
     "name": "stdout",
     "output_type": "stream",
     "text": [
      "index_parallel='0072'\n"
     ]
    },
    {
     "name": "stderr",
     "output_type": "stream",
     "text": [
      "\u001b[32m[I 2022-08-16 02:02:28,845]\u001b[0m Trial 72 finished with value: 6793.04 and parameters: {'kErase': 1, 'kRadius': 4, 'kAnnealingA': 7.098615833644273, 'kAnnealingB': 2.64198624256915, 'kAnnealingStart': 14.784560913619396, 'kSkipRatio': 0.5678259128388684, 'kTargetDeterminationTrials': 8, 'kAttractionRatio': 0.07696360565031017, 'kMaxAttractionDistance': 28, 'kStartAttraction': 0.002091821797112206}. Best is trial 49 with value: 6840.88.\u001b[0m\n"
     ]
    },
    {
     "name": "stdout",
     "output_type": "stream",
     "text": [
      "index_parallel='0073'\n"
     ]
    },
    {
     "name": "stderr",
     "output_type": "stream",
     "text": [
      "\u001b[32m[I 2022-08-16 02:06:18,111]\u001b[0m Trial 73 finished with value: 6739.015 and parameters: {'kErase': 1, 'kRadius': 6, 'kAnnealingA': 9.07667989122963, 'kAnnealingB': 2.2568191059819265, 'kAnnealingStart': 15.689197511635202, 'kSkipRatio': 0.6453918788364792, 'kTargetDeterminationTrials': 8, 'kAttractionRatio': 0.048040988499274365, 'kMaxAttractionDistance': 28, 'kStartAttraction': 0.0019606307533346903}. Best is trial 49 with value: 6840.88.\u001b[0m\n"
     ]
    },
    {
     "name": "stdout",
     "output_type": "stream",
     "text": [
      "index_parallel='0074'\n"
     ]
    },
    {
     "name": "stderr",
     "output_type": "stream",
     "text": [
      "\u001b[32m[I 2022-08-16 02:10:07,474]\u001b[0m Trial 74 finished with value: 6706.26 and parameters: {'kErase': 1, 'kRadius': 4, 'kAnnealingA': 13.954053636913848, 'kAnnealingB': 2.5289823362786885, 'kAnnealingStart': 20.310169680038474, 'kSkipRatio': 0.5523058405466015, 'kTargetDeterminationTrials': 9, 'kAttractionRatio': 0.07570524090744836, 'kMaxAttractionDistance': 35, 'kStartAttraction': 0.003964545619375802}. Best is trial 49 with value: 6840.88.\u001b[0m\n"
     ]
    },
    {
     "name": "stdout",
     "output_type": "stream",
     "text": [
      "index_parallel='0075'\n"
     ]
    },
    {
     "name": "stderr",
     "output_type": "stream",
     "text": [
      "\u001b[32m[I 2022-08-16 02:13:56,576]\u001b[0m Trial 75 finished with value: 6702.105 and parameters: {'kErase': 1, 'kRadius': 5, 'kAnnealingA': 12.202717531818955, 'kAnnealingB': 2.6284965100522717, 'kAnnealingStart': 31.17337192347558, 'kSkipRatio': 0.6686941526545864, 'kTargetDeterminationTrials': 11, 'kAttractionRatio': 0.026841475232628847, 'kMaxAttractionDistance': 19, 'kStartAttraction': 0.002705287794717054}. Best is trial 49 with value: 6840.88.\u001b[0m\n"
     ]
    },
    {
     "name": "stdout",
     "output_type": "stream",
     "text": [
      "index_parallel='0076'\n"
     ]
    },
    {
     "name": "stderr",
     "output_type": "stream",
     "text": [
      "\u001b[32m[I 2022-08-16 02:17:45,764]\u001b[0m Trial 76 finished with value: 6711.2 and parameters: {'kErase': 1, 'kRadius': 3, 'kAnnealingA': 8.557542992065123, 'kAnnealingB': 2.374511538759407, 'kAnnealingStart': 24.667629348651907, 'kSkipRatio': 0.6194301278742587, 'kTargetDeterminationTrials': 6, 'kAttractionRatio': 0.18592666051294057, 'kMaxAttractionDistance': 22, 'kStartAttraction': 0.0020671021236761465}. Best is trial 49 with value: 6840.88.\u001b[0m\n"
     ]
    },
    {
     "name": "stdout",
     "output_type": "stream",
     "text": [
      "index_parallel='0077'\n"
     ]
    },
    {
     "name": "stderr",
     "output_type": "stream",
     "text": [
      "\u001b[32m[I 2022-08-16 02:21:34,873]\u001b[0m Trial 77 finished with value: 6740.69 and parameters: {'kErase': 1, 'kRadius': 4, 'kAnnealingA': 11.498400850451048, 'kAnnealingB': 2.2029556537933934, 'kAnnealingStart': 17.975040814982673, 'kSkipRatio': 0.5422228639089358, 'kTargetDeterminationTrials': 8, 'kAttractionRatio': 0.09133948503119814, 'kMaxAttractionDistance': 24, 'kStartAttraction': 0.0011983070832553876}. Best is trial 49 with value: 6840.88.\u001b[0m\n"
     ]
    },
    {
     "name": "stdout",
     "output_type": "stream",
     "text": [
      "index_parallel='0078'\n"
     ]
    },
    {
     "name": "stderr",
     "output_type": "stream",
     "text": [
      "\u001b[32m[I 2022-08-16 02:25:23,851]\u001b[0m Trial 78 finished with value: 6665.835 and parameters: {'kErase': 1, 'kRadius': 3, 'kAnnealingA': 5.493270519276702, 'kAnnealingB': 2.6921005462867806, 'kAnnealingStart': 9.299551896309652, 'kSkipRatio': 0.6045343239943632, 'kTargetDeterminationTrials': 11, 'kAttractionRatio': 0.06618493907518842, 'kMaxAttractionDistance': 28, 'kStartAttraction': 0.0031866914289245332}. Best is trial 49 with value: 6840.88.\u001b[0m\n"
     ]
    },
    {
     "name": "stdout",
     "output_type": "stream",
     "text": [
      "index_parallel='0079'\n"
     ]
    },
    {
     "name": "stderr",
     "output_type": "stream",
     "text": [
      "\u001b[32m[I 2022-08-16 02:29:13,015]\u001b[0m Trial 79 finished with value: 6783.7 and parameters: {'kErase': 1, 'kRadius': 4, 'kAnnealingA': 9.779907515869432, 'kAnnealingB': 2.5209965413648177, 'kAnnealingStart': 13.904982203277164, 'kSkipRatio': 0.5197600302652852, 'kTargetDeterminationTrials': 10, 'kAttractionRatio': 0.039341543699100236, 'kMaxAttractionDistance': 18, 'kStartAttraction': 0.001482384594017063}. Best is trial 49 with value: 6840.88.\u001b[0m\n"
     ]
    },
    {
     "name": "stdout",
     "output_type": "stream",
     "text": [
      "index_parallel='0080'\n"
     ]
    },
    {
     "name": "stderr",
     "output_type": "stream",
     "text": [
      "\u001b[32m[I 2022-08-16 02:33:02,329]\u001b[0m Trial 80 finished with value: 6765.785 and parameters: {'kErase': 1, 'kRadius': 4, 'kAnnealingA': 10.339407027939425, 'kAnnealingB': 2.007756908267548, 'kAnnealingStart': 13.75417935353545, 'kSkipRatio': 0.5175294297278363, 'kTargetDeterminationTrials': 10, 'kAttractionRatio': 0.07542263652940308, 'kMaxAttractionDistance': 18, 'kStartAttraction': 0.004084628207174009}. Best is trial 49 with value: 6840.88.\u001b[0m\n"
     ]
    },
    {
     "name": "stdout",
     "output_type": "stream",
     "text": [
      "index_parallel='0081'\n"
     ]
    },
    {
     "name": "stderr",
     "output_type": "stream",
     "text": [
      "\u001b[32m[I 2022-08-16 02:36:51,604]\u001b[0m Trial 81 finished with value: 6806.415 and parameters: {'kErase': 1, 'kRadius': 4, 'kAnnealingA': 7.258833268638824, 'kAnnealingB': 2.542312579849813, 'kAnnealingStart': 16.7688890139385, 'kSkipRatio': 0.5717982018339516, 'kTargetDeterminationTrials': 9, 'kAttractionRatio': 0.048171771582045685, 'kMaxAttractionDistance': 35, 'kStartAttraction': 0.04168779847096439}. Best is trial 49 with value: 6840.88.\u001b[0m\n"
     ]
    },
    {
     "name": "stdout",
     "output_type": "stream",
     "text": [
      "index_parallel='0082'\n"
     ]
    },
    {
     "name": "stderr",
     "output_type": "stream",
     "text": [
      "\u001b[32m[I 2022-08-16 02:40:41,045]\u001b[0m Trial 82 finished with value: 6725.705 and parameters: {'kErase': 1, 'kRadius': 4, 'kAnnealingA': 6.928149590462981, 'kAnnealingB': 2.513315268389159, 'kAnnealingStart': 11.469180002411168, 'kSkipRatio': 0.5651196895210254, 'kTargetDeterminationTrials': 9, 'kAttractionRatio': 0.05093658800536691, 'kMaxAttractionDistance': 29, 'kStartAttraction': 0.05216505474825937}. Best is trial 49 with value: 6840.88.\u001b[0m\n"
     ]
    },
    {
     "name": "stdout",
     "output_type": "stream",
     "text": [
      "index_parallel='0083'\n"
     ]
    },
    {
     "name": "stderr",
     "output_type": "stream",
     "text": [
      "\u001b[32m[I 2022-08-16 02:44:30,374]\u001b[0m Trial 83 finished with value: 6801.765 and parameters: {'kErase': 1, 'kRadius': 4, 'kAnnealingA': 9.58161793290321, 'kAnnealingB': 2.917634630554845, 'kAnnealingStart': 15.866316160186804, 'kSkipRatio': 0.5463407507633824, 'kTargetDeterminationTrials': 11, 'kAttractionRatio': 0.0400075447711336, 'kMaxAttractionDistance': 36, 'kStartAttraction': 0.0248916890139443}. Best is trial 49 with value: 6840.88.\u001b[0m\n"
     ]
    },
    {
     "name": "stdout",
     "output_type": "stream",
     "text": [
      "index_parallel='0084'\n"
     ]
    },
    {
     "name": "stderr",
     "output_type": "stream",
     "text": [
      "\u001b[32m[I 2022-08-16 02:48:19,718]\u001b[0m Trial 84 finished with value: 6688.915 and parameters: {'kErase': 1, 'kRadius': 4, 'kAnnealingA': 9.731303251827043, 'kAnnealingB': 2.385703527563456, 'kAnnealingStart': 22.378812766740097, 'kSkipRatio': 0.543585279079249, 'kTargetDeterminationTrials': 11, 'kAttractionRatio': 0.03708631270918077, 'kMaxAttractionDistance': 42, 'kStartAttraction': 0.03904575888415728}. Best is trial 49 with value: 6840.88.\u001b[0m\n"
     ]
    },
    {
     "name": "stdout",
     "output_type": "stream",
     "text": [
      "index_parallel='0085'\n"
     ]
    },
    {
     "name": "stderr",
     "output_type": "stream",
     "text": [
      "\u001b[32m[I 2022-08-16 02:52:10,140]\u001b[0m Trial 85 finished with value: 5976.495 and parameters: {'kErase': 5, 'kRadius': 4, 'kAnnealingA': 8.176346275709413, 'kAnnealingB': 2.8938637270186667, 'kAnnealingStart': 15.939512491773737, 'kSkipRatio': 0.5214211320584128, 'kTargetDeterminationTrials': 15, 'kAttractionRatio': 0.030201965829566184, 'kMaxAttractionDistance': 36, 'kStartAttraction': 0.04028675891416424}. Best is trial 49 with value: 6840.88.\u001b[0m\n"
     ]
    },
    {
     "name": "stdout",
     "output_type": "stream",
     "text": [
      "index_parallel='0086'\n"
     ]
    },
    {
     "name": "stderr",
     "output_type": "stream",
     "text": [
      "\u001b[32m[I 2022-08-16 02:55:59,641]\u001b[0m Trial 86 finished with value: 6775.18 and parameters: {'kErase': 1, 'kRadius': 4, 'kAnnealingA': 5.4711173190238505, 'kAnnealingB': 2.1340702029274135, 'kAnnealingStart': 19.951756101478512, 'kSkipRatio': 0.5017230734989043, 'kTargetDeterminationTrials': 10, 'kAttractionRatio': 0.02504289994355772, 'kMaxAttractionDistance': 34, 'kStartAttraction': 0.08584937074593872}. Best is trial 49 with value: 6840.88.\u001b[0m\n"
     ]
    },
    {
     "name": "stdout",
     "output_type": "stream",
     "text": [
      "index_parallel='0087'\n"
     ]
    },
    {
     "name": "stderr",
     "output_type": "stream",
     "text": [
      "\u001b[32m[I 2022-08-16 02:59:48,885]\u001b[0m Trial 87 finished with value: 6642.32 and parameters: {'kErase': 1, 'kRadius': 5, 'kAnnealingA': 7.170409894713584, 'kAnnealingB': 2.9268366051779577, 'kAnnealingStart': 35.676735458290196, 'kSkipRatio': 0.5888202826185917, 'kTargetDeterminationTrials': 12, 'kAttractionRatio': 0.03928137590366804, 'kMaxAttractionDistance': 23, 'kStartAttraction': 0.025621960725257867}. Best is trial 49 with value: 6840.88.\u001b[0m\n"
     ]
    },
    {
     "name": "stdout",
     "output_type": "stream",
     "text": [
      "index_parallel='0088'\n"
     ]
    },
    {
     "name": "stderr",
     "output_type": "stream",
     "text": [
      "\u001b[32m[I 2022-08-16 03:03:38,951]\u001b[0m Trial 88 finished with value: 6736.405 and parameters: {'kErase': 2, 'kRadius': 4, 'kAnnealingA': 9.26730956799828, 'kAnnealingB': 2.5625598010086112, 'kAnnealingStart': 12.464285158500473, 'kSkipRatio': 0.4922116617808696, 'kTargetDeterminationTrials': 14, 'kAttractionRatio': 0.04497090411875924, 'kMaxAttractionDistance': 40, 'kStartAttraction': 0.01789600303805944}. Best is trial 49 with value: 6840.88.\u001b[0m\n"
     ]
    },
    {
     "name": "stdout",
     "output_type": "stream",
     "text": [
      "index_parallel='0089'\n"
     ]
    },
    {
     "name": "stderr",
     "output_type": "stream",
     "text": [
      "\u001b[32m[I 2022-08-16 03:07:28,149]\u001b[0m Trial 89 finished with value: 6752.8 and parameters: {'kErase': 1, 'kRadius': 5, 'kAnnealingA': 7.628459581460502, 'kAnnealingB': 2.4370794682878514, 'kAnnealingStart': 10.902758236930223, 'kSkipRatio': 0.5481633853770156, 'kTargetDeterminationTrials': 8, 'kAttractionRatio': 0.03211987180843617, 'kMaxAttractionDistance': 20, 'kStartAttraction': 0.18412114642574987}. Best is trial 49 with value: 6840.88.\u001b[0m\n"
     ]
    },
    {
     "name": "stdout",
     "output_type": "stream",
     "text": [
      "index_parallel='0090'\n"
     ]
    },
    {
     "name": "stderr",
     "output_type": "stream",
     "text": [
      "\u001b[32m[I 2022-08-16 03:11:17,472]\u001b[0m Trial 90 finished with value: 6749.7 and parameters: {'kErase': 1, 'kRadius': 4, 'kAnnealingA': 10.685501152525132, 'kAnnealingB': 2.0708704092868118, 'kAnnealingStart': 27.360481720887595, 'kSkipRatio': 0.6400355250616978, 'kTargetDeterminationTrials': 9, 'kAttractionRatio': 0.02787766434462099, 'kMaxAttractionDistance': 16, 'kStartAttraction': 0.04668082735154124}. Best is trial 49 with value: 6840.88.\u001b[0m\n"
     ]
    },
    {
     "name": "stdout",
     "output_type": "stream",
     "text": [
      "index_parallel='0091'\n"
     ]
    },
    {
     "name": "stderr",
     "output_type": "stream",
     "text": [
      "\u001b[32m[I 2022-08-16 03:15:06,941]\u001b[0m Trial 91 finished with value: 6760.27 and parameters: {'kErase': 1, 'kRadius': 4, 'kAnnealingA': 9.766374334969548, 'kAnnealingB': 2.636515442933837, 'kAnnealingStart': 13.296300506426062, 'kSkipRatio': 0.5674482319418535, 'kTargetDeterminationTrials': 7, 'kAttractionRatio': 0.05578309841197003, 'kMaxAttractionDistance': 30, 'kStartAttraction': 0.0016632888418417102}. Best is trial 49 with value: 6840.88.\u001b[0m\n"
     ]
    },
    {
     "name": "stdout",
     "output_type": "stream",
     "text": [
      "index_parallel='0092'\n"
     ]
    },
    {
     "name": "stderr",
     "output_type": "stream",
     "text": [
      "\u001b[32m[I 2022-08-16 03:18:56,664]\u001b[0m Trial 92 finished with value: 6736.425 and parameters: {'kErase': 1, 'kRadius': 4, 'kAnnealingA': 8.243210370911566, 'kAnnealingB': 2.710522143486202, 'kAnnealingStart': 14.645859214119627, 'kSkipRatio': 0.5255043423323877, 'kTargetDeterminationTrials': 10, 'kAttractionRatio': 0.07023882789099116, 'kMaxAttractionDistance': 26, 'kStartAttraction': 0.0014591783660353951}. Best is trial 49 with value: 6840.88.\u001b[0m\n"
     ]
    },
    {
     "name": "stdout",
     "output_type": "stream",
     "text": [
      "index_parallel='0093'\n"
     ]
    },
    {
     "name": "stderr",
     "output_type": "stream",
     "text": [
      "\u001b[32m[I 2022-08-16 03:22:45,999]\u001b[0m Trial 93 finished with value: 6821.955 and parameters: {'kErase': 1, 'kRadius': 4, 'kAnnealingA': 11.558198682593286, 'kAnnealingB': 2.999090300196084, 'kAnnealingStart': 16.170249823692714, 'kSkipRatio': 0.5785251416268367, 'kTargetDeterminationTrials': 11, 'kAttractionRatio': 0.04789882646965569, 'kMaxAttractionDistance': 38, 'kStartAttraction': 0.8557206513537685}. Best is trial 49 with value: 6840.88.\u001b[0m\n"
     ]
    },
    {
     "name": "stdout",
     "output_type": "stream",
     "text": [
      "index_parallel='0094'\n"
     ]
    },
    {
     "name": "stderr",
     "output_type": "stream",
     "text": [
      "\u001b[32m[I 2022-08-16 03:26:35,899]\u001b[0m Trial 94 finished with value: 6809.95 and parameters: {'kErase': 1, 'kRadius': 3, 'kAnnealingA': 9.21429690601814, 'kAnnealingB': 2.993091914805224, 'kAnnealingStart': 16.223101641127723, 'kSkipRatio': 0.6056020407732563, 'kTargetDeterminationTrials': 11, 'kAttractionRatio': 0.019619592355280387, 'kMaxAttractionDistance': 50, 'kStartAttraction': 0.009461068476423562}. Best is trial 49 with value: 6840.88.\u001b[0m\n"
     ]
    },
    {
     "name": "stdout",
     "output_type": "stream",
     "text": [
      "index_parallel='0095'\n"
     ]
    },
    {
     "name": "stderr",
     "output_type": "stream",
     "text": [
      "\u001b[32m[I 2022-08-16 03:30:25,290]\u001b[0m Trial 95 finished with value: 6840.0 and parameters: {'kErase': 1, 'kRadius': 3, 'kAnnealingA': 6.702482730942393, 'kAnnealingB': 2.9933958104712057, 'kAnnealingStart': 16.507831110649516, 'kSkipRatio': 0.6097557991613191, 'kTargetDeterminationTrials': 16, 'kAttractionRatio': 0.019799530207132876, 'kMaxAttractionDistance': 49, 'kStartAttraction': 0.6685113389080546}. Best is trial 49 with value: 6840.88.\u001b[0m\n"
     ]
    },
    {
     "name": "stdout",
     "output_type": "stream",
     "text": [
      "index_parallel='0096'\n"
     ]
    },
    {
     "name": "stderr",
     "output_type": "stream",
     "text": [
      "\u001b[32m[I 2022-08-16 03:34:14,682]\u001b[0m Trial 96 finished with value: 6555.815 and parameters: {'kErase': 1, 'kRadius': 3, 'kAnnealingA': -6.183174326883284, 'kAnnealingB': 2.9383072440295357, 'kAnnealingStart': 16.726228382525843, 'kSkipRatio': 0.612083126093012, 'kTargetDeterminationTrials': 14, 'kAttractionRatio': 0.01902490503790784, 'kMaxAttractionDistance': 50, 'kStartAttraction': 0.7934962165503152}. Best is trial 49 with value: 6840.88.\u001b[0m\n"
     ]
    },
    {
     "name": "stdout",
     "output_type": "stream",
     "text": [
      "index_parallel='0097'\n"
     ]
    },
    {
     "name": "stderr",
     "output_type": "stream",
     "text": [
      "\u001b[32m[I 2022-08-16 03:38:04,504]\u001b[0m Trial 97 finished with value: 6729.545 and parameters: {'kErase': 3, 'kRadius': 3, 'kAnnealingA': 2.894843510701258, 'kAnnealingB': 2.9884801442412914, 'kAnnealingStart': 18.953309966873427, 'kSkipRatio': 0.5839989628815551, 'kTargetDeterminationTrials': 16, 'kAttractionRatio': 0.015962426780746046, 'kMaxAttractionDistance': 68, 'kStartAttraction': 0.4401280124813022}. Best is trial 49 with value: 6840.88.\u001b[0m\n"
     ]
    },
    {
     "name": "stdout",
     "output_type": "stream",
     "text": [
      "index_parallel='0098'\n"
     ]
    },
    {
     "name": "stderr",
     "output_type": "stream",
     "text": [
      "\u001b[32m[I 2022-08-16 03:41:53,698]\u001b[0m Trial 98 finished with value: 6815.65 and parameters: {'kErase': 1, 'kRadius': 3, 'kAnnealingA': 11.377287579609762, 'kAnnealingB': 2.785765000911853, 'kAnnealingStart': 22.604229190055577, 'kSkipRatio': 0.6550541441562991, 'kTargetDeterminationTrials': 19, 'kAttractionRatio': 0.02124243416186722, 'kMaxAttractionDistance': 61, 'kStartAttraction': 0.7801814377210916}. Best is trial 49 with value: 6840.88.\u001b[0m\n"
     ]
    },
    {
     "name": "stdout",
     "output_type": "stream",
     "text": [
      "index_parallel='0099'\n"
     ]
    },
    {
     "name": "stderr",
     "output_type": "stream",
     "text": [
      "\u001b[32m[I 2022-08-16 03:45:43,152]\u001b[0m Trial 99 finished with value: 6812.15 and parameters: {'kErase': 1, 'kRadius': 3, 'kAnnealingA': 11.552856128851408, 'kAnnealingB': 2.809761060788587, 'kAnnealingStart': 22.653243665375527, 'kSkipRatio': 0.6548012813992515, 'kTargetDeterminationTrials': 18, 'kAttractionRatio': 0.019247686424328354, 'kMaxAttractionDistance': 76, 'kStartAttraction': 0.7164860490601649}. Best is trial 49 with value: 6840.88.\u001b[0m\n"
     ]
    },
    {
     "name": "stdout",
     "output_type": "stream",
     "text": [
      "index_parallel='0100'\n"
     ]
    },
    {
     "name": "stderr",
     "output_type": "stream",
     "text": [
      "\u001b[32m[I 2022-08-16 03:49:32,541]\u001b[0m Trial 100 finished with value: 6810.19 and parameters: {'kErase': 1, 'kRadius': 3, 'kAnnealingA': 10.396713104979423, 'kAnnealingB': 2.810507337553785, 'kAnnealingStart': 23.080788535387548, 'kSkipRatio': 0.6513372376156145, 'kTargetDeterminationTrials': 19, 'kAttractionRatio': 0.019393394463124033, 'kMaxAttractionDistance': 71, 'kStartAttraction': 0.8525414461827227}. Best is trial 49 with value: 6840.88.\u001b[0m\n"
     ]
    },
    {
     "name": "stdout",
     "output_type": "stream",
     "text": [
      "index_parallel='0101'\n"
     ]
    },
    {
     "name": "stderr",
     "output_type": "stream",
     "text": [
      "\u001b[32m[I 2022-08-16 03:53:21,787]\u001b[0m Trial 101 finished with value: 6763.775 and parameters: {'kErase': 1, 'kRadius': 3, 'kAnnealingA': 11.387186128544545, 'kAnnealingB': 2.8130545821136317, 'kAnnealingStart': 22.777376905360743, 'kSkipRatio': 0.705977679971011, 'kTargetDeterminationTrials': 19, 'kAttractionRatio': 0.019401393498826813, 'kMaxAttractionDistance': 76, 'kStartAttraction': 0.8851124462674493}. Best is trial 49 with value: 6840.88.\u001b[0m\n"
     ]
    },
    {
     "name": "stdout",
     "output_type": "stream",
     "text": [
      "index_parallel='0102'\n"
     ]
    },
    {
     "name": "stderr",
     "output_type": "stream",
     "text": [
      "\u001b[32m[I 2022-08-16 03:57:10,985]\u001b[0m Trial 102 finished with value: 6767.695 and parameters: {'kErase': 1, 'kRadius': 3, 'kAnnealingA': 10.437096877041194, 'kAnnealingB': 2.8995744240890793, 'kAnnealingStart': 30.047132670902467, 'kSkipRatio': 0.6575355900825007, 'kTargetDeterminationTrials': 20, 'kAttractionRatio': 0.023093843104329135, 'kMaxAttractionDistance': 60, 'kStartAttraction': 0.6835710359440786}. Best is trial 49 with value: 6840.88.\u001b[0m\n"
     ]
    },
    {
     "name": "stdout",
     "output_type": "stream",
     "text": [
      "index_parallel='0103'\n"
     ]
    },
    {
     "name": "stderr",
     "output_type": "stream",
     "text": [
      "\u001b[32m[I 2022-08-16 04:01:00,200]\u001b[0m Trial 103 finished with value: 6789.82 and parameters: {'kErase': 1, 'kRadius': 3, 'kAnnealingA': 11.581414271589214, 'kAnnealingB': 2.781469885715608, 'kAnnealingStart': 25.00789059496349, 'kSkipRatio': 0.6490773574361928, 'kTargetDeterminationTrials': 18, 'kAttractionRatio': 0.02053376318950762, 'kMaxAttractionDistance': 48, 'kStartAttraction': 0.4542576658418373}. Best is trial 49 with value: 6840.88.\u001b[0m\n"
     ]
    },
    {
     "name": "stdout",
     "output_type": "stream",
     "text": [
      "index_parallel='0104'\n"
     ]
    },
    {
     "name": "stderr",
     "output_type": "stream",
     "text": [
      "\u001b[32m[I 2022-08-16 04:04:49,620]\u001b[0m Trial 104 finished with value: 6789.095 and parameters: {'kErase': 1, 'kRadius': 3, 'kAnnealingA': 9.089881722786787, 'kAnnealingB': 2.8357947120299363, 'kAnnealingStart': 21.63700283852761, 'kSkipRatio': 0.6960381441123474, 'kTargetDeterminationTrials': 16, 'kAttractionRatio': 0.01757323120926728, 'kMaxAttractionDistance': 77, 'kStartAttraction': 0.6021691768490863}. Best is trial 49 with value: 6840.88.\u001b[0m\n"
     ]
    },
    {
     "name": "stdout",
     "output_type": "stream",
     "text": [
      "index_parallel='0105'\n"
     ]
    },
    {
     "name": "stderr",
     "output_type": "stream",
     "text": [
      "\u001b[32m[I 2022-08-16 04:08:38,621]\u001b[0m Trial 105 finished with value: 6788.125 and parameters: {'kErase': 1, 'kRadius': 3, 'kAnnealingA': 10.87336718470036, 'kAnnealingB': 2.9570891656810083, 'kAnnealingStart': 16.554809671478402, 'kSkipRatio': 0.6323369980894386, 'kTargetDeterminationTrials': 18, 'kAttractionRatio': 0.015168952101303727, 'kMaxAttractionDistance': 94, 'kStartAttraction': 0.4964217140044264}. Best is trial 49 with value: 6840.88.\u001b[0m\n"
     ]
    },
    {
     "name": "stdout",
     "output_type": "stream",
     "text": [
      "index_parallel='0106'\n"
     ]
    },
    {
     "name": "stderr",
     "output_type": "stream",
     "text": [
      "\u001b[32m[I 2022-08-16 04:12:28,194]\u001b[0m Trial 106 finished with value: 6669.395 and parameters: {'kErase': 1, 'kRadius': 3, 'kAnnealingA': 8.49624612951874, 'kAnnealingB': 2.9896735335287805, 'kAnnealingStart': 40.63102466050611, 'kSkipRatio': 0.6701385570500337, 'kTargetDeterminationTrials': 17, 'kAttractionRatio': 0.02467444441507487, 'kMaxAttractionDistance': 59, 'kStartAttraction': 0.7035668220123364}. Best is trial 49 with value: 6840.88.\u001b[0m\n"
     ]
    },
    {
     "name": "stdout",
     "output_type": "stream",
     "text": [
      "index_parallel='0107'\n"
     ]
    },
    {
     "name": "stderr",
     "output_type": "stream",
     "text": [
      "\u001b[32m[I 2022-08-16 04:16:17,716]\u001b[0m Trial 107 finished with value: 6375.385 and parameters: {'kErase': 1, 'kRadius': 3, 'kAnnealingA': 9.47245432326757, 'kAnnealingB': 2.7537691191046823, 'kAnnealingStart': 1.8767115653402704, 'kSkipRatio': 0.7382136158128735, 'kTargetDeterminationTrials': 15, 'kAttractionRatio': 0.022695163160506737, 'kMaxAttractionDistance': 70, 'kStartAttraction': 0.3896229371944488}. Best is trial 49 with value: 6840.88.\u001b[0m\n"
     ]
    },
    {
     "name": "stdout",
     "output_type": "stream",
     "text": [
      "index_parallel='0108'\n"
     ]
    },
    {
     "name": "stderr",
     "output_type": "stream",
     "text": [
      "\u001b[32m[I 2022-08-16 04:20:06,997]\u001b[0m Trial 108 finished with value: 6707.385 and parameters: {'kErase': 1, 'kRadius': 3, 'kAnnealingA': 10.138542569950241, 'kAnnealingB': 2.871444083814376, 'kAnnealingStart': 27.437483552635992, 'kSkipRatio': 0.6175201602525082, 'kTargetDeterminationTrials': 19, 'kAttractionRatio': 0.013384079080304933, 'kMaxAttractionDistance': 52, 'kStartAttraction': 0.5632500632213365}. Best is trial 49 with value: 6840.88.\u001b[0m\n"
     ]
    },
    {
     "name": "stdout",
     "output_type": "stream",
     "text": [
      "index_parallel='0109'\n"
     ]
    },
    {
     "name": "stderr",
     "output_type": "stream",
     "text": [
      "\u001b[32m[I 2022-08-16 04:23:56,379]\u001b[0m Trial 109 finished with value: 6764.6 and parameters: {'kErase': 2, 'kRadius': 3, 'kAnnealingA': 12.404346529895873, 'kAnnealingB': 2.9990017572834007, 'kAnnealingStart': 19.249748232194136, 'kSkipRatio': 0.5818835735715672, 'kTargetDeterminationTrials': 12, 'kAttractionRatio': 0.011068425120176601, 'kMaxAttractionDistance': 38, 'kStartAttraction': 0.25692816154161763}. Best is trial 49 with value: 6840.88.\u001b[0m\n"
     ]
    },
    {
     "name": "stdout",
     "output_type": "stream",
     "text": [
      "index_parallel='0110'\n"
     ]
    },
    {
     "name": "stderr",
     "output_type": "stream",
     "text": [
      "\u001b[32m[I 2022-08-16 04:27:45,804]\u001b[0m Trial 110 finished with value: 6750.325 and parameters: {'kErase': 1, 'kRadius': 3, 'kAnnealingA': 11.546689597422429, 'kAnnealingB': 1.9097158636163676, 'kAnnealingStart': 23.346328295773795, 'kSkipRatio': 0.5914755967448009, 'kTargetDeterminationTrials': 16, 'kAttractionRatio': 0.018503053822643657, 'kMaxAttractionDistance': 43, 'kStartAttraction': 0.014127282813964687}. Best is trial 49 with value: 6840.88.\u001b[0m\n"
     ]
    },
    {
     "name": "stdout",
     "output_type": "stream",
     "text": [
      "index_parallel='0111'\n"
     ]
    },
    {
     "name": "stderr",
     "output_type": "stream",
     "text": [
      "\u001b[32m[I 2022-08-16 04:31:35,004]\u001b[0m Trial 111 finished with value: 6812.83 and parameters: {'kErase': 1, 'kRadius': 3, 'kAnnealingA': 12.60101624244091, 'kAnnealingB': 2.8029152374846347, 'kAnnealingStart': 18.38566738711906, 'kSkipRatio': 0.6072847483731245, 'kTargetDeterminationTrials': 14, 'kAttractionRatio': 0.020772005485153015, 'kMaxAttractionDistance': 55, 'kStartAttraction': 0.8332751743278496}. Best is trial 49 with value: 6840.88.\u001b[0m\n"
     ]
    },
    {
     "name": "stdout",
     "output_type": "stream",
     "text": [
      "index_parallel='0112'\n"
     ]
    },
    {
     "name": "stderr",
     "output_type": "stream",
     "text": [
      "\u001b[32m[I 2022-08-16 04:35:24,400]\u001b[0m Trial 112 finished with value: 6789.3 and parameters: {'kErase': 1, 'kRadius': 3, 'kAnnealingA': 13.675403909972252, 'kAnnealingB': 2.827849003833834, 'kAnnealingStart': 16.293755148104495, 'kSkipRatio': 0.6058315311604513, 'kTargetDeterminationTrials': 14, 'kAttractionRatio': 0.020771290497207266, 'kMaxAttractionDistance': 85, 'kStartAttraction': 0.888623143462642}. Best is trial 49 with value: 6840.88.\u001b[0m\n"
     ]
    },
    {
     "name": "stdout",
     "output_type": "stream",
     "text": [
      "index_parallel='0113'\n"
     ]
    },
    {
     "name": "stderr",
     "output_type": "stream",
     "text": [
      "\u001b[32m[I 2022-08-16 04:39:13,726]\u001b[0m Trial 113 finished with value: 6721.29 and parameters: {'kErase': 1, 'kRadius': 3, 'kAnnealingA': -3.1046241837762647, 'kAnnealingB': 2.9077335816300205, 'kAnnealingStart': 18.933366788414865, 'kSkipRatio': 0.6297939279415645, 'kTargetDeterminationTrials': 11, 'kAttractionRatio': 0.014873728978258189, 'kMaxAttractionDistance': 64, 'kStartAttraction': 0.7329464053932517}. Best is trial 49 with value: 6840.88.\u001b[0m\n"
     ]
    },
    {
     "name": "stdout",
     "output_type": "stream",
     "text": [
      "index_parallel='0114'\n"
     ]
    },
    {
     "name": "stderr",
     "output_type": "stream",
     "text": [
      "\u001b[32m[I 2022-08-16 04:43:03,141]\u001b[0m Trial 114 finished with value: 6858.58 and parameters: {'kErase': 1, 'kRadius': 3, 'kAnnealingA': 6.532487170638218, 'kAnnealingB': 2.749508199582408, 'kAnnealingStart': 21.689034807722773, 'kSkipRatio': 0.6557171577224019, 'kTargetDeterminationTrials': 20, 'kAttractionRatio': 0.016562903834073783, 'kMaxAttractionDistance': 58, 'kStartAttraction': 0.5952773226429291}. Best is trial 114 with value: 6858.58.\u001b[0m\n"
     ]
    },
    {
     "name": "stdout",
     "output_type": "stream",
     "text": [
      "Updated! 6858.58\n",
      "index_parallel='0115'\n"
     ]
    },
    {
     "name": "stderr",
     "output_type": "stream",
     "text": [
      "\u001b[32m[I 2022-08-16 04:46:52,394]\u001b[0m Trial 115 finished with value: 6141.24 and parameters: {'kErase': 1, 'kRadius': 3, 'kAnnealingA': 6.45778658248112, 'kAnnealingB': 2.7375357216655094, 'kAnnealingStart': 99.27506862376269, 'kSkipRatio': 0.6744599562694928, 'kTargetDeterminationTrials': 17, 'kAttractionRatio': 0.016030408948055422, 'kMaxAttractionDistance': 56, 'kStartAttraction': 0.6199587114408852}. Best is trial 114 with value: 6858.58.\u001b[0m\n"
     ]
    },
    {
     "name": "stdout",
     "output_type": "stream",
     "text": [
      "index_parallel='0116'\n"
     ]
    },
    {
     "name": "stderr",
     "output_type": "stream",
     "text": [
      "\u001b[32m[I 2022-08-16 04:50:41,470]\u001b[0m Trial 116 finished with value: 6838.87 and parameters: {'kErase': 1, 'kRadius': 3, 'kAnnealingA': 4.109120855193334, 'kAnnealingB': 1.7128961175633481, 'kAnnealingStart': 25.811923707089594, 'kSkipRatio': 0.6384622587980447, 'kTargetDeterminationTrials': 20, 'kAttractionRatio': 0.012665634522365675, 'kMaxAttractionDistance': 78, 'kStartAttraction': 0.3468129420926494}. Best is trial 114 with value: 6858.58.\u001b[0m\n"
     ]
    },
    {
     "name": "stdout",
     "output_type": "stream",
     "text": [
      "index_parallel='0117'\n"
     ]
    },
    {
     "name": "stderr",
     "output_type": "stream",
     "text": [
      "\u001b[32m[I 2022-08-16 04:54:30,792]\u001b[0m Trial 117 finished with value: 6791.86 and parameters: {'kErase': 1, 'kRadius': 3, 'kAnnealingA': 4.533953668168167, 'kAnnealingB': 1.7336683201978964, 'kAnnealingStart': 34.75637953869358, 'kSkipRatio': 0.6898247900176322, 'kTargetDeterminationTrials': 20, 'kAttractionRatio': 0.011650698860088068, 'kMaxAttractionDistance': 72, 'kStartAttraction': 0.34867066007451425}. Best is trial 114 with value: 6858.58.\u001b[0m\n"
     ]
    },
    {
     "name": "stdout",
     "output_type": "stream",
     "text": [
      "index_parallel='0118'\n"
     ]
    },
    {
     "name": "stderr",
     "output_type": "stream",
     "text": [
      "\u001b[32m[I 2022-08-16 04:58:20,063]\u001b[0m Trial 118 finished with value: 5504.02 and parameters: {'kErase': 1, 'kRadius': 3, 'kAnnealingA': 5.318351985793376, 'kAnnealingB': 1.526707535401601, 'kAnnealingStart': 30.090138651992483, 'kSkipRatio': 0.20500604519523608, 'kTargetDeterminationTrials': 19, 'kAttractionRatio': 0.012658383118862951, 'kMaxAttractionDistance': 88, 'kStartAttraction': 0.530748240435881}. Best is trial 114 with value: 6858.58.\u001b[0m\n"
     ]
    },
    {
     "name": "stdout",
     "output_type": "stream",
     "text": [
      "index_parallel='0119'\n"
     ]
    },
    {
     "name": "stderr",
     "output_type": "stream",
     "text": [
      "\u001b[32m[I 2022-08-16 05:02:09,265]\u001b[0m Trial 119 finished with value: 6771.535 and parameters: {'kErase': 1, 'kRadius': 3, 'kAnnealingA': 14.926871869352759, 'kAnnealingB': 1.640872216020406, 'kAnnealingStart': 22.999507820793855, 'kSkipRatio': 0.6491689952784481, 'kTargetDeterminationTrials': 18, 'kAttractionRatio': 0.01667261613363379, 'kMaxAttractionDistance': 81, 'kStartAttraction': 0.8077917735129124}. Best is trial 114 with value: 6858.58.\u001b[0m\n"
     ]
    },
    {
     "name": "stdout",
     "output_type": "stream",
     "text": [
      "index_parallel='0121'\n"
     ]
    },
    {
     "name": "stderr",
     "output_type": "stream",
     "text": [
      "\u001b[32m[I 2022-08-16 05:05:59,081]\u001b[0m Trial 121 finished with value: 6723.28 and parameters: {'kErase': 1, 'kRadius': 3, 'kAnnealingA': 12.703810265361977, 'kAnnealingB': 1.8742813767896513, 'kAnnealingStart': 25.953286511291086, 'kSkipRatio': 0.6368039267402316, 'kTargetDeterminationTrials': 15, 'kAttractionRatio': 0.018033064867696975, 'kMaxAttractionDistance': 60, 'kStartAttraction': 0.6618594391275524}. Best is trial 114 with value: 6858.58.\u001b[0m\n"
     ]
    },
    {
     "name": "stdout",
     "output_type": "stream",
     "text": [
      "index_parallel='0123'\n"
     ]
    },
    {
     "name": "stderr",
     "output_type": "stream",
     "text": [
      "\u001b[32m[I 2022-08-16 05:09:48,745]\u001b[0m Trial 123 finished with value: 6877.61 and parameters: {'kErase': 1, 'kRadius': 3, 'kAnnealingA': 5.90100148472799, 'kAnnealingB': 2.765396482052111, 'kAnnealingStart': 21.086439448579462, 'kSkipRatio': 0.621907877055688, 'kTargetDeterminationTrials': 13, 'kAttractionRatio': 0.013981826455618247, 'kMaxAttractionDistance': 50, 'kStartAttraction': 0.5045633707490177}. Best is trial 123 with value: 6877.61.\u001b[0m\n"
     ]
    },
    {
     "name": "stdout",
     "output_type": "stream",
     "text": [
      "Updated! 6877.61\n",
      "index_parallel='0125'\n"
     ]
    },
    {
     "name": "stderr",
     "output_type": "stream",
     "text": [
      "\u001b[32m[I 2022-08-16 05:13:38,271]\u001b[0m Trial 125 finished with value: 6811.495 and parameters: {'kErase': 1, 'kRadius': 3, 'kAnnealingA': 6.163886386459559, 'kAnnealingB': 2.7810704120438725, 'kAnnealingStart': 25.42742214407154, 'kSkipRatio': 0.6214172029522607, 'kTargetDeterminationTrials': 16, 'kAttractionRatio': 0.013665875994392158, 'kMaxAttractionDistance': 99, 'kStartAttraction': 0.4485993050620727}. Best is trial 123 with value: 6877.61.\u001b[0m\n"
     ]
    },
    {
     "name": "stdout",
     "output_type": "stream",
     "text": [
      "index_parallel='0127'\n"
     ]
    },
    {
     "name": "stderr",
     "output_type": "stream",
     "text": [
      "\u001b[32m[I 2022-08-16 05:17:27,785]\u001b[0m Trial 127 finished with value: 6691.5 and parameters: {'kErase': 1, 'kRadius': 3, 'kAnnealingA': 5.751148564444978, 'kAnnealingB': 2.752115258891552, 'kAnnealingStart': 40.94777686467534, 'kSkipRatio': 0.6233918622795025, 'kTargetDeterminationTrials': 17, 'kAttractionRatio': 0.013898693464536932, 'kMaxAttractionDistance': 73, 'kStartAttraction': 0.41643288177741206}. Best is trial 123 with value: 6877.61.\u001b[0m\n"
     ]
    },
    {
     "name": "stdout",
     "output_type": "stream",
     "text": [
      "index_parallel='0129'\n"
     ]
    },
    {
     "name": "stderr",
     "output_type": "stream",
     "text": [
      "\u001b[32m[I 2022-08-16 05:21:18,036]\u001b[0m Trial 129 finished with value: 6615.42 and parameters: {'kErase': 4, 'kRadius': 3, 'kAnnealingA': 3.492482350329905, 'kAnnealingB': 2.813046477236466, 'kAnnealingStart': 32.804219890556, 'kSkipRatio': 0.6462094157531463, 'kTargetDeterminationTrials': 20, 'kAttractionRatio': 0.010402991153476078, 'kMaxAttractionDistance': 65, 'kStartAttraction': 0.2396695974602086}. Best is trial 123 with value: 6877.61.\u001b[0m\n"
     ]
    },
    {
     "name": "stdout",
     "output_type": "stream",
     "text": [
      "index_parallel='0131'\n"
     ]
    },
    {
     "name": "stderr",
     "output_type": "stream",
     "text": [
      "\u001b[32m[I 2022-08-16 05:25:07,542]\u001b[0m Trial 131 finished with value: 6819.065 and parameters: {'kErase': 1, 'kRadius': 3, 'kAnnealingA': 6.536169718349502, 'kAnnealingB': 2.85879253271129, 'kAnnealingStart': 28.538007076987324, 'kSkipRatio': 0.6803334592507938, 'kTargetDeterminationTrials': 13, 'kAttractionRatio': 0.014364572983494264, 'kMaxAttractionDistance': 97, 'kStartAttraction': 0.30589716963031877}. Best is trial 123 with value: 6877.61.\u001b[0m\n"
     ]
    },
    {
     "name": "stdout",
     "output_type": "stream",
     "text": [
      "index_parallel='0133'\n"
     ]
    },
    {
     "name": "stderr",
     "output_type": "stream",
     "text": [
      "\u001b[32m[I 2022-08-16 05:28:56,970]\u001b[0m Trial 133 finished with value: 6841.68 and parameters: {'kErase': 1, 'kRadius': 3, 'kAnnealingA': 4.527074183546765, 'kAnnealingB': 2.862414828611758, 'kAnnealingStart': 27.815633594260568, 'kSkipRatio': 0.6798025388851183, 'kTargetDeterminationTrials': 13, 'kAttractionRatio': 0.01440703354807516, 'kMaxAttractionDistance': 94, 'kStartAttraction': 0.3153295530244873}. Best is trial 123 with value: 6877.61.\u001b[0m\n"
     ]
    },
    {
     "name": "stdout",
     "output_type": "stream",
     "text": [
      "index_parallel='0135'\n"
     ]
    },
    {
     "name": "stderr",
     "output_type": "stream",
     "text": [
      "\u001b[32m[I 2022-08-16 05:32:46,301]\u001b[0m Trial 135 finished with value: 6877.37 and parameters: {'kErase': 1, 'kRadius': 3, 'kAnnealingA': 2.0758393183337547, 'kAnnealingB': 2.882526183832602, 'kAnnealingStart': 29.68951143529582, 'kSkipRatio': 0.678583209337567, 'kTargetDeterminationTrials': 13, 'kAttractionRatio': 0.011575039338146163, 'kMaxAttractionDistance': 94, 'kStartAttraction': 0.3084834886127568}. Best is trial 134 with value: 6900.82.\u001b[0m\n"
     ]
    },
    {
     "name": "stdout",
     "output_type": "stream",
     "text": [
      "index_parallel='0137'\n"
     ]
    },
    {
     "name": "stderr",
     "output_type": "stream",
     "text": [
      "\u001b[32m[I 2022-08-16 05:36:35,860]\u001b[0m Trial 137 finished with value: 6881.525 and parameters: {'kErase': 1, 'kRadius': 3, 'kAnnealingA': 1.14767561989567, 'kAnnealingB': 2.91347323118613, 'kAnnealingStart': 32.3211237820025, 'kSkipRatio': 0.7256452410435872, 'kTargetDeterminationTrials': 13, 'kAttractionRatio': 0.011810696791349379, 'kMaxAttractionDistance': 90, 'kStartAttraction': 0.20491870997797143}. Best is trial 134 with value: 6900.82.\u001b[0m\n"
     ]
    },
    {
     "name": "stdout",
     "output_type": "stream",
     "text": [
      "index_parallel='0139'\n"
     ]
    },
    {
     "name": "stderr",
     "output_type": "stream",
     "text": [
      "\u001b[32m[I 2022-08-16 05:40:25,412]\u001b[0m Trial 139 finished with value: 6835.395 and parameters: {'kErase': 1, 'kRadius': 3, 'kAnnealingA': 1.721060838781745, 'kAnnealingB': 2.939254416100503, 'kAnnealingStart': 32.86409166171409, 'kSkipRatio': 0.7958801293552187, 'kTargetDeterminationTrials': 13, 'kAttractionRatio': 0.011668195889404301, 'kMaxAttractionDistance': 89, 'kStartAttraction': 0.21258920815821292}. Best is trial 134 with value: 6900.82.\u001b[0m\n"
     ]
    },
    {
     "name": "stdout",
     "output_type": "stream",
     "text": [
      "index_parallel='0141'\n"
     ]
    },
    {
     "name": "stderr",
     "output_type": "stream",
     "text": [
      "\u001b[32m[I 2022-08-16 05:44:14,709]\u001b[0m Trial 141 finished with value: 6808.07 and parameters: {'kErase': 1, 'kRadius': 3, 'kAnnealingA': 0.8740907135746909, 'kAnnealingB': 2.9444196244792, 'kAnnealingStart': 60.23646202415947, 'kSkipRatio': 0.7965858741761438, 'kTargetDeterminationTrials': 12, 'kAttractionRatio': 0.011826514236543394, 'kMaxAttractionDistance': 89, 'kStartAttraction': 0.14801025686799948}. Best is trial 134 with value: 6900.82.\u001b[0m\n"
     ]
    },
    {
     "name": "stdout",
     "output_type": "stream",
     "text": [
      "index_parallel='0143'\n"
     ]
    },
    {
     "name": "stderr",
     "output_type": "stream",
     "text": [
      "\u001b[32m[I 2022-08-16 05:48:04,301]\u001b[0m Trial 143 finished with value: 6856.205 and parameters: {'kErase': 1, 'kRadius': 3, 'kAnnealingA': -1.2733931953030568, 'kAnnealingB': 2.9229490934738878, 'kAnnealingStart': 32.622707319403524, 'kSkipRatio': 0.7752630815102453, 'kTargetDeterminationTrials': 14, 'kAttractionRatio': 0.011391930436990322, 'kMaxAttractionDistance': 85, 'kStartAttraction': 0.1899803209134024}. Best is trial 134 with value: 6900.82.\u001b[0m\n"
     ]
    },
    {
     "name": "stdout",
     "output_type": "stream",
     "text": [
      "index_parallel='0145'\n"
     ]
    },
    {
     "name": "stderr",
     "output_type": "stream",
     "text": [
      "\u001b[32m[I 2022-08-16 05:51:54,526]\u001b[0m Trial 145 finished with value: 6946.59 and parameters: {'kErase': 3, 'kRadius': 3, 'kAnnealingA': -0.33772181538186674, 'kAnnealingB': 2.943064752833457, 'kAnnealingStart': 36.19147180347157, 'kSkipRatio': 0.7723471058447864, 'kTargetDeterminationTrials': 12, 'kAttractionRatio': 0.01146973813024405, 'kMaxAttractionDistance': 84, 'kStartAttraction': 0.17871119907616012}. Best is trial 144 with value: 6984.345.\u001b[0m\n"
     ]
    },
    {
     "name": "stdout",
     "output_type": "stream",
     "text": [
      "index_parallel='0147'\n"
     ]
    },
    {
     "name": "stderr",
     "output_type": "stream",
     "text": [
      "\u001b[32m[I 2022-08-16 05:55:44,629]\u001b[0m Trial 147 finished with value: 6956.725 and parameters: {'kErase': 3, 'kRadius': 3, 'kAnnealingA': -1.06054955096526, 'kAnnealingB': 2.900942794157483, 'kAnnealingStart': 52.229823178644686, 'kSkipRatio': 0.7686322056448603, 'kTargetDeterminationTrials': 12, 'kAttractionRatio': 0.010878496127611997, 'kMaxAttractionDistance': 83, 'kStartAttraction': 0.16304547205149783}. Best is trial 144 with value: 6984.345.\u001b[0m\n"
     ]
    },
    {
     "name": "stdout",
     "output_type": "stream",
     "text": [
      "index_parallel='0149'\n"
     ]
    },
    {
     "name": "stderr",
     "output_type": "stream",
     "text": [
      "\u001b[32m[I 2022-08-16 05:59:36,058]\u001b[0m Trial 149 finished with value: 6933.43 and parameters: {'kErase': 3, 'kRadius': 3, 'kAnnealingA': -0.42199940967331173, 'kAnnealingB': 2.900451380722586, 'kAnnealingStart': 36.35239279641729, 'kSkipRatio': 0.7673658279638649, 'kTargetDeterminationTrials': 12, 'kAttractionRatio': 0.01003674509465558, 'kMaxAttractionDistance': 82, 'kStartAttraction': 0.16387654472543212}. Best is trial 144 with value: 6984.345.\u001b[0m\n"
     ]
    },
    {
     "name": "stdout",
     "output_type": "stream",
     "text": [
      "index_parallel='0151'\n"
     ]
    },
    {
     "name": "stderr",
     "output_type": "stream",
     "text": [
      "\u001b[32m[I 2022-08-16 06:03:26,059]\u001b[0m Trial 151 finished with value: 6910.8 and parameters: {'kErase': 3, 'kRadius': 3, 'kAnnealingA': -0.5844108705509283, 'kAnnealingB': 2.6721773539303344, 'kAnnealingStart': 54.54469069498435, 'kSkipRatio': 0.7670268868575723, 'kTargetDeterminationTrials': 14, 'kAttractionRatio': 0.010893050311055799, 'kMaxAttractionDistance': 82, 'kStartAttraction': 0.11869654091995659}. Best is trial 144 with value: 6984.345.\u001b[0m\n"
     ]
    },
    {
     "name": "stdout",
     "output_type": "stream",
     "text": [
      "index_parallel='0153'\n"
     ]
    },
    {
     "name": "stderr",
     "output_type": "stream",
     "text": [
      "\u001b[32m[I 2022-08-16 06:07:16,173]\u001b[0m Trial 153 finished with value: 6925.67 and parameters: {'kErase': 3, 'kRadius': 3, 'kAnnealingA': -0.863172170327366, 'kAnnealingB': 2.6798364023946473, 'kAnnealingStart': 57.522721926173034, 'kSkipRatio': 0.7650931174554946, 'kTargetDeterminationTrials': 12, 'kAttractionRatio': 0.010926361984750395, 'kMaxAttractionDistance': 82, 'kStartAttraction': 0.12249547178438247}. Best is trial 144 with value: 6984.345.\u001b[0m\n"
     ]
    },
    {
     "name": "stdout",
     "output_type": "stream",
     "text": [
      "index_parallel='0155'\n"
     ]
    },
    {
     "name": "stderr",
     "output_type": "stream",
     "text": [
      "\u001b[32m[I 2022-08-16 06:11:06,088]\u001b[0m Trial 155 finished with value: 6928.765 and parameters: {'kErase': 3, 'kRadius': 3, 'kAnnealingA': -0.4341351846024817, 'kAnnealingB': 2.6945002636979347, 'kAnnealingStart': 55.523565043344504, 'kSkipRatio': 0.7627702618818606, 'kTargetDeterminationTrials': 13, 'kAttractionRatio': 0.010178569246264091, 'kMaxAttractionDistance': 82, 'kStartAttraction': 0.11722791355244735}. Best is trial 144 with value: 6984.345.\u001b[0m\n"
     ]
    },
    {
     "name": "stdout",
     "output_type": "stream",
     "text": [
      "index_parallel='0157'\n"
     ]
    },
    {
     "name": "stderr",
     "output_type": "stream",
     "text": [
      "\u001b[32m[I 2022-08-16 06:14:56,052]\u001b[0m Trial 157 finished with value: 6946.475 and parameters: {'kErase': 3, 'kRadius': 3, 'kAnnealingA': -0.596127749157854, 'kAnnealingB': 2.6443610688922448, 'kAnnealingStart': 55.66333208316046, 'kSkipRatio': 0.7614617405700586, 'kTargetDeterminationTrials': 12, 'kAttractionRatio': 0.01004355697644992, 'kMaxAttractionDistance': 81, 'kStartAttraction': 0.12278693862115525}. Best is trial 144 with value: 6984.345.\u001b[0m\n"
     ]
    },
    {
     "name": "stdout",
     "output_type": "stream",
     "text": [
      "index_parallel='0159'\n"
     ]
    },
    {
     "name": "stderr",
     "output_type": "stream",
     "text": [
      "\u001b[32m[I 2022-08-16 06:18:46,063]\u001b[0m Trial 159 finished with value: 6913.685 and parameters: {'kErase': 3, 'kRadius': 3, 'kAnnealingA': -0.3055860971967511, 'kAnnealingB': 2.6675907037513467, 'kAnnealingStart': 56.49862667819897, 'kSkipRatio': 0.7615312813243149, 'kTargetDeterminationTrials': 12, 'kAttractionRatio': 0.010064872996249832, 'kMaxAttractionDistance': 81, 'kStartAttraction': 0.11608810933547442}. Best is trial 144 with value: 6984.345.\u001b[0m\n"
     ]
    },
    {
     "name": "stdout",
     "output_type": "stream",
     "text": [
      "index_parallel='0161'\n"
     ]
    },
    {
     "name": "stderr",
     "output_type": "stream",
     "text": [
      "\u001b[32m[I 2022-08-16 06:22:35,995]\u001b[0m Trial 161 finished with value: 6925.975 and parameters: {'kErase': 3, 'kRadius': 3, 'kAnnealingA': -0.5127857718184319, 'kAnnealingB': 2.6250457906941644, 'kAnnealingStart': 57.34230163943672, 'kSkipRatio': 0.7603748696600686, 'kTargetDeterminationTrials': 11, 'kAttractionRatio': 0.010674479416796287, 'kMaxAttractionDistance': 80, 'kStartAttraction': 0.11520698070768444}. Best is trial 144 with value: 6984.345.\u001b[0m\n"
     ]
    },
    {
     "name": "stdout",
     "output_type": "stream",
     "text": [
      "index_parallel='0163'\n"
     ]
    },
    {
     "name": "stderr",
     "output_type": "stream",
     "text": [
      "\u001b[32m[I 2022-08-16 06:26:26,219]\u001b[0m Trial 163 finished with value: 6942.535 and parameters: {'kErase': 3, 'kRadius': 3, 'kAnnealingA': -1.518021190353287, 'kAnnealingB': 2.6455814101507387, 'kAnnealingStart': 54.310610641163464, 'kSkipRatio': 0.7602967066305951, 'kTargetDeterminationTrials': 14, 'kAttractionRatio': 0.010043599312649532, 'kMaxAttractionDistance': 74, 'kStartAttraction': 0.10114520915346903}. Best is trial 144 with value: 6984.345.\u001b[0m\n"
     ]
    },
    {
     "name": "stdout",
     "output_type": "stream",
     "text": [
      "index_parallel='0165'\n"
     ]
    },
    {
     "name": "stderr",
     "output_type": "stream",
     "text": [
      "\u001b[32m[I 2022-08-16 06:30:16,173]\u001b[0m Trial 165 finished with value: 6923.235 and parameters: {'kErase': 3, 'kRadius': 3, 'kAnnealingA': -1.9614850682902993, 'kAnnealingB': 2.582751444802355, 'kAnnealingStart': 68.22380949398877, 'kSkipRatio': 0.7446260244465436, 'kTargetDeterminationTrials': 11, 'kAttractionRatio': 0.01071976645408098, 'kMaxAttractionDistance': 72, 'kStartAttraction': 0.08461985151295545}. Best is trial 144 with value: 6984.345.\u001b[0m\n"
     ]
    },
    {
     "name": "stdout",
     "output_type": "stream",
     "text": [
      "index_parallel='0167'\n"
     ]
    },
    {
     "name": "stderr",
     "output_type": "stream",
     "text": [
      "\u001b[32m[I 2022-08-16 06:34:06,479]\u001b[0m Trial 167 finished with value: 6915.445 and parameters: {'kErase': 3, 'kRadius': 3, 'kAnnealingA': -2.2926984924660445, 'kAnnealingB': 2.5008762879656636, 'kAnnealingStart': 72.15422438542322, 'kSkipRatio': 0.7503353976064046, 'kTargetDeterminationTrials': 11, 'kAttractionRatio': 0.010774018755752294, 'kMaxAttractionDistance': 69, 'kStartAttraction': 0.08127033876971394}. Best is trial 144 with value: 6984.345.\u001b[0m\n"
     ]
    },
    {
     "name": "stdout",
     "output_type": "stream",
     "text": [
      "index_parallel='0169'\n"
     ]
    },
    {
     "name": "stderr",
     "output_type": "stream",
     "text": [
      "\u001b[32m[I 2022-08-16 06:37:57,893]\u001b[0m Trial 169 finished with value: 6931.795 and parameters: {'kErase': 3, 'kRadius': 3, 'kAnnealingA': 0.10825790491542225, 'kAnnealingB': 2.5723670758461528, 'kAnnealingStart': 52.195084452514, 'kSkipRatio': 0.7835063889722031, 'kTargetDeterminationTrials': 10, 'kAttractionRatio': 0.01070932003466223, 'kMaxAttractionDistance': 76, 'kStartAttraction': 0.15916478696662495}. Best is trial 144 with value: 6984.345.\u001b[0m\n"
     ]
    },
    {
     "name": "stdout",
     "output_type": "stream",
     "text": [
      "index_parallel='0171'\n"
     ]
    },
    {
     "name": "stderr",
     "output_type": "stream",
     "text": [
      "\u001b[32m[I 2022-08-16 06:41:47,838]\u001b[0m Trial 171 finished with value: 6941.955 and parameters: {'kErase': 3, 'kRadius': 3, 'kAnnealingA': 0.02675055951355726, 'kAnnealingB': 2.571544325048774, 'kAnnealingStart': 50.55866222708652, 'kSkipRatio': 0.7858540643694111, 'kTargetDeterminationTrials': 14, 'kAttractionRatio': 0.010015305016776537, 'kMaxAttractionDistance': 68, 'kStartAttraction': 0.14616707017235261}. Best is trial 144 with value: 6984.345.\u001b[0m\n"
     ]
    },
    {
     "name": "stdout",
     "output_type": "stream",
     "text": [
      "index_parallel='0173'\n"
     ]
    },
    {
     "name": "stderr",
     "output_type": "stream",
     "text": [
      "\u001b[32m[I 2022-08-16 06:45:37,720]\u001b[0m Trial 173 finished with value: 6894.78 and parameters: {'kErase': 3, 'kRadius': 3, 'kAnnealingA': 0.2194841820236172, 'kAnnealingB': 2.3861176267260316, 'kAnnealingStart': 65.12993930884655, 'kSkipRatio': 0.7828538164354193, 'kTargetDeterminationTrials': 14, 'kAttractionRatio': 0.010031801456899789, 'kMaxAttractionDistance': 68, 'kStartAttraction': 0.14399343839637704}. Best is trial 144 with value: 6984.345.\u001b[0m\n"
     ]
    },
    {
     "name": "stdout",
     "output_type": "stream",
     "text": [
      "index_parallel='0175'\n"
     ]
    },
    {
     "name": "stderr",
     "output_type": "stream",
     "text": [
      "\u001b[32m[I 2022-08-16 06:49:27,661]\u001b[0m Trial 175 finished with value: 6939.21 and parameters: {'kErase': 3, 'kRadius': 3, 'kAnnealingA': -2.943958144981156, 'kAnnealingB': 2.539294234973567, 'kAnnealingStart': 50.63579675281008, 'kSkipRatio': 0.7749916905906777, 'kTargetDeterminationTrials': 15, 'kAttractionRatio': 0.010046007221002136, 'kMaxAttractionDistance': 74, 'kStartAttraction': 0.10015817300609156}. Best is trial 144 with value: 6984.345.\u001b[0m\n"
     ]
    },
    {
     "name": "stdout",
     "output_type": "stream",
     "text": [
      "index_parallel='0177'\n"
     ]
    },
    {
     "name": "stderr",
     "output_type": "stream",
     "text": [
      "\u001b[32m[I 2022-08-16 06:53:17,845]\u001b[0m Trial 177 finished with value: 6916.375 and parameters: {'kErase': 3, 'kRadius': 3, 'kAnnealingA': -3.1006573246628517, 'kAnnealingB': 2.4119216560446115, 'kAnnealingStart': 44.599512789636115, 'kSkipRatio': 0.7769447373320517, 'kTargetDeterminationTrials': 15, 'kAttractionRatio': 0.012298391163186763, 'kMaxAttractionDistance': 75, 'kStartAttraction': 0.1666853374788051}. Best is trial 144 with value: 6984.345.\u001b[0m\n"
     ]
    },
    {
     "name": "stdout",
     "output_type": "stream",
     "text": [
      "index_parallel='0179'\n"
     ]
    },
    {
     "name": "stderr",
     "output_type": "stream",
     "text": [
      "\u001b[32m[I 2022-08-16 06:57:08,081]\u001b[0m Trial 179 finished with value: 6915.15 and parameters: {'kErase': 3, 'kRadius': 3, 'kAnnealingA': -3.88476560020186, 'kAnnealingB': 2.4452178385117063, 'kAnnealingStart': 49.58276654804117, 'kSkipRatio': 0.7513755761953586, 'kTargetDeterminationTrials': 15, 'kAttractionRatio': 0.013036011897291012, 'kMaxAttractionDistance': 63, 'kStartAttraction': 0.07182115693794995}. Best is trial 144 with value: 6984.345.\u001b[0m\n"
     ]
    },
    {
     "name": "stdout",
     "output_type": "stream",
     "text": [
      "index_parallel='0181'\n"
     ]
    },
    {
     "name": "stderr",
     "output_type": "stream",
     "text": [
      "\u001b[32m[I 2022-08-16 07:00:58,185]\u001b[0m Trial 181 finished with value: 6931.42 and parameters: {'kErase': 3, 'kRadius': 3, 'kAnnealingA': -1.5931483612978967, 'kAnnealingB': 2.625997854819027, 'kAnnealingStart': 45.05058217857374, 'kSkipRatio': 0.7360011073407093, 'kTargetDeterminationTrials': 14, 'kAttractionRatio': 0.011242494879107256, 'kMaxAttractionDistance': 71, 'kStartAttraction': 0.09959720013755496}. Best is trial 144 with value: 6984.345.\u001b[0m\n"
     ]
    },
    {
     "name": "stdout",
     "output_type": "stream",
     "text": [
      "index_parallel='0183'\n"
     ]
    },
    {
     "name": "stderr",
     "output_type": "stream",
     "text": [
      "\u001b[32m[I 2022-08-16 07:04:48,333]\u001b[0m Trial 183 finished with value: 6928.24 and parameters: {'kErase': 3, 'kRadius': 3, 'kAnnealingA': -2.504195485413308, 'kAnnealingB': 2.560365682051803, 'kAnnealingStart': 52.114217715783944, 'kSkipRatio': 0.7924446062371238, 'kTargetDeterminationTrials': 14, 'kAttractionRatio': 0.01103478231733904, 'kMaxAttractionDistance': 76, 'kStartAttraction': 0.13557958099653236}. Best is trial 144 with value: 6984.345.\u001b[0m\n"
     ]
    },
    {
     "name": "stdout",
     "output_type": "stream",
     "text": [
      "index_parallel='0185'\n"
     ]
    },
    {
     "name": "stderr",
     "output_type": "stream",
     "text": [
      "\u001b[32m[I 2022-08-16 07:08:38,343]\u001b[0m Trial 185 finished with value: 6871.505 and parameters: {'kErase': 3, 'kRadius': 3, 'kAnnealingA': -4.5522996108531455, 'kAnnealingB': 2.528765156349328, 'kAnnealingStart': 42.71596639387586, 'kSkipRatio': 0.7876189414011153, 'kTargetDeterminationTrials': 16, 'kAttractionRatio': 0.012046803874233295, 'kMaxAttractionDistance': 69, 'kStartAttraction': 0.10236758962184825}. Best is trial 144 with value: 6984.345.\u001b[0m\n"
     ]
    },
    {
     "name": "stdout",
     "output_type": "stream",
     "text": [
      "index_parallel='0187'\n"
     ]
    },
    {
     "name": "stderr",
     "output_type": "stream",
     "text": [
      "\u001b[32m[I 2022-08-16 07:12:28,602]\u001b[0m Trial 187 finished with value: 6917.36 and parameters: {'kErase': 3, 'kRadius': 3, 'kAnnealingA': -2.6251766196721555, 'kAnnealingB': 2.500617721149789, 'kAnnealingStart': 39.1446572667797, 'kSkipRatio': 0.7725284494946223, 'kTargetDeterminationTrials': 12, 'kAttractionRatio': 0.010065251857866381, 'kMaxAttractionDistance': 86, 'kStartAttraction': 0.062568357525926}. Best is trial 144 with value: 6984.345.\u001b[0m\n"
     ]
    },
    {
     "name": "stdout",
     "output_type": "stream",
     "text": [
      "index_parallel='0189'\n"
     ]
    },
    {
     "name": "stderr",
     "output_type": "stream",
     "text": [
      "\u001b[32m[I 2022-08-16 07:16:19,006]\u001b[0m Trial 189 finished with value: 6926.685 and parameters: {'kErase': 3, 'kRadius': 3, 'kAnnealingA': -2.036797453830423, 'kAnnealingB': 2.3508420296191623, 'kAnnealingStart': 63.88786574182409, 'kSkipRatio': 0.775044560190865, 'kTargetDeterminationTrials': 14, 'kAttractionRatio': 0.01281206333297597, 'kMaxAttractionDistance': 67, 'kStartAttraction': 0.08529426056305685}. Best is trial 144 with value: 6984.345.\u001b[0m\n"
     ]
    },
    {
     "name": "stdout",
     "output_type": "stream",
     "text": [
      "index_parallel='0191'\n"
     ]
    },
    {
     "name": "stderr",
     "output_type": "stream",
     "text": [
      "\u001b[32m[I 2022-08-16 07:20:09,179]\u001b[0m Trial 191 finished with value: 6930.955 and parameters: {'kErase': 3, 'kRadius': 3, 'kAnnealingA': -1.4222354265401993, 'kAnnealingB': 2.592633353810939, 'kAnnealingStart': 48.49043340226151, 'kSkipRatio': 0.7445496848415307, 'kTargetDeterminationTrials': 13, 'kAttractionRatio': 0.011546208981777533, 'kMaxAttractionDistance': 73, 'kStartAttraction': 0.1730453067222323}. Best is trial 144 with value: 6984.345.\u001b[0m\n"
     ]
    },
    {
     "name": "stdout",
     "output_type": "stream",
     "text": [
      "index_parallel='0193'\n"
     ]
    },
    {
     "name": "stderr",
     "output_type": "stream",
     "text": [
      "\u001b[32m[I 2022-08-16 07:23:59,265]\u001b[0m Trial 193 finished with value: 6920.555 and parameters: {'kErase': 3, 'kRadius': 3, 'kAnnealingA': -3.7958620854916987, 'kAnnealingB': 2.55530131570421, 'kAnnealingStart': 75.78579280585187, 'kSkipRatio': 0.75474891407362, 'kTargetDeterminationTrials': 12, 'kAttractionRatio': 0.011255516968695914, 'kMaxAttractionDistance': 78, 'kStartAttraction': 0.10646958870084969}. Best is trial 144 with value: 6984.345.\u001b[0m\n"
     ]
    },
    {
     "name": "stdout",
     "output_type": "stream",
     "text": [
      "index_parallel='0195'\n"
     ]
    },
    {
     "name": "stderr",
     "output_type": "stream",
     "text": [
      "\u001b[32m[I 2022-08-16 07:27:49,458]\u001b[0m Trial 195 finished with value: 6935.135 and parameters: {'kErase': 3, 'kRadius': 3, 'kAnnealingA': -0.9849546999637764, 'kAnnealingB': 2.7214272359590908, 'kAnnealingStart': 43.1785787156757, 'kSkipRatio': 0.785681475702023, 'kTargetDeterminationTrials': 16, 'kAttractionRatio': 0.012112783151742247, 'kMaxAttractionDistance': 86, 'kStartAttraction': 0.1371319744811068}. Best is trial 144 with value: 6984.345.\u001b[0m\n"
     ]
    },
    {
     "name": "stdout",
     "output_type": "stream",
     "text": [
      "index_parallel='0197'\n"
     ]
    },
    {
     "name": "stderr",
     "output_type": "stream",
     "text": [
      "\u001b[32m[I 2022-08-16 07:31:39,648]\u001b[0m Trial 197 finished with value: 6856.255 and parameters: {'kErase': 3, 'kRadius': 3, 'kAnnealingA': -4.934319155849945, 'kAnnealingB': 2.4564626401874947, 'kAnnealingStart': 41.681544991443445, 'kSkipRatio': 0.7979631245963503, 'kTargetDeterminationTrials': 16, 'kAttractionRatio': 0.01224152765586799, 'kMaxAttractionDistance': 87, 'kStartAttraction': 0.13666988431100358}. Best is trial 144 with value: 6984.345.\u001b[0m\n"
     ]
    },
    {
     "name": "stdout",
     "output_type": "stream",
     "text": [
      "index_parallel='0199'\n"
     ]
    },
    {
     "name": "stderr",
     "output_type": "stream",
     "text": [
      "\u001b[32m[I 2022-08-16 07:35:29,668]\u001b[0m Trial 199 finished with value: 6943.545 and parameters: {'kErase': 3, 'kRadius': 3, 'kAnnealingA': -2.345525218826429, 'kAnnealingB': 2.7164280343157117, 'kAnnealingStart': 38.14591724700041, 'kSkipRatio': 0.7857618106085688, 'kTargetDeterminationTrials': 15, 'kAttractionRatio': 0.013690004558242475, 'kMaxAttractionDistance': 71, 'kStartAttraction': 0.15915088857185175}. Best is trial 144 with value: 6984.345.\u001b[0m\n"
     ]
    },
    {
     "name": "stdout",
     "output_type": "stream",
     "text": [
      "index_parallel='0201'\n"
     ]
    },
    {
     "name": "stderr",
     "output_type": "stream",
     "text": [
      "\u001b[32m[I 2022-08-16 07:39:19,456]\u001b[0m Trial 201 finished with value: 6920.755 and parameters: {'kErase': 3, 'kRadius': 3, 'kAnnealingA': -2.929577747139321, 'kAnnealingB': 2.5270257988572284, 'kAnnealingStart': 45.62089417456604, 'kSkipRatio': 0.7828766730603084, 'kTargetDeterminationTrials': 16, 'kAttractionRatio': 0.013428850289254377, 'kMaxAttractionDistance': 63, 'kStartAttraction': 0.09625223312540586}. Best is trial 144 with value: 6984.345.\u001b[0m\n"
     ]
    },
    {
     "name": "stdout",
     "output_type": "stream",
     "text": [
      "index_parallel='0203'\n"
     ]
    },
    {
     "name": "stderr",
     "output_type": "stream",
     "text": [
      "\u001b[32m[I 2022-08-16 07:43:09,879]\u001b[0m Trial 203 finished with value: 6948.88 and parameters: {'kErase': 3, 'kRadius': 3, 'kAnnealingA': -1.8271230215050944, 'kAnnealingB': 2.721548559106641, 'kAnnealingStart': 62.7868893759764, 'kSkipRatio': 0.7845492781054295, 'kTargetDeterminationTrials': 14, 'kAttractionRatio': 0.011419998107981577, 'kMaxAttractionDistance': 71, 'kStartAttraction': 0.19111216174226917}. Best is trial 144 with value: 6984.345.\u001b[0m\n"
     ]
    },
    {
     "name": "stdout",
     "output_type": "stream",
     "text": [
      "index_parallel='0205'\n"
     ]
    },
    {
     "name": "stderr",
     "output_type": "stream",
     "text": [
      "\u001b[32m[I 2022-08-16 07:46:59,978]\u001b[0m Trial 205 finished with value: 6942.055 and parameters: {'kErase': 3, 'kRadius': 3, 'kAnnealingA': -1.8432770583334332, 'kAnnealingB': 2.6340178521547672, 'kAnnealingStart': 62.90675893943751, 'kSkipRatio': 0.799816101743165, 'kTargetDeterminationTrials': 14, 'kAttractionRatio': 0.011373474178172993, 'kMaxAttractionDistance': 70, 'kStartAttraction': 0.1958971709596912}. Best is trial 144 with value: 6984.345.\u001b[0m\n"
     ]
    },
    {
     "name": "stdout",
     "output_type": "stream",
     "text": [
      "index_parallel='0207'\n"
     ]
    },
    {
     "name": "stderr",
     "output_type": "stream",
     "text": [
      "\u001b[32m[I 2022-08-16 07:50:50,426]\u001b[0m Trial 207 finished with value: 6944.065 and parameters: {'kErase': 3, 'kRadius': 3, 'kAnnealingA': -3.414037548913271, 'kAnnealingB': 2.614553240830751, 'kAnnealingStart': 60.26628895840275, 'kSkipRatio': 0.7981831073087552, 'kTargetDeterminationTrials': 13, 'kAttractionRatio': 0.01127661580753838, 'kMaxAttractionDistance': 71, 'kStartAttraction': 0.1888407912081709}. Best is trial 144 with value: 6984.345.\u001b[0m\n"
     ]
    },
    {
     "name": "stdout",
     "output_type": "stream",
     "text": [
      "index_parallel='0209'\n"
     ]
    },
    {
     "name": "stderr",
     "output_type": "stream",
     "text": [
      "\u001b[32m[I 2022-08-16 07:54:40,384]\u001b[0m Trial 209 finished with value: 6948.015 and parameters: {'kErase': 3, 'kRadius': 3, 'kAnnealingA': -2.568174069573164, 'kAnnealingB': 2.7339899056203687, 'kAnnealingStart': 61.73874285836956, 'kSkipRatio': 0.7955031744968557, 'kTargetDeterminationTrials': 13, 'kAttractionRatio': 0.011113535398593019, 'kMaxAttractionDistance': 66, 'kStartAttraction': 0.24278600731177555}. Best is trial 144 with value: 6984.345.\u001b[0m\n"
     ]
    },
    {
     "name": "stdout",
     "output_type": "stream",
     "text": [
      "index_parallel='0211'\n"
     ]
    },
    {
     "name": "stderr",
     "output_type": "stream",
     "text": [
      "\u001b[32m[I 2022-08-16 07:58:30,513]\u001b[0m Trial 211 finished with value: 6960.62 and parameters: {'kErase': 3, 'kRadius': 3, 'kAnnealingA': -1.6969753822078406, 'kAnnealingB': 2.6347471321272473, 'kAnnealingStart': 70.39791987239921, 'kSkipRatio': 0.7989608503487452, 'kTargetDeterminationTrials': 13, 'kAttractionRatio': 0.010901461325656127, 'kMaxAttractionDistance': 62, 'kStartAttraction': 0.24537576521344898}. Best is trial 144 with value: 6984.345.\u001b[0m\n"
     ]
    },
    {
     "name": "stdout",
     "output_type": "stream",
     "text": [
      "index_parallel='0213'\n"
     ]
    },
    {
     "name": "stderr",
     "output_type": "stream",
     "text": [
      "\u001b[32m[I 2022-08-16 08:02:20,395]\u001b[0m Trial 213 finished with value: 6934.845 and parameters: {'kErase': 3, 'kRadius': 3, 'kAnnealingA': -1.707915126394108, 'kAnnealingB': 2.6374829230854755, 'kAnnealingStart': 69.83628715138673, 'kSkipRatio': 0.7985543016492781, 'kTargetDeterminationTrials': 13, 'kAttractionRatio': 0.011220969804098806, 'kMaxAttractionDistance': 65, 'kStartAttraction': 0.24199484906729102}. Best is trial 144 with value: 6984.345.\u001b[0m\n"
     ]
    },
    {
     "name": "stdout",
     "output_type": "stream",
     "text": [
      "index_parallel='0215'\n"
     ]
    },
    {
     "name": "stderr",
     "output_type": "stream",
     "text": [
      "\u001b[32m[I 2022-08-16 08:06:10,554]\u001b[0m Trial 215 finished with value: 6885.1 and parameters: {'kErase': 3, 'kRadius': 3, 'kAnnealingA': 0.4694196888564345, 'kAnnealingB': 2.739381866529302, 'kAnnealingStart': 63.715847061258884, 'kSkipRatio': 0.7992488869235421, 'kTargetDeterminationTrials': 13, 'kAttractionRatio': 0.013709813444803529, 'kMaxAttractionDistance': 57, 'kStartAttraction': 0.24934728274750662}. Best is trial 144 with value: 6984.345.\u001b[0m\n"
     ]
    },
    {
     "name": "stdout",
     "output_type": "stream",
     "text": [
      "index_parallel='0217'\n"
     ]
    },
    {
     "name": "stderr",
     "output_type": "stream",
     "text": [
      "\u001b[32m[I 2022-08-16 08:10:00,342]\u001b[0m Trial 217 finished with value: 6949.765 and parameters: {'kErase': 3, 'kRadius': 3, 'kAnnealingA': -2.163548909407149, 'kAnnealingB': 2.825865700026773, 'kAnnealingStart': 62.568043451856454, 'kSkipRatio': 0.7867531516096063, 'kTargetDeterminationTrials': 11, 'kAttractionRatio': 0.012132700451147413, 'kMaxAttractionDistance': 69, 'kStartAttraction': 0.21121390647925842}. Best is trial 144 with value: 6984.345.\u001b[0m\n"
     ]
    },
    {
     "name": "stdout",
     "output_type": "stream",
     "text": [
      "index_parallel='0219'\n"
     ]
    },
    {
     "name": "stderr",
     "output_type": "stream",
     "text": [
      "\u001b[32m[I 2022-08-16 08:13:50,416]\u001b[0m Trial 219 finished with value: 6919.655 and parameters: {'kErase': 3, 'kRadius': 3, 'kAnnealingA': -1.2807058211507485, 'kAnnealingB': 2.8339617643876736, 'kAnnealingStart': 78.934743355748, 'kSkipRatio': 0.7865227490083772, 'kTargetDeterminationTrials': 11, 'kAttractionRatio': 0.015392732914690541, 'kMaxAttractionDistance': 60, 'kStartAttraction': 0.27064494605911177}. Best is trial 144 with value: 6984.345.\u001b[0m\n"
     ]
    },
    {
     "name": "stdout",
     "output_type": "stream",
     "text": [
      "index_parallel='0221'\n"
     ]
    },
    {
     "name": "stderr",
     "output_type": "stream",
     "text": [
      "\u001b[32m[I 2022-08-16 08:17:40,207]\u001b[0m Trial 221 finished with value: 6892.38 and parameters: {'kErase': 3, 'kRadius': 3, 'kAnnealingA': -0.09893973353066299, 'kAnnealingB': 2.8074499053678337, 'kAnnealingStart': 62.042861768620725, 'kSkipRatio': 0.7521719512361514, 'kTargetDeterminationTrials': 10, 'kAttractionRatio': 0.01317389120199147, 'kMaxAttractionDistance': 70, 'kStartAttraction': 0.21795344886358956}. Best is trial 144 with value: 6984.345.\u001b[0m\n"
     ]
    },
    {
     "name": "stdout",
     "output_type": "stream",
     "text": [
      "index_parallel='0223'\n"
     ]
    },
    {
     "name": "stderr",
     "output_type": "stream",
     "text": [
      "\u001b[32m[I 2022-08-16 08:21:30,145]\u001b[0m Trial 223 finished with value: 6948.25 and parameters: {'kErase': 3, 'kRadius': 3, 'kAnnealingA': -2.134080929562351, 'kAnnealingB': 2.7680465697705072, 'kAnnealingStart': 59.34217283285423, 'kSkipRatio': 0.7993102524475301, 'kTargetDeterminationTrials': 14, 'kAttractionRatio': 0.012135357178960646, 'kMaxAttractionDistance': 66, 'kStartAttraction': 0.18330541278739884}. Best is trial 144 with value: 6984.345.\u001b[0m\n"
     ]
    },
    {
     "name": "stdout",
     "output_type": "stream",
     "text": [
      "index_parallel='0225'\n"
     ]
    },
    {
     "name": "stderr",
     "output_type": "stream",
     "text": [
      "\u001b[32m[I 2022-08-16 08:25:20,003]\u001b[0m Trial 225 finished with value: 6954.625 and parameters: {'kErase': 3, 'kRadius': 3, 'kAnnealingA': -1.9944857833084115, 'kAnnealingB': 2.7385717488973182, 'kAnnealingStart': 55.82615237736088, 'kSkipRatio': 0.7999403021904485, 'kTargetDeterminationTrials': 12, 'kAttractionRatio': 0.011895562405924733, 'kMaxAttractionDistance': 71, 'kStartAttraction': 0.19400357502730586}. Best is trial 144 with value: 6984.345.\u001b[0m\n"
     ]
    },
    {
     "name": "stdout",
     "output_type": "stream",
     "text": [
      "index_parallel='0227'\n"
     ]
    },
    {
     "name": "stderr",
     "output_type": "stream",
     "text": [
      "\u001b[32m[I 2022-08-16 08:29:09,936]\u001b[0m Trial 227 finished with value: 6935.645 and parameters: {'kErase': 3, 'kRadius': 3, 'kAnnealingA': -1.8486520319919888, 'kAnnealingB': 2.7628720112651486, 'kAnnealingStart': 57.28399983989425, 'kSkipRatio': 0.7983832917065743, 'kTargetDeterminationTrials': 11, 'kAttractionRatio': 0.01208610419450012, 'kMaxAttractionDistance': 79, 'kStartAttraction': 0.23123389379707995}. Best is trial 144 with value: 6984.345.\u001b[0m\n"
     ]
    },
    {
     "name": "stdout",
     "output_type": "stream",
     "text": [
      "index_parallel='0229'\n"
     ]
    },
    {
     "name": "stderr",
     "output_type": "stream",
     "text": [
      "\u001b[32m[I 2022-08-16 08:33:00,372]\u001b[0m Trial 229 finished with value: 6957.215 and parameters: {'kErase': 3, 'kRadius': 3, 'kAnnealingA': -1.128885906309243, 'kAnnealingB': 2.8811218057889536, 'kAnnealingStart': 60.28156768585516, 'kSkipRatio': 0.799832243397866, 'kTargetDeterminationTrials': 12, 'kAttractionRatio': 0.013962939092775057, 'kMaxAttractionDistance': 78, 'kStartAttraction': 0.19679538241386677}. Best is trial 144 with value: 6984.345.\u001b[0m\n"
     ]
    },
    {
     "name": "stdout",
     "output_type": "stream",
     "text": [
      "index_parallel='0231'\n"
     ]
    },
    {
     "name": "stderr",
     "output_type": "stream",
     "text": [
      "\u001b[32m[I 2022-08-16 08:36:50,367]\u001b[0m Trial 231 finished with value: 6965.045 and parameters: {'kErase': 3, 'kRadius': 3, 'kAnnealingA': -0.7615801580580495, 'kAnnealingB': 2.8534308269345448, 'kAnnealingStart': 55.53076704605533, 'kSkipRatio': 0.7734045674630504, 'kTargetDeterminationTrials': 11, 'kAttractionRatio': 0.01390168396367131, 'kMaxAttractionDistance': 79, 'kStartAttraction': 0.16100122584418503}. Best is trial 144 with value: 6984.345.\u001b[0m\n"
     ]
    },
    {
     "name": "stdout",
     "output_type": "stream",
     "text": [
      "index_parallel='0233'\n"
     ]
    },
    {
     "name": "stderr",
     "output_type": "stream",
     "text": [
      "\u001b[32m[I 2022-08-16 08:40:40,707]\u001b[0m Trial 233 finished with value: 6943.86 and parameters: {'kErase': 3, 'kRadius': 3, 'kAnnealingA': -0.9924698520552673, 'kAnnealingB': 2.866557001091452, 'kAnnealingStart': 54.6336110750299, 'kSkipRatio': 0.7692329780126025, 'kTargetDeterminationTrials': 11, 'kAttractionRatio': 0.015294479741523873, 'kMaxAttractionDistance': 78, 'kStartAttraction': 0.21717393276224517}. Best is trial 144 with value: 6984.345.\u001b[0m\n"
     ]
    },
    {
     "name": "stdout",
     "output_type": "stream",
     "text": [
      "index_parallel='0235'\n"
     ]
    },
    {
     "name": "stderr",
     "output_type": "stream",
     "text": [
      "\u001b[32m[I 2022-08-16 08:44:30,852]\u001b[0m Trial 235 finished with value: 6928.96 and parameters: {'kErase': 3, 'kRadius': 3, 'kAnnealingA': -0.9556615570083492, 'kAnnealingB': 2.8708406328424045, 'kAnnealingStart': 70.96842370291292, 'kSkipRatio': 0.7705775436050291, 'kTargetDeterminationTrials': 11, 'kAttractionRatio': 0.01475350886962585, 'kMaxAttractionDistance': 91, 'kStartAttraction': 0.21672522160667748}. Best is trial 144 with value: 6984.345.\u001b[0m\n"
     ]
    },
    {
     "name": "stdout",
     "output_type": "stream",
     "text": [
      "index_parallel='0237'\n"
     ]
    },
    {
     "name": "stderr",
     "output_type": "stream",
     "text": [
      "\u001b[32m[I 2022-08-16 08:48:20,956]\u001b[0m Trial 237 finished with value: 6938.175 and parameters: {'kErase': 3, 'kRadius': 3, 'kAnnealingA': -0.364372565425718, 'kAnnealingB': 2.9965295873789044, 'kAnnealingStart': 54.847833846941484, 'kSkipRatio': 0.7768162545123232, 'kTargetDeterminationTrials': 10, 'kAttractionRatio': 0.012629401460539468, 'kMaxAttractionDistance': 82, 'kStartAttraction': 0.2244322805841334}. Best is trial 144 with value: 6984.345.\u001b[0m\n"
     ]
    },
    {
     "name": "stdout",
     "output_type": "stream",
     "text": [
      "index_parallel='0239'\n"
     ]
    },
    {
     "name": "stderr",
     "output_type": "stream",
     "text": [
      "\u001b[32m[I 2022-08-16 08:52:11,054]\u001b[0m Trial 239 finished with value: 6362.115 and parameters: {'kErase': 3, 'kRadius': 3, 'kAnnealingA': -1.2794432415820105, 'kAnnealingB': 2.918127869150037, 'kAnnealingStart': 1.060356710407432, 'kSkipRatio': 0.7603923285914621, 'kTargetDeterminationTrials': 11, 'kAttractionRatio': 0.01372720878595717, 'kMaxAttractionDistance': 77, 'kStartAttraction': 0.2723112241245833}. Best is trial 144 with value: 6984.345.\u001b[0m\n"
     ]
    },
    {
     "name": "stdout",
     "output_type": "stream",
     "text": [
      "index_parallel='0241'\n"
     ]
    },
    {
     "name": "stderr",
     "output_type": "stream",
     "text": [
      "\u001b[32m[I 2022-08-16 08:56:00,997]\u001b[0m Trial 241 finished with value: 6448.44 and parameters: {'kErase': 3, 'kRadius': 3, 'kAnnealingA': -2.1706627884665135, 'kAnnealingB': 2.953852777639963, 'kAnnealingStart': 3.313427852012662, 'kSkipRatio': 0.7995470081333257, 'kTargetDeterminationTrials': 12, 'kAttractionRatio': 0.01230643605250292, 'kMaxAttractionDistance': 85, 'kStartAttraction': 0.17673569945143439}. Best is trial 144 with value: 6984.345.\u001b[0m\n"
     ]
    },
    {
     "name": "stdout",
     "output_type": "stream",
     "text": [
      "index_parallel='0243'\n"
     ]
    },
    {
     "name": "stderr",
     "output_type": "stream",
     "text": [
      "\u001b[32m[I 2022-08-16 08:59:51,061]\u001b[0m Trial 243 finished with value: 6932.875 and parameters: {'kErase': 3, 'kRadius': 3, 'kAnnealingA': -3.529649770444734, 'kAnnealingB': 2.940344337574041, 'kAnnealingStart': 60.746134600797525, 'kSkipRatio': 0.7843333887979421, 'kTargetDeterminationTrials': 12, 'kAttractionRatio': 0.01218297388696057, 'kMaxAttractionDistance': 78, 'kStartAttraction': 0.25097585788077326}. Best is trial 144 with value: 6984.345.\u001b[0m\n"
     ]
    },
    {
     "name": "stdout",
     "output_type": "stream",
     "text": [
      "index_parallel='0245'\n"
     ]
    },
    {
     "name": "stderr",
     "output_type": "stream",
     "text": [
      "\u001b[32m[I 2022-08-16 09:03:41,296]\u001b[0m Trial 245 finished with value: 6915.915 and parameters: {'kErase': 3, 'kRadius': 3, 'kAnnealingA': -1.4588477355873906, 'kAnnealingB': 2.9892280685375536, 'kAnnealingStart': 65.2759418878187, 'kSkipRatio': 0.7862283407206235, 'kTargetDeterminationTrials': 10, 'kAttractionRatio': 0.013450104343714343, 'kMaxAttractionDistance': 85, 'kStartAttraction': 0.16288428156248408}. Best is trial 144 with value: 6984.345.\u001b[0m\n"
     ]
    },
    {
     "name": "stdout",
     "output_type": "stream",
     "text": [
      "index_parallel='0247'\n"
     ]
    },
    {
     "name": "stderr",
     "output_type": "stream",
     "text": [
      "\u001b[32m[I 2022-08-16 09:07:31,211]\u001b[0m Trial 247 finished with value: 6950.125 and parameters: {'kErase': 3, 'kRadius': 3, 'kAnnealingA': -2.480336251082003, 'kAnnealingB': 2.8259456766972684, 'kAnnealingStart': 52.43818325386138, 'kSkipRatio': 0.7559690922233715, 'kTargetDeterminationTrials': 11, 'kAttractionRatio': 0.012336379763591771, 'kMaxAttractionDistance': 95, 'kStartAttraction': 0.2867765035662611}. Best is trial 144 with value: 6984.345.\u001b[0m\n"
     ]
    },
    {
     "name": "stdout",
     "output_type": "stream",
     "text": [
      "index_parallel='0249'\n"
     ]
    },
    {
     "name": "stderr",
     "output_type": "stream",
     "text": [
      "\u001b[32m[I 2022-08-16 09:11:21,333]\u001b[0m Trial 249 finished with value: 6814.505 and parameters: {'kErase': 3, 'kRadius': 3, 'kAnnealingA': -0.5696214250879865, 'kAnnealingB': 2.8095541062074827, 'kAnnealingStart': 89.37673104989976, 'kSkipRatio': 0.7400815157232131, 'kTargetDeterminationTrials': 9, 'kAttractionRatio': 0.011867864879934693, 'kMaxAttractionDistance': 99, 'kStartAttraction': 0.2934380348841154}. Best is trial 144 with value: 6984.345.\u001b[0m\n"
     ]
    },
    {
     "name": "stdout",
     "output_type": "stream",
     "text": [
      "index_parallel='0251'\n"
     ]
    },
    {
     "name": "stderr",
     "output_type": "stream",
     "text": [
      "\u001b[32m[I 2022-08-16 09:15:11,322]\u001b[0m Trial 251 finished with value: 6956.825 and parameters: {'kErase': 3, 'kRadius': 3, 'kAnnealingA': -2.092639813205545, 'kAnnealingB': 2.9187154300476434, 'kAnnealingStart': 51.38390705238548, 'kSkipRatio': 0.7995576759951706, 'kTargetDeterminationTrials': 12, 'kAttractionRatio': 0.010911460943779022, 'kMaxAttractionDistance': 93, 'kStartAttraction': 0.14311426473611655}. Best is trial 144 with value: 6984.345.\u001b[0m\n"
     ]
    },
    {
     "name": "stdout",
     "output_type": "stream",
     "text": [
      "index_parallel='0253'\n"
     ]
    },
    {
     "name": "stderr",
     "output_type": "stream",
     "text": [
      "\u001b[32m[I 2022-08-16 09:19:01,381]\u001b[0m Trial 253 finished with value: 6944.455 and parameters: {'kErase': 3, 'kRadius': 3, 'kAnnealingA': -2.678616942504902, 'kAnnealingB': 2.900086840322486, 'kAnnealingStart': 72.68190908358697, 'kSkipRatio': 0.7997937435224974, 'kTargetDeterminationTrials': 12, 'kAttractionRatio': 0.01097928092496541, 'kMaxAttractionDistance': 92, 'kStartAttraction': 0.1468243552970298}. Best is trial 144 with value: 6984.345.\u001b[0m\n"
     ]
    },
    {
     "name": "stdout",
     "output_type": "stream",
     "text": [
      "index_parallel='0255'\n"
     ]
    },
    {
     "name": "stderr",
     "output_type": "stream",
     "text": [
      "\u001b[32m[I 2022-08-16 09:22:51,467]\u001b[0m Trial 255 finished with value: 6935.38 and parameters: {'kErase': 3, 'kRadius': 3, 'kAnnealingA': -1.9938211347386803, 'kAnnealingB': 2.8067508841013287, 'kAnnealingStart': 60.8578623385408, 'kSkipRatio': 0.7811682932637334, 'kTargetDeterminationTrials': 13, 'kAttractionRatio': 0.014213050877621288, 'kMaxAttractionDistance': 92, 'kStartAttraction': 0.1913779066307797}. Best is trial 144 with value: 6984.345.\u001b[0m\n"
     ]
    },
    {
     "name": "stdout",
     "output_type": "stream",
     "text": [
      "index_parallel='0257'\n"
     ]
    },
    {
     "name": "stderr",
     "output_type": "stream",
     "text": [
      "\u001b[32m[I 2022-08-16 09:26:42,747]\u001b[0m Trial 257 finished with value: 6943.435 and parameters: {'kErase': 3, 'kRadius': 3, 'kAnnealingA': -2.63035490148417, 'kAnnealingB': 2.937945345267555, 'kAnnealingStart': 48.32509762134572, 'kSkipRatio': 0.7881582544037442, 'kTargetDeterminationTrials': 10, 'kAttractionRatio': 0.012537180424021282, 'kMaxAttractionDistance': 86, 'kStartAttraction': 0.24018729148119297}. Best is trial 144 with value: 6984.345.\u001b[0m\n"
     ]
    },
    {
     "name": "stdout",
     "output_type": "stream",
     "text": [
      "index_parallel='0259'\n"
     ]
    },
    {
     "name": "stderr",
     "output_type": "stream",
     "text": [
      "\u001b[32m[I 2022-08-16 09:30:32,767]\u001b[0m Trial 259 finished with value: 6908.76 and parameters: {'kErase': 3, 'kRadius': 3, 'kAnnealingA': -4.174629337996947, 'kAnnealingB': 2.7606340683918114, 'kAnnealingStart': 59.84395272285179, 'kSkipRatio': 0.768134032627337, 'kTargetDeterminationTrials': 13, 'kAttractionRatio': 0.011731938768397942, 'kMaxAttractionDistance': 83, 'kStartAttraction': 0.17712505369617287}. Best is trial 144 with value: 6984.345.\u001b[0m\n"
     ]
    },
    {
     "name": "stdout",
     "output_type": "stream",
     "text": [
      "index_parallel='0261'\n"
     ]
    },
    {
     "name": "stderr",
     "output_type": "stream",
     "text": [
      "\u001b[32m[I 2022-08-16 09:34:22,863]\u001b[0m Trial 261 finished with value: 6950.815 and parameters: {'kErase': 3, 'kRadius': 3, 'kAnnealingA': -3.228949852533877, 'kAnnealingB': 2.8433291463244528, 'kAnnealingStart': 66.11248000090637, 'kSkipRatio': 0.7773439590115925, 'kTargetDeterminationTrials': 12, 'kAttractionRatio': 0.010962640218456061, 'kMaxAttractionDistance': 75, 'kStartAttraction': 0.15674919160039652}. Best is trial 144 with value: 6984.345.\u001b[0m\n"
     ]
    },
    {
     "name": "stdout",
     "output_type": "stream",
     "text": [
      "index_parallel='0263'\n"
     ]
    },
    {
     "name": "stderr",
     "output_type": "stream",
     "text": [
      "\u001b[32m[I 2022-08-16 09:38:12,897]\u001b[0m Trial 263 finished with value: 6914.075 and parameters: {'kErase': 3, 'kRadius': 3, 'kAnnealingA': -3.5013678725768527, 'kAnnealingB': 2.8623643210380685, 'kAnnealingStart': 86.36660971084348, 'kSkipRatio': 0.7873185297846242, 'kTargetDeterminationTrials': 11, 'kAttractionRatio': 0.016071186619891046, 'kMaxAttractionDistance': 73, 'kStartAttraction': 0.15041184446734743}. Best is trial 144 with value: 6984.345.\u001b[0m\n"
     ]
    },
    {
     "name": "stdout",
     "output_type": "stream",
     "text": [
      "index_parallel='0265'\n"
     ]
    },
    {
     "name": "stderr",
     "output_type": "stream",
     "text": [
      "\u001b[32m[I 2022-08-16 09:42:02,789]\u001b[0m Trial 265 finished with value: 6920.695 and parameters: {'kErase': 3, 'kRadius': 3, 'kAnnealingA': -2.102429892976286, 'kAnnealingB': 2.899685470712069, 'kAnnealingStart': 69.20701311046945, 'kSkipRatio': 0.7762687575708979, 'kTargetDeterminationTrials': 12, 'kAttractionRatio': 0.011943187402370584, 'kMaxAttractionDistance': 75, 'kStartAttraction': 0.19591237811059495}. Best is trial 144 with value: 6984.345.\u001b[0m\n"
     ]
    },
    {
     "name": "stdout",
     "output_type": "stream",
     "text": [
      "index_parallel='0267'\n"
     ]
    },
    {
     "name": "stderr",
     "output_type": "stream",
     "text": [
      "\u001b[32m[I 2022-08-16 09:45:52,909]\u001b[0m Trial 267 finished with value: 6948.775 and parameters: {'kErase': 3, 'kRadius': 3, 'kAnnealingA': -1.7652549577628236, 'kAnnealingB': 2.822640776809128, 'kAnnealingStart': 77.24768784494675, 'kSkipRatio': 0.751479693142228, 'kTargetDeterminationTrials': 13, 'kAttractionRatio': 0.013081479333542385, 'kMaxAttractionDistance': 99, 'kStartAttraction': 0.2791381037197643}. Best is trial 144 with value: 6984.345.\u001b[0m\n"
     ]
    },
    {
     "name": "stdout",
     "output_type": "stream",
     "text": [
      "index_parallel='0269'\n"
     ]
    },
    {
     "name": "stderr",
     "output_type": "stream",
     "text": [
      "\u001b[32m[I 2022-08-16 09:49:42,858]\u001b[0m Trial 269 finished with value: 6937.465 and parameters: {'kErase': 3, 'kRadius': 3, 'kAnnealingA': -2.5464503677734553, 'kAnnealingB': 2.794244451787802, 'kAnnealingStart': 74.79361440912223, 'kSkipRatio': 0.7895415580354785, 'kTargetDeterminationTrials': 13, 'kAttractionRatio': 0.014702473563373725, 'kMaxAttractionDistance': 97, 'kStartAttraction': 0.29748152971961994}. Best is trial 144 with value: 6984.345.\u001b[0m\n"
     ]
    },
    {
     "name": "stdout",
     "output_type": "stream",
     "text": [
      "index_parallel='0271'\n"
     ]
    },
    {
     "name": "stderr",
     "output_type": "stream",
     "text": [
      "\u001b[32m[I 2022-08-16 09:53:32,895]\u001b[0m Trial 271 finished with value: 6935.42 and parameters: {'kErase': 3, 'kRadius': 3, 'kAnnealingA': -1.4737833504661122, 'kAnnealingB': 2.7159042731992886, 'kAnnealingStart': 65.14025591474964, 'kSkipRatio': 0.7512872988174102, 'kTargetDeterminationTrials': 11, 'kAttractionRatio': 0.013222718000073557, 'kMaxAttractionDistance': 99, 'kStartAttraction': 0.22555150557741344}. Best is trial 144 with value: 6984.345.\u001b[0m\n"
     ]
    },
    {
     "name": "stdout",
     "output_type": "stream",
     "text": [
      "index_parallel='0273'\n"
     ]
    },
    {
     "name": "stderr",
     "output_type": "stream",
     "text": [
      "\u001b[32m[I 2022-08-16 09:57:22,927]\u001b[0m Trial 273 finished with value: 6958.215 and parameters: {'kErase': 3, 'kRadius': 3, 'kAnnealingA': -4.150475845727046, 'kAnnealingB': 2.8431026908873287, 'kAnnealingStart': 60.37455475610419, 'kSkipRatio': 0.769375241787458, 'kTargetDeterminationTrials': 12, 'kAttractionRatio': 0.010985737718445928, 'kMaxAttractionDistance': 67, 'kStartAttraction': 0.25356148153796537}. Best is trial 144 with value: 6984.345.\u001b[0m\n"
     ]
    },
    {
     "name": "stdout",
     "output_type": "stream",
     "text": [
      "index_parallel='0275'\n"
     ]
    },
    {
     "name": "stderr",
     "output_type": "stream",
     "text": [
      "\u001b[32m[I 2022-08-16 10:01:12,945]\u001b[0m Trial 275 finished with value: 6849.0 and parameters: {'kErase': 3, 'kRadius': 3, 'kAnnealingA': -5.805568961455507, 'kAnnealingB': 2.834153655610858, 'kAnnealingStart': 56.68739232337841, 'kSkipRatio': 0.7266168396376712, 'kTargetDeterminationTrials': 14, 'kAttractionRatio': 0.01578391997999147, 'kMaxAttractionDistance': 88, 'kStartAttraction': 0.15466411787327272}. Best is trial 144 with value: 6984.345.\u001b[0m\n"
     ]
    },
    {
     "name": "stdout",
     "output_type": "stream",
     "text": [
      "index_parallel='0277'\n"
     ]
    },
    {
     "name": "stderr",
     "output_type": "stream",
     "text": [
      "\u001b[32m[I 2022-08-16 10:05:02,828]\u001b[0m Trial 277 finished with value: 6938.565 and parameters: {'kErase': 3, 'kRadius': 3, 'kAnnealingA': -1.0967510648332572, 'kAnnealingB': 2.9082356404102323, 'kAnnealingStart': 60.29511943139584, 'kSkipRatio': 0.7486306618209914, 'kTargetDeterminationTrials': 11, 'kAttractionRatio': 0.013282777150544912, 'kMaxAttractionDistance': 79, 'kStartAttraction': 0.20256238528043444}. Best is trial 144 with value: 6984.345.\u001b[0m\n"
     ]
    },
    {
     "name": "stdout",
     "output_type": "stream",
     "text": [
      "index_parallel='0279'\n"
     ]
    },
    {
     "name": "stderr",
     "output_type": "stream",
     "text": [
      "\u001b[32m[I 2022-08-16 10:08:52,954]\u001b[0m Trial 279 finished with value: 6959.275 and parameters: {'kErase': 3, 'kRadius': 3, 'kAnnealingA': -1.8547622811991256, 'kAnnealingB': 2.7952608151138376, 'kAnnealingStart': 51.326292686923345, 'kSkipRatio': 0.7627289191593332, 'kTargetDeterminationTrials': 10, 'kAttractionRatio': 0.01228491190431442, 'kMaxAttractionDistance': 70, 'kStartAttraction': 0.3345258617793548}. Best is trial 144 with value: 6984.345.\u001b[0m\n"
     ]
    },
    {
     "name": "stdout",
     "output_type": "stream",
     "text": [
      "index_parallel='0281'\n"
     ]
    },
    {
     "name": "stderr",
     "output_type": "stream",
     "text": [
      "\u001b[32m[I 2022-08-16 10:12:43,130]\u001b[0m Trial 281 finished with value: 6873.705 and parameters: {'kErase': 3, 'kRadius': 3, 'kAnnealingA': 0.5474080863445223, 'kAnnealingB': 2.8475018691589917, 'kAnnealingStart': 48.1274411554636, 'kSkipRatio': 0.7148737176700165, 'kTargetDeterminationTrials': 10, 'kAttractionRatio': 0.010928427332024055, 'kMaxAttractionDistance': 75, 'kStartAttraction': 0.3289278605869022}. Best is trial 144 with value: 6984.345.\u001b[0m\n"
     ]
    },
    {
     "name": "stdout",
     "output_type": "stream",
     "text": [
      "index_parallel='0283'\n"
     ]
    },
    {
     "name": "stderr",
     "output_type": "stream",
     "text": [
      "\u001b[32m[I 2022-08-16 10:16:34,580]\u001b[0m Trial 283 finished with value: 6929.05 and parameters: {'kErase': 3, 'kRadius': 6, 'kAnnealingA': -1.082607128055859, 'kAnnealingB': 2.9474121322608138, 'kAnnealingStart': 52.63964044326967, 'kSkipRatio': 0.7677006837547197, 'kTargetDeterminationTrials': 10, 'kAttractionRatio': 0.012093389281265151, 'kMaxAttractionDistance': 70, 'kStartAttraction': 0.2614860495414068}. Best is trial 144 with value: 6984.345.\u001b[0m\n"
     ]
    },
    {
     "name": "stdout",
     "output_type": "stream",
     "text": [
      "index_parallel='0285'\n"
     ]
    },
    {
     "name": "stderr",
     "output_type": "stream",
     "text": [
      "\u001b[32m[I 2022-08-16 10:20:24,604]\u001b[0m Trial 285 finished with value: 6484.35 and parameters: {'kErase': 3, 'kRadius': 3, 'kAnnealingA': -3.6460837352796167, 'kAnnealingB': 2.778740645992345, 'kAnnealingStart': 5.458540476010303, 'kSkipRatio': 0.7590758670822256, 'kTargetDeterminationTrials': 12, 'kAttractionRatio': 0.014565222652235685, 'kMaxAttractionDistance': 81, 'kStartAttraction': 0.33279316884734744}. Best is trial 144 with value: 6984.345.\u001b[0m\n"
     ]
    },
    {
     "name": "stdout",
     "output_type": "stream",
     "text": [
      "index_parallel='0287'\n"
     ]
    },
    {
     "name": "stderr",
     "output_type": "stream",
     "text": [
      "\u001b[32m[I 2022-08-16 10:24:14,622]\u001b[0m Trial 287 finished with value: 6938.58 and parameters: {'kErase': 3, 'kRadius': 3, 'kAnnealingA': -0.8002469893173931, 'kAnnealingB': 2.995806631643109, 'kAnnealingStart': 53.06999353838005, 'kSkipRatio': 0.7484653481963741, 'kTargetDeterminationTrials': 11, 'kAttractionRatio': 0.012662108608121518, 'kMaxAttractionDistance': 76, 'kStartAttraction': 0.3672321476462383}. Best is trial 144 with value: 6984.345.\u001b[0m\n"
     ]
    },
    {
     "name": "stdout",
     "output_type": "stream",
     "text": [
      "index_parallel='0289'\n"
     ]
    },
    {
     "name": "stderr",
     "output_type": "stream",
     "text": [
      "\u001b[32m[I 2022-08-16 10:28:04,545]\u001b[0m Trial 289 finished with value: 6944.85 and parameters: {'kErase': 3, 'kRadius': 3, 'kAnnealingA': 0.04652209101778282, 'kAnnealingB': 2.8705250194598673, 'kAnnealingStart': 47.46770553146316, 'kSkipRatio': 0.7723408437224543, 'kTargetDeterminationTrials': 3, 'kAttractionRatio': 0.012167384531854716, 'kMaxAttractionDistance': 61, 'kStartAttraction': 0.3126681052905571}. Best is trial 144 with value: 6984.345.\u001b[0m\n"
     ]
    },
    {
     "name": "stdout",
     "output_type": "stream",
     "text": [
      "index_parallel='0291'\n"
     ]
    },
    {
     "name": "stderr",
     "output_type": "stream",
     "text": [
      "\u001b[32m[I 2022-08-16 10:31:54,381]\u001b[0m Trial 291 finished with value: 6945.355 and parameters: {'kErase': 3, 'kRadius': 3, 'kAnnealingA': -2.952205701331094, 'kAnnealingB': 2.8403155797731228, 'kAnnealingStart': 64.33805893594378, 'kSkipRatio': 0.7767038811022653, 'kTargetDeterminationTrials': 1, 'kAttractionRatio': 0.014490087036928584, 'kMaxAttractionDistance': 68, 'kStartAttraction': 0.13043469185118445}. Best is trial 144 with value: 6984.345.\u001b[0m\n"
     ]
    },
    {
     "name": "stdout",
     "output_type": "stream",
     "text": [
      "index_parallel='0293'\n"
     ]
    },
    {
     "name": "stderr",
     "output_type": "stream",
     "text": [
      "\u001b[32m[I 2022-08-16 10:35:44,302]\u001b[0m Trial 293 finished with value: 6943.635 and parameters: {'kErase': 3, 'kRadius': 3, 'kAnnealingA': -2.2222729371338037, 'kAnnealingB': 2.9059841648148628, 'kAnnealingStart': 57.24164093647003, 'kSkipRatio': 0.7632031463393849, 'kTargetDeterminationTrials': 12, 'kAttractionRatio': 0.01077862728623781, 'kMaxAttractionDistance': 83, 'kStartAttraction': 0.22792576907119513}. Best is trial 144 with value: 6984.345.\u001b[0m\n"
     ]
    },
    {
     "name": "stdout",
     "output_type": "stream",
     "text": [
      "index_parallel='0295'\n"
     ]
    },
    {
     "name": "stderr",
     "output_type": "stream",
     "text": [
      "\u001b[32m[I 2022-08-16 10:39:33,982]\u001b[0m Trial 295 finished with value: 6930.06 and parameters: {'kErase': 3, 'kRadius': 3, 'kAnnealingA': -1.1455924557409802, 'kAnnealingB': 2.760054171816154, 'kAnnealingStart': 69.81672665894199, 'kSkipRatio': 0.7625312128894405, 'kTargetDeterminationTrials': 11, 'kAttractionRatio': 0.01399151148066224, 'kMaxAttractionDistance': 76, 'kStartAttraction': 0.16207824836691925}. Best is trial 144 with value: 6984.345.\u001b[0m\n"
     ]
    },
    {
     "name": "stdout",
     "output_type": "stream",
     "text": [
      "index_parallel='0296'\n"
     ]
    },
    {
     "name": "stderr",
     "output_type": "stream",
     "text": [
      "\u001b[32m[I 2022-08-16 10:43:23,967]\u001b[0m Trial 296 finished with value: 6925.545 and parameters: {'kErase': 3, 'kRadius': 3, 'kAnnealingA': -1.5793997932121027, 'kAnnealingB': 2.9383404479786583, 'kAnnealingStart': 46.16178134887384, 'kSkipRatio': 0.7418418038849024, 'kTargetDeterminationTrials': 10, 'kAttractionRatio': 0.012057848467297665, 'kMaxAttractionDistance': 89, 'kStartAttraction': 0.22348907238948237}. Best is trial 144 with value: 6984.345.\u001b[0m\n"
     ]
    },
    {
     "name": "stdout",
     "output_type": "stream",
     "text": [
      "index_parallel='0297'\n"
     ]
    },
    {
     "name": "stderr",
     "output_type": "stream",
     "text": [
      "\u001b[32m[I 2022-08-16 10:47:13,803]\u001b[0m Trial 297 finished with value: 6922.96 and parameters: {'kErase': 3, 'kRadius': 3, 'kAnnealingA': -3.105771470553775, 'kAnnealingB': 2.8173007691896466, 'kAnnealingStart': 51.51724125665027, 'kSkipRatio': 0.780000853214888, 'kTargetDeterminationTrials': 12, 'kAttractionRatio': 0.010743592031234955, 'kMaxAttractionDistance': 71, 'kStartAttraction': 0.27294447415966894}. Best is trial 144 with value: 6984.345.\u001b[0m\n"
     ]
    },
    {
     "name": "stdout",
     "output_type": "stream",
     "text": [
      "index_parallel='0298'\n"
     ]
    },
    {
     "name": "stderr",
     "output_type": "stream",
     "text": [
      "\u001b[32m[I 2022-08-16 10:51:03,865]\u001b[0m Trial 298 finished with value: 6947.58 and parameters: {'kErase': 3, 'kRadius': 3, 'kAnnealingA': -0.9118891803655407, 'kAnnealingB': 2.896305708470769, 'kAnnealingStart': 62.044147561834315, 'kSkipRatio': 0.7563420031351582, 'kTargetDeterminationTrials': 11, 'kAttractionRatio': 0.013514885507417366, 'kMaxAttractionDistance': 78, 'kStartAttraction': 0.42174566729081137}. Best is trial 144 with value: 6984.345.\u001b[0m\n"
     ]
    },
    {
     "name": "stdout",
     "output_type": "stream",
     "text": [
      "index_parallel='0299'\n"
     ]
    },
    {
     "name": "stderr",
     "output_type": "stream",
     "text": [
      "\u001b[32m[I 2022-08-16 10:54:53,981]\u001b[0m Trial 299 finished with value: 6940.245 and parameters: {'kErase': 3, 'kRadius': 3, 'kAnnealingA': -1.7946741256463363, 'kAnnealingB': 2.7227869210104716, 'kAnnealingStart': 56.95514078847679, 'kSkipRatio': 0.7694520756930466, 'kTargetDeterminationTrials': 10, 'kAttractionRatio': 0.011880091438832906, 'kMaxAttractionDistance': 87, 'kStartAttraction': 0.16164354125645453}. Best is trial 144 with value: 6984.345.\u001b[0m\n"
     ]
    },
    {
     "name": "stdout",
     "output_type": "stream",
     "text": [
      "index_parallel='0300'\n"
     ]
    },
    {
     "name": "stderr",
     "output_type": "stream",
     "text": [
      "\u001b[32m[I 2022-08-16 10:58:44,363]\u001b[0m Trial 300 finished with value: 6918.81 and parameters: {'kErase': 5, 'kRadius': 3, 'kAnnealingA': -2.2216799103007596, 'kAnnealingB': 2.8641425660669357, 'kAnnealingStart': 65.59178255120369, 'kSkipRatio': 0.7852946482654761, 'kTargetDeterminationTrials': 12, 'kAttractionRatio': 0.012835660217418709, 'kMaxAttractionDistance': 73, 'kStartAttraction': 0.17804952532064636}. Best is trial 144 with value: 6984.345.\u001b[0m\n"
     ]
    },
    {
     "name": "stdout",
     "output_type": "stream",
     "text": [
      "index_parallel='0301'\n"
     ]
    },
    {
     "name": "stderr",
     "output_type": "stream",
     "text": [
      "\u001b[32m[I 2022-08-16 11:02:34,219]\u001b[0m Trial 301 finished with value: 6932.895 and parameters: {'kErase': 3, 'kRadius': 3, 'kAnnealingA': -3.8126276049558405, 'kAnnealingB': 2.7824096108819476, 'kAnnealingStart': 49.452162581109484, 'kSkipRatio': 0.7877438979676351, 'kTargetDeterminationTrials': 11, 'kAttractionRatio': 0.011795095425107587, 'kMaxAttractionDistance': 62, 'kStartAttraction': 0.21909943396820059}. Best is trial 144 with value: 6984.345.\u001b[0m\n"
     ]
    },
    {
     "name": "stdout",
     "output_type": "stream",
     "text": [
      "index_parallel='0302'\n"
     ]
    },
    {
     "name": "stderr",
     "output_type": "stream",
     "text": [
      "\u001b[32m[I 2022-08-16 11:06:24,522]\u001b[0m Trial 302 finished with value: 5317.255 and parameters: {'kErase': 3, 'kRadius': 3, 'kAnnealingA': -0.3699781208268921, 'kAnnealingB': 2.940100994485723, 'kAnnealingStart': 70.91017351563926, 'kSkipRatio': 0.25563097570098126, 'kTargetDeterminationTrials': 13, 'kAttractionRatio': 0.010698460821515413, 'kMaxAttractionDistance': 80, 'kStartAttraction': 0.15169501294077437}. Best is trial 144 with value: 6984.345.\u001b[0m\n"
     ]
    },
    {
     "name": "stdout",
     "output_type": "stream",
     "text": [
      "index_parallel='0303'\n"
     ]
    },
    {
     "name": "stderr",
     "output_type": "stream",
     "text": [
      "\u001b[32m[I 2022-08-16 11:10:14,755]\u001b[0m Trial 303 finished with value: 6948.63 and parameters: {'kErase': 3, 'kRadius': 3, 'kAnnealingA': -1.2495621765761764, 'kAnnealingB': 2.8270884296651935, 'kAnnealingStart': 57.99062676327743, 'kSkipRatio': 0.7670631512527564, 'kTargetDeterminationTrials': 12, 'kAttractionRatio': 0.015534063356063738, 'kMaxAttractionDistance': 67, 'kStartAttraction': 0.2587973229356406}. Best is trial 144 with value: 6984.345.\u001b[0m\n"
     ]
    },
    {
     "name": "stdout",
     "output_type": "stream",
     "text": [
      "index_parallel='0304'\n"
     ]
    },
    {
     "name": "stderr",
     "output_type": "stream",
     "text": [
      "\u001b[32m[I 2022-08-16 11:14:04,801]\u001b[0m Trial 304 finished with value: 6936.06 and parameters: {'kErase': 3, 'kRadius': 3, 'kAnnealingA': -2.6699994891087258, 'kAnnealingB': 2.7315264390426193, 'kAnnealingStart': 53.5997176100528, 'kSkipRatio': 0.7495332651520199, 'kTargetDeterminationTrials': 13, 'kAttractionRatio': 0.01403424101794748, 'kMaxAttractionDistance': 84, 'kStartAttraction': 0.2070267057906526}. Best is trial 144 with value: 6984.345.\u001b[0m\n"
     ]
    },
    {
     "name": "stdout",
     "output_type": "stream",
     "text": [
      "index_parallel='0305'\n"
     ]
    },
    {
     "name": "stderr",
     "output_type": "stream",
     "text": [
      "\u001b[32m[I 2022-08-16 11:17:55,038]\u001b[0m Trial 305 finished with value: 6950.465 and parameters: {'kErase': 3, 'kRadius': 3, 'kAnnealingA': -0.8221767498048833, 'kAnnealingB': 2.8849611981628582, 'kAnnealingStart': 45.807850040863286, 'kSkipRatio': 0.7323601058546805, 'kTargetDeterminationTrials': 11, 'kAttractionRatio': 0.011817086954531762, 'kMaxAttractionDistance': 74, 'kStartAttraction': 0.17243093618036912}. Best is trial 144 with value: 6984.345.\u001b[0m\n"
     ]
    },
    {
     "name": "stdout",
     "output_type": "stream",
     "text": [
      "index_parallel='0306'\n"
     ]
    },
    {
     "name": "stderr",
     "output_type": "stream",
     "text": [
      "\u001b[32m[I 2022-08-16 11:21:45,004]\u001b[0m Trial 306 finished with value: 6917.875 and parameters: {'kErase': 3, 'kRadius': 3, 'kAnnealingA': 1.0609373739394519, 'kAnnealingB': 2.904401513097034, 'kAnnealingStart': 42.197709419166365, 'kSkipRatio': 0.732589315053119, 'kTargetDeterminationTrials': 11, 'kAttractionRatio': 0.010041195758674007, 'kMaxAttractionDistance': 14, 'kStartAttraction': 0.13760318230818033}. Best is trial 144 with value: 6984.345.\u001b[0m\n"
     ]
    },
    {
     "name": "stdout",
     "output_type": "stream",
     "text": [
      "index_parallel='0307'\n"
     ]
    },
    {
     "name": "stderr",
     "output_type": "stream",
     "text": [
      "\u001b[32m[I 2022-08-16 11:25:34,772]\u001b[0m Trial 307 finished with value: 6941.945 and parameters: {'kErase': 3, 'kRadius': 3, 'kAnnealingA': -0.4931120708213357, 'kAnnealingB': 2.9964967372131666, 'kAnnealingStart': 47.367324970299144, 'kSkipRatio': 0.7788165295074714, 'kTargetDeterminationTrials': 12, 'kAttractionRatio': 0.011457613913399074, 'kMaxAttractionDistance': 56, 'kStartAttraction': 0.16439550043012843}. Best is trial 144 with value: 6984.345.\u001b[0m\n"
     ]
    },
    {
     "name": "stdout",
     "output_type": "stream",
     "text": [
      "index_parallel='0308'\n"
     ]
    },
    {
     "name": "stderr",
     "output_type": "stream",
     "text": [
      "\u001b[32m[I 2022-08-16 11:29:24,923]\u001b[0m Trial 308 finished with value: 6963.26 and parameters: {'kErase': 3, 'kRadius': 3, 'kAnnealingA': -1.0468549732738985, 'kAnnealingB': 2.873175319788333, 'kAnnealingStart': 45.642502842852764, 'kSkipRatio': 0.7873066283174254, 'kTargetDeterminationTrials': 10, 'kAttractionRatio': 0.017325128520007085, 'kMaxAttractionDistance': 91, 'kStartAttraction': 0.180344991587571}. Best is trial 144 with value: 6984.345.\u001b[0m\n"
     ]
    },
    {
     "name": "stdout",
     "output_type": "stream",
     "text": [
      "index_parallel='0309'\n"
     ]
    },
    {
     "name": "stderr",
     "output_type": "stream",
     "text": [
      "\u001b[32m[I 2022-08-16 11:33:14,763]\u001b[0m Trial 309 finished with value: 6955.755 and parameters: {'kErase': 3, 'kRadius': 3, 'kAnnealingA': -1.1867228642904648, 'kAnnealingB': 2.8695684955007157, 'kAnnealingStart': 43.52770612233983, 'kSkipRatio': 0.7905584196374564, 'kTargetDeterminationTrials': 9, 'kAttractionRatio': 0.01655685634651128, 'kMaxAttractionDistance': 89, 'kStartAttraction': 0.1788441643811234}. Best is trial 144 with value: 6984.345.\u001b[0m\n"
     ]
    },
    {
     "name": "stdout",
     "output_type": "stream",
     "text": [
      "index_parallel='0310'\n"
     ]
    },
    {
     "name": "stderr",
     "output_type": "stream",
     "text": [
      "\u001b[32m[I 2022-08-16 11:37:04,796]\u001b[0m Trial 310 finished with value: 6957.51 and parameters: {'kErase': 3, 'kRadius': 3, 'kAnnealingA': -0.15223626290662362, 'kAnnealingB': 2.8913035671326424, 'kAnnealingStart': 42.53460343351779, 'kSkipRatio': 0.7879941503765939, 'kTargetDeterminationTrials': 10, 'kAttractionRatio': 0.017767550272566476, 'kMaxAttractionDistance': 90, 'kStartAttraction': 0.18205749807315882}. Best is trial 144 with value: 6984.345.\u001b[0m\n"
     ]
    },
    {
     "name": "stdout",
     "output_type": "stream",
     "text": [
      "index_parallel='0311'\n"
     ]
    },
    {
     "name": "stderr",
     "output_type": "stream",
     "text": [
      "\u001b[32m[I 2022-08-16 11:40:55,167]\u001b[0m Trial 311 finished with value: 6948.535 and parameters: {'kErase': 3, 'kRadius': 3, 'kAnnealingA': 0.031968093385199126, 'kAnnealingB': 1.3980515389495034, 'kAnnealingStart': 41.84575506330044, 'kSkipRatio': 0.7996504772562649, 'kTargetDeterminationTrials': 10, 'kAttractionRatio': 0.015892280700144496, 'kMaxAttractionDistance': 90, 'kStartAttraction': 0.18549369311258163}. Best is trial 144 with value: 6984.345.\u001b[0m\n"
     ]
    },
    {
     "name": "stdout",
     "output_type": "stream",
     "text": [
      "index_parallel='0312'\n"
     ]
    }
   ],
   "source": [
    "study.optimize(\n",
    "    partial(objective, in_dir=in_dir, work_dir=work_dir),\n",
    "    n_trials=3000,\n",
    "    timeout=86400,\n",
    "    callbacks=[callback]\n",
    ")"
   ]
  },
  {
   "cell_type": "code",
   "execution_count": null,
   "id": "700269d2",
   "metadata": {},
   "outputs": [],
   "source": []
  }
 ],
 "metadata": {
  "kernelspec": {
   "display_name": "Python 3 (ipykernel)",
   "language": "python",
   "name": "python3"
  },
  "language_info": {
   "codemirror_mode": {
    "name": "ipython",
    "version": 3
   },
   "file_extension": ".py",
   "mimetype": "text/x-python",
   "name": "python",
   "nbconvert_exporter": "python",
   "pygments_lexer": "ipython3",
   "version": "3.9.12"
  }
 },
 "nbformat": 4,
 "nbformat_minor": 5
}
