{
 "cells": [
  {
   "cell_type": "code",
   "execution_count": 1,
   "id": "25a1dac8",
   "metadata": {},
   "outputs": [],
   "source": [
    "import re\n",
    "import sys\n",
    "from uuid import uuid1\n",
    "from time import sleep\n",
    "from pprint import pprint\n",
    "from pathlib import Path\n",
    "from tempfile import gettempdir\n",
    "from threading import Thread\n",
    "from functools import partial\n",
    "from subprocess import Popen, PIPE\n",
    "\n",
    "from tqdm.notebook import tqdm\n",
    "import numpy as np\n",
    "import optuna\n",
    "import pandas as pd\n",
    "import matplotlib.pyplot as plt\n",
    "\n",
    "FILENAME = \"main.cpp\""
   ]
  },
  {
   "cell_type": "code",
   "execution_count": 2,
   "id": "3dd4d02e",
   "metadata": {},
   "outputs": [
    {
     "name": "stdout",
     "output_type": "stream",
     "text": [
      "10 variables were found.\n"
     ]
    },
    {
     "data": {
      "text/html": [
       "<div>\n",
       "<style scoped>\n",
       "    .dataframe tbody tr th:only-of-type {\n",
       "        vertical-align: middle;\n",
       "    }\n",
       "\n",
       "    .dataframe tbody tr th {\n",
       "        vertical-align: top;\n",
       "    }\n",
       "\n",
       "    .dataframe thead th {\n",
       "        text-align: right;\n",
       "    }\n",
       "</style>\n",
       "<table border=\"1\" class=\"dataframe\">\n",
       "  <thead>\n",
       "    <tr style=\"text-align: right;\">\n",
       "      <th></th>\n",
       "      <th>name</th>\n",
       "      <th>method</th>\n",
       "      <th>min</th>\n",
       "      <th>max</th>\n",
       "      <th>log</th>\n",
       "      <th>left</th>\n",
       "      <th>right</th>\n",
       "    </tr>\n",
       "  </thead>\n",
       "  <tbody>\n",
       "    <tr>\n",
       "      <th>0</th>\n",
       "      <td>kErase</td>\n",
       "      <td>suggest_int</td>\n",
       "      <td>1.000</td>\n",
       "      <td>5.0</td>\n",
       "      <td>False</td>\n",
       "      <td>static constexpr auto kErase =</td>\n",
       "      <td>;             // OPTIMIZE [1, 5]</td>\n",
       "    </tr>\n",
       "    <tr>\n",
       "      <th>1</th>\n",
       "      <td>kRadius</td>\n",
       "      <td>suggest_int</td>\n",
       "      <td>2.000</td>\n",
       "      <td>6.0</td>\n",
       "      <td>False</td>\n",
       "      <td>static constexpr auto kRadius =</td>\n",
       "      <td>;            // OPTIMIZE [2, 6]</td>\n",
       "    </tr>\n",
       "    <tr>\n",
       "      <th>2</th>\n",
       "      <td>kAnnealingA</td>\n",
       "      <td>suggest_float</td>\n",
       "      <td>-15.000</td>\n",
       "      <td>15.0</td>\n",
       "      <td>False</td>\n",
       "      <td>static constexpr auto kAnnealingA =</td>\n",
       "      <td>;      // OPTIMIZE [-15.0, 15.0]</td>\n",
       "    </tr>\n",
       "    <tr>\n",
       "      <th>3</th>\n",
       "      <td>kAnnealingB</td>\n",
       "      <td>suggest_float</td>\n",
       "      <td>0.000</td>\n",
       "      <td>3.0</td>\n",
       "      <td>False</td>\n",
       "      <td>static constexpr auto kAnnealingB =</td>\n",
       "      <td>;      // OPTIMIZE [0.0, 3.0]</td>\n",
       "    </tr>\n",
       "    <tr>\n",
       "      <th>4</th>\n",
       "      <td>kAnnealingStart</td>\n",
       "      <td>suggest_float</td>\n",
       "      <td>1.000</td>\n",
       "      <td>100.0</td>\n",
       "      <td>True</td>\n",
       "      <td>static constexpr auto kAnnealingStart =</td>\n",
       "      <td>; // OPTIMIZE LOG [1.0, 100.0]</td>\n",
       "    </tr>\n",
       "    <tr>\n",
       "      <th>5</th>\n",
       "      <td>kSkipRatio</td>\n",
       "      <td>suggest_float</td>\n",
       "      <td>0.200</td>\n",
       "      <td>0.8</td>\n",
       "      <td>False</td>\n",
       "      <td>static constexpr auto kSkipRatio =</td>\n",
       "      <td>;       // OPTIMIZE [0.2, 0.8]</td>\n",
       "    </tr>\n",
       "    <tr>\n",
       "      <th>6</th>\n",
       "      <td>kTargetDeterminationTrials</td>\n",
       "      <td>suggest_int</td>\n",
       "      <td>1.000</td>\n",
       "      <td>20.0</td>\n",
       "      <td>True</td>\n",
       "      <td>static constexpr auto kTargetDeterminationTria...</td>\n",
       "      <td>; // OPTIMIZE LOG [1, 20]</td>\n",
       "    </tr>\n",
       "    <tr>\n",
       "      <th>7</th>\n",
       "      <td>kAttractionRatio</td>\n",
       "      <td>suggest_float</td>\n",
       "      <td>0.010</td>\n",
       "      <td>0.9</td>\n",
       "      <td>True</td>\n",
       "      <td>static constexpr auto kAttractionRatio =</td>\n",
       "      <td>;      // OPTIMIZE LOG [0.01, 0.9]</td>\n",
       "    </tr>\n",
       "    <tr>\n",
       "      <th>8</th>\n",
       "      <td>kMaxAttractionDistance</td>\n",
       "      <td>suggest_int</td>\n",
       "      <td>4.000</td>\n",
       "      <td>99.0</td>\n",
       "      <td>True</td>\n",
       "      <td>static constexpr auto kMaxAttractionDistance =</td>\n",
       "      <td>; // OPTIMIZE LOG [4, 99]</td>\n",
       "    </tr>\n",
       "    <tr>\n",
       "      <th>9</th>\n",
       "      <td>kStartAttraction</td>\n",
       "      <td>suggest_float</td>\n",
       "      <td>0.001</td>\n",
       "      <td>0.9</td>\n",
       "      <td>True</td>\n",
       "      <td>static constexpr auto kStartAttraction =</td>\n",
       "      <td>;     // OPTIMIZE LOG [0.001, 0.9]</td>\n",
       "    </tr>\n",
       "  </tbody>\n",
       "</table>\n",
       "</div>"
      ],
      "text/plain": [
       "                         name         method     min    max    log  \\\n",
       "0                      kErase    suggest_int   1.000    5.0  False   \n",
       "1                     kRadius    suggest_int   2.000    6.0  False   \n",
       "2                 kAnnealingA  suggest_float -15.000   15.0  False   \n",
       "3                 kAnnealingB  suggest_float   0.000    3.0  False   \n",
       "4             kAnnealingStart  suggest_float   1.000  100.0   True   \n",
       "5                  kSkipRatio  suggest_float   0.200    0.8  False   \n",
       "6  kTargetDeterminationTrials    suggest_int   1.000   20.0   True   \n",
       "7            kAttractionRatio  suggest_float   0.010    0.9   True   \n",
       "8      kMaxAttractionDistance    suggest_int   4.000   99.0   True   \n",
       "9            kStartAttraction  suggest_float   0.001    0.9   True   \n",
       "\n",
       "                                                left  \\\n",
       "0                    static constexpr auto kErase =    \n",
       "1                   static constexpr auto kRadius =    \n",
       "2               static constexpr auto kAnnealingA =    \n",
       "3               static constexpr auto kAnnealingB =    \n",
       "4           static constexpr auto kAnnealingStart =    \n",
       "5                static constexpr auto kSkipRatio =    \n",
       "6  static constexpr auto kTargetDeterminationTria...   \n",
       "7          static constexpr auto kAttractionRatio =    \n",
       "8    static constexpr auto kMaxAttractionDistance =    \n",
       "9          static constexpr auto kStartAttraction =    \n",
       "\n",
       "                                right  \n",
       "0    ;             // OPTIMIZE [1, 5]  \n",
       "1     ;            // OPTIMIZE [2, 6]  \n",
       "2    ;      // OPTIMIZE [-15.0, 15.0]  \n",
       "3       ;      // OPTIMIZE [0.0, 3.0]  \n",
       "4      ; // OPTIMIZE LOG [1.0, 100.0]  \n",
       "5      ;       // OPTIMIZE [0.2, 0.8]  \n",
       "6           ; // OPTIMIZE LOG [1, 20]  \n",
       "7  ;      // OPTIMIZE LOG [0.01, 0.9]  \n",
       "8           ; // OPTIMIZE LOG [4, 99]  \n",
       "9  ;     // OPTIMIZE LOG [0.001, 0.9]  "
      ]
     },
     "metadata": {},
     "output_type": "display_data"
    }
   ],
   "source": [
    "# ここでエラー出力は何かおかしいかもしれない\n",
    "\n",
    "\n",
    "# パラメータ抽出\n",
    "with open(FILENAME) as f:\n",
    "    answer = f.read()\n",
    "\n",
    "\n",
    "variables_optimize = []\n",
    "\n",
    "for left, value, right, options in re.findall(r\"^([^/\\n]*=\\s*)(.+?)(\\s*;\\s*//(?:.*\\W)?OPTIMIZE(\\W.*))$\", answer, re.MULTILINE):\n",
    "    name = left.replace(\"=\", \"\").strip().split()[-1]\n",
    "    \n",
    "    searched = re.search(r\".*\\[(?P<min>.*),(?P<max>.*)\\].*\", options)\n",
    "    if searched:\n",
    "        min_value = max_value = None\n",
    "        try:\n",
    "            min_value = eval(searched.group(\"min\"))\n",
    "            max_value = eval(searched.group(\"max\"))\n",
    "            assert min_value <= max_value\n",
    "        except Exception as e:\n",
    "            print(f\"searched={searched}\", file=sys.stderr)\n",
    "            print(e, file=sys.stderr)\n",
    "            continue\n",
    "        log = \"LOG\" in options  # 雑、直したほうが良い\n",
    "        if type(min_value) != type(max_value):\n",
    "            print(f\"searched={searched}\", file=sys.stderr)\n",
    "            print(\"types not matched\", file=sys.stderr)\n",
    "            continue\n",
    "        if isinstance(min_value, int):\n",
    "            method = \"suggest_int\"\n",
    "        elif isinstance(min_value, float):\n",
    "            method = \"suggest_float\"\n",
    "        else:\n",
    "            print(f\"searched={searched}\", file=sys.stderr)\n",
    "            print(f\"unknown type ({type(min_value)})\", file=sys.stderr)\n",
    "            continue\n",
    "        variables_optimize.append({\n",
    "            \"name\": name,\n",
    "            \"method\": method,\n",
    "            \"min\": min_value,\n",
    "            \"max\": max_value,\n",
    "            \"log\": log,\n",
    "            \"left\": left,\n",
    "            \"right\": right,\n",
    "        })\n",
    "    elif searched := re.search(r\".*\\{(?P<choices>.*?)\\}.*\", options):\n",
    "        choices = list(map(lambda x: x.strip(), searched.group(\"choices\").split(\",\")))\n",
    "        variables_optimize.append({\n",
    "            \"name\": name,\n",
    "            \"method\": \"suggest_categorical\",\n",
    "            \"choices\": choices,\n",
    "            \"left\": left,\n",
    "            \"right\": right,\n",
    "        })\n",
    "    else:\n",
    "        print(f\"searched={searched}\", file=sys.stderr)\n",
    "        print(f\"pattern was matched but options are incorrect.\", file=sys.stderr)\n",
    "\n",
    "print(len(variables_optimize), \"variables were found.\")\n",
    "if globals().get(\"pd\"):\n",
    "    display(pd.DataFrame(variables_optimize))\n",
    "else:\n",
    "    pprint(variables_optimize)"
   ]
  },
  {
   "cell_type": "code",
   "execution_count": 3,
   "id": "001042b9",
   "metadata": {},
   "outputs": [],
   "source": [
    "def escape(string):  # 正規表現の中でそのまま使いたい文字列をエスケープ\n",
    "    res = !echo '{string}' | sed -e 's/[]\\/$*.^[]/\\\\&/g'\n",
    "    return res[0]\n",
    "\n",
    "def escape_sed(string):  # sed の置換後の文字列用のエスケープ\n",
    "    res = !echo '{string}' | sed -e 's/[\\/&]/\\\\&/g'\n",
    "    return res[0]\n",
    "\n",
    "def read_stream(name, in_file, out_file):\n",
    "    for line in in_file:\n",
    "        print(f\"[{name}] {line.strip()}\", file=out_file)\n",
    "\n",
    "def run(cmd, name):\n",
    "    proc = Popen(cmd, stdout=PIPE, stderr=PIPE, universal_newlines=True, shell=isinstance(cmd, str))\n",
    "    stdout_thread = Thread(target=read_stream, args=(name, proc.stdout, sys.stdout))\n",
    "    stderr_thread = Thread(target=read_stream, args=(name, proc.stderr, sys.stderr))\n",
    "    stdout_thread.start()\n",
    "    stderr_thread.start()\n",
    "    proc.wait()\n",
    "    return proc\n",
    "\n",
    "def objective(trial, in_dir, work_dir):\n",
    "    n_internal_parallel = 3\n",
    "    \n",
    "    index_parallel = f\"{trial.number:04d}\"\n",
    "    print(f\"{index_parallel=}\")\n",
    "    \n",
    "    work_dir = Path(work_dir)\n",
    "    directory_input = Path(in_dir)  # 中のすべてのファイルに対して実行される\n",
    "    #parameters_changed_filename = Path(gettempdir()) / str(uuid1())\n",
    "    parameters_changed_filename = work_dir / f\"{index_parallel}_{FILENAME}\"\n",
    "    \n",
    "    run([\"mkdir\", f\"{work_dir / index_parallel}_out\"], \"mkdir\")\n",
    "    run([\"mkdir\", f\"{work_dir / index_parallel}_score\"], \"mkdir\")\n",
    "    \n",
    "    # ファイル作成\n",
    "    run(f\"cp {FILENAME} {parameters_changed_filename}\", \"cp\")\n",
    "    sed_options = [f\"-i {parameters_changed_filename}\"]\n",
    "    for variable in variables_optimize:\n",
    "        if variable[\"method\"] == \"suggest_categorical\":\n",
    "            val =  trial.suggest_categorical(variable[\"name\"], variable[\"choices\"])\n",
    "        else:\n",
    "            val = getattr(trial, variable[\"method\"])(variable[\"name\"], variable[\"min\"], variable[\"max\"], log=variable[\"log\"])\n",
    "        left = variable[\"left\"]\n",
    "        right = variable[\"right\"]\n",
    "        sed_options.append(f\"\"\"-e 's/^{escape(left)}.*{escape(right)}$/{escape_sed(left)}{val}{escape_sed(right)}/'\"\"\")\n",
    "    command_sed = f\"sed {' '.join(sed_options)}\"\n",
    "    #print(command_sed)\n",
    "    run(command_sed, \"sed\")\n",
    "    \n",
    "    # コンパイル\n",
    "    command_compile = f\"g++ {parameters_changed_filename} -std=gnu++17 -O2 -DONLINE_JUDGE -o {parameters_changed_filename}.out\"\n",
    "    #print(command_compile)\n",
    "    run(command_compile, \"compile\")\n",
    "    # 実行・採点コマンド (@ はファイル名)\n",
    "    command_exec = (\n",
    "        #f\"./a.out < ./tools/in/{i:04d}.txt > {out_file} && ./tools/target/release/vis ./tools/in/{i:04d}.txt {out_file}\"\n",
    "        #f\"../tools/target/release/tester $(pwd)/{parameters_changed_filename}.out < {directory_input}/@ 2>&1 | grep Score\"\n",
    "        #f\"../tools/target/release/tester $(pwd)/{parameters_changed_filename}.out < {directory_input}/@ 2>&1 | grep Score | sed -E s/[^0-9]+// > ./{index_parallel}_score/@;\"\n",
    "        #f\"cargo run --release --manifest-path ../tools/Cargo.toml --bin tester {directory_input}/@ $(pwd)/{parameters_changed_filename}.out 2>&1 | grep Score | sed -E s/[^0-9]+// > ./{index_parallel}_score/@;\"\n",
    "        f\"./{parameters_changed_filename}.out < {directory_input}/@ > {work_dir / index_parallel}_out/@;\"\n",
    "        f\"../tools/target/release/vis {directory_input}/@ {work_dir / index_parallel}_out/@ 2> /dev/null > {work_dir / index_parallel}_score/@;\"\n",
    "    )\n",
    "    # 並列実行 (sed はパスのディレクトリ部分を消してファイル名にしてる)\n",
    "    run(f\"find {directory_input}/* | sed 's!^.*/!!' | xargs -I@ -P {n_internal_parallel} sh -c '{command_exec}'\", \"exec\")\n",
    "    \n",
    "    # 集計\n",
    "    scores = []\n",
    "    for file_path in Path(f\"{work_dir / index_parallel}_score/\").iterdir():  \n",
    "        with open(file_path) as f:\n",
    "            scores.append(int(f.readline().strip().split()[-1]))\n",
    "    mean_score = sum(scores) / len(scores)\n",
    "    \n",
    "    # 後始末\n",
    "    run(f\"rm -rf {work_dir / index_parallel}_out\", \"rm\")\n",
    "    run(f\"rm -rf {work_dir / index_parallel}_score\", \"rm\")\n",
    "    #run(f\"rm {parameters_changed_filename}\", \"rm\")\n",
    "    run(f\"rm {parameters_changed_filename}.out\", \"rm\")\n",
    "    \n",
    "    return mean_score"
   ]
  },
  {
   "cell_type": "code",
   "execution_count": 4,
   "id": "2d2e133c",
   "metadata": {},
   "outputs": [
    {
     "name": "stderr",
     "output_type": "stream",
     "text": [
      "\u001b[32m[I 2022-08-15 21:29:04,198]\u001b[0m A new study created in RDB with name: study_4_1\u001b[0m\n"
     ]
    }
   ],
   "source": [
    "K = 4\n",
    "N_CLASS = 1\n",
    "\n",
    "in_dir = Path(f\"in_{K}_{N_CLASS}\")\n",
    "work_dir = Path(f\"work_{K}_{N_CLASS}\")\n",
    "\n",
    "study_name = f\"study_{K}_{N_CLASS}\"\n",
    "storage_path = work_dir / \"study.db\"\n",
    "storage = f\"sqlite:///{storage_path}\"\n",
    "study = optuna.create_study(storage=storage, load_if_exists=True, study_name=study_name, direction=\"maximize\")\n",
    "\n",
    "def callback(study, trial):\n",
    "    try:\n",
    "        index_parallel = f\"{trial.number:04d}\"\n",
    "        parameters_changed_filename = work_dir / f\"{index_parallel}_{FILENAME}\"\n",
    "        if study.best_value == trial.value:\n",
    "            print(f\"Updated! {study.best_value}\")\n",
    "            !cp {parameters_changed_filename} {work_dir / \"best_parameters.cpp\"}\n",
    "        !rm {parameters_changed_filename}\n",
    "    except:\n",
    "        print(\":(\")\n"
   ]
  },
  {
   "cell_type": "code",
   "execution_count": null,
   "id": "61c2901d",
   "metadata": {},
   "outputs": [
    {
     "name": "stdout",
     "output_type": "stream",
     "text": [
      "index_parallel='0000'\n"
     ]
    },
    {
     "name": "stderr",
     "output_type": "stream",
     "text": [
      "\u001b[32m[I 2022-08-15 21:32:30,490]\u001b[0m Trial 0 finished with value: 7667.61581920904 and parameters: {'kErase': 3, 'kRadius': 4, 'kAnnealingA': 7.204313001643062, 'kAnnealingB': 1.1186796568875743, 'kAnnealingStart': 7.511315781772984, 'kSkipRatio': 0.5874740828649954, 'kTargetDeterminationTrials': 3, 'kAttractionRatio': 0.028993791904302218, 'kMaxAttractionDistance': 13, 'kStartAttraction': 0.07983537831247398}. Best is trial 0 with value: 7667.61581920904.\u001b[0m\n"
     ]
    },
    {
     "name": "stdout",
     "output_type": "stream",
     "text": [
      "Updated! 7667.61581920904\n",
      "index_parallel='0001'\n"
     ]
    },
    {
     "name": "stderr",
     "output_type": "stream",
     "text": [
      "\u001b[32m[I 2022-08-15 21:35:57,496]\u001b[0m Trial 1 finished with value: 6285.54802259887 and parameters: {'kErase': 4, 'kRadius': 6, 'kAnnealingA': 13.797061964188927, 'kAnnealingB': 0.9312557239457657, 'kAnnealingStart': 5.120570934383322, 'kSkipRatio': 0.23452019455145262, 'kTargetDeterminationTrials': 2, 'kAttractionRatio': 0.022361090583348387, 'kMaxAttractionDistance': 4, 'kStartAttraction': 0.03628308459616248}. Best is trial 0 with value: 7667.61581920904.\u001b[0m\n"
     ]
    },
    {
     "name": "stdout",
     "output_type": "stream",
     "text": [
      "index_parallel='0002'\n"
     ]
    },
    {
     "name": "stderr",
     "output_type": "stream",
     "text": [
      "\u001b[32m[I 2022-08-15 21:39:24,303]\u001b[0m Trial 2 finished with value: 7025.666666666667 and parameters: {'kErase': 3, 'kRadius': 6, 'kAnnealingA': 6.056161175209862, 'kAnnealingB': 1.4143964540422553, 'kAnnealingStart': 8.28973993135961, 'kSkipRatio': 0.25194483205567664, 'kTargetDeterminationTrials': 14, 'kAttractionRatio': 0.03066854866644137, 'kMaxAttractionDistance': 8, 'kStartAttraction': 0.45159007558020076}. Best is trial 0 with value: 7667.61581920904.\u001b[0m\n"
     ]
    },
    {
     "name": "stdout",
     "output_type": "stream",
     "text": [
      "index_parallel='0003'\n"
     ]
    },
    {
     "name": "stderr",
     "output_type": "stream",
     "text": [
      "\u001b[32m[I 2022-08-15 21:42:50,805]\u001b[0m Trial 3 finished with value: 7397.3785310734465 and parameters: {'kErase': 2, 'kRadius': 2, 'kAnnealingA': -9.260133321218689, 'kAnnealingB': 0.77317199722947, 'kAnnealingStart': 44.67745065427443, 'kSkipRatio': 0.46573336003415083, 'kTargetDeterminationTrials': 3, 'kAttractionRatio': 0.42200264258816367, 'kMaxAttractionDistance': 15, 'kStartAttraction': 0.11483627469503092}. Best is trial 0 with value: 7667.61581920904.\u001b[0m\n"
     ]
    },
    {
     "name": "stdout",
     "output_type": "stream",
     "text": [
      "index_parallel='0004'\n"
     ]
    },
    {
     "name": "stderr",
     "output_type": "stream",
     "text": [
      "\u001b[32m[I 2022-08-15 21:46:17,162]\u001b[0m Trial 4 finished with value: 7414.429378531074 and parameters: {'kErase': 2, 'kRadius': 3, 'kAnnealingA': -4.62442548927439, 'kAnnealingB': 1.7951979149905677, 'kAnnealingStart': 3.469918901946488, 'kSkipRatio': 0.33137037812892356, 'kTargetDeterminationTrials': 1, 'kAttractionRatio': 0.01263335654603645, 'kMaxAttractionDistance': 8, 'kStartAttraction': 0.011447595001642878}. Best is trial 0 with value: 7667.61581920904.\u001b[0m\n"
     ]
    },
    {
     "name": "stdout",
     "output_type": "stream",
     "text": [
      "index_parallel='0005'\n"
     ]
    },
    {
     "name": "stderr",
     "output_type": "stream",
     "text": [
      "\u001b[32m[I 2022-08-15 21:49:43,198]\u001b[0m Trial 5 finished with value: 7436.050847457627 and parameters: {'kErase': 1, 'kRadius': 6, 'kAnnealingA': -9.594804663162597, 'kAnnealingB': 0.8005906211544023, 'kAnnealingStart': 25.220470362429793, 'kSkipRatio': 0.6085451957073318, 'kTargetDeterminationTrials': 1, 'kAttractionRatio': 0.40824417724042816, 'kMaxAttractionDistance': 77, 'kStartAttraction': 0.04028506307941608}. Best is trial 0 with value: 7667.61581920904.\u001b[0m\n"
     ]
    },
    {
     "name": "stdout",
     "output_type": "stream",
     "text": [
      "index_parallel='0006'\n"
     ]
    },
    {
     "name": "stderr",
     "output_type": "stream",
     "text": [
      "\u001b[32m[I 2022-08-15 21:53:09,925]\u001b[0m Trial 6 finished with value: 7451.463276836158 and parameters: {'kErase': 4, 'kRadius': 4, 'kAnnealingA': 1.9159688504247114, 'kAnnealingB': 2.7656732679846856, 'kAnnealingStart': 8.97706191218149, 'kSkipRatio': 0.7215650090898413, 'kTargetDeterminationTrials': 1, 'kAttractionRatio': 0.017662954665262996, 'kMaxAttractionDistance': 22, 'kStartAttraction': 0.358377729200856}. Best is trial 0 with value: 7667.61581920904.\u001b[0m\n"
     ]
    },
    {
     "name": "stdout",
     "output_type": "stream",
     "text": [
      "index_parallel='0007'\n"
     ]
    },
    {
     "name": "stderr",
     "output_type": "stream",
     "text": [
      "\u001b[32m[I 2022-08-15 21:56:36,641]\u001b[0m Trial 7 finished with value: 7322.446327683616 and parameters: {'kErase': 2, 'kRadius': 5, 'kAnnealingA': -6.065655044168093, 'kAnnealingB': 1.739930761359291, 'kAnnealingStart': 4.309975557245662, 'kSkipRatio': 0.2878058093563416, 'kTargetDeterminationTrials': 1, 'kAttractionRatio': 0.015619398357033147, 'kMaxAttractionDistance': 6, 'kStartAttraction': 0.2870697344135165}. Best is trial 0 with value: 7667.61581920904.\u001b[0m\n"
     ]
    },
    {
     "name": "stdout",
     "output_type": "stream",
     "text": [
      "index_parallel='0008'\n"
     ]
    },
    {
     "name": "stderr",
     "output_type": "stream",
     "text": [
      "\u001b[32m[I 2022-08-15 22:00:03,395]\u001b[0m Trial 8 finished with value: 5821.762711864407 and parameters: {'kErase': 5, 'kRadius': 6, 'kAnnealingA': 2.1705918893182172, 'kAnnealingB': 0.21349872929631786, 'kAnnealingStart': 6.006830865016621, 'kSkipRatio': 0.2995467330080913, 'kTargetDeterminationTrials': 1, 'kAttractionRatio': 0.28934271824225244, 'kMaxAttractionDistance': 16, 'kStartAttraction': 0.0029131168060325383}. Best is trial 0 with value: 7667.61581920904.\u001b[0m\n"
     ]
    },
    {
     "name": "stdout",
     "output_type": "stream",
     "text": [
      "index_parallel='0009'\n"
     ]
    },
    {
     "name": "stderr",
     "output_type": "stream",
     "text": [
      "\u001b[32m[I 2022-08-15 22:03:30,193]\u001b[0m Trial 9 finished with value: 6750.35593220339 and parameters: {'kErase': 5, 'kRadius': 4, 'kAnnealingA': 4.11002388011644, 'kAnnealingB': 2.5518153935921952, 'kAnnealingStart': 12.149092034037906, 'kSkipRatio': 0.6155041751600103, 'kTargetDeterminationTrials': 4, 'kAttractionRatio': 0.01067039443188975, 'kMaxAttractionDistance': 74, 'kStartAttraction': 0.09191544695587761}. Best is trial 0 with value: 7667.61581920904.\u001b[0m\n"
     ]
    },
    {
     "name": "stdout",
     "output_type": "stream",
     "text": [
      "index_parallel='0010'\n"
     ]
    },
    {
     "name": "stderr",
     "output_type": "stream",
     "text": [
      "\u001b[32m[I 2022-08-15 22:06:56,723]\u001b[0m Trial 10 finished with value: 7288.1016949152545 and parameters: {'kErase': 3, 'kRadius': 3, 'kAnnealingA': 12.072485124972197, 'kAnnealingB': 0.25210198894984914, 'kAnnealingStart': 1.1246717184890418, 'kSkipRatio': 0.4599248856315987, 'kTargetDeterminationTrials': 10, 'kAttractionRatio': 0.09680005792123768, 'kMaxAttractionDistance': 35, 'kStartAttraction': 0.0012905299826559407}. Best is trial 0 with value: 7667.61581920904.\u001b[0m\n"
     ]
    },
    {
     "name": "stdout",
     "output_type": "stream",
     "text": [
      "index_parallel='0011'\n"
     ]
    },
    {
     "name": "stderr",
     "output_type": "stream",
     "text": [
      "\u001b[32m[I 2022-08-15 22:10:23,785]\u001b[0m Trial 11 finished with value: 7143.0282485875705 and parameters: {'kErase': 4, 'kRadius': 4, 'kAnnealingA': 8.300148423543195, 'kAnnealingB': 2.83090366979514, 'kAnnealingStart': 16.021450930757645, 'kSkipRatio': 0.7870122078065844, 'kTargetDeterminationTrials': 5, 'kAttractionRatio': 0.055478363439555915, 'kMaxAttractionDistance': 28, 'kStartAttraction': 0.5121089309774037}. Best is trial 0 with value: 7667.61581920904.\u001b[0m\n"
     ]
    },
    {
     "name": "stdout",
     "output_type": "stream",
     "text": [
      "index_parallel='0012'\n"
     ]
    },
    {
     "name": "stderr",
     "output_type": "stream",
     "text": [
      "\u001b[32m[I 2022-08-15 22:13:50,744]\u001b[0m Trial 12 finished with value: 7410.011299435028 and parameters: {'kErase': 4, 'kRadius': 3, 'kAnnealingA': -1.0169782660381266, 'kAnnealingB': 2.3577811803485353, 'kAnnealingStart': 2.0970759470340616, 'kSkipRatio': 0.7759907831132135, 'kTargetDeterminationTrials': 2, 'kAttractionRatio': 0.055075500877544904, 'kMaxAttractionDistance': 30, 'kStartAttraction': 0.1888930758208337}. Best is trial 0 with value: 7667.61581920904.\u001b[0m\n"
     ]
    },
    {
     "name": "stdout",
     "output_type": "stream",
     "text": [
      "index_parallel='0013'\n"
     ]
    },
    {
     "name": "stderr",
     "output_type": "stream",
     "text": [
      "\u001b[32m[I 2022-08-15 22:17:17,604]\u001b[0m Trial 13 finished with value: 5566.988700564972 and parameters: {'kErase': 4, 'kRadius': 5, 'kAnnealingA': 8.550192757230207, 'kAnnealingB': 2.112328363206907, 'kAnnealingStart': 98.48016859313161, 'kSkipRatio': 0.6659029342674088, 'kTargetDeterminationTrials': 7, 'kAttractionRatio': 0.13503031185526207, 'kMaxAttractionDistance': 14, 'kStartAttraction': 0.00688385497361244}. Best is trial 0 with value: 7667.61581920904.\u001b[0m\n"
     ]
    },
    {
     "name": "stdout",
     "output_type": "stream",
     "text": [
      "index_parallel='0014'\n"
     ]
    },
    {
     "name": "stderr",
     "output_type": "stream",
     "text": [
      "\u001b[32m[I 2022-08-15 22:20:44,321]\u001b[0m Trial 14 finished with value: 7430.135593220339 and parameters: {'kErase': 3, 'kRadius': 5, 'kAnnealingA': -1.235740092484427, 'kAnnealingB': 1.2520830757496537, 'kAnnealingStart': 20.8158417057824, 'kSkipRatio': 0.6896742920196882, 'kTargetDeterminationTrials': 2, 'kAttractionRatio': 0.037379930785243744, 'kMaxAttractionDistance': 23, 'kStartAttraction': 0.8454507820088656}. Best is trial 0 with value: 7667.61581920904.\u001b[0m\n"
     ]
    },
    {
     "name": "stdout",
     "output_type": "stream",
     "text": [
      "index_parallel='0015'\n"
     ]
    },
    {
     "name": "stderr",
     "output_type": "stream",
     "text": [
      "\u001b[32m[I 2022-08-15 22:24:11,209]\u001b[0m Trial 15 finished with value: 6831.186440677966 and parameters: {'kErase': 5, 'kRadius': 4, 'kAnnealingA': 9.869830422992687, 'kAnnealingB': 2.8452796918323218, 'kAnnealingStart': 2.641818063878305, 'kSkipRatio': 0.5423174608283383, 'kTargetDeterminationTrials': 20, 'kAttractionRatio': 0.02229329000776843, 'kMaxAttractionDistance': 49, 'kStartAttraction': 0.08350267360878681}. Best is trial 0 with value: 7667.61581920904.\u001b[0m\n"
     ]
    },
    {
     "name": "stdout",
     "output_type": "stream",
     "text": [
      "index_parallel='0016'\n"
     ]
    },
    {
     "name": "stderr",
     "output_type": "stream",
     "text": [
      "\u001b[32m[I 2022-08-15 22:27:37,583]\u001b[0m Trial 16 finished with value: 7450.163841807909 and parameters: {'kErase': 1, 'kRadius': 2, 'kAnnealingA': -14.308221928857563, 'kAnnealingB': 2.004720409928605, 'kAnnealingStart': 7.675384876296268, 'kSkipRatio': 0.7144758560464026, 'kTargetDeterminationTrials': 3, 'kAttractionRatio': 0.16484589152774687, 'kMaxAttractionDistance': 11, 'kStartAttraction': 0.014941876241289731}. Best is trial 0 with value: 7667.61581920904.\u001b[0m\n"
     ]
    },
    {
     "name": "stdout",
     "output_type": "stream",
     "text": [
      "index_parallel='0017'\n"
     ]
    },
    {
     "name": "stderr",
     "output_type": "stream",
     "text": [
      "\u001b[32m[I 2022-08-15 22:31:04,531]\u001b[0m Trial 17 finished with value: 6267.813559322034 and parameters: {'kErase': 4, 'kRadius': 3, 'kAnnealingA': 2.8571695671403905, 'kAnnealingB': 1.0913711394682217, 'kAnnealingStart': 37.69287649811016, 'kSkipRatio': 0.5810546500898599, 'kTargetDeterminationTrials': 2, 'kAttractionRatio': 0.045220491708972015, 'kMaxAttractionDistance': 51, 'kStartAttraction': 0.20264076083018207}. Best is trial 0 with value: 7667.61581920904.\u001b[0m\n"
     ]
    },
    {
     "name": "stdout",
     "output_type": "stream",
     "text": [
      "index_parallel='0018'\n"
     ]
    },
    {
     "name": "stderr",
     "output_type": "stream",
     "text": [
      "\u001b[32m[I 2022-08-15 22:34:31,326]\u001b[0m Trial 18 finished with value: 7373.344632768361 and parameters: {'kErase': 3, 'kRadius': 4, 'kAnnealingA': 6.064011546451967, 'kAnnealingB': 0.5435044503222818, 'kAnnealingStart': 12.322585211877193, 'kSkipRatio': 0.41431342888782563, 'kTargetDeterminationTrials': 7, 'kAttractionRatio': 0.022063200180200967, 'kMaxAttractionDistance': 20, 'kStartAttraction': 0.060274785474823386}. Best is trial 0 with value: 7667.61581920904.\u001b[0m\n"
     ]
    },
    {
     "name": "stdout",
     "output_type": "stream",
     "text": [
      "index_parallel='0019'\n"
     ]
    },
    {
     "name": "stderr",
     "output_type": "stream",
     "text": [
      "\u001b[32m[I 2022-08-15 22:37:58,328]\u001b[0m Trial 19 finished with value: 7444.141242937853 and parameters: {'kErase': 3, 'kRadius': 5, 'kAnnealingA': 0.8109584997229345, 'kAnnealingB': 1.5240595899261902, 'kAnnealingStart': 1.932909841805949, 'kSkipRatio': 0.7326630365259232, 'kTargetDeterminationTrials': 5, 'kAttractionRatio': 0.07593993946473028, 'kMaxAttractionDistance': 10, 'kStartAttraction': 0.018126049629625125}. Best is trial 0 with value: 7667.61581920904.\u001b[0m\n"
     ]
    },
    {
     "name": "stdout",
     "output_type": "stream",
     "text": [
      "index_parallel='0020'\n"
     ]
    },
    {
     "name": "stderr",
     "output_type": "stream",
     "text": [
      "\u001b[32m[I 2022-08-15 22:41:24,851]\u001b[0m Trial 20 finished with value: 7405.25988700565 and parameters: {'kErase': 2, 'kRadius': 4, 'kAnnealingA': -3.3314721015167454, 'kAnnealingB': 2.411295804623066, 'kAnnealingStart': 1.0436182905997702, 'kSkipRatio': 0.6490864806872807, 'kTargetDeterminationTrials': 3, 'kAttractionRatio': 0.019666955758336224, 'kMaxAttractionDistance': 5, 'kStartAttraction': 0.7600679964522464}. Best is trial 0 with value: 7667.61581920904.\u001b[0m\n"
     ]
    },
    {
     "name": "stdout",
     "output_type": "stream",
     "text": [
      "index_parallel='0021'\n"
     ]
    },
    {
     "name": "stderr",
     "output_type": "stream",
     "text": [
      "\u001b[32m[I 2022-08-15 22:44:51,213]\u001b[0m Trial 21 finished with value: 7591.604519774011 and parameters: {'kErase': 1, 'kRadius': 2, 'kAnnealingA': -13.877174241580887, 'kAnnealingB': 1.979246980959099, 'kAnnealingStart': 8.219078446077928, 'kSkipRatio': 0.6956938281100559, 'kTargetDeterminationTrials': 3, 'kAttractionRatio': 0.18636681318241535, 'kMaxAttractionDistance': 11, 'kStartAttraction': 0.01357168375049909}. Best is trial 0 with value: 7667.61581920904.\u001b[0m\n"
     ]
    },
    {
     "name": "stdout",
     "output_type": "stream",
     "text": [
      "index_parallel='0022'\n"
     ]
    },
    {
     "name": "stderr",
     "output_type": "stream",
     "text": [
      "\u001b[32m[I 2022-08-15 22:48:17,539]\u001b[0m Trial 22 finished with value: 7354.056497175141 and parameters: {'kErase': 1, 'kRadius': 2, 'kAnnealingA': -13.290763586685307, 'kAnnealingB': 2.142513564140695, 'kAnnealingStart': 9.56956420662935, 'kSkipRatio': 0.551414689981647, 'kTargetDeterminationTrials': 2, 'kAttractionRatio': 0.7281608880713586, 'kMaxAttractionDistance': 12, 'kStartAttraction': 0.006905175498635046}. Best is trial 0 with value: 7667.61581920904.\u001b[0m\n"
     ]
    },
    {
     "name": "stdout",
     "output_type": "stream",
     "text": [
      "index_parallel='0023'\n"
     ]
    },
    {
     "name": "stderr",
     "output_type": "stream",
     "text": [
      "\u001b[32m[I 2022-08-15 22:51:43,999]\u001b[0m Trial 23 finished with value: 7740.5084745762715 and parameters: {'kErase': 2, 'kRadius': 3, 'kAnnealingA': 6.039337149474936, 'kAnnealingB': 2.9623728436675503, 'kAnnealingStart': 6.280394938872875, 'kSkipRatio': 0.7408088237787673, 'kTargetDeterminationTrials': 4, 'kAttractionRatio': 0.24258045965954508, 'kMaxAttractionDistance': 21, 'kStartAttraction': 0.023537331299876934}. Best is trial 23 with value: 7740.5084745762715.\u001b[0m\n"
     ]
    },
    {
     "name": "stdout",
     "output_type": "stream",
     "text": [
      "Updated! 7740.5084745762715\n",
      "index_parallel='0024'\n"
     ]
    },
    {
     "name": "stderr",
     "output_type": "stream",
     "text": [
      "\u001b[32m[I 2022-08-15 22:55:10,603]\u001b[0m Trial 24 finished with value: 7808.723163841808 and parameters: {'kErase': 2, 'kRadius': 2, 'kAnnealingA': 6.036470945704972, 'kAnnealingB': 1.7484549318196625, 'kAnnealingStart': 3.3564162866767013, 'kSkipRatio': 0.6563736850211153, 'kTargetDeterminationTrials': 4, 'kAttractionRatio': 0.20758510903348323, 'kMaxAttractionDistance': 8, 'kStartAttraction': 0.02661446104701126}. Best is trial 24 with value: 7808.723163841808.\u001b[0m\n"
     ]
    },
    {
     "name": "stdout",
     "output_type": "stream",
     "text": [
      "Updated! 7808.723163841808\n",
      "index_parallel='0025'\n"
     ]
    },
    {
     "name": "stderr",
     "output_type": "stream",
     "text": [
      "\u001b[32m[I 2022-08-15 22:58:37,243]\u001b[0m Trial 25 finished with value: 7794.152542372882 and parameters: {'kErase': 2, 'kRadius': 3, 'kAnnealingA': 5.824331033813955, 'kAnnealingB': 0.5057744653826066, 'kAnnealingStart': 3.4175013450538714, 'kSkipRatio': 0.5218944886223723, 'kTargetDeterminationTrials': 7, 'kAttractionRatio': 0.23285175303595557, 'kMaxAttractionDistance': 7, 'kStartAttraction': 0.027919942382277782}. Best is trial 24 with value: 7808.723163841808.\u001b[0m\n"
     ]
    },
    {
     "name": "stdout",
     "output_type": "stream",
     "text": [
      "index_parallel='0026'\n"
     ]
    },
    {
     "name": "stderr",
     "output_type": "stream",
     "text": [
      "\u001b[32m[I 2022-08-15 23:02:03,799]\u001b[0m Trial 26 finished with value: 7663.2316384180795 and parameters: {'kErase': 2, 'kRadius': 3, 'kAnnealingA': 11.132673035240488, 'kAnnealingB': 2.975349011452447, 'kAnnealingStart': 3.353442126622117, 'kSkipRatio': 0.3905336102777461, 'kTargetDeterminationTrials': 9, 'kAttractionRatio': 0.258271270265916, 'kMaxAttractionDistance': 6, 'kStartAttraction': 0.02435092279509325}. Best is trial 24 with value: 7808.723163841808.\u001b[0m\n"
     ]
    },
    {
     "name": "stdout",
     "output_type": "stream",
     "text": [
      "index_parallel='0027'\n"
     ]
    },
    {
     "name": "stderr",
     "output_type": "stream",
     "text": [
      "\u001b[32m[I 2022-08-15 23:05:30,475]\u001b[0m Trial 27 finished with value: 7199.316384180791 and parameters: {'kErase': 2, 'kRadius': 2, 'kAnnealingA': 4.5551045510724215, 'kAnnealingB': 0.38465808786110883, 'kAnnealingStart': 1.4991330176959319, 'kSkipRatio': 0.5080971625524696, 'kTargetDeterminationTrials': 5, 'kAttractionRatio': 0.8891030597516387, 'kMaxAttractionDistance': 4, 'kStartAttraction': 0.007820667641431186}. Best is trial 24 with value: 7808.723163841808.\u001b[0m\n"
     ]
    },
    {
     "name": "stdout",
     "output_type": "stream",
     "text": [
      "index_parallel='0028'\n"
     ]
    },
    {
     "name": "stderr",
     "output_type": "stream",
     "text": [
      "\u001b[32m[I 2022-08-15 23:08:57,335]\u001b[0m Trial 28 finished with value: 7656.186440677966 and parameters: {'kErase': 2, 'kRadius': 3, 'kAnnealingA': 13.97886377962677, 'kAnnealingB': 0.06305131156222565, 'kAnnealingStart': 3.3491549667524576, 'kSkipRatio': 0.7543254266530678, 'kTargetDeterminationTrials': 7, 'kAttractionRatio': 0.40469898654335945, 'kMaxAttractionDistance': 8, 'kStartAttraction': 0.003684498017927469}. Best is trial 24 with value: 7808.723163841808.\u001b[0m\n"
     ]
    },
    {
     "name": "stdout",
     "output_type": "stream",
     "text": [
      "index_parallel='0029'\n"
     ]
    },
    {
     "name": "stderr",
     "output_type": "stream",
     "text": [
      "\u001b[32m[I 2022-08-15 23:12:23,467]\u001b[0m Trial 29 finished with value: 7743.175141242938 and parameters: {'kErase': 1, 'kRadius': 3, 'kAnnealingA': 6.682140175248863, 'kAnnealingB': 0.5830231656875688, 'kAnnealingStart': 5.38424605121291, 'kSkipRatio': 0.6602674594806319, 'kTargetDeterminationTrials': 11, 'kAttractionRatio': 0.11053199462086037, 'kMaxAttractionDistance': 6, 'kStartAttraction': 0.043232997468929966}. Best is trial 24 with value: 7808.723163841808.\u001b[0m\n"
     ]
    },
    {
     "name": "stdout",
     "output_type": "stream",
     "text": [
      "index_parallel='0030'\n"
     ]
    },
    {
     "name": "stderr",
     "output_type": "stream",
     "text": [
      "\u001b[32m[I 2022-08-15 23:15:49,715]\u001b[0m Trial 30 finished with value: 7783.864406779661 and parameters: {'kErase': 1, 'kRadius': 2, 'kAnnealingA': 8.05746237134448, 'kAnnealingB': 0.5728659293937486, 'kAnnealingStart': 4.549516057679854, 'kSkipRatio': 0.6412356165649123, 'kTargetDeterminationTrials': 14, 'kAttractionRatio': 0.11048221687644057, 'kMaxAttractionDistance': 6, 'kStartAttraction': 0.05197750001264074}. Best is trial 24 with value: 7808.723163841808.\u001b[0m\n"
     ]
    },
    {
     "name": "stdout",
     "output_type": "stream",
     "text": [
      "index_parallel='0031'\n"
     ]
    },
    {
     "name": "stderr",
     "output_type": "stream",
     "text": [
      "\u001b[32m[I 2022-08-15 23:19:15,988]\u001b[0m Trial 31 finished with value: 7833.8418079096045 and parameters: {'kErase': 1, 'kRadius': 2, 'kAnnealingA': 8.080536461398836, 'kAnnealingB': 0.5699453261220876, 'kAnnealingStart': 4.76036808065819, 'kSkipRatio': 0.6460378188887554, 'kTargetDeterminationTrials': 16, 'kAttractionRatio': 0.10864938878358521, 'kMaxAttractionDistance': 6, 'kStartAttraction': 0.05511993425990082}. Best is trial 31 with value: 7833.8418079096045.\u001b[0m\n"
     ]
    },
    {
     "name": "stdout",
     "output_type": "stream",
     "text": [
      "Updated! 7833.8418079096045\n",
      "index_parallel='0032'\n"
     ]
    },
    {
     "name": "stderr",
     "output_type": "stream",
     "text": [
      "\u001b[32m[I 2022-08-15 23:22:42,143]\u001b[0m Trial 32 finished with value: 7639.497175141243 and parameters: {'kErase': 1, 'kRadius': 2, 'kAnnealingA': 9.878504742688692, 'kAnnealingB': 0.5539108493693609, 'kAnnealingStart': 2.5164880111421093, 'kSkipRatio': 0.6317084649737816, 'kTargetDeterminationTrials': 20, 'kAttractionRatio': 0.07508498832454526, 'kMaxAttractionDistance': 5, 'kStartAttraction': 0.059994071075552304}. Best is trial 31 with value: 7833.8418079096045.\u001b[0m\n"
     ]
    },
    {
     "name": "stdout",
     "output_type": "stream",
     "text": [
      "index_parallel='0033'\n"
     ]
    },
    {
     "name": "stderr",
     "output_type": "stream",
     "text": [
      "\u001b[32m[I 2022-08-15 23:26:08,289]\u001b[0m Trial 33 finished with value: 7446.09604519774 and parameters: {'kErase': 1, 'kRadius': 2, 'kAnnealingA': 12.464162930378384, 'kAnnealingB': 0.9549876264332426, 'kAnnealingStart': 4.546544144449797, 'kSkipRatio': 0.5685327026246042, 'kTargetDeterminationTrials': 15, 'kAttractionRatio': 0.175711733373039, 'kMaxAttractionDistance': 4, 'kStartAttraction': 0.13894215779028798}. Best is trial 31 with value: 7833.8418079096045.\u001b[0m\n"
     ]
    },
    {
     "name": "stdout",
     "output_type": "stream",
     "text": [
      "index_parallel='0034'\n"
     ]
    },
    {
     "name": "stderr",
     "output_type": "stream",
     "text": [
      "\u001b[32m[I 2022-08-15 23:29:34,329]\u001b[0m Trial 34 finished with value: 7621.310734463277 and parameters: {'kErase': 1, 'kRadius': 2, 'kAnnealingA': 4.3021729256708925, 'kAnnealingB': 1.4111659696053522, 'kAnnealingStart': 1.571594083080527, 'kSkipRatio': 0.5256369180567764, 'kTargetDeterminationTrials': 14, 'kAttractionRatio': 0.1365185062054437, 'kMaxAttractionDistance': 8, 'kStartAttraction': 0.05138789163189958}. Best is trial 31 with value: 7833.8418079096045.\u001b[0m\n"
     ]
    },
    {
     "name": "stdout",
     "output_type": "stream",
     "text": [
      "index_parallel='0035'\n"
     ]
    },
    {
     "name": "stderr",
     "output_type": "stream",
     "text": [
      "\u001b[32m[I 2022-08-15 23:33:00,771]\u001b[0m Trial 35 finished with value: 7696.45197740113 and parameters: {'kErase': 2, 'kRadius': 2, 'kAnnealingA': 8.333949314235682, 'kAnnealingB': 0.7297874341518509, 'kAnnealingStart': 3.8098317770133643, 'kSkipRatio': 0.4794157988440171, 'kTargetDeterminationTrials': 12, 'kAttractionRatio': 0.07747124272840453, 'kMaxAttractionDistance': 5, 'kStartAttraction': 0.030658073060042902}. Best is trial 31 with value: 7833.8418079096045.\u001b[0m\n"
     ]
    },
    {
     "name": "stdout",
     "output_type": "stream",
     "text": [
      "index_parallel='0036'\n"
     ]
    },
    {
     "name": "stderr",
     "output_type": "stream",
     "text": [
      "\u001b[32m[I 2022-08-15 23:36:26,693]\u001b[0m Trial 36 finished with value: 7803.395480225989 and parameters: {'kErase': 1, 'kRadius': 2, 'kAnnealingA': 14.77669148913386, 'kAnnealingB': 1.0049382304847378, 'kAnnealingStart': 2.771249372773307, 'kSkipRatio': 0.5951161667352749, 'kTargetDeterminationTrials': 16, 'kAttractionRatio': 0.3291412085679493, 'kMaxAttractionDistance': 9, 'kStartAttraction': 0.03163720433400086}. Best is trial 31 with value: 7833.8418079096045.\u001b[0m\n"
     ]
    },
    {
     "name": "stdout",
     "output_type": "stream",
     "text": [
      "index_parallel='0037'\n"
     ]
    },
    {
     "name": "stderr",
     "output_type": "stream",
     "text": [
      "\u001b[32m[I 2022-08-15 23:39:53,231]\u001b[0m Trial 37 finished with value: 7733.531073446327 and parameters: {'kErase': 2, 'kRadius': 2, 'kAnnealingA': 14.740224206534348, 'kAnnealingB': 1.1469210709514643, 'kAnnealingStart': 2.6391695718059887, 'kSkipRatio': 0.5896174488465487, 'kTargetDeterminationTrials': 17, 'kAttractionRatio': 0.3337276126759592, 'kMaxAttractionDistance': 9, 'kStartAttraction': 0.03239642602099938}. Best is trial 31 with value: 7833.8418079096045.\u001b[0m\n"
     ]
    },
    {
     "name": "stdout",
     "output_type": "stream",
     "text": [
      "index_parallel='0038'\n"
     ]
    },
    {
     "name": "stderr",
     "output_type": "stream",
     "text": [
      "\u001b[32m[I 2022-08-15 23:43:19,282]\u001b[0m Trial 38 finished with value: 7739.12429378531 and parameters: {'kErase': 1, 'kRadius': 3, 'kAnnealingA': 10.106330979446993, 'kAnnealingB': 0.9062206181820831, 'kAnnealingStart': 1.7424814968380382, 'kSkipRatio': 0.44035217954573125, 'kTargetDeterminationTrials': 8, 'kAttractionRatio': 0.5765510054762073, 'kMaxAttractionDistance': 7, 'kStartAttraction': 0.01984072445515144}. Best is trial 31 with value: 7833.8418079096045.\u001b[0m\n"
     ]
    },
    {
     "name": "stdout",
     "output_type": "stream",
     "text": [
      "index_parallel='0039'\n"
     ]
    },
    {
     "name": "stderr",
     "output_type": "stream",
     "text": [
      "\u001b[32m[I 2022-08-15 23:46:45,821]\u001b[0m Trial 39 finished with value: 7729.774011299435 and parameters: {'kErase': 2, 'kRadius': 2, 'kAnnealingA': 12.609620073059517, 'kAnnealingB': 1.7385824678461201, 'kAnnealingStart': 2.8662520717277804, 'kSkipRatio': 0.6047628945106331, 'kTargetDeterminationTrials': 12, 'kAttractionRatio': 0.21970855408123766, 'kMaxAttractionDistance': 7, 'kStartAttraction': 0.009731679355251571}. Best is trial 31 with value: 7833.8418079096045.\u001b[0m\n"
     ]
    },
    {
     "name": "stdout",
     "output_type": "stream",
     "text": [
      "index_parallel='0040'\n"
     ]
    },
    {
     "name": "stderr",
     "output_type": "stream",
     "text": [
      "\u001b[32m[I 2022-08-15 23:50:11,893]\u001b[0m Trial 40 finished with value: 7932.593220338983 and parameters: {'kErase': 1, 'kRadius': 3, 'kAnnealingA': 5.076245218545771, 'kAnnealingB': 1.569318278547621, 'kAnnealingStart': 5.831049040428047, 'kSkipRatio': 0.5100722270795812, 'kTargetDeterminationTrials': 4, 'kAttractionRatio': 0.5090524487942935, 'kMaxAttractionDistance': 17, 'kStartAttraction': 0.11034324658952853}. Best is trial 40 with value: 7932.593220338983.\u001b[0m\n"
     ]
    },
    {
     "name": "stdout",
     "output_type": "stream",
     "text": [
      "Updated! 7932.593220338983\n",
      "index_parallel='0041'\n"
     ]
    },
    {
     "name": "stderr",
     "output_type": "stream",
     "text": [
      "\u001b[32m[I 2022-08-15 23:53:38,262]\u001b[0m Trial 41 finished with value: 7806.994350282486 and parameters: {'kErase': 1, 'kRadius': 3, 'kAnnealingA': 5.344356364639569, 'kAnnealingB': 1.5604214518844999, 'kAnnealingStart': 5.687915901860878, 'kSkipRatio': 0.5141028911011646, 'kTargetDeterminationTrials': 4, 'kAttractionRatio': 0.5369355074311641, 'kMaxAttractionDistance': 15, 'kStartAttraction': 0.07934923666815884}. Best is trial 40 with value: 7932.593220338983.\u001b[0m\n"
     ]
    },
    {
     "name": "stdout",
     "output_type": "stream",
     "text": [
      "index_parallel='0042'\n"
     ]
    },
    {
     "name": "stderr",
     "output_type": "stream",
     "text": [
      "\u001b[32m[I 2022-08-15 23:57:04,485]\u001b[0m Trial 42 finished with value: 7870.056497175141 and parameters: {'kErase': 1, 'kRadius': 2, 'kAnnealingA': 3.0957231213219614, 'kAnnealingB': 1.597146798439798, 'kAnnealingStart': 6.075423920888934, 'kSkipRatio': 0.49536458967885333, 'kTargetDeterminationTrials': 4, 'kAttractionRatio': 0.47827852247053093, 'kMaxAttractionDistance': 17, 'kStartAttraction': 0.12578183220207115}. Best is trial 40 with value: 7932.593220338983.\u001b[0m\n"
     ]
    },
    {
     "name": "stdout",
     "output_type": "stream",
     "text": [
      "index_parallel='0043'\n"
     ]
    },
    {
     "name": "stderr",
     "output_type": "stream",
     "text": [
      "\u001b[32m[I 2022-08-16 00:00:30,575]\u001b[0m Trial 43 finished with value: 7866.322033898305 and parameters: {'kErase': 1, 'kRadius': 3, 'kAnnealingA': 3.5915152325450554, 'kAnnealingB': 1.573563549065885, 'kAnnealingStart': 6.491095620914473, 'kSkipRatio': 0.3656264246905635, 'kTargetDeterminationTrials': 4, 'kAttractionRatio': 0.5219666923462606, 'kMaxAttractionDistance': 17, 'kStartAttraction': 0.12590071020053}. Best is trial 40 with value: 7932.593220338983.\u001b[0m\n"
     ]
    },
    {
     "name": "stdout",
     "output_type": "stream",
     "text": [
      "index_parallel='0044'\n"
     ]
    },
    {
     "name": "stderr",
     "output_type": "stream",
     "text": [
      "\u001b[32m[I 2022-08-16 00:03:56,940]\u001b[0m Trial 44 finished with value: 7727.497175141243 and parameters: {'kErase': 1, 'kRadius': 2, 'kAnnealingA': 3.091249558252334, 'kAnnealingB': 1.6398742132191788, 'kAnnealingStart': 11.725739349755054, 'kSkipRatio': 0.21861386023271837, 'kTargetDeterminationTrials': 4, 'kAttractionRatio': 0.5296329749909806, 'kMaxAttractionDistance': 16, 'kStartAttraction': 0.21343454273352871}. Best is trial 40 with value: 7932.593220338983.\u001b[0m\n"
     ]
    },
    {
     "name": "stdout",
     "output_type": "stream",
     "text": [
      "index_parallel='0045'\n"
     ]
    },
    {
     "name": "stderr",
     "output_type": "stream",
     "text": [
      "\u001b[32m[I 2022-08-16 00:07:23,274]\u001b[0m Trial 45 finished with value: 7845.389830508475 and parameters: {'kErase': 1, 'kRadius': 3, 'kAnnealingA': 0.7268211995596618, 'kAnnealingB': 1.3481611184978588, 'kAnnealingStart': 6.911558949674035, 'kSkipRatio': 0.34627641772706097, 'kTargetDeterminationTrials': 5, 'kAttractionRatio': 0.4264875920999053, 'kMaxAttractionDistance': 17, 'kStartAttraction': 0.11713379982434415}. Best is trial 40 with value: 7932.593220338983.\u001b[0m\n"
     ]
    },
    {
     "name": "stdout",
     "output_type": "stream",
     "text": [
      "index_parallel='0046'\n"
     ]
    },
    {
     "name": "stderr",
     "output_type": "stream",
     "text": [
      "\u001b[32m[I 2022-08-16 00:10:49,525]\u001b[0m Trial 46 finished with value: 7769.54802259887 and parameters: {'kErase': 1, 'kRadius': 3, 'kAnnealingA': 0.6121534721203212, 'kAnnealingB': 1.3498919672219438, 'kAnnealingStart': 7.507031214089868, 'kSkipRatio': 0.3769651918558369, 'kTargetDeterminationTrials': 5, 'kAttractionRatio': 0.6940326063108665, 'kMaxAttractionDistance': 25, 'kStartAttraction': 0.13994449218238267}. Best is trial 40 with value: 7932.593220338983.\u001b[0m\n"
     ]
    },
    {
     "name": "stdout",
     "output_type": "stream",
     "text": [
      "index_parallel='0047'\n"
     ]
    },
    {
     "name": "stderr",
     "output_type": "stream",
     "text": [
      "\u001b[32m[I 2022-08-16 00:14:15,795]\u001b[0m Trial 47 finished with value: 7976.830508474576 and parameters: {'kErase': 1, 'kRadius': 3, 'kAnnealingA': -2.563999363787644, 'kAnnealingB': 1.898783525764164, 'kAnnealingStart': 6.795032715553565, 'kSkipRatio': 0.3443130058796219, 'kTargetDeterminationTrials': 6, 'kAttractionRatio': 0.4162646515773853, 'kMaxAttractionDistance': 18, 'kStartAttraction': 0.301109894003766}. Best is trial 47 with value: 7976.830508474576.\u001b[0m\n"
     ]
    },
    {
     "name": "stdout",
     "output_type": "stream",
     "text": [
      "Updated! 7976.830508474576\n",
      "index_parallel='0048'\n"
     ]
    },
    {
     "name": "stderr",
     "output_type": "stream",
     "text": [
      "\u001b[32m[I 2022-08-16 00:17:42,028]\u001b[0m Trial 48 finished with value: 8090.779661016949 and parameters: {'kErase': 1, 'kRadius': 3, 'kAnnealingA': -2.280020303159056, 'kAnnealingB': 1.8779573283070152, 'kAnnealingStart': 7.021008330835407, 'kSkipRatio': 0.33032761759668644, 'kTargetDeterminationTrials': 6, 'kAttractionRatio': 0.42596156059804585, 'kMaxAttractionDistance': 18, 'kStartAttraction': 0.4025406836087916}. Best is trial 48 with value: 8090.779661016949.\u001b[0m\n"
     ]
    },
    {
     "name": "stdout",
     "output_type": "stream",
     "text": [
      "Updated! 8090.779661016949\n",
      "index_parallel='0049'\n"
     ]
    },
    {
     "name": "stderr",
     "output_type": "stream",
     "text": [
      "\u001b[32m[I 2022-08-16 00:21:08,456]\u001b[0m Trial 49 finished with value: 7708.389830508475 and parameters: {'kErase': 1, 'kRadius': 4, 'kAnnealingA': -6.779135365938585, 'kAnnealingB': 1.9041862006333512, 'kAnnealingStart': 16.354135924910256, 'kSkipRatio': 0.28235840441784443, 'kTargetDeterminationTrials': 6, 'kAttractionRatio': 0.4508055091291695, 'kMaxAttractionDistance': 35, 'kStartAttraction': 0.36082402274600117}. Best is trial 48 with value: 8090.779661016949.\u001b[0m\n"
     ]
    },
    {
     "name": "stdout",
     "output_type": "stream",
     "text": [
      "index_parallel='0050'\n"
     ]
    },
    {
     "name": "stderr",
     "output_type": "stream",
     "text": [
      "\u001b[32m[I 2022-08-16 00:24:34,583]\u001b[0m Trial 50 finished with value: 8007.497175141243 and parameters: {'kErase': 1, 'kRadius': 3, 'kAnnealingA': -3.0458729037136343, 'kAnnealingB': 2.1734853447473776, 'kAnnealingStart': 9.688044847450234, 'kSkipRatio': 0.3145833214051016, 'kTargetDeterminationTrials': 6, 'kAttractionRatio': 0.34417968048837294, 'kMaxAttractionDistance': 13, 'kStartAttraction': 0.5724464669707794}. Best is trial 48 with value: 8090.779661016949.\u001b[0m\n"
     ]
    },
    {
     "name": "stdout",
     "output_type": "stream",
     "text": [
      "index_parallel='0051'\n"
     ]
    },
    {
     "name": "stderr",
     "output_type": "stream",
     "text": [
      "\u001b[32m[I 2022-08-16 00:28:00,817]\u001b[0m Trial 51 finished with value: 7860.6949152542375 and parameters: {'kErase': 1, 'kRadius': 3, 'kAnnealingA': -2.295013024340459, 'kAnnealingB': 2.2375108525759297, 'kAnnealingStart': 10.438586158365704, 'kSkipRatio': 0.3210358284507056, 'kTargetDeterminationTrials': 6, 'kAttractionRatio': 0.3566181477592555, 'kMaxAttractionDistance': 13, 'kStartAttraction': 0.2985807311782714}. Best is trial 48 with value: 8090.779661016949.\u001b[0m\n"
     ]
    },
    {
     "name": "stdout",
     "output_type": "stream",
     "text": [
      "index_parallel='0052'\n"
     ]
    },
    {
     "name": "stderr",
     "output_type": "stream",
     "text": [
      "\u001b[32m[I 2022-08-16 00:31:27,082]\u001b[0m Trial 52 finished with value: 7854.819209039548 and parameters: {'kErase': 1, 'kRadius': 4, 'kAnnealingA': -4.940598091287469, 'kAnnealingB': 1.8567234709190643, 'kAnnealingStart': 14.666857957765343, 'kSkipRatio': 0.2569207846698755, 'kTargetDeterminationTrials': 6, 'kAttractionRatio': 0.7060486801201052, 'kMaxAttractionDistance': 18, 'kStartAttraction': 0.5689484036131895}. Best is trial 48 with value: 8090.779661016949.\u001b[0m\n"
     ]
    },
    {
     "name": "stdout",
     "output_type": "stream",
     "text": [
      "index_parallel='0053'\n"
     ]
    },
    {
     "name": "stderr",
     "output_type": "stream",
     "text": [
      "\u001b[32m[I 2022-08-16 00:34:53,402]\u001b[0m Trial 53 finished with value: 8026.954802259887 and parameters: {'kErase': 1, 'kRadius': 3, 'kAnnealingA': -1.1046899243970034, 'kAnnealingB': 1.6460012677556644, 'kAnnealingStart': 6.771034524072774, 'kSkipRatio': 0.34398090280730387, 'kTargetDeterminationTrials': 8, 'kAttractionRatio': 0.8554145686617116, 'kMaxAttractionDistance': 19, 'kStartAttraction': 0.41233411500634215}. Best is trial 48 with value: 8090.779661016949.\u001b[0m\n"
     ]
    },
    {
     "name": "stdout",
     "output_type": "stream",
     "text": [
      "index_parallel='0054'\n"
     ]
    },
    {
     "name": "stderr",
     "output_type": "stream",
     "text": [
      "\u001b[32m[I 2022-08-16 00:38:19,941]\u001b[0m Trial 54 finished with value: 8010.627118644068 and parameters: {'kErase': 1, 'kRadius': 4, 'kAnnealingA': -0.9695343929389749, 'kAnnealingB': 2.5936863304326874, 'kAnnealingStart': 9.033353575480389, 'kSkipRatio': 0.3174282434381391, 'kTargetDeterminationTrials': 8, 'kAttractionRatio': 0.846679808220032, 'kMaxAttractionDistance': 25, 'kStartAttraction': 0.42420725053767017}. Best is trial 48 with value: 8090.779661016949.\u001b[0m\n"
     ]
    },
    {
     "name": "stdout",
     "output_type": "stream",
     "text": [
      "index_parallel='0055'\n"
     ]
    },
    {
     "name": "stderr",
     "output_type": "stream",
     "text": [
      "\u001b[32m[I 2022-08-16 00:41:45,906]\u001b[0m Trial 55 finished with value: 8022.25988700565 and parameters: {'kErase': 1, 'kRadius': 4, 'kAnnealingA': -3.414753214097252, 'kAnnealingB': 2.6506625778193875, 'kAnnealingStart': 9.266058735539126, 'kSkipRatio': 0.3095638554735451, 'kTargetDeterminationTrials': 9, 'kAttractionRatio': 0.8432919358352158, 'kMaxAttractionDistance': 25, 'kStartAttraction': 0.6436871244306718}. Best is trial 48 with value: 8090.779661016949.\u001b[0m\n"
     ]
    },
    {
     "name": "stdout",
     "output_type": "stream",
     "text": [
      "index_parallel='0056'\n"
     ]
    },
    {
     "name": "stderr",
     "output_type": "stream",
     "text": [
      "\u001b[32m[I 2022-08-16 00:45:12,248]\u001b[0m Trial 56 finished with value: 7835.683615819209 and parameters: {'kErase': 1, 'kRadius': 4, 'kAnnealingA': -7.24306746120452, 'kAnnealingB': 2.6596137560892186, 'kAnnealingStart': 20.150666602621328, 'kSkipRatio': 0.31074042423385856, 'kTargetDeterminationTrials': 9, 'kAttractionRatio': 0.8896143019238754, 'kMaxAttractionDistance': 30, 'kStartAttraction': 0.6286135327628622}. Best is trial 48 with value: 8090.779661016949.\u001b[0m\n"
     ]
    },
    {
     "name": "stdout",
     "output_type": "stream",
     "text": [
      "index_parallel='0057'\n"
     ]
    },
    {
     "name": "stderr",
     "output_type": "stream",
     "text": [
      "\u001b[32m[I 2022-08-16 00:48:38,313]\u001b[0m Trial 57 finished with value: 7973.395480225989 and parameters: {'kErase': 1, 'kRadius': 5, 'kAnnealingA': -1.101958241587568, 'kAnnealingB': 2.503328772476879, 'kAnnealingStart': 9.170009532779192, 'kSkipRatio': 0.2560295290702574, 'kTargetDeterminationTrials': 8, 'kAttractionRatio': 0.643589336739088, 'kMaxAttractionDistance': 25, 'kStartAttraction': 0.41249523100032875}. Best is trial 48 with value: 8090.779661016949.\u001b[0m\n"
     ]
    },
    {
     "name": "stdout",
     "output_type": "stream",
     "text": [
      "index_parallel='0058'\n"
     ]
    },
    {
     "name": "stderr",
     "output_type": "stream",
     "text": [
      "\u001b[32m[I 2022-08-16 00:52:04,476]\u001b[0m Trial 58 finished with value: 7645.819209039548 and parameters: {'kErase': 1, 'kRadius': 4, 'kAnnealingA': -3.1329617106952306, 'kAnnealingB': 2.271871358678737, 'kAnnealingStart': 13.313796058878388, 'kSkipRatio': 0.28218252583649783, 'kTargetDeterminationTrials': 10, 'kAttractionRatio': 0.8589276714115094, 'kMaxAttractionDistance': 40, 'kStartAttraction': 0.2563450865222388}. Best is trial 48 with value: 8090.779661016949.\u001b[0m\n"
     ]
    },
    {
     "name": "stdout",
     "output_type": "stream",
     "text": [
      "index_parallel='0059'\n"
     ]
    },
    {
     "name": "stderr",
     "output_type": "stream",
     "text": [
      "\u001b[32m[I 2022-08-16 00:55:30,838]\u001b[0m Trial 59 finished with value: 7654.932203389831 and parameters: {'kErase': 2, 'kRadius': 4, 'kAnnealingA': -4.86780970062404, 'kAnnealingB': 2.6558901504600727, 'kAnnealingStart': 9.862893399818834, 'kSkipRatio': 0.34192243385341237, 'kTargetDeterminationTrials': 6, 'kAttractionRatio': 0.605284621180252, 'kMaxAttractionDistance': 21, 'kStartAttraction': 0.8933794807184842}. Best is trial 48 with value: 8090.779661016949.\u001b[0m\n"
     ]
    },
    {
     "name": "stdout",
     "output_type": "stream",
     "text": [
      "index_parallel='0060'\n"
     ]
    },
    {
     "name": "stderr",
     "output_type": "stream",
     "text": [
      "\u001b[32m[I 2022-08-16 00:58:57,790]\u001b[0m Trial 60 finished with value: 6732.016949152542 and parameters: {'kErase': 5, 'kRadius': 4, 'kAnnealingA': -8.63785349965703, 'kAnnealingB': 2.0659764728361814, 'kAnnealingStart': 8.20427295280572, 'kSkipRatio': 0.40089982593063955, 'kTargetDeterminationTrials': 8, 'kAttractionRatio': 0.2909034494557382, 'kMaxAttractionDistance': 24, 'kStartAttraction': 0.46662899067510266}. Best is trial 48 with value: 8090.779661016949.\u001b[0m\n"
     ]
    },
    {
     "name": "stdout",
     "output_type": "stream",
     "text": [
      "index_parallel='0061'\n"
     ]
    },
    {
     "name": "stderr",
     "output_type": "stream",
     "text": [
      "\u001b[32m[I 2022-08-16 01:02:23,850]\u001b[0m Trial 61 finished with value: 7826.632768361582 and parameters: {'kErase': 1, 'kRadius': 5, 'kAnnealingA': -0.7790926306674915, 'kAnnealingB': 2.482823037119664, 'kAnnealingStart': 11.11498736532443, 'kSkipRatio': 0.2533550214903674, 'kTargetDeterminationTrials': 9, 'kAttractionRatio': 0.6842050073657192, 'kMaxAttractionDistance': 28, 'kStartAttraction': 0.3842218551637819}. Best is trial 48 with value: 8090.779661016949.\u001b[0m\n"
     ]
    },
    {
     "name": "stdout",
     "output_type": "stream",
     "text": [
      "index_parallel='0062'\n"
     ]
    },
    {
     "name": "stderr",
     "output_type": "stream",
     "text": [
      "\u001b[32m[I 2022-08-16 01:05:49,834]\u001b[0m Trial 62 finished with value: 7963.887005649717 and parameters: {'kErase': 1, 'kRadius': 6, 'kAnnealingA': -2.1722800933538577, 'kAnnealingB': 2.3570954717181323, 'kAnnealingStart': 8.904875735479552, 'kSkipRatio': 0.20378449457935052, 'kTargetDeterminationTrials': 8, 'kAttractionRatio': 0.7690102577782718, 'kMaxAttractionDistance': 35, 'kStartAttraction': 0.7152990195777281}. Best is trial 48 with value: 8090.779661016949.\u001b[0m\n"
     ]
    },
    {
     "name": "stdout",
     "output_type": "stream",
     "text": [
      "index_parallel='0063'\n"
     ]
    },
    {
     "name": "stderr",
     "output_type": "stream",
     "text": [
      "\u001b[32m[I 2022-08-16 01:09:16,019]\u001b[0m Trial 63 finished with value: 7787.485875706215 and parameters: {'kErase': 1, 'kRadius': 5, 'kAnnealingA': -3.440527754134715, 'kAnnealingB': 2.596296977138817, 'kAnnealingStart': 19.71196418820091, 'kSkipRatio': 0.29959921711881593, 'kTargetDeterminationTrials': 10, 'kAttractionRatio': 0.6191459789732063, 'kMaxAttractionDistance': 19, 'kStartAttraction': 0.44364808329097255}. Best is trial 48 with value: 8090.779661016949.\u001b[0m\n"
     ]
    },
    {
     "name": "stdout",
     "output_type": "stream",
     "text": [
      "index_parallel='0064'\n"
     ]
    },
    {
     "name": "stderr",
     "output_type": "stream",
     "text": [
      "\u001b[32m[I 2022-08-16 01:12:41,912]\u001b[0m Trial 64 finished with value: 7726.836158192091 and parameters: {'kErase': 1, 'kRadius': 5, 'kAnnealingA': 1.8811492814104587, 'kAnnealingB': 2.2303358053303177, 'kAnnealingStart': 32.796381729098165, 'kSkipRatio': 0.2670978110265514, 'kTargetDeterminationTrials': 7, 'kAttractionRatio': 0.7690650729069519, 'kMaxAttractionDistance': 26, 'kStartAttraction': 0.2865858260100062}. Best is trial 48 with value: 8090.779661016949.\u001b[0m\n"
     ]
    },
    {
     "name": "stdout",
     "output_type": "stream",
     "text": [
      "index_parallel='0065'\n"
     ]
    },
    {
     "name": "stderr",
     "output_type": "stream",
     "text": [
      "\u001b[32m[I 2022-08-16 01:16:08,580]\u001b[0m Trial 65 finished with value: 7792.3615819209035 and parameters: {'kErase': 2, 'kRadius': 4, 'kAnnealingA': -0.5200566546096432, 'kAnnealingB': 2.4886159634612492, 'kAnnealingStart': 7.825919275772573, 'kSkipRatio': 0.228048872170934, 'kTargetDeterminationTrials': 12, 'kAttractionRatio': 0.3825891184000668, 'kMaxAttractionDistance': 14, 'kStartAttraction': 0.5761827052960385}. Best is trial 48 with value: 8090.779661016949.\u001b[0m\n"
     ]
    },
    {
     "name": "stdout",
     "output_type": "stream",
     "text": [
      "index_parallel='0066'\n"
     ]
    },
    {
     "name": "stderr",
     "output_type": "stream",
     "text": [
      "\u001b[32m[I 2022-08-16 01:19:34,565]\u001b[0m Trial 66 finished with value: 7898.12429378531 and parameters: {'kErase': 1, 'kRadius': 6, 'kAnnealingA': -1.8796200257350495, 'kAnnealingB': 1.9354384102377715, 'kAnnealingStart': 13.575267221882712, 'kSkipRatio': 0.3512987871487268, 'kTargetDeterminationTrials': 8, 'kAttractionRatio': 0.7876167293885696, 'kMaxAttractionDistance': 20, 'kStartAttraction': 0.4263460824150877}. Best is trial 48 with value: 8090.779661016949.\u001b[0m\n"
     ]
    },
    {
     "name": "stdout",
     "output_type": "stream",
     "text": [
      "index_parallel='0067'\n"
     ]
    },
    {
     "name": "stderr",
     "output_type": "stream",
     "text": [
      "\u001b[32m[I 2022-08-16 01:23:00,718]\u001b[0m Trial 67 finished with value: 7616.192090395481 and parameters: {'kErase': 1, 'kRadius': 4, 'kAnnealingA': -3.974528150807317, 'kAnnealingB': 2.7814784441816887, 'kAnnealingStart': 16.49574120643932, 'kSkipRatio': 0.3304761057582624, 'kTargetDeterminationTrials': 6, 'kAttractionRatio': 0.6149032116988417, 'kMaxAttractionDistance': 22, 'kStartAttraction': 0.1732592298781676}. Best is trial 48 with value: 8090.779661016949.\u001b[0m\n"
     ]
    },
    {
     "name": "stdout",
     "output_type": "stream",
     "text": [
      "index_parallel='0068'\n"
     ]
    },
    {
     "name": "stderr",
     "output_type": "stream",
     "text": [
      "\u001b[32m[I 2022-08-16 01:26:26,842]\u001b[0m Trial 68 finished with value: 7942.406779661017 and parameters: {'kErase': 1, 'kRadius': 3, 'kAnnealingA': -5.750218401229631, 'kAnnealingB': 2.1448742746939375, 'kAnnealingStart': 9.488119797690086, 'kSkipRatio': 0.43248945826495366, 'kTargetDeterminationTrials': 9, 'kAttractionRatio': 0.28958169422559077, 'kMaxAttractionDistance': 32, 'kStartAttraction': 0.3149291157028288}. Best is trial 48 with value: 8090.779661016949.\u001b[0m\n"
     ]
    },
    {
     "name": "stdout",
     "output_type": "stream",
     "text": [
      "index_parallel='0069'\n"
     ]
    },
    {
     "name": "stderr",
     "output_type": "stream",
     "text": [
      "\u001b[32m[I 2022-08-16 01:29:53,228]\u001b[0m Trial 69 finished with value: 7831.338983050848 and parameters: {'kErase': 2, 'kRadius': 3, 'kAnnealingA': -0.09071783384821797, 'kAnnealingB': 2.0394357318620546, 'kAnnealingStart': 6.878419786451489, 'kSkipRatio': 0.30470995533407175, 'kTargetDeterminationTrials': 10, 'kAttractionRatio': 0.4594404279823708, 'kMaxAttractionDistance': 12, 'kStartAttraction': 0.7005907257445032}. Best is trial 48 with value: 8090.779661016949.\u001b[0m\n"
     ]
    },
    {
     "name": "stdout",
     "output_type": "stream",
     "text": [
      "index_parallel='0070'\n"
     ]
    },
    {
     "name": "stderr",
     "output_type": "stream",
     "text": [
      "\u001b[32m[I 2022-08-16 01:33:19,458]\u001b[0m Trial 70 finished with value: 8123.598870056498 and parameters: {'kErase': 1, 'kRadius': 5, 'kAnnealingA': 1.5602344000571544, 'kAnnealingB': 2.402531416584829, 'kAnnealingStart': 5.113641231600751, 'kSkipRatio': 0.3605247770331845, 'kTargetDeterminationTrials': 7, 'kAttractionRatio': 0.6409677820668772, 'kMaxAttractionDistance': 47, 'kStartAttraction': 0.5222825553823018}. Best is trial 70 with value: 8123.598870056498.\u001b[0m\n"
     ]
    },
    {
     "name": "stdout",
     "output_type": "stream",
     "text": [
      "Updated! 8123.598870056498\n",
      "index_parallel='0071'\n"
     ]
    },
    {
     "name": "stderr",
     "output_type": "stream",
     "text": [
      "\u001b[32m[I 2022-08-16 01:36:45,650]\u001b[0m Trial 71 finished with value: 7883.542372881356 and parameters: {'kErase': 1, 'kRadius': 5, 'kAnnealingA': 1.7932315940521208, 'kAnnealingB': 2.3409558316944774, 'kAnnealingStart': 4.08701074810217, 'kSkipRatio': 0.3595931092992589, 'kTargetDeterminationTrials': 7, 'kAttractionRatio': 0.6095801563406918, 'kMaxAttractionDistance': 99, 'kStartAttraction': 0.22274282485897873}. Best is trial 70 with value: 8123.598870056498.\u001b[0m\n"
     ]
    },
    {
     "name": "stdout",
     "output_type": "stream",
     "text": [
      "index_parallel='0072'\n"
     ]
    },
    {
     "name": "stderr",
     "output_type": "stream",
     "text": [
      "\u001b[32m[I 2022-08-16 01:40:11,669]\u001b[0m Trial 72 finished with value: 7642.180790960452 and parameters: {'kErase': 1, 'kRadius': 5, 'kAnnealingA': -1.5800001323774437, 'kAnnealingB': 2.745383333659825, 'kAnnealingStart': 9.055556538905101, 'kSkipRatio': 0.382426867860594, 'kTargetDeterminationTrials': 11, 'kAttractionRatio': 0.027964590028121177, 'kMaxAttractionDistance': 45, 'kStartAttraction': 0.49830289211657636}. Best is trial 70 with value: 8123.598870056498.\u001b[0m\n"
     ]
    },
    {
     "name": "stdout",
     "output_type": "stream",
     "text": [
      "index_parallel='0073'\n"
     ]
    },
    {
     "name": "stderr",
     "output_type": "stream",
     "text": [
      "\u001b[32m[I 2022-08-16 01:43:37,766]\u001b[0m Trial 73 finished with value: 7887.830508474576 and parameters: {'kErase': 1, 'kRadius': 5, 'kAnnealingA': -2.7909530395699713, 'kAnnealingB': 2.466489562278454, 'kAnnealingStart': 5.207267919309632, 'kSkipRatio': 0.31931903009966667, 'kTargetDeterminationTrials': 7, 'kAttractionRatio': 0.6776318615795099, 'kMaxAttractionDistance': 27, 'kStartAttraction': 0.36225224437972914}. Best is trial 70 with value: 8123.598870056498.\u001b[0m\n"
     ]
    },
    {
     "name": "stdout",
     "output_type": "stream",
     "text": [
      "index_parallel='0074'\n"
     ]
    },
    {
     "name": "stderr",
     "output_type": "stream",
     "text": [
      "\u001b[32m[I 2022-08-16 01:47:03,621]\u001b[0m Trial 74 finished with value: 7223.073446327684 and parameters: {'kErase': 1, 'kRadius': 6, 'kAnnealingA': -4.238753419551038, 'kAnnealingB': 2.8547298942650943, 'kAnnealingStart': 94.30815992712088, 'kSkipRatio': 0.2852861756934523, 'kTargetDeterminationTrials': 8, 'kAttractionRatio': 0.8076429386947384, 'kMaxAttractionDistance': 55, 'kStartAttraction': 0.5896643415705557}. Best is trial 70 with value: 8123.598870056498.\u001b[0m\n"
     ]
    },
    {
     "name": "stdout",
     "output_type": "stream",
     "text": [
      "index_parallel='0075'\n"
     ]
    },
    {
     "name": "stderr",
     "output_type": "stream",
     "text": [
      "\u001b[32m[I 2022-08-16 01:50:29,999]\u001b[0m Trial 75 finished with value: 7947.135593220339 and parameters: {'kErase': 1, 'kRadius': 3, 'kAnnealingA': -1.208666397578154, 'kAnnealingB': 1.6968421279812405, 'kAnnealingStart': 7.1826527795972845, 'kSkipRatio': 0.23671434545137837, 'kTargetDeterminationTrials': 6, 'kAttractionRatio': 0.36503333783644315, 'kMaxAttractionDistance': 65, 'kStartAttraction': 0.7802724585158761}. Best is trial 70 with value: 8123.598870056498.\u001b[0m\n"
     ]
    },
    {
     "name": "stdout",
     "output_type": "stream",
     "text": [
      "index_parallel='0076'\n"
     ]
    },
    {
     "name": "stderr",
     "output_type": "stream",
     "text": [
      "\u001b[32m[I 2022-08-16 01:53:56,199]\u001b[0m Trial 76 finished with value: 7908.5084745762715 and parameters: {'kErase': 1, 'kRadius': 5, 'kAnnealingA': 1.2834424316375224, 'kAnnealingB': 1.8120962796207745, 'kAnnealingStart': 4.971574441012354, 'kSkipRatio': 0.40995191028267197, 'kTargetDeterminationTrials': 11, 'kAttractionRatio': 0.40889717153827804, 'kMaxAttractionDistance': 15, 'kStartAttraction': 0.25136929952964354}. Best is trial 70 with value: 8123.598870056498.\u001b[0m\n"
     ]
    },
    {
     "name": "stdout",
     "output_type": "stream",
     "text": [
      "index_parallel='0077'\n"
     ]
    },
    {
     "name": "stderr",
     "output_type": "stream",
     "text": [
      "\u001b[32m[I 2022-08-16 01:57:22,806]\u001b[0m Trial 77 finished with value: 7710.129943502825 and parameters: {'kErase': 2, 'kRadius': 4, 'kAnnealingA': 0.06836428320876264, 'kAnnealingB': 2.6355275706195442, 'kAnnealingStart': 10.56832610057615, 'kSkipRatio': 0.3334766654230134, 'kTargetDeterminationTrials': 5, 'kAttractionRatio': 0.5649616805490714, 'kMaxAttractionDistance': 23, 'kStartAttraction': 0.47925625301673325}. Best is trial 70 with value: 8123.598870056498.\u001b[0m\n"
     ]
    },
    {
     "name": "stdout",
     "output_type": "stream",
     "text": [
      "index_parallel='0078'\n"
     ]
    },
    {
     "name": "stderr",
     "output_type": "stream",
     "text": [
      "\u001b[32m[I 2022-08-16 02:00:48,676]\u001b[0m Trial 78 finished with value: 7785.25988700565 and parameters: {'kErase': 1, 'kRadius': 3, 'kAnnealingA': -5.59915519194419, 'kAnnealingB': 2.1772612035250174, 'kAnnealingStart': 12.12459079683216, 'kSkipRatio': 0.26699543063821307, 'kTargetDeterminationTrials': 9, 'kAttractionRatio': 0.5011944304846542, 'kMaxAttractionDistance': 42, 'kStartAttraction': 0.8992383435200805}. Best is trial 70 with value: 8123.598870056498.\u001b[0m\n"
     ]
    },
    {
     "name": "stdout",
     "output_type": "stream",
     "text": [
      "index_parallel='0079'\n"
     ]
    },
    {
     "name": "stderr",
     "output_type": "stream",
     "text": [
      "\u001b[32m[I 2022-08-16 02:04:15,526]\u001b[0m Trial 79 finished with value: 6782.689265536723 and parameters: {'kErase': 4, 'kRadius': 4, 'kAnnealingA': -2.764440168896072, 'kAnnealingB': 2.55909083815592, 'kAnnealingStart': 8.326707074811175, 'kSkipRatio': 0.374793931828918, 'kTargetDeterminationTrials': 7, 'kAttractionRatio': 0.8933465071748874, 'kMaxAttractionDistance': 19, 'kStartAttraction': 0.16845585400258686}. Best is trial 70 with value: 8123.598870056498.\u001b[0m\n"
     ]
    },
    {
     "name": "stdout",
     "output_type": "stream",
     "text": [
      "index_parallel='0080'\n"
     ]
    },
    {
     "name": "stderr",
     "output_type": "stream",
     "text": [
      "\u001b[32m[I 2022-08-16 02:07:41,868]\u001b[0m Trial 80 finished with value: 7783.011299435028 and parameters: {'kErase': 1, 'kRadius': 3, 'kAnnealingA': -4.013590684355737, 'kAnnealingB': 2.407075348118487, 'kAnnealingStart': 6.043451799824585, 'kSkipRatio': 0.322046606969236, 'kTargetDeterminationTrials': 13, 'kAttractionRatio': 0.658016878588656, 'kMaxAttractionDistance': 32, 'kStartAttraction': 0.3224621600910806}. Best is trial 70 with value: 8123.598870056498.\u001b[0m\n"
     ]
    },
    {
     "name": "stdout",
     "output_type": "stream",
     "text": [
      "index_parallel='0081'\n"
     ]
    },
    {
     "name": "stderr",
     "output_type": "stream",
     "text": [
      "\u001b[32m[I 2022-08-16 02:11:07,838]\u001b[0m Trial 81 finished with value: 7833.440677966101 and parameters: {'kErase': 1, 'kRadius': 6, 'kAnnealingA': -2.1983890223796334, 'kAnnealingB': 2.3985474532283964, 'kAnnealingStart': 8.533674885260334, 'kSkipRatio': 0.23366167536533228, 'kTargetDeterminationTrials': 7, 'kAttractionRatio': 0.7716898634637411, 'kMaxAttractionDistance': 38, 'kStartAttraction': 0.7151563615963357}. Best is trial 70 with value: 8123.598870056498.\u001b[0m\n"
     ]
    },
    {
     "name": "stdout",
     "output_type": "stream",
     "text": [
      "index_parallel='0082'\n"
     ]
    },
    {
     "name": "stderr",
     "output_type": "stream",
     "text": [
      "\u001b[32m[I 2022-08-16 02:14:33,939]\u001b[0m Trial 82 finished with value: 7912.61581920904 and parameters: {'kErase': 1, 'kRadius': 6, 'kAnnealingA': -1.437918494167979, 'kAnnealingB': 2.2943384578634736, 'kAnnealingStart': 6.937556108012923, 'kSkipRatio': 0.20091446733317345, 'kTargetDeterminationTrials': 8, 'kAttractionRatio': 0.753091452744374, 'kMaxAttractionDistance': 34, 'kStartAttraction': 0.6744635259972211}. Best is trial 70 with value: 8123.598870056498.\u001b[0m\n"
     ]
    },
    {
     "name": "stdout",
     "output_type": "stream",
     "text": [
      "index_parallel='0083'\n"
     ]
    },
    {
     "name": "stderr",
     "output_type": "stream",
     "text": [
      "\u001b[32m[I 2022-08-16 02:17:59,967]\u001b[0m Trial 83 finished with value: 7971.112994350283 and parameters: {'kErase': 1, 'kRadius': 6, 'kAnnealingA': -0.3897221774166333, 'kAnnealingB': 2.708428903976569, 'kAnnealingStart': 9.403371401456907, 'kSkipRatio': 0.21337679730101222, 'kTargetDeterminationTrials': 8, 'kAttractionRatio': 0.5547656110258925, 'kMaxAttractionDistance': 55, 'kStartAttraction': 0.5400386596718354}. Best is trial 70 with value: 8123.598870056498.\u001b[0m\n"
     ]
    },
    {
     "name": "stdout",
     "output_type": "stream",
     "text": [
      "index_parallel='0084'\n"
     ]
    },
    {
     "name": "stderr",
     "output_type": "stream",
     "text": [
      "\u001b[32m[I 2022-08-16 02:21:26,036]\u001b[0m Trial 84 finished with value: 7372.5084745762715 and parameters: {'kErase': 1, 'kRadius': 6, 'kAnnealingA': 0.06425934359568775, 'kAnnealingB': 2.906654775973966, 'kAnnealingStart': 5.3679257798868525, 'kSkipRatio': 0.2951310332233704, 'kTargetDeterminationTrials': 10, 'kAttractionRatio': 0.4463314962965892, 'kMaxAttractionDistance': 66, 'kStartAttraction': 0.0011133104829961213}. Best is trial 70 with value: 8123.598870056498.\u001b[0m\n"
     ]
    },
    {
     "name": "stdout",
     "output_type": "stream",
     "text": [
      "index_parallel='0085'\n"
     ]
    },
    {
     "name": "stderr",
     "output_type": "stream",
     "text": [
      "\u001b[32m[I 2022-08-16 02:24:52,253]\u001b[0m Trial 85 finished with value: 7930.276836158192 and parameters: {'kErase': 1, 'kRadius': 3, 'kAnnealingA': -0.6590760644344891, 'kAnnealingB': 2.4936564775229138, 'kAnnealingStart': 10.150197338491258, 'kSkipRatio': 0.2681442696529101, 'kTargetDeterminationTrials': 9, 'kAttractionRatio': 0.5540238125475127, 'kMaxAttractionDistance': 55, 'kStartAttraction': 0.4165696819106506}. Best is trial 70 with value: 8123.598870056498.\u001b[0m\n"
     ]
    },
    {
     "name": "stdout",
     "output_type": "stream",
     "text": [
      "index_parallel='0086'\n"
     ]
    },
    {
     "name": "stderr",
     "output_type": "stream",
     "text": [
      "\u001b[32m[I 2022-08-16 02:28:18,444]\u001b[0m Trial 86 finished with value: 8146.367231638418 and parameters: {'kErase': 1, 'kRadius': 5, 'kAnnealingA': 2.5080386238449477, 'kAnnealingB': 2.702650249841318, 'kAnnealingStart': 7.68811537082015, 'kSkipRatio': 0.3581106771655676, 'kTargetDeterminationTrials': 6, 'kAttractionRatio': 0.32432488831787604, 'kMaxAttractionDistance': 11, 'kStartAttraction': 0.5330779952612802}. Best is trial 86 with value: 8146.367231638418.\u001b[0m\n"
     ]
    },
    {
     "name": "stdout",
     "output_type": "stream",
     "text": [
      "Updated! 8146.367231638418\n",
      "index_parallel='0087'\n"
     ]
    },
    {
     "name": "stderr",
     "output_type": "stream",
     "text": [
      "\u001b[32m[I 2022-08-16 02:31:45,150]\u001b[0m Trial 87 finished with value: 7530.994350282486 and parameters: {'kErase': 3, 'kRadius': 5, 'kAnnealingA': 2.2475584014952386, 'kAnnealingB': 1.9772536664809537, 'kAnnealingStart': 4.018341047795806, 'kSkipRatio': 0.36119596444088115, 'kTargetDeterminationTrials': 5, 'kAttractionRatio': 0.30191599383583567, 'kMaxAttractionDistance': 11, 'kStartAttraction': 0.25114680419745916}. Best is trial 86 with value: 8146.367231638418.\u001b[0m\n"
     ]
    },
    {
     "name": "stdout",
     "output_type": "stream",
     "text": [
      "index_parallel='0088'\n"
     ]
    },
    {
     "name": "stderr",
     "output_type": "stream",
     "text": [
      "\u001b[32m[I 2022-08-16 02:35:11,336]\u001b[0m Trial 88 finished with value: 8073.146892655367 and parameters: {'kErase': 1, 'kRadius': 5, 'kAnnealingA': 0.5110542763180626, 'kAnnealingB': 2.081558735410724, 'kAnnealingStart': 6.26045031321034, 'kSkipRatio': 0.39332009701371284, 'kTargetDeterminationTrials': 6, 'kAttractionRatio': 0.25267646283158307, 'kMaxAttractionDistance': 10, 'kStartAttraction': 0.35248527418258696}. Best is trial 86 with value: 8146.367231638418.\u001b[0m\n"
     ]
    },
    {
     "name": "stdout",
     "output_type": "stream",
     "text": [
      "index_parallel='0089'\n"
     ]
    }
   ],
   "source": [
    "study.optimize(\n",
    "    partial(objective, in_dir=in_dir, work_dir=work_dir),\n",
    "    n_trials=3000,\n",
    "    timeout=86400,\n",
    "    callbacks=[callback]\n",
    ")"
   ]
  },
  {
   "cell_type": "code",
   "execution_count": null,
   "id": "700269d2",
   "metadata": {},
   "outputs": [],
   "source": []
  }
 ],
 "metadata": {
  "kernelspec": {
   "display_name": "Python 3 (ipykernel)",
   "language": "python",
   "name": "python3"
  },
  "language_info": {
   "codemirror_mode": {
    "name": "ipython",
    "version": 3
   },
   "file_extension": ".py",
   "mimetype": "text/x-python",
   "name": "python",
   "nbconvert_exporter": "python",
   "pygments_lexer": "ipython3",
   "version": "3.9.12"
  }
 },
 "nbformat": 4,
 "nbformat_minor": 5
}
