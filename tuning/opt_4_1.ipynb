{
 "cells": [
  {
   "cell_type": "code",
   "execution_count": 1,
   "id": "25a1dac8",
   "metadata": {},
   "outputs": [],
   "source": [
    "import re\n",
    "import sys\n",
    "from uuid import uuid1\n",
    "from time import sleep\n",
    "from pprint import pprint\n",
    "from pathlib import Path\n",
    "from tempfile import gettempdir\n",
    "from threading import Thread\n",
    "from functools import partial\n",
    "from subprocess import Popen, PIPE\n",
    "\n",
    "from tqdm.notebook import tqdm\n",
    "import numpy as np\n",
    "import optuna\n",
    "import pandas as pd\n",
    "import matplotlib.pyplot as plt\n",
    "\n",
    "FILENAME = \"main.cpp\""
   ]
  },
  {
   "cell_type": "code",
   "execution_count": 2,
   "id": "3dd4d02e",
   "metadata": {},
   "outputs": [
    {
     "name": "stdout",
     "output_type": "stream",
     "text": [
      "10 variables were found.\n"
     ]
    },
    {
     "data": {
      "text/html": [
       "<div>\n",
       "<style scoped>\n",
       "    .dataframe tbody tr th:only-of-type {\n",
       "        vertical-align: middle;\n",
       "    }\n",
       "\n",
       "    .dataframe tbody tr th {\n",
       "        vertical-align: top;\n",
       "    }\n",
       "\n",
       "    .dataframe thead th {\n",
       "        text-align: right;\n",
       "    }\n",
       "</style>\n",
       "<table border=\"1\" class=\"dataframe\">\n",
       "  <thead>\n",
       "    <tr style=\"text-align: right;\">\n",
       "      <th></th>\n",
       "      <th>name</th>\n",
       "      <th>method</th>\n",
       "      <th>min</th>\n",
       "      <th>max</th>\n",
       "      <th>log</th>\n",
       "      <th>left</th>\n",
       "      <th>right</th>\n",
       "    </tr>\n",
       "  </thead>\n",
       "  <tbody>\n",
       "    <tr>\n",
       "      <th>0</th>\n",
       "      <td>kErase</td>\n",
       "      <td>suggest_int</td>\n",
       "      <td>1.000</td>\n",
       "      <td>5.0</td>\n",
       "      <td>False</td>\n",
       "      <td>static constexpr auto kErase =</td>\n",
       "      <td>;             // OPTIMIZE [1, 5]</td>\n",
       "    </tr>\n",
       "    <tr>\n",
       "      <th>1</th>\n",
       "      <td>kRadius</td>\n",
       "      <td>suggest_int</td>\n",
       "      <td>2.000</td>\n",
       "      <td>6.0</td>\n",
       "      <td>False</td>\n",
       "      <td>static constexpr auto kRadius =</td>\n",
       "      <td>;            // OPTIMIZE [2, 6]</td>\n",
       "    </tr>\n",
       "    <tr>\n",
       "      <th>2</th>\n",
       "      <td>kAnnealingA</td>\n",
       "      <td>suggest_float</td>\n",
       "      <td>-15.000</td>\n",
       "      <td>15.0</td>\n",
       "      <td>False</td>\n",
       "      <td>static constexpr auto kAnnealingA =</td>\n",
       "      <td>;      // OPTIMIZE [-15.0, 15.0]</td>\n",
       "    </tr>\n",
       "    <tr>\n",
       "      <th>3</th>\n",
       "      <td>kAnnealingB</td>\n",
       "      <td>suggest_float</td>\n",
       "      <td>0.000</td>\n",
       "      <td>3.0</td>\n",
       "      <td>False</td>\n",
       "      <td>static constexpr auto kAnnealingB =</td>\n",
       "      <td>;      // OPTIMIZE [0.0, 3.0]</td>\n",
       "    </tr>\n",
       "    <tr>\n",
       "      <th>4</th>\n",
       "      <td>kAnnealingStart</td>\n",
       "      <td>suggest_float</td>\n",
       "      <td>1.000</td>\n",
       "      <td>100.0</td>\n",
       "      <td>True</td>\n",
       "      <td>static constexpr auto kAnnealingStart =</td>\n",
       "      <td>; // OPTIMIZE LOG [1.0, 100.0]</td>\n",
       "    </tr>\n",
       "    <tr>\n",
       "      <th>5</th>\n",
       "      <td>kSkipRatio</td>\n",
       "      <td>suggest_float</td>\n",
       "      <td>0.200</td>\n",
       "      <td>0.8</td>\n",
       "      <td>False</td>\n",
       "      <td>static constexpr auto kSkipRatio =</td>\n",
       "      <td>;       // OPTIMIZE [0.2, 0.8]</td>\n",
       "    </tr>\n",
       "    <tr>\n",
       "      <th>6</th>\n",
       "      <td>kTargetDeterminationTrials</td>\n",
       "      <td>suggest_int</td>\n",
       "      <td>1.000</td>\n",
       "      <td>20.0</td>\n",
       "      <td>True</td>\n",
       "      <td>static constexpr auto kTargetDeterminationTria...</td>\n",
       "      <td>; // OPTIMIZE LOG [1, 20]</td>\n",
       "    </tr>\n",
       "    <tr>\n",
       "      <th>7</th>\n",
       "      <td>kAttractionRatio</td>\n",
       "      <td>suggest_float</td>\n",
       "      <td>0.010</td>\n",
       "      <td>0.9</td>\n",
       "      <td>True</td>\n",
       "      <td>static constexpr auto kAttractionRatio =</td>\n",
       "      <td>;      // OPTIMIZE LOG [0.01, 0.9]</td>\n",
       "    </tr>\n",
       "    <tr>\n",
       "      <th>8</th>\n",
       "      <td>kMaxAttractionDistance</td>\n",
       "      <td>suggest_int</td>\n",
       "      <td>4.000</td>\n",
       "      <td>99.0</td>\n",
       "      <td>True</td>\n",
       "      <td>static constexpr auto kMaxAttractionDistance =</td>\n",
       "      <td>; // OPTIMIZE LOG [4, 99]</td>\n",
       "    </tr>\n",
       "    <tr>\n",
       "      <th>9</th>\n",
       "      <td>kStartAttraction</td>\n",
       "      <td>suggest_float</td>\n",
       "      <td>0.001</td>\n",
       "      <td>0.9</td>\n",
       "      <td>True</td>\n",
       "      <td>static constexpr auto kStartAttraction =</td>\n",
       "      <td>;     // OPTIMIZE LOG [0.001, 0.9]</td>\n",
       "    </tr>\n",
       "  </tbody>\n",
       "</table>\n",
       "</div>"
      ],
      "text/plain": [
       "                         name         method     min    max    log  \\\n",
       "0                      kErase    suggest_int   1.000    5.0  False   \n",
       "1                     kRadius    suggest_int   2.000    6.0  False   \n",
       "2                 kAnnealingA  suggest_float -15.000   15.0  False   \n",
       "3                 kAnnealingB  suggest_float   0.000    3.0  False   \n",
       "4             kAnnealingStart  suggest_float   1.000  100.0   True   \n",
       "5                  kSkipRatio  suggest_float   0.200    0.8  False   \n",
       "6  kTargetDeterminationTrials    suggest_int   1.000   20.0   True   \n",
       "7            kAttractionRatio  suggest_float   0.010    0.9   True   \n",
       "8      kMaxAttractionDistance    suggest_int   4.000   99.0   True   \n",
       "9            kStartAttraction  suggest_float   0.001    0.9   True   \n",
       "\n",
       "                                                left  \\\n",
       "0                    static constexpr auto kErase =    \n",
       "1                   static constexpr auto kRadius =    \n",
       "2               static constexpr auto kAnnealingA =    \n",
       "3               static constexpr auto kAnnealingB =    \n",
       "4           static constexpr auto kAnnealingStart =    \n",
       "5                static constexpr auto kSkipRatio =    \n",
       "6  static constexpr auto kTargetDeterminationTria...   \n",
       "7          static constexpr auto kAttractionRatio =    \n",
       "8    static constexpr auto kMaxAttractionDistance =    \n",
       "9          static constexpr auto kStartAttraction =    \n",
       "\n",
       "                                right  \n",
       "0    ;             // OPTIMIZE [1, 5]  \n",
       "1     ;            // OPTIMIZE [2, 6]  \n",
       "2    ;      // OPTIMIZE [-15.0, 15.0]  \n",
       "3       ;      // OPTIMIZE [0.0, 3.0]  \n",
       "4      ; // OPTIMIZE LOG [1.0, 100.0]  \n",
       "5      ;       // OPTIMIZE [0.2, 0.8]  \n",
       "6           ; // OPTIMIZE LOG [1, 20]  \n",
       "7  ;      // OPTIMIZE LOG [0.01, 0.9]  \n",
       "8           ; // OPTIMIZE LOG [4, 99]  \n",
       "9  ;     // OPTIMIZE LOG [0.001, 0.9]  "
      ]
     },
     "metadata": {},
     "output_type": "display_data"
    }
   ],
   "source": [
    "# ここでエラー出力は何かおかしいかもしれない\n",
    "\n",
    "\n",
    "# パラメータ抽出\n",
    "with open(FILENAME) as f:\n",
    "    answer = f.read()\n",
    "\n",
    "\n",
    "variables_optimize = []\n",
    "\n",
    "for left, value, right, options in re.findall(r\"^([^/\\n]*=\\s*)(.+?)(\\s*;\\s*//(?:.*\\W)?OPTIMIZE(\\W.*))$\", answer, re.MULTILINE):\n",
    "    name = left.replace(\"=\", \"\").strip().split()[-1]\n",
    "    \n",
    "    searched = re.search(r\".*\\[(?P<min>.*),(?P<max>.*)\\].*\", options)\n",
    "    if searched:\n",
    "        min_value = max_value = None\n",
    "        try:\n",
    "            min_value = eval(searched.group(\"min\"))\n",
    "            max_value = eval(searched.group(\"max\"))\n",
    "            assert min_value <= max_value\n",
    "        except Exception as e:\n",
    "            print(f\"searched={searched}\", file=sys.stderr)\n",
    "            print(e, file=sys.stderr)\n",
    "            continue\n",
    "        log = \"LOG\" in options  # 雑、直したほうが良い\n",
    "        if type(min_value) != type(max_value):\n",
    "            print(f\"searched={searched}\", file=sys.stderr)\n",
    "            print(\"types not matched\", file=sys.stderr)\n",
    "            continue\n",
    "        if isinstance(min_value, int):\n",
    "            method = \"suggest_int\"\n",
    "        elif isinstance(min_value, float):\n",
    "            method = \"suggest_float\"\n",
    "        else:\n",
    "            print(f\"searched={searched}\", file=sys.stderr)\n",
    "            print(f\"unknown type ({type(min_value)})\", file=sys.stderr)\n",
    "            continue\n",
    "        variables_optimize.append({\n",
    "            \"name\": name,\n",
    "            \"method\": method,\n",
    "            \"min\": min_value,\n",
    "            \"max\": max_value,\n",
    "            \"log\": log,\n",
    "            \"left\": left,\n",
    "            \"right\": right,\n",
    "        })\n",
    "    elif searched := re.search(r\".*\\{(?P<choices>.*?)\\}.*\", options):\n",
    "        choices = list(map(lambda x: x.strip(), searched.group(\"choices\").split(\",\")))\n",
    "        variables_optimize.append({\n",
    "            \"name\": name,\n",
    "            \"method\": \"suggest_categorical\",\n",
    "            \"choices\": choices,\n",
    "            \"left\": left,\n",
    "            \"right\": right,\n",
    "        })\n",
    "    else:\n",
    "        print(f\"searched={searched}\", file=sys.stderr)\n",
    "        print(f\"pattern was matched but options are incorrect.\", file=sys.stderr)\n",
    "\n",
    "print(len(variables_optimize), \"variables were found.\")\n",
    "if globals().get(\"pd\"):\n",
    "    display(pd.DataFrame(variables_optimize))\n",
    "else:\n",
    "    pprint(variables_optimize)"
   ]
  },
  {
   "cell_type": "code",
   "execution_count": 3,
   "id": "001042b9",
   "metadata": {},
   "outputs": [],
   "source": [
    "def escape(string):  # 正規表現の中でそのまま使いたい文字列をエスケープ\n",
    "    res = !echo '{string}' | sed -e 's/[]\\/$*.^[]/\\\\&/g'\n",
    "    return res[0]\n",
    "\n",
    "def escape_sed(string):  # sed の置換後の文字列用のエスケープ\n",
    "    res = !echo '{string}' | sed -e 's/[\\/&]/\\\\&/g'\n",
    "    return res[0]\n",
    "\n",
    "def read_stream(name, in_file, out_file):\n",
    "    for line in in_file:\n",
    "        print(f\"[{name}] {line.strip()}\", file=out_file)\n",
    "\n",
    "def run(cmd, name):\n",
    "    proc = Popen(cmd, stdout=PIPE, stderr=PIPE, universal_newlines=True, shell=isinstance(cmd, str))\n",
    "    stdout_thread = Thread(target=read_stream, args=(name, proc.stdout, sys.stdout))\n",
    "    stderr_thread = Thread(target=read_stream, args=(name, proc.stderr, sys.stderr))\n",
    "    stdout_thread.start()\n",
    "    stderr_thread.start()\n",
    "    proc.wait()\n",
    "    return proc\n",
    "\n",
    "def objective(trial, in_dir, work_dir):\n",
    "    n_internal_parallel = 3\n",
    "    \n",
    "    index_parallel = f\"{trial.number:04d}\"\n",
    "    print(f\"{index_parallel=}\")\n",
    "    \n",
    "    work_dir = Path(work_dir)\n",
    "    directory_input = Path(in_dir)  # 中のすべてのファイルに対して実行される\n",
    "    #parameters_changed_filename = Path(gettempdir()) / str(uuid1())\n",
    "    parameters_changed_filename = work_dir / f\"{index_parallel}_{FILENAME}\"\n",
    "    \n",
    "    run([\"mkdir\", f\"{work_dir / index_parallel}_out\"], \"mkdir\")\n",
    "    run([\"mkdir\", f\"{work_dir / index_parallel}_score\"], \"mkdir\")\n",
    "    \n",
    "    # ファイル作成\n",
    "    run(f\"cp {FILENAME} {parameters_changed_filename}\", \"cp\")\n",
    "    sed_options = [f\"-i {parameters_changed_filename}\"]\n",
    "    for variable in variables_optimize:\n",
    "        if variable[\"method\"] == \"suggest_categorical\":\n",
    "            val =  trial.suggest_categorical(variable[\"name\"], variable[\"choices\"])\n",
    "        else:\n",
    "            val = getattr(trial, variable[\"method\"])(variable[\"name\"], variable[\"min\"], variable[\"max\"], log=variable[\"log\"])\n",
    "        left = variable[\"left\"]\n",
    "        right = variable[\"right\"]\n",
    "        sed_options.append(f\"\"\"-e 's/^{escape(left)}.*{escape(right)}$/{escape_sed(left)}{val}{escape_sed(right)}/'\"\"\")\n",
    "    command_sed = f\"sed {' '.join(sed_options)}\"\n",
    "    #print(command_sed)\n",
    "    run(command_sed, \"sed\")\n",
    "    \n",
    "    # コンパイル\n",
    "    command_compile = f\"g++ {parameters_changed_filename} -std=gnu++17 -O2 -DONLINE_JUDGE -o {parameters_changed_filename}.out\"\n",
    "    #print(command_compile)\n",
    "    run(command_compile, \"compile\")\n",
    "    # 実行・採点コマンド (@ はファイル名)\n",
    "    command_exec = (\n",
    "        #f\"./a.out < ./tools/in/{i:04d}.txt > {out_file} && ./tools/target/release/vis ./tools/in/{i:04d}.txt {out_file}\"\n",
    "        #f\"../tools/target/release/tester $(pwd)/{parameters_changed_filename}.out < {directory_input}/@ 2>&1 | grep Score\"\n",
    "        #f\"../tools/target/release/tester $(pwd)/{parameters_changed_filename}.out < {directory_input}/@ 2>&1 | grep Score | sed -E s/[^0-9]+// > ./{index_parallel}_score/@;\"\n",
    "        #f\"cargo run --release --manifest-path ../tools/Cargo.toml --bin tester {directory_input}/@ $(pwd)/{parameters_changed_filename}.out 2>&1 | grep Score | sed -E s/[^0-9]+// > ./{index_parallel}_score/@;\"\n",
    "        f\"./{parameters_changed_filename}.out < {directory_input}/@ > {work_dir / index_parallel}_out/@;\"\n",
    "        f\"../tools/target/release/vis {directory_input}/@ {work_dir / index_parallel}_out/@ 2> /dev/null > {work_dir / index_parallel}_score/@;\"\n",
    "    )\n",
    "    # 並列実行 (sed はパスのディレクトリ部分を消してファイル名にしてる)\n",
    "    run(f\"find {directory_input}/* | sed 's!^.*/!!' | xargs -I@ -P {n_internal_parallel} sh -c '{command_exec}'\", \"exec\")\n",
    "    \n",
    "    # 集計\n",
    "    scores = []\n",
    "    for file_path in Path(f\"{work_dir / index_parallel}_score/\").iterdir():  \n",
    "        with open(file_path) as f:\n",
    "            scores.append(int(f.readline().strip().split()[-1]))\n",
    "    mean_score = sum(scores) / len(scores)\n",
    "    \n",
    "    # 後始末\n",
    "    run(f\"rm -rf {work_dir / index_parallel}_out\", \"rm\")\n",
    "    run(f\"rm -rf {work_dir / index_parallel}_score\", \"rm\")\n",
    "    #run(f\"rm {parameters_changed_filename}\", \"rm\")\n",
    "    run(f\"rm {parameters_changed_filename}.out\", \"rm\")\n",
    "    \n",
    "    return mean_score"
   ]
  },
  {
   "cell_type": "code",
   "execution_count": 4,
   "id": "2d2e133c",
   "metadata": {},
   "outputs": [
    {
     "name": "stderr",
     "output_type": "stream",
     "text": [
      "\u001b[32m[I 2022-08-15 21:29:04,198]\u001b[0m A new study created in RDB with name: study_4_1\u001b[0m\n"
     ]
    }
   ],
   "source": [
    "K = 4\n",
    "N_CLASS = 1\n",
    "\n",
    "in_dir = Path(f\"in_{K}_{N_CLASS}\")\n",
    "work_dir = Path(f\"work_{K}_{N_CLASS}\")\n",
    "\n",
    "study_name = f\"study_{K}_{N_CLASS}\"\n",
    "storage_path = work_dir / \"study.db\"\n",
    "storage = f\"sqlite:///{storage_path}\"\n",
    "study = optuna.create_study(storage=storage, load_if_exists=True, study_name=study_name, direction=\"maximize\")\n",
    "\n",
    "def callback(study, trial):\n",
    "    try:\n",
    "        index_parallel = f\"{trial.number:04d}\"\n",
    "        parameters_changed_filename = work_dir / f\"{index_parallel}_{FILENAME}\"\n",
    "        if study.best_value == trial.value:\n",
    "            print(f\"Updated! {study.best_value}\")\n",
    "            !cp {parameters_changed_filename} {work_dir / \"best_parameters.cpp\"}\n",
    "        !rm {parameters_changed_filename}\n",
    "    except:\n",
    "        print(\":(\")\n"
   ]
  },
  {
   "cell_type": "code",
   "execution_count": null,
   "id": "61c2901d",
   "metadata": {},
   "outputs": [
    {
     "name": "stdout",
     "output_type": "stream",
     "text": [
      "index_parallel='0000'\n"
     ]
    },
    {
     "name": "stderr",
     "output_type": "stream",
     "text": [
      "\u001b[32m[I 2022-08-15 21:32:30,490]\u001b[0m Trial 0 finished with value: 7667.61581920904 and parameters: {'kErase': 3, 'kRadius': 4, 'kAnnealingA': 7.204313001643062, 'kAnnealingB': 1.1186796568875743, 'kAnnealingStart': 7.511315781772984, 'kSkipRatio': 0.5874740828649954, 'kTargetDeterminationTrials': 3, 'kAttractionRatio': 0.028993791904302218, 'kMaxAttractionDistance': 13, 'kStartAttraction': 0.07983537831247398}. Best is trial 0 with value: 7667.61581920904.\u001b[0m\n"
     ]
    },
    {
     "name": "stdout",
     "output_type": "stream",
     "text": [
      "Updated! 7667.61581920904\n",
      "index_parallel='0001'\n"
     ]
    },
    {
     "name": "stderr",
     "output_type": "stream",
     "text": [
      "\u001b[32m[I 2022-08-15 21:35:57,496]\u001b[0m Trial 1 finished with value: 6285.54802259887 and parameters: {'kErase': 4, 'kRadius': 6, 'kAnnealingA': 13.797061964188927, 'kAnnealingB': 0.9312557239457657, 'kAnnealingStart': 5.120570934383322, 'kSkipRatio': 0.23452019455145262, 'kTargetDeterminationTrials': 2, 'kAttractionRatio': 0.022361090583348387, 'kMaxAttractionDistance': 4, 'kStartAttraction': 0.03628308459616248}. Best is trial 0 with value: 7667.61581920904.\u001b[0m\n"
     ]
    },
    {
     "name": "stdout",
     "output_type": "stream",
     "text": [
      "index_parallel='0002'\n"
     ]
    },
    {
     "name": "stderr",
     "output_type": "stream",
     "text": [
      "\u001b[32m[I 2022-08-15 21:39:24,303]\u001b[0m Trial 2 finished with value: 7025.666666666667 and parameters: {'kErase': 3, 'kRadius': 6, 'kAnnealingA': 6.056161175209862, 'kAnnealingB': 1.4143964540422553, 'kAnnealingStart': 8.28973993135961, 'kSkipRatio': 0.25194483205567664, 'kTargetDeterminationTrials': 14, 'kAttractionRatio': 0.03066854866644137, 'kMaxAttractionDistance': 8, 'kStartAttraction': 0.45159007558020076}. Best is trial 0 with value: 7667.61581920904.\u001b[0m\n"
     ]
    },
    {
     "name": "stdout",
     "output_type": "stream",
     "text": [
      "index_parallel='0003'\n"
     ]
    },
    {
     "name": "stderr",
     "output_type": "stream",
     "text": [
      "\u001b[32m[I 2022-08-15 21:42:50,805]\u001b[0m Trial 3 finished with value: 7397.3785310734465 and parameters: {'kErase': 2, 'kRadius': 2, 'kAnnealingA': -9.260133321218689, 'kAnnealingB': 0.77317199722947, 'kAnnealingStart': 44.67745065427443, 'kSkipRatio': 0.46573336003415083, 'kTargetDeterminationTrials': 3, 'kAttractionRatio': 0.42200264258816367, 'kMaxAttractionDistance': 15, 'kStartAttraction': 0.11483627469503092}. Best is trial 0 with value: 7667.61581920904.\u001b[0m\n"
     ]
    },
    {
     "name": "stdout",
     "output_type": "stream",
     "text": [
      "index_parallel='0004'\n"
     ]
    },
    {
     "name": "stderr",
     "output_type": "stream",
     "text": [
      "\u001b[32m[I 2022-08-15 21:46:17,162]\u001b[0m Trial 4 finished with value: 7414.429378531074 and parameters: {'kErase': 2, 'kRadius': 3, 'kAnnealingA': -4.62442548927439, 'kAnnealingB': 1.7951979149905677, 'kAnnealingStart': 3.469918901946488, 'kSkipRatio': 0.33137037812892356, 'kTargetDeterminationTrials': 1, 'kAttractionRatio': 0.01263335654603645, 'kMaxAttractionDistance': 8, 'kStartAttraction': 0.011447595001642878}. Best is trial 0 with value: 7667.61581920904.\u001b[0m\n"
     ]
    },
    {
     "name": "stdout",
     "output_type": "stream",
     "text": [
      "index_parallel='0005'\n"
     ]
    },
    {
     "name": "stderr",
     "output_type": "stream",
     "text": [
      "\u001b[32m[I 2022-08-15 21:49:43,198]\u001b[0m Trial 5 finished with value: 7436.050847457627 and parameters: {'kErase': 1, 'kRadius': 6, 'kAnnealingA': -9.594804663162597, 'kAnnealingB': 0.8005906211544023, 'kAnnealingStart': 25.220470362429793, 'kSkipRatio': 0.6085451957073318, 'kTargetDeterminationTrials': 1, 'kAttractionRatio': 0.40824417724042816, 'kMaxAttractionDistance': 77, 'kStartAttraction': 0.04028506307941608}. Best is trial 0 with value: 7667.61581920904.\u001b[0m\n"
     ]
    },
    {
     "name": "stdout",
     "output_type": "stream",
     "text": [
      "index_parallel='0006'\n"
     ]
    },
    {
     "name": "stderr",
     "output_type": "stream",
     "text": [
      "\u001b[32m[I 2022-08-15 21:53:09,925]\u001b[0m Trial 6 finished with value: 7451.463276836158 and parameters: {'kErase': 4, 'kRadius': 4, 'kAnnealingA': 1.9159688504247114, 'kAnnealingB': 2.7656732679846856, 'kAnnealingStart': 8.97706191218149, 'kSkipRatio': 0.7215650090898413, 'kTargetDeterminationTrials': 1, 'kAttractionRatio': 0.017662954665262996, 'kMaxAttractionDistance': 22, 'kStartAttraction': 0.358377729200856}. Best is trial 0 with value: 7667.61581920904.\u001b[0m\n"
     ]
    },
    {
     "name": "stdout",
     "output_type": "stream",
     "text": [
      "index_parallel='0007'\n"
     ]
    },
    {
     "name": "stderr",
     "output_type": "stream",
     "text": [
      "\u001b[32m[I 2022-08-15 21:56:36,641]\u001b[0m Trial 7 finished with value: 7322.446327683616 and parameters: {'kErase': 2, 'kRadius': 5, 'kAnnealingA': -6.065655044168093, 'kAnnealingB': 1.739930761359291, 'kAnnealingStart': 4.309975557245662, 'kSkipRatio': 0.2878058093563416, 'kTargetDeterminationTrials': 1, 'kAttractionRatio': 0.015619398357033147, 'kMaxAttractionDistance': 6, 'kStartAttraction': 0.2870697344135165}. Best is trial 0 with value: 7667.61581920904.\u001b[0m\n"
     ]
    },
    {
     "name": "stdout",
     "output_type": "stream",
     "text": [
      "index_parallel='0008'\n"
     ]
    },
    {
     "name": "stderr",
     "output_type": "stream",
     "text": [
      "\u001b[32m[I 2022-08-15 22:00:03,395]\u001b[0m Trial 8 finished with value: 5821.762711864407 and parameters: {'kErase': 5, 'kRadius': 6, 'kAnnealingA': 2.1705918893182172, 'kAnnealingB': 0.21349872929631786, 'kAnnealingStart': 6.006830865016621, 'kSkipRatio': 0.2995467330080913, 'kTargetDeterminationTrials': 1, 'kAttractionRatio': 0.28934271824225244, 'kMaxAttractionDistance': 16, 'kStartAttraction': 0.0029131168060325383}. Best is trial 0 with value: 7667.61581920904.\u001b[0m\n"
     ]
    },
    {
     "name": "stdout",
     "output_type": "stream",
     "text": [
      "index_parallel='0009'\n"
     ]
    },
    {
     "name": "stderr",
     "output_type": "stream",
     "text": [
      "\u001b[32m[I 2022-08-15 22:03:30,193]\u001b[0m Trial 9 finished with value: 6750.35593220339 and parameters: {'kErase': 5, 'kRadius': 4, 'kAnnealingA': 4.11002388011644, 'kAnnealingB': 2.5518153935921952, 'kAnnealingStart': 12.149092034037906, 'kSkipRatio': 0.6155041751600103, 'kTargetDeterminationTrials': 4, 'kAttractionRatio': 0.01067039443188975, 'kMaxAttractionDistance': 74, 'kStartAttraction': 0.09191544695587761}. Best is trial 0 with value: 7667.61581920904.\u001b[0m\n"
     ]
    },
    {
     "name": "stdout",
     "output_type": "stream",
     "text": [
      "index_parallel='0010'\n"
     ]
    },
    {
     "name": "stderr",
     "output_type": "stream",
     "text": [
      "\u001b[32m[I 2022-08-15 22:06:56,723]\u001b[0m Trial 10 finished with value: 7288.1016949152545 and parameters: {'kErase': 3, 'kRadius': 3, 'kAnnealingA': 12.072485124972197, 'kAnnealingB': 0.25210198894984914, 'kAnnealingStart': 1.1246717184890418, 'kSkipRatio': 0.4599248856315987, 'kTargetDeterminationTrials': 10, 'kAttractionRatio': 0.09680005792123768, 'kMaxAttractionDistance': 35, 'kStartAttraction': 0.0012905299826559407}. Best is trial 0 with value: 7667.61581920904.\u001b[0m\n"
     ]
    },
    {
     "name": "stdout",
     "output_type": "stream",
     "text": [
      "index_parallel='0011'\n"
     ]
    },
    {
     "name": "stderr",
     "output_type": "stream",
     "text": [
      "\u001b[32m[I 2022-08-15 22:10:23,785]\u001b[0m Trial 11 finished with value: 7143.0282485875705 and parameters: {'kErase': 4, 'kRadius': 4, 'kAnnealingA': 8.300148423543195, 'kAnnealingB': 2.83090366979514, 'kAnnealingStart': 16.021450930757645, 'kSkipRatio': 0.7870122078065844, 'kTargetDeterminationTrials': 5, 'kAttractionRatio': 0.055478363439555915, 'kMaxAttractionDistance': 28, 'kStartAttraction': 0.5121089309774037}. Best is trial 0 with value: 7667.61581920904.\u001b[0m\n"
     ]
    },
    {
     "name": "stdout",
     "output_type": "stream",
     "text": [
      "index_parallel='0012'\n"
     ]
    },
    {
     "name": "stderr",
     "output_type": "stream",
     "text": [
      "\u001b[32m[I 2022-08-15 22:13:50,744]\u001b[0m Trial 12 finished with value: 7410.011299435028 and parameters: {'kErase': 4, 'kRadius': 3, 'kAnnealingA': -1.0169782660381266, 'kAnnealingB': 2.3577811803485353, 'kAnnealingStart': 2.0970759470340616, 'kSkipRatio': 0.7759907831132135, 'kTargetDeterminationTrials': 2, 'kAttractionRatio': 0.055075500877544904, 'kMaxAttractionDistance': 30, 'kStartAttraction': 0.1888930758208337}. Best is trial 0 with value: 7667.61581920904.\u001b[0m\n"
     ]
    },
    {
     "name": "stdout",
     "output_type": "stream",
     "text": [
      "index_parallel='0013'\n"
     ]
    },
    {
     "name": "stderr",
     "output_type": "stream",
     "text": [
      "\u001b[32m[I 2022-08-15 22:17:17,604]\u001b[0m Trial 13 finished with value: 5566.988700564972 and parameters: {'kErase': 4, 'kRadius': 5, 'kAnnealingA': 8.550192757230207, 'kAnnealingB': 2.112328363206907, 'kAnnealingStart': 98.48016859313161, 'kSkipRatio': 0.6659029342674088, 'kTargetDeterminationTrials': 7, 'kAttractionRatio': 0.13503031185526207, 'kMaxAttractionDistance': 14, 'kStartAttraction': 0.00688385497361244}. Best is trial 0 with value: 7667.61581920904.\u001b[0m\n"
     ]
    },
    {
     "name": "stdout",
     "output_type": "stream",
     "text": [
      "index_parallel='0014'\n"
     ]
    },
    {
     "name": "stderr",
     "output_type": "stream",
     "text": [
      "\u001b[32m[I 2022-08-15 22:20:44,321]\u001b[0m Trial 14 finished with value: 7430.135593220339 and parameters: {'kErase': 3, 'kRadius': 5, 'kAnnealingA': -1.235740092484427, 'kAnnealingB': 1.2520830757496537, 'kAnnealingStart': 20.8158417057824, 'kSkipRatio': 0.6896742920196882, 'kTargetDeterminationTrials': 2, 'kAttractionRatio': 0.037379930785243744, 'kMaxAttractionDistance': 23, 'kStartAttraction': 0.8454507820088656}. Best is trial 0 with value: 7667.61581920904.\u001b[0m\n"
     ]
    },
    {
     "name": "stdout",
     "output_type": "stream",
     "text": [
      "index_parallel='0015'\n"
     ]
    },
    {
     "name": "stderr",
     "output_type": "stream",
     "text": [
      "\u001b[32m[I 2022-08-15 22:24:11,209]\u001b[0m Trial 15 finished with value: 6831.186440677966 and parameters: {'kErase': 5, 'kRadius': 4, 'kAnnealingA': 9.869830422992687, 'kAnnealingB': 2.8452796918323218, 'kAnnealingStart': 2.641818063878305, 'kSkipRatio': 0.5423174608283383, 'kTargetDeterminationTrials': 20, 'kAttractionRatio': 0.02229329000776843, 'kMaxAttractionDistance': 49, 'kStartAttraction': 0.08350267360878681}. Best is trial 0 with value: 7667.61581920904.\u001b[0m\n"
     ]
    },
    {
     "name": "stdout",
     "output_type": "stream",
     "text": [
      "index_parallel='0016'\n"
     ]
    },
    {
     "name": "stderr",
     "output_type": "stream",
     "text": [
      "\u001b[32m[I 2022-08-15 22:27:37,583]\u001b[0m Trial 16 finished with value: 7450.163841807909 and parameters: {'kErase': 1, 'kRadius': 2, 'kAnnealingA': -14.308221928857563, 'kAnnealingB': 2.004720409928605, 'kAnnealingStart': 7.675384876296268, 'kSkipRatio': 0.7144758560464026, 'kTargetDeterminationTrials': 3, 'kAttractionRatio': 0.16484589152774687, 'kMaxAttractionDistance': 11, 'kStartAttraction': 0.014941876241289731}. Best is trial 0 with value: 7667.61581920904.\u001b[0m\n"
     ]
    },
    {
     "name": "stdout",
     "output_type": "stream",
     "text": [
      "index_parallel='0017'\n"
     ]
    },
    {
     "name": "stderr",
     "output_type": "stream",
     "text": [
      "\u001b[32m[I 2022-08-15 22:31:04,531]\u001b[0m Trial 17 finished with value: 6267.813559322034 and parameters: {'kErase': 4, 'kRadius': 3, 'kAnnealingA': 2.8571695671403905, 'kAnnealingB': 1.0913711394682217, 'kAnnealingStart': 37.69287649811016, 'kSkipRatio': 0.5810546500898599, 'kTargetDeterminationTrials': 2, 'kAttractionRatio': 0.045220491708972015, 'kMaxAttractionDistance': 51, 'kStartAttraction': 0.20264076083018207}. Best is trial 0 with value: 7667.61581920904.\u001b[0m\n"
     ]
    },
    {
     "name": "stdout",
     "output_type": "stream",
     "text": [
      "index_parallel='0018'\n"
     ]
    },
    {
     "name": "stderr",
     "output_type": "stream",
     "text": [
      "\u001b[32m[I 2022-08-15 22:34:31,326]\u001b[0m Trial 18 finished with value: 7373.344632768361 and parameters: {'kErase': 3, 'kRadius': 4, 'kAnnealingA': 6.064011546451967, 'kAnnealingB': 0.5435044503222818, 'kAnnealingStart': 12.322585211877193, 'kSkipRatio': 0.41431342888782563, 'kTargetDeterminationTrials': 7, 'kAttractionRatio': 0.022063200180200967, 'kMaxAttractionDistance': 20, 'kStartAttraction': 0.060274785474823386}. Best is trial 0 with value: 7667.61581920904.\u001b[0m\n"
     ]
    },
    {
     "name": "stdout",
     "output_type": "stream",
     "text": [
      "index_parallel='0019'\n"
     ]
    },
    {
     "name": "stderr",
     "output_type": "stream",
     "text": [
      "\u001b[32m[I 2022-08-15 22:37:58,328]\u001b[0m Trial 19 finished with value: 7444.141242937853 and parameters: {'kErase': 3, 'kRadius': 5, 'kAnnealingA': 0.8109584997229345, 'kAnnealingB': 1.5240595899261902, 'kAnnealingStart': 1.932909841805949, 'kSkipRatio': 0.7326630365259232, 'kTargetDeterminationTrials': 5, 'kAttractionRatio': 0.07593993946473028, 'kMaxAttractionDistance': 10, 'kStartAttraction': 0.018126049629625125}. Best is trial 0 with value: 7667.61581920904.\u001b[0m\n"
     ]
    },
    {
     "name": "stdout",
     "output_type": "stream",
     "text": [
      "index_parallel='0020'\n"
     ]
    },
    {
     "name": "stderr",
     "output_type": "stream",
     "text": [
      "\u001b[32m[I 2022-08-15 22:41:24,851]\u001b[0m Trial 20 finished with value: 7405.25988700565 and parameters: {'kErase': 2, 'kRadius': 4, 'kAnnealingA': -3.3314721015167454, 'kAnnealingB': 2.411295804623066, 'kAnnealingStart': 1.0436182905997702, 'kSkipRatio': 0.6490864806872807, 'kTargetDeterminationTrials': 3, 'kAttractionRatio': 0.019666955758336224, 'kMaxAttractionDistance': 5, 'kStartAttraction': 0.7600679964522464}. Best is trial 0 with value: 7667.61581920904.\u001b[0m\n"
     ]
    },
    {
     "name": "stdout",
     "output_type": "stream",
     "text": [
      "index_parallel='0021'\n"
     ]
    },
    {
     "name": "stderr",
     "output_type": "stream",
     "text": [
      "\u001b[32m[I 2022-08-15 22:44:51,213]\u001b[0m Trial 21 finished with value: 7591.604519774011 and parameters: {'kErase': 1, 'kRadius': 2, 'kAnnealingA': -13.877174241580887, 'kAnnealingB': 1.979246980959099, 'kAnnealingStart': 8.219078446077928, 'kSkipRatio': 0.6956938281100559, 'kTargetDeterminationTrials': 3, 'kAttractionRatio': 0.18636681318241535, 'kMaxAttractionDistance': 11, 'kStartAttraction': 0.01357168375049909}. Best is trial 0 with value: 7667.61581920904.\u001b[0m\n"
     ]
    },
    {
     "name": "stdout",
     "output_type": "stream",
     "text": [
      "index_parallel='0022'\n"
     ]
    },
    {
     "name": "stderr",
     "output_type": "stream",
     "text": [
      "\u001b[32m[I 2022-08-15 22:48:17,539]\u001b[0m Trial 22 finished with value: 7354.056497175141 and parameters: {'kErase': 1, 'kRadius': 2, 'kAnnealingA': -13.290763586685307, 'kAnnealingB': 2.142513564140695, 'kAnnealingStart': 9.56956420662935, 'kSkipRatio': 0.551414689981647, 'kTargetDeterminationTrials': 2, 'kAttractionRatio': 0.7281608880713586, 'kMaxAttractionDistance': 12, 'kStartAttraction': 0.006905175498635046}. Best is trial 0 with value: 7667.61581920904.\u001b[0m\n"
     ]
    },
    {
     "name": "stdout",
     "output_type": "stream",
     "text": [
      "index_parallel='0023'\n"
     ]
    },
    {
     "name": "stderr",
     "output_type": "stream",
     "text": [
      "\u001b[32m[I 2022-08-15 22:51:43,999]\u001b[0m Trial 23 finished with value: 7740.5084745762715 and parameters: {'kErase': 2, 'kRadius': 3, 'kAnnealingA': 6.039337149474936, 'kAnnealingB': 2.9623728436675503, 'kAnnealingStart': 6.280394938872875, 'kSkipRatio': 0.7408088237787673, 'kTargetDeterminationTrials': 4, 'kAttractionRatio': 0.24258045965954508, 'kMaxAttractionDistance': 21, 'kStartAttraction': 0.023537331299876934}. Best is trial 23 with value: 7740.5084745762715.\u001b[0m\n"
     ]
    },
    {
     "name": "stdout",
     "output_type": "stream",
     "text": [
      "Updated! 7740.5084745762715\n",
      "index_parallel='0024'\n"
     ]
    },
    {
     "name": "stderr",
     "output_type": "stream",
     "text": [
      "\u001b[32m[I 2022-08-15 22:55:10,603]\u001b[0m Trial 24 finished with value: 7808.723163841808 and parameters: {'kErase': 2, 'kRadius': 2, 'kAnnealingA': 6.036470945704972, 'kAnnealingB': 1.7484549318196625, 'kAnnealingStart': 3.3564162866767013, 'kSkipRatio': 0.6563736850211153, 'kTargetDeterminationTrials': 4, 'kAttractionRatio': 0.20758510903348323, 'kMaxAttractionDistance': 8, 'kStartAttraction': 0.02661446104701126}. Best is trial 24 with value: 7808.723163841808.\u001b[0m\n"
     ]
    },
    {
     "name": "stdout",
     "output_type": "stream",
     "text": [
      "Updated! 7808.723163841808\n",
      "index_parallel='0025'\n"
     ]
    },
    {
     "name": "stderr",
     "output_type": "stream",
     "text": [
      "\u001b[32m[I 2022-08-15 22:58:37,243]\u001b[0m Trial 25 finished with value: 7794.152542372882 and parameters: {'kErase': 2, 'kRadius': 3, 'kAnnealingA': 5.824331033813955, 'kAnnealingB': 0.5057744653826066, 'kAnnealingStart': 3.4175013450538714, 'kSkipRatio': 0.5218944886223723, 'kTargetDeterminationTrials': 7, 'kAttractionRatio': 0.23285175303595557, 'kMaxAttractionDistance': 7, 'kStartAttraction': 0.027919942382277782}. Best is trial 24 with value: 7808.723163841808.\u001b[0m\n"
     ]
    },
    {
     "name": "stdout",
     "output_type": "stream",
     "text": [
      "index_parallel='0026'\n"
     ]
    },
    {
     "name": "stderr",
     "output_type": "stream",
     "text": [
      "\u001b[32m[I 2022-08-15 23:02:03,799]\u001b[0m Trial 26 finished with value: 7663.2316384180795 and parameters: {'kErase': 2, 'kRadius': 3, 'kAnnealingA': 11.132673035240488, 'kAnnealingB': 2.975349011452447, 'kAnnealingStart': 3.353442126622117, 'kSkipRatio': 0.3905336102777461, 'kTargetDeterminationTrials': 9, 'kAttractionRatio': 0.258271270265916, 'kMaxAttractionDistance': 6, 'kStartAttraction': 0.02435092279509325}. Best is trial 24 with value: 7808.723163841808.\u001b[0m\n"
     ]
    },
    {
     "name": "stdout",
     "output_type": "stream",
     "text": [
      "index_parallel='0027'\n"
     ]
    },
    {
     "name": "stderr",
     "output_type": "stream",
     "text": [
      "\u001b[32m[I 2022-08-15 23:05:30,475]\u001b[0m Trial 27 finished with value: 7199.316384180791 and parameters: {'kErase': 2, 'kRadius': 2, 'kAnnealingA': 4.5551045510724215, 'kAnnealingB': 0.38465808786110883, 'kAnnealingStart': 1.4991330176959319, 'kSkipRatio': 0.5080971625524696, 'kTargetDeterminationTrials': 5, 'kAttractionRatio': 0.8891030597516387, 'kMaxAttractionDistance': 4, 'kStartAttraction': 0.007820667641431186}. Best is trial 24 with value: 7808.723163841808.\u001b[0m\n"
     ]
    },
    {
     "name": "stdout",
     "output_type": "stream",
     "text": [
      "index_parallel='0028'\n"
     ]
    },
    {
     "name": "stderr",
     "output_type": "stream",
     "text": [
      "\u001b[32m[I 2022-08-15 23:08:57,335]\u001b[0m Trial 28 finished with value: 7656.186440677966 and parameters: {'kErase': 2, 'kRadius': 3, 'kAnnealingA': 13.97886377962677, 'kAnnealingB': 0.06305131156222565, 'kAnnealingStart': 3.3491549667524576, 'kSkipRatio': 0.7543254266530678, 'kTargetDeterminationTrials': 7, 'kAttractionRatio': 0.40469898654335945, 'kMaxAttractionDistance': 8, 'kStartAttraction': 0.003684498017927469}. Best is trial 24 with value: 7808.723163841808.\u001b[0m\n"
     ]
    },
    {
     "name": "stdout",
     "output_type": "stream",
     "text": [
      "index_parallel='0029'\n"
     ]
    },
    {
     "name": "stderr",
     "output_type": "stream",
     "text": [
      "\u001b[32m[I 2022-08-15 23:12:23,467]\u001b[0m Trial 29 finished with value: 7743.175141242938 and parameters: {'kErase': 1, 'kRadius': 3, 'kAnnealingA': 6.682140175248863, 'kAnnealingB': 0.5830231656875688, 'kAnnealingStart': 5.38424605121291, 'kSkipRatio': 0.6602674594806319, 'kTargetDeterminationTrials': 11, 'kAttractionRatio': 0.11053199462086037, 'kMaxAttractionDistance': 6, 'kStartAttraction': 0.043232997468929966}. Best is trial 24 with value: 7808.723163841808.\u001b[0m\n"
     ]
    },
    {
     "name": "stdout",
     "output_type": "stream",
     "text": [
      "index_parallel='0030'\n"
     ]
    },
    {
     "name": "stderr",
     "output_type": "stream",
     "text": [
      "\u001b[32m[I 2022-08-15 23:15:49,715]\u001b[0m Trial 30 finished with value: 7783.864406779661 and parameters: {'kErase': 1, 'kRadius': 2, 'kAnnealingA': 8.05746237134448, 'kAnnealingB': 0.5728659293937486, 'kAnnealingStart': 4.549516057679854, 'kSkipRatio': 0.6412356165649123, 'kTargetDeterminationTrials': 14, 'kAttractionRatio': 0.11048221687644057, 'kMaxAttractionDistance': 6, 'kStartAttraction': 0.05197750001264074}. Best is trial 24 with value: 7808.723163841808.\u001b[0m\n"
     ]
    },
    {
     "name": "stdout",
     "output_type": "stream",
     "text": [
      "index_parallel='0031'\n"
     ]
    },
    {
     "name": "stderr",
     "output_type": "stream",
     "text": [
      "\u001b[32m[I 2022-08-15 23:19:15,988]\u001b[0m Trial 31 finished with value: 7833.8418079096045 and parameters: {'kErase': 1, 'kRadius': 2, 'kAnnealingA': 8.080536461398836, 'kAnnealingB': 0.5699453261220876, 'kAnnealingStart': 4.76036808065819, 'kSkipRatio': 0.6460378188887554, 'kTargetDeterminationTrials': 16, 'kAttractionRatio': 0.10864938878358521, 'kMaxAttractionDistance': 6, 'kStartAttraction': 0.05511993425990082}. Best is trial 31 with value: 7833.8418079096045.\u001b[0m\n"
     ]
    },
    {
     "name": "stdout",
     "output_type": "stream",
     "text": [
      "Updated! 7833.8418079096045\n",
      "index_parallel='0032'\n"
     ]
    },
    {
     "name": "stderr",
     "output_type": "stream",
     "text": [
      "\u001b[32m[I 2022-08-15 23:22:42,143]\u001b[0m Trial 32 finished with value: 7639.497175141243 and parameters: {'kErase': 1, 'kRadius': 2, 'kAnnealingA': 9.878504742688692, 'kAnnealingB': 0.5539108493693609, 'kAnnealingStart': 2.5164880111421093, 'kSkipRatio': 0.6317084649737816, 'kTargetDeterminationTrials': 20, 'kAttractionRatio': 0.07508498832454526, 'kMaxAttractionDistance': 5, 'kStartAttraction': 0.059994071075552304}. Best is trial 31 with value: 7833.8418079096045.\u001b[0m\n"
     ]
    },
    {
     "name": "stdout",
     "output_type": "stream",
     "text": [
      "index_parallel='0033'\n"
     ]
    },
    {
     "name": "stderr",
     "output_type": "stream",
     "text": [
      "\u001b[32m[I 2022-08-15 23:26:08,289]\u001b[0m Trial 33 finished with value: 7446.09604519774 and parameters: {'kErase': 1, 'kRadius': 2, 'kAnnealingA': 12.464162930378384, 'kAnnealingB': 0.9549876264332426, 'kAnnealingStart': 4.546544144449797, 'kSkipRatio': 0.5685327026246042, 'kTargetDeterminationTrials': 15, 'kAttractionRatio': 0.175711733373039, 'kMaxAttractionDistance': 4, 'kStartAttraction': 0.13894215779028798}. Best is trial 31 with value: 7833.8418079096045.\u001b[0m\n"
     ]
    },
    {
     "name": "stdout",
     "output_type": "stream",
     "text": [
      "index_parallel='0034'\n"
     ]
    },
    {
     "name": "stderr",
     "output_type": "stream",
     "text": [
      "\u001b[32m[I 2022-08-15 23:29:34,329]\u001b[0m Trial 34 finished with value: 7621.310734463277 and parameters: {'kErase': 1, 'kRadius': 2, 'kAnnealingA': 4.3021729256708925, 'kAnnealingB': 1.4111659696053522, 'kAnnealingStart': 1.571594083080527, 'kSkipRatio': 0.5256369180567764, 'kTargetDeterminationTrials': 14, 'kAttractionRatio': 0.1365185062054437, 'kMaxAttractionDistance': 8, 'kStartAttraction': 0.05138789163189958}. Best is trial 31 with value: 7833.8418079096045.\u001b[0m\n"
     ]
    },
    {
     "name": "stdout",
     "output_type": "stream",
     "text": [
      "index_parallel='0035'\n"
     ]
    },
    {
     "name": "stderr",
     "output_type": "stream",
     "text": [
      "\u001b[32m[I 2022-08-15 23:33:00,771]\u001b[0m Trial 35 finished with value: 7696.45197740113 and parameters: {'kErase': 2, 'kRadius': 2, 'kAnnealingA': 8.333949314235682, 'kAnnealingB': 0.7297874341518509, 'kAnnealingStart': 3.8098317770133643, 'kSkipRatio': 0.4794157988440171, 'kTargetDeterminationTrials': 12, 'kAttractionRatio': 0.07747124272840453, 'kMaxAttractionDistance': 5, 'kStartAttraction': 0.030658073060042902}. Best is trial 31 with value: 7833.8418079096045.\u001b[0m\n"
     ]
    },
    {
     "name": "stdout",
     "output_type": "stream",
     "text": [
      "index_parallel='0036'\n"
     ]
    },
    {
     "name": "stderr",
     "output_type": "stream",
     "text": [
      "\u001b[32m[I 2022-08-15 23:36:26,693]\u001b[0m Trial 36 finished with value: 7803.395480225989 and parameters: {'kErase': 1, 'kRadius': 2, 'kAnnealingA': 14.77669148913386, 'kAnnealingB': 1.0049382304847378, 'kAnnealingStart': 2.771249372773307, 'kSkipRatio': 0.5951161667352749, 'kTargetDeterminationTrials': 16, 'kAttractionRatio': 0.3291412085679493, 'kMaxAttractionDistance': 9, 'kStartAttraction': 0.03163720433400086}. Best is trial 31 with value: 7833.8418079096045.\u001b[0m\n"
     ]
    },
    {
     "name": "stdout",
     "output_type": "stream",
     "text": [
      "index_parallel='0037'\n"
     ]
    },
    {
     "name": "stderr",
     "output_type": "stream",
     "text": [
      "\u001b[32m[I 2022-08-15 23:39:53,231]\u001b[0m Trial 37 finished with value: 7733.531073446327 and parameters: {'kErase': 2, 'kRadius': 2, 'kAnnealingA': 14.740224206534348, 'kAnnealingB': 1.1469210709514643, 'kAnnealingStart': 2.6391695718059887, 'kSkipRatio': 0.5896174488465487, 'kTargetDeterminationTrials': 17, 'kAttractionRatio': 0.3337276126759592, 'kMaxAttractionDistance': 9, 'kStartAttraction': 0.03239642602099938}. Best is trial 31 with value: 7833.8418079096045.\u001b[0m\n"
     ]
    },
    {
     "name": "stdout",
     "output_type": "stream",
     "text": [
      "index_parallel='0038'\n"
     ]
    },
    {
     "name": "stderr",
     "output_type": "stream",
     "text": [
      "\u001b[32m[I 2022-08-15 23:43:19,282]\u001b[0m Trial 38 finished with value: 7739.12429378531 and parameters: {'kErase': 1, 'kRadius': 3, 'kAnnealingA': 10.106330979446993, 'kAnnealingB': 0.9062206181820831, 'kAnnealingStart': 1.7424814968380382, 'kSkipRatio': 0.44035217954573125, 'kTargetDeterminationTrials': 8, 'kAttractionRatio': 0.5765510054762073, 'kMaxAttractionDistance': 7, 'kStartAttraction': 0.01984072445515144}. Best is trial 31 with value: 7833.8418079096045.\u001b[0m\n"
     ]
    },
    {
     "name": "stdout",
     "output_type": "stream",
     "text": [
      "index_parallel='0039'\n"
     ]
    },
    {
     "name": "stderr",
     "output_type": "stream",
     "text": [
      "\u001b[32m[I 2022-08-15 23:46:45,821]\u001b[0m Trial 39 finished with value: 7729.774011299435 and parameters: {'kErase': 2, 'kRadius': 2, 'kAnnealingA': 12.609620073059517, 'kAnnealingB': 1.7385824678461201, 'kAnnealingStart': 2.8662520717277804, 'kSkipRatio': 0.6047628945106331, 'kTargetDeterminationTrials': 12, 'kAttractionRatio': 0.21970855408123766, 'kMaxAttractionDistance': 7, 'kStartAttraction': 0.009731679355251571}. Best is trial 31 with value: 7833.8418079096045.\u001b[0m\n"
     ]
    },
    {
     "name": "stdout",
     "output_type": "stream",
     "text": [
      "index_parallel='0040'\n"
     ]
    },
    {
     "name": "stderr",
     "output_type": "stream",
     "text": [
      "\u001b[32m[I 2022-08-15 23:50:11,893]\u001b[0m Trial 40 finished with value: 7932.593220338983 and parameters: {'kErase': 1, 'kRadius': 3, 'kAnnealingA': 5.076245218545771, 'kAnnealingB': 1.569318278547621, 'kAnnealingStart': 5.831049040428047, 'kSkipRatio': 0.5100722270795812, 'kTargetDeterminationTrials': 4, 'kAttractionRatio': 0.5090524487942935, 'kMaxAttractionDistance': 17, 'kStartAttraction': 0.11034324658952853}. Best is trial 40 with value: 7932.593220338983.\u001b[0m\n"
     ]
    },
    {
     "name": "stdout",
     "output_type": "stream",
     "text": [
      "Updated! 7932.593220338983\n",
      "index_parallel='0041'\n"
     ]
    },
    {
     "name": "stderr",
     "output_type": "stream",
     "text": [
      "\u001b[32m[I 2022-08-15 23:53:38,262]\u001b[0m Trial 41 finished with value: 7806.994350282486 and parameters: {'kErase': 1, 'kRadius': 3, 'kAnnealingA': 5.344356364639569, 'kAnnealingB': 1.5604214518844999, 'kAnnealingStart': 5.687915901860878, 'kSkipRatio': 0.5141028911011646, 'kTargetDeterminationTrials': 4, 'kAttractionRatio': 0.5369355074311641, 'kMaxAttractionDistance': 15, 'kStartAttraction': 0.07934923666815884}. Best is trial 40 with value: 7932.593220338983.\u001b[0m\n"
     ]
    },
    {
     "name": "stdout",
     "output_type": "stream",
     "text": [
      "index_parallel='0042'\n"
     ]
    },
    {
     "name": "stderr",
     "output_type": "stream",
     "text": [
      "\u001b[32m[I 2022-08-15 23:57:04,485]\u001b[0m Trial 42 finished with value: 7870.056497175141 and parameters: {'kErase': 1, 'kRadius': 2, 'kAnnealingA': 3.0957231213219614, 'kAnnealingB': 1.597146798439798, 'kAnnealingStart': 6.075423920888934, 'kSkipRatio': 0.49536458967885333, 'kTargetDeterminationTrials': 4, 'kAttractionRatio': 0.47827852247053093, 'kMaxAttractionDistance': 17, 'kStartAttraction': 0.12578183220207115}. Best is trial 40 with value: 7932.593220338983.\u001b[0m\n"
     ]
    },
    {
     "name": "stdout",
     "output_type": "stream",
     "text": [
      "index_parallel='0043'\n"
     ]
    },
    {
     "name": "stderr",
     "output_type": "stream",
     "text": [
      "\u001b[32m[I 2022-08-16 00:00:30,575]\u001b[0m Trial 43 finished with value: 7866.322033898305 and parameters: {'kErase': 1, 'kRadius': 3, 'kAnnealingA': 3.5915152325450554, 'kAnnealingB': 1.573563549065885, 'kAnnealingStart': 6.491095620914473, 'kSkipRatio': 0.3656264246905635, 'kTargetDeterminationTrials': 4, 'kAttractionRatio': 0.5219666923462606, 'kMaxAttractionDistance': 17, 'kStartAttraction': 0.12590071020053}. Best is trial 40 with value: 7932.593220338983.\u001b[0m\n"
     ]
    },
    {
     "name": "stdout",
     "output_type": "stream",
     "text": [
      "index_parallel='0044'\n"
     ]
    },
    {
     "name": "stderr",
     "output_type": "stream",
     "text": [
      "\u001b[32m[I 2022-08-16 00:03:56,940]\u001b[0m Trial 44 finished with value: 7727.497175141243 and parameters: {'kErase': 1, 'kRadius': 2, 'kAnnealingA': 3.091249558252334, 'kAnnealingB': 1.6398742132191788, 'kAnnealingStart': 11.725739349755054, 'kSkipRatio': 0.21861386023271837, 'kTargetDeterminationTrials': 4, 'kAttractionRatio': 0.5296329749909806, 'kMaxAttractionDistance': 16, 'kStartAttraction': 0.21343454273352871}. Best is trial 40 with value: 7932.593220338983.\u001b[0m\n"
     ]
    },
    {
     "name": "stdout",
     "output_type": "stream",
     "text": [
      "index_parallel='0045'\n"
     ]
    },
    {
     "name": "stderr",
     "output_type": "stream",
     "text": [
      "\u001b[32m[I 2022-08-16 00:07:23,274]\u001b[0m Trial 45 finished with value: 7845.389830508475 and parameters: {'kErase': 1, 'kRadius': 3, 'kAnnealingA': 0.7268211995596618, 'kAnnealingB': 1.3481611184978588, 'kAnnealingStart': 6.911558949674035, 'kSkipRatio': 0.34627641772706097, 'kTargetDeterminationTrials': 5, 'kAttractionRatio': 0.4264875920999053, 'kMaxAttractionDistance': 17, 'kStartAttraction': 0.11713379982434415}. Best is trial 40 with value: 7932.593220338983.\u001b[0m\n"
     ]
    },
    {
     "name": "stdout",
     "output_type": "stream",
     "text": [
      "index_parallel='0046'\n"
     ]
    },
    {
     "name": "stderr",
     "output_type": "stream",
     "text": [
      "\u001b[32m[I 2022-08-16 00:10:49,525]\u001b[0m Trial 46 finished with value: 7769.54802259887 and parameters: {'kErase': 1, 'kRadius': 3, 'kAnnealingA': 0.6121534721203212, 'kAnnealingB': 1.3498919672219438, 'kAnnealingStart': 7.507031214089868, 'kSkipRatio': 0.3769651918558369, 'kTargetDeterminationTrials': 5, 'kAttractionRatio': 0.6940326063108665, 'kMaxAttractionDistance': 25, 'kStartAttraction': 0.13994449218238267}. Best is trial 40 with value: 7932.593220338983.\u001b[0m\n"
     ]
    },
    {
     "name": "stdout",
     "output_type": "stream",
     "text": [
      "index_parallel='0047'\n"
     ]
    },
    {
     "name": "stderr",
     "output_type": "stream",
     "text": [
      "\u001b[32m[I 2022-08-16 00:14:15,795]\u001b[0m Trial 47 finished with value: 7976.830508474576 and parameters: {'kErase': 1, 'kRadius': 3, 'kAnnealingA': -2.563999363787644, 'kAnnealingB': 1.898783525764164, 'kAnnealingStart': 6.795032715553565, 'kSkipRatio': 0.3443130058796219, 'kTargetDeterminationTrials': 6, 'kAttractionRatio': 0.4162646515773853, 'kMaxAttractionDistance': 18, 'kStartAttraction': 0.301109894003766}. Best is trial 47 with value: 7976.830508474576.\u001b[0m\n"
     ]
    },
    {
     "name": "stdout",
     "output_type": "stream",
     "text": [
      "Updated! 7976.830508474576\n",
      "index_parallel='0048'\n"
     ]
    },
    {
     "name": "stderr",
     "output_type": "stream",
     "text": [
      "\u001b[32m[I 2022-08-16 00:17:42,028]\u001b[0m Trial 48 finished with value: 8090.779661016949 and parameters: {'kErase': 1, 'kRadius': 3, 'kAnnealingA': -2.280020303159056, 'kAnnealingB': 1.8779573283070152, 'kAnnealingStart': 7.021008330835407, 'kSkipRatio': 0.33032761759668644, 'kTargetDeterminationTrials': 6, 'kAttractionRatio': 0.42596156059804585, 'kMaxAttractionDistance': 18, 'kStartAttraction': 0.4025406836087916}. Best is trial 48 with value: 8090.779661016949.\u001b[0m\n"
     ]
    },
    {
     "name": "stdout",
     "output_type": "stream",
     "text": [
      "Updated! 8090.779661016949\n",
      "index_parallel='0049'\n"
     ]
    },
    {
     "name": "stderr",
     "output_type": "stream",
     "text": [
      "\u001b[32m[I 2022-08-16 00:21:08,456]\u001b[0m Trial 49 finished with value: 7708.389830508475 and parameters: {'kErase': 1, 'kRadius': 4, 'kAnnealingA': -6.779135365938585, 'kAnnealingB': 1.9041862006333512, 'kAnnealingStart': 16.354135924910256, 'kSkipRatio': 0.28235840441784443, 'kTargetDeterminationTrials': 6, 'kAttractionRatio': 0.4508055091291695, 'kMaxAttractionDistance': 35, 'kStartAttraction': 0.36082402274600117}. Best is trial 48 with value: 8090.779661016949.\u001b[0m\n"
     ]
    },
    {
     "name": "stdout",
     "output_type": "stream",
     "text": [
      "index_parallel='0050'\n"
     ]
    },
    {
     "name": "stderr",
     "output_type": "stream",
     "text": [
      "\u001b[32m[I 2022-08-16 00:24:34,583]\u001b[0m Trial 50 finished with value: 8007.497175141243 and parameters: {'kErase': 1, 'kRadius': 3, 'kAnnealingA': -3.0458729037136343, 'kAnnealingB': 2.1734853447473776, 'kAnnealingStart': 9.688044847450234, 'kSkipRatio': 0.3145833214051016, 'kTargetDeterminationTrials': 6, 'kAttractionRatio': 0.34417968048837294, 'kMaxAttractionDistance': 13, 'kStartAttraction': 0.5724464669707794}. Best is trial 48 with value: 8090.779661016949.\u001b[0m\n"
     ]
    },
    {
     "name": "stdout",
     "output_type": "stream",
     "text": [
      "index_parallel='0051'\n"
     ]
    },
    {
     "name": "stderr",
     "output_type": "stream",
     "text": [
      "\u001b[32m[I 2022-08-16 00:28:00,817]\u001b[0m Trial 51 finished with value: 7860.6949152542375 and parameters: {'kErase': 1, 'kRadius': 3, 'kAnnealingA': -2.295013024340459, 'kAnnealingB': 2.2375108525759297, 'kAnnealingStart': 10.438586158365704, 'kSkipRatio': 0.3210358284507056, 'kTargetDeterminationTrials': 6, 'kAttractionRatio': 0.3566181477592555, 'kMaxAttractionDistance': 13, 'kStartAttraction': 0.2985807311782714}. Best is trial 48 with value: 8090.779661016949.\u001b[0m\n"
     ]
    },
    {
     "name": "stdout",
     "output_type": "stream",
     "text": [
      "index_parallel='0052'\n"
     ]
    },
    {
     "name": "stderr",
     "output_type": "stream",
     "text": [
      "\u001b[32m[I 2022-08-16 00:31:27,082]\u001b[0m Trial 52 finished with value: 7854.819209039548 and parameters: {'kErase': 1, 'kRadius': 4, 'kAnnealingA': -4.940598091287469, 'kAnnealingB': 1.8567234709190643, 'kAnnealingStart': 14.666857957765343, 'kSkipRatio': 0.2569207846698755, 'kTargetDeterminationTrials': 6, 'kAttractionRatio': 0.7060486801201052, 'kMaxAttractionDistance': 18, 'kStartAttraction': 0.5689484036131895}. Best is trial 48 with value: 8090.779661016949.\u001b[0m\n"
     ]
    },
    {
     "name": "stdout",
     "output_type": "stream",
     "text": [
      "index_parallel='0053'\n"
     ]
    },
    {
     "name": "stderr",
     "output_type": "stream",
     "text": [
      "\u001b[32m[I 2022-08-16 00:34:53,402]\u001b[0m Trial 53 finished with value: 8026.954802259887 and parameters: {'kErase': 1, 'kRadius': 3, 'kAnnealingA': -1.1046899243970034, 'kAnnealingB': 1.6460012677556644, 'kAnnealingStart': 6.771034524072774, 'kSkipRatio': 0.34398090280730387, 'kTargetDeterminationTrials': 8, 'kAttractionRatio': 0.8554145686617116, 'kMaxAttractionDistance': 19, 'kStartAttraction': 0.41233411500634215}. Best is trial 48 with value: 8090.779661016949.\u001b[0m\n"
     ]
    },
    {
     "name": "stdout",
     "output_type": "stream",
     "text": [
      "index_parallel='0054'\n"
     ]
    },
    {
     "name": "stderr",
     "output_type": "stream",
     "text": [
      "\u001b[32m[I 2022-08-16 00:38:19,941]\u001b[0m Trial 54 finished with value: 8010.627118644068 and parameters: {'kErase': 1, 'kRadius': 4, 'kAnnealingA': -0.9695343929389749, 'kAnnealingB': 2.5936863304326874, 'kAnnealingStart': 9.033353575480389, 'kSkipRatio': 0.3174282434381391, 'kTargetDeterminationTrials': 8, 'kAttractionRatio': 0.846679808220032, 'kMaxAttractionDistance': 25, 'kStartAttraction': 0.42420725053767017}. Best is trial 48 with value: 8090.779661016949.\u001b[0m\n"
     ]
    },
    {
     "name": "stdout",
     "output_type": "stream",
     "text": [
      "index_parallel='0055'\n"
     ]
    },
    {
     "name": "stderr",
     "output_type": "stream",
     "text": [
      "\u001b[32m[I 2022-08-16 00:41:45,906]\u001b[0m Trial 55 finished with value: 8022.25988700565 and parameters: {'kErase': 1, 'kRadius': 4, 'kAnnealingA': -3.414753214097252, 'kAnnealingB': 2.6506625778193875, 'kAnnealingStart': 9.266058735539126, 'kSkipRatio': 0.3095638554735451, 'kTargetDeterminationTrials': 9, 'kAttractionRatio': 0.8432919358352158, 'kMaxAttractionDistance': 25, 'kStartAttraction': 0.6436871244306718}. Best is trial 48 with value: 8090.779661016949.\u001b[0m\n"
     ]
    },
    {
     "name": "stdout",
     "output_type": "stream",
     "text": [
      "index_parallel='0056'\n"
     ]
    },
    {
     "name": "stderr",
     "output_type": "stream",
     "text": [
      "\u001b[32m[I 2022-08-16 00:45:12,248]\u001b[0m Trial 56 finished with value: 7835.683615819209 and parameters: {'kErase': 1, 'kRadius': 4, 'kAnnealingA': -7.24306746120452, 'kAnnealingB': 2.6596137560892186, 'kAnnealingStart': 20.150666602621328, 'kSkipRatio': 0.31074042423385856, 'kTargetDeterminationTrials': 9, 'kAttractionRatio': 0.8896143019238754, 'kMaxAttractionDistance': 30, 'kStartAttraction': 0.6286135327628622}. Best is trial 48 with value: 8090.779661016949.\u001b[0m\n"
     ]
    },
    {
     "name": "stdout",
     "output_type": "stream",
     "text": [
      "index_parallel='0057'\n"
     ]
    },
    {
     "name": "stderr",
     "output_type": "stream",
     "text": [
      "\u001b[32m[I 2022-08-16 00:48:38,313]\u001b[0m Trial 57 finished with value: 7973.395480225989 and parameters: {'kErase': 1, 'kRadius': 5, 'kAnnealingA': -1.101958241587568, 'kAnnealingB': 2.503328772476879, 'kAnnealingStart': 9.170009532779192, 'kSkipRatio': 0.2560295290702574, 'kTargetDeterminationTrials': 8, 'kAttractionRatio': 0.643589336739088, 'kMaxAttractionDistance': 25, 'kStartAttraction': 0.41249523100032875}. Best is trial 48 with value: 8090.779661016949.\u001b[0m\n"
     ]
    },
    {
     "name": "stdout",
     "output_type": "stream",
     "text": [
      "index_parallel='0058'\n"
     ]
    },
    {
     "name": "stderr",
     "output_type": "stream",
     "text": [
      "\u001b[32m[I 2022-08-16 00:52:04,476]\u001b[0m Trial 58 finished with value: 7645.819209039548 and parameters: {'kErase': 1, 'kRadius': 4, 'kAnnealingA': -3.1329617106952306, 'kAnnealingB': 2.271871358678737, 'kAnnealingStart': 13.313796058878388, 'kSkipRatio': 0.28218252583649783, 'kTargetDeterminationTrials': 10, 'kAttractionRatio': 0.8589276714115094, 'kMaxAttractionDistance': 40, 'kStartAttraction': 0.2563450865222388}. Best is trial 48 with value: 8090.779661016949.\u001b[0m\n"
     ]
    },
    {
     "name": "stdout",
     "output_type": "stream",
     "text": [
      "index_parallel='0059'\n"
     ]
    },
    {
     "name": "stderr",
     "output_type": "stream",
     "text": [
      "\u001b[32m[I 2022-08-16 00:55:30,838]\u001b[0m Trial 59 finished with value: 7654.932203389831 and parameters: {'kErase': 2, 'kRadius': 4, 'kAnnealingA': -4.86780970062404, 'kAnnealingB': 2.6558901504600727, 'kAnnealingStart': 9.862893399818834, 'kSkipRatio': 0.34192243385341237, 'kTargetDeterminationTrials': 6, 'kAttractionRatio': 0.605284621180252, 'kMaxAttractionDistance': 21, 'kStartAttraction': 0.8933794807184842}. Best is trial 48 with value: 8090.779661016949.\u001b[0m\n"
     ]
    },
    {
     "name": "stdout",
     "output_type": "stream",
     "text": [
      "index_parallel='0060'\n"
     ]
    },
    {
     "name": "stderr",
     "output_type": "stream",
     "text": [
      "\u001b[32m[I 2022-08-16 00:58:57,790]\u001b[0m Trial 60 finished with value: 6732.016949152542 and parameters: {'kErase': 5, 'kRadius': 4, 'kAnnealingA': -8.63785349965703, 'kAnnealingB': 2.0659764728361814, 'kAnnealingStart': 8.20427295280572, 'kSkipRatio': 0.40089982593063955, 'kTargetDeterminationTrials': 8, 'kAttractionRatio': 0.2909034494557382, 'kMaxAttractionDistance': 24, 'kStartAttraction': 0.46662899067510266}. Best is trial 48 with value: 8090.779661016949.\u001b[0m\n"
     ]
    },
    {
     "name": "stdout",
     "output_type": "stream",
     "text": [
      "index_parallel='0061'\n"
     ]
    },
    {
     "name": "stderr",
     "output_type": "stream",
     "text": [
      "\u001b[32m[I 2022-08-16 01:02:23,850]\u001b[0m Trial 61 finished with value: 7826.632768361582 and parameters: {'kErase': 1, 'kRadius': 5, 'kAnnealingA': -0.7790926306674915, 'kAnnealingB': 2.482823037119664, 'kAnnealingStart': 11.11498736532443, 'kSkipRatio': 0.2533550214903674, 'kTargetDeterminationTrials': 9, 'kAttractionRatio': 0.6842050073657192, 'kMaxAttractionDistance': 28, 'kStartAttraction': 0.3842218551637819}. Best is trial 48 with value: 8090.779661016949.\u001b[0m\n"
     ]
    },
    {
     "name": "stdout",
     "output_type": "stream",
     "text": [
      "index_parallel='0062'\n"
     ]
    },
    {
     "name": "stderr",
     "output_type": "stream",
     "text": [
      "\u001b[32m[I 2022-08-16 01:05:49,834]\u001b[0m Trial 62 finished with value: 7963.887005649717 and parameters: {'kErase': 1, 'kRadius': 6, 'kAnnealingA': -2.1722800933538577, 'kAnnealingB': 2.3570954717181323, 'kAnnealingStart': 8.904875735479552, 'kSkipRatio': 0.20378449457935052, 'kTargetDeterminationTrials': 8, 'kAttractionRatio': 0.7690102577782718, 'kMaxAttractionDistance': 35, 'kStartAttraction': 0.7152990195777281}. Best is trial 48 with value: 8090.779661016949.\u001b[0m\n"
     ]
    },
    {
     "name": "stdout",
     "output_type": "stream",
     "text": [
      "index_parallel='0063'\n"
     ]
    },
    {
     "name": "stderr",
     "output_type": "stream",
     "text": [
      "\u001b[32m[I 2022-08-16 01:09:16,019]\u001b[0m Trial 63 finished with value: 7787.485875706215 and parameters: {'kErase': 1, 'kRadius': 5, 'kAnnealingA': -3.440527754134715, 'kAnnealingB': 2.596296977138817, 'kAnnealingStart': 19.71196418820091, 'kSkipRatio': 0.29959921711881593, 'kTargetDeterminationTrials': 10, 'kAttractionRatio': 0.6191459789732063, 'kMaxAttractionDistance': 19, 'kStartAttraction': 0.44364808329097255}. Best is trial 48 with value: 8090.779661016949.\u001b[0m\n"
     ]
    },
    {
     "name": "stdout",
     "output_type": "stream",
     "text": [
      "index_parallel='0064'\n"
     ]
    },
    {
     "name": "stderr",
     "output_type": "stream",
     "text": [
      "\u001b[32m[I 2022-08-16 01:12:41,912]\u001b[0m Trial 64 finished with value: 7726.836158192091 and parameters: {'kErase': 1, 'kRadius': 5, 'kAnnealingA': 1.8811492814104587, 'kAnnealingB': 2.2303358053303177, 'kAnnealingStart': 32.796381729098165, 'kSkipRatio': 0.2670978110265514, 'kTargetDeterminationTrials': 7, 'kAttractionRatio': 0.7690650729069519, 'kMaxAttractionDistance': 26, 'kStartAttraction': 0.2865858260100062}. Best is trial 48 with value: 8090.779661016949.\u001b[0m\n"
     ]
    },
    {
     "name": "stdout",
     "output_type": "stream",
     "text": [
      "index_parallel='0065'\n"
     ]
    },
    {
     "name": "stderr",
     "output_type": "stream",
     "text": [
      "\u001b[32m[I 2022-08-16 01:16:08,580]\u001b[0m Trial 65 finished with value: 7792.3615819209035 and parameters: {'kErase': 2, 'kRadius': 4, 'kAnnealingA': -0.5200566546096432, 'kAnnealingB': 2.4886159634612492, 'kAnnealingStart': 7.825919275772573, 'kSkipRatio': 0.228048872170934, 'kTargetDeterminationTrials': 12, 'kAttractionRatio': 0.3825891184000668, 'kMaxAttractionDistance': 14, 'kStartAttraction': 0.5761827052960385}. Best is trial 48 with value: 8090.779661016949.\u001b[0m\n"
     ]
    },
    {
     "name": "stdout",
     "output_type": "stream",
     "text": [
      "index_parallel='0066'\n"
     ]
    },
    {
     "name": "stderr",
     "output_type": "stream",
     "text": [
      "\u001b[32m[I 2022-08-16 01:19:34,565]\u001b[0m Trial 66 finished with value: 7898.12429378531 and parameters: {'kErase': 1, 'kRadius': 6, 'kAnnealingA': -1.8796200257350495, 'kAnnealingB': 1.9354384102377715, 'kAnnealingStart': 13.575267221882712, 'kSkipRatio': 0.3512987871487268, 'kTargetDeterminationTrials': 8, 'kAttractionRatio': 0.7876167293885696, 'kMaxAttractionDistance': 20, 'kStartAttraction': 0.4263460824150877}. Best is trial 48 with value: 8090.779661016949.\u001b[0m\n"
     ]
    },
    {
     "name": "stdout",
     "output_type": "stream",
     "text": [
      "index_parallel='0067'\n"
     ]
    },
    {
     "name": "stderr",
     "output_type": "stream",
     "text": [
      "\u001b[32m[I 2022-08-16 01:23:00,718]\u001b[0m Trial 67 finished with value: 7616.192090395481 and parameters: {'kErase': 1, 'kRadius': 4, 'kAnnealingA': -3.974528150807317, 'kAnnealingB': 2.7814784441816887, 'kAnnealingStart': 16.49574120643932, 'kSkipRatio': 0.3304761057582624, 'kTargetDeterminationTrials': 6, 'kAttractionRatio': 0.6149032116988417, 'kMaxAttractionDistance': 22, 'kStartAttraction': 0.1732592298781676}. Best is trial 48 with value: 8090.779661016949.\u001b[0m\n"
     ]
    },
    {
     "name": "stdout",
     "output_type": "stream",
     "text": [
      "index_parallel='0068'\n"
     ]
    },
    {
     "name": "stderr",
     "output_type": "stream",
     "text": [
      "\u001b[32m[I 2022-08-16 01:26:26,842]\u001b[0m Trial 68 finished with value: 7942.406779661017 and parameters: {'kErase': 1, 'kRadius': 3, 'kAnnealingA': -5.750218401229631, 'kAnnealingB': 2.1448742746939375, 'kAnnealingStart': 9.488119797690086, 'kSkipRatio': 0.43248945826495366, 'kTargetDeterminationTrials': 9, 'kAttractionRatio': 0.28958169422559077, 'kMaxAttractionDistance': 32, 'kStartAttraction': 0.3149291157028288}. Best is trial 48 with value: 8090.779661016949.\u001b[0m\n"
     ]
    },
    {
     "name": "stdout",
     "output_type": "stream",
     "text": [
      "index_parallel='0069'\n"
     ]
    },
    {
     "name": "stderr",
     "output_type": "stream",
     "text": [
      "\u001b[32m[I 2022-08-16 01:29:53,228]\u001b[0m Trial 69 finished with value: 7831.338983050848 and parameters: {'kErase': 2, 'kRadius': 3, 'kAnnealingA': -0.09071783384821797, 'kAnnealingB': 2.0394357318620546, 'kAnnealingStart': 6.878419786451489, 'kSkipRatio': 0.30470995533407175, 'kTargetDeterminationTrials': 10, 'kAttractionRatio': 0.4594404279823708, 'kMaxAttractionDistance': 12, 'kStartAttraction': 0.7005907257445032}. Best is trial 48 with value: 8090.779661016949.\u001b[0m\n"
     ]
    },
    {
     "name": "stdout",
     "output_type": "stream",
     "text": [
      "index_parallel='0070'\n"
     ]
    },
    {
     "name": "stderr",
     "output_type": "stream",
     "text": [
      "\u001b[32m[I 2022-08-16 01:33:19,458]\u001b[0m Trial 70 finished with value: 8123.598870056498 and parameters: {'kErase': 1, 'kRadius': 5, 'kAnnealingA': 1.5602344000571544, 'kAnnealingB': 2.402531416584829, 'kAnnealingStart': 5.113641231600751, 'kSkipRatio': 0.3605247770331845, 'kTargetDeterminationTrials': 7, 'kAttractionRatio': 0.6409677820668772, 'kMaxAttractionDistance': 47, 'kStartAttraction': 0.5222825553823018}. Best is trial 70 with value: 8123.598870056498.\u001b[0m\n"
     ]
    },
    {
     "name": "stdout",
     "output_type": "stream",
     "text": [
      "Updated! 8123.598870056498\n",
      "index_parallel='0071'\n"
     ]
    },
    {
     "name": "stderr",
     "output_type": "stream",
     "text": [
      "\u001b[32m[I 2022-08-16 01:36:45,650]\u001b[0m Trial 71 finished with value: 7883.542372881356 and parameters: {'kErase': 1, 'kRadius': 5, 'kAnnealingA': 1.7932315940521208, 'kAnnealingB': 2.3409558316944774, 'kAnnealingStart': 4.08701074810217, 'kSkipRatio': 0.3595931092992589, 'kTargetDeterminationTrials': 7, 'kAttractionRatio': 0.6095801563406918, 'kMaxAttractionDistance': 99, 'kStartAttraction': 0.22274282485897873}. Best is trial 70 with value: 8123.598870056498.\u001b[0m\n"
     ]
    },
    {
     "name": "stdout",
     "output_type": "stream",
     "text": [
      "index_parallel='0072'\n"
     ]
    },
    {
     "name": "stderr",
     "output_type": "stream",
     "text": [
      "\u001b[32m[I 2022-08-16 01:40:11,669]\u001b[0m Trial 72 finished with value: 7642.180790960452 and parameters: {'kErase': 1, 'kRadius': 5, 'kAnnealingA': -1.5800001323774437, 'kAnnealingB': 2.745383333659825, 'kAnnealingStart': 9.055556538905101, 'kSkipRatio': 0.382426867860594, 'kTargetDeterminationTrials': 11, 'kAttractionRatio': 0.027964590028121177, 'kMaxAttractionDistance': 45, 'kStartAttraction': 0.49830289211657636}. Best is trial 70 with value: 8123.598870056498.\u001b[0m\n"
     ]
    },
    {
     "name": "stdout",
     "output_type": "stream",
     "text": [
      "index_parallel='0073'\n"
     ]
    },
    {
     "name": "stderr",
     "output_type": "stream",
     "text": [
      "\u001b[32m[I 2022-08-16 01:43:37,766]\u001b[0m Trial 73 finished with value: 7887.830508474576 and parameters: {'kErase': 1, 'kRadius': 5, 'kAnnealingA': -2.7909530395699713, 'kAnnealingB': 2.466489562278454, 'kAnnealingStart': 5.207267919309632, 'kSkipRatio': 0.31931903009966667, 'kTargetDeterminationTrials': 7, 'kAttractionRatio': 0.6776318615795099, 'kMaxAttractionDistance': 27, 'kStartAttraction': 0.36225224437972914}. Best is trial 70 with value: 8123.598870056498.\u001b[0m\n"
     ]
    },
    {
     "name": "stdout",
     "output_type": "stream",
     "text": [
      "index_parallel='0074'\n"
     ]
    },
    {
     "name": "stderr",
     "output_type": "stream",
     "text": [
      "\u001b[32m[I 2022-08-16 01:47:03,621]\u001b[0m Trial 74 finished with value: 7223.073446327684 and parameters: {'kErase': 1, 'kRadius': 6, 'kAnnealingA': -4.238753419551038, 'kAnnealingB': 2.8547298942650943, 'kAnnealingStart': 94.30815992712088, 'kSkipRatio': 0.2852861756934523, 'kTargetDeterminationTrials': 8, 'kAttractionRatio': 0.8076429386947384, 'kMaxAttractionDistance': 55, 'kStartAttraction': 0.5896643415705557}. Best is trial 70 with value: 8123.598870056498.\u001b[0m\n"
     ]
    },
    {
     "name": "stdout",
     "output_type": "stream",
     "text": [
      "index_parallel='0075'\n"
     ]
    },
    {
     "name": "stderr",
     "output_type": "stream",
     "text": [
      "\u001b[32m[I 2022-08-16 01:50:29,999]\u001b[0m Trial 75 finished with value: 7947.135593220339 and parameters: {'kErase': 1, 'kRadius': 3, 'kAnnealingA': -1.208666397578154, 'kAnnealingB': 1.6968421279812405, 'kAnnealingStart': 7.1826527795972845, 'kSkipRatio': 0.23671434545137837, 'kTargetDeterminationTrials': 6, 'kAttractionRatio': 0.36503333783644315, 'kMaxAttractionDistance': 65, 'kStartAttraction': 0.7802724585158761}. Best is trial 70 with value: 8123.598870056498.\u001b[0m\n"
     ]
    },
    {
     "name": "stdout",
     "output_type": "stream",
     "text": [
      "index_parallel='0076'\n"
     ]
    },
    {
     "name": "stderr",
     "output_type": "stream",
     "text": [
      "\u001b[32m[I 2022-08-16 01:53:56,199]\u001b[0m Trial 76 finished with value: 7908.5084745762715 and parameters: {'kErase': 1, 'kRadius': 5, 'kAnnealingA': 1.2834424316375224, 'kAnnealingB': 1.8120962796207745, 'kAnnealingStart': 4.971574441012354, 'kSkipRatio': 0.40995191028267197, 'kTargetDeterminationTrials': 11, 'kAttractionRatio': 0.40889717153827804, 'kMaxAttractionDistance': 15, 'kStartAttraction': 0.25136929952964354}. Best is trial 70 with value: 8123.598870056498.\u001b[0m\n"
     ]
    },
    {
     "name": "stdout",
     "output_type": "stream",
     "text": [
      "index_parallel='0077'\n"
     ]
    },
    {
     "name": "stderr",
     "output_type": "stream",
     "text": [
      "\u001b[32m[I 2022-08-16 01:57:22,806]\u001b[0m Trial 77 finished with value: 7710.129943502825 and parameters: {'kErase': 2, 'kRadius': 4, 'kAnnealingA': 0.06836428320876264, 'kAnnealingB': 2.6355275706195442, 'kAnnealingStart': 10.56832610057615, 'kSkipRatio': 0.3334766654230134, 'kTargetDeterminationTrials': 5, 'kAttractionRatio': 0.5649616805490714, 'kMaxAttractionDistance': 23, 'kStartAttraction': 0.47925625301673325}. Best is trial 70 with value: 8123.598870056498.\u001b[0m\n"
     ]
    },
    {
     "name": "stdout",
     "output_type": "stream",
     "text": [
      "index_parallel='0078'\n"
     ]
    },
    {
     "name": "stderr",
     "output_type": "stream",
     "text": [
      "\u001b[32m[I 2022-08-16 02:00:48,676]\u001b[0m Trial 78 finished with value: 7785.25988700565 and parameters: {'kErase': 1, 'kRadius': 3, 'kAnnealingA': -5.59915519194419, 'kAnnealingB': 2.1772612035250174, 'kAnnealingStart': 12.12459079683216, 'kSkipRatio': 0.26699543063821307, 'kTargetDeterminationTrials': 9, 'kAttractionRatio': 0.5011944304846542, 'kMaxAttractionDistance': 42, 'kStartAttraction': 0.8992383435200805}. Best is trial 70 with value: 8123.598870056498.\u001b[0m\n"
     ]
    },
    {
     "name": "stdout",
     "output_type": "stream",
     "text": [
      "index_parallel='0079'\n"
     ]
    },
    {
     "name": "stderr",
     "output_type": "stream",
     "text": [
      "\u001b[32m[I 2022-08-16 02:04:15,526]\u001b[0m Trial 79 finished with value: 6782.689265536723 and parameters: {'kErase': 4, 'kRadius': 4, 'kAnnealingA': -2.764440168896072, 'kAnnealingB': 2.55909083815592, 'kAnnealingStart': 8.326707074811175, 'kSkipRatio': 0.374793931828918, 'kTargetDeterminationTrials': 7, 'kAttractionRatio': 0.8933465071748874, 'kMaxAttractionDistance': 19, 'kStartAttraction': 0.16845585400258686}. Best is trial 70 with value: 8123.598870056498.\u001b[0m\n"
     ]
    },
    {
     "name": "stdout",
     "output_type": "stream",
     "text": [
      "index_parallel='0080'\n"
     ]
    },
    {
     "name": "stderr",
     "output_type": "stream",
     "text": [
      "\u001b[32m[I 2022-08-16 02:07:41,868]\u001b[0m Trial 80 finished with value: 7783.011299435028 and parameters: {'kErase': 1, 'kRadius': 3, 'kAnnealingA': -4.013590684355737, 'kAnnealingB': 2.407075348118487, 'kAnnealingStart': 6.043451799824585, 'kSkipRatio': 0.322046606969236, 'kTargetDeterminationTrials': 13, 'kAttractionRatio': 0.658016878588656, 'kMaxAttractionDistance': 32, 'kStartAttraction': 0.3224621600910806}. Best is trial 70 with value: 8123.598870056498.\u001b[0m\n"
     ]
    },
    {
     "name": "stdout",
     "output_type": "stream",
     "text": [
      "index_parallel='0081'\n"
     ]
    },
    {
     "name": "stderr",
     "output_type": "stream",
     "text": [
      "\u001b[32m[I 2022-08-16 02:11:07,838]\u001b[0m Trial 81 finished with value: 7833.440677966101 and parameters: {'kErase': 1, 'kRadius': 6, 'kAnnealingA': -2.1983890223796334, 'kAnnealingB': 2.3985474532283964, 'kAnnealingStart': 8.533674885260334, 'kSkipRatio': 0.23366167536533228, 'kTargetDeterminationTrials': 7, 'kAttractionRatio': 0.7716898634637411, 'kMaxAttractionDistance': 38, 'kStartAttraction': 0.7151563615963357}. Best is trial 70 with value: 8123.598870056498.\u001b[0m\n"
     ]
    },
    {
     "name": "stdout",
     "output_type": "stream",
     "text": [
      "index_parallel='0082'\n"
     ]
    },
    {
     "name": "stderr",
     "output_type": "stream",
     "text": [
      "\u001b[32m[I 2022-08-16 02:14:33,939]\u001b[0m Trial 82 finished with value: 7912.61581920904 and parameters: {'kErase': 1, 'kRadius': 6, 'kAnnealingA': -1.437918494167979, 'kAnnealingB': 2.2943384578634736, 'kAnnealingStart': 6.937556108012923, 'kSkipRatio': 0.20091446733317345, 'kTargetDeterminationTrials': 8, 'kAttractionRatio': 0.753091452744374, 'kMaxAttractionDistance': 34, 'kStartAttraction': 0.6744635259972211}. Best is trial 70 with value: 8123.598870056498.\u001b[0m\n"
     ]
    },
    {
     "name": "stdout",
     "output_type": "stream",
     "text": [
      "index_parallel='0083'\n"
     ]
    },
    {
     "name": "stderr",
     "output_type": "stream",
     "text": [
      "\u001b[32m[I 2022-08-16 02:17:59,967]\u001b[0m Trial 83 finished with value: 7971.112994350283 and parameters: {'kErase': 1, 'kRadius': 6, 'kAnnealingA': -0.3897221774166333, 'kAnnealingB': 2.708428903976569, 'kAnnealingStart': 9.403371401456907, 'kSkipRatio': 0.21337679730101222, 'kTargetDeterminationTrials': 8, 'kAttractionRatio': 0.5547656110258925, 'kMaxAttractionDistance': 55, 'kStartAttraction': 0.5400386596718354}. Best is trial 70 with value: 8123.598870056498.\u001b[0m\n"
     ]
    },
    {
     "name": "stdout",
     "output_type": "stream",
     "text": [
      "index_parallel='0084'\n"
     ]
    },
    {
     "name": "stderr",
     "output_type": "stream",
     "text": [
      "\u001b[32m[I 2022-08-16 02:21:26,036]\u001b[0m Trial 84 finished with value: 7372.5084745762715 and parameters: {'kErase': 1, 'kRadius': 6, 'kAnnealingA': 0.06425934359568775, 'kAnnealingB': 2.906654775973966, 'kAnnealingStart': 5.3679257798868525, 'kSkipRatio': 0.2951310332233704, 'kTargetDeterminationTrials': 10, 'kAttractionRatio': 0.4463314962965892, 'kMaxAttractionDistance': 66, 'kStartAttraction': 0.0011133104829961213}. Best is trial 70 with value: 8123.598870056498.\u001b[0m\n"
     ]
    },
    {
     "name": "stdout",
     "output_type": "stream",
     "text": [
      "index_parallel='0085'\n"
     ]
    },
    {
     "name": "stderr",
     "output_type": "stream",
     "text": [
      "\u001b[32m[I 2022-08-16 02:24:52,253]\u001b[0m Trial 85 finished with value: 7930.276836158192 and parameters: {'kErase': 1, 'kRadius': 3, 'kAnnealingA': -0.6590760644344891, 'kAnnealingB': 2.4936564775229138, 'kAnnealingStart': 10.150197338491258, 'kSkipRatio': 0.2681442696529101, 'kTargetDeterminationTrials': 9, 'kAttractionRatio': 0.5540238125475127, 'kMaxAttractionDistance': 55, 'kStartAttraction': 0.4165696819106506}. Best is trial 70 with value: 8123.598870056498.\u001b[0m\n"
     ]
    },
    {
     "name": "stdout",
     "output_type": "stream",
     "text": [
      "index_parallel='0086'\n"
     ]
    },
    {
     "name": "stderr",
     "output_type": "stream",
     "text": [
      "\u001b[32m[I 2022-08-16 02:28:18,444]\u001b[0m Trial 86 finished with value: 8146.367231638418 and parameters: {'kErase': 1, 'kRadius': 5, 'kAnnealingA': 2.5080386238449477, 'kAnnealingB': 2.702650249841318, 'kAnnealingStart': 7.68811537082015, 'kSkipRatio': 0.3581106771655676, 'kTargetDeterminationTrials': 6, 'kAttractionRatio': 0.32432488831787604, 'kMaxAttractionDistance': 11, 'kStartAttraction': 0.5330779952612802}. Best is trial 86 with value: 8146.367231638418.\u001b[0m\n"
     ]
    },
    {
     "name": "stdout",
     "output_type": "stream",
     "text": [
      "Updated! 8146.367231638418\n",
      "index_parallel='0087'\n"
     ]
    },
    {
     "name": "stderr",
     "output_type": "stream",
     "text": [
      "\u001b[32m[I 2022-08-16 02:31:45,150]\u001b[0m Trial 87 finished with value: 7530.994350282486 and parameters: {'kErase': 3, 'kRadius': 5, 'kAnnealingA': 2.2475584014952386, 'kAnnealingB': 1.9772536664809537, 'kAnnealingStart': 4.018341047795806, 'kSkipRatio': 0.36119596444088115, 'kTargetDeterminationTrials': 5, 'kAttractionRatio': 0.30191599383583567, 'kMaxAttractionDistance': 11, 'kStartAttraction': 0.25114680419745916}. Best is trial 86 with value: 8146.367231638418.\u001b[0m\n"
     ]
    },
    {
     "name": "stdout",
     "output_type": "stream",
     "text": [
      "index_parallel='0088'\n"
     ]
    },
    {
     "name": "stderr",
     "output_type": "stream",
     "text": [
      "\u001b[32m[I 2022-08-16 02:35:11,336]\u001b[0m Trial 88 finished with value: 8073.146892655367 and parameters: {'kErase': 1, 'kRadius': 5, 'kAnnealingA': 0.5110542763180626, 'kAnnealingB': 2.081558735410724, 'kAnnealingStart': 6.26045031321034, 'kSkipRatio': 0.39332009701371284, 'kTargetDeterminationTrials': 6, 'kAttractionRatio': 0.25267646283158307, 'kMaxAttractionDistance': 10, 'kStartAttraction': 0.35248527418258696}. Best is trial 86 with value: 8146.367231638418.\u001b[0m\n"
     ]
    },
    {
     "name": "stdout",
     "output_type": "stream",
     "text": [
      "index_parallel='0089'\n"
     ]
    },
    {
     "name": "stderr",
     "output_type": "stream",
     "text": [
      "\u001b[32m[I 2022-08-16 02:38:37,392]\u001b[0m Trial 89 finished with value: 8024.920903954802 and parameters: {'kErase': 1, 'kRadius': 5, 'kAnnealingA': 1.139084974149473, 'kAnnealingB': 2.0838375179530133, 'kAnnealingStart': 4.642066912895318, 'kSkipRatio': 0.43276418954806417, 'kTargetDeterminationTrials': 6, 'kAttractionRatio': 0.2525728290294287, 'kMaxAttractionDistance': 10, 'kStartAttraction': 0.5233613863277672}. Best is trial 86 with value: 8146.367231638418.\u001b[0m\n"
     ]
    },
    {
     "name": "stdout",
     "output_type": "stream",
     "text": [
      "index_parallel='0090'\n"
     ]
    },
    {
     "name": "stderr",
     "output_type": "stream",
     "text": [
      "\u001b[32m[I 2022-08-16 02:42:03,602]\u001b[0m Trial 90 finished with value: 8037.344632768361 and parameters: {'kErase': 1, 'kRadius': 5, 'kAnnealingA': 2.5485983591499766, 'kAnnealingB': 2.1884645987299587, 'kAnnealingStart': 4.4899353977787255, 'kSkipRatio': 0.43035395253947173, 'kTargetDeterminationTrials': 6, 'kAttractionRatio': 0.15321142572758123, 'kMaxAttractionDistance': 10, 'kStartAttraction': 0.520250618002803}. Best is trial 86 with value: 8146.367231638418.\u001b[0m\n"
     ]
    },
    {
     "name": "stdout",
     "output_type": "stream",
     "text": [
      "index_parallel='0091'\n"
     ]
    },
    {
     "name": "stderr",
     "output_type": "stream",
     "text": [
      "\u001b[32m[I 2022-08-16 02:45:29,498]\u001b[0m Trial 91 finished with value: 7934.163841807909 and parameters: {'kErase': 1, 'kRadius': 5, 'kAnnealingA': 1.1971239995316991, 'kAnnealingB': 2.1942645830709275, 'kAnnealingStart': 3.8441796975590745, 'kSkipRatio': 0.45090745691088996, 'kTargetDeterminationTrials': 6, 'kAttractionRatio': 0.26139531559522355, 'kMaxAttractionDistance': 10, 'kStartAttraction': 0.5165349172575344}. Best is trial 86 with value: 8146.367231638418.\u001b[0m\n"
     ]
    },
    {
     "name": "stdout",
     "output_type": "stream",
     "text": [
      "index_parallel='0092'\n"
     ]
    },
    {
     "name": "stderr",
     "output_type": "stream",
     "text": [
      "\u001b[32m[I 2022-08-16 02:48:55,601]\u001b[0m Trial 92 finished with value: 8050.350282485876 and parameters: {'kErase': 1, 'kRadius': 5, 'kAnnealingA': 4.086255116032586, 'kAnnealingB': 2.0959231074340563, 'kAnnealingStart': 4.782108590077419, 'kSkipRatio': 0.4286883307388288, 'kTargetDeterminationTrials': 5, 'kAttractionRatio': 0.20217688605138004, 'kMaxAttractionDistance': 12, 'kStartAttraction': 0.631846465128922}. Best is trial 86 with value: 8146.367231638418.\u001b[0m\n"
     ]
    },
    {
     "name": "stdout",
     "output_type": "stream",
     "text": [
      "index_parallel='0093'\n"
     ]
    },
    {
     "name": "stderr",
     "output_type": "stream",
     "text": [
      "\u001b[32m[I 2022-08-16 02:52:21,617]\u001b[0m Trial 93 finished with value: 7972.536723163842 and parameters: {'kErase': 1, 'kRadius': 5, 'kAnnealingA': 3.7237653554568384, 'kAnnealingB': 2.1045160458739387, 'kAnnealingStart': 4.398838369900838, 'kSkipRatio': 0.4241429284269244, 'kTargetDeterminationTrials': 5, 'kAttractionRatio': 0.15121630894274415, 'kMaxAttractionDistance': 9, 'kStartAttraction': 0.35672379291083983}. Best is trial 86 with value: 8146.367231638418.\u001b[0m\n"
     ]
    },
    {
     "name": "stdout",
     "output_type": "stream",
     "text": [
      "index_parallel='0094'\n"
     ]
    },
    {
     "name": "stderr",
     "output_type": "stream",
     "text": [
      "\u001b[32m[I 2022-08-16 02:55:47,818]\u001b[0m Trial 94 finished with value: 7962.135593220339 and parameters: {'kErase': 1, 'kRadius': 5, 'kAnnealingA': 2.712298007646607, 'kAnnealingB': 1.9754716270144004, 'kAnnealingStart': 3.1695196336809333, 'kSkipRatio': 0.3967685549601419, 'kTargetDeterminationTrials': 5, 'kAttractionRatio': 0.19952203500952154, 'kMaxAttractionDistance': 10, 'kStartAttraction': 0.4831283852467153}. Best is trial 86 with value: 8146.367231638418.\u001b[0m\n"
     ]
    },
    {
     "name": "stdout",
     "output_type": "stream",
     "text": [
      "index_parallel='0095'\n"
     ]
    },
    {
     "name": "stderr",
     "output_type": "stream",
     "text": [
      "\u001b[32m[I 2022-08-16 02:59:14,095]\u001b[0m Trial 95 finished with value: 7981.785310734464 and parameters: {'kErase': 1, 'kRadius': 5, 'kAnnealingA': 0.6677135670220757, 'kAnnealingB': 1.82130262137313, 'kAnnealingStart': 6.206322433525478, 'kSkipRatio': 0.48806197636389553, 'kTargetDeterminationTrials': 7, 'kAttractionRatio': 0.25730369758706206, 'kMaxAttractionDistance': 12, 'kStartAttraction': 0.8030920079312374}. Best is trial 86 with value: 8146.367231638418.\u001b[0m\n"
     ]
    },
    {
     "name": "stdout",
     "output_type": "stream",
     "text": [
      "index_parallel='0096'\n"
     ]
    },
    {
     "name": "stderr",
     "output_type": "stream",
     "text": [
      "\u001b[32m[I 2022-08-16 03:02:40,308]\u001b[0m Trial 96 finished with value: 8052.531073446327 and parameters: {'kErase': 1, 'kRadius': 5, 'kAnnealingA': 2.4087748771317727, 'kAnnealingB': 2.0608347261345044, 'kAnnealingStart': 4.806855876461618, 'kSkipRatio': 0.4473148549874102, 'kTargetDeterminationTrials': 11, 'kAttractionRatio': 0.15983026704767445, 'kMaxAttractionDistance': 10, 'kStartAttraction': 0.6712076213652379}. Best is trial 86 with value: 8146.367231638418.\u001b[0m\n"
     ]
    },
    {
     "name": "stdout",
     "output_type": "stream",
     "text": [
      "index_parallel='0097'\n"
     ]
    },
    {
     "name": "stderr",
     "output_type": "stream",
     "text": [
      "\u001b[32m[I 2022-08-16 03:06:06,484]\u001b[0m Trial 97 finished with value: 7961.446327683616 and parameters: {'kErase': 1, 'kRadius': 5, 'kAnnealingA': 4.5235770624543505, 'kAnnealingB': 2.083907204400699, 'kAnnealingStart': 4.827034998289515, 'kSkipRatio': 0.4664315918913848, 'kTargetDeterminationTrials': 12, 'kAttractionRatio': 0.15875640760193357, 'kMaxAttractionDistance': 10, 'kStartAttraction': 0.6814047772974142}. Best is trial 86 with value: 8146.367231638418.\u001b[0m\n"
     ]
    },
    {
     "name": "stdout",
     "output_type": "stream",
     "text": [
      "index_parallel='0098'\n"
     ]
    },
    {
     "name": "stderr",
     "output_type": "stream",
     "text": [
      "\u001b[32m[I 2022-08-16 03:09:32,422]\u001b[0m Trial 98 finished with value: 8057.169491525424 and parameters: {'kErase': 1, 'kRadius': 5, 'kAnnealingA': 6.963495174998461, 'kAnnealingB': 1.6784465723048902, 'kAnnealingStart': 3.624864920742019, 'kSkipRatio': 0.41115602017043285, 'kTargetDeterminationTrials': 13, 'kAttractionRatio': 0.1284849306416916, 'kMaxAttractionDistance': 11, 'kStartAttraction': 0.624066716544483}. Best is trial 86 with value: 8146.367231638418.\u001b[0m\n"
     ]
    },
    {
     "name": "stdout",
     "output_type": "stream",
     "text": [
      "index_parallel='0099'\n"
     ]
    },
    {
     "name": "stderr",
     "output_type": "stream",
     "text": [
      "\u001b[32m[I 2022-08-16 03:12:58,441]\u001b[0m Trial 99 finished with value: 7839.581920903955 and parameters: {'kErase': 1, 'kRadius': 5, 'kAnnealingA': 5.372819662522094, 'kAnnealingB': 1.476216689346823, 'kAnnealingStart': 5.4914414339465525, 'kSkipRatio': 0.41614732252749437, 'kTargetDeterminationTrials': 17, 'kAttractionRatio': 0.1249773737995573, 'kMaxAttractionDistance': 11, 'kStartAttraction': 0.003483353493061461}. Best is trial 86 with value: 8146.367231638418.\u001b[0m\n"
     ]
    },
    {
     "name": "stdout",
     "output_type": "stream",
     "text": [
      "index_parallel='0100'\n"
     ]
    },
    {
     "name": "stderr",
     "output_type": "stream",
     "text": [
      "\u001b[32m[I 2022-08-16 03:16:25,377]\u001b[0m Trial 100 finished with value: 7576.401129943502 and parameters: {'kErase': 3, 'kRadius': 5, 'kAnnealingA': 3.8494345200669517, 'kAnnealingB': 1.6770923066676762, 'kAnnealingStart': 2.9710372927777238, 'kSkipRatio': 0.4411152239757995, 'kTargetDeterminationTrials': 18, 'kAttractionRatio': 0.18431465064213748, 'kMaxAttractionDistance': 8, 'kStartAttraction': 0.3496806476510724}. Best is trial 86 with value: 8146.367231638418.\u001b[0m\n"
     ]
    },
    {
     "name": "stdout",
     "output_type": "stream",
     "text": [
      "index_parallel='0101'\n"
     ]
    },
    {
     "name": "stderr",
     "output_type": "stream",
     "text": [
      "\u001b[32m[I 2022-08-16 03:19:51,565]\u001b[0m Trial 101 finished with value: 7744.559322033899 and parameters: {'kErase': 1, 'kRadius': 5, 'kAnnealingA': 7.454403582544253, 'kAnnealingB': 1.7411508993452725, 'kAnnealingStart': 3.4923640793729502, 'kSkipRatio': 0.47343349803390017, 'kTargetDeterminationTrials': 13, 'kAttractionRatio': 0.08891832590030287, 'kMaxAttractionDistance': 9, 'kStartAttraction': 0.6481635636735528}. Best is trial 86 with value: 8146.367231638418.\u001b[0m\n"
     ]
    },
    {
     "name": "stdout",
     "output_type": "stream",
     "text": [
      "index_parallel='0102'\n"
     ]
    },
    {
     "name": "stderr",
     "output_type": "stream",
     "text": [
      "\u001b[32m[I 2022-08-16 03:23:17,627]\u001b[0m Trial 102 finished with value: 8013.322033898305 and parameters: {'kErase': 1, 'kRadius': 5, 'kAnnealingA': 2.644387592387811, 'kAnnealingB': 1.8672084789483132, 'kAnnealingStart': 2.4766920697455617, 'kSkipRatio': 0.38970125439309233, 'kTargetDeterminationTrials': 11, 'kAttractionRatio': 0.17167636260792518, 'kMaxAttractionDistance': 14, 'kStartAttraction': 0.6035090712424239}. Best is trial 86 with value: 8146.367231638418.\u001b[0m\n"
     ]
    },
    {
     "name": "stdout",
     "output_type": "stream",
     "text": [
      "index_parallel='0103'\n"
     ]
    },
    {
     "name": "stderr",
     "output_type": "stream",
     "text": [
      "\u001b[32m[I 2022-08-16 03:26:43,738]\u001b[0m Trial 103 finished with value: 7896.033898305085 and parameters: {'kErase': 1, 'kRadius': 5, 'kAnnealingA': 1.3089151071952911, 'kAnnealingB': 1.9993517525161348, 'kAnnealingStart': 4.555276010272785, 'kSkipRatio': 0.4512517260440041, 'kTargetDeterminationTrials': 9, 'kAttractionRatio': 0.22666941439657237, 'kMaxAttractionDistance': 12, 'kStartAttraction': 0.7682757999279405}. Best is trial 86 with value: 8146.367231638418.\u001b[0m\n"
     ]
    },
    {
     "name": "stdout",
     "output_type": "stream",
     "text": [
      "index_parallel='0104'\n"
     ]
    },
    {
     "name": "stderr",
     "output_type": "stream",
     "text": [
      "\u001b[32m[I 2022-08-16 03:30:09,824]\u001b[0m Trial 104 finished with value: 8027.745762711865 and parameters: {'kErase': 1, 'kRadius': 5, 'kAnnealingA': 6.981313237594491, 'kAnnealingB': 2.294217644764669, 'kAnnealingStart': 3.5957052157977154, 'kSkipRatio': 0.4052073364591721, 'kTargetDeterminationTrials': 14, 'kAttractionRatio': 0.13466027018580642, 'kMaxAttractionDistance': 13, 'kStartAttraction': 0.5148848753847028}. Best is trial 86 with value: 8146.367231638418.\u001b[0m\n"
     ]
    },
    {
     "name": "stdout",
     "output_type": "stream",
     "text": [
      "index_parallel='0105'\n"
     ]
    },
    {
     "name": "stderr",
     "output_type": "stream",
     "text": [
      "\u001b[32m[I 2022-08-16 03:33:36,163]\u001b[0m Trial 105 finished with value: 7711.887005649717 and parameters: {'kErase': 1, 'kRadius': 5, 'kAnnealingA': 8.919498728412561, 'kAnnealingB': 2.300686616877437, 'kAnnealingStart': 2.2583679110662827, 'kSkipRatio': 0.40517211911833706, 'kTargetDeterminationTrials': 16, 'kAttractionRatio': 0.1414332413110015, 'kMaxAttractionDistance': 13, 'kStartAttraction': 0.002147458018260545}. Best is trial 86 with value: 8146.367231638418.\u001b[0m\n"
     ]
    },
    {
     "name": "stdout",
     "output_type": "stream",
     "text": [
      "index_parallel='0106'\n"
     ]
    },
    {
     "name": "stderr",
     "output_type": "stream",
     "text": [
      "\u001b[32m[I 2022-08-16 03:37:02,160]\u001b[0m Trial 106 finished with value: 8055.039548022599 and parameters: {'kErase': 1, 'kRadius': 5, 'kAnnealingA': 7.341693041989831, 'kAnnealingB': 2.0521607638951957, 'kAnnealingStart': 3.533164169347801, 'kSkipRatio': 0.4198190336030188, 'kTargetDeterminationTrials': 15, 'kAttractionRatio': 0.20181752343724732, 'kMaxAttractionDistance': 10, 'kStartAttraction': 0.5307186806487201}. Best is trial 86 with value: 8146.367231638418.\u001b[0m\n"
     ]
    },
    {
     "name": "stdout",
     "output_type": "stream",
     "text": [
      "index_parallel='0107'\n"
     ]
    },
    {
     "name": "stderr",
     "output_type": "stream",
     "text": [
      "\u001b[32m[I 2022-08-16 03:40:28,170]\u001b[0m Trial 107 finished with value: 7944.570621468926 and parameters: {'kErase': 1, 'kRadius': 5, 'kAnnealingA': 7.047759230578335, 'kAnnealingB': 1.9357633621642596, 'kAnnealingStart': 3.5007895388865364, 'kSkipRatio': 0.3702507295930344, 'kTargetDeterminationTrials': 15, 'kAttractionRatio': 0.11663110497914908, 'kMaxAttractionDistance': 9, 'kStartAttraction': 0.4248030752719551}. Best is trial 86 with value: 8146.367231638418.\u001b[0m\n"
     ]
    },
    {
     "name": "stdout",
     "output_type": "stream",
     "text": [
      "index_parallel='0108'\n"
     ]
    },
    {
     "name": "stderr",
     "output_type": "stream",
     "text": [
      "\u001b[32m[I 2022-08-16 03:43:54,469]\u001b[0m Trial 108 finished with value: 7976.553672316384 and parameters: {'kErase': 1, 'kRadius': 5, 'kAnnealingA': 5.0752488713701975, 'kAnnealingB': 2.2247031379074143, 'kAnnealingStart': 3.6982757323830118, 'kSkipRatio': 0.4213609580704562, 'kTargetDeterminationTrials': 13, 'kAttractionRatio': 0.09776523667687921, 'kMaxAttractionDistance': 15, 'kStartAttraction': 0.2776186442724491}. Best is trial 86 with value: 8146.367231638418.\u001b[0m\n"
     ]
    },
    {
     "name": "stdout",
     "output_type": "stream",
     "text": [
      "index_parallel='0109'\n"
     ]
    },
    {
     "name": "stderr",
     "output_type": "stream",
     "text": [
      "\u001b[32m[I 2022-08-16 03:47:21,082]\u001b[0m Trial 109 finished with value: 7889.135593220339 and parameters: {'kErase': 2, 'kRadius': 5, 'kAnnealingA': 9.204687288412494, 'kAnnealingB': 2.043178007160739, 'kAnnealingStart': 4.214554577264968, 'kSkipRatio': 0.3860538611587767, 'kTargetDeterminationTrials': 18, 'kAttractionRatio': 0.20230551480301023, 'kMaxAttractionDistance': 11, 'kStartAttraction': 0.3733737787115351}. Best is trial 86 with value: 8146.367231638418.\u001b[0m\n"
     ]
    },
    {
     "name": "stdout",
     "output_type": "stream",
     "text": [
      "index_parallel='0110'\n"
     ]
    },
    {
     "name": "stderr",
     "output_type": "stream",
     "text": [
      "\u001b[32m[I 2022-08-16 03:50:47,127]\u001b[0m Trial 110 finished with value: 7999.790960451977 and parameters: {'kErase': 1, 'kRadius': 5, 'kAnnealingA': 7.532831424165282, 'kAnnealingB': 2.1392272198770055, 'kAnnealingStart': 5.696895569646987, 'kSkipRatio': 0.3968383577746438, 'kTargetDeterminationTrials': 14, 'kAttractionRatio': 0.12290755465051602, 'kMaxAttractionDistance': 11, 'kStartAttraction': 0.8107615923912872}. Best is trial 86 with value: 8146.367231638418.\u001b[0m\n"
     ]
    },
    {
     "name": "stdout",
     "output_type": "stream",
     "text": [
      "index_parallel='0111'\n"
     ]
    },
    {
     "name": "stderr",
     "output_type": "stream",
     "text": [
      "\u001b[32m[I 2022-08-16 03:54:13,388]\u001b[0m Trial 111 finished with value: 7862.406779661017 and parameters: {'kErase': 1, 'kRadius': 5, 'kAnnealingA': 3.271493100303357, 'kAnnealingB': 1.7826548049130442, 'kAnnealingStart': 3.1282881785168906, 'kSkipRatio': 0.43146984041691044, 'kTargetDeterminationTrials': 13, 'kAttractionRatio': 0.24442449734407376, 'kMaxAttractionDistance': 10, 'kStartAttraction': 0.4923028081165829}. Best is trial 86 with value: 8146.367231638418.\u001b[0m\n"
     ]
    },
    {
     "name": "stdout",
     "output_type": "stream",
     "text": [
      "index_parallel='0112'\n"
     ]
    },
    {
     "name": "stderr",
     "output_type": "stream",
     "text": [
      "\u001b[32m[I 2022-08-16 03:57:39,411]\u001b[0m Trial 112 finished with value: 7975.327683615819 and parameters: {'kErase': 1, 'kRadius': 5, 'kAnnealingA': 6.548260411274226, 'kAnnealingB': 2.1205421325630094, 'kAnnealingStart': 4.757083027403132, 'kSkipRatio': 0.4583521175959463, 'kTargetDeterminationTrials': 15, 'kAttractionRatio': 0.15412001675076478, 'kMaxAttractionDistance': 8, 'kStartAttraction': 0.5670942308697147}. Best is trial 86 with value: 8146.367231638418.\u001b[0m\n"
     ]
    },
    {
     "name": "stdout",
     "output_type": "stream",
     "text": [
      "index_parallel='0113'\n"
     ]
    },
    {
     "name": "stderr",
     "output_type": "stream",
     "text": [
      "\u001b[32m[I 2022-08-16 04:01:05,643]\u001b[0m Trial 113 finished with value: 8034.807909604519 and parameters: {'kErase': 1, 'kRadius': 5, 'kAnnealingA': 2.183420698235697, 'kAnnealingB': 2.0614311473041194, 'kAnnealingStart': 5.085093926324943, 'kSkipRatio': 0.43560509185892615, 'kTargetDeterminationTrials': 14, 'kAttractionRatio': 0.31507679601344607, 'kMaxAttractionDistance': 14, 'kStartAttraction': 0.5197746078451485}. Best is trial 86 with value: 8146.367231638418.\u001b[0m\n"
     ]
    },
    {
     "name": "stdout",
     "output_type": "stream",
     "text": [
      "index_parallel='0114'\n"
     ]
    },
    {
     "name": "stderr",
     "output_type": "stream",
     "text": [
      "\u001b[32m[I 2022-08-16 04:04:31,719]\u001b[0m Trial 114 finished with value: 8104.723163841808 and parameters: {'kErase': 1, 'kRadius': 5, 'kAnnealingA': 2.345140036363971, 'kAnnealingB': 1.6495487183750437, 'kAnnealingStart': 4.119556143446214, 'kSkipRatio': 0.40738470513263314, 'kTargetDeterminationTrials': 14, 'kAttractionRatio': 0.21994996031079014, 'kMaxAttractionDistance': 13, 'kStartAttraction': 0.32032717513372566}. Best is trial 86 with value: 8146.367231638418.\u001b[0m\n"
     ]
    },
    {
     "name": "stdout",
     "output_type": "stream",
     "text": [
      "index_parallel='0115'\n"
     ]
    },
    {
     "name": "stderr",
     "output_type": "stream",
     "text": [
      "\u001b[32m[I 2022-08-16 04:07:58,381]\u001b[0m Trial 115 finished with value: 8000.073446327684 and parameters: {'kErase': 1, 'kRadius': 5, 'kAnnealingA': 2.3221827963955524, 'kAnnealingB': 2.0342546528395724, 'kAnnealingStart': 4.188548048995489, 'kSkipRatio': 0.44357970985042183, 'kTargetDeterminationTrials': 17, 'kAttractionRatio': 0.30963781040312344, 'kMaxAttractionDistance': 14, 'kStartAttraction': 0.3469497980709924}. Best is trial 86 with value: 8146.367231638418.\u001b[0m\n"
     ]
    },
    {
     "name": "stdout",
     "output_type": "stream",
     "text": [
      "index_parallel='0116'\n"
     ]
    },
    {
     "name": "stderr",
     "output_type": "stream",
     "text": [
      "\u001b[32m[I 2022-08-16 04:11:24,600]\u001b[0m Trial 116 finished with value: 8060.807909604519 and parameters: {'kErase': 1, 'kRadius': 5, 'kAnnealingA': 4.483880707139592, 'kAnnealingB': 1.9168272354824107, 'kAnnealingStart': 5.099063608437003, 'kSkipRatio': 0.40992573745698885, 'kTargetDeterminationTrials': 18, 'kAttractionRatio': 0.19982017211202477, 'kMaxAttractionDistance': 13, 'kStartAttraction': 0.4655123730727747}. Best is trial 86 with value: 8146.367231638418.\u001b[0m\n"
     ]
    },
    {
     "name": "stdout",
     "output_type": "stream",
     "text": [
      "index_parallel='0117'\n"
     ]
    },
    {
     "name": "stderr",
     "output_type": "stream",
     "text": [
      "\u001b[32m[I 2022-08-16 04:14:51,008]\u001b[0m Trial 117 finished with value: 8011.146892655367 and parameters: {'kErase': 1, 'kRadius': 5, 'kAnnealingA': 4.359662370312532, 'kAnnealingB': 1.8837658788878562, 'kAnnealingStart': 5.749175862028083, 'kSkipRatio': 0.4187035794137632, 'kTargetDeterminationTrials': 19, 'kAttractionRatio': 0.2158617186710823, 'kMaxAttractionDistance': 12, 'kStartAttraction': 0.22119935192129345}. Best is trial 86 with value: 8146.367231638418.\u001b[0m\n"
     ]
    },
    {
     "name": "stdout",
     "output_type": "stream",
     "text": [
      "index_parallel='0118'\n"
     ]
    },
    {
     "name": "stderr",
     "output_type": "stream",
     "text": [
      "\u001b[32m[I 2022-08-16 04:18:17,008]\u001b[0m Trial 118 finished with value: 7998.0282485875705 and parameters: {'kErase': 1, 'kRadius': 5, 'kAnnealingA': 3.2536479710325805, 'kAnnealingB': 1.9454274157468985, 'kAnnealingStart': 5.17133482917363, 'kSkipRatio': 0.35614514072556747, 'kTargetDeterminationTrials': 20, 'kAttractionRatio': 0.17676942242453297, 'kMaxAttractionDistance': 16, 'kStartAttraction': 0.5895116804665288}. Best is trial 86 with value: 8146.367231638418.\u001b[0m\n"
     ]
    },
    {
     "name": "stdout",
     "output_type": "stream",
     "text": [
      "index_parallel='0119'\n"
     ]
    },
    {
     "name": "stderr",
     "output_type": "stream",
     "text": [
      "\u001b[32m[I 2022-08-16 04:21:43,867]\u001b[0m Trial 119 finished with value: 7678.271186440678 and parameters: {'kErase': 3, 'kRadius': 5, 'kAnnealingA': 1.9045824435837062, 'kAnnealingB': 1.8362435441243083, 'kAnnealingStart': 6.291660708918506, 'kSkipRatio': 0.3804146091343731, 'kTargetDeterminationTrials': 15, 'kAttractionRatio': 0.26785667347979125, 'kMaxAttractionDistance': 13, 'kStartAttraction': 0.4374708737426865}. Best is trial 86 with value: 8146.367231638418.\u001b[0m\n"
     ]
    },
    {
     "name": "stdout",
     "output_type": "stream",
     "text": [
      "index_parallel='0120'\n"
     ]
    },
    {
     "name": "stderr",
     "output_type": "stream",
     "text": [
      "\u001b[32m[I 2022-08-16 04:25:09,921]\u001b[0m Trial 120 finished with value: 7848.960451977401 and parameters: {'kErase': 1, 'kRadius': 5, 'kAnnealingA': 5.6080915768573885, 'kAnnealingB': 1.7809447481954563, 'kAnnealingStart': 5.129892474219169, 'kSkipRatio': 0.48169534231297384, 'kTargetDeterminationTrials': 18, 'kAttractionRatio': 0.18705309197592054, 'kMaxAttractionDistance': 12, 'kStartAttraction': 0.8783332066888814}. Best is trial 86 with value: 8146.367231638418.\u001b[0m\n"
     ]
    },
    {
     "name": "stdout",
     "output_type": "stream",
     "text": [
      "index_parallel='0121'\n"
     ]
    },
    {
     "name": "stderr",
     "output_type": "stream",
     "text": [
      "\u001b[32m[I 2022-08-16 04:28:36,122]\u001b[0m Trial 121 finished with value: 8099.593220338983 and parameters: {'kErase': 1, 'kRadius': 5, 'kAnnealingA': 6.377722106707788, 'kAnnealingB': 2.2581246167747575, 'kAnnealingStart': 3.7522536856628177, 'kSkipRatio': 0.4086236951668683, 'kTargetDeterminationTrials': 14, 'kAttractionRatio': 0.13831167722968454, 'kMaxAttractionDistance': 14, 'kStartAttraction': 0.5090519632203254}. Best is trial 86 with value: 8146.367231638418.\u001b[0m\n"
     ]
    },
    {
     "name": "stdout",
     "output_type": "stream",
     "text": [
      "index_parallel='0122'\n"
     ]
    },
    {
     "name": "stderr",
     "output_type": "stream",
     "text": [
      "\u001b[32m[I 2022-08-16 04:32:02,322]\u001b[0m Trial 122 finished with value: 8035.180790960452 and parameters: {'kErase': 1, 'kRadius': 5, 'kAnnealingA': 4.979575092279444, 'kAnnealingB': 1.4871827662824968, 'kAnnealingStart': 3.8296497247748835, 'kSkipRatio': 0.41190743751844544, 'kTargetDeterminationTrials': 16, 'kAttractionRatio': 0.22877831383282238, 'kMaxAttractionDistance': 15, 'kStartAttraction': 0.32106523766256206}. Best is trial 86 with value: 8146.367231638418.\u001b[0m\n"
     ]
    },
    {
     "name": "stdout",
     "output_type": "stream",
     "text": [
      "index_parallel='0123'\n"
     ]
    },
    {
     "name": "stderr",
     "output_type": "stream",
     "text": [
      "\u001b[32m[I 2022-08-16 04:35:28,780]\u001b[0m Trial 123 finished with value: 7967.344632768361 and parameters: {'kErase': 1, 'kRadius': 5, 'kAnnealingA': 4.018571610027312, 'kAnnealingB': 1.5217883098001617, 'kAnnealingStart': 3.9252533267582463, 'kSkipRatio': 0.40826796423009265, 'kTargetDeterminationTrials': 16, 'kAttractionRatio': 0.22914618426924904, 'kMaxAttractionDistance': 15, 'kStartAttraction': 0.31650735988241563}. Best is trial 86 with value: 8146.367231638418.\u001b[0m\n"
     ]
    },
    {
     "name": "stdout",
     "output_type": "stream",
     "text": [
      "index_parallel='0124'\n"
     ]
    },
    {
     "name": "stderr",
     "output_type": "stream",
     "text": [
      "\u001b[32m[I 2022-08-16 04:38:54,899]\u001b[0m Trial 124 finished with value: 8025.6949152542375 and parameters: {'kErase': 1, 'kRadius': 5, 'kAnnealingA': 6.075177523888445, 'kAnnealingB': 1.409890833042416, 'kAnnealingStart': 3.1020490243282417, 'kSkipRatio': 0.3692045142128853, 'kTargetDeterminationTrials': 12, 'kAttractionRatio': 0.19489082770344845, 'kMaxAttractionDistance': 11, 'kStartAttraction': 0.6381229103622024}. Best is trial 86 with value: 8146.367231638418.\u001b[0m\n"
     ]
    },
    {
     "name": "stdout",
     "output_type": "stream",
     "text": [
      "index_parallel='0125'\n"
     ]
    },
    {
     "name": "stderr",
     "output_type": "stream",
     "text": [
      "\u001b[32m[I 2022-08-16 04:42:21,182]\u001b[0m Trial 125 finished with value: 8009.649717514124 and parameters: {'kErase': 1, 'kRadius': 5, 'kAnnealingA': 7.836367581911285, 'kAnnealingB': 1.2438173488245772, 'kAnnealingStart': 2.7314108504677734, 'kSkipRatio': 0.3926325166896557, 'kTargetDeterminationTrials': 19, 'kAttractionRatio': 0.16491949914913107, 'kMaxAttractionDistance': 16, 'kStartAttraction': 0.3832386419431201}. Best is trial 86 with value: 8146.367231638418.\u001b[0m\n"
     ]
    },
    {
     "name": "stdout",
     "output_type": "stream",
     "text": [
      "index_parallel='0126'\n"
     ]
    },
    {
     "name": "stderr",
     "output_type": "stream",
     "text": [
      "\u001b[32m[I 2022-08-16 04:45:47,383]\u001b[0m Trial 126 finished with value: 7975.265536723164 and parameters: {'kErase': 1, 'kRadius': 5, 'kAnnealingA': 4.882890139193388, 'kAnnealingB': 1.6701654571683666, 'kAnnealingStart': 4.40803878483085, 'kSkipRatio': 0.4551880020993071, 'kTargetDeterminationTrials': 16, 'kAttractionRatio': 0.14468897672361988, 'kMaxAttractionDistance': 9, 'kStartAttraction': 0.2721310380258861}. Best is trial 86 with value: 8146.367231638418.\u001b[0m\n"
     ]
    },
    {
     "name": "stdout",
     "output_type": "stream",
     "text": [
      "index_parallel='0127'\n"
     ]
    },
    {
     "name": "stderr",
     "output_type": "stream",
     "text": [
      "\u001b[32m[I 2022-08-16 04:49:13,751]\u001b[0m Trial 127 finished with value: 7954.819209039548 and parameters: {'kErase': 1, 'kRadius': 5, 'kAnnealingA': 6.165585008656982, 'kAnnealingB': 2.221051112187709, 'kAnnealingStart': 3.713572207191187, 'kSkipRatio': 0.4222266627734203, 'kTargetDeterminationTrials': 12, 'kAttractionRatio': 0.20776289329383113, 'kMaxAttractionDistance': 16, 'kStartAttraction': 0.18401246220942272}. Best is trial 86 with value: 8146.367231638418.\u001b[0m\n"
     ]
    },
    {
     "name": "stdout",
     "output_type": "stream",
     "text": [
      "index_parallel='0128'\n"
     ]
    },
    {
     "name": "stderr",
     "output_type": "stream",
     "text": [
      "\u001b[32m[I 2022-08-16 04:52:40,202]\u001b[0m Trial 128 finished with value: 7815.056497175141 and parameters: {'kErase': 1, 'kRadius': 5, 'kAnnealingA': -12.391845946054302, 'kAnnealingB': 1.6031977252965186, 'kAnnealingStart': 4.134746240072733, 'kSkipRatio': 0.3859271328918261, 'kTargetDeterminationTrials': 17, 'kAttractionRatio': 0.27694609347222426, 'kMaxAttractionDistance': 14, 'kStartAttraction': 0.4550678545171202}. Best is trial 86 with value: 8146.367231638418.\u001b[0m\n"
     ]
    },
    {
     "name": "stdout",
     "output_type": "stream",
     "text": [
      "index_parallel='0129'\n"
     ]
    },
    {
     "name": "stderr",
     "output_type": "stream",
     "text": [
      "\u001b[32m[I 2022-08-16 04:56:06,586]\u001b[0m Trial 129 finished with value: 7807.12429378531 and parameters: {'kErase': 1, 'kRadius': 5, 'kAnnealingA': 4.774877680907285, 'kAnnealingB': 1.4690062055325248, 'kAnnealingStart': 2.3319752515874943, 'kSkipRatio': 0.4115001743429004, 'kTargetDeterminationTrials': 11, 'kAttractionRatio': 0.12766985191365926, 'kMaxAttractionDistance': 13, 'kStartAttraction': 0.7634595739706982}. Best is trial 86 with value: 8146.367231638418.\u001b[0m\n"
     ]
    },
    {
     "name": "stdout",
     "output_type": "stream",
     "text": [
      "index_parallel='0130'\n"
     ]
    },
    {
     "name": "stderr",
     "output_type": "stream",
     "text": [
      "\u001b[32m[I 2022-08-16 04:59:33,049]\u001b[0m Trial 130 finished with value: 8026.457627118644 and parameters: {'kErase': 1, 'kRadius': 5, 'kAnnealingA': 3.6486571407457604, 'kAnnealingB': 1.905107248658995, 'kAnnealingStart': 7.2980700477927964, 'kSkipRatio': 0.4660088993344552, 'kTargetDeterminationTrials': 15, 'kAttractionRatio': 0.1657432442970467, 'kMaxAttractionDistance': 8, 'kStartAttraction': 0.23618341353905714}. Best is trial 86 with value: 8146.367231638418.\u001b[0m\n"
     ]
    },
    {
     "name": "stdout",
     "output_type": "stream",
     "text": [
      "index_parallel='0131'\n"
     ]
    },
    {
     "name": "stderr",
     "output_type": "stream",
     "text": [
      "\u001b[32m[I 2022-08-16 05:02:59,512]\u001b[0m Trial 131 finished with value: 8043.4350282485875 and parameters: {'kErase': 1, 'kRadius': 5, 'kAnnealingA': 1.8963081251264873, 'kAnnealingB': 2.015097004936729, 'kAnnealingStart': 4.942287928898626, 'kSkipRatio': 0.4332544947540215, 'kTargetDeterminationTrials': 14, 'kAttractionRatio': 0.23312201780576408, 'kMaxAttractionDistance': 11, 'kStartAttraction': 0.5392662211262299}. Best is trial 86 with value: 8146.367231638418.\u001b[0m\n"
     ]
    },
    {
     "name": "stdout",
     "output_type": "stream",
     "text": [
      "index_parallel='0133'\n"
     ]
    },
    {
     "name": "stderr",
     "output_type": "stream",
     "text": [
      "\u001b[32m[I 2022-08-16 05:06:25,706]\u001b[0m Trial 133 finished with value: 8016.870056497175 and parameters: {'kErase': 1, 'kRadius': 5, 'kAnnealingA': 2.781847487753431, 'kAnnealingB': 2.0030316515692905, 'kAnnealingStart': 3.30790549147688, 'kSkipRatio': 0.44345115896957316, 'kTargetDeterminationTrials': 13, 'kAttractionRatio': 0.2351824592799544, 'kMaxAttractionDistance': 10, 'kStartAttraction': 0.39344770050391253}. Best is trial 86 with value: 8146.367231638418.\u001b[0m\n"
     ]
    },
    {
     "name": "stdout",
     "output_type": "stream",
     "text": [
      "index_parallel='0135'\n"
     ]
    },
    {
     "name": "stderr",
     "output_type": "stream",
     "text": [
      "\u001b[32m[I 2022-08-16 05:09:52,111]\u001b[0m Trial 135 finished with value: 8038.677966101695 and parameters: {'kErase': 1, 'kRadius': 5, 'kAnnealingA': 1.4655838484236872, 'kAnnealingB': 2.155156181962386, 'kAnnealingStart': 6.402255659841174, 'kSkipRatio': 0.3973918714010488, 'kTargetDeterminationTrials': 16, 'kAttractionRatio': 0.21022381324944184, 'kMaxAttractionDistance': 12, 'kStartAttraction': 0.68440943351814}. Best is trial 86 with value: 8146.367231638418.\u001b[0m\n"
     ]
    },
    {
     "name": "stdout",
     "output_type": "stream",
     "text": [
      "index_parallel='0137'\n"
     ]
    },
    {
     "name": "stderr",
     "output_type": "stream",
     "text": [
      "\u001b[32m[I 2022-08-16 05:13:18,448]\u001b[0m Trial 137 finished with value: 7816.079096045198 and parameters: {'kErase': 1, 'kRadius': 5, 'kAnnealingA': 0.14346987731289396, 'kAnnealingB': 2.3699013931935875, 'kAnnealingStart': 5.856133639730779, 'kSkipRatio': 0.3730768863223691, 'kTargetDeterminationTrials': 14, 'kAttractionRatio': 0.17189499885605192, 'kMaxAttractionDistance': 7, 'kStartAttraction': 0.7126775094807314}. Best is trial 86 with value: 8146.367231638418.\u001b[0m\n"
     ]
    },
    {
     "name": "stdout",
     "output_type": "stream",
     "text": [
      "index_parallel='0139'\n"
     ]
    },
    {
     "name": "stderr",
     "output_type": "stream",
     "text": [
      "\u001b[32m[I 2022-08-16 05:16:44,689]\u001b[0m Trial 139 finished with value: 8080.186440677966 and parameters: {'kErase': 1, 'kRadius': 5, 'kAnnealingA': 0.7536915533885994, 'kAnnealingB': 2.1952915952083805, 'kAnnealingStart': 7.705248214135268, 'kSkipRatio': 0.34025195739382896, 'kTargetDeterminationTrials': 19, 'kAttractionRatio': 0.18802114596541464, 'kMaxAttractionDistance': 12, 'kStartAttraction': 0.683663563512705}. Best is trial 86 with value: 8146.367231638418.\u001b[0m\n"
     ]
    },
    {
     "name": "stdout",
     "output_type": "stream",
     "text": [
      "index_parallel='0141'\n"
     ]
    },
    {
     "name": "stderr",
     "output_type": "stream",
     "text": [
      "\u001b[32m[I 2022-08-16 05:20:11,015]\u001b[0m Trial 141 finished with value: 7944.774011299435 and parameters: {'kErase': 1, 'kRadius': 5, 'kAnnealingA': 0.6631317366748715, 'kAnnealingB': 2.2678116685289442, 'kAnnealingStart': 7.404874982381469, 'kSkipRatio': 0.34167184984676596, 'kTargetDeterminationTrials': 20, 'kAttractionRatio': 0.373215526546631, 'kMaxAttractionDistance': 12, 'kStartAttraction': 0.628066345235045}. Best is trial 86 with value: 8146.367231638418.\u001b[0m\n"
     ]
    },
    {
     "name": "stdout",
     "output_type": "stream",
     "text": [
      "index_parallel='0143'\n"
     ]
    },
    {
     "name": "stderr",
     "output_type": "stream",
     "text": [
      "\u001b[32m[I 2022-08-16 05:23:37,040]\u001b[0m Trial 143 finished with value: 7903.728813559322 and parameters: {'kErase': 1, 'kRadius': 5, 'kAnnealingA': 1.227663337517306, 'kAnnealingB': 2.1075009706683683, 'kAnnealingStart': 7.896581708438718, 'kSkipRatio': 0.3341017233827918, 'kTargetDeterminationTrials': 10, 'kAttractionRatio': 0.19749361148834135, 'kMaxAttractionDistance': 11, 'kStartAttraction': 0.8121724823897333}. Best is trial 86 with value: 8146.367231638418.\u001b[0m\n"
     ]
    },
    {
     "name": "stdout",
     "output_type": "stream",
     "text": [
      "index_parallel='0145'\n"
     ]
    },
    {
     "name": "stderr",
     "output_type": "stream",
     "text": [
      "\u001b[32m[I 2022-08-16 05:27:03,382]\u001b[0m Trial 145 finished with value: 7997.598870056498 and parameters: {'kErase': 1, 'kRadius': 5, 'kAnnealingA': 1.6508320011360205, 'kAnnealingB': 2.151224676190369, 'kAnnealingStart': 6.466727511931124, 'kSkipRatio': 0.3606622330151853, 'kTargetDeterminationTrials': 18, 'kAttractionRatio': 0.13741793122855409, 'kMaxAttractionDistance': 9, 'kStartAttraction': 0.46600612009932285}. Best is trial 86 with value: 8146.367231638418.\u001b[0m\n"
     ]
    },
    {
     "name": "stdout",
     "output_type": "stream",
     "text": [
      "index_parallel='0147'\n"
     ]
    },
    {
     "name": "stderr",
     "output_type": "stream",
     "text": [
      "\u001b[32m[I 2022-08-16 05:30:29,924]\u001b[0m Trial 147 finished with value: 8161.016949152542 and parameters: {'kErase': 1, 'kRadius': 5, 'kAnnealingA': 3.2538644621348025, 'kAnnealingB': 1.9612865327734312, 'kAnnealingStart': 6.785314487224437, 'kSkipRatio': 0.39594624119700017, 'kTargetDeterminationTrials': 11, 'kAttractionRatio': 0.28240299997507595, 'kMaxAttractionDistance': 13, 'kStartAttraction': 0.5706792975881592}. Best is trial 147 with value: 8161.016949152542.\u001b[0m\n"
     ]
    },
    {
     "name": "stdout",
     "output_type": "stream",
     "text": [
      "Updated! 8161.016949152542\n",
      "index_parallel='0149'\n"
     ]
    },
    {
     "name": "stderr",
     "output_type": "stream",
     "text": [
      "\u001b[32m[I 2022-08-16 05:33:56,343]\u001b[0m Trial 149 finished with value: 8174.632768361582 and parameters: {'kErase': 1, 'kRadius': 5, 'kAnnealingA': 3.9883589039286766, 'kAnnealingB': 1.9671367150590249, 'kAnnealingStart': 7.118014627081538, 'kSkipRatio': 0.41929676193589305, 'kTargetDeterminationTrials': 12, 'kAttractionRatio': 0.28150979390077385, 'kMaxAttractionDistance': 13, 'kStartAttraction': 0.5678743350295496}. Best is trial 149 with value: 8174.632768361582.\u001b[0m\n"
     ]
    },
    {
     "name": "stdout",
     "output_type": "stream",
     "text": [
      "Updated! 8174.632768361582\n",
      "index_parallel='0151'\n"
     ]
    },
    {
     "name": "stderr",
     "output_type": "stream",
     "text": [
      "\u001b[32m[I 2022-08-16 05:37:23,356]\u001b[0m Trial 151 finished with value: 7214.242937853107 and parameters: {'kErase': 4, 'kRadius': 5, 'kAnnealingA': 3.5126628018737276, 'kAnnealingB': 1.9288879080817178, 'kAnnealingStart': 7.07837942164509, 'kSkipRatio': 0.41516271318522907, 'kTargetDeterminationTrials': 12, 'kAttractionRatio': 0.27351421974018597, 'kMaxAttractionDistance': 14, 'kStartAttraction': 0.4590456601212704}. Best is trial 149 with value: 8174.632768361582.\u001b[0m\n"
     ]
    },
    {
     "name": "stdout",
     "output_type": "stream",
     "text": [
      "index_parallel='0153'\n"
     ]
    },
    {
     "name": "stderr",
     "output_type": "stream",
     "text": [
      "\u001b[32m[I 2022-08-16 05:40:49,777]\u001b[0m Trial 153 finished with value: 8175.497175141243 and parameters: {'kErase': 1, 'kRadius': 5, 'kAnnealingA': 3.1802074246278647, 'kAnnealingB': 1.7856257662512975, 'kAnnealingStart': 7.505156209659367, 'kSkipRatio': 0.40524736962691826, 'kTargetDeterminationTrials': 12, 'kAttractionRatio': 0.31250813693891405, 'kMaxAttractionDistance': 13, 'kStartAttraction': 0.546608573664795}. Best is trial 153 with value: 8175.497175141243.\u001b[0m\n"
     ]
    },
    {
     "name": "stdout",
     "output_type": "stream",
     "text": [
      "Updated! 8175.497175141243\n",
      "index_parallel='0155'\n"
     ]
    },
    {
     "name": "stderr",
     "output_type": "stream",
     "text": [
      "\u001b[32m[I 2022-08-16 05:44:16,024]\u001b[0m Trial 155 finished with value: 8088.949152542373 and parameters: {'kErase': 1, 'kRadius': 5, 'kAnnealingA': 5.566214105576541, 'kAnnealingB': 2.4402855628510016, 'kAnnealingStart': 8.495827260825465, 'kSkipRatio': 0.38221601653849263, 'kTargetDeterminationTrials': 12, 'kAttractionRatio': 0.2948607744774371, 'kMaxAttractionDistance': 18, 'kStartAttraction': 0.5483298861220801}. Best is trial 154 with value: 8222.937853107345.\u001b[0m\n"
     ]
    },
    {
     "name": "stdout",
     "output_type": "stream",
     "text": [
      "index_parallel='0157'\n"
     ]
    },
    {
     "name": "stderr",
     "output_type": "stream",
     "text": [
      "\u001b[32m[I 2022-08-16 05:47:42,366]\u001b[0m Trial 157 finished with value: 8118.497175141243 and parameters: {'kErase': 1, 'kRadius': 5, 'kAnnealingA': 5.599457851177411, 'kAnnealingB': 2.4443616965660504, 'kAnnealingStart': 11.125280602171921, 'kSkipRatio': 0.3859713366311631, 'kTargetDeterminationTrials': 12, 'kAttractionRatio': 0.3017244387660783, 'kMaxAttractionDistance': 18, 'kStartAttraction': 0.5542875757612394}. Best is trial 154 with value: 8222.937853107345.\u001b[0m\n"
     ]
    },
    {
     "name": "stdout",
     "output_type": "stream",
     "text": [
      "index_parallel='0159'\n"
     ]
    },
    {
     "name": "stderr",
     "output_type": "stream",
     "text": [
      "\u001b[32m[I 2022-08-16 05:51:08,631]\u001b[0m Trial 159 finished with value: 8038.819209039548 and parameters: {'kErase': 1, 'kRadius': 5, 'kAnnealingA': 4.245909511932286, 'kAnnealingB': 2.45473377558514, 'kAnnealingStart': 11.41759401698769, 'kSkipRatio': 0.38131790230236773, 'kTargetDeterminationTrials': 11, 'kAttractionRatio': 0.32256959380158146, 'kMaxAttractionDistance': 17, 'kStartAttraction': 0.5605226962888946}. Best is trial 154 with value: 8222.937853107345.\u001b[0m\n"
     ]
    },
    {
     "name": "stdout",
     "output_type": "stream",
     "text": [
      "index_parallel='0160'\n"
     ]
    },
    {
     "name": "stderr",
     "output_type": "stream",
     "text": [
      "\u001b[32m[I 2022-08-16 05:54:34,780]\u001b[0m Trial 160 finished with value: 8054.067796610169 and parameters: {'kErase': 1, 'kRadius': 5, 'kAnnealingA': 5.411890997230349, 'kAnnealingB': 2.411853699693326, 'kAnnealingStart': 8.672972150912072, 'kSkipRatio': 0.3809868246719805, 'kTargetDeterminationTrials': 10, 'kAttractionRatio': 0.3542197025245331, 'kMaxAttractionDistance': 21, 'kStartAttraction': 0.3983214381335631}. Best is trial 154 with value: 8222.937853107345.\u001b[0m\n"
     ]
    },
    {
     "name": "stdout",
     "output_type": "stream",
     "text": [
      "index_parallel='0161'\n"
     ]
    },
    {
     "name": "stderr",
     "output_type": "stream",
     "text": [
      "\u001b[32m[I 2022-08-16 05:58:01,044]\u001b[0m Trial 161 finished with value: 8151.090395480226 and parameters: {'kErase': 1, 'kRadius': 5, 'kAnnealingA': 3.620712284292005, 'kAnnealingB': 2.4217298139575387, 'kAnnealingStart': 7.914482311269943, 'kSkipRatio': 0.3490973846241937, 'kTargetDeterminationTrials': 12, 'kAttractionRatio': 0.38597925940105154, 'kMaxAttractionDistance': 18, 'kStartAttraction': 0.7466974032314855}. Best is trial 154 with value: 8222.937853107345.\u001b[0m\n"
     ]
    },
    {
     "name": "stdout",
     "output_type": "stream",
     "text": [
      "index_parallel='0162'\n"
     ]
    },
    {
     "name": "stderr",
     "output_type": "stream",
     "text": [
      "\u001b[32m[I 2022-08-16 06:01:27,106]\u001b[0m Trial 162 finished with value: 8064.813559322034 and parameters: {'kErase': 1, 'kRadius': 5, 'kAnnealingA': 3.524263856051134, 'kAnnealingB': 2.4357507018507714, 'kAnnealingStart': 8.549423420336883, 'kSkipRatio': 0.3620910672679893, 'kTargetDeterminationTrials': 12, 'kAttractionRatio': 0.4003925595050219, 'kMaxAttractionDistance': 18, 'kStartAttraction': 0.4981153187017569}. Best is trial 154 with value: 8222.937853107345.\u001b[0m\n"
     ]
    },
    {
     "name": "stdout",
     "output_type": "stream",
     "text": [
      "index_parallel='0163'\n"
     ]
    },
    {
     "name": "stderr",
     "output_type": "stream",
     "text": [
      "\u001b[32m[I 2022-08-16 06:04:53,297]\u001b[0m Trial 163 finished with value: 8019.0282485875705 and parameters: {'kErase': 1, 'kRadius': 5, 'kAnnealingA': 5.874056259557858, 'kAnnealingB': 2.561711408027016, 'kAnnealingStart': 9.44623103321506, 'kSkipRatio': 0.39930491756812436, 'kTargetDeterminationTrials': 11, 'kAttractionRatio': 0.2964314342700823, 'kMaxAttractionDistance': 20, 'kStartAttraction': 0.7674899793376787}. Best is trial 154 with value: 8222.937853107345.\u001b[0m\n"
     ]
    },
    {
     "name": "stdout",
     "output_type": "stream",
     "text": [
      "index_parallel='0164'\n"
     ]
    },
    {
     "name": "stderr",
     "output_type": "stream",
     "text": [
      "\u001b[32m[I 2022-08-16 06:08:19,534]\u001b[0m Trial 164 finished with value: 7948.062146892656 and parameters: {'kErase': 1, 'kRadius': 5, 'kAnnealingA': 4.19022955811727, 'kAnnealingB': 2.3316401690119863, 'kAnnealingStart': 10.341671748945291, 'kSkipRatio': 0.35414536551910053, 'kTargetDeterminationTrials': 13, 'kAttractionRatio': 0.33424959839957935, 'kMaxAttractionDistance': 16, 'kStartAttraction': 0.8863838527579712}. Best is trial 154 with value: 8222.937853107345.\u001b[0m\n"
     ]
    },
    {
     "name": "stdout",
     "output_type": "stream",
     "text": [
      "index_parallel='0165'\n"
     ]
    },
    {
     "name": "stderr",
     "output_type": "stream",
     "text": [
      "\u001b[32m[I 2022-08-16 06:11:45,959]\u001b[0m Trial 165 finished with value: 8090.881355932203 and parameters: {'kErase': 1, 'kRadius': 5, 'kAnnealingA': 3.338508357232963, 'kAnnealingB': 2.50279729203926, 'kAnnealingStart': 7.321566012622078, 'kSkipRatio': 0.38778648361872053, 'kTargetDeterminationTrials': 12, 'kAttractionRatio': 0.2898388457209128, 'kMaxAttractionDistance': 17, 'kStartAttraction': 0.5439413032339494}. Best is trial 154 with value: 8222.937853107345.\u001b[0m\n"
     ]
    },
    {
     "name": "stdout",
     "output_type": "stream",
     "text": [
      "index_parallel='0166'\n"
     ]
    },
    {
     "name": "stderr",
     "output_type": "stream",
     "text": [
      "\u001b[32m[I 2022-08-16 06:15:12,311]\u001b[0m Trial 166 finished with value: 8159.045197740113 and parameters: {'kErase': 1, 'kRadius': 5, 'kAnnealingA': 4.695796933918464, 'kAnnealingB': 2.714270966894217, 'kAnnealingStart': 7.073809334035801, 'kSkipRatio': 0.3866490886784903, 'kTargetDeterminationTrials': 11, 'kAttractionRatio': 0.31619401963900257, 'kMaxAttractionDistance': 19, 'kStartAttraction': 0.5190501811091098}. Best is trial 154 with value: 8222.937853107345.\u001b[0m\n"
     ]
    },
    {
     "name": "stdout",
     "output_type": "stream",
     "text": [
      "index_parallel='0167'\n"
     ]
    },
    {
     "name": "stderr",
     "output_type": "stream",
     "text": [
      "\u001b[32m[I 2022-08-16 06:18:40,003]\u001b[0m Trial 167 finished with value: 8168.316384180791 and parameters: {'kErase': 1, 'kRadius': 5, 'kAnnealingA': 4.7882360232659735, 'kAnnealingB': 2.7191487093458138, 'kAnnealingStart': 6.889806797809741, 'kSkipRatio': 0.36999566741536316, 'kTargetDeterminationTrials': 11, 'kAttractionRatio': 0.3822950632115417, 'kMaxAttractionDistance': 15, 'kStartAttraction': 0.4756685723469312}. Best is trial 154 with value: 8222.937853107345.\u001b[0m\n"
     ]
    },
    {
     "name": "stdout",
     "output_type": "stream",
     "text": [
      "index_parallel='0168'\n"
     ]
    },
    {
     "name": "stderr",
     "output_type": "stream",
     "text": [
      "\u001b[32m[I 2022-08-16 06:22:05,970]\u001b[0m Trial 168 finished with value: 8130.152542372882 and parameters: {'kErase': 1, 'kRadius': 5, 'kAnnealingA': 3.2785581559133945, 'kAnnealingB': 2.6982181470234736, 'kAnnealingStart': 7.304013427918865, 'kSkipRatio': 0.3728236999190384, 'kTargetDeterminationTrials': 11, 'kAttractionRatio': 0.3834950079650692, 'kMaxAttractionDistance': 17, 'kStartAttraction': 0.4509141736233847}. Best is trial 154 with value: 8222.937853107345.\u001b[0m\n"
     ]
    },
    {
     "name": "stdout",
     "output_type": "stream",
     "text": [
      "index_parallel='0169'\n"
     ]
    },
    {
     "name": "stderr",
     "output_type": "stream",
     "text": [
      "\u001b[32m[I 2022-08-16 06:25:32,280]\u001b[0m Trial 169 finished with value: 7998.429378531074 and parameters: {'kErase': 1, 'kRadius': 5, 'kAnnealingA': 4.794874610850226, 'kAnnealingB': 2.794897352379303, 'kAnnealingStart': 13.281897641585166, 'kSkipRatio': 0.3666161409972405, 'kTargetDeterminationTrials': 11, 'kAttractionRatio': 0.38816167928673034, 'kMaxAttractionDistance': 15, 'kStartAttraction': 0.46785182570988926}. Best is trial 154 with value: 8222.937853107345.\u001b[0m\n"
     ]
    },
    {
     "name": "stdout",
     "output_type": "stream",
     "text": [
      "index_parallel='0170'\n"
     ]
    },
    {
     "name": "stderr",
     "output_type": "stream",
     "text": [
      "\u001b[32m[I 2022-08-16 06:28:58,650]\u001b[0m Trial 170 finished with value: 8105.723163841808 and parameters: {'kErase': 1, 'kRadius': 5, 'kAnnealingA': 4.08635726198082, 'kAnnealingB': 2.7207884432194573, 'kAnnealingStart': 7.013436803086517, 'kSkipRatio': 0.35279102040533816, 'kTargetDeterminationTrials': 13, 'kAttractionRatio': 0.3582959442836103, 'kMaxAttractionDistance': 16, 'kStartAttraction': 0.7550298899705905}. Best is trial 154 with value: 8222.937853107345.\u001b[0m\n"
     ]
    },
    {
     "name": "stdout",
     "output_type": "stream",
     "text": [
      "index_parallel='0171'\n"
     ]
    },
    {
     "name": "stderr",
     "output_type": "stream",
     "text": [
      "\u001b[32m[I 2022-08-16 06:32:24,972]\u001b[0m Trial 171 finished with value: 8138.943502824859 and parameters: {'kErase': 1, 'kRadius': 5, 'kAnnealingA': 4.09159344174782, 'kAnnealingB': 2.7033231885301756, 'kAnnealingStart': 6.7791742176671494, 'kSkipRatio': 0.37008129984203286, 'kTargetDeterminationTrials': 13, 'kAttractionRatio': 0.3628132404026512, 'kMaxAttractionDistance': 16, 'kStartAttraction': 0.7192319928876477}. Best is trial 154 with value: 8222.937853107345.\u001b[0m\n"
     ]
    },
    {
     "name": "stdout",
     "output_type": "stream",
     "text": [
      "index_parallel='0172'\n"
     ]
    },
    {
     "name": "stderr",
     "output_type": "stream",
     "text": [
      "\u001b[32m[I 2022-08-16 06:35:51,215]\u001b[0m Trial 172 finished with value: 8112.0 and parameters: {'kErase': 1, 'kRadius': 5, 'kAnnealingA': 3.9162505733569333, 'kAnnealingB': 2.7254587448112275, 'kAnnealingStart': 7.114462394292921, 'kSkipRatio': 0.3504010214981648, 'kTargetDeterminationTrials': 13, 'kAttractionRatio': 0.3477180724339459, 'kMaxAttractionDistance': 17, 'kStartAttraction': 0.7241963647841689}. Best is trial 154 with value: 8222.937853107345.\u001b[0m\n"
     ]
    },
    {
     "name": "stdout",
     "output_type": "stream",
     "text": [
      "index_parallel='0173'\n"
     ]
    },
    {
     "name": "stderr",
     "output_type": "stream",
     "text": [
      "\u001b[32m[I 2022-08-16 06:39:18,006]\u001b[0m Trial 173 finished with value: 8128.677966101695 and parameters: {'kErase': 1, 'kRadius': 5, 'kAnnealingA': 3.9425710630557975, 'kAnnealingB': 2.706423956412619, 'kAnnealingStart': 6.812608095901008, 'kSkipRatio': 0.3579052722505873, 'kTargetDeterminationTrials': 13, 'kAttractionRatio': 0.35022720663043105, 'kMaxAttractionDistance': 17, 'kStartAttraction': 0.753464111133894}. Best is trial 154 with value: 8222.937853107345.\u001b[0m\n"
     ]
    },
    {
     "name": "stdout",
     "output_type": "stream",
     "text": [
      "index_parallel='0174'\n"
     ]
    },
    {
     "name": "stderr",
     "output_type": "stream",
     "text": [
      "\u001b[32m[I 2022-08-16 06:42:44,420]\u001b[0m Trial 174 finished with value: 8142.192090395481 and parameters: {'kErase': 1, 'kRadius': 5, 'kAnnealingA': 4.82037513251011, 'kAnnealingB': 2.887391148772929, 'kAnnealingStart': 7.8377150338683705, 'kSkipRatio': 0.37212225419389494, 'kTargetDeterminationTrials': 11, 'kAttractionRatio': 0.4231948671089857, 'kMaxAttractionDistance': 19, 'kStartAttraction': 0.77075341961374}. Best is trial 154 with value: 8222.937853107345.\u001b[0m\n"
     ]
    },
    {
     "name": "stdout",
     "output_type": "stream",
     "text": [
      "index_parallel='0175'\n"
     ]
    },
    {
     "name": "stderr",
     "output_type": "stream",
     "text": [
      "\u001b[32m[I 2022-08-16 06:46:10,829]\u001b[0m Trial 175 finished with value: 8143.5649717514125 and parameters: {'kErase': 1, 'kRadius': 5, 'kAnnealingA': 4.685781755108632, 'kAnnealingB': 2.8757872167113208, 'kAnnealingStart': 8.120184975021132, 'kSkipRatio': 0.37064672020866873, 'kTargetDeterminationTrials': 11, 'kAttractionRatio': 0.48469230557124127, 'kMaxAttractionDistance': 20, 'kStartAttraction': 0.7705230280467991}. Best is trial 154 with value: 8222.937853107345.\u001b[0m\n"
     ]
    },
    {
     "name": "stdout",
     "output_type": "stream",
     "text": [
      "index_parallel='0176'\n"
     ]
    },
    {
     "name": "stderr",
     "output_type": "stream",
     "text": [
      "\u001b[32m[I 2022-08-16 06:49:36,956]\u001b[0m Trial 176 finished with value: 8107.774011299435 and parameters: {'kErase': 1, 'kRadius': 5, 'kAnnealingA': 4.667753042446981, 'kAnnealingB': 2.8973582608387725, 'kAnnealingStart': 7.946875362962387, 'kSkipRatio': 0.3715807008195538, 'kTargetDeterminationTrials': 11, 'kAttractionRatio': 0.464303718444259, 'kMaxAttractionDistance': 23, 'kStartAttraction': 0.8273279891506495}. Best is trial 154 with value: 8222.937853107345.\u001b[0m\n"
     ]
    },
    {
     "name": "stdout",
     "output_type": "stream",
     "text": [
      "index_parallel='0177'\n"
     ]
    },
    {
     "name": "stderr",
     "output_type": "stream",
     "text": [
      "\u001b[32m[I 2022-08-16 06:53:03,448]\u001b[0m Trial 177 finished with value: 8065.757062146893 and parameters: {'kErase': 1, 'kRadius': 5, 'kAnnealingA': 3.004235500605852, 'kAnnealingB': 2.8266340771145626, 'kAnnealingStart': 8.61459177473, 'kSkipRatio': 0.36393853533442105, 'kTargetDeterminationTrials': 10, 'kAttractionRatio': 0.42656481488287207, 'kMaxAttractionDistance': 20, 'kStartAttraction': 0.8912137407675683}. Best is trial 154 with value: 8222.937853107345.\u001b[0m\n"
     ]
    },
    {
     "name": "stdout",
     "output_type": "stream",
     "text": [
      "index_parallel='0178'\n"
     ]
    },
    {
     "name": "stderr",
     "output_type": "stream",
     "text": [
      "\u001b[32m[I 2022-08-16 06:56:30,136]\u001b[0m Trial 178 finished with value: 8146.129943502825 and parameters: {'kErase': 1, 'kRadius': 5, 'kAnnealingA': 4.9902404260047035, 'kAnnealingB': 2.9893493138150813, 'kAnnealingStart': 6.839953799023384, 'kSkipRatio': 0.37532593263160274, 'kTargetDeterminationTrials': 9, 'kAttractionRatio': 0.48557352429038636, 'kMaxAttractionDistance': 19, 'kStartAttraction': 0.7405715118735745}. Best is trial 154 with value: 8222.937853107345.\u001b[0m\n"
     ]
    },
    {
     "name": "stdout",
     "output_type": "stream",
     "text": [
      "index_parallel='0179'\n"
     ]
    },
    {
     "name": "stderr",
     "output_type": "stream",
     "text": [
      "\u001b[32m[I 2022-08-16 06:59:56,351]\u001b[0m Trial 179 finished with value: 8116.3050847457625 and parameters: {'kErase': 1, 'kRadius': 5, 'kAnnealingA': 5.099297345183059, 'kAnnealingB': 2.920360216965722, 'kAnnealingStart': 6.841022704964955, 'kSkipRatio': 0.37691573526777244, 'kTargetDeterminationTrials': 10, 'kAttractionRatio': 0.4883326200340898, 'kMaxAttractionDistance': 19, 'kStartAttraction': 0.7598220807525891}. Best is trial 154 with value: 8222.937853107345.\u001b[0m\n"
     ]
    },
    {
     "name": "stdout",
     "output_type": "stream",
     "text": [
      "index_parallel='0180'\n"
     ]
    },
    {
     "name": "stderr",
     "output_type": "stream",
     "text": [
      "\u001b[32m[I 2022-08-16 07:03:22,755]\u001b[0m Trial 180 finished with value: 8070.039548022599 and parameters: {'kErase': 1, 'kRadius': 5, 'kAnnealingA': 4.527680857295666, 'kAnnealingB': 2.9807845670866344, 'kAnnealingStart': 9.528562361267355, 'kSkipRatio': 0.3464519816887832, 'kTargetDeterminationTrials': 9, 'kAttractionRatio': 0.3900949539940721, 'kMaxAttractionDistance': 22, 'kStartAttraction': 0.6250699219985713}. Best is trial 154 with value: 8222.937853107345.\u001b[0m\n"
     ]
    },
    {
     "name": "stdout",
     "output_type": "stream",
     "text": [
      "index_parallel='0181'\n"
     ]
    },
    {
     "name": "stderr",
     "output_type": "stream",
     "text": [
      "\u001b[32m[I 2022-08-16 07:06:48,962]\u001b[0m Trial 181 finished with value: 7851.12429378531 and parameters: {'kErase': 1, 'kRadius': 5, 'kAnnealingA': 3.785398066012353, 'kAnnealingB': 2.6289766706730506, 'kAnnealingStart': 7.596173227734046, 'kSkipRatio': 0.39316058132880616, 'kTargetDeterminationTrials': 11, 'kAttractionRatio': 0.4323675327065063, 'kMaxAttractionDistance': 15, 'kStartAttraction': 0.07148462250816312}. Best is trial 154 with value: 8222.937853107345.\u001b[0m\n"
     ]
    },
    {
     "name": "stdout",
     "output_type": "stream",
     "text": [
      "index_parallel='0182'\n"
     ]
    },
    {
     "name": "stderr",
     "output_type": "stream",
     "text": [
      "\u001b[32m[I 2022-08-16 07:10:15,051]\u001b[0m Trial 182 finished with value: 8163.163841807909 and parameters: {'kErase': 1, 'kRadius': 5, 'kAnnealingA': 3.1559332801072633, 'kAnnealingB': 2.6737455330960525, 'kAnnealingStart': 6.70426949979143, 'kSkipRatio': 0.3700133983436807, 'kTargetDeterminationTrials': 11, 'kAttractionRatio': 0.3324562321727292, 'kMaxAttractionDistance': 17, 'kStartAttraction': 0.7051184855173928}. Best is trial 154 with value: 8222.937853107345.\u001b[0m\n"
     ]
    },
    {
     "name": "stdout",
     "output_type": "stream",
     "text": [
      "index_parallel='0183'\n"
     ]
    },
    {
     "name": "stderr",
     "output_type": "stream",
     "text": [
      "\u001b[32m[I 2022-08-16 07:13:41,390]\u001b[0m Trial 183 finished with value: 8115.011299435028 and parameters: {'kErase': 1, 'kRadius': 5, 'kAnnealingA': 5.156098627878839, 'kAnnealingB': 2.6760166953618487, 'kAnnealingStart': 5.997581624425858, 'kSkipRatio': 0.373915588135892, 'kTargetDeterminationTrials': 11, 'kAttractionRatio': 0.31876951859157554, 'kMaxAttractionDistance': 21, 'kStartAttraction': 0.7220896952540495}. Best is trial 154 with value: 8222.937853107345.\u001b[0m\n"
     ]
    },
    {
     "name": "stdout",
     "output_type": "stream",
     "text": [
      "index_parallel='0184'\n"
     ]
    },
    {
     "name": "stderr",
     "output_type": "stream",
     "text": [
      "\u001b[32m[I 2022-08-16 07:17:07,494]\u001b[0m Trial 184 finished with value: 8156.112994350283 and parameters: {'kErase': 1, 'kRadius': 5, 'kAnnealingA': 3.2408673985521466, 'kAnnealingB': 2.8643096501682, 'kAnnealingStart': 6.708168321402821, 'kSkipRatio': 0.3619975492194615, 'kTargetDeterminationTrials': 11, 'kAttractionRatio': 0.3695891730638644, 'kMaxAttractionDistance': 20, 'kStartAttraction': 0.6390109236076111}. Best is trial 154 with value: 8222.937853107345.\u001b[0m\n"
     ]
    },
    {
     "name": "stdout",
     "output_type": "stream",
     "text": [
      "index_parallel='0185'\n"
     ]
    },
    {
     "name": "stderr",
     "output_type": "stream",
     "text": [
      "\u001b[32m[I 2022-08-16 07:20:33,938]\u001b[0m Trial 185 finished with value: 8102.180790960452 and parameters: {'kErase': 1, 'kRadius': 5, 'kAnnealingA': 3.1914270625198524, 'kAnnealingB': 2.8586587151157064, 'kAnnealingStart': 8.195313455088515, 'kSkipRatio': 0.39528802872970836, 'kTargetDeterminationTrials': 10, 'kAttractionRatio': 0.4089371719377997, 'kMaxAttractionDistance': 20, 'kStartAttraction': 0.6169562492516125}. Best is trial 154 with value: 8222.937853107345.\u001b[0m\n"
     ]
    },
    {
     "name": "stdout",
     "output_type": "stream",
     "text": [
      "index_parallel='0186'\n"
     ]
    },
    {
     "name": "stderr",
     "output_type": "stream",
     "text": [
      "\u001b[32m[I 2022-08-16 07:24:00,431]\u001b[0m Trial 186 finished with value: 8098.322033898305 and parameters: {'kErase': 1, 'kRadius': 5, 'kAnnealingA': 4.492100155882873, 'kAnnealingB': 2.937897469925804, 'kAnnealingStart': 7.526392726196278, 'kSkipRatio': 0.3724209856061897, 'kTargetDeterminationTrials': 12, 'kAttractionRatio': 0.270155366039886, 'kMaxAttractionDistance': 19, 'kStartAttraction': 0.6696430169551337}. Best is trial 154 with value: 8222.937853107345.\u001b[0m\n"
     ]
    },
    {
     "name": "stdout",
     "output_type": "stream",
     "text": [
      "index_parallel='0187'\n"
     ]
    },
    {
     "name": "stderr",
     "output_type": "stream",
     "text": [
      "\u001b[32m[I 2022-08-16 07:27:26,893]\u001b[0m Trial 187 finished with value: 8042.282485875706 and parameters: {'kErase': 1, 'kRadius': 5, 'kAnnealingA': 3.476361464572616, 'kAnnealingB': 2.764328371130723, 'kAnnealingStart': 6.6047158392291685, 'kSkipRatio': 0.38515468255929974, 'kTargetDeterminationTrials': 11, 'kAttractionRatio': 0.37595592725840826, 'kMaxAttractionDistance': 16, 'kStartAttraction': 0.8990232389969065}. Best is trial 154 with value: 8222.937853107345.\u001b[0m\n"
     ]
    },
    {
     "name": "stdout",
     "output_type": "stream",
     "text": [
      "index_parallel='0188'\n"
     ]
    },
    {
     "name": "stderr",
     "output_type": "stream",
     "text": [
      "\u001b[32m[I 2022-08-16 07:30:53,590]\u001b[0m Trial 188 finished with value: 8056.118644067797 and parameters: {'kErase': 1, 'kRadius': 5, 'kAnnealingA': 5.03412356109598, 'kAnnealingB': 2.9962946245377777, 'kAnnealingStart': 9.228584286043285, 'kSkipRatio': 0.3999060918590164, 'kTargetDeterminationTrials': 12, 'kAttractionRatio': 0.4881376616809593, 'kMaxAttractionDistance': 15, 'kStartAttraction': 0.6044068394446666}. Best is trial 154 with value: 8222.937853107345.\u001b[0m\n"
     ]
    },
    {
     "name": "stdout",
     "output_type": "stream",
     "text": [
      "index_parallel='0189'\n"
     ]
    },
    {
     "name": "stderr",
     "output_type": "stream",
     "text": [
      "\u001b[32m[I 2022-08-16 07:34:20,065]\u001b[0m Trial 189 finished with value: 8061.463276836158 and parameters: {'kErase': 1, 'kRadius': 5, 'kAnnealingA': 2.8853630206072425, 'kAnnealingB': 2.8287238518518873, 'kAnnealingStart': 6.029675184756082, 'kSkipRatio': 0.3493691684119434, 'kTargetDeterminationTrials': 9, 'kAttractionRatio': 0.325569106291475, 'kMaxAttractionDistance': 21, 'kStartAttraction': 0.7247310047793148}. Best is trial 154 with value: 8222.937853107345.\u001b[0m\n"
     ]
    },
    {
     "name": "stdout",
     "output_type": "stream",
     "text": [
      "index_parallel='0190'\n"
     ]
    },
    {
     "name": "stderr",
     "output_type": "stream",
     "text": [
      "\u001b[32m[I 2022-08-16 07:37:46,401]\u001b[0m Trial 190 finished with value: 8089.683615819209 and parameters: {'kErase': 1, 'kRadius': 5, 'kAnnealingA': 6.120010016220192, 'kAnnealingB': 2.8718747216456806, 'kAnnealingStart': 8.106300875780553, 'kSkipRatio': 0.3265173692738057, 'kTargetDeterminationTrials': 11, 'kAttractionRatio': 0.4500013587547294, 'kMaxAttractionDistance': 19, 'kStartAttraction': 0.5906747295204694}. Best is trial 154 with value: 8222.937853107345.\u001b[0m\n"
     ]
    },
    {
     "name": "stdout",
     "output_type": "stream",
     "text": [
      "index_parallel='0191'\n"
     ]
    },
    {
     "name": "stderr",
     "output_type": "stream",
     "text": [
      "\u001b[32m[I 2022-08-16 07:41:12,625]\u001b[0m Trial 191 finished with value: 8214.310734463277 and parameters: {'kErase': 1, 'kRadius': 5, 'kAnnealingA': 4.175050509576945, 'kAnnealingB': 2.779340162951595, 'kAnnealingStart': 6.82338357259066, 'kSkipRatio': 0.3609857139985767, 'kTargetDeterminationTrials': 13, 'kAttractionRatio': 0.35067741437736394, 'kMaxAttractionDistance': 17, 'kStartAttraction': 0.7833383979975673}. Best is trial 154 with value: 8222.937853107345.\u001b[0m\n"
     ]
    },
    {
     "name": "stdout",
     "output_type": "stream",
     "text": [
      "index_parallel='0192'\n"
     ]
    },
    {
     "name": "stderr",
     "output_type": "stream",
     "text": [
      "\u001b[32m[I 2022-08-16 07:44:38,599]\u001b[0m Trial 192 finished with value: 8179.209039548023 and parameters: {'kErase': 1, 'kRadius': 5, 'kAnnealingA': 4.315596856216238, 'kAnnealingB': 2.787559061923639, 'kAnnealingStart': 7.394262254693723, 'kSkipRatio': 0.3650970908758332, 'kTargetDeterminationTrials': 10, 'kAttractionRatio': 0.37836799545250527, 'kMaxAttractionDistance': 17, 'kStartAttraction': 0.6693524616657998}. Best is trial 154 with value: 8222.937853107345.\u001b[0m\n"
     ]
    },
    {
     "name": "stdout",
     "output_type": "stream",
     "text": [
      "index_parallel='0193'\n"
     ]
    },
    {
     "name": "stderr",
     "output_type": "stream",
     "text": [
      "\u001b[32m[I 2022-08-16 07:48:05,065]\u001b[0m Trial 193 finished with value: 8176.367231638418 and parameters: {'kErase': 1, 'kRadius': 5, 'kAnnealingA': 4.4351397297157265, 'kAnnealingB': 2.5855659536266784, 'kAnnealingStart': 6.654139345992937, 'kSkipRatio': 0.353237500815213, 'kTargetDeterminationTrials': 10, 'kAttractionRatio': 0.3362303547879335, 'kMaxAttractionDistance': 14, 'kStartAttraction': 0.6848904773459523}. Best is trial 154 with value: 8222.937853107345.\u001b[0m\n"
     ]
    },
    {
     "name": "stdout",
     "output_type": "stream",
     "text": [
      "index_parallel='0194'\n"
     ]
    },
    {
     "name": "stderr",
     "output_type": "stream",
     "text": [
      "\u001b[32m[I 2022-08-16 07:51:31,257]\u001b[0m Trial 194 finished with value: 8080.412429378531 and parameters: {'kErase': 1, 'kRadius': 5, 'kAnnealingA': 4.636623389363199, 'kAnnealingB': 2.5998020981961356, 'kAnnealingStart': 8.713905345634277, 'kSkipRatio': 0.34367281451420595, 'kTargetDeterminationTrials': 10, 'kAttractionRatio': 0.333649296275335, 'kMaxAttractionDistance': 14, 'kStartAttraction': 0.8079266064248963}. Best is trial 154 with value: 8222.937853107345.\u001b[0m\n"
     ]
    },
    {
     "name": "stdout",
     "output_type": "stream",
     "text": [
      "index_parallel='0195'\n"
     ]
    },
    {
     "name": "stderr",
     "output_type": "stream",
     "text": [
      "\u001b[32m[I 2022-08-16 07:54:57,408]\u001b[0m Trial 195 finished with value: 8212.875706214689 and parameters: {'kErase': 1, 'kRadius': 5, 'kAnnealingA': 5.459503648072847, 'kAnnealingB': 2.7608394850240185, 'kAnnealingStart': 6.125847457131181, 'kSkipRatio': 0.35754438875493333, 'kTargetDeterminationTrials': 9, 'kAttractionRatio': 0.313400766052485, 'kMaxAttractionDistance': 15, 'kStartAttraction': 0.6466783217010375}. Best is trial 154 with value: 8222.937853107345.\u001b[0m\n"
     ]
    },
    {
     "name": "stdout",
     "output_type": "stream",
     "text": [
      "index_parallel='0196'\n"
     ]
    },
    {
     "name": "stderr",
     "output_type": "stream",
     "text": [
      "\u001b[32m[I 2022-08-16 07:58:23,675]\u001b[0m Trial 196 finished with value: 8157.5649717514125 and parameters: {'kErase': 1, 'kRadius': 5, 'kAnnealingA': 5.361724257076907, 'kAnnealingB': 2.755286796184685, 'kAnnealingStart': 6.288602120625877, 'kSkipRatio': 0.3565916793704699, 'kTargetDeterminationTrials': 9, 'kAttractionRatio': 0.2739647622211673, 'kMaxAttractionDistance': 14, 'kStartAttraction': 0.6464445735276172}. Best is trial 154 with value: 8222.937853107345.\u001b[0m\n"
     ]
    },
    {
     "name": "stdout",
     "output_type": "stream",
     "text": [
      "index_parallel='0197'\n"
     ]
    },
    {
     "name": "stderr",
     "output_type": "stream",
     "text": [
      "\u001b[32m[I 2022-08-16 08:01:49,991]\u001b[0m Trial 197 finished with value: 8125.5197740113 and parameters: {'kErase': 1, 'kRadius': 5, 'kAnnealingA': 5.683986891536043, 'kAnnealingB': 2.788199863784597, 'kAnnealingStart': 5.809287447966241, 'kSkipRatio': 0.33614328167460295, 'kTargetDeterminationTrials': 9, 'kAttractionRatio': 0.2770722182308873, 'kMaxAttractionDistance': 14, 'kStartAttraction': 0.6446716697293798}. Best is trial 154 with value: 8222.937853107345.\u001b[0m\n"
     ]
    },
    {
     "name": "stdout",
     "output_type": "stream",
     "text": [
      "index_parallel='0198'\n"
     ]
    },
    {
     "name": "stderr",
     "output_type": "stream",
     "text": [
      "\u001b[32m[I 2022-08-16 08:05:16,529]\u001b[0m Trial 198 finished with value: 8107.271186440678 and parameters: {'kErase': 1, 'kRadius': 5, 'kAnnealingA': 6.702274416809383, 'kAnnealingB': 2.623141959845367, 'kAnnealingStart': 6.27328070411698, 'kSkipRatio': 0.35613820515641037, 'kTargetDeterminationTrials': 9, 'kAttractionRatio': 0.3148895179498825, 'kMaxAttractionDistance': 15, 'kStartAttraction': 0.5141006347081609}. Best is trial 154 with value: 8222.937853107345.\u001b[0m\n"
     ]
    },
    {
     "name": "stdout",
     "output_type": "stream",
     "text": [
      "index_parallel='0199'\n"
     ]
    },
    {
     "name": "stderr",
     "output_type": "stream",
     "text": [
      "\u001b[32m[I 2022-08-16 08:08:42,638]\u001b[0m Trial 199 finished with value: 7933.706214689266 and parameters: {'kErase': 1, 'kRadius': 5, 'kAnnealingA': 3.8843501093490023, 'kAnnealingB': 2.776133370505891, 'kAnnealingStart': 6.643561605335587, 'kSkipRatio': 0.3590693380735857, 'kTargetDeterminationTrials': 10, 'kAttractionRatio': 0.256662919075006, 'kMaxAttractionDistance': 13, 'kStartAttraction': 0.04199555787017862}. Best is trial 154 with value: 8222.937853107345.\u001b[0m\n"
     ]
    },
    {
     "name": "stdout",
     "output_type": "stream",
     "text": [
      "index_parallel='0201'\n"
     ]
    },
    {
     "name": "stderr",
     "output_type": "stream",
     "text": [
      "\u001b[32m[I 2022-08-16 08:12:09,057]\u001b[0m Trial 201 finished with value: 7649.672316384181 and parameters: {'kErase': 1, 'kRadius': 5, 'kAnnealingA': 5.467463630228367, 'kAnnealingB': 2.5530397752750673, 'kAnnealingStart': 5.6495254787156215, 'kSkipRatio': 0.31743273322806587, 'kTargetDeterminationTrials': 10, 'kAttractionRatio': 0.28419259872881175, 'kMaxAttractionDistance': 14, 'kStartAttraction': 0.0049740683519374825}. Best is trial 154 with value: 8222.937853107345.\u001b[0m\n"
     ]
    },
    {
     "name": "stdout",
     "output_type": "stream",
     "text": [
      "index_parallel='0203'\n"
     ]
    },
    {
     "name": "stderr",
     "output_type": "stream",
     "text": [
      "\u001b[32m[I 2022-08-16 08:15:35,314]\u001b[0m Trial 203 finished with value: 8085.6384180790965 and parameters: {'kErase': 1, 'kRadius': 5, 'kAnnealingA': 4.670627649768732, 'kAnnealingB': 2.8297018992733385, 'kAnnealingStart': 7.374441731696344, 'kSkipRatio': 0.38461266893917934, 'kTargetDeterminationTrials': 12, 'kAttractionRatio': 0.3190869039938794, 'kMaxAttractionDistance': 17, 'kStartAttraction': 0.6717723093006253}. Best is trial 154 with value: 8222.937853107345.\u001b[0m\n"
     ]
    },
    {
     "name": "stdout",
     "output_type": "stream",
     "text": [
      "index_parallel='0205'\n"
     ]
    },
    {
     "name": "stderr",
     "output_type": "stream",
     "text": [
      "\u001b[32m[I 2022-08-16 08:19:01,729]\u001b[0m Trial 205 finished with value: 8162.220338983051 and parameters: {'kErase': 1, 'kRadius': 5, 'kAnnealingA': 3.7215930898987, 'kAnnealingB': 2.6598989775357627, 'kAnnealingStart': 6.110066549825804, 'kSkipRatio': 0.4010270562818062, 'kTargetDeterminationTrials': 12, 'kAttractionRatio': 0.30720891752671575, 'kMaxAttractionDistance': 15, 'kStartAttraction': 0.6046240458659556}. Best is trial 154 with value: 8222.937853107345.\u001b[0m\n"
     ]
    },
    {
     "name": "stdout",
     "output_type": "stream",
     "text": [
      "index_parallel='0207'\n"
     ]
    },
    {
     "name": "stderr",
     "output_type": "stream",
     "text": [
      "\u001b[32m[I 2022-08-16 08:22:28,330]\u001b[0m Trial 207 finished with value: 8099.209039548023 and parameters: {'kErase': 1, 'kRadius': 5, 'kAnnealingA': 3.652171883569894, 'kAnnealingB': 2.5843324285692133, 'kAnnealingStart': 6.096952149440837, 'kSkipRatio': 0.4014666236218905, 'kTargetDeterminationTrials': 12, 'kAttractionRatio': 0.3027446420382761, 'kMaxAttractionDistance': 15, 'kStartAttraction': 0.5918504146297959}. Best is trial 154 with value: 8222.937853107345.\u001b[0m\n"
     ]
    },
    {
     "name": "stdout",
     "output_type": "stream",
     "text": [
      "index_parallel='0209'\n"
     ]
    },
    {
     "name": "stderr",
     "output_type": "stream",
     "text": [
      "\u001b[32m[I 2022-08-16 08:25:54,698]\u001b[0m Trial 209 finished with value: 7184.700564971751 and parameters: {'kErase': 1, 'kRadius': 5, 'kAnnealingA': 4.239036692922049, 'kAnnealingB': 2.532841357820015, 'kAnnealingStart': 59.69099200041621, 'kSkipRatio': 0.41232140985991844, 'kTargetDeterminationTrials': 13, 'kAttractionRatio': 0.3521047381639699, 'kMaxAttractionDistance': 16, 'kStartAttraction': 0.49389014822451865}. Best is trial 154 with value: 8222.937853107345.\u001b[0m\n"
     ]
    },
    {
     "name": "stdout",
     "output_type": "stream",
     "text": [
      "index_parallel='0211'\n"
     ]
    },
    {
     "name": "stderr",
     "output_type": "stream",
     "text": [
      "\u001b[32m[I 2022-08-16 08:29:21,462]\u001b[0m Trial 211 finished with value: 8084.197740112994 and parameters: {'kErase': 1, 'kRadius': 5, 'kAnnealingA': 6.34725699004972, 'kAnnealingB': 2.6551250483530766, 'kAnnealingStart': 5.833095015061835, 'kSkipRatio': 0.38330827856291416, 'kTargetDeterminationTrials': 14, 'kAttractionRatio': 0.3770508197912004, 'kMaxAttractionDistance': 16, 'kStartAttraction': 0.6543121438402525}. Best is trial 154 with value: 8222.937853107345.\u001b[0m\n"
     ]
    },
    {
     "name": "stdout",
     "output_type": "stream",
     "text": [
      "index_parallel='0213'\n"
     ]
    },
    {
     "name": "stderr",
     "output_type": "stream",
     "text": [
      "\u001b[32m[I 2022-08-16 08:32:47,899]\u001b[0m Trial 213 finished with value: 8138.824858757062 and parameters: {'kErase': 1, 'kRadius': 5, 'kAnnealingA': 4.2342635552661, 'kAnnealingB': 2.658269987046457, 'kAnnealingStart': 7.09640950668767, 'kSkipRatio': 0.4234567895927357, 'kTargetDeterminationTrials': 12, 'kAttractionRatio': 0.2791707092695308, 'kMaxAttractionDistance': 14, 'kStartAttraction': 0.4290884786487482}. Best is trial 154 with value: 8222.937853107345.\u001b[0m\n"
     ]
    },
    {
     "name": "stdout",
     "output_type": "stream",
     "text": [
      "index_parallel='0215'\n"
     ]
    },
    {
     "name": "stderr",
     "output_type": "stream",
     "text": [
      "\u001b[32m[I 2022-08-16 08:36:14,664]\u001b[0m Trial 215 finished with value: 7935.3050847457625 and parameters: {'kErase': 1, 'kRadius': 5, 'kAnnealingA': 4.216586604875352, 'kAnnealingB': 2.737001882420341, 'kAnnealingStart': 6.363607988456614, 'kSkipRatio': 0.4065301328303269, 'kTargetDeterminationTrials': 12, 'kAttractionRatio': 0.06174893601787689, 'kMaxAttractionDistance': 15, 'kStartAttraction': 0.5721343031316282}. Best is trial 154 with value: 8222.937853107345.\u001b[0m\n"
     ]
    },
    {
     "name": "stdout",
     "output_type": "stream",
     "text": [
      "index_parallel='0217'\n"
     ]
    },
    {
     "name": "stderr",
     "output_type": "stream",
     "text": [
      "\u001b[32m[I 2022-08-16 08:39:41,349]\u001b[0m Trial 217 finished with value: 8158.892655367232 and parameters: {'kErase': 1, 'kRadius': 5, 'kAnnealingA': 5.522945564347262, 'kAnnealingB': 2.5789678190902987, 'kAnnealingStart': 6.337651991200101, 'kSkipRatio': 0.3949519276789746, 'kTargetDeterminationTrials': 13, 'kAttractionRatio': 0.3308222746079488, 'kMaxAttractionDistance': 18, 'kStartAttraction': 0.6484652726921135}. Best is trial 154 with value: 8222.937853107345.\u001b[0m\n"
     ]
    },
    {
     "name": "stdout",
     "output_type": "stream",
     "text": [
      "index_parallel='0219'\n"
     ]
    },
    {
     "name": "stderr",
     "output_type": "stream",
     "text": [
      "\u001b[32m[I 2022-08-16 08:43:07,750]\u001b[0m Trial 219 finished with value: 8059.011299435028 and parameters: {'kErase': 1, 'kRadius': 5, 'kAnnealingA': 5.771786057919619, 'kAnnealingB': 2.5867028221438324, 'kAnnealingStart': 5.601488451295893, 'kSkipRatio': 0.392810964171104, 'kTargetDeterminationTrials': 11, 'kAttractionRatio': 0.3045023572446005, 'kMaxAttractionDistance': 17, 'kStartAttraction': 0.4712283706245647}. Best is trial 154 with value: 8222.937853107345.\u001b[0m\n"
     ]
    },
    {
     "name": "stdout",
     "output_type": "stream",
     "text": [
      "index_parallel='0221'\n"
     ]
    },
    {
     "name": "stderr",
     "output_type": "stream",
     "text": [
      "\u001b[32m[I 2022-08-16 08:46:34,066]\u001b[0m Trial 221 finished with value: 8137.333333333333 and parameters: {'kErase': 1, 'kRadius': 5, 'kAnnealingA': 4.908529254451315, 'kAnnealingB': 2.6832035412570727, 'kAnnealingStart': 6.671334931595568, 'kSkipRatio': 0.4140363077350562, 'kTargetDeterminationTrials': 14, 'kAttractionRatio': 0.34544454925270374, 'kMaxAttractionDistance': 15, 'kStartAttraction': 0.656105020176641}. Best is trial 154 with value: 8222.937853107345.\u001b[0m\n"
     ]
    },
    {
     "name": "stdout",
     "output_type": "stream",
     "text": [
      "index_parallel='0223'\n"
     ]
    },
    {
     "name": "stderr",
     "output_type": "stream",
     "text": [
      "\u001b[32m[I 2022-08-16 08:50:00,371]\u001b[0m Trial 223 finished with value: 8189.4802259887 and parameters: {'kErase': 1, 'kRadius': 5, 'kAnnealingA': 3.5893062301119043, 'kAnnealingB': 2.5130941418761625, 'kAnnealingStart': 8.65736460753504, 'kSkipRatio': 0.36374463246794386, 'kTargetDeterminationTrials': 12, 'kAttractionRatio': 0.3978930903306557, 'kMaxAttractionDistance': 18, 'kStartAttraction': 0.6828467090776935}. Best is trial 154 with value: 8222.937853107345.\u001b[0m\n"
     ]
    },
    {
     "name": "stdout",
     "output_type": "stream",
     "text": [
      "index_parallel='0225'\n"
     ]
    },
    {
     "name": "stderr",
     "output_type": "stream",
     "text": [
      "\u001b[32m[I 2022-08-16 08:53:26,823]\u001b[0m Trial 225 finished with value: 8091.0 and parameters: {'kErase': 1, 'kRadius': 5, 'kAnnealingA': 4.443904771110033, 'kAnnealingB': 2.7467678398092943, 'kAnnealingStart': 9.00761986842471, 'kSkipRatio': 0.380580243656043, 'kTargetDeterminationTrials': 13, 'kAttractionRatio': 0.2693151112197388, 'kMaxAttractionDistance': 14, 'kStartAttraction': 0.5650336401538352}. Best is trial 154 with value: 8222.937853107345.\u001b[0m\n"
     ]
    },
    {
     "name": "stdout",
     "output_type": "stream",
     "text": [
      "index_parallel='0227'\n"
     ]
    },
    {
     "name": "stderr",
     "output_type": "stream",
     "text": [
      "\u001b[32m[I 2022-08-16 08:56:53,177]\u001b[0m Trial 227 finished with value: 8015.587570621469 and parameters: {'kErase': 1, 'kRadius': 5, 'kAnnealingA': 5.234012951900191, 'kAnnealingB': 2.8019896524359, 'kAnnealingStart': 9.873187371809776, 'kSkipRatio': 0.364496771331377, 'kTargetDeterminationTrials': 11, 'kAttractionRatio': 0.25076069439970416, 'kMaxAttractionDistance': 17, 'kStartAttraction': 0.5175137752496847}. Best is trial 154 with value: 8222.937853107345.\u001b[0m\n"
     ]
    },
    {
     "name": "stdout",
     "output_type": "stream",
     "text": [
      "index_parallel='0229'\n"
     ]
    },
    {
     "name": "stderr",
     "output_type": "stream",
     "text": [
      "\u001b[32m[I 2022-08-16 09:00:19,666]\u001b[0m Trial 229 finished with value: 8202.152542372882 and parameters: {'kErase': 1, 'kRadius': 5, 'kAnnealingA': 6.775395279863874, 'kAnnealingB': 2.7012379860832034, 'kAnnealingStart': 8.266925295159123, 'kSkipRatio': 0.7214681063041805, 'kTargetDeterminationTrials': 10, 'kAttractionRatio': 0.2878786420187372, 'kMaxAttractionDistance': 16, 'kStartAttraction': 0.5372390547505749}. Best is trial 154 with value: 8222.937853107345.\u001b[0m\n"
     ]
    },
    {
     "name": "stdout",
     "output_type": "stream",
     "text": [
      "index_parallel='0231'\n"
     ]
    },
    {
     "name": "stderr",
     "output_type": "stream",
     "text": [
      "\u001b[32m[I 2022-08-16 09:03:45,972]\u001b[0m Trial 231 finished with value: 8186.225988700565 and parameters: {'kErase': 1, 'kRadius': 5, 'kAnnealingA': 6.997634539822623, 'kAnnealingB': 2.704234521371906, 'kAnnealingStart': 8.62213997130889, 'kSkipRatio': 0.73169698186704, 'kTargetDeterminationTrials': 10, 'kAttractionRatio': 0.28998773605323347, 'kMaxAttractionDistance': 16, 'kStartAttraction': 0.5328947539640041}. Best is trial 230 with value: 8261.802259887005.\u001b[0m\n"
     ]
    },
    {
     "name": "stdout",
     "output_type": "stream",
     "text": [
      "index_parallel='0233'\n"
     ]
    },
    {
     "name": "stderr",
     "output_type": "stream",
     "text": [
      "\u001b[32m[I 2022-08-16 09:07:12,180]\u001b[0m Trial 233 finished with value: 7792.751412429378 and parameters: {'kErase': 1, 'kRadius': 5, 'kAnnealingA': 7.275641705386182, 'kAnnealingB': 2.500221784895181, 'kAnnealingStart': 8.702985276731894, 'kSkipRatio': 0.6932098023599046, 'kTargetDeterminationTrials': 10, 'kAttractionRatio': 0.28908846798776444, 'kMaxAttractionDistance': 13, 'kStartAttraction': 0.01519889032734337}. Best is trial 230 with value: 8261.802259887005.\u001b[0m\n"
     ]
    },
    {
     "name": "stdout",
     "output_type": "stream",
     "text": [
      "index_parallel='0235'\n"
     ]
    },
    {
     "name": "stderr",
     "output_type": "stream",
     "text": [
      "\u001b[32m[I 2022-08-16 09:10:38,313]\u001b[0m Trial 235 finished with value: 8176.039548022599 and parameters: {'kErase': 1, 'kRadius': 5, 'kAnnealingA': 8.2199263827786, 'kAnnealingB': 2.3791802731221035, 'kAnnealingStart': 8.943615092771102, 'kSkipRatio': 0.7675710532990987, 'kTargetDeterminationTrials': 10, 'kAttractionRatio': 0.29798197721364217, 'kMaxAttractionDistance': 16, 'kStartAttraction': 0.4380594875828123}. Best is trial 234 with value: 8295.853107344632.\u001b[0m\n"
     ]
    },
    {
     "name": "stdout",
     "output_type": "stream",
     "text": [
      "index_parallel='0237'\n"
     ]
    },
    {
     "name": "stderr",
     "output_type": "stream",
     "text": [
      "\u001b[32m[I 2022-08-16 09:14:04,340]\u001b[0m Trial 237 finished with value: 8183.4802259887 and parameters: {'kErase': 1, 'kRadius': 5, 'kAnnealingA': 9.036872507217492, 'kAnnealingB': 2.462954678989287, 'kAnnealingStart': 10.271540500910222, 'kSkipRatio': 0.7915486446101467, 'kTargetDeterminationTrials': 10, 'kAttractionRatio': 0.2908914389060415, 'kMaxAttractionDistance': 16, 'kStartAttraction': 0.38756581266905604}. Best is trial 234 with value: 8295.853107344632.\u001b[0m\n"
     ]
    },
    {
     "name": "stdout",
     "output_type": "stream",
     "text": [
      "index_parallel='0239'\n"
     ]
    },
    {
     "name": "stderr",
     "output_type": "stream",
     "text": [
      "\u001b[32m[I 2022-08-16 09:17:30,889]\u001b[0m Trial 239 finished with value: 8155.3050847457625 and parameters: {'kErase': 1, 'kRadius': 5, 'kAnnealingA': 10.416189911182018, 'kAnnealingB': 2.390773175424455, 'kAnnealingStart': 10.185958805891051, 'kSkipRatio': 0.7843075399309611, 'kTargetDeterminationTrials': 10, 'kAttractionRatio': 0.2850270233209883, 'kMaxAttractionDistance': 16, 'kStartAttraction': 0.36780350765966024}. Best is trial 234 with value: 8295.853107344632.\u001b[0m\n"
     ]
    },
    {
     "name": "stdout",
     "output_type": "stream",
     "text": [
      "index_parallel='0241'\n"
     ]
    },
    {
     "name": "stderr",
     "output_type": "stream",
     "text": [
      "\u001b[32m[I 2022-08-16 09:20:57,140]\u001b[0m Trial 241 finished with value: 8220.994350282486 and parameters: {'kErase': 1, 'kRadius': 5, 'kAnnealingA': 9.472555230421616, 'kAnnealingB': 2.4610860976720588, 'kAnnealingStart': 8.719914734974907, 'kSkipRatio': 0.7558568512574306, 'kTargetDeterminationTrials': 9, 'kAttractionRatio': 0.2419114548679629, 'kMaxAttractionDistance': 14, 'kStartAttraction': 0.41184232901822315}. Best is trial 234 with value: 8295.853107344632.\u001b[0m\n"
     ]
    },
    {
     "name": "stdout",
     "output_type": "stream",
     "text": [
      "index_parallel='0243'\n"
     ]
    },
    {
     "name": "stderr",
     "output_type": "stream",
     "text": [
      "\u001b[32m[I 2022-08-16 09:24:23,305]\u001b[0m Trial 243 finished with value: 8176.310734463277 and parameters: {'kErase': 1, 'kRadius': 5, 'kAnnealingA': 9.383600404677873, 'kAnnealingB': 2.4542531013019953, 'kAnnealingStart': 9.093597939331893, 'kSkipRatio': 0.7620072093475166, 'kTargetDeterminationTrials': 8, 'kAttractionRatio': 0.23945815264512754, 'kMaxAttractionDistance': 14, 'kStartAttraction': 0.39238775116653113}. Best is trial 234 with value: 8295.853107344632.\u001b[0m\n"
     ]
    },
    {
     "name": "stdout",
     "output_type": "stream",
     "text": [
      "index_parallel='0245'\n"
     ]
    },
    {
     "name": "stderr",
     "output_type": "stream",
     "text": [
      "\u001b[32m[I 2022-08-16 09:27:49,781]\u001b[0m Trial 245 finished with value: 8124.570621468926 and parameters: {'kErase': 1, 'kRadius': 5, 'kAnnealingA': 9.299544628396392, 'kAnnealingB': 2.484426435987146, 'kAnnealingStart': 9.169625958802182, 'kSkipRatio': 0.7583844839284319, 'kTargetDeterminationTrials': 8, 'kAttractionRatio': 0.2554268276615819, 'kMaxAttractionDistance': 13, 'kStartAttraction': 0.3887083373234821}. Best is trial 234 with value: 8295.853107344632.\u001b[0m\n"
     ]
    },
    {
     "name": "stdout",
     "output_type": "stream",
     "text": [
      "index_parallel='0247'\n"
     ]
    },
    {
     "name": "stderr",
     "output_type": "stream",
     "text": [
      "\u001b[32m[I 2022-08-16 09:31:16,080]\u001b[0m Trial 247 finished with value: 8193.463276836159 and parameters: {'kErase': 1, 'kRadius': 5, 'kAnnealingA': 8.565508055731994, 'kAnnealingB': 2.5173471161437013, 'kAnnealingStart': 9.741635842977043, 'kSkipRatio': 0.7305045508112997, 'kTargetDeterminationTrials': 9, 'kAttractionRatio': 0.2993589057805239, 'kMaxAttractionDistance': 15, 'kStartAttraction': 0.35366979051769976}. Best is trial 234 with value: 8295.853107344632.\u001b[0m\n"
     ]
    },
    {
     "name": "stdout",
     "output_type": "stream",
     "text": [
      "index_parallel='0249'\n"
     ]
    },
    {
     "name": "stderr",
     "output_type": "stream",
     "text": [
      "\u001b[32m[I 2022-08-16 09:34:42,670]\u001b[0m Trial 249 finished with value: 7839.209039548023 and parameters: {'kErase': 3, 'kRadius': 5, 'kAnnealingA': 8.639123509287753, 'kAnnealingB': 2.516147217723214, 'kAnnealingStart': 10.189904642781459, 'kSkipRatio': 0.7159639145251407, 'kTargetDeterminationTrials': 9, 'kAttractionRatio': 0.3083653635758773, 'kMaxAttractionDistance': 15, 'kStartAttraction': 0.3358840451767821}. Best is trial 234 with value: 8295.853107344632.\u001b[0m\n"
     ]
    },
    {
     "name": "stdout",
     "output_type": "stream",
     "text": [
      "index_parallel='0251'\n"
     ]
    },
    {
     "name": "stderr",
     "output_type": "stream",
     "text": [
      "\u001b[32m[I 2022-08-16 09:38:09,066]\u001b[0m Trial 251 finished with value: 8161.146892655367 and parameters: {'kErase': 1, 'kRadius': 5, 'kAnnealingA': 9.043979148009862, 'kAnnealingB': 2.551698260784897, 'kAnnealingStart': 9.063574255338672, 'kSkipRatio': 0.7473235369369071, 'kTargetDeterminationTrials': 9, 'kAttractionRatio': 0.3607802435959403, 'kMaxAttractionDistance': 15, 'kStartAttraction': 0.4277101130462663}. Best is trial 234 with value: 8295.853107344632.\u001b[0m\n"
     ]
    },
    {
     "name": "stdout",
     "output_type": "stream",
     "text": [
      "index_parallel='0253'\n"
     ]
    },
    {
     "name": "stderr",
     "output_type": "stream",
     "text": [
      "\u001b[32m[I 2022-08-16 09:41:36,534]\u001b[0m Trial 253 finished with value: 8129.485875706215 and parameters: {'kErase': 1, 'kRadius': 5, 'kAnnealingA': 9.857953261966118, 'kAnnealingB': 2.35595984188829, 'kAnnealingStart': 11.797176073727638, 'kSkipRatio': 0.7909234231505975, 'kTargetDeterminationTrials': 10, 'kAttractionRatio': 0.23110539567418864, 'kMaxAttractionDistance': 16, 'kStartAttraction': 0.4128468019498556}. Best is trial 234 with value: 8295.853107344632.\u001b[0m\n"
     ]
    },
    {
     "name": "stdout",
     "output_type": "stream",
     "text": [
      "index_parallel='0255'\n"
     ]
    },
    {
     "name": "stderr",
     "output_type": "stream",
     "text": [
      "\u001b[32m[I 2022-08-16 09:45:03,221]\u001b[0m Trial 255 finished with value: 8206.333333333334 and parameters: {'kErase': 1, 'kRadius': 5, 'kAnnealingA': 8.13235938600503, 'kAnnealingB': 2.482198379551432, 'kAnnealingStart': 10.688263728951025, 'kSkipRatio': 0.7798513004758256, 'kTargetDeterminationTrials': 10, 'kAttractionRatio': 0.25877468684757887, 'kMaxAttractionDistance': 16, 'kStartAttraction': 0.43339182286865996}. Best is trial 234 with value: 8295.853107344632.\u001b[0m\n"
     ]
    },
    {
     "name": "stdout",
     "output_type": "stream",
     "text": [
      "index_parallel='0257'\n"
     ]
    },
    {
     "name": "stderr",
     "output_type": "stream",
     "text": [
      "\u001b[32m[I 2022-08-16 09:48:29,506]\u001b[0m Trial 257 finished with value: 8197.887005649718 and parameters: {'kErase': 1, 'kRadius': 5, 'kAnnealingA': 7.721213647617661, 'kAnnealingB': 2.485753672942228, 'kAnnealingStart': 10.47120958723816, 'kSkipRatio': 0.7041234315895241, 'kTargetDeterminationTrials': 8, 'kAttractionRatio': 0.25483507494715996, 'kMaxAttractionDistance': 14, 'kStartAttraction': 0.47828741466658753}. Best is trial 234 with value: 8295.853107344632.\u001b[0m\n"
     ]
    },
    {
     "name": "stdout",
     "output_type": "stream",
     "text": [
      "index_parallel='0259'\n"
     ]
    },
    {
     "name": "stderr",
     "output_type": "stream",
     "text": [
      "\u001b[32m[I 2022-08-16 09:51:55,671]\u001b[0m Trial 259 finished with value: 8127.276836158192 and parameters: {'kErase': 1, 'kRadius': 5, 'kAnnealingA': 8.339528776598197, 'kAnnealingB': 2.572229518823934, 'kAnnealingStart': 11.80259621652801, 'kSkipRatio': 0.6768782911780457, 'kTargetDeterminationTrials': 10, 'kAttractionRatio': 0.2533106387631779, 'kMaxAttractionDistance': 14, 'kStartAttraction': 0.2761670052427703}. Best is trial 234 with value: 8295.853107344632.\u001b[0m\n"
     ]
    },
    {
     "name": "stdout",
     "output_type": "stream",
     "text": [
      "index_parallel='0261'\n"
     ]
    },
    {
     "name": "stderr",
     "output_type": "stream",
     "text": [
      "\u001b[32m[I 2022-08-16 09:55:21,851]\u001b[0m Trial 261 finished with value: 8077.881355932203 and parameters: {'kErase': 1, 'kRadius': 5, 'kAnnealingA': 7.662584971874638, 'kAnnealingB': 2.4704575314870194, 'kAnnealingStart': 15.285259006192062, 'kSkipRatio': 0.7059096345235161, 'kTargetDeterminationTrials': 8, 'kAttractionRatio': 0.2647343284142145, 'kMaxAttractionDistance': 14, 'kStartAttraction': 0.45781357198514155}. Best is trial 234 with value: 8295.853107344632.\u001b[0m\n"
     ]
    },
    {
     "name": "stdout",
     "output_type": "stream",
     "text": [
      "index_parallel='0263'\n"
     ]
    },
    {
     "name": "stderr",
     "output_type": "stream",
     "text": [
      "\u001b[32m[I 2022-08-16 09:58:49,281]\u001b[0m Trial 263 finished with value: 8248.870056497175 and parameters: {'kErase': 1, 'kRadius': 5, 'kAnnealingA': 7.286926439578186, 'kAnnealingB': 2.5854023543621274, 'kAnnealingStart': 11.077440344322433, 'kSkipRatio': 0.7429505755715831, 'kTargetDeterminationTrials': 10, 'kAttractionRatio': 0.22620431711212996, 'kMaxAttractionDistance': 15, 'kStartAttraction': 0.48271091981356595}. Best is trial 234 with value: 8295.853107344632.\u001b[0m\n"
     ]
    },
    {
     "name": "stdout",
     "output_type": "stream",
     "text": [
      "index_parallel='0265'\n"
     ]
    },
    {
     "name": "stderr",
     "output_type": "stream",
     "text": [
      "\u001b[32m[I 2022-08-16 10:02:15,742]\u001b[0m Trial 265 finished with value: 8212.824858757062 and parameters: {'kErase': 1, 'kRadius': 5, 'kAnnealingA': 7.12792092817787, 'kAnnealingB': 2.6085558756145018, 'kAnnealingStart': 11.05484943162638, 'kSkipRatio': 0.7425391188711224, 'kTargetDeterminationTrials': 9, 'kAttractionRatio': 0.22605926447503233, 'kMaxAttractionDistance': 15, 'kStartAttraction': 0.4871515991230569}. Best is trial 234 with value: 8295.853107344632.\u001b[0m\n"
     ]
    },
    {
     "name": "stdout",
     "output_type": "stream",
     "text": [
      "index_parallel='0266'\n"
     ]
    },
    {
     "name": "stderr",
     "output_type": "stream",
     "text": [
      "\u001b[32m[I 2022-08-16 10:05:42,033]\u001b[0m Trial 266 finished with value: 8100.819209039548 and parameters: {'kErase': 1, 'kRadius': 5, 'kAnnealingA': 7.430767335676191, 'kAnnealingB': 2.619273568513344, 'kAnnealingStart': 12.948412823084308, 'kSkipRatio': 0.7343583320844264, 'kTargetDeterminationTrials': 9, 'kAttractionRatio': 0.22201715937740732, 'kMaxAttractionDistance': 17, 'kStartAttraction': 0.5044846828220957}. Best is trial 234 with value: 8295.853107344632.\u001b[0m\n"
     ]
    },
    {
     "name": "stdout",
     "output_type": "stream",
     "text": [
      "index_parallel='0268'\n"
     ]
    },
    {
     "name": "stderr",
     "output_type": "stream",
     "text": [
      "\u001b[32m[I 2022-08-16 10:09:08,416]\u001b[0m Trial 268 finished with value: 8202.175141242938 and parameters: {'kErase': 1, 'kRadius': 5, 'kAnnealingA': 6.778965963449908, 'kAnnealingB': 2.525386999355914, 'kAnnealingStart': 11.161678950964946, 'kSkipRatio': 0.7499870786470852, 'kTargetDeterminationTrials': 9, 'kAttractionRatio': 0.24256308411339142, 'kMaxAttractionDistance': 18, 'kStartAttraction': 0.47531133977620627}. Best is trial 234 with value: 8295.853107344632.\u001b[0m\n"
     ]
    },
    {
     "name": "stdout",
     "output_type": "stream",
     "text": [
      "index_parallel='0270'\n"
     ]
    },
    {
     "name": "stderr",
     "output_type": "stream",
     "text": [
      "\u001b[32m[I 2022-08-16 10:12:34,506]\u001b[0m Trial 270 finished with value: 8229.389830508475 and parameters: {'kErase': 1, 'kRadius': 5, 'kAnnealingA': 6.72002121153869, 'kAnnealingB': 2.506777761926746, 'kAnnealingStart': 10.964196840358783, 'kSkipRatio': 0.7475882707073426, 'kTargetDeterminationTrials': 9, 'kAttractionRatio': 0.2528186806829023, 'kMaxAttractionDistance': 18, 'kStartAttraction': 0.31192094779419877}. Best is trial 234 with value: 8295.853107344632.\u001b[0m\n"
     ]
    },
    {
     "name": "stdout",
     "output_type": "stream",
     "text": [
      "index_parallel='0272'\n"
     ]
    },
    {
     "name": "stderr",
     "output_type": "stream",
     "text": [
      "\u001b[32m[I 2022-08-16 10:16:00,953]\u001b[0m Trial 272 finished with value: 8181.531073446327 and parameters: {'kErase': 1, 'kRadius': 5, 'kAnnealingA': 6.751964683980731, 'kAnnealingB': 2.5892789894918637, 'kAnnealingStart': 11.959991214247827, 'kSkipRatio': 0.7437718625728139, 'kTargetDeterminationTrials': 9, 'kAttractionRatio': 0.2385285842592592, 'kMaxAttractionDistance': 18, 'kStartAttraction': 0.4720009218151711}. Best is trial 234 with value: 8295.853107344632.\u001b[0m\n"
     ]
    },
    {
     "name": "stdout",
     "output_type": "stream",
     "text": [
      "index_parallel='0274'\n"
     ]
    },
    {
     "name": "stderr",
     "output_type": "stream",
     "text": [
      "\u001b[32m[I 2022-08-16 10:19:27,321]\u001b[0m Trial 274 finished with value: 8060.553672316384 and parameters: {'kErase': 1, 'kRadius': 5, 'kAnnealingA': 7.723120939587624, 'kAnnealingB': 2.558783018982282, 'kAnnealingStart': 11.765495542314754, 'kSkipRatio': 0.7495408906551297, 'kTargetDeterminationTrials': 8, 'kAttractionRatio': 0.22434475057357153, 'kMaxAttractionDistance': 12, 'kStartAttraction': 0.4906157811229132}. Best is trial 234 with value: 8295.853107344632.\u001b[0m\n"
     ]
    },
    {
     "name": "stdout",
     "output_type": "stream",
     "text": [
      "index_parallel='0276'\n"
     ]
    },
    {
     "name": "stderr",
     "output_type": "stream",
     "text": [
      "\u001b[32m[I 2022-08-16 10:22:53,623]\u001b[0m Trial 276 finished with value: 8044.909604519774 and parameters: {'kErase': 1, 'kRadius': 5, 'kAnnealingA': 7.474249041557591, 'kAnnealingB': 2.6319202339529584, 'kAnnealingStart': 10.358138417513077, 'kSkipRatio': 0.7148924134811703, 'kTargetDeterminationTrials': 8, 'kAttractionRatio': 0.26475735628699015, 'kMaxAttractionDistance': 16, 'kStartAttraction': 0.3574732318760004}. Best is trial 234 with value: 8295.853107344632.\u001b[0m\n"
     ]
    },
    {
     "name": "stdout",
     "output_type": "stream",
     "text": [
      "index_parallel='0278'\n"
     ]
    },
    {
     "name": "stderr",
     "output_type": "stream",
     "text": [
      "\u001b[32m[I 2022-08-16 10:26:20,156]\u001b[0m Trial 278 finished with value: 8101.677966101695 and parameters: {'kErase': 1, 'kRadius': 5, 'kAnnealingA': 6.439298755332703, 'kAnnealingB': 2.4120738367820005, 'kAnnealingStart': 14.021722419912829, 'kSkipRatio': 0.7795858628780451, 'kTargetDeterminationTrials': 10, 'kAttractionRatio': 0.24274565988952176, 'kMaxAttractionDistance': 15, 'kStartAttraction': 0.2909786767216172}. Best is trial 234 with value: 8295.853107344632.\u001b[0m\n"
     ]
    },
    {
     "name": "stdout",
     "output_type": "stream",
     "text": [
      "index_parallel='0280'\n"
     ]
    },
    {
     "name": "stderr",
     "output_type": "stream",
     "text": [
      "\u001b[32m[I 2022-08-16 10:29:46,558]\u001b[0m Trial 280 finished with value: 8188.418079096045 and parameters: {'kErase': 1, 'kRadius': 5, 'kAnnealingA': 8.121756326322517, 'kAnnealingB': 2.459663349705273, 'kAnnealingStart': 10.184813449058101, 'kSkipRatio': 0.7005081962974546, 'kTargetDeterminationTrials': 7, 'kAttractionRatio': 0.22149949647620565, 'kMaxAttractionDistance': 13, 'kStartAttraction': 0.30007414083013756}. Best is trial 234 with value: 8295.853107344632.\u001b[0m\n"
     ]
    },
    {
     "name": "stdout",
     "output_type": "stream",
     "text": [
      "index_parallel='0282'\n"
     ]
    },
    {
     "name": "stderr",
     "output_type": "stream",
     "text": [
      "\u001b[32m[I 2022-08-16 10:33:13,081]\u001b[0m Trial 282 finished with value: 8086.310734463277 and parameters: {'kErase': 1, 'kRadius': 5, 'kAnnealingA': 11.95620990049472, 'kAnnealingB': 0.11559549969607019, 'kAnnealingStart': 11.532132861614405, 'kSkipRatio': 0.7545078238682934, 'kTargetDeterminationTrials': 9, 'kAttractionRatio': 0.2614263724228761, 'kMaxAttractionDistance': 19, 'kStartAttraction': 0.3529735966578506}. Best is trial 234 with value: 8295.853107344632.\u001b[0m\n"
     ]
    },
    {
     "name": "stdout",
     "output_type": "stream",
     "text": [
      "index_parallel='0284'\n"
     ]
    },
    {
     "name": "stderr",
     "output_type": "stream",
     "text": [
      "\u001b[32m[I 2022-08-16 10:36:39,148]\u001b[0m Trial 284 finished with value: 8105.920903954802 and parameters: {'kErase': 1, 'kRadius': 5, 'kAnnealingA': 6.319472147390002, 'kAnnealingB': 2.6332315003356093, 'kAnnealingStart': 12.551641516078185, 'kSkipRatio': 0.756813677799938, 'kTargetDeterminationTrials': 1, 'kAttractionRatio': 0.2791939741998167, 'kMaxAttractionDistance': 14, 'kStartAttraction': 0.41928103496341834}. Best is trial 234 with value: 8295.853107344632.\u001b[0m\n"
     ]
    },
    {
     "name": "stdout",
     "output_type": "stream",
     "text": [
      "index_parallel='0286'\n"
     ]
    },
    {
     "name": "stderr",
     "output_type": "stream",
     "text": [
      "\u001b[32m[I 2022-08-16 10:40:05,528]\u001b[0m Trial 286 finished with value: 8215.45197740113 and parameters: {'kErase': 1, 'kRadius': 5, 'kAnnealingA': 9.729298964140547, 'kAnnealingB': 2.5500707962133267, 'kAnnealingStart': 10.94543949066226, 'kSkipRatio': 0.5675662524313576, 'kTargetDeterminationTrials': 10, 'kAttractionRatio': 0.24588814980578227, 'kMaxAttractionDistance': 17, 'kStartAttraction': 0.5223461266568737}. Best is trial 234 with value: 8295.853107344632.\u001b[0m\n"
     ]
    },
    {
     "name": "stdout",
     "output_type": "stream",
     "text": [
      "index_parallel='0288'\n"
     ]
    },
    {
     "name": "stderr",
     "output_type": "stream",
     "text": [
      "\u001b[32m[I 2022-08-16 10:43:31,875]\u001b[0m Trial 288 finished with value: 8160.237288135593 and parameters: {'kErase': 1, 'kRadius': 5, 'kAnnealingA': 10.131945765944755, 'kAnnealingB': 2.569977062673594, 'kAnnealingStart': 11.071210298250415, 'kSkipRatio': 0.6236568132713713, 'kTargetDeterminationTrials': 10, 'kAttractionRatio': 0.202445955196109, 'kMaxAttractionDistance': 16, 'kStartAttraction': 0.5076456269747641}. Best is trial 234 with value: 8295.853107344632.\u001b[0m\n"
     ]
    },
    {
     "name": "stdout",
     "output_type": "stream",
     "text": [
      "index_parallel='0290'\n"
     ]
    },
    {
     "name": "stderr",
     "output_type": "stream",
     "text": [
      "\u001b[32m[I 2022-08-16 10:46:58,371]\u001b[0m Trial 290 finished with value: 8127.689265536723 and parameters: {'kErase': 1, 'kRadius': 5, 'kAnnealingA': 7.182025109494105, 'kAnnealingB': 0.6089700382734589, 'kAnnealingStart': 13.250305671367581, 'kSkipRatio': 0.7436830795271001, 'kTargetDeterminationTrials': 11, 'kAttractionRatio': 0.22626556032715212, 'kMaxAttractionDistance': 17, 'kStartAttraction': 0.503813727732183}. Best is trial 234 with value: 8295.853107344632.\u001b[0m\n"
     ]
    },
    {
     "name": "stdout",
     "output_type": "stream",
     "text": [
      "index_parallel='0292'\n"
     ]
    },
    {
     "name": "stderr",
     "output_type": "stream",
     "text": [
      "\u001b[32m[I 2022-08-16 10:50:24,734]\u001b[0m Trial 292 finished with value: 8189.853107344633 and parameters: {'kErase': 1, 'kRadius': 5, 'kAnnealingA': 7.33917588527401, 'kAnnealingB': 2.673962463906261, 'kAnnealingStart': 9.746808044467883, 'kSkipRatio': 0.7814702534560972, 'kTargetDeterminationTrials': 10, 'kAttractionRatio': 0.2464980131113188, 'kMaxAttractionDistance': 16, 'kStartAttraction': 0.4678187635027113}. Best is trial 234 with value: 8295.853107344632.\u001b[0m\n"
     ]
    },
    {
     "name": "stdout",
     "output_type": "stream",
     "text": [
      "index_parallel='0294'\n"
     ]
    },
    {
     "name": "stderr",
     "output_type": "stream",
     "text": [
      "\u001b[32m[I 2022-08-16 10:53:51,070]\u001b[0m Trial 294 finished with value: 8184.050847457627 and parameters: {'kErase': 1, 'kRadius': 5, 'kAnnealingA': 8.294826534017822, 'kAnnealingB': 2.3603612731828605, 'kAnnealingStart': 9.953735800324104, 'kSkipRatio': 0.6857926979055731, 'kTargetDeterminationTrials': 10, 'kAttractionRatio': 0.3297670581576018, 'kMaxAttractionDistance': 19, 'kStartAttraction': 0.4226352845866426}. Best is trial 234 with value: 8295.853107344632.\u001b[0m\n"
     ]
    },
    {
     "name": "stdout",
     "output_type": "stream",
     "text": [
      "index_parallel='0296'\n"
     ]
    },
    {
     "name": "stderr",
     "output_type": "stream",
     "text": [
      "\u001b[32m[I 2022-08-16 10:57:17,500]\u001b[0m Trial 296 finished with value: 8152.016949152542 and parameters: {'kErase': 1, 'kRadius': 5, 'kAnnealingA': 6.469178691211041, 'kAnnealingB': 2.482562590004941, 'kAnnealingStart': 11.364352498990545, 'kSkipRatio': 0.7212918210758799, 'kTargetDeterminationTrials': 9, 'kAttractionRatio': 0.27723474811798093, 'kMaxAttractionDistance': 14, 'kStartAttraction': 0.5617542642542314}. Best is trial 234 with value: 8295.853107344632.\u001b[0m\n"
     ]
    },
    {
     "name": "stdout",
     "output_type": "stream",
     "text": [
      "index_parallel='0298'\n"
     ]
    },
    {
     "name": "stderr",
     "output_type": "stream",
     "text": [
      "\u001b[32m[I 2022-08-16 11:00:44,352]\u001b[0m Trial 298 finished with value: 8080.1581920903955 and parameters: {'kErase': 2, 'kRadius': 5, 'kAnnealingA': 6.122274113198657, 'kAnnealingB': 2.387176704208996, 'kAnnealingStart': 10.907493838144354, 'kSkipRatio': 0.7400025439240339, 'kTargetDeterminationTrials': 8, 'kAttractionRatio': 0.3436567028406402, 'kMaxAttractionDistance': 12, 'kStartAttraction': 0.4532669724960047}. Best is trial 234 with value: 8295.853107344632.\u001b[0m\n"
     ]
    },
    {
     "name": "stdout",
     "output_type": "stream",
     "text": [
      "index_parallel='0300'\n"
     ]
    },
    {
     "name": "stderr",
     "output_type": "stream",
     "text": [
      "\u001b[32m[I 2022-08-16 11:04:10,609]\u001b[0m Trial 300 finished with value: 8163.796610169492 and parameters: {'kErase': 1, 'kRadius': 5, 'kAnnealingA': 10.817528044631588, 'kAnnealingB': 2.28509476624633, 'kAnnealingStart': 12.380532986962685, 'kSkipRatio': 0.7690670464023226, 'kTargetDeterminationTrials': 10, 'kAttractionRatio': 0.25089692377968176, 'kMaxAttractionDistance': 15, 'kStartAttraction': 0.37288621337790895}. Best is trial 234 with value: 8295.853107344632.\u001b[0m\n"
     ]
    },
    {
     "name": "stdout",
     "output_type": "stream",
     "text": [
      "index_parallel='0302'\n"
     ]
    },
    {
     "name": "stderr",
     "output_type": "stream",
     "text": [
      "\u001b[32m[I 2022-08-16 11:07:36,849]\u001b[0m Trial 302 finished with value: 7934.887005649717 and parameters: {'kErase': 1, 'kRadius': 5, 'kAnnealingA': 7.5347559345163955, 'kAnnealingB': 2.6216897260134275, 'kAnnealingStart': 10.16733895003814, 'kSkipRatio': 0.6550823890803444, 'kTargetDeterminationTrials': 9, 'kAttractionRatio': 0.31460516847195824, 'kMaxAttractionDistance': 13, 'kStartAttraction': 0.03449940182847122}. Best is trial 234 with value: 8295.853107344632.\u001b[0m\n"
     ]
    },
    {
     "name": "stdout",
     "output_type": "stream",
     "text": [
      "index_parallel='0304'\n"
     ]
    },
    {
     "name": "stderr",
     "output_type": "stream",
     "text": [
      "\u001b[32m[I 2022-08-16 11:11:02,948]\u001b[0m Trial 304 finished with value: 8118.192090395481 and parameters: {'kErase': 1, 'kRadius': 5, 'kAnnealingA': 9.112167700077284, 'kAnnealingB': 2.4633678516041533, 'kAnnealingStart': 9.651185999482845, 'kSkipRatio': 0.7904267182886784, 'kTargetDeterminationTrials': 11, 'kAttractionRatio': 0.2892970279517119, 'kMaxAttractionDistance': 14, 'kStartAttraction': 0.5431226570561362}. Best is trial 234 with value: 8295.853107344632.\u001b[0m\n"
     ]
    },
    {
     "name": "stdout",
     "output_type": "stream",
     "text": [
      "index_parallel='0306'\n"
     ]
    },
    {
     "name": "stderr",
     "output_type": "stream",
     "text": [
      "\u001b[32m[I 2022-08-16 11:14:29,695]\u001b[0m Trial 306 finished with value: 8155.728813559322 and parameters: {'kErase': 1, 'kRadius': 5, 'kAnnealingA': 6.76730342466468, 'kAnnealingB': 2.2992816801399236, 'kAnnealingStart': 8.357077821079821, 'kSkipRatio': 0.7569032907308986, 'kTargetDeterminationTrials': 11, 'kAttractionRatio': 0.2120982864769086, 'kMaxAttractionDistance': 15, 'kStartAttraction': 0.4322933598462643}. Best is trial 234 with value: 8295.853107344632.\u001b[0m\n"
     ]
    },
    {
     "name": "stdout",
     "output_type": "stream",
     "text": [
      "index_parallel='0308'\n"
     ]
    },
    {
     "name": "stderr",
     "output_type": "stream",
     "text": [
      "\u001b[32m[I 2022-08-16 11:17:56,152]\u001b[0m Trial 308 finished with value: 8285.898305084746 and parameters: {'kErase': 1, 'kRadius': 5, 'kAnnealingA': 12.846972639146191, 'kAnnealingB': 1.0897558328074242, 'kAnnealingStart': 9.289564077347764, 'kSkipRatio': 0.7670710990064034, 'kTargetDeterminationTrials': 11, 'kAttractionRatio': 0.23546121535843992, 'kMaxAttractionDistance': 18, 'kStartAttraction': 0.46936144991053524}. Best is trial 234 with value: 8295.853107344632.\u001b[0m\n"
     ]
    },
    {
     "name": "stdout",
     "output_type": "stream",
     "text": [
      "index_parallel='0310'\n"
     ]
    },
    {
     "name": "stderr",
     "output_type": "stream",
     "text": [
      "\u001b[32m[I 2022-08-16 11:21:22,643]\u001b[0m Trial 310 finished with value: 8074.468926553673 and parameters: {'kErase': 1, 'kRadius': 5, 'kAnnealingA': 13.053857057701489, 'kAnnealingB': 0.6586064747449879, 'kAnnealingStart': 9.385235077507213, 'kSkipRatio': 0.7986023923393953, 'kTargetDeterminationTrials': 11, 'kAttractionRatio': 0.23725575063299384, 'kMaxAttractionDistance': 18, 'kStartAttraction': 0.33896577103850745}. Best is trial 234 with value: 8295.853107344632.\u001b[0m\n"
     ]
    },
    {
     "name": "stdout",
     "output_type": "stream",
     "text": [
      "index_parallel='0312'\n"
     ]
    },
    {
     "name": "stderr",
     "output_type": "stream",
     "text": [
      "\u001b[32m[I 2022-08-16 11:24:49,272]\u001b[0m Trial 312 finished with value: 8097.338983050848 and parameters: {'kErase': 1, 'kRadius': 5, 'kAnnealingA': 10.218686633423749, 'kAnnealingB': 1.0823704311090987, 'kAnnealingStart': 8.35467835231831, 'kSkipRatio': 0.7799312907289994, 'kTargetDeterminationTrials': 2, 'kAttractionRatio': 0.19097677988771541, 'kMaxAttractionDistance': 20, 'kStartAttraction': 0.39837802301044273}. Best is trial 234 with value: 8295.853107344632.\u001b[0m\n"
     ]
    },
    {
     "name": "stdout",
     "output_type": "stream",
     "text": [
      "index_parallel='0314'\n"
     ]
    },
    {
     "name": "stderr",
     "output_type": "stream",
     "text": [
      "\u001b[32m[I 2022-08-16 11:28:15,496]\u001b[0m Trial 314 finished with value: 8211.847457627118 and parameters: {'kErase': 1, 'kRadius': 5, 'kAnnealingA': 12.230500639611089, 'kAnnealingB': 1.3549629754960844, 'kAnnealingStart': 8.721635396529381, 'kSkipRatio': 0.7471619037271594, 'kTargetDeterminationTrials': 11, 'kAttractionRatio': 0.2786071610339494, 'kMaxAttractionDistance': 17, 'kStartAttraction': 0.5889078483527327}. Best is trial 234 with value: 8295.853107344632.\u001b[0m\n"
     ]
    },
    {
     "name": "stdout",
     "output_type": "stream",
     "text": [
      "index_parallel='0316'\n"
     ]
    },
    {
     "name": "stderr",
     "output_type": "stream",
     "text": [
      "\u001b[32m[I 2022-08-16 11:31:42,754]\u001b[0m Trial 316 finished with value: 7193.943502824859 and parameters: {'kErase': 5, 'kRadius': 5, 'kAnnealingA': 12.03783170081048, 'kAnnealingB': 1.4254620953134842, 'kAnnealingStart': 8.742309179163822, 'kSkipRatio': 0.7471117577633701, 'kTargetDeterminationTrials': 3, 'kAttractionRatio': 0.2773453930037237, 'kMaxAttractionDistance': 18, 'kStartAttraction': 0.5729912650674656}. Best is trial 234 with value: 8295.853107344632.\u001b[0m\n"
     ]
    },
    {
     "name": "stdout",
     "output_type": "stream",
     "text": [
      "index_parallel='0318'\n"
     ]
    },
    {
     "name": "stderr",
     "output_type": "stream",
     "text": [
      "\u001b[32m[I 2022-08-16 11:35:09,057]\u001b[0m Trial 318 finished with value: 8134.604519774011 and parameters: {'kErase': 1, 'kRadius': 5, 'kAnnealingA': 14.52542284376739, 'kAnnealingB': 1.1969891489003448, 'kAnnealingStart': 9.302274992294889, 'kSkipRatio': 0.7679919287760038, 'kTargetDeterminationTrials': 10, 'kAttractionRatio': 0.21116771882986418, 'kMaxAttractionDistance': 17, 'kStartAttraction': 0.24514275385549944}. Best is trial 234 with value: 8295.853107344632.\u001b[0m\n"
     ]
    },
    {
     "name": "stdout",
     "output_type": "stream",
     "text": [
      "index_parallel='0320'\n"
     ]
    },
    {
     "name": "stderr",
     "output_type": "stream",
     "text": [
      "\u001b[32m[I 2022-08-16 11:38:35,980]\u001b[0m Trial 320 finished with value: 8104.994350282486 and parameters: {'kErase': 1, 'kRadius': 5, 'kAnnealingA': 11.359840769418147, 'kAnnealingB': 1.0060223424456574, 'kAnnealingStart': 11.875006650751006, 'kSkipRatio': 0.7324288165547764, 'kTargetDeterminationTrials': 11, 'kAttractionRatio': 0.25952610470535076, 'kMaxAttractionDistance': 15, 'kStartAttraction': 0.4970406955130572}. Best is trial 234 with value: 8295.853107344632.\u001b[0m\n"
     ]
    },
    {
     "name": "stdout",
     "output_type": "stream",
     "text": [
      "index_parallel='0322'\n"
     ]
    },
    {
     "name": "stderr",
     "output_type": "stream",
     "text": [
      "\u001b[32m[I 2022-08-16 11:42:02,263]\u001b[0m Trial 322 finished with value: 8195.118644067798 and parameters: {'kErase': 1, 'kRadius': 5, 'kAnnealingA': 12.87329987424665, 'kAnnealingB': 0.8245640899648454, 'kAnnealingStart': 8.158384637229357, 'kSkipRatio': 0.7560574304906854, 'kTargetDeterminationTrials': 9, 'kAttractionRatio': 0.2952144457662038, 'kMaxAttractionDistance': 16, 'kStartAttraction': 0.45250332620668726}. Best is trial 234 with value: 8295.853107344632.\u001b[0m\n"
     ]
    },
    {
     "name": "stdout",
     "output_type": "stream",
     "text": [
      "index_parallel='0324'\n"
     ]
    }
   ],
   "source": [
    "study.optimize(\n",
    "    partial(objective, in_dir=in_dir, work_dir=work_dir),\n",
    "    n_trials=3000,\n",
    "    timeout=86400,\n",
    "    callbacks=[callback]\n",
    ")"
   ]
  },
  {
   "cell_type": "code",
   "execution_count": null,
   "id": "700269d2",
   "metadata": {},
   "outputs": [],
   "source": []
  }
 ],
 "metadata": {
  "kernelspec": {
   "display_name": "Python 3 (ipykernel)",
   "language": "python",
   "name": "python3"
  },
  "language_info": {
   "codemirror_mode": {
    "name": "ipython",
    "version": 3
   },
   "file_extension": ".py",
   "mimetype": "text/x-python",
   "name": "python",
   "nbconvert_exporter": "python",
   "pygments_lexer": "ipython3",
   "version": "3.9.12"
  }
 },
 "nbformat": 4,
 "nbformat_minor": 5
}
