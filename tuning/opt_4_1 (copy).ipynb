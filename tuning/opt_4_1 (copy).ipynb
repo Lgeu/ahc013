{
 "cells": [
  {
   "cell_type": "code",
   "execution_count": 1,
   "id": "25a1dac8",
   "metadata": {},
   "outputs": [],
   "source": [
    "import re\n",
    "import sys\n",
    "from uuid import uuid1\n",
    "from time import sleep\n",
    "from pprint import pprint\n",
    "from pathlib import Path\n",
    "from tempfile import gettempdir\n",
    "from threading import Thread\n",
    "from functools import partial\n",
    "from subprocess import Popen, PIPE\n",
    "\n",
    "from tqdm.notebook import tqdm\n",
    "import numpy as np\n",
    "import optuna\n",
    "import pandas as pd\n",
    "import matplotlib.pyplot as plt\n",
    "\n",
    "FILENAME = \"main.cpp\""
   ]
  },
  {
   "cell_type": "code",
   "execution_count": 2,
   "id": "3dd4d02e",
   "metadata": {},
   "outputs": [
    {
     "name": "stdout",
     "output_type": "stream",
     "text": [
      "10 variables were found.\n"
     ]
    },
    {
     "data": {
      "text/html": [
       "<div>\n",
       "<style scoped>\n",
       "    .dataframe tbody tr th:only-of-type {\n",
       "        vertical-align: middle;\n",
       "    }\n",
       "\n",
       "    .dataframe tbody tr th {\n",
       "        vertical-align: top;\n",
       "    }\n",
       "\n",
       "    .dataframe thead th {\n",
       "        text-align: right;\n",
       "    }\n",
       "</style>\n",
       "<table border=\"1\" class=\"dataframe\">\n",
       "  <thead>\n",
       "    <tr style=\"text-align: right;\">\n",
       "      <th></th>\n",
       "      <th>name</th>\n",
       "      <th>method</th>\n",
       "      <th>min</th>\n",
       "      <th>max</th>\n",
       "      <th>log</th>\n",
       "      <th>left</th>\n",
       "      <th>right</th>\n",
       "    </tr>\n",
       "  </thead>\n",
       "  <tbody>\n",
       "    <tr>\n",
       "      <th>0</th>\n",
       "      <td>kErase</td>\n",
       "      <td>suggest_int</td>\n",
       "      <td>1.000</td>\n",
       "      <td>5.0</td>\n",
       "      <td>False</td>\n",
       "      <td>static constexpr auto kErase =</td>\n",
       "      <td>;             // OPTIMIZE [1, 5]</td>\n",
       "    </tr>\n",
       "    <tr>\n",
       "      <th>1</th>\n",
       "      <td>kRadius</td>\n",
       "      <td>suggest_int</td>\n",
       "      <td>2.000</td>\n",
       "      <td>6.0</td>\n",
       "      <td>False</td>\n",
       "      <td>static constexpr auto kRadius =</td>\n",
       "      <td>;            // OPTIMIZE [2, 6]</td>\n",
       "    </tr>\n",
       "    <tr>\n",
       "      <th>2</th>\n",
       "      <td>kAnnealingA</td>\n",
       "      <td>suggest_float</td>\n",
       "      <td>-15.000</td>\n",
       "      <td>15.0</td>\n",
       "      <td>False</td>\n",
       "      <td>static constexpr auto kAnnealingA =</td>\n",
       "      <td>;      // OPTIMIZE [-15.0, 15.0]</td>\n",
       "    </tr>\n",
       "    <tr>\n",
       "      <th>3</th>\n",
       "      <td>kAnnealingB</td>\n",
       "      <td>suggest_float</td>\n",
       "      <td>0.000</td>\n",
       "      <td>3.0</td>\n",
       "      <td>False</td>\n",
       "      <td>static constexpr auto kAnnealingB =</td>\n",
       "      <td>;      // OPTIMIZE [0.0, 3.0]</td>\n",
       "    </tr>\n",
       "    <tr>\n",
       "      <th>4</th>\n",
       "      <td>kAnnealingStart</td>\n",
       "      <td>suggest_float</td>\n",
       "      <td>1.000</td>\n",
       "      <td>100.0</td>\n",
       "      <td>True</td>\n",
       "      <td>static constexpr auto kAnnealingStart =</td>\n",
       "      <td>; // OPTIMIZE LOG [1.0, 100.0]</td>\n",
       "    </tr>\n",
       "    <tr>\n",
       "      <th>5</th>\n",
       "      <td>kSkipRatio</td>\n",
       "      <td>suggest_float</td>\n",
       "      <td>0.200</td>\n",
       "      <td>0.8</td>\n",
       "      <td>False</td>\n",
       "      <td>static constexpr auto kSkipRatio =</td>\n",
       "      <td>;       // OPTIMIZE [0.2, 0.8]</td>\n",
       "    </tr>\n",
       "    <tr>\n",
       "      <th>6</th>\n",
       "      <td>kTargetDeterminationTrials</td>\n",
       "      <td>suggest_int</td>\n",
       "      <td>1.000</td>\n",
       "      <td>20.0</td>\n",
       "      <td>True</td>\n",
       "      <td>static constexpr auto kTargetDeterminationTria...</td>\n",
       "      <td>; // OPTIMIZE LOG [1, 20]</td>\n",
       "    </tr>\n",
       "    <tr>\n",
       "      <th>7</th>\n",
       "      <td>kAttractionRatio</td>\n",
       "      <td>suggest_float</td>\n",
       "      <td>0.010</td>\n",
       "      <td>0.9</td>\n",
       "      <td>True</td>\n",
       "      <td>static constexpr auto kAttractionRatio =</td>\n",
       "      <td>;      // OPTIMIZE LOG [0.01, 0.9]</td>\n",
       "    </tr>\n",
       "    <tr>\n",
       "      <th>8</th>\n",
       "      <td>kMaxAttractionDistance</td>\n",
       "      <td>suggest_int</td>\n",
       "      <td>4.000</td>\n",
       "      <td>99.0</td>\n",
       "      <td>True</td>\n",
       "      <td>static constexpr auto kMaxAttractionDistance =</td>\n",
       "      <td>; // OPTIMIZE LOG [4, 99]</td>\n",
       "    </tr>\n",
       "    <tr>\n",
       "      <th>9</th>\n",
       "      <td>kStartAttraction</td>\n",
       "      <td>suggest_float</td>\n",
       "      <td>0.001</td>\n",
       "      <td>0.9</td>\n",
       "      <td>True</td>\n",
       "      <td>static constexpr auto kStartAttraction =</td>\n",
       "      <td>;     // OPTIMIZE LOG [0.001, 0.9]</td>\n",
       "    </tr>\n",
       "  </tbody>\n",
       "</table>\n",
       "</div>"
      ],
      "text/plain": [
       "                         name         method     min    max    log  \\\n",
       "0                      kErase    suggest_int   1.000    5.0  False   \n",
       "1                     kRadius    suggest_int   2.000    6.0  False   \n",
       "2                 kAnnealingA  suggest_float -15.000   15.0  False   \n",
       "3                 kAnnealingB  suggest_float   0.000    3.0  False   \n",
       "4             kAnnealingStart  suggest_float   1.000  100.0   True   \n",
       "5                  kSkipRatio  suggest_float   0.200    0.8  False   \n",
       "6  kTargetDeterminationTrials    suggest_int   1.000   20.0   True   \n",
       "7            kAttractionRatio  suggest_float   0.010    0.9   True   \n",
       "8      kMaxAttractionDistance    suggest_int   4.000   99.0   True   \n",
       "9            kStartAttraction  suggest_float   0.001    0.9   True   \n",
       "\n",
       "                                                left  \\\n",
       "0                    static constexpr auto kErase =    \n",
       "1                   static constexpr auto kRadius =    \n",
       "2               static constexpr auto kAnnealingA =    \n",
       "3               static constexpr auto kAnnealingB =    \n",
       "4           static constexpr auto kAnnealingStart =    \n",
       "5                static constexpr auto kSkipRatio =    \n",
       "6  static constexpr auto kTargetDeterminationTria...   \n",
       "7          static constexpr auto kAttractionRatio =    \n",
       "8    static constexpr auto kMaxAttractionDistance =    \n",
       "9          static constexpr auto kStartAttraction =    \n",
       "\n",
       "                                right  \n",
       "0    ;             // OPTIMIZE [1, 5]  \n",
       "1     ;            // OPTIMIZE [2, 6]  \n",
       "2    ;      // OPTIMIZE [-15.0, 15.0]  \n",
       "3       ;      // OPTIMIZE [0.0, 3.0]  \n",
       "4      ; // OPTIMIZE LOG [1.0, 100.0]  \n",
       "5      ;       // OPTIMIZE [0.2, 0.8]  \n",
       "6           ; // OPTIMIZE LOG [1, 20]  \n",
       "7  ;      // OPTIMIZE LOG [0.01, 0.9]  \n",
       "8           ; // OPTIMIZE LOG [4, 99]  \n",
       "9  ;     // OPTIMIZE LOG [0.001, 0.9]  "
      ]
     },
     "metadata": {},
     "output_type": "display_data"
    }
   ],
   "source": [
    "# ここでエラー出力は何かおかしいかもしれない\n",
    "\n",
    "\n",
    "# パラメータ抽出\n",
    "with open(FILENAME) as f:\n",
    "    answer = f.read()\n",
    "\n",
    "\n",
    "variables_optimize = []\n",
    "\n",
    "for left, value, right, options in re.findall(r\"^([^/\\n]*=\\s*)(.+?)(\\s*;\\s*//(?:.*\\W)?OPTIMIZE(\\W.*))$\", answer, re.MULTILINE):\n",
    "    name = left.replace(\"=\", \"\").strip().split()[-1]\n",
    "    \n",
    "    searched = re.search(r\".*\\[(?P<min>.*),(?P<max>.*)\\].*\", options)\n",
    "    if searched:\n",
    "        min_value = max_value = None\n",
    "        try:\n",
    "            min_value = eval(searched.group(\"min\"))\n",
    "            max_value = eval(searched.group(\"max\"))\n",
    "            assert min_value <= max_value\n",
    "        except Exception as e:\n",
    "            print(f\"searched={searched}\", file=sys.stderr)\n",
    "            print(e, file=sys.stderr)\n",
    "            continue\n",
    "        log = \"LOG\" in options  # 雑、直したほうが良い\n",
    "        if type(min_value) != type(max_value):\n",
    "            print(f\"searched={searched}\", file=sys.stderr)\n",
    "            print(\"types not matched\", file=sys.stderr)\n",
    "            continue\n",
    "        if isinstance(min_value, int):\n",
    "            method = \"suggest_int\"\n",
    "        elif isinstance(min_value, float):\n",
    "            method = \"suggest_float\"\n",
    "        else:\n",
    "            print(f\"searched={searched}\", file=sys.stderr)\n",
    "            print(f\"unknown type ({type(min_value)})\", file=sys.stderr)\n",
    "            continue\n",
    "        variables_optimize.append({\n",
    "            \"name\": name,\n",
    "            \"method\": method,\n",
    "            \"min\": min_value,\n",
    "            \"max\": max_value,\n",
    "            \"log\": log,\n",
    "            \"left\": left,\n",
    "            \"right\": right,\n",
    "        })\n",
    "    elif searched := re.search(r\".*\\{(?P<choices>.*?)\\}.*\", options):\n",
    "        choices = list(map(lambda x: x.strip(), searched.group(\"choices\").split(\",\")))\n",
    "        variables_optimize.append({\n",
    "            \"name\": name,\n",
    "            \"method\": \"suggest_categorical\",\n",
    "            \"choices\": choices,\n",
    "            \"left\": left,\n",
    "            \"right\": right,\n",
    "        })\n",
    "    else:\n",
    "        print(f\"searched={searched}\", file=sys.stderr)\n",
    "        print(f\"pattern was matched but options are incorrect.\", file=sys.stderr)\n",
    "\n",
    "print(len(variables_optimize), \"variables were found.\")\n",
    "if globals().get(\"pd\"):\n",
    "    display(pd.DataFrame(variables_optimize))\n",
    "else:\n",
    "    pprint(variables_optimize)"
   ]
  },
  {
   "cell_type": "code",
   "execution_count": 3,
   "id": "001042b9",
   "metadata": {},
   "outputs": [],
   "source": [
    "def escape(string):  # 正規表現の中でそのまま使いたい文字列をエスケープ\n",
    "    res = !echo '{string}' | sed -e 's/[]\\/$*.^[]/\\\\&/g'\n",
    "    return res[0]\n",
    "\n",
    "def escape_sed(string):  # sed の置換後の文字列用のエスケープ\n",
    "    res = !echo '{string}' | sed -e 's/[\\/&]/\\\\&/g'\n",
    "    return res[0]\n",
    "\n",
    "def read_stream(name, in_file, out_file):\n",
    "    for line in in_file:\n",
    "        print(f\"[{name}] {line.strip()}\", file=out_file)\n",
    "\n",
    "def run(cmd, name):\n",
    "    proc = Popen(cmd, stdout=PIPE, stderr=PIPE, universal_newlines=True, shell=isinstance(cmd, str))\n",
    "    stdout_thread = Thread(target=read_stream, args=(name, proc.stdout, sys.stdout))\n",
    "    stderr_thread = Thread(target=read_stream, args=(name, proc.stderr, sys.stderr))\n",
    "    stdout_thread.start()\n",
    "    stderr_thread.start()\n",
    "    proc.wait()\n",
    "    return proc\n",
    "\n",
    "def objective(trial, in_dir, work_dir):\n",
    "    n_internal_parallel = 3\n",
    "    \n",
    "    index_parallel = f\"{trial.number:04d}\"\n",
    "    print(f\"{index_parallel=}\")\n",
    "    \n",
    "    work_dir = Path(work_dir)\n",
    "    directory_input = Path(in_dir)  # 中のすべてのファイルに対して実行される\n",
    "    #parameters_changed_filename = Path(gettempdir()) / str(uuid1())\n",
    "    parameters_changed_filename = work_dir / f\"{index_parallel}_{FILENAME}\"\n",
    "    \n",
    "    run([\"mkdir\", f\"{work_dir / index_parallel}_out\"], \"mkdir\")\n",
    "    run([\"mkdir\", f\"{work_dir / index_parallel}_score\"], \"mkdir\")\n",
    "    \n",
    "    # ファイル作成\n",
    "    run(f\"cp {FILENAME} {parameters_changed_filename}\", \"cp\")\n",
    "    sed_options = [f\"-i {parameters_changed_filename}\"]\n",
    "    for variable in variables_optimize:\n",
    "        if variable[\"method\"] == \"suggest_categorical\":\n",
    "            val =  trial.suggest_categorical(variable[\"name\"], variable[\"choices\"])\n",
    "        else:\n",
    "            val = getattr(trial, variable[\"method\"])(variable[\"name\"], variable[\"min\"], variable[\"max\"], log=variable[\"log\"])\n",
    "        left = variable[\"left\"]\n",
    "        right = variable[\"right\"]\n",
    "        sed_options.append(f\"\"\"-e 's/^{escape(left)}.*{escape(right)}$/{escape_sed(left)}{val}{escape_sed(right)}/'\"\"\")\n",
    "    command_sed = f\"sed {' '.join(sed_options)}\"\n",
    "    #print(command_sed)\n",
    "    run(command_sed, \"sed\")\n",
    "    \n",
    "    # コンパイル\n",
    "    command_compile = f\"g++ {parameters_changed_filename} -std=gnu++17 -O2 -DONLINE_JUDGE -o {parameters_changed_filename}.out\"\n",
    "    #print(command_compile)\n",
    "    run(command_compile, \"compile\")\n",
    "    # 実行・採点コマンド (@ はファイル名)\n",
    "    command_exec = (\n",
    "        #f\"./a.out < ./tools/in/{i:04d}.txt > {out_file} && ./tools/target/release/vis ./tools/in/{i:04d}.txt {out_file}\"\n",
    "        #f\"../tools/target/release/tester $(pwd)/{parameters_changed_filename}.out < {directory_input}/@ 2>&1 | grep Score\"\n",
    "        #f\"../tools/target/release/tester $(pwd)/{parameters_changed_filename}.out < {directory_input}/@ 2>&1 | grep Score | sed -E s/[^0-9]+// > ./{index_parallel}_score/@;\"\n",
    "        #f\"cargo run --release --manifest-path ../tools/Cargo.toml --bin tester {directory_input}/@ $(pwd)/{parameters_changed_filename}.out 2>&1 | grep Score | sed -E s/[^0-9]+// > ./{index_parallel}_score/@;\"\n",
    "        f\"./{parameters_changed_filename}.out < {directory_input}/@ > {work_dir / index_parallel}_out/@;\"\n",
    "        f\"../tools/target/release/vis {directory_input}/@ {work_dir / index_parallel}_out/@ 2> /dev/null > {work_dir / index_parallel}_score/@;\"\n",
    "    )\n",
    "    # 並列実行 (sed はパスのディレクトリ部分を消してファイル名にしてる)\n",
    "    run(f\"find {directory_input}/* | sed 's!^.*/!!' | xargs -I@ -P {n_internal_parallel} sh -c '{command_exec}'\", \"exec\")\n",
    "    \n",
    "    # 集計\n",
    "    scores = []\n",
    "    for file_path in Path(f\"{work_dir / index_parallel}_score/\").iterdir():  \n",
    "        with open(file_path) as f:\n",
    "            scores.append(int(f.readline().strip().split()[-1]))\n",
    "    mean_score = sum(scores) / len(scores)\n",
    "    \n",
    "    # 後始末\n",
    "    run(f\"rm -rf {work_dir / index_parallel}_out\", \"rm\")\n",
    "    run(f\"rm -rf {work_dir / index_parallel}_score\", \"rm\")\n",
    "    #run(f\"rm {parameters_changed_filename}\", \"rm\")\n",
    "    run(f\"rm {parameters_changed_filename}.out\", \"rm\")\n",
    "    \n",
    "    return mean_score"
   ]
  },
  {
   "cell_type": "code",
   "execution_count": 4,
   "id": "2d2e133c",
   "metadata": {},
   "outputs": [
    {
     "name": "stderr",
     "output_type": "stream",
     "text": [
      "\u001b[32m[I 2022-08-16 05:02:36,049]\u001b[0m Using an existing study with name 'study_4_1' instead of creating a new one.\u001b[0m\n"
     ]
    }
   ],
   "source": [
    "K = 4\n",
    "N_CLASS = 1\n",
    "\n",
    "in_dir = Path(f\"in_{K}_{N_CLASS}\")\n",
    "work_dir = Path(f\"work_{K}_{N_CLASS}\")\n",
    "\n",
    "study_name = f\"study_{K}_{N_CLASS}\"\n",
    "storage_path = work_dir / \"study.db\"\n",
    "storage = f\"sqlite:///{storage_path}\"\n",
    "study = optuna.create_study(storage=storage, load_if_exists=True, study_name=study_name, direction=\"maximize\")\n",
    "\n",
    "def callback(study, trial):\n",
    "    try:\n",
    "        index_parallel = f\"{trial.number:04d}\"\n",
    "        parameters_changed_filename = work_dir / f\"{index_parallel}_{FILENAME}\"\n",
    "        if study.best_value == trial.value:\n",
    "            print(f\"Updated! {study.best_value}\")\n",
    "            !cp {parameters_changed_filename} {work_dir / \"best_parameters.cpp\"}\n",
    "        !rm {parameters_changed_filename}\n",
    "    except:\n",
    "        print(\":(\")\n"
   ]
  },
  {
   "cell_type": "code",
   "execution_count": null,
   "id": "61c2901d",
   "metadata": {},
   "outputs": [
    {
     "name": "stdout",
     "output_type": "stream",
     "text": [
      "index_parallel='0200'\n"
     ]
    },
    {
     "name": "stderr",
     "output_type": "stream",
     "text": [
      "\u001b[32m[I 2022-08-16 08:11:10,774]\u001b[0m Trial 200 finished with value: 8076.983050847458 and parameters: {'kErase': 1, 'kRadius': 5, 'kAnnealingA': 5.274961812835839, 'kAnnealingB': 2.779086840939463, 'kAnnealingStart': 6.590191575330476, 'kSkipRatio': 0.32244595983305024, 'kTargetDeterminationTrials': 10, 'kAttractionRatio': 0.2640110945869287, 'kMaxAttractionDistance': 13, 'kStartAttraction': 0.5641690665892917}. Best is trial 154 with value: 8222.937853107345.\u001b[0m\n"
     ]
    },
    {
     "name": "stdout",
     "output_type": "stream",
     "text": [
      "index_parallel='0202'\n"
     ]
    },
    {
     "name": "stderr",
     "output_type": "stream",
     "text": [
      "\u001b[32m[I 2022-08-16 08:14:39,164]\u001b[0m Trial 202 finished with value: 8194.50847457627 and parameters: {'kErase': 1, 'kRadius': 5, 'kAnnealingA': 4.37070541355502, 'kAnnealingB': 2.565685436407523, 'kAnnealingStart': 7.451769163436275, 'kSkipRatio': 0.3839667383141567, 'kTargetDeterminationTrials': 12, 'kAttractionRatio': 0.3092006428885786, 'kMaxAttractionDistance': 16, 'kStartAttraction': 0.6554893171263578}. Best is trial 154 with value: 8222.937853107345.\u001b[0m\n"
     ]
    },
    {
     "name": "stdout",
     "output_type": "stream",
     "text": [
      "index_parallel='0204'\n"
     ]
    },
    {
     "name": "stderr",
     "output_type": "stream",
     "text": [
      "\u001b[32m[I 2022-08-16 08:18:07,643]\u001b[0m Trial 204 finished with value: 8154.175141242938 and parameters: {'kErase': 1, 'kRadius': 5, 'kAnnealingA': 4.20337185452376, 'kAnnealingB': 2.6387021108661615, 'kAnnealingStart': 7.216889433094682, 'kSkipRatio': 0.38622856018147245, 'kTargetDeterminationTrials': 12, 'kAttractionRatio': 0.32109965158387066, 'kMaxAttractionDistance': 15, 'kStartAttraction': 0.6576007404465223}. Best is trial 154 with value: 8222.937853107345.\u001b[0m\n"
     ]
    },
    {
     "name": "stdout",
     "output_type": "stream",
     "text": [
      "index_parallel='0206'\n"
     ]
    },
    {
     "name": "stderr",
     "output_type": "stream",
     "text": [
      "\u001b[32m[I 2022-08-16 08:21:36,010]\u001b[0m Trial 206 finished with value: 8031.858757062147 and parameters: {'kErase': 1, 'kRadius': 5, 'kAnnealingA': 3.689474268595091, 'kAnnealingB': 2.624866164317536, 'kAnnealingStart': 7.238604375706556, 'kSkipRatio': 0.39790036007480784, 'kTargetDeterminationTrials': 12, 'kAttractionRatio': 0.3035795887115462, 'kMaxAttractionDistance': 15, 'kStartAttraction': 0.5930706510873321}. Best is trial 154 with value: 8222.937853107345.\u001b[0m\n"
     ]
    },
    {
     "name": "stdout",
     "output_type": "stream",
     "text": [
      "index_parallel='0208'\n"
     ]
    },
    {
     "name": "stderr",
     "output_type": "stream",
     "text": [
      "\u001b[32m[I 2022-08-16 08:25:04,219]\u001b[0m Trial 208 finished with value: 8199.350282485875 and parameters: {'kErase': 1, 'kRadius': 5, 'kAnnealingA': 4.17047618091006, 'kAnnealingB': 2.557779359352565, 'kAnnealingStart': 5.8679206411756235, 'kSkipRatio': 0.4089069733740089, 'kTargetDeterminationTrials': 13, 'kAttractionRatio': 0.3482132781688525, 'kMaxAttractionDistance': 16, 'kStartAttraction': 0.490948633879805}. Best is trial 154 with value: 8222.937853107345.\u001b[0m\n"
     ]
    },
    {
     "name": "stdout",
     "output_type": "stream",
     "text": [
      "index_parallel='0210'\n"
     ]
    },
    {
     "name": "stderr",
     "output_type": "stream",
     "text": [
      "\u001b[32m[I 2022-08-16 08:28:32,346]\u001b[0m Trial 210 finished with value: 8130.446327683616 and parameters: {'kErase': 1, 'kRadius': 5, 'kAnnealingA': 6.066036628628735, 'kAnnealingB': 2.517123849015656, 'kAnnealingStart': 5.916831888888092, 'kSkipRatio': 0.39060460541738723, 'kTargetDeterminationTrials': 13, 'kAttractionRatio': 0.3504332448272869, 'kMaxAttractionDistance': 16, 'kStartAttraction': 0.4885418868744506}. Best is trial 154 with value: 8222.937853107345.\u001b[0m\n"
     ]
    },
    {
     "name": "stdout",
     "output_type": "stream",
     "text": [
      "index_parallel='0212'\n"
     ]
    },
    {
     "name": "stderr",
     "output_type": "stream",
     "text": [
      "\u001b[32m[I 2022-08-16 08:32:00,470]\u001b[0m Trial 212 finished with value: 8099.61581920904 and parameters: {'kErase': 1, 'kRadius': 5, 'kAnnealingA': 3.0438196774037056, 'kAnnealingB': 2.6568666411969812, 'kAnnealingStart': 5.4523701208670765, 'kSkipRatio': 0.42162925186571515, 'kTargetDeterminationTrials': 14, 'kAttractionRatio': 0.2513539298399053, 'kMaxAttractionDistance': 14, 'kStartAttraction': 0.6695107255698454}. Best is trial 154 with value: 8222.937853107345.\u001b[0m\n"
     ]
    },
    {
     "name": "stdout",
     "output_type": "stream",
     "text": [
      "index_parallel='0214'\n"
     ]
    },
    {
     "name": "stderr",
     "output_type": "stream",
     "text": [
      "\u001b[32m[I 2022-08-16 08:35:29,379]\u001b[0m Trial 214 finished with value: 8162.723163841808 and parameters: {'kErase': 1, 'kRadius': 5, 'kAnnealingA': 4.178044986289736, 'kAnnealingB': 2.7412619921527384, 'kAnnealingStart': 6.396830299481747, 'kSkipRatio': 0.41023564629750187, 'kTargetDeterminationTrials': 12, 'kAttractionRatio': 0.2752738628466279, 'kMaxAttractionDistance': 17, 'kStartAttraction': 0.5636957220105833}. Best is trial 154 with value: 8222.937853107345.\u001b[0m\n"
     ]
    },
    {
     "name": "stdout",
     "output_type": "stream",
     "text": [
      "index_parallel='0216'\n"
     ]
    },
    {
     "name": "stderr",
     "output_type": "stream",
     "text": [
      "\u001b[32m[I 2022-08-16 08:38:58,224]\u001b[0m Trial 216 finished with value: 8100.237288135593 and parameters: {'kErase': 1, 'kRadius': 5, 'kAnnealingA': 5.276515617657185, 'kAnnealingB': 2.755244801495529, 'kAnnealingStart': 6.361743692079524, 'kSkipRatio': 0.40615245582903015, 'kTargetDeterminationTrials': 13, 'kAttractionRatio': 0.32770412180734304, 'kMaxAttractionDistance': 18, 'kStartAttraction': 0.6125032918333109}. Best is trial 154 with value: 8222.937853107345.\u001b[0m\n"
     ]
    },
    {
     "name": "stdout",
     "output_type": "stream",
     "text": [
      "index_parallel='0218'\n"
     ]
    },
    {
     "name": "stderr",
     "output_type": "stream",
     "text": [
      "\u001b[32m[I 2022-08-16 08:42:26,695]\u001b[0m Trial 218 finished with value: 8084.6214689265535 and parameters: {'kErase': 1, 'kRadius': 5, 'kAnnealingA': 2.864724191056477, 'kAnnealingB': 2.544806561020399, 'kAnnealingStart': 7.6215193106029755, 'kSkipRatio': 0.3933978918632559, 'kTargetDeterminationTrials': 11, 'kAttractionRatio': 0.30566299063044644, 'kMaxAttractionDistance': 17, 'kStartAttraction': 0.4855219668231384}. Best is trial 154 with value: 8222.937853107345.\u001b[0m\n"
     ]
    },
    {
     "name": "stdout",
     "output_type": "stream",
     "text": [
      "index_parallel='0220'\n"
     ]
    },
    {
     "name": "stderr",
     "output_type": "stream",
     "text": [
      "\u001b[32m[I 2022-08-16 08:45:54,893]\u001b[0m Trial 220 finished with value: 7699.762711864407 and parameters: {'kErase': 1, 'kRadius': 5, 'kAnnealingA': 5.881362617542314, 'kAnnealingB': 2.5977553419278805, 'kAnnealingStart': 5.556479761427635, 'kSkipRatio': 0.3879115374854162, 'kTargetDeterminationTrials': 13, 'kAttractionRatio': 0.3447465987360822, 'kMaxAttractionDistance': 15, 'kStartAttraction': 0.010730531136399778}. Best is trial 154 with value: 8222.937853107345.\u001b[0m\n"
     ]
    },
    {
     "name": "stdout",
     "output_type": "stream",
     "text": [
      "index_parallel='0222'\n"
     ]
    },
    {
     "name": "stderr",
     "output_type": "stream",
     "text": [
      "\u001b[32m[I 2022-08-16 08:49:22,594]\u001b[0m Trial 222 finished with value: 8115.892655367232 and parameters: {'kErase': 1, 'kRadius': 5, 'kAnnealingA': 3.5776478578813538, 'kAnnealingB': 2.4859945052390096, 'kAnnealingStart': 6.540636682191445, 'kSkipRatio': 0.3610306795846488, 'kTargetDeterminationTrials': 12, 'kAttractionRatio': 0.3913941104499017, 'kMaxAttractionDistance': 18, 'kStartAttraction': 0.6729785128622101}. Best is trial 154 with value: 8222.937853107345.\u001b[0m\n"
     ]
    },
    {
     "name": "stdout",
     "output_type": "stream",
     "text": [
      "index_parallel='0224'\n"
     ]
    },
    {
     "name": "stderr",
     "output_type": "stream",
     "text": [
      "\u001b[32m[I 2022-08-16 08:52:51,982]\u001b[0m Trial 224 finished with value: 8158.129943502825 and parameters: {'kErase': 1, 'kRadius': 5, 'kAnnealingA': 4.586173828033106, 'kAnnealingB': 2.759754192798635, 'kAnnealingStart': 8.425306048809848, 'kSkipRatio': 0.3781859595157882, 'kTargetDeterminationTrials': 11, 'kAttractionRatio': 0.2547140596646642, 'kMaxAttractionDistance': 17, 'kStartAttraction': 0.5632337625142331}. Best is trial 154 with value: 8222.937853107345.\u001b[0m\n"
     ]
    },
    {
     "name": "stdout",
     "output_type": "stream",
     "text": [
      "index_parallel='0226'\n"
     ]
    },
    {
     "name": "stderr",
     "output_type": "stream",
     "text": [
      "\u001b[32m[I 2022-08-16 08:56:20,089]\u001b[0m Trial 226 finished with value: 8209.378531073446 and parameters: {'kErase': 1, 'kRadius': 5, 'kAnnealingA': 5.198819870835481, 'kAnnealingB': 2.7457060185857016, 'kAnnealingStart': 8.756856055774856, 'kSkipRatio': 0.7975022132409657, 'kTargetDeterminationTrials': 11, 'kAttractionRatio': 0.24992439438544767, 'kMaxAttractionDistance': 16, 'kStartAttraction': 0.5763707581544766}. Best is trial 154 with value: 8222.937853107345.\u001b[0m\n"
     ]
    },
    {
     "name": "stdout",
     "output_type": "stream",
     "text": [
      "index_parallel='0228'\n"
     ]
    },
    {
     "name": "stderr",
     "output_type": "stream",
     "text": [
      "\u001b[32m[I 2022-08-16 08:59:48,106]\u001b[0m Trial 228 finished with value: 8142.807909604519 and parameters: {'kErase': 1, 'kRadius': 5, 'kAnnealingA': 6.708031342475443, 'kAnnealingB': 2.801193492063628, 'kAnnealingStart': 9.702820418139904, 'kSkipRatio': 0.5464752763157811, 'kTargetDeterminationTrials': 10, 'kAttractionRatio': 0.2534160839393148, 'kMaxAttractionDistance': 16, 'kStartAttraction': 0.4177157549455068}. Best is trial 154 with value: 8222.937853107345.\u001b[0m\n"
     ]
    },
    {
     "name": "stdout",
     "output_type": "stream",
     "text": [
      "index_parallel='0230'\n"
     ]
    },
    {
     "name": "stderr",
     "output_type": "stream",
     "text": [
      "\u001b[32m[I 2022-08-16 09:03:16,506]\u001b[0m Trial 230 finished with value: 8261.802259887005 and parameters: {'kErase': 1, 'kRadius': 5, 'kAnnealingA': 5.336339275868235, 'kAnnealingB': 2.4995028414128506, 'kAnnealingStart': 8.52152191082661, 'kSkipRatio': 0.6756610137399516, 'kTargetDeterminationTrials': 11, 'kAttractionRatio': 0.2897741225748609, 'kMaxAttractionDistance': 13, 'kStartAttraction': 0.5464264101803618}. Best is trial 230 with value: 8261.802259887005.\u001b[0m\n"
     ]
    },
    {
     "name": "stdout",
     "output_type": "stream",
     "text": [
      "Updated! 8261.802259887005\n",
      "index_parallel='0232'\n"
     ]
    },
    {
     "name": "stderr",
     "output_type": "stream",
     "text": [
      "\u001b[32m[I 2022-08-16 09:06:44,593]\u001b[0m Trial 232 finished with value: 8238.158192090395 and parameters: {'kErase': 1, 'kRadius': 5, 'kAnnealingA': 7.141406395580899, 'kAnnealingB': 2.5016219842967478, 'kAnnealingStart': 8.578560669567613, 'kSkipRatio': 0.7646204934647485, 'kTargetDeterminationTrials': 10, 'kAttractionRatio': 0.28783475785026724, 'kMaxAttractionDistance': 16, 'kStartAttraction': 0.5336463093458732}. Best is trial 230 with value: 8261.802259887005.\u001b[0m\n"
     ]
    },
    {
     "name": "stdout",
     "output_type": "stream",
     "text": [
      "index_parallel='0234'\n"
     ]
    },
    {
     "name": "stderr",
     "output_type": "stream",
     "text": [
      "\u001b[32m[I 2022-08-16 09:10:12,562]\u001b[0m Trial 234 finished with value: 8295.853107344632 and parameters: {'kErase': 1, 'kRadius': 5, 'kAnnealingA': 8.29331147231568, 'kAnnealingB': 2.5594476546034066, 'kAnnealingStart': 8.846928181417638, 'kSkipRatio': 0.796282953547888, 'kTargetDeterminationTrials': 10, 'kAttractionRatio': 0.2921342987874078, 'kMaxAttractionDistance': 13, 'kStartAttraction': 0.4420363438653956}. Best is trial 234 with value: 8295.853107344632.\u001b[0m\n"
     ]
    },
    {
     "name": "stdout",
     "output_type": "stream",
     "text": [
      "Updated! 8295.853107344632\n",
      "index_parallel='0236'\n"
     ]
    },
    {
     "name": "stderr",
     "output_type": "stream",
     "text": [
      "\u001b[32m[I 2022-08-16 09:13:40,722]\u001b[0m Trial 236 finished with value: 8210.005649717514 and parameters: {'kErase': 1, 'kRadius': 5, 'kAnnealingA': 10.535526280517717, 'kAnnealingB': 2.3704416555709673, 'kAnnealingStart': 10.020540336467565, 'kSkipRatio': 0.7818729006317392, 'kTargetDeterminationTrials': 10, 'kAttractionRatio': 0.29022962851596606, 'kMaxAttractionDistance': 13, 'kStartAttraction': 0.4180650096274196}. Best is trial 234 with value: 8295.853107344632.\u001b[0m\n"
     ]
    },
    {
     "name": "stdout",
     "output_type": "stream",
     "text": [
      "index_parallel='0238'\n"
     ]
    },
    {
     "name": "stderr",
     "output_type": "stream",
     "text": [
      "\u001b[32m[I 2022-08-16 09:17:09,504]\u001b[0m Trial 238 finished with value: 8134.988700564972 and parameters: {'kErase': 1, 'kRadius': 5, 'kAnnealingA': 10.564110538452809, 'kAnnealingB': 2.3689626568840563, 'kAnnealingStart': 10.078888487236178, 'kSkipRatio': 0.7962938691144672, 'kTargetDeterminationTrials': 10, 'kAttractionRatio': 0.28769308020195855, 'kMaxAttractionDistance': 16, 'kStartAttraction': 0.4548078100105987}. Best is trial 234 with value: 8295.853107344632.\u001b[0m\n"
     ]
    },
    {
     "name": "stdout",
     "output_type": "stream",
     "text": [
      "index_parallel='0240'\n"
     ]
    },
    {
     "name": "stderr",
     "output_type": "stream",
     "text": [
      "\u001b[32m[I 2022-08-16 09:20:37,777]\u001b[0m Trial 240 finished with value: 8173.209039548023 and parameters: {'kErase': 1, 'kRadius': 5, 'kAnnealingA': 7.867076062392632, 'kAnnealingB': 2.4412268484825903, 'kAnnealingStart': 9.239617464393092, 'kSkipRatio': 0.767364378948127, 'kTargetDeterminationTrials': 9, 'kAttractionRatio': 0.2974995710963728, 'kMaxAttractionDistance': 16, 'kStartAttraction': 0.38755190551500646}. Best is trial 234 with value: 8295.853107344632.\u001b[0m\n"
     ]
    },
    {
     "name": "stdout",
     "output_type": "stream",
     "text": [
      "index_parallel='0242'\n"
     ]
    },
    {
     "name": "stderr",
     "output_type": "stream",
     "text": [
      "\u001b[32m[I 2022-08-16 09:24:05,752]\u001b[0m Trial 242 finished with value: 8160.774011299435 and parameters: {'kErase': 1, 'kRadius': 5, 'kAnnealingA': 8.369174239521278, 'kAnnealingB': 2.460757744265096, 'kAnnealingStart': 10.89578933161455, 'kSkipRatio': 0.7570431718634169, 'kTargetDeterminationTrials': 9, 'kAttractionRatio': 0.32946011891236254, 'kMaxAttractionDistance': 14, 'kStartAttraction': 0.4368558429484886}. Best is trial 234 with value: 8295.853107344632.\u001b[0m\n"
     ]
    },
    {
     "name": "stdout",
     "output_type": "stream",
     "text": [
      "index_parallel='0244'\n"
     ]
    },
    {
     "name": "stderr",
     "output_type": "stream",
     "text": [
      "\u001b[32m[I 2022-08-16 09:27:33,835]\u001b[0m Trial 244 finished with value: 8137.062146892656 and parameters: {'kErase': 1, 'kRadius': 5, 'kAnnealingA': 9.786606243512834, 'kAnnealingB': 2.3361851742622006, 'kAnnealingStart': 9.15469910527133, 'kSkipRatio': 0.7650226979453099, 'kTargetDeterminationTrials': 8, 'kAttractionRatio': 0.2407636022200734, 'kMaxAttractionDistance': 13, 'kStartAttraction': 0.37891195872624805}. Best is trial 234 with value: 8295.853107344632.\u001b[0m\n"
     ]
    },
    {
     "name": "stdout",
     "output_type": "stream",
     "text": [
      "index_parallel='0246'\n"
     ]
    },
    {
     "name": "stderr",
     "output_type": "stream",
     "text": [
      "\u001b[32m[I 2022-08-16 09:31:02,009]\u001b[0m Trial 246 finished with value: 8123.107344632768 and parameters: {'kErase': 1, 'kRadius': 5, 'kAnnealingA': 9.210221800087856, 'kAnnealingB': 2.495203622581645, 'kAnnealingStart': 12.446987485279934, 'kSkipRatio': 0.7702370837012763, 'kTargetDeterminationTrials': 8, 'kAttractionRatio': 0.24018924493388588, 'kMaxAttractionDistance': 16, 'kStartAttraction': 0.3718688864554651}. Best is trial 234 with value: 8295.853107344632.\u001b[0m\n"
     ]
    },
    {
     "name": "stdout",
     "output_type": "stream",
     "text": [
      "index_parallel='0248'\n"
     ]
    },
    {
     "name": "stderr",
     "output_type": "stream",
     "text": [
      "\u001b[32m[I 2022-08-16 09:34:30,226]\u001b[0m Trial 248 finished with value: 8152.299435028249 and parameters: {'kErase': 1, 'kRadius': 5, 'kAnnealingA': 11.135077241701346, 'kAnnealingB': 2.4251175049541804, 'kAnnealingStart': 10.324383412373809, 'kSkipRatio': 0.7345207179278004, 'kTargetDeterminationTrials': 9, 'kAttractionRatio': 0.2982305562230509, 'kMaxAttractionDistance': 14, 'kStartAttraction': 0.401516211538152}. Best is trial 234 with value: 8295.853107344632.\u001b[0m\n"
     ]
    },
    {
     "name": "stdout",
     "output_type": "stream",
     "text": [
      "index_parallel='0250'\n"
     ]
    },
    {
     "name": "stderr",
     "output_type": "stream",
     "text": [
      "\u001b[32m[I 2022-08-16 09:37:58,853]\u001b[0m Trial 250 finished with value: 8156.062146892656 and parameters: {'kErase': 1, 'kRadius': 5, 'kAnnealingA': 8.684357895350873, 'kAnnealingB': 2.540040973809134, 'kAnnealingStart': 9.371514406889784, 'kSkipRatio': 0.7776214116403514, 'kTargetDeterminationTrials': 9, 'kAttractionRatio': 0.3102762895369761, 'kMaxAttractionDistance': 15, 'kStartAttraction': 0.3386780688219734}. Best is trial 234 with value: 8295.853107344632.\u001b[0m\n"
     ]
    },
    {
     "name": "stdout",
     "output_type": "stream",
     "text": [
      "index_parallel='0252'\n"
     ]
    },
    {
     "name": "stderr",
     "output_type": "stream",
     "text": [
      "\u001b[32m[I 2022-08-16 09:41:27,142]\u001b[0m Trial 252 finished with value: 8201.338983050848 and parameters: {'kErase': 1, 'kRadius': 5, 'kAnnealingA': 7.998535219018886, 'kAnnealingB': 2.467552412625175, 'kAnnealingStart': 11.587069511149254, 'kSkipRatio': 0.7472170534921694, 'kTargetDeterminationTrials': 9, 'kAttractionRatio': 0.3581905274168133, 'kMaxAttractionDistance': 16, 'kStartAttraction': 0.4214988140502512}. Best is trial 234 with value: 8295.853107344632.\u001b[0m\n"
     ]
    },
    {
     "name": "stdout",
     "output_type": "stream",
     "text": [
      "index_parallel='0254'\n"
     ]
    },
    {
     "name": "stderr",
     "output_type": "stream",
     "text": [
      "\u001b[32m[I 2022-08-16 09:44:55,459]\u001b[0m Trial 254 finished with value: 8164.762711864407 and parameters: {'kErase': 1, 'kRadius': 5, 'kAnnealingA': 8.046093446638249, 'kAnnealingB': 2.370611588553053, 'kAnnealingStart': 12.531108947562286, 'kSkipRatio': 0.7995484044440108, 'kTargetDeterminationTrials': 10, 'kAttractionRatio': 0.22986573969044988, 'kMaxAttractionDistance': 16, 'kStartAttraction': 0.4159764656739715}. Best is trial 234 with value: 8295.853107344632.\u001b[0m\n"
     ]
    },
    {
     "name": "stdout",
     "output_type": "stream",
     "text": [
      "index_parallel='0256'\n"
     ]
    },
    {
     "name": "stderr",
     "output_type": "stream",
     "text": [
      "\u001b[32m[I 2022-08-16 09:48:23,482]\u001b[0m Trial 256 finished with value: 8165.090395480226 and parameters: {'kErase': 1, 'kRadius': 5, 'kAnnealingA': 7.936560322682398, 'kAnnealingB': 2.4785550826724134, 'kAnnealingStart': 8.424451024931553, 'kSkipRatio': 0.724456949468691, 'kTargetDeterminationTrials': 8, 'kAttractionRatio': 0.26573405414552104, 'kMaxAttractionDistance': 17, 'kStartAttraction': 0.3420856749129528}. Best is trial 234 with value: 8295.853107344632.\u001b[0m\n"
     ]
    },
    {
     "name": "stdout",
     "output_type": "stream",
     "text": [
      "index_parallel='0258'\n"
     ]
    },
    {
     "name": "stderr",
     "output_type": "stream",
     "text": [
      "\u001b[32m[I 2022-08-16 09:51:51,942]\u001b[0m Trial 258 finished with value: 8210.412429378532 and parameters: {'kErase': 1, 'kRadius': 5, 'kAnnealingA': 8.272481265437495, 'kAnnealingB': 2.565525516036225, 'kAnnealingStart': 11.396671516372132, 'kSkipRatio': 0.7440047287399061, 'kTargetDeterminationTrials': 10, 'kAttractionRatio': 0.2717019920295351, 'kMaxAttractionDistance': 14, 'kStartAttraction': 0.47533636513926364}. Best is trial 234 with value: 8295.853107344632.\u001b[0m\n"
     ]
    },
    {
     "name": "stdout",
     "output_type": "stream",
     "text": [
      "index_parallel='0260'\n"
     ]
    },
    {
     "name": "stderr",
     "output_type": "stream",
     "text": [
      "\u001b[32m[I 2022-08-16 09:55:20,034]\u001b[0m Trial 260 finished with value: 8213.564971751412 and parameters: {'kErase': 1, 'kRadius': 5, 'kAnnealingA': 7.541529741714341, 'kAnnealingB': 2.5667055270619774, 'kAnnealingStart': 11.44085095567443, 'kSkipRatio': 0.7460368568624209, 'kTargetDeterminationTrials': 9, 'kAttractionRatio': 0.2522790323288837, 'kMaxAttractionDistance': 14, 'kStartAttraction': 0.46390168045675556}. Best is trial 234 with value: 8295.853107344632.\u001b[0m\n"
     ]
    },
    {
     "name": "stdout",
     "output_type": "stream",
     "text": [
      "index_parallel='0262'\n"
     ]
    },
    {
     "name": "stderr",
     "output_type": "stream",
     "text": [
      "\u001b[32m[I 2022-08-16 09:58:48,444]\u001b[0m Trial 262 finished with value: 7823.050847457627 and parameters: {'kErase': 1, 'kRadius': 5, 'kAnnealingA': 7.07554772108067, 'kAnnealingB': 2.542761148208775, 'kAnnealingStart': 15.812016839897577, 'kSkipRatio': 0.7063373436313285, 'kTargetDeterminationTrials': 8, 'kAttractionRatio': 0.04157346379363548, 'kMaxAttractionDistance': 14, 'kStartAttraction': 0.46305472499985173}. Best is trial 234 with value: 8295.853107344632.\u001b[0m\n"
     ]
    },
    {
     "name": "stdout",
     "output_type": "stream",
     "text": [
      "index_parallel='0264'\n"
     ]
    },
    {
     "name": "stderr",
     "output_type": "stream",
     "text": [
      "\u001b[32m[I 2022-08-16 10:02:16,965]\u001b[0m Trial 264 finished with value: 8111.661016949152 and parameters: {'kErase': 1, 'kRadius': 5, 'kAnnealingA': 11.191113900901751, 'kAnnealingB': 2.6037368075759897, 'kAnnealingStart': 14.245120751064004, 'kSkipRatio': 0.7388150380693876, 'kTargetDeterminationTrials': 9, 'kAttractionRatio': 0.22197003565057116, 'kMaxAttractionDistance': 15, 'kStartAttraction': 0.49438272718786225}. Best is trial 234 with value: 8295.853107344632.\u001b[0m\n"
     ]
    },
    {
     "name": "stdout",
     "output_type": "stream",
     "text": [
      "index_parallel='0267'\n"
     ]
    },
    {
     "name": "stderr",
     "output_type": "stream",
     "text": [
      "\u001b[32m[I 2022-08-16 10:05:44,967]\u001b[0m Trial 267 finished with value: 8121.553672316384 and parameters: {'kErase': 1, 'kRadius': 5, 'kAnnealingA': 7.4052438895493, 'kAnnealingB': 2.5228656753292418, 'kAnnealingStart': 11.179162396070344, 'kSkipRatio': 0.7262569632191713, 'kTargetDeterminationTrials': 9, 'kAttractionRatio': 0.21362681396906208, 'kMaxAttractionDistance': 17, 'kStartAttraction': 0.10051117007240219}. Best is trial 234 with value: 8295.853107344632.\u001b[0m\n"
     ]
    },
    {
     "name": "stdout",
     "output_type": "stream",
     "text": [
      "index_parallel='0269'\n"
     ]
    },
    {
     "name": "stderr",
     "output_type": "stream",
     "text": [
      "\u001b[32m[I 2022-08-16 10:09:12,930]\u001b[0m Trial 269 finished with value: 8167.4350282485875 and parameters: {'kErase': 1, 'kRadius': 5, 'kAnnealingA': 6.934731892532022, 'kAnnealingB': 2.5382842834644013, 'kAnnealingStart': 11.035219197131907, 'kSkipRatio': 0.7502739916871344, 'kTargetDeterminationTrials': 9, 'kAttractionRatio': 0.2472001670829288, 'kMaxAttractionDistance': 18, 'kStartAttraction': 0.31505458705925615}. Best is trial 234 with value: 8295.853107344632.\u001b[0m\n"
     ]
    },
    {
     "name": "stdout",
     "output_type": "stream",
     "text": [
      "index_parallel='0271'\n"
     ]
    },
    {
     "name": "stderr",
     "output_type": "stream",
     "text": [
      "\u001b[32m[I 2022-08-16 10:12:40,952]\u001b[0m Trial 271 finished with value: 7857.909604519774 and parameters: {'kErase': 1, 'kRadius': 5, 'kAnnealingA': 8.657975646068774, 'kAnnealingB': 2.499843672657487, 'kAnnealingStart': 10.866341546035507, 'kSkipRatio': 0.7789443528472708, 'kTargetDeterminationTrials': 10, 'kAttractionRatio': 0.26272358245663413, 'kMaxAttractionDistance': 15, 'kStartAttraction': 0.002062194731775116}. Best is trial 234 with value: 8295.853107344632.\u001b[0m\n"
     ]
    },
    {
     "name": "stdout",
     "output_type": "stream",
     "text": [
      "index_parallel='0273'\n"
     ]
    },
    {
     "name": "stderr",
     "output_type": "stream",
     "text": [
      "\u001b[32m[I 2022-08-16 10:16:09,125]\u001b[0m Trial 273 finished with value: 8077.587570621469 and parameters: {'kErase': 1, 'kRadius': 5, 'kAnnealingA': 6.9198797576791495, 'kAnnealingB': 2.5954488023490896, 'kAnnealingStart': 12.173371509029598, 'kSkipRatio': 0.7453398247499186, 'kTargetDeterminationTrials': 9, 'kAttractionRatio': 0.24096280219676913, 'kMaxAttractionDistance': 18, 'kStartAttraction': 0.47534910870911384}. Best is trial 234 with value: 8295.853107344632.\u001b[0m\n"
     ]
    },
    {
     "name": "stdout",
     "output_type": "stream",
     "text": [
      "index_parallel='0275'\n"
     ]
    },
    {
     "name": "stderr",
     "output_type": "stream",
     "text": [
      "\u001b[32m[I 2022-08-16 10:19:36,995]\u001b[0m Trial 275 finished with value: 8106.327683615819 and parameters: {'kErase': 1, 'kRadius': 5, 'kAnnealingA': 7.7446162800088265, 'kAnnealingB': 2.5358684026274028, 'kAnnealingStart': 10.771791040242412, 'kSkipRatio': 0.726845280166731, 'kTargetDeterminationTrials': 8, 'kAttractionRatio': 0.26617299927856536, 'kMaxAttractionDistance': 12, 'kStartAttraction': 0.4454383414849969}. Best is trial 234 with value: 8295.853107344632.\u001b[0m\n"
     ]
    },
    {
     "name": "stdout",
     "output_type": "stream",
     "text": [
      "index_parallel='0277'\n"
     ]
    },
    {
     "name": "stderr",
     "output_type": "stream",
     "text": [
      "\u001b[32m[I 2022-08-16 10:23:05,266]\u001b[0m Trial 277 finished with value: 8218.367231638418 and parameters: {'kErase': 1, 'kRadius': 5, 'kAnnealingA': 6.503640457115112, 'kAnnealingB': 2.6210778313612533, 'kAnnealingStart': 10.108175113806867, 'kSkipRatio': 0.7091317039132591, 'kTargetDeterminationTrials': 9, 'kAttractionRatio': 0.26741107850160134, 'kMaxAttractionDistance': 15, 'kStartAttraction': 0.3527363410949227}. Best is trial 234 with value: 8295.853107344632.\u001b[0m\n"
     ]
    },
    {
     "name": "stdout",
     "output_type": "stream",
     "text": [
      "index_parallel='0279'\n"
     ]
    },
    {
     "name": "stderr",
     "output_type": "stream",
     "text": [
      "\u001b[32m[I 2022-08-16 10:26:33,863]\u001b[0m Trial 279 finished with value: 8106.881355932203 and parameters: {'kErase': 1, 'kRadius': 5, 'kAnnealingA': 6.58776903472738, 'kAnnealingB': 2.4298614635585323, 'kAnnealingStart': 13.541930149164608, 'kSkipRatio': 0.7735915807379999, 'kTargetDeterminationTrials': 9, 'kAttractionRatio': 0.21326211093315256, 'kMaxAttractionDistance': 15, 'kStartAttraction': 0.3152223937436233}. Best is trial 234 with value: 8295.853107344632.\u001b[0m\n"
     ]
    },
    {
     "name": "stdout",
     "output_type": "stream",
     "text": [
      "index_parallel='0281'\n"
     ]
    },
    {
     "name": "stderr",
     "output_type": "stream",
     "text": [
      "\u001b[32m[I 2022-08-16 10:30:02,782]\u001b[0m Trial 281 finished with value: 7854.265536723164 and parameters: {'kErase': 3, 'kRadius': 5, 'kAnnealingA': 7.8039645729432925, 'kAnnealingB': 2.5047045180510414, 'kAnnealingStart': 9.954545838059975, 'kSkipRatio': 0.7078186111312751, 'kTargetDeterminationTrials': 7, 'kAttractionRatio': 0.2641405436620749, 'kMaxAttractionDistance': 13, 'kStartAttraction': 0.37081780536148146}. Best is trial 234 with value: 8295.853107344632.\u001b[0m\n"
     ]
    },
    {
     "name": "stdout",
     "output_type": "stream",
     "text": [
      "index_parallel='0283'\n"
     ]
    },
    {
     "name": "stderr",
     "output_type": "stream",
     "text": [
      "\u001b[32m[I 2022-08-16 10:33:30,814]\u001b[0m Trial 283 finished with value: 7833.090395480226 and parameters: {'kErase': 1, 'kRadius': 5, 'kAnnealingA': 8.622821566770122, 'kAnnealingB': 2.6220810547134428, 'kAnnealingStart': 12.181974295542714, 'kSkipRatio': 0.7559097170471217, 'kTargetDeterminationTrials': 9, 'kAttractionRatio': 0.025008130856627075, 'kMaxAttractionDistance': 15, 'kStartAttraction': 0.4312687749997213}. Best is trial 234 with value: 8295.853107344632.\u001b[0m\n"
     ]
    },
    {
     "name": "stdout",
     "output_type": "stream",
     "text": [
      "index_parallel='0285'\n"
     ]
    },
    {
     "name": "stderr",
     "output_type": "stream",
     "text": [
      "\u001b[32m[I 2022-08-16 10:37:00,420]\u001b[0m Trial 285 finished with value: 7452.0847457627115 and parameters: {'kErase': 4, 'kRadius': 5, 'kAnnealingA': 6.706015836658234, 'kAnnealingB': 2.563383713001007, 'kAnnealingStart': 10.688097796924634, 'kSkipRatio': 0.6740204171998241, 'kTargetDeterminationTrials': 10, 'kAttractionRatio': 0.24360222963479533, 'kMaxAttractionDistance': 14, 'kStartAttraction': 0.4161157912297026}. Best is trial 234 with value: 8295.853107344632.\u001b[0m\n"
     ]
    },
    {
     "name": "stdout",
     "output_type": "stream",
     "text": [
      "index_parallel='0287'\n"
     ]
    },
    {
     "name": "stderr",
     "output_type": "stream",
     "text": [
      "\u001b[32m[I 2022-08-16 10:40:28,620]\u001b[0m Trial 287 finished with value: 8216.429378531073 and parameters: {'kErase': 1, 'kRadius': 5, 'kAnnealingA': 7.225281798763658, 'kAnnealingB': 0.7762152027879727, 'kAnnealingStart': 9.77690175034926, 'kSkipRatio': 0.7412993414174271, 'kTargetDeterminationTrials': 11, 'kAttractionRatio': 0.3277965105627386, 'kMaxAttractionDistance': 17, 'kStartAttraction': 0.5007128544614265}. Best is trial 234 with value: 8295.853107344632.\u001b[0m\n"
     ]
    },
    {
     "name": "stdout",
     "output_type": "stream",
     "text": [
      "index_parallel='0289'\n"
     ]
    },
    {
     "name": "stderr",
     "output_type": "stream",
     "text": [
      "\u001b[32m[I 2022-08-16 10:43:56,843]\u001b[0m Trial 289 finished with value: 8086.38418079096 and parameters: {'kErase': 1, 'kRadius': 5, 'kAnnealingA': 9.689770378728852, 'kAnnealingB': 0.3465406133896558, 'kAnnealingStart': 11.133845144589431, 'kSkipRatio': 0.5702260819868185, 'kTargetDeterminationTrials': 11, 'kAttractionRatio': 0.20535012099821956, 'kMaxAttractionDistance': 17, 'kStartAttraction': 0.5024205022611938}. Best is trial 234 with value: 8295.853107344632.\u001b[0m\n"
     ]
    },
    {
     "name": "stdout",
     "output_type": "stream",
     "text": [
      "index_parallel='0291'\n"
     ]
    },
    {
     "name": "stderr",
     "output_type": "stream",
     "text": [
      "\u001b[32m[I 2022-08-16 10:47:25,166]\u001b[0m Trial 291 finished with value: 8100.6949152542375 and parameters: {'kErase': 1, 'kRadius': 6, 'kAnnealingA': 7.2089093493390095, 'kAnnealingB': 0.8310563283555725, 'kAnnealingStart': 13.285476084178047, 'kSkipRatio': 0.5328538535321165, 'kTargetDeterminationTrials': 11, 'kAttractionRatio': 0.229847298827041, 'kMaxAttractionDistance': 17, 'kStartAttraction': 0.5086242139264092}. Best is trial 234 with value: 8295.853107344632.\u001b[0m\n"
     ]
    },
    {
     "name": "stdout",
     "output_type": "stream",
     "text": [
      "index_parallel='0293'\n"
     ]
    },
    {
     "name": "stderr",
     "output_type": "stream",
     "text": [
      "\u001b[32m[I 2022-08-16 10:50:53,375]\u001b[0m Trial 293 finished with value: 8135.135593220339 and parameters: {'kErase': 1, 'kRadius': 5, 'kAnnealingA': 8.116738889116103, 'kAnnealingB': 2.6876229684921658, 'kAnnealingStart': 9.784791615651695, 'kSkipRatio': 0.6868754831008212, 'kTargetDeterminationTrials': 10, 'kAttractionRatio': 0.27558555115732847, 'kMaxAttractionDistance': 19, 'kStartAttraction': 0.40912775301049403}. Best is trial 234 with value: 8295.853107344632.\u001b[0m\n"
     ]
    },
    {
     "name": "stdout",
     "output_type": "stream",
     "text": [
      "index_parallel='0295'\n"
     ]
    },
    {
     "name": "stderr",
     "output_type": "stream",
     "text": [
      "\u001b[32m[I 2022-08-16 10:54:22,117]\u001b[0m Trial 295 finished with value: 8197.593220338984 and parameters: {'kErase': 2, 'kRadius': 5, 'kAnnealingA': 6.200582733761332, 'kAnnealingB': 2.335255647631801, 'kAnnealingStart': 11.04376000937434, 'kSkipRatio': 0.7174968568387662, 'kTargetDeterminationTrials': 9, 'kAttractionRatio': 0.3285526466041716, 'kMaxAttractionDistance': 13, 'kStartAttraction': 0.5512886333154178}. Best is trial 234 with value: 8295.853107344632.\u001b[0m\n"
     ]
    },
    {
     "name": "stdout",
     "output_type": "stream",
     "text": [
      "index_parallel='0297'\n"
     ]
    },
    {
     "name": "stderr",
     "output_type": "stream",
     "text": [
      "\u001b[32m[I 2022-08-16 10:57:50,866]\u001b[0m Trial 297 finished with value: 7927.819209039548 and parameters: {'kErase': 3, 'kRadius': 5, 'kAnnealingA': 6.27655412477649, 'kAnnealingB': 2.3441716359965996, 'kAnnealingStart': 11.400765991668923, 'kSkipRatio': 0.7167730514069269, 'kTargetDeterminationTrials': 9, 'kAttractionRatio': 0.27438942445763137, 'kMaxAttractionDistance': 13, 'kStartAttraction': 0.53786662103357}. Best is trial 234 with value: 8295.853107344632.\u001b[0m\n"
     ]
    },
    {
     "name": "stdout",
     "output_type": "stream",
     "text": [
      "index_parallel='0299'\n"
     ]
    },
    {
     "name": "stderr",
     "output_type": "stream",
     "text": [
      "\u001b[32m[I 2022-08-16 11:01:19,370]\u001b[0m Trial 299 finished with value: 8045.039548022599 and parameters: {'kErase': 2, 'kRadius': 5, 'kAnnealingA': 6.199359972306737, 'kAnnealingB': 2.42169012588585, 'kAnnealingStart': 12.590725632170694, 'kSkipRatio': 0.7391135731029161, 'kTargetDeterminationTrials': 8, 'kAttractionRatio': 0.3352012550766152, 'kMaxAttractionDistance': 12, 'kStartAttraction': 0.45057110345726575}. Best is trial 234 with value: 8295.853107344632.\u001b[0m\n"
     ]
    },
    {
     "name": "stdout",
     "output_type": "stream",
     "text": [
      "index_parallel='0301'\n"
     ]
    },
    {
     "name": "stderr",
     "output_type": "stream",
     "text": [
      "\u001b[32m[I 2022-08-16 11:04:47,823]\u001b[0m Trial 301 finished with value: 7945.796610169492 and parameters: {'kErase': 2, 'kRadius': 5, 'kAnnealingA': 7.325767420637747, 'kAnnealingB': 1.2240080618872937, 'kAnnealingStart': 14.518832219752575, 'kSkipRatio': 0.6518881923491435, 'kTargetDeterminationTrials': 10, 'kAttractionRatio': 0.2509442888371281, 'kMaxAttractionDistance': 13, 'kStartAttraction': 0.36783329096840245}. Best is trial 234 with value: 8295.853107344632.\u001b[0m\n"
     ]
    },
    {
     "name": "stdout",
     "output_type": "stream",
     "text": [
      "index_parallel='0303'\n"
     ]
    },
    {
     "name": "stderr",
     "output_type": "stream",
     "text": [
      "\u001b[32m[I 2022-08-16 11:08:15,934]\u001b[0m Trial 303 finished with value: 7960.5084745762715 and parameters: {'kErase': 1, 'kRadius': 5, 'kAnnealingA': 9.304195884831369, 'kAnnealingB': 2.6267336838092996, 'kAnnealingStart': 18.579745279908185, 'kSkipRatio': 0.7881370385184583, 'kTargetDeterminationTrials': 9, 'kAttractionRatio': 0.3089152668018897, 'kMaxAttractionDistance': 14, 'kStartAttraction': 0.5449427459121252}. Best is trial 234 with value: 8295.853107344632.\u001b[0m\n"
     ]
    },
    {
     "name": "stdout",
     "output_type": "stream",
     "text": [
      "index_parallel='0305'\n"
     ]
    },
    {
     "name": "stderr",
     "output_type": "stream",
     "text": [
      "\u001b[32m[I 2022-08-16 11:11:44,615]\u001b[0m Trial 305 finished with value: 8216.853107344632 and parameters: {'kErase': 1, 'kRadius': 5, 'kAnnealingA': 11.726962277309923, 'kAnnealingB': 1.1236793418363797, 'kAnnealingStart': 9.066099536630302, 'kSkipRatio': 0.7652726541123962, 'kTargetDeterminationTrials': 11, 'kAttractionRatio': 0.28101174600127465, 'kMaxAttractionDistance': 15, 'kStartAttraction': 0.5180055333602185}. Best is trial 234 with value: 8295.853107344632.\u001b[0m\n"
     ]
    },
    {
     "name": "stdout",
     "output_type": "stream",
     "text": [
      "index_parallel='0307'\n"
     ]
    },
    {
     "name": "stderr",
     "output_type": "stream",
     "text": [
      "\u001b[32m[I 2022-08-16 11:15:12,769]\u001b[0m Trial 307 finished with value: 8153.723163841808 and parameters: {'kErase': 1, 'kRadius': 5, 'kAnnealingA': 13.91074307943888, 'kAnnealingB': 0.950601228750579, 'kAnnealingStart': 8.327508458986491, 'kSkipRatio': 0.7699088401394948, 'kTargetDeterminationTrials': 11, 'kAttractionRatio': 0.22570777542703252, 'kMaxAttractionDistance': 16, 'kStartAttraction': 0.4254117141857092}. Best is trial 234 with value: 8295.853107344632.\u001b[0m\n"
     ]
    },
    {
     "name": "stdout",
     "output_type": "stream",
     "text": [
      "index_parallel='0309'\n"
     ]
    },
    {
     "name": "stderr",
     "output_type": "stream",
     "text": [
      "\u001b[32m[I 2022-08-16 11:18:41,011]\u001b[0m Trial 309 finished with value: 8172.141242937853 and parameters: {'kErase': 1, 'kRadius': 5, 'kAnnealingA': 11.526209364860943, 'kAnnealingB': 1.087187066860105, 'kAnnealingStart': 9.230213144244313, 'kSkipRatio': 0.7623781616170298, 'kTargetDeterminationTrials': 10, 'kAttractionRatio': 0.25521869075711495, 'kMaxAttractionDistance': 18, 'kStartAttraction': 0.4908248275059279}. Best is trial 234 with value: 8295.853107344632.\u001b[0m\n"
     ]
    },
    {
     "name": "stdout",
     "output_type": "stream",
     "text": [
      "index_parallel='0311'\n"
     ]
    },
    {
     "name": "stderr",
     "output_type": "stream",
     "text": [
      "\u001b[32m[I 2022-08-16 11:22:09,202]\u001b[0m Trial 311 finished with value: 8172.920903954802 and parameters: {'kErase': 1, 'kRadius': 5, 'kAnnealingA': 13.261328629672922, 'kAnnealingB': 1.2878756670580327, 'kAnnealingStart': 9.317975742136113, 'kSkipRatio': 0.778081651565581, 'kTargetDeterminationTrials': 11, 'kAttractionRatio': 0.23627293127607296, 'kMaxAttractionDistance': 20, 'kStartAttraction': 0.32229683633688255}. Best is trial 234 with value: 8295.853107344632.\u001b[0m\n"
     ]
    },
    {
     "name": "stdout",
     "output_type": "stream",
     "text": [
      "index_parallel='0313'\n"
     ]
    },
    {
     "name": "stderr",
     "output_type": "stream",
     "text": [
      "\u001b[32m[I 2022-08-16 11:25:37,143]\u001b[0m Trial 313 finished with value: 8033.090395480226 and parameters: {'kErase': 1, 'kRadius': 5, 'kAnnealingA': 10.731804273141647, 'kAnnealingB': 0.8768848282488804, 'kAnnealingStart': 8.308323767357574, 'kSkipRatio': 0.6005464143603794, 'kTargetDeterminationTrials': 11, 'kAttractionRatio': 0.18500284863000113, 'kMaxAttractionDistance': 17, 'kStartAttraction': 0.14749315849506228}. Best is trial 234 with value: 8295.853107344632.\u001b[0m\n"
     ]
    },
    {
     "name": "stdout",
     "output_type": "stream",
     "text": [
      "index_parallel='0315'\n"
     ]
    },
    {
     "name": "stderr",
     "output_type": "stream",
     "text": [
      "\u001b[32m[I 2022-08-16 11:29:05,307]\u001b[0m Trial 315 finished with value: 8052.672316384181 and parameters: {'kErase': 1, 'kRadius': 5, 'kAnnealingA': 12.331940361597365, 'kAnnealingB': 0.9992307949057242, 'kAnnealingStart': 10.215810554171966, 'kSkipRatio': 0.7513872791250638, 'kTargetDeterminationTrials': 15, 'kAttractionRatio': 0.28419789877979534, 'kMaxAttractionDistance': 18, 'kStartAttraction': 0.5794518639307424}. Best is trial 234 with value: 8295.853107344632.\u001b[0m\n"
     ]
    },
    {
     "name": "stdout",
     "output_type": "stream",
     "text": [
      "index_parallel='0317'\n"
     ]
    },
    {
     "name": "stderr",
     "output_type": "stream",
     "text": [
      "\u001b[32m[I 2022-08-16 11:32:33,573]\u001b[0m Trial 317 finished with value: 7845.242937853107 and parameters: {'kErase': 1, 'kRadius': 5, 'kAnnealingA': 12.552009725071432, 'kAnnealingB': 1.3169816326035857, 'kAnnealingStart': 8.757411957580734, 'kSkipRatio': 0.7411759775290083, 'kTargetDeterminationTrials': 10, 'kAttractionRatio': 0.2702428266727412, 'kMaxAttractionDistance': 17, 'kStartAttraction': 0.024184043239546173}. Best is trial 234 with value: 8295.853107344632.\u001b[0m\n"
     ]
    },
    {
     "name": "stdout",
     "output_type": "stream",
     "text": [
      "index_parallel='0319'\n"
     ]
    },
    {
     "name": "stderr",
     "output_type": "stream",
     "text": [
      "\u001b[32m[I 2022-08-16 11:36:01,380]\u001b[0m Trial 319 finished with value: 8189.5084745762715 and parameters: {'kErase': 1, 'kRadius': 5, 'kAnnealingA': 13.208584224823579, 'kAnnealingB': 1.1856036402982628, 'kAnnealingStart': 10.586883353188284, 'kSkipRatio': 0.7678673681129284, 'kTargetDeterminationTrials': 10, 'kAttractionRatio': 0.21334218577384853, 'kMaxAttractionDistance': 15, 'kStartAttraction': 0.6047996461154378}. Best is trial 234 with value: 8295.853107344632.\u001b[0m\n"
     ]
    },
    {
     "name": "stdout",
     "output_type": "stream",
     "text": [
      "index_parallel='0321'\n"
     ]
    },
    {
     "name": "stderr",
     "output_type": "stream",
     "text": [
      "\u001b[32m[I 2022-08-16 11:39:29,716]\u001b[0m Trial 321 finished with value: 8170.333333333333 and parameters: {'kErase': 1, 'kRadius': 5, 'kAnnealingA': 11.89847922043864, 'kAnnealingB': 0.7445486036299167, 'kAnnealingStart': 11.911799727107198, 'kSkipRatio': 0.7334732992674166, 'kTargetDeterminationTrials': 11, 'kAttractionRatio': 0.25791649477706946, 'kMaxAttractionDistance': 16, 'kStartAttraction': 0.47643975316049364}. Best is trial 234 with value: 8295.853107344632.\u001b[0m\n"
     ]
    },
    {
     "name": "stdout",
     "output_type": "stream",
     "text": [
      "index_parallel='0323'\n"
     ]
    }
   ],
   "source": [
    "study.optimize(\n",
    "    partial(objective, in_dir=in_dir, work_dir=work_dir),\n",
    "    n_trials=3000,\n",
    "    timeout=86400,\n",
    "    callbacks=[callback]\n",
    ")"
   ]
  },
  {
   "cell_type": "code",
   "execution_count": null,
   "id": "700269d2",
   "metadata": {},
   "outputs": [],
   "source": []
  }
 ],
 "metadata": {
  "kernelspec": {
   "display_name": "Python 3 (ipykernel)",
   "language": "python",
   "name": "python3"
  },
  "language_info": {
   "codemirror_mode": {
    "name": "ipython",
    "version": 3
   },
   "file_extension": ".py",
   "mimetype": "text/x-python",
   "name": "python",
   "nbconvert_exporter": "python",
   "pygments_lexer": "ipython3",
   "version": "3.9.12"
  }
 },
 "nbformat": 4,
 "nbformat_minor": 5
}
