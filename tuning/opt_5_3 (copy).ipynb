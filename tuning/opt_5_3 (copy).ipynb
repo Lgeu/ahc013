{
 "cells": [
  {
   "cell_type": "code",
   "execution_count": 1,
   "id": "25a1dac8",
   "metadata": {},
   "outputs": [],
   "source": [
    "import re\n",
    "import sys\n",
    "from uuid import uuid1\n",
    "from time import sleep\n",
    "from pprint import pprint\n",
    "from pathlib import Path\n",
    "from tempfile import gettempdir\n",
    "from threading import Thread\n",
    "from functools import partial\n",
    "from subprocess import Popen, PIPE\n",
    "\n",
    "from tqdm.notebook import tqdm\n",
    "import numpy as np\n",
    "import optuna\n",
    "import pandas as pd\n",
    "import matplotlib.pyplot as plt\n",
    "\n",
    "FILENAME = \"main.cpp\""
   ]
  },
  {
   "cell_type": "code",
   "execution_count": 2,
   "id": "3dd4d02e",
   "metadata": {},
   "outputs": [
    {
     "name": "stdout",
     "output_type": "stream",
     "text": [
      "10 variables were found.\n"
     ]
    },
    {
     "data": {
      "text/html": [
       "<div>\n",
       "<style scoped>\n",
       "    .dataframe tbody tr th:only-of-type {\n",
       "        vertical-align: middle;\n",
       "    }\n",
       "\n",
       "    .dataframe tbody tr th {\n",
       "        vertical-align: top;\n",
       "    }\n",
       "\n",
       "    .dataframe thead th {\n",
       "        text-align: right;\n",
       "    }\n",
       "</style>\n",
       "<table border=\"1\" class=\"dataframe\">\n",
       "  <thead>\n",
       "    <tr style=\"text-align: right;\">\n",
       "      <th></th>\n",
       "      <th>name</th>\n",
       "      <th>method</th>\n",
       "      <th>min</th>\n",
       "      <th>max</th>\n",
       "      <th>log</th>\n",
       "      <th>left</th>\n",
       "      <th>right</th>\n",
       "    </tr>\n",
       "  </thead>\n",
       "  <tbody>\n",
       "    <tr>\n",
       "      <th>0</th>\n",
       "      <td>kErase</td>\n",
       "      <td>suggest_int</td>\n",
       "      <td>1.000</td>\n",
       "      <td>5.0</td>\n",
       "      <td>False</td>\n",
       "      <td>static constexpr auto kErase =</td>\n",
       "      <td>;             // OPTIMIZE [1, 5]</td>\n",
       "    </tr>\n",
       "    <tr>\n",
       "      <th>1</th>\n",
       "      <td>kRadius</td>\n",
       "      <td>suggest_int</td>\n",
       "      <td>2.000</td>\n",
       "      <td>6.0</td>\n",
       "      <td>False</td>\n",
       "      <td>static constexpr auto kRadius =</td>\n",
       "      <td>;            // OPTIMIZE [2, 6]</td>\n",
       "    </tr>\n",
       "    <tr>\n",
       "      <th>2</th>\n",
       "      <td>kAnnealingA</td>\n",
       "      <td>suggest_float</td>\n",
       "      <td>-15.000</td>\n",
       "      <td>15.0</td>\n",
       "      <td>False</td>\n",
       "      <td>static constexpr auto kAnnealingA =</td>\n",
       "      <td>;      // OPTIMIZE [-15.0, 15.0]</td>\n",
       "    </tr>\n",
       "    <tr>\n",
       "      <th>3</th>\n",
       "      <td>kAnnealingB</td>\n",
       "      <td>suggest_float</td>\n",
       "      <td>0.000</td>\n",
       "      <td>3.0</td>\n",
       "      <td>False</td>\n",
       "      <td>static constexpr auto kAnnealingB =</td>\n",
       "      <td>;      // OPTIMIZE [0.0, 3.0]</td>\n",
       "    </tr>\n",
       "    <tr>\n",
       "      <th>4</th>\n",
       "      <td>kAnnealingStart</td>\n",
       "      <td>suggest_float</td>\n",
       "      <td>1.000</td>\n",
       "      <td>100.0</td>\n",
       "      <td>True</td>\n",
       "      <td>static constexpr auto kAnnealingStart =</td>\n",
       "      <td>; // OPTIMIZE LOG [1.0, 100.0]</td>\n",
       "    </tr>\n",
       "    <tr>\n",
       "      <th>5</th>\n",
       "      <td>kSkipRatio</td>\n",
       "      <td>suggest_float</td>\n",
       "      <td>0.200</td>\n",
       "      <td>0.8</td>\n",
       "      <td>False</td>\n",
       "      <td>static constexpr auto kSkipRatio =</td>\n",
       "      <td>;       // OPTIMIZE [0.2, 0.8]</td>\n",
       "    </tr>\n",
       "    <tr>\n",
       "      <th>6</th>\n",
       "      <td>kTargetDeterminationTrials</td>\n",
       "      <td>suggest_int</td>\n",
       "      <td>1.000</td>\n",
       "      <td>20.0</td>\n",
       "      <td>True</td>\n",
       "      <td>static constexpr auto kTargetDeterminationTria...</td>\n",
       "      <td>; // OPTIMIZE LOG [1, 20]</td>\n",
       "    </tr>\n",
       "    <tr>\n",
       "      <th>7</th>\n",
       "      <td>kAttractionRatio</td>\n",
       "      <td>suggest_float</td>\n",
       "      <td>0.010</td>\n",
       "      <td>0.9</td>\n",
       "      <td>True</td>\n",
       "      <td>static constexpr auto kAttractionRatio =</td>\n",
       "      <td>;      // OPTIMIZE LOG [0.01, 0.9]</td>\n",
       "    </tr>\n",
       "    <tr>\n",
       "      <th>8</th>\n",
       "      <td>kMaxAttractionDistance</td>\n",
       "      <td>suggest_int</td>\n",
       "      <td>4.000</td>\n",
       "      <td>99.0</td>\n",
       "      <td>True</td>\n",
       "      <td>static constexpr auto kMaxAttractionDistance =</td>\n",
       "      <td>; // OPTIMIZE LOG [4, 99]</td>\n",
       "    </tr>\n",
       "    <tr>\n",
       "      <th>9</th>\n",
       "      <td>kStartAttraction</td>\n",
       "      <td>suggest_float</td>\n",
       "      <td>0.001</td>\n",
       "      <td>0.9</td>\n",
       "      <td>True</td>\n",
       "      <td>static constexpr auto kStartAttraction =</td>\n",
       "      <td>;     // OPTIMIZE LOG [0.001, 0.9]</td>\n",
       "    </tr>\n",
       "  </tbody>\n",
       "</table>\n",
       "</div>"
      ],
      "text/plain": [
       "                         name         method     min    max    log  \\\n",
       "0                      kErase    suggest_int   1.000    5.0  False   \n",
       "1                     kRadius    suggest_int   2.000    6.0  False   \n",
       "2                 kAnnealingA  suggest_float -15.000   15.0  False   \n",
       "3                 kAnnealingB  suggest_float   0.000    3.0  False   \n",
       "4             kAnnealingStart  suggest_float   1.000  100.0   True   \n",
       "5                  kSkipRatio  suggest_float   0.200    0.8  False   \n",
       "6  kTargetDeterminationTrials    suggest_int   1.000   20.0   True   \n",
       "7            kAttractionRatio  suggest_float   0.010    0.9   True   \n",
       "8      kMaxAttractionDistance    suggest_int   4.000   99.0   True   \n",
       "9            kStartAttraction  suggest_float   0.001    0.9   True   \n",
       "\n",
       "                                                left  \\\n",
       "0                    static constexpr auto kErase =    \n",
       "1                   static constexpr auto kRadius =    \n",
       "2               static constexpr auto kAnnealingA =    \n",
       "3               static constexpr auto kAnnealingB =    \n",
       "4           static constexpr auto kAnnealingStart =    \n",
       "5                static constexpr auto kSkipRatio =    \n",
       "6  static constexpr auto kTargetDeterminationTria...   \n",
       "7          static constexpr auto kAttractionRatio =    \n",
       "8    static constexpr auto kMaxAttractionDistance =    \n",
       "9          static constexpr auto kStartAttraction =    \n",
       "\n",
       "                                right  \n",
       "0    ;             // OPTIMIZE [1, 5]  \n",
       "1     ;            // OPTIMIZE [2, 6]  \n",
       "2    ;      // OPTIMIZE [-15.0, 15.0]  \n",
       "3       ;      // OPTIMIZE [0.0, 3.0]  \n",
       "4      ; // OPTIMIZE LOG [1.0, 100.0]  \n",
       "5      ;       // OPTIMIZE [0.2, 0.8]  \n",
       "6           ; // OPTIMIZE LOG [1, 20]  \n",
       "7  ;      // OPTIMIZE LOG [0.01, 0.9]  \n",
       "8           ; // OPTIMIZE LOG [4, 99]  \n",
       "9  ;     // OPTIMIZE LOG [0.001, 0.9]  "
      ]
     },
     "metadata": {},
     "output_type": "display_data"
    }
   ],
   "source": [
    "# ここでエラー出力は何かおかしいかもしれない\n",
    "\n",
    "\n",
    "# パラメータ抽出\n",
    "with open(FILENAME) as f:\n",
    "    answer = f.read()\n",
    "\n",
    "\n",
    "variables_optimize = []\n",
    "\n",
    "for left, value, right, options in re.findall(r\"^([^/\\n]*=\\s*)(.+?)(\\s*;\\s*//(?:.*\\W)?OPTIMIZE(\\W.*))$\", answer, re.MULTILINE):\n",
    "    name = left.replace(\"=\", \"\").strip().split()[-1]\n",
    "    \n",
    "    searched = re.search(r\".*\\[(?P<min>.*),(?P<max>.*)\\].*\", options)\n",
    "    if searched:\n",
    "        min_value = max_value = None\n",
    "        try:\n",
    "            min_value = eval(searched.group(\"min\"))\n",
    "            max_value = eval(searched.group(\"max\"))\n",
    "            assert min_value <= max_value\n",
    "        except Exception as e:\n",
    "            print(f\"searched={searched}\", file=sys.stderr)\n",
    "            print(e, file=sys.stderr)\n",
    "            continue\n",
    "        log = \"LOG\" in options  # 雑、直したほうが良い\n",
    "        if type(min_value) != type(max_value):\n",
    "            print(f\"searched={searched}\", file=sys.stderr)\n",
    "            print(\"types not matched\", file=sys.stderr)\n",
    "            continue\n",
    "        if isinstance(min_value, int):\n",
    "            method = \"suggest_int\"\n",
    "        elif isinstance(min_value, float):\n",
    "            method = \"suggest_float\"\n",
    "        else:\n",
    "            print(f\"searched={searched}\", file=sys.stderr)\n",
    "            print(f\"unknown type ({type(min_value)})\", file=sys.stderr)\n",
    "            continue\n",
    "        variables_optimize.append({\n",
    "            \"name\": name,\n",
    "            \"method\": method,\n",
    "            \"min\": min_value,\n",
    "            \"max\": max_value,\n",
    "            \"log\": log,\n",
    "            \"left\": left,\n",
    "            \"right\": right,\n",
    "        })\n",
    "    elif searched := re.search(r\".*\\{(?P<choices>.*?)\\}.*\", options):\n",
    "        choices = list(map(lambda x: x.strip(), searched.group(\"choices\").split(\",\")))\n",
    "        variables_optimize.append({\n",
    "            \"name\": name,\n",
    "            \"method\": \"suggest_categorical\",\n",
    "            \"choices\": choices,\n",
    "            \"left\": left,\n",
    "            \"right\": right,\n",
    "        })\n",
    "    else:\n",
    "        print(f\"searched={searched}\", file=sys.stderr)\n",
    "        print(f\"pattern was matched but options are incorrect.\", file=sys.stderr)\n",
    "\n",
    "print(len(variables_optimize), \"variables were found.\")\n",
    "if globals().get(\"pd\"):\n",
    "    display(pd.DataFrame(variables_optimize))\n",
    "else:\n",
    "    pprint(variables_optimize)"
   ]
  },
  {
   "cell_type": "code",
   "execution_count": 3,
   "id": "001042b9",
   "metadata": {},
   "outputs": [],
   "source": [
    "def escape(string):  # 正規表現の中でそのまま使いたい文字列をエスケープ\n",
    "    res = !echo '{string}' | sed -e 's/[]\\/$*.^[]/\\\\&/g'\n",
    "    return res[0]\n",
    "\n",
    "def escape_sed(string):  # sed の置換後の文字列用のエスケープ\n",
    "    res = !echo '{string}' | sed -e 's/[\\/&]/\\\\&/g'\n",
    "    return res[0]\n",
    "\n",
    "def read_stream(name, in_file, out_file):\n",
    "    for line in in_file:\n",
    "        print(f\"[{name}] {line.strip()}\", file=out_file)\n",
    "\n",
    "def run(cmd, name):\n",
    "    proc = Popen(cmd, stdout=PIPE, stderr=PIPE, universal_newlines=True, shell=isinstance(cmd, str))\n",
    "    stdout_thread = Thread(target=read_stream, args=(name, proc.stdout, sys.stdout))\n",
    "    stderr_thread = Thread(target=read_stream, args=(name, proc.stderr, sys.stderr))\n",
    "    stdout_thread.start()\n",
    "    stderr_thread.start()\n",
    "    proc.wait()\n",
    "    return proc\n",
    "\n",
    "def objective(trial, in_dir, work_dir):\n",
    "    n_internal_parallel = 3\n",
    "    \n",
    "    index_parallel = f\"{trial.number:04d}\"\n",
    "    print(f\"{index_parallel=}\")\n",
    "    \n",
    "    work_dir = Path(work_dir)\n",
    "    directory_input = Path(in_dir)  # 中のすべてのファイルに対して実行される\n",
    "    #parameters_changed_filename = Path(gettempdir()) / str(uuid1())\n",
    "    parameters_changed_filename = work_dir / f\"{index_parallel}_{FILENAME}\"\n",
    "    \n",
    "    run([\"mkdir\", f\"{work_dir / index_parallel}_out\"], \"mkdir\")\n",
    "    run([\"mkdir\", f\"{work_dir / index_parallel}_score\"], \"mkdir\")\n",
    "    \n",
    "    # ファイル作成\n",
    "    run(f\"cp {FILENAME} {parameters_changed_filename}\", \"cp\")\n",
    "    sed_options = [f\"-i {parameters_changed_filename}\"]\n",
    "    for variable in variables_optimize:\n",
    "        if variable[\"method\"] == \"suggest_categorical\":\n",
    "            val =  trial.suggest_categorical(variable[\"name\"], variable[\"choices\"])\n",
    "        else:\n",
    "            val = getattr(trial, variable[\"method\"])(variable[\"name\"], variable[\"min\"], variable[\"max\"], log=variable[\"log\"])\n",
    "        left = variable[\"left\"]\n",
    "        right = variable[\"right\"]\n",
    "        sed_options.append(f\"\"\"-e 's/^{escape(left)}.*{escape(right)}$/{escape_sed(left)}{val}{escape_sed(right)}/'\"\"\")\n",
    "    command_sed = f\"sed {' '.join(sed_options)}\"\n",
    "    #print(command_sed)\n",
    "    run(command_sed, \"sed\")\n",
    "    \n",
    "    # コンパイル\n",
    "    command_compile = f\"g++ {parameters_changed_filename} -std=gnu++17 -O2 -DONLINE_JUDGE -o {parameters_changed_filename}.out\"\n",
    "    #print(command_compile)\n",
    "    run(command_compile, \"compile\")\n",
    "    # 実行・採点コマンド (@ はファイル名)\n",
    "    command_exec = (\n",
    "        #f\"./a.out < ./tools/in/{i:04d}.txt > {out_file} && ./tools/target/release/vis ./tools/in/{i:04d}.txt {out_file}\"\n",
    "        #f\"../tools/target/release/tester $(pwd)/{parameters_changed_filename}.out < {directory_input}/@ 2>&1 | grep Score\"\n",
    "        #f\"../tools/target/release/tester $(pwd)/{parameters_changed_filename}.out < {directory_input}/@ 2>&1 | grep Score | sed -E s/[^0-9]+// > ./{index_parallel}_score/@;\"\n",
    "        #f\"cargo run --release --manifest-path ../tools/Cargo.toml --bin tester {directory_input}/@ $(pwd)/{parameters_changed_filename}.out 2>&1 | grep Score | sed -E s/[^0-9]+// > ./{index_parallel}_score/@;\"\n",
    "        f\"./{parameters_changed_filename}.out < {directory_input}/@ > {work_dir / index_parallel}_out/@;\"\n",
    "        f\"../tools/target/release/vis {directory_input}/@ {work_dir / index_parallel}_out/@ 2> /dev/null > {work_dir / index_parallel}_score/@;\"\n",
    "    )\n",
    "    # 並列実行 (sed はパスのディレクトリ部分を消してファイル名にしてる)\n",
    "    run(f\"find {directory_input}/* | sed 's!^.*/!!' | xargs -I@ -P {n_internal_parallel} sh -c '{command_exec}'\", \"exec\")\n",
    "    \n",
    "    # 集計\n",
    "    scores = []\n",
    "    for file_path in Path(f\"{work_dir / index_parallel}_score/\").iterdir():  \n",
    "        with open(file_path) as f:\n",
    "            scores.append(int(f.readline().strip().split()[-1]))\n",
    "    mean_score = sum(scores) / len(scores)\n",
    "    \n",
    "    # 後始末\n",
    "    run(f\"rm -rf {work_dir / index_parallel}_out\", \"rm\")\n",
    "    run(f\"rm -rf {work_dir / index_parallel}_score\", \"rm\")\n",
    "    #run(f\"rm {parameters_changed_filename}\", \"rm\")\n",
    "    run(f\"rm {parameters_changed_filename}.out\", \"rm\")\n",
    "    \n",
    "    return mean_score"
   ]
  },
  {
   "cell_type": "code",
   "execution_count": 4,
   "id": "2d2e133c",
   "metadata": {},
   "outputs": [
    {
     "name": "stderr",
     "output_type": "stream",
     "text": [
      "\u001b[32m[I 2022-08-16 05:00:37,110]\u001b[0m Using an existing study with name 'study_5_3' instead of creating a new one.\u001b[0m\n"
     ]
    }
   ],
   "source": [
    "K = 5\n",
    "N_CLASS = 3\n",
    "\n",
    "in_dir = Path(f\"in_{K}_{N_CLASS}\")\n",
    "work_dir = Path(f\"work_{K}_{N_CLASS}\")\n",
    "\n",
    "study_name = f\"study_{K}_{N_CLASS}\"\n",
    "storage_path = work_dir / \"study.db\"\n",
    "storage = f\"sqlite:///{storage_path}\"\n",
    "study = optuna.create_study(storage=storage, load_if_exists=True, study_name=study_name, direction=\"maximize\")\n",
    "\n",
    "def callback(study, trial):\n",
    "    try:\n",
    "        index_parallel = f\"{trial.number:04d}\"\n",
    "        parameters_changed_filename = work_dir / f\"{index_parallel}_{FILENAME}\"\n",
    "        if study.best_value == trial.value:\n",
    "            print(f\"Updated! {study.best_value}\")\n",
    "            !cp {parameters_changed_filename} {work_dir / \"best_parameters.cpp\"}\n",
    "        !rm {parameters_changed_filename}\n",
    "    except:\n",
    "        print(\":(\")\n"
   ]
  },
  {
   "cell_type": "code",
   "execution_count": null,
   "id": "61c2901d",
   "metadata": {},
   "outputs": [
    {
     "name": "stdout",
     "output_type": "stream",
     "text": [
      "index_parallel='0103'\n"
     ]
    },
    {
     "name": "stderr",
     "output_type": "stream",
     "text": [
      "\u001b[32m[I 2022-08-16 05:05:01,636]\u001b[0m Trial 103 finished with value: 8313.467811158798 and parameters: {'kErase': 2, 'kRadius': 3, 'kAnnealingA': 3.780400881494906, 'kAnnealingB': 0.13677047688180738, 'kAnnealingStart': 59.444082154514724, 'kSkipRatio': 0.5939515843700577, 'kTargetDeterminationTrials': 18, 'kAttractionRatio': 0.8243871397880176, 'kMaxAttractionDistance': 18, 'kStartAttraction': 0.0019261004156751838}. Best is trial 98 with value: 8567.484978540773.\u001b[0m\n"
     ]
    },
    {
     "name": "stdout",
     "output_type": "stream",
     "text": [
      "index_parallel='0105'\n"
     ]
    },
    {
     "name": "stderr",
     "output_type": "stream",
     "text": [
      "\u001b[32m[I 2022-08-16 05:09:26,646]\u001b[0m Trial 105 finished with value: 7855.163090128755 and parameters: {'kErase': 2, 'kRadius': 3, 'kAnnealingA': 2.1402078927467345, 'kAnnealingB': 0.33955153035643765, 'kAnnealingStart': 59.88949935788052, 'kSkipRatio': 0.6315512449641859, 'kTargetDeterminationTrials': 16, 'kAttractionRatio': 0.651213288008014, 'kMaxAttractionDistance': 13, 'kStartAttraction': 0.397246045505519}. Best is trial 98 with value: 8567.484978540773.\u001b[0m\n"
     ]
    },
    {
     "name": "stdout",
     "output_type": "stream",
     "text": [
      "index_parallel='0107'\n"
     ]
    },
    {
     "name": "stderr",
     "output_type": "stream",
     "text": [
      "\u001b[32m[I 2022-08-16 05:13:51,958]\u001b[0m Trial 107 finished with value: 7692.798283261803 and parameters: {'kErase': 2, 'kRadius': 2, 'kAnnealingA': 7.187627336196756, 'kAnnealingB': 0.06684038597468492, 'kAnnealingStart': 73.20418716825493, 'kSkipRatio': 0.6104243404942399, 'kTargetDeterminationTrials': 14, 'kAttractionRatio': 0.5315907366766638, 'kMaxAttractionDistance': 20, 'kStartAttraction': 0.0012456107518777693}. Best is trial 98 with value: 8567.484978540773.\u001b[0m\n"
     ]
    },
    {
     "name": "stdout",
     "output_type": "stream",
     "text": [
      "index_parallel='0109'\n"
     ]
    },
    {
     "name": "stderr",
     "output_type": "stream",
     "text": [
      "\u001b[32m[I 2022-08-16 05:18:16,980]\u001b[0m Trial 109 finished with value: 8055.459227467811 and parameters: {'kErase': 2, 'kRadius': 3, 'kAnnealingA': 0.44185561077922264, 'kAnnealingB': 0.5914344479424619, 'kAnnealingStart': 51.45681559181771, 'kSkipRatio': 0.5564935293616787, 'kTargetDeterminationTrials': 15, 'kAttractionRatio': 0.4727490416095095, 'kMaxAttractionDistance': 24, 'kStartAttraction': 0.0023303695801291787}. Best is trial 98 with value: 8567.484978540773.\u001b[0m\n"
     ]
    },
    {
     "name": "stdout",
     "output_type": "stream",
     "text": [
      "index_parallel='0111'\n"
     ]
    },
    {
     "name": "stderr",
     "output_type": "stream",
     "text": [
      "\u001b[32m[I 2022-08-16 05:22:42,074]\u001b[0m Trial 111 finished with value: 8415.669527896996 and parameters: {'kErase': 2, 'kRadius': 3, 'kAnnealingA': 6.292627371159097, 'kAnnealingB': 0.21014702923149267, 'kAnnealingStart': 44.076528886673536, 'kSkipRatio': 0.5838875516493164, 'kTargetDeterminationTrials': 13, 'kAttractionRatio': 0.5951251090934961, 'kMaxAttractionDistance': 17, 'kStartAttraction': 0.0037867814674654304}. Best is trial 98 with value: 8567.484978540773.\u001b[0m\n"
     ]
    },
    {
     "name": "stdout",
     "output_type": "stream",
     "text": [
      "index_parallel='0113'\n"
     ]
    },
    {
     "name": "stderr",
     "output_type": "stream",
     "text": [
      "\u001b[32m[I 2022-08-16 05:27:06,984]\u001b[0m Trial 113 finished with value: 8415.296137339055 and parameters: {'kErase': 2, 'kRadius': 3, 'kAnnealingA': 5.995592754189039, 'kAnnealingB': 0.44551159664491935, 'kAnnealingStart': 43.535515437642665, 'kSkipRatio': 0.5789643632419507, 'kTargetDeterminationTrials': 13, 'kAttractionRatio': 0.436505407478897, 'kMaxAttractionDistance': 15, 'kStartAttraction': 0.003808609801039326}. Best is trial 98 with value: 8567.484978540773.\u001b[0m\n"
     ]
    },
    {
     "name": "stdout",
     "output_type": "stream",
     "text": [
      "index_parallel='0115'\n"
     ]
    },
    {
     "name": "stderr",
     "output_type": "stream",
     "text": [
      "\u001b[32m[I 2022-08-16 05:31:31,988]\u001b[0m Trial 115 finished with value: 8365.927038626609 and parameters: {'kErase': 2, 'kRadius': 3, 'kAnnealingA': 5.427342618487817, 'kAnnealingB': 0.44242972110731726, 'kAnnealingStart': 44.005595468698495, 'kSkipRatio': 0.6011033857197149, 'kTargetDeterminationTrials': 13, 'kAttractionRatio': 0.4338209468815169, 'kMaxAttractionDistance': 17, 'kStartAttraction': 0.006555304021820038}. Best is trial 98 with value: 8567.484978540773.\u001b[0m\n"
     ]
    },
    {
     "name": "stdout",
     "output_type": "stream",
     "text": [
      "index_parallel='0117'\n"
     ]
    },
    {
     "name": "stderr",
     "output_type": "stream",
     "text": [
      "\u001b[32m[I 2022-08-16 05:35:56,576]\u001b[0m Trial 117 finished with value: 8469.57939914163 and parameters: {'kErase': 2, 'kRadius': 3, 'kAnnealingA': 6.659256015917471, 'kAnnealingB': 0.2634127729147978, 'kAnnealingStart': 37.66325085627876, 'kSkipRatio': 0.6628133449153026, 'kTargetDeterminationTrials': 12, 'kAttractionRatio': 0.35626095861055523, 'kMaxAttractionDistance': 16, 'kStartAttraction': 0.0051256830981618}. Best is trial 98 with value: 8567.484978540773.\u001b[0m\n"
     ]
    },
    {
     "name": "stdout",
     "output_type": "stream",
     "text": [
      "index_parallel='0119'\n"
     ]
    },
    {
     "name": "stderr",
     "output_type": "stream",
     "text": [
      "\u001b[32m[I 2022-08-16 05:40:21,599]\u001b[0m Trial 119 finished with value: 7988.751072961373 and parameters: {'kErase': 2, 'kRadius': 3, 'kAnnealingA': 6.653191402058628, 'kAnnealingB': 0.2662211076395284, 'kAnnealingStart': 56.14509560548916, 'kSkipRatio': 0.5673947148605917, 'kTargetDeterminationTrials': 12, 'kAttractionRatio': 0.3525218855418599, 'kMaxAttractionDistance': 13, 'kStartAttraction': 0.0039586491527763565}. Best is trial 98 with value: 8567.484978540773.\u001b[0m\n"
     ]
    },
    {
     "name": "stdout",
     "output_type": "stream",
     "text": [
      "index_parallel='0121'\n"
     ]
    },
    {
     "name": "stderr",
     "output_type": "stream",
     "text": [
      "\u001b[32m[I 2022-08-16 05:44:46,563]\u001b[0m Trial 121 finished with value: 8178.081545064378 and parameters: {'kErase': 2, 'kRadius': 3, 'kAnnealingA': 6.025417982624351, 'kAnnealingB': 0.1120226339792546, 'kAnnealingStart': 32.380955092271684, 'kSkipRatio': 0.6607414456807587, 'kTargetDeterminationTrials': 17, 'kAttractionRatio': 0.734585563945686, 'kMaxAttractionDistance': 19, 'kStartAttraction': 0.0034557353117972162}. Best is trial 98 with value: 8567.484978540773.\u001b[0m\n"
     ]
    },
    {
     "name": "stdout",
     "output_type": "stream",
     "text": [
      "index_parallel='0123'\n"
     ]
    },
    {
     "name": "stderr",
     "output_type": "stream",
     "text": [
      "\u001b[32m[I 2022-08-16 05:49:11,745]\u001b[0m Trial 123 finished with value: 8462.429184549355 and parameters: {'kErase': 2, 'kRadius': 3, 'kAnnealingA': 7.608403626496, 'kAnnealingB': 0.19465596588595271, 'kAnnealingStart': 40.28529732839918, 'kSkipRatio': 0.6405633541160629, 'kTargetDeterminationTrials': 15, 'kAttractionRatio': 0.38186787362763264, 'kMaxAttractionDistance': 12, 'kStartAttraction': 0.005936097468476405}. Best is trial 98 with value: 8567.484978540773.\u001b[0m\n"
     ]
    },
    {
     "name": "stdout",
     "output_type": "stream",
     "text": [
      "index_parallel='0125'\n"
     ]
    },
    {
     "name": "stderr",
     "output_type": "stream",
     "text": [
      "\u001b[32m[I 2022-08-16 05:53:36,539]\u001b[0m Trial 125 finished with value: 8478.188841201716 and parameters: {'kErase': 2, 'kRadius': 3, 'kAnnealingA': 3.931706313873759, 'kAnnealingB': 0.3235832007480246, 'kAnnealingStart': 36.89440637179765, 'kSkipRatio': 0.6235787341215923, 'kTargetDeterminationTrials': 15, 'kAttractionRatio': 0.3745172115329845, 'kMaxAttractionDistance': 12, 'kStartAttraction': 0.007573642413275257}. Best is trial 98 with value: 8567.484978540773.\u001b[0m\n"
     ]
    },
    {
     "name": "stdout",
     "output_type": "stream",
     "text": [
      "index_parallel='0127'\n"
     ]
    },
    {
     "name": "stderr",
     "output_type": "stream",
     "text": [
      "\u001b[32m[I 2022-08-16 05:58:01,424]\u001b[0m Trial 127 finished with value: 8464.369098712446 and parameters: {'kErase': 2, 'kRadius': 3, 'kAnnealingA': 4.709755668033334, 'kAnnealingB': 0.6108962072528749, 'kAnnealingStart': 38.620537926443944, 'kSkipRatio': 0.6403524573680666, 'kTargetDeterminationTrials': 15, 'kAttractionRatio': 0.3779386881586464, 'kMaxAttractionDistance': 13, 'kStartAttraction': 0.00729258604638279}. Best is trial 98 with value: 8567.484978540773.\u001b[0m\n"
     ]
    },
    {
     "name": "stdout",
     "output_type": "stream",
     "text": [
      "index_parallel='0129'\n"
     ]
    },
    {
     "name": "stderr",
     "output_type": "stream",
     "text": [
      "\u001b[32m[I 2022-08-16 06:02:26,623]\u001b[0m Trial 129 finished with value: 8202.1330472103 and parameters: {'kErase': 3, 'kRadius': 3, 'kAnnealingA': 4.627085482897755, 'kAnnealingB': 0.8616356061786177, 'kAnnealingStart': 37.042397934768495, 'kSkipRatio': 0.6466030695389723, 'kTargetDeterminationTrials': 14, 'kAttractionRatio': 0.3721156979376081, 'kMaxAttractionDistance': 12, 'kStartAttraction': 0.007444690360064141}. Best is trial 98 with value: 8567.484978540773.\u001b[0m\n"
     ]
    },
    {
     "name": "stdout",
     "output_type": "stream",
     "text": [
      "index_parallel='0131'\n"
     ]
    },
    {
     "name": "stderr",
     "output_type": "stream",
     "text": [
      "\u001b[32m[I 2022-08-16 06:06:51,535]\u001b[0m Trial 131 finished with value: 8375.171673819743 and parameters: {'kErase': 2, 'kRadius': 3, 'kAnnealingA': 2.661306508270085, 'kAnnealingB': 1.2300779727180267, 'kAnnealingStart': 28.949775469560855, 'kSkipRatio': 0.6695644855698497, 'kTargetDeterminationTrials': 15, 'kAttractionRatio': 0.27988349373253557, 'kMaxAttractionDistance': 13, 'kStartAttraction': 0.01218615785222473}. Best is trial 98 with value: 8567.484978540773.\u001b[0m\n"
     ]
    },
    {
     "name": "stdout",
     "output_type": "stream",
     "text": [
      "index_parallel='0133'\n"
     ]
    },
    {
     "name": "stderr",
     "output_type": "stream",
     "text": [
      "\u001b[32m[I 2022-08-16 06:11:16,137]\u001b[0m Trial 133 finished with value: 8395.43347639485 and parameters: {'kErase': 2, 'kRadius': 3, 'kAnnealingA': 6.3736831741725055, 'kAnnealingB': 0.7610187994967222, 'kAnnealingStart': 42.08163487370351, 'kSkipRatio': 0.6295309202863583, 'kTargetDeterminationTrials': 12, 'kAttractionRatio': 0.42769752593768606, 'kMaxAttractionDistance': 15, 'kStartAttraction': 0.005978328467902483}. Best is trial 98 with value: 8567.484978540773.\u001b[0m\n"
     ]
    },
    {
     "name": "stdout",
     "output_type": "stream",
     "text": [
      "index_parallel='0135'\n"
     ]
    },
    {
     "name": "stderr",
     "output_type": "stream",
     "text": [
      "\u001b[32m[I 2022-08-16 06:15:41,140]\u001b[0m Trial 135 finished with value: 8558.442060085838 and parameters: {'kErase': 2, 'kRadius': 3, 'kAnnealingA': 5.232162158642323, 'kAnnealingB': 0.23294268219780137, 'kAnnealingStart': 47.98455381990226, 'kSkipRatio': 0.6230643704247013, 'kTargetDeterminationTrials': 11, 'kAttractionRatio': 0.5271206832248596, 'kMaxAttractionDistance': 11, 'kStartAttraction': 0.005133813099082752}. Best is trial 98 with value: 8567.484978540773.\u001b[0m\n"
     ]
    },
    {
     "name": "stdout",
     "output_type": "stream",
     "text": [
      "index_parallel='0137'\n"
     ]
    },
    {
     "name": "stderr",
     "output_type": "stream",
     "text": [
      "\u001b[32m[I 2022-08-16 06:20:06,224]\u001b[0m Trial 137 finished with value: 8260.055793991416 and parameters: {'kErase': 2, 'kRadius': 2, 'kAnnealingA': 5.557395520539874, 'kAnnealingB': 0.23305512813883347, 'kAnnealingStart': 33.725246399375806, 'kSkipRatio': 0.6178416212096421, 'kTargetDeterminationTrials': 11, 'kAttractionRatio': 0.5004869471168345, 'kMaxAttractionDistance': 10, 'kStartAttraction': 0.009136008872919201}. Best is trial 98 with value: 8567.484978540773.\u001b[0m\n"
     ]
    },
    {
     "name": "stdout",
     "output_type": "stream",
     "text": [
      "index_parallel='0139'\n"
     ]
    },
    {
     "name": "stderr",
     "output_type": "stream",
     "text": [
      "\u001b[32m[I 2022-08-16 06:24:31,435]\u001b[0m Trial 139 finished with value: 7850.665236051502 and parameters: {'kErase': 2, 'kRadius': 3, 'kAnnealingA': 4.969630244884053, 'kAnnealingB': 0.3129683129646861, 'kAnnealingStart': 1.0096880689398933, 'kSkipRatio': 0.48087687376543853, 'kTargetDeterminationTrials': 17, 'kAttractionRatio': 0.36228187775618015, 'kMaxAttractionDistance': 11, 'kStartAttraction': 0.005199743718300744}. Best is trial 98 with value: 8567.484978540773.\u001b[0m\n"
     ]
    },
    {
     "name": "stdout",
     "output_type": "stream",
     "text": [
      "index_parallel='0141'\n"
     ]
    },
    {
     "name": "stderr",
     "output_type": "stream",
     "text": [
      "\u001b[32m[I 2022-08-16 06:28:56,471]\u001b[0m Trial 141 finished with value: 8212.849785407725 and parameters: {'kErase': 2, 'kRadius': 3, 'kAnnealingA': 5.007902574811209, 'kAnnealingB': 0.3555739128056121, 'kAnnealingStart': 22.796737267828323, 'kSkipRatio': 0.4927592616209756, 'kTargetDeterminationTrials': 16, 'kAttractionRatio': 0.5366298673018354, 'kMaxAttractionDistance': 9, 'kStartAttraction': 0.004673166741177003}. Best is trial 98 with value: 8567.484978540773.\u001b[0m\n"
     ]
    },
    {
     "name": "stdout",
     "output_type": "stream",
     "text": [
      "index_parallel='0143'\n"
     ]
    },
    {
     "name": "stderr",
     "output_type": "stream",
     "text": [
      "\u001b[32m[I 2022-08-16 06:33:21,349]\u001b[0m Trial 143 finished with value: 8429.2660944206 and parameters: {'kErase': 2, 'kRadius': 3, 'kAnnealingA': 8.020599160022336, 'kAnnealingB': 0.1852648646407422, 'kAnnealingStart': 46.65441755744933, 'kSkipRatio': 0.44417593308299014, 'kTargetDeterminationTrials': 15, 'kAttractionRatio': 0.5941116404139093, 'kMaxAttractionDistance': 16, 'kStartAttraction': 0.007147274654243752}. Best is trial 98 with value: 8567.484978540773.\u001b[0m\n"
     ]
    },
    {
     "name": "stdout",
     "output_type": "stream",
     "text": [
      "index_parallel='0145'\n"
     ]
    },
    {
     "name": "stderr",
     "output_type": "stream",
     "text": [
      "\u001b[32m[I 2022-08-16 06:37:46,143]\u001b[0m Trial 145 finished with value: 8431.81974248927 and parameters: {'kErase': 2, 'kRadius': 3, 'kAnnealingA': 7.797937720793877, 'kAnnealingB': 0.148650650183546, 'kAnnealingStart': 50.526702309416756, 'kSkipRatio': 0.5026313389868042, 'kTargetDeterminationTrials': 15, 'kAttractionRatio': 0.4679558152002708, 'kMaxAttractionDistance': 14, 'kStartAttraction': 0.0069640842999989724}. Best is trial 98 with value: 8567.484978540773.\u001b[0m\n"
     ]
    },
    {
     "name": "stdout",
     "output_type": "stream",
     "text": [
      "index_parallel='0147'\n"
     ]
    },
    {
     "name": "stderr",
     "output_type": "stream",
     "text": [
      "\u001b[32m[I 2022-08-16 06:42:11,065]\u001b[0m Trial 147 finished with value: 8532.442060085838 and parameters: {'kErase': 2, 'kRadius': 3, 'kAnnealingA': 9.146503948405467, 'kAnnealingB': 0.5039678184331646, 'kAnnealingStart': 35.633896835081856, 'kSkipRatio': 0.46084959535981335, 'kTargetDeterminationTrials': 19, 'kAttractionRatio': 0.5408083080196842, 'kMaxAttractionDistance': 13, 'kStartAttraction': 0.004631900459592773}. Best is trial 98 with value: 8567.484978540773.\u001b[0m\n"
     ]
    },
    {
     "name": "stdout",
     "output_type": "stream",
     "text": [
      "index_parallel='0149'\n"
     ]
    },
    {
     "name": "stderr",
     "output_type": "stream",
     "text": [
      "\u001b[32m[I 2022-08-16 06:46:35,775]\u001b[0m Trial 149 finished with value: 8483.128755364807 and parameters: {'kErase': 2, 'kRadius': 3, 'kAnnealingA': 7.145836172532054, 'kAnnealingB': 0.5387979173061788, 'kAnnealingStart': 35.879950948759216, 'kSkipRatio': 0.46655231353694326, 'kTargetDeterminationTrials': 19, 'kAttractionRatio': 0.5548275223400316, 'kMaxAttractionDistance': 13, 'kStartAttraction': 0.007818972124045448}. Best is trial 98 with value: 8567.484978540773.\u001b[0m\n"
     ]
    },
    {
     "name": "stdout",
     "output_type": "stream",
     "text": [
      "index_parallel='0151'\n"
     ]
    },
    {
     "name": "stderr",
     "output_type": "stream",
     "text": [
      "\u001b[32m[I 2022-08-16 06:51:00,616]\u001b[0m Trial 151 finished with value: 8213.085836909871 and parameters: {'kErase': 2, 'kRadius': 3, 'kAnnealingA': -0.8788195842654654, 'kAnnealingB': 0.6139837013733854, 'kAnnealingStart': 33.54462980881261, 'kSkipRatio': 0.45411446838154007, 'kTargetDeterminationTrials': 20, 'kAttractionRatio': 0.5373928422837685, 'kMaxAttractionDistance': 13, 'kStartAttraction': 0.008760693465653065}. Best is trial 98 with value: 8567.484978540773.\u001b[0m\n"
     ]
    },
    {
     "name": "stdout",
     "output_type": "stream",
     "text": [
      "index_parallel='0153'\n"
     ]
    },
    {
     "name": "stderr",
     "output_type": "stream",
     "text": [
      "\u001b[32m[I 2022-08-16 06:55:25,276]\u001b[0m Trial 153 finished with value: 8369.901287553648 and parameters: {'kErase': 2, 'kRadius': 3, 'kAnnealingA': 9.534977064147574, 'kAnnealingB': 0.5374428876368793, 'kAnnealingStart': 30.50694872279125, 'kSkipRatio': 0.4345336067212888, 'kTargetDeterminationTrials': 19, 'kAttractionRatio': 0.48783686065753157, 'kMaxAttractionDistance': 13, 'kStartAttraction': 0.011798863134687343}. Best is trial 98 with value: 8567.484978540773.\u001b[0m\n"
     ]
    },
    {
     "name": "stdout",
     "output_type": "stream",
     "text": [
      "index_parallel='0155'\n"
     ]
    },
    {
     "name": "stderr",
     "output_type": "stream",
     "text": [
      "\u001b[32m[I 2022-08-16 06:59:50,561]\u001b[0m Trial 155 finished with value: 8456.257510729614 and parameters: {'kErase': 2, 'kRadius': 3, 'kAnnealingA': 8.176757484812203, 'kAnnealingB': 0.48932760475653453, 'kAnnealingStart': 38.63123103656991, 'kSkipRatio': 0.46481801797526073, 'kTargetDeterminationTrials': 17, 'kAttractionRatio': 0.6487935829393077, 'kMaxAttractionDistance': 12, 'kStartAttraction': 0.014903310103086435}. Best is trial 98 with value: 8567.484978540773.\u001b[0m\n"
     ]
    },
    {
     "name": "stdout",
     "output_type": "stream",
     "text": [
      "index_parallel='0157'\n"
     ]
    },
    {
     "name": "stderr",
     "output_type": "stream",
     "text": [
      "\u001b[32m[I 2022-08-16 07:04:15,258]\u001b[0m Trial 157 finished with value: 8348.18025751073 and parameters: {'kErase': 2, 'kRadius': 3, 'kAnnealingA': 10.077136143226854, 'kAnnealingB': 0.6698003620955997, 'kAnnealingStart': 30.641390057658892, 'kSkipRatio': 0.40359582841811564, 'kTargetDeterminationTrials': 18, 'kAttractionRatio': 0.5978870351614929, 'kMaxAttractionDistance': 12, 'kStartAttraction': 0.022140031470310573}. Best is trial 98 with value: 8567.484978540773.\u001b[0m\n"
     ]
    },
    {
     "name": "stdout",
     "output_type": "stream",
     "text": [
      "index_parallel='0159'\n"
     ]
    },
    {
     "name": "stderr",
     "output_type": "stream",
     "text": [
      "\u001b[32m[I 2022-08-16 07:08:39,907]\u001b[0m Trial 159 finished with value: 8352.596566523605 and parameters: {'kErase': 2, 'kRadius': 3, 'kAnnealingA': 8.76091316338328, 'kAnnealingB': 0.8042311247020145, 'kAnnealingStart': 41.16269979727046, 'kSkipRatio': 0.42827273739600386, 'kTargetDeterminationTrials': 16, 'kAttractionRatio': 0.3971852318406312, 'kMaxAttractionDistance': 14, 'kStartAttraction': 0.0166763786852333}. Best is trial 98 with value: 8567.484978540773.\u001b[0m\n"
     ]
    },
    {
     "name": "stdout",
     "output_type": "stream",
     "text": [
      "index_parallel='0161'\n"
     ]
    },
    {
     "name": "stderr",
     "output_type": "stream",
     "text": [
      "\u001b[32m[I 2022-08-16 07:13:05,001]\u001b[0m Trial 161 finished with value: 8475.480686695279 and parameters: {'kErase': 2, 'kRadius': 3, 'kAnnealingA': 9.542424952129672, 'kAnnealingB': 0.43650252836999637, 'kAnnealingStart': 35.493374930160456, 'kSkipRatio': 0.4030393737445873, 'kTargetDeterminationTrials': 19, 'kAttractionRatio': 0.6788922293794609, 'kMaxAttractionDistance': 11, 'kStartAttraction': 0.008282477543298007}. Best is trial 98 with value: 8567.484978540773.\u001b[0m\n"
     ]
    },
    {
     "name": "stdout",
     "output_type": "stream",
     "text": [
      "index_parallel='0163'\n"
     ]
    },
    {
     "name": "stderr",
     "output_type": "stream",
     "text": [
      "\u001b[32m[I 2022-08-16 07:17:29,598]\u001b[0m Trial 163 finished with value: 8406.01287553648 and parameters: {'kErase': 2, 'kRadius': 3, 'kAnnealingA': 7.602638745537365, 'kAnnealingB': 0.4454750832697122, 'kAnnealingStart': 35.195347781408465, 'kSkipRatio': 0.40033930134538304, 'kTargetDeterminationTrials': 20, 'kAttractionRatio': 0.749494268848149, 'kMaxAttractionDistance': 11, 'kStartAttraction': 0.008321554495227323}. Best is trial 98 with value: 8567.484978540773.\u001b[0m\n"
     ]
    },
    {
     "name": "stdout",
     "output_type": "stream",
     "text": [
      "index_parallel='0165'\n"
     ]
    },
    {
     "name": "stderr",
     "output_type": "stream",
     "text": [
      "\u001b[32m[I 2022-08-16 07:21:54,567]\u001b[0m Trial 165 finished with value: 8293.064377682404 and parameters: {'kErase': 2, 'kRadius': 3, 'kAnnealingA': 6.81811165596724, 'kAnnealingB': 0.5241684116171041, 'kAnnealingStart': 28.067434430492106, 'kSkipRatio': 0.43799747786122617, 'kTargetDeterminationTrials': 18, 'kAttractionRatio': 0.7126745679438647, 'kMaxAttractionDistance': 10, 'kStartAttraction': 0.012514491699742383}. Best is trial 98 with value: 8567.484978540773.\u001b[0m\n"
     ]
    },
    {
     "name": "stdout",
     "output_type": "stream",
     "text": [
      "index_parallel='0167'\n"
     ]
    },
    {
     "name": "stderr",
     "output_type": "stream",
     "text": [
      "\u001b[32m[I 2022-08-16 07:26:19,540]\u001b[0m Trial 167 finished with value: 8269.068669527896 and parameters: {'kErase': 2, 'kRadius': 3, 'kAnnealingA': 8.162762518768298, 'kAnnealingB': 0.39331077547798465, 'kAnnealingStart': 48.998206857359435, 'kSkipRatio': 0.38637920155982447, 'kTargetDeterminationTrials': 17, 'kAttractionRatio': 0.45561368394188934, 'kMaxAttractionDistance': 9, 'kStartAttraction': 0.0358561323816657}. Best is trial 98 with value: 8567.484978540773.\u001b[0m\n"
     ]
    },
    {
     "name": "stdout",
     "output_type": "stream",
     "text": [
      "index_parallel='0169'\n"
     ]
    },
    {
     "name": "stderr",
     "output_type": "stream",
     "text": [
      "\u001b[32m[I 2022-08-16 07:30:44,870]\u001b[0m Trial 169 finished with value: 8460.386266094421 and parameters: {'kErase': 2, 'kRadius': 3, 'kAnnealingA': 10.886570662059741, 'kAnnealingB': 0.574247798360926, 'kAnnealingStart': 44.48911981792809, 'kSkipRatio': 0.45569008178182535, 'kTargetDeterminationTrials': 16, 'kAttractionRatio': 0.5556289399402372, 'kMaxAttractionDistance': 13, 'kStartAttraction': 0.009298651079163264}. Best is trial 98 with value: 8567.484978540773.\u001b[0m\n"
     ]
    },
    {
     "name": "stdout",
     "output_type": "stream",
     "text": [
      "index_parallel='0171'\n"
     ]
    },
    {
     "name": "stderr",
     "output_type": "stream",
     "text": [
      "\u001b[32m[I 2022-08-16 07:35:09,684]\u001b[0m Trial 171 finished with value: 8181.304721030043 and parameters: {'kErase': 2, 'kRadius': 3, 'kAnnealingA': -1.9061874648202242, 'kAnnealingB': 0.4462059687546153, 'kAnnealingStart': 37.31811648618346, 'kSkipRatio': 0.42567168551359724, 'kTargetDeterminationTrials': 14, 'kAttractionRatio': 0.6508961145129892, 'kMaxAttractionDistance': 14, 'kStartAttraction': 0.007672791130329204}. Best is trial 98 with value: 8567.484978540773.\u001b[0m\n"
     ]
    },
    {
     "name": "stdout",
     "output_type": "stream",
     "text": [
      "index_parallel='0173'\n"
     ]
    },
    {
     "name": "stderr",
     "output_type": "stream",
     "text": [
      "\u001b[32m[I 2022-08-16 07:39:34,359]\u001b[0m Trial 173 finished with value: 8328.01287553648 and parameters: {'kErase': 2, 'kRadius': 3, 'kAnnealingA': 7.395240798878652, 'kAnnealingB': 0.49372918455846515, 'kAnnealingStart': 41.052606042847295, 'kSkipRatio': 0.3861610697173598, 'kTargetDeterminationTrials': 20, 'kAttractionRatio': 0.3527907665131633, 'kMaxAttractionDistance': 12, 'kStartAttraction': 0.00656728244344553}. Best is trial 98 with value: 8567.484978540773.\u001b[0m\n"
     ]
    },
    {
     "name": "stdout",
     "output_type": "stream",
     "text": [
      "index_parallel='0175'\n"
     ]
    },
    {
     "name": "stderr",
     "output_type": "stream",
     "text": [
      "\u001b[32m[I 2022-08-16 07:43:58,949]\u001b[0m Trial 175 finished with value: 8304.02575107296 and parameters: {'kErase': 2, 'kRadius': 3, 'kAnnealingA': 5.69759988198636, 'kAnnealingB': 0.32887408065703816, 'kAnnealingStart': 26.50771726887575, 'kSkipRatio': 0.4719784611754914, 'kTargetDeterminationTrials': 16, 'kAttractionRatio': 0.5023486781962991, 'kMaxAttractionDistance': 11, 'kStartAttraction': 0.008382339540700463}. Best is trial 98 with value: 8567.484978540773.\u001b[0m\n"
     ]
    },
    {
     "name": "stdout",
     "output_type": "stream",
     "text": [
      "index_parallel='0177'\n"
     ]
    },
    {
     "name": "stderr",
     "output_type": "stream",
     "text": [
      "\u001b[32m[I 2022-08-16 07:48:24,240]\u001b[0m Trial 177 finished with value: 8264.034334763948 and parameters: {'kErase': 2, 'kRadius': 3, 'kAnnealingA': -1.0632741177999618, 'kAnnealingB': 0.2823314520995143, 'kAnnealingStart': 63.46309570680812, 'kSkipRatio': 0.4419305662490525, 'kTargetDeterminationTrials': 15, 'kAttractionRatio': 0.4180374740207729, 'kMaxAttractionDistance': 13, 'kStartAttraction': 0.006773917238653401}. Best is trial 98 with value: 8567.484978540773.\u001b[0m\n"
     ]
    },
    {
     "name": "stdout",
     "output_type": "stream",
     "text": [
      "index_parallel='0179'\n"
     ]
    },
    {
     "name": "stderr",
     "output_type": "stream",
     "text": [
      "\u001b[32m[I 2022-08-16 07:52:49,043]\u001b[0m Trial 179 finished with value: 8577.708154506437 and parameters: {'kErase': 2, 'kRadius': 3, 'kAnnealingA': 6.4300135078638565, 'kAnnealingB': 1.4711129958801308, 'kAnnealingStart': 33.13525244323596, 'kSkipRatio': 0.6111556055954925, 'kTargetDeterminationTrials': 18, 'kAttractionRatio': 0.43652812105868405, 'kMaxAttractionDistance': 15, 'kStartAttraction': 0.005725174187619187}. Best is trial 179 with value: 8577.708154506437.\u001b[0m\n"
     ]
    },
    {
     "name": "stdout",
     "output_type": "stream",
     "text": [
      "Updated! 8577.708154506437\n",
      "index_parallel='0181'\n"
     ]
    },
    {
     "name": "stderr",
     "output_type": "stream",
     "text": [
      "\u001b[32m[I 2022-08-16 07:57:14,678]\u001b[0m Trial 181 finished with value: 7592.8583690987125 and parameters: {'kErase': 2, 'kRadius': 3, 'kAnnealingA': 3.9012708491050985, 'kAnnealingB': 1.1750971710970257, 'kAnnealingStart': 32.655334273614166, 'kSkipRatio': 0.6097115062045644, 'kTargetDeterminationTrials': 18, 'kAttractionRatio': 0.8010575936589855, 'kMaxAttractionDistance': 59, 'kStartAttraction': 0.011442802003354013}. Best is trial 179 with value: 8577.708154506437.\u001b[0m\n"
     ]
    },
    {
     "name": "stdout",
     "output_type": "stream",
     "text": [
      "index_parallel='0183'\n"
     ]
    },
    {
     "name": "stderr",
     "output_type": "stream",
     "text": [
      "\u001b[32m[I 2022-08-16 08:01:39,928]\u001b[0m Trial 183 finished with value: 8400.45922746781 and parameters: {'kErase': 2, 'kRadius': 3, 'kAnnealingA': 6.291245085287242, 'kAnnealingB': 1.4114227628945635, 'kAnnealingStart': 38.80230049588897, 'kSkipRatio': 0.6329580171384891, 'kTargetDeterminationTrials': 17, 'kAttractionRatio': 0.38473068457631737, 'kMaxAttractionDistance': 10, 'kStartAttraction': 0.007269358703597188}. Best is trial 179 with value: 8577.708154506437.\u001b[0m\n"
     ]
    },
    {
     "name": "stdout",
     "output_type": "stream",
     "text": [
      "index_parallel='0185'\n"
     ]
    },
    {
     "name": "stderr",
     "output_type": "stream",
     "text": [
      "\u001b[32m[I 2022-08-16 08:06:04,523]\u001b[0m Trial 185 finished with value: 8620.489270386266 and parameters: {'kErase': 2, 'kRadius': 3, 'kAnnealingA': 9.869878450186258, 'kAnnealingB': 1.271201664578565, 'kAnnealingStart': 36.4455977801112, 'kSkipRatio': 0.6232497726465488, 'kTargetDeterminationTrials': 13, 'kAttractionRatio': 0.46728161720753925, 'kMaxAttractionDistance': 15, 'kStartAttraction': 0.005453160502932086}. Best is trial 185 with value: 8620.489270386266.\u001b[0m\n"
     ]
    },
    {
     "name": "stdout",
     "output_type": "stream",
     "text": [
      "Updated! 8620.489270386266\n",
      "index_parallel='0187'\n"
     ]
    },
    {
     "name": "stderr",
     "output_type": "stream",
     "text": [
      "\u001b[32m[I 2022-08-16 08:10:29,343]\u001b[0m Trial 187 finished with value: 8209.004291845493 and parameters: {'kErase': 2, 'kRadius': 3, 'kAnnealingA': 9.917882868276486, 'kAnnealingB': 1.6793156213584468, 'kAnnealingStart': 45.6867728024732, 'kSkipRatio': 0.6071762912055462, 'kTargetDeterminationTrials': 13, 'kAttractionRatio': 0.451790933199254, 'kMaxAttractionDistance': 15, 'kStartAttraction': 0.0044054019842119626}. Best is trial 185 with value: 8620.489270386266.\u001b[0m\n"
     ]
    },
    {
     "name": "stdout",
     "output_type": "stream",
     "text": [
      "index_parallel='0190'\n"
     ]
    },
    {
     "name": "stderr",
     "output_type": "stream",
     "text": [
      "\u001b[32m[I 2022-08-16 08:14:54,245]\u001b[0m Trial 190 finished with value: 8383.965665236052 and parameters: {'kErase': 2, 'kRadius': 3, 'kAnnealingA': 11.641730213632162, 'kAnnealingB': 1.101287481035595, 'kAnnealingStart': 28.92552905937705, 'kSkipRatio': 0.34528205876632867, 'kTargetDeterminationTrials': 14, 'kAttractionRatio': 0.5382893220798228, 'kMaxAttractionDistance': 14, 'kStartAttraction': 0.005754125441835158}. Best is trial 185 with value: 8620.489270386266.\u001b[0m\n"
     ]
    },
    {
     "name": "stdout",
     "output_type": "stream",
     "text": [
      "index_parallel='0192'\n"
     ]
    },
    {
     "name": "stderr",
     "output_type": "stream",
     "text": [
      "\u001b[32m[I 2022-08-16 08:19:20,481]\u001b[0m Trial 192 finished with value: 8571.532188841202 and parameters: {'kErase': 2, 'kRadius': 3, 'kAnnealingA': 9.14229933002156, 'kAnnealingB': 1.5312662883548749, 'kAnnealingStart': 35.76116664334777, 'kSkipRatio': 0.6251444075086595, 'kTargetDeterminationTrials': 12, 'kAttractionRatio': 0.4174291714969065, 'kMaxAttractionDistance': 13, 'kStartAttraction': 0.007400170355607625}. Best is trial 185 with value: 8620.489270386266.\u001b[0m\n"
     ]
    },
    {
     "name": "stdout",
     "output_type": "stream",
     "text": [
      "index_parallel='0194'\n"
     ]
    },
    {
     "name": "stderr",
     "output_type": "stream",
     "text": [
      "\u001b[32m[I 2022-08-16 08:23:45,252]\u001b[0m Trial 194 finished with value: 8542.93991416309 and parameters: {'kErase': 2, 'kRadius': 3, 'kAnnealingA': 8.900279765428142, 'kAnnealingB': 1.4583449421364638, 'kAnnealingStart': 32.097825180389705, 'kSkipRatio': 0.598826154994874, 'kTargetDeterminationTrials': 12, 'kAttractionRatio': 0.4262194129429383, 'kMaxAttractionDistance': 14, 'kStartAttraction': 0.006879478902153363}. Best is trial 185 with value: 8620.489270386266.\u001b[0m\n"
     ]
    },
    {
     "name": "stdout",
     "output_type": "stream",
     "text": [
      "index_parallel='0196'\n"
     ]
    },
    {
     "name": "stderr",
     "output_type": "stream",
     "text": [
      "\u001b[32m[I 2022-08-16 08:28:10,242]\u001b[0m Trial 196 finished with value: 8412.519313304721 and parameters: {'kErase': 2, 'kRadius': 3, 'kAnnealingA': 10.449207494738548, 'kAnnealingB': 1.474609998736491, 'kAnnealingStart': 31.560943462906913, 'kSkipRatio': 0.6238427629155378, 'kTargetDeterminationTrials': 20, 'kAttractionRatio': 0.4935294104469835, 'kMaxAttractionDistance': 14, 'kStartAttraction': 0.00885955664283591}. Best is trial 185 with value: 8620.489270386266.\u001b[0m\n"
     ]
    },
    {
     "name": "stdout",
     "output_type": "stream",
     "text": [
      "index_parallel='0198'\n"
     ]
    },
    {
     "name": "stderr",
     "output_type": "stream",
     "text": [
      "\u001b[32m[I 2022-08-16 08:32:35,235]\u001b[0m Trial 198 finished with value: 8486.343347639486 and parameters: {'kErase': 2, 'kRadius': 3, 'kAnnealingA': 8.986077956672782, 'kAnnealingB': 1.5874522660713042, 'kAnnealingStart': 29.53249056189436, 'kSkipRatio': 0.5968916997879625, 'kTargetDeterminationTrials': 12, 'kAttractionRatio': 0.4442828837343813, 'kMaxAttractionDistance': 14, 'kStartAttraction': 0.009924300152966347}. Best is trial 185 with value: 8620.489270386266.\u001b[0m\n"
     ]
    },
    {
     "name": "stdout",
     "output_type": "stream",
     "text": [
      "index_parallel='0200'\n"
     ]
    },
    {
     "name": "stderr",
     "output_type": "stream",
     "text": [
      "\u001b[32m[I 2022-08-16 08:36:59,949]\u001b[0m Trial 200 finished with value: 8340.399141630902 and parameters: {'kErase': 2, 'kRadius': 3, 'kAnnealingA': 9.058423698876396, 'kAnnealingB': 1.594133590086014, 'kAnnealingStart': 24.825131218596496, 'kSkipRatio': 0.588184789196881, 'kTargetDeterminationTrials': 11, 'kAttractionRatio': 0.4268941076319517, 'kMaxAttractionDistance': 13, 'kStartAttraction': 0.009868741053791248}. Best is trial 185 with value: 8620.489270386266.\u001b[0m\n"
     ]
    },
    {
     "name": "stdout",
     "output_type": "stream",
     "text": [
      "index_parallel='0202'\n"
     ]
    },
    {
     "name": "stderr",
     "output_type": "stream",
     "text": [
      "\u001b[32m[I 2022-08-16 08:41:24,714]\u001b[0m Trial 202 finished with value: 8592.24034334764 and parameters: {'kErase': 2, 'kRadius': 3, 'kAnnealingA': 8.76079495949105, 'kAnnealingB': 1.6016400922045455, 'kAnnealingStart': 34.399034611233816, 'kSkipRatio': 0.610277366112638, 'kTargetDeterminationTrials': 10, 'kAttractionRatio': 0.44872125227319765, 'kMaxAttractionDistance': 15, 'kStartAttraction': 0.006615372336109791}. Best is trial 185 with value: 8620.489270386266.\u001b[0m\n"
     ]
    },
    {
     "name": "stdout",
     "output_type": "stream",
     "text": [
      "index_parallel='0204'\n"
     ]
    },
    {
     "name": "stderr",
     "output_type": "stream",
     "text": [
      "\u001b[32m[I 2022-08-16 08:45:49,302]\u001b[0m Trial 204 finished with value: 8403.098712446352 and parameters: {'kErase': 2, 'kRadius': 3, 'kAnnealingA': 8.929694880043833, 'kAnnealingB': 1.7430376364813343, 'kAnnealingStart': 29.180151419807768, 'kSkipRatio': 0.6138406965790879, 'kTargetDeterminationTrials': 11, 'kAttractionRatio': 0.4526215797769888, 'kMaxAttractionDistance': 22, 'kStartAttraction': 0.006358728289952891}. Best is trial 185 with value: 8620.489270386266.\u001b[0m\n"
     ]
    },
    {
     "name": "stdout",
     "output_type": "stream",
     "text": [
      "index_parallel='0206'\n"
     ]
    },
    {
     "name": "stderr",
     "output_type": "stream",
     "text": [
      "\u001b[32m[I 2022-08-16 08:50:14,308]\u001b[0m Trial 206 finished with value: 7800.218884120171 and parameters: {'kErase': 2, 'kRadius': 3, 'kAnnealingA': 7.983471634562948, 'kAnnealingB': 1.3570646874719348, 'kAnnealingStart': 1.7246332926970578, 'kSkipRatio': 0.5986105688631111, 'kTargetDeterminationTrials': 12, 'kAttractionRatio': 0.4061224170267582, 'kMaxAttractionDistance': 15, 'kStartAttraction': 0.007227147564601963}. Best is trial 185 with value: 8620.489270386266.\u001b[0m\n"
     ]
    },
    {
     "name": "stdout",
     "output_type": "stream",
     "text": [
      "index_parallel='0208'\n"
     ]
    },
    {
     "name": "stderr",
     "output_type": "stream",
     "text": [
      "\u001b[32m[I 2022-08-16 08:54:39,771]\u001b[0m Trial 208 finished with value: 8508.708154506437 and parameters: {'kErase': 2, 'kRadius': 3, 'kAnnealingA': 8.937476774302649, 'kAnnealingB': 1.8023355668460443, 'kAnnealingStart': 31.797668627298165, 'kSkipRatio': 0.630771209342876, 'kTargetDeterminationTrials': 9, 'kAttractionRatio': 0.4921468179067647, 'kMaxAttractionDistance': 16, 'kStartAttraction': 0.00647274188795035}. Best is trial 185 with value: 8620.489270386266.\u001b[0m\n"
     ]
    },
    {
     "name": "stdout",
     "output_type": "stream",
     "text": [
      "index_parallel='0210'\n"
     ]
    },
    {
     "name": "stderr",
     "output_type": "stream",
     "text": [
      "\u001b[32m[I 2022-08-16 08:59:04,918]\u001b[0m Trial 210 finished with value: 8525.394849785407 and parameters: {'kErase': 2, 'kRadius': 3, 'kAnnealingA': 8.896987422554723, 'kAnnealingB': 1.6016401946869887, 'kAnnealingStart': 31.80933680480535, 'kSkipRatio': 0.6265495952599583, 'kTargetDeterminationTrials': 10, 'kAttractionRatio': 0.5133824847394798, 'kMaxAttractionDistance': 16, 'kStartAttraction': 0.006180614272458469}. Best is trial 185 with value: 8620.489270386266.\u001b[0m\n"
     ]
    },
    {
     "name": "stdout",
     "output_type": "stream",
     "text": [
      "index_parallel='0212'\n"
     ]
    },
    {
     "name": "stderr",
     "output_type": "stream",
     "text": [
      "\u001b[32m[I 2022-08-16 09:03:29,910]\u001b[0m Trial 212 finished with value: 8473.347639484979 and parameters: {'kErase': 2, 'kRadius': 3, 'kAnnealingA': 8.725788262327733, 'kAnnealingB': 1.816952634425663, 'kAnnealingStart': 31.336485634771975, 'kSkipRatio': 0.622622329910386, 'kTargetDeterminationTrials': 9, 'kAttractionRatio': 0.5028504923883556, 'kMaxAttractionDistance': 16, 'kStartAttraction': 0.006214527272555305}. Best is trial 185 with value: 8620.489270386266.\u001b[0m\n"
     ]
    },
    {
     "name": "stdout",
     "output_type": "stream",
     "text": [
      "index_parallel='0214'\n"
     ]
    },
    {
     "name": "stderr",
     "output_type": "stream",
     "text": [
      "\u001b[32m[I 2022-08-16 09:07:54,879]\u001b[0m Trial 214 finished with value: 8415.0 and parameters: {'kErase': 2, 'kRadius': 3, 'kAnnealingA': 7.920169074212701, 'kAnnealingB': 1.7366611803416132, 'kAnnealingStart': 33.55063200564199, 'kSkipRatio': 0.628042171333541, 'kTargetDeterminationTrials': 10, 'kAttractionRatio': 0.5091174898584439, 'kMaxAttractionDistance': 18, 'kStartAttraction': 0.005412579851685292}. Best is trial 185 with value: 8620.489270386266.\u001b[0m\n"
     ]
    },
    {
     "name": "stdout",
     "output_type": "stream",
     "text": [
      "index_parallel='0216'\n"
     ]
    },
    {
     "name": "stderr",
     "output_type": "stream",
     "text": [
      "\u001b[32m[I 2022-08-16 09:12:19,724]\u001b[0m Trial 216 finished with value: 8385.755364806866 and parameters: {'kErase': 2, 'kRadius': 3, 'kAnnealingA': 8.503489695354085, 'kAnnealingB': 1.5528858697052768, 'kAnnealingStart': 28.62055875278458, 'kSkipRatio': 0.6125508389871581, 'kTargetDeterminationTrials': 9, 'kAttractionRatio': 0.5281172134702834, 'kMaxAttractionDistance': 16, 'kStartAttraction': 0.006451221717933377}. Best is trial 185 with value: 8620.489270386266.\u001b[0m\n"
     ]
    },
    {
     "name": "stdout",
     "output_type": "stream",
     "text": [
      "index_parallel='0218'\n"
     ]
    },
    {
     "name": "stderr",
     "output_type": "stream",
     "text": [
      "\u001b[32m[I 2022-08-16 09:16:44,631]\u001b[0m Trial 218 finished with value: 8561.785407725321 and parameters: {'kErase': 2, 'kRadius': 3, 'kAnnealingA': 9.887003686459026, 'kAnnealingB': 1.8806423002924326, 'kAnnealingStart': 31.481387274705718, 'kSkipRatio': 0.5815824595712529, 'kTargetDeterminationTrials': 9, 'kAttractionRatio': 0.47190201805838383, 'kMaxAttractionDistance': 17, 'kStartAttraction': 0.005746424360737358}. Best is trial 185 with value: 8620.489270386266.\u001b[0m\n"
     ]
    },
    {
     "name": "stdout",
     "output_type": "stream",
     "text": [
      "index_parallel='0220'\n"
     ]
    },
    {
     "name": "stderr",
     "output_type": "stream",
     "text": [
      "\u001b[32m[I 2022-08-16 09:21:09,829]\u001b[0m Trial 220 finished with value: 8412.463519313305 and parameters: {'kErase': 2, 'kRadius': 3, 'kAnnealingA': 9.756817533662602, 'kAnnealingB': 1.925770014374634, 'kAnnealingStart': 27.17416448115937, 'kSkipRatio': 0.592368152630243, 'kTargetDeterminationTrials': 9, 'kAttractionRatio': 0.4770728237967409, 'kMaxAttractionDistance': 18, 'kStartAttraction': 0.0055688829492286625}. Best is trial 185 with value: 8620.489270386266.\u001b[0m\n"
     ]
    },
    {
     "name": "stdout",
     "output_type": "stream",
     "text": [
      "index_parallel='0222'\n"
     ]
    },
    {
     "name": "stderr",
     "output_type": "stream",
     "text": [
      "\u001b[32m[I 2022-08-16 09:25:34,680]\u001b[0m Trial 222 finished with value: 8428.042918454936 and parameters: {'kErase': 2, 'kRadius': 3, 'kAnnealingA': 9.240911659847837, 'kAnnealingB': 2.081136684038535, 'kAnnealingStart': 31.781940582492762, 'kSkipRatio': 0.5781385799161591, 'kTargetDeterminationTrials': 10, 'kAttractionRatio': 0.48106240669872774, 'kMaxAttractionDistance': 15, 'kStartAttraction': 0.006927856736812181}. Best is trial 185 with value: 8620.489270386266.\u001b[0m\n"
     ]
    },
    {
     "name": "stdout",
     "output_type": "stream",
     "text": [
      "index_parallel='0224'\n"
     ]
    },
    {
     "name": "stderr",
     "output_type": "stream",
     "text": [
      "\u001b[32m[I 2022-08-16 09:29:59,779]\u001b[0m Trial 224 finished with value: 8515.051502145923 and parameters: {'kErase': 2, 'kRadius': 3, 'kAnnealingA': 8.945915800232164, 'kAnnealingB': 1.872319715568513, 'kAnnealingStart': 30.72213970938928, 'kSkipRatio': 0.565466928595772, 'kTargetDeterminationTrials': 11, 'kAttractionRatio': 0.42885014554207723, 'kMaxAttractionDistance': 17, 'kStartAttraction': 0.006172850775798916}. Best is trial 185 with value: 8620.489270386266.\u001b[0m\n"
     ]
    },
    {
     "name": "stdout",
     "output_type": "stream",
     "text": [
      "index_parallel='0226'\n"
     ]
    },
    {
     "name": "stderr",
     "output_type": "stream",
     "text": [
      "\u001b[32m[I 2022-08-16 09:34:24,469]\u001b[0m Trial 226 finished with value: 8486.798283261802 and parameters: {'kErase': 2, 'kRadius': 3, 'kAnnealingA': 9.100061919217177, 'kAnnealingB': 1.8484934374363413, 'kAnnealingStart': 29.993428109057593, 'kSkipRatio': 0.5696588788413149, 'kTargetDeterminationTrials': 8, 'kAttractionRatio': 0.40804501398324655, 'kMaxAttractionDistance': 17, 'kStartAttraction': 0.006768331728850037}. Best is trial 185 with value: 8620.489270386266.\u001b[0m\n"
     ]
    },
    {
     "name": "stdout",
     "output_type": "stream",
     "text": [
      "index_parallel='0228'\n"
     ]
    },
    {
     "name": "stderr",
     "output_type": "stream",
     "text": [
      "\u001b[32m[I 2022-08-16 09:38:49,229]\u001b[0m Trial 228 finished with value: 8100.188841201717 and parameters: {'kErase': 2, 'kRadius': 3, 'kAnnealingA': 11.00782243732493, 'kAnnealingB': 1.8738013495184633, 'kAnnealingStart': 40.67933703250939, 'kSkipRatio': 0.555786090465006, 'kTargetDeterminationTrials': 11, 'kAttractionRatio': 0.4074592700410627, 'kMaxAttractionDistance': 18, 'kStartAttraction': 0.00419316357748825}. Best is trial 185 with value: 8620.489270386266.\u001b[0m\n"
     ]
    },
    {
     "name": "stdout",
     "output_type": "stream",
     "text": [
      "index_parallel='0230'\n"
     ]
    },
    {
     "name": "stderr",
     "output_type": "stream",
     "text": [
      "\u001b[32m[I 2022-08-16 09:43:14,345]\u001b[0m Trial 230 finished with value: 8496.725321888413 and parameters: {'kErase': 2, 'kRadius': 3, 'kAnnealingA': 8.394645580551705, 'kAnnealingB': 1.6405379437549648, 'kAnnealingStart': 34.692647089796644, 'kSkipRatio': 0.5901090196943688, 'kTargetDeterminationTrials': 10, 'kAttractionRatio': 0.43508996762623225, 'kMaxAttractionDistance': 15, 'kStartAttraction': 0.005720958200216133}. Best is trial 185 with value: 8620.489270386266.\u001b[0m\n"
     ]
    },
    {
     "name": "stdout",
     "output_type": "stream",
     "text": [
      "index_parallel='0232'\n"
     ]
    },
    {
     "name": "stderr",
     "output_type": "stream",
     "text": [
      "\u001b[32m[I 2022-08-16 09:47:39,397]\u001b[0m Trial 232 finished with value: 8315.244635193134 and parameters: {'kErase': 2, 'kRadius': 3, 'kAnnealingA': 9.064824248467701, 'kAnnealingB': 1.7894137251275788, 'kAnnealingStart': 33.41864835203002, 'kSkipRatio': 0.6363543257574734, 'kTargetDeterminationTrials': 9, 'kAttractionRatio': 0.33772929237138766, 'kMaxAttractionDistance': 17, 'kStartAttraction': 0.0068785721464680784}. Best is trial 185 with value: 8620.489270386266.\u001b[0m\n"
     ]
    },
    {
     "name": "stdout",
     "output_type": "stream",
     "text": [
      "index_parallel='0234'\n"
     ]
    },
    {
     "name": "stderr",
     "output_type": "stream",
     "text": [
      "\u001b[32m[I 2022-08-16 09:52:04,199]\u001b[0m Trial 234 finished with value: 8461.708154506437 and parameters: {'kErase': 2, 'kRadius': 3, 'kAnnealingA': 7.950730386901503, 'kAnnealingB': 1.9691560351281499, 'kAnnealingStart': 36.05435924507661, 'kSkipRatio': 0.6051947217047718, 'kTargetDeterminationTrials': 8, 'kAttractionRatio': 0.3743161668462433, 'kMaxAttractionDistance': 15, 'kStartAttraction': 0.0073817740302125606}. Best is trial 185 with value: 8620.489270386266.\u001b[0m\n"
     ]
    },
    {
     "name": "stdout",
     "output_type": "stream",
     "text": [
      "index_parallel='0236'\n"
     ]
    },
    {
     "name": "stderr",
     "output_type": "stream",
     "text": [
      "\u001b[32m[I 2022-08-16 09:56:29,154]\u001b[0m Trial 236 finished with value: 6227.738197424893 and parameters: {'kErase': 2, 'kRadius': 3, 'kAnnealingA': 10.086195282786813, 'kAnnealingB': 1.4740488504856193, 'kAnnealingStart': 27.716565194864163, 'kSkipRatio': 0.5770623773947782, 'kTargetDeterminationTrials': 10, 'kAttractionRatio': 0.39390270142941514, 'kMaxAttractionDistance': 4, 'kStartAttraction': 0.0046630287416751185}. Best is trial 185 with value: 8620.489270386266.\u001b[0m\n"
     ]
    },
    {
     "name": "stdout",
     "output_type": "stream",
     "text": [
      "index_parallel='0238'\n"
     ]
    },
    {
     "name": "stderr",
     "output_type": "stream",
     "text": [
      "\u001b[32m[I 2022-08-16 10:00:53,941]\u001b[0m Trial 238 finished with value: 5715.540772532189 and parameters: {'kErase': 2, 'kRadius': 3, 'kAnnealingA': 8.467578140825344, 'kAnnealingB': 1.7643677875644537, 'kAnnealingStart': 30.24165147925613, 'kSkipRatio': 0.5985170022808664, 'kTargetDeterminationTrials': 11, 'kAttractionRatio': 0.03059941351353707, 'kMaxAttractionDistance': 17, 'kStartAttraction': 0.006017282509253827}. Best is trial 185 with value: 8620.489270386266.\u001b[0m\n"
     ]
    },
    {
     "name": "stdout",
     "output_type": "stream",
     "text": [
      "index_parallel='0240'\n"
     ]
    },
    {
     "name": "stderr",
     "output_type": "stream",
     "text": [
      "\u001b[32m[I 2022-08-16 10:05:18,662]\u001b[0m Trial 240 finished with value: 8601.480686695279 and parameters: {'kErase': 2, 'kRadius': 3, 'kAnnealingA': 9.566270174343689, 'kAnnealingB': 1.684571205883245, 'kAnnealingStart': 38.02980237721201, 'kSkipRatio': 0.6136754158637439, 'kTargetDeterminationTrials': 11, 'kAttractionRatio': 0.44886082104783676, 'kMaxAttractionDistance': 16, 'kStartAttraction': 0.006504243932419839}. Best is trial 185 with value: 8620.489270386266.\u001b[0m\n"
     ]
    },
    {
     "name": "stdout",
     "output_type": "stream",
     "text": [
      "index_parallel='0242'\n"
     ]
    },
    {
     "name": "stderr",
     "output_type": "stream",
     "text": [
      "\u001b[32m[I 2022-08-16 10:09:43,569]\u001b[0m Trial 242 finished with value: 8512.69957081545 and parameters: {'kErase': 2, 'kRadius': 3, 'kAnnealingA': 10.559483776346566, 'kAnnealingB': 1.8438081401572797, 'kAnnealingStart': 38.15977480771183, 'kSkipRatio': 0.631742777383536, 'kTargetDeterminationTrials': 10, 'kAttractionRatio': 0.4502045399288254, 'kMaxAttractionDistance': 15, 'kStartAttraction': 0.007457320725938814}. Best is trial 185 with value: 8620.489270386266.\u001b[0m\n"
     ]
    },
    {
     "name": "stdout",
     "output_type": "stream",
     "text": [
      "index_parallel='0244'\n"
     ]
    },
    {
     "name": "stderr",
     "output_type": "stream",
     "text": [
      "\u001b[32m[I 2022-08-16 10:14:08,937]\u001b[0m Trial 244 finished with value: 8276.004291845493 and parameters: {'kErase': 2, 'kRadius': 3, 'kAnnealingA': 10.54399613791173, 'kAnnealingB': 1.915783717401805, 'kAnnealingStart': 42.816763940714004, 'kSkipRatio': 0.6129402982376966, 'kTargetDeterminationTrials': 9, 'kAttractionRatio': 0.45163235757621256, 'kMaxAttractionDistance': 15, 'kStartAttraction': 0.007421015846557819}. Best is trial 185 with value: 8620.489270386266.\u001b[0m\n"
     ]
    },
    {
     "name": "stdout",
     "output_type": "stream",
     "text": [
      "index_parallel='0246'\n"
     ]
    },
    {
     "name": "stderr",
     "output_type": "stream",
     "text": [
      "\u001b[32m[I 2022-08-16 10:18:34,033]\u001b[0m Trial 246 finished with value: 8565.442060085838 and parameters: {'kErase': 2, 'kRadius': 3, 'kAnnealingA': 9.885986071828126, 'kAnnealingB': 1.705829656364074, 'kAnnealingStart': 36.710163501960096, 'kSkipRatio': 0.6340083805982584, 'kTargetDeterminationTrials': 11, 'kAttractionRatio': 0.41599622854848295, 'kMaxAttractionDistance': 14, 'kStartAttraction': 0.005353067787591377}. Best is trial 185 with value: 8620.489270386266.\u001b[0m\n"
     ]
    },
    {
     "name": "stdout",
     "output_type": "stream",
     "text": [
      "index_parallel='0248'\n"
     ]
    },
    {
     "name": "stderr",
     "output_type": "stream",
     "text": [
      "\u001b[32m[I 2022-08-16 10:22:59,110]\u001b[0m Trial 248 finished with value: 8557.40772532189 and parameters: {'kErase': 2, 'kRadius': 3, 'kAnnealingA': 9.289487425232059, 'kAnnealingB': 1.7797666536889838, 'kAnnealingStart': 34.09137223045629, 'kSkipRatio': 0.6528793085236247, 'kTargetDeterminationTrials': 10, 'kAttractionRatio': 0.3995683818318792, 'kMaxAttractionDistance': 14, 'kStartAttraction': 0.00513027746523212}. Best is trial 185 with value: 8620.489270386266.\u001b[0m\n"
     ]
    },
    {
     "name": "stdout",
     "output_type": "stream",
     "text": [
      "index_parallel='0250'\n"
     ]
    },
    {
     "name": "stderr",
     "output_type": "stream",
     "text": [
      "\u001b[32m[I 2022-08-16 10:27:24,267]\u001b[0m Trial 250 finished with value: 8513.12017167382 and parameters: {'kErase': 2, 'kRadius': 3, 'kAnnealingA': 9.040946580237538, 'kAnnealingB': 1.5142380453992443, 'kAnnealingStart': 33.385967536568586, 'kSkipRatio': 0.6473764419584493, 'kTargetDeterminationTrials': 11, 'kAttractionRatio': 0.3574882181006688, 'kMaxAttractionDistance': 14, 'kStartAttraction': 0.004068376650188219}. Best is trial 185 with value: 8620.489270386266.\u001b[0m\n"
     ]
    },
    {
     "name": "stdout",
     "output_type": "stream",
     "text": [
      "index_parallel='0252'\n"
     ]
    },
    {
     "name": "stderr",
     "output_type": "stream",
     "text": [
      "\u001b[32m[I 2022-08-16 10:31:49,516]\u001b[0m Trial 252 finished with value: 8401.68669527897 and parameters: {'kErase': 2, 'kRadius': 3, 'kAnnealingA': 9.464911674771487, 'kAnnealingB': 1.6483776871132183, 'kAnnealingStart': 35.15810509917848, 'kSkipRatio': 0.6474018185981973, 'kTargetDeterminationTrials': 10, 'kAttractionRatio': 0.3788706209710628, 'kMaxAttractionDistance': 14, 'kStartAttraction': 0.005049983789669009}. Best is trial 185 with value: 8620.489270386266.\u001b[0m\n"
     ]
    },
    {
     "name": "stdout",
     "output_type": "stream",
     "text": [
      "index_parallel='0254'\n"
     ]
    },
    {
     "name": "stderr",
     "output_type": "stream",
     "text": [
      "\u001b[32m[I 2022-08-16 10:36:14,641]\u001b[0m Trial 254 finished with value: 8422.849785407725 and parameters: {'kErase': 2, 'kRadius': 3, 'kAnnealingA': 10.07583379529403, 'kAnnealingB': 1.5476781233507164, 'kAnnealingStart': 36.35874233679145, 'kSkipRatio': 0.6721516726123801, 'kTargetDeterminationTrials': 9, 'kAttractionRatio': 0.3119515830199386, 'kMaxAttractionDistance': 14, 'kStartAttraction': 0.003679981187327464}. Best is trial 185 with value: 8620.489270386266.\u001b[0m\n"
     ]
    },
    {
     "name": "stdout",
     "output_type": "stream",
     "text": [
      "index_parallel='0256'\n"
     ]
    },
    {
     "name": "stderr",
     "output_type": "stream",
     "text": [
      "\u001b[32m[I 2022-08-16 10:40:39,534]\u001b[0m Trial 256 finished with value: 8445.738197424893 and parameters: {'kErase': 2, 'kRadius': 3, 'kAnnealingA': 8.21566335878294, 'kAnnealingB': 1.5787876211934802, 'kAnnealingStart': 32.33613226517967, 'kSkipRatio': 0.6549656718745339, 'kTargetDeterminationTrials': 10, 'kAttractionRatio': 0.5442788053542158, 'kMaxAttractionDistance': 14, 'kStartAttraction': 0.004693315505522394}. Best is trial 185 with value: 8620.489270386266.\u001b[0m\n"
     ]
    },
    {
     "name": "stdout",
     "output_type": "stream",
     "text": [
      "index_parallel='0258'\n"
     ]
    },
    {
     "name": "stderr",
     "output_type": "stream",
     "text": [
      "\u001b[32m[I 2022-08-16 10:45:05,802]\u001b[0m Trial 258 finished with value: 8497.476394849786 and parameters: {'kErase': 2, 'kRadius': 3, 'kAnnealingA': 11.156733877286607, 'kAnnealingB': 1.6112065151857597, 'kAnnealingStart': 39.92322258047709, 'kSkipRatio': 0.6568713160893868, 'kTargetDeterminationTrials': 12, 'kAttractionRatio': 0.5755022198040605, 'kMaxAttractionDistance': 13, 'kStartAttraction': 0.005181265327676118}. Best is trial 185 with value: 8620.489270386266.\u001b[0m\n"
     ]
    },
    {
     "name": "stdout",
     "output_type": "stream",
     "text": [
      "index_parallel='0260'\n"
     ]
    },
    {
     "name": "stderr",
     "output_type": "stream",
     "text": [
      "\u001b[32m[I 2022-08-16 10:49:30,778]\u001b[0m Trial 260 finished with value: 7662.618025751073 and parameters: {'kErase': 2, 'kRadius': 3, 'kAnnealingA': -14.97288762997333, 'kAnnealingB': 1.517882988040011, 'kAnnealingStart': 33.78249089223011, 'kSkipRatio': 0.6437443778054545, 'kTargetDeterminationTrials': 11, 'kAttractionRatio': 0.3987694977677424, 'kMaxAttractionDistance': 13, 'kStartAttraction': 0.005423310256516582}. Best is trial 185 with value: 8620.489270386266.\u001b[0m\n"
     ]
    },
    {
     "name": "stdout",
     "output_type": "stream",
     "text": [
      "index_parallel='0262'\n"
     ]
    },
    {
     "name": "stderr",
     "output_type": "stream",
     "text": [
      "\u001b[32m[I 2022-08-16 10:53:55,762]\u001b[0m Trial 262 finished with value: 8286.463519313305 and parameters: {'kErase': 2, 'kRadius': 3, 'kAnnealingA': 7.547100949037438, 'kAnnealingB': 1.663092879323306, 'kAnnealingStart': 45.78626351434513, 'kSkipRatio': 0.6871280065635128, 'kTargetDeterminationTrials': 10, 'kAttractionRatio': 0.4334766288449518, 'kMaxAttractionDistance': 16, 'kStartAttraction': 0.0034599265314375132}. Best is trial 185 with value: 8620.489270386266.\u001b[0m\n"
     ]
    },
    {
     "name": "stdout",
     "output_type": "stream",
     "text": [
      "index_parallel='0264'\n"
     ]
    },
    {
     "name": "stderr",
     "output_type": "stream",
     "text": [
      "\u001b[32m[I 2022-08-16 10:58:20,821]\u001b[0m Trial 264 finished with value: 8440.42060085837 and parameters: {'kErase': 2, 'kRadius': 3, 'kAnnealingA': 9.176074340818108, 'kAnnealingB': 1.4340360081800092, 'kAnnealingStart': 36.42158200166497, 'kSkipRatio': 0.632370880388176, 'kTargetDeterminationTrials': 10, 'kAttractionRatio': 0.32527600027864806, 'kMaxAttractionDistance': 14, 'kStartAttraction': 0.0056869104702354754}. Best is trial 185 with value: 8620.489270386266.\u001b[0m\n"
     ]
    },
    {
     "name": "stdout",
     "output_type": "stream",
     "text": [
      "index_parallel='0266'\n"
     ]
    },
    {
     "name": "stderr",
     "output_type": "stream",
     "text": [
      "\u001b[32m[I 2022-08-16 11:02:45,869]\u001b[0m Trial 266 finished with value: 8405.532188841202 and parameters: {'kErase': 2, 'kRadius': 3, 'kAnnealingA': 8.728704569591798, 'kAnnealingB': 1.7224539395019718, 'kAnnealingStart': 29.423299810018893, 'kSkipRatio': 0.6039363798888197, 'kTargetDeterminationTrials': 12, 'kAttractionRatio': 0.47424975454478197, 'kMaxAttractionDistance': 14, 'kStartAttraction': 0.004446029223398579}. Best is trial 185 with value: 8620.489270386266.\u001b[0m\n"
     ]
    },
    {
     "name": "stdout",
     "output_type": "stream",
     "text": [
      "index_parallel='0268'\n"
     ]
    },
    {
     "name": "stderr",
     "output_type": "stream",
     "text": [
      "\u001b[32m[I 2022-08-16 11:07:10,805]\u001b[0m Trial 268 finished with value: 8531.394849785407 and parameters: {'kErase': 2, 'kRadius': 3, 'kAnnealingA': 10.550677936733136, 'kAnnealingB': 1.6127447079811321, 'kAnnealingStart': 33.30307236632991, 'kSkipRatio': 0.6176051469862607, 'kTargetDeterminationTrials': 13, 'kAttractionRatio': 0.381419987236377, 'kMaxAttractionDistance': 15, 'kStartAttraction': 0.005063977658954754}. Best is trial 185 with value: 8620.489270386266.\u001b[0m\n"
     ]
    },
    {
     "name": "stdout",
     "output_type": "stream",
     "text": [
      "index_parallel='0270'\n"
     ]
    },
    {
     "name": "stderr",
     "output_type": "stream",
     "text": [
      "\u001b[32m[I 2022-08-16 11:11:35,970]\u001b[0m Trial 270 finished with value: 7423.3304721030045 and parameters: {'kErase': 2, 'kRadius': 3, 'kAnnealingA': 8.03247081696236, 'kAnnealingB': 1.6283441514621917, 'kAnnealingStart': 43.279030221741124, 'kSkipRatio': 0.6147115544427187, 'kTargetDeterminationTrials': 13, 'kAttractionRatio': 0.36434193451006114, 'kMaxAttractionDistance': 19, 'kStartAttraction': 0.008658216136909667}. Best is trial 185 with value: 8620.489270386266.\u001b[0m\n"
     ]
    },
    {
     "name": "stdout",
     "output_type": "stream",
     "text": [
      "index_parallel='0272'\n"
     ]
    },
    {
     "name": "stderr",
     "output_type": "stream",
     "text": [
      "\u001b[32m[I 2022-08-16 11:16:01,219]\u001b[0m Trial 272 finished with value: 7785.944206008584 and parameters: {'kErase': 2, 'kRadius': 3, 'kAnnealingA': 10.847454321497537, 'kAnnealingB': 1.4766000005700244, 'kAnnealingStart': 40.18560576317403, 'kSkipRatio': 0.5960903946036316, 'kTargetDeterminationTrials': 9, 'kAttractionRatio': 0.2953071602369552, 'kMaxAttractionDistance': 16, 'kStartAttraction': 0.0058966904263194385}. Best is trial 185 with value: 8620.489270386266.\u001b[0m\n"
     ]
    },
    {
     "name": "stdout",
     "output_type": "stream",
     "text": [
      "index_parallel='0274'\n"
     ]
    },
    {
     "name": "stderr",
     "output_type": "stream",
     "text": [
      "\u001b[32m[I 2022-08-16 11:20:25,824]\u001b[0m Trial 274 finished with value: 8526.836909871245 and parameters: {'kErase': 2, 'kRadius': 3, 'kAnnealingA': 9.356438605905042, 'kAnnealingB': 1.704960476697962, 'kAnnealingStart': 34.96261484784355, 'kSkipRatio': 0.6229365009287323, 'kTargetDeterminationTrials': 12, 'kAttractionRatio': 0.3899185456944745, 'kMaxAttractionDistance': 15, 'kStartAttraction': 0.004020942427361147}. Best is trial 185 with value: 8620.489270386266.\u001b[0m\n"
     ]
    },
    {
     "name": "stdout",
     "output_type": "stream",
     "text": [
      "index_parallel='0276'\n"
     ]
    },
    {
     "name": "stderr",
     "output_type": "stream",
     "text": [
      "\u001b[32m[I 2022-08-16 11:24:50,578]\u001b[0m Trial 276 finished with value: 5278.296137339055 and parameters: {'kErase': 2, 'kRadius': 3, 'kAnnealingA': 8.813614287719028, 'kAnnealingB': 1.704058763043514, 'kAnnealingStart': 51.4370607225385, 'kSkipRatio': 0.6273631452517604, 'kTargetDeterminationTrials': 12, 'kAttractionRatio': 0.013170303088670012, 'kMaxAttractionDistance': 15, 'kStartAttraction': 0.004192621071150252}. Best is trial 185 with value: 8620.489270386266.\u001b[0m\n"
     ]
    },
    {
     "name": "stdout",
     "output_type": "stream",
     "text": [
      "index_parallel='0278'\n"
     ]
    },
    {
     "name": "stderr",
     "output_type": "stream",
     "text": [
      "\u001b[32m[I 2022-08-16 11:29:15,352]\u001b[0m Trial 278 finished with value: 8531.690987124464 and parameters: {'kErase': 2, 'kRadius': 3, 'kAnnealingA': 7.7421543561761945, 'kAnnealingB': 1.6926858683759223, 'kAnnealingStart': 35.43862035953722, 'kSkipRatio': 0.6223747218979746, 'kTargetDeterminationTrials': 14, 'kAttractionRatio': 0.3845331628935375, 'kMaxAttractionDistance': 12, 'kStartAttraction': 0.004931147723568551}. Best is trial 185 with value: 8620.489270386266.\u001b[0m\n"
     ]
    },
    {
     "name": "stdout",
     "output_type": "stream",
     "text": [
      "index_parallel='0280'\n"
     ]
    },
    {
     "name": "stderr",
     "output_type": "stream",
     "text": [
      "\u001b[32m[I 2022-08-16 11:33:40,460]\u001b[0m Trial 280 finished with value: 8553.296137339055 and parameters: {'kErase': 2, 'kRadius': 3, 'kAnnealingA': 7.827312656068605, 'kAnnealingB': 1.9225451732086776, 'kAnnealingStart': 36.262275704674444, 'kSkipRatio': 0.6381814191425661, 'kTargetDeterminationTrials': 14, 'kAttractionRatio': 0.34475482729450013, 'kMaxAttractionDistance': 12, 'kStartAttraction': 0.00490453455630757}. Best is trial 185 with value: 8620.489270386266.\u001b[0m\n"
     ]
    },
    {
     "name": "stdout",
     "output_type": "stream",
     "text": [
      "index_parallel='0282'\n"
     ]
    },
    {
     "name": "stderr",
     "output_type": "stream",
     "text": [
      "\u001b[32m[I 2022-08-16 11:38:05,285]\u001b[0m Trial 282 finished with value: 8352.01287553648 and parameters: {'kErase': 2, 'kRadius': 3, 'kAnnealingA': 7.503661226501118, 'kAnnealingB': 2.0061783796433135, 'kAnnealingStart': 39.418541345060056, 'kSkipRatio': 0.6080739781752144, 'kTargetDeterminationTrials': 14, 'kAttractionRatio': 0.30961128368675106, 'kMaxAttractionDistance': 12, 'kStartAttraction': 0.0050285513319466325}. Best is trial 185 with value: 8620.489270386266.\u001b[0m\n"
     ]
    },
    {
     "name": "stdout",
     "output_type": "stream",
     "text": [
      "index_parallel='0284'\n"
     ]
    }
   ],
   "source": [
    "study.optimize(\n",
    "    partial(objective, in_dir=in_dir, work_dir=work_dir),\n",
    "    n_trials=3000,\n",
    "    timeout=86400,\n",
    "    callbacks=[callback]\n",
    ")"
   ]
  },
  {
   "cell_type": "code",
   "execution_count": null,
   "id": "700269d2",
   "metadata": {},
   "outputs": [],
   "source": []
  }
 ],
 "metadata": {
  "kernelspec": {
   "display_name": "Python 3 (ipykernel)",
   "language": "python",
   "name": "python3"
  },
  "language_info": {
   "codemirror_mode": {
    "name": "ipython",
    "version": 3
   },
   "file_extension": ".py",
   "mimetype": "text/x-python",
   "name": "python",
   "nbconvert_exporter": "python",
   "pygments_lexer": "ipython3",
   "version": "3.9.12"
  }
 },
 "nbformat": 4,
 "nbformat_minor": 5
}
