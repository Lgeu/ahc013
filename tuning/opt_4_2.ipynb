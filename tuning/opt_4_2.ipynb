{
 "cells": [
  {
   "cell_type": "code",
   "execution_count": 1,
   "id": "25a1dac8",
   "metadata": {},
   "outputs": [],
   "source": [
    "import re\n",
    "import sys\n",
    "from uuid import uuid1\n",
    "from time import sleep\n",
    "from pprint import pprint\n",
    "from pathlib import Path\n",
    "from tempfile import gettempdir\n",
    "from threading import Thread\n",
    "from functools import partial\n",
    "from subprocess import Popen, PIPE\n",
    "\n",
    "from tqdm.notebook import tqdm\n",
    "import numpy as np\n",
    "import optuna\n",
    "import pandas as pd\n",
    "import matplotlib.pyplot as plt\n",
    "\n",
    "FILENAME = \"main.cpp\""
   ]
  },
  {
   "cell_type": "code",
   "execution_count": 2,
   "id": "3dd4d02e",
   "metadata": {},
   "outputs": [
    {
     "name": "stdout",
     "output_type": "stream",
     "text": [
      "10 variables were found.\n"
     ]
    },
    {
     "data": {
      "text/html": [
       "<div>\n",
       "<style scoped>\n",
       "    .dataframe tbody tr th:only-of-type {\n",
       "        vertical-align: middle;\n",
       "    }\n",
       "\n",
       "    .dataframe tbody tr th {\n",
       "        vertical-align: top;\n",
       "    }\n",
       "\n",
       "    .dataframe thead th {\n",
       "        text-align: right;\n",
       "    }\n",
       "</style>\n",
       "<table border=\"1\" class=\"dataframe\">\n",
       "  <thead>\n",
       "    <tr style=\"text-align: right;\">\n",
       "      <th></th>\n",
       "      <th>name</th>\n",
       "      <th>method</th>\n",
       "      <th>min</th>\n",
       "      <th>max</th>\n",
       "      <th>log</th>\n",
       "      <th>left</th>\n",
       "      <th>right</th>\n",
       "    </tr>\n",
       "  </thead>\n",
       "  <tbody>\n",
       "    <tr>\n",
       "      <th>0</th>\n",
       "      <td>kErase</td>\n",
       "      <td>suggest_int</td>\n",
       "      <td>1.000</td>\n",
       "      <td>5.0</td>\n",
       "      <td>False</td>\n",
       "      <td>static constexpr auto kErase =</td>\n",
       "      <td>;             // OPTIMIZE [1, 5]</td>\n",
       "    </tr>\n",
       "    <tr>\n",
       "      <th>1</th>\n",
       "      <td>kRadius</td>\n",
       "      <td>suggest_int</td>\n",
       "      <td>2.000</td>\n",
       "      <td>6.0</td>\n",
       "      <td>False</td>\n",
       "      <td>static constexpr auto kRadius =</td>\n",
       "      <td>;            // OPTIMIZE [2, 6]</td>\n",
       "    </tr>\n",
       "    <tr>\n",
       "      <th>2</th>\n",
       "      <td>kAnnealingA</td>\n",
       "      <td>suggest_float</td>\n",
       "      <td>-15.000</td>\n",
       "      <td>15.0</td>\n",
       "      <td>False</td>\n",
       "      <td>static constexpr auto kAnnealingA =</td>\n",
       "      <td>;      // OPTIMIZE [-15.0, 15.0]</td>\n",
       "    </tr>\n",
       "    <tr>\n",
       "      <th>3</th>\n",
       "      <td>kAnnealingB</td>\n",
       "      <td>suggest_float</td>\n",
       "      <td>0.000</td>\n",
       "      <td>3.0</td>\n",
       "      <td>False</td>\n",
       "      <td>static constexpr auto kAnnealingB =</td>\n",
       "      <td>;      // OPTIMIZE [0.0, 3.0]</td>\n",
       "    </tr>\n",
       "    <tr>\n",
       "      <th>4</th>\n",
       "      <td>kAnnealingStart</td>\n",
       "      <td>suggest_float</td>\n",
       "      <td>1.000</td>\n",
       "      <td>100.0</td>\n",
       "      <td>True</td>\n",
       "      <td>static constexpr auto kAnnealingStart =</td>\n",
       "      <td>; // OPTIMIZE LOG [1.0, 100.0]</td>\n",
       "    </tr>\n",
       "    <tr>\n",
       "      <th>5</th>\n",
       "      <td>kSkipRatio</td>\n",
       "      <td>suggest_float</td>\n",
       "      <td>0.200</td>\n",
       "      <td>0.8</td>\n",
       "      <td>False</td>\n",
       "      <td>static constexpr auto kSkipRatio =</td>\n",
       "      <td>;       // OPTIMIZE [0.2, 0.8]</td>\n",
       "    </tr>\n",
       "    <tr>\n",
       "      <th>6</th>\n",
       "      <td>kTargetDeterminationTrials</td>\n",
       "      <td>suggest_int</td>\n",
       "      <td>1.000</td>\n",
       "      <td>20.0</td>\n",
       "      <td>True</td>\n",
       "      <td>static constexpr auto kTargetDeterminationTria...</td>\n",
       "      <td>; // OPTIMIZE LOG [1, 20]</td>\n",
       "    </tr>\n",
       "    <tr>\n",
       "      <th>7</th>\n",
       "      <td>kAttractionRatio</td>\n",
       "      <td>suggest_float</td>\n",
       "      <td>0.010</td>\n",
       "      <td>0.9</td>\n",
       "      <td>True</td>\n",
       "      <td>static constexpr auto kAttractionRatio =</td>\n",
       "      <td>;      // OPTIMIZE LOG [0.01, 0.9]</td>\n",
       "    </tr>\n",
       "    <tr>\n",
       "      <th>8</th>\n",
       "      <td>kMaxAttractionDistance</td>\n",
       "      <td>suggest_int</td>\n",
       "      <td>4.000</td>\n",
       "      <td>99.0</td>\n",
       "      <td>True</td>\n",
       "      <td>static constexpr auto kMaxAttractionDistance =</td>\n",
       "      <td>; // OPTIMIZE LOG [4, 99]</td>\n",
       "    </tr>\n",
       "    <tr>\n",
       "      <th>9</th>\n",
       "      <td>kStartAttraction</td>\n",
       "      <td>suggest_float</td>\n",
       "      <td>0.001</td>\n",
       "      <td>0.9</td>\n",
       "      <td>True</td>\n",
       "      <td>static constexpr auto kStartAttraction =</td>\n",
       "      <td>;     // OPTIMIZE LOG [0.001, 0.9]</td>\n",
       "    </tr>\n",
       "  </tbody>\n",
       "</table>\n",
       "</div>"
      ],
      "text/plain": [
       "                         name         method     min    max    log  \\\n",
       "0                      kErase    suggest_int   1.000    5.0  False   \n",
       "1                     kRadius    suggest_int   2.000    6.0  False   \n",
       "2                 kAnnealingA  suggest_float -15.000   15.0  False   \n",
       "3                 kAnnealingB  suggest_float   0.000    3.0  False   \n",
       "4             kAnnealingStart  suggest_float   1.000  100.0   True   \n",
       "5                  kSkipRatio  suggest_float   0.200    0.8  False   \n",
       "6  kTargetDeterminationTrials    suggest_int   1.000   20.0   True   \n",
       "7            kAttractionRatio  suggest_float   0.010    0.9   True   \n",
       "8      kMaxAttractionDistance    suggest_int   4.000   99.0   True   \n",
       "9            kStartAttraction  suggest_float   0.001    0.9   True   \n",
       "\n",
       "                                                left  \\\n",
       "0                    static constexpr auto kErase =    \n",
       "1                   static constexpr auto kRadius =    \n",
       "2               static constexpr auto kAnnealingA =    \n",
       "3               static constexpr auto kAnnealingB =    \n",
       "4           static constexpr auto kAnnealingStart =    \n",
       "5                static constexpr auto kSkipRatio =    \n",
       "6  static constexpr auto kTargetDeterminationTria...   \n",
       "7          static constexpr auto kAttractionRatio =    \n",
       "8    static constexpr auto kMaxAttractionDistance =    \n",
       "9          static constexpr auto kStartAttraction =    \n",
       "\n",
       "                                right  \n",
       "0    ;             // OPTIMIZE [1, 5]  \n",
       "1     ;            // OPTIMIZE [2, 6]  \n",
       "2    ;      // OPTIMIZE [-15.0, 15.0]  \n",
       "3       ;      // OPTIMIZE [0.0, 3.0]  \n",
       "4      ; // OPTIMIZE LOG [1.0, 100.0]  \n",
       "5      ;       // OPTIMIZE [0.2, 0.8]  \n",
       "6           ; // OPTIMIZE LOG [1, 20]  \n",
       "7  ;      // OPTIMIZE LOG [0.01, 0.9]  \n",
       "8           ; // OPTIMIZE LOG [4, 99]  \n",
       "9  ;     // OPTIMIZE LOG [0.001, 0.9]  "
      ]
     },
     "metadata": {},
     "output_type": "display_data"
    }
   ],
   "source": [
    "# ここでエラー出力は何かおかしいかもしれない\n",
    "\n",
    "\n",
    "# パラメータ抽出\n",
    "with open(FILENAME) as f:\n",
    "    answer = f.read()\n",
    "\n",
    "\n",
    "variables_optimize = []\n",
    "\n",
    "for left, value, right, options in re.findall(r\"^([^/\\n]*=\\s*)(.+?)(\\s*;\\s*//(?:.*\\W)?OPTIMIZE(\\W.*))$\", answer, re.MULTILINE):\n",
    "    name = left.replace(\"=\", \"\").strip().split()[-1]\n",
    "    \n",
    "    searched = re.search(r\".*\\[(?P<min>.*),(?P<max>.*)\\].*\", options)\n",
    "    if searched:\n",
    "        min_value = max_value = None\n",
    "        try:\n",
    "            min_value = eval(searched.group(\"min\"))\n",
    "            max_value = eval(searched.group(\"max\"))\n",
    "            assert min_value <= max_value\n",
    "        except Exception as e:\n",
    "            print(f\"searched={searched}\", file=sys.stderr)\n",
    "            print(e, file=sys.stderr)\n",
    "            continue\n",
    "        log = \"LOG\" in options  # 雑、直したほうが良い\n",
    "        if type(min_value) != type(max_value):\n",
    "            print(f\"searched={searched}\", file=sys.stderr)\n",
    "            print(\"types not matched\", file=sys.stderr)\n",
    "            continue\n",
    "        if isinstance(min_value, int):\n",
    "            method = \"suggest_int\"\n",
    "        elif isinstance(min_value, float):\n",
    "            method = \"suggest_float\"\n",
    "        else:\n",
    "            print(f\"searched={searched}\", file=sys.stderr)\n",
    "            print(f\"unknown type ({type(min_value)})\", file=sys.stderr)\n",
    "            continue\n",
    "        variables_optimize.append({\n",
    "            \"name\": name,\n",
    "            \"method\": method,\n",
    "            \"min\": min_value,\n",
    "            \"max\": max_value,\n",
    "            \"log\": log,\n",
    "            \"left\": left,\n",
    "            \"right\": right,\n",
    "        })\n",
    "    elif searched := re.search(r\".*\\{(?P<choices>.*?)\\}.*\", options):\n",
    "        choices = list(map(lambda x: x.strip(), searched.group(\"choices\").split(\",\")))\n",
    "        variables_optimize.append({\n",
    "            \"name\": name,\n",
    "            \"method\": \"suggest_categorical\",\n",
    "            \"choices\": choices,\n",
    "            \"left\": left,\n",
    "            \"right\": right,\n",
    "        })\n",
    "    else:\n",
    "        print(f\"searched={searched}\", file=sys.stderr)\n",
    "        print(f\"pattern was matched but options are incorrect.\", file=sys.stderr)\n",
    "\n",
    "print(len(variables_optimize), \"variables were found.\")\n",
    "if globals().get(\"pd\"):\n",
    "    display(pd.DataFrame(variables_optimize))\n",
    "else:\n",
    "    pprint(variables_optimize)"
   ]
  },
  {
   "cell_type": "code",
   "execution_count": 3,
   "id": "001042b9",
   "metadata": {},
   "outputs": [],
   "source": [
    "def escape(string):  # 正規表現の中でそのまま使いたい文字列をエスケープ\n",
    "    res = !echo '{string}' | sed -e 's/[]\\/$*.^[]/\\\\&/g'\n",
    "    return res[0]\n",
    "\n",
    "def escape_sed(string):  # sed の置換後の文字列用のエスケープ\n",
    "    res = !echo '{string}' | sed -e 's/[\\/&]/\\\\&/g'\n",
    "    return res[0]\n",
    "\n",
    "def read_stream(name, in_file, out_file):\n",
    "    for line in in_file:\n",
    "        print(f\"[{name}] {line.strip()}\", file=out_file)\n",
    "\n",
    "def run(cmd, name):\n",
    "    proc = Popen(cmd, stdout=PIPE, stderr=PIPE, universal_newlines=True, shell=isinstance(cmd, str))\n",
    "    stdout_thread = Thread(target=read_stream, args=(name, proc.stdout, sys.stdout))\n",
    "    stderr_thread = Thread(target=read_stream, args=(name, proc.stderr, sys.stderr))\n",
    "    stdout_thread.start()\n",
    "    stderr_thread.start()\n",
    "    proc.wait()\n",
    "    return proc\n",
    "\n",
    "def objective(trial, in_dir, work_dir):\n",
    "    n_internal_parallel = 3\n",
    "    \n",
    "    index_parallel = f\"{trial.number:04d}\"\n",
    "    print(f\"{index_parallel=}\")\n",
    "    \n",
    "    work_dir = Path(work_dir)\n",
    "    directory_input = Path(in_dir)  # 中のすべてのファイルに対して実行される\n",
    "    #parameters_changed_filename = Path(gettempdir()) / str(uuid1())\n",
    "    parameters_changed_filename = work_dir / f\"{index_parallel}_{FILENAME}\"\n",
    "    \n",
    "    run([\"mkdir\", f\"{work_dir / index_parallel}_out\"], \"mkdir\")\n",
    "    run([\"mkdir\", f\"{work_dir / index_parallel}_score\"], \"mkdir\")\n",
    "    \n",
    "    # ファイル作成\n",
    "    run(f\"cp {FILENAME} {parameters_changed_filename}\", \"cp\")\n",
    "    sed_options = [f\"-i {parameters_changed_filename}\"]\n",
    "    for variable in variables_optimize:\n",
    "        if variable[\"method\"] == \"suggest_categorical\":\n",
    "            val =  trial.suggest_categorical(variable[\"name\"], variable[\"choices\"])\n",
    "        else:\n",
    "            val = getattr(trial, variable[\"method\"])(variable[\"name\"], variable[\"min\"], variable[\"max\"], log=variable[\"log\"])\n",
    "        left = variable[\"left\"]\n",
    "        right = variable[\"right\"]\n",
    "        sed_options.append(f\"\"\"-e 's/^{escape(left)}.*{escape(right)}$/{escape_sed(left)}{val}{escape_sed(right)}/'\"\"\")\n",
    "    command_sed = f\"sed {' '.join(sed_options)}\"\n",
    "    #print(command_sed)\n",
    "    run(command_sed, \"sed\")\n",
    "    \n",
    "    # コンパイル\n",
    "    command_compile = f\"g++ {parameters_changed_filename} -std=gnu++17 -O2 -DONLINE_JUDGE -o {parameters_changed_filename}.out\"\n",
    "    #print(command_compile)\n",
    "    run(command_compile, \"compile\")\n",
    "    # 実行・採点コマンド (@ はファイル名)\n",
    "    command_exec = (\n",
    "        #f\"./a.out < ./tools/in/{i:04d}.txt > {out_file} && ./tools/target/release/vis ./tools/in/{i:04d}.txt {out_file}\"\n",
    "        #f\"../tools/target/release/tester $(pwd)/{parameters_changed_filename}.out < {directory_input}/@ 2>&1 | grep Score\"\n",
    "        #f\"../tools/target/release/tester $(pwd)/{parameters_changed_filename}.out < {directory_input}/@ 2>&1 | grep Score | sed -E s/[^0-9]+// > ./{index_parallel}_score/@;\"\n",
    "        #f\"cargo run --release --manifest-path ../tools/Cargo.toml --bin tester {directory_input}/@ $(pwd)/{parameters_changed_filename}.out 2>&1 | grep Score | sed -E s/[^0-9]+// > ./{index_parallel}_score/@;\"\n",
    "        f\"./{parameters_changed_filename}.out < {directory_input}/@ > {work_dir / index_parallel}_out/@;\"\n",
    "        f\"../tools/target/release/vis {directory_input}/@ {work_dir / index_parallel}_out/@ 2> /dev/null > {work_dir / index_parallel}_score/@;\"\n",
    "    )\n",
    "    # 並列実行 (sed はパスのディレクトリ部分を消してファイル名にしてる)\n",
    "    run(f\"find {directory_input}/* | sed 's!^.*/!!' | xargs -I@ -P {n_internal_parallel} sh -c '{command_exec}'\", \"exec\")\n",
    "    \n",
    "    # 集計\n",
    "    scores = []\n",
    "    for file_path in Path(f\"{work_dir / index_parallel}_score/\").iterdir():  \n",
    "        with open(file_path) as f:\n",
    "            scores.append(int(f.readline().strip().split()[-1]))\n",
    "    mean_score = sum(scores) / len(scores)\n",
    "    \n",
    "    # 後始末\n",
    "    run(f\"rm -rf {work_dir / index_parallel}_out\", \"rm\")\n",
    "    run(f\"rm -rf {work_dir / index_parallel}_score\", \"rm\")\n",
    "    #run(f\"rm {parameters_changed_filename}\", \"rm\")\n",
    "    run(f\"rm {parameters_changed_filename}.out\", \"rm\")\n",
    "    \n",
    "    return mean_score"
   ]
  },
  {
   "cell_type": "code",
   "execution_count": 4,
   "id": "2d2e133c",
   "metadata": {},
   "outputs": [
    {
     "name": "stderr",
     "output_type": "stream",
     "text": [
      "\u001b[32m[I 2022-08-15 21:29:42,914]\u001b[0m A new study created in RDB with name: study_4_2\u001b[0m\n"
     ]
    }
   ],
   "source": [
    "K = 4\n",
    "N_CLASS = 2\n",
    "\n",
    "in_dir = Path(f\"in_{K}_{N_CLASS}\")\n",
    "work_dir = Path(f\"work_{K}_{N_CLASS}\")\n",
    "\n",
    "study_name = f\"study_{K}_{N_CLASS}\"\n",
    "storage_path = work_dir / \"study.db\"\n",
    "storage = f\"sqlite:///{storage_path}\"\n",
    "study = optuna.create_study(storage=storage, load_if_exists=True, study_name=study_name, direction=\"maximize\")\n",
    "\n",
    "def callback(study, trial):\n",
    "    try:\n",
    "        index_parallel = f\"{trial.number:04d}\"\n",
    "        parameters_changed_filename = work_dir / f\"{index_parallel}_{FILENAME}\"\n",
    "        if study.best_value == trial.value:\n",
    "            print(f\"Updated! {study.best_value}\")\n",
    "            !cp {parameters_changed_filename} {work_dir / \"best_parameters.cpp\"}\n",
    "        !rm {parameters_changed_filename}\n",
    "    except:\n",
    "        print(\":(\")\n"
   ]
  },
  {
   "cell_type": "code",
   "execution_count": null,
   "id": "61c2901d",
   "metadata": {},
   "outputs": [
    {
     "name": "stdout",
     "output_type": "stream",
     "text": [
      "index_parallel='0000'\n"
     ]
    },
    {
     "name": "stderr",
     "output_type": "stream",
     "text": [
      "\u001b[32m[I 2022-08-15 21:33:27,378]\u001b[0m Trial 0 finished with value: 6742.876288659794 and parameters: {'kErase': 5, 'kRadius': 6, 'kAnnealingA': 13.401680195102799, 'kAnnealingB': 0.8394939540386855, 'kAnnealingStart': 2.1619924476141255, 'kSkipRatio': 0.31858125904076634, 'kTargetDeterminationTrials': 2, 'kAttractionRatio': 0.20198356653536084, 'kMaxAttractionDistance': 6, 'kStartAttraction': 0.00131769922659402}. Best is trial 0 with value: 6742.876288659794.\u001b[0m\n"
     ]
    },
    {
     "name": "stdout",
     "output_type": "stream",
     "text": [
      "Updated! 6742.876288659794\n",
      "index_parallel='0001'\n"
     ]
    },
    {
     "name": "stderr",
     "output_type": "stream",
     "text": [
      "\u001b[32m[I 2022-08-15 21:37:11,464]\u001b[0m Trial 1 finished with value: 7811.742268041237 and parameters: {'kErase': 2, 'kRadius': 6, 'kAnnealingA': -8.111644508139664, 'kAnnealingB': 2.0951959639341693, 'kAnnealingStart': 3.4399329051747087, 'kSkipRatio': 0.34577511690355567, 'kTargetDeterminationTrials': 7, 'kAttractionRatio': 0.4488861783055754, 'kMaxAttractionDistance': 66, 'kStartAttraction': 0.06325083285221497}. Best is trial 1 with value: 7811.742268041237.\u001b[0m\n"
     ]
    },
    {
     "name": "stdout",
     "output_type": "stream",
     "text": [
      "Updated! 7811.742268041237\n",
      "index_parallel='0002'\n"
     ]
    },
    {
     "name": "stderr",
     "output_type": "stream",
     "text": [
      "\u001b[32m[I 2022-08-15 21:40:55,310]\u001b[0m Trial 2 finished with value: 8287.90206185567 and parameters: {'kErase': 1, 'kRadius': 3, 'kAnnealingA': -4.641281729281756, 'kAnnealingB': 0.017443256454274247, 'kAnnealingStart': 15.484372736235235, 'kSkipRatio': 0.35877511596983114, 'kTargetDeterminationTrials': 20, 'kAttractionRatio': 0.1699509577987963, 'kMaxAttractionDistance': 39, 'kStartAttraction': 0.0842054234764108}. Best is trial 2 with value: 8287.90206185567.\u001b[0m\n"
     ]
    },
    {
     "name": "stdout",
     "output_type": "stream",
     "text": [
      "Updated! 8287.90206185567\n",
      "index_parallel='0003'\n"
     ]
    },
    {
     "name": "stderr",
     "output_type": "stream",
     "text": [
      "\u001b[32m[I 2022-08-15 21:44:40,015]\u001b[0m Trial 3 finished with value: 7324.159793814433 and parameters: {'kErase': 5, 'kRadius': 6, 'kAnnealingA': 0.40475917421675334, 'kAnnealingB': 1.659501079323113, 'kAnnealingStart': 12.975215469651827, 'kSkipRatio': 0.5768737196613095, 'kTargetDeterminationTrials': 2, 'kAttractionRatio': 0.07671641577948723, 'kMaxAttractionDistance': 9, 'kStartAttraction': 0.01383676261113761}. Best is trial 2 with value: 8287.90206185567.\u001b[0m\n"
     ]
    },
    {
     "name": "stdout",
     "output_type": "stream",
     "text": [
      "index_parallel='0004'\n"
     ]
    },
    {
     "name": "stderr",
     "output_type": "stream",
     "text": [
      "\u001b[32m[I 2022-08-15 21:48:24,547]\u001b[0m Trial 4 finished with value: 6688.654639175258 and parameters: {'kErase': 5, 'kRadius': 4, 'kAnnealingA': 9.927273715657403, 'kAnnealingB': 0.03419848187057006, 'kAnnealingStart': 40.236272440190795, 'kSkipRatio': 0.638761887822189, 'kTargetDeterminationTrials': 1, 'kAttractionRatio': 0.06678854883720597, 'kMaxAttractionDistance': 33, 'kStartAttraction': 0.07680777956199755}. Best is trial 2 with value: 8287.90206185567.\u001b[0m\n"
     ]
    },
    {
     "name": "stdout",
     "output_type": "stream",
     "text": [
      "index_parallel='0005'\n"
     ]
    },
    {
     "name": "stderr",
     "output_type": "stream",
     "text": [
      "\u001b[32m[I 2022-08-15 21:52:08,537]\u001b[0m Trial 5 finished with value: 8155.845360824742 and parameters: {'kErase': 3, 'kRadius': 3, 'kAnnealingA': 7.846856421856046, 'kAnnealingB': 2.362360879949672, 'kAnnealingStart': 6.7372588016096255, 'kSkipRatio': 0.6896867092042325, 'kTargetDeterminationTrials': 1, 'kAttractionRatio': 0.01951751702544488, 'kMaxAttractionDistance': 53, 'kStartAttraction': 0.1126889165342266}. Best is trial 2 with value: 8287.90206185567.\u001b[0m\n"
     ]
    },
    {
     "name": "stdout",
     "output_type": "stream",
     "text": [
      "index_parallel='0006'\n"
     ]
    },
    {
     "name": "stderr",
     "output_type": "stream",
     "text": [
      "\u001b[32m[I 2022-08-15 21:55:52,232]\u001b[0m Trial 6 finished with value: 8064.762886597938 and parameters: {'kErase': 1, 'kRadius': 4, 'kAnnealingA': -4.234599153193749, 'kAnnealingB': 2.9310223840701215, 'kAnnealingStart': 6.200381705332674, 'kSkipRatio': 0.6555747894472777, 'kTargetDeterminationTrials': 2, 'kAttractionRatio': 0.01636775497162417, 'kMaxAttractionDistance': 21, 'kStartAttraction': 0.08023791924222756}. Best is trial 2 with value: 8287.90206185567.\u001b[0m\n"
     ]
    },
    {
     "name": "stdout",
     "output_type": "stream",
     "text": [
      "index_parallel='0007'\n"
     ]
    },
    {
     "name": "stderr",
     "output_type": "stream",
     "text": [
      "\u001b[32m[I 2022-08-15 21:59:36,124]\u001b[0m Trial 7 finished with value: 7755.9639175257735 and parameters: {'kErase': 2, 'kRadius': 3, 'kAnnealingA': -4.550596577739814, 'kAnnealingB': 2.1135962195203657, 'kAnnealingStart': 1.4230491437485095, 'kSkipRatio': 0.39349281762163757, 'kTargetDeterminationTrials': 3, 'kAttractionRatio': 0.04489350959511274, 'kMaxAttractionDistance': 4, 'kStartAttraction': 0.2583002604009022}. Best is trial 2 with value: 8287.90206185567.\u001b[0m\n"
     ]
    },
    {
     "name": "stdout",
     "output_type": "stream",
     "text": [
      "index_parallel='0008'\n"
     ]
    },
    {
     "name": "stderr",
     "output_type": "stream",
     "text": [
      "\u001b[32m[I 2022-08-15 22:03:20,408]\u001b[0m Trial 8 finished with value: 7150.6082474226805 and parameters: {'kErase': 5, 'kRadius': 4, 'kAnnealingA': 3.682946539677612, 'kAnnealingB': 1.183580613752913, 'kAnnealingStart': 4.68052763227949, 'kSkipRatio': 0.4811869888692406, 'kTargetDeterminationTrials': 1, 'kAttractionRatio': 0.06058184934397095, 'kMaxAttractionDistance': 52, 'kStartAttraction': 0.04628095495917203}. Best is trial 2 with value: 8287.90206185567.\u001b[0m\n"
     ]
    },
    {
     "name": "stdout",
     "output_type": "stream",
     "text": [
      "index_parallel='0009'\n"
     ]
    },
    {
     "name": "stderr",
     "output_type": "stream",
     "text": [
      "\u001b[32m[I 2022-08-15 22:07:04,412]\u001b[0m Trial 9 finished with value: 7390.407216494846 and parameters: {'kErase': 3, 'kRadius': 5, 'kAnnealingA': -9.59186857689671, 'kAnnealingB': 0.6663526430806529, 'kAnnealingStart': 57.52816943892381, 'kSkipRatio': 0.4265803518105777, 'kTargetDeterminationTrials': 1, 'kAttractionRatio': 0.48505325996655135, 'kMaxAttractionDistance': 62, 'kStartAttraction': 0.016148205057844638}. Best is trial 2 with value: 8287.90206185567.\u001b[0m\n"
     ]
    },
    {
     "name": "stdout",
     "output_type": "stream",
     "text": [
      "index_parallel='0010'\n"
     ]
    },
    {
     "name": "stderr",
     "output_type": "stream",
     "text": [
      "\u001b[32m[I 2022-08-15 22:10:48,106]\u001b[0m Trial 10 finished with value: 7814.840206185567 and parameters: {'kErase': 1, 'kRadius': 2, 'kAnnealingA': -13.344453861553744, 'kAnnealingB': 0.01035908665609793, 'kAnnealingStart': 19.957376826055437, 'kSkipRatio': 0.21994775667076402, 'kTargetDeterminationTrials': 19, 'kAttractionRatio': 0.21085295580251173, 'kMaxAttractionDistance': 14, 'kStartAttraction': 0.6671437546050851}. Best is trial 2 with value: 8287.90206185567.\u001b[0m\n"
     ]
    },
    {
     "name": "stdout",
     "output_type": "stream",
     "text": [
      "index_parallel='0011'\n"
     ]
    },
    {
     "name": "stderr",
     "output_type": "stream",
     "text": [
      "\u001b[32m[I 2022-08-15 22:14:32,130]\u001b[0m Trial 11 finished with value: 7027.015463917526 and parameters: {'kErase': 3, 'kRadius': 2, 'kAnnealingA': 7.118687374103863, 'kAnnealingB': 2.935843729132456, 'kAnnealingStart': 20.571111798094552, 'kSkipRatio': 0.7777087353211891, 'kTargetDeterminationTrials': 18, 'kAttractionRatio': 0.0125683127590584, 'kMaxAttractionDistance': 32, 'kStartAttraction': 0.20608830521229857}. Best is trial 2 with value: 8287.90206185567.\u001b[0m\n"
     ]
    },
    {
     "name": "stdout",
     "output_type": "stream",
     "text": [
      "index_parallel='0012'\n"
     ]
    },
    {
     "name": "stderr",
     "output_type": "stream",
     "text": [
      "\u001b[32m[I 2022-08-15 22:18:16,842]\u001b[0m Trial 12 finished with value: 7742.159793814433 and parameters: {'kErase': 4, 'kRadius': 3, 'kAnnealingA': 0.5961206238064758, 'kAnnealingB': 2.335102086794551, 'kAnnealingStart': 8.220145915046817, 'kSkipRatio': 0.7833762297286304, 'kTargetDeterminationTrials': 8, 'kAttractionRatio': 0.026772798345293992, 'kMaxAttractionDistance': 91, 'kStartAttraction': 0.006385615308946355}. Best is trial 2 with value: 8287.90206185567.\u001b[0m\n"
     ]
    },
    {
     "name": "stdout",
     "output_type": "stream",
     "text": [
      "index_parallel='0013'\n"
     ]
    },
    {
     "name": "stderr",
     "output_type": "stream",
     "text": [
      "\u001b[32m[I 2022-08-15 22:22:00,653]\u001b[0m Trial 13 finished with value: 7212.670103092783 and parameters: {'kErase': 2, 'kRadius': 3, 'kAnnealingA': 5.787558521088137, 'kAnnealingB': 1.6213995158320489, 'kAnnealingStart': 30.322064413963126, 'kSkipRatio': 0.5418930011030605, 'kTargetDeterminationTrials': 7, 'kAttractionRatio': 0.13885107382194942, 'kMaxAttractionDistance': 34, 'kStartAttraction': 0.24042752703432724}. Best is trial 2 with value: 8287.90206185567.\u001b[0m\n"
     ]
    },
    {
     "name": "stdout",
     "output_type": "stream",
     "text": [
      "index_parallel='0014'\n"
     ]
    },
    {
     "name": "stderr",
     "output_type": "stream",
     "text": [
      "\u001b[32m[I 2022-08-15 22:25:45,347]\u001b[0m Trial 14 finished with value: 6396.59793814433 and parameters: {'kErase': 4, 'kRadius': 3, 'kAnnealingA': 12.30250766401811, 'kAnnealingB': 2.5070282054430173, 'kAnnealingStart': 11.468040134934416, 'kSkipRatio': 0.23514338446974914, 'kTargetDeterminationTrials': 4, 'kAttractionRatio': 0.02845888416839482, 'kMaxAttractionDistance': 18, 'kStartAttraction': 0.8259788869642033}. Best is trial 2 with value: 8287.90206185567.\u001b[0m\n"
     ]
    },
    {
     "name": "stdout",
     "output_type": "stream",
     "text": [
      "index_parallel='0015'\n"
     ]
    },
    {
     "name": "stderr",
     "output_type": "stream",
     "text": [
      "\u001b[32m[I 2022-08-15 22:29:29,116]\u001b[0m Trial 15 finished with value: 7505.29381443299 and parameters: {'kErase': 1, 'kRadius': 2, 'kAnnealingA': -3.2089884817084595, 'kAnnealingB': 0.587867064095495, 'kAnnealingStart': 85.89650922092221, 'kSkipRatio': 0.6873163637261204, 'kTargetDeterminationTrials': 11, 'kAttractionRatio': 0.14369479650649986, 'kMaxAttractionDistance': 43, 'kStartAttraction': 0.1610465853485029}. Best is trial 2 with value: 8287.90206185567.\u001b[0m\n"
     ]
    },
    {
     "name": "stdout",
     "output_type": "stream",
     "text": [
      "index_parallel='0016'\n"
     ]
    },
    {
     "name": "stderr",
     "output_type": "stream",
     "text": [
      "\u001b[32m[I 2022-08-15 22:33:13,432]\u001b[0m Trial 16 finished with value: 7077.360824742268 and parameters: {'kErase': 4, 'kRadius': 5, 'kAnnealingA': 2.889069504769867, 'kAnnealingB': 1.2301214595628238, 'kAnnealingStart': 3.089496038183655, 'kSkipRatio': 0.4959599991245809, 'kTargetDeterminationTrials': 4, 'kAttractionRatio': 0.6976085523542165, 'kMaxAttractionDistance': 82, 'kStartAttraction': 0.025005029140029906}. Best is trial 2 with value: 8287.90206185567.\u001b[0m\n"
     ]
    },
    {
     "name": "stdout",
     "output_type": "stream",
     "text": [
      "index_parallel='0017'\n"
     ]
    },
    {
     "name": "stderr",
     "output_type": "stream",
     "text": [
      "\u001b[32m[I 2022-08-15 22:36:57,335]\u001b[0m Trial 17 finished with value: 7643.577319587629 and parameters: {'kErase': 2, 'kRadius': 3, 'kAnnealingA': 7.758237225905335, 'kAnnealingB': 1.7727139283926943, 'kAnnealingStart': 15.464696812694246, 'kSkipRatio': 0.294028604551863, 'kTargetDeterminationTrials': 12, 'kAttractionRatio': 0.024749066813124485, 'kMaxAttractionDistance': 20, 'kStartAttraction': 0.005086554786092184}. Best is trial 2 with value: 8287.90206185567.\u001b[0m\n"
     ]
    },
    {
     "name": "stdout",
     "output_type": "stream",
     "text": [
      "index_parallel='0018'\n"
     ]
    },
    {
     "name": "stderr",
     "output_type": "stream",
     "text": [
      "\u001b[32m[I 2022-08-15 22:40:41,573]\u001b[0m Trial 18 finished with value: 7985.453608247422 and parameters: {'kErase': 3, 'kRadius': 5, 'kAnnealingA': -9.067228120823504, 'kAnnealingB': 2.5830410646883744, 'kAnnealingStart': 7.083098852883416, 'kSkipRatio': 0.44089689165560464, 'kTargetDeterminationTrials': 3, 'kAttractionRatio': 0.3102875719476718, 'kMaxAttractionDistance': 29, 'kStartAttraction': 0.12634808527980018}. Best is trial 2 with value: 8287.90206185567.\u001b[0m\n"
     ]
    },
    {
     "name": "stdout",
     "output_type": "stream",
     "text": [
      "index_parallel='0019'\n"
     ]
    },
    {
     "name": "stderr",
     "output_type": "stream",
     "text": [
      "\u001b[32m[I 2022-08-15 22:44:25,771]\u001b[0m Trial 19 finished with value: 8108.087628865979 and parameters: {'kErase': 3, 'kRadius': 2, 'kAnnealingA': -2.0482434608243207, 'kAnnealingB': 0.38151864882464626, 'kAnnealingStart': 1.3521492504744768, 'kSkipRatio': 0.7184178099435187, 'kTargetDeterminationTrials': 5, 'kAttractionRatio': 0.10729580533464206, 'kMaxAttractionDistance': 48, 'kStartAttraction': 0.5166407996404674}. Best is trial 2 with value: 8287.90206185567.\u001b[0m\n"
     ]
    },
    {
     "name": "stdout",
     "output_type": "stream",
     "text": [
      "index_parallel='0020'\n"
     ]
    },
    {
     "name": "stderr",
     "output_type": "stream",
     "text": [
      "\u001b[32m[I 2022-08-15 22:48:09,351]\u001b[0m Trial 20 finished with value: 7984.922680412371 and parameters: {'kErase': 1, 'kRadius': 3, 'kAnnealingA': -12.807189334516968, 'kAnnealingB': 1.0516404197890057, 'kAnnealingStart': 33.613842525712606, 'kSkipRatio': 0.5786993129557716, 'kTargetDeterminationTrials': 2, 'kAttractionRatio': 0.04540766092048869, 'kMaxAttractionDistance': 12, 'kStartAttraction': 0.03580245000914543}. Best is trial 2 with value: 8287.90206185567.\u001b[0m\n"
     ]
    },
    {
     "name": "stdout",
     "output_type": "stream",
     "text": [
      "index_parallel='0021'\n"
     ]
    },
    {
     "name": "stderr",
     "output_type": "stream",
     "text": [
      "\u001b[32m[I 2022-08-15 22:51:53,811]\u001b[0m Trial 21 finished with value: 8106.407216494846 and parameters: {'kErase': 3, 'kRadius': 2, 'kAnnealingA': -3.149965883169145, 'kAnnealingB': 0.3291198398080895, 'kAnnealingStart': 1.444062512396551, 'kSkipRatio': 0.7437262211206198, 'kTargetDeterminationTrials': 5, 'kAttractionRatio': 0.11709183189248695, 'kMaxAttractionDistance': 47, 'kStartAttraction': 0.40412439388195226}. Best is trial 2 with value: 8287.90206185567.\u001b[0m\n"
     ]
    },
    {
     "name": "stdout",
     "output_type": "stream",
     "text": [
      "index_parallel='0022'\n"
     ]
    },
    {
     "name": "stderr",
     "output_type": "stream",
     "text": [
      "\u001b[32m[I 2022-08-15 22:55:38,198]\u001b[0m Trial 22 finished with value: 7956.113402061856 and parameters: {'kErase': 4, 'kRadius': 2, 'kAnnealingA': -1.5553607007418169, 'kAnnealingB': 0.2545921135777286, 'kAnnealingStart': 1.0961684593641814, 'kSkipRatio': 0.7123911400871171, 'kTargetDeterminationTrials': 12, 'kAttractionRatio': 0.2271545856875454, 'kMaxAttractionDistance': 67, 'kStartAttraction': 0.433424197330277}. Best is trial 2 with value: 8287.90206185567.\u001b[0m\n"
     ]
    },
    {
     "name": "stdout",
     "output_type": "stream",
     "text": [
      "index_parallel='0023'\n"
     ]
    },
    {
     "name": "stderr",
     "output_type": "stream",
     "text": [
      "\u001b[32m[I 2022-08-15 22:59:22,166]\u001b[0m Trial 23 finished with value: 8131.845360824742 and parameters: {'kErase': 2, 'kRadius': 3, 'kAnnealingA': -6.687802320863682, 'kAnnealingB': 0.4023882604585957, 'kAnnealingStart': 2.27152869206346, 'kSkipRatio': 0.620601302090886, 'kTargetDeterminationTrials': 5, 'kAttractionRatio': 0.13145289147327574, 'kMaxAttractionDistance': 41, 'kStartAttraction': 0.10404094861358307}. Best is trial 2 with value: 8287.90206185567.\u001b[0m\n"
     ]
    },
    {
     "name": "stdout",
     "output_type": "stream",
     "text": [
      "index_parallel='0024'\n"
     ]
    },
    {
     "name": "stderr",
     "output_type": "stream",
     "text": [
      "\u001b[32m[I 2022-08-15 23:03:06,326]\u001b[0m Trial 24 finished with value: 8177.396907216495 and parameters: {'kErase': 2, 'kRadius': 4, 'kAnnealingA': -5.853772375164715, 'kAnnealingB': 1.3879600920467607, 'kAnnealingStart': 2.292233919321103, 'kSkipRatio': 0.6315955069236877, 'kTargetDeterminationTrials': 10, 'kAttractionRatio': 0.32461064501919473, 'kMaxAttractionDistance': 25, 'kStartAttraction': 0.10806847627800865}. Best is trial 2 with value: 8287.90206185567.\u001b[0m\n"
     ]
    },
    {
     "name": "stdout",
     "output_type": "stream",
     "text": [
      "index_parallel='0025'\n"
     ]
    },
    {
     "name": "stderr",
     "output_type": "stream",
     "text": [
      "\u001b[32m[I 2022-08-15 23:06:49,983]\u001b[0m Trial 25 finished with value: 8100.231958762886 and parameters: {'kErase': 1, 'kRadius': 4, 'kAnnealingA': 2.7043481550288258, 'kAnnealingB': 1.3289715375247346, 'kAnnealingStart': 5.457355006165466, 'kSkipRatio': 0.5503383313277098, 'kTargetDeterminationTrials': 15, 'kAttractionRatio': 0.3690444211461528, 'kMaxAttractionDistance': 25, 'kStartAttraction': 0.027812860629482284}. Best is trial 2 with value: 8287.90206185567.\u001b[0m\n"
     ]
    },
    {
     "name": "stdout",
     "output_type": "stream",
     "text": [
      "index_parallel='0026'\n"
     ]
    },
    {
     "name": "stderr",
     "output_type": "stream",
     "text": [
      "\u001b[32m[I 2022-08-15 23:10:33,896]\u001b[0m Trial 26 finished with value: 7789.8247422680415 and parameters: {'kErase': 2, 'kRadius': 4, 'kAnnealingA': -11.132357232873566, 'kAnnealingB': 1.9314254450663708, 'kAnnealingStart': 3.904649982018186, 'kSkipRatio': 0.6081453591115563, 'kTargetDeterminationTrials': 9, 'kAttractionRatio': 0.6912425790307438, 'kMaxAttractionDistance': 24, 'kStartAttraction': 0.05207538894865712}. Best is trial 2 with value: 8287.90206185567.\u001b[0m\n"
     ]
    },
    {
     "name": "stdout",
     "output_type": "stream",
     "text": [
      "index_parallel='0027'\n"
     ]
    },
    {
     "name": "stderr",
     "output_type": "stream",
     "text": [
      "\u001b[32m[I 2022-08-15 23:14:18,099]\u001b[0m Trial 27 finished with value: 8051.783505154639 and parameters: {'kErase': 2, 'kRadius': 4, 'kAnnealingA': -5.90558713595287, 'kAnnealingB': 0.9214047360608395, 'kAnnealingStart': 8.883436470303591, 'kSkipRatio': 0.3703010012803337, 'kTargetDeterminationTrials': 15, 'kAttractionRatio': 0.2767711168351711, 'kMaxAttractionDistance': 16, 'kStartAttraction': 0.13223863224312862}. Best is trial 2 with value: 8287.90206185567.\u001b[0m\n"
     ]
    },
    {
     "name": "stdout",
     "output_type": "stream",
     "text": [
      "index_parallel='0028'\n"
     ]
    },
    {
     "name": "stderr",
     "output_type": "stream",
     "text": [
      "\u001b[32m[I 2022-08-15 23:18:02,028]\u001b[0m Trial 28 finished with value: 8175.70618556701 and parameters: {'kErase': 1, 'kRadius': 5, 'kAnnealingA': 10.28493275858612, 'kAnnealingB': 2.6884610362893637, 'kAnnealingStart': 2.354123693928071, 'kSkipRatio': 0.27004971624050317, 'kTargetDeterminationTrials': 20, 'kAttractionRatio': 0.010548339241314063, 'kMaxAttractionDistance': 9, 'kStartAttraction': 0.015067032064300477}. Best is trial 2 with value: 8287.90206185567.\u001b[0m\n"
     ]
    },
    {
     "name": "stdout",
     "output_type": "stream",
     "text": [
      "index_parallel='0029'\n"
     ]
    },
    {
     "name": "stderr",
     "output_type": "stream",
     "text": [
      "\u001b[32m[I 2022-08-15 23:21:45,573]\u001b[0m Trial 29 finished with value: 8105.484536082474 and parameters: {'kErase': 1, 'kRadius': 5, 'kAnnealingA': 13.541462293088209, 'kAnnealingB': 1.4432818715979483, 'kAnnealingStart': 2.2443981115488034, 'kSkipRatio': 0.2901764916710005, 'kTargetDeterminationTrials': 19, 'kAttractionRatio': 0.18776668901950355, 'kMaxAttractionDistance': 8, 'kStartAttraction': 0.003862332602074328}. Best is trial 2 with value: 8287.90206185567.\u001b[0m\n"
     ]
    },
    {
     "name": "stdout",
     "output_type": "stream",
     "text": [
      "index_parallel='0030'\n"
     ]
    },
    {
     "name": "stderr",
     "output_type": "stream",
     "text": [
      "\u001b[32m[I 2022-08-15 23:25:29,194]\u001b[0m Trial 30 finished with value: 7839.268041237114 and parameters: {'kErase': 1, 'kRadius': 5, 'kAnnealingA': -6.804620491253836, 'kAnnealingB': 0.9118602748447393, 'kAnnealingStart': 2.8387889800157917, 'kSkipRatio': 0.25720877270930154, 'kTargetDeterminationTrials': 10, 'kAttractionRatio': 0.5201120646297142, 'kMaxAttractionDistance': 6, 'kStartAttraction': 0.002142998686065488}. Best is trial 2 with value: 8287.90206185567.\u001b[0m\n"
     ]
    },
    {
     "name": "stdout",
     "output_type": "stream",
     "text": [
      "index_parallel='0031'\n"
     ]
    },
    {
     "name": "stderr",
     "output_type": "stream",
     "text": [
      "\u001b[32m[I 2022-08-15 23:29:12,792]\u001b[0m Trial 31 finished with value: 8136.737113402062 and parameters: {'kErase': 1, 'kRadius': 4, 'kAnnealingA': 9.698288371756192, 'kAnnealingB': 2.704949150557719, 'kAnnealingStart': 1.979143887859724, 'kSkipRatio': 0.3207658840774863, 'kTargetDeterminationTrials': 13, 'kAttractionRatio': 0.010001648105999112, 'kMaxAttractionDistance': 11, 'kStartAttraction': 0.011296335963327981}. Best is trial 2 with value: 8287.90206185567.\u001b[0m\n"
     ]
    },
    {
     "name": "stdout",
     "output_type": "stream",
     "text": [
      "index_parallel='0032'\n"
     ]
    },
    {
     "name": "stderr",
     "output_type": "stream",
     "text": [
      "\u001b[32m[I 2022-08-15 23:32:56,797]\u001b[0m Trial 32 finished with value: 8178.051546391753 and parameters: {'kErase': 2, 'kRadius': 6, 'kAnnealingA': 11.487321868214778, 'kAnnealingB': 2.247662969058324, 'kAnnealingStart': 4.432547922222563, 'kSkipRatio': 0.6699645697654716, 'kTargetDeterminationTrials': 15, 'kAttractionRatio': 0.013560074568639299, 'kMaxAttractionDistance': 5, 'kStartAttraction': 0.019307611863529143}. Best is trial 2 with value: 8287.90206185567.\u001b[0m\n"
     ]
    },
    {
     "name": "stdout",
     "output_type": "stream",
     "text": [
      "index_parallel='0033'\n"
     ]
    },
    {
     "name": "stderr",
     "output_type": "stream",
     "text": [
      "\u001b[32m[I 2022-08-15 23:36:40,944]\u001b[0m Trial 33 finished with value: 7564.371134020618 and parameters: {'kErase': 2, 'kRadius': 6, 'kAnnealingA': 14.768281275946677, 'kAnnealingB': 2.1219927334709032, 'kAnnealingStart': 3.7456497918291185, 'kSkipRatio': 0.20228318718226768, 'kTargetDeterminationTrials': 15, 'kAttractionRatio': 0.012803335157679247, 'kMaxAttractionDistance': 4, 'kStartAttraction': 0.018943532928260405}. Best is trial 2 with value: 8287.90206185567.\u001b[0m\n"
     ]
    },
    {
     "name": "stdout",
     "output_type": "stream",
     "text": [
      "index_parallel='0034'\n"
     ]
    },
    {
     "name": "stderr",
     "output_type": "stream",
     "text": [
      "\u001b[32m[I 2022-08-15 23:40:24,969]\u001b[0m Trial 34 finished with value: 7924.092783505154 and parameters: {'kErase': 2, 'kRadius': 6, 'kAnnealingA': 11.766543117752068, 'kAnnealingB': 2.781267485150301, 'kAnnealingStart': 1.8550940228763673, 'kSkipRatio': 0.3500312384547666, 'kTargetDeterminationTrials': 20, 'kAttractionRatio': 0.01047804679271287, 'kMaxAttractionDistance': 6, 'kStartAttraction': 0.009630763385055313}. Best is trial 2 with value: 8287.90206185567.\u001b[0m\n"
     ]
    },
    {
     "name": "stdout",
     "output_type": "stream",
     "text": [
      "index_parallel='0035'\n"
     ]
    },
    {
     "name": "stderr",
     "output_type": "stream",
     "text": [
      "\u001b[32m[I 2022-08-15 23:44:08,622]\u001b[0m Trial 35 finished with value: 8264.731958762886 and parameters: {'kErase': 1, 'kRadius': 6, 'kAnnealingA': 10.50175689815435, 'kAnnealingB': 2.32762261928215, 'kAnnealingStart': 4.659979854303115, 'kSkipRatio': 0.2648041790469981, 'kTargetDeterminationTrials': 16, 'kAttractionRatio': 0.018119808704699657, 'kMaxAttractionDistance': 8, 'kStartAttraction': 0.03824467169988547}. Best is trial 2 with value: 8287.90206185567.\u001b[0m\n"
     ]
    },
    {
     "name": "stdout",
     "output_type": "stream",
     "text": [
      "index_parallel='0036'\n"
     ]
    },
    {
     "name": "stderr",
     "output_type": "stream",
     "text": [
      "\u001b[32m[I 2022-08-15 23:47:52,574]\u001b[0m Trial 36 finished with value: 8391.417525773197 and parameters: {'kErase': 2, 'kRadius': 6, 'kAnnealingA': 4.572153242334048, 'kAnnealingB': 2.278507123828396, 'kAnnealingStart': 4.531604966743353, 'kSkipRatio': 0.6528754612402421, 'kTargetDeterminationTrials': 7, 'kAttractionRatio': 0.08632364703495153, 'kMaxAttractionDistance': 7, 'kStartAttraction': 0.07211833470853699}. Best is trial 36 with value: 8391.417525773197.\u001b[0m\n"
     ]
    },
    {
     "name": "stdout",
     "output_type": "stream",
     "text": [
      "Updated! 8391.417525773197\n",
      "index_parallel='0037'\n"
     ]
    },
    {
     "name": "stderr",
     "output_type": "stream",
     "text": [
      "\u001b[32m[I 2022-08-15 23:51:36,141]\u001b[0m Trial 37 finished with value: 8167.551546391753 and parameters: {'kErase': 1, 'kRadius': 6, 'kAnnealingA': 4.446140550148611, 'kAnnealingB': 1.9102046363419212, 'kAnnealingStart': 4.920835751669616, 'kSkipRatio': 0.6650440071504469, 'kTargetDeterminationTrials': 7, 'kAttractionRatio': 0.0789462436080112, 'kMaxAttractionDistance': 5, 'kStartAttraction': 0.07448714235103712}. Best is trial 36 with value: 8391.417525773197.\u001b[0m\n"
     ]
    },
    {
     "name": "stdout",
     "output_type": "stream",
     "text": [
      "index_parallel='0038'\n"
     ]
    },
    {
     "name": "stderr",
     "output_type": "stream",
     "text": [
      "\u001b[32m[I 2022-08-15 23:55:20,296]\u001b[0m Trial 38 finished with value: 8276.685567010309 and parameters: {'kErase': 2, 'kRadius': 6, 'kAnnealingA': 0.8990587163076813, 'kAnnealingB': 2.3295947124524305, 'kAnnealingStart': 15.80768545402275, 'kSkipRatio': 0.4111446480671833, 'kTargetDeterminationTrials': 15, 'kAttractionRatio': 0.0355118248495065, 'kMaxAttractionDistance': 7, 'kStartAttraction': 0.04149553636500672}. Best is trial 36 with value: 8391.417525773197.\u001b[0m\n"
     ]
    },
    {
     "name": "stdout",
     "output_type": "stream",
     "text": [
      "index_parallel='0039'\n"
     ]
    },
    {
     "name": "stderr",
     "output_type": "stream",
     "text": [
      "\u001b[32m[I 2022-08-15 23:59:03,971]\u001b[0m Trial 39 finished with value: 8356.335051546392 and parameters: {'kErase': 1, 'kRadius': 6, 'kAnnealingA': 1.3270875781396967, 'kAnnealingB': 2.465747136443568, 'kAnnealingStart': 13.570438200424515, 'kSkipRatio': 0.40740271846443143, 'kTargetDeterminationTrials': 8, 'kAttractionRatio': 0.03858618900412232, 'kMaxAttractionDistance': 8, 'kStartAttraction': 0.04047433215435962}. Best is trial 36 with value: 8391.417525773197.\u001b[0m\n"
     ]
    },
    {
     "name": "stdout",
     "output_type": "stream",
     "text": [
      "index_parallel='0040'\n"
     ]
    },
    {
     "name": "stderr",
     "output_type": "stream",
     "text": [
      "\u001b[32m[I 2022-08-16 00:02:48,093]\u001b[0m Trial 40 finished with value: 8307.551546391753 and parameters: {'kErase': 2, 'kRadius': 6, 'kAnnealingA': 1.0957589512503627, 'kAnnealingB': 2.4953341711372317, 'kAnnealingStart': 14.498538191278085, 'kSkipRatio': 0.4188925779201741, 'kTargetDeterminationTrials': 6, 'kAttractionRatio': 0.039581008549958836, 'kMaxAttractionDistance': 7, 'kStartAttraction': 0.06235858414423113}. Best is trial 36 with value: 8391.417525773197.\u001b[0m\n"
     ]
    },
    {
     "name": "stdout",
     "output_type": "stream",
     "text": [
      "index_parallel='0041'\n"
     ]
    },
    {
     "name": "stderr",
     "output_type": "stream",
     "text": [
      "\u001b[32m[I 2022-08-16 00:06:32,319]\u001b[0m Trial 41 finished with value: 8134.046391752578 and parameters: {'kErase': 2, 'kRadius': 6, 'kAnnealingA': -0.6905528259937208, 'kAnnealingB': 2.4433938505851325, 'kAnnealingStart': 15.232378771730259, 'kSkipRatio': 0.3848527344430587, 'kTargetDeterminationTrials': 6, 'kAttractionRatio': 0.04226914820600446, 'kMaxAttractionDistance': 7, 'kStartAttraction': 0.06077932096556758}. Best is trial 36 with value: 8391.417525773197.\u001b[0m\n"
     ]
    },
    {
     "name": "stdout",
     "output_type": "stream",
     "text": [
      "index_parallel='0042'\n"
     ]
    },
    {
     "name": "stderr",
     "output_type": "stream",
     "text": [
      "\u001b[32m[I 2022-08-16 00:10:16,326]\u001b[0m Trial 42 finished with value: 8121.515463917526 and parameters: {'kErase': 2, 'kRadius': 6, 'kAnnealingA': 1.0073049238500396, 'kAnnealingB': 2.2067141398513326, 'kAnnealingStart': 22.21599690478956, 'kSkipRatio': 0.4182177673711853, 'kTargetDeterminationTrials': 8, 'kAttractionRatio': 0.03635741922913167, 'kMaxAttractionDistance': 11, 'kStartAttraction': 0.04588738438731117}. Best is trial 36 with value: 8391.417525773197.\u001b[0m\n"
     ]
    },
    {
     "name": "stdout",
     "output_type": "stream",
     "text": [
      "index_parallel='0043'\n"
     ]
    },
    {
     "name": "stderr",
     "output_type": "stream",
     "text": [
      "\u001b[32m[I 2022-08-16 00:14:00,374]\u001b[0m Trial 43 finished with value: 8158.422680412371 and parameters: {'kErase': 1, 'kRadius': 6, 'kAnnealingA': 1.4425344710788894, 'kAnnealingB': 1.908533081400413, 'kAnnealingStart': 11.147937390186511, 'kSkipRatio': 0.46016844691885694, 'kTargetDeterminationTrials': 6, 'kAttractionRatio': 0.05679955085622158, 'kMaxAttractionDistance': 5, 'kStartAttraction': 0.07599531379457944}. Best is trial 36 with value: 8391.417525773197.\u001b[0m\n"
     ]
    },
    {
     "name": "stdout",
     "output_type": "stream",
     "text": [
      "index_parallel='0044'\n"
     ]
    },
    {
     "name": "stderr",
     "output_type": "stream",
     "text": [
      "\u001b[32m[I 2022-08-16 00:17:44,305]\u001b[0m Trial 44 finished with value: 8301.164948453608 and parameters: {'kErase': 2, 'kRadius': 6, 'kAnnealingA': 5.318013800654609, 'kAnnealingB': 2.997434278325467, 'kAnnealingStart': 13.86735495168318, 'kSkipRatio': 0.5217241652176219, 'kTargetDeterminationTrials': 9, 'kAttractionRatio': 0.08568200768669272, 'kMaxAttractionDistance': 7, 'kStartAttraction': 0.026352890069889837}. Best is trial 36 with value: 8391.417525773197.\u001b[0m\n"
     ]
    },
    {
     "name": "stdout",
     "output_type": "stream",
     "text": [
      "index_parallel='0045'\n"
     ]
    },
    {
     "name": "stderr",
     "output_type": "stream",
     "text": [
      "\u001b[32m[I 2022-08-16 00:21:28,669]\u001b[0m Trial 45 finished with value: 8177.005154639175 and parameters: {'kErase': 3, 'kRadius': 5, 'kAnnealingA': 5.67064497338199, 'kAnnealingB': 2.8370019016854555, 'kAnnealingStart': 23.3042588122231, 'kSkipRatio': 0.5365637883286104, 'kTargetDeterminationTrials': 4, 'kAttractionRatio': 0.07405172790961462, 'kMaxAttractionDistance': 9, 'kStartAttraction': 0.026946442933048473}. Best is trial 36 with value: 8391.417525773197.\u001b[0m\n"
     ]
    },
    {
     "name": "stdout",
     "output_type": "stream",
     "text": [
      "index_parallel='0046'\n"
     ]
    },
    {
     "name": "stderr",
     "output_type": "stream",
     "text": [
      "\u001b[32m[I 2022-08-16 00:25:12,335]\u001b[0m Trial 46 finished with value: 8415.664948453608 and parameters: {'kErase': 1, 'kRadius': 6, 'kAnnealingA': 4.9725315844012155, 'kAnnealingB': 2.967574858431701, 'kAnnealingStart': 9.43867357120782, 'kSkipRatio': 0.4614582333753481, 'kTargetDeterminationTrials': 8, 'kAttractionRatio': 0.08693413615661037, 'kMaxAttractionDistance': 13, 'kStartAttraction': 0.09054823549061973}. Best is trial 46 with value: 8415.664948453608.\u001b[0m\n"
     ]
    },
    {
     "name": "stdout",
     "output_type": "stream",
     "text": [
      "Updated! 8415.664948453608\n",
      "index_parallel='0047'\n"
     ]
    },
    {
     "name": "stderr",
     "output_type": "stream",
     "text": [
      "\u001b[32m[I 2022-08-16 00:28:55,998]\u001b[0m Trial 47 finished with value: 8486.463917525773 and parameters: {'kErase': 1, 'kRadius': 6, 'kAnnealingA': 5.23638281672035, 'kAnnealingB': 2.97923444429591, 'kAnnealingStart': 9.343000323692651, 'kSkipRatio': 0.47417061256298015, 'kTargetDeterminationTrials': 6, 'kAttractionRatio': 0.09001099854328772, 'kMaxAttractionDistance': 14, 'kStartAttraction': 0.1883257309604}. Best is trial 47 with value: 8486.463917525773.\u001b[0m\n"
     ]
    },
    {
     "name": "stdout",
     "output_type": "stream",
     "text": [
      "Updated! 8486.463917525773\n",
      "index_parallel='0048'\n"
     ]
    },
    {
     "name": "stderr",
     "output_type": "stream",
     "text": [
      "\u001b[32m[I 2022-08-16 00:32:39,598]\u001b[0m Trial 48 finished with value: 8442.59793814433 and parameters: {'kErase': 1, 'kRadius': 6, 'kAnnealingA': 3.129228762838415, 'kAnnealingB': 2.613627538563596, 'kAnnealingStart': 9.284826531503088, 'kSkipRatio': 0.4403927094977709, 'kTargetDeterminationTrials': 6, 'kAttractionRatio': 0.060768105262489866, 'kMaxAttractionDistance': 13, 'kStartAttraction': 0.19585129805952955}. Best is trial 47 with value: 8486.463917525773.\u001b[0m\n"
     ]
    },
    {
     "name": "stdout",
     "output_type": "stream",
     "text": [
      "index_parallel='0049'\n"
     ]
    },
    {
     "name": "stderr",
     "output_type": "stream",
     "text": [
      "\u001b[32m[I 2022-08-16 00:36:23,438]\u001b[0m Trial 49 finished with value: 8456.680412371134 and parameters: {'kErase': 1, 'kRadius': 6, 'kAnnealingA': 6.662151724174298, 'kAnnealingB': 2.6161809787449353, 'kAnnealingStart': 9.161125365715614, 'kSkipRatio': 0.4646402207798904, 'kTargetDeterminationTrials': 3, 'kAttractionRatio': 0.05509280540844291, 'kMaxAttractionDistance': 14, 'kStartAttraction': 0.30139618210423497}. Best is trial 47 with value: 8486.463917525773.\u001b[0m\n"
     ]
    },
    {
     "name": "stdout",
     "output_type": "stream",
     "text": [
      "index_parallel='0050'\n"
     ]
    },
    {
     "name": "stderr",
     "output_type": "stream",
     "text": [
      "\u001b[32m[I 2022-08-16 00:40:07,028]\u001b[0m Trial 50 finished with value: 8514.701030927836 and parameters: {'kErase': 1, 'kRadius': 5, 'kAnnealingA': 6.872621375584846, 'kAnnealingB': 2.8542280792468, 'kAnnealingStart': 7.024543729344681, 'kSkipRatio': 0.47124272083299096, 'kTargetDeterminationTrials': 3, 'kAttractionRatio': 0.054814732174467834, 'kMaxAttractionDistance': 14, 'kStartAttraction': 0.2004055253054319}. Best is trial 50 with value: 8514.701030927836.\u001b[0m\n"
     ]
    },
    {
     "name": "stdout",
     "output_type": "stream",
     "text": [
      "Updated! 8514.701030927836\n",
      "index_parallel='0051'\n"
     ]
    },
    {
     "name": "stderr",
     "output_type": "stream",
     "text": [
      "\u001b[32m[I 2022-08-16 00:43:50,925]\u001b[0m Trial 51 finished with value: 8549.427835051547 and parameters: {'kErase': 1, 'kRadius': 5, 'kAnnealingA': 6.868145992966177, 'kAnnealingB': 2.8642886645596457, 'kAnnealingStart': 7.851116111912642, 'kSkipRatio': 0.4722312001820127, 'kTargetDeterminationTrials': 3, 'kAttractionRatio': 0.0555242255214196, 'kMaxAttractionDistance': 14, 'kStartAttraction': 0.3094991638280989}. Best is trial 51 with value: 8549.427835051547.\u001b[0m\n"
     ]
    },
    {
     "name": "stdout",
     "output_type": "stream",
     "text": [
      "Updated! 8549.427835051547\n",
      "index_parallel='0052'\n"
     ]
    },
    {
     "name": "stderr",
     "output_type": "stream",
     "text": [
      "\u001b[32m[I 2022-08-16 00:47:34,515]\u001b[0m Trial 52 finished with value: 8457.448453608247 and parameters: {'kErase': 1, 'kRadius': 5, 'kAnnealingA': 6.754515679924818, 'kAnnealingB': 2.8692888693785936, 'kAnnealingStart': 7.9786983211002145, 'kSkipRatio': 0.4655529341192502, 'kTargetDeterminationTrials': 3, 'kAttractionRatio': 0.0515893590680498, 'kMaxAttractionDistance': 14, 'kStartAttraction': 0.31435676802010054}. Best is trial 51 with value: 8549.427835051547.\u001b[0m\n"
     ]
    },
    {
     "name": "stdout",
     "output_type": "stream",
     "text": [
      "index_parallel='0053'\n"
     ]
    },
    {
     "name": "stderr",
     "output_type": "stream",
     "text": [
      "\u001b[32m[I 2022-08-16 00:51:18,179]\u001b[0m Trial 53 finished with value: 8522.840206185567 and parameters: {'kErase': 1, 'kRadius': 5, 'kAnnealingA': 7.484292409208103, 'kAnnealingB': 2.6672476014444513, 'kAnnealingStart': 7.647705819319027, 'kSkipRatio': 0.4970893920042184, 'kTargetDeterminationTrials': 3, 'kAttractionRatio': 0.05325571037270057, 'kMaxAttractionDistance': 15, 'kStartAttraction': 0.1807402822336382}. Best is trial 51 with value: 8549.427835051547.\u001b[0m\n"
     ]
    },
    {
     "name": "stdout",
     "output_type": "stream",
     "text": [
      "index_parallel='0054'\n"
     ]
    },
    {
     "name": "stderr",
     "output_type": "stream",
     "text": [
      "\u001b[32m[I 2022-08-16 00:55:01,835]\u001b[0m Trial 54 finished with value: 8471.809278350516 and parameters: {'kErase': 1, 'kRadius': 5, 'kAnnealingA': 8.714423637576672, 'kAnnealingB': 2.8407467928191537, 'kAnnealingStart': 7.408127313257006, 'kSkipRatio': 0.5009067927614241, 'kTargetDeterminationTrials': 3, 'kAttractionRatio': 0.05194496030466669, 'kMaxAttractionDistance': 16, 'kStartAttraction': 0.3156220522836053}. Best is trial 51 with value: 8549.427835051547.\u001b[0m\n"
     ]
    },
    {
     "name": "stdout",
     "output_type": "stream",
     "text": [
      "index_parallel='0055'\n"
     ]
    },
    {
     "name": "stderr",
     "output_type": "stream",
     "text": [
      "\u001b[32m[I 2022-08-16 00:58:45,632]\u001b[0m Trial 55 finished with value: 8497.19587628866 and parameters: {'kErase': 1, 'kRadius': 5, 'kAnnealingA': 8.07473799572568, 'kAnnealingB': 2.8118595822501833, 'kAnnealingStart': 6.963855878376117, 'kSkipRatio': 0.4861958503649727, 'kTargetDeterminationTrials': 3, 'kAttractionRatio': 0.048598753161373166, 'kMaxAttractionDistance': 17, 'kStartAttraction': 0.3731378640832325}. Best is trial 51 with value: 8549.427835051547.\u001b[0m\n"
     ]
    },
    {
     "name": "stdout",
     "output_type": "stream",
     "text": [
      "index_parallel='0056'\n"
     ]
    },
    {
     "name": "stderr",
     "output_type": "stream",
     "text": [
      "\u001b[32m[I 2022-08-16 01:02:29,416]\u001b[0m Trial 56 finished with value: 8380.752577319588 and parameters: {'kErase': 1, 'kRadius': 5, 'kAnnealingA': 9.122904144282412, 'kAnnealingB': 2.801039599031466, 'kAnnealingStart': 5.962374326308811, 'kSkipRatio': 0.49896446361141367, 'kTargetDeterminationTrials': 2, 'kAttractionRatio': 0.03098830986238407, 'kMaxAttractionDistance': 17, 'kStartAttraction': 0.6314327940024236}. Best is trial 51 with value: 8549.427835051547.\u001b[0m\n"
     ]
    },
    {
     "name": "stdout",
     "output_type": "stream",
     "text": [
      "index_parallel='0057'\n"
     ]
    },
    {
     "name": "stderr",
     "output_type": "stream",
     "text": [
      "\u001b[32m[I 2022-08-16 01:06:13,252]\u001b[0m Trial 57 finished with value: 8221.768041237114 and parameters: {'kErase': 1, 'kRadius': 5, 'kAnnealingA': 8.442283205557187, 'kAnnealingB': 2.7037283110569263, 'kAnnealingStart': 6.96532243063138, 'kSkipRatio': 0.5014740143541064, 'kTargetDeterminationTrials': 4, 'kAttractionRatio': 0.022685983083600682, 'kMaxAttractionDistance': 21, 'kStartAttraction': 0.1758720774162632}. Best is trial 51 with value: 8549.427835051547.\u001b[0m\n"
     ]
    },
    {
     "name": "stdout",
     "output_type": "stream",
     "text": [
      "index_parallel='0058'\n"
     ]
    },
    {
     "name": "stderr",
     "output_type": "stream",
     "text": [
      "\u001b[32m[I 2022-08-16 01:09:57,272]\u001b[0m Trial 58 finished with value: 8537.969072164948 and parameters: {'kErase': 1, 'kRadius': 5, 'kAnnealingA': 7.957583477568737, 'kAnnealingB': 2.898265697053602, 'kAnnealingStart': 11.679509622345252, 'kSkipRatio': 0.5705191697801065, 'kTargetDeterminationTrials': 2, 'kAttractionRatio': 0.06572039946724305, 'kMaxAttractionDistance': 16, 'kStartAttraction': 0.24326428623828147}. Best is trial 51 with value: 8549.427835051547.\u001b[0m\n"
     ]
    },
    {
     "name": "stdout",
     "output_type": "stream",
     "text": [
      "index_parallel='0059'\n"
     ]
    },
    {
     "name": "stderr",
     "output_type": "stream",
     "text": [
      "\u001b[32m[I 2022-08-16 01:13:40,817]\u001b[0m Trial 59 finished with value: 8472.082474226803 and parameters: {'kErase': 1, 'kRadius': 5, 'kAnnealingA': 7.049318139451662, 'kAnnealingB': 2.9101235528194236, 'kAnnealingStart': 11.000692929678443, 'kSkipRatio': 0.576405537637965, 'kTargetDeterminationTrials': 2, 'kAttractionRatio': 0.0685449401505031, 'kMaxAttractionDistance': 20, 'kStartAttraction': 0.23505214358273235}. Best is trial 51 with value: 8549.427835051547.\u001b[0m\n"
     ]
    },
    {
     "name": "stdout",
     "output_type": "stream",
     "text": [
      "index_parallel='0060'\n"
     ]
    },
    {
     "name": "stderr",
     "output_type": "stream",
     "text": [
      "\u001b[32m[I 2022-08-16 01:17:24,387]\u001b[0m Trial 60 finished with value: 8417.38144329897 and parameters: {'kErase': 1, 'kRadius': 5, 'kAnnealingA': 8.05767600410514, 'kAnnealingB': 2.995347448948821, 'kAnnealingStart': 18.120609521245903, 'kSkipRatio': 0.562454310495832, 'kTargetDeterminationTrials': 4, 'kAttractionRatio': 0.10297074097724299, 'kMaxAttractionDistance': 11, 'kStartAttraction': 0.4501238066573576}. Best is trial 51 with value: 8549.427835051547.\u001b[0m\n"
     ]
    },
    {
     "name": "stdout",
     "output_type": "stream",
     "text": [
      "index_parallel='0061'\n"
     ]
    },
    {
     "name": "stderr",
     "output_type": "stream",
     "text": [
      "\u001b[32m[I 2022-08-16 01:21:08,214]\u001b[0m Trial 61 finished with value: 8455.974226804125 and parameters: {'kErase': 1, 'kRadius': 5, 'kAnnealingA': 6.856515478743523, 'kAnnealingB': 2.9038995341948253, 'kAnnealingStart': 10.501739951544517, 'kSkipRatio': 0.5824188961503055, 'kTargetDeterminationTrials': 2, 'kAttractionRatio': 0.06902957819792042, 'kMaxAttractionDistance': 19, 'kStartAttraction': 0.23302885654822034}. Best is trial 51 with value: 8549.427835051547.\u001b[0m\n"
     ]
    },
    {
     "name": "stdout",
     "output_type": "stream",
     "text": [
      "index_parallel='0062'\n"
     ]
    },
    {
     "name": "stderr",
     "output_type": "stream",
     "text": [
      "\u001b[32m[I 2022-08-16 01:24:51,923]\u001b[0m Trial 62 finished with value: 8484.432989690722 and parameters: {'kErase': 1, 'kRadius': 5, 'kAnnealingA': 7.623455389180961, 'kAnnealingB': 2.7610461373741604, 'kAnnealingStart': 11.662709023836415, 'kSkipRatio': 0.5127176352818238, 'kTargetDeterminationTrials': 2, 'kAttractionRatio': 0.06455151348886579, 'kMaxAttractionDistance': 16, 'kStartAttraction': 0.15018022384255011}. Best is trial 51 with value: 8549.427835051547.\u001b[0m\n"
     ]
    },
    {
     "name": "stdout",
     "output_type": "stream",
     "text": [
      "index_parallel='0063'\n"
     ]
    },
    {
     "name": "stderr",
     "output_type": "stream",
     "text": [
      "\u001b[32m[I 2022-08-16 01:28:35,657]\u001b[0m Trial 63 finished with value: 8481.298969072164 and parameters: {'kErase': 1, 'kRadius': 5, 'kAnnealingA': 6.2829129781608515, 'kAnnealingB': 2.7482751352473045, 'kAnnealingStart': 6.572732074313943, 'kSkipRatio': 0.47986765896800576, 'kTargetDeterminationTrials': 3, 'kAttractionRatio': 0.047219884541045636, 'kMaxAttractionDistance': 16, 'kStartAttraction': 0.1428199435981993}. Best is trial 51 with value: 8549.427835051547.\u001b[0m\n"
     ]
    },
    {
     "name": "stdout",
     "output_type": "stream",
     "text": [
      "index_parallel='0064'\n"
     ]
    },
    {
     "name": "stderr",
     "output_type": "stream",
     "text": [
      "\u001b[32m[I 2022-08-16 01:32:19,372]\u001b[0m Trial 64 finished with value: 8282.41237113402 and parameters: {'kErase': 1, 'kRadius': 4, 'kAnnealingA': 3.7148783005740613, 'kAnnealingB': 2.6076789102109985, 'kAnnealingStart': 5.656465816251541, 'kSkipRatio': 0.5263240557110829, 'kTargetDeterminationTrials': 2, 'kAttractionRatio': 0.031244238926877516, 'kMaxAttractionDistance': 23, 'kStartAttraction': 0.8087759368023162}. Best is trial 51 with value: 8549.427835051547.\u001b[0m\n"
     ]
    },
    {
     "name": "stdout",
     "output_type": "stream",
     "text": [
      "index_parallel='0065'\n"
     ]
    },
    {
     "name": "stderr",
     "output_type": "stream",
     "text": [
      "\u001b[32m[I 2022-08-16 01:36:03,857]\u001b[0m Trial 65 finished with value: 7340.649484536082 and parameters: {'kErase': 5, 'kRadius': 5, 'kAnnealingA': 7.693967553725215, 'kAnnealingB': 2.5806102464744014, 'kAnnealingStart': 11.268265523233975, 'kSkipRatio': 0.4829425648597377, 'kTargetDeterminationTrials': 4, 'kAttractionRatio': 0.0635500293231306, 'kMaxAttractionDistance': 15, 'kStartAttraction': 0.33365412585534715}. Best is trial 51 with value: 8549.427835051547.\u001b[0m\n"
     ]
    },
    {
     "name": "stdout",
     "output_type": "stream",
     "text": [
      "index_parallel='0066'\n"
     ]
    },
    {
     "name": "stderr",
     "output_type": "stream",
     "text": [
      "\u001b[32m[I 2022-08-16 01:39:47,774]\u001b[0m Trial 66 finished with value: 8514.484536082475 and parameters: {'kErase': 1, 'kRadius': 5, 'kAnnealingA': 10.886556054753642, 'kAnnealingB': 2.7521810582903083, 'kAnnealingStart': 7.796759326136038, 'kSkipRatio': 0.5121624653662363, 'kTargetDeterminationTrials': 2, 'kAttractionRatio': 0.11850967350007055, 'kMaxAttractionDistance': 18, 'kStartAttraction': 0.15686743958128543}. Best is trial 51 with value: 8549.427835051547.\u001b[0m\n"
     ]
    },
    {
     "name": "stdout",
     "output_type": "stream",
     "text": [
      "index_parallel='0067'\n"
     ]
    },
    {
     "name": "stderr",
     "output_type": "stream",
     "text": [
      "\u001b[32m[I 2022-08-16 01:43:31,505]\u001b[0m Trial 67 finished with value: 8461.664948453608 and parameters: {'kErase': 1, 'kRadius': 4, 'kAnnealingA': 12.713378731976984, 'kAnnealingB': 2.7006140390691886, 'kAnnealingStart': 7.713984117691856, 'kSkipRatio': 0.43895790477214575, 'kTargetDeterminationTrials': 5, 'kAttractionRatio': 0.1459804632458422, 'kMaxAttractionDistance': 30, 'kStartAttraction': 0.601893609219214}. Best is trial 51 with value: 8549.427835051547.\u001b[0m\n"
     ]
    },
    {
     "name": "stdout",
     "output_type": "stream",
     "text": [
      "index_parallel='0068'\n"
     ]
    },
    {
     "name": "stderr",
     "output_type": "stream",
     "text": [
      "\u001b[32m[I 2022-08-16 01:47:15,331]\u001b[0m Trial 68 finished with value: 8664.427835051547 and parameters: {'kErase': 1, 'kRadius': 5, 'kAnnealingA': 11.122688843820328, 'kAnnealingB': 2.901472574498433, 'kAnnealingStart': 6.259857894514214, 'kSkipRatio': 0.5554947250095075, 'kTargetDeterminationTrials': 3, 'kAttractionRatio': 0.12218752965345814, 'kMaxAttractionDistance': 10, 'kStartAttraction': 0.41558590164829584}. Best is trial 68 with value: 8664.427835051547.\u001b[0m\n"
     ]
    },
    {
     "name": "stdout",
     "output_type": "stream",
     "text": [
      "Updated! 8664.427835051547\n",
      "index_parallel='0069'\n"
     ]
    },
    {
     "name": "stderr",
     "output_type": "stream",
     "text": [
      "\u001b[32m[I 2022-08-16 01:50:59,200]\u001b[0m Trial 69 finished with value: 8625.917525773197 and parameters: {'kErase': 1, 'kRadius': 5, 'kAnnealingA': 11.293402313726066, 'kAnnealingB': 2.513875088247831, 'kAnnealingStart': 5.442267425367678, 'kSkipRatio': 0.5986747373816217, 'kTargetDeterminationTrials': 3, 'kAttractionRatio': 0.11965726815396759, 'kMaxAttractionDistance': 10, 'kStartAttraction': 0.37463286379257055}. Best is trial 68 with value: 8664.427835051547.\u001b[0m\n"
     ]
    },
    {
     "name": "stdout",
     "output_type": "stream",
     "text": [
      "index_parallel='0070'\n"
     ]
    },
    {
     "name": "stderr",
     "output_type": "stream",
     "text": [
      "\u001b[32m[I 2022-08-16 01:54:43,433]\u001b[0m Trial 70 finished with value: 8452.79381443299 and parameters: {'kErase': 1, 'kRadius': 5, 'kAnnealingA': 13.882006209632294, 'kAnnealingB': 2.4427632263773593, 'kAnnealingStart': 3.2856915062828764, 'kSkipRatio': 0.6039191918022909, 'kTargetDeterminationTrials': 1, 'kAttractionRatio': 0.12368782362616625, 'kMaxAttractionDistance': 10, 'kStartAttraction': 0.5182852425894986}. Best is trial 68 with value: 8664.427835051547.\u001b[0m\n"
     ]
    },
    {
     "name": "stdout",
     "output_type": "stream",
     "text": [
      "index_parallel='0071'\n"
     ]
    },
    {
     "name": "stderr",
     "output_type": "stream",
     "text": [
      "\u001b[32m[I 2022-08-16 01:58:26,911]\u001b[0m Trial 71 finished with value: 8555.407216494845 and parameters: {'kErase': 1, 'kRadius': 5, 'kAnnealingA': 10.852160746851494, 'kAnnealingB': 2.553768005406784, 'kAnnealingStart': 5.472381556011097, 'kSkipRatio': 0.5462324051457331, 'kTargetDeterminationTrials': 3, 'kAttractionRatio': 0.15198330632875057, 'kMaxAttractionDistance': 10, 'kStartAttraction': 0.26622568757686565}. Best is trial 68 with value: 8664.427835051547.\u001b[0m\n"
     ]
    },
    {
     "name": "stdout",
     "output_type": "stream",
     "text": [
      "index_parallel='0072'\n"
     ]
    },
    {
     "name": "stderr",
     "output_type": "stream",
     "text": [
      "\u001b[32m[I 2022-08-16 02:02:10,521]\u001b[0m Trial 72 finished with value: 8550.773195876289 and parameters: {'kErase': 1, 'kRadius': 5, 'kAnnealingA': 11.209761130280679, 'kAnnealingB': 2.549931982348046, 'kAnnealingStart': 3.669751906880098, 'kSkipRatio': 0.5519918283520704, 'kTargetDeterminationTrials': 3, 'kAttractionRatio': 0.15401305875112423, 'kMaxAttractionDistance': 10, 'kStartAttraction': 0.2701403129474913}. Best is trial 68 with value: 8664.427835051547.\u001b[0m\n"
     ]
    },
    {
     "name": "stdout",
     "output_type": "stream",
     "text": [
      "index_parallel='0073'\n"
     ]
    },
    {
     "name": "stderr",
     "output_type": "stream",
     "text": [
      "\u001b[32m[I 2022-08-16 02:05:54,486]\u001b[0m Trial 73 finished with value: 8525.680412371134 and parameters: {'kErase': 1, 'kRadius': 5, 'kAnnealingA': 9.589454070452787, 'kAnnealingB': 2.5364800793947775, 'kAnnealingStart': 3.6454069953262453, 'kSkipRatio': 0.550436471916346, 'kTargetDeterminationTrials': 3, 'kAttractionRatio': 0.1544205165983425, 'kMaxAttractionDistance': 10, 'kStartAttraction': 0.2519307867831781}. Best is trial 68 with value: 8664.427835051547.\u001b[0m\n"
     ]
    },
    {
     "name": "stdout",
     "output_type": "stream",
     "text": [
      "index_parallel='0074'\n"
     ]
    },
    {
     "name": "stderr",
     "output_type": "stream",
     "text": [
      "\u001b[32m[I 2022-08-16 02:09:38,269]\u001b[0m Trial 74 finished with value: 8545.546391752578 and parameters: {'kErase': 1, 'kRadius': 5, 'kAnnealingA': 9.706693764212591, 'kAnnealingB': 2.5375139013946977, 'kAnnealingStart': 2.7232452160255374, 'kSkipRatio': 0.5568534688256762, 'kTargetDeterminationTrials': 5, 'kAttractionRatio': 0.15635884595352284, 'kMaxAttractionDistance': 10, 'kStartAttraction': 0.2767212254288782}. Best is trial 68 with value: 8664.427835051547.\u001b[0m\n"
     ]
    },
    {
     "name": "stdout",
     "output_type": "stream",
     "text": [
      "index_parallel='0075'\n"
     ]
    },
    {
     "name": "stderr",
     "output_type": "stream",
     "text": [
      "\u001b[32m[I 2022-08-16 02:13:21,853]\u001b[0m Trial 75 finished with value: 8448.788659793814 and parameters: {'kErase': 1, 'kRadius': 5, 'kAnnealingA': 11.24652919911389, 'kAnnealingB': 2.3937258565436212, 'kAnnealingStart': 2.8759131081994727, 'kSkipRatio': 0.5567406310848007, 'kTargetDeterminationTrials': 5, 'kAttractionRatio': 0.1626694217528675, 'kMaxAttractionDistance': 10, 'kStartAttraction': 0.25772403915470404}. Best is trial 68 with value: 8664.427835051547.\u001b[0m\n"
     ]
    },
    {
     "name": "stdout",
     "output_type": "stream",
     "text": [
      "index_parallel='0076'\n"
     ]
    },
    {
     "name": "stderr",
     "output_type": "stream",
     "text": [
      "\u001b[32m[I 2022-08-16 02:17:05,789]\u001b[0m Trial 76 finished with value: 8557.08762886598 and parameters: {'kErase': 1, 'kRadius': 4, 'kAnnealingA': 9.678208213065668, 'kAnnealingB': 2.547296949090013, 'kAnnealingStart': 2.6445285161954164, 'kSkipRatio': 0.6176834383754458, 'kTargetDeterminationTrials': 4, 'kAttractionRatio': 0.24270080868272173, 'kMaxAttractionDistance': 10, 'kStartAttraction': 0.511909034746127}. Best is trial 68 with value: 8664.427835051547.\u001b[0m\n"
     ]
    },
    {
     "name": "stdout",
     "output_type": "stream",
     "text": [
      "index_parallel='0077'\n"
     ]
    },
    {
     "name": "stderr",
     "output_type": "stream",
     "text": [
      "\u001b[32m[I 2022-08-16 02:20:49,268]\u001b[0m Trial 77 finished with value: 8717.90206185567 and parameters: {'kErase': 1, 'kRadius': 4, 'kAnnealingA': 12.482330290580158, 'kAnnealingB': 2.160242529407739, 'kAnnealingStart': 4.07978127363604, 'kSkipRatio': 0.6001948216741284, 'kTargetDeterminationTrials': 4, 'kAttractionRatio': 0.2415230553687283, 'kMaxAttractionDistance': 12, 'kStartAttraction': 0.46398205059035774}. Best is trial 77 with value: 8717.90206185567.\u001b[0m\n"
     ]
    },
    {
     "name": "stdout",
     "output_type": "stream",
     "text": [
      "Updated! 8717.90206185567\n",
      "index_parallel='0078'\n"
     ]
    },
    {
     "name": "stderr",
     "output_type": "stream",
     "text": [
      "\u001b[32m[I 2022-08-16 02:24:32,884]\u001b[0m Trial 78 finished with value: 8424.726804123711 and parameters: {'kErase': 1, 'kRadius': 4, 'kAnnealingA': 12.546769488019656, 'kAnnealingB': 2.0218197074120243, 'kAnnealingStart': 2.8730296491756793, 'kSkipRatio': 0.5948741088326984, 'kTargetDeterminationTrials': 4, 'kAttractionRatio': 0.215120737679691, 'kMaxAttractionDistance': 12, 'kStartAttraction': 0.8986229839887081}. Best is trial 77 with value: 8717.90206185567.\u001b[0m\n"
     ]
    },
    {
     "name": "stdout",
     "output_type": "stream",
     "text": [
      "index_parallel='0079'\n"
     ]
    },
    {
     "name": "stderr",
     "output_type": "stream",
     "text": [
      "\u001b[32m[I 2022-08-16 02:28:16,983]\u001b[0m Trial 79 finished with value: 8568.701030927836 and parameters: {'kErase': 1, 'kRadius': 4, 'kAnnealingA': 14.874040753653643, 'kAnnealingB': 2.158355201260238, 'kAnnealingStart': 4.13690194297422, 'kSkipRatio': 0.5909994488310316, 'kTargetDeterminationTrials': 5, 'kAttractionRatio': 0.24265470003899767, 'kMaxAttractionDistance': 9, 'kStartAttraction': 0.5356686634127009}. Best is trial 77 with value: 8717.90206185567.\u001b[0m\n"
     ]
    },
    {
     "name": "stdout",
     "output_type": "stream",
     "text": [
      "index_parallel='0080'\n"
     ]
    },
    {
     "name": "stderr",
     "output_type": "stream",
     "text": [
      "\u001b[32m[I 2022-08-16 02:32:00,766]\u001b[0m Trial 80 finished with value: 8580.360824742267 and parameters: {'kErase': 1, 'kRadius': 4, 'kAnnealingA': 14.538505424611392, 'kAnnealingB': 2.1680634944603723, 'kAnnealingStart': 3.9569320905521934, 'kSkipRatio': 0.61867576161378, 'kTargetDeterminationTrials': 4, 'kAttractionRatio': 0.24818911594617987, 'kMaxAttractionDistance': 9, 'kStartAttraction': 0.5046988501434512}. Best is trial 77 with value: 8717.90206185567.\u001b[0m\n"
     ]
    },
    {
     "name": "stdout",
     "output_type": "stream",
     "text": [
      "index_parallel='0081'\n"
     ]
    }
   ],
   "source": [
    "study.optimize(\n",
    "    partial(objective, in_dir=in_dir, work_dir=work_dir),\n",
    "    n_trials=3000,\n",
    "    timeout=86400,\n",
    "    callbacks=[callback]\n",
    ")"
   ]
  },
  {
   "cell_type": "code",
   "execution_count": null,
   "id": "700269d2",
   "metadata": {},
   "outputs": [],
   "source": []
  }
 ],
 "metadata": {
  "kernelspec": {
   "display_name": "Python 3 (ipykernel)",
   "language": "python",
   "name": "python3"
  },
  "language_info": {
   "codemirror_mode": {
    "name": "ipython",
    "version": 3
   },
   "file_extension": ".py",
   "mimetype": "text/x-python",
   "name": "python",
   "nbconvert_exporter": "python",
   "pygments_lexer": "ipython3",
   "version": "3.9.12"
  }
 },
 "nbformat": 4,
 "nbformat_minor": 5
}
