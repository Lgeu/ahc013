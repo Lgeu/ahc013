{
 "cells": [
  {
   "cell_type": "code",
   "execution_count": 1,
   "id": "25a1dac8",
   "metadata": {},
   "outputs": [],
   "source": [
    "import re\n",
    "import sys\n",
    "from uuid import uuid1\n",
    "from time import sleep\n",
    "from pprint import pprint\n",
    "from pathlib import Path\n",
    "from tempfile import gettempdir\n",
    "from threading import Thread\n",
    "from functools import partial\n",
    "from subprocess import Popen, PIPE\n",
    "\n",
    "from tqdm.notebook import tqdm\n",
    "import numpy as np\n",
    "import optuna\n",
    "import pandas as pd\n",
    "import matplotlib.pyplot as plt\n",
    "\n",
    "FILENAME = \"main.cpp\""
   ]
  },
  {
   "cell_type": "code",
   "execution_count": 2,
   "id": "3dd4d02e",
   "metadata": {},
   "outputs": [
    {
     "name": "stdout",
     "output_type": "stream",
     "text": [
      "10 variables were found.\n"
     ]
    },
    {
     "data": {
      "text/html": [
       "<div>\n",
       "<style scoped>\n",
       "    .dataframe tbody tr th:only-of-type {\n",
       "        vertical-align: middle;\n",
       "    }\n",
       "\n",
       "    .dataframe tbody tr th {\n",
       "        vertical-align: top;\n",
       "    }\n",
       "\n",
       "    .dataframe thead th {\n",
       "        text-align: right;\n",
       "    }\n",
       "</style>\n",
       "<table border=\"1\" class=\"dataframe\">\n",
       "  <thead>\n",
       "    <tr style=\"text-align: right;\">\n",
       "      <th></th>\n",
       "      <th>name</th>\n",
       "      <th>method</th>\n",
       "      <th>min</th>\n",
       "      <th>max</th>\n",
       "      <th>log</th>\n",
       "      <th>left</th>\n",
       "      <th>right</th>\n",
       "    </tr>\n",
       "  </thead>\n",
       "  <tbody>\n",
       "    <tr>\n",
       "      <th>0</th>\n",
       "      <td>kErase</td>\n",
       "      <td>suggest_int</td>\n",
       "      <td>1.000</td>\n",
       "      <td>5.0</td>\n",
       "      <td>False</td>\n",
       "      <td>static constexpr auto kErase =</td>\n",
       "      <td>;             // OPTIMIZE [1, 5]</td>\n",
       "    </tr>\n",
       "    <tr>\n",
       "      <th>1</th>\n",
       "      <td>kRadius</td>\n",
       "      <td>suggest_int</td>\n",
       "      <td>2.000</td>\n",
       "      <td>6.0</td>\n",
       "      <td>False</td>\n",
       "      <td>static constexpr auto kRadius =</td>\n",
       "      <td>;            // OPTIMIZE [2, 6]</td>\n",
       "    </tr>\n",
       "    <tr>\n",
       "      <th>2</th>\n",
       "      <td>kAnnealingA</td>\n",
       "      <td>suggest_float</td>\n",
       "      <td>-15.000</td>\n",
       "      <td>15.0</td>\n",
       "      <td>False</td>\n",
       "      <td>static constexpr auto kAnnealingA =</td>\n",
       "      <td>;      // OPTIMIZE [-15.0, 15.0]</td>\n",
       "    </tr>\n",
       "    <tr>\n",
       "      <th>3</th>\n",
       "      <td>kAnnealingB</td>\n",
       "      <td>suggest_float</td>\n",
       "      <td>0.000</td>\n",
       "      <td>3.0</td>\n",
       "      <td>False</td>\n",
       "      <td>static constexpr auto kAnnealingB =</td>\n",
       "      <td>;      // OPTIMIZE [0.0, 3.0]</td>\n",
       "    </tr>\n",
       "    <tr>\n",
       "      <th>4</th>\n",
       "      <td>kAnnealingStart</td>\n",
       "      <td>suggest_float</td>\n",
       "      <td>1.000</td>\n",
       "      <td>100.0</td>\n",
       "      <td>True</td>\n",
       "      <td>static constexpr auto kAnnealingStart =</td>\n",
       "      <td>; // OPTIMIZE LOG [1.0, 100.0]</td>\n",
       "    </tr>\n",
       "    <tr>\n",
       "      <th>5</th>\n",
       "      <td>kSkipRatio</td>\n",
       "      <td>suggest_float</td>\n",
       "      <td>0.200</td>\n",
       "      <td>0.8</td>\n",
       "      <td>False</td>\n",
       "      <td>static constexpr auto kSkipRatio =</td>\n",
       "      <td>;       // OPTIMIZE [0.2, 0.8]</td>\n",
       "    </tr>\n",
       "    <tr>\n",
       "      <th>6</th>\n",
       "      <td>kTargetDeterminationTrials</td>\n",
       "      <td>suggest_int</td>\n",
       "      <td>1.000</td>\n",
       "      <td>20.0</td>\n",
       "      <td>True</td>\n",
       "      <td>static constexpr auto kTargetDeterminationTria...</td>\n",
       "      <td>; // OPTIMIZE LOG [1, 20]</td>\n",
       "    </tr>\n",
       "    <tr>\n",
       "      <th>7</th>\n",
       "      <td>kAttractionRatio</td>\n",
       "      <td>suggest_float</td>\n",
       "      <td>0.010</td>\n",
       "      <td>0.9</td>\n",
       "      <td>True</td>\n",
       "      <td>static constexpr auto kAttractionRatio =</td>\n",
       "      <td>;      // OPTIMIZE LOG [0.01, 0.9]</td>\n",
       "    </tr>\n",
       "    <tr>\n",
       "      <th>8</th>\n",
       "      <td>kMaxAttractionDistance</td>\n",
       "      <td>suggest_int</td>\n",
       "      <td>4.000</td>\n",
       "      <td>99.0</td>\n",
       "      <td>True</td>\n",
       "      <td>static constexpr auto kMaxAttractionDistance =</td>\n",
       "      <td>; // OPTIMIZE LOG [4, 99]</td>\n",
       "    </tr>\n",
       "    <tr>\n",
       "      <th>9</th>\n",
       "      <td>kStartAttraction</td>\n",
       "      <td>suggest_float</td>\n",
       "      <td>0.001</td>\n",
       "      <td>0.9</td>\n",
       "      <td>True</td>\n",
       "      <td>static constexpr auto kStartAttraction =</td>\n",
       "      <td>;     // OPTIMIZE LOG [0.001, 0.9]</td>\n",
       "    </tr>\n",
       "  </tbody>\n",
       "</table>\n",
       "</div>"
      ],
      "text/plain": [
       "                         name         method     min    max    log  \\\n",
       "0                      kErase    suggest_int   1.000    5.0  False   \n",
       "1                     kRadius    suggest_int   2.000    6.0  False   \n",
       "2                 kAnnealingA  suggest_float -15.000   15.0  False   \n",
       "3                 kAnnealingB  suggest_float   0.000    3.0  False   \n",
       "4             kAnnealingStart  suggest_float   1.000  100.0   True   \n",
       "5                  kSkipRatio  suggest_float   0.200    0.8  False   \n",
       "6  kTargetDeterminationTrials    suggest_int   1.000   20.0   True   \n",
       "7            kAttractionRatio  suggest_float   0.010    0.9   True   \n",
       "8      kMaxAttractionDistance    suggest_int   4.000   99.0   True   \n",
       "9            kStartAttraction  suggest_float   0.001    0.9   True   \n",
       "\n",
       "                                                left  \\\n",
       "0                    static constexpr auto kErase =    \n",
       "1                   static constexpr auto kRadius =    \n",
       "2               static constexpr auto kAnnealingA =    \n",
       "3               static constexpr auto kAnnealingB =    \n",
       "4           static constexpr auto kAnnealingStart =    \n",
       "5                static constexpr auto kSkipRatio =    \n",
       "6  static constexpr auto kTargetDeterminationTria...   \n",
       "7          static constexpr auto kAttractionRatio =    \n",
       "8    static constexpr auto kMaxAttractionDistance =    \n",
       "9          static constexpr auto kStartAttraction =    \n",
       "\n",
       "                                right  \n",
       "0    ;             // OPTIMIZE [1, 5]  \n",
       "1     ;            // OPTIMIZE [2, 6]  \n",
       "2    ;      // OPTIMIZE [-15.0, 15.0]  \n",
       "3       ;      // OPTIMIZE [0.0, 3.0]  \n",
       "4      ; // OPTIMIZE LOG [1.0, 100.0]  \n",
       "5      ;       // OPTIMIZE [0.2, 0.8]  \n",
       "6           ; // OPTIMIZE LOG [1, 20]  \n",
       "7  ;      // OPTIMIZE LOG [0.01, 0.9]  \n",
       "8           ; // OPTIMIZE LOG [4, 99]  \n",
       "9  ;     // OPTIMIZE LOG [0.001, 0.9]  "
      ]
     },
     "metadata": {},
     "output_type": "display_data"
    }
   ],
   "source": [
    "# ここでエラー出力は何かおかしいかもしれない\n",
    "\n",
    "\n",
    "# パラメータ抽出\n",
    "with open(FILENAME) as f:\n",
    "    answer = f.read()\n",
    "\n",
    "\n",
    "variables_optimize = []\n",
    "\n",
    "for left, value, right, options in re.findall(r\"^([^/\\n]*=\\s*)(.+?)(\\s*;\\s*//(?:.*\\W)?OPTIMIZE(\\W.*))$\", answer, re.MULTILINE):\n",
    "    name = left.replace(\"=\", \"\").strip().split()[-1]\n",
    "    \n",
    "    searched = re.search(r\".*\\[(?P<min>.*),(?P<max>.*)\\].*\", options)\n",
    "    if searched:\n",
    "        min_value = max_value = None\n",
    "        try:\n",
    "            min_value = eval(searched.group(\"min\"))\n",
    "            max_value = eval(searched.group(\"max\"))\n",
    "            assert min_value <= max_value\n",
    "        except Exception as e:\n",
    "            print(f\"searched={searched}\", file=sys.stderr)\n",
    "            print(e, file=sys.stderr)\n",
    "            continue\n",
    "        log = \"LOG\" in options  # 雑、直したほうが良い\n",
    "        if type(min_value) != type(max_value):\n",
    "            print(f\"searched={searched}\", file=sys.stderr)\n",
    "            print(\"types not matched\", file=sys.stderr)\n",
    "            continue\n",
    "        if isinstance(min_value, int):\n",
    "            method = \"suggest_int\"\n",
    "        elif isinstance(min_value, float):\n",
    "            method = \"suggest_float\"\n",
    "        else:\n",
    "            print(f\"searched={searched}\", file=sys.stderr)\n",
    "            print(f\"unknown type ({type(min_value)})\", file=sys.stderr)\n",
    "            continue\n",
    "        variables_optimize.append({\n",
    "            \"name\": name,\n",
    "            \"method\": method,\n",
    "            \"min\": min_value,\n",
    "            \"max\": max_value,\n",
    "            \"log\": log,\n",
    "            \"left\": left,\n",
    "            \"right\": right,\n",
    "        })\n",
    "    elif searched := re.search(r\".*\\{(?P<choices>.*?)\\}.*\", options):\n",
    "        choices = list(map(lambda x: x.strip(), searched.group(\"choices\").split(\",\")))\n",
    "        variables_optimize.append({\n",
    "            \"name\": name,\n",
    "            \"method\": \"suggest_categorical\",\n",
    "            \"choices\": choices,\n",
    "            \"left\": left,\n",
    "            \"right\": right,\n",
    "        })\n",
    "    else:\n",
    "        print(f\"searched={searched}\", file=sys.stderr)\n",
    "        print(f\"pattern was matched but options are incorrect.\", file=sys.stderr)\n",
    "\n",
    "print(len(variables_optimize), \"variables were found.\")\n",
    "if globals().get(\"pd\"):\n",
    "    display(pd.DataFrame(variables_optimize))\n",
    "else:\n",
    "    pprint(variables_optimize)"
   ]
  },
  {
   "cell_type": "code",
   "execution_count": 3,
   "id": "001042b9",
   "metadata": {},
   "outputs": [],
   "source": [
    "def escape(string):  # 正規表現の中でそのまま使いたい文字列をエスケープ\n",
    "    res = !echo '{string}' | sed -e 's/[]\\/$*.^[]/\\\\&/g'\n",
    "    return res[0]\n",
    "\n",
    "def escape_sed(string):  # sed の置換後の文字列用のエスケープ\n",
    "    res = !echo '{string}' | sed -e 's/[\\/&]/\\\\&/g'\n",
    "    return res[0]\n",
    "\n",
    "def read_stream(name, in_file, out_file):\n",
    "    for line in in_file:\n",
    "        print(f\"[{name}] {line.strip()}\", file=out_file)\n",
    "\n",
    "def run(cmd, name):\n",
    "    proc = Popen(cmd, stdout=PIPE, stderr=PIPE, universal_newlines=True, shell=isinstance(cmd, str))\n",
    "    stdout_thread = Thread(target=read_stream, args=(name, proc.stdout, sys.stdout))\n",
    "    stderr_thread = Thread(target=read_stream, args=(name, proc.stderr, sys.stderr))\n",
    "    stdout_thread.start()\n",
    "    stderr_thread.start()\n",
    "    proc.wait()\n",
    "    return proc\n",
    "\n",
    "def objective(trial, in_dir, work_dir):\n",
    "    n_internal_parallel = 3\n",
    "    \n",
    "    index_parallel = f\"{trial.number:04d}\"\n",
    "    print(f\"{index_parallel=}\")\n",
    "    \n",
    "    work_dir = Path(work_dir)\n",
    "    directory_input = Path(in_dir)  # 中のすべてのファイルに対して実行される\n",
    "    #parameters_changed_filename = Path(gettempdir()) / str(uuid1())\n",
    "    parameters_changed_filename = work_dir / f\"{index_parallel}_{FILENAME}\"\n",
    "    \n",
    "    run([\"mkdir\", f\"{work_dir / index_parallel}_out\"], \"mkdir\")\n",
    "    run([\"mkdir\", f\"{work_dir / index_parallel}_score\"], \"mkdir\")\n",
    "    \n",
    "    # ファイル作成\n",
    "    run(f\"cp {FILENAME} {parameters_changed_filename}\", \"cp\")\n",
    "    sed_options = [f\"-i {parameters_changed_filename}\"]\n",
    "    for variable in variables_optimize:\n",
    "        if variable[\"method\"] == \"suggest_categorical\":\n",
    "            val =  trial.suggest_categorical(variable[\"name\"], variable[\"choices\"])\n",
    "        else:\n",
    "            val = getattr(trial, variable[\"method\"])(variable[\"name\"], variable[\"min\"], variable[\"max\"], log=variable[\"log\"])\n",
    "        left = variable[\"left\"]\n",
    "        right = variable[\"right\"]\n",
    "        sed_options.append(f\"\"\"-e 's/^{escape(left)}.*{escape(right)}$/{escape_sed(left)}{val}{escape_sed(right)}/'\"\"\")\n",
    "    command_sed = f\"sed {' '.join(sed_options)}\"\n",
    "    #print(command_sed)\n",
    "    run(command_sed, \"sed\")\n",
    "    \n",
    "    # コンパイル\n",
    "    command_compile = f\"g++ {parameters_changed_filename} -std=gnu++17 -O2 -DONLINE_JUDGE -o {parameters_changed_filename}.out\"\n",
    "    #print(command_compile)\n",
    "    run(command_compile, \"compile\")\n",
    "    # 実行・採点コマンド (@ はファイル名)\n",
    "    command_exec = (\n",
    "        #f\"./a.out < ./tools/in/{i:04d}.txt > {out_file} && ./tools/target/release/vis ./tools/in/{i:04d}.txt {out_file}\"\n",
    "        #f\"../tools/target/release/tester $(pwd)/{parameters_changed_filename}.out < {directory_input}/@ 2>&1 | grep Score\"\n",
    "        #f\"../tools/target/release/tester $(pwd)/{parameters_changed_filename}.out < {directory_input}/@ 2>&1 | grep Score | sed -E s/[^0-9]+// > ./{index_parallel}_score/@;\"\n",
    "        #f\"cargo run --release --manifest-path ../tools/Cargo.toml --bin tester {directory_input}/@ $(pwd)/{parameters_changed_filename}.out 2>&1 | grep Score | sed -E s/[^0-9]+// > ./{index_parallel}_score/@;\"\n",
    "        f\"./{parameters_changed_filename}.out < {directory_input}/@ > {work_dir / index_parallel}_out/@;\"\n",
    "        f\"../tools/target/release/vis {directory_input}/@ {work_dir / index_parallel}_out/@ 2> /dev/null > {work_dir / index_parallel}_score/@;\"\n",
    "    )\n",
    "    # 並列実行 (sed はパスのディレクトリ部分を消してファイル名にしてる)\n",
    "    run(f\"find {directory_input}/* | sed 's!^.*/!!' | xargs -I@ -P {n_internal_parallel} sh -c '{command_exec}'\", \"exec\")\n",
    "    \n",
    "    # 集計\n",
    "    scores = []\n",
    "    for file_path in Path(f\"{work_dir / index_parallel}_score/\").iterdir():  \n",
    "        with open(file_path) as f:\n",
    "            scores.append(int(f.readline().strip().split()[-1]))\n",
    "    mean_score = sum(scores) / len(scores)\n",
    "    \n",
    "    # 後始末\n",
    "    run(f\"rm -rf {work_dir / index_parallel}_out\", \"rm\")\n",
    "    run(f\"rm -rf {work_dir / index_parallel}_score\", \"rm\")\n",
    "    #run(f\"rm {parameters_changed_filename}\", \"rm\")\n",
    "    run(f\"rm {parameters_changed_filename}.out\", \"rm\")\n",
    "    \n",
    "    return mean_score"
   ]
  },
  {
   "cell_type": "code",
   "execution_count": 4,
   "id": "2d2e133c",
   "metadata": {},
   "outputs": [
    {
     "name": "stderr",
     "output_type": "stream",
     "text": [
      "\u001b[32m[I 2022-08-15 21:29:42,914]\u001b[0m A new study created in RDB with name: study_4_2\u001b[0m\n"
     ]
    }
   ],
   "source": [
    "K = 4\n",
    "N_CLASS = 2\n",
    "\n",
    "in_dir = Path(f\"in_{K}_{N_CLASS}\")\n",
    "work_dir = Path(f\"work_{K}_{N_CLASS}\")\n",
    "\n",
    "study_name = f\"study_{K}_{N_CLASS}\"\n",
    "storage_path = work_dir / \"study.db\"\n",
    "storage = f\"sqlite:///{storage_path}\"\n",
    "study = optuna.create_study(storage=storage, load_if_exists=True, study_name=study_name, direction=\"maximize\")\n",
    "\n",
    "def callback(study, trial):\n",
    "    try:\n",
    "        index_parallel = f\"{trial.number:04d}\"\n",
    "        parameters_changed_filename = work_dir / f\"{index_parallel}_{FILENAME}\"\n",
    "        if study.best_value == trial.value:\n",
    "            print(f\"Updated! {study.best_value}\")\n",
    "            !cp {parameters_changed_filename} {work_dir / \"best_parameters.cpp\"}\n",
    "        !rm {parameters_changed_filename}\n",
    "    except:\n",
    "        print(\":(\")\n"
   ]
  },
  {
   "cell_type": "code",
   "execution_count": null,
   "id": "61c2901d",
   "metadata": {},
   "outputs": [
    {
     "name": "stdout",
     "output_type": "stream",
     "text": [
      "index_parallel='0000'\n"
     ]
    },
    {
     "name": "stderr",
     "output_type": "stream",
     "text": [
      "\u001b[32m[I 2022-08-15 21:33:27,378]\u001b[0m Trial 0 finished with value: 6742.876288659794 and parameters: {'kErase': 5, 'kRadius': 6, 'kAnnealingA': 13.401680195102799, 'kAnnealingB': 0.8394939540386855, 'kAnnealingStart': 2.1619924476141255, 'kSkipRatio': 0.31858125904076634, 'kTargetDeterminationTrials': 2, 'kAttractionRatio': 0.20198356653536084, 'kMaxAttractionDistance': 6, 'kStartAttraction': 0.00131769922659402}. Best is trial 0 with value: 6742.876288659794.\u001b[0m\n"
     ]
    },
    {
     "name": "stdout",
     "output_type": "stream",
     "text": [
      "Updated! 6742.876288659794\n",
      "index_parallel='0001'\n"
     ]
    },
    {
     "name": "stderr",
     "output_type": "stream",
     "text": [
      "\u001b[32m[I 2022-08-15 21:37:11,464]\u001b[0m Trial 1 finished with value: 7811.742268041237 and parameters: {'kErase': 2, 'kRadius': 6, 'kAnnealingA': -8.111644508139664, 'kAnnealingB': 2.0951959639341693, 'kAnnealingStart': 3.4399329051747087, 'kSkipRatio': 0.34577511690355567, 'kTargetDeterminationTrials': 7, 'kAttractionRatio': 0.4488861783055754, 'kMaxAttractionDistance': 66, 'kStartAttraction': 0.06325083285221497}. Best is trial 1 with value: 7811.742268041237.\u001b[0m\n"
     ]
    },
    {
     "name": "stdout",
     "output_type": "stream",
     "text": [
      "Updated! 7811.742268041237\n",
      "index_parallel='0002'\n"
     ]
    },
    {
     "name": "stderr",
     "output_type": "stream",
     "text": [
      "\u001b[32m[I 2022-08-15 21:40:55,310]\u001b[0m Trial 2 finished with value: 8287.90206185567 and parameters: {'kErase': 1, 'kRadius': 3, 'kAnnealingA': -4.641281729281756, 'kAnnealingB': 0.017443256454274247, 'kAnnealingStart': 15.484372736235235, 'kSkipRatio': 0.35877511596983114, 'kTargetDeterminationTrials': 20, 'kAttractionRatio': 0.1699509577987963, 'kMaxAttractionDistance': 39, 'kStartAttraction': 0.0842054234764108}. Best is trial 2 with value: 8287.90206185567.\u001b[0m\n"
     ]
    },
    {
     "name": "stdout",
     "output_type": "stream",
     "text": [
      "Updated! 8287.90206185567\n",
      "index_parallel='0003'\n"
     ]
    },
    {
     "name": "stderr",
     "output_type": "stream",
     "text": [
      "\u001b[32m[I 2022-08-15 21:44:40,015]\u001b[0m Trial 3 finished with value: 7324.159793814433 and parameters: {'kErase': 5, 'kRadius': 6, 'kAnnealingA': 0.40475917421675334, 'kAnnealingB': 1.659501079323113, 'kAnnealingStart': 12.975215469651827, 'kSkipRatio': 0.5768737196613095, 'kTargetDeterminationTrials': 2, 'kAttractionRatio': 0.07671641577948723, 'kMaxAttractionDistance': 9, 'kStartAttraction': 0.01383676261113761}. Best is trial 2 with value: 8287.90206185567.\u001b[0m\n"
     ]
    },
    {
     "name": "stdout",
     "output_type": "stream",
     "text": [
      "index_parallel='0004'\n"
     ]
    },
    {
     "name": "stderr",
     "output_type": "stream",
     "text": [
      "\u001b[32m[I 2022-08-15 21:48:24,547]\u001b[0m Trial 4 finished with value: 6688.654639175258 and parameters: {'kErase': 5, 'kRadius': 4, 'kAnnealingA': 9.927273715657403, 'kAnnealingB': 0.03419848187057006, 'kAnnealingStart': 40.236272440190795, 'kSkipRatio': 0.638761887822189, 'kTargetDeterminationTrials': 1, 'kAttractionRatio': 0.06678854883720597, 'kMaxAttractionDistance': 33, 'kStartAttraction': 0.07680777956199755}. Best is trial 2 with value: 8287.90206185567.\u001b[0m\n"
     ]
    },
    {
     "name": "stdout",
     "output_type": "stream",
     "text": [
      "index_parallel='0005'\n"
     ]
    },
    {
     "name": "stderr",
     "output_type": "stream",
     "text": [
      "\u001b[32m[I 2022-08-15 21:52:08,537]\u001b[0m Trial 5 finished with value: 8155.845360824742 and parameters: {'kErase': 3, 'kRadius': 3, 'kAnnealingA': 7.846856421856046, 'kAnnealingB': 2.362360879949672, 'kAnnealingStart': 6.7372588016096255, 'kSkipRatio': 0.6896867092042325, 'kTargetDeterminationTrials': 1, 'kAttractionRatio': 0.01951751702544488, 'kMaxAttractionDistance': 53, 'kStartAttraction': 0.1126889165342266}. Best is trial 2 with value: 8287.90206185567.\u001b[0m\n"
     ]
    },
    {
     "name": "stdout",
     "output_type": "stream",
     "text": [
      "index_parallel='0006'\n"
     ]
    },
    {
     "name": "stderr",
     "output_type": "stream",
     "text": [
      "\u001b[32m[I 2022-08-15 21:55:52,232]\u001b[0m Trial 6 finished with value: 8064.762886597938 and parameters: {'kErase': 1, 'kRadius': 4, 'kAnnealingA': -4.234599153193749, 'kAnnealingB': 2.9310223840701215, 'kAnnealingStart': 6.200381705332674, 'kSkipRatio': 0.6555747894472777, 'kTargetDeterminationTrials': 2, 'kAttractionRatio': 0.01636775497162417, 'kMaxAttractionDistance': 21, 'kStartAttraction': 0.08023791924222756}. Best is trial 2 with value: 8287.90206185567.\u001b[0m\n"
     ]
    },
    {
     "name": "stdout",
     "output_type": "stream",
     "text": [
      "index_parallel='0007'\n"
     ]
    },
    {
     "name": "stderr",
     "output_type": "stream",
     "text": [
      "\u001b[32m[I 2022-08-15 21:59:36,124]\u001b[0m Trial 7 finished with value: 7755.9639175257735 and parameters: {'kErase': 2, 'kRadius': 3, 'kAnnealingA': -4.550596577739814, 'kAnnealingB': 2.1135962195203657, 'kAnnealingStart': 1.4230491437485095, 'kSkipRatio': 0.39349281762163757, 'kTargetDeterminationTrials': 3, 'kAttractionRatio': 0.04489350959511274, 'kMaxAttractionDistance': 4, 'kStartAttraction': 0.2583002604009022}. Best is trial 2 with value: 8287.90206185567.\u001b[0m\n"
     ]
    },
    {
     "name": "stdout",
     "output_type": "stream",
     "text": [
      "index_parallel='0008'\n"
     ]
    },
    {
     "name": "stderr",
     "output_type": "stream",
     "text": [
      "\u001b[32m[I 2022-08-15 22:03:20,408]\u001b[0m Trial 8 finished with value: 7150.6082474226805 and parameters: {'kErase': 5, 'kRadius': 4, 'kAnnealingA': 3.682946539677612, 'kAnnealingB': 1.183580613752913, 'kAnnealingStart': 4.68052763227949, 'kSkipRatio': 0.4811869888692406, 'kTargetDeterminationTrials': 1, 'kAttractionRatio': 0.06058184934397095, 'kMaxAttractionDistance': 52, 'kStartAttraction': 0.04628095495917203}. Best is trial 2 with value: 8287.90206185567.\u001b[0m\n"
     ]
    },
    {
     "name": "stdout",
     "output_type": "stream",
     "text": [
      "index_parallel='0009'\n"
     ]
    },
    {
     "name": "stderr",
     "output_type": "stream",
     "text": [
      "\u001b[32m[I 2022-08-15 22:07:04,412]\u001b[0m Trial 9 finished with value: 7390.407216494846 and parameters: {'kErase': 3, 'kRadius': 5, 'kAnnealingA': -9.59186857689671, 'kAnnealingB': 0.6663526430806529, 'kAnnealingStart': 57.52816943892381, 'kSkipRatio': 0.4265803518105777, 'kTargetDeterminationTrials': 1, 'kAttractionRatio': 0.48505325996655135, 'kMaxAttractionDistance': 62, 'kStartAttraction': 0.016148205057844638}. Best is trial 2 with value: 8287.90206185567.\u001b[0m\n"
     ]
    },
    {
     "name": "stdout",
     "output_type": "stream",
     "text": [
      "index_parallel='0010'\n"
     ]
    },
    {
     "name": "stderr",
     "output_type": "stream",
     "text": [
      "\u001b[32m[I 2022-08-15 22:10:48,106]\u001b[0m Trial 10 finished with value: 7814.840206185567 and parameters: {'kErase': 1, 'kRadius': 2, 'kAnnealingA': -13.344453861553744, 'kAnnealingB': 0.01035908665609793, 'kAnnealingStart': 19.957376826055437, 'kSkipRatio': 0.21994775667076402, 'kTargetDeterminationTrials': 19, 'kAttractionRatio': 0.21085295580251173, 'kMaxAttractionDistance': 14, 'kStartAttraction': 0.6671437546050851}. Best is trial 2 with value: 8287.90206185567.\u001b[0m\n"
     ]
    },
    {
     "name": "stdout",
     "output_type": "stream",
     "text": [
      "index_parallel='0011'\n"
     ]
    },
    {
     "name": "stderr",
     "output_type": "stream",
     "text": [
      "\u001b[32m[I 2022-08-15 22:14:32,130]\u001b[0m Trial 11 finished with value: 7027.015463917526 and parameters: {'kErase': 3, 'kRadius': 2, 'kAnnealingA': 7.118687374103863, 'kAnnealingB': 2.935843729132456, 'kAnnealingStart': 20.571111798094552, 'kSkipRatio': 0.7777087353211891, 'kTargetDeterminationTrials': 18, 'kAttractionRatio': 0.0125683127590584, 'kMaxAttractionDistance': 32, 'kStartAttraction': 0.20608830521229857}. Best is trial 2 with value: 8287.90206185567.\u001b[0m\n"
     ]
    },
    {
     "name": "stdout",
     "output_type": "stream",
     "text": [
      "index_parallel='0012'\n"
     ]
    },
    {
     "name": "stderr",
     "output_type": "stream",
     "text": [
      "\u001b[32m[I 2022-08-15 22:18:16,842]\u001b[0m Trial 12 finished with value: 7742.159793814433 and parameters: {'kErase': 4, 'kRadius': 3, 'kAnnealingA': 0.5961206238064758, 'kAnnealingB': 2.335102086794551, 'kAnnealingStart': 8.220145915046817, 'kSkipRatio': 0.7833762297286304, 'kTargetDeterminationTrials': 8, 'kAttractionRatio': 0.026772798345293992, 'kMaxAttractionDistance': 91, 'kStartAttraction': 0.006385615308946355}. Best is trial 2 with value: 8287.90206185567.\u001b[0m\n"
     ]
    },
    {
     "name": "stdout",
     "output_type": "stream",
     "text": [
      "index_parallel='0013'\n"
     ]
    },
    {
     "name": "stderr",
     "output_type": "stream",
     "text": [
      "\u001b[32m[I 2022-08-15 22:22:00,653]\u001b[0m Trial 13 finished with value: 7212.670103092783 and parameters: {'kErase': 2, 'kRadius': 3, 'kAnnealingA': 5.787558521088137, 'kAnnealingB': 1.6213995158320489, 'kAnnealingStart': 30.322064413963126, 'kSkipRatio': 0.5418930011030605, 'kTargetDeterminationTrials': 7, 'kAttractionRatio': 0.13885107382194942, 'kMaxAttractionDistance': 34, 'kStartAttraction': 0.24042752703432724}. Best is trial 2 with value: 8287.90206185567.\u001b[0m\n"
     ]
    },
    {
     "name": "stdout",
     "output_type": "stream",
     "text": [
      "index_parallel='0014'\n"
     ]
    },
    {
     "name": "stderr",
     "output_type": "stream",
     "text": [
      "\u001b[32m[I 2022-08-15 22:25:45,347]\u001b[0m Trial 14 finished with value: 6396.59793814433 and parameters: {'kErase': 4, 'kRadius': 3, 'kAnnealingA': 12.30250766401811, 'kAnnealingB': 2.5070282054430173, 'kAnnealingStart': 11.468040134934416, 'kSkipRatio': 0.23514338446974914, 'kTargetDeterminationTrials': 4, 'kAttractionRatio': 0.02845888416839482, 'kMaxAttractionDistance': 18, 'kStartAttraction': 0.8259788869642033}. Best is trial 2 with value: 8287.90206185567.\u001b[0m\n"
     ]
    },
    {
     "name": "stdout",
     "output_type": "stream",
     "text": [
      "index_parallel='0015'\n"
     ]
    },
    {
     "name": "stderr",
     "output_type": "stream",
     "text": [
      "\u001b[32m[I 2022-08-15 22:29:29,116]\u001b[0m Trial 15 finished with value: 7505.29381443299 and parameters: {'kErase': 1, 'kRadius': 2, 'kAnnealingA': -3.2089884817084595, 'kAnnealingB': 0.587867064095495, 'kAnnealingStart': 85.89650922092221, 'kSkipRatio': 0.6873163637261204, 'kTargetDeterminationTrials': 11, 'kAttractionRatio': 0.14369479650649986, 'kMaxAttractionDistance': 43, 'kStartAttraction': 0.1610465853485029}. Best is trial 2 with value: 8287.90206185567.\u001b[0m\n"
     ]
    },
    {
     "name": "stdout",
     "output_type": "stream",
     "text": [
      "index_parallel='0016'\n"
     ]
    },
    {
     "name": "stderr",
     "output_type": "stream",
     "text": [
      "\u001b[32m[I 2022-08-15 22:33:13,432]\u001b[0m Trial 16 finished with value: 7077.360824742268 and parameters: {'kErase': 4, 'kRadius': 5, 'kAnnealingA': 2.889069504769867, 'kAnnealingB': 1.2301214595628238, 'kAnnealingStart': 3.089496038183655, 'kSkipRatio': 0.4959599991245809, 'kTargetDeterminationTrials': 4, 'kAttractionRatio': 0.6976085523542165, 'kMaxAttractionDistance': 82, 'kStartAttraction': 0.025005029140029906}. Best is trial 2 with value: 8287.90206185567.\u001b[0m\n"
     ]
    },
    {
     "name": "stdout",
     "output_type": "stream",
     "text": [
      "index_parallel='0017'\n"
     ]
    },
    {
     "name": "stderr",
     "output_type": "stream",
     "text": [
      "\u001b[32m[I 2022-08-15 22:36:57,335]\u001b[0m Trial 17 finished with value: 7643.577319587629 and parameters: {'kErase': 2, 'kRadius': 3, 'kAnnealingA': 7.758237225905335, 'kAnnealingB': 1.7727139283926943, 'kAnnealingStart': 15.464696812694246, 'kSkipRatio': 0.294028604551863, 'kTargetDeterminationTrials': 12, 'kAttractionRatio': 0.024749066813124485, 'kMaxAttractionDistance': 20, 'kStartAttraction': 0.005086554786092184}. Best is trial 2 with value: 8287.90206185567.\u001b[0m\n"
     ]
    },
    {
     "name": "stdout",
     "output_type": "stream",
     "text": [
      "index_parallel='0018'\n"
     ]
    },
    {
     "name": "stderr",
     "output_type": "stream",
     "text": [
      "\u001b[32m[I 2022-08-15 22:40:41,573]\u001b[0m Trial 18 finished with value: 7985.453608247422 and parameters: {'kErase': 3, 'kRadius': 5, 'kAnnealingA': -9.067228120823504, 'kAnnealingB': 2.5830410646883744, 'kAnnealingStart': 7.083098852883416, 'kSkipRatio': 0.44089689165560464, 'kTargetDeterminationTrials': 3, 'kAttractionRatio': 0.3102875719476718, 'kMaxAttractionDistance': 29, 'kStartAttraction': 0.12634808527980018}. Best is trial 2 with value: 8287.90206185567.\u001b[0m\n"
     ]
    },
    {
     "name": "stdout",
     "output_type": "stream",
     "text": [
      "index_parallel='0019'\n"
     ]
    },
    {
     "name": "stderr",
     "output_type": "stream",
     "text": [
      "\u001b[32m[I 2022-08-15 22:44:25,771]\u001b[0m Trial 19 finished with value: 8108.087628865979 and parameters: {'kErase': 3, 'kRadius': 2, 'kAnnealingA': -2.0482434608243207, 'kAnnealingB': 0.38151864882464626, 'kAnnealingStart': 1.3521492504744768, 'kSkipRatio': 0.7184178099435187, 'kTargetDeterminationTrials': 5, 'kAttractionRatio': 0.10729580533464206, 'kMaxAttractionDistance': 48, 'kStartAttraction': 0.5166407996404674}. Best is trial 2 with value: 8287.90206185567.\u001b[0m\n"
     ]
    },
    {
     "name": "stdout",
     "output_type": "stream",
     "text": [
      "index_parallel='0020'\n"
     ]
    },
    {
     "name": "stderr",
     "output_type": "stream",
     "text": [
      "\u001b[32m[I 2022-08-15 22:48:09,351]\u001b[0m Trial 20 finished with value: 7984.922680412371 and parameters: {'kErase': 1, 'kRadius': 3, 'kAnnealingA': -12.807189334516968, 'kAnnealingB': 1.0516404197890057, 'kAnnealingStart': 33.613842525712606, 'kSkipRatio': 0.5786993129557716, 'kTargetDeterminationTrials': 2, 'kAttractionRatio': 0.04540766092048869, 'kMaxAttractionDistance': 12, 'kStartAttraction': 0.03580245000914543}. Best is trial 2 with value: 8287.90206185567.\u001b[0m\n"
     ]
    },
    {
     "name": "stdout",
     "output_type": "stream",
     "text": [
      "index_parallel='0021'\n"
     ]
    },
    {
     "name": "stderr",
     "output_type": "stream",
     "text": [
      "\u001b[32m[I 2022-08-15 22:51:53,811]\u001b[0m Trial 21 finished with value: 8106.407216494846 and parameters: {'kErase': 3, 'kRadius': 2, 'kAnnealingA': -3.149965883169145, 'kAnnealingB': 0.3291198398080895, 'kAnnealingStart': 1.444062512396551, 'kSkipRatio': 0.7437262211206198, 'kTargetDeterminationTrials': 5, 'kAttractionRatio': 0.11709183189248695, 'kMaxAttractionDistance': 47, 'kStartAttraction': 0.40412439388195226}. Best is trial 2 with value: 8287.90206185567.\u001b[0m\n"
     ]
    },
    {
     "name": "stdout",
     "output_type": "stream",
     "text": [
      "index_parallel='0022'\n"
     ]
    },
    {
     "name": "stderr",
     "output_type": "stream",
     "text": [
      "\u001b[32m[I 2022-08-15 22:55:38,198]\u001b[0m Trial 22 finished with value: 7956.113402061856 and parameters: {'kErase': 4, 'kRadius': 2, 'kAnnealingA': -1.5553607007418169, 'kAnnealingB': 0.2545921135777286, 'kAnnealingStart': 1.0961684593641814, 'kSkipRatio': 0.7123911400871171, 'kTargetDeterminationTrials': 12, 'kAttractionRatio': 0.2271545856875454, 'kMaxAttractionDistance': 67, 'kStartAttraction': 0.433424197330277}. Best is trial 2 with value: 8287.90206185567.\u001b[0m\n"
     ]
    },
    {
     "name": "stdout",
     "output_type": "stream",
     "text": [
      "index_parallel='0023'\n"
     ]
    },
    {
     "name": "stderr",
     "output_type": "stream",
     "text": [
      "\u001b[32m[I 2022-08-15 22:59:22,166]\u001b[0m Trial 23 finished with value: 8131.845360824742 and parameters: {'kErase': 2, 'kRadius': 3, 'kAnnealingA': -6.687802320863682, 'kAnnealingB': 0.4023882604585957, 'kAnnealingStart': 2.27152869206346, 'kSkipRatio': 0.620601302090886, 'kTargetDeterminationTrials': 5, 'kAttractionRatio': 0.13145289147327574, 'kMaxAttractionDistance': 41, 'kStartAttraction': 0.10404094861358307}. Best is trial 2 with value: 8287.90206185567.\u001b[0m\n"
     ]
    },
    {
     "name": "stdout",
     "output_type": "stream",
     "text": [
      "index_parallel='0024'\n"
     ]
    },
    {
     "name": "stderr",
     "output_type": "stream",
     "text": [
      "\u001b[32m[I 2022-08-15 23:03:06,326]\u001b[0m Trial 24 finished with value: 8177.396907216495 and parameters: {'kErase': 2, 'kRadius': 4, 'kAnnealingA': -5.853772375164715, 'kAnnealingB': 1.3879600920467607, 'kAnnealingStart': 2.292233919321103, 'kSkipRatio': 0.6315955069236877, 'kTargetDeterminationTrials': 10, 'kAttractionRatio': 0.32461064501919473, 'kMaxAttractionDistance': 25, 'kStartAttraction': 0.10806847627800865}. Best is trial 2 with value: 8287.90206185567.\u001b[0m\n"
     ]
    },
    {
     "name": "stdout",
     "output_type": "stream",
     "text": [
      "index_parallel='0025'\n"
     ]
    },
    {
     "name": "stderr",
     "output_type": "stream",
     "text": [
      "\u001b[32m[I 2022-08-15 23:06:49,983]\u001b[0m Trial 25 finished with value: 8100.231958762886 and parameters: {'kErase': 1, 'kRadius': 4, 'kAnnealingA': 2.7043481550288258, 'kAnnealingB': 1.3289715375247346, 'kAnnealingStart': 5.457355006165466, 'kSkipRatio': 0.5503383313277098, 'kTargetDeterminationTrials': 15, 'kAttractionRatio': 0.3690444211461528, 'kMaxAttractionDistance': 25, 'kStartAttraction': 0.027812860629482284}. Best is trial 2 with value: 8287.90206185567.\u001b[0m\n"
     ]
    },
    {
     "name": "stdout",
     "output_type": "stream",
     "text": [
      "index_parallel='0026'\n"
     ]
    },
    {
     "name": "stderr",
     "output_type": "stream",
     "text": [
      "\u001b[32m[I 2022-08-15 23:10:33,896]\u001b[0m Trial 26 finished with value: 7789.8247422680415 and parameters: {'kErase': 2, 'kRadius': 4, 'kAnnealingA': -11.132357232873566, 'kAnnealingB': 1.9314254450663708, 'kAnnealingStart': 3.904649982018186, 'kSkipRatio': 0.6081453591115563, 'kTargetDeterminationTrials': 9, 'kAttractionRatio': 0.6912425790307438, 'kMaxAttractionDistance': 24, 'kStartAttraction': 0.05207538894865712}. Best is trial 2 with value: 8287.90206185567.\u001b[0m\n"
     ]
    },
    {
     "name": "stdout",
     "output_type": "stream",
     "text": [
      "index_parallel='0027'\n"
     ]
    },
    {
     "name": "stderr",
     "output_type": "stream",
     "text": [
      "\u001b[32m[I 2022-08-15 23:14:18,099]\u001b[0m Trial 27 finished with value: 8051.783505154639 and parameters: {'kErase': 2, 'kRadius': 4, 'kAnnealingA': -5.90558713595287, 'kAnnealingB': 0.9214047360608395, 'kAnnealingStart': 8.883436470303591, 'kSkipRatio': 0.3703010012803337, 'kTargetDeterminationTrials': 15, 'kAttractionRatio': 0.2767711168351711, 'kMaxAttractionDistance': 16, 'kStartAttraction': 0.13223863224312862}. Best is trial 2 with value: 8287.90206185567.\u001b[0m\n"
     ]
    },
    {
     "name": "stdout",
     "output_type": "stream",
     "text": [
      "index_parallel='0028'\n"
     ]
    },
    {
     "name": "stderr",
     "output_type": "stream",
     "text": [
      "\u001b[32m[I 2022-08-15 23:18:02,028]\u001b[0m Trial 28 finished with value: 8175.70618556701 and parameters: {'kErase': 1, 'kRadius': 5, 'kAnnealingA': 10.28493275858612, 'kAnnealingB': 2.6884610362893637, 'kAnnealingStart': 2.354123693928071, 'kSkipRatio': 0.27004971624050317, 'kTargetDeterminationTrials': 20, 'kAttractionRatio': 0.010548339241314063, 'kMaxAttractionDistance': 9, 'kStartAttraction': 0.015067032064300477}. Best is trial 2 with value: 8287.90206185567.\u001b[0m\n"
     ]
    },
    {
     "name": "stdout",
     "output_type": "stream",
     "text": [
      "index_parallel='0029'\n"
     ]
    },
    {
     "name": "stderr",
     "output_type": "stream",
     "text": [
      "\u001b[32m[I 2022-08-15 23:21:45,573]\u001b[0m Trial 29 finished with value: 8105.484536082474 and parameters: {'kErase': 1, 'kRadius': 5, 'kAnnealingA': 13.541462293088209, 'kAnnealingB': 1.4432818715979483, 'kAnnealingStart': 2.2443981115488034, 'kSkipRatio': 0.2901764916710005, 'kTargetDeterminationTrials': 19, 'kAttractionRatio': 0.18776668901950355, 'kMaxAttractionDistance': 8, 'kStartAttraction': 0.003862332602074328}. Best is trial 2 with value: 8287.90206185567.\u001b[0m\n"
     ]
    },
    {
     "name": "stdout",
     "output_type": "stream",
     "text": [
      "index_parallel='0030'\n"
     ]
    },
    {
     "name": "stderr",
     "output_type": "stream",
     "text": [
      "\u001b[32m[I 2022-08-15 23:25:29,194]\u001b[0m Trial 30 finished with value: 7839.268041237114 and parameters: {'kErase': 1, 'kRadius': 5, 'kAnnealingA': -6.804620491253836, 'kAnnealingB': 0.9118602748447393, 'kAnnealingStart': 2.8387889800157917, 'kSkipRatio': 0.25720877270930154, 'kTargetDeterminationTrials': 10, 'kAttractionRatio': 0.5201120646297142, 'kMaxAttractionDistance': 6, 'kStartAttraction': 0.002142998686065488}. Best is trial 2 with value: 8287.90206185567.\u001b[0m\n"
     ]
    },
    {
     "name": "stdout",
     "output_type": "stream",
     "text": [
      "index_parallel='0031'\n"
     ]
    },
    {
     "name": "stderr",
     "output_type": "stream",
     "text": [
      "\u001b[32m[I 2022-08-15 23:29:12,792]\u001b[0m Trial 31 finished with value: 8136.737113402062 and parameters: {'kErase': 1, 'kRadius': 4, 'kAnnealingA': 9.698288371756192, 'kAnnealingB': 2.704949150557719, 'kAnnealingStart': 1.979143887859724, 'kSkipRatio': 0.3207658840774863, 'kTargetDeterminationTrials': 13, 'kAttractionRatio': 0.010001648105999112, 'kMaxAttractionDistance': 11, 'kStartAttraction': 0.011296335963327981}. Best is trial 2 with value: 8287.90206185567.\u001b[0m\n"
     ]
    },
    {
     "name": "stdout",
     "output_type": "stream",
     "text": [
      "index_parallel='0032'\n"
     ]
    },
    {
     "name": "stderr",
     "output_type": "stream",
     "text": [
      "\u001b[32m[I 2022-08-15 23:32:56,797]\u001b[0m Trial 32 finished with value: 8178.051546391753 and parameters: {'kErase': 2, 'kRadius': 6, 'kAnnealingA': 11.487321868214778, 'kAnnealingB': 2.247662969058324, 'kAnnealingStart': 4.432547922222563, 'kSkipRatio': 0.6699645697654716, 'kTargetDeterminationTrials': 15, 'kAttractionRatio': 0.013560074568639299, 'kMaxAttractionDistance': 5, 'kStartAttraction': 0.019307611863529143}. Best is trial 2 with value: 8287.90206185567.\u001b[0m\n"
     ]
    },
    {
     "name": "stdout",
     "output_type": "stream",
     "text": [
      "index_parallel='0033'\n"
     ]
    },
    {
     "name": "stderr",
     "output_type": "stream",
     "text": [
      "\u001b[32m[I 2022-08-15 23:36:40,944]\u001b[0m Trial 33 finished with value: 7564.371134020618 and parameters: {'kErase': 2, 'kRadius': 6, 'kAnnealingA': 14.768281275946677, 'kAnnealingB': 2.1219927334709032, 'kAnnealingStart': 3.7456497918291185, 'kSkipRatio': 0.20228318718226768, 'kTargetDeterminationTrials': 15, 'kAttractionRatio': 0.012803335157679247, 'kMaxAttractionDistance': 4, 'kStartAttraction': 0.018943532928260405}. Best is trial 2 with value: 8287.90206185567.\u001b[0m\n"
     ]
    },
    {
     "name": "stdout",
     "output_type": "stream",
     "text": [
      "index_parallel='0034'\n"
     ]
    },
    {
     "name": "stderr",
     "output_type": "stream",
     "text": [
      "\u001b[32m[I 2022-08-15 23:40:24,969]\u001b[0m Trial 34 finished with value: 7924.092783505154 and parameters: {'kErase': 2, 'kRadius': 6, 'kAnnealingA': 11.766543117752068, 'kAnnealingB': 2.781267485150301, 'kAnnealingStart': 1.8550940228763673, 'kSkipRatio': 0.3500312384547666, 'kTargetDeterminationTrials': 20, 'kAttractionRatio': 0.01047804679271287, 'kMaxAttractionDistance': 6, 'kStartAttraction': 0.009630763385055313}. Best is trial 2 with value: 8287.90206185567.\u001b[0m\n"
     ]
    },
    {
     "name": "stdout",
     "output_type": "stream",
     "text": [
      "index_parallel='0035'\n"
     ]
    },
    {
     "name": "stderr",
     "output_type": "stream",
     "text": [
      "\u001b[32m[I 2022-08-15 23:44:08,622]\u001b[0m Trial 35 finished with value: 8264.731958762886 and parameters: {'kErase': 1, 'kRadius': 6, 'kAnnealingA': 10.50175689815435, 'kAnnealingB': 2.32762261928215, 'kAnnealingStart': 4.659979854303115, 'kSkipRatio': 0.2648041790469981, 'kTargetDeterminationTrials': 16, 'kAttractionRatio': 0.018119808704699657, 'kMaxAttractionDistance': 8, 'kStartAttraction': 0.03824467169988547}. Best is trial 2 with value: 8287.90206185567.\u001b[0m\n"
     ]
    },
    {
     "name": "stdout",
     "output_type": "stream",
     "text": [
      "index_parallel='0036'\n"
     ]
    },
    {
     "name": "stderr",
     "output_type": "stream",
     "text": [
      "\u001b[32m[I 2022-08-15 23:47:52,574]\u001b[0m Trial 36 finished with value: 8391.417525773197 and parameters: {'kErase': 2, 'kRadius': 6, 'kAnnealingA': 4.572153242334048, 'kAnnealingB': 2.278507123828396, 'kAnnealingStart': 4.531604966743353, 'kSkipRatio': 0.6528754612402421, 'kTargetDeterminationTrials': 7, 'kAttractionRatio': 0.08632364703495153, 'kMaxAttractionDistance': 7, 'kStartAttraction': 0.07211833470853699}. Best is trial 36 with value: 8391.417525773197.\u001b[0m\n"
     ]
    },
    {
     "name": "stdout",
     "output_type": "stream",
     "text": [
      "Updated! 8391.417525773197\n",
      "index_parallel='0037'\n"
     ]
    },
    {
     "name": "stderr",
     "output_type": "stream",
     "text": [
      "\u001b[32m[I 2022-08-15 23:51:36,141]\u001b[0m Trial 37 finished with value: 8167.551546391753 and parameters: {'kErase': 1, 'kRadius': 6, 'kAnnealingA': 4.446140550148611, 'kAnnealingB': 1.9102046363419212, 'kAnnealingStart': 4.920835751669616, 'kSkipRatio': 0.6650440071504469, 'kTargetDeterminationTrials': 7, 'kAttractionRatio': 0.0789462436080112, 'kMaxAttractionDistance': 5, 'kStartAttraction': 0.07448714235103712}. Best is trial 36 with value: 8391.417525773197.\u001b[0m\n"
     ]
    },
    {
     "name": "stdout",
     "output_type": "stream",
     "text": [
      "index_parallel='0038'\n"
     ]
    },
    {
     "name": "stderr",
     "output_type": "stream",
     "text": [
      "\u001b[32m[I 2022-08-15 23:55:20,296]\u001b[0m Trial 38 finished with value: 8276.685567010309 and parameters: {'kErase': 2, 'kRadius': 6, 'kAnnealingA': 0.8990587163076813, 'kAnnealingB': 2.3295947124524305, 'kAnnealingStart': 15.80768545402275, 'kSkipRatio': 0.4111446480671833, 'kTargetDeterminationTrials': 15, 'kAttractionRatio': 0.0355118248495065, 'kMaxAttractionDistance': 7, 'kStartAttraction': 0.04149553636500672}. Best is trial 36 with value: 8391.417525773197.\u001b[0m\n"
     ]
    },
    {
     "name": "stdout",
     "output_type": "stream",
     "text": [
      "index_parallel='0039'\n"
     ]
    },
    {
     "name": "stderr",
     "output_type": "stream",
     "text": [
      "\u001b[32m[I 2022-08-15 23:59:03,971]\u001b[0m Trial 39 finished with value: 8356.335051546392 and parameters: {'kErase': 1, 'kRadius': 6, 'kAnnealingA': 1.3270875781396967, 'kAnnealingB': 2.465747136443568, 'kAnnealingStart': 13.570438200424515, 'kSkipRatio': 0.40740271846443143, 'kTargetDeterminationTrials': 8, 'kAttractionRatio': 0.03858618900412232, 'kMaxAttractionDistance': 8, 'kStartAttraction': 0.04047433215435962}. Best is trial 36 with value: 8391.417525773197.\u001b[0m\n"
     ]
    },
    {
     "name": "stdout",
     "output_type": "stream",
     "text": [
      "index_parallel='0040'\n"
     ]
    },
    {
     "name": "stderr",
     "output_type": "stream",
     "text": [
      "\u001b[32m[I 2022-08-16 00:02:48,093]\u001b[0m Trial 40 finished with value: 8307.551546391753 and parameters: {'kErase': 2, 'kRadius': 6, 'kAnnealingA': 1.0957589512503627, 'kAnnealingB': 2.4953341711372317, 'kAnnealingStart': 14.498538191278085, 'kSkipRatio': 0.4188925779201741, 'kTargetDeterminationTrials': 6, 'kAttractionRatio': 0.039581008549958836, 'kMaxAttractionDistance': 7, 'kStartAttraction': 0.06235858414423113}. Best is trial 36 with value: 8391.417525773197.\u001b[0m\n"
     ]
    },
    {
     "name": "stdout",
     "output_type": "stream",
     "text": [
      "index_parallel='0041'\n"
     ]
    },
    {
     "name": "stderr",
     "output_type": "stream",
     "text": [
      "\u001b[32m[I 2022-08-16 00:06:32,319]\u001b[0m Trial 41 finished with value: 8134.046391752578 and parameters: {'kErase': 2, 'kRadius': 6, 'kAnnealingA': -0.6905528259937208, 'kAnnealingB': 2.4433938505851325, 'kAnnealingStart': 15.232378771730259, 'kSkipRatio': 0.3848527344430587, 'kTargetDeterminationTrials': 6, 'kAttractionRatio': 0.04226914820600446, 'kMaxAttractionDistance': 7, 'kStartAttraction': 0.06077932096556758}. Best is trial 36 with value: 8391.417525773197.\u001b[0m\n"
     ]
    },
    {
     "name": "stdout",
     "output_type": "stream",
     "text": [
      "index_parallel='0042'\n"
     ]
    },
    {
     "name": "stderr",
     "output_type": "stream",
     "text": [
      "\u001b[32m[I 2022-08-16 00:10:16,326]\u001b[0m Trial 42 finished with value: 8121.515463917526 and parameters: {'kErase': 2, 'kRadius': 6, 'kAnnealingA': 1.0073049238500396, 'kAnnealingB': 2.2067141398513326, 'kAnnealingStart': 22.21599690478956, 'kSkipRatio': 0.4182177673711853, 'kTargetDeterminationTrials': 8, 'kAttractionRatio': 0.03635741922913167, 'kMaxAttractionDistance': 11, 'kStartAttraction': 0.04588738438731117}. Best is trial 36 with value: 8391.417525773197.\u001b[0m\n"
     ]
    },
    {
     "name": "stdout",
     "output_type": "stream",
     "text": [
      "index_parallel='0043'\n"
     ]
    },
    {
     "name": "stderr",
     "output_type": "stream",
     "text": [
      "\u001b[32m[I 2022-08-16 00:14:00,374]\u001b[0m Trial 43 finished with value: 8158.422680412371 and parameters: {'kErase': 1, 'kRadius': 6, 'kAnnealingA': 1.4425344710788894, 'kAnnealingB': 1.908533081400413, 'kAnnealingStart': 11.147937390186511, 'kSkipRatio': 0.46016844691885694, 'kTargetDeterminationTrials': 6, 'kAttractionRatio': 0.05679955085622158, 'kMaxAttractionDistance': 5, 'kStartAttraction': 0.07599531379457944}. Best is trial 36 with value: 8391.417525773197.\u001b[0m\n"
     ]
    },
    {
     "name": "stdout",
     "output_type": "stream",
     "text": [
      "index_parallel='0044'\n"
     ]
    },
    {
     "name": "stderr",
     "output_type": "stream",
     "text": [
      "\u001b[32m[I 2022-08-16 00:17:44,305]\u001b[0m Trial 44 finished with value: 8301.164948453608 and parameters: {'kErase': 2, 'kRadius': 6, 'kAnnealingA': 5.318013800654609, 'kAnnealingB': 2.997434278325467, 'kAnnealingStart': 13.86735495168318, 'kSkipRatio': 0.5217241652176219, 'kTargetDeterminationTrials': 9, 'kAttractionRatio': 0.08568200768669272, 'kMaxAttractionDistance': 7, 'kStartAttraction': 0.026352890069889837}. Best is trial 36 with value: 8391.417525773197.\u001b[0m\n"
     ]
    },
    {
     "name": "stdout",
     "output_type": "stream",
     "text": [
      "index_parallel='0045'\n"
     ]
    },
    {
     "name": "stderr",
     "output_type": "stream",
     "text": [
      "\u001b[32m[I 2022-08-16 00:21:28,669]\u001b[0m Trial 45 finished with value: 8177.005154639175 and parameters: {'kErase': 3, 'kRadius': 5, 'kAnnealingA': 5.67064497338199, 'kAnnealingB': 2.8370019016854555, 'kAnnealingStart': 23.3042588122231, 'kSkipRatio': 0.5365637883286104, 'kTargetDeterminationTrials': 4, 'kAttractionRatio': 0.07405172790961462, 'kMaxAttractionDistance': 9, 'kStartAttraction': 0.026946442933048473}. Best is trial 36 with value: 8391.417525773197.\u001b[0m\n"
     ]
    },
    {
     "name": "stdout",
     "output_type": "stream",
     "text": [
      "index_parallel='0046'\n"
     ]
    },
    {
     "name": "stderr",
     "output_type": "stream",
     "text": [
      "\u001b[32m[I 2022-08-16 00:25:12,335]\u001b[0m Trial 46 finished with value: 8415.664948453608 and parameters: {'kErase': 1, 'kRadius': 6, 'kAnnealingA': 4.9725315844012155, 'kAnnealingB': 2.967574858431701, 'kAnnealingStart': 9.43867357120782, 'kSkipRatio': 0.4614582333753481, 'kTargetDeterminationTrials': 8, 'kAttractionRatio': 0.08693413615661037, 'kMaxAttractionDistance': 13, 'kStartAttraction': 0.09054823549061973}. Best is trial 46 with value: 8415.664948453608.\u001b[0m\n"
     ]
    },
    {
     "name": "stdout",
     "output_type": "stream",
     "text": [
      "Updated! 8415.664948453608\n",
      "index_parallel='0047'\n"
     ]
    },
    {
     "name": "stderr",
     "output_type": "stream",
     "text": [
      "\u001b[32m[I 2022-08-16 00:28:55,998]\u001b[0m Trial 47 finished with value: 8486.463917525773 and parameters: {'kErase': 1, 'kRadius': 6, 'kAnnealingA': 5.23638281672035, 'kAnnealingB': 2.97923444429591, 'kAnnealingStart': 9.343000323692651, 'kSkipRatio': 0.47417061256298015, 'kTargetDeterminationTrials': 6, 'kAttractionRatio': 0.09001099854328772, 'kMaxAttractionDistance': 14, 'kStartAttraction': 0.1883257309604}. Best is trial 47 with value: 8486.463917525773.\u001b[0m\n"
     ]
    },
    {
     "name": "stdout",
     "output_type": "stream",
     "text": [
      "Updated! 8486.463917525773\n",
      "index_parallel='0048'\n"
     ]
    },
    {
     "name": "stderr",
     "output_type": "stream",
     "text": [
      "\u001b[32m[I 2022-08-16 00:32:39,598]\u001b[0m Trial 48 finished with value: 8442.59793814433 and parameters: {'kErase': 1, 'kRadius': 6, 'kAnnealingA': 3.129228762838415, 'kAnnealingB': 2.613627538563596, 'kAnnealingStart': 9.284826531503088, 'kSkipRatio': 0.4403927094977709, 'kTargetDeterminationTrials': 6, 'kAttractionRatio': 0.060768105262489866, 'kMaxAttractionDistance': 13, 'kStartAttraction': 0.19585129805952955}. Best is trial 47 with value: 8486.463917525773.\u001b[0m\n"
     ]
    },
    {
     "name": "stdout",
     "output_type": "stream",
     "text": [
      "index_parallel='0049'\n"
     ]
    },
    {
     "name": "stderr",
     "output_type": "stream",
     "text": [
      "\u001b[32m[I 2022-08-16 00:36:23,438]\u001b[0m Trial 49 finished with value: 8456.680412371134 and parameters: {'kErase': 1, 'kRadius': 6, 'kAnnealingA': 6.662151724174298, 'kAnnealingB': 2.6161809787449353, 'kAnnealingStart': 9.161125365715614, 'kSkipRatio': 0.4646402207798904, 'kTargetDeterminationTrials': 3, 'kAttractionRatio': 0.05509280540844291, 'kMaxAttractionDistance': 14, 'kStartAttraction': 0.30139618210423497}. Best is trial 47 with value: 8486.463917525773.\u001b[0m\n"
     ]
    },
    {
     "name": "stdout",
     "output_type": "stream",
     "text": [
      "index_parallel='0050'\n"
     ]
    },
    {
     "name": "stderr",
     "output_type": "stream",
     "text": [
      "\u001b[32m[I 2022-08-16 00:40:07,028]\u001b[0m Trial 50 finished with value: 8514.701030927836 and parameters: {'kErase': 1, 'kRadius': 5, 'kAnnealingA': 6.872621375584846, 'kAnnealingB': 2.8542280792468, 'kAnnealingStart': 7.024543729344681, 'kSkipRatio': 0.47124272083299096, 'kTargetDeterminationTrials': 3, 'kAttractionRatio': 0.054814732174467834, 'kMaxAttractionDistance': 14, 'kStartAttraction': 0.2004055253054319}. Best is trial 50 with value: 8514.701030927836.\u001b[0m\n"
     ]
    },
    {
     "name": "stdout",
     "output_type": "stream",
     "text": [
      "Updated! 8514.701030927836\n",
      "index_parallel='0051'\n"
     ]
    },
    {
     "name": "stderr",
     "output_type": "stream",
     "text": [
      "\u001b[32m[I 2022-08-16 00:43:50,925]\u001b[0m Trial 51 finished with value: 8549.427835051547 and parameters: {'kErase': 1, 'kRadius': 5, 'kAnnealingA': 6.868145992966177, 'kAnnealingB': 2.8642886645596457, 'kAnnealingStart': 7.851116111912642, 'kSkipRatio': 0.4722312001820127, 'kTargetDeterminationTrials': 3, 'kAttractionRatio': 0.0555242255214196, 'kMaxAttractionDistance': 14, 'kStartAttraction': 0.3094991638280989}. Best is trial 51 with value: 8549.427835051547.\u001b[0m\n"
     ]
    },
    {
     "name": "stdout",
     "output_type": "stream",
     "text": [
      "Updated! 8549.427835051547\n",
      "index_parallel='0052'\n"
     ]
    },
    {
     "name": "stderr",
     "output_type": "stream",
     "text": [
      "\u001b[32m[I 2022-08-16 00:47:34,515]\u001b[0m Trial 52 finished with value: 8457.448453608247 and parameters: {'kErase': 1, 'kRadius': 5, 'kAnnealingA': 6.754515679924818, 'kAnnealingB': 2.8692888693785936, 'kAnnealingStart': 7.9786983211002145, 'kSkipRatio': 0.4655529341192502, 'kTargetDeterminationTrials': 3, 'kAttractionRatio': 0.0515893590680498, 'kMaxAttractionDistance': 14, 'kStartAttraction': 0.31435676802010054}. Best is trial 51 with value: 8549.427835051547.\u001b[0m\n"
     ]
    },
    {
     "name": "stdout",
     "output_type": "stream",
     "text": [
      "index_parallel='0053'\n"
     ]
    },
    {
     "name": "stderr",
     "output_type": "stream",
     "text": [
      "\u001b[32m[I 2022-08-16 00:51:18,179]\u001b[0m Trial 53 finished with value: 8522.840206185567 and parameters: {'kErase': 1, 'kRadius': 5, 'kAnnealingA': 7.484292409208103, 'kAnnealingB': 2.6672476014444513, 'kAnnealingStart': 7.647705819319027, 'kSkipRatio': 0.4970893920042184, 'kTargetDeterminationTrials': 3, 'kAttractionRatio': 0.05325571037270057, 'kMaxAttractionDistance': 15, 'kStartAttraction': 0.1807402822336382}. Best is trial 51 with value: 8549.427835051547.\u001b[0m\n"
     ]
    },
    {
     "name": "stdout",
     "output_type": "stream",
     "text": [
      "index_parallel='0054'\n"
     ]
    },
    {
     "name": "stderr",
     "output_type": "stream",
     "text": [
      "\u001b[32m[I 2022-08-16 00:55:01,835]\u001b[0m Trial 54 finished with value: 8471.809278350516 and parameters: {'kErase': 1, 'kRadius': 5, 'kAnnealingA': 8.714423637576672, 'kAnnealingB': 2.8407467928191537, 'kAnnealingStart': 7.408127313257006, 'kSkipRatio': 0.5009067927614241, 'kTargetDeterminationTrials': 3, 'kAttractionRatio': 0.05194496030466669, 'kMaxAttractionDistance': 16, 'kStartAttraction': 0.3156220522836053}. Best is trial 51 with value: 8549.427835051547.\u001b[0m\n"
     ]
    },
    {
     "name": "stdout",
     "output_type": "stream",
     "text": [
      "index_parallel='0055'\n"
     ]
    },
    {
     "name": "stderr",
     "output_type": "stream",
     "text": [
      "\u001b[32m[I 2022-08-16 00:58:45,632]\u001b[0m Trial 55 finished with value: 8497.19587628866 and parameters: {'kErase': 1, 'kRadius': 5, 'kAnnealingA': 8.07473799572568, 'kAnnealingB': 2.8118595822501833, 'kAnnealingStart': 6.963855878376117, 'kSkipRatio': 0.4861958503649727, 'kTargetDeterminationTrials': 3, 'kAttractionRatio': 0.048598753161373166, 'kMaxAttractionDistance': 17, 'kStartAttraction': 0.3731378640832325}. Best is trial 51 with value: 8549.427835051547.\u001b[0m\n"
     ]
    },
    {
     "name": "stdout",
     "output_type": "stream",
     "text": [
      "index_parallel='0056'\n"
     ]
    },
    {
     "name": "stderr",
     "output_type": "stream",
     "text": [
      "\u001b[32m[I 2022-08-16 01:02:29,416]\u001b[0m Trial 56 finished with value: 8380.752577319588 and parameters: {'kErase': 1, 'kRadius': 5, 'kAnnealingA': 9.122904144282412, 'kAnnealingB': 2.801039599031466, 'kAnnealingStart': 5.962374326308811, 'kSkipRatio': 0.49896446361141367, 'kTargetDeterminationTrials': 2, 'kAttractionRatio': 0.03098830986238407, 'kMaxAttractionDistance': 17, 'kStartAttraction': 0.6314327940024236}. Best is trial 51 with value: 8549.427835051547.\u001b[0m\n"
     ]
    },
    {
     "name": "stdout",
     "output_type": "stream",
     "text": [
      "index_parallel='0057'\n"
     ]
    },
    {
     "name": "stderr",
     "output_type": "stream",
     "text": [
      "\u001b[32m[I 2022-08-16 01:06:13,252]\u001b[0m Trial 57 finished with value: 8221.768041237114 and parameters: {'kErase': 1, 'kRadius': 5, 'kAnnealingA': 8.442283205557187, 'kAnnealingB': 2.7037283110569263, 'kAnnealingStart': 6.96532243063138, 'kSkipRatio': 0.5014740143541064, 'kTargetDeterminationTrials': 4, 'kAttractionRatio': 0.022685983083600682, 'kMaxAttractionDistance': 21, 'kStartAttraction': 0.1758720774162632}. Best is trial 51 with value: 8549.427835051547.\u001b[0m\n"
     ]
    },
    {
     "name": "stdout",
     "output_type": "stream",
     "text": [
      "index_parallel='0058'\n"
     ]
    },
    {
     "name": "stderr",
     "output_type": "stream",
     "text": [
      "\u001b[32m[I 2022-08-16 01:09:57,272]\u001b[0m Trial 58 finished with value: 8537.969072164948 and parameters: {'kErase': 1, 'kRadius': 5, 'kAnnealingA': 7.957583477568737, 'kAnnealingB': 2.898265697053602, 'kAnnealingStart': 11.679509622345252, 'kSkipRatio': 0.5705191697801065, 'kTargetDeterminationTrials': 2, 'kAttractionRatio': 0.06572039946724305, 'kMaxAttractionDistance': 16, 'kStartAttraction': 0.24326428623828147}. Best is trial 51 with value: 8549.427835051547.\u001b[0m\n"
     ]
    },
    {
     "name": "stdout",
     "output_type": "stream",
     "text": [
      "index_parallel='0059'\n"
     ]
    },
    {
     "name": "stderr",
     "output_type": "stream",
     "text": [
      "\u001b[32m[I 2022-08-16 01:13:40,817]\u001b[0m Trial 59 finished with value: 8472.082474226803 and parameters: {'kErase': 1, 'kRadius': 5, 'kAnnealingA': 7.049318139451662, 'kAnnealingB': 2.9101235528194236, 'kAnnealingStart': 11.000692929678443, 'kSkipRatio': 0.576405537637965, 'kTargetDeterminationTrials': 2, 'kAttractionRatio': 0.0685449401505031, 'kMaxAttractionDistance': 20, 'kStartAttraction': 0.23505214358273235}. Best is trial 51 with value: 8549.427835051547.\u001b[0m\n"
     ]
    },
    {
     "name": "stdout",
     "output_type": "stream",
     "text": [
      "index_parallel='0060'\n"
     ]
    },
    {
     "name": "stderr",
     "output_type": "stream",
     "text": [
      "\u001b[32m[I 2022-08-16 01:17:24,387]\u001b[0m Trial 60 finished with value: 8417.38144329897 and parameters: {'kErase': 1, 'kRadius': 5, 'kAnnealingA': 8.05767600410514, 'kAnnealingB': 2.995347448948821, 'kAnnealingStart': 18.120609521245903, 'kSkipRatio': 0.562454310495832, 'kTargetDeterminationTrials': 4, 'kAttractionRatio': 0.10297074097724299, 'kMaxAttractionDistance': 11, 'kStartAttraction': 0.4501238066573576}. Best is trial 51 with value: 8549.427835051547.\u001b[0m\n"
     ]
    },
    {
     "name": "stdout",
     "output_type": "stream",
     "text": [
      "index_parallel='0061'\n"
     ]
    },
    {
     "name": "stderr",
     "output_type": "stream",
     "text": [
      "\u001b[32m[I 2022-08-16 01:21:08,214]\u001b[0m Trial 61 finished with value: 8455.974226804125 and parameters: {'kErase': 1, 'kRadius': 5, 'kAnnealingA': 6.856515478743523, 'kAnnealingB': 2.9038995341948253, 'kAnnealingStart': 10.501739951544517, 'kSkipRatio': 0.5824188961503055, 'kTargetDeterminationTrials': 2, 'kAttractionRatio': 0.06902957819792042, 'kMaxAttractionDistance': 19, 'kStartAttraction': 0.23302885654822034}. Best is trial 51 with value: 8549.427835051547.\u001b[0m\n"
     ]
    },
    {
     "name": "stdout",
     "output_type": "stream",
     "text": [
      "index_parallel='0062'\n"
     ]
    },
    {
     "name": "stderr",
     "output_type": "stream",
     "text": [
      "\u001b[32m[I 2022-08-16 01:24:51,923]\u001b[0m Trial 62 finished with value: 8484.432989690722 and parameters: {'kErase': 1, 'kRadius': 5, 'kAnnealingA': 7.623455389180961, 'kAnnealingB': 2.7610461373741604, 'kAnnealingStart': 11.662709023836415, 'kSkipRatio': 0.5127176352818238, 'kTargetDeterminationTrials': 2, 'kAttractionRatio': 0.06455151348886579, 'kMaxAttractionDistance': 16, 'kStartAttraction': 0.15018022384255011}. Best is trial 51 with value: 8549.427835051547.\u001b[0m\n"
     ]
    },
    {
     "name": "stdout",
     "output_type": "stream",
     "text": [
      "index_parallel='0063'\n"
     ]
    },
    {
     "name": "stderr",
     "output_type": "stream",
     "text": [
      "\u001b[32m[I 2022-08-16 01:28:35,657]\u001b[0m Trial 63 finished with value: 8481.298969072164 and parameters: {'kErase': 1, 'kRadius': 5, 'kAnnealingA': 6.2829129781608515, 'kAnnealingB': 2.7482751352473045, 'kAnnealingStart': 6.572732074313943, 'kSkipRatio': 0.47986765896800576, 'kTargetDeterminationTrials': 3, 'kAttractionRatio': 0.047219884541045636, 'kMaxAttractionDistance': 16, 'kStartAttraction': 0.1428199435981993}. Best is trial 51 with value: 8549.427835051547.\u001b[0m\n"
     ]
    },
    {
     "name": "stdout",
     "output_type": "stream",
     "text": [
      "index_parallel='0064'\n"
     ]
    },
    {
     "name": "stderr",
     "output_type": "stream",
     "text": [
      "\u001b[32m[I 2022-08-16 01:32:19,372]\u001b[0m Trial 64 finished with value: 8282.41237113402 and parameters: {'kErase': 1, 'kRadius': 4, 'kAnnealingA': 3.7148783005740613, 'kAnnealingB': 2.6076789102109985, 'kAnnealingStart': 5.656465816251541, 'kSkipRatio': 0.5263240557110829, 'kTargetDeterminationTrials': 2, 'kAttractionRatio': 0.031244238926877516, 'kMaxAttractionDistance': 23, 'kStartAttraction': 0.8087759368023162}. Best is trial 51 with value: 8549.427835051547.\u001b[0m\n"
     ]
    },
    {
     "name": "stdout",
     "output_type": "stream",
     "text": [
      "index_parallel='0065'\n"
     ]
    },
    {
     "name": "stderr",
     "output_type": "stream",
     "text": [
      "\u001b[32m[I 2022-08-16 01:36:03,857]\u001b[0m Trial 65 finished with value: 7340.649484536082 and parameters: {'kErase': 5, 'kRadius': 5, 'kAnnealingA': 7.693967553725215, 'kAnnealingB': 2.5806102464744014, 'kAnnealingStart': 11.268265523233975, 'kSkipRatio': 0.4829425648597377, 'kTargetDeterminationTrials': 4, 'kAttractionRatio': 0.0635500293231306, 'kMaxAttractionDistance': 15, 'kStartAttraction': 0.33365412585534715}. Best is trial 51 with value: 8549.427835051547.\u001b[0m\n"
     ]
    },
    {
     "name": "stdout",
     "output_type": "stream",
     "text": [
      "index_parallel='0066'\n"
     ]
    },
    {
     "name": "stderr",
     "output_type": "stream",
     "text": [
      "\u001b[32m[I 2022-08-16 01:39:47,774]\u001b[0m Trial 66 finished with value: 8514.484536082475 and parameters: {'kErase': 1, 'kRadius': 5, 'kAnnealingA': 10.886556054753642, 'kAnnealingB': 2.7521810582903083, 'kAnnealingStart': 7.796759326136038, 'kSkipRatio': 0.5121624653662363, 'kTargetDeterminationTrials': 2, 'kAttractionRatio': 0.11850967350007055, 'kMaxAttractionDistance': 18, 'kStartAttraction': 0.15686743958128543}. Best is trial 51 with value: 8549.427835051547.\u001b[0m\n"
     ]
    },
    {
     "name": "stdout",
     "output_type": "stream",
     "text": [
      "index_parallel='0067'\n"
     ]
    },
    {
     "name": "stderr",
     "output_type": "stream",
     "text": [
      "\u001b[32m[I 2022-08-16 01:43:31,505]\u001b[0m Trial 67 finished with value: 8461.664948453608 and parameters: {'kErase': 1, 'kRadius': 4, 'kAnnealingA': 12.713378731976984, 'kAnnealingB': 2.7006140390691886, 'kAnnealingStart': 7.713984117691856, 'kSkipRatio': 0.43895790477214575, 'kTargetDeterminationTrials': 5, 'kAttractionRatio': 0.1459804632458422, 'kMaxAttractionDistance': 30, 'kStartAttraction': 0.601893609219214}. Best is trial 51 with value: 8549.427835051547.\u001b[0m\n"
     ]
    },
    {
     "name": "stdout",
     "output_type": "stream",
     "text": [
      "index_parallel='0068'\n"
     ]
    },
    {
     "name": "stderr",
     "output_type": "stream",
     "text": [
      "\u001b[32m[I 2022-08-16 01:47:15,331]\u001b[0m Trial 68 finished with value: 8664.427835051547 and parameters: {'kErase': 1, 'kRadius': 5, 'kAnnealingA': 11.122688843820328, 'kAnnealingB': 2.901472574498433, 'kAnnealingStart': 6.259857894514214, 'kSkipRatio': 0.5554947250095075, 'kTargetDeterminationTrials': 3, 'kAttractionRatio': 0.12218752965345814, 'kMaxAttractionDistance': 10, 'kStartAttraction': 0.41558590164829584}. Best is trial 68 with value: 8664.427835051547.\u001b[0m\n"
     ]
    },
    {
     "name": "stdout",
     "output_type": "stream",
     "text": [
      "Updated! 8664.427835051547\n",
      "index_parallel='0069'\n"
     ]
    },
    {
     "name": "stderr",
     "output_type": "stream",
     "text": [
      "\u001b[32m[I 2022-08-16 01:50:59,200]\u001b[0m Trial 69 finished with value: 8625.917525773197 and parameters: {'kErase': 1, 'kRadius': 5, 'kAnnealingA': 11.293402313726066, 'kAnnealingB': 2.513875088247831, 'kAnnealingStart': 5.442267425367678, 'kSkipRatio': 0.5986747373816217, 'kTargetDeterminationTrials': 3, 'kAttractionRatio': 0.11965726815396759, 'kMaxAttractionDistance': 10, 'kStartAttraction': 0.37463286379257055}. Best is trial 68 with value: 8664.427835051547.\u001b[0m\n"
     ]
    },
    {
     "name": "stdout",
     "output_type": "stream",
     "text": [
      "index_parallel='0070'\n"
     ]
    },
    {
     "name": "stderr",
     "output_type": "stream",
     "text": [
      "\u001b[32m[I 2022-08-16 01:54:43,433]\u001b[0m Trial 70 finished with value: 8452.79381443299 and parameters: {'kErase': 1, 'kRadius': 5, 'kAnnealingA': 13.882006209632294, 'kAnnealingB': 2.4427632263773593, 'kAnnealingStart': 3.2856915062828764, 'kSkipRatio': 0.6039191918022909, 'kTargetDeterminationTrials': 1, 'kAttractionRatio': 0.12368782362616625, 'kMaxAttractionDistance': 10, 'kStartAttraction': 0.5182852425894986}. Best is trial 68 with value: 8664.427835051547.\u001b[0m\n"
     ]
    },
    {
     "name": "stdout",
     "output_type": "stream",
     "text": [
      "index_parallel='0071'\n"
     ]
    },
    {
     "name": "stderr",
     "output_type": "stream",
     "text": [
      "\u001b[32m[I 2022-08-16 01:58:26,911]\u001b[0m Trial 71 finished with value: 8555.407216494845 and parameters: {'kErase': 1, 'kRadius': 5, 'kAnnealingA': 10.852160746851494, 'kAnnealingB': 2.553768005406784, 'kAnnealingStart': 5.472381556011097, 'kSkipRatio': 0.5462324051457331, 'kTargetDeterminationTrials': 3, 'kAttractionRatio': 0.15198330632875057, 'kMaxAttractionDistance': 10, 'kStartAttraction': 0.26622568757686565}. Best is trial 68 with value: 8664.427835051547.\u001b[0m\n"
     ]
    },
    {
     "name": "stdout",
     "output_type": "stream",
     "text": [
      "index_parallel='0072'\n"
     ]
    },
    {
     "name": "stderr",
     "output_type": "stream",
     "text": [
      "\u001b[32m[I 2022-08-16 02:02:10,521]\u001b[0m Trial 72 finished with value: 8550.773195876289 and parameters: {'kErase': 1, 'kRadius': 5, 'kAnnealingA': 11.209761130280679, 'kAnnealingB': 2.549931982348046, 'kAnnealingStart': 3.669751906880098, 'kSkipRatio': 0.5519918283520704, 'kTargetDeterminationTrials': 3, 'kAttractionRatio': 0.15401305875112423, 'kMaxAttractionDistance': 10, 'kStartAttraction': 0.2701403129474913}. Best is trial 68 with value: 8664.427835051547.\u001b[0m\n"
     ]
    },
    {
     "name": "stdout",
     "output_type": "stream",
     "text": [
      "index_parallel='0073'\n"
     ]
    },
    {
     "name": "stderr",
     "output_type": "stream",
     "text": [
      "\u001b[32m[I 2022-08-16 02:05:54,486]\u001b[0m Trial 73 finished with value: 8525.680412371134 and parameters: {'kErase': 1, 'kRadius': 5, 'kAnnealingA': 9.589454070452787, 'kAnnealingB': 2.5364800793947775, 'kAnnealingStart': 3.6454069953262453, 'kSkipRatio': 0.550436471916346, 'kTargetDeterminationTrials': 3, 'kAttractionRatio': 0.1544205165983425, 'kMaxAttractionDistance': 10, 'kStartAttraction': 0.2519307867831781}. Best is trial 68 with value: 8664.427835051547.\u001b[0m\n"
     ]
    },
    {
     "name": "stdout",
     "output_type": "stream",
     "text": [
      "index_parallel='0074'\n"
     ]
    },
    {
     "name": "stderr",
     "output_type": "stream",
     "text": [
      "\u001b[32m[I 2022-08-16 02:09:38,269]\u001b[0m Trial 74 finished with value: 8545.546391752578 and parameters: {'kErase': 1, 'kRadius': 5, 'kAnnealingA': 9.706693764212591, 'kAnnealingB': 2.5375139013946977, 'kAnnealingStart': 2.7232452160255374, 'kSkipRatio': 0.5568534688256762, 'kTargetDeterminationTrials': 5, 'kAttractionRatio': 0.15635884595352284, 'kMaxAttractionDistance': 10, 'kStartAttraction': 0.2767212254288782}. Best is trial 68 with value: 8664.427835051547.\u001b[0m\n"
     ]
    },
    {
     "name": "stdout",
     "output_type": "stream",
     "text": [
      "index_parallel='0075'\n"
     ]
    },
    {
     "name": "stderr",
     "output_type": "stream",
     "text": [
      "\u001b[32m[I 2022-08-16 02:13:21,853]\u001b[0m Trial 75 finished with value: 8448.788659793814 and parameters: {'kErase': 1, 'kRadius': 5, 'kAnnealingA': 11.24652919911389, 'kAnnealingB': 2.3937258565436212, 'kAnnealingStart': 2.8759131081994727, 'kSkipRatio': 0.5567406310848007, 'kTargetDeterminationTrials': 5, 'kAttractionRatio': 0.1626694217528675, 'kMaxAttractionDistance': 10, 'kStartAttraction': 0.25772403915470404}. Best is trial 68 with value: 8664.427835051547.\u001b[0m\n"
     ]
    },
    {
     "name": "stdout",
     "output_type": "stream",
     "text": [
      "index_parallel='0076'\n"
     ]
    },
    {
     "name": "stderr",
     "output_type": "stream",
     "text": [
      "\u001b[32m[I 2022-08-16 02:17:05,789]\u001b[0m Trial 76 finished with value: 8557.08762886598 and parameters: {'kErase': 1, 'kRadius': 4, 'kAnnealingA': 9.678208213065668, 'kAnnealingB': 2.547296949090013, 'kAnnealingStart': 2.6445285161954164, 'kSkipRatio': 0.6176834383754458, 'kTargetDeterminationTrials': 4, 'kAttractionRatio': 0.24270080868272173, 'kMaxAttractionDistance': 10, 'kStartAttraction': 0.511909034746127}. Best is trial 68 with value: 8664.427835051547.\u001b[0m\n"
     ]
    },
    {
     "name": "stdout",
     "output_type": "stream",
     "text": [
      "index_parallel='0077'\n"
     ]
    },
    {
     "name": "stderr",
     "output_type": "stream",
     "text": [
      "\u001b[32m[I 2022-08-16 02:20:49,268]\u001b[0m Trial 77 finished with value: 8717.90206185567 and parameters: {'kErase': 1, 'kRadius': 4, 'kAnnealingA': 12.482330290580158, 'kAnnealingB': 2.160242529407739, 'kAnnealingStart': 4.07978127363604, 'kSkipRatio': 0.6001948216741284, 'kTargetDeterminationTrials': 4, 'kAttractionRatio': 0.2415230553687283, 'kMaxAttractionDistance': 12, 'kStartAttraction': 0.46398205059035774}. Best is trial 77 with value: 8717.90206185567.\u001b[0m\n"
     ]
    },
    {
     "name": "stdout",
     "output_type": "stream",
     "text": [
      "Updated! 8717.90206185567\n",
      "index_parallel='0078'\n"
     ]
    },
    {
     "name": "stderr",
     "output_type": "stream",
     "text": [
      "\u001b[32m[I 2022-08-16 02:24:32,884]\u001b[0m Trial 78 finished with value: 8424.726804123711 and parameters: {'kErase': 1, 'kRadius': 4, 'kAnnealingA': 12.546769488019656, 'kAnnealingB': 2.0218197074120243, 'kAnnealingStart': 2.8730296491756793, 'kSkipRatio': 0.5948741088326984, 'kTargetDeterminationTrials': 4, 'kAttractionRatio': 0.215120737679691, 'kMaxAttractionDistance': 12, 'kStartAttraction': 0.8986229839887081}. Best is trial 77 with value: 8717.90206185567.\u001b[0m\n"
     ]
    },
    {
     "name": "stdout",
     "output_type": "stream",
     "text": [
      "index_parallel='0079'\n"
     ]
    },
    {
     "name": "stderr",
     "output_type": "stream",
     "text": [
      "\u001b[32m[I 2022-08-16 02:28:16,983]\u001b[0m Trial 79 finished with value: 8568.701030927836 and parameters: {'kErase': 1, 'kRadius': 4, 'kAnnealingA': 14.874040753653643, 'kAnnealingB': 2.158355201260238, 'kAnnealingStart': 4.13690194297422, 'kSkipRatio': 0.5909994488310316, 'kTargetDeterminationTrials': 5, 'kAttractionRatio': 0.24265470003899767, 'kMaxAttractionDistance': 9, 'kStartAttraction': 0.5356686634127009}. Best is trial 77 with value: 8717.90206185567.\u001b[0m\n"
     ]
    },
    {
     "name": "stdout",
     "output_type": "stream",
     "text": [
      "index_parallel='0080'\n"
     ]
    },
    {
     "name": "stderr",
     "output_type": "stream",
     "text": [
      "\u001b[32m[I 2022-08-16 02:32:00,766]\u001b[0m Trial 80 finished with value: 8580.360824742267 and parameters: {'kErase': 1, 'kRadius': 4, 'kAnnealingA': 14.538505424611392, 'kAnnealingB': 2.1680634944603723, 'kAnnealingStart': 3.9569320905521934, 'kSkipRatio': 0.61867576161378, 'kTargetDeterminationTrials': 4, 'kAttractionRatio': 0.24818911594617987, 'kMaxAttractionDistance': 9, 'kStartAttraction': 0.5046988501434512}. Best is trial 77 with value: 8717.90206185567.\u001b[0m\n"
     ]
    },
    {
     "name": "stdout",
     "output_type": "stream",
     "text": [
      "index_parallel='0081'\n"
     ]
    },
    {
     "name": "stderr",
     "output_type": "stream",
     "text": [
      "\u001b[32m[I 2022-08-16 02:35:44,388]\u001b[0m Trial 81 finished with value: 8583.79381443299 and parameters: {'kErase': 1, 'kRadius': 4, 'kAnnealingA': 14.625443537675757, 'kAnnealingB': 2.1823674597752754, 'kAnnealingStart': 4.184372250568329, 'kSkipRatio': 0.6300909211944835, 'kTargetDeterminationTrials': 4, 'kAttractionRatio': 0.26918538963110006, 'kMaxAttractionDistance': 9, 'kStartAttraction': 0.48916379894645995}. Best is trial 77 with value: 8717.90206185567.\u001b[0m\n"
     ]
    },
    {
     "name": "stdout",
     "output_type": "stream",
     "text": [
      "index_parallel='0082'\n"
     ]
    },
    {
     "name": "stderr",
     "output_type": "stream",
     "text": [
      "\u001b[32m[I 2022-08-16 02:39:28,009]\u001b[0m Trial 82 finished with value: 8549.231958762886 and parameters: {'kErase': 1, 'kRadius': 4, 'kAnnealingA': 14.074341312737369, 'kAnnealingB': 2.171851539199467, 'kAnnealingStart': 4.183762702359226, 'kSkipRatio': 0.6324002429591571, 'kTargetDeterminationTrials': 4, 'kAttractionRatio': 0.2548891485941707, 'kMaxAttractionDistance': 9, 'kStartAttraction': 0.4869188242295077}. Best is trial 77 with value: 8717.90206185567.\u001b[0m\n"
     ]
    },
    {
     "name": "stdout",
     "output_type": "stream",
     "text": [
      "index_parallel='0083'\n"
     ]
    },
    {
     "name": "stderr",
     "output_type": "stream",
     "text": [
      "\u001b[32m[I 2022-08-16 02:43:11,635]\u001b[0m Trial 83 finished with value: 8551.768041237114 and parameters: {'kErase': 1, 'kRadius': 4, 'kAnnealingA': 14.514005229872645, 'kAnnealingB': 1.7229513321901337, 'kAnnealingStart': 5.4198943385165546, 'kSkipRatio': 0.619437338646616, 'kTargetDeterminationTrials': 5, 'kAttractionRatio': 0.3473072274864643, 'kMaxAttractionDistance': 8, 'kStartAttraction': 0.38870411899017937}. Best is trial 77 with value: 8717.90206185567.\u001b[0m\n"
     ]
    },
    {
     "name": "stdout",
     "output_type": "stream",
     "text": [
      "index_parallel='0084'\n"
     ]
    },
    {
     "name": "stderr",
     "output_type": "stream",
     "text": [
      "\u001b[32m[I 2022-08-16 02:46:55,241]\u001b[0m Trial 84 finished with value: 8525.247422680412 and parameters: {'kErase': 1, 'kRadius': 4, 'kAnnealingA': 14.920282627814478, 'kAnnealingB': 1.7060475009167166, 'kAnnealingStart': 4.728867970868943, 'kSkipRatio': 0.6440750799998459, 'kTargetDeterminationTrials': 5, 'kAttractionRatio': 0.41504216043081293, 'kMaxAttractionDistance': 8, 'kStartAttraction': 0.7268035952776224}. Best is trial 77 with value: 8717.90206185567.\u001b[0m\n"
     ]
    },
    {
     "name": "stdout",
     "output_type": "stream",
     "text": [
      "index_parallel='0085'\n"
     ]
    },
    {
     "name": "stderr",
     "output_type": "stream",
     "text": [
      "\u001b[32m[I 2022-08-16 02:50:39,285]\u001b[0m Trial 85 finished with value: 8671.01030927835 and parameters: {'kErase': 1, 'kRadius': 4, 'kAnnealingA': 13.264317976621859, 'kAnnealingB': 1.5685821967223574, 'kAnnealingStart': 5.233371568949576, 'kSkipRatio': 0.6151342239574463, 'kTargetDeterminationTrials': 5, 'kAttractionRatio': 0.18778074467956474, 'kMaxAttractionDistance': 12, 'kStartAttraction': 0.5807395854393929}. Best is trial 77 with value: 8717.90206185567.\u001b[0m\n"
     ]
    },
    {
     "name": "stdout",
     "output_type": "stream",
     "text": [
      "index_parallel='0086'\n"
     ]
    },
    {
     "name": "stderr",
     "output_type": "stream",
     "text": [
      "\u001b[32m[I 2022-08-16 02:54:23,013]\u001b[0m Trial 86 finished with value: 8628.201030927836 and parameters: {'kErase': 1, 'kRadius': 4, 'kAnnealingA': 12.949668828244121, 'kAnnealingB': 2.0477867452137875, 'kAnnealingStart': 5.1317154756561045, 'kSkipRatio': 0.5909597354781839, 'kTargetDeterminationTrials': 7, 'kAttractionRatio': 0.1867657862660392, 'kMaxAttractionDistance': 9, 'kStartAttraction': 0.5306431474192462}. Best is trial 77 with value: 8717.90206185567.\u001b[0m\n"
     ]
    },
    {
     "name": "stdout",
     "output_type": "stream",
     "text": [
      "index_parallel='0087'\n"
     ]
    },
    {
     "name": "stderr",
     "output_type": "stream",
     "text": [
      "\u001b[32m[I 2022-08-16 02:58:06,525]\u001b[0m Trial 87 finished with value: 8533.59793814433 and parameters: {'kErase': 1, 'kRadius': 4, 'kAnnealingA': 13.069179809859921, 'kAnnealingB': 1.5549486547028104, 'kAnnealingStart': 2.5843816408211717, 'kSkipRatio': 0.6831549932734655, 'kTargetDeterminationTrials': 7, 'kAttractionRatio': 0.1877457613810917, 'kMaxAttractionDistance': 9, 'kStartAttraction': 0.531738775851199}. Best is trial 77 with value: 8717.90206185567.\u001b[0m\n"
     ]
    },
    {
     "name": "stdout",
     "output_type": "stream",
     "text": [
      "index_parallel='0088'\n"
     ]
    },
    {
     "name": "stderr",
     "output_type": "stream",
     "text": [
      "\u001b[32m[I 2022-08-16 03:01:50,585]\u001b[0m Trial 88 finished with value: 8655.324742268042 and parameters: {'kErase': 2, 'kRadius': 4, 'kAnnealingA': 11.917085913754223, 'kAnnealingB': 2.0233230930249553, 'kAnnealingStart': 4.161495684592773, 'kSkipRatio': 0.5910688058410797, 'kTargetDeterminationTrials': 4, 'kAttractionRatio': 0.26053308770140804, 'kMaxAttractionDistance': 12, 'kStartAttraction': 0.6664102032383513}. Best is trial 77 with value: 8717.90206185567.\u001b[0m\n"
     ]
    },
    {
     "name": "stdout",
     "output_type": "stream",
     "text": [
      "index_parallel='0089'\n"
     ]
    },
    {
     "name": "stderr",
     "output_type": "stream",
     "text": [
      "\u001b[32m[I 2022-08-16 03:05:34,502]\u001b[0m Trial 89 finished with value: 8617.670103092783 and parameters: {'kErase': 2, 'kRadius': 3, 'kAnnealingA': 12.096296321632407, 'kAnnealingB': 1.9922481251123023, 'kAnnealingStart': 4.0447744284560985, 'kSkipRatio': 0.5932487947815372, 'kTargetDeterminationTrials': 9, 'kAttractionRatio': 0.297505443781968, 'kMaxAttractionDistance': 12, 'kStartAttraction': 0.7167243395000091}. Best is trial 77 with value: 8717.90206185567.\u001b[0m\n"
     ]
    },
    {
     "name": "stdout",
     "output_type": "stream",
     "text": [
      "index_parallel='0090'\n"
     ]
    },
    {
     "name": "stderr",
     "output_type": "stream",
     "text": [
      "\u001b[32m[I 2022-08-16 03:09:18,966]\u001b[0m Trial 90 finished with value: 8299.773195876289 and parameters: {'kErase': 4, 'kRadius': 3, 'kAnnealingA': 12.15140956408846, 'kAnnealingB': 2.018943159879418, 'kAnnealingStart': 3.354458535148402, 'kSkipRatio': 0.7042279586319411, 'kTargetDeterminationTrials': 9, 'kAttractionRatio': 0.177025697666331, 'kMaxAttractionDistance': 12, 'kStartAttraction': 0.7443058079643826}. Best is trial 77 with value: 8717.90206185567.\u001b[0m\n"
     ]
    },
    {
     "name": "stdout",
     "output_type": "stream",
     "text": [
      "index_parallel='0091'\n"
     ]
    },
    {
     "name": "stderr",
     "output_type": "stream",
     "text": [
      "\u001b[32m[I 2022-08-16 03:13:03,177]\u001b[0m Trial 91 finished with value: 8565.788659793814 and parameters: {'kErase': 3, 'kRadius': 4, 'kAnnealingA': 13.420835033744197, 'kAnnealingB': 1.824239782762667, 'kAnnealingStart': 4.975260412323248, 'kSkipRatio': 0.5881743246768198, 'kTargetDeterminationTrials': 10, 'kAttractionRatio': 0.2952854653246049, 'kMaxAttractionDistance': 12, 'kStartAttraction': 0.6056146867017379}. Best is trial 77 with value: 8717.90206185567.\u001b[0m\n"
     ]
    },
    {
     "name": "stdout",
     "output_type": "stream",
     "text": [
      "index_parallel='0092'\n"
     ]
    },
    {
     "name": "stderr",
     "output_type": "stream",
     "text": [
      "\u001b[32m[I 2022-08-16 03:16:47,390]\u001b[0m Trial 92 finished with value: 8673.226804123711 and parameters: {'kErase': 2, 'kRadius': 4, 'kAnnealingA': 11.933920572330402, 'kAnnealingB': 2.0216262643926415, 'kAnnealingStart': 4.3315867525930445, 'kSkipRatio': 0.6015267802403815, 'kTargetDeterminationTrials': 7, 'kAttractionRatio': 0.270194790493898, 'kMaxAttractionDistance': 11, 'kStartAttraction': 0.4187840528785125}. Best is trial 77 with value: 8717.90206185567.\u001b[0m\n"
     ]
    },
    {
     "name": "stdout",
     "output_type": "stream",
     "text": [
      "index_parallel='0093'\n"
     ]
    },
    {
     "name": "stderr",
     "output_type": "stream",
     "text": [
      "\u001b[32m[I 2022-08-16 03:20:31,527]\u001b[0m Trial 93 finished with value: 8651.432989690722 and parameters: {'kErase': 2, 'kRadius': 3, 'kAnnealingA': 11.936914430704102, 'kAnnealingB': 2.0084686567333954, 'kAnnealingStart': 4.096306441290702, 'kSkipRatio': 0.6470523435427239, 'kTargetDeterminationTrials': 12, 'kAttractionRatio': 0.27136740996815856, 'kMaxAttractionDistance': 11, 'kStartAttraction': 0.41150085825521}. Best is trial 77 with value: 8717.90206185567.\u001b[0m\n"
     ]
    },
    {
     "name": "stdout",
     "output_type": "stream",
     "text": [
      "index_parallel='0094'\n"
     ]
    },
    {
     "name": "stderr",
     "output_type": "stream",
     "text": [
      "\u001b[32m[I 2022-08-16 03:24:15,456]\u001b[0m Trial 94 finished with value: 8662.840206185567 and parameters: {'kErase': 2, 'kRadius': 3, 'kAnnealingA': 12.025732172803938, 'kAnnealingB': 2.006391212441648, 'kAnnealingStart': 6.31151728876296, 'kSkipRatio': 0.6560450165653516, 'kTargetDeterminationTrials': 7, 'kAttractionRatio': 0.20257849765958538, 'kMaxAttractionDistance': 11, 'kStartAttraction': 0.38276651196756467}. Best is trial 77 with value: 8717.90206185567.\u001b[0m\n"
     ]
    },
    {
     "name": "stdout",
     "output_type": "stream",
     "text": [
      "index_parallel='0095'\n"
     ]
    },
    {
     "name": "stderr",
     "output_type": "stream",
     "text": [
      "\u001b[32m[I 2022-08-16 03:27:59,421]\u001b[0m Trial 95 finished with value: 8623.139175257733 and parameters: {'kErase': 2, 'kRadius': 3, 'kAnnealingA': 11.868931993366177, 'kAnnealingB': 2.0181153964333514, 'kAnnealingStart': 6.053104155854106, 'kSkipRatio': 0.6557877502101287, 'kTargetDeterminationTrials': 11, 'kAttractionRatio': 0.19961873023006985, 'kMaxAttractionDistance': 11, 'kStartAttraction': 0.3914362269806488}. Best is trial 77 with value: 8717.90206185567.\u001b[0m\n"
     ]
    },
    {
     "name": "stdout",
     "output_type": "stream",
     "text": [
      "index_parallel='0096'\n"
     ]
    },
    {
     "name": "stderr",
     "output_type": "stream",
     "text": [
      "\u001b[32m[I 2022-08-16 03:31:43,536]\u001b[0m Trial 96 finished with value: 8611.659793814433 and parameters: {'kErase': 2, 'kRadius': 3, 'kAnnealingA': 13.17672628593293, 'kAnnealingB': 1.824104481348541, 'kAnnealingStart': 6.348235231206362, 'kSkipRatio': 0.6558436634052852, 'kTargetDeterminationTrials': 12, 'kAttractionRatio': 0.19489428028544964, 'kMaxAttractionDistance': 11, 'kStartAttraction': 0.3978590118037319}. Best is trial 77 with value: 8717.90206185567.\u001b[0m\n"
     ]
    },
    {
     "name": "stdout",
     "output_type": "stream",
     "text": [
      "index_parallel='0097'\n"
     ]
    },
    {
     "name": "stderr",
     "output_type": "stream",
     "text": [
      "\u001b[32m[I 2022-08-16 03:35:27,600]\u001b[0m Trial 97 finished with value: 8676.675257731958 and parameters: {'kErase': 2, 'kRadius': 3, 'kAnnealingA': 11.726908883205756, 'kAnnealingB': 2.0992203861400007, 'kAnnealingStart': 6.009054380595583, 'kSkipRatio': 0.7442969285630017, 'kTargetDeterminationTrials': 11, 'kAttractionRatio': 0.21130749090961498, 'kMaxAttractionDistance': 13, 'kStartAttraction': 0.35825326768710997}. Best is trial 77 with value: 8717.90206185567.\u001b[0m\n"
     ]
    },
    {
     "name": "stdout",
     "output_type": "stream",
     "text": [
      "index_parallel='0098'\n"
     ]
    },
    {
     "name": "stderr",
     "output_type": "stream",
     "text": [
      "\u001b[32m[I 2022-08-16 03:39:11,552]\u001b[0m Trial 98 finished with value: 8701.283505154639 and parameters: {'kErase': 2, 'kRadius': 3, 'kAnnealingA': 10.477832792477312, 'kAnnealingB': 2.100053261178165, 'kAnnealingStart': 5.075116326938252, 'kSkipRatio': 0.7455612158127063, 'kTargetDeterminationTrials': 13, 'kAttractionRatio': 0.3940936669535332, 'kMaxAttractionDistance': 13, 'kStartAttraction': 0.3478904175500227}. Best is trial 77 with value: 8717.90206185567.\u001b[0m\n"
     ]
    },
    {
     "name": "stdout",
     "output_type": "stream",
     "text": [
      "index_parallel='0099'\n"
     ]
    },
    {
     "name": "stderr",
     "output_type": "stream",
     "text": [
      "\u001b[32m[I 2022-08-16 03:42:55,938]\u001b[0m Trial 99 finished with value: 8765.850515463917 and parameters: {'kErase': 2, 'kRadius': 3, 'kAnnealingA': 10.26833991984164, 'kAnnealingB': 2.266152165582577, 'kAnnealingStart': 5.0501920966058185, 'kSkipRatio': 0.7925544724324415, 'kTargetDeterminationTrials': 13, 'kAttractionRatio': 0.40563543255650747, 'kMaxAttractionDistance': 13, 'kStartAttraction': 0.6490187394868119}. Best is trial 99 with value: 8765.850515463917.\u001b[0m\n"
     ]
    },
    {
     "name": "stdout",
     "output_type": "stream",
     "text": [
      "Updated! 8765.850515463917\n",
      "index_parallel='0100'\n"
     ]
    },
    {
     "name": "stderr",
     "output_type": "stream",
     "text": [
      "\u001b[32m[I 2022-08-16 03:46:40,237]\u001b[0m Trial 100 finished with value: 8652.974226804125 and parameters: {'kErase': 2, 'kRadius': 3, 'kAnnealingA': 10.235165407732609, 'kAnnealingB': 2.272437114562917, 'kAnnealingStart': 3.130172656062256, 'kSkipRatio': 0.7646291576300069, 'kTargetDeterminationTrials': 13, 'kAttractionRatio': 0.48740844031775915, 'kMaxAttractionDistance': 13, 'kStartAttraction': 0.6240279026876822}. Best is trial 99 with value: 8765.850515463917.\u001b[0m\n"
     ]
    },
    {
     "name": "stdout",
     "output_type": "stream",
     "text": [
      "index_parallel='0101'\n"
     ]
    },
    {
     "name": "stderr",
     "output_type": "stream",
     "text": [
      "\u001b[32m[I 2022-08-16 03:50:24,190]\u001b[0m Trial 101 finished with value: 8725.685567010309 and parameters: {'kErase': 2, 'kRadius': 3, 'kAnnealingA': 10.42229995703143, 'kAnnealingB': 2.2664155107354715, 'kAnnealingStart': 4.523334958414622, 'kSkipRatio': 0.7636264020839296, 'kTargetDeterminationTrials': 17, 'kAttractionRatio': 0.5261619742028614, 'kMaxAttractionDistance': 13, 'kStartAttraction': 0.6315712640788789}. Best is trial 99 with value: 8765.850515463917.\u001b[0m\n"
     ]
    },
    {
     "name": "stdout",
     "output_type": "stream",
     "text": [
      "index_parallel='0102'\n"
     ]
    },
    {
     "name": "stderr",
     "output_type": "stream",
     "text": [
      "\u001b[32m[I 2022-08-16 03:54:08,121]\u001b[0m Trial 102 finished with value: 8681.015463917525 and parameters: {'kErase': 2, 'kRadius': 3, 'kAnnealingA': 10.135725975361458, 'kAnnealingB': 2.243935329426859, 'kAnnealingStart': 3.463082438017289, 'kSkipRatio': 0.7678667662906143, 'kTargetDeterminationTrials': 18, 'kAttractionRatio': 0.5614545924314095, 'kMaxAttractionDistance': 13, 'kStartAttraction': 0.6164071524886463}. Best is trial 99 with value: 8765.850515463917.\u001b[0m\n"
     ]
    },
    {
     "name": "stdout",
     "output_type": "stream",
     "text": [
      "index_parallel='0103'\n"
     ]
    },
    {
     "name": "stderr",
     "output_type": "stream",
     "text": [
      "\u001b[32m[I 2022-08-16 03:57:52,321]\u001b[0m Trial 103 finished with value: 8577.561855670103 and parameters: {'kErase': 2, 'kRadius': 3, 'kAnnealingA': 10.427778201018684, 'kAnnealingB': 1.9358259060393956, 'kAnnealingStart': 4.461608308150325, 'kSkipRatio': 0.7998558720498931, 'kTargetDeterminationTrials': 18, 'kAttractionRatio': 0.6168911319787191, 'kMaxAttractionDistance': 15, 'kStartAttraction': 0.8489377725935633}. Best is trial 99 with value: 8765.850515463917.\u001b[0m\n"
     ]
    },
    {
     "name": "stdout",
     "output_type": "stream",
     "text": [
      "index_parallel='0104'\n"
     ]
    },
    {
     "name": "stderr",
     "output_type": "stream",
     "text": [
      "\u001b[32m[I 2022-08-16 04:01:36,408]\u001b[0m Trial 104 finished with value: 8446.036082474227 and parameters: {'kErase': 3, 'kRadius': 3, 'kAnnealingA': 9.149652026384747, 'kAnnealingB': 2.105685535935306, 'kAnnealingStart': 3.632896579070505, 'kSkipRatio': 0.7461416261208853, 'kTargetDeterminationTrials': 17, 'kAttractionRatio': 0.8246600550177818, 'kMaxAttractionDistance': 13, 'kStartAttraction': 0.3510151411916586}. Best is trial 99 with value: 8765.850515463917.\u001b[0m\n"
     ]
    },
    {
     "name": "stdout",
     "output_type": "stream",
     "text": [
      "index_parallel='0105'\n"
     ]
    },
    {
     "name": "stderr",
     "output_type": "stream",
     "text": [
      "\u001b[32m[I 2022-08-16 04:05:20,595]\u001b[0m Trial 105 finished with value: 8784.175257731958 and parameters: {'kErase': 2, 'kRadius': 3, 'kAnnealingA': 10.594728295174187, 'kAnnealingB': 2.370069679970253, 'kAnnealingStart': 5.977765954235972, 'kSkipRatio': 0.7316373700921732, 'kTargetDeterminationTrials': 14, 'kAttractionRatio': 0.38919066396593094, 'kMaxAttractionDistance': 13, 'kStartAttraction': 0.6274419618228092}. Best is trial 105 with value: 8784.175257731958.\u001b[0m\n"
     ]
    },
    {
     "name": "stdout",
     "output_type": "stream",
     "text": [
      "Updated! 8784.175257731958\n",
      "index_parallel='0106'\n"
     ]
    },
    {
     "name": "stderr",
     "output_type": "stream",
     "text": [
      "\u001b[32m[I 2022-08-16 04:09:04,966]\u001b[0m Trial 106 finished with value: 8665.438144329897 and parameters: {'kErase': 2, 'kRadius': 3, 'kAnnealingA': 9.01133383697027, 'kAnnealingB': 2.229182065881905, 'kAnnealingStart': 6.1445517822631945, 'kSkipRatio': 0.7362717118104802, 'kTargetDeterminationTrials': 16, 'kAttractionRatio': 0.4058303771195237, 'kMaxAttractionDistance': 13, 'kStartAttraction': 0.4447878205244565}. Best is trial 105 with value: 8784.175257731958.\u001b[0m\n"
     ]
    },
    {
     "name": "stdout",
     "output_type": "stream",
     "text": [
      "index_parallel='0107'\n"
     ]
    },
    {
     "name": "stderr",
     "output_type": "stream",
     "text": [
      "\u001b[32m[I 2022-08-16 04:12:49,150]\u001b[0m Trial 107 finished with value: 8687.360824742267 and parameters: {'kErase': 2, 'kRadius': 3, 'kAnnealingA': 8.988596699278364, 'kAnnealingB': 2.389737530474456, 'kAnnealingStart': 8.521910665890838, 'kSkipRatio': 0.7335130917086725, 'kTargetDeterminationTrials': 16, 'kAttractionRatio': 0.4200169179858838, 'kMaxAttractionDistance': 13, 'kStartAttraction': 0.43857166557646887}. Best is trial 105 with value: 8784.175257731958.\u001b[0m\n"
     ]
    },
    {
     "name": "stdout",
     "output_type": "stream",
     "text": [
      "index_parallel='0108'\n"
     ]
    },
    {
     "name": "stderr",
     "output_type": "stream",
     "text": [
      "\u001b[32m[I 2022-08-16 04:16:33,487]\u001b[0m Trial 108 finished with value: 8623.752577319588 and parameters: {'kErase': 2, 'kRadius': 3, 'kAnnealingA': 9.145867911315825, 'kAnnealingB': 2.366308364320428, 'kAnnealingStart': 5.076268515055124, 'kSkipRatio': 0.734682178108883, 'kTargetDeterminationTrials': 14, 'kAttractionRatio': 0.42287469895249524, 'kMaxAttractionDistance': 13, 'kStartAttraction': 0.7674138930935275}. Best is trial 105 with value: 8784.175257731958.\u001b[0m\n"
     ]
    },
    {
     "name": "stdout",
     "output_type": "stream",
     "text": [
      "index_parallel='0109'\n"
     ]
    },
    {
     "name": "stderr",
     "output_type": "stream",
     "text": [
      "\u001b[32m[I 2022-08-16 04:20:17,836]\u001b[0m Trial 109 finished with value: 8606.649484536083 and parameters: {'kErase': 2, 'kRadius': 2, 'kAnnealingA': 8.675840813080738, 'kAnnealingB': 2.2506640138221403, 'kAnnealingStart': 4.638748842844578, 'kSkipRatio': 0.7687256191064149, 'kTargetDeterminationTrials': 17, 'kAttractionRatio': 0.5660224952975446, 'kMaxAttractionDistance': 15, 'kStartAttraction': 0.6348933762345438}. Best is trial 105 with value: 8784.175257731958.\u001b[0m\n"
     ]
    },
    {
     "name": "stdout",
     "output_type": "stream",
     "text": [
      "index_parallel='0110'\n"
     ]
    },
    {
     "name": "stderr",
     "output_type": "stream",
     "text": [
      "\u001b[32m[I 2022-08-16 04:24:02,152]\u001b[0m Trial 110 finished with value: 8714.61855670103 and parameters: {'kErase': 2, 'kRadius': 3, 'kAnnealingA': 10.48765467801897, 'kAnnealingB': 2.3100437995025507, 'kAnnealingStart': 8.462848010312891, 'kSkipRatio': 0.7292581635823171, 'kTargetDeterminationTrials': 14, 'kAttractionRatio': 0.3978792685483992, 'kMaxAttractionDistance': 18, 'kStartAttraction': 0.4549531884503555}. Best is trial 105 with value: 8784.175257731958.\u001b[0m\n"
     ]
    },
    {
     "name": "stdout",
     "output_type": "stream",
     "text": [
      "index_parallel='0111'\n"
     ]
    },
    {
     "name": "stderr",
     "output_type": "stream",
     "text": [
      "\u001b[32m[I 2022-08-16 04:27:46,532]\u001b[0m Trial 111 finished with value: 6626.845360824742 and parameters: {'kErase': 2, 'kRadius': 3, 'kAnnealingA': 10.194713147535781, 'kAnnealingB': 2.29410884477947, 'kAnnealingStart': 73.31541723432721, 'kSkipRatio': 0.7262017718551164, 'kTargetDeterminationTrials': 13, 'kAttractionRatio': 0.37029716465060664, 'kMaxAttractionDistance': 17, 'kStartAttraction': 0.5794834043284828}. Best is trial 105 with value: 8784.175257731958.\u001b[0m\n"
     ]
    },
    {
     "name": "stdout",
     "output_type": "stream",
     "text": [
      "index_parallel='0112'\n"
     ]
    },
    {
     "name": "stderr",
     "output_type": "stream",
     "text": [
      "\u001b[32m[I 2022-08-16 04:31:30,870]\u001b[0m Trial 112 finished with value: 8713.87113402062 and parameters: {'kErase': 2, 'kRadius': 3, 'kAnnealingA': 10.449864294389549, 'kAnnealingB': 2.4216541244405985, 'kAnnealingStart': 5.786313662327765, 'kSkipRatio': 0.7501810966966388, 'kTargetDeterminationTrials': 16, 'kAttractionRatio': 0.45769636980159706, 'kMaxAttractionDistance': 14, 'kStartAttraction': 0.44383707856030924}. Best is trial 105 with value: 8784.175257731958.\u001b[0m\n"
     ]
    },
    {
     "name": "stdout",
     "output_type": "stream",
     "text": [
      "index_parallel='0113'\n"
     ]
    },
    {
     "name": "stderr",
     "output_type": "stream",
     "text": [
      "\u001b[32m[I 2022-08-16 04:35:15,095]\u001b[0m Trial 113 finished with value: 8619.670103092783 and parameters: {'kErase': 2, 'kRadius': 3, 'kAnnealingA': 10.614236397782445, 'kAnnealingB': 2.4155530365586984, 'kAnnealingStart': 5.750768574450521, 'kSkipRatio': 0.7532649017506928, 'kTargetDeterminationTrials': 14, 'kAttractionRatio': 0.4582024579770167, 'kMaxAttractionDistance': 18, 'kStartAttraction': 0.46422056395251304}. Best is trial 105 with value: 8784.175257731958.\u001b[0m\n"
     ]
    },
    {
     "name": "stdout",
     "output_type": "stream",
     "text": [
      "index_parallel='0114'\n"
     ]
    },
    {
     "name": "stderr",
     "output_type": "stream",
     "text": [
      "\u001b[32m[I 2022-08-16 04:38:59,295]\u001b[0m Trial 114 finished with value: 8750.670103092783 and parameters: {'kErase': 2, 'kRadius': 3, 'kAnnealingA': 9.924321429927552, 'kAnnealingB': 2.3129283282076316, 'kAnnealingStart': 8.517849230237214, 'kSkipRatio': 0.7881667879036264, 'kTargetDeterminationTrials': 11, 'kAttractionRatio': 0.5371546693145997, 'kMaxAttractionDistance': 14, 'kStartAttraction': 0.6918776971193825}. Best is trial 105 with value: 8784.175257731958.\u001b[0m\n"
     ]
    },
    {
     "name": "stdout",
     "output_type": "stream",
     "text": [
      "index_parallel='0115'\n"
     ]
    },
    {
     "name": "stderr",
     "output_type": "stream",
     "text": [
      "\u001b[32m[I 2022-08-16 04:42:43,389]\u001b[0m Trial 115 finished with value: 8688.536082474227 and parameters: {'kErase': 2, 'kRadius': 3, 'kAnnealingA': 9.869945504128406, 'kAnnealingB': 2.326841266243287, 'kAnnealingStart': 8.971327051216543, 'kSkipRatio': 0.7866760651324702, 'kTargetDeterminationTrials': 11, 'kAttractionRatio': 0.5344525381686565, 'kMaxAttractionDistance': 14, 'kStartAttraction': 0.7117315802969816}. Best is trial 105 with value: 8784.175257731958.\u001b[0m\n"
     ]
    },
    {
     "name": "stdout",
     "output_type": "stream",
     "text": [
      "index_parallel='0116'\n"
     ]
    },
    {
     "name": "stderr",
     "output_type": "stream",
     "text": [
      "\u001b[32m[I 2022-08-16 04:46:27,470]\u001b[0m Trial 116 finished with value: 8740.201030927836 and parameters: {'kErase': 2, 'kRadius': 3, 'kAnnealingA': 9.958323357351484, 'kAnnealingB': 2.3454063671853036, 'kAnnealingStart': 8.77204869335024, 'kSkipRatio': 0.7790663161126817, 'kTargetDeterminationTrials': 11, 'kAttractionRatio': 0.6583411939433879, 'kMaxAttractionDistance': 14, 'kStartAttraction': 0.6914181286452017}. Best is trial 105 with value: 8784.175257731958.\u001b[0m\n"
     ]
    },
    {
     "name": "stdout",
     "output_type": "stream",
     "text": [
      "index_parallel='0117'\n"
     ]
    },
    {
     "name": "stderr",
     "output_type": "stream",
     "text": [
      "\u001b[32m[I 2022-08-16 04:50:11,603]\u001b[0m Trial 117 finished with value: 8575.283505154639 and parameters: {'kErase': 2, 'kRadius': 3, 'kAnnealingA': 9.828835160027259, 'kAnnealingB': 2.3117892062729166, 'kAnnealingStart': 12.926575706935353, 'kSkipRatio': 0.7889989248777636, 'kTargetDeterminationTrials': 19, 'kAttractionRatio': 0.7002721234056619, 'kMaxAttractionDistance': 22, 'kStartAttraction': 0.8658611330074227}. Best is trial 105 with value: 8784.175257731958.\u001b[0m\n"
     ]
    },
    {
     "name": "stdout",
     "output_type": "stream",
     "text": [
      "index_parallel='0118'\n"
     ]
    },
    {
     "name": "stderr",
     "output_type": "stream",
     "text": [
      "\u001b[32m[I 2022-08-16 04:53:55,648]\u001b[0m Trial 118 finished with value: 7785.628865979382 and parameters: {'kErase': 2, 'kRadius': 3, 'kAnnealingA': 8.540294041614624, 'kAnnealingB': 2.4571069256045033, 'kAnnealingStart': 10.13108584083894, 'kSkipRatio': 0.767193844535976, 'kTargetDeterminationTrials': 14, 'kAttractionRatio': 0.543663447116625, 'kMaxAttractionDistance': 19, 'kStartAttraction': 0.0012570524248822356}. Best is trial 105 with value: 8784.175257731958.\u001b[0m\n"
     ]
    },
    {
     "name": "stdout",
     "output_type": "stream",
     "text": [
      "index_parallel='0119'\n"
     ]
    },
    {
     "name": "stderr",
     "output_type": "stream",
     "text": [
      "\u001b[32m[I 2022-08-16 04:57:39,995]\u001b[0m Trial 119 finished with value: 8521.840206185567 and parameters: {'kErase': 3, 'kRadius': 3, 'kAnnealingA': 10.755396476845121, 'kAnnealingB': 2.358773353781543, 'kAnnealingStart': 8.693016140297095, 'kSkipRatio': 0.7823112268655833, 'kTargetDeterminationTrials': 16, 'kAttractionRatio': 0.6094027144446482, 'kMaxAttractionDistance': 15, 'kStartAttraction': 0.7000133806446975}. Best is trial 105 with value: 8784.175257731958.\u001b[0m\n"
     ]
    },
    {
     "name": "stdout",
     "output_type": "stream",
     "text": [
      "index_parallel='0120'\n"
     ]
    },
    {
     "name": "stderr",
     "output_type": "stream",
     "text": [
      "\u001b[32m[I 2022-08-16 05:01:24,236]\u001b[0m Trial 120 finished with value: 8811.51030927835 and parameters: {'kErase': 2, 'kRadius': 3, 'kAnnealingA': 9.378207471179147, 'kAnnealingB': 2.3769065303923256, 'kAnnealingStart': 8.609067181971202, 'kSkipRatio': 0.7130033935270365, 'kTargetDeterminationTrials': 13, 'kAttractionRatio': 0.7654867307438816, 'kMaxAttractionDistance': 14, 'kStartAttraction': 0.7699169577768766}. Best is trial 120 with value: 8811.51030927835.\u001b[0m\n"
     ]
    },
    {
     "name": "stdout",
     "output_type": "stream",
     "text": [
      "Updated! 8811.51030927835\n",
      "index_parallel='0121'\n"
     ]
    },
    {
     "name": "stderr",
     "output_type": "stream",
     "text": [
      "\u001b[32m[I 2022-08-16 05:05:08,330]\u001b[0m Trial 121 finished with value: 8746.530927835052 and parameters: {'kErase': 2, 'kRadius': 3, 'kAnnealingA': 9.530922437243234, 'kAnnealingB': 2.3688291352808353, 'kAnnealingStart': 8.214787204397368, 'kSkipRatio': 0.7095656834505267, 'kTargetDeterminationTrials': 13, 'kAttractionRatio': 0.8919481001541605, 'kMaxAttractionDistance': 14, 'kStartAttraction': 0.7523189207787528}. Best is trial 120 with value: 8811.51030927835.\u001b[0m\n"
     ]
    },
    {
     "name": "stdout",
     "output_type": "stream",
     "text": [
      "index_parallel='0123'\n"
     ]
    },
    {
     "name": "stderr",
     "output_type": "stream",
     "text": [
      "\u001b[32m[I 2022-08-16 05:08:52,625]\u001b[0m Trial 123 finished with value: 8737.345360824742 and parameters: {'kErase': 2, 'kRadius': 3, 'kAnnealingA': 9.247646495760657, 'kAnnealingB': 2.3930412773441367, 'kAnnealingStart': 8.702411313657832, 'kSkipRatio': 0.7058674545345389, 'kTargetDeterminationTrials': 13, 'kAttractionRatio': 0.88899813779667, 'kMaxAttractionDistance': 14, 'kStartAttraction': 0.7416905864101703}. Best is trial 120 with value: 8811.51030927835.\u001b[0m\n"
     ]
    },
    {
     "name": "stdout",
     "output_type": "stream",
     "text": [
      "index_parallel='0125'\n"
     ]
    },
    {
     "name": "stderr",
     "output_type": "stream",
     "text": [
      "\u001b[32m[I 2022-08-16 05:12:36,619]\u001b[0m Trial 125 finished with value: 8685.484536082475 and parameters: {'kErase': 2, 'kRadius': 3, 'kAnnealingA': 8.238267215134744, 'kAnnealingB': 2.446214360751811, 'kAnnealingStart': 7.2034404462962645, 'kSkipRatio': 0.7090134945746981, 'kTargetDeterminationTrials': 13, 'kAttractionRatio': 0.8838799363028337, 'kMaxAttractionDistance': 17, 'kStartAttraction': 0.8801513351663475}. Best is trial 120 with value: 8811.51030927835.\u001b[0m\n"
     ]
    },
    {
     "name": "stdout",
     "output_type": "stream",
     "text": [
      "index_parallel='0127'\n"
     ]
    },
    {
     "name": "stderr",
     "output_type": "stream",
     "text": [
      "\u001b[32m[I 2022-08-16 05:16:20,987]\u001b[0m Trial 127 finished with value: 8580.530927835052 and parameters: {'kErase': 3, 'kRadius': 3, 'kAnnealingA': 9.447547276836307, 'kAnnealingB': 2.479502425358938, 'kAnnealingStart': 12.777987718267687, 'kSkipRatio': 0.6964716526701764, 'kTargetDeterminationTrials': 10, 'kAttractionRatio': 0.7194131476078816, 'kMaxAttractionDistance': 15, 'kStartAttraction': 0.7943675432919525}. Best is trial 120 with value: 8811.51030927835.\u001b[0m\n"
     ]
    },
    {
     "name": "stdout",
     "output_type": "stream",
     "text": [
      "index_parallel='0129'\n"
     ]
    },
    {
     "name": "stderr",
     "output_type": "stream",
     "text": [
      "\u001b[32m[I 2022-08-16 05:20:05,029]\u001b[0m Trial 129 finished with value: 8795.170103092783 and parameters: {'kErase': 2, 'kRadius': 3, 'kAnnealingA': 11.339179445600543, 'kAnnealingB': 2.636880667080787, 'kAnnealingStart': 9.897511880733415, 'kSkipRatio': 0.6804880346886685, 'kTargetDeterminationTrials': 12, 'kAttractionRatio': 0.775157106736656, 'kMaxAttractionDistance': 14, 'kStartAttraction': 0.6841491850426611}. Best is trial 120 with value: 8811.51030927835.\u001b[0m\n"
     ]
    },
    {
     "name": "stdout",
     "output_type": "stream",
     "text": [
      "index_parallel='0131'\n"
     ]
    },
    {
     "name": "stderr",
     "output_type": "stream",
     "text": [
      "\u001b[32m[I 2022-08-16 05:23:49,222]\u001b[0m Trial 131 finished with value: 8776.649484536083 and parameters: {'kErase': 2, 'kRadius': 3, 'kAnnealingA': 7.418078954374071, 'kAnnealingB': 2.3442169535597235, 'kAnnealingStart': 8.474762554986489, 'kSkipRatio': 0.7199147320460892, 'kTargetDeterminationTrials': 11, 'kAttractionRatio': 0.6428782851261592, 'kMaxAttractionDistance': 20, 'kStartAttraction': 0.65143430558752}. Best is trial 120 with value: 8811.51030927835.\u001b[0m\n"
     ]
    },
    {
     "name": "stdout",
     "output_type": "stream",
     "text": [
      "index_parallel='0133'\n"
     ]
    },
    {
     "name": "stderr",
     "output_type": "stream",
     "text": [
      "\u001b[32m[I 2022-08-16 05:27:33,327]\u001b[0m Trial 133 finished with value: 8681.19587628866 and parameters: {'kErase': 2, 'kRadius': 3, 'kAnnealingA': 6.113157393054989, 'kAnnealingB': 2.650759165164207, 'kAnnealingStart': 8.621033377679588, 'kSkipRatio': 0.7144868166465236, 'kTargetDeterminationTrials': 11, 'kAttractionRatio': 0.7522380513391156, 'kMaxAttractionDistance': 20, 'kStartAttraction': 0.6649500283688423}. Best is trial 120 with value: 8811.51030927835.\u001b[0m\n"
     ]
    },
    {
     "name": "stdout",
     "output_type": "stream",
     "text": [
      "index_parallel='0135'\n"
     ]
    },
    {
     "name": "stderr",
     "output_type": "stream",
     "text": [
      "\u001b[32m[I 2022-08-16 05:31:17,782]\u001b[0m Trial 135 finished with value: 8798.974226804125 and parameters: {'kErase': 2, 'kRadius': 3, 'kAnnealingA': 7.398884627778068, 'kAnnealingB': 2.1821962842193927, 'kAnnealingStart': 7.469186146292077, 'kSkipRatio': 0.6792048553739981, 'kTargetDeterminationTrials': 12, 'kAttractionRatio': 0.7820480475277958, 'kMaxAttractionDistance': 15, 'kStartAttraction': 0.6812880833598877}. Best is trial 120 with value: 8811.51030927835.\u001b[0m\n"
     ]
    },
    {
     "name": "stdout",
     "output_type": "stream",
     "text": [
      "index_parallel='0137'\n"
     ]
    },
    {
     "name": "stderr",
     "output_type": "stream",
     "text": [
      "\u001b[32m[I 2022-08-16 05:35:02,039]\u001b[0m Trial 137 finished with value: 8643.046391752578 and parameters: {'kErase': 2, 'kRadius': 3, 'kAnnealingA': 8.557768428195848, 'kAnnealingB': 2.6098612974099384, 'kAnnealingStart': 10.516784545077897, 'kSkipRatio': 0.6793884713393922, 'kTargetDeterminationTrials': 11, 'kAttractionRatio': 0.6484541649315931, 'kMaxAttractionDistance': 26, 'kStartAttraction': 0.6679385986456522}. Best is trial 120 with value: 8811.51030927835.\u001b[0m\n"
     ]
    },
    {
     "name": "stdout",
     "output_type": "stream",
     "text": [
      "index_parallel='0139'\n"
     ]
    },
    {
     "name": "stderr",
     "output_type": "stream",
     "text": [
      "\u001b[32m[I 2022-08-16 05:38:45,990]\u001b[0m Trial 139 finished with value: 8801.180412371134 and parameters: {'kErase': 2, 'kRadius': 3, 'kAnnealingA': 11.072149502001277, 'kAnnealingB': 2.269018597743228, 'kAnnealingStart': 7.11641231481596, 'kSkipRatio': 0.7609854264912204, 'kTargetDeterminationTrials': 10, 'kAttractionRatio': 0.8833902884395076, 'kMaxAttractionDistance': 16, 'kStartAttraction': 0.7953862874992856}. Best is trial 120 with value: 8811.51030927835.\u001b[0m\n"
     ]
    },
    {
     "name": "stdout",
     "output_type": "stream",
     "text": [
      "index_parallel='0141'\n"
     ]
    },
    {
     "name": "stderr",
     "output_type": "stream",
     "text": [
      "\u001b[32m[I 2022-08-16 05:42:30,397]\u001b[0m Trial 141 finished with value: 8743.350515463917 and parameters: {'kErase': 2, 'kRadius': 3, 'kAnnealingA': 11.308592168706081, 'kAnnealingB': 2.350342356866945, 'kAnnealingStart': 7.243765403381341, 'kSkipRatio': 0.7578792815266431, 'kTargetDeterminationTrials': 9, 'kAttractionRatio': 0.8743699415260869, 'kMaxAttractionDistance': 15, 'kStartAttraction': 0.895708761176417}. Best is trial 120 with value: 8811.51030927835.\u001b[0m\n"
     ]
    },
    {
     "name": "stdout",
     "output_type": "stream",
     "text": [
      "index_parallel='0143'\n"
     ]
    },
    {
     "name": "stderr",
     "output_type": "stream",
     "text": [
      "\u001b[32m[I 2022-08-16 05:46:14,615]\u001b[0m Trial 143 finished with value: 8672.9793814433 and parameters: {'kErase': 2, 'kRadius': 3, 'kAnnealingA': 11.228386281489973, 'kAnnealingB': 2.5124675020360687, 'kAnnealingStart': 9.443875104925132, 'kSkipRatio': 0.7192255825760658, 'kTargetDeterminationTrials': 9, 'kAttractionRatio': 0.8117409553672384, 'kMaxAttractionDistance': 14, 'kStartAttraction': 0.8870579116708133}. Best is trial 120 with value: 8811.51030927835.\u001b[0m\n"
     ]
    },
    {
     "name": "stdout",
     "output_type": "stream",
     "text": [
      "index_parallel='0145'\n"
     ]
    },
    {
     "name": "stderr",
     "output_type": "stream",
     "text": [
      "\u001b[32m[I 2022-08-16 05:49:58,718]\u001b[0m Trial 145 finished with value: 8826.701030927836 and parameters: {'kErase': 2, 'kRadius': 3, 'kAnnealingA': 9.763403006294801, 'kAnnealingB': 0.6853891877647691, 'kAnnealingStart': 6.804180093566443, 'kSkipRatio': 0.7594076139357526, 'kTargetDeterminationTrials': 13, 'kAttractionRatio': 0.8928948670531598, 'kMaxAttractionDistance': 16, 'kStartAttraction': 0.7673842976433818}. Best is trial 145 with value: 8826.701030927836.\u001b[0m\n"
     ]
    },
    {
     "name": "stdout",
     "output_type": "stream",
     "text": [
      "Updated! 8826.701030927836\n",
      "index_parallel='0147'\n"
     ]
    },
    {
     "name": "stderr",
     "output_type": "stream",
     "text": [
      "\u001b[32m[I 2022-08-16 05:53:43,021]\u001b[0m Trial 147 finished with value: 8724.634020618556 and parameters: {'kErase': 2, 'kRadius': 3, 'kAnnealingA': 10.937600943938953, 'kAnnealingB': 1.2443061717121058, 'kAnnealingStart': 6.718488644126049, 'kSkipRatio': 0.779370724091204, 'kTargetDeterminationTrials': 12, 'kAttractionRatio': 0.6038789121195087, 'kMaxAttractionDistance': 16, 'kStartAttraction': 0.5202170695815981}. Best is trial 145 with value: 8826.701030927836.\u001b[0m\n"
     ]
    },
    {
     "name": "stdout",
     "output_type": "stream",
     "text": [
      "index_parallel='0149'\n"
     ]
    },
    {
     "name": "stderr",
     "output_type": "stream",
     "text": [
      "\u001b[32m[I 2022-08-16 05:57:26,990]\u001b[0m Trial 149 finished with value: 8593.530927835052 and parameters: {'kErase': 2, 'kRadius': 3, 'kAnnealingA': 12.342641959364624, 'kAnnealingB': 0.07865473499986742, 'kAnnealingStart': 11.179982082866921, 'kSkipRatio': 0.7250215828696391, 'kTargetDeterminationTrials': 10, 'kAttractionRatio': 0.6831492906603619, 'kMaxAttractionDistance': 15, 'kStartAttraction': 0.7779102338232174}. Best is trial 145 with value: 8826.701030927836.\u001b[0m\n"
     ]
    },
    {
     "name": "stdout",
     "output_type": "stream",
     "text": [
      "index_parallel='0151'\n"
     ]
    },
    {
     "name": "stderr",
     "output_type": "stream",
     "text": [
      "\u001b[32m[I 2022-08-16 06:01:11,056]\u001b[0m Trial 151 finished with value: 8738.922680412372 and parameters: {'kErase': 2, 'kRadius': 3, 'kAnnealingA': 11.528817812958076, 'kAnnealingB': 0.5367227442773576, 'kAnnealingStart': 7.229637471569404, 'kSkipRatio': 0.7537117557256613, 'kTargetDeterminationTrials': 8, 'kAttractionRatio': 0.7570483032666511, 'kMaxAttractionDistance': 19, 'kStartAttraction': 0.5882675511644787}. Best is trial 145 with value: 8826.701030927836.\u001b[0m\n"
     ]
    },
    {
     "name": "stdout",
     "output_type": "stream",
     "text": [
      "index_parallel='0153'\n"
     ]
    },
    {
     "name": "stderr",
     "output_type": "stream",
     "text": [
      "\u001b[32m[I 2022-08-16 06:04:55,283]\u001b[0m Trial 153 finished with value: 8657.0 and parameters: {'kErase': 2, 'kRadius': 3, 'kAnnealingA': 10.05196986789765, 'kAnnealingB': 0.6420742980077299, 'kAnnealingStart': 10.326290856019497, 'kSkipRatio': 0.737228217130164, 'kTargetDeterminationTrials': 11, 'kAttractionRatio': 0.5832810934058555, 'kMaxAttractionDistance': 17, 'kStartAttraction': 0.6923764638711638}. Best is trial 145 with value: 8826.701030927836.\u001b[0m\n"
     ]
    },
    {
     "name": "stdout",
     "output_type": "stream",
     "text": [
      "index_parallel='0155'\n"
     ]
    },
    {
     "name": "stderr",
     "output_type": "stream",
     "text": [
      "\u001b[32m[I 2022-08-16 06:08:39,443]\u001b[0m Trial 155 finished with value: 8805.958762886597 and parameters: {'kErase': 2, 'kRadius': 3, 'kAnnealingA': 10.836289114849576, 'kAnnealingB': 1.0784565469410605, 'kAnnealingStart': 6.547330931180934, 'kSkipRatio': 0.7882782866769238, 'kTargetDeterminationTrials': 9, 'kAttractionRatio': 0.6518685418556877, 'kMaxAttractionDistance': 15, 'kStartAttraction': 0.8125962138110138}. Best is trial 145 with value: 8826.701030927836.\u001b[0m\n"
     ]
    },
    {
     "name": "stdout",
     "output_type": "stream",
     "text": [
      "index_parallel='0157'\n"
     ]
    },
    {
     "name": "stderr",
     "output_type": "stream",
     "text": [
      "\u001b[32m[I 2022-08-16 06:12:23,818]\u001b[0m Trial 157 finished with value: 8763.051546391753 and parameters: {'kErase': 2, 'kRadius': 3, 'kAnnealingA': 10.80191296903822, 'kAnnealingB': 0.8364652193025561, 'kAnnealingStart': 6.565874690160068, 'kSkipRatio': 0.7926341730064562, 'kTargetDeterminationTrials': 13, 'kAttractionRatio': 0.4836916259440929, 'kMaxAttractionDistance': 15, 'kStartAttraction': 0.784041342582841}. Best is trial 145 with value: 8826.701030927836.\u001b[0m\n"
     ]
    },
    {
     "name": "stdout",
     "output_type": "stream",
     "text": [
      "index_parallel='0159'\n"
     ]
    },
    {
     "name": "stderr",
     "output_type": "stream",
     "text": [
      "\u001b[32m[I 2022-08-16 06:16:08,044]\u001b[0m Trial 159 finished with value: 8732.30412371134 and parameters: {'kErase': 2, 'kRadius': 3, 'kAnnealingA': 12.634061799595184, 'kAnnealingB': 0.8867174064963886, 'kAnnealingStart': 6.462086112359388, 'kSkipRatio': 0.7732608461764624, 'kTargetDeterminationTrials': 14, 'kAttractionRatio': 0.5093805418904003, 'kMaxAttractionDistance': 16, 'kStartAttraction': 0.5658154251539708}. Best is trial 145 with value: 8826.701030927836.\u001b[0m\n"
     ]
    },
    {
     "name": "stdout",
     "output_type": "stream",
     "text": [
      "index_parallel='0161'\n"
     ]
    },
    {
     "name": "stderr",
     "output_type": "stream",
     "text": [
      "\u001b[32m[I 2022-08-16 06:19:52,339]\u001b[0m Trial 161 finished with value: 8727.432989690722 and parameters: {'kErase': 2, 'kRadius': 3, 'kAnnealingA': 13.604827915412587, 'kAnnealingB': 0.7484114954081986, 'kAnnealingStart': 5.714537777874426, 'kSkipRatio': 0.7900928838739095, 'kTargetDeterminationTrials': 15, 'kAttractionRatio': 0.5980456742974857, 'kMaxAttractionDistance': 18, 'kStartAttraction': 0.6255100870723374}. Best is trial 145 with value: 8826.701030927836.\u001b[0m\n"
     ]
    },
    {
     "name": "stdout",
     "output_type": "stream",
     "text": [
      "index_parallel='0163'\n"
     ]
    },
    {
     "name": "stderr",
     "output_type": "stream",
     "text": [
      "\u001b[32m[I 2022-08-16 06:23:36,311]\u001b[0m Trial 163 finished with value: 8671.927835051547 and parameters: {'kErase': 2, 'kRadius': 3, 'kAnnealingA': 10.491849787894214, 'kAnnealingB': 0.794260800605885, 'kAnnealingStart': 6.494406180392179, 'kSkipRatio': 0.7733192525753391, 'kTargetDeterminationTrials': 12, 'kAttractionRatio': 0.49209784352271363, 'kMaxAttractionDistance': 15, 'kStartAttraction': 0.5051200552082622}. Best is trial 145 with value: 8826.701030927836.\u001b[0m\n"
     ]
    },
    {
     "name": "stdout",
     "output_type": "stream",
     "text": [
      "index_parallel='0165'\n"
     ]
    },
    {
     "name": "stderr",
     "output_type": "stream",
     "text": [
      "\u001b[32m[I 2022-08-16 06:27:20,588]\u001b[0m Trial 165 finished with value: 8739.350515463917 and parameters: {'kErase': 2, 'kRadius': 3, 'kAnnealingA': 8.812884293435397, 'kAnnealingB': 1.0027472898727192, 'kAnnealingStart': 7.634255430898536, 'kSkipRatio': 0.6919530895852406, 'kTargetDeterminationTrials': 10, 'kAttractionRatio': 0.33686315010731277, 'kMaxAttractionDistance': 16, 'kStartAttraction': 0.5617887147602637}. Best is trial 145 with value: 8826.701030927836.\u001b[0m\n"
     ]
    },
    {
     "name": "stdout",
     "output_type": "stream",
     "text": [
      "index_parallel='0167'\n"
     ]
    },
    {
     "name": "stderr",
     "output_type": "stream",
     "text": [
      "\u001b[32m[I 2022-08-16 06:31:05,361]\u001b[0m Trial 167 finished with value: 8636.752577319588 and parameters: {'kErase': 2, 'kRadius': 2, 'kAnnealingA': 11.849455234014396, 'kAnnealingB': 0.8634453070845893, 'kAnnealingStart': 7.593803572587226, 'kSkipRatio': 0.6671089359963812, 'kTargetDeterminationTrials': 14, 'kAttractionRatio': 0.6479742217203849, 'kMaxAttractionDistance': 12, 'kStartAttraction': 0.7965846107972119}. Best is trial 145 with value: 8826.701030927836.\u001b[0m\n"
     ]
    },
    {
     "name": "stdout",
     "output_type": "stream",
     "text": [
      "index_parallel='0169'\n"
     ]
    },
    {
     "name": "stderr",
     "output_type": "stream",
     "text": [
      "\u001b[32m[I 2022-08-16 06:34:49,646]\u001b[0m Trial 169 finished with value: 8767.577319587628 and parameters: {'kErase': 2, 'kRadius': 3, 'kAnnealingA': 9.116144577201894, 'kAnnealingB': 0.6408278450282561, 'kAnnealingStart': 5.4627809697450225, 'kSkipRatio': 0.6834655419104498, 'kTargetDeterminationTrials': 13, 'kAttractionRatio': 0.8005110274098879, 'kMaxAttractionDistance': 20, 'kStartAttraction': 0.7796581653310071}. Best is trial 145 with value: 8826.701030927836.\u001b[0m\n"
     ]
    },
    {
     "name": "stdout",
     "output_type": "stream",
     "text": [
      "index_parallel='0171'\n"
     ]
    },
    {
     "name": "stderr",
     "output_type": "stream",
     "text": [
      "\u001b[32m[I 2022-08-16 06:38:33,736]\u001b[0m Trial 171 finished with value: 8782.572164948453 and parameters: {'kErase': 2, 'kRadius': 3, 'kAnnealingA': 8.931990790968682, 'kAnnealingB': 1.0850940751042928, 'kAnnealingStart': 5.315391865453162, 'kSkipRatio': 0.6818811257522509, 'kTargetDeterminationTrials': 15, 'kAttractionRatio': 0.7079567429162681, 'kMaxAttractionDistance': 17, 'kStartAttraction': 0.6158404536640876}. Best is trial 145 with value: 8826.701030927836.\u001b[0m\n"
     ]
    },
    {
     "name": "stdout",
     "output_type": "stream",
     "text": [
      "index_parallel='0173'\n"
     ]
    },
    {
     "name": "stderr",
     "output_type": "stream",
     "text": [
      "\u001b[32m[I 2022-08-16 06:42:17,784]\u001b[0m Trial 173 finished with value: 8719.515463917525 and parameters: {'kErase': 2, 'kRadius': 3, 'kAnnealingA': 10.807487228796765, 'kAnnealingB': 0.837647930532694, 'kAnnealingStart': 5.247862742944037, 'kSkipRatio': 0.6826096905918391, 'kTargetDeterminationTrials': 16, 'kAttractionRatio': 0.686010087608183, 'kMaxAttractionDistance': 21, 'kStartAttraction': 0.7071182893158926}. Best is trial 145 with value: 8826.701030927836.\u001b[0m\n"
     ]
    },
    {
     "name": "stdout",
     "output_type": "stream",
     "text": [
      "index_parallel='0175'\n"
     ]
    },
    {
     "name": "stderr",
     "output_type": "stream",
     "text": [
      "\u001b[32m[I 2022-08-16 06:46:01,893]\u001b[0m Trial 175 finished with value: 8781.721649484536 and parameters: {'kErase': 2, 'kRadius': 3, 'kAnnealingA': 7.4931953789469805, 'kAnnealingB': 0.6550032477379497, 'kAnnealingStart': 6.671098953261062, 'kSkipRatio': 0.6888971307316081, 'kTargetDeterminationTrials': 17, 'kAttractionRatio': 0.8152508401859048, 'kMaxAttractionDistance': 24, 'kStartAttraction': 0.5918391078295109}. Best is trial 145 with value: 8826.701030927836.\u001b[0m\n"
     ]
    },
    {
     "name": "stdout",
     "output_type": "stream",
     "text": [
      "index_parallel='0177'\n"
     ]
    },
    {
     "name": "stderr",
     "output_type": "stream",
     "text": [
      "\u001b[32m[I 2022-08-16 06:49:46,120]\u001b[0m Trial 177 finished with value: 7710.335051546392 and parameters: {'kErase': 2, 'kRadius': 3, 'kAnnealingA': -3.8576875313546606, 'kAnnealingB': 1.1248081375736, 'kAnnealingStart': 6.6895694848165475, 'kSkipRatio': 0.6812507383673997, 'kTargetDeterminationTrials': 19, 'kAttractionRatio': 0.7820250219935457, 'kMaxAttractionDistance': 23, 'kStartAttraction': 0.03248105914315755}. Best is trial 145 with value: 8826.701030927836.\u001b[0m\n"
     ]
    },
    {
     "name": "stdout",
     "output_type": "stream",
     "text": [
      "index_parallel='0179'\n"
     ]
    },
    {
     "name": "stderr",
     "output_type": "stream",
     "text": [
      "\u001b[32m[I 2022-08-16 06:53:30,167]\u001b[0m Trial 179 finished with value: 8717.938144329897 and parameters: {'kErase': 2, 'kRadius': 3, 'kAnnealingA': 6.309177515056797, 'kAnnealingB': 0.9683415710691247, 'kAnnealingStart': 5.825063750209534, 'kSkipRatio': 0.6894912313682758, 'kTargetDeterminationTrials': 15, 'kAttractionRatio': 0.8154545687275003, 'kMaxAttractionDistance': 29, 'kStartAttraction': 0.7940634572421748}. Best is trial 145 with value: 8826.701030927836.\u001b[0m\n"
     ]
    },
    {
     "name": "stdout",
     "output_type": "stream",
     "text": [
      "index_parallel='0181'\n"
     ]
    },
    {
     "name": "stderr",
     "output_type": "stream",
     "text": [
      "\u001b[32m[I 2022-08-16 06:57:14,576]\u001b[0m Trial 181 finished with value: 8569.09793814433 and parameters: {'kErase': 2, 'kRadius': 3, 'kAnnealingA': 8.227949215508799, 'kAnnealingB': 0.8154788405224912, 'kAnnealingStart': 4.900143314696753, 'kSkipRatio': 0.6941117908449039, 'kTargetDeterminationTrials': 13, 'kAttractionRatio': 0.7246854735977885, 'kMaxAttractionDistance': 68, 'kStartAttraction': 0.4890862981017722}. Best is trial 145 with value: 8826.701030927836.\u001b[0m\n"
     ]
    },
    {
     "name": "stdout",
     "output_type": "stream",
     "text": [
      "index_parallel='0183'\n"
     ]
    },
    {
     "name": "stderr",
     "output_type": "stream",
     "text": [
      "\u001b[32m[I 2022-08-16 07:00:58,570]\u001b[0m Trial 183 finished with value: 8693.453608247422 and parameters: {'kErase': 2, 'kRadius': 3, 'kAnnealingA': 0.07021612760843432, 'kAnnealingB': 0.6114900642362416, 'kAnnealingStart': 7.741905207436581, 'kSkipRatio': 0.7535880523250692, 'kTargetDeterminationTrials': 14, 'kAttractionRatio': 0.6404452717832286, 'kMaxAttractionDistance': 17, 'kStartAttraction': 0.5796118949852901}. Best is trial 145 with value: 8826.701030927836.\u001b[0m\n"
     ]
    },
    {
     "name": "stdout",
     "output_type": "stream",
     "text": [
      "index_parallel='0185'\n"
     ]
    },
    {
     "name": "stderr",
     "output_type": "stream",
     "text": [
      "\u001b[32m[I 2022-08-16 07:04:42,880]\u001b[0m Trial 185 finished with value: 8665.58762886598 and parameters: {'kErase': 2, 'kRadius': 3, 'kAnnealingA': 8.902983240682888, 'kAnnealingB': 0.4647177973268162, 'kAnnealingStart': 6.7884636590900795, 'kSkipRatio': 0.7865474838428467, 'kTargetDeterminationTrials': 17, 'kAttractionRatio': 0.5552175366326916, 'kMaxAttractionDistance': 26, 'kStartAttraction': 0.6701501458275988}. Best is trial 145 with value: 8826.701030927836.\u001b[0m\n"
     ]
    },
    {
     "name": "stdout",
     "output_type": "stream",
     "text": [
      "index_parallel='0187'\n"
     ]
    },
    {
     "name": "stderr",
     "output_type": "stream",
     "text": [
      "\u001b[32m[I 2022-08-16 07:08:26,996]\u001b[0m Trial 187 finished with value: 8826.051546391753 and parameters: {'kErase': 2, 'kRadius': 3, 'kAnnealingA': 7.514124142110925, 'kAnnealingB': 0.6711881918177225, 'kAnnealingStart': 5.400519762797109, 'kSkipRatio': 0.7097301042382351, 'kTargetDeterminationTrials': 10, 'kAttractionRatio': 0.8135477848667193, 'kMaxAttractionDistance': 16, 'kStartAttraction': 0.7392079821343349}. Best is trial 145 with value: 8826.701030927836.\u001b[0m\n"
     ]
    },
    {
     "name": "stdout",
     "output_type": "stream",
     "text": [
      "index_parallel='0189'\n"
     ]
    },
    {
     "name": "stderr",
     "output_type": "stream",
     "text": [
      "\u001b[32m[I 2022-08-16 07:12:11,179]\u001b[0m Trial 189 finished with value: 8778.365979381444 and parameters: {'kErase': 2, 'kRadius': 3, 'kAnnealingA': 7.391619700395297, 'kAnnealingB': 1.0725563712473196, 'kAnnealingStart': 5.760851293832761, 'kSkipRatio': 0.7112218879026501, 'kTargetDeterminationTrials': 12, 'kAttractionRatio': 0.8317913194760904, 'kMaxAttractionDistance': 15, 'kStartAttraction': 0.7658454801913467}. Best is trial 145 with value: 8826.701030927836.\u001b[0m\n"
     ]
    },
    {
     "name": "stdout",
     "output_type": "stream",
     "text": [
      "index_parallel='0191'\n"
     ]
    },
    {
     "name": "stderr",
     "output_type": "stream",
     "text": [
      "\u001b[32m[I 2022-08-16 07:15:55,249]\u001b[0m Trial 191 finished with value: 8688.788659793814 and parameters: {'kErase': 2, 'kRadius': 3, 'kAnnealingA': 6.717343118889811, 'kAnnealingB': 1.0254207611283492, 'kAnnealingStart': 5.26823851168417, 'kSkipRatio': 0.7102049622154394, 'kTargetDeterminationTrials': 9, 'kAttractionRatio': 0.8277743808635928, 'kMaxAttractionDistance': 16, 'kStartAttraction': 0.8983436281262546}. Best is trial 145 with value: 8826.701030927836.\u001b[0m\n"
     ]
    },
    {
     "name": "stdout",
     "output_type": "stream",
     "text": [
      "index_parallel='0193'\n"
     ]
    },
    {
     "name": "stderr",
     "output_type": "stream",
     "text": [
      "\u001b[32m[I 2022-08-16 07:19:39,913]\u001b[0m Trial 193 finished with value: 8767.030927835052 and parameters: {'kErase': 2, 'kRadius': 3, 'kAnnealingA': 5.487541543777684, 'kAnnealingB': 1.1785819099406236, 'kAnnealingStart': 6.040483795361241, 'kSkipRatio': 0.7232174956945274, 'kTargetDeterminationTrials': 11, 'kAttractionRatio': 0.7575556273608355, 'kMaxAttractionDistance': 15, 'kStartAttraction': 0.7528571693215299}. Best is trial 145 with value: 8826.701030927836.\u001b[0m\n"
     ]
    },
    {
     "name": "stdout",
     "output_type": "stream",
     "text": [
      "index_parallel='0195'\n"
     ]
    },
    {
     "name": "stderr",
     "output_type": "stream",
     "text": [
      "\u001b[32m[I 2022-08-16 07:23:24,308]\u001b[0m Trial 195 finished with value: 8772.61855670103 and parameters: {'kErase': 2, 'kRadius': 3, 'kAnnealingA': 5.403902432313394, 'kAnnealingB': 0.9188122828465588, 'kAnnealingStart': 4.67473218670867, 'kSkipRatio': 0.7279251366261101, 'kTargetDeterminationTrials': 10, 'kAttractionRatio': 0.6832394526577463, 'kMaxAttractionDistance': 15, 'kStartAttraction': 0.7183907419665914}. Best is trial 145 with value: 8826.701030927836.\u001b[0m\n"
     ]
    },
    {
     "name": "stdout",
     "output_type": "stream",
     "text": [
      "index_parallel='0197'\n"
     ]
    },
    {
     "name": "stderr",
     "output_type": "stream",
     "text": [
      "\u001b[32m[I 2022-08-16 07:27:10,090]\u001b[0m Trial 197 finished with value: 8779.60824742268 and parameters: {'kErase': 2, 'kRadius': 3, 'kAnnealingA': 4.078763027717409, 'kAnnealingB': 1.4105580341682697, 'kAnnealingStart': 4.73772120622479, 'kSkipRatio': 0.7266438642175771, 'kTargetDeterminationTrials': 10, 'kAttractionRatio': 0.8961235182113364, 'kMaxAttractionDistance': 19, 'kStartAttraction': 0.7201212365968255}. Best is trial 145 with value: 8826.701030927836.\u001b[0m\n"
     ]
    },
    {
     "name": "stdout",
     "output_type": "stream",
     "text": [
      "index_parallel='0199'\n"
     ]
    },
    {
     "name": "stderr",
     "output_type": "stream",
     "text": [
      "\u001b[32m[I 2022-08-16 07:30:54,337]\u001b[0m Trial 199 finished with value: 8629.675257731958 and parameters: {'kErase': 2, 'kRadius': 3, 'kAnnealingA': 7.955041354169994, 'kAnnealingB': 0.6731033639531654, 'kAnnealingStart': 8.101558483550193, 'kSkipRatio': 0.7416679958287822, 'kTargetDeterminationTrials': 10, 'kAttractionRatio': 0.8897533211507329, 'kMaxAttractionDistance': 19, 'kStartAttraction': 0.697480493007202}. Best is trial 145 with value: 8826.701030927836.\u001b[0m\n"
     ]
    },
    {
     "name": "stdout",
     "output_type": "stream",
     "text": [
      "index_parallel='0201'\n"
     ]
    },
    {
     "name": "stderr",
     "output_type": "stream",
     "text": [
      "\u001b[32m[I 2022-08-16 07:34:38,662]\u001b[0m Trial 201 finished with value: 8681.432989690722 and parameters: {'kErase': 2, 'kRadius': 3, 'kAnnealingA': 6.269028963821208, 'kAnnealingB': 0.9363992425373313, 'kAnnealingStart': 9.26361281300325, 'kSkipRatio': 0.7017504383391034, 'kTargetDeterminationTrials': 10, 'kAttractionRatio': 0.6766310657037192, 'kMaxAttractionDistance': 19, 'kStartAttraction': 0.6156085140977077}. Best is trial 145 with value: 8826.701030927836.\u001b[0m\n"
     ]
    },
    {
     "name": "stdout",
     "output_type": "stream",
     "text": [
      "index_parallel='0203'\n"
     ]
    },
    {
     "name": "stderr",
     "output_type": "stream",
     "text": [
      "\u001b[32m[I 2022-08-16 07:38:23,052]\u001b[0m Trial 203 finished with value: 8696.0206185567 and parameters: {'kErase': 2, 'kRadius': 3, 'kAnnealingA': 2.6632066247593578, 'kAnnealingB': 1.1694334400210367, 'kAnnealingStart': 6.166271435767421, 'kSkipRatio': 0.7243194739935006, 'kTargetDeterminationTrials': 12, 'kAttractionRatio': 0.7667361116177412, 'kMaxAttractionDistance': 22, 'kStartAttraction': 0.8106611381256155}. Best is trial 145 with value: 8826.701030927836.\u001b[0m\n"
     ]
    },
    {
     "name": "stdout",
     "output_type": "stream",
     "text": [
      "index_parallel='0205'\n"
     ]
    },
    {
     "name": "stderr",
     "output_type": "stream",
     "text": [
      "\u001b[32m[I 2022-08-16 07:42:07,093]\u001b[0m Trial 205 finished with value: 8772.474226804125 and parameters: {'kErase': 2, 'kRadius': 3, 'kAnnealingA': 4.141061698358509, 'kAnnealingB': 1.0715266830824839, 'kAnnealingStart': 5.30290924111516, 'kSkipRatio': 0.7182440837127669, 'kTargetDeterminationTrials': 9, 'kAttractionRatio': 0.7354005622977309, 'kMaxAttractionDistance': 16, 'kStartAttraction': 0.7399466385288308}. Best is trial 145 with value: 8826.701030927836.\u001b[0m\n"
     ]
    },
    {
     "name": "stdout",
     "output_type": "stream",
     "text": [
      "index_parallel='0207'\n"
     ]
    },
    {
     "name": "stderr",
     "output_type": "stream",
     "text": [
      "\u001b[32m[I 2022-08-16 07:45:51,353]\u001b[0m Trial 207 finished with value: 8740.139175257733 and parameters: {'kErase': 2, 'kRadius': 3, 'kAnnealingA': 3.9997234521318994, 'kAnnealingB': 1.309526128637437, 'kAnnealingStart': 7.1256607263823035, 'kSkipRatio': 0.713772581309185, 'kTargetDeterminationTrials': 9, 'kAttractionRatio': 0.6516546605990096, 'kMaxAttractionDistance': 16, 'kStartAttraction': 0.5338251243356058}. Best is trial 145 with value: 8826.701030927836.\u001b[0m\n"
     ]
    },
    {
     "name": "stdout",
     "output_type": "stream",
     "text": [
      "index_parallel='0209'\n"
     ]
    },
    {
     "name": "stderr",
     "output_type": "stream",
     "text": [
      "\u001b[32m[I 2022-08-16 07:49:35,404]\u001b[0m Trial 209 finished with value: 8751.242268041236 and parameters: {'kErase': 2, 'kRadius': 3, 'kAnnealingA': 2.564780155332122, 'kAnnealingB': 0.9802753504155559, 'kAnnealingStart': 4.658706454424838, 'kSkipRatio': 0.7438131559026916, 'kTargetDeterminationTrials': 10, 'kAttractionRatio': 0.832807980700656, 'kMaxAttractionDistance': 14, 'kStartAttraction': 0.6947378045248208}. Best is trial 145 with value: 8826.701030927836.\u001b[0m\n"
     ]
    },
    {
     "name": "stdout",
     "output_type": "stream",
     "text": [
      "index_parallel='0211'\n"
     ]
    },
    {
     "name": "stderr",
     "output_type": "stream",
     "text": [
      "\u001b[32m[I 2022-08-16 07:53:19,659]\u001b[0m Trial 211 finished with value: 7373.19587628866 and parameters: {'kErase': 2, 'kRadius': 3, 'kAnnealingA': 3.7415395688803255, 'kAnnealingB': 1.0470284189109993, 'kAnnealingStart': 5.018480968706599, 'kSkipRatio': 0.6965276593374596, 'kTargetDeterminationTrials': 8, 'kAttractionRatio': 0.71738013146986, 'kMaxAttractionDistance': 17, 'kStartAttraction': 0.0015392971492648921}. Best is trial 145 with value: 8826.701030927836.\u001b[0m\n"
     ]
    },
    {
     "name": "stdout",
     "output_type": "stream",
     "text": [
      "index_parallel='0213'\n"
     ]
    },
    {
     "name": "stderr",
     "output_type": "stream",
     "text": [
      "\u001b[32m[I 2022-08-16 07:57:04,291]\u001b[0m Trial 213 finished with value: 8766.927835051547 and parameters: {'kErase': 2, 'kRadius': 3, 'kAnnealingA': 7.638551131780858, 'kAnnealingB': 0.9235942575625544, 'kAnnealingStart': 5.381275198857037, 'kSkipRatio': 0.6885350690353527, 'kTargetDeterminationTrials': 12, 'kAttractionRatio': 0.7626213550378129, 'kMaxAttractionDistance': 20, 'kStartAttraction': 0.7861344540903301}. Best is trial 145 with value: 8826.701030927836.\u001b[0m\n"
     ]
    },
    {
     "name": "stdout",
     "output_type": "stream",
     "text": [
      "index_parallel='0215'\n"
     ]
    },
    {
     "name": "stderr",
     "output_type": "stream",
     "text": [
      "\u001b[32m[I 2022-08-16 08:00:48,700]\u001b[0m Trial 215 finished with value: 8727.768041237114 and parameters: {'kErase': 2, 'kRadius': 3, 'kAnnealingA': 3.093110228676348, 'kAnnealingB': 1.4783082395150018, 'kAnnealingStart': 6.454480834919943, 'kSkipRatio': 0.6718821442704175, 'kTargetDeterminationTrials': 15, 'kAttractionRatio': 0.8169480609579273, 'kMaxAttractionDistance': 15, 'kStartAttraction': 0.6167978450296867}. Best is trial 145 with value: 8826.701030927836.\u001b[0m\n"
     ]
    },
    {
     "name": "stdout",
     "output_type": "stream",
     "text": [
      "index_parallel='0217'\n"
     ]
    },
    {
     "name": "stderr",
     "output_type": "stream",
     "text": [
      "\u001b[32m[I 2022-08-16 08:04:32,826]\u001b[0m Trial 217 finished with value: 8733.824742268042 and parameters: {'kErase': 2, 'kRadius': 3, 'kAnnealingA': 7.016875555028092, 'kAnnealingB': 0.683303425916901, 'kAnnealingStart': 8.050171859626442, 'kSkipRatio': 0.7061402204683532, 'kTargetDeterminationTrials': 11, 'kAttractionRatio': 0.6737565334825951, 'kMaxAttractionDistance': 16, 'kStartAttraction': 0.7331749053317763}. Best is trial 145 with value: 8826.701030927836.\u001b[0m\n"
     ]
    },
    {
     "name": "stdout",
     "output_type": "stream",
     "text": [
      "index_parallel='0219'\n"
     ]
    },
    {
     "name": "stderr",
     "output_type": "stream",
     "text": [
      "\u001b[32m[I 2022-08-16 08:08:17,139]\u001b[0m Trial 219 finished with value: 8649.072164948453 and parameters: {'kErase': 2, 'kRadius': 3, 'kAnnealingA': 8.176602070044222, 'kAnnealingB': 0.7676901185787958, 'kAnnealingStart': 6.745636971005219, 'kSkipRatio': 0.7301049251962303, 'kTargetDeterminationTrials': 10, 'kAttractionRatio': 0.6224848986164518, 'kMaxAttractionDistance': 15, 'kStartAttraction': 0.8982956895628109}. Best is trial 145 with value: 8826.701030927836.\u001b[0m\n"
     ]
    },
    {
     "name": "stdout",
     "output_type": "stream",
     "text": [
      "index_parallel='0221'\n"
     ]
    },
    {
     "name": "stderr",
     "output_type": "stream",
     "text": [
      "\u001b[32m[I 2022-08-16 08:12:01,620]\u001b[0m Trial 221 finished with value: 8694.634020618556 and parameters: {'kErase': 2, 'kRadius': 3, 'kAnnealingA': 8.506598342526196, 'kAnnealingB': 0.571788377555194, 'kAnnealingStart': 6.2855214598518545, 'kSkipRatio': 0.7031478666495614, 'kTargetDeterminationTrials': 11, 'kAttractionRatio': 0.894470195022463, 'kMaxAttractionDistance': 13, 'kStartAttraction': 0.48717398565429715}. Best is trial 145 with value: 8826.701030927836.\u001b[0m\n"
     ]
    },
    {
     "name": "stdout",
     "output_type": "stream",
     "text": [
      "index_parallel='0223'\n"
     ]
    },
    {
     "name": "stderr",
     "output_type": "stream",
     "text": [
      "\u001b[32m[I 2022-08-16 08:15:46,377]\u001b[0m Trial 223 finished with value: 8839.036082474227 and parameters: {'kErase': 2, 'kRadius': 3, 'kAnnealingA': 6.557866022361303, 'kAnnealingB': 1.227625211914838, 'kAnnealingStart': 7.370471273129505, 'kSkipRatio': 0.7173015971354177, 'kTargetDeterminationTrials': 9, 'kAttractionRatio': 0.6954617370929896, 'kMaxAttractionDistance': 14, 'kStartAttraction': 0.6672982285667602}. Best is trial 223 with value: 8839.036082474227.\u001b[0m\n"
     ]
    },
    {
     "name": "stdout",
     "output_type": "stream",
     "text": [
      "Updated! 8839.036082474227\n",
      "index_parallel='0225'\n"
     ]
    },
    {
     "name": "stderr",
     "output_type": "stream",
     "text": [
      "\u001b[32m[I 2022-08-16 08:19:32,242]\u001b[0m Trial 225 finished with value: 8802.639175257733 and parameters: {'kErase': 2, 'kRadius': 3, 'kAnnealingA': 6.500319572058306, 'kAnnealingB': 1.419187938988966, 'kAnnealingStart': 7.320462879230523, 'kSkipRatio': 0.7161477329036826, 'kTargetDeterminationTrials': 9, 'kAttractionRatio': 0.7404026377594763, 'kMaxAttractionDistance': 14, 'kStartAttraction': 0.8067941043216991}. Best is trial 223 with value: 8839.036082474227.\u001b[0m\n"
     ]
    },
    {
     "name": "stdout",
     "output_type": "stream",
     "text": [
      "index_parallel='0227'\n"
     ]
    },
    {
     "name": "stderr",
     "output_type": "stream",
     "text": [
      "\u001b[32m[I 2022-08-16 08:23:16,420]\u001b[0m Trial 227 finished with value: 8710.257731958764 and parameters: {'kErase': 2, 'kRadius': 3, 'kAnnealingA': 6.860081459220007, 'kAnnealingB': 1.2836686687215622, 'kAnnealingStart': 8.835021973271877, 'kSkipRatio': 0.6977633435794071, 'kTargetDeterminationTrials': 8, 'kAttractionRatio': 0.5915383125685585, 'kMaxAttractionDistance': 14, 'kStartAttraction': 0.8886905979684404}. Best is trial 223 with value: 8839.036082474227.\u001b[0m\n"
     ]
    },
    {
     "name": "stdout",
     "output_type": "stream",
     "text": [
      "index_parallel='0229'\n"
     ]
    },
    {
     "name": "stderr",
     "output_type": "stream",
     "text": [
      "\u001b[32m[I 2022-08-16 08:27:00,994]\u001b[0m Trial 229 finished with value: 8785.005154639175 and parameters: {'kErase': 2, 'kRadius': 3, 'kAnnealingA': 5.9386387352841945, 'kAnnealingB': 1.5314526876733325, 'kAnnealingStart': 7.280191155050362, 'kSkipRatio': 0.7340787228331377, 'kTargetDeterminationTrials': 11, 'kAttractionRatio': 0.8980082756062773, 'kMaxAttractionDistance': 14, 'kStartAttraction': 0.6712188383290245}. Best is trial 223 with value: 8839.036082474227.\u001b[0m\n"
     ]
    },
    {
     "name": "stdout",
     "output_type": "stream",
     "text": [
      "index_parallel='0231'\n"
     ]
    },
    {
     "name": "stderr",
     "output_type": "stream",
     "text": [
      "\u001b[32m[I 2022-08-16 08:30:45,238]\u001b[0m Trial 231 finished with value: 8697.963917525773 and parameters: {'kErase': 2, 'kRadius': 3, 'kAnnealingA': 6.41125781206424, 'kAnnealingB': 1.480288012216027, 'kAnnealingStart': 7.278133225829482, 'kSkipRatio': 0.7382339695673743, 'kTargetDeterminationTrials': 11, 'kAttractionRatio': 0.8551211042848446, 'kMaxAttractionDistance': 13, 'kStartAttraction': 0.635995169047143}. Best is trial 223 with value: 8839.036082474227.\u001b[0m\n"
     ]
    },
    {
     "name": "stdout",
     "output_type": "stream",
     "text": [
      "index_parallel='0233'\n"
     ]
    },
    {
     "name": "stderr",
     "output_type": "stream",
     "text": [
      "\u001b[32m[I 2022-08-16 08:34:29,305]\u001b[0m Trial 233 finished with value: 8713.917525773197 and parameters: {'kErase': 2, 'kRadius': 3, 'kAnnealingA': 7.297673977644366, 'kAnnealingB': 1.5508009482440301, 'kAnnealingStart': 7.734850865752812, 'kSkipRatio': 0.71213183987097, 'kTargetDeterminationTrials': 12, 'kAttractionRatio': 0.7789530395397236, 'kMaxAttractionDistance': 14, 'kStartAttraction': 0.6789787265485886}. Best is trial 223 with value: 8839.036082474227.\u001b[0m\n"
     ]
    },
    {
     "name": "stdout",
     "output_type": "stream",
     "text": [
      "index_parallel='0235'\n"
     ]
    },
    {
     "name": "stderr",
     "output_type": "stream",
     "text": [
      "\u001b[32m[I 2022-08-16 08:38:13,643]\u001b[0m Trial 235 finished with value: 8696.247422680412 and parameters: {'kErase': 2, 'kRadius': 3, 'kAnnealingA': 7.9002778050664375, 'kAnnealingB': 1.3800711845190206, 'kAnnealingStart': 6.9156858558483725, 'kSkipRatio': 0.6901136190499563, 'kTargetDeterminationTrials': 10, 'kAttractionRatio': 0.8904716107163634, 'kMaxAttractionDistance': 12, 'kStartAttraction': 0.8038270518011859}. Best is trial 223 with value: 8839.036082474227.\u001b[0m\n"
     ]
    },
    {
     "name": "stdout",
     "output_type": "stream",
     "text": [
      "index_parallel='0237'\n"
     ]
    },
    {
     "name": "stderr",
     "output_type": "stream",
     "text": [
      "\u001b[32m[I 2022-08-16 08:41:57,915]\u001b[0m Trial 237 finished with value: 8783.257731958764 and parameters: {'kErase': 2, 'kRadius': 3, 'kAnnealingA': 6.563530622321001, 'kAnnealingB': 1.4398615486020288, 'kAnnealingStart': 6.649669917111211, 'kSkipRatio': 0.7247283248397044, 'kTargetDeterminationTrials': 13, 'kAttractionRatio': 0.7674061700601528, 'kMaxAttractionDistance': 14, 'kStartAttraction': 0.6121591783866124}. Best is trial 223 with value: 8839.036082474227.\u001b[0m\n"
     ]
    },
    {
     "name": "stdout",
     "output_type": "stream",
     "text": [
      "index_parallel='0239'\n"
     ]
    },
    {
     "name": "stderr",
     "output_type": "stream",
     "text": [
      "\u001b[32m[I 2022-08-16 08:45:42,200]\u001b[0m Trial 239 finished with value: 8766.319587628866 and parameters: {'kErase': 2, 'kRadius': 3, 'kAnnealingA': 6.471678064783256, 'kAnnealingB': 1.5385393332564394, 'kAnnealingStart': 6.041105016559846, 'kSkipRatio': 0.7276494837264598, 'kTargetDeterminationTrials': 11, 'kAttractionRatio': 0.7811049541085344, 'kMaxAttractionDistance': 14, 'kStartAttraction': 0.556843797097616}. Best is trial 223 with value: 8839.036082474227.\u001b[0m\n"
     ]
    },
    {
     "name": "stdout",
     "output_type": "stream",
     "text": [
      "index_parallel='0241'\n"
     ]
    },
    {
     "name": "stderr",
     "output_type": "stream",
     "text": [
      "\u001b[32m[I 2022-08-16 08:49:26,431]\u001b[0m Trial 241 finished with value: 8722.340206185567 and parameters: {'kErase': 2, 'kRadius': 3, 'kAnnealingA': 5.948378205092545, 'kAnnealingB': 1.5327039350525575, 'kAnnealingStart': 6.885402762472578, 'kSkipRatio': 0.7458866646061595, 'kTargetDeterminationTrials': 9, 'kAttractionRatio': 0.8402491281923298, 'kMaxAttractionDistance': 13, 'kStartAttraction': 0.6522756361786597}. Best is trial 223 with value: 8839.036082474227.\u001b[0m\n"
     ]
    },
    {
     "name": "stdout",
     "output_type": "stream",
     "text": [
      "index_parallel='0243'\n"
     ]
    },
    {
     "name": "stderr",
     "output_type": "stream",
     "text": [
      "\u001b[32m[I 2022-08-16 08:53:11,925]\u001b[0m Trial 243 finished with value: 8702.809278350516 and parameters: {'kErase': 2, 'kRadius': 3, 'kAnnealingA': 8.448424187377153, 'kAnnealingB': 1.2378392732276786, 'kAnnealingStart': 8.230558198973572, 'kSkipRatio': 0.713442862174537, 'kTargetDeterminationTrials': 14, 'kAttractionRatio': 0.7266443710063195, 'kMaxAttractionDistance': 15, 'kStartAttraction': 0.7149424444653935}. Best is trial 223 with value: 8839.036082474227.\u001b[0m\n"
     ]
    },
    {
     "name": "stdout",
     "output_type": "stream",
     "text": [
      "index_parallel='0245'\n"
     ]
    },
    {
     "name": "stderr",
     "output_type": "stream",
     "text": [
      "\u001b[32m[I 2022-08-16 08:56:56,089]\u001b[0m Trial 245 finished with value: 8768.726804123711 and parameters: {'kErase': 2, 'kRadius': 3, 'kAnnealingA': 6.570004186804316, 'kAnnealingB': 1.415165670702992, 'kAnnealingStart': 9.301928240669564, 'kSkipRatio': 0.7329783974809986, 'kTargetDeterminationTrials': 10, 'kAttractionRatio': 0.6393634371585198, 'kMaxAttractionDistance': 16, 'kStartAttraction': 0.8910137635795059}. Best is trial 223 with value: 8839.036082474227.\u001b[0m\n"
     ]
    },
    {
     "name": "stdout",
     "output_type": "stream",
     "text": [
      "index_parallel='0247'\n"
     ]
    },
    {
     "name": "stderr",
     "output_type": "stream",
     "text": [
      "\u001b[32m[I 2022-08-16 09:00:40,580]\u001b[0m Trial 247 finished with value: 8717.37113402062 and parameters: {'kErase': 2, 'kRadius': 3, 'kAnnealingA': 7.3839956738407215, 'kAnnealingB': 2.2859313563149226, 'kAnnealingStart': 6.570072895115497, 'kSkipRatio': 0.6989712727695613, 'kTargetDeterminationTrials': 13, 'kAttractionRatio': 0.8973137730184974, 'kMaxAttractionDistance': 14, 'kStartAttraction': 0.7708768659749071}. Best is trial 223 with value: 8839.036082474227.\u001b[0m\n"
     ]
    },
    {
     "name": "stdout",
     "output_type": "stream",
     "text": [
      "index_parallel='0249'\n"
     ]
    },
    {
     "name": "stderr",
     "output_type": "stream",
     "text": [
      "\u001b[32m[I 2022-08-16 09:04:24,895]\u001b[0m Trial 249 finished with value: 8782.335051546392 and parameters: {'kErase': 2, 'kRadius': 3, 'kAnnealingA': 9.374545043290752, 'kAnnealingB': 1.186289367850464, 'kAnnealingStart': 7.44936382625729, 'kSkipRatio': 0.6824173928531639, 'kTargetDeterminationTrials': 12, 'kAttractionRatio': 0.8113434165440305, 'kMaxAttractionDistance': 16, 'kStartAttraction': 0.6159109349705826}. Best is trial 223 with value: 8839.036082474227.\u001b[0m\n"
     ]
    },
    {
     "name": "stdout",
     "output_type": "stream",
     "text": [
      "index_parallel='0251'\n"
     ]
    },
    {
     "name": "stderr",
     "output_type": "stream",
     "text": [
      "\u001b[32m[I 2022-08-16 09:08:08,945]\u001b[0m Trial 251 finished with value: 8723.030927835052 and parameters: {'kErase': 2, 'kRadius': 3, 'kAnnealingA': 9.642257956861773, 'kAnnealingB': 2.2215880398876338, 'kAnnealingStart': 5.823487845969791, 'kSkipRatio': 0.6796495188508875, 'kTargetDeterminationTrials': 11, 'kAttractionRatio': 0.8115710032653252, 'kMaxAttractionDistance': 16, 'kStartAttraction': 0.515658467791258}. Best is trial 223 with value: 8839.036082474227.\u001b[0m\n"
     ]
    },
    {
     "name": "stdout",
     "output_type": "stream",
     "text": [
      "index_parallel='0253'\n"
     ]
    },
    {
     "name": "stderr",
     "output_type": "stream",
     "text": [
      "\u001b[32m[I 2022-08-16 09:11:53,279]\u001b[0m Trial 253 finished with value: 8733.850515463917 and parameters: {'kErase': 2, 'kRadius': 3, 'kAnnealingA': 9.046908295472415, 'kAnnealingB': 1.2703147322469928, 'kAnnealingStart': 7.0756672150117215, 'kSkipRatio': 0.651737346101905, 'kTargetDeterminationTrials': 12, 'kAttractionRatio': 0.7306006483857341, 'kMaxAttractionDistance': 15, 'kStartAttraction': 0.6023491524237432}. Best is trial 223 with value: 8839.036082474227.\u001b[0m\n"
     ]
    },
    {
     "name": "stdout",
     "output_type": "stream",
     "text": [
      "index_parallel='0255'\n"
     ]
    },
    {
     "name": "stderr",
     "output_type": "stream",
     "text": [
      "\u001b[32m[I 2022-08-16 09:15:37,503]\u001b[0m Trial 255 finished with value: 8713.639175257733 and parameters: {'kErase': 2, 'kRadius': 3, 'kAnnealingA': 8.263368269875961, 'kAnnealingB': 1.1934192055861885, 'kAnnealingStart': 8.570582725241255, 'kSkipRatio': 0.7616872732248998, 'kTargetDeterminationTrials': 10, 'kAttractionRatio': 0.8220339172925737, 'kMaxAttractionDistance': 18, 'kStartAttraction': 0.7000301111580566}. Best is trial 223 with value: 8839.036082474227.\u001b[0m\n"
     ]
    },
    {
     "name": "stdout",
     "output_type": "stream",
     "text": [
      "index_parallel='0257'\n"
     ]
    },
    {
     "name": "stderr",
     "output_type": "stream",
     "text": [
      "\u001b[32m[I 2022-08-16 09:19:23,756]\u001b[0m Trial 257 finished with value: 8585.80412371134 and parameters: {'kErase': 2, 'kRadius': 3, 'kAnnealingA': 5.499281699981553, 'kAnnealingB': 1.2844209865111955, 'kAnnealingStart': 10.023321751366945, 'kSkipRatio': 0.7676594773356589, 'kTargetDeterminationTrials': 11, 'kAttractionRatio': 0.6853517254273792, 'kMaxAttractionDistance': 99, 'kStartAttraction': 0.46008245167303347}. Best is trial 223 with value: 8839.036082474227.\u001b[0m\n"
     ]
    },
    {
     "name": "stdout",
     "output_type": "stream",
     "text": [
      "index_parallel='0259'\n"
     ]
    },
    {
     "name": "stderr",
     "output_type": "stream",
     "text": [
      "\u001b[32m[I 2022-08-16 09:23:08,093]\u001b[0m Trial 259 finished with value: 8492.386597938144 and parameters: {'kErase': 2, 'kRadius': 3, 'kAnnealingA': 6.2960126931796605, 'kAnnealingB': 1.6092070454429868, 'kAnnealingStart': 7.8242378994356825, 'kSkipRatio': 0.3150100610772908, 'kTargetDeterminationTrials': 13, 'kAttractionRatio': 0.5532327916712898, 'kMaxAttractionDistance': 12, 'kStartAttraction': 0.6710058514411485}. Best is trial 223 with value: 8839.036082474227.\u001b[0m\n"
     ]
    },
    {
     "name": "stdout",
     "output_type": "stream",
     "text": [
      "index_parallel='0261'\n"
     ]
    },
    {
     "name": "stderr",
     "output_type": "stream",
     "text": [
      "\u001b[32m[I 2022-08-16 09:26:52,314]\u001b[0m Trial 261 finished with value: 8698.051546391753 and parameters: {'kErase': 2, 'kRadius': 3, 'kAnnealingA': 4.97238186141942, 'kAnnealingB': 1.1515360511814678, 'kAnnealingStart': 5.82291712170398, 'kSkipRatio': 0.7401206865268052, 'kTargetDeterminationTrials': 12, 'kAttractionRatio': 0.7605467573387155, 'kMaxAttractionDistance': 14, 'kStartAttraction': 0.5357391712181079}. Best is trial 223 with value: 8839.036082474227.\u001b[0m\n"
     ]
    },
    {
     "name": "stdout",
     "output_type": "stream",
     "text": [
      "index_parallel='0263'\n"
     ]
    },
    {
     "name": "stderr",
     "output_type": "stream",
     "text": [
      "\u001b[32m[I 2022-08-16 09:30:36,459]\u001b[0m Trial 263 finished with value: 8133.788659793814 and parameters: {'kErase': 2, 'kRadius': 3, 'kAnnealingA': 6.984636854753324, 'kAnnealingB': 1.350535574947569, 'kAnnealingStart': 7.064367437625312, 'kSkipRatio': 0.7226971411674785, 'kTargetDeterminationTrials': 10, 'kAttractionRatio': 0.8955446529657105, 'kMaxAttractionDistance': 14, 'kStartAttraction': 0.05501098291835537}. Best is trial 223 with value: 8839.036082474227.\u001b[0m\n"
     ]
    },
    {
     "name": "stdout",
     "output_type": "stream",
     "text": [
      "index_parallel='0265'\n"
     ]
    },
    {
     "name": "stderr",
     "output_type": "stream",
     "text": [
      "\u001b[32m[I 2022-08-16 09:34:20,596]\u001b[0m Trial 265 finished with value: 8776.427835051547 and parameters: {'kErase': 2, 'kRadius': 3, 'kAnnealingA': 7.892118155611092, 'kAnnealingB': 1.7858077364109408, 'kAnnealingStart': 8.7653139758608, 'kSkipRatio': 0.710933302404069, 'kTargetDeterminationTrials': 13, 'kAttractionRatio': 0.669101706816064, 'kMaxAttractionDistance': 13, 'kStartAttraction': 0.7684744001887805}. Best is trial 223 with value: 8839.036082474227.\u001b[0m\n"
     ]
    },
    {
     "name": "stdout",
     "output_type": "stream",
     "text": [
      "index_parallel='0267'\n"
     ]
    },
    {
     "name": "stderr",
     "output_type": "stream",
     "text": [
      "\u001b[32m[I 2022-08-16 09:38:04,660]\u001b[0m Trial 267 finished with value: 8676.592783505155 and parameters: {'kErase': 2, 'kRadius': 3, 'kAnnealingA': 7.715377700173129, 'kAnnealingB': 1.7518296319310382, 'kAnnealingStart': 10.576286940993421, 'kSkipRatio': 0.7538661931155684, 'kTargetDeterminationTrials': 11, 'kAttractionRatio': 0.6764687793977919, 'kMaxAttractionDistance': 13, 'kStartAttraction': 0.6295323000519255}. Best is trial 223 with value: 8839.036082474227.\u001b[0m\n"
     ]
    },
    {
     "name": "stdout",
     "output_type": "stream",
     "text": [
      "index_parallel='0269'\n"
     ]
    },
    {
     "name": "stderr",
     "output_type": "stream",
     "text": [
      "\u001b[32m[I 2022-08-16 09:41:49,153]\u001b[0m Trial 269 finished with value: 8679.319587628866 and parameters: {'kErase': 2, 'kRadius': 3, 'kAnnealingA': 6.470161453863227, 'kAnnealingB': 1.4399478514182664, 'kAnnealingStart': 5.604774766348032, 'kSkipRatio': 0.6608955843789938, 'kTargetDeterminationTrials': 14, 'kAttractionRatio': 0.5991207971225853, 'kMaxAttractionDistance': 15, 'kStartAttraction': 0.8078092778671737}. Best is trial 223 with value: 8839.036082474227.\u001b[0m\n"
     ]
    },
    {
     "name": "stdout",
     "output_type": "stream",
     "text": [
      "index_parallel='0271'\n"
     ]
    },
    {
     "name": "stderr",
     "output_type": "stream",
     "text": [
      "\u001b[32m[I 2022-08-16 09:45:33,499]\u001b[0m Trial 271 finished with value: 7498.5 and parameters: {'kErase': 2, 'kRadius': 3, 'kAnnealingA': -10.932521125215272, 'kAnnealingB': 1.9310498346906784, 'kAnnealingStart': 6.40468923165943, 'kSkipRatio': 0.7526108967466032, 'kTargetDeterminationTrials': 11, 'kAttractionRatio': 0.5546396632132623, 'kMaxAttractionDistance': 16, 'kStartAttraction': 0.004210893803797257}. Best is trial 223 with value: 8839.036082474227.\u001b[0m\n"
     ]
    },
    {
     "name": "stdout",
     "output_type": "stream",
     "text": [
      "index_parallel='0273'\n"
     ]
    },
    {
     "name": "stderr",
     "output_type": "stream",
     "text": [
      "\u001b[32m[I 2022-08-16 09:49:17,708]\u001b[0m Trial 273 finished with value: 8755.180412371134 and parameters: {'kErase': 2, 'kRadius': 3, 'kAnnealingA': 8.52626267746194, 'kAnnealingB': 1.4884601005037288, 'kAnnealingStart': 5.298193255598314, 'kSkipRatio': 0.7689044054401154, 'kTargetDeterminationTrials': 9, 'kAttractionRatio': 0.7240534615258964, 'kMaxAttractionDistance': 18, 'kStartAttraction': 0.6745494916064075}. Best is trial 223 with value: 8839.036082474227.\u001b[0m\n"
     ]
    },
    {
     "name": "stdout",
     "output_type": "stream",
     "text": [
      "index_parallel='0275'\n"
     ]
    },
    {
     "name": "stderr",
     "output_type": "stream",
     "text": [
      "\u001b[32m[I 2022-08-16 09:53:01,742]\u001b[0m Trial 275 finished with value: 8711.40206185567 and parameters: {'kErase': 2, 'kRadius': 3, 'kAnnealingA': 7.099566679651062, 'kAnnealingB': 2.1442418115615585, 'kAnnealingStart': 6.36412636148674, 'kSkipRatio': 0.7392260993624935, 'kTargetDeterminationTrials': 11, 'kAttractionRatio': 0.6246908197203058, 'kMaxAttractionDistance': 17, 'kStartAttraction': 0.563951713917084}. Best is trial 223 with value: 8839.036082474227.\u001b[0m\n"
     ]
    },
    {
     "name": "stdout",
     "output_type": "stream",
     "text": [
      "index_parallel='0277'\n"
     ]
    },
    {
     "name": "stderr",
     "output_type": "stream",
     "text": [
      "\u001b[32m[I 2022-08-16 09:56:46,154]\u001b[0m Trial 277 finished with value: 8713.974226804125 and parameters: {'kErase': 2, 'kRadius': 3, 'kAnnealingA': 5.957887615979677, 'kAnnealingB': 1.237747725423552, 'kAnnealingStart': 6.909469583151193, 'kSkipRatio': 0.7266793423149892, 'kTargetDeterminationTrials': 12, 'kAttractionRatio': 0.797895863249609, 'kMaxAttractionDistance': 12, 'kStartAttraction': 0.7367859819563648}. Best is trial 223 with value: 8839.036082474227.\u001b[0m\n"
     ]
    },
    {
     "name": "stdout",
     "output_type": "stream",
     "text": [
      "index_parallel='0279'\n"
     ]
    },
    {
     "name": "stderr",
     "output_type": "stream",
     "text": [
      "\u001b[32m[I 2022-08-16 10:00:30,235]\u001b[0m Trial 279 finished with value: 8757.41237113402 and parameters: {'kErase': 2, 'kRadius': 3, 'kAnnealingA': 11.368647344492972, 'kAnnealingB': 0.6710049803443481, 'kAnnealingStart': 7.312960114876723, 'kSkipRatio': 0.7130177989236902, 'kTargetDeterminationTrials': 10, 'kAttractionRatio': 0.6994504139152888, 'kMaxAttractionDistance': 15, 'kStartAttraction': 0.7941701383612824}. Best is trial 223 with value: 8839.036082474227.\u001b[0m\n"
     ]
    },
    {
     "name": "stdout",
     "output_type": "stream",
     "text": [
      "index_parallel='0281'\n"
     ]
    },
    {
     "name": "stderr",
     "output_type": "stream",
     "text": [
      "\u001b[32m[I 2022-08-16 10:04:14,697]\u001b[0m Trial 281 finished with value: 8237.917525773197 and parameters: {'kErase': 2, 'kRadius': 3, 'kAnnealingA': 7.99172128364219, 'kAnnealingB': 0.5126091165794081, 'kAnnealingStart': 5.9351225603069695, 'kSkipRatio': 0.2360396826077329, 'kTargetDeterminationTrials': 10, 'kAttractionRatio': 0.7507588298168938, 'kMaxAttractionDistance': 11, 'kStartAttraction': 0.5103040317069296}. Best is trial 223 with value: 8839.036082474227.\u001b[0m\n"
     ]
    },
    {
     "name": "stdout",
     "output_type": "stream",
     "text": [
      "index_parallel='0283'\n"
     ]
    },
    {
     "name": "stderr",
     "output_type": "stream",
     "text": [
      "\u001b[32m[I 2022-08-16 10:07:58,773]\u001b[0m Trial 283 finished with value: 8702.08762886598 and parameters: {'kErase': 2, 'kRadius': 3, 'kAnnealingA': 9.253286361311341, 'kAnnealingB': 1.3614269582812764, 'kAnnealingStart': 4.9169775895904335, 'kSkipRatio': 0.7038916134583524, 'kTargetDeterminationTrials': 14, 'kAttractionRatio': 0.830527888057291, 'kMaxAttractionDistance': 18, 'kStartAttraction': 0.6413316519460819}. Best is trial 223 with value: 8839.036082474227.\u001b[0m\n"
     ]
    },
    {
     "name": "stdout",
     "output_type": "stream",
     "text": [
      "index_parallel='0285'\n"
     ]
    },
    {
     "name": "stderr",
     "output_type": "stream",
     "text": [
      "\u001b[32m[I 2022-08-16 10:11:43,112]\u001b[0m Trial 285 finished with value: 8753.298969072164 and parameters: {'kErase': 2, 'kRadius': 3, 'kAnnealingA': 6.605159763107158, 'kAnnealingB': 1.4972574777783223, 'kAnnealingStart': 6.4335937613153815, 'kSkipRatio': 0.7578839867820263, 'kTargetDeterminationTrials': 15, 'kAttractionRatio': 0.5930924957201448, 'kMaxAttractionDistance': 13, 'kStartAttraction': 0.7052676763624454}. Best is trial 223 with value: 8839.036082474227.\u001b[0m\n"
     ]
    },
    {
     "name": "stdout",
     "output_type": "stream",
     "text": [
      "index_parallel='0287'\n"
     ]
    },
    {
     "name": "stderr",
     "output_type": "stream",
     "text": [
      "\u001b[32m[I 2022-08-16 10:15:27,164]\u001b[0m Trial 287 finished with value: 8148.613402061856 and parameters: {'kErase': 2, 'kRadius': 3, 'kAnnealingA': 5.652800317302115, 'kAnnealingB': 1.4555616138054857, 'kAnnealingStart': 7.657479786804822, 'kSkipRatio': 0.7191810275516457, 'kTargetDeterminationTrials': 11, 'kAttractionRatio': 0.7029942764482603, 'kMaxAttractionDistance': 16, 'kStartAttraction': 0.08558192442651057}. Best is trial 223 with value: 8839.036082474227.\u001b[0m\n"
     ]
    },
    {
     "name": "stdout",
     "output_type": "stream",
     "text": [
      "index_parallel='0288'\n"
     ]
    },
    {
     "name": "stderr",
     "output_type": "stream",
     "text": [
      "\u001b[32m[I 2022-08-16 10:19:11,183]\u001b[0m Trial 288 finished with value: 8311.082474226803 and parameters: {'kErase': 2, 'kRadius': 3, 'kAnnealingA': 10.189443094108354, 'kAnnealingB': 1.4180608948736848, 'kAnnealingStart': 5.591611403121779, 'kSkipRatio': 0.6717081419045905, 'kTargetDeterminationTrials': 16, 'kAttractionRatio': 0.6834132157728444, 'kMaxAttractionDistance': 14, 'kStartAttraction': 0.11161883833981608}. Best is trial 223 with value: 8839.036082474227.\u001b[0m\n"
     ]
    },
    {
     "name": "stdout",
     "output_type": "stream",
     "text": [
      "index_parallel='0289'\n"
     ]
    },
    {
     "name": "stderr",
     "output_type": "stream",
     "text": [
      "\u001b[32m[I 2022-08-16 10:22:55,217]\u001b[0m Trial 289 finished with value: 8724.716494845361 and parameters: {'kErase': 2, 'kRadius': 3, 'kAnnealingA': 4.88408559415293, 'kAnnealingB': 0.5781667683048183, 'kAnnealingStart': 6.76845617112451, 'kSkipRatio': 0.7468052746094781, 'kTargetDeterminationTrials': 13, 'kAttractionRatio': 0.8271777842099485, 'kMaxAttractionDistance': 15, 'kStartAttraction': 0.7795204789005857}. Best is trial 223 with value: 8839.036082474227.\u001b[0m\n"
     ]
    },
    {
     "name": "stdout",
     "output_type": "stream",
     "text": [
      "index_parallel='0290'\n"
     ]
    },
    {
     "name": "stderr",
     "output_type": "stream",
     "text": [
      "\u001b[32m[I 2022-08-16 10:26:39,580]\u001b[0m Trial 290 finished with value: 8777.561855670103 and parameters: {'kErase': 2, 'kRadius': 3, 'kAnnealingA': 7.5776435374227855, 'kAnnealingB': 1.2941057211731612, 'kAnnealingStart': 6.762620996084683, 'kSkipRatio': 0.6885597400435157, 'kTargetDeterminationTrials': 11, 'kAttractionRatio': 0.6403765860098907, 'kMaxAttractionDistance': 16, 'kStartAttraction': 0.6884231736869183}. Best is trial 223 with value: 8839.036082474227.\u001b[0m\n"
     ]
    },
    {
     "name": "stdout",
     "output_type": "stream",
     "text": [
      "index_parallel='0291'\n"
     ]
    },
    {
     "name": "stderr",
     "output_type": "stream",
     "text": [
      "\u001b[32m[I 2022-08-16 10:30:24,107]\u001b[0m Trial 291 finished with value: 8715.88144329897 and parameters: {'kErase': 2, 'kRadius': 3, 'kAnnealingA': 7.682417771529715, 'kAnnealingB': 1.2723119830183167, 'kAnnealingStart': 6.351290429751776, 'kSkipRatio': 0.6882465864034832, 'kTargetDeterminationTrials': 20, 'kAttractionRatio': 0.7871247922762448, 'kMaxAttractionDistance': 16, 'kStartAttraction': 0.8930605072310591}. Best is trial 223 with value: 8839.036082474227.\u001b[0m\n"
     ]
    },
    {
     "name": "stdout",
     "output_type": "stream",
     "text": [
      "index_parallel='0293'\n"
     ]
    },
    {
     "name": "stderr",
     "output_type": "stream",
     "text": [
      "\u001b[32m[I 2022-08-16 10:34:08,937]\u001b[0m Trial 293 finished with value: 8608.829896907217 and parameters: {'kErase': 2, 'kRadius': 3, 'kAnnealingA': 8.54117998453539, 'kAnnealingB': 1.3216316195778142, 'kAnnealingStart': 5.914113600429758, 'kSkipRatio': 0.3824086700853667, 'kTargetDeterminationTrials': 11, 'kAttractionRatio': 0.7346854418343182, 'kMaxAttractionDistance': 14, 'kStartAttraction': 0.6957451413795589}. Best is trial 223 with value: 8839.036082474227.\u001b[0m\n"
     ]
    },
    {
     "name": "stdout",
     "output_type": "stream",
     "text": [
      "index_parallel='0295'\n"
     ]
    },
    {
     "name": "stderr",
     "output_type": "stream",
     "text": [
      "\u001b[32m[I 2022-08-16 10:37:53,461]\u001b[0m Trial 295 finished with value: 8628.340206185567 and parameters: {'kErase': 2, 'kRadius': 3, 'kAnnealingA': 7.10270842664235, 'kAnnealingB': 1.2214868696379806, 'kAnnealingStart': 7.226408767078811, 'kSkipRatio': 0.6797832350611465, 'kTargetDeterminationTrials': 10, 'kAttractionRatio': 0.10150927576416215, 'kMaxAttractionDistance': 15, 'kStartAttraction': 0.5937861082103097}. Best is trial 223 with value: 8839.036082474227.\u001b[0m\n"
     ]
    },
    {
     "name": "stdout",
     "output_type": "stream",
     "text": [
      "index_parallel='0297'\n"
     ]
    },
    {
     "name": "stderr",
     "output_type": "stream",
     "text": [
      "\u001b[32m[I 2022-08-16 10:41:37,896]\u001b[0m Trial 297 finished with value: 8705.721649484536 and parameters: {'kErase': 2, 'kRadius': 3, 'kAnnealingA': 5.817766117112016, 'kAnnealingB': 1.161799140802658, 'kAnnealingStart': 5.5547031556936295, 'kSkipRatio': 0.7018702842363143, 'kTargetDeterminationTrials': 12, 'kAttractionRatio': 0.8355732240610921, 'kMaxAttractionDistance': 17, 'kStartAttraction': 0.81832945537197}. Best is trial 223 with value: 8839.036082474227.\u001b[0m\n"
     ]
    },
    {
     "name": "stdout",
     "output_type": "stream",
     "text": [
      "index_parallel='0299'\n"
     ]
    },
    {
     "name": "stderr",
     "output_type": "stream",
     "text": [
      "\u001b[32m[I 2022-08-16 10:45:21,741]\u001b[0m Trial 299 finished with value: 8712.288659793814 and parameters: {'kErase': 2, 'kRadius': 3, 'kAnnealingA': 9.690084470324237, 'kAnnealingB': 1.1091642301871814, 'kAnnealingStart': 6.967932553393859, 'kSkipRatio': 0.7319719040235777, 'kTargetDeterminationTrials': 1, 'kAttractionRatio': 0.6440163259797748, 'kMaxAttractionDistance': 14, 'kStartAttraction': 0.4362659662361471}. Best is trial 223 with value: 8839.036082474227.\u001b[0m\n"
     ]
    },
    {
     "name": "stdout",
     "output_type": "stream",
     "text": [
      "index_parallel='0301'\n"
     ]
    },
    {
     "name": "stderr",
     "output_type": "stream",
     "text": [
      "\u001b[32m[I 2022-08-16 10:49:06,206]\u001b[0m Trial 301 finished with value: 8769.39175257732 and parameters: {'kErase': 2, 'kRadius': 3, 'kAnnealingA': 10.589182627508457, 'kAnnealingB': 0.6293349855172309, 'kAnnealingStart': 7.656839197489627, 'kSkipRatio': 0.7749473616969109, 'kTargetDeterminationTrials': 17, 'kAttractionRatio': 0.8956597588553231, 'kMaxAttractionDistance': 16, 'kStartAttraction': 0.5488075464696482}. Best is trial 223 with value: 8839.036082474227.\u001b[0m\n"
     ]
    },
    {
     "name": "stdout",
     "output_type": "stream",
     "text": [
      "index_parallel='0303'\n"
     ]
    },
    {
     "name": "stderr",
     "output_type": "stream",
     "text": [
      "\u001b[32m[I 2022-08-16 10:52:50,910]\u001b[0m Trial 303 finished with value: 8736.88144329897 and parameters: {'kErase': 2, 'kRadius': 3, 'kAnnealingA': 9.110588881842236, 'kAnnealingB': 0.71917090705191, 'kAnnealingStart': 5.110447828098363, 'kSkipRatio': 0.6692838924333334, 'kTargetDeterminationTrials': 14, 'kAttractionRatio': 0.6881368544957139, 'kMaxAttractionDistance': 16, 'kStartAttraction': 0.8971602701409994}. Best is trial 223 with value: 8839.036082474227.\u001b[0m\n"
     ]
    },
    {
     "name": "stdout",
     "output_type": "stream",
     "text": [
      "index_parallel='0305'\n"
     ]
    },
    {
     "name": "stderr",
     "output_type": "stream",
     "text": [
      "\u001b[32m[I 2022-08-16 10:56:35,758]\u001b[0m Trial 305 finished with value: 8608.835051546392 and parameters: {'kErase': 2, 'kRadius': 3, 'kAnnealingA': -5.338082598198713, 'kAnnealingB': 1.3673733351690511, 'kAnnealingStart': 5.943833695767402, 'kSkipRatio': 0.6923575377604334, 'kTargetDeterminationTrials': 13, 'kAttractionRatio': 0.7876320636690625, 'kMaxAttractionDistance': 15, 'kStartAttraction': 0.801402267496459}. Best is trial 223 with value: 8839.036082474227.\u001b[0m\n"
     ]
    },
    {
     "name": "stdout",
     "output_type": "stream",
     "text": [
      "index_parallel='0307'\n"
     ]
    },
    {
     "name": "stderr",
     "output_type": "stream",
     "text": [
      "\u001b[32m[I 2022-08-16 11:00:21,701]\u001b[0m Trial 307 finished with value: 8516.91237113402 and parameters: {'kErase': 3, 'kRadius': 2, 'kAnnealingA': 5.227851742963785, 'kAnnealingB': 1.2898628958490017, 'kAnnealingStart': 6.934316240751918, 'kSkipRatio': 0.7444399282617499, 'kTargetDeterminationTrials': 11, 'kAttractionRatio': 0.8274533890505693, 'kMaxAttractionDistance': 14, 'kStartAttraction': 0.6197216686523196}. Best is trial 223 with value: 8839.036082474227.\u001b[0m\n"
     ]
    },
    {
     "name": "stdout",
     "output_type": "stream",
     "text": [
      "index_parallel='0309'\n"
     ]
    },
    {
     "name": "stderr",
     "output_type": "stream",
     "text": [
      "\u001b[32m[I 2022-08-16 11:04:06,276]\u001b[0m Trial 309 finished with value: 8348.922680412372 and parameters: {'kErase': 4, 'kRadius': 3, 'kAnnealingA': 7.650954876111749, 'kAnnealingB': 2.069216389112713, 'kAnnealingStart': 5.338033123918791, 'kSkipRatio': 0.718918003947774, 'kTargetDeterminationTrials': 12, 'kAttractionRatio': 0.7340193938176508, 'kMaxAttractionDistance': 15, 'kStartAttraction': 0.6566208413085151}. Best is trial 223 with value: 8839.036082474227.\u001b[0m\n"
     ]
    },
    {
     "name": "stdout",
     "output_type": "stream",
     "text": [
      "index_parallel='0311'\n"
     ]
    },
    {
     "name": "stderr",
     "output_type": "stream",
     "text": [
      "\u001b[32m[I 2022-08-16 11:07:50,398]\u001b[0m Trial 311 finished with value: 8728.762886597939 and parameters: {'kErase': 2, 'kRadius': 3, 'kAnnealingA': 11.85912316496799, 'kAnnealingB': 1.3970680854992616, 'kAnnealingStart': 8.572921770731796, 'kSkipRatio': 0.7094326228894878, 'kTargetDeterminationTrials': 8, 'kAttractionRatio': 0.6587352331997688, 'kMaxAttractionDistance': 17, 'kStartAttraction': 0.8946224441678733}. Best is trial 223 with value: 8839.036082474227.\u001b[0m\n"
     ]
    },
    {
     "name": "stdout",
     "output_type": "stream",
     "text": [
      "index_parallel='0313'\n"
     ]
    },
    {
     "name": "stderr",
     "output_type": "stream",
     "text": [
      "\u001b[32m[I 2022-08-16 11:11:34,807]\u001b[0m Trial 313 finished with value: 8648.865979381444 and parameters: {'kErase': 2, 'kRadius': 3, 'kAnnealingA': 6.089061303109942, 'kAnnealingB': 1.0721466446357466, 'kAnnealingStart': 7.361711484990755, 'kSkipRatio': 0.7281920895646157, 'kTargetDeterminationTrials': 9, 'kAttractionRatio': 0.8298491003663335, 'kMaxAttractionDistance': 46, 'kStartAttraction': 0.559019374775629}. Best is trial 223 with value: 8839.036082474227.\u001b[0m\n"
     ]
    },
    {
     "name": "stdout",
     "output_type": "stream",
     "text": [
      "index_parallel='0315'\n"
     ]
    },
    {
     "name": "stderr",
     "output_type": "stream",
     "text": [
      "\u001b[32m[I 2022-08-16 11:15:19,057]\u001b[0m Trial 315 finished with value: 8674.072164948453 and parameters: {'kErase': 2, 'kRadius': 3, 'kAnnealingA': 5.944366697508693, 'kAnnealingB': 1.0943009834553734, 'kAnnealingStart': 11.009325827650212, 'kSkipRatio': 0.7345629041344396, 'kTargetDeterminationTrials': 10, 'kAttractionRatio': 0.47474679831768807, 'kMaxAttractionDistance': 12, 'kStartAttraction': 0.806445390720711}. Best is trial 223 with value: 8839.036082474227.\u001b[0m\n"
     ]
    },
    {
     "name": "stdout",
     "output_type": "stream",
     "text": [
      "index_parallel='0317'\n"
     ]
    },
    {
     "name": "stderr",
     "output_type": "stream",
     "text": [
      "\u001b[32m[I 2022-08-16 11:19:03,293]\u001b[0m Trial 317 finished with value: 8766.474226804125 and parameters: {'kErase': 2, 'kRadius': 3, 'kAnnealingA': 10.914036178537629, 'kAnnealingB': 1.648504742600346, 'kAnnealingStart': 9.275291660583816, 'kSkipRatio': 0.7193647878130479, 'kTargetDeterminationTrials': 10, 'kAttractionRatio': 0.7607269492247972, 'kMaxAttractionDistance': 18, 'kStartAttraction': 0.7481435366794358}. Best is trial 223 with value: 8839.036082474227.\u001b[0m\n"
     ]
    },
    {
     "name": "stdout",
     "output_type": "stream",
     "text": [
      "index_parallel='0319'\n"
     ]
    },
    {
     "name": "stderr",
     "output_type": "stream",
     "text": [
      "\u001b[32m[I 2022-08-16 11:22:47,646]\u001b[0m Trial 319 finished with value: 8650.809278350516 and parameters: {'kErase': 2, 'kRadius': 3, 'kAnnealingA': 4.628178038347904, 'kAnnealingB': 2.239952997260096, 'kAnnealingStart': 12.096638196343651, 'kSkipRatio': 0.7418705655688407, 'kTargetDeterminationTrials': 14, 'kAttractionRatio': 0.8993220455060351, 'kMaxAttractionDistance': 14, 'kStartAttraction': 0.5856723317978589}. Best is trial 223 with value: 8839.036082474227.\u001b[0m\n"
     ]
    },
    {
     "name": "stdout",
     "output_type": "stream",
     "text": [
      "index_parallel='0321'\n"
     ]
    },
    {
     "name": "stderr",
     "output_type": "stream",
     "text": [
      "\u001b[32m[I 2022-08-16 11:26:31,829]\u001b[0m Trial 321 finished with value: 8656.943298969072 and parameters: {'kErase': 2, 'kRadius': 3, 'kAnnealingA': 6.962409173004461, 'kAnnealingB': 1.1638155346330217, 'kAnnealingStart': 4.454486913783952, 'kSkipRatio': 0.7262081405266696, 'kTargetDeterminationTrials': 18, 'kAttractionRatio': 0.6976540003238406, 'kMaxAttractionDistance': 17, 'kStartAttraction': 0.4918253760872037}. Best is trial 223 with value: 8839.036082474227.\u001b[0m\n"
     ]
    },
    {
     "name": "stdout",
     "output_type": "stream",
     "text": [
      "index_parallel='0323'\n"
     ]
    },
    {
     "name": "stderr",
     "output_type": "stream",
     "text": [
      "\u001b[32m[I 2022-08-16 11:30:15,916]\u001b[0m Trial 323 finished with value: 8686.298969072164 and parameters: {'kErase': 2, 'kRadius': 3, 'kAnnealingA': 8.320809470931176, 'kAnnealingB': 2.14289043781976, 'kAnnealingStart': 7.754707243886369, 'kSkipRatio': 0.7828462995527316, 'kTargetDeterminationTrials': 13, 'kAttractionRatio': 0.7673723256086674, 'kMaxAttractionDistance': 15, 'kStartAttraction': 0.8863446579851705}. Best is trial 223 with value: 8839.036082474227.\u001b[0m\n"
     ]
    },
    {
     "name": "stdout",
     "output_type": "stream",
     "text": [
      "index_parallel='0325'\n"
     ]
    },
    {
     "name": "stderr",
     "output_type": "stream",
     "text": [
      "\u001b[32m[I 2022-08-16 11:34:00,509]\u001b[0m Trial 325 finished with value: 8578.943298969072 and parameters: {'kErase': 3, 'kRadius': 3, 'kAnnealingA': 10.064116281054874, 'kAnnealingB': 0.46012181918282696, 'kAnnealingStart': 8.44480921400752, 'kSkipRatio': 0.7062331021150327, 'kTargetDeterminationTrials': 9, 'kAttractionRatio': 0.8258444767196896, 'kMaxAttractionDistance': 19, 'kStartAttraction': 0.6365612706617594}. Best is trial 223 with value: 8839.036082474227.\u001b[0m\n"
     ]
    },
    {
     "name": "stdout",
     "output_type": "stream",
     "text": [
      "index_parallel='0327'\n"
     ]
    },
    {
     "name": "stderr",
     "output_type": "stream",
     "text": [
      "\u001b[32m[I 2022-08-16 11:37:44,895]\u001b[0m Trial 327 finished with value: 8707.072164948453 and parameters: {'kErase': 2, 'kRadius': 3, 'kAnnealingA': 7.275015456467014, 'kAnnealingB': 1.0109289115791873, 'kAnnealingStart': 4.825929047424896, 'kSkipRatio': 0.6479486671026399, 'kTargetDeterminationTrials': 12, 'kAttractionRatio': 0.7142169109824467, 'kMaxAttractionDistance': 11, 'kStartAttraction': 0.7803799570993104}. Best is trial 223 with value: 8839.036082474227.\u001b[0m\n"
     ]
    },
    {
     "name": "stdout",
     "output_type": "stream",
     "text": [
      "index_parallel='0329'\n"
     ]
    },
    {
     "name": "stderr",
     "output_type": "stream",
     "text": [
      "\u001b[32m[I 2022-08-16 11:41:28,936]\u001b[0m Trial 329 finished with value: 8842.273195876289 and parameters: {'kErase': 2, 'kRadius': 3, 'kAnnealingA': 5.797238185569845, 'kAnnealingB': 1.5811229618974583, 'kAnnealingStart': 5.560857020375325, 'kSkipRatio': 0.7178725980834738, 'kTargetDeterminationTrials': 10, 'kAttractionRatio': 0.8956741173008091, 'kMaxAttractionDistance': 15, 'kStartAttraction': 0.7230965924597992}. Best is trial 329 with value: 8842.273195876289.\u001b[0m\n"
     ]
    },
    {
     "name": "stdout",
     "output_type": "stream",
     "text": [
      "Updated! 8842.273195876289\n",
      "index_parallel='0331'\n"
     ]
    }
   ],
   "source": [
    "study.optimize(\n",
    "    partial(objective, in_dir=in_dir, work_dir=work_dir),\n",
    "    n_trials=3000,\n",
    "    timeout=86400,\n",
    "    callbacks=[callback]\n",
    ")"
   ]
  },
  {
   "cell_type": "code",
   "execution_count": null,
   "id": "700269d2",
   "metadata": {},
   "outputs": [],
   "source": []
  }
 ],
 "metadata": {
  "kernelspec": {
   "display_name": "Python 3 (ipykernel)",
   "language": "python",
   "name": "python3"
  },
  "language_info": {
   "codemirror_mode": {
    "name": "ipython",
    "version": 3
   },
   "file_extension": ".py",
   "mimetype": "text/x-python",
   "name": "python",
   "nbconvert_exporter": "python",
   "pygments_lexer": "ipython3",
   "version": "3.9.12"
  }
 },
 "nbformat": 4,
 "nbformat_minor": 5
}
