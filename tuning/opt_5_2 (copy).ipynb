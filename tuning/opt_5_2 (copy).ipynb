{
 "cells": [
  {
   "cell_type": "code",
   "execution_count": 1,
   "id": "25a1dac8",
   "metadata": {},
   "outputs": [],
   "source": [
    "import re\n",
    "import sys\n",
    "from uuid import uuid1\n",
    "from time import sleep\n",
    "from pprint import pprint\n",
    "from pathlib import Path\n",
    "from tempfile import gettempdir\n",
    "from threading import Thread\n",
    "from functools import partial\n",
    "from subprocess import Popen, PIPE\n",
    "\n",
    "from tqdm.notebook import tqdm\n",
    "import numpy as np\n",
    "import optuna\n",
    "import pandas as pd\n",
    "import matplotlib.pyplot as plt\n",
    "\n",
    "FILENAME = \"main.cpp\""
   ]
  },
  {
   "cell_type": "code",
   "execution_count": 2,
   "id": "3dd4d02e",
   "metadata": {},
   "outputs": [
    {
     "name": "stdout",
     "output_type": "stream",
     "text": [
      "10 variables were found.\n"
     ]
    },
    {
     "data": {
      "text/html": [
       "<div>\n",
       "<style scoped>\n",
       "    .dataframe tbody tr th:only-of-type {\n",
       "        vertical-align: middle;\n",
       "    }\n",
       "\n",
       "    .dataframe tbody tr th {\n",
       "        vertical-align: top;\n",
       "    }\n",
       "\n",
       "    .dataframe thead th {\n",
       "        text-align: right;\n",
       "    }\n",
       "</style>\n",
       "<table border=\"1\" class=\"dataframe\">\n",
       "  <thead>\n",
       "    <tr style=\"text-align: right;\">\n",
       "      <th></th>\n",
       "      <th>name</th>\n",
       "      <th>method</th>\n",
       "      <th>min</th>\n",
       "      <th>max</th>\n",
       "      <th>log</th>\n",
       "      <th>left</th>\n",
       "      <th>right</th>\n",
       "    </tr>\n",
       "  </thead>\n",
       "  <tbody>\n",
       "    <tr>\n",
       "      <th>0</th>\n",
       "      <td>kErase</td>\n",
       "      <td>suggest_int</td>\n",
       "      <td>1.000</td>\n",
       "      <td>5.0</td>\n",
       "      <td>False</td>\n",
       "      <td>static constexpr auto kErase =</td>\n",
       "      <td>;             // OPTIMIZE [1, 5]</td>\n",
       "    </tr>\n",
       "    <tr>\n",
       "      <th>1</th>\n",
       "      <td>kRadius</td>\n",
       "      <td>suggest_int</td>\n",
       "      <td>2.000</td>\n",
       "      <td>6.0</td>\n",
       "      <td>False</td>\n",
       "      <td>static constexpr auto kRadius =</td>\n",
       "      <td>;            // OPTIMIZE [2, 6]</td>\n",
       "    </tr>\n",
       "    <tr>\n",
       "      <th>2</th>\n",
       "      <td>kAnnealingA</td>\n",
       "      <td>suggest_float</td>\n",
       "      <td>-15.000</td>\n",
       "      <td>15.0</td>\n",
       "      <td>False</td>\n",
       "      <td>static constexpr auto kAnnealingA =</td>\n",
       "      <td>;      // OPTIMIZE [-15.0, 15.0]</td>\n",
       "    </tr>\n",
       "    <tr>\n",
       "      <th>3</th>\n",
       "      <td>kAnnealingB</td>\n",
       "      <td>suggest_float</td>\n",
       "      <td>0.000</td>\n",
       "      <td>3.0</td>\n",
       "      <td>False</td>\n",
       "      <td>static constexpr auto kAnnealingB =</td>\n",
       "      <td>;      // OPTIMIZE [0.0, 3.0]</td>\n",
       "    </tr>\n",
       "    <tr>\n",
       "      <th>4</th>\n",
       "      <td>kAnnealingStart</td>\n",
       "      <td>suggest_float</td>\n",
       "      <td>1.000</td>\n",
       "      <td>100.0</td>\n",
       "      <td>True</td>\n",
       "      <td>static constexpr auto kAnnealingStart =</td>\n",
       "      <td>; // OPTIMIZE LOG [1.0, 100.0]</td>\n",
       "    </tr>\n",
       "    <tr>\n",
       "      <th>5</th>\n",
       "      <td>kSkipRatio</td>\n",
       "      <td>suggest_float</td>\n",
       "      <td>0.200</td>\n",
       "      <td>0.8</td>\n",
       "      <td>False</td>\n",
       "      <td>static constexpr auto kSkipRatio =</td>\n",
       "      <td>;       // OPTIMIZE [0.2, 0.8]</td>\n",
       "    </tr>\n",
       "    <tr>\n",
       "      <th>6</th>\n",
       "      <td>kTargetDeterminationTrials</td>\n",
       "      <td>suggest_int</td>\n",
       "      <td>1.000</td>\n",
       "      <td>20.0</td>\n",
       "      <td>True</td>\n",
       "      <td>static constexpr auto kTargetDeterminationTria...</td>\n",
       "      <td>; // OPTIMIZE LOG [1, 20]</td>\n",
       "    </tr>\n",
       "    <tr>\n",
       "      <th>7</th>\n",
       "      <td>kAttractionRatio</td>\n",
       "      <td>suggest_float</td>\n",
       "      <td>0.010</td>\n",
       "      <td>0.9</td>\n",
       "      <td>True</td>\n",
       "      <td>static constexpr auto kAttractionRatio =</td>\n",
       "      <td>;      // OPTIMIZE LOG [0.01, 0.9]</td>\n",
       "    </tr>\n",
       "    <tr>\n",
       "      <th>8</th>\n",
       "      <td>kMaxAttractionDistance</td>\n",
       "      <td>suggest_int</td>\n",
       "      <td>4.000</td>\n",
       "      <td>99.0</td>\n",
       "      <td>True</td>\n",
       "      <td>static constexpr auto kMaxAttractionDistance =</td>\n",
       "      <td>; // OPTIMIZE LOG [4, 99]</td>\n",
       "    </tr>\n",
       "    <tr>\n",
       "      <th>9</th>\n",
       "      <td>kStartAttraction</td>\n",
       "      <td>suggest_float</td>\n",
       "      <td>0.001</td>\n",
       "      <td>0.9</td>\n",
       "      <td>True</td>\n",
       "      <td>static constexpr auto kStartAttraction =</td>\n",
       "      <td>;     // OPTIMIZE LOG [0.001, 0.9]</td>\n",
       "    </tr>\n",
       "  </tbody>\n",
       "</table>\n",
       "</div>"
      ],
      "text/plain": [
       "                         name         method     min    max    log  \\\n",
       "0                      kErase    suggest_int   1.000    5.0  False   \n",
       "1                     kRadius    suggest_int   2.000    6.0  False   \n",
       "2                 kAnnealingA  suggest_float -15.000   15.0  False   \n",
       "3                 kAnnealingB  suggest_float   0.000    3.0  False   \n",
       "4             kAnnealingStart  suggest_float   1.000  100.0   True   \n",
       "5                  kSkipRatio  suggest_float   0.200    0.8  False   \n",
       "6  kTargetDeterminationTrials    suggest_int   1.000   20.0   True   \n",
       "7            kAttractionRatio  suggest_float   0.010    0.9   True   \n",
       "8      kMaxAttractionDistance    suggest_int   4.000   99.0   True   \n",
       "9            kStartAttraction  suggest_float   0.001    0.9   True   \n",
       "\n",
       "                                                left  \\\n",
       "0                    static constexpr auto kErase =    \n",
       "1                   static constexpr auto kRadius =    \n",
       "2               static constexpr auto kAnnealingA =    \n",
       "3               static constexpr auto kAnnealingB =    \n",
       "4           static constexpr auto kAnnealingStart =    \n",
       "5                static constexpr auto kSkipRatio =    \n",
       "6  static constexpr auto kTargetDeterminationTria...   \n",
       "7          static constexpr auto kAttractionRatio =    \n",
       "8    static constexpr auto kMaxAttractionDistance =    \n",
       "9          static constexpr auto kStartAttraction =    \n",
       "\n",
       "                                right  \n",
       "0    ;             // OPTIMIZE [1, 5]  \n",
       "1     ;            // OPTIMIZE [2, 6]  \n",
       "2    ;      // OPTIMIZE [-15.0, 15.0]  \n",
       "3       ;      // OPTIMIZE [0.0, 3.0]  \n",
       "4      ; // OPTIMIZE LOG [1.0, 100.0]  \n",
       "5      ;       // OPTIMIZE [0.2, 0.8]  \n",
       "6           ; // OPTIMIZE LOG [1, 20]  \n",
       "7  ;      // OPTIMIZE LOG [0.01, 0.9]  \n",
       "8           ; // OPTIMIZE LOG [4, 99]  \n",
       "9  ;     // OPTIMIZE LOG [0.001, 0.9]  "
      ]
     },
     "metadata": {},
     "output_type": "display_data"
    }
   ],
   "source": [
    "# ここでエラー出力は何かおかしいかもしれない\n",
    "\n",
    "\n",
    "# パラメータ抽出\n",
    "with open(FILENAME) as f:\n",
    "    answer = f.read()\n",
    "\n",
    "\n",
    "variables_optimize = []\n",
    "\n",
    "for left, value, right, options in re.findall(r\"^([^/\\n]*=\\s*)(.+?)(\\s*;\\s*//(?:.*\\W)?OPTIMIZE(\\W.*))$\", answer, re.MULTILINE):\n",
    "    name = left.replace(\"=\", \"\").strip().split()[-1]\n",
    "    \n",
    "    searched = re.search(r\".*\\[(?P<min>.*),(?P<max>.*)\\].*\", options)\n",
    "    if searched:\n",
    "        min_value = max_value = None\n",
    "        try:\n",
    "            min_value = eval(searched.group(\"min\"))\n",
    "            max_value = eval(searched.group(\"max\"))\n",
    "            assert min_value <= max_value\n",
    "        except Exception as e:\n",
    "            print(f\"searched={searched}\", file=sys.stderr)\n",
    "            print(e, file=sys.stderr)\n",
    "            continue\n",
    "        log = \"LOG\" in options  # 雑、直したほうが良い\n",
    "        if type(min_value) != type(max_value):\n",
    "            print(f\"searched={searched}\", file=sys.stderr)\n",
    "            print(\"types not matched\", file=sys.stderr)\n",
    "            continue\n",
    "        if isinstance(min_value, int):\n",
    "            method = \"suggest_int\"\n",
    "        elif isinstance(min_value, float):\n",
    "            method = \"suggest_float\"\n",
    "        else:\n",
    "            print(f\"searched={searched}\", file=sys.stderr)\n",
    "            print(f\"unknown type ({type(min_value)})\", file=sys.stderr)\n",
    "            continue\n",
    "        variables_optimize.append({\n",
    "            \"name\": name,\n",
    "            \"method\": method,\n",
    "            \"min\": min_value,\n",
    "            \"max\": max_value,\n",
    "            \"log\": log,\n",
    "            \"left\": left,\n",
    "            \"right\": right,\n",
    "        })\n",
    "    elif searched := re.search(r\".*\\{(?P<choices>.*?)\\}.*\", options):\n",
    "        choices = list(map(lambda x: x.strip(), searched.group(\"choices\").split(\",\")))\n",
    "        variables_optimize.append({\n",
    "            \"name\": name,\n",
    "            \"method\": \"suggest_categorical\",\n",
    "            \"choices\": choices,\n",
    "            \"left\": left,\n",
    "            \"right\": right,\n",
    "        })\n",
    "    else:\n",
    "        print(f\"searched={searched}\", file=sys.stderr)\n",
    "        print(f\"pattern was matched but options are incorrect.\", file=sys.stderr)\n",
    "\n",
    "print(len(variables_optimize), \"variables were found.\")\n",
    "if globals().get(\"pd\"):\n",
    "    display(pd.DataFrame(variables_optimize))\n",
    "else:\n",
    "    pprint(variables_optimize)"
   ]
  },
  {
   "cell_type": "code",
   "execution_count": 3,
   "id": "001042b9",
   "metadata": {},
   "outputs": [],
   "source": [
    "def escape(string):  # 正規表現の中でそのまま使いたい文字列をエスケープ\n",
    "    res = !echo '{string}' | sed -e 's/[]\\/$*.^[]/\\\\&/g'\n",
    "    return res[0]\n",
    "\n",
    "def escape_sed(string):  # sed の置換後の文字列用のエスケープ\n",
    "    res = !echo '{string}' | sed -e 's/[\\/&]/\\\\&/g'\n",
    "    return res[0]\n",
    "\n",
    "def read_stream(name, in_file, out_file):\n",
    "    for line in in_file:\n",
    "        print(f\"[{name}] {line.strip()}\", file=out_file)\n",
    "\n",
    "def run(cmd, name):\n",
    "    proc = Popen(cmd, stdout=PIPE, stderr=PIPE, universal_newlines=True, shell=isinstance(cmd, str))\n",
    "    stdout_thread = Thread(target=read_stream, args=(name, proc.stdout, sys.stdout))\n",
    "    stderr_thread = Thread(target=read_stream, args=(name, proc.stderr, sys.stderr))\n",
    "    stdout_thread.start()\n",
    "    stderr_thread.start()\n",
    "    proc.wait()\n",
    "    return proc\n",
    "\n",
    "def objective(trial, in_dir, work_dir):\n",
    "    n_internal_parallel = 3\n",
    "    \n",
    "    index_parallel = f\"{trial.number:04d}\"\n",
    "    print(f\"{index_parallel=}\")\n",
    "    \n",
    "    work_dir = Path(work_dir)\n",
    "    directory_input = Path(in_dir)  # 中のすべてのファイルに対して実行される\n",
    "    #parameters_changed_filename = Path(gettempdir()) / str(uuid1())\n",
    "    parameters_changed_filename = work_dir / f\"{index_parallel}_{FILENAME}\"\n",
    "    \n",
    "    run([\"mkdir\", f\"{work_dir / index_parallel}_out\"], \"mkdir\")\n",
    "    run([\"mkdir\", f\"{work_dir / index_parallel}_score\"], \"mkdir\")\n",
    "    \n",
    "    # ファイル作成\n",
    "    run(f\"cp {FILENAME} {parameters_changed_filename}\", \"cp\")\n",
    "    sed_options = [f\"-i {parameters_changed_filename}\"]\n",
    "    for variable in variables_optimize:\n",
    "        if variable[\"method\"] == \"suggest_categorical\":\n",
    "            val =  trial.suggest_categorical(variable[\"name\"], variable[\"choices\"])\n",
    "        else:\n",
    "            val = getattr(trial, variable[\"method\"])(variable[\"name\"], variable[\"min\"], variable[\"max\"], log=variable[\"log\"])\n",
    "        left = variable[\"left\"]\n",
    "        right = variable[\"right\"]\n",
    "        sed_options.append(f\"\"\"-e 's/^{escape(left)}.*{escape(right)}$/{escape_sed(left)}{val}{escape_sed(right)}/'\"\"\")\n",
    "    command_sed = f\"sed {' '.join(sed_options)}\"\n",
    "    #print(command_sed)\n",
    "    run(command_sed, \"sed\")\n",
    "    \n",
    "    # コンパイル\n",
    "    command_compile = f\"g++ {parameters_changed_filename} -std=gnu++17 -O2 -DONLINE_JUDGE -o {parameters_changed_filename}.out\"\n",
    "    #print(command_compile)\n",
    "    run(command_compile, \"compile\")\n",
    "    # 実行・採点コマンド (@ はファイル名)\n",
    "    command_exec = (\n",
    "        #f\"./a.out < ./tools/in/{i:04d}.txt > {out_file} && ./tools/target/release/vis ./tools/in/{i:04d}.txt {out_file}\"\n",
    "        #f\"../tools/target/release/tester $(pwd)/{parameters_changed_filename}.out < {directory_input}/@ 2>&1 | grep Score\"\n",
    "        #f\"../tools/target/release/tester $(pwd)/{parameters_changed_filename}.out < {directory_input}/@ 2>&1 | grep Score | sed -E s/[^0-9]+// > ./{index_parallel}_score/@;\"\n",
    "        #f\"cargo run --release --manifest-path ../tools/Cargo.toml --bin tester {directory_input}/@ $(pwd)/{parameters_changed_filename}.out 2>&1 | grep Score | sed -E s/[^0-9]+// > ./{index_parallel}_score/@;\"\n",
    "        f\"./{parameters_changed_filename}.out < {directory_input}/@ > {work_dir / index_parallel}_out/@;\"\n",
    "        f\"../tools/target/release/vis {directory_input}/@ {work_dir / index_parallel}_out/@ 2> /dev/null > {work_dir / index_parallel}_score/@;\"\n",
    "    )\n",
    "    # 並列実行 (sed はパスのディレクトリ部分を消してファイル名にしてる)\n",
    "    run(f\"find {directory_input}/* | sed 's!^.*/!!' | xargs -I@ -P {n_internal_parallel} sh -c '{command_exec}'\", \"exec\")\n",
    "    \n",
    "    # 集計\n",
    "    scores = []\n",
    "    for file_path in Path(f\"{work_dir / index_parallel}_score/\").iterdir():  \n",
    "        with open(file_path) as f:\n",
    "            scores.append(int(f.readline().strip().split()[-1]))\n",
    "    mean_score = sum(scores) / len(scores)\n",
    "    \n",
    "    # 後始末\n",
    "    run(f\"rm -rf {work_dir / index_parallel}_out\", \"rm\")\n",
    "    run(f\"rm -rf {work_dir / index_parallel}_score\", \"rm\")\n",
    "    #run(f\"rm {parameters_changed_filename}\", \"rm\")\n",
    "    run(f\"rm {parameters_changed_filename}.out\", \"rm\")\n",
    "    \n",
    "    return mean_score"
   ]
  },
  {
   "cell_type": "code",
   "execution_count": 4,
   "id": "2d2e133c",
   "metadata": {},
   "outputs": [
    {
     "name": "stderr",
     "output_type": "stream",
     "text": [
      "\u001b[32m[I 2022-08-16 05:00:45,297]\u001b[0m Using an existing study with name 'study_5_2' instead of creating a new one.\u001b[0m\n"
     ]
    }
   ],
   "source": [
    "K = 5\n",
    "N_CLASS = 2\n",
    "\n",
    "in_dir = Path(f\"in_{K}_{N_CLASS}\")\n",
    "work_dir = Path(f\"work_{K}_{N_CLASS}\")\n",
    "\n",
    "study_name = f\"study_{K}_{N_CLASS}\"\n",
    "storage_path = work_dir / \"study.db\"\n",
    "storage = f\"sqlite:///{storage_path}\"\n",
    "study = optuna.create_study(storage=storage, load_if_exists=True, study_name=study_name, direction=\"maximize\")\n",
    "\n",
    "def callback(study, trial):\n",
    "    try:\n",
    "        index_parallel = f\"{trial.number:04d}\"\n",
    "        parameters_changed_filename = work_dir / f\"{index_parallel}_{FILENAME}\"\n",
    "        if study.best_value == trial.value:\n",
    "            print(f\"Updated! {study.best_value}\")\n",
    "            !cp {parameters_changed_filename} {work_dir / \"best_parameters.cpp\"}\n",
    "        !rm {parameters_changed_filename}\n",
    "    except:\n",
    "        print(\":(\")\n"
   ]
  },
  {
   "cell_type": "code",
   "execution_count": null,
   "id": "61c2901d",
   "metadata": {},
   "outputs": [
    {
     "name": "stdout",
     "output_type": "stream",
     "text": [
      "index_parallel='0133'\n"
     ]
    },
    {
     "name": "stderr",
     "output_type": "stream",
     "text": [
      "\u001b[32m[I 2022-08-16 05:04:10,609]\u001b[0m Trial 133 finished with value: 8538.994252873563 and parameters: {'kErase': 2, 'kRadius': 5, 'kAnnealingA': 9.88703660890885, 'kAnnealingB': 2.084563896809936, 'kAnnealingStart': 3.16898714354814, 'kSkipRatio': 0.5562789241439252, 'kTargetDeterminationTrials': 9, 'kAttractionRatio': 0.894822376279263, 'kMaxAttractionDistance': 18, 'kStartAttraction': 0.7750454386421982}. Best is trial 96 with value: 8654.16091954023.\u001b[0m\n"
     ]
    },
    {
     "name": "stdout",
     "output_type": "stream",
     "text": [
      "index_parallel='0135'\n"
     ]
    },
    {
     "name": "stderr",
     "output_type": "stream",
     "text": [
      "\u001b[32m[I 2022-08-16 05:07:36,236]\u001b[0m Trial 135 finished with value: 8434.385057471265 and parameters: {'kErase': 2, 'kRadius': 5, 'kAnnealingA': 10.197224115055635, 'kAnnealingB': 2.064335734844982, 'kAnnealingStart': 4.7189141894927324, 'kSkipRatio': 0.5608363683265231, 'kTargetDeterminationTrials': 12, 'kAttractionRatio': 0.7629977493151849, 'kMaxAttractionDistance': 20, 'kStartAttraction': 0.8927365991802245}. Best is trial 96 with value: 8654.16091954023.\u001b[0m\n"
     ]
    },
    {
     "name": "stdout",
     "output_type": "stream",
     "text": [
      "index_parallel='0137'\n"
     ]
    },
    {
     "name": "stderr",
     "output_type": "stream",
     "text": [
      "\u001b[32m[I 2022-08-16 05:11:01,840]\u001b[0m Trial 137 finished with value: 8515.30459770115 and parameters: {'kErase': 2, 'kRadius': 5, 'kAnnealingA': 9.583306131597716, 'kAnnealingB': 2.2566492169757626, 'kAnnealingStart': 5.3102092513999235, 'kSkipRatio': 0.5403279415885418, 'kTargetDeterminationTrials': 18, 'kAttractionRatio': 0.8961965808757314, 'kMaxAttractionDistance': 25, 'kStartAttraction': 0.7809673608238776}. Best is trial 96 with value: 8654.16091954023.\u001b[0m\n"
     ]
    },
    {
     "name": "stdout",
     "output_type": "stream",
     "text": [
      "index_parallel='0139'\n"
     ]
    },
    {
     "name": "stderr",
     "output_type": "stream",
     "text": [
      "\u001b[32m[I 2022-08-16 05:14:27,818]\u001b[0m Trial 139 finished with value: 7591.0344827586205 and parameters: {'kErase': 2, 'kRadius': 5, 'kAnnealingA': 10.877318810726223, 'kAnnealingB': 1.9454077933620049, 'kAnnealingStart': 4.361190615316399, 'kSkipRatio': 0.5060830289586432, 'kTargetDeterminationTrials': 14, 'kAttractionRatio': 0.6499117340719415, 'kMaxAttractionDistance': 14, 'kStartAttraction': 0.003929877538755933}. Best is trial 96 with value: 8654.16091954023.\u001b[0m\n"
     ]
    },
    {
     "name": "stdout",
     "output_type": "stream",
     "text": [
      "index_parallel='0141'\n"
     ]
    },
    {
     "name": "stderr",
     "output_type": "stream",
     "text": [
      "\u001b[32m[I 2022-08-16 05:17:53,645]\u001b[0m Trial 141 finished with value: 8091.8448275862065 and parameters: {'kErase': 2, 'kRadius': 6, 'kAnnealingA': 11.812282901279787, 'kAnnealingB': 2.444268639993334, 'kAnnealingStart': 3.7745076526646066, 'kSkipRatio': 0.597584809299082, 'kTargetDeterminationTrials': 16, 'kAttractionRatio': 0.025059144404099017, 'kMaxAttractionDistance': 19, 'kStartAttraction': 0.3984223999247346}. Best is trial 96 with value: 8654.16091954023.\u001b[0m\n"
     ]
    },
    {
     "name": "stdout",
     "output_type": "stream",
     "text": [
      "index_parallel='0143'\n"
     ]
    },
    {
     "name": "stderr",
     "output_type": "stream",
     "text": [
      "\u001b[32m[I 2022-08-16 05:21:19,640]\u001b[0m Trial 143 finished with value: 8544.086206896553 and parameters: {'kErase': 2, 'kRadius': 5, 'kAnnealingA': 8.583999864076372, 'kAnnealingB': 2.1077001250964353, 'kAnnealingStart': 4.750355189504629, 'kSkipRatio': 0.5610557476299479, 'kTargetDeterminationTrials': 9, 'kAttractionRatio': 0.8343246623357866, 'kMaxAttractionDistance': 18, 'kStartAttraction': 0.5837555756128833}. Best is trial 96 with value: 8654.16091954023.\u001b[0m\n"
     ]
    },
    {
     "name": "stdout",
     "output_type": "stream",
     "text": [
      "index_parallel='0145'\n"
     ]
    },
    {
     "name": "stderr",
     "output_type": "stream",
     "text": [
      "\u001b[32m[I 2022-08-16 05:24:45,656]\u001b[0m Trial 145 finished with value: 8464.206896551725 and parameters: {'kErase': 2, 'kRadius': 5, 'kAnnealingA': 8.108983142905693, 'kAnnealingB': 2.1618130960272097, 'kAnnealingStart': 4.782247446958521, 'kSkipRatio': 0.5385917131743938, 'kTargetDeterminationTrials': 12, 'kAttractionRatio': 0.702006488278891, 'kMaxAttractionDistance': 18, 'kStartAttraction': 0.4821582704014734}. Best is trial 96 with value: 8654.16091954023.\u001b[0m\n"
     ]
    },
    {
     "name": "stdout",
     "output_type": "stream",
     "text": [
      "index_parallel='0147'\n"
     ]
    },
    {
     "name": "stderr",
     "output_type": "stream",
     "text": [
      "\u001b[32m[I 2022-08-16 05:28:11,563]\u001b[0m Trial 147 finished with value: 8509.534482758621 and parameters: {'kErase': 2, 'kRadius': 5, 'kAnnealingA': 8.928808085244878, 'kAnnealingB': 2.31215759367116, 'kAnnealingStart': 5.946620459884475, 'kSkipRatio': 0.6174017079994588, 'kTargetDeterminationTrials': 8, 'kAttractionRatio': 0.8932869183284302, 'kMaxAttractionDistance': 21, 'kStartAttraction': 0.5406208091703721}. Best is trial 96 with value: 8654.16091954023.\u001b[0m\n"
     ]
    },
    {
     "name": "stdout",
     "output_type": "stream",
     "text": [
      "index_parallel='0149'\n"
     ]
    },
    {
     "name": "stderr",
     "output_type": "stream",
     "text": [
      "\u001b[32m[I 2022-08-16 05:31:37,201]\u001b[0m Trial 149 finished with value: 8476.005747126437 and parameters: {'kErase': 2, 'kRadius': 5, 'kAnnealingA': 10.309655175235967, 'kAnnealingB': 2.237699702270824, 'kAnnealingStart': 2.831578425485109, 'kSkipRatio': 0.49029988261291757, 'kTargetDeterminationTrials': 11, 'kAttractionRatio': 0.5919137968124352, 'kMaxAttractionDistance': 16, 'kStartAttraction': 0.7031779763496131}. Best is trial 96 with value: 8654.16091954023.\u001b[0m\n"
     ]
    },
    {
     "name": "stdout",
     "output_type": "stream",
     "text": [
      "index_parallel='0151'\n"
     ]
    },
    {
     "name": "stderr",
     "output_type": "stream",
     "text": [
      "\u001b[32m[I 2022-08-16 05:35:03,364]\u001b[0m Trial 151 finished with value: 8644.563218390804 and parameters: {'kErase': 2, 'kRadius': 5, 'kAnnealingA': 12.40120317854083, 'kAnnealingB': 2.520632397923377, 'kAnnealingStart': 4.155713509400528, 'kSkipRatio': 0.6446217582706407, 'kTargetDeterminationTrials': 8, 'kAttractionRatio': 0.5155725870676454, 'kMaxAttractionDistance': 19, 'kStartAttraction': 0.6451971247121822}. Best is trial 96 with value: 8654.16091954023.\u001b[0m\n"
     ]
    },
    {
     "name": "stdout",
     "output_type": "stream",
     "text": [
      "index_parallel='0153'\n"
     ]
    },
    {
     "name": "stderr",
     "output_type": "stream",
     "text": [
      "\u001b[32m[I 2022-08-16 05:38:29,723]\u001b[0m Trial 153 finished with value: 7304.051724137931 and parameters: {'kErase': 2, 'kRadius': 5, 'kAnnealingA': 12.388560759480466, 'kAnnealingB': 2.5841227478742024, 'kAnnealingStart': 28.645078399283605, 'kSkipRatio': 0.648181662249938, 'kTargetDeterminationTrials': 8, 'kAttractionRatio': 0.5028023886142798, 'kMaxAttractionDistance': 19, 'kStartAttraction': 0.6475218706330758}. Best is trial 96 with value: 8654.16091954023.\u001b[0m\n"
     ]
    },
    {
     "name": "stdout",
     "output_type": "stream",
     "text": [
      "index_parallel='0155'\n"
     ]
    },
    {
     "name": "stderr",
     "output_type": "stream",
     "text": [
      "\u001b[32m[I 2022-08-16 05:41:55,866]\u001b[0m Trial 155 finished with value: 8381.471264367816 and parameters: {'kErase': 2, 'kRadius': 5, 'kAnnealingA': 10.02734986911543, 'kAnnealingB': 2.5045202459782923, 'kAnnealingStart': 4.426567073253496, 'kSkipRatio': 0.6037731747377537, 'kTargetDeterminationTrials': 12, 'kAttractionRatio': 0.6393262220612688, 'kMaxAttractionDistance': 19, 'kStartAttraction': 0.44342402716048945}. Best is trial 96 with value: 8654.16091954023.\u001b[0m\n"
     ]
    },
    {
     "name": "stdout",
     "output_type": "stream",
     "text": [
      "index_parallel='0157'\n"
     ]
    },
    {
     "name": "stderr",
     "output_type": "stream",
     "text": [
      "\u001b[32m[I 2022-08-16 05:45:22,635]\u001b[0m Trial 157 finished with value: 8489.758620689656 and parameters: {'kErase': 2, 'kRadius': 5, 'kAnnealingA': 9.343107424445044, 'kAnnealingB': 2.401072688104774, 'kAnnealingStart': 3.156227107431074, 'kSkipRatio': 0.515878222004051, 'kTargetDeterminationTrials': 14, 'kAttractionRatio': 0.7572170488568267, 'kMaxAttractionDistance': 21, 'kStartAttraction': 0.7895224643629896}. Best is trial 96 with value: 8654.16091954023.\u001b[0m\n"
     ]
    },
    {
     "name": "stdout",
     "output_type": "stream",
     "text": [
      "index_parallel='0159'\n"
     ]
    },
    {
     "name": "stderr",
     "output_type": "stream",
     "text": [
      "\u001b[32m[I 2022-08-16 05:48:48,892]\u001b[0m Trial 159 finished with value: 8479.568965517241 and parameters: {'kErase': 2, 'kRadius': 5, 'kAnnealingA': 8.395900385762765, 'kAnnealingB': 2.675887433005967, 'kAnnealingStart': 5.039844761915094, 'kSkipRatio': 0.6327116748874989, 'kTargetDeterminationTrials': 9, 'kAttractionRatio': 0.7017422705425598, 'kMaxAttractionDistance': 17, 'kStartAttraction': 0.5819467879604475}. Best is trial 96 with value: 8654.16091954023.\u001b[0m\n"
     ]
    },
    {
     "name": "stdout",
     "output_type": "stream",
     "text": [
      "index_parallel='0161'\n"
     ]
    },
    {
     "name": "stderr",
     "output_type": "stream",
     "text": [
      "\u001b[32m[I 2022-08-16 05:52:14,652]\u001b[0m Trial 161 finished with value: 8282.586206896553 and parameters: {'kErase': 2, 'kRadius': 5, 'kAnnealingA': 13.448972117848157, 'kAnnealingB': 1.3823689315022807, 'kAnnealingStart': 4.004388016826337, 'kSkipRatio': 0.5546017433235931, 'kTargetDeterminationTrials': 11, 'kAttractionRatio': 0.831353433022882, 'kMaxAttractionDistance': 25, 'kStartAttraction': 0.3567514910322628}. Best is trial 96 with value: 8654.16091954023.\u001b[0m\n"
     ]
    },
    {
     "name": "stdout",
     "output_type": "stream",
     "text": [
      "index_parallel='0163'\n"
     ]
    },
    {
     "name": "stderr",
     "output_type": "stream",
     "text": [
      "\u001b[32m[I 2022-08-16 05:55:40,295]\u001b[0m Trial 163 finished with value: 8407.01724137931 and parameters: {'kErase': 2, 'kRadius': 5, 'kAnnealingA': 14.392483213668758, 'kAnnealingB': 2.0610142115994754, 'kAnnealingStart': 3.2913431813264467, 'kSkipRatio': 0.5463372132143887, 'kTargetDeterminationTrials': 10, 'kAttractionRatio': 0.7648524632485462, 'kMaxAttractionDistance': 15, 'kStartAttraction': 0.5870626616402275}. Best is trial 96 with value: 8654.16091954023.\u001b[0m\n"
     ]
    },
    {
     "name": "stdout",
     "output_type": "stream",
     "text": [
      "index_parallel='0165'\n"
     ]
    },
    {
     "name": "stderr",
     "output_type": "stream",
     "text": [
      "\u001b[32m[I 2022-08-16 05:59:06,080]\u001b[0m Trial 165 finished with value: 8605.241379310344 and parameters: {'kErase': 2, 'kRadius': 5, 'kAnnealingA': 12.102018727460754, 'kAnnealingB': 1.576244069348147, 'kAnnealingStart': 2.8004847254275447, 'kSkipRatio': 0.5735330241184711, 'kTargetDeterminationTrials': 12, 'kAttractionRatio': 0.8948349362910991, 'kMaxAttractionDistance': 18, 'kStartAttraction': 0.49828187989776135}. Best is trial 96 with value: 8654.16091954023.\u001b[0m\n"
     ]
    },
    {
     "name": "stdout",
     "output_type": "stream",
     "text": [
      "index_parallel='0167'\n"
     ]
    },
    {
     "name": "stderr",
     "output_type": "stream",
     "text": [
      "\u001b[32m[I 2022-08-16 06:02:31,849]\u001b[0m Trial 167 finished with value: 8536.114942528735 and parameters: {'kErase': 2, 'kRadius': 5, 'kAnnealingA': 12.107158529608414, 'kAnnealingB': 1.606015011644822, 'kAnnealingStart': 2.7548909775269386, 'kSkipRatio': 0.5733685022209607, 'kTargetDeterminationTrials': 13, 'kAttractionRatio': 0.8860623420975069, 'kMaxAttractionDistance': 16, 'kStartAttraction': 0.6876617279507943}. Best is trial 96 with value: 8654.16091954023.\u001b[0m\n"
     ]
    },
    {
     "name": "stdout",
     "output_type": "stream",
     "text": [
      "index_parallel='0169'\n"
     ]
    },
    {
     "name": "stderr",
     "output_type": "stream",
     "text": [
      "\u001b[32m[I 2022-08-16 06:05:57,466]\u001b[0m Trial 169 finished with value: 8516.396551724138 and parameters: {'kErase': 2, 'kRadius': 5, 'kAnnealingA': 6.0522186148494335, 'kAnnealingB': 1.4171546948613876, 'kAnnealingStart': 2.635561847104967, 'kSkipRatio': 0.5856155321239909, 'kTargetDeterminationTrials': 11, 'kAttractionRatio': 0.7554219417415661, 'kMaxAttractionDistance': 17, 'kStartAttraction': 0.506366473751287}. Best is trial 96 with value: 8654.16091954023.\u001b[0m\n"
     ]
    },
    {
     "name": "stdout",
     "output_type": "stream",
     "text": [
      "index_parallel='0171'\n"
     ]
    },
    {
     "name": "stderr",
     "output_type": "stream",
     "text": [
      "\u001b[32m[I 2022-08-16 06:09:23,392]\u001b[0m Trial 171 finished with value: 7748.620689655172 and parameters: {'kErase': 2, 'kRadius': 5, 'kAnnealingA': 13.326917353560612, 'kAnnealingB': 1.677956396594167, 'kAnnealingStart': 2.9285280694643374, 'kSkipRatio': 0.5341091646929738, 'kTargetDeterminationTrials': 16, 'kAttractionRatio': 0.6827839272626385, 'kMaxAttractionDistance': 20, 'kStartAttraction': 0.04793621420551616}. Best is trial 96 with value: 8654.16091954023.\u001b[0m\n"
     ]
    },
    {
     "name": "stdout",
     "output_type": "stream",
     "text": [
      "index_parallel='0173'\n"
     ]
    },
    {
     "name": "stderr",
     "output_type": "stream",
     "text": [
      "\u001b[32m[I 2022-08-16 06:12:49,306]\u001b[0m Trial 173 finished with value: 8552.925287356322 and parameters: {'kErase': 2, 'kRadius': 5, 'kAnnealingA': 11.558696141634346, 'kAnnealingB': 1.547464168226829, 'kAnnealingStart': 3.5336849333746554, 'kSkipRatio': 0.5614766993777202, 'kTargetDeterminationTrials': 14, 'kAttractionRatio': 0.8245999621546699, 'kMaxAttractionDistance': 23, 'kStartAttraction': 0.6403289321135953}. Best is trial 96 with value: 8654.16091954023.\u001b[0m\n"
     ]
    },
    {
     "name": "stdout",
     "output_type": "stream",
     "text": [
      "index_parallel='0175'\n"
     ]
    },
    {
     "name": "stderr",
     "output_type": "stream",
     "text": [
      "\u001b[32m[I 2022-08-16 06:16:15,138]\u001b[0m Trial 175 finished with value: 8504.155172413793 and parameters: {'kErase': 2, 'kRadius': 5, 'kAnnealingA': 12.558014779736121, 'kAnnealingB': 1.2878060387496484, 'kAnnealingStart': 2.1934977096996686, 'kSkipRatio': 0.5718302348567819, 'kTargetDeterminationTrials': 20, 'kAttractionRatio': 0.7924830304075864, 'kMaxAttractionDistance': 28, 'kStartAttraction': 0.6155876676991607}. Best is trial 96 with value: 8654.16091954023.\u001b[0m\n"
     ]
    },
    {
     "name": "stdout",
     "output_type": "stream",
     "text": [
      "index_parallel='0177'\n"
     ]
    },
    {
     "name": "stderr",
     "output_type": "stream",
     "text": [
      "\u001b[32m[I 2022-08-16 06:19:40,779]\u001b[0m Trial 177 finished with value: 8509.362068965518 and parameters: {'kErase': 2, 'kRadius': 5, 'kAnnealingA': 10.671885810661381, 'kAnnealingB': 1.4968647575005922, 'kAnnealingStart': 1.9443636841324299, 'kSkipRatio': 0.6076421830555293, 'kTargetDeterminationTrials': 17, 'kAttractionRatio': 0.6740568383233917, 'kMaxAttractionDistance': 23, 'kStartAttraction': 0.5158039130929115}. Best is trial 96 with value: 8654.16091954023.\u001b[0m\n"
     ]
    },
    {
     "name": "stdout",
     "output_type": "stream",
     "text": [
      "index_parallel='0179'\n"
     ]
    },
    {
     "name": "stderr",
     "output_type": "stream",
     "text": [
      "\u001b[32m[I 2022-08-16 06:23:06,751]\u001b[0m Trial 179 finished with value: 7171.212643678161 and parameters: {'kErase': 2, 'kRadius': 5, 'kAnnealingA': 11.305261898955152, 'kAnnealingB': 1.4103040209051114, 'kAnnealingStart': 2.3813914848359814, 'kSkipRatio': 0.5350510917377413, 'kTargetDeterminationTrials': 15, 'kAttractionRatio': 0.6351543699022746, 'kMaxAttractionDistance': 22, 'kStartAttraction': 0.0011125288705652442}. Best is trial 96 with value: 8654.16091954023.\u001b[0m\n"
     ]
    },
    {
     "name": "stdout",
     "output_type": "stream",
     "text": [
      "index_parallel='0181'\n"
     ]
    },
    {
     "name": "stderr",
     "output_type": "stream",
     "text": [
      "\u001b[32m[I 2022-08-16 06:26:32,434]\u001b[0m Trial 181 finished with value: 8508.78735632184 and parameters: {'kErase': 2, 'kRadius': 5, 'kAnnealingA': 13.803429321143302, 'kAnnealingB': 1.6498856678631018, 'kAnnealingStart': 3.6102191470231175, 'kSkipRatio': 0.5532121947129942, 'kTargetDeterminationTrials': 14, 'kAttractionRatio': 0.5585544060709923, 'kMaxAttractionDistance': 24, 'kStartAttraction': 0.6986470875242718}. Best is trial 96 with value: 8654.16091954023.\u001b[0m\n"
     ]
    },
    {
     "name": "stdout",
     "output_type": "stream",
     "text": [
      "index_parallel='0183'\n"
     ]
    },
    {
     "name": "stderr",
     "output_type": "stream",
     "text": [
      "\u001b[32m[I 2022-08-16 06:29:58,229]\u001b[0m Trial 183 finished with value: 8611.189655172413 and parameters: {'kErase': 2, 'kRadius': 5, 'kAnnealingA': 6.7855180702838975, 'kAnnealingB': 0.9356305777738699, 'kAnnealingStart': 4.293736704119755, 'kSkipRatio': 0.5899816840066023, 'kTargetDeterminationTrials': 12, 'kAttractionRatio': 0.749876246260994, 'kMaxAttractionDistance': 20, 'kStartAttraction': 0.4404329306089567}. Best is trial 96 with value: 8654.16091954023.\u001b[0m\n"
     ]
    },
    {
     "name": "stdout",
     "output_type": "stream",
     "text": [
      "index_parallel='0185'\n"
     ]
    },
    {
     "name": "stderr",
     "output_type": "stream",
     "text": [
      "\u001b[32m[I 2022-08-16 06:33:24,258]\u001b[0m Trial 185 finished with value: 8457.913793103447 and parameters: {'kErase': 2, 'kRadius': 5, 'kAnnealingA': 7.037947100109968, 'kAnnealingB': 0.815666002278231, 'kAnnealingStart': 4.313707423143713, 'kSkipRatio': 0.5807107750184118, 'kTargetDeterminationTrials': 18, 'kAttractionRatio': 0.8171284926286484, 'kMaxAttractionDistance': 20, 'kStartAttraction': 0.49004094438842055}. Best is trial 96 with value: 8654.16091954023.\u001b[0m\n"
     ]
    },
    {
     "name": "stdout",
     "output_type": "stream",
     "text": [
      "index_parallel='0187'\n"
     ]
    },
    {
     "name": "stderr",
     "output_type": "stream",
     "text": [
      "\u001b[32m[I 2022-08-16 06:36:49,966]\u001b[0m Trial 187 finished with value: 8517.925287356322 and parameters: {'kErase': 2, 'kRadius': 5, 'kAnnealingA': 6.731355472137593, 'kAnnealingB': 1.4646151832052696, 'kAnnealingStart': 2.9950226107321134, 'kSkipRatio': 0.6034882434459775, 'kTargetDeterminationTrials': 16, 'kAttractionRatio': 0.7153193128914399, 'kMaxAttractionDistance': 21, 'kStartAttraction': 0.6716123700945466}. Best is trial 96 with value: 8654.16091954023.\u001b[0m\n"
     ]
    },
    {
     "name": "stdout",
     "output_type": "stream",
     "text": [
      "index_parallel='0189'\n"
     ]
    },
    {
     "name": "stderr",
     "output_type": "stream",
     "text": [
      "\u001b[32m[I 2022-08-16 06:40:15,890]\u001b[0m Trial 189 finished with value: 8529.224137931034 and parameters: {'kErase': 2, 'kRadius': 5, 'kAnnealingA': 10.718404103438612, 'kAnnealingB': 1.3439452795680644, 'kAnnealingStart': 4.81096295727281, 'kSkipRatio': 0.5667616045408433, 'kTargetDeterminationTrials': 13, 'kAttractionRatio': 0.7805484756984443, 'kMaxAttractionDistance': 26, 'kStartAttraction': 0.39714780774461844}. Best is trial 96 with value: 8654.16091954023.\u001b[0m\n"
     ]
    },
    {
     "name": "stdout",
     "output_type": "stream",
     "text": [
      "index_parallel='0191'\n"
     ]
    },
    {
     "name": "stderr",
     "output_type": "stream",
     "text": [
      "\u001b[32m[I 2022-08-16 06:43:41,715]\u001b[0m Trial 191 finished with value: 8283.827586206897 and parameters: {'kErase': 2, 'kRadius': 5, 'kAnnealingA': 7.896930059697816, 'kAnnealingB': 1.0882270718108156, 'kAnnealingStart': 3.3366291672225312, 'kSkipRatio': 0.6193752297458808, 'kTargetDeterminationTrials': 12, 'kAttractionRatio': 0.1067814614872416, 'kMaxAttractionDistance': 28, 'kStartAttraction': 0.7757419303602172}. Best is trial 96 with value: 8654.16091954023.\u001b[0m\n"
     ]
    },
    {
     "name": "stdout",
     "output_type": "stream",
     "text": [
      "index_parallel='0193'\n"
     ]
    },
    {
     "name": "stderr",
     "output_type": "stream",
     "text": [
      "\u001b[32m[I 2022-08-16 06:47:07,466]\u001b[0m Trial 193 finished with value: 8418.310344827587 and parameters: {'kErase': 2, 'kRadius': 5, 'kAnnealingA': 11.986658830132786, 'kAnnealingB': 0.9084636981713875, 'kAnnealingStart': 4.043107354085064, 'kSkipRatio': 0.6461432735055356, 'kTargetDeterminationTrials': 11, 'kAttractionRatio': 0.8420650256354579, 'kMaxAttractionDistance': 18, 'kStartAttraction': 0.5571721148903155}. Best is trial 96 with value: 8654.16091954023.\u001b[0m\n"
     ]
    },
    {
     "name": "stdout",
     "output_type": "stream",
     "text": [
      "index_parallel='0195'\n"
     ]
    },
    {
     "name": "stderr",
     "output_type": "stream",
     "text": [
      "\u001b[32m[I 2022-08-16 06:50:33,644]\u001b[0m Trial 195 finished with value: 6471.775862068966 and parameters: {'kErase': 4, 'kRadius': 5, 'kAnnealingA': 13.072919820673567, 'kAnnealingB': 1.1222525187208423, 'kAnnealingStart': 4.631645674362325, 'kSkipRatio': 0.5955000349091663, 'kTargetDeterminationTrials': 13, 'kAttractionRatio': 0.899157895171207, 'kMaxAttractionDistance': 19, 'kStartAttraction': 0.00763923709685933}. Best is trial 96 with value: 8654.16091954023.\u001b[0m\n"
     ]
    },
    {
     "name": "stdout",
     "output_type": "stream",
     "text": [
      "index_parallel='0197'\n"
     ]
    },
    {
     "name": "stderr",
     "output_type": "stream",
     "text": [
      "\u001b[32m[I 2022-08-16 06:53:59,453]\u001b[0m Trial 197 finished with value: 8572.1091954023 and parameters: {'kErase': 2, 'kRadius': 5, 'kAnnealingA': 9.156975722937768, 'kAnnealingB': 1.0196502552092594, 'kAnnealingStart': 3.8478431534293964, 'kSkipRatio': 0.570887574901307, 'kTargetDeterminationTrials': 13, 'kAttractionRatio': 0.6709611138950425, 'kMaxAttractionDistance': 25, 'kStartAttraction': 0.6294896463551706}. Best is trial 96 with value: 8654.16091954023.\u001b[0m\n"
     ]
    },
    {
     "name": "stdout",
     "output_type": "stream",
     "text": [
      "index_parallel='0199'\n"
     ]
    },
    {
     "name": "stderr",
     "output_type": "stream",
     "text": [
      "\u001b[32m[I 2022-08-16 06:57:25,170]\u001b[0m Trial 199 finished with value: 8547.810344827587 and parameters: {'kErase': 2, 'kRadius': 5, 'kAnnealingA': 10.529551616566849, 'kAnnealingB': 1.0007603775140677, 'kAnnealingStart': 3.647357932011911, 'kSkipRatio': 0.5736279381360457, 'kTargetDeterminationTrials': 14, 'kAttractionRatio': 0.6647422182586202, 'kMaxAttractionDistance': 22, 'kStartAttraction': 0.7323607308581813}. Best is trial 96 with value: 8654.16091954023.\u001b[0m\n"
     ]
    },
    {
     "name": "stdout",
     "output_type": "stream",
     "text": [
      "index_parallel='0201'\n"
     ]
    },
    {
     "name": "stderr",
     "output_type": "stream",
     "text": [
      "\u001b[32m[I 2022-08-16 07:00:51,064]\u001b[0m Trial 201 finished with value: 8363.385057471265 and parameters: {'kErase': 2, 'kRadius': 5, 'kAnnealingA': 9.155541487681772, 'kAnnealingB': 1.1826155945124057, 'kAnnealingStart': 3.078684935848272, 'kSkipRatio': 0.607907572414566, 'kTargetDeterminationTrials': 15, 'kAttractionRatio': 0.5896163290379978, 'kMaxAttractionDistance': 25, 'kStartAttraction': 0.46158317053349796}. Best is trial 96 with value: 8654.16091954023.\u001b[0m\n"
     ]
    },
    {
     "name": "stdout",
     "output_type": "stream",
     "text": [
      "index_parallel='0203'\n"
     ]
    },
    {
     "name": "stderr",
     "output_type": "stream",
     "text": [
      "\u001b[32m[I 2022-08-16 07:04:16,852]\u001b[0m Trial 203 finished with value: 8424.902298850575 and parameters: {'kErase': 2, 'kRadius': 5, 'kAnnealingA': 9.867497504838136, 'kAnnealingB': 1.2287352820389443, 'kAnnealingStart': 5.393563901709519, 'kSkipRatio': 0.5480813201606373, 'kTargetDeterminationTrials': 12, 'kAttractionRatio': 0.737764726246118, 'kMaxAttractionDistance': 23, 'kStartAttraction': 0.4929009822713185}. Best is trial 96 with value: 8654.16091954023.\u001b[0m\n"
     ]
    },
    {
     "name": "stdout",
     "output_type": "stream",
     "text": [
      "index_parallel='0205'\n"
     ]
    },
    {
     "name": "stderr",
     "output_type": "stream",
     "text": [
      "\u001b[32m[I 2022-08-16 07:07:43,030]\u001b[0m Trial 205 finished with value: 7056.4655172413795 and parameters: {'kErase': 2, 'kRadius': 5, 'kAnnealingA': 8.229145960409355, 'kAnnealingB': 1.0460280296465854, 'kAnnealingStart': 52.24787167599065, 'kSkipRatio': 0.5785755689520018, 'kTargetDeterminationTrials': 13, 'kAttractionRatio': 0.7853067647242195, 'kMaxAttractionDistance': 21, 'kStartAttraction': 0.6620723759052872}. Best is trial 96 with value: 8654.16091954023.\u001b[0m\n"
     ]
    },
    {
     "name": "stdout",
     "output_type": "stream",
     "text": [
      "index_parallel='0207'\n"
     ]
    },
    {
     "name": "stderr",
     "output_type": "stream",
     "text": [
      "\u001b[32m[I 2022-08-16 07:11:08,680]\u001b[0m Trial 207 finished with value: 8548.01724137931 and parameters: {'kErase': 2, 'kRadius': 5, 'kAnnealingA': 12.689295899140276, 'kAnnealingB': 1.3940416367506008, 'kAnnealingStart': 3.9265037939539473, 'kSkipRatio': 0.562178394528867, 'kTargetDeterminationTrials': 11, 'kAttractionRatio': 0.6769461356391341, 'kMaxAttractionDistance': 20, 'kStartAttraction': 0.774338989397555}. Best is trial 96 with value: 8654.16091954023.\u001b[0m\n"
     ]
    },
    {
     "name": "stdout",
     "output_type": "stream",
     "text": [
      "index_parallel='0209'\n"
     ]
    },
    {
     "name": "stderr",
     "output_type": "stream",
     "text": [
      "\u001b[32m[I 2022-08-16 07:14:34,250]\u001b[0m Trial 209 finished with value: 8429.948275862069 and parameters: {'kErase': 2, 'kRadius': 5, 'kAnnealingA': 11.853310671264556, 'kAnnealingB': 1.2370395837810437, 'kAnnealingStart': 2.493814488634852, 'kSkipRatio': 0.5217892084220126, 'kTargetDeterminationTrials': 17, 'kAttractionRatio': 0.8231290568345855, 'kMaxAttractionDistance': 24, 'kStartAttraction': 0.5587593073076896}. Best is trial 96 with value: 8654.16091954023.\u001b[0m\n"
     ]
    },
    {
     "name": "stdout",
     "output_type": "stream",
     "text": [
      "index_parallel='0211'\n"
     ]
    },
    {
     "name": "stderr",
     "output_type": "stream",
     "text": [
      "\u001b[32m[I 2022-08-16 07:17:59,906]\u001b[0m Trial 211 finished with value: 8302.781609195403 and parameters: {'kErase': 2, 'kRadius': 5, 'kAnnealingA': 14.795930600835835, 'kAnnealingB': 0.7692537708272518, 'kAnnealingStart': 3.2481356493239866, 'kSkipRatio': 0.6559126185033713, 'kTargetDeterminationTrials': 16, 'kAttractionRatio': 0.8927891960785059, 'kMaxAttractionDistance': 27, 'kStartAttraction': 0.3818828241678279}. Best is trial 96 with value: 8654.16091954023.\u001b[0m\n"
     ]
    },
    {
     "name": "stdout",
     "output_type": "stream",
     "text": [
      "index_parallel='0213'\n"
     ]
    },
    {
     "name": "stderr",
     "output_type": "stream",
     "text": [
      "\u001b[32m[I 2022-08-16 07:21:26,073]\u001b[0m Trial 213 finished with value: 8484.511494252874 and parameters: {'kErase': 2, 'kRadius': 5, 'kAnnealingA': 13.405944077819253, 'kAnnealingB': 1.5642976425802215, 'kAnnealingStart': 3.924570052922552, 'kSkipRatio': 0.5613833441380349, 'kTargetDeterminationTrials': 11, 'kAttractionRatio': 0.703266404330791, 'kMaxAttractionDistance': 20, 'kStartAttraction': 0.7731640195938725}. Best is trial 96 with value: 8654.16091954023.\u001b[0m\n"
     ]
    },
    {
     "name": "stdout",
     "output_type": "stream",
     "text": [
      "index_parallel='0215'\n"
     ]
    },
    {
     "name": "stderr",
     "output_type": "stream",
     "text": [
      "\u001b[32m[I 2022-08-16 07:24:51,664]\u001b[0m Trial 215 finished with value: 8617.885057471265 and parameters: {'kErase': 2, 'kRadius': 5, 'kAnnealingA': 14.204812795350266, 'kAnnealingB': 2.3382723196702653, 'kAnnealingStart': 5.0096691358771315, 'kSkipRatio': 0.5911720343996041, 'kTargetDeterminationTrials': 15, 'kAttractionRatio': 0.6291944288269308, 'kMaxAttractionDistance': 19, 'kStartAttraction': 0.6483375968859801}. Best is trial 96 with value: 8654.16091954023.\u001b[0m\n"
     ]
    },
    {
     "name": "stdout",
     "output_type": "stream",
     "text": [
      "index_parallel='0217'\n"
     ]
    },
    {
     "name": "stderr",
     "output_type": "stream",
     "text": [
      "\u001b[32m[I 2022-08-16 07:28:17,746]\u001b[0m Trial 217 finished with value: 8566.166666666666 and parameters: {'kErase': 2, 'kRadius': 5, 'kAnnealingA': 13.372264431489814, 'kAnnealingB': 2.4632487059977186, 'kAnnealingStart': 2.850046221661203, 'kSkipRatio': 0.5941649193316597, 'kTargetDeterminationTrials': 10, 'kAttractionRatio': 0.6158398344908903, 'kMaxAttractionDistance': 19, 'kStartAttraction': 0.6216546733916216}. Best is trial 96 with value: 8654.16091954023.\u001b[0m\n"
     ]
    },
    {
     "name": "stdout",
     "output_type": "stream",
     "text": [
      "index_parallel='0219'\n"
     ]
    },
    {
     "name": "stderr",
     "output_type": "stream",
     "text": [
      "\u001b[32m[I 2022-08-16 07:31:43,174]\u001b[0m Trial 219 finished with value: 8502.793103448275 and parameters: {'kErase': 2, 'kRadius': 5, 'kAnnealingA': 14.113466113209979, 'kAnnealingB': 2.4643300914656896, 'kAnnealingStart': 2.7607915937900134, 'kSkipRatio': 0.5888323203626712, 'kTargetDeterminationTrials': 10, 'kAttractionRatio': 0.5251955505576614, 'kMaxAttractionDistance': 19, 'kStartAttraction': 0.6260082925158441}. Best is trial 96 with value: 8654.16091954023.\u001b[0m\n"
     ]
    },
    {
     "name": "stdout",
     "output_type": "stream",
     "text": [
      "index_parallel='0221'\n"
     ]
    },
    {
     "name": "stderr",
     "output_type": "stream",
     "text": [
      "\u001b[32m[I 2022-08-16 07:35:09,112]\u001b[0m Trial 221 finished with value: 8515.080459770115 and parameters: {'kErase': 2, 'kRadius': 5, 'kAnnealingA': 13.63363510082454, 'kAnnealingB': 2.520006534023019, 'kAnnealingStart': 2.853714289527511, 'kSkipRatio': 0.6028708911714145, 'kTargetDeterminationTrials': 15, 'kAttractionRatio': 0.6247191893398159, 'kMaxAttractionDistance': 19, 'kStartAttraction': 0.8745912972484027}. Best is trial 96 with value: 8654.16091954023.\u001b[0m\n"
     ]
    },
    {
     "name": "stdout",
     "output_type": "stream",
     "text": [
      "index_parallel='0223'\n"
     ]
    },
    {
     "name": "stderr",
     "output_type": "stream",
     "text": [
      "\u001b[32m[I 2022-08-16 07:38:34,916]\u001b[0m Trial 223 finished with value: 8337.229885057472 and parameters: {'kErase': 2, 'kRadius': 5, 'kAnnealingA': 14.458595737195699, 'kAnnealingB': 2.346930128497585, 'kAnnealingStart': 5.153652581924019, 'kSkipRatio': 0.5938337545482643, 'kTargetDeterminationTrials': 11, 'kAttractionRatio': 0.7370419695880528, 'kMaxAttractionDistance': 17, 'kStartAttraction': 0.45702843576435814}. Best is trial 96 with value: 8654.16091954023.\u001b[0m\n"
     ]
    },
    {
     "name": "stdout",
     "output_type": "stream",
     "text": [
      "index_parallel='0225'\n"
     ]
    },
    {
     "name": "stderr",
     "output_type": "stream",
     "text": [
      "\u001b[32m[I 2022-08-16 07:42:00,455]\u001b[0m Trial 225 finished with value: 8605.87356321839 and parameters: {'kErase': 2, 'kRadius': 5, 'kAnnealingA': 13.021112591956042, 'kAnnealingB': 2.3079241139405924, 'kAnnealingStart': 4.422084334775717, 'kSkipRatio': 0.6126792272112497, 'kTargetDeterminationTrials': 12, 'kAttractionRatio': 0.7718906440987102, 'kMaxAttractionDistance': 16, 'kStartAttraction': 0.5627346881060424}. Best is trial 96 with value: 8654.16091954023.\u001b[0m\n"
     ]
    },
    {
     "name": "stdout",
     "output_type": "stream",
     "text": [
      "index_parallel='0227'\n"
     ]
    },
    {
     "name": "stderr",
     "output_type": "stream",
     "text": [
      "\u001b[32m[I 2022-08-16 07:45:26,124]\u001b[0m Trial 227 finished with value: 8534.913793103447 and parameters: {'kErase': 2, 'kRadius': 5, 'kAnnealingA': 13.213714787860846, 'kAnnealingB': 0.8621201857609169, 'kAnnealingStart': 4.354023811204715, 'kSkipRatio': 0.6117668173208507, 'kTargetDeterminationTrials': 10, 'kAttractionRatio': 0.6689603869271736, 'kMaxAttractionDistance': 16, 'kStartAttraction': 0.552350516842204}. Best is trial 96 with value: 8654.16091954023.\u001b[0m\n"
     ]
    },
    {
     "name": "stdout",
     "output_type": "stream",
     "text": [
      "index_parallel='0229'\n"
     ]
    },
    {
     "name": "stderr",
     "output_type": "stream",
     "text": [
      "\u001b[32m[I 2022-08-16 07:48:52,406]\u001b[0m Trial 229 finished with value: 7771.752873563219 and parameters: {'kErase': 2, 'kRadius': 5, 'kAnnealingA': 14.519345235772862, 'kAnnealingB': 2.321185385110405, 'kAnnealingStart': 4.476996905768939, 'kSkipRatio': 0.6308904886731512, 'kTargetDeterminationTrials': 12, 'kAttractionRatio': 0.5961066314917698, 'kMaxAttractionDistance': 15, 'kStartAttraction': 0.031852448748103945}. Best is trial 96 with value: 8654.16091954023.\u001b[0m\n"
     ]
    },
    {
     "name": "stdout",
     "output_type": "stream",
     "text": [
      "index_parallel='0231'\n"
     ]
    },
    {
     "name": "stderr",
     "output_type": "stream",
     "text": [
      "\u001b[32m[I 2022-08-16 07:52:18,158]\u001b[0m Trial 231 finished with value: 8469.810344827587 and parameters: {'kErase': 2, 'kRadius': 5, 'kAnnealingA': 14.879262347136056, 'kAnnealingB': 2.3882309377732795, 'kAnnealingStart': 5.946993456984294, 'kSkipRatio': 0.6393602379900722, 'kTargetDeterminationTrials': 10, 'kAttractionRatio': 0.538321682064388, 'kMaxAttractionDistance': 16, 'kStartAttraction': 0.6999464228008877}. Best is trial 96 with value: 8654.16091954023.\u001b[0m\n"
     ]
    },
    {
     "name": "stdout",
     "output_type": "stream",
     "text": [
      "index_parallel='0233'\n"
     ]
    },
    {
     "name": "stderr",
     "output_type": "stream",
     "text": [
      "\u001b[32m[I 2022-08-16 07:55:43,850]\u001b[0m Trial 233 finished with value: 8461.224137931034 and parameters: {'kErase': 2, 'kRadius': 5, 'kAnnealingA': 13.484250884406746, 'kAnnealingB': 2.409642278458781, 'kAnnealingStart': 6.794907667400618, 'kSkipRatio': 0.6050417881495025, 'kTargetDeterminationTrials': 9, 'kAttractionRatio': 0.6928858133834332, 'kMaxAttractionDistance': 18, 'kStartAttraction': 0.621383611228749}. Best is trial 96 with value: 8654.16091954023.\u001b[0m\n"
     ]
    },
    {
     "name": "stdout",
     "output_type": "stream",
     "text": [
      "index_parallel='0235'\n"
     ]
    },
    {
     "name": "stderr",
     "output_type": "stream",
     "text": [
      "\u001b[32m[I 2022-08-16 07:59:09,562]\u001b[0m Trial 235 finished with value: 8516.977011494253 and parameters: {'kErase': 2, 'kRadius': 5, 'kAnnealingA': 14.067751926135873, 'kAnnealingB': 2.28079033411015, 'kAnnealingStart': 5.30400070704047, 'kSkipRatio': 0.583318436649612, 'kTargetDeterminationTrials': 12, 'kAttractionRatio': 0.7604494328796803, 'kMaxAttractionDistance': 18, 'kStartAttraction': 0.51759769407591}. Best is trial 96 with value: 8654.16091954023.\u001b[0m\n"
     ]
    },
    {
     "name": "stdout",
     "output_type": "stream",
     "text": [
      "index_parallel='0237'\n"
     ]
    },
    {
     "name": "stderr",
     "output_type": "stream",
     "text": [
      "\u001b[32m[I 2022-08-16 08:02:35,289]\u001b[0m Trial 237 finished with value: 8626.413793103447 and parameters: {'kErase': 2, 'kRadius': 5, 'kAnnealingA': 12.92229410519001, 'kAnnealingB': 2.334066702791368, 'kAnnealingStart': 6.086346094899197, 'kSkipRatio': 0.6216520444275617, 'kTargetDeterminationTrials': 9, 'kAttractionRatio': 0.6425613436126925, 'kMaxAttractionDistance': 17, 'kStartAttraction': 0.6881757462542895}. Best is trial 96 with value: 8654.16091954023.\u001b[0m\n"
     ]
    },
    {
     "name": "stdout",
     "output_type": "stream",
     "text": [
      "index_parallel='0239'\n"
     ]
    },
    {
     "name": "stderr",
     "output_type": "stream",
     "text": [
      "\u001b[32m[I 2022-08-16 08:06:01,028]\u001b[0m Trial 239 finished with value: 8512.706896551725 and parameters: {'kErase': 2, 'kRadius': 5, 'kAnnealingA': 12.927080461777514, 'kAnnealingB': 2.3298272004684875, 'kAnnealingStart': 5.6107964130917445, 'kSkipRatio': 0.6241366579749954, 'kTargetDeterminationTrials': 8, 'kAttractionRatio': 0.6482127406030431, 'kMaxAttractionDistance': 16, 'kStartAttraction': 0.7005886923407671}. Best is trial 96 with value: 8654.16091954023.\u001b[0m\n"
     ]
    },
    {
     "name": "stdout",
     "output_type": "stream",
     "text": [
      "index_parallel='0241'\n"
     ]
    },
    {
     "name": "stderr",
     "output_type": "stream",
     "text": [
      "\u001b[32m[I 2022-08-16 08:09:27,200]\u001b[0m Trial 241 finished with value: 8336.706896551725 and parameters: {'kErase': 2, 'kRadius': 5, 'kAnnealingA': 13.390677314213084, 'kAnnealingB': 2.365381517726312, 'kAnnealingStart': 7.466545570935424, 'kSkipRatio': 0.6005100037913924, 'kTargetDeterminationTrials': 9, 'kAttractionRatio': 0.48499840250507165, 'kMaxAttractionDistance': 18, 'kStartAttraction': 0.894946763816456}. Best is trial 96 with value: 8654.16091954023.\u001b[0m\n"
     ]
    },
    {
     "name": "stdout",
     "output_type": "stream",
     "text": [
      "index_parallel='0243'\n"
     ]
    },
    {
     "name": "stderr",
     "output_type": "stream",
     "text": [
      "\u001b[32m[I 2022-08-16 08:12:52,938]\u001b[0m Trial 243 finished with value: 8563.362068965518 and parameters: {'kErase': 2, 'kRadius': 5, 'kAnnealingA': 14.347825929225879, 'kAnnealingB': 1.613807708120267, 'kAnnealingStart': 4.9978988776105275, 'kSkipRatio': 0.5922924554762816, 'kTargetDeterminationTrials': 11, 'kAttractionRatio': 0.8169572489198944, 'kMaxAttractionDistance': 15, 'kStartAttraction': 0.6083436778498293}. Best is trial 96 with value: 8654.16091954023.\u001b[0m\n"
     ]
    },
    {
     "name": "stdout",
     "output_type": "stream",
     "text": [
      "index_parallel='0245'\n"
     ]
    },
    {
     "name": "stderr",
     "output_type": "stream",
     "text": [
      "\u001b[32m[I 2022-08-16 08:16:18,935]\u001b[0m Trial 245 finished with value: 8415.155172413793 and parameters: {'kErase': 2, 'kRadius': 5, 'kAnnealingA': 13.71674578032553, 'kAnnealingB': 2.237045918297784, 'kAnnealingStart': 4.167084785610135, 'kSkipRatio': 0.4811529920487738, 'kTargetDeterminationTrials': 10, 'kAttractionRatio': 0.7086386874722871, 'kMaxAttractionDistance': 19, 'kStartAttraction': 0.5571760272385002}. Best is trial 96 with value: 8654.16091954023.\u001b[0m\n"
     ]
    },
    {
     "name": "stdout",
     "output_type": "stream",
     "text": [
      "index_parallel='0247'\n"
     ]
    },
    {
     "name": "stderr",
     "output_type": "stream",
     "text": [
      "\u001b[32m[I 2022-08-16 08:19:44,939]\u001b[0m Trial 247 finished with value: 8526.063218390804 and parameters: {'kErase': 2, 'kRadius': 5, 'kAnnealingA': 12.53195315428617, 'kAnnealingB': 1.4374364750007231, 'kAnnealingStart': 4.59800382190773, 'kSkipRatio': 0.6115784161149097, 'kTargetDeterminationTrials': 12, 'kAttractionRatio': 0.7834709945058619, 'kMaxAttractionDistance': 17, 'kStartAttraction': 0.6963528326502355}. Best is trial 96 with value: 8654.16091954023.\u001b[0m\n"
     ]
    },
    {
     "name": "stdout",
     "output_type": "stream",
     "text": [
      "index_parallel='0249'\n"
     ]
    },
    {
     "name": "stderr",
     "output_type": "stream",
     "text": [
      "\u001b[32m[I 2022-08-16 08:23:10,876]\u001b[0m Trial 249 finished with value: 8412.103448275862 and parameters: {'kErase': 2, 'kRadius': 5, 'kAnnealingA': 14.319535270235468, 'kAnnealingB': 2.4638355356016928, 'kAnnealingStart': 4.055630529192376, 'kSkipRatio': 0.5770100089496005, 'kTargetDeterminationTrials': 13, 'kAttractionRatio': 0.8943030827658677, 'kMaxAttractionDistance': 14, 'kStartAttraction': 0.47879587060656265}. Best is trial 96 with value: 8654.16091954023.\u001b[0m\n"
     ]
    },
    {
     "name": "stdout",
     "output_type": "stream",
     "text": [
      "index_parallel='0251'\n"
     ]
    },
    {
     "name": "stderr",
     "output_type": "stream",
     "text": [
      "\u001b[32m[I 2022-08-16 08:26:37,035]\u001b[0m Trial 251 finished with value: 8525.87356321839 and parameters: {'kErase': 2, 'kRadius': 5, 'kAnnealingA': 13.368848437022862, 'kAnnealingB': 2.554076887963805, 'kAnnealingStart': 6.206056074225839, 'kSkipRatio': 0.5839583881997873, 'kTargetDeterminationTrials': 11, 'kAttractionRatio': 0.6218367775982558, 'kMaxAttractionDistance': 18, 'kStartAttraction': 0.6299665868685442}. Best is trial 96 with value: 8654.16091954023.\u001b[0m\n"
     ]
    },
    {
     "name": "stdout",
     "output_type": "stream",
     "text": [
      "index_parallel='0253'\n"
     ]
    },
    {
     "name": "stderr",
     "output_type": "stream",
     "text": [
      "\u001b[32m[I 2022-08-16 08:30:02,770]\u001b[0m Trial 253 finished with value: 8512.051724137931 and parameters: {'kErase': 2, 'kRadius': 5, 'kAnnealingA': 13.88541021180332, 'kAnnealingB': 0.6712369770515862, 'kAnnealingStart': 4.855683048172832, 'kSkipRatio': 0.4958221087467044, 'kTargetDeterminationTrials': 9, 'kAttractionRatio': 0.663416791598227, 'kMaxAttractionDistance': 21, 'kStartAttraction': 0.7925263512613393}. Best is trial 96 with value: 8654.16091954023.\u001b[0m\n"
     ]
    },
    {
     "name": "stdout",
     "output_type": "stream",
     "text": [
      "index_parallel='0255'\n"
     ]
    },
    {
     "name": "stderr",
     "output_type": "stream",
     "text": [
      "\u001b[32m[I 2022-08-16 08:33:29,267]\u001b[0m Trial 255 finished with value: 8547.551724137931 and parameters: {'kErase': 2, 'kRadius': 5, 'kAnnealingA': 12.861774408905502, 'kAnnealingB': 1.3186210300175834, 'kAnnealingStart': 5.462049158534104, 'kSkipRatio': 0.6026784446159683, 'kTargetDeterminationTrials': 14, 'kAttractionRatio': 0.7534741299560466, 'kMaxAttractionDistance': 15, 'kStartAttraction': 0.5272262660615378}. Best is trial 96 with value: 8654.16091954023.\u001b[0m\n"
     ]
    },
    {
     "name": "stdout",
     "output_type": "stream",
     "text": [
      "index_parallel='0257'\n"
     ]
    },
    {
     "name": "stderr",
     "output_type": "stream",
     "text": [
      "\u001b[32m[I 2022-08-16 08:36:55,074]\u001b[0m Trial 257 finished with value: 7991.109195402299 and parameters: {'kErase': 2, 'kRadius': 5, 'kAnnealingA': 12.366573860203482, 'kAnnealingB': 1.6010160228376822, 'kAnnealingStart': 4.661321442088599, 'kSkipRatio': 0.6265702277590985, 'kTargetDeterminationTrials': 15, 'kAttractionRatio': 0.5595450138280157, 'kMaxAttractionDistance': 7, 'kStartAttraction': 0.7974975990500544}. Best is trial 256 with value: 8663.534482758621.\u001b[0m\n"
     ]
    },
    {
     "name": "stdout",
     "output_type": "stream",
     "text": [
      "index_parallel='0259'\n"
     ]
    },
    {
     "name": "stderr",
     "output_type": "stream",
     "text": [
      "\u001b[32m[I 2022-08-16 08:40:20,962]\u001b[0m Trial 259 finished with value: 8608.408045977012 and parameters: {'kErase': 2, 'kRadius': 5, 'kAnnealingA': 14.518349581483104, 'kAnnealingB': 1.822196172779775, 'kAnnealingStart': 5.437858274952444, 'kSkipRatio': 0.6333898586645594, 'kTargetDeterminationTrials': 14, 'kAttractionRatio': 0.7136956028699202, 'kMaxAttractionDistance': 21, 'kStartAttraction': 0.8040495444545622}. Best is trial 256 with value: 8663.534482758621.\u001b[0m\n"
     ]
    },
    {
     "name": "stdout",
     "output_type": "stream",
     "text": [
      "index_parallel='0261'\n"
     ]
    },
    {
     "name": "stderr",
     "output_type": "stream",
     "text": [
      "\u001b[32m[I 2022-08-16 08:43:46,461]\u001b[0m Trial 261 finished with value: 8506.183908045978 and parameters: {'kErase': 2, 'kRadius': 5, 'kAnnealingA': 14.8862990479944, 'kAnnealingB': 1.8118532679847223, 'kAnnealingStart': 7.101298594165944, 'kSkipRatio': 0.6197115980512039, 'kTargetDeterminationTrials': 16, 'kAttractionRatio': 0.6944956369588507, 'kMaxAttractionDistance': 21, 'kStartAttraction': 0.8724288073457944}. Best is trial 256 with value: 8663.534482758621.\u001b[0m\n"
     ]
    },
    {
     "name": "stdout",
     "output_type": "stream",
     "text": [
      "index_parallel='0263'\n"
     ]
    },
    {
     "name": "stderr",
     "output_type": "stream",
     "text": [
      "\u001b[32m[I 2022-08-16 08:47:12,183]\u001b[0m Trial 263 finished with value: 8569.045977011494 and parameters: {'kErase': 2, 'kRadius': 5, 'kAnnealingA': 14.97494510974295, 'kAnnealingB': 1.7787019008254306, 'kAnnealingStart': 5.117638226316764, 'kSkipRatio': 0.6384674024128881, 'kTargetDeterminationTrials': 16, 'kAttractionRatio': 0.7309379845892298, 'kMaxAttractionDistance': 20, 'kStartAttraction': 0.7417043366035219}. Best is trial 256 with value: 8663.534482758621.\u001b[0m\n"
     ]
    },
    {
     "name": "stdout",
     "output_type": "stream",
     "text": [
      "index_parallel='0265'\n"
     ]
    },
    {
     "name": "stderr",
     "output_type": "stream",
     "text": [
      "\u001b[32m[I 2022-08-16 08:50:38,482]\u001b[0m Trial 265 finished with value: 8584.632183908046 and parameters: {'kErase': 2, 'kRadius': 5, 'kAnnealingA': 14.281245739922923, 'kAnnealingB': 1.7558146547470266, 'kAnnealingStart': 5.4299607310084435, 'kSkipRatio': 0.616388762933845, 'kTargetDeterminationTrials': 15, 'kAttractionRatio': 0.5794665638289129, 'kMaxAttractionDistance': 22, 'kStartAttraction': 0.7372957306078519}. Best is trial 264 with value: 8690.896551724138.\u001b[0m\n"
     ]
    },
    {
     "name": "stdout",
     "output_type": "stream",
     "text": [
      "index_parallel='0267'\n"
     ]
    },
    {
     "name": "stderr",
     "output_type": "stream",
     "text": [
      "\u001b[32m[I 2022-08-16 08:54:04,375]\u001b[0m Trial 267 finished with value: 7371.33908045977 and parameters: {'kErase': 2, 'kRadius': 5, 'kAnnealingA': 14.323400307624958, 'kAnnealingB': 1.7169466600431211, 'kAnnealingStart': 5.845848711455891, 'kSkipRatio': 0.6212000159189544, 'kTargetDeterminationTrials': 17, 'kAttractionRatio': 0.5694424513994025, 'kMaxAttractionDistance': 20, 'kStartAttraction': 0.002400660495587346}. Best is trial 264 with value: 8690.896551724138.\u001b[0m\n"
     ]
    },
    {
     "name": "stdout",
     "output_type": "stream",
     "text": [
      "index_parallel='0269'\n"
     ]
    },
    {
     "name": "stderr",
     "output_type": "stream",
     "text": [
      "\u001b[32m[I 2022-08-16 08:57:30,394]\u001b[0m Trial 269 finished with value: 8565.37356321839 and parameters: {'kErase': 2, 'kRadius': 5, 'kAnnealingA': 13.909022563427088, 'kAnnealingB': 1.774621714837926, 'kAnnealingStart': 5.004892515320938, 'kSkipRatio': 0.6574229820895812, 'kTargetDeterminationTrials': 15, 'kAttractionRatio': 0.47005964345655704, 'kMaxAttractionDistance': 19, 'kStartAttraction': 0.747780999142247}. Best is trial 264 with value: 8690.896551724138.\u001b[0m\n"
     ]
    },
    {
     "name": "stdout",
     "output_type": "stream",
     "text": [
      "index_parallel='0271'\n"
     ]
    },
    {
     "name": "stderr",
     "output_type": "stream",
     "text": [
      "\u001b[32m[I 2022-08-16 09:00:56,212]\u001b[0m Trial 271 finished with value: 8318.1091954023 and parameters: {'kErase': 2, 'kRadius': 5, 'kAnnealingA': -8.117093014289049, 'kAnnealingB': 1.8969509209424102, 'kAnnealingStart': 5.099791868160771, 'kSkipRatio': 0.6330934740291343, 'kTargetDeterminationTrials': 14, 'kAttractionRatio': 0.6176184420021904, 'kMaxAttractionDistance': 18, 'kStartAttraction': 0.7195487735310185}. Best is trial 264 with value: 8690.896551724138.\u001b[0m\n"
     ]
    },
    {
     "name": "stdout",
     "output_type": "stream",
     "text": [
      "index_parallel='0273'\n"
     ]
    },
    {
     "name": "stderr",
     "output_type": "stream",
     "text": [
      "\u001b[32m[I 2022-08-16 09:04:22,251]\u001b[0m Trial 273 finished with value: 8209.833333333334 and parameters: {'kErase': 2, 'kRadius': 5, 'kAnnealingA': 14.566497481792506, 'kAnnealingB': 1.8311122247325557, 'kAnnealingStart': 6.027519811332009, 'kSkipRatio': 0.29250750805707815, 'kTargetDeterminationTrials': 16, 'kAttractionRatio': 0.5060644193428946, 'kMaxAttractionDistance': 22, 'kStartAttraction': 0.6903271725318352}. Best is trial 264 with value: 8690.896551724138.\u001b[0m\n"
     ]
    },
    {
     "name": "stdout",
     "output_type": "stream",
     "text": [
      "index_parallel='0275'\n"
     ]
    },
    {
     "name": "stderr",
     "output_type": "stream",
     "text": [
      "\u001b[32m[I 2022-08-16 09:07:48,312]\u001b[0m Trial 275 finished with value: 8484.459770114943 and parameters: {'kErase': 2, 'kRadius': 5, 'kAnnealingA': 13.446242742811988, 'kAnnealingB': 1.8023566731981073, 'kAnnealingStart': 4.597587730660045, 'kSkipRatio': 0.60703246952468, 'kTargetDeterminationTrials': 17, 'kAttractionRatio': 0.43290555194531666, 'kMaxAttractionDistance': 19, 'kStartAttraction': 0.7908351279474491}. Best is trial 264 with value: 8690.896551724138.\u001b[0m\n"
     ]
    },
    {
     "name": "stdout",
     "output_type": "stream",
     "text": [
      "index_parallel='0277'\n"
     ]
    },
    {
     "name": "stderr",
     "output_type": "stream",
     "text": [
      "\u001b[32m[I 2022-08-16 09:11:15,039]\u001b[0m Trial 277 finished with value: 8546.275862068966 and parameters: {'kErase': 2, 'kRadius': 5, 'kAnnealingA': 14.991555849425586, 'kAnnealingB': 0.46858724680205815, 'kAnnealingStart': 4.64679329213112, 'kSkipRatio': 0.618165153697782, 'kTargetDeterminationTrials': 13, 'kAttractionRatio': 0.8478262283727312, 'kMaxAttractionDistance': 16, 'kStartAttraction': 0.6708402937548607}. Best is trial 264 with value: 8690.896551724138.\u001b[0m\n"
     ]
    },
    {
     "name": "stdout",
     "output_type": "stream",
     "text": [
      "index_parallel='0279'\n"
     ]
    },
    {
     "name": "stderr",
     "output_type": "stream",
     "text": [
      "\u001b[32m[I 2022-08-16 09:14:41,172]\u001b[0m Trial 279 finished with value: 8408.879310344828 and parameters: {'kErase': 2, 'kRadius': 5, 'kAnnealingA': 13.831030001686747, 'kAnnealingB': 1.632491843778471, 'kAnnealingStart': 4.270024646803079, 'kSkipRatio': 0.6037306461132343, 'kTargetDeterminationTrials': 7, 'kAttractionRatio': 0.808352171205562, 'kMaxAttractionDistance': 18, 'kStartAttraction': 0.8876219156161225}. Best is trial 264 with value: 8690.896551724138.\u001b[0m\n"
     ]
    },
    {
     "name": "stdout",
     "output_type": "stream",
     "text": [
      "index_parallel='0281'\n"
     ]
    },
    {
     "name": "stderr",
     "output_type": "stream",
     "text": [
      "\u001b[32m[I 2022-08-16 09:18:07,165]\u001b[0m Trial 281 finished with value: 8593.936781609196 and parameters: {'kErase': 2, 'kRadius': 5, 'kAnnealingA': 11.96597137107426, 'kAnnealingB': 1.6674447001533759, 'kAnnealingStart': 5.544041578955456, 'kSkipRatio': 0.6262582385342893, 'kTargetDeterminationTrials': 9, 'kAttractionRatio': 0.8905686814917824, 'kMaxAttractionDistance': 19, 'kStartAttraction': 0.8931763428414449}. Best is trial 264 with value: 8690.896551724138.\u001b[0m\n"
     ]
    },
    {
     "name": "stdout",
     "output_type": "stream",
     "text": [
      "index_parallel='0283'\n"
     ]
    },
    {
     "name": "stderr",
     "output_type": "stream",
     "text": [
      "\u001b[32m[I 2022-08-16 09:21:32,940]\u001b[0m Trial 283 finished with value: 8357.488505747126 and parameters: {'kErase': 2, 'kRadius': 5, 'kAnnealingA': 14.254650038198939, 'kAnnealingB': 1.7417297684776425, 'kAnnealingStart': 5.429787724676257, 'kSkipRatio': 0.35611216396346945, 'kTargetDeterminationTrials': 8, 'kAttractionRatio': 0.88587708156096, 'kMaxAttractionDistance': 15, 'kStartAttraction': 0.8302276321017795}. Best is trial 264 with value: 8690.896551724138.\u001b[0m\n"
     ]
    },
    {
     "name": "stdout",
     "output_type": "stream",
     "text": [
      "index_parallel='0285'\n"
     ]
    },
    {
     "name": "stderr",
     "output_type": "stream",
     "text": [
      "\u001b[32m[I 2022-08-16 09:24:59,072]\u001b[0m Trial 285 finished with value: 8601.5 and parameters: {'kErase': 2, 'kRadius': 5, 'kAnnealingA': 12.02122557287073, 'kAnnealingB': 1.6511979284148506, 'kAnnealingStart': 4.7232685855603265, 'kSkipRatio': 0.6245672183818345, 'kTargetDeterminationTrials': 10, 'kAttractionRatio': 0.8949186105660695, 'kMaxAttractionDistance': 17, 'kStartAttraction': 0.8990575411650941}. Best is trial 264 with value: 8690.896551724138.\u001b[0m\n"
     ]
    },
    {
     "name": "stdout",
     "output_type": "stream",
     "text": [
      "index_parallel='0287'\n"
     ]
    },
    {
     "name": "stderr",
     "output_type": "stream",
     "text": [
      "\u001b[32m[I 2022-08-16 09:28:25,021]\u001b[0m Trial 287 finished with value: 8401.867816091954 and parameters: {'kErase': 2, 'kRadius': 5, 'kAnnealingA': 12.710869128190746, 'kAnnealingB': 1.525885977058147, 'kAnnealingStart': 6.770158860547846, 'kSkipRatio': 0.6300583216732484, 'kTargetDeterminationTrials': 10, 'kAttractionRatio': 0.8131510754967876, 'kMaxAttractionDistance': 16, 'kStartAttraction': 0.8955508120360561}. Best is trial 264 with value: 8690.896551724138.\u001b[0m\n"
     ]
    },
    {
     "name": "stdout",
     "output_type": "stream",
     "text": [
      "index_parallel='0289'\n"
     ]
    },
    {
     "name": "stderr",
     "output_type": "stream",
     "text": [
      "\u001b[32m[I 2022-08-16 09:31:50,767]\u001b[0m Trial 289 finished with value: 8573.477011494253 and parameters: {'kErase': 2, 'kRadius': 5, 'kAnnealingA': 11.71340798017664, 'kAnnealingB': 1.6256680934586607, 'kAnnealingStart': 4.824645408761622, 'kSkipRatio': 0.6260672784380245, 'kTargetDeterminationTrials': 7, 'kAttractionRatio': 0.8910233975082748, 'kMaxAttractionDistance': 19, 'kStartAttraction': 0.8004423578019495}. Best is trial 264 with value: 8690.896551724138.\u001b[0m\n"
     ]
    },
    {
     "name": "stdout",
     "output_type": "stream",
     "text": [
      "index_parallel='0291'\n"
     ]
    },
    {
     "name": "stderr",
     "output_type": "stream",
     "text": [
      "\u001b[32m[I 2022-08-16 09:35:16,919]\u001b[0m Trial 291 finished with value: 7429.563218390805 and parameters: {'kErase': 4, 'kRadius': 5, 'kAnnealingA': 12.876587144284638, 'kAnnealingB': 1.5618157638490102, 'kAnnealingStart': 8.008543383397642, 'kSkipRatio': 0.6468217575385897, 'kTargetDeterminationTrials': 8, 'kAttractionRatio': 0.780980883866298, 'kMaxAttractionDistance': 17, 'kStartAttraction': 0.7864287332928142}. Best is trial 264 with value: 8690.896551724138.\u001b[0m\n"
     ]
    },
    {
     "name": "stdout",
     "output_type": "stream",
     "text": [
      "index_parallel='0293'\n"
     ]
    },
    {
     "name": "stderr",
     "output_type": "stream",
     "text": [
      "\u001b[32m[I 2022-08-16 09:38:42,705]\u001b[0m Trial 293 finished with value: 8181.672413793103 and parameters: {'kErase': 2, 'kRadius': 5, 'kAnnealingA': 12.150905936091544, 'kAnnealingB': 1.704604072270592, 'kAnnealingStart': 4.9800759439062805, 'kSkipRatio': 0.6605738551984238, 'kTargetDeterminationTrials': 7, 'kAttractionRatio': 0.030555089675595823, 'kMaxAttractionDistance': 15, 'kStartAttraction': 0.7021393384992929}. Best is trial 264 with value: 8690.896551724138.\u001b[0m\n"
     ]
    },
    {
     "name": "stdout",
     "output_type": "stream",
     "text": [
      "index_parallel='0295'\n"
     ]
    },
    {
     "name": "stderr",
     "output_type": "stream",
     "text": [
      "\u001b[32m[I 2022-08-16 09:42:08,887]\u001b[0m Trial 295 finished with value: 8522.419540229885 and parameters: {'kErase': 2, 'kRadius': 5, 'kAnnealingA': 13.406939093367637, 'kAnnealingB': 1.6681221835064368, 'kAnnealingStart': 4.1570617331874065, 'kSkipRatio': 0.6503469008665242, 'kTargetDeterminationTrials': 6, 'kAttractionRatio': 0.769576084376147, 'kMaxAttractionDistance': 13, 'kStartAttraction': 0.6797379519750159}. Best is trial 264 with value: 8690.896551724138.\u001b[0m\n"
     ]
    },
    {
     "name": "stdout",
     "output_type": "stream",
     "text": [
      "index_parallel='0297'\n"
     ]
    },
    {
     "name": "stderr",
     "output_type": "stream",
     "text": [
      "\u001b[32m[I 2022-08-16 09:45:34,817]\u001b[0m Trial 297 finished with value: 7935.563218390805 and parameters: {'kErase': 2, 'kRadius': 5, 'kAnnealingA': 13.070327958188571, 'kAnnealingB': 1.5257311909955447, 'kAnnealingStart': 6.668343699519171, 'kSkipRatio': 0.6810988516068036, 'kTargetDeterminationTrials': 9, 'kAttractionRatio': 0.7281821864899012, 'kMaxAttractionDistance': 17, 'kStartAttraction': 0.11539068870347617}. Best is trial 264 with value: 8690.896551724138.\u001b[0m\n"
     ]
    },
    {
     "name": "stdout",
     "output_type": "stream",
     "text": [
      "index_parallel='0299'\n"
     ]
    },
    {
     "name": "stderr",
     "output_type": "stream",
     "text": [
      "\u001b[32m[I 2022-08-16 09:49:01,075]\u001b[0m Trial 299 finished with value: 7269.971264367816 and parameters: {'kErase': 2, 'kRadius': 5, 'kAnnealingA': 12.34729853582079, 'kAnnealingB': 1.5764785539252844, 'kAnnealingStart': 18.191941199181958, 'kSkipRatio': 0.5908682780882052, 'kTargetDeterminationTrials': 10, 'kAttractionRatio': 0.1246959308877601, 'kMaxAttractionDistance': 20, 'kStartAttraction': 0.5905729878960267}. Best is trial 264 with value: 8690.896551724138.\u001b[0m\n"
     ]
    },
    {
     "name": "stdout",
     "output_type": "stream",
     "text": [
      "index_parallel='0301'\n"
     ]
    },
    {
     "name": "stderr",
     "output_type": "stream",
     "text": [
      "\u001b[32m[I 2022-08-16 09:52:27,538]\u001b[0m Trial 301 finished with value: 7643.5344827586205 and parameters: {'kErase': 2, 'kRadius': 5, 'kAnnealingA': 11.358857919225237, 'kAnnealingB': 1.7527081297577278, 'kAnnealingStart': 4.724414701587032, 'kSkipRatio': 0.6389208868509726, 'kTargetDeterminationTrials': 12, 'kAttractionRatio': 0.898629501164242, 'kMaxAttractionDistance': 16, 'kStartAttraction': 0.0210027693367399}. Best is trial 264 with value: 8690.896551724138.\u001b[0m\n"
     ]
    },
    {
     "name": "stdout",
     "output_type": "stream",
     "text": [
      "index_parallel='0303'\n"
     ]
    },
    {
     "name": "stderr",
     "output_type": "stream",
     "text": [
      "\u001b[32m[I 2022-08-16 09:55:53,680]\u001b[0m Trial 303 finished with value: 7868.672413793103 and parameters: {'kErase': 2, 'kRadius': 5, 'kAnnealingA': 14.557620399399946, 'kAnnealingB': 1.9626666032757802, 'kAnnealingStart': 5.41151957322299, 'kSkipRatio': 0.6088867922237003, 'kTargetDeterminationTrials': 11, 'kAttractionRatio': 0.02503918348732038, 'kMaxAttractionDistance': 18, 'kStartAttraction': 0.8997759924046417}. Best is trial 264 with value: 8690.896551724138.\u001b[0m\n"
     ]
    },
    {
     "name": "stdout",
     "output_type": "stream",
     "text": [
      "index_parallel='0305'\n"
     ]
    },
    {
     "name": "stderr",
     "output_type": "stream",
     "text": [
      "\u001b[32m[I 2022-08-16 09:59:20,106]\u001b[0m Trial 305 finished with value: 8507.155172413793 and parameters: {'kErase': 2, 'kRadius': 5, 'kAnnealingA': 13.987359558531082, 'kAnnealingB': 1.479905060943355, 'kAnnealingStart': 3.670562505781573, 'kSkipRatio': 0.5976886962246912, 'kTargetDeterminationTrials': 11, 'kAttractionRatio': 0.8209566026993875, 'kMaxAttractionDistance': 17, 'kStartAttraction': 0.7794421570662345}. Best is trial 264 with value: 8690.896551724138.\u001b[0m\n"
     ]
    },
    {
     "name": "stdout",
     "output_type": "stream",
     "text": [
      "index_parallel='0308'\n"
     ]
    },
    {
     "name": "stderr",
     "output_type": "stream",
     "text": [
      "\u001b[32m[I 2022-08-16 10:02:45,906]\u001b[0m Trial 308 finished with value: 6855.752873563219 and parameters: {'kErase': 2, 'kRadius': 5, 'kAnnealingA': 12.693953848460447, 'kAnnealingB': 1.721132844936873, 'kAnnealingStart': 75.88849159880004, 'kSkipRatio': 0.5902381267175856, 'kTargetDeterminationTrials': 7, 'kAttractionRatio': 0.7757449471790845, 'kMaxAttractionDistance': 20, 'kStartAttraction': 0.561545933504908}. Best is trial 264 with value: 8690.896551724138.\u001b[0m\n"
     ]
    },
    {
     "name": "stdout",
     "output_type": "stream",
     "text": [
      "index_parallel='0310'\n"
     ]
    },
    {
     "name": "stderr",
     "output_type": "stream",
     "text": [
      "\u001b[32m[I 2022-08-16 10:06:12,047]\u001b[0m Trial 310 finished with value: 8594.666666666666 and parameters: {'kErase': 2, 'kRadius': 5, 'kAnnealingA': 12.041406677982568, 'kAnnealingB': 1.8242422270676202, 'kAnnealingStart': 5.034357351021742, 'kSkipRatio': 0.6616816113026665, 'kTargetDeterminationTrials': 13, 'kAttractionRatio': 0.6588871174057501, 'kMaxAttractionDistance': 15, 'kStartAttraction': 0.7665865381627757}. Best is trial 264 with value: 8690.896551724138.\u001b[0m\n"
     ]
    },
    {
     "name": "stdout",
     "output_type": "stream",
     "text": [
      "index_parallel='0312'\n"
     ]
    },
    {
     "name": "stderr",
     "output_type": "stream",
     "text": [
      "\u001b[32m[I 2022-08-16 10:09:38,158]\u001b[0m Trial 312 finished with value: 8528.701149425287 and parameters: {'kErase': 2, 'kRadius': 5, 'kAnnealingA': 14.916899072110146, 'kAnnealingB': 1.853485581895494, 'kAnnealingStart': 4.581120453998313, 'kSkipRatio': 0.6801761613556826, 'kTargetDeterminationTrials': 13, 'kAttractionRatio': 0.6277234465847917, 'kMaxAttractionDistance': 16, 'kStartAttraction': 0.6532646574969229}. Best is trial 264 with value: 8690.896551724138.\u001b[0m\n"
     ]
    },
    {
     "name": "stdout",
     "output_type": "stream",
     "text": [
      "index_parallel='0314'\n"
     ]
    },
    {
     "name": "stderr",
     "output_type": "stream",
     "text": [
      "\u001b[32m[I 2022-08-16 10:13:04,207]\u001b[0m Trial 314 finished with value: 7861.310344827586 and parameters: {'kErase': 2, 'kRadius': 5, 'kAnnealingA': 14.988612097455709, 'kAnnealingB': 1.9509224168212986, 'kAnnealingStart': 4.20713391064754, 'kSkipRatio': 0.6106173543818766, 'kTargetDeterminationTrials': 12, 'kAttractionRatio': 0.012415962841275746, 'kMaxAttractionDistance': 21, 'kStartAttraction': 0.6504346107762201}. Best is trial 264 with value: 8690.896551724138.\u001b[0m\n"
     ]
    },
    {
     "name": "stdout",
     "output_type": "stream",
     "text": [
      "index_parallel='0316'\n"
     ]
    },
    {
     "name": "stderr",
     "output_type": "stream",
     "text": [
      "\u001b[32m[I 2022-08-16 10:16:30,223]\u001b[0m Trial 316 finished with value: 8475.224137931034 and parameters: {'kErase': 2, 'kRadius': 5, 'kAnnealingA': 14.02064102385158, 'kAnnealingB': 1.848248842995452, 'kAnnealingStart': 3.791668305471055, 'kSkipRatio': 0.5999845828767179, 'kTargetDeterminationTrials': 13, 'kAttractionRatio': 0.717583609688528, 'kMaxAttractionDistance': 21, 'kStartAttraction': 0.526572477153709}. Best is trial 264 with value: 8690.896551724138.\u001b[0m\n"
     ]
    },
    {
     "name": "stdout",
     "output_type": "stream",
     "text": [
      "index_parallel='0318'\n"
     ]
    },
    {
     "name": "stderr",
     "output_type": "stream",
     "text": [
      "\u001b[32m[I 2022-08-16 10:19:56,151]\u001b[0m Trial 318 finished with value: 7461.551724137931 and parameters: {'kErase': 2, 'kRadius': 5, 'kAnnealingA': 13.637978735546067, 'kAnnealingB': 1.722268204995677, 'kAnnealingStart': 4.440245735862063, 'kSkipRatio': 0.5868405221989924, 'kTargetDeterminationTrials': 6, 'kAttractionRatio': 0.7685379603746024, 'kMaxAttractionDistance': 19, 'kStartAttraction': 0.01581015840552708}. Best is trial 264 with value: 8690.896551724138.\u001b[0m\n"
     ]
    },
    {
     "name": "stdout",
     "output_type": "stream",
     "text": [
      "index_parallel='0320'\n"
     ]
    },
    {
     "name": "stderr",
     "output_type": "stream",
     "text": [
      "\u001b[32m[I 2022-08-16 10:23:22,316]\u001b[0m Trial 320 finished with value: 7788.275862068966 and parameters: {'kErase': 2, 'kRadius': 5, 'kAnnealingA': 14.436357237753898, 'kAnnealingB': 2.013048983286613, 'kAnnealingStart': 4.8421970277228406, 'kSkipRatio': 0.6161207248939276, 'kTargetDeterminationTrials': 12, 'kAttractionRatio': 0.8272219345616612, 'kMaxAttractionDistance': 5, 'kStartAttraction': 0.7755926057054173}. Best is trial 264 with value: 8690.896551724138.\u001b[0m\n"
     ]
    },
    {
     "name": "stdout",
     "output_type": "stream",
     "text": [
      "index_parallel='0322'\n"
     ]
    },
    {
     "name": "stderr",
     "output_type": "stream",
     "text": [
      "\u001b[32m[I 2022-08-16 10:26:48,394]\u001b[0m Trial 322 finished with value: 8554.48275862069 and parameters: {'kErase': 2, 'kRadius': 5, 'kAnnealingA': 5.175598914903375, 'kAnnealingB': 1.5882905468803428, 'kAnnealingStart': 4.154478951733189, 'kSkipRatio': 0.6919933033973786, 'kTargetDeterminationTrials': 13, 'kAttractionRatio': 0.7037696660759573, 'kMaxAttractionDistance': 18, 'kStartAttraction': 0.6191579456861083}. Best is trial 264 with value: 8690.896551724138.\u001b[0m\n"
     ]
    },
    {
     "name": "stdout",
     "output_type": "stream",
     "text": [
      "index_parallel='0324'\n"
     ]
    },
    {
     "name": "stderr",
     "output_type": "stream",
     "text": [
      "\u001b[32m[I 2022-08-16 10:30:14,389]\u001b[0m Trial 324 finished with value: 8587.034482758621 and parameters: {'kErase': 2, 'kRadius': 5, 'kAnnealingA': 13.049081979549236, 'kAnnealingB': 1.800522691404923, 'kAnnealingStart': 3.5092017737560095, 'kSkipRatio': 0.6035813108016205, 'kTargetDeterminationTrials': 11, 'kAttractionRatio': 0.6432186933087899, 'kMaxAttractionDistance': 22, 'kStartAttraction': 0.7114515814603666}. Best is trial 264 with value: 8690.896551724138.\u001b[0m\n"
     ]
    },
    {
     "name": "stdout",
     "output_type": "stream",
     "text": [
      "index_parallel='0326'\n"
     ]
    },
    {
     "name": "stderr",
     "output_type": "stream",
     "text": [
      "\u001b[32m[I 2022-08-16 10:33:40,205]\u001b[0m Trial 326 finished with value: 8460.0 and parameters: {'kErase': 2, 'kRadius': 5, 'kAnnealingA': 13.257939869333093, 'kAnnealingB': 1.4035709316840856, 'kAnnealingStart': 4.892568141891798, 'kSkipRatio': 0.6428900713570929, 'kTargetDeterminationTrials': 12, 'kAttractionRatio': 0.6074053497952504, 'kMaxAttractionDistance': 20, 'kStartAttraction': 0.41431251406897424}. Best is trial 264 with value: 8690.896551724138.\u001b[0m\n"
     ]
    },
    {
     "name": "stdout",
     "output_type": "stream",
     "text": [
      "index_parallel='0328'\n"
     ]
    },
    {
     "name": "stderr",
     "output_type": "stream",
     "text": [
      "\u001b[32m[I 2022-08-16 10:37:05,966]\u001b[0m Trial 328 finished with value: 8587.747126436781 and parameters: {'kErase': 2, 'kRadius': 5, 'kAnnealingA': 13.958831261809351, 'kAnnealingB': 1.4652155992651459, 'kAnnealingStart': 4.229244519893358, 'kSkipRatio': 0.632574489230144, 'kTargetDeterminationTrials': 12, 'kAttractionRatio': 0.7004822497187622, 'kMaxAttractionDistance': 19, 'kStartAttraction': 0.5500162773024744}. Best is trial 264 with value: 8690.896551724138.\u001b[0m\n"
     ]
    },
    {
     "name": "stdout",
     "output_type": "stream",
     "text": [
      "index_parallel='0330'\n"
     ]
    },
    {
     "name": "stderr",
     "output_type": "stream",
     "text": [
      "\u001b[32m[I 2022-08-16 10:40:31,917]\u001b[0m Trial 330 finished with value: 8438.994252873563 and parameters: {'kErase': 2, 'kRadius': 5, 'kAnnealingA': 14.483186345257826, 'kAnnealingB': 1.5469161578292963, 'kAnnealingStart': 1.7584399606759114, 'kSkipRatio': 0.6168993321134282, 'kTargetDeterminationTrials': 14, 'kAttractionRatio': 0.7464560015551434, 'kMaxAttractionDistance': 17, 'kStartAttraction': 0.7973335694407236}. Best is trial 264 with value: 8690.896551724138.\u001b[0m\n"
     ]
    },
    {
     "name": "stdout",
     "output_type": "stream",
     "text": [
      "index_parallel='0332'\n"
     ]
    },
    {
     "name": "stderr",
     "output_type": "stream",
     "text": [
      "\u001b[32m[I 2022-08-16 10:43:58,161]\u001b[0m Trial 332 finished with value: 8340.781609195403 and parameters: {'kErase': 2, 'kRadius': 5, 'kAnnealingA': 12.557671869381576, 'kAnnealingB': 1.771404357662215, 'kAnnealingStart': 5.305788749057967, 'kSkipRatio': 0.5903892508628436, 'kTargetDeterminationTrials': 10, 'kAttractionRatio': 0.05242093363331918, 'kMaxAttractionDistance': 17, 'kStartAttraction': 0.4714091474360746}. Best is trial 264 with value: 8690.896551724138.\u001b[0m\n"
     ]
    },
    {
     "name": "stdout",
     "output_type": "stream",
     "text": [
      "index_parallel='0334'\n"
     ]
    },
    {
     "name": "stderr",
     "output_type": "stream",
     "text": [
      "\u001b[32m[I 2022-08-16 10:47:24,550]\u001b[0m Trial 334 finished with value: 8307.816091954022 and parameters: {'kErase': 3, 'kRadius': 5, 'kAnnealingA': 13.68124470896238, 'kAnnealingB': 1.8821878289300458, 'kAnnealingStart': 3.9019857057874057, 'kSkipRatio': 0.6544106709173244, 'kTargetDeterminationTrials': 11, 'kAttractionRatio': 0.6698098660704191, 'kMaxAttractionDistance': 18, 'kStartAttraction': 0.6181830269875194}. Best is trial 264 with value: 8690.896551724138.\u001b[0m\n"
     ]
    },
    {
     "name": "stdout",
     "output_type": "stream",
     "text": [
      "index_parallel='0336'\n"
     ]
    },
    {
     "name": "stderr",
     "output_type": "stream",
     "text": [
      "\u001b[32m[I 2022-08-16 10:50:50,406]\u001b[0m Trial 336 finished with value: 8127.712643678161 and parameters: {'kErase': 2, 'kRadius': 5, 'kAnnealingA': 13.410149314718442, 'kAnnealingB': 1.3340448304243622, 'kAnnealingStart': 4.507351520622609, 'kSkipRatio': 0.6045103237695035, 'kTargetDeterminationTrials': 13, 'kAttractionRatio': 0.035281035823426524, 'kMaxAttractionDistance': 14, 'kStartAttraction': 0.8153350094501192}. Best is trial 264 with value: 8690.896551724138.\u001b[0m\n"
     ]
    },
    {
     "name": "stdout",
     "output_type": "stream",
     "text": [
      "index_parallel='0338'\n"
     ]
    },
    {
     "name": "stderr",
     "output_type": "stream",
     "text": [
      "\u001b[32m[I 2022-08-16 10:54:16,305]\u001b[0m Trial 338 finished with value: 8743.333333333334 and parameters: {'kErase': 1, 'kRadius': 5, 'kAnnealingA': 14.07477043744966, 'kAnnealingB': 1.8318773087288842, 'kAnnealingStart': 5.267173380839939, 'kSkipRatio': 0.6302421897262339, 'kTargetDeterminationTrials': 14, 'kAttractionRatio': 0.7780352074079888, 'kMaxAttractionDistance': 21, 'kStartAttraction': 0.6925302469974286}. Best is trial 338 with value: 8743.333333333334.\u001b[0m\n"
     ]
    },
    {
     "name": "stdout",
     "output_type": "stream",
     "text": [
      "Updated! 8743.333333333334\n",
      "index_parallel='0340'\n"
     ]
    },
    {
     "name": "stderr",
     "output_type": "stream",
     "text": [
      "\u001b[32m[I 2022-08-16 10:57:42,082]\u001b[0m Trial 340 finished with value: 8100.091954022989 and parameters: {'kErase': 1, 'kRadius': 5, 'kAnnealingA': 14.013618070646134, 'kAnnealingB': 1.9125151856761469, 'kAnnealingStart': 11.410464128538935, 'kSkipRatio': 0.6373957128510948, 'kTargetDeterminationTrials': 14, 'kAttractionRatio': 0.5865481659169861, 'kMaxAttractionDistance': 24, 'kStartAttraction': 0.48639429531640244}. Best is trial 338 with value: 8743.333333333334.\u001b[0m\n"
     ]
    },
    {
     "name": "stdout",
     "output_type": "stream",
     "text": [
      "index_parallel='0342'\n"
     ]
    },
    {
     "name": "stderr",
     "output_type": "stream",
     "text": [
      "\u001b[32m[I 2022-08-16 11:01:07,622]\u001b[0m Trial 342 finished with value: 8624.459770114943 and parameters: {'kErase': 1, 'kRadius': 5, 'kAnnealingA': 13.054343963909691, 'kAnnealingB': 1.9695415801240759, 'kAnnealingStart': 6.3933951568722485, 'kSkipRatio': 0.6669114555263617, 'kTargetDeterminationTrials': 15, 'kAttractionRatio': 0.618714298894732, 'kMaxAttractionDistance': 21, 'kStartAttraction': 0.566149478121136}. Best is trial 338 with value: 8743.333333333334.\u001b[0m\n"
     ]
    },
    {
     "name": "stdout",
     "output_type": "stream",
     "text": [
      "index_parallel='0344'\n"
     ]
    },
    {
     "name": "stderr",
     "output_type": "stream",
     "text": [
      "\u001b[32m[I 2022-08-16 11:04:33,355]\u001b[0m Trial 344 finished with value: 8561.87356321839 and parameters: {'kErase': 1, 'kRadius': 6, 'kAnnealingA': 12.45840046215082, 'kAnnealingB': 2.0325739792670143, 'kAnnealingStart': 7.087477162013127, 'kSkipRatio': 0.6679034600119081, 'kTargetDeterminationTrials': 15, 'kAttractionRatio': 0.5318262315167713, 'kMaxAttractionDistance': 22, 'kStartAttraction': 0.577458451726154}. Best is trial 338 with value: 8743.333333333334.\u001b[0m\n"
     ]
    },
    {
     "name": "stdout",
     "output_type": "stream",
     "text": [
      "index_parallel='0346'\n"
     ]
    },
    {
     "name": "stderr",
     "output_type": "stream",
     "text": [
      "\u001b[32m[I 2022-08-16 11:07:58,933]\u001b[0m Trial 346 finished with value: 8701.235632183909 and parameters: {'kErase': 1, 'kRadius': 5, 'kAnnealingA': 13.182529298355604, 'kAnnealingB': 1.9334734587180173, 'kAnnealingStart': 6.264321477435838, 'kSkipRatio': 0.5789275514904035, 'kTargetDeterminationTrials': 15, 'kAttractionRatio': 0.5925380150835806, 'kMaxAttractionDistance': 21, 'kStartAttraction': 0.5673821242223512}. Best is trial 338 with value: 8743.333333333334.\u001b[0m\n"
     ]
    },
    {
     "name": "stdout",
     "output_type": "stream",
     "text": [
      "index_parallel='0348'\n"
     ]
    },
    {
     "name": "stderr",
     "output_type": "stream",
     "text": [
      "\u001b[32m[I 2022-08-16 11:11:24,902]\u001b[0m Trial 348 finished with value: 8534.718390804597 and parameters: {'kErase': 1, 'kRadius': 4, 'kAnnealingA': 13.439413936802504, 'kAnnealingB': 1.9760241891028656, 'kAnnealingStart': 6.074551815309125, 'kSkipRatio': 0.6754920504946912, 'kTargetDeterminationTrials': 16, 'kAttractionRatio': 0.5537790849824731, 'kMaxAttractionDistance': 24, 'kStartAttraction': 0.5767706358039163}. Best is trial 338 with value: 8743.333333333334.\u001b[0m\n"
     ]
    },
    {
     "name": "stdout",
     "output_type": "stream",
     "text": [
      "index_parallel='0350'\n"
     ]
    },
    {
     "name": "stderr",
     "output_type": "stream",
     "text": [
      "\u001b[32m[I 2022-08-16 11:14:50,463]\u001b[0m Trial 350 finished with value: 8593.408045977012 and parameters: {'kErase': 1, 'kRadius': 5, 'kAnnealingA': 13.177014965590143, 'kAnnealingB': 1.8545202718745106, 'kAnnealingStart': 6.497125216783155, 'kSkipRatio': 0.5780283074093535, 'kTargetDeterminationTrials': 19, 'kAttractionRatio': 0.4629358144022097, 'kMaxAttractionDistance': 21, 'kStartAttraction': 0.5996891372685867}. Best is trial 338 with value: 8743.333333333334.\u001b[0m\n"
     ]
    },
    {
     "name": "stdout",
     "output_type": "stream",
     "text": [
      "index_parallel='0352'\n"
     ]
    },
    {
     "name": "stderr",
     "output_type": "stream",
     "text": [
      "\u001b[32m[I 2022-08-16 11:18:16,012]\u001b[0m Trial 352 finished with value: 8291.810344827587 and parameters: {'kErase': 1, 'kRadius': 5, 'kAnnealingA': -14.764696525726768, 'kAnnealingB': 2.0002505012365974, 'kAnnealingStart': 8.575067426681137, 'kSkipRatio': 0.6446567781129978, 'kTargetDeterminationTrials': 15, 'kAttractionRatio': 0.6097019105825797, 'kMaxAttractionDistance': 22, 'kStartAttraction': 0.44337451492746144}. Best is trial 338 with value: 8743.333333333334.\u001b[0m\n"
     ]
    },
    {
     "name": "stdout",
     "output_type": "stream",
     "text": [
      "index_parallel='0354'\n"
     ]
    },
    {
     "name": "stderr",
     "output_type": "stream",
     "text": [
      "\u001b[32m[I 2022-08-16 11:21:41,447]\u001b[0m Trial 354 finished with value: 8582.87356321839 and parameters: {'kErase': 1, 'kRadius': 5, 'kAnnealingA': 14.305375232220864, 'kAnnealingB': 1.9414637213888253, 'kAnnealingStart': 7.426196616812277, 'kSkipRatio': 0.5942008360555969, 'kTargetDeterminationTrials': 15, 'kAttractionRatio': 0.6039821782815042, 'kMaxAttractionDistance': 21, 'kStartAttraction': 0.5360151020318009}. Best is trial 338 with value: 8743.333333333334.\u001b[0m\n"
     ]
    },
    {
     "name": "stdout",
     "output_type": "stream",
     "text": [
      "index_parallel='0356'\n"
     ]
    },
    {
     "name": "stderr",
     "output_type": "stream",
     "text": [
      "\u001b[32m[I 2022-08-16 11:25:06,805]\u001b[0m Trial 356 finished with value: 8606.505747126437 and parameters: {'kErase': 1, 'kRadius': 5, 'kAnnealingA': 13.834497001638855, 'kAnnealingB': 1.8309830960560933, 'kAnnealingStart': 5.7461261268258905, 'kSkipRatio': 0.5831975109554026, 'kTargetDeterminationTrials': 14, 'kAttractionRatio': 0.5132660040442013, 'kMaxAttractionDistance': 23, 'kStartAttraction': 0.6872804925891918}. Best is trial 338 with value: 8743.333333333334.\u001b[0m\n"
     ]
    },
    {
     "name": "stdout",
     "output_type": "stream",
     "text": [
      "index_parallel='0358'\n"
     ]
    },
    {
     "name": "stderr",
     "output_type": "stream",
     "text": [
      "\u001b[32m[I 2022-08-16 11:28:32,337]\u001b[0m Trial 358 finished with value: 8640.98275862069 and parameters: {'kErase': 1, 'kRadius': 5, 'kAnnealingA': 12.924862352730598, 'kAnnealingB': 1.8742380893815311, 'kAnnealingStart': 5.742788207333203, 'kSkipRatio': 0.576452290035485, 'kTargetDeterminationTrials': 14, 'kAttractionRatio': 0.5203969516968776, 'kMaxAttractionDistance': 24, 'kStartAttraction': 0.6863744493756895}. Best is trial 338 with value: 8743.333333333334.\u001b[0m\n"
     ]
    },
    {
     "name": "stdout",
     "output_type": "stream",
     "text": [
      "index_parallel='0360'\n"
     ]
    },
    {
     "name": "stderr",
     "output_type": "stream",
     "text": [
      "\u001b[32m[I 2022-08-16 11:31:57,541]\u001b[0m Trial 360 finished with value: 8607.011494252874 and parameters: {'kErase': 1, 'kRadius': 5, 'kAnnealingA': 13.734743346899693, 'kAnnealingB': 1.8329919059713513, 'kAnnealingStart': 6.174386253886313, 'kSkipRatio': 0.5762310125640708, 'kTargetDeterminationTrials': 17, 'kAttractionRatio': 0.5082687156446788, 'kMaxAttractionDistance': 25, 'kStartAttraction': 0.7247321249167915}. Best is trial 338 with value: 8743.333333333334.\u001b[0m\n"
     ]
    },
    {
     "name": "stdout",
     "output_type": "stream",
     "text": [
      "index_parallel='0362'\n"
     ]
    },
    {
     "name": "stderr",
     "output_type": "stream",
     "text": [
      "\u001b[32m[I 2022-08-16 11:35:22,851]\u001b[0m Trial 362 finished with value: 8221.189655172413 and parameters: {'kErase': 1, 'kRadius': 5, 'kAnnealingA': -5.858040070269304, 'kAnnealingB': 2.0194606258764916, 'kAnnealingStart': 6.398690825892688, 'kSkipRatio': 0.5722217463098893, 'kTargetDeterminationTrials': 18, 'kAttractionRatio': 0.40857350271195275, 'kMaxAttractionDistance': 26, 'kStartAttraction': 0.7103131015245414}. Best is trial 338 with value: 8743.333333333334.\u001b[0m\n"
     ]
    },
    {
     "name": "stdout",
     "output_type": "stream",
     "text": [
      "index_parallel='0364'\n"
     ]
    },
    {
     "name": "stderr",
     "output_type": "stream",
     "text": [
      "\u001b[32m[I 2022-08-16 11:38:48,658]\u001b[0m Trial 364 finished with value: 8572.12643678161 and parameters: {'kErase': 1, 'kRadius': 5, 'kAnnealingA': 12.49607154094366, 'kAnnealingB': 1.8949160209920382, 'kAnnealingStart': 6.84670954173969, 'kSkipRatio': 0.588912793817429, 'kTargetDeterminationTrials': 15, 'kAttractionRatio': 0.44052747121371755, 'kMaxAttractionDistance': 24, 'kStartAttraction': 0.5873823474694988}. Best is trial 338 with value: 8743.333333333334.\u001b[0m\n"
     ]
    },
    {
     "name": "stdout",
     "output_type": "stream",
     "text": [
      "index_parallel='0366'\n"
     ]
    },
    {
     "name": "stderr",
     "output_type": "stream",
     "text": [
      "\u001b[32m[I 2022-08-16 11:42:14,028]\u001b[0m Trial 366 finished with value: 8566.16091954023 and parameters: {'kErase': 1, 'kRadius': 5, 'kAnnealingA': 13.030934561858514, 'kAnnealingB': 1.7653999562727827, 'kAnnealingStart': 5.620713775304111, 'kSkipRatio': 0.6656232880219399, 'kTargetDeterminationTrials': 16, 'kAttractionRatio': 0.5669476822532218, 'kMaxAttractionDistance': 22, 'kStartAttraction': 0.5231013940493171}. Best is trial 338 with value: 8743.333333333334.\u001b[0m\n"
     ]
    },
    {
     "name": "stdout",
     "output_type": "stream",
     "text": [
      "index_parallel='0368'\n"
     ]
    }
   ],
   "source": [
    "study.optimize(\n",
    "    partial(objective, in_dir=in_dir, work_dir=work_dir),\n",
    "    n_trials=3000,\n",
    "    timeout=86400,\n",
    "    callbacks=[callback]\n",
    ")"
   ]
  },
  {
   "cell_type": "code",
   "execution_count": null,
   "id": "700269d2",
   "metadata": {},
   "outputs": [],
   "source": []
  }
 ],
 "metadata": {
  "kernelspec": {
   "display_name": "Python 3 (ipykernel)",
   "language": "python",
   "name": "python3"
  },
  "language_info": {
   "codemirror_mode": {
    "name": "ipython",
    "version": 3
   },
   "file_extension": ".py",
   "mimetype": "text/x-python",
   "name": "python",
   "nbconvert_exporter": "python",
   "pygments_lexer": "ipython3",
   "version": "3.9.12"
  }
 },
 "nbformat": 4,
 "nbformat_minor": 5
}
