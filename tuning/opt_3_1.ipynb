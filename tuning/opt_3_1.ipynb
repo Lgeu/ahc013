{
 "cells": [
  {
   "cell_type": "code",
   "execution_count": 1,
   "id": "25a1dac8",
   "metadata": {},
   "outputs": [],
   "source": [
    "import re\n",
    "import sys\n",
    "from uuid import uuid1\n",
    "from time import sleep\n",
    "from pprint import pprint\n",
    "from pathlib import Path\n",
    "from tempfile import gettempdir\n",
    "from threading import Thread\n",
    "from functools import partial\n",
    "from subprocess import Popen, PIPE\n",
    "\n",
    "from tqdm.notebook import tqdm\n",
    "import numpy as np\n",
    "import optuna\n",
    "import pandas as pd\n",
    "import matplotlib.pyplot as plt\n",
    "\n",
    "FILENAME = \"main.cpp\""
   ]
  },
  {
   "cell_type": "code",
   "execution_count": 2,
   "id": "3dd4d02e",
   "metadata": {},
   "outputs": [
    {
     "name": "stdout",
     "output_type": "stream",
     "text": [
      "10 variables were found.\n"
     ]
    },
    {
     "data": {
      "text/html": [
       "<div>\n",
       "<style scoped>\n",
       "    .dataframe tbody tr th:only-of-type {\n",
       "        vertical-align: middle;\n",
       "    }\n",
       "\n",
       "    .dataframe tbody tr th {\n",
       "        vertical-align: top;\n",
       "    }\n",
       "\n",
       "    .dataframe thead th {\n",
       "        text-align: right;\n",
       "    }\n",
       "</style>\n",
       "<table border=\"1\" class=\"dataframe\">\n",
       "  <thead>\n",
       "    <tr style=\"text-align: right;\">\n",
       "      <th></th>\n",
       "      <th>name</th>\n",
       "      <th>method</th>\n",
       "      <th>min</th>\n",
       "      <th>max</th>\n",
       "      <th>log</th>\n",
       "      <th>left</th>\n",
       "      <th>right</th>\n",
       "    </tr>\n",
       "  </thead>\n",
       "  <tbody>\n",
       "    <tr>\n",
       "      <th>0</th>\n",
       "      <td>kErase</td>\n",
       "      <td>suggest_int</td>\n",
       "      <td>1.000</td>\n",
       "      <td>5.0</td>\n",
       "      <td>False</td>\n",
       "      <td>static constexpr auto kErase =</td>\n",
       "      <td>;             // OPTIMIZE [1, 5]</td>\n",
       "    </tr>\n",
       "    <tr>\n",
       "      <th>1</th>\n",
       "      <td>kRadius</td>\n",
       "      <td>suggest_int</td>\n",
       "      <td>2.000</td>\n",
       "      <td>6.0</td>\n",
       "      <td>False</td>\n",
       "      <td>static constexpr auto kRadius =</td>\n",
       "      <td>;            // OPTIMIZE [2, 6]</td>\n",
       "    </tr>\n",
       "    <tr>\n",
       "      <th>2</th>\n",
       "      <td>kAnnealingA</td>\n",
       "      <td>suggest_float</td>\n",
       "      <td>-15.000</td>\n",
       "      <td>15.0</td>\n",
       "      <td>False</td>\n",
       "      <td>static constexpr auto kAnnealingA =</td>\n",
       "      <td>;      // OPTIMIZE [-15.0, 15.0]</td>\n",
       "    </tr>\n",
       "    <tr>\n",
       "      <th>3</th>\n",
       "      <td>kAnnealingB</td>\n",
       "      <td>suggest_float</td>\n",
       "      <td>0.000</td>\n",
       "      <td>3.0</td>\n",
       "      <td>False</td>\n",
       "      <td>static constexpr auto kAnnealingB =</td>\n",
       "      <td>;      // OPTIMIZE [0.0, 3.0]</td>\n",
       "    </tr>\n",
       "    <tr>\n",
       "      <th>4</th>\n",
       "      <td>kAnnealingStart</td>\n",
       "      <td>suggest_float</td>\n",
       "      <td>1.000</td>\n",
       "      <td>100.0</td>\n",
       "      <td>True</td>\n",
       "      <td>static constexpr auto kAnnealingStart =</td>\n",
       "      <td>; // OPTIMIZE LOG [1.0, 100.0]</td>\n",
       "    </tr>\n",
       "    <tr>\n",
       "      <th>5</th>\n",
       "      <td>kSkipRatio</td>\n",
       "      <td>suggest_float</td>\n",
       "      <td>0.200</td>\n",
       "      <td>0.8</td>\n",
       "      <td>False</td>\n",
       "      <td>static constexpr auto kSkipRatio =</td>\n",
       "      <td>;       // OPTIMIZE [0.2, 0.8]</td>\n",
       "    </tr>\n",
       "    <tr>\n",
       "      <th>6</th>\n",
       "      <td>kTargetDeterminationTrials</td>\n",
       "      <td>suggest_int</td>\n",
       "      <td>1.000</td>\n",
       "      <td>20.0</td>\n",
       "      <td>True</td>\n",
       "      <td>static constexpr auto kTargetDeterminationTria...</td>\n",
       "      <td>; // OPTIMIZE LOG [1, 20]</td>\n",
       "    </tr>\n",
       "    <tr>\n",
       "      <th>7</th>\n",
       "      <td>kAttractionRatio</td>\n",
       "      <td>suggest_float</td>\n",
       "      <td>0.010</td>\n",
       "      <td>0.9</td>\n",
       "      <td>True</td>\n",
       "      <td>static constexpr auto kAttractionRatio =</td>\n",
       "      <td>;      // OPTIMIZE LOG [0.01, 0.9]</td>\n",
       "    </tr>\n",
       "    <tr>\n",
       "      <th>8</th>\n",
       "      <td>kMaxAttractionDistance</td>\n",
       "      <td>suggest_int</td>\n",
       "      <td>4.000</td>\n",
       "      <td>99.0</td>\n",
       "      <td>True</td>\n",
       "      <td>static constexpr auto kMaxAttractionDistance =</td>\n",
       "      <td>; // OPTIMIZE LOG [4, 99]</td>\n",
       "    </tr>\n",
       "    <tr>\n",
       "      <th>9</th>\n",
       "      <td>kStartAttraction</td>\n",
       "      <td>suggest_float</td>\n",
       "      <td>0.001</td>\n",
       "      <td>0.9</td>\n",
       "      <td>True</td>\n",
       "      <td>static constexpr auto kStartAttraction =</td>\n",
       "      <td>;     // OPTIMIZE LOG [0.001, 0.9]</td>\n",
       "    </tr>\n",
       "  </tbody>\n",
       "</table>\n",
       "</div>"
      ],
      "text/plain": [
       "                         name         method     min    max    log  \\\n",
       "0                      kErase    suggest_int   1.000    5.0  False   \n",
       "1                     kRadius    suggest_int   2.000    6.0  False   \n",
       "2                 kAnnealingA  suggest_float -15.000   15.0  False   \n",
       "3                 kAnnealingB  suggest_float   0.000    3.0  False   \n",
       "4             kAnnealingStart  suggest_float   1.000  100.0   True   \n",
       "5                  kSkipRatio  suggest_float   0.200    0.8  False   \n",
       "6  kTargetDeterminationTrials    suggest_int   1.000   20.0   True   \n",
       "7            kAttractionRatio  suggest_float   0.010    0.9   True   \n",
       "8      kMaxAttractionDistance    suggest_int   4.000   99.0   True   \n",
       "9            kStartAttraction  suggest_float   0.001    0.9   True   \n",
       "\n",
       "                                                left  \\\n",
       "0                    static constexpr auto kErase =    \n",
       "1                   static constexpr auto kRadius =    \n",
       "2               static constexpr auto kAnnealingA =    \n",
       "3               static constexpr auto kAnnealingB =    \n",
       "4           static constexpr auto kAnnealingStart =    \n",
       "5                static constexpr auto kSkipRatio =    \n",
       "6  static constexpr auto kTargetDeterminationTria...   \n",
       "7          static constexpr auto kAttractionRatio =    \n",
       "8    static constexpr auto kMaxAttractionDistance =    \n",
       "9          static constexpr auto kStartAttraction =    \n",
       "\n",
       "                                right  \n",
       "0    ;             // OPTIMIZE [1, 5]  \n",
       "1     ;            // OPTIMIZE [2, 6]  \n",
       "2    ;      // OPTIMIZE [-15.0, 15.0]  \n",
       "3       ;      // OPTIMIZE [0.0, 3.0]  \n",
       "4      ; // OPTIMIZE LOG [1.0, 100.0]  \n",
       "5      ;       // OPTIMIZE [0.2, 0.8]  \n",
       "6           ; // OPTIMIZE LOG [1, 20]  \n",
       "7  ;      // OPTIMIZE LOG [0.01, 0.9]  \n",
       "8           ; // OPTIMIZE LOG [4, 99]  \n",
       "9  ;     // OPTIMIZE LOG [0.001, 0.9]  "
      ]
     },
     "metadata": {},
     "output_type": "display_data"
    }
   ],
   "source": [
    "# ここでエラー出力は何かおかしいかもしれない\n",
    "\n",
    "\n",
    "# パラメータ抽出\n",
    "with open(FILENAME) as f:\n",
    "    answer = f.read()\n",
    "\n",
    "\n",
    "variables_optimize = []\n",
    "\n",
    "for left, value, right, options in re.findall(r\"^([^/\\n]*=\\s*)(.+?)(\\s*;\\s*//(?:.*\\W)?OPTIMIZE(\\W.*))$\", answer, re.MULTILINE):\n",
    "    name = left.replace(\"=\", \"\").strip().split()[-1]\n",
    "    \n",
    "    searched = re.search(r\".*\\[(?P<min>.*),(?P<max>.*)\\].*\", options)\n",
    "    if searched:\n",
    "        min_value = max_value = None\n",
    "        try:\n",
    "            min_value = eval(searched.group(\"min\"))\n",
    "            max_value = eval(searched.group(\"max\"))\n",
    "            assert min_value <= max_value\n",
    "        except Exception as e:\n",
    "            print(f\"searched={searched}\", file=sys.stderr)\n",
    "            print(e, file=sys.stderr)\n",
    "            continue\n",
    "        log = \"LOG\" in options  # 雑、直したほうが良い\n",
    "        if type(min_value) != type(max_value):\n",
    "            print(f\"searched={searched}\", file=sys.stderr)\n",
    "            print(\"types not matched\", file=sys.stderr)\n",
    "            continue\n",
    "        if isinstance(min_value, int):\n",
    "            method = \"suggest_int\"\n",
    "        elif isinstance(min_value, float):\n",
    "            method = \"suggest_float\"\n",
    "        else:\n",
    "            print(f\"searched={searched}\", file=sys.stderr)\n",
    "            print(f\"unknown type ({type(min_value)})\", file=sys.stderr)\n",
    "            continue\n",
    "        variables_optimize.append({\n",
    "            \"name\": name,\n",
    "            \"method\": method,\n",
    "            \"min\": min_value,\n",
    "            \"max\": max_value,\n",
    "            \"log\": log,\n",
    "            \"left\": left,\n",
    "            \"right\": right,\n",
    "        })\n",
    "    elif searched := re.search(r\".*\\{(?P<choices>.*?)\\}.*\", options):\n",
    "        choices = list(map(lambda x: x.strip(), searched.group(\"choices\").split(\",\")))\n",
    "        variables_optimize.append({\n",
    "            \"name\": name,\n",
    "            \"method\": \"suggest_categorical\",\n",
    "            \"choices\": choices,\n",
    "            \"left\": left,\n",
    "            \"right\": right,\n",
    "        })\n",
    "    else:\n",
    "        print(f\"searched={searched}\", file=sys.stderr)\n",
    "        print(f\"pattern was matched but options are incorrect.\", file=sys.stderr)\n",
    "\n",
    "print(len(variables_optimize), \"variables were found.\")\n",
    "if globals().get(\"pd\"):\n",
    "    display(pd.DataFrame(variables_optimize))\n",
    "else:\n",
    "    pprint(variables_optimize)"
   ]
  },
  {
   "cell_type": "code",
   "execution_count": 3,
   "id": "001042b9",
   "metadata": {},
   "outputs": [],
   "source": [
    "def escape(string):  # 正規表現の中でそのまま使いたい文字列をエスケープ\n",
    "    res = !echo '{string}' | sed -e 's/[]\\/$*.^[]/\\\\&/g'\n",
    "    return res[0]\n",
    "\n",
    "def escape_sed(string):  # sed の置換後の文字列用のエスケープ\n",
    "    res = !echo '{string}' | sed -e 's/[\\/&]/\\\\&/g'\n",
    "    return res[0]\n",
    "\n",
    "def read_stream(name, in_file, out_file):\n",
    "    for line in in_file:\n",
    "        print(f\"[{name}] {line.strip()}\", file=out_file)\n",
    "\n",
    "def run(cmd, name):\n",
    "    proc = Popen(cmd, stdout=PIPE, stderr=PIPE, universal_newlines=True, shell=isinstance(cmd, str))\n",
    "    stdout_thread = Thread(target=read_stream, args=(name, proc.stdout, sys.stdout))\n",
    "    stderr_thread = Thread(target=read_stream, args=(name, proc.stderr, sys.stderr))\n",
    "    stdout_thread.start()\n",
    "    stderr_thread.start()\n",
    "    proc.wait()\n",
    "    return proc\n",
    "\n",
    "def objective(trial, in_dir, work_dir):\n",
    "    n_internal_parallel = 3\n",
    "    \n",
    "    index_parallel = f\"{trial.number:04d}\"\n",
    "    print(f\"{index_parallel=}\")\n",
    "    \n",
    "    work_dir = Path(work_dir)\n",
    "    directory_input = Path(in_dir)  # 中のすべてのファイルに対して実行される\n",
    "    #parameters_changed_filename = Path(gettempdir()) / str(uuid1())\n",
    "    parameters_changed_filename = work_dir / f\"{index_parallel}_{FILENAME}\"\n",
    "    \n",
    "    run([\"mkdir\", f\"{work_dir / index_parallel}_out\"], \"mkdir\")\n",
    "    run([\"mkdir\", f\"{work_dir / index_parallel}_score\"], \"mkdir\")\n",
    "    \n",
    "    # ファイル作成\n",
    "    run(f\"cp {FILENAME} {parameters_changed_filename}\", \"cp\")\n",
    "    sed_options = [f\"-i {parameters_changed_filename}\"]\n",
    "    for variable in variables_optimize:\n",
    "        if variable[\"method\"] == \"suggest_categorical\":\n",
    "            val =  trial.suggest_categorical(variable[\"name\"], variable[\"choices\"])\n",
    "        else:\n",
    "            val = getattr(trial, variable[\"method\"])(variable[\"name\"], variable[\"min\"], variable[\"max\"], log=variable[\"log\"])\n",
    "        left = variable[\"left\"]\n",
    "        right = variable[\"right\"]\n",
    "        sed_options.append(f\"\"\"-e 's/^{escape(left)}.*{escape(right)}$/{escape_sed(left)}{val}{escape_sed(right)}/'\"\"\")\n",
    "    command_sed = f\"sed {' '.join(sed_options)}\"\n",
    "    #print(command_sed)\n",
    "    run(command_sed, \"sed\")\n",
    "    \n",
    "    # コンパイル\n",
    "    command_compile = f\"g++ {parameters_changed_filename} -std=gnu++17 -O2 -DONLINE_JUDGE -o {parameters_changed_filename}.out\"\n",
    "    #print(command_compile)\n",
    "    run(command_compile, \"compile\")\n",
    "    # 実行・採点コマンド (@ はファイル名)\n",
    "    command_exec = (\n",
    "        #f\"./a.out < ./tools/in/{i:04d}.txt > {out_file} && ./tools/target/release/vis ./tools/in/{i:04d}.txt {out_file}\"\n",
    "        #f\"../tools/target/release/tester $(pwd)/{parameters_changed_filename}.out < {directory_input}/@ 2>&1 | grep Score\"\n",
    "        #f\"../tools/target/release/tester $(pwd)/{parameters_changed_filename}.out < {directory_input}/@ 2>&1 | grep Score | sed -E s/[^0-9]+// > ./{index_parallel}_score/@;\"\n",
    "        #f\"cargo run --release --manifest-path ../tools/Cargo.toml --bin tester {directory_input}/@ $(pwd)/{parameters_changed_filename}.out 2>&1 | grep Score | sed -E s/[^0-9]+// > ./{index_parallel}_score/@;\"\n",
    "        f\"./{parameters_changed_filename}.out < {directory_input}/@ > {work_dir / index_parallel}_out/@;\"\n",
    "        f\"../tools/target/release/vis {directory_input}/@ {work_dir / index_parallel}_out/@ 2> /dev/null > {work_dir / index_parallel}_score/@;\"\n",
    "    )\n",
    "    # 並列実行 (sed はパスのディレクトリ部分を消してファイル名にしてる)\n",
    "    run(f\"find {directory_input}/* | sed 's!^.*/!!' | xargs -I@ -P {n_internal_parallel} sh -c '{command_exec}'\", \"exec\")\n",
    "    \n",
    "    # 集計\n",
    "    scores = []\n",
    "    for file_path in Path(f\"{work_dir / index_parallel}_score/\").iterdir():  \n",
    "        with open(file_path) as f:\n",
    "            scores.append(int(f.readline().strip().split()[-1]))\n",
    "    mean_score = sum(scores) / len(scores)\n",
    "    \n",
    "    # 後始末\n",
    "    run(f\"rm -rf {work_dir / index_parallel}_out\", \"rm\")\n",
    "    run(f\"rm -rf {work_dir / index_parallel}_score\", \"rm\")\n",
    "    #run(f\"rm {parameters_changed_filename}\", \"rm\")\n",
    "    run(f\"rm {parameters_changed_filename}.out\", \"rm\")\n",
    "    \n",
    "    return mean_score"
   ]
  },
  {
   "cell_type": "code",
   "execution_count": 4,
   "id": "2d2e133c",
   "metadata": {},
   "outputs": [
    {
     "name": "stderr",
     "output_type": "stream",
     "text": [
      "\u001b[32m[I 2022-08-15 21:26:20,621]\u001b[0m A new study created in RDB with name: study_3_1\u001b[0m\n"
     ]
    }
   ],
   "source": [
    "K = 3\n",
    "N_CLASS = 1\n",
    "\n",
    "in_dir = Path(f\"in_{K}_{N_CLASS}\")\n",
    "work_dir = Path(f\"work_{K}_{N_CLASS}\")\n",
    "\n",
    "study_name = f\"study_{K}_{N_CLASS}\"\n",
    "storage_path = work_dir / \"study.db\"\n",
    "storage = f\"sqlite:///{storage_path}\"\n",
    "study = optuna.create_study(storage=storage, load_if_exists=True, study_name=study_name, direction=\"maximize\")\n",
    "\n",
    "def callback(study, trial):\n",
    "    try:\n",
    "        index_parallel = f\"{trial.number:04d}\"\n",
    "        parameters_changed_filename = work_dir / f\"{index_parallel}_{FILENAME}\"\n",
    "        if study.best_value == trial.value:\n",
    "            print(f\"Updated! {study.best_value}\")\n",
    "            !cp {parameters_changed_filename} {work_dir / \"best_parameters.cpp\"}\n",
    "        !rm {parameters_changed_filename}\n",
    "    except:\n",
    "        print(\":(\")\n"
   ]
  },
  {
   "cell_type": "code",
   "execution_count": null,
   "id": "61c2901d",
   "metadata": {},
   "outputs": [
    {
     "name": "stdout",
     "output_type": "stream",
     "text": [
      "index_parallel='0000'\n"
     ]
    },
    {
     "name": "stderr",
     "output_type": "stream",
     "text": [
      "\u001b[32m[I 2022-08-15 21:29:48,860]\u001b[0m Trial 0 finished with value: 7942.577777777778 and parameters: {'kErase': 1, 'kRadius': 2, 'kAnnealingA': -0.2322047913038361, 'kAnnealingB': 1.7027144293390224, 'kAnnealingStart': 72.15794832162278, 'kSkipRatio': 0.4822500370978347, 'kTargetDeterminationTrials': 1, 'kAttractionRatio': 0.4010589367825143, 'kMaxAttractionDistance': 34, 'kStartAttraction': 0.05430022840257587}. Best is trial 0 with value: 7942.577777777778.\u001b[0m\n"
     ]
    },
    {
     "name": "stdout",
     "output_type": "stream",
     "text": [
      "Updated! 7942.577777777778\n",
      "index_parallel='0001'\n"
     ]
    },
    {
     "name": "stderr",
     "output_type": "stream",
     "text": [
      "\u001b[32m[I 2022-08-15 21:33:18,409]\u001b[0m Trial 1 finished with value: 6925.133333333333 and parameters: {'kErase': 4, 'kRadius': 6, 'kAnnealingA': -11.271040838945543, 'kAnnealingB': 0.1893406583170386, 'kAnnealingStart': 65.39835031603953, 'kSkipRatio': 0.31081484041672813, 'kTargetDeterminationTrials': 4, 'kAttractionRatio': 0.07684182648651862, 'kMaxAttractionDistance': 84, 'kStartAttraction': 0.010942872254739132}. Best is trial 0 with value: 7942.577777777778.\u001b[0m\n"
     ]
    },
    {
     "name": "stdout",
     "output_type": "stream",
     "text": [
      "index_parallel='0002'\n"
     ]
    },
    {
     "name": "stderr",
     "output_type": "stream",
     "text": [
      "\u001b[32m[I 2022-08-15 21:36:47,848]\u001b[0m Trial 2 finished with value: 6967.9 and parameters: {'kErase': 3, 'kRadius': 5, 'kAnnealingA': 8.515607418985166, 'kAnnealingB': 2.2655752386061048, 'kAnnealingStart': 49.948721632452276, 'kSkipRatio': 0.4053450574104117, 'kTargetDeterminationTrials': 2, 'kAttractionRatio': 0.5108077217886164, 'kMaxAttractionDistance': 10, 'kStartAttraction': 0.8198100417275427}. Best is trial 0 with value: 7942.577777777778.\u001b[0m\n"
     ]
    },
    {
     "name": "stdout",
     "output_type": "stream",
     "text": [
      "index_parallel='0003'\n"
     ]
    },
    {
     "name": "stderr",
     "output_type": "stream",
     "text": [
      "\u001b[32m[I 2022-08-15 21:40:17,720]\u001b[0m Trial 3 finished with value: 7319.544444444445 and parameters: {'kErase': 3, 'kRadius': 6, 'kAnnealingA': -10.523728343135744, 'kAnnealingB': 1.8967761689720286, 'kAnnealingStart': 59.7184894427481, 'kSkipRatio': 0.25701886949703, 'kTargetDeterminationTrials': 2, 'kAttractionRatio': 0.1065443229094596, 'kMaxAttractionDistance': 6, 'kStartAttraction': 0.0032553610198282797}. Best is trial 0 with value: 7942.577777777778.\u001b[0m\n"
     ]
    },
    {
     "name": "stdout",
     "output_type": "stream",
     "text": [
      "index_parallel='0004'\n"
     ]
    },
    {
     "name": "stderr",
     "output_type": "stream",
     "text": [
      "\u001b[32m[I 2022-08-15 21:43:47,437]\u001b[0m Trial 4 finished with value: 6955.016666666666 and parameters: {'kErase': 4, 'kRadius': 4, 'kAnnealingA': -4.275691405417401, 'kAnnealingB': 1.5493629529176687, 'kAnnealingStart': 3.197927305355024, 'kSkipRatio': 0.5886419937593017, 'kTargetDeterminationTrials': 2, 'kAttractionRatio': 0.828413969370925, 'kMaxAttractionDistance': 33, 'kStartAttraction': 0.003998252714902452}. Best is trial 0 with value: 7942.577777777778.\u001b[0m\n"
     ]
    },
    {
     "name": "stdout",
     "output_type": "stream",
     "text": [
      "index_parallel='0005'\n"
     ]
    },
    {
     "name": "stderr",
     "output_type": "stream",
     "text": [
      "\u001b[32m[I 2022-08-15 21:47:16,235]\u001b[0m Trial 5 finished with value: 7756.322222222222 and parameters: {'kErase': 1, 'kRadius': 6, 'kAnnealingA': 12.107732853102963, 'kAnnealingB': 1.107647222959649, 'kAnnealingStart': 1.3453587730192356, 'kSkipRatio': 0.5130328902613612, 'kTargetDeterminationTrials': 4, 'kAttractionRatio': 0.4353500419562066, 'kMaxAttractionDistance': 5, 'kStartAttraction': 0.07002845101034887}. Best is trial 0 with value: 7942.577777777778.\u001b[0m\n"
     ]
    },
    {
     "name": "stdout",
     "output_type": "stream",
     "text": [
      "index_parallel='0006'\n"
     ]
    },
    {
     "name": "stderr",
     "output_type": "stream",
     "text": [
      "\u001b[32m[I 2022-08-15 21:50:45,752]\u001b[0m Trial 6 finished with value: 7777.0 and parameters: {'kErase': 4, 'kRadius': 6, 'kAnnealingA': 8.142557923673778, 'kAnnealingB': 2.581593198067683, 'kAnnealingStart': 55.529469323430014, 'kSkipRatio': 0.711601232122719, 'kTargetDeterminationTrials': 5, 'kAttractionRatio': 0.33535426199724483, 'kMaxAttractionDistance': 18, 'kStartAttraction': 0.05243593580106069}. Best is trial 0 with value: 7942.577777777778.\u001b[0m\n"
     ]
    },
    {
     "name": "stdout",
     "output_type": "stream",
     "text": [
      "index_parallel='0007'\n"
     ]
    },
    {
     "name": "stderr",
     "output_type": "stream",
     "text": [
      "\u001b[32m[I 2022-08-15 21:54:15,168]\u001b[0m Trial 7 finished with value: 6442.766666666666 and parameters: {'kErase': 3, 'kRadius': 5, 'kAnnealingA': 11.682081155982548, 'kAnnealingB': 0.47210027194625015, 'kAnnealingStart': 93.69320551425194, 'kSkipRatio': 0.393112511866871, 'kTargetDeterminationTrials': 1, 'kAttractionRatio': 0.2793389943033544, 'kMaxAttractionDistance': 87, 'kStartAttraction': 0.13809674316131082}. Best is trial 0 with value: 7942.577777777778.\u001b[0m\n"
     ]
    },
    {
     "name": "stdout",
     "output_type": "stream",
     "text": [
      "index_parallel='0008'\n"
     ]
    },
    {
     "name": "stderr",
     "output_type": "stream",
     "text": [
      "\u001b[32m[I 2022-08-15 21:57:44,851]\u001b[0m Trial 8 finished with value: 7201.455555555555 and parameters: {'kErase': 3, 'kRadius': 3, 'kAnnealingA': -10.114759017836107, 'kAnnealingB': 0.9851691113978593, 'kAnnealingStart': 18.938784689938355, 'kSkipRatio': 0.23146043891845733, 'kTargetDeterminationTrials': 1, 'kAttractionRatio': 0.10736905087795039, 'kMaxAttractionDistance': 7, 'kStartAttraction': 0.004132159164697211}. Best is trial 0 with value: 7942.577777777778.\u001b[0m\n"
     ]
    },
    {
     "name": "stdout",
     "output_type": "stream",
     "text": [
      "index_parallel='0009'\n"
     ]
    },
    {
     "name": "stderr",
     "output_type": "stream",
     "text": [
      "\u001b[32m[I 2022-08-15 22:01:14,861]\u001b[0m Trial 9 finished with value: 7757.111111111111 and parameters: {'kErase': 4, 'kRadius': 2, 'kAnnealingA': 14.841757213568311, 'kAnnealingB': 2.9592819446522185, 'kAnnealingStart': 2.292005019156012, 'kSkipRatio': 0.5496949548920452, 'kTargetDeterminationTrials': 3, 'kAttractionRatio': 0.015572101437492351, 'kMaxAttractionDistance': 35, 'kStartAttraction': 0.04486174694406294}. Best is trial 0 with value: 7942.577777777778.\u001b[0m\n"
     ]
    },
    {
     "name": "stdout",
     "output_type": "stream",
     "text": [
      "index_parallel='0010'\n"
     ]
    },
    {
     "name": "stderr",
     "output_type": "stream",
     "text": [
      "\u001b[32m[I 2022-08-15 22:04:43,923]\u001b[0m Trial 10 finished with value: 7957.855555555556 and parameters: {'kErase': 1, 'kRadius': 2, 'kAnnealingA': 2.2339229027242515, 'kAnnealingB': 1.6580909603107084, 'kAnnealingStart': 14.538359090165176, 'kSkipRatio': 0.7646331761888323, 'kTargetDeterminationTrials': 18, 'kAttractionRatio': 0.011935147309236527, 'kMaxAttractionDistance': 40, 'kStartAttraction': 0.2950424795244596}. Best is trial 10 with value: 7957.855555555556.\u001b[0m\n"
     ]
    },
    {
     "name": "stdout",
     "output_type": "stream",
     "text": [
      "Updated! 7957.855555555556\n",
      "index_parallel='0011'\n"
     ]
    },
    {
     "name": "stderr",
     "output_type": "stream",
     "text": [
      "\u001b[32m[I 2022-08-15 22:08:13,182]\u001b[0m Trial 11 finished with value: 7871.9111111111115 and parameters: {'kErase': 1, 'kRadius': 2, 'kAnnealingA': 1.1913539597383114, 'kAnnealingB': 1.7962910008845607, 'kAnnealingStart': 11.884359471103242, 'kSkipRatio': 0.7675157023526996, 'kTargetDeterminationTrials': 20, 'kAttractionRatio': 0.011357206905833566, 'kMaxAttractionDistance': 40, 'kStartAttraction': 0.39576626314303076}. Best is trial 10 with value: 7957.855555555556.\u001b[0m\n"
     ]
    },
    {
     "name": "stdout",
     "output_type": "stream",
     "text": [
      "index_parallel='0012'\n"
     ]
    },
    {
     "name": "stderr",
     "output_type": "stream",
     "text": [
      "\u001b[32m[I 2022-08-15 22:11:42,321]\u001b[0m Trial 12 finished with value: 8179.166666666667 and parameters: {'kErase': 2, 'kRadius': 3, 'kAnnealingA': 1.7392273780781096, 'kAnnealingB': 1.184250214133117, 'kAnnealingStart': 25.537833329778625, 'kSkipRatio': 0.665463201751573, 'kTargetDeterminationTrials': 17, 'kAttractionRatio': 0.03594670625896548, 'kMaxAttractionDistance': 22, 'kStartAttraction': 0.23623877692139025}. Best is trial 12 with value: 8179.166666666667.\u001b[0m\n"
     ]
    },
    {
     "name": "stdout",
     "output_type": "stream",
     "text": [
      "Updated! 8179.166666666667\n",
      "index_parallel='0013'\n"
     ]
    },
    {
     "name": "stderr",
     "output_type": "stream",
     "text": [
      "\u001b[32m[I 2022-08-15 22:15:11,751]\u001b[0m Trial 13 finished with value: 8202.933333333332 and parameters: {'kErase': 2, 'kRadius': 3, 'kAnnealingA': 3.113442803458031, 'kAnnealingB': 1.0474865345656752, 'kAnnealingStart': 22.565759864937213, 'kSkipRatio': 0.6637084815810457, 'kTargetDeterminationTrials': 17, 'kAttractionRatio': 0.030410661980745855, 'kMaxAttractionDistance': 15, 'kStartAttraction': 0.23807587200563332}. Best is trial 13 with value: 8202.933333333332.\u001b[0m\n"
     ]
    },
    {
     "name": "stdout",
     "output_type": "stream",
     "text": [
      "Updated! 8202.933333333332\n",
      "index_parallel='0014'\n"
     ]
    },
    {
     "name": "stderr",
     "output_type": "stream",
     "text": [
      "\u001b[32m[I 2022-08-15 22:18:41,195]\u001b[0m Trial 14 finished with value: 8170.861111111111 and parameters: {'kErase': 2, 'kRadius': 3, 'kAnnealingA': 4.969265819569194, 'kAnnealingB': 0.9703486436914415, 'kAnnealingStart': 24.65277120158919, 'kSkipRatio': 0.6515759472756576, 'kTargetDeterminationTrials': 10, 'kAttractionRatio': 0.03329762786249121, 'kMaxAttractionDistance': 14, 'kStartAttraction': 0.016815000681571553}. Best is trial 13 with value: 8202.933333333332.\u001b[0m\n"
     ]
    },
    {
     "name": "stdout",
     "output_type": "stream",
     "text": [
      "index_parallel='0015'\n"
     ]
    },
    {
     "name": "stderr",
     "output_type": "stream",
     "text": [
      "\u001b[32m[I 2022-08-15 22:22:10,551]\u001b[0m Trial 15 finished with value: 7976.216666666666 and parameters: {'kErase': 2, 'kRadius': 3, 'kAnnealingA': -4.3677821196636195, 'kAnnealingB': 0.5705997917923633, 'kAnnealingStart': 6.228553235878791, 'kSkipRatio': 0.6433437066586987, 'kTargetDeterminationTrials': 10, 'kAttractionRatio': 0.03407366602346241, 'kMaxAttractionDistance': 22, 'kStartAttraction': 0.18080222551253394}. Best is trial 13 with value: 8202.933333333332.\u001b[0m\n"
     ]
    },
    {
     "name": "stdout",
     "output_type": "stream",
     "text": [
      "index_parallel='0016'\n"
     ]
    },
    {
     "name": "stderr",
     "output_type": "stream",
     "text": [
      "\u001b[32m[I 2022-08-15 22:25:39,954]\u001b[0m Trial 16 finished with value: 8142.227777777778 and parameters: {'kErase': 2, 'kRadius': 4, 'kAnnealingA': -3.4462276876097997, 'kAnnealingB': 1.236496692852101, 'kAnnealingStart': 33.13281716958056, 'kSkipRatio': 0.668562906193149, 'kTargetDeterminationTrials': 10, 'kAttractionRatio': 0.033765212097869056, 'kMaxAttractionDistance': 10, 'kStartAttraction': 0.8820428866923166}. Best is trial 13 with value: 8202.933333333332.\u001b[0m\n"
     ]
    },
    {
     "name": "stdout",
     "output_type": "stream",
     "text": [
      "index_parallel='0017'\n"
     ]
    },
    {
     "name": "stderr",
     "output_type": "stream",
     "text": [
      "\u001b[32m[I 2022-08-15 22:29:09,740]\u001b[0m Trial 17 finished with value: 7592.288888888889 and parameters: {'kErase': 5, 'kRadius': 3, 'kAnnealingA': 5.104711244982967, 'kAnnealingB': 0.5568120610162541, 'kAnnealingStart': 6.462196757209885, 'kSkipRatio': 0.5922226705206546, 'kTargetDeterminationTrials': 7, 'kAttractionRatio': 0.05992230824058665, 'kMaxAttractionDistance': 23, 'kStartAttraction': 0.0010372280505244608}. Best is trial 13 with value: 8202.933333333332.\u001b[0m\n"
     ]
    },
    {
     "name": "stdout",
     "output_type": "stream",
     "text": [
      "index_parallel='0018'\n"
     ]
    },
    {
     "name": "stderr",
     "output_type": "stream",
     "text": [
      "\u001b[32m[I 2022-08-15 22:32:38,940]\u001b[0m Trial 18 finished with value: 8075.127777777778 and parameters: {'kErase': 2, 'kRadius': 4, 'kAnnealingA': -1.4778237744019413, 'kAnnealingB': 1.3276889183944458, 'kAnnealingStart': 29.084805442423242, 'kSkipRatio': 0.7847469398572762, 'kTargetDeterminationTrials': 14, 'kAttractionRatio': 0.02122443616924505, 'kMaxAttractionDistance': 60, 'kStartAttraction': 0.13174995653146854}. Best is trial 13 with value: 8202.933333333332.\u001b[0m\n"
     ]
    },
    {
     "name": "stdout",
     "output_type": "stream",
     "text": [
      "index_parallel='0019'\n"
     ]
    },
    {
     "name": "stderr",
     "output_type": "stream",
     "text": [
      "\u001b[32m[I 2022-08-15 22:36:08,285]\u001b[0m Trial 19 finished with value: 8202.05 and parameters: {'kErase': 2, 'kRadius': 3, 'kAnnealingA': 4.347971773307842, 'kAnnealingB': 0.036558998334579984, 'kAnnealingStart': 7.834087328371134, 'kSkipRatio': 0.7097261727044182, 'kTargetDeterminationTrials': 7, 'kAttractionRatio': 0.19923362341888257, 'kMaxAttractionDistance': 10, 'kStartAttraction': 0.36134506080963347}. Best is trial 13 with value: 8202.933333333332.\u001b[0m\n"
     ]
    },
    {
     "name": "stdout",
     "output_type": "stream",
     "text": [
      "index_parallel='0020'\n"
     ]
    },
    {
     "name": "stderr",
     "output_type": "stream",
     "text": [
      "\u001b[32m[I 2022-08-15 22:39:37,355]\u001b[0m Trial 20 finished with value: 7882.611111111111 and parameters: {'kErase': 2, 'kRadius': 5, 'kAnnealingA': -7.400124760167674, 'kAnnealingB': 0.16486207658237326, 'kAnnealingStart': 7.900863652322844, 'kSkipRatio': 0.7151148161732102, 'kTargetDeterminationTrials': 6, 'kAttractionRatio': 0.18875442867346362, 'kMaxAttractionDistance': 4, 'kStartAttraction': 0.5256149687571218}. Best is trial 13 with value: 8202.933333333332.\u001b[0m\n"
     ]
    },
    {
     "name": "stdout",
     "output_type": "stream",
     "text": [
      "index_parallel='0021'\n"
     ]
    },
    {
     "name": "stderr",
     "output_type": "stream",
     "text": [
      "\u001b[32m[I 2022-08-15 22:43:06,804]\u001b[0m Trial 21 finished with value: 8084.016666666666 and parameters: {'kErase': 2, 'kRadius': 3, 'kAnnealingA': 3.6488725342691146, 'kAnnealingB': 0.7852616747764751, 'kAnnealingStart': 3.717382131975882, 'kSkipRatio': 0.7151936493769637, 'kTargetDeterminationTrials': 14, 'kAttractionRatio': 0.18543102820389362, 'kMaxAttractionDistance': 12, 'kStartAttraction': 0.21495305109603802}. Best is trial 13 with value: 8202.933333333332.\u001b[0m\n"
     ]
    },
    {
     "name": "stdout",
     "output_type": "stream",
     "text": [
      "index_parallel='0022'\n"
     ]
    },
    {
     "name": "stderr",
     "output_type": "stream",
     "text": [
      "\u001b[32m[I 2022-08-15 22:46:36,095]\u001b[0m Trial 22 finished with value: 8123.511111111111 and parameters: {'kErase': 2, 'kRadius': 3, 'kAnnealingA': 7.1031805005798745, 'kAnnealingB': 0.06432775928390513, 'kAnnealingStart': 16.629656128224337, 'kSkipRatio': 0.6034244578077579, 'kTargetDeterminationTrials': 8, 'kAttractionRatio': 0.05165018422579958, 'kMaxAttractionDistance': 16, 'kStartAttraction': 0.09004251313294488}. Best is trial 13 with value: 8202.933333333332.\u001b[0m\n"
     ]
    },
    {
     "name": "stdout",
     "output_type": "stream",
     "text": [
      "index_parallel='0023'\n"
     ]
    },
    {
     "name": "stderr",
     "output_type": "stream",
     "text": [
      "\u001b[32m[I 2022-08-15 22:50:05,530]\u001b[0m Trial 23 finished with value: 8173.872222222222 and parameters: {'kErase': 3, 'kRadius': 4, 'kAnnealingA': 2.470334003071167, 'kAnnealingB': 0.7543726210882437, 'kAnnealingStart': 9.550452377839544, 'kSkipRatio': 0.6968120777019925, 'kTargetDeterminationTrials': 14, 'kAttractionRatio': 0.025999878860672596, 'kMaxAttractionDistance': 8, 'kStartAttraction': 0.4357518219103184}. Best is trial 13 with value: 8202.933333333332.\u001b[0m\n"
     ]
    },
    {
     "name": "stdout",
     "output_type": "stream",
     "text": [
      "index_parallel='0024'\n"
     ]
    },
    {
     "name": "stderr",
     "output_type": "stream",
     "text": [
      "\u001b[32m[I 2022-08-15 22:53:34,736]\u001b[0m Trial 24 finished with value: 7775.138888888889 and parameters: {'kErase': 1, 'kRadius': 3, 'kAnnealingA': -14.939982512919125, 'kAnnealingB': 2.23767802019354, 'kAnnealingStart': 35.18917018869041, 'kSkipRatio': 0.4895956968396308, 'kTargetDeterminationTrials': 13, 'kAttractionRatio': 0.1542919178479415, 'kMaxAttractionDistance': 25, 'kStartAttraction': 0.27331810089411995}. Best is trial 13 with value: 8202.933333333332.\u001b[0m\n"
     ]
    },
    {
     "name": "stdout",
     "output_type": "stream",
     "text": [
      "index_parallel='0025'\n"
     ]
    },
    {
     "name": "stderr",
     "output_type": "stream",
     "text": [
      "\u001b[32m[I 2022-08-15 22:57:03,852]\u001b[0m Trial 25 finished with value: 8120.811111111111 and parameters: {'kErase': 2, 'kRadius': 2, 'kAnnealingA': -1.319975866098466, 'kAnnealingB': 0.35669470409780407, 'kAnnealingStart': 19.71490276562249, 'kSkipRatio': 0.6240719778781152, 'kTargetDeterminationTrials': 19, 'kAttractionRatio': 0.05283060848785623, 'kMaxAttractionDistance': 12, 'kStartAttraction': 0.0180755596441086}. Best is trial 13 with value: 8202.933333333332.\u001b[0m\n"
     ]
    },
    {
     "name": "stdout",
     "output_type": "stream",
     "text": [
      "index_parallel='0026'\n"
     ]
    },
    {
     "name": "stderr",
     "output_type": "stream",
     "text": [
      "\u001b[32m[I 2022-08-15 23:00:33,277]\u001b[0m Trial 26 finished with value: 8068.377777777778 and parameters: {'kErase': 2, 'kRadius': 4, 'kAnnealingA': 6.0533131191826195, 'kAnnealingB': 1.395611366921567, 'kAnnealingStart': 5.006951142037057, 'kSkipRatio': 0.7373381393480276, 'kTargetDeterminationTrials': 8, 'kAttractionRatio': 0.019298396350917627, 'kMaxAttractionDistance': 18, 'kStartAttraction': 0.11816393524952817}. Best is trial 13 with value: 8202.933333333332.\u001b[0m\n"
     ]
    },
    {
     "name": "stdout",
     "output_type": "stream",
     "text": [
      "index_parallel='0027'\n"
     ]
    },
    {
     "name": "stderr",
     "output_type": "stream",
     "text": [
      "\u001b[32m[I 2022-08-15 23:04:02,402]\u001b[0m Trial 27 finished with value: 8103.766666666666 and parameters: {'kErase': 1, 'kRadius': 3, 'kAnnealingA': 8.933992526942511, 'kAnnealingB': 2.0648920771578716, 'kAnnealingStart': 10.130945570988516, 'kSkipRatio': 0.7992008941041515, 'kTargetDeterminationTrials': 11, 'kAttractionRatio': 0.045859166418566126, 'kMaxAttractionDistance': 8, 'kStartAttraction': 0.5383375799209787}. Best is trial 13 with value: 8202.933333333332.\u001b[0m\n"
     ]
    },
    {
     "name": "stdout",
     "output_type": "stream",
     "text": [
      "index_parallel='0028'\n"
     ]
    },
    {
     "name": "stderr",
     "output_type": "stream",
     "text": [
      "\u001b[32m[I 2022-08-15 23:07:31,794]\u001b[0m Trial 28 finished with value: 7871.266666666666 and parameters: {'kErase': 3, 'kRadius': 3, 'kAnnealingA': 4.200888228749173, 'kAnnealingB': 0.6997031306897815, 'kAnnealingStart': 39.2375084414812, 'kSkipRatio': 0.5540411286862811, 'kTargetDeterminationTrials': 6, 'kAttractionRatio': 0.09146598723004601, 'kMaxAttractionDistance': 27, 'kStartAttraction': 0.02720130048641511}. Best is trial 13 with value: 8202.933333333332.\u001b[0m\n"
     ]
    },
    {
     "name": "stdout",
     "output_type": "stream",
     "text": [
      "index_parallel='0029'\n"
     ]
    },
    {
     "name": "stderr",
     "output_type": "stream",
     "text": [
      "\u001b[32m[I 2022-08-15 23:11:00,786]\u001b[0m Trial 29 finished with value: 8011.027777777777 and parameters: {'kErase': 1, 'kRadius': 2, 'kAnnealingA': -0.4907464396994534, 'kAnnealingB': 0.9841507527940756, 'kAnnealingStart': 23.163858582997335, 'kSkipRatio': 0.6740579724560718, 'kTargetDeterminationTrials': 16, 'kAttractionRatio': 0.07086014049065376, 'kMaxAttractionDistance': 53, 'kStartAttraction': 0.24072796982933647}. Best is trial 13 with value: 8202.933333333332.\u001b[0m\n"
     ]
    },
    {
     "name": "stdout",
     "output_type": "stream",
     "text": [
      "index_parallel='0030'\n"
     ]
    },
    {
     "name": "stderr",
     "output_type": "stream",
     "text": [
      "\u001b[32m[I 2022-08-15 23:14:29,735]\u001b[0m Trial 30 finished with value: 7873.461111111111 and parameters: {'kErase': 2, 'kRadius': 2, 'kAnnealingA': 0.9988489042220734, 'kAnnealingB': 0.36114155030040584, 'kAnnealingStart': 13.350892191390923, 'kSkipRatio': 0.43526279340063967, 'kTargetDeterminationTrials': 3, 'kAttractionRatio': 0.24957554641416851, 'kMaxAttractionDistance': 13, 'kStartAttraction': 0.035577614984487055}. Best is trial 13 with value: 8202.933333333332.\u001b[0m\n"
     ]
    },
    {
     "name": "stdout",
     "output_type": "stream",
     "text": [
      "index_parallel='0031'\n"
     ]
    },
    {
     "name": "stderr",
     "output_type": "stream",
     "text": [
      "\u001b[32m[I 2022-08-15 23:17:59,569]\u001b[0m Trial 31 finished with value: 8212.733333333334 and parameters: {'kErase': 3, 'kRadius': 4, 'kAnnealingA': 2.7939204862950393, 'kAnnealingB': 0.7446367666703897, 'kAnnealingStart': 8.843954756943798, 'kSkipRatio': 0.7131452573977071, 'kTargetDeterminationTrials': 12, 'kAttractionRatio': 0.026408904719865768, 'kMaxAttractionDistance': 9, 'kStartAttraction': 0.5200422932287608}. Best is trial 31 with value: 8212.733333333334.\u001b[0m\n"
     ]
    },
    {
     "name": "stdout",
     "output_type": "stream",
     "text": [
      "Updated! 8212.733333333334\n",
      "index_parallel='0032'\n"
     ]
    },
    {
     "name": "stderr",
     "output_type": "stream",
     "text": [
      "\u001b[32m[I 2022-08-15 23:21:29,820]\u001b[0m Trial 32 finished with value: 8020.927777777778 and parameters: {'kErase': 5, 'kRadius': 4, 'kAnnealingA': 2.3040561934114514, 'kAnnealingB': 1.2189165709590088, 'kAnnealingStart': 8.567286783370596, 'kSkipRatio': 0.7478237293660518, 'kTargetDeterminationTrials': 12, 'kAttractionRatio': 0.024676876962568532, 'kMaxAttractionDistance': 11, 'kStartAttraction': 0.6231186277777021}. Best is trial 31 with value: 8212.733333333334.\u001b[0m\n"
     ]
    },
    {
     "name": "stdout",
     "output_type": "stream",
     "text": [
      "index_parallel='0033'\n"
     ]
    },
    {
     "name": "stderr",
     "output_type": "stream",
     "text": [
      "\u001b[32m[I 2022-08-15 23:24:59,475]\u001b[0m Trial 33 finished with value: 7916.3 and parameters: {'kErase': 3, 'kRadius': 5, 'kAnnealingA': -2.5991404767250295, 'kAnnealingB': 1.473306478517372, 'kAnnealingStart': 4.330039291152302, 'kSkipRatio': 0.6788122374315286, 'kTargetDeterminationTrials': 8, 'kAttractionRatio': 0.01605301145129425, 'kMaxAttractionDistance': 9, 'kStartAttraction': 0.35344270794607135}. Best is trial 31 with value: 8212.733333333334.\u001b[0m\n"
     ]
    },
    {
     "name": "stdout",
     "output_type": "stream",
     "text": [
      "index_parallel='0034'\n"
     ]
    },
    {
     "name": "stderr",
     "output_type": "stream",
     "text": [
      "\u001b[32m[I 2022-08-15 23:28:29,193]\u001b[0m Trial 34 finished with value: 7542.677777777778 and parameters: {'kErase': 3, 'kRadius': 4, 'kAnnealingA': 9.795285546775219, 'kAnnealingB': 0.842621765221157, 'kAnnealingStart': 44.87160253824979, 'kSkipRatio': 0.6263979097348291, 'kTargetDeterminationTrials': 16, 'kAttractionRatio': 0.04073343301629543, 'kMaxAttractionDistance': 6, 'kStartAttraction': 0.17257925813609173}. Best is trial 31 with value: 8212.733333333334.\u001b[0m\n"
     ]
    },
    {
     "name": "stdout",
     "output_type": "stream",
     "text": [
      "index_parallel='0035'\n"
     ]
    },
    {
     "name": "stderr",
     "output_type": "stream",
     "text": [
      "\u001b[32m[I 2022-08-15 23:31:58,792]\u001b[0m Trial 35 finished with value: 7902.7 and parameters: {'kErase': 3, 'kRadius': 3, 'kAnnealingA': 6.655214396015686, 'kAnnealingB': 0.29676999167572876, 'kAnnealingStart': 2.483525603321725, 'kSkipRatio': 0.5429857303666384, 'kTargetDeterminationTrials': 4, 'kAttractionRatio': 0.13440045602560025, 'kMaxAttractionDistance': 15, 'kStartAttraction': 0.0837424065098601}. Best is trial 31 with value: 8212.733333333334.\u001b[0m\n"
     ]
    },
    {
     "name": "stdout",
     "output_type": "stream",
     "text": [
      "index_parallel='0036'\n"
     ]
    },
    {
     "name": "stderr",
     "output_type": "stream",
     "text": [
      "\u001b[32m[I 2022-08-15 23:35:28,132]\u001b[0m Trial 36 finished with value: 7983.7 and parameters: {'kErase': 2, 'kRadius': 5, 'kAnnealingA': -5.518164961240533, 'kAnnealingB': 0.0236285937734807, 'kAnnealingStart': 6.586893347728067, 'kSkipRatio': 0.3632561720858351, 'kTargetDeterminationTrials': 9, 'kAttractionRatio': 0.07118947629571296, 'kMaxAttractionDistance': 19, 'kStartAttraction': 0.6694893465368115}. Best is trial 31 with value: 8212.733333333334.\u001b[0m\n"
     ]
    },
    {
     "name": "stdout",
     "output_type": "stream",
     "text": [
      "index_parallel='0037'\n"
     ]
    },
    {
     "name": "stderr",
     "output_type": "stream",
     "text": [
      "\u001b[32m[I 2022-08-15 23:38:57,801]\u001b[0m Trial 37 finished with value: 8050.233333333334 and parameters: {'kErase': 4, 'kRadius': 4, 'kAnnealingA': 3.445229181925889, 'kAnnealingB': 1.0747558417984011, 'kAnnealingStart': 11.499465787848292, 'kSkipRatio': 0.7353553684416086, 'kTargetDeterminationTrials': 5, 'kAttractionRatio': 0.025681296898651503, 'kMaxAttractionDistance': 5, 'kStartAttraction': 0.8080895052872487}. Best is trial 31 with value: 8212.733333333334.\u001b[0m\n"
     ]
    },
    {
     "name": "stdout",
     "output_type": "stream",
     "text": [
      "index_parallel='0038'\n"
     ]
    },
    {
     "name": "stderr",
     "output_type": "stream",
     "text": [
      "\u001b[32m[I 2022-08-15 23:42:26,973]\u001b[0m Trial 38 finished with value: 7523.277777777777 and parameters: {'kErase': 1, 'kRadius': 3, 'kAnnealingA': 0.8052704426803389, 'kAnnealingB': 1.661545069644856, 'kAnnealingStart': 74.6869844526518, 'kSkipRatio': 0.6846018655549857, 'kTargetDeterminationTrials': 18, 'kAttractionRatio': 0.014761921679029382, 'kMaxAttractionDistance': 30, 'kStartAttraction': 0.3390341594479201}. Best is trial 31 with value: 8212.733333333334.\u001b[0m\n"
     ]
    },
    {
     "name": "stdout",
     "output_type": "stream",
     "text": [
      "index_parallel='0039'\n"
     ]
    },
    {
     "name": "stderr",
     "output_type": "stream",
     "text": [
      "\u001b[32m[I 2022-08-15 23:45:56,350]\u001b[0m Trial 39 finished with value: 8046.355555555556 and parameters: {'kErase': 3, 'kRadius': 4, 'kAnnealingA': 5.712157583815642, 'kAnnealingB': 0.6656991111601832, 'kAnnealingStart': 24.488431126319526, 'kSkipRatio': 0.5990332260283189, 'kTargetDeterminationTrials': 12, 'kAttractionRatio': 0.5457797546668803, 'kMaxAttractionDistance': 10, 'kStartAttraction': 0.06471667394778312}. Best is trial 31 with value: 8212.733333333334.\u001b[0m\n"
     ]
    },
    {
     "name": "stdout",
     "output_type": "stream",
     "text": [
      "index_parallel='0040'\n"
     ]
    },
    {
     "name": "stderr",
     "output_type": "stream",
     "text": [
      "\u001b[32m[I 2022-08-15 23:49:25,900]\u001b[0m Trial 40 finished with value: 7695.427777777778 and parameters: {'kErase': 4, 'kRadius': 3, 'kAnnealingA': 10.386092107833058, 'kAnnealingB': 0.8778028140674784, 'kAnnealingStart': 18.109735484555603, 'kSkipRatio': 0.5199844697492157, 'kTargetDeterminationTrials': 16, 'kAttractionRatio': 0.8752655366719951, 'kMaxAttractionDistance': 7, 'kStartAttraction': 0.008143723546449488}. Best is trial 31 with value: 8212.733333333334.\u001b[0m\n"
     ]
    },
    {
     "name": "stdout",
     "output_type": "stream",
     "text": [
      "index_parallel='0041'\n"
     ]
    },
    {
     "name": "stderr",
     "output_type": "stream",
     "text": [
      "\u001b[32m[I 2022-08-15 23:52:55,278]\u001b[0m Trial 41 finished with value: 8193.316666666668 and parameters: {'kErase': 3, 'kRadius': 4, 'kAnnealingA': 2.7249358525983634, 'kAnnealingB': 1.244404579601742, 'kAnnealingStart': 8.700732084231706, 'kSkipRatio': 0.6988262253051696, 'kTargetDeterminationTrials': 14, 'kAttractionRatio': 0.02640966538620883, 'kMaxAttractionDistance': 9, 'kStartAttraction': 0.45770009238550424}. Best is trial 31 with value: 8212.733333333334.\u001b[0m\n"
     ]
    },
    {
     "name": "stdout",
     "output_type": "stream",
     "text": [
      "index_parallel='0042'\n"
     ]
    },
    {
     "name": "stderr",
     "output_type": "stream",
     "text": [
      "\u001b[32m[I 2022-08-15 23:56:25,044]\u001b[0m Trial 42 finished with value: 8017.061111111111 and parameters: {'kErase': 3, 'kRadius': 5, 'kAnnealingA': -0.39163292496394764, 'kAnnealingB': 1.1719028833111327, 'kAnnealingStart': 5.246182637531996, 'kSkipRatio': 0.7068996114300952, 'kTargetDeterminationTrials': 20, 'kAttractionRatio': 0.03785372196479639, 'kMaxAttractionDistance': 9, 'kStartAttraction': 0.42981118322665596}. Best is trial 31 with value: 8212.733333333334.\u001b[0m\n"
     ]
    },
    {
     "name": "stdout",
     "output_type": "stream",
     "text": [
      "index_parallel='0043'\n"
     ]
    },
    {
     "name": "stderr",
     "output_type": "stream",
     "text": [
      "\u001b[32m[I 2022-08-15 23:59:54,370]\u001b[0m Trial 43 finished with value: 8111.961111111111 and parameters: {'kErase': 2, 'kRadius': 4, 'kAnnealingA': 3.061805936338749, 'kAnnealingB': 1.3940367386588615, 'kAnnealingStart': 8.27127554684107, 'kSkipRatio': 0.6395407971685595, 'kTargetDeterminationTrials': 15, 'kAttractionRatio': 0.0291733795366054, 'kMaxAttractionDistance': 6, 'kStartAttraction': 0.19164494074793542}. Best is trial 31 with value: 8212.733333333334.\u001b[0m\n"
     ]
    },
    {
     "name": "stdout",
     "output_type": "stream",
     "text": [
      "index_parallel='0044'\n"
     ]
    },
    {
     "name": "stderr",
     "output_type": "stream",
     "text": [
      "\u001b[32m[I 2022-08-16 00:03:23,892]\u001b[0m Trial 44 finished with value: 8217.022222222222 and parameters: {'kErase': 3, 'kRadius': 3, 'kAnnealingA': 7.993681713730304, 'kAnnealingB': 1.1295152399525972, 'kAnnealingStart': 14.520431209046567, 'kSkipRatio': 0.7626758959552453, 'kTargetDeterminationTrials': 12, 'kAttractionRatio': 0.020094798797914284, 'kMaxAttractionDistance': 20, 'kStartAttraction': 0.2734806364319041}. Best is trial 44 with value: 8217.022222222222.\u001b[0m\n"
     ]
    },
    {
     "name": "stdout",
     "output_type": "stream",
     "text": [
      "Updated! 8217.022222222222\n",
      "index_parallel='0045'\n"
     ]
    },
    {
     "name": "stderr",
     "output_type": "stream",
     "text": [
      "\u001b[32m[I 2022-08-16 00:06:53,526]\u001b[0m Trial 45 finished with value: 8023.611111111111 and parameters: {'kErase': 4, 'kRadius': 4, 'kAnnealingA': 7.599768353599106, 'kAnnealingB': 1.828918714386271, 'kAnnealingStart': 14.928820432422214, 'kSkipRatio': 0.7688431572234322, 'kTargetDeterminationTrials': 6, 'kAttractionRatio': 0.019559389330741448, 'kMaxAttractionDistance': 17, 'kStartAttraction': 0.1117866193821698}. Best is trial 44 with value: 8217.022222222222.\u001b[0m\n"
     ]
    },
    {
     "name": "stdout",
     "output_type": "stream",
     "text": [
      "index_parallel='0046'\n"
     ]
    },
    {
     "name": "stderr",
     "output_type": "stream",
     "text": [
      "\u001b[32m[I 2022-08-16 00:10:23,160]\u001b[0m Trial 46 finished with value: 8135.288888888889 and parameters: {'kErase': 3, 'kRadius': 2, 'kAnnealingA': 14.189012300906846, 'kAnnealingB': 1.5575363176858468, 'kAnnealingStart': 12.311372435473933, 'kSkipRatio': 0.7497714967808489, 'kTargetDeterminationTrials': 11, 'kAttractionRatio': 0.01373046865896186, 'kMaxAttractionDistance': 13, 'kStartAttraction': 0.30982418815334367}. Best is trial 44 with value: 8217.022222222222.\u001b[0m\n"
     ]
    },
    {
     "name": "stdout",
     "output_type": "stream",
     "text": [
      "index_parallel='0047'\n"
     ]
    },
    {
     "name": "stderr",
     "output_type": "stream",
     "text": [
      "\u001b[32m[I 2022-08-16 00:13:52,937]\u001b[0m Trial 47 finished with value: 8096.927777777778 and parameters: {'kErase': 4, 'kRadius': 3, 'kAnnealingA': 11.50163856094215, 'kAnnealingB': 1.020127042341737, 'kAnnealingStart': 10.465908379467427, 'kSkipRatio': 0.7277978853473653, 'kTargetDeterminationTrials': 9, 'kAttractionRatio': 0.01148852824615773, 'kMaxAttractionDistance': 7, 'kStartAttraction': 0.6535480631884594}. Best is trial 44 with value: 8217.022222222222.\u001b[0m\n"
     ]
    },
    {
     "name": "stdout",
     "output_type": "stream",
     "text": [
      "index_parallel='0048'\n"
     ]
    },
    {
     "name": "stderr",
     "output_type": "stream",
     "text": [
      "\u001b[32m[I 2022-08-16 00:17:22,588]\u001b[0m Trial 48 finished with value: 8134.238888888889 and parameters: {'kErase': 3, 'kRadius': 4, 'kAnnealingA': 4.605684096678317, 'kAnnealingB': 0.4681822858365692, 'kAnnealingStart': 7.020444312649435, 'kSkipRatio': 0.7948101237024366, 'kTargetDeterminationTrials': 7, 'kAttractionRatio': 0.019412364448119532, 'kMaxAttractionDistance': 11, 'kStartAttraction': 0.48538067629883674}. Best is trial 44 with value: 8217.022222222222.\u001b[0m\n"
     ]
    },
    {
     "name": "stdout",
     "output_type": "stream",
     "text": [
      "index_parallel='0049'\n"
     ]
    },
    {
     "name": "stderr",
     "output_type": "stream",
     "text": [
      "\u001b[32m[I 2022-08-16 00:20:52,390]\u001b[0m Trial 49 finished with value: 7813.033333333334 and parameters: {'kErase': 3, 'kRadius': 3, 'kAnnealingA': 8.789682055344695, 'kAnnealingB': 1.2799721704439184, 'kAnnealingStart': 2.9102465983375603, 'kSkipRatio': 0.44752017815598144, 'kTargetDeterminationTrials': 5, 'kAttractionRatio': 0.3709881978785298, 'kMaxAttractionDistance': 20, 'kStartAttraction': 0.147341381619137}. Best is trial 44 with value: 8217.022222222222.\u001b[0m\n"
     ]
    },
    {
     "name": "stdout",
     "output_type": "stream",
     "text": [
      "index_parallel='0050'\n"
     ]
    },
    {
     "name": "stderr",
     "output_type": "stream",
     "text": [
      "\u001b[32m[I 2022-08-16 00:24:22,064]\u001b[0m Trial 50 finished with value: 7852.272222222222 and parameters: {'kErase': 4, 'kRadius': 5, 'kAnnealingA': 4.922239795698968, 'kAnnealingB': 2.6476075046962473, 'kAnnealingStart': 1.9228403947723214, 'kSkipRatio': 0.7681120356469042, 'kTargetDeterminationTrials': 2, 'kAttractionRatio': 0.02319319420805443, 'kMaxAttractionDistance': 9, 'kStartAttraction': 0.8748025121731243}. Best is trial 44 with value: 8217.022222222222.\u001b[0m\n"
     ]
    },
    {
     "name": "stdout",
     "output_type": "stream",
     "text": [
      "index_parallel='0051'\n"
     ]
    },
    {
     "name": "stderr",
     "output_type": "stream",
     "text": [
      "\u001b[32m[I 2022-08-16 00:27:51,312]\u001b[0m Trial 51 finished with value: 8208.933333333332 and parameters: {'kErase': 2, 'kRadius': 3, 'kAnnealingA': 1.4921899023756033, 'kAnnealingB': 0.8883856628527256, 'kAnnealingStart': 20.875528696395467, 'kSkipRatio': 0.657934080793115, 'kTargetDeterminationTrials': 12, 'kAttractionRatio': 0.03195298317532176, 'kMaxAttractionDistance': 21, 'kStartAttraction': 0.2471248566831098}. Best is trial 44 with value: 8217.022222222222.\u001b[0m\n"
     ]
    },
    {
     "name": "stdout",
     "output_type": "stream",
     "text": [
      "index_parallel='0052'\n"
     ]
    },
    {
     "name": "stderr",
     "output_type": "stream",
     "text": [
      "\u001b[32m[I 2022-08-16 00:31:20,799]\u001b[0m Trial 52 finished with value: 8182.222222222223 and parameters: {'kErase': 2, 'kRadius': 3, 'kAnnealingA': 1.1624413063879317, 'kAnnealingB': 0.9035323933962226, 'kAnnealingStart': 14.826074620837883, 'kSkipRatio': 0.6961568908115131, 'kTargetDeterminationTrials': 12, 'kAttractionRatio': 0.028884337905042985, 'kMaxAttractionDistance': 15, 'kStartAttraction': 0.24777095021198314}. Best is trial 44 with value: 8217.022222222222.\u001b[0m\n"
     ]
    },
    {
     "name": "stdout",
     "output_type": "stream",
     "text": [
      "index_parallel='0053'\n"
     ]
    },
    {
     "name": "stderr",
     "output_type": "stream",
     "text": [
      "\u001b[32m[I 2022-08-16 00:34:50,993]\u001b[0m Trial 53 finished with value: 8145.266666666666 and parameters: {'kErase': 3, 'kRadius': 2, 'kAnnealingA': 3.303324834749785, 'kAnnealingB': 1.0781731136259114, 'kAnnealingStart': 20.54281882097826, 'kSkipRatio': 0.6509552920967361, 'kTargetDeterminationTrials': 9, 'kAttractionRatio': 0.010139562974172752, 'kMaxAttractionDistance': 20, 'kStartAttraction': 0.35510583703026055}. Best is trial 44 with value: 8217.022222222222.\u001b[0m\n"
     ]
    },
    {
     "name": "stdout",
     "output_type": "stream",
     "text": [
      "index_parallel='0054'\n"
     ]
    },
    {
     "name": "stderr",
     "output_type": "stream",
     "text": [
      "\u001b[32m[I 2022-08-16 00:38:20,594]\u001b[0m Trial 54 finished with value: 8143.305555555556 and parameters: {'kErase': 2, 'kRadius': 3, 'kAnnealingA': 0.3357508203004391, 'kAnnealingB': 0.6099014233799827, 'kAnnealingStart': 28.69528161589588, 'kSkipRatio': 0.7181527092246944, 'kTargetDeterminationTrials': 13, 'kAttractionRatio': 0.016957352543900423, 'kMaxAttractionDistance': 31, 'kStartAttraction': 0.4655373024460145}. Best is trial 44 with value: 8217.022222222222.\u001b[0m\n"
     ]
    },
    {
     "name": "stdout",
     "output_type": "stream",
     "text": [
      "index_parallel='0055'\n"
     ]
    },
    {
     "name": "stderr",
     "output_type": "stream",
     "text": [
      "\u001b[32m[I 2022-08-16 00:41:50,293]\u001b[0m Trial 55 finished with value: 7938.905555555555 and parameters: {'kErase': 2, 'kRadius': 4, 'kAnnealingA': 6.24835152078613, 'kAnnealingB': 0.4837033852978594, 'kAnnealingStart': 5.184357596697333, 'kSkipRatio': 0.2900443406075635, 'kTargetDeterminationTrials': 10, 'kAttractionRatio': 0.030368789677212127, 'kMaxAttractionDistance': 14, 'kStartAttraction': 0.27986322541859593}. Best is trial 44 with value: 8217.022222222222.\u001b[0m\n"
     ]
    },
    {
     "name": "stdout",
     "output_type": "stream",
     "text": [
      "index_parallel='0056'\n"
     ]
    },
    {
     "name": "stderr",
     "output_type": "stream",
     "text": [
      "\u001b[32m[I 2022-08-16 00:45:19,919]\u001b[0m Trial 56 finished with value: 7993.538888888889 and parameters: {'kErase': 3, 'kRadius': 3, 'kAnnealingA': -1.7510759861921898, 'kAnnealingB': 1.1393396759192842, 'kAnnealingStart': 16.73513726869865, 'kSkipRatio': 0.5679859922070054, 'kTargetDeterminationTrials': 7, 'kAttractionRatio': 0.05990672464497491, 'kMaxAttractionDistance': 27, 'kStartAttraction': 0.1660137089078526}. Best is trial 44 with value: 8217.022222222222.\u001b[0m\n"
     ]
    },
    {
     "name": "stdout",
     "output_type": "stream",
     "text": [
      "index_parallel='0057'\n"
     ]
    },
    {
     "name": "stderr",
     "output_type": "stream",
     "text": [
      "\u001b[32m[I 2022-08-16 00:48:49,320]\u001b[0m Trial 57 finished with value: 8103.127777777778 and parameters: {'kErase': 2, 'kRadius': 6, 'kAnnealingA': 7.779817427935329, 'kAnnealingB': 0.17915919756261522, 'kAnnealingStart': 12.466624134882837, 'kSkipRatio': 0.6147796057876741, 'kTargetDeterminationTrials': 17, 'kAttractionRatio': 0.04474304523370602, 'kMaxAttractionDistance': 11, 'kStartAttraction': 0.0950951287997862}. Best is trial 44 with value: 8217.022222222222.\u001b[0m\n"
     ]
    },
    {
     "name": "stdout",
     "output_type": "stream",
     "text": [
      "index_parallel='0058'\n"
     ]
    },
    {
     "name": "stderr",
     "output_type": "stream",
     "text": [
      "\u001b[32m[I 2022-08-16 00:52:18,996]\u001b[0m Trial 58 finished with value: 7896.05 and parameters: {'kErase': 3, 'kRadius': 3, 'kAnnealingA': 2.53898329141167, 'kAnnealingB': 1.520553254452714, 'kAnnealingStart': 8.6844785974232, 'kSkipRatio': 0.6641288836408444, 'kTargetDeterminationTrials': 14, 'kAttractionRatio': 0.10251250182471795, 'kMaxAttractionDistance': 8, 'kStartAttraction': 0.0017761783907206067}. Best is trial 44 with value: 8217.022222222222.\u001b[0m\n"
     ]
    },
    {
     "name": "stdout",
     "output_type": "stream",
     "text": [
      "index_parallel='0059'\n"
     ]
    },
    {
     "name": "stderr",
     "output_type": "stream",
     "text": [
      "\u001b[32m[I 2022-08-16 00:55:47,871]\u001b[0m Trial 59 finished with value: 8176.927777777778 and parameters: {'kErase': 1, 'kRadius': 4, 'kAnnealingA': 1.7305429449193468, 'kAnnealingB': 0.790288149186698, 'kAnnealingStart': 21.965084860541772, 'kSkipRatio': 0.7544959385510998, 'kTargetDeterminationTrials': 11, 'kAttractionRatio': 0.48029093634888115, 'kMaxAttractionDistance': 22, 'kStartAttraction': 0.19864009648583744}. Best is trial 44 with value: 8217.022222222222.\u001b[0m\n"
     ]
    },
    {
     "name": "stdout",
     "output_type": "stream",
     "text": [
      "index_parallel='0060'\n"
     ]
    },
    {
     "name": "stderr",
     "output_type": "stream",
     "text": [
      "\u001b[32m[I 2022-08-16 00:59:17,360]\u001b[0m Trial 60 finished with value: 8116.655555555555 and parameters: {'kErase': 2, 'kRadius': 3, 'kAnnealingA': 4.281521942681755, 'kAnnealingB': 1.3254394958584865, 'kAnnealingStart': 7.143739871809455, 'kSkipRatio': 0.7776268621022908, 'kTargetDeterminationTrials': 20, 'kAttractionRatio': 0.013279891519282543, 'kMaxAttractionDistance': 5, 'kStartAttraction': 0.6036676251708966}. Best is trial 44 with value: 8217.022222222222.\u001b[0m\n"
     ]
    },
    {
     "name": "stdout",
     "output_type": "stream",
     "text": [
      "index_parallel='0061'\n"
     ]
    },
    {
     "name": "stderr",
     "output_type": "stream",
     "text": [
      "\u001b[32m[I 2022-08-16 01:02:46,726]\u001b[0m Trial 61 finished with value: 8098.166666666667 and parameters: {'kErase': 2, 'kRadius': 3, 'kAnnealingA': -0.44228464838898285, 'kAnnealingB': 0.9429512561956683, 'kAnnealingStart': 13.913772593615217, 'kSkipRatio': 0.6924663731297276, 'kTargetDeterminationTrials': 12, 'kAttractionRatio': 0.02899407774803444, 'kMaxAttractionDistance': 16, 'kStartAttraction': 0.2238991382736072}. Best is trial 44 with value: 8217.022222222222.\u001b[0m\n"
     ]
    },
    {
     "name": "stdout",
     "output_type": "stream",
     "text": [
      "index_parallel='0062'\n"
     ]
    },
    {
     "name": "stderr",
     "output_type": "stream",
     "text": [
      "\u001b[32m[I 2022-08-16 01:06:16,142]\u001b[0m Trial 62 finished with value: 8161.888888888889 and parameters: {'kErase': 2, 'kRadius': 3, 'kAnnealingA': 0.9692905944208298, 'kAnnealingB': 0.9009744453134271, 'kAnnealingStart': 16.231527033817077, 'kSkipRatio': 0.7023249037236305, 'kTargetDeterminationTrials': 13, 'kAttractionRatio': 0.022386205081019413, 'kMaxAttractionDistance': 15, 'kStartAttraction': 0.2562705184648469}. Best is trial 44 with value: 8217.022222222222.\u001b[0m\n"
     ]
    },
    {
     "name": "stdout",
     "output_type": "stream",
     "text": [
      "index_parallel='0063'\n"
     ]
    },
    {
     "name": "stderr",
     "output_type": "stream",
     "text": [
      "\u001b[32m[I 2022-08-16 01:09:45,368]\u001b[0m Trial 63 finished with value: 8059.1 and parameters: {'kErase': 2, 'kRadius': 3, 'kAnnealingA': 1.8770573748999158, 'kAnnealingB': 0.7221987164058952, 'kAnnealingStart': 10.55287652896783, 'kSkipRatio': 0.7245988226905276, 'kTargetDeterminationTrials': 15, 'kAttractionRatio': 0.0301904048440214, 'kMaxAttractionDistance': 13, 'kStartAttraction': 0.4159921968640496}. Best is trial 44 with value: 8217.022222222222.\u001b[0m\n"
     ]
    },
    {
     "name": "stdout",
     "output_type": "stream",
     "text": [
      "index_parallel='0064'\n"
     ]
    },
    {
     "name": "stderr",
     "output_type": "stream",
     "text": [
      "\u001b[32m[I 2022-08-16 01:13:15,495]\u001b[0m Trial 64 finished with value: 7968.627777777778 and parameters: {'kErase': 3, 'kRadius': 2, 'kAnnealingA': 5.75110384114681, 'kAnnealingB': 1.0753921244505509, 'kAnnealingStart': 29.873482617654634, 'kSkipRatio': 0.6628530160962649, 'kTargetDeterminationTrials': 10, 'kAttractionRatio': 0.03902419757677787, 'kMaxAttractionDistance': 24, 'kStartAttraction': 0.3260606089223812}. Best is trial 44 with value: 8217.022222222222.\u001b[0m\n"
     ]
    },
    {
     "name": "stdout",
     "output_type": "stream",
     "text": [
      "index_parallel='0065'\n"
     ]
    },
    {
     "name": "stderr",
     "output_type": "stream",
     "text": [
      "\u001b[32m[I 2022-08-16 01:16:44,831]\u001b[0m Trial 65 finished with value: 8079.538888888889 and parameters: {'kErase': 2, 'kRadius': 3, 'kAnnealingA': 4.12329495068789, 'kAnnealingB': 1.2185715947607019, 'kAnnealingStart': 9.242238432617608, 'kSkipRatio': 0.6956305589171019, 'kTargetDeterminationTrials': 11, 'kAttractionRatio': 0.017950115706955268, 'kMaxAttractionDistance': 38, 'kStartAttraction': 0.14165508264782514}. Best is trial 44 with value: 8217.022222222222.\u001b[0m\n"
     ]
    },
    {
     "name": "stdout",
     "output_type": "stream",
     "text": [
      "index_parallel='0066'\n"
     ]
    },
    {
     "name": "stderr",
     "output_type": "stream",
     "text": [
      "\u001b[32m[I 2022-08-16 01:20:14,365]\u001b[0m Trial 66 finished with value: 6838.544444444445 and parameters: {'kErase': 3, 'kRadius': 3, 'kAnnealingA': -3.453388059244532, 'kAnnealingB': 0.844753368297097, 'kAnnealingStart': 14.611011502281757, 'kSkipRatio': 0.20403623818086225, 'kTargetDeterminationTrials': 18, 'kAttractionRatio': 0.6735562118220035, 'kMaxAttractionDistance': 17, 'kStartAttraction': 0.2634969522966383}. Best is trial 44 with value: 8217.022222222222.\u001b[0m\n"
     ]
    },
    {
     "name": "stdout",
     "output_type": "stream",
     "text": [
      "index_parallel='0067'\n"
     ]
    },
    {
     "name": "stderr",
     "output_type": "stream",
     "text": [
      "\u001b[32m[I 2022-08-16 01:23:43,451]\u001b[0m Trial 67 finished with value: 8244.305555555555 and parameters: {'kErase': 2, 'kRadius': 4, 'kAnnealingA': 2.953581534866254, 'kAnnealingB': 1.4179260415166153, 'kAnnealingStart': 19.102315185794694, 'kSkipRatio': 0.5795399040252758, 'kTargetDeterminationTrials': 8, 'kAttractionRatio': 0.04967018231692119, 'kMaxAttractionDistance': 12, 'kStartAttraction': 0.3901863083307704}. Best is trial 67 with value: 8244.305555555555.\u001b[0m\n"
     ]
    },
    {
     "name": "stdout",
     "output_type": "stream",
     "text": [
      "Updated! 8244.305555555555\n",
      "index_parallel='0068'\n"
     ]
    },
    {
     "name": "stderr",
     "output_type": "stream",
     "text": [
      "\u001b[32m[I 2022-08-16 01:27:12,674]\u001b[0m Trial 68 finished with value: 8057.327777777778 and parameters: {'kErase': 1, 'kRadius': 4, 'kAnnealingA': 2.9624639883126656, 'kAnnealingB': 1.4191370386909299, 'kAnnealingStart': 5.883877794414773, 'kSkipRatio': 0.5766946054200102, 'kTargetDeterminationTrials': 8, 'kAttractionRatio': 0.08170724083284454, 'kMaxAttractionDistance': 10, 'kStartAttraction': 0.722782611905457}. Best is trial 67 with value: 8244.305555555555.\u001b[0m\n"
     ]
    },
    {
     "name": "stdout",
     "output_type": "stream",
     "text": [
      "index_parallel='0069'\n"
     ]
    },
    {
     "name": "stderr",
     "output_type": "stream",
     "text": [
      "\u001b[32m[I 2022-08-16 01:30:42,160]\u001b[0m Trial 69 finished with value: 8299.933333333332 and parameters: {'kErase': 2, 'kRadius': 4, 'kAnnealingA': 6.8395157626289, 'kAnnealingB': 1.6058715736295985, 'kAnnealingStart': 19.05138036285315, 'kSkipRatio': 0.6342083213578265, 'kTargetDeterminationTrials': 9, 'kAttractionRatio': 0.29267284560728213, 'kMaxAttractionDistance': 12, 'kStartAttraction': 0.5130402777620992}. Best is trial 69 with value: 8299.933333333332.\u001b[0m\n"
     ]
    },
    {
     "name": "stdout",
     "output_type": "stream",
     "text": [
      "Updated! 8299.933333333332\n",
      "index_parallel='0070'\n"
     ]
    },
    {
     "name": "stderr",
     "output_type": "stream",
     "text": [
      "\u001b[32m[I 2022-08-16 01:34:11,805]\u001b[0m Trial 70 finished with value: 8048.522222222222 and parameters: {'kErase': 2, 'kRadius': 4, 'kAnnealingA': 10.526889842588272, 'kAnnealingB': 1.970031179668995, 'kAnnealingStart': 1.0971776428919708, 'kSkipRatio': 0.6302168987783809, 'kTargetDeterminationTrials': 6, 'kAttractionRatio': 0.2714700362415034, 'kMaxAttractionDistance': 12, 'kStartAttraction': 0.5502437078132018}. Best is trial 69 with value: 8299.933333333332.\u001b[0m\n"
     ]
    },
    {
     "name": "stdout",
     "output_type": "stream",
     "text": [
      "index_parallel='0071'\n"
     ]
    },
    {
     "name": "stderr",
     "output_type": "stream",
     "text": [
      "\u001b[32m[I 2022-08-16 01:37:41,048]\u001b[0m Trial 71 finished with value: 8318.83888888889 and parameters: {'kErase': 2, 'kRadius': 4, 'kAnnealingA': 5.55850074555482, 'kAnnealingB': 1.7336513968803575, 'kAnnealingStart': 18.13156557065462, 'kSkipRatio': 0.6540734612370651, 'kTargetDeterminationTrials': 7, 'kAttractionRatio': 0.32793873603644924, 'kMaxAttractionDistance': 7, 'kStartAttraction': 0.4266643314306469}. Best is trial 71 with value: 8318.83888888889.\u001b[0m\n"
     ]
    },
    {
     "name": "stdout",
     "output_type": "stream",
     "text": [
      "Updated! 8318.83888888889\n",
      "index_parallel='0072'\n"
     ]
    },
    {
     "name": "stderr",
     "output_type": "stream",
     "text": [
      "\u001b[32m[I 2022-08-16 01:41:10,535]\u001b[0m Trial 72 finished with value: 8351.388888888889 and parameters: {'kErase': 2, 'kRadius': 4, 'kAnnealingA': 6.908827907893896, 'kAnnealingB': 1.7485593184914574, 'kAnnealingStart': 18.789265881349472, 'kSkipRatio': 0.6457875911917338, 'kTargetDeterminationTrials': 7, 'kAttractionRatio': 0.33428190032429533, 'kMaxAttractionDistance': 7, 'kStartAttraction': 0.5475356382323374}. Best is trial 72 with value: 8351.388888888889.\u001b[0m\n"
     ]
    },
    {
     "name": "stdout",
     "output_type": "stream",
     "text": [
      "Updated! 8351.388888888889\n",
      "index_parallel='0073'\n"
     ]
    },
    {
     "name": "stderr",
     "output_type": "stream",
     "text": [
      "\u001b[32m[I 2022-08-16 01:44:39,888]\u001b[0m Trial 73 finished with value: 7956.388888888889 and parameters: {'kErase': 2, 'kRadius': 4, 'kAnnealingA': 7.243636738088171, 'kAnnealingB': 1.7443072161232198, 'kAnnealingStart': 19.273466419484226, 'kSkipRatio': 0.606211405186384, 'kTargetDeterminationTrials': 4, 'kAttractionRatio': 0.39387699894848005, 'kMaxAttractionDistance': 4, 'kStartAttraction': 0.39836154312562766}. Best is trial 72 with value: 8351.388888888889.\u001b[0m\n"
     ]
    },
    {
     "name": "stdout",
     "output_type": "stream",
     "text": [
      "index_parallel='0074'\n"
     ]
    },
    {
     "name": "stderr",
     "output_type": "stream",
     "text": [
      "\u001b[32m[I 2022-08-16 01:48:09,320]\u001b[0m Trial 74 finished with value: 8209.344444444445 and parameters: {'kErase': 2, 'kRadius': 4, 'kAnnealingA': 9.377811816585044, 'kAnnealingB': 1.5768794865309113, 'kAnnealingStart': 26.783184106564185, 'kSkipRatio': 0.6475245101083861, 'kTargetDeterminationTrials': 8, 'kAttractionRatio': 0.3251411855316373, 'kMaxAttractionDistance': 6, 'kStartAttraction': 0.6287854755975197}. Best is trial 72 with value: 8351.388888888889.\u001b[0m\n"
     ]
    },
    {
     "name": "stdout",
     "output_type": "stream",
     "text": [
      "index_parallel='0075'\n"
     ]
    },
    {
     "name": "stderr",
     "output_type": "stream",
     "text": [
      "\u001b[32m[I 2022-08-16 01:51:38,564]\u001b[0m Trial 75 finished with value: 7970.866666666667 and parameters: {'kErase': 2, 'kRadius': 4, 'kAnnealingA': 9.325134719742547, 'kAnnealingB': 1.581501583331588, 'kAnnealingStart': 33.76014101013423, 'kSkipRatio': 0.5843546490524731, 'kTargetDeterminationTrials': 5, 'kAttractionRatio': 0.22496007066051357, 'kMaxAttractionDistance': 7, 'kStartAttraction': 0.7677592676667189}. Best is trial 72 with value: 8351.388888888889.\u001b[0m\n"
     ]
    },
    {
     "name": "stdout",
     "output_type": "stream",
     "text": [
      "index_parallel='0076'\n"
     ]
    },
    {
     "name": "stderr",
     "output_type": "stream",
     "text": [
      "\u001b[32m[I 2022-08-16 01:55:07,427]\u001b[0m Trial 76 finished with value: 8110.844444444445 and parameters: {'kErase': 1, 'kRadius': 4, 'kAnnealingA': 8.653321091132272, 'kAnnealingB': 1.9194105781552548, 'kAnnealingStart': 25.816243472389946, 'kSkipRatio': 0.6479507581875239, 'kTargetDeterminationTrials': 9, 'kAttractionRatio': 0.3125597954513726, 'kMaxAttractionDistance': 5, 'kStartAttraction': 0.5237771780346766}. Best is trial 72 with value: 8351.388888888889.\u001b[0m\n"
     ]
    },
    {
     "name": "stdout",
     "output_type": "stream",
     "text": [
      "index_parallel='0077'\n"
     ]
    },
    {
     "name": "stderr",
     "output_type": "stream",
     "text": [
      "\u001b[32m[I 2022-08-16 01:58:37,138]\u001b[0m Trial 77 finished with value: 7764.444444444444 and parameters: {'kErase': 2, 'kRadius': 5, 'kAnnealingA': 6.770868324804285, 'kAnnealingB': 2.0747051387313395, 'kAnnealingStart': 40.4714173288912, 'kSkipRatio': 0.6186476997051452, 'kTargetDeterminationTrials': 7, 'kAttractionRatio': 0.3078577204480992, 'kMaxAttractionDistance': 6, 'kStartAttraction': 0.7167398566995171}. Best is trial 72 with value: 8351.388888888889.\u001b[0m\n"
     ]
    },
    {
     "name": "stdout",
     "output_type": "stream",
     "text": [
      "index_parallel='0078'\n"
     ]
    },
    {
     "name": "stderr",
     "output_type": "stream",
     "text": [
      "\u001b[32m[I 2022-08-16 02:02:06,273]\u001b[0m Trial 78 finished with value: 8242.733333333334 and parameters: {'kErase': 2, 'kRadius': 4, 'kAnnealingA': 12.910541988108417, 'kAnnealingB': 1.6159651604972776, 'kAnnealingStart': 17.82046877693295, 'kSkipRatio': 0.5313108581878878, 'kTargetDeterminationTrials': 9, 'kAttractionRatio': 0.4416996066398108, 'kMaxAttractionDistance': 95, 'kStartAttraction': 0.5966305571390401}. Best is trial 72 with value: 8351.388888888889.\u001b[0m\n"
     ]
    },
    {
     "name": "stdout",
     "output_type": "stream",
     "text": [
      "index_parallel='0079'\n"
     ]
    },
    {
     "name": "stderr",
     "output_type": "stream",
     "text": [
      "\u001b[32m[I 2022-08-16 02:05:35,490]\u001b[0m Trial 79 finished with value: 7943.583333333333 and parameters: {'kErase': 2, 'kRadius': 4, 'kAnnealingA': 12.166309306046585, 'kAnnealingB': 1.6489284929275767, 'kAnnealingStart': 26.042543419092855, 'kSkipRatio': 0.5484291687915153, 'kTargetDeterminationTrials': 8, 'kAttractionRatio': 0.36275893761563605, 'kMaxAttractionDistance': 72, 'kStartAttraction': 0.8938724625022572}. Best is trial 72 with value: 8351.388888888889.\u001b[0m\n"
     ]
    },
    {
     "name": "stdout",
     "output_type": "stream",
     "text": [
      "index_parallel='0080'\n"
     ]
    },
    {
     "name": "stderr",
     "output_type": "stream",
     "text": [
      "\u001b[32m[I 2022-08-16 02:09:04,700]\u001b[0m Trial 80 finished with value: 8237.888888888889 and parameters: {'kErase': 2, 'kRadius': 5, 'kAnnealingA': 12.838399918059483, 'kAnnealingB': 1.809097313884862, 'kAnnealingStart': 17.871701604547617, 'kSkipRatio': 0.532303094206602, 'kTargetDeterminationTrials': 6, 'kAttractionRatio': 0.5770278924604595, 'kMaxAttractionDistance': 47, 'kStartAttraction': 0.5656873837208827}. Best is trial 72 with value: 8351.388888888889.\u001b[0m\n"
     ]
    },
    {
     "name": "stdout",
     "output_type": "stream",
     "text": [
      "index_parallel='0081'\n"
     ]
    },
    {
     "name": "stderr",
     "output_type": "stream",
     "text": [
      "\u001b[32m[I 2022-08-16 02:12:34,035]\u001b[0m Trial 81 finished with value: 8232.788888888888 and parameters: {'kErase': 2, 'kRadius': 5, 'kAnnealingA': 13.773291493639764, 'kAnnealingB': 1.7983723167686525, 'kAnnealingStart': 18.185564885444727, 'kSkipRatio': 0.5197369079033295, 'kTargetDeterminationTrials': 6, 'kAttractionRatio': 0.5901200083571387, 'kMaxAttractionDistance': 47, 'kStartAttraction': 0.5886271328173763}. Best is trial 72 with value: 8351.388888888889.\u001b[0m\n"
     ]
    },
    {
     "name": "stdout",
     "output_type": "stream",
     "text": [
      "index_parallel='0082'\n"
     ]
    },
    {
     "name": "stderr",
     "output_type": "stream",
     "text": [
      "\u001b[32m[I 2022-08-16 02:16:03,337]\u001b[0m Trial 82 finished with value: 8198.572222222223 and parameters: {'kErase': 2, 'kRadius': 5, 'kAnnealingA': 14.55964041071041, 'kAnnealingB': 2.0404864587381057, 'kAnnealingStart': 17.310329938145866, 'kSkipRatio': 0.5259592903721846, 'kTargetDeterminationTrials': 7, 'kAttractionRatio': 0.6924365888479352, 'kMaxAttractionDistance': 82, 'kStartAttraction': 0.5421709874873977}. Best is trial 72 with value: 8351.388888888889.\u001b[0m\n"
     ]
    },
    {
     "name": "stdout",
     "output_type": "stream",
     "text": [
      "index_parallel='0083'\n"
     ]
    },
    {
     "name": "stderr",
     "output_type": "stream",
     "text": [
      "\u001b[32m[I 2022-08-16 02:19:32,444]\u001b[0m Trial 83 finished with value: 8193.722222222223 and parameters: {'kErase': 2, 'kRadius': 5, 'kAnnealingA': 13.524321751927268, 'kAnnealingB': 1.8089031101756645, 'kAnnealingStart': 11.501415873948796, 'kSkipRatio': 0.5023998847493781, 'kTargetDeterminationTrials': 6, 'kAttractionRatio': 0.467053163915507, 'kMaxAttractionDistance': 46, 'kStartAttraction': 0.3872367796711441}. Best is trial 72 with value: 8351.388888888889.\u001b[0m\n"
     ]
    },
    {
     "name": "stdout",
     "output_type": "stream",
     "text": [
      "index_parallel='0084'\n"
     ]
    },
    {
     "name": "stderr",
     "output_type": "stream",
     "text": [
      "\u001b[32m[I 2022-08-16 02:23:02,017]\u001b[0m Trial 84 finished with value: 8136.25 and parameters: {'kErase': 2, 'kRadius': 5, 'kAnnealingA': 12.601213649402126, 'kAnnealingB': 1.7377025894646314, 'kAnnealingStart': 18.598597881222894, 'kSkipRatio': 0.4680710423233322, 'kTargetDeterminationTrials': 3, 'kAttractionRatio': 0.5253757093401754, 'kMaxAttractionDistance': 96, 'kStartAttraction': 0.4764254451456894}. Best is trial 72 with value: 8351.388888888889.\u001b[0m\n"
     ]
    },
    {
     "name": "stdout",
     "output_type": "stream",
     "text": [
      "index_parallel='0085'\n"
     ]
    },
    {
     "name": "stderr",
     "output_type": "stream",
     "text": [
      "\u001b[32m[I 2022-08-16 02:26:31,248]\u001b[0m Trial 85 finished with value: 8234.66111111111 and parameters: {'kErase': 2, 'kRadius': 5, 'kAnnealingA': 13.156517861922483, 'kAnnealingB': 1.871374979525052, 'kAnnealingStart': 15.750050795856401, 'kSkipRatio': 0.5379486082879099, 'kTargetDeterminationTrials': 9, 'kAttractionRatio': 0.5731318751486024, 'kMaxAttractionDistance': 55, 'kStartAttraction': 0.6073555106257634}. Best is trial 72 with value: 8351.388888888889.\u001b[0m\n"
     ]
    },
    {
     "name": "stdout",
     "output_type": "stream",
     "text": [
      "index_parallel='0086'\n"
     ]
    },
    {
     "name": "stderr",
     "output_type": "stream",
     "text": [
      "\u001b[32m[I 2022-08-16 02:30:00,408]\u001b[0m Trial 86 finished with value: 8138.438888888889 and parameters: {'kErase': 2, 'kRadius': 5, 'kAnnealingA': 12.885939090530957, 'kAnnealingB': 1.8753444676791018, 'kAnnealingStart': 22.765138609078935, 'kSkipRatio': 0.5287481496559046, 'kTargetDeterminationTrials': 4, 'kAttractionRatio': 0.6148774335460903, 'kMaxAttractionDistance': 59, 'kStartAttraction': 0.31064515356885203}. Best is trial 72 with value: 8351.388888888889.\u001b[0m\n"
     ]
    },
    {
     "name": "stdout",
     "output_type": "stream",
     "text": [
      "index_parallel='0087'\n"
     ]
    },
    {
     "name": "stderr",
     "output_type": "stream",
     "text": [
      "\u001b[32m[I 2022-08-16 02:33:29,505]\u001b[0m Trial 87 finished with value: 8226.711111111112 and parameters: {'kErase': 1, 'kRadius': 5, 'kAnnealingA': 11.22450262745208, 'kAnnealingB': 2.2663645955113516, 'kAnnealingStart': 15.856418849657798, 'kSkipRatio': 0.5612722291035485, 'kTargetDeterminationTrials': 9, 'kAttractionRatio': 0.433595485289518, 'kMaxAttractionDistance': 53, 'kStartAttraction': 0.6000385606440637}. Best is trial 72 with value: 8351.388888888889.\u001b[0m\n"
     ]
    },
    {
     "name": "stdout",
     "output_type": "stream",
     "text": [
      "index_parallel='0088'\n"
     ]
    },
    {
     "name": "stderr",
     "output_type": "stream",
     "text": [
      "\u001b[32m[I 2022-08-16 02:36:58,760]\u001b[0m Trial 88 finished with value: 8243.166666666666 and parameters: {'kErase': 1, 'kRadius': 6, 'kAnnealingA': 11.560997994954928, 'kAnnealingB': 2.258291929648741, 'kAnnealingStart': 13.177841364113185, 'kSkipRatio': 0.4795172089662438, 'kTargetDeterminationTrials': 5, 'kAttractionRatio': 0.7755881789915153, 'kMaxAttractionDistance': 44, 'kStartAttraction': 0.7052608279947213}. Best is trial 72 with value: 8351.388888888889.\u001b[0m\n"
     ]
    },
    {
     "name": "stdout",
     "output_type": "stream",
     "text": [
      "index_parallel='0089'\n"
     ]
    },
    {
     "name": "stderr",
     "output_type": "stream",
     "text": [
      "\u001b[32m[I 2022-08-16 02:40:27,953]\u001b[0m Trial 89 finished with value: 8228.711111111112 and parameters: {'kErase': 1, 'kRadius': 6, 'kAnnealingA': 13.493194181683672, 'kAnnealingB': 2.1778126859316993, 'kAnnealingStart': 13.074453721048476, 'kSkipRatio': 0.4845454925680909, 'kTargetDeterminationTrials': 5, 'kAttractionRatio': 0.8096306537206117, 'kMaxAttractionDistance': 44, 'kStartAttraction': 0.7893885707247571}. Best is trial 72 with value: 8351.388888888889.\u001b[0m\n"
     ]
    },
    {
     "name": "stdout",
     "output_type": "stream",
     "text": [
      "index_parallel='0090'\n"
     ]
    },
    {
     "name": "stderr",
     "output_type": "stream",
     "text": [
      "\u001b[32m[I 2022-08-16 02:43:57,171]\u001b[0m Trial 90 finished with value: 8131.772222222222 and parameters: {'kErase': 1, 'kRadius': 6, 'kAnnealingA': 11.014128047705805, 'kAnnealingB': 2.3916846228990933, 'kAnnealingStart': 18.501764542590102, 'kSkipRatio': 0.46565665956021757, 'kTargetDeterminationTrials': 6, 'kAttractionRatio': 0.5778740530340769, 'kMaxAttractionDistance': 69, 'kStartAttraction': 0.7199917118054953}. Best is trial 72 with value: 8351.388888888889.\u001b[0m\n"
     ]
    },
    {
     "name": "stdout",
     "output_type": "stream",
     "text": [
      "index_parallel='0091'\n"
     ]
    },
    {
     "name": "stderr",
     "output_type": "stream",
     "text": [
      "\u001b[32m[I 2022-08-16 02:47:26,062]\u001b[0m Trial 91 finished with value: 8190.783333333334 and parameters: {'kErase': 1, 'kRadius': 6, 'kAnnealingA': 13.71765244002031, 'kAnnealingB': 2.1726078897146617, 'kAnnealingStart': 13.005151785748478, 'kSkipRatio': 0.49325019936257675, 'kTargetDeterminationTrials': 5, 'kAttractionRatio': 0.7813434450638533, 'kMaxAttractionDistance': 44, 'kStartAttraction': 0.7971504400851286}. Best is trial 72 with value: 8351.388888888889.\u001b[0m\n"
     ]
    },
    {
     "name": "stdout",
     "output_type": "stream",
     "text": [
      "index_parallel='0092'\n"
     ]
    },
    {
     "name": "stderr",
     "output_type": "stream",
     "text": [
      "\u001b[32m[I 2022-08-16 02:50:55,210]\u001b[0m Trial 92 finished with value: 8091.066666666667 and parameters: {'kErase': 1, 'kRadius': 6, 'kAnnealingA': 14.854300559941041, 'kAnnealingB': 2.468873742336217, 'kAnnealingStart': 21.285517494377157, 'kSkipRatio': 0.5057250257598255, 'kTargetDeterminationTrials': 6, 'kAttractionRatio': 0.7660434112346098, 'kMaxAttractionDistance': 49, 'kStartAttraction': 0.8988010899582278}. Best is trial 72 with value: 8351.388888888889.\u001b[0m\n"
     ]
    },
    {
     "name": "stdout",
     "output_type": "stream",
     "text": [
      "index_parallel='0093'\n"
     ]
    },
    {
     "name": "stderr",
     "output_type": "stream",
     "text": [
      "\u001b[32m[I 2022-08-16 02:54:23,997]\u001b[0m Trial 93 finished with value: 8148.077777777778 and parameters: {'kErase': 1, 'kRadius': 6, 'kAnnealingA': 13.574199576230685, 'kAnnealingB': 1.6919210894283092, 'kAnnealingStart': 16.56269162162447, 'kSkipRatio': 0.4792930518653744, 'kTargetDeterminationTrials': 5, 'kAttractionRatio': 0.6474229904200358, 'kMaxAttractionDistance': 34, 'kStartAttraction': 0.42437914619124106}. Best is trial 72 with value: 8351.388888888889.\u001b[0m\n"
     ]
    },
    {
     "name": "stdout",
     "output_type": "stream",
     "text": [
      "index_parallel='0094'\n"
     ]
    },
    {
     "name": "stderr",
     "output_type": "stream",
     "text": [
      "\u001b[32m[I 2022-08-16 02:57:52,854]\u001b[0m Trial 94 finished with value: 8158.227777777778 and parameters: {'kErase': 1, 'kRadius': 6, 'kAnnealingA': 11.966713599856893, 'kAnnealingB': 1.9878911710733664, 'kAnnealingStart': 11.248930397147175, 'kSkipRatio': 0.537446042835683, 'kTargetDeterminationTrials': 7, 'kAttractionRatio': 0.8710737881257702, 'kMaxAttractionDistance': 39, 'kStartAttraction': 0.6549287955420054}. Best is trial 72 with value: 8351.388888888889.\u001b[0m\n"
     ]
    },
    {
     "name": "stdout",
     "output_type": "stream",
     "text": [
      "index_parallel='0095'\n"
     ]
    },
    {
     "name": "stderr",
     "output_type": "stream",
     "text": [
      "\u001b[32m[I 2022-08-16 03:01:22,150]\u001b[0m Trial 95 finished with value: 7668.261111111111 and parameters: {'kErase': 2, 'kRadius': 6, 'kAnnealingA': 13.004697690574082, 'kAnnealingB': 2.1725566940942462, 'kAnnealingStart': 13.351692457667998, 'kSkipRatio': 0.444907959631494, 'kTargetDeterminationTrials': 8, 'kAttractionRatio': 0.7338535961899757, 'kMaxAttractionDistance': 67, 'kStartAttraction': 0.009075013910757084}. Best is trial 72 with value: 8351.388888888889.\u001b[0m\n"
     ]
    },
    {
     "name": "stdout",
     "output_type": "stream",
     "text": [
      "index_parallel='0096'\n"
     ]
    },
    {
     "name": "stderr",
     "output_type": "stream",
     "text": [
      "\u001b[32m[I 2022-08-16 03:04:51,000]\u001b[0m Trial 96 finished with value: 8128.327777777778 and parameters: {'kErase': 1, 'kRadius': 5, 'kAnnealingA': 10.249489792489005, 'kAnnealingB': 1.6373747673655406, 'kAnnealingStart': 19.334731876049595, 'kSkipRatio': 0.4147045047174141, 'kTargetDeterminationTrials': 9, 'kAttractionRatio': 0.5814123609269328, 'kMaxAttractionDistance': 59, 'kStartAttraction': 0.5723135311450241}. Best is trial 72 with value: 8351.388888888889.\u001b[0m\n"
     ]
    },
    {
     "name": "stdout",
     "output_type": "stream",
     "text": [
      "index_parallel='0097'\n"
     ]
    },
    {
     "name": "stderr",
     "output_type": "stream",
     "text": [
      "\u001b[32m[I 2022-08-16 03:08:20,192]\u001b[0m Trial 97 finished with value: 8283.95 and parameters: {'kErase': 2, 'kRadius': 4, 'kAnnealingA': 14.09965923044713, 'kAnnealingB': 1.881363759061448, 'kAnnealingStart': 15.435868305749478, 'kSkipRatio': 0.5161036766170658, 'kTargetDeterminationTrials': 7, 'kAttractionRatio': 0.42352916114673755, 'kMaxAttractionDistance': 44, 'kStartAttraction': 0.36658543935858434}. Best is trial 72 with value: 8351.388888888889.\u001b[0m\n"
     ]
    },
    {
     "name": "stdout",
     "output_type": "stream",
     "text": [
      "index_parallel='0098'\n"
     ]
    },
    {
     "name": "stderr",
     "output_type": "stream",
     "text": [
      "\u001b[32m[I 2022-08-16 03:11:49,645]\u001b[0m Trial 98 finished with value: 8058.066666666667 and parameters: {'kErase': 2, 'kRadius': 4, 'kAnnealingA': 12.324833353002175, 'kAnnealingB': 1.454443010861638, 'kAnnealingStart': 30.108350469908295, 'kSkipRatio': 0.5728067732202315, 'kTargetDeterminationTrials': 7, 'kAttractionRatio': 0.46260620971462707, 'kMaxAttractionDistance': 83, 'kStartAttraction': 0.3636864935338997}. Best is trial 72 with value: 8351.388888888889.\u001b[0m\n"
     ]
    },
    {
     "name": "stdout",
     "output_type": "stream",
     "text": [
      "index_parallel='0099'\n"
     ]
    },
    {
     "name": "stderr",
     "output_type": "stream",
     "text": [
      "\u001b[32m[I 2022-08-16 03:15:18,970]\u001b[0m Trial 99 finished with value: 8156.266666666666 and parameters: {'kErase': 2, 'kRadius': 4, 'kAnnealingA': 14.240798938364827, 'kAnnealingB': 1.8821489000054639, 'kAnnealingStart': 22.955762078842778, 'kSkipRatio': 0.5163493244079924, 'kTargetDeterminationTrials': 10, 'kAttractionRatio': 0.4058805174460718, 'kMaxAttractionDistance': 36, 'kStartAttraction': 0.4589077660499439}. Best is trial 72 with value: 8351.388888888889.\u001b[0m\n"
     ]
    },
    {
     "name": "stdout",
     "output_type": "stream",
     "text": [
      "index_parallel='0100'\n"
     ]
    },
    {
     "name": "stderr",
     "output_type": "stream",
     "text": [
      "\u001b[32m[I 2022-08-16 03:18:48,329]\u001b[0m Trial 100 finished with value: 8354.877777777778 and parameters: {'kErase': 2, 'kRadius': 4, 'kAnnealingA': 11.915575177701148, 'kAnnealingB': 1.771758016013309, 'kAnnealingStart': 15.113081192758724, 'kSkipRatio': 0.5899560233183961, 'kTargetDeterminationTrials': 8, 'kAttractionRatio': 0.504616459612114, 'kMaxAttractionDistance': 49, 'kStartAttraction': 0.5008414634719126}. Best is trial 100 with value: 8354.877777777778.\u001b[0m\n"
     ]
    },
    {
     "name": "stdout",
     "output_type": "stream",
     "text": [
      "Updated! 8354.877777777778\n",
      "index_parallel='0101'\n"
     ]
    },
    {
     "name": "stderr",
     "output_type": "stream",
     "text": [
      "\u001b[32m[I 2022-08-16 03:22:18,005]\u001b[0m Trial 101 finished with value: 8299.877777777778 and parameters: {'kErase': 2, 'kRadius': 4, 'kAnnealingA': 14.980596379888109, 'kAnnealingB': 1.7591969114447952, 'kAnnealingStart': 17.346003548377517, 'kSkipRatio': 0.5864657271738638, 'kTargetDeterminationTrials': 8, 'kAttractionRatio': 0.49026890592816025, 'kMaxAttractionDistance': 52, 'kStartAttraction': 0.5110404332819499}. Best is trial 100 with value: 8354.877777777778.\u001b[0m\n"
     ]
    },
    {
     "name": "stdout",
     "output_type": "stream",
     "text": [
      "index_parallel='0102'\n"
     ]
    },
    {
     "name": "stderr",
     "output_type": "stream",
     "text": [
      "\u001b[32m[I 2022-08-16 03:25:47,493]\u001b[0m Trial 102 finished with value: 8282.83888888889 and parameters: {'kErase': 2, 'kRadius': 4, 'kAnnealingA': 14.929849657538231, 'kAnnealingB': 1.6183630311465165, 'kAnnealingStart': 15.399476076140681, 'kSkipRatio': 0.5878097025363193, 'kTargetDeterminationTrials': 10, 'kAttractionRatio': 0.5051993833971268, 'kMaxAttractionDistance': 51, 'kStartAttraction': 0.4937353084294716}. Best is trial 100 with value: 8354.877777777778.\u001b[0m\n"
     ]
    },
    {
     "name": "stdout",
     "output_type": "stream",
     "text": [
      "index_parallel='0103'\n"
     ]
    },
    {
     "name": "stderr",
     "output_type": "stream",
     "text": [
      "\u001b[32m[I 2022-08-16 03:29:17,128]\u001b[0m Trial 103 finished with value: 8282.227777777778 and parameters: {'kErase': 2, 'kRadius': 4, 'kAnnealingA': 14.713435890589606, 'kAnnealingB': 1.742227216960266, 'kAnnealingStart': 14.781281641412512, 'kSkipRatio': 0.5828184215474537, 'kTargetDeterminationTrials': 10, 'kAttractionRatio': 0.28242471391238955, 'kMaxAttractionDistance': 41, 'kStartAttraction': 0.5077858163936669}. Best is trial 100 with value: 8354.877777777778.\u001b[0m\n"
     ]
    },
    {
     "name": "stdout",
     "output_type": "stream",
     "text": [
      "index_parallel='0104'\n"
     ]
    },
    {
     "name": "stderr",
     "output_type": "stream",
     "text": [
      "\u001b[32m[I 2022-08-16 03:32:46,492]\u001b[0m Trial 104 finished with value: 8239.805555555555 and parameters: {'kErase': 2, 'kRadius': 4, 'kAnnealingA': 14.855085430353052, 'kAnnealingB': 1.7282631910055766, 'kAnnealingStart': 14.839739663336104, 'kSkipRatio': 0.5917845796078689, 'kTargetDeterminationTrials': 10, 'kAttractionRatio': 0.2786707112337199, 'kMaxAttractionDistance': 42, 'kStartAttraction': 0.31438925143724983}. Best is trial 100 with value: 8354.877777777778.\u001b[0m\n"
     ]
    },
    {
     "name": "stdout",
     "output_type": "stream",
     "text": [
      "index_parallel='0105'\n"
     ]
    },
    {
     "name": "stderr",
     "output_type": "stream",
     "text": [
      "\u001b[32m[I 2022-08-16 03:36:15,775]\u001b[0m Trial 105 finished with value: 8206.672222222222 and parameters: {'kErase': 2, 'kRadius': 4, 'kAnnealingA': 14.164061372214695, 'kAnnealingB': 1.6074875351949178, 'kAnnealingStart': 10.108222484892641, 'kSkipRatio': 0.5581987054072094, 'kTargetDeterminationTrials': 8, 'kAttractionRatio': 0.23054072621038238, 'kMaxAttractionDistance': 65, 'kStartAttraction': 0.36895763555631}. Best is trial 100 with value: 8354.877777777778.\u001b[0m\n"
     ]
    },
    {
     "name": "stdout",
     "output_type": "stream",
     "text": [
      "index_parallel='0106'\n"
     ]
    },
    {
     "name": "stderr",
     "output_type": "stream",
     "text": [
      "\u001b[32m[I 2022-08-16 03:39:44,944]\u001b[0m Trial 106 finished with value: 8280.233333333334 and parameters: {'kErase': 2, 'kRadius': 4, 'kAnnealingA': 10.812452748545915, 'kAnnealingB': 1.507947304537765, 'kAnnealingStart': 11.941708273652198, 'kSkipRatio': 0.6027580459707286, 'kTargetDeterminationTrials': 10, 'kAttractionRatio': 0.36150781669618487, 'kMaxAttractionDistance': 50, 'kStartAttraction': 0.4877004311925309}. Best is trial 100 with value: 8354.877777777778.\u001b[0m\n"
     ]
    },
    {
     "name": "stdout",
     "output_type": "stream",
     "text": [
      "index_parallel='0107'\n"
     ]
    },
    {
     "name": "stderr",
     "output_type": "stream",
     "text": [
      "\u001b[32m[I 2022-08-16 03:43:14,377]\u001b[0m Trial 107 finished with value: 8302.494444444445 and parameters: {'kErase': 2, 'kRadius': 4, 'kAnnealingA': 11.667382373452448, 'kAnnealingB': 1.4652279935668808, 'kAnnealingStart': 11.709489838906238, 'kSkipRatio': 0.6344581512799207, 'kTargetDeterminationTrials': 11, 'kAttractionRatio': 0.3570846311913344, 'kMaxAttractionDistance': 53, 'kStartAttraction': 0.47334118067972214}. Best is trial 100 with value: 8354.877777777778.\u001b[0m\n"
     ]
    },
    {
     "name": "stdout",
     "output_type": "stream",
     "text": [
      "index_parallel='0108'\n"
     ]
    },
    {
     "name": "stderr",
     "output_type": "stream",
     "text": [
      "\u001b[32m[I 2022-08-16 03:46:43,654]\u001b[0m Trial 108 finished with value: 8207.327777777778 and parameters: {'kErase': 2, 'kRadius': 4, 'kAnnealingA': 14.97168589015171, 'kAnnealingB': 1.3518756274236954, 'kAnnealingStart': 11.870951187271059, 'kSkipRatio': 0.5973908450498674, 'kTargetDeterminationTrials': 11, 'kAttractionRatio': 0.35137779880150943, 'kMaxAttractionDistance': 50, 'kStartAttraction': 0.4957339962638236}. Best is trial 100 with value: 8354.877777777778.\u001b[0m\n"
     ]
    },
    {
     "name": "stdout",
     "output_type": "stream",
     "text": [
      "index_parallel='0109'\n"
     ]
    },
    {
     "name": "stderr",
     "output_type": "stream",
     "text": [
      "\u001b[32m[I 2022-08-16 03:50:12,902]\u001b[0m Trial 109 finished with value: 8323.744444444445 and parameters: {'kErase': 2, 'kRadius': 4, 'kAnnealingA': 8.290414990615213, 'kAnnealingB': 1.5410450297990266, 'kAnnealingStart': 20.553764115862144, 'kSkipRatio': 0.6363120075925369, 'kTargetDeterminationTrials': 11, 'kAttractionRatio': 0.17101761285259975, 'kMaxAttractionDistance': 54, 'kStartAttraction': 0.4211122799852351}. Best is trial 100 with value: 8354.877777777778.\u001b[0m\n"
     ]
    },
    {
     "name": "stdout",
     "output_type": "stream",
     "text": [
      "index_parallel='0110'\n"
     ]
    },
    {
     "name": "stderr",
     "output_type": "stream",
     "text": [
      "\u001b[32m[I 2022-08-16 03:53:42,156]\u001b[0m Trial 110 finished with value: 8257.1 and parameters: {'kErase': 2, 'kRadius': 4, 'kAnnealingA': 10.812839631678681, 'kAnnealingB': 1.4927732805529448, 'kAnnealingStart': 20.677680724428406, 'kSkipRatio': 0.6092649048749036, 'kTargetDeterminationTrials': 11, 'kAttractionRatio': 0.13845005030300786, 'kMaxAttractionDistance': 75, 'kStartAttraction': 0.45301421840829526}. Best is trial 100 with value: 8354.877777777778.\u001b[0m\n"
     ]
    },
    {
     "name": "stdout",
     "output_type": "stream",
     "text": [
      "index_parallel='0111'\n"
     ]
    },
    {
     "name": "stderr",
     "output_type": "stream",
     "text": [
      "\u001b[32m[I 2022-08-16 03:57:11,414]\u001b[0m Trial 111 finished with value: 8174.5055555555555 and parameters: {'kErase': 2, 'kRadius': 4, 'kAnnealingA': 10.49983020284121, 'kAnnealingB': 1.5190413782525147, 'kAnnealingStart': 23.930231220574594, 'kSkipRatio': 0.6353829819160147, 'kTargetDeterminationTrials': 11, 'kAttractionRatio': 0.14024744219998647, 'kMaxAttractionDistance': 55, 'kStartAttraction': 0.436693617335815}. Best is trial 100 with value: 8354.877777777778.\u001b[0m\n"
     ]
    },
    {
     "name": "stdout",
     "output_type": "stream",
     "text": [
      "index_parallel='0112'\n"
     ]
    },
    {
     "name": "stderr",
     "output_type": "stream",
     "text": [
      "\u001b[32m[I 2022-08-16 04:00:40,531]\u001b[0m Trial 112 finished with value: 8263.883333333333 and parameters: {'kErase': 2, 'kRadius': 4, 'kAnnealingA': 8.292567148168988, 'kAnnealingB': 1.4882636853268694, 'kAnnealingStart': 14.398414353388358, 'kSkipRatio': 0.6094733634399798, 'kTargetDeterminationTrials': 13, 'kAttractionRatio': 0.211271327810531, 'kMaxAttractionDistance': 74, 'kStartAttraction': 0.3109407091185867}. Best is trial 100 with value: 8354.877777777778.\u001b[0m\n"
     ]
    },
    {
     "name": "stdout",
     "output_type": "stream",
     "text": [
      "index_parallel='0113'\n"
     ]
    },
    {
     "name": "stderr",
     "output_type": "stream",
     "text": [
      "\u001b[32m[I 2022-08-16 04:04:09,969]\u001b[0m Trial 113 finished with value: 8224.522222222222 and parameters: {'kErase': 2, 'kRadius': 4, 'kAnnealingA': 9.75253127714094, 'kAnnealingB': 1.6912732695714994, 'kAnnealingStart': 10.880784159730961, 'kSkipRatio': 0.6203200610621019, 'kTargetDeterminationTrials': 13, 'kAttractionRatio': 0.253266177084608, 'kMaxAttractionDistance': 62, 'kStartAttraction': 0.29713294168355386}. Best is trial 100 with value: 8354.877777777778.\u001b[0m\n"
     ]
    },
    {
     "name": "stdout",
     "output_type": "stream",
     "text": [
      "index_parallel='0114'\n"
     ]
    },
    {
     "name": "stderr",
     "output_type": "stream",
     "text": [
      "\u001b[32m[I 2022-08-16 04:07:39,398]\u001b[0m Trial 114 finished with value: 8052.405555555555 and parameters: {'kErase': 2, 'kRadius': 4, 'kAnnealingA': 8.161723193055233, 'kAnnealingB': 1.5403183413916401, 'kAnnealingStart': 15.512604621990874, 'kSkipRatio': 0.6747498584971159, 'kTargetDeterminationTrials': 15, 'kAttractionRatio': 0.1832835552773063, 'kMaxAttractionDistance': 51, 'kStartAttraction': 0.004802344496547024}. Best is trial 100 with value: 8354.877777777778.\u001b[0m\n"
     ]
    },
    {
     "name": "stdout",
     "output_type": "stream",
     "text": [
      "index_parallel='0115'\n"
     ]
    },
    {
     "name": "stderr",
     "output_type": "stream",
     "text": [
      "\u001b[32m[I 2022-08-16 04:11:08,654]\u001b[0m Trial 115 finished with value: 8256.766666666666 and parameters: {'kErase': 2, 'kRadius': 4, 'kAnnealingA': 6.465456411754637, 'kAnnealingB': 1.761090293572798, 'kAnnealingStart': 14.456749367821281, 'kSkipRatio': 0.6288960430422968, 'kTargetDeterminationTrials': 10, 'kAttractionRatio': 0.20546869969957257, 'kMaxAttractionDistance': 41, 'kStartAttraction': 0.32808236017966563}. Best is trial 100 with value: 8354.877777777778.\u001b[0m\n"
     ]
    },
    {
     "name": "stdout",
     "output_type": "stream",
     "text": [
      "index_parallel='0116'\n"
     ]
    },
    {
     "name": "stderr",
     "output_type": "stream",
     "text": [
      "\u001b[32m[I 2022-08-16 04:14:37,998]\u001b[0m Trial 116 finished with value: 8239.544444444444 and parameters: {'kErase': 2, 'kRadius': 4, 'kAnnealingA': 7.22790708883559, 'kAnnealingB': 1.6753720403108427, 'kAnnealingStart': 9.632243747506072, 'kSkipRatio': 0.5905216891030088, 'kTargetDeterminationTrials': 10, 'kAttractionRatio': 0.3991299293744195, 'kMaxAttractionDistance': 55, 'kStartAttraction': 0.5015351352349869}. Best is trial 100 with value: 8354.877777777778.\u001b[0m\n"
     ]
    },
    {
     "name": "stdout",
     "output_type": "stream",
     "text": [
      "index_parallel='0117'\n"
     ]
    },
    {
     "name": "stderr",
     "output_type": "stream",
     "text": [
      "\u001b[32m[I 2022-08-16 04:18:07,627]\u001b[0m Trial 117 finished with value: 8221.794444444444 and parameters: {'kErase': 2, 'kRadius': 4, 'kAnnealingA': 11.584543580821638, 'kAnnealingB': 1.9282821702614428, 'kAnnealingStart': 16.495867226236022, 'kSkipRatio': 0.6065409547792098, 'kTargetDeterminationTrials': 12, 'kAttractionRatio': 0.3272016974539941, 'kMaxAttractionDistance': 62, 'kStartAttraction': 0.21240800648076263}. Best is trial 100 with value: 8354.877777777778.\u001b[0m\n"
     ]
    },
    {
     "name": "stdout",
     "output_type": "stream",
     "text": [
      "index_parallel='0118'\n"
     ]
    },
    {
     "name": "stderr",
     "output_type": "stream",
     "text": [
      "\u001b[32m[I 2022-08-16 04:21:37,089]\u001b[0m Trial 118 finished with value: 8272.861111111111 and parameters: {'kErase': 2, 'kRadius': 4, 'kAnnealingA': 5.197894493827981, 'kAnnealingB': 1.4610603868483507, 'kAnnealingStart': 13.821378059887968, 'kSkipRatio': 0.6146538393680178, 'kTargetDeterminationTrials': 13, 'kAttractionRatio': 0.29369583939733374, 'kMaxAttractionDistance': 37, 'kStartAttraction': 0.3592290546541994}. Best is trial 100 with value: 8354.877777777778.\u001b[0m\n"
     ]
    },
    {
     "name": "stdout",
     "output_type": "stream",
     "text": [
      "index_parallel='0119'\n"
     ]
    },
    {
     "name": "stderr",
     "output_type": "stream",
     "text": [
      "\u001b[32m[I 2022-08-16 04:25:06,443]\u001b[0m Trial 119 finished with value: 7895.2 and parameters: {'kErase': 2, 'kRadius': 4, 'kAnnealingA': 9.86132053371834, 'kAnnealingB': 1.3541136183285791, 'kAnnealingStart': 12.428866668493137, 'kSkipRatio': 0.6386417561306514, 'kTargetDeterminationTrials': 11, 'kAttractionRatio': 0.4961362995492273, 'kMaxAttractionDistance': 38, 'kStartAttraction': 0.02500624557304914}. Best is trial 100 with value: 8354.877777777778.\u001b[0m\n"
     ]
    },
    {
     "name": "stdout",
     "output_type": "stream",
     "text": [
      "index_parallel='0120'\n"
     ]
    },
    {
     "name": "stderr",
     "output_type": "stream",
     "text": [
      "\u001b[32m[I 2022-08-16 04:28:35,798]\u001b[0m Trial 120 finished with value: 8284.277777777777 and parameters: {'kErase': 2, 'kRadius': 4, 'kAnnealingA': 5.720075650755746, 'kAnnealingB': 1.5907353342358193, 'kAnnealingStart': 7.727645169746768, 'kSkipRatio': 0.6530906460239954, 'kTargetDeterminationTrials': 10, 'kAttractionRatio': 0.2998008577221537, 'kMaxAttractionDistance': 36, 'kStartAttraction': 0.4110305391533921}. Best is trial 100 with value: 8354.877777777778.\u001b[0m\n"
     ]
    },
    {
     "name": "stdout",
     "output_type": "stream",
     "text": [
      "index_parallel='0121'\n"
     ]
    },
    {
     "name": "stderr",
     "output_type": "stream",
     "text": [
      "\u001b[32m[I 2022-08-16 04:32:05,131]\u001b[0m Trial 121 finished with value: 8215.044444444444 and parameters: {'kErase': 2, 'kRadius': 4, 'kAnnealingA': 5.51716824588728, 'kAnnealingB': 1.5562217206193532, 'kAnnealingStart': 7.517352132905025, 'kSkipRatio': 0.6572324244953, 'kTargetDeterminationTrials': 10, 'kAttractionRatio': 0.28023262559189394, 'kMaxAttractionDistance': 33, 'kStartAttraction': 0.37774140777298687}. Best is trial 100 with value: 8354.877777777778.\u001b[0m\n"
     ]
    },
    {
     "name": "stdout",
     "output_type": "stream",
     "text": [
      "index_parallel='0122'\n"
     ]
    },
    {
     "name": "stderr",
     "output_type": "stream",
     "text": [
      "\u001b[32m[I 2022-08-16 04:35:34,376]\u001b[0m Trial 122 finished with value: 8338.555555555555 and parameters: {'kErase': 2, 'kRadius': 4, 'kAnnealingA': 5.1475027783633385, 'kAnnealingB': 1.761204959836583, 'kAnnealingStart': 20.84384288966674, 'kSkipRatio': 0.6837403030240474, 'kTargetDeterminationTrials': 9, 'kAttractionRatio': 0.2909175695661817, 'kMaxAttractionDistance': 36, 'kStartAttraction': 0.4222859769607084}. Best is trial 100 with value: 8354.877777777778.\u001b[0m\n"
     ]
    },
    {
     "name": "stdout",
     "output_type": "stream",
     "text": [
      "index_parallel='0123'\n"
     ]
    },
    {
     "name": "stderr",
     "output_type": "stream",
     "text": [
      "\u001b[32m[I 2022-08-16 04:39:03,725]\u001b[0m Trial 123 finished with value: 8296.222222222223 and parameters: {'kErase': 2, 'kRadius': 4, 'kAnnealingA': 6.185524877927764, 'kAnnealingB': 1.7583211798019633, 'kAnnealingStart': 21.77413490191242, 'kSkipRatio': 0.6859597227897661, 'kTargetDeterminationTrials': 9, 'kAttractionRatio': 0.3552411705029236, 'kMaxAttractionDistance': 29, 'kStartAttraction': 0.40438388117109875}. Best is trial 100 with value: 8354.877777777778.\u001b[0m\n"
     ]
    },
    {
     "name": "stdout",
     "output_type": "stream",
     "text": [
      "index_parallel='0124'\n"
     ]
    },
    {
     "name": "stderr",
     "output_type": "stream",
     "text": [
      "\u001b[32m[I 2022-08-16 04:42:33,275]\u001b[0m Trial 124 finished with value: 8226.905555555555 and parameters: {'kErase': 2, 'kRadius': 4, 'kAnnealingA': 6.3607926443244995, 'kAnnealingB': 1.839703371957433, 'kAnnealingStart': 27.33139623253432, 'kSkipRatio': 0.6831506041990617, 'kTargetDeterminationTrials': 9, 'kAttractionRatio': 0.2546280906877053, 'kMaxAttractionDistance': 31, 'kStartAttraction': 0.40436771504506575}. Best is trial 100 with value: 8354.877777777778.\u001b[0m\n"
     ]
    },
    {
     "name": "stdout",
     "output_type": "stream",
     "text": [
      "index_parallel='0125'\n"
     ]
    },
    {
     "name": "stderr",
     "output_type": "stream",
     "text": [
      "\u001b[32m[I 2022-08-16 04:46:02,581]\u001b[0m Trial 125 finished with value: 8167.75 and parameters: {'kErase': 2, 'kRadius': 4, 'kAnnealingA': 7.616772428313775, 'kAnnealingB': 1.7511546593335783, 'kAnnealingStart': 21.087111068349664, 'kSkipRatio': 0.6698022965501611, 'kTargetDeterminationTrials': 8, 'kAttractionRatio': 0.33543007582429596, 'kMaxAttractionDistance': 40, 'kStartAttraction': 0.042339068537779745}. Best is trial 100 with value: 8354.877777777778.\u001b[0m\n"
     ]
    },
    {
     "name": "stdout",
     "output_type": "stream",
     "text": [
      "index_parallel='0126'\n"
     ]
    },
    {
     "name": "stderr",
     "output_type": "stream",
     "text": [
      "\u001b[32m[I 2022-08-16 04:49:32,073]\u001b[0m Trial 126 finished with value: 8318.233333333334 and parameters: {'kErase': 2, 'kRadius': 4, 'kAnnealingA': 5.88903499741047, 'kAnnealingB': 1.9755975072392034, 'kAnnealingStart': 21.885139938187876, 'kSkipRatio': 0.6444288702190608, 'kTargetDeterminationTrials': 7, 'kAttractionRatio': 0.406459058350502, 'kMaxAttractionDistance': 35, 'kStartAttraction': 0.5173022470535156}. Best is trial 100 with value: 8354.877777777778.\u001b[0m\n"
     ]
    },
    {
     "name": "stdout",
     "output_type": "stream",
     "text": [
      "index_parallel='0127'\n"
     ]
    },
    {
     "name": "stderr",
     "output_type": "stream",
     "text": [
      "\u001b[32m[I 2022-08-16 04:53:01,814]\u001b[0m Trial 127 finished with value: 8187.8 and parameters: {'kErase': 2, 'kRadius': 4, 'kAnnealingA': 5.708964270993364, 'kAnnealingB': 1.984298657792926, 'kAnnealingStart': 24.317499717023978, 'kSkipRatio': 0.6477388045477668, 'kTargetDeterminationTrials': 7, 'kAttractionRatio': 0.4142851366706828, 'kMaxAttractionDistance': 29, 'kStartAttraction': 0.2800962389022092}. Best is trial 100 with value: 8354.877777777778.\u001b[0m\n"
     ]
    },
    {
     "name": "stdout",
     "output_type": "stream",
     "text": [
      "index_parallel='0128'\n"
     ]
    },
    {
     "name": "stderr",
     "output_type": "stream",
     "text": [
      "\u001b[32m[I 2022-08-16 04:56:31,342]\u001b[0m Trial 128 finished with value: 8277.116666666667 and parameters: {'kErase': 2, 'kRadius': 4, 'kAnnealingA': 4.76870609002296, 'kAnnealingB': 2.058726263430473, 'kAnnealingStart': 22.034378460133944, 'kSkipRatio': 0.6826200190413947, 'kTargetDeterminationTrials': 8, 'kAttractionRatio': 0.5174641220207902, 'kMaxAttractionDistance': 34, 'kStartAttraction': 0.42415811574366363}. Best is trial 100 with value: 8354.877777777778.\u001b[0m\n"
     ]
    },
    {
     "name": "stdout",
     "output_type": "stream",
     "text": [
      "index_parallel='0129'\n"
     ]
    },
    {
     "name": "stderr",
     "output_type": "stream",
     "text": [
      "\u001b[32m[I 2022-08-16 05:00:00,733]\u001b[0m Trial 129 finished with value: 8184.761111111111 and parameters: {'kErase': 2, 'kRadius': 4, 'kAnnealingA': 6.03253419437598, 'kAnnealingB': 1.6258175359449867, 'kAnnealingStart': 31.052516798408416, 'kSkipRatio': 0.6571608202007406, 'kTargetDeterminationTrials': 9, 'kAttractionRatio': 0.3885516514988394, 'kMaxAttractionDistance': 26, 'kStartAttraction': 0.6677402989682992}. Best is trial 100 with value: 8354.877777777778.\u001b[0m\n"
     ]
    },
    {
     "name": "stdout",
     "output_type": "stream",
     "text": [
      "index_parallel='0130'\n"
     ]
    },
    {
     "name": "stderr",
     "output_type": "stream",
     "text": [
      "\u001b[32m[I 2022-08-16 05:03:30,822]\u001b[0m Trial 130 finished with value: 7884.938888888889 and parameters: {'kErase': 5, 'kRadius': 4, 'kAnnealingA': 7.132652934207521, 'kAnnealingB': 1.8092487825472923, 'kAnnealingStart': 19.42913053513174, 'kSkipRatio': 0.6375380453293947, 'kTargetDeterminationTrials': 7, 'kAttractionRatio': 0.44152617868683675, 'kMaxAttractionDistance': 28, 'kStartAttraction': 0.3470742722005417}. Best is trial 100 with value: 8354.877777777778.\u001b[0m\n"
     ]
    },
    {
     "name": "stdout",
     "output_type": "stream",
     "text": [
      "index_parallel='0131'\n"
     ]
    },
    {
     "name": "stderr",
     "output_type": "stream",
     "text": [
      "\u001b[32m[I 2022-08-16 05:07:00,217]\u001b[0m Trial 131 finished with value: 8271.344444444445 and parameters: {'kErase': 2, 'kRadius': 4, 'kAnnealingA': 4.069402135275583, 'kAnnealingB': 1.7215981066117052, 'kAnnealingStart': 17.272442459024894, 'kSkipRatio': 0.625912716507431, 'kTargetDeterminationTrials': 9, 'kAttractionRatio': 0.30628621195540295, 'kMaxAttractionDistance': 32, 'kStartAttraction': 0.5455384991550973}. Best is trial 100 with value: 8354.877777777778.\u001b[0m\n"
     ]
    },
    {
     "name": "stdout",
     "output_type": "stream",
     "text": [
      "index_parallel='0133'\n"
     ]
    },
    {
     "name": "stderr",
     "output_type": "stream",
     "text": [
      "\u001b[32m[I 2022-08-16 05:10:29,863]\u001b[0m Trial 133 finished with value: 8291.5 and parameters: {'kErase': 2, 'kRadius': 4, 'kAnnealingA': 14.32555352863762, 'kAnnealingB': 1.9280901477880372, 'kAnnealingStart': 20.08196733005795, 'kSkipRatio': 0.6666714030968272, 'kTargetDeterminationTrials': 8, 'kAttractionRatio': 0.17111640399792974, 'kMaxAttractionDistance': 43, 'kStartAttraction': 0.505823396493219}. Best is trial 100 with value: 8354.877777777778.\u001b[0m\n"
     ]
    },
    {
     "name": "stdout",
     "output_type": "stream",
     "text": [
      "index_parallel='0135'\n"
     ]
    },
    {
     "name": "stderr",
     "output_type": "stream",
     "text": [
      "\u001b[32m[I 2022-08-16 05:13:59,389]\u001b[0m Trial 135 finished with value: 8294.822222222223 and parameters: {'kErase': 2, 'kRadius': 4, 'kAnnealingA': 8.933010664360978, 'kAnnealingB': 1.838640051739414, 'kAnnealingStart': 20.143754452013233, 'kSkipRatio': 0.687289860251138, 'kTargetDeterminationTrials': 8, 'kAttractionRatio': 0.11754433282310747, 'kMaxAttractionDistance': 46, 'kStartAttraction': 0.42533589951987344}. Best is trial 100 with value: 8354.877777777778.\u001b[0m\n"
     ]
    },
    {
     "name": "stdout",
     "output_type": "stream",
     "text": [
      "index_parallel='0137'\n"
     ]
    },
    {
     "name": "stderr",
     "output_type": "stream",
     "text": [
      "\u001b[32m[I 2022-08-16 05:17:28,608]\u001b[0m Trial 137 finished with value: 8303.883333333333 and parameters: {'kErase': 2, 'kRadius': 4, 'kAnnealingA': 8.719619319078893, 'kAnnealingB': 1.8658398184618004, 'kAnnealingStart': 24.435618305917536, 'kSkipRatio': 0.6899398086847108, 'kTargetDeterminationTrials': 7, 'kAttractionRatio': 0.22707064876245275, 'kMaxAttractionDistance': 36, 'kStartAttraction': 0.6423677673030734}. Best is trial 100 with value: 8354.877777777778.\u001b[0m\n"
     ]
    },
    {
     "name": "stdout",
     "output_type": "stream",
     "text": [
      "index_parallel='0139'\n"
     ]
    },
    {
     "name": "stderr",
     "output_type": "stream",
     "text": [
      "\u001b[32m[I 2022-08-16 05:20:58,082]\u001b[0m Trial 139 finished with value: 7910.544444444445 and parameters: {'kErase': 2, 'kRadius': 4, 'kAnnealingA': 8.523646125757104, 'kAnnealingB': 1.9819816522567109, 'kAnnealingStart': 35.07408087976374, 'kSkipRatio': 0.7066938849279095, 'kTargetDeterminationTrials': 8, 'kAttractionRatio': 0.11882138699328437, 'kMaxAttractionDistance': 48, 'kStartAttraction': 0.7613257477355951}. Best is trial 100 with value: 8354.877777777778.\u001b[0m\n"
     ]
    },
    {
     "name": "stdout",
     "output_type": "stream",
     "text": [
      "index_parallel='0141'\n"
     ]
    },
    {
     "name": "stderr",
     "output_type": "stream",
     "text": [
      "\u001b[32m[I 2022-08-16 05:24:27,511]\u001b[0m Trial 141 finished with value: 8141.811111111111 and parameters: {'kErase': 2, 'kRadius': 4, 'kAnnealingA': 6.9253187051474345, 'kAnnealingB': 2.1078139080409932, 'kAnnealingStart': 27.36183508993724, 'kSkipRatio': 0.6934300775218427, 'kTargetDeterminationTrials': 1, 'kAttractionRatio': 0.15706226839572915, 'kMaxAttractionDistance': 36, 'kStartAttraction': 0.6712537624412265}. Best is trial 100 with value: 8354.877777777778.\u001b[0m\n"
     ]
    },
    {
     "name": "stdout",
     "output_type": "stream",
     "text": [
      "index_parallel='0143'\n"
     ]
    },
    {
     "name": "stderr",
     "output_type": "stream",
     "text": [
      "\u001b[32m[I 2022-08-16 05:27:58,368]\u001b[0m Trial 143 finished with value: 8301.805555555555 and parameters: {'kErase': 2, 'kRadius': 4, 'kAnnealingA': 5.451073920808803, 'kAnnealingB': 1.925428520835816, 'kAnnealingStart': 23.155728553807993, 'kSkipRatio': 0.672819970339045, 'kTargetDeterminationTrials': 7, 'kAttractionRatio': 0.22575603857778376, 'kMaxAttractionDistance': 36, 'kStartAttraction': 0.6014833997557583}. Best is trial 100 with value: 8354.877777777778.\u001b[0m\n"
     ]
    },
    {
     "name": "stdout",
     "output_type": "stream",
     "text": [
      "index_parallel='0145'\n"
     ]
    },
    {
     "name": "stderr",
     "output_type": "stream",
     "text": [
      "\u001b[32m[I 2022-08-16 05:31:27,507]\u001b[0m Trial 145 finished with value: 8270.43888888889 and parameters: {'kErase': 2, 'kRadius': 4, 'kAnnealingA': 7.719453539477076, 'kAnnealingB': 1.790181551080007, 'kAnnealingStart': 23.36717927474333, 'kSkipRatio': 0.7346985160774216, 'kTargetDeterminationTrials': 7, 'kAttractionRatio': 0.1943807504870917, 'kMaxAttractionDistance': 33, 'kStartAttraction': 0.5796894376875739}. Best is trial 100 with value: 8354.877777777778.\u001b[0m\n"
     ]
    },
    {
     "name": "stdout",
     "output_type": "stream",
     "text": [
      "index_parallel='0147'\n"
     ]
    },
    {
     "name": "stderr",
     "output_type": "stream",
     "text": [
      "\u001b[32m[I 2022-08-16 05:34:56,752]\u001b[0m Trial 147 finished with value: 8205.827777777778 and parameters: {'kErase': 2, 'kRadius': 4, 'kAnnealingA': 5.1487279034869005, 'kAnnealingB': 2.1083999070322883, 'kAnnealingStart': 21.853376712623774, 'kSkipRatio': 0.6831210348259539, 'kTargetDeterminationTrials': 2, 'kAttractionRatio': 0.12324373744972908, 'kMaxAttractionDistance': 30, 'kStartAttraction': 0.8382639571532169}. Best is trial 100 with value: 8354.877777777778.\u001b[0m\n"
     ]
    },
    {
     "name": "stdout",
     "output_type": "stream",
     "text": [
      "index_parallel='0149'\n"
     ]
    },
    {
     "name": "stderr",
     "output_type": "stream",
     "text": [
      "\u001b[32m[I 2022-08-16 05:38:26,047]\u001b[0m Trial 149 finished with value: 8044.572222222222 and parameters: {'kErase': 2, 'kRadius': 4, 'kAnnealingA': 4.729993609983638, 'kAnnealingB': 2.33415694942849, 'kAnnealingStart': 38.07193347267362, 'kSkipRatio': 0.7454438259108311, 'kTargetDeterminationTrials': 6, 'kAttractionRatio': 0.2232414238235303, 'kMaxAttractionDistance': 28, 'kStartAttraction': 0.6955482893988492}. Best is trial 100 with value: 8354.877777777778.\u001b[0m\n"
     ]
    },
    {
     "name": "stdout",
     "output_type": "stream",
     "text": [
      "index_parallel='0151'\n"
     ]
    },
    {
     "name": "stderr",
     "output_type": "stream",
     "text": [
      "\u001b[32m[I 2022-08-16 05:41:55,474]\u001b[0m Trial 151 finished with value: 8155.227777777778 and parameters: {'kErase': 2, 'kRadius': 4, 'kAnnealingA': 6.420352840793259, 'kAnnealingB': 2.111785937378954, 'kAnnealingStart': 29.193995382547115, 'kSkipRatio': 0.6411367448410704, 'kTargetDeterminationTrials': 6, 'kAttractionRatio': 0.21461984770065803, 'kMaxAttractionDistance': 23, 'kStartAttraction': 0.60365504334282}. Best is trial 100 with value: 8354.877777777778.\u001b[0m\n"
     ]
    },
    {
     "name": "stdout",
     "output_type": "stream",
     "text": [
      "index_parallel='0153'\n"
     ]
    },
    {
     "name": "stderr",
     "output_type": "stream",
     "text": [
      "\u001b[32m[I 2022-08-16 05:45:24,884]\u001b[0m Trial 153 finished with value: 8269.466666666667 and parameters: {'kErase': 2, 'kRadius': 4, 'kAnnealingA': 5.464433301644794, 'kAnnealingB': 2.021612427136929, 'kAnnealingStart': 25.935223810269967, 'kSkipRatio': 0.6746757319406769, 'kTargetDeterminationTrials': 1, 'kAttractionRatio': 0.2673228844609713, 'kMaxAttractionDistance': 39, 'kStartAttraction': 0.46014041198189576}. Best is trial 100 with value: 8354.877777777778.\u001b[0m\n"
     ]
    },
    {
     "name": "stdout",
     "output_type": "stream",
     "text": [
      "index_parallel='0155'\n"
     ]
    },
    {
     "name": "stderr",
     "output_type": "stream",
     "text": [
      "\u001b[32m[I 2022-08-16 05:48:54,352]\u001b[0m Trial 155 finished with value: 8265.761111111111 and parameters: {'kErase': 2, 'kRadius': 4, 'kAnnealingA': 6.08063048256719, 'kAnnealingB': 1.8471719128153385, 'kAnnealingStart': 18.82833166141172, 'kSkipRatio': 0.6938018536833085, 'kTargetDeterminationTrials': 7, 'kAttractionRatio': 0.1512648254672698, 'kMaxAttractionDistance': 32, 'kStartAttraction': 0.5607030433830088}. Best is trial 100 with value: 8354.877777777778.\u001b[0m\n"
     ]
    },
    {
     "name": "stdout",
     "output_type": "stream",
     "text": [
      "index_parallel='0157'\n"
     ]
    },
    {
     "name": "stderr",
     "output_type": "stream",
     "text": [
      "\u001b[32m[I 2022-08-16 05:52:23,874]\u001b[0m Trial 157 finished with value: 8312.283333333333 and parameters: {'kErase': 2, 'kRadius': 4, 'kAnnealingA': 7.205193688720505, 'kAnnealingB': 1.6999341961362948, 'kAnnealingStart': 21.33000287468141, 'kSkipRatio': 0.7205929135698376, 'kTargetDeterminationTrials': 8, 'kAttractionRatio': 0.37174648511703434, 'kMaxAttractionDistance': 53, 'kStartAttraction': 0.6263889231007638}. Best is trial 100 with value: 8354.877777777778.\u001b[0m\n"
     ]
    },
    {
     "name": "stdout",
     "output_type": "stream",
     "text": [
      "index_parallel='0159'\n"
     ]
    },
    {
     "name": "stderr",
     "output_type": "stream",
     "text": [
      "\u001b[32m[I 2022-08-16 05:55:53,473]\u001b[0m Trial 159 finished with value: 8314.033333333333 and parameters: {'kErase': 2, 'kRadius': 4, 'kAnnealingA': 6.657414607228936, 'kAnnealingB': 1.7077310445931018, 'kAnnealingStart': 23.02551115231744, 'kSkipRatio': 0.7169445138909509, 'kTargetDeterminationTrials': 11, 'kAttractionRatio': 0.3324383331660577, 'kMaxAttractionDistance': 25, 'kStartAttraction': 0.7527702251138801}. Best is trial 100 with value: 8354.877777777778.\u001b[0m\n"
     ]
    },
    {
     "name": "stdout",
     "output_type": "stream",
     "text": [
      "index_parallel='0161'\n"
     ]
    },
    {
     "name": "stderr",
     "output_type": "stream",
     "text": [
      "\u001b[32m[I 2022-08-16 05:59:23,102]\u001b[0m Trial 161 finished with value: 8230.244444444445 and parameters: {'kErase': 2, 'kRadius': 4, 'kAnnealingA': 8.18527617687242, 'kAnnealingB': 1.6857232256450112, 'kAnnealingStart': 28.01730118491672, 'kSkipRatio': 0.7286921118466144, 'kTargetDeterminationTrials': 12, 'kAttractionRatio': 0.24162771332200342, 'kMaxAttractionDistance': 35, 'kStartAttraction': 0.621776556066304}. Best is trial 100 with value: 8354.877777777778.\u001b[0m\n"
     ]
    },
    {
     "name": "stdout",
     "output_type": "stream",
     "text": [
      "index_parallel='0163'\n"
     ]
    },
    {
     "name": "stderr",
     "output_type": "stream",
     "text": [
      "\u001b[32m[I 2022-08-16 06:02:52,637]\u001b[0m Trial 163 finished with value: 8267.822222222223 and parameters: {'kErase': 2, 'kRadius': 4, 'kAnnealingA': 3.494345795839273, 'kAnnealingB': 1.9432628937343657, 'kAnnealingStart': 17.408078534707755, 'kSkipRatio': 0.7431713226585799, 'kTargetDeterminationTrials': 11, 'kAttractionRatio': 0.3214426451122847, 'kMaxAttractionDistance': 36, 'kStartAttraction': 0.8714977124551756}. Best is trial 100 with value: 8354.877777777778.\u001b[0m\n"
     ]
    },
    {
     "name": "stdout",
     "output_type": "stream",
     "text": [
      "index_parallel='0165'\n"
     ]
    },
    {
     "name": "stderr",
     "output_type": "stream",
     "text": [
      "\u001b[32m[I 2022-08-16 06:06:22,357]\u001b[0m Trial 165 finished with value: 8298.177777777777 and parameters: {'kErase': 2, 'kRadius': 4, 'kAnnealingA': 4.460858440900324, 'kAnnealingB': 2.876110331855397, 'kAnnealingStart': 24.681868375725724, 'kSkipRatio': 0.7565122344171441, 'kTargetDeterminationTrials': 9, 'kAttractionRatio': 0.2768651078998223, 'kMaxAttractionDistance': 39, 'kStartAttraction': 0.7417298992231404}. Best is trial 100 with value: 8354.877777777778.\u001b[0m\n"
     ]
    },
    {
     "name": "stdout",
     "output_type": "stream",
     "text": [
      "index_parallel='0167'\n"
     ]
    },
    {
     "name": "stderr",
     "output_type": "stream",
     "text": [
      "\u001b[32m[I 2022-08-16 06:09:51,711]\u001b[0m Trial 167 finished with value: 8312.455555555556 and parameters: {'kErase': 2, 'kRadius': 4, 'kAnnealingA': 7.511492806096321, 'kAnnealingB': 1.5660674783029296, 'kAnnealingStart': 21.820702524507897, 'kSkipRatio': 0.7144100672318393, 'kTargetDeterminationTrials': 6, 'kAttractionRatio': 0.45932140991707476, 'kMaxAttractionDistance': 53, 'kStartAttraction': 0.49939179007205226}. Best is trial 100 with value: 8354.877777777778.\u001b[0m\n"
     ]
    },
    {
     "name": "stdout",
     "output_type": "stream",
     "text": [
      "index_parallel='0169'\n"
     ]
    },
    {
     "name": "stderr",
     "output_type": "stream",
     "text": [
      "\u001b[32m[I 2022-08-16 06:13:21,337]\u001b[0m Trial 169 finished with value: 8111.1 and parameters: {'kErase': 2, 'kRadius': 4, 'kAnnealingA': 7.6580951547634335, 'kAnnealingB': 1.5720728385567013, 'kAnnealingStart': 32.18951781322888, 'kSkipRatio': 0.7070496461948822, 'kTargetDeterminationTrials': 7, 'kAttractionRatio': 0.448668096721041, 'kMaxAttractionDistance': 57, 'kStartAttraction': 0.6117164310455057}. Best is trial 100 with value: 8354.877777777778.\u001b[0m\n"
     ]
    },
    {
     "name": "stdout",
     "output_type": "stream",
     "text": [
      "index_parallel='0171'\n"
     ]
    },
    {
     "name": "stderr",
     "output_type": "stream",
     "text": [
      "\u001b[32m[I 2022-08-16 06:16:50,780]\u001b[0m Trial 171 finished with value: 7945.5 and parameters: {'kErase': 2, 'kRadius': 4, 'kAnnealingA': 6.135976009543205, 'kAnnealingB': 1.4234958721391802, 'kAnnealingStart': 27.39630324965289, 'kSkipRatio': 0.35404578283923605, 'kTargetDeterminationTrials': 4, 'kAttractionRatio': 0.2370844402929159, 'kMaxAttractionDistance': 41, 'kStartAttraction': 0.0018264509696842622}. Best is trial 100 with value: 8354.877777777778.\u001b[0m\n"
     ]
    },
    {
     "name": "stdout",
     "output_type": "stream",
     "text": [
      "index_parallel='0173'\n"
     ]
    },
    {
     "name": "stderr",
     "output_type": "stream",
     "text": [
      "\u001b[32m[I 2022-08-16 06:20:20,322]\u001b[0m Trial 173 finished with value: 8373.694444444445 and parameters: {'kErase': 2, 'kRadius': 4, 'kAnnealingA': 7.172807317939329, 'kAnnealingB': 1.6344133138966557, 'kAnnealingStart': 21.670289878310626, 'kSkipRatio': 0.7401313036623662, 'kTargetDeterminationTrials': 6, 'kAttractionRatio': 0.389668381839704, 'kMaxAttractionDistance': 56, 'kStartAttraction': 0.5699906773001233}. Best is trial 173 with value: 8373.694444444445.\u001b[0m\n"
     ]
    },
    {
     "name": "stdout",
     "output_type": "stream",
     "text": [
      "Updated! 8373.694444444445\n",
      "index_parallel='0175'\n"
     ]
    },
    {
     "name": "stderr",
     "output_type": "stream",
     "text": [
      "\u001b[32m[I 2022-08-16 06:23:50,221]\u001b[0m Trial 175 finished with value: 8304.827777777778 and parameters: {'kErase': 2, 'kRadius': 4, 'kAnnealingA': 7.362230883020371, 'kAnnealingB': 1.698838489826422, 'kAnnealingStart': 21.333730685679996, 'kSkipRatio': 0.7876775545125188, 'kTargetDeterminationTrials': 6, 'kAttractionRatio': 0.38604514060609707, 'kMaxAttractionDistance': 60, 'kStartAttraction': 0.7231893489310782}. Best is trial 173 with value: 8373.694444444445.\u001b[0m\n"
     ]
    },
    {
     "name": "stdout",
     "output_type": "stream",
     "text": [
      "index_parallel='0177'\n"
     ]
    },
    {
     "name": "stderr",
     "output_type": "stream",
     "text": [
      "\u001b[32m[I 2022-08-16 06:27:19,412]\u001b[0m Trial 177 finished with value: 8284.705555555556 and parameters: {'kErase': 2, 'kRadius': 4, 'kAnnealingA': 8.205276262812834, 'kAnnealingB': 1.616796241158318, 'kAnnealingStart': 20.762928758353787, 'kSkipRatio': 0.7842636550313811, 'kTargetDeterminationTrials': 5, 'kAttractionRatio': 0.37360354432261234, 'kMaxAttractionDistance': 61, 'kStartAttraction': 0.7808947018228307}. Best is trial 173 with value: 8373.694444444445.\u001b[0m\n"
     ]
    },
    {
     "name": "stdout",
     "output_type": "stream",
     "text": [
      "index_parallel='0179'\n"
     ]
    },
    {
     "name": "stderr",
     "output_type": "stream",
     "text": [
      "\u001b[32m[I 2022-08-16 06:30:49,030]\u001b[0m Trial 179 finished with value: 8261.7 and parameters: {'kErase': 2, 'kRadius': 4, 'kAnnealingA': 6.965972034192623, 'kAnnealingB': 1.5120006732870253, 'kAnnealingStart': 27.247696243020577, 'kSkipRatio': 0.7666077617858952, 'kTargetDeterminationTrials': 6, 'kAttractionRatio': 0.42659510670250295, 'kMaxAttractionDistance': 54, 'kStartAttraction': 0.7196471049421516}. Best is trial 173 with value: 8373.694444444445.\u001b[0m\n"
     ]
    },
    {
     "name": "stdout",
     "output_type": "stream",
     "text": [
      "index_parallel='0181'\n"
     ]
    },
    {
     "name": "stderr",
     "output_type": "stream",
     "text": [
      "\u001b[32m[I 2022-08-16 06:34:18,461]\u001b[0m Trial 181 finished with value: 8258.777777777777 and parameters: {'kErase': 2, 'kRadius': 4, 'kAnnealingA': 7.583682974097716, 'kAnnealingB': 1.6995665370493092, 'kAnnealingStart': 25.535590551922763, 'kSkipRatio': 0.7965921768870582, 'kTargetDeterminationTrials': 7, 'kAttractionRatio': 0.33364138443200164, 'kMaxAttractionDistance': 49, 'kStartAttraction': 0.492148495154653}. Best is trial 173 with value: 8373.694444444445.\u001b[0m\n"
     ]
    },
    {
     "name": "stdout",
     "output_type": "stream",
     "text": [
      "index_parallel='0183'\n"
     ]
    },
    {
     "name": "stderr",
     "output_type": "stream",
     "text": [
      "\u001b[32m[I 2022-08-16 06:37:47,959]\u001b[0m Trial 183 finished with value: 8377.244444444445 and parameters: {'kErase': 2, 'kRadius': 4, 'kAnnealingA': 6.603218568458547, 'kAnnealingB': 1.7970536751106694, 'kAnnealingStart': 22.447713438110082, 'kSkipRatio': 0.7611531688452522, 'kTargetDeterminationTrials': 3, 'kAttractionRatio': 0.5304380404832563, 'kMaxAttractionDistance': 59, 'kStartAttraction': 0.5504882212181424}. Best is trial 183 with value: 8377.244444444445.\u001b[0m\n"
     ]
    },
    {
     "name": "stdout",
     "output_type": "stream",
     "text": [
      "Updated! 8377.244444444445\n",
      "index_parallel='0185'\n"
     ]
    },
    {
     "name": "stderr",
     "output_type": "stream",
     "text": [
      "\u001b[32m[I 2022-08-16 06:41:17,561]\u001b[0m Trial 185 finished with value: 8350.666666666666 and parameters: {'kErase': 2, 'kRadius': 4, 'kAnnealingA': 8.700886110769531, 'kAnnealingB': 1.7268185877173456, 'kAnnealingStart': 18.786086261162964, 'kSkipRatio': 0.7491377087223177, 'kTargetDeterminationTrials': 7, 'kAttractionRatio': 0.46677030265804076, 'kMaxAttractionDistance': 70, 'kStartAttraction': 0.45792073333430167}. Best is trial 183 with value: 8377.244444444445.\u001b[0m\n"
     ]
    },
    {
     "name": "stdout",
     "output_type": "stream",
     "text": [
      "index_parallel='0187'\n"
     ]
    },
    {
     "name": "stderr",
     "output_type": "stream",
     "text": [
      "\u001b[32m[I 2022-08-16 06:44:47,388]\u001b[0m Trial 187 finished with value: 8032.422222222222 and parameters: {'kErase': 2, 'kRadius': 4, 'kAnnealingA': 7.941241793943554, 'kAnnealingB': 1.7253227847722252, 'kAnnealingStart': 19.586877224099524, 'kSkipRatio': 0.7555693068290368, 'kTargetDeterminationTrials': 7, 'kAttractionRatio': 0.529709427348417, 'kMaxAttractionDistance': 72, 'kStartAttraction': 0.014848279203455472}. Best is trial 183 with value: 8377.244444444445.\u001b[0m\n"
     ]
    },
    {
     "name": "stdout",
     "output_type": "stream",
     "text": [
      "index_parallel='0189'\n"
     ]
    },
    {
     "name": "stderr",
     "output_type": "stream",
     "text": [
      "\u001b[32m[I 2022-08-16 06:48:16,725]\u001b[0m Trial 189 finished with value: 8013.111111111111 and parameters: {'kErase': 2, 'kRadius': 4, 'kAnnealingA': -8.031216484623775, 'kAnnealingB': 1.788594281143282, 'kAnnealingStart': 22.611698168406875, 'kSkipRatio': 0.7453405611374925, 'kTargetDeterminationTrials': 8, 'kAttractionRatio': 0.46039229906114976, 'kMaxAttractionDistance': 64, 'kStartAttraction': 0.8915948178430039}. Best is trial 183 with value: 8377.244444444445.\u001b[0m\n"
     ]
    },
    {
     "name": "stdout",
     "output_type": "stream",
     "text": [
      "index_parallel='0191'\n"
     ]
    },
    {
     "name": "stderr",
     "output_type": "stream",
     "text": [
      "\u001b[32m[I 2022-08-16 06:51:46,161]\u001b[0m Trial 191 finished with value: 8274.91111111111 and parameters: {'kErase': 2, 'kRadius': 4, 'kAnnealingA': 6.581506970553515, 'kAnnealingB': 1.5948600779345183, 'kAnnealingStart': 21.080373261783052, 'kSkipRatio': 0.732633151706333, 'kTargetDeterminationTrials': 6, 'kAttractionRatio': 0.6348048750306757, 'kMaxAttractionDistance': 66, 'kStartAttraction': 0.5593458350083587}. Best is trial 183 with value: 8377.244444444445.\u001b[0m\n"
     ]
    },
    {
     "name": "stdout",
     "output_type": "stream",
     "text": [
      "index_parallel='0193'\n"
     ]
    },
    {
     "name": "stderr",
     "output_type": "stream",
     "text": [
      "\u001b[32m[I 2022-08-16 06:55:15,418]\u001b[0m Trial 193 finished with value: 8219.522222222222 and parameters: {'kErase': 2, 'kRadius': 4, 'kAnnealingA': 9.971012155599833, 'kAnnealingB': 1.871320611053307, 'kAnnealingStart': 24.296908718667442, 'kSkipRatio': 0.7193127755588358, 'kTargetDeterminationTrials': 7, 'kAttractionRatio': 0.40286663098334674, 'kMaxAttractionDistance': 60, 'kStartAttraction': 0.6921506499796121}. Best is trial 183 with value: 8377.244444444445.\u001b[0m\n"
     ]
    },
    {
     "name": "stdout",
     "output_type": "stream",
     "text": [
      "index_parallel='0195'\n"
     ]
    },
    {
     "name": "stderr",
     "output_type": "stream",
     "text": [
      "\u001b[32m[I 2022-08-16 06:58:44,861]\u001b[0m Trial 195 finished with value: 8301.56111111111 and parameters: {'kErase': 2, 'kRadius': 4, 'kAnnealingA': 9.108046751693129, 'kAnnealingB': 1.8408324479444302, 'kAnnealingStart': 18.125381491764063, 'kSkipRatio': 0.7002598159482775, 'kTargetDeterminationTrials': 8, 'kAttractionRatio': 0.43940893048202356, 'kMaxAttractionDistance': 78, 'kStartAttraction': 0.778936213999516}. Best is trial 183 with value: 8377.244444444445.\u001b[0m\n"
     ]
    },
    {
     "name": "stdout",
     "output_type": "stream",
     "text": [
      "index_parallel='0197'\n"
     ]
    },
    {
     "name": "stderr",
     "output_type": "stream",
     "text": [
      "\u001b[32m[I 2022-08-16 07:02:14,292]\u001b[0m Trial 197 finished with value: 8241.35 and parameters: {'kErase': 2, 'kRadius': 4, 'kAnnealingA': 7.418268203238604, 'kAnnealingB': 1.6761790303450939, 'kAnnealingStart': 16.491527115752007, 'kSkipRatio': 0.7695173373676628, 'kTargetDeterminationTrials': 7, 'kAttractionRatio': 0.49938805050091317, 'kMaxAttractionDistance': 58, 'kStartAttraction': 0.4415200995902699}. Best is trial 183 with value: 8377.244444444445.\u001b[0m\n"
     ]
    },
    {
     "name": "stdout",
     "output_type": "stream",
     "text": [
      "index_parallel='0199'\n"
     ]
    },
    {
     "name": "stderr",
     "output_type": "stream",
     "text": [
      "\u001b[32m[I 2022-08-16 07:05:43,799]\u001b[0m Trial 199 finished with value: 8315.844444444445 and parameters: {'kErase': 2, 'kRadius': 4, 'kAnnealingA': 5.98945155903106, 'kAnnealingB': 1.6360526722954762, 'kAnnealingStart': 16.12526984072895, 'kSkipRatio': 0.7884041196251236, 'kTargetDeterminationTrials': 5, 'kAttractionRatio': 0.3760727677531661, 'kMaxAttractionDistance': 56, 'kStartAttraction': 0.47286814475303496}. Best is trial 183 with value: 8377.244444444445.\u001b[0m\n"
     ]
    },
    {
     "name": "stdout",
     "output_type": "stream",
     "text": [
      "index_parallel='0201'\n"
     ]
    },
    {
     "name": "stderr",
     "output_type": "stream",
     "text": [
      "\u001b[32m[I 2022-08-16 07:09:13,565]\u001b[0m Trial 201 finished with value: 8350.461111111112 and parameters: {'kErase': 2, 'kRadius': 4, 'kAnnealingA': 5.93131956317494, 'kAnnealingB': 1.55893637657385, 'kAnnealingStart': 15.756936129848654, 'kSkipRatio': 0.7666316365724748, 'kTargetDeterminationTrials': 5, 'kAttractionRatio': 0.36335164065300285, 'kMaxAttractionDistance': 50, 'kStartAttraction': 0.3690562298453232}. Best is trial 183 with value: 8377.244444444445.\u001b[0m\n"
     ]
    },
    {
     "name": "stdout",
     "output_type": "stream",
     "text": [
      "index_parallel='0203'\n"
     ]
    },
    {
     "name": "stderr",
     "output_type": "stream",
     "text": [
      "\u001b[32m[I 2022-08-16 07:12:42,950]\u001b[0m Trial 203 finished with value: 8303.755555555555 and parameters: {'kErase': 2, 'kRadius': 4, 'kAnnealingA': 5.942543920924024, 'kAnnealingB': 1.5551475691109002, 'kAnnealingStart': 19.660544283396455, 'kSkipRatio': 0.74663424456257, 'kTargetDeterminationTrials': 5, 'kAttractionRatio': 0.31058128966351084, 'kMaxAttractionDistance': 49, 'kStartAttraction': 0.3599373803373785}. Best is trial 183 with value: 8377.244444444445.\u001b[0m\n"
     ]
    },
    {
     "name": "stdout",
     "output_type": "stream",
     "text": [
      "index_parallel='0205'\n"
     ]
    },
    {
     "name": "stderr",
     "output_type": "stream",
     "text": [
      "\u001b[32m[I 2022-08-16 07:16:12,242]\u001b[0m Trial 205 finished with value: 8321.422222222222 and parameters: {'kErase': 2, 'kRadius': 4, 'kAnnealingA': 6.424613356138576, 'kAnnealingB': 1.5090879703434468, 'kAnnealingStart': 17.913620962928313, 'kSkipRatio': 0.7748843284442545, 'kTargetDeterminationTrials': 5, 'kAttractionRatio': 0.4086306303239729, 'kMaxAttractionDistance': 51, 'kStartAttraction': 0.40013013183073676}. Best is trial 183 with value: 8377.244444444445.\u001b[0m\n"
     ]
    },
    {
     "name": "stdout",
     "output_type": "stream",
     "text": [
      "index_parallel='0207'\n"
     ]
    },
    {
     "name": "stderr",
     "output_type": "stream",
     "text": [
      "\u001b[32m[I 2022-08-16 07:19:41,834]\u001b[0m Trial 207 finished with value: 8262.8 and parameters: {'kErase': 2, 'kRadius': 4, 'kAnnealingA': 6.407010748751482, 'kAnnealingB': 1.409033997885292, 'kAnnealingStart': 17.71781749765167, 'kSkipRatio': 0.7762483336031772, 'kTargetDeterminationTrials': 4, 'kAttractionRatio': 0.41406361985200646, 'kMaxAttractionDistance': 51, 'kStartAttraction': 0.40176353584641}. Best is trial 183 with value: 8377.244444444445.\u001b[0m\n"
     ]
    },
    {
     "name": "stdout",
     "output_type": "stream",
     "text": [
      "index_parallel='0209'\n"
     ]
    },
    {
     "name": "stderr",
     "output_type": "stream",
     "text": [
      "\u001b[32m[I 2022-08-16 07:23:11,535]\u001b[0m Trial 209 finished with value: 8260.511111111111 and parameters: {'kErase': 2, 'kRadius': 4, 'kAnnealingA': 5.385379693855055, 'kAnnealingB': 1.5098678277939794, 'kAnnealingStart': 14.576026492342118, 'kSkipRatio': 0.756915147564205, 'kTargetDeterminationTrials': 5, 'kAttractionRatio': 0.4662703004028246, 'kMaxAttractionDistance': 45, 'kStartAttraction': 0.5044853048186623}. Best is trial 183 with value: 8377.244444444445.\u001b[0m\n"
     ]
    },
    {
     "name": "stdout",
     "output_type": "stream",
     "text": [
      "index_parallel='0211'\n"
     ]
    },
    {
     "name": "stderr",
     "output_type": "stream",
     "text": [
      "\u001b[32m[I 2022-08-16 07:26:41,022]\u001b[0m Trial 211 finished with value: 8265.505555555555 and parameters: {'kErase': 2, 'kRadius': 4, 'kAnnealingA': 6.182134728883776, 'kAnnealingB': 1.753378021301141, 'kAnnealingStart': 19.849241582054407, 'kSkipRatio': 0.733150423956757, 'kTargetDeterminationTrials': 5, 'kAttractionRatio': 0.336949199170884, 'kMaxAttractionDistance': 64, 'kStartAttraction': 0.40799712703638635}. Best is trial 183 with value: 8377.244444444445.\u001b[0m\n"
     ]
    },
    {
     "name": "stdout",
     "output_type": "stream",
     "text": [
      "index_parallel='0213'\n"
     ]
    },
    {
     "name": "stderr",
     "output_type": "stream",
     "text": [
      "\u001b[32m[I 2022-08-16 07:30:10,234]\u001b[0m Trial 213 finished with value: 8301.66111111111 and parameters: {'kErase': 2, 'kRadius': 4, 'kAnnealingA': 6.803189103270119, 'kAnnealingB': 1.6200650922794921, 'kAnnealingStart': 22.556117981100584, 'kSkipRatio': 0.7175826518069334, 'kTargetDeterminationTrials': 6, 'kAttractionRatio': 0.3824349100401374, 'kMaxAttractionDistance': 54, 'kStartAttraction': 0.5838125724974677}. Best is trial 212 with value: 8401.05.\u001b[0m\n"
     ]
    },
    {
     "name": "stdout",
     "output_type": "stream",
     "text": [
      "index_parallel='0215'\n"
     ]
    },
    {
     "name": "stderr",
     "output_type": "stream",
     "text": [
      "\u001b[32m[I 2022-08-16 07:33:40,215]\u001b[0m Trial 215 finished with value: 8272.0 and parameters: {'kErase': 2, 'kRadius': 4, 'kAnnealingA': 6.321891942933286, 'kAnnealingB': 1.549983713979362, 'kAnnealingStart': 27.746403346411846, 'kSkipRatio': 0.7395975431069767, 'kTargetDeterminationTrials': 5, 'kAttractionRatio': 0.4303732540313801, 'kMaxAttractionDistance': 56, 'kStartAttraction': 0.44104309316995655}. Best is trial 212 with value: 8401.05.\u001b[0m\n"
     ]
    },
    {
     "name": "stdout",
     "output_type": "stream",
     "text": [
      "index_parallel='0217'\n"
     ]
    },
    {
     "name": "stderr",
     "output_type": "stream",
     "text": [
      "\u001b[32m[I 2022-08-16 07:37:09,934]\u001b[0m Trial 217 finished with value: 8328.172222222222 and parameters: {'kErase': 2, 'kRadius': 4, 'kAnnealingA': 4.5718417122954795, 'kAnnealingB': 1.6452242988172354, 'kAnnealingStart': 25.748058316062032, 'kSkipRatio': 0.7652807674227938, 'kTargetDeterminationTrials': 7, 'kAttractionRatio': 0.3425642081657043, 'kMaxAttractionDistance': 70, 'kStartAttraction': 0.5536455565716696}. Best is trial 212 with value: 8401.05.\u001b[0m\n"
     ]
    },
    {
     "name": "stdout",
     "output_type": "stream",
     "text": [
      "index_parallel='0219'\n"
     ]
    },
    {
     "name": "stderr",
     "output_type": "stream",
     "text": [
      "\u001b[32m[I 2022-08-16 07:40:39,441]\u001b[0m Trial 219 finished with value: 8316.16111111111 and parameters: {'kErase': 2, 'kRadius': 4, 'kAnnealingA': 5.537622777816083, 'kAnnealingB': 1.6778814689148127, 'kAnnealingStart': 23.576937189291723, 'kSkipRatio': 0.7668153052541473, 'kTargetDeterminationTrials': 7, 'kAttractionRatio': 0.29111611159948636, 'kMaxAttractionDistance': 77, 'kStartAttraction': 0.5462503614646977}. Best is trial 212 with value: 8401.05.\u001b[0m\n"
     ]
    },
    {
     "name": "stdout",
     "output_type": "stream",
     "text": [
      "index_parallel='0221'\n"
     ]
    },
    {
     "name": "stderr",
     "output_type": "stream",
     "text": [
      "\u001b[32m[I 2022-08-16 07:44:08,840]\u001b[0m Trial 221 finished with value: 8311.722222222223 and parameters: {'kErase': 2, 'kRadius': 4, 'kAnnealingA': 5.211130035131799, 'kAnnealingB': 1.601951120127986, 'kAnnealingStart': 24.733946018721376, 'kSkipRatio': 0.7521564719129586, 'kTargetDeterminationTrials': 7, 'kAttractionRatio': 0.3115841533086663, 'kMaxAttractionDistance': 71, 'kStartAttraction': 0.5817330513696405}. Best is trial 212 with value: 8401.05.\u001b[0m\n"
     ]
    },
    {
     "name": "stdout",
     "output_type": "stream",
     "text": [
      "index_parallel='0223'\n"
     ]
    },
    {
     "name": "stderr",
     "output_type": "stream",
     "text": [
      "\u001b[32m[I 2022-08-16 07:47:38,314]\u001b[0m Trial 223 finished with value: 8276.094444444445 and parameters: {'kErase': 2, 'kRadius': 4, 'kAnnealingA': 4.887082233192052, 'kAnnealingB': 1.4594657489914142, 'kAnnealingStart': 19.69805258301504, 'kSkipRatio': 0.7711683189332551, 'kTargetDeterminationTrials': 7, 'kAttractionRatio': 0.28475574987224755, 'kMaxAttractionDistance': 77, 'kStartAttraction': 0.5719787152417862}. Best is trial 212 with value: 8401.05.\u001b[0m\n"
     ]
    },
    {
     "name": "stdout",
     "output_type": "stream",
     "text": [
      "index_parallel='0225'\n"
     ]
    },
    {
     "name": "stderr",
     "output_type": "stream",
     "text": [
      "\u001b[32m[I 2022-08-16 07:51:07,799]\u001b[0m Trial 225 finished with value: 8284.716666666667 and parameters: {'kErase': 2, 'kRadius': 4, 'kAnnealingA': 4.092791919473951, 'kAnnealingB': 1.6815812564173613, 'kAnnealingStart': 22.985300321285138, 'kSkipRatio': 0.7583323589160668, 'kTargetDeterminationTrials': 6, 'kAttractionRatio': 0.26301338424596904, 'kMaxAttractionDistance': 47, 'kStartAttraction': 0.392894703718677}. Best is trial 212 with value: 8401.05.\u001b[0m\n"
     ]
    },
    {
     "name": "stdout",
     "output_type": "stream",
     "text": [
      "index_parallel='0227'\n"
     ]
    },
    {
     "name": "stderr",
     "output_type": "stream",
     "text": [
      "\u001b[32m[I 2022-08-16 07:54:37,218]\u001b[0m Trial 227 finished with value: 8251.833333333334 and parameters: {'kErase': 2, 'kRadius': 4, 'kAnnealingA': 4.317036515558643, 'kAnnealingB': 1.3734732354268513, 'kAnnealingStart': 20.331486365270212, 'kSkipRatio': 0.7520749886307934, 'kTargetDeterminationTrials': 6, 'kAttractionRatio': 0.31849766992278644, 'kMaxAttractionDistance': 49, 'kStartAttraction': 0.33339842619805904}. Best is trial 212 with value: 8401.05.\u001b[0m\n"
     ]
    },
    {
     "name": "stdout",
     "output_type": "stream",
     "text": [
      "index_parallel='0229'\n"
     ]
    },
    {
     "name": "stderr",
     "output_type": "stream",
     "text": [
      "\u001b[32m[I 2022-08-16 07:58:06,454]\u001b[0m Trial 229 finished with value: 8303.91111111111 and parameters: {'kErase': 2, 'kRadius': 4, 'kAnnealingA': 3.903248830691904, 'kAnnealingB': 1.3261830093119618, 'kAnnealingStart': 19.247267215078217, 'kSkipRatio': 0.7812993409527565, 'kTargetDeterminationTrials': 6, 'kAttractionRatio': 0.2787301094085387, 'kMaxAttractionDistance': 90, 'kStartAttraction': 0.3946401048065112}. Best is trial 212 with value: 8401.05.\u001b[0m\n"
     ]
    },
    {
     "name": "stdout",
     "output_type": "stream",
     "text": [
      "index_parallel='0231'\n"
     ]
    },
    {
     "name": "stderr",
     "output_type": "stream",
     "text": [
      "\u001b[32m[I 2022-08-16 08:01:35,922]\u001b[0m Trial 231 finished with value: 8234.016666666666 and parameters: {'kErase': 2, 'kRadius': 4, 'kAnnealingA': 8.317543039723475, 'kAnnealingB': 1.4023237165233804, 'kAnnealingStart': 27.708950674522956, 'kSkipRatio': 0.7650596024597888, 'kTargetDeterminationTrials': 6, 'kAttractionRatio': 0.26792827924348034, 'kMaxAttractionDistance': 51, 'kStartAttraction': 0.48514612211449876}. Best is trial 212 with value: 8401.05.\u001b[0m\n"
     ]
    },
    {
     "name": "stdout",
     "output_type": "stream",
     "text": [
      "index_parallel='0233'\n"
     ]
    },
    {
     "name": "stderr",
     "output_type": "stream",
     "text": [
      "\u001b[32m[I 2022-08-16 08:05:06,138]\u001b[0m Trial 233 finished with value: 8228.205555555556 and parameters: {'kErase': 2, 'kRadius': 4, 'kAnnealingA': 5.579186630997142, 'kAnnealingB': 1.540076525909849, 'kAnnealingStart': 21.952480304671052, 'kSkipRatio': 0.7316008826821361, 'kTargetDeterminationTrials': 7, 'kAttractionRatio': 0.08941133485379318, 'kMaxAttractionDistance': 63, 'kStartAttraction': 0.5255894167600179}. Best is trial 212 with value: 8401.05.\u001b[0m\n"
     ]
    },
    {
     "name": "stdout",
     "output_type": "stream",
     "text": [
      "index_parallel='0235'\n"
     ]
    },
    {
     "name": "stderr",
     "output_type": "stream",
     "text": [
      "\u001b[32m[I 2022-08-16 08:08:35,718]\u001b[0m Trial 235 finished with value: 8265.016666666666 and parameters: {'kErase': 2, 'kRadius': 4, 'kAnnealingA': 4.911989136118515, 'kAnnealingB': 1.254522484549526, 'kAnnealingStart': 20.836143809736633, 'kSkipRatio': 0.7689429680747634, 'kTargetDeterminationTrials': 7, 'kAttractionRatio': 0.3868880791906155, 'kMaxAttractionDistance': 67, 'kStartAttraction': 0.45040163873906475}. Best is trial 212 with value: 8401.05.\u001b[0m\n"
     ]
    },
    {
     "name": "stdout",
     "output_type": "stream",
     "text": [
      "index_parallel='0237'\n"
     ]
    },
    {
     "name": "stderr",
     "output_type": "stream",
     "text": [
      "\u001b[32m[I 2022-08-16 08:12:05,327]\u001b[0m Trial 237 finished with value: 8374.577777777778 and parameters: {'kErase': 2, 'kRadius': 4, 'kAnnealingA': 6.505752756186065, 'kAnnealingB': 1.3941899660961592, 'kAnnealingStart': 18.652968514612077, 'kSkipRatio': 0.7516219281129152, 'kTargetDeterminationTrials': 8, 'kAttractionRatio': 0.35070676170068976, 'kMaxAttractionDistance': 56, 'kStartAttraction': 0.6225185419531054}. Best is trial 212 with value: 8401.05.\u001b[0m\n"
     ]
    },
    {
     "name": "stdout",
     "output_type": "stream",
     "text": [
      "index_parallel='0239'\n"
     ]
    },
    {
     "name": "stderr",
     "output_type": "stream",
     "text": [
      "\u001b[32m[I 2022-08-16 08:15:35,018]\u001b[0m Trial 239 finished with value: 8295.455555555556 and parameters: {'kErase': 2, 'kRadius': 4, 'kAnnealingA': 6.877262914556361, 'kAnnealingB': 1.3719378725155373, 'kAnnealingStart': 23.927777906857738, 'kSkipRatio': 0.7519178464838555, 'kTargetDeterminationTrials': 8, 'kAttractionRatio': 0.296714936144339, 'kMaxAttractionDistance': 58, 'kStartAttraction': 0.6431718876170999}. Best is trial 212 with value: 8401.05.\u001b[0m\n"
     ]
    },
    {
     "name": "stdout",
     "output_type": "stream",
     "text": [
      "index_parallel='0241'\n"
     ]
    },
    {
     "name": "stderr",
     "output_type": "stream",
     "text": [
      "\u001b[32m[I 2022-08-16 08:19:04,620]\u001b[0m Trial 241 finished with value: 8284.83888888889 and parameters: {'kErase': 2, 'kRadius': 4, 'kAnnealingA': 6.082664113258884, 'kAnnealingB': 1.2798564128384555, 'kAnnealingStart': 19.00729025019864, 'kSkipRatio': 0.7414677390955229, 'kTargetDeterminationTrials': 8, 'kAttractionRatio': 0.2520914856156506, 'kMaxAttractionDistance': 60, 'kStartAttraction': 0.5780149568988329}. Best is trial 212 with value: 8401.05.\u001b[0m\n"
     ]
    },
    {
     "name": "stdout",
     "output_type": "stream",
     "text": [
      "index_parallel='0243'\n"
     ]
    },
    {
     "name": "stderr",
     "output_type": "stream",
     "text": [
      "\u001b[32m[I 2022-08-16 08:22:34,119]\u001b[0m Trial 243 finished with value: 8303.083333333334 and parameters: {'kErase': 2, 'kRadius': 4, 'kAnnealingA': 6.385070686915484, 'kAnnealingB': 1.5115237111675721, 'kAnnealingStart': 18.437672856020214, 'kSkipRatio': 0.7751573862362023, 'kTargetDeterminationTrials': 7, 'kAttractionRatio': 0.36091188229688764, 'kMaxAttractionDistance': 53, 'kStartAttraction': 0.5335803905387149}. Best is trial 212 with value: 8401.05.\u001b[0m\n"
     ]
    },
    {
     "name": "stdout",
     "output_type": "stream",
     "text": [
      "index_parallel='0245'\n"
     ]
    },
    {
     "name": "stderr",
     "output_type": "stream",
     "text": [
      "\u001b[32m[I 2022-08-16 08:26:03,545]\u001b[0m Trial 245 finished with value: 8357.35 and parameters: {'kErase': 2, 'kRadius': 4, 'kAnnealingA': 6.8332184311311535, 'kAnnealingB': 1.578508218187107, 'kAnnealingStart': 17.299398141997926, 'kSkipRatio': 0.7610567779866263, 'kTargetDeterminationTrials': 6, 'kAttractionRatio': 0.4207824436168393, 'kMaxAttractionDistance': 55, 'kStartAttraction': 0.45617701529743865}. Best is trial 212 with value: 8401.05.\u001b[0m\n"
     ]
    },
    {
     "name": "stdout",
     "output_type": "stream",
     "text": [
      "index_parallel='0247'\n"
     ]
    },
    {
     "name": "stderr",
     "output_type": "stream",
     "text": [
      "\u001b[32m[I 2022-08-16 08:29:32,975]\u001b[0m Trial 247 finished with value: 8263.805555555555 and parameters: {'kErase': 2, 'kRadius': 4, 'kAnnealingA': 8.166167896782333, 'kAnnealingB': 1.5915128276566346, 'kAnnealingStart': 20.771816779142778, 'kSkipRatio': 0.7602766391671965, 'kTargetDeterminationTrials': 6, 'kAttractionRatio': 0.49927485899158475, 'kMaxAttractionDistance': 61, 'kStartAttraction': 0.44998593365642847}. Best is trial 212 with value: 8401.05.\u001b[0m\n"
     ]
    },
    {
     "name": "stdout",
     "output_type": "stream",
     "text": [
      "index_parallel='0249'\n"
     ]
    },
    {
     "name": "stderr",
     "output_type": "stream",
     "text": [
      "\u001b[32m[I 2022-08-16 08:33:03,603]\u001b[0m Trial 249 finished with value: 8335.094444444445 and parameters: {'kErase': 2, 'kRadius': 4, 'kAnnealingA': 7.445487414998942, 'kAnnealingB': 1.4206156255893405, 'kAnnealingStart': 23.631343229026115, 'kSkipRatio': 0.7296919308582475, 'kTargetDeterminationTrials': 7, 'kAttractionRatio': 0.4477900718613424, 'kMaxAttractionDistance': 56, 'kStartAttraction': 0.5821810340370546}. Best is trial 212 with value: 8401.05.\u001b[0m\n"
     ]
    },
    {
     "name": "stdout",
     "output_type": "stream",
     "text": [
      "index_parallel='0251'\n"
     ]
    },
    {
     "name": "stderr",
     "output_type": "stream",
     "text": [
      "\u001b[32m[I 2022-08-16 08:36:33,074]\u001b[0m Trial 251 finished with value: 8261.205555555556 and parameters: {'kErase': 2, 'kRadius': 4, 'kAnnealingA': 7.133910875919994, 'kAnnealingB': 1.4354634486963167, 'kAnnealingStart': 26.120579766489517, 'kSkipRatio': 0.7427989431757452, 'kTargetDeterminationTrials': 6, 'kAttractionRatio': 0.5501017065115372, 'kMaxAttractionDistance': 56, 'kStartAttraction': 0.6640790797069657}. Best is trial 212 with value: 8401.05.\u001b[0m\n"
     ]
    },
    {
     "name": "stdout",
     "output_type": "stream",
     "text": [
      "index_parallel='0253'\n"
     ]
    },
    {
     "name": "stderr",
     "output_type": "stream",
     "text": [
      "\u001b[32m[I 2022-08-16 08:40:03,278]\u001b[0m Trial 253 finished with value: 8254.505555555555 and parameters: {'kErase': 2, 'kRadius': 4, 'kAnnealingA': 5.965598937083843, 'kAnnealingB': 1.350803108483712, 'kAnnealingStart': 22.215975346493092, 'kSkipRatio': 0.7284573839580114, 'kTargetDeterminationTrials': 8, 'kAttractionRatio': 0.44500872130853425, 'kMaxAttractionDistance': 67, 'kStartAttraction': 0.5379484019360883}. Best is trial 212 with value: 8401.05.\u001b[0m\n"
     ]
    },
    {
     "name": "stdout",
     "output_type": "stream",
     "text": [
      "index_parallel='0255'\n"
     ]
    },
    {
     "name": "stderr",
     "output_type": "stream",
     "text": [
      "\u001b[32m[I 2022-08-16 08:43:32,792]\u001b[0m Trial 255 finished with value: 8331.644444444444 and parameters: {'kErase': 2, 'kRadius': 4, 'kAnnealingA': 4.772193729199638, 'kAnnealingB': 1.1682313687410426, 'kAnnealingStart': 16.412222625372227, 'kSkipRatio': 0.7531374532914668, 'kTargetDeterminationTrials': 7, 'kAttractionRatio': 0.36037469886064283, 'kMaxAttractionDistance': 43, 'kStartAttraction': 0.7037614361316407}. Best is trial 212 with value: 8401.05.\u001b[0m\n"
     ]
    },
    {
     "name": "stdout",
     "output_type": "stream",
     "text": [
      "index_parallel='0257'\n"
     ]
    },
    {
     "name": "stderr",
     "output_type": "stream",
     "text": [
      "\u001b[32m[I 2022-08-16 08:47:02,372]\u001b[0m Trial 257 finished with value: 8272.644444444444 and parameters: {'kErase': 2, 'kRadius': 4, 'kAnnealingA': 5.236462977268205, 'kAnnealingB': 1.7320823363085234, 'kAnnealingStart': 17.269772817253767, 'kSkipRatio': 0.7429749379031194, 'kTargetDeterminationTrials': 7, 'kAttractionRatio': 0.3779040835476905, 'kMaxAttractionDistance': 48, 'kStartAttraction': 0.7797722900649078}. Best is trial 212 with value: 8401.05.\u001b[0m\n"
     ]
    },
    {
     "name": "stdout",
     "output_type": "stream",
     "text": [
      "index_parallel='0259'\n"
     ]
    },
    {
     "name": "stderr",
     "output_type": "stream",
     "text": [
      "\u001b[32m[I 2022-08-16 08:50:31,666]\u001b[0m Trial 259 finished with value: 8233.977777777778 and parameters: {'kErase': 2, 'kRadius': 4, 'kAnnealingA': 7.55806005277096, 'kAnnealingB': 1.7729792167853184, 'kAnnealingStart': 15.61101861542103, 'kSkipRatio': 0.7547036918344836, 'kTargetDeterminationTrials': 7, 'kAttractionRatio': 0.34903608285642984, 'kMaxAttractionDistance': 45, 'kStartAttraction': 0.6912593553466867}. Best is trial 212 with value: 8401.05.\u001b[0m\n"
     ]
    },
    {
     "name": "stdout",
     "output_type": "stream",
     "text": [
      "index_parallel='0261'\n"
     ]
    },
    {
     "name": "stderr",
     "output_type": "stream",
     "text": [
      "\u001b[32m[I 2022-08-16 08:54:01,138]\u001b[0m Trial 261 finished with value: 8340.527777777777 and parameters: {'kErase': 2, 'kRadius': 4, 'kAnnealingA': 6.160092580886477, 'kAnnealingB': 1.1030548525380293, 'kAnnealingStart': 19.22693631439967, 'kSkipRatio': 0.7885201616499422, 'kTargetDeterminationTrials': 8, 'kAttractionRatio': 0.4640925550091197, 'kMaxAttractionDistance': 42, 'kStartAttraction': 0.6125522839872998}. Best is trial 212 with value: 8401.05.\u001b[0m\n"
     ]
    },
    {
     "name": "stdout",
     "output_type": "stream",
     "text": [
      "index_parallel='0263'\n"
     ]
    },
    {
     "name": "stderr",
     "output_type": "stream",
     "text": [
      "\u001b[32m[I 2022-08-16 08:57:30,646]\u001b[0m Trial 263 finished with value: 8327.211111111112 and parameters: {'kErase': 2, 'kRadius': 4, 'kAnnealingA': 6.85090829095049, 'kAnnealingB': 1.0583032855865224, 'kAnnealingStart': 19.180371871038815, 'kSkipRatio': 0.7934356531887623, 'kTargetDeterminationTrials': 9, 'kAttractionRatio': 0.5009902197409787, 'kMaxAttractionDistance': 43, 'kStartAttraction': 0.787506596330205}. Best is trial 212 with value: 8401.05.\u001b[0m\n"
     ]
    },
    {
     "name": "stdout",
     "output_type": "stream",
     "text": [
      "index_parallel='0265'\n"
     ]
    },
    {
     "name": "stderr",
     "output_type": "stream",
     "text": [
      "\u001b[32m[I 2022-08-16 09:01:00,119]\u001b[0m Trial 265 finished with value: 8110.4111111111115 and parameters: {'kErase': 2, 'kRadius': 4, 'kAnnealingA': 6.936304457893598, 'kAnnealingB': 1.6977256423981752, 'kAnnealingStart': 17.367211576668193, 'kSkipRatio': 0.7274275169315625, 'kTargetDeterminationTrials': 8, 'kAttractionRatio': 0.6166882586183273, 'kMaxAttractionDistance': 41, 'kStartAttraction': 0.054705992562802716}. Best is trial 212 with value: 8401.05.\u001b[0m\n"
     ]
    },
    {
     "name": "stdout",
     "output_type": "stream",
     "text": [
      "index_parallel='0267'\n"
     ]
    },
    {
     "name": "stderr",
     "output_type": "stream",
     "text": [
      "\u001b[32m[I 2022-08-16 09:04:29,541]\u001b[0m Trial 267 finished with value: 7656.427777777778 and parameters: {'kErase': 2, 'kRadius': 4, 'kAnnealingA': 4.690221168383929, 'kAnnealingB': 1.0303993340356468, 'kAnnealingStart': 50.1789046609447, 'kSkipRatio': 0.7787379839482801, 'kTargetDeterminationTrials': 8, 'kAttractionRatio': 0.3160096269477487, 'kMaxAttractionDistance': 49, 'kStartAttraction': 0.6247765760598006}. Best is trial 212 with value: 8401.05.\u001b[0m\n"
     ]
    },
    {
     "name": "stdout",
     "output_type": "stream",
     "text": [
      "index_parallel='0269'\n"
     ]
    },
    {
     "name": "stderr",
     "output_type": "stream",
     "text": [
      "\u001b[32m[I 2022-08-16 09:07:59,010]\u001b[0m Trial 269 finished with value: 8285.7 and parameters: {'kErase': 2, 'kRadius': 4, 'kAnnealingA': 5.556317865058417, 'kAnnealingB': 1.086181859535977, 'kAnnealingStart': 20.22927569306692, 'kSkipRatio': 0.7724528625142284, 'kTargetDeterminationTrials': 6, 'kAttractionRatio': 0.43021729720651875, 'kMaxAttractionDistance': 45, 'kStartAttraction': 0.6967636464255784}. Best is trial 212 with value: 8401.05.\u001b[0m\n"
     ]
    },
    {
     "name": "stdout",
     "output_type": "stream",
     "text": [
      "index_parallel='0271'\n"
     ]
    },
    {
     "name": "stderr",
     "output_type": "stream",
     "text": [
      "\u001b[32m[I 2022-08-16 09:11:29,804]\u001b[0m Trial 271 finished with value: 8129.116666666667 and parameters: {'kErase': 2, 'kRadius': 4, 'kAnnealingA': 7.52673792287999, 'kAnnealingB': 1.1731430469327535, 'kAnnealingStart': 16.465867922112096, 'kSkipRatio': 0.708177740619578, 'kTargetDeterminationTrials': 6, 'kAttractionRatio': 0.4635280007538636, 'kMaxAttractionDistance': 43, 'kStartAttraction': 0.08282523985703324}. Best is trial 212 with value: 8401.05.\u001b[0m\n"
     ]
    },
    {
     "name": "stdout",
     "output_type": "stream",
     "text": [
      "index_parallel='0273'\n"
     ]
    },
    {
     "name": "stderr",
     "output_type": "stream",
     "text": [
      "\u001b[32m[I 2022-08-16 09:14:59,130]\u001b[0m Trial 273 finished with value: 8322.766666666666 and parameters: {'kErase': 2, 'kRadius': 4, 'kAnnealingA': 6.326024777296458, 'kAnnealingB': 1.2147021923453996, 'kAnnealingStart': 18.679557611334342, 'kSkipRatio': 0.7801495185107882, 'kTargetDeterminationTrials': 7, 'kAttractionRatio': 0.392397342790982, 'kMaxAttractionDistance': 53, 'kStartAttraction': 0.5985521461302051}. Best is trial 212 with value: 8401.05.\u001b[0m\n"
     ]
    },
    {
     "name": "stdout",
     "output_type": "stream",
     "text": [
      "index_parallel='0275'\n"
     ]
    },
    {
     "name": "stderr",
     "output_type": "stream",
     "text": [
      "\u001b[32m[I 2022-08-16 09:18:28,801]\u001b[0m Trial 275 finished with value: 8329.777777777777 and parameters: {'kErase': 2, 'kRadius': 4, 'kAnnealingA': 3.1409929613640424, 'kAnnealingB': 0.9771592702092781, 'kAnnealingStart': 20.698553841432183, 'kSkipRatio': 0.748163456766403, 'kTargetDeterminationTrials': 7, 'kAttractionRatio': 0.3167249701532866, 'kMaxAttractionDistance': 48, 'kStartAttraction': 0.6725906616295511}. Best is trial 212 with value: 8401.05.\u001b[0m\n"
     ]
    },
    {
     "name": "stdout",
     "output_type": "stream",
     "text": [
      "index_parallel='0277'\n"
     ]
    },
    {
     "name": "stderr",
     "output_type": "stream",
     "text": [
      "\u001b[32m[I 2022-08-16 09:21:58,327]\u001b[0m Trial 277 finished with value: 8318.005555555555 and parameters: {'kErase': 2, 'kRadius': 4, 'kAnnealingA': 2.5101038322177427, 'kAnnealingB': 0.8942582828548282, 'kAnnealingStart': 20.17064455840579, 'kSkipRatio': 0.7484470266304466, 'kTargetDeterminationTrials': 3, 'kAttractionRatio': 0.5323049249186482, 'kMaxAttractionDistance': 47, 'kStartAttraction': 0.8127705372851296}. Best is trial 212 with value: 8401.05.\u001b[0m\n"
     ]
    },
    {
     "name": "stdout",
     "output_type": "stream",
     "text": [
      "index_parallel='0279'\n"
     ]
    },
    {
     "name": "stderr",
     "output_type": "stream",
     "text": [
      "\u001b[32m[I 2022-08-16 09:25:27,746]\u001b[0m Trial 279 finished with value: 8272.55 and parameters: {'kErase': 2, 'kRadius': 4, 'kAnnealingA': 0.04072274441632343, 'kAnnealingB': 1.051878763632623, 'kAnnealingStart': 18.177201050637603, 'kSkipRatio': 0.7597884222267843, 'kTargetDeterminationTrials': 3, 'kAttractionRatio': 0.3546664634237075, 'kMaxAttractionDistance': 55, 'kStartAttraction': 0.7027110748132398}. Best is trial 212 with value: 8401.05.\u001b[0m\n"
     ]
    },
    {
     "name": "stdout",
     "output_type": "stream",
     "text": [
      "index_parallel='0281'\n"
     ]
    },
    {
     "name": "stderr",
     "output_type": "stream",
     "text": [
      "\u001b[32m[I 2022-08-16 09:28:57,380]\u001b[0m Trial 281 finished with value: 8282.394444444444 and parameters: {'kErase': 2, 'kRadius': 4, 'kAnnealingA': 3.0000053625669114, 'kAnnealingB': 1.800760629922902, 'kAnnealingStart': 15.78573050944509, 'kSkipRatio': 0.7721380824572249, 'kTargetDeterminationTrials': 8, 'kAttractionRatio': 0.32000253744212626, 'kMaxAttractionDistance': 51, 'kStartAttraction': 0.48019951661745824}. Best is trial 212 with value: 8401.05.\u001b[0m\n"
     ]
    },
    {
     "name": "stdout",
     "output_type": "stream",
     "text": [
      "index_parallel='0283'\n"
     ]
    },
    {
     "name": "stderr",
     "output_type": "stream",
     "text": [
      "\u001b[32m[I 2022-08-16 09:32:28,681]\u001b[0m Trial 283 finished with value: 8259.372222222222 and parameters: {'kErase': 2, 'kRadius': 4, 'kAnnealingA': 3.878716411910183, 'kAnnealingB': 0.9580567085188262, 'kAnnealingStart': 21.33379309157214, 'kSkipRatio': 0.7350420544862136, 'kTargetDeterminationTrials': 7, 'kAttractionRatio': 0.2969773373487084, 'kMaxAttractionDistance': 57, 'kStartAttraction': 0.39164951993058095}. Best is trial 212 with value: 8401.05.\u001b[0m\n"
     ]
    },
    {
     "name": "stdout",
     "output_type": "stream",
     "text": [
      "index_parallel='0285'\n"
     ]
    },
    {
     "name": "stderr",
     "output_type": "stream",
     "text": [
      "\u001b[32m[I 2022-08-16 09:35:58,391]\u001b[0m Trial 285 finished with value: 7803.872222222222 and parameters: {'kErase': 2, 'kRadius': 4, 'kAnnealingA': -0.9255498083836871, 'kAnnealingB': 1.1277280229278568, 'kAnnealingStart': 24.326548250521526, 'kSkipRatio': 0.2857968295848222, 'kTargetDeterminationTrials': 6, 'kAttractionRatio': 0.3750194526203072, 'kMaxAttractionDistance': 42, 'kStartAttraction': 0.5659787837126921}. Best is trial 212 with value: 8401.05.\u001b[0m\n"
     ]
    },
    {
     "name": "stdout",
     "output_type": "stream",
     "text": [
      "index_parallel='0287'\n"
     ]
    },
    {
     "name": "stderr",
     "output_type": "stream",
     "text": [
      "\u001b[32m[I 2022-08-16 09:39:27,971]\u001b[0m Trial 287 finished with value: 8301.077777777778 and parameters: {'kErase': 2, 'kRadius': 4, 'kAnnealingA': 4.901286416227307, 'kAnnealingB': 1.246568733451346, 'kAnnealingStart': 18.978976821385675, 'kSkipRatio': 0.7856492764452662, 'kTargetDeterminationTrials': 7, 'kAttractionRatio': 0.45499776158982663, 'kMaxAttractionDistance': 60, 'kStartAttraction': 0.5123292236505428}. Best is trial 212 with value: 8401.05.\u001b[0m\n"
     ]
    },
    {
     "name": "stdout",
     "output_type": "stream",
     "text": [
      "index_parallel='0289'\n"
     ]
    },
    {
     "name": "stderr",
     "output_type": "stream",
     "text": [
      "\u001b[32m[I 2022-08-16 09:42:57,309]\u001b[0m Trial 289 finished with value: 8297.211111111112 and parameters: {'kErase': 2, 'kRadius': 4, 'kAnnealingA': 8.380860765098623, 'kAnnealingB': 1.572853067197655, 'kAnnealingStart': 21.469199952961187, 'kSkipRatio': 0.7466965513707949, 'kTargetDeterminationTrials': 4, 'kAttractionRatio': 0.4144174410251052, 'kMaxAttractionDistance': 54, 'kStartAttraction': 0.8965859259433587}. Best is trial 212 with value: 8401.05.\u001b[0m\n"
     ]
    },
    {
     "name": "stdout",
     "output_type": "stream",
     "text": [
      "index_parallel='0291'\n"
     ]
    },
    {
     "name": "stderr",
     "output_type": "stream",
     "text": [
      "\u001b[32m[I 2022-08-16 09:46:26,632]\u001b[0m Trial 291 finished with value: 8303.85 and parameters: {'kErase': 2, 'kRadius': 4, 'kAnnealingA': 5.647884660851565, 'kAnnealingB': 1.6560014252825142, 'kAnnealingStart': 17.63540586624086, 'kSkipRatio': 0.7685108840410944, 'kTargetDeterminationTrials': 6, 'kAttractionRatio': 0.7029845769125055, 'kMaxAttractionDistance': 48, 'kStartAttraction': 0.6139227439069534}. Best is trial 212 with value: 8401.05.\u001b[0m\n"
     ]
    },
    {
     "name": "stdout",
     "output_type": "stream",
     "text": [
      "index_parallel='0293'\n"
     ]
    },
    {
     "name": "stderr",
     "output_type": "stream",
     "text": [
      "\u001b[32m[I 2022-08-16 09:49:55,978]\u001b[0m Trial 293 finished with value: 8230.127777777778 and parameters: {'kErase': 2, 'kRadius': 4, 'kAnnealingA': 7.227030269371069, 'kAnnealingB': 1.7195815223295796, 'kAnnealingStart': 24.173186579380708, 'kSkipRatio': 0.7489503145240498, 'kTargetDeterminationTrials': 9, 'kAttractionRatio': 0.32504268198963215, 'kMaxAttractionDistance': 50, 'kStartAttraction': 0.3145038602377775}. Best is trial 212 with value: 8401.05.\u001b[0m\n"
     ]
    },
    {
     "name": "stdout",
     "output_type": "stream",
     "text": [
      "index_parallel='0295'\n"
     ]
    },
    {
     "name": "stderr",
     "output_type": "stream",
     "text": [
      "\u001b[32m[I 2022-08-16 09:53:25,224]\u001b[0m Trial 295 finished with value: 8247.127777777778 and parameters: {'kErase': 2, 'kRadius': 4, 'kAnnealingA': 6.116324317186181, 'kAnnealingB': 1.8101434101484006, 'kAnnealingStart': 28.669658283787065, 'kSkipRatio': 0.7109371977322643, 'kTargetDeterminationTrials': 5, 'kAttractionRatio': 0.36694037155434506, 'kMaxAttractionDistance': 38, 'kStartAttraction': 0.27372482666387865}. Best is trial 212 with value: 8401.05.\u001b[0m\n"
     ]
    },
    {
     "name": "stdout",
     "output_type": "stream",
     "text": [
      "index_parallel='0297'\n"
     ]
    },
    {
     "name": "stderr",
     "output_type": "stream",
     "text": [
      "\u001b[32m[I 2022-08-16 09:56:54,689]\u001b[0m Trial 297 finished with value: 8319.572222222223 and parameters: {'kErase': 2, 'kRadius': 4, 'kAnnealingA': 5.878615842782829, 'kAnnealingB': 1.660968340466024, 'kAnnealingStart': 24.782430145406227, 'kSkipRatio': 0.701113566299341, 'kTargetDeterminationTrials': 5, 'kAttractionRatio': 0.414763161884307, 'kMaxAttractionDistance': 63, 'kStartAttraction': 0.43076924756873164}. Best is trial 212 with value: 8401.05.\u001b[0m\n"
     ]
    },
    {
     "name": "stdout",
     "output_type": "stream",
     "text": [
      "index_parallel='0299'\n"
     ]
    },
    {
     "name": "stderr",
     "output_type": "stream",
     "text": [
      "\u001b[32m[I 2022-08-16 10:00:24,237]\u001b[0m Trial 299 finished with value: 7974.872222222222 and parameters: {'kErase': 2, 'kRadius': 4, 'kAnnealingA': 7.903697997072142, 'kAnnealingB': 1.5284010221933126, 'kAnnealingStart': 22.87404382260716, 'kSkipRatio': 0.7214057630434284, 'kTargetDeterminationTrials': 6, 'kAttractionRatio': 0.3419432433287682, 'kMaxAttractionDistance': 4, 'kStartAttraction': 0.44943412506525965}. Best is trial 212 with value: 8401.05.\u001b[0m\n"
     ]
    },
    {
     "name": "stdout",
     "output_type": "stream",
     "text": [
      "index_parallel='0301'\n"
     ]
    },
    {
     "name": "stderr",
     "output_type": "stream",
     "text": [
      "\u001b[32m[I 2022-08-16 10:03:53,637]\u001b[0m Trial 301 finished with value: 8255.56111111111 and parameters: {'kErase': 2, 'kRadius': 4, 'kAnnealingA': 6.6666410898087936, 'kAnnealingB': 1.6083333937206663, 'kAnnealingStart': 19.560902100639918, 'kSkipRatio': 0.7232509473014342, 'kTargetDeterminationTrials': 8, 'kAttractionRatio': 0.5622496942337738, 'kMaxAttractionDistance': 58, 'kStartAttraction': 0.3898746928279177}. Best is trial 212 with value: 8401.05.\u001b[0m\n"
     ]
    },
    {
     "name": "stdout",
     "output_type": "stream",
     "text": [
      "index_parallel='0303'\n"
     ]
    },
    {
     "name": "stderr",
     "output_type": "stream",
     "text": [
      "\u001b[32m[I 2022-08-16 10:07:23,260]\u001b[0m Trial 303 finished with value: 8106.961111111111 and parameters: {'kErase': 2, 'kRadius': 4, 'kAnnealingA': 6.8406683005556985, 'kAnnealingB': 1.7543586199246406, 'kAnnealingStart': 17.154118597344052, 'kSkipRatio': 0.7728587057816938, 'kTargetDeterminationTrials': 7, 'kAttractionRatio': 0.469582255857326, 'kMaxAttractionDistance': 44, 'kStartAttraction': 0.020765694185117645}. Best is trial 212 with value: 8401.05.\u001b[0m\n"
     ]
    },
    {
     "name": "stdout",
     "output_type": "stream",
     "text": [
      "index_parallel='0305'\n"
     ]
    },
    {
     "name": "stderr",
     "output_type": "stream",
     "text": [
      "\u001b[32m[I 2022-08-16 10:10:52,660]\u001b[0m Trial 305 finished with value: 8358.016666666666 and parameters: {'kErase': 2, 'kRadius': 4, 'kAnnealingA': 5.16246345127751, 'kAnnealingB': 1.4794829959168618, 'kAnnealingStart': 21.727947049281244, 'kSkipRatio': 0.7578502294427886, 'kTargetDeterminationTrials': 9, 'kAttractionRatio': 0.27899914555619987, 'kMaxAttractionDistance': 55, 'kStartAttraction': 0.5148295472533316}. Best is trial 212 with value: 8401.05.\u001b[0m\n"
     ]
    },
    {
     "name": "stdout",
     "output_type": "stream",
     "text": [
      "index_parallel='0307'\n"
     ]
    },
    {
     "name": "stderr",
     "output_type": "stream",
     "text": [
      "\u001b[32m[I 2022-08-16 10:14:21,992]\u001b[0m Trial 307 finished with value: 8229.544444444444 and parameters: {'kErase': 2, 'kRadius': 4, 'kAnnealingA': 4.701852777073394, 'kAnnealingB': 1.4788692808334813, 'kAnnealingStart': 25.31954886636255, 'kSkipRatio': 0.7582029642083233, 'kTargetDeterminationTrials': 10, 'kAttractionRatio': 0.26709566163057946, 'kMaxAttractionDistance': 66, 'kStartAttraction': 0.5068920814004023}. Best is trial 212 with value: 8401.05.\u001b[0m\n"
     ]
    },
    {
     "name": "stdout",
     "output_type": "stream",
     "text": [
      "index_parallel='0309'\n"
     ]
    },
    {
     "name": "stderr",
     "output_type": "stream",
     "text": [
      "\u001b[32m[I 2022-08-16 10:17:51,899]\u001b[0m Trial 309 finished with value: 8375.583333333334 and parameters: {'kErase': 2, 'kRadius': 4, 'kAnnealingA': 5.536703462854336, 'kAnnealingB': 1.4200105652149468, 'kAnnealingStart': 17.97750419357916, 'kSkipRatio': 0.7486628629531461, 'kTargetDeterminationTrials': 9, 'kAttractionRatio': 0.29001665609527466, 'kMaxAttractionDistance': 18, 'kStartAttraction': 0.5175045532105885}. Best is trial 212 with value: 8401.05.\u001b[0m\n"
     ]
    },
    {
     "name": "stdout",
     "output_type": "stream",
     "text": [
      "index_parallel='0311'\n"
     ]
    },
    {
     "name": "stderr",
     "output_type": "stream",
     "text": [
      "\u001b[32m[I 2022-08-16 10:21:21,223]\u001b[0m Trial 311 finished with value: 8171.627777777778 and parameters: {'kErase': 2, 'kRadius': 4, 'kAnnealingA': 5.8115529631017955, 'kAnnealingB': 1.321557446719687, 'kAnnealingStart': 20.72913460974819, 'kSkipRatio': 0.7885803444726271, 'kTargetDeterminationTrials': 10, 'kAttractionRatio': 0.25013395992054377, 'kMaxAttractionDistance': 17, 'kStartAttraction': 0.034634299754461535}. Best is trial 212 with value: 8401.05.\u001b[0m\n"
     ]
    },
    {
     "name": "stdout",
     "output_type": "stream",
     "text": [
      "index_parallel='0313'\n"
     ]
    },
    {
     "name": "stderr",
     "output_type": "stream",
     "text": [
      "\u001b[32m[I 2022-08-16 10:24:51,211]\u001b[0m Trial 313 finished with value: 8254.611111111111 and parameters: {'kErase': 2, 'kRadius': 4, 'kAnnealingA': 6.353595846188276, 'kAnnealingB': 1.4192423877588947, 'kAnnealingStart': 18.27589814907375, 'kSkipRatio': 0.7394901842044229, 'kTargetDeterminationTrials': 8, 'kAttractionRatio': 0.05874004265199756, 'kMaxAttractionDistance': 60, 'kStartAttraction': 0.44873379486568993}. Best is trial 212 with value: 8401.05.\u001b[0m\n"
     ]
    },
    {
     "name": "stdout",
     "output_type": "stream",
     "text": [
      "index_parallel='0315'\n"
     ]
    },
    {
     "name": "stderr",
     "output_type": "stream",
     "text": [
      "\u001b[32m[I 2022-08-16 10:28:20,922]\u001b[0m Trial 315 finished with value: 7639.194444444444 and parameters: {'kErase': 2, 'kRadius': 4, 'kAnnealingA': -11.706161489663833, 'kAnnealingB': 1.5167563826994659, 'kAnnealingStart': 23.08047539994497, 'kSkipRatio': 0.7338620865620314, 'kTargetDeterminationTrials': 9, 'kAttractionRatio': 0.24152568261424529, 'kMaxAttractionDistance': 63, 'kStartAttraction': 0.01326775924747139}. Best is trial 212 with value: 8401.05.\u001b[0m\n"
     ]
    },
    {
     "name": "stdout",
     "output_type": "stream",
     "text": [
      "index_parallel='0317'\n"
     ]
    },
    {
     "name": "stderr",
     "output_type": "stream",
     "text": [
      "\u001b[32m[I 2022-08-16 10:31:50,892]\u001b[0m Trial 317 finished with value: 8279.211111111112 and parameters: {'kErase': 2, 'kRadius': 4, 'kAnnealingA': 5.41384968683594, 'kAnnealingB': 1.4912976021853648, 'kAnnealingStart': 21.418788369406602, 'kSkipRatio': 0.7493211064364842, 'kTargetDeterminationTrials': 10, 'kAttractionRatio': 0.275924059049868, 'kMaxAttractionDistance': 13, 'kStartAttraction': 0.24959009118563663}. Best is trial 212 with value: 8401.05.\u001b[0m\n"
     ]
    },
    {
     "name": "stdout",
     "output_type": "stream",
     "text": [
      "index_parallel='0319'\n"
     ]
    },
    {
     "name": "stderr",
     "output_type": "stream",
     "text": [
      "\u001b[32m[I 2022-08-16 10:35:20,451]\u001b[0m Trial 319 finished with value: 8139.2555555555555 and parameters: {'kErase': 2, 'kRadius': 4, 'kAnnealingA': 6.50371246166482, 'kAnnealingB': 1.5615500844045618, 'kAnnealingStart': 17.771378220414707, 'kSkipRatio': 0.7648291853335366, 'kTargetDeterminationTrials': 9, 'kAttractionRatio': 0.2919576441908797, 'kMaxAttractionDistance': 55, 'kStartAttraction': 0.0030014807152413353}. Best is trial 212 with value: 8401.05.\u001b[0m\n"
     ]
    },
    {
     "name": "stdout",
     "output_type": "stream",
     "text": [
      "index_parallel='0321'\n"
     ]
    },
    {
     "name": "stderr",
     "output_type": "stream",
     "text": [
      "\u001b[32m[I 2022-08-16 10:38:49,857]\u001b[0m Trial 321 finished with value: 8278.038888888888 and parameters: {'kErase': 2, 'kRadius': 4, 'kAnnealingA': 7.242044998092881, 'kAnnealingB': 1.4356725787840168, 'kAnnealingStart': 26.67709969312205, 'kSkipRatio': 0.7108123053994588, 'kTargetDeterminationTrials': 10, 'kAttractionRatio': 0.5279558464593583, 'kMaxAttractionDistance': 15, 'kStartAttraction': 0.5004521198676612}. Best is trial 212 with value: 8401.05.\u001b[0m\n"
     ]
    },
    {
     "name": "stdout",
     "output_type": "stream",
     "text": [
      "index_parallel='0323'\n"
     ]
    },
    {
     "name": "stderr",
     "output_type": "stream",
     "text": [
      "\u001b[32m[I 2022-08-16 10:42:19,456]\u001b[0m Trial 323 finished with value: 8302.43888888889 and parameters: {'kErase': 2, 'kRadius': 4, 'kAnnealingA': 5.652563335464228, 'kAnnealingB': 1.411135340871757, 'kAnnealingStart': 24.85180595718515, 'kSkipRatio': 0.7674233259852233, 'kTargetDeterminationTrials': 9, 'kAttractionRatio': 0.22515222806741828, 'kMaxAttractionDistance': 11, 'kStartAttraction': 0.29187609667746633}. Best is trial 212 with value: 8401.05.\u001b[0m\n"
     ]
    },
    {
     "name": "stdout",
     "output_type": "stream",
     "text": [
      "index_parallel='0325'\n"
     ]
    },
    {
     "name": "stderr",
     "output_type": "stream",
     "text": [
      "\u001b[32m[I 2022-08-16 10:45:48,760]\u001b[0m Trial 325 finished with value: 8234.272222222222 and parameters: {'kErase': 2, 'kRadius': 4, 'kAnnealingA': 9.319562979182974, 'kAnnealingB': 1.5252990905446855, 'kAnnealingStart': 30.67957261311291, 'kSkipRatio': 0.7533383174801673, 'kTargetDeterminationTrials': 10, 'kAttractionRatio': 0.24848369588541844, 'kMaxAttractionDistance': 19, 'kStartAttraction': 0.40929211911361013}. Best is trial 212 with value: 8401.05.\u001b[0m\n"
     ]
    },
    {
     "name": "stdout",
     "output_type": "stream",
     "text": [
      "index_parallel='0327'\n"
     ]
    },
    {
     "name": "stderr",
     "output_type": "stream",
     "text": [
      "\u001b[32m[I 2022-08-16 10:49:17,996]\u001b[0m Trial 327 finished with value: 8282.538888888888 and parameters: {'kErase': 2, 'kRadius': 4, 'kAnnealingA': 6.813412626350417, 'kAnnealingB': 1.8988616491864423, 'kAnnealingStart': 15.089076547482522, 'kSkipRatio': 0.7428383905141591, 'kTargetDeterminationTrials': 9, 'kAttractionRatio': 0.26518340867116463, 'kMaxAttractionDistance': 14, 'kStartAttraction': 0.5066634931599743}. Best is trial 212 with value: 8401.05.\u001b[0m\n"
     ]
    },
    {
     "name": "stdout",
     "output_type": "stream",
     "text": [
      "index_parallel='0329'\n"
     ]
    },
    {
     "name": "stderr",
     "output_type": "stream",
     "text": [
      "\u001b[32m[I 2022-08-16 10:52:47,718]\u001b[0m Trial 329 finished with value: 8358.277777777777 and parameters: {'kErase': 2, 'kRadius': 4, 'kAnnealingA': 7.884759487613433, 'kAnnealingB': 1.6339652379144165, 'kAnnealingStart': 19.03422568912907, 'kSkipRatio': 0.7723201335874541, 'kTargetDeterminationTrials': 8, 'kAttractionRatio': 0.6251193624715383, 'kMaxAttractionDistance': 10, 'kStartAttraction': 0.5443808956143679}. Best is trial 212 with value: 8401.05.\u001b[0m\n"
     ]
    },
    {
     "name": "stdout",
     "output_type": "stream",
     "text": [
      "index_parallel='0331'\n"
     ]
    },
    {
     "name": "stderr",
     "output_type": "stream",
     "text": [
      "\u001b[32m[I 2022-08-16 10:56:17,292]\u001b[0m Trial 331 finished with value: 8348.366666666667 and parameters: {'kErase': 2, 'kRadius': 4, 'kAnnealingA': 8.004465865068074, 'kAnnealingB': 1.7226651756920905, 'kAnnealingStart': 18.50746063722322, 'kSkipRatio': 0.7984724821195494, 'kTargetDeterminationTrials': 11, 'kAttractionRatio': 0.6198779350342329, 'kMaxAttractionDistance': 10, 'kStartAttraction': 0.5476176799456195}. Best is trial 212 with value: 8401.05.\u001b[0m\n"
     ]
    },
    {
     "name": "stdout",
     "output_type": "stream",
     "text": [
      "index_parallel='0333'\n"
     ]
    },
    {
     "name": "stderr",
     "output_type": "stream",
     "text": [
      "\u001b[32m[I 2022-08-16 10:59:46,753]\u001b[0m Trial 333 finished with value: 8271.433333333332 and parameters: {'kErase': 2, 'kRadius': 4, 'kAnnealingA': 8.36014076737357, 'kAnnealingB': 1.7747877012853466, 'kAnnealingStart': 16.51782884447288, 'kSkipRatio': 0.7896894395849626, 'kTargetDeterminationTrials': 10, 'kAttractionRatio': 0.6843603273538029, 'kMaxAttractionDistance': 10, 'kStartAttraction': 0.5299176641881006}. Best is trial 212 with value: 8401.05.\u001b[0m\n"
     ]
    },
    {
     "name": "stdout",
     "output_type": "stream",
     "text": [
      "index_parallel='0335'\n"
     ]
    },
    {
     "name": "stderr",
     "output_type": "stream",
     "text": [
      "\u001b[32m[I 2022-08-16 11:03:16,221]\u001b[0m Trial 335 finished with value: 8307.166666666666 and parameters: {'kErase': 2, 'kRadius': 4, 'kAnnealingA': 8.077230512251552, 'kAnnealingB': 1.6874025240071255, 'kAnnealingStart': 18.604292483321046, 'kSkipRatio': 0.7934087130417116, 'kTargetDeterminationTrials': 9, 'kAttractionRatio': 0.6163419536125126, 'kMaxAttractionDistance': 12, 'kStartAttraction': 0.45914587386312644}. Best is trial 212 with value: 8401.05.\u001b[0m\n"
     ]
    },
    {
     "name": "stdout",
     "output_type": "stream",
     "text": [
      "index_parallel='0337'\n"
     ]
    },
    {
     "name": "stderr",
     "output_type": "stream",
     "text": [
      "\u001b[32m[I 2022-08-16 11:06:46,489]\u001b[0m Trial 337 finished with value: 8316.166666666666 and parameters: {'kErase': 2, 'kRadius': 4, 'kAnnealingA': 7.112010484269462, 'kAnnealingB': 1.7461763128545933, 'kAnnealingStart': 12.536462016202224, 'kSkipRatio': 0.7758821579448225, 'kTargetDeterminationTrials': 11, 'kAttractionRatio': 0.6207852795590661, 'kMaxAttractionDistance': 10, 'kStartAttraction': 0.5698657835058403}. Best is trial 212 with value: 8401.05.\u001b[0m\n"
     ]
    },
    {
     "name": "stdout",
     "output_type": "stream",
     "text": [
      "index_parallel='0339'\n"
     ]
    },
    {
     "name": "stderr",
     "output_type": "stream",
     "text": [
      "\u001b[32m[I 2022-08-16 11:10:17,403]\u001b[0m Trial 339 finished with value: 8074.105555555556 and parameters: {'kErase': 2, 'kRadius': 4, 'kAnnealingA': 6.5257755556262556, 'kAnnealingB': 1.846449675797171, 'kAnnealingStart': 17.32641589245981, 'kSkipRatio': 0.37831763673701824, 'kTargetDeterminationTrials': 11, 'kAttractionRatio': 0.5560333302930512, 'kMaxAttractionDistance': 16, 'kStartAttraction': 0.43150919745624}. Best is trial 212 with value: 8401.05.\u001b[0m\n"
     ]
    },
    {
     "name": "stdout",
     "output_type": "stream",
     "text": [
      "index_parallel='0341'\n"
     ]
    },
    {
     "name": "stderr",
     "output_type": "stream",
     "text": [
      "\u001b[32m[I 2022-08-16 11:13:46,929]\u001b[0m Trial 341 finished with value: 8349.933333333332 and parameters: {'kErase': 2, 'kRadius': 4, 'kAnnealingA': 8.892224292936593, 'kAnnealingB': 1.6243479411073156, 'kAnnealingStart': 20.27712062381504, 'kSkipRatio': 0.7764084455547852, 'kTargetDeterminationTrials': 10, 'kAttractionRatio': 0.27626457399459736, 'kMaxAttractionDistance': 14, 'kStartAttraction': 0.5795138265964612}. Best is trial 212 with value: 8401.05.\u001b[0m\n"
     ]
    },
    {
     "name": "stdout",
     "output_type": "stream",
     "text": [
      "index_parallel='0343'\n"
     ]
    },
    {
     "name": "stderr",
     "output_type": "stream",
     "text": [
      "\u001b[32m[I 2022-08-16 11:17:16,786]\u001b[0m Trial 343 finished with value: 8364.183333333332 and parameters: {'kErase': 2, 'kRadius': 4, 'kAnnealingA': 5.0259641671597715, 'kAnnealingB': 1.6436189251414857, 'kAnnealingStart': 18.710704433920696, 'kSkipRatio': 0.7770496417254966, 'kTargetDeterminationTrials': 11, 'kAttractionRatio': 0.32866744202530535, 'kMaxAttractionDistance': 21, 'kStartAttraction': 0.5689899661769774}. Best is trial 212 with value: 8401.05.\u001b[0m\n"
     ]
    },
    {
     "name": "stdout",
     "output_type": "stream",
     "text": [
      "index_parallel='0345'\n"
     ]
    },
    {
     "name": "stderr",
     "output_type": "stream",
     "text": [
      "\u001b[32m[I 2022-08-16 11:20:46,122]\u001b[0m Trial 345 finished with value: 8334.183333333332 and parameters: {'kErase': 2, 'kRadius': 4, 'kAnnealingA': 9.375443823824995, 'kAnnealingB': 1.6376407738467422, 'kAnnealingStart': 15.537359393108657, 'kSkipRatio': 0.7815564621357761, 'kTargetDeterminationTrials': 10, 'kAttractionRatio': 0.3161969883764533, 'kMaxAttractionDistance': 8, 'kStartAttraction': 0.5791906059583913}. Best is trial 212 with value: 8401.05.\u001b[0m\n"
     ]
    },
    {
     "name": "stdout",
     "output_type": "stream",
     "text": [
      "index_parallel='0347'\n"
     ]
    },
    {
     "name": "stderr",
     "output_type": "stream",
     "text": [
      "\u001b[32m[I 2022-08-16 11:24:15,728]\u001b[0m Trial 347 finished with value: 8037.416666666667 and parameters: {'kErase': 2, 'kRadius': 4, 'kAnnealingA': 8.63142873906817, 'kAnnealingB': 1.5875001001398705, 'kAnnealingStart': 3.7031998610868966, 'kSkipRatio': 0.7716695077767877, 'kTargetDeterminationTrials': 12, 'kAttractionRatio': 0.07282188995664816, 'kMaxAttractionDistance': 7, 'kStartAttraction': 0.5637045094115113}. Best is trial 212 with value: 8401.05.\u001b[0m\n"
     ]
    },
    {
     "name": "stdout",
     "output_type": "stream",
     "text": [
      "index_parallel='0349'\n"
     ]
    },
    {
     "name": "stderr",
     "output_type": "stream",
     "text": [
      "\u001b[32m[I 2022-08-16 11:27:45,049]\u001b[0m Trial 349 finished with value: 8355.083333333334 and parameters: {'kErase': 2, 'kRadius': 4, 'kAnnealingA': 11.055914663382396, 'kAnnealingB': 1.6687719884182446, 'kAnnealingStart': 18.49220942183919, 'kSkipRatio': 0.7706119810956147, 'kTargetDeterminationTrials': 12, 'kAttractionRatio': 0.7050417686028677, 'kMaxAttractionDistance': 10, 'kStartAttraction': 0.4890439211327845}. Best is trial 212 with value: 8401.05.\u001b[0m\n"
     ]
    },
    {
     "name": "stdout",
     "output_type": "stream",
     "text": [
      "index_parallel='0351'\n"
     ]
    },
    {
     "name": "stderr",
     "output_type": "stream",
     "text": [
      "\u001b[32m[I 2022-08-16 11:31:14,638]\u001b[0m Trial 351 finished with value: 8306.95 and parameters: {'kErase': 2, 'kRadius': 4, 'kAnnealingA': 11.64732932665004, 'kAnnealingB': 1.6695080167586454, 'kAnnealingStart': 13.928758631189792, 'kSkipRatio': 0.7576167013483327, 'kTargetDeterminationTrials': 14, 'kAttractionRatio': 0.6513280127373136, 'kMaxAttractionDistance': 8, 'kStartAttraction': 0.4881923239930422}. Best is trial 212 with value: 8401.05.\u001b[0m\n"
     ]
    },
    {
     "name": "stdout",
     "output_type": "stream",
     "text": [
      "index_parallel='0353'\n"
     ]
    },
    {
     "name": "stderr",
     "output_type": "stream",
     "text": [
      "\u001b[32m[I 2022-08-16 11:34:44,104]\u001b[0m Trial 353 finished with value: 7482.905555555555 and parameters: {'kErase': 2, 'kRadius': 4, 'kAnnealingA': 10.57380193538796, 'kAnnealingB': 1.6209026822782298, 'kAnnealingStart': 63.009500924767686, 'kSkipRatio': 0.22083758865021413, 'kTargetDeterminationTrials': 11, 'kAttractionRatio': 0.7486991474231486, 'kMaxAttractionDistance': 9, 'kStartAttraction': 0.46950072635623274}. Best is trial 212 with value: 8401.05.\u001b[0m\n"
     ]
    },
    {
     "name": "stdout",
     "output_type": "stream",
     "text": [
      "index_parallel='0355'\n"
     ]
    },
    {
     "name": "stderr",
     "output_type": "stream",
     "text": [
      "\u001b[32m[I 2022-08-16 11:38:13,412]\u001b[0m Trial 355 finished with value: 8294.533333333333 and parameters: {'kErase': 2, 'kRadius': 4, 'kAnnealingA': 10.769638887289616, 'kAnnealingB': 1.674102624125359, 'kAnnealingStart': 16.83382705430142, 'kSkipRatio': 0.7798792658669843, 'kTargetDeterminationTrials': 13, 'kAttractionRatio': 0.7993750465881808, 'kMaxAttractionDistance': 9, 'kStartAttraction': 0.5241195738693725}. Best is trial 212 with value: 8401.05.\u001b[0m\n"
     ]
    },
    {
     "name": "stdout",
     "output_type": "stream",
     "text": [
      "index_parallel='0357'\n"
     ]
    },
    {
     "name": "stderr",
     "output_type": "stream",
     "text": [
      "\u001b[32m[I 2022-08-16 11:41:42,929]\u001b[0m Trial 357 finished with value: 8342.85 and parameters: {'kErase': 2, 'kRadius': 4, 'kAnnealingA': 12.251217464902016, 'kAnnealingB': 1.5460085939373724, 'kAnnealingStart': 14.791371459173297, 'kSkipRatio': 0.7992159412137145, 'kTargetDeterminationTrials': 14, 'kAttractionRatio': 0.7255333523378313, 'kMaxAttractionDistance': 8, 'kStartAttraction': 0.6802582337582609}. Best is trial 212 with value: 8401.05.\u001b[0m\n"
     ]
    },
    {
     "name": "stdout",
     "output_type": "stream",
     "text": [
      "index_parallel='0359'\n"
     ]
    }
   ],
   "source": [
    "study.optimize(\n",
    "    partial(objective, in_dir=in_dir, work_dir=work_dir),\n",
    "    n_trials=3000,\n",
    "    timeout=86400,\n",
    "    callbacks=[callback]\n",
    ")"
   ]
  },
  {
   "cell_type": "code",
   "execution_count": null,
   "id": "700269d2",
   "metadata": {},
   "outputs": [],
   "source": []
  }
 ],
 "metadata": {
  "kernelspec": {
   "display_name": "Python 3 (ipykernel)",
   "language": "python",
   "name": "python3"
  },
  "language_info": {
   "codemirror_mode": {
    "name": "ipython",
    "version": 3
   },
   "file_extension": ".py",
   "mimetype": "text/x-python",
   "name": "python",
   "nbconvert_exporter": "python",
   "pygments_lexer": "ipython3",
   "version": "3.9.12"
  }
 },
 "nbformat": 4,
 "nbformat_minor": 5
}
