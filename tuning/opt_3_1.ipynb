{
 "cells": [
  {
   "cell_type": "code",
   "execution_count": 1,
   "id": "25a1dac8",
   "metadata": {},
   "outputs": [],
   "source": [
    "import re\n",
    "import sys\n",
    "from uuid import uuid1\n",
    "from time import sleep\n",
    "from pprint import pprint\n",
    "from pathlib import Path\n",
    "from tempfile import gettempdir\n",
    "from threading import Thread\n",
    "from functools import partial\n",
    "from subprocess import Popen, PIPE\n",
    "\n",
    "from tqdm.notebook import tqdm\n",
    "import numpy as np\n",
    "import optuna\n",
    "import pandas as pd\n",
    "import matplotlib.pyplot as plt\n",
    "\n",
    "FILENAME = \"main.cpp\""
   ]
  },
  {
   "cell_type": "code",
   "execution_count": 2,
   "id": "3dd4d02e",
   "metadata": {},
   "outputs": [
    {
     "name": "stdout",
     "output_type": "stream",
     "text": [
      "10 variables were found.\n"
     ]
    },
    {
     "data": {
      "text/html": [
       "<div>\n",
       "<style scoped>\n",
       "    .dataframe tbody tr th:only-of-type {\n",
       "        vertical-align: middle;\n",
       "    }\n",
       "\n",
       "    .dataframe tbody tr th {\n",
       "        vertical-align: top;\n",
       "    }\n",
       "\n",
       "    .dataframe thead th {\n",
       "        text-align: right;\n",
       "    }\n",
       "</style>\n",
       "<table border=\"1\" class=\"dataframe\">\n",
       "  <thead>\n",
       "    <tr style=\"text-align: right;\">\n",
       "      <th></th>\n",
       "      <th>name</th>\n",
       "      <th>method</th>\n",
       "      <th>min</th>\n",
       "      <th>max</th>\n",
       "      <th>log</th>\n",
       "      <th>left</th>\n",
       "      <th>right</th>\n",
       "    </tr>\n",
       "  </thead>\n",
       "  <tbody>\n",
       "    <tr>\n",
       "      <th>0</th>\n",
       "      <td>kErase</td>\n",
       "      <td>suggest_int</td>\n",
       "      <td>1.000</td>\n",
       "      <td>5.0</td>\n",
       "      <td>False</td>\n",
       "      <td>static constexpr auto kErase =</td>\n",
       "      <td>;             // OPTIMIZE [1, 5]</td>\n",
       "    </tr>\n",
       "    <tr>\n",
       "      <th>1</th>\n",
       "      <td>kRadius</td>\n",
       "      <td>suggest_int</td>\n",
       "      <td>2.000</td>\n",
       "      <td>6.0</td>\n",
       "      <td>False</td>\n",
       "      <td>static constexpr auto kRadius =</td>\n",
       "      <td>;            // OPTIMIZE [2, 6]</td>\n",
       "    </tr>\n",
       "    <tr>\n",
       "      <th>2</th>\n",
       "      <td>kAnnealingA</td>\n",
       "      <td>suggest_float</td>\n",
       "      <td>-15.000</td>\n",
       "      <td>15.0</td>\n",
       "      <td>False</td>\n",
       "      <td>static constexpr auto kAnnealingA =</td>\n",
       "      <td>;      // OPTIMIZE [-15.0, 15.0]</td>\n",
       "    </tr>\n",
       "    <tr>\n",
       "      <th>3</th>\n",
       "      <td>kAnnealingB</td>\n",
       "      <td>suggest_float</td>\n",
       "      <td>0.000</td>\n",
       "      <td>3.0</td>\n",
       "      <td>False</td>\n",
       "      <td>static constexpr auto kAnnealingB =</td>\n",
       "      <td>;      // OPTIMIZE [0.0, 3.0]</td>\n",
       "    </tr>\n",
       "    <tr>\n",
       "      <th>4</th>\n",
       "      <td>kAnnealingStart</td>\n",
       "      <td>suggest_float</td>\n",
       "      <td>1.000</td>\n",
       "      <td>100.0</td>\n",
       "      <td>True</td>\n",
       "      <td>static constexpr auto kAnnealingStart =</td>\n",
       "      <td>; // OPTIMIZE LOG [1.0, 100.0]</td>\n",
       "    </tr>\n",
       "    <tr>\n",
       "      <th>5</th>\n",
       "      <td>kSkipRatio</td>\n",
       "      <td>suggest_float</td>\n",
       "      <td>0.200</td>\n",
       "      <td>0.8</td>\n",
       "      <td>False</td>\n",
       "      <td>static constexpr auto kSkipRatio =</td>\n",
       "      <td>;       // OPTIMIZE [0.2, 0.8]</td>\n",
       "    </tr>\n",
       "    <tr>\n",
       "      <th>6</th>\n",
       "      <td>kTargetDeterminationTrials</td>\n",
       "      <td>suggest_int</td>\n",
       "      <td>1.000</td>\n",
       "      <td>20.0</td>\n",
       "      <td>True</td>\n",
       "      <td>static constexpr auto kTargetDeterminationTria...</td>\n",
       "      <td>; // OPTIMIZE LOG [1, 20]</td>\n",
       "    </tr>\n",
       "    <tr>\n",
       "      <th>7</th>\n",
       "      <td>kAttractionRatio</td>\n",
       "      <td>suggest_float</td>\n",
       "      <td>0.010</td>\n",
       "      <td>0.9</td>\n",
       "      <td>True</td>\n",
       "      <td>static constexpr auto kAttractionRatio =</td>\n",
       "      <td>;      // OPTIMIZE LOG [0.01, 0.9]</td>\n",
       "    </tr>\n",
       "    <tr>\n",
       "      <th>8</th>\n",
       "      <td>kMaxAttractionDistance</td>\n",
       "      <td>suggest_int</td>\n",
       "      <td>4.000</td>\n",
       "      <td>99.0</td>\n",
       "      <td>True</td>\n",
       "      <td>static constexpr auto kMaxAttractionDistance =</td>\n",
       "      <td>; // OPTIMIZE LOG [4, 99]</td>\n",
       "    </tr>\n",
       "    <tr>\n",
       "      <th>9</th>\n",
       "      <td>kStartAttraction</td>\n",
       "      <td>suggest_float</td>\n",
       "      <td>0.001</td>\n",
       "      <td>0.9</td>\n",
       "      <td>True</td>\n",
       "      <td>static constexpr auto kStartAttraction =</td>\n",
       "      <td>;     // OPTIMIZE LOG [0.001, 0.9]</td>\n",
       "    </tr>\n",
       "  </tbody>\n",
       "</table>\n",
       "</div>"
      ],
      "text/plain": [
       "                         name         method     min    max    log  \\\n",
       "0                      kErase    suggest_int   1.000    5.0  False   \n",
       "1                     kRadius    suggest_int   2.000    6.0  False   \n",
       "2                 kAnnealingA  suggest_float -15.000   15.0  False   \n",
       "3                 kAnnealingB  suggest_float   0.000    3.0  False   \n",
       "4             kAnnealingStart  suggest_float   1.000  100.0   True   \n",
       "5                  kSkipRatio  suggest_float   0.200    0.8  False   \n",
       "6  kTargetDeterminationTrials    suggest_int   1.000   20.0   True   \n",
       "7            kAttractionRatio  suggest_float   0.010    0.9   True   \n",
       "8      kMaxAttractionDistance    suggest_int   4.000   99.0   True   \n",
       "9            kStartAttraction  suggest_float   0.001    0.9   True   \n",
       "\n",
       "                                                left  \\\n",
       "0                    static constexpr auto kErase =    \n",
       "1                   static constexpr auto kRadius =    \n",
       "2               static constexpr auto kAnnealingA =    \n",
       "3               static constexpr auto kAnnealingB =    \n",
       "4           static constexpr auto kAnnealingStart =    \n",
       "5                static constexpr auto kSkipRatio =    \n",
       "6  static constexpr auto kTargetDeterminationTria...   \n",
       "7          static constexpr auto kAttractionRatio =    \n",
       "8    static constexpr auto kMaxAttractionDistance =    \n",
       "9          static constexpr auto kStartAttraction =    \n",
       "\n",
       "                                right  \n",
       "0    ;             // OPTIMIZE [1, 5]  \n",
       "1     ;            // OPTIMIZE [2, 6]  \n",
       "2    ;      // OPTIMIZE [-15.0, 15.0]  \n",
       "3       ;      // OPTIMIZE [0.0, 3.0]  \n",
       "4      ; // OPTIMIZE LOG [1.0, 100.0]  \n",
       "5      ;       // OPTIMIZE [0.2, 0.8]  \n",
       "6           ; // OPTIMIZE LOG [1, 20]  \n",
       "7  ;      // OPTIMIZE LOG [0.01, 0.9]  \n",
       "8           ; // OPTIMIZE LOG [4, 99]  \n",
       "9  ;     // OPTIMIZE LOG [0.001, 0.9]  "
      ]
     },
     "metadata": {},
     "output_type": "display_data"
    }
   ],
   "source": [
    "# ここでエラー出力は何かおかしいかもしれない\n",
    "\n",
    "\n",
    "# パラメータ抽出\n",
    "with open(FILENAME) as f:\n",
    "    answer = f.read()\n",
    "\n",
    "\n",
    "variables_optimize = []\n",
    "\n",
    "for left, value, right, options in re.findall(r\"^([^/\\n]*=\\s*)(.+?)(\\s*;\\s*//(?:.*\\W)?OPTIMIZE(\\W.*))$\", answer, re.MULTILINE):\n",
    "    name = left.replace(\"=\", \"\").strip().split()[-1]\n",
    "    \n",
    "    searched = re.search(r\".*\\[(?P<min>.*),(?P<max>.*)\\].*\", options)\n",
    "    if searched:\n",
    "        min_value = max_value = None\n",
    "        try:\n",
    "            min_value = eval(searched.group(\"min\"))\n",
    "            max_value = eval(searched.group(\"max\"))\n",
    "            assert min_value <= max_value\n",
    "        except Exception as e:\n",
    "            print(f\"searched={searched}\", file=sys.stderr)\n",
    "            print(e, file=sys.stderr)\n",
    "            continue\n",
    "        log = \"LOG\" in options  # 雑、直したほうが良い\n",
    "        if type(min_value) != type(max_value):\n",
    "            print(f\"searched={searched}\", file=sys.stderr)\n",
    "            print(\"types not matched\", file=sys.stderr)\n",
    "            continue\n",
    "        if isinstance(min_value, int):\n",
    "            method = \"suggest_int\"\n",
    "        elif isinstance(min_value, float):\n",
    "            method = \"suggest_float\"\n",
    "        else:\n",
    "            print(f\"searched={searched}\", file=sys.stderr)\n",
    "            print(f\"unknown type ({type(min_value)})\", file=sys.stderr)\n",
    "            continue\n",
    "        variables_optimize.append({\n",
    "            \"name\": name,\n",
    "            \"method\": method,\n",
    "            \"min\": min_value,\n",
    "            \"max\": max_value,\n",
    "            \"log\": log,\n",
    "            \"left\": left,\n",
    "            \"right\": right,\n",
    "        })\n",
    "    elif searched := re.search(r\".*\\{(?P<choices>.*?)\\}.*\", options):\n",
    "        choices = list(map(lambda x: x.strip(), searched.group(\"choices\").split(\",\")))\n",
    "        variables_optimize.append({\n",
    "            \"name\": name,\n",
    "            \"method\": \"suggest_categorical\",\n",
    "            \"choices\": choices,\n",
    "            \"left\": left,\n",
    "            \"right\": right,\n",
    "        })\n",
    "    else:\n",
    "        print(f\"searched={searched}\", file=sys.stderr)\n",
    "        print(f\"pattern was matched but options are incorrect.\", file=sys.stderr)\n",
    "\n",
    "print(len(variables_optimize), \"variables were found.\")\n",
    "if globals().get(\"pd\"):\n",
    "    display(pd.DataFrame(variables_optimize))\n",
    "else:\n",
    "    pprint(variables_optimize)"
   ]
  },
  {
   "cell_type": "code",
   "execution_count": 3,
   "id": "001042b9",
   "metadata": {},
   "outputs": [],
   "source": [
    "def escape(string):  # 正規表現の中でそのまま使いたい文字列をエスケープ\n",
    "    res = !echo '{string}' | sed -e 's/[]\\/$*.^[]/\\\\&/g'\n",
    "    return res[0]\n",
    "\n",
    "def escape_sed(string):  # sed の置換後の文字列用のエスケープ\n",
    "    res = !echo '{string}' | sed -e 's/[\\/&]/\\\\&/g'\n",
    "    return res[0]\n",
    "\n",
    "def read_stream(name, in_file, out_file):\n",
    "    for line in in_file:\n",
    "        print(f\"[{name}] {line.strip()}\", file=out_file)\n",
    "\n",
    "def run(cmd, name):\n",
    "    proc = Popen(cmd, stdout=PIPE, stderr=PIPE, universal_newlines=True, shell=isinstance(cmd, str))\n",
    "    stdout_thread = Thread(target=read_stream, args=(name, proc.stdout, sys.stdout))\n",
    "    stderr_thread = Thread(target=read_stream, args=(name, proc.stderr, sys.stderr))\n",
    "    stdout_thread.start()\n",
    "    stderr_thread.start()\n",
    "    proc.wait()\n",
    "    return proc\n",
    "\n",
    "def objective(trial, in_dir, work_dir):\n",
    "    n_internal_parallel = 3\n",
    "    \n",
    "    index_parallel = f\"{trial.number:04d}\"\n",
    "    print(f\"{index_parallel=}\")\n",
    "    \n",
    "    work_dir = Path(work_dir)\n",
    "    directory_input = Path(in_dir)  # 中のすべてのファイルに対して実行される\n",
    "    #parameters_changed_filename = Path(gettempdir()) / str(uuid1())\n",
    "    parameters_changed_filename = work_dir / f\"{index_parallel}_{FILENAME}\"\n",
    "    \n",
    "    run([\"mkdir\", f\"{work_dir / index_parallel}_out\"], \"mkdir\")\n",
    "    run([\"mkdir\", f\"{work_dir / index_parallel}_score\"], \"mkdir\")\n",
    "    \n",
    "    # ファイル作成\n",
    "    run(f\"cp {FILENAME} {parameters_changed_filename}\", \"cp\")\n",
    "    sed_options = [f\"-i {parameters_changed_filename}\"]\n",
    "    for variable in variables_optimize:\n",
    "        if variable[\"method\"] == \"suggest_categorical\":\n",
    "            val =  trial.suggest_categorical(variable[\"name\"], variable[\"choices\"])\n",
    "        else:\n",
    "            val = getattr(trial, variable[\"method\"])(variable[\"name\"], variable[\"min\"], variable[\"max\"], log=variable[\"log\"])\n",
    "        left = variable[\"left\"]\n",
    "        right = variable[\"right\"]\n",
    "        sed_options.append(f\"\"\"-e 's/^{escape(left)}.*{escape(right)}$/{escape_sed(left)}{val}{escape_sed(right)}/'\"\"\")\n",
    "    command_sed = f\"sed {' '.join(sed_options)}\"\n",
    "    #print(command_sed)\n",
    "    run(command_sed, \"sed\")\n",
    "    \n",
    "    # コンパイル\n",
    "    command_compile = f\"g++ {parameters_changed_filename} -std=gnu++17 -O2 -DONLINE_JUDGE -o {parameters_changed_filename}.out\"\n",
    "    #print(command_compile)\n",
    "    run(command_compile, \"compile\")\n",
    "    # 実行・採点コマンド (@ はファイル名)\n",
    "    command_exec = (\n",
    "        #f\"./a.out < ./tools/in/{i:04d}.txt > {out_file} && ./tools/target/release/vis ./tools/in/{i:04d}.txt {out_file}\"\n",
    "        #f\"../tools/target/release/tester $(pwd)/{parameters_changed_filename}.out < {directory_input}/@ 2>&1 | grep Score\"\n",
    "        #f\"../tools/target/release/tester $(pwd)/{parameters_changed_filename}.out < {directory_input}/@ 2>&1 | grep Score | sed -E s/[^0-9]+// > ./{index_parallel}_score/@;\"\n",
    "        #f\"cargo run --release --manifest-path ../tools/Cargo.toml --bin tester {directory_input}/@ $(pwd)/{parameters_changed_filename}.out 2>&1 | grep Score | sed -E s/[^0-9]+// > ./{index_parallel}_score/@;\"\n",
    "        f\"./{parameters_changed_filename}.out < {directory_input}/@ > {work_dir / index_parallel}_out/@;\"\n",
    "        f\"../tools/target/release/vis {directory_input}/@ {work_dir / index_parallel}_out/@ 2> /dev/null > {work_dir / index_parallel}_score/@;\"\n",
    "    )\n",
    "    # 並列実行 (sed はパスのディレクトリ部分を消してファイル名にしてる)\n",
    "    run(f\"find {directory_input}/* | sed 's!^.*/!!' | xargs -I@ -P {n_internal_parallel} sh -c '{command_exec}'\", \"exec\")\n",
    "    \n",
    "    # 集計\n",
    "    scores = []\n",
    "    for file_path in Path(f\"{work_dir / index_parallel}_score/\").iterdir():  \n",
    "        with open(file_path) as f:\n",
    "            scores.append(int(f.readline().strip().split()[-1]))\n",
    "    mean_score = sum(scores) / len(scores)\n",
    "    \n",
    "    # 後始末\n",
    "    run(f\"rm -rf {work_dir / index_parallel}_out\", \"rm\")\n",
    "    run(f\"rm -rf {work_dir / index_parallel}_score\", \"rm\")\n",
    "    #run(f\"rm {parameters_changed_filename}\", \"rm\")\n",
    "    run(f\"rm {parameters_changed_filename}.out\", \"rm\")\n",
    "    \n",
    "    return mean_score"
   ]
  },
  {
   "cell_type": "code",
   "execution_count": 4,
   "id": "2d2e133c",
   "metadata": {},
   "outputs": [
    {
     "name": "stderr",
     "output_type": "stream",
     "text": [
      "\u001b[32m[I 2022-08-15 21:26:20,621]\u001b[0m A new study created in RDB with name: study_3_1\u001b[0m\n"
     ]
    }
   ],
   "source": [
    "K = 3\n",
    "N_CLASS = 1\n",
    "\n",
    "in_dir = Path(f\"in_{K}_{N_CLASS}\")\n",
    "work_dir = Path(f\"work_{K}_{N_CLASS}\")\n",
    "\n",
    "study_name = f\"study_{K}_{N_CLASS}\"\n",
    "storage_path = work_dir / \"study.db\"\n",
    "storage = f\"sqlite:///{storage_path}\"\n",
    "study = optuna.create_study(storage=storage, load_if_exists=True, study_name=study_name, direction=\"maximize\")\n",
    "\n",
    "def callback(study, trial):\n",
    "    try:\n",
    "        index_parallel = f\"{trial.number:04d}\"\n",
    "        parameters_changed_filename = work_dir / f\"{index_parallel}_{FILENAME}\"\n",
    "        if study.best_value == trial.value:\n",
    "            print(f\"Updated! {study.best_value}\")\n",
    "            !cp {parameters_changed_filename} {work_dir / \"best_parameters.cpp\"}\n",
    "        !rm {parameters_changed_filename}\n",
    "    except:\n",
    "        print(\":(\")\n"
   ]
  },
  {
   "cell_type": "code",
   "execution_count": null,
   "id": "61c2901d",
   "metadata": {},
   "outputs": [
    {
     "name": "stdout",
     "output_type": "stream",
     "text": [
      "index_parallel='0000'\n"
     ]
    },
    {
     "name": "stderr",
     "output_type": "stream",
     "text": [
      "\u001b[32m[I 2022-08-15 21:29:48,860]\u001b[0m Trial 0 finished with value: 7942.577777777778 and parameters: {'kErase': 1, 'kRadius': 2, 'kAnnealingA': -0.2322047913038361, 'kAnnealingB': 1.7027144293390224, 'kAnnealingStart': 72.15794832162278, 'kSkipRatio': 0.4822500370978347, 'kTargetDeterminationTrials': 1, 'kAttractionRatio': 0.4010589367825143, 'kMaxAttractionDistance': 34, 'kStartAttraction': 0.05430022840257587}. Best is trial 0 with value: 7942.577777777778.\u001b[0m\n"
     ]
    },
    {
     "name": "stdout",
     "output_type": "stream",
     "text": [
      "Updated! 7942.577777777778\n",
      "index_parallel='0001'\n"
     ]
    },
    {
     "name": "stderr",
     "output_type": "stream",
     "text": [
      "\u001b[32m[I 2022-08-15 21:33:18,409]\u001b[0m Trial 1 finished with value: 6925.133333333333 and parameters: {'kErase': 4, 'kRadius': 6, 'kAnnealingA': -11.271040838945543, 'kAnnealingB': 0.1893406583170386, 'kAnnealingStart': 65.39835031603953, 'kSkipRatio': 0.31081484041672813, 'kTargetDeterminationTrials': 4, 'kAttractionRatio': 0.07684182648651862, 'kMaxAttractionDistance': 84, 'kStartAttraction': 0.010942872254739132}. Best is trial 0 with value: 7942.577777777778.\u001b[0m\n"
     ]
    },
    {
     "name": "stdout",
     "output_type": "stream",
     "text": [
      "index_parallel='0002'\n"
     ]
    },
    {
     "name": "stderr",
     "output_type": "stream",
     "text": [
      "\u001b[32m[I 2022-08-15 21:36:47,848]\u001b[0m Trial 2 finished with value: 6967.9 and parameters: {'kErase': 3, 'kRadius': 5, 'kAnnealingA': 8.515607418985166, 'kAnnealingB': 2.2655752386061048, 'kAnnealingStart': 49.948721632452276, 'kSkipRatio': 0.4053450574104117, 'kTargetDeterminationTrials': 2, 'kAttractionRatio': 0.5108077217886164, 'kMaxAttractionDistance': 10, 'kStartAttraction': 0.8198100417275427}. Best is trial 0 with value: 7942.577777777778.\u001b[0m\n"
     ]
    },
    {
     "name": "stdout",
     "output_type": "stream",
     "text": [
      "index_parallel='0003'\n"
     ]
    },
    {
     "name": "stderr",
     "output_type": "stream",
     "text": [
      "\u001b[32m[I 2022-08-15 21:40:17,720]\u001b[0m Trial 3 finished with value: 7319.544444444445 and parameters: {'kErase': 3, 'kRadius': 6, 'kAnnealingA': -10.523728343135744, 'kAnnealingB': 1.8967761689720286, 'kAnnealingStart': 59.7184894427481, 'kSkipRatio': 0.25701886949703, 'kTargetDeterminationTrials': 2, 'kAttractionRatio': 0.1065443229094596, 'kMaxAttractionDistance': 6, 'kStartAttraction': 0.0032553610198282797}. Best is trial 0 with value: 7942.577777777778.\u001b[0m\n"
     ]
    },
    {
     "name": "stdout",
     "output_type": "stream",
     "text": [
      "index_parallel='0004'\n"
     ]
    },
    {
     "name": "stderr",
     "output_type": "stream",
     "text": [
      "\u001b[32m[I 2022-08-15 21:43:47,437]\u001b[0m Trial 4 finished with value: 6955.016666666666 and parameters: {'kErase': 4, 'kRadius': 4, 'kAnnealingA': -4.275691405417401, 'kAnnealingB': 1.5493629529176687, 'kAnnealingStart': 3.197927305355024, 'kSkipRatio': 0.5886419937593017, 'kTargetDeterminationTrials': 2, 'kAttractionRatio': 0.828413969370925, 'kMaxAttractionDistance': 33, 'kStartAttraction': 0.003998252714902452}. Best is trial 0 with value: 7942.577777777778.\u001b[0m\n"
     ]
    },
    {
     "name": "stdout",
     "output_type": "stream",
     "text": [
      "index_parallel='0005'\n"
     ]
    },
    {
     "name": "stderr",
     "output_type": "stream",
     "text": [
      "\u001b[32m[I 2022-08-15 21:47:16,235]\u001b[0m Trial 5 finished with value: 7756.322222222222 and parameters: {'kErase': 1, 'kRadius': 6, 'kAnnealingA': 12.107732853102963, 'kAnnealingB': 1.107647222959649, 'kAnnealingStart': 1.3453587730192356, 'kSkipRatio': 0.5130328902613612, 'kTargetDeterminationTrials': 4, 'kAttractionRatio': 0.4353500419562066, 'kMaxAttractionDistance': 5, 'kStartAttraction': 0.07002845101034887}. Best is trial 0 with value: 7942.577777777778.\u001b[0m\n"
     ]
    },
    {
     "name": "stdout",
     "output_type": "stream",
     "text": [
      "index_parallel='0006'\n"
     ]
    },
    {
     "name": "stderr",
     "output_type": "stream",
     "text": [
      "\u001b[32m[I 2022-08-15 21:50:45,752]\u001b[0m Trial 6 finished with value: 7777.0 and parameters: {'kErase': 4, 'kRadius': 6, 'kAnnealingA': 8.142557923673778, 'kAnnealingB': 2.581593198067683, 'kAnnealingStart': 55.529469323430014, 'kSkipRatio': 0.711601232122719, 'kTargetDeterminationTrials': 5, 'kAttractionRatio': 0.33535426199724483, 'kMaxAttractionDistance': 18, 'kStartAttraction': 0.05243593580106069}. Best is trial 0 with value: 7942.577777777778.\u001b[0m\n"
     ]
    },
    {
     "name": "stdout",
     "output_type": "stream",
     "text": [
      "index_parallel='0007'\n"
     ]
    },
    {
     "name": "stderr",
     "output_type": "stream",
     "text": [
      "\u001b[32m[I 2022-08-15 21:54:15,168]\u001b[0m Trial 7 finished with value: 6442.766666666666 and parameters: {'kErase': 3, 'kRadius': 5, 'kAnnealingA': 11.682081155982548, 'kAnnealingB': 0.47210027194625015, 'kAnnealingStart': 93.69320551425194, 'kSkipRatio': 0.393112511866871, 'kTargetDeterminationTrials': 1, 'kAttractionRatio': 0.2793389943033544, 'kMaxAttractionDistance': 87, 'kStartAttraction': 0.13809674316131082}. Best is trial 0 with value: 7942.577777777778.\u001b[0m\n"
     ]
    },
    {
     "name": "stdout",
     "output_type": "stream",
     "text": [
      "index_parallel='0008'\n"
     ]
    },
    {
     "name": "stderr",
     "output_type": "stream",
     "text": [
      "\u001b[32m[I 2022-08-15 21:57:44,851]\u001b[0m Trial 8 finished with value: 7201.455555555555 and parameters: {'kErase': 3, 'kRadius': 3, 'kAnnealingA': -10.114759017836107, 'kAnnealingB': 0.9851691113978593, 'kAnnealingStart': 18.938784689938355, 'kSkipRatio': 0.23146043891845733, 'kTargetDeterminationTrials': 1, 'kAttractionRatio': 0.10736905087795039, 'kMaxAttractionDistance': 7, 'kStartAttraction': 0.004132159164697211}. Best is trial 0 with value: 7942.577777777778.\u001b[0m\n"
     ]
    },
    {
     "name": "stdout",
     "output_type": "stream",
     "text": [
      "index_parallel='0009'\n"
     ]
    },
    {
     "name": "stderr",
     "output_type": "stream",
     "text": [
      "\u001b[32m[I 2022-08-15 22:01:14,861]\u001b[0m Trial 9 finished with value: 7757.111111111111 and parameters: {'kErase': 4, 'kRadius': 2, 'kAnnealingA': 14.841757213568311, 'kAnnealingB': 2.9592819446522185, 'kAnnealingStart': 2.292005019156012, 'kSkipRatio': 0.5496949548920452, 'kTargetDeterminationTrials': 3, 'kAttractionRatio': 0.015572101437492351, 'kMaxAttractionDistance': 35, 'kStartAttraction': 0.04486174694406294}. Best is trial 0 with value: 7942.577777777778.\u001b[0m\n"
     ]
    },
    {
     "name": "stdout",
     "output_type": "stream",
     "text": [
      "index_parallel='0010'\n"
     ]
    },
    {
     "name": "stderr",
     "output_type": "stream",
     "text": [
      "\u001b[32m[I 2022-08-15 22:04:43,923]\u001b[0m Trial 10 finished with value: 7957.855555555556 and parameters: {'kErase': 1, 'kRadius': 2, 'kAnnealingA': 2.2339229027242515, 'kAnnealingB': 1.6580909603107084, 'kAnnealingStart': 14.538359090165176, 'kSkipRatio': 0.7646331761888323, 'kTargetDeterminationTrials': 18, 'kAttractionRatio': 0.011935147309236527, 'kMaxAttractionDistance': 40, 'kStartAttraction': 0.2950424795244596}. Best is trial 10 with value: 7957.855555555556.\u001b[0m\n"
     ]
    },
    {
     "name": "stdout",
     "output_type": "stream",
     "text": [
      "Updated! 7957.855555555556\n",
      "index_parallel='0011'\n"
     ]
    },
    {
     "name": "stderr",
     "output_type": "stream",
     "text": [
      "\u001b[32m[I 2022-08-15 22:08:13,182]\u001b[0m Trial 11 finished with value: 7871.9111111111115 and parameters: {'kErase': 1, 'kRadius': 2, 'kAnnealingA': 1.1913539597383114, 'kAnnealingB': 1.7962910008845607, 'kAnnealingStart': 11.884359471103242, 'kSkipRatio': 0.7675157023526996, 'kTargetDeterminationTrials': 20, 'kAttractionRatio': 0.011357206905833566, 'kMaxAttractionDistance': 40, 'kStartAttraction': 0.39576626314303076}. Best is trial 10 with value: 7957.855555555556.\u001b[0m\n"
     ]
    },
    {
     "name": "stdout",
     "output_type": "stream",
     "text": [
      "index_parallel='0012'\n"
     ]
    },
    {
     "name": "stderr",
     "output_type": "stream",
     "text": [
      "\u001b[32m[I 2022-08-15 22:11:42,321]\u001b[0m Trial 12 finished with value: 8179.166666666667 and parameters: {'kErase': 2, 'kRadius': 3, 'kAnnealingA': 1.7392273780781096, 'kAnnealingB': 1.184250214133117, 'kAnnealingStart': 25.537833329778625, 'kSkipRatio': 0.665463201751573, 'kTargetDeterminationTrials': 17, 'kAttractionRatio': 0.03594670625896548, 'kMaxAttractionDistance': 22, 'kStartAttraction': 0.23623877692139025}. Best is trial 12 with value: 8179.166666666667.\u001b[0m\n"
     ]
    },
    {
     "name": "stdout",
     "output_type": "stream",
     "text": [
      "Updated! 8179.166666666667\n",
      "index_parallel='0013'\n"
     ]
    },
    {
     "name": "stderr",
     "output_type": "stream",
     "text": [
      "\u001b[32m[I 2022-08-15 22:15:11,751]\u001b[0m Trial 13 finished with value: 8202.933333333332 and parameters: {'kErase': 2, 'kRadius': 3, 'kAnnealingA': 3.113442803458031, 'kAnnealingB': 1.0474865345656752, 'kAnnealingStart': 22.565759864937213, 'kSkipRatio': 0.6637084815810457, 'kTargetDeterminationTrials': 17, 'kAttractionRatio': 0.030410661980745855, 'kMaxAttractionDistance': 15, 'kStartAttraction': 0.23807587200563332}. Best is trial 13 with value: 8202.933333333332.\u001b[0m\n"
     ]
    },
    {
     "name": "stdout",
     "output_type": "stream",
     "text": [
      "Updated! 8202.933333333332\n",
      "index_parallel='0014'\n"
     ]
    },
    {
     "name": "stderr",
     "output_type": "stream",
     "text": [
      "\u001b[32m[I 2022-08-15 22:18:41,195]\u001b[0m Trial 14 finished with value: 8170.861111111111 and parameters: {'kErase': 2, 'kRadius': 3, 'kAnnealingA': 4.969265819569194, 'kAnnealingB': 0.9703486436914415, 'kAnnealingStart': 24.65277120158919, 'kSkipRatio': 0.6515759472756576, 'kTargetDeterminationTrials': 10, 'kAttractionRatio': 0.03329762786249121, 'kMaxAttractionDistance': 14, 'kStartAttraction': 0.016815000681571553}. Best is trial 13 with value: 8202.933333333332.\u001b[0m\n"
     ]
    },
    {
     "name": "stdout",
     "output_type": "stream",
     "text": [
      "index_parallel='0015'\n"
     ]
    },
    {
     "name": "stderr",
     "output_type": "stream",
     "text": [
      "\u001b[32m[I 2022-08-15 22:22:10,551]\u001b[0m Trial 15 finished with value: 7976.216666666666 and parameters: {'kErase': 2, 'kRadius': 3, 'kAnnealingA': -4.3677821196636195, 'kAnnealingB': 0.5705997917923633, 'kAnnealingStart': 6.228553235878791, 'kSkipRatio': 0.6433437066586987, 'kTargetDeterminationTrials': 10, 'kAttractionRatio': 0.03407366602346241, 'kMaxAttractionDistance': 22, 'kStartAttraction': 0.18080222551253394}. Best is trial 13 with value: 8202.933333333332.\u001b[0m\n"
     ]
    },
    {
     "name": "stdout",
     "output_type": "stream",
     "text": [
      "index_parallel='0016'\n"
     ]
    },
    {
     "name": "stderr",
     "output_type": "stream",
     "text": [
      "\u001b[32m[I 2022-08-15 22:25:39,954]\u001b[0m Trial 16 finished with value: 8142.227777777778 and parameters: {'kErase': 2, 'kRadius': 4, 'kAnnealingA': -3.4462276876097997, 'kAnnealingB': 1.236496692852101, 'kAnnealingStart': 33.13281716958056, 'kSkipRatio': 0.668562906193149, 'kTargetDeterminationTrials': 10, 'kAttractionRatio': 0.033765212097869056, 'kMaxAttractionDistance': 10, 'kStartAttraction': 0.8820428866923166}. Best is trial 13 with value: 8202.933333333332.\u001b[0m\n"
     ]
    },
    {
     "name": "stdout",
     "output_type": "stream",
     "text": [
      "index_parallel='0017'\n"
     ]
    },
    {
     "name": "stderr",
     "output_type": "stream",
     "text": [
      "\u001b[32m[I 2022-08-15 22:29:09,740]\u001b[0m Trial 17 finished with value: 7592.288888888889 and parameters: {'kErase': 5, 'kRadius': 3, 'kAnnealingA': 5.104711244982967, 'kAnnealingB': 0.5568120610162541, 'kAnnealingStart': 6.462196757209885, 'kSkipRatio': 0.5922226705206546, 'kTargetDeterminationTrials': 7, 'kAttractionRatio': 0.05992230824058665, 'kMaxAttractionDistance': 23, 'kStartAttraction': 0.0010372280505244608}. Best is trial 13 with value: 8202.933333333332.\u001b[0m\n"
     ]
    },
    {
     "name": "stdout",
     "output_type": "stream",
     "text": [
      "index_parallel='0018'\n"
     ]
    },
    {
     "name": "stderr",
     "output_type": "stream",
     "text": [
      "\u001b[32m[I 2022-08-15 22:32:38,940]\u001b[0m Trial 18 finished with value: 8075.127777777778 and parameters: {'kErase': 2, 'kRadius': 4, 'kAnnealingA': -1.4778237744019413, 'kAnnealingB': 1.3276889183944458, 'kAnnealingStart': 29.084805442423242, 'kSkipRatio': 0.7847469398572762, 'kTargetDeterminationTrials': 14, 'kAttractionRatio': 0.02122443616924505, 'kMaxAttractionDistance': 60, 'kStartAttraction': 0.13174995653146854}. Best is trial 13 with value: 8202.933333333332.\u001b[0m\n"
     ]
    },
    {
     "name": "stdout",
     "output_type": "stream",
     "text": [
      "index_parallel='0019'\n"
     ]
    },
    {
     "name": "stderr",
     "output_type": "stream",
     "text": [
      "\u001b[32m[I 2022-08-15 22:36:08,285]\u001b[0m Trial 19 finished with value: 8202.05 and parameters: {'kErase': 2, 'kRadius': 3, 'kAnnealingA': 4.347971773307842, 'kAnnealingB': 0.036558998334579984, 'kAnnealingStart': 7.834087328371134, 'kSkipRatio': 0.7097261727044182, 'kTargetDeterminationTrials': 7, 'kAttractionRatio': 0.19923362341888257, 'kMaxAttractionDistance': 10, 'kStartAttraction': 0.36134506080963347}. Best is trial 13 with value: 8202.933333333332.\u001b[0m\n"
     ]
    },
    {
     "name": "stdout",
     "output_type": "stream",
     "text": [
      "index_parallel='0020'\n"
     ]
    },
    {
     "name": "stderr",
     "output_type": "stream",
     "text": [
      "\u001b[32m[I 2022-08-15 22:39:37,355]\u001b[0m Trial 20 finished with value: 7882.611111111111 and parameters: {'kErase': 2, 'kRadius': 5, 'kAnnealingA': -7.400124760167674, 'kAnnealingB': 0.16486207658237326, 'kAnnealingStart': 7.900863652322844, 'kSkipRatio': 0.7151148161732102, 'kTargetDeterminationTrials': 6, 'kAttractionRatio': 0.18875442867346362, 'kMaxAttractionDistance': 4, 'kStartAttraction': 0.5256149687571218}. Best is trial 13 with value: 8202.933333333332.\u001b[0m\n"
     ]
    },
    {
     "name": "stdout",
     "output_type": "stream",
     "text": [
      "index_parallel='0021'\n"
     ]
    },
    {
     "name": "stderr",
     "output_type": "stream",
     "text": [
      "\u001b[32m[I 2022-08-15 22:43:06,804]\u001b[0m Trial 21 finished with value: 8084.016666666666 and parameters: {'kErase': 2, 'kRadius': 3, 'kAnnealingA': 3.6488725342691146, 'kAnnealingB': 0.7852616747764751, 'kAnnealingStart': 3.717382131975882, 'kSkipRatio': 0.7151936493769637, 'kTargetDeterminationTrials': 14, 'kAttractionRatio': 0.18543102820389362, 'kMaxAttractionDistance': 12, 'kStartAttraction': 0.21495305109603802}. Best is trial 13 with value: 8202.933333333332.\u001b[0m\n"
     ]
    },
    {
     "name": "stdout",
     "output_type": "stream",
     "text": [
      "index_parallel='0022'\n"
     ]
    },
    {
     "name": "stderr",
     "output_type": "stream",
     "text": [
      "\u001b[32m[I 2022-08-15 22:46:36,095]\u001b[0m Trial 22 finished with value: 8123.511111111111 and parameters: {'kErase': 2, 'kRadius': 3, 'kAnnealingA': 7.1031805005798745, 'kAnnealingB': 0.06432775928390513, 'kAnnealingStart': 16.629656128224337, 'kSkipRatio': 0.6034244578077579, 'kTargetDeterminationTrials': 8, 'kAttractionRatio': 0.05165018422579958, 'kMaxAttractionDistance': 16, 'kStartAttraction': 0.09004251313294488}. Best is trial 13 with value: 8202.933333333332.\u001b[0m\n"
     ]
    },
    {
     "name": "stdout",
     "output_type": "stream",
     "text": [
      "index_parallel='0023'\n"
     ]
    },
    {
     "name": "stderr",
     "output_type": "stream",
     "text": [
      "\u001b[32m[I 2022-08-15 22:50:05,530]\u001b[0m Trial 23 finished with value: 8173.872222222222 and parameters: {'kErase': 3, 'kRadius': 4, 'kAnnealingA': 2.470334003071167, 'kAnnealingB': 0.7543726210882437, 'kAnnealingStart': 9.550452377839544, 'kSkipRatio': 0.6968120777019925, 'kTargetDeterminationTrials': 14, 'kAttractionRatio': 0.025999878860672596, 'kMaxAttractionDistance': 8, 'kStartAttraction': 0.4357518219103184}. Best is trial 13 with value: 8202.933333333332.\u001b[0m\n"
     ]
    },
    {
     "name": "stdout",
     "output_type": "stream",
     "text": [
      "index_parallel='0024'\n"
     ]
    },
    {
     "name": "stderr",
     "output_type": "stream",
     "text": [
      "\u001b[32m[I 2022-08-15 22:53:34,736]\u001b[0m Trial 24 finished with value: 7775.138888888889 and parameters: {'kErase': 1, 'kRadius': 3, 'kAnnealingA': -14.939982512919125, 'kAnnealingB': 2.23767802019354, 'kAnnealingStart': 35.18917018869041, 'kSkipRatio': 0.4895956968396308, 'kTargetDeterminationTrials': 13, 'kAttractionRatio': 0.1542919178479415, 'kMaxAttractionDistance': 25, 'kStartAttraction': 0.27331810089411995}. Best is trial 13 with value: 8202.933333333332.\u001b[0m\n"
     ]
    },
    {
     "name": "stdout",
     "output_type": "stream",
     "text": [
      "index_parallel='0025'\n"
     ]
    },
    {
     "name": "stderr",
     "output_type": "stream",
     "text": [
      "\u001b[32m[I 2022-08-15 22:57:03,852]\u001b[0m Trial 25 finished with value: 8120.811111111111 and parameters: {'kErase': 2, 'kRadius': 2, 'kAnnealingA': -1.319975866098466, 'kAnnealingB': 0.35669470409780407, 'kAnnealingStart': 19.71490276562249, 'kSkipRatio': 0.6240719778781152, 'kTargetDeterminationTrials': 19, 'kAttractionRatio': 0.05283060848785623, 'kMaxAttractionDistance': 12, 'kStartAttraction': 0.0180755596441086}. Best is trial 13 with value: 8202.933333333332.\u001b[0m\n"
     ]
    },
    {
     "name": "stdout",
     "output_type": "stream",
     "text": [
      "index_parallel='0026'\n"
     ]
    },
    {
     "name": "stderr",
     "output_type": "stream",
     "text": [
      "\u001b[32m[I 2022-08-15 23:00:33,277]\u001b[0m Trial 26 finished with value: 8068.377777777778 and parameters: {'kErase': 2, 'kRadius': 4, 'kAnnealingA': 6.0533131191826195, 'kAnnealingB': 1.395611366921567, 'kAnnealingStart': 5.006951142037057, 'kSkipRatio': 0.7373381393480276, 'kTargetDeterminationTrials': 8, 'kAttractionRatio': 0.019298396350917627, 'kMaxAttractionDistance': 18, 'kStartAttraction': 0.11816393524952817}. Best is trial 13 with value: 8202.933333333332.\u001b[0m\n"
     ]
    },
    {
     "name": "stdout",
     "output_type": "stream",
     "text": [
      "index_parallel='0027'\n"
     ]
    },
    {
     "name": "stderr",
     "output_type": "stream",
     "text": [
      "\u001b[32m[I 2022-08-15 23:04:02,402]\u001b[0m Trial 27 finished with value: 8103.766666666666 and parameters: {'kErase': 1, 'kRadius': 3, 'kAnnealingA': 8.933992526942511, 'kAnnealingB': 2.0648920771578716, 'kAnnealingStart': 10.130945570988516, 'kSkipRatio': 0.7992008941041515, 'kTargetDeterminationTrials': 11, 'kAttractionRatio': 0.045859166418566126, 'kMaxAttractionDistance': 8, 'kStartAttraction': 0.5383375799209787}. Best is trial 13 with value: 8202.933333333332.\u001b[0m\n"
     ]
    },
    {
     "name": "stdout",
     "output_type": "stream",
     "text": [
      "index_parallel='0028'\n"
     ]
    },
    {
     "name": "stderr",
     "output_type": "stream",
     "text": [
      "\u001b[32m[I 2022-08-15 23:07:31,794]\u001b[0m Trial 28 finished with value: 7871.266666666666 and parameters: {'kErase': 3, 'kRadius': 3, 'kAnnealingA': 4.200888228749173, 'kAnnealingB': 0.6997031306897815, 'kAnnealingStart': 39.2375084414812, 'kSkipRatio': 0.5540411286862811, 'kTargetDeterminationTrials': 6, 'kAttractionRatio': 0.09146598723004601, 'kMaxAttractionDistance': 27, 'kStartAttraction': 0.02720130048641511}. Best is trial 13 with value: 8202.933333333332.\u001b[0m\n"
     ]
    },
    {
     "name": "stdout",
     "output_type": "stream",
     "text": [
      "index_parallel='0029'\n"
     ]
    },
    {
     "name": "stderr",
     "output_type": "stream",
     "text": [
      "\u001b[32m[I 2022-08-15 23:11:00,786]\u001b[0m Trial 29 finished with value: 8011.027777777777 and parameters: {'kErase': 1, 'kRadius': 2, 'kAnnealingA': -0.4907464396994534, 'kAnnealingB': 0.9841507527940756, 'kAnnealingStart': 23.163858582997335, 'kSkipRatio': 0.6740579724560718, 'kTargetDeterminationTrials': 16, 'kAttractionRatio': 0.07086014049065376, 'kMaxAttractionDistance': 53, 'kStartAttraction': 0.24072796982933647}. Best is trial 13 with value: 8202.933333333332.\u001b[0m\n"
     ]
    },
    {
     "name": "stdout",
     "output_type": "stream",
     "text": [
      "index_parallel='0030'\n"
     ]
    },
    {
     "name": "stderr",
     "output_type": "stream",
     "text": [
      "\u001b[32m[I 2022-08-15 23:14:29,735]\u001b[0m Trial 30 finished with value: 7873.461111111111 and parameters: {'kErase': 2, 'kRadius': 2, 'kAnnealingA': 0.9988489042220734, 'kAnnealingB': 0.36114155030040584, 'kAnnealingStart': 13.350892191390923, 'kSkipRatio': 0.43526279340063967, 'kTargetDeterminationTrials': 3, 'kAttractionRatio': 0.24957554641416851, 'kMaxAttractionDistance': 13, 'kStartAttraction': 0.035577614984487055}. Best is trial 13 with value: 8202.933333333332.\u001b[0m\n"
     ]
    },
    {
     "name": "stdout",
     "output_type": "stream",
     "text": [
      "index_parallel='0031'\n"
     ]
    },
    {
     "name": "stderr",
     "output_type": "stream",
     "text": [
      "\u001b[32m[I 2022-08-15 23:17:59,569]\u001b[0m Trial 31 finished with value: 8212.733333333334 and parameters: {'kErase': 3, 'kRadius': 4, 'kAnnealingA': 2.7939204862950393, 'kAnnealingB': 0.7446367666703897, 'kAnnealingStart': 8.843954756943798, 'kSkipRatio': 0.7131452573977071, 'kTargetDeterminationTrials': 12, 'kAttractionRatio': 0.026408904719865768, 'kMaxAttractionDistance': 9, 'kStartAttraction': 0.5200422932287608}. Best is trial 31 with value: 8212.733333333334.\u001b[0m\n"
     ]
    },
    {
     "name": "stdout",
     "output_type": "stream",
     "text": [
      "Updated! 8212.733333333334\n",
      "index_parallel='0032'\n"
     ]
    },
    {
     "name": "stderr",
     "output_type": "stream",
     "text": [
      "\u001b[32m[I 2022-08-15 23:21:29,820]\u001b[0m Trial 32 finished with value: 8020.927777777778 and parameters: {'kErase': 5, 'kRadius': 4, 'kAnnealingA': 2.3040561934114514, 'kAnnealingB': 1.2189165709590088, 'kAnnealingStart': 8.567286783370596, 'kSkipRatio': 0.7478237293660518, 'kTargetDeterminationTrials': 12, 'kAttractionRatio': 0.024676876962568532, 'kMaxAttractionDistance': 11, 'kStartAttraction': 0.6231186277777021}. Best is trial 31 with value: 8212.733333333334.\u001b[0m\n"
     ]
    },
    {
     "name": "stdout",
     "output_type": "stream",
     "text": [
      "index_parallel='0033'\n"
     ]
    },
    {
     "name": "stderr",
     "output_type": "stream",
     "text": [
      "\u001b[32m[I 2022-08-15 23:24:59,475]\u001b[0m Trial 33 finished with value: 7916.3 and parameters: {'kErase': 3, 'kRadius': 5, 'kAnnealingA': -2.5991404767250295, 'kAnnealingB': 1.473306478517372, 'kAnnealingStart': 4.330039291152302, 'kSkipRatio': 0.6788122374315286, 'kTargetDeterminationTrials': 8, 'kAttractionRatio': 0.01605301145129425, 'kMaxAttractionDistance': 9, 'kStartAttraction': 0.35344270794607135}. Best is trial 31 with value: 8212.733333333334.\u001b[0m\n"
     ]
    },
    {
     "name": "stdout",
     "output_type": "stream",
     "text": [
      "index_parallel='0034'\n"
     ]
    },
    {
     "name": "stderr",
     "output_type": "stream",
     "text": [
      "\u001b[32m[I 2022-08-15 23:28:29,193]\u001b[0m Trial 34 finished with value: 7542.677777777778 and parameters: {'kErase': 3, 'kRadius': 4, 'kAnnealingA': 9.795285546775219, 'kAnnealingB': 0.842621765221157, 'kAnnealingStart': 44.87160253824979, 'kSkipRatio': 0.6263979097348291, 'kTargetDeterminationTrials': 16, 'kAttractionRatio': 0.04073343301629543, 'kMaxAttractionDistance': 6, 'kStartAttraction': 0.17257925813609173}. Best is trial 31 with value: 8212.733333333334.\u001b[0m\n"
     ]
    },
    {
     "name": "stdout",
     "output_type": "stream",
     "text": [
      "index_parallel='0035'\n"
     ]
    },
    {
     "name": "stderr",
     "output_type": "stream",
     "text": [
      "\u001b[32m[I 2022-08-15 23:31:58,792]\u001b[0m Trial 35 finished with value: 7902.7 and parameters: {'kErase': 3, 'kRadius': 3, 'kAnnealingA': 6.655214396015686, 'kAnnealingB': 0.29676999167572876, 'kAnnealingStart': 2.483525603321725, 'kSkipRatio': 0.5429857303666384, 'kTargetDeterminationTrials': 4, 'kAttractionRatio': 0.13440045602560025, 'kMaxAttractionDistance': 15, 'kStartAttraction': 0.0837424065098601}. Best is trial 31 with value: 8212.733333333334.\u001b[0m\n"
     ]
    },
    {
     "name": "stdout",
     "output_type": "stream",
     "text": [
      "index_parallel='0036'\n"
     ]
    },
    {
     "name": "stderr",
     "output_type": "stream",
     "text": [
      "\u001b[32m[I 2022-08-15 23:35:28,132]\u001b[0m Trial 36 finished with value: 7983.7 and parameters: {'kErase': 2, 'kRadius': 5, 'kAnnealingA': -5.518164961240533, 'kAnnealingB': 0.0236285937734807, 'kAnnealingStart': 6.586893347728067, 'kSkipRatio': 0.3632561720858351, 'kTargetDeterminationTrials': 9, 'kAttractionRatio': 0.07118947629571296, 'kMaxAttractionDistance': 19, 'kStartAttraction': 0.6694893465368115}. Best is trial 31 with value: 8212.733333333334.\u001b[0m\n"
     ]
    },
    {
     "name": "stdout",
     "output_type": "stream",
     "text": [
      "index_parallel='0037'\n"
     ]
    },
    {
     "name": "stderr",
     "output_type": "stream",
     "text": [
      "\u001b[32m[I 2022-08-15 23:38:57,801]\u001b[0m Trial 37 finished with value: 8050.233333333334 and parameters: {'kErase': 4, 'kRadius': 4, 'kAnnealingA': 3.445229181925889, 'kAnnealingB': 1.0747558417984011, 'kAnnealingStart': 11.499465787848292, 'kSkipRatio': 0.7353553684416086, 'kTargetDeterminationTrials': 5, 'kAttractionRatio': 0.025681296898651503, 'kMaxAttractionDistance': 5, 'kStartAttraction': 0.8080895052872487}. Best is trial 31 with value: 8212.733333333334.\u001b[0m\n"
     ]
    },
    {
     "name": "stdout",
     "output_type": "stream",
     "text": [
      "index_parallel='0038'\n"
     ]
    },
    {
     "name": "stderr",
     "output_type": "stream",
     "text": [
      "\u001b[32m[I 2022-08-15 23:42:26,973]\u001b[0m Trial 38 finished with value: 7523.277777777777 and parameters: {'kErase': 1, 'kRadius': 3, 'kAnnealingA': 0.8052704426803389, 'kAnnealingB': 1.661545069644856, 'kAnnealingStart': 74.6869844526518, 'kSkipRatio': 0.6846018655549857, 'kTargetDeterminationTrials': 18, 'kAttractionRatio': 0.014761921679029382, 'kMaxAttractionDistance': 30, 'kStartAttraction': 0.3390341594479201}. Best is trial 31 with value: 8212.733333333334.\u001b[0m\n"
     ]
    },
    {
     "name": "stdout",
     "output_type": "stream",
     "text": [
      "index_parallel='0039'\n"
     ]
    },
    {
     "name": "stderr",
     "output_type": "stream",
     "text": [
      "\u001b[32m[I 2022-08-15 23:45:56,350]\u001b[0m Trial 39 finished with value: 8046.355555555556 and parameters: {'kErase': 3, 'kRadius': 4, 'kAnnealingA': 5.712157583815642, 'kAnnealingB': 0.6656991111601832, 'kAnnealingStart': 24.488431126319526, 'kSkipRatio': 0.5990332260283189, 'kTargetDeterminationTrials': 12, 'kAttractionRatio': 0.5457797546668803, 'kMaxAttractionDistance': 10, 'kStartAttraction': 0.06471667394778312}. Best is trial 31 with value: 8212.733333333334.\u001b[0m\n"
     ]
    },
    {
     "name": "stdout",
     "output_type": "stream",
     "text": [
      "index_parallel='0040'\n"
     ]
    },
    {
     "name": "stderr",
     "output_type": "stream",
     "text": [
      "\u001b[32m[I 2022-08-15 23:49:25,900]\u001b[0m Trial 40 finished with value: 7695.427777777778 and parameters: {'kErase': 4, 'kRadius': 3, 'kAnnealingA': 10.386092107833058, 'kAnnealingB': 0.8778028140674784, 'kAnnealingStart': 18.109735484555603, 'kSkipRatio': 0.5199844697492157, 'kTargetDeterminationTrials': 16, 'kAttractionRatio': 0.8752655366719951, 'kMaxAttractionDistance': 7, 'kStartAttraction': 0.008143723546449488}. Best is trial 31 with value: 8212.733333333334.\u001b[0m\n"
     ]
    },
    {
     "name": "stdout",
     "output_type": "stream",
     "text": [
      "index_parallel='0041'\n"
     ]
    },
    {
     "name": "stderr",
     "output_type": "stream",
     "text": [
      "\u001b[32m[I 2022-08-15 23:52:55,278]\u001b[0m Trial 41 finished with value: 8193.316666666668 and parameters: {'kErase': 3, 'kRadius': 4, 'kAnnealingA': 2.7249358525983634, 'kAnnealingB': 1.244404579601742, 'kAnnealingStart': 8.700732084231706, 'kSkipRatio': 0.6988262253051696, 'kTargetDeterminationTrials': 14, 'kAttractionRatio': 0.02640966538620883, 'kMaxAttractionDistance': 9, 'kStartAttraction': 0.45770009238550424}. Best is trial 31 with value: 8212.733333333334.\u001b[0m\n"
     ]
    },
    {
     "name": "stdout",
     "output_type": "stream",
     "text": [
      "index_parallel='0042'\n"
     ]
    },
    {
     "name": "stderr",
     "output_type": "stream",
     "text": [
      "\u001b[32m[I 2022-08-15 23:56:25,044]\u001b[0m Trial 42 finished with value: 8017.061111111111 and parameters: {'kErase': 3, 'kRadius': 5, 'kAnnealingA': -0.39163292496394764, 'kAnnealingB': 1.1719028833111327, 'kAnnealingStart': 5.246182637531996, 'kSkipRatio': 0.7068996114300952, 'kTargetDeterminationTrials': 20, 'kAttractionRatio': 0.03785372196479639, 'kMaxAttractionDistance': 9, 'kStartAttraction': 0.42981118322665596}. Best is trial 31 with value: 8212.733333333334.\u001b[0m\n"
     ]
    },
    {
     "name": "stdout",
     "output_type": "stream",
     "text": [
      "index_parallel='0043'\n"
     ]
    },
    {
     "name": "stderr",
     "output_type": "stream",
     "text": [
      "\u001b[32m[I 2022-08-15 23:59:54,370]\u001b[0m Trial 43 finished with value: 8111.961111111111 and parameters: {'kErase': 2, 'kRadius': 4, 'kAnnealingA': 3.061805936338749, 'kAnnealingB': 1.3940367386588615, 'kAnnealingStart': 8.27127554684107, 'kSkipRatio': 0.6395407971685595, 'kTargetDeterminationTrials': 15, 'kAttractionRatio': 0.0291733795366054, 'kMaxAttractionDistance': 6, 'kStartAttraction': 0.19164494074793542}. Best is trial 31 with value: 8212.733333333334.\u001b[0m\n"
     ]
    },
    {
     "name": "stdout",
     "output_type": "stream",
     "text": [
      "index_parallel='0044'\n"
     ]
    },
    {
     "name": "stderr",
     "output_type": "stream",
     "text": [
      "\u001b[32m[I 2022-08-16 00:03:23,892]\u001b[0m Trial 44 finished with value: 8217.022222222222 and parameters: {'kErase': 3, 'kRadius': 3, 'kAnnealingA': 7.993681713730304, 'kAnnealingB': 1.1295152399525972, 'kAnnealingStart': 14.520431209046567, 'kSkipRatio': 0.7626758959552453, 'kTargetDeterminationTrials': 12, 'kAttractionRatio': 0.020094798797914284, 'kMaxAttractionDistance': 20, 'kStartAttraction': 0.2734806364319041}. Best is trial 44 with value: 8217.022222222222.\u001b[0m\n"
     ]
    },
    {
     "name": "stdout",
     "output_type": "stream",
     "text": [
      "Updated! 8217.022222222222\n",
      "index_parallel='0045'\n"
     ]
    },
    {
     "name": "stderr",
     "output_type": "stream",
     "text": [
      "\u001b[32m[I 2022-08-16 00:06:53,526]\u001b[0m Trial 45 finished with value: 8023.611111111111 and parameters: {'kErase': 4, 'kRadius': 4, 'kAnnealingA': 7.599768353599106, 'kAnnealingB': 1.828918714386271, 'kAnnealingStart': 14.928820432422214, 'kSkipRatio': 0.7688431572234322, 'kTargetDeterminationTrials': 6, 'kAttractionRatio': 0.019559389330741448, 'kMaxAttractionDistance': 17, 'kStartAttraction': 0.1117866193821698}. Best is trial 44 with value: 8217.022222222222.\u001b[0m\n"
     ]
    },
    {
     "name": "stdout",
     "output_type": "stream",
     "text": [
      "index_parallel='0046'\n"
     ]
    },
    {
     "name": "stderr",
     "output_type": "stream",
     "text": [
      "\u001b[32m[I 2022-08-16 00:10:23,160]\u001b[0m Trial 46 finished with value: 8135.288888888889 and parameters: {'kErase': 3, 'kRadius': 2, 'kAnnealingA': 14.189012300906846, 'kAnnealingB': 1.5575363176858468, 'kAnnealingStart': 12.311372435473933, 'kSkipRatio': 0.7497714967808489, 'kTargetDeterminationTrials': 11, 'kAttractionRatio': 0.01373046865896186, 'kMaxAttractionDistance': 13, 'kStartAttraction': 0.30982418815334367}. Best is trial 44 with value: 8217.022222222222.\u001b[0m\n"
     ]
    },
    {
     "name": "stdout",
     "output_type": "stream",
     "text": [
      "index_parallel='0047'\n"
     ]
    },
    {
     "name": "stderr",
     "output_type": "stream",
     "text": [
      "\u001b[32m[I 2022-08-16 00:13:52,937]\u001b[0m Trial 47 finished with value: 8096.927777777778 and parameters: {'kErase': 4, 'kRadius': 3, 'kAnnealingA': 11.50163856094215, 'kAnnealingB': 1.020127042341737, 'kAnnealingStart': 10.465908379467427, 'kSkipRatio': 0.7277978853473653, 'kTargetDeterminationTrials': 9, 'kAttractionRatio': 0.01148852824615773, 'kMaxAttractionDistance': 7, 'kStartAttraction': 0.6535480631884594}. Best is trial 44 with value: 8217.022222222222.\u001b[0m\n"
     ]
    },
    {
     "name": "stdout",
     "output_type": "stream",
     "text": [
      "index_parallel='0048'\n"
     ]
    },
    {
     "name": "stderr",
     "output_type": "stream",
     "text": [
      "\u001b[32m[I 2022-08-16 00:17:22,588]\u001b[0m Trial 48 finished with value: 8134.238888888889 and parameters: {'kErase': 3, 'kRadius': 4, 'kAnnealingA': 4.605684096678317, 'kAnnealingB': 0.4681822858365692, 'kAnnealingStart': 7.020444312649435, 'kSkipRatio': 0.7948101237024366, 'kTargetDeterminationTrials': 7, 'kAttractionRatio': 0.019412364448119532, 'kMaxAttractionDistance': 11, 'kStartAttraction': 0.48538067629883674}. Best is trial 44 with value: 8217.022222222222.\u001b[0m\n"
     ]
    },
    {
     "name": "stdout",
     "output_type": "stream",
     "text": [
      "index_parallel='0049'\n"
     ]
    },
    {
     "name": "stderr",
     "output_type": "stream",
     "text": [
      "\u001b[32m[I 2022-08-16 00:20:52,390]\u001b[0m Trial 49 finished with value: 7813.033333333334 and parameters: {'kErase': 3, 'kRadius': 3, 'kAnnealingA': 8.789682055344695, 'kAnnealingB': 1.2799721704439184, 'kAnnealingStart': 2.9102465983375603, 'kSkipRatio': 0.44752017815598144, 'kTargetDeterminationTrials': 5, 'kAttractionRatio': 0.3709881978785298, 'kMaxAttractionDistance': 20, 'kStartAttraction': 0.147341381619137}. Best is trial 44 with value: 8217.022222222222.\u001b[0m\n"
     ]
    },
    {
     "name": "stdout",
     "output_type": "stream",
     "text": [
      "index_parallel='0050'\n"
     ]
    },
    {
     "name": "stderr",
     "output_type": "stream",
     "text": [
      "\u001b[32m[I 2022-08-16 00:24:22,064]\u001b[0m Trial 50 finished with value: 7852.272222222222 and parameters: {'kErase': 4, 'kRadius': 5, 'kAnnealingA': 4.922239795698968, 'kAnnealingB': 2.6476075046962473, 'kAnnealingStart': 1.9228403947723214, 'kSkipRatio': 0.7681120356469042, 'kTargetDeterminationTrials': 2, 'kAttractionRatio': 0.02319319420805443, 'kMaxAttractionDistance': 9, 'kStartAttraction': 0.8748025121731243}. Best is trial 44 with value: 8217.022222222222.\u001b[0m\n"
     ]
    },
    {
     "name": "stdout",
     "output_type": "stream",
     "text": [
      "index_parallel='0051'\n"
     ]
    },
    {
     "name": "stderr",
     "output_type": "stream",
     "text": [
      "\u001b[32m[I 2022-08-16 00:27:51,312]\u001b[0m Trial 51 finished with value: 8208.933333333332 and parameters: {'kErase': 2, 'kRadius': 3, 'kAnnealingA': 1.4921899023756033, 'kAnnealingB': 0.8883856628527256, 'kAnnealingStart': 20.875528696395467, 'kSkipRatio': 0.657934080793115, 'kTargetDeterminationTrials': 12, 'kAttractionRatio': 0.03195298317532176, 'kMaxAttractionDistance': 21, 'kStartAttraction': 0.2471248566831098}. Best is trial 44 with value: 8217.022222222222.\u001b[0m\n"
     ]
    },
    {
     "name": "stdout",
     "output_type": "stream",
     "text": [
      "index_parallel='0052'\n"
     ]
    },
    {
     "name": "stderr",
     "output_type": "stream",
     "text": [
      "\u001b[32m[I 2022-08-16 00:31:20,799]\u001b[0m Trial 52 finished with value: 8182.222222222223 and parameters: {'kErase': 2, 'kRadius': 3, 'kAnnealingA': 1.1624413063879317, 'kAnnealingB': 0.9035323933962226, 'kAnnealingStart': 14.826074620837883, 'kSkipRatio': 0.6961568908115131, 'kTargetDeterminationTrials': 12, 'kAttractionRatio': 0.028884337905042985, 'kMaxAttractionDistance': 15, 'kStartAttraction': 0.24777095021198314}. Best is trial 44 with value: 8217.022222222222.\u001b[0m\n"
     ]
    },
    {
     "name": "stdout",
     "output_type": "stream",
     "text": [
      "index_parallel='0053'\n"
     ]
    },
    {
     "name": "stderr",
     "output_type": "stream",
     "text": [
      "\u001b[32m[I 2022-08-16 00:34:50,993]\u001b[0m Trial 53 finished with value: 8145.266666666666 and parameters: {'kErase': 3, 'kRadius': 2, 'kAnnealingA': 3.303324834749785, 'kAnnealingB': 1.0781731136259114, 'kAnnealingStart': 20.54281882097826, 'kSkipRatio': 0.6509552920967361, 'kTargetDeterminationTrials': 9, 'kAttractionRatio': 0.010139562974172752, 'kMaxAttractionDistance': 20, 'kStartAttraction': 0.35510583703026055}. Best is trial 44 with value: 8217.022222222222.\u001b[0m\n"
     ]
    },
    {
     "name": "stdout",
     "output_type": "stream",
     "text": [
      "index_parallel='0054'\n"
     ]
    },
    {
     "name": "stderr",
     "output_type": "stream",
     "text": [
      "\u001b[32m[I 2022-08-16 00:38:20,594]\u001b[0m Trial 54 finished with value: 8143.305555555556 and parameters: {'kErase': 2, 'kRadius': 3, 'kAnnealingA': 0.3357508203004391, 'kAnnealingB': 0.6099014233799827, 'kAnnealingStart': 28.69528161589588, 'kSkipRatio': 0.7181527092246944, 'kTargetDeterminationTrials': 13, 'kAttractionRatio': 0.016957352543900423, 'kMaxAttractionDistance': 31, 'kStartAttraction': 0.4655373024460145}. Best is trial 44 with value: 8217.022222222222.\u001b[0m\n"
     ]
    },
    {
     "name": "stdout",
     "output_type": "stream",
     "text": [
      "index_parallel='0055'\n"
     ]
    },
    {
     "name": "stderr",
     "output_type": "stream",
     "text": [
      "\u001b[32m[I 2022-08-16 00:41:50,293]\u001b[0m Trial 55 finished with value: 7938.905555555555 and parameters: {'kErase': 2, 'kRadius': 4, 'kAnnealingA': 6.24835152078613, 'kAnnealingB': 0.4837033852978594, 'kAnnealingStart': 5.184357596697333, 'kSkipRatio': 0.2900443406075635, 'kTargetDeterminationTrials': 10, 'kAttractionRatio': 0.030368789677212127, 'kMaxAttractionDistance': 14, 'kStartAttraction': 0.27986322541859593}. Best is trial 44 with value: 8217.022222222222.\u001b[0m\n"
     ]
    },
    {
     "name": "stdout",
     "output_type": "stream",
     "text": [
      "index_parallel='0056'\n"
     ]
    },
    {
     "name": "stderr",
     "output_type": "stream",
     "text": [
      "\u001b[32m[I 2022-08-16 00:45:19,919]\u001b[0m Trial 56 finished with value: 7993.538888888889 and parameters: {'kErase': 3, 'kRadius': 3, 'kAnnealingA': -1.7510759861921898, 'kAnnealingB': 1.1393396759192842, 'kAnnealingStart': 16.73513726869865, 'kSkipRatio': 0.5679859922070054, 'kTargetDeterminationTrials': 7, 'kAttractionRatio': 0.05990672464497491, 'kMaxAttractionDistance': 27, 'kStartAttraction': 0.1660137089078526}. Best is trial 44 with value: 8217.022222222222.\u001b[0m\n"
     ]
    },
    {
     "name": "stdout",
     "output_type": "stream",
     "text": [
      "index_parallel='0057'\n"
     ]
    },
    {
     "name": "stderr",
     "output_type": "stream",
     "text": [
      "\u001b[32m[I 2022-08-16 00:48:49,320]\u001b[0m Trial 57 finished with value: 8103.127777777778 and parameters: {'kErase': 2, 'kRadius': 6, 'kAnnealingA': 7.779817427935329, 'kAnnealingB': 0.17915919756261522, 'kAnnealingStart': 12.466624134882837, 'kSkipRatio': 0.6147796057876741, 'kTargetDeterminationTrials': 17, 'kAttractionRatio': 0.04474304523370602, 'kMaxAttractionDistance': 11, 'kStartAttraction': 0.0950951287997862}. Best is trial 44 with value: 8217.022222222222.\u001b[0m\n"
     ]
    },
    {
     "name": "stdout",
     "output_type": "stream",
     "text": [
      "index_parallel='0058'\n"
     ]
    },
    {
     "name": "stderr",
     "output_type": "stream",
     "text": [
      "\u001b[32m[I 2022-08-16 00:52:18,996]\u001b[0m Trial 58 finished with value: 7896.05 and parameters: {'kErase': 3, 'kRadius': 3, 'kAnnealingA': 2.53898329141167, 'kAnnealingB': 1.520553254452714, 'kAnnealingStart': 8.6844785974232, 'kSkipRatio': 0.6641288836408444, 'kTargetDeterminationTrials': 14, 'kAttractionRatio': 0.10251250182471795, 'kMaxAttractionDistance': 8, 'kStartAttraction': 0.0017761783907206067}. Best is trial 44 with value: 8217.022222222222.\u001b[0m\n"
     ]
    },
    {
     "name": "stdout",
     "output_type": "stream",
     "text": [
      "index_parallel='0059'\n"
     ]
    },
    {
     "name": "stderr",
     "output_type": "stream",
     "text": [
      "\u001b[32m[I 2022-08-16 00:55:47,871]\u001b[0m Trial 59 finished with value: 8176.927777777778 and parameters: {'kErase': 1, 'kRadius': 4, 'kAnnealingA': 1.7305429449193468, 'kAnnealingB': 0.790288149186698, 'kAnnealingStart': 21.965084860541772, 'kSkipRatio': 0.7544959385510998, 'kTargetDeterminationTrials': 11, 'kAttractionRatio': 0.48029093634888115, 'kMaxAttractionDistance': 22, 'kStartAttraction': 0.19864009648583744}. Best is trial 44 with value: 8217.022222222222.\u001b[0m\n"
     ]
    },
    {
     "name": "stdout",
     "output_type": "stream",
     "text": [
      "index_parallel='0060'\n"
     ]
    },
    {
     "name": "stderr",
     "output_type": "stream",
     "text": [
      "\u001b[32m[I 2022-08-16 00:59:17,360]\u001b[0m Trial 60 finished with value: 8116.655555555555 and parameters: {'kErase': 2, 'kRadius': 3, 'kAnnealingA': 4.281521942681755, 'kAnnealingB': 1.3254394958584865, 'kAnnealingStart': 7.143739871809455, 'kSkipRatio': 0.7776268621022908, 'kTargetDeterminationTrials': 20, 'kAttractionRatio': 0.013279891519282543, 'kMaxAttractionDistance': 5, 'kStartAttraction': 0.6036676251708966}. Best is trial 44 with value: 8217.022222222222.\u001b[0m\n"
     ]
    },
    {
     "name": "stdout",
     "output_type": "stream",
     "text": [
      "index_parallel='0061'\n"
     ]
    },
    {
     "name": "stderr",
     "output_type": "stream",
     "text": [
      "\u001b[32m[I 2022-08-16 01:02:46,726]\u001b[0m Trial 61 finished with value: 8098.166666666667 and parameters: {'kErase': 2, 'kRadius': 3, 'kAnnealingA': -0.44228464838898285, 'kAnnealingB': 0.9429512561956683, 'kAnnealingStart': 13.913772593615217, 'kSkipRatio': 0.6924663731297276, 'kTargetDeterminationTrials': 12, 'kAttractionRatio': 0.02899407774803444, 'kMaxAttractionDistance': 16, 'kStartAttraction': 0.2238991382736072}. Best is trial 44 with value: 8217.022222222222.\u001b[0m\n"
     ]
    },
    {
     "name": "stdout",
     "output_type": "stream",
     "text": [
      "index_parallel='0062'\n"
     ]
    },
    {
     "name": "stderr",
     "output_type": "stream",
     "text": [
      "\u001b[32m[I 2022-08-16 01:06:16,142]\u001b[0m Trial 62 finished with value: 8161.888888888889 and parameters: {'kErase': 2, 'kRadius': 3, 'kAnnealingA': 0.9692905944208298, 'kAnnealingB': 0.9009744453134271, 'kAnnealingStart': 16.231527033817077, 'kSkipRatio': 0.7023249037236305, 'kTargetDeterminationTrials': 13, 'kAttractionRatio': 0.022386205081019413, 'kMaxAttractionDistance': 15, 'kStartAttraction': 0.2562705184648469}. Best is trial 44 with value: 8217.022222222222.\u001b[0m\n"
     ]
    },
    {
     "name": "stdout",
     "output_type": "stream",
     "text": [
      "index_parallel='0063'\n"
     ]
    },
    {
     "name": "stderr",
     "output_type": "stream",
     "text": [
      "\u001b[32m[I 2022-08-16 01:09:45,368]\u001b[0m Trial 63 finished with value: 8059.1 and parameters: {'kErase': 2, 'kRadius': 3, 'kAnnealingA': 1.8770573748999158, 'kAnnealingB': 0.7221987164058952, 'kAnnealingStart': 10.55287652896783, 'kSkipRatio': 0.7245988226905276, 'kTargetDeterminationTrials': 15, 'kAttractionRatio': 0.0301904048440214, 'kMaxAttractionDistance': 13, 'kStartAttraction': 0.4159921968640496}. Best is trial 44 with value: 8217.022222222222.\u001b[0m\n"
     ]
    },
    {
     "name": "stdout",
     "output_type": "stream",
     "text": [
      "index_parallel='0064'\n"
     ]
    },
    {
     "name": "stderr",
     "output_type": "stream",
     "text": [
      "\u001b[32m[I 2022-08-16 01:13:15,495]\u001b[0m Trial 64 finished with value: 7968.627777777778 and parameters: {'kErase': 3, 'kRadius': 2, 'kAnnealingA': 5.75110384114681, 'kAnnealingB': 1.0753921244505509, 'kAnnealingStart': 29.873482617654634, 'kSkipRatio': 0.6628530160962649, 'kTargetDeterminationTrials': 10, 'kAttractionRatio': 0.03902419757677787, 'kMaxAttractionDistance': 24, 'kStartAttraction': 0.3260606089223812}. Best is trial 44 with value: 8217.022222222222.\u001b[0m\n"
     ]
    },
    {
     "name": "stdout",
     "output_type": "stream",
     "text": [
      "index_parallel='0065'\n"
     ]
    },
    {
     "name": "stderr",
     "output_type": "stream",
     "text": [
      "\u001b[32m[I 2022-08-16 01:16:44,831]\u001b[0m Trial 65 finished with value: 8079.538888888889 and parameters: {'kErase': 2, 'kRadius': 3, 'kAnnealingA': 4.12329495068789, 'kAnnealingB': 1.2185715947607019, 'kAnnealingStart': 9.242238432617608, 'kSkipRatio': 0.6956305589171019, 'kTargetDeterminationTrials': 11, 'kAttractionRatio': 0.017950115706955268, 'kMaxAttractionDistance': 38, 'kStartAttraction': 0.14165508264782514}. Best is trial 44 with value: 8217.022222222222.\u001b[0m\n"
     ]
    },
    {
     "name": "stdout",
     "output_type": "stream",
     "text": [
      "index_parallel='0066'\n"
     ]
    },
    {
     "name": "stderr",
     "output_type": "stream",
     "text": [
      "\u001b[32m[I 2022-08-16 01:20:14,365]\u001b[0m Trial 66 finished with value: 6838.544444444445 and parameters: {'kErase': 3, 'kRadius': 3, 'kAnnealingA': -3.453388059244532, 'kAnnealingB': 0.844753368297097, 'kAnnealingStart': 14.611011502281757, 'kSkipRatio': 0.20403623818086225, 'kTargetDeterminationTrials': 18, 'kAttractionRatio': 0.6735562118220035, 'kMaxAttractionDistance': 17, 'kStartAttraction': 0.2634969522966383}. Best is trial 44 with value: 8217.022222222222.\u001b[0m\n"
     ]
    },
    {
     "name": "stdout",
     "output_type": "stream",
     "text": [
      "index_parallel='0067'\n"
     ]
    },
    {
     "name": "stderr",
     "output_type": "stream",
     "text": [
      "\u001b[32m[I 2022-08-16 01:23:43,451]\u001b[0m Trial 67 finished with value: 8244.305555555555 and parameters: {'kErase': 2, 'kRadius': 4, 'kAnnealingA': 2.953581534866254, 'kAnnealingB': 1.4179260415166153, 'kAnnealingStart': 19.102315185794694, 'kSkipRatio': 0.5795399040252758, 'kTargetDeterminationTrials': 8, 'kAttractionRatio': 0.04967018231692119, 'kMaxAttractionDistance': 12, 'kStartAttraction': 0.3901863083307704}. Best is trial 67 with value: 8244.305555555555.\u001b[0m\n"
     ]
    },
    {
     "name": "stdout",
     "output_type": "stream",
     "text": [
      "Updated! 8244.305555555555\n",
      "index_parallel='0068'\n"
     ]
    },
    {
     "name": "stderr",
     "output_type": "stream",
     "text": [
      "\u001b[32m[I 2022-08-16 01:27:12,674]\u001b[0m Trial 68 finished with value: 8057.327777777778 and parameters: {'kErase': 1, 'kRadius': 4, 'kAnnealingA': 2.9624639883126656, 'kAnnealingB': 1.4191370386909299, 'kAnnealingStart': 5.883877794414773, 'kSkipRatio': 0.5766946054200102, 'kTargetDeterminationTrials': 8, 'kAttractionRatio': 0.08170724083284454, 'kMaxAttractionDistance': 10, 'kStartAttraction': 0.722782611905457}. Best is trial 67 with value: 8244.305555555555.\u001b[0m\n"
     ]
    },
    {
     "name": "stdout",
     "output_type": "stream",
     "text": [
      "index_parallel='0069'\n"
     ]
    },
    {
     "name": "stderr",
     "output_type": "stream",
     "text": [
      "\u001b[32m[I 2022-08-16 01:30:42,160]\u001b[0m Trial 69 finished with value: 8299.933333333332 and parameters: {'kErase': 2, 'kRadius': 4, 'kAnnealingA': 6.8395157626289, 'kAnnealingB': 1.6058715736295985, 'kAnnealingStart': 19.05138036285315, 'kSkipRatio': 0.6342083213578265, 'kTargetDeterminationTrials': 9, 'kAttractionRatio': 0.29267284560728213, 'kMaxAttractionDistance': 12, 'kStartAttraction': 0.5130402777620992}. Best is trial 69 with value: 8299.933333333332.\u001b[0m\n"
     ]
    },
    {
     "name": "stdout",
     "output_type": "stream",
     "text": [
      "Updated! 8299.933333333332\n",
      "index_parallel='0070'\n"
     ]
    },
    {
     "name": "stderr",
     "output_type": "stream",
     "text": [
      "\u001b[32m[I 2022-08-16 01:34:11,805]\u001b[0m Trial 70 finished with value: 8048.522222222222 and parameters: {'kErase': 2, 'kRadius': 4, 'kAnnealingA': 10.526889842588272, 'kAnnealingB': 1.970031179668995, 'kAnnealingStart': 1.0971776428919708, 'kSkipRatio': 0.6302168987783809, 'kTargetDeterminationTrials': 6, 'kAttractionRatio': 0.2714700362415034, 'kMaxAttractionDistance': 12, 'kStartAttraction': 0.5502437078132018}. Best is trial 69 with value: 8299.933333333332.\u001b[0m\n"
     ]
    },
    {
     "name": "stdout",
     "output_type": "stream",
     "text": [
      "index_parallel='0071'\n"
     ]
    },
    {
     "name": "stderr",
     "output_type": "stream",
     "text": [
      "\u001b[32m[I 2022-08-16 01:37:41,048]\u001b[0m Trial 71 finished with value: 8318.83888888889 and parameters: {'kErase': 2, 'kRadius': 4, 'kAnnealingA': 5.55850074555482, 'kAnnealingB': 1.7336513968803575, 'kAnnealingStart': 18.13156557065462, 'kSkipRatio': 0.6540734612370651, 'kTargetDeterminationTrials': 7, 'kAttractionRatio': 0.32793873603644924, 'kMaxAttractionDistance': 7, 'kStartAttraction': 0.4266643314306469}. Best is trial 71 with value: 8318.83888888889.\u001b[0m\n"
     ]
    },
    {
     "name": "stdout",
     "output_type": "stream",
     "text": [
      "Updated! 8318.83888888889\n",
      "index_parallel='0072'\n"
     ]
    },
    {
     "name": "stderr",
     "output_type": "stream",
     "text": [
      "\u001b[32m[I 2022-08-16 01:41:10,535]\u001b[0m Trial 72 finished with value: 8351.388888888889 and parameters: {'kErase': 2, 'kRadius': 4, 'kAnnealingA': 6.908827907893896, 'kAnnealingB': 1.7485593184914574, 'kAnnealingStart': 18.789265881349472, 'kSkipRatio': 0.6457875911917338, 'kTargetDeterminationTrials': 7, 'kAttractionRatio': 0.33428190032429533, 'kMaxAttractionDistance': 7, 'kStartAttraction': 0.5475356382323374}. Best is trial 72 with value: 8351.388888888889.\u001b[0m\n"
     ]
    },
    {
     "name": "stdout",
     "output_type": "stream",
     "text": [
      "Updated! 8351.388888888889\n",
      "index_parallel='0073'\n"
     ]
    },
    {
     "name": "stderr",
     "output_type": "stream",
     "text": [
      "\u001b[32m[I 2022-08-16 01:44:39,888]\u001b[0m Trial 73 finished with value: 7956.388888888889 and parameters: {'kErase': 2, 'kRadius': 4, 'kAnnealingA': 7.243636738088171, 'kAnnealingB': 1.7443072161232198, 'kAnnealingStart': 19.273466419484226, 'kSkipRatio': 0.606211405186384, 'kTargetDeterminationTrials': 4, 'kAttractionRatio': 0.39387699894848005, 'kMaxAttractionDistance': 4, 'kStartAttraction': 0.39836154312562766}. Best is trial 72 with value: 8351.388888888889.\u001b[0m\n"
     ]
    },
    {
     "name": "stdout",
     "output_type": "stream",
     "text": [
      "index_parallel='0074'\n"
     ]
    },
    {
     "name": "stderr",
     "output_type": "stream",
     "text": [
      "\u001b[32m[I 2022-08-16 01:48:09,320]\u001b[0m Trial 74 finished with value: 8209.344444444445 and parameters: {'kErase': 2, 'kRadius': 4, 'kAnnealingA': 9.377811816585044, 'kAnnealingB': 1.5768794865309113, 'kAnnealingStart': 26.783184106564185, 'kSkipRatio': 0.6475245101083861, 'kTargetDeterminationTrials': 8, 'kAttractionRatio': 0.3251411855316373, 'kMaxAttractionDistance': 6, 'kStartAttraction': 0.6287854755975197}. Best is trial 72 with value: 8351.388888888889.\u001b[0m\n"
     ]
    },
    {
     "name": "stdout",
     "output_type": "stream",
     "text": [
      "index_parallel='0075'\n"
     ]
    },
    {
     "name": "stderr",
     "output_type": "stream",
     "text": [
      "\u001b[32m[I 2022-08-16 01:51:38,564]\u001b[0m Trial 75 finished with value: 7970.866666666667 and parameters: {'kErase': 2, 'kRadius': 4, 'kAnnealingA': 9.325134719742547, 'kAnnealingB': 1.581501583331588, 'kAnnealingStart': 33.76014101013423, 'kSkipRatio': 0.5843546490524731, 'kTargetDeterminationTrials': 5, 'kAttractionRatio': 0.22496007066051357, 'kMaxAttractionDistance': 7, 'kStartAttraction': 0.7677592676667189}. Best is trial 72 with value: 8351.388888888889.\u001b[0m\n"
     ]
    },
    {
     "name": "stdout",
     "output_type": "stream",
     "text": [
      "index_parallel='0076'\n"
     ]
    },
    {
     "name": "stderr",
     "output_type": "stream",
     "text": [
      "\u001b[32m[I 2022-08-16 01:55:07,427]\u001b[0m Trial 76 finished with value: 8110.844444444445 and parameters: {'kErase': 1, 'kRadius': 4, 'kAnnealingA': 8.653321091132272, 'kAnnealingB': 1.9194105781552548, 'kAnnealingStart': 25.816243472389946, 'kSkipRatio': 0.6479507581875239, 'kTargetDeterminationTrials': 9, 'kAttractionRatio': 0.3125597954513726, 'kMaxAttractionDistance': 5, 'kStartAttraction': 0.5237771780346766}. Best is trial 72 with value: 8351.388888888889.\u001b[0m\n"
     ]
    },
    {
     "name": "stdout",
     "output_type": "stream",
     "text": [
      "index_parallel='0077'\n"
     ]
    },
    {
     "name": "stderr",
     "output_type": "stream",
     "text": [
      "\u001b[32m[I 2022-08-16 01:58:37,138]\u001b[0m Trial 77 finished with value: 7764.444444444444 and parameters: {'kErase': 2, 'kRadius': 5, 'kAnnealingA': 6.770868324804285, 'kAnnealingB': 2.0747051387313395, 'kAnnealingStart': 40.4714173288912, 'kSkipRatio': 0.6186476997051452, 'kTargetDeterminationTrials': 7, 'kAttractionRatio': 0.3078577204480992, 'kMaxAttractionDistance': 6, 'kStartAttraction': 0.7167398566995171}. Best is trial 72 with value: 8351.388888888889.\u001b[0m\n"
     ]
    },
    {
     "name": "stdout",
     "output_type": "stream",
     "text": [
      "index_parallel='0078'\n"
     ]
    },
    {
     "name": "stderr",
     "output_type": "stream",
     "text": [
      "\u001b[32m[I 2022-08-16 02:02:06,273]\u001b[0m Trial 78 finished with value: 8242.733333333334 and parameters: {'kErase': 2, 'kRadius': 4, 'kAnnealingA': 12.910541988108417, 'kAnnealingB': 1.6159651604972776, 'kAnnealingStart': 17.82046877693295, 'kSkipRatio': 0.5313108581878878, 'kTargetDeterminationTrials': 9, 'kAttractionRatio': 0.4416996066398108, 'kMaxAttractionDistance': 95, 'kStartAttraction': 0.5966305571390401}. Best is trial 72 with value: 8351.388888888889.\u001b[0m\n"
     ]
    },
    {
     "name": "stdout",
     "output_type": "stream",
     "text": [
      "index_parallel='0079'\n"
     ]
    },
    {
     "name": "stderr",
     "output_type": "stream",
     "text": [
      "\u001b[32m[I 2022-08-16 02:05:35,490]\u001b[0m Trial 79 finished with value: 7943.583333333333 and parameters: {'kErase': 2, 'kRadius': 4, 'kAnnealingA': 12.166309306046585, 'kAnnealingB': 1.6489284929275767, 'kAnnealingStart': 26.042543419092855, 'kSkipRatio': 0.5484291687915153, 'kTargetDeterminationTrials': 8, 'kAttractionRatio': 0.36275893761563605, 'kMaxAttractionDistance': 72, 'kStartAttraction': 0.8938724625022572}. Best is trial 72 with value: 8351.388888888889.\u001b[0m\n"
     ]
    },
    {
     "name": "stdout",
     "output_type": "stream",
     "text": [
      "index_parallel='0080'\n"
     ]
    },
    {
     "name": "stderr",
     "output_type": "stream",
     "text": [
      "\u001b[32m[I 2022-08-16 02:09:04,700]\u001b[0m Trial 80 finished with value: 8237.888888888889 and parameters: {'kErase': 2, 'kRadius': 5, 'kAnnealingA': 12.838399918059483, 'kAnnealingB': 1.809097313884862, 'kAnnealingStart': 17.871701604547617, 'kSkipRatio': 0.532303094206602, 'kTargetDeterminationTrials': 6, 'kAttractionRatio': 0.5770278924604595, 'kMaxAttractionDistance': 47, 'kStartAttraction': 0.5656873837208827}. Best is trial 72 with value: 8351.388888888889.\u001b[0m\n"
     ]
    },
    {
     "name": "stdout",
     "output_type": "stream",
     "text": [
      "index_parallel='0081'\n"
     ]
    },
    {
     "name": "stderr",
     "output_type": "stream",
     "text": [
      "\u001b[32m[I 2022-08-16 02:12:34,035]\u001b[0m Trial 81 finished with value: 8232.788888888888 and parameters: {'kErase': 2, 'kRadius': 5, 'kAnnealingA': 13.773291493639764, 'kAnnealingB': 1.7983723167686525, 'kAnnealingStart': 18.185564885444727, 'kSkipRatio': 0.5197369079033295, 'kTargetDeterminationTrials': 6, 'kAttractionRatio': 0.5901200083571387, 'kMaxAttractionDistance': 47, 'kStartAttraction': 0.5886271328173763}. Best is trial 72 with value: 8351.388888888889.\u001b[0m\n"
     ]
    },
    {
     "name": "stdout",
     "output_type": "stream",
     "text": [
      "index_parallel='0082'\n"
     ]
    },
    {
     "name": "stderr",
     "output_type": "stream",
     "text": [
      "\u001b[32m[I 2022-08-16 02:16:03,337]\u001b[0m Trial 82 finished with value: 8198.572222222223 and parameters: {'kErase': 2, 'kRadius': 5, 'kAnnealingA': 14.55964041071041, 'kAnnealingB': 2.0404864587381057, 'kAnnealingStart': 17.310329938145866, 'kSkipRatio': 0.5259592903721846, 'kTargetDeterminationTrials': 7, 'kAttractionRatio': 0.6924365888479352, 'kMaxAttractionDistance': 82, 'kStartAttraction': 0.5421709874873977}. Best is trial 72 with value: 8351.388888888889.\u001b[0m\n"
     ]
    },
    {
     "name": "stdout",
     "output_type": "stream",
     "text": [
      "index_parallel='0083'\n"
     ]
    },
    {
     "name": "stderr",
     "output_type": "stream",
     "text": [
      "\u001b[32m[I 2022-08-16 02:19:32,444]\u001b[0m Trial 83 finished with value: 8193.722222222223 and parameters: {'kErase': 2, 'kRadius': 5, 'kAnnealingA': 13.524321751927268, 'kAnnealingB': 1.8089031101756645, 'kAnnealingStart': 11.501415873948796, 'kSkipRatio': 0.5023998847493781, 'kTargetDeterminationTrials': 6, 'kAttractionRatio': 0.467053163915507, 'kMaxAttractionDistance': 46, 'kStartAttraction': 0.3872367796711441}. Best is trial 72 with value: 8351.388888888889.\u001b[0m\n"
     ]
    },
    {
     "name": "stdout",
     "output_type": "stream",
     "text": [
      "index_parallel='0084'\n"
     ]
    },
    {
     "name": "stderr",
     "output_type": "stream",
     "text": [
      "\u001b[32m[I 2022-08-16 02:23:02,017]\u001b[0m Trial 84 finished with value: 8136.25 and parameters: {'kErase': 2, 'kRadius': 5, 'kAnnealingA': 12.601213649402126, 'kAnnealingB': 1.7377025894646314, 'kAnnealingStart': 18.598597881222894, 'kSkipRatio': 0.4680710423233322, 'kTargetDeterminationTrials': 3, 'kAttractionRatio': 0.5253757093401754, 'kMaxAttractionDistance': 96, 'kStartAttraction': 0.4764254451456894}. Best is trial 72 with value: 8351.388888888889.\u001b[0m\n"
     ]
    },
    {
     "name": "stdout",
     "output_type": "stream",
     "text": [
      "index_parallel='0085'\n"
     ]
    },
    {
     "name": "stderr",
     "output_type": "stream",
     "text": [
      "\u001b[32m[I 2022-08-16 02:26:31,248]\u001b[0m Trial 85 finished with value: 8234.66111111111 and parameters: {'kErase': 2, 'kRadius': 5, 'kAnnealingA': 13.156517861922483, 'kAnnealingB': 1.871374979525052, 'kAnnealingStart': 15.750050795856401, 'kSkipRatio': 0.5379486082879099, 'kTargetDeterminationTrials': 9, 'kAttractionRatio': 0.5731318751486024, 'kMaxAttractionDistance': 55, 'kStartAttraction': 0.6073555106257634}. Best is trial 72 with value: 8351.388888888889.\u001b[0m\n"
     ]
    },
    {
     "name": "stdout",
     "output_type": "stream",
     "text": [
      "index_parallel='0086'\n"
     ]
    },
    {
     "name": "stderr",
     "output_type": "stream",
     "text": [
      "\u001b[32m[I 2022-08-16 02:30:00,408]\u001b[0m Trial 86 finished with value: 8138.438888888889 and parameters: {'kErase': 2, 'kRadius': 5, 'kAnnealingA': 12.885939090530957, 'kAnnealingB': 1.8753444676791018, 'kAnnealingStart': 22.765138609078935, 'kSkipRatio': 0.5287481496559046, 'kTargetDeterminationTrials': 4, 'kAttractionRatio': 0.6148774335460903, 'kMaxAttractionDistance': 59, 'kStartAttraction': 0.31064515356885203}. Best is trial 72 with value: 8351.388888888889.\u001b[0m\n"
     ]
    },
    {
     "name": "stdout",
     "output_type": "stream",
     "text": [
      "index_parallel='0087'\n"
     ]
    },
    {
     "name": "stderr",
     "output_type": "stream",
     "text": [
      "\u001b[32m[I 2022-08-16 02:33:29,505]\u001b[0m Trial 87 finished with value: 8226.711111111112 and parameters: {'kErase': 1, 'kRadius': 5, 'kAnnealingA': 11.22450262745208, 'kAnnealingB': 2.2663645955113516, 'kAnnealingStart': 15.856418849657798, 'kSkipRatio': 0.5612722291035485, 'kTargetDeterminationTrials': 9, 'kAttractionRatio': 0.433595485289518, 'kMaxAttractionDistance': 53, 'kStartAttraction': 0.6000385606440637}. Best is trial 72 with value: 8351.388888888889.\u001b[0m\n"
     ]
    },
    {
     "name": "stdout",
     "output_type": "stream",
     "text": [
      "index_parallel='0088'\n"
     ]
    }
   ],
   "source": [
    "study.optimize(\n",
    "    partial(objective, in_dir=in_dir, work_dir=work_dir),\n",
    "    n_trials=3000,\n",
    "    timeout=86400,\n",
    "    callbacks=[callback]\n",
    ")"
   ]
  },
  {
   "cell_type": "code",
   "execution_count": null,
   "id": "700269d2",
   "metadata": {},
   "outputs": [],
   "source": []
  }
 ],
 "metadata": {
  "kernelspec": {
   "display_name": "Python 3 (ipykernel)",
   "language": "python",
   "name": "python3"
  },
  "language_info": {
   "codemirror_mode": {
    "name": "ipython",
    "version": 3
   },
   "file_extension": ".py",
   "mimetype": "text/x-python",
   "name": "python",
   "nbconvert_exporter": "python",
   "pygments_lexer": "ipython3",
   "version": "3.9.12"
  }
 },
 "nbformat": 4,
 "nbformat_minor": 5
}
