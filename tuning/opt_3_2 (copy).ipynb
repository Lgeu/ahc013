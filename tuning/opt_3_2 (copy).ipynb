{
 "cells": [
  {
   "cell_type": "code",
   "execution_count": 1,
   "id": "25a1dac8",
   "metadata": {},
   "outputs": [],
   "source": [
    "import re\n",
    "import sys\n",
    "from uuid import uuid1\n",
    "from time import sleep\n",
    "from pprint import pprint\n",
    "from pathlib import Path\n",
    "from tempfile import gettempdir\n",
    "from threading import Thread\n",
    "from functools import partial\n",
    "from subprocess import Popen, PIPE\n",
    "\n",
    "from tqdm.notebook import tqdm\n",
    "import numpy as np\n",
    "import optuna\n",
    "import pandas as pd\n",
    "import matplotlib.pyplot as plt\n",
    "\n",
    "FILENAME = \"main.cpp\""
   ]
  },
  {
   "cell_type": "code",
   "execution_count": 2,
   "id": "3dd4d02e",
   "metadata": {},
   "outputs": [
    {
     "name": "stdout",
     "output_type": "stream",
     "text": [
      "10 variables were found.\n"
     ]
    },
    {
     "data": {
      "text/html": [
       "<div>\n",
       "<style scoped>\n",
       "    .dataframe tbody tr th:only-of-type {\n",
       "        vertical-align: middle;\n",
       "    }\n",
       "\n",
       "    .dataframe tbody tr th {\n",
       "        vertical-align: top;\n",
       "    }\n",
       "\n",
       "    .dataframe thead th {\n",
       "        text-align: right;\n",
       "    }\n",
       "</style>\n",
       "<table border=\"1\" class=\"dataframe\">\n",
       "  <thead>\n",
       "    <tr style=\"text-align: right;\">\n",
       "      <th></th>\n",
       "      <th>name</th>\n",
       "      <th>method</th>\n",
       "      <th>min</th>\n",
       "      <th>max</th>\n",
       "      <th>log</th>\n",
       "      <th>left</th>\n",
       "      <th>right</th>\n",
       "    </tr>\n",
       "  </thead>\n",
       "  <tbody>\n",
       "    <tr>\n",
       "      <th>0</th>\n",
       "      <td>kErase</td>\n",
       "      <td>suggest_int</td>\n",
       "      <td>1.000</td>\n",
       "      <td>5.0</td>\n",
       "      <td>False</td>\n",
       "      <td>static constexpr auto kErase =</td>\n",
       "      <td>;             // OPTIMIZE [1, 5]</td>\n",
       "    </tr>\n",
       "    <tr>\n",
       "      <th>1</th>\n",
       "      <td>kRadius</td>\n",
       "      <td>suggest_int</td>\n",
       "      <td>2.000</td>\n",
       "      <td>6.0</td>\n",
       "      <td>False</td>\n",
       "      <td>static constexpr auto kRadius =</td>\n",
       "      <td>;            // OPTIMIZE [2, 6]</td>\n",
       "    </tr>\n",
       "    <tr>\n",
       "      <th>2</th>\n",
       "      <td>kAnnealingA</td>\n",
       "      <td>suggest_float</td>\n",
       "      <td>-15.000</td>\n",
       "      <td>15.0</td>\n",
       "      <td>False</td>\n",
       "      <td>static constexpr auto kAnnealingA =</td>\n",
       "      <td>;      // OPTIMIZE [-15.0, 15.0]</td>\n",
       "    </tr>\n",
       "    <tr>\n",
       "      <th>3</th>\n",
       "      <td>kAnnealingB</td>\n",
       "      <td>suggest_float</td>\n",
       "      <td>0.000</td>\n",
       "      <td>3.0</td>\n",
       "      <td>False</td>\n",
       "      <td>static constexpr auto kAnnealingB =</td>\n",
       "      <td>;      // OPTIMIZE [0.0, 3.0]</td>\n",
       "    </tr>\n",
       "    <tr>\n",
       "      <th>4</th>\n",
       "      <td>kAnnealingStart</td>\n",
       "      <td>suggest_float</td>\n",
       "      <td>1.000</td>\n",
       "      <td>100.0</td>\n",
       "      <td>True</td>\n",
       "      <td>static constexpr auto kAnnealingStart =</td>\n",
       "      <td>; // OPTIMIZE LOG [1.0, 100.0]</td>\n",
       "    </tr>\n",
       "    <tr>\n",
       "      <th>5</th>\n",
       "      <td>kSkipRatio</td>\n",
       "      <td>suggest_float</td>\n",
       "      <td>0.200</td>\n",
       "      <td>0.8</td>\n",
       "      <td>False</td>\n",
       "      <td>static constexpr auto kSkipRatio =</td>\n",
       "      <td>;       // OPTIMIZE [0.2, 0.8]</td>\n",
       "    </tr>\n",
       "    <tr>\n",
       "      <th>6</th>\n",
       "      <td>kTargetDeterminationTrials</td>\n",
       "      <td>suggest_int</td>\n",
       "      <td>1.000</td>\n",
       "      <td>20.0</td>\n",
       "      <td>True</td>\n",
       "      <td>static constexpr auto kTargetDeterminationTria...</td>\n",
       "      <td>; // OPTIMIZE LOG [1, 20]</td>\n",
       "    </tr>\n",
       "    <tr>\n",
       "      <th>7</th>\n",
       "      <td>kAttractionRatio</td>\n",
       "      <td>suggest_float</td>\n",
       "      <td>0.010</td>\n",
       "      <td>0.9</td>\n",
       "      <td>True</td>\n",
       "      <td>static constexpr auto kAttractionRatio =</td>\n",
       "      <td>;      // OPTIMIZE LOG [0.01, 0.9]</td>\n",
       "    </tr>\n",
       "    <tr>\n",
       "      <th>8</th>\n",
       "      <td>kMaxAttractionDistance</td>\n",
       "      <td>suggest_int</td>\n",
       "      <td>4.000</td>\n",
       "      <td>99.0</td>\n",
       "      <td>True</td>\n",
       "      <td>static constexpr auto kMaxAttractionDistance =</td>\n",
       "      <td>; // OPTIMIZE LOG [4, 99]</td>\n",
       "    </tr>\n",
       "    <tr>\n",
       "      <th>9</th>\n",
       "      <td>kStartAttraction</td>\n",
       "      <td>suggest_float</td>\n",
       "      <td>0.001</td>\n",
       "      <td>0.9</td>\n",
       "      <td>True</td>\n",
       "      <td>static constexpr auto kStartAttraction =</td>\n",
       "      <td>;     // OPTIMIZE LOG [0.001, 0.9]</td>\n",
       "    </tr>\n",
       "  </tbody>\n",
       "</table>\n",
       "</div>"
      ],
      "text/plain": [
       "                         name         method     min    max    log  \\\n",
       "0                      kErase    suggest_int   1.000    5.0  False   \n",
       "1                     kRadius    suggest_int   2.000    6.0  False   \n",
       "2                 kAnnealingA  suggest_float -15.000   15.0  False   \n",
       "3                 kAnnealingB  suggest_float   0.000    3.0  False   \n",
       "4             kAnnealingStart  suggest_float   1.000  100.0   True   \n",
       "5                  kSkipRatio  suggest_float   0.200    0.8  False   \n",
       "6  kTargetDeterminationTrials    suggest_int   1.000   20.0   True   \n",
       "7            kAttractionRatio  suggest_float   0.010    0.9   True   \n",
       "8      kMaxAttractionDistance    suggest_int   4.000   99.0   True   \n",
       "9            kStartAttraction  suggest_float   0.001    0.9   True   \n",
       "\n",
       "                                                left  \\\n",
       "0                    static constexpr auto kErase =    \n",
       "1                   static constexpr auto kRadius =    \n",
       "2               static constexpr auto kAnnealingA =    \n",
       "3               static constexpr auto kAnnealingB =    \n",
       "4           static constexpr auto kAnnealingStart =    \n",
       "5                static constexpr auto kSkipRatio =    \n",
       "6  static constexpr auto kTargetDeterminationTria...   \n",
       "7          static constexpr auto kAttractionRatio =    \n",
       "8    static constexpr auto kMaxAttractionDistance =    \n",
       "9          static constexpr auto kStartAttraction =    \n",
       "\n",
       "                                right  \n",
       "0    ;             // OPTIMIZE [1, 5]  \n",
       "1     ;            // OPTIMIZE [2, 6]  \n",
       "2    ;      // OPTIMIZE [-15.0, 15.0]  \n",
       "3       ;      // OPTIMIZE [0.0, 3.0]  \n",
       "4      ; // OPTIMIZE LOG [1.0, 100.0]  \n",
       "5      ;       // OPTIMIZE [0.2, 0.8]  \n",
       "6           ; // OPTIMIZE LOG [1, 20]  \n",
       "7  ;      // OPTIMIZE LOG [0.01, 0.9]  \n",
       "8           ; // OPTIMIZE LOG [4, 99]  \n",
       "9  ;     // OPTIMIZE LOG [0.001, 0.9]  "
      ]
     },
     "metadata": {},
     "output_type": "display_data"
    }
   ],
   "source": [
    "# ここでエラー出力は何かおかしいかもしれない\n",
    "\n",
    "\n",
    "# パラメータ抽出\n",
    "with open(FILENAME) as f:\n",
    "    answer = f.read()\n",
    "\n",
    "\n",
    "variables_optimize = []\n",
    "\n",
    "for left, value, right, options in re.findall(r\"^([^/\\n]*=\\s*)(.+?)(\\s*;\\s*//(?:.*\\W)?OPTIMIZE(\\W.*))$\", answer, re.MULTILINE):\n",
    "    name = left.replace(\"=\", \"\").strip().split()[-1]\n",
    "    \n",
    "    searched = re.search(r\".*\\[(?P<min>.*),(?P<max>.*)\\].*\", options)\n",
    "    if searched:\n",
    "        min_value = max_value = None\n",
    "        try:\n",
    "            min_value = eval(searched.group(\"min\"))\n",
    "            max_value = eval(searched.group(\"max\"))\n",
    "            assert min_value <= max_value\n",
    "        except Exception as e:\n",
    "            print(f\"searched={searched}\", file=sys.stderr)\n",
    "            print(e, file=sys.stderr)\n",
    "            continue\n",
    "        log = \"LOG\" in options  # 雑、直したほうが良い\n",
    "        if type(min_value) != type(max_value):\n",
    "            print(f\"searched={searched}\", file=sys.stderr)\n",
    "            print(\"types not matched\", file=sys.stderr)\n",
    "            continue\n",
    "        if isinstance(min_value, int):\n",
    "            method = \"suggest_int\"\n",
    "        elif isinstance(min_value, float):\n",
    "            method = \"suggest_float\"\n",
    "        else:\n",
    "            print(f\"searched={searched}\", file=sys.stderr)\n",
    "            print(f\"unknown type ({type(min_value)})\", file=sys.stderr)\n",
    "            continue\n",
    "        variables_optimize.append({\n",
    "            \"name\": name,\n",
    "            \"method\": method,\n",
    "            \"min\": min_value,\n",
    "            \"max\": max_value,\n",
    "            \"log\": log,\n",
    "            \"left\": left,\n",
    "            \"right\": right,\n",
    "        })\n",
    "    elif searched := re.search(r\".*\\{(?P<choices>.*?)\\}.*\", options):\n",
    "        choices = list(map(lambda x: x.strip(), searched.group(\"choices\").split(\",\")))\n",
    "        variables_optimize.append({\n",
    "            \"name\": name,\n",
    "            \"method\": \"suggest_categorical\",\n",
    "            \"choices\": choices,\n",
    "            \"left\": left,\n",
    "            \"right\": right,\n",
    "        })\n",
    "    else:\n",
    "        print(f\"searched={searched}\", file=sys.stderr)\n",
    "        print(f\"pattern was matched but options are incorrect.\", file=sys.stderr)\n",
    "\n",
    "print(len(variables_optimize), \"variables were found.\")\n",
    "if globals().get(\"pd\"):\n",
    "    display(pd.DataFrame(variables_optimize))\n",
    "else:\n",
    "    pprint(variables_optimize)"
   ]
  },
  {
   "cell_type": "code",
   "execution_count": 3,
   "id": "001042b9",
   "metadata": {},
   "outputs": [],
   "source": [
    "def escape(string):  # 正規表現の中でそのまま使いたい文字列をエスケープ\n",
    "    res = !echo '{string}' | sed -e 's/[]\\/$*.^[]/\\\\&/g'\n",
    "    return res[0]\n",
    "\n",
    "def escape_sed(string):  # sed の置換後の文字列用のエスケープ\n",
    "    res = !echo '{string}' | sed -e 's/[\\/&]/\\\\&/g'\n",
    "    return res[0]\n",
    "\n",
    "def read_stream(name, in_file, out_file):\n",
    "    for line in in_file:\n",
    "        print(f\"[{name}] {line.strip()}\", file=out_file)\n",
    "\n",
    "def run(cmd, name):\n",
    "    proc = Popen(cmd, stdout=PIPE, stderr=PIPE, universal_newlines=True, shell=isinstance(cmd, str))\n",
    "    stdout_thread = Thread(target=read_stream, args=(name, proc.stdout, sys.stdout))\n",
    "    stderr_thread = Thread(target=read_stream, args=(name, proc.stderr, sys.stderr))\n",
    "    stdout_thread.start()\n",
    "    stderr_thread.start()\n",
    "    proc.wait()\n",
    "    return proc\n",
    "\n",
    "def objective(trial, in_dir, work_dir):\n",
    "    n_internal_parallel = 3\n",
    "    \n",
    "    index_parallel = f\"{trial.number:04d}\"\n",
    "    print(f\"{index_parallel=}\")\n",
    "    \n",
    "    work_dir = Path(work_dir)\n",
    "    directory_input = Path(in_dir)  # 中のすべてのファイルに対して実行される\n",
    "    #parameters_changed_filename = Path(gettempdir()) / str(uuid1())\n",
    "    parameters_changed_filename = work_dir / f\"{index_parallel}_{FILENAME}\"\n",
    "    \n",
    "    run([\"mkdir\", f\"{work_dir / index_parallel}_out\"], \"mkdir\")\n",
    "    run([\"mkdir\", f\"{work_dir / index_parallel}_score\"], \"mkdir\")\n",
    "    \n",
    "    # ファイル作成\n",
    "    run(f\"cp {FILENAME} {parameters_changed_filename}\", \"cp\")\n",
    "    sed_options = [f\"-i {parameters_changed_filename}\"]\n",
    "    for variable in variables_optimize:\n",
    "        if variable[\"method\"] == \"suggest_categorical\":\n",
    "            val =  trial.suggest_categorical(variable[\"name\"], variable[\"choices\"])\n",
    "        else:\n",
    "            val = getattr(trial, variable[\"method\"])(variable[\"name\"], variable[\"min\"], variable[\"max\"], log=variable[\"log\"])\n",
    "        left = variable[\"left\"]\n",
    "        right = variable[\"right\"]\n",
    "        sed_options.append(f\"\"\"-e 's/^{escape(left)}.*{escape(right)}$/{escape_sed(left)}{val}{escape_sed(right)}/'\"\"\")\n",
    "    command_sed = f\"sed {' '.join(sed_options)}\"\n",
    "    #print(command_sed)\n",
    "    run(command_sed, \"sed\")\n",
    "    \n",
    "    # コンパイル\n",
    "    command_compile = f\"g++ {parameters_changed_filename} -std=gnu++17 -O2 -DONLINE_JUDGE -o {parameters_changed_filename}.out\"\n",
    "    #print(command_compile)\n",
    "    run(command_compile, \"compile\")\n",
    "    # 実行・採点コマンド (@ はファイル名)\n",
    "    command_exec = (\n",
    "        #f\"./a.out < ./tools/in/{i:04d}.txt > {out_file} && ./tools/target/release/vis ./tools/in/{i:04d}.txt {out_file}\"\n",
    "        #f\"../tools/target/release/tester $(pwd)/{parameters_changed_filename}.out < {directory_input}/@ 2>&1 | grep Score\"\n",
    "        #f\"../tools/target/release/tester $(pwd)/{parameters_changed_filename}.out < {directory_input}/@ 2>&1 | grep Score | sed -E s/[^0-9]+// > ./{index_parallel}_score/@;\"\n",
    "        #f\"cargo run --release --manifest-path ../tools/Cargo.toml --bin tester {directory_input}/@ $(pwd)/{parameters_changed_filename}.out 2>&1 | grep Score | sed -E s/[^0-9]+// > ./{index_parallel}_score/@;\"\n",
    "        f\"./{parameters_changed_filename}.out < {directory_input}/@ > {work_dir / index_parallel}_out/@;\"\n",
    "        f\"../tools/target/release/vis {directory_input}/@ {work_dir / index_parallel}_out/@ 2> /dev/null > {work_dir / index_parallel}_score/@;\"\n",
    "    )\n",
    "    # 並列実行 (sed はパスのディレクトリ部分を消してファイル名にしてる)\n",
    "    run(f\"find {directory_input}/* | sed 's!^.*/!!' | xargs -I@ -P {n_internal_parallel} sh -c '{command_exec}'\", \"exec\")\n",
    "    \n",
    "    # 集計\n",
    "    scores = []\n",
    "    for file_path in Path(f\"{work_dir / index_parallel}_score/\").iterdir():  \n",
    "        with open(file_path) as f:\n",
    "            scores.append(int(f.readline().strip().split()[-1]))\n",
    "    mean_score = sum(scores) / len(scores)\n",
    "    \n",
    "    # 後始末\n",
    "    run(f\"rm -rf {work_dir / index_parallel}_out\", \"rm\")\n",
    "    run(f\"rm -rf {work_dir / index_parallel}_score\", \"rm\")\n",
    "    #run(f\"rm {parameters_changed_filename}\", \"rm\")\n",
    "    run(f\"rm {parameters_changed_filename}.out\", \"rm\")\n",
    "    \n",
    "    return mean_score"
   ]
  },
  {
   "cell_type": "code",
   "execution_count": 4,
   "id": "2d2e133c",
   "metadata": {},
   "outputs": [
    {
     "name": "stderr",
     "output_type": "stream",
     "text": [
      "\u001b[32m[I 2022-08-16 05:03:59,157]\u001b[0m Using an existing study with name 'study_3_2' instead of creating a new one.\u001b[0m\n"
     ]
    }
   ],
   "source": [
    "K = 3\n",
    "N_CLASS = 2\n",
    "\n",
    "in_dir = Path(f\"in_{K}_{N_CLASS}\")\n",
    "work_dir = Path(f\"work_{K}_{N_CLASS}\")\n",
    "\n",
    "study_name = f\"study_{K}_{N_CLASS}\"\n",
    "storage_path = work_dir / \"study.db\"\n",
    "storage = f\"sqlite:///{storage_path}\"\n",
    "study = optuna.create_study(storage=storage, load_if_exists=True, study_name=study_name, direction=\"maximize\")\n",
    "\n",
    "def callback(study, trial):\n",
    "    try:\n",
    "        index_parallel = f\"{trial.number:04d}\"\n",
    "        parameters_changed_filename = work_dir / f\"{index_parallel}_{FILENAME}\"\n",
    "        if study.best_value == trial.value:\n",
    "            print(f\"Updated! {study.best_value}\")\n",
    "            !cp {parameters_changed_filename} {work_dir / \"best_parameters.cpp\"}\n",
    "        !rm {parameters_changed_filename}\n",
    "    except:\n",
    "        print(\":(\")\n"
   ]
  },
  {
   "cell_type": "code",
   "execution_count": null,
   "id": "61c2901d",
   "metadata": {},
   "outputs": [
    {
     "name": "stdout",
     "output_type": "stream",
     "text": [
      "index_parallel='0133'\n"
     ]
    },
    {
     "name": "stderr",
     "output_type": "stream",
     "text": [
      "\u001b[32m[I 2022-08-16 05:07:27,191]\u001b[0m Trial 133 finished with value: 8302.397727272728 and parameters: {'kErase': 2, 'kRadius': 4, 'kAnnealingA': 10.778457566234763, 'kAnnealingB': 0.48934586193463503, 'kAnnealingStart': 24.834963850485217, 'kSkipRatio': 0.6811093014011169, 'kTargetDeterminationTrials': 9, 'kAttractionRatio': 0.05095799822017583, 'kMaxAttractionDistance': 8, 'kStartAttraction': 0.06462025261458565}. Best is trial 121 with value: 8430.27840909091.\u001b[0m\n"
     ]
    },
    {
     "name": "stdout",
     "output_type": "stream",
     "text": [
      "index_parallel='0135'\n"
     ]
    },
    {
     "name": "stderr",
     "output_type": "stream",
     "text": [
      "\u001b[32m[I 2022-08-16 05:10:55,296]\u001b[0m Trial 135 finished with value: 8354.579545454546 and parameters: {'kErase': 2, 'kRadius': 4, 'kAnnealingA': 12.97467115384866, 'kAnnealingB': 0.26042399992168697, 'kAnnealingStart': 21.171038943810565, 'kSkipRatio': 0.7052600340967226, 'kTargetDeterminationTrials': 11, 'kAttractionRatio': 0.036307351556547705, 'kMaxAttractionDistance': 7, 'kStartAttraction': 0.11928904193594946}. Best is trial 121 with value: 8430.27840909091.\u001b[0m\n"
     ]
    },
    {
     "name": "stdout",
     "output_type": "stream",
     "text": [
      "index_parallel='0137'\n"
     ]
    },
    {
     "name": "stderr",
     "output_type": "stream",
     "text": [
      "\u001b[32m[I 2022-08-16 05:14:23,929]\u001b[0m Trial 137 finished with value: 8231.181818181818 and parameters: {'kErase': 2, 'kRadius': 4, 'kAnnealingA': 12.862420846708924, 'kAnnealingB': 0.24366885118952086, 'kAnnealingStart': 32.619201932880685, 'kSkipRatio': 0.717484658483782, 'kTargetDeterminationTrials': 8, 'kAttractionRatio': 0.023181987196009713, 'kMaxAttractionDistance': 7, 'kStartAttraction': 0.12255389960503396}. Best is trial 121 with value: 8430.27840909091.\u001b[0m\n"
     ]
    },
    {
     "name": "stdout",
     "output_type": "stream",
     "text": [
      "index_parallel='0139'\n"
     ]
    },
    {
     "name": "stderr",
     "output_type": "stream",
     "text": [
      "\u001b[32m[I 2022-08-16 05:17:52,006]\u001b[0m Trial 139 finished with value: 8232.056818181818 and parameters: {'kErase': 2, 'kRadius': 4, 'kAnnealingA': 13.589848881673019, 'kAnnealingB': 0.1411987228988213, 'kAnnealingStart': 28.34034155867853, 'kSkipRatio': 0.7323402990918935, 'kTargetDeterminationTrials': 7, 'kAttractionRatio': 0.03589354341637336, 'kMaxAttractionDistance': 13, 'kStartAttraction': 0.0750736373750841}. Best is trial 121 with value: 8430.27840909091.\u001b[0m\n"
     ]
    },
    {
     "name": "stdout",
     "output_type": "stream",
     "text": [
      "index_parallel='0141'\n"
     ]
    },
    {
     "name": "stderr",
     "output_type": "stream",
     "text": [
      "\u001b[32m[I 2022-08-16 05:21:20,573]\u001b[0m Trial 141 finished with value: 8282.0 and parameters: {'kErase': 2, 'kRadius': 4, 'kAnnealingA': 14.838733604073015, 'kAnnealingB': 0.4133850719320831, 'kAnnealingStart': 22.15910976779123, 'kSkipRatio': 0.6952867527657911, 'kTargetDeterminationTrials': 10, 'kAttractionRatio': 0.03762836147638572, 'kMaxAttractionDistance': 11, 'kStartAttraction': 0.10628213924122917}. Best is trial 121 with value: 8430.27840909091.\u001b[0m\n"
     ]
    },
    {
     "name": "stdout",
     "output_type": "stream",
     "text": [
      "index_parallel='0143'\n"
     ]
    },
    {
     "name": "stderr",
     "output_type": "stream",
     "text": [
      "\u001b[32m[I 2022-08-16 05:24:49,026]\u001b[0m Trial 143 finished with value: 8303.789772727272 and parameters: {'kErase': 2, 'kRadius': 4, 'kAnnealingA': 11.713580407261798, 'kAnnealingB': 0.3022903391378843, 'kAnnealingStart': 18.162330090720253, 'kSkipRatio': 0.6493029273780979, 'kTargetDeterminationTrials': 12, 'kAttractionRatio': 0.09347681537801594, 'kMaxAttractionDistance': 7, 'kStartAttraction': 0.13787937944048662}. Best is trial 121 with value: 8430.27840909091.\u001b[0m\n"
     ]
    },
    {
     "name": "stdout",
     "output_type": "stream",
     "text": [
      "index_parallel='0145'\n"
     ]
    },
    {
     "name": "stderr",
     "output_type": "stream",
     "text": [
      "\u001b[32m[I 2022-08-16 05:28:17,990]\u001b[0m Trial 145 finished with value: 8341.727272727272 and parameters: {'kErase': 2, 'kRadius': 4, 'kAnnealingA': 10.405437157395285, 'kAnnealingB': 0.35124683610611956, 'kAnnealingStart': 19.371232097835883, 'kSkipRatio': 0.7126708066318772, 'kTargetDeterminationTrials': 13, 'kAttractionRatio': 0.04191276408652064, 'kMaxAttractionDistance': 8, 'kStartAttraction': 0.16309667068693567}. Best is trial 121 with value: 8430.27840909091.\u001b[0m\n"
     ]
    },
    {
     "name": "stdout",
     "output_type": "stream",
     "text": [
      "index_parallel='0147'\n"
     ]
    },
    {
     "name": "stderr",
     "output_type": "stream",
     "text": [
      "\u001b[32m[I 2022-08-16 05:31:46,299]\u001b[0m Trial 147 finished with value: 8309.613636363636 and parameters: {'kErase': 2, 'kRadius': 4, 'kAnnealingA': 10.421084896516872, 'kAnnealingB': 0.16665461504869783, 'kAnnealingStart': 16.60378172536154, 'kSkipRatio': 0.7620595443289493, 'kTargetDeterminationTrials': 11, 'kAttractionRatio': 0.045958021217215754, 'kMaxAttractionDistance': 8, 'kStartAttraction': 0.2619664849947243}. Best is trial 121 with value: 8430.27840909091.\u001b[0m\n"
     ]
    },
    {
     "name": "stdout",
     "output_type": "stream",
     "text": [
      "index_parallel='0149'\n"
     ]
    },
    {
     "name": "stderr",
     "output_type": "stream",
     "text": [
      "\u001b[32m[I 2022-08-16 05:35:14,243]\u001b[0m Trial 149 finished with value: 8280.164772727272 and parameters: {'kErase': 2, 'kRadius': 4, 'kAnnealingA': 10.29013253859274, 'kAnnealingB': 0.05932315088860074, 'kAnnealingStart': 20.329762805500685, 'kSkipRatio': 0.7419541949848367, 'kTargetDeterminationTrials': 14, 'kAttractionRatio': 0.04250215219874358, 'kMaxAttractionDistance': 10, 'kStartAttraction': 0.16790236483192103}. Best is trial 121 with value: 8430.27840909091.\u001b[0m\n"
     ]
    },
    {
     "name": "stdout",
     "output_type": "stream",
     "text": [
      "index_parallel='0151'\n"
     ]
    },
    {
     "name": "stderr",
     "output_type": "stream",
     "text": [
      "\u001b[32m[I 2022-08-16 05:38:42,406]\u001b[0m Trial 151 finished with value: 8238.943181818182 and parameters: {'kErase': 2, 'kRadius': 4, 'kAnnealingA': -2.357946403461696, 'kAnnealingB': 0.31801011491084097, 'kAnnealingStart': 23.460025041974767, 'kSkipRatio': 0.7086650900142132, 'kTargetDeterminationTrials': 10, 'kAttractionRatio': 0.057662118466993324, 'kMaxAttractionDistance': 9, 'kStartAttraction': 0.11295554237177877}. Best is trial 121 with value: 8430.27840909091.\u001b[0m\n"
     ]
    },
    {
     "name": "stdout",
     "output_type": "stream",
     "text": [
      "index_parallel='0153'\n"
     ]
    },
    {
     "name": "stderr",
     "output_type": "stream",
     "text": [
      "\u001b[32m[I 2022-08-16 05:42:10,509]\u001b[0m Trial 153 finished with value: 8323.642045454546 and parameters: {'kErase': 2, 'kRadius': 4, 'kAnnealingA': 12.11090931693158, 'kAnnealingB': 0.25148530189842555, 'kAnnealingStart': 26.07616379839136, 'kSkipRatio': 0.6940059253969787, 'kTargetDeterminationTrials': 13, 'kAttractionRatio': 0.03033529890256236, 'kMaxAttractionDistance': 9, 'kStartAttraction': 0.10002650008807883}. Best is trial 121 with value: 8430.27840909091.\u001b[0m\n"
     ]
    },
    {
     "name": "stdout",
     "output_type": "stream",
     "text": [
      "index_parallel='0155'\n"
     ]
    },
    {
     "name": "stderr",
     "output_type": "stream",
     "text": [
      "\u001b[32m[I 2022-08-16 05:45:39,229]\u001b[0m Trial 155 finished with value: 8301.085227272728 and parameters: {'kErase': 2, 'kRadius': 4, 'kAnnealingA': 13.315948160407427, 'kAnnealingB': 0.47520067039552366, 'kAnnealingStart': 19.740541427829903, 'kSkipRatio': 0.6674925919559597, 'kTargetDeterminationTrials': 16, 'kAttractionRatio': 0.04853550810792808, 'kMaxAttractionDistance': 7, 'kStartAttraction': 0.08180378203330607}. Best is trial 121 with value: 8430.27840909091.\u001b[0m\n"
     ]
    },
    {
     "name": "stdout",
     "output_type": "stream",
     "text": [
      "index_parallel='0157'\n"
     ]
    },
    {
     "name": "stderr",
     "output_type": "stream",
     "text": [
      "\u001b[32m[I 2022-08-16 05:49:07,515]\u001b[0m Trial 157 finished with value: 8311.886363636364 and parameters: {'kErase': 2, 'kRadius': 4, 'kAnnealingA': 12.299700264860006, 'kAnnealingB': 0.44360600103257275, 'kAnnealingStart': 21.651932489083944, 'kSkipRatio': 0.7277740878795146, 'kTargetDeterminationTrials': 15, 'kAttractionRatio': 0.036809280701825285, 'kMaxAttractionDistance': 6, 'kStartAttraction': 0.12716351704265613}. Best is trial 121 with value: 8430.27840909091.\u001b[0m\n"
     ]
    },
    {
     "name": "stdout",
     "output_type": "stream",
     "text": [
      "index_parallel='0159'\n"
     ]
    },
    {
     "name": "stderr",
     "output_type": "stream",
     "text": [
      "\u001b[32m[I 2022-08-16 05:52:35,722]\u001b[0m Trial 159 finished with value: 8322.556818181818 and parameters: {'kErase': 2, 'kRadius': 4, 'kAnnealingA': 9.54378527344931, 'kAnnealingB': 0.3722073267375384, 'kAnnealingStart': 15.091341946901341, 'kSkipRatio': 0.6347087640585436, 'kTargetDeterminationTrials': 9, 'kAttractionRatio': 0.05040563098466042, 'kMaxAttractionDistance': 7, 'kStartAttraction': 0.15337561860017082}. Best is trial 121 with value: 8430.27840909091.\u001b[0m\n"
     ]
    },
    {
     "name": "stdout",
     "output_type": "stream",
     "text": [
      "index_parallel='0161'\n"
     ]
    },
    {
     "name": "stderr",
     "output_type": "stream",
     "text": [
      "\u001b[32m[I 2022-08-16 05:56:03,995]\u001b[0m Trial 161 finished with value: 8326.494318181818 and parameters: {'kErase': 2, 'kRadius': 4, 'kAnnealingA': 11.288610667821894, 'kAnnealingB': 0.21123247376304138, 'kAnnealingStart': 18.058312786164255, 'kSkipRatio': 0.7793281122193292, 'kTargetDeterminationTrials': 11, 'kAttractionRatio': 0.03559676972117465, 'kMaxAttractionDistance': 8, 'kStartAttraction': 0.0973625201178098}. Best is trial 121 with value: 8430.27840909091.\u001b[0m\n"
     ]
    },
    {
     "name": "stdout",
     "output_type": "stream",
     "text": [
      "index_parallel='0163'\n"
     ]
    },
    {
     "name": "stderr",
     "output_type": "stream",
     "text": [
      "\u001b[32m[I 2022-08-16 05:59:32,177]\u001b[0m Trial 163 finished with value: 8253.255681818182 and parameters: {'kErase': 2, 'kRadius': 4, 'kAnnealingA': 12.773763799417244, 'kAnnealingB': 0.5427050986509172, 'kAnnealingStart': 23.048507945315606, 'kSkipRatio': 0.6590281870903133, 'kTargetDeterminationTrials': 13, 'kAttractionRatio': 0.04215950066734883, 'kMaxAttractionDistance': 9, 'kStartAttraction': 0.06838663942456664}. Best is trial 121 with value: 8430.27840909091.\u001b[0m\n"
     ]
    },
    {
     "name": "stdout",
     "output_type": "stream",
     "text": [
      "index_parallel='0165'\n"
     ]
    },
    {
     "name": "stderr",
     "output_type": "stream",
     "text": [
      "\u001b[32m[I 2022-08-16 06:03:00,417]\u001b[0m Trial 165 finished with value: 8384.90340909091 and parameters: {'kErase': 2, 'kRadius': 4, 'kAnnealingA': 12.07461221198946, 'kAnnealingB': 0.28846565756999243, 'kAnnealingStart': 26.79924352865865, 'kSkipRatio': 0.7146036005559835, 'kTargetDeterminationTrials': 12, 'kAttractionRatio': 0.046681111468929566, 'kMaxAttractionDistance': 7, 'kStartAttraction': 0.05578561556795777}. Best is trial 121 with value: 8430.27840909091.\u001b[0m\n"
     ]
    },
    {
     "name": "stdout",
     "output_type": "stream",
     "text": [
      "index_parallel='0167'\n"
     ]
    },
    {
     "name": "stderr",
     "output_type": "stream",
     "text": [
      "\u001b[32m[I 2022-08-16 06:06:28,559]\u001b[0m Trial 167 finished with value: 7881.119318181818 and parameters: {'kErase': 2, 'kRadius': 4, 'kAnnealingA': 14.274871844285851, 'kAnnealingB': 0.1717615215913679, 'kAnnealingStart': 2.0176856882821146, 'kSkipRatio': 0.7192758923433081, 'kTargetDeterminationTrials': 12, 'kAttractionRatio': 0.03894248710139404, 'kMaxAttractionDistance': 8, 'kStartAttraction': 0.04513462730829051}. Best is trial 121 with value: 8430.27840909091.\u001b[0m\n"
     ]
    },
    {
     "name": "stdout",
     "output_type": "stream",
     "text": [
      "index_parallel='0169'\n"
     ]
    },
    {
     "name": "stderr",
     "output_type": "stream",
     "text": [
      "\u001b[32m[I 2022-08-16 06:09:57,529]\u001b[0m Trial 169 finished with value: 7965.159090909091 and parameters: {'kErase': 5, 'kRadius': 4, 'kAnnealingA': 13.968091775448755, 'kAnnealingB': 0.0791942330805383, 'kAnnealingStart': 27.1327500228148, 'kSkipRatio': 0.7021507641856839, 'kTargetDeterminationTrials': 11, 'kAttractionRatio': 0.0481964742125737, 'kMaxAttractionDistance': 10, 'kStartAttraction': 0.05791789214288125}. Best is trial 121 with value: 8430.27840909091.\u001b[0m\n"
     ]
    },
    {
     "name": "stdout",
     "output_type": "stream",
     "text": [
      "index_parallel='0171'\n"
     ]
    },
    {
     "name": "stderr",
     "output_type": "stream",
     "text": [
      "\u001b[32m[I 2022-08-16 06:13:25,773]\u001b[0m Trial 171 finished with value: 8370.238636363636 and parameters: {'kErase': 2, 'kRadius': 4, 'kAnnealingA': 14.944987157920702, 'kAnnealingB': 0.2774474076547466, 'kAnnealingStart': 29.91155305999709, 'kSkipRatio': 0.7470517854872921, 'kTargetDeterminationTrials': 12, 'kAttractionRatio': 0.05695302895586652, 'kMaxAttractionDistance': 7, 'kStartAttraction': 0.07424404068176159}. Best is trial 121 with value: 8430.27840909091.\u001b[0m\n"
     ]
    },
    {
     "name": "stdout",
     "output_type": "stream",
     "text": [
      "index_parallel='0173'\n"
     ]
    },
    {
     "name": "stderr",
     "output_type": "stream",
     "text": [
      "\u001b[32m[I 2022-08-16 06:16:54,023]\u001b[0m Trial 173 finished with value: 8275.079545454546 and parameters: {'kErase': 2, 'kRadius': 4, 'kAnnealingA': 14.72368530379038, 'kAnnealingB': 0.2769456684544097, 'kAnnealingStart': 34.61551237191217, 'kSkipRatio': 0.752715051689495, 'kTargetDeterminationTrials': 10, 'kAttractionRatio': 0.05754478054939893, 'kMaxAttractionDistance': 7, 'kStartAttraction': 0.0768399019440696}. Best is trial 121 with value: 8430.27840909091.\u001b[0m\n"
     ]
    },
    {
     "name": "stdout",
     "output_type": "stream",
     "text": [
      "index_parallel='0175'\n"
     ]
    },
    {
     "name": "stderr",
     "output_type": "stream",
     "text": [
      "\u001b[32m[I 2022-08-16 06:20:22,471]\u001b[0m Trial 175 finished with value: 8345.079545454546 and parameters: {'kErase': 2, 'kRadius': 4, 'kAnnealingA': 13.239043144551605, 'kAnnealingB': 0.2371822414897371, 'kAnnealingStart': 29.037970897406296, 'kSkipRatio': 0.7497202694486234, 'kTargetDeterminationTrials': 15, 'kAttractionRatio': 0.05380652548034745, 'kMaxAttractionDistance': 8, 'kStartAttraction': 0.08312692211777993}. Best is trial 121 with value: 8430.27840909091.\u001b[0m\n"
     ]
    },
    {
     "name": "stdout",
     "output_type": "stream",
     "text": [
      "index_parallel='0177'\n"
     ]
    },
    {
     "name": "stderr",
     "output_type": "stream",
     "text": [
      "\u001b[32m[I 2022-08-16 06:23:51,376]\u001b[0m Trial 177 finished with value: 8228.238636363636 and parameters: {'kErase': 2, 'kRadius': 4, 'kAnnealingA': 14.751075418878418, 'kAnnealingB': 2.1755127255344093, 'kAnnealingStart': 29.557468520044363, 'kSkipRatio': 0.7438940886397671, 'kTargetDeterminationTrials': 15, 'kAttractionRatio': 0.06608809010856695, 'kMaxAttractionDistance': 9, 'kStartAttraction': 0.09073379301790382}. Best is trial 121 with value: 8430.27840909091.\u001b[0m\n"
     ]
    },
    {
     "name": "stdout",
     "output_type": "stream",
     "text": [
      "index_parallel='0179'\n"
     ]
    },
    {
     "name": "stderr",
     "output_type": "stream",
     "text": [
      "\u001b[32m[I 2022-08-16 06:27:19,662]\u001b[0m Trial 179 finished with value: 8289.130681818182 and parameters: {'kErase': 2, 'kRadius': 4, 'kAnnealingA': 13.130676018426675, 'kAnnealingB': 0.041507125879252954, 'kAnnealingStart': 25.638210841983874, 'kSkipRatio': 0.7673909423225731, 'kTargetDeterminationTrials': 12, 'kAttractionRatio': 0.05297370645800252, 'kMaxAttractionDistance': 6, 'kStartAttraction': 0.0713101383686248}. Best is trial 121 with value: 8430.27840909091.\u001b[0m\n"
     ]
    },
    {
     "name": "stdout",
     "output_type": "stream",
     "text": [
      "index_parallel='0182'\n"
     ]
    },
    {
     "name": "stderr",
     "output_type": "stream",
     "text": [
      "\u001b[32m[I 2022-08-16 06:30:48,030]\u001b[0m Trial 182 finished with value: 8397.068181818182 and parameters: {'kErase': 2, 'kRadius': 4, 'kAnnealingA': 14.208684187054319, 'kAnnealingB': 0.3013290573155874, 'kAnnealingStart': 22.10539983044788, 'kSkipRatio': 0.7325002096729312, 'kTargetDeterminationTrials': 13, 'kAttractionRatio': 0.04583200078879622, 'kMaxAttractionDistance': 8, 'kStartAttraction': 0.1190711751006887}. Best is trial 121 with value: 8430.27840909091.\u001b[0m\n"
     ]
    },
    {
     "name": "stdout",
     "output_type": "stream",
     "text": [
      "index_parallel='0184'\n"
     ]
    },
    {
     "name": "stderr",
     "output_type": "stream",
     "text": [
      "\u001b[32m[I 2022-08-16 06:34:16,194]\u001b[0m Trial 184 finished with value: 8379.477272727272 and parameters: {'kErase': 2, 'kRadius': 4, 'kAnnealingA': 14.073345009560345, 'kAnnealingB': 0.14217713830969186, 'kAnnealingStart': 22.08002525763417, 'kSkipRatio': 0.7334343100610697, 'kTargetDeterminationTrials': 12, 'kAttractionRatio': 0.07447686676581874, 'kMaxAttractionDistance': 7, 'kStartAttraction': 0.11932672002641935}. Best is trial 121 with value: 8430.27840909091.\u001b[0m\n"
     ]
    },
    {
     "name": "stdout",
     "output_type": "stream",
     "text": [
      "index_parallel='0186'\n"
     ]
    },
    {
     "name": "stderr",
     "output_type": "stream",
     "text": [
      "\u001b[32m[I 2022-08-16 06:37:44,237]\u001b[0m Trial 186 finished with value: 8332.505681818182 and parameters: {'kErase': 2, 'kRadius': 4, 'kAnnealingA': 14.361291150496957, 'kAnnealingB': 0.12787675957388003, 'kAnnealingStart': 22.318196485984636, 'kSkipRatio': 0.7294690821565302, 'kTargetDeterminationTrials': 14, 'kAttractionRatio': 0.0752888833727854, 'kMaxAttractionDistance': 7, 'kStartAttraction': 0.12839833796829486}. Best is trial 121 with value: 8430.27840909091.\u001b[0m\n"
     ]
    },
    {
     "name": "stdout",
     "output_type": "stream",
     "text": [
      "index_parallel='0188'\n"
     ]
    },
    {
     "name": "stderr",
     "output_type": "stream",
     "text": [
      "\u001b[32m[I 2022-08-16 06:41:12,779]\u001b[0m Trial 188 finished with value: 8312.948863636364 and parameters: {'kErase': 2, 'kRadius': 4, 'kAnnealingA': 14.986249485529578, 'kAnnealingB': 0.10260415828414546, 'kAnnealingStart': 25.24030506879579, 'kSkipRatio': 0.7405986876311897, 'kTargetDeterminationTrials': 13, 'kAttractionRatio': 0.06088464171218759, 'kMaxAttractionDistance': 9, 'kStartAttraction': 0.10460371224743858}. Best is trial 121 with value: 8430.27840909091.\u001b[0m\n"
     ]
    },
    {
     "name": "stdout",
     "output_type": "stream",
     "text": [
      "index_parallel='0190'\n"
     ]
    },
    {
     "name": "stderr",
     "output_type": "stream",
     "text": [
      "\u001b[32m[I 2022-08-16 06:44:40,740]\u001b[0m Trial 190 finished with value: 8319.363636363636 and parameters: {'kErase': 2, 'kRadius': 4, 'kAnnealingA': 14.000235661995784, 'kAnnealingB': 0.17829388066995555, 'kAnnealingStart': 31.901585467751755, 'kSkipRatio': 0.7213239593515297, 'kTargetDeterminationTrials': 16, 'kAttractionRatio': 0.08386480521871445, 'kMaxAttractionDistance': 8, 'kStartAttraction': 0.09682497399572959}. Best is trial 121 with value: 8430.27840909091.\u001b[0m\n"
     ]
    },
    {
     "name": "stdout",
     "output_type": "stream",
     "text": [
      "index_parallel='0192'\n"
     ]
    },
    {
     "name": "stderr",
     "output_type": "stream",
     "text": [
      "\u001b[32m[I 2022-08-16 06:48:09,173]\u001b[0m Trial 192 finished with value: 8358.494318181818 and parameters: {'kErase': 2, 'kRadius': 4, 'kAnnealingA': 14.239251251612203, 'kAnnealingB': 0.2778851470043655, 'kAnnealingStart': 20.516377471755288, 'kSkipRatio': 0.7127261518958924, 'kTargetDeterminationTrials': 12, 'kAttractionRatio': 0.045166956859828064, 'kMaxAttractionDistance': 6, 'kStartAttraction': 0.12016505942259986}. Best is trial 121 with value: 8430.27840909091.\u001b[0m\n"
     ]
    },
    {
     "name": "stdout",
     "output_type": "stream",
     "text": [
      "index_parallel='0194'\n"
     ]
    },
    {
     "name": "stderr",
     "output_type": "stream",
     "text": [
      "\u001b[32m[I 2022-08-16 06:51:37,553]\u001b[0m Trial 194 finished with value: 8205.943181818182 and parameters: {'kErase': 2, 'kRadius': 4, 'kAnnealingA': 13.994225760410568, 'kAnnealingB': 0.3041147440151811, 'kAnnealingStart': 20.607778720925758, 'kSkipRatio': 0.492002316275834, 'kTargetDeterminationTrials': 12, 'kAttractionRatio': 0.04708272039111162, 'kMaxAttractionDistance': 6, 'kStartAttraction': 0.11512641263590818}. Best is trial 121 with value: 8430.27840909091.\u001b[0m\n"
     ]
    },
    {
     "name": "stdout",
     "output_type": "stream",
     "text": [
      "index_parallel='0196'\n"
     ]
    },
    {
     "name": "stderr",
     "output_type": "stream",
     "text": [
      "\u001b[32m[I 2022-08-16 06:55:05,764]\u001b[0m Trial 196 finished with value: 8359.630681818182 and parameters: {'kErase': 2, 'kRadius': 4, 'kAnnealingA': 13.821547824333816, 'kAnnealingB': 0.22677787362674395, 'kAnnealingStart': 24.026246405692447, 'kSkipRatio': 0.7316970282169558, 'kTargetDeterminationTrials': 11, 'kAttractionRatio': 0.045455990277181314, 'kMaxAttractionDistance': 5, 'kStartAttraction': 0.0875457441940139}. Best is trial 121 with value: 8430.27840909091.\u001b[0m\n"
     ]
    },
    {
     "name": "stdout",
     "output_type": "stream",
     "text": [
      "index_parallel='0198'\n"
     ]
    },
    {
     "name": "stderr",
     "output_type": "stream",
     "text": [
      "\u001b[32m[I 2022-08-16 06:58:34,554]\u001b[0m Trial 198 finished with value: 8144.011363636364 and parameters: {'kErase': 2, 'kRadius': 4, 'kAnnealingA': 14.234829695833717, 'kAnnealingB': 0.4022828262964027, 'kAnnealingStart': 26.60364519863243, 'kSkipRatio': 0.7690948174042576, 'kTargetDeterminationTrials': 11, 'kAttractionRatio': 0.045095773581544034, 'kMaxAttractionDistance': 4, 'kStartAttraction': 0.09068326013246338}. Best is trial 121 with value: 8430.27840909091.\u001b[0m\n"
     ]
    },
    {
     "name": "stdout",
     "output_type": "stream",
     "text": [
      "index_parallel='0200'\n"
     ]
    },
    {
     "name": "stderr",
     "output_type": "stream",
     "text": [
      "\u001b[32m[I 2022-08-16 07:02:02,517]\u001b[0m Trial 200 finished with value: 8353.704545454546 and parameters: {'kErase': 2, 'kRadius': 4, 'kAnnealingA': 13.61258831528864, 'kAnnealingB': 0.2954332958875348, 'kAnnealingStart': 21.906371931952847, 'kSkipRatio': 0.7391277289862663, 'kTargetDeterminationTrials': 13, 'kAttractionRatio': 0.05636045079293776, 'kMaxAttractionDistance': 5, 'kStartAttraction': 0.1358311348326665}. Best is trial 121 with value: 8430.27840909091.\u001b[0m\n"
     ]
    },
    {
     "name": "stdout",
     "output_type": "stream",
     "text": [
      "index_parallel='0202'\n"
     ]
    },
    {
     "name": "stderr",
     "output_type": "stream",
     "text": [
      "\u001b[32m[I 2022-08-16 07:05:30,833]\u001b[0m Trial 202 finished with value: 8238.738636363636 and parameters: {'kErase': 2, 'kRadius': 4, 'kAnnealingA': 12.624340087872065, 'kAnnealingB': 0.24921230387469884, 'kAnnealingStart': 23.32553714514146, 'kSkipRatio': 0.5327201474519161, 'kTargetDeterminationTrials': 13, 'kAttractionRatio': 0.04891344821183506, 'kMaxAttractionDistance': 7, 'kStartAttraction': 0.07346026922228685}. Best is trial 121 with value: 8430.27840909091.\u001b[0m\n"
     ]
    },
    {
     "name": "stdout",
     "output_type": "stream",
     "text": [
      "index_parallel='0204'\n"
     ]
    },
    {
     "name": "stderr",
     "output_type": "stream",
     "text": [
      "\u001b[32m[I 2022-08-16 07:08:58,770]\u001b[0m Trial 204 finished with value: 8356.272727272728 and parameters: {'kErase': 2, 'kRadius': 4, 'kAnnealingA': 14.954777232303442, 'kAnnealingB': 0.35151401854853526, 'kAnnealingStart': 19.44096393619508, 'kSkipRatio': 0.7526464338101424, 'kTargetDeterminationTrials': 14, 'kAttractionRatio': 0.052844572118679885, 'kMaxAttractionDistance': 7, 'kStartAttraction': 0.11465255694632821}. Best is trial 121 with value: 8430.27840909091.\u001b[0m\n"
     ]
    },
    {
     "name": "stdout",
     "output_type": "stream",
     "text": [
      "index_parallel='0206'\n"
     ]
    },
    {
     "name": "stderr",
     "output_type": "stream",
     "text": [
      "\u001b[32m[I 2022-08-16 07:12:27,068]\u001b[0m Trial 206 finished with value: 8294.15909090909 and parameters: {'kErase': 2, 'kRadius': 4, 'kAnnealingA': 13.73677003787926, 'kAnnealingB': 0.1885994613828076, 'kAnnealingStart': 16.929749186049953, 'kSkipRatio': 0.7894523969306039, 'kTargetDeterminationTrials': 11, 'kAttractionRatio': 0.0444229003064976, 'kMaxAttractionDistance': 6, 'kStartAttraction': 0.196437925356921}. Best is trial 121 with value: 8430.27840909091.\u001b[0m\n"
     ]
    },
    {
     "name": "stdout",
     "output_type": "stream",
     "text": [
      "index_parallel='0208'\n"
     ]
    },
    {
     "name": "stderr",
     "output_type": "stream",
     "text": [
      "\u001b[32m[I 2022-08-16 07:15:55,096]\u001b[0m Trial 208 finished with value: 8291.954545454546 and parameters: {'kErase': 2, 'kRadius': 4, 'kAnnealingA': 14.205733619805324, 'kAnnealingB': 0.10427744504354422, 'kAnnealingStart': 21.92168306182981, 'kSkipRatio': 0.719517068932138, 'kTargetDeterminationTrials': 13, 'kAttractionRatio': 0.05070557695889669, 'kMaxAttractionDistance': 8, 'kStartAttraction': 0.14423307713044714}. Best is trial 121 with value: 8430.27840909091.\u001b[0m\n"
     ]
    },
    {
     "name": "stdout",
     "output_type": "stream",
     "text": [
      "index_parallel='0210'\n"
     ]
    },
    {
     "name": "stderr",
     "output_type": "stream",
     "text": [
      "\u001b[32m[I 2022-08-16 07:19:23,089]\u001b[0m Trial 210 finished with value: 8317.9375 and parameters: {'kErase': 2, 'kRadius': 4, 'kAnnealingA': 13.17408703584032, 'kAnnealingB': 0.29162725760097524, 'kAnnealingStart': 27.133081668428527, 'kSkipRatio': 0.7098509847353139, 'kTargetDeterminationTrials': 17, 'kAttractionRatio': 0.056782454056206216, 'kMaxAttractionDistance': 6, 'kStartAttraction': 0.08562527651555349}. Best is trial 121 with value: 8430.27840909091.\u001b[0m\n"
     ]
    },
    {
     "name": "stdout",
     "output_type": "stream",
     "text": [
      "index_parallel='0212'\n"
     ]
    },
    {
     "name": "stderr",
     "output_type": "stream",
     "text": [
      "\u001b[32m[I 2022-08-16 07:22:51,129]\u001b[0m Trial 212 finished with value: 8297.727272727272 and parameters: {'kErase': 2, 'kRadius': 4, 'kAnnealingA': 14.9813865840799, 'kAnnealingB': 0.2764141425313956, 'kAnnealingStart': 23.974951581185906, 'kSkipRatio': 0.724325573643351, 'kTargetDeterminationTrials': 16, 'kAttractionRatio': 0.06407883691909635, 'kMaxAttractionDistance': 7, 'kStartAttraction': 0.15895751835998945}. Best is trial 121 with value: 8430.27840909091.\u001b[0m\n"
     ]
    },
    {
     "name": "stdout",
     "output_type": "stream",
     "text": [
      "index_parallel='0214'\n"
     ]
    },
    {
     "name": "stderr",
     "output_type": "stream",
     "text": [
      "\u001b[32m[I 2022-08-16 07:26:19,371]\u001b[0m Trial 214 finished with value: 8375.698863636364 and parameters: {'kErase': 2, 'kRadius': 4, 'kAnnealingA': 14.274483880833888, 'kAnnealingB': 0.22629965996853865, 'kAnnealingStart': 24.485876902207867, 'kSkipRatio': 0.7421190145661086, 'kTargetDeterminationTrials': 15, 'kAttractionRatio': 0.04076860298663444, 'kMaxAttractionDistance': 7, 'kStartAttraction': 0.13676229235350698}. Best is trial 121 with value: 8430.27840909091.\u001b[0m\n"
     ]
    },
    {
     "name": "stdout",
     "output_type": "stream",
     "text": [
      "index_parallel='0216'\n"
     ]
    },
    {
     "name": "stderr",
     "output_type": "stream",
     "text": [
      "\u001b[32m[I 2022-08-16 07:29:47,541]\u001b[0m Trial 216 finished with value: 8367.414772727272 and parameters: {'kErase': 2, 'kRadius': 4, 'kAnnealingA': 14.99372205887036, 'kAnnealingB': 0.21804579721679593, 'kAnnealingStart': 24.85774292599517, 'kSkipRatio': 0.7591849690079251, 'kTargetDeterminationTrials': 18, 'kAttractionRatio': 0.0628751151928185, 'kMaxAttractionDistance': 7, 'kStartAttraction': 0.13854882025957874}. Best is trial 121 with value: 8430.27840909091.\u001b[0m\n"
     ]
    },
    {
     "name": "stdout",
     "output_type": "stream",
     "text": [
      "index_parallel='0218'\n"
     ]
    },
    {
     "name": "stderr",
     "output_type": "stream",
     "text": [
      "\u001b[32m[I 2022-08-16 07:33:15,576]\u001b[0m Trial 218 finished with value: 8294.164772727272 and parameters: {'kErase': 2, 'kRadius': 4, 'kAnnealingA': 14.495999322153903, 'kAnnealingB': 0.34644020616859744, 'kAnnealingStart': 29.37374561885446, 'kSkipRatio': 0.7614487599414336, 'kTargetDeterminationTrials': 19, 'kAttractionRatio': 0.06622077824844279, 'kMaxAttractionDistance': 7, 'kStartAttraction': 0.13693968955465707}. Best is trial 121 with value: 8430.27840909091.\u001b[0m\n"
     ]
    },
    {
     "name": "stdout",
     "output_type": "stream",
     "text": [
      "index_parallel='0220'\n"
     ]
    },
    {
     "name": "stderr",
     "output_type": "stream",
     "text": [
      "\u001b[32m[I 2022-08-16 07:36:43,725]\u001b[0m Trial 220 finished with value: 8337.46590909091 and parameters: {'kErase': 2, 'kRadius': 4, 'kAnnealingA': 14.86828021255028, 'kAnnealingB': 0.14038435069190064, 'kAnnealingStart': 22.3675749272265, 'kSkipRatio': 0.5773072886901912, 'kTargetDeterminationTrials': 18, 'kAttractionRatio': 0.058588570298685326, 'kMaxAttractionDistance': 8, 'kStartAttraction': 0.17862156079267935}. Best is trial 121 with value: 8430.27840909091.\u001b[0m\n"
     ]
    },
    {
     "name": "stdout",
     "output_type": "stream",
     "text": [
      "index_parallel='0222'\n"
     ]
    },
    {
     "name": "stderr",
     "output_type": "stream",
     "text": [
      "\u001b[32m[I 2022-08-16 07:40:11,910]\u001b[0m Trial 222 finished with value: 8381.323863636364 and parameters: {'kErase': 2, 'kRadius': 4, 'kAnnealingA': 13.715966881098476, 'kAnnealingB': 0.19504339929588574, 'kAnnealingStart': 24.161895499811838, 'kSkipRatio': 0.7390219619648278, 'kTargetDeterminationTrials': 16, 'kAttractionRatio': 0.04152203550391895, 'kMaxAttractionDistance': 7, 'kStartAttraction': 0.10937822676845986}. Best is trial 121 with value: 8430.27840909091.\u001b[0m\n"
     ]
    },
    {
     "name": "stdout",
     "output_type": "stream",
     "text": [
      "index_parallel='0224'\n"
     ]
    },
    {
     "name": "stderr",
     "output_type": "stream",
     "text": [
      "\u001b[32m[I 2022-08-16 07:43:40,069]\u001b[0m Trial 224 finished with value: 8327.460227272728 and parameters: {'kErase': 2, 'kRadius': 4, 'kAnnealingA': 13.578086724339142, 'kAnnealingB': 0.19901866389057288, 'kAnnealingStart': 25.920317465101817, 'kSkipRatio': 0.7442079894867091, 'kTargetDeterminationTrials': 16, 'kAttractionRatio': 0.04017686313273717, 'kMaxAttractionDistance': 7, 'kStartAttraction': 0.10688373923786978}. Best is trial 121 with value: 8430.27840909091.\u001b[0m\n"
     ]
    },
    {
     "name": "stdout",
     "output_type": "stream",
     "text": [
      "index_parallel='0226'\n"
     ]
    },
    {
     "name": "stderr",
     "output_type": "stream",
     "text": [
      "\u001b[32m[I 2022-08-16 07:47:08,453]\u001b[0m Trial 226 finished with value: 8394.352272727272 and parameters: {'kErase': 2, 'kRadius': 4, 'kAnnealingA': 13.154387740699367, 'kAnnealingB': 0.4182588597664978, 'kAnnealingStart': 23.80963909664652, 'kSkipRatio': 0.7777542584703, 'kTargetDeterminationTrials': 16, 'kAttractionRatio': 0.04135224966461886, 'kMaxAttractionDistance': 8, 'kStartAttraction': 0.13111298330655255}. Best is trial 121 with value: 8430.27840909091.\u001b[0m\n"
     ]
    },
    {
     "name": "stdout",
     "output_type": "stream",
     "text": [
      "index_parallel='0228'\n"
     ]
    },
    {
     "name": "stderr",
     "output_type": "stream",
     "text": [
      "\u001b[32m[I 2022-08-16 07:50:36,415]\u001b[0m Trial 228 finished with value: 8286.9375 and parameters: {'kErase': 2, 'kRadius': 4, 'kAnnealingA': 12.23639720627692, 'kAnnealingB': 0.4143976913167694, 'kAnnealingStart': 22.95261230840068, 'kSkipRatio': 0.7760839715105747, 'kTargetDeterminationTrials': 17, 'kAttractionRatio': 0.041158954338028686, 'kMaxAttractionDistance': 8, 'kStartAttraction': 0.12085553004670377}. Best is trial 121 with value: 8430.27840909091.\u001b[0m\n"
     ]
    },
    {
     "name": "stdout",
     "output_type": "stream",
     "text": [
      "index_parallel='0230'\n"
     ]
    },
    {
     "name": "stderr",
     "output_type": "stream",
     "text": [
      "\u001b[32m[I 2022-08-16 07:54:04,338]\u001b[0m Trial 230 finished with value: 8245.164772727272 and parameters: {'kErase': 2, 'kRadius': 4, 'kAnnealingA': 12.799413301345083, 'kAnnealingB': 0.43944521569410233, 'kAnnealingStart': 27.903825976696446, 'kSkipRatio': 0.7631263689209887, 'kTargetDeterminationTrials': 20, 'kAttractionRatio': 0.03707764327191614, 'kMaxAttractionDistance': 8, 'kStartAttraction': 0.16369807861500618}. Best is trial 121 with value: 8430.27840909091.\u001b[0m\n"
     ]
    },
    {
     "name": "stdout",
     "output_type": "stream",
     "text": [
      "index_parallel='0232'\n"
     ]
    },
    {
     "name": "stderr",
     "output_type": "stream",
     "text": [
      "\u001b[32m[I 2022-08-16 07:57:32,507]\u001b[0m Trial 232 finished with value: 8304.15340909091 and parameters: {'kErase': 2, 'kRadius': 4, 'kAnnealingA': 14.104522734321343, 'kAnnealingB': 0.27160984427203944, 'kAnnealingStart': 20.39209985854202, 'kSkipRatio': 0.7974258518747124, 'kTargetDeterminationTrials': 15, 'kAttractionRatio': 0.050418103388548366, 'kMaxAttractionDistance': 7, 'kStartAttraction': 0.10343921682022411}. Best is trial 121 with value: 8430.27840909091.\u001b[0m\n"
     ]
    },
    {
     "name": "stdout",
     "output_type": "stream",
     "text": [
      "index_parallel='0234'\n"
     ]
    },
    {
     "name": "stderr",
     "output_type": "stream",
     "text": [
      "\u001b[32m[I 2022-08-16 08:01:00,431]\u001b[0m Trial 234 finished with value: 8377.454545454546 and parameters: {'kErase': 2, 'kRadius': 4, 'kAnnealingA': 11.915857947686535, 'kAnnealingB': 0.17426754480403583, 'kAnnealingStart': 27.42168423033918, 'kSkipRatio': 0.7848418308348819, 'kTargetDeterminationTrials': 18, 'kAttractionRatio': 0.06755505126991898, 'kMaxAttractionDistance': 8, 'kStartAttraction': 0.10985152490611796}. Best is trial 121 with value: 8430.27840909091.\u001b[0m\n"
     ]
    },
    {
     "name": "stdout",
     "output_type": "stream",
     "text": [
      "index_parallel='0236'\n"
     ]
    },
    {
     "name": "stderr",
     "output_type": "stream",
     "text": [
      "\u001b[32m[I 2022-08-16 08:04:28,665]\u001b[0m Trial 236 finished with value: 8315.357954545454 and parameters: {'kErase': 2, 'kRadius': 4, 'kAnnealingA': 12.952380056949538, 'kAnnealingB': 0.08733506580128192, 'kAnnealingStart': 27.506249102968027, 'kSkipRatio': 0.7966402001458222, 'kTargetDeterminationTrials': 19, 'kAttractionRatio': 0.06602641907093611, 'kMaxAttractionDistance': 7, 'kStartAttraction': 0.12055460480088198}. Best is trial 121 with value: 8430.27840909091.\u001b[0m\n"
     ]
    },
    {
     "name": "stdout",
     "output_type": "stream",
     "text": [
      "index_parallel='0238'\n"
     ]
    },
    {
     "name": "stderr",
     "output_type": "stream",
     "text": [
      "\u001b[32m[I 2022-08-16 08:07:56,969]\u001b[0m Trial 238 finished with value: 8362.02840909091 and parameters: {'kErase': 2, 'kRadius': 4, 'kAnnealingA': 13.255455127076804, 'kAnnealingB': 0.17668079716411939, 'kAnnealingStart': 32.52924042432815, 'kSkipRatio': 0.7725740654307942, 'kTargetDeterminationTrials': 18, 'kAttractionRatio': 0.06354003509448411, 'kMaxAttractionDistance': 7, 'kStartAttraction': 0.12188946422889185}. Best is trial 121 with value: 8430.27840909091.\u001b[0m\n"
     ]
    },
    {
     "name": "stdout",
     "output_type": "stream",
     "text": [
      "index_parallel='0240'\n"
     ]
    },
    {
     "name": "stderr",
     "output_type": "stream",
     "text": [
      "\u001b[32m[I 2022-08-16 08:11:25,099]\u001b[0m Trial 240 finished with value: 8351.90909090909 and parameters: {'kErase': 2, 'kRadius': 4, 'kAnnealingA': 12.453552889204616, 'kAnnealingB': 0.3242708530036587, 'kAnnealingStart': 24.502465940032288, 'kSkipRatio': 0.7991348699996493, 'kTargetDeterminationTrials': 16, 'kAttractionRatio': 0.05510265974564798, 'kMaxAttractionDistance': 8, 'kStartAttraction': 0.018937303970345664}. Best is trial 121 with value: 8430.27840909091.\u001b[0m\n"
     ]
    },
    {
     "name": "stdout",
     "output_type": "stream",
     "text": [
      "index_parallel='0242'\n"
     ]
    },
    {
     "name": "stderr",
     "output_type": "stream",
     "text": [
      "\u001b[32m[I 2022-08-16 08:14:53,701]\u001b[0m Trial 242 finished with value: 8281.056818181818 and parameters: {'kErase': 2, 'kRadius': 4, 'kAnnealingA': 13.42538685001759, 'kAnnealingB': 0.17610904000004757, 'kAnnealingStart': 37.325706006141395, 'kSkipRatio': 0.7754710891751462, 'kTargetDeterminationTrials': 17, 'kAttractionRatio': 0.06271064639295036, 'kMaxAttractionDistance': 7, 'kStartAttraction': 0.1382352616207549}. Best is trial 121 with value: 8430.27840909091.\u001b[0m\n"
     ]
    },
    {
     "name": "stdout",
     "output_type": "stream",
     "text": [
      "index_parallel='0244'\n"
     ]
    },
    {
     "name": "stderr",
     "output_type": "stream",
     "text": [
      "\u001b[32m[I 2022-08-16 08:18:22,164]\u001b[0m Trial 244 finished with value: 8213.369318181818 and parameters: {'kErase': 2, 'kRadius': 4, 'kAnnealingA': 11.835306132859062, 'kAnnealingB': 0.2379941162883737, 'kAnnealingStart': 25.34963735905329, 'kSkipRatio': 0.7590466906019376, 'kTargetDeterminationTrials': 20, 'kAttractionRatio': 0.0713404142421339, 'kMaxAttractionDistance': 34, 'kStartAttraction': 0.14733260442132254}. Best is trial 121 with value: 8430.27840909091.\u001b[0m\n"
     ]
    },
    {
     "name": "stdout",
     "output_type": "stream",
     "text": [
      "index_parallel='0246'\n"
     ]
    },
    {
     "name": "stderr",
     "output_type": "stream",
     "text": [
      "\u001b[32m[I 2022-08-16 08:21:50,378]\u001b[0m Trial 246 finished with value: 8353.892045454546 and parameters: {'kErase': 2, 'kRadius': 4, 'kAnnealingA': 11.800669958140597, 'kAnnealingB': 0.3645381806605698, 'kAnnealingStart': 27.156377280312647, 'kSkipRatio': 0.7597677293133326, 'kTargetDeterminationTrials': 19, 'kAttractionRatio': 0.07410981773211169, 'kMaxAttractionDistance': 8, 'kStartAttraction': 0.10899217280358128}. Best is trial 121 with value: 8430.27840909091.\u001b[0m\n"
     ]
    },
    {
     "name": "stdout",
     "output_type": "stream",
     "text": [
      "index_parallel='0248'\n"
     ]
    },
    {
     "name": "stderr",
     "output_type": "stream",
     "text": [
      "\u001b[32m[I 2022-08-16 08:25:18,536]\u001b[0m Trial 248 finished with value: 8368.25 and parameters: {'kErase': 2, 'kRadius': 4, 'kAnnealingA': 11.636671251090819, 'kAnnealingB': 0.37059718903654804, 'kAnnealingStart': 24.63196020447811, 'kSkipRatio': 0.7654341921563352, 'kTargetDeterminationTrials': 20, 'kAttractionRatio': 0.08750837446985929, 'kMaxAttractionDistance': 9, 'kStartAttraction': 0.19390307810658602}. Best is trial 121 with value: 8430.27840909091.\u001b[0m\n"
     ]
    },
    {
     "name": "stdout",
     "output_type": "stream",
     "text": [
      "index_parallel='0250'\n"
     ]
    },
    {
     "name": "stderr",
     "output_type": "stream",
     "text": [
      "\u001b[32m[I 2022-08-16 08:28:46,786]\u001b[0m Trial 250 finished with value: 8302.511363636364 and parameters: {'kErase': 2, 'kRadius': 4, 'kAnnealingA': 12.49747330242176, 'kAnnealingB': 0.396492247605181, 'kAnnealingStart': 24.442969098459624, 'kSkipRatio': 0.7814845994023328, 'kTargetDeterminationTrials': 19, 'kAttractionRatio': 0.08323939570967205, 'kMaxAttractionDistance': 9, 'kStartAttraction': 0.1871237924435912}. Best is trial 121 with value: 8430.27840909091.\u001b[0m\n"
     ]
    },
    {
     "name": "stdout",
     "output_type": "stream",
     "text": [
      "index_parallel='0252'\n"
     ]
    },
    {
     "name": "stderr",
     "output_type": "stream",
     "text": [
      "\u001b[32m[I 2022-08-16 08:32:14,876]\u001b[0m Trial 252 finished with value: 8338.15340909091 and parameters: {'kErase': 2, 'kRadius': 4, 'kAnnealingA': 10.890314824421443, 'kAnnealingB': 0.33122752952299206, 'kAnnealingStart': 29.32023040147487, 'kSkipRatio': 0.7684992298461283, 'kTargetDeterminationTrials': 17, 'kAttractionRatio': 0.08731602836471501, 'kMaxAttractionDistance': 9, 'kStartAttraction': 0.21844213346559962}. Best is trial 121 with value: 8430.27840909091.\u001b[0m\n"
     ]
    },
    {
     "name": "stdout",
     "output_type": "stream",
     "text": [
      "index_parallel='0254'\n"
     ]
    },
    {
     "name": "stderr",
     "output_type": "stream",
     "text": [
      "\u001b[32m[I 2022-08-16 08:35:43,046]\u001b[0m Trial 254 finished with value: 8342.954545454546 and parameters: {'kErase': 2, 'kRadius': 4, 'kAnnealingA': 11.628136991892122, 'kAnnealingB': 0.48699357051165304, 'kAnnealingStart': 25.894666518306963, 'kSkipRatio': 0.7537943487447798, 'kTargetDeterminationTrials': 18, 'kAttractionRatio': 0.07667439422063978, 'kMaxAttractionDistance': 10, 'kStartAttraction': 0.33429608308548797}. Best is trial 121 with value: 8430.27840909091.\u001b[0m\n"
     ]
    },
    {
     "name": "stdout",
     "output_type": "stream",
     "text": [
      "index_parallel='0256'\n"
     ]
    },
    {
     "name": "stderr",
     "output_type": "stream",
     "text": [
      "\u001b[32m[I 2022-08-16 08:39:11,615]\u001b[0m Trial 256 finished with value: 8352.079545454546 and parameters: {'kErase': 2, 'kRadius': 4, 'kAnnealingA': 12.70318893734856, 'kAnnealingB': 0.24517457374587398, 'kAnnealingStart': 23.195215045600367, 'kSkipRatio': 0.7492536720783455, 'kTargetDeterminationTrials': 20, 'kAttractionRatio': 0.0701140495490276, 'kMaxAttractionDistance': 8, 'kStartAttraction': 0.07596881597262506}. Best is trial 121 with value: 8430.27840909091.\u001b[0m\n"
     ]
    },
    {
     "name": "stdout",
     "output_type": "stream",
     "text": [
      "index_parallel='0258'\n"
     ]
    },
    {
     "name": "stderr",
     "output_type": "stream",
     "text": [
      "\u001b[32m[I 2022-08-16 08:42:39,773]\u001b[0m Trial 258 finished with value: 8376.482954545454 and parameters: {'kErase': 2, 'kRadius': 4, 'kAnnealingA': 12.246335864989398, 'kAnnealingB': 0.30658487770724546, 'kAnnealingStart': 22.92612193547865, 'kSkipRatio': 0.7833897103877402, 'kTargetDeterminationTrials': 16, 'kAttractionRatio': 0.06908395237872943, 'kMaxAttractionDistance': 8, 'kStartAttraction': 0.09410751953024792}. Best is trial 121 with value: 8430.27840909091.\u001b[0m\n"
     ]
    },
    {
     "name": "stdout",
     "output_type": "stream",
     "text": [
      "index_parallel='0260'\n"
     ]
    },
    {
     "name": "stderr",
     "output_type": "stream",
     "text": [
      "\u001b[32m[I 2022-08-16 08:46:08,389]\u001b[0m Trial 260 finished with value: 8339.232954545454 and parameters: {'kErase': 2, 'kRadius': 4, 'kAnnealingA': 12.259331845287173, 'kAnnealingB': 0.27559014942015314, 'kAnnealingStart': 33.875237777904736, 'kSkipRatio': 0.7860778945962874, 'kTargetDeterminationTrials': 16, 'kAttractionRatio': 0.06643879753182896, 'kMaxAttractionDistance': 8, 'kStartAttraction': 0.08901089662884024}. Best is trial 121 with value: 8430.27840909091.\u001b[0m\n"
     ]
    },
    {
     "name": "stdout",
     "output_type": "stream",
     "text": [
      "index_parallel='0262'\n"
     ]
    },
    {
     "name": "stderr",
     "output_type": "stream",
     "text": [
      "\u001b[32m[I 2022-08-16 08:49:36,693]\u001b[0m Trial 262 finished with value: 8200.119318181818 and parameters: {'kErase': 2, 'kRadius': 4, 'kAnnealingA': 13.024170835393098, 'kAnnealingB': 0.17798249253460624, 'kAnnealingStart': 22.575355257294536, 'kSkipRatio': 0.7791374976379255, 'kTargetDeterminationTrials': 14, 'kAttractionRatio': 0.07392777938178749, 'kMaxAttractionDistance': 74, 'kStartAttraction': 0.0746538623818025}. Best is trial 121 with value: 8430.27840909091.\u001b[0m\n"
     ]
    },
    {
     "name": "stdout",
     "output_type": "stream",
     "text": [
      "index_parallel='0264'\n"
     ]
    },
    {
     "name": "stderr",
     "output_type": "stream",
     "text": [
      "\u001b[32m[I 2022-08-16 08:53:04,981]\u001b[0m Trial 264 finished with value: 8330.875 and parameters: {'kErase': 2, 'kRadius': 4, 'kAnnealingA': 12.920334015901854, 'kAnnealingB': 0.15548994089972062, 'kAnnealingStart': 22.343830201276386, 'kSkipRatio': 0.7359612667667194, 'kTargetDeterminationTrials': 15, 'kAttractionRatio': 0.0679567107932548, 'kMaxAttractionDistance': 8, 'kStartAttraction': 0.1115271998695394}. Best is trial 121 with value: 8430.27840909091.\u001b[0m\n"
     ]
    },
    {
     "name": "stdout",
     "output_type": "stream",
     "text": [
      "index_parallel='0266'\n"
     ]
    },
    {
     "name": "stderr",
     "output_type": "stream",
     "text": [
      "\u001b[32m[I 2022-08-16 08:56:33,444]\u001b[0m Trial 266 finished with value: 8285.380681818182 and parameters: {'kErase': 2, 'kRadius': 4, 'kAnnealingA': 1.7042911588726142, 'kAnnealingB': 0.06144259549138348, 'kAnnealingStart': 27.153511785856526, 'kSkipRatio': 0.7467741489479595, 'kTargetDeterminationTrials': 17, 'kAttractionRatio': 0.06101350905125512, 'kMaxAttractionDistance': 8, 'kStartAttraction': 0.09193060554923077}. Best is trial 121 with value: 8430.27840909091.\u001b[0m\n"
     ]
    },
    {
     "name": "stdout",
     "output_type": "stream",
     "text": [
      "index_parallel='0268'\n"
     ]
    },
    {
     "name": "stderr",
     "output_type": "stream",
     "text": [
      "\u001b[32m[I 2022-08-16 09:00:01,729]\u001b[0m Trial 268 finished with value: 8320.522727272728 and parameters: {'kErase': 2, 'kRadius': 4, 'kAnnealingA': 14.02001449809624, 'kAnnealingB': 0.3197715251449454, 'kAnnealingStart': 23.744556392477016, 'kSkipRatio': 0.7723993926212728, 'kTargetDeterminationTrials': 15, 'kAttractionRatio': 0.061821287547432935, 'kMaxAttractionDistance': 8, 'kStartAttraction': 0.06494619788341101}. Best is trial 121 with value: 8430.27840909091.\u001b[0m\n"
     ]
    },
    {
     "name": "stdout",
     "output_type": "stream",
     "text": [
      "index_parallel='0270'\n"
     ]
    },
    {
     "name": "stderr",
     "output_type": "stream",
     "text": [
      "\u001b[32m[I 2022-08-16 09:03:30,458]\u001b[0m Trial 270 finished with value: 8355.392045454546 and parameters: {'kErase': 2, 'kRadius': 4, 'kAnnealingA': 11.172513558974295, 'kAnnealingB': 0.22251836311878695, 'kAnnealingStart': 21.213079347424447, 'kSkipRatio': 0.7538313525457727, 'kTargetDeterminationTrials': 14, 'kAttractionRatio': 0.0765506524003412, 'kMaxAttractionDistance': 9, 'kStartAttraction': 0.12599336526679347}. Best is trial 121 with value: 8430.27840909091.\u001b[0m\n"
     ]
    },
    {
     "name": "stdout",
     "output_type": "stream",
     "text": [
      "index_parallel='0272'\n"
     ]
    },
    {
     "name": "stderr",
     "output_type": "stream",
     "text": [
      "\u001b[32m[I 2022-08-16 09:06:58,800]\u001b[0m Trial 272 finished with value: 8321.068181818182 and parameters: {'kErase': 2, 'kRadius': 4, 'kAnnealingA': 11.996212271788766, 'kAnnealingB': 0.11660326291674797, 'kAnnealingStart': 30.767914170375235, 'kSkipRatio': 0.7284244990665752, 'kTargetDeterminationTrials': 16, 'kAttractionRatio': 0.07030112062322362, 'kMaxAttractionDistance': 7, 'kStartAttraction': 0.09905571371614079}. Best is trial 121 with value: 8430.27840909091.\u001b[0m\n"
     ]
    },
    {
     "name": "stdout",
     "output_type": "stream",
     "text": [
      "index_parallel='0274'\n"
     ]
    },
    {
     "name": "stderr",
     "output_type": "stream",
     "text": [
      "\u001b[32m[I 2022-08-16 09:10:27,080]\u001b[0m Trial 274 finished with value: 8292.6875 and parameters: {'kErase': 2, 'kRadius': 4, 'kAnnealingA': -0.7854905632276434, 'kAnnealingB': 0.421984952319801, 'kAnnealingStart': 28.407643762189668, 'kSkipRatio': 0.7902733310818911, 'kTargetDeterminationTrials': 18, 'kAttractionRatio': 0.05649142186575579, 'kMaxAttractionDistance': 18, 'kStartAttraction': 0.00715530989584606}. Best is trial 121 with value: 8430.27840909091.\u001b[0m\n"
     ]
    },
    {
     "name": "stdout",
     "output_type": "stream",
     "text": [
      "index_parallel='0276'\n"
     ]
    },
    {
     "name": "stderr",
     "output_type": "stream",
     "text": [
      "\u001b[32m[I 2022-08-16 09:13:55,247]\u001b[0m Trial 276 finished with value: 8367.664772727272 and parameters: {'kErase': 2, 'kRadius': 4, 'kAnnealingA': 13.373758369801545, 'kAnnealingB': 0.1992289565703077, 'kAnnealingStart': 24.745536210237816, 'kSkipRatio': 0.7640242728228716, 'kTargetDeterminationTrials': 18, 'kAttractionRatio': 0.05314881802655982, 'kMaxAttractionDistance': 8, 'kStartAttraction': 0.15627972479111707}. Best is trial 121 with value: 8430.27840909091.\u001b[0m\n"
     ]
    },
    {
     "name": "stdout",
     "output_type": "stream",
     "text": [
      "index_parallel='0278'\n"
     ]
    },
    {
     "name": "stderr",
     "output_type": "stream",
     "text": [
      "\u001b[32m[I 2022-08-16 09:17:23,566]\u001b[0m Trial 278 finished with value: 8339.960227272728 and parameters: {'kErase': 2, 'kRadius': 4, 'kAnnealingA': 14.219720116488087, 'kAnnealingB': 0.3213947636629744, 'kAnnealingStart': 19.269826449624663, 'kSkipRatio': 0.7378055404423163, 'kTargetDeterminationTrials': 13, 'kAttractionRatio': 0.0628268818247587, 'kMaxAttractionDistance': 7, 'kStartAttraction': 0.11437919164705118}. Best is trial 121 with value: 8430.27840909091.\u001b[0m\n"
     ]
    },
    {
     "name": "stdout",
     "output_type": "stream",
     "text": [
      "index_parallel='0280'\n"
     ]
    },
    {
     "name": "stderr",
     "output_type": "stream",
     "text": [
      "\u001b[32m[I 2022-08-16 09:20:51,990]\u001b[0m Trial 280 finished with value: 6340.5 and parameters: {'kErase': 2, 'kRadius': 4, 'kAnnealingA': 12.925360704770055, 'kAnnealingB': 1.591089975481669, 'kAnnealingStart': 94.47482317614693, 'kSkipRatio': 0.74951046157193, 'kTargetDeterminationTrials': 14, 'kAttractionRatio': 0.08122443991563276, 'kMaxAttractionDistance': 9, 'kStartAttraction': 0.08119279725748488}. Best is trial 121 with value: 8430.27840909091.\u001b[0m\n"
     ]
    },
    {
     "name": "stdout",
     "output_type": "stream",
     "text": [
      "index_parallel='0282'\n"
     ]
    },
    {
     "name": "stderr",
     "output_type": "stream",
     "text": [
      "\u001b[32m[I 2022-08-16 09:24:19,852]\u001b[0m Trial 282 finished with value: 8011.590909090909 and parameters: {'kErase': 2, 'kRadius': 4, 'kAnnealingA': 13.464012487587924, 'kAnnealingB': 0.1317978150346037, 'kAnnealingStart': 34.04680125146892, 'kSkipRatio': 0.4662982539235446, 'kTargetDeterminationTrials': 16, 'kAttractionRatio': 0.03381867819471934, 'kMaxAttractionDistance': 6, 'kStartAttraction': 0.14234786954084777}. Best is trial 121 with value: 8430.27840909091.\u001b[0m\n"
     ]
    },
    {
     "name": "stdout",
     "output_type": "stream",
     "text": [
      "index_parallel='0284'\n"
     ]
    },
    {
     "name": "stderr",
     "output_type": "stream",
     "text": [
      "\u001b[32m[I 2022-08-16 09:27:47,822]\u001b[0m Trial 284 finished with value: 7855.579545454545 and parameters: {'kErase': 2, 'kRadius': 4, 'kAnnealingA': 12.54533160758318, 'kAnnealingB': 0.023882059656585963, 'kAnnealingStart': 70.65727090275759, 'kSkipRatio': 0.7725623687649897, 'kTargetDeterminationTrials': 19, 'kAttractionRatio': 0.042104144169537755, 'kMaxAttractionDistance': 7, 'kStartAttraction': 0.09945594379721183}. Best is trial 121 with value: 8430.27840909091.\u001b[0m\n"
     ]
    },
    {
     "name": "stdout",
     "output_type": "stream",
     "text": [
      "index_parallel='0286'\n"
     ]
    },
    {
     "name": "stderr",
     "output_type": "stream",
     "text": [
      "\u001b[32m[I 2022-08-16 09:31:16,203]\u001b[0m Trial 286 finished with value: 8168.9375 and parameters: {'kErase': 2, 'kRadius': 4, 'kAnnealingA': 10.734753805985825, 'kAnnealingB': 0.25727272006399193, 'kAnnealingStart': 21.610554079123318, 'kSkipRatio': 0.3812371498918987, 'kTargetDeterminationTrials': 13, 'kAttractionRatio': 0.04878285016558253, 'kMaxAttractionDistance': 8, 'kStartAttraction': 0.06855029594109766}. Best is trial 121 with value: 8430.27840909091.\u001b[0m\n"
     ]
    },
    {
     "name": "stdout",
     "output_type": "stream",
     "text": [
      "index_parallel='0288'\n"
     ]
    },
    {
     "name": "stderr",
     "output_type": "stream",
     "text": [
      "\u001b[32m[I 2022-08-16 09:34:44,717]\u001b[0m Trial 288 finished with value: 8277.147727272728 and parameters: {'kErase': 2, 'kRadius': 4, 'kAnnealingA': 14.43331279474925, 'kAnnealingB': 0.13036919395819846, 'kAnnealingStart': 26.22901862484653, 'kSkipRatio': 0.7791317629790792, 'kTargetDeterminationTrials': 15, 'kAttractionRatio': 0.05839556857319227, 'kMaxAttractionDistance': 6, 'kStartAttraction': 0.17470969679283027}. Best is trial 121 with value: 8430.27840909091.\u001b[0m\n"
     ]
    },
    {
     "name": "stdout",
     "output_type": "stream",
     "text": [
      "index_parallel='0290'\n"
     ]
    },
    {
     "name": "stderr",
     "output_type": "stream",
     "text": [
      "\u001b[32m[I 2022-08-16 09:38:13,546]\u001b[0m Trial 290 finished with value: 8288.602272727272 and parameters: {'kErase': 3, 'kRadius': 4, 'kAnnealingA': 11.7839472430506, 'kAnnealingB': 0.3748249949752683, 'kAnnealingStart': 24.296832523293478, 'kSkipRatio': 0.7332291547260251, 'kTargetDeterminationTrials': 19, 'kAttractionRatio': 0.037132900105150406, 'kMaxAttractionDistance': 9, 'kStartAttraction': 0.10426782041095414}. Best is trial 121 with value: 8430.27840909091.\u001b[0m\n"
     ]
    },
    {
     "name": "stdout",
     "output_type": "stream",
     "text": [
      "index_parallel='0292'\n"
     ]
    },
    {
     "name": "stderr",
     "output_type": "stream",
     "text": [
      "\u001b[32m[I 2022-08-16 09:41:41,908]\u001b[0m Trial 292 finished with value: 8334.5625 and parameters: {'kErase': 2, 'kRadius': 4, 'kAnnealingA': 13.61693379946722, 'kAnnealingB': 0.3069204697873932, 'kAnnealingStart': 29.5162414483138, 'kSkipRatio': 0.7183004334067502, 'kTargetDeterminationTrials': 12, 'kAttractionRatio': 0.07865498664720606, 'kMaxAttractionDistance': 7, 'kStartAttraction': 0.09297021659281435}. Best is trial 121 with value: 8430.27840909091.\u001b[0m\n"
     ]
    },
    {
     "name": "stdout",
     "output_type": "stream",
     "text": [
      "index_parallel='0294'\n"
     ]
    },
    {
     "name": "stderr",
     "output_type": "stream",
     "text": [
      "\u001b[32m[I 2022-08-16 09:45:11,229]\u001b[0m Trial 294 finished with value: 7997.744318181818 and parameters: {'kErase': 5, 'kRadius': 4, 'kAnnealingA': 12.644425871838191, 'kAnnealingB': 0.18932596640333935, 'kAnnealingStart': 21.02186903984857, 'kSkipRatio': 0.7568763021686274, 'kTargetDeterminationTrials': 13, 'kAttractionRatio': 0.0702797980674445, 'kMaxAttractionDistance': 8, 'kStartAttraction': 0.07217303092580994}. Best is trial 121 with value: 8430.27840909091.\u001b[0m\n"
     ]
    },
    {
     "name": "stdout",
     "output_type": "stream",
     "text": [
      "index_parallel='0296'\n"
     ]
    },
    {
     "name": "stderr",
     "output_type": "stream",
     "text": [
      "\u001b[32m[I 2022-08-16 09:48:39,744]\u001b[0m Trial 296 finished with value: 8100.221590909091 and parameters: {'kErase': 2, 'kRadius': 4, 'kAnnealingA': -3.962037842586806, 'kAnnealingB': 0.26507040890122857, 'kAnnealingStart': 81.56382253735596, 'kSkipRatio': 0.7678250048054448, 'kTargetDeterminationTrials': 17, 'kAttractionRatio': 0.0422048795806312, 'kMaxAttractionDistance': 8, 'kStartAttraction': 0.12788746401781137}. Best is trial 121 with value: 8430.27840909091.\u001b[0m\n"
     ]
    },
    {
     "name": "stdout",
     "output_type": "stream",
     "text": [
      "index_parallel='0298'\n"
     ]
    },
    {
     "name": "stderr",
     "output_type": "stream",
     "text": [
      "\u001b[32m[I 2022-08-16 09:52:07,723]\u001b[0m Trial 298 finished with value: 8324.045454545454 and parameters: {'kErase': 2, 'kRadius': 4, 'kAnnealingA': 11.306677634999973, 'kAnnealingB': 0.47353736514764877, 'kAnnealingStart': 23.06638396675786, 'kSkipRatio': 0.7450005901256198, 'kTargetDeterminationTrials': 20, 'kAttractionRatio': 0.05209874150821567, 'kMaxAttractionDistance': 9, 'kStartAttraction': 0.09207395369711266}. Best is trial 121 with value: 8430.27840909091.\u001b[0m\n"
     ]
    },
    {
     "name": "stdout",
     "output_type": "stream",
     "text": [
      "index_parallel='0300'\n"
     ]
    },
    {
     "name": "stderr",
     "output_type": "stream",
     "text": [
      "\u001b[32m[I 2022-08-16 09:55:35,931]\u001b[0m Trial 300 finished with value: 8271.420454545454 and parameters: {'kErase': 2, 'kRadius': 4, 'kAnnealingA': 14.306866801603478, 'kAnnealingB': 0.3201541502368676, 'kAnnealingStart': 17.8868952765356, 'kSkipRatio': 0.7466155062357434, 'kTargetDeterminationTrials': 15, 'kAttractionRatio': 0.08764587965568055, 'kMaxAttractionDistance': 7, 'kStartAttraction': 0.05402502602402181}. Best is trial 121 with value: 8430.27840909091.\u001b[0m\n"
     ]
    },
    {
     "name": "stdout",
     "output_type": "stream",
     "text": [
      "index_parallel='0302'\n"
     ]
    },
    {
     "name": "stderr",
     "output_type": "stream",
     "text": [
      "\u001b[32m[I 2022-08-16 09:59:03,769]\u001b[0m Trial 302 finished with value: 8270.886363636364 and parameters: {'kErase': 1, 'kRadius': 4, 'kAnnealingA': 4.512645696706937, 'kAnnealingB': 0.16895153028521828, 'kAnnealingStart': 27.889343564273872, 'kSkipRatio': 0.6997246859527778, 'kTargetDeterminationTrials': 18, 'kAttractionRatio': 0.062351174362334214, 'kMaxAttractionDistance': 10, 'kStartAttraction': 0.15182869186197934}. Best is trial 121 with value: 8430.27840909091.\u001b[0m\n"
     ]
    },
    {
     "name": "stdout",
     "output_type": "stream",
     "text": [
      "index_parallel='0304'\n"
     ]
    },
    {
     "name": "stderr",
     "output_type": "stream",
     "text": [
      "\u001b[32m[I 2022-08-16 10:02:32,553]\u001b[0m Trial 304 finished with value: 7985.130681818182 and parameters: {'kErase': 2, 'kRadius': 4, 'kAnnealingA': 13.274665843286616, 'kAnnealingB': 0.395231826737502, 'kAnnealingStart': 31.542428298632476, 'kSkipRatio': 0.727670693500716, 'kTargetDeterminationTrials': 16, 'kAttractionRatio': 0.04630990316446253, 'kMaxAttractionDistance': 42, 'kStartAttraction': 0.012928072234562419}. Best is trial 121 with value: 8430.27840909091.\u001b[0m\n"
     ]
    },
    {
     "name": "stdout",
     "output_type": "stream",
     "text": [
      "index_parallel='0306'\n"
     ]
    },
    {
     "name": "stderr",
     "output_type": "stream",
     "text": [
      "\u001b[32m[I 2022-08-16 10:06:00,945]\u001b[0m Trial 306 finished with value: 8155.568181818182 and parameters: {'kErase': 2, 'kRadius': 4, 'kAnnealingA': 3.118348034280899, 'kAnnealingB': 0.24794340809480578, 'kAnnealingStart': 20.125038761937528, 'kSkipRatio': 0.7786677170717591, 'kTargetDeterminationTrials': 14, 'kAttractionRatio': 0.1214746770072407, 'kMaxAttractionDistance': 8, 'kStartAttraction': 0.1149168581067019}. Best is trial 121 with value: 8430.27840909091.\u001b[0m\n"
     ]
    },
    {
     "name": "stdout",
     "output_type": "stream",
     "text": [
      "index_parallel='0308'\n"
     ]
    },
    {
     "name": "stderr",
     "output_type": "stream",
     "text": [
      "\u001b[32m[I 2022-08-16 10:09:29,445]\u001b[0m Trial 308 finished with value: 8319.4375 and parameters: {'kErase': 2, 'kRadius': 4, 'kAnnealingA': 12.899339757594618, 'kAnnealingB': 0.5568964830221288, 'kAnnealingStart': 22.051717448995028, 'kSkipRatio': 0.7643740834040569, 'kTargetDeterminationTrials': 16, 'kAttractionRatio': 0.04319974598346051, 'kMaxAttractionDistance': 9, 'kStartAttraction': 0.13197393923744513}. Best is trial 121 with value: 8430.27840909091.\u001b[0m\n"
     ]
    },
    {
     "name": "stdout",
     "output_type": "stream",
     "text": [
      "index_parallel='0310'\n"
     ]
    },
    {
     "name": "stderr",
     "output_type": "stream",
     "text": [
      "\u001b[32m[I 2022-08-16 10:12:57,950]\u001b[0m Trial 310 finished with value: 8297.607954545454 and parameters: {'kErase': 2, 'kRadius': 4, 'kAnnealingA': 13.660412645504788, 'kAnnealingB': 0.37371113881794754, 'kAnnealingStart': 23.357879790408152, 'kSkipRatio': 0.7571193813649814, 'kTargetDeterminationTrials': 17, 'kAttractionRatio': 0.04917418389856869, 'kMaxAttractionDistance': 8, 'kStartAttraction': 0.09786109450773428}. Best is trial 121 with value: 8430.27840909091.\u001b[0m\n"
     ]
    },
    {
     "name": "stdout",
     "output_type": "stream",
     "text": [
      "index_parallel='0312'\n"
     ]
    },
    {
     "name": "stderr",
     "output_type": "stream",
     "text": [
      "\u001b[32m[I 2022-08-16 10:16:26,018]\u001b[0m Trial 312 finished with value: 8170.5 and parameters: {'kErase': 2, 'kRadius': 4, 'kAnnealingA': -10.268178709879885, 'kAnnealingB': 0.1871998687996448, 'kAnnealingStart': 25.56866974138269, 'kSkipRatio': 0.7362877346714279, 'kTargetDeterminationTrials': 19, 'kAttractionRatio': 0.03909406266754043, 'kMaxAttractionDistance': 8, 'kStartAttraction': 0.1708059144464905}. Best is trial 121 with value: 8430.27840909091.\u001b[0m\n"
     ]
    },
    {
     "name": "stdout",
     "output_type": "stream",
     "text": [
      "index_parallel='0314'\n"
     ]
    },
    {
     "name": "stderr",
     "output_type": "stream",
     "text": [
      "\u001b[32m[I 2022-08-16 10:19:54,309]\u001b[0m Trial 314 finished with value: 8205.380681818182 and parameters: {'kErase': 2, 'kRadius': 4, 'kAnnealingA': 11.826457716084409, 'kAnnealingB': 0.3919900901934186, 'kAnnealingStart': 25.376415031442086, 'kSkipRatio': 0.716526953126145, 'kTargetDeterminationTrials': 15, 'kAttractionRatio': 0.6167794996519774, 'kMaxAttractionDistance': 9, 'kStartAttraction': 0.22457503846652907}. Best is trial 121 with value: 8430.27840909091.\u001b[0m\n"
     ]
    },
    {
     "name": "stdout",
     "output_type": "stream",
     "text": [
      "index_parallel='0316'\n"
     ]
    },
    {
     "name": "stderr",
     "output_type": "stream",
     "text": [
      "\u001b[32m[I 2022-08-16 10:23:22,817]\u001b[0m Trial 316 finished with value: 8366.051136363636 and parameters: {'kErase': 2, 'kRadius': 4, 'kAnnealingA': 10.972210390637844, 'kAnnealingB': 0.34760953192676314, 'kAnnealingStart': 20.50605874985616, 'kSkipRatio': 0.7734912678960808, 'kTargetDeterminationTrials': 16, 'kAttractionRatio': 0.04694981628305849, 'kMaxAttractionDistance': 8, 'kStartAttraction': 0.1621471026218126}. Best is trial 121 with value: 8430.27840909091.\u001b[0m\n"
     ]
    },
    {
     "name": "stdout",
     "output_type": "stream",
     "text": [
      "index_parallel='0318'\n"
     ]
    },
    {
     "name": "stderr",
     "output_type": "stream",
     "text": [
      "\u001b[32m[I 2022-08-16 10:26:51,292]\u001b[0m Trial 318 finished with value: 8327.085227272728 and parameters: {'kErase': 2, 'kRadius': 4, 'kAnnealingA': 10.471428280143375, 'kAnnealingB': 2.009036293204195, 'kAnnealingStart': 19.021653695605174, 'kSkipRatio': 0.7690547121537998, 'kTargetDeterminationTrials': 14, 'kAttractionRatio': 0.046475654785036326, 'kMaxAttractionDistance': 10, 'kStartAttraction': 0.267876011240665}. Best is trial 121 with value: 8430.27840909091.\u001b[0m\n"
     ]
    },
    {
     "name": "stdout",
     "output_type": "stream",
     "text": [
      "index_parallel='0320'\n"
     ]
    },
    {
     "name": "stderr",
     "output_type": "stream",
     "text": [
      "\u001b[32m[I 2022-08-16 10:30:19,494]\u001b[0m Trial 320 finished with value: 8352.619318181818 and parameters: {'kErase': 2, 'kRadius': 4, 'kAnnealingA': 11.35369071704537, 'kAnnealingB': 0.49723256629533863, 'kAnnealingStart': 16.58872404963716, 'kSkipRatio': 0.782889841148605, 'kTargetDeterminationTrials': 18, 'kAttractionRatio': 0.03542137998422509, 'kMaxAttractionDistance': 11, 'kStartAttraction': 0.27378677296611964}. Best is trial 121 with value: 8430.27840909091.\u001b[0m\n"
     ]
    },
    {
     "name": "stdout",
     "output_type": "stream",
     "text": [
      "index_parallel='0322'\n"
     ]
    },
    {
     "name": "stderr",
     "output_type": "stream",
     "text": [
      "\u001b[32m[I 2022-08-16 10:33:48,057]\u001b[0m Trial 322 finished with value: 7962.164772727273 and parameters: {'kErase': 2, 'kRadius': 4, 'kAnnealingA': 12.315757136570433, 'kAnnealingB': 0.4332764613367506, 'kAnnealingStart': 21.442484190560343, 'kSkipRatio': 0.34015243906750764, 'kTargetDeterminationTrials': 15, 'kAttractionRatio': 0.05190677557048484, 'kMaxAttractionDistance': 9, 'kStartAttraction': 0.22426135759316485}. Best is trial 121 with value: 8430.27840909091.\u001b[0m\n"
     ]
    },
    {
     "name": "stdout",
     "output_type": "stream",
     "text": [
      "index_parallel='0324'\n"
     ]
    },
    {
     "name": "stderr",
     "output_type": "stream",
     "text": [
      "\u001b[32m[I 2022-08-16 10:37:16,212]\u001b[0m Trial 324 finished with value: 8344.102272727272 and parameters: {'kErase': 2, 'kRadius': 4, 'kAnnealingA': 11.395854944851811, 'kAnnealingB': 0.3298462893744543, 'kAnnealingStart': 27.36669625310396, 'kSkipRatio': 0.7889899344660363, 'kTargetDeterminationTrials': 20, 'kAttractionRatio': 0.11439784139160322, 'kMaxAttractionDistance': 9, 'kStartAttraction': 0.31960596122482776}. Best is trial 121 with value: 8430.27840909091.\u001b[0m\n"
     ]
    },
    {
     "name": "stdout",
     "output_type": "stream",
     "text": [
      "index_parallel='0326'\n"
     ]
    },
    {
     "name": "stderr",
     "output_type": "stream",
     "text": [
      "\u001b[32m[I 2022-08-16 10:40:44,483]\u001b[0m Trial 326 finished with value: 8311.397727272728 and parameters: {'kErase': 2, 'kRadius': 4, 'kAnnealingA': 10.874892445760706, 'kAnnealingB': 0.10507159276026287, 'kAnnealingStart': 23.92743780997975, 'kSkipRatio': 0.7757697586903294, 'kTargetDeterminationTrials': 17, 'kAttractionRatio': 0.04295298813698064, 'kMaxAttractionDistance': 10, 'kStartAttraction': 0.1998040014815335}. Best is trial 121 with value: 8430.27840909091.\u001b[0m\n"
     ]
    },
    {
     "name": "stdout",
     "output_type": "stream",
     "text": [
      "index_parallel='0328'\n"
     ]
    },
    {
     "name": "stderr",
     "output_type": "stream",
     "text": [
      "\u001b[32m[I 2022-08-16 10:44:13,347]\u001b[0m Trial 328 finished with value: 8308.602272727272 and parameters: {'kErase': 2, 'kRadius': 4, 'kAnnealingA': 10.119653331937887, 'kAnnealingB': 0.22017497665947353, 'kAnnealingStart': 24.055421503248272, 'kSkipRatio': 0.7556766048997998, 'kTargetDeterminationTrials': 19, 'kAttractionRatio': 0.05605657543838652, 'kMaxAttractionDistance': 8, 'kStartAttraction': 0.1722927006839364}. Best is trial 121 with value: 8430.27840909091.\u001b[0m\n"
     ]
    },
    {
     "name": "stdout",
     "output_type": "stream",
     "text": [
      "index_parallel='0330'\n"
     ]
    },
    {
     "name": "stderr",
     "output_type": "stream",
     "text": [
      "\u001b[32m[I 2022-08-16 10:47:41,739]\u001b[0m Trial 330 finished with value: 8292.84090909091 and parameters: {'kErase': 2, 'kRadius': 4, 'kAnnealingA': 12.114223381385818, 'kAnnealingB': 0.15008504767143757, 'kAnnealingStart': 21.568552755418214, 'kSkipRatio': 0.7691256091270475, 'kTargetDeterminationTrials': 18, 'kAttractionRatio': 0.048066679385166906, 'kMaxAttractionDistance': 14, 'kStartAttraction': 0.036639938455032606}. Best is trial 121 with value: 8430.27840909091.\u001b[0m\n"
     ]
    },
    {
     "name": "stdout",
     "output_type": "stream",
     "text": [
      "index_parallel='0332'\n"
     ]
    },
    {
     "name": "stderr",
     "output_type": "stream",
     "text": [
      "\u001b[32m[I 2022-08-16 10:51:10,099]\u001b[0m Trial 332 finished with value: 6626.630681818182 and parameters: {'kErase': 2, 'kRadius': 4, 'kAnnealingA': 13.580813172709304, 'kAnnealingB': 0.3609506761589307, 'kAnnealingStart': 31.620709823829984, 'kSkipRatio': 0.23379802721685777, 'kTargetDeterminationTrials': 16, 'kAttractionRatio': 0.036152192172904454, 'kMaxAttractionDistance': 9, 'kStartAttraction': 0.1535878195790022}. Best is trial 121 with value: 8430.27840909091.\u001b[0m\n"
     ]
    },
    {
     "name": "stdout",
     "output_type": "stream",
     "text": [
      "index_parallel='0334'\n"
     ]
    },
    {
     "name": "stderr",
     "output_type": "stream",
     "text": [
      "\u001b[32m[I 2022-08-16 10:54:38,241]\u001b[0m Trial 334 finished with value: 8315.65340909091 and parameters: {'kErase': 2, 'kRadius': 4, 'kAnnealingA': 13.244928634271279, 'kAnnealingB': 0.2798085660832407, 'kAnnealingStart': 25.653853182209293, 'kSkipRatio': 0.7442653893594022, 'kTargetDeterminationTrials': 17, 'kAttractionRatio': 0.039871206750566615, 'kMaxAttractionDistance': 8, 'kStartAttraction': 0.29372743684246366}. Best is trial 121 with value: 8430.27840909091.\u001b[0m\n"
     ]
    },
    {
     "name": "stdout",
     "output_type": "stream",
     "text": [
      "index_parallel='0336'\n"
     ]
    },
    {
     "name": "stderr",
     "output_type": "stream",
     "text": [
      "\u001b[32m[I 2022-08-16 10:58:06,467]\u001b[0m Trial 336 finished with value: 8291.329545454546 and parameters: {'kErase': 2, 'kRadius': 4, 'kAnnealingA': 10.942089140119396, 'kAnnealingB': 0.16727617105748274, 'kAnnealingStart': 17.677206527927353, 'kSkipRatio': 0.7842300846547519, 'kTargetDeterminationTrials': 13, 'kAttractionRatio': 0.05647914157516873, 'kMaxAttractionDistance': 11, 'kStartAttraction': 0.2433028773173884}. Best is trial 121 with value: 8430.27840909091.\u001b[0m\n"
     ]
    },
    {
     "name": "stdout",
     "output_type": "stream",
     "text": [
      "index_parallel='0338'\n"
     ]
    },
    {
     "name": "stderr",
     "output_type": "stream",
     "text": [
      "\u001b[32m[I 2022-08-16 11:01:35,146]\u001b[0m Trial 338 finished with value: 7970.721590909091 and parameters: {'kErase': 4, 'kRadius': 4, 'kAnnealingA': 13.864208678085266, 'kAnnealingB': 0.0009061109479241436, 'kAnnealingStart': 28.266970199934228, 'kSkipRatio': 0.6044087018111342, 'kTargetDeterminationTrials': 15, 'kAttractionRatio': 0.05231961743603398, 'kMaxAttractionDistance': 8, 'kStartAttraction': 0.10692690437787378}. Best is trial 121 with value: 8430.27840909091.\u001b[0m\n"
     ]
    },
    {
     "name": "stdout",
     "output_type": "stream",
     "text": [
      "index_parallel='0340'\n"
     ]
    },
    {
     "name": "stderr",
     "output_type": "stream",
     "text": [
      "\u001b[32m[I 2022-08-16 11:05:03,285]\u001b[0m Trial 340 finished with value: 8168.556818181818 and parameters: {'kErase': 2, 'kRadius': 4, 'kAnnealingA': 11.800123701226608, 'kAnnealingB': 0.4205471551775255, 'kAnnealingStart': 37.13204252032247, 'kSkipRatio': 0.7997010081632262, 'kTargetDeterminationTrials': 19, 'kAttractionRatio': 0.0501450482602417, 'kMaxAttractionDistance': 10, 'kStartAttraction': 0.08025036254280002}. Best is trial 121 with value: 8430.27840909091.\u001b[0m\n"
     ]
    },
    {
     "name": "stdout",
     "output_type": "stream",
     "text": [
      "index_parallel='0342'\n"
     ]
    },
    {
     "name": "stderr",
     "output_type": "stream",
     "text": [
      "\u001b[32m[I 2022-08-16 11:08:31,744]\u001b[0m Trial 342 finished with value: 8369.568181818182 and parameters: {'kErase': 2, 'kRadius': 4, 'kAnnealingA': 12.722051076349414, 'kAnnealingB': 0.24472886914093506, 'kAnnealingStart': 22.567188296657147, 'kSkipRatio': 0.7410430764211663, 'kTargetDeterminationTrials': 18, 'kAttractionRatio': 0.10386449737350668, 'kMaxAttractionDistance': 7, 'kStartAttraction': 0.1162610213640157}. Best is trial 121 with value: 8430.27840909091.\u001b[0m\n"
     ]
    },
    {
     "name": "stdout",
     "output_type": "stream",
     "text": [
      "index_parallel='0344'\n"
     ]
    },
    {
     "name": "stderr",
     "output_type": "stream",
     "text": [
      "\u001b[32m[I 2022-08-16 11:12:00,583]\u001b[0m Trial 344 finished with value: 7997.153409090909 and parameters: {'kErase': 2, 'kRadius': 4, 'kAnnealingA': 13.848985355310058, 'kAnnealingB': 0.33083432364927756, 'kAnnealingStart': 19.628032274847925, 'kSkipRatio': 0.3108009982878709, 'kTargetDeterminationTrials': 20, 'kAttractionRatio': 0.0627895720353268, 'kMaxAttractionDistance': 9, 'kStartAttraction': 0.14321178290363426}. Best is trial 121 with value: 8430.27840909091.\u001b[0m\n"
     ]
    },
    {
     "name": "stdout",
     "output_type": "stream",
     "text": [
      "index_parallel='0346'\n"
     ]
    },
    {
     "name": "stderr",
     "output_type": "stream",
     "text": [
      "\u001b[32m[I 2022-08-16 11:15:28,808]\u001b[0m Trial 346 finished with value: 8327.71590909091 and parameters: {'kErase': 2, 'kRadius': 4, 'kAnnealingA': 12.678768287818954, 'kAnnealingB': 1.4969236444013494, 'kAnnealingStart': 20.036760895100088, 'kSkipRatio': 0.7768152498575184, 'kTargetDeterminationTrials': 20, 'kAttractionRatio': 0.07753776496068529, 'kMaxAttractionDistance': 9, 'kStartAttraction': 0.12317573318644745}. Best is trial 121 with value: 8430.27840909091.\u001b[0m\n"
     ]
    },
    {
     "name": "stdout",
     "output_type": "stream",
     "text": [
      "index_parallel='0348'\n"
     ]
    },
    {
     "name": "stderr",
     "output_type": "stream",
     "text": [
      "\u001b[32m[I 2022-08-16 11:18:56,850]\u001b[0m Trial 348 finished with value: 8212.181818181818 and parameters: {'kErase': 2, 'kRadius': 4, 'kAnnealingA': 12.825459591475052, 'kAnnealingB': 0.584119408664302, 'kAnnealingStart': 24.241346602822436, 'kSkipRatio': 0.7718311823501498, 'kTargetDeterminationTrials': 17, 'kAttractionRatio': 0.058896621588098025, 'kMaxAttractionDistance': 29, 'kStartAttraction': 0.044844864391303745}. Best is trial 121 with value: 8430.27840909091.\u001b[0m\n"
     ]
    },
    {
     "name": "stdout",
     "output_type": "stream",
     "text": [
      "index_parallel='0350'\n"
     ]
    },
    {
     "name": "stderr",
     "output_type": "stream",
     "text": [
      "\u001b[32m[I 2022-08-16 11:22:25,118]\u001b[0m Trial 350 finished with value: 8090.767045454545 and parameters: {'kErase': 2, 'kRadius': 4, 'kAnnealingA': -6.809702513671658, 'kAnnealingB': 0.2773585361452552, 'kAnnealingStart': 15.802198609674067, 'kSkipRatio': 0.7614625535650331, 'kTargetDeterminationTrials': 16, 'kAttractionRatio': 0.04514328950555417, 'kMaxAttractionDistance': 10, 'kStartAttraction': 0.09461625015908796}. Best is trial 121 with value: 8430.27840909091.\u001b[0m\n"
     ]
    },
    {
     "name": "stdout",
     "output_type": "stream",
     "text": [
      "index_parallel='0352'\n"
     ]
    },
    {
     "name": "stderr",
     "output_type": "stream",
     "text": [
      "\u001b[32m[I 2022-08-16 11:25:53,535]\u001b[0m Trial 352 finished with value: 8308.125 and parameters: {'kErase': 2, 'kRadius': 4, 'kAnnealingA': 14.332565819722728, 'kAnnealingB': 0.38227422369128533, 'kAnnealingStart': 18.49103803941587, 'kSkipRatio': 0.7330670557874776, 'kTargetDeterminationTrials': 18, 'kAttractionRatio': 0.07010488955786336, 'kMaxAttractionDistance': 8, 'kStartAttraction': 0.18613826404861503}. Best is trial 121 with value: 8430.27840909091.\u001b[0m\n"
     ]
    },
    {
     "name": "stdout",
     "output_type": "stream",
     "text": [
      "index_parallel='0354'\n"
     ]
    },
    {
     "name": "stderr",
     "output_type": "stream",
     "text": [
      "\u001b[32m[I 2022-08-16 11:29:21,826]\u001b[0m Trial 354 finished with value: 8335.920454545454 and parameters: {'kErase': 2, 'kRadius': 4, 'kAnnealingA': 12.078044761612356, 'kAnnealingB': 0.4907210025606694, 'kAnnealingStart': 18.35819346537581, 'kSkipRatio': 0.7876291555198467, 'kTargetDeterminationTrials': 19, 'kAttractionRatio': 0.06468309138538274, 'kMaxAttractionDistance': 11, 'kStartAttraction': 0.09926564357576903}. Best is trial 121 with value: 8430.27840909091.\u001b[0m\n"
     ]
    },
    {
     "name": "stdout",
     "output_type": "stream",
     "text": [
      "index_parallel='0356'\n"
     ]
    },
    {
     "name": "stderr",
     "output_type": "stream",
     "text": [
      "\u001b[32m[I 2022-08-16 11:32:49,921]\u001b[0m Trial 356 finished with value: 8388.068181818182 and parameters: {'kErase': 2, 'kRadius': 4, 'kAnnealingA': 11.490541114701298, 'kAnnealingB': 0.517211030371129, 'kAnnealingStart': 16.26518050836245, 'kSkipRatio': 0.7607375490601198, 'kTargetDeterminationTrials': 20, 'kAttractionRatio': 0.08157376238621174, 'kMaxAttractionDistance': 10, 'kStartAttraction': 0.362571725181825}. Best is trial 121 with value: 8430.27840909091.\u001b[0m\n"
     ]
    },
    {
     "name": "stdout",
     "output_type": "stream",
     "text": [
      "index_parallel='0358'\n"
     ]
    },
    {
     "name": "stderr",
     "output_type": "stream",
     "text": [
      "\u001b[32m[I 2022-08-16 11:36:17,753]\u001b[0m Trial 358 finished with value: 8331.119318181818 and parameters: {'kErase': 2, 'kRadius': 4, 'kAnnealingA': 11.562064038671403, 'kAnnealingB': 0.6524571963512202, 'kAnnealingStart': 14.175055429022366, 'kSkipRatio': 0.7489002435060865, 'kTargetDeterminationTrials': 18, 'kAttractionRatio': 0.08436148967423271, 'kMaxAttractionDistance': 14, 'kStartAttraction': 0.21056281200283405}. Best is trial 121 with value: 8430.27840909091.\u001b[0m\n"
     ]
    },
    {
     "name": "stdout",
     "output_type": "stream",
     "text": [
      "index_parallel='0360'\n"
     ]
    },
    {
     "name": "stderr",
     "output_type": "stream",
     "text": [
      "\u001b[32m[I 2022-08-16 11:39:45,835]\u001b[0m Trial 360 finished with value: 8309.988636363636 and parameters: {'kErase': 2, 'kRadius': 4, 'kAnnealingA': 11.31952241050906, 'kAnnealingB': 0.5544199430185205, 'kAnnealingStart': 12.732937415293266, 'kSkipRatio': 0.7633335052939603, 'kTargetDeterminationTrials': 18, 'kAttractionRatio': 0.0741257386651766, 'kMaxAttractionDistance': 11, 'kStartAttraction': 0.3786077110300126}. Best is trial 121 with value: 8430.27840909091.\u001b[0m\n"
     ]
    },
    {
     "name": "stdout",
     "output_type": "stream",
     "text": [
      "index_parallel='0362'\n"
     ]
    }
   ],
   "source": [
    "study.optimize(\n",
    "    partial(objective, in_dir=in_dir, work_dir=work_dir),\n",
    "    n_trials=3000,\n",
    "    timeout=86400,\n",
    "    callbacks=[callback]\n",
    ")"
   ]
  },
  {
   "cell_type": "code",
   "execution_count": null,
   "id": "700269d2",
   "metadata": {},
   "outputs": [],
   "source": []
  }
 ],
 "metadata": {
  "kernelspec": {
   "display_name": "Python 3 (ipykernel)",
   "language": "python",
   "name": "python3"
  },
  "language_info": {
   "codemirror_mode": {
    "name": "ipython",
    "version": 3
   },
   "file_extension": ".py",
   "mimetype": "text/x-python",
   "name": "python",
   "nbconvert_exporter": "python",
   "pygments_lexer": "ipython3",
   "version": "3.9.12"
  }
 },
 "nbformat": 4,
 "nbformat_minor": 5
}
