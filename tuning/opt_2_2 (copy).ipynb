{
 "cells": [
  {
   "cell_type": "code",
   "execution_count": 1,
   "id": "25a1dac8",
   "metadata": {},
   "outputs": [],
   "source": [
    "import re\n",
    "import sys\n",
    "from uuid import uuid1\n",
    "from time import sleep\n",
    "from pprint import pprint\n",
    "from pathlib import Path\n",
    "from tempfile import gettempdir\n",
    "from threading import Thread\n",
    "from functools import partial\n",
    "from subprocess import Popen, PIPE\n",
    "\n",
    "from tqdm.notebook import tqdm\n",
    "import numpy as np\n",
    "import optuna\n",
    "import pandas as pd\n",
    "import matplotlib.pyplot as plt\n",
    "\n",
    "FILENAME = \"main.cpp\""
   ]
  },
  {
   "cell_type": "code",
   "execution_count": 2,
   "id": "3dd4d02e",
   "metadata": {},
   "outputs": [
    {
     "name": "stdout",
     "output_type": "stream",
     "text": [
      "10 variables were found.\n"
     ]
    },
    {
     "data": {
      "text/html": [
       "<div>\n",
       "<style scoped>\n",
       "    .dataframe tbody tr th:only-of-type {\n",
       "        vertical-align: middle;\n",
       "    }\n",
       "\n",
       "    .dataframe tbody tr th {\n",
       "        vertical-align: top;\n",
       "    }\n",
       "\n",
       "    .dataframe thead th {\n",
       "        text-align: right;\n",
       "    }\n",
       "</style>\n",
       "<table border=\"1\" class=\"dataframe\">\n",
       "  <thead>\n",
       "    <tr style=\"text-align: right;\">\n",
       "      <th></th>\n",
       "      <th>name</th>\n",
       "      <th>method</th>\n",
       "      <th>min</th>\n",
       "      <th>max</th>\n",
       "      <th>log</th>\n",
       "      <th>left</th>\n",
       "      <th>right</th>\n",
       "    </tr>\n",
       "  </thead>\n",
       "  <tbody>\n",
       "    <tr>\n",
       "      <th>0</th>\n",
       "      <td>kErase</td>\n",
       "      <td>suggest_int</td>\n",
       "      <td>1.000</td>\n",
       "      <td>5.0</td>\n",
       "      <td>False</td>\n",
       "      <td>static constexpr auto kErase =</td>\n",
       "      <td>;             // OPTIMIZE [1, 5]</td>\n",
       "    </tr>\n",
       "    <tr>\n",
       "      <th>1</th>\n",
       "      <td>kRadius</td>\n",
       "      <td>suggest_int</td>\n",
       "      <td>2.000</td>\n",
       "      <td>6.0</td>\n",
       "      <td>False</td>\n",
       "      <td>static constexpr auto kRadius =</td>\n",
       "      <td>;            // OPTIMIZE [2, 6]</td>\n",
       "    </tr>\n",
       "    <tr>\n",
       "      <th>2</th>\n",
       "      <td>kAnnealingA</td>\n",
       "      <td>suggest_float</td>\n",
       "      <td>-15.000</td>\n",
       "      <td>15.0</td>\n",
       "      <td>False</td>\n",
       "      <td>static constexpr auto kAnnealingA =</td>\n",
       "      <td>;      // OPTIMIZE [-15.0, 15.0]</td>\n",
       "    </tr>\n",
       "    <tr>\n",
       "      <th>3</th>\n",
       "      <td>kAnnealingB</td>\n",
       "      <td>suggest_float</td>\n",
       "      <td>0.000</td>\n",
       "      <td>3.0</td>\n",
       "      <td>False</td>\n",
       "      <td>static constexpr auto kAnnealingB =</td>\n",
       "      <td>;      // OPTIMIZE [0.0, 3.0]</td>\n",
       "    </tr>\n",
       "    <tr>\n",
       "      <th>4</th>\n",
       "      <td>kAnnealingStart</td>\n",
       "      <td>suggest_float</td>\n",
       "      <td>1.000</td>\n",
       "      <td>100.0</td>\n",
       "      <td>True</td>\n",
       "      <td>static constexpr auto kAnnealingStart =</td>\n",
       "      <td>; // OPTIMIZE LOG [1.0, 100.0]</td>\n",
       "    </tr>\n",
       "    <tr>\n",
       "      <th>5</th>\n",
       "      <td>kSkipRatio</td>\n",
       "      <td>suggest_float</td>\n",
       "      <td>0.200</td>\n",
       "      <td>0.8</td>\n",
       "      <td>False</td>\n",
       "      <td>static constexpr auto kSkipRatio =</td>\n",
       "      <td>;       // OPTIMIZE [0.2, 0.8]</td>\n",
       "    </tr>\n",
       "    <tr>\n",
       "      <th>6</th>\n",
       "      <td>kTargetDeterminationTrials</td>\n",
       "      <td>suggest_int</td>\n",
       "      <td>1.000</td>\n",
       "      <td>20.0</td>\n",
       "      <td>True</td>\n",
       "      <td>static constexpr auto kTargetDeterminationTria...</td>\n",
       "      <td>; // OPTIMIZE LOG [1, 20]</td>\n",
       "    </tr>\n",
       "    <tr>\n",
       "      <th>7</th>\n",
       "      <td>kAttractionRatio</td>\n",
       "      <td>suggest_float</td>\n",
       "      <td>0.010</td>\n",
       "      <td>0.9</td>\n",
       "      <td>True</td>\n",
       "      <td>static constexpr auto kAttractionRatio =</td>\n",
       "      <td>;      // OPTIMIZE LOG [0.01, 0.9]</td>\n",
       "    </tr>\n",
       "    <tr>\n",
       "      <th>8</th>\n",
       "      <td>kMaxAttractionDistance</td>\n",
       "      <td>suggest_int</td>\n",
       "      <td>4.000</td>\n",
       "      <td>99.0</td>\n",
       "      <td>True</td>\n",
       "      <td>static constexpr auto kMaxAttractionDistance =</td>\n",
       "      <td>; // OPTIMIZE LOG [4, 99]</td>\n",
       "    </tr>\n",
       "    <tr>\n",
       "      <th>9</th>\n",
       "      <td>kStartAttraction</td>\n",
       "      <td>suggest_float</td>\n",
       "      <td>0.001</td>\n",
       "      <td>0.9</td>\n",
       "      <td>True</td>\n",
       "      <td>static constexpr auto kStartAttraction =</td>\n",
       "      <td>;     // OPTIMIZE LOG [0.001, 0.9]</td>\n",
       "    </tr>\n",
       "  </tbody>\n",
       "</table>\n",
       "</div>"
      ],
      "text/plain": [
       "                         name         method     min    max    log  \\\n",
       "0                      kErase    suggest_int   1.000    5.0  False   \n",
       "1                     kRadius    suggest_int   2.000    6.0  False   \n",
       "2                 kAnnealingA  suggest_float -15.000   15.0  False   \n",
       "3                 kAnnealingB  suggest_float   0.000    3.0  False   \n",
       "4             kAnnealingStart  suggest_float   1.000  100.0   True   \n",
       "5                  kSkipRatio  suggest_float   0.200    0.8  False   \n",
       "6  kTargetDeterminationTrials    suggest_int   1.000   20.0   True   \n",
       "7            kAttractionRatio  suggest_float   0.010    0.9   True   \n",
       "8      kMaxAttractionDistance    suggest_int   4.000   99.0   True   \n",
       "9            kStartAttraction  suggest_float   0.001    0.9   True   \n",
       "\n",
       "                                                left  \\\n",
       "0                    static constexpr auto kErase =    \n",
       "1                   static constexpr auto kRadius =    \n",
       "2               static constexpr auto kAnnealingA =    \n",
       "3               static constexpr auto kAnnealingB =    \n",
       "4           static constexpr auto kAnnealingStart =    \n",
       "5                static constexpr auto kSkipRatio =    \n",
       "6  static constexpr auto kTargetDeterminationTria...   \n",
       "7          static constexpr auto kAttractionRatio =    \n",
       "8    static constexpr auto kMaxAttractionDistance =    \n",
       "9          static constexpr auto kStartAttraction =    \n",
       "\n",
       "                                right  \n",
       "0    ;             // OPTIMIZE [1, 5]  \n",
       "1     ;            // OPTIMIZE [2, 6]  \n",
       "2    ;      // OPTIMIZE [-15.0, 15.0]  \n",
       "3       ;      // OPTIMIZE [0.0, 3.0]  \n",
       "4      ; // OPTIMIZE LOG [1.0, 100.0]  \n",
       "5      ;       // OPTIMIZE [0.2, 0.8]  \n",
       "6           ; // OPTIMIZE LOG [1, 20]  \n",
       "7  ;      // OPTIMIZE LOG [0.01, 0.9]  \n",
       "8           ; // OPTIMIZE LOG [4, 99]  \n",
       "9  ;     // OPTIMIZE LOG [0.001, 0.9]  "
      ]
     },
     "metadata": {},
     "output_type": "display_data"
    }
   ],
   "source": [
    "# ここでエラー出力は何かおかしいかもしれない\n",
    "\n",
    "\n",
    "# パラメータ抽出\n",
    "with open(FILENAME) as f:\n",
    "    answer = f.read()\n",
    "\n",
    "\n",
    "variables_optimize = []\n",
    "\n",
    "for left, value, right, options in re.findall(r\"^([^/\\n]*=\\s*)(.+?)(\\s*;\\s*//(?:.*\\W)?OPTIMIZE(\\W.*))$\", answer, re.MULTILINE):\n",
    "    name = left.replace(\"=\", \"\").strip().split()[-1]\n",
    "    \n",
    "    searched = re.search(r\".*\\[(?P<min>.*),(?P<max>.*)\\].*\", options)\n",
    "    if searched:\n",
    "        min_value = max_value = None\n",
    "        try:\n",
    "            min_value = eval(searched.group(\"min\"))\n",
    "            max_value = eval(searched.group(\"max\"))\n",
    "            assert min_value <= max_value\n",
    "        except Exception as e:\n",
    "            print(f\"searched={searched}\", file=sys.stderr)\n",
    "            print(e, file=sys.stderr)\n",
    "            continue\n",
    "        log = \"LOG\" in options  # 雑、直したほうが良い\n",
    "        if type(min_value) != type(max_value):\n",
    "            print(f\"searched={searched}\", file=sys.stderr)\n",
    "            print(\"types not matched\", file=sys.stderr)\n",
    "            continue\n",
    "        if isinstance(min_value, int):\n",
    "            method = \"suggest_int\"\n",
    "        elif isinstance(min_value, float):\n",
    "            method = \"suggest_float\"\n",
    "        else:\n",
    "            print(f\"searched={searched}\", file=sys.stderr)\n",
    "            print(f\"unknown type ({type(min_value)})\", file=sys.stderr)\n",
    "            continue\n",
    "        variables_optimize.append({\n",
    "            \"name\": name,\n",
    "            \"method\": method,\n",
    "            \"min\": min_value,\n",
    "            \"max\": max_value,\n",
    "            \"log\": log,\n",
    "            \"left\": left,\n",
    "            \"right\": right,\n",
    "        })\n",
    "    elif searched := re.search(r\".*\\{(?P<choices>.*?)\\}.*\", options):\n",
    "        choices = list(map(lambda x: x.strip(), searched.group(\"choices\").split(\",\")))\n",
    "        variables_optimize.append({\n",
    "            \"name\": name,\n",
    "            \"method\": \"suggest_categorical\",\n",
    "            \"choices\": choices,\n",
    "            \"left\": left,\n",
    "            \"right\": right,\n",
    "        })\n",
    "    else:\n",
    "        print(f\"searched={searched}\", file=sys.stderr)\n",
    "        print(f\"pattern was matched but options are incorrect.\", file=sys.stderr)\n",
    "\n",
    "print(len(variables_optimize), \"variables were found.\")\n",
    "if globals().get(\"pd\"):\n",
    "    display(pd.DataFrame(variables_optimize))\n",
    "else:\n",
    "    pprint(variables_optimize)"
   ]
  },
  {
   "cell_type": "code",
   "execution_count": 3,
   "id": "001042b9",
   "metadata": {},
   "outputs": [],
   "source": [
    "def escape(string):  # 正規表現の中でそのまま使いたい文字列をエスケープ\n",
    "    res = !echo '{string}' | sed -e 's/[]\\/$*.^[]/\\\\&/g'\n",
    "    return res[0]\n",
    "\n",
    "def escape_sed(string):  # sed の置換後の文字列用のエスケープ\n",
    "    res = !echo '{string}' | sed -e 's/[\\/&]/\\\\&/g'\n",
    "    return res[0]\n",
    "\n",
    "def read_stream(name, in_file, out_file):\n",
    "    for line in in_file:\n",
    "        print(f\"[{name}] {line.strip()}\", file=out_file)\n",
    "\n",
    "def run(cmd, name):\n",
    "    proc = Popen(cmd, stdout=PIPE, stderr=PIPE, universal_newlines=True, shell=isinstance(cmd, str))\n",
    "    stdout_thread = Thread(target=read_stream, args=(name, proc.stdout, sys.stdout))\n",
    "    stderr_thread = Thread(target=read_stream, args=(name, proc.stderr, sys.stderr))\n",
    "    stdout_thread.start()\n",
    "    stderr_thread.start()\n",
    "    proc.wait()\n",
    "    return proc\n",
    "\n",
    "def objective(trial, in_dir, work_dir):\n",
    "    n_internal_parallel = 3\n",
    "    \n",
    "    index_parallel = f\"{trial.number:04d}\"\n",
    "    print(f\"{index_parallel=}\")\n",
    "    \n",
    "    work_dir = Path(work_dir)\n",
    "    directory_input = Path(in_dir)  # 中のすべてのファイルに対して実行される\n",
    "    #parameters_changed_filename = Path(gettempdir()) / str(uuid1())\n",
    "    parameters_changed_filename = work_dir / f\"{index_parallel}_{FILENAME}\"\n",
    "    \n",
    "    run([\"mkdir\", f\"{work_dir / index_parallel}_out\"], \"mkdir\")\n",
    "    run([\"mkdir\", f\"{work_dir / index_parallel}_score\"], \"mkdir\")\n",
    "    \n",
    "    # ファイル作成\n",
    "    run(f\"cp {FILENAME} {parameters_changed_filename}\", \"cp\")\n",
    "    sed_options = [f\"-i {parameters_changed_filename}\"]\n",
    "    for variable in variables_optimize:\n",
    "        if variable[\"method\"] == \"suggest_categorical\":\n",
    "            val =  trial.suggest_categorical(variable[\"name\"], variable[\"choices\"])\n",
    "        else:\n",
    "            val = getattr(trial, variable[\"method\"])(variable[\"name\"], variable[\"min\"], variable[\"max\"], log=variable[\"log\"])\n",
    "        left = variable[\"left\"]\n",
    "        right = variable[\"right\"]\n",
    "        sed_options.append(f\"\"\"-e 's/^{escape(left)}.*{escape(right)}$/{escape_sed(left)}{val}{escape_sed(right)}/'\"\"\")\n",
    "    command_sed = f\"sed {' '.join(sed_options)}\"\n",
    "    #print(command_sed)\n",
    "    run(command_sed, \"sed\")\n",
    "    \n",
    "    # コンパイル\n",
    "    command_compile = f\"g++ {parameters_changed_filename} -std=gnu++17 -O2 -DONLINE_JUDGE -o {parameters_changed_filename}.out\"\n",
    "    #print(command_compile)\n",
    "    run(command_compile, \"compile\")\n",
    "    # 実行・採点コマンド (@ はファイル名)\n",
    "    command_exec = (\n",
    "        #f\"./a.out < ./tools/in/{i:04d}.txt > {out_file} && ./tools/target/release/vis ./tools/in/{i:04d}.txt {out_file}\"\n",
    "        #f\"../tools/target/release/tester $(pwd)/{parameters_changed_filename}.out < {directory_input}/@ 2>&1 | grep Score\"\n",
    "        #f\"../tools/target/release/tester $(pwd)/{parameters_changed_filename}.out < {directory_input}/@ 2>&1 | grep Score | sed -E s/[^0-9]+// > ./{index_parallel}_score/@;\"\n",
    "        #f\"cargo run --release --manifest-path ../tools/Cargo.toml --bin tester {directory_input}/@ $(pwd)/{parameters_changed_filename}.out 2>&1 | grep Score | sed -E s/[^0-9]+// > ./{index_parallel}_score/@;\"\n",
    "        f\"./{parameters_changed_filename}.out < {directory_input}/@ > {work_dir / index_parallel}_out/@;\"\n",
    "        f\"../tools/target/release/vis {directory_input}/@ {work_dir / index_parallel}_out/@ 2> /dev/null > {work_dir / index_parallel}_score/@;\"\n",
    "    )\n",
    "    # 並列実行 (sed はパスのディレクトリ部分を消してファイル名にしてる)\n",
    "    run(f\"find {directory_input}/* | sed 's!^.*/!!' | xargs -I@ -P {n_internal_parallel} sh -c '{command_exec}'\", \"exec\")\n",
    "    \n",
    "    # 集計\n",
    "    scores = []\n",
    "    for file_path in Path(f\"{work_dir / index_parallel}_score/\").iterdir():  \n",
    "        with open(file_path) as f:\n",
    "            scores.append(int(f.readline().strip().split()[-1]))\n",
    "    mean_score = sum(scores) / len(scores)\n",
    "    \n",
    "    # 後始末\n",
    "    run(f\"rm -rf {work_dir / index_parallel}_out\", \"rm\")\n",
    "    run(f\"rm -rf {work_dir / index_parallel}_score\", \"rm\")\n",
    "    #run(f\"rm {parameters_changed_filename}\", \"rm\")\n",
    "    run(f\"rm {parameters_changed_filename}.out\", \"rm\")\n",
    "    \n",
    "    return mean_score"
   ]
  },
  {
   "cell_type": "code",
   "execution_count": 4,
   "id": "2d2e133c",
   "metadata": {},
   "outputs": [
    {
     "name": "stderr",
     "output_type": "stream",
     "text": [
      "\u001b[32m[I 2022-08-16 04:59:30,088]\u001b[0m Using an existing study with name 'study_2_2' instead of creating a new one.\u001b[0m\n"
     ]
    }
   ],
   "source": [
    "K = 2\n",
    "N_CLASS = 2\n",
    "\n",
    "in_dir = Path(f\"in_{K}_{N_CLASS}\")\n",
    "work_dir = Path(f\"work_{K}_{N_CLASS}\")\n",
    "\n",
    "study_name = f\"study_{K}_{N_CLASS}\"\n",
    "storage_path = work_dir / \"study.db\"\n",
    "storage = f\"sqlite:///{storage_path}\"\n",
    "study = optuna.create_study(storage=storage, load_if_exists=True, study_name=study_name, direction=\"maximize\")\n",
    "\n",
    "def callback(study, trial):\n",
    "    try:\n",
    "        index_parallel = f\"{trial.number:04d}\"\n",
    "        parameters_changed_filename = work_dir / f\"{index_parallel}_{FILENAME}\"\n",
    "        if study.best_value == trial.value:\n",
    "            print(f\"Updated! {study.best_value}\")\n",
    "            !cp {parameters_changed_filename} {work_dir / \"best_parameters.cpp\"}\n",
    "        !rm {parameters_changed_filename}\n",
    "    except:\n",
    "        print(\":(\")\n"
   ]
  },
  {
   "cell_type": "code",
   "execution_count": 5,
   "id": "61c2901d",
   "metadata": {},
   "outputs": [
    {
     "name": "stdout",
     "output_type": "stream",
     "text": [
      "index_parallel='0120'\n"
     ]
    },
    {
     "name": "stderr",
     "output_type": "stream",
     "text": [
      "\u001b[32m[I 2022-08-16 05:03:20,481]\u001b[0m Trial 120 finished with value: 6775.24 and parameters: {'kErase': 1, 'kRadius': 3, 'kAnnealingA': 14.954913397106306, 'kAnnealingB': 1.6941539771833856, 'kAnnealingStart': 22.259310764724056, 'kSkipRatio': 0.6595469459061415, 'kTargetDeterminationTrials': 15, 'kAttractionRatio': 0.016148395209516983, 'kMaxAttractionDistance': 77, 'kStartAttraction': 0.7973535826996905}. Best is trial 114 with value: 6858.58.\u001b[0m\n"
     ]
    },
    {
     "name": "stdout",
     "output_type": "stream",
     "text": [
      "index_parallel='0122'\n"
     ]
    },
    {
     "name": "stderr",
     "output_type": "stream",
     "text": [
      "\u001b[32m[I 2022-08-16 05:07:11,077]\u001b[0m Trial 122 finished with value: 6821.27 and parameters: {'kErase': 1, 'kRadius': 3, 'kAnnealingA': 7.861915676439926, 'kAnnealingB': 2.785804681539586, 'kAnnealingStart': 25.754058085128047, 'kSkipRatio': 0.6180628115659781, 'kTargetDeterminationTrials': 17, 'kAttractionRatio': 0.013951340079501688, 'kMaxAttractionDistance': 58, 'kStartAttraction': 0.611309158125403}. Best is trial 114 with value: 6858.58.\u001b[0m\n"
     ]
    },
    {
     "name": "stdout",
     "output_type": "stream",
     "text": [
      "index_parallel='0124'\n"
     ]
    },
    {
     "name": "stderr",
     "output_type": "stream",
     "text": [
      "\u001b[32m[I 2022-08-16 05:11:02,057]\u001b[0m Trial 124 finished with value: 6845.34 and parameters: {'kErase': 1, 'kRadius': 3, 'kAnnealingA': 5.903988956205493, 'kAnnealingB': 2.8141513780875176, 'kAnnealingStart': 25.59656295955843, 'kSkipRatio': 0.6188833532560958, 'kTargetDeterminationTrials': 17, 'kAttractionRatio': 0.02020245844710837, 'kMaxAttractionDistance': 50, 'kStartAttraction': 0.511103093675943}. Best is trial 123 with value: 6877.61.\u001b[0m\n"
     ]
    },
    {
     "name": "stdout",
     "output_type": "stream",
     "text": [
      "index_parallel='0126'\n"
     ]
    },
    {
     "name": "stderr",
     "output_type": "stream",
     "text": [
      "\u001b[32m[I 2022-08-16 05:14:53,405]\u001b[0m Trial 126 finished with value: 6571.175 and parameters: {'kErase': 1, 'kRadius': 3, 'kAnnealingA': 5.682844771007448, 'kAnnealingB': 2.7899026521792334, 'kAnnealingStart': 47.79440504350006, 'kSkipRatio': 0.6205681272449296, 'kTargetDeterminationTrials': 17, 'kAttractionRatio': 0.013095811934334307, 'kMaxAttractionDistance': 50, 'kStartAttraction': 0.4892763096806885}. Best is trial 123 with value: 6877.61.\u001b[0m\n"
     ]
    },
    {
     "name": "stdout",
     "output_type": "stream",
     "text": [
      "index_parallel='0128'\n"
     ]
    },
    {
     "name": "stderr",
     "output_type": "stream",
     "text": [
      "\u001b[32m[I 2022-08-16 05:18:44,256]\u001b[0m Trial 128 finished with value: 6801.845 and parameters: {'kErase': 1, 'kRadius': 3, 'kAnnealingA': 3.724463339223833, 'kAnnealingB': 2.739159883314906, 'kAnnealingStart': 38.74611344015436, 'kSkipRatio': 0.6636996157992336, 'kTargetDeterminationTrials': 18, 'kAttractionRatio': 0.010326687262596708, 'kMaxAttractionDistance': 65, 'kStartAttraction': 0.3699166680986161}. Best is trial 123 with value: 6877.61.\u001b[0m\n"
     ]
    },
    {
     "name": "stdout",
     "output_type": "stream",
     "text": [
      "index_parallel='0130'\n"
     ]
    },
    {
     "name": "stderr",
     "output_type": "stream",
     "text": [
      "\u001b[32m[I 2022-08-16 05:22:35,307]\u001b[0m Trial 130 finished with value: 6824.53 and parameters: {'kErase': 1, 'kRadius': 3, 'kAnnealingA': 4.3786358906087735, 'kAnnealingB': 2.8517060619486285, 'kAnnealingStart': 32.67257234642997, 'kSkipRatio': 0.6435802769982156, 'kTargetDeterminationTrials': 20, 'kAttractionRatio': 0.014364418988854282, 'kMaxAttractionDistance': 91, 'kStartAttraction': 0.3081898548264937}. Best is trial 123 with value: 6877.61.\u001b[0m\n"
     ]
    },
    {
     "name": "stdout",
     "output_type": "stream",
     "text": [
      "index_parallel='0132'\n"
     ]
    },
    {
     "name": "stderr",
     "output_type": "stream",
     "text": [
      "\u001b[32m[I 2022-08-16 05:26:26,121]\u001b[0m Trial 132 finished with value: 6812.285 and parameters: {'kErase': 1, 'kRadius': 3, 'kAnnealingA': 4.474824362240557, 'kAnnealingB': 2.864190833293548, 'kAnnealingStart': 28.210284055293027, 'kSkipRatio': 0.6407215474786607, 'kTargetDeterminationTrials': 16, 'kAttractionRatio': 0.01467080959148569, 'kMaxAttractionDistance': 95, 'kStartAttraction': 0.31237702925576943}. Best is trial 123 with value: 6877.61.\u001b[0m\n"
     ]
    },
    {
     "name": "stdout",
     "output_type": "stream",
     "text": [
      "index_parallel='0134'\n"
     ]
    },
    {
     "name": "stderr",
     "output_type": "stream",
     "text": [
      "\u001b[32m[I 2022-08-16 05:30:17,005]\u001b[0m Trial 134 finished with value: 6900.82 and parameters: {'kErase': 1, 'kRadius': 3, 'kAnnealingA': 2.057736650996228, 'kAnnealingB': 2.865664164876693, 'kAnnealingStart': 28.160281254410044, 'kSkipRatio': 0.6761919662358515, 'kTargetDeterminationTrials': 13, 'kAttractionRatio': 0.014722216827824281, 'kMaxAttractionDistance': 91, 'kStartAttraction': 0.296855806997009}. Best is trial 134 with value: 6900.82.\u001b[0m\n"
     ]
    },
    {
     "name": "stdout",
     "output_type": "stream",
     "text": [
      "Updated! 6900.82\n",
      "index_parallel='0136'\n"
     ]
    },
    {
     "name": "stderr",
     "output_type": "stream",
     "text": [
      "\u001b[32m[I 2022-08-16 05:34:08,046]\u001b[0m Trial 136 finished with value: 6864.285 and parameters: {'kErase': 1, 'kRadius': 3, 'kAnnealingA': 2.179338177821878, 'kAnnealingB': 2.923550184957607, 'kAnnealingStart': 33.07401907092268, 'kSkipRatio': 0.682556760444854, 'kTargetDeterminationTrials': 13, 'kAttractionRatio': 0.01157202392252406, 'kMaxAttractionDistance': 88, 'kStartAttraction': 0.23012452611844475}. Best is trial 134 with value: 6900.82.\u001b[0m\n"
     ]
    },
    {
     "name": "stdout",
     "output_type": "stream",
     "text": [
      "index_parallel='0138'\n"
     ]
    },
    {
     "name": "stderr",
     "output_type": "stream",
     "text": [
      "\u001b[32m[I 2022-08-16 05:37:59,079]\u001b[0m Trial 138 finished with value: 6820.125 and parameters: {'kErase': 1, 'kRadius': 3, 'kAnnealingA': 2.150646683471209, 'kAnnealingB': 2.9068876683046403, 'kAnnealingStart': 45.060930070709645, 'kSkipRatio': 0.7178573071209894, 'kTargetDeterminationTrials': 13, 'kAttractionRatio': 0.01286297640338072, 'kMaxAttractionDistance': 90, 'kStartAttraction': 0.21226811123050562}. Best is trial 134 with value: 6900.82.\u001b[0m\n"
     ]
    },
    {
     "name": "stdout",
     "output_type": "stream",
     "text": [
      "index_parallel='0140'\n"
     ]
    },
    {
     "name": "stderr",
     "output_type": "stream",
     "text": [
      "\u001b[32m[I 2022-08-16 05:41:50,181]\u001b[0m Trial 140 finished with value: 6852.925 and parameters: {'kErase': 1, 'kRadius': 3, 'kAnnealingA': 0.9561621793204195, 'kAnnealingB': 2.947181075777796, 'kAnnealingStart': 32.541528356426824, 'kSkipRatio': 0.7787391692311444, 'kTargetDeterminationTrials': 12, 'kAttractionRatio': 0.011914328182694325, 'kMaxAttractionDistance': 84, 'kStartAttraction': 0.21046706054025163}. Best is trial 134 with value: 6900.82.\u001b[0m\n"
     ]
    },
    {
     "name": "stdout",
     "output_type": "stream",
     "text": [
      "index_parallel='0142'\n"
     ]
    },
    {
     "name": "stderr",
     "output_type": "stream",
     "text": [
      "\u001b[32m[I 2022-08-16 05:45:41,267]\u001b[0m Trial 142 finished with value: 6843.96 and parameters: {'kErase': 1, 'kRadius': 3, 'kAnnealingA': 0.6109696149995503, 'kAnnealingB': 2.938334054238692, 'kAnnealingStart': 33.832664014082326, 'kSkipRatio': 0.7983308317223574, 'kTargetDeterminationTrials': 12, 'kAttractionRatio': 0.012102810970246205, 'kMaxAttractionDistance': 82, 'kStartAttraction': 0.17675963738108386}. Best is trial 134 with value: 6900.82.\u001b[0m\n"
     ]
    },
    {
     "name": "stdout",
     "output_type": "stream",
     "text": [
      "index_parallel='0144'\n"
     ]
    },
    {
     "name": "stderr",
     "output_type": "stream",
     "text": [
      "\u001b[32m[I 2022-08-16 05:49:32,650]\u001b[0m Trial 144 finished with value: 6984.345 and parameters: {'kErase': 3, 'kRadius': 3, 'kAnnealingA': -0.8599083914393143, 'kAnnealingB': 2.925181215107081, 'kAnnealingStart': 34.252726962443575, 'kSkipRatio': 0.7658343930163709, 'kTargetDeterminationTrials': 14, 'kAttractionRatio': 0.011372323886580011, 'kMaxAttractionDistance': 80, 'kStartAttraction': 0.1773136876531248}. Best is trial 144 with value: 6984.345.\u001b[0m\n"
     ]
    },
    {
     "name": "stdout",
     "output_type": "stream",
     "text": [
      "Updated! 6984.345\n",
      "index_parallel='0146'\n"
     ]
    },
    {
     "name": "stderr",
     "output_type": "stream",
     "text": [
      "\u001b[32m[I 2022-08-16 05:53:24,266]\u001b[0m Trial 146 finished with value: 6959.385 and parameters: {'kErase': 3, 'kRadius': 3, 'kAnnealingA': -1.2440250970534508, 'kAnnealingB': 2.911595324609764, 'kAnnealingStart': 55.90567613467857, 'kSkipRatio': 0.770760312957901, 'kTargetDeterminationTrials': 14, 'kAttractionRatio': 0.010958367883335757, 'kMaxAttractionDistance': 81, 'kStartAttraction': 0.1551192449952679}. Best is trial 144 with value: 6984.345.\u001b[0m\n"
     ]
    },
    {
     "name": "stdout",
     "output_type": "stream",
     "text": [
      "index_parallel='0148'\n"
     ]
    },
    {
     "name": "stderr",
     "output_type": "stream",
     "text": [
      "\u001b[32m[I 2022-08-16 05:57:15,815]\u001b[0m Trial 148 finished with value: 6914.95 and parameters: {'kErase': 3, 'kRadius': 3, 'kAnnealingA': -1.2318225224840624, 'kAnnealingB': 2.894181065956848, 'kAnnealingStart': 55.98389613387829, 'kSkipRatio': 0.7637019388441577, 'kTargetDeterminationTrials': 12, 'kAttractionRatio': 0.011287415784905608, 'kMaxAttractionDistance': 82, 'kStartAttraction': 0.1288220939577543}. Best is trial 144 with value: 6984.345.\u001b[0m\n"
     ]
    },
    {
     "name": "stdout",
     "output_type": "stream",
     "text": [
      "index_parallel='0150'\n"
     ]
    },
    {
     "name": "stderr",
     "output_type": "stream",
     "text": [
      "\u001b[32m[I 2022-08-16 06:01:07,324]\u001b[0m Trial 150 finished with value: 6949.725 and parameters: {'kErase': 3, 'kRadius': 3, 'kAnnealingA': -1.0369688767584297, 'kAnnealingB': 2.916950159782383, 'kAnnealingStart': 51.63362481630738, 'kSkipRatio': 0.7673142702990918, 'kTargetDeterminationTrials': 12, 'kAttractionRatio': 0.010951893339465146, 'kMaxAttractionDistance': 85, 'kStartAttraction': 0.12257282398394635}. Best is trial 144 with value: 6984.345.\u001b[0m\n"
     ]
    },
    {
     "name": "stdout",
     "output_type": "stream",
     "text": [
      "index_parallel='0152'\n"
     ]
    },
    {
     "name": "stderr",
     "output_type": "stream",
     "text": [
      "\u001b[32m[I 2022-08-16 06:04:58,715]\u001b[0m Trial 152 finished with value: 6952.085 and parameters: {'kErase': 3, 'kRadius': 3, 'kAnnealingA': -0.5740169259407754, 'kAnnealingB': 2.8955070590893843, 'kAnnealingStart': 57.02667838862203, 'kSkipRatio': 0.7714733577665649, 'kTargetDeterminationTrials': 14, 'kAttractionRatio': 0.010887542693828599, 'kMaxAttractionDistance': 83, 'kStartAttraction': 0.12596294972692293}. Best is trial 144 with value: 6984.345.\u001b[0m\n"
     ]
    },
    {
     "name": "stdout",
     "output_type": "stream",
     "text": [
      "index_parallel='0154'\n"
     ]
    },
    {
     "name": "stderr",
     "output_type": "stream",
     "text": [
      "\u001b[32m[I 2022-08-16 06:08:50,576]\u001b[0m Trial 154 finished with value: 6935.34 and parameters: {'kErase': 3, 'kRadius': 3, 'kAnnealingA': -0.8253721068145742, 'kAnnealingB': 2.6816390750280714, 'kAnnealingStart': 54.916077336845305, 'kSkipRatio': 0.7634641911713115, 'kTargetDeterminationTrials': 14, 'kAttractionRatio': 0.010780968223221455, 'kMaxAttractionDistance': 80, 'kStartAttraction': 0.12108250847354339}. Best is trial 144 with value: 6984.345.\u001b[0m\n"
     ]
    },
    {
     "name": "stdout",
     "output_type": "stream",
     "text": [
      "index_parallel='0156'\n"
     ]
    },
    {
     "name": "stderr",
     "output_type": "stream",
     "text": [
      "\u001b[32m[I 2022-08-16 06:12:41,830]\u001b[0m Trial 156 finished with value: 6931.92 and parameters: {'kErase': 3, 'kRadius': 3, 'kAnnealingA': -0.7736206897245723, 'kAnnealingB': 2.670747386030651, 'kAnnealingStart': 53.43525531682343, 'kSkipRatio': 0.7609374002609888, 'kTargetDeterminationTrials': 12, 'kAttractionRatio': 0.010253970800202123, 'kMaxAttractionDistance': 80, 'kStartAttraction': 0.11674752194943874}. Best is trial 144 with value: 6984.345.\u001b[0m\n"
     ]
    },
    {
     "name": "stdout",
     "output_type": "stream",
     "text": [
      "index_parallel='0158'\n"
     ]
    },
    {
     "name": "stderr",
     "output_type": "stream",
     "text": [
      "\u001b[32m[I 2022-08-16 06:16:33,076]\u001b[0m Trial 158 finished with value: 6909.21 and parameters: {'kErase': 3, 'kRadius': 3, 'kAnnealingA': -0.437677834131786, 'kAnnealingB': 2.695774591801567, 'kAnnealingStart': 59.63506067356719, 'kSkipRatio': 0.7610724755376012, 'kTargetDeterminationTrials': 12, 'kAttractionRatio': 0.010045863232016445, 'kMaxAttractionDistance': 80, 'kStartAttraction': 0.12047786259085232}. Best is trial 144 with value: 6984.345.\u001b[0m\n"
     ]
    },
    {
     "name": "stdout",
     "output_type": "stream",
     "text": [
      "index_parallel='0160'\n"
     ]
    },
    {
     "name": "stderr",
     "output_type": "stream",
     "text": [
      "\u001b[32m[I 2022-08-16 06:20:24,514]\u001b[0m Trial 160 finished with value: 6928.6 and parameters: {'kErase': 3, 'kRadius': 3, 'kAnnealingA': -0.3767384522253626, 'kAnnealingB': 2.6621673934620134, 'kAnnealingStart': 57.65468762513796, 'kSkipRatio': 0.7622916977923327, 'kTargetDeterminationTrials': 11, 'kAttractionRatio': 0.01004596579788243, 'kMaxAttractionDistance': 79, 'kStartAttraction': 0.1150114637225877}. Best is trial 144 with value: 6984.345.\u001b[0m\n"
     ]
    },
    {
     "name": "stdout",
     "output_type": "stream",
     "text": [
      "index_parallel='0162'\n"
     ]
    },
    {
     "name": "stderr",
     "output_type": "stream",
     "text": [
      "\u001b[32m[I 2022-08-16 06:24:15,935]\u001b[0m Trial 162 finished with value: 6945.39 and parameters: {'kErase': 3, 'kRadius': 3, 'kAnnealingA': -0.4869723139588936, 'kAnnealingB': 2.6676479248879126, 'kAnnealingStart': 54.824982011665874, 'kSkipRatio': 0.7595259318663459, 'kTargetDeterminationTrials': 11, 'kAttractionRatio': 0.010023859133627681, 'kMaxAttractionDistance': 81, 'kStartAttraction': 0.11594227294359583}. Best is trial 144 with value: 6984.345.\u001b[0m\n"
     ]
    },
    {
     "name": "stdout",
     "output_type": "stream",
     "text": [
      "index_parallel='0164'\n"
     ]
    },
    {
     "name": "stderr",
     "output_type": "stream",
     "text": [
      "\u001b[32m[I 2022-08-16 06:28:07,502]\u001b[0m Trial 164 finished with value: 6910.995 and parameters: {'kErase': 3, 'kRadius': 3, 'kAnnealingA': -1.9933447086746325, 'kAnnealingB': 2.6057759543294674, 'kAnnealingStart': 73.46671916133795, 'kSkipRatio': 0.7451765904333867, 'kTargetDeterminationTrials': 11, 'kAttractionRatio': 0.010107383231118748, 'kMaxAttractionDistance': 72, 'kStartAttraction': 0.09364881721764293}. Best is trial 144 with value: 6984.345.\u001b[0m\n"
     ]
    },
    {
     "name": "stdout",
     "output_type": "stream",
     "text": [
      "index_parallel='0166'\n"
     ]
    },
    {
     "name": "stderr",
     "output_type": "stream",
     "text": [
      "\u001b[32m[I 2022-08-16 06:31:58,861]\u001b[0m Trial 166 finished with value: 6958.885 and parameters: {'kErase': 3, 'kRadius': 3, 'kAnnealingA': -1.6891708330167514, 'kAnnealingB': 2.484946773283176, 'kAnnealingStart': 52.62994410837477, 'kSkipRatio': 0.7497458582358123, 'kTargetDeterminationTrials': 11, 'kAttractionRatio': 0.010796364480759569, 'kMaxAttractionDistance': 74, 'kStartAttraction': 0.14671167072942748}. Best is trial 144 with value: 6984.345.\u001b[0m\n"
     ]
    },
    {
     "name": "stdout",
     "output_type": "stream",
     "text": [
      "index_parallel='0168'\n"
     ]
    },
    {
     "name": "stderr",
     "output_type": "stream",
     "text": [
      "\u001b[32m[I 2022-08-16 06:35:51,201]\u001b[0m Trial 168 finished with value: 6864.375 and parameters: {'kErase': 3, 'kRadius': 3, 'kAnnealingA': -4.342909711559926, 'kAnnealingB': 2.4879128475417933, 'kAnnealingStart': 50.84500419888743, 'kSkipRatio': 0.7320738462615821, 'kTargetDeterminationTrials': 10, 'kAttractionRatio': 0.0107604007257569, 'kMaxAttractionDistance': 75, 'kStartAttraction': 0.15411984174388257}. Best is trial 144 with value: 6984.345.\u001b[0m\n"
     ]
    },
    {
     "name": "stdout",
     "output_type": "stream",
     "text": [
      "index_parallel='0170'\n"
     ]
    },
    {
     "name": "stderr",
     "output_type": "stream",
     "text": [
      "\u001b[32m[I 2022-08-16 06:39:42,770]\u001b[0m Trial 170 finished with value: 6940.65 and parameters: {'kErase': 3, 'kRadius': 3, 'kAnnealingA': -3.0076635198684847, 'kAnnealingB': 2.624838919646184, 'kAnnealingStart': 65.54591866946684, 'kSkipRatio': 0.7816918657181772, 'kTargetDeterminationTrials': 14, 'kAttractionRatio': 0.010130467074608322, 'kMaxAttractionDistance': 67, 'kStartAttraction': 0.10258020851495041}. Best is trial 144 with value: 6984.345.\u001b[0m\n"
     ]
    },
    {
     "name": "stdout",
     "output_type": "stream",
     "text": [
      "index_parallel='0172'\n"
     ]
    },
    {
     "name": "stderr",
     "output_type": "stream",
     "text": [
      "\u001b[32m[I 2022-08-16 06:43:34,375]\u001b[0m Trial 172 finished with value: 6916.015 and parameters: {'kErase': 3, 'kRadius': 3, 'kAnnealingA': 0.1482596013013957, 'kAnnealingB': 2.565470472817408, 'kAnnealingStart': 65.9239835972664, 'kSkipRatio': 0.7843097331496188, 'kTargetDeterminationTrials': 14, 'kAttractionRatio': 0.012546091184387301, 'kMaxAttractionDistance': 68, 'kStartAttraction': 0.1511087651329883}. Best is trial 144 with value: 6984.345.\u001b[0m\n"
     ]
    },
    {
     "name": "stdout",
     "output_type": "stream",
     "text": [
      "index_parallel='0174'\n"
     ]
    },
    {
     "name": "stderr",
     "output_type": "stream",
     "text": [
      "\u001b[32m[I 2022-08-16 06:47:25,817]\u001b[0m Trial 174 finished with value: 6936.77 and parameters: {'kErase': 3, 'kRadius': 3, 'kAnnealingA': -2.9892548024708296, 'kAnnealingB': 2.437757447766742, 'kAnnealingStart': 45.0208015510668, 'kSkipRatio': 0.7761584934912654, 'kTargetDeterminationTrials': 15, 'kAttractionRatio': 0.010121107247393773, 'kMaxAttractionDistance': 75, 'kStartAttraction': 0.0673169676250416}. Best is trial 144 with value: 6984.345.\u001b[0m\n"
     ]
    },
    {
     "name": "stdout",
     "output_type": "stream",
     "text": [
      "index_parallel='0176'\n"
     ]
    },
    {
     "name": "stderr",
     "output_type": "stream",
     "text": [
      "\u001b[32m[I 2022-08-16 06:51:17,782]\u001b[0m Trial 176 finished with value: 6935.38 and parameters: {'kErase': 3, 'kRadius': 3, 'kAnnealingA': -3.428423723389305, 'kAnnealingB': 2.5349288187991608, 'kAnnealingStart': 44.86630441543919, 'kSkipRatio': 0.7761737931234984, 'kTargetDeterminationTrials': 15, 'kAttractionRatio': 0.012714622599121166, 'kMaxAttractionDistance': 75, 'kStartAttraction': 0.1007738844501155}. Best is trial 144 with value: 6984.345.\u001b[0m\n"
     ]
    },
    {
     "name": "stdout",
     "output_type": "stream",
     "text": [
      "index_parallel='0178'\n"
     ]
    },
    {
     "name": "stderr",
     "output_type": "stream",
     "text": [
      "\u001b[32m[I 2022-08-16 06:55:09,306]\u001b[0m Trial 178 finished with value: 6928.595 and parameters: {'kErase': 3, 'kRadius': 3, 'kAnnealingA': -3.072618324103956, 'kAnnealingB': 2.417352688456787, 'kAnnealingStart': 46.60484048866666, 'kSkipRatio': 0.7754027787331251, 'kTargetDeterminationTrials': 15, 'kAttractionRatio': 0.01243093113805477, 'kMaxAttractionDistance': 75, 'kStartAttraction': 0.07318889187831043}. Best is trial 144 with value: 6984.345.\u001b[0m\n"
     ]
    },
    {
     "name": "stdout",
     "output_type": "stream",
     "text": [
      "index_parallel='0180'\n"
     ]
    },
    {
     "name": "stderr",
     "output_type": "stream",
     "text": [
      "\u001b[32m[I 2022-08-16 06:59:00,836]\u001b[0m Trial 180 finished with value: 6911.865 and parameters: {'kErase': 3, 'kRadius': 3, 'kAnnealingA': -1.607028133044202, 'kAnnealingB': 2.508514292729309, 'kAnnealingStart': 83.62085982166558, 'kSkipRatio': 0.7496189718081898, 'kTargetDeterminationTrials': 15, 'kAttractionRatio': 0.012979324937726215, 'kMaxAttractionDistance': 65, 'kStartAttraction': 0.09865897502136288}. Best is trial 144 with value: 6984.345.\u001b[0m\n"
     ]
    },
    {
     "name": "stdout",
     "output_type": "stream",
     "text": [
      "index_parallel='0182'\n"
     ]
    },
    {
     "name": "stderr",
     "output_type": "stream",
     "text": [
      "\u001b[32m[I 2022-08-16 07:02:52,288]\u001b[0m Trial 182 finished with value: 6942.015 and parameters: {'kErase': 3, 'kRadius': 3, 'kAnnealingA': -2.545598164628136, 'kAnnealingB': 2.5780446379213378, 'kAnnealingStart': 50.417575981779216, 'kSkipRatio': 0.7920015048117309, 'kTargetDeterminationTrials': 14, 'kAttractionRatio': 0.01113691569967805, 'kMaxAttractionDistance': 72, 'kStartAttraction': 0.10101510882775162}. Best is trial 144 with value: 6984.345.\u001b[0m\n"
     ]
    },
    {
     "name": "stdout",
     "output_type": "stream",
     "text": [
      "index_parallel='0184'\n"
     ]
    },
    {
     "name": "stderr",
     "output_type": "stream",
     "text": [
      "\u001b[32m[I 2022-08-16 07:06:43,688]\u001b[0m Trial 184 finished with value: 6916.975 and parameters: {'kErase': 3, 'kRadius': 3, 'kAnnealingA': -3.8547903158230383, 'kAnnealingB': 2.3226577272252436, 'kAnnealingStart': 50.026119299165266, 'kSkipRatio': 0.7911943563274086, 'kTargetDeterminationTrials': 15, 'kAttractionRatio': 0.01123761580520904, 'kMaxAttractionDistance': 99, 'kStartAttraction': 0.13675626937534494}. Best is trial 144 with value: 6984.345.\u001b[0m\n"
     ]
    },
    {
     "name": "stdout",
     "output_type": "stream",
     "text": [
      "index_parallel='0186'\n"
     ]
    },
    {
     "name": "stderr",
     "output_type": "stream",
     "text": [
      "\u001b[32m[I 2022-08-16 07:10:35,394]\u001b[0m Trial 186 finished with value: 6937.98 and parameters: {'kErase': 3, 'kRadius': 3, 'kAnnealingA': -2.6080711993071706, 'kAnnealingB': 2.488841660709584, 'kAnnealingStart': 43.02066628837334, 'kSkipRatio': 0.7736068271957314, 'kTargetDeterminationTrials': 12, 'kAttractionRatio': 0.012297715433892718, 'kMaxAttractionDistance': 68, 'kStartAttraction': 0.10145367368559978}. Best is trial 144 with value: 6984.345.\u001b[0m\n"
     ]
    },
    {
     "name": "stdout",
     "output_type": "stream",
     "text": [
      "index_parallel='0188'\n"
     ]
    },
    {
     "name": "stderr",
     "output_type": "stream",
     "text": [
      "\u001b[32m[I 2022-08-16 07:14:26,823]\u001b[0m Trial 188 finished with value: 6929.93 and parameters: {'kErase': 3, 'kRadius': 3, 'kAnnealingA': -2.7044828940270857, 'kAnnealingB': 2.474136914649995, 'kAnnealingStart': 39.658934013214655, 'kSkipRatio': 0.7761319925780139, 'kTargetDeterminationTrials': 14, 'kAttractionRatio': 0.010008927956907455, 'kMaxAttractionDistance': 86, 'kStartAttraction': 0.08839496879650523}. Best is trial 144 with value: 6984.345.\u001b[0m\n"
     ]
    },
    {
     "name": "stdout",
     "output_type": "stream",
     "text": [
      "index_parallel='0190'\n"
     ]
    },
    {
     "name": "stderr",
     "output_type": "stream",
     "text": [
      "\u001b[32m[I 2022-08-16 07:18:18,558]\u001b[0m Trial 190 finished with value: 6918.32 and parameters: {'kErase': 3, 'kRadius': 3, 'kAnnealingA': -1.5430801407545949, 'kAnnealingB': 2.341294546457902, 'kAnnealingStart': 65.5406961921529, 'kSkipRatio': 0.7422100654042214, 'kTargetDeterminationTrials': 14, 'kAttractionRatio': 0.012941044277318925, 'kMaxAttractionDistance': 67, 'kStartAttraction': 0.17474461419192383}. Best is trial 144 with value: 6984.345.\u001b[0m\n"
     ]
    },
    {
     "name": "stdout",
     "output_type": "stream",
     "text": [
      "index_parallel='0192'\n"
     ]
    },
    {
     "name": "stderr",
     "output_type": "stream",
     "text": [
      "\u001b[32m[I 2022-08-16 07:22:09,967]\u001b[0m Trial 192 finished with value: 6866.31 and parameters: {'kErase': 3, 'kRadius': 3, 'kAnnealingA': -0.9863819414800699, 'kAnnealingB': 2.595012278388742, 'kAnnealingStart': 48.38543874115616, 'kSkipRatio': 0.7549633837110301, 'kTargetDeterminationTrials': 12, 'kAttractionRatio': 0.32809953993024293, 'kMaxAttractionDistance': 74, 'kStartAttraction': 0.10912858208625228}. Best is trial 144 with value: 6984.345.\u001b[0m\n"
     ]
    },
    {
     "name": "stdout",
     "output_type": "stream",
     "text": [
      "index_parallel='0194'\n"
     ]
    },
    {
     "name": "stderr",
     "output_type": "stream",
     "text": [
      "\u001b[32m[I 2022-08-16 07:26:01,225]\u001b[0m Trial 194 finished with value: 6919.83 and parameters: {'kErase': 3, 'kRadius': 3, 'kAnnealingA': -3.646107527954034, 'kAnnealingB': 2.7151207414339122, 'kAnnealingStart': 80.14568197097525, 'kSkipRatio': 0.7861790987656305, 'kTargetDeterminationTrials': 12, 'kAttractionRatio': 0.011077724845489934, 'kMaxAttractionDistance': 77, 'kStartAttraction': 0.13540365893023412}. Best is trial 144 with value: 6984.345.\u001b[0m\n"
     ]
    },
    {
     "name": "stdout",
     "output_type": "stream",
     "text": [
      "index_parallel='0196'\n"
     ]
    },
    {
     "name": "stderr",
     "output_type": "stream",
     "text": [
      "\u001b[32m[I 2022-08-16 07:29:52,691]\u001b[0m Trial 196 finished with value: 6842.665 and parameters: {'kErase': 3, 'kRadius': 3, 'kAnnealingA': -5.051929356700352, 'kAnnealingB': 2.4583577823035743, 'kAnnealingStart': 43.0355683935071, 'kSkipRatio': 0.771288447106297, 'kTargetDeterminationTrials': 16, 'kAttractionRatio': 0.01199662010778486, 'kMaxAttractionDistance': 87, 'kStartAttraction': 0.13238855412385486}. Best is trial 144 with value: 6984.345.\u001b[0m\n"
     ]
    },
    {
     "name": "stdout",
     "output_type": "stream",
     "text": [
      "index_parallel='0198'\n"
     ]
    },
    {
     "name": "stderr",
     "output_type": "stream",
     "text": [
      "\u001b[32m[I 2022-08-16 07:33:43,960]\u001b[0m Trial 198 finished with value: 6913.66 and parameters: {'kErase': 3, 'kRadius': 3, 'kAnnealingA': -2.180875657310184, 'kAnnealingB': 2.6332136566978983, 'kAnnealingStart': 37.28804937693898, 'kSkipRatio': 0.79721523742221, 'kTargetDeterminationTrials': 15, 'kAttractionRatio': 0.013143151347814318, 'kMaxAttractionDistance': 85, 'kStartAttraction': 0.15525306700359875}. Best is trial 144 with value: 6984.345.\u001b[0m\n"
     ]
    },
    {
     "name": "stdout",
     "output_type": "stream",
     "text": [
      "index_parallel='0200'\n"
     ]
    },
    {
     "name": "stderr",
     "output_type": "stream",
     "text": [
      "\u001b[32m[I 2022-08-16 07:37:35,426]\u001b[0m Trial 200 finished with value: 6925.325 and parameters: {'kErase': 3, 'kRadius': 3, 'kAnnealingA': -0.9448209305904395, 'kAnnealingB': 2.7527202659816483, 'kAnnealingStart': 46.368543619490474, 'kSkipRatio': 0.7703370549136829, 'kTargetDeterminationTrials': 13, 'kAttractionRatio': 0.010016108025349068, 'kMaxAttractionDistance': 62, 'kStartAttraction': 0.07652758300544452}. Best is trial 144 with value: 6984.345.\u001b[0m\n"
     ]
    },
    {
     "name": "stdout",
     "output_type": "stream",
     "text": [
      "index_parallel='0202'\n"
     ]
    },
    {
     "name": "stderr",
     "output_type": "stream",
     "text": [
      "\u001b[32m[I 2022-08-16 07:41:26,718]\u001b[0m Trial 202 finished with value: 6940.595 and parameters: {'kErase': 3, 'kRadius': 3, 'kAnnealingA': -3.0497919038827384, 'kAnnealingB': 2.7223024600249253, 'kAnnealingStart': 60.619232779922044, 'kSkipRatio': 0.7841240537246387, 'kTargetDeterminationTrials': 15, 'kAttractionRatio': 0.011208760932764896, 'kMaxAttractionDistance': 70, 'kStartAttraction': 0.18972709872121862}. Best is trial 144 with value: 6984.345.\u001b[0m\n"
     ]
    },
    {
     "name": "stdout",
     "output_type": "stream",
     "text": [
      "index_parallel='0204'\n"
     ]
    },
    {
     "name": "stderr",
     "output_type": "stream",
     "text": [
      "\u001b[32m[I 2022-08-16 07:45:17,995]\u001b[0m Trial 204 finished with value: 6928.545 and parameters: {'kErase': 3, 'kRadius': 3, 'kAnnealingA': -1.811653400570977, 'kAnnealingB': 2.6870175845622346, 'kAnnealingStart': 62.18698452396913, 'kSkipRatio': 0.7840553353412447, 'kTargetDeterminationTrials': 15, 'kAttractionRatio': 0.011562753004739648, 'kMaxAttractionDistance': 71, 'kStartAttraction': 0.09820271052963357}. Best is trial 144 with value: 6984.345.\u001b[0m\n"
     ]
    },
    {
     "name": "stdout",
     "output_type": "stream",
     "text": [
      "index_parallel='0206'\n"
     ]
    },
    {
     "name": "stderr",
     "output_type": "stream",
     "text": [
      "\u001b[32m[I 2022-08-16 07:49:09,199]\u001b[0m Trial 206 finished with value: 6867.97 and parameters: {'kErase': 3, 'kRadius': 3, 'kAnnealingA': -2.3206305870550987, 'kAnnealingB': 2.6269482323331346, 'kAnnealingStart': 52.03808945762892, 'kSkipRatio': 0.7237163870454648, 'kTargetDeterminationTrials': 14, 'kAttractionRatio': 0.5411069168448921, 'kMaxAttractionDistance': 70, 'kStartAttraction': 0.19830069226037575}. Best is trial 144 with value: 6984.345.\u001b[0m\n"
     ]
    },
    {
     "name": "stdout",
     "output_type": "stream",
     "text": [
      "index_parallel='0208'\n"
     ]
    },
    {
     "name": "stderr",
     "output_type": "stream",
     "text": [
      "\u001b[32m[I 2022-08-16 07:53:00,570]\u001b[0m Trial 208 finished with value: 6947.165 and parameters: {'kErase': 3, 'kRadius': 3, 'kAnnealingA': -3.1188954054118705, 'kAnnealingB': 2.5543793303767264, 'kAnnealingStart': 68.27684891710253, 'kSkipRatio': 0.7988445175558572, 'kTargetDeterminationTrials': 13, 'kAttractionRatio': 0.011366018956069729, 'kMaxAttractionDistance': 66, 'kStartAttraction': 0.2457881866525816}. Best is trial 144 with value: 6984.345.\u001b[0m\n"
     ]
    },
    {
     "name": "stdout",
     "output_type": "stream",
     "text": [
      "index_parallel='0210'\n"
     ]
    },
    {
     "name": "stderr",
     "output_type": "stream",
     "text": [
      "\u001b[32m[I 2022-08-16 07:56:51,995]\u001b[0m Trial 210 finished with value: 6942.31 and parameters: {'kErase': 3, 'kRadius': 3, 'kAnnealingA': -1.6692625014093347, 'kAnnealingB': 2.619181297676702, 'kAnnealingStart': 61.58076527969331, 'kSkipRatio': 0.7951073979423505, 'kTargetDeterminationTrials': 13, 'kAttractionRatio': 0.0113062139999904, 'kMaxAttractionDistance': 65, 'kStartAttraction': 0.18261382120098216}. Best is trial 144 with value: 6984.345.\u001b[0m\n"
     ]
    },
    {
     "name": "stdout",
     "output_type": "stream",
     "text": [
      "index_parallel='0212'\n"
     ]
    },
    {
     "name": "stderr",
     "output_type": "stream",
     "text": [
      "\u001b[32m[I 2022-08-16 08:00:43,436]\u001b[0m Trial 212 finished with value: 6898.05 and parameters: {'kErase': 3, 'kRadius': 3, 'kAnnealingA': -1.6031941125476394, 'kAnnealingB': 2.7280755715105927, 'kAnnealingStart': 89.72881136364771, 'kSkipRatio': 0.797957446018719, 'kTargetDeterminationTrials': 13, 'kAttractionRatio': 0.011227706820110752, 'kMaxAttractionDistance': 63, 'kStartAttraction': 0.18725941840053087}. Best is trial 144 with value: 6984.345.\u001b[0m\n"
     ]
    },
    {
     "name": "stdout",
     "output_type": "stream",
     "text": [
      "index_parallel='0214'\n"
     ]
    },
    {
     "name": "stderr",
     "output_type": "stream",
     "text": [
      "\u001b[32m[I 2022-08-16 08:04:35,207]\u001b[0m Trial 214 finished with value: 6900.77 and parameters: {'kErase': 3, 'kRadius': 3, 'kAnnealingA': 0.2636661571575003, 'kAnnealingB': 2.6342895404662636, 'kAnnealingStart': 72.27236269001227, 'kSkipRatio': 0.7965202418913198, 'kTargetDeterminationTrials': 13, 'kAttractionRatio': 0.011306698810054494, 'kMaxAttractionDistance': 59, 'kStartAttraction': 0.24851674626733486}. Best is trial 144 with value: 6984.345.\u001b[0m\n"
     ]
    },
    {
     "name": "stdout",
     "output_type": "stream",
     "text": [
      "index_parallel='0216'\n"
     ]
    },
    {
     "name": "stderr",
     "output_type": "stream",
     "text": [
      "\u001b[32m[I 2022-08-16 08:08:26,550]\u001b[0m Trial 216 finished with value: 6952.795 and parameters: {'kErase': 3, 'kRadius': 3, 'kAnnealingA': -2.273457913055648, 'kAnnealingB': 2.762643698887536, 'kAnnealingStart': 61.58726886101627, 'kSkipRatio': 0.7849460772576181, 'kTargetDeterminationTrials': 13, 'kAttractionRatio': 0.013562983417406225, 'kMaxAttractionDistance': 67, 'kStartAttraction': 0.26057591167515043}. Best is trial 144 with value: 6984.345.\u001b[0m\n"
     ]
    },
    {
     "name": "stdout",
     "output_type": "stream",
     "text": [
      "index_parallel='0218'\n"
     ]
    },
    {
     "name": "stderr",
     "output_type": "stream",
     "text": [
      "\u001b[32m[I 2022-08-16 08:12:18,019]\u001b[0m Trial 218 finished with value: 6932.72 and parameters: {'kErase': 3, 'kRadius': 3, 'kAnnealingA': -2.149517505407239, 'kAnnealingB': 2.8268814397489685, 'kAnnealingStart': 78.372916641933, 'kSkipRatio': 0.7871676980258017, 'kTargetDeterminationTrials': 11, 'kAttractionRatio': 0.015021892448322754, 'kMaxAttractionDistance': 65, 'kStartAttraction': 0.266952387972812}. Best is trial 144 with value: 6984.345.\u001b[0m\n"
     ]
    },
    {
     "name": "stdout",
     "output_type": "stream",
     "text": [
      "index_parallel='0220'\n"
     ]
    },
    {
     "name": "stderr",
     "output_type": "stream",
     "text": [
      "\u001b[32m[I 2022-08-16 08:16:10,076]\u001b[0m Trial 220 finished with value: 6932.585 and parameters: {'kErase': 3, 'kRadius': 3, 'kAnnealingA': -1.3445486942254532, 'kAnnealingB': 2.8310892200541025, 'kAnnealingStart': 69.78556070823154, 'kSkipRatio': 0.753698971468337, 'kTargetDeterminationTrials': 10, 'kAttractionRatio': 0.013829705445242157, 'kMaxAttractionDistance': 61, 'kStartAttraction': 0.21921691742747323}. Best is trial 144 with value: 6984.345.\u001b[0m\n"
     ]
    },
    {
     "name": "stdout",
     "output_type": "stream",
     "text": [
      "index_parallel='0222'\n"
     ]
    },
    {
     "name": "stderr",
     "output_type": "stream",
     "text": [
      "\u001b[32m[I 2022-08-16 08:20:01,772]\u001b[0m Trial 222 finished with value: 6928.355 and parameters: {'kErase': 3, 'kRadius': 3, 'kAnnealingA': -2.2231917732035607, 'kAnnealingB': 2.7643739710623874, 'kAnnealingStart': 59.97680488939572, 'kSkipRatio': 0.7850890266660382, 'kTargetDeterminationTrials': 13, 'kAttractionRatio': 0.012561533910481235, 'kMaxAttractionDistance': 66, 'kStartAttraction': 0.16947237093257864}. Best is trial 144 with value: 6984.345.\u001b[0m\n"
     ]
    },
    {
     "name": "stdout",
     "output_type": "stream",
     "text": [
      "index_parallel='0224'\n"
     ]
    },
    {
     "name": "stderr",
     "output_type": "stream",
     "text": [
      "\u001b[32m[I 2022-08-16 08:23:53,081]\u001b[0m Trial 224 finished with value: 6820.97 and parameters: {'kErase': 3, 'kRadius': 3, 'kAnnealingA': -9.281607784753247, 'kAnnealingB': 2.5952764930194117, 'kAnnealingStart': 66.96956518560617, 'kSkipRatio': 0.766581292307526, 'kTargetDeterminationTrials': 14, 'kAttractionRatio': 0.0116837113947891, 'kMaxAttractionDistance': 73, 'kStartAttraction': 0.19040991923873482}. Best is trial 144 with value: 6984.345.\u001b[0m\n"
     ]
    },
    {
     "name": "stdout",
     "output_type": "stream",
     "text": [
      "index_parallel='0226'\n"
     ]
    },
    {
     "name": "stderr",
     "output_type": "stream",
     "text": [
      "\u001b[32m[I 2022-08-16 08:27:44,477]\u001b[0m Trial 226 finished with value: 6957.34 and parameters: {'kErase': 3, 'kRadius': 3, 'kAnnealingA': -1.885885228334753, 'kAnnealingB': 2.747347970020751, 'kAnnealingStart': 56.9266727509966, 'kSkipRatio': 0.7927228947923057, 'kTargetDeterminationTrials': 12, 'kAttractionRatio': 0.012056055640479998, 'kMaxAttractionDistance': 77, 'kStartAttraction': 0.1590032140336191}. Best is trial 144 with value: 6984.345.\u001b[0m\n"
     ]
    },
    {
     "name": "stdout",
     "output_type": "stream",
     "text": [
      "index_parallel='0228'\n"
     ]
    },
    {
     "name": "stderr",
     "output_type": "stream",
     "text": [
      "\u001b[32m[I 2022-08-16 08:31:36,092]\u001b[0m Trial 228 finished with value: 6952.985 and parameters: {'kErase': 3, 'kRadius': 3, 'kAnnealingA': -2.0301656054751214, 'kAnnealingB': 2.767159343101166, 'kAnnealingStart': 56.97357632432762, 'kSkipRatio': 0.799656903012672, 'kTargetDeterminationTrials': 11, 'kAttractionRatio': 0.012199368377314918, 'kMaxAttractionDistance': 80, 'kStartAttraction': 0.20886556917329588}. Best is trial 144 with value: 6984.345.\u001b[0m\n"
     ]
    },
    {
     "name": "stdout",
     "output_type": "stream",
     "text": [
      "index_parallel='0230'\n"
     ]
    },
    {
     "name": "stderr",
     "output_type": "stream",
     "text": [
      "\u001b[32m[I 2022-08-16 08:35:27,717]\u001b[0m Trial 230 finished with value: 5518.115 and parameters: {'kErase': 3, 'kRadius': 3, 'kAnnealingA': -0.8406758794682996, 'kAnnealingB': 2.7909565539912995, 'kAnnealingStart': 57.58291389482478, 'kSkipRatio': 0.27980455893294076, 'kTargetDeterminationTrials': 12, 'kAttractionRatio': 0.013801114412893221, 'kMaxAttractionDistance': 79, 'kStartAttraction': 0.16611574365392895}. Best is trial 144 with value: 6984.345.\u001b[0m\n"
     ]
    },
    {
     "name": "stdout",
     "output_type": "stream",
     "text": [
      "index_parallel='0232'\n"
     ]
    },
    {
     "name": "stderr",
     "output_type": "stream",
     "text": [
      "\u001b[32m[I 2022-08-16 08:39:19,421]\u001b[0m Trial 232 finished with value: 6945.215 and parameters: {'kErase': 3, 'kRadius': 3, 'kAnnealingA': -1.445506978954786, 'kAnnealingB': 2.8743163837092482, 'kAnnealingStart': 55.3431727518609, 'kSkipRatio': 0.7719627528545342, 'kTargetDeterminationTrials': 11, 'kAttractionRatio': 0.012529654741896445, 'kMaxAttractionDistance': 77, 'kStartAttraction': 0.2182777660780944}. Best is trial 144 with value: 6984.345.\u001b[0m\n"
     ]
    },
    {
     "name": "stdout",
     "output_type": "stream",
     "text": [
      "index_parallel='0234'\n"
     ]
    },
    {
     "name": "stderr",
     "output_type": "stream",
     "text": [
      "\u001b[32m[I 2022-08-16 08:43:10,591]\u001b[0m Trial 234 finished with value: 6942.705 and parameters: {'kErase': 3, 'kRadius': 3, 'kAnnealingA': -1.0203551320426072, 'kAnnealingB': 2.873659134183555, 'kAnnealingStart': 70.32087703940942, 'kSkipRatio': 0.7716141741841372, 'kTargetDeterminationTrials': 11, 'kAttractionRatio': 0.015375281421050935, 'kMaxAttractionDistance': 92, 'kStartAttraction': 0.2696812876471254}. Best is trial 144 with value: 6984.345.\u001b[0m\n"
     ]
    },
    {
     "name": "stdout",
     "output_type": "stream",
     "text": [
      "index_parallel='0236'\n"
     ]
    },
    {
     "name": "stderr",
     "output_type": "stream",
     "text": [
      "\u001b[32m[I 2022-08-16 08:47:01,899]\u001b[0m Trial 236 finished with value: 6923.8 and parameters: {'kErase': 3, 'kRadius': 3, 'kAnnealingA': -0.28774603084151434, 'kAnnealingB': 2.8715502260535906, 'kAnnealingStart': 55.276620127618344, 'kSkipRatio': 0.7720784558730335, 'kTargetDeterminationTrials': 9, 'kAttractionRatio': 0.012653186630775432, 'kMaxAttractionDistance': 82, 'kStartAttraction': 0.20540487114462552}. Best is trial 144 with value: 6984.345.\u001b[0m\n"
     ]
    },
    {
     "name": "stdout",
     "output_type": "stream",
     "text": [
      "index_parallel='0238'\n"
     ]
    },
    {
     "name": "stderr",
     "output_type": "stream",
     "text": [
      "\u001b[32m[I 2022-08-16 08:50:53,212]\u001b[0m Trial 238 finished with value: 6945.815 and parameters: {'kErase': 3, 'kRadius': 3, 'kAnnealingA': -1.1599888184080474, 'kAnnealingB': 2.9677651150069346, 'kAnnealingStart': 54.864280279668705, 'kSkipRatio': 0.799808622503897, 'kTargetDeterminationTrials': 10, 'kAttractionRatio': 0.013325651305206939, 'kMaxAttractionDistance': 78, 'kStartAttraction': 0.23587528022239582}. Best is trial 144 with value: 6984.345.\u001b[0m\n"
     ]
    },
    {
     "name": "stdout",
     "output_type": "stream",
     "text": [
      "index_parallel='0240'\n"
     ]
    },
    {
     "name": "stderr",
     "output_type": "stream",
     "text": [
      "\u001b[32m[I 2022-08-16 08:54:44,442]\u001b[0m Trial 240 finished with value: 6970.455 and parameters: {'kErase': 3, 'kRadius': 3, 'kAnnealingA': -2.1506841963665617, 'kAnnealingB': 2.9459115830391966, 'kAnnealingStart': 59.46783592581871, 'kSkipRatio': 0.7872445996991915, 'kTargetDeterminationTrials': 12, 'kAttractionRatio': 0.013513006900944587, 'kMaxAttractionDistance': 78, 'kStartAttraction': 0.27652214317129553}. Best is trial 144 with value: 6984.345.\u001b[0m\n"
     ]
    },
    {
     "name": "stdout",
     "output_type": "stream",
     "text": [
      "index_parallel='0242'\n"
     ]
    },
    {
     "name": "stderr",
     "output_type": "stream",
     "text": [
      "\u001b[32m[I 2022-08-16 08:58:36,022]\u001b[0m Trial 242 finished with value: 6962.375 and parameters: {'kErase': 3, 'kRadius': 3, 'kAnnealingA': -2.063703662883764, 'kAnnealingB': 2.958712446182533, 'kAnnealingStart': 60.416641039259055, 'kSkipRatio': 0.7837727994622962, 'kTargetDeterminationTrials': 12, 'kAttractionRatio': 0.012089500910416691, 'kMaxAttractionDistance': 85, 'kStartAttraction': 0.18303764133218817}. Best is trial 144 with value: 6984.345.\u001b[0m\n"
     ]
    },
    {
     "name": "stdout",
     "output_type": "stream",
     "text": [
      "index_parallel='0244'\n"
     ]
    },
    {
     "name": "stderr",
     "output_type": "stream",
     "text": [
      "\u001b[32m[I 2022-08-16 09:02:27,587]\u001b[0m Trial 244 finished with value: 6919.85 and parameters: {'kErase': 3, 'kRadius': 3, 'kAnnealingA': -1.3350440052791333, 'kAnnealingB': 2.9604444629376374, 'kAnnealingStart': 65.62320549468028, 'kSkipRatio': 0.7837978967774082, 'kTargetDeterminationTrials': 10, 'kAttractionRatio': 0.013384332192193805, 'kMaxAttractionDistance': 84, 'kStartAttraction': 0.24667207366862123}. Best is trial 144 with value: 6984.345.\u001b[0m\n"
     ]
    },
    {
     "name": "stdout",
     "output_type": "stream",
     "text": [
      "index_parallel='0246'\n"
     ]
    },
    {
     "name": "stderr",
     "output_type": "stream",
     "text": [
      "\u001b[32m[I 2022-08-16 09:06:19,329]\u001b[0m Trial 246 finished with value: 6923.705 and parameters: {'kErase': 3, 'kRadius': 3, 'kAnnealingA': -2.429890464585447, 'kAnnealingB': 2.998629298304545, 'kAnnealingStart': 52.13488687323884, 'kSkipRatio': 0.7892186008707773, 'kTargetDeterminationTrials': 11, 'kAttractionRatio': 0.013879861236611534, 'kMaxAttractionDistance': 89, 'kStartAttraction': 0.1665590354530237}. Best is trial 144 with value: 6984.345.\u001b[0m\n"
     ]
    },
    {
     "name": "stdout",
     "output_type": "stream",
     "text": [
      "index_parallel='0248'\n"
     ]
    },
    {
     "name": "stderr",
     "output_type": "stream",
     "text": [
      "\u001b[32m[I 2022-08-16 09:10:10,587]\u001b[0m Trial 248 finished with value: 6915.865 and parameters: {'kErase': 3, 'kRadius': 3, 'kAnnealingA': -0.6062832223521479, 'kAnnealingB': 2.834895759600706, 'kAnnealingStart': 58.40555865998755, 'kSkipRatio': 0.7557333518353779, 'kTargetDeterminationTrials': 12, 'kAttractionRatio': 0.016673721080242267, 'kMaxAttractionDistance': 96, 'kStartAttraction': 0.28692283922094874}. Best is trial 144 with value: 6984.345.\u001b[0m\n"
     ]
    },
    {
     "name": "stdout",
     "output_type": "stream",
     "text": [
      "index_parallel='0250'\n"
     ]
    },
    {
     "name": "stderr",
     "output_type": "stream",
     "text": [
      "\u001b[32m[I 2022-08-16 09:14:01,997]\u001b[0m Trial 250 finished with value: 6931.615 and parameters: {'kErase': 3, 'kRadius': 3, 'kAnnealingA': -2.068485956382397, 'kAnnealingB': 2.9127693637157557, 'kAnnealingStart': 49.80792876235141, 'kSkipRatio': 0.7357357404664941, 'kTargetDeterminationTrials': 12, 'kAttractionRatio': 0.012102732185283785, 'kMaxAttractionDistance': 97, 'kStartAttraction': 0.3584665219269131}. Best is trial 144 with value: 6984.345.\u001b[0m\n"
     ]
    },
    {
     "name": "stdout",
     "output_type": "stream",
     "text": [
      "index_parallel='0252'\n"
     ]
    },
    {
     "name": "stderr",
     "output_type": "stream",
     "text": [
      "\u001b[32m[I 2022-08-16 09:17:53,533]\u001b[0m Trial 252 finished with value: 6941.15 and parameters: {'kErase': 3, 'kRadius': 3, 'kAnnealingA': -2.531106974944673, 'kAnnealingB': 2.9204420615343554, 'kAnnealingStart': 75.51621465265629, 'kSkipRatio': 0.7999514288043067, 'kTargetDeterminationTrials': 12, 'kAttractionRatio': 0.01091994071401069, 'kMaxAttractionDistance': 89, 'kStartAttraction': 0.20030111248523524}. Best is trial 144 with value: 6984.345.\u001b[0m\n"
     ]
    },
    {
     "name": "stdout",
     "output_type": "stream",
     "text": [
      "index_parallel='0254'\n"
     ]
    },
    {
     "name": "stderr",
     "output_type": "stream",
     "text": [
      "\u001b[32m[I 2022-08-16 09:21:44,978]\u001b[0m Trial 254 finished with value: 6928.455 and parameters: {'kErase': 3, 'kRadius': 3, 'kAnnealingA': -1.9806146817737846, 'kAnnealingB': 2.843940693615599, 'kAnnealingStart': 67.78048538955542, 'kSkipRatio': 0.782141904388197, 'kTargetDeterminationTrials': 12, 'kAttractionRatio': 0.014437366377456684, 'kMaxAttractionDistance': 91, 'kStartAttraction': 0.1448196027708322}. Best is trial 144 with value: 6984.345.\u001b[0m\n"
     ]
    },
    {
     "name": "stdout",
     "output_type": "stream",
     "text": [
      "index_parallel='0256'\n"
     ]
    },
    {
     "name": "stderr",
     "output_type": "stream",
     "text": [
      "\u001b[32m[I 2022-08-16 09:25:36,752]\u001b[0m Trial 256 finished with value: 6968.02 and parameters: {'kErase': 3, 'kRadius': 3, 'kAnnealingA': -1.8038968042318702, 'kAnnealingB': 2.7772093116452408, 'kAnnealingStart': 59.69123420922675, 'kSkipRatio': 0.7873918953460606, 'kTargetDeterminationTrials': 13, 'kAttractionRatio': 0.012621504630779717, 'kMaxAttractionDistance': 84, 'kStartAttraction': 0.18939390439831824}. Best is trial 144 with value: 6984.345.\u001b[0m\n"
     ]
    },
    {
     "name": "stdout",
     "output_type": "stream",
     "text": [
      "index_parallel='0258'\n"
     ]
    },
    {
     "name": "stderr",
     "output_type": "stream",
     "text": [
      "\u001b[32m[I 2022-08-16 09:29:28,372]\u001b[0m Trial 258 finished with value: 6927.395 and parameters: {'kErase': 3, 'kRadius': 3, 'kAnnealingA': -2.696869011395238, 'kAnnealingB': 2.764291668400076, 'kAnnealingStart': 49.477661510295285, 'kSkipRatio': 0.7683659161655774, 'kTargetDeterminationTrials': 13, 'kAttractionRatio': 0.012347676211012893, 'kMaxAttractionDistance': 85, 'kStartAttraction': 0.18130692615294364}. Best is trial 144 with value: 6984.345.\u001b[0m\n"
     ]
    },
    {
     "name": "stdout",
     "output_type": "stream",
     "text": [
      "index_parallel='0260'\n"
     ]
    },
    {
     "name": "stderr",
     "output_type": "stream",
     "text": [
      "\u001b[32m[I 2022-08-16 09:33:20,814]\u001b[0m Trial 260 finished with value: 6944.475 and parameters: {'kErase': 3, 'kRadius': 3, 'kAnnealingA': -1.6958581260796808, 'kAnnealingB': 2.7808976303284685, 'kAnnealingStart': 59.71206351659996, 'kSkipRatio': 0.7781581225323985, 'kTargetDeterminationTrials': 13, 'kAttractionRatio': 0.010935168200231049, 'kMaxAttractionDistance': 80, 'kStartAttraction': 0.16798224014786062}. Best is trial 144 with value: 6984.345.\u001b[0m\n"
     ]
    },
    {
     "name": "stdout",
     "output_type": "stream",
     "text": [
      "index_parallel='0262'\n"
     ]
    },
    {
     "name": "stderr",
     "output_type": "stream",
     "text": [
      "\u001b[32m[I 2022-08-16 09:37:12,175]\u001b[0m Trial 262 finished with value: 6878.51 and parameters: {'kErase': 3, 'kRadius': 3, 'kAnnealingA': -3.323592529109286, 'kAnnealingB': 2.8503270574154707, 'kAnnealingStart': 65.85544258336846, 'kSkipRatio': 0.787850071684597, 'kTargetDeterminationTrials': 11, 'kAttractionRatio': 0.1551003974631289, 'kMaxAttractionDistance': 74, 'kStartAttraction': 0.15270971135429987}. Best is trial 144 with value: 6984.345.\u001b[0m\n"
     ]
    },
    {
     "name": "stdout",
     "output_type": "stream",
     "text": [
      "index_parallel='0264'\n"
     ]
    },
    {
     "name": "stderr",
     "output_type": "stream",
     "text": [
      "\u001b[32m[I 2022-08-16 09:41:03,597]\u001b[0m Trial 264 finished with value: 6939.775 and parameters: {'kErase': 3, 'kRadius': 3, 'kAnnealingA': -3.13362093831638, 'kAnnealingB': 2.8810983935529877, 'kAnnealingStart': 68.52218376136688, 'kSkipRatio': 0.7792647964461877, 'kTargetDeterminationTrials': 12, 'kAttractionRatio': 0.011815978313485442, 'kMaxAttractionDistance': 74, 'kStartAttraction': 0.20389359990209177}. Best is trial 144 with value: 6984.345.\u001b[0m\n"
     ]
    },
    {
     "name": "stdout",
     "output_type": "stream",
     "text": [
      "index_parallel='0266'\n"
     ]
    },
    {
     "name": "stderr",
     "output_type": "stream",
     "text": [
      "\u001b[32m[I 2022-08-16 09:44:55,074]\u001b[0m Trial 266 finished with value: 6910.6 and parameters: {'kErase': 3, 'kRadius': 3, 'kAnnealingA': -1.867872760713943, 'kAnnealingB': 2.8159644461140676, 'kAnnealingStart': 77.60671038491469, 'kSkipRatio': 0.7524654140378799, 'kTargetDeterminationTrials': 13, 'kAttractionRatio': 0.013141304505886754, 'kMaxAttractionDistance': 94, 'kStartAttraction': 0.3373336998603321}. Best is trial 144 with value: 6984.345.\u001b[0m\n"
     ]
    },
    {
     "name": "stdout",
     "output_type": "stream",
     "text": [
      "index_parallel='0268'\n"
     ]
    },
    {
     "name": "stderr",
     "output_type": "stream",
     "text": [
      "\u001b[32m[I 2022-08-16 09:48:46,979]\u001b[0m Trial 268 finished with value: 6943.89 and parameters: {'kErase': 3, 'kRadius': 3, 'kAnnealingA': -2.657040703946279, 'kAnnealingB': 2.79477590300764, 'kAnnealingStart': 52.69224107284282, 'kSkipRatio': 0.7886187855077944, 'kTargetDeterminationTrials': 13, 'kAttractionRatio': 0.010922744504836062, 'kMaxAttractionDistance': 87, 'kStartAttraction': 0.2685149809084879}. Best is trial 144 with value: 6984.345.\u001b[0m\n"
     ]
    },
    {
     "name": "stdout",
     "output_type": "stream",
     "text": [
      "index_parallel='0270'\n"
     ]
    },
    {
     "name": "stderr",
     "output_type": "stream",
     "text": [
      "\u001b[32m[I 2022-08-16 09:52:38,615]\u001b[0m Trial 270 finished with value: 6924.535 and parameters: {'kErase': 3, 'kRadius': 3, 'kAnnealingA': -1.4692501138725111, 'kAnnealingB': 2.7283032646618555, 'kAnnealingStart': 82.31754095412069, 'kSkipRatio': 0.7613067074698275, 'kTargetDeterminationTrials': 12, 'kAttractionRatio': 0.014872669140800708, 'kMaxAttractionDistance': 99, 'kStartAttraction': 0.30359274148787463}. Best is trial 144 with value: 6984.345.\u001b[0m\n"
     ]
    },
    {
     "name": "stdout",
     "output_type": "stream",
     "text": [
      "index_parallel='0272'\n"
     ]
    },
    {
     "name": "stderr",
     "output_type": "stream",
     "text": [
      "\u001b[32m[I 2022-08-16 09:56:30,127]\u001b[0m Trial 272 finished with value: 6954.05 and parameters: {'kErase': 3, 'kRadius': 3, 'kAnnealingA': -2.0320527175986975, 'kAnnealingB': 2.8350233762945396, 'kAnnealingStart': 62.80167845498719, 'kSkipRatio': 0.7453858790256861, 'kTargetDeterminationTrials': 14, 'kAttractionRatio': 0.013341447985469034, 'kMaxAttractionDistance': 68, 'kStartAttraction': 0.2339004738547708}. Best is trial 144 with value: 6984.345.\u001b[0m\n"
     ]
    },
    {
     "name": "stdout",
     "output_type": "stream",
     "text": [
      "index_parallel='0274'\n"
     ]
    },
    {
     "name": "stderr",
     "output_type": "stream",
     "text": [
      "\u001b[32m[I 2022-08-16 10:00:21,761]\u001b[0m Trial 274 finished with value: 6908.885 and parameters: {'kErase': 3, 'kRadius': 3, 'kAnnealingA': -2.0690153396949387, 'kAnnealingB': 2.84410905201751, 'kAnnealingStart': 96.69119554187117, 'kSkipRatio': 0.7343160204186107, 'kTargetDeterminationTrials': 14, 'kAttractionRatio': 0.017281143648943845, 'kMaxAttractionDistance': 92, 'kStartAttraction': 0.13709610296674782}. Best is trial 144 with value: 6984.345.\u001b[0m\n"
     ]
    },
    {
     "name": "stdout",
     "output_type": "stream",
     "text": [
      "index_parallel='0276'\n"
     ]
    },
    {
     "name": "stderr",
     "output_type": "stream",
     "text": [
      "\u001b[32m[I 2022-08-16 10:04:13,347]\u001b[0m Trial 276 finished with value: 6924.325 and parameters: {'kErase': 3, 'kRadius': 3, 'kAnnealingA': -4.130181427645088, 'kAnnealingB': 2.895173925164089, 'kAnnealingStart': 58.46126077926876, 'kSkipRatio': 0.7428675242056416, 'kTargetDeterminationTrials': 11, 'kAttractionRatio': 0.01307326686729557, 'kMaxAttractionDistance': 80, 'kStartAttraction': 0.20331992949046562}. Best is trial 144 with value: 6984.345.\u001b[0m\n"
     ]
    },
    {
     "name": "stdout",
     "output_type": "stream",
     "text": [
      "index_parallel='0278'\n"
     ]
    },
    {
     "name": "stderr",
     "output_type": "stream",
     "text": [
      "\u001b[32m[I 2022-08-16 10:08:04,872]\u001b[0m Trial 278 finished with value: 6932.245 and parameters: {'kErase': 3, 'kRadius': 3, 'kAnnealingA': -1.3852198658500285, 'kAnnealingB': 2.9122297736533733, 'kAnnealingStart': 51.9152092505974, 'kSkipRatio': 0.762992315665794, 'kTargetDeterminationTrials': 9, 'kAttractionRatio': 0.013934114672880462, 'kMaxAttractionDistance': 70, 'kStartAttraction': 0.40024884211946826}. Best is trial 144 with value: 6984.345.\u001b[0m\n"
     ]
    },
    {
     "name": "stdout",
     "output_type": "stream",
     "text": [
      "index_parallel='0280'\n"
     ]
    },
    {
     "name": "stderr",
     "output_type": "stream",
     "text": [
      "\u001b[32m[I 2022-08-16 10:11:56,239]\u001b[0m Trial 280 finished with value: 6949.37 and parameters: {'kErase': 3, 'kRadius': 3, 'kAnnealingA': -1.9543386842036155, 'kAnnealingB': 2.790343178536501, 'kAnnealingStart': 63.61055144727533, 'kSkipRatio': 0.7653669711241984, 'kTargetDeterminationTrials': 4, 'kAttractionRatio': 0.01229306406228116, 'kMaxAttractionDistance': 74, 'kStartAttraction': 0.26943320355292144}. Best is trial 144 with value: 6984.345.\u001b[0m\n"
     ]
    },
    {
     "name": "stdout",
     "output_type": "stream",
     "text": [
      "index_parallel='0282'\n"
     ]
    },
    {
     "name": "stderr",
     "output_type": "stream",
     "text": [
      "\u001b[32m[I 2022-08-16 10:15:48,009]\u001b[0m Trial 282 finished with value: 6905.515 and parameters: {'kErase': 3, 'kRadius': 6, 'kAnnealingA': 0.2796265422483546, 'kAnnealingB': 2.9562430069009524, 'kAnnealingStart': 48.29890426372667, 'kSkipRatio': 0.768864738641338, 'kTargetDeterminationTrials': 10, 'kAttractionRatio': 0.010932241596689547, 'kMaxAttractionDistance': 74, 'kStartAttraction': 0.2595695123328164}. Best is trial 144 with value: 6984.345.\u001b[0m\n"
     ]
    },
    {
     "name": "stdout",
     "output_type": "stream",
     "text": [
      "index_parallel='0284'\n"
     ]
    },
    {
     "name": "stderr",
     "output_type": "stream",
     "text": [
      "\u001b[32m[I 2022-08-16 10:19:39,752]\u001b[0m Trial 284 finished with value: 6958.905 and parameters: {'kErase': 3, 'kRadius': 3, 'kAnnealingA': -1.084478079151196, 'kAnnealingB': 2.7880378492097853, 'kAnnealingStart': 53.794611032123036, 'kSkipRatio': 0.763147662043506, 'kTargetDeterminationTrials': 12, 'kAttractionRatio': 0.012355192475010128, 'kMaxAttractionDistance': 70, 'kStartAttraction': 0.32726881556003296}. Best is trial 144 with value: 6984.345.\u001b[0m\n"
     ]
    },
    {
     "name": "stdout",
     "output_type": "stream",
     "text": [
      "index_parallel='0286'\n"
     ]
    },
    {
     "name": "stderr",
     "output_type": "stream",
     "text": [
      "\u001b[32m[I 2022-08-16 10:23:31,167]\u001b[0m Trial 286 finished with value: 6902.285 and parameters: {'kErase': 3, 'kRadius': 3, 'kAnnealingA': -4.639072227806542, 'kAnnealingB': 2.781742211941223, 'kAnnealingStart': 54.152119036445654, 'kSkipRatio': 0.757296202169409, 'kTargetDeterminationTrials': 4, 'kAttractionRatio': 0.254744689424762, 'kMaxAttractionDistance': 79, 'kStartAttraction': 0.36903864285426125}. Best is trial 144 with value: 6984.345.\u001b[0m\n"
     ]
    },
    {
     "name": "stdout",
     "output_type": "stream",
     "text": [
      "index_parallel='0288'\n"
     ]
    },
    {
     "name": "stderr",
     "output_type": "stream",
     "text": [
      "\u001b[32m[I 2022-08-16 10:27:23,286]\u001b[0m Trial 288 finished with value: 6901.69 and parameters: {'kErase': 3, 'kRadius': 3, 'kAnnealingA': -0.6797913247902605, 'kAnnealingB': 2.9952573050962696, 'kAnnealingStart': 51.86009981626169, 'kSkipRatio': 0.7404923606542408, 'kTargetDeterminationTrials': 9, 'kAttractionRatio': 0.012726139413447479, 'kMaxAttractionDistance': 63, 'kStartAttraction': 0.3698521169132081}. Best is trial 144 with value: 6984.345.\u001b[0m\n"
     ]
    },
    {
     "name": "stdout",
     "output_type": "stream",
     "text": [
      "index_parallel='0290'\n"
     ]
    },
    {
     "name": "stderr",
     "output_type": "stream",
     "text": [
      "\u001b[32m[I 2022-08-16 10:31:14,969]\u001b[0m Trial 290 finished with value: 6894.77 and parameters: {'kErase': 3, 'kRadius': 3, 'kAnnealingA': -0.04602462454647949, 'kAnnealingB': 2.872208873367431, 'kAnnealingStart': 63.852799832655194, 'kSkipRatio': 0.7745193292271118, 'kTargetDeterminationTrials': 11, 'kAttractionRatio': 0.01577930988609041, 'kMaxAttractionDistance': 69, 'kStartAttraction': 0.29848494799108566}. Best is trial 144 with value: 6984.345.\u001b[0m\n"
     ]
    },
    {
     "name": "stdout",
     "output_type": "stream",
     "text": [
      "index_parallel='0292'\n"
     ]
    },
    {
     "name": "stderr",
     "output_type": "stream",
     "text": [
      "\u001b[32m[I 2022-08-16 10:35:06,429]\u001b[0m Trial 292 finished with value: 6946.2 and parameters: {'kErase': 3, 'kRadius': 3, 'kAnnealingA': -2.4036645133429375, 'kAnnealingB': 2.8211606479109146, 'kAnnealingStart': 57.2696477053377, 'kSkipRatio': 0.7778425626996287, 'kTargetDeterminationTrials': 12, 'kAttractionRatio': 0.010789770085316246, 'kMaxAttractionDistance': 84, 'kStartAttraction': 0.13338928923537255}. Best is trial 144 with value: 6984.345.\u001b[0m\n"
     ]
    },
    {
     "name": "stdout",
     "output_type": "stream",
     "text": [
      "index_parallel='0294'\n"
     ]
    },
    {
     "name": "stderr",
     "output_type": "stream",
     "text": [
      "\u001b[33m[W 2022-08-16 10:35:06,655]\u001b[0m Trial 294 failed because of the following error: StorageInternalError('An exception is raised during the commit. This typically happens due to invalid data in the commit, e.g. exceeding max length. ')\u001b[0m\n",
      "Traceback (most recent call last):\n",
      "  File \"/home/user/anaconda3/lib/python3.9/site-packages/sqlalchemy/engine/base.py\", line 1004, in _commit_impl\n",
      "    self.engine.dialect.do_commit(self.connection)\n",
      "  File \"/home/user/anaconda3/lib/python3.9/site-packages/sqlalchemy/engine/default.py\", line 685, in do_commit\n",
      "    dbapi_connection.commit()\n",
      "sqlite3.OperationalError: disk I/O error\n",
      "\n",
      "The above exception was the direct cause of the following exception:\n",
      "\n",
      "Traceback (most recent call last):\n",
      "  File \"/home/user/anaconda3/lib/python3.9/site-packages/optuna/storages/_rdb/storage.py\", line 54, in _create_scoped_session\n",
      "    session.commit()\n",
      "  File \"/home/user/anaconda3/lib/python3.9/site-packages/sqlalchemy/orm/session.py\", line 1431, in commit\n",
      "    self._transaction.commit(_to_root=self.future)\n",
      "  File \"/home/user/anaconda3/lib/python3.9/site-packages/sqlalchemy/orm/session.py\", line 836, in commit\n",
      "    trans.commit()\n",
      "  File \"/home/user/anaconda3/lib/python3.9/site-packages/sqlalchemy/engine/base.py\", line 2367, in commit\n",
      "    self._do_commit()\n",
      "  File \"/home/user/anaconda3/lib/python3.9/site-packages/sqlalchemy/engine/base.py\", line 2557, in _do_commit\n",
      "    self._connection_commit_impl()\n",
      "  File \"/home/user/anaconda3/lib/python3.9/site-packages/sqlalchemy/engine/base.py\", line 2528, in _connection_commit_impl\n",
      "    self.connection._commit_impl()\n",
      "  File \"/home/user/anaconda3/lib/python3.9/site-packages/sqlalchemy/engine/base.py\", line 1006, in _commit_impl\n",
      "    self._handle_dbapi_exception(e, None, None, None, None)\n",
      "  File \"/home/user/anaconda3/lib/python3.9/site-packages/sqlalchemy/engine/base.py\", line 2032, in _handle_dbapi_exception\n",
      "    util.raise_(\n",
      "  File \"/home/user/anaconda3/lib/python3.9/site-packages/sqlalchemy/util/compat.py\", line 207, in raise_\n",
      "    raise exception\n",
      "  File \"/home/user/anaconda3/lib/python3.9/site-packages/sqlalchemy/engine/base.py\", line 1004, in _commit_impl\n",
      "    self.engine.dialect.do_commit(self.connection)\n",
      "  File \"/home/user/anaconda3/lib/python3.9/site-packages/sqlalchemy/engine/default.py\", line 685, in do_commit\n",
      "    dbapi_connection.commit()\n",
      "sqlalchemy.exc.OperationalError: (sqlite3.OperationalError) disk I/O error\n",
      "(Background on this error at: https://sqlalche.me/e/14/e3q8)\n",
      "\n",
      "The above exception was the direct cause of the following exception:\n",
      "\n",
      "Traceback (most recent call last):\n",
      "  File \"/home/user/anaconda3/lib/python3.9/site-packages/optuna/study/_optimize.py\", line 213, in _run_trial\n",
      "    value_or_values = func(trial)\n",
      "  File \"/tmp/ipykernel_14616/2974339748.py\", line 43, in objective\n",
      "    val = getattr(trial, variable[\"method\"])(variable[\"name\"], variable[\"min\"], variable[\"max\"], log=variable[\"log\"])\n",
      "  File \"/home/user/anaconda3/lib/python3.9/site-packages/optuna/trial/_trial.py\", line 452, in suggest_int\n",
      "    return int(self._suggest(name, distribution))\n",
      "  File \"/home/user/anaconda3/lib/python3.9/site-packages/optuna/trial/_trial.py\", line 724, in _suggest\n",
      "    storage.set_trial_param(trial_id, name, param_value_in_internal_repr, distribution)\n",
      "  File \"/home/user/anaconda3/lib/python3.9/site-packages/optuna/storages/_cached_storage.py\", line 269, in set_trial_param\n",
      "    self._flush_trial(trial_id)\n",
      "  File \"/home/user/anaconda3/lib/python3.9/site-packages/optuna/storages/_cached_storage.py\", line 428, in _flush_trial\n",
      "    return self._backend._update_trial(\n",
      "  File \"/home/user/anaconda3/lib/python3.9/site-packages/optuna/storages/_rdb/storage.py\", line 768, in _update_trial\n",
      "    session.add(trial_model)\n",
      "  File \"/home/user/anaconda3/lib/python3.9/contextlib.py\", line 126, in __exit__\n",
      "    next(self.gen)\n",
      "  File \"/home/user/anaconda3/lib/python3.9/site-packages/optuna/storages/_rdb/storage.py\", line 71, in _create_scoped_session\n",
      "    raise optuna.exceptions.StorageInternalError(message) from e\n",
      "optuna.exceptions.StorageInternalError: An exception is raised during the commit. This typically happens due to invalid data in the commit, e.g. exceeding max length. \n"
     ]
    },
    {
     "ename": "StorageInternalError",
     "evalue": "An exception is raised during the commit. This typically happens due to invalid data in the commit, e.g. exceeding max length. ",
     "output_type": "error",
     "traceback": [
      "\u001b[0;31m---------------------------------------------------------------------------\u001b[0m",
      "\u001b[0;31mOperationalError\u001b[0m                          Traceback (most recent call last)",
      "File \u001b[0;32m~/anaconda3/lib/python3.9/site-packages/sqlalchemy/engine/base.py:1808\u001b[0m, in \u001b[0;36mConnection._execute_context\u001b[0;34m(self, dialect, constructor, statement, parameters, execution_options, *args, **kw)\u001b[0m\n\u001b[1;32m   1807\u001b[0m     \u001b[38;5;28;01mif\u001b[39;00m \u001b[38;5;129;01mnot\u001b[39;00m evt_handled:\n\u001b[0;32m-> 1808\u001b[0m         \u001b[38;5;28;43mself\u001b[39;49m\u001b[38;5;241;43m.\u001b[39;49m\u001b[43mdialect\u001b[49m\u001b[38;5;241;43m.\u001b[39;49m\u001b[43mdo_execute\u001b[49m\u001b[43m(\u001b[49m\n\u001b[1;32m   1809\u001b[0m \u001b[43m            \u001b[49m\u001b[43mcursor\u001b[49m\u001b[43m,\u001b[49m\u001b[43m \u001b[49m\u001b[43mstatement\u001b[49m\u001b[43m,\u001b[49m\u001b[43m \u001b[49m\u001b[43mparameters\u001b[49m\u001b[43m,\u001b[49m\u001b[43m \u001b[49m\u001b[43mcontext\u001b[49m\n\u001b[1;32m   1810\u001b[0m \u001b[43m        \u001b[49m\u001b[43m)\u001b[49m\n\u001b[1;32m   1812\u001b[0m \u001b[38;5;28;01mif\u001b[39;00m \u001b[38;5;28mself\u001b[39m\u001b[38;5;241m.\u001b[39m_has_events \u001b[38;5;129;01mor\u001b[39;00m \u001b[38;5;28mself\u001b[39m\u001b[38;5;241m.\u001b[39mengine\u001b[38;5;241m.\u001b[39m_has_events:\n",
      "File \u001b[0;32m~/anaconda3/lib/python3.9/site-packages/sqlalchemy/engine/default.py:732\u001b[0m, in \u001b[0;36mDefaultDialect.do_execute\u001b[0;34m(self, cursor, statement, parameters, context)\u001b[0m\n\u001b[1;32m    731\u001b[0m \u001b[38;5;28;01mdef\u001b[39;00m \u001b[38;5;21mdo_execute\u001b[39m(\u001b[38;5;28mself\u001b[39m, cursor, statement, parameters, context\u001b[38;5;241m=\u001b[39m\u001b[38;5;28;01mNone\u001b[39;00m):\n\u001b[0;32m--> 732\u001b[0m     \u001b[43mcursor\u001b[49m\u001b[38;5;241;43m.\u001b[39;49m\u001b[43mexecute\u001b[49m\u001b[43m(\u001b[49m\u001b[43mstatement\u001b[49m\u001b[43m,\u001b[49m\u001b[43m \u001b[49m\u001b[43mparameters\u001b[49m\u001b[43m)\u001b[49m\n",
      "\u001b[0;31mOperationalError\u001b[0m: unable to open database file",
      "\nThe above exception was the direct cause of the following exception:\n",
      "\u001b[0;31mOperationalError\u001b[0m                          Traceback (most recent call last)",
      "File \u001b[0;32m~/anaconda3/lib/python3.9/site-packages/optuna/storages/_rdb/storage.py:54\u001b[0m, in \u001b[0;36m_create_scoped_session\u001b[0;34m(scoped_session, ignore_integrity_error)\u001b[0m\n\u001b[1;32m     53\u001b[0m     \u001b[38;5;28;01myield\u001b[39;00m session\n\u001b[0;32m---> 54\u001b[0m     \u001b[43msession\u001b[49m\u001b[38;5;241;43m.\u001b[39;49m\u001b[43mcommit\u001b[49m\u001b[43m(\u001b[49m\u001b[43m)\u001b[49m\n\u001b[1;32m     55\u001b[0m \u001b[38;5;28;01mexcept\u001b[39;00m IntegrityError \u001b[38;5;28;01mas\u001b[39;00m e:\n",
      "File \u001b[0;32m~/anaconda3/lib/python3.9/site-packages/sqlalchemy/orm/session.py:1431\u001b[0m, in \u001b[0;36mSession.commit\u001b[0;34m(self)\u001b[0m\n\u001b[1;32m   1429\u001b[0m         \u001b[38;5;28;01mraise\u001b[39;00m sa_exc\u001b[38;5;241m.\u001b[39mInvalidRequestError(\u001b[38;5;124m\"\u001b[39m\u001b[38;5;124mNo transaction is begun.\u001b[39m\u001b[38;5;124m\"\u001b[39m)\n\u001b[0;32m-> 1431\u001b[0m \u001b[38;5;28;43mself\u001b[39;49m\u001b[38;5;241;43m.\u001b[39;49m\u001b[43m_transaction\u001b[49m\u001b[38;5;241;43m.\u001b[39;49m\u001b[43mcommit\u001b[49m\u001b[43m(\u001b[49m\u001b[43m_to_root\u001b[49m\u001b[38;5;241;43m=\u001b[39;49m\u001b[38;5;28;43mself\u001b[39;49m\u001b[38;5;241;43m.\u001b[39;49m\u001b[43mfuture\u001b[49m\u001b[43m)\u001b[49m\n",
      "File \u001b[0;32m~/anaconda3/lib/python3.9/site-packages/sqlalchemy/orm/session.py:829\u001b[0m, in \u001b[0;36mSessionTransaction.commit\u001b[0;34m(self, _to_root)\u001b[0m\n\u001b[1;32m    828\u001b[0m \u001b[38;5;28;01mif\u001b[39;00m \u001b[38;5;28mself\u001b[39m\u001b[38;5;241m.\u001b[39m_state \u001b[38;5;129;01mis\u001b[39;00m \u001b[38;5;129;01mnot\u001b[39;00m PREPARED:\n\u001b[0;32m--> 829\u001b[0m     \u001b[38;5;28;43mself\u001b[39;49m\u001b[38;5;241;43m.\u001b[39;49m\u001b[43m_prepare_impl\u001b[49m\u001b[43m(\u001b[49m\u001b[43m)\u001b[49m\n\u001b[1;32m    831\u001b[0m \u001b[38;5;28;01mif\u001b[39;00m \u001b[38;5;28mself\u001b[39m\u001b[38;5;241m.\u001b[39m_parent \u001b[38;5;129;01mis\u001b[39;00m \u001b[38;5;28;01mNone\u001b[39;00m \u001b[38;5;129;01mor\u001b[39;00m \u001b[38;5;28mself\u001b[39m\u001b[38;5;241m.\u001b[39mnested:\n",
      "File \u001b[0;32m~/anaconda3/lib/python3.9/site-packages/sqlalchemy/orm/session.py:808\u001b[0m, in \u001b[0;36mSessionTransaction._prepare_impl\u001b[0;34m(self)\u001b[0m\n\u001b[1;32m    807\u001b[0m         \u001b[38;5;28;01mbreak\u001b[39;00m\n\u001b[0;32m--> 808\u001b[0m     \u001b[38;5;28;43mself\u001b[39;49m\u001b[38;5;241;43m.\u001b[39;49m\u001b[43msession\u001b[49m\u001b[38;5;241;43m.\u001b[39;49m\u001b[43mflush\u001b[49m\u001b[43m(\u001b[49m\u001b[43m)\u001b[49m\n\u001b[1;32m    809\u001b[0m \u001b[38;5;28;01melse\u001b[39;00m:\n",
      "File \u001b[0;32m~/anaconda3/lib/python3.9/site-packages/sqlalchemy/orm/session.py:3363\u001b[0m, in \u001b[0;36mSession.flush\u001b[0;34m(self, objects)\u001b[0m\n\u001b[1;32m   3362\u001b[0m     \u001b[38;5;28mself\u001b[39m\u001b[38;5;241m.\u001b[39m_flushing \u001b[38;5;241m=\u001b[39m \u001b[38;5;28;01mTrue\u001b[39;00m\n\u001b[0;32m-> 3363\u001b[0m     \u001b[38;5;28;43mself\u001b[39;49m\u001b[38;5;241;43m.\u001b[39;49m\u001b[43m_flush\u001b[49m\u001b[43m(\u001b[49m\u001b[43mobjects\u001b[49m\u001b[43m)\u001b[49m\n\u001b[1;32m   3364\u001b[0m \u001b[38;5;28;01mfinally\u001b[39;00m:\n",
      "File \u001b[0;32m~/anaconda3/lib/python3.9/site-packages/sqlalchemy/orm/session.py:3503\u001b[0m, in \u001b[0;36mSession._flush\u001b[0;34m(self, objects)\u001b[0m\n\u001b[1;32m   3502\u001b[0m \u001b[38;5;28;01mwith\u001b[39;00m util\u001b[38;5;241m.\u001b[39msafe_reraise():\n\u001b[0;32m-> 3503\u001b[0m     transaction\u001b[38;5;241m.\u001b[39mrollback(_capture_exception\u001b[38;5;241m=\u001b[39m\u001b[38;5;28;01mTrue\u001b[39;00m)\n",
      "File \u001b[0;32m~/anaconda3/lib/python3.9/site-packages/sqlalchemy/util/langhelpers.py:70\u001b[0m, in \u001b[0;36msafe_reraise.__exit__\u001b[0;34m(self, type_, value, traceback)\u001b[0m\n\u001b[1;32m     69\u001b[0m     \u001b[38;5;28;01mif\u001b[39;00m \u001b[38;5;129;01mnot\u001b[39;00m \u001b[38;5;28mself\u001b[39m\u001b[38;5;241m.\u001b[39mwarn_only:\n\u001b[0;32m---> 70\u001b[0m         \u001b[43mcompat\u001b[49m\u001b[38;5;241;43m.\u001b[39;49m\u001b[43mraise_\u001b[49m\u001b[43m(\u001b[49m\n\u001b[1;32m     71\u001b[0m \u001b[43m            \u001b[49m\u001b[43mexc_value\u001b[49m\u001b[43m,\u001b[49m\n\u001b[1;32m     72\u001b[0m \u001b[43m            \u001b[49m\u001b[43mwith_traceback\u001b[49m\u001b[38;5;241;43m=\u001b[39;49m\u001b[43mexc_tb\u001b[49m\u001b[43m,\u001b[49m\n\u001b[1;32m     73\u001b[0m \u001b[43m        \u001b[49m\u001b[43m)\u001b[49m\n\u001b[1;32m     74\u001b[0m \u001b[38;5;28;01melse\u001b[39;00m:\n",
      "File \u001b[0;32m~/anaconda3/lib/python3.9/site-packages/sqlalchemy/util/compat.py:207\u001b[0m, in \u001b[0;36mraise_\u001b[0;34m(***failed resolving arguments***)\u001b[0m\n\u001b[1;32m    206\u001b[0m \u001b[38;5;28;01mtry\u001b[39;00m:\n\u001b[0;32m--> 207\u001b[0m     \u001b[38;5;28;01mraise\u001b[39;00m exception\n\u001b[1;32m    208\u001b[0m \u001b[38;5;28;01mfinally\u001b[39;00m:\n\u001b[1;32m    209\u001b[0m     \u001b[38;5;66;03m# credit to\u001b[39;00m\n\u001b[1;32m    210\u001b[0m     \u001b[38;5;66;03m# https://cosmicpercolator.com/2016/01/13/exception-leaks-in-python-2-and-3/\u001b[39;00m\n\u001b[1;32m    211\u001b[0m     \u001b[38;5;66;03m# as the __traceback__ object creates a cycle\u001b[39;00m\n",
      "File \u001b[0;32m~/anaconda3/lib/python3.9/site-packages/sqlalchemy/orm/session.py:3463\u001b[0m, in \u001b[0;36mSession._flush\u001b[0;34m(self, objects)\u001b[0m\n\u001b[1;32m   3462\u001b[0m \u001b[38;5;28;01mtry\u001b[39;00m:\n\u001b[0;32m-> 3463\u001b[0m     \u001b[43mflush_context\u001b[49m\u001b[38;5;241;43m.\u001b[39;49m\u001b[43mexecute\u001b[49m\u001b[43m(\u001b[49m\u001b[43m)\u001b[49m\n\u001b[1;32m   3464\u001b[0m \u001b[38;5;28;01mfinally\u001b[39;00m:\n",
      "File \u001b[0;32m~/anaconda3/lib/python3.9/site-packages/sqlalchemy/orm/unitofwork.py:456\u001b[0m, in \u001b[0;36mUOWTransaction.execute\u001b[0;34m(self)\u001b[0m\n\u001b[1;32m    455\u001b[0m \u001b[38;5;28;01mfor\u001b[39;00m rec \u001b[38;5;129;01min\u001b[39;00m topological\u001b[38;5;241m.\u001b[39msort(\u001b[38;5;28mself\u001b[39m\u001b[38;5;241m.\u001b[39mdependencies, postsort_actions):\n\u001b[0;32m--> 456\u001b[0m     \u001b[43mrec\u001b[49m\u001b[38;5;241;43m.\u001b[39;49m\u001b[43mexecute\u001b[49m\u001b[43m(\u001b[49m\u001b[38;5;28;43mself\u001b[39;49m\u001b[43m)\u001b[49m\n",
      "File \u001b[0;32m~/anaconda3/lib/python3.9/site-packages/sqlalchemy/orm/unitofwork.py:630\u001b[0m, in \u001b[0;36mSaveUpdateAll.execute\u001b[0;34m(self, uow)\u001b[0m\n\u001b[1;32m    628\u001b[0m \u001b[38;5;129m@util\u001b[39m\u001b[38;5;241m.\u001b[39mpreload_module(\u001b[38;5;124m\"\u001b[39m\u001b[38;5;124msqlalchemy.orm.persistence\u001b[39m\u001b[38;5;124m\"\u001b[39m)\n\u001b[1;32m    629\u001b[0m \u001b[38;5;28;01mdef\u001b[39;00m \u001b[38;5;21mexecute\u001b[39m(\u001b[38;5;28mself\u001b[39m, uow):\n\u001b[0;32m--> 630\u001b[0m     \u001b[43mutil\u001b[49m\u001b[38;5;241;43m.\u001b[39;49m\u001b[43mpreloaded\u001b[49m\u001b[38;5;241;43m.\u001b[39;49m\u001b[43morm_persistence\u001b[49m\u001b[38;5;241;43m.\u001b[39;49m\u001b[43msave_obj\u001b[49m\u001b[43m(\u001b[49m\n\u001b[1;32m    631\u001b[0m \u001b[43m        \u001b[49m\u001b[38;5;28;43mself\u001b[39;49m\u001b[38;5;241;43m.\u001b[39;49m\u001b[43mmapper\u001b[49m\u001b[43m,\u001b[49m\n\u001b[1;32m    632\u001b[0m \u001b[43m        \u001b[49m\u001b[43muow\u001b[49m\u001b[38;5;241;43m.\u001b[39;49m\u001b[43mstates_for_mapper_hierarchy\u001b[49m\u001b[43m(\u001b[49m\u001b[38;5;28;43mself\u001b[39;49m\u001b[38;5;241;43m.\u001b[39;49m\u001b[43mmapper\u001b[49m\u001b[43m,\u001b[49m\u001b[43m \u001b[49m\u001b[38;5;28;43;01mFalse\u001b[39;49;00m\u001b[43m,\u001b[49m\u001b[43m \u001b[49m\u001b[38;5;28;43;01mFalse\u001b[39;49;00m\u001b[43m)\u001b[49m\u001b[43m,\u001b[49m\n\u001b[1;32m    633\u001b[0m \u001b[43m        \u001b[49m\u001b[43muow\u001b[49m\u001b[43m,\u001b[49m\n\u001b[1;32m    634\u001b[0m \u001b[43m    \u001b[49m\u001b[43m)\u001b[49m\n",
      "File \u001b[0;32m~/anaconda3/lib/python3.9/site-packages/sqlalchemy/orm/persistence.py:236\u001b[0m, in \u001b[0;36msave_obj\u001b[0;34m(base_mapper, states, uowtransaction, single)\u001b[0m\n\u001b[1;32m    232\u001b[0m update \u001b[38;5;241m=\u001b[39m _collect_update_commands(\n\u001b[1;32m    233\u001b[0m     uowtransaction, table, states_to_update\n\u001b[1;32m    234\u001b[0m )\n\u001b[0;32m--> 236\u001b[0m \u001b[43m_emit_update_statements\u001b[49m\u001b[43m(\u001b[49m\n\u001b[1;32m    237\u001b[0m \u001b[43m    \u001b[49m\u001b[43mbase_mapper\u001b[49m\u001b[43m,\u001b[49m\n\u001b[1;32m    238\u001b[0m \u001b[43m    \u001b[49m\u001b[43muowtransaction\u001b[49m\u001b[43m,\u001b[49m\n\u001b[1;32m    239\u001b[0m \u001b[43m    \u001b[49m\u001b[43mmapper\u001b[49m\u001b[43m,\u001b[49m\n\u001b[1;32m    240\u001b[0m \u001b[43m    \u001b[49m\u001b[43mtable\u001b[49m\u001b[43m,\u001b[49m\n\u001b[1;32m    241\u001b[0m \u001b[43m    \u001b[49m\u001b[43mupdate\u001b[49m\u001b[43m,\u001b[49m\n\u001b[1;32m    242\u001b[0m \u001b[43m\u001b[49m\u001b[43m)\u001b[49m\n\u001b[1;32m    244\u001b[0m _emit_insert_statements(\n\u001b[1;32m    245\u001b[0m     base_mapper,\n\u001b[1;32m    246\u001b[0m     uowtransaction,\n\u001b[0;32m   (...)\u001b[0m\n\u001b[1;32m    249\u001b[0m     insert,\n\u001b[1;32m    250\u001b[0m )\n",
      "File \u001b[0;32m~/anaconda3/lib/python3.9/site-packages/sqlalchemy/orm/persistence.py:1000\u001b[0m, in \u001b[0;36m_emit_update_statements\u001b[0;34m(base_mapper, uowtransaction, mapper, table, update, bookkeeping)\u001b[0m\n\u001b[1;32m    996\u001b[0m check_rowcount \u001b[38;5;241m=\u001b[39m assert_multirow \u001b[38;5;129;01mor\u001b[39;00m (\n\u001b[1;32m    997\u001b[0m     assert_singlerow \u001b[38;5;129;01mand\u001b[39;00m \u001b[38;5;28mlen\u001b[39m(multiparams) \u001b[38;5;241m==\u001b[39m \u001b[38;5;241m1\u001b[39m\n\u001b[1;32m    998\u001b[0m )\n\u001b[0;32m-> 1000\u001b[0m c \u001b[38;5;241m=\u001b[39m \u001b[43mconnection\u001b[49m\u001b[38;5;241;43m.\u001b[39;49m\u001b[43m_execute_20\u001b[49m\u001b[43m(\u001b[49m\n\u001b[1;32m   1001\u001b[0m \u001b[43m    \u001b[49m\u001b[43mstatement\u001b[49m\u001b[43m,\u001b[49m\u001b[43m \u001b[49m\u001b[43mmultiparams\u001b[49m\u001b[43m,\u001b[49m\u001b[43m \u001b[49m\u001b[43mexecution_options\u001b[49m\u001b[38;5;241;43m=\u001b[39;49m\u001b[43mexecution_options\u001b[49m\n\u001b[1;32m   1002\u001b[0m \u001b[43m\u001b[49m\u001b[43m)\u001b[49m\n\u001b[1;32m   1004\u001b[0m rows \u001b[38;5;241m+\u001b[39m\u001b[38;5;241m=\u001b[39m c\u001b[38;5;241m.\u001b[39mrowcount\n",
      "File \u001b[0;32m~/anaconda3/lib/python3.9/site-packages/sqlalchemy/engine/base.py:1620\u001b[0m, in \u001b[0;36mConnection._execute_20\u001b[0;34m(self, statement, parameters, execution_options)\u001b[0m\n\u001b[1;32m   1619\u001b[0m \u001b[38;5;28;01melse\u001b[39;00m:\n\u001b[0;32m-> 1620\u001b[0m     \u001b[38;5;28;01mreturn\u001b[39;00m \u001b[43mmeth\u001b[49m\u001b[43m(\u001b[49m\u001b[38;5;28;43mself\u001b[39;49m\u001b[43m,\u001b[49m\u001b[43m \u001b[49m\u001b[43margs_10style\u001b[49m\u001b[43m,\u001b[49m\u001b[43m \u001b[49m\u001b[43mkwargs_10style\u001b[49m\u001b[43m,\u001b[49m\u001b[43m \u001b[49m\u001b[43mexecution_options\u001b[49m\u001b[43m)\u001b[49m\n",
      "File \u001b[0;32m~/anaconda3/lib/python3.9/site-packages/sqlalchemy/sql/elements.py:325\u001b[0m, in \u001b[0;36mClauseElement._execute_on_connection\u001b[0;34m(self, connection, multiparams, params, execution_options, _force)\u001b[0m\n\u001b[1;32m    324\u001b[0m \u001b[38;5;28;01mif\u001b[39;00m _force \u001b[38;5;129;01mor\u001b[39;00m \u001b[38;5;28mself\u001b[39m\u001b[38;5;241m.\u001b[39msupports_execution:\n\u001b[0;32m--> 325\u001b[0m     \u001b[38;5;28;01mreturn\u001b[39;00m \u001b[43mconnection\u001b[49m\u001b[38;5;241;43m.\u001b[39;49m\u001b[43m_execute_clauseelement\u001b[49m\u001b[43m(\u001b[49m\n\u001b[1;32m    326\u001b[0m \u001b[43m        \u001b[49m\u001b[38;5;28;43mself\u001b[39;49m\u001b[43m,\u001b[49m\u001b[43m \u001b[49m\u001b[43mmultiparams\u001b[49m\u001b[43m,\u001b[49m\u001b[43m \u001b[49m\u001b[43mparams\u001b[49m\u001b[43m,\u001b[49m\u001b[43m \u001b[49m\u001b[43mexecution_options\u001b[49m\n\u001b[1;32m    327\u001b[0m \u001b[43m    \u001b[49m\u001b[43m)\u001b[49m\n\u001b[1;32m    328\u001b[0m \u001b[38;5;28;01melse\u001b[39;00m:\n",
      "File \u001b[0;32m~/anaconda3/lib/python3.9/site-packages/sqlalchemy/engine/base.py:1487\u001b[0m, in \u001b[0;36mConnection._execute_clauseelement\u001b[0;34m(self, elem, multiparams, params, execution_options)\u001b[0m\n\u001b[1;32m   1479\u001b[0m compiled_sql, extracted_params, cache_hit \u001b[38;5;241m=\u001b[39m elem\u001b[38;5;241m.\u001b[39m_compile_w_cache(\n\u001b[1;32m   1480\u001b[0m     dialect\u001b[38;5;241m=\u001b[39mdialect,\n\u001b[1;32m   1481\u001b[0m     compiled_cache\u001b[38;5;241m=\u001b[39mcompiled_cache,\n\u001b[0;32m   (...)\u001b[0m\n\u001b[1;32m   1485\u001b[0m     linting\u001b[38;5;241m=\u001b[39m\u001b[38;5;28mself\u001b[39m\u001b[38;5;241m.\u001b[39mdialect\u001b[38;5;241m.\u001b[39mcompiler_linting \u001b[38;5;241m|\u001b[39m compiler\u001b[38;5;241m.\u001b[39mWARN_LINTING,\n\u001b[1;32m   1486\u001b[0m )\n\u001b[0;32m-> 1487\u001b[0m ret \u001b[38;5;241m=\u001b[39m \u001b[38;5;28;43mself\u001b[39;49m\u001b[38;5;241;43m.\u001b[39;49m\u001b[43m_execute_context\u001b[49m\u001b[43m(\u001b[49m\n\u001b[1;32m   1488\u001b[0m \u001b[43m    \u001b[49m\u001b[43mdialect\u001b[49m\u001b[43m,\u001b[49m\n\u001b[1;32m   1489\u001b[0m \u001b[43m    \u001b[49m\u001b[43mdialect\u001b[49m\u001b[38;5;241;43m.\u001b[39;49m\u001b[43mexecution_ctx_cls\u001b[49m\u001b[38;5;241;43m.\u001b[39;49m\u001b[43m_init_compiled\u001b[49m\u001b[43m,\u001b[49m\n\u001b[1;32m   1490\u001b[0m \u001b[43m    \u001b[49m\u001b[43mcompiled_sql\u001b[49m\u001b[43m,\u001b[49m\n\u001b[1;32m   1491\u001b[0m \u001b[43m    \u001b[49m\u001b[43mdistilled_params\u001b[49m\u001b[43m,\u001b[49m\n\u001b[1;32m   1492\u001b[0m \u001b[43m    \u001b[49m\u001b[43mexecution_options\u001b[49m\u001b[43m,\u001b[49m\n\u001b[1;32m   1493\u001b[0m \u001b[43m    \u001b[49m\u001b[43mcompiled_sql\u001b[49m\u001b[43m,\u001b[49m\n\u001b[1;32m   1494\u001b[0m \u001b[43m    \u001b[49m\u001b[43mdistilled_params\u001b[49m\u001b[43m,\u001b[49m\n\u001b[1;32m   1495\u001b[0m \u001b[43m    \u001b[49m\u001b[43melem\u001b[49m\u001b[43m,\u001b[49m\n\u001b[1;32m   1496\u001b[0m \u001b[43m    \u001b[49m\u001b[43mextracted_params\u001b[49m\u001b[43m,\u001b[49m\n\u001b[1;32m   1497\u001b[0m \u001b[43m    \u001b[49m\u001b[43mcache_hit\u001b[49m\u001b[38;5;241;43m=\u001b[39;49m\u001b[43mcache_hit\u001b[49m\u001b[43m,\u001b[49m\n\u001b[1;32m   1498\u001b[0m \u001b[43m\u001b[49m\u001b[43m)\u001b[49m\n\u001b[1;32m   1499\u001b[0m \u001b[38;5;28;01mif\u001b[39;00m has_events:\n",
      "File \u001b[0;32m~/anaconda3/lib/python3.9/site-packages/sqlalchemy/engine/base.py:1851\u001b[0m, in \u001b[0;36mConnection._execute_context\u001b[0;34m(self, dialect, constructor, statement, parameters, execution_options, *args, **kw)\u001b[0m\n\u001b[1;32m   1850\u001b[0m \u001b[38;5;28;01mexcept\u001b[39;00m \u001b[38;5;167;01mBaseException\u001b[39;00m \u001b[38;5;28;01mas\u001b[39;00m e:\n\u001b[0;32m-> 1851\u001b[0m     \u001b[38;5;28;43mself\u001b[39;49m\u001b[38;5;241;43m.\u001b[39;49m\u001b[43m_handle_dbapi_exception\u001b[49m\u001b[43m(\u001b[49m\n\u001b[1;32m   1852\u001b[0m \u001b[43m        \u001b[49m\u001b[43me\u001b[49m\u001b[43m,\u001b[49m\u001b[43m \u001b[49m\u001b[43mstatement\u001b[49m\u001b[43m,\u001b[49m\u001b[43m \u001b[49m\u001b[43mparameters\u001b[49m\u001b[43m,\u001b[49m\u001b[43m \u001b[49m\u001b[43mcursor\u001b[49m\u001b[43m,\u001b[49m\u001b[43m \u001b[49m\u001b[43mcontext\u001b[49m\n\u001b[1;32m   1853\u001b[0m \u001b[43m    \u001b[49m\u001b[43m)\u001b[49m\n\u001b[1;32m   1855\u001b[0m \u001b[38;5;28;01mreturn\u001b[39;00m result\n",
      "File \u001b[0;32m~/anaconda3/lib/python3.9/site-packages/sqlalchemy/engine/base.py:2032\u001b[0m, in \u001b[0;36mConnection._handle_dbapi_exception\u001b[0;34m(self, e, statement, parameters, cursor, context)\u001b[0m\n\u001b[1;32m   2031\u001b[0m \u001b[38;5;28;01melif\u001b[39;00m should_wrap:\n\u001b[0;32m-> 2032\u001b[0m     \u001b[43mutil\u001b[49m\u001b[38;5;241;43m.\u001b[39;49m\u001b[43mraise_\u001b[49m\u001b[43m(\u001b[49m\n\u001b[1;32m   2033\u001b[0m \u001b[43m        \u001b[49m\u001b[43msqlalchemy_exception\u001b[49m\u001b[43m,\u001b[49m\u001b[43m \u001b[49m\u001b[43mwith_traceback\u001b[49m\u001b[38;5;241;43m=\u001b[39;49m\u001b[43mexc_info\u001b[49m\u001b[43m[\u001b[49m\u001b[38;5;241;43m2\u001b[39;49m\u001b[43m]\u001b[49m\u001b[43m,\u001b[49m\u001b[43m \u001b[49m\u001b[43mfrom_\u001b[49m\u001b[38;5;241;43m=\u001b[39;49m\u001b[43me\u001b[49m\n\u001b[1;32m   2034\u001b[0m \u001b[43m    \u001b[49m\u001b[43m)\u001b[49m\n\u001b[1;32m   2035\u001b[0m \u001b[38;5;28;01melse\u001b[39;00m:\n",
      "File \u001b[0;32m~/anaconda3/lib/python3.9/site-packages/sqlalchemy/util/compat.py:207\u001b[0m, in \u001b[0;36mraise_\u001b[0;34m(***failed resolving arguments***)\u001b[0m\n\u001b[1;32m    206\u001b[0m \u001b[38;5;28;01mtry\u001b[39;00m:\n\u001b[0;32m--> 207\u001b[0m     \u001b[38;5;28;01mraise\u001b[39;00m exception\n\u001b[1;32m    208\u001b[0m \u001b[38;5;28;01mfinally\u001b[39;00m:\n\u001b[1;32m    209\u001b[0m     \u001b[38;5;66;03m# credit to\u001b[39;00m\n\u001b[1;32m    210\u001b[0m     \u001b[38;5;66;03m# https://cosmicpercolator.com/2016/01/13/exception-leaks-in-python-2-and-3/\u001b[39;00m\n\u001b[1;32m    211\u001b[0m     \u001b[38;5;66;03m# as the __traceback__ object creates a cycle\u001b[39;00m\n",
      "File \u001b[0;32m~/anaconda3/lib/python3.9/site-packages/sqlalchemy/engine/base.py:1808\u001b[0m, in \u001b[0;36mConnection._execute_context\u001b[0;34m(self, dialect, constructor, statement, parameters, execution_options, *args, **kw)\u001b[0m\n\u001b[1;32m   1807\u001b[0m     \u001b[38;5;28;01mif\u001b[39;00m \u001b[38;5;129;01mnot\u001b[39;00m evt_handled:\n\u001b[0;32m-> 1808\u001b[0m         \u001b[38;5;28;43mself\u001b[39;49m\u001b[38;5;241;43m.\u001b[39;49m\u001b[43mdialect\u001b[49m\u001b[38;5;241;43m.\u001b[39;49m\u001b[43mdo_execute\u001b[49m\u001b[43m(\u001b[49m\n\u001b[1;32m   1809\u001b[0m \u001b[43m            \u001b[49m\u001b[43mcursor\u001b[49m\u001b[43m,\u001b[49m\u001b[43m \u001b[49m\u001b[43mstatement\u001b[49m\u001b[43m,\u001b[49m\u001b[43m \u001b[49m\u001b[43mparameters\u001b[49m\u001b[43m,\u001b[49m\u001b[43m \u001b[49m\u001b[43mcontext\u001b[49m\n\u001b[1;32m   1810\u001b[0m \u001b[43m        \u001b[49m\u001b[43m)\u001b[49m\n\u001b[1;32m   1812\u001b[0m \u001b[38;5;28;01mif\u001b[39;00m \u001b[38;5;28mself\u001b[39m\u001b[38;5;241m.\u001b[39m_has_events \u001b[38;5;129;01mor\u001b[39;00m \u001b[38;5;28mself\u001b[39m\u001b[38;5;241m.\u001b[39mengine\u001b[38;5;241m.\u001b[39m_has_events:\n",
      "File \u001b[0;32m~/anaconda3/lib/python3.9/site-packages/sqlalchemy/engine/default.py:732\u001b[0m, in \u001b[0;36mDefaultDialect.do_execute\u001b[0;34m(self, cursor, statement, parameters, context)\u001b[0m\n\u001b[1;32m    731\u001b[0m \u001b[38;5;28;01mdef\u001b[39;00m \u001b[38;5;21mdo_execute\u001b[39m(\u001b[38;5;28mself\u001b[39m, cursor, statement, parameters, context\u001b[38;5;241m=\u001b[39m\u001b[38;5;28;01mNone\u001b[39;00m):\n\u001b[0;32m--> 732\u001b[0m     \u001b[43mcursor\u001b[49m\u001b[38;5;241;43m.\u001b[39;49m\u001b[43mexecute\u001b[49m\u001b[43m(\u001b[49m\u001b[43mstatement\u001b[49m\u001b[43m,\u001b[49m\u001b[43m \u001b[49m\u001b[43mparameters\u001b[49m\u001b[43m)\u001b[49m\n",
      "\u001b[0;31mOperationalError\u001b[0m: (sqlite3.OperationalError) unable to open database file\n[SQL: UPDATE trials SET state=?, datetime_complete=? WHERE trials.trial_id = ?]\n[parameters: ('FAIL', '2022-08-16 10:35:06.651951', 295)]\n(Background on this error at: https://sqlalche.me/e/14/e3q8)",
      "\nThe above exception was the direct cause of the following exception:\n",
      "\u001b[0;31mStorageInternalError\u001b[0m                      Traceback (most recent call last)",
      "Input \u001b[0;32mIn [5]\u001b[0m, in \u001b[0;36m<cell line: 1>\u001b[0;34m()\u001b[0m\n\u001b[0;32m----> 1\u001b[0m \u001b[43mstudy\u001b[49m\u001b[38;5;241;43m.\u001b[39;49m\u001b[43moptimize\u001b[49m\u001b[43m(\u001b[49m\n\u001b[1;32m      2\u001b[0m \u001b[43m    \u001b[49m\u001b[43mpartial\u001b[49m\u001b[43m(\u001b[49m\u001b[43mobjective\u001b[49m\u001b[43m,\u001b[49m\u001b[43m \u001b[49m\u001b[43min_dir\u001b[49m\u001b[38;5;241;43m=\u001b[39;49m\u001b[43min_dir\u001b[49m\u001b[43m,\u001b[49m\u001b[43m \u001b[49m\u001b[43mwork_dir\u001b[49m\u001b[38;5;241;43m=\u001b[39;49m\u001b[43mwork_dir\u001b[49m\u001b[43m)\u001b[49m\u001b[43m,\u001b[49m\n\u001b[1;32m      3\u001b[0m \u001b[43m    \u001b[49m\u001b[43mn_trials\u001b[49m\u001b[38;5;241;43m=\u001b[39;49m\u001b[38;5;241;43m3000\u001b[39;49m\u001b[43m,\u001b[49m\n\u001b[1;32m      4\u001b[0m \u001b[43m    \u001b[49m\u001b[43mtimeout\u001b[49m\u001b[38;5;241;43m=\u001b[39;49m\u001b[38;5;241;43m86400\u001b[39;49m\u001b[43m,\u001b[49m\n\u001b[1;32m      5\u001b[0m \u001b[43m    \u001b[49m\u001b[43mcallbacks\u001b[49m\u001b[38;5;241;43m=\u001b[39;49m\u001b[43m[\u001b[49m\u001b[43mcallback\u001b[49m\u001b[43m]\u001b[49m\n\u001b[1;32m      6\u001b[0m \u001b[43m)\u001b[49m\n",
      "File \u001b[0;32m~/anaconda3/lib/python3.9/site-packages/optuna/study/study.py:400\u001b[0m, in \u001b[0;36mStudy.optimize\u001b[0;34m(self, func, n_trials, timeout, n_jobs, catch, callbacks, gc_after_trial, show_progress_bar)\u001b[0m\n\u001b[1;32m    392\u001b[0m \u001b[38;5;28;01mif\u001b[39;00m n_jobs \u001b[38;5;241m!=\u001b[39m \u001b[38;5;241m1\u001b[39m:\n\u001b[1;32m    393\u001b[0m     warnings\u001b[38;5;241m.\u001b[39mwarn(\n\u001b[1;32m    394\u001b[0m         \u001b[38;5;124m\"\u001b[39m\u001b[38;5;124m`n_jobs` argument has been deprecated in v2.7.0. \u001b[39m\u001b[38;5;124m\"\u001b[39m\n\u001b[1;32m    395\u001b[0m         \u001b[38;5;124m\"\u001b[39m\u001b[38;5;124mThis feature will be removed in v4.0.0. \u001b[39m\u001b[38;5;124m\"\u001b[39m\n\u001b[1;32m    396\u001b[0m         \u001b[38;5;124m\"\u001b[39m\u001b[38;5;124mSee https://github.com/optuna/optuna/releases/tag/v2.7.0.\u001b[39m\u001b[38;5;124m\"\u001b[39m,\n\u001b[1;32m    397\u001b[0m         \u001b[38;5;167;01mFutureWarning\u001b[39;00m,\n\u001b[1;32m    398\u001b[0m     )\n\u001b[0;32m--> 400\u001b[0m \u001b[43m_optimize\u001b[49m\u001b[43m(\u001b[49m\n\u001b[1;32m    401\u001b[0m \u001b[43m    \u001b[49m\u001b[43mstudy\u001b[49m\u001b[38;5;241;43m=\u001b[39;49m\u001b[38;5;28;43mself\u001b[39;49m\u001b[43m,\u001b[49m\n\u001b[1;32m    402\u001b[0m \u001b[43m    \u001b[49m\u001b[43mfunc\u001b[49m\u001b[38;5;241;43m=\u001b[39;49m\u001b[43mfunc\u001b[49m\u001b[43m,\u001b[49m\n\u001b[1;32m    403\u001b[0m \u001b[43m    \u001b[49m\u001b[43mn_trials\u001b[49m\u001b[38;5;241;43m=\u001b[39;49m\u001b[43mn_trials\u001b[49m\u001b[43m,\u001b[49m\n\u001b[1;32m    404\u001b[0m \u001b[43m    \u001b[49m\u001b[43mtimeout\u001b[49m\u001b[38;5;241;43m=\u001b[39;49m\u001b[43mtimeout\u001b[49m\u001b[43m,\u001b[49m\n\u001b[1;32m    405\u001b[0m \u001b[43m    \u001b[49m\u001b[43mn_jobs\u001b[49m\u001b[38;5;241;43m=\u001b[39;49m\u001b[43mn_jobs\u001b[49m\u001b[43m,\u001b[49m\n\u001b[1;32m    406\u001b[0m \u001b[43m    \u001b[49m\u001b[43mcatch\u001b[49m\u001b[38;5;241;43m=\u001b[39;49m\u001b[43mcatch\u001b[49m\u001b[43m,\u001b[49m\n\u001b[1;32m    407\u001b[0m \u001b[43m    \u001b[49m\u001b[43mcallbacks\u001b[49m\u001b[38;5;241;43m=\u001b[39;49m\u001b[43mcallbacks\u001b[49m\u001b[43m,\u001b[49m\n\u001b[1;32m    408\u001b[0m \u001b[43m    \u001b[49m\u001b[43mgc_after_trial\u001b[49m\u001b[38;5;241;43m=\u001b[39;49m\u001b[43mgc_after_trial\u001b[49m\u001b[43m,\u001b[49m\n\u001b[1;32m    409\u001b[0m \u001b[43m    \u001b[49m\u001b[43mshow_progress_bar\u001b[49m\u001b[38;5;241;43m=\u001b[39;49m\u001b[43mshow_progress_bar\u001b[49m\u001b[43m,\u001b[49m\n\u001b[1;32m    410\u001b[0m \u001b[43m\u001b[49m\u001b[43m)\u001b[49m\n",
      "File \u001b[0;32m~/anaconda3/lib/python3.9/site-packages/optuna/study/_optimize.py:66\u001b[0m, in \u001b[0;36m_optimize\u001b[0;34m(study, func, n_trials, timeout, n_jobs, catch, callbacks, gc_after_trial, show_progress_bar)\u001b[0m\n\u001b[1;32m     64\u001b[0m \u001b[38;5;28;01mtry\u001b[39;00m:\n\u001b[1;32m     65\u001b[0m     \u001b[38;5;28;01mif\u001b[39;00m n_jobs \u001b[38;5;241m==\u001b[39m \u001b[38;5;241m1\u001b[39m:\n\u001b[0;32m---> 66\u001b[0m         \u001b[43m_optimize_sequential\u001b[49m\u001b[43m(\u001b[49m\n\u001b[1;32m     67\u001b[0m \u001b[43m            \u001b[49m\u001b[43mstudy\u001b[49m\u001b[43m,\u001b[49m\n\u001b[1;32m     68\u001b[0m \u001b[43m            \u001b[49m\u001b[43mfunc\u001b[49m\u001b[43m,\u001b[49m\n\u001b[1;32m     69\u001b[0m \u001b[43m            \u001b[49m\u001b[43mn_trials\u001b[49m\u001b[43m,\u001b[49m\n\u001b[1;32m     70\u001b[0m \u001b[43m            \u001b[49m\u001b[43mtimeout\u001b[49m\u001b[43m,\u001b[49m\n\u001b[1;32m     71\u001b[0m \u001b[43m            \u001b[49m\u001b[43mcatch\u001b[49m\u001b[43m,\u001b[49m\n\u001b[1;32m     72\u001b[0m \u001b[43m            \u001b[49m\u001b[43mcallbacks\u001b[49m\u001b[43m,\u001b[49m\n\u001b[1;32m     73\u001b[0m \u001b[43m            \u001b[49m\u001b[43mgc_after_trial\u001b[49m\u001b[43m,\u001b[49m\n\u001b[1;32m     74\u001b[0m \u001b[43m            \u001b[49m\u001b[43mreseed_sampler_rng\u001b[49m\u001b[38;5;241;43m=\u001b[39;49m\u001b[38;5;28;43;01mFalse\u001b[39;49;00m\u001b[43m,\u001b[49m\n\u001b[1;32m     75\u001b[0m \u001b[43m            \u001b[49m\u001b[43mtime_start\u001b[49m\u001b[38;5;241;43m=\u001b[39;49m\u001b[38;5;28;43;01mNone\u001b[39;49;00m\u001b[43m,\u001b[49m\n\u001b[1;32m     76\u001b[0m \u001b[43m            \u001b[49m\u001b[43mprogress_bar\u001b[49m\u001b[38;5;241;43m=\u001b[39;49m\u001b[43mprogress_bar\u001b[49m\u001b[43m,\u001b[49m\n\u001b[1;32m     77\u001b[0m \u001b[43m        \u001b[49m\u001b[43m)\u001b[49m\n\u001b[1;32m     78\u001b[0m     \u001b[38;5;28;01melse\u001b[39;00m:\n\u001b[1;32m     79\u001b[0m         \u001b[38;5;28;01mif\u001b[39;00m show_progress_bar:\n",
      "File \u001b[0;32m~/anaconda3/lib/python3.9/site-packages/optuna/study/_optimize.py:163\u001b[0m, in \u001b[0;36m_optimize_sequential\u001b[0;34m(study, func, n_trials, timeout, catch, callbacks, gc_after_trial, reseed_sampler_rng, time_start, progress_bar)\u001b[0m\n\u001b[1;32m    160\u001b[0m         \u001b[38;5;28;01mbreak\u001b[39;00m\n\u001b[1;32m    162\u001b[0m \u001b[38;5;28;01mtry\u001b[39;00m:\n\u001b[0;32m--> 163\u001b[0m     trial \u001b[38;5;241m=\u001b[39m \u001b[43m_run_trial\u001b[49m\u001b[43m(\u001b[49m\u001b[43mstudy\u001b[49m\u001b[43m,\u001b[49m\u001b[43m \u001b[49m\u001b[43mfunc\u001b[49m\u001b[43m,\u001b[49m\u001b[43m \u001b[49m\u001b[43mcatch\u001b[49m\u001b[43m)\u001b[49m\n\u001b[1;32m    164\u001b[0m \u001b[38;5;28;01mexcept\u001b[39;00m \u001b[38;5;167;01mException\u001b[39;00m:\n\u001b[1;32m    165\u001b[0m     \u001b[38;5;28;01mraise\u001b[39;00m\n",
      "File \u001b[0;32m~/anaconda3/lib/python3.9/site-packages/optuna/study/_optimize.py:240\u001b[0m, in \u001b[0;36m_run_trial\u001b[0;34m(study, func, catch)\u001b[0m\n\u001b[1;32m    238\u001b[0m \u001b[38;5;66;03m# `Study.tell` may raise during trial post-processing.\u001b[39;00m\n\u001b[1;32m    239\u001b[0m \u001b[38;5;28;01mtry\u001b[39;00m:\n\u001b[0;32m--> 240\u001b[0m     \u001b[43mstudy\u001b[49m\u001b[38;5;241;43m.\u001b[39;49m\u001b[43mtell\u001b[49m\u001b[43m(\u001b[49m\u001b[43mtrial\u001b[49m\u001b[43m,\u001b[49m\u001b[43m \u001b[49m\u001b[43mvalues\u001b[49m\u001b[38;5;241;43m=\u001b[39;49m\u001b[43mvalues\u001b[49m\u001b[43m,\u001b[49m\u001b[43m \u001b[49m\u001b[43mstate\u001b[49m\u001b[38;5;241;43m=\u001b[39;49m\u001b[43mstate\u001b[49m\u001b[43m)\u001b[49m\n\u001b[1;32m    241\u001b[0m \u001b[38;5;28;01mexcept\u001b[39;00m \u001b[38;5;167;01mException\u001b[39;00m:\n\u001b[1;32m    242\u001b[0m     \u001b[38;5;28;01mraise\u001b[39;00m\n",
      "File \u001b[0;32m~/anaconda3/lib/python3.9/site-packages/optuna/study/study.py:664\u001b[0m, in \u001b[0;36mStudy.tell\u001b[0;34m(self, trial, values, state)\u001b[0m\n\u001b[1;32m    661\u001b[0m \u001b[38;5;28;01mif\u001b[39;00m values \u001b[38;5;129;01mis\u001b[39;00m \u001b[38;5;129;01mnot\u001b[39;00m \u001b[38;5;28;01mNone\u001b[39;00m:\n\u001b[1;32m    662\u001b[0m     \u001b[38;5;28mself\u001b[39m\u001b[38;5;241m.\u001b[39m_storage\u001b[38;5;241m.\u001b[39mset_trial_values(trial_id, values)\n\u001b[0;32m--> 664\u001b[0m \u001b[38;5;28;43mself\u001b[39;49m\u001b[38;5;241;43m.\u001b[39;49m\u001b[43m_storage\u001b[49m\u001b[38;5;241;43m.\u001b[39;49m\u001b[43mset_trial_state\u001b[49m\u001b[43m(\u001b[49m\u001b[43mtrial_id\u001b[49m\u001b[43m,\u001b[49m\u001b[43m \u001b[49m\u001b[43mstate\u001b[49m\u001b[43m)\u001b[49m\n",
      "File \u001b[0;32m~/anaconda3/lib/python3.9/site-packages/optuna/storages/_cached_storage.py:215\u001b[0m, in \u001b[0;36m_CachedStorage.set_trial_state\u001b[0;34m(self, trial_id, state)\u001b[0m\n\u001b[1;32m    213\u001b[0m             updates\u001b[38;5;241m.\u001b[39mdatetime_complete \u001b[38;5;241m=\u001b[39m now\n\u001b[1;32m    214\u001b[0m             cached_trial\u001b[38;5;241m.\u001b[39mdatetime_complete \u001b[38;5;241m=\u001b[39m now\n\u001b[0;32m--> 215\u001b[0m         \u001b[38;5;28;01mreturn\u001b[39;00m \u001b[38;5;28;43mself\u001b[39;49m\u001b[38;5;241;43m.\u001b[39;49m\u001b[43m_flush_trial\u001b[49m\u001b[43m(\u001b[49m\u001b[43mtrial_id\u001b[49m\u001b[43m)\u001b[49m\n\u001b[1;32m    217\u001b[0m ret \u001b[38;5;241m=\u001b[39m \u001b[38;5;28mself\u001b[39m\u001b[38;5;241m.\u001b[39m_backend\u001b[38;5;241m.\u001b[39mset_trial_state(trial_id, state)\n\u001b[1;32m    218\u001b[0m \u001b[38;5;28;01mif\u001b[39;00m (\n\u001b[1;32m    219\u001b[0m     ret\n\u001b[1;32m    220\u001b[0m     \u001b[38;5;129;01mand\u001b[39;00m state \u001b[38;5;241m==\u001b[39m TrialState\u001b[38;5;241m.\u001b[39mRUNNING\n\u001b[1;32m    221\u001b[0m     \u001b[38;5;129;01mand\u001b[39;00m trial_id \u001b[38;5;129;01min\u001b[39;00m \u001b[38;5;28mself\u001b[39m\u001b[38;5;241m.\u001b[39m_trial_id_to_study_id_and_number\n\u001b[1;32m    222\u001b[0m ):\n\u001b[1;32m    223\u001b[0m     \u001b[38;5;66;03m# Cache when the local thread pop WAITING trial and start evaluation.\u001b[39;00m\n",
      "File \u001b[0;32m~/anaconda3/lib/python3.9/site-packages/optuna/storages/_cached_storage.py:428\u001b[0m, in \u001b[0;36m_CachedStorage._flush_trial\u001b[0;34m(self, trial_id)\u001b[0m\n\u001b[1;32m    426\u001b[0m     \u001b[38;5;28;01mreturn\u001b[39;00m \u001b[38;5;28;01mTrue\u001b[39;00m\n\u001b[1;32m    427\u001b[0m \u001b[38;5;28;01mdel\u001b[39;00m study\u001b[38;5;241m.\u001b[39mupdates[number]\n\u001b[0;32m--> 428\u001b[0m \u001b[38;5;28;01mreturn\u001b[39;00m \u001b[38;5;28;43mself\u001b[39;49m\u001b[38;5;241;43m.\u001b[39;49m\u001b[43m_backend\u001b[49m\u001b[38;5;241;43m.\u001b[39;49m\u001b[43m_update_trial\u001b[49m\u001b[43m(\u001b[49m\n\u001b[1;32m    429\u001b[0m \u001b[43m    \u001b[49m\u001b[43mtrial_id\u001b[49m\u001b[38;5;241;43m=\u001b[39;49m\u001b[43mtrial_id\u001b[49m\u001b[43m,\u001b[49m\n\u001b[1;32m    430\u001b[0m \u001b[43m    \u001b[49m\u001b[43mvalues\u001b[49m\u001b[38;5;241;43m=\u001b[39;49m\u001b[43mupdates\u001b[49m\u001b[38;5;241;43m.\u001b[39;49m\u001b[43mvalues\u001b[49m\u001b[43m,\u001b[49m\n\u001b[1;32m    431\u001b[0m \u001b[43m    \u001b[49m\u001b[43mintermediate_values\u001b[49m\u001b[38;5;241;43m=\u001b[39;49m\u001b[43mupdates\u001b[49m\u001b[38;5;241;43m.\u001b[39;49m\u001b[43mintermediate_values\u001b[49m\u001b[43m,\u001b[49m\n\u001b[1;32m    432\u001b[0m \u001b[43m    \u001b[49m\u001b[43mstate\u001b[49m\u001b[38;5;241;43m=\u001b[39;49m\u001b[43mupdates\u001b[49m\u001b[38;5;241;43m.\u001b[39;49m\u001b[43mstate\u001b[49m\u001b[43m,\u001b[49m\n\u001b[1;32m    433\u001b[0m \u001b[43m    \u001b[49m\u001b[43mparams\u001b[49m\u001b[38;5;241;43m=\u001b[39;49m\u001b[43mupdates\u001b[49m\u001b[38;5;241;43m.\u001b[39;49m\u001b[43mparams\u001b[49m\u001b[43m,\u001b[49m\n\u001b[1;32m    434\u001b[0m \u001b[43m    \u001b[49m\u001b[43mdistributions_\u001b[49m\u001b[38;5;241;43m=\u001b[39;49m\u001b[43mupdates\u001b[49m\u001b[38;5;241;43m.\u001b[39;49m\u001b[43mdistributions\u001b[49m\u001b[43m,\u001b[49m\n\u001b[1;32m    435\u001b[0m \u001b[43m    \u001b[49m\u001b[43muser_attrs\u001b[49m\u001b[38;5;241;43m=\u001b[39;49m\u001b[43mupdates\u001b[49m\u001b[38;5;241;43m.\u001b[39;49m\u001b[43muser_attrs\u001b[49m\u001b[43m,\u001b[49m\n\u001b[1;32m    436\u001b[0m \u001b[43m    \u001b[49m\u001b[43msystem_attrs\u001b[49m\u001b[38;5;241;43m=\u001b[39;49m\u001b[43mupdates\u001b[49m\u001b[38;5;241;43m.\u001b[39;49m\u001b[43msystem_attrs\u001b[49m\u001b[43m,\u001b[49m\n\u001b[1;32m    437\u001b[0m \u001b[43m    \u001b[49m\u001b[43mdatetime_start\u001b[49m\u001b[38;5;241;43m=\u001b[39;49m\u001b[43mupdates\u001b[49m\u001b[38;5;241;43m.\u001b[39;49m\u001b[43mdatetime_start\u001b[49m\u001b[43m,\u001b[49m\n\u001b[1;32m    438\u001b[0m \u001b[43m    \u001b[49m\u001b[43mdatetime_complete\u001b[49m\u001b[38;5;241;43m=\u001b[39;49m\u001b[43mupdates\u001b[49m\u001b[38;5;241;43m.\u001b[39;49m\u001b[43mdatetime_complete\u001b[49m\u001b[43m,\u001b[49m\n\u001b[1;32m    439\u001b[0m \u001b[43m\u001b[49m\u001b[43m)\u001b[49m\n",
      "File \u001b[0;32m~/anaconda3/lib/python3.9/site-packages/optuna/storages/_rdb/storage.py:768\u001b[0m, in \u001b[0;36mRDBStorage._update_trial\u001b[0;34m(self, trial_id, state, values, intermediate_values, params, distributions_, user_attrs, system_attrs, datetime_start, datetime_complete)\u001b[0m\n\u001b[1;32m    755\u001b[0m                 session\u001b[38;5;241m.\u001b[39madd(trial_param_dict[name])\n\u001b[1;32m    756\u001b[0m         trial_model\u001b[38;5;241m.\u001b[39mparams\u001b[38;5;241m.\u001b[39mextend(\n\u001b[1;32m    757\u001b[0m             models\u001b[38;5;241m.\u001b[39mTrialParamModel(\n\u001b[1;32m    758\u001b[0m                 param_name\u001b[38;5;241m=\u001b[39mparam_name,\n\u001b[0;32m   (...)\u001b[0m\n\u001b[1;32m    765\u001b[0m             \u001b[38;5;28;01mif\u001b[39;00m param_name \u001b[38;5;129;01mnot\u001b[39;00m \u001b[38;5;129;01min\u001b[39;00m trial_param_dict\n\u001b[1;32m    766\u001b[0m         )\n\u001b[0;32m--> 768\u001b[0m     session\u001b[38;5;241m.\u001b[39madd(trial_model)\n\u001b[1;32m    770\u001b[0m \u001b[38;5;28;01mreturn\u001b[39;00m \u001b[38;5;28;01mTrue\u001b[39;00m\n",
      "File \u001b[0;32m~/anaconda3/lib/python3.9/contextlib.py:126\u001b[0m, in \u001b[0;36m_GeneratorContextManager.__exit__\u001b[0;34m(self, typ, value, traceback)\u001b[0m\n\u001b[1;32m    124\u001b[0m \u001b[38;5;28;01mif\u001b[39;00m typ \u001b[38;5;129;01mis\u001b[39;00m \u001b[38;5;28;01mNone\u001b[39;00m:\n\u001b[1;32m    125\u001b[0m     \u001b[38;5;28;01mtry\u001b[39;00m:\n\u001b[0;32m--> 126\u001b[0m         \u001b[38;5;28;43mnext\u001b[39;49m\u001b[43m(\u001b[49m\u001b[38;5;28;43mself\u001b[39;49m\u001b[38;5;241;43m.\u001b[39;49m\u001b[43mgen\u001b[49m\u001b[43m)\u001b[49m\n\u001b[1;32m    127\u001b[0m     \u001b[38;5;28;01mexcept\u001b[39;00m \u001b[38;5;167;01mStopIteration\u001b[39;00m:\n\u001b[1;32m    128\u001b[0m         \u001b[38;5;28;01mreturn\u001b[39;00m \u001b[38;5;28;01mFalse\u001b[39;00m\n",
      "File \u001b[0;32m~/anaconda3/lib/python3.9/site-packages/optuna/storages/_rdb/storage.py:71\u001b[0m, in \u001b[0;36m_create_scoped_session\u001b[0;34m(scoped_session, ignore_integrity_error)\u001b[0m\n\u001b[1;32m     65\u001b[0m     session\u001b[38;5;241m.\u001b[39mrollback()\n\u001b[1;32m     66\u001b[0m     message \u001b[38;5;241m=\u001b[39m (\n\u001b[1;32m     67\u001b[0m         \u001b[38;5;124m\"\u001b[39m\u001b[38;5;124mAn exception is raised during the commit. \u001b[39m\u001b[38;5;124m\"\u001b[39m\n\u001b[1;32m     68\u001b[0m         \u001b[38;5;124m\"\u001b[39m\u001b[38;5;124mThis typically happens due to invalid data in the commit, \u001b[39m\u001b[38;5;124m\"\u001b[39m\n\u001b[1;32m     69\u001b[0m         \u001b[38;5;124m\"\u001b[39m\u001b[38;5;124me.g. exceeding max length. \u001b[39m\u001b[38;5;124m\"\u001b[39m\n\u001b[1;32m     70\u001b[0m     )\n\u001b[0;32m---> 71\u001b[0m     \u001b[38;5;28;01mraise\u001b[39;00m optuna\u001b[38;5;241m.\u001b[39mexceptions\u001b[38;5;241m.\u001b[39mStorageInternalError(message) \u001b[38;5;28;01mfrom\u001b[39;00m \u001b[38;5;21;01me\u001b[39;00m\n\u001b[1;32m     72\u001b[0m \u001b[38;5;28;01mexcept\u001b[39;00m \u001b[38;5;167;01mException\u001b[39;00m:\n\u001b[1;32m     73\u001b[0m     session\u001b[38;5;241m.\u001b[39mrollback()\n",
      "\u001b[0;31mStorageInternalError\u001b[0m: An exception is raised during the commit. This typically happens due to invalid data in the commit, e.g. exceeding max length. "
     ]
    }
   ],
   "source": [
    "study.optimize(\n",
    "    partial(objective, in_dir=in_dir, work_dir=work_dir),\n",
    "    n_trials=3000,\n",
    "    timeout=86400,\n",
    "    callbacks=[callback]\n",
    ")"
   ]
  },
  {
   "cell_type": "code",
   "execution_count": null,
   "id": "700269d2",
   "metadata": {},
   "outputs": [],
   "source": []
  }
 ],
 "metadata": {
  "kernelspec": {
   "display_name": "Python 3 (ipykernel)",
   "language": "python",
   "name": "python3"
  },
  "language_info": {
   "codemirror_mode": {
    "name": "ipython",
    "version": 3
   },
   "file_extension": ".py",
   "mimetype": "text/x-python",
   "name": "python",
   "nbconvert_exporter": "python",
   "pygments_lexer": "ipython3",
   "version": "3.9.12"
  }
 },
 "nbformat": 4,
 "nbformat_minor": 5
}
