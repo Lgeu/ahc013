{
 "cells": [
  {
   "cell_type": "code",
   "execution_count": 1,
   "id": "25a1dac8",
   "metadata": {},
   "outputs": [],
   "source": [
    "import re\n",
    "import sys\n",
    "from uuid import uuid1\n",
    "from time import sleep\n",
    "from pprint import pprint\n",
    "from pathlib import Path\n",
    "from tempfile import gettempdir\n",
    "from threading import Thread\n",
    "from functools import partial\n",
    "from subprocess import Popen, PIPE\n",
    "\n",
    "from tqdm.notebook import tqdm\n",
    "import numpy as np\n",
    "import optuna\n",
    "import pandas as pd\n",
    "import matplotlib.pyplot as plt\n",
    "\n",
    "FILENAME = \"main.cpp\""
   ]
  },
  {
   "cell_type": "code",
   "execution_count": 2,
   "id": "3dd4d02e",
   "metadata": {},
   "outputs": [
    {
     "name": "stdout",
     "output_type": "stream",
     "text": [
      "10 variables were found.\n"
     ]
    },
    {
     "data": {
      "text/html": [
       "<div>\n",
       "<style scoped>\n",
       "    .dataframe tbody tr th:only-of-type {\n",
       "        vertical-align: middle;\n",
       "    }\n",
       "\n",
       "    .dataframe tbody tr th {\n",
       "        vertical-align: top;\n",
       "    }\n",
       "\n",
       "    .dataframe thead th {\n",
       "        text-align: right;\n",
       "    }\n",
       "</style>\n",
       "<table border=\"1\" class=\"dataframe\">\n",
       "  <thead>\n",
       "    <tr style=\"text-align: right;\">\n",
       "      <th></th>\n",
       "      <th>name</th>\n",
       "      <th>method</th>\n",
       "      <th>min</th>\n",
       "      <th>max</th>\n",
       "      <th>log</th>\n",
       "      <th>left</th>\n",
       "      <th>right</th>\n",
       "    </tr>\n",
       "  </thead>\n",
       "  <tbody>\n",
       "    <tr>\n",
       "      <th>0</th>\n",
       "      <td>kErase</td>\n",
       "      <td>suggest_int</td>\n",
       "      <td>1.000</td>\n",
       "      <td>5.0</td>\n",
       "      <td>False</td>\n",
       "      <td>static constexpr auto kErase =</td>\n",
       "      <td>;             // OPTIMIZE [1, 5]</td>\n",
       "    </tr>\n",
       "    <tr>\n",
       "      <th>1</th>\n",
       "      <td>kRadius</td>\n",
       "      <td>suggest_int</td>\n",
       "      <td>2.000</td>\n",
       "      <td>6.0</td>\n",
       "      <td>False</td>\n",
       "      <td>static constexpr auto kRadius =</td>\n",
       "      <td>;            // OPTIMIZE [2, 6]</td>\n",
       "    </tr>\n",
       "    <tr>\n",
       "      <th>2</th>\n",
       "      <td>kAnnealingA</td>\n",
       "      <td>suggest_float</td>\n",
       "      <td>-15.000</td>\n",
       "      <td>15.0</td>\n",
       "      <td>False</td>\n",
       "      <td>static constexpr auto kAnnealingA =</td>\n",
       "      <td>;      // OPTIMIZE [-15.0, 15.0]</td>\n",
       "    </tr>\n",
       "    <tr>\n",
       "      <th>3</th>\n",
       "      <td>kAnnealingB</td>\n",
       "      <td>suggest_float</td>\n",
       "      <td>0.000</td>\n",
       "      <td>3.0</td>\n",
       "      <td>False</td>\n",
       "      <td>static constexpr auto kAnnealingB =</td>\n",
       "      <td>;      // OPTIMIZE [0.0, 3.0]</td>\n",
       "    </tr>\n",
       "    <tr>\n",
       "      <th>4</th>\n",
       "      <td>kAnnealingStart</td>\n",
       "      <td>suggest_float</td>\n",
       "      <td>1.000</td>\n",
       "      <td>100.0</td>\n",
       "      <td>True</td>\n",
       "      <td>static constexpr auto kAnnealingStart =</td>\n",
       "      <td>; // OPTIMIZE LOG [1.0, 100.0]</td>\n",
       "    </tr>\n",
       "    <tr>\n",
       "      <th>5</th>\n",
       "      <td>kSkipRatio</td>\n",
       "      <td>suggest_float</td>\n",
       "      <td>0.200</td>\n",
       "      <td>0.8</td>\n",
       "      <td>False</td>\n",
       "      <td>static constexpr auto kSkipRatio =</td>\n",
       "      <td>;       // OPTIMIZE [0.2, 0.8]</td>\n",
       "    </tr>\n",
       "    <tr>\n",
       "      <th>6</th>\n",
       "      <td>kTargetDeterminationTrials</td>\n",
       "      <td>suggest_int</td>\n",
       "      <td>1.000</td>\n",
       "      <td>20.0</td>\n",
       "      <td>True</td>\n",
       "      <td>static constexpr auto kTargetDeterminationTria...</td>\n",
       "      <td>; // OPTIMIZE LOG [1, 20]</td>\n",
       "    </tr>\n",
       "    <tr>\n",
       "      <th>7</th>\n",
       "      <td>kAttractionRatio</td>\n",
       "      <td>suggest_float</td>\n",
       "      <td>0.010</td>\n",
       "      <td>0.9</td>\n",
       "      <td>True</td>\n",
       "      <td>static constexpr auto kAttractionRatio =</td>\n",
       "      <td>;      // OPTIMIZE LOG [0.01, 0.9]</td>\n",
       "    </tr>\n",
       "    <tr>\n",
       "      <th>8</th>\n",
       "      <td>kMaxAttractionDistance</td>\n",
       "      <td>suggest_int</td>\n",
       "      <td>4.000</td>\n",
       "      <td>99.0</td>\n",
       "      <td>True</td>\n",
       "      <td>static constexpr auto kMaxAttractionDistance =</td>\n",
       "      <td>; // OPTIMIZE LOG [4, 99]</td>\n",
       "    </tr>\n",
       "    <tr>\n",
       "      <th>9</th>\n",
       "      <td>kStartAttraction</td>\n",
       "      <td>suggest_float</td>\n",
       "      <td>0.001</td>\n",
       "      <td>0.9</td>\n",
       "      <td>True</td>\n",
       "      <td>static constexpr auto kStartAttraction =</td>\n",
       "      <td>;     // OPTIMIZE LOG [0.001, 0.9]</td>\n",
       "    </tr>\n",
       "  </tbody>\n",
       "</table>\n",
       "</div>"
      ],
      "text/plain": [
       "                         name         method     min    max    log  \\\n",
       "0                      kErase    suggest_int   1.000    5.0  False   \n",
       "1                     kRadius    suggest_int   2.000    6.0  False   \n",
       "2                 kAnnealingA  suggest_float -15.000   15.0  False   \n",
       "3                 kAnnealingB  suggest_float   0.000    3.0  False   \n",
       "4             kAnnealingStart  suggest_float   1.000  100.0   True   \n",
       "5                  kSkipRatio  suggest_float   0.200    0.8  False   \n",
       "6  kTargetDeterminationTrials    suggest_int   1.000   20.0   True   \n",
       "7            kAttractionRatio  suggest_float   0.010    0.9   True   \n",
       "8      kMaxAttractionDistance    suggest_int   4.000   99.0   True   \n",
       "9            kStartAttraction  suggest_float   0.001    0.9   True   \n",
       "\n",
       "                                                left  \\\n",
       "0                    static constexpr auto kErase =    \n",
       "1                   static constexpr auto kRadius =    \n",
       "2               static constexpr auto kAnnealingA =    \n",
       "3               static constexpr auto kAnnealingB =    \n",
       "4           static constexpr auto kAnnealingStart =    \n",
       "5                static constexpr auto kSkipRatio =    \n",
       "6  static constexpr auto kTargetDeterminationTria...   \n",
       "7          static constexpr auto kAttractionRatio =    \n",
       "8    static constexpr auto kMaxAttractionDistance =    \n",
       "9          static constexpr auto kStartAttraction =    \n",
       "\n",
       "                                right  \n",
       "0    ;             // OPTIMIZE [1, 5]  \n",
       "1     ;            // OPTIMIZE [2, 6]  \n",
       "2    ;      // OPTIMIZE [-15.0, 15.0]  \n",
       "3       ;      // OPTIMIZE [0.0, 3.0]  \n",
       "4      ; // OPTIMIZE LOG [1.0, 100.0]  \n",
       "5      ;       // OPTIMIZE [0.2, 0.8]  \n",
       "6           ; // OPTIMIZE LOG [1, 20]  \n",
       "7  ;      // OPTIMIZE LOG [0.01, 0.9]  \n",
       "8           ; // OPTIMIZE LOG [4, 99]  \n",
       "9  ;     // OPTIMIZE LOG [0.001, 0.9]  "
      ]
     },
     "metadata": {},
     "output_type": "display_data"
    }
   ],
   "source": [
    "# ここでエラー出力は何かおかしいかもしれない\n",
    "\n",
    "\n",
    "# パラメータ抽出\n",
    "with open(FILENAME) as f:\n",
    "    answer = f.read()\n",
    "\n",
    "\n",
    "variables_optimize = []\n",
    "\n",
    "for left, value, right, options in re.findall(r\"^([^/\\n]*=\\s*)(.+?)(\\s*;\\s*//(?:.*\\W)?OPTIMIZE(\\W.*))$\", answer, re.MULTILINE):\n",
    "    name = left.replace(\"=\", \"\").strip().split()[-1]\n",
    "    \n",
    "    searched = re.search(r\".*\\[(?P<min>.*),(?P<max>.*)\\].*\", options)\n",
    "    if searched:\n",
    "        min_value = max_value = None\n",
    "        try:\n",
    "            min_value = eval(searched.group(\"min\"))\n",
    "            max_value = eval(searched.group(\"max\"))\n",
    "            assert min_value <= max_value\n",
    "        except Exception as e:\n",
    "            print(f\"searched={searched}\", file=sys.stderr)\n",
    "            print(e, file=sys.stderr)\n",
    "            continue\n",
    "        log = \"LOG\" in options  # 雑、直したほうが良い\n",
    "        if type(min_value) != type(max_value):\n",
    "            print(f\"searched={searched}\", file=sys.stderr)\n",
    "            print(\"types not matched\", file=sys.stderr)\n",
    "            continue\n",
    "        if isinstance(min_value, int):\n",
    "            method = \"suggest_int\"\n",
    "        elif isinstance(min_value, float):\n",
    "            method = \"suggest_float\"\n",
    "        else:\n",
    "            print(f\"searched={searched}\", file=sys.stderr)\n",
    "            print(f\"unknown type ({type(min_value)})\", file=sys.stderr)\n",
    "            continue\n",
    "        variables_optimize.append({\n",
    "            \"name\": name,\n",
    "            \"method\": method,\n",
    "            \"min\": min_value,\n",
    "            \"max\": max_value,\n",
    "            \"log\": log,\n",
    "            \"left\": left,\n",
    "            \"right\": right,\n",
    "        })\n",
    "    elif searched := re.search(r\".*\\{(?P<choices>.*?)\\}.*\", options):\n",
    "        choices = list(map(lambda x: x.strip(), searched.group(\"choices\").split(\",\")))\n",
    "        variables_optimize.append({\n",
    "            \"name\": name,\n",
    "            \"method\": \"suggest_categorical\",\n",
    "            \"choices\": choices,\n",
    "            \"left\": left,\n",
    "            \"right\": right,\n",
    "        })\n",
    "    else:\n",
    "        print(f\"searched={searched}\", file=sys.stderr)\n",
    "        print(f\"pattern was matched but options are incorrect.\", file=sys.stderr)\n",
    "\n",
    "print(len(variables_optimize), \"variables were found.\")\n",
    "if globals().get(\"pd\"):\n",
    "    display(pd.DataFrame(variables_optimize))\n",
    "else:\n",
    "    pprint(variables_optimize)"
   ]
  },
  {
   "cell_type": "code",
   "execution_count": 3,
   "id": "001042b9",
   "metadata": {},
   "outputs": [],
   "source": [
    "def escape(string):  # 正規表現の中でそのまま使いたい文字列をエスケープ\n",
    "    res = !echo '{string}' | sed -e 's/[]\\/$*.^[]/\\\\&/g'\n",
    "    return res[0]\n",
    "\n",
    "def escape_sed(string):  # sed の置換後の文字列用のエスケープ\n",
    "    res = !echo '{string}' | sed -e 's/[\\/&]/\\\\&/g'\n",
    "    return res[0]\n",
    "\n",
    "def read_stream(name, in_file, out_file):\n",
    "    for line in in_file:\n",
    "        print(f\"[{name}] {line.strip()}\", file=out_file)\n",
    "\n",
    "def run(cmd, name):\n",
    "    proc = Popen(cmd, stdout=PIPE, stderr=PIPE, universal_newlines=True, shell=isinstance(cmd, str))\n",
    "    stdout_thread = Thread(target=read_stream, args=(name, proc.stdout, sys.stdout))\n",
    "    stderr_thread = Thread(target=read_stream, args=(name, proc.stderr, sys.stderr))\n",
    "    stdout_thread.start()\n",
    "    stderr_thread.start()\n",
    "    proc.wait()\n",
    "    return proc\n",
    "\n",
    "def objective(trial, in_dir, work_dir):\n",
    "    n_internal_parallel = 3\n",
    "    \n",
    "    index_parallel = f\"{trial.number:04d}\"\n",
    "    print(f\"{index_parallel=}\")\n",
    "    \n",
    "    work_dir = Path(work_dir)\n",
    "    directory_input = Path(in_dir)  # 中のすべてのファイルに対して実行される\n",
    "    #parameters_changed_filename = Path(gettempdir()) / str(uuid1())\n",
    "    parameters_changed_filename = work_dir / f\"{index_parallel}_{FILENAME}\"\n",
    "    \n",
    "    run([\"mkdir\", f\"{work_dir / index_parallel}_out\"], \"mkdir\")\n",
    "    run([\"mkdir\", f\"{work_dir / index_parallel}_score\"], \"mkdir\")\n",
    "    \n",
    "    # ファイル作成\n",
    "    run(f\"cp {FILENAME} {parameters_changed_filename}\", \"cp\")\n",
    "    sed_options = [f\"-i {parameters_changed_filename}\"]\n",
    "    for variable in variables_optimize:\n",
    "        if variable[\"method\"] == \"suggest_categorical\":\n",
    "            val =  trial.suggest_categorical(variable[\"name\"], variable[\"choices\"])\n",
    "        else:\n",
    "            val = getattr(trial, variable[\"method\"])(variable[\"name\"], variable[\"min\"], variable[\"max\"], log=variable[\"log\"])\n",
    "        left = variable[\"left\"]\n",
    "        right = variable[\"right\"]\n",
    "        sed_options.append(f\"\"\"-e 's/^{escape(left)}.*{escape(right)}$/{escape_sed(left)}{val}{escape_sed(right)}/'\"\"\")\n",
    "    command_sed = f\"sed {' '.join(sed_options)}\"\n",
    "    #print(command_sed)\n",
    "    run(command_sed, \"sed\")\n",
    "    \n",
    "    # コンパイル\n",
    "    command_compile = f\"g++ {parameters_changed_filename} -std=gnu++17 -O2 -DONLINE_JUDGE -o {parameters_changed_filename}.out\"\n",
    "    #print(command_compile)\n",
    "    run(command_compile, \"compile\")\n",
    "    # 実行・採点コマンド (@ はファイル名)\n",
    "    command_exec = (\n",
    "        #f\"./a.out < ./tools/in/{i:04d}.txt > {out_file} && ./tools/target/release/vis ./tools/in/{i:04d}.txt {out_file}\"\n",
    "        #f\"../tools/target/release/tester $(pwd)/{parameters_changed_filename}.out < {directory_input}/@ 2>&1 | grep Score\"\n",
    "        #f\"../tools/target/release/tester $(pwd)/{parameters_changed_filename}.out < {directory_input}/@ 2>&1 | grep Score | sed -E s/[^0-9]+// > ./{index_parallel}_score/@;\"\n",
    "        #f\"cargo run --release --manifest-path ../tools/Cargo.toml --bin tester {directory_input}/@ $(pwd)/{parameters_changed_filename}.out 2>&1 | grep Score | sed -E s/[^0-9]+// > ./{index_parallel}_score/@;\"\n",
    "        f\"./{parameters_changed_filename}.out < {directory_input}/@ > {work_dir / index_parallel}_out/@;\"\n",
    "        f\"../tools/target/release/vis {directory_input}/@ {work_dir / index_parallel}_out/@ 2> /dev/null > {work_dir / index_parallel}_score/@;\"\n",
    "    )\n",
    "    # 並列実行 (sed はパスのディレクトリ部分を消してファイル名にしてる)\n",
    "    run(f\"find {directory_input}/* | sed 's!^.*/!!' | xargs -I@ -P {n_internal_parallel} sh -c '{command_exec}'\", \"exec\")\n",
    "    \n",
    "    # 集計\n",
    "    scores = []\n",
    "    for file_path in Path(f\"{work_dir / index_parallel}_score/\").iterdir():  \n",
    "        with open(file_path) as f:\n",
    "            scores.append(int(f.readline().strip().split()[-1]))\n",
    "    mean_score = sum(scores) / len(scores)\n",
    "    \n",
    "    # 後始末\n",
    "    run(f\"rm -rf {work_dir / index_parallel}_out\", \"rm\")\n",
    "    run(f\"rm -rf {work_dir / index_parallel}_score\", \"rm\")\n",
    "    #run(f\"rm {parameters_changed_filename}\", \"rm\")\n",
    "    run(f\"rm {parameters_changed_filename}.out\", \"rm\")\n",
    "    \n",
    "    return mean_score"
   ]
  },
  {
   "cell_type": "code",
   "execution_count": 4,
   "id": "2d2e133c",
   "metadata": {},
   "outputs": [
    {
     "name": "stderr",
     "output_type": "stream",
     "text": [
      "\u001b[32m[I 2022-08-15 21:28:14,592]\u001b[0m A new study created in RDB with name: study_4_0\u001b[0m\n"
     ]
    }
   ],
   "source": [
    "K = 4\n",
    "N_CLASS = 0\n",
    "\n",
    "in_dir = Path(f\"in_{K}_{N_CLASS}\")\n",
    "work_dir = Path(f\"work_{K}_{N_CLASS}\")\n",
    "\n",
    "study_name = f\"study_{K}_{N_CLASS}\"\n",
    "storage_path = work_dir / \"study.db\"\n",
    "storage = f\"sqlite:///{storage_path}\"\n",
    "study = optuna.create_study(storage=storage, load_if_exists=True, study_name=study_name, direction=\"maximize\")\n",
    "\n",
    "def callback(study, trial):\n",
    "    try:\n",
    "        index_parallel = f\"{trial.number:04d}\"\n",
    "        parameters_changed_filename = work_dir / f\"{index_parallel}_{FILENAME}\"\n",
    "        if study.best_value == trial.value:\n",
    "            print(f\"Updated! {study.best_value}\")\n",
    "            !cp {parameters_changed_filename} {work_dir / \"best_parameters.cpp\"}\n",
    "        !rm {parameters_changed_filename}\n",
    "    except:\n",
    "        print(\":(\")\n"
   ]
  },
  {
   "cell_type": "code",
   "execution_count": null,
   "id": "61c2901d",
   "metadata": {},
   "outputs": [
    {
     "name": "stdout",
     "output_type": "stream",
     "text": [
      "index_parallel='0000'\n"
     ]
    },
    {
     "name": "stderr",
     "output_type": "stream",
     "text": [
      "\u001b[32m[I 2022-08-15 21:31:55,418]\u001b[0m Trial 0 finished with value: 5275.321052631579 and parameters: {'kErase': 3, 'kRadius': 4, 'kAnnealingA': -0.7296513808959482, 'kAnnealingB': 1.1893488278532116, 'kAnnealingStart': 18.3843637052843, 'kSkipRatio': 0.5350895481844109, 'kTargetDeterminationTrials': 6, 'kAttractionRatio': 0.13133618352682813, 'kMaxAttractionDistance': 28, 'kStartAttraction': 0.008541030167469705}. Best is trial 0 with value: 5275.321052631579.\u001b[0m\n"
     ]
    },
    {
     "name": "stdout",
     "output_type": "stream",
     "text": [
      "Updated! 5275.321052631579\n",
      "index_parallel='0001'\n"
     ]
    },
    {
     "name": "stderr",
     "output_type": "stream",
     "text": [
      "\u001b[32m[I 2022-08-15 21:35:36,866]\u001b[0m Trial 1 finished with value: 4503.6578947368425 and parameters: {'kErase': 4, 'kRadius': 5, 'kAnnealingA': -9.328999755955877, 'kAnnealingB': 0.13280783106333216, 'kAnnealingStart': 4.791259019854179, 'kSkipRatio': 0.2802517638385952, 'kTargetDeterminationTrials': 2, 'kAttractionRatio': 0.021872608893405844, 'kMaxAttractionDistance': 31, 'kStartAttraction': 0.007006043196967629}. Best is trial 0 with value: 5275.321052631579.\u001b[0m\n"
     ]
    },
    {
     "name": "stdout",
     "output_type": "stream",
     "text": [
      "index_parallel='0002'\n"
     ]
    },
    {
     "name": "stderr",
     "output_type": "stream",
     "text": [
      "\u001b[32m[I 2022-08-15 21:39:18,171]\u001b[0m Trial 2 finished with value: 4730.015789473684 and parameters: {'kErase': 4, 'kRadius': 6, 'kAnnealingA': 7.016263653309814, 'kAnnealingB': 0.7531761706269522, 'kAnnealingStart': 1.0841633625318778, 'kSkipRatio': 0.7567598165142815, 'kTargetDeterminationTrials': 3, 'kAttractionRatio': 0.45204549753068884, 'kMaxAttractionDistance': 46, 'kStartAttraction': 0.18577142393031973}. Best is trial 0 with value: 5275.321052631579.\u001b[0m\n"
     ]
    },
    {
     "name": "stdout",
     "output_type": "stream",
     "text": [
      "index_parallel='0003'\n"
     ]
    },
    {
     "name": "stderr",
     "output_type": "stream",
     "text": [
      "\u001b[32m[I 2022-08-15 21:42:59,132]\u001b[0m Trial 3 finished with value: 5368.147368421052 and parameters: {'kErase': 2, 'kRadius': 5, 'kAnnealingA': 13.738952348149315, 'kAnnealingB': 0.713752471957532, 'kAnnealingStart': 10.902074836514277, 'kSkipRatio': 0.4706794583127894, 'kTargetDeterminationTrials': 3, 'kAttractionRatio': 0.024879010802548996, 'kMaxAttractionDistance': 16, 'kStartAttraction': 0.6668084941787318}. Best is trial 3 with value: 5368.147368421052.\u001b[0m\n"
     ]
    },
    {
     "name": "stdout",
     "output_type": "stream",
     "text": [
      "Updated! 5368.147368421052\n",
      "index_parallel='0004'\n"
     ]
    },
    {
     "name": "stderr",
     "output_type": "stream",
     "text": [
      "\u001b[32m[I 2022-08-15 21:46:40,405]\u001b[0m Trial 4 finished with value: 5055.636842105263 and parameters: {'kErase': 4, 'kRadius': 3, 'kAnnealingA': -11.769140635128432, 'kAnnealingB': 1.740562980339845, 'kAnnealingStart': 25.17508934207626, 'kSkipRatio': 0.6144867936267799, 'kTargetDeterminationTrials': 1, 'kAttractionRatio': 0.02844191175146271, 'kMaxAttractionDistance': 41, 'kStartAttraction': 0.004153102780695224}. Best is trial 3 with value: 5368.147368421052.\u001b[0m\n"
     ]
    },
    {
     "name": "stdout",
     "output_type": "stream",
     "text": [
      "index_parallel='0005'\n"
     ]
    },
    {
     "name": "stderr",
     "output_type": "stream",
     "text": [
      "\u001b[32m[I 2022-08-15 21:50:21,584]\u001b[0m Trial 5 finished with value: 5287.852631578948 and parameters: {'kErase': 4, 'kRadius': 2, 'kAnnealingA': 12.505338829004746, 'kAnnealingB': 1.6377848257813319, 'kAnnealingStart': 9.079134764318862, 'kSkipRatio': 0.5695005695692439, 'kTargetDeterminationTrials': 1, 'kAttractionRatio': 0.4358603011575313, 'kMaxAttractionDistance': 15, 'kStartAttraction': 0.05816559892372651}. Best is trial 3 with value: 5368.147368421052.\u001b[0m\n"
     ]
    },
    {
     "name": "stdout",
     "output_type": "stream",
     "text": [
      "index_parallel='0006'\n"
     ]
    },
    {
     "name": "stderr",
     "output_type": "stream",
     "text": [
      "\u001b[32m[I 2022-08-15 21:54:02,975]\u001b[0m Trial 6 finished with value: 4339.136842105263 and parameters: {'kErase': 5, 'kRadius': 5, 'kAnnealingA': -14.268337471837606, 'kAnnealingB': 0.6431792544081224, 'kAnnealingStart': 6.037214833780917, 'kSkipRatio': 0.470656916987157, 'kTargetDeterminationTrials': 1, 'kAttractionRatio': 0.02148316957979862, 'kMaxAttractionDistance': 11, 'kStartAttraction': 0.003451130035693156}. Best is trial 3 with value: 5368.147368421052.\u001b[0m\n"
     ]
    },
    {
     "name": "stdout",
     "output_type": "stream",
     "text": [
      "index_parallel='0007'\n"
     ]
    },
    {
     "name": "stderr",
     "output_type": "stream",
     "text": [
      "\u001b[32m[I 2022-08-15 21:57:43,573]\u001b[0m Trial 7 finished with value: 5478.936842105263 and parameters: {'kErase': 1, 'kRadius': 4, 'kAnnealingA': -13.598835728396608, 'kAnnealingB': 2.5132755418613884, 'kAnnealingStart': 22.550845137508848, 'kSkipRatio': 0.40555814792628353, 'kTargetDeterminationTrials': 1, 'kAttractionRatio': 0.19896003562427164, 'kMaxAttractionDistance': 15, 'kStartAttraction': 0.020383226346439937}. Best is trial 7 with value: 5478.936842105263.\u001b[0m\n"
     ]
    },
    {
     "name": "stdout",
     "output_type": "stream",
     "text": [
      "Updated! 5478.936842105263\n",
      "index_parallel='0008'\n"
     ]
    },
    {
     "name": "stderr",
     "output_type": "stream",
     "text": [
      "\u001b[32m[I 2022-08-15 22:01:24,423]\u001b[0m Trial 8 finished with value: 3876.7 and parameters: {'kErase': 1, 'kRadius': 2, 'kAnnealingA': 10.87198758976852, 'kAnnealingB': 2.069139360802092, 'kAnnealingStart': 83.48358021766478, 'kSkipRatio': 0.43095169863318106, 'kTargetDeterminationTrials': 2, 'kAttractionRatio': 0.43330778570737705, 'kMaxAttractionDistance': 4, 'kStartAttraction': 0.04825239641372294}. Best is trial 7 with value: 5478.936842105263.\u001b[0m\n"
     ]
    },
    {
     "name": "stdout",
     "output_type": "stream",
     "text": [
      "index_parallel='0009'\n"
     ]
    },
    {
     "name": "stderr",
     "output_type": "stream",
     "text": [
      "\u001b[32m[I 2022-08-15 22:05:05,972]\u001b[0m Trial 9 finished with value: 4905.852631578948 and parameters: {'kErase': 4, 'kRadius': 3, 'kAnnealingA': -5.910724523611671, 'kAnnealingB': 2.330238018327927, 'kAnnealingStart': 97.46361926618037, 'kSkipRatio': 0.3453359549123338, 'kTargetDeterminationTrials': 3, 'kAttractionRatio': 0.2279517215712661, 'kMaxAttractionDistance': 22, 'kStartAttraction': 0.01849675889529029}. Best is trial 7 with value: 5478.936842105263.\u001b[0m\n"
     ]
    },
    {
     "name": "stdout",
     "output_type": "stream",
     "text": [
      "index_parallel='0010'\n"
     ]
    },
    {
     "name": "stderr",
     "output_type": "stream",
     "text": [
      "\u001b[32m[I 2022-08-15 22:08:46,896]\u001b[0m Trial 10 finished with value: 5433.6 and parameters: {'kErase': 1, 'kRadius': 4, 'kAnnealingA': -1.059199276141987, 'kAnnealingB': 2.729179696183674, 'kAnnealingStart': 35.370344547157465, 'kSkipRatio': 0.23483181520586804, 'kTargetDeterminationTrials': 18, 'kAttractionRatio': 0.059192400500265696, 'kMaxAttractionDistance': 7, 'kStartAttraction': 0.15572064349960152}. Best is trial 7 with value: 5478.936842105263.\u001b[0m\n"
     ]
    },
    {
     "name": "stdout",
     "output_type": "stream",
     "text": [
      "index_parallel='0011'\n"
     ]
    },
    {
     "name": "stderr",
     "output_type": "stream",
     "text": [
      "\u001b[32m[I 2022-08-15 22:12:27,566]\u001b[0m Trial 11 finished with value: 5312.473684210527 and parameters: {'kErase': 1, 'kRadius': 4, 'kAnnealingA': 0.1415577145260054, 'kAnnealingB': 2.941263246454332, 'kAnnealingStart': 34.53248599381125, 'kSkipRatio': 0.202277955041988, 'kTargetDeterminationTrials': 20, 'kAttractionRatio': 0.07041314501972709, 'kMaxAttractionDistance': 7, 'kStartAttraction': 0.20027522775846857}. Best is trial 7 with value: 5478.936842105263.\u001b[0m\n"
     ]
    },
    {
     "name": "stdout",
     "output_type": "stream",
     "text": [
      "index_parallel='0012'\n"
     ]
    },
    {
     "name": "stderr",
     "output_type": "stream",
     "text": [
      "\u001b[32m[I 2022-08-15 22:16:08,594]\u001b[0m Trial 12 finished with value: 5430.352631578948 and parameters: {'kErase': 2, 'kRadius': 3, 'kAnnealingA': -2.7081133449304478, 'kAnnealingB': 2.9257683013641604, 'kAnnealingStart': 44.14426692573814, 'kSkipRatio': 0.33536387324031414, 'kTargetDeterminationTrials': 19, 'kAttractionRatio': 0.08258503576382449, 'kMaxAttractionDistance': 7, 'kStartAttraction': 0.0012081438048646542}. Best is trial 7 with value: 5478.936842105263.\u001b[0m\n"
     ]
    },
    {
     "name": "stdout",
     "output_type": "stream",
     "text": [
      "index_parallel='0013'\n"
     ]
    },
    {
     "name": "stderr",
     "output_type": "stream",
     "text": [
      "\u001b[32m[I 2022-08-15 22:19:49,445]\u001b[0m Trial 13 finished with value: 4349.215789473684 and parameters: {'kErase': 2, 'kRadius': 4, 'kAnnealingA': 4.473981700879367, 'kAnnealingB': 2.46729682072643, 'kAnnealingStart': 46.90962164335654, 'kSkipRatio': 0.21899025562298274, 'kTargetDeterminationTrials': 8, 'kAttractionRatio': 0.010353210881849107, 'kMaxAttractionDistance': 8, 'kStartAttraction': 0.1477249231443718}. Best is trial 7 with value: 5478.936842105263.\u001b[0m\n"
     ]
    },
    {
     "name": "stdout",
     "output_type": "stream",
     "text": [
      "index_parallel='0014'\n"
     ]
    },
    {
     "name": "stderr",
     "output_type": "stream",
     "text": [
      "\u001b[32m[I 2022-08-15 22:23:30,298]\u001b[0m Trial 14 finished with value: 5524.484210526316 and parameters: {'kErase': 1, 'kRadius': 6, 'kAnnealingA': -6.785314327782243, 'kAnnealingB': 2.5431551957113014, 'kAnnealingStart': 15.852320861600035, 'kSkipRatio': 0.371325935532802, 'kTargetDeterminationTrials': 8, 'kAttractionRatio': 0.1775015142199162, 'kMaxAttractionDistance': 72, 'kStartAttraction': 0.7804634614909226}. Best is trial 14 with value: 5524.484210526316.\u001b[0m\n"
     ]
    },
    {
     "name": "stdout",
     "output_type": "stream",
     "text": [
      "Updated! 5524.484210526316\n",
      "index_parallel='0015'\n"
     ]
    },
    {
     "name": "stderr",
     "output_type": "stream",
     "text": [
      "\u001b[32m[I 2022-08-15 22:27:11,321]\u001b[0m Trial 15 finished with value: 5119.9631578947365 and parameters: {'kErase': 2, 'kRadius': 6, 'kAnnealingA': -7.248729781723784, 'kAnnealingB': 2.0679839474106405, 'kAnnealingStart': 2.51846790209314, 'kSkipRatio': 0.39713030624338574, 'kTargetDeterminationTrials': 8, 'kAttractionRatio': 0.2165110997139662, 'kMaxAttractionDistance': 85, 'kStartAttraction': 0.7224245513794358}. Best is trial 14 with value: 5524.484210526316.\u001b[0m\n"
     ]
    },
    {
     "name": "stdout",
     "output_type": "stream",
     "text": [
      "index_parallel='0016'\n"
     ]
    },
    {
     "name": "stderr",
     "output_type": "stream",
     "text": [
      "\u001b[32m[I 2022-08-15 22:30:51,981]\u001b[0m Trial 16 finished with value: 5389.457894736842 and parameters: {'kErase': 1, 'kRadius': 6, 'kAnnealingA': -14.859176323393095, 'kAnnealingB': 2.489898824566862, 'kAnnealingStart': 14.873991134295622, 'kSkipRatio': 0.6508733029895089, 'kTargetDeterminationTrials': 5, 'kAttractionRatio': 0.23108113156792182, 'kMaxAttractionDistance': 96, 'kStartAttraction': 0.01533850736401305}. Best is trial 14 with value: 5524.484210526316.\u001b[0m\n"
     ]
    },
    {
     "name": "stdout",
     "output_type": "stream",
     "text": [
      "index_parallel='0017'\n"
     ]
    },
    {
     "name": "stderr",
     "output_type": "stream",
     "text": [
      "\u001b[32m[I 2022-08-15 22:34:33,227]\u001b[0m Trial 17 finished with value: 4911.9473684210525 and parameters: {'kErase': 3, 'kRadius': 5, 'kAnnealingA': -10.21668493525878, 'kAnnealingB': 2.0203122947621868, 'kAnnealingStart': 4.130629477852443, 'kSkipRatio': 0.3635045424401847, 'kTargetDeterminationTrials': 12, 'kAttractionRatio': 0.8569349014135424, 'kMaxAttractionDistance': 68, 'kStartAttraction': 0.059437089475751166}. Best is trial 14 with value: 5524.484210526316.\u001b[0m\n"
     ]
    },
    {
     "name": "stdout",
     "output_type": "stream",
     "text": [
      "index_parallel='0018'\n"
     ]
    },
    {
     "name": "stderr",
     "output_type": "stream",
     "text": [
      "\u001b[32m[I 2022-08-15 22:38:14,402]\u001b[0m Trial 18 finished with value: 5166.142105263158 and parameters: {'kErase': 3, 'kRadius': 3, 'kAnnealingA': -5.965324392817157, 'kAnnealingB': 1.188148070280411, 'kAnnealingStart': 19.71968702535982, 'kSkipRatio': 0.30165536758576633, 'kTargetDeterminationTrials': 2, 'kAttractionRatio': 0.12172769771897896, 'kMaxAttractionDistance': 53, 'kStartAttraction': 0.03506871540411571}. Best is trial 14 with value: 5524.484210526316.\u001b[0m\n"
     ]
    },
    {
     "name": "stdout",
     "output_type": "stream",
     "text": [
      "index_parallel='0019'\n"
     ]
    },
    {
     "name": "stderr",
     "output_type": "stream",
     "text": [
      "\u001b[32m[I 2022-08-15 22:41:54,898]\u001b[0m Trial 19 finished with value: 5461.368421052632 and parameters: {'kErase': 1, 'kRadius': 5, 'kAnnealingA': -12.321410178958537, 'kAnnealingB': 2.5607257443548317, 'kAnnealingStart': 9.43022232948954, 'kSkipRatio': 0.4141435189357478, 'kTargetDeterminationTrials': 12, 'kAttractionRatio': 0.15679820312091228, 'kMaxAttractionDistance': 12, 'kStartAttraction': 0.46132534809050463}. Best is trial 14 with value: 5524.484210526316.\u001b[0m\n"
     ]
    },
    {
     "name": "stdout",
     "output_type": "stream",
     "text": [
      "index_parallel='0020'\n"
     ]
    },
    {
     "name": "stderr",
     "output_type": "stream",
     "text": [
      "\u001b[32m[I 2022-08-15 22:45:36,024]\u001b[0m Trial 20 finished with value: 5200.010526315789 and parameters: {'kErase': 2, 'kRadius': 6, 'kAnnealingA': -3.797140122177216, 'kAnnealingB': 1.313493778600065, 'kAnnealingStart': 63.245021768965934, 'kSkipRatio': 0.5084043415129931, 'kTargetDeterminationTrials': 5, 'kAttractionRatio': 0.7813641189838322, 'kMaxAttractionDistance': 29, 'kStartAttraction': 0.09096464471314497}. Best is trial 14 with value: 5524.484210526316.\u001b[0m\n"
     ]
    },
    {
     "name": "stdout",
     "output_type": "stream",
     "text": [
      "index_parallel='0021'\n"
     ]
    },
    {
     "name": "stderr",
     "output_type": "stream",
     "text": [
      "\u001b[32m[I 2022-08-15 22:49:16,833]\u001b[0m Trial 21 finished with value: 5449.352631578948 and parameters: {'kErase': 1, 'kRadius': 5, 'kAnnealingA': -11.781647901287723, 'kAnnealingB': 2.634768212308183, 'kAnnealingStart': 8.710282955832737, 'kSkipRatio': 0.43187475915366347, 'kTargetDeterminationTrials': 13, 'kAttractionRatio': 0.1793363853277123, 'kMaxAttractionDistance': 12, 'kStartAttraction': 0.3862344024936896}. Best is trial 14 with value: 5524.484210526316.\u001b[0m\n"
     ]
    },
    {
     "name": "stdout",
     "output_type": "stream",
     "text": [
      "index_parallel='0022'\n"
     ]
    },
    {
     "name": "stderr",
     "output_type": "stream",
     "text": [
      "\u001b[32m[I 2022-08-15 22:52:57,664]\u001b[0m Trial 22 finished with value: 5464.694736842105 and parameters: {'kErase': 1, 'kRadius': 5, 'kAnnealingA': -8.735960931756166, 'kAnnealingB': 2.279732039363897, 'kAnnealingStart': 14.908148314238225, 'kSkipRatio': 0.4061539803430972, 'kTargetDeterminationTrials': 11, 'kAttractionRatio': 0.04861302792595489, 'kMaxAttractionDistance': 21, 'kStartAttraction': 0.3752856177031296}. Best is trial 14 with value: 5524.484210526316.\u001b[0m\n"
     ]
    },
    {
     "name": "stdout",
     "output_type": "stream",
     "text": [
      "index_parallel='0023'\n"
     ]
    },
    {
     "name": "stderr",
     "output_type": "stream",
     "text": [
      "\u001b[32m[I 2022-08-15 22:56:38,387]\u001b[0m Trial 23 finished with value: 5456.305263157895 and parameters: {'kErase': 1, 'kRadius': 6, 'kAnnealingA': -8.472965706667836, 'kAnnealingB': 2.2825591393820983, 'kAnnealingStart': 26.092838806251894, 'kSkipRatio': 0.3878564484597928, 'kTargetDeterminationTrials': 7, 'kAttractionRatio': 0.042931008414777386, 'kMaxAttractionDistance': 21, 'kStartAttraction': 0.34848527026067316}. Best is trial 14 with value: 5524.484210526316.\u001b[0m\n"
     ]
    },
    {
     "name": "stdout",
     "output_type": "stream",
     "text": [
      "index_parallel='0024'\n"
     ]
    },
    {
     "name": "stderr",
     "output_type": "stream",
     "text": [
      "\u001b[32m[I 2022-08-15 23:00:19,406]\u001b[0m Trial 24 finished with value: 5280.847368421053 and parameters: {'kErase': 2, 'kRadius': 5, 'kAnnealingA': -3.9945281065746565, 'kAnnealingB': 1.8698168887857491, 'kAnnealingStart': 20.7652899578285, 'kSkipRatio': 0.3022687747529494, 'kTargetDeterminationTrials': 10, 'kAttractionRatio': 0.04556813821016189, 'kMaxAttractionDistance': 62, 'kStartAttraction': 0.7997583743833732}. Best is trial 14 with value: 5524.484210526316.\u001b[0m\n"
     ]
    },
    {
     "name": "stdout",
     "output_type": "stream",
     "text": [
      "index_parallel='0025'\n"
     ]
    },
    {
     "name": "stderr",
     "output_type": "stream",
     "text": [
      "\u001b[32m[I 2022-08-15 23:04:00,060]\u001b[0m Trial 25 finished with value: 5526.126315789474 and parameters: {'kErase': 1, 'kRadius': 6, 'kAnnealingA': 2.1717327333064285, 'kAnnealingB': 2.233704718363298, 'kAnnealingStart': 12.083381746062926, 'kSkipRatio': 0.4717317324255987, 'kTargetDeterminationTrials': 5, 'kAttractionRatio': 0.09905726804590909, 'kMaxAttractionDistance': 4, 'kStartAttraction': 0.01840635273267697}. Best is trial 25 with value: 5526.126315789474.\u001b[0m\n"
     ]
    },
    {
     "name": "stdout",
     "output_type": "stream",
     "text": [
      "Updated! 5526.126315789474\n",
      "index_parallel='0026'\n"
     ]
    },
    {
     "name": "stderr",
     "output_type": "stream",
     "text": [
      "\u001b[32m[I 2022-08-15 23:07:41,294]\u001b[0m Trial 26 finished with value: 5194.031578947369 and parameters: {'kErase': 2, 'kRadius': 6, 'kAnnealingA': 3.048779578481253, 'kAnnealingB': 2.7250222388887764, 'kAnnealingStart': 13.101913669993282, 'kSkipRatio': 0.5640272787915688, 'kTargetDeterminationTrials': 4, 'kAttractionRatio': 0.32513938794084735, 'kMaxAttractionDistance': 4, 'kStartAttraction': 0.021016126262186657}. Best is trial 25 with value: 5526.126315789474.\u001b[0m\n"
     ]
    },
    {
     "name": "stdout",
     "output_type": "stream",
     "text": [
      "index_parallel='0027'\n"
     ]
    },
    {
     "name": "stderr",
     "output_type": "stream",
     "text": [
      "\u001b[32m[I 2022-08-15 23:11:21,791]\u001b[0m Trial 27 finished with value: 5563.61052631579 and parameters: {'kErase': 1, 'kRadius': 4, 'kAnnealingA': 2.68952561621803, 'kAnnealingB': 2.9822617481856586, 'kAnnealingStart': 3.421897417164235, 'kSkipRatio': 0.4846465366216731, 'kTargetDeterminationTrials': 4, 'kAttractionRatio': 0.1126735816412897, 'kMaxAttractionDistance': 5, 'kStartAttraction': 0.01103510218064301}. Best is trial 27 with value: 5563.61052631579.\u001b[0m\n"
     ]
    },
    {
     "name": "stdout",
     "output_type": "stream",
     "text": [
      "Updated! 5563.61052631579\n",
      "index_parallel='0028'\n"
     ]
    },
    {
     "name": "stderr",
     "output_type": "stream",
     "text": [
      "\u001b[32m[I 2022-08-15 23:15:02,818]\u001b[0m Trial 28 finished with value: 5398.021052631579 and parameters: {'kErase': 2, 'kRadius': 6, 'kAnnealingA': 6.887649308611697, 'kAnnealingB': 2.761306466366064, 'kAnnealingStart': 2.2559304150508224, 'kSkipRatio': 0.6492327507855581, 'kTargetDeterminationTrials': 5, 'kAttractionRatio': 0.10411314864597393, 'kMaxAttractionDistance': 5, 'kStartAttraction': 0.009091059894241709}. Best is trial 27 with value: 5563.61052631579.\u001b[0m\n"
     ]
    },
    {
     "name": "stdout",
     "output_type": "stream",
     "text": [
      "index_parallel='0029'\n"
     ]
    },
    {
     "name": "stderr",
     "output_type": "stream",
     "text": [
      "\u001b[32m[I 2022-08-15 23:18:43,474]\u001b[0m Trial 29 finished with value: 5664.021052631579 and parameters: {'kErase': 1, 'kRadius': 4, 'kAnnealingA': 1.7398158068458107, 'kAnnealingB': 2.8200583335188814, 'kAnnealingStart': 6.457377114865716, 'kSkipRatio': 0.5257958655699546, 'kTargetDeterminationTrials': 4, 'kAttractionRatio': 0.12706930731212504, 'kMaxAttractionDistance': 5, 'kStartAttraction': 0.009662610399835514}. Best is trial 29 with value: 5664.021052631579.\u001b[0m\n"
     ]
    },
    {
     "name": "stdout",
     "output_type": "stream",
     "text": [
      "Updated! 5664.021052631579\n",
      "index_parallel='0030'\n"
     ]
    },
    {
     "name": "stderr",
     "output_type": "stream",
     "text": [
      "\u001b[32m[I 2022-08-15 23:22:25,137]\u001b[0m Trial 30 finished with value: 4549.563157894737 and parameters: {'kErase': 5, 'kRadius': 4, 'kAnnealingA': 1.6047896821606593, 'kAnnealingB': 2.904504928900159, 'kAnnealingStart': 2.8510360569680087, 'kSkipRatio': 0.5338642147275106, 'kTargetDeterminationTrials': 4, 'kAttractionRatio': 0.09570248603642884, 'kMaxAttractionDistance': 5, 'kStartAttraction': 0.010363218070750808}. Best is trial 29 with value: 5664.021052631579.\u001b[0m\n"
     ]
    },
    {
     "name": "stdout",
     "output_type": "stream",
     "text": [
      "index_parallel='0031'\n"
     ]
    },
    {
     "name": "stderr",
     "output_type": "stream",
     "text": [
      "\u001b[32m[I 2022-08-15 23:26:05,817]\u001b[0m Trial 31 finished with value: 5669.973684210527 and parameters: {'kErase': 1, 'kRadius': 4, 'kAnnealingA': 5.3068478697773, 'kAnnealingB': 2.966332872715804, 'kAnnealingStart': 6.169768760185598, 'kSkipRatio': 0.4710338159057254, 'kTargetDeterminationTrials': 6, 'kAttractionRatio': 0.13541035604944227, 'kMaxAttractionDistance': 5, 'kStartAttraction': 0.005057770128927312}. Best is trial 31 with value: 5669.973684210527.\u001b[0m\n"
     ]
    },
    {
     "name": "stdout",
     "output_type": "stream",
     "text": [
      "Updated! 5669.973684210527\n",
      "index_parallel='0032'\n"
     ]
    },
    {
     "name": "stderr",
     "output_type": "stream",
     "text": [
      "\u001b[32m[I 2022-08-15 23:29:46,557]\u001b[0m Trial 32 finished with value: 5707.731578947369 and parameters: {'kErase': 1, 'kRadius': 4, 'kAnnealingA': 5.677763503732045, 'kAnnealingB': 2.969197555664601, 'kAnnealingStart': 6.015722668977596, 'kSkipRatio': 0.4921136279627915, 'kTargetDeterminationTrials': 4, 'kAttractionRatio': 0.12581139160626045, 'kMaxAttractionDistance': 5, 'kStartAttraction': 0.004947647878184219}. Best is trial 32 with value: 5707.731578947369.\u001b[0m\n"
     ]
    },
    {
     "name": "stdout",
     "output_type": "stream",
     "text": [
      "Updated! 5707.731578947369\n",
      "index_parallel='0033'\n"
     ]
    },
    {
     "name": "stderr",
     "output_type": "stream",
     "text": [
      "\u001b[32m[I 2022-08-15 23:33:27,216]\u001b[0m Trial 33 finished with value: 5699.194736842105 and parameters: {'kErase': 1, 'kRadius': 4, 'kAnnealingA': 8.525508661584364, 'kAnnealingB': 2.990645137094961, 'kAnnealingStart': 6.46860938199358, 'kSkipRatio': 0.5126867749564684, 'kTargetDeterminationTrials': 2, 'kAttractionRatio': 0.13345553002827112, 'kMaxAttractionDistance': 5, 'kStartAttraction': 0.003402732457816723}. Best is trial 32 with value: 5707.731578947369.\u001b[0m\n"
     ]
    },
    {
     "name": "stdout",
     "output_type": "stream",
     "text": [
      "index_parallel='0034'\n"
     ]
    },
    {
     "name": "stderr",
     "output_type": "stream",
     "text": [
      "\u001b[32m[I 2022-08-15 23:37:08,521]\u001b[0m Trial 34 finished with value: 5643.4157894736845 and parameters: {'kErase': 2, 'kRadius': 3, 'kAnnealingA': 8.81766475078635, 'kAnnealingB': 2.7976215705991656, 'kAnnealingStart': 6.151874908290268, 'kSkipRatio': 0.585404958919947, 'kTargetDeterminationTrials': 2, 'kAttractionRatio': 0.3076143873341061, 'kMaxAttractionDistance': 9, 'kStartAttraction': 0.004099822842403484}. Best is trial 32 with value: 5707.731578947369.\u001b[0m\n"
     ]
    },
    {
     "name": "stdout",
     "output_type": "stream",
     "text": [
      "index_parallel='0035'\n"
     ]
    },
    {
     "name": "stderr",
     "output_type": "stream",
     "text": [
      "\u001b[32m[I 2022-08-15 23:40:49,125]\u001b[0m Trial 35 finished with value: 5475.868421052632 and parameters: {'kErase': 1, 'kRadius': 4, 'kAnnealingA': 6.970965850410593, 'kAnnealingB': 0.1779615549080722, 'kAnnealingStart': 1.7635992822488393, 'kSkipRatio': 0.5299314824589952, 'kTargetDeterminationTrials': 3, 'kAttractionRatio': 0.13193204668511233, 'kMaxAttractionDistance': 6, 'kStartAttraction': 0.0017164398091907868}. Best is trial 32 with value: 5707.731578947369.\u001b[0m\n"
     ]
    },
    {
     "name": "stdout",
     "output_type": "stream",
     "text": [
      "index_parallel='0036'\n"
     ]
    },
    {
     "name": "stderr",
     "output_type": "stream",
     "text": [
      "\u001b[32m[I 2022-08-15 23:44:30,178]\u001b[0m Trial 36 finished with value: 5632.121052631579 and parameters: {'kErase': 2, 'kRadius': 4, 'kAnnealingA': 5.250246111931503, 'kAnnealingB': 2.983494387987323, 'kAnnealingStart': 5.926314057793846, 'kSkipRatio': 0.70726604185097, 'kTargetDeterminationTrials': 2, 'kAttractionRatio': 0.13787480872214514, 'kMaxAttractionDistance': 6, 'kStartAttraction': 0.0033904419441625655}. Best is trial 32 with value: 5707.731578947369.\u001b[0m\n"
     ]
    },
    {
     "name": "stdout",
     "output_type": "stream",
     "text": [
      "index_parallel='0037'\n"
     ]
    },
    {
     "name": "stderr",
     "output_type": "stream",
     "text": [
      "\u001b[32m[I 2022-08-15 23:48:10,960]\u001b[0m Trial 37 finished with value: 5826.91052631579 and parameters: {'kErase': 1, 'kRadius': 3, 'kAnnealingA': 9.472963026031266, 'kAnnealingB': 2.780613361812464, 'kAnnealingStart': 7.109408727458498, 'kSkipRatio': 0.6039786117737447, 'kTargetDeterminationTrials': 6, 'kAttractionRatio': 0.07515856075373227, 'kMaxAttractionDistance': 9, 'kStartAttraction': 0.002188450243056723}. Best is trial 37 with value: 5826.91052631579.\u001b[0m\n"
     ]
    },
    {
     "name": "stdout",
     "output_type": "stream",
     "text": [
      "Updated! 5826.91052631579\n",
      "index_parallel='0038'\n"
     ]
    },
    {
     "name": "stderr",
     "output_type": "stream",
     "text": [
      "\u001b[32m[I 2022-08-15 23:51:52,496]\u001b[0m Trial 38 finished with value: 5470.968421052631 and parameters: {'kErase': 3, 'kRadius': 3, 'kAnnealingA': 9.925287617533613, 'kAnnealingB': 2.696023727687072, 'kAnnealingStart': 4.396207967826047, 'kSkipRatio': 0.603265128039244, 'kTargetDeterminationTrials': 7, 'kAttractionRatio': 0.0759135515460138, 'kMaxAttractionDistance': 10, 'kStartAttraction': 0.0022492439293098875}. Best is trial 37 with value: 5826.91052631579.\u001b[0m\n"
     ]
    },
    {
     "name": "stdout",
     "output_type": "stream",
     "text": [
      "index_parallel='0039'\n"
     ]
    },
    {
     "name": "stderr",
     "output_type": "stream",
     "text": [
      "\u001b[32m[I 2022-08-15 23:55:32,964]\u001b[0m Trial 39 finished with value: 5773.273684210526 and parameters: {'kErase': 1, 'kRadius': 2, 'kAnnealingA': 14.739784562960143, 'kAnnealingB': 0.8793743871408795, 'kAnnealingStart': 7.708106809384938, 'kSkipRatio': 0.783826624741696, 'kTargetDeterminationTrials': 6, 'kAttractionRatio': 0.035260367395387945, 'kMaxAttractionDistance': 6, 'kStartAttraction': 0.006560957435366569}. Best is trial 37 with value: 5826.91052631579.\u001b[0m\n"
     ]
    },
    {
     "name": "stdout",
     "output_type": "stream",
     "text": [
      "index_parallel='0040'\n"
     ]
    },
    {
     "name": "stderr",
     "output_type": "stream",
     "text": [
      "\u001b[32m[I 2022-08-15 23:59:13,823]\u001b[0m Trial 40 finished with value: 5816.257894736842 and parameters: {'kErase': 2, 'kRadius': 2, 'kAnnealingA': 14.031092204850596, 'kAnnealingB': 0.9180480221542808, 'kAnnealingStart': 7.319120851218284, 'kSkipRatio': 0.7972906777049518, 'kTargetDeterminationTrials': 6, 'kAttractionRatio': 0.03190570699428044, 'kMaxAttractionDistance': 9, 'kStartAttraction': 0.006343640223287826}. Best is trial 37 with value: 5826.91052631579.\u001b[0m\n"
     ]
    },
    {
     "name": "stdout",
     "output_type": "stream",
     "text": [
      "index_parallel='0041'\n"
     ]
    },
    {
     "name": "stderr",
     "output_type": "stream",
     "text": [
      "\u001b[32m[I 2022-08-16 00:02:54,546]\u001b[0m Trial 41 finished with value: 5725.010526315789 and parameters: {'kErase': 2, 'kRadius': 2, 'kAnnealingA': 14.874010043558403, 'kAnnealingB': 0.9353007491090614, 'kAnnealingStart': 7.680404969669641, 'kSkipRatio': 0.7808152252114937, 'kTargetDeterminationTrials': 6, 'kAttractionRatio': 0.03035732398208268, 'kMaxAttractionDistance': 9, 'kStartAttraction': 0.006604547215097005}. Best is trial 37 with value: 5826.91052631579.\u001b[0m\n"
     ]
    },
    {
     "name": "stdout",
     "output_type": "stream",
     "text": [
      "index_parallel='0042'\n"
     ]
    },
    {
     "name": "stderr",
     "output_type": "stream",
     "text": [
      "\u001b[32m[I 2022-08-16 00:06:35,400]\u001b[0m Trial 42 finished with value: 5744.421052631579 and parameters: {'kErase': 2, 'kRadius': 2, 'kAnnealingA': 13.804879589495997, 'kAnnealingB': 0.8125232534321734, 'kAnnealingStart': 7.621650023579448, 'kSkipRatio': 0.7996368666206985, 'kTargetDeterminationTrials': 6, 'kAttractionRatio': 0.031536053602257745, 'kMaxAttractionDistance': 14, 'kStartAttraction': 0.0067591246367266}. Best is trial 37 with value: 5826.91052631579.\u001b[0m\n"
     ]
    },
    {
     "name": "stdout",
     "output_type": "stream",
     "text": [
      "index_parallel='0043'\n"
     ]
    },
    {
     "name": "stderr",
     "output_type": "stream",
     "text": [
      "\u001b[32m[I 2022-08-16 00:10:16,389]\u001b[0m Trial 43 finished with value: 5556.4315789473685 and parameters: {'kErase': 3, 'kRadius': 2, 'kAnnealingA': 14.700712941199543, 'kAnnealingB': 0.9166182507937208, 'kAnnealingStart': 8.083974591211343, 'kSkipRatio': 0.7957103156214869, 'kTargetDeterminationTrials': 6, 'kAttractionRatio': 0.03200548305529403, 'kMaxAttractionDistance': 17, 'kStartAttraction': 0.00656173827097364}. Best is trial 37 with value: 5826.91052631579.\u001b[0m\n"
     ]
    },
    {
     "name": "stdout",
     "output_type": "stream",
     "text": [
      "index_parallel='0044'\n"
     ]
    },
    {
     "name": "stderr",
     "output_type": "stream",
     "text": [
      "\u001b[32m[I 2022-08-16 00:13:57,557]\u001b[0m Trial 44 finished with value: 5732.58947368421 and parameters: {'kErase': 2, 'kRadius': 2, 'kAnnealingA': 12.436282633934042, 'kAnnealingB': 0.5683176552118373, 'kAnnealingStart': 10.913369639620578, 'kSkipRatio': 0.7376361075524804, 'kTargetDeterminationTrials': 9, 'kAttractionRatio': 0.01957271934584765, 'kMaxAttractionDistance': 9, 'kStartAttraction': 0.0024091051311588363}. Best is trial 37 with value: 5826.91052631579.\u001b[0m\n"
     ]
    },
    {
     "name": "stdout",
     "output_type": "stream",
     "text": [
      "index_parallel='0045'\n"
     ]
    },
    {
     "name": "stderr",
     "output_type": "stream",
     "text": [
      "\u001b[32m[I 2022-08-16 00:17:38,873]\u001b[0m Trial 45 finished with value: 5428.510526315789 and parameters: {'kErase': 3, 'kRadius': 2, 'kAnnealingA': 12.581952432030054, 'kAnnealingB': 0.5300763629573544, 'kAnnealingStart': 11.127205797108756, 'kSkipRatio': 0.7278902382244095, 'kTargetDeterminationTrials': 15, 'kAttractionRatio': 0.017069745393769306, 'kMaxAttractionDistance': 14, 'kStartAttraction': 0.002120189476417524}. Best is trial 37 with value: 5826.91052631579.\u001b[0m\n"
     ]
    },
    {
     "name": "stdout",
     "output_type": "stream",
     "text": [
      "index_parallel='0046'\n"
     ]
    },
    {
     "name": "stderr",
     "output_type": "stream",
     "text": [
      "\u001b[32m[I 2022-08-16 00:21:19,828]\u001b[0m Trial 46 finished with value: 5660.978947368421 and parameters: {'kErase': 2, 'kRadius': 2, 'kAnnealingA': 11.977373206815502, 'kAnnealingB': 0.3863652311233877, 'kAnnealingStart': 5.127788288951553, 'kSkipRatio': 0.7485833370754982, 'kTargetDeterminationTrials': 9, 'kAttractionRatio': 0.018840076888303414, 'kMaxAttractionDistance': 14, 'kStartAttraction': 0.001299666793634017}. Best is trial 37 with value: 5826.91052631579.\u001b[0m\n"
     ]
    },
    {
     "name": "stdout",
     "output_type": "stream",
     "text": [
      "index_parallel='0047'\n"
     ]
    },
    {
     "name": "stderr",
     "output_type": "stream",
     "text": [
      "\u001b[32m[I 2022-08-16 00:25:01,117]\u001b[0m Trial 47 finished with value: 5172.3421052631575 and parameters: {'kErase': 4, 'kRadius': 2, 'kAnnealingA': 13.281040878866293, 'kAnnealingB': 0.9923658467655743, 'kAnnealingStart': 10.438212716629804, 'kSkipRatio': 0.6890278184094497, 'kTargetDeterminationTrials': 7, 'kAttractionRatio': 0.013031541537195936, 'kMaxAttractionDistance': 37, 'kStartAttraction': 0.0026284944192929553}. Best is trial 37 with value: 5826.91052631579.\u001b[0m\n"
     ]
    },
    {
     "name": "stdout",
     "output_type": "stream",
     "text": [
      "index_parallel='0048'\n"
     ]
    },
    {
     "name": "stderr",
     "output_type": "stream",
     "text": [
      "\u001b[32m[I 2022-08-16 00:28:42,128]\u001b[0m Trial 48 finished with value: 5673.757894736842 and parameters: {'kErase': 2, 'kRadius': 2, 'kAnnealingA': 11.19977026470885, 'kAnnealingB': 0.7924308144689499, 'kAnnealingStart': 3.8788610263136474, 'kSkipRatio': 0.7645304835523469, 'kTargetDeterminationTrials': 15, 'kAttractionRatio': 0.03605506163730521, 'kMaxAttractionDistance': 8, 'kStartAttraction': 0.001614338591311105}. Best is trial 37 with value: 5826.91052631579.\u001b[0m\n"
     ]
    },
    {
     "name": "stdout",
     "output_type": "stream",
     "text": [
      "index_parallel='0049'\n"
     ]
    },
    {
     "name": "stderr",
     "output_type": "stream",
     "text": [
      "\u001b[32m[I 2022-08-16 00:32:23,166]\u001b[0m Trial 49 finished with value: 5740.38947368421 and parameters: {'kErase': 2, 'kRadius': 2, 'kAnnealingA': 13.775099784178368, 'kAnnealingB': 1.510795222980504, 'kAnnealingStart': 4.987303833276181, 'kSkipRatio': 0.6786195770317789, 'kTargetDeterminationTrials': 10, 'kAttractionRatio': 0.025206075247314563, 'kMaxAttractionDistance': 11, 'kStartAttraction': 0.0010974931324978514}. Best is trial 37 with value: 5826.91052631579.\u001b[0m\n"
     ]
    },
    {
     "name": "stdout",
     "output_type": "stream",
     "text": [
      "index_parallel='0050'\n"
     ]
    },
    {
     "name": "stderr",
     "output_type": "stream",
     "text": [
      "\u001b[32m[I 2022-08-16 00:36:04,295]\u001b[0m Trial 50 finished with value: 5276.278947368421 and parameters: {'kErase': 3, 'kRadius': 3, 'kAnnealingA': 13.91004619871788, 'kAnnealingB': 1.5329659784081384, 'kAnnealingStart': 1.0574486900485955, 'kSkipRatio': 0.6622245229089812, 'kTargetDeterminationTrials': 3, 'kAttractionRatio': 0.02586977143844092, 'kMaxAttractionDistance': 11, 'kStartAttraction': 0.001016661173776512}. Best is trial 37 with value: 5826.91052631579.\u001b[0m\n"
     ]
    },
    {
     "name": "stdout",
     "output_type": "stream",
     "text": [
      "index_parallel='0051'\n"
     ]
    },
    {
     "name": "stderr",
     "output_type": "stream",
     "text": [
      "\u001b[32m[I 2022-08-16 00:39:45,579]\u001b[0m Trial 51 finished with value: 5746.7947368421055 and parameters: {'kErase': 2, 'kRadius': 2, 'kAnnealingA': 9.78900431131974, 'kAnnealingB': 0.5447220418666718, 'kAnnealingStart': 4.840760589769228, 'kSkipRatio': 0.7444919111317574, 'kTargetDeterminationTrials': 10, 'kAttractionRatio': 0.02251950379264353, 'kMaxAttractionDistance': 8, 'kStartAttraction': 0.002610399482347848}. Best is trial 37 with value: 5826.91052631579.\u001b[0m\n"
     ]
    },
    {
     "name": "stdout",
     "output_type": "stream",
     "text": [
      "index_parallel='0052'\n"
     ]
    },
    {
     "name": "stderr",
     "output_type": "stream",
     "text": [
      "\u001b[32m[I 2022-08-16 00:43:26,662]\u001b[0m Trial 52 finished with value: 5740.0684210526315 and parameters: {'kErase': 2, 'kRadius': 2, 'kAnnealingA': 10.299644522372796, 'kAnnealingB': 1.1829180448822498, 'kAnnealingStart': 4.9527293506372665, 'kSkipRatio': 0.7144448004002566, 'kTargetDeterminationTrials': 9, 'kAttractionRatio': 0.059577580060411056, 'kMaxAttractionDistance': 8, 'kStartAttraction': 0.0017419075454021102}. Best is trial 37 with value: 5826.91052631579.\u001b[0m\n"
     ]
    },
    {
     "name": "stdout",
     "output_type": "stream",
     "text": [
      "index_parallel='0053'\n"
     ]
    },
    {
     "name": "stderr",
     "output_type": "stream",
     "text": [
      "\u001b[32m[I 2022-08-16 00:47:07,535]\u001b[0m Trial 53 finished with value: 5603.015789473684 and parameters: {'kErase': 2, 'kRadius': 2, 'kAnnealingA': 8.740829087149663, 'kAnnealingB': 0.3738607648812251, 'kAnnealingStart': 3.528332714301059, 'kSkipRatio': 0.7619027109441415, 'kTargetDeterminationTrials': 15, 'kAttractionRatio': 0.03612277994537368, 'kMaxAttractionDistance': 6, 'kStartAttraction': 0.013755166045877081}. Best is trial 37 with value: 5826.91052631579.\u001b[0m\n"
     ]
    },
    {
     "name": "stdout",
     "output_type": "stream",
     "text": [
      "index_parallel='0054'\n"
     ]
    },
    {
     "name": "stderr",
     "output_type": "stream",
     "text": [
      "\u001b[32m[I 2022-08-16 00:50:48,462]\u001b[0m Trial 54 finished with value: 5479.757894736842 and parameters: {'kErase': 3, 'kRadius': 2, 'kAnnealingA': 11.352250197052154, 'kAnnealingB': 1.0629506498026504, 'kAnnealingStart': 7.33928847266274, 'kSkipRatio': 0.7965649274912512, 'kTargetDeterminationTrials': 7, 'kAttractionRatio': 0.01504942381585019, 'kMaxAttractionDistance': 13, 'kStartAttraction': 0.002869986794716649}. Best is trial 37 with value: 5826.91052631579.\u001b[0m\n"
     ]
    },
    {
     "name": "stdout",
     "output_type": "stream",
     "text": [
      "index_parallel='0055'\n"
     ]
    },
    {
     "name": "stderr",
     "output_type": "stream",
     "text": [
      "\u001b[32m[I 2022-08-16 00:54:29,701]\u001b[0m Trial 55 finished with value: 5643.6578947368425 and parameters: {'kErase': 2, 'kRadius': 3, 'kAnnealingA': 13.786104528475274, 'kAnnealingB': 1.3499813438918924, 'kAnnealingStart': 7.829438304081885, 'kSkipRatio': 0.6801810472214836, 'kTargetDeterminationTrials': 10, 'kAttractionRatio': 0.026025942943561645, 'kMaxAttractionDistance': 18, 'kStartAttraction': 0.005194964454916229}. Best is trial 37 with value: 5826.91052631579.\u001b[0m\n"
     ]
    },
    {
     "name": "stdout",
     "output_type": "stream",
     "text": [
      "index_parallel='0056'\n"
     ]
    },
    {
     "name": "stderr",
     "output_type": "stream",
     "text": [
      "\u001b[32m[I 2022-08-16 00:58:10,763]\u001b[0m Trial 56 finished with value: 5681.6578947368425 and parameters: {'kErase': 2, 'kRadius': 2, 'kAnnealingA': 9.879756478169643, 'kAnnealingB': 0.730913835480745, 'kAnnealingStart': 3.046759287528192, 'kSkipRatio': 0.6223207413499581, 'kTargetDeterminationTrials': 5, 'kAttractionRatio': 0.05961391773874629, 'kMaxAttractionDistance': 25, 'kStartAttraction': 0.0014321512759271657}. Best is trial 37 with value: 5826.91052631579.\u001b[0m\n"
     ]
    },
    {
     "name": "stdout",
     "output_type": "stream",
     "text": [
      "index_parallel='0057'\n"
     ]
    },
    {
     "name": "stderr",
     "output_type": "stream",
     "text": [
      "\u001b[32m[I 2022-08-16 01:01:51,654]\u001b[0m Trial 57 finished with value: 5539.11052631579 and parameters: {'kErase': 2, 'kRadius': 3, 'kAnnealingA': 13.260805498328894, 'kAnnealingB': 0.1268480037110274, 'kAnnealingStart': 1.8676660789384163, 'kSkipRatio': 0.7651124658188102, 'kTargetDeterminationTrials': 11, 'kAttractionRatio': 0.022045834273608664, 'kMaxAttractionDistance': 10, 'kStartAttraction': 0.007369236349827272}. Best is trial 37 with value: 5826.91052631579.\u001b[0m\n"
     ]
    },
    {
     "name": "stdout",
     "output_type": "stream",
     "text": [
      "index_parallel='0058'\n"
     ]
    },
    {
     "name": "stderr",
     "output_type": "stream",
     "text": [
      "\u001b[32m[I 2022-08-16 01:05:32,408]\u001b[0m Trial 58 finished with value: 5778.005263157895 and parameters: {'kErase': 1, 'kRadius': 2, 'kAnnealingA': 14.973026324256226, 'kAnnealingB': 0.8434962898753298, 'kAnnealingStart': 4.900430807245319, 'kSkipRatio': 0.7124582369229079, 'kTargetDeterminationTrials': 8, 'kAttractionRatio': 0.02242911683138786, 'kMaxAttractionDistance': 7, 'kStartAttraction': 0.001063363998475319}. Best is trial 37 with value: 5826.91052631579.\u001b[0m\n"
     ]
    },
    {
     "name": "stdout",
     "output_type": "stream",
     "text": [
      "index_parallel='0059'\n"
     ]
    },
    {
     "name": "stderr",
     "output_type": "stream",
     "text": [
      "\u001b[32m[I 2022-08-16 01:09:13,040]\u001b[0m Trial 59 finished with value: 5747.1736842105265 and parameters: {'kErase': 1, 'kRadius': 3, 'kAnnealingA': 11.83327028075964, 'kAnnealingB': 0.8385296955234872, 'kAnnealingStart': 9.413467901632254, 'kSkipRatio': 0.7113707148112749, 'kTargetDeterminationTrials': 8, 'kAttractionRatio': 0.03825012837507696, 'kMaxAttractionDistance': 7, 'kStartAttraction': 0.004482954281958493}. Best is trial 37 with value: 5826.91052631579.\u001b[0m\n"
     ]
    },
    {
     "name": "stdout",
     "output_type": "stream",
     "text": [
      "index_parallel='0060'\n"
     ]
    },
    {
     "name": "stderr",
     "output_type": "stream",
     "text": [
      "\u001b[32m[I 2022-08-16 01:12:53,685]\u001b[0m Trial 60 finished with value: 5594.768421052631 and parameters: {'kErase': 1, 'kRadius': 3, 'kAnnealingA': 14.96008576386759, 'kAnnealingB': 0.6283308164766146, 'kAnnealingStart': 18.02024491041184, 'kSkipRatio': 0.701396277459182, 'kTargetDeterminationTrials': 8, 'kAttractionRatio': 0.039179225357482056, 'kMaxAttractionDistance': 7, 'kStartAttraction': 0.004193164940872087}. Best is trial 37 with value: 5826.91052631579.\u001b[0m\n"
     ]
    },
    {
     "name": "stdout",
     "output_type": "stream",
     "text": [
      "index_parallel='0061'\n"
     ]
    },
    {
     "name": "stderr",
     "output_type": "stream",
     "text": [
      "\u001b[32m[I 2022-08-16 01:16:34,342]\u001b[0m Trial 61 finished with value: 5862.868421052632 and parameters: {'kErase': 1, 'kRadius': 2, 'kAnnealingA': 11.694583776211067, 'kAnnealingB': 0.7745250730348987, 'kAnnealingStart': 9.223234884755765, 'kSkipRatio': 0.7274763638727102, 'kTargetDeterminationTrials': 6, 'kAttractionRatio': 0.05123754944306149, 'kMaxAttractionDistance': 7, 'kStartAttraction': 0.0030479851804881926}. Best is trial 61 with value: 5862.868421052632.\u001b[0m\n"
     ]
    },
    {
     "name": "stdout",
     "output_type": "stream",
     "text": [
      "Updated! 5862.868421052632\n",
      "index_parallel='0062'\n"
     ]
    },
    {
     "name": "stderr",
     "output_type": "stream",
     "text": [
      "\u001b[32m[I 2022-08-16 01:20:15,204]\u001b[0m Trial 62 finished with value: 5812.847368421053 and parameters: {'kErase': 1, 'kRadius': 2, 'kAnnealingA': 11.743739825451172, 'kAnnealingB': 0.8835509099642184, 'kAnnealingStart': 9.382705503871707, 'kSkipRatio': 0.7279462225198372, 'kTargetDeterminationTrials': 8, 'kAttractionRatio': 0.04810665259376476, 'kMaxAttractionDistance': 7, 'kStartAttraction': 0.0020931449532707634}. Best is trial 61 with value: 5862.868421052632.\u001b[0m\n"
     ]
    },
    {
     "name": "stdout",
     "output_type": "stream",
     "text": [
      "index_parallel='0063'\n"
     ]
    },
    {
     "name": "stderr",
     "output_type": "stream",
     "text": [
      "\u001b[32m[I 2022-08-16 01:23:55,931]\u001b[0m Trial 63 finished with value: 5785.6 and parameters: {'kErase': 1, 'kRadius': 3, 'kAnnealingA': 11.60506034538029, 'kAnnealingB': 0.859066321480491, 'kAnnealingStart': 9.387101763202997, 'kSkipRatio': 0.7262667921234447, 'kTargetDeterminationTrials': 8, 'kAttractionRatio': 0.05289561995466934, 'kMaxAttractionDistance': 6, 'kStartAttraction': 0.0019539687832330994}. Best is trial 61 with value: 5862.868421052632.\u001b[0m\n"
     ]
    },
    {
     "name": "stdout",
     "output_type": "stream",
     "text": [
      "index_parallel='0064'\n"
     ]
    },
    {
     "name": "stderr",
     "output_type": "stream",
     "text": [
      "\u001b[32m[I 2022-08-16 01:27:36,683]\u001b[0m Trial 64 finished with value: 5790.405263157894 and parameters: {'kErase': 1, 'kRadius': 2, 'kAnnealingA': 12.67763165147716, 'kAnnealingB': 1.0726831245269886, 'kAnnealingStart': 9.262356910925549, 'kSkipRatio': 0.7258692849637324, 'kTargetDeterminationTrials': 7, 'kAttractionRatio': 0.05579848147438455, 'kMaxAttractionDistance': 6, 'kStartAttraction': 0.0020189013437880506}. Best is trial 61 with value: 5862.868421052632.\u001b[0m\n"
     ]
    },
    {
     "name": "stdout",
     "output_type": "stream",
     "text": [
      "index_parallel='0065'\n"
     ]
    },
    {
     "name": "stderr",
     "output_type": "stream",
     "text": [
      "\u001b[32m[I 2022-08-16 01:31:17,345]\u001b[0m Trial 65 finished with value: 5820.257894736842 and parameters: {'kErase': 1, 'kRadius': 2, 'kAnnealingA': 10.824934500809206, 'kAnnealingB': 1.0898620904247023, 'kAnnealingStart': 14.465020247468082, 'kSkipRatio': 0.6347024293971275, 'kTargetDeterminationTrials': 7, 'kAttractionRatio': 0.048887364735613906, 'kMaxAttractionDistance': 7, 'kStartAttraction': 0.001712496977456201}. Best is trial 61 with value: 5862.868421052632.\u001b[0m\n"
     ]
    },
    {
     "name": "stdout",
     "output_type": "stream",
     "text": [
      "index_parallel='0066'\n"
     ]
    },
    {
     "name": "stderr",
     "output_type": "stream",
     "text": [
      "\u001b[32m[I 2022-08-16 01:34:58,376]\u001b[0m Trial 66 finished with value: 5794.789473684211 and parameters: {'kErase': 1, 'kRadius': 3, 'kAnnealingA': 10.650768753813068, 'kAnnealingB': 1.086021913597004, 'kAnnealingStart': 13.391413729701897, 'kSkipRatio': 0.6379607011716839, 'kTargetDeterminationTrials': 7, 'kAttractionRatio': 0.04906902759361099, 'kMaxAttractionDistance': 10, 'kStartAttraction': 0.002002346108903819}. Best is trial 61 with value: 5862.868421052632.\u001b[0m\n"
     ]
    },
    {
     "name": "stdout",
     "output_type": "stream",
     "text": [
      "index_parallel='0067'\n"
     ]
    },
    {
     "name": "stderr",
     "output_type": "stream",
     "text": [
      "\u001b[32m[I 2022-08-16 01:38:38,996]\u001b[0m Trial 67 finished with value: 5790.6578947368425 and parameters: {'kErase': 1, 'kRadius': 2, 'kAnnealingA': 8.352883996343593, 'kAnnealingB': 1.0852384363307581, 'kAnnealingStart': 13.679307319764005, 'kSkipRatio': 0.628712507223172, 'kTargetDeterminationTrials': 7, 'kAttractionRatio': 0.0804579801293758, 'kMaxAttractionDistance': 10, 'kStartAttraction': 0.003102614780512111}. Best is trial 61 with value: 5862.868421052632.\u001b[0m\n"
     ]
    },
    {
     "name": "stdout",
     "output_type": "stream",
     "text": [
      "index_parallel='0068'\n"
     ]
    },
    {
     "name": "stderr",
     "output_type": "stream",
     "text": [
      "\u001b[32m[I 2022-08-16 01:42:19,692]\u001b[0m Trial 68 finished with value: 5873.147368421052 and parameters: {'kErase': 1, 'kRadius': 2, 'kAnnealingA': 8.835912698185652, 'kAnnealingB': 1.4097093140791175, 'kAnnealingStart': 13.36938816858339, 'kSkipRatio': 0.631239841401198, 'kTargetDeterminationTrials': 5, 'kAttractionRatio': 0.0796647935996254, 'kMaxAttractionDistance': 10, 'kStartAttraction': 0.0030400840600737934}. Best is trial 68 with value: 5873.147368421052.\u001b[0m\n"
     ]
    },
    {
     "name": "stdout",
     "output_type": "stream",
     "text": [
      "Updated! 5873.147368421052\n",
      "index_parallel='0069'\n"
     ]
    },
    {
     "name": "stderr",
     "output_type": "stream",
     "text": [
      "\u001b[32m[I 2022-08-16 01:46:00,340]\u001b[0m Trial 69 finished with value: 5178.315789473684 and parameters: {'kErase': 1, 'kRadius': 3, 'kAnnealingA': 7.791807086635623, 'kAnnealingB': 1.3121648035312299, 'kAnnealingStart': 30.22846439022065, 'kSkipRatio': 0.570654773632502, 'kTargetDeterminationTrials': 5, 'kAttractionRatio': 0.06933002610484809, 'kMaxAttractionDistance': 12, 'kStartAttraction': 0.0013932406231012297}. Best is trial 68 with value: 5873.147368421052.\u001b[0m\n"
     ]
    },
    {
     "name": "stdout",
     "output_type": "stream",
     "text": [
      "index_parallel='0070'\n"
     ]
    },
    {
     "name": "stderr",
     "output_type": "stream",
     "text": [
      "\u001b[32m[I 2022-08-16 01:49:41,215]\u001b[0m Trial 70 finished with value: 5628.4315789473685 and parameters: {'kErase': 1, 'kRadius': 2, 'kAnnealingA': 9.361767055039099, 'kAnnealingB': 1.407477345646602, 'kAnnealingStart': 17.79389314211862, 'kSkipRatio': 0.5974230957364215, 'kTargetDeterminationTrials': 6, 'kAttractionRatio': 0.044542434745722934, 'kMaxAttractionDistance': 9, 'kStartAttraction': 0.003686286814264518}. Best is trial 68 with value: 5873.147368421052.\u001b[0m\n"
     ]
    },
    {
     "name": "stdout",
     "output_type": "stream",
     "text": [
      "index_parallel='0071'\n"
     ]
    },
    {
     "name": "stderr",
     "output_type": "stream",
     "text": [
      "\u001b[32m[I 2022-08-16 01:53:22,025]\u001b[0m Trial 71 finished with value: 5828.489473684211 and parameters: {'kErase': 1, 'kRadius': 2, 'kAnnealingA': 10.460208251044119, 'kAnnealingB': 1.6650449681277877, 'kAnnealingStart': 12.644883269191176, 'kSkipRatio': 0.6315506876580007, 'kTargetDeterminationTrials': 7, 'kAttractionRatio': 0.08567875059269821, 'kMaxAttractionDistance': 10, 'kStartAttraction': 0.0031696565326110562}. Best is trial 68 with value: 5873.147368421052.\u001b[0m\n"
     ]
    },
    {
     "name": "stdout",
     "output_type": "stream",
     "text": [
      "index_parallel='0072'\n"
     ]
    },
    {
     "name": "stderr",
     "output_type": "stream",
     "text": [
      "\u001b[32m[I 2022-08-16 01:57:02,742]\u001b[0m Trial 72 finished with value: 5849.131578947368 and parameters: {'kErase': 1, 'kRadius': 2, 'kAnnealingA': 7.499752397076352, 'kAnnealingB': 1.6679319274428162, 'kAnnealingStart': 12.786883431210805, 'kSkipRatio': 0.638327430855701, 'kTargetDeterminationTrials': 5, 'kAttractionRatio': 0.06455632211019927, 'kMaxAttractionDistance': 8, 'kStartAttraction': 0.002918564653079331}. Best is trial 68 with value: 5873.147368421052.\u001b[0m\n"
     ]
    },
    {
     "name": "stdout",
     "output_type": "stream",
     "text": [
      "index_parallel='0073'\n"
     ]
    },
    {
     "name": "stderr",
     "output_type": "stream",
     "text": [
      "\u001b[32m[I 2022-08-16 02:00:43,303]\u001b[0m Trial 73 finished with value: 5809.968421052631 and parameters: {'kErase': 1, 'kRadius': 2, 'kAnnealingA': 6.276856651787774, 'kAnnealingB': 1.7930579816809242, 'kAnnealingStart': 16.04641941856667, 'kSkipRatio': 0.5561461605596221, 'kTargetDeterminationTrials': 5, 'kAttractionRatio': 0.06561362621053733, 'kMaxAttractionDistance': 9, 'kStartAttraction': 0.0030627036290013206}. Best is trial 68 with value: 5873.147368421052.\u001b[0m\n"
     ]
    },
    {
     "name": "stdout",
     "output_type": "stream",
     "text": [
      "index_parallel='0074'\n"
     ]
    },
    {
     "name": "stderr",
     "output_type": "stream",
     "text": [
      "\u001b[32m[I 2022-08-16 02:04:23,785]\u001b[0m Trial 74 finished with value: 5546.868421052632 and parameters: {'kErase': 1, 'kRadius': 2, 'kAnnealingA': 7.824027256086209, 'kAnnealingB': 1.6241548584381627, 'kAnnealingStart': 23.152167559320365, 'kSkipRatio': 0.6590159225600647, 'kTargetDeterminationTrials': 4, 'kAttractionRatio': 0.08563224616256317, 'kMaxAttractionDistance': 8, 'kStartAttraction': 0.0025787855093654354}. Best is trial 68 with value: 5873.147368421052.\u001b[0m\n"
     ]
    },
    {
     "name": "stdout",
     "output_type": "stream",
     "text": [
      "index_parallel='0075'\n"
     ]
    },
    {
     "name": "stderr",
     "output_type": "stream",
     "text": [
      "\u001b[32m[I 2022-08-16 02:08:04,430]\u001b[0m Trial 75 finished with value: 5927.868421052632 and parameters: {'kErase': 1, 'kRadius': 2, 'kAnnealingA': 4.051190429975636, 'kAnnealingB': 1.894747067634015, 'kAnnealingStart': 12.664627548479121, 'kSkipRatio': 0.6064132240364556, 'kTargetDeterminationTrials': 5, 'kAttractionRatio': 0.09109542950539608, 'kMaxAttractionDistance': 11, 'kStartAttraction': 0.0015772618911151317}. Best is trial 75 with value: 5927.868421052632.\u001b[0m\n"
     ]
    },
    {
     "name": "stdout",
     "output_type": "stream",
     "text": [
      "Updated! 5927.868421052632\n",
      "index_parallel='0076'\n"
     ]
    },
    {
     "name": "stderr",
     "output_type": "stream",
     "text": [
      "\u001b[32m[I 2022-08-16 02:11:45,151]\u001b[0m Trial 76 finished with value: 5900.273684210526 and parameters: {'kErase': 1, 'kRadius': 2, 'kAnnealingA': 3.7708964706091503, 'kAnnealingB': 1.6901635066203395, 'kAnnealingStart': 12.806628234144256, 'kSkipRatio': 0.58866298627335, 'kTargetDeterminationTrials': 5, 'kAttractionRatio': 0.09193811274962377, 'kMaxAttractionDistance': 12, 'kStartAttraction': 0.001537343918339103}. Best is trial 75 with value: 5927.868421052632.\u001b[0m\n"
     ]
    },
    {
     "name": "stdout",
     "output_type": "stream",
     "text": [
      "index_parallel='0077'\n"
     ]
    },
    {
     "name": "stderr",
     "output_type": "stream",
     "text": [
      "\u001b[32m[I 2022-08-16 02:15:25,768]\u001b[0m Trial 77 finished with value: 5830.38947368421 and parameters: {'kErase': 1, 'kRadius': 2, 'kAnnealingA': 4.094900877213339, 'kAnnealingB': 1.9764376892672133, 'kAnnealingStart': 16.28579290206955, 'kSkipRatio': 0.606125689109332, 'kTargetDeterminationTrials': 5, 'kAttractionRatio': 0.08893551900917715, 'kMaxAttractionDistance': 11, 'kStartAttraction': 0.001489720099360688}. Best is trial 75 with value: 5927.868421052632.\u001b[0m\n"
     ]
    },
    {
     "name": "stdout",
     "output_type": "stream",
     "text": [
      "index_parallel='0078'\n"
     ]
    },
    {
     "name": "stderr",
     "output_type": "stream",
     "text": [
      "\u001b[32m[I 2022-08-16 02:19:06,309]\u001b[0m Trial 78 finished with value: 5985.752631578947 and parameters: {'kErase': 1, 'kRadius': 2, 'kAnnealingA': 4.636782901725197, 'kAnnealingB': 1.987876214416901, 'kAnnealingStart': 11.989758496692227, 'kSkipRatio': 0.6022187443060688, 'kTargetDeterminationTrials': 4, 'kAttractionRatio': 0.08972401300744863, 'kMaxAttractionDistance': 16, 'kStartAttraction': 0.0013947219736300965}. Best is trial 78 with value: 5985.752631578947.\u001b[0m\n"
     ]
    },
    {
     "name": "stdout",
     "output_type": "stream",
     "text": [
      "Updated! 5985.752631578947\n",
      "index_parallel='0079'\n"
     ]
    },
    {
     "name": "stderr",
     "output_type": "stream",
     "text": [
      "\u001b[32m[I 2022-08-16 02:22:47,503]\u001b[0m Trial 79 finished with value: 5948.031578947369 and parameters: {'kErase': 1, 'kRadius': 2, 'kAnnealingA': 4.083100091355778, 'kAnnealingB': 1.9409144719882123, 'kAnnealingStart': 16.234146747624305, 'kSkipRatio': 0.5493172645487631, 'kTargetDeterminationTrials': 3, 'kAttractionRatio': 0.11037951069597766, 'kMaxAttractionDistance': 15, 'kStartAttraction': 0.0013249250599694422}. Best is trial 78 with value: 5985.752631578947.\u001b[0m\n"
     ]
    },
    {
     "name": "stdout",
     "output_type": "stream",
     "text": [
      "index_parallel='0080'\n"
     ]
    },
    {
     "name": "stderr",
     "output_type": "stream",
     "text": [
      "\u001b[32m[I 2022-08-16 02:26:28,267]\u001b[0m Trial 80 finished with value: 5941.557894736842 and parameters: {'kErase': 1, 'kRadius': 2, 'kAnnealingA': 4.107278015267474, 'kAnnealingB': 1.9826535745879397, 'kAnnealingStart': 16.32192696388177, 'kSkipRatio': 0.5561332818134828, 'kTargetDeterminationTrials': 4, 'kAttractionRatio': 0.10635246874843117, 'kMaxAttractionDistance': 16, 'kStartAttraction': 0.001281567861860146}. Best is trial 78 with value: 5985.752631578947.\u001b[0m\n"
     ]
    },
    {
     "name": "stdout",
     "output_type": "stream",
     "text": [
      "index_parallel='0081'\n"
     ]
    },
    {
     "name": "stderr",
     "output_type": "stream",
     "text": [
      "\u001b[32m[I 2022-08-16 02:30:08,812]\u001b[0m Trial 81 finished with value: 5783.857894736842 and parameters: {'kErase': 1, 'kRadius': 2, 'kAnnealingA': 4.13214399557106, 'kAnnealingB': 1.9557598418078803, 'kAnnealingStart': 20.11054954717983, 'kSkipRatio': 0.5811424026133567, 'kTargetDeterminationTrials': 4, 'kAttractionRatio': 0.10416663114696109, 'kMaxAttractionDistance': 16, 'kStartAttraction': 0.0013587901917179097}. Best is trial 78 with value: 5985.752631578947.\u001b[0m\n"
     ]
    },
    {
     "name": "stdout",
     "output_type": "stream",
     "text": [
      "index_parallel='0082'\n"
     ]
    },
    {
     "name": "stderr",
     "output_type": "stream",
     "text": [
      "\u001b[32m[I 2022-08-16 02:33:49,620]\u001b[0m Trial 82 finished with value: 5897.6894736842105 and parameters: {'kErase': 1, 'kRadius': 2, 'kAnnealingA': 3.665870926841237, 'kAnnealingB': 2.1764972357930676, 'kAnnealingStart': 17.05320348197855, 'kSkipRatio': 0.5574801957291458, 'kTargetDeterminationTrials': 3, 'kAttractionRatio': 0.15775330579498667, 'kMaxAttractionDistance': 16, 'kStartAttraction': 0.001213382920746275}. Best is trial 78 with value: 5985.752631578947.\u001b[0m\n"
     ]
    },
    {
     "name": "stdout",
     "output_type": "stream",
     "text": [
      "index_parallel='0083'\n"
     ]
    }
   ],
   "source": [
    "study.optimize(\n",
    "    partial(objective, in_dir=in_dir, work_dir=work_dir),\n",
    "    n_trials=3000,\n",
    "    timeout=86400,\n",
    "    callbacks=[callback]\n",
    ")"
   ]
  },
  {
   "cell_type": "code",
   "execution_count": null,
   "id": "700269d2",
   "metadata": {},
   "outputs": [],
   "source": []
  }
 ],
 "metadata": {
  "kernelspec": {
   "display_name": "Python 3 (ipykernel)",
   "language": "python",
   "name": "python3"
  },
  "language_info": {
   "codemirror_mode": {
    "name": "ipython",
    "version": 3
   },
   "file_extension": ".py",
   "mimetype": "text/x-python",
   "name": "python",
   "nbconvert_exporter": "python",
   "pygments_lexer": "ipython3",
   "version": "3.9.12"
  }
 },
 "nbformat": 4,
 "nbformat_minor": 5
}
