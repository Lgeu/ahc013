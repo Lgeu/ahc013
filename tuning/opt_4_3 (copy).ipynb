{
 "cells": [
  {
   "cell_type": "code",
   "execution_count": 1,
   "id": "25a1dac8",
   "metadata": {},
   "outputs": [],
   "source": [
    "import re\n",
    "import sys\n",
    "from uuid import uuid1\n",
    "from time import sleep\n",
    "from pprint import pprint\n",
    "from pathlib import Path\n",
    "from tempfile import gettempdir\n",
    "from threading import Thread\n",
    "from functools import partial\n",
    "from subprocess import Popen, PIPE\n",
    "\n",
    "from tqdm.notebook import tqdm\n",
    "import numpy as np\n",
    "import optuna\n",
    "import pandas as pd\n",
    "import matplotlib.pyplot as plt\n",
    "\n",
    "FILENAME = \"main.cpp\""
   ]
  },
  {
   "cell_type": "code",
   "execution_count": 2,
   "id": "3dd4d02e",
   "metadata": {},
   "outputs": [
    {
     "name": "stdout",
     "output_type": "stream",
     "text": [
      "10 variables were found.\n"
     ]
    },
    {
     "data": {
      "text/html": [
       "<div>\n",
       "<style scoped>\n",
       "    .dataframe tbody tr th:only-of-type {\n",
       "        vertical-align: middle;\n",
       "    }\n",
       "\n",
       "    .dataframe tbody tr th {\n",
       "        vertical-align: top;\n",
       "    }\n",
       "\n",
       "    .dataframe thead th {\n",
       "        text-align: right;\n",
       "    }\n",
       "</style>\n",
       "<table border=\"1\" class=\"dataframe\">\n",
       "  <thead>\n",
       "    <tr style=\"text-align: right;\">\n",
       "      <th></th>\n",
       "      <th>name</th>\n",
       "      <th>method</th>\n",
       "      <th>min</th>\n",
       "      <th>max</th>\n",
       "      <th>log</th>\n",
       "      <th>left</th>\n",
       "      <th>right</th>\n",
       "    </tr>\n",
       "  </thead>\n",
       "  <tbody>\n",
       "    <tr>\n",
       "      <th>0</th>\n",
       "      <td>kErase</td>\n",
       "      <td>suggest_int</td>\n",
       "      <td>1.000</td>\n",
       "      <td>5.0</td>\n",
       "      <td>False</td>\n",
       "      <td>static constexpr auto kErase =</td>\n",
       "      <td>;             // OPTIMIZE [1, 5]</td>\n",
       "    </tr>\n",
       "    <tr>\n",
       "      <th>1</th>\n",
       "      <td>kRadius</td>\n",
       "      <td>suggest_int</td>\n",
       "      <td>2.000</td>\n",
       "      <td>6.0</td>\n",
       "      <td>False</td>\n",
       "      <td>static constexpr auto kRadius =</td>\n",
       "      <td>;            // OPTIMIZE [2, 6]</td>\n",
       "    </tr>\n",
       "    <tr>\n",
       "      <th>2</th>\n",
       "      <td>kAnnealingA</td>\n",
       "      <td>suggest_float</td>\n",
       "      <td>-15.000</td>\n",
       "      <td>15.0</td>\n",
       "      <td>False</td>\n",
       "      <td>static constexpr auto kAnnealingA =</td>\n",
       "      <td>;      // OPTIMIZE [-15.0, 15.0]</td>\n",
       "    </tr>\n",
       "    <tr>\n",
       "      <th>3</th>\n",
       "      <td>kAnnealingB</td>\n",
       "      <td>suggest_float</td>\n",
       "      <td>0.000</td>\n",
       "      <td>3.0</td>\n",
       "      <td>False</td>\n",
       "      <td>static constexpr auto kAnnealingB =</td>\n",
       "      <td>;      // OPTIMIZE [0.0, 3.0]</td>\n",
       "    </tr>\n",
       "    <tr>\n",
       "      <th>4</th>\n",
       "      <td>kAnnealingStart</td>\n",
       "      <td>suggest_float</td>\n",
       "      <td>1.000</td>\n",
       "      <td>100.0</td>\n",
       "      <td>True</td>\n",
       "      <td>static constexpr auto kAnnealingStart =</td>\n",
       "      <td>; // OPTIMIZE LOG [1.0, 100.0]</td>\n",
       "    </tr>\n",
       "    <tr>\n",
       "      <th>5</th>\n",
       "      <td>kSkipRatio</td>\n",
       "      <td>suggest_float</td>\n",
       "      <td>0.200</td>\n",
       "      <td>0.8</td>\n",
       "      <td>False</td>\n",
       "      <td>static constexpr auto kSkipRatio =</td>\n",
       "      <td>;       // OPTIMIZE [0.2, 0.8]</td>\n",
       "    </tr>\n",
       "    <tr>\n",
       "      <th>6</th>\n",
       "      <td>kTargetDeterminationTrials</td>\n",
       "      <td>suggest_int</td>\n",
       "      <td>1.000</td>\n",
       "      <td>20.0</td>\n",
       "      <td>True</td>\n",
       "      <td>static constexpr auto kTargetDeterminationTria...</td>\n",
       "      <td>; // OPTIMIZE LOG [1, 20]</td>\n",
       "    </tr>\n",
       "    <tr>\n",
       "      <th>7</th>\n",
       "      <td>kAttractionRatio</td>\n",
       "      <td>suggest_float</td>\n",
       "      <td>0.010</td>\n",
       "      <td>0.9</td>\n",
       "      <td>True</td>\n",
       "      <td>static constexpr auto kAttractionRatio =</td>\n",
       "      <td>;      // OPTIMIZE LOG [0.01, 0.9]</td>\n",
       "    </tr>\n",
       "    <tr>\n",
       "      <th>8</th>\n",
       "      <td>kMaxAttractionDistance</td>\n",
       "      <td>suggest_int</td>\n",
       "      <td>4.000</td>\n",
       "      <td>99.0</td>\n",
       "      <td>True</td>\n",
       "      <td>static constexpr auto kMaxAttractionDistance =</td>\n",
       "      <td>; // OPTIMIZE LOG [4, 99]</td>\n",
       "    </tr>\n",
       "    <tr>\n",
       "      <th>9</th>\n",
       "      <td>kStartAttraction</td>\n",
       "      <td>suggest_float</td>\n",
       "      <td>0.001</td>\n",
       "      <td>0.9</td>\n",
       "      <td>True</td>\n",
       "      <td>static constexpr auto kStartAttraction =</td>\n",
       "      <td>;     // OPTIMIZE LOG [0.001, 0.9]</td>\n",
       "    </tr>\n",
       "  </tbody>\n",
       "</table>\n",
       "</div>"
      ],
      "text/plain": [
       "                         name         method     min    max    log  \\\n",
       "0                      kErase    suggest_int   1.000    5.0  False   \n",
       "1                     kRadius    suggest_int   2.000    6.0  False   \n",
       "2                 kAnnealingA  suggest_float -15.000   15.0  False   \n",
       "3                 kAnnealingB  suggest_float   0.000    3.0  False   \n",
       "4             kAnnealingStart  suggest_float   1.000  100.0   True   \n",
       "5                  kSkipRatio  suggest_float   0.200    0.8  False   \n",
       "6  kTargetDeterminationTrials    suggest_int   1.000   20.0   True   \n",
       "7            kAttractionRatio  suggest_float   0.010    0.9   True   \n",
       "8      kMaxAttractionDistance    suggest_int   4.000   99.0   True   \n",
       "9            kStartAttraction  suggest_float   0.001    0.9   True   \n",
       "\n",
       "                                                left  \\\n",
       "0                    static constexpr auto kErase =    \n",
       "1                   static constexpr auto kRadius =    \n",
       "2               static constexpr auto kAnnealingA =    \n",
       "3               static constexpr auto kAnnealingB =    \n",
       "4           static constexpr auto kAnnealingStart =    \n",
       "5                static constexpr auto kSkipRatio =    \n",
       "6  static constexpr auto kTargetDeterminationTria...   \n",
       "7          static constexpr auto kAttractionRatio =    \n",
       "8    static constexpr auto kMaxAttractionDistance =    \n",
       "9          static constexpr auto kStartAttraction =    \n",
       "\n",
       "                                right  \n",
       "0    ;             // OPTIMIZE [1, 5]  \n",
       "1     ;            // OPTIMIZE [2, 6]  \n",
       "2    ;      // OPTIMIZE [-15.0, 15.0]  \n",
       "3       ;      // OPTIMIZE [0.0, 3.0]  \n",
       "4      ; // OPTIMIZE LOG [1.0, 100.0]  \n",
       "5      ;       // OPTIMIZE [0.2, 0.8]  \n",
       "6           ; // OPTIMIZE LOG [1, 20]  \n",
       "7  ;      // OPTIMIZE LOG [0.01, 0.9]  \n",
       "8           ; // OPTIMIZE LOG [4, 99]  \n",
       "9  ;     // OPTIMIZE LOG [0.001, 0.9]  "
      ]
     },
     "metadata": {},
     "output_type": "display_data"
    }
   ],
   "source": [
    "# ここでエラー出力は何かおかしいかもしれない\n",
    "\n",
    "\n",
    "# パラメータ抽出\n",
    "with open(FILENAME) as f:\n",
    "    answer = f.read()\n",
    "\n",
    "\n",
    "variables_optimize = []\n",
    "\n",
    "for left, value, right, options in re.findall(r\"^([^/\\n]*=\\s*)(.+?)(\\s*;\\s*//(?:.*\\W)?OPTIMIZE(\\W.*))$\", answer, re.MULTILINE):\n",
    "    name = left.replace(\"=\", \"\").strip().split()[-1]\n",
    "    \n",
    "    searched = re.search(r\".*\\[(?P<min>.*),(?P<max>.*)\\].*\", options)\n",
    "    if searched:\n",
    "        min_value = max_value = None\n",
    "        try:\n",
    "            min_value = eval(searched.group(\"min\"))\n",
    "            max_value = eval(searched.group(\"max\"))\n",
    "            assert min_value <= max_value\n",
    "        except Exception as e:\n",
    "            print(f\"searched={searched}\", file=sys.stderr)\n",
    "            print(e, file=sys.stderr)\n",
    "            continue\n",
    "        log = \"LOG\" in options  # 雑、直したほうが良い\n",
    "        if type(min_value) != type(max_value):\n",
    "            print(f\"searched={searched}\", file=sys.stderr)\n",
    "            print(\"types not matched\", file=sys.stderr)\n",
    "            continue\n",
    "        if isinstance(min_value, int):\n",
    "            method = \"suggest_int\"\n",
    "        elif isinstance(min_value, float):\n",
    "            method = \"suggest_float\"\n",
    "        else:\n",
    "            print(f\"searched={searched}\", file=sys.stderr)\n",
    "            print(f\"unknown type ({type(min_value)})\", file=sys.stderr)\n",
    "            continue\n",
    "        variables_optimize.append({\n",
    "            \"name\": name,\n",
    "            \"method\": method,\n",
    "            \"min\": min_value,\n",
    "            \"max\": max_value,\n",
    "            \"log\": log,\n",
    "            \"left\": left,\n",
    "            \"right\": right,\n",
    "        })\n",
    "    elif searched := re.search(r\".*\\{(?P<choices>.*?)\\}.*\", options):\n",
    "        choices = list(map(lambda x: x.strip(), searched.group(\"choices\").split(\",\")))\n",
    "        variables_optimize.append({\n",
    "            \"name\": name,\n",
    "            \"method\": \"suggest_categorical\",\n",
    "            \"choices\": choices,\n",
    "            \"left\": left,\n",
    "            \"right\": right,\n",
    "        })\n",
    "    else:\n",
    "        print(f\"searched={searched}\", file=sys.stderr)\n",
    "        print(f\"pattern was matched but options are incorrect.\", file=sys.stderr)\n",
    "\n",
    "print(len(variables_optimize), \"variables were found.\")\n",
    "if globals().get(\"pd\"):\n",
    "    display(pd.DataFrame(variables_optimize))\n",
    "else:\n",
    "    pprint(variables_optimize)"
   ]
  },
  {
   "cell_type": "code",
   "execution_count": 3,
   "id": "001042b9",
   "metadata": {},
   "outputs": [],
   "source": [
    "def escape(string):  # 正規表現の中でそのまま使いたい文字列をエスケープ\n",
    "    res = !echo '{string}' | sed -e 's/[]\\/$*.^[]/\\\\&/g'\n",
    "    return res[0]\n",
    "\n",
    "def escape_sed(string):  # sed の置換後の文字列用のエスケープ\n",
    "    res = !echo '{string}' | sed -e 's/[\\/&]/\\\\&/g'\n",
    "    return res[0]\n",
    "\n",
    "def read_stream(name, in_file, out_file):\n",
    "    for line in in_file:\n",
    "        print(f\"[{name}] {line.strip()}\", file=out_file)\n",
    "\n",
    "def run(cmd, name):\n",
    "    proc = Popen(cmd, stdout=PIPE, stderr=PIPE, universal_newlines=True, shell=isinstance(cmd, str))\n",
    "    stdout_thread = Thread(target=read_stream, args=(name, proc.stdout, sys.stdout))\n",
    "    stderr_thread = Thread(target=read_stream, args=(name, proc.stderr, sys.stderr))\n",
    "    stdout_thread.start()\n",
    "    stderr_thread.start()\n",
    "    proc.wait()\n",
    "    return proc\n",
    "\n",
    "def objective(trial, in_dir, work_dir):\n",
    "    n_internal_parallel = 3\n",
    "    \n",
    "    index_parallel = f\"{trial.number:04d}\"\n",
    "    print(f\"{index_parallel=}\")\n",
    "    \n",
    "    work_dir = Path(work_dir)\n",
    "    directory_input = Path(in_dir)  # 中のすべてのファイルに対して実行される\n",
    "    #parameters_changed_filename = Path(gettempdir()) / str(uuid1())\n",
    "    parameters_changed_filename = work_dir / f\"{index_parallel}_{FILENAME}\"\n",
    "    \n",
    "    run([\"mkdir\", f\"{work_dir / index_parallel}_out\"], \"mkdir\")\n",
    "    run([\"mkdir\", f\"{work_dir / index_parallel}_score\"], \"mkdir\")\n",
    "    \n",
    "    # ファイル作成\n",
    "    run(f\"cp {FILENAME} {parameters_changed_filename}\", \"cp\")\n",
    "    sed_options = [f\"-i {parameters_changed_filename}\"]\n",
    "    for variable in variables_optimize:\n",
    "        if variable[\"method\"] == \"suggest_categorical\":\n",
    "            val =  trial.suggest_categorical(variable[\"name\"], variable[\"choices\"])\n",
    "        else:\n",
    "            val = getattr(trial, variable[\"method\"])(variable[\"name\"], variable[\"min\"], variable[\"max\"], log=variable[\"log\"])\n",
    "        left = variable[\"left\"]\n",
    "        right = variable[\"right\"]\n",
    "        sed_options.append(f\"\"\"-e 's/^{escape(left)}.*{escape(right)}$/{escape_sed(left)}{val}{escape_sed(right)}/'\"\"\")\n",
    "    command_sed = f\"sed {' '.join(sed_options)}\"\n",
    "    #print(command_sed)\n",
    "    run(command_sed, \"sed\")\n",
    "    \n",
    "    # コンパイル\n",
    "    command_compile = f\"g++ {parameters_changed_filename} -std=gnu++17 -O2 -DONLINE_JUDGE -o {parameters_changed_filename}.out\"\n",
    "    #print(command_compile)\n",
    "    run(command_compile, \"compile\")\n",
    "    # 実行・採点コマンド (@ はファイル名)\n",
    "    command_exec = (\n",
    "        #f\"./a.out < ./tools/in/{i:04d}.txt > {out_file} && ./tools/target/release/vis ./tools/in/{i:04d}.txt {out_file}\"\n",
    "        #f\"../tools/target/release/tester $(pwd)/{parameters_changed_filename}.out < {directory_input}/@ 2>&1 | grep Score\"\n",
    "        #f\"../tools/target/release/tester $(pwd)/{parameters_changed_filename}.out < {directory_input}/@ 2>&1 | grep Score | sed -E s/[^0-9]+// > ./{index_parallel}_score/@;\"\n",
    "        #f\"cargo run --release --manifest-path ../tools/Cargo.toml --bin tester {directory_input}/@ $(pwd)/{parameters_changed_filename}.out 2>&1 | grep Score | sed -E s/[^0-9]+// > ./{index_parallel}_score/@;\"\n",
    "        f\"./{parameters_changed_filename}.out < {directory_input}/@ > {work_dir / index_parallel}_out/@;\"\n",
    "        f\"../tools/target/release/vis {directory_input}/@ {work_dir / index_parallel}_out/@ 2> /dev/null > {work_dir / index_parallel}_score/@;\"\n",
    "    )\n",
    "    # 並列実行 (sed はパスのディレクトリ部分を消してファイル名にしてる)\n",
    "    run(f\"find {directory_input}/* | sed 's!^.*/!!' | xargs -I@ -P {n_internal_parallel} sh -c '{command_exec}'\", \"exec\")\n",
    "    \n",
    "    # 集計\n",
    "    scores = []\n",
    "    for file_path in Path(f\"{work_dir / index_parallel}_score/\").iterdir():  \n",
    "        with open(file_path) as f:\n",
    "            scores.append(int(f.readline().strip().split()[-1]))\n",
    "    mean_score = sum(scores) / len(scores)\n",
    "    \n",
    "    # 後始末\n",
    "    run(f\"rm -rf {work_dir / index_parallel}_out\", \"rm\")\n",
    "    run(f\"rm -rf {work_dir / index_parallel}_score\", \"rm\")\n",
    "    #run(f\"rm {parameters_changed_filename}\", \"rm\")\n",
    "    run(f\"rm {parameters_changed_filename}.out\", \"rm\")\n",
    "    \n",
    "    return mean_score"
   ]
  },
  {
   "cell_type": "code",
   "execution_count": 4,
   "id": "2d2e133c",
   "metadata": {},
   "outputs": [
    {
     "name": "stderr",
     "output_type": "stream",
     "text": [
      "\u001b[32m[I 2022-08-16 05:02:27,817]\u001b[0m Using an existing study with name 'study_4_3' instead of creating a new one.\u001b[0m\n"
     ]
    }
   ],
   "source": [
    "K = 4\n",
    "N_CLASS = 3\n",
    "\n",
    "in_dir = Path(f\"in_{K}_{N_CLASS}\")\n",
    "work_dir = Path(f\"work_{K}_{N_CLASS}\")\n",
    "\n",
    "study_name = f\"study_{K}_{N_CLASS}\"\n",
    "storage_path = work_dir / \"study.db\"\n",
    "storage = f\"sqlite:///{storage_path}\"\n",
    "study = optuna.create_study(storage=storage, load_if_exists=True, study_name=study_name, direction=\"maximize\")\n",
    "\n",
    "def callback(study, trial):\n",
    "    try:\n",
    "        index_parallel = f\"{trial.number:04d}\"\n",
    "        parameters_changed_filename = work_dir / f\"{index_parallel}_{FILENAME}\"\n",
    "        if study.best_value == trial.value:\n",
    "            print(f\"Updated! {study.best_value}\")\n",
    "            !cp {parameters_changed_filename} {work_dir / \"best_parameters.cpp\"}\n",
    "        !rm {parameters_changed_filename}\n",
    "    except:\n",
    "        print(\":(\")\n"
   ]
  },
  {
   "cell_type": "code",
   "execution_count": 5,
   "id": "61c2901d",
   "metadata": {},
   "outputs": [
    {
     "name": "stdout",
     "output_type": "stream",
     "text": [
      "index_parallel='0102'\n"
     ]
    },
    {
     "name": "stderr",
     "output_type": "stream",
     "text": [
      "\u001b[32m[I 2022-08-16 05:06:58,025]\u001b[0m Trial 102 finished with value: 8799.150627615063 and parameters: {'kErase': 2, 'kRadius': 3, 'kAnnealingA': 14.141550937630825, 'kAnnealingB': 1.119129921791361, 'kAnnealingStart': 8.014615755000985, 'kSkipRatio': 0.7744995002620819, 'kTargetDeterminationTrials': 16, 'kAttractionRatio': 0.6947468845008408, 'kMaxAttractionDistance': 18, 'kStartAttraction': 0.8740457790112306}. Best is trial 94 with value: 8820.246861924687.\u001b[0m\n"
     ]
    },
    {
     "name": "stdout",
     "output_type": "stream",
     "text": [
      "index_parallel='0104'\n"
     ]
    },
    {
     "name": "stderr",
     "output_type": "stream",
     "text": [
      "\u001b[32m[I 2022-08-16 05:11:28,297]\u001b[0m Trial 104 finished with value: 8773.941422594142 and parameters: {'kErase': 2, 'kRadius': 3, 'kAnnealingA': 14.622491417965755, 'kAnnealingB': 1.070264419393046, 'kAnnealingStart': 7.852178868213886, 'kSkipRatio': 0.7770514616661727, 'kTargetDeterminationTrials': 10, 'kAttractionRatio': 0.602466717065729, 'kMaxAttractionDistance': 19, 'kStartAttraction': 0.8746822240143385}. Best is trial 94 with value: 8820.246861924687.\u001b[0m\n"
     ]
    },
    {
     "name": "stdout",
     "output_type": "stream",
     "text": [
      "index_parallel='0106'\n"
     ]
    },
    {
     "name": "stderr",
     "output_type": "stream",
     "text": [
      "\u001b[32m[I 2022-08-16 05:15:58,459]\u001b[0m Trial 106 finished with value: 8709.719665271967 and parameters: {'kErase': 2, 'kRadius': 3, 'kAnnealingA': 14.839048544293362, 'kAnnealingB': 1.2460693402996144, 'kAnnealingStart': 9.661402359441595, 'kSkipRatio': 0.7760384526386384, 'kTargetDeterminationTrials': 16, 'kAttractionRatio': 0.5895816103480565, 'kMaxAttractionDistance': 19, 'kStartAttraction': 0.7749544321372868}. Best is trial 94 with value: 8820.246861924687.\u001b[0m\n"
     ]
    },
    {
     "name": "stdout",
     "output_type": "stream",
     "text": [
      "index_parallel='0108'\n"
     ]
    },
    {
     "name": "stderr",
     "output_type": "stream",
     "text": [
      "\u001b[32m[I 2022-08-16 05:20:29,009]\u001b[0m Trial 108 finished with value: 8656.0 and parameters: {'kErase': 2, 'kRadius': 3, 'kAnnealingA': 13.729807652841043, 'kAnnealingB': 1.0149343119049241, 'kAnnealingStart': 12.557457737084526, 'kSkipRatio': 0.772777426087198, 'kTargetDeterminationTrials': 15, 'kAttractionRatio': 0.6893922490270163, 'kMaxAttractionDistance': 16, 'kStartAttraction': 0.8795067022029068}. Best is trial 94 with value: 8820.246861924687.\u001b[0m\n"
     ]
    },
    {
     "name": "stdout",
     "output_type": "stream",
     "text": [
      "index_parallel='0110'\n"
     ]
    },
    {
     "name": "stderr",
     "output_type": "stream",
     "text": [
      "\u001b[32m[I 2022-08-16 05:24:59,313]\u001b[0m Trial 110 finished with value: 8624.07531380753 and parameters: {'kErase': 2, 'kRadius': 3, 'kAnnealingA': 12.041045758201504, 'kAnnealingB': 1.1590797523253513, 'kAnnealingStart': 11.284778797569828, 'kSkipRatio': 0.7874013719849123, 'kTargetDeterminationTrials': 18, 'kAttractionRatio': 0.8110827609404477, 'kMaxAttractionDistance': 12, 'kStartAttraction': 0.6652834123409151}. Best is trial 94 with value: 8820.246861924687.\u001b[0m\n"
     ]
    },
    {
     "name": "stdout",
     "output_type": "stream",
     "text": [
      "index_parallel='0112'\n"
     ]
    },
    {
     "name": "stderr",
     "output_type": "stream",
     "text": [
      "\u001b[32m[I 2022-08-16 05:29:30,231]\u001b[0m Trial 112 finished with value: 7663.895397489539 and parameters: {'kErase': 2, 'kRadius': 3, 'kAnnealingA': 12.420683894253546, 'kAnnealingB': 0.7523925649302535, 'kAnnealingStart': 7.787577176946297, 'kSkipRatio': 0.7407346707629736, 'kTargetDeterminationTrials': 15, 'kAttractionRatio': 0.6420888213772615, 'kMaxAttractionDistance': 18, 'kStartAttraction': 0.01090176009874858}. Best is trial 94 with value: 8820.246861924687.\u001b[0m\n"
     ]
    },
    {
     "name": "stdout",
     "output_type": "stream",
     "text": [
      "index_parallel='0114'\n"
     ]
    },
    {
     "name": "stderr",
     "output_type": "stream",
     "text": [
      "\u001b[32m[I 2022-08-16 05:34:00,609]\u001b[0m Trial 114 finished with value: 8696.502092050208 and parameters: {'kErase': 2, 'kRadius': 3, 'kAnnealingA': 14.539071823313401, 'kAnnealingB': 0.9035678002195306, 'kAnnealingStart': 9.407743014694303, 'kSkipRatio': 0.7965862647874901, 'kTargetDeterminationTrials': 17, 'kAttractionRatio': 0.7596366945875949, 'kMaxAttractionDistance': 24, 'kStartAttraction': 0.7590658562873269}. Best is trial 94 with value: 8820.246861924687.\u001b[0m\n"
     ]
    },
    {
     "name": "stdout",
     "output_type": "stream",
     "text": [
      "index_parallel='0116'\n"
     ]
    },
    {
     "name": "stderr",
     "output_type": "stream",
     "text": [
      "\u001b[32m[I 2022-08-16 05:38:31,133]\u001b[0m Trial 116 finished with value: 8661.322175732217 and parameters: {'kErase': 2, 'kRadius': 3, 'kAnnealingA': 11.818832452187277, 'kAnnealingB': 0.8143839754664419, 'kAnnealingStart': 11.31721827320848, 'kSkipRatio': 0.7999327615262041, 'kTargetDeterminationTrials': 19, 'kAttractionRatio': 0.6968012102143459, 'kMaxAttractionDistance': 14, 'kStartAttraction': 0.5982343438725319}. Best is trial 94 with value: 8820.246861924687.\u001b[0m\n"
     ]
    },
    {
     "name": "stdout",
     "output_type": "stream",
     "text": [
      "index_parallel='0118'\n"
     ]
    },
    {
     "name": "stderr",
     "output_type": "stream",
     "text": [
      "\u001b[32m[I 2022-08-16 05:43:01,985]\u001b[0m Trial 118 finished with value: 8637.966527196653 and parameters: {'kErase': 2, 'kRadius': 2, 'kAnnealingA': 10.848885091131608, 'kAnnealingB': 1.3106132895290274, 'kAnnealingStart': 7.99758939540468, 'kSkipRatio': 0.7540550423775988, 'kTargetDeterminationTrials': 12, 'kAttractionRatio': 0.5424224298272561, 'kMaxAttractionDistance': 15, 'kStartAttraction': 0.4977188216274413}. Best is trial 94 with value: 8820.246861924687.\u001b[0m\n"
     ]
    },
    {
     "name": "stdout",
     "output_type": "stream",
     "text": [
      "index_parallel='0120'\n"
     ]
    },
    {
     "name": "stderr",
     "output_type": "stream",
     "text": [
      "\u001b[32m[I 2022-08-16 05:47:32,328]\u001b[0m Trial 120 finished with value: 8373.882845188284 and parameters: {'kErase': 2, 'kRadius': 3, 'kAnnealingA': 14.03454138315227, 'kAnnealingB': 0.7060087991572371, 'kAnnealingStart': 14.743251430564825, 'kSkipRatio': 0.7672205292748463, 'kTargetDeterminationTrials': 17, 'kAttractionRatio': 0.8906704250152744, 'kMaxAttractionDistance': 13, 'kStartAttraction': 0.8779821128793465}. Best is trial 94 with value: 8820.246861924687.\u001b[0m\n"
     ]
    },
    {
     "name": "stdout",
     "output_type": "stream",
     "text": [
      "index_parallel='0122'\n"
     ]
    },
    {
     "name": "stderr",
     "output_type": "stream",
     "text": [
      "\u001b[32m[I 2022-08-16 05:52:02,838]\u001b[0m Trial 122 finished with value: 8714.338912133891 and parameters: {'kErase': 2, 'kRadius': 3, 'kAnnealingA': 12.907012619519024, 'kAnnealingB': 1.1337736318143161, 'kAnnealingStart': 7.439721583907195, 'kSkipRatio': 0.7113417210955629, 'kTargetDeterminationTrials': 15, 'kAttractionRatio': 0.7889102610335587, 'kMaxAttractionDistance': 17, 'kStartAttraction': 0.6723929443208388}. Best is trial 94 with value: 8820.246861924687.\u001b[0m\n"
     ]
    },
    {
     "name": "stdout",
     "output_type": "stream",
     "text": [
      "index_parallel='0124'\n"
     ]
    },
    {
     "name": "stderr",
     "output_type": "stream",
     "text": [
      "\u001b[32m[I 2022-08-16 05:56:33,124]\u001b[0m Trial 124 finished with value: 7479.016736401673 and parameters: {'kErase': 2, 'kRadius': 3, 'kAnnealingA': 11.576848525167662, 'kAnnealingB': 0.9751052525338304, 'kAnnealingStart': 6.523884828192035, 'kSkipRatio': 0.7404849058705346, 'kTargetDeterminationTrials': 11, 'kAttractionRatio': 0.6679269226776566, 'kMaxAttractionDistance': 20, 'kStartAttraction': 0.0023494489632355712}. Best is trial 94 with value: 8820.246861924687.\u001b[0m\n"
     ]
    },
    {
     "name": "stdout",
     "output_type": "stream",
     "text": [
      "index_parallel='0126'\n"
     ]
    },
    {
     "name": "stderr",
     "output_type": "stream",
     "text": [
      "\u001b[32m[I 2022-08-16 06:01:03,465]\u001b[0m Trial 126 finished with value: 8702.489539748954 and parameters: {'kErase': 2, 'kRadius': 3, 'kAnnealingA': 13.30804454233355, 'kAnnealingB': 1.0457834799824328, 'kAnnealingStart': 8.84753946773194, 'kSkipRatio': 0.7690872419233382, 'kTargetDeterminationTrials': 20, 'kAttractionRatio': 0.47049787831287276, 'kMaxAttractionDistance': 14, 'kStartAttraction': 0.4039866129393645}. Best is trial 94 with value: 8820.246861924687.\u001b[0m\n"
     ]
    },
    {
     "name": "stdout",
     "output_type": "stream",
     "text": [
      "index_parallel='0128'\n"
     ]
    },
    {
     "name": "stderr",
     "output_type": "stream",
     "text": [
      "\u001b[32m[I 2022-08-16 06:05:34,072]\u001b[0m Trial 128 finished with value: 8451.384937238494 and parameters: {'kErase': 2, 'kRadius': 3, 'kAnnealingA': 9.393530736838398, 'kAnnealingB': 0.8644679305755256, 'kAnnealingStart': 10.551891856793535, 'kSkipRatio': 0.7827431691863618, 'kTargetDeterminationTrials': 10, 'kAttractionRatio': 0.02480238355437043, 'kMaxAttractionDistance': 15, 'kStartAttraction': 0.5631687838154346}. Best is trial 94 with value: 8820.246861924687.\u001b[0m\n"
     ]
    },
    {
     "name": "stdout",
     "output_type": "stream",
     "text": [
      "index_parallel='0130'\n"
     ]
    },
    {
     "name": "stderr",
     "output_type": "stream",
     "text": [
      "\u001b[32m[I 2022-08-16 06:10:04,362]\u001b[0m Trial 130 finished with value: 8760.619246861925 and parameters: {'kErase': 2, 'kRadius': 3, 'kAnnealingA': 10.671524040092313, 'kAnnealingB': 0.9679056116244332, 'kAnnealingStart': 6.552338758020115, 'kSkipRatio': 0.7276567320115699, 'kTargetDeterminationTrials': 13, 'kAttractionRatio': 0.5350078164382057, 'kMaxAttractionDistance': 16, 'kStartAttraction': 0.4644897804177124}. Best is trial 94 with value: 8820.246861924687.\u001b[0m\n"
     ]
    },
    {
     "name": "stdout",
     "output_type": "stream",
     "text": [
      "index_parallel='0132'\n"
     ]
    },
    {
     "name": "stderr",
     "output_type": "stream",
     "text": [
      "\u001b[32m[I 2022-08-16 06:14:34,690]\u001b[0m Trial 132 finished with value: 8529.907949790795 and parameters: {'kErase': 2, 'kRadius': 3, 'kAnnealingA': 13.99932232836602, 'kAnnealingB': 1.4213473321898165, 'kAnnealingStart': 7.747142251939617, 'kSkipRatio': 0.7578524645853639, 'kTargetDeterminationTrials': 16, 'kAttractionRatio': 0.04474214907647218, 'kMaxAttractionDistance': 13, 'kStartAttraction': 0.7254573565721602}. Best is trial 94 with value: 8820.246861924687.\u001b[0m\n"
     ]
    },
    {
     "name": "stdout",
     "output_type": "stream",
     "text": [
      "index_parallel='0134'\n"
     ]
    },
    {
     "name": "stderr",
     "output_type": "stream",
     "text": [
      "\u001b[32m[I 2022-08-16 06:19:04,916]\u001b[0m Trial 134 finished with value: 8670.87029288703 and parameters: {'kErase': 2, 'kRadius': 3, 'kAnnealingA': 12.252249639972064, 'kAnnealingB': 1.0884158996312945, 'kAnnealingStart': 9.669802377598048, 'kSkipRatio': 0.7877749180132164, 'kTargetDeterminationTrials': 18, 'kAttractionRatio': 0.7120020728914429, 'kMaxAttractionDistance': 22, 'kStartAttraction': 0.7866727955431744}. Best is trial 94 with value: 8820.246861924687.\u001b[0m\n"
     ]
    },
    {
     "name": "stdout",
     "output_type": "stream",
     "text": [
      "index_parallel='0136'\n"
     ]
    },
    {
     "name": "stderr",
     "output_type": "stream",
     "text": [
      "\u001b[32m[I 2022-08-16 06:23:35,291]\u001b[0m Trial 136 finished with value: 8792.066945606695 and parameters: {'kErase': 2, 'kRadius': 3, 'kAnnealingA': 7.541008093761206, 'kAnnealingB': 1.3175762622542986, 'kAnnealingStart': 8.66535855928685, 'kSkipRatio': 0.7621737200851102, 'kTargetDeterminationTrials': 15, 'kAttractionRatio': 0.6244757913776269, 'kMaxAttractionDistance': 11, 'kStartAttraction': 0.7730762150886885}. Best is trial 94 with value: 8820.246861924687.\u001b[0m\n"
     ]
    },
    {
     "name": "stdout",
     "output_type": "stream",
     "text": [
      "index_parallel='0138'\n"
     ]
    },
    {
     "name": "stderr",
     "output_type": "stream",
     "text": [
      "\u001b[32m[I 2022-08-16 06:28:05,542]\u001b[0m Trial 138 finished with value: 8733.41841004184 and parameters: {'kErase': 2, 'kRadius': 3, 'kAnnealingA': 7.522296546629614, 'kAnnealingB': 1.3319943188680619, 'kAnnealingStart': 8.445531277838338, 'kSkipRatio': 0.744203351749124, 'kTargetDeterminationTrials': 14, 'kAttractionRatio': 0.6536005104379358, 'kMaxAttractionDistance': 10, 'kStartAttraction': 0.6069886027991918}. Best is trial 94 with value: 8820.246861924687.\u001b[0m\n"
     ]
    },
    {
     "name": "stdout",
     "output_type": "stream",
     "text": [
      "index_parallel='0140'\n"
     ]
    },
    {
     "name": "stderr",
     "output_type": "stream",
     "text": [
      "\u001b[32m[I 2022-08-16 06:32:36,105]\u001b[0m Trial 140 finished with value: 8558.271966527196 and parameters: {'kErase': 2, 'kRadius': 3, 'kAnnealingA': 8.207342946938292, 'kAnnealingB': 1.441064623535139, 'kAnnealingStart': 12.003857839358995, 'kSkipRatio': 0.760737496433256, 'kTargetDeterminationTrials': 15, 'kAttractionRatio': 0.7359961824213392, 'kMaxAttractionDistance': 11, 'kStartAttraction': 0.48510174793731536}. Best is trial 94 with value: 8820.246861924687.\u001b[0m\n"
     ]
    },
    {
     "name": "stdout",
     "output_type": "stream",
     "text": [
      "index_parallel='0142'\n"
     ]
    },
    {
     "name": "stderr",
     "output_type": "stream",
     "text": [
      "\u001b[32m[I 2022-08-16 06:37:07,092]\u001b[0m Trial 142 finished with value: 8776.217573221757 and parameters: {'kErase': 2, 'kRadius': 3, 'kAnnealingA': 11.584021480565024, 'kAnnealingB': 1.031740012086884, 'kAnnealingStart': 6.9876445243383145, 'kSkipRatio': 0.7752236149773869, 'kTargetDeterminationTrials': 16, 'kAttractionRatio': 0.8316491736267324, 'kMaxAttractionDistance': 9, 'kStartAttraction': 0.8066304415660157}. Best is trial 94 with value: 8820.246861924687.\u001b[0m\n"
     ]
    },
    {
     "name": "stdout",
     "output_type": "stream",
     "text": [
      "index_parallel='0144'\n"
     ]
    },
    {
     "name": "stderr",
     "output_type": "stream",
     "text": [
      "\u001b[32m[I 2022-08-16 06:41:37,520]\u001b[0m Trial 144 finished with value: 8747.962343096235 and parameters: {'kErase': 2, 'kRadius': 3, 'kAnnealingA': 10.608552157459163, 'kAnnealingB': 0.9567816889633443, 'kAnnealingStart': 6.990942736146331, 'kSkipRatio': 0.7202460534507391, 'kTargetDeterminationTrials': 16, 'kAttractionRatio': 0.7958835346454213, 'kMaxAttractionDistance': 12, 'kStartAttraction': 0.7906281274711379}. Best is trial 94 with value: 8820.246861924687.\u001b[0m\n"
     ]
    },
    {
     "name": "stdout",
     "output_type": "stream",
     "text": [
      "index_parallel='0146'\n"
     ]
    },
    {
     "name": "stderr",
     "output_type": "stream",
     "text": [
      "\u001b[32m[I 2022-08-16 06:46:07,966]\u001b[0m Trial 146 finished with value: 8567.004184100419 and parameters: {'kErase': 2, 'kRadius': 3, 'kAnnealingA': 9.12034494678469, 'kAnnealingB': 1.5195557560768946, 'kAnnealingStart': 9.405162177246705, 'kSkipRatio': 0.787925480522478, 'kTargetDeterminationTrials': 17, 'kAttractionRatio': 0.8847921556992668, 'kMaxAttractionDistance': 8, 'kStartAttraction': 0.6946553560667849}. Best is trial 94 with value: 8820.246861924687.\u001b[0m\n"
     ]
    },
    {
     "name": "stdout",
     "output_type": "stream",
     "text": [
      "index_parallel='0148'\n"
     ]
    },
    {
     "name": "stderr",
     "output_type": "stream",
     "text": [
      "\u001b[32m[I 2022-08-16 06:50:38,466]\u001b[0m Trial 148 finished with value: 8770.60251046025 and parameters: {'kErase': 2, 'kRadius': 3, 'kAnnealingA': 10.266455830269845, 'kAnnealingB': 1.0903888392881522, 'kAnnealingStart': 5.654179382879878, 'kSkipRatio': 0.735589572377434, 'kTargetDeterminationTrials': 19, 'kAttractionRatio': 0.8989552423413076, 'kMaxAttractionDistance': 13, 'kStartAttraction': 0.6102996782013633}. Best is trial 94 with value: 8820.246861924687.\u001b[0m\n"
     ]
    },
    {
     "name": "stdout",
     "output_type": "stream",
     "text": [
      "index_parallel='0150'\n"
     ]
    },
    {
     "name": "stderr",
     "output_type": "stream",
     "text": [
      "\u001b[32m[I 2022-08-16 06:55:08,782]\u001b[0m Trial 150 finished with value: 7963.983263598327 and parameters: {'kErase': 2, 'kRadius': 3, 'kAnnealingA': 11.601094621606418, 'kAnnealingB': 0.9135456981872271, 'kAnnealingStart': 6.354464811001544, 'kSkipRatio': 0.7689756729420257, 'kTargetDeterminationTrials': 14, 'kAttractionRatio': 0.6824759174900636, 'kMaxAttractionDistance': 13, 'kStartAttraction': 0.0465244697580655}. Best is trial 94 with value: 8820.246861924687.\u001b[0m\n"
     ]
    },
    {
     "name": "stdout",
     "output_type": "stream",
     "text": [
      "index_parallel='0152'\n"
     ]
    },
    {
     "name": "stderr",
     "output_type": "stream",
     "text": [
      "\u001b[32m[I 2022-08-16 06:59:39,620]\u001b[0m Trial 152 finished with value: 8765.020920502093 and parameters: {'kErase': 2, 'kRadius': 3, 'kAnnealingA': 13.013594694912937, 'kAnnealingB': 1.057878546127544, 'kAnnealingStart': 7.83545937025057, 'kSkipRatio': 0.7740265667904292, 'kTargetDeterminationTrials': 15, 'kAttractionRatio': 0.5924449107789125, 'kMaxAttractionDistance': 14, 'kStartAttraction': 0.8999078419989869}. Best is trial 94 with value: 8820.246861924687.\u001b[0m\n"
     ]
    },
    {
     "name": "stdout",
     "output_type": "stream",
     "text": [
      "index_parallel='0154'\n"
     ]
    },
    {
     "name": "stderr",
     "output_type": "stream",
     "text": [
      "\u001b[32m[I 2022-08-16 07:04:10,022]\u001b[0m Trial 154 finished with value: 8748.355648535566 and parameters: {'kErase': 2, 'kRadius': 3, 'kAnnealingA': 7.046376668602393, 'kAnnealingB': 0.8253003177872186, 'kAnnealingStart': 8.616118431151433, 'kSkipRatio': 0.7774199786658084, 'kTargetDeterminationTrials': 13, 'kAttractionRatio': 0.6418107703224248, 'kMaxAttractionDistance': 20, 'kStartAttraction': 0.7924962703039761}. Best is trial 94 with value: 8820.246861924687.\u001b[0m\n"
     ]
    },
    {
     "name": "stdout",
     "output_type": "stream",
     "text": [
      "index_parallel='0156'\n"
     ]
    },
    {
     "name": "stderr",
     "output_type": "stream",
     "text": [
      "\u001b[32m[I 2022-08-16 07:08:40,308]\u001b[0m Trial 156 finished with value: 8740.506276150627 and parameters: {'kErase': 2, 'kRadius': 3, 'kAnnealingA': 12.62151272493547, 'kAnnealingB': 1.0051547769814688, 'kAnnealingStart': 7.111746773230791, 'kSkipRatio': 0.7504623386432211, 'kTargetDeterminationTrials': 15, 'kAttractionRatio': 0.4548183585701488, 'kMaxAttractionDistance': 15, 'kStartAttraction': 0.5757197632774794}. Best is trial 94 with value: 8820.246861924687.\u001b[0m\n"
     ]
    },
    {
     "name": "stdout",
     "output_type": "stream",
     "text": [
      "index_parallel='0158'\n"
     ]
    },
    {
     "name": "stderr",
     "output_type": "stream",
     "text": [
      "\u001b[32m[I 2022-08-16 07:13:10,806]\u001b[0m Trial 158 finished with value: 8685.598326359832 and parameters: {'kErase': 2, 'kRadius': 3, 'kAnnealingA': 13.658696619606959, 'kAnnealingB': 0.5394207023964863, 'kAnnealingStart': 9.703354879244438, 'kSkipRatio': 0.7596808251861303, 'kTargetDeterminationTrials': 12, 'kAttractionRatio': 0.1071661094175459, 'kMaxAttractionDistance': 14, 'kStartAttraction': 0.6977638108641503}. Best is trial 94 with value: 8820.246861924687.\u001b[0m\n"
     ]
    },
    {
     "name": "stdout",
     "output_type": "stream",
     "text": [
      "index_parallel='0160'\n"
     ]
    },
    {
     "name": "stderr",
     "output_type": "stream",
     "text": [
      "\u001b[32m[I 2022-08-16 07:17:41,107]\u001b[0m Trial 160 finished with value: 8500.794979079497 and parameters: {'kErase': 3, 'kRadius': 3, 'kAnnealingA': 13.537888136515186, 'kAnnealingB': 0.7515117449189719, 'kAnnealingStart': 11.364039678061053, 'kSkipRatio': 0.7359490965404302, 'kTargetDeterminationTrials': 16, 'kAttractionRatio': 0.5775355652127793, 'kMaxAttractionDistance': 16, 'kStartAttraction': 0.6714829491556032}. Best is trial 94 with value: 8820.246861924687.\u001b[0m\n"
     ]
    },
    {
     "name": "stdout",
     "output_type": "stream",
     "text": [
      "index_parallel='0162'\n"
     ]
    },
    {
     "name": "stderr",
     "output_type": "stream",
     "text": [
      "\u001b[32m[I 2022-08-16 07:22:11,443]\u001b[0m Trial 162 finished with value: 8775.146443514644 and parameters: {'kErase': 2, 'kRadius': 3, 'kAnnealingA': 10.919142077046212, 'kAnnealingB': 0.8918667880604303, 'kAnnealingStart': 8.576327485797984, 'kSkipRatio': 0.7873623264562251, 'kTargetDeterminationTrials': 17, 'kAttractionRatio': 0.7052685484252439, 'kMaxAttractionDistance': 12, 'kStartAttraction': 0.8966679376498872}. Best is trial 94 with value: 8820.246861924687.\u001b[0m\n"
     ]
    },
    {
     "name": "stdout",
     "output_type": "stream",
     "text": [
      "index_parallel='0164'\n"
     ]
    },
    {
     "name": "stderr",
     "output_type": "stream",
     "text": [
      "\u001b[32m[I 2022-08-16 07:26:41,707]\u001b[0m Trial 164 finished with value: 8812.41841004184 and parameters: {'kErase': 2, 'kRadius': 3, 'kAnnealingA': 11.939098566790788, 'kAnnealingB': 1.1863145887554052, 'kAnnealingStart': 7.420280229922297, 'kSkipRatio': 0.7659936443913663, 'kTargetDeterminationTrials': 14, 'kAttractionRatio': 0.8285471091790146, 'kMaxAttractionDistance': 15, 'kStartAttraction': 0.7675530193258218}. Best is trial 94 with value: 8820.246861924687.\u001b[0m\n"
     ]
    },
    {
     "name": "stdout",
     "output_type": "stream",
     "text": [
      "index_parallel='0166'\n"
     ]
    },
    {
     "name": "stderr",
     "output_type": "stream",
     "text": [
      "\u001b[32m[I 2022-08-16 07:31:11,985]\u001b[0m Trial 166 finished with value: 8723.062761506277 and parameters: {'kErase': 2, 'kRadius': 3, 'kAnnealingA': 9.803469858911075, 'kAnnealingB': 1.117003776364825, 'kAnnealingStart': 7.481455222385854, 'kSkipRatio': 0.7474395516022109, 'kTargetDeterminationTrials': 14, 'kAttractionRatio': 0.6242118486534981, 'kMaxAttractionDistance': 17, 'kStartAttraction': 0.523377164498248}. Best is trial 94 with value: 8820.246861924687.\u001b[0m\n"
     ]
    },
    {
     "name": "stdout",
     "output_type": "stream",
     "text": [
      "index_parallel='0168'\n"
     ]
    },
    {
     "name": "stderr",
     "output_type": "stream",
     "text": [
      "\u001b[32m[I 2022-08-16 07:35:42,403]\u001b[0m Trial 168 finished with value: 8706.94560669456 and parameters: {'kErase': 2, 'kRadius': 2, 'kAnnealingA': 14.063228161921947, 'kAnnealingB': 1.2718906195779989, 'kAnnealingStart': 8.035091847822654, 'kSkipRatio': 0.7999322542072134, 'kTargetDeterminationTrials': 13, 'kAttractionRatio': 0.6149974502389128, 'kMaxAttractionDistance': 14, 'kStartAttraction': 0.6193105073778683}. Best is trial 94 with value: 8820.246861924687.\u001b[0m\n"
     ]
    },
    {
     "name": "stdout",
     "output_type": "stream",
     "text": [
      "index_parallel='0170'\n"
     ]
    },
    {
     "name": "stderr",
     "output_type": "stream",
     "text": [
      "\u001b[32m[I 2022-08-16 07:40:12,519]\u001b[0m Trial 170 finished with value: 8781.958158995816 and parameters: {'kErase': 2, 'kRadius': 3, 'kAnnealingA': 12.966496791661822, 'kAnnealingB': 1.2026428065230803, 'kAnnealingStart': 10.319169962318497, 'kSkipRatio': 0.7670987568507627, 'kTargetDeterminationTrials': 11, 'kAttractionRatio': 0.695852058130247, 'kMaxAttractionDistance': 11, 'kStartAttraction': 0.7120083215643908}. Best is trial 94 with value: 8820.246861924687.\u001b[0m\n"
     ]
    },
    {
     "name": "stdout",
     "output_type": "stream",
     "text": [
      "index_parallel='0172'\n"
     ]
    },
    {
     "name": "stderr",
     "output_type": "stream",
     "text": [
      "\u001b[32m[I 2022-08-16 07:44:42,675]\u001b[0m Trial 172 finished with value: 8784.376569037657 and parameters: {'kErase': 2, 'kRadius': 3, 'kAnnealingA': 12.320768034935538, 'kAnnealingB': 1.1809517665498748, 'kAnnealingStart': 8.975804870717447, 'kSkipRatio': 0.7618625363596828, 'kTargetDeterminationTrials': 11, 'kAttractionRatio': 0.7553263485742856, 'kMaxAttractionDistance': 11, 'kStartAttraction': 0.6970243411714622}. Best is trial 94 with value: 8820.246861924687.\u001b[0m\n"
     ]
    },
    {
     "name": "stdout",
     "output_type": "stream",
     "text": [
      "index_parallel='0174'\n"
     ]
    },
    {
     "name": "stderr",
     "output_type": "stream",
     "text": [
      "\u001b[32m[I 2022-08-16 07:49:13,267]\u001b[0m Trial 174 finished with value: 8792.807531380753 and parameters: {'kErase': 2, 'kRadius': 3, 'kAnnealingA': 12.050083609689437, 'kAnnealingB': 1.3519762100498571, 'kAnnealingStart': 9.053675811380286, 'kSkipRatio': 0.7640345396814331, 'kTargetDeterminationTrials': 11, 'kAttractionRatio': 0.7684370058936542, 'kMaxAttractionDistance': 13, 'kStartAttraction': 0.6572218777700131}. Best is trial 94 with value: 8820.246861924687.\u001b[0m\n"
     ]
    },
    {
     "name": "stdout",
     "output_type": "stream",
     "text": [
      "index_parallel='0176'\n"
     ]
    },
    {
     "name": "stderr",
     "output_type": "stream",
     "text": [
      "\u001b[32m[I 2022-08-16 07:53:43,526]\u001b[0m Trial 176 finished with value: 8601.76569037657 and parameters: {'kErase': 2, 'kRadius': 3, 'kAnnealingA': 12.990035203398316, 'kAnnealingB': 1.1966909337621485, 'kAnnealingStart': 10.412151876169844, 'kSkipRatio': 0.747579503916972, 'kTargetDeterminationTrials': 11, 'kAttractionRatio': 0.821222412006744, 'kMaxAttractionDistance': 10, 'kStartAttraction': 0.5833556134099666}. Best is trial 94 with value: 8820.246861924687.\u001b[0m\n"
     ]
    },
    {
     "name": "stdout",
     "output_type": "stream",
     "text": [
      "index_parallel='0178'\n"
     ]
    },
    {
     "name": "stderr",
     "output_type": "stream",
     "text": [
      "\u001b[32m[I 2022-08-16 07:58:14,297]\u001b[0m Trial 178 finished with value: 8507.209205020921 and parameters: {'kErase': 2, 'kRadius': 3, 'kAnnealingA': 12.737141375934272, 'kAnnealingB': 1.2832303374439773, 'kAnnealingStart': 12.498893170716151, 'kSkipRatio': 0.7900579962290827, 'kTargetDeterminationTrials': 9, 'kAttractionRatio': 0.8886712677614169, 'kMaxAttractionDistance': 12, 'kStartAttraction': 0.4491223261033921}. Best is trial 94 with value: 8820.246861924687.\u001b[0m\n"
     ]
    },
    {
     "name": "stdout",
     "output_type": "stream",
     "text": [
      "index_parallel='0180'\n"
     ]
    },
    {
     "name": "stderr",
     "output_type": "stream",
     "text": [
      "\u001b[32m[I 2022-08-16 08:02:44,850]\u001b[0m Trial 180 finished with value: 8785.882845188284 and parameters: {'kErase': 2, 'kRadius': 3, 'kAnnealingA': 12.015700419344636, 'kAnnealingB': 0.9614009972667602, 'kAnnealingStart': 9.249325890933138, 'kSkipRatio': 0.7691566138549645, 'kTargetDeterminationTrials': 13, 'kAttractionRatio': 0.5538962851777512, 'kMaxAttractionDistance': 16, 'kStartAttraction': 0.6600935666967981}. Best is trial 94 with value: 8820.246861924687.\u001b[0m\n"
     ]
    },
    {
     "name": "stdout",
     "output_type": "stream",
     "text": [
      "index_parallel='0182'\n"
     ]
    },
    {
     "name": "stderr",
     "output_type": "stream",
     "text": [
      "\u001b[32m[I 2022-08-16 08:07:15,092]\u001b[0m Trial 182 finished with value: 8814.167364016736 and parameters: {'kErase': 2, 'kRadius': 3, 'kAnnealingA': 11.52303804543669, 'kAnnealingB': 0.9667038353148992, 'kAnnealingStart': 9.003189137692868, 'kSkipRatio': 0.7673602152404918, 'kTargetDeterminationTrials': 13, 'kAttractionRatio': 0.5123619813100306, 'kMaxAttractionDistance': 16, 'kStartAttraction': 0.7041739564672719}. Best is trial 94 with value: 8820.246861924687.\u001b[0m\n"
     ]
    },
    {
     "name": "stdout",
     "output_type": "stream",
     "text": [
      "index_parallel='0184'\n"
     ]
    },
    {
     "name": "stderr",
     "output_type": "stream",
     "text": [
      "\u001b[32m[I 2022-08-16 08:11:45,604]\u001b[0m Trial 184 finished with value: 8822.907949790795 and parameters: {'kErase': 2, 'kRadius': 3, 'kAnnealingA': 11.12156276663286, 'kAnnealingB': 1.4034501562920245, 'kAnnealingStart': 7.989304421846582, 'kSkipRatio': 0.752966132571221, 'kTargetDeterminationTrials': 12, 'kAttractionRatio': 0.5335946340282768, 'kMaxAttractionDistance': 13, 'kStartAttraction': 0.6417601080363198}. Best is trial 184 with value: 8822.907949790795.\u001b[0m\n"
     ]
    },
    {
     "name": "stdout",
     "output_type": "stream",
     "text": [
      "Updated! 8822.907949790795\n",
      "index_parallel='0186'\n"
     ]
    },
    {
     "name": "stderr",
     "output_type": "stream",
     "text": [
      "\u001b[32m[I 2022-08-16 08:16:16,823]\u001b[0m Trial 186 finished with value: 8704.89121338912 and parameters: {'kErase': 2, 'kRadius': 3, 'kAnnealingA': 11.191291531158043, 'kAnnealingB': 1.3968493305337886, 'kAnnealingStart': 7.591306413635381, 'kSkipRatio': 0.7268270444012999, 'kTargetDeterminationTrials': 13, 'kAttractionRatio': 0.4189502410503168, 'kMaxAttractionDistance': 15, 'kStartAttraction': 0.6001672843271664}. Best is trial 184 with value: 8822.907949790795.\u001b[0m\n"
     ]
    },
    {
     "name": "stdout",
     "output_type": "stream",
     "text": [
      "index_parallel='0188'\n"
     ]
    },
    {
     "name": "stderr",
     "output_type": "stream",
     "text": [
      "\u001b[32m[I 2022-08-16 08:20:48,395]\u001b[0m Trial 188 finished with value: 8828.008368200837 and parameters: {'kErase': 2, 'kRadius': 3, 'kAnnealingA': 11.163084081074832, 'kAnnealingB': 1.497812317376342, 'kAnnealingStart': 6.675842224388972, 'kSkipRatio': 0.7467286977739873, 'kTargetDeterminationTrials': 12, 'kAttractionRatio': 0.5193328745169765, 'kMaxAttractionDistance': 13, 'kStartAttraction': 0.6716432245214757}. Best is trial 188 with value: 8828.008368200837.\u001b[0m\n"
     ]
    },
    {
     "name": "stdout",
     "output_type": "stream",
     "text": [
      "Updated! 8828.008368200837\n",
      "index_parallel='0190'\n"
     ]
    },
    {
     "name": "stderr",
     "output_type": "stream",
     "text": [
      "\u001b[32m[I 2022-08-16 08:25:19,131]\u001b[0m Trial 190 finished with value: 8647.489539748954 and parameters: {'kErase': 2, 'kRadius': 3, 'kAnnealingA': 11.184072384724823, 'kAnnealingB': 1.6691087729616696, 'kAnnealingStart': 6.63868066643293, 'kSkipRatio': 0.7190496126459894, 'kTargetDeterminationTrials': 12, 'kAttractionRatio': 0.48896515457700723, 'kMaxAttractionDistance': 13, 'kStartAttraction': 0.5000778843751983}. Best is trial 188 with value: 8828.008368200837.\u001b[0m\n"
     ]
    },
    {
     "name": "stdout",
     "output_type": "stream",
     "text": [
      "index_parallel='0192'\n"
     ]
    },
    {
     "name": "stderr",
     "output_type": "stream",
     "text": [
      "\u001b[32m[I 2022-08-16 08:29:49,802]\u001b[0m Trial 192 finished with value: 8765.196652719666 and parameters: {'kErase': 2, 'kRadius': 3, 'kAnnealingA': 10.405522089225999, 'kAnnealingB': 1.563604123895784, 'kAnnealingStart': 8.29106740117471, 'kSkipRatio': 0.7491339395266554, 'kTargetDeterminationTrials': 12, 'kAttractionRatio': 0.461681880278584, 'kMaxAttractionDistance': 14, 'kStartAttraction': 0.655694198818575}. Best is trial 188 with value: 8828.008368200837.\u001b[0m\n"
     ]
    },
    {
     "name": "stdout",
     "output_type": "stream",
     "text": [
      "index_parallel='0194'\n"
     ]
    },
    {
     "name": "stderr",
     "output_type": "stream",
     "text": [
      "\u001b[32m[I 2022-08-16 08:34:19,898]\u001b[0m Trial 194 finished with value: 8760.78661087866 and parameters: {'kErase': 2, 'kRadius': 3, 'kAnnealingA': 11.690703451581896, 'kAnnealingB': 1.473694911218617, 'kAnnealingStart': 7.181174566889924, 'kSkipRatio': 0.7345042185866321, 'kTargetDeterminationTrials': 13, 'kAttractionRatio': 0.4221287294298365, 'kMaxAttractionDistance': 16, 'kStartAttraction': 0.5859722139746584}. Best is trial 188 with value: 8828.008368200837.\u001b[0m\n"
     ]
    },
    {
     "name": "stdout",
     "output_type": "stream",
     "text": [
      "index_parallel='0196'\n"
     ]
    },
    {
     "name": "stderr",
     "output_type": "stream",
     "text": [
      "\u001b[32m[I 2022-08-16 08:38:50,287]\u001b[0m Trial 196 finished with value: 8750.65690376569 and parameters: {'kErase': 2, 'kRadius': 6, 'kAnnealingA': 10.915714132947649, 'kAnnealingB': 0.823659708977251, 'kAnnealingStart': 5.291517476980886, 'kSkipRatio': 0.7524651731699501, 'kTargetDeterminationTrials': 14, 'kAttractionRatio': 0.3540845493164128, 'kMaxAttractionDistance': 16, 'kStartAttraction': 0.6640995954442038}. Best is trial 188 with value: 8828.008368200837.\u001b[0m\n"
     ]
    },
    {
     "name": "stdout",
     "output_type": "stream",
     "text": [
      "index_parallel='0198'\n"
     ]
    },
    {
     "name": "stderr",
     "output_type": "stream",
     "text": [
      "\u001b[32m[I 2022-08-16 08:43:20,488]\u001b[0m Trial 198 finished with value: 8751.807531380753 and parameters: {'kErase': 2, 'kRadius': 3, 'kAnnealingA': 11.83247345517979, 'kAnnealingB': 0.9111428311936582, 'kAnnealingStart': 8.411174089724557, 'kSkipRatio': 0.7437888362500007, 'kTargetDeterminationTrials': 11, 'kAttractionRatio': 0.515960431159507, 'kMaxAttractionDistance': 18, 'kStartAttraction': 0.7487514744331872}. Best is trial 188 with value: 8828.008368200837.\u001b[0m\n"
     ]
    },
    {
     "name": "stdout",
     "output_type": "stream",
     "text": [
      "index_parallel='0200'\n"
     ]
    },
    {
     "name": "stderr",
     "output_type": "stream",
     "text": [
      "\u001b[32m[I 2022-08-16 08:47:50,766]\u001b[0m Trial 200 finished with value: 8696.47280334728 and parameters: {'kErase': 2, 'kRadius': 3, 'kAnnealingA': 9.90937097620776, 'kAnnealingB': 1.3883048522773151, 'kAnnealingStart': 6.599623445669133, 'kSkipRatio': 0.7729100919982915, 'kTargetDeterminationTrials': 14, 'kAttractionRatio': 0.5532175237231349, 'kMaxAttractionDistance': 13, 'kStartAttraction': 0.5431163133782854}. Best is trial 188 with value: 8828.008368200837.\u001b[0m\n"
     ]
    },
    {
     "name": "stdout",
     "output_type": "stream",
     "text": [
      "index_parallel='0202'\n"
     ]
    },
    {
     "name": "stderr",
     "output_type": "stream",
     "text": [
      "\u001b[32m[I 2022-08-16 08:52:21,099]\u001b[0m Trial 202 finished with value: 8763.460251046024 and parameters: {'kErase': 2, 'kRadius': 3, 'kAnnealingA': 12.328091055140792, 'kAnnealingB': 1.3547555585305546, 'kAnnealingStart': 8.678621646635293, 'kSkipRatio': 0.7903456231866737, 'kTargetDeterminationTrials': 13, 'kAttractionRatio': 0.4816731530390702, 'kMaxAttractionDistance': 15, 'kStartAttraction': 0.6379990318219332}. Best is trial 188 with value: 8828.008368200837.\u001b[0m\n"
     ]
    },
    {
     "name": "stdout",
     "output_type": "stream",
     "text": [
      "index_parallel='0204'\n"
     ]
    },
    {
     "name": "stderr",
     "output_type": "stream",
     "text": [
      "\u001b[32m[I 2022-08-16 08:56:51,867]\u001b[0m Trial 204 finished with value: 8169.953974895398 and parameters: {'kErase': 2, 'kRadius': 3, 'kAnnealingA': 11.293154834599228, 'kAnnealingB': 0.7144633850176603, 'kAnnealingStart': 9.164318725030311, 'kSkipRatio': 0.7593098936672202, 'kTargetDeterminationTrials': 12, 'kAttractionRatio': 0.560831059056344, 'kMaxAttractionDistance': 14, 'kStartAttraction': 0.08310346271454427}. Best is trial 188 with value: 8828.008368200837.\u001b[0m\n"
     ]
    },
    {
     "name": "stdout",
     "output_type": "stream",
     "text": [
      "index_parallel='0206'\n"
     ]
    },
    {
     "name": "stderr",
     "output_type": "stream",
     "text": [
      "\u001b[32m[I 2022-08-16 09:01:22,498]\u001b[0m Trial 206 finished with value: 8706.68619246862 and parameters: {'kErase': 2, 'kRadius': 3, 'kAnnealingA': 10.716572156599579, 'kAnnealingB': 1.4771562213813918, 'kAnnealingStart': 8.197360372405113, 'kSkipRatio': 0.7734838822372299, 'kTargetDeterminationTrials': 15, 'kAttractionRatio': 0.5604168085346355, 'kMaxAttractionDistance': 21, 'kStartAttraction': 0.7936003783532448}. Best is trial 188 with value: 8828.008368200837.\u001b[0m\n"
     ]
    },
    {
     "name": "stdout",
     "output_type": "stream",
     "text": [
      "index_parallel='0208'\n"
     ]
    },
    {
     "name": "stderr",
     "output_type": "stream",
     "text": [
      "\u001b[32m[I 2022-08-16 09:05:53,048]\u001b[0m Trial 208 finished with value: 8779.100418410042 and parameters: {'kErase': 2, 'kRadius': 3, 'kAnnealingA': 13.366814892094803, 'kAnnealingB': 0.8696458822605915, 'kAnnealingStart': 6.866570308053095, 'kSkipRatio': 0.7386421641340124, 'kTargetDeterminationTrials': 14, 'kAttractionRatio': 0.4311229535701197, 'kMaxAttractionDistance': 13, 'kStartAttraction': 0.6869804357228935}. Best is trial 188 with value: 8828.008368200837.\u001b[0m\n"
     ]
    },
    {
     "name": "stdout",
     "output_type": "stream",
     "text": [
      "index_parallel='0210'\n"
     ]
    },
    {
     "name": "stderr",
     "output_type": "stream",
     "text": [
      "\u001b[32m[I 2022-08-16 09:10:23,575]\u001b[0m Trial 210 finished with value: 8713.029288702928 and parameters: {'kErase': 2, 'kRadius': 3, 'kAnnealingA': 10.414999123990164, 'kAnnealingB': 1.258638529342444, 'kAnnealingStart': 7.547523031592386, 'kSkipRatio': 0.7092595818118542, 'kTargetDeterminationTrials': 10, 'kAttractionRatio': 0.37869686316727674, 'kMaxAttractionDistance': 12, 'kStartAttraction': 0.8719363157080577}. Best is trial 188 with value: 8828.008368200837.\u001b[0m\n"
     ]
    },
    {
     "name": "stdout",
     "output_type": "stream",
     "text": [
      "index_parallel='0212'\n"
     ]
    },
    {
     "name": "stderr",
     "output_type": "stream",
     "text": [
      "\u001b[32m[I 2022-08-16 09:14:54,252]\u001b[0m Trial 212 finished with value: 8684.489539748954 and parameters: {'kErase': 2, 'kRadius': 3, 'kAnnealingA': 11.826405310876966, 'kAnnealingB': 0.8077985975673142, 'kAnnealingStart': 8.101149894180807, 'kSkipRatio': 0.7276374793958529, 'kTargetDeterminationTrials': 15, 'kAttractionRatio': 0.12987585431437967, 'kMaxAttractionDistance': 13, 'kStartAttraction': 0.7372450680925278}. Best is trial 188 with value: 8828.008368200837.\u001b[0m\n"
     ]
    },
    {
     "name": "stdout",
     "output_type": "stream",
     "text": [
      "index_parallel='0214'\n"
     ]
    },
    {
     "name": "stderr",
     "output_type": "stream",
     "text": [
      "\u001b[32m[I 2022-08-16 09:19:24,802]\u001b[0m Trial 214 finished with value: 8766.518828451883 and parameters: {'kErase': 2, 'kRadius': 3, 'kAnnealingA': 10.019909637276893, 'kAnnealingB': 0.8892892890032456, 'kAnnealingStart': 6.3439142060135945, 'kSkipRatio': 0.7389200023754375, 'kTargetDeterminationTrials': 12, 'kAttractionRatio': 0.40827603388074185, 'kMaxAttractionDistance': 14, 'kStartAttraction': 0.5535949836549036}. Best is trial 188 with value: 8828.008368200837.\u001b[0m\n"
     ]
    },
    {
     "name": "stdout",
     "output_type": "stream",
     "text": [
      "index_parallel='0216'\n"
     ]
    },
    {
     "name": "stderr",
     "output_type": "stream",
     "text": [
      "\u001b[32m[I 2022-08-16 09:23:55,116]\u001b[0m Trial 216 finished with value: 8687.92468619247 and parameters: {'kErase': 2, 'kRadius': 3, 'kAnnealingA': 12.51365336043888, 'kAnnealingB': 0.941491332714257, 'kAnnealingStart': 7.527682820217953, 'kSkipRatio': 0.7534196339781754, 'kTargetDeterminationTrials': 14, 'kAttractionRatio': 0.39578795541168305, 'kMaxAttractionDistance': 15, 'kStartAttraction': 0.8854011110602761}. Best is trial 188 with value: 8828.008368200837.\u001b[0m\n"
     ]
    },
    {
     "name": "stdout",
     "output_type": "stream",
     "text": [
      "index_parallel='0218'\n"
     ]
    },
    {
     "name": "stderr",
     "output_type": "stream",
     "text": [
      "\u001b[32m[I 2022-08-16 09:28:25,442]\u001b[0m Trial 218 finished with value: 7816.79079497908 and parameters: {'kErase': 2, 'kRadius': 3, 'kAnnealingA': 11.237923259426529, 'kAnnealingB': 1.0458311238737261, 'kAnnealingStart': 9.739223858572851, 'kSkipRatio': 0.7801243936928131, 'kTargetDeterminationTrials': 1, 'kAttractionRatio': 0.4450644462834621, 'kMaxAttractionDistance': 13, 'kStartAttraction': 0.0061837486999526715}. Best is trial 188 with value: 8828.008368200837.\u001b[0m\n"
     ]
    },
    {
     "name": "stdout",
     "output_type": "stream",
     "text": [
      "index_parallel='0220'\n"
     ]
    },
    {
     "name": "stderr",
     "output_type": "stream",
     "text": [
      "\u001b[32m[I 2022-08-16 09:32:56,889]\u001b[0m Trial 220 finished with value: 8699.606694560669 and parameters: {'kErase': 2, 'kRadius': 3, 'kAnnealingA': 9.221720393724278, 'kAnnealingB': 0.7558325692311518, 'kAnnealingStart': 8.649020783671267, 'kSkipRatio': 0.7632985209637622, 'kTargetDeterminationTrials': 15, 'kAttractionRatio': 0.5169754239930474, 'kMaxAttractionDistance': 17, 'kStartAttraction': 0.6610546504823754}. Best is trial 188 with value: 8828.008368200837.\u001b[0m\n"
     ]
    },
    {
     "name": "stdout",
     "output_type": "stream",
     "text": [
      "index_parallel='0222'\n"
     ]
    },
    {
     "name": "stderr",
     "output_type": "stream",
     "text": [
      "\u001b[32m[I 2022-08-16 09:37:28,042]\u001b[0m Trial 222 finished with value: 7934.2468619246865 and parameters: {'kErase': 2, 'kRadius': 3, 'kAnnealingA': 10.712736673107031, 'kAnnealingB': 0.824101132060883, 'kAnnealingStart': 9.468550556672723, 'kSkipRatio': 0.7846076162902587, 'kTargetDeterminationTrials': 13, 'kAttractionRatio': 0.46229663853224673, 'kMaxAttractionDistance': 19, 'kStartAttraction': 0.0158989882299942}. Best is trial 188 with value: 8828.008368200837.\u001b[0m\n"
     ]
    },
    {
     "name": "stdout",
     "output_type": "stream",
     "text": [
      "index_parallel='0224'\n"
     ]
    },
    {
     "name": "stderr",
     "output_type": "stream",
     "text": [
      "\u001b[32m[I 2022-08-16 09:41:58,413]\u001b[0m Trial 224 finished with value: 8762.338912133891 and parameters: {'kErase': 2, 'kRadius': 3, 'kAnnealingA': 11.189183488640834, 'kAnnealingB': 1.4297405689809437, 'kAnnealingStart': 6.8587962568480085, 'kSkipRatio': 0.7654975144573424, 'kTargetDeterminationTrials': 17, 'kAttractionRatio': 0.45408414569341493, 'kMaxAttractionDistance': 21, 'kStartAttraction': 0.7634711668219557}. Best is trial 188 with value: 8828.008368200837.\u001b[0m\n"
     ]
    },
    {
     "name": "stdout",
     "output_type": "stream",
     "text": [
      "index_parallel='0226'\n"
     ]
    },
    {
     "name": "stderr",
     "output_type": "stream",
     "text": [
      "\u001b[32m[I 2022-08-16 09:46:29,235]\u001b[0m Trial 226 finished with value: 8079.44769874477 and parameters: {'kErase': 2, 'kRadius': 3, 'kAnnealingA': 11.603096779516829, 'kAnnealingB': 0.872512161799538, 'kAnnealingStart': 7.889324088641638, 'kSkipRatio': 0.7581476548108372, 'kTargetDeterminationTrials': 15, 'kAttractionRatio': 0.5985520418738381, 'kMaxAttractionDistance': 4, 'kStartAttraction': 0.6150108093665366}. Best is trial 188 with value: 8828.008368200837.\u001b[0m\n"
     ]
    },
    {
     "name": "stdout",
     "output_type": "stream",
     "text": [
      "index_parallel='0228'\n"
     ]
    },
    {
     "name": "stderr",
     "output_type": "stream",
     "text": [
      "\u001b[32m[I 2022-08-16 09:50:59,552]\u001b[0m Trial 228 finished with value: 8618.627615062762 and parameters: {'kErase': 2, 'kRadius': 3, 'kAnnealingA': 13.202062188661223, 'kAnnealingB': 1.3590388924804955, 'kAnnealingStart': 10.725232334349107, 'kSkipRatio': 0.7711131919457668, 'kTargetDeterminationTrials': 16, 'kAttractionRatio': 0.3455564585315916, 'kMaxAttractionDistance': 15, 'kStartAttraction': 0.49617023207065697}. Best is trial 188 with value: 8828.008368200837.\u001b[0m\n"
     ]
    },
    {
     "name": "stdout",
     "output_type": "stream",
     "text": [
      "index_parallel='0230'\n"
     ]
    },
    {
     "name": "stderr",
     "output_type": "stream",
     "text": [
      "\u001b[32m[I 2022-08-16 09:55:31,209]\u001b[0m Trial 230 finished with value: 8780.062761506277 and parameters: {'kErase': 2, 'kRadius': 3, 'kAnnealingA': 12.212561880403943, 'kAnnealingB': 1.440657310968046, 'kAnnealingStart': 8.504201864175217, 'kSkipRatio': 0.7832134259018163, 'kTargetDeterminationTrials': 18, 'kAttractionRatio': 0.6525816097679037, 'kMaxAttractionDistance': 17, 'kStartAttraction': 0.893934080153808}. Best is trial 188 with value: 8828.008368200837.\u001b[0m\n"
     ]
    },
    {
     "name": "stdout",
     "output_type": "stream",
     "text": [
      "index_parallel='0232'\n"
     ]
    },
    {
     "name": "stderr",
     "output_type": "stream",
     "text": [
      "\u001b[32m[I 2022-08-16 10:00:01,800]\u001b[0m Trial 232 finished with value: 8728.958158995816 and parameters: {'kErase': 2, 'kRadius': 3, 'kAnnealingA': 11.088222303814801, 'kAnnealingB': 1.0761857672814226, 'kAnnealingStart': 8.019101345265186, 'kSkipRatio': 0.7501021736305716, 'kTargetDeterminationTrials': 14, 'kAttractionRatio': 0.37909541826796206, 'kMaxAttractionDistance': 13, 'kStartAttraction': 0.7215758140939497}. Best is trial 188 with value: 8828.008368200837.\u001b[0m\n"
     ]
    },
    {
     "name": "stdout",
     "output_type": "stream",
     "text": [
      "index_parallel='0234'\n"
     ]
    },
    {
     "name": "stderr",
     "output_type": "stream",
     "text": [
      "\u001b[32m[I 2022-08-16 10:04:32,528]\u001b[0m Trial 234 finished with value: 8772.81589958159 and parameters: {'kErase': 2, 'kRadius': 3, 'kAnnealingA': 10.384711299304305, 'kAnnealingB': 0.973105648353578, 'kAnnealingStart': 7.856548988536219, 'kSkipRatio': 0.7673579166740575, 'kTargetDeterminationTrials': 16, 'kAttractionRatio': 0.40087032672147865, 'kMaxAttractionDistance': 12, 'kStartAttraction': 0.7027631574485257}. Best is trial 188 with value: 8828.008368200837.\u001b[0m\n"
     ]
    },
    {
     "name": "stdout",
     "output_type": "stream",
     "text": [
      "index_parallel='0236'\n"
     ]
    },
    {
     "name": "stderr",
     "output_type": "stream",
     "text": [
      "\u001b[32m[I 2022-08-16 10:09:02,799]\u001b[0m Trial 236 finished with value: 8799.811715481172 and parameters: {'kErase': 2, 'kRadius': 3, 'kAnnealingA': 9.473329894413476, 'kAnnealingB': 1.5336310186470792, 'kAnnealingStart': 6.698996617789449, 'kSkipRatio': 0.7279004324538028, 'kTargetDeterminationTrials': 13, 'kAttractionRatio': 0.5108959420136236, 'kMaxAttractionDistance': 14, 'kStartAttraction': 0.6381514313992265}. Best is trial 188 with value: 8828.008368200837.\u001b[0m\n"
     ]
    },
    {
     "name": "stdout",
     "output_type": "stream",
     "text": [
      "index_parallel='0238'\n"
     ]
    },
    {
     "name": "stderr",
     "output_type": "stream",
     "text": [
      "\u001b[32m[I 2022-08-16 10:13:33,533]\u001b[0m Trial 238 finished with value: 8485.393305439331 and parameters: {'kErase': 2, 'kRadius': 3, 'kAnnealingA': 8.81230153936256, 'kAnnealingB': 1.5171919922485262, 'kAnnealingStart': 5.860104304954209, 'kSkipRatio': 0.2908036641515807, 'kTargetDeterminationTrials': 12, 'kAttractionRatio': 0.5163520192926886, 'kMaxAttractionDistance': 14, 'kStartAttraction': 0.5710199377116802}. Best is trial 188 with value: 8828.008368200837.\u001b[0m\n"
     ]
    },
    {
     "name": "stdout",
     "output_type": "stream",
     "text": [
      "index_parallel='0240'\n"
     ]
    },
    {
     "name": "stderr",
     "output_type": "stream",
     "text": [
      "\u001b[32m[I 2022-08-16 10:18:03,860]\u001b[0m Trial 240 finished with value: 8776.510460251046 and parameters: {'kErase': 2, 'kRadius': 3, 'kAnnealingA': 9.552776949796582, 'kAnnealingB': 1.5901566427970326, 'kAnnealingStart': 6.710154311074699, 'kSkipRatio': 0.7570751048347858, 'kTargetDeterminationTrials': 13, 'kAttractionRatio': 0.5795317932853896, 'kMaxAttractionDistance': 16, 'kStartAttraction': 0.643928035848298}. Best is trial 188 with value: 8828.008368200837.\u001b[0m\n"
     ]
    },
    {
     "name": "stdout",
     "output_type": "stream",
     "text": [
      "index_parallel='0242'\n"
     ]
    },
    {
     "name": "stderr",
     "output_type": "stream",
     "text": [
      "\u001b[32m[I 2022-08-16 10:22:34,378]\u001b[0m Trial 242 finished with value: 8734.326359832636 and parameters: {'kErase': 2, 'kRadius': 3, 'kAnnealingA': 10.817682344880584, 'kAnnealingB': 1.3651337075470793, 'kAnnealingStart': 8.961994423299624, 'kSkipRatio': 0.7156749633018344, 'kTargetDeterminationTrials': 15, 'kAttractionRatio': 0.43391191787956035, 'kMaxAttractionDistance': 14, 'kStartAttraction': 0.7980687933409312}. Best is trial 188 with value: 8828.008368200837.\u001b[0m\n"
     ]
    },
    {
     "name": "stdout",
     "output_type": "stream",
     "text": [
      "index_parallel='0244'\n"
     ]
    },
    {
     "name": "stderr",
     "output_type": "stream",
     "text": [
      "\u001b[32m[I 2022-08-16 10:27:05,057]\u001b[0m Trial 244 finished with value: 8727.531380753138 and parameters: {'kErase': 2, 'kRadius': 3, 'kAnnealingA': 12.636239784540749, 'kAnnealingB': 0.9053369339734237, 'kAnnealingStart': 9.923970430197045, 'kSkipRatio': 0.7415052894268424, 'kTargetDeterminationTrials': 11, 'kAttractionRatio': 0.4308741100632742, 'kMaxAttractionDistance': 20, 'kStartAttraction': 0.7802850469605047}. Best is trial 243 with value: 8835.242677824268.\u001b[0m\n"
     ]
    },
    {
     "name": "stdout",
     "output_type": "stream",
     "text": [
      "index_parallel='0246'\n"
     ]
    },
    {
     "name": "stderr",
     "output_type": "stream",
     "text": [
      "\u001b[32m[I 2022-08-16 10:31:35,547]\u001b[0m Trial 246 finished with value: 8703.255230125524 and parameters: {'kErase': 2, 'kRadius': 3, 'kAnnealingA': 11.316156642003284, 'kAnnealingB': 1.3777251865284503, 'kAnnealingStart': 8.897536121202307, 'kSkipRatio': 0.7707719027640183, 'kTargetDeterminationTrials': 14, 'kAttractionRatio': 0.8237955041563056, 'kMaxAttractionDistance': 13, 'kStartAttraction': 0.880563897676313}. Best is trial 243 with value: 8835.242677824268.\u001b[0m\n"
     ]
    },
    {
     "name": "stdout",
     "output_type": "stream",
     "text": [
      "index_parallel='0248'\n"
     ]
    },
    {
     "name": "stderr",
     "output_type": "stream",
     "text": [
      "\u001b[32m[I 2022-08-16 10:36:06,086]\u001b[0m Trial 248 finished with value: 8694.953974895398 and parameters: {'kErase': 2, 'kRadius': 3, 'kAnnealingA': 11.90576332248507, 'kAnnealingB': 1.4933032007170912, 'kAnnealingStart': 5.9154164641820515, 'kSkipRatio': 0.7773894998268379, 'kTargetDeterminationTrials': 14, 'kAttractionRatio': 0.5020053831352457, 'kMaxAttractionDistance': 15, 'kStartAttraction': 0.6720740033396077}. Best is trial 243 with value: 8835.242677824268.\u001b[0m\n"
     ]
    },
    {
     "name": "stdout",
     "output_type": "stream",
     "text": [
      "index_parallel='0250'\n"
     ]
    },
    {
     "name": "stderr",
     "output_type": "stream",
     "text": [
      "\u001b[32m[I 2022-08-16 10:40:36,505]\u001b[0m Trial 250 finished with value: 8842.753138075313 and parameters: {'kErase': 2, 'kRadius': 3, 'kAnnealingA': 14.054303211666149, 'kAnnealingB': 0.7659256567848483, 'kAnnealingStart': 7.420603349570531, 'kSkipRatio': 0.727622502173684, 'kTargetDeterminationTrials': 15, 'kAttractionRatio': 0.7211644558916375, 'kMaxAttractionDistance': 12, 'kStartAttraction': 0.5283546335212416}. Best is trial 250 with value: 8842.753138075313.\u001b[0m\n"
     ]
    },
    {
     "name": "stdout",
     "output_type": "stream",
     "text": [
      "Updated! 8842.753138075313\n",
      "index_parallel='0252'\n"
     ]
    },
    {
     "name": "stderr",
     "output_type": "stream",
     "text": [
      "\u001b[32m[I 2022-08-16 10:45:07,454]\u001b[0m Trial 252 finished with value: 8500.481171548117 and parameters: {'kErase': 2, 'kRadius': 3, 'kAnnealingA': -8.077841403786357, 'kAnnealingB': 0.6315021357072587, 'kAnnealingStart': 7.168744811841553, 'kSkipRatio': 0.69835062374783, 'kTargetDeterminationTrials': 13, 'kAttractionRatio': 0.7202416790709033, 'kMaxAttractionDistance': 12, 'kStartAttraction': 0.5408647627609975}. Best is trial 250 with value: 8842.753138075313.\u001b[0m\n"
     ]
    },
    {
     "name": "stdout",
     "output_type": "stream",
     "text": [
      "index_parallel='0254'\n"
     ]
    },
    {
     "name": "stderr",
     "output_type": "stream",
     "text": [
      "\u001b[32m[I 2022-08-16 10:49:37,966]\u001b[0m Trial 254 finished with value: 7445.577405857741 and parameters: {'kErase': 2, 'kRadius': 3, 'kAnnealingA': 10.597617068213514, 'kAnnealingB': 1.305592336932233, 'kAnnealingStart': 75.74638347780501, 'kSkipRatio': 0.7105314981640914, 'kTargetDeterminationTrials': 17, 'kAttractionRatio': 0.6654281047377699, 'kMaxAttractionDistance': 16, 'kStartAttraction': 0.03264056106706244}. Best is trial 250 with value: 8842.753138075313.\u001b[0m\n"
     ]
    },
    {
     "name": "stdout",
     "output_type": "stream",
     "text": [
      "index_parallel='0256'\n"
     ]
    },
    {
     "name": "stderr",
     "output_type": "stream",
     "text": [
      "\u001b[32m[I 2022-08-16 10:54:08,561]\u001b[0m Trial 256 finished with value: 8820.050209205021 and parameters: {'kErase': 2, 'kRadius': 3, 'kAnnealingA': 12.236275399038977, 'kAnnealingB': 1.3432827491302024, 'kAnnealingStart': 6.059847907166482, 'kSkipRatio': 0.7236563035843749, 'kTargetDeterminationTrials': 11, 'kAttractionRatio': 0.6315511210175754, 'kMaxAttractionDistance': 13, 'kStartAttraction': 0.633557157183084}. Best is trial 250 with value: 8842.753138075313.\u001b[0m\n"
     ]
    },
    {
     "name": "stdout",
     "output_type": "stream",
     "text": [
      "index_parallel='0258'\n"
     ]
    },
    {
     "name": "stderr",
     "output_type": "stream",
     "text": [
      "\u001b[32m[I 2022-08-16 10:58:38,981]\u001b[0m Trial 258 finished with value: 8823.246861924687 and parameters: {'kErase': 2, 'kRadius': 3, 'kAnnealingA': 12.38632562555533, 'kAnnealingB': 1.427762085478689, 'kAnnealingStart': 5.39955810678733, 'kSkipRatio': 0.726532552308505, 'kTargetDeterminationTrials': 12, 'kAttractionRatio': 0.6345209345393493, 'kMaxAttractionDistance': 11, 'kStartAttraction': 0.6142765969437353}. Best is trial 250 with value: 8842.753138075313.\u001b[0m\n"
     ]
    },
    {
     "name": "stdout",
     "output_type": "stream",
     "text": [
      "index_parallel='0260'\n"
     ]
    },
    {
     "name": "stderr",
     "output_type": "stream",
     "text": [
      "\u001b[32m[I 2022-08-16 11:03:10,051]\u001b[0m Trial 260 finished with value: 8703.489539748954 and parameters: {'kErase': 2, 'kRadius': 3, 'kAnnealingA': 12.91677956757139, 'kAnnealingB': 1.4286591568012235, 'kAnnealingStart': 4.87280958193426, 'kSkipRatio': 0.7238219601717326, 'kTargetDeterminationTrials': 11, 'kAttractionRatio': 0.6169235425927656, 'kMaxAttractionDistance': 20, 'kStartAttraction': 0.6021539240074366}. Best is trial 250 with value: 8842.753138075313.\u001b[0m\n"
     ]
    },
    {
     "name": "stdout",
     "output_type": "stream",
     "text": [
      "index_parallel='0262'\n"
     ]
    },
    {
     "name": "stderr",
     "output_type": "stream",
     "text": [
      "\u001b[32m[I 2022-08-16 11:07:40,531]\u001b[0m Trial 262 finished with value: 8717.933054393305 and parameters: {'kErase': 2, 'kRadius': 3, 'kAnnealingA': 12.197418385841905, 'kAnnealingB': 1.2371378146054535, 'kAnnealingStart': 5.630361273082605, 'kSkipRatio': 0.7863942558127659, 'kTargetDeterminationTrials': 12, 'kAttractionRatio': 0.578374710186028, 'kMaxAttractionDistance': 11, 'kStartAttraction': 0.7086294107572372}. Best is trial 250 with value: 8842.753138075313.\u001b[0m\n"
     ]
    },
    {
     "name": "stdout",
     "output_type": "stream",
     "text": [
      "index_parallel='0264'\n"
     ]
    },
    {
     "ename": "StorageInternalError",
     "evalue": "An exception is raised during the commit. This typically happens due to invalid data in the commit, e.g. exceeding max length. ",
     "output_type": "error",
     "traceback": [
      "\u001b[0;31m---------------------------------------------------------------------------\u001b[0m",
      "\u001b[0;31mOperationalError\u001b[0m                          Traceback (most recent call last)",
      "File \u001b[0;32m~/anaconda3/lib/python3.9/site-packages/sqlalchemy/engine/base.py:1808\u001b[0m, in \u001b[0;36mConnection._execute_context\u001b[0;34m(self, dialect, constructor, statement, parameters, execution_options, *args, **kw)\u001b[0m\n\u001b[1;32m   1807\u001b[0m     \u001b[38;5;28;01mif\u001b[39;00m \u001b[38;5;129;01mnot\u001b[39;00m evt_handled:\n\u001b[0;32m-> 1808\u001b[0m         \u001b[38;5;28;43mself\u001b[39;49m\u001b[38;5;241;43m.\u001b[39;49m\u001b[43mdialect\u001b[49m\u001b[38;5;241;43m.\u001b[39;49m\u001b[43mdo_execute\u001b[49m\u001b[43m(\u001b[49m\n\u001b[1;32m   1809\u001b[0m \u001b[43m            \u001b[49m\u001b[43mcursor\u001b[49m\u001b[43m,\u001b[49m\u001b[43m \u001b[49m\u001b[43mstatement\u001b[49m\u001b[43m,\u001b[49m\u001b[43m \u001b[49m\u001b[43mparameters\u001b[49m\u001b[43m,\u001b[49m\u001b[43m \u001b[49m\u001b[43mcontext\u001b[49m\n\u001b[1;32m   1810\u001b[0m \u001b[43m        \u001b[49m\u001b[43m)\u001b[49m\n\u001b[1;32m   1812\u001b[0m \u001b[38;5;28;01mif\u001b[39;00m \u001b[38;5;28mself\u001b[39m\u001b[38;5;241m.\u001b[39m_has_events \u001b[38;5;129;01mor\u001b[39;00m \u001b[38;5;28mself\u001b[39m\u001b[38;5;241m.\u001b[39mengine\u001b[38;5;241m.\u001b[39m_has_events:\n",
      "File \u001b[0;32m~/anaconda3/lib/python3.9/site-packages/sqlalchemy/engine/default.py:732\u001b[0m, in \u001b[0;36mDefaultDialect.do_execute\u001b[0;34m(self, cursor, statement, parameters, context)\u001b[0m\n\u001b[1;32m    731\u001b[0m \u001b[38;5;28;01mdef\u001b[39;00m \u001b[38;5;21mdo_execute\u001b[39m(\u001b[38;5;28mself\u001b[39m, cursor, statement, parameters, context\u001b[38;5;241m=\u001b[39m\u001b[38;5;28;01mNone\u001b[39;00m):\n\u001b[0;32m--> 732\u001b[0m     \u001b[43mcursor\u001b[49m\u001b[38;5;241;43m.\u001b[39;49m\u001b[43mexecute\u001b[49m\u001b[43m(\u001b[49m\u001b[43mstatement\u001b[49m\u001b[43m,\u001b[49m\u001b[43m \u001b[49m\u001b[43mparameters\u001b[49m\u001b[43m)\u001b[49m\n",
      "\u001b[0;31mOperationalError\u001b[0m: unable to open database file",
      "\nThe above exception was the direct cause of the following exception:\n",
      "\u001b[0;31mOperationalError\u001b[0m                          Traceback (most recent call last)",
      "File \u001b[0;32m~/anaconda3/lib/python3.9/site-packages/optuna/storages/_rdb/storage.py:53\u001b[0m, in \u001b[0;36m_create_scoped_session\u001b[0;34m(scoped_session, ignore_integrity_error)\u001b[0m\n\u001b[1;32m     52\u001b[0m \u001b[38;5;28;01mtry\u001b[39;00m:\n\u001b[0;32m---> 53\u001b[0m     \u001b[38;5;28;01myield\u001b[39;00m session\n\u001b[1;32m     54\u001b[0m     session\u001b[38;5;241m.\u001b[39mcommit()\n",
      "File \u001b[0;32m~/anaconda3/lib/python3.9/site-packages/optuna/storages/_rdb/storage.py:994\u001b[0m, in \u001b[0;36mRDBStorage.get_trial\u001b[0;34m(self, trial_id)\u001b[0m\n\u001b[1;32m    993\u001b[0m     trial_model \u001b[38;5;241m=\u001b[39m models\u001b[38;5;241m.\u001b[39mTrialModel\u001b[38;5;241m.\u001b[39mfind_or_raise_by_id(trial_id, session)\n\u001b[0;32m--> 994\u001b[0m     frozen_trial \u001b[38;5;241m=\u001b[39m \u001b[38;5;28;43mself\u001b[39;49m\u001b[38;5;241;43m.\u001b[39;49m\u001b[43m_build_frozen_trial_from_trial_model\u001b[49m\u001b[43m(\u001b[49m\u001b[43mtrial_model\u001b[49m\u001b[43m)\u001b[49m\n\u001b[1;32m    996\u001b[0m \u001b[38;5;28;01mreturn\u001b[39;00m frozen_trial\n",
      "File \u001b[0;32m~/anaconda3/lib/python3.9/site-packages/optuna/storages/_rdb/storage.py:1102\u001b[0m, in \u001b[0;36mRDBStorage._build_frozen_trial_from_trial_model\u001b[0;34m(trial)\u001b[0m\n\u001b[1;32m   1083\u001b[0m     values \u001b[38;5;241m=\u001b[39m \u001b[38;5;28;01mNone\u001b[39;00m\n\u001b[1;32m   1085\u001b[0m \u001b[38;5;28;01mreturn\u001b[39;00m FrozenTrial(\n\u001b[1;32m   1086\u001b[0m     number\u001b[38;5;241m=\u001b[39mtrial\u001b[38;5;241m.\u001b[39mnumber,\n\u001b[1;32m   1087\u001b[0m     state\u001b[38;5;241m=\u001b[39mtrial\u001b[38;5;241m.\u001b[39mstate,\n\u001b[1;32m   1088\u001b[0m     value\u001b[38;5;241m=\u001b[39m\u001b[38;5;28;01mNone\u001b[39;00m,\n\u001b[1;32m   1089\u001b[0m     values\u001b[38;5;241m=\u001b[39mvalues,\n\u001b[1;32m   1090\u001b[0m     datetime_start\u001b[38;5;241m=\u001b[39mtrial\u001b[38;5;241m.\u001b[39mdatetime_start,\n\u001b[1;32m   1091\u001b[0m     datetime_complete\u001b[38;5;241m=\u001b[39mtrial\u001b[38;5;241m.\u001b[39mdatetime_complete,\n\u001b[1;32m   1092\u001b[0m     params\u001b[38;5;241m=\u001b[39m{\n\u001b[1;32m   1093\u001b[0m         p\u001b[38;5;241m.\u001b[39mparam_name: distributions\u001b[38;5;241m.\u001b[39mjson_to_distribution(\n\u001b[1;32m   1094\u001b[0m             p\u001b[38;5;241m.\u001b[39mdistribution_json\n\u001b[1;32m   1095\u001b[0m         )\u001b[38;5;241m.\u001b[39mto_external_repr(p\u001b[38;5;241m.\u001b[39mparam_value)\n\u001b[1;32m   1096\u001b[0m         \u001b[38;5;28;01mfor\u001b[39;00m p \u001b[38;5;129;01min\u001b[39;00m trial\u001b[38;5;241m.\u001b[39mparams\n\u001b[1;32m   1097\u001b[0m     },\n\u001b[1;32m   1098\u001b[0m     distributions\u001b[38;5;241m=\u001b[39m{\n\u001b[1;32m   1099\u001b[0m         p\u001b[38;5;241m.\u001b[39mparam_name: distributions\u001b[38;5;241m.\u001b[39mjson_to_distribution(p\u001b[38;5;241m.\u001b[39mdistribution_json)\n\u001b[1;32m   1100\u001b[0m         \u001b[38;5;28;01mfor\u001b[39;00m p \u001b[38;5;129;01min\u001b[39;00m trial\u001b[38;5;241m.\u001b[39mparams\n\u001b[1;32m   1101\u001b[0m     },\n\u001b[0;32m-> 1102\u001b[0m     user_attrs\u001b[38;5;241m=\u001b[39m{attr\u001b[38;5;241m.\u001b[39mkey: json\u001b[38;5;241m.\u001b[39mloads(attr\u001b[38;5;241m.\u001b[39mvalue_json) \u001b[38;5;28;01mfor\u001b[39;00m attr \u001b[38;5;129;01min\u001b[39;00m \u001b[43mtrial\u001b[49m\u001b[38;5;241;43m.\u001b[39;49m\u001b[43muser_attributes\u001b[49m},\n\u001b[1;32m   1103\u001b[0m     system_attrs\u001b[38;5;241m=\u001b[39m{\n\u001b[1;32m   1104\u001b[0m         attr\u001b[38;5;241m.\u001b[39mkey: json\u001b[38;5;241m.\u001b[39mloads(attr\u001b[38;5;241m.\u001b[39mvalue_json) \u001b[38;5;28;01mfor\u001b[39;00m attr \u001b[38;5;129;01min\u001b[39;00m trial\u001b[38;5;241m.\u001b[39msystem_attributes\n\u001b[1;32m   1105\u001b[0m     },\n\u001b[1;32m   1106\u001b[0m     intermediate_values\u001b[38;5;241m=\u001b[39m{v\u001b[38;5;241m.\u001b[39mstep: v\u001b[38;5;241m.\u001b[39mintermediate_value \u001b[38;5;28;01mfor\u001b[39;00m v \u001b[38;5;129;01min\u001b[39;00m trial\u001b[38;5;241m.\u001b[39mintermediate_values},\n\u001b[1;32m   1107\u001b[0m     trial_id\u001b[38;5;241m=\u001b[39mtrial\u001b[38;5;241m.\u001b[39mtrial_id,\n\u001b[1;32m   1108\u001b[0m )\n",
      "File \u001b[0;32m~/anaconda3/lib/python3.9/site-packages/sqlalchemy/orm/attributes.py:481\u001b[0m, in \u001b[0;36mInstrumentedAttribute.__get__\u001b[0;34m(self, instance, owner)\u001b[0m\n\u001b[1;32m    477\u001b[0m     util\u001b[38;5;241m.\u001b[39mraise_(\n\u001b[1;32m    478\u001b[0m         orm_exc\u001b[38;5;241m.\u001b[39mUnmappedInstanceError(instance),\n\u001b[1;32m    479\u001b[0m         replace_context\u001b[38;5;241m=\u001b[39merr,\n\u001b[1;32m    480\u001b[0m     )\n\u001b[0;32m--> 481\u001b[0m \u001b[38;5;28;01mreturn\u001b[39;00m \u001b[38;5;28;43mself\u001b[39;49m\u001b[38;5;241;43m.\u001b[39;49m\u001b[43mimpl\u001b[49m\u001b[38;5;241;43m.\u001b[39;49m\u001b[43mget\u001b[49m\u001b[43m(\u001b[49m\u001b[43mstate\u001b[49m\u001b[43m,\u001b[49m\u001b[43m \u001b[49m\u001b[43mdict_\u001b[49m\u001b[43m)\u001b[49m\n",
      "File \u001b[0;32m~/anaconda3/lib/python3.9/site-packages/sqlalchemy/orm/attributes.py:941\u001b[0m, in \u001b[0;36mAttributeImpl.get\u001b[0;34m(self, state, dict_, passive)\u001b[0m\n\u001b[1;32m    939\u001b[0m     \u001b[38;5;28;01mreturn\u001b[39;00m PASSIVE_NO_RESULT\n\u001b[0;32m--> 941\u001b[0m value \u001b[38;5;241m=\u001b[39m \u001b[38;5;28;43mself\u001b[39;49m\u001b[38;5;241;43m.\u001b[39;49m\u001b[43m_fire_loader_callables\u001b[49m\u001b[43m(\u001b[49m\u001b[43mstate\u001b[49m\u001b[43m,\u001b[49m\u001b[43m \u001b[49m\u001b[43mkey\u001b[49m\u001b[43m,\u001b[49m\u001b[43m \u001b[49m\u001b[43mpassive\u001b[49m\u001b[43m)\u001b[49m\n\u001b[1;32m    943\u001b[0m \u001b[38;5;28;01mif\u001b[39;00m value \u001b[38;5;129;01mis\u001b[39;00m PASSIVE_NO_RESULT \u001b[38;5;129;01mor\u001b[39;00m value \u001b[38;5;129;01mis\u001b[39;00m NO_VALUE:\n",
      "File \u001b[0;32m~/anaconda3/lib/python3.9/site-packages/sqlalchemy/orm/attributes.py:977\u001b[0m, in \u001b[0;36mAttributeImpl._fire_loader_callables\u001b[0;34m(self, state, key, passive)\u001b[0m\n\u001b[1;32m    976\u001b[0m \u001b[38;5;28;01melif\u001b[39;00m \u001b[38;5;28mself\u001b[39m\u001b[38;5;241m.\u001b[39mcallable_:\n\u001b[0;32m--> 977\u001b[0m     \u001b[38;5;28;01mreturn\u001b[39;00m \u001b[38;5;28;43mself\u001b[39;49m\u001b[38;5;241;43m.\u001b[39;49m\u001b[43mcallable_\u001b[49m\u001b[43m(\u001b[49m\u001b[43mstate\u001b[49m\u001b[43m,\u001b[49m\u001b[43m \u001b[49m\u001b[43mpassive\u001b[49m\u001b[43m)\u001b[49m\n\u001b[1;32m    978\u001b[0m \u001b[38;5;28;01melse\u001b[39;00m:\n",
      "File \u001b[0;32m~/anaconda3/lib/python3.9/site-packages/sqlalchemy/orm/strategies.py:911\u001b[0m, in \u001b[0;36mLazyLoader._load_for_state\u001b[0;34m(self, state, passive, loadopt, extra_criteria)\u001b[0m\n\u001b[1;32m    909\u001b[0m         \u001b[38;5;28;01mreturn\u001b[39;00m attributes\u001b[38;5;241m.\u001b[39mPASSIVE_NO_RESULT\n\u001b[0;32m--> 911\u001b[0m \u001b[38;5;28;01mreturn\u001b[39;00m \u001b[38;5;28;43mself\u001b[39;49m\u001b[38;5;241;43m.\u001b[39;49m\u001b[43m_emit_lazyload\u001b[49m\u001b[43m(\u001b[49m\n\u001b[1;32m    912\u001b[0m \u001b[43m    \u001b[49m\u001b[43msession\u001b[49m\u001b[43m,\u001b[49m\n\u001b[1;32m    913\u001b[0m \u001b[43m    \u001b[49m\u001b[43mstate\u001b[49m\u001b[43m,\u001b[49m\n\u001b[1;32m    914\u001b[0m \u001b[43m    \u001b[49m\u001b[43mprimary_key_identity\u001b[49m\u001b[43m,\u001b[49m\n\u001b[1;32m    915\u001b[0m \u001b[43m    \u001b[49m\u001b[43mpassive\u001b[49m\u001b[43m,\u001b[49m\n\u001b[1;32m    916\u001b[0m \u001b[43m    \u001b[49m\u001b[43mloadopt\u001b[49m\u001b[43m,\u001b[49m\n\u001b[1;32m    917\u001b[0m \u001b[43m    \u001b[49m\u001b[43mextra_criteria\u001b[49m\u001b[43m,\u001b[49m\n\u001b[1;32m    918\u001b[0m \u001b[43m\u001b[49m\u001b[43m)\u001b[49m\n",
      "File \u001b[0;32m~/anaconda3/lib/python3.9/site-packages/sqlalchemy/orm/strategies.py:1047\u001b[0m, in \u001b[0;36mLazyLoader._emit_lazyload\u001b[0;34m(self, session, state, primary_key_identity, passive, loadopt, extra_criteria)\u001b[0m\n\u001b[1;32m   1045\u001b[0m stmt\u001b[38;5;241m.\u001b[39m_where_criteria \u001b[38;5;241m=\u001b[39m (lazy_clause,)\n\u001b[0;32m-> 1047\u001b[0m result \u001b[38;5;241m=\u001b[39m \u001b[43msession\u001b[49m\u001b[38;5;241;43m.\u001b[39;49m\u001b[43mexecute\u001b[49m\u001b[43m(\u001b[49m\n\u001b[1;32m   1048\u001b[0m \u001b[43m    \u001b[49m\u001b[43mstmt\u001b[49m\u001b[43m,\u001b[49m\u001b[43m \u001b[49m\u001b[43mparams\u001b[49m\u001b[43m,\u001b[49m\u001b[43m \u001b[49m\u001b[43mexecution_options\u001b[49m\u001b[38;5;241;43m=\u001b[39;49m\u001b[43mexecution_options\u001b[49m\n\u001b[1;32m   1049\u001b[0m \u001b[43m\u001b[49m\u001b[43m)\u001b[49m\n\u001b[1;32m   1051\u001b[0m result \u001b[38;5;241m=\u001b[39m result\u001b[38;5;241m.\u001b[39munique()\u001b[38;5;241m.\u001b[39mscalars()\u001b[38;5;241m.\u001b[39mall()\n",
      "File \u001b[0;32m~/anaconda3/lib/python3.9/site-packages/sqlalchemy/orm/session.py:1692\u001b[0m, in \u001b[0;36mSession.execute\u001b[0;34m(self, statement, params, execution_options, bind_arguments, _parent_execute_state, _add_event, **kw)\u001b[0m\n\u001b[1;32m   1691\u001b[0m     conn \u001b[38;5;241m=\u001b[39m \u001b[38;5;28mself\u001b[39m\u001b[38;5;241m.\u001b[39m_connection_for_bind(bind)\n\u001b[0;32m-> 1692\u001b[0m result \u001b[38;5;241m=\u001b[39m \u001b[43mconn\u001b[49m\u001b[38;5;241;43m.\u001b[39;49m\u001b[43m_execute_20\u001b[49m\u001b[43m(\u001b[49m\u001b[43mstatement\u001b[49m\u001b[43m,\u001b[49m\u001b[43m \u001b[49m\u001b[43mparams\u001b[49m\u001b[43m \u001b[49m\u001b[38;5;129;43;01mor\u001b[39;49;00m\u001b[43m \u001b[49m\u001b[43m{\u001b[49m\u001b[43m}\u001b[49m\u001b[43m,\u001b[49m\u001b[43m \u001b[49m\u001b[43mexecution_options\u001b[49m\u001b[43m)\u001b[49m\n\u001b[1;32m   1694\u001b[0m \u001b[38;5;28;01mif\u001b[39;00m compile_state_cls:\n",
      "File \u001b[0;32m~/anaconda3/lib/python3.9/site-packages/sqlalchemy/engine/base.py:1620\u001b[0m, in \u001b[0;36mConnection._execute_20\u001b[0;34m(self, statement, parameters, execution_options)\u001b[0m\n\u001b[1;32m   1619\u001b[0m \u001b[38;5;28;01melse\u001b[39;00m:\n\u001b[0;32m-> 1620\u001b[0m     \u001b[38;5;28;01mreturn\u001b[39;00m \u001b[43mmeth\u001b[49m\u001b[43m(\u001b[49m\u001b[38;5;28;43mself\u001b[39;49m\u001b[43m,\u001b[49m\u001b[43m \u001b[49m\u001b[43margs_10style\u001b[49m\u001b[43m,\u001b[49m\u001b[43m \u001b[49m\u001b[43mkwargs_10style\u001b[49m\u001b[43m,\u001b[49m\u001b[43m \u001b[49m\u001b[43mexecution_options\u001b[49m\u001b[43m)\u001b[49m\n",
      "File \u001b[0;32m~/anaconda3/lib/python3.9/site-packages/sqlalchemy/sql/elements.py:325\u001b[0m, in \u001b[0;36mClauseElement._execute_on_connection\u001b[0;34m(self, connection, multiparams, params, execution_options, _force)\u001b[0m\n\u001b[1;32m    324\u001b[0m \u001b[38;5;28;01mif\u001b[39;00m _force \u001b[38;5;129;01mor\u001b[39;00m \u001b[38;5;28mself\u001b[39m\u001b[38;5;241m.\u001b[39msupports_execution:\n\u001b[0;32m--> 325\u001b[0m     \u001b[38;5;28;01mreturn\u001b[39;00m \u001b[43mconnection\u001b[49m\u001b[38;5;241;43m.\u001b[39;49m\u001b[43m_execute_clauseelement\u001b[49m\u001b[43m(\u001b[49m\n\u001b[1;32m    326\u001b[0m \u001b[43m        \u001b[49m\u001b[38;5;28;43mself\u001b[39;49m\u001b[43m,\u001b[49m\u001b[43m \u001b[49m\u001b[43mmultiparams\u001b[49m\u001b[43m,\u001b[49m\u001b[43m \u001b[49m\u001b[43mparams\u001b[49m\u001b[43m,\u001b[49m\u001b[43m \u001b[49m\u001b[43mexecution_options\u001b[49m\n\u001b[1;32m    327\u001b[0m \u001b[43m    \u001b[49m\u001b[43m)\u001b[49m\n\u001b[1;32m    328\u001b[0m \u001b[38;5;28;01melse\u001b[39;00m:\n",
      "File \u001b[0;32m~/anaconda3/lib/python3.9/site-packages/sqlalchemy/engine/base.py:1487\u001b[0m, in \u001b[0;36mConnection._execute_clauseelement\u001b[0;34m(self, elem, multiparams, params, execution_options)\u001b[0m\n\u001b[1;32m   1479\u001b[0m compiled_sql, extracted_params, cache_hit \u001b[38;5;241m=\u001b[39m elem\u001b[38;5;241m.\u001b[39m_compile_w_cache(\n\u001b[1;32m   1480\u001b[0m     dialect\u001b[38;5;241m=\u001b[39mdialect,\n\u001b[1;32m   1481\u001b[0m     compiled_cache\u001b[38;5;241m=\u001b[39mcompiled_cache,\n\u001b[0;32m   (...)\u001b[0m\n\u001b[1;32m   1485\u001b[0m     linting\u001b[38;5;241m=\u001b[39m\u001b[38;5;28mself\u001b[39m\u001b[38;5;241m.\u001b[39mdialect\u001b[38;5;241m.\u001b[39mcompiler_linting \u001b[38;5;241m|\u001b[39m compiler\u001b[38;5;241m.\u001b[39mWARN_LINTING,\n\u001b[1;32m   1486\u001b[0m )\n\u001b[0;32m-> 1487\u001b[0m ret \u001b[38;5;241m=\u001b[39m \u001b[38;5;28;43mself\u001b[39;49m\u001b[38;5;241;43m.\u001b[39;49m\u001b[43m_execute_context\u001b[49m\u001b[43m(\u001b[49m\n\u001b[1;32m   1488\u001b[0m \u001b[43m    \u001b[49m\u001b[43mdialect\u001b[49m\u001b[43m,\u001b[49m\n\u001b[1;32m   1489\u001b[0m \u001b[43m    \u001b[49m\u001b[43mdialect\u001b[49m\u001b[38;5;241;43m.\u001b[39;49m\u001b[43mexecution_ctx_cls\u001b[49m\u001b[38;5;241;43m.\u001b[39;49m\u001b[43m_init_compiled\u001b[49m\u001b[43m,\u001b[49m\n\u001b[1;32m   1490\u001b[0m \u001b[43m    \u001b[49m\u001b[43mcompiled_sql\u001b[49m\u001b[43m,\u001b[49m\n\u001b[1;32m   1491\u001b[0m \u001b[43m    \u001b[49m\u001b[43mdistilled_params\u001b[49m\u001b[43m,\u001b[49m\n\u001b[1;32m   1492\u001b[0m \u001b[43m    \u001b[49m\u001b[43mexecution_options\u001b[49m\u001b[43m,\u001b[49m\n\u001b[1;32m   1493\u001b[0m \u001b[43m    \u001b[49m\u001b[43mcompiled_sql\u001b[49m\u001b[43m,\u001b[49m\n\u001b[1;32m   1494\u001b[0m \u001b[43m    \u001b[49m\u001b[43mdistilled_params\u001b[49m\u001b[43m,\u001b[49m\n\u001b[1;32m   1495\u001b[0m \u001b[43m    \u001b[49m\u001b[43melem\u001b[49m\u001b[43m,\u001b[49m\n\u001b[1;32m   1496\u001b[0m \u001b[43m    \u001b[49m\u001b[43mextracted_params\u001b[49m\u001b[43m,\u001b[49m\n\u001b[1;32m   1497\u001b[0m \u001b[43m    \u001b[49m\u001b[43mcache_hit\u001b[49m\u001b[38;5;241;43m=\u001b[39;49m\u001b[43mcache_hit\u001b[49m\u001b[43m,\u001b[49m\n\u001b[1;32m   1498\u001b[0m \u001b[43m\u001b[49m\u001b[43m)\u001b[49m\n\u001b[1;32m   1499\u001b[0m \u001b[38;5;28;01mif\u001b[39;00m has_events:\n",
      "File \u001b[0;32m~/anaconda3/lib/python3.9/site-packages/sqlalchemy/engine/base.py:1851\u001b[0m, in \u001b[0;36mConnection._execute_context\u001b[0;34m(self, dialect, constructor, statement, parameters, execution_options, *args, **kw)\u001b[0m\n\u001b[1;32m   1850\u001b[0m \u001b[38;5;28;01mexcept\u001b[39;00m \u001b[38;5;167;01mBaseException\u001b[39;00m \u001b[38;5;28;01mas\u001b[39;00m e:\n\u001b[0;32m-> 1851\u001b[0m     \u001b[38;5;28;43mself\u001b[39;49m\u001b[38;5;241;43m.\u001b[39;49m\u001b[43m_handle_dbapi_exception\u001b[49m\u001b[43m(\u001b[49m\n\u001b[1;32m   1852\u001b[0m \u001b[43m        \u001b[49m\u001b[43me\u001b[49m\u001b[43m,\u001b[49m\u001b[43m \u001b[49m\u001b[43mstatement\u001b[49m\u001b[43m,\u001b[49m\u001b[43m \u001b[49m\u001b[43mparameters\u001b[49m\u001b[43m,\u001b[49m\u001b[43m \u001b[49m\u001b[43mcursor\u001b[49m\u001b[43m,\u001b[49m\u001b[43m \u001b[49m\u001b[43mcontext\u001b[49m\n\u001b[1;32m   1853\u001b[0m \u001b[43m    \u001b[49m\u001b[43m)\u001b[49m\n\u001b[1;32m   1855\u001b[0m \u001b[38;5;28;01mreturn\u001b[39;00m result\n",
      "File \u001b[0;32m~/anaconda3/lib/python3.9/site-packages/sqlalchemy/engine/base.py:2032\u001b[0m, in \u001b[0;36mConnection._handle_dbapi_exception\u001b[0;34m(self, e, statement, parameters, cursor, context)\u001b[0m\n\u001b[1;32m   2031\u001b[0m \u001b[38;5;28;01melif\u001b[39;00m should_wrap:\n\u001b[0;32m-> 2032\u001b[0m     \u001b[43mutil\u001b[49m\u001b[38;5;241;43m.\u001b[39;49m\u001b[43mraise_\u001b[49m\u001b[43m(\u001b[49m\n\u001b[1;32m   2033\u001b[0m \u001b[43m        \u001b[49m\u001b[43msqlalchemy_exception\u001b[49m\u001b[43m,\u001b[49m\u001b[43m \u001b[49m\u001b[43mwith_traceback\u001b[49m\u001b[38;5;241;43m=\u001b[39;49m\u001b[43mexc_info\u001b[49m\u001b[43m[\u001b[49m\u001b[38;5;241;43m2\u001b[39;49m\u001b[43m]\u001b[49m\u001b[43m,\u001b[49m\u001b[43m \u001b[49m\u001b[43mfrom_\u001b[49m\u001b[38;5;241;43m=\u001b[39;49m\u001b[43me\u001b[49m\n\u001b[1;32m   2034\u001b[0m \u001b[43m    \u001b[49m\u001b[43m)\u001b[49m\n\u001b[1;32m   2035\u001b[0m \u001b[38;5;28;01melse\u001b[39;00m:\n",
      "File \u001b[0;32m~/anaconda3/lib/python3.9/site-packages/sqlalchemy/util/compat.py:207\u001b[0m, in \u001b[0;36mraise_\u001b[0;34m(***failed resolving arguments***)\u001b[0m\n\u001b[1;32m    206\u001b[0m \u001b[38;5;28;01mtry\u001b[39;00m:\n\u001b[0;32m--> 207\u001b[0m     \u001b[38;5;28;01mraise\u001b[39;00m exception\n\u001b[1;32m    208\u001b[0m \u001b[38;5;28;01mfinally\u001b[39;00m:\n\u001b[1;32m    209\u001b[0m     \u001b[38;5;66;03m# credit to\u001b[39;00m\n\u001b[1;32m    210\u001b[0m     \u001b[38;5;66;03m# https://cosmicpercolator.com/2016/01/13/exception-leaks-in-python-2-and-3/\u001b[39;00m\n\u001b[1;32m    211\u001b[0m     \u001b[38;5;66;03m# as the __traceback__ object creates a cycle\u001b[39;00m\n",
      "File \u001b[0;32m~/anaconda3/lib/python3.9/site-packages/sqlalchemy/engine/base.py:1808\u001b[0m, in \u001b[0;36mConnection._execute_context\u001b[0;34m(self, dialect, constructor, statement, parameters, execution_options, *args, **kw)\u001b[0m\n\u001b[1;32m   1807\u001b[0m     \u001b[38;5;28;01mif\u001b[39;00m \u001b[38;5;129;01mnot\u001b[39;00m evt_handled:\n\u001b[0;32m-> 1808\u001b[0m         \u001b[38;5;28;43mself\u001b[39;49m\u001b[38;5;241;43m.\u001b[39;49m\u001b[43mdialect\u001b[49m\u001b[38;5;241;43m.\u001b[39;49m\u001b[43mdo_execute\u001b[49m\u001b[43m(\u001b[49m\n\u001b[1;32m   1809\u001b[0m \u001b[43m            \u001b[49m\u001b[43mcursor\u001b[49m\u001b[43m,\u001b[49m\u001b[43m \u001b[49m\u001b[43mstatement\u001b[49m\u001b[43m,\u001b[49m\u001b[43m \u001b[49m\u001b[43mparameters\u001b[49m\u001b[43m,\u001b[49m\u001b[43m \u001b[49m\u001b[43mcontext\u001b[49m\n\u001b[1;32m   1810\u001b[0m \u001b[43m        \u001b[49m\u001b[43m)\u001b[49m\n\u001b[1;32m   1812\u001b[0m \u001b[38;5;28;01mif\u001b[39;00m \u001b[38;5;28mself\u001b[39m\u001b[38;5;241m.\u001b[39m_has_events \u001b[38;5;129;01mor\u001b[39;00m \u001b[38;5;28mself\u001b[39m\u001b[38;5;241m.\u001b[39mengine\u001b[38;5;241m.\u001b[39m_has_events:\n",
      "File \u001b[0;32m~/anaconda3/lib/python3.9/site-packages/sqlalchemy/engine/default.py:732\u001b[0m, in \u001b[0;36mDefaultDialect.do_execute\u001b[0;34m(self, cursor, statement, parameters, context)\u001b[0m\n\u001b[1;32m    731\u001b[0m \u001b[38;5;28;01mdef\u001b[39;00m \u001b[38;5;21mdo_execute\u001b[39m(\u001b[38;5;28mself\u001b[39m, cursor, statement, parameters, context\u001b[38;5;241m=\u001b[39m\u001b[38;5;28;01mNone\u001b[39;00m):\n\u001b[0;32m--> 732\u001b[0m     \u001b[43mcursor\u001b[49m\u001b[38;5;241;43m.\u001b[39;49m\u001b[43mexecute\u001b[49m\u001b[43m(\u001b[49m\u001b[43mstatement\u001b[49m\u001b[43m,\u001b[49m\u001b[43m \u001b[49m\u001b[43mparameters\u001b[49m\u001b[43m)\u001b[49m\n",
      "\u001b[0;31mOperationalError\u001b[0m: (sqlite3.OperationalError) unable to open database file\n[SQL: SELECT trial_user_attributes.trial_user_attribute_id AS trial_user_attributes_trial_user_attribute_id, trial_user_attributes.trial_id AS trial_user_attributes_trial_id, trial_user_attributes.\"key\" AS trial_user_attributes_key, trial_user_attributes.value_json AS trial_user_attributes_value_json \nFROM trial_user_attributes \nWHERE ? = trial_user_attributes.trial_id]\n[parameters: (251,)]\n(Background on this error at: https://sqlalche.me/e/14/e3q8)",
      "\nThe above exception was the direct cause of the following exception:\n",
      "\u001b[0;31mStorageInternalError\u001b[0m                      Traceback (most recent call last)",
      "Input \u001b[0;32mIn [5]\u001b[0m, in \u001b[0;36m<cell line: 1>\u001b[0;34m()\u001b[0m\n\u001b[0;32m----> 1\u001b[0m \u001b[43mstudy\u001b[49m\u001b[38;5;241;43m.\u001b[39;49m\u001b[43moptimize\u001b[49m\u001b[43m(\u001b[49m\n\u001b[1;32m      2\u001b[0m \u001b[43m    \u001b[49m\u001b[43mpartial\u001b[49m\u001b[43m(\u001b[49m\u001b[43mobjective\u001b[49m\u001b[43m,\u001b[49m\u001b[43m \u001b[49m\u001b[43min_dir\u001b[49m\u001b[38;5;241;43m=\u001b[39;49m\u001b[43min_dir\u001b[49m\u001b[43m,\u001b[49m\u001b[43m \u001b[49m\u001b[43mwork_dir\u001b[49m\u001b[38;5;241;43m=\u001b[39;49m\u001b[43mwork_dir\u001b[49m\u001b[43m)\u001b[49m\u001b[43m,\u001b[49m\n\u001b[1;32m      3\u001b[0m \u001b[43m    \u001b[49m\u001b[43mn_trials\u001b[49m\u001b[38;5;241;43m=\u001b[39;49m\u001b[38;5;241;43m3000\u001b[39;49m\u001b[43m,\u001b[49m\n\u001b[1;32m      4\u001b[0m \u001b[43m    \u001b[49m\u001b[43mtimeout\u001b[49m\u001b[38;5;241;43m=\u001b[39;49m\u001b[38;5;241;43m86400\u001b[39;49m\u001b[43m,\u001b[49m\n\u001b[1;32m      5\u001b[0m \u001b[43m    \u001b[49m\u001b[43mcallbacks\u001b[49m\u001b[38;5;241;43m=\u001b[39;49m\u001b[43m[\u001b[49m\u001b[43mcallback\u001b[49m\u001b[43m]\u001b[49m\n\u001b[1;32m      6\u001b[0m \u001b[43m)\u001b[49m\n",
      "File \u001b[0;32m~/anaconda3/lib/python3.9/site-packages/optuna/study/study.py:400\u001b[0m, in \u001b[0;36mStudy.optimize\u001b[0;34m(self, func, n_trials, timeout, n_jobs, catch, callbacks, gc_after_trial, show_progress_bar)\u001b[0m\n\u001b[1;32m    392\u001b[0m \u001b[38;5;28;01mif\u001b[39;00m n_jobs \u001b[38;5;241m!=\u001b[39m \u001b[38;5;241m1\u001b[39m:\n\u001b[1;32m    393\u001b[0m     warnings\u001b[38;5;241m.\u001b[39mwarn(\n\u001b[1;32m    394\u001b[0m         \u001b[38;5;124m\"\u001b[39m\u001b[38;5;124m`n_jobs` argument has been deprecated in v2.7.0. \u001b[39m\u001b[38;5;124m\"\u001b[39m\n\u001b[1;32m    395\u001b[0m         \u001b[38;5;124m\"\u001b[39m\u001b[38;5;124mThis feature will be removed in v4.0.0. \u001b[39m\u001b[38;5;124m\"\u001b[39m\n\u001b[1;32m    396\u001b[0m         \u001b[38;5;124m\"\u001b[39m\u001b[38;5;124mSee https://github.com/optuna/optuna/releases/tag/v2.7.0.\u001b[39m\u001b[38;5;124m\"\u001b[39m,\n\u001b[1;32m    397\u001b[0m         \u001b[38;5;167;01mFutureWarning\u001b[39;00m,\n\u001b[1;32m    398\u001b[0m     )\n\u001b[0;32m--> 400\u001b[0m \u001b[43m_optimize\u001b[49m\u001b[43m(\u001b[49m\n\u001b[1;32m    401\u001b[0m \u001b[43m    \u001b[49m\u001b[43mstudy\u001b[49m\u001b[38;5;241;43m=\u001b[39;49m\u001b[38;5;28;43mself\u001b[39;49m\u001b[43m,\u001b[49m\n\u001b[1;32m    402\u001b[0m \u001b[43m    \u001b[49m\u001b[43mfunc\u001b[49m\u001b[38;5;241;43m=\u001b[39;49m\u001b[43mfunc\u001b[49m\u001b[43m,\u001b[49m\n\u001b[1;32m    403\u001b[0m \u001b[43m    \u001b[49m\u001b[43mn_trials\u001b[49m\u001b[38;5;241;43m=\u001b[39;49m\u001b[43mn_trials\u001b[49m\u001b[43m,\u001b[49m\n\u001b[1;32m    404\u001b[0m \u001b[43m    \u001b[49m\u001b[43mtimeout\u001b[49m\u001b[38;5;241;43m=\u001b[39;49m\u001b[43mtimeout\u001b[49m\u001b[43m,\u001b[49m\n\u001b[1;32m    405\u001b[0m \u001b[43m    \u001b[49m\u001b[43mn_jobs\u001b[49m\u001b[38;5;241;43m=\u001b[39;49m\u001b[43mn_jobs\u001b[49m\u001b[43m,\u001b[49m\n\u001b[1;32m    406\u001b[0m \u001b[43m    \u001b[49m\u001b[43mcatch\u001b[49m\u001b[38;5;241;43m=\u001b[39;49m\u001b[43mcatch\u001b[49m\u001b[43m,\u001b[49m\n\u001b[1;32m    407\u001b[0m \u001b[43m    \u001b[49m\u001b[43mcallbacks\u001b[49m\u001b[38;5;241;43m=\u001b[39;49m\u001b[43mcallbacks\u001b[49m\u001b[43m,\u001b[49m\n\u001b[1;32m    408\u001b[0m \u001b[43m    \u001b[49m\u001b[43mgc_after_trial\u001b[49m\u001b[38;5;241;43m=\u001b[39;49m\u001b[43mgc_after_trial\u001b[49m\u001b[43m,\u001b[49m\n\u001b[1;32m    409\u001b[0m \u001b[43m    \u001b[49m\u001b[43mshow_progress_bar\u001b[49m\u001b[38;5;241;43m=\u001b[39;49m\u001b[43mshow_progress_bar\u001b[49m\u001b[43m,\u001b[49m\n\u001b[1;32m    410\u001b[0m \u001b[43m\u001b[49m\u001b[43m)\u001b[49m\n",
      "File \u001b[0;32m~/anaconda3/lib/python3.9/site-packages/optuna/study/_optimize.py:66\u001b[0m, in \u001b[0;36m_optimize\u001b[0;34m(study, func, n_trials, timeout, n_jobs, catch, callbacks, gc_after_trial, show_progress_bar)\u001b[0m\n\u001b[1;32m     64\u001b[0m \u001b[38;5;28;01mtry\u001b[39;00m:\n\u001b[1;32m     65\u001b[0m     \u001b[38;5;28;01mif\u001b[39;00m n_jobs \u001b[38;5;241m==\u001b[39m \u001b[38;5;241m1\u001b[39m:\n\u001b[0;32m---> 66\u001b[0m         \u001b[43m_optimize_sequential\u001b[49m\u001b[43m(\u001b[49m\n\u001b[1;32m     67\u001b[0m \u001b[43m            \u001b[49m\u001b[43mstudy\u001b[49m\u001b[43m,\u001b[49m\n\u001b[1;32m     68\u001b[0m \u001b[43m            \u001b[49m\u001b[43mfunc\u001b[49m\u001b[43m,\u001b[49m\n\u001b[1;32m     69\u001b[0m \u001b[43m            \u001b[49m\u001b[43mn_trials\u001b[49m\u001b[43m,\u001b[49m\n\u001b[1;32m     70\u001b[0m \u001b[43m            \u001b[49m\u001b[43mtimeout\u001b[49m\u001b[43m,\u001b[49m\n\u001b[1;32m     71\u001b[0m \u001b[43m            \u001b[49m\u001b[43mcatch\u001b[49m\u001b[43m,\u001b[49m\n\u001b[1;32m     72\u001b[0m \u001b[43m            \u001b[49m\u001b[43mcallbacks\u001b[49m\u001b[43m,\u001b[49m\n\u001b[1;32m     73\u001b[0m \u001b[43m            \u001b[49m\u001b[43mgc_after_trial\u001b[49m\u001b[43m,\u001b[49m\n\u001b[1;32m     74\u001b[0m \u001b[43m            \u001b[49m\u001b[43mreseed_sampler_rng\u001b[49m\u001b[38;5;241;43m=\u001b[39;49m\u001b[38;5;28;43;01mFalse\u001b[39;49;00m\u001b[43m,\u001b[49m\n\u001b[1;32m     75\u001b[0m \u001b[43m            \u001b[49m\u001b[43mtime_start\u001b[49m\u001b[38;5;241;43m=\u001b[39;49m\u001b[38;5;28;43;01mNone\u001b[39;49;00m\u001b[43m,\u001b[49m\n\u001b[1;32m     76\u001b[0m \u001b[43m            \u001b[49m\u001b[43mprogress_bar\u001b[49m\u001b[38;5;241;43m=\u001b[39;49m\u001b[43mprogress_bar\u001b[49m\u001b[43m,\u001b[49m\n\u001b[1;32m     77\u001b[0m \u001b[43m        \u001b[49m\u001b[43m)\u001b[49m\n\u001b[1;32m     78\u001b[0m     \u001b[38;5;28;01melse\u001b[39;00m:\n\u001b[1;32m     79\u001b[0m         \u001b[38;5;28;01mif\u001b[39;00m show_progress_bar:\n",
      "File \u001b[0;32m~/anaconda3/lib/python3.9/site-packages/optuna/study/_optimize.py:163\u001b[0m, in \u001b[0;36m_optimize_sequential\u001b[0;34m(study, func, n_trials, timeout, catch, callbacks, gc_after_trial, reseed_sampler_rng, time_start, progress_bar)\u001b[0m\n\u001b[1;32m    160\u001b[0m         \u001b[38;5;28;01mbreak\u001b[39;00m\n\u001b[1;32m    162\u001b[0m \u001b[38;5;28;01mtry\u001b[39;00m:\n\u001b[0;32m--> 163\u001b[0m     trial \u001b[38;5;241m=\u001b[39m \u001b[43m_run_trial\u001b[49m\u001b[43m(\u001b[49m\u001b[43mstudy\u001b[49m\u001b[43m,\u001b[49m\u001b[43m \u001b[49m\u001b[43mfunc\u001b[49m\u001b[43m,\u001b[49m\u001b[43m \u001b[49m\u001b[43mcatch\u001b[49m\u001b[43m)\u001b[49m\n\u001b[1;32m    164\u001b[0m \u001b[38;5;28;01mexcept\u001b[39;00m \u001b[38;5;167;01mException\u001b[39;00m:\n\u001b[1;32m    165\u001b[0m     \u001b[38;5;28;01mraise\u001b[39;00m\n",
      "File \u001b[0;32m~/anaconda3/lib/python3.9/site-packages/optuna/study/_optimize.py:245\u001b[0m, in \u001b[0;36m_run_trial\u001b[0;34m(study, func, catch)\u001b[0m\n\u001b[1;32m    243\u001b[0m \u001b[38;5;28;01mfinally\u001b[39;00m:\n\u001b[1;32m    244\u001b[0m     \u001b[38;5;28;01mif\u001b[39;00m state \u001b[38;5;241m==\u001b[39m TrialState\u001b[38;5;241m.\u001b[39mCOMPLETE:\n\u001b[0;32m--> 245\u001b[0m         \u001b[43mstudy\u001b[49m\u001b[38;5;241;43m.\u001b[39;49m\u001b[43m_log_completed_trial\u001b[49m\u001b[43m(\u001b[49m\u001b[43mtrial\u001b[49m\u001b[43m,\u001b[49m\u001b[43m \u001b[49m\u001b[43mcast\u001b[49m\u001b[43m(\u001b[49m\u001b[43mList\u001b[49m\u001b[43m[\u001b[49m\u001b[38;5;28;43mfloat\u001b[39;49m\u001b[43m]\u001b[49m\u001b[43m,\u001b[49m\u001b[43m \u001b[49m\u001b[43mvalues\u001b[49m\u001b[43m)\u001b[49m\u001b[43m)\u001b[49m\n\u001b[1;32m    246\u001b[0m     \u001b[38;5;28;01melif\u001b[39;00m state \u001b[38;5;241m==\u001b[39m TrialState\u001b[38;5;241m.\u001b[39mPRUNED:\n\u001b[1;32m    247\u001b[0m         _logger\u001b[38;5;241m.\u001b[39minfo(\u001b[38;5;124m\"\u001b[39m\u001b[38;5;124mTrial \u001b[39m\u001b[38;5;132;01m{}\u001b[39;00m\u001b[38;5;124m pruned. \u001b[39m\u001b[38;5;132;01m{}\u001b[39;00m\u001b[38;5;124m\"\u001b[39m\u001b[38;5;241m.\u001b[39mformat(trial\u001b[38;5;241m.\u001b[39mnumber, \u001b[38;5;28mstr\u001b[39m(func_err)))\n",
      "File \u001b[0;32m~/anaconda3/lib/python3.9/site-packages/optuna/study/study.py:1015\u001b[0m, in \u001b[0;36mStudy._log_completed_trial\u001b[0;34m(self, trial, values)\u001b[0m\n\u001b[1;32m   1002\u001b[0m     _logger\u001b[38;5;241m.\u001b[39minfo(\n\u001b[1;32m   1003\u001b[0m         \u001b[38;5;124m\"\u001b[39m\u001b[38;5;124mTrial \u001b[39m\u001b[38;5;132;01m{}\u001b[39;00m\u001b[38;5;124m finished with values: \u001b[39m\u001b[38;5;132;01m{}\u001b[39;00m\u001b[38;5;124m and parameters: \u001b[39m\u001b[38;5;132;01m{}\u001b[39;00m\u001b[38;5;124m. \u001b[39m\u001b[38;5;124m\"\u001b[39m\u001b[38;5;241m.\u001b[39mformat(\n\u001b[1;32m   1004\u001b[0m             trial\u001b[38;5;241m.\u001b[39mnumber, values, trial\u001b[38;5;241m.\u001b[39mparams\n\u001b[1;32m   1005\u001b[0m         )\n\u001b[1;32m   1006\u001b[0m     )\n\u001b[1;32m   1007\u001b[0m \u001b[38;5;28;01melif\u001b[39;00m \u001b[38;5;28mlen\u001b[39m(values) \u001b[38;5;241m==\u001b[39m \u001b[38;5;241m1\u001b[39m:\n\u001b[1;32m   1008\u001b[0m     _logger\u001b[38;5;241m.\u001b[39minfo(\n\u001b[1;32m   1009\u001b[0m         \u001b[38;5;124m\"\u001b[39m\u001b[38;5;124mTrial \u001b[39m\u001b[38;5;132;01m{}\u001b[39;00m\u001b[38;5;124m finished with value: \u001b[39m\u001b[38;5;132;01m{}\u001b[39;00m\u001b[38;5;124m and parameters: \u001b[39m\u001b[38;5;132;01m{}\u001b[39;00m\u001b[38;5;124m. \u001b[39m\u001b[38;5;124m\"\u001b[39m\n\u001b[1;32m   1010\u001b[0m         \u001b[38;5;124m\"\u001b[39m\u001b[38;5;124mBest is trial \u001b[39m\u001b[38;5;132;01m{}\u001b[39;00m\u001b[38;5;124m with value: \u001b[39m\u001b[38;5;132;01m{}\u001b[39;00m\u001b[38;5;124m.\u001b[39m\u001b[38;5;124m\"\u001b[39m\u001b[38;5;241m.\u001b[39mformat(\n\u001b[1;32m   1011\u001b[0m             trial\u001b[38;5;241m.\u001b[39mnumber,\n\u001b[1;32m   1012\u001b[0m             values[\u001b[38;5;241m0\u001b[39m],\n\u001b[1;32m   1013\u001b[0m             trial\u001b[38;5;241m.\u001b[39mparams,\n\u001b[1;32m   1014\u001b[0m             \u001b[38;5;28mself\u001b[39m\u001b[38;5;241m.\u001b[39mbest_trial\u001b[38;5;241m.\u001b[39mnumber,\n\u001b[0;32m-> 1015\u001b[0m             \u001b[38;5;28;43mself\u001b[39;49m\u001b[38;5;241;43m.\u001b[39;49m\u001b[43mbest_value\u001b[49m,\n\u001b[1;32m   1016\u001b[0m         )\n\u001b[1;32m   1017\u001b[0m     )\n\u001b[1;32m   1018\u001b[0m \u001b[38;5;28;01melse\u001b[39;00m:\n\u001b[1;32m   1019\u001b[0m     \u001b[38;5;28;01massert\u001b[39;00m \u001b[38;5;28;01mFalse\u001b[39;00m, \u001b[38;5;124m\"\u001b[39m\u001b[38;5;124mShould not reach.\u001b[39m\u001b[38;5;124m\"\u001b[39m\n",
      "File \u001b[0;32m~/anaconda3/lib/python3.9/site-packages/optuna/study/study.py:74\u001b[0m, in \u001b[0;36mBaseStudy.best_value\u001b[0;34m(self)\u001b[0m\n\u001b[1;32m     62\u001b[0m \u001b[38;5;129m@property\u001b[39m\n\u001b[1;32m     63\u001b[0m \u001b[38;5;28;01mdef\u001b[39;00m \u001b[38;5;21mbest_value\u001b[39m(\u001b[38;5;28mself\u001b[39m) \u001b[38;5;241m-\u001b[39m\u001b[38;5;241m>\u001b[39m \u001b[38;5;28mfloat\u001b[39m:\n\u001b[1;32m     64\u001b[0m     \u001b[38;5;124;03m\"\"\"Return the best objective value in the study.\u001b[39;00m\n\u001b[1;32m     65\u001b[0m \n\u001b[1;32m     66\u001b[0m \u001b[38;5;124;03m    Returns:\u001b[39;00m\n\u001b[0;32m   (...)\u001b[0m\n\u001b[1;32m     71\u001b[0m \u001b[38;5;124;03m            If the study has more than one direction.\u001b[39;00m\n\u001b[1;32m     72\u001b[0m \u001b[38;5;124;03m    \"\"\"\u001b[39;00m\n\u001b[0;32m---> 74\u001b[0m     best_value \u001b[38;5;241m=\u001b[39m \u001b[38;5;28;43mself\u001b[39;49m\u001b[38;5;241;43m.\u001b[39;49m\u001b[43mbest_trial\u001b[49m\u001b[38;5;241m.\u001b[39mvalue\n\u001b[1;32m     75\u001b[0m     \u001b[38;5;28;01massert\u001b[39;00m best_value \u001b[38;5;129;01mis\u001b[39;00m \u001b[38;5;129;01mnot\u001b[39;00m \u001b[38;5;28;01mNone\u001b[39;00m\n\u001b[1;32m     77\u001b[0m     \u001b[38;5;28;01mreturn\u001b[39;00m best_value\n",
      "File \u001b[0;32m~/anaconda3/lib/python3.9/site-packages/optuna/study/study.py:97\u001b[0m, in \u001b[0;36mBaseStudy.best_trial\u001b[0;34m(self)\u001b[0m\n\u001b[1;32m     91\u001b[0m \u001b[38;5;28;01mif\u001b[39;00m \u001b[38;5;28mself\u001b[39m\u001b[38;5;241m.\u001b[39m_is_multi_objective():\n\u001b[1;32m     92\u001b[0m     \u001b[38;5;28;01mraise\u001b[39;00m \u001b[38;5;167;01mRuntimeError\u001b[39;00m(\n\u001b[1;32m     93\u001b[0m         \u001b[38;5;124m\"\u001b[39m\u001b[38;5;124mA single best trial cannot be retrieved from a multi-objective study. Consider \u001b[39m\u001b[38;5;124m\"\u001b[39m\n\u001b[1;32m     94\u001b[0m         \u001b[38;5;124m\"\u001b[39m\u001b[38;5;124musing Study.best_trials to retrieve a list containing the best trials.\u001b[39m\u001b[38;5;124m\"\u001b[39m\n\u001b[1;32m     95\u001b[0m     )\n\u001b[0;32m---> 97\u001b[0m \u001b[38;5;28;01mreturn\u001b[39;00m copy\u001b[38;5;241m.\u001b[39mdeepcopy(\u001b[38;5;28;43mself\u001b[39;49m\u001b[38;5;241;43m.\u001b[39;49m\u001b[43m_storage\u001b[49m\u001b[38;5;241;43m.\u001b[39;49m\u001b[43mget_best_trial\u001b[49m\u001b[43m(\u001b[49m\u001b[38;5;28;43mself\u001b[39;49m\u001b[38;5;241;43m.\u001b[39;49m\u001b[43m_study_id\u001b[49m\u001b[43m)\u001b[49m)\n",
      "File \u001b[0;32m~/anaconda3/lib/python3.9/site-packages/optuna/storages/_cached_storage.py:285\u001b[0m, in \u001b[0;36m_CachedStorage.get_best_trial\u001b[0;34m(self, study_id)\u001b[0m\n\u001b[1;32m    283\u001b[0m \u001b[38;5;28;01mdef\u001b[39;00m \u001b[38;5;21mget_best_trial\u001b[39m(\u001b[38;5;28mself\u001b[39m, study_id: \u001b[38;5;28mint\u001b[39m) \u001b[38;5;241m-\u001b[39m\u001b[38;5;241m>\u001b[39m FrozenTrial:\n\u001b[0;32m--> 285\u001b[0m     \u001b[38;5;28;01mreturn\u001b[39;00m \u001b[38;5;28;43mself\u001b[39;49m\u001b[38;5;241;43m.\u001b[39;49m\u001b[43m_backend\u001b[49m\u001b[38;5;241;43m.\u001b[39;49m\u001b[43mget_best_trial\u001b[49m\u001b[43m(\u001b[49m\u001b[43mstudy_id\u001b[49m\u001b[43m)\u001b[49m\n",
      "File \u001b[0;32m~/anaconda3/lib/python3.9/site-packages/optuna/storages/_rdb/storage.py:1126\u001b[0m, in \u001b[0;36mRDBStorage.get_best_trial\u001b[0;34m(self, study_id)\u001b[0m\n\u001b[1;32m   1123\u001b[0m         trial \u001b[38;5;241m=\u001b[39m models\u001b[38;5;241m.\u001b[39mTrialModel\u001b[38;5;241m.\u001b[39mfind_min_value_trial(study_id, \u001b[38;5;241m0\u001b[39m, session)\n\u001b[1;32m   1124\u001b[0m     trial_id \u001b[38;5;241m=\u001b[39m trial\u001b[38;5;241m.\u001b[39mtrial_id\n\u001b[0;32m-> 1126\u001b[0m \u001b[38;5;28;01mreturn\u001b[39;00m \u001b[38;5;28;43mself\u001b[39;49m\u001b[38;5;241;43m.\u001b[39;49m\u001b[43mget_trial\u001b[49m\u001b[43m(\u001b[49m\u001b[43mtrial_id\u001b[49m\u001b[43m)\u001b[49m\n",
      "File \u001b[0;32m~/anaconda3/lib/python3.9/site-packages/optuna/storages/_rdb/storage.py:994\u001b[0m, in \u001b[0;36mRDBStorage.get_trial\u001b[0;34m(self, trial_id)\u001b[0m\n\u001b[1;32m    992\u001b[0m \u001b[38;5;28;01mwith\u001b[39;00m _create_scoped_session(\u001b[38;5;28mself\u001b[39m\u001b[38;5;241m.\u001b[39mscoped_session) \u001b[38;5;28;01mas\u001b[39;00m session:\n\u001b[1;32m    993\u001b[0m     trial_model \u001b[38;5;241m=\u001b[39m models\u001b[38;5;241m.\u001b[39mTrialModel\u001b[38;5;241m.\u001b[39mfind_or_raise_by_id(trial_id, session)\n\u001b[0;32m--> 994\u001b[0m     frozen_trial \u001b[38;5;241m=\u001b[39m \u001b[38;5;28mself\u001b[39m\u001b[38;5;241m.\u001b[39m_build_frozen_trial_from_trial_model(trial_model)\n\u001b[1;32m    996\u001b[0m \u001b[38;5;28;01mreturn\u001b[39;00m frozen_trial\n",
      "File \u001b[0;32m~/anaconda3/lib/python3.9/contextlib.py:137\u001b[0m, in \u001b[0;36m_GeneratorContextManager.__exit__\u001b[0;34m(self, typ, value, traceback)\u001b[0m\n\u001b[1;32m    135\u001b[0m     value \u001b[38;5;241m=\u001b[39m typ()\n\u001b[1;32m    136\u001b[0m \u001b[38;5;28;01mtry\u001b[39;00m:\n\u001b[0;32m--> 137\u001b[0m     \u001b[38;5;28;43mself\u001b[39;49m\u001b[38;5;241;43m.\u001b[39;49m\u001b[43mgen\u001b[49m\u001b[38;5;241;43m.\u001b[39;49m\u001b[43mthrow\u001b[49m\u001b[43m(\u001b[49m\u001b[43mtyp\u001b[49m\u001b[43m,\u001b[49m\u001b[43m \u001b[49m\u001b[43mvalue\u001b[49m\u001b[43m,\u001b[49m\u001b[43m \u001b[49m\u001b[43mtraceback\u001b[49m\u001b[43m)\u001b[49m\n\u001b[1;32m    138\u001b[0m \u001b[38;5;28;01mexcept\u001b[39;00m \u001b[38;5;167;01mStopIteration\u001b[39;00m \u001b[38;5;28;01mas\u001b[39;00m exc:\n\u001b[1;32m    139\u001b[0m     \u001b[38;5;66;03m# Suppress StopIteration *unless* it's the same exception that\u001b[39;00m\n\u001b[1;32m    140\u001b[0m     \u001b[38;5;66;03m# was passed to throw().  This prevents a StopIteration\u001b[39;00m\n\u001b[1;32m    141\u001b[0m     \u001b[38;5;66;03m# raised inside the \"with\" statement from being suppressed.\u001b[39;00m\n\u001b[1;32m    142\u001b[0m     \u001b[38;5;28;01mreturn\u001b[39;00m exc \u001b[38;5;129;01mis\u001b[39;00m \u001b[38;5;129;01mnot\u001b[39;00m value\n",
      "File \u001b[0;32m~/anaconda3/lib/python3.9/site-packages/optuna/storages/_rdb/storage.py:71\u001b[0m, in \u001b[0;36m_create_scoped_session\u001b[0;34m(scoped_session, ignore_integrity_error)\u001b[0m\n\u001b[1;32m     65\u001b[0m     session\u001b[38;5;241m.\u001b[39mrollback()\n\u001b[1;32m     66\u001b[0m     message \u001b[38;5;241m=\u001b[39m (\n\u001b[1;32m     67\u001b[0m         \u001b[38;5;124m\"\u001b[39m\u001b[38;5;124mAn exception is raised during the commit. \u001b[39m\u001b[38;5;124m\"\u001b[39m\n\u001b[1;32m     68\u001b[0m         \u001b[38;5;124m\"\u001b[39m\u001b[38;5;124mThis typically happens due to invalid data in the commit, \u001b[39m\u001b[38;5;124m\"\u001b[39m\n\u001b[1;32m     69\u001b[0m         \u001b[38;5;124m\"\u001b[39m\u001b[38;5;124me.g. exceeding max length. \u001b[39m\u001b[38;5;124m\"\u001b[39m\n\u001b[1;32m     70\u001b[0m     )\n\u001b[0;32m---> 71\u001b[0m     \u001b[38;5;28;01mraise\u001b[39;00m optuna\u001b[38;5;241m.\u001b[39mexceptions\u001b[38;5;241m.\u001b[39mStorageInternalError(message) \u001b[38;5;28;01mfrom\u001b[39;00m \u001b[38;5;21;01me\u001b[39;00m\n\u001b[1;32m     72\u001b[0m \u001b[38;5;28;01mexcept\u001b[39;00m \u001b[38;5;167;01mException\u001b[39;00m:\n\u001b[1;32m     73\u001b[0m     session\u001b[38;5;241m.\u001b[39mrollback()\n",
      "\u001b[0;31mStorageInternalError\u001b[0m: An exception is raised during the commit. This typically happens due to invalid data in the commit, e.g. exceeding max length. "
     ]
    }
   ],
   "source": [
    "study.optimize(\n",
    "    partial(objective, in_dir=in_dir, work_dir=work_dir),\n",
    "    n_trials=3000,\n",
    "    timeout=86400,\n",
    "    callbacks=[callback]\n",
    ")"
   ]
  },
  {
   "cell_type": "code",
   "execution_count": null,
   "id": "700269d2",
   "metadata": {},
   "outputs": [],
   "source": []
  }
 ],
 "metadata": {
  "kernelspec": {
   "display_name": "Python 3 (ipykernel)",
   "language": "python",
   "name": "python3"
  },
  "language_info": {
   "codemirror_mode": {
    "name": "ipython",
    "version": 3
   },
   "file_extension": ".py",
   "mimetype": "text/x-python",
   "name": "python",
   "nbconvert_exporter": "python",
   "pygments_lexer": "ipython3",
   "version": "3.9.12"
  }
 },
 "nbformat": 4,
 "nbformat_minor": 5
}
