{
 "cells": [
  {
   "cell_type": "code",
   "execution_count": 1,
   "id": "25a1dac8",
   "metadata": {},
   "outputs": [],
   "source": [
    "import re\n",
    "import sys\n",
    "from uuid import uuid1\n",
    "from time import sleep\n",
    "from pprint import pprint\n",
    "from pathlib import Path\n",
    "from tempfile import gettempdir\n",
    "from threading import Thread\n",
    "from functools import partial\n",
    "from subprocess import Popen, PIPE\n",
    "\n",
    "from tqdm.notebook import tqdm\n",
    "import numpy as np\n",
    "import optuna\n",
    "import pandas as pd\n",
    "import matplotlib.pyplot as plt\n",
    "\n",
    "FILENAME = \"main.cpp\""
   ]
  },
  {
   "cell_type": "code",
   "execution_count": 2,
   "id": "3dd4d02e",
   "metadata": {},
   "outputs": [
    {
     "name": "stdout",
     "output_type": "stream",
     "text": [
      "10 variables were found.\n"
     ]
    },
    {
     "data": {
      "text/html": [
       "<div>\n",
       "<style scoped>\n",
       "    .dataframe tbody tr th:only-of-type {\n",
       "        vertical-align: middle;\n",
       "    }\n",
       "\n",
       "    .dataframe tbody tr th {\n",
       "        vertical-align: top;\n",
       "    }\n",
       "\n",
       "    .dataframe thead th {\n",
       "        text-align: right;\n",
       "    }\n",
       "</style>\n",
       "<table border=\"1\" class=\"dataframe\">\n",
       "  <thead>\n",
       "    <tr style=\"text-align: right;\">\n",
       "      <th></th>\n",
       "      <th>name</th>\n",
       "      <th>method</th>\n",
       "      <th>min</th>\n",
       "      <th>max</th>\n",
       "      <th>log</th>\n",
       "      <th>left</th>\n",
       "      <th>right</th>\n",
       "    </tr>\n",
       "  </thead>\n",
       "  <tbody>\n",
       "    <tr>\n",
       "      <th>0</th>\n",
       "      <td>kErase</td>\n",
       "      <td>suggest_int</td>\n",
       "      <td>1.000</td>\n",
       "      <td>5.0</td>\n",
       "      <td>False</td>\n",
       "      <td>static constexpr auto kErase =</td>\n",
       "      <td>;             // OPTIMIZE [1, 5]</td>\n",
       "    </tr>\n",
       "    <tr>\n",
       "      <th>1</th>\n",
       "      <td>kRadius</td>\n",
       "      <td>suggest_int</td>\n",
       "      <td>2.000</td>\n",
       "      <td>6.0</td>\n",
       "      <td>False</td>\n",
       "      <td>static constexpr auto kRadius =</td>\n",
       "      <td>;            // OPTIMIZE [2, 6]</td>\n",
       "    </tr>\n",
       "    <tr>\n",
       "      <th>2</th>\n",
       "      <td>kAnnealingA</td>\n",
       "      <td>suggest_float</td>\n",
       "      <td>-15.000</td>\n",
       "      <td>15.0</td>\n",
       "      <td>False</td>\n",
       "      <td>static constexpr auto kAnnealingA =</td>\n",
       "      <td>;      // OPTIMIZE [-15.0, 15.0]</td>\n",
       "    </tr>\n",
       "    <tr>\n",
       "      <th>3</th>\n",
       "      <td>kAnnealingB</td>\n",
       "      <td>suggest_float</td>\n",
       "      <td>0.000</td>\n",
       "      <td>3.0</td>\n",
       "      <td>False</td>\n",
       "      <td>static constexpr auto kAnnealingB =</td>\n",
       "      <td>;      // OPTIMIZE [0.0, 3.0]</td>\n",
       "    </tr>\n",
       "    <tr>\n",
       "      <th>4</th>\n",
       "      <td>kAnnealingStart</td>\n",
       "      <td>suggest_float</td>\n",
       "      <td>1.000</td>\n",
       "      <td>100.0</td>\n",
       "      <td>True</td>\n",
       "      <td>static constexpr auto kAnnealingStart =</td>\n",
       "      <td>; // OPTIMIZE LOG [1.0, 100.0]</td>\n",
       "    </tr>\n",
       "    <tr>\n",
       "      <th>5</th>\n",
       "      <td>kSkipRatio</td>\n",
       "      <td>suggest_float</td>\n",
       "      <td>0.200</td>\n",
       "      <td>0.8</td>\n",
       "      <td>False</td>\n",
       "      <td>static constexpr auto kSkipRatio =</td>\n",
       "      <td>;       // OPTIMIZE [0.2, 0.8]</td>\n",
       "    </tr>\n",
       "    <tr>\n",
       "      <th>6</th>\n",
       "      <td>kTargetDeterminationTrials</td>\n",
       "      <td>suggest_int</td>\n",
       "      <td>1.000</td>\n",
       "      <td>20.0</td>\n",
       "      <td>True</td>\n",
       "      <td>static constexpr auto kTargetDeterminationTria...</td>\n",
       "      <td>; // OPTIMIZE LOG [1, 20]</td>\n",
       "    </tr>\n",
       "    <tr>\n",
       "      <th>7</th>\n",
       "      <td>kAttractionRatio</td>\n",
       "      <td>suggest_float</td>\n",
       "      <td>0.010</td>\n",
       "      <td>0.9</td>\n",
       "      <td>True</td>\n",
       "      <td>static constexpr auto kAttractionRatio =</td>\n",
       "      <td>;      // OPTIMIZE LOG [0.01, 0.9]</td>\n",
       "    </tr>\n",
       "    <tr>\n",
       "      <th>8</th>\n",
       "      <td>kMaxAttractionDistance</td>\n",
       "      <td>suggest_int</td>\n",
       "      <td>4.000</td>\n",
       "      <td>99.0</td>\n",
       "      <td>True</td>\n",
       "      <td>static constexpr auto kMaxAttractionDistance =</td>\n",
       "      <td>; // OPTIMIZE LOG [4, 99]</td>\n",
       "    </tr>\n",
       "    <tr>\n",
       "      <th>9</th>\n",
       "      <td>kStartAttraction</td>\n",
       "      <td>suggest_float</td>\n",
       "      <td>0.001</td>\n",
       "      <td>0.9</td>\n",
       "      <td>True</td>\n",
       "      <td>static constexpr auto kStartAttraction =</td>\n",
       "      <td>;     // OPTIMIZE LOG [0.001, 0.9]</td>\n",
       "    </tr>\n",
       "  </tbody>\n",
       "</table>\n",
       "</div>"
      ],
      "text/plain": [
       "                         name         method     min    max    log  \\\n",
       "0                      kErase    suggest_int   1.000    5.0  False   \n",
       "1                     kRadius    suggest_int   2.000    6.0  False   \n",
       "2                 kAnnealingA  suggest_float -15.000   15.0  False   \n",
       "3                 kAnnealingB  suggest_float   0.000    3.0  False   \n",
       "4             kAnnealingStart  suggest_float   1.000  100.0   True   \n",
       "5                  kSkipRatio  suggest_float   0.200    0.8  False   \n",
       "6  kTargetDeterminationTrials    suggest_int   1.000   20.0   True   \n",
       "7            kAttractionRatio  suggest_float   0.010    0.9   True   \n",
       "8      kMaxAttractionDistance    suggest_int   4.000   99.0   True   \n",
       "9            kStartAttraction  suggest_float   0.001    0.9   True   \n",
       "\n",
       "                                                left  \\\n",
       "0                    static constexpr auto kErase =    \n",
       "1                   static constexpr auto kRadius =    \n",
       "2               static constexpr auto kAnnealingA =    \n",
       "3               static constexpr auto kAnnealingB =    \n",
       "4           static constexpr auto kAnnealingStart =    \n",
       "5                static constexpr auto kSkipRatio =    \n",
       "6  static constexpr auto kTargetDeterminationTria...   \n",
       "7          static constexpr auto kAttractionRatio =    \n",
       "8    static constexpr auto kMaxAttractionDistance =    \n",
       "9          static constexpr auto kStartAttraction =    \n",
       "\n",
       "                                right  \n",
       "0    ;             // OPTIMIZE [1, 5]  \n",
       "1     ;            // OPTIMIZE [2, 6]  \n",
       "2    ;      // OPTIMIZE [-15.0, 15.0]  \n",
       "3       ;      // OPTIMIZE [0.0, 3.0]  \n",
       "4      ; // OPTIMIZE LOG [1.0, 100.0]  \n",
       "5      ;       // OPTIMIZE [0.2, 0.8]  \n",
       "6           ; // OPTIMIZE LOG [1, 20]  \n",
       "7  ;      // OPTIMIZE LOG [0.01, 0.9]  \n",
       "8           ; // OPTIMIZE LOG [4, 99]  \n",
       "9  ;     // OPTIMIZE LOG [0.001, 0.9]  "
      ]
     },
     "metadata": {},
     "output_type": "display_data"
    }
   ],
   "source": [
    "# ここでエラー出力は何かおかしいかもしれない\n",
    "\n",
    "\n",
    "# パラメータ抽出\n",
    "with open(FILENAME) as f:\n",
    "    answer = f.read()\n",
    "\n",
    "\n",
    "variables_optimize = []\n",
    "\n",
    "for left, value, right, options in re.findall(r\"^([^/\\n]*=\\s*)(.+?)(\\s*;\\s*//(?:.*\\W)?OPTIMIZE(\\W.*))$\", answer, re.MULTILINE):\n",
    "    name = left.replace(\"=\", \"\").strip().split()[-1]\n",
    "    \n",
    "    searched = re.search(r\".*\\[(?P<min>.*),(?P<max>.*)\\].*\", options)\n",
    "    if searched:\n",
    "        min_value = max_value = None\n",
    "        try:\n",
    "            min_value = eval(searched.group(\"min\"))\n",
    "            max_value = eval(searched.group(\"max\"))\n",
    "            assert min_value <= max_value\n",
    "        except Exception as e:\n",
    "            print(f\"searched={searched}\", file=sys.stderr)\n",
    "            print(e, file=sys.stderr)\n",
    "            continue\n",
    "        log = \"LOG\" in options  # 雑、直したほうが良い\n",
    "        if type(min_value) != type(max_value):\n",
    "            print(f\"searched={searched}\", file=sys.stderr)\n",
    "            print(\"types not matched\", file=sys.stderr)\n",
    "            continue\n",
    "        if isinstance(min_value, int):\n",
    "            method = \"suggest_int\"\n",
    "        elif isinstance(min_value, float):\n",
    "            method = \"suggest_float\"\n",
    "        else:\n",
    "            print(f\"searched={searched}\", file=sys.stderr)\n",
    "            print(f\"unknown type ({type(min_value)})\", file=sys.stderr)\n",
    "            continue\n",
    "        variables_optimize.append({\n",
    "            \"name\": name,\n",
    "            \"method\": method,\n",
    "            \"min\": min_value,\n",
    "            \"max\": max_value,\n",
    "            \"log\": log,\n",
    "            \"left\": left,\n",
    "            \"right\": right,\n",
    "        })\n",
    "    elif searched := re.search(r\".*\\{(?P<choices>.*?)\\}.*\", options):\n",
    "        choices = list(map(lambda x: x.strip(), searched.group(\"choices\").split(\",\")))\n",
    "        variables_optimize.append({\n",
    "            \"name\": name,\n",
    "            \"method\": \"suggest_categorical\",\n",
    "            \"choices\": choices,\n",
    "            \"left\": left,\n",
    "            \"right\": right,\n",
    "        })\n",
    "    else:\n",
    "        print(f\"searched={searched}\", file=sys.stderr)\n",
    "        print(f\"pattern was matched but options are incorrect.\", file=sys.stderr)\n",
    "\n",
    "print(len(variables_optimize), \"variables were found.\")\n",
    "if globals().get(\"pd\"):\n",
    "    display(pd.DataFrame(variables_optimize))\n",
    "else:\n",
    "    pprint(variables_optimize)"
   ]
  },
  {
   "cell_type": "code",
   "execution_count": 3,
   "id": "001042b9",
   "metadata": {},
   "outputs": [],
   "source": [
    "def escape(string):  # 正規表現の中でそのまま使いたい文字列をエスケープ\n",
    "    res = !echo '{string}' | sed -e 's/[]\\/$*.^[]/\\\\&/g'\n",
    "    return res[0]\n",
    "\n",
    "def escape_sed(string):  # sed の置換後の文字列用のエスケープ\n",
    "    res = !echo '{string}' | sed -e 's/[\\/&]/\\\\&/g'\n",
    "    return res[0]\n",
    "\n",
    "def read_stream(name, in_file, out_file):\n",
    "    for line in in_file:\n",
    "        print(f\"[{name}] {line.strip()}\", file=out_file)\n",
    "\n",
    "def run(cmd, name):\n",
    "    proc = Popen(cmd, stdout=PIPE, stderr=PIPE, universal_newlines=True, shell=isinstance(cmd, str))\n",
    "    stdout_thread = Thread(target=read_stream, args=(name, proc.stdout, sys.stdout))\n",
    "    stderr_thread = Thread(target=read_stream, args=(name, proc.stderr, sys.stderr))\n",
    "    stdout_thread.start()\n",
    "    stderr_thread.start()\n",
    "    proc.wait()\n",
    "    return proc\n",
    "\n",
    "def objective(trial, in_dir, work_dir):\n",
    "    n_internal_parallel = 3\n",
    "    \n",
    "    index_parallel = f\"{trial.number:04d}\"\n",
    "    print(f\"{index_parallel=}\")\n",
    "    \n",
    "    work_dir = Path(work_dir)\n",
    "    directory_input = Path(in_dir)  # 中のすべてのファイルに対して実行される\n",
    "    #parameters_changed_filename = Path(gettempdir()) / str(uuid1())\n",
    "    parameters_changed_filename = work_dir / f\"{index_parallel}_{FILENAME}\"\n",
    "    \n",
    "    run([\"mkdir\", f\"{work_dir / index_parallel}_out\"], \"mkdir\")\n",
    "    run([\"mkdir\", f\"{work_dir / index_parallel}_score\"], \"mkdir\")\n",
    "    \n",
    "    # ファイル作成\n",
    "    run(f\"cp {FILENAME} {parameters_changed_filename}\", \"cp\")\n",
    "    sed_options = [f\"-i {parameters_changed_filename}\"]\n",
    "    for variable in variables_optimize:\n",
    "        if variable[\"method\"] == \"suggest_categorical\":\n",
    "            val =  trial.suggest_categorical(variable[\"name\"], variable[\"choices\"])\n",
    "        else:\n",
    "            val = getattr(trial, variable[\"method\"])(variable[\"name\"], variable[\"min\"], variable[\"max\"], log=variable[\"log\"])\n",
    "        left = variable[\"left\"]\n",
    "        right = variable[\"right\"]\n",
    "        sed_options.append(f\"\"\"-e 's/^{escape(left)}.*{escape(right)}$/{escape_sed(left)}{val}{escape_sed(right)}/'\"\"\")\n",
    "    command_sed = f\"sed {' '.join(sed_options)}\"\n",
    "    #print(command_sed)\n",
    "    run(command_sed, \"sed\")\n",
    "    \n",
    "    # コンパイル\n",
    "    command_compile = f\"g++ {parameters_changed_filename} -std=gnu++17 -O2 -DONLINE_JUDGE -o {parameters_changed_filename}.out\"\n",
    "    #print(command_compile)\n",
    "    run(command_compile, \"compile\")\n",
    "    # 実行・採点コマンド (@ はファイル名)\n",
    "    command_exec = (\n",
    "        #f\"./a.out < ./tools/in/{i:04d}.txt > {out_file} && ./tools/target/release/vis ./tools/in/{i:04d}.txt {out_file}\"\n",
    "        #f\"../tools/target/release/tester $(pwd)/{parameters_changed_filename}.out < {directory_input}/@ 2>&1 | grep Score\"\n",
    "        #f\"../tools/target/release/tester $(pwd)/{parameters_changed_filename}.out < {directory_input}/@ 2>&1 | grep Score | sed -E s/[^0-9]+// > ./{index_parallel}_score/@;\"\n",
    "        #f\"cargo run --release --manifest-path ../tools/Cargo.toml --bin tester {directory_input}/@ $(pwd)/{parameters_changed_filename}.out 2>&1 | grep Score | sed -E s/[^0-9]+// > ./{index_parallel}_score/@;\"\n",
    "        f\"./{parameters_changed_filename}.out < {directory_input}/@ > {work_dir / index_parallel}_out/@;\"\n",
    "        f\"../tools/target/release/vis {directory_input}/@ {work_dir / index_parallel}_out/@ 2> /dev/null > {work_dir / index_parallel}_score/@;\"\n",
    "    )\n",
    "    # 並列実行 (sed はパスのディレクトリ部分を消してファイル名にしてる)\n",
    "    run(f\"find {directory_input}/* | sed 's!^.*/!!' | xargs -I@ -P {n_internal_parallel} sh -c '{command_exec}'\", \"exec\")\n",
    "    \n",
    "    # 集計\n",
    "    scores = []\n",
    "    for file_path in Path(f\"{work_dir / index_parallel}_score/\").iterdir():  \n",
    "        with open(file_path) as f:\n",
    "            scores.append(int(f.readline().strip().split()[-1]))\n",
    "    mean_score = sum(scores) / len(scores)\n",
    "    \n",
    "    # 後始末\n",
    "    run(f\"rm -rf {work_dir / index_parallel}_out\", \"rm\")\n",
    "    run(f\"rm -rf {work_dir / index_parallel}_score\", \"rm\")\n",
    "    #run(f\"rm {parameters_changed_filename}\", \"rm\")\n",
    "    run(f\"rm {parameters_changed_filename}.out\", \"rm\")\n",
    "    \n",
    "    return mean_score"
   ]
  },
  {
   "cell_type": "code",
   "execution_count": 4,
   "id": "2d2e133c",
   "metadata": {},
   "outputs": [
    {
     "name": "stderr",
     "output_type": "stream",
     "text": [
      "\u001b[32m[I 2022-08-15 21:31:28,239]\u001b[0m A new study created in RDB with name: study_5_2\u001b[0m\n"
     ]
    }
   ],
   "source": [
    "K = 5\n",
    "N_CLASS = 2\n",
    "\n",
    "in_dir = Path(f\"in_{K}_{N_CLASS}\")\n",
    "work_dir = Path(f\"work_{K}_{N_CLASS}\")\n",
    "\n",
    "study_name = f\"study_{K}_{N_CLASS}\"\n",
    "storage_path = work_dir / \"study.db\"\n",
    "storage = f\"sqlite:///{storage_path}\"\n",
    "study = optuna.create_study(storage=storage, load_if_exists=True, study_name=study_name, direction=\"maximize\")\n",
    "\n",
    "def callback(study, trial):\n",
    "    try:\n",
    "        index_parallel = f\"{trial.number:04d}\"\n",
    "        parameters_changed_filename = work_dir / f\"{index_parallel}_{FILENAME}\"\n",
    "        if study.best_value == trial.value:\n",
    "            print(f\"Updated! {study.best_value}\")\n",
    "            !cp {parameters_changed_filename} {work_dir / \"best_parameters.cpp\"}\n",
    "        !rm {parameters_changed_filename}\n",
    "    except:\n",
    "        print(\":(\")\n"
   ]
  },
  {
   "cell_type": "code",
   "execution_count": null,
   "id": "61c2901d",
   "metadata": {},
   "outputs": [
    {
     "name": "stdout",
     "output_type": "stream",
     "text": [
      "index_parallel='0000'\n"
     ]
    },
    {
     "name": "stderr",
     "output_type": "stream",
     "text": [
      "\u001b[32m[I 2022-08-15 21:34:51,850]\u001b[0m Trial 0 finished with value: 7917.247126436781 and parameters: {'kErase': 2, 'kRadius': 4, 'kAnnealingA': -8.670570806963527, 'kAnnealingB': 1.6763190294477206, 'kAnnealingStart': 6.910522793575673, 'kSkipRatio': 0.20386733922331488, 'kTargetDeterminationTrials': 1, 'kAttractionRatio': 0.25038459048641787, 'kMaxAttractionDistance': 29, 'kStartAttraction': 0.4451872153247093}. Best is trial 0 with value: 7917.247126436781.\u001b[0m\n"
     ]
    },
    {
     "name": "stdout",
     "output_type": "stream",
     "text": [
      "Updated! 7917.247126436781\n",
      "index_parallel='0001'\n"
     ]
    },
    {
     "name": "stderr",
     "output_type": "stream",
     "text": [
      "\u001b[32m[I 2022-08-15 21:38:15,936]\u001b[0m Trial 1 finished with value: 7274.626436781609 and parameters: {'kErase': 3, 'kRadius': 2, 'kAnnealingA': -1.2691202783973026, 'kAnnealingB': 0.5131012066184206, 'kAnnealingStart': 1.9350677798677713, 'kSkipRatio': 0.6056378450360826, 'kTargetDeterminationTrials': 13, 'kAttractionRatio': 0.24128039609853247, 'kMaxAttractionDistance': 39, 'kStartAttraction': 0.004088314524248004}. Best is trial 0 with value: 7917.247126436781.\u001b[0m\n"
     ]
    },
    {
     "name": "stdout",
     "output_type": "stream",
     "text": [
      "index_parallel='0002'\n"
     ]
    },
    {
     "name": "stderr",
     "output_type": "stream",
     "text": [
      "\u001b[32m[I 2022-08-15 21:41:40,089]\u001b[0m Trial 2 finished with value: 6861.735632183908 and parameters: {'kErase': 3, 'kRadius': 3, 'kAnnealingA': -11.746573517611424, 'kAnnealingB': 2.329785847010731, 'kAnnealingStart': 14.182732669110358, 'kSkipRatio': 0.25449070579250027, 'kTargetDeterminationTrials': 14, 'kAttractionRatio': 0.5399323746492911, 'kMaxAttractionDistance': 6, 'kStartAttraction': 0.5542827635229042}. Best is trial 0 with value: 7917.247126436781.\u001b[0m\n"
     ]
    },
    {
     "name": "stdout",
     "output_type": "stream",
     "text": [
      "index_parallel='0003'\n"
     ]
    },
    {
     "name": "stderr",
     "output_type": "stream",
     "text": [
      "\u001b[32m[I 2022-08-15 21:45:04,121]\u001b[0m Trial 3 finished with value: 6889.35632183908 and parameters: {'kErase': 4, 'kRadius': 2, 'kAnnealingA': -10.742409266716873, 'kAnnealingB': 0.7736621434140677, 'kAnnealingStart': 6.230158835435698, 'kSkipRatio': 0.5790802321705258, 'kTargetDeterminationTrials': 1, 'kAttractionRatio': 0.028434452611861845, 'kMaxAttractionDistance': 52, 'kStartAttraction': 0.021936169216047338}. Best is trial 0 with value: 7917.247126436781.\u001b[0m\n"
     ]
    },
    {
     "name": "stdout",
     "output_type": "stream",
     "text": [
      "index_parallel='0004'\n"
     ]
    },
    {
     "name": "stderr",
     "output_type": "stream",
     "text": [
      "\u001b[32m[I 2022-08-15 21:48:28,244]\u001b[0m Trial 4 finished with value: 7496.0344827586205 and parameters: {'kErase': 3, 'kRadius': 2, 'kAnnealingA': -1.076137698225967, 'kAnnealingB': 2.043420258640719, 'kAnnealingStart': 10.643519464631533, 'kSkipRatio': 0.7384239122941023, 'kTargetDeterminationTrials': 8, 'kAttractionRatio': 0.06420193775734136, 'kMaxAttractionDistance': 34, 'kStartAttraction': 0.010309083084773437}. Best is trial 0 with value: 7917.247126436781.\u001b[0m\n"
     ]
    },
    {
     "name": "stdout",
     "output_type": "stream",
     "text": [
      "index_parallel='0005'\n"
     ]
    },
    {
     "name": "stderr",
     "output_type": "stream",
     "text": [
      "\u001b[32m[I 2022-08-15 21:51:52,606]\u001b[0m Trial 5 finished with value: 6720.068965517241 and parameters: {'kErase': 5, 'kRadius': 6, 'kAnnealingA': 14.793325847634357, 'kAnnealingB': 2.967894352158275, 'kAnnealingStart': 8.550944165296343, 'kSkipRatio': 0.49454930102466094, 'kTargetDeterminationTrials': 17, 'kAttractionRatio': 0.2765445723520356, 'kMaxAttractionDistance': 29, 'kStartAttraction': 0.6936827079458079}. Best is trial 0 with value: 7917.247126436781.\u001b[0m\n"
     ]
    },
    {
     "name": "stdout",
     "output_type": "stream",
     "text": [
      "index_parallel='0006'\n"
     ]
    },
    {
     "name": "stderr",
     "output_type": "stream",
     "text": [
      "\u001b[32m[I 2022-08-15 21:55:16,034]\u001b[0m Trial 6 finished with value: 8073.741379310345 and parameters: {'kErase': 1, 'kRadius': 6, 'kAnnealingA': -13.356064311433453, 'kAnnealingB': 0.9269130534989433, 'kAnnealingStart': 2.619566056640327, 'kSkipRatio': 0.44821230370120013, 'kTargetDeterminationTrials': 2, 'kAttractionRatio': 0.02872076274367911, 'kMaxAttractionDistance': 14, 'kStartAttraction': 0.3633538883524578}. Best is trial 6 with value: 8073.741379310345.\u001b[0m\n"
     ]
    },
    {
     "name": "stdout",
     "output_type": "stream",
     "text": [
      "Updated! 8073.741379310345\n",
      "index_parallel='0007'\n"
     ]
    },
    {
     "name": "stderr",
     "output_type": "stream",
     "text": [
      "\u001b[32m[I 2022-08-15 21:58:40,049]\u001b[0m Trial 7 finished with value: 7274.362068965517 and parameters: {'kErase': 3, 'kRadius': 6, 'kAnnealingA': -6.425884363913749, 'kAnnealingB': 2.7128032079100803, 'kAnnealingStart': 39.00277195528386, 'kSkipRatio': 0.5739427572469529, 'kTargetDeterminationTrials': 4, 'kAttractionRatio': 0.02520700698036957, 'kMaxAttractionDistance': 22, 'kStartAttraction': 0.005398772317329297}. Best is trial 6 with value: 8073.741379310345.\u001b[0m\n"
     ]
    },
    {
     "name": "stdout",
     "output_type": "stream",
     "text": [
      "index_parallel='0008'\n"
     ]
    },
    {
     "name": "stderr",
     "output_type": "stream",
     "text": [
      "\u001b[32m[I 2022-08-15 22:02:03,528]\u001b[0m Trial 8 finished with value: 6355.913793103448 and parameters: {'kErase': 2, 'kRadius': 2, 'kAnnealingA': 6.326448740709623, 'kAnnealingB': 2.045188559854167, 'kAnnealingStart': 37.420679533577974, 'kSkipRatio': 0.3064281900432291, 'kTargetDeterminationTrials': 1, 'kAttractionRatio': 0.14168591142767464, 'kMaxAttractionDistance': 8, 'kStartAttraction': 0.10221713644702272}. Best is trial 6 with value: 8073.741379310345.\u001b[0m\n"
     ]
    },
    {
     "name": "stdout",
     "output_type": "stream",
     "text": [
      "index_parallel='0009'\n"
     ]
    },
    {
     "name": "stderr",
     "output_type": "stream",
     "text": [
      "\u001b[32m[I 2022-08-15 22:05:27,460]\u001b[0m Trial 9 finished with value: 6879.545977011494 and parameters: {'kErase': 4, 'kRadius': 4, 'kAnnealingA': -14.199527210689926, 'kAnnealingB': 2.6306732578049457, 'kAnnealingStart': 27.862908503248647, 'kSkipRatio': 0.5975789336657082, 'kTargetDeterminationTrials': 1, 'kAttractionRatio': 0.03079027291042572, 'kMaxAttractionDistance': 49, 'kStartAttraction': 0.059933448014764946}. Best is trial 6 with value: 8073.741379310345.\u001b[0m\n"
     ]
    },
    {
     "name": "stdout",
     "output_type": "stream",
     "text": [
      "index_parallel='0010'\n"
     ]
    },
    {
     "name": "stderr",
     "output_type": "stream",
     "text": [
      "\u001b[32m[I 2022-08-15 22:08:50,901]\u001b[0m Trial 10 finished with value: 7801.735632183908 and parameters: {'kErase': 1, 'kRadius': 5, 'kAnnealingA': 6.287414854506466, 'kAnnealingB': 0.06487717138428195, 'kAnnealingStart': 1.0081961659388174, 'kSkipRatio': 0.394128912516025, 'kTargetDeterminationTrials': 3, 'kAttractionRatio': 0.011268125727934397, 'kMaxAttractionDistance': 12, 'kStartAttraction': 0.0010128585197073142}. Best is trial 6 with value: 8073.741379310345.\u001b[0m\n"
     ]
    },
    {
     "name": "stdout",
     "output_type": "stream",
     "text": [
      "index_parallel='0011'\n"
     ]
    },
    {
     "name": "stderr",
     "output_type": "stream",
     "text": [
      "\u001b[32m[I 2022-08-15 22:12:14,185]\u001b[0m Trial 11 finished with value: 8056.063218390805 and parameters: {'kErase': 1, 'kRadius': 4, 'kAnnealingA': -6.822844134346061, 'kAnnealingB': 1.313391809769788, 'kAnnealingStart': 3.490200336311053, 'kSkipRatio': 0.20693966005871076, 'kTargetDeterminationTrials': 2, 'kAttractionRatio': 0.07157297803715412, 'kMaxAttractionDistance': 14, 'kStartAttraction': 0.19556368303602176}. Best is trial 6 with value: 8073.741379310345.\u001b[0m\n"
     ]
    },
    {
     "name": "stdout",
     "output_type": "stream",
     "text": [
      "index_parallel='0012'\n"
     ]
    },
    {
     "name": "stderr",
     "output_type": "stream",
     "text": [
      "\u001b[32m[I 2022-08-15 22:15:37,569]\u001b[0m Trial 12 finished with value: 8122.827586206897 and parameters: {'kErase': 1, 'kRadius': 5, 'kAnnealingA': -4.25640233739658, 'kAnnealingB': 1.121170846564336, 'kAnnealingStart': 2.331400403597834, 'kSkipRatio': 0.38168728804824353, 'kTargetDeterminationTrials': 2, 'kAttractionRatio': 0.06079987786062262, 'kMaxAttractionDistance': 13, 'kStartAttraction': 0.1610827108847924}. Best is trial 12 with value: 8122.827586206897.\u001b[0m\n"
     ]
    },
    {
     "name": "stdout",
     "output_type": "stream",
     "text": [
      "Updated! 8122.827586206897\n",
      "index_parallel='0013'\n"
     ]
    },
    {
     "name": "stderr",
     "output_type": "stream",
     "text": [
      "\u001b[32m[I 2022-08-15 22:19:01,564]\u001b[0m Trial 13 finished with value: 7411.442528735633 and parameters: {'kErase': 1, 'kRadius': 5, 'kAnnealingA': -4.692992280266637, 'kAnnealingB': 1.09378542137569, 'kAnnealingStart': 2.443915136354975, 'kSkipRatio': 0.40011007062580767, 'kTargetDeterminationTrials': 2, 'kAttractionRatio': 0.011053021325769848, 'kMaxAttractionDistance': 4, 'kStartAttraction': 0.19738839320154303}. Best is trial 12 with value: 8122.827586206897.\u001b[0m\n"
     ]
    },
    {
     "name": "stdout",
     "output_type": "stream",
     "text": [
      "index_parallel='0014'\n"
     ]
    },
    {
     "name": "stderr",
     "output_type": "stream",
     "text": [
      "\u001b[32m[I 2022-08-15 22:22:25,126]\u001b[0m Trial 14 finished with value: 7979.5344827586205 and parameters: {'kErase': 2, 'kRadius': 5, 'kAnnealingA': 5.602975372176694, 'kAnnealingB': 0.8835292246257764, 'kAnnealingStart': 1.0574697340786805, 'kSkipRatio': 0.40433076414146757, 'kTargetDeterminationTrials': 5, 'kAttractionRatio': 0.04705973158810867, 'kMaxAttractionDistance': 11, 'kStartAttraction': 0.05765202639296174}. Best is trial 12 with value: 8122.827586206897.\u001b[0m\n"
     ]
    },
    {
     "name": "stdout",
     "output_type": "stream",
     "text": [
      "index_parallel='0015'\n"
     ]
    },
    {
     "name": "stderr",
     "output_type": "stream",
     "text": [
      "\u001b[32m[I 2022-08-15 22:25:48,427]\u001b[0m Trial 15 finished with value: 6440.408045977011 and parameters: {'kErase': 1, 'kRadius': 6, 'kAnnealingA': 1.9608746998071807, 'kAnnealingB': 0.27207613693894794, 'kAnnealingStart': 86.84250325422491, 'kSkipRatio': 0.4839955962821677, 'kTargetDeterminationTrials': 2, 'kAttractionRatio': 0.11625206340832876, 'kMaxAttractionDistance': 19, 'kStartAttraction': 0.21330259438706167}. Best is trial 12 with value: 8122.827586206897.\u001b[0m\n"
     ]
    },
    {
     "name": "stdout",
     "output_type": "stream",
     "text": [
      "index_parallel='0016'\n"
     ]
    },
    {
     "name": "stderr",
     "output_type": "stream",
     "text": [
      "\u001b[32m[I 2022-08-15 22:29:12,203]\u001b[0m Trial 16 finished with value: 7407.586206896552 and parameters: {'kErase': 2, 'kRadius': 5, 'kAnnealingA': -14.011397871268143, 'kAnnealingB': 1.547379116469129, 'kAnnealingStart': 3.6149969201178274, 'kSkipRatio': 0.32189226077878885, 'kTargetDeterminationTrials': 3, 'kAttractionRatio': 0.019442223196538353, 'kMaxAttractionDistance': 94, 'kStartAttraction': 0.8802049146707331}. Best is trial 12 with value: 8122.827586206897.\u001b[0m\n"
     ]
    },
    {
     "name": "stdout",
     "output_type": "stream",
     "text": [
      "index_parallel='0017'\n"
     ]
    },
    {
     "name": "stderr",
     "output_type": "stream",
     "text": [
      "\u001b[32m[I 2022-08-15 22:32:35,573]\u001b[0m Trial 17 finished with value: 7924.482758620689 and parameters: {'kErase': 1, 'kRadius': 6, 'kAnnealingA': -3.600022285280707, 'kAnnealingB': 0.7262373943925682, 'kAnnealingStart': 1.7558115173455366, 'kSkipRatio': 0.7047262432233425, 'kTargetDeterminationTrials': 6, 'kAttractionRatio': 0.04468234433081588, 'kMaxAttractionDistance': 8, 'kStartAttraction': 0.3038476394431626}. Best is trial 12 with value: 8122.827586206897.\u001b[0m\n"
     ]
    },
    {
     "name": "stdout",
     "output_type": "stream",
     "text": [
      "index_parallel='0018'\n"
     ]
    },
    {
     "name": "stderr",
     "output_type": "stream",
     "text": [
      "\u001b[32m[I 2022-08-15 22:35:59,301]\u001b[0m Trial 18 finished with value: 7931.6781609195405 and parameters: {'kErase': 2, 'kRadius': 5, 'kAnnealingA': 12.33457036185058, 'kAnnealingB': 1.1804022733418489, 'kAnnealingStart': 4.179817834038638, 'kSkipRatio': 0.46526916059260504, 'kTargetDeterminationTrials': 2, 'kAttractionRatio': 0.018389586984470095, 'kMaxAttractionDistance': 15, 'kStartAttraction': 0.037273552339133785}. Best is trial 12 with value: 8122.827586206897.\u001b[0m\n"
     ]
    },
    {
     "name": "stdout",
     "output_type": "stream",
     "text": [
      "index_parallel='0019'\n"
     ]
    },
    {
     "name": "stderr",
     "output_type": "stream",
     "text": [
      "\u001b[32m[I 2022-08-15 22:39:22,802]\u001b[0m Trial 19 finished with value: 7427.591954022989 and parameters: {'kErase': 1, 'kRadius': 3, 'kAnnealingA': 2.4177442680059262, 'kAnnealingB': 0.4407738923118468, 'kAnnealingStart': 1.6593539107203517, 'kSkipRatio': 0.3417799317246554, 'kTargetDeterminationTrials': 3, 'kAttractionRatio': 0.0977861311379154, 'kMaxAttractionDistance': 4, 'kStartAttraction': 0.12570908090590505}. Best is trial 12 with value: 8122.827586206897.\u001b[0m\n"
     ]
    },
    {
     "name": "stdout",
     "output_type": "stream",
     "text": [
      "index_parallel='0020'\n"
     ]
    },
    {
     "name": "stderr",
     "output_type": "stream",
     "text": [
      "\u001b[32m[I 2022-08-15 22:42:46,800]\u001b[0m Trial 20 finished with value: 7053.229885057472 and parameters: {'kErase': 4, 'kRadius': 6, 'kAnnealingA': -9.759128393206515, 'kAnnealingB': 1.7546481278379589, 'kAnnealingStart': 18.242074330097893, 'kSkipRatio': 0.6680485804073184, 'kTargetDeterminationTrials': 8, 'kAttractionRatio': 0.04152179782853879, 'kMaxAttractionDistance': 9, 'kStartAttraction': 0.020407336906317037}. Best is trial 12 with value: 8122.827586206897.\u001b[0m\n"
     ]
    },
    {
     "name": "stdout",
     "output_type": "stream",
     "text": [
      "index_parallel='0021'\n"
     ]
    },
    {
     "name": "stderr",
     "output_type": "stream",
     "text": [
      "\u001b[32m[I 2022-08-15 22:46:10,226]\u001b[0m Trial 21 finished with value: 8017.022988505747 and parameters: {'kErase': 1, 'kRadius': 4, 'kAnnealingA': -7.169559589231938, 'kAnnealingB': 1.205546741576277, 'kAnnealingStart': 3.546715163030875, 'kSkipRatio': 0.2087801781181746, 'kTargetDeterminationTrials': 2, 'kAttractionRatio': 0.08027665340875573, 'kMaxAttractionDistance': 14, 'kStartAttraction': 0.11743002871673874}. Best is trial 12 with value: 8122.827586206897.\u001b[0m\n"
     ]
    },
    {
     "name": "stdout",
     "output_type": "stream",
     "text": [
      "index_parallel='0022'\n"
     ]
    },
    {
     "name": "stderr",
     "output_type": "stream",
     "text": [
      "\u001b[32m[I 2022-08-15 22:49:33,895]\u001b[0m Trial 22 finished with value: 8054.925287356322 and parameters: {'kErase': 1, 'kRadius': 4, 'kAnnealingA': -4.0660281299183385, 'kAnnealingB': 1.427201590275977, 'kAnnealingStart': 2.8569547241028865, 'kSkipRatio': 0.433430668746285, 'kTargetDeterminationTrials': 2, 'kAttractionRatio': 0.06751812549173977, 'kMaxAttractionDistance': 21, 'kStartAttraction': 0.3121101324414498}. Best is trial 12 with value: 8122.827586206897.\u001b[0m\n"
     ]
    },
    {
     "name": "stdout",
     "output_type": "stream",
     "text": [
      "index_parallel='0023'\n"
     ]
    },
    {
     "name": "stderr",
     "output_type": "stream",
     "text": [
      "\u001b[32m[I 2022-08-15 22:52:57,777]\u001b[0m Trial 23 finished with value: 7487.557471264367 and parameters: {'kErase': 2, 'kRadius': 3, 'kAnnealingA': -11.844673095170364, 'kAnnealingB': 1.345372924808275, 'kAnnealingStart': 5.1029882734342555, 'kSkipRatio': 0.2799276544283793, 'kTargetDeterminationTrials': 3, 'kAttractionRatio': 0.16374355848336566, 'kMaxAttractionDistance': 6, 'kStartAttraction': 0.17387034536137272}. Best is trial 12 with value: 8122.827586206897.\u001b[0m\n"
     ]
    },
    {
     "name": "stdout",
     "output_type": "stream",
     "text": [
      "index_parallel='0024'\n"
     ]
    },
    {
     "name": "stderr",
     "output_type": "stream",
     "text": [
      "\u001b[32m[I 2022-08-15 22:56:21,322]\u001b[0m Trial 24 finished with value: 7870.747126436781 and parameters: {'kErase': 1, 'kRadius': 5, 'kAnnealingA': -14.92733909547074, 'kAnnealingB': 0.7593244328127369, 'kAnnealingStart': 2.409655881973732, 'kSkipRatio': 0.35634002758427713, 'kTargetDeterminationTrials': 4, 'kAttractionRatio': 0.05676948190422789, 'kMaxAttractionDistance': 16, 'kStartAttraction': 0.06371891639703399}. Best is trial 12 with value: 8122.827586206897.\u001b[0m\n"
     ]
    },
    {
     "name": "stdout",
     "output_type": "stream",
     "text": [
      "index_parallel='0025'\n"
     ]
    },
    {
     "name": "stderr",
     "output_type": "stream",
     "text": [
      "\u001b[32m[I 2022-08-15 22:59:45,266]\u001b[0m Trial 25 finished with value: 8163.408045977011 and parameters: {'kErase': 2, 'kRadius': 4, 'kAnnealingA': -7.232919048070569, 'kAnnealingB': 1.0107067791895539, 'kAnnealingStart': 1.3359590165525692, 'kSkipRatio': 0.5325871735165265, 'kTargetDeterminationTrials': 2, 'kAttractionRatio': 0.03604747110690885, 'kMaxAttractionDistance': 11, 'kStartAttraction': 0.34326592522477156}. Best is trial 25 with value: 8163.408045977011.\u001b[0m\n"
     ]
    },
    {
     "name": "stdout",
     "output_type": "stream",
     "text": [
      "Updated! 8163.408045977011\n",
      "index_parallel='0026'\n"
     ]
    },
    {
     "name": "stderr",
     "output_type": "stream",
     "text": [
      "\u001b[32m[I 2022-08-15 23:03:09,140]\u001b[0m Trial 26 finished with value: 7599.212643678161 and parameters: {'kErase': 2, 'kRadius': 5, 'kAnnealingA': -8.900146733794454, 'kAnnealingB': 1.030724259438013, 'kAnnealingStart': 1.371973795089421, 'kSkipRatio': 0.5385062231295417, 'kTargetDeterminationTrials': 5, 'kAttractionRatio': 0.017487506571334563, 'kMaxAttractionDistance': 6, 'kStartAttraction': 0.41110842714813484}. Best is trial 25 with value: 8163.408045977011.\u001b[0m\n"
     ]
    },
    {
     "name": "stdout",
     "output_type": "stream",
     "text": [
      "index_parallel='0027'\n"
     ]
    },
    {
     "name": "stderr",
     "output_type": "stream",
     "text": [
      "\u001b[32m[I 2022-08-15 23:06:32,905]\u001b[0m Trial 27 finished with value: 8133.919540229885 and parameters: {'kErase': 2, 'kRadius': 6, 'kAnnealingA': -3.0646587983662195, 'kAnnealingB': 0.5323703541897018, 'kAnnealingStart': 1.3595639119794636, 'kSkipRatio': 0.4472152332892326, 'kTargetDeterminationTrials': 4, 'kAttractionRatio': 0.03832210546309274, 'kMaxAttractionDistance': 11, 'kStartAttraction': 0.29652380310557414}. Best is trial 25 with value: 8163.408045977011.\u001b[0m\n"
     ]
    },
    {
     "name": "stdout",
     "output_type": "stream",
     "text": [
      "index_parallel='0028'\n"
     ]
    },
    {
     "name": "stderr",
     "output_type": "stream",
     "text": [
      "\u001b[32m[I 2022-08-15 23:09:56,818]\u001b[0m Trial 28 finished with value: 7979.890804597701 and parameters: {'kErase': 2, 'kRadius': 4, 'kAnnealingA': -2.7254954550993866, 'kAnnealingB': 0.5369348877337575, 'kAnnealingStart': 1.3491896412577735, 'kSkipRatio': 0.5205326894225244, 'kTargetDeterminationTrials': 8, 'kAttractionRatio': 0.038049382075283994, 'kMaxAttractionDistance': 11, 'kStartAttraction': 0.0908139167707624}. Best is trial 25 with value: 8163.408045977011.\u001b[0m\n"
     ]
    },
    {
     "name": "stdout",
     "output_type": "stream",
     "text": [
      "index_parallel='0029'\n"
     ]
    },
    {
     "name": "stderr",
     "output_type": "stream",
     "text": [
      "\u001b[32m[I 2022-08-15 23:13:20,432]\u001b[0m Trial 29 finished with value: 8367.413793103447 and parameters: {'kErase': 2, 'kRadius': 3, 'kAnnealingA': 0.578964972680811, 'kAnnealingB': 1.7986961183180958, 'kAnnealingStart': 1.304592635736413, 'kSkipRatio': 0.6443715832693475, 'kTargetDeterminationTrials': 4, 'kAttractionRatio': 0.878931408382571, 'kMaxAttractionDistance': 27, 'kStartAttraction': 0.5017284978265618}. Best is trial 29 with value: 8367.413793103447.\u001b[0m\n"
     ]
    },
    {
     "name": "stdout",
     "output_type": "stream",
     "text": [
      "Updated! 8367.413793103447\n",
      "index_parallel='0030'\n"
     ]
    },
    {
     "name": "stderr",
     "output_type": "stream",
     "text": [
      "\u001b[32m[I 2022-08-15 23:16:44,332]\u001b[0m Trial 30 finished with value: 8412.954022988506 and parameters: {'kErase': 2, 'kRadius': 3, 'kAnnealingA': 1.2157052381800475, 'kAnnealingB': 1.7638317453362857, 'kAnnealingStart': 1.3108332933607594, 'kSkipRatio': 0.7938507891038024, 'kTargetDeterminationTrials': 4, 'kAttractionRatio': 0.6668613719558725, 'kMaxAttractionDistance': 24, 'kStartAttraction': 0.6211271354134601}. Best is trial 30 with value: 8412.954022988506.\u001b[0m\n"
     ]
    },
    {
     "name": "stdout",
     "output_type": "stream",
     "text": [
      "Updated! 8412.954022988506\n",
      "index_parallel='0031'\n"
     ]
    },
    {
     "name": "stderr",
     "output_type": "stream",
     "text": [
      "\u001b[32m[I 2022-08-15 23:20:08,139]\u001b[0m Trial 31 finished with value: 8318.706896551725 and parameters: {'kErase': 2, 'kRadius': 3, 'kAnnealingA': 1.398224925120207, 'kAnnealingB': 1.8816701748175586, 'kAnnealingStart': 1.3223517510716065, 'kSkipRatio': 0.7703499474999906, 'kTargetDeterminationTrials': 4, 'kAttractionRatio': 0.8646440751255724, 'kMaxAttractionDistance': 26, 'kStartAttraction': 0.6023108779614682}. Best is trial 30 with value: 8412.954022988506.\u001b[0m\n"
     ]
    },
    {
     "name": "stdout",
     "output_type": "stream",
     "text": [
      "index_parallel='0032'\n"
     ]
    },
    {
     "name": "stderr",
     "output_type": "stream",
     "text": [
      "\u001b[32m[I 2022-08-15 23:23:32,654]\u001b[0m Trial 32 finished with value: 8113.505747126437 and parameters: {'kErase': 3, 'kRadius': 3, 'kAnnealingA': 1.6102850042286196, 'kAnnealingB': 1.7799151358665406, 'kAnnealingStart': 1.0262407102128708, 'kSkipRatio': 0.7864334762989958, 'kTargetDeterminationTrials': 6, 'kAttractionRatio': 0.8794822573232158, 'kMaxAttractionDistance': 27, 'kStartAttraction': 0.883532978975477}. Best is trial 30 with value: 8412.954022988506.\u001b[0m\n"
     ]
    },
    {
     "name": "stdout",
     "output_type": "stream",
     "text": [
      "index_parallel='0033'\n"
     ]
    },
    {
     "name": "stderr",
     "output_type": "stream",
     "text": [
      "\u001b[32m[I 2022-08-15 23:26:56,629]\u001b[0m Trial 33 finished with value: 8306.103448275862 and parameters: {'kErase': 2, 'kRadius': 3, 'kAnnealingA': 4.366499911497545, 'kAnnealingB': 2.0965791553546294, 'kAnnealingStart': 1.7933679559843358, 'kSkipRatio': 0.7907688516295505, 'kTargetDeterminationTrials': 10, 'kAttractionRatio': 0.827064183493052, 'kMaxAttractionDistance': 48, 'kStartAttraction': 0.5627079265173003}. Best is trial 30 with value: 8412.954022988506.\u001b[0m\n"
     ]
    },
    {
     "name": "stdout",
     "output_type": "stream",
     "text": [
      "index_parallel='0034'\n"
     ]
    },
    {
     "name": "stderr",
     "output_type": "stream",
     "text": [
      "\u001b[32m[I 2022-08-15 23:30:20,504]\u001b[0m Trial 34 finished with value: 8212.706896551725 and parameters: {'kErase': 3, 'kRadius': 3, 'kAnnealingA': 4.531957928400951, 'kAnnealingB': 2.0307902796330937, 'kAnnealingStart': 1.6497162675897756, 'kSkipRatio': 0.7989891295606296, 'kTargetDeterminationTrials': 12, 'kAttractionRatio': 0.8875023658912667, 'kMaxAttractionDistance': 41, 'kStartAttraction': 0.5440404647668137}. Best is trial 30 with value: 8412.954022988506.\u001b[0m\n"
     ]
    },
    {
     "name": "stdout",
     "output_type": "stream",
     "text": [
      "index_parallel='0035'\n"
     ]
    },
    {
     "name": "stderr",
     "output_type": "stream",
     "text": [
      "\u001b[32m[I 2022-08-15 23:33:45,053]\u001b[0m Trial 35 finished with value: 8138.758620689655 and parameters: {'kErase': 3, 'kRadius': 3, 'kAnnealingA': 8.523282586339723, 'kAnnealingB': 2.310884985450849, 'kAnnealingStart': 2.00015391599975, 'kSkipRatio': 0.6615355839289687, 'kTargetDeterminationTrials': 11, 'kAttractionRatio': 0.5213950054952519, 'kMaxAttractionDistance': 74, 'kStartAttraction': 0.5611582705126044}. Best is trial 30 with value: 8412.954022988506.\u001b[0m\n"
     ]
    },
    {
     "name": "stdout",
     "output_type": "stream",
     "text": [
      "index_parallel='0036'\n"
     ]
    },
    {
     "name": "stderr",
     "output_type": "stream",
     "text": [
      "\u001b[32m[I 2022-08-15 23:37:08,939]\u001b[0m Trial 36 finished with value: 8236.28735632184 and parameters: {'kErase': 2, 'kRadius': 2, 'kAnnealingA': -0.6424963063561897, 'kAnnealingB': 1.9017386442812354, 'kAnnealingStart': 5.659270128929634, 'kSkipRatio': 0.7561698453253654, 'kTargetDeterminationTrials': 20, 'kAttractionRatio': 0.6087600454714617, 'kMaxAttractionDistance': 27, 'kStartAttraction': 0.5258694063460607}. Best is trial 30 with value: 8412.954022988506.\u001b[0m\n"
     ]
    },
    {
     "name": "stdout",
     "output_type": "stream",
     "text": [
      "index_parallel='0037'\n"
     ]
    },
    {
     "name": "stderr",
     "output_type": "stream",
     "text": [
      "\u001b[32m[I 2022-08-15 23:40:33,149]\u001b[0m Trial 37 finished with value: 7798.626436781609 and parameters: {'kErase': 3, 'kRadius': 3, 'kAnnealingA': 9.085018837034688, 'kAnnealingB': 2.2598568532139733, 'kAnnealingStart': 8.11040435201584, 'kSkipRatio': 0.7202230542755688, 'kTargetDeterminationTrials': 9, 'kAttractionRatio': 0.38953451165270314, 'kMaxAttractionDistance': 63, 'kStartAttraction': 0.7104169528496165}. Best is trial 30 with value: 8412.954022988506.\u001b[0m\n"
     ]
    },
    {
     "name": "stdout",
     "output_type": "stream",
     "text": [
      "index_parallel='0038'\n"
     ]
    },
    {
     "name": "stderr",
     "output_type": "stream",
     "text": [
      "\u001b[32m[I 2022-08-15 23:43:57,594]\u001b[0m Trial 38 finished with value: 7089.132183908046 and parameters: {'kErase': 5, 'kRadius': 2, 'kAnnealingA': 0.3448756544939453, 'kAnnealingB': 1.6075472610763524, 'kAnnealingStart': 1.8948998009032127, 'kSkipRatio': 0.6683214595388134, 'kTargetDeterminationTrials': 6, 'kAttractionRatio': 0.6602257820628661, 'kMaxAttractionDistance': 38, 'kStartAttraction': 0.47359049583222196}. Best is trial 30 with value: 8412.954022988506.\u001b[0m\n"
     ]
    },
    {
     "name": "stdout",
     "output_type": "stream",
     "text": [
      "index_parallel='0039'\n"
     ]
    },
    {
     "name": "stderr",
     "output_type": "stream",
     "text": [
      "\u001b[32m[I 2022-08-15 23:47:21,568]\u001b[0m Trial 39 finished with value: 7905.827586206897 and parameters: {'kErase': 3, 'kRadius': 3, 'kAnnealingA': 3.917985706943777, 'kAnnealingB': 2.5087302835512966, 'kAnnealingStart': 1.356295145831459, 'kSkipRatio': 0.7551781755561038, 'kTargetDeterminationTrials': 10, 'kAttractionRatio': 0.37216363120320156, 'kMaxAttractionDistance': 32, 'kStartAttraction': 0.26042076237420836}. Best is trial 30 with value: 8412.954022988506.\u001b[0m\n"
     ]
    },
    {
     "name": "stdout",
     "output_type": "stream",
     "text": [
      "index_parallel='0040'\n"
     ]
    },
    {
     "name": "stderr",
     "output_type": "stream",
     "text": [
      "\u001b[32m[I 2022-08-15 23:50:45,637]\u001b[0m Trial 40 finished with value: 7156.913793103448 and parameters: {'kErase': 3, 'kRadius': 2, 'kAnnealingA': 3.2975086196371257, 'kAnnealingB': 2.129552387697456, 'kAnnealingStart': 11.201277734171597, 'kSkipRatio': 0.6932080214285645, 'kTargetDeterminationTrials': 5, 'kAttractionRatio': 0.4412760426196665, 'kMaxAttractionDistance': 45, 'kStartAttraction': 0.001551113703562695}. Best is trial 30 with value: 8412.954022988506.\u001b[0m\n"
     ]
    },
    {
     "name": "stdout",
     "output_type": "stream",
     "text": [
      "index_parallel='0041'\n"
     ]
    },
    {
     "name": "stderr",
     "output_type": "stream",
     "text": [
      "\u001b[32m[I 2022-08-15 23:54:09,401]\u001b[0m Trial 41 finished with value: 8323.82183908046 and parameters: {'kErase': 2, 'kRadius': 2, 'kAnnealingA': -0.2232520125821717, 'kAnnealingB': 1.8026750015216138, 'kAnnealingStart': 6.71528716502681, 'kSkipRatio': 0.7710545816816736, 'kTargetDeterminationTrials': 19, 'kAttractionRatio': 0.6803296085613183, 'kMaxAttractionDistance': 27, 'kStartAttraction': 0.5918026761642469}. Best is trial 30 with value: 8412.954022988506.\u001b[0m\n"
     ]
    },
    {
     "name": "stdout",
     "output_type": "stream",
     "text": [
      "index_parallel='0042'\n"
     ]
    },
    {
     "name": "stderr",
     "output_type": "stream",
     "text": [
      "\u001b[32m[I 2022-08-15 23:57:33,187]\u001b[0m Trial 42 finished with value: 7359.591954022989 and parameters: {'kErase': 2, 'kRadius': 2, 'kAnnealingA': 0.6432511532305578, 'kAnnealingB': 1.868450952430266, 'kAnnealingStart': 19.618231427076946, 'kSkipRatio': 0.7719915844097662, 'kTargetDeterminationTrials': 15, 'kAttractionRatio': 0.7311417467860541, 'kMaxAttractionDistance': 24, 'kStartAttraction': 0.6952925182435246}. Best is trial 30 with value: 8412.954022988506.\u001b[0m\n"
     ]
    },
    {
     "name": "stdout",
     "output_type": "stream",
     "text": [
      "index_parallel='0043'\n"
     ]
    },
    {
     "name": "stderr",
     "output_type": "stream",
     "text": [
      "\u001b[32m[I 2022-08-16 00:00:56,823]\u001b[0m Trial 43 finished with value: 8287.913793103447 and parameters: {'kErase': 2, 'kRadius': 3, 'kAnnealingA': -2.006983794465163, 'kAnnealingB': 1.6409810327502734, 'kAnnealingStart': 2.8434291567301804, 'kSkipRatio': 0.6448105462019988, 'kTargetDeterminationTrials': 19, 'kAttractionRatio': 0.2903926002481858, 'kMaxAttractionDistance': 34, 'kStartAttraction': 0.42433963088321175}. Best is trial 30 with value: 8412.954022988506.\u001b[0m\n"
     ]
    },
    {
     "name": "stdout",
     "output_type": "stream",
     "text": [
      "index_parallel='0044'\n"
     ]
    },
    {
     "name": "stderr",
     "output_type": "stream",
     "text": [
      "\u001b[32m[I 2022-08-16 00:04:20,584]\u001b[0m Trial 44 finished with value: 8066.770114942528 and parameters: {'kErase': 2, 'kRadius': 2, 'kAnnealingA': 7.593113440392548, 'kAnnealingB': 2.167464683404921, 'kAnnealingStart': 1.1643386164121055, 'kSkipRatio': 0.743086765416267, 'kTargetDeterminationTrials': 13, 'kAttractionRatio': 0.49782460140683094, 'kMaxAttractionDistance': 58, 'kStartAttraction': 0.8062937045609648}. Best is trial 30 with value: 8412.954022988506.\u001b[0m\n"
     ]
    },
    {
     "name": "stdout",
     "output_type": "stream",
     "text": [
      "index_parallel='0045'\n"
     ]
    },
    {
     "name": "stderr",
     "output_type": "stream",
     "text": [
      "\u001b[32m[I 2022-08-16 00:07:44,185]\u001b[0m Trial 45 finished with value: 7421.959770114942 and parameters: {'kErase': 2, 'kRadius': 3, 'kAnnealingA': -1.0776342234705378, 'kAnnealingB': 2.4582526921759174, 'kAnnealingStart': 1.9404567505968693, 'kSkipRatio': 0.7247191627667733, 'kTargetDeterminationTrials': 15, 'kAttractionRatio': 0.7330950353589448, 'kMaxAttractionDistance': 18, 'kStartAttraction': 0.008172207839930695}. Best is trial 30 with value: 8412.954022988506.\u001b[0m\n"
     ]
    },
    {
     "name": "stdout",
     "output_type": "stream",
     "text": [
      "index_parallel='0046'\n"
     ]
    },
    {
     "name": "stderr",
     "output_type": "stream",
     "text": [
      "\u001b[32m[I 2022-08-16 00:11:08,016]\u001b[0m Trial 46 finished with value: 8290.867816091954 and parameters: {'kErase': 2, 'kRadius': 3, 'kAnnealingA': 0.8848702037302258, 'kAnnealingB': 1.9329284685514534, 'kAnnealingStart': 7.3710783297950435, 'kSkipRatio': 0.798371439680748, 'kTargetDeterminationTrials': 7, 'kAttractionRatio': 0.19865630378653978, 'kMaxAttractionDistance': 22, 'kStartAttraction': 0.5790078525491482}. Best is trial 30 with value: 8412.954022988506.\u001b[0m\n"
     ]
    },
    {
     "name": "stdout",
     "output_type": "stream",
     "text": [
      "index_parallel='0047'\n"
     ]
    },
    {
     "name": "stderr",
     "output_type": "stream",
     "text": [
      "\u001b[32m[I 2022-08-16 00:14:31,886]\u001b[0m Trial 47 finished with value: 8161.0 and parameters: {'kErase': 2, 'kRadius': 2, 'kAnnealingA': 5.141155366946222, 'kAnnealingB': 2.8336853441575993, 'kAnnealingStart': 1.5357163248194758, 'kSkipRatio': 0.6182739767810737, 'kTargetDeterminationTrials': 4, 'kAttractionRatio': 0.3451532961534588, 'kMaxAttractionDistance': 29, 'kStartAttraction': 0.22719030329679069}. Best is trial 30 with value: 8412.954022988506.\u001b[0m\n"
     ]
    },
    {
     "name": "stdout",
     "output_type": "stream",
     "text": [
      "index_parallel='0048'\n"
     ]
    },
    {
     "name": "stderr",
     "output_type": "stream",
     "text": [
      "\u001b[32m[I 2022-08-16 00:17:55,692]\u001b[0m Trial 48 finished with value: 8014.522988505747 and parameters: {'kErase': 3, 'kRadius': 3, 'kAnnealingA': 2.6551678690679767, 'kAnnealingB': 1.7436321971852322, 'kAnnealingStart': 4.601412319015186, 'kSkipRatio': 0.7705505757165695, 'kTargetDeterminationTrials': 10, 'kAttractionRatio': 0.6200296634594571, 'kMaxAttractionDistance': 37, 'kStartAttraction': 0.3749520350164574}. Best is trial 30 with value: 8412.954022988506.\u001b[0m\n"
     ]
    },
    {
     "name": "stdout",
     "output_type": "stream",
     "text": [
      "index_parallel='0049'\n"
     ]
    },
    {
     "name": "stderr",
     "output_type": "stream",
     "text": [
      "\u001b[32m[I 2022-08-16 00:21:19,861]\u001b[0m Trial 49 finished with value: 5551.040229885058 and parameters: {'kErase': 4, 'kRadius': 2, 'kAnnealingA': 10.358589288067268, 'kAnnealingB': 1.5273353778095682, 'kAnnealingStart': 91.33940153883174, 'kSkipRatio': 0.7261112468061621, 'kTargetDeterminationTrials': 17, 'kAttractionRatio': 0.8709811830445525, 'kMaxAttractionDistance': 25, 'kStartAttraction': 0.5995377061705441}. Best is trial 30 with value: 8412.954022988506.\u001b[0m\n"
     ]
    },
    {
     "name": "stdout",
     "output_type": "stream",
     "text": [
      "index_parallel='0050'\n"
     ]
    },
    {
     "name": "stderr",
     "output_type": "stream",
     "text": [
      "\u001b[32m[I 2022-08-16 00:24:43,827]\u001b[0m Trial 50 finished with value: 8047.816091954023 and parameters: {'kErase': 2, 'kRadius': 3, 'kAnnealingA': 6.728196536197446, 'kAnnealingB': 1.9826950264829435, 'kAnnealingStart': 2.1633693443723834, 'kSkipRatio': 0.7035125505228165, 'kTargetDeterminationTrials': 7, 'kAttractionRatio': 0.4551647603386319, 'kMaxAttractionDistance': 18, 'kStartAttraction': 0.14855211899200255}. Best is trial 30 with value: 8412.954022988506.\u001b[0m\n"
     ]
    },
    {
     "name": "stdout",
     "output_type": "stream",
     "text": [
      "index_parallel='0051'\n"
     ]
    },
    {
     "name": "stderr",
     "output_type": "stream",
     "text": [
      "\u001b[32m[I 2022-08-16 00:28:07,653]\u001b[0m Trial 51 finished with value: 8226.833333333334 and parameters: {'kErase': 2, 'kRadius': 3, 'kAnnealingA': 0.9548720451458181, 'kAnnealingB': 1.862754661542917, 'kAnnealingStart': 9.786263253969086, 'kSkipRatio': 0.7991900580969593, 'kTargetDeterminationTrials': 7, 'kAttractionRatio': 0.24653208076620278, 'kMaxAttractionDistance': 20, 'kStartAttraction': 0.45338815500821317}. Best is trial 30 with value: 8412.954022988506.\u001b[0m\n"
     ]
    },
    {
     "name": "stdout",
     "output_type": "stream",
     "text": [
      "index_parallel='0052'\n"
     ]
    },
    {
     "name": "stderr",
     "output_type": "stream",
     "text": [
      "\u001b[32m[I 2022-08-16 00:31:31,605]\u001b[0m Trial 52 finished with value: 8345.534482758621 and parameters: {'kErase': 2, 'kRadius': 4, 'kAnnealingA': 0.1401468239575348, 'kAnnealingB': 2.1211426735030896, 'kAnnealingStart': 6.854271372059107, 'kSkipRatio': 0.7660577584376603, 'kTargetDeterminationTrials': 5, 'kAttractionRatio': 0.1837625684831723, 'kMaxAttractionDistance': 23, 'kStartAttraction': 0.6819613828566607}. Best is trial 30 with value: 8412.954022988506.\u001b[0m\n"
     ]
    },
    {
     "name": "stdout",
     "output_type": "stream",
     "text": [
      "index_parallel='0053'\n"
     ]
    },
    {
     "name": "stderr",
     "output_type": "stream",
     "text": [
      "\u001b[32m[I 2022-08-16 00:34:55,211]\u001b[0m Trial 53 finished with value: 8226.534482758621 and parameters: {'kErase': 2, 'kRadius': 4, 'kAnnealingA': -1.7584692243276383, 'kAnnealingB': 2.1437055814923758, 'kAnnealingStart': 12.992789428890383, 'kSkipRatio': 0.7652123986425251, 'kTargetDeterminationTrials': 5, 'kAttractionRatio': 0.7321350414172525, 'kMaxAttractionDistance': 31, 'kStartAttraction': 0.8237234932522676}. Best is trial 30 with value: 8412.954022988506.\u001b[0m\n"
     ]
    },
    {
     "name": "stdout",
     "output_type": "stream",
     "text": [
      "index_parallel='0054'\n"
     ]
    },
    {
     "name": "stderr",
     "output_type": "stream",
     "text": [
      "\u001b[32m[I 2022-08-16 00:38:19,358]\u001b[0m Trial 54 finished with value: 8423.045977011494 and parameters: {'kErase': 2, 'kRadius': 4, 'kAnnealingA': -0.6083689432487751, 'kAnnealingB': 2.4071328941158856, 'kAnnealingStart': 6.342274243992704, 'kSkipRatio': 0.6881906421712153, 'kTargetDeterminationTrials': 4, 'kAttractionRatio': 0.547522500899067, 'kMaxAttractionDistance': 44, 'kStartAttraction': 0.6601243120547148}. Best is trial 54 with value: 8423.045977011494.\u001b[0m\n"
     ]
    },
    {
     "name": "stdout",
     "output_type": "stream",
     "text": [
      "Updated! 8423.045977011494\n",
      "index_parallel='0055'\n"
     ]
    },
    {
     "name": "stderr",
     "output_type": "stream",
     "text": [
      "\u001b[32m[I 2022-08-16 00:41:43,791]\u001b[0m Trial 55 finished with value: 7232.609195402299 and parameters: {'kErase': 2, 'kRadius': 4, 'kAnnealingA': -5.139740347709104, 'kAnnealingB': 2.4022426489612436, 'kAnnealingStart': 62.93127028164722, 'kSkipRatio': 0.6892019737248245, 'kTargetDeterminationTrials': 4, 'kAttractionRatio': 0.5689034272659556, 'kMaxAttractionDistance': 24, 'kStartAttraction': 0.26139389351972125}. Best is trial 54 with value: 8423.045977011494.\u001b[0m\n"
     ]
    },
    {
     "name": "stdout",
     "output_type": "stream",
     "text": [
      "index_parallel='0056'\n"
     ]
    },
    {
     "name": "stderr",
     "output_type": "stream",
     "text": [
      "\u001b[32m[I 2022-08-16 00:45:07,329]\u001b[0m Trial 56 finished with value: 8134.936781609195 and parameters: {'kErase': 1, 'kRadius': 4, 'kAnnealingA': -5.750734069357527, 'kAnnealingB': 2.274385056348659, 'kAnnealingStart': 6.446644257048377, 'kSkipRatio': 0.6341709185277928, 'kTargetDeterminationTrials': 3, 'kAttractionRatio': 0.3257717624198844, 'kMaxAttractionDistance': 42, 'kStartAttraction': 0.3823108143667672}. Best is trial 54 with value: 8423.045977011494.\u001b[0m\n"
     ]
    },
    {
     "name": "stdout",
     "output_type": "stream",
     "text": [
      "index_parallel='0057'\n"
     ]
    },
    {
     "name": "stderr",
     "output_type": "stream",
     "text": [
      "\u001b[32m[I 2022-08-16 00:48:31,433]\u001b[0m Trial 57 finished with value: 7303.109195402299 and parameters: {'kErase': 3, 'kRadius': 4, 'kAnnealingA': -0.2242486721837813, 'kAnnealingB': 2.6775830751529988, 'kAnnealingStart': 9.320699539291446, 'kSkipRatio': 0.5821649316082306, 'kTargetDeterminationTrials': 5, 'kAttractionRatio': 0.1961285902296933, 'kMaxAttractionDistance': 17, 'kStartAttraction': 0.0030004041501429674}. Best is trial 54 with value: 8423.045977011494.\u001b[0m\n"
     ]
    },
    {
     "name": "stdout",
     "output_type": "stream",
     "text": [
      "index_parallel='0058'\n"
     ]
    },
    {
     "name": "stderr",
     "output_type": "stream",
     "text": [
      "\u001b[32m[I 2022-08-16 00:51:55,357]\u001b[0m Trial 58 finished with value: 8364.367816091954 and parameters: {'kErase': 2, 'kRadius': 4, 'kAnnealingA': 3.095677859050461, 'kAnnealingB': 2.54741876645503, 'kAnnealingStart': 3.9547511633007324, 'kSkipRatio': 0.7349346005359312, 'kTargetDeterminationTrials': 4, 'kAttractionRatio': 0.4204629940070891, 'kMaxAttractionDistance': 35, 'kStartAttraction': 0.6653022371778387}. Best is trial 54 with value: 8423.045977011494.\u001b[0m\n"
     ]
    },
    {
     "name": "stdout",
     "output_type": "stream",
     "text": [
      "index_parallel='0059'\n"
     ]
    },
    {
     "name": "stderr",
     "output_type": "stream",
     "text": [
      "\u001b[32m[I 2022-08-16 00:55:18,750]\u001b[0m Trial 59 finished with value: 7871.885057471264 and parameters: {'kErase': 1, 'kRadius': 4, 'kAnnealingA': 2.929844512680573, 'kAnnealingB': 2.9860877192296362, 'kAnnealingStart': 5.706172876312922, 'kSkipRatio': 0.7423750724014645, 'kTargetDeterminationTrials': 6, 'kAttractionRatio': 0.43979262929615565, 'kMaxAttractionDistance': 34, 'kStartAttraction': 0.013866077963945352}. Best is trial 54 with value: 8423.045977011494.\u001b[0m\n"
     ]
    },
    {
     "name": "stdout",
     "output_type": "stream",
     "text": [
      "index_parallel='0060'\n"
     ]
    },
    {
     "name": "stderr",
     "output_type": "stream",
     "text": [
      "\u001b[32m[I 2022-08-16 00:58:42,639]\u001b[0m Trial 60 finished with value: 8143.35632183908 and parameters: {'kErase': 2, 'kRadius': 4, 'kAnnealingA': -0.43704618879878243, 'kAnnealingB': 2.550975605259506, 'kAnnealingStart': 4.200324966078346, 'kSkipRatio': 0.6836073031681477, 'kTargetDeterminationTrials': 3, 'kAttractionRatio': 0.12399065834179439, 'kMaxAttractionDistance': 53, 'kStartAttraction': 0.683429220825883}. Best is trial 54 with value: 8423.045977011494.\u001b[0m\n"
     ]
    },
    {
     "name": "stdout",
     "output_type": "stream",
     "text": [
      "index_parallel='0061'\n"
     ]
    },
    {
     "name": "stderr",
     "output_type": "stream",
     "text": [
      "\u001b[32m[I 2022-08-16 01:02:06,637]\u001b[0m Trial 61 finished with value: 8390.827586206897 and parameters: {'kErase': 2, 'kRadius': 4, 'kAnnealingA': 1.744061273340181, 'kAnnealingB': 2.8104196393417444, 'kAnnealingStart': 7.226385145548383, 'kSkipRatio': 0.7254349437430831, 'kTargetDeterminationTrials': 4, 'kAttractionRatio': 0.6840246955214907, 'kMaxAttractionDistance': 30, 'kStartAttraction': 0.8722196077714316}. Best is trial 54 with value: 8423.045977011494.\u001b[0m\n"
     ]
    },
    {
     "name": "stdout",
     "output_type": "stream",
     "text": [
      "index_parallel='0062'\n"
     ]
    },
    {
     "name": "stderr",
     "output_type": "stream",
     "text": [
      "\u001b[32m[I 2022-08-16 01:05:30,457]\u001b[0m Trial 62 finished with value: 8383.402298850575 and parameters: {'kErase': 2, 'kRadius': 4, 'kAnnealingA': -1.9124707510042258, 'kAnnealingB': 2.8134176179850097, 'kAnnealingStart': 7.180068885466208, 'kSkipRatio': 0.718588131740652, 'kTargetDeterminationTrials': 4, 'kAttractionRatio': 0.5383055098984726, 'kMaxAttractionDistance': 30, 'kStartAttraction': 0.8197198853137051}. Best is trial 54 with value: 8423.045977011494.\u001b[0m\n"
     ]
    },
    {
     "name": "stdout",
     "output_type": "stream",
     "text": [
      "index_parallel='0063'\n"
     ]
    },
    {
     "name": "stderr",
     "output_type": "stream",
     "text": [
      "\u001b[32m[I 2022-08-16 01:08:54,112]\u001b[0m Trial 63 finished with value: 8386.252873563219 and parameters: {'kErase': 2, 'kRadius': 4, 'kAnnealingA': -1.8350080899960655, 'kAnnealingB': 2.8372330250193687, 'kAnnealingStart': 7.678557595007895, 'kSkipRatio': 0.712144462066532, 'kTargetDeterminationTrials': 4, 'kAttractionRatio': 0.5439695247896198, 'kMaxAttractionDistance': 22, 'kStartAttraction': 0.8125538747767143}. Best is trial 54 with value: 8423.045977011494.\u001b[0m\n"
     ]
    },
    {
     "name": "stdout",
     "output_type": "stream",
     "text": [
      "index_parallel='0064'\n"
     ]
    },
    {
     "name": "stderr",
     "output_type": "stream",
     "text": [
      "\u001b[32m[I 2022-08-16 01:12:18,065]\u001b[0m Trial 64 finished with value: 8061.258620689655 and parameters: {'kErase': 2, 'kRadius': 4, 'kAnnealingA': -2.3958394051337586, 'kAnnealingB': 2.8310310305779467, 'kAnnealingStart': 12.600938190598054, 'kSkipRatio': 0.7087763950900304, 'kTargetDeterminationTrials': 4, 'kAttractionRatio': 0.5119914331525446, 'kMaxAttractionDistance': 30, 'kStartAttraction': 0.8992137468422118}. Best is trial 54 with value: 8423.045977011494.\u001b[0m\n"
     ]
    },
    {
     "name": "stdout",
     "output_type": "stream",
     "text": [
      "index_parallel='0065'\n"
     ]
    },
    {
     "name": "stderr",
     "output_type": "stream",
     "text": [
      "\u001b[32m[I 2022-08-16 01:15:41,489]\u001b[0m Trial 65 finished with value: 8281.477011494253 and parameters: {'kErase': 1, 'kRadius': 4, 'kAnnealingA': -3.551468204110387, 'kAnnealingB': 2.8017440347247904, 'kAnnealingStart': 8.224194389875636, 'kSkipRatio': 0.6454282321308094, 'kTargetDeterminationTrials': 3, 'kAttractionRatio': 0.39859547632148495, 'kMaxAttractionDistance': 36, 'kStartAttraction': 0.4598256150886474}. Best is trial 54 with value: 8423.045977011494.\u001b[0m\n"
     ]
    },
    {
     "name": "stdout",
     "output_type": "stream",
     "text": [
      "index_parallel='0066'\n"
     ]
    },
    {
     "name": "stderr",
     "output_type": "stream",
     "text": [
      "\u001b[32m[I 2022-08-16 01:19:05,343]\u001b[0m Trial 66 finished with value: 8403.419540229885 and parameters: {'kErase': 2, 'kRadius': 5, 'kAnnealingA': 1.7983542619831052, 'kAnnealingB': 2.7590248391149426, 'kAnnealingStart': 3.2093523665075, 'kSkipRatio': 0.6825416138544983, 'kTargetDeterminationTrials': 4, 'kAttractionRatio': 0.2924539285011493, 'kMaxAttractionDistance': 21, 'kStartAttraction': 0.32343310651675133}. Best is trial 54 with value: 8423.045977011494.\u001b[0m\n"
     ]
    },
    {
     "name": "stdout",
     "output_type": "stream",
     "text": [
      "index_parallel='0067'\n"
     ]
    },
    {
     "name": "stderr",
     "output_type": "stream",
     "text": [
      "\u001b[32m[I 2022-08-16 01:22:29,316]\u001b[0m Trial 67 finished with value: 7765.69540229885 and parameters: {'kErase': 2, 'kRadius': 5, 'kAnnealingA': -1.354948846801124, 'kAnnealingB': 2.7348502119558473, 'kAnnealingStart': 15.895767812604824, 'kSkipRatio': 0.608381597951106, 'kTargetDeterminationTrials': 6, 'kAttractionRatio': 0.3025576522649395, 'kMaxAttractionDistance': 20, 'kStartAttraction': 0.3085148893212341}. Best is trial 54 with value: 8423.045977011494.\u001b[0m\n"
     ]
    },
    {
     "name": "stdout",
     "output_type": "stream",
     "text": [
      "index_parallel='0068'\n"
     ]
    },
    {
     "name": "stderr",
     "output_type": "stream",
     "text": [
      "\u001b[32m[I 2022-08-16 01:25:53,170]\u001b[0m Trial 68 finished with value: 8432.6091954023 and parameters: {'kErase': 2, 'kRadius': 5, 'kAnnealingA': 1.8732525676009983, 'kAnnealingB': 2.937712214306621, 'kAnnealingStart': 5.240854661062911, 'kSkipRatio': 0.674088233247117, 'kTargetDeterminationTrials': 3, 'kAttractionRatio': 0.5649594296448289, 'kMaxAttractionDistance': 16, 'kStartAttraction': 0.38557894167913914}. Best is trial 68 with value: 8432.6091954023.\u001b[0m\n"
     ]
    },
    {
     "name": "stdout",
     "output_type": "stream",
     "text": [
      "Updated! 8432.6091954023\n",
      "index_parallel='0069'\n"
     ]
    },
    {
     "name": "stderr",
     "output_type": "stream",
     "text": [
      "\u001b[32m[I 2022-08-16 01:29:16,737]\u001b[0m Trial 69 finished with value: 8382.201149425287 and parameters: {'kErase': 1, 'kRadius': 5, 'kAnnealingA': 1.681801215499919, 'kAnnealingB': 2.95336920601332, 'kAnnealingStart': 3.1689378222432603, 'kSkipRatio': 0.6848750806556287, 'kTargetDeterminationTrials': 3, 'kAttractionRatio': 0.5459129876359222, 'kMaxAttractionDistance': 15, 'kStartAttraction': 0.2387349473318185}. Best is trial 68 with value: 8432.6091954023.\u001b[0m\n"
     ]
    },
    {
     "name": "stdout",
     "output_type": "stream",
     "text": [
      "index_parallel='0070'\n"
     ]
    },
    {
     "name": "stderr",
     "output_type": "stream",
     "text": [
      "\u001b[32m[I 2022-08-16 01:32:40,617]\u001b[0m Trial 70 finished with value: 8065.551724137931 and parameters: {'kErase': 3, 'kRadius': 5, 'kAnnealingA': 2.3103530783140593, 'kAnnealingB': 2.8849743728302593, 'kAnnealingStart': 5.511882635550287, 'kSkipRatio': 0.6683923765993202, 'kTargetDeterminationTrials': 5, 'kAttractionRatio': 0.2571824323806098, 'kMaxAttractionDistance': 16, 'kStartAttraction': 0.35706420274879214}. Best is trial 68 with value: 8432.6091954023.\u001b[0m\n"
     ]
    },
    {
     "name": "stdout",
     "output_type": "stream",
     "text": [
      "index_parallel='0071'\n"
     ]
    },
    {
     "name": "stderr",
     "output_type": "stream",
     "text": [
      "\u001b[32m[I 2022-08-16 01:36:03,934]\u001b[0m Trial 71 finished with value: 8288.16091954023 and parameters: {'kErase': 1, 'kRadius': 5, 'kAnnealingA': 1.686311914793151, 'kAnnealingB': 2.925548201941784, 'kAnnealingStart': 2.9652586040422233, 'kSkipRatio': 0.681161867933637, 'kTargetDeterminationTrials': 3, 'kAttractionRatio': 0.5622703183093524, 'kMaxAttractionDistance': 13, 'kStartAttraction': 0.26134745999352965}. Best is trial 68 with value: 8432.6091954023.\u001b[0m\n"
     ]
    },
    {
     "name": "stdout",
     "output_type": "stream",
     "text": [
      "index_parallel='0072'\n"
     ]
    },
    {
     "name": "stderr",
     "output_type": "stream",
     "text": [
      "\u001b[32m[I 2022-08-16 01:39:27,485]\u001b[0m Trial 72 finished with value: 8449.132183908046 and parameters: {'kErase': 1, 'kRadius': 5, 'kAnnealingA': 4.008662480299757, 'kAnnealingB': 2.7386728811037804, 'kAnnealingStart': 5.01961679172716, 'kSkipRatio': 0.7131317985530636, 'kTargetDeterminationTrials': 3, 'kAttractionRatio': 0.4860861853685387, 'kMaxAttractionDistance': 15, 'kStartAttraction': 0.19409089126092624}. Best is trial 72 with value: 8449.132183908046.\u001b[0m\n"
     ]
    },
    {
     "name": "stdout",
     "output_type": "stream",
     "text": [
      "Updated! 8449.132183908046\n",
      "index_parallel='0073'\n"
     ]
    },
    {
     "name": "stderr",
     "output_type": "stream",
     "text": [
      "\u001b[32m[I 2022-08-16 01:42:50,993]\u001b[0m Trial 73 finished with value: 8129.4885057471265 and parameters: {'kErase': 1, 'kRadius': 5, 'kAnnealingA': -2.840470557276887, 'kAnnealingB': 2.6292831373960426, 'kAnnealingStart': 4.836502489203456, 'kSkipRatio': 0.7123287702020128, 'kTargetDeterminationTrials': 4, 'kAttractionRatio': 0.6423981963655548, 'kMaxAttractionDistance': 21, 'kStartAttraction': 0.17152770569567888}. Best is trial 72 with value: 8449.132183908046.\u001b[0m\n"
     ]
    },
    {
     "name": "stdout",
     "output_type": "stream",
     "text": [
      "index_parallel='0074'\n"
     ]
    },
    {
     "name": "stderr",
     "output_type": "stream",
     "text": [
      "\u001b[32m[I 2022-08-16 01:46:14,706]\u001b[0m Trial 74 finished with value: 8071.873563218391 and parameters: {'kErase': 2, 'kRadius': 5, 'kAnnealingA': 5.40765269451607, 'kAnnealingB': 2.7322211052117433, 'kAnnealingStart': 8.042165035040629, 'kSkipRatio': 0.5606154975333719, 'kTargetDeterminationTrials': 5, 'kAttractionRatio': 0.4878573856027778, 'kMaxAttractionDistance': 9, 'kStartAttraction': 0.7640944274398711}. Best is trial 72 with value: 8449.132183908046.\u001b[0m\n"
     ]
    },
    {
     "name": "stdout",
     "output_type": "stream",
     "text": [
      "index_parallel='0075'\n"
     ]
    },
    {
     "name": "stderr",
     "output_type": "stream",
     "text": [
      "\u001b[32m[I 2022-08-16 01:49:38,315]\u001b[0m Trial 75 finished with value: 8543.097701149425 and parameters: {'kErase': 2, 'kRadius': 5, 'kAnnealingA': 3.9871773028259536, 'kAnnealingB': 2.611771987828061, 'kAnnealingStart': 6.058614388266098, 'kSkipRatio': 0.746062743469403, 'kTargetDeterminationTrials': 4, 'kAttractionRatio': 0.353487140827818, 'kMaxAttractionDistance': 17, 'kStartAttraction': 0.4364962673444704}. Best is trial 75 with value: 8543.097701149425.\u001b[0m\n"
     ]
    },
    {
     "name": "stdout",
     "output_type": "stream",
     "text": [
      "Updated! 8543.097701149425\n",
      "index_parallel='0076'\n"
     ]
    },
    {
     "name": "stderr",
     "output_type": "stream",
     "text": [
      "\u001b[32m[I 2022-08-16 01:53:02,404]\u001b[0m Trial 76 finished with value: 7647.494252873563 and parameters: {'kErase': 3, 'kRadius': 5, 'kAnnealingA': 3.9784408203445385, 'kAnnealingB': 2.3761187901472174, 'kAnnealingStart': 5.784593837646881, 'kSkipRatio': 0.7496969359138286, 'kTargetDeterminationTrials': 3, 'kAttractionRatio': 0.3255885645500885, 'kMaxAttractionDistance': 13, 'kStartAttraction': 0.043115980622465126}. Best is trial 75 with value: 8543.097701149425.\u001b[0m\n"
     ]
    },
    {
     "name": "stdout",
     "output_type": "stream",
     "text": [
      "index_parallel='0077'\n"
     ]
    },
    {
     "name": "stderr",
     "output_type": "stream",
     "text": [
      "\u001b[32m[I 2022-08-16 01:56:26,114]\u001b[0m Trial 77 finished with value: 8336.431034482759 and parameters: {'kErase': 1, 'kRadius': 6, 'kAnnealingA': 6.476128766454615, 'kAnnealingB': 2.6957166312536365, 'kAnnealingStart': 4.603297162111328, 'kSkipRatio': 0.7302652821914428, 'kTargetDeterminationTrials': 6, 'kAttractionRatio': 0.37141383691587726, 'kMaxAttractionDistance': 18, 'kStartAttraction': 0.20119961279868054}. Best is trial 75 with value: 8543.097701149425.\u001b[0m\n"
     ]
    },
    {
     "name": "stdout",
     "output_type": "stream",
     "text": [
      "index_parallel='0078'\n"
     ]
    },
    {
     "name": "stderr",
     "output_type": "stream",
     "text": [
      "\u001b[32m[I 2022-08-16 01:59:49,687]\u001b[0m Trial 78 finished with value: 8040.724137931034 and parameters: {'kErase': 2, 'kRadius': 5, 'kAnnealingA': 3.667416143883439, 'kAnnealingB': 2.5990182982381116, 'kAnnealingStart': 10.86282642080446, 'kSkipRatio': 0.6987379503189177, 'kTargetDeterminationTrials': 5, 'kAttractionRatio': 0.7760185414669845, 'kMaxAttractionDistance': 14, 'kStartAttraction': 0.39754807443053747}. Best is trial 75 with value: 8543.097701149425.\u001b[0m\n"
     ]
    },
    {
     "name": "stdout",
     "output_type": "stream",
     "text": [
      "index_parallel='0079'\n"
     ]
    },
    {
     "name": "stderr",
     "output_type": "stream",
     "text": [
      "\u001b[32m[I 2022-08-16 02:03:13,644]\u001b[0m Trial 79 finished with value: 8508.097701149425 and parameters: {'kErase': 2, 'kRadius': 5, 'kAnnealingA': 4.730243538842105, 'kAnnealingB': 2.9959004375614353, 'kAnnealingStart': 3.4202121901717146, 'kSkipRatio': 0.6588014319366352, 'kTargetDeterminationTrials': 7, 'kAttractionRatio': 0.6084839510442176, 'kMaxAttractionDistance': 16, 'kStartAttraction': 0.4637217447686831}. Best is trial 75 with value: 8543.097701149425.\u001b[0m\n"
     ]
    },
    {
     "name": "stdout",
     "output_type": "stream",
     "text": [
      "index_parallel='0080'\n"
     ]
    },
    {
     "name": "stderr",
     "output_type": "stream",
     "text": [
      "\u001b[32m[I 2022-08-16 02:06:37,832]\u001b[0m Trial 80 finished with value: 7840.373563218391 and parameters: {'kErase': 3, 'kRadius': 5, 'kAnnealingA': 4.819337114371851, 'kAnnealingB': 2.768439190488862, 'kAnnealingStart': 3.411108905372911, 'kSkipRatio': 0.6241834430069331, 'kTargetDeterminationTrials': 7, 'kAttractionRatio': 0.6778905436733055, 'kMaxAttractionDistance': 12, 'kStartAttraction': 0.09879804362297852}. Best is trial 75 with value: 8543.097701149425.\u001b[0m\n"
     ]
    },
    {
     "name": "stdout",
     "output_type": "stream",
     "text": [
      "index_parallel='0081'\n"
     ]
    },
    {
     "name": "stderr",
     "output_type": "stream",
     "text": [
      "\u001b[32m[I 2022-08-16 02:10:01,920]\u001b[0m Trial 81 finished with value: 8369.327586206897 and parameters: {'kErase': 2, 'kRadius': 5, 'kAnnealingA': 5.514188588857971, 'kAnnealingB': 2.88813379043912, 'kAnnealingStart': 5.212322458196023, 'kSkipRatio': 0.6539938154194963, 'kTargetDeterminationTrials': 4, 'kAttractionRatio': 0.4677132641945845, 'kMaxAttractionDistance': 16, 'kStartAttraction': 0.32440349777026417}. Best is trial 75 with value: 8543.097701149425.\u001b[0m\n"
     ]
    },
    {
     "name": "stdout",
     "output_type": "stream",
     "text": [
      "index_parallel='0082'\n"
     ]
    },
    {
     "name": "stderr",
     "output_type": "stream",
     "text": [
      "\u001b[32m[I 2022-08-16 02:13:25,657]\u001b[0m Trial 82 finished with value: 8534.557471264368 and parameters: {'kErase': 2, 'kRadius': 5, 'kAnnealingA': 2.4442889033661275, 'kAnnealingB': 2.590333666698794, 'kAnnealingStart': 3.8797770100924, 'kSkipRatio': 0.664815821482462, 'kTargetDeterminationTrials': 8, 'kAttractionRatio': 0.6051618597348111, 'kMaxAttractionDistance': 19, 'kStartAttraction': 0.4611104796816907}. Best is trial 75 with value: 8543.097701149425.\u001b[0m\n"
     ]
    },
    {
     "name": "stdout",
     "output_type": "stream",
     "text": [
      "index_parallel='0083'\n"
     ]
    },
    {
     "name": "stderr",
     "output_type": "stream",
     "text": [
      "\u001b[32m[I 2022-08-16 02:16:49,533]\u001b[0m Trial 83 finished with value: 8601.01724137931 and parameters: {'kErase': 2, 'kRadius': 5, 'kAnnealingA': 2.614168246877207, 'kAnnealingB': 2.478920780805298, 'kAnnealingStart': 4.352658006989104, 'kSkipRatio': 0.6725557191223528, 'kTargetDeterminationTrials': 7, 'kAttractionRatio': 0.6069711057369761, 'kMaxAttractionDistance': 19, 'kStartAttraction': 0.4864174655756522}. Best is trial 83 with value: 8601.01724137931.\u001b[0m\n"
     ]
    },
    {
     "name": "stdout",
     "output_type": "stream",
     "text": [
      "Updated! 8601.01724137931\n",
      "index_parallel='0084'\n"
     ]
    },
    {
     "name": "stderr",
     "output_type": "stream",
     "text": [
      "\u001b[32m[I 2022-08-16 02:20:13,819]\u001b[0m Trial 84 finished with value: 7722.350574712644 and parameters: {'kErase': 4, 'kRadius': 5, 'kAnnealingA': 4.350454502995987, 'kAnnealingB': 2.4968153868105576, 'kAnnealingStart': 3.7255600582154464, 'kSkipRatio': 0.671417271494943, 'kTargetDeterminationTrials': 9, 'kAttractionRatio': 0.6172438622013315, 'kMaxAttractionDistance': 15, 'kStartAttraction': 0.4847476260611761}. Best is trial 83 with value: 8601.01724137931.\u001b[0m\n"
     ]
    },
    {
     "name": "stdout",
     "output_type": "stream",
     "text": [
      "index_parallel='0085'\n"
     ]
    },
    {
     "name": "stderr",
     "output_type": "stream",
     "text": [
      "\u001b[32m[I 2022-08-16 02:23:37,524]\u001b[0m Trial 85 finished with value: 8053.718390804598 and parameters: {'kErase': 2, 'kRadius': 6, 'kAnnealingA': 2.4561002455117493, 'kAnnealingB': 2.4231412152756824, 'kAnnealingStart': 2.5023640475008264, 'kSkipRatio': 0.6336634632765681, 'kTargetDeterminationTrials': 9, 'kAttractionRatio': 0.2287611515001634, 'kMaxAttractionDistance': 19, 'kStartAttraction': 0.14167922668928162}. Best is trial 83 with value: 8601.01724137931.\u001b[0m\n"
     ]
    },
    {
     "name": "stdout",
     "output_type": "stream",
     "text": [
      "index_parallel='0086'\n"
     ]
    },
    {
     "name": "stderr",
     "output_type": "stream",
     "text": [
      "\u001b[32m[I 2022-08-16 02:27:01,208]\u001b[0m Trial 86 finished with value: 8018.431034482759 and parameters: {'kErase': 2, 'kRadius': 5, 'kAnnealingA': 7.061303609900372, 'kAnnealingB': 2.9990338476873424, 'kAnnealingStart': 4.267372774361715, 'kSkipRatio': 0.6748367010493048, 'kTargetDeterminationTrials': 8, 'kAttractionRatio': 0.3627041354839651, 'kMaxAttractionDistance': 87, 'kStartAttraction': 0.07526823324951365}. Best is trial 83 with value: 8601.01724137931.\u001b[0m\n"
     ]
    },
    {
     "name": "stdout",
     "output_type": "stream",
     "text": [
      "index_parallel='0087'\n"
     ]
    },
    {
     "name": "stderr",
     "output_type": "stream",
     "text": [
      "\u001b[32m[I 2022-08-16 02:30:24,893]\u001b[0m Trial 87 finished with value: 8289.82183908046 and parameters: {'kErase': 2, 'kRadius': 5, 'kAnnealingA': 3.411788844141532, 'kAnnealingB': 2.6420298594619585, 'kAnnealingStart': 3.1634322141427296, 'kSkipRatio': 0.5916052206702791, 'kTargetDeterminationTrials': 8, 'kAttractionRatio': 0.7663879324497936, 'kMaxAttractionDistance': 10, 'kStartAttraction': 0.27928207655467585}. Best is trial 83 with value: 8601.01724137931.\u001b[0m\n"
     ]
    },
    {
     "name": "stdout",
     "output_type": "stream",
     "text": [
      "index_parallel='0088'\n"
     ]
    },
    {
     "name": "stderr",
     "output_type": "stream",
     "text": [
      "\u001b[32m[I 2022-08-16 02:33:48,614]\u001b[0m Trial 88 finished with value: 8370.568965517241 and parameters: {'kErase': 2, 'kRadius': 5, 'kAnnealingA': 0.9973100743946532, 'kAnnealingB': 2.567459600937789, 'kAnnealingStart': 6.235767016428207, 'kSkipRatio': 0.6589361144122426, 'kTargetDeterminationTrials': 7, 'kAttractionRatio': 0.45540220464875986, 'kMaxAttractionDistance': 12, 'kStartAttraction': 0.4171591306532336}. Best is trial 83 with value: 8601.01724137931.\u001b[0m\n"
     ]
    },
    {
     "name": "stdout",
     "output_type": "stream",
     "text": [
      "index_parallel='0089'\n"
     ]
    },
    {
     "name": "stderr",
     "output_type": "stream",
     "text": [
      "\u001b[32m[I 2022-08-16 02:37:12,428]\u001b[0m Trial 89 finished with value: 8314.396551724138 and parameters: {'kErase': 2, 'kRadius': 5, 'kAnnealingA': 6.116315388396657, 'kAnnealingB': 2.3239411711772866, 'kAnnealingStart': 3.7515929633261624, 'kSkipRatio': 0.7804098292459617, 'kTargetDeterminationTrials': 9, 'kAttractionRatio': 0.5901708032787853, 'kMaxAttractionDistance': 17, 'kStartAttraction': 0.33949134131384545}. Best is trial 83 with value: 8601.01724137931.\u001b[0m\n"
     ]
    },
    {
     "name": "stdout",
     "output_type": "stream",
     "text": [
      "index_parallel='0090'\n"
     ]
    },
    {
     "name": "stderr",
     "output_type": "stream",
     "text": [
      "\u001b[32m[I 2022-08-16 02:40:36,208]\u001b[0m Trial 90 finished with value: 8289.793103448275 and parameters: {'kErase': 1, 'kRadius': 6, 'kAnnealingA': 2.2283044093550286, 'kAnnealingB': 2.9022651489583184, 'kAnnealingStart': 2.7798403480764358, 'kSkipRatio': 0.6993685153758918, 'kTargetDeterminationTrials': 8, 'kAttractionRatio': 0.3944881076821978, 'kMaxAttractionDistance': 20, 'kStartAttraction': 0.2203232572930925}. Best is trial 83 with value: 8601.01724137931.\u001b[0m\n"
     ]
    },
    {
     "name": "stdout",
     "output_type": "stream",
     "text": [
      "index_parallel='0091'\n"
     ]
    },
    {
     "name": "stderr",
     "output_type": "stream",
     "text": [
      "\u001b[32m[I 2022-08-16 02:44:00,080]\u001b[0m Trial 91 finished with value: 8379.086206896553 and parameters: {'kErase': 2, 'kRadius': 5, 'kAnnealingA': 1.770151427376247, 'kAnnealingB': 2.6913242644723163, 'kAnnealingStart': 5.051968287391524, 'kSkipRatio': 0.752586526553508, 'kTargetDeterminationTrials': 6, 'kAttractionRatio': 0.7101577819009613, 'kMaxAttractionDistance': 14, 'kStartAttraction': 0.4892500913527332}. Best is trial 83 with value: 8601.01724137931.\u001b[0m\n"
     ]
    },
    {
     "name": "stdout",
     "output_type": "stream",
     "text": [
      "index_parallel='0092'\n"
     ]
    },
    {
     "name": "stderr",
     "output_type": "stream",
     "text": [
      "\u001b[32m[I 2022-08-16 02:47:23,944]\u001b[0m Trial 92 finished with value: 8504.0 and parameters: {'kErase': 2, 'kRadius': 5, 'kAnnealingA': 3.5738857374091437, 'kAnnealingB': 2.6301789029729514, 'kAnnealingStart': 5.941979021605148, 'kSkipRatio': 0.7344754339044145, 'kTargetDeterminationTrials': 6, 'kAttractionRatio': 0.8114565921215153, 'kMaxAttractionDistance': 17, 'kStartAttraction': 0.6322667257493886}. Best is trial 83 with value: 8601.01724137931.\u001b[0m\n"
     ]
    },
    {
     "name": "stdout",
     "output_type": "stream",
     "text": [
      "index_parallel='0093'\n"
     ]
    },
    {
     "name": "stderr",
     "output_type": "stream",
     "text": [
      "\u001b[32m[I 2022-08-16 02:50:47,981]\u001b[0m Trial 93 finished with value: 8472.293103448275 and parameters: {'kErase': 2, 'kRadius': 5, 'kAnnealingA': 4.703030777932196, 'kAnnealingB': 2.208194349494162, 'kAnnealingStart': 4.428719255191836, 'kSkipRatio': 0.6108362979901196, 'kTargetDeterminationTrials': 11, 'kAttractionRatio': 0.7997344249626348, 'kMaxAttractionDistance': 17, 'kStartAttraction': 0.5303587696280889}. Best is trial 83 with value: 8601.01724137931.\u001b[0m\n"
     ]
    },
    {
     "name": "stdout",
     "output_type": "stream",
     "text": [
      "index_parallel='0094'\n"
     ]
    },
    {
     "name": "stderr",
     "output_type": "stream",
     "text": [
      "\u001b[32m[I 2022-08-16 02:54:11,798]\u001b[0m Trial 94 finished with value: 8571.241379310344 and parameters: {'kErase': 2, 'kRadius': 5, 'kAnnealingA': 8.013612793489894, 'kAnnealingB': 2.492731124272841, 'kAnnealingStart': 4.427624074783963, 'kSkipRatio': 0.6521255186566078, 'kTargetDeterminationTrials': 12, 'kAttractionRatio': 0.8023217692893544, 'kMaxAttractionDistance': 17, 'kStartAttraction': 0.6220137972977533}. Best is trial 83 with value: 8601.01724137931.\u001b[0m\n"
     ]
    },
    {
     "name": "stdout",
     "output_type": "stream",
     "text": [
      "index_parallel='0095'\n"
     ]
    },
    {
     "name": "stderr",
     "output_type": "stream",
     "text": [
      "\u001b[32m[I 2022-08-16 02:57:35,573]\u001b[0m Trial 95 finished with value: 8485.793103448275 and parameters: {'kErase': 2, 'kRadius': 5, 'kAnnealingA': 7.968521133561437, 'kAnnealingB': 2.240275024332821, 'kAnnealingStart': 4.456892793071852, 'kSkipRatio': 0.6107772950026205, 'kTargetDeterminationTrials': 12, 'kAttractionRatio': 0.7932639750251974, 'kMaxAttractionDistance': 17, 'kStartAttraction': 0.507866263733968}. Best is trial 83 with value: 8601.01724137931.\u001b[0m\n"
     ]
    },
    {
     "name": "stdout",
     "output_type": "stream",
     "text": [
      "index_parallel='0096'\n"
     ]
    },
    {
     "name": "stderr",
     "output_type": "stream",
     "text": [
      "\u001b[32m[I 2022-08-16 03:00:59,227]\u001b[0m Trial 96 finished with value: 8654.16091954023 and parameters: {'kErase': 2, 'kRadius': 5, 'kAnnealingA': 8.144901283898637, 'kAnnealingB': 2.4853467838999674, 'kAnnealingStart': 4.360195723189979, 'kSkipRatio': 0.6010106367874005, 'kTargetDeterminationTrials': 12, 'kAttractionRatio': 0.7993830462498239, 'kMaxAttractionDistance': 17, 'kStartAttraction': 0.5437793124283788}. Best is trial 96 with value: 8654.16091954023.\u001b[0m\n"
     ]
    },
    {
     "name": "stdout",
     "output_type": "stream",
     "text": [
      "Updated! 8654.16091954023\n",
      "index_parallel='0097'\n"
     ]
    },
    {
     "name": "stderr",
     "output_type": "stream",
     "text": [
      "\u001b[32m[I 2022-08-16 03:04:23,172]\u001b[0m Trial 97 finished with value: 8467.01724137931 and parameters: {'kErase': 2, 'kRadius': 5, 'kAnnealingA': 9.620270212489107, 'kAnnealingB': 2.1883644379685987, 'kAnnealingStart': 4.628008318962772, 'kSkipRatio': 0.5987497542289069, 'kTargetDeterminationTrials': 12, 'kAttractionRatio': 0.7980426953903478, 'kMaxAttractionDistance': 13, 'kStartAttraction': 0.5321400194809816}. Best is trial 96 with value: 8654.16091954023.\u001b[0m\n"
     ]
    },
    {
     "name": "stdout",
     "output_type": "stream",
     "text": [
      "index_parallel='0098'\n"
     ]
    },
    {
     "name": "stderr",
     "output_type": "stream",
     "text": [
      "\u001b[32m[I 2022-08-16 03:07:47,121]\u001b[0m Trial 98 finished with value: 8555.172413793103 and parameters: {'kErase': 2, 'kRadius': 5, 'kAnnealingA': 10.329732669633422, 'kAnnealingB': 2.246822467079831, 'kAnnealingStart': 4.31954385206688, 'kSkipRatio': 0.5739083954268865, 'kTargetDeterminationTrials': 12, 'kAttractionRatio': 0.8061152391076547, 'kMaxAttractionDistance': 17, 'kStartAttraction': 0.5069241010639096}. Best is trial 96 with value: 8654.16091954023.\u001b[0m\n"
     ]
    },
    {
     "name": "stdout",
     "output_type": "stream",
     "text": [
      "index_parallel='0099'\n"
     ]
    },
    {
     "name": "stderr",
     "output_type": "stream",
     "text": [
      "\u001b[32m[I 2022-08-16 03:11:11,073]\u001b[0m Trial 99 finished with value: 8510.068965517241 and parameters: {'kErase': 2, 'kRadius': 5, 'kAnnealingA': 11.064900840084352, 'kAnnealingB': 2.2324381254209893, 'kAnnealingStart': 4.011879665077579, 'kSkipRatio': 0.5669775533854872, 'kTargetDeterminationTrials': 11, 'kAttractionRatio': 0.8880940203443435, 'kMaxAttractionDistance': 17, 'kStartAttraction': 0.455437896001363}. Best is trial 96 with value: 8654.16091954023.\u001b[0m\n"
     ]
    },
    {
     "name": "stdout",
     "output_type": "stream",
     "text": [
      "index_parallel='0100'\n"
     ]
    },
    {
     "name": "stderr",
     "output_type": "stream",
     "text": [
      "\u001b[32m[I 2022-08-16 03:14:35,226]\u001b[0m Trial 100 finished with value: 8452.574712643678 and parameters: {'kErase': 2, 'kRadius': 5, 'kAnnealingA': 11.677103279120747, 'kAnnealingB': 2.344590859118738, 'kAnnealingStart': 3.816890321350319, 'kSkipRatio': 0.5639326063649048, 'kTargetDeterminationTrials': 14, 'kAttractionRatio': 0.866636982041824, 'kMaxAttractionDistance': 19, 'kStartAttraction': 0.455152828611553}. Best is trial 96 with value: 8654.16091954023.\u001b[0m\n"
     ]
    },
    {
     "name": "stdout",
     "output_type": "stream",
     "text": [
      "index_parallel='0101'\n"
     ]
    },
    {
     "name": "stderr",
     "output_type": "stream",
     "text": [
      "\u001b[32m[I 2022-08-16 03:17:59,295]\u001b[0m Trial 101 finished with value: 8565.977011494253 and parameters: {'kErase': 2, 'kRadius': 5, 'kAnnealingA': 14.178416254667365, 'kAnnealingB': 2.2505376983134178, 'kAnnealingStart': 4.276133195841887, 'kSkipRatio': 0.541546302443746, 'kTargetDeterminationTrials': 11, 'kAttractionRatio': 0.8025910567994491, 'kMaxAttractionDistance': 17, 'kStartAttraction': 0.5538426826116079}. Best is trial 96 with value: 8654.16091954023.\u001b[0m\n"
     ]
    },
    {
     "name": "stdout",
     "output_type": "stream",
     "text": [
      "index_parallel='0102'\n"
     ]
    },
    {
     "name": "stderr",
     "output_type": "stream",
     "text": [
      "\u001b[32m[I 2022-08-16 03:21:23,134]\u001b[0m Trial 102 finished with value: 8499.810344827587 and parameters: {'kErase': 2, 'kRadius': 5, 'kAnnealingA': 14.213568900405448, 'kAnnealingB': 2.2739166477816344, 'kAnnealingStart': 4.18842575759929, 'kSkipRatio': 0.5439385569955377, 'kTargetDeterminationTrials': 11, 'kAttractionRatio': 0.8944148327313305, 'kMaxAttractionDistance': 17, 'kStartAttraction': 0.6209421807047786}. Best is trial 96 with value: 8654.16091954023.\u001b[0m\n"
     ]
    },
    {
     "name": "stdout",
     "output_type": "stream",
     "text": [
      "index_parallel='0103'\n"
     ]
    },
    {
     "name": "stderr",
     "output_type": "stream",
     "text": [
      "\u001b[32m[I 2022-08-16 03:24:46,976]\u001b[0m Trial 103 finished with value: 8583.356321839081 and parameters: {'kErase': 2, 'kRadius': 5, 'kAnnealingA': 13.846952573154066, 'kAnnealingB': 2.4803535502416874, 'kAnnealingStart': 3.988666224394557, 'kSkipRatio': 0.4973488020364779, 'kTargetDeterminationTrials': 11, 'kAttractionRatio': 0.8812695706339391, 'kMaxAttractionDistance': 18, 'kStartAttraction': 0.6292749763043989}. Best is trial 96 with value: 8654.16091954023.\u001b[0m\n"
     ]
    },
    {
     "name": "stdout",
     "output_type": "stream",
     "text": [
      "index_parallel='0104'\n"
     ]
    },
    {
     "name": "stderr",
     "output_type": "stream",
     "text": [
      "\u001b[32m[I 2022-08-16 03:28:10,936]\u001b[0m Trial 104 finished with value: 8494.252873563219 and parameters: {'kErase': 2, 'kRadius': 5, 'kAnnealingA': 13.143720758988051, 'kAnnealingB': 2.449223789725231, 'kAnnealingStart': 2.696949452662544, 'kSkipRatio': 0.4916380221209861, 'kTargetDeterminationTrials': 16, 'kAttractionRatio': 0.7099664355859862, 'kMaxAttractionDistance': 19, 'kStartAttraction': 0.7348463189967717}. Best is trial 96 with value: 8654.16091954023.\u001b[0m\n"
     ]
    },
    {
     "name": "stdout",
     "output_type": "stream",
     "text": [
      "index_parallel='0105'\n"
     ]
    },
    {
     "name": "stderr",
     "output_type": "stream",
     "text": [
      "\u001b[32m[I 2022-08-16 03:31:34,928]\u001b[0m Trial 105 finished with value: 8464.3908045977 and parameters: {'kErase': 2, 'kRadius': 5, 'kAnnealingA': 11.366294586669168, 'kAnnealingB': 2.488535201979199, 'kAnnealingStart': 3.519104865779283, 'kSkipRatio': 0.5123796116891227, 'kTargetDeterminationTrials': 13, 'kAttractionRatio': 0.6281782305830157, 'kMaxAttractionDistance': 22, 'kStartAttraction': 0.43491365995897724}. Best is trial 96 with value: 8654.16091954023.\u001b[0m\n"
     ]
    },
    {
     "name": "stdout",
     "output_type": "stream",
     "text": [
      "index_parallel='0106'\n"
     ]
    },
    {
     "name": "stderr",
     "output_type": "stream",
     "text": [
      "\u001b[32m[I 2022-08-16 03:34:58,998]\u001b[0m Trial 106 finished with value: 8528.494252873563 and parameters: {'kErase': 2, 'kRadius': 5, 'kAnnealingA': 14.304333190591734, 'kAnnealingB': 2.0302024491790953, 'kAnnealingStart': 3.442708769942524, 'kSkipRatio': 0.5515110759421825, 'kTargetDeterminationTrials': 10, 'kAttractionRatio': 0.8022147386143318, 'kMaxAttractionDistance': 15, 'kStartAttraction': 0.6029325392573142}. Best is trial 96 with value: 8654.16091954023.\u001b[0m\n"
     ]
    },
    {
     "name": "stdout",
     "output_type": "stream",
     "text": [
      "index_parallel='0107'\n"
     ]
    },
    {
     "name": "stderr",
     "output_type": "stream",
     "text": [
      "\u001b[32m[I 2022-08-16 03:38:22,862]\u001b[0m Trial 107 finished with value: 8419.155172413793 and parameters: {'kErase': 2, 'kRadius': 6, 'kAnnealingA': 14.912476590176174, 'kAnnealingB': 2.0805228189278977, 'kAnnealingStart': 3.983609554151511, 'kSkipRatio': 0.5305001328757174, 'kTargetDeterminationTrials': 10, 'kAttractionRatio': 0.7526744732941263, 'kMaxAttractionDistance': 15, 'kStartAttraction': 0.3681410969274544}. Best is trial 96 with value: 8654.16091954023.\u001b[0m\n"
     ]
    },
    {
     "name": "stdout",
     "output_type": "stream",
     "text": [
      "index_parallel='0108'\n"
     ]
    },
    {
     "name": "stderr",
     "output_type": "stream",
     "text": [
      "\u001b[32m[I 2022-08-16 03:41:46,817]\u001b[0m Trial 108 finished with value: 8374.718390804597 and parameters: {'kErase': 2, 'kRadius': 5, 'kAnnealingA': 13.723159554091557, 'kAnnealingB': 2.0025723848826766, 'kAnnealingStart': 3.395461677964056, 'kSkipRatio': 0.481851514674124, 'kTargetDeterminationTrials': 13, 'kAttractionRatio': 0.6357123152495436, 'kMaxAttractionDistance': 14, 'kStartAttraction': 0.5511247880273946}. Best is trial 96 with value: 8654.16091954023.\u001b[0m\n"
     ]
    },
    {
     "name": "stdout",
     "output_type": "stream",
     "text": [
      "index_parallel='0109'\n"
     ]
    },
    {
     "name": "stderr",
     "output_type": "stream",
     "text": [
      "\u001b[32m[I 2022-08-16 03:45:10,902]\u001b[0m Trial 109 finished with value: 8343.971264367816 and parameters: {'kErase': 2, 'kRadius': 5, 'kAnnealingA': 10.56399578766201, 'kAnnealingB': 2.351743091373948, 'kAnnealingStart': 2.5214175226518374, 'kSkipRatio': 0.5697748619310508, 'kTargetDeterminationTrials': 10, 'kAttractionRatio': 0.7027888577646266, 'kMaxAttractionDistance': 12, 'kStartAttraction': 0.7419238479276943}. Best is trial 96 with value: 8654.16091954023.\u001b[0m\n"
     ]
    },
    {
     "name": "stdout",
     "output_type": "stream",
     "text": [
      "index_parallel='0110'\n"
     ]
    },
    {
     "name": "stderr",
     "output_type": "stream",
     "text": [
      "\u001b[32m[I 2022-08-16 03:48:35,339]\u001b[0m Trial 110 finished with value: 6989.298850574713 and parameters: {'kErase': 5, 'kRadius': 5, 'kAnnealingA': 12.368839229112115, 'kAnnealingB': 2.520536466672567, 'kAnnealingStart': 2.262843442508551, 'kSkipRatio': 0.5504127800069872, 'kTargetDeterminationTrials': 14, 'kAttractionRatio': 0.8982714514026915, 'kMaxAttractionDistance': 18, 'kStartAttraction': 0.281060004416349}. Best is trial 96 with value: 8654.16091954023.\u001b[0m\n"
     ]
    },
    {
     "name": "stdout",
     "output_type": "stream",
     "text": [
      "index_parallel='0111'\n"
     ]
    },
    {
     "name": "stderr",
     "output_type": "stream",
     "text": [
      "\u001b[32m[I 2022-08-16 03:51:59,062]\u001b[0m Trial 111 finished with value: 8530.068965517241 and parameters: {'kErase': 2, 'kRadius': 5, 'kAnnealingA': 12.840660771740048, 'kAnnealingB': 2.623096317532231, 'kAnnealingStart': 3.0354421467419055, 'kSkipRatio': 0.5796417707560413, 'kTargetDeterminationTrials': 11, 'kAttractionRatio': 0.8079108202808912, 'kMaxAttractionDistance': 16, 'kStartAttraction': 0.6211341982125396}. Best is trial 96 with value: 8654.16091954023.\u001b[0m\n"
     ]
    },
    {
     "name": "stdout",
     "output_type": "stream",
     "text": [
      "index_parallel='0112'\n"
     ]
    },
    {
     "name": "stderr",
     "output_type": "stream",
     "text": [
      "\u001b[32m[I 2022-08-16 03:55:23,090]\u001b[0m Trial 112 finished with value: 7692.212643678161 and parameters: {'kErase': 2, 'kRadius': 5, 'kAnnealingA': 13.161782534850474, 'kAnnealingB': 2.561728250194103, 'kAnnealingStart': 4.045787687051253, 'kSkipRatio': 0.5230534231823663, 'kTargetDeterminationTrials': 11, 'kAttractionRatio': 0.8139825876148176, 'kMaxAttractionDistance': 16, 'kStartAttraction': 0.02340561142708282}. Best is trial 96 with value: 8654.16091954023.\u001b[0m\n"
     ]
    },
    {
     "name": "stdout",
     "output_type": "stream",
     "text": [
      "index_parallel='0113'\n"
     ]
    },
    {
     "name": "stderr",
     "output_type": "stream",
     "text": [
      "\u001b[32m[I 2022-08-16 03:58:47,259]\u001b[0m Trial 113 finished with value: 7956.603448275862 and parameters: {'kErase': 2, 'kRadius': 5, 'kAnnealingA': 14.265751200130387, 'kAnnealingB': 2.4163271577144196, 'kAnnealingStart': 2.9916645406563935, 'kSkipRatio': 0.5865513241144573, 'kTargetDeterminationTrials': 12, 'kAttractionRatio': 0.7388628645637443, 'kMaxAttractionDistance': 5, 'kStartAttraction': 0.4421273226049368}. Best is trial 96 with value: 8654.16091954023.\u001b[0m\n"
     ]
    },
    {
     "name": "stdout",
     "output_type": "stream",
     "text": [
      "index_parallel='0114'\n"
     ]
    },
    {
     "name": "stderr",
     "output_type": "stream",
     "text": [
      "\u001b[32m[I 2022-08-16 04:02:10,921]\u001b[0m Trial 114 finished with value: 8577.281609195403 and parameters: {'kErase': 2, 'kRadius': 5, 'kAnnealingA': 12.088800295808232, 'kAnnealingB': 2.2977519249706346, 'kAnnealingStart': 3.3267964667083065, 'kSkipRatio': 0.5089129873026734, 'kTargetDeterminationTrials': 15, 'kAttractionRatio': 0.6644644067319808, 'kMaxAttractionDistance': 20, 'kStartAttraction': 0.6404925986457511}. Best is trial 96 with value: 8654.16091954023.\u001b[0m\n"
     ]
    },
    {
     "name": "stdout",
     "output_type": "stream",
     "text": [
      "index_parallel='0115'\n"
     ]
    },
    {
     "name": "stderr",
     "output_type": "stream",
     "text": [
      "\u001b[32m[I 2022-08-16 04:05:34,541]\u001b[0m Trial 115 finished with value: 8496.362068965518 and parameters: {'kErase': 2, 'kRadius': 5, 'kAnnealingA': 12.238745386408642, 'kAnnealingB': 2.2845222870999153, 'kAnnealingStart': 3.73846756349423, 'kSkipRatio': 0.5073479420807272, 'kTargetDeterminationTrials': 17, 'kAttractionRatio': 0.668505173378204, 'kMaxAttractionDistance': 20, 'kStartAttraction': 0.6017179999889498}. Best is trial 96 with value: 8654.16091954023.\u001b[0m\n"
     ]
    },
    {
     "name": "stdout",
     "output_type": "stream",
     "text": [
      "index_parallel='0116'\n"
     ]
    },
    {
     "name": "stderr",
     "output_type": "stream",
     "text": [
      "\u001b[32m[I 2022-08-16 04:08:58,539]\u001b[0m Trial 116 finished with value: 8597.931034482759 and parameters: {'kErase': 2, 'kRadius': 5, 'kAnnealingA': 10.655025188685954, 'kAnnealingB': 2.1979377884669615, 'kAnnealingStart': 2.9598490278387133, 'kSkipRatio': 0.5498593833148347, 'kTargetDeterminationTrials': 15, 'kAttractionRatio': 0.825509627065632, 'kMaxAttractionDistance': 23, 'kStartAttraction': 0.7172133089956299}. Best is trial 96 with value: 8654.16091954023.\u001b[0m\n"
     ]
    },
    {
     "name": "stdout",
     "output_type": "stream",
     "text": [
      "index_parallel='0117'\n"
     ]
    },
    {
     "name": "stderr",
     "output_type": "stream",
     "text": [
      "\u001b[32m[I 2022-08-16 04:12:22,447]\u001b[0m Trial 117 finished with value: 8558.068965517241 and parameters: {'kErase': 2, 'kRadius': 5, 'kAnnealingA': 9.851914793662862, 'kAnnealingB': 2.482770847991717, 'kAnnealingStart': 3.081963903136167, 'kSkipRatio': 0.5775409870100332, 'kTargetDeterminationTrials': 15, 'kAttractionRatio': 0.7416726683591022, 'kMaxAttractionDistance': 23, 'kStartAttraction': 0.7300814679426962}. Best is trial 96 with value: 8654.16091954023.\u001b[0m\n"
     ]
    },
    {
     "name": "stdout",
     "output_type": "stream",
     "text": [
      "index_parallel='0118'\n"
     ]
    },
    {
     "name": "stderr",
     "output_type": "stream",
     "text": [
      "\u001b[32m[I 2022-08-16 04:15:46,525]\u001b[0m Trial 118 finished with value: 8472.701149425287 and parameters: {'kErase': 2, 'kRadius': 5, 'kAnnealingA': 9.696699718210644, 'kAnnealingB': 2.452755185518569, 'kAnnealingStart': 3.001081506871727, 'kSkipRatio': 0.4661198966812622, 'kTargetDeterminationTrials': 14, 'kAttractionRatio': 0.6002272898776974, 'kMaxAttractionDistance': 25, 'kStartAttraction': 0.7004720939426989}. Best is trial 96 with value: 8654.16091954023.\u001b[0m\n"
     ]
    },
    {
     "name": "stdout",
     "output_type": "stream",
     "text": [
      "index_parallel='0119'\n"
     ]
    },
    {
     "name": "stderr",
     "output_type": "stream",
     "text": [
      "\u001b[32m[I 2022-08-16 04:19:10,321]\u001b[0m Trial 119 finished with value: 8158.568965517241 and parameters: {'kErase': 2, 'kRadius': 5, 'kAnnealingA': 8.647264257436731, 'kAnnealingB': 2.384207206023834, 'kAnnealingStart': 2.0597670454866503, 'kSkipRatio': 0.5774295709799486, 'kTargetDeterminationTrials': 16, 'kAttractionRatio': 0.08855777647401428, 'kMaxAttractionDistance': 23, 'kStartAttraction': 0.7660317290296594}. Best is trial 96 with value: 8654.16091954023.\u001b[0m\n"
     ]
    },
    {
     "name": "stdout",
     "output_type": "stream",
     "text": [
      "index_parallel='0120'\n"
     ]
    },
    {
     "name": "stderr",
     "output_type": "stream",
     "text": [
      "\u001b[32m[I 2022-08-16 04:22:34,210]\u001b[0m Trial 120 finished with value: 8511.385057471265 and parameters: {'kErase': 2, 'kRadius': 5, 'kAnnealingA': 10.21880410322856, 'kAnnealingB': 2.6061852992985606, 'kAnnealingStart': 2.6263686462319757, 'kSkipRatio': 0.5298867432839423, 'kTargetDeterminationTrials': 15, 'kAttractionRatio': 0.6751676815697477, 'kMaxAttractionDistance': 21, 'kStartAttraction': 0.8473569656965333}. Best is trial 96 with value: 8654.16091954023.\u001b[0m\n"
     ]
    },
    {
     "name": "stdout",
     "output_type": "stream",
     "text": [
      "index_parallel='0121'\n"
     ]
    },
    {
     "name": "stderr",
     "output_type": "stream",
     "text": [
      "\u001b[32m[I 2022-08-16 04:25:57,942]\u001b[0m Trial 121 finished with value: 8562.218390804597 and parameters: {'kErase': 2, 'kRadius': 5, 'kAnnealingA': 12.256634640148969, 'kAnnealingB': 2.4913875629933218, 'kAnnealingStart': 3.2948120180237543, 'kSkipRatio': 0.5485334904044058, 'kTargetDeterminationTrials': 19, 'kAttractionRatio': 0.7605997511417044, 'kMaxAttractionDistance': 23, 'kStartAttraction': 0.6029055581402114}. Best is trial 96 with value: 8654.16091954023.\u001b[0m\n"
     ]
    },
    {
     "name": "stdout",
     "output_type": "stream",
     "text": [
      "index_parallel='0122'\n"
     ]
    },
    {
     "name": "stderr",
     "output_type": "stream",
     "text": [
      "\u001b[32m[I 2022-08-16 04:29:21,904]\u001b[0m Trial 122 finished with value: 8475.775862068966 and parameters: {'kErase': 2, 'kRadius': 5, 'kAnnealingA': 12.04539426983806, 'kAnnealingB': 2.5064020065036967, 'kAnnealingStart': 3.1253287846340285, 'kSkipRatio': 0.5519887668530269, 'kTargetDeterminationTrials': 18, 'kAttractionRatio': 0.730449021409215, 'kMaxAttractionDistance': 23, 'kStartAttraction': 0.6771733840723047}. Best is trial 96 with value: 8654.16091954023.\u001b[0m\n"
     ]
    },
    {
     "name": "stdout",
     "output_type": "stream",
     "text": [
      "index_parallel='0123'\n"
     ]
    },
    {
     "name": "stderr",
     "output_type": "stream",
     "text": [
      "\u001b[32m[I 2022-08-16 04:32:46,189]\u001b[0m Trial 123 finished with value: 8442.568965517241 and parameters: {'kErase': 2, 'kRadius': 5, 'kAnnealingA': 12.84272342398662, 'kAnnealingB': 2.3277759355574745, 'kAnnealingStart': 4.703732416270339, 'kSkipRatio': 0.5159309932380707, 'kTargetDeterminationTrials': 19, 'kAttractionRatio': 0.5106972034017921, 'kMaxAttractionDistance': 26, 'kStartAttraction': 0.5342632587564285}. Best is trial 96 with value: 8654.16091954023.\u001b[0m\n"
     ]
    },
    {
     "name": "stdout",
     "output_type": "stream",
     "text": [
      "index_parallel='0124'\n"
     ]
    },
    {
     "name": "stderr",
     "output_type": "stream",
     "text": [
      "\u001b[32m[I 2022-08-16 04:36:09,806]\u001b[0m Trial 124 finished with value: 8501.6091954023 and parameters: {'kErase': 2, 'kRadius': 5, 'kAnnealingA': 9.10538018819234, 'kAnnealingB': 2.4666970903465844, 'kAnnealingStart': 2.330643267843107, 'kSkipRatio': 0.4999095418754457, 'kTargetDeterminationTrials': 16, 'kAttractionRatio': 0.8256818565289383, 'kMaxAttractionDistance': 19, 'kStartAttraction': 0.6033086004848075}. Best is trial 96 with value: 8654.16091954023.\u001b[0m\n"
     ]
    },
    {
     "name": "stdout",
     "output_type": "stream",
     "text": [
      "index_parallel='0125'\n"
     ]
    },
    {
     "name": "stderr",
     "output_type": "stream",
     "text": [
      "\u001b[32m[I 2022-08-16 04:39:33,844]\u001b[0m Trial 125 finished with value: 8262.275862068966 and parameters: {'kErase': 2, 'kRadius': 5, 'kAnnealingA': 10.811491507165552, 'kAnnealingB': 2.5656183071865892, 'kAnnealingStart': 5.197613326626968, 'kSkipRatio': 0.4256044247620285, 'kTargetDeterminationTrials': 13, 'kAttractionRatio': 0.7450708135252833, 'kMaxAttractionDistance': 28, 'kStartAttraction': 0.4014905618714788}. Best is trial 96 with value: 8654.16091954023.\u001b[0m\n"
     ]
    },
    {
     "name": "stdout",
     "output_type": "stream",
     "text": [
      "index_parallel='0126'\n"
     ]
    },
    {
     "name": "stderr",
     "output_type": "stream",
     "text": [
      "\u001b[32m[I 2022-08-16 04:42:57,884]\u001b[0m Trial 126 finished with value: 7827.241379310345 and parameters: {'kErase': 2, 'kRadius': 5, 'kAnnealingA': 13.586854960168314, 'kAnnealingB': 2.66004622260525, 'kAnnealingStart': 3.3532874958485044, 'kSkipRatio': 0.5973451808551224, 'kTargetDeterminationTrials': 12, 'kAttractionRatio': 0.013496003516745046, 'kMaxAttractionDistance': 21, 'kStartAttraction': 0.7038410410989897}. Best is trial 96 with value: 8654.16091954023.\u001b[0m\n"
     ]
    },
    {
     "name": "stdout",
     "output_type": "stream",
     "text": [
      "index_parallel='0127'\n"
     ]
    },
    {
     "name": "stderr",
     "output_type": "stream",
     "text": [
      "\u001b[32m[I 2022-08-16 04:46:21,912]\u001b[0m Trial 127 finished with value: 8425.103448275862 and parameters: {'kErase': 2, 'kRadius': 5, 'kAnnealingA': 11.557459186439363, 'kAnnealingB': 2.393549016644193, 'kAnnealingStart': 2.8941282541395736, 'kSkipRatio': 0.6246619460334687, 'kTargetDeterminationTrials': 20, 'kAttractionRatio': 0.6471375203154404, 'kMaxAttractionDistance': 24, 'kStartAttraction': 0.889739751970636}. Best is trial 96 with value: 8654.16091954023.\u001b[0m\n"
     ]
    },
    {
     "name": "stdout",
     "output_type": "stream",
     "text": [
      "index_parallel='0128'\n"
     ]
    },
    {
     "name": "stderr",
     "output_type": "stream",
     "text": [
      "\u001b[32m[I 2022-08-16 04:49:45,968]\u001b[0m Trial 128 finished with value: 8441.132183908046 and parameters: {'kErase': 2, 'kRadius': 5, 'kAnnealingA': 7.736721771681137, 'kAnnealingB': 2.523847183609038, 'kAnnealingStart': 4.2317158595603015, 'kSkipRatio': 0.53923914547178, 'kTargetDeterminationTrials': 15, 'kAttractionRatio': 0.5806917761513944, 'kMaxAttractionDistance': 18, 'kStartAttraction': 0.5264041659470158}. Best is trial 96 with value: 8654.16091954023.\u001b[0m\n"
     ]
    },
    {
     "name": "stdout",
     "output_type": "stream",
     "text": [
      "index_parallel='0129'\n"
     ]
    },
    {
     "name": "stderr",
     "output_type": "stream",
     "text": [
      "\u001b[32m[I 2022-08-16 04:53:09,834]\u001b[0m Trial 129 finished with value: 8332.568965517241 and parameters: {'kErase': 2, 'kRadius': 5, 'kAnnealingA': 12.811608860064627, 'kAnnealingB': 2.163194822779503, 'kAnnealingStart': 3.759474119935057, 'kSkipRatio': 0.4755407299651778, 'kTargetDeterminationTrials': 17, 'kAttractionRatio': 0.6960677601223862, 'kMaxAttractionDistance': 20, 'kStartAttraction': 0.33971507264663153}. Best is trial 96 with value: 8654.16091954023.\u001b[0m\n"
     ]
    },
    {
     "name": "stdout",
     "output_type": "stream",
     "text": [
      "index_parallel='0130'\n"
     ]
    },
    {
     "name": "stderr",
     "output_type": "stream",
     "text": [
      "\u001b[32m[I 2022-08-16 04:56:33,858]\u001b[0m Trial 130 finished with value: 8245.856321839081 and parameters: {'kErase': 2, 'kRadius': 5, 'kAnnealingA': 8.521918213493532, 'kAnnealingB': 2.325539114863871, 'kAnnealingStart': 2.631959064441684, 'kSkipRatio': 0.5752650532332784, 'kTargetDeterminationTrials': 14, 'kAttractionRatio': 0.050315816380901726, 'kMaxAttractionDistance': 22, 'kStartAttraction': 0.6471182112105847}. Best is trial 96 with value: 8654.16091954023.\u001b[0m\n"
     ]
    },
    {
     "name": "stdout",
     "output_type": "stream",
     "text": [
      "index_parallel='0131'\n"
     ]
    },
    {
     "name": "stderr",
     "output_type": "stream",
     "text": [
      "\u001b[32m[I 2022-08-16 04:59:57,821]\u001b[0m Trial 131 finished with value: 8531.69540229885 and parameters: {'kErase': 2, 'kRadius': 5, 'kAnnealingA': 13.852910571912945, 'kAnnealingB': 2.1019218505180226, 'kAnnealingStart': 3.5531865497165924, 'kSkipRatio': 0.5564089602883476, 'kTargetDeterminationTrials': 10, 'kAttractionRatio': 0.8119872111682548, 'kMaxAttractionDistance': 15, 'kStartAttraction': 0.5918367422618569}. Best is trial 96 with value: 8654.16091954023.\u001b[0m\n"
     ]
    },
    {
     "name": "stdout",
     "output_type": "stream",
     "text": [
      "index_parallel='0132'\n"
     ]
    },
    {
     "name": "stderr",
     "output_type": "stream",
     "text": [
      "\u001b[32m[I 2022-08-16 05:03:22,110]\u001b[0m Trial 132 finished with value: 8487.551724137931 and parameters: {'kErase': 2, 'kRadius': 5, 'kAnnealingA': 13.831586440578022, 'kAnnealingB': 0.12519211095145666, 'kAnnealingStart': 3.239847605707035, 'kSkipRatio': 0.5823904419739991, 'kTargetDeterminationTrials': 9, 'kAttractionRatio': 0.8238730753499514, 'kMaxAttractionDistance': 18, 'kStartAttraction': 0.5073036343205416}. Best is trial 96 with value: 8654.16091954023.\u001b[0m\n"
     ]
    },
    {
     "name": "stdout",
     "output_type": "stream",
     "text": [
      "index_parallel='0134'\n"
     ]
    },
    {
     "name": "stderr",
     "output_type": "stream",
     "text": [
      "\u001b[32m[I 2022-08-16 05:06:46,164]\u001b[0m Trial 134 finished with value: 8552.218390804597 and parameters: {'kErase': 2, 'kRadius': 5, 'kAnnealingA': 9.912106866301858, 'kAnnealingB': 2.0959408132443103, 'kAnnealingStart': 4.775352922894552, 'kSkipRatio': 0.5589490168478396, 'kTargetDeterminationTrials': 13, 'kAttractionRatio': 0.7565680228474876, 'kMaxAttractionDistance': 14, 'kStartAttraction': 0.7664313837170194}. Best is trial 96 with value: 8654.16091954023.\u001b[0m\n"
     ]
    },
    {
     "name": "stdout",
     "output_type": "stream",
     "text": [
      "index_parallel='0136'\n"
     ]
    },
    {
     "name": "stderr",
     "output_type": "stream",
     "text": [
      "\u001b[32m[I 2022-08-16 05:10:10,213]\u001b[0m Trial 136 finished with value: 8514.37356321839 and parameters: {'kErase': 2, 'kRadius': 5, 'kAnnealingA': 9.833220415572265, 'kAnnealingB': 2.202974946569083, 'kAnnealingStart': 5.548969044697172, 'kSkipRatio': 0.5250206091166638, 'kTargetDeterminationTrials': 18, 'kAttractionRatio': 0.7441235737332749, 'kMaxAttractionDistance': 20, 'kStartAttraction': 0.7691825258856918}. Best is trial 96 with value: 8654.16091954023.\u001b[0m\n"
     ]
    },
    {
     "name": "stdout",
     "output_type": "stream",
     "text": [
      "index_parallel='0138'\n"
     ]
    },
    {
     "name": "stderr",
     "output_type": "stream",
     "text": [
      "\u001b[32m[I 2022-08-16 05:13:34,088]\u001b[0m Trial 138 finished with value: 8395.218390804597 and parameters: {'kErase': 2, 'kRadius': 5, 'kAnnealingA': 9.197419260200384, 'kAnnealingB': 1.939281259158186, 'kAnnealingStart': 4.2623495886389415, 'kSkipRatio': 0.5026224408369232, 'kTargetDeterminationTrials': 13, 'kAttractionRatio': 0.655342857297444, 'kMaxAttractionDistance': 14, 'kStartAttraction': 0.7534954629929882}. Best is trial 96 with value: 8654.16091954023.\u001b[0m\n"
     ]
    },
    {
     "name": "stdout",
     "output_type": "stream",
     "text": [
      "index_parallel='0140'\n"
     ]
    },
    {
     "name": "stderr",
     "output_type": "stream",
     "text": [
      "\u001b[32m[I 2022-08-16 05:16:57,895]\u001b[0m Trial 140 finished with value: 8371.068965517241 and parameters: {'kErase': 2, 'kRadius': 5, 'kAnnealingA': 7.1158896258234865, 'kAnnealingB': 2.444430908760368, 'kAnnealingStart': 3.8533612188869406, 'kSkipRatio': 0.5935600550396197, 'kTargetDeterminationTrials': 15, 'kAttractionRatio': 0.5617548080460711, 'kMaxAttractionDistance': 23, 'kStartAttraction': 0.40755135969793754}. Best is trial 96 with value: 8654.16091954023.\u001b[0m\n"
     ]
    },
    {
     "name": "stdout",
     "output_type": "stream",
     "text": [
      "index_parallel='0142'\n"
     ]
    },
    {
     "name": "stderr",
     "output_type": "stream",
     "text": [
      "\u001b[32m[I 2022-08-16 05:20:21,688]\u001b[0m Trial 142 finished with value: 8519.252873563219 and parameters: {'kErase': 2, 'kRadius': 5, 'kAnnealingA': 11.64955107548423, 'kAnnealingB': 2.12435460292412, 'kAnnealingStart': 3.6701084854908186, 'kSkipRatio': 0.5537859726903609, 'kTargetDeterminationTrials': 9, 'kAttractionRatio': 0.8250045454893883, 'kMaxAttractionDistance': 13, 'kStartAttraction': 0.5683525171793864}. Best is trial 96 with value: 8654.16091954023.\u001b[0m\n"
     ]
    },
    {
     "name": "stdout",
     "output_type": "stream",
     "text": [
      "index_parallel='0144'\n"
     ]
    },
    {
     "name": "stderr",
     "output_type": "stream",
     "text": [
      "\u001b[32m[I 2022-08-16 05:23:45,594]\u001b[0m Trial 144 finished with value: 8525.66091954023 and parameters: {'kErase': 2, 'kRadius': 5, 'kAnnealingA': 14.95494113520811, 'kAnnealingB': 2.0963503511617843, 'kAnnealingStart': 4.868838887226358, 'kSkipRatio': 0.539723532218018, 'kTargetDeterminationTrials': 10, 'kAttractionRatio': 0.7084495864485824, 'kMaxAttractionDistance': 18, 'kStartAttraction': 0.6898576707895352}. Best is trial 96 with value: 8654.16091954023.\u001b[0m\n"
     ]
    },
    {
     "name": "stdout",
     "output_type": "stream",
     "text": [
      "index_parallel='0146'\n"
     ]
    },
    {
     "name": "stderr",
     "output_type": "stream",
     "text": [
      "\u001b[32m[I 2022-08-16 05:27:09,710]\u001b[0m Trial 146 finished with value: 8512.1091954023 and parameters: {'kErase': 2, 'kRadius': 5, 'kAnnealingA': 7.651119107704268, 'kAnnealingB': 2.292203968619278, 'kAnnealingStart': 5.775715551313329, 'kSkipRatio': 0.5711078748800711, 'kTargetDeterminationTrials': 13, 'kAttractionRatio': 0.8963873130330055, 'kMaxAttractionDistance': 22, 'kStartAttraction': 0.49441209869436425}. Best is trial 96 with value: 8654.16091954023.\u001b[0m\n"
     ]
    },
    {
     "name": "stdout",
     "output_type": "stream",
     "text": [
      "index_parallel='0148'\n"
     ]
    },
    {
     "name": "stderr",
     "output_type": "stream",
     "text": [
      "\u001b[32m[I 2022-08-16 05:30:33,721]\u001b[0m Trial 148 finished with value: 8501.977011494253 and parameters: {'kErase': 2, 'kRadius': 5, 'kAnnealingA': 8.759220366702298, 'kAnnealingB': 2.358971103535406, 'kAnnealingStart': 6.776137949706811, 'kSkipRatio': 0.6318398669451114, 'kTargetDeterminationTrials': 11, 'kAttractionRatio': 0.5931144164537105, 'kMaxAttractionDistance': 16, 'kStartAttraction': 0.5594465351876409}. Best is trial 96 with value: 8654.16091954023.\u001b[0m\n"
     ]
    },
    {
     "name": "stdout",
     "output_type": "stream",
     "text": [
      "index_parallel='0150'\n"
     ]
    },
    {
     "name": "stderr",
     "output_type": "stream",
     "text": [
      "\u001b[32m[I 2022-08-16 05:33:58,885]\u001b[0m Trial 150 finished with value: 8521.942528735632 and parameters: {'kErase': 2, 'kRadius': 5, 'kAnnealingA': 10.886435212985639, 'kAnnealingB': 2.214327753986385, 'kAnnealingStart': 4.036913624491209, 'kSkipRatio': 0.5252655825193873, 'kTargetDeterminationTrials': 9, 'kAttractionRatio': 0.14900024718414628, 'kMaxAttractionDistance': 17, 'kStartAttraction': 0.7393812050659948}. Best is trial 96 with value: 8654.16091954023.\u001b[0m\n"
     ]
    },
    {
     "name": "stdout",
     "output_type": "stream",
     "text": [
      "index_parallel='0152'\n"
     ]
    },
    {
     "name": "stderr",
     "output_type": "stream",
     "text": [
      "\u001b[32m[I 2022-08-16 05:37:22,845]\u001b[0m Trial 152 finished with value: 8466.6091954023 and parameters: {'kErase': 2, 'kRadius': 5, 'kAnnealingA': 12.493600191994972, 'kAnnealingB': 1.986595720820385, 'kAnnealingStart': 3.475287352036818, 'kSkipRatio': 0.5649227832042439, 'kTargetDeterminationTrials': 10, 'kAttractionRatio': 0.7746517986130993, 'kMaxAttractionDistance': 15, 'kStartAttraction': 0.6308211686374782}. Best is trial 96 with value: 8654.16091954023.\u001b[0m\n"
     ]
    },
    {
     "name": "stdout",
     "output_type": "stream",
     "text": [
      "index_parallel='0154'\n"
     ]
    },
    {
     "name": "stderr",
     "output_type": "stream",
     "text": [
      "\u001b[32m[I 2022-08-16 05:40:47,037]\u001b[0m Trial 154 finished with value: 8483.442528735632 and parameters: {'kErase': 2, 'kRadius': 5, 'kAnnealingA': 11.056599894712194, 'kAnnealingB': 2.575206201822724, 'kAnnealingStart': 4.524915039901814, 'kSkipRatio': 0.5871457671461371, 'kTargetDeterminationTrials': 8, 'kAttractionRatio': 0.5147860500086765, 'kMaxAttractionDistance': 19, 'kStartAttraction': 0.892440789751747}. Best is trial 96 with value: 8654.16091954023.\u001b[0m\n"
     ]
    },
    {
     "name": "stdout",
     "output_type": "stream",
     "text": [
      "index_parallel='0156'\n"
     ]
    },
    {
     "name": "stderr",
     "output_type": "stream",
     "text": [
      "\u001b[32m[I 2022-08-16 05:44:11,125]\u001b[0m Trial 156 finished with value: 8029.620689655172 and parameters: {'kErase': 2, 'kRadius': 5, 'kAnnealingA': 9.909543330597442, 'kAnnealingB': 2.513942040434609, 'kAnnealingStart': 3.204635923825197, 'kSkipRatio': 0.22442653390880507, 'kTargetDeterminationTrials': 13, 'kAttractionRatio': 0.6310555107680024, 'kMaxAttractionDistance': 21, 'kStartAttraction': 0.44866401960156443}. Best is trial 96 with value: 8654.16091954023.\u001b[0m\n"
     ]
    },
    {
     "name": "stdout",
     "output_type": "stream",
     "text": [
      "index_parallel='0158'\n"
     ]
    },
    {
     "name": "stderr",
     "output_type": "stream",
     "text": [
      "\u001b[32m[I 2022-08-16 05:47:34,738]\u001b[0m Trial 158 finished with value: 8503.78735632184 and parameters: {'kErase': 2, 'kRadius': 5, 'kAnnealingA': 8.334145766086358, 'kAnnealingB': 2.401190358027506, 'kAnnealingStart': 5.205094599969564, 'kSkipRatio': 0.5202389797375702, 'kTargetDeterminationTrials': 15, 'kAttractionRatio': 0.6940075621395209, 'kMaxAttractionDistance': 17, 'kStartAttraction': 0.7899940245506443}. Best is trial 96 with value: 8654.16091954023.\u001b[0m\n"
     ]
    },
    {
     "name": "stdout",
     "output_type": "stream",
     "text": [
      "index_parallel='0160'\n"
     ]
    },
    {
     "name": "stderr",
     "output_type": "stream",
     "text": [
      "\u001b[32m[I 2022-08-16 05:50:58,652]\u001b[0m Trial 160 finished with value: 8320.816091954022 and parameters: {'kErase': 2, 'kRadius': 5, 'kAnnealingA': 11.389971828814435, 'kAnnealingB': 2.7040264497341244, 'kAnnealingStart': 4.020118970266781, 'kSkipRatio': 0.6333839943314539, 'kTargetDeterminationTrials': 9, 'kAttractionRatio': 0.8130088280356866, 'kMaxAttractionDistance': 24, 'kStartAttraction': 0.36506714263944917}. Best is trial 96 with value: 8654.16091954023.\u001b[0m\n"
     ]
    },
    {
     "name": "stdout",
     "output_type": "stream",
     "text": [
      "index_parallel='0162'\n"
     ]
    },
    {
     "name": "stderr",
     "output_type": "stream",
     "text": [
      "\u001b[32m[I 2022-08-16 05:54:22,667]\u001b[0m Trial 162 finished with value: 8611.896551724138 and parameters: {'kErase': 2, 'kRadius': 5, 'kAnnealingA': 13.354694946280805, 'kAnnealingB': 1.4394579786051254, 'kAnnealingStart': 3.4653413781218236, 'kSkipRatio': 0.5516526241774039, 'kTargetDeterminationTrials': 10, 'kAttractionRatio': 0.8362412715791999, 'kMaxAttractionDistance': 15, 'kStartAttraction': 0.5814194981139897}. Best is trial 96 with value: 8654.16091954023.\u001b[0m\n"
     ]
    },
    {
     "name": "stdout",
     "output_type": "stream",
     "text": [
      "index_parallel='0164'\n"
     ]
    },
    {
     "name": "stderr",
     "output_type": "stream",
     "text": [
      "\u001b[32m[I 2022-08-16 05:57:46,732]\u001b[0m Trial 164 finished with value: 8423.436781609196 and parameters: {'kErase': 2, 'kRadius': 5, 'kAnnealingA': 14.32361747885522, 'kAnnealingB': 2.4727473483120486, 'kAnnealingStart': 3.523722592309276, 'kSkipRatio': 0.5469233993455249, 'kTargetDeterminationTrials': 12, 'kAttractionRatio': 0.7529377416059255, 'kMaxAttractionDistance': 15, 'kStartAttraction': 0.5205399827528927}. Best is trial 96 with value: 8654.16091954023.\u001b[0m\n"
     ]
    },
    {
     "name": "stdout",
     "output_type": "stream",
     "text": [
      "index_parallel='0166'\n"
     ]
    },
    {
     "name": "stderr",
     "output_type": "stream",
     "text": [
      "\u001b[32m[I 2022-08-16 06:01:10,614]\u001b[0m Trial 166 finished with value: 8509.83908045977 and parameters: {'kErase': 2, 'kRadius': 5, 'kAnnealingA': 7.2085685057212, 'kAnnealingB': 1.2563225416506836, 'kAnnealingStart': 2.433060094250195, 'kSkipRatio': 0.5713916381363586, 'kTargetDeterminationTrials': 7, 'kAttractionRatio': 0.8475884633045802, 'kMaxAttractionDistance': 18, 'kStartAttraction': 0.6772877853997771}. Best is trial 96 with value: 8654.16091954023.\u001b[0m\n"
     ]
    },
    {
     "name": "stdout",
     "output_type": "stream",
     "text": [
      "index_parallel='0168'\n"
     ]
    },
    {
     "name": "stderr",
     "output_type": "stream",
     "text": [
      "\u001b[32m[I 2022-08-16 06:04:34,625]\u001b[0m Trial 168 finished with value: 7441.706896551724 and parameters: {'kErase': 2, 'kRadius': 5, 'kAnnealingA': 12.036365927822994, 'kAnnealingB': 2.1641086414688924, 'kAnnealingStart': 2.69000163112705, 'kSkipRatio': 0.5827151173022191, 'kTargetDeterminationTrials': 13, 'kAttractionRatio': 0.8962980525459164, 'kMaxAttractionDistance': 16, 'kStartAttraction': 0.011710809164050302}. Best is trial 96 with value: 8654.16091954023.\u001b[0m\n"
     ]
    },
    {
     "name": "stdout",
     "output_type": "stream",
     "text": [
      "index_parallel='0170'\n"
     ]
    },
    {
     "name": "stderr",
     "output_type": "stream",
     "text": [
      "\u001b[32m[I 2022-08-16 06:07:58,817]\u001b[0m Trial 170 finished with value: 8572.419540229885 and parameters: {'kErase': 2, 'kRadius': 5, 'kAnnealingA': 5.966153116879226, 'kAnnealingB': 1.4035154308537505, 'kAnnealingStart': 2.8811761495876893, 'kSkipRatio': 0.561827512614315, 'kTargetDeterminationTrials': 14, 'kAttractionRatio': 0.7581799053151954, 'kMaxAttractionDistance': 23, 'kStartAttraction': 0.5099055568982969}. Best is trial 96 with value: 8654.16091954023.\u001b[0m\n"
     ]
    },
    {
     "name": "stdout",
     "output_type": "stream",
     "text": [
      "index_parallel='0172'\n"
     ]
    },
    {
     "name": "stderr",
     "output_type": "stream",
     "text": [
      "\u001b[32m[I 2022-08-16 06:11:22,925]\u001b[0m Trial 172 finished with value: 8625.086206896553 and parameters: {'kErase': 2, 'kRadius': 5, 'kAnnealingA': 13.122869232374402, 'kAnnealingB': 1.2353352197023926, 'kAnnealingStart': 2.216332035665864, 'kSkipRatio': 0.562150553765133, 'kTargetDeterminationTrials': 17, 'kAttractionRatio': 0.6749564334450259, 'kMaxAttractionDistance': 23, 'kStartAttraction': 0.6320063985024437}. Best is trial 96 with value: 8654.16091954023.\u001b[0m\n"
     ]
    },
    {
     "name": "stdout",
     "output_type": "stream",
     "text": [
      "index_parallel='0174'\n"
     ]
    },
    {
     "name": "stderr",
     "output_type": "stream",
     "text": [
      "\u001b[32m[I 2022-08-16 06:14:47,030]\u001b[0m Trial 174 finished with value: 8503.3908045977 and parameters: {'kErase': 2, 'kRadius': 5, 'kAnnealingA': 13.101557627200101, 'kAnnealingB': 1.1524742727738335, 'kAnnealingStart': 2.115037057337824, 'kSkipRatio': 0.5649330532248276, 'kTargetDeterminationTrials': 15, 'kAttractionRatio': 0.7275096401247645, 'kMaxAttractionDistance': 27, 'kStartAttraction': 0.5964561574071553}. Best is trial 96 with value: 8654.16091954023.\u001b[0m\n"
     ]
    },
    {
     "name": "stdout",
     "output_type": "stream",
     "text": [
      "index_parallel='0176'\n"
     ]
    },
    {
     "name": "stderr",
     "output_type": "stream",
     "text": [
      "\u001b[32m[I 2022-08-16 06:18:11,303]\u001b[0m Trial 176 finished with value: 8516.103448275862 and parameters: {'kErase': 2, 'kRadius': 5, 'kAnnealingA': 12.793959313486626, 'kAnnealingB': 1.3007746019188333, 'kAnnealingStart': 1.8140154913669868, 'kSkipRatio': 0.5615919285245172, 'kTargetDeterminationTrials': 17, 'kAttractionRatio': 0.8012341354617545, 'kMaxAttractionDistance': 23, 'kStartAttraction': 0.6255761080442966}. Best is trial 96 with value: 8654.16091954023.\u001b[0m\n"
     ]
    },
    {
     "name": "stdout",
     "output_type": "stream",
     "text": [
      "index_parallel='0178'\n"
     ]
    },
    {
     "name": "stderr",
     "output_type": "stream",
     "text": [
      "\u001b[32m[I 2022-08-16 06:21:35,417]\u001b[0m Trial 178 finished with value: 8459.747126436781 and parameters: {'kErase': 2, 'kRadius': 5, 'kAnnealingA': 11.402232841784926, 'kAnnealingB': 1.4745574872345335, 'kAnnealingStart': 1.5785413319688917, 'kSkipRatio': 0.5339289463114388, 'kTargetDeterminationTrials': 14, 'kAttractionRatio': 0.6582428893269855, 'kMaxAttractionDistance': 26, 'kStartAttraction': 0.5502064119722968}. Best is trial 96 with value: 8654.16091954023.\u001b[0m\n"
     ]
    },
    {
     "name": "stdout",
     "output_type": "stream",
     "text": [
      "index_parallel='0180'\n"
     ]
    },
    {
     "name": "stderr",
     "output_type": "stream",
     "text": [
      "\u001b[32m[I 2022-08-16 06:24:59,626]\u001b[0m Trial 180 finished with value: 8456.091954022988 and parameters: {'kErase': 2, 'kRadius': 5, 'kAnnealingA': 11.256972014668156, 'kAnnealingB': 1.5692092714903423, 'kAnnealingStart': 2.296315340841562, 'kSkipRatio': 0.5573813068908613, 'kTargetDeterminationTrials': 14, 'kAttractionRatio': 0.5632173090597704, 'kMaxAttractionDistance': 22, 'kStartAttraction': 0.8994358622546019}. Best is trial 96 with value: 8654.16091954023.\u001b[0m\n"
     ]
    },
    {
     "name": "stdout",
     "output_type": "stream",
     "text": [
      "index_parallel='0182'\n"
     ]
    },
    {
     "name": "stderr",
     "output_type": "stream",
     "text": [
      "\u001b[32m[I 2022-08-16 06:28:23,694]\u001b[0m Trial 182 finished with value: 8412.827586206897 and parameters: {'kErase': 2, 'kRadius': 5, 'kAnnealingA': 13.759300509050934, 'kAnnealingB': 1.0320171890727028, 'kAnnealingStart': 3.617444779247238, 'kSkipRatio': 0.5927930648798607, 'kTargetDeterminationTrials': 12, 'kAttractionRatio': 0.7398771216223313, 'kMaxAttractionDistance': 24, 'kStartAttraction': 0.4407111161038427}. Best is trial 96 with value: 8654.16091954023.\u001b[0m\n"
     ]
    },
    {
     "name": "stdout",
     "output_type": "stream",
     "text": [
      "index_parallel='0184'\n"
     ]
    },
    {
     "name": "stderr",
     "output_type": "stream",
     "text": [
      "\u001b[32m[I 2022-08-16 06:31:47,603]\u001b[0m Trial 184 finished with value: 8510.689655172413 and parameters: {'kErase': 2, 'kRadius': 5, 'kAnnealingA': 5.901394379254667, 'kAnnealingB': 0.661968922158094, 'kAnnealingStart': 4.309733789384425, 'kSkipRatio': 0.5806344886138111, 'kTargetDeterminationTrials': 18, 'kAttractionRatio': 0.8246731159200328, 'kMaxAttractionDistance': 20, 'kStartAttraction': 0.4975178774473344}. Best is trial 96 with value: 8654.16091954023.\u001b[0m\n"
     ]
    },
    {
     "name": "stdout",
     "output_type": "stream",
     "text": [
      "index_parallel='0186'\n"
     ]
    },
    {
     "name": "stderr",
     "output_type": "stream",
     "text": [
      "\u001b[32m[I 2022-08-16 06:35:11,628]\u001b[0m Trial 186 finished with value: 8499.074712643678 and parameters: {'kErase': 2, 'kRadius': 5, 'kAnnealingA': 6.5697211339668335, 'kAnnealingB': 1.4663382599564942, 'kAnnealingStart': 2.9177970476117343, 'kSkipRatio': 0.5448109336687005, 'kTargetDeterminationTrials': 16, 'kAttractionRatio': 0.7207162072469551, 'kMaxAttractionDistance': 21, 'kStartAttraction': 0.6627550443675869}. Best is trial 96 with value: 8654.16091954023.\u001b[0m\n"
     ]
    },
    {
     "name": "stdout",
     "output_type": "stream",
     "text": [
      "index_parallel='0188'\n"
     ]
    },
    {
     "name": "stderr",
     "output_type": "stream",
     "text": [
      "\u001b[32m[I 2022-08-16 06:38:35,693]\u001b[0m Trial 188 finished with value: 8560.275862068966 and parameters: {'kErase': 2, 'kRadius': 5, 'kAnnealingA': 7.777867092855528, 'kAnnealingB': 1.048776582893285, 'kAnnealingStart': 4.815948939430663, 'kSkipRatio': 0.6148390874324318, 'kTargetDeterminationTrials': 11, 'kAttractionRatio': 0.7565887398561864, 'kMaxAttractionDistance': 26, 'kStartAttraction': 0.5561886496772581}. Best is trial 96 with value: 8654.16091954023.\u001b[0m\n"
     ]
    },
    {
     "name": "stdout",
     "output_type": "stream",
     "text": [
      "index_parallel='0190'\n"
     ]
    },
    {
     "name": "stderr",
     "output_type": "stream",
     "text": [
      "\u001b[32m[I 2022-08-16 06:41:59,773]\u001b[0m Trial 190 finished with value: 8334.362068965518 and parameters: {'kErase': 2, 'kRadius': 5, 'kAnnealingA': 7.4344113195022015, 'kAnnealingB': 0.8622141026120307, 'kAnnealingStart': 3.4229478179928132, 'kSkipRatio': 0.6177232013891468, 'kTargetDeterminationTrials': 12, 'kAttractionRatio': 0.6210740389046613, 'kMaxAttractionDistance': 29, 'kStartAttraction': 0.4137639244791927}. Best is trial 96 with value: 8654.16091954023.\u001b[0m\n"
     ]
    },
    {
     "name": "stdout",
     "output_type": "stream",
     "text": [
      "index_parallel='0192'\n"
     ]
    },
    {
     "name": "stderr",
     "output_type": "stream",
     "text": [
      "\u001b[32m[I 2022-08-16 06:45:23,874]\u001b[0m Trial 192 finished with value: 8528.37356321839 and parameters: {'kErase': 2, 'kRadius': 5, 'kAnnealingA': 7.941893403241439, 'kAnnealingB': 1.7005624737983003, 'kAnnealingStart': 4.09341720671313, 'kSkipRatio': 0.6456975138372678, 'kTargetDeterminationTrials': 11, 'kAttractionRatio': 0.8413985668107756, 'kMaxAttractionDistance': 23, 'kStartAttraction': 0.5609209492335284}. Best is trial 96 with value: 8654.16091954023.\u001b[0m\n"
     ]
    },
    {
     "name": "stdout",
     "output_type": "stream",
     "text": [
      "index_parallel='0194'\n"
     ]
    },
    {
     "name": "stderr",
     "output_type": "stream",
     "text": [
      "\u001b[32m[I 2022-08-16 06:48:47,849]\u001b[0m Trial 194 finished with value: 7350.298850574713 and parameters: {'kErase': 2, 'kRadius': 5, 'kAnnealingA': 12.218157916691432, 'kAnnealingB': 0.9434947690212274, 'kAnnealingStart': 4.661566804485341, 'kSkipRatio': 0.5920663875396894, 'kTargetDeterminationTrials': 10, 'kAttractionRatio': 0.7643419096328821, 'kMaxAttractionDistance': 18, 'kStartAttraction': 0.007295191454930109}. Best is trial 96 with value: 8654.16091954023.\u001b[0m\n"
     ]
    },
    {
     "name": "stdout",
     "output_type": "stream",
     "text": [
      "index_parallel='0196'\n"
     ]
    },
    {
     "name": "stderr",
     "output_type": "stream",
     "text": [
      "\u001b[32m[I 2022-08-16 06:52:11,700]\u001b[0m Trial 196 finished with value: 8451.333333333334 and parameters: {'kErase': 2, 'kRadius': 5, 'kAnnealingA': 9.228481223811055, 'kAnnealingB': 1.5117948646894754, 'kAnnealingStart': 3.8422041612716686, 'kSkipRatio': 0.45691312819663177, 'kTargetDeterminationTrials': 13, 'kAttractionRatio': 0.6843093000394367, 'kMaxAttractionDistance': 32, 'kStartAttraction': 0.6182320927881114}. Best is trial 96 with value: 8654.16091954023.\u001b[0m\n"
     ]
    },
    {
     "name": "stdout",
     "output_type": "stream",
     "text": [
      "index_parallel='0198'\n"
     ]
    },
    {
     "name": "stderr",
     "output_type": "stream",
     "text": [
      "\u001b[32m[I 2022-08-16 06:55:35,546]\u001b[0m Trial 198 finished with value: 8576.71264367816 and parameters: {'kErase': 2, 'kRadius': 5, 'kAnnealingA': 8.623606911199266, 'kAnnealingB': 1.2592088236579502, 'kAnnealingStart': 5.365892850144735, 'kSkipRatio': 0.5696721937590626, 'kTargetDeterminationTrials': 15, 'kAttractionRatio': 0.7590907931948541, 'kMaxAttractionDistance': 22, 'kStartAttraction': 0.4758986806691415}. Best is trial 96 with value: 8654.16091954023.\u001b[0m\n"
     ]
    },
    {
     "name": "stdout",
     "output_type": "stream",
     "text": [
      "index_parallel='0200'\n"
     ]
    },
    {
     "name": "stderr",
     "output_type": "stream",
     "text": [
      "\u001b[32m[I 2022-08-16 06:58:59,465]\u001b[0m Trial 200 finished with value: 8266.885057471265 and parameters: {'kErase': 2, 'kRadius': 5, 'kAnnealingA': 9.041929502206573, 'kAnnealingB': 0.9969591238346239, 'kAnnealingStart': 3.561829899748081, 'kSkipRatio': 0.6074566312580841, 'kTargetDeterminationTrials': 15, 'kAttractionRatio': 0.6179017211540103, 'kMaxAttractionDistance': 25, 'kStartAttraction': 0.30708175188727094}. Best is trial 96 with value: 8654.16091954023.\u001b[0m\n"
     ]
    },
    {
     "name": "stdout",
     "output_type": "stream",
     "text": [
      "index_parallel='0202'\n"
     ]
    },
    {
     "name": "stderr",
     "output_type": "stream",
     "text": [
      "\u001b[32m[I 2022-08-16 07:02:23,649]\u001b[0m Trial 202 finished with value: 8306.528735632184 and parameters: {'kErase': 2, 'kRadius': 5, 'kAnnealingA': -12.444304395153818, 'kAnnealingB': 0.9603849821755097, 'kAnnealingStart': 4.307378568121276, 'kSkipRatio': 0.5460963323676624, 'kTargetDeterminationTrials': 12, 'kAttractionRatio': 0.7238978371326954, 'kMaxAttractionDistance': 26, 'kStartAttraction': 0.47244944178886134}. Best is trial 96 with value: 8654.16091954023.\u001b[0m\n"
     ]
    },
    {
     "name": "stdout",
     "output_type": "stream",
     "text": [
      "index_parallel='0204'\n"
     ]
    },
    {
     "name": "stderr",
     "output_type": "stream",
     "text": [
      "\u001b[32m[I 2022-08-16 07:05:47,785]\u001b[0m Trial 204 finished with value: 8526.011494252874 and parameters: {'kErase': 2, 'kRadius': 5, 'kAnnealingA': 10.38340785183671, 'kAnnealingB': 1.1006943794367987, 'kAnnealingStart': 5.355530263525258, 'kSkipRatio': 0.5833903329133545, 'kTargetDeterminationTrials': 14, 'kAttractionRatio': 0.7640365503353264, 'kMaxAttractionDistance': 23, 'kStartAttraction': 0.5408434067628501}. Best is trial 96 with value: 8654.16091954023.\u001b[0m\n"
     ]
    },
    {
     "name": "stdout",
     "output_type": "stream",
     "text": [
      "index_parallel='0206'\n"
     ]
    },
    {
     "name": "stderr",
     "output_type": "stream",
     "text": [
      "\u001b[32m[I 2022-08-16 07:09:12,956]\u001b[0m Trial 206 finished with value: 8358.045977011494 and parameters: {'kErase': 2, 'kRadius': 5, 'kAnnealingA': 8.327984246194406, 'kAnnealingB': 1.3631746767367172, 'kAnnealingStart': 3.779415700423887, 'kSkipRatio': 0.5721603454684043, 'kTargetDeterminationTrials': 13, 'kAttractionRatio': 0.6718560448912285, 'kMaxAttractionDistance': 14, 'kStartAttraction': 0.6624248741990714}. Best is trial 96 with value: 8654.16091954023.\u001b[0m\n"
     ]
    },
    {
     "name": "stdout",
     "output_type": "stream",
     "text": [
      "index_parallel='0208'\n"
     ]
    },
    {
     "name": "stderr",
     "output_type": "stream",
     "text": [
      "\u001b[32m[I 2022-08-16 07:12:37,086]\u001b[0m Trial 208 finished with value: 8192.752873563219 and parameters: {'kErase': 2, 'kRadius': 5, 'kAnnealingA': 12.548724456480434, 'kAnnealingB': 1.1785466263582944, 'kAnnealingStart': 4.176902231789674, 'kSkipRatio': 0.5611813344672943, 'kTargetDeterminationTrials': 11, 'kAttractionRatio': 0.07489158363320561, 'kMaxAttractionDistance': 22, 'kStartAttraction': 0.8032985012351721}. Best is trial 96 with value: 8654.16091954023.\u001b[0m\n"
     ]
    },
    {
     "name": "stdout",
     "output_type": "stream",
     "text": [
      "index_parallel='0210'\n"
     ]
    },
    {
     "name": "stderr",
     "output_type": "stream",
     "text": [
      "\u001b[32m[I 2022-08-16 07:16:01,193]\u001b[0m Trial 210 finished with value: 8408.942528735632 and parameters: {'kErase': 2, 'kRadius': 5, 'kAnnealingA': 14.994602380011308, 'kAnnealingB': 1.2673689625658204, 'kAnnealingStart': 3.1920599146684916, 'kSkipRatio': 0.5285758437418683, 'kTargetDeterminationTrials': 19, 'kAttractionRatio': 0.8142494994576434, 'kMaxAttractionDistance': 24, 'kStartAttraction': 0.5637117847536885}. Best is trial 96 with value: 8654.16091954023.\u001b[0m\n"
     ]
    },
    {
     "name": "stdout",
     "output_type": "stream",
     "text": [
      "index_parallel='0212'\n"
     ]
    },
    {
     "name": "stderr",
     "output_type": "stream",
     "text": [
      "\u001b[32m[I 2022-08-16 07:19:25,443]\u001b[0m Trial 212 finished with value: 8522.488505747126 and parameters: {'kErase': 2, 'kRadius': 5, 'kAnnealingA': 13.15055238445205, 'kAnnealingB': 1.367480591214501, 'kAnnealingStart': 4.456069433465137, 'kSkipRatio': 0.5637429913147735, 'kTargetDeterminationTrials': 12, 'kAttractionRatio': 0.6909412509953243, 'kMaxAttractionDistance': 20, 'kStartAttraction': 0.7590100829483437}. Best is trial 96 with value: 8654.16091954023.\u001b[0m\n"
     ]
    },
    {
     "name": "stdout",
     "output_type": "stream",
     "text": [
      "index_parallel='0214'\n"
     ]
    },
    {
     "name": "stderr",
     "output_type": "stream",
     "text": [
      "\u001b[32m[I 2022-08-16 07:22:49,735]\u001b[0m Trial 214 finished with value: 8619.034482758621 and parameters: {'kErase': 2, 'kRadius': 5, 'kAnnealingA': 13.564185307223145, 'kAnnealingB': 1.5582061590882827, 'kAnnealingStart': 3.8885919576090577, 'kSkipRatio': 0.5931210853695804, 'kTargetDeterminationTrials': 11, 'kAttractionRatio': 0.7293164001631436, 'kMaxAttractionDistance': 19, 'kStartAttraction': 0.8189129038364962}. Best is trial 96 with value: 8654.16091954023.\u001b[0m\n"
     ]
    },
    {
     "name": "stdout",
     "output_type": "stream",
     "text": [
      "index_parallel='0216'\n"
     ]
    },
    {
     "name": "stderr",
     "output_type": "stream",
     "text": [
      "\u001b[32m[I 2022-08-16 07:26:14,087]\u001b[0m Trial 216 finished with value: 8615.114942528735 and parameters: {'kErase': 2, 'kRadius': 5, 'kAnnealingA': 14.213313720341292, 'kAnnealingB': 1.5600330416449955, 'kAnnealingStart': 4.973713604705422, 'kSkipRatio': 0.589778091983084, 'kTargetDeterminationTrials': 10, 'kAttractionRatio': 0.7604682209232642, 'kMaxAttractionDistance': 17, 'kStartAttraction': 0.6304665213238301}. Best is trial 96 with value: 8654.16091954023.\u001b[0m\n"
     ]
    },
    {
     "name": "stdout",
     "output_type": "stream",
     "text": [
      "index_parallel='0218'\n"
     ]
    },
    {
     "name": "stderr",
     "output_type": "stream",
     "text": [
      "\u001b[32m[I 2022-08-16 07:29:37,913]\u001b[0m Trial 218 finished with value: 8553.275862068966 and parameters: {'kErase': 2, 'kRadius': 5, 'kAnnealingA': 14.258960226205753, 'kAnnealingB': 2.3753855931775023, 'kAnnealingStart': 4.91604246328914, 'kSkipRatio': 0.5928697189227885, 'kTargetDeterminationTrials': 10, 'kAttractionRatio': 0.6055474722167669, 'kMaxAttractionDistance': 17, 'kStartAttraction': 0.5069554587169106}. Best is trial 96 with value: 8654.16091954023.\u001b[0m\n"
     ]
    },
    {
     "name": "stdout",
     "output_type": "stream",
     "text": [
      "index_parallel='0220'\n"
     ]
    },
    {
     "name": "stderr",
     "output_type": "stream",
     "text": [
      "\u001b[32m[I 2022-08-16 07:33:01,678]\u001b[0m Trial 220 finished with value: 8397.867816091954 and parameters: {'kErase': 2, 'kRadius': 5, 'kAnnealingA': 14.036013361828546, 'kAnnealingB': 2.4680639367770585, 'kAnnealingStart': 2.702197239195235, 'kSkipRatio': 0.6217241687210983, 'kTargetDeterminationTrials': 1, 'kAttractionRatio': 0.5625793556231071, 'kMaxAttractionDistance': 19, 'kStartAttraction': 0.6238045867067101}. Best is trial 96 with value: 8654.16091954023.\u001b[0m\n"
     ]
    },
    {
     "name": "stdout",
     "output_type": "stream",
     "text": [
      "index_parallel='0222'\n"
     ]
    },
    {
     "name": "stderr",
     "output_type": "stream",
     "text": [
      "\u001b[32m[I 2022-08-16 07:36:26,167]\u001b[0m Trial 222 finished with value: 7057.603448275862 and parameters: {'kErase': 5, 'kRadius': 5, 'kAnnealingA': 13.554895106600348, 'kAnnealingB': 2.534116410539655, 'kAnnealingStart': 5.176611277287247, 'kSkipRatio': 0.5973314606167115, 'kTargetDeterminationTrials': 10, 'kAttractionRatio': 0.6440638128189081, 'kMaxAttractionDistance': 17, 'kStartAttraction': 0.4337308025141915}. Best is trial 96 with value: 8654.16091954023.\u001b[0m\n"
     ]
    },
    {
     "name": "stdout",
     "output_type": "stream",
     "text": [
      "index_parallel='0224'\n"
     ]
    },
    {
     "name": "stderr",
     "output_type": "stream",
     "text": [
      "\u001b[32m[I 2022-08-16 07:39:50,255]\u001b[0m Trial 224 finished with value: 8607.034482758621 and parameters: {'kErase': 2, 'kRadius': 5, 'kAnnealingA': 14.454683668255916, 'kAnnealingB': 2.3402499587574446, 'kAnnealingStart': 4.395636712125367, 'kSkipRatio': 0.5812050195606064, 'kTargetDeterminationTrials': 11, 'kAttractionRatio': 0.7417849309995636, 'kMaxAttractionDistance': 16, 'kStartAttraction': 0.5619380430413393}. Best is trial 96 with value: 8654.16091954023.\u001b[0m\n"
     ]
    },
    {
     "name": "stdout",
     "output_type": "stream",
     "text": [
      "index_parallel='0226'\n"
     ]
    },
    {
     "name": "stderr",
     "output_type": "stream",
     "text": [
      "\u001b[32m[I 2022-08-16 07:43:14,309]\u001b[0m Trial 226 finished with value: 8612.574712643678 and parameters: {'kErase': 2, 'kRadius': 5, 'kAnnealingA': 14.593828756586442, 'kAnnealingB': 2.4025087011509765, 'kAnnealingStart': 5.749265306428663, 'kSkipRatio': 0.6087968518560422, 'kTargetDeterminationTrials': 10, 'kAttractionRatio': 0.7320433044491433, 'kMaxAttractionDistance': 16, 'kStartAttraction': 0.6997560914424252}. Best is trial 96 with value: 8654.16091954023.\u001b[0m\n"
     ]
    },
    {
     "name": "stdout",
     "output_type": "stream",
     "text": [
      "index_parallel='0228'\n"
     ]
    },
    {
     "name": "stderr",
     "output_type": "stream",
     "text": [
      "\u001b[32m[I 2022-08-16 07:46:38,248]\u001b[0m Trial 228 finished with value: 8594.781609195403 and parameters: {'kErase': 2, 'kRadius': 5, 'kAnnealingA': 14.541251240588512, 'kAnnealingB': 2.41390996797174, 'kAnnealingStart': 5.967574279039703, 'kSkipRatio': 0.6297367369180735, 'kTargetDeterminationTrials': 10, 'kAttractionRatio': 0.6570972741293714, 'kMaxAttractionDistance': 16, 'kStartAttraction': 0.666220355285859}. Best is trial 96 with value: 8654.16091954023.\u001b[0m\n"
     ]
    },
    {
     "name": "stdout",
     "output_type": "stream",
     "text": [
      "index_parallel='0230'\n"
     ]
    },
    {
     "name": "stderr",
     "output_type": "stream",
     "text": [
      "\u001b[32m[I 2022-08-16 07:50:02,174]\u001b[0m Trial 230 finished with value: 8472.98275862069 and parameters: {'kErase': 2, 'kRadius': 5, 'kAnnealingA': 14.625525636576791, 'kAnnealingB': 2.4109713212098884, 'kAnnealingStart': 6.208052637519328, 'kSkipRatio': 0.6270436436478529, 'kTargetDeterminationTrials': 10, 'kAttractionRatio': 0.5769737500472383, 'kMaxAttractionDistance': 15, 'kStartAttraction': 0.704949787358456}. Best is trial 96 with value: 8654.16091954023.\u001b[0m\n"
     ]
    },
    {
     "name": "stdout",
     "output_type": "stream",
     "text": [
      "index_parallel='0232'\n"
     ]
    },
    {
     "name": "stderr",
     "output_type": "stream",
     "text": [
      "\u001b[32m[I 2022-08-16 07:53:26,695]\u001b[0m Trial 232 finished with value: 8504.83908045977 and parameters: {'kErase': 2, 'kRadius': 5, 'kAnnealingA': 13.942167051152875, 'kAnnealingB': 2.4126475097291493, 'kAnnealingStart': 6.459573840786685, 'kSkipRatio': 0.6656583005084798, 'kTargetDeterminationTrials': 11, 'kAttractionRatio': 0.7012604315313089, 'kMaxAttractionDistance': 16, 'kStartAttraction': 0.6300382568268288}. Best is trial 96 with value: 8654.16091954023.\u001b[0m\n"
     ]
    },
    {
     "name": "stdout",
     "output_type": "stream",
     "text": [
      "index_parallel='0234'\n"
     ]
    },
    {
     "name": "stderr",
     "output_type": "stream",
     "text": [
      "\u001b[32m[I 2022-08-16 07:56:50,878]\u001b[0m Trial 234 finished with value: 8582.19540229885 and parameters: {'kErase': 2, 'kRadius': 5, 'kAnnealingA': 13.645315436180859, 'kAnnealingB': 2.3321181239530855, 'kAnnealingStart': 5.5826438188493706, 'kSkipRatio': 0.6030510777504129, 'kTargetDeterminationTrials': 9, 'kAttractionRatio': 0.7651300675635561, 'kMaxAttractionDistance': 18, 'kStartAttraction': 0.6000671758299042}. Best is trial 96 with value: 8654.16091954023.\u001b[0m\n"
     ]
    },
    {
     "name": "stdout",
     "output_type": "stream",
     "text": [
      "index_parallel='0236'\n"
     ]
    },
    {
     "name": "stderr",
     "output_type": "stream",
     "text": [
      "\u001b[32m[I 2022-08-16 08:00:15,206]\u001b[0m Trial 236 finished with value: 8526.62643678161 and parameters: {'kErase': 2, 'kRadius': 5, 'kAnnealingA': 13.84801262199216, 'kAnnealingB': 2.320932663330656, 'kAnnealingStart': 5.6767457443362135, 'kSkipRatio': 0.6133580499285047, 'kTargetDeterminationTrials': 9, 'kAttractionRatio': 0.766569625521858, 'kMaxAttractionDistance': 17, 'kStartAttraction': 0.5142007740852588}. Best is trial 96 with value: 8654.16091954023.\u001b[0m\n"
     ]
    },
    {
     "name": "stdout",
     "output_type": "stream",
     "text": [
      "index_parallel='0238'\n"
     ]
    },
    {
     "name": "stderr",
     "output_type": "stream",
     "text": [
      "\u001b[32m[I 2022-08-16 08:03:39,181]\u001b[0m Trial 238 finished with value: 8546.793103448275 and parameters: {'kErase': 2, 'kRadius': 5, 'kAnnealingA': 13.023035504173095, 'kAnnealingB': 2.2937838722796315, 'kAnnealingStart': 5.437965111407288, 'kSkipRatio': 0.6233351496423338, 'kTargetDeterminationTrials': 10, 'kAttractionRatio': 0.6185519303710836, 'kMaxAttractionDistance': 16, 'kStartAttraction': 0.7041807728475855}. Best is trial 96 with value: 8654.16091954023.\u001b[0m\n"
     ]
    },
    {
     "name": "stdout",
     "output_type": "stream",
     "text": [
      "index_parallel='0240'\n"
     ]
    },
    {
     "name": "stderr",
     "output_type": "stream",
     "text": [
      "\u001b[32m[I 2022-08-16 08:07:03,308]\u001b[0m Trial 240 finished with value: 8523.867816091954 and parameters: {'kErase': 2, 'kRadius': 5, 'kAnnealingA': 12.937290783415413, 'kAnnealingB': 2.4350392181098717, 'kAnnealingStart': 5.841031973858843, 'kSkipRatio': 0.6394694717560684, 'kTargetDeterminationTrials': 9, 'kAttractionRatio': 0.6505301901121354, 'kMaxAttractionDistance': 18, 'kStartAttraction': 0.8175872583893677}. Best is trial 96 with value: 8654.16091954023.\u001b[0m\n"
     ]
    },
    {
     "name": "stdout",
     "output_type": "stream",
     "text": [
      "index_parallel='0242'\n"
     ]
    },
    {
     "name": "stderr",
     "output_type": "stream",
     "text": [
      "\u001b[32m[I 2022-08-16 08:10:27,257]\u001b[0m Trial 242 finished with value: 8550.620689655172 and parameters: {'kErase': 2, 'kRadius': 5, 'kAnnealingA': 14.282503845161404, 'kAnnealingB': 2.361060617793902, 'kAnnealingStart': 4.981767776799078, 'kSkipRatio': 0.5960755990869644, 'kTargetDeterminationTrials': 11, 'kAttractionRatio': 0.8412239252310638, 'kMaxAttractionDistance': 17, 'kStartAttraction': 0.5929439812597601}. Best is trial 96 with value: 8654.16091954023.\u001b[0m\n"
     ]
    },
    {
     "name": "stdout",
     "output_type": "stream",
     "text": [
      "index_parallel='0244'\n"
     ]
    },
    {
     "name": "stderr",
     "output_type": "stream",
     "text": [
      "\u001b[32m[I 2022-08-16 08:13:51,100]\u001b[0m Trial 244 finished with value: 8256.270114942528 and parameters: {'kErase': 2, 'kRadius': 5, 'kAnnealingA': 14.996505818302138, 'kAnnealingB': 2.2618471237496225, 'kAnnealingStart': 9.344807992069681, 'kSkipRatio': 0.6552722407564497, 'kTargetDeterminationTrials': 10, 'kAttractionRatio': 0.7145797788625028, 'kMaxAttractionDistance': 19, 'kStartAttraction': 0.5836703455391116}. Best is trial 96 with value: 8654.16091954023.\u001b[0m\n"
     ]
    },
    {
     "name": "stdout",
     "output_type": "stream",
     "text": [
      "index_parallel='0246'\n"
     ]
    },
    {
     "name": "stderr",
     "output_type": "stream",
     "text": [
      "\u001b[32m[I 2022-08-16 08:17:15,073]\u001b[0m Trial 246 finished with value: 8505.977011494253 and parameters: {'kErase': 2, 'kRadius': 5, 'kAnnealingA': 13.728137015718657, 'kAnnealingB': 1.4491838396372805, 'kAnnealingStart': 6.456559353372565, 'kSkipRatio': 0.48162785069939756, 'kTargetDeterminationTrials': 8, 'kAttractionRatio': 0.7096083287948575, 'kMaxAttractionDistance': 17, 'kStartAttraction': 0.6872707538979996}. Best is trial 96 with value: 8654.16091954023.\u001b[0m\n"
     ]
    },
    {
     "name": "stdout",
     "output_type": "stream",
     "text": [
      "index_parallel='0248'\n"
     ]
    },
    {
     "name": "stderr",
     "output_type": "stream",
     "text": [
      "\u001b[32m[I 2022-08-16 08:20:39,121]\u001b[0m Trial 248 finished with value: 8474.540229885057 and parameters: {'kErase': 2, 'kRadius': 5, 'kAnnealingA': 12.59047727094762, 'kAnnealingB': 1.5461306167674764, 'kAnnealingStart': 4.461598758782308, 'kSkipRatio': 0.6107848739475262, 'kTargetDeterminationTrials': 12, 'kAttractionRatio': 0.7912983037541872, 'kMaxAttractionDistance': 20, 'kStartAttraction': 0.4730611552876746}. Best is trial 96 with value: 8654.16091954023.\u001b[0m\n"
     ]
    },
    {
     "name": "stdout",
     "output_type": "stream",
     "text": [
      "index_parallel='0250'\n"
     ]
    },
    {
     "name": "stderr",
     "output_type": "stream",
     "text": [
      "\u001b[32m[I 2022-08-16 08:24:03,350]\u001b[0m Trial 250 finished with value: 8492.919540229885 and parameters: {'kErase': 2, 'kRadius': 5, 'kAnnealingA': 14.51530358734812, 'kAnnealingB': 2.5538904034526486, 'kAnnealingStart': 3.9236908189457815, 'kSkipRatio': 0.5836985304221676, 'kTargetDeterminationTrials': 13, 'kAttractionRatio': 0.8995833488817161, 'kMaxAttractionDistance': 13, 'kStartAttraction': 0.42239643955189804}. Best is trial 96 with value: 8654.16091954023.\u001b[0m\n"
     ]
    },
    {
     "name": "stdout",
     "output_type": "stream",
     "text": [
      "index_parallel='0252'\n"
     ]
    },
    {
     "name": "stderr",
     "output_type": "stream",
     "text": [
      "\u001b[32m[I 2022-08-16 08:27:27,698]\u001b[0m Trial 252 finished with value: 8520.28735632184 and parameters: {'kErase': 2, 'kRadius': 5, 'kAnnealingA': 13.325038442240068, 'kAnnealingB': 2.288809109215151, 'kAnnealingStart': 6.173212355305321, 'kSkipRatio': 0.6434981070634338, 'kTargetDeterminationTrials': 11, 'kAttractionRatio': 0.6335372365392528, 'kMaxAttractionDistance': 16, 'kStartAttraction': 0.630496145999584}. Best is trial 96 with value: 8654.16091954023.\u001b[0m\n"
     ]
    },
    {
     "name": "stdout",
     "output_type": "stream",
     "text": [
      "index_parallel='0254'\n"
     ]
    },
    {
     "name": "stderr",
     "output_type": "stream",
     "text": [
      "\u001b[32m[I 2022-08-16 08:30:51,798]\u001b[0m Trial 254 finished with value: 8621.683908045978 and parameters: {'kErase': 2, 'kRadius': 5, 'kAnnealingA': 13.927760277883419, 'kAnnealingB': 1.8191790554644929, 'kAnnealingStart': 4.8348005774708485, 'kSkipRatio': 0.6223618418074711, 'kTargetDeterminationTrials': 14, 'kAttractionRatio': 0.7432983551596992, 'kMaxAttractionDistance': 21, 'kStartAttraction': 0.7724648383581197}. Best is trial 96 with value: 8654.16091954023.\u001b[0m\n"
     ]
    },
    {
     "name": "stdout",
     "output_type": "stream",
     "text": [
      "index_parallel='0256'\n"
     ]
    },
    {
     "name": "stderr",
     "output_type": "stream",
     "text": [
      "\u001b[32m[I 2022-08-16 08:34:15,862]\u001b[0m Trial 256 finished with value: 8663.534482758621 and parameters: {'kErase': 2, 'kRadius': 5, 'kAnnealingA': 14.995156599028773, 'kAnnealingB': 1.7699638045161656, 'kAnnealingStart': 5.5457669348732646, 'kSkipRatio': 0.6270798964801757, 'kTargetDeterminationTrials': 14, 'kAttractionRatio': 0.5749696379016894, 'kMaxAttractionDistance': 21, 'kStartAttraction': 0.7911459301372383}. Best is trial 256 with value: 8663.534482758621.\u001b[0m\n"
     ]
    },
    {
     "name": "stdout",
     "output_type": "stream",
     "text": [
      "Updated! 8663.534482758621\n",
      "index_parallel='0258'\n"
     ]
    },
    {
     "name": "stderr",
     "output_type": "stream",
     "text": [
      "\u001b[32m[I 2022-08-16 08:37:40,263]\u001b[0m Trial 258 finished with value: 8515.69540229885 and parameters: {'kErase': 2, 'kRadius': 5, 'kAnnealingA': 14.90752659253074, 'kAnnealingB': 1.7015698836027051, 'kAnnealingStart': 5.688425587587467, 'kSkipRatio': 0.6321324307413445, 'kTargetDeterminationTrials': 14, 'kAttractionRatio': 0.5301837947125684, 'kMaxAttractionDistance': 21, 'kStartAttraction': 0.821638744800474}. Best is trial 256 with value: 8663.534482758621.\u001b[0m\n"
     ]
    },
    {
     "name": "stdout",
     "output_type": "stream",
     "text": [
      "index_parallel='0260'\n"
     ]
    },
    {
     "name": "stderr",
     "output_type": "stream",
     "text": [
      "\u001b[32m[I 2022-08-16 08:41:04,177]\u001b[0m Trial 260 finished with value: 8576.948275862069 and parameters: {'kErase': 2, 'kRadius': 5, 'kAnnealingA': 14.982333547257758, 'kAnnealingB': 1.894224610641958, 'kAnnealingStart': 4.957133280737618, 'kSkipRatio': 0.6416757609583862, 'kTargetDeterminationTrials': 16, 'kAttractionRatio': 0.7219934340179096, 'kMaxAttractionDistance': 21, 'kStartAttraction': 0.7346883601823834}. Best is trial 256 with value: 8663.534482758621.\u001b[0m\n"
     ]
    },
    {
     "name": "stdout",
     "output_type": "stream",
     "text": [
      "index_parallel='0262'\n"
     ]
    },
    {
     "name": "stderr",
     "output_type": "stream",
     "text": [
      "\u001b[32m[I 2022-08-16 08:44:28,223]\u001b[0m Trial 262 finished with value: 8370.775862068966 and parameters: {'kErase': 2, 'kRadius': 5, 'kAnnealingA': 14.824518981235626, 'kAnnealingB': 1.8760565056955794, 'kAnnealingStart': 7.339069254670339, 'kSkipRatio': 0.640926536451721, 'kTargetDeterminationTrials': 17, 'kAttractionRatio': 0.7280120375797985, 'kMaxAttractionDistance': 21, 'kStartAttraction': 0.8699208799753295}. Best is trial 256 with value: 8663.534482758621.\u001b[0m\n"
     ]
    },
    {
     "name": "stdout",
     "output_type": "stream",
     "text": [
      "index_parallel='0264'\n"
     ]
    },
    {
     "name": "stderr",
     "output_type": "stream",
     "text": [
      "\u001b[32m[I 2022-08-16 08:47:52,503]\u001b[0m Trial 264 finished with value: 8690.896551724138 and parameters: {'kErase': 2, 'kRadius': 5, 'kAnnealingA': 14.130349664766184, 'kAnnealingB': 1.837918572197393, 'kAnnealingStart': 5.1018527266269444, 'kSkipRatio': 0.6314700674149795, 'kTargetDeterminationTrials': 16, 'kAttractionRatio': 0.81833434531777, 'kMaxAttractionDistance': 20, 'kStartAttraction': 0.7278135346718853}. Best is trial 264 with value: 8690.896551724138.\u001b[0m\n"
     ]
    },
    {
     "name": "stdout",
     "output_type": "stream",
     "text": [
      "Updated! 8690.896551724138\n",
      "index_parallel='0266'\n"
     ]
    },
    {
     "name": "stderr",
     "output_type": "stream",
     "text": [
      "\u001b[32m[I 2022-08-16 08:51:16,683]\u001b[0m Trial 266 finished with value: 8444.408045977012 and parameters: {'kErase': 2, 'kRadius': 5, 'kAnnealingA': 14.258823349233793, 'kAnnealingB': 1.6864737792362867, 'kAnnealingStart': 5.717436241271918, 'kSkipRatio': 0.6228532597419585, 'kTargetDeterminationTrials': 16, 'kAttractionRatio': 0.8344809960010419, 'kMaxAttractionDistance': 20, 'kStartAttraction': 0.8989843467576394}. Best is trial 264 with value: 8690.896551724138.\u001b[0m\n"
     ]
    },
    {
     "name": "stdout",
     "output_type": "stream",
     "text": [
      "index_parallel='0268'\n"
     ]
    },
    {
     "name": "stderr",
     "output_type": "stream",
     "text": [
      "\u001b[32m[I 2022-08-16 08:54:41,336]\u001b[0m Trial 268 finished with value: 8543.454022988506 and parameters: {'kErase': 2, 'kRadius': 5, 'kAnnealingA': 14.01423136007753, 'kAnnealingB': 1.839785273387396, 'kAnnealingStart': 6.567811161724546, 'kSkipRatio': 0.6508596997685749, 'kTargetDeterminationTrials': 18, 'kAttractionRatio': 0.5668925777436208, 'kMaxAttractionDistance': 19, 'kStartAttraction': 0.7530376530484775}. Best is trial 264 with value: 8690.896551724138.\u001b[0m\n"
     ]
    },
    {
     "name": "stdout",
     "output_type": "stream",
     "text": [
      "index_parallel='0270'\n"
     ]
    },
    {
     "name": "stderr",
     "output_type": "stream",
     "text": [
      "\u001b[32m[I 2022-08-16 08:58:05,216]\u001b[0m Trial 270 finished with value: 8538.965517241379 and parameters: {'kErase': 2, 'kRadius': 5, 'kAnnealingA': 13.85417971386636, 'kAnnealingB': 1.7505945380530847, 'kAnnealingStart': 5.033559510182412, 'kSkipRatio': 0.6369993478786348, 'kTargetDeterminationTrials': 15, 'kAttractionRatio': 0.5860885611164821, 'kMaxAttractionDistance': 18, 'kStartAttraction': 0.7325289670062538}. Best is trial 264 with value: 8690.896551724138.\u001b[0m\n"
     ]
    },
    {
     "name": "stdout",
     "output_type": "stream",
     "text": [
      "index_parallel='0272'\n"
     ]
    },
    {
     "name": "stderr",
     "output_type": "stream",
     "text": [
      "\u001b[32m[I 2022-08-16 09:01:29,715]\u001b[0m Trial 272 finished with value: 8494.402298850575 and parameters: {'kErase': 2, 'kRadius': 5, 'kAnnealingA': 14.40096787173909, 'kAnnealingB': 1.903087961400467, 'kAnnealingStart': 5.329076835741614, 'kSkipRatio': 0.6137605937286414, 'kTargetDeterminationTrials': 14, 'kAttractionRatio': 0.21779810350741186, 'kMaxAttractionDistance': 21, 'kStartAttraction': 0.6913889050654}. Best is trial 264 with value: 8690.896551724138.\u001b[0m\n"
     ]
    },
    {
     "name": "stdout",
     "output_type": "stream",
     "text": [
      "index_parallel='0274'\n"
     ]
    },
    {
     "name": "stderr",
     "output_type": "stream",
     "text": [
      "\u001b[32m[I 2022-08-16 09:04:53,597]\u001b[0m Trial 274 finished with value: 8566.028735632184 and parameters: {'kErase': 2, 'kRadius': 5, 'kAnnealingA': 13.330589186244925, 'kAnnealingB': 1.8174011352337283, 'kAnnealingStart': 5.967926275476855, 'kSkipRatio': 0.6732571482942147, 'kTargetDeterminationTrials': 17, 'kAttractionRatio': 0.6727070087774193, 'kMaxAttractionDistance': 22, 'kStartAttraction': 0.8007981369981346}. Best is trial 264 with value: 8690.896551724138.\u001b[0m\n"
     ]
    },
    {
     "name": "stdout",
     "output_type": "stream",
     "text": [
      "index_parallel='0276'\n"
     ]
    },
    {
     "name": "stderr",
     "output_type": "stream",
     "text": [
      "\u001b[32m[I 2022-08-16 09:08:17,512]\u001b[0m Trial 276 finished with value: 8600.948275862069 and parameters: {'kErase': 2, 'kRadius': 5, 'kAnnealingA': 14.988267341910582, 'kAnnealingB': 1.6432934892010513, 'kAnnealingStart': 4.635896115728909, 'kSkipRatio': 0.607946927352807, 'kTargetDeterminationTrials': 8, 'kAttractionRatio': 0.8209557237865911, 'kMaxAttractionDistance': 19, 'kStartAttraction': 0.8166614126107459}. Best is trial 264 with value: 8690.896551724138.\u001b[0m\n"
     ]
    },
    {
     "name": "stdout",
     "output_type": "stream",
     "text": [
      "index_parallel='0278'\n"
     ]
    },
    {
     "name": "stderr",
     "output_type": "stream",
     "text": [
      "\u001b[32m[I 2022-08-16 09:11:41,738]\u001b[0m Trial 278 finished with value: 7928.551724137931 and parameters: {'kErase': 2, 'kRadius': 5, 'kAnnealingA': 12.83780210519022, 'kAnnealingB': 1.5963568854280428, 'kAnnealingStart': 4.3583761799493015, 'kSkipRatio': 0.616640975307433, 'kTargetDeterminationTrials': 8, 'kAttractionRatio': 0.8228895893676191, 'kMaxAttractionDistance': 16, 'kStartAttraction': 0.0743056450377431}. Best is trial 264 with value: 8690.896551724138.\u001b[0m\n"
     ]
    },
    {
     "name": "stdout",
     "output_type": "stream",
     "text": [
      "index_parallel='0280'\n"
     ]
    },
    {
     "name": "stderr",
     "output_type": "stream",
     "text": [
      "\u001b[32m[I 2022-08-16 09:15:05,830]\u001b[0m Trial 280 finished with value: 8632.8908045977 and parameters: {'kErase': 2, 'kRadius': 5, 'kAnnealingA': 13.789778651865259, 'kAnnealingB': 1.675121103880517, 'kAnnealingStart': 5.544839434909462, 'kSkipRatio': 0.5988970672135608, 'kTargetDeterminationTrials': 7, 'kAttractionRatio': 0.8978659474021301, 'kMaxAttractionDistance': 18, 'kStartAttraction': 0.890396698501523}. Best is trial 264 with value: 8690.896551724138.\u001b[0m\n"
     ]
    },
    {
     "name": "stdout",
     "output_type": "stream",
     "text": [
      "index_parallel='0282'\n"
     ]
    },
    {
     "name": "stderr",
     "output_type": "stream",
     "text": [
      "\u001b[32m[I 2022-08-16 09:18:29,518]\u001b[0m Trial 282 finished with value: 8433.672413793103 and parameters: {'kErase': 2, 'kRadius': 5, 'kAnnealingA': 14.178140912992639, 'kAnnealingB': 1.671223539834256, 'kAnnealingStart': 5.541408313312836, 'kSkipRatio': 0.6012040529320444, 'kTargetDeterminationTrials': 9, 'kAttractionRatio': 0.8733550095662704, 'kMaxAttractionDistance': 14, 'kStartAttraction': 0.8958711131444601}. Best is trial 264 with value: 8690.896551724138.\u001b[0m\n"
     ]
    },
    {
     "name": "stdout",
     "output_type": "stream",
     "text": [
      "index_parallel='0284'\n"
     ]
    },
    {
     "name": "stderr",
     "output_type": "stream",
     "text": [
      "\u001b[32m[I 2022-08-16 09:21:54,056]\u001b[0m Trial 284 finished with value: 8520.413793103447 and parameters: {'kErase': 2, 'kRadius': 5, 'kAnnealingA': 12.04849394513261, 'kAnnealingB': 1.6641784663707455, 'kAnnealingStart': 6.141951786912472, 'kSkipRatio': 0.6284813431889362, 'kTargetDeterminationTrials': 8, 'kAttractionRatio': 0.8923838483819886, 'kMaxAttractionDistance': 17, 'kStartAttraction': 0.8819292933616478}. Best is trial 264 with value: 8690.896551724138.\u001b[0m\n"
     ]
    },
    {
     "name": "stdout",
     "output_type": "stream",
     "text": [
      "index_parallel='0286'\n"
     ]
    },
    {
     "name": "stderr",
     "output_type": "stream",
     "text": [
      "\u001b[32m[I 2022-08-16 09:25:18,466]\u001b[0m Trial 286 finished with value: 8591.931034482759 and parameters: {'kErase': 2, 'kRadius': 5, 'kAnnealingA': 12.923269171087746, 'kAnnealingB': 1.555685931023384, 'kAnnealingStart': 4.564678187594445, 'kSkipRatio': 0.6251067907037121, 'kTargetDeterminationTrials': 8, 'kAttractionRatio': 0.8174258249415292, 'kMaxAttractionDistance': 19, 'kStartAttraction': 0.7737294334904938}. Best is trial 264 with value: 8690.896551724138.\u001b[0m\n"
     ]
    },
    {
     "name": "stdout",
     "output_type": "stream",
     "text": [
      "index_parallel='0288'\n"
     ]
    },
    {
     "name": "stderr",
     "output_type": "stream",
     "text": [
      "\u001b[32m[I 2022-08-16 09:28:42,720]\u001b[0m Trial 288 finished with value: 8507.71264367816 and parameters: {'kErase': 2, 'kRadius': 5, 'kAnnealingA': 11.881800757032552, 'kAnnealingB': 1.6209117393947428, 'kAnnealingStart': 4.592680834805757, 'kSkipRatio': 0.6287191822056499, 'kTargetDeterminationTrials': 7, 'kAttractionRatio': 0.8218216830528187, 'kMaxAttractionDistance': 19, 'kStartAttraction': 0.8984510944735945}. Best is trial 264 with value: 8690.896551724138.\u001b[0m\n"
     ]
    },
    {
     "name": "stdout",
     "output_type": "stream",
     "text": [
      "index_parallel='0290'\n"
     ]
    },
    {
     "name": "stderr",
     "output_type": "stream",
     "text": [
      "\u001b[32m[I 2022-08-16 09:32:07,314]\u001b[0m Trial 290 finished with value: 8601.057471264368 and parameters: {'kErase': 2, 'kRadius': 5, 'kAnnealingA': 12.985143500635202, 'kAnnealingB': 1.5109891198845062, 'kAnnealingStart': 4.789450936001333, 'kSkipRatio': 0.6513265303961007, 'kTargetDeterminationTrials': 7, 'kAttractionRatio': 0.8972885121167578, 'kMaxAttractionDistance': 17, 'kStartAttraction': 0.7816398001281599}. Best is trial 264 with value: 8690.896551724138.\u001b[0m\n"
     ]
    },
    {
     "name": "stdout",
     "output_type": "stream",
     "text": [
      "index_parallel='0292'\n"
     ]
    },
    {
     "name": "stderr",
     "output_type": "stream",
     "text": [
      "\u001b[32m[I 2022-08-16 09:35:31,466]\u001b[0m Trial 292 finished with value: 7877.724137931034 and parameters: {'kErase': 3, 'kRadius': 5, 'kAnnealingA': 12.430786698131122, 'kAnnealingB': 1.487314584400001, 'kAnnealingStart': 8.569399700478927, 'kSkipRatio': 0.6674799793146099, 'kTargetDeterminationTrials': 7, 'kAttractionRatio': 0.8897514416557252, 'kMaxAttractionDistance': 15, 'kStartAttraction': 0.786682567367222}. Best is trial 264 with value: 8690.896551724138.\u001b[0m\n"
     ]
    },
    {
     "name": "stdout",
     "output_type": "stream",
     "text": [
      "index_parallel='0294'\n"
     ]
    },
    {
     "name": "stderr",
     "output_type": "stream",
     "text": [
      "\u001b[32m[I 2022-08-16 09:38:55,311]\u001b[0m Trial 294 finished with value: 8547.511494252874 and parameters: {'kErase': 2, 'kRadius': 6, 'kAnnealingA': 13.658964925287174, 'kAnnealingB': 1.6970792527794998, 'kAnnealingStart': 5.0086208426039205, 'kSkipRatio': 0.651479264739603, 'kTargetDeterminationTrials': 9, 'kAttractionRatio': 0.8952501171429689, 'kMaxAttractionDistance': 16, 'kStartAttraction': 0.6868553166167625}. Best is trial 264 with value: 8690.896551724138.\u001b[0m\n"
     ]
    },
    {
     "name": "stdout",
     "output_type": "stream",
     "text": [
      "index_parallel='0296'\n"
     ]
    },
    {
     "name": "stderr",
     "output_type": "stream",
     "text": [
      "\u001b[32m[I 2022-08-16 09:42:19,039]\u001b[0m Trial 296 finished with value: 8497.913793103447 and parameters: {'kErase': 2, 'kRadius': 5, 'kAnnealingA': 13.510614979155681, 'kAnnealingB': 1.6357429272744168, 'kAnnealingStart': 4.223024553802084, 'kSkipRatio': 0.6089485609701175, 'kTargetDeterminationTrials': 9, 'kAttractionRatio': 0.7588535143749194, 'kMaxAttractionDistance': 18, 'kStartAttraction': 0.8996471191199626}. Best is trial 264 with value: 8690.896551724138.\u001b[0m\n"
     ]
    },
    {
     "name": "stdout",
     "output_type": "stream",
     "text": [
      "index_parallel='0298'\n"
     ]
    },
    {
     "name": "stderr",
     "output_type": "stream",
     "text": [
      "\u001b[32m[I 2022-08-16 09:45:43,058]\u001b[0m Trial 298 finished with value: 8443.67816091954 and parameters: {'kErase': 2, 'kRadius': 5, 'kAnnealingA': 12.949770145329502, 'kAnnealingB': 1.5485964017859168, 'kAnnealingStart': 6.093373314860009, 'kSkipRatio': 0.5912501298952274, 'kTargetDeterminationTrials': 10, 'kAttractionRatio': 0.7082212682721649, 'kMaxAttractionDistance': 17, 'kStartAttraction': 0.5783331482143137}. Best is trial 264 with value: 8690.896551724138.\u001b[0m\n"
     ]
    },
    {
     "name": "stdout",
     "output_type": "stream",
     "text": [
      "index_parallel='0300'\n"
     ]
    },
    {
     "name": "stderr",
     "output_type": "stream",
     "text": [
      "\u001b[32m[I 2022-08-16 09:49:07,023]\u001b[0m Trial 300 finished with value: 6785.701149425287 and parameters: {'kErase': 2, 'kRadius': 5, 'kAnnealingA': 11.291456499588746, 'kAnnealingB': 1.7678175013257305, 'kAnnealingStart': 17.08089995899305, 'kSkipRatio': 0.6372276449245867, 'kTargetDeterminationTrials': 10, 'kAttractionRatio': 0.12292515706123772, 'kMaxAttractionDistance': 20, 'kStartAttraction': 0.7824617661032328}. Best is trial 264 with value: 8690.896551724138.\u001b[0m\n"
     ]
    },
    {
     "name": "stdout",
     "output_type": "stream",
     "text": [
      "index_parallel='0302'\n"
     ]
    },
    {
     "name": "stderr",
     "output_type": "stream",
     "text": [
      "\u001b[32m[I 2022-08-16 09:52:31,129]\u001b[0m Trial 302 finished with value: 8021.867816091954 and parameters: {'kErase': 2, 'kRadius': 5, 'kAnnealingA': 14.316528401754836, 'kAnnealingB': 0.35868922200141373, 'kAnnealingStart': 4.622584640663656, 'kSkipRatio': 0.6114130580484173, 'kTargetDeterminationTrials': 12, 'kAttractionRatio': 0.020887452176779772, 'kMaxAttractionDistance': 16, 'kStartAttraction': 0.6686351279677182}. Best is trial 264 with value: 8690.896551724138.\u001b[0m\n"
     ]
    },
    {
     "name": "stdout",
     "output_type": "stream",
     "text": [
      "index_parallel='0304'\n"
     ]
    },
    {
     "name": "stderr",
     "output_type": "stream",
     "text": [
      "\u001b[32m[I 2022-08-16 09:55:55,148]\u001b[0m Trial 304 finished with value: 8359.6091954023 and parameters: {'kErase': 2, 'kRadius': 5, 'kAnnealingA': 14.504871453205844, 'kAnnealingB': 1.5158302812480042, 'kAnnealingStart': 5.3499468079900225, 'kSkipRatio': 0.6012983936131695, 'kTargetDeterminationTrials': 11, 'kAttractionRatio': 0.8210239006768671, 'kMaxAttractionDistance': 14, 'kStartAttraction': 0.8961769425726253}. Best is trial 264 with value: 8690.896551724138.\u001b[0m\n"
     ]
    },
    {
     "name": "stdout",
     "output_type": "stream",
     "text": [
      "index_parallel='0306'\n"
     ]
    },
    {
     "name": "stderr",
     "output_type": "stream",
     "text": [
      "\u001b[32m[I 2022-08-16 09:59:19,218]\u001b[0m Trial 306 finished with value: 8523.810344827587 and parameters: {'kErase': 2, 'kRadius': 5, 'kAnnealingA': 13.833827036511137, 'kAnnealingB': 1.6401103910473391, 'kAnnealingStart': 3.742134655734922, 'kSkipRatio': 0.6216148832370098, 'kTargetDeterminationTrials': 8, 'kAttractionRatio': 0.6687220709182407, 'kMaxAttractionDistance': 18, 'kStartAttraction': 0.7211088648818224}. Best is trial 264 with value: 8690.896551724138.\u001b[0m\n"
     ]
    },
    {
     "name": "stdout",
     "output_type": "stream",
     "text": [
      "index_parallel='0307'\n"
     ]
    },
    {
     "name": "stderr",
     "output_type": "stream",
     "text": [
      "\u001b[32m[I 2022-08-16 10:02:43,082]\u001b[0m Trial 307 finished with value: 8506.741379310344 and parameters: {'kErase': 2, 'kRadius': 5, 'kAnnealingA': 13.318357060888887, 'kAnnealingB': 1.7145681945391944, 'kAnnealingStart': 4.214929653254666, 'kSkipRatio': 0.5836349317602895, 'kTargetDeterminationTrials': 7, 'kAttractionRatio': 0.7871926282308886, 'kMaxAttractionDistance': 17, 'kStartAttraction': 0.6547833148676008}. Best is trial 264 with value: 8690.896551724138.\u001b[0m\n"
     ]
    },
    {
     "name": "stdout",
     "output_type": "stream",
     "text": [
      "index_parallel='0309'\n"
     ]
    },
    {
     "name": "stderr",
     "output_type": "stream",
     "text": [
      "\u001b[32m[I 2022-08-16 10:06:07,686]\u001b[0m Trial 309 finished with value: 8540.580459770115 and parameters: {'kErase': 2, 'kRadius': 5, 'kAnnealingA': 11.854068419508279, 'kAnnealingB': 1.5959619741038187, 'kAnnealingStart': 5.749752262202283, 'kSkipRatio': 0.6609391966772572, 'kTargetDeterminationTrials': 8, 'kAttractionRatio': 0.6670532698193353, 'kMaxAttractionDistance': 15, 'kStartAttraction': 0.5627195867406687}. Best is trial 264 with value: 8690.896551724138.\u001b[0m\n"
     ]
    },
    {
     "name": "stdout",
     "output_type": "stream",
     "text": [
      "index_parallel='0311'\n"
     ]
    },
    {
     "name": "stderr",
     "output_type": "stream",
     "text": [
      "\u001b[32m[I 2022-08-16 10:09:31,828]\u001b[0m Trial 311 finished with value: 8608.856321839081 and parameters: {'kErase': 2, 'kRadius': 5, 'kAnnealingA': 14.876333515805069, 'kAnnealingB': 1.8227332691597178, 'kAnnealingStart': 5.0401084221692525, 'kSkipRatio': 0.6164599765388014, 'kTargetDeterminationTrials': 13, 'kAttractionRatio': 0.7207833223430686, 'kMaxAttractionDistance': 19, 'kStartAttraction': 0.7708718973544495}. Best is trial 264 with value: 8690.896551724138.\u001b[0m\n"
     ]
    },
    {
     "name": "stdout",
     "output_type": "stream",
     "text": [
      "index_parallel='0313'\n"
     ]
    },
    {
     "name": "stderr",
     "output_type": "stream",
     "text": [
      "\u001b[32m[I 2022-08-16 10:12:55,905]\u001b[0m Trial 313 finished with value: 8605.534482758621 and parameters: {'kErase': 2, 'kRadius': 5, 'kAnnealingA': 14.776041883860126, 'kAnnealingB': 1.8769332489635109, 'kAnnealingStart': 4.017755447251173, 'kSkipRatio': 0.6111110237285405, 'kTargetDeterminationTrials': 12, 'kAttractionRatio': 0.7336099441929737, 'kMaxAttractionDistance': 20, 'kStartAttraction': 0.6522386628103661}. Best is trial 264 with value: 8690.896551724138.\u001b[0m\n"
     ]
    },
    {
     "name": "stdout",
     "output_type": "stream",
     "text": [
      "index_parallel='0315'\n"
     ]
    },
    {
     "name": "stderr",
     "output_type": "stream",
     "text": [
      "\u001b[32m[I 2022-08-16 10:16:19,705]\u001b[0m Trial 315 finished with value: 8459.333333333334 and parameters: {'kErase': 2, 'kRadius': 5, 'kAnnealingA': 14.039102879783531, 'kAnnealingB': 1.931654982276586, 'kAnnealingStart': 3.964441008798776, 'kSkipRatio': 0.6125674688560996, 'kTargetDeterminationTrials': 12, 'kAttractionRatio': 0.7219580112175717, 'kMaxAttractionDistance': 21, 'kStartAttraction': 0.5626466924466758}. Best is trial 264 with value: 8690.896551724138.\u001b[0m\n"
     ]
    },
    {
     "name": "stdout",
     "output_type": "stream",
     "text": [
      "index_parallel='0317'\n"
     ]
    },
    {
     "name": "stderr",
     "output_type": "stream",
     "text": [
      "\u001b[32m[I 2022-08-16 10:19:43,620]\u001b[0m Trial 317 finished with value: 8550.33908045977 and parameters: {'kErase': 2, 'kRadius': 5, 'kAnnealingA': 13.522047408914924, 'kAnnealingB': 1.8592805895490558, 'kAnnealingStart': 3.7671844554301805, 'kSkipRatio': 0.5970183685459672, 'kTargetDeterminationTrials': 14, 'kAttractionRatio': 0.7280696315399218, 'kMaxAttractionDistance': 20, 'kStartAttraction': 0.5012335834120198}. Best is trial 264 with value: 8690.896551724138.\u001b[0m\n"
     ]
    },
    {
     "name": "stdout",
     "output_type": "stream",
     "text": [
      "index_parallel='0319'\n"
     ]
    },
    {
     "name": "stderr",
     "output_type": "stream",
     "text": [
      "\u001b[32m[I 2022-08-16 10:23:07,852]\u001b[0m Trial 319 finished with value: 8508.8908045977 and parameters: {'kErase': 2, 'kRadius': 5, 'kAnnealingA': 14.382525610914847, 'kAnnealingB': 1.780398239319747, 'kAnnealingStart': 4.4250085255513465, 'kSkipRatio': 0.578178664562372, 'kTargetDeterminationTrials': 14, 'kAttractionRatio': 0.8068045768267783, 'kMaxAttractionDistance': 65, 'kStartAttraction': 0.7582534661484833}. Best is trial 264 with value: 8690.896551724138.\u001b[0m\n"
     ]
    },
    {
     "name": "stdout",
     "output_type": "stream",
     "text": [
      "index_parallel='0321'\n"
     ]
    },
    {
     "name": "stderr",
     "output_type": "stream",
     "text": [
      "\u001b[32m[I 2022-08-16 10:26:31,798]\u001b[0m Trial 321 finished with value: 7322.764367816092 and parameters: {'kErase': 2, 'kRadius': 5, 'kAnnealingA': 14.966874597104962, 'kAnnealingB': 1.6409655555129579, 'kAnnealingStart': 23.781191673912247, 'kSkipRatio': 0.6929257616482914, 'kTargetDeterminationTrials': 13, 'kAttractionRatio': 0.8242344086179195, 'kMaxAttractionDistance': 18, 'kStartAttraction': 0.6352434131402974}. Best is trial 264 with value: 8690.896551724138.\u001b[0m\n"
     ]
    },
    {
     "name": "stdout",
     "output_type": "stream",
     "text": [
      "index_parallel='0323'\n"
     ]
    },
    {
     "name": "stderr",
     "output_type": "stream",
     "text": [
      "\u001b[32m[I 2022-08-16 10:29:55,972]\u001b[0m Trial 323 finished with value: 8638.793103448275 and parameters: {'kErase': 2, 'kRadius': 5, 'kAnnealingA': 13.0658146572841, 'kAnnealingB': 1.452976481388502, 'kAnnealingStart': 4.062474559023772, 'kSkipRatio': 0.635547374764935, 'kTargetDeterminationTrials': 12, 'kAttractionRatio': 0.708336646016175, 'kMaxAttractionDistance': 22, 'kStartAttraction': 0.7176183533976518}. Best is trial 264 with value: 8690.896551724138.\u001b[0m\n"
     ]
    },
    {
     "name": "stdout",
     "output_type": "stream",
     "text": [
      "index_parallel='0325'\n"
     ]
    },
    {
     "name": "stderr",
     "output_type": "stream",
     "text": [
      "\u001b[32m[I 2022-08-16 10:33:20,257]\u001b[0m Trial 325 finished with value: 8437.045977011494 and parameters: {'kErase': 2, 'kRadius': 5, 'kAnnealingA': 13.03817005654477, 'kAnnealingB': 1.4506594152937777, 'kAnnealingStart': 4.832208006541298, 'kSkipRatio': 0.6434124522484477, 'kTargetDeterminationTrials': 11, 'kAttractionRatio': 0.17283205718304176, 'kMaxAttractionDistance': 22, 'kStartAttraction': 0.7106849447095145}. Best is trial 264 with value: 8690.896551724138.\u001b[0m\n"
     ]
    },
    {
     "name": "stdout",
     "output_type": "stream",
     "text": [
      "index_parallel='0327'\n"
     ]
    },
    {
     "name": "stderr",
     "output_type": "stream",
     "text": [
      "\u001b[32m[I 2022-08-16 10:36:43,995]\u001b[0m Trial 327 finished with value: 8414.16091954023 and parameters: {'kErase': 2, 'kRadius': 5, 'kAnnealingA': 13.80759532105187, 'kAnnealingB': 1.4966604344097785, 'kAnnealingStart': 4.096775648452379, 'kSkipRatio': 0.6355156802836361, 'kTargetDeterminationTrials': 12, 'kAttractionRatio': 0.5991667754849386, 'kMaxAttractionDistance': 20, 'kStartAttraction': 0.4137621462469753}. Best is trial 264 with value: 8690.896551724138.\u001b[0m\n"
     ]
    },
    {
     "name": "stdout",
     "output_type": "stream",
     "text": [
      "index_parallel='0329'\n"
     ]
    },
    {
     "name": "stderr",
     "output_type": "stream",
     "text": [
      "\u001b[32m[I 2022-08-16 10:40:08,292]\u001b[0m Trial 329 finished with value: 8564.206896551725 and parameters: {'kErase': 2, 'kRadius': 5, 'kAnnealingA': 14.393780633749, 'kAnnealingB': 1.5482320636161881, 'kAnnealingStart': 4.510866713195479, 'kSkipRatio': 0.6182279675871147, 'kTargetDeterminationTrials': 12, 'kAttractionRatio': 0.5286879691755417, 'kMaxAttractionDistance': 19, 'kStartAttraction': 0.5569297368623392}. Best is trial 264 with value: 8690.896551724138.\u001b[0m\n"
     ]
    },
    {
     "name": "stdout",
     "output_type": "stream",
     "text": [
      "index_parallel='0331'\n"
     ]
    },
    {
     "name": "stderr",
     "output_type": "stream",
     "text": [
      "\u001b[32m[I 2022-08-16 10:43:32,315]\u001b[0m Trial 331 finished with value: 8483.781609195403 and parameters: {'kErase': 2, 'kRadius': 5, 'kAnnealingA': 14.98421963024745, 'kAnnealingB': 1.768792447543547, 'kAnnealingStart': 5.054142202941823, 'kSkipRatio': 0.6180827875256457, 'kTargetDeterminationTrials': 13, 'kAttractionRatio': 0.7570202800112478, 'kMaxAttractionDistance': 96, 'kStartAttraction': 0.7687659695775974}. Best is trial 264 with value: 8690.896551724138.\u001b[0m\n"
     ]
    },
    {
     "name": "stdout",
     "output_type": "stream",
     "text": [
      "index_parallel='0333'\n"
     ]
    },
    {
     "name": "stderr",
     "output_type": "stream",
     "text": [
      "\u001b[32m[I 2022-08-16 10:46:56,480]\u001b[0m Trial 333 finished with value: 8500.333333333334 and parameters: {'kErase': 2, 'kRadius': 5, 'kAnnealingA': 12.609745507800389, 'kAnnealingB': 1.6032565699885637, 'kAnnealingStart': 4.03356139813196, 'kSkipRatio': 0.5899591955670741, 'kTargetDeterminationTrials': 10, 'kAttractionRatio': 0.6712955044114562, 'kMaxAttractionDistance': 18, 'kStartAttraction': 0.632906335473448}. Best is trial 264 with value: 8690.896551724138.\u001b[0m\n"
     ]
    },
    {
     "name": "stdout",
     "output_type": "stream",
     "text": [
      "index_parallel='0335'\n"
     ]
    },
    {
     "name": "stderr",
     "output_type": "stream",
     "text": [
      "\u001b[32m[I 2022-08-16 10:50:20,421]\u001b[0m Trial 335 finished with value: 8397.298850574713 and parameters: {'kErase': 2, 'kRadius': 5, 'kAnnealingA': -10.041612002009531, 'kAnnealingB': 1.6822032788316428, 'kAnnealingStart': 4.56234870194594, 'kSkipRatio': 0.6508391893174562, 'kTargetDeterminationTrials': 11, 'kAttractionRatio': 0.6817164008149613, 'kMaxAttractionDistance': 20, 'kStartAttraction': 0.8014694481292723}. Best is trial 264 with value: 8690.896551724138.\u001b[0m\n"
     ]
    },
    {
     "name": "stdout",
     "output_type": "stream",
     "text": [
      "index_parallel='0337'\n"
     ]
    },
    {
     "name": "stderr",
     "output_type": "stream",
     "text": [
      "\u001b[32m[I 2022-08-16 10:53:44,561]\u001b[0m Trial 337 finished with value: 8567.034482758621 and parameters: {'kErase': 2, 'kRadius': 5, 'kAnnealingA': 13.413855427159318, 'kAnnealingB': 1.4113883751938805, 'kAnnealingStart': 5.163676851054906, 'kSkipRatio': 0.6052995503108063, 'kTargetDeterminationTrials': 13, 'kAttractionRatio': 0.8984016006392728, 'kMaxAttractionDistance': 23, 'kStartAttraction': 0.7013893541892621}. Best is trial 264 with value: 8690.896551724138.\u001b[0m\n"
     ]
    },
    {
     "name": "stdout",
     "output_type": "stream",
     "text": [
      "index_parallel='0339'\n"
     ]
    },
    {
     "name": "stderr",
     "output_type": "stream",
     "text": [
      "\u001b[32m[I 2022-08-16 10:57:08,760]\u001b[0m Trial 339 finished with value: 8518.775862068966 and parameters: {'kErase': 2, 'kRadius': 5, 'kAnnealingA': 14.209306821689568, 'kAnnealingB': 1.8929401082222679, 'kAnnealingStart': 3.593860093498304, 'kSkipRatio': 0.6315762848262705, 'kTargetDeterminationTrials': 14, 'kAttractionRatio': 0.7686192310219211, 'kMaxAttractionDistance': 19, 'kStartAttraction': 0.5088061009699497}. Best is trial 338 with value: 8743.333333333334.\u001b[0m\n"
     ]
    },
    {
     "name": "stdout",
     "output_type": "stream",
     "text": [
      "index_parallel='0341'\n"
     ]
    },
    {
     "name": "stderr",
     "output_type": "stream",
     "text": [
      "\u001b[32m[I 2022-08-16 11:00:32,751]\u001b[0m Trial 341 finished with value: 8647.798850574713 and parameters: {'kErase': 1, 'kRadius': 5, 'kAnnealingA': 12.968494343740629, 'kAnnealingB': 1.9172088692365206, 'kAnnealingStart': 5.7710673620488775, 'kSkipRatio': 0.6691350356588964, 'kTargetDeterminationTrials': 14, 'kAttractionRatio': 0.6105932008262449, 'kMaxAttractionDistance': 21, 'kStartAttraction': 0.5777296640795124}. Best is trial 338 with value: 8743.333333333334.\u001b[0m\n"
     ]
    },
    {
     "name": "stdout",
     "output_type": "stream",
     "text": [
      "index_parallel='0343'\n"
     ]
    },
    {
     "name": "stderr",
     "output_type": "stream",
     "text": [
      "\u001b[32m[I 2022-08-16 11:03:56,797]\u001b[0m Trial 343 finished with value: 8484.091954022988 and parameters: {'kErase': 1, 'kRadius': 6, 'kAnnealingA': 12.615039941421696, 'kAnnealingB': 1.803971271200362, 'kAnnealingStart': 6.572261907224739, 'kSkipRatio': 0.6237433146338555, 'kTargetDeterminationTrials': 14, 'kAttractionRatio': 0.2670945476670268, 'kMaxAttractionDistance': 22, 'kStartAttraction': 0.6317388575836457}. Best is trial 338 with value: 8743.333333333334.\u001b[0m\n"
     ]
    },
    {
     "name": "stdout",
     "output_type": "stream",
     "text": [
      "index_parallel='0345'\n"
     ]
    },
    {
     "name": "stderr",
     "output_type": "stream",
     "text": [
      "\u001b[32m[I 2022-08-16 11:07:20,644]\u001b[0m Trial 345 finished with value: 8612.293103448275 and parameters: {'kErase': 1, 'kRadius': 5, 'kAnnealingA': 13.200580782385426, 'kAnnealingB': 1.8680573255571007, 'kAnnealingStart': 5.626944498849153, 'kSkipRatio': 0.6717157613301207, 'kTargetDeterminationTrials': 15, 'kAttractionRatio': 0.542241464607959, 'kMaxAttractionDistance': 22, 'kStartAttraction': 0.5868516841413347}. Best is trial 338 with value: 8743.333333333334.\u001b[0m\n"
     ]
    },
    {
     "name": "stdout",
     "output_type": "stream",
     "text": [
      "index_parallel='0347'\n"
     ]
    },
    {
     "name": "stderr",
     "output_type": "stream",
     "text": [
      "\u001b[32m[I 2022-08-16 11:10:44,167]\u001b[0m Trial 347 finished with value: 8553.48275862069 and parameters: {'kErase': 1, 'kRadius': 4, 'kAnnealingA': 13.587162093833651, 'kAnnealingB': 1.9432287401381867, 'kAnnealingStart': 5.885381286415533, 'kSkipRatio': 0.6700759440522536, 'kTargetDeterminationTrials': 16, 'kAttractionRatio': 0.5002589856666259, 'kMaxAttractionDistance': 24, 'kStartAttraction': 0.5323644548918968}. Best is trial 338 with value: 8743.333333333334.\u001b[0m\n"
     ]
    },
    {
     "name": "stdout",
     "output_type": "stream",
     "text": [
      "index_parallel='0349'\n"
     ]
    },
    {
     "name": "stderr",
     "output_type": "stream",
     "text": [
      "\u001b[32m[I 2022-08-16 11:14:08,053]\u001b[0m Trial 349 finished with value: 8562.068965517241 and parameters: {'kErase': 1, 'kRadius': 5, 'kAnnealingA': 13.647273790604327, 'kAnnealingB': 1.8607408731849262, 'kAnnealingStart': 6.393929580271894, 'kSkipRatio': 0.6729613753182759, 'kTargetDeterminationTrials': 19, 'kAttractionRatio': 0.5574584945410586, 'kMaxAttractionDistance': 21, 'kStartAttraction': 0.5931356130540301}. Best is trial 338 with value: 8743.333333333334.\u001b[0m\n"
     ]
    },
    {
     "name": "stdout",
     "output_type": "stream",
     "text": [
      "index_parallel='0351'\n"
     ]
    },
    {
     "name": "stderr",
     "output_type": "stream",
     "text": [
      "\u001b[32m[I 2022-08-16 11:17:32,005]\u001b[0m Trial 351 finished with value: 8429.120689655172 and parameters: {'kErase': 1, 'kRadius': 5, 'kAnnealingA': 13.05239477712578, 'kAnnealingB': 1.988730593388255, 'kAnnealingStart': 1.453207693678471, 'kSkipRatio': 0.6866746571916772, 'kTargetDeterminationTrials': 18, 'kAttractionRatio': 0.46935915534741424, 'kMaxAttractionDistance': 22, 'kStartAttraction': 0.660569712233075}. Best is trial 338 with value: 8743.333333333334.\u001b[0m\n"
     ]
    },
    {
     "name": "stdout",
     "output_type": "stream",
     "text": [
      "index_parallel='0353'\n"
     ]
    },
    {
     "name": "stderr",
     "output_type": "stream",
     "text": [
      "\u001b[32m[I 2022-08-16 11:20:57,079]\u001b[0m Trial 353 finished with value: 8570.1091954023 and parameters: {'kErase': 1, 'kRadius': 5, 'kAnnealingA': 14.308391622878954, 'kAnnealingB': 1.948301752929133, 'kAnnealingStart': 7.134502337926229, 'kSkipRatio': 0.6448157647715927, 'kTargetDeterminationTrials': 17, 'kAttractionRatio': 0.6021480568913841, 'kMaxAttractionDistance': 23, 'kStartAttraction': 0.46915978011328974}. Best is trial 338 with value: 8743.333333333334.\u001b[0m\n"
     ]
    },
    {
     "name": "stdout",
     "output_type": "stream",
     "text": [
      "index_parallel='0355'\n"
     ]
    },
    {
     "name": "stderr",
     "output_type": "stream",
     "text": [
      "\u001b[32m[I 2022-08-16 11:24:20,558]\u001b[0m Trial 355 finished with value: 8240.689655172413 and parameters: {'kErase': 1, 'kRadius': 5, 'kAnnealingA': 14.013045526871112, 'kAnnealingB': 1.8955520978889577, 'kAnnealingStart': 1.09207234810976, 'kSkipRatio': 0.7000012885489704, 'kTargetDeterminationTrials': 15, 'kAttractionRatio': 0.4255075012241275, 'kMaxAttractionDistance': 21, 'kStartAttraction': 0.674551276391009}. Best is trial 338 with value: 8743.333333333334.\u001b[0m\n"
     ]
    },
    {
     "name": "stdout",
     "output_type": "stream",
     "text": [
      "index_parallel='0357'\n"
     ]
    },
    {
     "name": "stderr",
     "output_type": "stream",
     "text": [
      "\u001b[32m[I 2022-08-16 11:27:44,189]\u001b[0m Trial 357 finished with value: 8572.37356321839 and parameters: {'kErase': 1, 'kRadius': 5, 'kAnnealingA': 12.990882502126789, 'kAnnealingB': 1.831946143157105, 'kAnnealingStart': 5.7692362409569995, 'kSkipRatio': 0.5758499740852269, 'kTargetDeterminationTrials': 14, 'kAttractionRatio': 0.5231875992033487, 'kMaxAttractionDistance': 25, 'kStartAttraction': 0.6802560195898478}. Best is trial 338 with value: 8743.333333333334.\u001b[0m\n"
     ]
    },
    {
     "name": "stdout",
     "output_type": "stream",
     "text": [
      "index_parallel='0359'\n"
     ]
    },
    {
     "name": "stderr",
     "output_type": "stream",
     "text": [
      "\u001b[32m[I 2022-08-16 11:31:09,290]\u001b[0m Trial 359 finished with value: 7713.040229885058 and parameters: {'kErase': 1, 'kRadius': 5, 'kAnnealingA': 13.542696581597731, 'kAnnealingB': 1.829361816889798, 'kAnnealingStart': 6.4019828873634905, 'kSkipRatio': 0.5765750969744398, 'kTargetDeterminationTrials': 16, 'kAttractionRatio': 0.49186526953883813, 'kMaxAttractionDistance': 24, 'kStartAttraction': 0.005534326298625073}. Best is trial 338 with value: 8743.333333333334.\u001b[0m\n"
     ]
    },
    {
     "name": "stdout",
     "output_type": "stream",
     "text": [
      "index_parallel='0361'\n"
     ]
    },
    {
     "name": "stderr",
     "output_type": "stream",
     "text": [
      "\u001b[32m[I 2022-08-16 11:34:32,925]\u001b[0m Trial 361 finished with value: 8640.781609195403 and parameters: {'kErase': 1, 'kRadius': 5, 'kAnnealingA': 12.563053249821007, 'kAnnealingB': 1.812289746725796, 'kAnnealingStart': 5.732747049338911, 'kSkipRatio': 0.5860428057769659, 'kTargetDeterminationTrials': 15, 'kAttractionRatio': 0.4441483048589514, 'kMaxAttractionDistance': 23, 'kStartAttraction': 0.7045995560320019}. Best is trial 338 with value: 8743.333333333334.\u001b[0m\n"
     ]
    },
    {
     "name": "stdout",
     "output_type": "stream",
     "text": [
      "index_parallel='0363'\n"
     ]
    },
    {
     "name": "stderr",
     "output_type": "stream",
     "text": [
      "\u001b[32m[I 2022-08-16 11:37:56,682]\u001b[0m Trial 363 finished with value: 7934.942528735633 and parameters: {'kErase': 1, 'kRadius': 5, 'kAnnealingA': 12.71521910441717, 'kAnnealingB': 1.916118338538439, 'kAnnealingStart': 6.694912998570634, 'kSkipRatio': 0.5875870841388412, 'kTargetDeterminationTrials': 15, 'kAttractionRatio': 0.5581660279595381, 'kMaxAttractionDistance': 23, 'kStartAttraction': 0.05457948062244908}. Best is trial 338 with value: 8743.333333333334.\u001b[0m\n"
     ]
    },
    {
     "name": "stdout",
     "output_type": "stream",
     "text": [
      "index_parallel='0365'\n"
     ]
    },
    {
     "name": "stderr",
     "output_type": "stream",
     "text": [
      "\u001b[32m[I 2022-08-16 11:41:20,487]\u001b[0m Trial 365 finished with value: 8643.8908045977 and parameters: {'kErase': 1, 'kRadius': 5, 'kAnnealingA': 12.764556607513963, 'kAnnealingB': 1.805429088771985, 'kAnnealingStart': 5.554476625518488, 'kSkipRatio': 0.6614472386161669, 'kTargetDeterminationTrials': 15, 'kAttractionRatio': 0.5533357891489912, 'kMaxAttractionDistance': 22, 'kStartAttraction': 0.598166200421051}. Best is trial 338 with value: 8743.333333333334.\u001b[0m\n"
     ]
    },
    {
     "name": "stdout",
     "output_type": "stream",
     "text": [
      "index_parallel='0367'\n"
     ]
    }
   ],
   "source": [
    "study.optimize(\n",
    "    partial(objective, in_dir=in_dir, work_dir=work_dir),\n",
    "    n_trials=3000,\n",
    "    timeout=86400,\n",
    "    callbacks=[callback]\n",
    ")"
   ]
  },
  {
   "cell_type": "code",
   "execution_count": null,
   "id": "700269d2",
   "metadata": {},
   "outputs": [],
   "source": []
  }
 ],
 "metadata": {
  "kernelspec": {
   "display_name": "Python 3 (ipykernel)",
   "language": "python",
   "name": "python3"
  },
  "language_info": {
   "codemirror_mode": {
    "name": "ipython",
    "version": 3
   },
   "file_extension": ".py",
   "mimetype": "text/x-python",
   "name": "python",
   "nbconvert_exporter": "python",
   "pygments_lexer": "ipython3",
   "version": "3.9.12"
  }
 },
 "nbformat": 4,
 "nbformat_minor": 5
}
