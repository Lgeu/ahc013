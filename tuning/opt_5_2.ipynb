{
 "cells": [
  {
   "cell_type": "code",
   "execution_count": 1,
   "id": "25a1dac8",
   "metadata": {},
   "outputs": [],
   "source": [
    "import re\n",
    "import sys\n",
    "from uuid import uuid1\n",
    "from time import sleep\n",
    "from pprint import pprint\n",
    "from pathlib import Path\n",
    "from tempfile import gettempdir\n",
    "from threading import Thread\n",
    "from functools import partial\n",
    "from subprocess import Popen, PIPE\n",
    "\n",
    "from tqdm.notebook import tqdm\n",
    "import numpy as np\n",
    "import optuna\n",
    "import pandas as pd\n",
    "import matplotlib.pyplot as plt\n",
    "\n",
    "FILENAME = \"main.cpp\""
   ]
  },
  {
   "cell_type": "code",
   "execution_count": 2,
   "id": "3dd4d02e",
   "metadata": {},
   "outputs": [
    {
     "name": "stdout",
     "output_type": "stream",
     "text": [
      "10 variables were found.\n"
     ]
    },
    {
     "data": {
      "text/html": [
       "<div>\n",
       "<style scoped>\n",
       "    .dataframe tbody tr th:only-of-type {\n",
       "        vertical-align: middle;\n",
       "    }\n",
       "\n",
       "    .dataframe tbody tr th {\n",
       "        vertical-align: top;\n",
       "    }\n",
       "\n",
       "    .dataframe thead th {\n",
       "        text-align: right;\n",
       "    }\n",
       "</style>\n",
       "<table border=\"1\" class=\"dataframe\">\n",
       "  <thead>\n",
       "    <tr style=\"text-align: right;\">\n",
       "      <th></th>\n",
       "      <th>name</th>\n",
       "      <th>method</th>\n",
       "      <th>min</th>\n",
       "      <th>max</th>\n",
       "      <th>log</th>\n",
       "      <th>left</th>\n",
       "      <th>right</th>\n",
       "    </tr>\n",
       "  </thead>\n",
       "  <tbody>\n",
       "    <tr>\n",
       "      <th>0</th>\n",
       "      <td>kErase</td>\n",
       "      <td>suggest_int</td>\n",
       "      <td>1.000</td>\n",
       "      <td>5.0</td>\n",
       "      <td>False</td>\n",
       "      <td>static constexpr auto kErase =</td>\n",
       "      <td>;             // OPTIMIZE [1, 5]</td>\n",
       "    </tr>\n",
       "    <tr>\n",
       "      <th>1</th>\n",
       "      <td>kRadius</td>\n",
       "      <td>suggest_int</td>\n",
       "      <td>2.000</td>\n",
       "      <td>6.0</td>\n",
       "      <td>False</td>\n",
       "      <td>static constexpr auto kRadius =</td>\n",
       "      <td>;            // OPTIMIZE [2, 6]</td>\n",
       "    </tr>\n",
       "    <tr>\n",
       "      <th>2</th>\n",
       "      <td>kAnnealingA</td>\n",
       "      <td>suggest_float</td>\n",
       "      <td>-15.000</td>\n",
       "      <td>15.0</td>\n",
       "      <td>False</td>\n",
       "      <td>static constexpr auto kAnnealingA =</td>\n",
       "      <td>;      // OPTIMIZE [-15.0, 15.0]</td>\n",
       "    </tr>\n",
       "    <tr>\n",
       "      <th>3</th>\n",
       "      <td>kAnnealingB</td>\n",
       "      <td>suggest_float</td>\n",
       "      <td>0.000</td>\n",
       "      <td>3.0</td>\n",
       "      <td>False</td>\n",
       "      <td>static constexpr auto kAnnealingB =</td>\n",
       "      <td>;      // OPTIMIZE [0.0, 3.0]</td>\n",
       "    </tr>\n",
       "    <tr>\n",
       "      <th>4</th>\n",
       "      <td>kAnnealingStart</td>\n",
       "      <td>suggest_float</td>\n",
       "      <td>1.000</td>\n",
       "      <td>100.0</td>\n",
       "      <td>True</td>\n",
       "      <td>static constexpr auto kAnnealingStart =</td>\n",
       "      <td>; // OPTIMIZE LOG [1.0, 100.0]</td>\n",
       "    </tr>\n",
       "    <tr>\n",
       "      <th>5</th>\n",
       "      <td>kSkipRatio</td>\n",
       "      <td>suggest_float</td>\n",
       "      <td>0.200</td>\n",
       "      <td>0.8</td>\n",
       "      <td>False</td>\n",
       "      <td>static constexpr auto kSkipRatio =</td>\n",
       "      <td>;       // OPTIMIZE [0.2, 0.8]</td>\n",
       "    </tr>\n",
       "    <tr>\n",
       "      <th>6</th>\n",
       "      <td>kTargetDeterminationTrials</td>\n",
       "      <td>suggest_int</td>\n",
       "      <td>1.000</td>\n",
       "      <td>20.0</td>\n",
       "      <td>True</td>\n",
       "      <td>static constexpr auto kTargetDeterminationTria...</td>\n",
       "      <td>; // OPTIMIZE LOG [1, 20]</td>\n",
       "    </tr>\n",
       "    <tr>\n",
       "      <th>7</th>\n",
       "      <td>kAttractionRatio</td>\n",
       "      <td>suggest_float</td>\n",
       "      <td>0.010</td>\n",
       "      <td>0.9</td>\n",
       "      <td>True</td>\n",
       "      <td>static constexpr auto kAttractionRatio =</td>\n",
       "      <td>;      // OPTIMIZE LOG [0.01, 0.9]</td>\n",
       "    </tr>\n",
       "    <tr>\n",
       "      <th>8</th>\n",
       "      <td>kMaxAttractionDistance</td>\n",
       "      <td>suggest_int</td>\n",
       "      <td>4.000</td>\n",
       "      <td>99.0</td>\n",
       "      <td>True</td>\n",
       "      <td>static constexpr auto kMaxAttractionDistance =</td>\n",
       "      <td>; // OPTIMIZE LOG [4, 99]</td>\n",
       "    </tr>\n",
       "    <tr>\n",
       "      <th>9</th>\n",
       "      <td>kStartAttraction</td>\n",
       "      <td>suggest_float</td>\n",
       "      <td>0.001</td>\n",
       "      <td>0.9</td>\n",
       "      <td>True</td>\n",
       "      <td>static constexpr auto kStartAttraction =</td>\n",
       "      <td>;     // OPTIMIZE LOG [0.001, 0.9]</td>\n",
       "    </tr>\n",
       "  </tbody>\n",
       "</table>\n",
       "</div>"
      ],
      "text/plain": [
       "                         name         method     min    max    log  \\\n",
       "0                      kErase    suggest_int   1.000    5.0  False   \n",
       "1                     kRadius    suggest_int   2.000    6.0  False   \n",
       "2                 kAnnealingA  suggest_float -15.000   15.0  False   \n",
       "3                 kAnnealingB  suggest_float   0.000    3.0  False   \n",
       "4             kAnnealingStart  suggest_float   1.000  100.0   True   \n",
       "5                  kSkipRatio  suggest_float   0.200    0.8  False   \n",
       "6  kTargetDeterminationTrials    suggest_int   1.000   20.0   True   \n",
       "7            kAttractionRatio  suggest_float   0.010    0.9   True   \n",
       "8      kMaxAttractionDistance    suggest_int   4.000   99.0   True   \n",
       "9            kStartAttraction  suggest_float   0.001    0.9   True   \n",
       "\n",
       "                                                left  \\\n",
       "0                    static constexpr auto kErase =    \n",
       "1                   static constexpr auto kRadius =    \n",
       "2               static constexpr auto kAnnealingA =    \n",
       "3               static constexpr auto kAnnealingB =    \n",
       "4           static constexpr auto kAnnealingStart =    \n",
       "5                static constexpr auto kSkipRatio =    \n",
       "6  static constexpr auto kTargetDeterminationTria...   \n",
       "7          static constexpr auto kAttractionRatio =    \n",
       "8    static constexpr auto kMaxAttractionDistance =    \n",
       "9          static constexpr auto kStartAttraction =    \n",
       "\n",
       "                                right  \n",
       "0    ;             // OPTIMIZE [1, 5]  \n",
       "1     ;            // OPTIMIZE [2, 6]  \n",
       "2    ;      // OPTIMIZE [-15.0, 15.0]  \n",
       "3       ;      // OPTIMIZE [0.0, 3.0]  \n",
       "4      ; // OPTIMIZE LOG [1.0, 100.0]  \n",
       "5      ;       // OPTIMIZE [0.2, 0.8]  \n",
       "6           ; // OPTIMIZE LOG [1, 20]  \n",
       "7  ;      // OPTIMIZE LOG [0.01, 0.9]  \n",
       "8           ; // OPTIMIZE LOG [4, 99]  \n",
       "9  ;     // OPTIMIZE LOG [0.001, 0.9]  "
      ]
     },
     "metadata": {},
     "output_type": "display_data"
    }
   ],
   "source": [
    "# ここでエラー出力は何かおかしいかもしれない\n",
    "\n",
    "\n",
    "# パラメータ抽出\n",
    "with open(FILENAME) as f:\n",
    "    answer = f.read()\n",
    "\n",
    "\n",
    "variables_optimize = []\n",
    "\n",
    "for left, value, right, options in re.findall(r\"^([^/\\n]*=\\s*)(.+?)(\\s*;\\s*//(?:.*\\W)?OPTIMIZE(\\W.*))$\", answer, re.MULTILINE):\n",
    "    name = left.replace(\"=\", \"\").strip().split()[-1]\n",
    "    \n",
    "    searched = re.search(r\".*\\[(?P<min>.*),(?P<max>.*)\\].*\", options)\n",
    "    if searched:\n",
    "        min_value = max_value = None\n",
    "        try:\n",
    "            min_value = eval(searched.group(\"min\"))\n",
    "            max_value = eval(searched.group(\"max\"))\n",
    "            assert min_value <= max_value\n",
    "        except Exception as e:\n",
    "            print(f\"searched={searched}\", file=sys.stderr)\n",
    "            print(e, file=sys.stderr)\n",
    "            continue\n",
    "        log = \"LOG\" in options  # 雑、直したほうが良い\n",
    "        if type(min_value) != type(max_value):\n",
    "            print(f\"searched={searched}\", file=sys.stderr)\n",
    "            print(\"types not matched\", file=sys.stderr)\n",
    "            continue\n",
    "        if isinstance(min_value, int):\n",
    "            method = \"suggest_int\"\n",
    "        elif isinstance(min_value, float):\n",
    "            method = \"suggest_float\"\n",
    "        else:\n",
    "            print(f\"searched={searched}\", file=sys.stderr)\n",
    "            print(f\"unknown type ({type(min_value)})\", file=sys.stderr)\n",
    "            continue\n",
    "        variables_optimize.append({\n",
    "            \"name\": name,\n",
    "            \"method\": method,\n",
    "            \"min\": min_value,\n",
    "            \"max\": max_value,\n",
    "            \"log\": log,\n",
    "            \"left\": left,\n",
    "            \"right\": right,\n",
    "        })\n",
    "    elif searched := re.search(r\".*\\{(?P<choices>.*?)\\}.*\", options):\n",
    "        choices = list(map(lambda x: x.strip(), searched.group(\"choices\").split(\",\")))\n",
    "        variables_optimize.append({\n",
    "            \"name\": name,\n",
    "            \"method\": \"suggest_categorical\",\n",
    "            \"choices\": choices,\n",
    "            \"left\": left,\n",
    "            \"right\": right,\n",
    "        })\n",
    "    else:\n",
    "        print(f\"searched={searched}\", file=sys.stderr)\n",
    "        print(f\"pattern was matched but options are incorrect.\", file=sys.stderr)\n",
    "\n",
    "print(len(variables_optimize), \"variables were found.\")\n",
    "if globals().get(\"pd\"):\n",
    "    display(pd.DataFrame(variables_optimize))\n",
    "else:\n",
    "    pprint(variables_optimize)"
   ]
  },
  {
   "cell_type": "code",
   "execution_count": 3,
   "id": "001042b9",
   "metadata": {},
   "outputs": [],
   "source": [
    "def escape(string):  # 正規表現の中でそのまま使いたい文字列をエスケープ\n",
    "    res = !echo '{string}' | sed -e 's/[]\\/$*.^[]/\\\\&/g'\n",
    "    return res[0]\n",
    "\n",
    "def escape_sed(string):  # sed の置換後の文字列用のエスケープ\n",
    "    res = !echo '{string}' | sed -e 's/[\\/&]/\\\\&/g'\n",
    "    return res[0]\n",
    "\n",
    "def read_stream(name, in_file, out_file):\n",
    "    for line in in_file:\n",
    "        print(f\"[{name}] {line.strip()}\", file=out_file)\n",
    "\n",
    "def run(cmd, name):\n",
    "    proc = Popen(cmd, stdout=PIPE, stderr=PIPE, universal_newlines=True, shell=isinstance(cmd, str))\n",
    "    stdout_thread = Thread(target=read_stream, args=(name, proc.stdout, sys.stdout))\n",
    "    stderr_thread = Thread(target=read_stream, args=(name, proc.stderr, sys.stderr))\n",
    "    stdout_thread.start()\n",
    "    stderr_thread.start()\n",
    "    proc.wait()\n",
    "    return proc\n",
    "\n",
    "def objective(trial, in_dir, work_dir):\n",
    "    n_internal_parallel = 3\n",
    "    \n",
    "    index_parallel = f\"{trial.number:04d}\"\n",
    "    print(f\"{index_parallel=}\")\n",
    "    \n",
    "    work_dir = Path(work_dir)\n",
    "    directory_input = Path(in_dir)  # 中のすべてのファイルに対して実行される\n",
    "    #parameters_changed_filename = Path(gettempdir()) / str(uuid1())\n",
    "    parameters_changed_filename = work_dir / f\"{index_parallel}_{FILENAME}\"\n",
    "    \n",
    "    run([\"mkdir\", f\"{work_dir / index_parallel}_out\"], \"mkdir\")\n",
    "    run([\"mkdir\", f\"{work_dir / index_parallel}_score\"], \"mkdir\")\n",
    "    \n",
    "    # ファイル作成\n",
    "    run(f\"cp {FILENAME} {parameters_changed_filename}\", \"cp\")\n",
    "    sed_options = [f\"-i {parameters_changed_filename}\"]\n",
    "    for variable in variables_optimize:\n",
    "        if variable[\"method\"] == \"suggest_categorical\":\n",
    "            val =  trial.suggest_categorical(variable[\"name\"], variable[\"choices\"])\n",
    "        else:\n",
    "            val = getattr(trial, variable[\"method\"])(variable[\"name\"], variable[\"min\"], variable[\"max\"], log=variable[\"log\"])\n",
    "        left = variable[\"left\"]\n",
    "        right = variable[\"right\"]\n",
    "        sed_options.append(f\"\"\"-e 's/^{escape(left)}.*{escape(right)}$/{escape_sed(left)}{val}{escape_sed(right)}/'\"\"\")\n",
    "    command_sed = f\"sed {' '.join(sed_options)}\"\n",
    "    #print(command_sed)\n",
    "    run(command_sed, \"sed\")\n",
    "    \n",
    "    # コンパイル\n",
    "    command_compile = f\"g++ {parameters_changed_filename} -std=gnu++17 -O2 -DONLINE_JUDGE -o {parameters_changed_filename}.out\"\n",
    "    #print(command_compile)\n",
    "    run(command_compile, \"compile\")\n",
    "    # 実行・採点コマンド (@ はファイル名)\n",
    "    command_exec = (\n",
    "        #f\"./a.out < ./tools/in/{i:04d}.txt > {out_file} && ./tools/target/release/vis ./tools/in/{i:04d}.txt {out_file}\"\n",
    "        #f\"../tools/target/release/tester $(pwd)/{parameters_changed_filename}.out < {directory_input}/@ 2>&1 | grep Score\"\n",
    "        #f\"../tools/target/release/tester $(pwd)/{parameters_changed_filename}.out < {directory_input}/@ 2>&1 | grep Score | sed -E s/[^0-9]+// > ./{index_parallel}_score/@;\"\n",
    "        #f\"cargo run --release --manifest-path ../tools/Cargo.toml --bin tester {directory_input}/@ $(pwd)/{parameters_changed_filename}.out 2>&1 | grep Score | sed -E s/[^0-9]+// > ./{index_parallel}_score/@;\"\n",
    "        f\"./{parameters_changed_filename}.out < {directory_input}/@ > {work_dir / index_parallel}_out/@;\"\n",
    "        f\"../tools/target/release/vis {directory_input}/@ {work_dir / index_parallel}_out/@ 2> /dev/null > {work_dir / index_parallel}_score/@;\"\n",
    "    )\n",
    "    # 並列実行 (sed はパスのディレクトリ部分を消してファイル名にしてる)\n",
    "    run(f\"find {directory_input}/* | sed 's!^.*/!!' | xargs -I@ -P {n_internal_parallel} sh -c '{command_exec}'\", \"exec\")\n",
    "    \n",
    "    # 集計\n",
    "    scores = []\n",
    "    for file_path in Path(f\"{work_dir / index_parallel}_score/\").iterdir():  \n",
    "        with open(file_path) as f:\n",
    "            scores.append(int(f.readline().strip().split()[-1]))\n",
    "    mean_score = sum(scores) / len(scores)\n",
    "    \n",
    "    # 後始末\n",
    "    run(f\"rm -rf {work_dir / index_parallel}_out\", \"rm\")\n",
    "    run(f\"rm -rf {work_dir / index_parallel}_score\", \"rm\")\n",
    "    #run(f\"rm {parameters_changed_filename}\", \"rm\")\n",
    "    run(f\"rm {parameters_changed_filename}.out\", \"rm\")\n",
    "    \n",
    "    return mean_score"
   ]
  },
  {
   "cell_type": "code",
   "execution_count": 4,
   "id": "2d2e133c",
   "metadata": {},
   "outputs": [
    {
     "name": "stderr",
     "output_type": "stream",
     "text": [
      "\u001b[32m[I 2022-08-15 21:31:28,239]\u001b[0m A new study created in RDB with name: study_5_2\u001b[0m\n"
     ]
    }
   ],
   "source": [
    "K = 5\n",
    "N_CLASS = 2\n",
    "\n",
    "in_dir = Path(f\"in_{K}_{N_CLASS}\")\n",
    "work_dir = Path(f\"work_{K}_{N_CLASS}\")\n",
    "\n",
    "study_name = f\"study_{K}_{N_CLASS}\"\n",
    "storage_path = work_dir / \"study.db\"\n",
    "storage = f\"sqlite:///{storage_path}\"\n",
    "study = optuna.create_study(storage=storage, load_if_exists=True, study_name=study_name, direction=\"maximize\")\n",
    "\n",
    "def callback(study, trial):\n",
    "    try:\n",
    "        index_parallel = f\"{trial.number:04d}\"\n",
    "        parameters_changed_filename = work_dir / f\"{index_parallel}_{FILENAME}\"\n",
    "        if study.best_value == trial.value:\n",
    "            print(f\"Updated! {study.best_value}\")\n",
    "            !cp {parameters_changed_filename} {work_dir / \"best_parameters.cpp\"}\n",
    "        !rm {parameters_changed_filename}\n",
    "    except:\n",
    "        print(\":(\")\n"
   ]
  },
  {
   "cell_type": "code",
   "execution_count": null,
   "id": "61c2901d",
   "metadata": {},
   "outputs": [
    {
     "name": "stdout",
     "output_type": "stream",
     "text": [
      "index_parallel='0000'\n"
     ]
    },
    {
     "name": "stderr",
     "output_type": "stream",
     "text": [
      "\u001b[32m[I 2022-08-15 21:34:51,850]\u001b[0m Trial 0 finished with value: 7917.247126436781 and parameters: {'kErase': 2, 'kRadius': 4, 'kAnnealingA': -8.670570806963527, 'kAnnealingB': 1.6763190294477206, 'kAnnealingStart': 6.910522793575673, 'kSkipRatio': 0.20386733922331488, 'kTargetDeterminationTrials': 1, 'kAttractionRatio': 0.25038459048641787, 'kMaxAttractionDistance': 29, 'kStartAttraction': 0.4451872153247093}. Best is trial 0 with value: 7917.247126436781.\u001b[0m\n"
     ]
    },
    {
     "name": "stdout",
     "output_type": "stream",
     "text": [
      "Updated! 7917.247126436781\n",
      "index_parallel='0001'\n"
     ]
    },
    {
     "name": "stderr",
     "output_type": "stream",
     "text": [
      "\u001b[32m[I 2022-08-15 21:38:15,936]\u001b[0m Trial 1 finished with value: 7274.626436781609 and parameters: {'kErase': 3, 'kRadius': 2, 'kAnnealingA': -1.2691202783973026, 'kAnnealingB': 0.5131012066184206, 'kAnnealingStart': 1.9350677798677713, 'kSkipRatio': 0.6056378450360826, 'kTargetDeterminationTrials': 13, 'kAttractionRatio': 0.24128039609853247, 'kMaxAttractionDistance': 39, 'kStartAttraction': 0.004088314524248004}. Best is trial 0 with value: 7917.247126436781.\u001b[0m\n"
     ]
    },
    {
     "name": "stdout",
     "output_type": "stream",
     "text": [
      "index_parallel='0002'\n"
     ]
    },
    {
     "name": "stderr",
     "output_type": "stream",
     "text": [
      "\u001b[32m[I 2022-08-15 21:41:40,089]\u001b[0m Trial 2 finished with value: 6861.735632183908 and parameters: {'kErase': 3, 'kRadius': 3, 'kAnnealingA': -11.746573517611424, 'kAnnealingB': 2.329785847010731, 'kAnnealingStart': 14.182732669110358, 'kSkipRatio': 0.25449070579250027, 'kTargetDeterminationTrials': 14, 'kAttractionRatio': 0.5399323746492911, 'kMaxAttractionDistance': 6, 'kStartAttraction': 0.5542827635229042}. Best is trial 0 with value: 7917.247126436781.\u001b[0m\n"
     ]
    },
    {
     "name": "stdout",
     "output_type": "stream",
     "text": [
      "index_parallel='0003'\n"
     ]
    },
    {
     "name": "stderr",
     "output_type": "stream",
     "text": [
      "\u001b[32m[I 2022-08-15 21:45:04,121]\u001b[0m Trial 3 finished with value: 6889.35632183908 and parameters: {'kErase': 4, 'kRadius': 2, 'kAnnealingA': -10.742409266716873, 'kAnnealingB': 0.7736621434140677, 'kAnnealingStart': 6.230158835435698, 'kSkipRatio': 0.5790802321705258, 'kTargetDeterminationTrials': 1, 'kAttractionRatio': 0.028434452611861845, 'kMaxAttractionDistance': 52, 'kStartAttraction': 0.021936169216047338}. Best is trial 0 with value: 7917.247126436781.\u001b[0m\n"
     ]
    },
    {
     "name": "stdout",
     "output_type": "stream",
     "text": [
      "index_parallel='0004'\n"
     ]
    },
    {
     "name": "stderr",
     "output_type": "stream",
     "text": [
      "\u001b[32m[I 2022-08-15 21:48:28,244]\u001b[0m Trial 4 finished with value: 7496.0344827586205 and parameters: {'kErase': 3, 'kRadius': 2, 'kAnnealingA': -1.076137698225967, 'kAnnealingB': 2.043420258640719, 'kAnnealingStart': 10.643519464631533, 'kSkipRatio': 0.7384239122941023, 'kTargetDeterminationTrials': 8, 'kAttractionRatio': 0.06420193775734136, 'kMaxAttractionDistance': 34, 'kStartAttraction': 0.010309083084773437}. Best is trial 0 with value: 7917.247126436781.\u001b[0m\n"
     ]
    },
    {
     "name": "stdout",
     "output_type": "stream",
     "text": [
      "index_parallel='0005'\n"
     ]
    },
    {
     "name": "stderr",
     "output_type": "stream",
     "text": [
      "\u001b[32m[I 2022-08-15 21:51:52,606]\u001b[0m Trial 5 finished with value: 6720.068965517241 and parameters: {'kErase': 5, 'kRadius': 6, 'kAnnealingA': 14.793325847634357, 'kAnnealingB': 2.967894352158275, 'kAnnealingStart': 8.550944165296343, 'kSkipRatio': 0.49454930102466094, 'kTargetDeterminationTrials': 17, 'kAttractionRatio': 0.2765445723520356, 'kMaxAttractionDistance': 29, 'kStartAttraction': 0.6936827079458079}. Best is trial 0 with value: 7917.247126436781.\u001b[0m\n"
     ]
    },
    {
     "name": "stdout",
     "output_type": "stream",
     "text": [
      "index_parallel='0006'\n"
     ]
    },
    {
     "name": "stderr",
     "output_type": "stream",
     "text": [
      "\u001b[32m[I 2022-08-15 21:55:16,034]\u001b[0m Trial 6 finished with value: 8073.741379310345 and parameters: {'kErase': 1, 'kRadius': 6, 'kAnnealingA': -13.356064311433453, 'kAnnealingB': 0.9269130534989433, 'kAnnealingStart': 2.619566056640327, 'kSkipRatio': 0.44821230370120013, 'kTargetDeterminationTrials': 2, 'kAttractionRatio': 0.02872076274367911, 'kMaxAttractionDistance': 14, 'kStartAttraction': 0.3633538883524578}. Best is trial 6 with value: 8073.741379310345.\u001b[0m\n"
     ]
    },
    {
     "name": "stdout",
     "output_type": "stream",
     "text": [
      "Updated! 8073.741379310345\n",
      "index_parallel='0007'\n"
     ]
    },
    {
     "name": "stderr",
     "output_type": "stream",
     "text": [
      "\u001b[32m[I 2022-08-15 21:58:40,049]\u001b[0m Trial 7 finished with value: 7274.362068965517 and parameters: {'kErase': 3, 'kRadius': 6, 'kAnnealingA': -6.425884363913749, 'kAnnealingB': 2.7128032079100803, 'kAnnealingStart': 39.00277195528386, 'kSkipRatio': 0.5739427572469529, 'kTargetDeterminationTrials': 4, 'kAttractionRatio': 0.02520700698036957, 'kMaxAttractionDistance': 22, 'kStartAttraction': 0.005398772317329297}. Best is trial 6 with value: 8073.741379310345.\u001b[0m\n"
     ]
    },
    {
     "name": "stdout",
     "output_type": "stream",
     "text": [
      "index_parallel='0008'\n"
     ]
    },
    {
     "name": "stderr",
     "output_type": "stream",
     "text": [
      "\u001b[32m[I 2022-08-15 22:02:03,528]\u001b[0m Trial 8 finished with value: 6355.913793103448 and parameters: {'kErase': 2, 'kRadius': 2, 'kAnnealingA': 6.326448740709623, 'kAnnealingB': 2.045188559854167, 'kAnnealingStart': 37.420679533577974, 'kSkipRatio': 0.3064281900432291, 'kTargetDeterminationTrials': 1, 'kAttractionRatio': 0.14168591142767464, 'kMaxAttractionDistance': 8, 'kStartAttraction': 0.10221713644702272}. Best is trial 6 with value: 8073.741379310345.\u001b[0m\n"
     ]
    },
    {
     "name": "stdout",
     "output_type": "stream",
     "text": [
      "index_parallel='0009'\n"
     ]
    },
    {
     "name": "stderr",
     "output_type": "stream",
     "text": [
      "\u001b[32m[I 2022-08-15 22:05:27,460]\u001b[0m Trial 9 finished with value: 6879.545977011494 and parameters: {'kErase': 4, 'kRadius': 4, 'kAnnealingA': -14.199527210689926, 'kAnnealingB': 2.6306732578049457, 'kAnnealingStart': 27.862908503248647, 'kSkipRatio': 0.5975789336657082, 'kTargetDeterminationTrials': 1, 'kAttractionRatio': 0.03079027291042572, 'kMaxAttractionDistance': 49, 'kStartAttraction': 0.059933448014764946}. Best is trial 6 with value: 8073.741379310345.\u001b[0m\n"
     ]
    },
    {
     "name": "stdout",
     "output_type": "stream",
     "text": [
      "index_parallel='0010'\n"
     ]
    },
    {
     "name": "stderr",
     "output_type": "stream",
     "text": [
      "\u001b[32m[I 2022-08-15 22:08:50,901]\u001b[0m Trial 10 finished with value: 7801.735632183908 and parameters: {'kErase': 1, 'kRadius': 5, 'kAnnealingA': 6.287414854506466, 'kAnnealingB': 0.06487717138428195, 'kAnnealingStart': 1.0081961659388174, 'kSkipRatio': 0.394128912516025, 'kTargetDeterminationTrials': 3, 'kAttractionRatio': 0.011268125727934397, 'kMaxAttractionDistance': 12, 'kStartAttraction': 0.0010128585197073142}. Best is trial 6 with value: 8073.741379310345.\u001b[0m\n"
     ]
    },
    {
     "name": "stdout",
     "output_type": "stream",
     "text": [
      "index_parallel='0011'\n"
     ]
    },
    {
     "name": "stderr",
     "output_type": "stream",
     "text": [
      "\u001b[32m[I 2022-08-15 22:12:14,185]\u001b[0m Trial 11 finished with value: 8056.063218390805 and parameters: {'kErase': 1, 'kRadius': 4, 'kAnnealingA': -6.822844134346061, 'kAnnealingB': 1.313391809769788, 'kAnnealingStart': 3.490200336311053, 'kSkipRatio': 0.20693966005871076, 'kTargetDeterminationTrials': 2, 'kAttractionRatio': 0.07157297803715412, 'kMaxAttractionDistance': 14, 'kStartAttraction': 0.19556368303602176}. Best is trial 6 with value: 8073.741379310345.\u001b[0m\n"
     ]
    },
    {
     "name": "stdout",
     "output_type": "stream",
     "text": [
      "index_parallel='0012'\n"
     ]
    },
    {
     "name": "stderr",
     "output_type": "stream",
     "text": [
      "\u001b[32m[I 2022-08-15 22:15:37,569]\u001b[0m Trial 12 finished with value: 8122.827586206897 and parameters: {'kErase': 1, 'kRadius': 5, 'kAnnealingA': -4.25640233739658, 'kAnnealingB': 1.121170846564336, 'kAnnealingStart': 2.331400403597834, 'kSkipRatio': 0.38168728804824353, 'kTargetDeterminationTrials': 2, 'kAttractionRatio': 0.06079987786062262, 'kMaxAttractionDistance': 13, 'kStartAttraction': 0.1610827108847924}. Best is trial 12 with value: 8122.827586206897.\u001b[0m\n"
     ]
    },
    {
     "name": "stdout",
     "output_type": "stream",
     "text": [
      "Updated! 8122.827586206897\n",
      "index_parallel='0013'\n"
     ]
    },
    {
     "name": "stderr",
     "output_type": "stream",
     "text": [
      "\u001b[32m[I 2022-08-15 22:19:01,564]\u001b[0m Trial 13 finished with value: 7411.442528735633 and parameters: {'kErase': 1, 'kRadius': 5, 'kAnnealingA': -4.692992280266637, 'kAnnealingB': 1.09378542137569, 'kAnnealingStart': 2.443915136354975, 'kSkipRatio': 0.40011007062580767, 'kTargetDeterminationTrials': 2, 'kAttractionRatio': 0.011053021325769848, 'kMaxAttractionDistance': 4, 'kStartAttraction': 0.19738839320154303}. Best is trial 12 with value: 8122.827586206897.\u001b[0m\n"
     ]
    },
    {
     "name": "stdout",
     "output_type": "stream",
     "text": [
      "index_parallel='0014'\n"
     ]
    },
    {
     "name": "stderr",
     "output_type": "stream",
     "text": [
      "\u001b[32m[I 2022-08-15 22:22:25,126]\u001b[0m Trial 14 finished with value: 7979.5344827586205 and parameters: {'kErase': 2, 'kRadius': 5, 'kAnnealingA': 5.602975372176694, 'kAnnealingB': 0.8835292246257764, 'kAnnealingStart': 1.0574697340786805, 'kSkipRatio': 0.40433076414146757, 'kTargetDeterminationTrials': 5, 'kAttractionRatio': 0.04705973158810867, 'kMaxAttractionDistance': 11, 'kStartAttraction': 0.05765202639296174}. Best is trial 12 with value: 8122.827586206897.\u001b[0m\n"
     ]
    },
    {
     "name": "stdout",
     "output_type": "stream",
     "text": [
      "index_parallel='0015'\n"
     ]
    },
    {
     "name": "stderr",
     "output_type": "stream",
     "text": [
      "\u001b[32m[I 2022-08-15 22:25:48,427]\u001b[0m Trial 15 finished with value: 6440.408045977011 and parameters: {'kErase': 1, 'kRadius': 6, 'kAnnealingA': 1.9608746998071807, 'kAnnealingB': 0.27207613693894794, 'kAnnealingStart': 86.84250325422491, 'kSkipRatio': 0.4839955962821677, 'kTargetDeterminationTrials': 2, 'kAttractionRatio': 0.11625206340832876, 'kMaxAttractionDistance': 19, 'kStartAttraction': 0.21330259438706167}. Best is trial 12 with value: 8122.827586206897.\u001b[0m\n"
     ]
    },
    {
     "name": "stdout",
     "output_type": "stream",
     "text": [
      "index_parallel='0016'\n"
     ]
    },
    {
     "name": "stderr",
     "output_type": "stream",
     "text": [
      "\u001b[32m[I 2022-08-15 22:29:12,203]\u001b[0m Trial 16 finished with value: 7407.586206896552 and parameters: {'kErase': 2, 'kRadius': 5, 'kAnnealingA': -14.011397871268143, 'kAnnealingB': 1.547379116469129, 'kAnnealingStart': 3.6149969201178274, 'kSkipRatio': 0.32189226077878885, 'kTargetDeterminationTrials': 3, 'kAttractionRatio': 0.019442223196538353, 'kMaxAttractionDistance': 94, 'kStartAttraction': 0.8802049146707331}. Best is trial 12 with value: 8122.827586206897.\u001b[0m\n"
     ]
    },
    {
     "name": "stdout",
     "output_type": "stream",
     "text": [
      "index_parallel='0017'\n"
     ]
    },
    {
     "name": "stderr",
     "output_type": "stream",
     "text": [
      "\u001b[32m[I 2022-08-15 22:32:35,573]\u001b[0m Trial 17 finished with value: 7924.482758620689 and parameters: {'kErase': 1, 'kRadius': 6, 'kAnnealingA': -3.600022285280707, 'kAnnealingB': 0.7262373943925682, 'kAnnealingStart': 1.7558115173455366, 'kSkipRatio': 0.7047262432233425, 'kTargetDeterminationTrials': 6, 'kAttractionRatio': 0.04468234433081588, 'kMaxAttractionDistance': 8, 'kStartAttraction': 0.3038476394431626}. Best is trial 12 with value: 8122.827586206897.\u001b[0m\n"
     ]
    },
    {
     "name": "stdout",
     "output_type": "stream",
     "text": [
      "index_parallel='0018'\n"
     ]
    },
    {
     "name": "stderr",
     "output_type": "stream",
     "text": [
      "\u001b[32m[I 2022-08-15 22:35:59,301]\u001b[0m Trial 18 finished with value: 7931.6781609195405 and parameters: {'kErase': 2, 'kRadius': 5, 'kAnnealingA': 12.33457036185058, 'kAnnealingB': 1.1804022733418489, 'kAnnealingStart': 4.179817834038638, 'kSkipRatio': 0.46526916059260504, 'kTargetDeterminationTrials': 2, 'kAttractionRatio': 0.018389586984470095, 'kMaxAttractionDistance': 15, 'kStartAttraction': 0.037273552339133785}. Best is trial 12 with value: 8122.827586206897.\u001b[0m\n"
     ]
    },
    {
     "name": "stdout",
     "output_type": "stream",
     "text": [
      "index_parallel='0019'\n"
     ]
    },
    {
     "name": "stderr",
     "output_type": "stream",
     "text": [
      "\u001b[32m[I 2022-08-15 22:39:22,802]\u001b[0m Trial 19 finished with value: 7427.591954022989 and parameters: {'kErase': 1, 'kRadius': 3, 'kAnnealingA': 2.4177442680059262, 'kAnnealingB': 0.4407738923118468, 'kAnnealingStart': 1.6593539107203517, 'kSkipRatio': 0.3417799317246554, 'kTargetDeterminationTrials': 3, 'kAttractionRatio': 0.0977861311379154, 'kMaxAttractionDistance': 4, 'kStartAttraction': 0.12570908090590505}. Best is trial 12 with value: 8122.827586206897.\u001b[0m\n"
     ]
    },
    {
     "name": "stdout",
     "output_type": "stream",
     "text": [
      "index_parallel='0020'\n"
     ]
    },
    {
     "name": "stderr",
     "output_type": "stream",
     "text": [
      "\u001b[32m[I 2022-08-15 22:42:46,800]\u001b[0m Trial 20 finished with value: 7053.229885057472 and parameters: {'kErase': 4, 'kRadius': 6, 'kAnnealingA': -9.759128393206515, 'kAnnealingB': 1.7546481278379589, 'kAnnealingStart': 18.242074330097893, 'kSkipRatio': 0.6680485804073184, 'kTargetDeterminationTrials': 8, 'kAttractionRatio': 0.04152179782853879, 'kMaxAttractionDistance': 9, 'kStartAttraction': 0.020407336906317037}. Best is trial 12 with value: 8122.827586206897.\u001b[0m\n"
     ]
    },
    {
     "name": "stdout",
     "output_type": "stream",
     "text": [
      "index_parallel='0021'\n"
     ]
    },
    {
     "name": "stderr",
     "output_type": "stream",
     "text": [
      "\u001b[32m[I 2022-08-15 22:46:10,226]\u001b[0m Trial 21 finished with value: 8017.022988505747 and parameters: {'kErase': 1, 'kRadius': 4, 'kAnnealingA': -7.169559589231938, 'kAnnealingB': 1.205546741576277, 'kAnnealingStart': 3.546715163030875, 'kSkipRatio': 0.2087801781181746, 'kTargetDeterminationTrials': 2, 'kAttractionRatio': 0.08027665340875573, 'kMaxAttractionDistance': 14, 'kStartAttraction': 0.11743002871673874}. Best is trial 12 with value: 8122.827586206897.\u001b[0m\n"
     ]
    },
    {
     "name": "stdout",
     "output_type": "stream",
     "text": [
      "index_parallel='0022'\n"
     ]
    },
    {
     "name": "stderr",
     "output_type": "stream",
     "text": [
      "\u001b[32m[I 2022-08-15 22:49:33,895]\u001b[0m Trial 22 finished with value: 8054.925287356322 and parameters: {'kErase': 1, 'kRadius': 4, 'kAnnealingA': -4.0660281299183385, 'kAnnealingB': 1.427201590275977, 'kAnnealingStart': 2.8569547241028865, 'kSkipRatio': 0.433430668746285, 'kTargetDeterminationTrials': 2, 'kAttractionRatio': 0.06751812549173977, 'kMaxAttractionDistance': 21, 'kStartAttraction': 0.3121101324414498}. Best is trial 12 with value: 8122.827586206897.\u001b[0m\n"
     ]
    },
    {
     "name": "stdout",
     "output_type": "stream",
     "text": [
      "index_parallel='0023'\n"
     ]
    },
    {
     "name": "stderr",
     "output_type": "stream",
     "text": [
      "\u001b[32m[I 2022-08-15 22:52:57,777]\u001b[0m Trial 23 finished with value: 7487.557471264367 and parameters: {'kErase': 2, 'kRadius': 3, 'kAnnealingA': -11.844673095170364, 'kAnnealingB': 1.345372924808275, 'kAnnealingStart': 5.1029882734342555, 'kSkipRatio': 0.2799276544283793, 'kTargetDeterminationTrials': 3, 'kAttractionRatio': 0.16374355848336566, 'kMaxAttractionDistance': 6, 'kStartAttraction': 0.17387034536137272}. Best is trial 12 with value: 8122.827586206897.\u001b[0m\n"
     ]
    },
    {
     "name": "stdout",
     "output_type": "stream",
     "text": [
      "index_parallel='0024'\n"
     ]
    },
    {
     "name": "stderr",
     "output_type": "stream",
     "text": [
      "\u001b[32m[I 2022-08-15 22:56:21,322]\u001b[0m Trial 24 finished with value: 7870.747126436781 and parameters: {'kErase': 1, 'kRadius': 5, 'kAnnealingA': -14.92733909547074, 'kAnnealingB': 0.7593244328127369, 'kAnnealingStart': 2.409655881973732, 'kSkipRatio': 0.35634002758427713, 'kTargetDeterminationTrials': 4, 'kAttractionRatio': 0.05676948190422789, 'kMaxAttractionDistance': 16, 'kStartAttraction': 0.06371891639703399}. Best is trial 12 with value: 8122.827586206897.\u001b[0m\n"
     ]
    },
    {
     "name": "stdout",
     "output_type": "stream",
     "text": [
      "index_parallel='0025'\n"
     ]
    },
    {
     "name": "stderr",
     "output_type": "stream",
     "text": [
      "\u001b[32m[I 2022-08-15 22:59:45,266]\u001b[0m Trial 25 finished with value: 8163.408045977011 and parameters: {'kErase': 2, 'kRadius': 4, 'kAnnealingA': -7.232919048070569, 'kAnnealingB': 1.0107067791895539, 'kAnnealingStart': 1.3359590165525692, 'kSkipRatio': 0.5325871735165265, 'kTargetDeterminationTrials': 2, 'kAttractionRatio': 0.03604747110690885, 'kMaxAttractionDistance': 11, 'kStartAttraction': 0.34326592522477156}. Best is trial 25 with value: 8163.408045977011.\u001b[0m\n"
     ]
    },
    {
     "name": "stdout",
     "output_type": "stream",
     "text": [
      "Updated! 8163.408045977011\n",
      "index_parallel='0026'\n"
     ]
    },
    {
     "name": "stderr",
     "output_type": "stream",
     "text": [
      "\u001b[32m[I 2022-08-15 23:03:09,140]\u001b[0m Trial 26 finished with value: 7599.212643678161 and parameters: {'kErase': 2, 'kRadius': 5, 'kAnnealingA': -8.900146733794454, 'kAnnealingB': 1.030724259438013, 'kAnnealingStart': 1.371973795089421, 'kSkipRatio': 0.5385062231295417, 'kTargetDeterminationTrials': 5, 'kAttractionRatio': 0.017487506571334563, 'kMaxAttractionDistance': 6, 'kStartAttraction': 0.41110842714813484}. Best is trial 25 with value: 8163.408045977011.\u001b[0m\n"
     ]
    },
    {
     "name": "stdout",
     "output_type": "stream",
     "text": [
      "index_parallel='0027'\n"
     ]
    },
    {
     "name": "stderr",
     "output_type": "stream",
     "text": [
      "\u001b[32m[I 2022-08-15 23:06:32,905]\u001b[0m Trial 27 finished with value: 8133.919540229885 and parameters: {'kErase': 2, 'kRadius': 6, 'kAnnealingA': -3.0646587983662195, 'kAnnealingB': 0.5323703541897018, 'kAnnealingStart': 1.3595639119794636, 'kSkipRatio': 0.4472152332892326, 'kTargetDeterminationTrials': 4, 'kAttractionRatio': 0.03832210546309274, 'kMaxAttractionDistance': 11, 'kStartAttraction': 0.29652380310557414}. Best is trial 25 with value: 8163.408045977011.\u001b[0m\n"
     ]
    },
    {
     "name": "stdout",
     "output_type": "stream",
     "text": [
      "index_parallel='0028'\n"
     ]
    },
    {
     "name": "stderr",
     "output_type": "stream",
     "text": [
      "\u001b[32m[I 2022-08-15 23:09:56,818]\u001b[0m Trial 28 finished with value: 7979.890804597701 and parameters: {'kErase': 2, 'kRadius': 4, 'kAnnealingA': -2.7254954550993866, 'kAnnealingB': 0.5369348877337575, 'kAnnealingStart': 1.3491896412577735, 'kSkipRatio': 0.5205326894225244, 'kTargetDeterminationTrials': 8, 'kAttractionRatio': 0.038049382075283994, 'kMaxAttractionDistance': 11, 'kStartAttraction': 0.0908139167707624}. Best is trial 25 with value: 8163.408045977011.\u001b[0m\n"
     ]
    },
    {
     "name": "stdout",
     "output_type": "stream",
     "text": [
      "index_parallel='0029'\n"
     ]
    },
    {
     "name": "stderr",
     "output_type": "stream",
     "text": [
      "\u001b[32m[I 2022-08-15 23:13:20,432]\u001b[0m Trial 29 finished with value: 8367.413793103447 and parameters: {'kErase': 2, 'kRadius': 3, 'kAnnealingA': 0.578964972680811, 'kAnnealingB': 1.7986961183180958, 'kAnnealingStart': 1.304592635736413, 'kSkipRatio': 0.6443715832693475, 'kTargetDeterminationTrials': 4, 'kAttractionRatio': 0.878931408382571, 'kMaxAttractionDistance': 27, 'kStartAttraction': 0.5017284978265618}. Best is trial 29 with value: 8367.413793103447.\u001b[0m\n"
     ]
    },
    {
     "name": "stdout",
     "output_type": "stream",
     "text": [
      "Updated! 8367.413793103447\n",
      "index_parallel='0030'\n"
     ]
    },
    {
     "name": "stderr",
     "output_type": "stream",
     "text": [
      "\u001b[32m[I 2022-08-15 23:16:44,332]\u001b[0m Trial 30 finished with value: 8412.954022988506 and parameters: {'kErase': 2, 'kRadius': 3, 'kAnnealingA': 1.2157052381800475, 'kAnnealingB': 1.7638317453362857, 'kAnnealingStart': 1.3108332933607594, 'kSkipRatio': 0.7938507891038024, 'kTargetDeterminationTrials': 4, 'kAttractionRatio': 0.6668613719558725, 'kMaxAttractionDistance': 24, 'kStartAttraction': 0.6211271354134601}. Best is trial 30 with value: 8412.954022988506.\u001b[0m\n"
     ]
    },
    {
     "name": "stdout",
     "output_type": "stream",
     "text": [
      "Updated! 8412.954022988506\n",
      "index_parallel='0031'\n"
     ]
    },
    {
     "name": "stderr",
     "output_type": "stream",
     "text": [
      "\u001b[32m[I 2022-08-15 23:20:08,139]\u001b[0m Trial 31 finished with value: 8318.706896551725 and parameters: {'kErase': 2, 'kRadius': 3, 'kAnnealingA': 1.398224925120207, 'kAnnealingB': 1.8816701748175586, 'kAnnealingStart': 1.3223517510716065, 'kSkipRatio': 0.7703499474999906, 'kTargetDeterminationTrials': 4, 'kAttractionRatio': 0.8646440751255724, 'kMaxAttractionDistance': 26, 'kStartAttraction': 0.6023108779614682}. Best is trial 30 with value: 8412.954022988506.\u001b[0m\n"
     ]
    },
    {
     "name": "stdout",
     "output_type": "stream",
     "text": [
      "index_parallel='0032'\n"
     ]
    },
    {
     "name": "stderr",
     "output_type": "stream",
     "text": [
      "\u001b[32m[I 2022-08-15 23:23:32,654]\u001b[0m Trial 32 finished with value: 8113.505747126437 and parameters: {'kErase': 3, 'kRadius': 3, 'kAnnealingA': 1.6102850042286196, 'kAnnealingB': 1.7799151358665406, 'kAnnealingStart': 1.0262407102128708, 'kSkipRatio': 0.7864334762989958, 'kTargetDeterminationTrials': 6, 'kAttractionRatio': 0.8794822573232158, 'kMaxAttractionDistance': 27, 'kStartAttraction': 0.883532978975477}. Best is trial 30 with value: 8412.954022988506.\u001b[0m\n"
     ]
    },
    {
     "name": "stdout",
     "output_type": "stream",
     "text": [
      "index_parallel='0033'\n"
     ]
    },
    {
     "name": "stderr",
     "output_type": "stream",
     "text": [
      "\u001b[32m[I 2022-08-15 23:26:56,629]\u001b[0m Trial 33 finished with value: 8306.103448275862 and parameters: {'kErase': 2, 'kRadius': 3, 'kAnnealingA': 4.366499911497545, 'kAnnealingB': 2.0965791553546294, 'kAnnealingStart': 1.7933679559843358, 'kSkipRatio': 0.7907688516295505, 'kTargetDeterminationTrials': 10, 'kAttractionRatio': 0.827064183493052, 'kMaxAttractionDistance': 48, 'kStartAttraction': 0.5627079265173003}. Best is trial 30 with value: 8412.954022988506.\u001b[0m\n"
     ]
    },
    {
     "name": "stdout",
     "output_type": "stream",
     "text": [
      "index_parallel='0034'\n"
     ]
    },
    {
     "name": "stderr",
     "output_type": "stream",
     "text": [
      "\u001b[32m[I 2022-08-15 23:30:20,504]\u001b[0m Trial 34 finished with value: 8212.706896551725 and parameters: {'kErase': 3, 'kRadius': 3, 'kAnnealingA': 4.531957928400951, 'kAnnealingB': 2.0307902796330937, 'kAnnealingStart': 1.6497162675897756, 'kSkipRatio': 0.7989891295606296, 'kTargetDeterminationTrials': 12, 'kAttractionRatio': 0.8875023658912667, 'kMaxAttractionDistance': 41, 'kStartAttraction': 0.5440404647668137}. Best is trial 30 with value: 8412.954022988506.\u001b[0m\n"
     ]
    },
    {
     "name": "stdout",
     "output_type": "stream",
     "text": [
      "index_parallel='0035'\n"
     ]
    },
    {
     "name": "stderr",
     "output_type": "stream",
     "text": [
      "\u001b[32m[I 2022-08-15 23:33:45,053]\u001b[0m Trial 35 finished with value: 8138.758620689655 and parameters: {'kErase': 3, 'kRadius': 3, 'kAnnealingA': 8.523282586339723, 'kAnnealingB': 2.310884985450849, 'kAnnealingStart': 2.00015391599975, 'kSkipRatio': 0.6615355839289687, 'kTargetDeterminationTrials': 11, 'kAttractionRatio': 0.5213950054952519, 'kMaxAttractionDistance': 74, 'kStartAttraction': 0.5611582705126044}. Best is trial 30 with value: 8412.954022988506.\u001b[0m\n"
     ]
    },
    {
     "name": "stdout",
     "output_type": "stream",
     "text": [
      "index_parallel='0036'\n"
     ]
    },
    {
     "name": "stderr",
     "output_type": "stream",
     "text": [
      "\u001b[32m[I 2022-08-15 23:37:08,939]\u001b[0m Trial 36 finished with value: 8236.28735632184 and parameters: {'kErase': 2, 'kRadius': 2, 'kAnnealingA': -0.6424963063561897, 'kAnnealingB': 1.9017386442812354, 'kAnnealingStart': 5.659270128929634, 'kSkipRatio': 0.7561698453253654, 'kTargetDeterminationTrials': 20, 'kAttractionRatio': 0.6087600454714617, 'kMaxAttractionDistance': 27, 'kStartAttraction': 0.5258694063460607}. Best is trial 30 with value: 8412.954022988506.\u001b[0m\n"
     ]
    },
    {
     "name": "stdout",
     "output_type": "stream",
     "text": [
      "index_parallel='0037'\n"
     ]
    },
    {
     "name": "stderr",
     "output_type": "stream",
     "text": [
      "\u001b[32m[I 2022-08-15 23:40:33,149]\u001b[0m Trial 37 finished with value: 7798.626436781609 and parameters: {'kErase': 3, 'kRadius': 3, 'kAnnealingA': 9.085018837034688, 'kAnnealingB': 2.2598568532139733, 'kAnnealingStart': 8.11040435201584, 'kSkipRatio': 0.7202230542755688, 'kTargetDeterminationTrials': 9, 'kAttractionRatio': 0.38953451165270314, 'kMaxAttractionDistance': 63, 'kStartAttraction': 0.7104169528496165}. Best is trial 30 with value: 8412.954022988506.\u001b[0m\n"
     ]
    },
    {
     "name": "stdout",
     "output_type": "stream",
     "text": [
      "index_parallel='0038'\n"
     ]
    },
    {
     "name": "stderr",
     "output_type": "stream",
     "text": [
      "\u001b[32m[I 2022-08-15 23:43:57,594]\u001b[0m Trial 38 finished with value: 7089.132183908046 and parameters: {'kErase': 5, 'kRadius': 2, 'kAnnealingA': 0.3448756544939453, 'kAnnealingB': 1.6075472610763524, 'kAnnealingStart': 1.8948998009032127, 'kSkipRatio': 0.6683214595388134, 'kTargetDeterminationTrials': 6, 'kAttractionRatio': 0.6602257820628661, 'kMaxAttractionDistance': 38, 'kStartAttraction': 0.47359049583222196}. Best is trial 30 with value: 8412.954022988506.\u001b[0m\n"
     ]
    },
    {
     "name": "stdout",
     "output_type": "stream",
     "text": [
      "index_parallel='0039'\n"
     ]
    },
    {
     "name": "stderr",
     "output_type": "stream",
     "text": [
      "\u001b[32m[I 2022-08-15 23:47:21,568]\u001b[0m Trial 39 finished with value: 7905.827586206897 and parameters: {'kErase': 3, 'kRadius': 3, 'kAnnealingA': 3.917985706943777, 'kAnnealingB': 2.5087302835512966, 'kAnnealingStart': 1.356295145831459, 'kSkipRatio': 0.7551781755561038, 'kTargetDeterminationTrials': 10, 'kAttractionRatio': 0.37216363120320156, 'kMaxAttractionDistance': 32, 'kStartAttraction': 0.26042076237420836}. Best is trial 30 with value: 8412.954022988506.\u001b[0m\n"
     ]
    },
    {
     "name": "stdout",
     "output_type": "stream",
     "text": [
      "index_parallel='0040'\n"
     ]
    },
    {
     "name": "stderr",
     "output_type": "stream",
     "text": [
      "\u001b[32m[I 2022-08-15 23:50:45,637]\u001b[0m Trial 40 finished with value: 7156.913793103448 and parameters: {'kErase': 3, 'kRadius': 2, 'kAnnealingA': 3.2975086196371257, 'kAnnealingB': 2.129552387697456, 'kAnnealingStart': 11.201277734171597, 'kSkipRatio': 0.6932080214285645, 'kTargetDeterminationTrials': 5, 'kAttractionRatio': 0.4412760426196665, 'kMaxAttractionDistance': 45, 'kStartAttraction': 0.001551113703562695}. Best is trial 30 with value: 8412.954022988506.\u001b[0m\n"
     ]
    },
    {
     "name": "stdout",
     "output_type": "stream",
     "text": [
      "index_parallel='0041'\n"
     ]
    },
    {
     "name": "stderr",
     "output_type": "stream",
     "text": [
      "\u001b[32m[I 2022-08-15 23:54:09,401]\u001b[0m Trial 41 finished with value: 8323.82183908046 and parameters: {'kErase': 2, 'kRadius': 2, 'kAnnealingA': -0.2232520125821717, 'kAnnealingB': 1.8026750015216138, 'kAnnealingStart': 6.71528716502681, 'kSkipRatio': 0.7710545816816736, 'kTargetDeterminationTrials': 19, 'kAttractionRatio': 0.6803296085613183, 'kMaxAttractionDistance': 27, 'kStartAttraction': 0.5918026761642469}. Best is trial 30 with value: 8412.954022988506.\u001b[0m\n"
     ]
    },
    {
     "name": "stdout",
     "output_type": "stream",
     "text": [
      "index_parallel='0042'\n"
     ]
    },
    {
     "name": "stderr",
     "output_type": "stream",
     "text": [
      "\u001b[32m[I 2022-08-15 23:57:33,187]\u001b[0m Trial 42 finished with value: 7359.591954022989 and parameters: {'kErase': 2, 'kRadius': 2, 'kAnnealingA': 0.6432511532305578, 'kAnnealingB': 1.868450952430266, 'kAnnealingStart': 19.618231427076946, 'kSkipRatio': 0.7719915844097662, 'kTargetDeterminationTrials': 15, 'kAttractionRatio': 0.7311417467860541, 'kMaxAttractionDistance': 24, 'kStartAttraction': 0.6952925182435246}. Best is trial 30 with value: 8412.954022988506.\u001b[0m\n"
     ]
    },
    {
     "name": "stdout",
     "output_type": "stream",
     "text": [
      "index_parallel='0043'\n"
     ]
    },
    {
     "name": "stderr",
     "output_type": "stream",
     "text": [
      "\u001b[32m[I 2022-08-16 00:00:56,823]\u001b[0m Trial 43 finished with value: 8287.913793103447 and parameters: {'kErase': 2, 'kRadius': 3, 'kAnnealingA': -2.006983794465163, 'kAnnealingB': 1.6409810327502734, 'kAnnealingStart': 2.8434291567301804, 'kSkipRatio': 0.6448105462019988, 'kTargetDeterminationTrials': 19, 'kAttractionRatio': 0.2903926002481858, 'kMaxAttractionDistance': 34, 'kStartAttraction': 0.42433963088321175}. Best is trial 30 with value: 8412.954022988506.\u001b[0m\n"
     ]
    },
    {
     "name": "stdout",
     "output_type": "stream",
     "text": [
      "index_parallel='0044'\n"
     ]
    },
    {
     "name": "stderr",
     "output_type": "stream",
     "text": [
      "\u001b[32m[I 2022-08-16 00:04:20,584]\u001b[0m Trial 44 finished with value: 8066.770114942528 and parameters: {'kErase': 2, 'kRadius': 2, 'kAnnealingA': 7.593113440392548, 'kAnnealingB': 2.167464683404921, 'kAnnealingStart': 1.1643386164121055, 'kSkipRatio': 0.743086765416267, 'kTargetDeterminationTrials': 13, 'kAttractionRatio': 0.49782460140683094, 'kMaxAttractionDistance': 58, 'kStartAttraction': 0.8062937045609648}. Best is trial 30 with value: 8412.954022988506.\u001b[0m\n"
     ]
    },
    {
     "name": "stdout",
     "output_type": "stream",
     "text": [
      "index_parallel='0045'\n"
     ]
    },
    {
     "name": "stderr",
     "output_type": "stream",
     "text": [
      "\u001b[32m[I 2022-08-16 00:07:44,185]\u001b[0m Trial 45 finished with value: 7421.959770114942 and parameters: {'kErase': 2, 'kRadius': 3, 'kAnnealingA': -1.0776342234705378, 'kAnnealingB': 2.4582526921759174, 'kAnnealingStart': 1.9404567505968693, 'kSkipRatio': 0.7247191627667733, 'kTargetDeterminationTrials': 15, 'kAttractionRatio': 0.7330950353589448, 'kMaxAttractionDistance': 18, 'kStartAttraction': 0.008172207839930695}. Best is trial 30 with value: 8412.954022988506.\u001b[0m\n"
     ]
    },
    {
     "name": "stdout",
     "output_type": "stream",
     "text": [
      "index_parallel='0046'\n"
     ]
    },
    {
     "name": "stderr",
     "output_type": "stream",
     "text": [
      "\u001b[32m[I 2022-08-16 00:11:08,016]\u001b[0m Trial 46 finished with value: 8290.867816091954 and parameters: {'kErase': 2, 'kRadius': 3, 'kAnnealingA': 0.8848702037302258, 'kAnnealingB': 1.9329284685514534, 'kAnnealingStart': 7.3710783297950435, 'kSkipRatio': 0.798371439680748, 'kTargetDeterminationTrials': 7, 'kAttractionRatio': 0.19865630378653978, 'kMaxAttractionDistance': 22, 'kStartAttraction': 0.5790078525491482}. Best is trial 30 with value: 8412.954022988506.\u001b[0m\n"
     ]
    },
    {
     "name": "stdout",
     "output_type": "stream",
     "text": [
      "index_parallel='0047'\n"
     ]
    },
    {
     "name": "stderr",
     "output_type": "stream",
     "text": [
      "\u001b[32m[I 2022-08-16 00:14:31,886]\u001b[0m Trial 47 finished with value: 8161.0 and parameters: {'kErase': 2, 'kRadius': 2, 'kAnnealingA': 5.141155366946222, 'kAnnealingB': 2.8336853441575993, 'kAnnealingStart': 1.5357163248194758, 'kSkipRatio': 0.6182739767810737, 'kTargetDeterminationTrials': 4, 'kAttractionRatio': 0.3451532961534588, 'kMaxAttractionDistance': 29, 'kStartAttraction': 0.22719030329679069}. Best is trial 30 with value: 8412.954022988506.\u001b[0m\n"
     ]
    },
    {
     "name": "stdout",
     "output_type": "stream",
     "text": [
      "index_parallel='0048'\n"
     ]
    },
    {
     "name": "stderr",
     "output_type": "stream",
     "text": [
      "\u001b[32m[I 2022-08-16 00:17:55,692]\u001b[0m Trial 48 finished with value: 8014.522988505747 and parameters: {'kErase': 3, 'kRadius': 3, 'kAnnealingA': 2.6551678690679767, 'kAnnealingB': 1.7436321971852322, 'kAnnealingStart': 4.601412319015186, 'kSkipRatio': 0.7705505757165695, 'kTargetDeterminationTrials': 10, 'kAttractionRatio': 0.6200296634594571, 'kMaxAttractionDistance': 37, 'kStartAttraction': 0.3749520350164574}. Best is trial 30 with value: 8412.954022988506.\u001b[0m\n"
     ]
    },
    {
     "name": "stdout",
     "output_type": "stream",
     "text": [
      "index_parallel='0049'\n"
     ]
    },
    {
     "name": "stderr",
     "output_type": "stream",
     "text": [
      "\u001b[32m[I 2022-08-16 00:21:19,861]\u001b[0m Trial 49 finished with value: 5551.040229885058 and parameters: {'kErase': 4, 'kRadius': 2, 'kAnnealingA': 10.358589288067268, 'kAnnealingB': 1.5273353778095682, 'kAnnealingStart': 91.33940153883174, 'kSkipRatio': 0.7261112468061621, 'kTargetDeterminationTrials': 17, 'kAttractionRatio': 0.8709811830445525, 'kMaxAttractionDistance': 25, 'kStartAttraction': 0.5995377061705441}. Best is trial 30 with value: 8412.954022988506.\u001b[0m\n"
     ]
    },
    {
     "name": "stdout",
     "output_type": "stream",
     "text": [
      "index_parallel='0050'\n"
     ]
    },
    {
     "name": "stderr",
     "output_type": "stream",
     "text": [
      "\u001b[32m[I 2022-08-16 00:24:43,827]\u001b[0m Trial 50 finished with value: 8047.816091954023 and parameters: {'kErase': 2, 'kRadius': 3, 'kAnnealingA': 6.728196536197446, 'kAnnealingB': 1.9826950264829435, 'kAnnealingStart': 2.1633693443723834, 'kSkipRatio': 0.7035125505228165, 'kTargetDeterminationTrials': 7, 'kAttractionRatio': 0.4551647603386319, 'kMaxAttractionDistance': 18, 'kStartAttraction': 0.14855211899200255}. Best is trial 30 with value: 8412.954022988506.\u001b[0m\n"
     ]
    },
    {
     "name": "stdout",
     "output_type": "stream",
     "text": [
      "index_parallel='0051'\n"
     ]
    },
    {
     "name": "stderr",
     "output_type": "stream",
     "text": [
      "\u001b[32m[I 2022-08-16 00:28:07,653]\u001b[0m Trial 51 finished with value: 8226.833333333334 and parameters: {'kErase': 2, 'kRadius': 3, 'kAnnealingA': 0.9548720451458181, 'kAnnealingB': 1.862754661542917, 'kAnnealingStart': 9.786263253969086, 'kSkipRatio': 0.7991900580969593, 'kTargetDeterminationTrials': 7, 'kAttractionRatio': 0.24653208076620278, 'kMaxAttractionDistance': 20, 'kStartAttraction': 0.45338815500821317}. Best is trial 30 with value: 8412.954022988506.\u001b[0m\n"
     ]
    },
    {
     "name": "stdout",
     "output_type": "stream",
     "text": [
      "index_parallel='0052'\n"
     ]
    },
    {
     "name": "stderr",
     "output_type": "stream",
     "text": [
      "\u001b[32m[I 2022-08-16 00:31:31,605]\u001b[0m Trial 52 finished with value: 8345.534482758621 and parameters: {'kErase': 2, 'kRadius': 4, 'kAnnealingA': 0.1401468239575348, 'kAnnealingB': 2.1211426735030896, 'kAnnealingStart': 6.854271372059107, 'kSkipRatio': 0.7660577584376603, 'kTargetDeterminationTrials': 5, 'kAttractionRatio': 0.1837625684831723, 'kMaxAttractionDistance': 23, 'kStartAttraction': 0.6819613828566607}. Best is trial 30 with value: 8412.954022988506.\u001b[0m\n"
     ]
    },
    {
     "name": "stdout",
     "output_type": "stream",
     "text": [
      "index_parallel='0053'\n"
     ]
    },
    {
     "name": "stderr",
     "output_type": "stream",
     "text": [
      "\u001b[32m[I 2022-08-16 00:34:55,211]\u001b[0m Trial 53 finished with value: 8226.534482758621 and parameters: {'kErase': 2, 'kRadius': 4, 'kAnnealingA': -1.7584692243276383, 'kAnnealingB': 2.1437055814923758, 'kAnnealingStart': 12.992789428890383, 'kSkipRatio': 0.7652123986425251, 'kTargetDeterminationTrials': 5, 'kAttractionRatio': 0.7321350414172525, 'kMaxAttractionDistance': 31, 'kStartAttraction': 0.8237234932522676}. Best is trial 30 with value: 8412.954022988506.\u001b[0m\n"
     ]
    },
    {
     "name": "stdout",
     "output_type": "stream",
     "text": [
      "index_parallel='0054'\n"
     ]
    },
    {
     "name": "stderr",
     "output_type": "stream",
     "text": [
      "\u001b[32m[I 2022-08-16 00:38:19,358]\u001b[0m Trial 54 finished with value: 8423.045977011494 and parameters: {'kErase': 2, 'kRadius': 4, 'kAnnealingA': -0.6083689432487751, 'kAnnealingB': 2.4071328941158856, 'kAnnealingStart': 6.342274243992704, 'kSkipRatio': 0.6881906421712153, 'kTargetDeterminationTrials': 4, 'kAttractionRatio': 0.547522500899067, 'kMaxAttractionDistance': 44, 'kStartAttraction': 0.6601243120547148}. Best is trial 54 with value: 8423.045977011494.\u001b[0m\n"
     ]
    },
    {
     "name": "stdout",
     "output_type": "stream",
     "text": [
      "Updated! 8423.045977011494\n",
      "index_parallel='0055'\n"
     ]
    },
    {
     "name": "stderr",
     "output_type": "stream",
     "text": [
      "\u001b[32m[I 2022-08-16 00:41:43,791]\u001b[0m Trial 55 finished with value: 7232.609195402299 and parameters: {'kErase': 2, 'kRadius': 4, 'kAnnealingA': -5.139740347709104, 'kAnnealingB': 2.4022426489612436, 'kAnnealingStart': 62.93127028164722, 'kSkipRatio': 0.6892019737248245, 'kTargetDeterminationTrials': 4, 'kAttractionRatio': 0.5689034272659556, 'kMaxAttractionDistance': 24, 'kStartAttraction': 0.26139389351972125}. Best is trial 54 with value: 8423.045977011494.\u001b[0m\n"
     ]
    },
    {
     "name": "stdout",
     "output_type": "stream",
     "text": [
      "index_parallel='0056'\n"
     ]
    },
    {
     "name": "stderr",
     "output_type": "stream",
     "text": [
      "\u001b[32m[I 2022-08-16 00:45:07,329]\u001b[0m Trial 56 finished with value: 8134.936781609195 and parameters: {'kErase': 1, 'kRadius': 4, 'kAnnealingA': -5.750734069357527, 'kAnnealingB': 2.274385056348659, 'kAnnealingStart': 6.446644257048377, 'kSkipRatio': 0.6341709185277928, 'kTargetDeterminationTrials': 3, 'kAttractionRatio': 0.3257717624198844, 'kMaxAttractionDistance': 42, 'kStartAttraction': 0.3823108143667672}. Best is trial 54 with value: 8423.045977011494.\u001b[0m\n"
     ]
    },
    {
     "name": "stdout",
     "output_type": "stream",
     "text": [
      "index_parallel='0057'\n"
     ]
    },
    {
     "name": "stderr",
     "output_type": "stream",
     "text": [
      "\u001b[32m[I 2022-08-16 00:48:31,433]\u001b[0m Trial 57 finished with value: 7303.109195402299 and parameters: {'kErase': 3, 'kRadius': 4, 'kAnnealingA': -0.2242486721837813, 'kAnnealingB': 2.6775830751529988, 'kAnnealingStart': 9.320699539291446, 'kSkipRatio': 0.5821649316082306, 'kTargetDeterminationTrials': 5, 'kAttractionRatio': 0.1961285902296933, 'kMaxAttractionDistance': 17, 'kStartAttraction': 0.0030004041501429674}. Best is trial 54 with value: 8423.045977011494.\u001b[0m\n"
     ]
    },
    {
     "name": "stdout",
     "output_type": "stream",
     "text": [
      "index_parallel='0058'\n"
     ]
    },
    {
     "name": "stderr",
     "output_type": "stream",
     "text": [
      "\u001b[32m[I 2022-08-16 00:51:55,357]\u001b[0m Trial 58 finished with value: 8364.367816091954 and parameters: {'kErase': 2, 'kRadius': 4, 'kAnnealingA': 3.095677859050461, 'kAnnealingB': 2.54741876645503, 'kAnnealingStart': 3.9547511633007324, 'kSkipRatio': 0.7349346005359312, 'kTargetDeterminationTrials': 4, 'kAttractionRatio': 0.4204629940070891, 'kMaxAttractionDistance': 35, 'kStartAttraction': 0.6653022371778387}. Best is trial 54 with value: 8423.045977011494.\u001b[0m\n"
     ]
    },
    {
     "name": "stdout",
     "output_type": "stream",
     "text": [
      "index_parallel='0059'\n"
     ]
    },
    {
     "name": "stderr",
     "output_type": "stream",
     "text": [
      "\u001b[32m[I 2022-08-16 00:55:18,750]\u001b[0m Trial 59 finished with value: 7871.885057471264 and parameters: {'kErase': 1, 'kRadius': 4, 'kAnnealingA': 2.929844512680573, 'kAnnealingB': 2.9860877192296362, 'kAnnealingStart': 5.706172876312922, 'kSkipRatio': 0.7423750724014645, 'kTargetDeterminationTrials': 6, 'kAttractionRatio': 0.43979262929615565, 'kMaxAttractionDistance': 34, 'kStartAttraction': 0.013866077963945352}. Best is trial 54 with value: 8423.045977011494.\u001b[0m\n"
     ]
    },
    {
     "name": "stdout",
     "output_type": "stream",
     "text": [
      "index_parallel='0060'\n"
     ]
    },
    {
     "name": "stderr",
     "output_type": "stream",
     "text": [
      "\u001b[32m[I 2022-08-16 00:58:42,639]\u001b[0m Trial 60 finished with value: 8143.35632183908 and parameters: {'kErase': 2, 'kRadius': 4, 'kAnnealingA': -0.43704618879878243, 'kAnnealingB': 2.550975605259506, 'kAnnealingStart': 4.200324966078346, 'kSkipRatio': 0.6836073031681477, 'kTargetDeterminationTrials': 3, 'kAttractionRatio': 0.12399065834179439, 'kMaxAttractionDistance': 53, 'kStartAttraction': 0.683429220825883}. Best is trial 54 with value: 8423.045977011494.\u001b[0m\n"
     ]
    },
    {
     "name": "stdout",
     "output_type": "stream",
     "text": [
      "index_parallel='0061'\n"
     ]
    },
    {
     "name": "stderr",
     "output_type": "stream",
     "text": [
      "\u001b[32m[I 2022-08-16 01:02:06,637]\u001b[0m Trial 61 finished with value: 8390.827586206897 and parameters: {'kErase': 2, 'kRadius': 4, 'kAnnealingA': 1.744061273340181, 'kAnnealingB': 2.8104196393417444, 'kAnnealingStart': 7.226385145548383, 'kSkipRatio': 0.7254349437430831, 'kTargetDeterminationTrials': 4, 'kAttractionRatio': 0.6840246955214907, 'kMaxAttractionDistance': 30, 'kStartAttraction': 0.8722196077714316}. Best is trial 54 with value: 8423.045977011494.\u001b[0m\n"
     ]
    },
    {
     "name": "stdout",
     "output_type": "stream",
     "text": [
      "index_parallel='0062'\n"
     ]
    },
    {
     "name": "stderr",
     "output_type": "stream",
     "text": [
      "\u001b[32m[I 2022-08-16 01:05:30,457]\u001b[0m Trial 62 finished with value: 8383.402298850575 and parameters: {'kErase': 2, 'kRadius': 4, 'kAnnealingA': -1.9124707510042258, 'kAnnealingB': 2.8134176179850097, 'kAnnealingStart': 7.180068885466208, 'kSkipRatio': 0.718588131740652, 'kTargetDeterminationTrials': 4, 'kAttractionRatio': 0.5383055098984726, 'kMaxAttractionDistance': 30, 'kStartAttraction': 0.8197198853137051}. Best is trial 54 with value: 8423.045977011494.\u001b[0m\n"
     ]
    },
    {
     "name": "stdout",
     "output_type": "stream",
     "text": [
      "index_parallel='0063'\n"
     ]
    },
    {
     "name": "stderr",
     "output_type": "stream",
     "text": [
      "\u001b[32m[I 2022-08-16 01:08:54,112]\u001b[0m Trial 63 finished with value: 8386.252873563219 and parameters: {'kErase': 2, 'kRadius': 4, 'kAnnealingA': -1.8350080899960655, 'kAnnealingB': 2.8372330250193687, 'kAnnealingStart': 7.678557595007895, 'kSkipRatio': 0.712144462066532, 'kTargetDeterminationTrials': 4, 'kAttractionRatio': 0.5439695247896198, 'kMaxAttractionDistance': 22, 'kStartAttraction': 0.8125538747767143}. Best is trial 54 with value: 8423.045977011494.\u001b[0m\n"
     ]
    },
    {
     "name": "stdout",
     "output_type": "stream",
     "text": [
      "index_parallel='0064'\n"
     ]
    },
    {
     "name": "stderr",
     "output_type": "stream",
     "text": [
      "\u001b[32m[I 2022-08-16 01:12:18,065]\u001b[0m Trial 64 finished with value: 8061.258620689655 and parameters: {'kErase': 2, 'kRadius': 4, 'kAnnealingA': -2.3958394051337586, 'kAnnealingB': 2.8310310305779467, 'kAnnealingStart': 12.600938190598054, 'kSkipRatio': 0.7087763950900304, 'kTargetDeterminationTrials': 4, 'kAttractionRatio': 0.5119914331525446, 'kMaxAttractionDistance': 30, 'kStartAttraction': 0.8992137468422118}. Best is trial 54 with value: 8423.045977011494.\u001b[0m\n"
     ]
    },
    {
     "name": "stdout",
     "output_type": "stream",
     "text": [
      "index_parallel='0065'\n"
     ]
    },
    {
     "name": "stderr",
     "output_type": "stream",
     "text": [
      "\u001b[32m[I 2022-08-16 01:15:41,489]\u001b[0m Trial 65 finished with value: 8281.477011494253 and parameters: {'kErase': 1, 'kRadius': 4, 'kAnnealingA': -3.551468204110387, 'kAnnealingB': 2.8017440347247904, 'kAnnealingStart': 8.224194389875636, 'kSkipRatio': 0.6454282321308094, 'kTargetDeterminationTrials': 3, 'kAttractionRatio': 0.39859547632148495, 'kMaxAttractionDistance': 36, 'kStartAttraction': 0.4598256150886474}. Best is trial 54 with value: 8423.045977011494.\u001b[0m\n"
     ]
    },
    {
     "name": "stdout",
     "output_type": "stream",
     "text": [
      "index_parallel='0066'\n"
     ]
    },
    {
     "name": "stderr",
     "output_type": "stream",
     "text": [
      "\u001b[32m[I 2022-08-16 01:19:05,343]\u001b[0m Trial 66 finished with value: 8403.419540229885 and parameters: {'kErase': 2, 'kRadius': 5, 'kAnnealingA': 1.7983542619831052, 'kAnnealingB': 2.7590248391149426, 'kAnnealingStart': 3.2093523665075, 'kSkipRatio': 0.6825416138544983, 'kTargetDeterminationTrials': 4, 'kAttractionRatio': 0.2924539285011493, 'kMaxAttractionDistance': 21, 'kStartAttraction': 0.32343310651675133}. Best is trial 54 with value: 8423.045977011494.\u001b[0m\n"
     ]
    },
    {
     "name": "stdout",
     "output_type": "stream",
     "text": [
      "index_parallel='0067'\n"
     ]
    },
    {
     "name": "stderr",
     "output_type": "stream",
     "text": [
      "\u001b[32m[I 2022-08-16 01:22:29,316]\u001b[0m Trial 67 finished with value: 7765.69540229885 and parameters: {'kErase': 2, 'kRadius': 5, 'kAnnealingA': -1.354948846801124, 'kAnnealingB': 2.7348502119558473, 'kAnnealingStart': 15.895767812604824, 'kSkipRatio': 0.608381597951106, 'kTargetDeterminationTrials': 6, 'kAttractionRatio': 0.3025576522649395, 'kMaxAttractionDistance': 20, 'kStartAttraction': 0.3085148893212341}. Best is trial 54 with value: 8423.045977011494.\u001b[0m\n"
     ]
    },
    {
     "name": "stdout",
     "output_type": "stream",
     "text": [
      "index_parallel='0068'\n"
     ]
    },
    {
     "name": "stderr",
     "output_type": "stream",
     "text": [
      "\u001b[32m[I 2022-08-16 01:25:53,170]\u001b[0m Trial 68 finished with value: 8432.6091954023 and parameters: {'kErase': 2, 'kRadius': 5, 'kAnnealingA': 1.8732525676009983, 'kAnnealingB': 2.937712214306621, 'kAnnealingStart': 5.240854661062911, 'kSkipRatio': 0.674088233247117, 'kTargetDeterminationTrials': 3, 'kAttractionRatio': 0.5649594296448289, 'kMaxAttractionDistance': 16, 'kStartAttraction': 0.38557894167913914}. Best is trial 68 with value: 8432.6091954023.\u001b[0m\n"
     ]
    },
    {
     "name": "stdout",
     "output_type": "stream",
     "text": [
      "Updated! 8432.6091954023\n",
      "index_parallel='0069'\n"
     ]
    },
    {
     "name": "stderr",
     "output_type": "stream",
     "text": [
      "\u001b[32m[I 2022-08-16 01:29:16,737]\u001b[0m Trial 69 finished with value: 8382.201149425287 and parameters: {'kErase': 1, 'kRadius': 5, 'kAnnealingA': 1.681801215499919, 'kAnnealingB': 2.95336920601332, 'kAnnealingStart': 3.1689378222432603, 'kSkipRatio': 0.6848750806556287, 'kTargetDeterminationTrials': 3, 'kAttractionRatio': 0.5459129876359222, 'kMaxAttractionDistance': 15, 'kStartAttraction': 0.2387349473318185}. Best is trial 68 with value: 8432.6091954023.\u001b[0m\n"
     ]
    },
    {
     "name": "stdout",
     "output_type": "stream",
     "text": [
      "index_parallel='0070'\n"
     ]
    },
    {
     "name": "stderr",
     "output_type": "stream",
     "text": [
      "\u001b[32m[I 2022-08-16 01:32:40,617]\u001b[0m Trial 70 finished with value: 8065.551724137931 and parameters: {'kErase': 3, 'kRadius': 5, 'kAnnealingA': 2.3103530783140593, 'kAnnealingB': 2.8849743728302593, 'kAnnealingStart': 5.511882635550287, 'kSkipRatio': 0.6683923765993202, 'kTargetDeterminationTrials': 5, 'kAttractionRatio': 0.2571824323806098, 'kMaxAttractionDistance': 16, 'kStartAttraction': 0.35706420274879214}. Best is trial 68 with value: 8432.6091954023.\u001b[0m\n"
     ]
    },
    {
     "name": "stdout",
     "output_type": "stream",
     "text": [
      "index_parallel='0071'\n"
     ]
    },
    {
     "name": "stderr",
     "output_type": "stream",
     "text": [
      "\u001b[32m[I 2022-08-16 01:36:03,934]\u001b[0m Trial 71 finished with value: 8288.16091954023 and parameters: {'kErase': 1, 'kRadius': 5, 'kAnnealingA': 1.686311914793151, 'kAnnealingB': 2.925548201941784, 'kAnnealingStart': 2.9652586040422233, 'kSkipRatio': 0.681161867933637, 'kTargetDeterminationTrials': 3, 'kAttractionRatio': 0.5622703183093524, 'kMaxAttractionDistance': 13, 'kStartAttraction': 0.26134745999352965}. Best is trial 68 with value: 8432.6091954023.\u001b[0m\n"
     ]
    },
    {
     "name": "stdout",
     "output_type": "stream",
     "text": [
      "index_parallel='0072'\n"
     ]
    },
    {
     "name": "stderr",
     "output_type": "stream",
     "text": [
      "\u001b[32m[I 2022-08-16 01:39:27,485]\u001b[0m Trial 72 finished with value: 8449.132183908046 and parameters: {'kErase': 1, 'kRadius': 5, 'kAnnealingA': 4.008662480299757, 'kAnnealingB': 2.7386728811037804, 'kAnnealingStart': 5.01961679172716, 'kSkipRatio': 0.7131317985530636, 'kTargetDeterminationTrials': 3, 'kAttractionRatio': 0.4860861853685387, 'kMaxAttractionDistance': 15, 'kStartAttraction': 0.19409089126092624}. Best is trial 72 with value: 8449.132183908046.\u001b[0m\n"
     ]
    },
    {
     "name": "stdout",
     "output_type": "stream",
     "text": [
      "Updated! 8449.132183908046\n",
      "index_parallel='0073'\n"
     ]
    },
    {
     "name": "stderr",
     "output_type": "stream",
     "text": [
      "\u001b[32m[I 2022-08-16 01:42:50,993]\u001b[0m Trial 73 finished with value: 8129.4885057471265 and parameters: {'kErase': 1, 'kRadius': 5, 'kAnnealingA': -2.840470557276887, 'kAnnealingB': 2.6292831373960426, 'kAnnealingStart': 4.836502489203456, 'kSkipRatio': 0.7123287702020128, 'kTargetDeterminationTrials': 4, 'kAttractionRatio': 0.6423981963655548, 'kMaxAttractionDistance': 21, 'kStartAttraction': 0.17152770569567888}. Best is trial 72 with value: 8449.132183908046.\u001b[0m\n"
     ]
    },
    {
     "name": "stdout",
     "output_type": "stream",
     "text": [
      "index_parallel='0074'\n"
     ]
    },
    {
     "name": "stderr",
     "output_type": "stream",
     "text": [
      "\u001b[32m[I 2022-08-16 01:46:14,706]\u001b[0m Trial 74 finished with value: 8071.873563218391 and parameters: {'kErase': 2, 'kRadius': 5, 'kAnnealingA': 5.40765269451607, 'kAnnealingB': 2.7322211052117433, 'kAnnealingStart': 8.042165035040629, 'kSkipRatio': 0.5606154975333719, 'kTargetDeterminationTrials': 5, 'kAttractionRatio': 0.4878573856027778, 'kMaxAttractionDistance': 9, 'kStartAttraction': 0.7640944274398711}. Best is trial 72 with value: 8449.132183908046.\u001b[0m\n"
     ]
    },
    {
     "name": "stdout",
     "output_type": "stream",
     "text": [
      "index_parallel='0075'\n"
     ]
    },
    {
     "name": "stderr",
     "output_type": "stream",
     "text": [
      "\u001b[32m[I 2022-08-16 01:49:38,315]\u001b[0m Trial 75 finished with value: 8543.097701149425 and parameters: {'kErase': 2, 'kRadius': 5, 'kAnnealingA': 3.9871773028259536, 'kAnnealingB': 2.611771987828061, 'kAnnealingStart': 6.058614388266098, 'kSkipRatio': 0.746062743469403, 'kTargetDeterminationTrials': 4, 'kAttractionRatio': 0.353487140827818, 'kMaxAttractionDistance': 17, 'kStartAttraction': 0.4364962673444704}. Best is trial 75 with value: 8543.097701149425.\u001b[0m\n"
     ]
    },
    {
     "name": "stdout",
     "output_type": "stream",
     "text": [
      "Updated! 8543.097701149425\n",
      "index_parallel='0076'\n"
     ]
    },
    {
     "name": "stderr",
     "output_type": "stream",
     "text": [
      "\u001b[32m[I 2022-08-16 01:53:02,404]\u001b[0m Trial 76 finished with value: 7647.494252873563 and parameters: {'kErase': 3, 'kRadius': 5, 'kAnnealingA': 3.9784408203445385, 'kAnnealingB': 2.3761187901472174, 'kAnnealingStart': 5.784593837646881, 'kSkipRatio': 0.7496969359138286, 'kTargetDeterminationTrials': 3, 'kAttractionRatio': 0.3255885645500885, 'kMaxAttractionDistance': 13, 'kStartAttraction': 0.043115980622465126}. Best is trial 75 with value: 8543.097701149425.\u001b[0m\n"
     ]
    },
    {
     "name": "stdout",
     "output_type": "stream",
     "text": [
      "index_parallel='0077'\n"
     ]
    },
    {
     "name": "stderr",
     "output_type": "stream",
     "text": [
      "\u001b[32m[I 2022-08-16 01:56:26,114]\u001b[0m Trial 77 finished with value: 8336.431034482759 and parameters: {'kErase': 1, 'kRadius': 6, 'kAnnealingA': 6.476128766454615, 'kAnnealingB': 2.6957166312536365, 'kAnnealingStart': 4.603297162111328, 'kSkipRatio': 0.7302652821914428, 'kTargetDeterminationTrials': 6, 'kAttractionRatio': 0.37141383691587726, 'kMaxAttractionDistance': 18, 'kStartAttraction': 0.20119961279868054}. Best is trial 75 with value: 8543.097701149425.\u001b[0m\n"
     ]
    },
    {
     "name": "stdout",
     "output_type": "stream",
     "text": [
      "index_parallel='0078'\n"
     ]
    },
    {
     "name": "stderr",
     "output_type": "stream",
     "text": [
      "\u001b[32m[I 2022-08-16 01:59:49,687]\u001b[0m Trial 78 finished with value: 8040.724137931034 and parameters: {'kErase': 2, 'kRadius': 5, 'kAnnealingA': 3.667416143883439, 'kAnnealingB': 2.5990182982381116, 'kAnnealingStart': 10.86282642080446, 'kSkipRatio': 0.6987379503189177, 'kTargetDeterminationTrials': 5, 'kAttractionRatio': 0.7760185414669845, 'kMaxAttractionDistance': 14, 'kStartAttraction': 0.39754807443053747}. Best is trial 75 with value: 8543.097701149425.\u001b[0m\n"
     ]
    },
    {
     "name": "stdout",
     "output_type": "stream",
     "text": [
      "index_parallel='0079'\n"
     ]
    },
    {
     "name": "stderr",
     "output_type": "stream",
     "text": [
      "\u001b[32m[I 2022-08-16 02:03:13,644]\u001b[0m Trial 79 finished with value: 8508.097701149425 and parameters: {'kErase': 2, 'kRadius': 5, 'kAnnealingA': 4.730243538842105, 'kAnnealingB': 2.9959004375614353, 'kAnnealingStart': 3.4202121901717146, 'kSkipRatio': 0.6588014319366352, 'kTargetDeterminationTrials': 7, 'kAttractionRatio': 0.6084839510442176, 'kMaxAttractionDistance': 16, 'kStartAttraction': 0.4637217447686831}. Best is trial 75 with value: 8543.097701149425.\u001b[0m\n"
     ]
    },
    {
     "name": "stdout",
     "output_type": "stream",
     "text": [
      "index_parallel='0080'\n"
     ]
    },
    {
     "name": "stderr",
     "output_type": "stream",
     "text": [
      "\u001b[32m[I 2022-08-16 02:06:37,832]\u001b[0m Trial 80 finished with value: 7840.373563218391 and parameters: {'kErase': 3, 'kRadius': 5, 'kAnnealingA': 4.819337114371851, 'kAnnealingB': 2.768439190488862, 'kAnnealingStart': 3.411108905372911, 'kSkipRatio': 0.6241834430069331, 'kTargetDeterminationTrials': 7, 'kAttractionRatio': 0.6778905436733055, 'kMaxAttractionDistance': 12, 'kStartAttraction': 0.09879804362297852}. Best is trial 75 with value: 8543.097701149425.\u001b[0m\n"
     ]
    },
    {
     "name": "stdout",
     "output_type": "stream",
     "text": [
      "index_parallel='0081'\n"
     ]
    },
    {
     "name": "stderr",
     "output_type": "stream",
     "text": [
      "\u001b[32m[I 2022-08-16 02:10:01,920]\u001b[0m Trial 81 finished with value: 8369.327586206897 and parameters: {'kErase': 2, 'kRadius': 5, 'kAnnealingA': 5.514188588857971, 'kAnnealingB': 2.88813379043912, 'kAnnealingStart': 5.212322458196023, 'kSkipRatio': 0.6539938154194963, 'kTargetDeterminationTrials': 4, 'kAttractionRatio': 0.4677132641945845, 'kMaxAttractionDistance': 16, 'kStartAttraction': 0.32440349777026417}. Best is trial 75 with value: 8543.097701149425.\u001b[0m\n"
     ]
    },
    {
     "name": "stdout",
     "output_type": "stream",
     "text": [
      "index_parallel='0082'\n"
     ]
    },
    {
     "name": "stderr",
     "output_type": "stream",
     "text": [
      "\u001b[32m[I 2022-08-16 02:13:25,657]\u001b[0m Trial 82 finished with value: 8534.557471264368 and parameters: {'kErase': 2, 'kRadius': 5, 'kAnnealingA': 2.4442889033661275, 'kAnnealingB': 2.590333666698794, 'kAnnealingStart': 3.8797770100924, 'kSkipRatio': 0.664815821482462, 'kTargetDeterminationTrials': 8, 'kAttractionRatio': 0.6051618597348111, 'kMaxAttractionDistance': 19, 'kStartAttraction': 0.4611104796816907}. Best is trial 75 with value: 8543.097701149425.\u001b[0m\n"
     ]
    },
    {
     "name": "stdout",
     "output_type": "stream",
     "text": [
      "index_parallel='0083'\n"
     ]
    },
    {
     "name": "stderr",
     "output_type": "stream",
     "text": [
      "\u001b[32m[I 2022-08-16 02:16:49,533]\u001b[0m Trial 83 finished with value: 8601.01724137931 and parameters: {'kErase': 2, 'kRadius': 5, 'kAnnealingA': 2.614168246877207, 'kAnnealingB': 2.478920780805298, 'kAnnealingStart': 4.352658006989104, 'kSkipRatio': 0.6725557191223528, 'kTargetDeterminationTrials': 7, 'kAttractionRatio': 0.6069711057369761, 'kMaxAttractionDistance': 19, 'kStartAttraction': 0.4864174655756522}. Best is trial 83 with value: 8601.01724137931.\u001b[0m\n"
     ]
    },
    {
     "name": "stdout",
     "output_type": "stream",
     "text": [
      "Updated! 8601.01724137931\n",
      "index_parallel='0084'\n"
     ]
    },
    {
     "name": "stderr",
     "output_type": "stream",
     "text": [
      "\u001b[32m[I 2022-08-16 02:20:13,819]\u001b[0m Trial 84 finished with value: 7722.350574712644 and parameters: {'kErase': 4, 'kRadius': 5, 'kAnnealingA': 4.350454502995987, 'kAnnealingB': 2.4968153868105576, 'kAnnealingStart': 3.7255600582154464, 'kSkipRatio': 0.671417271494943, 'kTargetDeterminationTrials': 9, 'kAttractionRatio': 0.6172438622013315, 'kMaxAttractionDistance': 15, 'kStartAttraction': 0.4847476260611761}. Best is trial 83 with value: 8601.01724137931.\u001b[0m\n"
     ]
    },
    {
     "name": "stdout",
     "output_type": "stream",
     "text": [
      "index_parallel='0085'\n"
     ]
    },
    {
     "name": "stderr",
     "output_type": "stream",
     "text": [
      "\u001b[32m[I 2022-08-16 02:23:37,524]\u001b[0m Trial 85 finished with value: 8053.718390804598 and parameters: {'kErase': 2, 'kRadius': 6, 'kAnnealingA': 2.4561002455117493, 'kAnnealingB': 2.4231412152756824, 'kAnnealingStart': 2.5023640475008264, 'kSkipRatio': 0.6336634632765681, 'kTargetDeterminationTrials': 9, 'kAttractionRatio': 0.2287611515001634, 'kMaxAttractionDistance': 19, 'kStartAttraction': 0.14167922668928162}. Best is trial 83 with value: 8601.01724137931.\u001b[0m\n"
     ]
    },
    {
     "name": "stdout",
     "output_type": "stream",
     "text": [
      "index_parallel='0086'\n"
     ]
    },
    {
     "name": "stderr",
     "output_type": "stream",
     "text": [
      "\u001b[32m[I 2022-08-16 02:27:01,208]\u001b[0m Trial 86 finished with value: 8018.431034482759 and parameters: {'kErase': 2, 'kRadius': 5, 'kAnnealingA': 7.061303609900372, 'kAnnealingB': 2.9990338476873424, 'kAnnealingStart': 4.267372774361715, 'kSkipRatio': 0.6748367010493048, 'kTargetDeterminationTrials': 8, 'kAttractionRatio': 0.3627041354839651, 'kMaxAttractionDistance': 87, 'kStartAttraction': 0.07526823324951365}. Best is trial 83 with value: 8601.01724137931.\u001b[0m\n"
     ]
    },
    {
     "name": "stdout",
     "output_type": "stream",
     "text": [
      "index_parallel='0087'\n"
     ]
    },
    {
     "name": "stderr",
     "output_type": "stream",
     "text": [
      "\u001b[32m[I 2022-08-16 02:30:24,893]\u001b[0m Trial 87 finished with value: 8289.82183908046 and parameters: {'kErase': 2, 'kRadius': 5, 'kAnnealingA': 3.411788844141532, 'kAnnealingB': 2.6420298594619585, 'kAnnealingStart': 3.1634322141427296, 'kSkipRatio': 0.5916052206702791, 'kTargetDeterminationTrials': 8, 'kAttractionRatio': 0.7663879324497936, 'kMaxAttractionDistance': 10, 'kStartAttraction': 0.27928207655467585}. Best is trial 83 with value: 8601.01724137931.\u001b[0m\n"
     ]
    },
    {
     "name": "stdout",
     "output_type": "stream",
     "text": [
      "index_parallel='0088'\n"
     ]
    },
    {
     "name": "stderr",
     "output_type": "stream",
     "text": [
      "\u001b[32m[I 2022-08-16 02:33:48,614]\u001b[0m Trial 88 finished with value: 8370.568965517241 and parameters: {'kErase': 2, 'kRadius': 5, 'kAnnealingA': 0.9973100743946532, 'kAnnealingB': 2.567459600937789, 'kAnnealingStart': 6.235767016428207, 'kSkipRatio': 0.6589361144122426, 'kTargetDeterminationTrials': 7, 'kAttractionRatio': 0.45540220464875986, 'kMaxAttractionDistance': 12, 'kStartAttraction': 0.4171591306532336}. Best is trial 83 with value: 8601.01724137931.\u001b[0m\n"
     ]
    },
    {
     "name": "stdout",
     "output_type": "stream",
     "text": [
      "index_parallel='0089'\n"
     ]
    }
   ],
   "source": [
    "study.optimize(\n",
    "    partial(objective, in_dir=in_dir, work_dir=work_dir),\n",
    "    n_trials=3000,\n",
    "    timeout=86400,\n",
    "    callbacks=[callback]\n",
    ")"
   ]
  },
  {
   "cell_type": "code",
   "execution_count": null,
   "id": "700269d2",
   "metadata": {},
   "outputs": [],
   "source": []
  }
 ],
 "metadata": {
  "kernelspec": {
   "display_name": "Python 3 (ipykernel)",
   "language": "python",
   "name": "python3"
  },
  "language_info": {
   "codemirror_mode": {
    "name": "ipython",
    "version": 3
   },
   "file_extension": ".py",
   "mimetype": "text/x-python",
   "name": "python",
   "nbconvert_exporter": "python",
   "pygments_lexer": "ipython3",
   "version": "3.9.12"
  }
 },
 "nbformat": 4,
 "nbformat_minor": 5
}
