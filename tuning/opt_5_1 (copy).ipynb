{
 "cells": [
  {
   "cell_type": "code",
   "execution_count": 1,
   "id": "25a1dac8",
   "metadata": {},
   "outputs": [],
   "source": [
    "import re\n",
    "import sys\n",
    "from uuid import uuid1\n",
    "from time import sleep\n",
    "from pprint import pprint\n",
    "from pathlib import Path\n",
    "from tempfile import gettempdir\n",
    "from threading import Thread\n",
    "from functools import partial\n",
    "from subprocess import Popen, PIPE\n",
    "\n",
    "from tqdm.notebook import tqdm\n",
    "import numpy as np\n",
    "import optuna\n",
    "import pandas as pd\n",
    "import matplotlib.pyplot as plt\n",
    "\n",
    "FILENAME = \"main.cpp\""
   ]
  },
  {
   "cell_type": "code",
   "execution_count": 2,
   "id": "3dd4d02e",
   "metadata": {},
   "outputs": [
    {
     "name": "stdout",
     "output_type": "stream",
     "text": [
      "10 variables were found.\n"
     ]
    },
    {
     "data": {
      "text/html": [
       "<div>\n",
       "<style scoped>\n",
       "    .dataframe tbody tr th:only-of-type {\n",
       "        vertical-align: middle;\n",
       "    }\n",
       "\n",
       "    .dataframe tbody tr th {\n",
       "        vertical-align: top;\n",
       "    }\n",
       "\n",
       "    .dataframe thead th {\n",
       "        text-align: right;\n",
       "    }\n",
       "</style>\n",
       "<table border=\"1\" class=\"dataframe\">\n",
       "  <thead>\n",
       "    <tr style=\"text-align: right;\">\n",
       "      <th></th>\n",
       "      <th>name</th>\n",
       "      <th>method</th>\n",
       "      <th>min</th>\n",
       "      <th>max</th>\n",
       "      <th>log</th>\n",
       "      <th>left</th>\n",
       "      <th>right</th>\n",
       "    </tr>\n",
       "  </thead>\n",
       "  <tbody>\n",
       "    <tr>\n",
       "      <th>0</th>\n",
       "      <td>kErase</td>\n",
       "      <td>suggest_int</td>\n",
       "      <td>1.000</td>\n",
       "      <td>5.0</td>\n",
       "      <td>False</td>\n",
       "      <td>static constexpr auto kErase =</td>\n",
       "      <td>;             // OPTIMIZE [1, 5]</td>\n",
       "    </tr>\n",
       "    <tr>\n",
       "      <th>1</th>\n",
       "      <td>kRadius</td>\n",
       "      <td>suggest_int</td>\n",
       "      <td>2.000</td>\n",
       "      <td>6.0</td>\n",
       "      <td>False</td>\n",
       "      <td>static constexpr auto kRadius =</td>\n",
       "      <td>;            // OPTIMIZE [2, 6]</td>\n",
       "    </tr>\n",
       "    <tr>\n",
       "      <th>2</th>\n",
       "      <td>kAnnealingA</td>\n",
       "      <td>suggest_float</td>\n",
       "      <td>-15.000</td>\n",
       "      <td>15.0</td>\n",
       "      <td>False</td>\n",
       "      <td>static constexpr auto kAnnealingA =</td>\n",
       "      <td>;      // OPTIMIZE [-15.0, 15.0]</td>\n",
       "    </tr>\n",
       "    <tr>\n",
       "      <th>3</th>\n",
       "      <td>kAnnealingB</td>\n",
       "      <td>suggest_float</td>\n",
       "      <td>0.000</td>\n",
       "      <td>3.0</td>\n",
       "      <td>False</td>\n",
       "      <td>static constexpr auto kAnnealingB =</td>\n",
       "      <td>;      // OPTIMIZE [0.0, 3.0]</td>\n",
       "    </tr>\n",
       "    <tr>\n",
       "      <th>4</th>\n",
       "      <td>kAnnealingStart</td>\n",
       "      <td>suggest_float</td>\n",
       "      <td>1.000</td>\n",
       "      <td>100.0</td>\n",
       "      <td>True</td>\n",
       "      <td>static constexpr auto kAnnealingStart =</td>\n",
       "      <td>; // OPTIMIZE LOG [1.0, 100.0]</td>\n",
       "    </tr>\n",
       "    <tr>\n",
       "      <th>5</th>\n",
       "      <td>kSkipRatio</td>\n",
       "      <td>suggest_float</td>\n",
       "      <td>0.200</td>\n",
       "      <td>0.8</td>\n",
       "      <td>False</td>\n",
       "      <td>static constexpr auto kSkipRatio =</td>\n",
       "      <td>;       // OPTIMIZE [0.2, 0.8]</td>\n",
       "    </tr>\n",
       "    <tr>\n",
       "      <th>6</th>\n",
       "      <td>kTargetDeterminationTrials</td>\n",
       "      <td>suggest_int</td>\n",
       "      <td>1.000</td>\n",
       "      <td>20.0</td>\n",
       "      <td>True</td>\n",
       "      <td>static constexpr auto kTargetDeterminationTria...</td>\n",
       "      <td>; // OPTIMIZE LOG [1, 20]</td>\n",
       "    </tr>\n",
       "    <tr>\n",
       "      <th>7</th>\n",
       "      <td>kAttractionRatio</td>\n",
       "      <td>suggest_float</td>\n",
       "      <td>0.010</td>\n",
       "      <td>0.9</td>\n",
       "      <td>True</td>\n",
       "      <td>static constexpr auto kAttractionRatio =</td>\n",
       "      <td>;      // OPTIMIZE LOG [0.01, 0.9]</td>\n",
       "    </tr>\n",
       "    <tr>\n",
       "      <th>8</th>\n",
       "      <td>kMaxAttractionDistance</td>\n",
       "      <td>suggest_int</td>\n",
       "      <td>4.000</td>\n",
       "      <td>99.0</td>\n",
       "      <td>True</td>\n",
       "      <td>static constexpr auto kMaxAttractionDistance =</td>\n",
       "      <td>; // OPTIMIZE LOG [4, 99]</td>\n",
       "    </tr>\n",
       "    <tr>\n",
       "      <th>9</th>\n",
       "      <td>kStartAttraction</td>\n",
       "      <td>suggest_float</td>\n",
       "      <td>0.001</td>\n",
       "      <td>0.9</td>\n",
       "      <td>True</td>\n",
       "      <td>static constexpr auto kStartAttraction =</td>\n",
       "      <td>;     // OPTIMIZE LOG [0.001, 0.9]</td>\n",
       "    </tr>\n",
       "  </tbody>\n",
       "</table>\n",
       "</div>"
      ],
      "text/plain": [
       "                         name         method     min    max    log  \\\n",
       "0                      kErase    suggest_int   1.000    5.0  False   \n",
       "1                     kRadius    suggest_int   2.000    6.0  False   \n",
       "2                 kAnnealingA  suggest_float -15.000   15.0  False   \n",
       "3                 kAnnealingB  suggest_float   0.000    3.0  False   \n",
       "4             kAnnealingStart  suggest_float   1.000  100.0   True   \n",
       "5                  kSkipRatio  suggest_float   0.200    0.8  False   \n",
       "6  kTargetDeterminationTrials    suggest_int   1.000   20.0   True   \n",
       "7            kAttractionRatio  suggest_float   0.010    0.9   True   \n",
       "8      kMaxAttractionDistance    suggest_int   4.000   99.0   True   \n",
       "9            kStartAttraction  suggest_float   0.001    0.9   True   \n",
       "\n",
       "                                                left  \\\n",
       "0                    static constexpr auto kErase =    \n",
       "1                   static constexpr auto kRadius =    \n",
       "2               static constexpr auto kAnnealingA =    \n",
       "3               static constexpr auto kAnnealingB =    \n",
       "4           static constexpr auto kAnnealingStart =    \n",
       "5                static constexpr auto kSkipRatio =    \n",
       "6  static constexpr auto kTargetDeterminationTria...   \n",
       "7          static constexpr auto kAttractionRatio =    \n",
       "8    static constexpr auto kMaxAttractionDistance =    \n",
       "9          static constexpr auto kStartAttraction =    \n",
       "\n",
       "                                right  \n",
       "0    ;             // OPTIMIZE [1, 5]  \n",
       "1     ;            // OPTIMIZE [2, 6]  \n",
       "2    ;      // OPTIMIZE [-15.0, 15.0]  \n",
       "3       ;      // OPTIMIZE [0.0, 3.0]  \n",
       "4      ; // OPTIMIZE LOG [1.0, 100.0]  \n",
       "5      ;       // OPTIMIZE [0.2, 0.8]  \n",
       "6           ; // OPTIMIZE LOG [1, 20]  \n",
       "7  ;      // OPTIMIZE LOG [0.01, 0.9]  \n",
       "8           ; // OPTIMIZE LOG [4, 99]  \n",
       "9  ;     // OPTIMIZE LOG [0.001, 0.9]  "
      ]
     },
     "metadata": {},
     "output_type": "display_data"
    }
   ],
   "source": [
    "# ここでエラー出力は何かおかしいかもしれない\n",
    "\n",
    "\n",
    "# パラメータ抽出\n",
    "with open(FILENAME) as f:\n",
    "    answer = f.read()\n",
    "\n",
    "\n",
    "variables_optimize = []\n",
    "\n",
    "for left, value, right, options in re.findall(r\"^([^/\\n]*=\\s*)(.+?)(\\s*;\\s*//(?:.*\\W)?OPTIMIZE(\\W.*))$\", answer, re.MULTILINE):\n",
    "    name = left.replace(\"=\", \"\").strip().split()[-1]\n",
    "    \n",
    "    searched = re.search(r\".*\\[(?P<min>.*),(?P<max>.*)\\].*\", options)\n",
    "    if searched:\n",
    "        min_value = max_value = None\n",
    "        try:\n",
    "            min_value = eval(searched.group(\"min\"))\n",
    "            max_value = eval(searched.group(\"max\"))\n",
    "            assert min_value <= max_value\n",
    "        except Exception as e:\n",
    "            print(f\"searched={searched}\", file=sys.stderr)\n",
    "            print(e, file=sys.stderr)\n",
    "            continue\n",
    "        log = \"LOG\" in options  # 雑、直したほうが良い\n",
    "        if type(min_value) != type(max_value):\n",
    "            print(f\"searched={searched}\", file=sys.stderr)\n",
    "            print(\"types not matched\", file=sys.stderr)\n",
    "            continue\n",
    "        if isinstance(min_value, int):\n",
    "            method = \"suggest_int\"\n",
    "        elif isinstance(min_value, float):\n",
    "            method = \"suggest_float\"\n",
    "        else:\n",
    "            print(f\"searched={searched}\", file=sys.stderr)\n",
    "            print(f\"unknown type ({type(min_value)})\", file=sys.stderr)\n",
    "            continue\n",
    "        variables_optimize.append({\n",
    "            \"name\": name,\n",
    "            \"method\": method,\n",
    "            \"min\": min_value,\n",
    "            \"max\": max_value,\n",
    "            \"log\": log,\n",
    "            \"left\": left,\n",
    "            \"right\": right,\n",
    "        })\n",
    "    elif searched := re.search(r\".*\\{(?P<choices>.*?)\\}.*\", options):\n",
    "        choices = list(map(lambda x: x.strip(), searched.group(\"choices\").split(\",\")))\n",
    "        variables_optimize.append({\n",
    "            \"name\": name,\n",
    "            \"method\": \"suggest_categorical\",\n",
    "            \"choices\": choices,\n",
    "            \"left\": left,\n",
    "            \"right\": right,\n",
    "        })\n",
    "    else:\n",
    "        print(f\"searched={searched}\", file=sys.stderr)\n",
    "        print(f\"pattern was matched but options are incorrect.\", file=sys.stderr)\n",
    "\n",
    "print(len(variables_optimize), \"variables were found.\")\n",
    "if globals().get(\"pd\"):\n",
    "    display(pd.DataFrame(variables_optimize))\n",
    "else:\n",
    "    pprint(variables_optimize)"
   ]
  },
  {
   "cell_type": "code",
   "execution_count": 3,
   "id": "001042b9",
   "metadata": {},
   "outputs": [],
   "source": [
    "def escape(string):  # 正規表現の中でそのまま使いたい文字列をエスケープ\n",
    "    res = !echo '{string}' | sed -e 's/[]\\/$*.^[]/\\\\&/g'\n",
    "    return res[0]\n",
    "\n",
    "def escape_sed(string):  # sed の置換後の文字列用のエスケープ\n",
    "    res = !echo '{string}' | sed -e 's/[\\/&]/\\\\&/g'\n",
    "    return res[0]\n",
    "\n",
    "def read_stream(name, in_file, out_file):\n",
    "    for line in in_file:\n",
    "        print(f\"[{name}] {line.strip()}\", file=out_file)\n",
    "\n",
    "def run(cmd, name):\n",
    "    proc = Popen(cmd, stdout=PIPE, stderr=PIPE, universal_newlines=True, shell=isinstance(cmd, str))\n",
    "    stdout_thread = Thread(target=read_stream, args=(name, proc.stdout, sys.stdout))\n",
    "    stderr_thread = Thread(target=read_stream, args=(name, proc.stderr, sys.stderr))\n",
    "    stdout_thread.start()\n",
    "    stderr_thread.start()\n",
    "    proc.wait()\n",
    "    return proc\n",
    "\n",
    "def objective(trial, in_dir, work_dir):\n",
    "    n_internal_parallel = 3\n",
    "    \n",
    "    index_parallel = f\"{trial.number:04d}\"\n",
    "    print(f\"{index_parallel=}\")\n",
    "    \n",
    "    work_dir = Path(work_dir)\n",
    "    directory_input = Path(in_dir)  # 中のすべてのファイルに対して実行される\n",
    "    #parameters_changed_filename = Path(gettempdir()) / str(uuid1())\n",
    "    parameters_changed_filename = work_dir / f\"{index_parallel}_{FILENAME}\"\n",
    "    \n",
    "    run([\"mkdir\", f\"{work_dir / index_parallel}_out\"], \"mkdir\")\n",
    "    run([\"mkdir\", f\"{work_dir / index_parallel}_score\"], \"mkdir\")\n",
    "    \n",
    "    # ファイル作成\n",
    "    run(f\"cp {FILENAME} {parameters_changed_filename}\", \"cp\")\n",
    "    sed_options = [f\"-i {parameters_changed_filename}\"]\n",
    "    for variable in variables_optimize:\n",
    "        if variable[\"method\"] == \"suggest_categorical\":\n",
    "            val =  trial.suggest_categorical(variable[\"name\"], variable[\"choices\"])\n",
    "        else:\n",
    "            val = getattr(trial, variable[\"method\"])(variable[\"name\"], variable[\"min\"], variable[\"max\"], log=variable[\"log\"])\n",
    "        left = variable[\"left\"]\n",
    "        right = variable[\"right\"]\n",
    "        sed_options.append(f\"\"\"-e 's/^{escape(left)}.*{escape(right)}$/{escape_sed(left)}{val}{escape_sed(right)}/'\"\"\")\n",
    "    command_sed = f\"sed {' '.join(sed_options)}\"\n",
    "    #print(command_sed)\n",
    "    run(command_sed, \"sed\")\n",
    "    \n",
    "    # コンパイル\n",
    "    command_compile = f\"g++ {parameters_changed_filename} -std=gnu++17 -O2 -DONLINE_JUDGE -o {parameters_changed_filename}.out\"\n",
    "    #print(command_compile)\n",
    "    run(command_compile, \"compile\")\n",
    "    # 実行・採点コマンド (@ はファイル名)\n",
    "    command_exec = (\n",
    "        #f\"./a.out < ./tools/in/{i:04d}.txt > {out_file} && ./tools/target/release/vis ./tools/in/{i:04d}.txt {out_file}\"\n",
    "        #f\"../tools/target/release/tester $(pwd)/{parameters_changed_filename}.out < {directory_input}/@ 2>&1 | grep Score\"\n",
    "        #f\"../tools/target/release/tester $(pwd)/{parameters_changed_filename}.out < {directory_input}/@ 2>&1 | grep Score | sed -E s/[^0-9]+// > ./{index_parallel}_score/@;\"\n",
    "        #f\"cargo run --release --manifest-path ../tools/Cargo.toml --bin tester {directory_input}/@ $(pwd)/{parameters_changed_filename}.out 2>&1 | grep Score | sed -E s/[^0-9]+// > ./{index_parallel}_score/@;\"\n",
    "        f\"./{parameters_changed_filename}.out < {directory_input}/@ > {work_dir / index_parallel}_out/@;\"\n",
    "        f\"../tools/target/release/vis {directory_input}/@ {work_dir / index_parallel}_out/@ 2> /dev/null > {work_dir / index_parallel}_score/@;\"\n",
    "    )\n",
    "    # 並列実行 (sed はパスのディレクトリ部分を消してファイル名にしてる)\n",
    "    run(f\"find {directory_input}/* | sed 's!^.*/!!' | xargs -I@ -P {n_internal_parallel} sh -c '{command_exec}'\", \"exec\")\n",
    "    \n",
    "    # 集計\n",
    "    scores = []\n",
    "    for file_path in Path(f\"{work_dir / index_parallel}_score/\").iterdir():  \n",
    "        with open(file_path) as f:\n",
    "            scores.append(int(f.readline().strip().split()[-1]))\n",
    "    mean_score = sum(scores) / len(scores)\n",
    "    \n",
    "    # 後始末\n",
    "    run(f\"rm -rf {work_dir / index_parallel}_out\", \"rm\")\n",
    "    run(f\"rm -rf {work_dir / index_parallel}_score\", \"rm\")\n",
    "    #run(f\"rm {parameters_changed_filename}\", \"rm\")\n",
    "    run(f\"rm {parameters_changed_filename}.out\", \"rm\")\n",
    "    \n",
    "    return mean_score"
   ]
  },
  {
   "cell_type": "code",
   "execution_count": 4,
   "id": "2d2e133c",
   "metadata": {},
   "outputs": [
    {
     "name": "stderr",
     "output_type": "stream",
     "text": [
      "\u001b[32m[I 2022-08-16 05:00:50,833]\u001b[0m Using an existing study with name 'study_5_1' instead of creating a new one.\u001b[0m\n"
     ]
    }
   ],
   "source": [
    "K = 5\n",
    "N_CLASS = 1\n",
    "\n",
    "in_dir = Path(f\"in_{K}_{N_CLASS}\")\n",
    "work_dir = Path(f\"work_{K}_{N_CLASS}\")\n",
    "\n",
    "study_name = f\"study_{K}_{N_CLASS}\"\n",
    "storage_path = work_dir / \"study.db\"\n",
    "storage = f\"sqlite:///{storage_path}\"\n",
    "study = optuna.create_study(storage=storage, load_if_exists=True, study_name=study_name, direction=\"maximize\")\n",
    "\n",
    "def callback(study, trial):\n",
    "    try:\n",
    "        index_parallel = f\"{trial.number:04d}\"\n",
    "        parameters_changed_filename = work_dir / f\"{index_parallel}_{FILENAME}\"\n",
    "        if study.best_value == trial.value:\n",
    "            print(f\"Updated! {study.best_value}\")\n",
    "            !cp {parameters_changed_filename} {work_dir / \"best_parameters.cpp\"}\n",
    "        !rm {parameters_changed_filename}\n",
    "    except:\n",
    "        print(\":(\")\n"
   ]
  },
  {
   "cell_type": "code",
   "execution_count": null,
   "id": "61c2901d",
   "metadata": {},
   "outputs": [
    {
     "name": "stdout",
     "output_type": "stream",
     "text": [
      "index_parallel='0237'\n"
     ]
    },
    {
     "name": "stderr",
     "output_type": "stream",
     "text": [
      "\u001b[32m[I 2022-08-16 08:52:42,044]\u001b[0m Trial 237 finished with value: 7837.082051282051 and parameters: {'kErase': 1, 'kRadius': 4, 'kAnnealingA': 4.647084064252471, 'kAnnealingB': 2.6855940698114034, 'kAnnealingStart': 24.49590757150302, 'kSkipRatio': 0.39957142552975905, 'kTargetDeterminationTrials': 6, 'kAttractionRatio': 0.4207523289083032, 'kMaxAttractionDistance': 17, 'kStartAttraction': 0.018359126860238148}. Best is trial 45 with value: 7914.523076923077.\u001b[0m\n"
     ]
    },
    {
     "name": "stdout",
     "output_type": "stream",
     "text": [
      "index_parallel='0239'\n"
     ]
    },
    {
     "name": "stderr",
     "output_type": "stream",
     "text": [
      "\u001b[32m[I 2022-08-16 08:56:28,363]\u001b[0m Trial 239 finished with value: 7587.876923076923 and parameters: {'kErase': 1, 'kRadius': 4, 'kAnnealingA': 5.148627030365472, 'kAnnealingB': 2.987977868528393, 'kAnnealingStart': 32.743999860550794, 'kSkipRatio': 0.39258956242163107, 'kTargetDeterminationTrials': 6, 'kAttractionRatio': 0.400545467271149, 'kMaxAttractionDistance': 17, 'kStartAttraction': 0.018707058093909063}. Best is trial 45 with value: 7914.523076923077.\u001b[0m\n"
     ]
    },
    {
     "name": "stdout",
     "output_type": "stream",
     "text": [
      "index_parallel='0241'\n"
     ]
    },
    {
     "name": "stderr",
     "output_type": "stream",
     "text": [
      "\u001b[32m[I 2022-08-16 09:00:14,951]\u001b[0m Trial 241 finished with value: 7710.041025641026 and parameters: {'kErase': 1, 'kRadius': 4, 'kAnnealingA': 4.737525153614811, 'kAnnealingB': 2.684966460386854, 'kAnnealingStart': 25.613856350157995, 'kSkipRatio': 0.40110336395761914, 'kTargetDeterminationTrials': 6, 'kAttractionRatio': 0.43008674900820254, 'kMaxAttractionDistance': 16, 'kStartAttraction': 0.014033461881223178}. Best is trial 45 with value: 7914.523076923077.\u001b[0m\n"
     ]
    },
    {
     "name": "stdout",
     "output_type": "stream",
     "text": [
      "index_parallel='0243'\n"
     ]
    },
    {
     "name": "stderr",
     "output_type": "stream",
     "text": [
      "\u001b[32m[I 2022-08-16 09:04:01,293]\u001b[0m Trial 243 finished with value: 7759.964102564102 and parameters: {'kErase': 1, 'kRadius': 4, 'kAnnealingA': 4.483486632632962, 'kAnnealingB': 2.661057832846094, 'kAnnealingStart': 24.28833409848792, 'kSkipRatio': 0.4037581829511337, 'kTargetDeterminationTrials': 6, 'kAttractionRatio': 0.3700972597988429, 'kMaxAttractionDistance': 16, 'kStartAttraction': 0.01612670350062511}. Best is trial 45 with value: 7914.523076923077.\u001b[0m\n"
     ]
    },
    {
     "name": "stdout",
     "output_type": "stream",
     "text": [
      "index_parallel='0245'\n"
     ]
    },
    {
     "name": "stderr",
     "output_type": "stream",
     "text": [
      "\u001b[32m[I 2022-08-16 09:07:47,314]\u001b[0m Trial 245 finished with value: 7737.123076923077 and parameters: {'kErase': 1, 'kRadius': 4, 'kAnnealingA': 5.714241947912914, 'kAnnealingB': 2.7910088211804163, 'kAnnealingStart': 28.711712078877827, 'kSkipRatio': 0.36066167228077817, 'kTargetDeterminationTrials': 8, 'kAttractionRatio': 0.4486736538981891, 'kMaxAttractionDistance': 18, 'kStartAttraction': 0.020076518385581037}. Best is trial 45 with value: 7914.523076923077.\u001b[0m\n"
     ]
    },
    {
     "name": "stdout",
     "output_type": "stream",
     "text": [
      "index_parallel='0247'\n"
     ]
    },
    {
     "name": "stderr",
     "output_type": "stream",
     "text": [
      "\u001b[32m[I 2022-08-16 09:11:33,213]\u001b[0m Trial 247 finished with value: 7711.969230769231 and parameters: {'kErase': 1, 'kRadius': 4, 'kAnnealingA': 3.588578606975389, 'kAnnealingB': 2.843694082777459, 'kAnnealingStart': 22.342477162253243, 'kSkipRatio': 0.3896546808143563, 'kTargetDeterminationTrials': 7, 'kAttractionRatio': 0.43098374203709017, 'kMaxAttractionDistance': 14, 'kStartAttraction': 0.009462867190939887}. Best is trial 45 with value: 7914.523076923077.\u001b[0m\n"
     ]
    },
    {
     "name": "stdout",
     "output_type": "stream",
     "text": [
      "index_parallel='0249'\n"
     ]
    },
    {
     "name": "stderr",
     "output_type": "stream",
     "text": [
      "\u001b[32m[I 2022-08-16 09:15:19,384]\u001b[0m Trial 249 finished with value: 7817.184615384615 and parameters: {'kErase': 1, 'kRadius': 4, 'kAnnealingA': 4.635141863675173, 'kAnnealingB': 2.69917810341078, 'kAnnealingStart': 23.91588329799626, 'kSkipRatio': 0.383619573536531, 'kTargetDeterminationTrials': 5, 'kAttractionRatio': 0.5065998584548818, 'kMaxAttractionDistance': 15, 'kStartAttraction': 0.027098389543261305}. Best is trial 45 with value: 7914.523076923077.\u001b[0m\n"
     ]
    },
    {
     "name": "stdout",
     "output_type": "stream",
     "text": [
      "index_parallel='0251'\n"
     ]
    },
    {
     "name": "stderr",
     "output_type": "stream",
     "text": [
      "\u001b[32m[I 2022-08-16 09:19:05,432]\u001b[0m Trial 251 finished with value: 7809.51282051282 and parameters: {'kErase': 1, 'kRadius': 4, 'kAnnealingA': 4.784249860847989, 'kAnnealingB': 2.683950916543268, 'kAnnealingStart': 26.48899912999338, 'kSkipRatio': 0.4251413816759384, 'kTargetDeterminationTrials': 5, 'kAttractionRatio': 0.39536759202681937, 'kMaxAttractionDistance': 15, 'kStartAttraction': 0.012699410842599592}. Best is trial 45 with value: 7914.523076923077.\u001b[0m\n"
     ]
    },
    {
     "name": "stdout",
     "output_type": "stream",
     "text": [
      "index_parallel='0253'\n"
     ]
    },
    {
     "name": "stderr",
     "output_type": "stream",
     "text": [
      "\u001b[32m[I 2022-08-16 09:22:51,332]\u001b[0m Trial 253 finished with value: 7734.523076923077 and parameters: {'kErase': 1, 'kRadius': 4, 'kAnnealingA': 5.036870767889638, 'kAnnealingB': 2.6711141398945593, 'kAnnealingStart': 28.434667768196128, 'kSkipRatio': 0.4431266350193867, 'kTargetDeterminationTrials': 4, 'kAttractionRatio': 0.3491206964191422, 'kMaxAttractionDistance': 13, 'kStartAttraction': 0.012603295957284712}. Best is trial 45 with value: 7914.523076923077.\u001b[0m\n"
     ]
    },
    {
     "name": "stdout",
     "output_type": "stream",
     "text": [
      "index_parallel='0255'\n"
     ]
    },
    {
     "name": "stderr",
     "output_type": "stream",
     "text": [
      "\u001b[32m[I 2022-08-16 09:26:37,220]\u001b[0m Trial 255 finished with value: 7648.9384615384615 and parameters: {'kErase': 1, 'kRadius': 4, 'kAnnealingA': 5.172546854995757, 'kAnnealingB': 2.6774539632103767, 'kAnnealingStart': 31.691346812891055, 'kSkipRatio': 0.42320902095893603, 'kTargetDeterminationTrials': 5, 'kAttractionRatio': 0.3364682980129531, 'kMaxAttractionDistance': 14, 'kStartAttraction': 0.02653560952581326}. Best is trial 45 with value: 7914.523076923077.\u001b[0m\n"
     ]
    },
    {
     "name": "stdout",
     "output_type": "stream",
     "text": [
      "index_parallel='0257'\n"
     ]
    },
    {
     "name": "stderr",
     "output_type": "stream",
     "text": [
      "\u001b[32m[I 2022-08-16 09:30:23,131]\u001b[0m Trial 257 finished with value: 7834.682051282051 and parameters: {'kErase': 1, 'kRadius': 4, 'kAnnealingA': 5.972614647847821, 'kAnnealingB': 2.601868557465704, 'kAnnealingStart': 25.36581519697827, 'kSkipRatio': 0.3824589124156033, 'kTargetDeterminationTrials': 9, 'kAttractionRatio': 0.4011190625865818, 'kMaxAttractionDistance': 14, 'kStartAttraction': 0.015153485472546814}. Best is trial 45 with value: 7914.523076923077.\u001b[0m\n"
     ]
    },
    {
     "name": "stdout",
     "output_type": "stream",
     "text": [
      "index_parallel='0259'\n"
     ]
    },
    {
     "name": "stderr",
     "output_type": "stream",
     "text": [
      "\u001b[32m[I 2022-08-16 09:34:09,446]\u001b[0m Trial 259 finished with value: 7746.384615384615 and parameters: {'kErase': 1, 'kRadius': 4, 'kAnnealingA': 4.702323061884885, 'kAnnealingB': 2.6125146519268254, 'kAnnealingStart': 25.59211122151957, 'kSkipRatio': 0.3265335136673763, 'kTargetDeterminationTrials': 9, 'kAttractionRatio': 0.4001138170476868, 'kMaxAttractionDistance': 14, 'kStartAttraction': 0.016873313901861357}. Best is trial 45 with value: 7914.523076923077.\u001b[0m\n"
     ]
    },
    {
     "name": "stdout",
     "output_type": "stream",
     "text": [
      "index_parallel='0261'\n"
     ]
    },
    {
     "name": "stderr",
     "output_type": "stream",
     "text": [
      "\u001b[32m[I 2022-08-16 09:37:55,339]\u001b[0m Trial 261 finished with value: 7868.728205128205 and parameters: {'kErase': 1, 'kRadius': 4, 'kAnnealingA': 5.728110327705889, 'kAnnealingB': 2.7870428568958205, 'kAnnealingStart': 22.132692667763912, 'kSkipRatio': 0.3840293008976797, 'kTargetDeterminationTrials': 8, 'kAttractionRatio': 0.3828335365373551, 'kMaxAttractionDistance': 15, 'kStartAttraction': 0.00972691928117525}. Best is trial 45 with value: 7914.523076923077.\u001b[0m\n"
     ]
    },
    {
     "name": "stdout",
     "output_type": "stream",
     "text": [
      "index_parallel='0263'\n"
     ]
    },
    {
     "name": "stderr",
     "output_type": "stream",
     "text": [
      "\u001b[32m[I 2022-08-16 09:41:41,130]\u001b[0m Trial 263 finished with value: 7749.030769230769 and parameters: {'kErase': 1, 'kRadius': 4, 'kAnnealingA': 6.514183990183083, 'kAnnealingB': 2.7940276528661996, 'kAnnealingStart': 20.003542015452204, 'kSkipRatio': 0.40144982063874163, 'kTargetDeterminationTrials': 7, 'kAttractionRatio': 0.382482767253207, 'kMaxAttractionDistance': 16, 'kStartAttraction': 0.009153701185245734}. Best is trial 45 with value: 7914.523076923077.\u001b[0m\n"
     ]
    },
    {
     "name": "stdout",
     "output_type": "stream",
     "text": [
      "index_parallel='0265'\n"
     ]
    },
    {
     "name": "stderr",
     "output_type": "stream",
     "text": [
      "\u001b[32m[I 2022-08-16 09:45:27,377]\u001b[0m Trial 265 finished with value: 7811.410256410257 and parameters: {'kErase': 1, 'kRadius': 4, 'kAnnealingA': 6.132840002527325, 'kAnnealingB': 2.7924313724915693, 'kAnnealingStart': 21.950904501162356, 'kSkipRatio': 0.4151893132543804, 'kTargetDeterminationTrials': 8, 'kAttractionRatio': 0.36676989914990366, 'kMaxAttractionDistance': 15, 'kStartAttraction': 0.006579754172276753}. Best is trial 45 with value: 7914.523076923077.\u001b[0m\n"
     ]
    },
    {
     "name": "stdout",
     "output_type": "stream",
     "text": [
      "index_parallel='0267'\n"
     ]
    },
    {
     "name": "stderr",
     "output_type": "stream",
     "text": [
      "\u001b[32m[I 2022-08-16 09:49:13,891]\u001b[0m Trial 267 finished with value: 7710.082051282051 and parameters: {'kErase': 1, 'kRadius': 4, 'kAnnealingA': 5.938517138005498, 'kAnnealingB': 2.8296949006386156, 'kAnnealingStart': 22.43483937796362, 'kSkipRatio': 0.4401512971405923, 'kTargetDeterminationTrials': 7, 'kAttractionRatio': 0.27137019269985757, 'kMaxAttractionDistance': 13, 'kStartAttraction': 0.006887964321431116}. Best is trial 45 with value: 7914.523076923077.\u001b[0m\n"
     ]
    },
    {
     "name": "stdout",
     "output_type": "stream",
     "text": [
      "index_parallel='0269'\n"
     ]
    },
    {
     "name": "stderr",
     "output_type": "stream",
     "text": [
      "\u001b[32m[I 2022-08-16 09:53:00,179]\u001b[0m Trial 269 finished with value: 7818.374358974359 and parameters: {'kErase': 1, 'kRadius': 4, 'kAnnealingA': 5.674182289533701, 'kAnnealingB': 2.714105110589116, 'kAnnealingStart': 20.890282582298294, 'kSkipRatio': 0.4145323636814779, 'kTargetDeterminationTrials': 8, 'kAttractionRatio': 0.30085538132120637, 'kMaxAttractionDistance': 14, 'kStartAttraction': 0.008586508535621123}. Best is trial 45 with value: 7914.523076923077.\u001b[0m\n"
     ]
    },
    {
     "name": "stdout",
     "output_type": "stream",
     "text": [
      "index_parallel='0271'\n"
     ]
    },
    {
     "name": "stderr",
     "output_type": "stream",
     "text": [
      "\u001b[32m[I 2022-08-16 09:56:46,432]\u001b[0m Trial 271 finished with value: 7726.220512820513 and parameters: {'kErase': 1, 'kRadius': 4, 'kAnnealingA': 7.156409122737115, 'kAnnealingB': 2.725753697404149, 'kAnnealingStart': 19.73446500653135, 'kSkipRatio': 0.41905131801626455, 'kTargetDeterminationTrials': 8, 'kAttractionRatio': 0.282282082711447, 'kMaxAttractionDistance': 11, 'kStartAttraction': 0.0058729534237934415}. Best is trial 45 with value: 7914.523076923077.\u001b[0m\n"
     ]
    },
    {
     "name": "stdout",
     "output_type": "stream",
     "text": [
      "index_parallel='0273'\n"
     ]
    },
    {
     "name": "stderr",
     "output_type": "stream",
     "text": [
      "\u001b[32m[I 2022-08-16 10:00:32,709]\u001b[0m Trial 273 finished with value: 7845.933333333333 and parameters: {'kErase': 1, 'kRadius': 4, 'kAnnealingA': 6.24734988786692, 'kAnnealingB': 2.743370005946747, 'kAnnealingStart': 21.295204638200243, 'kSkipRatio': 0.45552944977963644, 'kTargetDeterminationTrials': 9, 'kAttractionRatio': 0.3034523499634709, 'kMaxAttractionDistance': 14, 'kStartAttraction': 0.006965698253186178}. Best is trial 45 with value: 7914.523076923077.\u001b[0m\n"
     ]
    },
    {
     "name": "stdout",
     "output_type": "stream",
     "text": [
      "index_parallel='0275'\n"
     ]
    },
    {
     "name": "stderr",
     "output_type": "stream",
     "text": [
      "\u001b[32m[I 2022-08-16 10:04:18,757]\u001b[0m Trial 275 finished with value: 7732.871794871795 and parameters: {'kErase': 1, 'kRadius': 4, 'kAnnealingA': 6.668248456455463, 'kAnnealingB': 2.7597245958530117, 'kAnnealingStart': 21.574479178587048, 'kSkipRatio': 0.3802740523936502, 'kTargetDeterminationTrials': 9, 'kAttractionRatio': 0.3164861607714727, 'kMaxAttractionDistance': 12, 'kStartAttraction': 0.008469497168613681}. Best is trial 45 with value: 7914.523076923077.\u001b[0m\n"
     ]
    },
    {
     "name": "stdout",
     "output_type": "stream",
     "text": [
      "index_parallel='0277'\n"
     ]
    },
    {
     "name": "stderr",
     "output_type": "stream",
     "text": [
      "\u001b[32m[I 2022-08-16 10:08:05,025]\u001b[0m Trial 277 finished with value: 7758.307692307692 and parameters: {'kErase': 1, 'kRadius': 4, 'kAnnealingA': 6.210578776674428, 'kAnnealingB': 2.855496537111431, 'kAnnealingStart': 19.20773164868934, 'kSkipRatio': 0.45246907483304144, 'kTargetDeterminationTrials': 8, 'kAttractionRatio': 0.26166285750274726, 'kMaxAttractionDistance': 12, 'kStartAttraction': 0.004705495015743945}. Best is trial 45 with value: 7914.523076923077.\u001b[0m\n"
     ]
    },
    {
     "name": "stdout",
     "output_type": "stream",
     "text": [
      "index_parallel='0279'\n"
     ]
    },
    {
     "name": "stderr",
     "output_type": "stream",
     "text": [
      "\u001b[32m[I 2022-08-16 10:11:51,323]\u001b[0m Trial 279 finished with value: 7712.851282051282 and parameters: {'kErase': 1, 'kRadius': 4, 'kAnnealingA': 7.464875616847834, 'kAnnealingB': 2.715882313689178, 'kAnnealingStart': 17.34033555237435, 'kSkipRatio': 0.42772329977939727, 'kTargetDeterminationTrials': 7, 'kAttractionRatio': 0.3590436612186246, 'kMaxAttractionDistance': 14, 'kStartAttraction': 0.007928208146139714}. Best is trial 45 with value: 7914.523076923077.\u001b[0m\n"
     ]
    },
    {
     "name": "stdout",
     "output_type": "stream",
     "text": [
      "index_parallel='0281'\n"
     ]
    },
    {
     "name": "stderr",
     "output_type": "stream",
     "text": [
      "\u001b[32m[I 2022-08-16 10:15:37,368]\u001b[0m Trial 281 finished with value: 7730.846153846154 and parameters: {'kErase': 1, 'kRadius': 4, 'kAnnealingA': 5.626097277237369, 'kAnnealingB': 2.5900393267148822, 'kAnnealingStart': 22.689733127265647, 'kSkipRatio': 0.40886194301251894, 'kTargetDeterminationTrials': 8, 'kAttractionRatio': 0.3222677756474709, 'kMaxAttractionDistance': 13, 'kStartAttraction': 0.006265696312264469}. Best is trial 45 with value: 7914.523076923077.\u001b[0m\n"
     ]
    },
    {
     "name": "stdout",
     "output_type": "stream",
     "text": [
      "index_parallel='0283'\n"
     ]
    },
    {
     "name": "stderr",
     "output_type": "stream",
     "text": [
      "\u001b[32m[I 2022-08-16 10:19:23,524]\u001b[0m Trial 283 finished with value: 7661.6461538461535 and parameters: {'kErase': 1, 'kRadius': 4, 'kAnnealingA': 5.431437772888126, 'kAnnealingB': 1.482601850625634, 'kAnnealingStart': 19.638928820421683, 'kSkipRatio': 0.4325314980701235, 'kTargetDeterminationTrials': 7, 'kAttractionRatio': 0.22392877672023506, 'kMaxAttractionDistance': 15, 'kStartAttraction': 0.007011394114178698}. Best is trial 45 with value: 7914.523076923077.\u001b[0m\n"
     ]
    },
    {
     "name": "stdout",
     "output_type": "stream",
     "text": [
      "index_parallel='0285'\n"
     ]
    },
    {
     "name": "stderr",
     "output_type": "stream",
     "text": [
      "\u001b[32m[I 2022-08-16 10:23:10,035]\u001b[0m Trial 285 finished with value: 7539.5179487179485 and parameters: {'kErase': 1, 'kRadius': 4, 'kAnnealingA': 6.6219215760072885, 'kAnnealingB': 2.7209830059110987, 'kAnnealingStart': 9.767996459912487, 'kSkipRatio': 0.3909028174715675, 'kTargetDeterminationTrials': 7, 'kAttractionRatio': 0.3753943989851393, 'kMaxAttractionDistance': 15, 'kStartAttraction': 0.011099522372259764}. Best is trial 45 with value: 7914.523076923077.\u001b[0m\n"
     ]
    },
    {
     "name": "stdout",
     "output_type": "stream",
     "text": [
      "index_parallel='0287'\n"
     ]
    },
    {
     "name": "stderr",
     "output_type": "stream",
     "text": [
      "\u001b[32m[I 2022-08-16 10:26:56,895]\u001b[0m Trial 287 finished with value: 5863.702564102564 and parameters: {'kErase': 5, 'kRadius': 4, 'kAnnealingA': 6.011970367563274, 'kAnnealingB': 2.710839909170031, 'kAnnealingStart': 23.322939010327133, 'kSkipRatio': 0.4144674143308954, 'kTargetDeterminationTrials': 9, 'kAttractionRatio': 0.39046799976096963, 'kMaxAttractionDistance': 14, 'kStartAttraction': 0.013564308992171661}. Best is trial 45 with value: 7914.523076923077.\u001b[0m\n"
     ]
    },
    {
     "name": "stdout",
     "output_type": "stream",
     "text": [
      "index_parallel='0289'\n"
     ]
    },
    {
     "name": "stderr",
     "output_type": "stream",
     "text": [
      "\u001b[32m[I 2022-08-16 10:30:42,975]\u001b[0m Trial 289 finished with value: 7818.825641025641 and parameters: {'kErase': 1, 'kRadius': 4, 'kAnnealingA': 7.1875018869563405, 'kAnnealingB': 2.7801347306603086, 'kAnnealingStart': 21.66852705673353, 'kSkipRatio': 0.4038864825238958, 'kTargetDeterminationTrials': 8, 'kAttractionRatio': 0.36065781430277766, 'kMaxAttractionDistance': 16, 'kStartAttraction': 0.009756422135769048}. Best is trial 45 with value: 7914.523076923077.\u001b[0m\n"
     ]
    },
    {
     "name": "stdout",
     "output_type": "stream",
     "text": [
      "index_parallel='0291'\n"
     ]
    },
    {
     "name": "stderr",
     "output_type": "stream",
     "text": [
      "\u001b[32m[I 2022-08-16 10:34:29,657]\u001b[0m Trial 291 finished with value: 7859.6871794871795 and parameters: {'kErase': 1, 'kRadius': 4, 'kAnnealingA': 7.376680344694895, 'kAnnealingB': 2.5946414792318993, 'kAnnealingStart': 20.741731834116045, 'kSkipRatio': 0.40351941388772566, 'kTargetDeterminationTrials': 7, 'kAttractionRatio': 0.3391107028518961, 'kMaxAttractionDistance': 16, 'kStartAttraction': 0.009692807929789615}. Best is trial 45 with value: 7914.523076923077.\u001b[0m\n"
     ]
    },
    {
     "name": "stdout",
     "output_type": "stream",
     "text": [
      "index_parallel='0293'\n"
     ]
    },
    {
     "name": "stderr",
     "output_type": "stream",
     "text": [
      "\u001b[32m[I 2022-08-16 10:38:15,785]\u001b[0m Trial 293 finished with value: 7768.615384615385 and parameters: {'kErase': 1, 'kRadius': 4, 'kAnnealingA': 7.0990845226483295, 'kAnnealingB': 2.583749972261109, 'kAnnealingStart': 18.419427605411943, 'kSkipRatio': 0.3610152951922522, 'kTargetDeterminationTrials': 7, 'kAttractionRatio': 0.3421388427622749, 'kMaxAttractionDistance': 16, 'kStartAttraction': 0.00969262068912199}. Best is trial 45 with value: 7914.523076923077.\u001b[0m\n"
     ]
    },
    {
     "name": "stdout",
     "output_type": "stream",
     "text": [
      "index_parallel='0295'\n"
     ]
    },
    {
     "name": "stderr",
     "output_type": "stream",
     "text": [
      "\u001b[32m[I 2022-08-16 10:42:02,159]\u001b[0m Trial 295 finished with value: 7425.4820512820515 and parameters: {'kErase': 2, 'kRadius': 4, 'kAnnealingA': 6.386557324889453, 'kAnnealingB': 2.6226883679371515, 'kAnnealingStart': 20.697482180330812, 'kSkipRatio': 0.39521852822193343, 'kTargetDeterminationTrials': 8, 'kAttractionRatio': 0.36949888736969994, 'kMaxAttractionDistance': 17, 'kStartAttraction': 0.011468545754916452}. Best is trial 45 with value: 7914.523076923077.\u001b[0m\n"
     ]
    },
    {
     "name": "stdout",
     "output_type": "stream",
     "text": [
      "index_parallel='0297'\n"
     ]
    },
    {
     "name": "stderr",
     "output_type": "stream",
     "text": [
      "\u001b[32m[I 2022-08-16 10:45:48,049]\u001b[0m Trial 297 finished with value: 7638.6051282051285 and parameters: {'kErase': 1, 'kRadius': 4, 'kAnnealingA': 8.162469984382438, 'kAnnealingB': 2.765389218533398, 'kAnnealingStart': 24.37821672947499, 'kSkipRatio': 0.3817583100420968, 'kTargetDeterminationTrials': 7, 'kAttractionRatio': 0.29225017923484026, 'kMaxAttractionDistance': 15, 'kStartAttraction': 0.011747266579860366}. Best is trial 45 with value: 7914.523076923077.\u001b[0m\n"
     ]
    },
    {
     "name": "stdout",
     "output_type": "stream",
     "text": [
      "index_parallel='0299'\n"
     ]
    },
    {
     "name": "stderr",
     "output_type": "stream",
     "text": [
      "\u001b[32m[I 2022-08-16 10:49:34,353]\u001b[0m Trial 299 finished with value: 7774.030769230769 and parameters: {'kErase': 1, 'kRadius': 4, 'kAnnealingA': 5.63970213069907, 'kAnnealingB': 2.752001376973274, 'kAnnealingStart': 27.07956032636711, 'kSkipRatio': 0.4378188698005146, 'kTargetDeterminationTrials': 2, 'kAttractionRatio': 0.39798441956664626, 'kMaxAttractionDistance': 14, 'kStartAttraction': 0.008032396821755602}. Best is trial 45 with value: 7914.523076923077.\u001b[0m\n"
     ]
    },
    {
     "name": "stdout",
     "output_type": "stream",
     "text": [
      "index_parallel='0301'\n"
     ]
    },
    {
     "name": "stderr",
     "output_type": "stream",
     "text": [
      "\u001b[32m[I 2022-08-16 10:53:20,906]\u001b[0m Trial 301 finished with value: 7830.51282051282 and parameters: {'kErase': 1, 'kRadius': 4, 'kAnnealingA': 4.97168113068398, 'kAnnealingB': 2.6323809020384723, 'kAnnealingStart': 22.876722464992955, 'kSkipRatio': 0.3715661694423213, 'kTargetDeterminationTrials': 7, 'kAttractionRatio': 0.4241433487835835, 'kMaxAttractionDistance': 16, 'kStartAttraction': 0.014156528862211417}. Best is trial 45 with value: 7914.523076923077.\u001b[0m\n"
     ]
    },
    {
     "name": "stdout",
     "output_type": "stream",
     "text": [
      "index_parallel='0303'\n"
     ]
    },
    {
     "name": "stderr",
     "output_type": "stream",
     "text": [
      "\u001b[32m[I 2022-08-16 10:57:07,294]\u001b[0m Trial 303 finished with value: 6231.446153846154 and parameters: {'kErase': 4, 'kRadius': 4, 'kAnnealingA': 10.406516391957041, 'kAnnealingB': 2.520665822716097, 'kAnnealingStart': 22.383672040572, 'kSkipRatio': 0.37607863060349134, 'kTargetDeterminationTrials': 8, 'kAttractionRatio': 0.33812781765364514, 'kMaxAttractionDistance': 16, 'kStartAttraction': 0.009760478430974932}. Best is trial 45 with value: 7914.523076923077.\u001b[0m\n"
     ]
    },
    {
     "name": "stdout",
     "output_type": "stream",
     "text": [
      "index_parallel='0305'\n"
     ]
    },
    {
     "name": "stderr",
     "output_type": "stream",
     "text": [
      "\u001b[32m[I 2022-08-16 11:00:53,231]\u001b[0m Trial 305 finished with value: 7670.635897435897 and parameters: {'kErase': 1, 'kRadius': 4, 'kAnnealingA': 7.8902721224686605, 'kAnnealingB': 2.60929681891112, 'kAnnealingStart': 30.107811704210544, 'kSkipRatio': 0.3418191163844442, 'kTargetDeterminationTrials': 7, 'kAttractionRatio': 0.41819067330055, 'kMaxAttractionDistance': 15, 'kStartAttraction': 0.014038557534330748}. Best is trial 45 with value: 7914.523076923077.\u001b[0m\n"
     ]
    },
    {
     "name": "stdout",
     "output_type": "stream",
     "text": [
      "index_parallel='0307'\n"
     ]
    },
    {
     "name": "stderr",
     "output_type": "stream",
     "text": [
      "\u001b[32m[I 2022-08-16 11:04:39,222]\u001b[0m Trial 307 finished with value: 7838.046153846154 and parameters: {'kErase': 1, 'kRadius': 4, 'kAnnealingA': 6.770731107260769, 'kAnnealingB': 2.687419504968888, 'kAnnealingStart': 20.60830053580182, 'kSkipRatio': 0.40821869812856376, 'kTargetDeterminationTrials': 7, 'kAttractionRatio': 0.36728550106035834, 'kMaxAttractionDistance': 17, 'kStartAttraction': 0.012346163865876175}. Best is trial 45 with value: 7914.523076923077.\u001b[0m\n"
     ]
    },
    {
     "name": "stdout",
     "output_type": "stream",
     "text": [
      "index_parallel='0309'\n"
     ]
    },
    {
     "name": "stderr",
     "output_type": "stream",
     "text": [
      "\u001b[32m[I 2022-08-16 11:08:25,147]\u001b[0m Trial 309 finished with value: 7687.123076923077 and parameters: {'kErase': 1, 'kRadius': 4, 'kAnnealingA': 6.874369477735817, 'kAnnealingB': 2.5560830154696372, 'kAnnealingStart': 16.454369375917967, 'kSkipRatio': 0.40637133740668296, 'kTargetDeterminationTrials': 7, 'kAttractionRatio': 0.37920718405303255, 'kMaxAttractionDistance': 17, 'kStartAttraction': 0.012809417935615977}. Best is trial 45 with value: 7914.523076923077.\u001b[0m\n"
     ]
    },
    {
     "name": "stdout",
     "output_type": "stream",
     "text": [
      "index_parallel='0311'\n"
     ]
    },
    {
     "name": "stderr",
     "output_type": "stream",
     "text": [
      "\u001b[32m[I 2022-08-16 11:12:11,133]\u001b[0m Trial 311 finished with value: 7732.74358974359 and parameters: {'kErase': 1, 'kRadius': 4, 'kAnnealingA': 6.279453954498911, 'kAnnealingB': 2.6479384893538565, 'kAnnealingStart': 18.293469681524044, 'kSkipRatio': 0.421707478862324, 'kTargetDeterminationTrials': 7, 'kAttractionRatio': 0.3579903415619689, 'kMaxAttractionDistance': 17, 'kStartAttraction': 0.011468563578409852}. Best is trial 45 with value: 7914.523076923077.\u001b[0m\n"
     ]
    },
    {
     "name": "stdout",
     "output_type": "stream",
     "text": [
      "index_parallel='0313'\n"
     ]
    },
    {
     "name": "stderr",
     "output_type": "stream",
     "text": [
      "\u001b[32m[I 2022-08-16 11:15:57,177]\u001b[0m Trial 313 finished with value: 7781.005128205128 and parameters: {'kErase': 1, 'kRadius': 4, 'kAnnealingA': 7.179037537507292, 'kAnnealingB': 2.474699854983493, 'kAnnealingStart': 20.184557173673163, 'kSkipRatio': 0.3916490829187029, 'kTargetDeterminationTrials': 8, 'kAttractionRatio': 0.4165212547465044, 'kMaxAttractionDistance': 16, 'kStartAttraction': 0.015402762058762447}. Best is trial 45 with value: 7914.523076923077.\u001b[0m\n"
     ]
    },
    {
     "name": "stdout",
     "output_type": "stream",
     "text": [
      "index_parallel='0315'\n"
     ]
    },
    {
     "name": "stderr",
     "output_type": "stream",
     "text": [
      "\u001b[32m[I 2022-08-16 11:19:42,964]\u001b[0m Trial 315 finished with value: 7834.261538461538 and parameters: {'kErase': 1, 'kRadius': 4, 'kAnnealingA': 6.235849495497781, 'kAnnealingB': 2.7117031407356165, 'kAnnealingStart': 22.415760300828353, 'kSkipRatio': 0.3830059920435936, 'kTargetDeterminationTrials': 6, 'kAttractionRatio': 0.3481782113559955, 'kMaxAttractionDistance': 12, 'kStartAttraction': 0.012383216415161004}. Best is trial 45 with value: 7914.523076923077.\u001b[0m\n"
     ]
    },
    {
     "name": "stdout",
     "output_type": "stream",
     "text": [
      "index_parallel='0317'\n"
     ]
    },
    {
     "name": "stderr",
     "output_type": "stream",
     "text": [
      "\u001b[32m[I 2022-08-16 11:23:28,603]\u001b[0m Trial 317 finished with value: 7721.912820512821 and parameters: {'kErase': 1, 'kRadius': 4, 'kAnnealingA': 4.338710723673865, 'kAnnealingB': 2.59558980496069, 'kAnnealingStart': 28.01860231414712, 'kSkipRatio': 0.3495085705018801, 'kTargetDeterminationTrials': 6, 'kAttractionRatio': 0.5131592757996333, 'kMaxAttractionDistance': 12, 'kStartAttraction': 0.019548188046027582}. Best is trial 45 with value: 7914.523076923077.\u001b[0m\n"
     ]
    },
    {
     "name": "stdout",
     "output_type": "stream",
     "text": [
      "index_parallel='0319'\n"
     ]
    },
    {
     "name": "stderr",
     "output_type": "stream",
     "text": [
      "\u001b[32m[I 2022-08-16 11:27:14,568]\u001b[0m Trial 319 finished with value: 7662.9794871794875 and parameters: {'kErase': 1, 'kRadius': 4, 'kAnnealingA': 5.432433698324071, 'kAnnealingB': 2.6319158330486268, 'kAnnealingStart': 25.44671265869372, 'kSkipRatio': 0.36507856615195544, 'kTargetDeterminationTrials': 6, 'kAttractionRatio': 0.3424924841618921, 'kMaxAttractionDistance': 11, 'kStartAttraction': 0.012955855269507939}. Best is trial 45 with value: 7914.523076923077.\u001b[0m\n"
     ]
    },
    {
     "name": "stdout",
     "output_type": "stream",
     "text": [
      "index_parallel='0321'\n"
     ]
    },
    {
     "name": "stderr",
     "output_type": "stream",
     "text": [
      "\u001b[32m[I 2022-08-16 11:31:00,449]\u001b[0m Trial 321 finished with value: 7656.271794871795 and parameters: {'kErase': 1, 'kRadius': 4, 'kAnnealingA': 4.931384800697865, 'kAnnealingB': 2.4909882622793647, 'kAnnealingStart': 32.78407150835165, 'kSkipRatio': 0.38428079177531116, 'kTargetDeterminationTrials': 6, 'kAttractionRatio': 0.4499883964507365, 'kMaxAttractionDistance': 13, 'kStartAttraction': 0.016610701737210395}. Best is trial 45 with value: 7914.523076923077.\u001b[0m\n"
     ]
    },
    {
     "name": "stdout",
     "output_type": "stream",
     "text": [
      "index_parallel='0323'\n"
     ]
    },
    {
     "name": "stderr",
     "output_type": "stream",
     "text": [
      "\u001b[32m[I 2022-08-16 11:34:46,315]\u001b[0m Trial 323 finished with value: 7214.317948717949 and parameters: {'kErase': 1, 'kRadius': 4, 'kAnnealingA': 3.314501587462812, 'kAnnealingB': 2.682267423766147, 'kAnnealingStart': 24.314137861184136, 'kSkipRatio': 0.3756249548620383, 'kTargetDeterminationTrials': 3, 'kAttractionRatio': 0.13225347587715997, 'kMaxAttractionDistance': 15, 'kStartAttraction': 0.01800642456830422}. Best is trial 45 with value: 7914.523076923077.\u001b[0m\n"
     ]
    },
    {
     "name": "stdout",
     "output_type": "stream",
     "text": [
      "index_parallel='0325'\n"
     ]
    },
    {
     "name": "stderr",
     "output_type": "stream",
     "text": [
      "\u001b[32m[I 2022-08-16 11:38:32,769]\u001b[0m Trial 325 finished with value: 7167.225641025641 and parameters: {'kErase': 2, 'kRadius': 4, 'kAnnealingA': 5.821615855339331, 'kAnnealingB': 2.5385991014411977, 'kAnnealingStart': 26.10342466308059, 'kSkipRatio': 0.4552886066168513, 'kTargetDeterminationTrials': 10, 'kAttractionRatio': 0.19047698969622434, 'kMaxAttractionDistance': 10, 'kStartAttraction': 0.014156067437330637}. Best is trial 45 with value: 7914.523076923077.\u001b[0m\n"
     ]
    },
    {
     "name": "stdout",
     "output_type": "stream",
     "text": [
      "index_parallel='0327'\n"
     ]
    },
    {
     "name": "stderr",
     "output_type": "stream",
     "text": [
      "\u001b[32m[I 2022-08-16 11:42:18,556]\u001b[0m Trial 327 finished with value: 7841.379487179487 and parameters: {'kErase': 1, 'kRadius': 4, 'kAnnealingA': 6.173629450514022, 'kAnnealingB': 2.6745091640049687, 'kAnnealingStart': 23.07060826026942, 'kSkipRatio': 0.3908756580484791, 'kTargetDeterminationTrials': 9, 'kAttractionRatio': 0.4985478158033066, 'kMaxAttractionDistance': 14, 'kStartAttraction': 0.010831265560798614}. Best is trial 45 with value: 7914.523076923077.\u001b[0m\n"
     ]
    },
    {
     "name": "stdout",
     "output_type": "stream",
     "text": [
      "index_parallel='0329'\n"
     ]
    }
   ],
   "source": [
    "study.optimize(\n",
    "    partial(objective, in_dir=in_dir, work_dir=work_dir),\n",
    "    n_trials=3000,\n",
    "    timeout=86400,\n",
    "    callbacks=[callback]\n",
    ")"
   ]
  },
  {
   "cell_type": "code",
   "execution_count": null,
   "id": "700269d2",
   "metadata": {},
   "outputs": [],
   "source": []
  }
 ],
 "metadata": {
  "kernelspec": {
   "display_name": "Python 3 (ipykernel)",
   "language": "python",
   "name": "python3"
  },
  "language_info": {
   "codemirror_mode": {
    "name": "ipython",
    "version": 3
   },
   "file_extension": ".py",
   "mimetype": "text/x-python",
   "name": "python",
   "nbconvert_exporter": "python",
   "pygments_lexer": "ipython3",
   "version": "3.9.12"
  }
 },
 "nbformat": 4,
 "nbformat_minor": 5
}
